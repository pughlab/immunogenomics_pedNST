{
 "cells": [
  {
   "cell_type": "markdown",
   "metadata": {
    "toc": true
   },
   "source": [
    "<h1>Table of Contents<span class=\"tocSkip\"></span></h1>\n",
    "<div class=\"toc\"><ul class=\"toc-item\"><li><span><a href=\"#Dependencies\" data-toc-modified-id=\"Dependencies-1\">Dependencies</a></span></li><li><span><a href=\"#Functions\" data-toc-modified-id=\"Functions-2\">Functions</a></span></li><li><span><a href=\"#Paths\" data-toc-modified-id=\"Paths-3\">Paths</a></span></li><li><span><a href=\"#Main\" data-toc-modified-id=\"Main-4\">Main</a></span><ul class=\"toc-item\"><li><span><a href=\"#list-IGH-files\" data-toc-modified-id=\"list-IGH-files-4.1\">list IGH files</a></span></li></ul></li><li><span><a href=\"#Find-IGH-isotypes\" data-toc-modified-id=\"Find-IGH-isotypes-5\">Find IGH isotypes</a></span><ul class=\"toc-item\"><li><span><a href=\"#IGH-isotypes-in-cohort\" data-toc-modified-id=\"IGH-isotypes-in-cohort-5.1\">IGH isotypes in cohort</a></span></li><li><span><a href=\"#IGH-isotypes-in-immune-clusters\" data-toc-modified-id=\"IGH-isotypes-in-immune-clusters-5.2\">IGH isotypes in immune clusters</a></span></li></ul></li><li><span><a href=\"#IGH-in-MBs\" data-toc-modified-id=\"IGH-in-MBs-6\">IGH in MBs</a></span></li><li><span><a href=\"#Numbers-in-text\" data-toc-modified-id=\"Numbers-in-text-7\">Numbers in text</a></span><ul class=\"toc-item\"><li><span><a href=\"#CDR3-length-histograms\" data-toc-modified-id=\"CDR3-length-histograms-7.1\">CDR3 length histograms</a></span></li></ul></li></ul></div>"
   ]
  },
  {
   "cell_type": "markdown",
   "metadata": {},
   "source": [
    "# Dependencies"
   ]
  },
  {
   "cell_type": "code",
   "execution_count": 1,
   "metadata": {},
   "outputs": [],
   "source": [
    "options(scipen = 999)"
   ]
  },
  {
   "cell_type": "code",
   "execution_count": 2,
   "metadata": {},
   "outputs": [],
   "source": [
    "library(gridExtra)"
   ]
  },
  {
   "cell_type": "code",
   "execution_count": 3,
   "metadata": {
    "scrolled": false
   },
   "outputs": [
    {
     "name": "stderr",
     "output_type": "stream",
     "text": [
      "\n",
      "Attaching package: ‘dplyr’\n",
      "\n",
      "\n",
      "The following objects are masked from ‘package:plyr’:\n",
      "\n",
      "    arrange, count, desc, failwith, id, mutate, rename, summarise,\n",
      "    summarize\n",
      "\n",
      "\n",
      "The following object is masked from ‘package:gridExtra’:\n",
      "\n",
      "    combine\n",
      "\n",
      "\n",
      "The following objects are masked from ‘package:stats’:\n",
      "\n",
      "    filter, lag\n",
      "\n",
      "\n",
      "The following objects are masked from ‘package:base’:\n",
      "\n",
      "    intersect, setdiff, setequal, union\n",
      "\n",
      "\n",
      "Loading required package: lattice\n",
      "\n",
      "Loading required package: survival\n",
      "\n",
      "Loading required package: Formula\n",
      "\n",
      "Loading required package: ggplot2\n",
      "\n",
      "\n",
      "Attaching package: ‘Hmisc’\n",
      "\n",
      "\n",
      "The following objects are masked from ‘package:dplyr’:\n",
      "\n",
      "    src, summarize\n",
      "\n",
      "\n",
      "The following objects are masked from ‘package:plyr’:\n",
      "\n",
      "    is.discrete, summarize\n",
      "\n",
      "\n",
      "The following objects are masked from ‘package:base’:\n",
      "\n",
      "    format.pval, units\n",
      "\n",
      "\n",
      "\n",
      "Attaching package: ‘tidyr’\n",
      "\n",
      "\n",
      "The following object is masked from ‘package:reshape2’:\n",
      "\n",
      "    smiths\n",
      "\n",
      "\n"
     ]
    }
   ],
   "source": [
    "library(plyr)\n",
    "library(dplyr)\n",
    "library(Hmisc)\n",
    "library(reshape2)\n",
    "library(grid)\n",
    "library(gtable)\n",
    "library(tidyr)"
   ]
  },
  {
   "cell_type": "markdown",
   "metadata": {},
   "source": [
    "# Functions"
   ]
  },
  {
   "cell_type": "code",
   "execution_count": 4,
   "metadata": {},
   "outputs": [
    {
     "name": "stderr",
     "output_type": "stream",
     "text": [
      "========================================\n",
      "ComplexHeatmap version 2.6.2\n",
      "Bioconductor page: http://bioconductor.org/packages/ComplexHeatmap/\n",
      "Github page: https://github.com/jokergoo/ComplexHeatmap\n",
      "Documentation: http://jokergoo.github.io/ComplexHeatmap-reference\n",
      "\n",
      "If you use it in published research, please cite:\n",
      "Gu, Z. Complex heatmaps reveal patterns and correlations in multidimensional \n",
      "  genomic data. Bioinformatics 2016.\n",
      "\n",
      "This message can be suppressed by:\n",
      "  suppressPackageStartupMessages(library(ComplexHeatmap))\n",
      "========================================\n",
      "\n",
      "\n",
      "========================================\n",
      "circlize version 0.4.12\n",
      "CRAN page: https://cran.r-project.org/package=circlize\n",
      "Github page: https://github.com/jokergoo/circlize\n",
      "Documentation: https://jokergoo.github.io/circlize_book/book/\n",
      "\n",
      "If you use it in published research, please cite:\n",
      "Gu, Z. circlize implements and enhances circular visualization\n",
      "  in R. Bioinformatics 2014.\n",
      "\n",
      "This message can be suppressed by:\n",
      "  suppressPackageStartupMessages(library(circlize))\n",
      "========================================\n",
      "\n",
      "\n"
     ]
    }
   ],
   "source": [
    "source(\"~/OneDrive - UHN/R_src/ggplot2_theme.R\")\n",
    "source(\"~/OneDrive - UHN/R_src/color_schemes.R\")\n",
    "source(\"~/OneDrive - UHN/R_src/Heatmap_functions.R\")\n",
    "source(\"~/OneDrive - UHN/R_src/Oncoprint_functions.R\")\n",
    "source(\"~/OneDrive - UHN/R_src/diversity_Splot_functions.R\")"
   ]
  },
  {
   "cell_type": "markdown",
   "metadata": {},
   "source": [
    "# Paths"
   ]
  },
  {
   "cell_type": "code",
   "execution_count": 5,
   "metadata": {},
   "outputs": [],
   "source": [
    "mountpath <- \"/Users/anabbi/sbfs_mount/projects/cavatica/9zrh-gcct/\""
   ]
  },
  {
   "cell_type": "code",
   "execution_count": 6,
   "metadata": {},
   "outputs": [],
   "source": [
    "manifestpath <- \"/Users/anabbi/OneDrive - UHN/Documents/IPD2/Manifests/\"\n",
    "datapath <- \"/Users/anabbi/OneDrive - UHN/Documents/IPD2/Data/\"\n",
    "plotpath <- \"/Users/anabbi/OneDrive - UHN/Documents/IPD2/Plots/\""
   ]
  },
  {
   "cell_type": "markdown",
   "metadata": {},
   "source": [
    "# Main"
   ]
  },
  {
   "cell_type": "code",
   "execution_count": 7,
   "metadata": {},
   "outputs": [],
   "source": [
    "load(file = file.path(datapath,\"TME_clusters/IPD_estimate_metadata_IC.RData\"))"
   ]
  },
  {
   "cell_type": "markdown",
   "metadata": {},
   "source": [
    "## list IGH files"
   ]
  },
  {
   "cell_type": "code",
   "execution_count": 8,
   "metadata": {},
   "outputs": [],
   "source": [
    "allfiles <- list.files(paste0(mountpath, \"MIXCR\"), pattern = \"IGH\", full.names = T, recursive = T)"
   ]
  },
  {
   "cell_type": "code",
   "execution_count": 9,
   "metadata": {},
   "outputs": [
    {
     "data": {
      "text/html": [
       "<style>\n",
       ".list-inline {list-style: none; margin:0; padding: 0}\n",
       ".list-inline>li {display: inline-block}\n",
       ".list-inline>li:not(:last-child)::after {content: \"\\00b7\"; padding: 0 .5ex}\n",
       "</style>\n",
       "<ol class=list-inline><li>'/Users/anabbi/sbfs_mount/projects/cavatica/9zrh-gcct/MIXCR/CBTTC/CLONES_IGH_7316-10_717108.txt'</li><li>'/Users/anabbi/sbfs_mount/projects/cavatica/9zrh-gcct/MIXCR/CBTTC/CLONES_IGH_7316-100_601598.txt'</li><li>'/Users/anabbi/sbfs_mount/projects/cavatica/9zrh-gcct/MIXCR/CBTTC/CLONES_IGH_7316-101_588338.txt'</li><li>'/Users/anabbi/sbfs_mount/projects/cavatica/9zrh-gcct/MIXCR/CBTTC/CLONES_IGH_7316-1038_711661.txt'</li><li>'/Users/anabbi/sbfs_mount/projects/cavatica/9zrh-gcct/MIXCR/CBTTC/CLONES_IGH_7316-104_717154.txt'</li><li>'/Users/anabbi/sbfs_mount/projects/cavatica/9zrh-gcct/MIXCR/CBTTC/CLONES_IGH_7316-1052_577728.txt'</li></ol>\n"
      ],
      "text/latex": [
       "\\begin{enumerate*}\n",
       "\\item '/Users/anabbi/sbfs\\_mount/projects/cavatica/9zrh-gcct/MIXCR/CBTTC/CLONES\\_IGH\\_7316-10\\_717108.txt'\n",
       "\\item '/Users/anabbi/sbfs\\_mount/projects/cavatica/9zrh-gcct/MIXCR/CBTTC/CLONES\\_IGH\\_7316-100\\_601598.txt'\n",
       "\\item '/Users/anabbi/sbfs\\_mount/projects/cavatica/9zrh-gcct/MIXCR/CBTTC/CLONES\\_IGH\\_7316-101\\_588338.txt'\n",
       "\\item '/Users/anabbi/sbfs\\_mount/projects/cavatica/9zrh-gcct/MIXCR/CBTTC/CLONES\\_IGH\\_7316-1038\\_711661.txt'\n",
       "\\item '/Users/anabbi/sbfs\\_mount/projects/cavatica/9zrh-gcct/MIXCR/CBTTC/CLONES\\_IGH\\_7316-104\\_717154.txt'\n",
       "\\item '/Users/anabbi/sbfs\\_mount/projects/cavatica/9zrh-gcct/MIXCR/CBTTC/CLONES\\_IGH\\_7316-1052\\_577728.txt'\n",
       "\\end{enumerate*}\n"
      ],
      "text/markdown": [
       "1. '/Users/anabbi/sbfs_mount/projects/cavatica/9zrh-gcct/MIXCR/CBTTC/CLONES_IGH_7316-10_717108.txt'\n",
       "2. '/Users/anabbi/sbfs_mount/projects/cavatica/9zrh-gcct/MIXCR/CBTTC/CLONES_IGH_7316-100_601598.txt'\n",
       "3. '/Users/anabbi/sbfs_mount/projects/cavatica/9zrh-gcct/MIXCR/CBTTC/CLONES_IGH_7316-101_588338.txt'\n",
       "4. '/Users/anabbi/sbfs_mount/projects/cavatica/9zrh-gcct/MIXCR/CBTTC/CLONES_IGH_7316-1038_711661.txt'\n",
       "5. '/Users/anabbi/sbfs_mount/projects/cavatica/9zrh-gcct/MIXCR/CBTTC/CLONES_IGH_7316-104_717154.txt'\n",
       "6. '/Users/anabbi/sbfs_mount/projects/cavatica/9zrh-gcct/MIXCR/CBTTC/CLONES_IGH_7316-1052_577728.txt'\n",
       "\n",
       "\n"
      ],
      "text/plain": [
       "[1] \"/Users/anabbi/sbfs_mount/projects/cavatica/9zrh-gcct/MIXCR/CBTTC/CLONES_IGH_7316-10_717108.txt\"  \n",
       "[2] \"/Users/anabbi/sbfs_mount/projects/cavatica/9zrh-gcct/MIXCR/CBTTC/CLONES_IGH_7316-100_601598.txt\" \n",
       "[3] \"/Users/anabbi/sbfs_mount/projects/cavatica/9zrh-gcct/MIXCR/CBTTC/CLONES_IGH_7316-101_588338.txt\" \n",
       "[4] \"/Users/anabbi/sbfs_mount/projects/cavatica/9zrh-gcct/MIXCR/CBTTC/CLONES_IGH_7316-1038_711661.txt\"\n",
       "[5] \"/Users/anabbi/sbfs_mount/projects/cavatica/9zrh-gcct/MIXCR/CBTTC/CLONES_IGH_7316-104_717154.txt\" \n",
       "[6] \"/Users/anabbi/sbfs_mount/projects/cavatica/9zrh-gcct/MIXCR/CBTTC/CLONES_IGH_7316-1052_577728.txt\""
      ]
     },
     "metadata": {},
     "output_type": "display_data"
    }
   ],
   "source": [
    "head(allfiles)"
   ]
  },
  {
   "cell_type": "markdown",
   "metadata": {},
   "source": [
    "exclude tcga"
   ]
  },
  {
   "cell_type": "code",
   "execution_count": 10,
   "metadata": {},
   "outputs": [],
   "source": [
    "allfiles <- allfiles[!grepl(\"TCGA\", allfiles)]"
   ]
  },
  {
   "cell_type": "markdown",
   "metadata": {},
   "source": [
    "remove clustered files"
   ]
  },
  {
   "cell_type": "code",
   "execution_count": 11,
   "metadata": {},
   "outputs": [],
   "source": [
    "allfiles <- allfiles[!grepl(\"Clustered\", allfiles)]"
   ]
  },
  {
   "cell_type": "markdown",
   "metadata": {},
   "source": [
    "find empty files and remove"
   ]
  },
  {
   "cell_type": "code",
   "execution_count": 12,
   "metadata": {},
   "outputs": [
    {
     "data": {
      "text/html": [
       "12"
      ],
      "text/latex": [
       "12"
      ],
      "text/markdown": [
       "12"
      ],
      "text/plain": [
       "[1] 12"
      ]
     },
     "metadata": {},
     "output_type": "display_data"
    }
   ],
   "source": [
    "length(readLines(allfiles[1]))"
   ]
  },
  {
   "cell_type": "code",
   "execution_count": 13,
   "metadata": {},
   "outputs": [],
   "source": [
    "tmp <- lapply(allfiles, function(f){length(readLines(f))})"
   ]
  },
  {
   "cell_type": "code",
   "execution_count": 14,
   "metadata": {},
   "outputs": [],
   "source": [
    "names(tmp) <- allfiles"
   ]
  },
  {
   "cell_type": "code",
   "execution_count": 15,
   "metadata": {},
   "outputs": [
    {
     "data": {
      "text/html": [
       "<dl>\n",
       "\t<dt>$`/Users/anabbi/sbfs_mount/projects/cavatica/9zrh-gcct/MIXCR/CBTTC/CLONES_IGH_7316-10_717108.txt`</dt>\n",
       "\t\t<dd>12</dd>\n",
       "\t<dt>$`/Users/anabbi/sbfs_mount/projects/cavatica/9zrh-gcct/MIXCR/CBTTC/CLONES_IGH_7316-100_601598.txt`</dt>\n",
       "\t\t<dd>356</dd>\n",
       "\t<dt>$`/Users/anabbi/sbfs_mount/projects/cavatica/9zrh-gcct/MIXCR/CBTTC/CLONES_IGH_7316-101_588338.txt`</dt>\n",
       "\t\t<dd>5</dd>\n",
       "\t<dt>$`/Users/anabbi/sbfs_mount/projects/cavatica/9zrh-gcct/MIXCR/CBTTC/CLONES_IGH_7316-1038_711661.txt`</dt>\n",
       "\t\t<dd>19</dd>\n",
       "\t<dt>$`/Users/anabbi/sbfs_mount/projects/cavatica/9zrh-gcct/MIXCR/CBTTC/CLONES_IGH_7316-104_717154.txt`</dt>\n",
       "\t\t<dd>13</dd>\n",
       "\t<dt>$`/Users/anabbi/sbfs_mount/projects/cavatica/9zrh-gcct/MIXCR/CBTTC/CLONES_IGH_7316-1052_577728.txt`</dt>\n",
       "\t\t<dd>1</dd>\n",
       "</dl>\n"
      ],
      "text/latex": [
       "\\begin{description}\n",
       "\\item[\\$`/Users/anabbi/sbfs\\_mount/projects/cavatica/9zrh-gcct/MIXCR/CBTTC/CLONES\\_IGH\\_7316-10\\_717108.txt`] 12\n",
       "\\item[\\$`/Users/anabbi/sbfs\\_mount/projects/cavatica/9zrh-gcct/MIXCR/CBTTC/CLONES\\_IGH\\_7316-100\\_601598.txt`] 356\n",
       "\\item[\\$`/Users/anabbi/sbfs\\_mount/projects/cavatica/9zrh-gcct/MIXCR/CBTTC/CLONES\\_IGH\\_7316-101\\_588338.txt`] 5\n",
       "\\item[\\$`/Users/anabbi/sbfs\\_mount/projects/cavatica/9zrh-gcct/MIXCR/CBTTC/CLONES\\_IGH\\_7316-1038\\_711661.txt`] 19\n",
       "\\item[\\$`/Users/anabbi/sbfs\\_mount/projects/cavatica/9zrh-gcct/MIXCR/CBTTC/CLONES\\_IGH\\_7316-104\\_717154.txt`] 13\n",
       "\\item[\\$`/Users/anabbi/sbfs\\_mount/projects/cavatica/9zrh-gcct/MIXCR/CBTTC/CLONES\\_IGH\\_7316-1052\\_577728.txt`] 1\n",
       "\\end{description}\n"
      ],
      "text/markdown": [
       "$`/Users/anabbi/sbfs_mount/projects/cavatica/9zrh-gcct/MIXCR/CBTTC/CLONES_IGH_7316-10_717108.txt`\n",
       ":   12\n",
       "$`/Users/anabbi/sbfs_mount/projects/cavatica/9zrh-gcct/MIXCR/CBTTC/CLONES_IGH_7316-100_601598.txt`\n",
       ":   356\n",
       "$`/Users/anabbi/sbfs_mount/projects/cavatica/9zrh-gcct/MIXCR/CBTTC/CLONES_IGH_7316-101_588338.txt`\n",
       ":   5\n",
       "$`/Users/anabbi/sbfs_mount/projects/cavatica/9zrh-gcct/MIXCR/CBTTC/CLONES_IGH_7316-1038_711661.txt`\n",
       ":   19\n",
       "$`/Users/anabbi/sbfs_mount/projects/cavatica/9zrh-gcct/MIXCR/CBTTC/CLONES_IGH_7316-104_717154.txt`\n",
       ":   13\n",
       "$`/Users/anabbi/sbfs_mount/projects/cavatica/9zrh-gcct/MIXCR/CBTTC/CLONES_IGH_7316-1052_577728.txt`\n",
       ":   1\n",
       "\n",
       "\n"
      ],
      "text/plain": [
       "$`/Users/anabbi/sbfs_mount/projects/cavatica/9zrh-gcct/MIXCR/CBTTC/CLONES_IGH_7316-10_717108.txt`\n",
       "[1] 12\n",
       "\n",
       "$`/Users/anabbi/sbfs_mount/projects/cavatica/9zrh-gcct/MIXCR/CBTTC/CLONES_IGH_7316-100_601598.txt`\n",
       "[1] 356\n",
       "\n",
       "$`/Users/anabbi/sbfs_mount/projects/cavatica/9zrh-gcct/MIXCR/CBTTC/CLONES_IGH_7316-101_588338.txt`\n",
       "[1] 5\n",
       "\n",
       "$`/Users/anabbi/sbfs_mount/projects/cavatica/9zrh-gcct/MIXCR/CBTTC/CLONES_IGH_7316-1038_711661.txt`\n",
       "[1] 19\n",
       "\n",
       "$`/Users/anabbi/sbfs_mount/projects/cavatica/9zrh-gcct/MIXCR/CBTTC/CLONES_IGH_7316-104_717154.txt`\n",
       "[1] 13\n",
       "\n",
       "$`/Users/anabbi/sbfs_mount/projects/cavatica/9zrh-gcct/MIXCR/CBTTC/CLONES_IGH_7316-1052_577728.txt`\n",
       "[1] 1\n"
      ]
     },
     "metadata": {},
     "output_type": "display_data"
    }
   ],
   "source": [
    "head(tmp)"
   ]
  },
  {
   "cell_type": "markdown",
   "metadata": {},
   "source": [
    "add all non-empty files in a list"
   ]
  },
  {
   "cell_type": "code",
   "execution_count": 16,
   "metadata": {},
   "outputs": [],
   "source": [
    "all.files <- lapply(names(tmp)[tmp >1], \n",
    "                    function(f){read.table(f, header = TRUE, sep = \"\\t\", stringsAsFactors = F)})"
   ]
  },
  {
   "cell_type": "markdown",
   "metadata": {},
   "source": [
    "Add filenames as names"
   ]
  },
  {
   "cell_type": "code",
   "execution_count": 17,
   "metadata": {},
   "outputs": [],
   "source": [
    "myfilesnames <- names(tmp)[tmp >1]"
   ]
  },
  {
   "cell_type": "code",
   "execution_count": 18,
   "metadata": {},
   "outputs": [],
   "source": [
    "names(all.files) <- gsub(\".*CLONES_IGH_\", \"\", myfilesnames)\n",
    "names(all.files) <- gsub(\".txt\", \"\", names(all.files))"
   ]
  },
  {
   "cell_type": "markdown",
   "metadata": {},
   "source": [
    "bind all in a df"
   ]
  },
  {
   "cell_type": "code",
   "execution_count": 19,
   "metadata": {},
   "outputs": [],
   "source": [
    "all <- do.call(\"rbind\", all.files)"
   ]
  },
  {
   "cell_type": "code",
   "execution_count": 20,
   "metadata": {},
   "outputs": [
    {
     "data": {
      "text/html": [
       "<table class=\"dataframe\">\n",
       "<caption>A data.frame: 6 × 35</caption>\n",
       "<thead>\n",
       "\t<tr><th></th><th scope=col>cloneId</th><th scope=col>cloneCount</th><th scope=col>cloneFraction</th><th scope=col>clonalSequence</th><th scope=col>clonalSequenceQuality</th><th scope=col>allVHitsWithScore</th><th scope=col>allDHitsWithScore</th><th scope=col>allJHitsWithScore</th><th scope=col>allCHitsWithScore</th><th scope=col>allVAlignments</th><th scope=col>⋯</th><th scope=col>nSeqFR4</th><th scope=col>minQualFR4</th><th scope=col>aaSeqFR1</th><th scope=col>aaSeqCDR1</th><th scope=col>aaSeqFR2</th><th scope=col>aaSeqCDR2</th><th scope=col>aaSeqFR3</th><th scope=col>aaSeqCDR3</th><th scope=col>aaSeqFR4</th><th scope=col>refPoints</th></tr>\n",
       "\t<tr><th></th><th scope=col>&lt;int&gt;</th><th scope=col>&lt;int&gt;</th><th scope=col>&lt;dbl&gt;</th><th scope=col>&lt;chr&gt;</th><th scope=col>&lt;chr&gt;</th><th scope=col>&lt;chr&gt;</th><th scope=col>&lt;chr&gt;</th><th scope=col>&lt;chr&gt;</th><th scope=col>&lt;chr&gt;</th><th scope=col>&lt;chr&gt;</th><th scope=col>⋯</th><th scope=col>&lt;lgl&gt;</th><th scope=col>&lt;lgl&gt;</th><th scope=col>&lt;lgl&gt;</th><th scope=col>&lt;lgl&gt;</th><th scope=col>&lt;lgl&gt;</th><th scope=col>&lt;lgl&gt;</th><th scope=col>&lt;lgl&gt;</th><th scope=col>&lt;chr&gt;</th><th scope=col>&lt;lgl&gt;</th><th scope=col>&lt;chr&gt;</th></tr>\n",
       "</thead>\n",
       "<tbody>\n",
       "\t<tr><th scope=row>7316-10_717108.1</th><td>0</td><td>6</td><td>0.22222222</td><td>TGTGCGAAAGGGAGGGCGACTATGTTGGGCTCCTTTGCCTACTGG                     </td><td>FFFFFFFFFFFFFFFFFFFFFFFFFFFFFFFFFFFFFFFFFFFFF                     </td><td>IGHV3-30*00(395.7),IGHV3-53*00(395.7),IGHV3-66*00(395.7),IGHV3-23*00(394.7),IGHV3-33*00(379.7)</td><td>IGHD3-10*00(30),IGHD3-22*00(30)               </td><td>IGHJ4*00(143.3)            </td><td>IGHA1*00(352.3)                          </td><td>342|349|373|0|7||35.0;339|346|370|0|7||35.0;339|346|370|0|7||35.0;342|352|373|0|10||50.0;342|349|373|0|7||35.0    </td><td>⋯</td><td>NA</td><td>NA</td><td>NA</td><td>NA</td><td>NA</td><td>NA</td><td>NA</td><td>CAKGRATMLGSFAYW       </td><td>NA</td><td>:::::::::0:-4:7:18:-5:-20:24:32:-4:45:::  </td></tr>\n",
       "\t<tr><th scope=row>7316-10_717108.2</th><td>1</td><td>5</td><td>0.18518519</td><td>TGTGCGAGAGATGATGATACTAGTGGACATTACGGGTTATTTCACTACTGG               </td><td>FFFFFFFFFFFFFFFFFFFFFFFFFFFFFFFFFFFFFFFFFFFFFFFFFFF               </td><td>IGHV3-33*00(287),IGHV3-30*00(272),IGHV3-48*00(271),IGHV3-66*00(256),IGHV3-7*00(255)           </td><td>IGHD3-22*00(52)                               </td><td>IGHJ4*00(183)              </td><td>IGHA2*00(240)                            </td><td>342|354|373|0|12||60.0;342|354|373|0|12||60.0;342|354|373|0|12||60.0;339|351|370|0|12||60.0;342|354|373|0|12||60.0</td><td>⋯</td><td>NA</td><td>NA</td><td>NA</td><td>NA</td><td>NA</td><td>NA</td><td>NA</td><td>CARDDDTSGHYGLFHYW     </td><td>NA</td><td>:::::::::0:1:12:13:-8:-3:33:39:-5:51:::   </td></tr>\n",
       "\t<tr><th scope=row>7316-10_717108.3</th><td>3</td><td>4</td><td>0.14814815</td><td>TGTGCGCGAGACGCAGCCATTGAGTACTTCGAGTACTGG                           </td><td>FFFFFFFFFFFFFFFFFFFFFFFFFFFFFFFFFFFFFFF                           </td><td>IGHV3-60*00(92)                                                                               </td><td>IGHD5-24*00(30),IGHD6-19*00(30)               </td><td>IGHJ1*00(170)              </td><td>IGHA1*00(315)                            </td><td>343|347|374|0|4||20.0                                                                                             </td><td>⋯</td><td>NA</td><td>NA</td><td>NA</td><td>NA</td><td>NA</td><td>NA</td><td>NA</td><td>CARDAAIEYFEYW         </td><td>NA</td><td>:::::::::0:-7:4:14:12:-26:20:20:-2:39:::  </td></tr>\n",
       "\t<tr><th scope=row>7316-10_717108.4</th><td>4</td><td>3</td><td>0.11111111</td><td>TGTGCGAGTCTGGATACAGCTATAAGTCCTGTCAATGCCTACTGG                     </td><td>FFFFFFFFFFFFFFFFFFFFFFFFFFFFFFFFFFFFFFFFFFFFF                     </td><td>IGHV3-7*00(678)                                                                               </td><td>IGHD5-18*00(65),IGHD5-5*00(65)                </td><td>IGHJ4*00(190),IGHJ5*00(175)</td><td>IGHG1*00(104),IGHG2*00(104),IGHGP*00(104)</td><td>342|350|373|0|8||40.0                                                                                             </td><td>⋯</td><td>NA</td><td>NA</td><td>NA</td><td>NA</td><td>NA</td><td>NA</td><td>NA</td><td>CASLDTAISPVNAYW       </td><td>NA</td><td>:::::::::0:-3:8:10:-1:-6:23:38:-10:45:::  </td></tr>\n",
       "\t<tr><th scope=row>7316-10_717108.5</th><td>5</td><td>3</td><td>0.11111111</td><td>TGTGCGAGAGACTGGGGGAGTGGTTATTTGGTCCATGACTACTGG                     </td><td>FFFFFFFFFFFFFFFFFFFFFFFFFFFFFFFFFFFFFFFFFFFFF                     </td><td>IGHV1-18*00(138),IGHV1-2*00(138),IGHV3-11*00(138),IGHV3-53*00(138),IGHV4-4*00(122)            </td><td>IGHD3-3*00(60)                                </td><td>IGHJ4*00(205)              </td><td>IGHG1*00(154),IGHG2*00(154),IGHGP*00(138)</td><td>342|353|373|0|11||55.0;342|353|373|0|11||55.0;342|353|373|0|11||55.0;339|350|370|0|11||55.0;339|350|370|0|11||55.0</td><td>⋯</td><td>NA</td><td>NA</td><td>NA</td><td>NA</td><td>NA</td><td>NA</td><td>NA</td><td>CARDWGSGYLVHDYW       </td><td>NA</td><td>:::::::::0:0:11:16:-14:-5:28:35:-7:45:::  </td></tr>\n",
       "\t<tr><th scope=row>7316-10_717108.6</th><td>9</td><td>1</td><td>0.03703704</td><td>TGTGCGAGACACCCCCCTGTCCGGGGAATTTTCGCTGCAGAATATTACTACTACATGGACGTCTGG</td><td>FFFFFFFFFFFFFFFFFFFFFFFFFFFFFFFFFFFFFFFFFFFFFFFFFFFFFFFFFFFFFFFFFF</td><td>IGHV3-23*00(99),IGHV4-31*00(93),IGHV4-4*00(93),IGHV4-59*00(93),IGHV4-61*00(93)                </td><td>IGHD3-10*00(30),IGHD6-25*00(30),IGHD6-6*00(30)</td><td>IGHJ6*00(196)              </td><td>                                         </td><td>342|349|373|0|7||35.0;345|354|376|0|9||45.0;339|348|370|0|9||45.0;339|348|370|0|9||45.0;345|354|376|0|9||45.0     </td><td>⋯</td><td>NA</td><td>NA</td><td>NA</td><td>NA</td><td>NA</td><td>NA</td><td>NA</td><td>CARHPPVRGIFAAEYYYYMDVW</td><td>NA</td><td>:::::::::0:-4:7:21:-14:-11:27:45:-11:66:::</td></tr>\n",
       "</tbody>\n",
       "</table>\n"
      ],
      "text/latex": [
       "A data.frame: 6 × 35\n",
       "\\begin{tabular}{r|lllllllllllllllllllll}\n",
       "  & cloneId & cloneCount & cloneFraction & clonalSequence & clonalSequenceQuality & allVHitsWithScore & allDHitsWithScore & allJHitsWithScore & allCHitsWithScore & allVAlignments & ⋯ & nSeqFR4 & minQualFR4 & aaSeqFR1 & aaSeqCDR1 & aaSeqFR2 & aaSeqCDR2 & aaSeqFR3 & aaSeqCDR3 & aaSeqFR4 & refPoints\\\\\n",
       "  & <int> & <int> & <dbl> & <chr> & <chr> & <chr> & <chr> & <chr> & <chr> & <chr> & ⋯ & <lgl> & <lgl> & <lgl> & <lgl> & <lgl> & <lgl> & <lgl> & <chr> & <lgl> & <chr>\\\\\n",
       "\\hline\n",
       "\t7316-10\\_717108.1 & 0 & 6 & 0.22222222 & TGTGCGAAAGGGAGGGCGACTATGTTGGGCTCCTTTGCCTACTGG                      & FFFFFFFFFFFFFFFFFFFFFFFFFFFFFFFFFFFFFFFFFFFFF                      & IGHV3-30*00(395.7),IGHV3-53*00(395.7),IGHV3-66*00(395.7),IGHV3-23*00(394.7),IGHV3-33*00(379.7) & IGHD3-10*00(30),IGHD3-22*00(30)                & IGHJ4*00(143.3)             & IGHA1*00(352.3)                           & 342\\textbar{}349\\textbar{}373\\textbar{}0\\textbar{}7\\textbar{}\\textbar{}35.0;339\\textbar{}346\\textbar{}370\\textbar{}0\\textbar{}7\\textbar{}\\textbar{}35.0;339\\textbar{}346\\textbar{}370\\textbar{}0\\textbar{}7\\textbar{}\\textbar{}35.0;342\\textbar{}352\\textbar{}373\\textbar{}0\\textbar{}10\\textbar{}\\textbar{}50.0;342\\textbar{}349\\textbar{}373\\textbar{}0\\textbar{}7\\textbar{}\\textbar{}35.0     & ⋯ & NA & NA & NA & NA & NA & NA & NA & CAKGRATMLGSFAYW        & NA & :::::::::0:-4:7:18:-5:-20:24:32:-4:45:::  \\\\\n",
       "\t7316-10\\_717108.2 & 1 & 5 & 0.18518519 & TGTGCGAGAGATGATGATACTAGTGGACATTACGGGTTATTTCACTACTGG                & FFFFFFFFFFFFFFFFFFFFFFFFFFFFFFFFFFFFFFFFFFFFFFFFFFF                & IGHV3-33*00(287),IGHV3-30*00(272),IGHV3-48*00(271),IGHV3-66*00(256),IGHV3-7*00(255)            & IGHD3-22*00(52)                                & IGHJ4*00(183)               & IGHA2*00(240)                             & 342\\textbar{}354\\textbar{}373\\textbar{}0\\textbar{}12\\textbar{}\\textbar{}60.0;342\\textbar{}354\\textbar{}373\\textbar{}0\\textbar{}12\\textbar{}\\textbar{}60.0;342\\textbar{}354\\textbar{}373\\textbar{}0\\textbar{}12\\textbar{}\\textbar{}60.0;339\\textbar{}351\\textbar{}370\\textbar{}0\\textbar{}12\\textbar{}\\textbar{}60.0;342\\textbar{}354\\textbar{}373\\textbar{}0\\textbar{}12\\textbar{}\\textbar{}60.0 & ⋯ & NA & NA & NA & NA & NA & NA & NA & CARDDDTSGHYGLFHYW      & NA & :::::::::0:1:12:13:-8:-3:33:39:-5:51:::   \\\\\n",
       "\t7316-10\\_717108.3 & 3 & 4 & 0.14814815 & TGTGCGCGAGACGCAGCCATTGAGTACTTCGAGTACTGG                            & FFFFFFFFFFFFFFFFFFFFFFFFFFFFFFFFFFFFFFF                            & IGHV3-60*00(92)                                                                                & IGHD5-24*00(30),IGHD6-19*00(30)                & IGHJ1*00(170)               & IGHA1*00(315)                             & 343\\textbar{}347\\textbar{}374\\textbar{}0\\textbar{}4\\textbar{}\\textbar{}20.0                                                                                              & ⋯ & NA & NA & NA & NA & NA & NA & NA & CARDAAIEYFEYW          & NA & :::::::::0:-7:4:14:12:-26:20:20:-2:39:::  \\\\\n",
       "\t7316-10\\_717108.4 & 4 & 3 & 0.11111111 & TGTGCGAGTCTGGATACAGCTATAAGTCCTGTCAATGCCTACTGG                      & FFFFFFFFFFFFFFFFFFFFFFFFFFFFFFFFFFFFFFFFFFFFF                      & IGHV3-7*00(678)                                                                                & IGHD5-18*00(65),IGHD5-5*00(65)                 & IGHJ4*00(190),IGHJ5*00(175) & IGHG1*00(104),IGHG2*00(104),IGHGP*00(104) & 342\\textbar{}350\\textbar{}373\\textbar{}0\\textbar{}8\\textbar{}\\textbar{}40.0                                                                                              & ⋯ & NA & NA & NA & NA & NA & NA & NA & CASLDTAISPVNAYW        & NA & :::::::::0:-3:8:10:-1:-6:23:38:-10:45:::  \\\\\n",
       "\t7316-10\\_717108.5 & 5 & 3 & 0.11111111 & TGTGCGAGAGACTGGGGGAGTGGTTATTTGGTCCATGACTACTGG                      & FFFFFFFFFFFFFFFFFFFFFFFFFFFFFFFFFFFFFFFFFFFFF                      & IGHV1-18*00(138),IGHV1-2*00(138),IGHV3-11*00(138),IGHV3-53*00(138),IGHV4-4*00(122)             & IGHD3-3*00(60)                                 & IGHJ4*00(205)               & IGHG1*00(154),IGHG2*00(154),IGHGP*00(138) & 342\\textbar{}353\\textbar{}373\\textbar{}0\\textbar{}11\\textbar{}\\textbar{}55.0;342\\textbar{}353\\textbar{}373\\textbar{}0\\textbar{}11\\textbar{}\\textbar{}55.0;342\\textbar{}353\\textbar{}373\\textbar{}0\\textbar{}11\\textbar{}\\textbar{}55.0;339\\textbar{}350\\textbar{}370\\textbar{}0\\textbar{}11\\textbar{}\\textbar{}55.0;339\\textbar{}350\\textbar{}370\\textbar{}0\\textbar{}11\\textbar{}\\textbar{}55.0 & ⋯ & NA & NA & NA & NA & NA & NA & NA & CARDWGSGYLVHDYW        & NA & :::::::::0:0:11:16:-14:-5:28:35:-7:45:::  \\\\\n",
       "\t7316-10\\_717108.6 & 9 & 1 & 0.03703704 & TGTGCGAGACACCCCCCTGTCCGGGGAATTTTCGCTGCAGAATATTACTACTACATGGACGTCTGG & FFFFFFFFFFFFFFFFFFFFFFFFFFFFFFFFFFFFFFFFFFFFFFFFFFFFFFFFFFFFFFFFFF & IGHV3-23*00(99),IGHV4-31*00(93),IGHV4-4*00(93),IGHV4-59*00(93),IGHV4-61*00(93)                 & IGHD3-10*00(30),IGHD6-25*00(30),IGHD6-6*00(30) & IGHJ6*00(196)               &                                           & 342\\textbar{}349\\textbar{}373\\textbar{}0\\textbar{}7\\textbar{}\\textbar{}35.0;345\\textbar{}354\\textbar{}376\\textbar{}0\\textbar{}9\\textbar{}\\textbar{}45.0;339\\textbar{}348\\textbar{}370\\textbar{}0\\textbar{}9\\textbar{}\\textbar{}45.0;339\\textbar{}348\\textbar{}370\\textbar{}0\\textbar{}9\\textbar{}\\textbar{}45.0;345\\textbar{}354\\textbar{}376\\textbar{}0\\textbar{}9\\textbar{}\\textbar{}45.0      & ⋯ & NA & NA & NA & NA & NA & NA & NA & CARHPPVRGIFAAEYYYYMDVW & NA & :::::::::0:-4:7:21:-14:-11:27:45:-11:66:::\\\\\n",
       "\\end{tabular}\n"
      ],
      "text/markdown": [
       "\n",
       "A data.frame: 6 × 35\n",
       "\n",
       "| <!--/--> | cloneId &lt;int&gt; | cloneCount &lt;int&gt; | cloneFraction &lt;dbl&gt; | clonalSequence &lt;chr&gt; | clonalSequenceQuality &lt;chr&gt; | allVHitsWithScore &lt;chr&gt; | allDHitsWithScore &lt;chr&gt; | allJHitsWithScore &lt;chr&gt; | allCHitsWithScore &lt;chr&gt; | allVAlignments &lt;chr&gt; | ⋯ ⋯ | nSeqFR4 &lt;lgl&gt; | minQualFR4 &lt;lgl&gt; | aaSeqFR1 &lt;lgl&gt; | aaSeqCDR1 &lt;lgl&gt; | aaSeqFR2 &lt;lgl&gt; | aaSeqCDR2 &lt;lgl&gt; | aaSeqFR3 &lt;lgl&gt; | aaSeqCDR3 &lt;chr&gt; | aaSeqFR4 &lt;lgl&gt; | refPoints &lt;chr&gt; |\n",
       "|---|---|---|---|---|---|---|---|---|---|---|---|---|---|---|---|---|---|---|---|---|---|\n",
       "| 7316-10_717108.1 | 0 | 6 | 0.22222222 | TGTGCGAAAGGGAGGGCGACTATGTTGGGCTCCTTTGCCTACTGG                      | FFFFFFFFFFFFFFFFFFFFFFFFFFFFFFFFFFFFFFFFFFFFF                      | IGHV3-30*00(395.7),IGHV3-53*00(395.7),IGHV3-66*00(395.7),IGHV3-23*00(394.7),IGHV3-33*00(379.7) | IGHD3-10*00(30),IGHD3-22*00(30)                | IGHJ4*00(143.3)             | IGHA1*00(352.3)                           | 342|349|373|0|7||35.0;339|346|370|0|7||35.0;339|346|370|0|7||35.0;342|352|373|0|10||50.0;342|349|373|0|7||35.0     | ⋯ | NA | NA | NA | NA | NA | NA | NA | CAKGRATMLGSFAYW        | NA | :::::::::0:-4:7:18:-5:-20:24:32:-4:45:::   |\n",
       "| 7316-10_717108.2 | 1 | 5 | 0.18518519 | TGTGCGAGAGATGATGATACTAGTGGACATTACGGGTTATTTCACTACTGG                | FFFFFFFFFFFFFFFFFFFFFFFFFFFFFFFFFFFFFFFFFFFFFFFFFFF                | IGHV3-33*00(287),IGHV3-30*00(272),IGHV3-48*00(271),IGHV3-66*00(256),IGHV3-7*00(255)            | IGHD3-22*00(52)                                | IGHJ4*00(183)               | IGHA2*00(240)                             | 342|354|373|0|12||60.0;342|354|373|0|12||60.0;342|354|373|0|12||60.0;339|351|370|0|12||60.0;342|354|373|0|12||60.0 | ⋯ | NA | NA | NA | NA | NA | NA | NA | CARDDDTSGHYGLFHYW      | NA | :::::::::0:1:12:13:-8:-3:33:39:-5:51:::    |\n",
       "| 7316-10_717108.3 | 3 | 4 | 0.14814815 | TGTGCGCGAGACGCAGCCATTGAGTACTTCGAGTACTGG                            | FFFFFFFFFFFFFFFFFFFFFFFFFFFFFFFFFFFFFFF                            | IGHV3-60*00(92)                                                                                | IGHD5-24*00(30),IGHD6-19*00(30)                | IGHJ1*00(170)               | IGHA1*00(315)                             | 343|347|374|0|4||20.0                                                                                              | ⋯ | NA | NA | NA | NA | NA | NA | NA | CARDAAIEYFEYW          | NA | :::::::::0:-7:4:14:12:-26:20:20:-2:39:::   |\n",
       "| 7316-10_717108.4 | 4 | 3 | 0.11111111 | TGTGCGAGTCTGGATACAGCTATAAGTCCTGTCAATGCCTACTGG                      | FFFFFFFFFFFFFFFFFFFFFFFFFFFFFFFFFFFFFFFFFFFFF                      | IGHV3-7*00(678)                                                                                | IGHD5-18*00(65),IGHD5-5*00(65)                 | IGHJ4*00(190),IGHJ5*00(175) | IGHG1*00(104),IGHG2*00(104),IGHGP*00(104) | 342|350|373|0|8||40.0                                                                                              | ⋯ | NA | NA | NA | NA | NA | NA | NA | CASLDTAISPVNAYW        | NA | :::::::::0:-3:8:10:-1:-6:23:38:-10:45:::   |\n",
       "| 7316-10_717108.5 | 5 | 3 | 0.11111111 | TGTGCGAGAGACTGGGGGAGTGGTTATTTGGTCCATGACTACTGG                      | FFFFFFFFFFFFFFFFFFFFFFFFFFFFFFFFFFFFFFFFFFFFF                      | IGHV1-18*00(138),IGHV1-2*00(138),IGHV3-11*00(138),IGHV3-53*00(138),IGHV4-4*00(122)             | IGHD3-3*00(60)                                 | IGHJ4*00(205)               | IGHG1*00(154),IGHG2*00(154),IGHGP*00(138) | 342|353|373|0|11||55.0;342|353|373|0|11||55.0;342|353|373|0|11||55.0;339|350|370|0|11||55.0;339|350|370|0|11||55.0 | ⋯ | NA | NA | NA | NA | NA | NA | NA | CARDWGSGYLVHDYW        | NA | :::::::::0:0:11:16:-14:-5:28:35:-7:45:::   |\n",
       "| 7316-10_717108.6 | 9 | 1 | 0.03703704 | TGTGCGAGACACCCCCCTGTCCGGGGAATTTTCGCTGCAGAATATTACTACTACATGGACGTCTGG | FFFFFFFFFFFFFFFFFFFFFFFFFFFFFFFFFFFFFFFFFFFFFFFFFFFFFFFFFFFFFFFFFF | IGHV3-23*00(99),IGHV4-31*00(93),IGHV4-4*00(93),IGHV4-59*00(93),IGHV4-61*00(93)                 | IGHD3-10*00(30),IGHD6-25*00(30),IGHD6-6*00(30) | IGHJ6*00(196)               | <!----> | 342|349|373|0|7||35.0;345|354|376|0|9||45.0;339|348|370|0|9||45.0;339|348|370|0|9||45.0;345|354|376|0|9||45.0      | ⋯ | NA | NA | NA | NA | NA | NA | NA | CARHPPVRGIFAAEYYYYMDVW | NA | :::::::::0:-4:7:21:-14:-11:27:45:-11:66::: |\n",
       "\n"
      ],
      "text/plain": [
       "                 cloneId cloneCount cloneFraction\n",
       "7316-10_717108.1 0       6          0.22222222   \n",
       "7316-10_717108.2 1       5          0.18518519   \n",
       "7316-10_717108.3 3       4          0.14814815   \n",
       "7316-10_717108.4 4       3          0.11111111   \n",
       "7316-10_717108.5 5       3          0.11111111   \n",
       "7316-10_717108.6 9       1          0.03703704   \n",
       "                 clonalSequence                                                    \n",
       "7316-10_717108.1 TGTGCGAAAGGGAGGGCGACTATGTTGGGCTCCTTTGCCTACTGG                     \n",
       "7316-10_717108.2 TGTGCGAGAGATGATGATACTAGTGGACATTACGGGTTATTTCACTACTGG               \n",
       "7316-10_717108.3 TGTGCGCGAGACGCAGCCATTGAGTACTTCGAGTACTGG                           \n",
       "7316-10_717108.4 TGTGCGAGTCTGGATACAGCTATAAGTCCTGTCAATGCCTACTGG                     \n",
       "7316-10_717108.5 TGTGCGAGAGACTGGGGGAGTGGTTATTTGGTCCATGACTACTGG                     \n",
       "7316-10_717108.6 TGTGCGAGACACCCCCCTGTCCGGGGAATTTTCGCTGCAGAATATTACTACTACATGGACGTCTGG\n",
       "                 clonalSequenceQuality                                             \n",
       "7316-10_717108.1 FFFFFFFFFFFFFFFFFFFFFFFFFFFFFFFFFFFFFFFFFFFFF                     \n",
       "7316-10_717108.2 FFFFFFFFFFFFFFFFFFFFFFFFFFFFFFFFFFFFFFFFFFFFFFFFFFF               \n",
       "7316-10_717108.3 FFFFFFFFFFFFFFFFFFFFFFFFFFFFFFFFFFFFFFF                           \n",
       "7316-10_717108.4 FFFFFFFFFFFFFFFFFFFFFFFFFFFFFFFFFFFFFFFFFFFFF                     \n",
       "7316-10_717108.5 FFFFFFFFFFFFFFFFFFFFFFFFFFFFFFFFFFFFFFFFFFFFF                     \n",
       "7316-10_717108.6 FFFFFFFFFFFFFFFFFFFFFFFFFFFFFFFFFFFFFFFFFFFFFFFFFFFFFFFFFFFFFFFFFF\n",
       "                 allVHitsWithScore                                                                             \n",
       "7316-10_717108.1 IGHV3-30*00(395.7),IGHV3-53*00(395.7),IGHV3-66*00(395.7),IGHV3-23*00(394.7),IGHV3-33*00(379.7)\n",
       "7316-10_717108.2 IGHV3-33*00(287),IGHV3-30*00(272),IGHV3-48*00(271),IGHV3-66*00(256),IGHV3-7*00(255)           \n",
       "7316-10_717108.3 IGHV3-60*00(92)                                                                               \n",
       "7316-10_717108.4 IGHV3-7*00(678)                                                                               \n",
       "7316-10_717108.5 IGHV1-18*00(138),IGHV1-2*00(138),IGHV3-11*00(138),IGHV3-53*00(138),IGHV4-4*00(122)            \n",
       "7316-10_717108.6 IGHV3-23*00(99),IGHV4-31*00(93),IGHV4-4*00(93),IGHV4-59*00(93),IGHV4-61*00(93)                \n",
       "                 allDHitsWithScore                             \n",
       "7316-10_717108.1 IGHD3-10*00(30),IGHD3-22*00(30)               \n",
       "7316-10_717108.2 IGHD3-22*00(52)                               \n",
       "7316-10_717108.3 IGHD5-24*00(30),IGHD6-19*00(30)               \n",
       "7316-10_717108.4 IGHD5-18*00(65),IGHD5-5*00(65)                \n",
       "7316-10_717108.5 IGHD3-3*00(60)                                \n",
       "7316-10_717108.6 IGHD3-10*00(30),IGHD6-25*00(30),IGHD6-6*00(30)\n",
       "                 allJHitsWithScore          \n",
       "7316-10_717108.1 IGHJ4*00(143.3)            \n",
       "7316-10_717108.2 IGHJ4*00(183)              \n",
       "7316-10_717108.3 IGHJ1*00(170)              \n",
       "7316-10_717108.4 IGHJ4*00(190),IGHJ5*00(175)\n",
       "7316-10_717108.5 IGHJ4*00(205)              \n",
       "7316-10_717108.6 IGHJ6*00(196)              \n",
       "                 allCHitsWithScore                        \n",
       "7316-10_717108.1 IGHA1*00(352.3)                          \n",
       "7316-10_717108.2 IGHA2*00(240)                            \n",
       "7316-10_717108.3 IGHA1*00(315)                            \n",
       "7316-10_717108.4 IGHG1*00(104),IGHG2*00(104),IGHGP*00(104)\n",
       "7316-10_717108.5 IGHG1*00(154),IGHG2*00(154),IGHGP*00(138)\n",
       "7316-10_717108.6                                          \n",
       "                 allVAlignments                                                                                                    \n",
       "7316-10_717108.1 342|349|373|0|7||35.0;339|346|370|0|7||35.0;339|346|370|0|7||35.0;342|352|373|0|10||50.0;342|349|373|0|7||35.0    \n",
       "7316-10_717108.2 342|354|373|0|12||60.0;342|354|373|0|12||60.0;342|354|373|0|12||60.0;339|351|370|0|12||60.0;342|354|373|0|12||60.0\n",
       "7316-10_717108.3 343|347|374|0|4||20.0                                                                                             \n",
       "7316-10_717108.4 342|350|373|0|8||40.0                                                                                             \n",
       "7316-10_717108.5 342|353|373|0|11||55.0;342|353|373|0|11||55.0;342|353|373|0|11||55.0;339|350|370|0|11||55.0;339|350|370|0|11||55.0\n",
       "7316-10_717108.6 342|349|373|0|7||35.0;345|354|376|0|9||45.0;339|348|370|0|9||45.0;339|348|370|0|9||45.0;345|354|376|0|9||45.0     \n",
       "                 ⋯ nSeqFR4 minQualFR4 aaSeqFR1 aaSeqCDR1 aaSeqFR2 aaSeqCDR2\n",
       "7316-10_717108.1 ⋯ NA      NA         NA       NA        NA       NA       \n",
       "7316-10_717108.2 ⋯ NA      NA         NA       NA        NA       NA       \n",
       "7316-10_717108.3 ⋯ NA      NA         NA       NA        NA       NA       \n",
       "7316-10_717108.4 ⋯ NA      NA         NA       NA        NA       NA       \n",
       "7316-10_717108.5 ⋯ NA      NA         NA       NA        NA       NA       \n",
       "7316-10_717108.6 ⋯ NA      NA         NA       NA        NA       NA       \n",
       "                 aaSeqFR3 aaSeqCDR3              aaSeqFR4\n",
       "7316-10_717108.1 NA       CAKGRATMLGSFAYW        NA      \n",
       "7316-10_717108.2 NA       CARDDDTSGHYGLFHYW      NA      \n",
       "7316-10_717108.3 NA       CARDAAIEYFEYW          NA      \n",
       "7316-10_717108.4 NA       CASLDTAISPVNAYW        NA      \n",
       "7316-10_717108.5 NA       CARDWGSGYLVHDYW        NA      \n",
       "7316-10_717108.6 NA       CARHPPVRGIFAAEYYYYMDVW NA      \n",
       "                 refPoints                                 \n",
       "7316-10_717108.1 :::::::::0:-4:7:18:-5:-20:24:32:-4:45:::  \n",
       "7316-10_717108.2 :::::::::0:1:12:13:-8:-3:33:39:-5:51:::   \n",
       "7316-10_717108.3 :::::::::0:-7:4:14:12:-26:20:20:-2:39:::  \n",
       "7316-10_717108.4 :::::::::0:-3:8:10:-1:-6:23:38:-10:45:::  \n",
       "7316-10_717108.5 :::::::::0:0:11:16:-14:-5:28:35:-7:45:::  \n",
       "7316-10_717108.6 :::::::::0:-4:7:21:-14:-11:27:45:-11:66:::"
      ]
     },
     "metadata": {},
     "output_type": "display_data"
    }
   ],
   "source": [
    "head(all)"
   ]
  },
  {
   "cell_type": "markdown",
   "metadata": {},
   "source": [
    "add filenmaes as a variable and remove rownmaes"
   ]
  },
  {
   "cell_type": "code",
   "execution_count": 21,
   "metadata": {},
   "outputs": [],
   "source": [
    "all$filename <- rep(names(all.files), sapply(all.files, nrow))"
   ]
  },
  {
   "cell_type": "code",
   "execution_count": 22,
   "metadata": {},
   "outputs": [],
   "source": [
    "rownames(all) <- NULL"
   ]
  },
  {
   "cell_type": "code",
   "execution_count": 23,
   "metadata": {},
   "outputs": [
    {
     "data": {
      "text/html": [
       "<table class=\"dataframe\">\n",
       "<caption>A data.frame: 6 × 36</caption>\n",
       "<thead>\n",
       "\t<tr><th></th><th scope=col>cloneId</th><th scope=col>cloneCount</th><th scope=col>cloneFraction</th><th scope=col>clonalSequence</th><th scope=col>clonalSequenceQuality</th><th scope=col>allVHitsWithScore</th><th scope=col>allDHitsWithScore</th><th scope=col>allJHitsWithScore</th><th scope=col>allCHitsWithScore</th><th scope=col>allVAlignments</th><th scope=col>⋯</th><th scope=col>minQualFR4</th><th scope=col>aaSeqFR1</th><th scope=col>aaSeqCDR1</th><th scope=col>aaSeqFR2</th><th scope=col>aaSeqCDR2</th><th scope=col>aaSeqFR3</th><th scope=col>aaSeqCDR3</th><th scope=col>aaSeqFR4</th><th scope=col>refPoints</th><th scope=col>filename</th></tr>\n",
       "\t<tr><th></th><th scope=col>&lt;int&gt;</th><th scope=col>&lt;int&gt;</th><th scope=col>&lt;dbl&gt;</th><th scope=col>&lt;chr&gt;</th><th scope=col>&lt;chr&gt;</th><th scope=col>&lt;chr&gt;</th><th scope=col>&lt;chr&gt;</th><th scope=col>&lt;chr&gt;</th><th scope=col>&lt;chr&gt;</th><th scope=col>&lt;chr&gt;</th><th scope=col>⋯</th><th scope=col>&lt;lgl&gt;</th><th scope=col>&lt;lgl&gt;</th><th scope=col>&lt;lgl&gt;</th><th scope=col>&lt;lgl&gt;</th><th scope=col>&lt;lgl&gt;</th><th scope=col>&lt;lgl&gt;</th><th scope=col>&lt;chr&gt;</th><th scope=col>&lt;lgl&gt;</th><th scope=col>&lt;chr&gt;</th><th scope=col>&lt;chr&gt;</th></tr>\n",
       "</thead>\n",
       "<tbody>\n",
       "\t<tr><th scope=row>1</th><td>0</td><td>6</td><td>0.22222222</td><td>TGTGCGAAAGGGAGGGCGACTATGTTGGGCTCCTTTGCCTACTGG                     </td><td>FFFFFFFFFFFFFFFFFFFFFFFFFFFFFFFFFFFFFFFFFFFFF                     </td><td>IGHV3-30*00(395.7),IGHV3-53*00(395.7),IGHV3-66*00(395.7),IGHV3-23*00(394.7),IGHV3-33*00(379.7)</td><td>IGHD3-10*00(30),IGHD3-22*00(30)               </td><td>IGHJ4*00(143.3)            </td><td>IGHA1*00(352.3)                          </td><td>342|349|373|0|7||35.0;339|346|370|0|7||35.0;339|346|370|0|7||35.0;342|352|373|0|10||50.0;342|349|373|0|7||35.0    </td><td>⋯</td><td>NA</td><td>NA</td><td>NA</td><td>NA</td><td>NA</td><td>NA</td><td>CAKGRATMLGSFAYW       </td><td>NA</td><td>:::::::::0:-4:7:18:-5:-20:24:32:-4:45:::  </td><td>7316-10_717108</td></tr>\n",
       "\t<tr><th scope=row>2</th><td>1</td><td>5</td><td>0.18518519</td><td>TGTGCGAGAGATGATGATACTAGTGGACATTACGGGTTATTTCACTACTGG               </td><td>FFFFFFFFFFFFFFFFFFFFFFFFFFFFFFFFFFFFFFFFFFFFFFFFFFF               </td><td>IGHV3-33*00(287),IGHV3-30*00(272),IGHV3-48*00(271),IGHV3-66*00(256),IGHV3-7*00(255)           </td><td>IGHD3-22*00(52)                               </td><td>IGHJ4*00(183)              </td><td>IGHA2*00(240)                            </td><td>342|354|373|0|12||60.0;342|354|373|0|12||60.0;342|354|373|0|12||60.0;339|351|370|0|12||60.0;342|354|373|0|12||60.0</td><td>⋯</td><td>NA</td><td>NA</td><td>NA</td><td>NA</td><td>NA</td><td>NA</td><td>CARDDDTSGHYGLFHYW     </td><td>NA</td><td>:::::::::0:1:12:13:-8:-3:33:39:-5:51:::   </td><td>7316-10_717108</td></tr>\n",
       "\t<tr><th scope=row>3</th><td>3</td><td>4</td><td>0.14814815</td><td>TGTGCGCGAGACGCAGCCATTGAGTACTTCGAGTACTGG                           </td><td>FFFFFFFFFFFFFFFFFFFFFFFFFFFFFFFFFFFFFFF                           </td><td>IGHV3-60*00(92)                                                                               </td><td>IGHD5-24*00(30),IGHD6-19*00(30)               </td><td>IGHJ1*00(170)              </td><td>IGHA1*00(315)                            </td><td>343|347|374|0|4||20.0                                                                                             </td><td>⋯</td><td>NA</td><td>NA</td><td>NA</td><td>NA</td><td>NA</td><td>NA</td><td>CARDAAIEYFEYW         </td><td>NA</td><td>:::::::::0:-7:4:14:12:-26:20:20:-2:39:::  </td><td>7316-10_717108</td></tr>\n",
       "\t<tr><th scope=row>4</th><td>4</td><td>3</td><td>0.11111111</td><td>TGTGCGAGTCTGGATACAGCTATAAGTCCTGTCAATGCCTACTGG                     </td><td>FFFFFFFFFFFFFFFFFFFFFFFFFFFFFFFFFFFFFFFFFFFFF                     </td><td>IGHV3-7*00(678)                                                                               </td><td>IGHD5-18*00(65),IGHD5-5*00(65)                </td><td>IGHJ4*00(190),IGHJ5*00(175)</td><td>IGHG1*00(104),IGHG2*00(104),IGHGP*00(104)</td><td>342|350|373|0|8||40.0                                                                                             </td><td>⋯</td><td>NA</td><td>NA</td><td>NA</td><td>NA</td><td>NA</td><td>NA</td><td>CASLDTAISPVNAYW       </td><td>NA</td><td>:::::::::0:-3:8:10:-1:-6:23:38:-10:45:::  </td><td>7316-10_717108</td></tr>\n",
       "\t<tr><th scope=row>5</th><td>5</td><td>3</td><td>0.11111111</td><td>TGTGCGAGAGACTGGGGGAGTGGTTATTTGGTCCATGACTACTGG                     </td><td>FFFFFFFFFFFFFFFFFFFFFFFFFFFFFFFFFFFFFFFFFFFFF                     </td><td>IGHV1-18*00(138),IGHV1-2*00(138),IGHV3-11*00(138),IGHV3-53*00(138),IGHV4-4*00(122)            </td><td>IGHD3-3*00(60)                                </td><td>IGHJ4*00(205)              </td><td>IGHG1*00(154),IGHG2*00(154),IGHGP*00(138)</td><td>342|353|373|0|11||55.0;342|353|373|0|11||55.0;342|353|373|0|11||55.0;339|350|370|0|11||55.0;339|350|370|0|11||55.0</td><td>⋯</td><td>NA</td><td>NA</td><td>NA</td><td>NA</td><td>NA</td><td>NA</td><td>CARDWGSGYLVHDYW       </td><td>NA</td><td>:::::::::0:0:11:16:-14:-5:28:35:-7:45:::  </td><td>7316-10_717108</td></tr>\n",
       "\t<tr><th scope=row>6</th><td>9</td><td>1</td><td>0.03703704</td><td>TGTGCGAGACACCCCCCTGTCCGGGGAATTTTCGCTGCAGAATATTACTACTACATGGACGTCTGG</td><td>FFFFFFFFFFFFFFFFFFFFFFFFFFFFFFFFFFFFFFFFFFFFFFFFFFFFFFFFFFFFFFFFFF</td><td>IGHV3-23*00(99),IGHV4-31*00(93),IGHV4-4*00(93),IGHV4-59*00(93),IGHV4-61*00(93)                </td><td>IGHD3-10*00(30),IGHD6-25*00(30),IGHD6-6*00(30)</td><td>IGHJ6*00(196)              </td><td>                                         </td><td>342|349|373|0|7||35.0;345|354|376|0|9||45.0;339|348|370|0|9||45.0;339|348|370|0|9||45.0;345|354|376|0|9||45.0     </td><td>⋯</td><td>NA</td><td>NA</td><td>NA</td><td>NA</td><td>NA</td><td>NA</td><td>CARHPPVRGIFAAEYYYYMDVW</td><td>NA</td><td>:::::::::0:-4:7:21:-14:-11:27:45:-11:66:::</td><td>7316-10_717108</td></tr>\n",
       "</tbody>\n",
       "</table>\n"
      ],
      "text/latex": [
       "A data.frame: 6 × 36\n",
       "\\begin{tabular}{r|lllllllllllllllllllll}\n",
       "  & cloneId & cloneCount & cloneFraction & clonalSequence & clonalSequenceQuality & allVHitsWithScore & allDHitsWithScore & allJHitsWithScore & allCHitsWithScore & allVAlignments & ⋯ & minQualFR4 & aaSeqFR1 & aaSeqCDR1 & aaSeqFR2 & aaSeqCDR2 & aaSeqFR3 & aaSeqCDR3 & aaSeqFR4 & refPoints & filename\\\\\n",
       "  & <int> & <int> & <dbl> & <chr> & <chr> & <chr> & <chr> & <chr> & <chr> & <chr> & ⋯ & <lgl> & <lgl> & <lgl> & <lgl> & <lgl> & <lgl> & <chr> & <lgl> & <chr> & <chr>\\\\\n",
       "\\hline\n",
       "\t1 & 0 & 6 & 0.22222222 & TGTGCGAAAGGGAGGGCGACTATGTTGGGCTCCTTTGCCTACTGG                      & FFFFFFFFFFFFFFFFFFFFFFFFFFFFFFFFFFFFFFFFFFFFF                      & IGHV3-30*00(395.7),IGHV3-53*00(395.7),IGHV3-66*00(395.7),IGHV3-23*00(394.7),IGHV3-33*00(379.7) & IGHD3-10*00(30),IGHD3-22*00(30)                & IGHJ4*00(143.3)             & IGHA1*00(352.3)                           & 342\\textbar{}349\\textbar{}373\\textbar{}0\\textbar{}7\\textbar{}\\textbar{}35.0;339\\textbar{}346\\textbar{}370\\textbar{}0\\textbar{}7\\textbar{}\\textbar{}35.0;339\\textbar{}346\\textbar{}370\\textbar{}0\\textbar{}7\\textbar{}\\textbar{}35.0;342\\textbar{}352\\textbar{}373\\textbar{}0\\textbar{}10\\textbar{}\\textbar{}50.0;342\\textbar{}349\\textbar{}373\\textbar{}0\\textbar{}7\\textbar{}\\textbar{}35.0     & ⋯ & NA & NA & NA & NA & NA & NA & CAKGRATMLGSFAYW        & NA & :::::::::0:-4:7:18:-5:-20:24:32:-4:45:::   & 7316-10\\_717108\\\\\n",
       "\t2 & 1 & 5 & 0.18518519 & TGTGCGAGAGATGATGATACTAGTGGACATTACGGGTTATTTCACTACTGG                & FFFFFFFFFFFFFFFFFFFFFFFFFFFFFFFFFFFFFFFFFFFFFFFFFFF                & IGHV3-33*00(287),IGHV3-30*00(272),IGHV3-48*00(271),IGHV3-66*00(256),IGHV3-7*00(255)            & IGHD3-22*00(52)                                & IGHJ4*00(183)               & IGHA2*00(240)                             & 342\\textbar{}354\\textbar{}373\\textbar{}0\\textbar{}12\\textbar{}\\textbar{}60.0;342\\textbar{}354\\textbar{}373\\textbar{}0\\textbar{}12\\textbar{}\\textbar{}60.0;342\\textbar{}354\\textbar{}373\\textbar{}0\\textbar{}12\\textbar{}\\textbar{}60.0;339\\textbar{}351\\textbar{}370\\textbar{}0\\textbar{}12\\textbar{}\\textbar{}60.0;342\\textbar{}354\\textbar{}373\\textbar{}0\\textbar{}12\\textbar{}\\textbar{}60.0 & ⋯ & NA & NA & NA & NA & NA & NA & CARDDDTSGHYGLFHYW      & NA & :::::::::0:1:12:13:-8:-3:33:39:-5:51:::    & 7316-10\\_717108\\\\\n",
       "\t3 & 3 & 4 & 0.14814815 & TGTGCGCGAGACGCAGCCATTGAGTACTTCGAGTACTGG                            & FFFFFFFFFFFFFFFFFFFFFFFFFFFFFFFFFFFFFFF                            & IGHV3-60*00(92)                                                                                & IGHD5-24*00(30),IGHD6-19*00(30)                & IGHJ1*00(170)               & IGHA1*00(315)                             & 343\\textbar{}347\\textbar{}374\\textbar{}0\\textbar{}4\\textbar{}\\textbar{}20.0                                                                                              & ⋯ & NA & NA & NA & NA & NA & NA & CARDAAIEYFEYW          & NA & :::::::::0:-7:4:14:12:-26:20:20:-2:39:::   & 7316-10\\_717108\\\\\n",
       "\t4 & 4 & 3 & 0.11111111 & TGTGCGAGTCTGGATACAGCTATAAGTCCTGTCAATGCCTACTGG                      & FFFFFFFFFFFFFFFFFFFFFFFFFFFFFFFFFFFFFFFFFFFFF                      & IGHV3-7*00(678)                                                                                & IGHD5-18*00(65),IGHD5-5*00(65)                 & IGHJ4*00(190),IGHJ5*00(175) & IGHG1*00(104),IGHG2*00(104),IGHGP*00(104) & 342\\textbar{}350\\textbar{}373\\textbar{}0\\textbar{}8\\textbar{}\\textbar{}40.0                                                                                              & ⋯ & NA & NA & NA & NA & NA & NA & CASLDTAISPVNAYW        & NA & :::::::::0:-3:8:10:-1:-6:23:38:-10:45:::   & 7316-10\\_717108\\\\\n",
       "\t5 & 5 & 3 & 0.11111111 & TGTGCGAGAGACTGGGGGAGTGGTTATTTGGTCCATGACTACTGG                      & FFFFFFFFFFFFFFFFFFFFFFFFFFFFFFFFFFFFFFFFFFFFF                      & IGHV1-18*00(138),IGHV1-2*00(138),IGHV3-11*00(138),IGHV3-53*00(138),IGHV4-4*00(122)             & IGHD3-3*00(60)                                 & IGHJ4*00(205)               & IGHG1*00(154),IGHG2*00(154),IGHGP*00(138) & 342\\textbar{}353\\textbar{}373\\textbar{}0\\textbar{}11\\textbar{}\\textbar{}55.0;342\\textbar{}353\\textbar{}373\\textbar{}0\\textbar{}11\\textbar{}\\textbar{}55.0;342\\textbar{}353\\textbar{}373\\textbar{}0\\textbar{}11\\textbar{}\\textbar{}55.0;339\\textbar{}350\\textbar{}370\\textbar{}0\\textbar{}11\\textbar{}\\textbar{}55.0;339\\textbar{}350\\textbar{}370\\textbar{}0\\textbar{}11\\textbar{}\\textbar{}55.0 & ⋯ & NA & NA & NA & NA & NA & NA & CARDWGSGYLVHDYW        & NA & :::::::::0:0:11:16:-14:-5:28:35:-7:45:::   & 7316-10\\_717108\\\\\n",
       "\t6 & 9 & 1 & 0.03703704 & TGTGCGAGACACCCCCCTGTCCGGGGAATTTTCGCTGCAGAATATTACTACTACATGGACGTCTGG & FFFFFFFFFFFFFFFFFFFFFFFFFFFFFFFFFFFFFFFFFFFFFFFFFFFFFFFFFFFFFFFFFF & IGHV3-23*00(99),IGHV4-31*00(93),IGHV4-4*00(93),IGHV4-59*00(93),IGHV4-61*00(93)                 & IGHD3-10*00(30),IGHD6-25*00(30),IGHD6-6*00(30) & IGHJ6*00(196)               &                                           & 342\\textbar{}349\\textbar{}373\\textbar{}0\\textbar{}7\\textbar{}\\textbar{}35.0;345\\textbar{}354\\textbar{}376\\textbar{}0\\textbar{}9\\textbar{}\\textbar{}45.0;339\\textbar{}348\\textbar{}370\\textbar{}0\\textbar{}9\\textbar{}\\textbar{}45.0;339\\textbar{}348\\textbar{}370\\textbar{}0\\textbar{}9\\textbar{}\\textbar{}45.0;345\\textbar{}354\\textbar{}376\\textbar{}0\\textbar{}9\\textbar{}\\textbar{}45.0      & ⋯ & NA & NA & NA & NA & NA & NA & CARHPPVRGIFAAEYYYYMDVW & NA & :::::::::0:-4:7:21:-14:-11:27:45:-11:66::: & 7316-10\\_717108\\\\\n",
       "\\end{tabular}\n"
      ],
      "text/markdown": [
       "\n",
       "A data.frame: 6 × 36\n",
       "\n",
       "| <!--/--> | cloneId &lt;int&gt; | cloneCount &lt;int&gt; | cloneFraction &lt;dbl&gt; | clonalSequence &lt;chr&gt; | clonalSequenceQuality &lt;chr&gt; | allVHitsWithScore &lt;chr&gt; | allDHitsWithScore &lt;chr&gt; | allJHitsWithScore &lt;chr&gt; | allCHitsWithScore &lt;chr&gt; | allVAlignments &lt;chr&gt; | ⋯ ⋯ | minQualFR4 &lt;lgl&gt; | aaSeqFR1 &lt;lgl&gt; | aaSeqCDR1 &lt;lgl&gt; | aaSeqFR2 &lt;lgl&gt; | aaSeqCDR2 &lt;lgl&gt; | aaSeqFR3 &lt;lgl&gt; | aaSeqCDR3 &lt;chr&gt; | aaSeqFR4 &lt;lgl&gt; | refPoints &lt;chr&gt; | filename &lt;chr&gt; |\n",
       "|---|---|---|---|---|---|---|---|---|---|---|---|---|---|---|---|---|---|---|---|---|---|\n",
       "| 1 | 0 | 6 | 0.22222222 | TGTGCGAAAGGGAGGGCGACTATGTTGGGCTCCTTTGCCTACTGG                      | FFFFFFFFFFFFFFFFFFFFFFFFFFFFFFFFFFFFFFFFFFFFF                      | IGHV3-30*00(395.7),IGHV3-53*00(395.7),IGHV3-66*00(395.7),IGHV3-23*00(394.7),IGHV3-33*00(379.7) | IGHD3-10*00(30),IGHD3-22*00(30)                | IGHJ4*00(143.3)             | IGHA1*00(352.3)                           | 342|349|373|0|7||35.0;339|346|370|0|7||35.0;339|346|370|0|7||35.0;342|352|373|0|10||50.0;342|349|373|0|7||35.0     | ⋯ | NA | NA | NA | NA | NA | NA | CAKGRATMLGSFAYW        | NA | :::::::::0:-4:7:18:-5:-20:24:32:-4:45:::   | 7316-10_717108 |\n",
       "| 2 | 1 | 5 | 0.18518519 | TGTGCGAGAGATGATGATACTAGTGGACATTACGGGTTATTTCACTACTGG                | FFFFFFFFFFFFFFFFFFFFFFFFFFFFFFFFFFFFFFFFFFFFFFFFFFF                | IGHV3-33*00(287),IGHV3-30*00(272),IGHV3-48*00(271),IGHV3-66*00(256),IGHV3-7*00(255)            | IGHD3-22*00(52)                                | IGHJ4*00(183)               | IGHA2*00(240)                             | 342|354|373|0|12||60.0;342|354|373|0|12||60.0;342|354|373|0|12||60.0;339|351|370|0|12||60.0;342|354|373|0|12||60.0 | ⋯ | NA | NA | NA | NA | NA | NA | CARDDDTSGHYGLFHYW      | NA | :::::::::0:1:12:13:-8:-3:33:39:-5:51:::    | 7316-10_717108 |\n",
       "| 3 | 3 | 4 | 0.14814815 | TGTGCGCGAGACGCAGCCATTGAGTACTTCGAGTACTGG                            | FFFFFFFFFFFFFFFFFFFFFFFFFFFFFFFFFFFFFFF                            | IGHV3-60*00(92)                                                                                | IGHD5-24*00(30),IGHD6-19*00(30)                | IGHJ1*00(170)               | IGHA1*00(315)                             | 343|347|374|0|4||20.0                                                                                              | ⋯ | NA | NA | NA | NA | NA | NA | CARDAAIEYFEYW          | NA | :::::::::0:-7:4:14:12:-26:20:20:-2:39:::   | 7316-10_717108 |\n",
       "| 4 | 4 | 3 | 0.11111111 | TGTGCGAGTCTGGATACAGCTATAAGTCCTGTCAATGCCTACTGG                      | FFFFFFFFFFFFFFFFFFFFFFFFFFFFFFFFFFFFFFFFFFFFF                      | IGHV3-7*00(678)                                                                                | IGHD5-18*00(65),IGHD5-5*00(65)                 | IGHJ4*00(190),IGHJ5*00(175) | IGHG1*00(104),IGHG2*00(104),IGHGP*00(104) | 342|350|373|0|8||40.0                                                                                              | ⋯ | NA | NA | NA | NA | NA | NA | CASLDTAISPVNAYW        | NA | :::::::::0:-3:8:10:-1:-6:23:38:-10:45:::   | 7316-10_717108 |\n",
       "| 5 | 5 | 3 | 0.11111111 | TGTGCGAGAGACTGGGGGAGTGGTTATTTGGTCCATGACTACTGG                      | FFFFFFFFFFFFFFFFFFFFFFFFFFFFFFFFFFFFFFFFFFFFF                      | IGHV1-18*00(138),IGHV1-2*00(138),IGHV3-11*00(138),IGHV3-53*00(138),IGHV4-4*00(122)             | IGHD3-3*00(60)                                 | IGHJ4*00(205)               | IGHG1*00(154),IGHG2*00(154),IGHGP*00(138) | 342|353|373|0|11||55.0;342|353|373|0|11||55.0;342|353|373|0|11||55.0;339|350|370|0|11||55.0;339|350|370|0|11||55.0 | ⋯ | NA | NA | NA | NA | NA | NA | CARDWGSGYLVHDYW        | NA | :::::::::0:0:11:16:-14:-5:28:35:-7:45:::   | 7316-10_717108 |\n",
       "| 6 | 9 | 1 | 0.03703704 | TGTGCGAGACACCCCCCTGTCCGGGGAATTTTCGCTGCAGAATATTACTACTACATGGACGTCTGG | FFFFFFFFFFFFFFFFFFFFFFFFFFFFFFFFFFFFFFFFFFFFFFFFFFFFFFFFFFFFFFFFFF | IGHV3-23*00(99),IGHV4-31*00(93),IGHV4-4*00(93),IGHV4-59*00(93),IGHV4-61*00(93)                 | IGHD3-10*00(30),IGHD6-25*00(30),IGHD6-6*00(30) | IGHJ6*00(196)               | <!----> | 342|349|373|0|7||35.0;345|354|376|0|9||45.0;339|348|370|0|9||45.0;339|348|370|0|9||45.0;345|354|376|0|9||45.0      | ⋯ | NA | NA | NA | NA | NA | NA | CARHPPVRGIFAAEYYYYMDVW | NA | :::::::::0:-4:7:21:-14:-11:27:45:-11:66::: | 7316-10_717108 |\n",
       "\n"
      ],
      "text/plain": [
       "  cloneId cloneCount cloneFraction\n",
       "1 0       6          0.22222222   \n",
       "2 1       5          0.18518519   \n",
       "3 3       4          0.14814815   \n",
       "4 4       3          0.11111111   \n",
       "5 5       3          0.11111111   \n",
       "6 9       1          0.03703704   \n",
       "  clonalSequence                                                    \n",
       "1 TGTGCGAAAGGGAGGGCGACTATGTTGGGCTCCTTTGCCTACTGG                     \n",
       "2 TGTGCGAGAGATGATGATACTAGTGGACATTACGGGTTATTTCACTACTGG               \n",
       "3 TGTGCGCGAGACGCAGCCATTGAGTACTTCGAGTACTGG                           \n",
       "4 TGTGCGAGTCTGGATACAGCTATAAGTCCTGTCAATGCCTACTGG                     \n",
       "5 TGTGCGAGAGACTGGGGGAGTGGTTATTTGGTCCATGACTACTGG                     \n",
       "6 TGTGCGAGACACCCCCCTGTCCGGGGAATTTTCGCTGCAGAATATTACTACTACATGGACGTCTGG\n",
       "  clonalSequenceQuality                                             \n",
       "1 FFFFFFFFFFFFFFFFFFFFFFFFFFFFFFFFFFFFFFFFFFFFF                     \n",
       "2 FFFFFFFFFFFFFFFFFFFFFFFFFFFFFFFFFFFFFFFFFFFFFFFFFFF               \n",
       "3 FFFFFFFFFFFFFFFFFFFFFFFFFFFFFFFFFFFFFFF                           \n",
       "4 FFFFFFFFFFFFFFFFFFFFFFFFFFFFFFFFFFFFFFFFFFFFF                     \n",
       "5 FFFFFFFFFFFFFFFFFFFFFFFFFFFFFFFFFFFFFFFFFFFFF                     \n",
       "6 FFFFFFFFFFFFFFFFFFFFFFFFFFFFFFFFFFFFFFFFFFFFFFFFFFFFFFFFFFFFFFFFFF\n",
       "  allVHitsWithScore                                                                             \n",
       "1 IGHV3-30*00(395.7),IGHV3-53*00(395.7),IGHV3-66*00(395.7),IGHV3-23*00(394.7),IGHV3-33*00(379.7)\n",
       "2 IGHV3-33*00(287),IGHV3-30*00(272),IGHV3-48*00(271),IGHV3-66*00(256),IGHV3-7*00(255)           \n",
       "3 IGHV3-60*00(92)                                                                               \n",
       "4 IGHV3-7*00(678)                                                                               \n",
       "5 IGHV1-18*00(138),IGHV1-2*00(138),IGHV3-11*00(138),IGHV3-53*00(138),IGHV4-4*00(122)            \n",
       "6 IGHV3-23*00(99),IGHV4-31*00(93),IGHV4-4*00(93),IGHV4-59*00(93),IGHV4-61*00(93)                \n",
       "  allDHitsWithScore                              allJHitsWithScore          \n",
       "1 IGHD3-10*00(30),IGHD3-22*00(30)                IGHJ4*00(143.3)            \n",
       "2 IGHD3-22*00(52)                                IGHJ4*00(183)              \n",
       "3 IGHD5-24*00(30),IGHD6-19*00(30)                IGHJ1*00(170)              \n",
       "4 IGHD5-18*00(65),IGHD5-5*00(65)                 IGHJ4*00(190),IGHJ5*00(175)\n",
       "5 IGHD3-3*00(60)                                 IGHJ4*00(205)              \n",
       "6 IGHD3-10*00(30),IGHD6-25*00(30),IGHD6-6*00(30) IGHJ6*00(196)              \n",
       "  allCHitsWithScore                        \n",
       "1 IGHA1*00(352.3)                          \n",
       "2 IGHA2*00(240)                            \n",
       "3 IGHA1*00(315)                            \n",
       "4 IGHG1*00(104),IGHG2*00(104),IGHGP*00(104)\n",
       "5 IGHG1*00(154),IGHG2*00(154),IGHGP*00(138)\n",
       "6                                          \n",
       "  allVAlignments                                                                                                    \n",
       "1 342|349|373|0|7||35.0;339|346|370|0|7||35.0;339|346|370|0|7||35.0;342|352|373|0|10||50.0;342|349|373|0|7||35.0    \n",
       "2 342|354|373|0|12||60.0;342|354|373|0|12||60.0;342|354|373|0|12||60.0;339|351|370|0|12||60.0;342|354|373|0|12||60.0\n",
       "3 343|347|374|0|4||20.0                                                                                             \n",
       "4 342|350|373|0|8||40.0                                                                                             \n",
       "5 342|353|373|0|11||55.0;342|353|373|0|11||55.0;342|353|373|0|11||55.0;339|350|370|0|11||55.0;339|350|370|0|11||55.0\n",
       "6 342|349|373|0|7||35.0;345|354|376|0|9||45.0;339|348|370|0|9||45.0;339|348|370|0|9||45.0;345|354|376|0|9||45.0     \n",
       "  ⋯ minQualFR4 aaSeqFR1 aaSeqCDR1 aaSeqFR2 aaSeqCDR2 aaSeqFR3\n",
       "1 ⋯ NA         NA       NA        NA       NA        NA      \n",
       "2 ⋯ NA         NA       NA        NA       NA        NA      \n",
       "3 ⋯ NA         NA       NA        NA       NA        NA      \n",
       "4 ⋯ NA         NA       NA        NA       NA        NA      \n",
       "5 ⋯ NA         NA       NA        NA       NA        NA      \n",
       "6 ⋯ NA         NA       NA        NA       NA        NA      \n",
       "  aaSeqCDR3              aaSeqFR4 refPoints                                 \n",
       "1 CAKGRATMLGSFAYW        NA       :::::::::0:-4:7:18:-5:-20:24:32:-4:45:::  \n",
       "2 CARDDDTSGHYGLFHYW      NA       :::::::::0:1:12:13:-8:-3:33:39:-5:51:::   \n",
       "3 CARDAAIEYFEYW          NA       :::::::::0:-7:4:14:12:-26:20:20:-2:39:::  \n",
       "4 CASLDTAISPVNAYW        NA       :::::::::0:-3:8:10:-1:-6:23:38:-10:45:::  \n",
       "5 CARDWGSGYLVHDYW        NA       :::::::::0:0:11:16:-14:-5:28:35:-7:45:::  \n",
       "6 CARHPPVRGIFAAEYYYYMDVW NA       :::::::::0:-4:7:21:-14:-11:27:45:-11:66:::\n",
       "  filename      \n",
       "1 7316-10_717108\n",
       "2 7316-10_717108\n",
       "3 7316-10_717108\n",
       "4 7316-10_717108\n",
       "5 7316-10_717108\n",
       "6 7316-10_717108"
      ]
     },
     "metadata": {},
     "output_type": "display_data"
    }
   ],
   "source": [
    "head(all)"
   ]
  },
  {
   "cell_type": "code",
   "execution_count": 24,
   "metadata": {},
   "outputs": [
    {
     "data": {
      "text/html": [
       "<style>\n",
       ".list-inline {list-style: none; margin:0; padding: 0}\n",
       ".list-inline>li {display: inline-block}\n",
       ".list-inline>li:not(:last-child)::after {content: \"\\00b7\"; padding: 0 .5ex}\n",
       "</style>\n",
       "<ol class=list-inline><li>'ICGC_ET16'</li><li>'ICGC_ET16'</li><li>'ICGC_ET16'</li><li>'ICGC_ET16'</li><li>'ICGC_ET16'</li><li>'ICGC_ET16'</li><li>'ICGC_ET16'</li><li>'ICGC_ET22'</li><li>'ICGC_ET9'</li><li>'ICGC_ET9'</li><li>'ICGC_ET9'</li></ol>\n"
      ],
      "text/latex": [
       "\\begin{enumerate*}\n",
       "\\item 'ICGC\\_ET16'\n",
       "\\item 'ICGC\\_ET16'\n",
       "\\item 'ICGC\\_ET16'\n",
       "\\item 'ICGC\\_ET16'\n",
       "\\item 'ICGC\\_ET16'\n",
       "\\item 'ICGC\\_ET16'\n",
       "\\item 'ICGC\\_ET16'\n",
       "\\item 'ICGC\\_ET22'\n",
       "\\item 'ICGC\\_ET9'\n",
       "\\item 'ICGC\\_ET9'\n",
       "\\item 'ICGC\\_ET9'\n",
       "\\end{enumerate*}\n"
      ],
      "text/markdown": [
       "1. 'ICGC_ET16'\n",
       "2. 'ICGC_ET16'\n",
       "3. 'ICGC_ET16'\n",
       "4. 'ICGC_ET16'\n",
       "5. 'ICGC_ET16'\n",
       "6. 'ICGC_ET16'\n",
       "7. 'ICGC_ET16'\n",
       "8. 'ICGC_ET22'\n",
       "9. 'ICGC_ET9'\n",
       "10. 'ICGC_ET9'\n",
       "11. 'ICGC_ET9'\n",
       "\n",
       "\n"
      ],
      "text/plain": [
       " [1] \"ICGC_ET16\" \"ICGC_ET16\" \"ICGC_ET16\" \"ICGC_ET16\" \"ICGC_ET16\" \"ICGC_ET16\"\n",
       " [7] \"ICGC_ET16\" \"ICGC_ET22\" \"ICGC_ET9\"  \"ICGC_ET9\"  \"ICGC_ET9\" "
      ]
     },
     "metadata": {},
     "output_type": "display_data"
    }
   ],
   "source": [
    "all$filename[grepl(\"ICGC_ET\", all$filename)]"
   ]
  },
  {
   "cell_type": "code",
   "execution_count": 25,
   "metadata": {},
   "outputs": [],
   "source": [
    "all$sample_id <- gsub(\"_.*\", \"\", all$filename)\n",
    "all$aliquot <- gsub(\".*_\", \"\", all$filename)"
   ]
  },
  {
   "cell_type": "code",
   "execution_count": 26,
   "metadata": {},
   "outputs": [],
   "source": [
    "all$sample_id[grepl(\"ICGC\", all$filename)] <- all$filename[grepl(\"ICGC\", all$filename)]\n",
    "all$aliquot[grepl(\"ICGC\", all$filename)] <- all$filename[grepl(\"ICGC\", all$filename)]"
   ]
  },
  {
   "cell_type": "code",
   "execution_count": 27,
   "metadata": {
    "scrolled": true
   },
   "outputs": [
    {
     "data": {
      "text/html": [
       "<style>\n",
       ".list-inline {list-style: none; margin:0; padding: 0}\n",
       ".list-inline>li {display: inline-block}\n",
       ".list-inline>li:not(:last-child)::after {content: \"\\00b7\"; padding: 0 .5ex}\n",
       "</style>\n",
       "<ol class=list-inline><li>'ICGC_ET16'</li><li>'ICGC_ET16'</li><li>'ICGC_ET16'</li><li>'ICGC_ET16'</li><li>'ICGC_ET16'</li><li>'ICGC_ET16'</li><li>'ICGC_ET16'</li><li>'ICGC_ET22'</li><li>'ICGC_ET9'</li><li>'ICGC_ET9'</li><li>'ICGC_ET9'</li></ol>\n"
      ],
      "text/latex": [
       "\\begin{enumerate*}\n",
       "\\item 'ICGC\\_ET16'\n",
       "\\item 'ICGC\\_ET16'\n",
       "\\item 'ICGC\\_ET16'\n",
       "\\item 'ICGC\\_ET16'\n",
       "\\item 'ICGC\\_ET16'\n",
       "\\item 'ICGC\\_ET16'\n",
       "\\item 'ICGC\\_ET16'\n",
       "\\item 'ICGC\\_ET22'\n",
       "\\item 'ICGC\\_ET9'\n",
       "\\item 'ICGC\\_ET9'\n",
       "\\item 'ICGC\\_ET9'\n",
       "\\end{enumerate*}\n"
      ],
      "text/markdown": [
       "1. 'ICGC_ET16'\n",
       "2. 'ICGC_ET16'\n",
       "3. 'ICGC_ET16'\n",
       "4. 'ICGC_ET16'\n",
       "5. 'ICGC_ET16'\n",
       "6. 'ICGC_ET16'\n",
       "7. 'ICGC_ET16'\n",
       "8. 'ICGC_ET22'\n",
       "9. 'ICGC_ET9'\n",
       "10. 'ICGC_ET9'\n",
       "11. 'ICGC_ET9'\n",
       "\n",
       "\n"
      ],
      "text/plain": [
       " [1] \"ICGC_ET16\" \"ICGC_ET16\" \"ICGC_ET16\" \"ICGC_ET16\" \"ICGC_ET16\" \"ICGC_ET16\"\n",
       " [7] \"ICGC_ET16\" \"ICGC_ET22\" \"ICGC_ET9\"  \"ICGC_ET9\"  \"ICGC_ET9\" "
      ]
     },
     "metadata": {},
     "output_type": "display_data"
    }
   ],
   "source": [
    "all$sample_id[grepl(\"ICGC_ET\", all$sample_id)]"
   ]
  },
  {
   "cell_type": "code",
   "execution_count": 28,
   "metadata": {},
   "outputs": [],
   "source": [
    "all_merge <- merge(all, metadata_IC[,c(\"sample_id\", \"aliquot_id\", \"cohort\", \"immune_cluster\")], by = \"sample_id\")"
   ]
  },
  {
   "cell_type": "code",
   "execution_count": 29,
   "metadata": {},
   "outputs": [
    {
     "data": {
      "text/plain": [
       "\n",
       "  ATRT     CP    CPH    EPN   ETMR     MB    MNG    NBL    NFB pedHGG pedLGG \n",
       "  7644   1074  31085  13279     29   2550    571  81608    131   2460  56150 \n",
       "  SCHW \n",
       "  1617 "
      ]
     },
     "metadata": {},
     "output_type": "display_data"
    }
   ],
   "source": [
    "table(all_merge$cohort)"
   ]
  },
  {
   "cell_type": "code",
   "execution_count": 30,
   "metadata": {},
   "outputs": [
    {
     "data": {
      "text/html": [
       "<style>\n",
       ".list-inline {list-style: none; margin:0; padding: 0}\n",
       ".list-inline>li {display: inline-block}\n",
       ".list-inline>li:not(:last-child)::after {content: \"\\00b7\"; padding: 0 .5ex}\n",
       "</style>\n",
       "<ol class=list-inline><li>339490</li><li>38</li></ol>\n"
      ],
      "text/latex": [
       "\\begin{enumerate*}\n",
       "\\item 339490\n",
       "\\item 38\n",
       "\\end{enumerate*}\n"
      ],
      "text/markdown": [
       "1. 339490\n",
       "2. 38\n",
       "\n",
       "\n"
      ],
      "text/plain": [
       "[1] 339490     38"
      ]
     },
     "metadata": {},
     "output_type": "display_data"
    },
    {
     "data": {
      "text/html": [
       "<style>\n",
       ".list-inline {list-style: none; margin:0; padding: 0}\n",
       ".list-inline>li {display: inline-block}\n",
       ".list-inline>li:not(:last-child)::after {content: \"\\00b7\"; padding: 0 .5ex}\n",
       "</style>\n",
       "<ol class=list-inline><li>198198</li><li>41</li></ol>\n"
      ],
      "text/latex": [
       "\\begin{enumerate*}\n",
       "\\item 198198\n",
       "\\item 41\n",
       "\\end{enumerate*}\n"
      ],
      "text/markdown": [
       "1. 198198\n",
       "2. 41\n",
       "\n",
       "\n"
      ],
      "text/plain": [
       "[1] 198198     41"
      ]
     },
     "metadata": {},
     "output_type": "display_data"
    }
   ],
   "source": [
    "dim(all)\n",
    "dim(all_merge)"
   ]
  },
  {
   "cell_type": "code",
   "execution_count": 31,
   "metadata": {},
   "outputs": [
    {
     "data": {
      "text/html": [
       "197769"
      ],
      "text/latex": [
       "197769"
      ],
      "text/markdown": [
       "197769"
      ],
      "text/plain": [
       "[1] 197769"
      ]
     },
     "metadata": {},
     "output_type": "display_data"
    }
   ],
   "source": [
    "length(unique(all_merge$nSeqCDR3))"
   ]
  },
  {
   "cell_type": "code",
   "execution_count": 32,
   "metadata": {},
   "outputs": [
    {
     "data": {
      "text/html": [
       "783"
      ],
      "text/latex": [
       "783"
      ],
      "text/markdown": [
       "783"
      ],
      "text/plain": [
       "[1] 783"
      ]
     },
     "metadata": {},
     "output_type": "display_data"
    }
   ],
   "source": [
    "length(unique(all_merge$sample_id))"
   ]
  },
  {
   "cell_type": "code",
   "execution_count": 33,
   "metadata": {},
   "outputs": [],
   "source": [
    "save(all_merge, file = paste0(datapath, \"Ig/all_IGH_files.RData\"))"
   ]
  },
  {
   "cell_type": "markdown",
   "metadata": {},
   "source": [
    "# Find IGH isotypes"
   ]
  },
  {
   "cell_type": "code",
   "execution_count": 39,
   "metadata": {},
   "outputs": [],
   "source": [
    "load(file = paste0(datapath, \"Ig/all_IGH_files.RData\"))"
   ]
  },
  {
   "cell_type": "code",
   "execution_count": 40,
   "metadata": {},
   "outputs": [],
   "source": [
    "all_merge_separate <- separate_rows(all_merge, allCHitsWithScore,sep = \",\")"
   ]
  },
  {
   "cell_type": "code",
   "execution_count": 41,
   "metadata": {},
   "outputs": [],
   "source": [
    "all_merge_separate$Cgene <- gsub(\"[*].*\", \"\", all_merge_separate$allCHitsWithScore)\n",
    "\n",
    "all_merge_separate$CgeneScore <- gsub(\".*[(]\",\"\", all_merge_separate$allCHitsWithScore)\n",
    "\n",
    "all_merge_separate$CgeneScore <- gsub(\"[)]\",\"\", all_merge_separate$CgeneScore)"
   ]
  },
  {
   "cell_type": "code",
   "execution_count": 42,
   "metadata": {},
   "outputs": [],
   "source": [
    "all_merge_separate$Cgene[all_merge_separate$Cgene == \"\"] <- \"Unknown\""
   ]
  },
  {
   "cell_type": "code",
   "execution_count": 43,
   "metadata": {},
   "outputs": [],
   "source": [
    "all_merge_separate <- all_merge_separate[all_merge_separate$Cgene != \"IGHGP\",]"
   ]
  },
  {
   "cell_type": "markdown",
   "metadata": {},
   "source": [
    "## IGH isotypes in cohort"
   ]
  },
  {
   "cell_type": "code",
   "execution_count": 44,
   "metadata": {},
   "outputs": [
    {
     "data": {
      "text/plain": [
       "\n",
       "Pediatric inflamed     Myeloid-driven     Pediatric cold    Immune excluded \n",
       "            109791              60929              22360               5118 "
      ]
     },
     "metadata": {},
     "output_type": "display_data"
    }
   ],
   "source": [
    "table(all_merge$immune_cluster)"
   ]
  },
  {
   "cell_type": "code",
   "execution_count": 45,
   "metadata": {},
   "outputs": [],
   "source": [
    "cgenes <- as.data.frame(matrix(ncol = 10, nrow = 12))\n",
    "rownames(cgenes) <- unique(all_merge$cohort)\n",
    "colnames(cgenes) <- c(\"Unknown\",\"IGHA1\" ,\"IGHA2\",\"IGHD\", \"IGHE\" ,\"IGHM\",\n",
    "                      \"IGHG1\",\"IGHG2\",\"IGHG3\",\"IGHG4\")"
   ]
  },
  {
   "cell_type": "code",
   "execution_count": 46,
   "metadata": {},
   "outputs": [],
   "source": [
    "for(i in 1:nrow(cgenes)){\n",
    "    tmp <- all_merge_separate[all_merge_separate$cohort == rownames(cgenes)[i],]\n",
    "    mytab <- as.data.frame(table(tmp$Cgene), stringsAsFactors = F)\n",
    "    cgenes[i, match(mytab$Var1, colnames(cgenes))] <- mytab$Freq   \n",
    "}"
   ]
  },
  {
   "cell_type": "code",
   "execution_count": 47,
   "metadata": {},
   "outputs": [
    {
     "data": {
      "text/html": [
       "<table class=\"dataframe\">\n",
       "<caption>A data.frame: 12 × 10</caption>\n",
       "<thead>\n",
       "\t<tr><th></th><th scope=col>Unknown</th><th scope=col>IGHA1</th><th scope=col>IGHA2</th><th scope=col>IGHD</th><th scope=col>IGHE</th><th scope=col>IGHM</th><th scope=col>IGHG1</th><th scope=col>IGHG2</th><th scope=col>IGHG3</th><th scope=col>IGHG4</th></tr>\n",
       "\t<tr><th></th><th scope=col>&lt;int&gt;</th><th scope=col>&lt;int&gt;</th><th scope=col>&lt;int&gt;</th><th scope=col>&lt;int&gt;</th><th scope=col>&lt;int&gt;</th><th scope=col>&lt;int&gt;</th><th scope=col>&lt;int&gt;</th><th scope=col>&lt;int&gt;</th><th scope=col>&lt;int&gt;</th><th scope=col>&lt;int&gt;</th></tr>\n",
       "</thead>\n",
       "<tbody>\n",
       "\t<tr><th scope=row>NFB</th><td>   29</td><td>   28</td><td>  20</td><td>  1</td><td> 1</td><td>   7</td><td>   49</td><td>   34</td><td>   13</td><td>  16</td></tr>\n",
       "\t<tr><th scope=row>CPH</th><td> 7035</td><td> 5041</td><td>2394</td><td>148</td><td>36</td><td>1022</td><td>14013</td><td> 7918</td><td> 4294</td><td>3890</td></tr>\n",
       "\t<tr><th scope=row>pedLGG</th><td>11557</td><td>12128</td><td>5329</td><td>384</td><td>51</td><td>2298</td><td>23465</td><td>13228</td><td> 7591</td><td>6190</td></tr>\n",
       "\t<tr><th scope=row>MB</th><td>  662</td><td>  390</td><td> 188</td><td> 29</td><td> 2</td><td> 283</td><td>  978</td><td>  529</td><td>  326</td><td> 246</td></tr>\n",
       "\t<tr><th scope=row>pedHGG</th><td>  849</td><td>  421</td><td> 226</td><td> 20</td><td> 2</td><td> 165</td><td>  870</td><td>  568</td><td>  225</td><td> 176</td></tr>\n",
       "\t<tr><th scope=row>EPN</th><td> 2705</td><td> 5621</td><td>2323</td><td> 76</td><td> 6</td><td> 820</td><td> 3367</td><td> 1912</td><td> 1045</td><td> 832</td></tr>\n",
       "\t<tr><th scope=row>SCHW</th><td>  335</td><td>  325</td><td> 213</td><td>  8</td><td>NA</td><td> 143</td><td>  559</td><td>  422</td><td>  219</td><td> 221</td></tr>\n",
       "\t<tr><th scope=row>CP</th><td>  284</td><td>  294</td><td> 148</td><td> 13</td><td>NA</td><td>  95</td><td>  305</td><td>  187</td><td>  110</td><td>  92</td></tr>\n",
       "\t<tr><th scope=row>ATRT</th><td> 1950</td><td> 1514</td><td> 634</td><td> 25</td><td> 9</td><td> 441</td><td> 3141</td><td> 1842</td><td>  889</td><td> 757</td></tr>\n",
       "\t<tr><th scope=row>MNG</th><td>  158</td><td>  160</td><td>  78</td><td>  8</td><td>NA</td><td>  28</td><td>  162</td><td>  109</td><td>   60</td><td>  57</td></tr>\n",
       "\t<tr><th scope=row>ETMR</th><td>    8</td><td>    4</td><td>   2</td><td> NA</td><td>NA</td><td>   8</td><td>    7</td><td>    4</td><td>    3</td><td>   3</td></tr>\n",
       "\t<tr><th scope=row>NBL</th><td>22980</td><td> 9969</td><td>5253</td><td>769</td><td>24</td><td>9214</td><td>33214</td><td>16558</td><td>11092</td><td>8543</td></tr>\n",
       "</tbody>\n",
       "</table>\n"
      ],
      "text/latex": [
       "A data.frame: 12 × 10\n",
       "\\begin{tabular}{r|llllllllll}\n",
       "  & Unknown & IGHA1 & IGHA2 & IGHD & IGHE & IGHM & IGHG1 & IGHG2 & IGHG3 & IGHG4\\\\\n",
       "  & <int> & <int> & <int> & <int> & <int> & <int> & <int> & <int> & <int> & <int>\\\\\n",
       "\\hline\n",
       "\tNFB &    29 &    28 &   20 &   1 &  1 &    7 &    49 &    34 &    13 &   16\\\\\n",
       "\tCPH &  7035 &  5041 & 2394 & 148 & 36 & 1022 & 14013 &  7918 &  4294 & 3890\\\\\n",
       "\tpedLGG & 11557 & 12128 & 5329 & 384 & 51 & 2298 & 23465 & 13228 &  7591 & 6190\\\\\n",
       "\tMB &   662 &   390 &  188 &  29 &  2 &  283 &   978 &   529 &   326 &  246\\\\\n",
       "\tpedHGG &   849 &   421 &  226 &  20 &  2 &  165 &   870 &   568 &   225 &  176\\\\\n",
       "\tEPN &  2705 &  5621 & 2323 &  76 &  6 &  820 &  3367 &  1912 &  1045 &  832\\\\\n",
       "\tSCHW &   335 &   325 &  213 &   8 & NA &  143 &   559 &   422 &   219 &  221\\\\\n",
       "\tCP &   284 &   294 &  148 &  13 & NA &   95 &   305 &   187 &   110 &   92\\\\\n",
       "\tATRT &  1950 &  1514 &  634 &  25 &  9 &  441 &  3141 &  1842 &   889 &  757\\\\\n",
       "\tMNG &   158 &   160 &   78 &   8 & NA &   28 &   162 &   109 &    60 &   57\\\\\n",
       "\tETMR &     8 &     4 &    2 &  NA & NA &    8 &     7 &     4 &     3 &    3\\\\\n",
       "\tNBL & 22980 &  9969 & 5253 & 769 & 24 & 9214 & 33214 & 16558 & 11092 & 8543\\\\\n",
       "\\end{tabular}\n"
      ],
      "text/markdown": [
       "\n",
       "A data.frame: 12 × 10\n",
       "\n",
       "| <!--/--> | Unknown &lt;int&gt; | IGHA1 &lt;int&gt; | IGHA2 &lt;int&gt; | IGHD &lt;int&gt; | IGHE &lt;int&gt; | IGHM &lt;int&gt; | IGHG1 &lt;int&gt; | IGHG2 &lt;int&gt; | IGHG3 &lt;int&gt; | IGHG4 &lt;int&gt; |\n",
       "|---|---|---|---|---|---|---|---|---|---|---|\n",
       "| NFB |    29 |    28 |   20 |   1 |  1 |    7 |    49 |    34 |    13 |   16 |\n",
       "| CPH |  7035 |  5041 | 2394 | 148 | 36 | 1022 | 14013 |  7918 |  4294 | 3890 |\n",
       "| pedLGG | 11557 | 12128 | 5329 | 384 | 51 | 2298 | 23465 | 13228 |  7591 | 6190 |\n",
       "| MB |   662 |   390 |  188 |  29 |  2 |  283 |   978 |   529 |   326 |  246 |\n",
       "| pedHGG |   849 |   421 |  226 |  20 |  2 |  165 |   870 |   568 |   225 |  176 |\n",
       "| EPN |  2705 |  5621 | 2323 |  76 |  6 |  820 |  3367 |  1912 |  1045 |  832 |\n",
       "| SCHW |   335 |   325 |  213 |   8 | NA |  143 |   559 |   422 |   219 |  221 |\n",
       "| CP |   284 |   294 |  148 |  13 | NA |   95 |   305 |   187 |   110 |   92 |\n",
       "| ATRT |  1950 |  1514 |  634 |  25 |  9 |  441 |  3141 |  1842 |   889 |  757 |\n",
       "| MNG |   158 |   160 |   78 |   8 | NA |   28 |   162 |   109 |    60 |   57 |\n",
       "| ETMR |     8 |     4 |    2 |  NA | NA |    8 |     7 |     4 |     3 |    3 |\n",
       "| NBL | 22980 |  9969 | 5253 | 769 | 24 | 9214 | 33214 | 16558 | 11092 | 8543 |\n",
       "\n"
      ],
      "text/plain": [
       "       Unknown IGHA1 IGHA2 IGHD IGHE IGHM IGHG1 IGHG2 IGHG3 IGHG4\n",
       "NFB       29      28   20    1   1      7    49    34    13   16 \n",
       "CPH     7035    5041 2394  148  36   1022 14013  7918  4294 3890 \n",
       "pedLGG 11557   12128 5329  384  51   2298 23465 13228  7591 6190 \n",
       "MB       662     390  188   29   2    283   978   529   326  246 \n",
       "pedHGG   849     421  226   20   2    165   870   568   225  176 \n",
       "EPN     2705    5621 2323   76   6    820  3367  1912  1045  832 \n",
       "SCHW     335     325  213    8  NA    143   559   422   219  221 \n",
       "CP       284     294  148   13  NA     95   305   187   110   92 \n",
       "ATRT    1950    1514  634   25   9    441  3141  1842   889  757 \n",
       "MNG      158     160   78    8  NA     28   162   109    60   57 \n",
       "ETMR       8       4    2   NA  NA      8     7     4     3    3 \n",
       "NBL    22980    9969 5253  769  24   9214 33214 16558 11092 8543 "
      ]
     },
     "metadata": {},
     "output_type": "display_data"
    }
   ],
   "source": [
    "cgenes"
   ]
  },
  {
   "cell_type": "code",
   "execution_count": 48,
   "metadata": {},
   "outputs": [],
   "source": [
    "cgenes[is.na(cgenes)] <- 0"
   ]
  },
  {
   "cell_type": "code",
   "execution_count": 49,
   "metadata": {},
   "outputs": [],
   "source": [
    "total_isotypes <- as.data.frame(rowSums(cgenes))"
   ]
  },
  {
   "cell_type": "code",
   "execution_count": 50,
   "metadata": {},
   "outputs": [],
   "source": [
    "total_isotypes$cohort <- rownames(total_isotypes)\n",
    "\n",
    "colnames(total_isotypes) <- c(\"total_isotypes\", \"cohort\")"
   ]
  },
  {
   "cell_type": "code",
   "execution_count": 51,
   "metadata": {},
   "outputs": [],
   "source": [
    "ped_samples <- metadata_IC[metadata_IC$sample_id %in% all_merge_separate$sample_id,]"
   ]
  },
  {
   "cell_type": "code",
   "execution_count": 52,
   "metadata": {},
   "outputs": [],
   "source": [
    "ped_samples_cohort <- as.data.frame(table(ped_samples$cohort), stringsAsFactors = F)"
   ]
  },
  {
   "cell_type": "code",
   "execution_count": 53,
   "metadata": {},
   "outputs": [],
   "source": [
    "colnames(ped_samples_cohort) <- c(\"cohort\", \"samples\")"
   ]
  },
  {
   "cell_type": "code",
   "execution_count": 54,
   "metadata": {},
   "outputs": [],
   "source": [
    "total_isotypes <- merge(total_isotypes, ped_samples_cohort, by = \"cohort\")"
   ]
  },
  {
   "cell_type": "code",
   "execution_count": 55,
   "metadata": {},
   "outputs": [],
   "source": [
    "total_isotypes$isotype_sample <- total_isotypes$total_isotypes/total_isotypes$samples"
   ]
  },
  {
   "cell_type": "code",
   "execution_count": 56,
   "metadata": {},
   "outputs": [
    {
     "data": {
      "text/html": [
       "<table class=\"dataframe\">\n",
       "<caption>A data.frame: 12 × 4</caption>\n",
       "<thead>\n",
       "\t<tr><th scope=col>cohort</th><th scope=col>total_isotypes</th><th scope=col>samples</th><th scope=col>isotype_sample</th></tr>\n",
       "\t<tr><th scope=col>&lt;chr&gt;</th><th scope=col>&lt;dbl&gt;</th><th scope=col>&lt;int&gt;</th><th scope=col>&lt;dbl&gt;</th></tr>\n",
       "</thead>\n",
       "<tbody>\n",
       "\t<tr><td>ATRT  </td><td> 11202</td><td> 28</td><td> 400.07143</td></tr>\n",
       "\t<tr><td>CP    </td><td>  1528</td><td> 15</td><td> 101.86667</td></tr>\n",
       "\t<tr><td>CPH   </td><td> 45791</td><td> 27</td><td>1695.96296</td></tr>\n",
       "\t<tr><td>EPN   </td><td> 18707</td><td> 61</td><td> 306.67213</td></tr>\n",
       "\t<tr><td>ETMR  </td><td>    39</td><td>  4</td><td>   9.75000</td></tr>\n",
       "\t<tr><td>MB    </td><td>  3633</td><td>108</td><td>  33.63889</td></tr>\n",
       "\t<tr><td>MNG   </td><td>   820</td><td> 12</td><td>  68.33333</td></tr>\n",
       "\t<tr><td>NBL   </td><td>117616</td><td>145</td><td> 811.14483</td></tr>\n",
       "\t<tr><td>NFB   </td><td>   198</td><td> 11</td><td>  18.00000</td></tr>\n",
       "\t<tr><td>pedHGG</td><td>  3522</td><td> 57</td><td>  61.78947</td></tr>\n",
       "\t<tr><td>pedLGG</td><td> 82221</td><td>260</td><td> 316.23462</td></tr>\n",
       "\t<tr><td>SCHW  </td><td>  2445</td><td> 14</td><td> 174.64286</td></tr>\n",
       "</tbody>\n",
       "</table>\n"
      ],
      "text/latex": [
       "A data.frame: 12 × 4\n",
       "\\begin{tabular}{llll}\n",
       " cohort & total\\_isotypes & samples & isotype\\_sample\\\\\n",
       " <chr> & <dbl> & <int> & <dbl>\\\\\n",
       "\\hline\n",
       "\t ATRT   &  11202 &  28 &  400.07143\\\\\n",
       "\t CP     &   1528 &  15 &  101.86667\\\\\n",
       "\t CPH    &  45791 &  27 & 1695.96296\\\\\n",
       "\t EPN    &  18707 &  61 &  306.67213\\\\\n",
       "\t ETMR   &     39 &   4 &    9.75000\\\\\n",
       "\t MB     &   3633 & 108 &   33.63889\\\\\n",
       "\t MNG    &    820 &  12 &   68.33333\\\\\n",
       "\t NBL    & 117616 & 145 &  811.14483\\\\\n",
       "\t NFB    &    198 &  11 &   18.00000\\\\\n",
       "\t pedHGG &   3522 &  57 &   61.78947\\\\\n",
       "\t pedLGG &  82221 & 260 &  316.23462\\\\\n",
       "\t SCHW   &   2445 &  14 &  174.64286\\\\\n",
       "\\end{tabular}\n"
      ],
      "text/markdown": [
       "\n",
       "A data.frame: 12 × 4\n",
       "\n",
       "| cohort &lt;chr&gt; | total_isotypes &lt;dbl&gt; | samples &lt;int&gt; | isotype_sample &lt;dbl&gt; |\n",
       "|---|---|---|---|\n",
       "| ATRT   |  11202 |  28 |  400.07143 |\n",
       "| CP     |   1528 |  15 |  101.86667 |\n",
       "| CPH    |  45791 |  27 | 1695.96296 |\n",
       "| EPN    |  18707 |  61 |  306.67213 |\n",
       "| ETMR   |     39 |   4 |    9.75000 |\n",
       "| MB     |   3633 | 108 |   33.63889 |\n",
       "| MNG    |    820 |  12 |   68.33333 |\n",
       "| NBL    | 117616 | 145 |  811.14483 |\n",
       "| NFB    |    198 |  11 |   18.00000 |\n",
       "| pedHGG |   3522 |  57 |   61.78947 |\n",
       "| pedLGG |  82221 | 260 |  316.23462 |\n",
       "| SCHW   |   2445 |  14 |  174.64286 |\n",
       "\n"
      ],
      "text/plain": [
       "   cohort total_isotypes samples isotype_sample\n",
       "1  ATRT    11202          28      400.07143    \n",
       "2  CP       1528          15      101.86667    \n",
       "3  CPH     45791          27     1695.96296    \n",
       "4  EPN     18707          61      306.67213    \n",
       "5  ETMR       39           4        9.75000    \n",
       "6  MB       3633         108       33.63889    \n",
       "7  MNG       820          12       68.33333    \n",
       "8  NBL    117616         145      811.14483    \n",
       "9  NFB       198          11       18.00000    \n",
       "10 pedHGG   3522          57       61.78947    \n",
       "11 pedLGG  82221         260      316.23462    \n",
       "12 SCHW     2445          14      174.64286    "
      ]
     },
     "metadata": {},
     "output_type": "display_data"
    }
   ],
   "source": [
    "total_isotypes"
   ]
  },
  {
   "cell_type": "code",
   "execution_count": 57,
   "metadata": {},
   "outputs": [],
   "source": [
    "total_isotypes$cohort <- factor(total_isotypes$cohort, levels = total_isotypes$cohort[order(total_isotypes$isotype_sample, decreasing = T)])"
   ]
  },
  {
   "cell_type": "code",
   "execution_count": 58,
   "metadata": {},
   "outputs": [],
   "source": [
    "total_isotypes_p <- ggplot(total_isotypes, \n",
    "                            aes(x = cohort, y = isotype_sample)) + \n",
    "geom_bar(stat = \"identity\", width = 0.7) + myaxis + myplot +\n",
    "theme(axis.title.x=element_blank(),axis.text.x=element_blank())"
   ]
  },
  {
   "cell_type": "code",
   "execution_count": 59,
   "metadata": {},
   "outputs": [
    {
     "data": {
      "image/png": "[encoded data removed]",
      "text/plain": [
       "plot without title"
      ]
     },
     "metadata": {
      "image/png": {
       "height": 420,
       "width": 420
      }
     },
     "output_type": "display_data"
    }
   ],
   "source": [
    "total_isotypes_p"
   ]
  },
  {
   "cell_type": "markdown",
   "metadata": {},
   "source": [
    "Convert to percentage within each cancer type"
   ]
  },
  {
   "cell_type": "code",
   "execution_count": 60,
   "metadata": {},
   "outputs": [
    {
     "data": {
      "text/html": [
       "<table class=\"dataframe\">\n",
       "<caption>A data.frame: 12 × 10</caption>\n",
       "<thead>\n",
       "\t<tr><th></th><th scope=col>Unknown</th><th scope=col>IGHA1</th><th scope=col>IGHA2</th><th scope=col>IGHD</th><th scope=col>IGHE</th><th scope=col>IGHM</th><th scope=col>IGHG1</th><th scope=col>IGHG2</th><th scope=col>IGHG3</th><th scope=col>IGHG4</th></tr>\n",
       "\t<tr><th></th><th scope=col>&lt;dbl&gt;</th><th scope=col>&lt;dbl&gt;</th><th scope=col>&lt;dbl&gt;</th><th scope=col>&lt;dbl&gt;</th><th scope=col>&lt;dbl&gt;</th><th scope=col>&lt;dbl&gt;</th><th scope=col>&lt;dbl&gt;</th><th scope=col>&lt;dbl&gt;</th><th scope=col>&lt;dbl&gt;</th><th scope=col>&lt;dbl&gt;</th></tr>\n",
       "</thead>\n",
       "<tbody>\n",
       "\t<tr><th scope=row>NFB</th><td>0.1464646</td><td>0.14141414</td><td>0.10101010</td><td>0.005050505</td><td>0.0050505051</td><td>0.03535354</td><td>0.2474747</td><td>0.1717172</td><td>0.06565657</td><td>0.08080808</td></tr>\n",
       "\t<tr><th scope=row>CPH</th><td>0.1536328</td><td>0.11008714</td><td>0.05228102</td><td>0.003232076</td><td>0.0007861807</td><td>0.02231880</td><td>0.3060208</td><td>0.1729161</td><td>0.09377389</td><td>0.08495119</td></tr>\n",
       "\t<tr><th scope=row>pedLGG</th><td>0.1405602</td><td>0.14750490</td><td>0.06481313</td><td>0.004670340</td><td>0.0006202795</td><td>0.02794906</td><td>0.2853894</td><td>0.1608835</td><td>0.09232435</td><td>0.07528490</td></tr>\n",
       "\t<tr><th scope=row>MB</th><td>0.1822186</td><td>0.10734930</td><td>0.05174787</td><td>0.007982384</td><td>0.0005505092</td><td>0.07789705</td><td>0.2691990</td><td>0.1456097</td><td>0.08973300</td><td>0.06771263</td></tr>\n",
       "\t<tr><th scope=row>pedHGG</th><td>0.2410562</td><td>0.11953436</td><td>0.06416809</td><td>0.005678592</td><td>0.0005678592</td><td>0.04684838</td><td>0.2470187</td><td>0.1612720</td><td>0.06388416</td><td>0.04997161</td></tr>\n",
       "\t<tr><th scope=row>EPN</th><td>0.1445983</td><td>0.30047576</td><td>0.12417812</td><td>0.004062650</td><td>0.0003207356</td><td>0.04383386</td><td>0.1799861</td><td>0.1022077</td><td>0.05586144</td><td>0.04447533</td></tr>\n",
       "\t<tr><th scope=row>SCHW</th><td>0.1370143</td><td>0.13292434</td><td>0.08711656</td><td>0.003271984</td><td>0.0000000000</td><td>0.05848671</td><td>0.2286299</td><td>0.1725971</td><td>0.08957055</td><td>0.09038855</td></tr>\n",
       "\t<tr><th scope=row>CP</th><td>0.1858639</td><td>0.19240838</td><td>0.09685864</td><td>0.008507853</td><td>0.0000000000</td><td>0.06217277</td><td>0.1996073</td><td>0.1223822</td><td>0.07198953</td><td>0.06020942</td></tr>\n",
       "\t<tr><th scope=row>ATRT</th><td>0.1740761</td><td>0.13515444</td><td>0.05659704</td><td>0.002231744</td><td>0.0008034280</td><td>0.03936797</td><td>0.2803964</td><td>0.1644349</td><td>0.07936083</td><td>0.06757722</td></tr>\n",
       "\t<tr><th scope=row>MNG</th><td>0.1926829</td><td>0.19512195</td><td>0.09512195</td><td>0.009756098</td><td>0.0000000000</td><td>0.03414634</td><td>0.1975610</td><td>0.1329268</td><td>0.07317073</td><td>0.06951220</td></tr>\n",
       "\t<tr><th scope=row>ETMR</th><td>0.2051282</td><td>0.10256410</td><td>0.05128205</td><td>0.000000000</td><td>0.0000000000</td><td>0.20512821</td><td>0.1794872</td><td>0.1025641</td><td>0.07692308</td><td>0.07692308</td></tr>\n",
       "\t<tr><th scope=row>NBL</th><td>0.1953816</td><td>0.08475888</td><td>0.04466229</td><td>0.006538226</td><td>0.0002040539</td><td>0.07833968</td><td>0.2823936</td><td>0.1407802</td><td>0.09430690</td><td>0.07263468</td></tr>\n",
       "</tbody>\n",
       "</table>\n"
      ],
      "text/latex": [
       "A data.frame: 12 × 10\n",
       "\\begin{tabular}{r|llllllllll}\n",
       "  & Unknown & IGHA1 & IGHA2 & IGHD & IGHE & IGHM & IGHG1 & IGHG2 & IGHG3 & IGHG4\\\\\n",
       "  & <dbl> & <dbl> & <dbl> & <dbl> & <dbl> & <dbl> & <dbl> & <dbl> & <dbl> & <dbl>\\\\\n",
       "\\hline\n",
       "\tNFB & 0.1464646 & 0.14141414 & 0.10101010 & 0.005050505 & 0.0050505051 & 0.03535354 & 0.2474747 & 0.1717172 & 0.06565657 & 0.08080808\\\\\n",
       "\tCPH & 0.1536328 & 0.11008714 & 0.05228102 & 0.003232076 & 0.0007861807 & 0.02231880 & 0.3060208 & 0.1729161 & 0.09377389 & 0.08495119\\\\\n",
       "\tpedLGG & 0.1405602 & 0.14750490 & 0.06481313 & 0.004670340 & 0.0006202795 & 0.02794906 & 0.2853894 & 0.1608835 & 0.09232435 & 0.07528490\\\\\n",
       "\tMB & 0.1822186 & 0.10734930 & 0.05174787 & 0.007982384 & 0.0005505092 & 0.07789705 & 0.2691990 & 0.1456097 & 0.08973300 & 0.06771263\\\\\n",
       "\tpedHGG & 0.2410562 & 0.11953436 & 0.06416809 & 0.005678592 & 0.0005678592 & 0.04684838 & 0.2470187 & 0.1612720 & 0.06388416 & 0.04997161\\\\\n",
       "\tEPN & 0.1445983 & 0.30047576 & 0.12417812 & 0.004062650 & 0.0003207356 & 0.04383386 & 0.1799861 & 0.1022077 & 0.05586144 & 0.04447533\\\\\n",
       "\tSCHW & 0.1370143 & 0.13292434 & 0.08711656 & 0.003271984 & 0.0000000000 & 0.05848671 & 0.2286299 & 0.1725971 & 0.08957055 & 0.09038855\\\\\n",
       "\tCP & 0.1858639 & 0.19240838 & 0.09685864 & 0.008507853 & 0.0000000000 & 0.06217277 & 0.1996073 & 0.1223822 & 0.07198953 & 0.06020942\\\\\n",
       "\tATRT & 0.1740761 & 0.13515444 & 0.05659704 & 0.002231744 & 0.0008034280 & 0.03936797 & 0.2803964 & 0.1644349 & 0.07936083 & 0.06757722\\\\\n",
       "\tMNG & 0.1926829 & 0.19512195 & 0.09512195 & 0.009756098 & 0.0000000000 & 0.03414634 & 0.1975610 & 0.1329268 & 0.07317073 & 0.06951220\\\\\n",
       "\tETMR & 0.2051282 & 0.10256410 & 0.05128205 & 0.000000000 & 0.0000000000 & 0.20512821 & 0.1794872 & 0.1025641 & 0.07692308 & 0.07692308\\\\\n",
       "\tNBL & 0.1953816 & 0.08475888 & 0.04466229 & 0.006538226 & 0.0002040539 & 0.07833968 & 0.2823936 & 0.1407802 & 0.09430690 & 0.07263468\\\\\n",
       "\\end{tabular}\n"
      ],
      "text/markdown": [
       "\n",
       "A data.frame: 12 × 10\n",
       "\n",
       "| <!--/--> | Unknown &lt;dbl&gt; | IGHA1 &lt;dbl&gt; | IGHA2 &lt;dbl&gt; | IGHD &lt;dbl&gt; | IGHE &lt;dbl&gt; | IGHM &lt;dbl&gt; | IGHG1 &lt;dbl&gt; | IGHG2 &lt;dbl&gt; | IGHG3 &lt;dbl&gt; | IGHG4 &lt;dbl&gt; |\n",
       "|---|---|---|---|---|---|---|---|---|---|---|\n",
       "| NFB | 0.1464646 | 0.14141414 | 0.10101010 | 0.005050505 | 0.0050505051 | 0.03535354 | 0.2474747 | 0.1717172 | 0.06565657 | 0.08080808 |\n",
       "| CPH | 0.1536328 | 0.11008714 | 0.05228102 | 0.003232076 | 0.0007861807 | 0.02231880 | 0.3060208 | 0.1729161 | 0.09377389 | 0.08495119 |\n",
       "| pedLGG | 0.1405602 | 0.14750490 | 0.06481313 | 0.004670340 | 0.0006202795 | 0.02794906 | 0.2853894 | 0.1608835 | 0.09232435 | 0.07528490 |\n",
       "| MB | 0.1822186 | 0.10734930 | 0.05174787 | 0.007982384 | 0.0005505092 | 0.07789705 | 0.2691990 | 0.1456097 | 0.08973300 | 0.06771263 |\n",
       "| pedHGG | 0.2410562 | 0.11953436 | 0.06416809 | 0.005678592 | 0.0005678592 | 0.04684838 | 0.2470187 | 0.1612720 | 0.06388416 | 0.04997161 |\n",
       "| EPN | 0.1445983 | 0.30047576 | 0.12417812 | 0.004062650 | 0.0003207356 | 0.04383386 | 0.1799861 | 0.1022077 | 0.05586144 | 0.04447533 |\n",
       "| SCHW | 0.1370143 | 0.13292434 | 0.08711656 | 0.003271984 | 0.0000000000 | 0.05848671 | 0.2286299 | 0.1725971 | 0.08957055 | 0.09038855 |\n",
       "| CP | 0.1858639 | 0.19240838 | 0.09685864 | 0.008507853 | 0.0000000000 | 0.06217277 | 0.1996073 | 0.1223822 | 0.07198953 | 0.06020942 |\n",
       "| ATRT | 0.1740761 | 0.13515444 | 0.05659704 | 0.002231744 | 0.0008034280 | 0.03936797 | 0.2803964 | 0.1644349 | 0.07936083 | 0.06757722 |\n",
       "| MNG | 0.1926829 | 0.19512195 | 0.09512195 | 0.009756098 | 0.0000000000 | 0.03414634 | 0.1975610 | 0.1329268 | 0.07317073 | 0.06951220 |\n",
       "| ETMR | 0.2051282 | 0.10256410 | 0.05128205 | 0.000000000 | 0.0000000000 | 0.20512821 | 0.1794872 | 0.1025641 | 0.07692308 | 0.07692308 |\n",
       "| NBL | 0.1953816 | 0.08475888 | 0.04466229 | 0.006538226 | 0.0002040539 | 0.07833968 | 0.2823936 | 0.1407802 | 0.09430690 | 0.07263468 |\n",
       "\n"
      ],
      "text/plain": [
       "       Unknown   IGHA1      IGHA2      IGHD        IGHE         IGHM      \n",
       "NFB    0.1464646 0.14141414 0.10101010 0.005050505 0.0050505051 0.03535354\n",
       "CPH    0.1536328 0.11008714 0.05228102 0.003232076 0.0007861807 0.02231880\n",
       "pedLGG 0.1405602 0.14750490 0.06481313 0.004670340 0.0006202795 0.02794906\n",
       "MB     0.1822186 0.10734930 0.05174787 0.007982384 0.0005505092 0.07789705\n",
       "pedHGG 0.2410562 0.11953436 0.06416809 0.005678592 0.0005678592 0.04684838\n",
       "EPN    0.1445983 0.30047576 0.12417812 0.004062650 0.0003207356 0.04383386\n",
       "SCHW   0.1370143 0.13292434 0.08711656 0.003271984 0.0000000000 0.05848671\n",
       "CP     0.1858639 0.19240838 0.09685864 0.008507853 0.0000000000 0.06217277\n",
       "ATRT   0.1740761 0.13515444 0.05659704 0.002231744 0.0008034280 0.03936797\n",
       "MNG    0.1926829 0.19512195 0.09512195 0.009756098 0.0000000000 0.03414634\n",
       "ETMR   0.2051282 0.10256410 0.05128205 0.000000000 0.0000000000 0.20512821\n",
       "NBL    0.1953816 0.08475888 0.04466229 0.006538226 0.0002040539 0.07833968\n",
       "       IGHG1     IGHG2     IGHG3      IGHG4     \n",
       "NFB    0.2474747 0.1717172 0.06565657 0.08080808\n",
       "CPH    0.3060208 0.1729161 0.09377389 0.08495119\n",
       "pedLGG 0.2853894 0.1608835 0.09232435 0.07528490\n",
       "MB     0.2691990 0.1456097 0.08973300 0.06771263\n",
       "pedHGG 0.2470187 0.1612720 0.06388416 0.04997161\n",
       "EPN    0.1799861 0.1022077 0.05586144 0.04447533\n",
       "SCHW   0.2286299 0.1725971 0.08957055 0.09038855\n",
       "CP     0.1996073 0.1223822 0.07198953 0.06020942\n",
       "ATRT   0.2803964 0.1644349 0.07936083 0.06757722\n",
       "MNG    0.1975610 0.1329268 0.07317073 0.06951220\n",
       "ETMR   0.1794872 0.1025641 0.07692308 0.07692308\n",
       "NBL    0.2823936 0.1407802 0.09430690 0.07263468"
      ]
     },
     "metadata": {},
     "output_type": "display_data"
    }
   ],
   "source": [
    "cgenes_perc <- cgenes/rowSums(cgenes)\n",
    "cgenes_perc"
   ]
  },
  {
   "cell_type": "code",
   "execution_count": 61,
   "metadata": {},
   "outputs": [],
   "source": [
    "cgenes_perc$cohort <- rownames(cgenes_perc)"
   ]
  },
  {
   "cell_type": "code",
   "execution_count": 62,
   "metadata": {},
   "outputs": [
    {
     "name": "stderr",
     "output_type": "stream",
     "text": [
      "Using cohort as id variables\n",
      "\n"
     ]
    }
   ],
   "source": [
    "cgenes_m <- reshape2::melt(cgenes_perc)"
   ]
  },
  {
   "cell_type": "code",
   "execution_count": 63,
   "metadata": {},
   "outputs": [],
   "source": [
    "cohortorder <- levels(total_isotypes$cohort)"
   ]
  },
  {
   "cell_type": "code",
   "execution_count": 64,
   "metadata": {},
   "outputs": [],
   "source": [
    "cgenes_m$cohort <- factor(cgenes_m$cohort, levels = levels(total_isotypes$cohort))"
   ]
  },
  {
   "cell_type": "code",
   "execution_count": 65,
   "metadata": {},
   "outputs": [],
   "source": [
    "colpal <- c(\n",
    "\"IGHA1\" = \"#74a9cf\",\n",
    "\"IGHA2\" = \"#034e7b\",\n",
    "\"IGHD\" = \"#bf812d\", \n",
    "\"IGHE\" = \"#5aae61\",\n",
    "\"IGHM\" = \"#762a83\",\n",
    "\"IGHG1\" = \"#fc8d59\",\n",
    "\"IGHG2\" = \"#ef6548\",\n",
    "\"IGHG3\" = \"#d7301f\",\n",
    "\"IGHG4\" = \"#990000\",\n",
    "\"Unknown\" = \"#bababa\")"
   ]
  },
  {
   "cell_type": "code",
   "execution_count": 66,
   "metadata": {},
   "outputs": [],
   "source": [
    "isotypes_stacked <- ggplot(cgenes_m, \n",
    "                            aes(x = cohort, y = value, fill = variable)) + \n",
    "geom_bar(stat = \"identity\",\n",
    "        width = 0.7) + scale_fill_manual(values = colpal) + \n",
    "myplot + theme(legend.position = \"bottom\", legend.title = element_blank()) +\n",
    "  theme(axis.title = element_blank(),\n",
    "        axis.line = element_line(color = \"black\"),\n",
    "        axis.text.x = element_text(size = 25,angle = 45, hjust = 1, color = \"black\"),\n",
    "        axis.text.y = element_text(size = 25, color = \"black\")) "
   ]
  },
  {
   "cell_type": "code",
   "execution_count": 67,
   "metadata": {},
   "outputs": [
    {
     "data": {
      "image/png": "[encoded data removed]",
      "text/plain": [
       "plot without title"
      ]
     },
     "metadata": {
      "image/png": {
       "height": 420,
       "width": 420
      }
     },
     "output_type": "display_data"
    }
   ],
   "source": [
    "isotypes_stacked "
   ]
  },
  {
   "cell_type": "code",
   "execution_count": 68,
   "metadata": {
    "scrolled": false
   },
   "outputs": [
    {
     "data": {
      "image/png": "[encoded data removed]",
      "text/plain": [
       "plot without title"
      ]
     },
     "metadata": {
      "image/png": {
       "height": 420,
       "width": 420
      }
     },
     "output_type": "display_data"
    }
   ],
   "source": [
    " gA <- ggplotGrob(isotypes_stacked)\n",
    " gB <- ggplotGrob(total_isotypes_p)\n",
    " maxWidth = grid::unit.pmax(gA$widths[2:5], gB$widths[2:5])\n",
    " gA$widths[2:5] <- as.list(maxWidth)\n",
    " gB$widths[2:5] <- as.list(maxWidth)\n",
    " grid.arrange(gB, gA, ncol=1, heights = c(1,4))"
   ]
  },
  {
   "cell_type": "code",
   "execution_count": 69,
   "metadata": {},
   "outputs": [
    {
     "data": {
      "text/html": [
       "<strong>pdf:</strong> 2"
      ],
      "text/latex": [
       "\\textbf{pdf:} 2"
      ],
      "text/markdown": [
       "**pdf:** 2"
      ],
      "text/plain": [
       "pdf \n",
       "  2 "
      ]
     },
     "metadata": {},
     "output_type": "display_data"
    }
   ],
   "source": [
    "pdf(file = paste0(plotpath,\"isotypes_IGH.pdf\"),\n",
    "        width = 10, \n",
    "        height = 15,\n",
    "        useDingbats = FALSE)\n",
    " grid.arrange(gB, gA, ncol=1, heights = c(1,3))\n",
    "dev.off()"
   ]
  },
  {
   "cell_type": "markdown",
   "metadata": {},
   "source": [
    "## IGH isotypes in immune clusters"
   ]
  },
  {
   "cell_type": "code",
   "execution_count": 70,
   "metadata": {},
   "outputs": [
    {
     "data": {
      "text/plain": [
       "\n",
       "Pediatric inflamed     Myeloid-driven     Pediatric cold    Immune excluded \n",
       "            109791              60929              22360               5118 "
      ]
     },
     "metadata": {},
     "output_type": "display_data"
    }
   ],
   "source": [
    "table(all_merge$immune_cluster)"
   ]
  },
  {
   "cell_type": "code",
   "execution_count": 71,
   "metadata": {},
   "outputs": [],
   "source": [
    "cgenes <- as.data.frame(matrix(ncol = 10, nrow = 4))\n",
    "rownames(cgenes) <- unique(all_merge$immune_cluster)\n",
    "colnames(cgenes) <- c(\"Unknown\",\"IGHA1\" ,\"IGHA2\",\"IGHD\", \"IGHE\" ,\"IGHM\",\n",
    "                      \"IGHG1\",\"IGHG2\",\"IGHG3\",\"IGHG4\")"
   ]
  },
  {
   "cell_type": "code",
   "execution_count": 72,
   "metadata": {},
   "outputs": [],
   "source": [
    "for(i in 1:nrow(cgenes)){\n",
    "    tmp <- all_merge_separate[all_merge_separate$immune_cluster == rownames(cgenes)[i],]\n",
    "    mytab <- as.data.frame(table(tmp$Cgene), stringsAsFactors = F)\n",
    "    cgenes[i, match(mytab$Var1, colnames(cgenes))] <- mytab$Freq   \n",
    "}"
   ]
  },
  {
   "cell_type": "code",
   "execution_count": 73,
   "metadata": {},
   "outputs": [
    {
     "data": {
      "text/html": [
       "<table class=\"dataframe\">\n",
       "<caption>A data.frame: 4 × 10</caption>\n",
       "<thead>\n",
       "\t<tr><th></th><th scope=col>Unknown</th><th scope=col>IGHA1</th><th scope=col>IGHA2</th><th scope=col>IGHD</th><th scope=col>IGHE</th><th scope=col>IGHM</th><th scope=col>IGHG1</th><th scope=col>IGHG2</th><th scope=col>IGHG3</th><th scope=col>IGHG4</th></tr>\n",
       "\t<tr><th></th><th scope=col>&lt;int&gt;</th><th scope=col>&lt;int&gt;</th><th scope=col>&lt;int&gt;</th><th scope=col>&lt;int&gt;</th><th scope=col>&lt;int&gt;</th><th scope=col>&lt;int&gt;</th><th scope=col>&lt;int&gt;</th><th scope=col>&lt;int&gt;</th><th scope=col>&lt;int&gt;</th><th scope=col>&lt;int&gt;</th></tr>\n",
       "</thead>\n",
       "<tbody>\n",
       "\t<tr><th scope=row>Myeloid-driven</th><td>15295</td><td>10633</td><td>5003</td><td>423</td><td>41</td><td>3957</td><td>24560</td><td>13833</td><td> 8039</td><td> 6806</td></tr>\n",
       "\t<tr><th scope=row>Immune excluded</th><td> 1619</td><td>  904</td><td> 537</td><td> 29</td><td> 1</td><td> 228</td><td> 1942</td><td> 1123</td><td>  687</td><td>  568</td></tr>\n",
       "\t<tr><th scope=row>Pediatric cold</th><td> 5976</td><td> 3584</td><td>1743</td><td>178</td><td>23</td><td>1636</td><td> 9319</td><td> 5103</td><td> 3237</td><td> 2401</td></tr>\n",
       "\t<tr><th scope=row>Pediatric inflamed</th><td>25662</td><td>20774</td><td>9525</td><td>851</td><td>66</td><td>8703</td><td>44309</td><td>23252</td><td>13904</td><td>11248</td></tr>\n",
       "</tbody>\n",
       "</table>\n"
      ],
      "text/latex": [
       "A data.frame: 4 × 10\n",
       "\\begin{tabular}{r|llllllllll}\n",
       "  & Unknown & IGHA1 & IGHA2 & IGHD & IGHE & IGHM & IGHG1 & IGHG2 & IGHG3 & IGHG4\\\\\n",
       "  & <int> & <int> & <int> & <int> & <int> & <int> & <int> & <int> & <int> & <int>\\\\\n",
       "\\hline\n",
       "\tMyeloid-driven & 15295 & 10633 & 5003 & 423 & 41 & 3957 & 24560 & 13833 &  8039 &  6806\\\\\n",
       "\tImmune excluded &  1619 &   904 &  537 &  29 &  1 &  228 &  1942 &  1123 &   687 &   568\\\\\n",
       "\tPediatric cold &  5976 &  3584 & 1743 & 178 & 23 & 1636 &  9319 &  5103 &  3237 &  2401\\\\\n",
       "\tPediatric inflamed & 25662 & 20774 & 9525 & 851 & 66 & 8703 & 44309 & 23252 & 13904 & 11248\\\\\n",
       "\\end{tabular}\n"
      ],
      "text/markdown": [
       "\n",
       "A data.frame: 4 × 10\n",
       "\n",
       "| <!--/--> | Unknown &lt;int&gt; | IGHA1 &lt;int&gt; | IGHA2 &lt;int&gt; | IGHD &lt;int&gt; | IGHE &lt;int&gt; | IGHM &lt;int&gt; | IGHG1 &lt;int&gt; | IGHG2 &lt;int&gt; | IGHG3 &lt;int&gt; | IGHG4 &lt;int&gt; |\n",
       "|---|---|---|---|---|---|---|---|---|---|---|\n",
       "| Myeloid-driven | 15295 | 10633 | 5003 | 423 | 41 | 3957 | 24560 | 13833 |  8039 |  6806 |\n",
       "| Immune excluded |  1619 |   904 |  537 |  29 |  1 |  228 |  1942 |  1123 |   687 |   568 |\n",
       "| Pediatric cold |  5976 |  3584 | 1743 | 178 | 23 | 1636 |  9319 |  5103 |  3237 |  2401 |\n",
       "| Pediatric inflamed | 25662 | 20774 | 9525 | 851 | 66 | 8703 | 44309 | 23252 | 13904 | 11248 |\n",
       "\n"
      ],
      "text/plain": [
       "                   Unknown IGHA1 IGHA2 IGHD IGHE IGHM IGHG1 IGHG2 IGHG3 IGHG4\n",
       "Myeloid-driven     15295   10633 5003  423  41   3957 24560 13833  8039  6806\n",
       "Immune excluded     1619     904  537   29   1    228  1942  1123   687   568\n",
       "Pediatric cold      5976    3584 1743  178  23   1636  9319  5103  3237  2401\n",
       "Pediatric inflamed 25662   20774 9525  851  66   8703 44309 23252 13904 11248"
      ]
     },
     "metadata": {},
     "output_type": "display_data"
    }
   ],
   "source": [
    "cgenes"
   ]
  },
  {
   "cell_type": "code",
   "execution_count": 74,
   "metadata": {},
   "outputs": [],
   "source": [
    "total_isotypes <- as.data.frame(rowSums(cgenes))"
   ]
  },
  {
   "cell_type": "code",
   "execution_count": 75,
   "metadata": {},
   "outputs": [],
   "source": [
    "total_isotypes$immune_cluster <- rownames(total_isotypes)\n",
    "\n",
    "colnames(total_isotypes) <- c(\"total_isotypes\", \"immune_cluster\")"
   ]
  },
  {
   "cell_type": "code",
   "execution_count": 76,
   "metadata": {},
   "outputs": [],
   "source": [
    "ped_samples <- metadata_IC[metadata_IC$sample_id %in% all_merge_separate$sample_id,]"
   ]
  },
  {
   "cell_type": "code",
   "execution_count": 77,
   "metadata": {},
   "outputs": [],
   "source": [
    "ped_samples_IC <- as.data.frame(table(ped_samples$immune_cluster), stringsAsFactors = F)"
   ]
  },
  {
   "cell_type": "code",
   "execution_count": 78,
   "metadata": {},
   "outputs": [],
   "source": [
    "colnames(ped_samples_IC) <- c(\"immune_cluster\", \"samples\")"
   ]
  },
  {
   "cell_type": "code",
   "execution_count": 79,
   "metadata": {},
   "outputs": [],
   "source": [
    "total_isotypes <- merge(total_isotypes, ped_samples_IC, by = \"immune_cluster\")"
   ]
  },
  {
   "cell_type": "code",
   "execution_count": 80,
   "metadata": {},
   "outputs": [],
   "source": [
    "total_isotypes$isotype_sample <- total_isotypes$total_isotypes/total_isotypes$samples"
   ]
  },
  {
   "cell_type": "code",
   "execution_count": 81,
   "metadata": {},
   "outputs": [
    {
     "data": {
      "text/html": [
       "<table class=\"dataframe\">\n",
       "<caption>A data.frame: 4 × 4</caption>\n",
       "<thead>\n",
       "\t<tr><th scope=col>immune_cluster</th><th scope=col>total_isotypes</th><th scope=col>samples</th><th scope=col>isotype_sample</th></tr>\n",
       "\t<tr><th scope=col>&lt;chr&gt;</th><th scope=col>&lt;dbl&gt;</th><th scope=col>&lt;int&gt;</th><th scope=col>&lt;dbl&gt;</th></tr>\n",
       "</thead>\n",
       "<tbody>\n",
       "\t<tr><td>Immune excluded   </td><td>  7638</td><td>130</td><td>  58.75385</td></tr>\n",
       "\t<tr><td>Myeloid-driven    </td><td> 88590</td><td>244</td><td> 363.07377</td></tr>\n",
       "\t<tr><td>Pediatric cold    </td><td> 33200</td><td>278</td><td> 119.42446</td></tr>\n",
       "\t<tr><td>Pediatric inflamed</td><td>158294</td><td> 90</td><td>1758.82222</td></tr>\n",
       "</tbody>\n",
       "</table>\n"
      ],
      "text/latex": [
       "A data.frame: 4 × 4\n",
       "\\begin{tabular}{llll}\n",
       " immune\\_cluster & total\\_isotypes & samples & isotype\\_sample\\\\\n",
       " <chr> & <dbl> & <int> & <dbl>\\\\\n",
       "\\hline\n",
       "\t Immune excluded    &   7638 & 130 &   58.75385\\\\\n",
       "\t Myeloid-driven     &  88590 & 244 &  363.07377\\\\\n",
       "\t Pediatric cold     &  33200 & 278 &  119.42446\\\\\n",
       "\t Pediatric inflamed & 158294 &  90 & 1758.82222\\\\\n",
       "\\end{tabular}\n"
      ],
      "text/markdown": [
       "\n",
       "A data.frame: 4 × 4\n",
       "\n",
       "| immune_cluster &lt;chr&gt; | total_isotypes &lt;dbl&gt; | samples &lt;int&gt; | isotype_sample &lt;dbl&gt; |\n",
       "|---|---|---|---|\n",
       "| Immune excluded    |   7638 | 130 |   58.75385 |\n",
       "| Myeloid-driven     |  88590 | 244 |  363.07377 |\n",
       "| Pediatric cold     |  33200 | 278 |  119.42446 |\n",
       "| Pediatric inflamed | 158294 |  90 | 1758.82222 |\n",
       "\n"
      ],
      "text/plain": [
       "  immune_cluster     total_isotypes samples isotype_sample\n",
       "1 Immune excluded      7638         130       58.75385    \n",
       "2 Myeloid-driven      88590         244      363.07377    \n",
       "3 Pediatric cold      33200         278      119.42446    \n",
       "4 Pediatric inflamed 158294          90     1758.82222    "
      ]
     },
     "metadata": {},
     "output_type": "display_data"
    }
   ],
   "source": [
    "total_isotypes"
   ]
  },
  {
   "cell_type": "code",
   "execution_count": 82,
   "metadata": {},
   "outputs": [],
   "source": [
    "total_isotypes$immune_cluster <- factor(total_isotypes$immune_cluster, levels = total_isotypes$immune_cluster[order(total_isotypes$isotype_sample, decreasing = T)])"
   ]
  },
  {
   "cell_type": "code",
   "execution_count": 83,
   "metadata": {},
   "outputs": [],
   "source": [
    "total_isotypes_p <- ggplot(total_isotypes, \n",
    "                            aes(x = immune_cluster, y = isotype_sample)) + \n",
    "geom_bar(stat = \"identity\", width = 0.7) + myaxis + myplot +\n",
    "theme(axis.title.x=element_blank(),axis.text.x=element_blank())"
   ]
  },
  {
   "cell_type": "code",
   "execution_count": 84,
   "metadata": {},
   "outputs": [
    {
     "data": {
      "image/png": "[encoded data removed]",
      "text/plain": [
       "plot without title"
      ]
     },
     "metadata": {
      "image/png": {
       "height": 420,
       "width": 420
      }
     },
     "output_type": "display_data"
    }
   ],
   "source": [
    "total_isotypes_p"
   ]
  },
  {
   "cell_type": "markdown",
   "metadata": {},
   "source": [
    "Convert to percentage within each cancer type"
   ]
  },
  {
   "cell_type": "code",
   "execution_count": 85,
   "metadata": {},
   "outputs": [
    {
     "data": {
      "text/html": [
       "<table class=\"dataframe\">\n",
       "<caption>A data.frame: 4 × 10</caption>\n",
       "<thead>\n",
       "\t<tr><th></th><th scope=col>Unknown</th><th scope=col>IGHA1</th><th scope=col>IGHA2</th><th scope=col>IGHD</th><th scope=col>IGHE</th><th scope=col>IGHM</th><th scope=col>IGHG1</th><th scope=col>IGHG2</th><th scope=col>IGHG3</th><th scope=col>IGHG4</th></tr>\n",
       "\t<tr><th></th><th scope=col>&lt;dbl&gt;</th><th scope=col>&lt;dbl&gt;</th><th scope=col>&lt;dbl&gt;</th><th scope=col>&lt;dbl&gt;</th><th scope=col>&lt;dbl&gt;</th><th scope=col>&lt;dbl&gt;</th><th scope=col>&lt;dbl&gt;</th><th scope=col>&lt;dbl&gt;</th><th scope=col>&lt;dbl&gt;</th><th scope=col>&lt;dbl&gt;</th></tr>\n",
       "</thead>\n",
       "<tbody>\n",
       "\t<tr><th scope=row>Myeloid-driven</th><td>0.1726493</td><td>0.1200248</td><td>0.05647364</td><td>0.004774805</td><td>0.0004628062</td><td>0.04466644</td><td>0.2772322</td><td>0.1561463</td><td>0.09074388</td><td>0.07682583</td></tr>\n",
       "\t<tr><th scope=row>Immune excluded</th><td>0.2119665</td><td>0.1183556</td><td>0.07030636</td><td>0.003796805</td><td>0.0001309243</td><td>0.02985075</td><td>0.2542550</td><td>0.1470280</td><td>0.08994501</td><td>0.07436502</td></tr>\n",
       "\t<tr><th scope=row>Pediatric cold</th><td>0.1800000</td><td>0.1079518</td><td>0.05250000</td><td>0.005361446</td><td>0.0006927711</td><td>0.04927711</td><td>0.2806928</td><td>0.1537048</td><td>0.09750000</td><td>0.07231928</td></tr>\n",
       "\t<tr><th scope=row>Pediatric inflamed</th><td>0.1621161</td><td>0.1312368</td><td>0.06017284</td><td>0.005376072</td><td>0.0004169457</td><td>0.05497997</td><td>0.2799159</td><td>0.1468912</td><td>0.08783656</td><td>0.07105765</td></tr>\n",
       "</tbody>\n",
       "</table>\n"
      ],
      "text/latex": [
       "A data.frame: 4 × 10\n",
       "\\begin{tabular}{r|llllllllll}\n",
       "  & Unknown & IGHA1 & IGHA2 & IGHD & IGHE & IGHM & IGHG1 & IGHG2 & IGHG3 & IGHG4\\\\\n",
       "  & <dbl> & <dbl> & <dbl> & <dbl> & <dbl> & <dbl> & <dbl> & <dbl> & <dbl> & <dbl>\\\\\n",
       "\\hline\n",
       "\tMyeloid-driven & 0.1726493 & 0.1200248 & 0.05647364 & 0.004774805 & 0.0004628062 & 0.04466644 & 0.2772322 & 0.1561463 & 0.09074388 & 0.07682583\\\\\n",
       "\tImmune excluded & 0.2119665 & 0.1183556 & 0.07030636 & 0.003796805 & 0.0001309243 & 0.02985075 & 0.2542550 & 0.1470280 & 0.08994501 & 0.07436502\\\\\n",
       "\tPediatric cold & 0.1800000 & 0.1079518 & 0.05250000 & 0.005361446 & 0.0006927711 & 0.04927711 & 0.2806928 & 0.1537048 & 0.09750000 & 0.07231928\\\\\n",
       "\tPediatric inflamed & 0.1621161 & 0.1312368 & 0.06017284 & 0.005376072 & 0.0004169457 & 0.05497997 & 0.2799159 & 0.1468912 & 0.08783656 & 0.07105765\\\\\n",
       "\\end{tabular}\n"
      ],
      "text/markdown": [
       "\n",
       "A data.frame: 4 × 10\n",
       "\n",
       "| <!--/--> | Unknown &lt;dbl&gt; | IGHA1 &lt;dbl&gt; | IGHA2 &lt;dbl&gt; | IGHD &lt;dbl&gt; | IGHE &lt;dbl&gt; | IGHM &lt;dbl&gt; | IGHG1 &lt;dbl&gt; | IGHG2 &lt;dbl&gt; | IGHG3 &lt;dbl&gt; | IGHG4 &lt;dbl&gt; |\n",
       "|---|---|---|---|---|---|---|---|---|---|---|\n",
       "| Myeloid-driven | 0.1726493 | 0.1200248 | 0.05647364 | 0.004774805 | 0.0004628062 | 0.04466644 | 0.2772322 | 0.1561463 | 0.09074388 | 0.07682583 |\n",
       "| Immune excluded | 0.2119665 | 0.1183556 | 0.07030636 | 0.003796805 | 0.0001309243 | 0.02985075 | 0.2542550 | 0.1470280 | 0.08994501 | 0.07436502 |\n",
       "| Pediatric cold | 0.1800000 | 0.1079518 | 0.05250000 | 0.005361446 | 0.0006927711 | 0.04927711 | 0.2806928 | 0.1537048 | 0.09750000 | 0.07231928 |\n",
       "| Pediatric inflamed | 0.1621161 | 0.1312368 | 0.06017284 | 0.005376072 | 0.0004169457 | 0.05497997 | 0.2799159 | 0.1468912 | 0.08783656 | 0.07105765 |\n",
       "\n"
      ],
      "text/plain": [
       "                   Unknown   IGHA1     IGHA2      IGHD        IGHE        \n",
       "Myeloid-driven     0.1726493 0.1200248 0.05647364 0.004774805 0.0004628062\n",
       "Immune excluded    0.2119665 0.1183556 0.07030636 0.003796805 0.0001309243\n",
       "Pediatric cold     0.1800000 0.1079518 0.05250000 0.005361446 0.0006927711\n",
       "Pediatric inflamed 0.1621161 0.1312368 0.06017284 0.005376072 0.0004169457\n",
       "                   IGHM       IGHG1     IGHG2     IGHG3      IGHG4     \n",
       "Myeloid-driven     0.04466644 0.2772322 0.1561463 0.09074388 0.07682583\n",
       "Immune excluded    0.02985075 0.2542550 0.1470280 0.08994501 0.07436502\n",
       "Pediatric cold     0.04927711 0.2806928 0.1537048 0.09750000 0.07231928\n",
       "Pediatric inflamed 0.05497997 0.2799159 0.1468912 0.08783656 0.07105765"
      ]
     },
     "metadata": {},
     "output_type": "display_data"
    }
   ],
   "source": [
    "cgenes_perc <- cgenes/rowSums(cgenes)\n",
    "cgenes_perc"
   ]
  },
  {
   "cell_type": "code",
   "execution_count": 86,
   "metadata": {},
   "outputs": [],
   "source": [
    "cgenes_perc$immune_cluster <- rownames(cgenes_perc)"
   ]
  },
  {
   "cell_type": "code",
   "execution_count": 87,
   "metadata": {},
   "outputs": [
    {
     "name": "stderr",
     "output_type": "stream",
     "text": [
      "Using immune_cluster as id variables\n",
      "\n"
     ]
    }
   ],
   "source": [
    "cgenes_m <- reshape2::melt(cgenes_perc)"
   ]
  },
  {
   "cell_type": "code",
   "execution_count": 88,
   "metadata": {},
   "outputs": [],
   "source": [
    "cohortorder <- levels(total_isotypes$immune_cluster)"
   ]
  },
  {
   "cell_type": "code",
   "execution_count": 89,
   "metadata": {},
   "outputs": [],
   "source": [
    "cgenes_m$immune_cluster <- factor(cgenes_m$immune_cluster, levels = levels(total_isotypes$immune_cluster))"
   ]
  },
  {
   "cell_type": "code",
   "execution_count": 90,
   "metadata": {},
   "outputs": [],
   "source": [
    "colpal <- c(\n",
    "\"IGHA1\" = \"#74a9cf\",\n",
    "\"IGHA2\" = \"#034e7b\",\n",
    "\"IGHD\" = \"#bf812d\", \n",
    "\"IGHE\" = \"#5aae61\",\n",
    "\"IGHM\" = \"#762a83\",\n",
    "\"IGHG1\" = \"#fc8d59\",\n",
    "\"IGHG2\" = \"#ef6548\",\n",
    "\"IGHG3\" = \"#d7301f\",\n",
    "\"IGHG4\" = \"#990000\",\n",
    "\"Unknown\" = \"#bababa\")"
   ]
  },
  {
   "cell_type": "code",
   "execution_count": 93,
   "metadata": {},
   "outputs": [],
   "source": [
    "isotypes_stacked <- ggplot(cgenes_m, \n",
    "                            aes(x = immune_cluster, y = value, fill = variable)) + \n",
    "geom_bar(stat = \"identity\",\n",
    "        width = 0.7) + scale_fill_manual(values = colpal) + \n",
    "myplot + theme(legend.position = \"bottom\", legend.title = element_blank()) +\n",
    "  theme(axis.title = element_blank(),\n",
    "        axis.line = element_line(color = \"black\"),\n",
    "        axis.text.x = element_text(size = 25, color = \"black\", angle = 45, hjust = 1),\n",
    "        axis.text.y = element_text(size = 25, color = \"black\")) "
   ]
  },
  {
   "cell_type": "code",
   "execution_count": 94,
   "metadata": {},
   "outputs": [
    {
     "data": {
      "image/png": "[encoded data removed]",
      "text/plain": [
       "plot without title"
      ]
     },
     "metadata": {
      "image/png": {
       "height": 420,
       "width": 420
      }
     },
     "output_type": "display_data"
    }
   ],
   "source": [
    "isotypes_stacked "
   ]
  },
  {
   "cell_type": "code",
   "execution_count": 95,
   "metadata": {
    "scrolled": false
   },
   "outputs": [
    {
     "data": {
      "image/png": "[encoded data removed]",
      "text/plain": [
       "plot without title"
      ]
     },
     "metadata": {
      "image/png": {
       "height": 420,
       "width": 420
      }
     },
     "output_type": "display_data"
    }
   ],
   "source": [
    " gA <- ggplotGrob(isotypes_stacked)\n",
    " gB <- ggplotGrob(total_isotypes_p)\n",
    " maxWidth = grid::unit.pmax(gA$widths[2:5], gB$widths[2:5])\n",
    " gA$widths[2:5] <- as.list(maxWidth)\n",
    " gB$widths[2:5] <- as.list(maxWidth)\n",
    " grid.arrange(gB, gA, ncol=1, heights = c(1,4))"
   ]
  },
  {
   "cell_type": "code",
   "execution_count": 96,
   "metadata": {},
   "outputs": [
    {
     "data": {
      "text/html": [
       "<strong>pdf:</strong> 2"
      ],
      "text/latex": [
       "\\textbf{pdf:} 2"
      ],
      "text/markdown": [
       "**pdf:** 2"
      ],
      "text/plain": [
       "pdf \n",
       "  2 "
      ]
     },
     "metadata": {},
     "output_type": "display_data"
    }
   ],
   "source": [
    "pdf(file = paste0(plotpath,\"isotypes_IGH_IC.pdf\"),\n",
    "        width = 10, \n",
    "        height = 15,\n",
    "        useDingbats = FALSE)\n",
    " grid.arrange(gB, gA, ncol=1, heights = c(1,3))\n",
    "dev.off()"
   ]
  },
  {
   "cell_type": "markdown",
   "metadata": {},
   "source": [
    "# IGH in MBs"
   ]
  },
  {
   "cell_type": "code",
   "execution_count": 159,
   "metadata": {},
   "outputs": [
    {
     "data": {
      "text/html": [
       "<table class=\"dataframe\">\n",
       "<caption>A data.frame: 1 × 38</caption>\n",
       "<thead>\n",
       "\t<tr><th></th><th scope=col>cloneId</th><th scope=col>cloneCount</th><th scope=col>cloneFraction</th><th scope=col>clonalSequence</th><th scope=col>clonalSequenceQuality</th><th scope=col>allVHitsWithScore</th><th scope=col>allDHitsWithScore</th><th scope=col>allJHitsWithScore</th><th scope=col>allCHitsWithScore</th><th scope=col>allVAlignments</th><th scope=col>⋯</th><th scope=col>aaSeqCDR1</th><th scope=col>aaSeqFR2</th><th scope=col>aaSeqCDR2</th><th scope=col>aaSeqFR3</th><th scope=col>aaSeqCDR3</th><th scope=col>aaSeqFR4</th><th scope=col>refPoints</th><th scope=col>filename</th><th scope=col>sample_id</th><th scope=col>aliquot</th></tr>\n",
       "\t<tr><th></th><th scope=col>&lt;int&gt;</th><th scope=col>&lt;int&gt;</th><th scope=col>&lt;dbl&gt;</th><th scope=col>&lt;chr&gt;</th><th scope=col>&lt;chr&gt;</th><th scope=col>&lt;chr&gt;</th><th scope=col>&lt;chr&gt;</th><th scope=col>&lt;chr&gt;</th><th scope=col>&lt;chr&gt;</th><th scope=col>&lt;chr&gt;</th><th scope=col>⋯</th><th scope=col>&lt;lgl&gt;</th><th scope=col>&lt;lgl&gt;</th><th scope=col>&lt;lgl&gt;</th><th scope=col>&lt;lgl&gt;</th><th scope=col>&lt;chr&gt;</th><th scope=col>&lt;lgl&gt;</th><th scope=col>&lt;chr&gt;</th><th scope=col>&lt;chr&gt;</th><th scope=col>&lt;chr&gt;</th><th scope=col>&lt;chr&gt;</th></tr>\n",
       "</thead>\n",
       "<tbody>\n",
       "\t<tr><th scope=row>253697</th><td>1</td><td>1</td><td>1</td><td>TGTGCGAGAACGCGAAGTGATCTATTGTCCATGAGTCCGGTGTTTTTCTTTGACTACTGG</td><td>EIGHGGIBEHNNNNNNNNNNNNNNNNNNNNGHHEIEFHGG8CDGIIJIJJIBHIJGNNNN</td><td>IGHV1-18*00(150),IGHV1-2*00(150)</td><td>IGHD4-17*00(33),IGHD4-23*00(33),IGHD2-2*00(30)</td><td>IGHJ4*00(220)</td><td>IGHM*00(260)</td><td>342|351|373|0|9||45.0;342|351|373|0|9||45.0</td><td>⋯</td><td>NA</td><td>NA</td><td>NA</td><td>NA</td><td>CARTRSDLLSMSPVFFFDYW</td><td>NA</td><td>:::::::::0:-2:9:29:2:-5:42:47:-4:60:::</td><td>ICGC_MB102</td><td>ICGC_MB102</td><td>ICGC_MB102</td></tr>\n",
       "</tbody>\n",
       "</table>\n"
      ],
      "text/latex": [
       "A data.frame: 1 × 38\n",
       "\\begin{tabular}{r|lllllllllllllllllllll}\n",
       "  & cloneId & cloneCount & cloneFraction & clonalSequence & clonalSequenceQuality & allVHitsWithScore & allDHitsWithScore & allJHitsWithScore & allCHitsWithScore & allVAlignments & ⋯ & aaSeqCDR1 & aaSeqFR2 & aaSeqCDR2 & aaSeqFR3 & aaSeqCDR3 & aaSeqFR4 & refPoints & filename & sample\\_id & aliquot\\\\\n",
       "  & <int> & <int> & <dbl> & <chr> & <chr> & <chr> & <chr> & <chr> & <chr> & <chr> & ⋯ & <lgl> & <lgl> & <lgl> & <lgl> & <chr> & <lgl> & <chr> & <chr> & <chr> & <chr>\\\\\n",
       "\\hline\n",
       "\t253697 & 1 & 1 & 1 & TGTGCGAGAACGCGAAGTGATCTATTGTCCATGAGTCCGGTGTTTTTCTTTGACTACTGG & EIGHGGIBEHNNNNNNNNNNNNNNNNNNNNGHHEIEFHGG8CDGIIJIJJIBHIJGNNNN & IGHV1-18*00(150),IGHV1-2*00(150) & IGHD4-17*00(33),IGHD4-23*00(33),IGHD2-2*00(30) & IGHJ4*00(220) & IGHM*00(260) & 342\\textbar{}351\\textbar{}373\\textbar{}0\\textbar{}9\\textbar{}\\textbar{}45.0;342\\textbar{}351\\textbar{}373\\textbar{}0\\textbar{}9\\textbar{}\\textbar{}45.0 & ⋯ & NA & NA & NA & NA & CARTRSDLLSMSPVFFFDYW & NA & :::::::::0:-2:9:29:2:-5:42:47:-4:60::: & ICGC\\_MB102 & ICGC\\_MB102 & ICGC\\_MB102\\\\\n",
       "\\end{tabular}\n"
      ],
      "text/markdown": [
       "\n",
       "A data.frame: 1 × 38\n",
       "\n",
       "| <!--/--> | cloneId &lt;int&gt; | cloneCount &lt;int&gt; | cloneFraction &lt;dbl&gt; | clonalSequence &lt;chr&gt; | clonalSequenceQuality &lt;chr&gt; | allVHitsWithScore &lt;chr&gt; | allDHitsWithScore &lt;chr&gt; | allJHitsWithScore &lt;chr&gt; | allCHitsWithScore &lt;chr&gt; | allVAlignments &lt;chr&gt; | ⋯ ⋯ | aaSeqCDR1 &lt;lgl&gt; | aaSeqFR2 &lt;lgl&gt; | aaSeqCDR2 &lt;lgl&gt; | aaSeqFR3 &lt;lgl&gt; | aaSeqCDR3 &lt;chr&gt; | aaSeqFR4 &lt;lgl&gt; | refPoints &lt;chr&gt; | filename &lt;chr&gt; | sample_id &lt;chr&gt; | aliquot &lt;chr&gt; |\n",
       "|---|---|---|---|---|---|---|---|---|---|---|---|---|---|---|---|---|---|---|---|---|---|\n",
       "| 253697 | 1 | 1 | 1 | TGTGCGAGAACGCGAAGTGATCTATTGTCCATGAGTCCGGTGTTTTTCTTTGACTACTGG | EIGHGGIBEHNNNNNNNNNNNNNNNNNNNNGHHEIEFHGG8CDGIIJIJJIBHIJGNNNN | IGHV1-18*00(150),IGHV1-2*00(150) | IGHD4-17*00(33),IGHD4-23*00(33),IGHD2-2*00(30) | IGHJ4*00(220) | IGHM*00(260) | 342|351|373|0|9||45.0;342|351|373|0|9||45.0 | ⋯ | NA | NA | NA | NA | CARTRSDLLSMSPVFFFDYW | NA | :::::::::0:-2:9:29:2:-5:42:47:-4:60::: | ICGC_MB102 | ICGC_MB102 | ICGC_MB102 |\n",
       "\n"
      ],
      "text/plain": [
       "       cloneId cloneCount cloneFraction\n",
       "253697 1       1          1            \n",
       "       clonalSequence                                              \n",
       "253697 TGTGCGAGAACGCGAAGTGATCTATTGTCCATGAGTCCGGTGTTTTTCTTTGACTACTGG\n",
       "       clonalSequenceQuality                                       \n",
       "253697 EIGHGGIBEHNNNNNNNNNNNNNNNNNNNNGHHEIEFHGG8CDGIIJIJJIBHIJGNNNN\n",
       "       allVHitsWithScore               \n",
       "253697 IGHV1-18*00(150),IGHV1-2*00(150)\n",
       "       allDHitsWithScore                              allJHitsWithScore\n",
       "253697 IGHD4-17*00(33),IGHD4-23*00(33),IGHD2-2*00(30) IGHJ4*00(220)    \n",
       "       allCHitsWithScore allVAlignments                              ⋯\n",
       "253697 IGHM*00(260)      342|351|373|0|9||45.0;342|351|373|0|9||45.0 ⋯\n",
       "       aaSeqCDR1 aaSeqFR2 aaSeqCDR2 aaSeqFR3 aaSeqCDR3            aaSeqFR4\n",
       "253697 NA        NA       NA        NA       CARTRSDLLSMSPVFFFDYW NA      \n",
       "       refPoints                              filename   sample_id  aliquot   \n",
       "253697 :::::::::0:-2:9:29:2:-5:42:47:-4:60::: ICGC_MB102 ICGC_MB102 ICGC_MB102"
      ]
     },
     "metadata": {},
     "output_type": "display_data"
    }
   ],
   "source": [
    "all[ grepl(\"ICGC_MB102\",all$sample_id),]"
   ]
  },
  {
   "cell_type": "code",
   "execution_count": 85,
   "metadata": {},
   "outputs": [],
   "source": [
    "ICGC_MBs <- all[ grepl(\"ICGC_MB\",all$sample_id),]"
   ]
  },
  {
   "cell_type": "code",
   "execution_count": 86,
   "metadata": {},
   "outputs": [
    {
     "data": {
      "text/html": [
       "<style>\n",
       ".list-inline {list-style: none; margin:0; padding: 0}\n",
       ".list-inline>li {display: inline-block}\n",
       ".list-inline>li:not(:last-child)::after {content: \"\\00b7\"; padding: 0 .5ex}\n",
       "</style>\n",
       "<ol class=list-inline><li>446</li><li>38</li></ol>\n"
      ],
      "text/latex": [
       "\\begin{enumerate*}\n",
       "\\item 446\n",
       "\\item 38\n",
       "\\end{enumerate*}\n"
      ],
      "text/markdown": [
       "1. 446\n",
       "2. 38\n",
       "\n",
       "\n"
      ],
      "text/plain": [
       "[1] 446  38"
      ]
     },
     "metadata": {},
     "output_type": "display_data"
    }
   ],
   "source": [
    "dim(ICGC_MBs)"
   ]
  },
  {
   "cell_type": "code",
   "execution_count": 87,
   "metadata": {},
   "outputs": [],
   "source": [
    "tmp <- as.data.frame(table(ICGC_MBs$sample_id), stringsAsFactors = F)"
   ]
  },
  {
   "cell_type": "code",
   "execution_count": 88,
   "metadata": {
    "scrolled": true
   },
   "outputs": [
    {
     "data": {
      "text/html": [
       "<table class=\"dataframe\">\n",
       "<caption>A data.frame: 51 × 2</caption>\n",
       "<thead>\n",
       "\t<tr><th></th><th scope=col>Var1</th><th scope=col>Freq</th></tr>\n",
       "\t<tr><th></th><th scope=col>&lt;chr&gt;</th><th scope=col>&lt;int&gt;</th></tr>\n",
       "</thead>\n",
       "<tbody>\n",
       "\t<tr><th scope=row>19</th><td>ICGC_MB185</td><td>117</td></tr>\n",
       "\t<tr><th scope=row>46</th><td>ICGC_MB84 </td><td> 57</td></tr>\n",
       "\t<tr><th scope=row>7</th><td>ICGC_MB119</td><td> 56</td></tr>\n",
       "\t<tr><th scope=row>15</th><td>ICGC_MB166</td><td> 35</td></tr>\n",
       "\t<tr><th scope=row>39</th><td>ICGC_MB302</td><td> 25</td></tr>\n",
       "\t<tr><th scope=row>25</th><td>ICGC_MB224</td><td> 21</td></tr>\n",
       "\t<tr><th scope=row>32</th><td>ICGC_MB266</td><td> 19</td></tr>\n",
       "\t<tr><th scope=row>35</th><td>ICGC_MB278</td><td> 13</td></tr>\n",
       "\t<tr><th scope=row>13</th><td>ICGC_MB148</td><td> 12</td></tr>\n",
       "\t<tr><th scope=row>28</th><td>ICGC_MB243</td><td> 11</td></tr>\n",
       "\t<tr><th scope=row>43</th><td>ICGC_MB62 </td><td>  6</td></tr>\n",
       "\t<tr><th scope=row>18</th><td>ICGC_MB180</td><td>  5</td></tr>\n",
       "\t<tr><th scope=row>3</th><td>ICGC_MB112</td><td>  4</td></tr>\n",
       "\t<tr><th scope=row>23</th><td>ICGC_MB206</td><td>  4</td></tr>\n",
       "\t<tr><th scope=row>40</th><td>ICGC_MB303</td><td>  4</td></tr>\n",
       "\t<tr><th scope=row>14</th><td>ICGC_MB165</td><td>  3</td></tr>\n",
       "\t<tr><th scope=row>26</th><td>ICGC_MB234</td><td>  3</td></tr>\n",
       "\t<tr><th scope=row>27</th><td>ICGC_MB241</td><td>  3</td></tr>\n",
       "\t<tr><th scope=row>36</th><td>ICGC_MB283</td><td>  3</td></tr>\n",
       "\t<tr><th scope=row>2</th><td>ICGC_MB106</td><td>  2</td></tr>\n",
       "\t<tr><th scope=row>10</th><td>ICGC_MB132</td><td>  2</td></tr>\n",
       "\t<tr><th scope=row>16</th><td>ICGC_MB170</td><td>  2</td></tr>\n",
       "\t<tr><th scope=row>30</th><td>ICGC_MB260</td><td>  2</td></tr>\n",
       "\t<tr><th scope=row>31</th><td>ICGC_MB265</td><td>  2</td></tr>\n",
       "\t<tr><th scope=row>33</th><td>ICGC_MB268</td><td>  2</td></tr>\n",
       "\t<tr><th scope=row>37</th><td>ICGC_MB286</td><td>  2</td></tr>\n",
       "\t<tr><th scope=row>38</th><td>ICGC_MB294</td><td>  2</td></tr>\n",
       "\t<tr><th scope=row>44</th><td>ICGC_MB63 </td><td>  2</td></tr>\n",
       "\t<tr><th scope=row>47</th><td>ICGC_MB86 </td><td>  2</td></tr>\n",
       "\t<tr><th scope=row>48</th><td>ICGC_MB90 </td><td>  2</td></tr>\n",
       "\t<tr><th scope=row>49</th><td>ICGC_MB91 </td><td>  2</td></tr>\n",
       "\t<tr><th scope=row>51</th><td>ICGC_MB94 </td><td>  2</td></tr>\n",
       "\t<tr><th scope=row>1</th><td>ICGC_MB102</td><td>  1</td></tr>\n",
       "\t<tr><th scope=row>4</th><td>ICGC_MB113</td><td>  1</td></tr>\n",
       "\t<tr><th scope=row>5</th><td>ICGC_MB117</td><td>  1</td></tr>\n",
       "\t<tr><th scope=row>6</th><td>ICGC_MB118</td><td>  1</td></tr>\n",
       "\t<tr><th scope=row>8</th><td>ICGC_MB122</td><td>  1</td></tr>\n",
       "\t<tr><th scope=row>9</th><td>ICGC_MB128</td><td>  1</td></tr>\n",
       "\t<tr><th scope=row>11</th><td>ICGC_MB134</td><td>  1</td></tr>\n",
       "\t<tr><th scope=row>12</th><td>ICGC_MB136</td><td>  1</td></tr>\n",
       "\t<tr><th scope=row>17</th><td>ICGC_MB176</td><td>  1</td></tr>\n",
       "\t<tr><th scope=row>20</th><td>ICGC_MB194</td><td>  1</td></tr>\n",
       "\t<tr><th scope=row>21</th><td>ICGC_MB198</td><td>  1</td></tr>\n",
       "\t<tr><th scope=row>22</th><td>ICGC_MB205</td><td>  1</td></tr>\n",
       "\t<tr><th scope=row>24</th><td>ICGC_MB213</td><td>  1</td></tr>\n",
       "\t<tr><th scope=row>29</th><td>ICGC_MB247</td><td>  1</td></tr>\n",
       "\t<tr><th scope=row>34</th><td>ICGC_MB271</td><td>  1</td></tr>\n",
       "\t<tr><th scope=row>41</th><td>ICGC_MB304</td><td>  1</td></tr>\n",
       "\t<tr><th scope=row>42</th><td>ICGC_MB39 </td><td>  1</td></tr>\n",
       "\t<tr><th scope=row>45</th><td>ICGC_MB68 </td><td>  1</td></tr>\n",
       "\t<tr><th scope=row>50</th><td>ICGC_MB92 </td><td>  1</td></tr>\n",
       "</tbody>\n",
       "</table>\n"
      ],
      "text/latex": [
       "A data.frame: 51 × 2\n",
       "\\begin{tabular}{r|ll}\n",
       "  & Var1 & Freq\\\\\n",
       "  & <chr> & <int>\\\\\n",
       "\\hline\n",
       "\t19 & ICGC\\_MB185 & 117\\\\\n",
       "\t46 & ICGC\\_MB84  &  57\\\\\n",
       "\t7 & ICGC\\_MB119 &  56\\\\\n",
       "\t15 & ICGC\\_MB166 &  35\\\\\n",
       "\t39 & ICGC\\_MB302 &  25\\\\\n",
       "\t25 & ICGC\\_MB224 &  21\\\\\n",
       "\t32 & ICGC\\_MB266 &  19\\\\\n",
       "\t35 & ICGC\\_MB278 &  13\\\\\n",
       "\t13 & ICGC\\_MB148 &  12\\\\\n",
       "\t28 & ICGC\\_MB243 &  11\\\\\n",
       "\t43 & ICGC\\_MB62  &   6\\\\\n",
       "\t18 & ICGC\\_MB180 &   5\\\\\n",
       "\t3 & ICGC\\_MB112 &   4\\\\\n",
       "\t23 & ICGC\\_MB206 &   4\\\\\n",
       "\t40 & ICGC\\_MB303 &   4\\\\\n",
       "\t14 & ICGC\\_MB165 &   3\\\\\n",
       "\t26 & ICGC\\_MB234 &   3\\\\\n",
       "\t27 & ICGC\\_MB241 &   3\\\\\n",
       "\t36 & ICGC\\_MB283 &   3\\\\\n",
       "\t2 & ICGC\\_MB106 &   2\\\\\n",
       "\t10 & ICGC\\_MB132 &   2\\\\\n",
       "\t16 & ICGC\\_MB170 &   2\\\\\n",
       "\t30 & ICGC\\_MB260 &   2\\\\\n",
       "\t31 & ICGC\\_MB265 &   2\\\\\n",
       "\t33 & ICGC\\_MB268 &   2\\\\\n",
       "\t37 & ICGC\\_MB286 &   2\\\\\n",
       "\t38 & ICGC\\_MB294 &   2\\\\\n",
       "\t44 & ICGC\\_MB63  &   2\\\\\n",
       "\t47 & ICGC\\_MB86  &   2\\\\\n",
       "\t48 & ICGC\\_MB90  &   2\\\\\n",
       "\t49 & ICGC\\_MB91  &   2\\\\\n",
       "\t51 & ICGC\\_MB94  &   2\\\\\n",
       "\t1 & ICGC\\_MB102 &   1\\\\\n",
       "\t4 & ICGC\\_MB113 &   1\\\\\n",
       "\t5 & ICGC\\_MB117 &   1\\\\\n",
       "\t6 & ICGC\\_MB118 &   1\\\\\n",
       "\t8 & ICGC\\_MB122 &   1\\\\\n",
       "\t9 & ICGC\\_MB128 &   1\\\\\n",
       "\t11 & ICGC\\_MB134 &   1\\\\\n",
       "\t12 & ICGC\\_MB136 &   1\\\\\n",
       "\t17 & ICGC\\_MB176 &   1\\\\\n",
       "\t20 & ICGC\\_MB194 &   1\\\\\n",
       "\t21 & ICGC\\_MB198 &   1\\\\\n",
       "\t22 & ICGC\\_MB205 &   1\\\\\n",
       "\t24 & ICGC\\_MB213 &   1\\\\\n",
       "\t29 & ICGC\\_MB247 &   1\\\\\n",
       "\t34 & ICGC\\_MB271 &   1\\\\\n",
       "\t41 & ICGC\\_MB304 &   1\\\\\n",
       "\t42 & ICGC\\_MB39  &   1\\\\\n",
       "\t45 & ICGC\\_MB68  &   1\\\\\n",
       "\t50 & ICGC\\_MB92  &   1\\\\\n",
       "\\end{tabular}\n"
      ],
      "text/markdown": [
       "\n",
       "A data.frame: 51 × 2\n",
       "\n",
       "| <!--/--> | Var1 &lt;chr&gt; | Freq &lt;int&gt; |\n",
       "|---|---|---|\n",
       "| 19 | ICGC_MB185 | 117 |\n",
       "| 46 | ICGC_MB84  |  57 |\n",
       "| 7 | ICGC_MB119 |  56 |\n",
       "| 15 | ICGC_MB166 |  35 |\n",
       "| 39 | ICGC_MB302 |  25 |\n",
       "| 25 | ICGC_MB224 |  21 |\n",
       "| 32 | ICGC_MB266 |  19 |\n",
       "| 35 | ICGC_MB278 |  13 |\n",
       "| 13 | ICGC_MB148 |  12 |\n",
       "| 28 | ICGC_MB243 |  11 |\n",
       "| 43 | ICGC_MB62  |   6 |\n",
       "| 18 | ICGC_MB180 |   5 |\n",
       "| 3 | ICGC_MB112 |   4 |\n",
       "| 23 | ICGC_MB206 |   4 |\n",
       "| 40 | ICGC_MB303 |   4 |\n",
       "| 14 | ICGC_MB165 |   3 |\n",
       "| 26 | ICGC_MB234 |   3 |\n",
       "| 27 | ICGC_MB241 |   3 |\n",
       "| 36 | ICGC_MB283 |   3 |\n",
       "| 2 | ICGC_MB106 |   2 |\n",
       "| 10 | ICGC_MB132 |   2 |\n",
       "| 16 | ICGC_MB170 |   2 |\n",
       "| 30 | ICGC_MB260 |   2 |\n",
       "| 31 | ICGC_MB265 |   2 |\n",
       "| 33 | ICGC_MB268 |   2 |\n",
       "| 37 | ICGC_MB286 |   2 |\n",
       "| 38 | ICGC_MB294 |   2 |\n",
       "| 44 | ICGC_MB63  |   2 |\n",
       "| 47 | ICGC_MB86  |   2 |\n",
       "| 48 | ICGC_MB90  |   2 |\n",
       "| 49 | ICGC_MB91  |   2 |\n",
       "| 51 | ICGC_MB94  |   2 |\n",
       "| 1 | ICGC_MB102 |   1 |\n",
       "| 4 | ICGC_MB113 |   1 |\n",
       "| 5 | ICGC_MB117 |   1 |\n",
       "| 6 | ICGC_MB118 |   1 |\n",
       "| 8 | ICGC_MB122 |   1 |\n",
       "| 9 | ICGC_MB128 |   1 |\n",
       "| 11 | ICGC_MB134 |   1 |\n",
       "| 12 | ICGC_MB136 |   1 |\n",
       "| 17 | ICGC_MB176 |   1 |\n",
       "| 20 | ICGC_MB194 |   1 |\n",
       "| 21 | ICGC_MB198 |   1 |\n",
       "| 22 | ICGC_MB205 |   1 |\n",
       "| 24 | ICGC_MB213 |   1 |\n",
       "| 29 | ICGC_MB247 |   1 |\n",
       "| 34 | ICGC_MB271 |   1 |\n",
       "| 41 | ICGC_MB304 |   1 |\n",
       "| 42 | ICGC_MB39  |   1 |\n",
       "| 45 | ICGC_MB68  |   1 |\n",
       "| 50 | ICGC_MB92  |   1 |\n",
       "\n"
      ],
      "text/plain": [
       "   Var1       Freq\n",
       "19 ICGC_MB185 117 \n",
       "46 ICGC_MB84   57 \n",
       "7  ICGC_MB119  56 \n",
       "15 ICGC_MB166  35 \n",
       "39 ICGC_MB302  25 \n",
       "25 ICGC_MB224  21 \n",
       "32 ICGC_MB266  19 \n",
       "35 ICGC_MB278  13 \n",
       "13 ICGC_MB148  12 \n",
       "28 ICGC_MB243  11 \n",
       "43 ICGC_MB62    6 \n",
       "18 ICGC_MB180   5 \n",
       "3  ICGC_MB112   4 \n",
       "23 ICGC_MB206   4 \n",
       "40 ICGC_MB303   4 \n",
       "14 ICGC_MB165   3 \n",
       "26 ICGC_MB234   3 \n",
       "27 ICGC_MB241   3 \n",
       "36 ICGC_MB283   3 \n",
       "2  ICGC_MB106   2 \n",
       "10 ICGC_MB132   2 \n",
       "16 ICGC_MB170   2 \n",
       "30 ICGC_MB260   2 \n",
       "31 ICGC_MB265   2 \n",
       "33 ICGC_MB268   2 \n",
       "37 ICGC_MB286   2 \n",
       "38 ICGC_MB294   2 \n",
       "44 ICGC_MB63    2 \n",
       "47 ICGC_MB86    2 \n",
       "48 ICGC_MB90    2 \n",
       "49 ICGC_MB91    2 \n",
       "51 ICGC_MB94    2 \n",
       "1  ICGC_MB102   1 \n",
       "4  ICGC_MB113   1 \n",
       "5  ICGC_MB117   1 \n",
       "6  ICGC_MB118   1 \n",
       "8  ICGC_MB122   1 \n",
       "9  ICGC_MB128   1 \n",
       "11 ICGC_MB134   1 \n",
       "12 ICGC_MB136   1 \n",
       "17 ICGC_MB176   1 \n",
       "20 ICGC_MB194   1 \n",
       "21 ICGC_MB198   1 \n",
       "22 ICGC_MB205   1 \n",
       "24 ICGC_MB213   1 \n",
       "29 ICGC_MB247   1 \n",
       "34 ICGC_MB271   1 \n",
       "41 ICGC_MB304   1 \n",
       "42 ICGC_MB39    1 \n",
       "45 ICGC_MB68    1 \n",
       "50 ICGC_MB92    1 "
      ]
     },
     "metadata": {},
     "output_type": "display_data"
    }
   ],
   "source": [
    "tmp[ order(tmp$Freq, decreasing = T),]"
   ]
  },
  {
   "cell_type": "code",
   "execution_count": 97,
   "metadata": {},
   "outputs": [],
   "source": [
    "icgc_mb_metadata <- primary_estimate_manifest_quanti[ primary_estimate_manifest_quanti$cohort == \"MB\" &\n",
    "                                                    primary_estimate_manifest_quanti$group == \"DKFZ\",]"
   ]
  },
  {
   "cell_type": "code",
   "execution_count": 161,
   "metadata": {},
   "outputs": [
    {
     "data": {
      "text/plain": [
       "\n",
       "MB_Group3 MB_Group4    MB_SHH    MB_WNT \n",
       "       29        54        19         9 "
      ]
     },
     "metadata": {},
     "output_type": "display_data"
    }
   ],
   "source": [
    "table(icgc_mb_metadata$disease_type)"
   ]
  },
  {
   "cell_type": "code",
   "execution_count": 158,
   "metadata": {
    "scrolled": true
   },
   "outputs": [
    {
     "data": {
      "text/html": [
       "<table class=\"dataframe\">\n",
       "<caption>A data.frame: 111 × 2</caption>\n",
       "<thead>\n",
       "\t<tr><th></th><th scope=col>sample_id</th><th scope=col>disease_type</th></tr>\n",
       "\t<tr><th></th><th scope=col>&lt;chr&gt;</th><th scope=col>&lt;chr&gt;</th></tr>\n",
       "</thead>\n",
       "<tbody>\n",
       "\t<tr><th scope=row>840</th><td>ICGC_MB102</td><td>MB_SHH   </td></tr>\n",
       "\t<tr><th scope=row>841</th><td>ICGC_MB106</td><td>MB_Group3</td></tr>\n",
       "\t<tr><th scope=row>842</th><td>ICGC_MB107</td><td>MB_WNT   </td></tr>\n",
       "\t<tr><th scope=row>843</th><td>ICGC_MB108</td><td>MB_Group4</td></tr>\n",
       "\t<tr><th scope=row>844</th><td>ICGC_MB110</td><td>MB_Group4</td></tr>\n",
       "\t<tr><th scope=row>845</th><td>ICGC_MB111</td><td>MB_Group3</td></tr>\n",
       "\t<tr><th scope=row>846</th><td>ICGC_MB112</td><td>MB_WNT   </td></tr>\n",
       "\t<tr><th scope=row>847</th><td>ICGC_MB113</td><td>MB_WNT   </td></tr>\n",
       "\t<tr><th scope=row>848</th><td>ICGC_MB114</td><td>MB_Group4</td></tr>\n",
       "\t<tr><th scope=row>849</th><td>ICGC_MB117</td><td>MB_WNT   </td></tr>\n",
       "\t<tr><th scope=row>850</th><td>ICGC_MB118</td><td>MB_Group4</td></tr>\n",
       "\t<tr><th scope=row>851</th><td>ICGC_MB119</td><td>MB_Group4</td></tr>\n",
       "\t<tr><th scope=row>852</th><td>ICGC_MB121</td><td>MB_Group4</td></tr>\n",
       "\t<tr><th scope=row>853</th><td>ICGC_MB122</td><td>MB_WNT   </td></tr>\n",
       "\t<tr><th scope=row>854</th><td>ICGC_MB124</td><td>MB_WNT   </td></tr>\n",
       "\t<tr><th scope=row>855</th><td>ICGC_MB129</td><td>MB_Group4</td></tr>\n",
       "\t<tr><th scope=row>856</th><td>ICGC_MB130</td><td>MB_WNT   </td></tr>\n",
       "\t<tr><th scope=row>857</th><td>ICGC_MB131</td><td>MB_Group3</td></tr>\n",
       "\t<tr><th scope=row>858</th><td>ICGC_MB132</td><td>MB_SHH   </td></tr>\n",
       "\t<tr><th scope=row>859</th><td>ICGC_MB134</td><td>MB_Group3</td></tr>\n",
       "\t<tr><th scope=row>860</th><td>ICGC_MB137</td><td>MB_SHH   </td></tr>\n",
       "\t<tr><th scope=row>861</th><td>ICGC_MB139</td><td>MB_Group3</td></tr>\n",
       "\t<tr><th scope=row>862</th><td>ICGC_MB141</td><td>MB_Group3</td></tr>\n",
       "\t<tr><th scope=row>863</th><td>ICGC_MB146</td><td>MB_Group3</td></tr>\n",
       "\t<tr><th scope=row>864</th><td>ICGC_MB165</td><td>MB_Group3</td></tr>\n",
       "\t<tr><th scope=row>865</th><td>ICGC_MB166</td><td>MB_Group3</td></tr>\n",
       "\t<tr><th scope=row>866</th><td>ICGC_MB170</td><td>MB_Group3</td></tr>\n",
       "\t<tr><th scope=row>867</th><td>ICGC_MB174</td><td>MB_Group4</td></tr>\n",
       "\t<tr><th scope=row>868</th><td>ICGC_MB175</td><td>MB_Group4</td></tr>\n",
       "\t<tr><th scope=row>869</th><td>ICGC_MB176</td><td>MB_WNT   </td></tr>\n",
       "\t<tr><th scope=row>⋮</th><td>⋮</td><td>⋮</td></tr>\n",
       "\t<tr><th scope=row>921</th><td>ICGC_MB299</td><td>MB_Group4</td></tr>\n",
       "\t<tr><th scope=row>922</th><td>ICGC_MB302</td><td>MB_SHH   </td></tr>\n",
       "\t<tr><th scope=row>923</th><td>ICGC_MB303</td><td>MB_Group4</td></tr>\n",
       "\t<tr><th scope=row>924</th><td>ICGC_MB304</td><td>MB_Group4</td></tr>\n",
       "\t<tr><th scope=row>925</th><td>ICGC_MB31 </td><td>MB_WNT   </td></tr>\n",
       "\t<tr><th scope=row>926</th><td>ICGC_MB34 </td><td>MB_SHH   </td></tr>\n",
       "\t<tr><th scope=row>927</th><td>ICGC_MB39 </td><td>MB_Group3</td></tr>\n",
       "\t<tr><th scope=row>928</th><td>ICGC_MB40 </td><td>MB_Group4</td></tr>\n",
       "\t<tr><th scope=row>929</th><td>ICGC_MB53 </td><td>MB_SHH   </td></tr>\n",
       "\t<tr><th scope=row>930</th><td>ICGC_MB57 </td><td>MB_Group4</td></tr>\n",
       "\t<tr><th scope=row>931</th><td>ICGC_MB58 </td><td>MB_Group4</td></tr>\n",
       "\t<tr><th scope=row>932</th><td>ICGC_MB60 </td><td>MB_SHH   </td></tr>\n",
       "\t<tr><th scope=row>933</th><td>ICGC_MB64 </td><td>MB_Group4</td></tr>\n",
       "\t<tr><th scope=row>934</th><td>ICGC_MB65 </td><td>MB_Group4</td></tr>\n",
       "\t<tr><th scope=row>935</th><td>ICGC_MB68 </td><td>MB_SHH   </td></tr>\n",
       "\t<tr><th scope=row>936</th><td>ICGC_MB71 </td><td>MB_Group4</td></tr>\n",
       "\t<tr><th scope=row>937</th><td>ICGC_MB83 </td><td>MB_Group4</td></tr>\n",
       "\t<tr><th scope=row>938</th><td>ICGC_MB84 </td><td>MB_Group4</td></tr>\n",
       "\t<tr><th scope=row>939</th><td>ICGC_MB85 </td><td>MB_Group4</td></tr>\n",
       "\t<tr><th scope=row>940</th><td>ICGC_MB86 </td><td>MB_Group4</td></tr>\n",
       "\t<tr><th scope=row>941</th><td>ICGC_MB88 </td><td>MB_SHH   </td></tr>\n",
       "\t<tr><th scope=row>942</th><td>ICGC_MB89 </td><td>MB_Group3</td></tr>\n",
       "\t<tr><th scope=row>943</th><td>ICGC_MB90 </td><td>MB_Group3</td></tr>\n",
       "\t<tr><th scope=row>944</th><td>ICGC_MB91 </td><td>MB_Group4</td></tr>\n",
       "\t<tr><th scope=row>945</th><td>ICGC_MB92 </td><td>MB_Group4</td></tr>\n",
       "\t<tr><th scope=row>946</th><td>ICGC_MB94 </td><td>MB_Group4</td></tr>\n",
       "\t<tr><th scope=row>947</th><td>ICGC_MB95 </td><td>MB_Group3</td></tr>\n",
       "\t<tr><th scope=row>948</th><td>ICGC_MB96 </td><td>MB_Group3</td></tr>\n",
       "\t<tr><th scope=row>949</th><td>ICGC_MB98 </td><td>MB_Group3</td></tr>\n",
       "\t<tr><th scope=row>950</th><td>ICGC_MB99 </td><td>MB_Group4</td></tr>\n",
       "</tbody>\n",
       "</table>\n"
      ],
      "text/latex": [
       "A data.frame: 111 × 2\n",
       "\\begin{tabular}{r|ll}\n",
       "  & sample\\_id & disease\\_type\\\\\n",
       "  & <chr> & <chr>\\\\\n",
       "\\hline\n",
       "\t840 & ICGC\\_MB102 & MB\\_SHH   \\\\\n",
       "\t841 & ICGC\\_MB106 & MB\\_Group3\\\\\n",
       "\t842 & ICGC\\_MB107 & MB\\_WNT   \\\\\n",
       "\t843 & ICGC\\_MB108 & MB\\_Group4\\\\\n",
       "\t844 & ICGC\\_MB110 & MB\\_Group4\\\\\n",
       "\t845 & ICGC\\_MB111 & MB\\_Group3\\\\\n",
       "\t846 & ICGC\\_MB112 & MB\\_WNT   \\\\\n",
       "\t847 & ICGC\\_MB113 & MB\\_WNT   \\\\\n",
       "\t848 & ICGC\\_MB114 & MB\\_Group4\\\\\n",
       "\t849 & ICGC\\_MB117 & MB\\_WNT   \\\\\n",
       "\t850 & ICGC\\_MB118 & MB\\_Group4\\\\\n",
       "\t851 & ICGC\\_MB119 & MB\\_Group4\\\\\n",
       "\t852 & ICGC\\_MB121 & MB\\_Group4\\\\\n",
       "\t853 & ICGC\\_MB122 & MB\\_WNT   \\\\\n",
       "\t854 & ICGC\\_MB124 & MB\\_WNT   \\\\\n",
       "\t855 & ICGC\\_MB129 & MB\\_Group4\\\\\n",
       "\t856 & ICGC\\_MB130 & MB\\_WNT   \\\\\n",
       "\t857 & ICGC\\_MB131 & MB\\_Group3\\\\\n",
       "\t858 & ICGC\\_MB132 & MB\\_SHH   \\\\\n",
       "\t859 & ICGC\\_MB134 & MB\\_Group3\\\\\n",
       "\t860 & ICGC\\_MB137 & MB\\_SHH   \\\\\n",
       "\t861 & ICGC\\_MB139 & MB\\_Group3\\\\\n",
       "\t862 & ICGC\\_MB141 & MB\\_Group3\\\\\n",
       "\t863 & ICGC\\_MB146 & MB\\_Group3\\\\\n",
       "\t864 & ICGC\\_MB165 & MB\\_Group3\\\\\n",
       "\t865 & ICGC\\_MB166 & MB\\_Group3\\\\\n",
       "\t866 & ICGC\\_MB170 & MB\\_Group3\\\\\n",
       "\t867 & ICGC\\_MB174 & MB\\_Group4\\\\\n",
       "\t868 & ICGC\\_MB175 & MB\\_Group4\\\\\n",
       "\t869 & ICGC\\_MB176 & MB\\_WNT   \\\\\n",
       "\t⋮ & ⋮ & ⋮\\\\\n",
       "\t921 & ICGC\\_MB299 & MB\\_Group4\\\\\n",
       "\t922 & ICGC\\_MB302 & MB\\_SHH   \\\\\n",
       "\t923 & ICGC\\_MB303 & MB\\_Group4\\\\\n",
       "\t924 & ICGC\\_MB304 & MB\\_Group4\\\\\n",
       "\t925 & ICGC\\_MB31  & MB\\_WNT   \\\\\n",
       "\t926 & ICGC\\_MB34  & MB\\_SHH   \\\\\n",
       "\t927 & ICGC\\_MB39  & MB\\_Group3\\\\\n",
       "\t928 & ICGC\\_MB40  & MB\\_Group4\\\\\n",
       "\t929 & ICGC\\_MB53  & MB\\_SHH   \\\\\n",
       "\t930 & ICGC\\_MB57  & MB\\_Group4\\\\\n",
       "\t931 & ICGC\\_MB58  & MB\\_Group4\\\\\n",
       "\t932 & ICGC\\_MB60  & MB\\_SHH   \\\\\n",
       "\t933 & ICGC\\_MB64  & MB\\_Group4\\\\\n",
       "\t934 & ICGC\\_MB65  & MB\\_Group4\\\\\n",
       "\t935 & ICGC\\_MB68  & MB\\_SHH   \\\\\n",
       "\t936 & ICGC\\_MB71  & MB\\_Group4\\\\\n",
       "\t937 & ICGC\\_MB83  & MB\\_Group4\\\\\n",
       "\t938 & ICGC\\_MB84  & MB\\_Group4\\\\\n",
       "\t939 & ICGC\\_MB85  & MB\\_Group4\\\\\n",
       "\t940 & ICGC\\_MB86  & MB\\_Group4\\\\\n",
       "\t941 & ICGC\\_MB88  & MB\\_SHH   \\\\\n",
       "\t942 & ICGC\\_MB89  & MB\\_Group3\\\\\n",
       "\t943 & ICGC\\_MB90  & MB\\_Group3\\\\\n",
       "\t944 & ICGC\\_MB91  & MB\\_Group4\\\\\n",
       "\t945 & ICGC\\_MB92  & MB\\_Group4\\\\\n",
       "\t946 & ICGC\\_MB94  & MB\\_Group4\\\\\n",
       "\t947 & ICGC\\_MB95  & MB\\_Group3\\\\\n",
       "\t948 & ICGC\\_MB96  & MB\\_Group3\\\\\n",
       "\t949 & ICGC\\_MB98  & MB\\_Group3\\\\\n",
       "\t950 & ICGC\\_MB99  & MB\\_Group4\\\\\n",
       "\\end{tabular}\n"
      ],
      "text/markdown": [
       "\n",
       "A data.frame: 111 × 2\n",
       "\n",
       "| <!--/--> | sample_id &lt;chr&gt; | disease_type &lt;chr&gt; |\n",
       "|---|---|---|\n",
       "| 840 | ICGC_MB102 | MB_SHH    |\n",
       "| 841 | ICGC_MB106 | MB_Group3 |\n",
       "| 842 | ICGC_MB107 | MB_WNT    |\n",
       "| 843 | ICGC_MB108 | MB_Group4 |\n",
       "| 844 | ICGC_MB110 | MB_Group4 |\n",
       "| 845 | ICGC_MB111 | MB_Group3 |\n",
       "| 846 | ICGC_MB112 | MB_WNT    |\n",
       "| 847 | ICGC_MB113 | MB_WNT    |\n",
       "| 848 | ICGC_MB114 | MB_Group4 |\n",
       "| 849 | ICGC_MB117 | MB_WNT    |\n",
       "| 850 | ICGC_MB118 | MB_Group4 |\n",
       "| 851 | ICGC_MB119 | MB_Group4 |\n",
       "| 852 | ICGC_MB121 | MB_Group4 |\n",
       "| 853 | ICGC_MB122 | MB_WNT    |\n",
       "| 854 | ICGC_MB124 | MB_WNT    |\n",
       "| 855 | ICGC_MB129 | MB_Group4 |\n",
       "| 856 | ICGC_MB130 | MB_WNT    |\n",
       "| 857 | ICGC_MB131 | MB_Group3 |\n",
       "| 858 | ICGC_MB132 | MB_SHH    |\n",
       "| 859 | ICGC_MB134 | MB_Group3 |\n",
       "| 860 | ICGC_MB137 | MB_SHH    |\n",
       "| 861 | ICGC_MB139 | MB_Group3 |\n",
       "| 862 | ICGC_MB141 | MB_Group3 |\n",
       "| 863 | ICGC_MB146 | MB_Group3 |\n",
       "| 864 | ICGC_MB165 | MB_Group3 |\n",
       "| 865 | ICGC_MB166 | MB_Group3 |\n",
       "| 866 | ICGC_MB170 | MB_Group3 |\n",
       "| 867 | ICGC_MB174 | MB_Group4 |\n",
       "| 868 | ICGC_MB175 | MB_Group4 |\n",
       "| 869 | ICGC_MB176 | MB_WNT    |\n",
       "| ⋮ | ⋮ | ⋮ |\n",
       "| 921 | ICGC_MB299 | MB_Group4 |\n",
       "| 922 | ICGC_MB302 | MB_SHH    |\n",
       "| 923 | ICGC_MB303 | MB_Group4 |\n",
       "| 924 | ICGC_MB304 | MB_Group4 |\n",
       "| 925 | ICGC_MB31  | MB_WNT    |\n",
       "| 926 | ICGC_MB34  | MB_SHH    |\n",
       "| 927 | ICGC_MB39  | MB_Group3 |\n",
       "| 928 | ICGC_MB40  | MB_Group4 |\n",
       "| 929 | ICGC_MB53  | MB_SHH    |\n",
       "| 930 | ICGC_MB57  | MB_Group4 |\n",
       "| 931 | ICGC_MB58  | MB_Group4 |\n",
       "| 932 | ICGC_MB60  | MB_SHH    |\n",
       "| 933 | ICGC_MB64  | MB_Group4 |\n",
       "| 934 | ICGC_MB65  | MB_Group4 |\n",
       "| 935 | ICGC_MB68  | MB_SHH    |\n",
       "| 936 | ICGC_MB71  | MB_Group4 |\n",
       "| 937 | ICGC_MB83  | MB_Group4 |\n",
       "| 938 | ICGC_MB84  | MB_Group4 |\n",
       "| 939 | ICGC_MB85  | MB_Group4 |\n",
       "| 940 | ICGC_MB86  | MB_Group4 |\n",
       "| 941 | ICGC_MB88  | MB_SHH    |\n",
       "| 942 | ICGC_MB89  | MB_Group3 |\n",
       "| 943 | ICGC_MB90  | MB_Group3 |\n",
       "| 944 | ICGC_MB91  | MB_Group4 |\n",
       "| 945 | ICGC_MB92  | MB_Group4 |\n",
       "| 946 | ICGC_MB94  | MB_Group4 |\n",
       "| 947 | ICGC_MB95  | MB_Group3 |\n",
       "| 948 | ICGC_MB96  | MB_Group3 |\n",
       "| 949 | ICGC_MB98  | MB_Group3 |\n",
       "| 950 | ICGC_MB99  | MB_Group4 |\n",
       "\n"
      ],
      "text/plain": [
       "    sample_id  disease_type\n",
       "840 ICGC_MB102 MB_SHH      \n",
       "841 ICGC_MB106 MB_Group3   \n",
       "842 ICGC_MB107 MB_WNT      \n",
       "843 ICGC_MB108 MB_Group4   \n",
       "844 ICGC_MB110 MB_Group4   \n",
       "845 ICGC_MB111 MB_Group3   \n",
       "846 ICGC_MB112 MB_WNT      \n",
       "847 ICGC_MB113 MB_WNT      \n",
       "848 ICGC_MB114 MB_Group4   \n",
       "849 ICGC_MB117 MB_WNT      \n",
       "850 ICGC_MB118 MB_Group4   \n",
       "851 ICGC_MB119 MB_Group4   \n",
       "852 ICGC_MB121 MB_Group4   \n",
       "853 ICGC_MB122 MB_WNT      \n",
       "854 ICGC_MB124 MB_WNT      \n",
       "855 ICGC_MB129 MB_Group4   \n",
       "856 ICGC_MB130 MB_WNT      \n",
       "857 ICGC_MB131 MB_Group3   \n",
       "858 ICGC_MB132 MB_SHH      \n",
       "859 ICGC_MB134 MB_Group3   \n",
       "860 ICGC_MB137 MB_SHH      \n",
       "861 ICGC_MB139 MB_Group3   \n",
       "862 ICGC_MB141 MB_Group3   \n",
       "863 ICGC_MB146 MB_Group3   \n",
       "864 ICGC_MB165 MB_Group3   \n",
       "865 ICGC_MB166 MB_Group3   \n",
       "866 ICGC_MB170 MB_Group3   \n",
       "867 ICGC_MB174 MB_Group4   \n",
       "868 ICGC_MB175 MB_Group4   \n",
       "869 ICGC_MB176 MB_WNT      \n",
       "⋮   ⋮          ⋮           \n",
       "921 ICGC_MB299 MB_Group4   \n",
       "922 ICGC_MB302 MB_SHH      \n",
       "923 ICGC_MB303 MB_Group4   \n",
       "924 ICGC_MB304 MB_Group4   \n",
       "925 ICGC_MB31  MB_WNT      \n",
       "926 ICGC_MB34  MB_SHH      \n",
       "927 ICGC_MB39  MB_Group3   \n",
       "928 ICGC_MB40  MB_Group4   \n",
       "929 ICGC_MB53  MB_SHH      \n",
       "930 ICGC_MB57  MB_Group4   \n",
       "931 ICGC_MB58  MB_Group4   \n",
       "932 ICGC_MB60  MB_SHH      \n",
       "933 ICGC_MB64  MB_Group4   \n",
       "934 ICGC_MB65  MB_Group4   \n",
       "935 ICGC_MB68  MB_SHH      \n",
       "936 ICGC_MB71  MB_Group4   \n",
       "937 ICGC_MB83  MB_Group4   \n",
       "938 ICGC_MB84  MB_Group4   \n",
       "939 ICGC_MB85  MB_Group4   \n",
       "940 ICGC_MB86  MB_Group4   \n",
       "941 ICGC_MB88  MB_SHH      \n",
       "942 ICGC_MB89  MB_Group3   \n",
       "943 ICGC_MB90  MB_Group3   \n",
       "944 ICGC_MB91  MB_Group4   \n",
       "945 ICGC_MB92  MB_Group4   \n",
       "946 ICGC_MB94  MB_Group4   \n",
       "947 ICGC_MB95  MB_Group3   \n",
       "948 ICGC_MB96  MB_Group3   \n",
       "949 ICGC_MB98  MB_Group3   \n",
       "950 ICGC_MB99  MB_Group4   "
      ]
     },
     "metadata": {},
     "output_type": "display_data"
    }
   ],
   "source": [
    "icgc_mb_metadata[, c(\"sample_id\", \"disease_type\")]"
   ]
  },
  {
   "cell_type": "code",
   "execution_count": 98,
   "metadata": {},
   "outputs": [
    {
     "data": {
      "text/html": [
       "<style>\n",
       ".list-inline {list-style: none; margin:0; padding: 0}\n",
       ".list-inline>li {display: inline-block}\n",
       ".list-inline>li:not(:last-child)::after {content: \"\\00b7\"; padding: 0 .5ex}\n",
       "</style>\n",
       "<ol class=list-inline><li>111</li><li>33</li></ol>\n"
      ],
      "text/latex": [
       "\\begin{enumerate*}\n",
       "\\item 111\n",
       "\\item 33\n",
       "\\end{enumerate*}\n"
      ],
      "text/markdown": [
       "1. 111\n",
       "2. 33\n",
       "\n",
       "\n"
      ],
      "text/plain": [
       "[1] 111  33"
      ]
     },
     "metadata": {},
     "output_type": "display_data"
    }
   ],
   "source": [
    "dim(icgc_mb_metadata$disease_type)"
   ]
  },
  {
   "cell_type": "code",
   "execution_count": 99,
   "metadata": {},
   "outputs": [],
   "source": [
    "icgc_mb_metadata$number_of_unique_IghCDR3 <- tmp$Freq[match(icgc_mb_metadata$sample_id, tmp$Var1)]"
   ]
  },
  {
   "cell_type": "code",
   "execution_count": 106,
   "metadata": {},
   "outputs": [
    {
     "data": {
      "text/html": [
       "<style>\n",
       ".list-inline {list-style: none; margin:0; padding: 0}\n",
       ".list-inline>li {display: inline-block}\n",
       ".list-inline>li:not(:last-child)::after {content: \"\\00b7\"; padding: 0 .5ex}\n",
       "</style>\n",
       "<ol class=list-inline><li>'ICGC_MB128'</li><li>'ICGC_MB136'</li><li>'ICGC_MB148'</li><li>'ICGC_MB180'</li><li>'ICGC_MB194'</li><li>'ICGC_MB213'</li><li>'ICGC_MB234'</li><li>'ICGC_MB266'</li><li>'ICGC_MB268'</li><li>'ICGC_MB283'</li><li>'ICGC_MB62'</li><li>'ICGC_MB63'</li></ol>\n"
      ],
      "text/latex": [
       "\\begin{enumerate*}\n",
       "\\item 'ICGC\\_MB128'\n",
       "\\item 'ICGC\\_MB136'\n",
       "\\item 'ICGC\\_MB148'\n",
       "\\item 'ICGC\\_MB180'\n",
       "\\item 'ICGC\\_MB194'\n",
       "\\item 'ICGC\\_MB213'\n",
       "\\item 'ICGC\\_MB234'\n",
       "\\item 'ICGC\\_MB266'\n",
       "\\item 'ICGC\\_MB268'\n",
       "\\item 'ICGC\\_MB283'\n",
       "\\item 'ICGC\\_MB62'\n",
       "\\item 'ICGC\\_MB63'\n",
       "\\end{enumerate*}\n"
      ],
      "text/markdown": [
       "1. 'ICGC_MB128'\n",
       "2. 'ICGC_MB136'\n",
       "3. 'ICGC_MB148'\n",
       "4. 'ICGC_MB180'\n",
       "5. 'ICGC_MB194'\n",
       "6. 'ICGC_MB213'\n",
       "7. 'ICGC_MB234'\n",
       "8. 'ICGC_MB266'\n",
       "9. 'ICGC_MB268'\n",
       "10. 'ICGC_MB283'\n",
       "11. 'ICGC_MB62'\n",
       "12. 'ICGC_MB63'\n",
       "\n",
       "\n"
      ],
      "text/plain": [
       " [1] \"ICGC_MB128\" \"ICGC_MB136\" \"ICGC_MB148\" \"ICGC_MB180\" \"ICGC_MB194\"\n",
       " [6] \"ICGC_MB213\" \"ICGC_MB234\" \"ICGC_MB266\" \"ICGC_MB268\" \"ICGC_MB283\"\n",
       "[11] \"ICGC_MB62\"  \"ICGC_MB63\" "
      ]
     },
     "metadata": {},
     "output_type": "display_data"
    }
   ],
   "source": [
    "tmp$Var1[!tmp$Var1 %in% icgc_mb_metadata$sample_id]"
   ]
  },
  {
   "cell_type": "code",
   "execution_count": 104,
   "metadata": {},
   "outputs": [
    {
     "data": {
      "text/plain": [
       "   Min. 1st Qu.  Median    Mean 3rd Qu.    Max.    NA's \n",
       "      1       1       2      10       4     117      72 "
      ]
     },
     "metadata": {},
     "output_type": "display_data"
    }
   ],
   "source": [
    "summary(icgc_mb_metadata$number_of_unique_IghCDR3)"
   ]
  },
  {
   "cell_type": "code",
   "execution_count": 107,
   "metadata": {},
   "outputs": [],
   "source": [
    "ICGC_MBs_sep <- separate_rows(ICGC_MBs, allCHitsWithScore,sep = \",\")"
   ]
  },
  {
   "cell_type": "code",
   "execution_count": 108,
   "metadata": {},
   "outputs": [],
   "source": [
    "ICGC_MBs_sep$Cgene <- gsub(\"[*].*\", \"\", ICGC_MBs_sep$allCHitsWithScore)\n",
    "\n",
    "ICGC_MBs_sep$CgeneScore <- gsub(\".*[(]\",\"\", ICGC_MBs_sep$allCHitsWithScore)\n",
    "\n",
    "ICGC_MBs_sep$CgeneScore <- gsub(\"[)]\",\"\", ICGC_MBs_sep$CgeneScore)"
   ]
  },
  {
   "cell_type": "code",
   "execution_count": 109,
   "metadata": {},
   "outputs": [],
   "source": [
    "ICGC_MBs_sep$Cgene[ICGC_MBs_sep$Cgene == \"\"] <- \"Unknown\""
   ]
  },
  {
   "cell_type": "code",
   "execution_count": 110,
   "metadata": {},
   "outputs": [],
   "source": [
    "ICGC_MBs_sep <- ICGC_MBs_sep[ICGC_MBs_sep$Cgene != \"IGHGP\",]"
   ]
  },
  {
   "cell_type": "code",
   "execution_count": 111,
   "metadata": {},
   "outputs": [
    {
     "data": {
      "text/html": [
       "51"
      ],
      "text/latex": [
       "51"
      ],
      "text/markdown": [
       "51"
      ],
      "text/plain": [
       "[1] 51"
      ]
     },
     "metadata": {},
     "output_type": "display_data"
    }
   ],
   "source": [
    "length(tmp$Var1)"
   ]
  },
  {
   "cell_type": "code",
   "execution_count": 112,
   "metadata": {},
   "outputs": [],
   "source": [
    "cgenes <- as.data.frame(matrix(ncol = 10, nrow = length(tmp$Var1)))\n",
    "rownames(cgenes) <- tmp$Var1\n",
    "colnames(cgenes) <- c(\"Unknown\",\"IGHA1\" ,\"IGHA2\",\"IGHD\", \"IGHE\" ,\"IGHM\",\n",
    "                      \"IGHG1\",\"IGHG2\",\"IGHG3\",\"IGHG4\")"
   ]
  },
  {
   "cell_type": "code",
   "execution_count": 114,
   "metadata": {},
   "outputs": [],
   "source": [
    "for(i in 1:nrow(cgenes)){\n",
    "    tmp <- ICGC_MBs_sep[ICGC_MBs_sep$sample_id == rownames(cgenes)[i],]\n",
    "    mytab <- as.data.frame(table(tmp$Cgene), stringsAsFactors = F)\n",
    "    cgenes[i, match(mytab$Var1, colnames(cgenes))] <- mytab$Freq   \n",
    "}"
   ]
  },
  {
   "cell_type": "code",
   "execution_count": 115,
   "metadata": {
    "scrolled": true
   },
   "outputs": [
    {
     "data": {
      "text/html": [
       "<table class=\"dataframe\">\n",
       "<caption>A data.frame: 51 × 10</caption>\n",
       "<thead>\n",
       "\t<tr><th></th><th scope=col>Unknown</th><th scope=col>IGHA1</th><th scope=col>IGHA2</th><th scope=col>IGHD</th><th scope=col>IGHE</th><th scope=col>IGHM</th><th scope=col>IGHG1</th><th scope=col>IGHG2</th><th scope=col>IGHG3</th><th scope=col>IGHG4</th></tr>\n",
       "\t<tr><th></th><th scope=col>&lt;int&gt;</th><th scope=col>&lt;int&gt;</th><th scope=col>&lt;int&gt;</th><th scope=col>&lt;int&gt;</th><th scope=col>&lt;lgl&gt;</th><th scope=col>&lt;int&gt;</th><th scope=col>&lt;int&gt;</th><th scope=col>&lt;int&gt;</th><th scope=col>&lt;int&gt;</th><th scope=col>&lt;int&gt;</th></tr>\n",
       "</thead>\n",
       "<tbody>\n",
       "\t<tr><th scope=row>ICGC_MB102</th><td>NA</td><td>NA</td><td>NA</td><td>NA</td><td>NA</td><td> 1</td><td>NA</td><td>NA</td><td>NA</td><td>NA</td></tr>\n",
       "\t<tr><th scope=row>ICGC_MB106</th><td> 1</td><td>NA</td><td>NA</td><td>NA</td><td>NA</td><td>NA</td><td> 1</td><td>NA</td><td>NA</td><td>NA</td></tr>\n",
       "\t<tr><th scope=row>ICGC_MB112</th><td> 1</td><td>NA</td><td>NA</td><td>NA</td><td>NA</td><td>NA</td><td>NA</td><td> 3</td><td> 1</td><td> 3</td></tr>\n",
       "\t<tr><th scope=row>ICGC_MB113</th><td>NA</td><td>NA</td><td>NA</td><td>NA</td><td>NA</td><td>NA</td><td> 1</td><td>NA</td><td>NA</td><td>NA</td></tr>\n",
       "\t<tr><th scope=row>ICGC_MB117</th><td>NA</td><td>NA</td><td>NA</td><td>NA</td><td>NA</td><td>NA</td><td>NA</td><td>NA</td><td>NA</td><td>NA</td></tr>\n",
       "\t<tr><th scope=row>ICGC_MB118</th><td>NA</td><td>NA</td><td>NA</td><td>NA</td><td>NA</td><td>NA</td><td>NA</td><td>NA</td><td>NA</td><td>NA</td></tr>\n",
       "\t<tr><th scope=row>ICGC_MB119</th><td>15</td><td> 4</td><td>NA</td><td>NA</td><td>NA</td><td> 6</td><td>25</td><td> 4</td><td>14</td><td> 3</td></tr>\n",
       "\t<tr><th scope=row>ICGC_MB122</th><td>NA</td><td>NA</td><td>NA</td><td>NA</td><td>NA</td><td>NA</td><td>NA</td><td>NA</td><td>NA</td><td>NA</td></tr>\n",
       "\t<tr><th scope=row>ICGC_MB128</th><td>NA</td><td>NA</td><td>NA</td><td>NA</td><td>NA</td><td>NA</td><td> 1</td><td>NA</td><td>NA</td><td>NA</td></tr>\n",
       "\t<tr><th scope=row>ICGC_MB132</th><td>NA</td><td>NA</td><td>NA</td><td>NA</td><td>NA</td><td>NA</td><td>NA</td><td>NA</td><td>NA</td><td>NA</td></tr>\n",
       "\t<tr><th scope=row>ICGC_MB134</th><td>NA</td><td>NA</td><td>NA</td><td>NA</td><td>NA</td><td>NA</td><td>NA</td><td>NA</td><td>NA</td><td>NA</td></tr>\n",
       "\t<tr><th scope=row>ICGC_MB136</th><td>NA</td><td>NA</td><td>NA</td><td>NA</td><td>NA</td><td>NA</td><td>NA</td><td>NA</td><td>NA</td><td>NA</td></tr>\n",
       "\t<tr><th scope=row>ICGC_MB148</th><td> 6</td><td> 1</td><td>NA</td><td>NA</td><td>NA</td><td>NA</td><td> 2</td><td> 3</td><td> 2</td><td> 3</td></tr>\n",
       "\t<tr><th scope=row>ICGC_MB165</th><td> 1</td><td>NA</td><td>NA</td><td>NA</td><td>NA</td><td> 1</td><td> 1</td><td>NA</td><td>NA</td><td>NA</td></tr>\n",
       "\t<tr><th scope=row>ICGC_MB166</th><td> 8</td><td> 2</td><td>NA</td><td>NA</td><td>NA</td><td>15</td><td>10</td><td> 2</td><td> 6</td><td> 1</td></tr>\n",
       "\t<tr><th scope=row>ICGC_MB170</th><td> 1</td><td>NA</td><td>NA</td><td>NA</td><td>NA</td><td>NA</td><td> 1</td><td> 1</td><td> 1</td><td> 1</td></tr>\n",
       "\t<tr><th scope=row>ICGC_MB176</th><td>NA</td><td>NA</td><td>NA</td><td>NA</td><td>NA</td><td>NA</td><td>NA</td><td>NA</td><td>NA</td><td>NA</td></tr>\n",
       "\t<tr><th scope=row>ICGC_MB180</th><td> 1</td><td>NA</td><td>NA</td><td>NA</td><td>NA</td><td> 2</td><td>NA</td><td> 1</td><td> 1</td><td>NA</td></tr>\n",
       "\t<tr><th scope=row>ICGC_MB185</th><td>33</td><td> 7</td><td> 2</td><td>NA</td><td>NA</td><td>25</td><td>52</td><td>11</td><td>20</td><td>10</td></tr>\n",
       "\t<tr><th scope=row>ICGC_MB194</th><td>NA</td><td>NA</td><td>NA</td><td>NA</td><td>NA</td><td>NA</td><td>NA</td><td>NA</td><td>NA</td><td>NA</td></tr>\n",
       "\t<tr><th scope=row>ICGC_MB198</th><td>NA</td><td>NA</td><td>NA</td><td>NA</td><td>NA</td><td>NA</td><td>NA</td><td>NA</td><td>NA</td><td>NA</td></tr>\n",
       "\t<tr><th scope=row>ICGC_MB205</th><td>NA</td><td>NA</td><td>NA</td><td>NA</td><td>NA</td><td>NA</td><td>NA</td><td>NA</td><td>NA</td><td>NA</td></tr>\n",
       "\t<tr><th scope=row>ICGC_MB206</th><td> 2</td><td>NA</td><td>NA</td><td>NA</td><td>NA</td><td>NA</td><td> 2</td><td>NA</td><td> 1</td><td>NA</td></tr>\n",
       "\t<tr><th scope=row>ICGC_MB213</th><td>NA</td><td>NA</td><td>NA</td><td>NA</td><td>NA</td><td>NA</td><td>NA</td><td>NA</td><td>NA</td><td>NA</td></tr>\n",
       "\t<tr><th scope=row>ICGC_MB224</th><td> 5</td><td> 1</td><td>NA</td><td>NA</td><td>NA</td><td>NA</td><td>11</td><td> 1</td><td> 9</td><td> 1</td></tr>\n",
       "\t<tr><th scope=row>ICGC_MB234</th><td> 1</td><td>NA</td><td>NA</td><td>NA</td><td>NA</td><td>NA</td><td> 1</td><td> 2</td><td> 1</td><td> 2</td></tr>\n",
       "\t<tr><th scope=row>ICGC_MB241</th><td> 1</td><td>NA</td><td>NA</td><td>NA</td><td>NA</td><td>NA</td><td> 2</td><td>NA</td><td>NA</td><td>NA</td></tr>\n",
       "\t<tr><th scope=row>ICGC_MB243</th><td> 4</td><td> 3</td><td>NA</td><td>NA</td><td>NA</td><td> 1</td><td> 2</td><td> 1</td><td> 1</td><td> 1</td></tr>\n",
       "\t<tr><th scope=row>ICGC_MB247</th><td>NA</td><td>NA</td><td>NA</td><td>NA</td><td>NA</td><td>NA</td><td> 1</td><td>NA</td><td>NA</td><td>NA</td></tr>\n",
       "\t<tr><th scope=row>ICGC_MB260</th><td> 1</td><td> 1</td><td>NA</td><td>NA</td><td>NA</td><td>NA</td><td>NA</td><td>NA</td><td>NA</td><td>NA</td></tr>\n",
       "\t<tr><th scope=row>ICGC_MB265</th><td> 1</td><td>NA</td><td> 1</td><td>NA</td><td>NA</td><td>NA</td><td>NA</td><td>NA</td><td>NA</td><td>NA</td></tr>\n",
       "\t<tr><th scope=row>ICGC_MB266</th><td> 5</td><td>NA</td><td>NA</td><td>NA</td><td>NA</td><td>12</td><td> 2</td><td>NA</td><td> 2</td><td>NA</td></tr>\n",
       "\t<tr><th scope=row>ICGC_MB268</th><td> 1</td><td>NA</td><td>NA</td><td>NA</td><td>NA</td><td>NA</td><td> 1</td><td>NA</td><td> 1</td><td>NA</td></tr>\n",
       "\t<tr><th scope=row>ICGC_MB271</th><td>NA</td><td>NA</td><td>NA</td><td>NA</td><td>NA</td><td>NA</td><td>NA</td><td>NA</td><td>NA</td><td>NA</td></tr>\n",
       "\t<tr><th scope=row>ICGC_MB278</th><td> 6</td><td>NA</td><td>NA</td><td>NA</td><td>NA</td><td> 7</td><td>NA</td><td>NA</td><td>NA</td><td>NA</td></tr>\n",
       "\t<tr><th scope=row>ICGC_MB283</th><td> 1</td><td> 2</td><td>NA</td><td>NA</td><td>NA</td><td>NA</td><td>NA</td><td>NA</td><td>NA</td><td>NA</td></tr>\n",
       "\t<tr><th scope=row>ICGC_MB286</th><td> 1</td><td>NA</td><td>NA</td><td>NA</td><td>NA</td><td>NA</td><td> 1</td><td> 1</td><td> 1</td><td> 1</td></tr>\n",
       "\t<tr><th scope=row>ICGC_MB294</th><td> 1</td><td>NA</td><td>NA</td><td>NA</td><td>NA</td><td>NA</td><td> 1</td><td>NA</td><td> 1</td><td>NA</td></tr>\n",
       "\t<tr><th scope=row>ICGC_MB302</th><td> 6</td><td> 5</td><td>NA</td><td> 4</td><td>NA</td><td>NA</td><td> 9</td><td> 5</td><td> 7</td><td> 4</td></tr>\n",
       "\t<tr><th scope=row>ICGC_MB303</th><td> 1</td><td>NA</td><td>NA</td><td>NA</td><td>NA</td><td>NA</td><td> 3</td><td> 1</td><td>NA</td><td>NA</td></tr>\n",
       "\t<tr><th scope=row>ICGC_MB304</th><td>NA</td><td>NA</td><td>NA</td><td>NA</td><td>NA</td><td>NA</td><td>NA</td><td>NA</td><td>NA</td><td>NA</td></tr>\n",
       "\t<tr><th scope=row>ICGC_MB39</th><td>NA</td><td>NA</td><td>NA</td><td>NA</td><td>NA</td><td> 1</td><td>NA</td><td>NA</td><td>NA</td><td>NA</td></tr>\n",
       "\t<tr><th scope=row>ICGC_MB62</th><td> 3</td><td> 1</td><td>NA</td><td>NA</td><td>NA</td><td>NA</td><td> 2</td><td> 2</td><td> 2</td><td> 2</td></tr>\n",
       "\t<tr><th scope=row>ICGC_MB63</th><td>NA</td><td>NA</td><td>NA</td><td>NA</td><td>NA</td><td>NA</td><td> 2</td><td> 2</td><td> 1</td><td> 1</td></tr>\n",
       "\t<tr><th scope=row>ICGC_MB68</th><td>NA</td><td>NA</td><td>NA</td><td>NA</td><td>NA</td><td>NA</td><td>NA</td><td>NA</td><td>NA</td><td>NA</td></tr>\n",
       "\t<tr><th scope=row>ICGC_MB84</th><td>13</td><td>12</td><td>NA</td><td>NA</td><td>NA</td><td>NA</td><td>25</td><td> 7</td><td>16</td><td> 5</td></tr>\n",
       "\t<tr><th scope=row>ICGC_MB86</th><td> 1</td><td>NA</td><td>NA</td><td>NA</td><td>NA</td><td>NA</td><td> 1</td><td> 1</td><td> 1</td><td> 1</td></tr>\n",
       "\t<tr><th scope=row>ICGC_MB90</th><td> 1</td><td> 1</td><td>NA</td><td>NA</td><td>NA</td><td>NA</td><td>NA</td><td>NA</td><td>NA</td><td>NA</td></tr>\n",
       "\t<tr><th scope=row>ICGC_MB91</th><td>NA</td><td>NA</td><td>NA</td><td>NA</td><td>NA</td><td>NA</td><td>NA</td><td>NA</td><td>NA</td><td>NA</td></tr>\n",
       "\t<tr><th scope=row>ICGC_MB92</th><td>NA</td><td>NA</td><td>NA</td><td>NA</td><td>NA</td><td>NA</td><td>NA</td><td>NA</td><td>NA</td><td>NA</td></tr>\n",
       "\t<tr><th scope=row>ICGC_MB94</th><td>NA</td><td> 1</td><td>NA</td><td>NA</td><td>NA</td><td> 1</td><td>NA</td><td>NA</td><td>NA</td><td>NA</td></tr>\n",
       "</tbody>\n",
       "</table>\n"
      ],
      "text/latex": [
       "A data.frame: 51 × 10\n",
       "\\begin{tabular}{r|llllllllll}\n",
       "  & Unknown & IGHA1 & IGHA2 & IGHD & IGHE & IGHM & IGHG1 & IGHG2 & IGHG3 & IGHG4\\\\\n",
       "  & <int> & <int> & <int> & <int> & <lgl> & <int> & <int> & <int> & <int> & <int>\\\\\n",
       "\\hline\n",
       "\tICGC\\_MB102 & NA & NA & NA & NA & NA &  1 & NA & NA & NA & NA\\\\\n",
       "\tICGC\\_MB106 &  1 & NA & NA & NA & NA & NA &  1 & NA & NA & NA\\\\\n",
       "\tICGC\\_MB112 &  1 & NA & NA & NA & NA & NA & NA &  3 &  1 &  3\\\\\n",
       "\tICGC\\_MB113 & NA & NA & NA & NA & NA & NA &  1 & NA & NA & NA\\\\\n",
       "\tICGC\\_MB117 & NA & NA & NA & NA & NA & NA & NA & NA & NA & NA\\\\\n",
       "\tICGC\\_MB118 & NA & NA & NA & NA & NA & NA & NA & NA & NA & NA\\\\\n",
       "\tICGC\\_MB119 & 15 &  4 & NA & NA & NA &  6 & 25 &  4 & 14 &  3\\\\\n",
       "\tICGC\\_MB122 & NA & NA & NA & NA & NA & NA & NA & NA & NA & NA\\\\\n",
       "\tICGC\\_MB128 & NA & NA & NA & NA & NA & NA &  1 & NA & NA & NA\\\\\n",
       "\tICGC\\_MB132 & NA & NA & NA & NA & NA & NA & NA & NA & NA & NA\\\\\n",
       "\tICGC\\_MB134 & NA & NA & NA & NA & NA & NA & NA & NA & NA & NA\\\\\n",
       "\tICGC\\_MB136 & NA & NA & NA & NA & NA & NA & NA & NA & NA & NA\\\\\n",
       "\tICGC\\_MB148 &  6 &  1 & NA & NA & NA & NA &  2 &  3 &  2 &  3\\\\\n",
       "\tICGC\\_MB165 &  1 & NA & NA & NA & NA &  1 &  1 & NA & NA & NA\\\\\n",
       "\tICGC\\_MB166 &  8 &  2 & NA & NA & NA & 15 & 10 &  2 &  6 &  1\\\\\n",
       "\tICGC\\_MB170 &  1 & NA & NA & NA & NA & NA &  1 &  1 &  1 &  1\\\\\n",
       "\tICGC\\_MB176 & NA & NA & NA & NA & NA & NA & NA & NA & NA & NA\\\\\n",
       "\tICGC\\_MB180 &  1 & NA & NA & NA & NA &  2 & NA &  1 &  1 & NA\\\\\n",
       "\tICGC\\_MB185 & 33 &  7 &  2 & NA & NA & 25 & 52 & 11 & 20 & 10\\\\\n",
       "\tICGC\\_MB194 & NA & NA & NA & NA & NA & NA & NA & NA & NA & NA\\\\\n",
       "\tICGC\\_MB198 & NA & NA & NA & NA & NA & NA & NA & NA & NA & NA\\\\\n",
       "\tICGC\\_MB205 & NA & NA & NA & NA & NA & NA & NA & NA & NA & NA\\\\\n",
       "\tICGC\\_MB206 &  2 & NA & NA & NA & NA & NA &  2 & NA &  1 & NA\\\\\n",
       "\tICGC\\_MB213 & NA & NA & NA & NA & NA & NA & NA & NA & NA & NA\\\\\n",
       "\tICGC\\_MB224 &  5 &  1 & NA & NA & NA & NA & 11 &  1 &  9 &  1\\\\\n",
       "\tICGC\\_MB234 &  1 & NA & NA & NA & NA & NA &  1 &  2 &  1 &  2\\\\\n",
       "\tICGC\\_MB241 &  1 & NA & NA & NA & NA & NA &  2 & NA & NA & NA\\\\\n",
       "\tICGC\\_MB243 &  4 &  3 & NA & NA & NA &  1 &  2 &  1 &  1 &  1\\\\\n",
       "\tICGC\\_MB247 & NA & NA & NA & NA & NA & NA &  1 & NA & NA & NA\\\\\n",
       "\tICGC\\_MB260 &  1 &  1 & NA & NA & NA & NA & NA & NA & NA & NA\\\\\n",
       "\tICGC\\_MB265 &  1 & NA &  1 & NA & NA & NA & NA & NA & NA & NA\\\\\n",
       "\tICGC\\_MB266 &  5 & NA & NA & NA & NA & 12 &  2 & NA &  2 & NA\\\\\n",
       "\tICGC\\_MB268 &  1 & NA & NA & NA & NA & NA &  1 & NA &  1 & NA\\\\\n",
       "\tICGC\\_MB271 & NA & NA & NA & NA & NA & NA & NA & NA & NA & NA\\\\\n",
       "\tICGC\\_MB278 &  6 & NA & NA & NA & NA &  7 & NA & NA & NA & NA\\\\\n",
       "\tICGC\\_MB283 &  1 &  2 & NA & NA & NA & NA & NA & NA & NA & NA\\\\\n",
       "\tICGC\\_MB286 &  1 & NA & NA & NA & NA & NA &  1 &  1 &  1 &  1\\\\\n",
       "\tICGC\\_MB294 &  1 & NA & NA & NA & NA & NA &  1 & NA &  1 & NA\\\\\n",
       "\tICGC\\_MB302 &  6 &  5 & NA &  4 & NA & NA &  9 &  5 &  7 &  4\\\\\n",
       "\tICGC\\_MB303 &  1 & NA & NA & NA & NA & NA &  3 &  1 & NA & NA\\\\\n",
       "\tICGC\\_MB304 & NA & NA & NA & NA & NA & NA & NA & NA & NA & NA\\\\\n",
       "\tICGC\\_MB39 & NA & NA & NA & NA & NA &  1 & NA & NA & NA & NA\\\\\n",
       "\tICGC\\_MB62 &  3 &  1 & NA & NA & NA & NA &  2 &  2 &  2 &  2\\\\\n",
       "\tICGC\\_MB63 & NA & NA & NA & NA & NA & NA &  2 &  2 &  1 &  1\\\\\n",
       "\tICGC\\_MB68 & NA & NA & NA & NA & NA & NA & NA & NA & NA & NA\\\\\n",
       "\tICGC\\_MB84 & 13 & 12 & NA & NA & NA & NA & 25 &  7 & 16 &  5\\\\\n",
       "\tICGC\\_MB86 &  1 & NA & NA & NA & NA & NA &  1 &  1 &  1 &  1\\\\\n",
       "\tICGC\\_MB90 &  1 &  1 & NA & NA & NA & NA & NA & NA & NA & NA\\\\\n",
       "\tICGC\\_MB91 & NA & NA & NA & NA & NA & NA & NA & NA & NA & NA\\\\\n",
       "\tICGC\\_MB92 & NA & NA & NA & NA & NA & NA & NA & NA & NA & NA\\\\\n",
       "\tICGC\\_MB94 & NA &  1 & NA & NA & NA &  1 & NA & NA & NA & NA\\\\\n",
       "\\end{tabular}\n"
      ],
      "text/markdown": [
       "\n",
       "A data.frame: 51 × 10\n",
       "\n",
       "| <!--/--> | Unknown &lt;int&gt; | IGHA1 &lt;int&gt; | IGHA2 &lt;int&gt; | IGHD &lt;int&gt; | IGHE &lt;lgl&gt; | IGHM &lt;int&gt; | IGHG1 &lt;int&gt; | IGHG2 &lt;int&gt; | IGHG3 &lt;int&gt; | IGHG4 &lt;int&gt; |\n",
       "|---|---|---|---|---|---|---|---|---|---|---|\n",
       "| ICGC_MB102 | NA | NA | NA | NA | NA |  1 | NA | NA | NA | NA |\n",
       "| ICGC_MB106 |  1 | NA | NA | NA | NA | NA |  1 | NA | NA | NA |\n",
       "| ICGC_MB112 |  1 | NA | NA | NA | NA | NA | NA |  3 |  1 |  3 |\n",
       "| ICGC_MB113 | NA | NA | NA | NA | NA | NA |  1 | NA | NA | NA |\n",
       "| ICGC_MB117 | NA | NA | NA | NA | NA | NA | NA | NA | NA | NA |\n",
       "| ICGC_MB118 | NA | NA | NA | NA | NA | NA | NA | NA | NA | NA |\n",
       "| ICGC_MB119 | 15 |  4 | NA | NA | NA |  6 | 25 |  4 | 14 |  3 |\n",
       "| ICGC_MB122 | NA | NA | NA | NA | NA | NA | NA | NA | NA | NA |\n",
       "| ICGC_MB128 | NA | NA | NA | NA | NA | NA |  1 | NA | NA | NA |\n",
       "| ICGC_MB132 | NA | NA | NA | NA | NA | NA | NA | NA | NA | NA |\n",
       "| ICGC_MB134 | NA | NA | NA | NA | NA | NA | NA | NA | NA | NA |\n",
       "| ICGC_MB136 | NA | NA | NA | NA | NA | NA | NA | NA | NA | NA |\n",
       "| ICGC_MB148 |  6 |  1 | NA | NA | NA | NA |  2 |  3 |  2 |  3 |\n",
       "| ICGC_MB165 |  1 | NA | NA | NA | NA |  1 |  1 | NA | NA | NA |\n",
       "| ICGC_MB166 |  8 |  2 | NA | NA | NA | 15 | 10 |  2 |  6 |  1 |\n",
       "| ICGC_MB170 |  1 | NA | NA | NA | NA | NA |  1 |  1 |  1 |  1 |\n",
       "| ICGC_MB176 | NA | NA | NA | NA | NA | NA | NA | NA | NA | NA |\n",
       "| ICGC_MB180 |  1 | NA | NA | NA | NA |  2 | NA |  1 |  1 | NA |\n",
       "| ICGC_MB185 | 33 |  7 |  2 | NA | NA | 25 | 52 | 11 | 20 | 10 |\n",
       "| ICGC_MB194 | NA | NA | NA | NA | NA | NA | NA | NA | NA | NA |\n",
       "| ICGC_MB198 | NA | NA | NA | NA | NA | NA | NA | NA | NA | NA |\n",
       "| ICGC_MB205 | NA | NA | NA | NA | NA | NA | NA | NA | NA | NA |\n",
       "| ICGC_MB206 |  2 | NA | NA | NA | NA | NA |  2 | NA |  1 | NA |\n",
       "| ICGC_MB213 | NA | NA | NA | NA | NA | NA | NA | NA | NA | NA |\n",
       "| ICGC_MB224 |  5 |  1 | NA | NA | NA | NA | 11 |  1 |  9 |  1 |\n",
       "| ICGC_MB234 |  1 | NA | NA | NA | NA | NA |  1 |  2 |  1 |  2 |\n",
       "| ICGC_MB241 |  1 | NA | NA | NA | NA | NA |  2 | NA | NA | NA |\n",
       "| ICGC_MB243 |  4 |  3 | NA | NA | NA |  1 |  2 |  1 |  1 |  1 |\n",
       "| ICGC_MB247 | NA | NA | NA | NA | NA | NA |  1 | NA | NA | NA |\n",
       "| ICGC_MB260 |  1 |  1 | NA | NA | NA | NA | NA | NA | NA | NA |\n",
       "| ICGC_MB265 |  1 | NA |  1 | NA | NA | NA | NA | NA | NA | NA |\n",
       "| ICGC_MB266 |  5 | NA | NA | NA | NA | 12 |  2 | NA |  2 | NA |\n",
       "| ICGC_MB268 |  1 | NA | NA | NA | NA | NA |  1 | NA |  1 | NA |\n",
       "| ICGC_MB271 | NA | NA | NA | NA | NA | NA | NA | NA | NA | NA |\n",
       "| ICGC_MB278 |  6 | NA | NA | NA | NA |  7 | NA | NA | NA | NA |\n",
       "| ICGC_MB283 |  1 |  2 | NA | NA | NA | NA | NA | NA | NA | NA |\n",
       "| ICGC_MB286 |  1 | NA | NA | NA | NA | NA |  1 |  1 |  1 |  1 |\n",
       "| ICGC_MB294 |  1 | NA | NA | NA | NA | NA |  1 | NA |  1 | NA |\n",
       "| ICGC_MB302 |  6 |  5 | NA |  4 | NA | NA |  9 |  5 |  7 |  4 |\n",
       "| ICGC_MB303 |  1 | NA | NA | NA | NA | NA |  3 |  1 | NA | NA |\n",
       "| ICGC_MB304 | NA | NA | NA | NA | NA | NA | NA | NA | NA | NA |\n",
       "| ICGC_MB39 | NA | NA | NA | NA | NA |  1 | NA | NA | NA | NA |\n",
       "| ICGC_MB62 |  3 |  1 | NA | NA | NA | NA |  2 |  2 |  2 |  2 |\n",
       "| ICGC_MB63 | NA | NA | NA | NA | NA | NA |  2 |  2 |  1 |  1 |\n",
       "| ICGC_MB68 | NA | NA | NA | NA | NA | NA | NA | NA | NA | NA |\n",
       "| ICGC_MB84 | 13 | 12 | NA | NA | NA | NA | 25 |  7 | 16 |  5 |\n",
       "| ICGC_MB86 |  1 | NA | NA | NA | NA | NA |  1 |  1 |  1 |  1 |\n",
       "| ICGC_MB90 |  1 |  1 | NA | NA | NA | NA | NA | NA | NA | NA |\n",
       "| ICGC_MB91 | NA | NA | NA | NA | NA | NA | NA | NA | NA | NA |\n",
       "| ICGC_MB92 | NA | NA | NA | NA | NA | NA | NA | NA | NA | NA |\n",
       "| ICGC_MB94 | NA |  1 | NA | NA | NA |  1 | NA | NA | NA | NA |\n",
       "\n"
      ],
      "text/plain": [
       "           Unknown IGHA1 IGHA2 IGHD IGHE IGHM IGHG1 IGHG2 IGHG3 IGHG4\n",
       "ICGC_MB102 NA      NA    NA    NA   NA    1   NA    NA    NA    NA   \n",
       "ICGC_MB106  1      NA    NA    NA   NA   NA    1    NA    NA    NA   \n",
       "ICGC_MB112  1      NA    NA    NA   NA   NA   NA     3     1     3   \n",
       "ICGC_MB113 NA      NA    NA    NA   NA   NA    1    NA    NA    NA   \n",
       "ICGC_MB117 NA      NA    NA    NA   NA   NA   NA    NA    NA    NA   \n",
       "ICGC_MB118 NA      NA    NA    NA   NA   NA   NA    NA    NA    NA   \n",
       "ICGC_MB119 15       4    NA    NA   NA    6   25     4    14     3   \n",
       "ICGC_MB122 NA      NA    NA    NA   NA   NA   NA    NA    NA    NA   \n",
       "ICGC_MB128 NA      NA    NA    NA   NA   NA    1    NA    NA    NA   \n",
       "ICGC_MB132 NA      NA    NA    NA   NA   NA   NA    NA    NA    NA   \n",
       "ICGC_MB134 NA      NA    NA    NA   NA   NA   NA    NA    NA    NA   \n",
       "ICGC_MB136 NA      NA    NA    NA   NA   NA   NA    NA    NA    NA   \n",
       "ICGC_MB148  6       1    NA    NA   NA   NA    2     3     2     3   \n",
       "ICGC_MB165  1      NA    NA    NA   NA    1    1    NA    NA    NA   \n",
       "ICGC_MB166  8       2    NA    NA   NA   15   10     2     6     1   \n",
       "ICGC_MB170  1      NA    NA    NA   NA   NA    1     1     1     1   \n",
       "ICGC_MB176 NA      NA    NA    NA   NA   NA   NA    NA    NA    NA   \n",
       "ICGC_MB180  1      NA    NA    NA   NA    2   NA     1     1    NA   \n",
       "ICGC_MB185 33       7     2    NA   NA   25   52    11    20    10   \n",
       "ICGC_MB194 NA      NA    NA    NA   NA   NA   NA    NA    NA    NA   \n",
       "ICGC_MB198 NA      NA    NA    NA   NA   NA   NA    NA    NA    NA   \n",
       "ICGC_MB205 NA      NA    NA    NA   NA   NA   NA    NA    NA    NA   \n",
       "ICGC_MB206  2      NA    NA    NA   NA   NA    2    NA     1    NA   \n",
       "ICGC_MB213 NA      NA    NA    NA   NA   NA   NA    NA    NA    NA   \n",
       "ICGC_MB224  5       1    NA    NA   NA   NA   11     1     9     1   \n",
       "ICGC_MB234  1      NA    NA    NA   NA   NA    1     2     1     2   \n",
       "ICGC_MB241  1      NA    NA    NA   NA   NA    2    NA    NA    NA   \n",
       "ICGC_MB243  4       3    NA    NA   NA    1    2     1     1     1   \n",
       "ICGC_MB247 NA      NA    NA    NA   NA   NA    1    NA    NA    NA   \n",
       "ICGC_MB260  1       1    NA    NA   NA   NA   NA    NA    NA    NA   \n",
       "ICGC_MB265  1      NA     1    NA   NA   NA   NA    NA    NA    NA   \n",
       "ICGC_MB266  5      NA    NA    NA   NA   12    2    NA     2    NA   \n",
       "ICGC_MB268  1      NA    NA    NA   NA   NA    1    NA     1    NA   \n",
       "ICGC_MB271 NA      NA    NA    NA   NA   NA   NA    NA    NA    NA   \n",
       "ICGC_MB278  6      NA    NA    NA   NA    7   NA    NA    NA    NA   \n",
       "ICGC_MB283  1       2    NA    NA   NA   NA   NA    NA    NA    NA   \n",
       "ICGC_MB286  1      NA    NA    NA   NA   NA    1     1     1     1   \n",
       "ICGC_MB294  1      NA    NA    NA   NA   NA    1    NA     1    NA   \n",
       "ICGC_MB302  6       5    NA     4   NA   NA    9     5     7     4   \n",
       "ICGC_MB303  1      NA    NA    NA   NA   NA    3     1    NA    NA   \n",
       "ICGC_MB304 NA      NA    NA    NA   NA   NA   NA    NA    NA    NA   \n",
       "ICGC_MB39  NA      NA    NA    NA   NA    1   NA    NA    NA    NA   \n",
       "ICGC_MB62   3       1    NA    NA   NA   NA    2     2     2     2   \n",
       "ICGC_MB63  NA      NA    NA    NA   NA   NA    2     2     1     1   \n",
       "ICGC_MB68  NA      NA    NA    NA   NA   NA   NA    NA    NA    NA   \n",
       "ICGC_MB84  13      12    NA    NA   NA   NA   25     7    16     5   \n",
       "ICGC_MB86   1      NA    NA    NA   NA   NA    1     1     1     1   \n",
       "ICGC_MB90   1       1    NA    NA   NA   NA   NA    NA    NA    NA   \n",
       "ICGC_MB91  NA      NA    NA    NA   NA   NA   NA    NA    NA    NA   \n",
       "ICGC_MB92  NA      NA    NA    NA   NA   NA   NA    NA    NA    NA   \n",
       "ICGC_MB94  NA       1    NA    NA   NA    1   NA    NA    NA    NA   "
      ]
     },
     "metadata": {},
     "output_type": "display_data"
    }
   ],
   "source": [
    "cgenes"
   ]
  },
  {
   "cell_type": "code",
   "execution_count": 116,
   "metadata": {},
   "outputs": [],
   "source": [
    "icgc_mb_metadata_igh <- cbind(icgc_mb_metadata,\n",
    "                             cgenes[match(icgc_mb_metadata$sample_id,rownames(cgenes)),])"
   ]
  },
  {
   "cell_type": "code",
   "execution_count": 118,
   "metadata": {},
   "outputs": [
    {
     "data": {
      "text/html": [
       "<table class=\"dataframe\">\n",
       "<caption>A data.frame: 1 × 44</caption>\n",
       "<thead>\n",
       "\t<tr><th></th><th scope=col>sample_id</th><th scope=col>aliquot_id</th><th scope=col>StromalScore</th><th scope=col>ImmuneScore</th><th scope=col>ESTIMATEScore</th><th scope=col>name</th><th scope=col>case_id</th><th scope=col>gender</th><th scope=col>ethnicity</th><th scope=col>race</th><th scope=col>⋯</th><th scope=col>Unknown</th><th scope=col>IGHA1</th><th scope=col>IGHA2</th><th scope=col>IGHD</th><th scope=col>IGHE</th><th scope=col>IGHM</th><th scope=col>IGHG1</th><th scope=col>IGHG2</th><th scope=col>IGHG3</th><th scope=col>IGHG4</th></tr>\n",
       "\t<tr><th></th><th scope=col>&lt;chr&gt;</th><th scope=col>&lt;chr&gt;</th><th scope=col>&lt;dbl&gt;</th><th scope=col>&lt;dbl&gt;</th><th scope=col>&lt;dbl&gt;</th><th scope=col>&lt;chr&gt;</th><th scope=col>&lt;chr&gt;</th><th scope=col>&lt;chr&gt;</th><th scope=col>&lt;chr&gt;</th><th scope=col>&lt;chr&gt;</th><th scope=col>⋯</th><th scope=col>&lt;int&gt;</th><th scope=col>&lt;int&gt;</th><th scope=col>&lt;int&gt;</th><th scope=col>&lt;int&gt;</th><th scope=col>&lt;lgl&gt;</th><th scope=col>&lt;int&gt;</th><th scope=col>&lt;int&gt;</th><th scope=col>&lt;int&gt;</th><th scope=col>&lt;int&gt;</th><th scope=col>&lt;int&gt;</th></tr>\n",
       "</thead>\n",
       "<tbody>\n",
       "\t<tr><th scope=row>851</th><td>ICGC_MB119</td><td>ICGC_MB119</td><td>-1438.522</td><td>-1967.332</td><td>-3405.854</td><td>ICGC_MB119</td><td>ICGC_MB119</td><td>Female</td><td>NA</td><td>NA</td><td>⋯</td><td>15</td><td>4</td><td>NA</td><td>NA</td><td>NA</td><td>6</td><td>25</td><td>4</td><td>14</td><td>3</td></tr>\n",
       "</tbody>\n",
       "</table>\n"
      ],
      "text/latex": [
       "A data.frame: 1 × 44\n",
       "\\begin{tabular}{r|lllllllllllllllllllll}\n",
       "  & sample\\_id & aliquot\\_id & StromalScore & ImmuneScore & ESTIMATEScore & name & case\\_id & gender & ethnicity & race & ⋯ & Unknown & IGHA1 & IGHA2 & IGHD & IGHE & IGHM & IGHG1 & IGHG2 & IGHG3 & IGHG4\\\\\n",
       "  & <chr> & <chr> & <dbl> & <dbl> & <dbl> & <chr> & <chr> & <chr> & <chr> & <chr> & ⋯ & <int> & <int> & <int> & <int> & <lgl> & <int> & <int> & <int> & <int> & <int>\\\\\n",
       "\\hline\n",
       "\t851 & ICGC\\_MB119 & ICGC\\_MB119 & -1438.522 & -1967.332 & -3405.854 & ICGC\\_MB119 & ICGC\\_MB119 & Female & NA & NA & ⋯ & 15 & 4 & NA & NA & NA & 6 & 25 & 4 & 14 & 3\\\\\n",
       "\\end{tabular}\n"
      ],
      "text/markdown": [
       "\n",
       "A data.frame: 1 × 44\n",
       "\n",
       "| <!--/--> | sample_id &lt;chr&gt; | aliquot_id &lt;chr&gt; | StromalScore &lt;dbl&gt; | ImmuneScore &lt;dbl&gt; | ESTIMATEScore &lt;dbl&gt; | name &lt;chr&gt; | case_id &lt;chr&gt; | gender &lt;chr&gt; | ethnicity &lt;chr&gt; | race &lt;chr&gt; | ⋯ ⋯ | Unknown &lt;int&gt; | IGHA1 &lt;int&gt; | IGHA2 &lt;int&gt; | IGHD &lt;int&gt; | IGHE &lt;lgl&gt; | IGHM &lt;int&gt; | IGHG1 &lt;int&gt; | IGHG2 &lt;int&gt; | IGHG3 &lt;int&gt; | IGHG4 &lt;int&gt; |\n",
       "|---|---|---|---|---|---|---|---|---|---|---|---|---|---|---|---|---|---|---|---|---|---|\n",
       "| 851 | ICGC_MB119 | ICGC_MB119 | -1438.522 | -1967.332 | -3405.854 | ICGC_MB119 | ICGC_MB119 | Female | NA | NA | ⋯ | 15 | 4 | NA | NA | NA | 6 | 25 | 4 | 14 | 3 |\n",
       "\n"
      ],
      "text/plain": [
       "    sample_id  aliquot_id StromalScore ImmuneScore ESTIMATEScore name      \n",
       "851 ICGC_MB119 ICGC_MB119 -1438.522    -1967.332   -3405.854     ICGC_MB119\n",
       "    case_id    gender ethnicity race ⋯ Unknown IGHA1 IGHA2 IGHD IGHE IGHM IGHG1\n",
       "851 ICGC_MB119 Female NA        NA   ⋯ 15      4     NA    NA   NA   6    25   \n",
       "    IGHG2 IGHG3 IGHG4\n",
       "851 4     14    3    "
      ]
     },
     "metadata": {},
     "output_type": "display_data"
    }
   ],
   "source": [
    "icgc_mb_metadata_igh[ icgc_mb_metadata_igh$sample_id == \"ICGC_MB119\",]"
   ]
  },
  {
   "cell_type": "code",
   "execution_count": 160,
   "metadata": {},
   "outputs": [
    {
     "data": {
      "text/html": [
       "1"
      ],
      "text/latex": [
       "1"
      ],
      "text/markdown": [
       "1"
      ],
      "text/plain": [
       "[1] 1"
      ]
     },
     "metadata": {},
     "output_type": "display_data"
    }
   ],
   "source": [
    "icgc_mb_metadata_igh$number_of_unique_IghCDR3[ icgc_mb_metadata_igh$sample_id == \"ICGC_MB102\"]"
   ]
  },
  {
   "cell_type": "code",
   "execution_count": 119,
   "metadata": {},
   "outputs": [
    {
     "data": {
      "text/plain": [
       "$MB_Group3\n",
       "   Min. 1st Qu.  Median    Mean 3rd Qu.    Max.    NA's \n",
       "      1       1       2       5       2      35      16 \n",
       "\n",
       "$MB_Group4\n",
       "   Min. 1st Qu.  Median    Mean 3rd Qu.    Max.    NA's \n",
       "    1.0     2.0     2.0    18.2    12.5   117.0      39 \n",
       "\n",
       "$MB_SHH\n",
       "   Min. 1st Qu.  Median    Mean 3rd Qu.    Max.    NA's \n",
       "  1.000   1.250   3.000   7.333   9.250  25.000      13 \n",
       "\n",
       "$MB_WNT\n",
       "   Min. 1st Qu.  Median    Mean 3rd Qu.    Max.    NA's \n",
       "    1.0     1.0     1.0     1.6     1.0     4.0       4 \n"
      ]
     },
     "metadata": {},
     "output_type": "display_data"
    }
   ],
   "source": [
    "tapply(icgc_mb_metadata_igh$number_of_unique_IghCDR3,\n",
    "      icgc_mb_metadata_igh$disease_type, summary)"
   ]
  },
  {
   "cell_type": "code",
   "execution_count": 130,
   "metadata": {},
   "outputs": [
    {
     "data": {
      "text/plain": [
       "\n",
       "MB_Group3 MB_Group4    MB_SHH    MB_WNT \n",
       "       29        54        19         9 "
      ]
     },
     "metadata": {},
     "output_type": "display_data"
    }
   ],
   "source": [
    "table(icgc_mb_metadata_igh$disease_type)"
   ]
  },
  {
   "cell_type": "code",
   "execution_count": 138,
   "metadata": {},
   "outputs": [
    {
     "data": {
      "text/plain": [
       "$MB_Group3\n",
       "   Min. 1st Qu.  Median    Mean 3rd Qu.    Max.    NA's \n",
       "      1       1       2       5       2      35      16 \n",
       "\n",
       "$MB_Group4\n",
       "   Min. 1st Qu.  Median    Mean 3rd Qu.    Max.    NA's \n",
       "    1.0     2.0     2.0    18.2    12.5   117.0      39 \n",
       "\n",
       "$MB_SHH\n",
       "   Min. 1st Qu.  Median    Mean 3rd Qu.    Max.    NA's \n",
       "  1.000   1.250   3.000   7.333   9.250  25.000      13 \n",
       "\n",
       "$MB_WNT\n",
       "   Min. 1st Qu.  Median    Mean 3rd Qu.    Max.    NA's \n",
       "    1.0     1.0     1.0     1.6     1.0     4.0       4 \n"
      ]
     },
     "metadata": {},
     "output_type": "display_data"
    }
   ],
   "source": [
    "tapply(icgc_mb_metadata_igh$number_of_unique_IghCDR3,\n",
    "      icgc_mb_metadata_igh$disease_type, summary)"
   ]
  },
  {
   "cell_type": "code",
   "execution_count": 157,
   "metadata": {},
   "outputs": [
    {
     "name": "stderr",
     "output_type": "stream",
     "text": [
      "Warning message in wilcox.test.default(xi, xj, paired = paired, ...):\n",
      "“cannot compute exact p-value with ties”\n",
      "Warning message in wilcox.test.default(xi, xj, paired = paired, ...):\n",
      "“cannot compute exact p-value with ties”\n",
      "Warning message in wilcox.test.default(xi, xj, paired = paired, ...):\n",
      "“cannot compute exact p-value with ties”\n",
      "Warning message in wilcox.test.default(xi, xj, paired = paired, ...):\n",
      "“cannot compute exact p-value with ties”\n",
      "Warning message in wilcox.test.default(xi, xj, paired = paired, ...):\n",
      "“cannot compute exact p-value with ties”\n",
      "Warning message in wilcox.test.default(xi, xj, paired = paired, ...):\n",
      "“cannot compute exact p-value with ties”\n"
     ]
    },
    {
     "data": {
      "text/plain": [
       "\n",
       "\tPairwise comparisons using Wilcoxon rank sum test with continuity correction \n",
       "\n",
       "data:  icgc_mb_metadata_igh$number_of_unique_IghCDR3 and icgc_mb_metadata_igh$disease_type \n",
       "\n",
       "          MB_Group3 MB_Group4 MB_SHH\n",
       "MB_Group4 0.131     -         -     \n",
       "MB_SHH    0.434     0.873     -     \n",
       "MB_WNT    0.327     0.064     0.162 \n",
       "\n",
       "P value adjustment method: none "
      ]
     },
     "metadata": {},
     "output_type": "display_data"
    }
   ],
   "source": [
    "pairwise.wilcox.test(icgc_mb_metadata_igh$number_of_unique_IghCDR3,\n",
    "                    icgc_mb_metadata_igh$disease_type, p.adjust = \"none\")"
   ]
  },
  {
   "cell_type": "markdown",
   "metadata": {},
   "source": [
    "# Numbers in text"
   ]
  },
  {
   "cell_type": "code",
   "execution_count": 181,
   "metadata": {},
   "outputs": [
    {
     "data": {
      "text/html": [
       "174993"
      ],
      "text/latex": [
       "174993"
      ],
      "text/markdown": [
       "174993"
      ],
      "text/plain": [
       "[1] 174993"
      ]
     },
     "metadata": {},
     "output_type": "display_data"
    }
   ],
   "source": [
    "length(unique(all_merge$nSeqCDR3))"
   ]
  },
  {
   "cell_type": "code",
   "execution_count": 182,
   "metadata": {},
   "outputs": [
    {
     "data": {
      "text/html": [
       "606"
      ],
      "text/latex": [
       "606"
      ],
      "text/markdown": [
       "606"
      ],
      "text/plain": [
       "[1] 606"
      ]
     },
     "metadata": {},
     "output_type": "display_data"
    }
   ],
   "source": [
    "length(unique(all_merge$sample_id))"
   ]
  },
  {
   "cell_type": "code",
   "execution_count": 183,
   "metadata": {},
   "outputs": [
    {
     "data": {
      "text/html": [
       "<table>\n",
       "<caption>A data.frame: 14 × 4</caption>\n",
       "<thead>\n",
       "\t<tr><th scope=col>cohort</th><th scope=col>total_isotypes</th><th scope=col>samples</th><th scope=col>isotype_sample</th></tr>\n",
       "\t<tr><th scope=col>&lt;fct&gt;</th><th scope=col>&lt;dbl&gt;</th><th scope=col>&lt;int&gt;</th><th scope=col>&lt;dbl&gt;</th></tr>\n",
       "</thead>\n",
       "<tbody>\n",
       "\t<tr><td>ATRT  </td><td>13212</td><td> 21</td><td> 629.14286</td></tr>\n",
       "\t<tr><td>CP    </td><td>  973</td><td> 11</td><td>  88.45455</td></tr>\n",
       "\t<tr><td>CPH   </td><td>22193</td><td> 20</td><td>1109.65000</td></tr>\n",
       "\t<tr><td>EPN   </td><td>18298</td><td> 50</td><td> 365.96000</td></tr>\n",
       "\t<tr><td>ETMR  </td><td>   13</td><td>  1</td><td>  13.00000</td></tr>\n",
       "\t<tr><td>EWS   </td><td>  227</td><td>  5</td><td>  45.40000</td></tr>\n",
       "\t<tr><td>MB    </td><td> 1853</td><td> 13</td><td> 142.53846</td></tr>\n",
       "\t<tr><td>MNG   </td><td>  820</td><td> 12</td><td>  68.33333</td></tr>\n",
       "\t<tr><td>NBL   </td><td>96570</td><td>115</td><td> 839.73913</td></tr>\n",
       "\t<tr><td>NFB   </td><td> 1098</td><td> 12</td><td>  91.50000</td></tr>\n",
       "\t<tr><td>pedHGG</td><td> 3437</td><td> 53</td><td>  64.84906</td></tr>\n",
       "\t<tr><td>pedLGG</td><td>88857</td><td>253</td><td> 351.21344</td></tr>\n",
       "\t<tr><td>SCHW  </td><td> 2445</td><td> 14</td><td> 174.64286</td></tr>\n",
       "\t<tr><td>TT/GN </td><td> 3961</td><td>  6</td><td> 660.16667</td></tr>\n",
       "</tbody>\n",
       "</table>\n"
      ],
      "text/latex": [
       "A data.frame: 14 × 4\n",
       "\\begin{tabular}{r|llll}\n",
       " cohort & total\\_isotypes & samples & isotype\\_sample\\\\\n",
       " <fct> & <dbl> & <int> & <dbl>\\\\\n",
       "\\hline\n",
       "\t ATRT   & 13212 &  21 &  629.14286\\\\\n",
       "\t CP     &   973 &  11 &   88.45455\\\\\n",
       "\t CPH    & 22193 &  20 & 1109.65000\\\\\n",
       "\t EPN    & 18298 &  50 &  365.96000\\\\\n",
       "\t ETMR   &    13 &   1 &   13.00000\\\\\n",
       "\t EWS    &   227 &   5 &   45.40000\\\\\n",
       "\t MB     &  1853 &  13 &  142.53846\\\\\n",
       "\t MNG    &   820 &  12 &   68.33333\\\\\n",
       "\t NBL    & 96570 & 115 &  839.73913\\\\\n",
       "\t NFB    &  1098 &  12 &   91.50000\\\\\n",
       "\t pedHGG &  3437 &  53 &   64.84906\\\\\n",
       "\t pedLGG & 88857 & 253 &  351.21344\\\\\n",
       "\t SCHW   &  2445 &  14 &  174.64286\\\\\n",
       "\t TT/GN  &  3961 &   6 &  660.16667\\\\\n",
       "\\end{tabular}\n"
      ],
      "text/markdown": [
       "\n",
       "A data.frame: 14 × 4\n",
       "\n",
       "| cohort &lt;fct&gt; | total_isotypes &lt;dbl&gt; | samples &lt;int&gt; | isotype_sample &lt;dbl&gt; |\n",
       "|---|---|---|---|\n",
       "| ATRT   | 13212 |  21 |  629.14286 |\n",
       "| CP     |   973 |  11 |   88.45455 |\n",
       "| CPH    | 22193 |  20 | 1109.65000 |\n",
       "| EPN    | 18298 |  50 |  365.96000 |\n",
       "| ETMR   |    13 |   1 |   13.00000 |\n",
       "| EWS    |   227 |   5 |   45.40000 |\n",
       "| MB     |  1853 |  13 |  142.53846 |\n",
       "| MNG    |   820 |  12 |   68.33333 |\n",
       "| NBL    | 96570 | 115 |  839.73913 |\n",
       "| NFB    |  1098 |  12 |   91.50000 |\n",
       "| pedHGG |  3437 |  53 |   64.84906 |\n",
       "| pedLGG | 88857 | 253 |  351.21344 |\n",
       "| SCHW   |  2445 |  14 |  174.64286 |\n",
       "| TT/GN  |  3961 |   6 |  660.16667 |\n",
       "\n"
      ],
      "text/plain": [
       "   cohort total_isotypes samples isotype_sample\n",
       "1  ATRT   13212           21      629.14286    \n",
       "2  CP       973           11       88.45455    \n",
       "3  CPH    22193           20     1109.65000    \n",
       "4  EPN    18298           50      365.96000    \n",
       "5  ETMR      13            1       13.00000    \n",
       "6  EWS      227            5       45.40000    \n",
       "7  MB      1853           13      142.53846    \n",
       "8  MNG      820           12       68.33333    \n",
       "9  NBL    96570          115      839.73913    \n",
       "10 NFB     1098           12       91.50000    \n",
       "11 pedHGG  3437           53       64.84906    \n",
       "12 pedLGG 88857          253      351.21344    \n",
       "13 SCHW    2445           14      174.64286    \n",
       "14 TT/GN   3961            6      660.16667    "
      ]
     },
     "metadata": {},
     "output_type": "display_data"
    }
   ],
   "source": [
    "total_isotypes"
   ]
  },
  {
   "cell_type": "code",
   "execution_count": null,
   "metadata": {},
   "outputs": [],
   "source": []
  },
  {
   "cell_type": "markdown",
   "metadata": {},
   "source": [
    "## CDR3 length histograms"
   ]
  },
  {
   "cell_type": "code",
   "execution_count": 45,
   "metadata": {},
   "outputs": [],
   "source": [
    "all_merge$CDR3length <- nchar(all_merge$aaSeqCDR3)"
   ]
  },
  {
   "cell_type": "code",
   "execution_count": 46,
   "metadata": {},
   "outputs": [
    {
     "data": {
      "text/plain": [
       "$IGHA1\n",
       "   Min. 1st Qu.  Median    Mean 3rd Qu.    Max. \n",
       "    6.0    15.0    17.0    17.2    20.0    62.0 \n",
       "\n",
       "$IGHA2\n",
       "   Min. 1st Qu.  Median    Mean 3rd Qu.    Max. \n",
       "   7.00   13.00   16.00   15.77   18.00   34.00 \n",
       "\n",
       "$IGHD\n",
       "   Min. 1st Qu.  Median    Mean 3rd Qu.    Max. \n",
       "   7.00   15.00   17.00   17.62   20.00   42.00 \n",
       "\n",
       "$IGHE\n",
       "   Min. 1st Qu.  Median    Mean 3rd Qu.    Max. \n",
       "   10.0    15.0    17.0    17.3    19.0    27.0 \n",
       "\n",
       "$IGHG1\n",
       "   Min. 1st Qu.  Median    Mean 3rd Qu.    Max. \n",
       "   6.00   15.00   17.00   17.74   20.00   77.00 \n",
       "\n",
       "$IGHG2\n",
       "   Min. 1st Qu.  Median    Mean 3rd Qu.    Max. \n",
       "   6.00   13.00   16.00   16.11   19.00   30.00 \n",
       "\n",
       "$IGHG3\n",
       "   Min. 1st Qu.  Median    Mean 3rd Qu.    Max. \n",
       "   6.00   16.00   19.00   18.45   21.00   42.00 \n",
       "\n",
       "$IGHG4\n",
       "   Min. 1st Qu.  Median    Mean 3rd Qu.    Max. \n",
       "   9.00   15.00   17.00   17.76   21.00   32.00 \n",
       "\n",
       "$IGHM\n",
       "   Min. 1st Qu.  Median    Mean 3rd Qu.    Max. \n",
       "   6.00   14.00   16.00   16.19   18.00   78.00 \n",
       "\n",
       "$Unknown\n",
       "   Min. 1st Qu.  Median    Mean 3rd Qu.    Max. \n",
       "   5.00   15.00   17.00   17.81   20.00  124.00 \n"
      ]
     },
     "metadata": {},
     "output_type": "display_data"
    }
   ],
   "source": [
    "tapply(all_merge$CDR3length, all_merge$Cgene, summary)"
   ]
  },
  {
   "cell_type": "markdown",
   "metadata": {},
   "source": [
    "collapse all lengths to 30 and change label to >30"
   ]
  },
  {
   "cell_type": "code",
   "execution_count": 47,
   "metadata": {},
   "outputs": [],
   "source": [
    "all_merge$CDR3length[all_merge$CDR3length > 30] <- 30"
   ]
  },
  {
   "cell_type": "code",
   "execution_count": 48,
   "metadata": {},
   "outputs": [
    {
     "data": {
      "text/plain": [
       "   Min. 1st Qu.  Median    Mean 3rd Qu.    Max. \n",
       "   5.00   15.00   17.00   17.54   20.00   30.00 "
      ]
     },
     "metadata": {},
     "output_type": "display_data"
    }
   ],
   "source": [
    "summary(all_merge$CDR3length)"
   ]
  },
  {
   "cell_type": "markdown",
   "metadata": {},
   "source": [
    "geom_histogram doesnt behave well with limits(), use coord_cartesian instead to align all."
   ]
  },
  {
   "cell_type": "code",
   "execution_count": 49,
   "metadata": {},
   "outputs": [],
   "source": [
    "ighm_cdr3 <- ggplot(data = all_merge[all_merge$Cgene == \"IGHM\",]) + geom_histogram(aes(x = CDR3length), binwidth= 1, center = 0) +\n",
    "myplot + myaxis +\n",
    "scale_x_continuous(breaks = seq(0, 30, by = 5)) + \n",
    "coord_cartesian(x = c(5,30)) +\n",
    "labs(title = \"IGHM CDR3 length\")"
   ]
  },
  {
   "cell_type": "code",
   "execution_count": 50,
   "metadata": {},
   "outputs": [
    {
     "data": {
      "image/png": "[encoded data removed]",
      "text/plain": [
       "plot without title"
      ]
     },
     "metadata": {},
     "output_type": "display_data"
    }
   ],
   "source": [
    "ighm_cdr3"
   ]
  },
  {
   "cell_type": "code",
   "execution_count": 51,
   "metadata": {},
   "outputs": [],
   "source": [
    "igha2_cdr3 <- ggplot(data = all_merge[all_merge$Cgene == \"IGHA2\",]) + geom_histogram(aes(x = CDR3length), binwidth= 1, center = 0) + \n",
    "myplot + myaxis +\n",
    "scale_x_continuous(breaks = seq(0, 30, by = 5)) + \n",
    "coord_cartesian(x = c(5,30)) +\n",
    "labs(title = \"IGHA2 CDR3 length\")"
   ]
  },
  {
   "cell_type": "code",
   "execution_count": 52,
   "metadata": {},
   "outputs": [],
   "source": [
    "igha1_cdr3 <- ggplot(data = all_merge[all_merge$Cgene == \"IGHA1\",]) + geom_histogram(aes(x = CDR3length), binwidth= 1, center = 0) + \n",
    "myplot + myaxis +\n",
    "scale_x_continuous(breaks = seq(0, 30, by = 5)) + \n",
    "coord_cartesian(x = c(5,30)) +\n",
    "labs(title = \"IGHA1 CDR3 length\")"
   ]
  },
  {
   "cell_type": "code",
   "execution_count": 53,
   "metadata": {},
   "outputs": [],
   "source": [
    "ighg1_cdr3 <- ggplot(data = all_merge[all_merge$Cgene == \"IGHG1\",]) + geom_histogram(aes(x = CDR3length),binwidth= 1, center = 0) + \n",
    "myplot + myaxis +\n",
    "scale_x_continuous(breaks = seq(0, 30, by = 5)) + \n",
    "coord_cartesian(x = c(5,30)) +\n",
    "labs(title = \"IGHG1 CDR3 length\")"
   ]
  },
  {
   "cell_type": "code",
   "execution_count": 54,
   "metadata": {},
   "outputs": [],
   "source": [
    "ighg2_cdr3 <- ggplot(data = all_merge[all_merge$Cgene == \"IGHG2\",]) + geom_histogram(aes(x = CDR3length), binwidth= 1, center = 0) + \n",
    "myplot + myaxis +\n",
    "scale_x_continuous(breaks = seq(0, 30, by = 5)) + \n",
    "coord_cartesian(x = c(5,30)) +\n",
    "labs(title = \"IGHG2 CDR3 length\")"
   ]
  },
  {
   "cell_type": "code",
   "execution_count": 55,
   "metadata": {},
   "outputs": [],
   "source": [
    "ighg3_cdr3 <- ggplot(data = all_merge[all_merge$Cgene == \"IGHG3\",]) + geom_histogram(aes(x = CDR3length), binwidth= 1, center = 0) +\n",
    "myplot + myaxis +\n",
    "scale_x_continuous(breaks = seq(0, 30, by = 5)) +\n",
    "coord_cartesian(x = c(5,30)) + \n",
    "labs(title = \"IGHG3 CDR3 length\")"
   ]
  },
  {
   "cell_type": "code",
   "execution_count": 56,
   "metadata": {},
   "outputs": [],
   "source": [
    "ighg4_cdr3 <- ggplot(data = all_merge[all_merge$Cgene == \"IGHG4\",]) + geom_histogram(aes(x = CDR3length), binwidth= 1, center = 0) +\n",
    "myplot + myaxis +\n",
    "scale_x_continuous(breaks = seq(0, 30, by = 5)) + \n",
    "coord_cartesian(x = c(5,30)) +\n",
    "labs(title = \"IGHG4 CDR3 length\")"
   ]
  },
  {
   "cell_type": "code",
   "execution_count": 61,
   "metadata": {},
   "outputs": [
    {
     "name": "stderr",
     "output_type": "stream",
     "text": [
      "\n",
      "Attaching package: ‘gridExtra’\n",
      "\n",
      "The following object is masked from ‘package:BiocGenerics’:\n",
      "\n",
      "    combine\n",
      "\n"
     ]
    }
   ],
   "source": [
    "library(gridExtra)"
   ]
  },
  {
   "cell_type": "code",
   "execution_count": 62,
   "metadata": {
    "scrolled": true
   },
   "outputs": [
    {
     "data": {
      "image/png": "[encoded data removed]",
      "text/plain": [
       "plot without title"
      ]
     },
     "metadata": {},
     "output_type": "display_data"
    }
   ],
   "source": [
    "grid.arrange(\n",
    "ighg1_cdr3,\n",
    "ighg2_cdr3,\n",
    "ighg3_cdr3,\n",
    "ighg4_cdr3, \n",
    "ncol = 1)"
   ]
  },
  {
   "cell_type": "code",
   "execution_count": 63,
   "metadata": {},
   "outputs": [
    {
     "data": {
      "text/html": [
       "<strong>pdf:</strong> 2"
      ],
      "text/latex": [
       "\\textbf{pdf:} 2"
      ],
      "text/markdown": [
       "**pdf:** 2"
      ],
      "text/plain": [
       "pdf \n",
       "  2 "
      ]
     },
     "metadata": {},
     "output_type": "display_data"
    }
   ],
   "source": [
    "pdf(file = paste0(plotpath,\"CDR3length_IGHG.pdf\"),\n",
    "        width = 15, \n",
    "        height = 16,\n",
    "        useDingbats = FALSE)\n",
    "grid.arrange(\n",
    "ighg1_cdr3 + theme(axis.title.x = element_blank(), axis.text.x = element_blank(),\n",
    "plot.title = element_text(size = 25)),\n",
    "ighg2_cdr3 + theme(axis.title.x = element_blank(), axis.text.x = element_blank(),\n",
    "plot.title = element_text(size = 25)),\n",
    "ighg3_cdr3 + theme(axis.title.x = element_blank(), axis.text.x = element_blank(),\n",
    "plot.title = element_text(size = 25)),\n",
    "ighg4_cdr3 + theme(axis.title.x = element_blank(),\n",
    "plot.title = element_text(size = 25)),\n",
    "    ncol = 1)\n",
    "dev.off()"
   ]
  },
  {
   "cell_type": "code",
   "execution_count": 64,
   "metadata": {},
   "outputs": [
    {
     "data": {
      "text/html": [
       "<strong>pdf:</strong> 2"
      ],
      "text/latex": [
       "\\textbf{pdf:} 2"
      ],
      "text/markdown": [
       "**pdf:** 2"
      ],
      "text/plain": [
       "pdf \n",
       "  2 "
      ]
     },
     "metadata": {},
     "output_type": "display_data"
    }
   ],
   "source": [
    "pdf(file = paste0(plotpath,\"CDR3length_IGH.pdf\"),\n",
    "        width = 15, \n",
    "        height = 4,\n",
    "        useDingbats = FALSE)\n",
    "ighm_cdr3\n",
    "igha1_cdr3\n",
    "igha2_cdr3\n",
    "ighg1_cdr3\n",
    "ighg2_cdr3\n",
    "ighg3_cdr3\n",
    "ighg4_cdr3\n",
    "dev.off()"
   ]
  }
 ],
 "metadata": {
  "kernelspec": {
   "display_name": "R 4.0",
   "language": "R",
   "name": "ir40"
  },
  "language_info": {
   "codemirror_mode": "r",
   "file_extension": ".r",
   "mimetype": "text/x-r-source",
   "name": "R",
   "pygments_lexer": "r",
   "version": "4.0.3"
  },
  "toc": {
   "base_numbering": 1,
   "nav_menu": {},
   "number_sections": false,
   "sideBar": true,
   "skip_h1_title": false,
   "title_cell": "Table of Contents",
   "title_sidebar": "Contents",
   "toc_cell": true,
   "toc_position": {
    "height": "calc(100% - 180px)",
    "left": "10px",
    "top": "150px",
    "width": "245.115px"
   },
   "toc_section_display": true,
   "toc_window_display": true
  }
 },
 "nbformat": 4,
 "nbformat_minor": 2
}
