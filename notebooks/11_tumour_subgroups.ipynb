{
 "cells": [
  {
   "cell_type": "markdown",
   "metadata": {
    "toc": true
   },
   "source": [
    "<h1>Table of Contents<span class=\"tocSkip\"></span></h1>\n",
    "<div class=\"toc\"><ul class=\"toc-item\"><li><span><a href=\"#Dependencies\" data-toc-modified-id=\"Dependencies-1\">Dependencies</a></span></li><li><span><a href=\"#Paths\" data-toc-modified-id=\"Paths-2\">Paths</a></span></li><li><span><a href=\"#Main\" data-toc-modified-id=\"Main-3\">Main</a></span></li><li><span><a href=\"#Add-tumour-subtypes\" data-toc-modified-id=\"Add-tumour-subtypes-4\">Add tumour subtypes</a></span><ul class=\"toc-item\"><li><span><a href=\"#ATRT-and-MB\" data-toc-modified-id=\"ATRT-and-MB-4.1\">ATRT and MB</a></span></li><li><span><a href=\"#GBM-subgroups\" data-toc-modified-id=\"GBM-subgroups-4.2\">GBM subgroups</a></span><ul class=\"toc-item\"><li><span><a href=\"#CBTN\" data-toc-modified-id=\"CBTN-4.2.1\">CBTN</a></span></li><li><span><a href=\"#ICGC\" data-toc-modified-id=\"ICGC-4.2.2\">ICGC</a></span></li></ul></li><li><span><a href=\"#EPN-subgroups\" data-toc-modified-id=\"EPN-subgroups-4.3\">EPN subgroups</a></span></li></ul></li><li><span><a href=\"#NBL-subgroups\" data-toc-modified-id=\"NBL-subgroups-5\">NBL subgroups</a></span></li><li><span><a href=\"#LGG-subgroups\" data-toc-modified-id=\"LGG-subgroups-6\">LGG subgroups</a></span></li></ul></div>"
   ]
  },
  {
   "cell_type": "markdown",
   "metadata": {},
   "source": [
    "# Dependencies"
   ]
  },
  {
   "cell_type": "code",
   "execution_count": 1,
   "metadata": {},
   "outputs": [],
   "source": [
    "library(maftools)"
   ]
  },
  {
   "cell_type": "markdown",
   "metadata": {},
   "source": [
    "# Paths"
   ]
  },
  {
   "cell_type": "code",
   "execution_count": 2,
   "metadata": {},
   "outputs": [],
   "source": [
    "manifestpath <- \"/Users/anabbi/OneDrive - UHN/Documents/IPD2/Manifests/\"\n",
    "datapath <- \"/Users/anabbi/OneDrive - UHN/Documents/IPD2/Data/\"\n",
    "plotpath <- \"/Users/anabbi/OneDrive - UHN/Documents/IPD2/Plots/\""
   ]
  },
  {
   "cell_type": "markdown",
   "metadata": {},
   "source": [
    "# Main"
   ]
  },
  {
   "cell_type": "code",
   "execution_count": 3,
   "metadata": {},
   "outputs": [],
   "source": [
    "load(paste0(datapath, \"ESTIMATE/estimate_manifest_primary_clean_final.RData\"))"
   ]
  },
  {
   "cell_type": "code",
   "execution_count": 4,
   "metadata": {},
   "outputs": [
    {
     "data": {
      "text/plain": [
       "\n",
       "  CBTN   ICGC TARGET   TCGA \n",
       "   581    196    149   2452 "
      ]
     },
     "metadata": {},
     "output_type": "display_data"
    }
   ],
   "source": [
    "table(estimate_manifest_primary_clean$group)"
   ]
  },
  {
   "cell_type": "code",
   "execution_count": 5,
   "metadata": {},
   "outputs": [],
   "source": [
    "metadata <- estimate_manifest_primary_clean"
   ]
  },
  {
   "cell_type": "markdown",
   "metadata": {},
   "source": [
    "# Add tumour subtypes"
   ]
  },
  {
   "cell_type": "code",
   "execution_count": 6,
   "metadata": {},
   "outputs": [],
   "source": [
    "metadata$tumour_subtype <- NA"
   ]
  },
  {
   "cell_type": "markdown",
   "metadata": {},
   "source": [
    "## ATRT and MB \n",
    "\n",
    "from ICGC or gene expression clustering"
   ]
  },
  {
   "cell_type": "code",
   "execution_count": 7,
   "metadata": {},
   "outputs": [],
   "source": [
    "metadata$tumour_subtype[ metadata$cohort == \"MB\"] <- metadata$disease_type[ metadata$cohort == \"MB\"]"
   ]
  },
  {
   "cell_type": "code",
   "execution_count": 8,
   "metadata": {},
   "outputs": [
    {
     "data": {
      "text/plain": [
       "\n",
       "MB_GR34  MB_SHH  MB_WNT \n",
       "    180      17      11 "
      ]
     },
     "metadata": {},
     "output_type": "display_data"
    }
   ],
   "source": [
    "table(metadata$tumour_subtype)"
   ]
  },
  {
   "cell_type": "code",
   "execution_count": 9,
   "metadata": {},
   "outputs": [],
   "source": [
    "# some cleanup\n",
    "metadata$tumour_subtype[metadata$tumour_subtype == \"MB_Group3\"] <- \"MB_GR34\"\n",
    "metadata$tumour_subtype[metadata$tumour_subtype == \"MB_Group4\"] <- \"MB_GR34\""
   ]
  },
  {
   "cell_type": "code",
   "execution_count": 10,
   "metadata": {},
   "outputs": [
    {
     "data": {
      "text/plain": [
       "\n",
       "MB_GR34  MB_SHH  MB_WNT \n",
       "    180      17      11 "
      ]
     },
     "metadata": {},
     "output_type": "display_data"
    }
   ],
   "source": [
    "table(metadata$tumour_subtype)"
   ]
  },
  {
   "cell_type": "code",
   "execution_count": 11,
   "metadata": {},
   "outputs": [],
   "source": [
    "metadata$tumour_subtype[ metadata$cohort == \"ATRT\"] <- metadata$disease_type[ metadata$cohort == \"ATRT\"]"
   ]
  },
  {
   "cell_type": "markdown",
   "metadata": {},
   "source": [
    "## GBM subgroups"
   ]
  },
  {
   "cell_type": "markdown",
   "metadata": {},
   "source": [
    "### CBTN"
   ]
  },
  {
   "cell_type": "markdown",
   "metadata": {},
   "source": [
    "The following is to add variantfilenames to oncokb annotated combined_maf using CBTTC_summary_mutations_MuTect2.txt (generated on cavatica)"
   ]
  },
  {
   "cell_type": "code",
   "execution_count": 12,
   "metadata": {},
   "outputs": [],
   "source": [
    "CBTN_mafsummary <- read.table(file = paste0(datapath,\"snv/CBTTC_mafsummary_overlapped_3VAF.txt\"),\n",
    "                              sep = \"\\t\", check.names = F, header = TRUE,  stringsAsFactors = FALSE)"
   ]
  },
  {
   "cell_type": "code",
   "execution_count": 13,
   "metadata": {},
   "outputs": [
    {
     "data": {
      "text/html": [
       "<table class=\"dataframe\">\n",
       "<caption>A data.frame: 6 × 10</caption>\n",
       "<thead>\n",
       "\t<tr><th></th><th scope=col>Tumor_Sample_Barcode</th><th scope=col>Frame_Shift_Del</th><th scope=col>Frame_Shift_Ins</th><th scope=col>In_Frame_Del</th><th scope=col>In_Frame_Ins</th><th scope=col>Missense_Mutation</th><th scope=col>Nonsense_Mutation</th><th scope=col>Nonstop_Mutation</th><th scope=col>total</th><th scope=col>sample_id</th></tr>\n",
       "\t<tr><th></th><th scope=col>&lt;chr&gt;</th><th scope=col>&lt;int&gt;</th><th scope=col>&lt;int&gt;</th><th scope=col>&lt;int&gt;</th><th scope=col>&lt;int&gt;</th><th scope=col>&lt;int&gt;</th><th scope=col>&lt;int&gt;</th><th scope=col>&lt;int&gt;</th><th scope=col>&lt;int&gt;</th><th scope=col>&lt;chr&gt;</th></tr>\n",
       "</thead>\n",
       "<tbody>\n",
       "\t<tr><th scope=row>1</th><td>BS_8AY2GM4G</td><td>21</td><td> 21</td><td>0</td><td>1</td><td>9555</td><td>572</td><td>5</td><td>10175</td><td>7316-2085</td></tr>\n",
       "\t<tr><th scope=row>2</th><td>BS_20TBZG09</td><td>17</td><td> 31</td><td>0</td><td>1</td><td>9213</td><td>534</td><td>5</td><td> 9801</td><td>7316-515 </td></tr>\n",
       "\t<tr><th scope=row>3</th><td>BS_02YBZSBY</td><td> 9</td><td>165</td><td>0</td><td>0</td><td>8170</td><td>470</td><td>1</td><td> 8815</td><td>7316-2189</td></tr>\n",
       "\t<tr><th scope=row>4</th><td>BS_D0T6V861</td><td> 9</td><td>154</td><td>0</td><td>0</td><td>8018</td><td>457</td><td>1</td><td> 8639</td><td>7316-2189</td></tr>\n",
       "\t<tr><th scope=row>5</th><td>BS_VW4XN9Y7</td><td> 3</td><td>111</td><td>0</td><td>1</td><td>5563</td><td>266</td><td>7</td><td> 5951</td><td>7316-2640</td></tr>\n",
       "\t<tr><th scope=row>6</th><td>BS_F0GNWEJJ</td><td>42</td><td> 14</td><td>9</td><td>0</td><td> 717</td><td> 25</td><td>0</td><td>  807</td><td>7316-3311</td></tr>\n",
       "</tbody>\n",
       "</table>\n"
      ],
      "text/latex": [
       "A data.frame: 6 × 10\n",
       "\\begin{tabular}{r|llllllllll}\n",
       "  & Tumor\\_Sample\\_Barcode & Frame\\_Shift\\_Del & Frame\\_Shift\\_Ins & In\\_Frame\\_Del & In\\_Frame\\_Ins & Missense\\_Mutation & Nonsense\\_Mutation & Nonstop\\_Mutation & total & sample\\_id\\\\\n",
       "  & <chr> & <int> & <int> & <int> & <int> & <int> & <int> & <int> & <int> & <chr>\\\\\n",
       "\\hline\n",
       "\t1 & BS\\_8AY2GM4G & 21 &  21 & 0 & 1 & 9555 & 572 & 5 & 10175 & 7316-2085\\\\\n",
       "\t2 & BS\\_20TBZG09 & 17 &  31 & 0 & 1 & 9213 & 534 & 5 &  9801 & 7316-515 \\\\\n",
       "\t3 & BS\\_02YBZSBY &  9 & 165 & 0 & 0 & 8170 & 470 & 1 &  8815 & 7316-2189\\\\\n",
       "\t4 & BS\\_D0T6V861 &  9 & 154 & 0 & 0 & 8018 & 457 & 1 &  8639 & 7316-2189\\\\\n",
       "\t5 & BS\\_VW4XN9Y7 &  3 & 111 & 0 & 1 & 5563 & 266 & 7 &  5951 & 7316-2640\\\\\n",
       "\t6 & BS\\_F0GNWEJJ & 42 &  14 & 9 & 0 &  717 &  25 & 0 &   807 & 7316-3311\\\\\n",
       "\\end{tabular}\n"
      ],
      "text/markdown": [
       "\n",
       "A data.frame: 6 × 10\n",
       "\n",
       "| <!--/--> | Tumor_Sample_Barcode &lt;chr&gt; | Frame_Shift_Del &lt;int&gt; | Frame_Shift_Ins &lt;int&gt; | In_Frame_Del &lt;int&gt; | In_Frame_Ins &lt;int&gt; | Missense_Mutation &lt;int&gt; | Nonsense_Mutation &lt;int&gt; | Nonstop_Mutation &lt;int&gt; | total &lt;int&gt; | sample_id &lt;chr&gt; |\n",
       "|---|---|---|---|---|---|---|---|---|---|---|\n",
       "| 1 | BS_8AY2GM4G | 21 |  21 | 0 | 1 | 9555 | 572 | 5 | 10175 | 7316-2085 |\n",
       "| 2 | BS_20TBZG09 | 17 |  31 | 0 | 1 | 9213 | 534 | 5 |  9801 | 7316-515  |\n",
       "| 3 | BS_02YBZSBY |  9 | 165 | 0 | 0 | 8170 | 470 | 1 |  8815 | 7316-2189 |\n",
       "| 4 | BS_D0T6V861 |  9 | 154 | 0 | 0 | 8018 | 457 | 1 |  8639 | 7316-2189 |\n",
       "| 5 | BS_VW4XN9Y7 |  3 | 111 | 0 | 1 | 5563 | 266 | 7 |  5951 | 7316-2640 |\n",
       "| 6 | BS_F0GNWEJJ | 42 |  14 | 9 | 0 |  717 |  25 | 0 |   807 | 7316-3311 |\n",
       "\n"
      ],
      "text/plain": [
       "  Tumor_Sample_Barcode Frame_Shift_Del Frame_Shift_Ins In_Frame_Del\n",
       "1 BS_8AY2GM4G          21               21             0           \n",
       "2 BS_20TBZG09          17               31             0           \n",
       "3 BS_02YBZSBY           9              165             0           \n",
       "4 BS_D0T6V861           9              154             0           \n",
       "5 BS_VW4XN9Y7           3              111             0           \n",
       "6 BS_F0GNWEJJ          42               14             9           \n",
       "  In_Frame_Ins Missense_Mutation Nonsense_Mutation Nonstop_Mutation total\n",
       "1 1            9555              572               5                10175\n",
       "2 1            9213              534               5                 9801\n",
       "3 0            8170              470               1                 8815\n",
       "4 0            8018              457               1                 8639\n",
       "5 1            5563              266               7                 5951\n",
       "6 0             717               25               0                  807\n",
       "  sample_id\n",
       "1 7316-2085\n",
       "2 7316-515 \n",
       "3 7316-2189\n",
       "4 7316-2189\n",
       "5 7316-2640\n",
       "6 7316-3311"
      ]
     },
     "metadata": {},
     "output_type": "display_data"
    }
   ],
   "source": [
    "head(CBTN_mafsummary)"
   ]
  },
  {
   "cell_type": "code",
   "execution_count": 14,
   "metadata": {},
   "outputs": [
    {
     "data": {
      "text/html": [
       "<style>\n",
       ".list-inline {list-style: none; margin:0; padding: 0}\n",
       ".list-inline>li {display: inline-block}\n",
       ".list-inline>li:not(:last-child)::after {content: \"\\00b7\"; padding: 0 .5ex}\n",
       "</style>\n",
       "<ol class=list-inline><li>796</li><li>10</li></ol>\n"
      ],
      "text/latex": [
       "\\begin{enumerate*}\n",
       "\\item 796\n",
       "\\item 10\n",
       "\\end{enumerate*}\n"
      ],
      "text/markdown": [
       "1. 796\n",
       "2. 10\n",
       "\n",
       "\n"
      ],
      "text/plain": [
       "[1] 796  10"
      ]
     },
     "metadata": {},
     "output_type": "display_data"
    }
   ],
   "source": [
    "dim(CBTN_mafsummary)"
   ]
  },
  {
   "cell_type": "code",
   "execution_count": 15,
   "metadata": {},
   "outputs": [],
   "source": [
    "mymaf_CBTN <- read.maf(maf =  paste0(datapath,\"snv/CBTTC_maf_overlapped_3VAF.maf\"),\n",
    "                       useAll = TRUE, verbose = FALSE,\n",
    "                       vc_nonSyn = c(\"Frame_Shift_Del\", \"Frame_Shift_Ins\", \"Nonsense_Mutation\",\"Nonstop_Mutation\", \n",
    "                                     \"In_Frame_Del\",\"In_Frame_Ins\", \"Missense_Mutation\"))"
   ]
  },
  {
   "cell_type": "code",
   "execution_count": 16,
   "metadata": {},
   "outputs": [
    {
     "data": {
      "text/html": [
       "<table class=\"dataframe\">\n",
       "<caption>A data.table: 12 × 4</caption>\n",
       "<thead>\n",
       "\t<tr><th scope=col>ID</th><th scope=col>summary</th><th scope=col>Mean</th><th scope=col>Median</th></tr>\n",
       "\t<tr><th scope=col>&lt;chr&gt;</th><th scope=col>&lt;chr&gt;</th><th scope=col>&lt;dbl&gt;</th><th scope=col>&lt;dbl&gt;</th></tr>\n",
       "</thead>\n",
       "<tbody>\n",
       "\t<tr><td>NCBI_Build       </td><td>GRCh38 </td><td>    NA</td><td>NA</td></tr>\n",
       "\t<tr><td>Center           </td><td>Mutect2</td><td>    NA</td><td>NA</td></tr>\n",
       "\t<tr><td>Samples          </td><td>842    </td><td>    NA</td><td>NA</td></tr>\n",
       "\t<tr><td>nGenes           </td><td>13511  </td><td>    NA</td><td>NA</td></tr>\n",
       "\t<tr><td>Frame_Shift_Del  </td><td>845    </td><td> 1.004</td><td> 0</td></tr>\n",
       "\t<tr><td>Frame_Shift_Ins  </td><td>769    </td><td> 0.913</td><td> 0</td></tr>\n",
       "\t<tr><td>In_Frame_Del     </td><td>160    </td><td> 0.190</td><td> 0</td></tr>\n",
       "\t<tr><td>In_Frame_Ins     </td><td>30     </td><td> 0.036</td><td> 0</td></tr>\n",
       "\t<tr><td>Missense_Mutation</td><td>50771  </td><td>60.298</td><td> 4</td></tr>\n",
       "\t<tr><td>Nonsense_Mutation</td><td>2840   </td><td> 3.373</td><td> 0</td></tr>\n",
       "\t<tr><td>Nonstop_Mutation </td><td>25     </td><td> 0.030</td><td> 0</td></tr>\n",
       "\t<tr><td>total            </td><td>55440  </td><td>65.843</td><td> 5</td></tr>\n",
       "</tbody>\n",
       "</table>\n"
      ],
      "text/latex": [
       "A data.table: 12 × 4\n",
       "\\begin{tabular}{llll}\n",
       " ID & summary & Mean & Median\\\\\n",
       " <chr> & <chr> & <dbl> & <dbl>\\\\\n",
       "\\hline\n",
       "\t NCBI\\_Build        & GRCh38  &     NA & NA\\\\\n",
       "\t Center            & Mutect2 &     NA & NA\\\\\n",
       "\t Samples           & 842     &     NA & NA\\\\\n",
       "\t nGenes            & 13511   &     NA & NA\\\\\n",
       "\t Frame\\_Shift\\_Del   & 845     &  1.004 &  0\\\\\n",
       "\t Frame\\_Shift\\_Ins   & 769     &  0.913 &  0\\\\\n",
       "\t In\\_Frame\\_Del      & 160     &  0.190 &  0\\\\\n",
       "\t In\\_Frame\\_Ins      & 30      &  0.036 &  0\\\\\n",
       "\t Missense\\_Mutation & 50771   & 60.298 &  4\\\\\n",
       "\t Nonsense\\_Mutation & 2840    &  3.373 &  0\\\\\n",
       "\t Nonstop\\_Mutation  & 25      &  0.030 &  0\\\\\n",
       "\t total             & 55440   & 65.843 &  5\\\\\n",
       "\\end{tabular}\n"
      ],
      "text/markdown": [
       "\n",
       "A data.table: 12 × 4\n",
       "\n",
       "| ID &lt;chr&gt; | summary &lt;chr&gt; | Mean &lt;dbl&gt; | Median &lt;dbl&gt; |\n",
       "|---|---|---|---|\n",
       "| NCBI_Build        | GRCh38  |     NA | NA |\n",
       "| Center            | Mutect2 |     NA | NA |\n",
       "| Samples           | 842     |     NA | NA |\n",
       "| nGenes            | 13511   |     NA | NA |\n",
       "| Frame_Shift_Del   | 845     |  1.004 |  0 |\n",
       "| Frame_Shift_Ins   | 769     |  0.913 |  0 |\n",
       "| In_Frame_Del      | 160     |  0.190 |  0 |\n",
       "| In_Frame_Ins      | 30      |  0.036 |  0 |\n",
       "| Missense_Mutation | 50771   | 60.298 |  4 |\n",
       "| Nonsense_Mutation | 2840    |  3.373 |  0 |\n",
       "| Nonstop_Mutation  | 25      |  0.030 |  0 |\n",
       "| total             | 55440   | 65.843 |  5 |\n",
       "\n"
      ],
      "text/plain": [
       "   ID                summary Mean   Median\n",
       "1  NCBI_Build        GRCh38      NA NA    \n",
       "2  Center            Mutect2     NA NA    \n",
       "3  Samples           842         NA NA    \n",
       "4  nGenes            13511       NA NA    \n",
       "5  Frame_Shift_Del   845      1.004  0    \n",
       "6  Frame_Shift_Ins   769      0.913  0    \n",
       "7  In_Frame_Del      160      0.190  0    \n",
       "8  In_Frame_Ins      30       0.036  0    \n",
       "9  Missense_Mutation 50771   60.298  4    \n",
       "10 Nonsense_Mutation 2840     3.373  0    \n",
       "11 Nonstop_Mutation  25       0.030  0    \n",
       "12 total             55440   65.843  5    "
      ]
     },
     "metadata": {},
     "output_type": "display_data"
    }
   ],
   "source": [
    "mymaf_CBTN@summary"
   ]
  },
  {
   "cell_type": "code",
   "execution_count": 17,
   "metadata": {},
   "outputs": [],
   "source": [
    "CBTN_data_maf <- mymaf_CBTN@data"
   ]
  },
  {
   "cell_type": "code",
   "execution_count": 18,
   "metadata": {},
   "outputs": [],
   "source": [
    "CBTN_data_maf_sampleid <- merge(CBTN_mafsummary[,c(\"sample_id\", \"Tumor_Sample_Barcode\")],\n",
    "                                CBTN_data_maf,by = \"Tumor_Sample_Barcode\")"
   ]
  },
  {
   "cell_type": "code",
   "execution_count": 19,
   "metadata": {},
   "outputs": [
    {
     "data": {
      "text/html": [
       "796"
      ],
      "text/latex": [
       "796"
      ],
      "text/markdown": [
       "796"
      ],
      "text/plain": [
       "[1] 796"
      ]
     },
     "metadata": {},
     "output_type": "display_data"
    }
   ],
   "source": [
    "length(unique(CBTN_data_maf_sampleid$Tumor_Sample_Barcode))"
   ]
  },
  {
   "cell_type": "markdown",
   "metadata": {},
   "source": [
    "Subset  snv dfs to include only samples in estimate df"
   ]
  },
  {
   "cell_type": "code",
   "execution_count": 20,
   "metadata": {},
   "outputs": [],
   "source": [
    "CBTN_data_maf_primary <- CBTN_data_maf_sampleid[CBTN_data_maf_sampleid$sample_id %in% metadata$sample_id,]"
   ]
  },
  {
   "cell_type": "code",
   "execution_count": 21,
   "metadata": {},
   "outputs": [
    {
     "data": {
      "text/html": [
       "470"
      ],
      "text/latex": [
       "470"
      ],
      "text/markdown": [
       "470"
      ],
      "text/plain": [
       "[1] 470"
      ]
     },
     "metadata": {},
     "output_type": "display_data"
    }
   ],
   "source": [
    "length(unique(CBTN_data_maf_primary$Tumor_Sample_Barcode))"
   ]
  },
  {
   "cell_type": "code",
   "execution_count": 22,
   "metadata": {},
   "outputs": [
    {
     "data": {
      "text/html": [
       "<table class=\"dataframe\">\n",
       "<caption>A data.frame: 6 × 163</caption>\n",
       "<thead>\n",
       "\t<tr><th></th><th scope=col>Tumor_Sample_Barcode</th><th scope=col>sample_id</th><th scope=col>chrpos</th><th scope=col>Hugo_Symbol</th><th scope=col>Entrez_Gene_Id</th><th scope=col>Center</th><th scope=col>NCBI_Build</th><th scope=col>Chromosome</th><th scope=col>Start_Position</th><th scope=col>End_Position</th><th scope=col>⋯</th><th scope=col>LEVEL_1</th><th scope=col>LEVEL_2A</th><th scope=col>LEVEL_2B</th><th scope=col>LEVEL_3A</th><th scope=col>LEVEL_3B</th><th scope=col>LEVEL_4</th><th scope=col>LEVEL_R1</th><th scope=col>Highest_level</th><th scope=col>citations</th><th scope=col>t_VAF</th></tr>\n",
       "\t<tr><th></th><th scope=col>&lt;chr&gt;</th><th scope=col>&lt;chr&gt;</th><th scope=col>&lt;chr&gt;</th><th scope=col>&lt;chr&gt;</th><th scope=col>&lt;int&gt;</th><th scope=col>&lt;chr&gt;</th><th scope=col>&lt;chr&gt;</th><th scope=col>&lt;chr&gt;</th><th scope=col>&lt;dbl&gt;</th><th scope=col>&lt;dbl&gt;</th><th scope=col>⋯</th><th scope=col>&lt;lgl&gt;</th><th scope=col>&lt;lgl&gt;</th><th scope=col>&lt;chr&gt;</th><th scope=col>&lt;lgl&gt;</th><th scope=col>&lt;chr&gt;</th><th scope=col>&lt;chr&gt;</th><th scope=col>&lt;lgl&gt;</th><th scope=col>&lt;chr&gt;</th><th scope=col>&lt;chr&gt;</th><th scope=col>&lt;dbl&gt;</th></tr>\n",
       "</thead>\n",
       "<tbody>\n",
       "\t<tr><th scope=row>1</th><td>BS_007JTNB8</td><td>7316-2558</td><td>chr19:10553056</td><td>ATG4D </td><td> 84971</td><td>Mutect2</td><td>GRCh38</td><td>chr19</td><td> 10553056</td><td> 10553056</td><td>⋯</td><td>NA</td><td>NA</td><td></td><td>NA</td><td></td><td></td><td>NA</td><td></td><td></td><td>0.3736264</td></tr>\n",
       "\t<tr><th scope=row>55</th><td>BS_01DQH017</td><td>7316-3299</td><td>chr1:36469717 </td><td>CSF3R </td><td>  1441</td><td>Mutect2</td><td>GRCh38</td><td>chr1 </td><td> 36469717</td><td> 36469717</td><td>⋯</td><td>NA</td><td>NA</td><td></td><td>NA</td><td></td><td></td><td>NA</td><td></td><td></td><td>0.2428571</td></tr>\n",
       "\t<tr><th scope=row>56</th><td>BS_01DQH017</td><td>7316-3299</td><td>chr19:57444698</td><td>ZNF749</td><td>388567</td><td>Mutect2</td><td>GRCh38</td><td>chr19</td><td> 57444698</td><td> 57444698</td><td>⋯</td><td>NA</td><td>NA</td><td></td><td>NA</td><td></td><td></td><td>NA</td><td></td><td></td><td>0.1355932</td></tr>\n",
       "\t<tr><th scope=row>57</th><td>BS_01DQH017</td><td>7316-3299</td><td>chr9:136723199</td><td>FAM69B</td><td>138311</td><td>Mutect2</td><td>GRCh38</td><td>chr9 </td><td>136723199</td><td>136723199</td><td>⋯</td><td>NA</td><td>NA</td><td></td><td>NA</td><td></td><td></td><td>NA</td><td></td><td></td><td>0.5517241</td></tr>\n",
       "\t<tr><th scope=row>58</th><td>BS_01DQH017</td><td>7316-3299</td><td>chr14:24409238</td><td>NYNRIN</td><td> 57523</td><td>Mutect2</td><td>GRCh38</td><td>chr14</td><td> 24409238</td><td> 24409238</td><td>⋯</td><td>NA</td><td>NA</td><td></td><td>NA</td><td></td><td></td><td>NA</td><td></td><td></td><td>0.2470588</td></tr>\n",
       "\t<tr><th scope=row>59</th><td>BS_01DQH017</td><td>7316-3299</td><td>chr4:56338715 </td><td>AASDH </td><td>132949</td><td>Mutect2</td><td>GRCh38</td><td>chr4 </td><td> 56338715</td><td> 56338715</td><td>⋯</td><td>NA</td><td>NA</td><td></td><td>NA</td><td></td><td></td><td>NA</td><td></td><td></td><td>0.2575758</td></tr>\n",
       "</tbody>\n",
       "</table>\n"
      ],
      "text/latex": [
       "A data.frame: 6 × 163\n",
       "\\begin{tabular}{r|lllllllllllllllllllll}\n",
       "  & Tumor\\_Sample\\_Barcode & sample\\_id & chrpos & Hugo\\_Symbol & Entrez\\_Gene\\_Id & Center & NCBI\\_Build & Chromosome & Start\\_Position & End\\_Position & ⋯ & LEVEL\\_1 & LEVEL\\_2A & LEVEL\\_2B & LEVEL\\_3A & LEVEL\\_3B & LEVEL\\_4 & LEVEL\\_R1 & Highest\\_level & citations & t\\_VAF\\\\\n",
       "  & <chr> & <chr> & <chr> & <chr> & <int> & <chr> & <chr> & <chr> & <dbl> & <dbl> & ⋯ & <lgl> & <lgl> & <chr> & <lgl> & <chr> & <chr> & <lgl> & <chr> & <chr> & <dbl>\\\\\n",
       "\\hline\n",
       "\t1 & BS\\_007JTNB8 & 7316-2558 & chr19:10553056 & ATG4D  &  84971 & Mutect2 & GRCh38 & chr19 &  10553056 &  10553056 & ⋯ & NA & NA &  & NA &  &  & NA &  &  & 0.3736264\\\\\n",
       "\t55 & BS\\_01DQH017 & 7316-3299 & chr1:36469717  & CSF3R  &   1441 & Mutect2 & GRCh38 & chr1  &  36469717 &  36469717 & ⋯ & NA & NA &  & NA &  &  & NA &  &  & 0.2428571\\\\\n",
       "\t56 & BS\\_01DQH017 & 7316-3299 & chr19:57444698 & ZNF749 & 388567 & Mutect2 & GRCh38 & chr19 &  57444698 &  57444698 & ⋯ & NA & NA &  & NA &  &  & NA &  &  & 0.1355932\\\\\n",
       "\t57 & BS\\_01DQH017 & 7316-3299 & chr9:136723199 & FAM69B & 138311 & Mutect2 & GRCh38 & chr9  & 136723199 & 136723199 & ⋯ & NA & NA &  & NA &  &  & NA &  &  & 0.5517241\\\\\n",
       "\t58 & BS\\_01DQH017 & 7316-3299 & chr14:24409238 & NYNRIN &  57523 & Mutect2 & GRCh38 & chr14 &  24409238 &  24409238 & ⋯ & NA & NA &  & NA &  &  & NA &  &  & 0.2470588\\\\\n",
       "\t59 & BS\\_01DQH017 & 7316-3299 & chr4:56338715  & AASDH  & 132949 & Mutect2 & GRCh38 & chr4  &  56338715 &  56338715 & ⋯ & NA & NA &  & NA &  &  & NA &  &  & 0.2575758\\\\\n",
       "\\end{tabular}\n"
      ],
      "text/markdown": [
       "\n",
       "A data.frame: 6 × 163\n",
       "\n",
       "| <!--/--> | Tumor_Sample_Barcode &lt;chr&gt; | sample_id &lt;chr&gt; | chrpos &lt;chr&gt; | Hugo_Symbol &lt;chr&gt; | Entrez_Gene_Id &lt;int&gt; | Center &lt;chr&gt; | NCBI_Build &lt;chr&gt; | Chromosome &lt;chr&gt; | Start_Position &lt;dbl&gt; | End_Position &lt;dbl&gt; | ⋯ ⋯ | LEVEL_1 &lt;lgl&gt; | LEVEL_2A &lt;lgl&gt; | LEVEL_2B &lt;chr&gt; | LEVEL_3A &lt;lgl&gt; | LEVEL_3B &lt;chr&gt; | LEVEL_4 &lt;chr&gt; | LEVEL_R1 &lt;lgl&gt; | Highest_level &lt;chr&gt; | citations &lt;chr&gt; | t_VAF &lt;dbl&gt; |\n",
       "|---|---|---|---|---|---|---|---|---|---|---|---|---|---|---|---|---|---|---|---|---|---|\n",
       "| 1 | BS_007JTNB8 | 7316-2558 | chr19:10553056 | ATG4D  |  84971 | Mutect2 | GRCh38 | chr19 |  10553056 |  10553056 | ⋯ | NA | NA | <!----> | NA | <!----> | <!----> | NA | <!----> | <!----> | 0.3736264 |\n",
       "| 55 | BS_01DQH017 | 7316-3299 | chr1:36469717  | CSF3R  |   1441 | Mutect2 | GRCh38 | chr1  |  36469717 |  36469717 | ⋯ | NA | NA | <!----> | NA | <!----> | <!----> | NA | <!----> | <!----> | 0.2428571 |\n",
       "| 56 | BS_01DQH017 | 7316-3299 | chr19:57444698 | ZNF749 | 388567 | Mutect2 | GRCh38 | chr19 |  57444698 |  57444698 | ⋯ | NA | NA | <!----> | NA | <!----> | <!----> | NA | <!----> | <!----> | 0.1355932 |\n",
       "| 57 | BS_01DQH017 | 7316-3299 | chr9:136723199 | FAM69B | 138311 | Mutect2 | GRCh38 | chr9  | 136723199 | 136723199 | ⋯ | NA | NA | <!----> | NA | <!----> | <!----> | NA | <!----> | <!----> | 0.5517241 |\n",
       "| 58 | BS_01DQH017 | 7316-3299 | chr14:24409238 | NYNRIN |  57523 | Mutect2 | GRCh38 | chr14 |  24409238 |  24409238 | ⋯ | NA | NA | <!----> | NA | <!----> | <!----> | NA | <!----> | <!----> | 0.2470588 |\n",
       "| 59 | BS_01DQH017 | 7316-3299 | chr4:56338715  | AASDH  | 132949 | Mutect2 | GRCh38 | chr4  |  56338715 |  56338715 | ⋯ | NA | NA | <!----> | NA | <!----> | <!----> | NA | <!----> | <!----> | 0.2575758 |\n",
       "\n"
      ],
      "text/plain": [
       "   Tumor_Sample_Barcode sample_id chrpos         Hugo_Symbol Entrez_Gene_Id\n",
       "1  BS_007JTNB8          7316-2558 chr19:10553056 ATG4D        84971        \n",
       "55 BS_01DQH017          7316-3299 chr1:36469717  CSF3R         1441        \n",
       "56 BS_01DQH017          7316-3299 chr19:57444698 ZNF749      388567        \n",
       "57 BS_01DQH017          7316-3299 chr9:136723199 FAM69B      138311        \n",
       "58 BS_01DQH017          7316-3299 chr14:24409238 NYNRIN       57523        \n",
       "59 BS_01DQH017          7316-3299 chr4:56338715  AASDH       132949        \n",
       "   Center  NCBI_Build Chromosome Start_Position End_Position ⋯ LEVEL_1 LEVEL_2A\n",
       "1  Mutect2 GRCh38     chr19       10553056       10553056    ⋯ NA      NA      \n",
       "55 Mutect2 GRCh38     chr1        36469717       36469717    ⋯ NA      NA      \n",
       "56 Mutect2 GRCh38     chr19       57444698       57444698    ⋯ NA      NA      \n",
       "57 Mutect2 GRCh38     chr9       136723199      136723199    ⋯ NA      NA      \n",
       "58 Mutect2 GRCh38     chr14       24409238       24409238    ⋯ NA      NA      \n",
       "59 Mutect2 GRCh38     chr4        56338715       56338715    ⋯ NA      NA      \n",
       "   LEVEL_2B LEVEL_3A LEVEL_3B LEVEL_4 LEVEL_R1 Highest_level citations\n",
       "1           NA                        NA                              \n",
       "55          NA                        NA                              \n",
       "56          NA                        NA                              \n",
       "57          NA                        NA                              \n",
       "58          NA                        NA                              \n",
       "59          NA                        NA                              \n",
       "   t_VAF    \n",
       "1  0.3736264\n",
       "55 0.2428571\n",
       "56 0.1355932\n",
       "57 0.5517241\n",
       "58 0.2470588\n",
       "59 0.2575758"
      ]
     },
     "metadata": {},
     "output_type": "display_data"
    }
   ],
   "source": [
    "head(CBTN_data_maf_primary)"
   ]
  },
  {
   "cell_type": "code",
   "execution_count": 23,
   "metadata": {},
   "outputs": [],
   "source": [
    "cbtn_h3f3a <- CBTN_data_maf_primary[which(CBTN_data_maf_primary$Hugo_Symbol == \"H3F3A\"),]\n",
    "cbtn_idh1 <- CBTN_data_maf_primary[which(CBTN_data_maf_primary$Hugo_Symbol == \"IDH1\"),]"
   ]
  },
  {
   "cell_type": "code",
   "execution_count": 24,
   "metadata": {},
   "outputs": [],
   "source": [
    "cbtn_h3f3a_k27 <- cbtn_h3f3a[which(grepl(\"K28M\", cbtn_h3f3a$HGVSp_Short)),]\n",
    "cbtn_h3f3a_g34 <- cbtn_h3f3a[which(grepl(\"G35\", cbtn_h3f3a$HGVSp_Short)),]"
   ]
  },
  {
   "cell_type": "code",
   "execution_count": 25,
   "metadata": {},
   "outputs": [],
   "source": [
    "k27_samples <- cbtn_h3f3a_k27$sample_id\n",
    "g34_samples <- cbtn_h3f3a_g34$sample_id\n",
    "idh1_samples <- cbtn_idh1$sample_id"
   ]
  },
  {
   "cell_type": "code",
   "execution_count": 26,
   "metadata": {},
   "outputs": [],
   "source": [
    "metadata$tumour_subtype[metadata$sample_id %in% idh1_samples &\n",
    "                        metadata$cohort == \"pedHGG\" & metadata$group == \"CBTN\"] <- \"HGG_IDH1\"\n",
    "metadata$tumour_subtype[metadata$sample_id %in% g34_samples &\n",
    "                        metadata$cohort == \"pedHGG\"& metadata$group == \"CBTN\"] <- \"HGG_G34\"\n",
    "metadata$tumour_subtype[metadata$sample_id %in% k27_samples &\n",
    "                        metadata$cohort == \"pedHGG\"& metadata$group == \"CBTN\"] <- \"HGG_K27M\"\n",
    "metadata$tumour_subtype[is.na(metadata$tumour_subtype) &\n",
    "                        metadata$cohort == \"pedHGG\"& metadata$group == \"CBTN\"] <- \"HGG_WT\""
   ]
  },
  {
   "cell_type": "markdown",
   "metadata": {},
   "source": [
    "### ICGC\n",
    "\n",
    "Get DKFZ tumour subtypes from clinical metadata"
   ]
  },
  {
   "cell_type": "code",
   "execution_count": 27,
   "metadata": {},
   "outputs": [],
   "source": [
    "metadata$tumour_subtype[metadata$cohort == \"pedHGG\" & metadata$group == \"ICGC\"] <- \n",
    "metadata$disease_type[metadata$cohort == \"pedHGG\" & metadata$group == \"ICGC\"]"
   ]
  },
  {
   "cell_type": "code",
   "execution_count": 28,
   "metadata": {},
   "outputs": [],
   "source": [
    "metadata$tumour_subtype[grepl(\"HGGother_IDH\", metadata$tumour_subtype)] <- \"HGG_IDH1\"\n",
    "metadata$tumour_subtype[grepl(\"HGG_K27M\", metadata$tumour_subtype)] <- \"HGG_K27M\"\n",
    "metadata$tumour_subtype[grepl(\"HGGother_G34R\", metadata$tumour_subtype)] <- \"HGG_G34\"\n",
    "metadata$tumour_subtype[grepl(\"HGGother_WT\", metadata$tumour_subtype)] <- \"HGG_WT\""
   ]
  },
  {
   "cell_type": "markdown",
   "metadata": {},
   "source": [
    "##  EPN subgroups"
   ]
  },
  {
   "cell_type": "code",
   "execution_count": 29,
   "metadata": {},
   "outputs": [],
   "source": [
    "EPNs <- metadata[metadata$cohort == \"EPN\",]"
   ]
  },
  {
   "cell_type": "code",
   "execution_count": 30,
   "metadata": {},
   "outputs": [
    {
     "data": {
      "text/plain": [
       "\n",
       "   Brain Stem- Midbrain/Tectum     Cerebellum/Posterior Fossa \n",
       "                             2                             20 \n",
       "                  Frontal Lobe                 Occipital Lobe \n",
       "                             9                              4 \n",
       "                 Parietal Lobe          Spinal Cord- Cervical \n",
       "                             5                              3 \n",
       "Spinal Cord- Lumbar/Thecal Sac                      Spine NOS \n",
       "                             5                              1 \n",
       "                 Temporal Lobe                     Ventricles \n",
       "                             2                             14 "
      ]
     },
     "metadata": {},
     "output_type": "display_data"
    }
   ],
   "source": [
    "table(EPNs$primary_site)"
   ]
  },
  {
   "cell_type": "code",
   "execution_count": 31,
   "metadata": {},
   "outputs": [],
   "source": [
    "epn_fossa <- EPNs$sample_id[grepl(\"Posterior Fossa\", EPNs$primary_site)]\n",
    "epn_spine <- EPNs$sample_id[grepl(\"Spin\", EPNs$primary_site)]\n",
    "epn_supratent <- EPNs$sample_id[grepl(\"Lobe\", EPNs$primary_site) | grepl(\"Ventricle\", EPNs$primary_site)]"
   ]
  },
  {
   "cell_type": "code",
   "execution_count": 32,
   "metadata": {},
   "outputs": [],
   "source": [
    "metadata$tumour_subtype[metadata$sample_id %in% epn_fossa & metadata$cohort == \"EPN\"] <- \"EPN_Fossa\"\n",
    "metadata$tumour_subtype[metadata$sample_id %in% epn_spine & metadata$cohort == \"EPN\"] <- \"EPN_Spine\"\n",
    "metadata$tumour_subtype[metadata$sample_id %in% epn_supratent & metadata$cohort == \"EPN\"] <- \"EPN_Supra\"\n",
    "metadata$tumour_subtype[is.na(metadata$tumour_subtype) & metadata$cohort == \"EPN\"] <- \"EPN_ND\""
   ]
  },
  {
   "cell_type": "markdown",
   "metadata": {},
   "source": [
    "# NBL subgroups"
   ]
  },
  {
   "cell_type": "markdown",
   "metadata": {},
   "source": [
    "From TARGET portal"
   ]
  },
  {
   "cell_type": "code",
   "execution_count": 33,
   "metadata": {},
   "outputs": [],
   "source": [
    "NBLs <- metadata[metadata$cohort == \"NBL\",]"
   ]
  },
  {
   "cell_type": "code",
   "execution_count": 34,
   "metadata": {},
   "outputs": [],
   "source": [
    "NBL_manifest <- read.table(paste0(manifestpath, \"TARGET_NBL_Discovery_ClinicalData_20170525.txt\"),\n",
    "                          sep = \"\\t\", na.strings = \"\", header = TRUE)"
   ]
  },
  {
   "cell_type": "code",
   "execution_count": 35,
   "metadata": {},
   "outputs": [],
   "source": [
    "colnames(NBL_manifest)[colnames(NBL_manifest) == \"TARGET.USI\"] <- \"case_id\""
   ]
  },
  {
   "cell_type": "code",
   "execution_count": 36,
   "metadata": {},
   "outputs": [],
   "source": [
    "NBL_manifest_subset <- NBL_manifest[NBL_manifest$case_id %in% NBLs$case_id,]"
   ]
  },
  {
   "cell_type": "code",
   "execution_count": 37,
   "metadata": {},
   "outputs": [
    {
     "data": {
      "text/html": [
       "<style>\n",
       ".list-inline {list-style: none; margin:0; padding: 0}\n",
       ".list-inline>li {display: inline-block}\n",
       ".list-inline>li:not(:last-child)::after {content: \"\\00b7\"; padding: 0 .5ex}\n",
       "</style>\n",
       "<ol class=list-inline><li>149</li><li>32</li></ol>\n"
      ],
      "text/latex": [
       "\\begin{enumerate*}\n",
       "\\item 149\n",
       "\\item 32\n",
       "\\end{enumerate*}\n"
      ],
      "text/markdown": [
       "1. 149\n",
       "2. 32\n",
       "\n",
       "\n"
      ],
      "text/plain": [
       "[1] 149  32"
      ]
     },
     "metadata": {},
     "output_type": "display_data"
    }
   ],
   "source": [
    "dim(NBL_manifest_subset)"
   ]
  },
  {
   "cell_type": "code",
   "execution_count": 38,
   "metadata": {},
   "outputs": [],
   "source": [
    "NBLs_MYCstatus <- merge(NBLs, NBL_manifest_subset[, c(\"case_id\", \"MYCN.status\")], by = \"case_id\")"
   ]
  },
  {
   "cell_type": "code",
   "execution_count": 39,
   "metadata": {},
   "outputs": [
    {
     "data": {
      "text/html": [
       "<style>\n",
       ".list-inline {list-style: none; margin:0; padding: 0}\n",
       ".list-inline>li {display: inline-block}\n",
       ".list-inline>li:not(:last-child)::after {content: \"\\00b7\"; padding: 0 .5ex}\n",
       "</style>\n",
       "<ol class=list-inline><li>149</li><li>24</li></ol>\n"
      ],
      "text/latex": [
       "\\begin{enumerate*}\n",
       "\\item 149\n",
       "\\item 24\n",
       "\\end{enumerate*}\n"
      ],
      "text/markdown": [
       "1. 149\n",
       "2. 24\n",
       "\n",
       "\n"
      ],
      "text/plain": [
       "[1] 149  24"
      ]
     },
     "metadata": {},
     "output_type": "display_data"
    }
   ],
   "source": [
    "dim(NBLs_MYCstatus)"
   ]
  },
  {
   "cell_type": "code",
   "execution_count": 40,
   "metadata": {},
   "outputs": [
    {
     "data": {
      "text/plain": [
       "\n",
       "    Amplified Not Amplified       Unknown \n",
       "           31           117             1 "
      ]
     },
     "metadata": {},
     "output_type": "display_data"
    }
   ],
   "source": [
    "table(NBLs_MYCstatus$MYCN.status)"
   ]
  },
  {
   "cell_type": "code",
   "execution_count": 41,
   "metadata": {},
   "outputs": [
    {
     "data": {
      "text/html": [
       "<table class=\"dataframe\">\n",
       "<caption>A data.frame: 6 × 24</caption>\n",
       "<thead>\n",
       "\t<tr><th></th><th scope=col>case_id</th><th scope=col>aliquot_id</th><th scope=col>StromalScore</th><th scope=col>ImmuneScore</th><th scope=col>ESTIMATEScore</th><th scope=col>name</th><th scope=col>sample_id</th><th scope=col>gender</th><th scope=col>ethnicity</th><th scope=col>race</th><th scope=col>⋯</th><th scope=col>recurrence</th><th scope=col>disease_type</th><th scope=col>primary_site</th><th scope=col>group</th><th scope=col>cohort</th><th scope=col>sample_type</th><th scope=col>age_class</th><th scope=col>tumour_subtype</th><th scope=col>CRI_cluster</th><th scope=col>MYCN.status</th></tr>\n",
       "\t<tr><th></th><th scope=col>&lt;chr&gt;</th><th scope=col>&lt;chr&gt;</th><th scope=col>&lt;dbl&gt;</th><th scope=col>&lt;dbl&gt;</th><th scope=col>&lt;dbl&gt;</th><th scope=col>&lt;chr&gt;</th><th scope=col>&lt;chr&gt;</th><th scope=col>&lt;chr&gt;</th><th scope=col>&lt;chr&gt;</th><th scope=col>&lt;chr&gt;</th><th scope=col>⋯</th><th scope=col>&lt;chr&gt;</th><th scope=col>&lt;chr&gt;</th><th scope=col>&lt;chr&gt;</th><th scope=col>&lt;chr&gt;</th><th scope=col>&lt;chr&gt;</th><th scope=col>&lt;chr&gt;</th><th scope=col>&lt;chr&gt;</th><th scope=col>&lt;chr&gt;</th><th scope=col>&lt;int&gt;</th><th scope=col>&lt;chr&gt;</th></tr>\n",
       "</thead>\n",
       "<tbody>\n",
       "\t<tr><th scope=row>1</th><td>TARGET-30-PAIFXV</td><td>TARGET-30-PAIFXV-01A-01R</td><td>-537.97880</td><td> 483.8556</td><td>  -54.1232</td><td>af82838c-9071-4dd7-8766-b818cf61cf82.bam</td><td>TARGET-30-PAIFXV-01A</td><td>Female</td><td>Unknown               </td><td>White  </td><td>⋯</td><td>1</td><td>MB_GR34</td><td>Abdomen        </td><td>TARGET</td><td>NBL</td><td>Primary Tumor</td><td>Children</td><td>NA</td><td>NA</td><td>Not Amplified</td></tr>\n",
       "\t<tr><th scope=row>2</th><td>TARGET-30-PAIPGU</td><td>TARGET-30-PAIPGU-01A-01R</td><td>-319.22630</td><td>1240.6492</td><td>  921.4229</td><td>b1d954e7-21a0-441e-a9c7-47e6a6454625.bam</td><td>TARGET-30-PAIPGU-01A</td><td>Female</td><td>Unknown               </td><td>White  </td><td>⋯</td><td>0</td><td>MB_GR34</td><td>Adrenal gland  </td><td>TARGET</td><td>NBL</td><td>Primary Tumor</td><td>NA      </td><td>NA</td><td> 1</td><td>Not Amplified</td></tr>\n",
       "\t<tr><th scope=row>3</th><td>TARGET-30-PAISNS</td><td>TARGET-30-PAISNS-01A-01R</td><td>-899.30090</td><td>-128.2337</td><td>-1027.5347</td><td>7e145f1d-1807-4615-95b5-2684ccbcb348.bam</td><td>TARGET-30-PAISNS-01A</td><td>Male  </td><td>Unknown               </td><td>White  </td><td>⋯</td><td>0</td><td>MB_GR34</td><td>Abdomen        </td><td>TARGET</td><td>NBL</td><td>Primary Tumor</td><td>NA      </td><td>NA</td><td> 1</td><td>Not Amplified</td></tr>\n",
       "\t<tr><th scope=row>4</th><td>TARGET-30-PAITCI</td><td>TARGET-30-PAITCI-01A-01R</td><td>-327.26820</td><td> 200.6735</td><td> -126.5947</td><td>9704403e-aaf9-4a97-99bc-b2a9a9861767.bam</td><td>TARGET-30-PAITCI-01A</td><td>Male  </td><td>Unknown               </td><td>White  </td><td>⋯</td><td>1</td><td>MB_GR34</td><td>Adrenal gland  </td><td>TARGET</td><td>NBL</td><td>Primary Tumor</td><td>Infants </td><td>NA</td><td> 1</td><td>Not Amplified</td></tr>\n",
       "\t<tr><th scope=row>5</th><td>TARGET-30-PAIVHE</td><td>TARGET-30-PAIVHE-01A-01R</td><td> -15.87499</td><td>1033.6469</td><td> 1017.7719</td><td>d8d30bd7-608d-4cbd-ba31-3f1fa6fefacf.bam</td><td>TARGET-30-PAIVHE-01A</td><td>Male  </td><td>not hispanic or latino</td><td>White  </td><td>⋯</td><td>1</td><td>MB_GR34</td><td>Adrenal gland  </td><td>TARGET</td><td>NBL</td><td>Primary Tumor</td><td>Children</td><td>NA</td><td> 2</td><td>Not Amplified</td></tr>\n",
       "\t<tr><th scope=row>6</th><td>TARGET-30-PAIXIF</td><td>TARGET-30-PAIXIF-01A-01R</td><td> 460.15050</td><td> 978.1672</td><td> 1438.3177</td><td>7c2b0108-1231-4543-a8bf-eb6644e76f41.bam</td><td>TARGET-30-PAIXIF-01A</td><td>Male  </td><td>Unknown               </td><td>Unknown</td><td>⋯</td><td>1</td><td>MB_GR34</td><td>Retroperitoneum</td><td>TARGET</td><td>NBL</td><td>Primary Tumor</td><td>Children</td><td>NA</td><td>NA</td><td>Not Amplified</td></tr>\n",
       "</tbody>\n",
       "</table>\n"
      ],
      "text/latex": [
       "A data.frame: 6 × 24\n",
       "\\begin{tabular}{r|lllllllllllllllllllll}\n",
       "  & case\\_id & aliquot\\_id & StromalScore & ImmuneScore & ESTIMATEScore & name & sample\\_id & gender & ethnicity & race & ⋯ & recurrence & disease\\_type & primary\\_site & group & cohort & sample\\_type & age\\_class & tumour\\_subtype & CRI\\_cluster & MYCN.status\\\\\n",
       "  & <chr> & <chr> & <dbl> & <dbl> & <dbl> & <chr> & <chr> & <chr> & <chr> & <chr> & ⋯ & <chr> & <chr> & <chr> & <chr> & <chr> & <chr> & <chr> & <chr> & <int> & <chr>\\\\\n",
       "\\hline\n",
       "\t1 & TARGET-30-PAIFXV & TARGET-30-PAIFXV-01A-01R & -537.97880 &  483.8556 &   -54.1232 & af82838c-9071-4dd7-8766-b818cf61cf82.bam & TARGET-30-PAIFXV-01A & Female & Unknown                & White   & ⋯ & 1 & MB\\_GR34 & Abdomen         & TARGET & NBL & Primary Tumor & Children & NA & NA & Not Amplified\\\\\n",
       "\t2 & TARGET-30-PAIPGU & TARGET-30-PAIPGU-01A-01R & -319.22630 & 1240.6492 &   921.4229 & b1d954e7-21a0-441e-a9c7-47e6a6454625.bam & TARGET-30-PAIPGU-01A & Female & Unknown                & White   & ⋯ & 0 & MB\\_GR34 & Adrenal gland   & TARGET & NBL & Primary Tumor & NA       & NA &  1 & Not Amplified\\\\\n",
       "\t3 & TARGET-30-PAISNS & TARGET-30-PAISNS-01A-01R & -899.30090 & -128.2337 & -1027.5347 & 7e145f1d-1807-4615-95b5-2684ccbcb348.bam & TARGET-30-PAISNS-01A & Male   & Unknown                & White   & ⋯ & 0 & MB\\_GR34 & Abdomen         & TARGET & NBL & Primary Tumor & NA       & NA &  1 & Not Amplified\\\\\n",
       "\t4 & TARGET-30-PAITCI & TARGET-30-PAITCI-01A-01R & -327.26820 &  200.6735 &  -126.5947 & 9704403e-aaf9-4a97-99bc-b2a9a9861767.bam & TARGET-30-PAITCI-01A & Male   & Unknown                & White   & ⋯ & 1 & MB\\_GR34 & Adrenal gland   & TARGET & NBL & Primary Tumor & Infants  & NA &  1 & Not Amplified\\\\\n",
       "\t5 & TARGET-30-PAIVHE & TARGET-30-PAIVHE-01A-01R &  -15.87499 & 1033.6469 &  1017.7719 & d8d30bd7-608d-4cbd-ba31-3f1fa6fefacf.bam & TARGET-30-PAIVHE-01A & Male   & not hispanic or latino & White   & ⋯ & 1 & MB\\_GR34 & Adrenal gland   & TARGET & NBL & Primary Tumor & Children & NA &  2 & Not Amplified\\\\\n",
       "\t6 & TARGET-30-PAIXIF & TARGET-30-PAIXIF-01A-01R &  460.15050 &  978.1672 &  1438.3177 & 7c2b0108-1231-4543-a8bf-eb6644e76f41.bam & TARGET-30-PAIXIF-01A & Male   & Unknown                & Unknown & ⋯ & 1 & MB\\_GR34 & Retroperitoneum & TARGET & NBL & Primary Tumor & Children & NA & NA & Not Amplified\\\\\n",
       "\\end{tabular}\n"
      ],
      "text/markdown": [
       "\n",
       "A data.frame: 6 × 24\n",
       "\n",
       "| <!--/--> | case_id &lt;chr&gt; | aliquot_id &lt;chr&gt; | StromalScore &lt;dbl&gt; | ImmuneScore &lt;dbl&gt; | ESTIMATEScore &lt;dbl&gt; | name &lt;chr&gt; | sample_id &lt;chr&gt; | gender &lt;chr&gt; | ethnicity &lt;chr&gt; | race &lt;chr&gt; | ⋯ ⋯ | recurrence &lt;chr&gt; | disease_type &lt;chr&gt; | primary_site &lt;chr&gt; | group &lt;chr&gt; | cohort &lt;chr&gt; | sample_type &lt;chr&gt; | age_class &lt;chr&gt; | tumour_subtype &lt;chr&gt; | CRI_cluster &lt;int&gt; | MYCN.status &lt;chr&gt; |\n",
       "|---|---|---|---|---|---|---|---|---|---|---|---|---|---|---|---|---|---|---|---|---|---|\n",
       "| 1 | TARGET-30-PAIFXV | TARGET-30-PAIFXV-01A-01R | -537.97880 |  483.8556 |   -54.1232 | af82838c-9071-4dd7-8766-b818cf61cf82.bam | TARGET-30-PAIFXV-01A | Female | Unknown                | White   | ⋯ | 1 | MB_GR34 | Abdomen         | TARGET | NBL | Primary Tumor | Children | NA | NA | Not Amplified |\n",
       "| 2 | TARGET-30-PAIPGU | TARGET-30-PAIPGU-01A-01R | -319.22630 | 1240.6492 |   921.4229 | b1d954e7-21a0-441e-a9c7-47e6a6454625.bam | TARGET-30-PAIPGU-01A | Female | Unknown                | White   | ⋯ | 0 | MB_GR34 | Adrenal gland   | TARGET | NBL | Primary Tumor | NA       | NA |  1 | Not Amplified |\n",
       "| 3 | TARGET-30-PAISNS | TARGET-30-PAISNS-01A-01R | -899.30090 | -128.2337 | -1027.5347 | 7e145f1d-1807-4615-95b5-2684ccbcb348.bam | TARGET-30-PAISNS-01A | Male   | Unknown                | White   | ⋯ | 0 | MB_GR34 | Abdomen         | TARGET | NBL | Primary Tumor | NA       | NA |  1 | Not Amplified |\n",
       "| 4 | TARGET-30-PAITCI | TARGET-30-PAITCI-01A-01R | -327.26820 |  200.6735 |  -126.5947 | 9704403e-aaf9-4a97-99bc-b2a9a9861767.bam | TARGET-30-PAITCI-01A | Male   | Unknown                | White   | ⋯ | 1 | MB_GR34 | Adrenal gland   | TARGET | NBL | Primary Tumor | Infants  | NA |  1 | Not Amplified |\n",
       "| 5 | TARGET-30-PAIVHE | TARGET-30-PAIVHE-01A-01R |  -15.87499 | 1033.6469 |  1017.7719 | d8d30bd7-608d-4cbd-ba31-3f1fa6fefacf.bam | TARGET-30-PAIVHE-01A | Male   | not hispanic or latino | White   | ⋯ | 1 | MB_GR34 | Adrenal gland   | TARGET | NBL | Primary Tumor | Children | NA |  2 | Not Amplified |\n",
       "| 6 | TARGET-30-PAIXIF | TARGET-30-PAIXIF-01A-01R |  460.15050 |  978.1672 |  1438.3177 | 7c2b0108-1231-4543-a8bf-eb6644e76f41.bam | TARGET-30-PAIXIF-01A | Male   | Unknown                | Unknown | ⋯ | 1 | MB_GR34 | Retroperitoneum | TARGET | NBL | Primary Tumor | Children | NA | NA | Not Amplified |\n",
       "\n"
      ],
      "text/plain": [
       "  case_id          aliquot_id               StromalScore ImmuneScore\n",
       "1 TARGET-30-PAIFXV TARGET-30-PAIFXV-01A-01R -537.97880    483.8556  \n",
       "2 TARGET-30-PAIPGU TARGET-30-PAIPGU-01A-01R -319.22630   1240.6492  \n",
       "3 TARGET-30-PAISNS TARGET-30-PAISNS-01A-01R -899.30090   -128.2337  \n",
       "4 TARGET-30-PAITCI TARGET-30-PAITCI-01A-01R -327.26820    200.6735  \n",
       "5 TARGET-30-PAIVHE TARGET-30-PAIVHE-01A-01R  -15.87499   1033.6469  \n",
       "6 TARGET-30-PAIXIF TARGET-30-PAIXIF-01A-01R  460.15050    978.1672  \n",
       "  ESTIMATEScore name                                     sample_id           \n",
       "1   -54.1232    af82838c-9071-4dd7-8766-b818cf61cf82.bam TARGET-30-PAIFXV-01A\n",
       "2   921.4229    b1d954e7-21a0-441e-a9c7-47e6a6454625.bam TARGET-30-PAIPGU-01A\n",
       "3 -1027.5347    7e145f1d-1807-4615-95b5-2684ccbcb348.bam TARGET-30-PAISNS-01A\n",
       "4  -126.5947    9704403e-aaf9-4a97-99bc-b2a9a9861767.bam TARGET-30-PAITCI-01A\n",
       "5  1017.7719    d8d30bd7-608d-4cbd-ba31-3f1fa6fefacf.bam TARGET-30-PAIVHE-01A\n",
       "6  1438.3177    7c2b0108-1231-4543-a8bf-eb6644e76f41.bam TARGET-30-PAIXIF-01A\n",
       "  gender ethnicity              race    ⋯ recurrence disease_type\n",
       "1 Female Unknown                White   ⋯ 1          MB_GR34     \n",
       "2 Female Unknown                White   ⋯ 0          MB_GR34     \n",
       "3 Male   Unknown                White   ⋯ 0          MB_GR34     \n",
       "4 Male   Unknown                White   ⋯ 1          MB_GR34     \n",
       "5 Male   not hispanic or latino White   ⋯ 1          MB_GR34     \n",
       "6 Male   Unknown                Unknown ⋯ 1          MB_GR34     \n",
       "  primary_site    group  cohort sample_type   age_class tumour_subtype\n",
       "1 Abdomen         TARGET NBL    Primary Tumor Children  NA            \n",
       "2 Adrenal gland   TARGET NBL    Primary Tumor NA        NA            \n",
       "3 Abdomen         TARGET NBL    Primary Tumor NA        NA            \n",
       "4 Adrenal gland   TARGET NBL    Primary Tumor Infants   NA            \n",
       "5 Adrenal gland   TARGET NBL    Primary Tumor Children  NA            \n",
       "6 Retroperitoneum TARGET NBL    Primary Tumor Children  NA            \n",
       "  CRI_cluster MYCN.status  \n",
       "1 NA          Not Amplified\n",
       "2  1          Not Amplified\n",
       "3  1          Not Amplified\n",
       "4  1          Not Amplified\n",
       "5  2          Not Amplified\n",
       "6 NA          Not Amplified"
      ]
     },
     "metadata": {},
     "output_type": "display_data"
    }
   ],
   "source": [
    "head(NBLs_MYCstatus)"
   ]
  },
  {
   "cell_type": "code",
   "execution_count": 42,
   "metadata": {},
   "outputs": [],
   "source": [
    "nbl_myca <- NBLs_MYCstatus$case_id[NBLs_MYCstatus$MYCN.status == \"Amplified\"]\n",
    "nbl_mycna <- NBLs_MYCstatus$case_id[NBLs_MYCstatus$MYCN.status == \"Not Amplified\"]"
   ]
  },
  {
   "cell_type": "code",
   "execution_count": 43,
   "metadata": {},
   "outputs": [],
   "source": [
    "metadata$tumour_subtype[metadata$case_id %in% nbl_myca & metadata$cohort == \"NBL\"] <- \"NBL_MYCA\"\n",
    "metadata$tumour_subtype[metadata$case_id %in% nbl_mycna & metadata$cohort == \"NBL\"] <- \"NBL_MYCNA\"\n",
    "metadata$tumour_subtype[is.na(metadata$tumour_subtype)& metadata$cohort == \"NBL\"] <- \"NBL_ND\""
   ]
  },
  {
   "cell_type": "code",
   "execution_count": 44,
   "metadata": {},
   "outputs": [
    {
     "data": {
      "text/plain": [
       "\n",
       " NBL_MYCA NBL_MYCNA    NBL_ND \n",
       "       31       117         3 "
      ]
     },
     "metadata": {},
     "output_type": "display_data"
    }
   ],
   "source": [
    "table(metadata$tumour_subtype[which(metadata$cohort == \"NBL\")])"
   ]
  },
  {
   "cell_type": "markdown",
   "metadata": {},
   "source": [
    "# LGG subgroups"
   ]
  },
  {
   "cell_type": "markdown",
   "metadata": {},
   "source": [
    "Add BRAF status"
   ]
  },
  {
   "cell_type": "code",
   "execution_count": 45,
   "metadata": {},
   "outputs": [],
   "source": [
    "load(file = paste0(datapath, \"fusion/arriba_df.RData\"))"
   ]
  },
  {
   "cell_type": "markdown",
   "metadata": {},
   "source": [
    "remove low confidence"
   ]
  },
  {
   "cell_type": "code",
   "execution_count": 46,
   "metadata": {},
   "outputs": [],
   "source": [
    "arriba_df_conf <- arriba_df[arriba_df$confidence != \"low\",]"
   ]
  },
  {
   "cell_type": "code",
   "execution_count": 47,
   "metadata": {},
   "outputs": [],
   "source": [
    "braf_fusion_samples <- arriba_df_conf$sample_id[grepl(\"BRAF\", arriba_df_conf$gene2) & grepl(\"KIAA1549\", arriba_df_conf$gene1)]"
   ]
  },
  {
   "cell_type": "code",
   "execution_count": 48,
   "metadata": {},
   "outputs": [],
   "source": [
    "cbtn_braf <- CBTN_data_maf_primary[which(CBTN_data_maf_primary$Hugo_Symbol == \"BRAF\"),]\n",
    "cbtn_braf_v600e_samples <- cbtn_braf$sample_id[which(grepl(\"V600E\", cbtn_braf$HGVSp_Short))]"
   ]
  },
  {
   "cell_type": "code",
   "execution_count": 49,
   "metadata": {},
   "outputs": [],
   "source": [
    "ICGC_maf <- read.table(file = paste0(datapath, \"snv/dkfz_mafKB.maf\"),\n",
    "                        sep = \"\\t\", check.names = F, header = TRUE, comment.char = \"\",stringsAsFactors = FALSE)"
   ]
  },
  {
   "cell_type": "code",
   "execution_count": 50,
   "metadata": {},
   "outputs": [],
   "source": [
    "ICGC_maf_nsyn <- ICGC_maf[!ICGC_maf$variant_classification %in% c(\"splicing\", \"unknown\", \"synonymous SNV\"),]"
   ]
  },
  {
   "cell_type": "code",
   "execution_count": 51,
   "metadata": {},
   "outputs": [],
   "source": [
    "colnames(ICGC_maf_nsyn)[colnames(ICGC_maf_nsyn) == \"Tumor_Sample_Barcode\"] <- \"sample_id\""
   ]
  },
  {
   "cell_type": "code",
   "execution_count": 52,
   "metadata": {},
   "outputs": [
    {
     "data": {
      "text/html": [
       "<table class=\"dataframe\">\n",
       "<caption>A data.frame: 6 × 17</caption>\n",
       "<thead>\n",
       "\t<tr><th></th><th scope=col>sample_id</th><th scope=col>Hugo_Symbol</th><th scope=col>HGVSp_Short</th><th scope=col>variant_classification</th><th scope=col>mutation_effect</th><th scope=col>oncogenic</th><th scope=col>LEVEL_1</th><th scope=col>LEVEL_2A</th><th scope=col>LEVEL_2B</th><th scope=col>LEVEL_3A</th><th scope=col>LEVEL_3B</th><th scope=col>LEVEL_4</th><th scope=col>LEVEL_R1</th><th scope=col>LEVEL_R2</th><th scope=col>LEVEL_R3</th><th scope=col>Highest_level</th><th scope=col>citations</th></tr>\n",
       "\t<tr><th></th><th scope=col>&lt;chr&gt;</th><th scope=col>&lt;chr&gt;</th><th scope=col>&lt;chr&gt;</th><th scope=col>&lt;chr&gt;</th><th scope=col>&lt;chr&gt;</th><th scope=col>&lt;chr&gt;</th><th scope=col>&lt;lgl&gt;</th><th scope=col>&lt;lgl&gt;</th><th scope=col>&lt;chr&gt;</th><th scope=col>&lt;lgl&gt;</th><th scope=col>&lt;chr&gt;</th><th scope=col>&lt;chr&gt;</th><th scope=col>&lt;lgl&gt;</th><th scope=col>&lt;lgl&gt;</th><th scope=col>&lt;lgl&gt;</th><th scope=col>&lt;chr&gt;</th><th scope=col>&lt;chr&gt;</th></tr>\n",
       "</thead>\n",
       "<tbody>\n",
       "\t<tr><th scope=row>1</th><td>H049-UV6K</td><td>PABPC1</td><td>p.E300X</td><td>stopgain SNV     </td><td></td><td></td><td>NA</td><td>NA</td><td></td><td>NA</td><td></td><td></td><td>NA</td><td>NA</td><td>NA</td><td></td><td></td></tr>\n",
       "\t<tr><th scope=row>2</th><td>H049-UV6K</td><td>PABPC1</td><td>p.E345X</td><td>stopgain SNV     </td><td></td><td></td><td>NA</td><td>NA</td><td></td><td>NA</td><td></td><td></td><td>NA</td><td>NA</td><td>NA</td><td></td><td></td></tr>\n",
       "\t<tr><th scope=row>3</th><td>H049-UV6K</td><td>PABPC1</td><td>p.E313X</td><td>stopgain SNV     </td><td></td><td></td><td>NA</td><td>NA</td><td></td><td>NA</td><td></td><td></td><td>NA</td><td>NA</td><td>NA</td><td></td><td></td></tr>\n",
       "\t<tr><th scope=row>4</th><td>H049-UV6K</td><td>SPTBN2</td><td>p.G862E</td><td>nonsynonymous SNV</td><td></td><td></td><td>NA</td><td>NA</td><td></td><td>NA</td><td></td><td></td><td>NA</td><td>NA</td><td>NA</td><td></td><td></td></tr>\n",
       "\t<tr><th scope=row>5</th><td>H049-UV6K</td><td>SPTBN2</td><td>p.G862E</td><td>nonsynonymous SNV</td><td></td><td></td><td>NA</td><td>NA</td><td></td><td>NA</td><td></td><td></td><td>NA</td><td>NA</td><td>NA</td><td></td><td></td></tr>\n",
       "\t<tr><th scope=row>6</th><td>H049-UV6K</td><td>SPTBN2</td><td>p.G862E</td><td>nonsynonymous SNV</td><td></td><td></td><td>NA</td><td>NA</td><td></td><td>NA</td><td></td><td></td><td>NA</td><td>NA</td><td>NA</td><td></td><td></td></tr>\n",
       "</tbody>\n",
       "</table>\n"
      ],
      "text/latex": [
       "A data.frame: 6 × 17\n",
       "\\begin{tabular}{r|lllllllllllllllll}\n",
       "  & sample\\_id & Hugo\\_Symbol & HGVSp\\_Short & variant\\_classification & mutation\\_effect & oncogenic & LEVEL\\_1 & LEVEL\\_2A & LEVEL\\_2B & LEVEL\\_3A & LEVEL\\_3B & LEVEL\\_4 & LEVEL\\_R1 & LEVEL\\_R2 & LEVEL\\_R3 & Highest\\_level & citations\\\\\n",
       "  & <chr> & <chr> & <chr> & <chr> & <chr> & <chr> & <lgl> & <lgl> & <chr> & <lgl> & <chr> & <chr> & <lgl> & <lgl> & <lgl> & <chr> & <chr>\\\\\n",
       "\\hline\n",
       "\t1 & H049-UV6K & PABPC1 & p.E300X & stopgain SNV      &  &  & NA & NA &  & NA &  &  & NA & NA & NA &  & \\\\\n",
       "\t2 & H049-UV6K & PABPC1 & p.E345X & stopgain SNV      &  &  & NA & NA &  & NA &  &  & NA & NA & NA &  & \\\\\n",
       "\t3 & H049-UV6K & PABPC1 & p.E313X & stopgain SNV      &  &  & NA & NA &  & NA &  &  & NA & NA & NA &  & \\\\\n",
       "\t4 & H049-UV6K & SPTBN2 & p.G862E & nonsynonymous SNV &  &  & NA & NA &  & NA &  &  & NA & NA & NA &  & \\\\\n",
       "\t5 & H049-UV6K & SPTBN2 & p.G862E & nonsynonymous SNV &  &  & NA & NA &  & NA &  &  & NA & NA & NA &  & \\\\\n",
       "\t6 & H049-UV6K & SPTBN2 & p.G862E & nonsynonymous SNV &  &  & NA & NA &  & NA &  &  & NA & NA & NA &  & \\\\\n",
       "\\end{tabular}\n"
      ],
      "text/markdown": [
       "\n",
       "A data.frame: 6 × 17\n",
       "\n",
       "| <!--/--> | sample_id &lt;chr&gt; | Hugo_Symbol &lt;chr&gt; | HGVSp_Short &lt;chr&gt; | variant_classification &lt;chr&gt; | mutation_effect &lt;chr&gt; | oncogenic &lt;chr&gt; | LEVEL_1 &lt;lgl&gt; | LEVEL_2A &lt;lgl&gt; | LEVEL_2B &lt;chr&gt; | LEVEL_3A &lt;lgl&gt; | LEVEL_3B &lt;chr&gt; | LEVEL_4 &lt;chr&gt; | LEVEL_R1 &lt;lgl&gt; | LEVEL_R2 &lt;lgl&gt; | LEVEL_R3 &lt;lgl&gt; | Highest_level &lt;chr&gt; | citations &lt;chr&gt; |\n",
       "|---|---|---|---|---|---|---|---|---|---|---|---|---|---|---|---|---|---|\n",
       "| 1 | H049-UV6K | PABPC1 | p.E300X | stopgain SNV      | <!----> | <!----> | NA | NA | <!----> | NA | <!----> | <!----> | NA | NA | NA | <!----> | <!----> |\n",
       "| 2 | H049-UV6K | PABPC1 | p.E345X | stopgain SNV      | <!----> | <!----> | NA | NA | <!----> | NA | <!----> | <!----> | NA | NA | NA | <!----> | <!----> |\n",
       "| 3 | H049-UV6K | PABPC1 | p.E313X | stopgain SNV      | <!----> | <!----> | NA | NA | <!----> | NA | <!----> | <!----> | NA | NA | NA | <!----> | <!----> |\n",
       "| 4 | H049-UV6K | SPTBN2 | p.G862E | nonsynonymous SNV | <!----> | <!----> | NA | NA | <!----> | NA | <!----> | <!----> | NA | NA | NA | <!----> | <!----> |\n",
       "| 5 | H049-UV6K | SPTBN2 | p.G862E | nonsynonymous SNV | <!----> | <!----> | NA | NA | <!----> | NA | <!----> | <!----> | NA | NA | NA | <!----> | <!----> |\n",
       "| 6 | H049-UV6K | SPTBN2 | p.G862E | nonsynonymous SNV | <!----> | <!----> | NA | NA | <!----> | NA | <!----> | <!----> | NA | NA | NA | <!----> | <!----> |\n",
       "\n"
      ],
      "text/plain": [
       "  sample_id Hugo_Symbol HGVSp_Short variant_classification mutation_effect\n",
       "1 H049-UV6K PABPC1      p.E300X     stopgain SNV                          \n",
       "2 H049-UV6K PABPC1      p.E345X     stopgain SNV                          \n",
       "3 H049-UV6K PABPC1      p.E313X     stopgain SNV                          \n",
       "4 H049-UV6K SPTBN2      p.G862E     nonsynonymous SNV                     \n",
       "5 H049-UV6K SPTBN2      p.G862E     nonsynonymous SNV                     \n",
       "6 H049-UV6K SPTBN2      p.G862E     nonsynonymous SNV                     \n",
       "  oncogenic LEVEL_1 LEVEL_2A LEVEL_2B LEVEL_3A LEVEL_3B LEVEL_4 LEVEL_R1\n",
       "1           NA      NA                NA                        NA      \n",
       "2           NA      NA                NA                        NA      \n",
       "3           NA      NA                NA                        NA      \n",
       "4           NA      NA                NA                        NA      \n",
       "5           NA      NA                NA                        NA      \n",
       "6           NA      NA                NA                        NA      \n",
       "  LEVEL_R2 LEVEL_R3 Highest_level citations\n",
       "1 NA       NA                              \n",
       "2 NA       NA                              \n",
       "3 NA       NA                              \n",
       "4 NA       NA                              \n",
       "5 NA       NA                              \n",
       "6 NA       NA                              "
      ]
     },
     "metadata": {},
     "output_type": "display_data"
    }
   ],
   "source": [
    "head(ICGC_maf_nsyn)"
   ]
  },
  {
   "cell_type": "code",
   "execution_count": 53,
   "metadata": {},
   "outputs": [],
   "source": [
    "dkfz_braf <- ICGC_maf_nsyn[which(ICGC_maf_nsyn$Hugo_Symbol == \"BRAF\"),]\n",
    "dkfz_braf_v600e_samples <- dkfz_braf$sample_id[which(grepl(\"V600E\", dkfz_braf$HGVSp_Short))]"
   ]
  },
  {
   "cell_type": "code",
   "execution_count": 54,
   "metadata": {},
   "outputs": [],
   "source": [
    "braf_v600e_samples <- c(dkfz_braf_v600e_samples, cbtn_braf_v600e_samples)"
   ]
  },
  {
   "cell_type": "code",
   "execution_count": 55,
   "metadata": {},
   "outputs": [
    {
     "data": {
      "text/html": [
       "<style>\n",
       ".list-inline {list-style: none; margin:0; padding: 0}\n",
       ".list-inline>li {display: inline-block}\n",
       ".list-inline>li:not(:last-child)::after {content: \"\\00b7\"; padding: 0 .5ex}\n",
       "</style>\n",
       "<ol class=list-inline><li>'7316-1081'</li><li>'7316-1090'</li><li>'7316-1134'</li><li>'7316-117'</li><li>'7316-119'</li><li>'7316-120'</li><li>'7316-121'</li><li>'7316-1226'</li><li>'7316-127'</li><li>'7316-134'</li><li>'7316-134'</li><li>'7316-146'</li><li>'7316-162'</li><li>'7316-1637'</li><li>'7316-1643'</li><li>'7316-1646'</li><li>'7316-1648'</li><li>'7316-1664'</li><li>'7316-1668'</li><li>'7316-168'</li><li>'7316-1683'</li><li>'7316-1710'</li><li>'7316-1710'</li><li>'7316-1711'</li><li>'7316-1779'</li><li>'7316-1794'</li><li>'7316-1803'</li><li>'7316-1805'</li><li>'7316-1851'</li><li>'7316-1926'</li><li>'7316-1928'</li><li>'7316-1942'</li><li>'7316-1952'</li><li>'7316-1953'</li><li>'7316-1958'</li><li>'7316-1963'</li><li>'7316-1975'</li><li>'7316-1978'</li><li>'7316-20'</li><li>'7316-206'</li><li>'7316-2099'</li><li>'7316-2167'</li><li>'7316-2172'</li><li>'7316-2184'</li><li>'7316-2197'</li><li>'7316-2204'</li><li>'7316-222'</li><li>'7316-2291'</li><li>'7316-2305'</li><li>'7316-247'</li><li>'7316-2572'</li><li>'7316-262'</li><li>'7316-2663'</li><li>'7316-2689'</li><li>'7316-2729'</li><li>'7316-2755'</li><li>'7316-297'</li><li>'7316-3054'</li><li>'7316-3055'</li><li>'7316-3062'</li><li>'7316-3068'</li><li>'7316-3140'</li><li>'7316-3154'</li><li>'7316-3169'</li><li>'7316-3203'</li><li>'7316-3308'</li><li>'7316-332'</li><li>'7316-345'</li><li>'7316-346'</li><li>'7316-3491'</li><li>'7316-3504'</li><li>'7316-3515'</li><li>'7316-3555'</li><li>'7316-3566'</li><li>'7316-3622'</li><li>'7316-368'</li><li>'7316-370'</li><li>'7316-390'</li><li>'7316-391'</li><li>'7316-3919'</li><li>'7316-393'</li><li>'7316-400'</li><li>'7316-436'</li><li>'7316-441'</li><li>'7316-459'</li><li>'7316-460'</li><li>'7316-472'</li><li>'7316-475'</li><li>'7316-476'</li><li>'7316-487'</li><li>'7316-495'</li><li>'7316-516'</li><li>'7316-562'</li><li>'7316-643'</li><li>'7316-666'</li><li>'7316-733'</li><li>'7316-874'</li><li>'7316-891'</li><li>'7316-905'</li><li>'7316-924'</li><li>'7316-925'</li><li>'7316-938'</li><li>'7316-954'</li><li>'ICGC_PA100'</li><li>'ICGC_PA103'</li><li>'ICGC_PA107'</li><li>'ICGC_PA108'</li><li>'ICGC_PA109'</li><li>'ICGC_PA11'</li><li>'ICGC_PA110'</li><li>'ICGC_PA136'</li><li>'ICGC_PA138'</li><li>'ICGC_PA14'</li><li>'ICGC_PA147'</li><li>'ICGC_PA148'</li><li>'ICGC_PA150'</li><li>'ICGC_PA157'</li><li>'ICGC_PA157'</li><li>'ICGC_PA162'</li><li>'ICGC_PA165'</li><li>'ICGC_PA4'</li><li>'ICGC_PA8'</li><li>'ICGC_PA87'</li><li>'ICGC_PA88'</li><li>'ICGC_PA9'</li><li>'ICGC_PA91'</li><li>'ICGC_PA93'</li><li>'ICGC_PA94'</li><li>'ICGC_PA95'</li><li>'ICGC_PA97'</li></ol>\n"
      ],
      "text/latex": [
       "\\begin{enumerate*}\n",
       "\\item '7316-1081'\n",
       "\\item '7316-1090'\n",
       "\\item '7316-1134'\n",
       "\\item '7316-117'\n",
       "\\item '7316-119'\n",
       "\\item '7316-120'\n",
       "\\item '7316-121'\n",
       "\\item '7316-1226'\n",
       "\\item '7316-127'\n",
       "\\item '7316-134'\n",
       "\\item '7316-134'\n",
       "\\item '7316-146'\n",
       "\\item '7316-162'\n",
       "\\item '7316-1637'\n",
       "\\item '7316-1643'\n",
       "\\item '7316-1646'\n",
       "\\item '7316-1648'\n",
       "\\item '7316-1664'\n",
       "\\item '7316-1668'\n",
       "\\item '7316-168'\n",
       "\\item '7316-1683'\n",
       "\\item '7316-1710'\n",
       "\\item '7316-1710'\n",
       "\\item '7316-1711'\n",
       "\\item '7316-1779'\n",
       "\\item '7316-1794'\n",
       "\\item '7316-1803'\n",
       "\\item '7316-1805'\n",
       "\\item '7316-1851'\n",
       "\\item '7316-1926'\n",
       "\\item '7316-1928'\n",
       "\\item '7316-1942'\n",
       "\\item '7316-1952'\n",
       "\\item '7316-1953'\n",
       "\\item '7316-1958'\n",
       "\\item '7316-1963'\n",
       "\\item '7316-1975'\n",
       "\\item '7316-1978'\n",
       "\\item '7316-20'\n",
       "\\item '7316-206'\n",
       "\\item '7316-2099'\n",
       "\\item '7316-2167'\n",
       "\\item '7316-2172'\n",
       "\\item '7316-2184'\n",
       "\\item '7316-2197'\n",
       "\\item '7316-2204'\n",
       "\\item '7316-222'\n",
       "\\item '7316-2291'\n",
       "\\item '7316-2305'\n",
       "\\item '7316-247'\n",
       "\\item '7316-2572'\n",
       "\\item '7316-262'\n",
       "\\item '7316-2663'\n",
       "\\item '7316-2689'\n",
       "\\item '7316-2729'\n",
       "\\item '7316-2755'\n",
       "\\item '7316-297'\n",
       "\\item '7316-3054'\n",
       "\\item '7316-3055'\n",
       "\\item '7316-3062'\n",
       "\\item '7316-3068'\n",
       "\\item '7316-3140'\n",
       "\\item '7316-3154'\n",
       "\\item '7316-3169'\n",
       "\\item '7316-3203'\n",
       "\\item '7316-3308'\n",
       "\\item '7316-332'\n",
       "\\item '7316-345'\n",
       "\\item '7316-346'\n",
       "\\item '7316-3491'\n",
       "\\item '7316-3504'\n",
       "\\item '7316-3515'\n",
       "\\item '7316-3555'\n",
       "\\item '7316-3566'\n",
       "\\item '7316-3622'\n",
       "\\item '7316-368'\n",
       "\\item '7316-370'\n",
       "\\item '7316-390'\n",
       "\\item '7316-391'\n",
       "\\item '7316-3919'\n",
       "\\item '7316-393'\n",
       "\\item '7316-400'\n",
       "\\item '7316-436'\n",
       "\\item '7316-441'\n",
       "\\item '7316-459'\n",
       "\\item '7316-460'\n",
       "\\item '7316-472'\n",
       "\\item '7316-475'\n",
       "\\item '7316-476'\n",
       "\\item '7316-487'\n",
       "\\item '7316-495'\n",
       "\\item '7316-516'\n",
       "\\item '7316-562'\n",
       "\\item '7316-643'\n",
       "\\item '7316-666'\n",
       "\\item '7316-733'\n",
       "\\item '7316-874'\n",
       "\\item '7316-891'\n",
       "\\item '7316-905'\n",
       "\\item '7316-924'\n",
       "\\item '7316-925'\n",
       "\\item '7316-938'\n",
       "\\item '7316-954'\n",
       "\\item 'ICGC\\_PA100'\n",
       "\\item 'ICGC\\_PA103'\n",
       "\\item 'ICGC\\_PA107'\n",
       "\\item 'ICGC\\_PA108'\n",
       "\\item 'ICGC\\_PA109'\n",
       "\\item 'ICGC\\_PA11'\n",
       "\\item 'ICGC\\_PA110'\n",
       "\\item 'ICGC\\_PA136'\n",
       "\\item 'ICGC\\_PA138'\n",
       "\\item 'ICGC\\_PA14'\n",
       "\\item 'ICGC\\_PA147'\n",
       "\\item 'ICGC\\_PA148'\n",
       "\\item 'ICGC\\_PA150'\n",
       "\\item 'ICGC\\_PA157'\n",
       "\\item 'ICGC\\_PA157'\n",
       "\\item 'ICGC\\_PA162'\n",
       "\\item 'ICGC\\_PA165'\n",
       "\\item 'ICGC\\_PA4'\n",
       "\\item 'ICGC\\_PA8'\n",
       "\\item 'ICGC\\_PA87'\n",
       "\\item 'ICGC\\_PA88'\n",
       "\\item 'ICGC\\_PA9'\n",
       "\\item 'ICGC\\_PA91'\n",
       "\\item 'ICGC\\_PA93'\n",
       "\\item 'ICGC\\_PA94'\n",
       "\\item 'ICGC\\_PA95'\n",
       "\\item 'ICGC\\_PA97'\n",
       "\\end{enumerate*}\n"
      ],
      "text/markdown": [
       "1. '7316-1081'\n",
       "2. '7316-1090'\n",
       "3. '7316-1134'\n",
       "4. '7316-117'\n",
       "5. '7316-119'\n",
       "6. '7316-120'\n",
       "7. '7316-121'\n",
       "8. '7316-1226'\n",
       "9. '7316-127'\n",
       "10. '7316-134'\n",
       "11. '7316-134'\n",
       "12. '7316-146'\n",
       "13. '7316-162'\n",
       "14. '7316-1637'\n",
       "15. '7316-1643'\n",
       "16. '7316-1646'\n",
       "17. '7316-1648'\n",
       "18. '7316-1664'\n",
       "19. '7316-1668'\n",
       "20. '7316-168'\n",
       "21. '7316-1683'\n",
       "22. '7316-1710'\n",
       "23. '7316-1710'\n",
       "24. '7316-1711'\n",
       "25. '7316-1779'\n",
       "26. '7316-1794'\n",
       "27. '7316-1803'\n",
       "28. '7316-1805'\n",
       "29. '7316-1851'\n",
       "30. '7316-1926'\n",
       "31. '7316-1928'\n",
       "32. '7316-1942'\n",
       "33. '7316-1952'\n",
       "34. '7316-1953'\n",
       "35. '7316-1958'\n",
       "36. '7316-1963'\n",
       "37. '7316-1975'\n",
       "38. '7316-1978'\n",
       "39. '7316-20'\n",
       "40. '7316-206'\n",
       "41. '7316-2099'\n",
       "42. '7316-2167'\n",
       "43. '7316-2172'\n",
       "44. '7316-2184'\n",
       "45. '7316-2197'\n",
       "46. '7316-2204'\n",
       "47. '7316-222'\n",
       "48. '7316-2291'\n",
       "49. '7316-2305'\n",
       "50. '7316-247'\n",
       "51. '7316-2572'\n",
       "52. '7316-262'\n",
       "53. '7316-2663'\n",
       "54. '7316-2689'\n",
       "55. '7316-2729'\n",
       "56. '7316-2755'\n",
       "57. '7316-297'\n",
       "58. '7316-3054'\n",
       "59. '7316-3055'\n",
       "60. '7316-3062'\n",
       "61. '7316-3068'\n",
       "62. '7316-3140'\n",
       "63. '7316-3154'\n",
       "64. '7316-3169'\n",
       "65. '7316-3203'\n",
       "66. '7316-3308'\n",
       "67. '7316-332'\n",
       "68. '7316-345'\n",
       "69. '7316-346'\n",
       "70. '7316-3491'\n",
       "71. '7316-3504'\n",
       "72. '7316-3515'\n",
       "73. '7316-3555'\n",
       "74. '7316-3566'\n",
       "75. '7316-3622'\n",
       "76. '7316-368'\n",
       "77. '7316-370'\n",
       "78. '7316-390'\n",
       "79. '7316-391'\n",
       "80. '7316-3919'\n",
       "81. '7316-393'\n",
       "82. '7316-400'\n",
       "83. '7316-436'\n",
       "84. '7316-441'\n",
       "85. '7316-459'\n",
       "86. '7316-460'\n",
       "87. '7316-472'\n",
       "88. '7316-475'\n",
       "89. '7316-476'\n",
       "90. '7316-487'\n",
       "91. '7316-495'\n",
       "92. '7316-516'\n",
       "93. '7316-562'\n",
       "94. '7316-643'\n",
       "95. '7316-666'\n",
       "96. '7316-733'\n",
       "97. '7316-874'\n",
       "98. '7316-891'\n",
       "99. '7316-905'\n",
       "100. '7316-924'\n",
       "101. '7316-925'\n",
       "102. '7316-938'\n",
       "103. '7316-954'\n",
       "104. 'ICGC_PA100'\n",
       "105. 'ICGC_PA103'\n",
       "106. 'ICGC_PA107'\n",
       "107. 'ICGC_PA108'\n",
       "108. 'ICGC_PA109'\n",
       "109. 'ICGC_PA11'\n",
       "110. 'ICGC_PA110'\n",
       "111. 'ICGC_PA136'\n",
       "112. 'ICGC_PA138'\n",
       "113. 'ICGC_PA14'\n",
       "114. 'ICGC_PA147'\n",
       "115. 'ICGC_PA148'\n",
       "116. 'ICGC_PA150'\n",
       "117. 'ICGC_PA157'\n",
       "118. 'ICGC_PA157'\n",
       "119. 'ICGC_PA162'\n",
       "120. 'ICGC_PA165'\n",
       "121. 'ICGC_PA4'\n",
       "122. 'ICGC_PA8'\n",
       "123. 'ICGC_PA87'\n",
       "124. 'ICGC_PA88'\n",
       "125. 'ICGC_PA9'\n",
       "126. 'ICGC_PA91'\n",
       "127. 'ICGC_PA93'\n",
       "128. 'ICGC_PA94'\n",
       "129. 'ICGC_PA95'\n",
       "130. 'ICGC_PA97'\n",
       "\n",
       "\n"
      ],
      "text/plain": [
       "  [1] \"7316-1081\"  \"7316-1090\"  \"7316-1134\"  \"7316-117\"   \"7316-119\"  \n",
       "  [6] \"7316-120\"   \"7316-121\"   \"7316-1226\"  \"7316-127\"   \"7316-134\"  \n",
       " [11] \"7316-134\"   \"7316-146\"   \"7316-162\"   \"7316-1637\"  \"7316-1643\" \n",
       " [16] \"7316-1646\"  \"7316-1648\"  \"7316-1664\"  \"7316-1668\"  \"7316-168\"  \n",
       " [21] \"7316-1683\"  \"7316-1710\"  \"7316-1710\"  \"7316-1711\"  \"7316-1779\" \n",
       " [26] \"7316-1794\"  \"7316-1803\"  \"7316-1805\"  \"7316-1851\"  \"7316-1926\" \n",
       " [31] \"7316-1928\"  \"7316-1942\"  \"7316-1952\"  \"7316-1953\"  \"7316-1958\" \n",
       " [36] \"7316-1963\"  \"7316-1975\"  \"7316-1978\"  \"7316-20\"    \"7316-206\"  \n",
       " [41] \"7316-2099\"  \"7316-2167\"  \"7316-2172\"  \"7316-2184\"  \"7316-2197\" \n",
       " [46] \"7316-2204\"  \"7316-222\"   \"7316-2291\"  \"7316-2305\"  \"7316-247\"  \n",
       " [51] \"7316-2572\"  \"7316-262\"   \"7316-2663\"  \"7316-2689\"  \"7316-2729\" \n",
       " [56] \"7316-2755\"  \"7316-297\"   \"7316-3054\"  \"7316-3055\"  \"7316-3062\" \n",
       " [61] \"7316-3068\"  \"7316-3140\"  \"7316-3154\"  \"7316-3169\"  \"7316-3203\" \n",
       " [66] \"7316-3308\"  \"7316-332\"   \"7316-345\"   \"7316-346\"   \"7316-3491\" \n",
       " [71] \"7316-3504\"  \"7316-3515\"  \"7316-3555\"  \"7316-3566\"  \"7316-3622\" \n",
       " [76] \"7316-368\"   \"7316-370\"   \"7316-390\"   \"7316-391\"   \"7316-3919\" \n",
       " [81] \"7316-393\"   \"7316-400\"   \"7316-436\"   \"7316-441\"   \"7316-459\"  \n",
       " [86] \"7316-460\"   \"7316-472\"   \"7316-475\"   \"7316-476\"   \"7316-487\"  \n",
       " [91] \"7316-495\"   \"7316-516\"   \"7316-562\"   \"7316-643\"   \"7316-666\"  \n",
       " [96] \"7316-733\"   \"7316-874\"   \"7316-891\"   \"7316-905\"   \"7316-924\"  \n",
       "[101] \"7316-925\"   \"7316-938\"   \"7316-954\"   \"ICGC_PA100\" \"ICGC_PA103\"\n",
       "[106] \"ICGC_PA107\" \"ICGC_PA108\" \"ICGC_PA109\" \"ICGC_PA11\"  \"ICGC_PA110\"\n",
       "[111] \"ICGC_PA136\" \"ICGC_PA138\" \"ICGC_PA14\"  \"ICGC_PA147\" \"ICGC_PA148\"\n",
       "[116] \"ICGC_PA150\" \"ICGC_PA157\" \"ICGC_PA157\" \"ICGC_PA162\" \"ICGC_PA165\"\n",
       "[121] \"ICGC_PA4\"   \"ICGC_PA8\"   \"ICGC_PA87\"  \"ICGC_PA88\"  \"ICGC_PA9\"  \n",
       "[126] \"ICGC_PA91\"  \"ICGC_PA93\"  \"ICGC_PA94\"  \"ICGC_PA95\"  \"ICGC_PA97\" "
      ]
     },
     "metadata": {},
     "output_type": "display_data"
    }
   ],
   "source": [
    "braf_fusion_samples"
   ]
  },
  {
   "cell_type": "code",
   "execution_count": 56,
   "metadata": {},
   "outputs": [],
   "source": [
    "metadata$tumour_subtype[metadata$sample_id %in% braf_fusion_samples & metadata$cohort == \"pedLGG\"] <- \"BRAF_KIAA1549\"\n",
    "metadata$tumour_subtype[metadata$sample_id %in% braf_v600e_samples & metadata$cohort == \"pedLGG\"] <- \"BRAF_p.V600E\"\n",
    "metadata$tumour_subtype[is.na(metadata$tumour_subtype)& metadata$cohort == \"pedLGG\"] <- \"BRAF_WT\""
   ]
  },
  {
   "cell_type": "code",
   "execution_count": 57,
   "metadata": {},
   "outputs": [
    {
     "data": {
      "text/plain": [
       "\n",
       "     ATRT_MYC      ATRT_SHH      ATRT_TYR BRAF_KIAA1549  BRAF_p.V600E \n",
       "            9             7             5           127            32 \n",
       "      BRAF_WT     EPN_Fossa        EPN_ND     EPN_Spine     EPN_Supra \n",
       "          139            20             2             9            34 \n",
       "      HGG_G34      HGG_K27M        HGG_WT       MB_GR34        MB_SHH \n",
       "            1            18            42           212            17 \n",
       "       MB_WNT      NBL_MYCA     NBL_MYCNA        NBL_ND \n",
       "           11            31           117             3 "
      ]
     },
     "metadata": {},
     "output_type": "display_data"
    }
   ],
   "source": [
    "table(metadata$tumour_subtype)"
   ]
  },
  {
   "cell_type": "code",
   "execution_count": 58,
   "metadata": {},
   "outputs": [],
   "source": [
    "estimate_manifest_primary_clean <- metadata"
   ]
  },
  {
   "cell_type": "code",
   "execution_count": 59,
   "metadata": {},
   "outputs": [],
   "source": [
    "save(estimate_manifest_primary_clean,\n",
    "         file = paste0(datapath, \"ESTIMATE/estimate_manifest_primary_clean_final.RData\"))"
   ]
  },
  {
   "cell_type": "code",
   "execution_count": null,
   "metadata": {},
   "outputs": [],
   "source": []
  }
 ],
 "metadata": {
  "kernelspec": {
   "display_name": "R 4.0",
   "language": "R",
   "name": "ir40"
  },
  "language_info": {
   "codemirror_mode": "r",
   "file_extension": ".r",
   "mimetype": "text/x-r-source",
   "name": "R",
   "pygments_lexer": "r",
   "version": "4.0.3"
  },
  "toc": {
   "base_numbering": 1,
   "nav_menu": {},
   "number_sections": false,
   "sideBar": true,
   "skip_h1_title": false,
   "title_cell": "Table of Contents",
   "title_sidebar": "Contents",
   "toc_cell": true,
   "toc_position": {
    "height": "calc(100% - 180px)",
    "left": "10px",
    "top": "150px",
    "width": "214.542px"
   },
   "toc_section_display": true,
   "toc_window_display": true
  }
 },
 "nbformat": 4,
 "nbformat_minor": 2
}
