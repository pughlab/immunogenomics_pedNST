{
 "cells": [
  {
   "cell_type": "markdown",
   "metadata": {
    "toc": true
   },
   "source": [
    "<h1>Table of Contents<span class=\"tocSkip\"></span></h1>\n",
    "<div class=\"toc\"><ul class=\"toc-item\"><li><span><a href=\"#Dependencies\" data-toc-modified-id=\"Dependencies-1\">Dependencies</a></span></li><li><span><a href=\"#Functions\" data-toc-modified-id=\"Functions-2\">Functions</a></span></li><li><span><a href=\"#Paths\" data-toc-modified-id=\"Paths-3\">Paths</a></span></li><li><span><a href=\"#Main\" data-toc-modified-id=\"Main-4\">Main</a></span><ul class=\"toc-item\"><li><span><a href=\"#Get-nonsyn-variants\" data-toc-modified-id=\"Get-nonsyn-variants-4.1\">Get nonsyn variants</a></span><ul class=\"toc-item\"><li><span><a href=\"#CBTTC\" data-toc-modified-id=\"CBTTC-4.1.1\">CBTTC</a></span></li><li><span><a href=\"#DKFZ\" data-toc-modified-id=\"DKFZ-4.1.2\">DKFZ</a></span></li><li><span><a href=\"#TARGET\" data-toc-modified-id=\"TARGET-4.1.3\">TARGET</a></span></li></ul></li><li><span><a href=\"#all-nonsyn-mutated-genes\" data-toc-modified-id=\"all-nonsyn-mutated-genes-4.2\">all nonsyn mutated genes</a></span></li></ul></li><li><span><a href=\"#Strong-binders-in-each-cohort\" data-toc-modified-id=\"Strong-binders-in-each-cohort-5\">Strong binders in each cohort</a></span></li><li><span><a href=\"#Presentation-score\" data-toc-modified-id=\"Presentation-score-6\">Presentation score</a></span></li><li><span><a href=\"#PBR\" data-toc-modified-id=\"PBR-7\">PBR</a></span><ul class=\"toc-item\"><li><ul class=\"toc-item\"><li><span><a href=\"#Minimum-rank\" data-toc-modified-id=\"Minimum-rank-7.0.1\">Minimum rank</a></span></li><li><span><a href=\"#Count-number-of-rank-2\" data-toc-modified-id=\"Count-number-of-rank-2-7.0.2\">Count number of rank 2</a></span></li></ul></li></ul></li><li><span><a href=\"#Deprecated\" data-toc-modified-id=\"Deprecated-8\">Deprecated</a></span></li></ul></div>"
   ]
  },
  {
   "cell_type": "markdown",
   "metadata": {},
   "source": [
    "# Dependencies"
   ]
  },
  {
   "cell_type": "code",
   "execution_count": 6,
   "metadata": {},
   "outputs": [],
   "source": [
    "options(scipen = 999)"
   ]
  },
  {
   "cell_type": "code",
   "execution_count": 7,
   "metadata": {
    "scrolled": true
   },
   "outputs": [],
   "source": [
    "library(dplyr)\n",
    "library(ggbeeswarm)\n",
    "library(maftools)\n",
    "library(ggsignif)"
   ]
  },
  {
   "cell_type": "markdown",
   "metadata": {},
   "source": [
    "# Functions\n"
   ]
  },
  {
   "cell_type": "code",
   "execution_count": 8,
   "metadata": {
    "scrolled": true
   },
   "outputs": [],
   "source": [
    "source(\"~/OneDrive - UHN/R_src/ggplot2_theme.R\")\n",
    "source(\"~/OneDrive - UHN/R_src/color_schemes.R\")\n",
    "source(\"~/OneDrive - UHN/R_src/Heatmap_functions.R\")\n",
    "source(\"~/OneDrive - UHN/R_src/Oncoprint_functions.R\")"
   ]
  },
  {
   "cell_type": "markdown",
   "metadata": {},
   "source": [
    "# Paths"
   ]
  },
  {
   "cell_type": "code",
   "execution_count": 9,
   "metadata": {},
   "outputs": [],
   "source": [
    "datapath <- \"/Users/anabbi/OneDrive - UHN/Documents/IPD2/Data/\"\n",
    "plotpath <- \"/Users/anabbi/OneDrive - UHN/Documents/IPD2/Plots/\""
   ]
  },
  {
   "cell_type": "markdown",
   "metadata": {},
   "source": [
    "# Main"
   ]
  },
  {
   "cell_type": "code",
   "execution_count": 10,
   "metadata": {},
   "outputs": [],
   "source": [
    "load(file = file.path(datapath,\"TME_clusters/IPD_estimate_metadata_IC.RData\"))"
   ]
  },
  {
   "cell_type": "code",
   "execution_count": 11,
   "metadata": {},
   "outputs": [],
   "source": [
    "load(file = paste0(datapath,\"snv/total_mut_manifest_estimate.RData\"))"
   ]
  },
  {
   "cell_type": "code",
   "execution_count": 12,
   "metadata": {},
   "outputs": [],
   "source": [
    "mupexifiles <- list.files(paste0(datapath, \"Mupexi/\"), pattern = \"_all.mupexi\", recursive = T)"
   ]
  },
  {
   "cell_type": "code",
   "execution_count": 13,
   "metadata": {},
   "outputs": [
    {
     "data": {
      "text/html": [
       "549"
      ],
      "text/latex": [
       "549"
      ],
      "text/markdown": [
       "549"
      ],
      "text/plain": [
       "[1] 549"
      ]
     },
     "metadata": {},
     "output_type": "display_data"
    }
   ],
   "source": [
    "length(mupexifiles)"
   ]
  },
  {
   "cell_type": "code",
   "execution_count": 14,
   "metadata": {},
   "outputs": [],
   "source": [
    "all.mupexifiles <- lapply(mupexifiles, function(f){read.table(paste0(datapath,\"Mupexi/\",f), header = TRUE, sep = \"\\t\", stringsAsFactors = F)})"
   ]
  },
  {
   "cell_type": "code",
   "execution_count": 15,
   "metadata": {},
   "outputs": [],
   "source": [
    "all.mupexi <- do.call(\"rbind\", all.mupexifiles)"
   ]
  },
  {
   "cell_type": "code",
   "execution_count": 16,
   "metadata": {},
   "outputs": [
    {
     "data": {
      "text/html": [
       "<table class=\"dataframe\">\n",
       "<caption>A data.frame: 6 × 34</caption>\n",
       "<thead>\n",
       "\t<tr><th></th><th scope=col>HLA_allele</th><th scope=col>Norm_peptide</th><th scope=col>Norm_MHCrank_EL</th><th scope=col>Norm_MHCscore_EL</th><th scope=col>Norm_MHCaffinity</th><th scope=col>Norm_MHCrank_BA</th><th scope=col>Norm_MHCscore_BA</th><th scope=col>Mut_peptide</th><th scope=col>Mut_MHCrank_EL</th><th scope=col>Mut_MHCscore_EL</th><th scope=col>⋯</th><th scope=col>Cancer_Driver_Gene</th><th scope=col>Proteome_Peptide_Match</th><th scope=col>Expression_Level</th><th scope=col>Mutant_affinity_score</th><th scope=col>Normal_affinity_score</th><th scope=col>Expression_score</th><th scope=col>priority_Score</th><th scope=col>Norm_MHCbinder</th><th scope=col>Mut_MHCbinder</th><th scope=col>sample_id</th></tr>\n",
       "\t<tr><th></th><th scope=col>&lt;chr&gt;</th><th scope=col>&lt;chr&gt;</th><th scope=col>&lt;dbl&gt;</th><th scope=col>&lt;dbl&gt;</th><th scope=col>&lt;dbl&gt;</th><th scope=col>&lt;dbl&gt;</th><th scope=col>&lt;dbl&gt;</th><th scope=col>&lt;chr&gt;</th><th scope=col>&lt;dbl&gt;</th><th scope=col>&lt;dbl&gt;</th><th scope=col>⋯</th><th scope=col>&lt;chr&gt;</th><th scope=col>&lt;chr&gt;</th><th scope=col>&lt;chr&gt;</th><th scope=col>&lt;dbl&gt;</th><th scope=col>&lt;dbl&gt;</th><th scope=col>&lt;int&gt;</th><th scope=col>&lt;int&gt;</th><th scope=col>&lt;chr&gt;</th><th scope=col>&lt;chr&gt;</th><th scope=col>&lt;chr&gt;</th></tr>\n",
       "</thead>\n",
       "<tbody>\n",
       "\t<tr><th scope=row>1</th><td>HLA-A23:01</td><td>MFIFGVVGNL</td><td>3.1003</td><td>0.065651</td><td> 1530.4</td><td> 2.0909</td><td>0.322235</td><td>RFIFGVVGNL</td><td>1.3960</td><td>0.213971</td><td>⋯</td><td>No</td><td>No</td><td>-</td><td>0.9534695</td><td>0.0040640619</td><td>1</td><td>95</td><td>NA</td><td>WB</td><td>7316-10</td></tr>\n",
       "\t<tr><th scope=row>2</th><td>HLA-C14:03</td><td>TIPAVMFIF </td><td>3.7203</td><td>0.174492</td><td> 3841.9</td><td> 6.4026</td><td>0.237164</td><td>TIPAVRFIF </td><td>1.4700</td><td>0.365306</td><td>⋯</td><td>No</td><td>No</td><td>-</td><td>0.9340110</td><td>0.0001837961</td><td>1</td><td>93</td><td>NA</td><td>NA</td><td>7316-10</td></tr>\n",
       "\t<tr><th scope=row>3</th><td>HLA-A03:01</td><td>GPLPPPRPMR</td><td>1.9251</td><td>0.106137</td><td> 7744.2</td><td> 6.3183</td><td>0.172377</td><td>GPLPPPRPLR</td><td>1.6858</td><td>0.129295</td><td>⋯</td><td>No</td><td>No</td><td>-</td><td>0.8279261</td><td>0.5925458879</td><td>1</td><td>58</td><td>NA</td><td>NA</td><td>7316-10</td></tr>\n",
       "\t<tr><th scope=row>4</th><td>HLA-C06:02</td><td>DVREPPALKY</td><td>2.1529</td><td>0.094989</td><td>17122.1</td><td> 8.5405</td><td>0.099046</td><td>DVREPPALQY</td><td>1.8401</td><td>0.107971</td><td>⋯</td><td>No</td><td>No</td><td>-</td><td>0.6898675</td><td>0.3176700658</td><td>1</td><td>58</td><td>NA</td><td>NA</td><td>7316-10</td></tr>\n",
       "\t<tr><th scope=row>5</th><td>HLA-B44:03</td><td>REPPALKYGI</td><td>1.6853</td><td>0.060808</td><td> 9893.2</td><td> 4.1304</td><td>0.149742</td><td>REPPALQYGI</td><td>1.4515</td><td>0.079779</td><td>⋯</td><td>No</td><td>No</td><td>-</td><td>0.9394884</td><td>0.8282819887</td><td>1</td><td>55</td><td>NA</td><td>NA</td><td>7316-10</td></tr>\n",
       "\t<tr><th scope=row>6</th><td>HLA-B58:02</td><td>VREPPALKY </td><td>1.3429</td><td>0.039176</td><td>36248.4</td><td>20.1432</td><td>0.029726</td><td>VREPPALQY </td><td>1.2016</td><td>0.044444</td><td>⋯</td><td>No</td><td>No</td><td>-</td><td>0.9818719</td><td>0.9639280118</td><td>1</td><td>51</td><td>NA</td><td>NA</td><td>7316-10</td></tr>\n",
       "</tbody>\n",
       "</table>\n"
      ],
      "text/latex": [
       "A data.frame: 6 × 34\n",
       "\\begin{tabular}{r|lllllllllllllllllllll}\n",
       "  & HLA\\_allele & Norm\\_peptide & Norm\\_MHCrank\\_EL & Norm\\_MHCscore\\_EL & Norm\\_MHCaffinity & Norm\\_MHCrank\\_BA & Norm\\_MHCscore\\_BA & Mut\\_peptide & Mut\\_MHCrank\\_EL & Mut\\_MHCscore\\_EL & ⋯ & Cancer\\_Driver\\_Gene & Proteome\\_Peptide\\_Match & Expression\\_Level & Mutant\\_affinity\\_score & Normal\\_affinity\\_score & Expression\\_score & priority\\_Score & Norm\\_MHCbinder & Mut\\_MHCbinder & sample\\_id\\\\\n",
       "  & <chr> & <chr> & <dbl> & <dbl> & <dbl> & <dbl> & <dbl> & <chr> & <dbl> & <dbl> & ⋯ & <chr> & <chr> & <chr> & <dbl> & <dbl> & <int> & <int> & <chr> & <chr> & <chr>\\\\\n",
       "\\hline\n",
       "\t1 & HLA-A23:01 & MFIFGVVGNL & 3.1003 & 0.065651 &  1530.4 &  2.0909 & 0.322235 & RFIFGVVGNL & 1.3960 & 0.213971 & ⋯ & No & No & - & 0.9534695 & 0.0040640619 & 1 & 95 & NA & WB & 7316-10\\\\\n",
       "\t2 & HLA-C14:03 & TIPAVMFIF  & 3.7203 & 0.174492 &  3841.9 &  6.4026 & 0.237164 & TIPAVRFIF  & 1.4700 & 0.365306 & ⋯ & No & No & - & 0.9340110 & 0.0001837961 & 1 & 93 & NA & NA & 7316-10\\\\\n",
       "\t3 & HLA-A03:01 & GPLPPPRPMR & 1.9251 & 0.106137 &  7744.2 &  6.3183 & 0.172377 & GPLPPPRPLR & 1.6858 & 0.129295 & ⋯ & No & No & - & 0.8279261 & 0.5925458879 & 1 & 58 & NA & NA & 7316-10\\\\\n",
       "\t4 & HLA-C06:02 & DVREPPALKY & 2.1529 & 0.094989 & 17122.1 &  8.5405 & 0.099046 & DVREPPALQY & 1.8401 & 0.107971 & ⋯ & No & No & - & 0.6898675 & 0.3176700658 & 1 & 58 & NA & NA & 7316-10\\\\\n",
       "\t5 & HLA-B44:03 & REPPALKYGI & 1.6853 & 0.060808 &  9893.2 &  4.1304 & 0.149742 & REPPALQYGI & 1.4515 & 0.079779 & ⋯ & No & No & - & 0.9394884 & 0.8282819887 & 1 & 55 & NA & NA & 7316-10\\\\\n",
       "\t6 & HLA-B58:02 & VREPPALKY  & 1.3429 & 0.039176 & 36248.4 & 20.1432 & 0.029726 & VREPPALQY  & 1.2016 & 0.044444 & ⋯ & No & No & - & 0.9818719 & 0.9639280118 & 1 & 51 & NA & NA & 7316-10\\\\\n",
       "\\end{tabular}\n"
      ],
      "text/markdown": [
       "\n",
       "A data.frame: 6 × 34\n",
       "\n",
       "| <!--/--> | HLA_allele &lt;chr&gt; | Norm_peptide &lt;chr&gt; | Norm_MHCrank_EL &lt;dbl&gt; | Norm_MHCscore_EL &lt;dbl&gt; | Norm_MHCaffinity &lt;dbl&gt; | Norm_MHCrank_BA &lt;dbl&gt; | Norm_MHCscore_BA &lt;dbl&gt; | Mut_peptide &lt;chr&gt; | Mut_MHCrank_EL &lt;dbl&gt; | Mut_MHCscore_EL &lt;dbl&gt; | ⋯ ⋯ | Cancer_Driver_Gene &lt;chr&gt; | Proteome_Peptide_Match &lt;chr&gt; | Expression_Level &lt;chr&gt; | Mutant_affinity_score &lt;dbl&gt; | Normal_affinity_score &lt;dbl&gt; | Expression_score &lt;int&gt; | priority_Score &lt;int&gt; | Norm_MHCbinder &lt;chr&gt; | Mut_MHCbinder &lt;chr&gt; | sample_id &lt;chr&gt; |\n",
       "|---|---|---|---|---|---|---|---|---|---|---|---|---|---|---|---|---|---|---|---|---|---|\n",
       "| 1 | HLA-A23:01 | MFIFGVVGNL | 3.1003 | 0.065651 |  1530.4 |  2.0909 | 0.322235 | RFIFGVVGNL | 1.3960 | 0.213971 | ⋯ | No | No | - | 0.9534695 | 0.0040640619 | 1 | 95 | NA | WB | 7316-10 |\n",
       "| 2 | HLA-C14:03 | TIPAVMFIF  | 3.7203 | 0.174492 |  3841.9 |  6.4026 | 0.237164 | TIPAVRFIF  | 1.4700 | 0.365306 | ⋯ | No | No | - | 0.9340110 | 0.0001837961 | 1 | 93 | NA | NA | 7316-10 |\n",
       "| 3 | HLA-A03:01 | GPLPPPRPMR | 1.9251 | 0.106137 |  7744.2 |  6.3183 | 0.172377 | GPLPPPRPLR | 1.6858 | 0.129295 | ⋯ | No | No | - | 0.8279261 | 0.5925458879 | 1 | 58 | NA | NA | 7316-10 |\n",
       "| 4 | HLA-C06:02 | DVREPPALKY | 2.1529 | 0.094989 | 17122.1 |  8.5405 | 0.099046 | DVREPPALQY | 1.8401 | 0.107971 | ⋯ | No | No | - | 0.6898675 | 0.3176700658 | 1 | 58 | NA | NA | 7316-10 |\n",
       "| 5 | HLA-B44:03 | REPPALKYGI | 1.6853 | 0.060808 |  9893.2 |  4.1304 | 0.149742 | REPPALQYGI | 1.4515 | 0.079779 | ⋯ | No | No | - | 0.9394884 | 0.8282819887 | 1 | 55 | NA | NA | 7316-10 |\n",
       "| 6 | HLA-B58:02 | VREPPALKY  | 1.3429 | 0.039176 | 36248.4 | 20.1432 | 0.029726 | VREPPALQY  | 1.2016 | 0.044444 | ⋯ | No | No | - | 0.9818719 | 0.9639280118 | 1 | 51 | NA | NA | 7316-10 |\n",
       "\n"
      ],
      "text/plain": [
       "  HLA_allele Norm_peptide Norm_MHCrank_EL Norm_MHCscore_EL Norm_MHCaffinity\n",
       "1 HLA-A23:01 MFIFGVVGNL   3.1003          0.065651          1530.4         \n",
       "2 HLA-C14:03 TIPAVMFIF    3.7203          0.174492          3841.9         \n",
       "3 HLA-A03:01 GPLPPPRPMR   1.9251          0.106137          7744.2         \n",
       "4 HLA-C06:02 DVREPPALKY   2.1529          0.094989         17122.1         \n",
       "5 HLA-B44:03 REPPALKYGI   1.6853          0.060808          9893.2         \n",
       "6 HLA-B58:02 VREPPALKY    1.3429          0.039176         36248.4         \n",
       "  Norm_MHCrank_BA Norm_MHCscore_BA Mut_peptide Mut_MHCrank_EL Mut_MHCscore_EL ⋯\n",
       "1  2.0909         0.322235         RFIFGVVGNL  1.3960         0.213971        ⋯\n",
       "2  6.4026         0.237164         TIPAVRFIF   1.4700         0.365306        ⋯\n",
       "3  6.3183         0.172377         GPLPPPRPLR  1.6858         0.129295        ⋯\n",
       "4  8.5405         0.099046         DVREPPALQY  1.8401         0.107971        ⋯\n",
       "5  4.1304         0.149742         REPPALQYGI  1.4515         0.079779        ⋯\n",
       "6 20.1432         0.029726         VREPPALQY   1.2016         0.044444        ⋯\n",
       "  Cancer_Driver_Gene Proteome_Peptide_Match Expression_Level\n",
       "1 No                 No                     -               \n",
       "2 No                 No                     -               \n",
       "3 No                 No                     -               \n",
       "4 No                 No                     -               \n",
       "5 No                 No                     -               \n",
       "6 No                 No                     -               \n",
       "  Mutant_affinity_score Normal_affinity_score Expression_score priority_Score\n",
       "1 0.9534695             0.0040640619          1                95            \n",
       "2 0.9340110             0.0001837961          1                93            \n",
       "3 0.8279261             0.5925458879          1                58            \n",
       "4 0.6898675             0.3176700658          1                58            \n",
       "5 0.9394884             0.8282819887          1                55            \n",
       "6 0.9818719             0.9639280118          1                51            \n",
       "  Norm_MHCbinder Mut_MHCbinder sample_id\n",
       "1 NA             WB            7316-10  \n",
       "2 NA             NA            7316-10  \n",
       "3 NA             NA            7316-10  \n",
       "4 NA             NA            7316-10  \n",
       "5 NA             NA            7316-10  \n",
       "6 NA             NA            7316-10  "
      ]
     },
     "metadata": {},
     "output_type": "display_data"
    }
   ],
   "source": [
    "head(all.mupexi)"
   ]
  },
  {
   "cell_type": "code",
   "execution_count": 17,
   "metadata": {},
   "outputs": [],
   "source": [
    "ped_tmb <- total_mut_manifest_estimate[ total_mut_manifest_estimate$group != \"TCGA\",]"
   ]
  },
  {
   "cell_type": "markdown",
   "metadata": {},
   "source": [
    "Add a new variable percentage reads for total_mut_manifest_estimate_quanti"
   ]
  },
  {
   "cell_type": "code",
   "execution_count": 18,
   "metadata": {},
   "outputs": [],
   "source": [
    "ped_tmb$percread <- 8.0947988*exp(ped_tmb$ImmuneScore*0.0006267)"
   ]
  },
  {
   "cell_type": "code",
   "execution_count": 19,
   "metadata": {},
   "outputs": [
    {
     "data": {
      "text/plain": [
       "\n",
       "Initial CNS Tumor           Primary     Primary Tumor \n",
       "              470               196                98 "
      ]
     },
     "metadata": {},
     "output_type": "display_data"
    }
   ],
   "source": [
    "table(ped_tmb$sample_type)"
   ]
  },
  {
   "cell_type": "code",
   "execution_count": 20,
   "metadata": {
    "scrolled": true
   },
   "outputs": [],
   "source": [
    "ped_tmb_IC <- merge(ped_tmb, metadata_IC[,c(\"sample_id\", \"immune_cluster\")], by = \"sample_id\")"
   ]
  },
  {
   "cell_type": "code",
   "execution_count": 21,
   "metadata": {},
   "outputs": [
    {
     "data": {
      "text/html": [
       "<style>\n",
       ".list-inline {list-style: none; margin:0; padding: 0}\n",
       ".list-inline>li {display: inline-block}\n",
       ".list-inline>li:not(:last-child)::after {content: \"\\00b7\"; padding: 0 .5ex}\n",
       "</style>\n",
       "<ol class=list-inline><li>764</li><li>33</li></ol>\n"
      ],
      "text/latex": [
       "\\begin{enumerate*}\n",
       "\\item 764\n",
       "\\item 33\n",
       "\\end{enumerate*}\n"
      ],
      "text/markdown": [
       "1. 764\n",
       "2. 33\n",
       "\n",
       "\n"
      ],
      "text/plain": [
       "[1] 764  33"
      ]
     },
     "metadata": {},
     "output_type": "display_data"
    }
   ],
   "source": [
    "dim(ped_tmb)"
   ]
  },
  {
   "cell_type": "markdown",
   "metadata": {},
   "source": [
    "## Get nonsyn variants"
   ]
  },
  {
   "cell_type": "markdown",
   "metadata": {},
   "source": [
    "### CBTTC"
   ]
  },
  {
   "cell_type": "code",
   "execution_count": 22,
   "metadata": {},
   "outputs": [],
   "source": [
    "CBTTC_mafsummary <- read.table(file = paste0(datapath, \"snv/CBTTC_mafsummary_overlapped_3VAF.txt\"),\n",
    "                        sep = \"\\t\", check.names = F,\n",
    "                        header = TRUE, stringsAsFactors = FALSE)"
   ]
  },
  {
   "cell_type": "code",
   "execution_count": 23,
   "metadata": {},
   "outputs": [
    {
     "data": {
      "text/html": [
       "<style>\n",
       ".list-inline {list-style: none; margin:0; padding: 0}\n",
       ".list-inline>li {display: inline-block}\n",
       ".list-inline>li:not(:last-child)::after {content: \"\\00b7\"; padding: 0 .5ex}\n",
       "</style>\n",
       "<ol class=list-inline><li>796</li><li>10</li></ol>\n"
      ],
      "text/latex": [
       "\\begin{enumerate*}\n",
       "\\item 796\n",
       "\\item 10\n",
       "\\end{enumerate*}\n"
      ],
      "text/markdown": [
       "1. 796\n",
       "2. 10\n",
       "\n",
       "\n"
      ],
      "text/plain": [
       "[1] 796  10"
      ]
     },
     "metadata": {},
     "output_type": "display_data"
    }
   ],
   "source": [
    "dim(CBTTC_mafsummary)"
   ]
  },
  {
   "cell_type": "code",
   "execution_count": 24,
   "metadata": {},
   "outputs": [],
   "source": [
    "mymaf_CBTTC <- read.maf(maf =  paste0(datapath, \"snv/CBTTC_maf_overlapped_3VAF.maf\"),\n",
    "                      useAll = TRUE, verbose = FALSE,\n",
    "                      vc_nonSyn = c(\"Frame_Shift_Del\", \"Frame_Shift_Ins\", \n",
    "                                    \"Nonsense_Mutation\",\"Nonstop_Mutation\", \n",
    "                                    \"In_Frame_Del\",\"In_Frame_Ins\", \n",
    "                                    \"Missense_Mutation\"))"
   ]
  },
  {
   "cell_type": "code",
   "execution_count": 25,
   "metadata": {},
   "outputs": [
    {
     "data": {
      "text/html": [
       "<table class=\"dataframe\">\n",
       "<caption>A data.table: 12 × 4</caption>\n",
       "<thead>\n",
       "\t<tr><th scope=col>ID</th><th scope=col>summary</th><th scope=col>Mean</th><th scope=col>Median</th></tr>\n",
       "\t<tr><th scope=col>&lt;chr&gt;</th><th scope=col>&lt;chr&gt;</th><th scope=col>&lt;dbl&gt;</th><th scope=col>&lt;dbl&gt;</th></tr>\n",
       "</thead>\n",
       "<tbody>\n",
       "\t<tr><td>NCBI_Build       </td><td>GRCh38 </td><td>    NA</td><td>NA</td></tr>\n",
       "\t<tr><td>Center           </td><td>Mutect2</td><td>    NA</td><td>NA</td></tr>\n",
       "\t<tr><td>Samples          </td><td>842    </td><td>    NA</td><td>NA</td></tr>\n",
       "\t<tr><td>nGenes           </td><td>13511  </td><td>    NA</td><td>NA</td></tr>\n",
       "\t<tr><td>Frame_Shift_Del  </td><td>845    </td><td> 1.004</td><td> 0</td></tr>\n",
       "\t<tr><td>Frame_Shift_Ins  </td><td>769    </td><td> 0.913</td><td> 0</td></tr>\n",
       "\t<tr><td>In_Frame_Del     </td><td>160    </td><td> 0.190</td><td> 0</td></tr>\n",
       "\t<tr><td>In_Frame_Ins     </td><td>30     </td><td> 0.036</td><td> 0</td></tr>\n",
       "\t<tr><td>Missense_Mutation</td><td>50771  </td><td>60.298</td><td> 4</td></tr>\n",
       "\t<tr><td>Nonsense_Mutation</td><td>2840   </td><td> 3.373</td><td> 0</td></tr>\n",
       "\t<tr><td>Nonstop_Mutation </td><td>25     </td><td> 0.030</td><td> 0</td></tr>\n",
       "\t<tr><td>total            </td><td>55440  </td><td>65.843</td><td> 5</td></tr>\n",
       "</tbody>\n",
       "</table>\n"
      ],
      "text/latex": [
       "A data.table: 12 × 4\n",
       "\\begin{tabular}{llll}\n",
       " ID & summary & Mean & Median\\\\\n",
       " <chr> & <chr> & <dbl> & <dbl>\\\\\n",
       "\\hline\n",
       "\t NCBI\\_Build        & GRCh38  &     NA & NA\\\\\n",
       "\t Center            & Mutect2 &     NA & NA\\\\\n",
       "\t Samples           & 842     &     NA & NA\\\\\n",
       "\t nGenes            & 13511   &     NA & NA\\\\\n",
       "\t Frame\\_Shift\\_Del   & 845     &  1.004 &  0\\\\\n",
       "\t Frame\\_Shift\\_Ins   & 769     &  0.913 &  0\\\\\n",
       "\t In\\_Frame\\_Del      & 160     &  0.190 &  0\\\\\n",
       "\t In\\_Frame\\_Ins      & 30      &  0.036 &  0\\\\\n",
       "\t Missense\\_Mutation & 50771   & 60.298 &  4\\\\\n",
       "\t Nonsense\\_Mutation & 2840    &  3.373 &  0\\\\\n",
       "\t Nonstop\\_Mutation  & 25      &  0.030 &  0\\\\\n",
       "\t total             & 55440   & 65.843 &  5\\\\\n",
       "\\end{tabular}\n"
      ],
      "text/markdown": [
       "\n",
       "A data.table: 12 × 4\n",
       "\n",
       "| ID &lt;chr&gt; | summary &lt;chr&gt; | Mean &lt;dbl&gt; | Median &lt;dbl&gt; |\n",
       "|---|---|---|---|\n",
       "| NCBI_Build        | GRCh38  |     NA | NA |\n",
       "| Center            | Mutect2 |     NA | NA |\n",
       "| Samples           | 842     |     NA | NA |\n",
       "| nGenes            | 13511   |     NA | NA |\n",
       "| Frame_Shift_Del   | 845     |  1.004 |  0 |\n",
       "| Frame_Shift_Ins   | 769     |  0.913 |  0 |\n",
       "| In_Frame_Del      | 160     |  0.190 |  0 |\n",
       "| In_Frame_Ins      | 30      |  0.036 |  0 |\n",
       "| Missense_Mutation | 50771   | 60.298 |  4 |\n",
       "| Nonsense_Mutation | 2840    |  3.373 |  0 |\n",
       "| Nonstop_Mutation  | 25      |  0.030 |  0 |\n",
       "| total             | 55440   | 65.843 |  5 |\n",
       "\n"
      ],
      "text/plain": [
       "   ID                summary Mean   Median\n",
       "1  NCBI_Build        GRCh38      NA NA    \n",
       "2  Center            Mutect2     NA NA    \n",
       "3  Samples           842         NA NA    \n",
       "4  nGenes            13511       NA NA    \n",
       "5  Frame_Shift_Del   845      1.004  0    \n",
       "6  Frame_Shift_Ins   769      0.913  0    \n",
       "7  In_Frame_Del      160      0.190  0    \n",
       "8  In_Frame_Ins      30       0.036  0    \n",
       "9  Missense_Mutation 50771   60.298  4    \n",
       "10 Nonsense_Mutation 2840     3.373  0    \n",
       "11 Nonstop_Mutation  25       0.030  0    \n",
       "12 total             55440   65.843  5    "
      ]
     },
     "metadata": {},
     "output_type": "display_data"
    }
   ],
   "source": [
    "mymaf_CBTTC@summary"
   ]
  },
  {
   "cell_type": "code",
   "execution_count": 26,
   "metadata": {},
   "outputs": [],
   "source": [
    "CBTTC_data_maf <- mymaf_CBTTC@data"
   ]
  },
  {
   "cell_type": "markdown",
   "metadata": {},
   "source": [
    "calculate tumour VAF"
   ]
  },
  {
   "cell_type": "code",
   "execution_count": 27,
   "metadata": {},
   "outputs": [],
   "source": [
    "CBTTC_data_maf$t_VAF <- CBTTC_data_maf$t_alt_count / CBTTC_data_maf$t_depth"
   ]
  },
  {
   "cell_type": "code",
   "execution_count": 28,
   "metadata": {},
   "outputs": [
    {
     "data": {
      "text/plain": [
       "   Min. 1st Qu.  Median    Mean 3rd Qu.    Max. \n",
       "0.03125 0.23913 0.32468 0.31363 0.39216 1.00000 "
      ]
     },
     "metadata": {},
     "output_type": "display_data"
    }
   ],
   "source": [
    "summary(CBTTC_data_maf$t_VAF)"
   ]
  },
  {
   "cell_type": "code",
   "execution_count": 29,
   "metadata": {},
   "outputs": [],
   "source": [
    "CBTTC_data_maf$Tumor_Sample_Barcode <- as.character(CBTTC_data_maf$Tumor_Sample_Barcode)"
   ]
  },
  {
   "cell_type": "code",
   "execution_count": 30,
   "metadata": {},
   "outputs": [
    {
     "data": {
      "text/plain": [
       "\n",
       "  Frame_Shift_Del   Frame_Shift_Ins      In_Frame_Del      In_Frame_Ins \n",
       "              845               769               160                30 \n",
       "Missense_Mutation Nonsense_Mutation  Nonstop_Mutation \n",
       "            50771              2840                25 "
      ]
     },
     "metadata": {},
     "output_type": "display_data"
    }
   ],
   "source": [
    "table(CBTTC_data_maf$Variant_Classification)"
   ]
  },
  {
   "cell_type": "code",
   "execution_count": 31,
   "metadata": {},
   "outputs": [],
   "source": [
    "CBTTC_data_maf_sampleid <- merge(CBTTC_mafsummary[,c(\"sample_id\", \"Tumor_Sample_Barcode\")], \n",
    "                                 CBTTC_data_maf, by = \"Tumor_Sample_Barcode\")"
   ]
  },
  {
   "cell_type": "code",
   "execution_count": 32,
   "metadata": {},
   "outputs": [
    {
     "data": {
      "text/html": [
       "796"
      ],
      "text/latex": [
       "796"
      ],
      "text/markdown": [
       "796"
      ],
      "text/plain": [
       "[1] 796"
      ]
     },
     "metadata": {},
     "output_type": "display_data"
    }
   ],
   "source": [
    "length(unique(CBTTC_data_maf_sampleid$Tumor_Sample_Barcode))"
   ]
  },
  {
   "cell_type": "markdown",
   "metadata": {},
   "source": [
    "Subset  snv dfs to include only samples in estimate df"
   ]
  },
  {
   "cell_type": "code",
   "execution_count": 33,
   "metadata": {},
   "outputs": [],
   "source": [
    "CBTTC_data_maf <- CBTTC_data_maf_sampleid[CBTTC_data_maf_sampleid$sample_id %in% ped_tmb_IC$sample_id,]"
   ]
  },
  {
   "cell_type": "code",
   "execution_count": 34,
   "metadata": {},
   "outputs": [
    {
     "data": {
      "text/html": [
       "470"
      ],
      "text/latex": [
       "470"
      ],
      "text/markdown": [
       "470"
      ],
      "text/plain": [
       "[1] 470"
      ]
     },
     "metadata": {},
     "output_type": "display_data"
    }
   ],
   "source": [
    "length(unique(CBTTC_data_maf$Tumor_Sample_Barcode))"
   ]
  },
  {
   "cell_type": "code",
   "execution_count": 35,
   "metadata": {},
   "outputs": [],
   "source": [
    "CBTTC_data_maf_kb <- CBTTC_data_maf[grepl(\"oncogenic\", CBTTC_data_maf$oncogenic,ignore.case = T),]"
   ]
  },
  {
   "cell_type": "markdown",
   "metadata": {},
   "source": [
    "### DKFZ"
   ]
  },
  {
   "cell_type": "code",
   "execution_count": 36,
   "metadata": {},
   "outputs": [],
   "source": [
    "DKFZ_maf <- read.table(file = paste0(datapath, \"snv/dkfz_mafKB.maf\"),\n",
    "                        sep = \"\\t\", check.names = F,\n",
    "                        header = TRUE, comment.char = \"\",stringsAsFactors = FALSE)"
   ]
  },
  {
   "cell_type": "code",
   "execution_count": 37,
   "metadata": {},
   "outputs": [
    {
     "data": {
      "text/plain": [
       "\n",
       "    frameshift deletion    frameshift insertion  nonframeshift deletion \n",
       "                    600                     330                     150 \n",
       "nonframeshift insertion       nonsynonymous SNV                splicing \n",
       "                     42                   18871                      59 \n",
       "               stopgain            stopgain SNV            stoploss SNV \n",
       "                     16                    1222                       4 \n",
       "         synonymous SNV \n",
       "                    424 "
      ]
     },
     "metadata": {},
     "output_type": "display_data"
    }
   ],
   "source": [
    "table(DKFZ_maf$variant_classification)"
   ]
  },
  {
   "cell_type": "code",
   "execution_count": 38,
   "metadata": {},
   "outputs": [],
   "source": [
    "DKFZ_maf_nsyn <- DKFZ_maf[!DKFZ_maf$variant_classification %in% c(\"splicing\", \"unknown\", \"synonymous SNV\"),]"
   ]
  },
  {
   "cell_type": "code",
   "execution_count": 39,
   "metadata": {},
   "outputs": [],
   "source": [
    "colnames(DKFZ_maf_nsyn)[colnames(DKFZ_maf_nsyn) == \"Tumor_Sample_Barcode\"] <- \"sample_id\""
   ]
  },
  {
   "cell_type": "code",
   "execution_count": 40,
   "metadata": {},
   "outputs": [
    {
     "data": {
      "text/html": [
       "<style>\n",
       ".list-inline {list-style: none; margin:0; padding: 0}\n",
       ".list-inline>li {display: inline-block}\n",
       ".list-inline>li:not(:last-child)::after {content: \"\\00b7\"; padding: 0 .5ex}\n",
       "</style>\n",
       "<ol class=list-inline><li>21718</li><li>17</li></ol>\n"
      ],
      "text/latex": [
       "\\begin{enumerate*}\n",
       "\\item 21718\n",
       "\\item 17\n",
       "\\end{enumerate*}\n"
      ],
      "text/markdown": [
       "1. 21718\n",
       "2. 17\n",
       "\n",
       "\n"
      ],
      "text/plain": [
       "[1] 21718    17"
      ]
     },
     "metadata": {},
     "output_type": "display_data"
    },
    {
     "data": {
      "text/html": [
       "<style>\n",
       ".list-inline {list-style: none; margin:0; padding: 0}\n",
       ".list-inline>li {display: inline-block}\n",
       ".list-inline>li:not(:last-child)::after {content: \"\\00b7\"; padding: 0 .5ex}\n",
       "</style>\n",
       "<ol class=list-inline><li>21235</li><li>17</li></ol>\n"
      ],
      "text/latex": [
       "\\begin{enumerate*}\n",
       "\\item 21235\n",
       "\\item 17\n",
       "\\end{enumerate*}\n"
      ],
      "text/markdown": [
       "1. 21235\n",
       "2. 17\n",
       "\n",
       "\n"
      ],
      "text/plain": [
       "[1] 21235    17"
      ]
     },
     "metadata": {},
     "output_type": "display_data"
    }
   ],
   "source": [
    "dim(DKFZ_maf)\n",
    "dim(DKFZ_maf_nsyn)"
   ]
  },
  {
   "cell_type": "code",
   "execution_count": 41,
   "metadata": {},
   "outputs": [],
   "source": [
    "colnames(DKFZ_maf)[colnames(DKFZ_maf) == \"Tumor_Sample_Barcode\"] <- \"sample_id\""
   ]
  },
  {
   "cell_type": "code",
   "execution_count": 42,
   "metadata": {},
   "outputs": [],
   "source": [
    "DKFZ_maf_kb <- DKFZ_maf[grepl(\"oncogenic\", DKFZ_maf$oncogenic,\n",
    "                                                ignore.case = T),]"
   ]
  },
  {
   "cell_type": "code",
   "execution_count": 43,
   "metadata": {},
   "outputs": [
    {
     "data": {
      "text/html": [
       "<style>\n",
       ".list-inline {list-style: none; margin:0; padding: 0}\n",
       ".list-inline>li {display: inline-block}\n",
       ".list-inline>li:not(:last-child)::after {content: \"\\00b7\"; padding: 0 .5ex}\n",
       "</style>\n",
       "<ol class=list-inline><li>21718</li><li>17</li></ol>\n"
      ],
      "text/latex": [
       "\\begin{enumerate*}\n",
       "\\item 21718\n",
       "\\item 17\n",
       "\\end{enumerate*}\n"
      ],
      "text/markdown": [
       "1. 21718\n",
       "2. 17\n",
       "\n",
       "\n"
      ],
      "text/plain": [
       "[1] 21718    17"
      ]
     },
     "metadata": {},
     "output_type": "display_data"
    },
    {
     "data": {
      "text/html": [
       "<style>\n",
       ".list-inline {list-style: none; margin:0; padding: 0}\n",
       ".list-inline>li {display: inline-block}\n",
       ".list-inline>li:not(:last-child)::after {content: \"\\00b7\"; padding: 0 .5ex}\n",
       "</style>\n",
       "<ol class=list-inline><li>481</li><li>17</li></ol>\n"
      ],
      "text/latex": [
       "\\begin{enumerate*}\n",
       "\\item 481\n",
       "\\item 17\n",
       "\\end{enumerate*}\n"
      ],
      "text/markdown": [
       "1. 481\n",
       "2. 17\n",
       "\n",
       "\n"
      ],
      "text/plain": [
       "[1] 481  17"
      ]
     },
     "metadata": {},
     "output_type": "display_data"
    }
   ],
   "source": [
    "dim(DKFZ_maf)\n",
    "dim(DKFZ_maf_kb)"
   ]
  },
  {
   "cell_type": "markdown",
   "metadata": {},
   "source": [
    "### TARGET"
   ]
  },
  {
   "cell_type": "code",
   "execution_count": 44,
   "metadata": {},
   "outputs": [],
   "source": [
    "mymaf_gdc <- read.maf(maf =  paste0(datapath, \"snv/GDC_allmaf_3VAF_fl_dedup_sampleid_KB.maf\"),\n",
    "                      useAll = TRUE, verbose = FALSE,\n",
    "                      vc_nonSyn = c(\"Frame_Shift_Del\", \"Frame_Shift_Ins\", \n",
    "                                    \"Nonsense_Mutation\",\"Nonstop_Mutation\", \n",
    "                                    \"In_Frame_Del\",\"In_Frame_Ins\", \n",
    "                                    \"Missense_Mutation\"))"
   ]
  },
  {
   "cell_type": "code",
   "execution_count": 45,
   "metadata": {},
   "outputs": [],
   "source": [
    "mymaf_gdc_data<- mymaf_gdc@data"
   ]
  },
  {
   "cell_type": "code",
   "execution_count": 46,
   "metadata": {},
   "outputs": [
    {
     "data": {
      "text/html": [
       "2749"
      ],
      "text/latex": [
       "2749"
      ],
      "text/markdown": [
       "2749"
      ],
      "text/plain": [
       "[1] 2749"
      ]
     },
     "metadata": {},
     "output_type": "display_data"
    }
   ],
   "source": [
    "length(unique(mymaf_gdc_data$Tumor_Sample_Barcode))"
   ]
  },
  {
   "cell_type": "code",
   "execution_count": 47,
   "metadata": {},
   "outputs": [],
   "source": [
    "mymaf_gdc_data$Tumor_Sample_Barcode <- as.character(mymaf_gdc_data$Tumor_Sample_Barcode)"
   ]
  },
  {
   "cell_type": "code",
   "execution_count": 48,
   "metadata": {},
   "outputs": [
    {
     "data": {
      "text/plain": [
       "\n",
       "  Frame_Shift_Del   Frame_Shift_Ins      In_Frame_Del      In_Frame_Ins \n",
       "            17243             10161              1306              1752 \n",
       "Missense_Mutation Nonsense_Mutation  Nonstop_Mutation \n",
       "           288342             21973               264 "
      ]
     },
     "metadata": {},
     "output_type": "display_data"
    }
   ],
   "source": [
    "table(mymaf_gdc_data$Variant_Classification)"
   ]
  },
  {
   "cell_type": "markdown",
   "metadata": {},
   "source": [
    "subset to TARGET data and match with total_mut_manifest_estimate_quanti"
   ]
  },
  {
   "cell_type": "code",
   "execution_count": 49,
   "metadata": {},
   "outputs": [],
   "source": [
    "mymaf_target_data <- mymaf_gdc_data[grepl(\"TARGET\", mymaf_gdc_data$Tumor_Sample_Barcode),]"
   ]
  },
  {
   "cell_type": "code",
   "execution_count": 50,
   "metadata": {},
   "outputs": [
    {
     "data": {
      "text/html": [
       "131"
      ],
      "text/latex": [
       "131"
      ],
      "text/markdown": [
       "131"
      ],
      "text/plain": [
       "[1] 131"
      ]
     },
     "metadata": {},
     "output_type": "display_data"
    }
   ],
   "source": [
    "length(unique(mymaf_target_data$Tumor_Sample_Barcode))"
   ]
  },
  {
   "cell_type": "code",
   "execution_count": 51,
   "metadata": {},
   "outputs": [],
   "source": [
    "mymaf_target_data <- mymaf_target_data[mymaf_target_data$Tumor_Sample_Barcode %in% \n",
    "                                       ped_tmb_IC$sample_id,]"
   ]
  },
  {
   "cell_type": "code",
   "execution_count": 52,
   "metadata": {},
   "outputs": [],
   "source": [
    "colnames(mymaf_target_data)[colnames(mymaf_target_data) == \"Tumor_Sample_Barcode\"] <- \"sample_id\""
   ]
  },
  {
   "cell_type": "code",
   "execution_count": 53,
   "metadata": {},
   "outputs": [],
   "source": [
    "mymaf_target_data_kb <- mymaf_target_data[ grepl(\"oncogenic\", mymaf_target_data$oncogenic,\n",
    "                                                ignore.case = T),]"
   ]
  },
  {
   "cell_type": "code",
   "execution_count": 54,
   "metadata": {},
   "outputs": [],
   "source": [
    "colnames(mymaf_target_data_kb)[colnames(mymaf_target_data_kb) == \"Tumor_Sample_Barcode\"] <- \"sample_id\""
   ]
  },
  {
   "cell_type": "code",
   "execution_count": 55,
   "metadata": {},
   "outputs": [
    {
     "data": {
      "text/html": [
       "<style>\n",
       ".list-inline {list-style: none; margin:0; padding: 0}\n",
       ".list-inline>li {display: inline-block}\n",
       ".list-inline>li:not(:last-child)::after {content: \"\\00b7\"; padding: 0 .5ex}\n",
       "</style>\n",
       "<ol class=list-inline><li>1888</li><li>156</li></ol>\n"
      ],
      "text/latex": [
       "\\begin{enumerate*}\n",
       "\\item 1888\n",
       "\\item 156\n",
       "\\end{enumerate*}\n"
      ],
      "text/markdown": [
       "1. 1888\n",
       "2. 156\n",
       "\n",
       "\n"
      ],
      "text/plain": [
       "[1] 1888  156"
      ]
     },
     "metadata": {},
     "output_type": "display_data"
    },
    {
     "data": {
      "text/html": [
       "<style>\n",
       ".list-inline {list-style: none; margin:0; padding: 0}\n",
       ".list-inline>li {display: inline-block}\n",
       ".list-inline>li:not(:last-child)::after {content: \"\\00b7\"; padding: 0 .5ex}\n",
       "</style>\n",
       "<ol class=list-inline><li>19</li><li>156</li></ol>\n"
      ],
      "text/latex": [
       "\\begin{enumerate*}\n",
       "\\item 19\n",
       "\\item 156\n",
       "\\end{enumerate*}\n"
      ],
      "text/markdown": [
       "1. 19\n",
       "2. 156\n",
       "\n",
       "\n"
      ],
      "text/plain": [
       "[1]  19 156"
      ]
     },
     "metadata": {},
     "output_type": "display_data"
    }
   ],
   "source": [
    "dim(mymaf_target_data)\n",
    "dim(mymaf_target_data_kb)"
   ]
  },
  {
   "cell_type": "code",
   "execution_count": 56,
   "metadata": {},
   "outputs": [
    {
     "data": {
      "text/html": [
       "<style>\n",
       ".list-inline {list-style: none; margin:0; padding: 0}\n",
       ".list-inline>li {display: inline-block}\n",
       ".list-inline>li:not(:last-child)::after {content: \"\\00b7\"; padding: 0 .5ex}\n",
       "</style>\n",
       "<ol class=list-inline><li>20087</li><li>163</li></ol>\n"
      ],
      "text/latex": [
       "\\begin{enumerate*}\n",
       "\\item 20087\n",
       "\\item 163\n",
       "\\end{enumerate*}\n"
      ],
      "text/markdown": [
       "1. 20087\n",
       "2. 163\n",
       "\n",
       "\n"
      ],
      "text/plain": [
       "[1] 20087   163"
      ]
     },
     "metadata": {},
     "output_type": "display_data"
    },
    {
     "data": {
      "text/html": [
       "<style>\n",
       ".list-inline {list-style: none; margin:0; padding: 0}\n",
       ".list-inline>li {display: inline-block}\n",
       ".list-inline>li:not(:last-child)::after {content: \"\\00b7\"; padding: 0 .5ex}\n",
       "</style>\n",
       "<ol class=list-inline><li>324</li><li>163</li></ol>\n"
      ],
      "text/latex": [
       "\\begin{enumerate*}\n",
       "\\item 324\n",
       "\\item 163\n",
       "\\end{enumerate*}\n"
      ],
      "text/markdown": [
       "1. 324\n",
       "2. 163\n",
       "\n",
       "\n"
      ],
      "text/plain": [
       "[1] 324 163"
      ]
     },
     "metadata": {},
     "output_type": "display_data"
    }
   ],
   "source": [
    "dim(CBTTC_data_maf)\n",
    "dim(CBTTC_data_maf_kb)"
   ]
  },
  {
   "cell_type": "markdown",
   "metadata": {},
   "source": [
    "## all nonsyn mutated genes"
   ]
  },
  {
   "cell_type": "code",
   "execution_count": 57,
   "metadata": {},
   "outputs": [],
   "source": [
    "dkfz_allmut <- as.data.frame(table(DKFZ_maf$Hugo_Symbol), stringsAsFactors = F)\n",
    "cbttc_allmut <- as.data.frame(table(CBTTC_data_maf$Hugo_Symbol), stringsAsFactors = F)\n",
    "target_allmut <- as.data.frame(table(mymaf_target_data$Hugo_Symbol), stringsAsFactors = F)"
   ]
  },
  {
   "cell_type": "code",
   "execution_count": 58,
   "metadata": {},
   "outputs": [],
   "source": [
    "mutated_genes_all <- c(dkfz_allmut$Var1,cbttc_allmut$Var1,target_allmut$Var1)"
   ]
  },
  {
   "cell_type": "code",
   "execution_count": 59,
   "metadata": {},
   "outputs": [],
   "source": [
    "allmutated_genes <- mutated_genes_all[!duplicated(mutated_genes_all)]"
   ]
  },
  {
   "cell_type": "code",
   "execution_count": 60,
   "metadata": {},
   "outputs": [
    {
     "data": {
      "text/html": [
       "12100"
      ],
      "text/latex": [
       "12100"
      ],
      "text/markdown": [
       "12100"
      ],
      "text/plain": [
       "[1] 12100"
      ]
     },
     "metadata": {},
     "output_type": "display_data"
    }
   ],
   "source": [
    "length(allmutated_genes)"
   ]
  },
  {
   "cell_type": "code",
   "execution_count": 61,
   "metadata": {},
   "outputs": [
    {
     "data": {
      "text/plain": [
       "\n",
       "   SB    WB \n",
       " 7591 21680 "
      ]
     },
     "metadata": {},
     "output_type": "display_data"
    }
   ],
   "source": [
    "table(all.mupexi$Mut_MHCbinder)"
   ]
  },
  {
   "cell_type": "markdown",
   "metadata": {},
   "source": [
    "# Strong binders in each cohort"
   ]
  },
  {
   "cell_type": "code",
   "execution_count": 62,
   "metadata": {},
   "outputs": [
    {
     "data": {
      "text/plain": [
       "\n",
       "     SB      WB    <NA> \n",
       "   7591   21680 1546095 "
      ]
     },
     "metadata": {},
     "output_type": "display_data"
    }
   ],
   "source": [
    "table(all.mupexi$Mut_MHCbinder, useNA = \"always\")"
   ]
  },
  {
   "cell_type": "code",
   "execution_count": 63,
   "metadata": {},
   "outputs": [],
   "source": [
    "bindersamples <- all.mupexi[all.mupexi$Mut_MHCbinder == \"SB\",]"
   ]
  },
  {
   "cell_type": "code",
   "execution_count": 64,
   "metadata": {},
   "outputs": [],
   "source": [
    "metadata_IC_SB <- metadata_IC[ metadata_IC$sample_id %in% bindersamples$sample_id,]"
   ]
  },
  {
   "cell_type": "code",
   "execution_count": 65,
   "metadata": {},
   "outputs": [
    {
     "data": {
      "text/html": [
       "<style>\n",
       ".list-inline {list-style: none; margin:0; padding: 0}\n",
       ".list-inline>li {display: inline-block}\n",
       ".list-inline>li:not(:last-child)::after {content: \"\\00b7\"; padding: 0 .5ex}\n",
       "</style>\n",
       "<ol class=list-inline><li>459</li><li>24</li></ol>\n"
      ],
      "text/latex": [
       "\\begin{enumerate*}\n",
       "\\item 459\n",
       "\\item 24\n",
       "\\end{enumerate*}\n"
      ],
      "text/markdown": [
       "1. 459\n",
       "2. 24\n",
       "\n",
       "\n"
      ],
      "text/plain": [
       "[1] 459  24"
      ]
     },
     "metadata": {},
     "output_type": "display_data"
    }
   ],
   "source": [
    "dim(metadata_IC_SB)"
   ]
  },
  {
   "cell_type": "code",
   "execution_count": 66,
   "metadata": {},
   "outputs": [],
   "source": [
    "tmp <- as.data.frame(table(bindersamples$sample_id), stringsAsFactors = F)"
   ]
  },
  {
   "cell_type": "code",
   "execution_count": 67,
   "metadata": {},
   "outputs": [],
   "source": [
    "metadata_IC_SB$binders <- NA\n",
    "\n",
    "for(i in 1:nrow(tmp)){\n",
    "    metadata_IC_SB$binders[match(tmp$Var1[i],metadata_IC_SB$sample_id)] <- tmp$Freq[i]   \n",
    "}"
   ]
  },
  {
   "cell_type": "code",
   "execution_count": 68,
   "metadata": {},
   "outputs": [],
   "source": [
    "mymed <- lapply(unique(metadata_IC_SB$cohort), function(x){\n",
    "    median(metadata_IC_SB$binders[ metadata_IC_SB$cohort == x])})\n",
    "\n",
    "names(mymed) <- unique(metadata_IC_SB$cohort)"
   ]
  },
  {
   "cell_type": "code",
   "execution_count": 69,
   "metadata": {},
   "outputs": [],
   "source": [
    "metadata_IC_SB$cohort <- factor(metadata_IC_SB$cohort,\n",
    "                             levels = names(mymed[order(unlist(mymed))]))"
   ]
  },
  {
   "cell_type": "code",
   "execution_count": 70,
   "metadata": {},
   "outputs": [],
   "source": [
    "SB_plot <- ggplot(metadata_IC_SB, aes(x = cohort, y = binders, fill = cohort)) +  \n",
    "geom_boxplot() + myplot + \n",
    "theme(axis.title.y = element_text(size = 25),\n",
    "      axis.title.x = element_blank(),\n",
    "      axis.line = element_line(color = \"black\"),\n",
    "      axis.text.x = element_text(size = 30, angle = 45, hjust = 1, color = \"black\"),\n",
    "      axis.text.y = element_text(size = 30, color = \"black\"),\n",
    "     legend.position = \"none\") +\n",
    "scale_fill_manual(values = cohort_col) +\n",
    "scale_y_continuous(trans = \"log10\") +annotation_logticks(sides = \"l\")+\n",
    "labs(y = paste0(\"Number of strong binding peptides\"))"
   ]
  },
  {
   "cell_type": "code",
   "execution_count": 71,
   "metadata": {},
   "outputs": [
    {
     "data": {
      "image/png": "[encoded data removed]",
      "text/plain": [
       "plot without title"
      ]
     },
     "metadata": {
      "image/png": {
       "height": 420,
       "width": 420
      }
     },
     "output_type": "display_data"
    }
   ],
   "source": [
    "SB_plot"
   ]
  },
  {
   "cell_type": "code",
   "execution_count": 72,
   "metadata": {},
   "outputs": [
    {
     "data": {
      "text/plain": [
       "\n",
       "Call:\n",
       "aov(formula = binders ~ immune_cluster + cohort, data = metadata_IC_SB)\n",
       "\n",
       "Residuals:\n",
       "   Min     1Q Median     3Q    Max \n",
       "-59.71 -10.02  -2.02   4.12 844.12 \n",
       "\n",
       "Coefficients:\n",
       "                              Estimate Std. Error t value Pr(>|t|)   \n",
       "(Intercept)                    -3.2172    19.8087  -0.162  0.87106   \n",
       "immune_clusterMyeloid-driven   13.1010     8.0425   1.629  0.10403   \n",
       "immune_clusterPediatric cold    2.9302     8.2007   0.357  0.72103   \n",
       "immune_clusterImmune excluded  -0.7832     8.8795  -0.088  0.92975   \n",
       "cohortpedLGG                    2.1344    20.0371   0.107  0.91521   \n",
       "cohortEPN                       4.9734    21.2268   0.234  0.81486   \n",
       "cohortCP                        6.0126    25.0711   0.240  0.81058   \n",
       "cohortETMR                      7.6437    39.1952   0.195  0.84547   \n",
       "cohortNFB                       3.1595    26.4388   0.120  0.90493   \n",
       "cohortMNG                       4.9656    25.0867   0.198  0.84319   \n",
       "cohortATRT                     15.4064    22.8724   0.674  0.50093   \n",
       "cohortSCHW                      7.7768    28.7804   0.270  0.78712   \n",
       "cohortMB                       18.3625    20.8798   0.879  0.37964   \n",
       "cohortpedHGG                   60.9964    21.4601   2.842  0.00469 **\n",
       "cohortNBL                      24.8963    20.2581   1.229  0.21974   \n",
       "---\n",
       "Signif. codes:  0 ‘***’ 0.001 ‘**’ 0.01 ‘*’ 0.05 ‘.’ 0.1 ‘ ’ 1\n",
       "\n",
       "Residual standard error: 47.51 on 444 degrees of freedom\n",
       "Multiple R-squared:  0.1049,\tAdjusted R-squared:  0.07671 \n",
       "F-statistic: 3.718 on 14 and 444 DF,  p-value: 0.000006402\n"
      ]
     },
     "metadata": {},
     "output_type": "display_data"
    }
   ],
   "source": [
    "binders_fit <- aov(binders ~ immune_cluster + cohort, metadata_IC_SB)\n",
    "summary.lm(binders_fit)"
   ]
  },
  {
   "cell_type": "code",
   "execution_count": 73,
   "metadata": {},
   "outputs": [
    {
     "data": {
      "image/png": "[encoded data removed]",
      "text/plain": [
       "plot without title"
      ]
     },
     "metadata": {
      "image/png": {
       "height": 420,
       "width": 420
      }
     },
     "output_type": "display_data"
    }
   ],
   "source": [
    "binderplot <- ggplot(data = metadata_IC_SB, aes(x = immune_cluster, y = binders, fill = immune_cluster)) + \n",
    "geom_violin() + geom_boxplot(width = 0.1, outlier.colour = NA) + myplot +\n",
    "theme(axis.title.y = element_text(size = 30),\n",
    "      axis.title.x = element_blank(),\n",
    "      axis.line = element_line(color = \"black\"),\n",
    "      axis.text.x = element_text(angle = 45, hjust = 1, size = 30, color = \"black\"),\n",
    "      axis.text.y = element_text(size = 30, color = \"black\"),\n",
    "      plot.title = element_text( hjust = 0.5, size = 30),\n",
    "     legend.position = \"none\") +\n",
    "scale_fill_manual(values = cluster_col) +\n",
    "scale_y_continuous(trans = \"log10\") +annotation_logticks(sides = \"l\")+\n",
    "labs(y = paste0(\"Number of strong binding peptides\"))\n",
    "\n",
    "binderplot "
   ]
  },
  {
   "cell_type": "code",
   "execution_count": 74,
   "metadata": {},
   "outputs": [
    {
     "data": {
      "text/html": [
       "<style>\n",
       ".list-inline {list-style: none; margin:0; padding: 0}\n",
       ".list-inline>li {display: inline-block}\n",
       ".list-inline>li:not(:last-child)::after {content: \"\\00b7\"; padding: 0 .5ex}\n",
       "</style>\n",
       "<ol class=list-inline><li>459</li><li>25</li></ol>\n"
      ],
      "text/latex": [
       "\\begin{enumerate*}\n",
       "\\item 459\n",
       "\\item 25\n",
       "\\end{enumerate*}\n"
      ],
      "text/markdown": [
       "1. 459\n",
       "2. 25\n",
       "\n",
       "\n"
      ],
      "text/plain": [
       "[1] 459  25"
      ]
     },
     "metadata": {},
     "output_type": "display_data"
    }
   ],
   "source": [
    "dim(metadata_IC_SB)"
   ]
  },
  {
   "cell_type": "code",
   "execution_count": 75,
   "metadata": {},
   "outputs": [
    {
     "data": {
      "text/html": [
       "<strong>pdf:</strong> 2"
      ],
      "text/latex": [
       "\\textbf{pdf:} 2"
      ],
      "text/markdown": [
       "**pdf:** 2"
      ],
      "text/plain": [
       "pdf \n",
       "  2 "
      ]
     },
     "metadata": {},
     "output_type": "display_data"
    }
   ],
   "source": [
    "pdf(file = paste0(plotpath,\"Immune_clusters_SB.pdf\"),\n",
    "    width = 10, \n",
    "    height = 10,\n",
    "    useDingbats = FALSE)\n",
    "binderplot + ggtitle(~underline(\"pedNST (n = 459)\"))\n",
    "dev.off()"
   ]
  },
  {
   "cell_type": "code",
   "execution_count": 76,
   "metadata": {},
   "outputs": [],
   "source": [
    "hgg <- metadata_IC_SB[ metadata_IC_SB$cohort == \"pedHGG\",]"
   ]
  },
  {
   "cell_type": "code",
   "execution_count": 77,
   "metadata": {},
   "outputs": [
    {
     "data": {
      "text/plain": [
       "\n",
       "\tPairwise comparisons using t tests with pooled SD \n",
       "\n",
       "data:  metadata_IC_SB$binders[metadata_IC_SB$cohort == \"pedHGG\"] and metadata_IC_SB$immune_cluster[metadata_IC_SB$cohort == \"pedHGG\"] \n",
       "\n",
       "                Pediatric inflamed Myeloid-driven Pediatric cold\n",
       "Myeloid-driven  0.115              -              -             \n",
       "Pediatric cold  0.806              0.020          -             \n",
       "Immune excluded 0.976              0.026          0.720         \n",
       "\n",
       "P value adjustment method: none "
      ]
     },
     "metadata": {},
     "output_type": "display_data"
    }
   ],
   "source": [
    "pairwise.t.test(metadata_IC_SB$binders[metadata_IC_SB$cohort == \"pedHGG\"],\n",
    "metadata_IC_SB$immune_cluster[metadata_IC_SB$cohort == \"pedHGG\"],\n",
    "                p.adjust = \"none\")"
   ]
  },
  {
   "cell_type": "code",
   "execution_count": 78,
   "metadata": {},
   "outputs": [
    {
     "data": {
      "text/html": [
       "<style>\n",
       ".list-inline {list-style: none; margin:0; padding: 0}\n",
       ".list-inline>li {display: inline-block}\n",
       ".list-inline>li:not(:last-child)::after {content: \"\\00b7\"; padding: 0 .5ex}\n",
       "</style>\n",
       "<ol class=list-inline><li>35</li><li>25</li></ol>\n"
      ],
      "text/latex": [
       "\\begin{enumerate*}\n",
       "\\item 35\n",
       "\\item 25\n",
       "\\end{enumerate*}\n"
      ],
      "text/markdown": [
       "1. 35\n",
       "2. 25\n",
       "\n",
       "\n"
      ],
      "text/plain": [
       "[1] 35 25"
      ]
     },
     "metadata": {},
     "output_type": "display_data"
    }
   ],
   "source": [
    "dim(hgg)"
   ]
  },
  {
   "cell_type": "code",
   "execution_count": 79,
   "metadata": {},
   "outputs": [
    {
     "name": "stderr",
     "output_type": "stream",
     "text": [
      "Warning message in wilcox.test.default(c(1.32221929473392, 1.68124123737559, 1.34242268082221, :\n",
      "“cannot compute exact p-value with ties”\n",
      "Warning message in wilcox.test.default(c(1.32221929473392, 1.68124123737559, 1.34242268082221, :\n",
      "“cannot compute exact p-value with ties”\n"
     ]
    },
    {
     "data": {
      "image/png": "[encoded data removed]",
      "text/plain": [
       "plot without title"
      ]
     },
     "metadata": {
      "image/png": {
       "height": 420,
       "width": 420
      }
     },
     "output_type": "display_data"
    }
   ],
   "source": [
    "hggplot <- ggplot(data = hgg, aes(x = immune_cluster, y = binders, fill = immune_cluster)) + \n",
    "geom_boxplot(outlier.colour = NA) + geom_beeswarm(cex = 3, size = 5) + myplot +\n",
    "theme(axis.title.y = element_text(size = 30),\n",
    "      axis.title.x = element_blank(),\n",
    "      plot.title = element_text(size = 30, hjust = 0.5),\n",
    "      axis.line = element_line(color = \"black\"),\n",
    "      axis.text.x = element_text(angle = 45, hjust = 1,size = 30, color = \"black\"),\n",
    "      axis.text.y = element_text(size = 30, color = \"black\"),\n",
    "     legend.position = \"none\") +\n",
    "scale_fill_manual(values = cluster_col) +\n",
    "scale_y_continuous(trans = \"log10\") +annotation_logticks(sides = \"l\")+\n",
    "labs(y = paste0(\"Number of strong binding peptides\")) +\n",
    "geom_signif(comparisons = list(c(\"Myeloid-driven\", \"Pediatric cold\")), y_position = 3.1,\n",
    "                     map_signif_level=TRUE, textsize = 20, test = \"wilcox.test\", vjust = 0.5) +\n",
    "geom_signif(comparisons = list(c(\"Myeloid-driven\", \"Immune excluded\")), y_position = 3.5,\n",
    "                     map_signif_level=TRUE, textsize = 20, test = \"wilcox.test\", vjust = 0.5)\n",
    "\n",
    "hggplot "
   ]
  },
  {
   "cell_type": "code",
   "execution_count": 80,
   "metadata": {},
   "outputs": [
    {
     "name": "stderr",
     "output_type": "stream",
     "text": [
      "Warning message in wilcox.test.default(c(1.32221929473392, 1.68124123737559, 1.34242268082221, :\n",
      "“cannot compute exact p-value with ties”\n",
      "Warning message in wilcox.test.default(c(1.32221929473392, 1.68124123737559, 1.34242268082221, :\n",
      "“cannot compute exact p-value with ties”\n"
     ]
    },
    {
     "data": {
      "text/html": [
       "<strong>pdf:</strong> 2"
      ],
      "text/latex": [
       "\\textbf{pdf:} 2"
      ],
      "text/markdown": [
       "**pdf:** 2"
      ],
      "text/plain": [
       "pdf \n",
       "  2 "
      ]
     },
     "metadata": {},
     "output_type": "display_data"
    }
   ],
   "source": [
    "pdf(file = paste0(plotpath,\"Immune_clusters_SB_pedHGG.pdf\"),\n",
    "    width = 10, \n",
    "    height = 10,\n",
    "    useDingbats = FALSE)\n",
    "hggplot + ggtitle(~underline(\"pedHGG (n = 35)\"))\n",
    "dev.off()"
   ]
  },
  {
   "cell_type": "markdown",
   "metadata": {},
   "source": [
    "# Presentation score"
   ]
  },
  {
   "cell_type": "code",
   "execution_count": 81,
   "metadata": {},
   "outputs": [],
   "source": [
    "#only one mismatch\n",
    "onemis_mupexi <- all.mupexi[ all.mupexi$Mismatches == 1,]"
   ]
  },
  {
   "cell_type": "code",
   "execution_count": 82,
   "metadata": {},
   "outputs": [
    {
     "data": {
      "text/plain": [
       "\n",
       "      0       1       2       3       4       5 \n",
       " 101667 1141300  137512  126593   65213    3081 "
      ]
     },
     "metadata": {},
     "output_type": "display_data"
    }
   ],
   "source": [
    "table(all.mupexi$Mismatches)"
   ]
  },
  {
   "cell_type": "code",
   "execution_count": 98,
   "metadata": {},
   "outputs": [],
   "source": [
    "?write.table"
   ]
  },
  {
   "cell_type": "code",
   "execution_count": 97,
   "metadata": {},
   "outputs": [
    {
     "data": {
      "text/html": [
       "<table class=\"dataframe\">\n",
       "<caption>A data.frame: 100 × 25</caption>\n",
       "<thead>\n",
       "\t<tr><th></th><th scope=col>HLA_allele</th><th scope=col>Norm_peptide</th><th scope=col>Norm_MHCrank_EL</th><th scope=col>Norm_MHCscore_EL</th><th scope=col>Norm_MHCaffinity</th><th scope=col>Norm_MHCrank_BA</th><th scope=col>Norm_MHCscore_BA</th><th scope=col>Mut_peptide</th><th scope=col>Mut_MHCrank_EL</th><th scope=col>Mut_MHCscore_EL</th><th scope=col>⋯</th><th scope=col>Amino_Acid_Change</th><th scope=col>Allele_Frequency</th><th scope=col>Mismatches</th><th scope=col>peptide_position</th><th scope=col>Chr</th><th scope=col>Genomic_Position</th><th scope=col>Protein_position</th><th scope=col>Mutation_Consequence</th><th scope=col>Gene_Symbol</th><th scope=col>Cancer_Driver_Gene</th></tr>\n",
       "\t<tr><th></th><th scope=col>&lt;chr&gt;</th><th scope=col>&lt;chr&gt;</th><th scope=col>&lt;dbl&gt;</th><th scope=col>&lt;dbl&gt;</th><th scope=col>&lt;dbl&gt;</th><th scope=col>&lt;dbl&gt;</th><th scope=col>&lt;dbl&gt;</th><th scope=col>&lt;chr&gt;</th><th scope=col>&lt;dbl&gt;</th><th scope=col>&lt;dbl&gt;</th><th scope=col>⋯</th><th scope=col>&lt;chr&gt;</th><th scope=col>&lt;chr&gt;</th><th scope=col>&lt;int&gt;</th><th scope=col>&lt;chr&gt;</th><th scope=col>&lt;chr&gt;</th><th scope=col>&lt;chr&gt;</th><th scope=col>&lt;chr&gt;</th><th scope=col>&lt;chr&gt;</th><th scope=col>&lt;chr&gt;</th><th scope=col>&lt;chr&gt;</th></tr>\n",
       "</thead>\n",
       "<tbody>\n",
       "\t<tr><th scope=row>7381</th><td>HLA-B15:02</td><td>APPTRGPPP  </td><td>32.4167</td><td>0.000276</td><td>37281.8</td><td>62.7439</td><td>0.027128</td><td>APPTRGPPP  </td><td>32.4167</td><td>0.000276</td><td>⋯</td><td>P/PX  </td><td>-</td><td>0</td><td>9:9  </td><td>X </td><td>136874412-136874413</td><td>302,174</td><td>F</td><td>RBMX</td><td>No</td></tr>\n",
       "\t<tr><th scope=row>7382</th><td>HLA-B15:01</td><td>APPTRGPPP  </td><td>67.0000</td><td>0.000047</td><td>41264.6</td><td>86.4839</td><td>0.017747</td><td>APPTRGPPP  </td><td>67.0000</td><td>0.000047</td><td>⋯</td><td>P/PX  </td><td>-</td><td>0</td><td>9:9  </td><td>X </td><td>136874412-136874413</td><td>302,174</td><td>F</td><td>RBMX</td><td>No</td></tr>\n",
       "\t<tr><th scope=row>7383</th><td>HLA-A11:01</td><td>APPTRGPPP  </td><td>57.0833</td><td>0.000046</td><td>42153.6</td><td>80.1349</td><td>0.015777</td><td>APPTRGPPP  </td><td>57.0833</td><td>0.000046</td><td>⋯</td><td>P/PX  </td><td>-</td><td>0</td><td>9:9  </td><td>X </td><td>136874412-136874413</td><td>302,174</td><td>F</td><td>RBMX</td><td>No</td></tr>\n",
       "\t<tr><th scope=row>7384</th><td>HLA-C03:03</td><td>APPTRGPPP  </td><td>34.2667</td><td>0.000160</td><td>37735.9</td><td>40.4554</td><td>0.026009</td><td>APPTRGPPP  </td><td>34.2667</td><td>0.000160</td><td>⋯</td><td>P/PX  </td><td>-</td><td>0</td><td>9:9  </td><td>X </td><td>136874412-136874413</td><td>302,174</td><td>F</td><td>RBMX</td><td>No</td></tr>\n",
       "\t<tr><th scope=row>7385</th><td>HLA-A02:01</td><td>APPTRGPPP  </td><td>65.0000</td><td>0.000036</td><td>42610.8</td><td>81.4870</td><td>0.014780</td><td>APPTRGPPP  </td><td>65.0000</td><td>0.000036</td><td>⋯</td><td>P/PX  </td><td>-</td><td>0</td><td>9:9  </td><td>X </td><td>136874412-136874413</td><td>302,174</td><td>F</td><td>RBMX</td><td>No</td></tr>\n",
       "\t<tr><th scope=row>7386</th><td>HLA-C08:01</td><td>SAPPTRGPPP </td><td>53.4615</td><td>0.000031</td><td>41049.5</td><td>44.3978</td><td>0.018230</td><td>SAPPTRGPPP </td><td>53.4615</td><td>0.000031</td><td>⋯</td><td>P/PX  </td><td>-</td><td>0</td><td>10:10</td><td>X </td><td>136874412-136874413</td><td>302,174</td><td>F</td><td>RBMX</td><td>No</td></tr>\n",
       "\t<tr><th scope=row>7387</th><td>HLA-A11:01</td><td>AENDKPHDVEI</td><td>44.2000</td><td>0.000096</td><td>41386.6</td><td>76.2431</td><td>0.017474</td><td>AENDKPHDVEI</td><td>44.2000</td><td>0.000096</td><td>⋯</td><td>INK/IX</td><td>-</td><td>0</td><td>11:11</td><td>20</td><td>58440921-58440925  </td><td>137    </td><td>F</td><td>VAPB</td><td>No</td></tr>\n",
       "\t<tr><th scope=row>7388</th><td>HLA-C08:01</td><td>APPTRGPPP  </td><td>44.1667</td><td>0.000065</td><td>41920.2</td><td>48.1296</td><td>0.016290</td><td>APPTRGPPP  </td><td>44.1667</td><td>0.000065</td><td>⋯</td><td>P/PX  </td><td>-</td><td>0</td><td>9:9  </td><td>X </td><td>136874412-136874413</td><td>302,174</td><td>F</td><td>RBMX</td><td>No</td></tr>\n",
       "\t<tr><th scope=row>7389</th><td>HLA-B15:02</td><td>PPTRGPPP   </td><td>92.5000</td><td>0.000003</td><td>46658.9</td><td>96.5796</td><td>0.006392</td><td>PPTRGPPP   </td><td>92.5000</td><td>0.000003</td><td>⋯</td><td>P/PX  </td><td>-</td><td>0</td><td>8:8  </td><td>X </td><td>136874412-136874413</td><td>302,174</td><td>F</td><td>RBMX</td><td>No</td></tr>\n",
       "\t<tr><th scope=row>7390</th><td>HLA-A11:01</td><td>PPTRGPPP   </td><td>98.3333</td><td>0.000001</td><td>47700.7</td><td>97.4988</td><td>0.004351</td><td>PPTRGPPP   </td><td>98.3333</td><td>0.000001</td><td>⋯</td><td>P/PX  </td><td>-</td><td>0</td><td>8:8  </td><td>X </td><td>136874412-136874413</td><td>302,174</td><td>F</td><td>RBMX</td><td>No</td></tr>\n",
       "\t<tr><th scope=row>7391</th><td>HLA-B15:01</td><td>PPTRGPPP   </td><td>96.6667</td><td>0.000002</td><td>47344.4</td><td>97.7438</td><td>0.005044</td><td>PPTRGPPP   </td><td>96.6667</td><td>0.000002</td><td>⋯</td><td>P/PX  </td><td>-</td><td>0</td><td>8:8  </td><td>X </td><td>136874412-136874413</td><td>302,174</td><td>F</td><td>RBMX</td><td>No</td></tr>\n",
       "\t<tr><th scope=row>7392</th><td>HLA-C03:03</td><td>PPTRGPPP   </td><td>90.0000</td><td>0.000001</td><td>48403.6</td><td>95.2994</td><td>0.002999</td><td>PPTRGPPP   </td><td>90.0000</td><td>0.000001</td><td>⋯</td><td>P/PX  </td><td>-</td><td>0</td><td>8:8  </td><td>X </td><td>136874412-136874413</td><td>302,174</td><td>F</td><td>RBMX</td><td>No</td></tr>\n",
       "\t<tr><th scope=row>7393</th><td>HLA-B15:02</td><td>NDKPHDVEI  </td><td> 9.3652</td><td>0.004685</td><td>32303.8</td><td>44.7744</td><td>0.040374</td><td>NDKPHDVEI  </td><td> 9.3652</td><td>0.004685</td><td>⋯</td><td>INK/IX</td><td>-</td><td>0</td><td>9:9  </td><td>20</td><td>58440921-58440925  </td><td>137    </td><td>F</td><td>VAPB</td><td>No</td></tr>\n",
       "\t<tr><th scope=row>7394</th><td>HLA-B15:01</td><td>DKPHDVEI   </td><td>62.7500</td><td>0.000062</td><td>43607.5</td><td>93.2134</td><td>0.012643</td><td>DKPHDVEI   </td><td>62.7500</td><td>0.000062</td><td>⋯</td><td>INK/IX</td><td>-</td><td>0</td><td>8:8  </td><td>20</td><td>58440921-58440925  </td><td>137    </td><td>F</td><td>VAPB</td><td>No</td></tr>\n",
       "\t<tr><th scope=row>7395</th><td>HLA-C03:03</td><td>DKPHDVEI   </td><td>44.1667</td><td>0.000062</td><td>45618.5</td><td>74.7301</td><td>0.008476</td><td>DKPHDVEI   </td><td>44.1667</td><td>0.000062</td><td>⋯</td><td>INK/IX</td><td>-</td><td>0</td><td>8:8  </td><td>20</td><td>58440921-58440925  </td><td>137    </td><td>F</td><td>VAPB</td><td>No</td></tr>\n",
       "\t<tr><th scope=row>7396</th><td>HLA-A02:01</td><td>DKPHDVEI   </td><td>61.7857</td><td>0.000045</td><td>44319.1</td><td>88.4493</td><td>0.011147</td><td>DKPHDVEI   </td><td>61.7857</td><td>0.000045</td><td>⋯</td><td>INK/IX</td><td>-</td><td>0</td><td>8:8  </td><td>20</td><td>58440921-58440925  </td><td>137    </td><td>F</td><td>VAPB</td><td>No</td></tr>\n",
       "\t<tr><th scope=row>7397</th><td>HLA-C08:01</td><td>DKPHDVEI   </td><td>38.6000</td><td>0.000107</td><td>45951.5</td><td>73.6098</td><td>0.007804</td><td>DKPHDVEI   </td><td>38.6000</td><td>0.000107</td><td>⋯</td><td>INK/IX</td><td>-</td><td>0</td><td>8:8  </td><td>20</td><td>58440921-58440925  </td><td>137    </td><td>F</td><td>VAPB</td><td>No</td></tr>\n",
       "\t<tr><th scope=row>7398</th><td>HLA-C08:01</td><td>NDKPHDVEI  </td><td>16.5369</td><td>0.001357</td><td>39801.3</td><td>39.7903</td><td>0.021084</td><td>NDKPHDVEI  </td><td>16.5369</td><td>0.001357</td><td>⋯</td><td>INK/IX</td><td>-</td><td>0</td><td>9:9  </td><td>20</td><td>58440921-58440925  </td><td>137    </td><td>F</td><td>VAPB</td><td>No</td></tr>\n",
       "\t<tr><th scope=row>7399</th><td>HLA-A02:01</td><td>NDKPHDVEI  </td><td>34.5385</td><td>0.000296</td><td>39576.3</td><td>69.3201</td><td>0.021608</td><td>NDKPHDVEI  </td><td>34.5385</td><td>0.000296</td><td>⋯</td><td>INK/IX</td><td>-</td><td>0</td><td>9:9  </td><td>20</td><td>58440921-58440925  </td><td>137    </td><td>F</td><td>VAPB</td><td>No</td></tr>\n",
       "\t<tr><th scope=row>7400</th><td>HLA-C03:03</td><td>NDKPHDVEI  </td><td>18.7625</td><td>0.001063</td><td>39753.9</td><td>46.4034</td><td>0.021194</td><td>NDKPHDVEI  </td><td>18.7625</td><td>0.001063</td><td>⋯</td><td>INK/IX</td><td>-</td><td>0</td><td>9:9  </td><td>20</td><td>58440921-58440925  </td><td>137    </td><td>F</td><td>VAPB</td><td>No</td></tr>\n",
       "\t<tr><th scope=row>7401</th><td>HLA-B15:01</td><td>NDKPHDVEI  </td><td>19.9500</td><td>0.001588</td><td>34641.0</td><td>64.4962</td><td>0.033918</td><td>NDKPHDVEI  </td><td>19.9500</td><td>0.001588</td><td>⋯</td><td>INK/IX</td><td>-</td><td>0</td><td>9:9  </td><td>20</td><td>58440921-58440925  </td><td>137    </td><td>F</td><td>VAPB</td><td>No</td></tr>\n",
       "\t<tr><th scope=row>7402</th><td>HLA-A11:01</td><td>NDKPHDVEI  </td><td>37.4545</td><td>0.000149</td><td>40984.7</td><td>74.1964</td><td>0.018376</td><td>NDKPHDVEI  </td><td>37.4545</td><td>0.000149</td><td>⋯</td><td>INK/IX</td><td>-</td><td>0</td><td>9:9  </td><td>20</td><td>58440921-58440925  </td><td>137    </td><td>F</td><td>VAPB</td><td>No</td></tr>\n",
       "\t<tr><th scope=row>7403</th><td>HLA-C08:01</td><td>PPTRGPPP   </td><td>95.0000</td><td>0.000001</td><td>48617.8</td><td>95.8047</td><td>0.002591</td><td>PPTRGPPP   </td><td>95.0000</td><td>0.000001</td><td>⋯</td><td>P/PX  </td><td>-</td><td>0</td><td>8:8  </td><td>X </td><td>136874412-136874413</td><td>302,174</td><td>F</td><td>RBMX</td><td>No</td></tr>\n",
       "\t<tr><th scope=row>7404</th><td>HLA-A02:01</td><td>PPTRGPPP   </td><td>98.3333</td><td>0.000001</td><td>47580.6</td><td>96.9123</td><td>0.004584</td><td>PPTRGPPP   </td><td>98.3333</td><td>0.000001</td><td>⋯</td><td>P/PX  </td><td>-</td><td>0</td><td>8:8  </td><td>X </td><td>136874412-136874413</td><td>302,174</td><td>F</td><td>RBMX</td><td>No</td></tr>\n",
       "\t<tr><th scope=row>7405</th><td>HLA-B15:02</td><td>DKPHDVEI   </td><td>59.7059</td><td>0.000042</td><td>44008.5</td><td>91.0435</td><td>0.011797</td><td>DKPHDVEI   </td><td>59.7059</td><td>0.000042</td><td>⋯</td><td>INK/IX</td><td>-</td><td>0</td><td>8:8  </td><td>20</td><td>58440921-58440925  </td><td>137    </td><td>F</td><td>VAPB</td><td>No</td></tr>\n",
       "\t<tr><th scope=row>7406</th><td>HLA-A11:01</td><td>RSAPPTRGPPP</td><td>44.6000</td><td>0.000094</td><td>34852.7</td><td>47.0194</td><td>0.033355</td><td>RSAPPTRGPPP</td><td>44.6000</td><td>0.000094</td><td>⋯</td><td>P/PX  </td><td>-</td><td>0</td><td>11:11</td><td>X </td><td>136874412-136874413</td><td>302,174</td><td>F</td><td>RBMX</td><td>No</td></tr>\n",
       "\t<tr><th scope=row>7407</th><td>HLA-B15:02</td><td>RSAPPTRGPPP</td><td>67.7778</td><td>0.000025</td><td>40459.1</td><td>76.3904</td><td>0.019569</td><td>RSAPPTRGPPP</td><td>67.7778</td><td>0.000025</td><td>⋯</td><td>P/PX  </td><td>-</td><td>0</td><td>11:11</td><td>X </td><td>136874412-136874413</td><td>302,174</td><td>F</td><td>RBMX</td><td>No</td></tr>\n",
       "\t<tr><th scope=row>7408</th><td>HLA-C08:01</td><td>RSAPPTRGPPP</td><td>57.2222</td><td>0.000023</td><td>41704.9</td><td>47.1520</td><td>0.016766</td><td>RSAPPTRGPPP</td><td>57.2222</td><td>0.000023</td><td>⋯</td><td>P/PX  </td><td>-</td><td>0</td><td>11:11</td><td>X </td><td>136874412-136874413</td><td>302,174</td><td>F</td><td>RBMX</td><td>No</td></tr>\n",
       "\t<tr><th scope=row>7409</th><td>HLA-A02:01</td><td>RSAPPTRGPPP</td><td>67.0000</td><td>0.000032</td><td>38570.6</td><td>65.5582</td><td>0.023987</td><td>RSAPPTRGPPP</td><td>67.0000</td><td>0.000032</td><td>⋯</td><td>P/PX  </td><td>-</td><td>0</td><td>11:11</td><td>X </td><td>136874412-136874413</td><td>302,174</td><td>F</td><td>RBMX</td><td>No</td></tr>\n",
       "\t<tr><th scope=row>7410</th><td>HLA-C03:03</td><td>RSAPPTRGPPP</td><td>55.0000</td><td>0.000024</td><td>40282.2</td><td>48.2192</td><td>0.019974</td><td>RSAPPTRGPPP</td><td>55.0000</td><td>0.000024</td><td>⋯</td><td>P/PX  </td><td>-</td><td>0</td><td>11:11</td><td>X </td><td>136874412-136874413</td><td>302,174</td><td>F</td><td>RBMX</td><td>No</td></tr>\n",
       "\t<tr><th scope=row>⋮</th><td>⋮</td><td>⋮</td><td>⋮</td><td>⋮</td><td>⋮</td><td>⋮</td><td>⋮</td><td>⋮</td><td>⋮</td><td>⋮</td><td>⋱</td><td>⋮</td><td>⋮</td><td>⋮</td><td>⋮</td><td>⋮</td><td>⋮</td><td>⋮</td><td>⋮</td><td>⋮</td><td>⋮</td></tr>\n",
       "\t<tr><th scope=row>8730</th><td>HLA-A03:01</td><td>ALPEEYRD   </td><td> 81.6667</td><td>0.000018</td><td>45655.6</td><td>95.9159</td><td>0.008401</td><td>ALPEEYRD   </td><td> 81.6667</td><td>0.000018</td><td>⋯</td><td>D/X</td><td>-</td><td>0</td><td>8:8  </td><td>8 </td><td>28113105           </td><td>183,91,169,169,111,64                                           </td><td>F</td><td>ELP3 </td><td>No </td></tr>\n",
       "\t<tr><th scope=row>8731</th><td>HLA-C17:01</td><td>ALPEEYRD   </td><td> 83.8889</td><td>0.000013</td><td>47918.0</td><td>91.7732</td><td>0.003931</td><td>ALPEEYRD   </td><td> 83.8889</td><td>0.000013</td><td>⋯</td><td>D/X</td><td>-</td><td>0</td><td>8:8  </td><td>8 </td><td>28113105           </td><td>183,91,169,169,111,64                                           </td><td>F</td><td>ELP3 </td><td>No </td></tr>\n",
       "\t<tr><th scope=row>8737</th><td>HLA-B41:01</td><td>ALPEEYRD   </td><td> 80.7143</td><td>0.000019</td><td>45060.3</td><td>95.8047</td><td>0.009614</td><td>ALPEEYRD   </td><td> 80.7143</td><td>0.000019</td><td>⋯</td><td>D/X</td><td>-</td><td>0</td><td>8:8  </td><td>8 </td><td>28113105           </td><td>183,91,169,169,111,64                                           </td><td>F</td><td>ELP3 </td><td>No </td></tr>\n",
       "\t<tr><th scope=row>8738</th><td>HLA-C17:01</td><td>MALPEEYRD  </td><td> 57.0000</td><td>0.000159</td><td>44248.1</td><td>65.1053</td><td>0.011295</td><td>MALPEEYRD  </td><td> 57.0000</td><td>0.000159</td><td>⋯</td><td>D/X</td><td>-</td><td>0</td><td>9:9  </td><td>8 </td><td>28113105           </td><td>183,91,169,169,111,64                                           </td><td>F</td><td>ELP3 </td><td>No </td></tr>\n",
       "\t<tr><th scope=row>8739</th><td>HLA-A02:05</td><td>FMALPEEYRD </td><td> 33.3578</td><td>0.001381</td><td>10283.4</td><td>21.7312</td><td>0.146167</td><td>FMALPEEYRD </td><td> 33.3578</td><td>0.001381</td><td>⋯</td><td>D/X</td><td>-</td><td>0</td><td>10:10</td><td>8 </td><td>28113105           </td><td>183,91,169,169,111,64                                           </td><td>F</td><td>ELP3 </td><td>No </td></tr>\n",
       "\t<tr><th scope=row>8740</th><td>HLA-A03:01</td><td>MALPEEYRD  </td><td> 60.7143</td><td>0.000058</td><td>42602.0</td><td>86.7146</td><td>0.014799</td><td>MALPEEYRD  </td><td> 60.7143</td><td>0.000058</td><td>⋯</td><td>D/X</td><td>-</td><td>0</td><td>9:9  </td><td>8 </td><td>28113105           </td><td>183,91,169,169,111,64                                           </td><td>F</td><td>ELP3 </td><td>No </td></tr>\n",
       "\t<tr><th scope=row>8741</th><td>HLA-C16:02</td><td>FMALPEEYRD </td><td> 59.5763</td><td>0.000131</td><td>35916.5</td><td>52.6243</td><td>0.030576</td><td>FMALPEEYRD </td><td> 59.5763</td><td>0.000131</td><td>⋯</td><td>D/X</td><td>-</td><td>0</td><td>10:10</td><td>8 </td><td>28113105           </td><td>183,91,169,169,111,64                                           </td><td>F</td><td>ELP3 </td><td>No </td></tr>\n",
       "\t<tr><th scope=row>8742</th><td>HLA-B41:01</td><td>MALPEEYRD  </td><td> 67.3333</td><td>0.000048</td><td>40328.4</td><td>78.7388</td><td>0.019868</td><td>MALPEEYRD  </td><td> 67.3333</td><td>0.000048</td><td>⋯</td><td>D/X</td><td>-</td><td>0</td><td>9:9  </td><td>8 </td><td>28113105           </td><td>183,91,169,169,111,64                                           </td><td>F</td><td>ELP3 </td><td>No </td></tr>\n",
       "\t<tr><th scope=row>38921</th><td>HLA-A02:01</td><td>AATTAIGG   </td><td> 85.0000</td><td>0.000008</td><td>43745.5</td><td>86.1357</td><td>0.012351</td><td>AATTAIGG   </td><td> 85.0000</td><td>0.000008</td><td>⋯</td><td>G/X</td><td>-</td><td>0</td><td>8:8  </td><td>20</td><td>32434639           </td><td>638,643,643,643,582                                             </td><td>F</td><td>ASXL1</td><td>Yes</td></tr>\n",
       "\t<tr><th scope=row>38922</th><td>HLA-C07:01</td><td>AATTAIGG   </td><td> 85.0000</td><td>0.000012</td><td>46677.0</td><td>93.0558</td><td>0.006356</td><td>AATTAIGG   </td><td> 85.0000</td><td>0.000012</td><td>⋯</td><td>G/X</td><td>-</td><td>0</td><td>8:8  </td><td>20</td><td>32434639           </td><td>638,643,643,643,582                                             </td><td>F</td><td>ASXL1</td><td>Yes</td></tr>\n",
       "\t<tr><th scope=row>38923</th><td>HLA-B15:09</td><td>AATTAIGG   </td><td> 68.3333</td><td>0.000007</td><td>45417.6</td><td>74.8935</td><td>0.008884</td><td>AATTAIGG   </td><td> 68.3333</td><td>0.000007</td><td>⋯</td><td>G/X</td><td>-</td><td>0</td><td>8:8  </td><td>20</td><td>32434639           </td><td>638,643,643,643,582                                             </td><td>F</td><td>ASXL1</td><td>Yes</td></tr>\n",
       "\t<tr><th scope=row>38924</th><td>HLA-C06:02</td><td>AATTAIGG   </td><td> 72.6316</td><td>0.000051</td><td>45921.1</td><td>88.8202</td><td>0.007865</td><td>AATTAIGG   </td><td> 72.6316</td><td>0.000051</td><td>⋯</td><td>G/X</td><td>-</td><td>0</td><td>8:8  </td><td>20</td><td>32434639           </td><td>638,643,643,643,582                                             </td><td>F</td><td>ASXL1</td><td>Yes</td></tr>\n",
       "\t<tr><th scope=row>38925</th><td>HLA-B49:01</td><td>AATTAIGG   </td><td> 55.5263</td><td>0.000066</td><td>42744.2</td><td>72.9057</td><td>0.014491</td><td>AATTAIGG   </td><td> 55.5263</td><td>0.000066</td><td>⋯</td><td>G/X</td><td>-</td><td>0</td><td>8:8  </td><td>20</td><td>32434639           </td><td>638,643,643,643,582                                             </td><td>F</td><td>ASXL1</td><td>Yes</td></tr>\n",
       "\t<tr><th scope=row>38926</th><td>HLA-A01:01</td><td>AATTAIGG   </td><td> 71.8571</td><td>0.000129</td><td>43823.2</td><td>86.5010</td><td>0.012187</td><td>AATTAIGG   </td><td> 71.8571</td><td>0.000129</td><td>⋯</td><td>G/X</td><td>-</td><td>0</td><td>8:8  </td><td>20</td><td>32434639           </td><td>638,643,643,643,582                                             </td><td>F</td><td>ASXL1</td><td>Yes</td></tr>\n",
       "\t<tr><th scope=row>38927</th><td>HLA-B49:01</td><td>CVICMDTISNK</td><td> 93.3333</td><td>0.000003</td><td>42450.6</td><td>71.2276</td><td>0.015128</td><td>CVICMDTISNK</td><td> 93.3333</td><td>0.000003</td><td>⋯</td><td>-/X</td><td>-</td><td>0</td><td>10:11</td><td>3 </td><td>122569799-122569800</td><td>570                                                             </td><td>F</td><td>DTX3L</td><td>No </td></tr>\n",
       "\t<tr><th scope=row>38928</th><td>HLA-B15:09</td><td>CVICMDTISNK</td><td>100.0000</td><td>0.000000</td><td>46830.8</td><td>88.4402</td><td>0.006052</td><td>CVICMDTISNK</td><td>100.0000</td><td>0.000000</td><td>⋯</td><td>-/X</td><td>-</td><td>0</td><td>10:11</td><td>3 </td><td>122569799-122569800</td><td>570                                                             </td><td>F</td><td>DTX3L</td><td>No </td></tr>\n",
       "\t<tr><th scope=row>38932</th><td>HLA-C07:01</td><td>CVICMDTISNK</td><td> 62.6000</td><td>0.000070</td><td>35885.1</td><td>42.4715</td><td>0.030657</td><td>CVICMDTISNK</td><td> 62.6000</td><td>0.000070</td><td>⋯</td><td>-/X</td><td>-</td><td>0</td><td>10:11</td><td>3 </td><td>122569799-122569800</td><td>570                                                             </td><td>F</td><td>DTX3L</td><td>No </td></tr>\n",
       "\t<tr><th scope=row>38935</th><td>HLA-A01:01</td><td>CVICMDTISNK</td><td> 53.0978</td><td>0.000348</td><td>30357.6</td><td>24.5774</td><td>0.046117</td><td>CVICMDTISNK</td><td> 53.0978</td><td>0.000348</td><td>⋯</td><td>-/X</td><td>-</td><td>0</td><td>10:11</td><td>3 </td><td>122569799-122569800</td><td>570                                                             </td><td>F</td><td>DTX3L</td><td>No </td></tr>\n",
       "\t<tr><th scope=row>38937</th><td>HLA-C06:02</td><td>CVICMDTISNK</td><td> 76.5385</td><td>0.000038</td><td>39034.9</td><td>51.3369</td><td>0.022881</td><td>CVICMDTISNK</td><td> 76.5385</td><td>0.000038</td><td>⋯</td><td>-/X</td><td>-</td><td>0</td><td>10:11</td><td>3 </td><td>122569799-122569800</td><td>570                                                             </td><td>F</td><td>DTX3L</td><td>No </td></tr>\n",
       "\t<tr><th scope=row>38938</th><td>HLA-A01:01</td><td>NKPILLPNES </td><td> 84.3750</td><td>0.000057</td><td>44271.6</td><td>88.8395</td><td>0.011246</td><td>NKPILLPNES </td><td> 84.3750</td><td>0.000057</td><td>⋯</td><td>S/X</td><td>-</td><td>0</td><td>10:10</td><td>16</td><td>2085231-2085232    </td><td>1524,1501,1409,1457,1421,1468,1076,1481,1458,1480,1481,1457,1498</td><td>F</td><td>TSC2 </td><td>Yes</td></tr>\n",
       "\t<tr><th scope=row>38939</th><td>HLA-C07:01</td><td>NKPILLPNES </td><td> 74.6154</td><td>0.000029</td><td>43911.4</td><td>77.1029</td><td>0.012001</td><td>NKPILLPNES </td><td> 74.6154</td><td>0.000029</td><td>⋯</td><td>S/X</td><td>-</td><td>0</td><td>10:10</td><td>16</td><td>2085231-2085232    </td><td>1524,1501,1409,1457,1421,1468,1076,1481,1458,1480,1481,1457,1498</td><td>F</td><td>TSC2 </td><td>Yes</td></tr>\n",
       "\t<tr><th scope=row>38940</th><td>HLA-B15:09</td><td>NKPILLPNES </td><td> 39.4000</td><td>0.000060</td><td>40305.3</td><td>39.2211</td><td>0.019921</td><td>NKPILLPNES </td><td> 39.4000</td><td>0.000060</td><td>⋯</td><td>S/X</td><td>-</td><td>0</td><td>10:10</td><td>16</td><td>2085231-2085232    </td><td>1524,1501,1409,1457,1421,1468,1076,1481,1458,1480,1481,1457,1498</td><td>F</td><td>TSC2 </td><td>Yes</td></tr>\n",
       "\t<tr><th scope=row>38941</th><td>HLA-C06:02</td><td>NKPILLPNES </td><td> 68.2692</td><td>0.000070</td><td>43931.4</td><td>76.2076</td><td>0.011959</td><td>NKPILLPNES </td><td> 68.2692</td><td>0.000070</td><td>⋯</td><td>S/X</td><td>-</td><td>0</td><td>10:10</td><td>16</td><td>2085231-2085232    </td><td>1524,1501,1409,1457,1421,1468,1076,1481,1458,1480,1481,1457,1498</td><td>F</td><td>TSC2 </td><td>Yes</td></tr>\n",
       "\t<tr><th scope=row>38942</th><td>HLA-A02:01</td><td>NKPILLPNES </td><td> 73.7500</td><td>0.000020</td><td>42300.7</td><td>80.1969</td><td>0.015455</td><td>NKPILLPNES </td><td> 73.7500</td><td>0.000020</td><td>⋯</td><td>S/X</td><td>-</td><td>0</td><td>10:10</td><td>16</td><td>2085231-2085232    </td><td>1524,1501,1409,1457,1421,1468,1076,1481,1458,1480,1481,1457,1498</td><td>F</td><td>TSC2 </td><td>Yes</td></tr>\n",
       "\t<tr><th scope=row>38943</th><td>HLA-A02:01</td><td>CVICMDTISNK</td><td> 54.6296</td><td>0.000071</td><td>26168.5</td><td>34.0837</td><td>0.059841</td><td>CVICMDTISNK</td><td> 54.6296</td><td>0.000071</td><td>⋯</td><td>-/X</td><td>-</td><td>0</td><td>10:11</td><td>3 </td><td>122569799-122569800</td><td>570                                                             </td><td>F</td><td>DTX3L</td><td>No </td></tr>\n",
       "\t<tr><th scope=row>38950</th><td>HLA-B49:01</td><td>PILLPNES   </td><td> 88.3333</td><td>0.000006</td><td>47854.8</td><td>96.7679</td><td>0.004053</td><td>PILLPNES   </td><td> 88.3333</td><td>0.000006</td><td>⋯</td><td>S/X</td><td>-</td><td>0</td><td>8:8  </td><td>16</td><td>2085231-2085232    </td><td>1524,1501,1409,1457,1421,1468,1076,1481,1458,1480,1481,1457,1498</td><td>F</td><td>TSC2 </td><td>Yes</td></tr>\n",
       "\t<tr><th scope=row>38951</th><td>HLA-A01:01</td><td>PILLPNES   </td><td> 87.3684</td><td>0.000045</td><td>45819.9</td><td>95.1856</td><td>0.008069</td><td>PILLPNES   </td><td> 87.3684</td><td>0.000045</td><td>⋯</td><td>S/X</td><td>-</td><td>0</td><td>8:8  </td><td>16</td><td>2085231-2085232    </td><td>1524,1501,1409,1457,1421,1468,1076,1481,1458,1480,1481,1457,1498</td><td>F</td><td>TSC2 </td><td>Yes</td></tr>\n",
       "\t<tr><th scope=row>38952</th><td>HLA-C07:01</td><td>PILLPNES   </td><td> 93.7500</td><td>0.000004</td><td>47918.5</td><td>96.5023</td><td>0.003930</td><td>PILLPNES   </td><td> 93.7500</td><td>0.000004</td><td>⋯</td><td>S/X</td><td>-</td><td>0</td><td>8:8  </td><td>16</td><td>2085231-2085232    </td><td>1524,1501,1409,1457,1421,1468,1076,1481,1458,1480,1481,1457,1498</td><td>F</td><td>TSC2 </td><td>Yes</td></tr>\n",
       "\t<tr><th scope=row>38953</th><td>HLA-B15:09</td><td>PILLPNES   </td><td> 70.0000</td><td>0.000006</td><td>46971.9</td><td>89.7703</td><td>0.005774</td><td>PILLPNES   </td><td> 70.0000</td><td>0.000006</td><td>⋯</td><td>S/X</td><td>-</td><td>0</td><td>8:8  </td><td>16</td><td>2085231-2085232    </td><td>1524,1501,1409,1457,1421,1468,1076,1481,1458,1480,1481,1457,1498</td><td>F</td><td>TSC2 </td><td>Yes</td></tr>\n",
       "\t<tr><th scope=row>38954</th><td>HLA-C06:02</td><td>PILLPNES   </td><td> 88.1250</td><td>0.000014</td><td>48041.5</td><td>96.7353</td><td>0.003693</td><td>PILLPNES   </td><td> 88.1250</td><td>0.000014</td><td>⋯</td><td>S/X</td><td>-</td><td>0</td><td>8:8  </td><td>16</td><td>2085231-2085232    </td><td>1524,1501,1409,1457,1421,1468,1076,1481,1458,1480,1481,1457,1498</td><td>F</td><td>TSC2 </td><td>Yes</td></tr>\n",
       "</tbody>\n",
       "</table>\n"
      ],
      "text/latex": [
       "A data.frame: 100 × 25\n",
       "\\begin{tabular}{r|lllllllllllllllllllll}\n",
       "  & HLA\\_allele & Norm\\_peptide & Norm\\_MHCrank\\_EL & Norm\\_MHCscore\\_EL & Norm\\_MHCaffinity & Norm\\_MHCrank\\_BA & Norm\\_MHCscore\\_BA & Mut\\_peptide & Mut\\_MHCrank\\_EL & Mut\\_MHCscore\\_EL & ⋯ & Amino\\_Acid\\_Change & Allele\\_Frequency & Mismatches & peptide\\_position & Chr & Genomic\\_Position & Protein\\_position & Mutation\\_Consequence & Gene\\_Symbol & Cancer\\_Driver\\_Gene\\\\\n",
       "  & <chr> & <chr> & <dbl> & <dbl> & <dbl> & <dbl> & <dbl> & <chr> & <dbl> & <dbl> & ⋯ & <chr> & <chr> & <int> & <chr> & <chr> & <chr> & <chr> & <chr> & <chr> & <chr>\\\\\n",
       "\\hline\n",
       "\t7381 & HLA-B15:02 & APPTRGPPP   & 32.4167 & 0.000276 & 37281.8 & 62.7439 & 0.027128 & APPTRGPPP   & 32.4167 & 0.000276 & ⋯ & P/PX   & - & 0 & 9:9   & X  & 136874412-136874413 & 302,174 & F & RBMX & No\\\\\n",
       "\t7382 & HLA-B15:01 & APPTRGPPP   & 67.0000 & 0.000047 & 41264.6 & 86.4839 & 0.017747 & APPTRGPPP   & 67.0000 & 0.000047 & ⋯ & P/PX   & - & 0 & 9:9   & X  & 136874412-136874413 & 302,174 & F & RBMX & No\\\\\n",
       "\t7383 & HLA-A11:01 & APPTRGPPP   & 57.0833 & 0.000046 & 42153.6 & 80.1349 & 0.015777 & APPTRGPPP   & 57.0833 & 0.000046 & ⋯ & P/PX   & - & 0 & 9:9   & X  & 136874412-136874413 & 302,174 & F & RBMX & No\\\\\n",
       "\t7384 & HLA-C03:03 & APPTRGPPP   & 34.2667 & 0.000160 & 37735.9 & 40.4554 & 0.026009 & APPTRGPPP   & 34.2667 & 0.000160 & ⋯ & P/PX   & - & 0 & 9:9   & X  & 136874412-136874413 & 302,174 & F & RBMX & No\\\\\n",
       "\t7385 & HLA-A02:01 & APPTRGPPP   & 65.0000 & 0.000036 & 42610.8 & 81.4870 & 0.014780 & APPTRGPPP   & 65.0000 & 0.000036 & ⋯ & P/PX   & - & 0 & 9:9   & X  & 136874412-136874413 & 302,174 & F & RBMX & No\\\\\n",
       "\t7386 & HLA-C08:01 & SAPPTRGPPP  & 53.4615 & 0.000031 & 41049.5 & 44.3978 & 0.018230 & SAPPTRGPPP  & 53.4615 & 0.000031 & ⋯ & P/PX   & - & 0 & 10:10 & X  & 136874412-136874413 & 302,174 & F & RBMX & No\\\\\n",
       "\t7387 & HLA-A11:01 & AENDKPHDVEI & 44.2000 & 0.000096 & 41386.6 & 76.2431 & 0.017474 & AENDKPHDVEI & 44.2000 & 0.000096 & ⋯ & INK/IX & - & 0 & 11:11 & 20 & 58440921-58440925   & 137     & F & VAPB & No\\\\\n",
       "\t7388 & HLA-C08:01 & APPTRGPPP   & 44.1667 & 0.000065 & 41920.2 & 48.1296 & 0.016290 & APPTRGPPP   & 44.1667 & 0.000065 & ⋯ & P/PX   & - & 0 & 9:9   & X  & 136874412-136874413 & 302,174 & F & RBMX & No\\\\\n",
       "\t7389 & HLA-B15:02 & PPTRGPPP    & 92.5000 & 0.000003 & 46658.9 & 96.5796 & 0.006392 & PPTRGPPP    & 92.5000 & 0.000003 & ⋯ & P/PX   & - & 0 & 8:8   & X  & 136874412-136874413 & 302,174 & F & RBMX & No\\\\\n",
       "\t7390 & HLA-A11:01 & PPTRGPPP    & 98.3333 & 0.000001 & 47700.7 & 97.4988 & 0.004351 & PPTRGPPP    & 98.3333 & 0.000001 & ⋯ & P/PX   & - & 0 & 8:8   & X  & 136874412-136874413 & 302,174 & F & RBMX & No\\\\\n",
       "\t7391 & HLA-B15:01 & PPTRGPPP    & 96.6667 & 0.000002 & 47344.4 & 97.7438 & 0.005044 & PPTRGPPP    & 96.6667 & 0.000002 & ⋯ & P/PX   & - & 0 & 8:8   & X  & 136874412-136874413 & 302,174 & F & RBMX & No\\\\\n",
       "\t7392 & HLA-C03:03 & PPTRGPPP    & 90.0000 & 0.000001 & 48403.6 & 95.2994 & 0.002999 & PPTRGPPP    & 90.0000 & 0.000001 & ⋯ & P/PX   & - & 0 & 8:8   & X  & 136874412-136874413 & 302,174 & F & RBMX & No\\\\\n",
       "\t7393 & HLA-B15:02 & NDKPHDVEI   &  9.3652 & 0.004685 & 32303.8 & 44.7744 & 0.040374 & NDKPHDVEI   &  9.3652 & 0.004685 & ⋯ & INK/IX & - & 0 & 9:9   & 20 & 58440921-58440925   & 137     & F & VAPB & No\\\\\n",
       "\t7394 & HLA-B15:01 & DKPHDVEI    & 62.7500 & 0.000062 & 43607.5 & 93.2134 & 0.012643 & DKPHDVEI    & 62.7500 & 0.000062 & ⋯ & INK/IX & - & 0 & 8:8   & 20 & 58440921-58440925   & 137     & F & VAPB & No\\\\\n",
       "\t7395 & HLA-C03:03 & DKPHDVEI    & 44.1667 & 0.000062 & 45618.5 & 74.7301 & 0.008476 & DKPHDVEI    & 44.1667 & 0.000062 & ⋯ & INK/IX & - & 0 & 8:8   & 20 & 58440921-58440925   & 137     & F & VAPB & No\\\\\n",
       "\t7396 & HLA-A02:01 & DKPHDVEI    & 61.7857 & 0.000045 & 44319.1 & 88.4493 & 0.011147 & DKPHDVEI    & 61.7857 & 0.000045 & ⋯ & INK/IX & - & 0 & 8:8   & 20 & 58440921-58440925   & 137     & F & VAPB & No\\\\\n",
       "\t7397 & HLA-C08:01 & DKPHDVEI    & 38.6000 & 0.000107 & 45951.5 & 73.6098 & 0.007804 & DKPHDVEI    & 38.6000 & 0.000107 & ⋯ & INK/IX & - & 0 & 8:8   & 20 & 58440921-58440925   & 137     & F & VAPB & No\\\\\n",
       "\t7398 & HLA-C08:01 & NDKPHDVEI   & 16.5369 & 0.001357 & 39801.3 & 39.7903 & 0.021084 & NDKPHDVEI   & 16.5369 & 0.001357 & ⋯ & INK/IX & - & 0 & 9:9   & 20 & 58440921-58440925   & 137     & F & VAPB & No\\\\\n",
       "\t7399 & HLA-A02:01 & NDKPHDVEI   & 34.5385 & 0.000296 & 39576.3 & 69.3201 & 0.021608 & NDKPHDVEI   & 34.5385 & 0.000296 & ⋯ & INK/IX & - & 0 & 9:9   & 20 & 58440921-58440925   & 137     & F & VAPB & No\\\\\n",
       "\t7400 & HLA-C03:03 & NDKPHDVEI   & 18.7625 & 0.001063 & 39753.9 & 46.4034 & 0.021194 & NDKPHDVEI   & 18.7625 & 0.001063 & ⋯ & INK/IX & - & 0 & 9:9   & 20 & 58440921-58440925   & 137     & F & VAPB & No\\\\\n",
       "\t7401 & HLA-B15:01 & NDKPHDVEI   & 19.9500 & 0.001588 & 34641.0 & 64.4962 & 0.033918 & NDKPHDVEI   & 19.9500 & 0.001588 & ⋯ & INK/IX & - & 0 & 9:9   & 20 & 58440921-58440925   & 137     & F & VAPB & No\\\\\n",
       "\t7402 & HLA-A11:01 & NDKPHDVEI   & 37.4545 & 0.000149 & 40984.7 & 74.1964 & 0.018376 & NDKPHDVEI   & 37.4545 & 0.000149 & ⋯ & INK/IX & - & 0 & 9:9   & 20 & 58440921-58440925   & 137     & F & VAPB & No\\\\\n",
       "\t7403 & HLA-C08:01 & PPTRGPPP    & 95.0000 & 0.000001 & 48617.8 & 95.8047 & 0.002591 & PPTRGPPP    & 95.0000 & 0.000001 & ⋯ & P/PX   & - & 0 & 8:8   & X  & 136874412-136874413 & 302,174 & F & RBMX & No\\\\\n",
       "\t7404 & HLA-A02:01 & PPTRGPPP    & 98.3333 & 0.000001 & 47580.6 & 96.9123 & 0.004584 & PPTRGPPP    & 98.3333 & 0.000001 & ⋯ & P/PX   & - & 0 & 8:8   & X  & 136874412-136874413 & 302,174 & F & RBMX & No\\\\\n",
       "\t7405 & HLA-B15:02 & DKPHDVEI    & 59.7059 & 0.000042 & 44008.5 & 91.0435 & 0.011797 & DKPHDVEI    & 59.7059 & 0.000042 & ⋯ & INK/IX & - & 0 & 8:8   & 20 & 58440921-58440925   & 137     & F & VAPB & No\\\\\n",
       "\t7406 & HLA-A11:01 & RSAPPTRGPPP & 44.6000 & 0.000094 & 34852.7 & 47.0194 & 0.033355 & RSAPPTRGPPP & 44.6000 & 0.000094 & ⋯ & P/PX   & - & 0 & 11:11 & X  & 136874412-136874413 & 302,174 & F & RBMX & No\\\\\n",
       "\t7407 & HLA-B15:02 & RSAPPTRGPPP & 67.7778 & 0.000025 & 40459.1 & 76.3904 & 0.019569 & RSAPPTRGPPP & 67.7778 & 0.000025 & ⋯ & P/PX   & - & 0 & 11:11 & X  & 136874412-136874413 & 302,174 & F & RBMX & No\\\\\n",
       "\t7408 & HLA-C08:01 & RSAPPTRGPPP & 57.2222 & 0.000023 & 41704.9 & 47.1520 & 0.016766 & RSAPPTRGPPP & 57.2222 & 0.000023 & ⋯ & P/PX   & - & 0 & 11:11 & X  & 136874412-136874413 & 302,174 & F & RBMX & No\\\\\n",
       "\t7409 & HLA-A02:01 & RSAPPTRGPPP & 67.0000 & 0.000032 & 38570.6 & 65.5582 & 0.023987 & RSAPPTRGPPP & 67.0000 & 0.000032 & ⋯ & P/PX   & - & 0 & 11:11 & X  & 136874412-136874413 & 302,174 & F & RBMX & No\\\\\n",
       "\t7410 & HLA-C03:03 & RSAPPTRGPPP & 55.0000 & 0.000024 & 40282.2 & 48.2192 & 0.019974 & RSAPPTRGPPP & 55.0000 & 0.000024 & ⋯ & P/PX   & - & 0 & 11:11 & X  & 136874412-136874413 & 302,174 & F & RBMX & No\\\\\n",
       "\t⋮ & ⋮ & ⋮ & ⋮ & ⋮ & ⋮ & ⋮ & ⋮ & ⋮ & ⋮ & ⋮ & ⋱ & ⋮ & ⋮ & ⋮ & ⋮ & ⋮ & ⋮ & ⋮ & ⋮ & ⋮ & ⋮\\\\\n",
       "\t8730 & HLA-A03:01 & ALPEEYRD    &  81.6667 & 0.000018 & 45655.6 & 95.9159 & 0.008401 & ALPEEYRD    &  81.6667 & 0.000018 & ⋯ & D/X & - & 0 & 8:8   & 8  & 28113105            & 183,91,169,169,111,64                                            & F & ELP3  & No \\\\\n",
       "\t8731 & HLA-C17:01 & ALPEEYRD    &  83.8889 & 0.000013 & 47918.0 & 91.7732 & 0.003931 & ALPEEYRD    &  83.8889 & 0.000013 & ⋯ & D/X & - & 0 & 8:8   & 8  & 28113105            & 183,91,169,169,111,64                                            & F & ELP3  & No \\\\\n",
       "\t8737 & HLA-B41:01 & ALPEEYRD    &  80.7143 & 0.000019 & 45060.3 & 95.8047 & 0.009614 & ALPEEYRD    &  80.7143 & 0.000019 & ⋯ & D/X & - & 0 & 8:8   & 8  & 28113105            & 183,91,169,169,111,64                                            & F & ELP3  & No \\\\\n",
       "\t8738 & HLA-C17:01 & MALPEEYRD   &  57.0000 & 0.000159 & 44248.1 & 65.1053 & 0.011295 & MALPEEYRD   &  57.0000 & 0.000159 & ⋯ & D/X & - & 0 & 9:9   & 8  & 28113105            & 183,91,169,169,111,64                                            & F & ELP3  & No \\\\\n",
       "\t8739 & HLA-A02:05 & FMALPEEYRD  &  33.3578 & 0.001381 & 10283.4 & 21.7312 & 0.146167 & FMALPEEYRD  &  33.3578 & 0.001381 & ⋯ & D/X & - & 0 & 10:10 & 8  & 28113105            & 183,91,169,169,111,64                                            & F & ELP3  & No \\\\\n",
       "\t8740 & HLA-A03:01 & MALPEEYRD   &  60.7143 & 0.000058 & 42602.0 & 86.7146 & 0.014799 & MALPEEYRD   &  60.7143 & 0.000058 & ⋯ & D/X & - & 0 & 9:9   & 8  & 28113105            & 183,91,169,169,111,64                                            & F & ELP3  & No \\\\\n",
       "\t8741 & HLA-C16:02 & FMALPEEYRD  &  59.5763 & 0.000131 & 35916.5 & 52.6243 & 0.030576 & FMALPEEYRD  &  59.5763 & 0.000131 & ⋯ & D/X & - & 0 & 10:10 & 8  & 28113105            & 183,91,169,169,111,64                                            & F & ELP3  & No \\\\\n",
       "\t8742 & HLA-B41:01 & MALPEEYRD   &  67.3333 & 0.000048 & 40328.4 & 78.7388 & 0.019868 & MALPEEYRD   &  67.3333 & 0.000048 & ⋯ & D/X & - & 0 & 9:9   & 8  & 28113105            & 183,91,169,169,111,64                                            & F & ELP3  & No \\\\\n",
       "\t38921 & HLA-A02:01 & AATTAIGG    &  85.0000 & 0.000008 & 43745.5 & 86.1357 & 0.012351 & AATTAIGG    &  85.0000 & 0.000008 & ⋯ & G/X & - & 0 & 8:8   & 20 & 32434639            & 638,643,643,643,582                                              & F & ASXL1 & Yes\\\\\n",
       "\t38922 & HLA-C07:01 & AATTAIGG    &  85.0000 & 0.000012 & 46677.0 & 93.0558 & 0.006356 & AATTAIGG    &  85.0000 & 0.000012 & ⋯ & G/X & - & 0 & 8:8   & 20 & 32434639            & 638,643,643,643,582                                              & F & ASXL1 & Yes\\\\\n",
       "\t38923 & HLA-B15:09 & AATTAIGG    &  68.3333 & 0.000007 & 45417.6 & 74.8935 & 0.008884 & AATTAIGG    &  68.3333 & 0.000007 & ⋯ & G/X & - & 0 & 8:8   & 20 & 32434639            & 638,643,643,643,582                                              & F & ASXL1 & Yes\\\\\n",
       "\t38924 & HLA-C06:02 & AATTAIGG    &  72.6316 & 0.000051 & 45921.1 & 88.8202 & 0.007865 & AATTAIGG    &  72.6316 & 0.000051 & ⋯ & G/X & - & 0 & 8:8   & 20 & 32434639            & 638,643,643,643,582                                              & F & ASXL1 & Yes\\\\\n",
       "\t38925 & HLA-B49:01 & AATTAIGG    &  55.5263 & 0.000066 & 42744.2 & 72.9057 & 0.014491 & AATTAIGG    &  55.5263 & 0.000066 & ⋯ & G/X & - & 0 & 8:8   & 20 & 32434639            & 638,643,643,643,582                                              & F & ASXL1 & Yes\\\\\n",
       "\t38926 & HLA-A01:01 & AATTAIGG    &  71.8571 & 0.000129 & 43823.2 & 86.5010 & 0.012187 & AATTAIGG    &  71.8571 & 0.000129 & ⋯ & G/X & - & 0 & 8:8   & 20 & 32434639            & 638,643,643,643,582                                              & F & ASXL1 & Yes\\\\\n",
       "\t38927 & HLA-B49:01 & CVICMDTISNK &  93.3333 & 0.000003 & 42450.6 & 71.2276 & 0.015128 & CVICMDTISNK &  93.3333 & 0.000003 & ⋯ & -/X & - & 0 & 10:11 & 3  & 122569799-122569800 & 570                                                              & F & DTX3L & No \\\\\n",
       "\t38928 & HLA-B15:09 & CVICMDTISNK & 100.0000 & 0.000000 & 46830.8 & 88.4402 & 0.006052 & CVICMDTISNK & 100.0000 & 0.000000 & ⋯ & -/X & - & 0 & 10:11 & 3  & 122569799-122569800 & 570                                                              & F & DTX3L & No \\\\\n",
       "\t38932 & HLA-C07:01 & CVICMDTISNK &  62.6000 & 0.000070 & 35885.1 & 42.4715 & 0.030657 & CVICMDTISNK &  62.6000 & 0.000070 & ⋯ & -/X & - & 0 & 10:11 & 3  & 122569799-122569800 & 570                                                              & F & DTX3L & No \\\\\n",
       "\t38935 & HLA-A01:01 & CVICMDTISNK &  53.0978 & 0.000348 & 30357.6 & 24.5774 & 0.046117 & CVICMDTISNK &  53.0978 & 0.000348 & ⋯ & -/X & - & 0 & 10:11 & 3  & 122569799-122569800 & 570                                                              & F & DTX3L & No \\\\\n",
       "\t38937 & HLA-C06:02 & CVICMDTISNK &  76.5385 & 0.000038 & 39034.9 & 51.3369 & 0.022881 & CVICMDTISNK &  76.5385 & 0.000038 & ⋯ & -/X & - & 0 & 10:11 & 3  & 122569799-122569800 & 570                                                              & F & DTX3L & No \\\\\n",
       "\t38938 & HLA-A01:01 & NKPILLPNES  &  84.3750 & 0.000057 & 44271.6 & 88.8395 & 0.011246 & NKPILLPNES  &  84.3750 & 0.000057 & ⋯ & S/X & - & 0 & 10:10 & 16 & 2085231-2085232     & 1524,1501,1409,1457,1421,1468,1076,1481,1458,1480,1481,1457,1498 & F & TSC2  & Yes\\\\\n",
       "\t38939 & HLA-C07:01 & NKPILLPNES  &  74.6154 & 0.000029 & 43911.4 & 77.1029 & 0.012001 & NKPILLPNES  &  74.6154 & 0.000029 & ⋯ & S/X & - & 0 & 10:10 & 16 & 2085231-2085232     & 1524,1501,1409,1457,1421,1468,1076,1481,1458,1480,1481,1457,1498 & F & TSC2  & Yes\\\\\n",
       "\t38940 & HLA-B15:09 & NKPILLPNES  &  39.4000 & 0.000060 & 40305.3 & 39.2211 & 0.019921 & NKPILLPNES  &  39.4000 & 0.000060 & ⋯ & S/X & - & 0 & 10:10 & 16 & 2085231-2085232     & 1524,1501,1409,1457,1421,1468,1076,1481,1458,1480,1481,1457,1498 & F & TSC2  & Yes\\\\\n",
       "\t38941 & HLA-C06:02 & NKPILLPNES  &  68.2692 & 0.000070 & 43931.4 & 76.2076 & 0.011959 & NKPILLPNES  &  68.2692 & 0.000070 & ⋯ & S/X & - & 0 & 10:10 & 16 & 2085231-2085232     & 1524,1501,1409,1457,1421,1468,1076,1481,1458,1480,1481,1457,1498 & F & TSC2  & Yes\\\\\n",
       "\t38942 & HLA-A02:01 & NKPILLPNES  &  73.7500 & 0.000020 & 42300.7 & 80.1969 & 0.015455 & NKPILLPNES  &  73.7500 & 0.000020 & ⋯ & S/X & - & 0 & 10:10 & 16 & 2085231-2085232     & 1524,1501,1409,1457,1421,1468,1076,1481,1458,1480,1481,1457,1498 & F & TSC2  & Yes\\\\\n",
       "\t38943 & HLA-A02:01 & CVICMDTISNK &  54.6296 & 0.000071 & 26168.5 & 34.0837 & 0.059841 & CVICMDTISNK &  54.6296 & 0.000071 & ⋯ & -/X & - & 0 & 10:11 & 3  & 122569799-122569800 & 570                                                              & F & DTX3L & No \\\\\n",
       "\t38950 & HLA-B49:01 & PILLPNES    &  88.3333 & 0.000006 & 47854.8 & 96.7679 & 0.004053 & PILLPNES    &  88.3333 & 0.000006 & ⋯ & S/X & - & 0 & 8:8   & 16 & 2085231-2085232     & 1524,1501,1409,1457,1421,1468,1076,1481,1458,1480,1481,1457,1498 & F & TSC2  & Yes\\\\\n",
       "\t38951 & HLA-A01:01 & PILLPNES    &  87.3684 & 0.000045 & 45819.9 & 95.1856 & 0.008069 & PILLPNES    &  87.3684 & 0.000045 & ⋯ & S/X & - & 0 & 8:8   & 16 & 2085231-2085232     & 1524,1501,1409,1457,1421,1468,1076,1481,1458,1480,1481,1457,1498 & F & TSC2  & Yes\\\\\n",
       "\t38952 & HLA-C07:01 & PILLPNES    &  93.7500 & 0.000004 & 47918.5 & 96.5023 & 0.003930 & PILLPNES    &  93.7500 & 0.000004 & ⋯ & S/X & - & 0 & 8:8   & 16 & 2085231-2085232     & 1524,1501,1409,1457,1421,1468,1076,1481,1458,1480,1481,1457,1498 & F & TSC2  & Yes\\\\\n",
       "\t38953 & HLA-B15:09 & PILLPNES    &  70.0000 & 0.000006 & 46971.9 & 89.7703 & 0.005774 & PILLPNES    &  70.0000 & 0.000006 & ⋯ & S/X & - & 0 & 8:8   & 16 & 2085231-2085232     & 1524,1501,1409,1457,1421,1468,1076,1481,1458,1480,1481,1457,1498 & F & TSC2  & Yes\\\\\n",
       "\t38954 & HLA-C06:02 & PILLPNES    &  88.1250 & 0.000014 & 48041.5 & 96.7353 & 0.003693 & PILLPNES    &  88.1250 & 0.000014 & ⋯ & S/X & - & 0 & 8:8   & 16 & 2085231-2085232     & 1524,1501,1409,1457,1421,1468,1076,1481,1458,1480,1481,1457,1498 & F & TSC2  & Yes\\\\\n",
       "\\end{tabular}\n"
      ],
      "text/markdown": [
       "\n",
       "A data.frame: 100 × 25\n",
       "\n",
       "| <!--/--> | HLA_allele &lt;chr&gt; | Norm_peptide &lt;chr&gt; | Norm_MHCrank_EL &lt;dbl&gt; | Norm_MHCscore_EL &lt;dbl&gt; | Norm_MHCaffinity &lt;dbl&gt; | Norm_MHCrank_BA &lt;dbl&gt; | Norm_MHCscore_BA &lt;dbl&gt; | Mut_peptide &lt;chr&gt; | Mut_MHCrank_EL &lt;dbl&gt; | Mut_MHCscore_EL &lt;dbl&gt; | ⋯ ⋯ | Amino_Acid_Change &lt;chr&gt; | Allele_Frequency &lt;chr&gt; | Mismatches &lt;int&gt; | peptide_position &lt;chr&gt; | Chr &lt;chr&gt; | Genomic_Position &lt;chr&gt; | Protein_position &lt;chr&gt; | Mutation_Consequence &lt;chr&gt; | Gene_Symbol &lt;chr&gt; | Cancer_Driver_Gene &lt;chr&gt; |\n",
       "|---|---|---|---|---|---|---|---|---|---|---|---|---|---|---|---|---|---|---|---|---|---|\n",
       "| 7381 | HLA-B15:02 | APPTRGPPP   | 32.4167 | 0.000276 | 37281.8 | 62.7439 | 0.027128 | APPTRGPPP   | 32.4167 | 0.000276 | ⋯ | P/PX   | - | 0 | 9:9   | X  | 136874412-136874413 | 302,174 | F | RBMX | No |\n",
       "| 7382 | HLA-B15:01 | APPTRGPPP   | 67.0000 | 0.000047 | 41264.6 | 86.4839 | 0.017747 | APPTRGPPP   | 67.0000 | 0.000047 | ⋯ | P/PX   | - | 0 | 9:9   | X  | 136874412-136874413 | 302,174 | F | RBMX | No |\n",
       "| 7383 | HLA-A11:01 | APPTRGPPP   | 57.0833 | 0.000046 | 42153.6 | 80.1349 | 0.015777 | APPTRGPPP   | 57.0833 | 0.000046 | ⋯ | P/PX   | - | 0 | 9:9   | X  | 136874412-136874413 | 302,174 | F | RBMX | No |\n",
       "| 7384 | HLA-C03:03 | APPTRGPPP   | 34.2667 | 0.000160 | 37735.9 | 40.4554 | 0.026009 | APPTRGPPP   | 34.2667 | 0.000160 | ⋯ | P/PX   | - | 0 | 9:9   | X  | 136874412-136874413 | 302,174 | F | RBMX | No |\n",
       "| 7385 | HLA-A02:01 | APPTRGPPP   | 65.0000 | 0.000036 | 42610.8 | 81.4870 | 0.014780 | APPTRGPPP   | 65.0000 | 0.000036 | ⋯ | P/PX   | - | 0 | 9:9   | X  | 136874412-136874413 | 302,174 | F | RBMX | No |\n",
       "| 7386 | HLA-C08:01 | SAPPTRGPPP  | 53.4615 | 0.000031 | 41049.5 | 44.3978 | 0.018230 | SAPPTRGPPP  | 53.4615 | 0.000031 | ⋯ | P/PX   | - | 0 | 10:10 | X  | 136874412-136874413 | 302,174 | F | RBMX | No |\n",
       "| 7387 | HLA-A11:01 | AENDKPHDVEI | 44.2000 | 0.000096 | 41386.6 | 76.2431 | 0.017474 | AENDKPHDVEI | 44.2000 | 0.000096 | ⋯ | INK/IX | - | 0 | 11:11 | 20 | 58440921-58440925   | 137     | F | VAPB | No |\n",
       "| 7388 | HLA-C08:01 | APPTRGPPP   | 44.1667 | 0.000065 | 41920.2 | 48.1296 | 0.016290 | APPTRGPPP   | 44.1667 | 0.000065 | ⋯ | P/PX   | - | 0 | 9:9   | X  | 136874412-136874413 | 302,174 | F | RBMX | No |\n",
       "| 7389 | HLA-B15:02 | PPTRGPPP    | 92.5000 | 0.000003 | 46658.9 | 96.5796 | 0.006392 | PPTRGPPP    | 92.5000 | 0.000003 | ⋯ | P/PX   | - | 0 | 8:8   | X  | 136874412-136874413 | 302,174 | F | RBMX | No |\n",
       "| 7390 | HLA-A11:01 | PPTRGPPP    | 98.3333 | 0.000001 | 47700.7 | 97.4988 | 0.004351 | PPTRGPPP    | 98.3333 | 0.000001 | ⋯ | P/PX   | - | 0 | 8:8   | X  | 136874412-136874413 | 302,174 | F | RBMX | No |\n",
       "| 7391 | HLA-B15:01 | PPTRGPPP    | 96.6667 | 0.000002 | 47344.4 | 97.7438 | 0.005044 | PPTRGPPP    | 96.6667 | 0.000002 | ⋯ | P/PX   | - | 0 | 8:8   | X  | 136874412-136874413 | 302,174 | F | RBMX | No |\n",
       "| 7392 | HLA-C03:03 | PPTRGPPP    | 90.0000 | 0.000001 | 48403.6 | 95.2994 | 0.002999 | PPTRGPPP    | 90.0000 | 0.000001 | ⋯ | P/PX   | - | 0 | 8:8   | X  | 136874412-136874413 | 302,174 | F | RBMX | No |\n",
       "| 7393 | HLA-B15:02 | NDKPHDVEI   |  9.3652 | 0.004685 | 32303.8 | 44.7744 | 0.040374 | NDKPHDVEI   |  9.3652 | 0.004685 | ⋯ | INK/IX | - | 0 | 9:9   | 20 | 58440921-58440925   | 137     | F | VAPB | No |\n",
       "| 7394 | HLA-B15:01 | DKPHDVEI    | 62.7500 | 0.000062 | 43607.5 | 93.2134 | 0.012643 | DKPHDVEI    | 62.7500 | 0.000062 | ⋯ | INK/IX | - | 0 | 8:8   | 20 | 58440921-58440925   | 137     | F | VAPB | No |\n",
       "| 7395 | HLA-C03:03 | DKPHDVEI    | 44.1667 | 0.000062 | 45618.5 | 74.7301 | 0.008476 | DKPHDVEI    | 44.1667 | 0.000062 | ⋯ | INK/IX | - | 0 | 8:8   | 20 | 58440921-58440925   | 137     | F | VAPB | No |\n",
       "| 7396 | HLA-A02:01 | DKPHDVEI    | 61.7857 | 0.000045 | 44319.1 | 88.4493 | 0.011147 | DKPHDVEI    | 61.7857 | 0.000045 | ⋯ | INK/IX | - | 0 | 8:8   | 20 | 58440921-58440925   | 137     | F | VAPB | No |\n",
       "| 7397 | HLA-C08:01 | DKPHDVEI    | 38.6000 | 0.000107 | 45951.5 | 73.6098 | 0.007804 | DKPHDVEI    | 38.6000 | 0.000107 | ⋯ | INK/IX | - | 0 | 8:8   | 20 | 58440921-58440925   | 137     | F | VAPB | No |\n",
       "| 7398 | HLA-C08:01 | NDKPHDVEI   | 16.5369 | 0.001357 | 39801.3 | 39.7903 | 0.021084 | NDKPHDVEI   | 16.5369 | 0.001357 | ⋯ | INK/IX | - | 0 | 9:9   | 20 | 58440921-58440925   | 137     | F | VAPB | No |\n",
       "| 7399 | HLA-A02:01 | NDKPHDVEI   | 34.5385 | 0.000296 | 39576.3 | 69.3201 | 0.021608 | NDKPHDVEI   | 34.5385 | 0.000296 | ⋯ | INK/IX | - | 0 | 9:9   | 20 | 58440921-58440925   | 137     | F | VAPB | No |\n",
       "| 7400 | HLA-C03:03 | NDKPHDVEI   | 18.7625 | 0.001063 | 39753.9 | 46.4034 | 0.021194 | NDKPHDVEI   | 18.7625 | 0.001063 | ⋯ | INK/IX | - | 0 | 9:9   | 20 | 58440921-58440925   | 137     | F | VAPB | No |\n",
       "| 7401 | HLA-B15:01 | NDKPHDVEI   | 19.9500 | 0.001588 | 34641.0 | 64.4962 | 0.033918 | NDKPHDVEI   | 19.9500 | 0.001588 | ⋯ | INK/IX | - | 0 | 9:9   | 20 | 58440921-58440925   | 137     | F | VAPB | No |\n",
       "| 7402 | HLA-A11:01 | NDKPHDVEI   | 37.4545 | 0.000149 | 40984.7 | 74.1964 | 0.018376 | NDKPHDVEI   | 37.4545 | 0.000149 | ⋯ | INK/IX | - | 0 | 9:9   | 20 | 58440921-58440925   | 137     | F | VAPB | No |\n",
       "| 7403 | HLA-C08:01 | PPTRGPPP    | 95.0000 | 0.000001 | 48617.8 | 95.8047 | 0.002591 | PPTRGPPP    | 95.0000 | 0.000001 | ⋯ | P/PX   | - | 0 | 8:8   | X  | 136874412-136874413 | 302,174 | F | RBMX | No |\n",
       "| 7404 | HLA-A02:01 | PPTRGPPP    | 98.3333 | 0.000001 | 47580.6 | 96.9123 | 0.004584 | PPTRGPPP    | 98.3333 | 0.000001 | ⋯ | P/PX   | - | 0 | 8:8   | X  | 136874412-136874413 | 302,174 | F | RBMX | No |\n",
       "| 7405 | HLA-B15:02 | DKPHDVEI    | 59.7059 | 0.000042 | 44008.5 | 91.0435 | 0.011797 | DKPHDVEI    | 59.7059 | 0.000042 | ⋯ | INK/IX | - | 0 | 8:8   | 20 | 58440921-58440925   | 137     | F | VAPB | No |\n",
       "| 7406 | HLA-A11:01 | RSAPPTRGPPP | 44.6000 | 0.000094 | 34852.7 | 47.0194 | 0.033355 | RSAPPTRGPPP | 44.6000 | 0.000094 | ⋯ | P/PX   | - | 0 | 11:11 | X  | 136874412-136874413 | 302,174 | F | RBMX | No |\n",
       "| 7407 | HLA-B15:02 | RSAPPTRGPPP | 67.7778 | 0.000025 | 40459.1 | 76.3904 | 0.019569 | RSAPPTRGPPP | 67.7778 | 0.000025 | ⋯ | P/PX   | - | 0 | 11:11 | X  | 136874412-136874413 | 302,174 | F | RBMX | No |\n",
       "| 7408 | HLA-C08:01 | RSAPPTRGPPP | 57.2222 | 0.000023 | 41704.9 | 47.1520 | 0.016766 | RSAPPTRGPPP | 57.2222 | 0.000023 | ⋯ | P/PX   | - | 0 | 11:11 | X  | 136874412-136874413 | 302,174 | F | RBMX | No |\n",
       "| 7409 | HLA-A02:01 | RSAPPTRGPPP | 67.0000 | 0.000032 | 38570.6 | 65.5582 | 0.023987 | RSAPPTRGPPP | 67.0000 | 0.000032 | ⋯ | P/PX   | - | 0 | 11:11 | X  | 136874412-136874413 | 302,174 | F | RBMX | No |\n",
       "| 7410 | HLA-C03:03 | RSAPPTRGPPP | 55.0000 | 0.000024 | 40282.2 | 48.2192 | 0.019974 | RSAPPTRGPPP | 55.0000 | 0.000024 | ⋯ | P/PX   | - | 0 | 11:11 | X  | 136874412-136874413 | 302,174 | F | RBMX | No |\n",
       "| ⋮ | ⋮ | ⋮ | ⋮ | ⋮ | ⋮ | ⋮ | ⋮ | ⋮ | ⋮ | ⋮ | ⋱ | ⋮ | ⋮ | ⋮ | ⋮ | ⋮ | ⋮ | ⋮ | ⋮ | ⋮ | ⋮ |\n",
       "| 8730 | HLA-A03:01 | ALPEEYRD    |  81.6667 | 0.000018 | 45655.6 | 95.9159 | 0.008401 | ALPEEYRD    |  81.6667 | 0.000018 | ⋯ | D/X | - | 0 | 8:8   | 8  | 28113105            | 183,91,169,169,111,64                                            | F | ELP3  | No  |\n",
       "| 8731 | HLA-C17:01 | ALPEEYRD    |  83.8889 | 0.000013 | 47918.0 | 91.7732 | 0.003931 | ALPEEYRD    |  83.8889 | 0.000013 | ⋯ | D/X | - | 0 | 8:8   | 8  | 28113105            | 183,91,169,169,111,64                                            | F | ELP3  | No  |\n",
       "| 8737 | HLA-B41:01 | ALPEEYRD    |  80.7143 | 0.000019 | 45060.3 | 95.8047 | 0.009614 | ALPEEYRD    |  80.7143 | 0.000019 | ⋯ | D/X | - | 0 | 8:8   | 8  | 28113105            | 183,91,169,169,111,64                                            | F | ELP3  | No  |\n",
       "| 8738 | HLA-C17:01 | MALPEEYRD   |  57.0000 | 0.000159 | 44248.1 | 65.1053 | 0.011295 | MALPEEYRD   |  57.0000 | 0.000159 | ⋯ | D/X | - | 0 | 9:9   | 8  | 28113105            | 183,91,169,169,111,64                                            | F | ELP3  | No  |\n",
       "| 8739 | HLA-A02:05 | FMALPEEYRD  |  33.3578 | 0.001381 | 10283.4 | 21.7312 | 0.146167 | FMALPEEYRD  |  33.3578 | 0.001381 | ⋯ | D/X | - | 0 | 10:10 | 8  | 28113105            | 183,91,169,169,111,64                                            | F | ELP3  | No  |\n",
       "| 8740 | HLA-A03:01 | MALPEEYRD   |  60.7143 | 0.000058 | 42602.0 | 86.7146 | 0.014799 | MALPEEYRD   |  60.7143 | 0.000058 | ⋯ | D/X | - | 0 | 9:9   | 8  | 28113105            | 183,91,169,169,111,64                                            | F | ELP3  | No  |\n",
       "| 8741 | HLA-C16:02 | FMALPEEYRD  |  59.5763 | 0.000131 | 35916.5 | 52.6243 | 0.030576 | FMALPEEYRD  |  59.5763 | 0.000131 | ⋯ | D/X | - | 0 | 10:10 | 8  | 28113105            | 183,91,169,169,111,64                                            | F | ELP3  | No  |\n",
       "| 8742 | HLA-B41:01 | MALPEEYRD   |  67.3333 | 0.000048 | 40328.4 | 78.7388 | 0.019868 | MALPEEYRD   |  67.3333 | 0.000048 | ⋯ | D/X | - | 0 | 9:9   | 8  | 28113105            | 183,91,169,169,111,64                                            | F | ELP3  | No  |\n",
       "| 38921 | HLA-A02:01 | AATTAIGG    |  85.0000 | 0.000008 | 43745.5 | 86.1357 | 0.012351 | AATTAIGG    |  85.0000 | 0.000008 | ⋯ | G/X | - | 0 | 8:8   | 20 | 32434639            | 638,643,643,643,582                                              | F | ASXL1 | Yes |\n",
       "| 38922 | HLA-C07:01 | AATTAIGG    |  85.0000 | 0.000012 | 46677.0 | 93.0558 | 0.006356 | AATTAIGG    |  85.0000 | 0.000012 | ⋯ | G/X | - | 0 | 8:8   | 20 | 32434639            | 638,643,643,643,582                                              | F | ASXL1 | Yes |\n",
       "| 38923 | HLA-B15:09 | AATTAIGG    |  68.3333 | 0.000007 | 45417.6 | 74.8935 | 0.008884 | AATTAIGG    |  68.3333 | 0.000007 | ⋯ | G/X | - | 0 | 8:8   | 20 | 32434639            | 638,643,643,643,582                                              | F | ASXL1 | Yes |\n",
       "| 38924 | HLA-C06:02 | AATTAIGG    |  72.6316 | 0.000051 | 45921.1 | 88.8202 | 0.007865 | AATTAIGG    |  72.6316 | 0.000051 | ⋯ | G/X | - | 0 | 8:8   | 20 | 32434639            | 638,643,643,643,582                                              | F | ASXL1 | Yes |\n",
       "| 38925 | HLA-B49:01 | AATTAIGG    |  55.5263 | 0.000066 | 42744.2 | 72.9057 | 0.014491 | AATTAIGG    |  55.5263 | 0.000066 | ⋯ | G/X | - | 0 | 8:8   | 20 | 32434639            | 638,643,643,643,582                                              | F | ASXL1 | Yes |\n",
       "| 38926 | HLA-A01:01 | AATTAIGG    |  71.8571 | 0.000129 | 43823.2 | 86.5010 | 0.012187 | AATTAIGG    |  71.8571 | 0.000129 | ⋯ | G/X | - | 0 | 8:8   | 20 | 32434639            | 638,643,643,643,582                                              | F | ASXL1 | Yes |\n",
       "| 38927 | HLA-B49:01 | CVICMDTISNK |  93.3333 | 0.000003 | 42450.6 | 71.2276 | 0.015128 | CVICMDTISNK |  93.3333 | 0.000003 | ⋯ | -/X | - | 0 | 10:11 | 3  | 122569799-122569800 | 570                                                              | F | DTX3L | No  |\n",
       "| 38928 | HLA-B15:09 | CVICMDTISNK | 100.0000 | 0.000000 | 46830.8 | 88.4402 | 0.006052 | CVICMDTISNK | 100.0000 | 0.000000 | ⋯ | -/X | - | 0 | 10:11 | 3  | 122569799-122569800 | 570                                                              | F | DTX3L | No  |\n",
       "| 38932 | HLA-C07:01 | CVICMDTISNK |  62.6000 | 0.000070 | 35885.1 | 42.4715 | 0.030657 | CVICMDTISNK |  62.6000 | 0.000070 | ⋯ | -/X | - | 0 | 10:11 | 3  | 122569799-122569800 | 570                                                              | F | DTX3L | No  |\n",
       "| 38935 | HLA-A01:01 | CVICMDTISNK |  53.0978 | 0.000348 | 30357.6 | 24.5774 | 0.046117 | CVICMDTISNK |  53.0978 | 0.000348 | ⋯ | -/X | - | 0 | 10:11 | 3  | 122569799-122569800 | 570                                                              | F | DTX3L | No  |\n",
       "| 38937 | HLA-C06:02 | CVICMDTISNK |  76.5385 | 0.000038 | 39034.9 | 51.3369 | 0.022881 | CVICMDTISNK |  76.5385 | 0.000038 | ⋯ | -/X | - | 0 | 10:11 | 3  | 122569799-122569800 | 570                                                              | F | DTX3L | No  |\n",
       "| 38938 | HLA-A01:01 | NKPILLPNES  |  84.3750 | 0.000057 | 44271.6 | 88.8395 | 0.011246 | NKPILLPNES  |  84.3750 | 0.000057 | ⋯ | S/X | - | 0 | 10:10 | 16 | 2085231-2085232     | 1524,1501,1409,1457,1421,1468,1076,1481,1458,1480,1481,1457,1498 | F | TSC2  | Yes |\n",
       "| 38939 | HLA-C07:01 | NKPILLPNES  |  74.6154 | 0.000029 | 43911.4 | 77.1029 | 0.012001 | NKPILLPNES  |  74.6154 | 0.000029 | ⋯ | S/X | - | 0 | 10:10 | 16 | 2085231-2085232     | 1524,1501,1409,1457,1421,1468,1076,1481,1458,1480,1481,1457,1498 | F | TSC2  | Yes |\n",
       "| 38940 | HLA-B15:09 | NKPILLPNES  |  39.4000 | 0.000060 | 40305.3 | 39.2211 | 0.019921 | NKPILLPNES  |  39.4000 | 0.000060 | ⋯ | S/X | - | 0 | 10:10 | 16 | 2085231-2085232     | 1524,1501,1409,1457,1421,1468,1076,1481,1458,1480,1481,1457,1498 | F | TSC2  | Yes |\n",
       "| 38941 | HLA-C06:02 | NKPILLPNES  |  68.2692 | 0.000070 | 43931.4 | 76.2076 | 0.011959 | NKPILLPNES  |  68.2692 | 0.000070 | ⋯ | S/X | - | 0 | 10:10 | 16 | 2085231-2085232     | 1524,1501,1409,1457,1421,1468,1076,1481,1458,1480,1481,1457,1498 | F | TSC2  | Yes |\n",
       "| 38942 | HLA-A02:01 | NKPILLPNES  |  73.7500 | 0.000020 | 42300.7 | 80.1969 | 0.015455 | NKPILLPNES  |  73.7500 | 0.000020 | ⋯ | S/X | - | 0 | 10:10 | 16 | 2085231-2085232     | 1524,1501,1409,1457,1421,1468,1076,1481,1458,1480,1481,1457,1498 | F | TSC2  | Yes |\n",
       "| 38943 | HLA-A02:01 | CVICMDTISNK |  54.6296 | 0.000071 | 26168.5 | 34.0837 | 0.059841 | CVICMDTISNK |  54.6296 | 0.000071 | ⋯ | -/X | - | 0 | 10:11 | 3  | 122569799-122569800 | 570                                                              | F | DTX3L | No  |\n",
       "| 38950 | HLA-B49:01 | PILLPNES    |  88.3333 | 0.000006 | 47854.8 | 96.7679 | 0.004053 | PILLPNES    |  88.3333 | 0.000006 | ⋯ | S/X | - | 0 | 8:8   | 16 | 2085231-2085232     | 1524,1501,1409,1457,1421,1468,1076,1481,1458,1480,1481,1457,1498 | F | TSC2  | Yes |\n",
       "| 38951 | HLA-A01:01 | PILLPNES    |  87.3684 | 0.000045 | 45819.9 | 95.1856 | 0.008069 | PILLPNES    |  87.3684 | 0.000045 | ⋯ | S/X | - | 0 | 8:8   | 16 | 2085231-2085232     | 1524,1501,1409,1457,1421,1468,1076,1481,1458,1480,1481,1457,1498 | F | TSC2  | Yes |\n",
       "| 38952 | HLA-C07:01 | PILLPNES    |  93.7500 | 0.000004 | 47918.5 | 96.5023 | 0.003930 | PILLPNES    |  93.7500 | 0.000004 | ⋯ | S/X | - | 0 | 8:8   | 16 | 2085231-2085232     | 1524,1501,1409,1457,1421,1468,1076,1481,1458,1480,1481,1457,1498 | F | TSC2  | Yes |\n",
       "| 38953 | HLA-B15:09 | PILLPNES    |  70.0000 | 0.000006 | 46971.9 | 89.7703 | 0.005774 | PILLPNES    |  70.0000 | 0.000006 | ⋯ | S/X | - | 0 | 8:8   | 16 | 2085231-2085232     | 1524,1501,1409,1457,1421,1468,1076,1481,1458,1480,1481,1457,1498 | F | TSC2  | Yes |\n",
       "| 38954 | HLA-C06:02 | PILLPNES    |  88.1250 | 0.000014 | 48041.5 | 96.7353 | 0.003693 | PILLPNES    |  88.1250 | 0.000014 | ⋯ | S/X | - | 0 | 8:8   | 16 | 2085231-2085232     | 1524,1501,1409,1457,1421,1468,1076,1481,1458,1480,1481,1457,1498 | F | TSC2  | Yes |\n",
       "\n"
      ],
      "text/plain": [
       "      HLA_allele Norm_peptide Norm_MHCrank_EL Norm_MHCscore_EL Norm_MHCaffinity\n",
       "7381  HLA-B15:02 APPTRGPPP    32.4167         0.000276         37281.8         \n",
       "7382  HLA-B15:01 APPTRGPPP    67.0000         0.000047         41264.6         \n",
       "7383  HLA-A11:01 APPTRGPPP    57.0833         0.000046         42153.6         \n",
       "7384  HLA-C03:03 APPTRGPPP    34.2667         0.000160         37735.9         \n",
       "7385  HLA-A02:01 APPTRGPPP    65.0000         0.000036         42610.8         \n",
       "7386  HLA-C08:01 SAPPTRGPPP   53.4615         0.000031         41049.5         \n",
       "7387  HLA-A11:01 AENDKPHDVEI  44.2000         0.000096         41386.6         \n",
       "7388  HLA-C08:01 APPTRGPPP    44.1667         0.000065         41920.2         \n",
       "7389  HLA-B15:02 PPTRGPPP     92.5000         0.000003         46658.9         \n",
       "7390  HLA-A11:01 PPTRGPPP     98.3333         0.000001         47700.7         \n",
       "7391  HLA-B15:01 PPTRGPPP     96.6667         0.000002         47344.4         \n",
       "7392  HLA-C03:03 PPTRGPPP     90.0000         0.000001         48403.6         \n",
       "7393  HLA-B15:02 NDKPHDVEI     9.3652         0.004685         32303.8         \n",
       "7394  HLA-B15:01 DKPHDVEI     62.7500         0.000062         43607.5         \n",
       "7395  HLA-C03:03 DKPHDVEI     44.1667         0.000062         45618.5         \n",
       "7396  HLA-A02:01 DKPHDVEI     61.7857         0.000045         44319.1         \n",
       "7397  HLA-C08:01 DKPHDVEI     38.6000         0.000107         45951.5         \n",
       "7398  HLA-C08:01 NDKPHDVEI    16.5369         0.001357         39801.3         \n",
       "7399  HLA-A02:01 NDKPHDVEI    34.5385         0.000296         39576.3         \n",
       "7400  HLA-C03:03 NDKPHDVEI    18.7625         0.001063         39753.9         \n",
       "7401  HLA-B15:01 NDKPHDVEI    19.9500         0.001588         34641.0         \n",
       "7402  HLA-A11:01 NDKPHDVEI    37.4545         0.000149         40984.7         \n",
       "7403  HLA-C08:01 PPTRGPPP     95.0000         0.000001         48617.8         \n",
       "7404  HLA-A02:01 PPTRGPPP     98.3333         0.000001         47580.6         \n",
       "7405  HLA-B15:02 DKPHDVEI     59.7059         0.000042         44008.5         \n",
       "7406  HLA-A11:01 RSAPPTRGPPP  44.6000         0.000094         34852.7         \n",
       "7407  HLA-B15:02 RSAPPTRGPPP  67.7778         0.000025         40459.1         \n",
       "7408  HLA-C08:01 RSAPPTRGPPP  57.2222         0.000023         41704.9         \n",
       "7409  HLA-A02:01 RSAPPTRGPPP  67.0000         0.000032         38570.6         \n",
       "7410  HLA-C03:03 RSAPPTRGPPP  55.0000         0.000024         40282.2         \n",
       "⋮     ⋮          ⋮            ⋮               ⋮                ⋮               \n",
       "8730  HLA-A03:01 ALPEEYRD      81.6667        0.000018         45655.6         \n",
       "8731  HLA-C17:01 ALPEEYRD      83.8889        0.000013         47918.0         \n",
       "8737  HLA-B41:01 ALPEEYRD      80.7143        0.000019         45060.3         \n",
       "8738  HLA-C17:01 MALPEEYRD     57.0000        0.000159         44248.1         \n",
       "8739  HLA-A02:05 FMALPEEYRD    33.3578        0.001381         10283.4         \n",
       "8740  HLA-A03:01 MALPEEYRD     60.7143        0.000058         42602.0         \n",
       "8741  HLA-C16:02 FMALPEEYRD    59.5763        0.000131         35916.5         \n",
       "8742  HLA-B41:01 MALPEEYRD     67.3333        0.000048         40328.4         \n",
       "38921 HLA-A02:01 AATTAIGG      85.0000        0.000008         43745.5         \n",
       "38922 HLA-C07:01 AATTAIGG      85.0000        0.000012         46677.0         \n",
       "38923 HLA-B15:09 AATTAIGG      68.3333        0.000007         45417.6         \n",
       "38924 HLA-C06:02 AATTAIGG      72.6316        0.000051         45921.1         \n",
       "38925 HLA-B49:01 AATTAIGG      55.5263        0.000066         42744.2         \n",
       "38926 HLA-A01:01 AATTAIGG      71.8571        0.000129         43823.2         \n",
       "38927 HLA-B49:01 CVICMDTISNK   93.3333        0.000003         42450.6         \n",
       "38928 HLA-B15:09 CVICMDTISNK  100.0000        0.000000         46830.8         \n",
       "38932 HLA-C07:01 CVICMDTISNK   62.6000        0.000070         35885.1         \n",
       "38935 HLA-A01:01 CVICMDTISNK   53.0978        0.000348         30357.6         \n",
       "38937 HLA-C06:02 CVICMDTISNK   76.5385        0.000038         39034.9         \n",
       "38938 HLA-A01:01 NKPILLPNES    84.3750        0.000057         44271.6         \n",
       "38939 HLA-C07:01 NKPILLPNES    74.6154        0.000029         43911.4         \n",
       "38940 HLA-B15:09 NKPILLPNES    39.4000        0.000060         40305.3         \n",
       "38941 HLA-C06:02 NKPILLPNES    68.2692        0.000070         43931.4         \n",
       "38942 HLA-A02:01 NKPILLPNES    73.7500        0.000020         42300.7         \n",
       "38943 HLA-A02:01 CVICMDTISNK   54.6296        0.000071         26168.5         \n",
       "38950 HLA-B49:01 PILLPNES      88.3333        0.000006         47854.8         \n",
       "38951 HLA-A01:01 PILLPNES      87.3684        0.000045         45819.9         \n",
       "38952 HLA-C07:01 PILLPNES      93.7500        0.000004         47918.5         \n",
       "38953 HLA-B15:09 PILLPNES      70.0000        0.000006         46971.9         \n",
       "38954 HLA-C06:02 PILLPNES      88.1250        0.000014         48041.5         \n",
       "      Norm_MHCrank_BA Norm_MHCscore_BA Mut_peptide Mut_MHCrank_EL\n",
       "7381  62.7439         0.027128         APPTRGPPP   32.4167       \n",
       "7382  86.4839         0.017747         APPTRGPPP   67.0000       \n",
       "7383  80.1349         0.015777         APPTRGPPP   57.0833       \n",
       "7384  40.4554         0.026009         APPTRGPPP   34.2667       \n",
       "7385  81.4870         0.014780         APPTRGPPP   65.0000       \n",
       "7386  44.3978         0.018230         SAPPTRGPPP  53.4615       \n",
       "7387  76.2431         0.017474         AENDKPHDVEI 44.2000       \n",
       "7388  48.1296         0.016290         APPTRGPPP   44.1667       \n",
       "7389  96.5796         0.006392         PPTRGPPP    92.5000       \n",
       "7390  97.4988         0.004351         PPTRGPPP    98.3333       \n",
       "7391  97.7438         0.005044         PPTRGPPP    96.6667       \n",
       "7392  95.2994         0.002999         PPTRGPPP    90.0000       \n",
       "7393  44.7744         0.040374         NDKPHDVEI    9.3652       \n",
       "7394  93.2134         0.012643         DKPHDVEI    62.7500       \n",
       "7395  74.7301         0.008476         DKPHDVEI    44.1667       \n",
       "7396  88.4493         0.011147         DKPHDVEI    61.7857       \n",
       "7397  73.6098         0.007804         DKPHDVEI    38.6000       \n",
       "7398  39.7903         0.021084         NDKPHDVEI   16.5369       \n",
       "7399  69.3201         0.021608         NDKPHDVEI   34.5385       \n",
       "7400  46.4034         0.021194         NDKPHDVEI   18.7625       \n",
       "7401  64.4962         0.033918         NDKPHDVEI   19.9500       \n",
       "7402  74.1964         0.018376         NDKPHDVEI   37.4545       \n",
       "7403  95.8047         0.002591         PPTRGPPP    95.0000       \n",
       "7404  96.9123         0.004584         PPTRGPPP    98.3333       \n",
       "7405  91.0435         0.011797         DKPHDVEI    59.7059       \n",
       "7406  47.0194         0.033355         RSAPPTRGPPP 44.6000       \n",
       "7407  76.3904         0.019569         RSAPPTRGPPP 67.7778       \n",
       "7408  47.1520         0.016766         RSAPPTRGPPP 57.2222       \n",
       "7409  65.5582         0.023987         RSAPPTRGPPP 67.0000       \n",
       "7410  48.2192         0.019974         RSAPPTRGPPP 55.0000       \n",
       "⋮     ⋮               ⋮                ⋮           ⋮             \n",
       "8730  95.9159         0.008401         ALPEEYRD     81.6667      \n",
       "8731  91.7732         0.003931         ALPEEYRD     83.8889      \n",
       "8737  95.8047         0.009614         ALPEEYRD     80.7143      \n",
       "8738  65.1053         0.011295         MALPEEYRD    57.0000      \n",
       "8739  21.7312         0.146167         FMALPEEYRD   33.3578      \n",
       "8740  86.7146         0.014799         MALPEEYRD    60.7143      \n",
       "8741  52.6243         0.030576         FMALPEEYRD   59.5763      \n",
       "8742  78.7388         0.019868         MALPEEYRD    67.3333      \n",
       "38921 86.1357         0.012351         AATTAIGG     85.0000      \n",
       "38922 93.0558         0.006356         AATTAIGG     85.0000      \n",
       "38923 74.8935         0.008884         AATTAIGG     68.3333      \n",
       "38924 88.8202         0.007865         AATTAIGG     72.6316      \n",
       "38925 72.9057         0.014491         AATTAIGG     55.5263      \n",
       "38926 86.5010         0.012187         AATTAIGG     71.8571      \n",
       "38927 71.2276         0.015128         CVICMDTISNK  93.3333      \n",
       "38928 88.4402         0.006052         CVICMDTISNK 100.0000      \n",
       "38932 42.4715         0.030657         CVICMDTISNK  62.6000      \n",
       "38935 24.5774         0.046117         CVICMDTISNK  53.0978      \n",
       "38937 51.3369         0.022881         CVICMDTISNK  76.5385      \n",
       "38938 88.8395         0.011246         NKPILLPNES   84.3750      \n",
       "38939 77.1029         0.012001         NKPILLPNES   74.6154      \n",
       "38940 39.2211         0.019921         NKPILLPNES   39.4000      \n",
       "38941 76.2076         0.011959         NKPILLPNES   68.2692      \n",
       "38942 80.1969         0.015455         NKPILLPNES   73.7500      \n",
       "38943 34.0837         0.059841         CVICMDTISNK  54.6296      \n",
       "38950 96.7679         0.004053         PILLPNES     88.3333      \n",
       "38951 95.1856         0.008069         PILLPNES     87.3684      \n",
       "38952 96.5023         0.003930         PILLPNES     93.7500      \n",
       "38953 89.7703         0.005774         PILLPNES     70.0000      \n",
       "38954 96.7353         0.003693         PILLPNES     88.1250      \n",
       "      Mut_MHCscore_EL ⋯ Amino_Acid_Change Allele_Frequency Mismatches\n",
       "7381  0.000276        ⋯ P/PX              -                0         \n",
       "7382  0.000047        ⋯ P/PX              -                0         \n",
       "7383  0.000046        ⋯ P/PX              -                0         \n",
       "7384  0.000160        ⋯ P/PX              -                0         \n",
       "7385  0.000036        ⋯ P/PX              -                0         \n",
       "7386  0.000031        ⋯ P/PX              -                0         \n",
       "7387  0.000096        ⋯ INK/IX            -                0         \n",
       "7388  0.000065        ⋯ P/PX              -                0         \n",
       "7389  0.000003        ⋯ P/PX              -                0         \n",
       "7390  0.000001        ⋯ P/PX              -                0         \n",
       "7391  0.000002        ⋯ P/PX              -                0         \n",
       "7392  0.000001        ⋯ P/PX              -                0         \n",
       "7393  0.004685        ⋯ INK/IX            -                0         \n",
       "7394  0.000062        ⋯ INK/IX            -                0         \n",
       "7395  0.000062        ⋯ INK/IX            -                0         \n",
       "7396  0.000045        ⋯ INK/IX            -                0         \n",
       "7397  0.000107        ⋯ INK/IX            -                0         \n",
       "7398  0.001357        ⋯ INK/IX            -                0         \n",
       "7399  0.000296        ⋯ INK/IX            -                0         \n",
       "7400  0.001063        ⋯ INK/IX            -                0         \n",
       "7401  0.001588        ⋯ INK/IX            -                0         \n",
       "7402  0.000149        ⋯ INK/IX            -                0         \n",
       "7403  0.000001        ⋯ P/PX              -                0         \n",
       "7404  0.000001        ⋯ P/PX              -                0         \n",
       "7405  0.000042        ⋯ INK/IX            -                0         \n",
       "7406  0.000094        ⋯ P/PX              -                0         \n",
       "7407  0.000025        ⋯ P/PX              -                0         \n",
       "7408  0.000023        ⋯ P/PX              -                0         \n",
       "7409  0.000032        ⋯ P/PX              -                0         \n",
       "7410  0.000024        ⋯ P/PX              -                0         \n",
       "⋮     ⋮               ⋱ ⋮                 ⋮                ⋮         \n",
       "8730  0.000018        ⋯ D/X               -                0         \n",
       "8731  0.000013        ⋯ D/X               -                0         \n",
       "8737  0.000019        ⋯ D/X               -                0         \n",
       "8738  0.000159        ⋯ D/X               -                0         \n",
       "8739  0.001381        ⋯ D/X               -                0         \n",
       "8740  0.000058        ⋯ D/X               -                0         \n",
       "8741  0.000131        ⋯ D/X               -                0         \n",
       "8742  0.000048        ⋯ D/X               -                0         \n",
       "38921 0.000008        ⋯ G/X               -                0         \n",
       "38922 0.000012        ⋯ G/X               -                0         \n",
       "38923 0.000007        ⋯ G/X               -                0         \n",
       "38924 0.000051        ⋯ G/X               -                0         \n",
       "38925 0.000066        ⋯ G/X               -                0         \n",
       "38926 0.000129        ⋯ G/X               -                0         \n",
       "38927 0.000003        ⋯ -/X               -                0         \n",
       "38928 0.000000        ⋯ -/X               -                0         \n",
       "38932 0.000070        ⋯ -/X               -                0         \n",
       "38935 0.000348        ⋯ -/X               -                0         \n",
       "38937 0.000038        ⋯ -/X               -                0         \n",
       "38938 0.000057        ⋯ S/X               -                0         \n",
       "38939 0.000029        ⋯ S/X               -                0         \n",
       "38940 0.000060        ⋯ S/X               -                0         \n",
       "38941 0.000070        ⋯ S/X               -                0         \n",
       "38942 0.000020        ⋯ S/X               -                0         \n",
       "38943 0.000071        ⋯ -/X               -                0         \n",
       "38950 0.000006        ⋯ S/X               -                0         \n",
       "38951 0.000045        ⋯ S/X               -                0         \n",
       "38952 0.000004        ⋯ S/X               -                0         \n",
       "38953 0.000006        ⋯ S/X               -                0         \n",
       "38954 0.000014        ⋯ S/X               -                0         \n",
       "      peptide_position Chr Genomic_Position   \n",
       "7381  9:9              X   136874412-136874413\n",
       "7382  9:9              X   136874412-136874413\n",
       "7383  9:9              X   136874412-136874413\n",
       "7384  9:9              X   136874412-136874413\n",
       "7385  9:9              X   136874412-136874413\n",
       "7386  10:10            X   136874412-136874413\n",
       "7387  11:11            20  58440921-58440925  \n",
       "7388  9:9              X   136874412-136874413\n",
       "7389  8:8              X   136874412-136874413\n",
       "7390  8:8              X   136874412-136874413\n",
       "7391  8:8              X   136874412-136874413\n",
       "7392  8:8              X   136874412-136874413\n",
       "7393  9:9              20  58440921-58440925  \n",
       "7394  8:8              20  58440921-58440925  \n",
       "7395  8:8              20  58440921-58440925  \n",
       "7396  8:8              20  58440921-58440925  \n",
       "7397  8:8              20  58440921-58440925  \n",
       "7398  9:9              20  58440921-58440925  \n",
       "7399  9:9              20  58440921-58440925  \n",
       "7400  9:9              20  58440921-58440925  \n",
       "7401  9:9              20  58440921-58440925  \n",
       "7402  9:9              20  58440921-58440925  \n",
       "7403  8:8              X   136874412-136874413\n",
       "7404  8:8              X   136874412-136874413\n",
       "7405  8:8              20  58440921-58440925  \n",
       "7406  11:11            X   136874412-136874413\n",
       "7407  11:11            X   136874412-136874413\n",
       "7408  11:11            X   136874412-136874413\n",
       "7409  11:11            X   136874412-136874413\n",
       "7410  11:11            X   136874412-136874413\n",
       "⋮     ⋮                ⋮   ⋮                  \n",
       "8730  8:8              8   28113105           \n",
       "8731  8:8              8   28113105           \n",
       "8737  8:8              8   28113105           \n",
       "8738  9:9              8   28113105           \n",
       "8739  10:10            8   28113105           \n",
       "8740  9:9              8   28113105           \n",
       "8741  10:10            8   28113105           \n",
       "8742  9:9              8   28113105           \n",
       "38921 8:8              20  32434639           \n",
       "38922 8:8              20  32434639           \n",
       "38923 8:8              20  32434639           \n",
       "38924 8:8              20  32434639           \n",
       "38925 8:8              20  32434639           \n",
       "38926 8:8              20  32434639           \n",
       "38927 10:11            3   122569799-122569800\n",
       "38928 10:11            3   122569799-122569800\n",
       "38932 10:11            3   122569799-122569800\n",
       "38935 10:11            3   122569799-122569800\n",
       "38937 10:11            3   122569799-122569800\n",
       "38938 10:10            16  2085231-2085232    \n",
       "38939 10:10            16  2085231-2085232    \n",
       "38940 10:10            16  2085231-2085232    \n",
       "38941 10:10            16  2085231-2085232    \n",
       "38942 10:10            16  2085231-2085232    \n",
       "38943 10:11            3   122569799-122569800\n",
       "38950 8:8              16  2085231-2085232    \n",
       "38951 8:8              16  2085231-2085232    \n",
       "38952 8:8              16  2085231-2085232    \n",
       "38953 8:8              16  2085231-2085232    \n",
       "38954 8:8              16  2085231-2085232    \n",
       "      Protein_position                                                \n",
       "7381  302,174                                                         \n",
       "7382  302,174                                                         \n",
       "7383  302,174                                                         \n",
       "7384  302,174                                                         \n",
       "7385  302,174                                                         \n",
       "7386  302,174                                                         \n",
       "7387  137                                                             \n",
       "7388  302,174                                                         \n",
       "7389  302,174                                                         \n",
       "7390  302,174                                                         \n",
       "7391  302,174                                                         \n",
       "7392  302,174                                                         \n",
       "7393  137                                                             \n",
       "7394  137                                                             \n",
       "7395  137                                                             \n",
       "7396  137                                                             \n",
       "7397  137                                                             \n",
       "7398  137                                                             \n",
       "7399  137                                                             \n",
       "7400  137                                                             \n",
       "7401  137                                                             \n",
       "7402  137                                                             \n",
       "7403  302,174                                                         \n",
       "7404  302,174                                                         \n",
       "7405  137                                                             \n",
       "7406  302,174                                                         \n",
       "7407  302,174                                                         \n",
       "7408  302,174                                                         \n",
       "7409  302,174                                                         \n",
       "7410  302,174                                                         \n",
       "⋮     ⋮                                                               \n",
       "8730  183,91,169,169,111,64                                           \n",
       "8731  183,91,169,169,111,64                                           \n",
       "8737  183,91,169,169,111,64                                           \n",
       "8738  183,91,169,169,111,64                                           \n",
       "8739  183,91,169,169,111,64                                           \n",
       "8740  183,91,169,169,111,64                                           \n",
       "8741  183,91,169,169,111,64                                           \n",
       "8742  183,91,169,169,111,64                                           \n",
       "38921 638,643,643,643,582                                             \n",
       "38922 638,643,643,643,582                                             \n",
       "38923 638,643,643,643,582                                             \n",
       "38924 638,643,643,643,582                                             \n",
       "38925 638,643,643,643,582                                             \n",
       "38926 638,643,643,643,582                                             \n",
       "38927 570                                                             \n",
       "38928 570                                                             \n",
       "38932 570                                                             \n",
       "38935 570                                                             \n",
       "38937 570                                                             \n",
       "38938 1524,1501,1409,1457,1421,1468,1076,1481,1458,1480,1481,1457,1498\n",
       "38939 1524,1501,1409,1457,1421,1468,1076,1481,1458,1480,1481,1457,1498\n",
       "38940 1524,1501,1409,1457,1421,1468,1076,1481,1458,1480,1481,1457,1498\n",
       "38941 1524,1501,1409,1457,1421,1468,1076,1481,1458,1480,1481,1457,1498\n",
       "38942 1524,1501,1409,1457,1421,1468,1076,1481,1458,1480,1481,1457,1498\n",
       "38943 570                                                             \n",
       "38950 1524,1501,1409,1457,1421,1468,1076,1481,1458,1480,1481,1457,1498\n",
       "38951 1524,1501,1409,1457,1421,1468,1076,1481,1458,1480,1481,1457,1498\n",
       "38952 1524,1501,1409,1457,1421,1468,1076,1481,1458,1480,1481,1457,1498\n",
       "38953 1524,1501,1409,1457,1421,1468,1076,1481,1458,1480,1481,1457,1498\n",
       "38954 1524,1501,1409,1457,1421,1468,1076,1481,1458,1480,1481,1457,1498\n",
       "      Mutation_Consequence Gene_Symbol Cancer_Driver_Gene\n",
       "7381  F                    RBMX        No                \n",
       "7382  F                    RBMX        No                \n",
       "7383  F                    RBMX        No                \n",
       "7384  F                    RBMX        No                \n",
       "7385  F                    RBMX        No                \n",
       "7386  F                    RBMX        No                \n",
       "7387  F                    VAPB        No                \n",
       "7388  F                    RBMX        No                \n",
       "7389  F                    RBMX        No                \n",
       "7390  F                    RBMX        No                \n",
       "7391  F                    RBMX        No                \n",
       "7392  F                    RBMX        No                \n",
       "7393  F                    VAPB        No                \n",
       "7394  F                    VAPB        No                \n",
       "7395  F                    VAPB        No                \n",
       "7396  F                    VAPB        No                \n",
       "7397  F                    VAPB        No                \n",
       "7398  F                    VAPB        No                \n",
       "7399  F                    VAPB        No                \n",
       "7400  F                    VAPB        No                \n",
       "7401  F                    VAPB        No                \n",
       "7402  F                    VAPB        No                \n",
       "7403  F                    RBMX        No                \n",
       "7404  F                    RBMX        No                \n",
       "7405  F                    VAPB        No                \n",
       "7406  F                    RBMX        No                \n",
       "7407  F                    RBMX        No                \n",
       "7408  F                    RBMX        No                \n",
       "7409  F                    RBMX        No                \n",
       "7410  F                    RBMX        No                \n",
       "⋮     ⋮                    ⋮           ⋮                 \n",
       "8730  F                    ELP3        No                \n",
       "8731  F                    ELP3        No                \n",
       "8737  F                    ELP3        No                \n",
       "8738  F                    ELP3        No                \n",
       "8739  F                    ELP3        No                \n",
       "8740  F                    ELP3        No                \n",
       "8741  F                    ELP3        No                \n",
       "8742  F                    ELP3        No                \n",
       "38921 F                    ASXL1       Yes               \n",
       "38922 F                    ASXL1       Yes               \n",
       "38923 F                    ASXL1       Yes               \n",
       "38924 F                    ASXL1       Yes               \n",
       "38925 F                    ASXL1       Yes               \n",
       "38926 F                    ASXL1       Yes               \n",
       "38927 F                    DTX3L       No                \n",
       "38928 F                    DTX3L       No                \n",
       "38932 F                    DTX3L       No                \n",
       "38935 F                    DTX3L       No                \n",
       "38937 F                    DTX3L       No                \n",
       "38938 F                    TSC2        Yes               \n",
       "38939 F                    TSC2        Yes               \n",
       "38940 F                    TSC2        Yes               \n",
       "38941 F                    TSC2        Yes               \n",
       "38942 F                    TSC2        Yes               \n",
       "38943 F                    DTX3L       No                \n",
       "38950 F                    TSC2        Yes               \n",
       "38951 F                    TSC2        Yes               \n",
       "38952 F                    TSC2        Yes               \n",
       "38953 F                    TSC2        Yes               \n",
       "38954 F                    TSC2        Yes               "
      ]
     },
     "metadata": {},
     "output_type": "display_data"
    }
   ],
   "source": [
    "head(all.mupexi[ all.mupexi$Mismatches == 0,1:25],100)"
   ]
  },
  {
   "cell_type": "code",
   "execution_count": 159,
   "metadata": {},
   "outputs": [],
   "source": [
    "Listofpatients_numberof2 <- list()\n",
    "\n",
    "for(p in unique(onemis_mupexi$sample_id)){\n",
    "\n",
    "    mysample <- onemis_mupexi[ onemis_mupexi$sample_id == p,]\n",
    "    \n",
    "    mysample$HLA_residue <- paste(mysample$HLA_allele, mysample$Amino_Acid_Change, sep = \"-\")    \n",
    "    \n",
    "    mygenes <- unique(mysample$Gene_Symbol)\n",
    "    myres <- unique(mysample$Amino_Acid_Change)\n",
    "    myhla <- unique(mysample$HLA_allele)\n",
    "    \n",
    "    hla_res <- as.vector(sapply(unique(mysample$HLA_allele), function(x) paste(x,unique(mysample$Amino_Acid_Change), sep = \"-\" )))\n",
    "                                \n",
    "    gene_reshlamat <- matrix(nrow = length(mygenes), ncol = length(hla_res),\n",
    "                             dimnames = list(mygenes, hla_res))\n",
    "                                \n",
    "    for(r in colnames(gene_reshlamat)){\n",
    "        \n",
    "    hlares <- mysample[ mysample$HLA_residue == r,]\n",
    "    for(g in unique(hlares$Gene_Symbol)){\n",
    "        myresmygen <- hlares[ hlares$Gene_Symbol == g,]\n",
    "        lessthan2 <- sum(myresmygen$Mut_MHCrank_BA < 2)\n",
    "        BestRank <- lessthan2\n",
    "        gene_reshlamat[g,r] <- BestRank\n",
    "    } \n",
    "                \n",
    "    }\n",
    "                                \n",
    "    Listofpatients_numberof2[length(Listofpatients_numberof2) + 1] <- list(gene_reshlamat)\n",
    "                            \n",
    "                                }\n",
    "    \n",
    "names(Listofpatients_numberof2) <- unique(onemis_mupexi$sample_id)"
   ]
  },
  {
   "cell_type": "code",
   "execution_count": 160,
   "metadata": {},
   "outputs": [],
   "source": [
    "save(Listofpatients_numberof2, file = paste0(datapath, \"Mupexi/Listofpatients_count2.RData\"))"
   ]
  },
  {
   "cell_type": "code",
   "execution_count": 165,
   "metadata": {},
   "outputs": [
    {
     "data": {
      "text/html": [
       "<strong>$`7316-1075`</strong> = <table class=\"dataframe\">\n",
       "<caption>A matrix: 2 × 12 of type int</caption>\n",
       "<thead>\n",
       "\t<tr><th></th><th scope=col>HLA-C04:01-G/R</th><th scope=col>HLA-C04:01-V/I</th><th scope=col>HLA-A68:01-G/R</th><th scope=col>HLA-A68:01-V/I</th><th scope=col>HLA-B55:01-G/R</th><th scope=col>HLA-B55:01-V/I</th><th scope=col>HLA-C03:03-G/R</th><th scope=col>HLA-C03:03-V/I</th><th scope=col>HLA-B35:02-G/R</th><th scope=col>HLA-B35:02-V/I</th><th scope=col>HLA-A26:01-G/R</th><th scope=col>HLA-A26:01-V/I</th></tr>\n",
       "</thead>\n",
       "<tbody>\n",
       "\t<tr><th scope=row>CTNNB1</th><td> 0</td><td>NA</td><td> 0</td><td>NA</td><td> 0</td><td>NA</td><td> 0</td><td>NA</td><td> 0</td><td>NA</td><td> 0</td><td>NA</td></tr>\n",
       "\t<tr><th scope=row>AHNAK2</th><td>NA</td><td> 0</td><td>NA</td><td> 0</td><td>NA</td><td> 0</td><td>NA</td><td> 2</td><td>NA</td><td> 0</td><td>NA</td><td> 0</td></tr>\n",
       "</tbody>\n",
       "</table>\n"
      ],
      "text/latex": [
       "\\textbf{\\$`7316-1075`} = A matrix: 2 × 12 of type int\n",
       "\\begin{tabular}{r|llllllllllll}\n",
       "  & HLA-C04:01-G/R & HLA-C04:01-V/I & HLA-A68:01-G/R & HLA-A68:01-V/I & HLA-B55:01-G/R & HLA-B55:01-V/I & HLA-C03:03-G/R & HLA-C03:03-V/I & HLA-B35:02-G/R & HLA-B35:02-V/I & HLA-A26:01-G/R & HLA-A26:01-V/I\\\\\n",
       "\\hline\n",
       "\tCTNNB1 &  0 & NA &  0 & NA &  0 & NA &  0 & NA &  0 & NA &  0 & NA\\\\\n",
       "\tAHNAK2 & NA &  0 & NA &  0 & NA &  0 & NA &  2 & NA &  0 & NA &  0\\\\\n",
       "\\end{tabular}\n"
      ],
      "text/markdown": [
       "**$`7316-1075`** = \n",
       "A matrix: 2 × 12 of type int\n",
       "\n",
       "| <!--/--> | HLA-C04:01-G/R | HLA-C04:01-V/I | HLA-A68:01-G/R | HLA-A68:01-V/I | HLA-B55:01-G/R | HLA-B55:01-V/I | HLA-C03:03-G/R | HLA-C03:03-V/I | HLA-B35:02-G/R | HLA-B35:02-V/I | HLA-A26:01-G/R | HLA-A26:01-V/I |\n",
       "|---|---|---|---|---|---|---|---|---|---|---|---|---|\n",
       "| CTNNB1 |  0 | NA |  0 | NA |  0 | NA |  0 | NA |  0 | NA |  0 | NA |\n",
       "| AHNAK2 | NA |  0 | NA |  0 | NA |  0 | NA |  2 | NA |  0 | NA |  0 |\n",
       "\n"
      ],
      "text/plain": [
       "$`7316-1075`\n",
       "       HLA-C04:01-G/R HLA-C04:01-V/I HLA-A68:01-G/R HLA-A68:01-V/I\n",
       "CTNNB1              0             NA              0             NA\n",
       "AHNAK2             NA              0             NA              0\n",
       "       HLA-B55:01-G/R HLA-B55:01-V/I HLA-C03:03-G/R HLA-C03:03-V/I\n",
       "CTNNB1              0             NA              0             NA\n",
       "AHNAK2             NA              0             NA              2\n",
       "       HLA-B35:02-G/R HLA-B35:02-V/I HLA-A26:01-G/R HLA-A26:01-V/I\n",
       "CTNNB1              0             NA              0             NA\n",
       "AHNAK2             NA              0             NA              0\n"
      ]
     },
     "metadata": {},
     "output_type": "display_data"
    }
   ],
   "source": [
    "Listofpatients_numberof2[3]"
   ]
  },
  {
   "cell_type": "code",
   "execution_count": 162,
   "metadata": {},
   "outputs": [],
   "source": [
    "Listofpatients_minRank <- list()\n",
    "\n",
    "for(p in unique(onemis_mupexi$sample_id)){\n",
    "\n",
    "    mysample <- onemis_mupexi[ onemis_mupexi$sample_id == p,]\n",
    "    \n",
    "    mysample$HLA_residue <- paste(mysample$HLA_allele, mysample$Amino_Acid_Change, sep = \"-\")    \n",
    "    \n",
    "    mygenes <- unique(mysample$Gene_Symbol)\n",
    "    myres <- unique(mysample$Amino_Acid_Change)\n",
    "    myhla <- unique(mysample$HLA_allele)\n",
    "    \n",
    "    hla_res <- as.vector(sapply(unique(mysample$HLA_allele), function(x) paste(x,unique(mysample$Amino_Acid_Change), sep = \"-\" )))\n",
    "                                \n",
    "    gene_reshlamat <- matrix(nrow = length(mygenes), ncol = length(hla_res),\n",
    "                             dimnames = list(mygenes, hla_res))\n",
    "                                \n",
    "    for(r in colnames(gene_reshlamat)){\n",
    "        \n",
    "    hlares <- mysample[ mysample$HLA_residue == r,]\n",
    "    for(g in unique(hlares$Gene_Symbol)){\n",
    "        myresmygen <- hlares[ hlares$Gene_Symbol == g,]\n",
    "        summarytab <- summary(myresmygen$Mut_MHCrank_BA)\n",
    "        BestRank <- min(summarytab)\n",
    "        gene_reshlamat[g,r] <- BestRank\n",
    "    } \n",
    "                \n",
    "    }\n",
    "                                \n",
    "    Listofpatients_minRank[length(Listofpatients_minRank) + 1] <- list(gene_reshlamat)\n",
    "                                }\n",
    "    \n",
    "names(Listofpatients_minRank) <- unique(onemis_mupexi$sample_id)"
   ]
  },
  {
   "cell_type": "code",
   "execution_count": 163,
   "metadata": {},
   "outputs": [],
   "source": [
    "save(Listofpatients_minRank, file = paste0(datapath, \"Mupexi/Listofpatients_minRank.RData\"))"
   ]
  },
  {
   "cell_type": "code",
   "execution_count": 164,
   "metadata": {},
   "outputs": [
    {
     "data": {
      "text/html": [
       "<strong>$`7316-1075`</strong> = <table class=\"dataframe\">\n",
       "<caption>A matrix: 2 × 12 of type dbl</caption>\n",
       "<thead>\n",
       "\t<tr><th></th><th scope=col>HLA-C04:01-G/R</th><th scope=col>HLA-C04:01-V/I</th><th scope=col>HLA-A68:01-G/R</th><th scope=col>HLA-A68:01-V/I</th><th scope=col>HLA-B55:01-G/R</th><th scope=col>HLA-B55:01-V/I</th><th scope=col>HLA-C03:03-G/R</th><th scope=col>HLA-C03:03-V/I</th><th scope=col>HLA-B35:02-G/R</th><th scope=col>HLA-B35:02-V/I</th><th scope=col>HLA-A26:01-G/R</th><th scope=col>HLA-A26:01-V/I</th></tr>\n",
       "</thead>\n",
       "<tbody>\n",
       "\t<tr><th scope=row>CTNNB1</th><td>2.0276</td><td>    NA</td><td>6.2125</td><td>     NA</td><td>3.8436</td><td>    NA</td><td>9.2932</td><td>    NA</td><td>11.1415</td><td>   NA</td><td>9.7442</td><td>    NA</td></tr>\n",
       "\t<tr><th scope=row>AHNAK2</th><td>    NA</td><td>3.1029</td><td>    NA</td><td>14.0262</td><td>    NA</td><td>9.3076</td><td>    NA</td><td>0.7069</td><td>     NA</td><td>3.412</td><td>    NA</td><td>7.8231</td></tr>\n",
       "</tbody>\n",
       "</table>\n"
      ],
      "text/latex": [
       "\\textbf{\\$`7316-1075`} = A matrix: 2 × 12 of type dbl\n",
       "\\begin{tabular}{r|llllllllllll}\n",
       "  & HLA-C04:01-G/R & HLA-C04:01-V/I & HLA-A68:01-G/R & HLA-A68:01-V/I & HLA-B55:01-G/R & HLA-B55:01-V/I & HLA-C03:03-G/R & HLA-C03:03-V/I & HLA-B35:02-G/R & HLA-B35:02-V/I & HLA-A26:01-G/R & HLA-A26:01-V/I\\\\\n",
       "\\hline\n",
       "\tCTNNB1 & 2.0276 &     NA & 6.2125 &      NA & 3.8436 &     NA & 9.2932 &     NA & 11.1415 &    NA & 9.7442 &     NA\\\\\n",
       "\tAHNAK2 &     NA & 3.1029 &     NA & 14.0262 &     NA & 9.3076 &     NA & 0.7069 &      NA & 3.412 &     NA & 7.8231\\\\\n",
       "\\end{tabular}\n"
      ],
      "text/markdown": [
       "**$`7316-1075`** = \n",
       "A matrix: 2 × 12 of type dbl\n",
       "\n",
       "| <!--/--> | HLA-C04:01-G/R | HLA-C04:01-V/I | HLA-A68:01-G/R | HLA-A68:01-V/I | HLA-B55:01-G/R | HLA-B55:01-V/I | HLA-C03:03-G/R | HLA-C03:03-V/I | HLA-B35:02-G/R | HLA-B35:02-V/I | HLA-A26:01-G/R | HLA-A26:01-V/I |\n",
       "|---|---|---|---|---|---|---|---|---|---|---|---|---|\n",
       "| CTNNB1 | 2.0276 |     NA | 6.2125 |      NA | 3.8436 |     NA | 9.2932 |     NA | 11.1415 |    NA | 9.7442 |     NA |\n",
       "| AHNAK2 |     NA | 3.1029 |     NA | 14.0262 |     NA | 9.3076 |     NA | 0.7069 |      NA | 3.412 |     NA | 7.8231 |\n",
       "\n"
      ],
      "text/plain": [
       "$`7316-1075`\n",
       "       HLA-C04:01-G/R HLA-C04:01-V/I HLA-A68:01-G/R HLA-A68:01-V/I\n",
       "CTNNB1         2.0276             NA         6.2125             NA\n",
       "AHNAK2             NA         3.1029             NA        14.0262\n",
       "       HLA-B55:01-G/R HLA-B55:01-V/I HLA-C03:03-G/R HLA-C03:03-V/I\n",
       "CTNNB1         3.8436             NA         9.2932             NA\n",
       "AHNAK2             NA         9.3076             NA         0.7069\n",
       "       HLA-B35:02-G/R HLA-B35:02-V/I HLA-A26:01-G/R HLA-A26:01-V/I\n",
       "CTNNB1        11.1415             NA         9.7442             NA\n",
       "AHNAK2             NA          3.412             NA         7.8231\n"
      ]
     },
     "metadata": {},
     "output_type": "display_data"
    }
   ],
   "source": [
    "Listofpatients_minRank[3]"
   ]
  },
  {
   "cell_type": "markdown",
   "metadata": {},
   "source": [
    "# PBR"
   ]
  },
  {
   "cell_type": "markdown",
   "metadata": {},
   "source": [
    "### Minimum rank"
   ]
  },
  {
   "cell_type": "code",
   "execution_count": 243,
   "metadata": {},
   "outputs": [],
   "source": [
    "load(file = paste0(datapath, \"Mupexi/Listofpatients_minRank.RData\"))"
   ]
  },
  {
   "cell_type": "markdown",
   "metadata": {},
   "source": [
    "Make a sample x Gene matrix to hold PBR"
   ]
  },
  {
   "cell_type": "code",
   "execution_count": 244,
   "metadata": {},
   "outputs": [],
   "source": [
    "pbrmat <- matrix(nrow = length(unique(all.mupexi$sample_id)), \n",
    "                 ncol = length(unique(all.mupexi$Gene_Symbol)),\n",
    "                 dimnames = list(\n",
    "                 unique(all.mupexi$sample_id),\n",
    "                 unique(all.mupexi$Gene_Symbol)))"
   ]
  },
  {
   "cell_type": "code",
   "execution_count": 245,
   "metadata": {},
   "outputs": [],
   "source": [
    "for(s in rownames(pbrmat)){\n",
    "    mypt <- Listofpatients_minRank[[s]]\n",
    "    bestGene <- rownames(which(mypt == min(mypt, na.rm = T), arr.ind = TRUE))\n",
    "    bestRank <- min(mypt, na.rm = T)\n",
    "    pbrmat[s,bestGene] <- bestRank\n",
    "}"
   ]
  },
  {
   "cell_type": "code",
   "execution_count": 251,
   "metadata": {},
   "outputs": [
    {
     "data": {
      "text/html": [
       "'AHNAK2'"
      ],
      "text/latex": [
       "'AHNAK2'"
      ],
      "text/markdown": [
       "'AHNAK2'"
      ],
      "text/plain": [
       "[1] \"AHNAK2\""
      ]
     },
     "metadata": {},
     "output_type": "display_data"
    }
   ],
   "source": [
    "rownames(which(Listofpatients_minRank[[3]] == min(Listofpatients_minRank[[3]], na.rm = T), arr.ind = TRUE))"
   ]
  },
  {
   "cell_type": "code",
   "execution_count": 246,
   "metadata": {},
   "outputs": [
    {
     "data": {
      "text/html": [
       "<strong>$`7316-1075`</strong> = <table class=\"dataframe\">\n",
       "<caption>A matrix: 2 × 12 of type dbl</caption>\n",
       "<thead>\n",
       "\t<tr><th></th><th scope=col>HLA-C04:01-G/R</th><th scope=col>HLA-C04:01-V/I</th><th scope=col>HLA-A68:01-G/R</th><th scope=col>HLA-A68:01-V/I</th><th scope=col>HLA-B55:01-G/R</th><th scope=col>HLA-B55:01-V/I</th><th scope=col>HLA-C03:03-G/R</th><th scope=col>HLA-C03:03-V/I</th><th scope=col>HLA-B35:02-G/R</th><th scope=col>HLA-B35:02-V/I</th><th scope=col>HLA-A26:01-G/R</th><th scope=col>HLA-A26:01-V/I</th></tr>\n",
       "</thead>\n",
       "<tbody>\n",
       "\t<tr><th scope=row>CTNNB1</th><td>2.0276</td><td>    NA</td><td>6.2125</td><td>     NA</td><td>3.8436</td><td>    NA</td><td>9.2932</td><td>    NA</td><td>11.1415</td><td>   NA</td><td>9.7442</td><td>    NA</td></tr>\n",
       "\t<tr><th scope=row>AHNAK2</th><td>    NA</td><td>3.1029</td><td>    NA</td><td>14.0262</td><td>    NA</td><td>9.3076</td><td>    NA</td><td>0.7069</td><td>     NA</td><td>3.412</td><td>    NA</td><td>7.8231</td></tr>\n",
       "</tbody>\n",
       "</table>\n"
      ],
      "text/latex": [
       "\\textbf{\\$`7316-1075`} = A matrix: 2 × 12 of type dbl\n",
       "\\begin{tabular}{r|llllllllllll}\n",
       "  & HLA-C04:01-G/R & HLA-C04:01-V/I & HLA-A68:01-G/R & HLA-A68:01-V/I & HLA-B55:01-G/R & HLA-B55:01-V/I & HLA-C03:03-G/R & HLA-C03:03-V/I & HLA-B35:02-G/R & HLA-B35:02-V/I & HLA-A26:01-G/R & HLA-A26:01-V/I\\\\\n",
       "\\hline\n",
       "\tCTNNB1 & 2.0276 &     NA & 6.2125 &      NA & 3.8436 &     NA & 9.2932 &     NA & 11.1415 &    NA & 9.7442 &     NA\\\\\n",
       "\tAHNAK2 &     NA & 3.1029 &     NA & 14.0262 &     NA & 9.3076 &     NA & 0.7069 &      NA & 3.412 &     NA & 7.8231\\\\\n",
       "\\end{tabular}\n"
      ],
      "text/markdown": [
       "**$`7316-1075`** = \n",
       "A matrix: 2 × 12 of type dbl\n",
       "\n",
       "| <!--/--> | HLA-C04:01-G/R | HLA-C04:01-V/I | HLA-A68:01-G/R | HLA-A68:01-V/I | HLA-B55:01-G/R | HLA-B55:01-V/I | HLA-C03:03-G/R | HLA-C03:03-V/I | HLA-B35:02-G/R | HLA-B35:02-V/I | HLA-A26:01-G/R | HLA-A26:01-V/I |\n",
       "|---|---|---|---|---|---|---|---|---|---|---|---|---|\n",
       "| CTNNB1 | 2.0276 |     NA | 6.2125 |      NA | 3.8436 |     NA | 9.2932 |     NA | 11.1415 |    NA | 9.7442 |     NA |\n",
       "| AHNAK2 |     NA | 3.1029 |     NA | 14.0262 |     NA | 9.3076 |     NA | 0.7069 |      NA | 3.412 |     NA | 7.8231 |\n",
       "\n"
      ],
      "text/plain": [
       "$`7316-1075`\n",
       "       HLA-C04:01-G/R HLA-C04:01-V/I HLA-A68:01-G/R HLA-A68:01-V/I\n",
       "CTNNB1         2.0276             NA         6.2125             NA\n",
       "AHNAK2             NA         3.1029             NA        14.0262\n",
       "       HLA-B55:01-G/R HLA-B55:01-V/I HLA-C03:03-G/R HLA-C03:03-V/I\n",
       "CTNNB1         3.8436             NA         9.2932             NA\n",
       "AHNAK2             NA         9.3076             NA         0.7069\n",
       "       HLA-B35:02-G/R HLA-B35:02-V/I HLA-A26:01-G/R HLA-A26:01-V/I\n",
       "CTNNB1        11.1415             NA         9.7442             NA\n",
       "AHNAK2             NA          3.412             NA         7.8231\n"
      ]
     },
     "metadata": {},
     "output_type": "display_data"
    }
   ],
   "source": [
    "Listofpatients_minRank[3]"
   ]
  },
  {
   "cell_type": "code",
   "execution_count": 253,
   "metadata": {},
   "outputs": [
    {
     "data": {
      "text/html": [
       "<table class=\"dataframe\">\n",
       "<caption>A matrix: 10 × 10 of type dbl</caption>\n",
       "<thead>\n",
       "\t<tr><th></th><th scope=col>PTGER4</th><th scope=col>COQ10A</th><th scope=col>ENTPD2</th><th scope=col>UTP23</th><th scope=col>SLC2A13</th><th scope=col>ATP8B2</th><th scope=col>SLC44A5</th><th scope=col>IGDCC3</th><th scope=col>IRF2BPL</th><th scope=col>C12orf45</th></tr>\n",
       "</thead>\n",
       "<tbody>\n",
       "\t<tr><th scope=row>7316-10</th><td>NA</td><td>0.0291</td><td>NA</td><td>NA</td><td>   NA</td><td>NA</td><td>NA</td><td>NA</td><td>NA</td><td>NA</td></tr>\n",
       "\t<tr><th scope=row>7316-101</th><td>NA</td><td>    NA</td><td>NA</td><td>NA</td><td>0.082</td><td>NA</td><td>NA</td><td>NA</td><td>NA</td><td>NA</td></tr>\n",
       "\t<tr><th scope=row>7316-1075</th><td>NA</td><td>    NA</td><td>NA</td><td>NA</td><td>   NA</td><td>NA</td><td>NA</td><td>NA</td><td>NA</td><td>NA</td></tr>\n",
       "\t<tr><th scope=row>7316-1077</th><td>NA</td><td>    NA</td><td>NA</td><td>NA</td><td>   NA</td><td>NA</td><td>NA</td><td>NA</td><td>NA</td><td>NA</td></tr>\n",
       "\t<tr><th scope=row>7316-1078</th><td>NA</td><td>    NA</td><td>NA</td><td>NA</td><td>   NA</td><td>NA</td><td>NA</td><td>NA</td><td>NA</td><td>NA</td></tr>\n",
       "\t<tr><th scope=row>7316-1081</th><td>NA</td><td>    NA</td><td>NA</td><td>NA</td><td>   NA</td><td>NA</td><td>NA</td><td>NA</td><td>NA</td><td>NA</td></tr>\n",
       "\t<tr><th scope=row>7316-1082</th><td>NA</td><td>    NA</td><td>NA</td><td>NA</td><td>   NA</td><td>NA</td><td>NA</td><td>NA</td><td>NA</td><td>NA</td></tr>\n",
       "\t<tr><th scope=row>7316-1083</th><td>NA</td><td>    NA</td><td>NA</td><td>NA</td><td>   NA</td><td>NA</td><td>NA</td><td>NA</td><td>NA</td><td>NA</td></tr>\n",
       "\t<tr><th scope=row>7316-1084</th><td>NA</td><td>    NA</td><td>NA</td><td>NA</td><td>   NA</td><td>NA</td><td>NA</td><td>NA</td><td>NA</td><td>NA</td></tr>\n",
       "\t<tr><th scope=row>7316-1085</th><td>NA</td><td>    NA</td><td>NA</td><td>NA</td><td>   NA</td><td>NA</td><td>NA</td><td>NA</td><td>NA</td><td>NA</td></tr>\n",
       "</tbody>\n",
       "</table>\n"
      ],
      "text/latex": [
       "A matrix: 10 × 10 of type dbl\n",
       "\\begin{tabular}{r|llllllllll}\n",
       "  & PTGER4 & COQ10A & ENTPD2 & UTP23 & SLC2A13 & ATP8B2 & SLC44A5 & IGDCC3 & IRF2BPL & C12orf45\\\\\n",
       "\\hline\n",
       "\t7316-10 & NA & 0.0291 & NA & NA &    NA & NA & NA & NA & NA & NA\\\\\n",
       "\t7316-101 & NA &     NA & NA & NA & 0.082 & NA & NA & NA & NA & NA\\\\\n",
       "\t7316-1075 & NA &     NA & NA & NA &    NA & NA & NA & NA & NA & NA\\\\\n",
       "\t7316-1077 & NA &     NA & NA & NA &    NA & NA & NA & NA & NA & NA\\\\\n",
       "\t7316-1078 & NA &     NA & NA & NA &    NA & NA & NA & NA & NA & NA\\\\\n",
       "\t7316-1081 & NA &     NA & NA & NA &    NA & NA & NA & NA & NA & NA\\\\\n",
       "\t7316-1082 & NA &     NA & NA & NA &    NA & NA & NA & NA & NA & NA\\\\\n",
       "\t7316-1083 & NA &     NA & NA & NA &    NA & NA & NA & NA & NA & NA\\\\\n",
       "\t7316-1084 & NA &     NA & NA & NA &    NA & NA & NA & NA & NA & NA\\\\\n",
       "\t7316-1085 & NA &     NA & NA & NA &    NA & NA & NA & NA & NA & NA\\\\\n",
       "\\end{tabular}\n"
      ],
      "text/markdown": [
       "\n",
       "A matrix: 10 × 10 of type dbl\n",
       "\n",
       "| <!--/--> | PTGER4 | COQ10A | ENTPD2 | UTP23 | SLC2A13 | ATP8B2 | SLC44A5 | IGDCC3 | IRF2BPL | C12orf45 |\n",
       "|---|---|---|---|---|---|---|---|---|---|---|\n",
       "| 7316-10 | NA | 0.0291 | NA | NA |    NA | NA | NA | NA | NA | NA |\n",
       "| 7316-101 | NA |     NA | NA | NA | 0.082 | NA | NA | NA | NA | NA |\n",
       "| 7316-1075 | NA |     NA | NA | NA |    NA | NA | NA | NA | NA | NA |\n",
       "| 7316-1077 | NA |     NA | NA | NA |    NA | NA | NA | NA | NA | NA |\n",
       "| 7316-1078 | NA |     NA | NA | NA |    NA | NA | NA | NA | NA | NA |\n",
       "| 7316-1081 | NA |     NA | NA | NA |    NA | NA | NA | NA | NA | NA |\n",
       "| 7316-1082 | NA |     NA | NA | NA |    NA | NA | NA | NA | NA | NA |\n",
       "| 7316-1083 | NA |     NA | NA | NA |    NA | NA | NA | NA | NA | NA |\n",
       "| 7316-1084 | NA |     NA | NA | NA |    NA | NA | NA | NA | NA | NA |\n",
       "| 7316-1085 | NA |     NA | NA | NA |    NA | NA | NA | NA | NA | NA |\n",
       "\n"
      ],
      "text/plain": [
       "          PTGER4 COQ10A ENTPD2 UTP23 SLC2A13 ATP8B2 SLC44A5 IGDCC3 IRF2BPL\n",
       "7316-10   NA     0.0291 NA     NA       NA   NA     NA      NA     NA     \n",
       "7316-101  NA         NA NA     NA    0.082   NA     NA      NA     NA     \n",
       "7316-1075 NA         NA NA     NA       NA   NA     NA      NA     NA     \n",
       "7316-1077 NA         NA NA     NA       NA   NA     NA      NA     NA     \n",
       "7316-1078 NA         NA NA     NA       NA   NA     NA      NA     NA     \n",
       "7316-1081 NA         NA NA     NA       NA   NA     NA      NA     NA     \n",
       "7316-1082 NA         NA NA     NA       NA   NA     NA      NA     NA     \n",
       "7316-1083 NA         NA NA     NA       NA   NA     NA      NA     NA     \n",
       "7316-1084 NA         NA NA     NA       NA   NA     NA      NA     NA     \n",
       "7316-1085 NA         NA NA     NA       NA   NA     NA      NA     NA     \n",
       "          C12orf45\n",
       "7316-10   NA      \n",
       "7316-101  NA      \n",
       "7316-1075 NA      \n",
       "7316-1077 NA      \n",
       "7316-1078 NA      \n",
       "7316-1081 NA      \n",
       "7316-1082 NA      \n",
       "7316-1083 NA      \n",
       "7316-1084 NA      \n",
       "7316-1085 NA      "
      ]
     },
     "metadata": {},
     "output_type": "display_data"
    }
   ],
   "source": [
    "pbrmat[1:10, 1:10]"
   ]
  },
  {
   "cell_type": "code",
   "execution_count": 174,
   "metadata": {},
   "outputs": [
    {
     "data": {
      "text/html": [
       "<style>\n",
       ".list-inline {list-style: none; margin:0; padding: 0}\n",
       ".list-inline>li {display: inline-block}\n",
       ".list-inline>li:not(:last-child)::after {content: \"\\00b7\"; padding: 0 .5ex}\n",
       "</style>\n",
       "<ol class=list-inline><li>549</li><li>4038</li></ol>\n"
      ],
      "text/latex": [
       "\\begin{enumerate*}\n",
       "\\item 549\n",
       "\\item 4038\n",
       "\\end{enumerate*}\n"
      ],
      "text/markdown": [
       "1. 549\n",
       "2. 4038\n",
       "\n",
       "\n"
      ],
      "text/plain": [
       "[1]  549 4038"
      ]
     },
     "metadata": {},
     "output_type": "display_data"
    }
   ],
   "source": [
    "dim(pbrmat)"
   ]
  },
  {
   "cell_type": "code",
   "execution_count": 175,
   "metadata": {},
   "outputs": [],
   "source": [
    "pbrmat <- pbrmat[, colnames(pbrmat) %in% allmutated_genes]"
   ]
  },
  {
   "cell_type": "code",
   "execution_count": 176,
   "metadata": {},
   "outputs": [
    {
     "data": {
      "text/html": [
       "<style>\n",
       ".list-inline {list-style: none; margin:0; padding: 0}\n",
       ".list-inline>li {display: inline-block}\n",
       ".list-inline>li:not(:last-child)::after {content: \"\\00b7\"; padding: 0 .5ex}\n",
       "</style>\n",
       "<ol class=list-inline><li>549</li><li>4000</li></ol>\n"
      ],
      "text/latex": [
       "\\begin{enumerate*}\n",
       "\\item 549\n",
       "\\item 4000\n",
       "\\end{enumerate*}\n"
      ],
      "text/markdown": [
       "1. 549\n",
       "2. 4000\n",
       "\n",
       "\n"
      ],
      "text/plain": [
       "[1]  549 4000"
      ]
     },
     "metadata": {},
     "output_type": "display_data"
    }
   ],
   "source": [
    "dim(pbrmat)"
   ]
  },
  {
   "cell_type": "code",
   "execution_count": 177,
   "metadata": {},
   "outputs": [],
   "source": [
    "metadata_IC_subset <- metadata_IC[metadata_IC$sample_id %in% rownames(pbrmat),]"
   ]
  },
  {
   "cell_type": "code",
   "execution_count": 178,
   "metadata": {},
   "outputs": [
    {
     "data": {
      "text/html": [
       "<style>\n",
       ".list-inline {list-style: none; margin:0; padding: 0}\n",
       ".list-inline>li {display: inline-block}\n",
       ".list-inline>li:not(:last-child)::after {content: \"\\00b7\"; padding: 0 .5ex}\n",
       "</style>\n",
       "<ol class=list-inline><li>543</li><li>24</li></ol>\n"
      ],
      "text/latex": [
       "\\begin{enumerate*}\n",
       "\\item 543\n",
       "\\item 24\n",
       "\\end{enumerate*}\n"
      ],
      "text/markdown": [
       "1. 543\n",
       "2. 24\n",
       "\n",
       "\n"
      ],
      "text/plain": [
       "[1] 543  24"
      ]
     },
     "metadata": {},
     "output_type": "display_data"
    }
   ],
   "source": [
    "dim(metadata_IC_subset)"
   ]
  },
  {
   "cell_type": "code",
   "execution_count": 179,
   "metadata": {},
   "outputs": [],
   "source": [
    "metadata_IC_subset <- metadata_IC_subset[order(metadata_IC_subset$immune_cluster),]"
   ]
  },
  {
   "cell_type": "code",
   "execution_count": 180,
   "metadata": {},
   "outputs": [],
   "source": [
    "pbrmat <- pbrmat[metadata_IC_subset$sample_id,]"
   ]
  },
  {
   "cell_type": "code",
   "execution_count": 181,
   "metadata": {},
   "outputs": [
    {
     "data": {
      "text/html": [
       "<table class=\"dataframe\">\n",
       "<caption>A matrix: 10 × 10 of type dbl</caption>\n",
       "<thead>\n",
       "\t<tr><th></th><th scope=col>PTGER4</th><th scope=col>COQ10A</th><th scope=col>ENTPD2</th><th scope=col>UTP23</th><th scope=col>SLC2A13</th><th scope=col>ATP8B2</th><th scope=col>SLC44A5</th><th scope=col>IGDCC3</th><th scope=col>IRF2BPL</th><th scope=col>C12orf45</th></tr>\n",
       "</thead>\n",
       "<tbody>\n",
       "\t<tr><th scope=row>TARGET-30-PAIPGU-01A</th><td>NA</td><td>NA</td><td>NA</td><td>NA</td><td>NA</td><td>NA</td><td>NA</td><td>NA</td><td>NA</td><td>NA</td></tr>\n",
       "\t<tr><th scope=row>TARGET-30-PALETP-01A</th><td>NA</td><td>NA</td><td>NA</td><td>NA</td><td>NA</td><td>NA</td><td>NA</td><td>NA</td><td>NA</td><td>NA</td></tr>\n",
       "\t<tr><th scope=row>TARGET-30-PALTEG-01A</th><td>NA</td><td>NA</td><td>NA</td><td>NA</td><td>NA</td><td>NA</td><td>NA</td><td>NA</td><td>NA</td><td>NA</td></tr>\n",
       "\t<tr><th scope=row>TARGET-30-PANKFE-01A</th><td>NA</td><td>NA</td><td>NA</td><td>NA</td><td>NA</td><td>NA</td><td>NA</td><td>NA</td><td>NA</td><td>NA</td></tr>\n",
       "\t<tr><th scope=row>TARGET-30-PANXJL-01A</th><td>NA</td><td>NA</td><td>NA</td><td>NA</td><td>NA</td><td>NA</td><td>NA</td><td>NA</td><td>NA</td><td>NA</td></tr>\n",
       "\t<tr><th scope=row>TARGET-30-PAPEFE-01A</th><td>NA</td><td>NA</td><td>NA</td><td>NA</td><td>NA</td><td>NA</td><td>NA</td><td>NA</td><td>NA</td><td>NA</td></tr>\n",
       "\t<tr><th scope=row>TARGET-30-PAPUWY-01A</th><td>NA</td><td>NA</td><td>NA</td><td>NA</td><td>NA</td><td>NA</td><td>NA</td><td>NA</td><td>NA</td><td>NA</td></tr>\n",
       "\t<tr><th scope=row>TARGET-30-PAPVXS-01A</th><td>NA</td><td>NA</td><td>NA</td><td>NA</td><td>NA</td><td>NA</td><td>NA</td><td>NA</td><td>NA</td><td>NA</td></tr>\n",
       "\t<tr><th scope=row>TARGET-30-PARDIW-01A</th><td>NA</td><td>NA</td><td>NA</td><td>NA</td><td>NA</td><td>NA</td><td>NA</td><td>NA</td><td>NA</td><td>NA</td></tr>\n",
       "\t<tr><th scope=row>TARGET-30-PARSBI-01A</th><td>NA</td><td>NA</td><td>NA</td><td>NA</td><td>NA</td><td>NA</td><td>NA</td><td>NA</td><td>NA</td><td>NA</td></tr>\n",
       "</tbody>\n",
       "</table>\n"
      ],
      "text/latex": [
       "A matrix: 10 × 10 of type dbl\n",
       "\\begin{tabular}{r|llllllllll}\n",
       "  & PTGER4 & COQ10A & ENTPD2 & UTP23 & SLC2A13 & ATP8B2 & SLC44A5 & IGDCC3 & IRF2BPL & C12orf45\\\\\n",
       "\\hline\n",
       "\tTARGET-30-PAIPGU-01A & NA & NA & NA & NA & NA & NA & NA & NA & NA & NA\\\\\n",
       "\tTARGET-30-PALETP-01A & NA & NA & NA & NA & NA & NA & NA & NA & NA & NA\\\\\n",
       "\tTARGET-30-PALTEG-01A & NA & NA & NA & NA & NA & NA & NA & NA & NA & NA\\\\\n",
       "\tTARGET-30-PANKFE-01A & NA & NA & NA & NA & NA & NA & NA & NA & NA & NA\\\\\n",
       "\tTARGET-30-PANXJL-01A & NA & NA & NA & NA & NA & NA & NA & NA & NA & NA\\\\\n",
       "\tTARGET-30-PAPEFE-01A & NA & NA & NA & NA & NA & NA & NA & NA & NA & NA\\\\\n",
       "\tTARGET-30-PAPUWY-01A & NA & NA & NA & NA & NA & NA & NA & NA & NA & NA\\\\\n",
       "\tTARGET-30-PAPVXS-01A & NA & NA & NA & NA & NA & NA & NA & NA & NA & NA\\\\\n",
       "\tTARGET-30-PARDIW-01A & NA & NA & NA & NA & NA & NA & NA & NA & NA & NA\\\\\n",
       "\tTARGET-30-PARSBI-01A & NA & NA & NA & NA & NA & NA & NA & NA & NA & NA\\\\\n",
       "\\end{tabular}\n"
      ],
      "text/markdown": [
       "\n",
       "A matrix: 10 × 10 of type dbl\n",
       "\n",
       "| <!--/--> | PTGER4 | COQ10A | ENTPD2 | UTP23 | SLC2A13 | ATP8B2 | SLC44A5 | IGDCC3 | IRF2BPL | C12orf45 |\n",
       "|---|---|---|---|---|---|---|---|---|---|---|\n",
       "| TARGET-30-PAIPGU-01A | NA | NA | NA | NA | NA | NA | NA | NA | NA | NA |\n",
       "| TARGET-30-PALETP-01A | NA | NA | NA | NA | NA | NA | NA | NA | NA | NA |\n",
       "| TARGET-30-PALTEG-01A | NA | NA | NA | NA | NA | NA | NA | NA | NA | NA |\n",
       "| TARGET-30-PANKFE-01A | NA | NA | NA | NA | NA | NA | NA | NA | NA | NA |\n",
       "| TARGET-30-PANXJL-01A | NA | NA | NA | NA | NA | NA | NA | NA | NA | NA |\n",
       "| TARGET-30-PAPEFE-01A | NA | NA | NA | NA | NA | NA | NA | NA | NA | NA |\n",
       "| TARGET-30-PAPUWY-01A | NA | NA | NA | NA | NA | NA | NA | NA | NA | NA |\n",
       "| TARGET-30-PAPVXS-01A | NA | NA | NA | NA | NA | NA | NA | NA | NA | NA |\n",
       "| TARGET-30-PARDIW-01A | NA | NA | NA | NA | NA | NA | NA | NA | NA | NA |\n",
       "| TARGET-30-PARSBI-01A | NA | NA | NA | NA | NA | NA | NA | NA | NA | NA |\n",
       "\n"
      ],
      "text/plain": [
       "                     PTGER4 COQ10A ENTPD2 UTP23 SLC2A13 ATP8B2 SLC44A5 IGDCC3\n",
       "TARGET-30-PAIPGU-01A NA     NA     NA     NA    NA      NA     NA      NA    \n",
       "TARGET-30-PALETP-01A NA     NA     NA     NA    NA      NA     NA      NA    \n",
       "TARGET-30-PALTEG-01A NA     NA     NA     NA    NA      NA     NA      NA    \n",
       "TARGET-30-PANKFE-01A NA     NA     NA     NA    NA      NA     NA      NA    \n",
       "TARGET-30-PANXJL-01A NA     NA     NA     NA    NA      NA     NA      NA    \n",
       "TARGET-30-PAPEFE-01A NA     NA     NA     NA    NA      NA     NA      NA    \n",
       "TARGET-30-PAPUWY-01A NA     NA     NA     NA    NA      NA     NA      NA    \n",
       "TARGET-30-PAPVXS-01A NA     NA     NA     NA    NA      NA     NA      NA    \n",
       "TARGET-30-PARDIW-01A NA     NA     NA     NA    NA      NA     NA      NA    \n",
       "TARGET-30-PARSBI-01A NA     NA     NA     NA    NA      NA     NA      NA    \n",
       "                     IRF2BPL C12orf45\n",
       "TARGET-30-PAIPGU-01A NA      NA      \n",
       "TARGET-30-PALETP-01A NA      NA      \n",
       "TARGET-30-PALTEG-01A NA      NA      \n",
       "TARGET-30-PANKFE-01A NA      NA      \n",
       "TARGET-30-PANXJL-01A NA      NA      \n",
       "TARGET-30-PAPEFE-01A NA      NA      \n",
       "TARGET-30-PAPUWY-01A NA      NA      \n",
       "TARGET-30-PAPVXS-01A NA      NA      \n",
       "TARGET-30-PARDIW-01A NA      NA      \n",
       "TARGET-30-PARSBI-01A NA      NA      "
      ]
     },
     "metadata": {},
     "output_type": "display_data"
    }
   ],
   "source": [
    "pbrmat[1:10,1:10]"
   ]
  },
  {
   "cell_type": "code",
   "execution_count": 182,
   "metadata": {},
   "outputs": [
    {
     "name": "stderr",
     "output_type": "stream",
     "text": [
      "Warning message in min(x, na.rm = T):\n",
      "“no non-missing arguments to min; returning Inf”\n",
      "Warning message in min(x, na.rm = T):\n",
      "“no non-missing arguments to min; returning Inf”\n",
      "Warning message in min(x, na.rm = T):\n",
      "“no non-missing arguments to min; returning Inf”\n",
      "Warning message in min(x, na.rm = T):\n",
      "“no non-missing arguments to min; returning Inf”\n"
     ]
    }
   ],
   "source": [
    "pbrs <- apply(pbrmat, 1, function(x) min(x, na.rm = T))"
   ]
  },
  {
   "cell_type": "code",
   "execution_count": 183,
   "metadata": {},
   "outputs": [
    {
     "data": {
      "text/html": [
       "<style>\n",
       ".dl-inline {width: auto; margin:0; padding: 0}\n",
       ".dl-inline>dt, .dl-inline>dd {float: none; width: auto; display: inline-block}\n",
       ".dl-inline>dt::after {content: \":\\0020\"; padding-right: .5ex}\n",
       ".dl-inline>dt:not(:first-of-type) {padding-left: .5ex}\n",
       "</style><dl class=dl-inline><dt>TARGET-30-PAIPGU-01A</dt><dd>0.0145</dd><dt>TARGET-30-PALETP-01A</dt><dd>0.0559</dd><dt>TARGET-30-PALTEG-01A</dt><dd>0.029</dd><dt>TARGET-30-PANKFE-01A</dt><dd>0.3373</dd><dt>TARGET-30-PANXJL-01A</dt><dd>0.0257</dd><dt>TARGET-30-PAPEFE-01A</dt><dd>0.0076</dd></dl>\n"
      ],
      "text/latex": [
       "\\begin{description*}\n",
       "\\item[TARGET-30-PAIPGU-01A] 0.0145\n",
       "\\item[TARGET-30-PALETP-01A] 0.0559\n",
       "\\item[TARGET-30-PALTEG-01A] 0.029\n",
       "\\item[TARGET-30-PANKFE-01A] 0.3373\n",
       "\\item[TARGET-30-PANXJL-01A] 0.0257\n",
       "\\item[TARGET-30-PAPEFE-01A] 0.0076\n",
       "\\end{description*}\n"
      ],
      "text/markdown": [
       "TARGET-30-PAIPGU-01A\n",
       ":   0.0145TARGET-30-PALETP-01A\n",
       ":   0.0559TARGET-30-PALTEG-01A\n",
       ":   0.029TARGET-30-PANKFE-01A\n",
       ":   0.3373TARGET-30-PANXJL-01A\n",
       ":   0.0257TARGET-30-PAPEFE-01A\n",
       ":   0.0076\n",
       "\n"
      ],
      "text/plain": [
       "TARGET-30-PAIPGU-01A TARGET-30-PALETP-01A TARGET-30-PALTEG-01A \n",
       "              0.0145               0.0559               0.0290 \n",
       "TARGET-30-PANKFE-01A TARGET-30-PANXJL-01A TARGET-30-PAPEFE-01A \n",
       "              0.3373               0.0257               0.0076 "
      ]
     },
     "metadata": {},
     "output_type": "display_data"
    }
   ],
   "source": [
    "head(pbrs)"
   ]
  },
  {
   "cell_type": "code",
   "execution_count": 184,
   "metadata": {},
   "outputs": [],
   "source": [
    "metadata_IC_subset_pbr <- cbind(metadata_IC_subset, pbrs)"
   ]
  },
  {
   "cell_type": "code",
   "execution_count": 185,
   "metadata": {},
   "outputs": [],
   "source": [
    "metadata_IC_subset_pbr <- metadata_IC_subset_pbr[ metadata_IC_subset_pbr$pbrs != Inf,]"
   ]
  },
  {
   "cell_type": "code",
   "execution_count": 186,
   "metadata": {},
   "outputs": [
    {
     "data": {
      "text/plain": [
       "\n",
       "Call:\n",
       "aov(formula = pbrs ~ immune_cluster + cohort, data = metadata_IC_subset_pbr)\n",
       "\n",
       "Residuals:\n",
       "    Min      1Q  Median      3Q     Max \n",
       "-1.7374 -0.5691 -0.1526  0.0279 12.2519 \n",
       "\n",
       "Coefficients:\n",
       "                              Estimate Std. Error t value Pr(>|t|)  \n",
       "(Intercept)                    0.74562    0.34346   2.171   0.0304 *\n",
       "immune_clusterMyeloid-driven  -0.21594    0.20441  -1.056   0.2913  \n",
       "immune_clusterPediatric cold  -0.18633    0.20842  -0.894   0.3717  \n",
       "immune_clusterImmune excluded -0.02284    0.23064  -0.099   0.9211  \n",
       "cohortCP                      -0.43374    0.53224  -0.815   0.4155  \n",
       "cohortCPH                      0.37866    0.45850   0.826   0.4093  \n",
       "cohortEPN                      0.17471    0.35404   0.493   0.6219  \n",
       "cohortETMR                    -0.58209    0.98291  -0.592   0.5540  \n",
       "cohortMB                      -0.54354    0.33574  -1.619   0.1061  \n",
       "cohortMNG                     -0.29436    0.51730  -0.569   0.5696  \n",
       "cohortNBL                     -0.56171    0.32668  -1.719   0.0861 .\n",
       "cohortNFB                     -0.47000    0.58934  -0.798   0.4255  \n",
       "cohortpedHGG                  -0.47291    0.36961  -1.279   0.2013  \n",
       "cohortpedLGG                   0.13162    0.31217   0.422   0.6735  \n",
       "cohortSCHW                     1.00154    0.51367   1.950   0.0517 .\n",
       "---\n",
       "Signif. codes:  0 ‘***’ 0.001 ‘**’ 0.01 ‘*’ 0.05 ‘.’ 0.1 ‘ ’ 1\n",
       "\n",
       "Residual standard error: 1.324 on 524 degrees of freedom\n",
       "Multiple R-squared:  0.07323,\tAdjusted R-squared:  0.04847 \n",
       "F-statistic: 2.958 on 14 and 524 DF,  p-value: 0.0002286\n"
      ]
     },
     "metadata": {},
     "output_type": "display_data"
    }
   ],
   "source": [
    "fit_pbrs <- aov(pbrs ~ immune_cluster + cohort, metadata_IC_subset_pbr)\n",
    "summary.lm(fit_pbrs)"
   ]
  },
  {
   "cell_type": "code",
   "execution_count": 187,
   "metadata": {},
   "outputs": [
    {
     "data": {
      "text/plain": [
       "$`Pediatric inflamed`\n",
       "    Min.  1st Qu.   Median     Mean  3rd Qu.     Max. \n",
       " 0.00750  0.03207  0.18225  0.74528  0.48883 11.80910 \n",
       "\n",
       "$`Myeloid-driven`\n",
       "   Min. 1st Qu.  Median    Mean 3rd Qu.    Max. \n",
       "0.00440 0.02525 0.10480 0.49581 0.35750 7.04310 \n",
       "\n",
       "$`Pediatric cold`\n",
       "   Min. 1st Qu.  Median    Mean 3rd Qu.    Max. \n",
       " 0.0056  0.0185  0.0739  0.4315  0.2891 12.9428 \n",
       "\n",
       "$`Immune excluded`\n",
       "    Min.  1st Qu.   Median     Mean  3rd Qu.     Max. \n",
       " 0.00590  0.01915  0.04560  0.35868  0.16755 11.64050 \n"
      ]
     },
     "metadata": {},
     "output_type": "display_data"
    }
   ],
   "source": [
    "tapply(metadata_IC_subset_pbr$pbrs,\n",
    "       metadata_IC_subset_pbr$immune_cluster, \n",
    "       summary)"
   ]
  },
  {
   "cell_type": "markdown",
   "metadata": {},
   "source": [
    "### Count number of rank 2"
   ]
  },
  {
   "cell_type": "code",
   "execution_count": 188,
   "metadata": {},
   "outputs": [],
   "source": [
    "load(file = paste0(datapath, \"Mupexi/Listofpatients_count2.RData\"))"
   ]
  },
  {
   "cell_type": "markdown",
   "metadata": {},
   "source": [
    "Make a sample x Gene matrix to hold PBR"
   ]
  },
  {
   "cell_type": "code",
   "execution_count": 189,
   "metadata": {},
   "outputs": [],
   "source": [
    "pbrmat <- matrix(nrow = length(unique(all.mupexi$sample_id)), \n",
    "                 ncol = length(unique(all.mupexi$Gene_Symbol)),\n",
    "                 dimnames = list(\n",
    "                 unique(all.mupexi$sample_id),\n",
    "                 unique(all.mupexi$Gene_Symbol)))"
   ]
  },
  {
   "cell_type": "code",
   "execution_count": 190,
   "metadata": {},
   "outputs": [],
   "source": [
    "for(s in rownames(pbrmat)){\n",
    "    mypt <- Listofpatients_numberof2[[s]]\n",
    "    bestGene <- rownames(which(mypt == max(mypt, na.rm = T), arr.ind = TRUE))\n",
    "    bestRank <- max(mypt, na.rm = T)\n",
    "    pbrmat[s,bestGene] <- bestRank\n",
    "}"
   ]
  },
  {
   "cell_type": "code",
   "execution_count": 191,
   "metadata": {},
   "outputs": [],
   "source": [
    "pbrmat <- pbrmat[, colnames(pbrmat) %in% allmutated_genes]"
   ]
  },
  {
   "cell_type": "code",
   "execution_count": 192,
   "metadata": {},
   "outputs": [
    {
     "data": {
      "text/html": [
       "<style>\n",
       ".list-inline {list-style: none; margin:0; padding: 0}\n",
       ".list-inline>li {display: inline-block}\n",
       ".list-inline>li:not(:last-child)::after {content: \"\\00b7\"; padding: 0 .5ex}\n",
       "</style>\n",
       "<ol class=list-inline><li>549</li><li>4000</li></ol>\n"
      ],
      "text/latex": [
       "\\begin{enumerate*}\n",
       "\\item 549\n",
       "\\item 4000\n",
       "\\end{enumerate*}\n"
      ],
      "text/markdown": [
       "1. 549\n",
       "2. 4000\n",
       "\n",
       "\n"
      ],
      "text/plain": [
       "[1]  549 4000"
      ]
     },
     "metadata": {},
     "output_type": "display_data"
    }
   ],
   "source": [
    "dim(pbrmat)"
   ]
  },
  {
   "cell_type": "code",
   "execution_count": 193,
   "metadata": {},
   "outputs": [],
   "source": [
    "metadata_IC_subset <- metadata_IC[metadata_IC$sample_id %in% rownames(pbrmat),]"
   ]
  },
  {
   "cell_type": "code",
   "execution_count": 194,
   "metadata": {},
   "outputs": [
    {
     "data": {
      "text/html": [
       "<style>\n",
       ".list-inline {list-style: none; margin:0; padding: 0}\n",
       ".list-inline>li {display: inline-block}\n",
       ".list-inline>li:not(:last-child)::after {content: \"\\00b7\"; padding: 0 .5ex}\n",
       "</style>\n",
       "<ol class=list-inline><li>543</li><li>24</li></ol>\n"
      ],
      "text/latex": [
       "\\begin{enumerate*}\n",
       "\\item 543\n",
       "\\item 24\n",
       "\\end{enumerate*}\n"
      ],
      "text/markdown": [
       "1. 543\n",
       "2. 24\n",
       "\n",
       "\n"
      ],
      "text/plain": [
       "[1] 543  24"
      ]
     },
     "metadata": {},
     "output_type": "display_data"
    }
   ],
   "source": [
    "dim(metadata_IC_subset)"
   ]
  },
  {
   "cell_type": "code",
   "execution_count": 195,
   "metadata": {},
   "outputs": [],
   "source": [
    "metadata_IC_subset <- metadata_IC_subset[order(metadata_IC_subset$immune_cluster),]"
   ]
  },
  {
   "cell_type": "code",
   "execution_count": 196,
   "metadata": {},
   "outputs": [],
   "source": [
    "pbrmat <- pbrmat[metadata_IC_subset$sample_id,]"
   ]
  },
  {
   "cell_type": "code",
   "execution_count": 197,
   "metadata": {},
   "outputs": [
    {
     "name": "stderr",
     "output_type": "stream",
     "text": [
      "Warning message in max(x, na.rm = T):\n",
      "“no non-missing arguments to max; returning -Inf”\n",
      "Warning message in max(x, na.rm = T):\n",
      "“no non-missing arguments to max; returning -Inf”\n",
      "Warning message in max(x, na.rm = T):\n",
      "“no non-missing arguments to max; returning -Inf”\n",
      "Warning message in max(x, na.rm = T):\n",
      "“no non-missing arguments to max; returning -Inf”\n",
      "Warning message in max(x, na.rm = T):\n",
      "“no non-missing arguments to max; returning -Inf”\n",
      "Warning message in max(x, na.rm = T):\n",
      "“no non-missing arguments to max; returning -Inf”\n"
     ]
    }
   ],
   "source": [
    "pbrs <- apply(pbrmat, 1, function(x) max(x, na.rm = T))"
   ]
  },
  {
   "cell_type": "code",
   "execution_count": 198,
   "metadata": {},
   "outputs": [
    {
     "data": {
      "text/html": [
       "<style>\n",
       ".dl-inline {width: auto; margin:0; padding: 0}\n",
       ".dl-inline>dt, .dl-inline>dd {float: none; width: auto; display: inline-block}\n",
       ".dl-inline>dt::after {content: \":\\0020\"; padding-right: .5ex}\n",
       ".dl-inline>dt:not(:first-of-type) {padding-left: .5ex}\n",
       "</style><dl class=dl-inline><dt>TARGET-30-PAIPGU-01A</dt><dd>8</dd><dt>TARGET-30-PALETP-01A</dt><dd>6</dd><dt>TARGET-30-PALTEG-01A</dt><dd>5</dd><dt>TARGET-30-PANKFE-01A</dt><dd>2</dd><dt>TARGET-30-PANXJL-01A</dt><dd>7</dd><dt>TARGET-30-PAPEFE-01A</dt><dd>5</dd></dl>\n"
      ],
      "text/latex": [
       "\\begin{description*}\n",
       "\\item[TARGET-30-PAIPGU-01A] 8\n",
       "\\item[TARGET-30-PALETP-01A] 6\n",
       "\\item[TARGET-30-PALTEG-01A] 5\n",
       "\\item[TARGET-30-PANKFE-01A] 2\n",
       "\\item[TARGET-30-PANXJL-01A] 7\n",
       "\\item[TARGET-30-PAPEFE-01A] 5\n",
       "\\end{description*}\n"
      ],
      "text/markdown": [
       "TARGET-30-PAIPGU-01A\n",
       ":   8TARGET-30-PALETP-01A\n",
       ":   6TARGET-30-PALTEG-01A\n",
       ":   5TARGET-30-PANKFE-01A\n",
       ":   2TARGET-30-PANXJL-01A\n",
       ":   7TARGET-30-PAPEFE-01A\n",
       ":   5\n",
       "\n"
      ],
      "text/plain": [
       "TARGET-30-PAIPGU-01A TARGET-30-PALETP-01A TARGET-30-PALTEG-01A \n",
       "                   8                    6                    5 \n",
       "TARGET-30-PANKFE-01A TARGET-30-PANXJL-01A TARGET-30-PAPEFE-01A \n",
       "                   2                    7                    5 "
      ]
     },
     "metadata": {},
     "output_type": "display_data"
    }
   ],
   "source": [
    "head(pbrs)"
   ]
  },
  {
   "cell_type": "code",
   "execution_count": 199,
   "metadata": {},
   "outputs": [],
   "source": [
    "metadata_IC_subset_pbr <- cbind(metadata_IC_subset, pbrs)"
   ]
  },
  {
   "cell_type": "code",
   "execution_count": 200,
   "metadata": {},
   "outputs": [],
   "source": [
    "metadata_IC_subset_pbr <- metadata_IC_subset_pbr[ metadata_IC_subset_pbr$pbrs != -Inf,]"
   ]
  },
  {
   "cell_type": "code",
   "execution_count": 201,
   "metadata": {},
   "outputs": [
    {
     "data": {
      "text/plain": [
       "$`Pediatric inflamed`\n",
       "   Min. 1st Qu.  Median    Mean 3rd Qu.    Max. \n",
       "  0.000   2.000   4.000   3.922   6.000  10.000 \n",
       "\n",
       "$`Myeloid-driven`\n",
       "   Min. 1st Qu.  Median    Mean 3rd Qu.    Max. \n",
       "  0.000   2.000   4.000   4.346   6.000  12.000 \n",
       "\n",
       "$`Pediatric cold`\n",
       "   Min. 1st Qu.  Median    Mean 3rd Qu.    Max. \n",
       "  0.000   3.000   4.000   4.792   7.000  17.000 \n",
       "\n",
       "$`Immune excluded`\n",
       "   Min. 1st Qu.  Median    Mean 3rd Qu.    Max. \n",
       "  0.000   3.000   5.000   5.284   7.000  19.000 \n"
      ]
     },
     "metadata": {},
     "output_type": "display_data"
    }
   ],
   "source": [
    "tapply(metadata_IC_subset_pbr$pbrs,\n",
    "       metadata_IC_subset_pbr$immune_cluster, \n",
    "       summary)"
   ]
  },
  {
   "cell_type": "code",
   "execution_count": 204,
   "metadata": {},
   "outputs": [
    {
     "data": {
      "text/plain": [
       "\n",
       "\tPairwise comparisons using t tests with pooled SD \n",
       "\n",
       "data:  metadata_IC_subset_pbr$pbrs[metadata_IC_subset_pbr$cohort != \"NBL\"] and metadata_IC_subset_pbr$immune_cluster[metadata_IC_subset_pbr$cohort != \"NBL\"] \n",
       "\n",
       "                Pediatric inflamed Myeloid-driven Pediatric cold\n",
       "Myeloid-driven  0.2179             -              -             \n",
       "Pediatric cold  0.0038             0.0193         -             \n",
       "Immune excluded 0.0011             0.0055         0.3515        \n",
       "\n",
       "P value adjustment method: none "
      ]
     },
     "metadata": {},
     "output_type": "display_data"
    }
   ],
   "source": [
    "pairwise.t.test(metadata_IC_subset_pbr$pbrs[ metadata_IC_subset_pbr$cohort != \"NBL\"],\n",
    "                metadata_IC_subset_pbr$immune_cluster[ metadata_IC_subset_pbr$cohort != \"NBL\"],\n",
    "                p.adjust = \"none\")"
   ]
  },
  {
   "cell_type": "code",
   "execution_count": 205,
   "metadata": {},
   "outputs": [
    {
     "data": {
      "text/plain": [
       "\n",
       "Call:\n",
       "aov(formula = pbrs ~ immune_cluster + cohort, data = metadata_IC_subset_pbr)\n",
       "\n",
       "Residuals:\n",
       "    Min      1Q  Median      3Q     Max \n",
       "-5.6720 -1.7447 -0.4384  1.4443 13.1331 \n",
       "\n",
       "Coefficients:\n",
       "                              Estimate Std. Error t value    Pr(>|t|)    \n",
       "(Intercept)                     3.4638     0.6663   5.199 0.000000289 ***\n",
       "immune_clusterMyeloid-driven    0.7328     0.3967   1.847    0.065283 .  \n",
       "immune_clusterPediatric cold    0.9218     0.4043   2.280    0.023020 *  \n",
       "immune_clusterImmune excluded   0.4992     0.4485   1.113    0.266283    \n",
       "cohortCP                        0.6178     0.9967   0.620    0.535623    \n",
       "cohortCPH                      -1.8746     0.8894  -2.108    0.035528 *  \n",
       "cohortEPN                      -0.5986     0.6867  -0.872    0.383805    \n",
       "cohortETMR                     -1.1743     1.9066  -0.616    0.538202    \n",
       "cohortMB                        1.9039     0.6519   2.920    0.003647 ** \n",
       "cohortMNG                       1.3854     1.0034   1.381    0.167978    \n",
       "cohortNBL                       2.4754     0.6342   3.903    0.000107 ***\n",
       "cohortNFB                       1.2603     1.1432   1.102    0.270780    \n",
       "cohortpedHGG                    1.7792     0.7169   2.482    0.013387 *  \n",
       "cohortpedLGG                   -0.6409     0.6056  -1.058    0.290397    \n",
       "cohortSCHW                     -0.1182     0.9964  -0.119    0.905590    \n",
       "---\n",
       "Signif. codes:  0 ‘***’ 0.001 ‘**’ 0.01 ‘*’ 0.05 ‘.’ 0.1 ‘ ’ 1\n",
       "\n",
       "Residual standard error: 2.568 on 522 degrees of freedom\n",
       "Multiple R-squared:  0.2286,\tAdjusted R-squared:  0.2079 \n",
       "F-statistic: 11.05 on 14 and 522 DF,  p-value: < 0.00000000000000022\n"
      ]
     },
     "metadata": {},
     "output_type": "display_data"
    }
   ],
   "source": [
    "fit_pbrs <- aov(pbrs ~ immune_cluster + cohort, metadata_IC_subset_pbr)\n",
    "summary.lm(fit_pbrs)"
   ]
  },
  {
   "cell_type": "markdown",
   "metadata": {},
   "source": [
    "# Deprecated"
   ]
  },
  {
   "cell_type": "code",
   "execution_count": 120,
   "metadata": {},
   "outputs": [],
   "source": [
    "myclass <- as.character(metadata_IC_subset$immune_cluster)\n",
    "names(myclass) <- metadata_IC_subset$sample_id\n",
    "class_hm <- class_hm.fx(myclass)"
   ]
  },
  {
   "cell_type": "code",
   "execution_count": 121,
   "metadata": {},
   "outputs": [],
   "source": [
    "pbr_hm.fx <- function(pbr_mat){\n",
    "\n",
    "    col_fun= colorRamp2(c(0, 2), c(\"red\", \"white\"))\n",
    "    \n",
    "    pbr_hm = Heatmap(pbr_mat,\n",
    "                       #titles and names   \n",
    "                       name = \"PBR score\",   \n",
    "                       show_row_names = TRUE,\n",
    "                       show_column_names = FALSE,     \n",
    "                       #clusters and orders  \n",
    "                       cluster_columns = FALSE,\n",
    "                       cluster_rows = FALSE,\n",
    "                       show_column_dend = TRUE,\n",
    "                       #row_dend_width = unit(8, \"cm\"),\n",
    "                       #aesthestics\n",
    "                       col = col_fun,\n",
    "                       column_names_gp = gpar(fontsize = 20),\n",
    "                       row_names_gp = gpar(fontsize = 20),\n",
    "                       height = unit(nrow(pbr_mat), \"cm\"),\n",
    "                       column_title_gp = gpar(fontsize = 20),\n",
    "                       column_title = NULL,\n",
    "                       row_title = NULL)\n",
    "    return(pbr_hm)   \n",
    "}"
   ]
  },
  {
   "cell_type": "code",
   "execution_count": null,
   "metadata": {},
   "outputs": [],
   "source": []
  },
  {
   "cell_type": "code",
   "execution_count": null,
   "metadata": {},
   "outputs": [],
   "source": []
  },
  {
   "cell_type": "code",
   "execution_count": null,
   "metadata": {},
   "outputs": [],
   "source": []
  },
  {
   "cell_type": "code",
   "execution_count": null,
   "metadata": {},
   "outputs": [],
   "source": []
  },
  {
   "cell_type": "code",
   "execution_count": 93,
   "metadata": {},
   "outputs": [],
   "source": [
    "Clustercolors = structure(c(\"#d73027\", \"#fc8d59\", \"#fee090\", \"#e0f3f8\", \"#91bfdb\", \"#4575b4\"),\n",
    "                          names = c(\"C1\", \"C2\", \"C3\", \"C4\", \"C5\", \"C6\"))   "
   ]
  },
  {
   "cell_type": "code",
   "execution_count": 94,
   "metadata": {},
   "outputs": [
    {
     "name": "stderr",
     "output_type": "stream",
     "text": [
      "Warning message:\n",
      "“Removed 4 rows containing non-finite values (stat_ydensity).”\n",
      "Warning message:\n",
      "“Removed 4 rows containing non-finite values (stat_boxplot).”\n"
     ]
    },
    {
     "data": {
      "image/png": "[encoded data removed]",
      "text/plain": [
       "plot without title"
      ]
     },
     "metadata": {
      "image/png": {
       "height": 420,
       "width": 420
      }
     },
     "output_type": "display_data"
    }
   ],
   "source": [
    "pbrplot <- ggplot(data = metadata_IC_subset_pbr, aes(x = immune_cluster, y = pbrs, fill = immune_cluster)) + \n",
    "geom_violin() + geom_boxplot(width = 0.2, outlier.colour = NA) + myaxis + myplot +\n",
    "scale_fill_manual(values = Clustercolors) \n",
    "pbrplot"
   ]
  },
  {
   "cell_type": "code",
   "execution_count": 62,
   "metadata": {},
   "outputs": [],
   "source": [
    "Listofpatients <- list()\n",
    "\n",
    "for(p in unique(all.mupexi$sample_id)){\n",
    "    mysample <- all.mupexi[ all.mupexi$sample_id == p,]\n",
    "    \n",
    "    genemat <- matrix(nrow = length(unique(mysample$Gene_Symbol)), \n",
    "                  ncol = length(unique(mysample$Amino_Acid_Change)),\n",
    "                  dimnames = list(\n",
    "                  unique(mysample$Gene_Symbol),\n",
    "                  unique(mysample$Amino_Acid_Change)))\n",
    "    \n",
    "    for(r in colnames(genemat)){\n",
    "        \n",
    "    myres <- mysample[ mysample$Amino_Acid_Change == r,]\n",
    "    for(g in unique(myres$Gene_Symbol)){\n",
    "        myresmygen <- myres[ myres$Gene_Symbol == g,]\n",
    "        summarytab <- tapply(myresmygen$Mut_MHCrank_BA, myresmygen$HLA_allele,summary)\n",
    "        BestRank <- min(unlist(summarytab))\n",
    "        genemat[g,r] <- BestRank\n",
    "    }  \n",
    "}\n",
    "    Listofpatients[length(Listofpatients) + 1] <- list(genemat)\n",
    "\n",
    "}\n",
    "\n",
    "names(Listofpatients) <- unique(all.mupexi$sample_id)"
   ]
  },
  {
   "cell_type": "code",
   "execution_count": 63,
   "metadata": {},
   "outputs": [],
   "source": [
    "save(Listofpatients, file = paste0(datapath, \"Mupexi/Listofpatients.RData\"))"
   ]
  },
  {
   "cell_type": "code",
   "execution_count": null,
   "metadata": {},
   "outputs": [],
   "source": []
  },
  {
   "cell_type": "code",
   "execution_count": null,
   "metadata": {},
   "outputs": [],
   "source": []
  },
  {
   "cell_type": "code",
   "execution_count": null,
   "metadata": {},
   "outputs": [],
   "source": []
  }
 ],
 "metadata": {
  "kernelspec": {
   "display_name": "R 4.0",
   "language": "R",
   "name": "ir40"
  },
  "language_info": {
   "codemirror_mode": "r",
   "file_extension": ".r",
   "mimetype": "text/x-r-source",
   "name": "R",
   "pygments_lexer": "r",
   "version": "4.0.3"
  },
  "toc": {
   "base_numbering": 1,
   "nav_menu": {},
   "number_sections": false,
   "sideBar": true,
   "skip_h1_title": false,
   "title_cell": "Table of Contents",
   "title_sidebar": "Contents",
   "toc_cell": true,
   "toc_position": {
    "height": "calc(100% - 180px)",
    "left": "10px",
    "top": "150px",
    "width": "215.739px"
   },
   "toc_section_display": true,
   "toc_window_display": true
  }
 },
 "nbformat": 4,
 "nbformat_minor": 2
}
