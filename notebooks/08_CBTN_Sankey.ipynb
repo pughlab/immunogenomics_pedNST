{
 "cells": [
  {
   "cell_type": "markdown",
   "metadata": {
    "toc": true
   },
   "source": [
    "<h1>Table of Contents<span class=\"tocSkip\"></span></h1>\n",
    "<div class=\"toc\"><ul class=\"toc-item\"><li><span><a href=\"#Dependencies\" data-toc-modified-id=\"Dependencies-1\">Dependencies</a></span></li><li><span><a href=\"#Paths\" data-toc-modified-id=\"Paths-2\">Paths</a></span></li><li><span><a href=\"#Main\" data-toc-modified-id=\"Main-3\">Main</a></span><ul class=\"toc-item\"><li><span><a href=\"#Remove-cell-lines\" data-toc-modified-id=\"Remove-cell-lines-3.1\">Remove cell lines</a></span></li><li><span><a href=\"#Duplicated-samples\" data-toc-modified-id=\"Duplicated-samples-3.2\">Duplicated samples</a></span></li><li><span><a href=\"#Sample-types\" data-toc-modified-id=\"Sample-types-3.3\">Sample types</a></span></li><li><span><a href=\"#Sufficient-sample-size\" data-toc-modified-id=\"Sufficient-sample-size-3.4\">Sufficient sample size</a></span></li><li><span><a href=\"#Clustering\" data-toc-modified-id=\"Clustering-3.5\">Clustering</a></span></li></ul></li><li><span><a href=\"#Sankey-plot\" data-toc-modified-id=\"Sankey-plot-4\">Sankey plot</a></span></li></ul></div>"
   ]
  },
  {
   "cell_type": "markdown",
   "metadata": {},
   "source": [
    "# Dependencies"
   ]
  },
  {
   "cell_type": "code",
   "execution_count": 1,
   "metadata": {
    "scrolled": true
   },
   "outputs": [
    {
     "name": "stderr",
     "output_type": "stream",
     "text": [
      "Loading required package: ggplot2\n",
      "\n"
     ]
    }
   ],
   "source": [
    "library(ggforce)"
   ]
  },
  {
   "cell_type": "code",
   "execution_count": 2,
   "metadata": {},
   "outputs": [],
   "source": [
    "source(\"~/OneDrive - UHN/R_src/ggplot2_theme.R\")"
   ]
  },
  {
   "cell_type": "markdown",
   "metadata": {},
   "source": [
    "# Paths"
   ]
  },
  {
   "cell_type": "code",
   "execution_count": 3,
   "metadata": {},
   "outputs": [],
   "source": [
    "manifestpath <- \"/Users/anabbi/OneDrive - UHN/Documents/IPD2/Manifests/\"\n",
    "datapath <- \"/Users/anabbi/OneDrive - UHN/Documents/IPD2/Data/\"\n",
    "plotpath <- \"/Users/anabbi/OneDrive - UHN/Documents/IPD2/Plots/\""
   ]
  },
  {
   "cell_type": "markdown",
   "metadata": {},
   "source": [
    "# Main"
   ]
  },
  {
   "cell_type": "markdown",
   "metadata": {},
   "source": [
    "Start with RSEM manifest file "
   ]
  },
  {
   "cell_type": "code",
   "execution_count": 4,
   "metadata": {},
   "outputs": [],
   "source": [
    "CBTN_RNA_manifest_genes <- read.csv(paste0(manifestpath, \"CBTTC_RSEM-manifest.csv\"),header = TRUE, stringsAsFactors = FALSE)"
   ]
  },
  {
   "cell_type": "code",
   "execution_count": 5,
   "metadata": {},
   "outputs": [
    {
     "data": {
      "text/html": [
       "<style>\n",
       ".list-inline {list-style: none; margin:0; padding: 0}\n",
       ".list-inline>li {display: inline-block}\n",
       ".list-inline>li:not(:last-child)::after {content: \"\\00b7\"; padding: 0 .5ex}\n",
       "</style>\n",
       "<ol class=list-inline><li>996</li><li>20</li></ol>\n"
      ],
      "text/latex": [
       "\\begin{enumerate*}\n",
       "\\item 996\n",
       "\\item 20\n",
       "\\end{enumerate*}\n"
      ],
      "text/markdown": [
       "1. 996\n",
       "2. 20\n",
       "\n",
       "\n"
      ],
      "text/plain": [
       "[1] 996  20"
      ]
     },
     "metadata": {},
     "output_type": "display_data"
    }
   ],
   "source": [
    "dim(CBTN_RNA_manifest_genes)"
   ]
  },
  {
   "cell_type": "code",
   "execution_count": 6,
   "metadata": {},
   "outputs": [],
   "source": [
    "CBTN_samples <- cbind.data.frame(CBTN_RNA_manifest_genes$sample_id,\n",
    "                                 CBTN_RNA_manifest_genes$aliquot_id, stringsAsFactors = F)\n",
    "colnames(CBTN_samples) <- c(\"CBTN_sample_id\", \"CBTN_aliquot_id\")"
   ]
  },
  {
   "cell_type": "code",
   "execution_count": 7,
   "metadata": {},
   "outputs": [],
   "source": [
    "CBTN_samples$CBTN_sample_aliquot <- paste0(CBTN_samples$CBTN_sample_id,\"_\", CBTN_samples$CBTN_aliquot_id)"
   ]
  },
  {
   "cell_type": "code",
   "execution_count": 8,
   "metadata": {},
   "outputs": [],
   "source": [
    "CBTN_samples$CBTN <- \"CBTN\\nsamples\\n(n = 996)\""
   ]
  },
  {
   "cell_type": "code",
   "execution_count": 9,
   "metadata": {},
   "outputs": [
    {
     "data": {
      "text/html": [
       "<table class=\"dataframe\">\n",
       "<caption>A data.frame: 6 × 4</caption>\n",
       "<thead>\n",
       "\t<tr><th></th><th scope=col>CBTN_sample_id</th><th scope=col>CBTN_aliquot_id</th><th scope=col>CBTN_sample_aliquot</th><th scope=col>CBTN</th></tr>\n",
       "\t<tr><th></th><th scope=col>&lt;chr&gt;</th><th scope=col>&lt;chr&gt;</th><th scope=col>&lt;chr&gt;</th><th scope=col>&lt;chr&gt;</th></tr>\n",
       "</thead>\n",
       "<tbody>\n",
       "\t<tr><th scope=row>1</th><td>7316-464 </td><td>746062</td><td>7316-464_746062 </td><td>CBTN\n",
       "samples\n",
       "(n = 996)</td></tr>\n",
       "\t<tr><th scope=row>2</th><td>7316-2724</td><td>717144</td><td>7316-2724_717144</td><td>CBTN\n",
       "samples\n",
       "(n = 996)</td></tr>\n",
       "\t<tr><th scope=row>3</th><td>7316-4028</td><td>724089</td><td>7316-4028_724089</td><td>CBTN\n",
       "samples\n",
       "(n = 996)</td></tr>\n",
       "\t<tr><th scope=row>4</th><td>7316-516 </td><td>571424</td><td>7316-516_571424 </td><td>CBTN\n",
       "samples\n",
       "(n = 996)</td></tr>\n",
       "\t<tr><th scope=row>5</th><td>7316-1766</td><td>717142</td><td>7316-1766_717142</td><td>CBTN\n",
       "samples\n",
       "(n = 996)</td></tr>\n",
       "\t<tr><th scope=row>6</th><td>7316-3336</td><td>739926</td><td>7316-3336_739926</td><td>CBTN\n",
       "samples\n",
       "(n = 996)</td></tr>\n",
       "</tbody>\n",
       "</table>\n"
      ],
      "text/latex": [
       "A data.frame: 6 × 4\n",
       "\\begin{tabular}{r|llll}\n",
       "  & CBTN\\_sample\\_id & CBTN\\_aliquot\\_id & CBTN\\_sample\\_aliquot & CBTN\\\\\n",
       "  & <chr> & <chr> & <chr> & <chr>\\\\\n",
       "\\hline\n",
       "\t1 & 7316-464  & 746062 & 7316-464\\_746062  & CBTN\n",
       "samples\n",
       "(n = 996)\\\\\n",
       "\t2 & 7316-2724 & 717144 & 7316-2724\\_717144 & CBTN\n",
       "samples\n",
       "(n = 996)\\\\\n",
       "\t3 & 7316-4028 & 724089 & 7316-4028\\_724089 & CBTN\n",
       "samples\n",
       "(n = 996)\\\\\n",
       "\t4 & 7316-516  & 571424 & 7316-516\\_571424  & CBTN\n",
       "samples\n",
       "(n = 996)\\\\\n",
       "\t5 & 7316-1766 & 717142 & 7316-1766\\_717142 & CBTN\n",
       "samples\n",
       "(n = 996)\\\\\n",
       "\t6 & 7316-3336 & 739926 & 7316-3336\\_739926 & CBTN\n",
       "samples\n",
       "(n = 996)\\\\\n",
       "\\end{tabular}\n"
      ],
      "text/markdown": [
       "\n",
       "A data.frame: 6 × 4\n",
       "\n",
       "| <!--/--> | CBTN_sample_id &lt;chr&gt; | CBTN_aliquot_id &lt;chr&gt; | CBTN_sample_aliquot &lt;chr&gt; | CBTN &lt;chr&gt; |\n",
       "|---|---|---|---|---|\n",
       "| 1 | 7316-464  | 746062 | 7316-464_746062  | CBTN\n",
       "samples\n",
       "(n = 996) |\n",
       "| 2 | 7316-2724 | 717144 | 7316-2724_717144 | CBTN\n",
       "samples\n",
       "(n = 996) |\n",
       "| 3 | 7316-4028 | 724089 | 7316-4028_724089 | CBTN\n",
       "samples\n",
       "(n = 996) |\n",
       "| 4 | 7316-516  | 571424 | 7316-516_571424  | CBTN\n",
       "samples\n",
       "(n = 996) |\n",
       "| 5 | 7316-1766 | 717142 | 7316-1766_717142 | CBTN\n",
       "samples\n",
       "(n = 996) |\n",
       "| 6 | 7316-3336 | 739926 | 7316-3336_739926 | CBTN\n",
       "samples\n",
       "(n = 996) |\n",
       "\n"
      ],
      "text/plain": [
       "  CBTN_sample_id CBTN_aliquot_id CBTN_sample_aliquot CBTN                    \n",
       "1 7316-464       746062          7316-464_746062     CBTN\\nsamples\\n(n = 996)\n",
       "2 7316-2724      717144          7316-2724_717144    CBTN\\nsamples\\n(n = 996)\n",
       "3 7316-4028      724089          7316-4028_724089    CBTN\\nsamples\\n(n = 996)\n",
       "4 7316-516       571424          7316-516_571424     CBTN\\nsamples\\n(n = 996)\n",
       "5 7316-1766      717142          7316-1766_717142    CBTN\\nsamples\\n(n = 996)\n",
       "6 7316-3336      739926          7316-3336_739926    CBTN\\nsamples\\n(n = 996)"
      ]
     },
     "metadata": {},
     "output_type": "display_data"
    }
   ],
   "source": [
    "head(CBTN_samples)"
   ]
  },
  {
   "cell_type": "markdown",
   "metadata": {},
   "source": [
    "## Remove cell lines"
   ]
  },
  {
   "cell_type": "code",
   "execution_count": 10,
   "metadata": {},
   "outputs": [],
   "source": [
    "CBTN_celllines <- read.csv(paste0(manifestpath,\"cell_line_RNAalqids_CBTTC.csv\"), header = TRUE, stringsAsFactors = F)"
   ]
  },
  {
   "cell_type": "code",
   "execution_count": 11,
   "metadata": {},
   "outputs": [
    {
     "data": {
      "text/html": [
       "<table class=\"dataframe\">\n",
       "<caption>A data.frame: 6 × 5</caption>\n",
       "<thead>\n",
       "\t<tr><th></th><th scope=col>case_id</th><th scope=col>patient_id</th><th scope=col>clinical_event</th><th scope=col>cell_lines_rnaalq_id</th><th scope=col>X</th></tr>\n",
       "\t<tr><th></th><th scope=col>&lt;chr&gt;</th><th scope=col>&lt;chr&gt;</th><th scope=col>&lt;chr&gt;</th><th scope=col>&lt;chr&gt;</th><th scope=col>&lt;lgl&gt;</th></tr>\n",
       "</thead>\n",
       "<tbody>\n",
       "\t<tr><th scope=row>1</th><td>C216603</td><td>PT_4347ZBEX</td><td>7316-913 </td><td>739931</td><td>NA</td></tr>\n",
       "\t<tr><th scope=row>2</th><td>C22878 </td><td>PT_TGQY3X3W</td><td>7316-24  </td><td>739935</td><td>NA</td></tr>\n",
       "\t<tr><th scope=row>3</th><td>C28290 </td><td>PT_3AWKWXEV</td><td>7316-85  </td><td>740005</td><td>NA</td></tr>\n",
       "\t<tr><th scope=row>4</th><td>C337143</td><td>PT_C2D4JXS1</td><td>7316-1746</td><td>739942</td><td>NA</td></tr>\n",
       "\t<tr><th scope=row>5</th><td>C377856</td><td>PT_Z4PJA6KT</td><td>7316-1763</td><td>739939</td><td>NA</td></tr>\n",
       "\t<tr><th scope=row>6</th><td>C56826 </td><td>PT_Y5KY6KN9</td><td>7316-195 </td><td>739937</td><td>NA</td></tr>\n",
       "</tbody>\n",
       "</table>\n"
      ],
      "text/latex": [
       "A data.frame: 6 × 5\n",
       "\\begin{tabular}{r|lllll}\n",
       "  & case\\_id & patient\\_id & clinical\\_event & cell\\_lines\\_rnaalq\\_id & X\\\\\n",
       "  & <chr> & <chr> & <chr> & <chr> & <lgl>\\\\\n",
       "\\hline\n",
       "\t1 & C216603 & PT\\_4347ZBEX & 7316-913  & 739931 & NA\\\\\n",
       "\t2 & C22878  & PT\\_TGQY3X3W & 7316-24   & 739935 & NA\\\\\n",
       "\t3 & C28290  & PT\\_3AWKWXEV & 7316-85   & 740005 & NA\\\\\n",
       "\t4 & C337143 & PT\\_C2D4JXS1 & 7316-1746 & 739942 & NA\\\\\n",
       "\t5 & C377856 & PT\\_Z4PJA6KT & 7316-1763 & 739939 & NA\\\\\n",
       "\t6 & C56826  & PT\\_Y5KY6KN9 & 7316-195  & 739937 & NA\\\\\n",
       "\\end{tabular}\n"
      ],
      "text/markdown": [
       "\n",
       "A data.frame: 6 × 5\n",
       "\n",
       "| <!--/--> | case_id &lt;chr&gt; | patient_id &lt;chr&gt; | clinical_event &lt;chr&gt; | cell_lines_rnaalq_id &lt;chr&gt; | X &lt;lgl&gt; |\n",
       "|---|---|---|---|---|---|\n",
       "| 1 | C216603 | PT_4347ZBEX | 7316-913  | 739931 | NA |\n",
       "| 2 | C22878  | PT_TGQY3X3W | 7316-24   | 739935 | NA |\n",
       "| 3 | C28290  | PT_3AWKWXEV | 7316-85   | 740005 | NA |\n",
       "| 4 | C337143 | PT_C2D4JXS1 | 7316-1746 | 739942 | NA |\n",
       "| 5 | C377856 | PT_Z4PJA6KT | 7316-1763 | 739939 | NA |\n",
       "| 6 | C56826  | PT_Y5KY6KN9 | 7316-195  | 739937 | NA |\n",
       "\n"
      ],
      "text/plain": [
       "  case_id patient_id  clinical_event cell_lines_rnaalq_id X \n",
       "1 C216603 PT_4347ZBEX 7316-913       739931               NA\n",
       "2 C22878  PT_TGQY3X3W 7316-24        739935               NA\n",
       "3 C28290  PT_3AWKWXEV 7316-85        740005               NA\n",
       "4 C337143 PT_C2D4JXS1 7316-1746      739942               NA\n",
       "5 C377856 PT_Z4PJA6KT 7316-1763      739939               NA\n",
       "6 C56826  PT_Y5KY6KN9 7316-195       739937               NA"
      ]
     },
     "metadata": {},
     "output_type": "display_data"
    }
   ],
   "source": [
    "head(CBTN_celllines)"
   ]
  },
  {
   "cell_type": "code",
   "execution_count": 12,
   "metadata": {},
   "outputs": [],
   "source": [
    "CBTN_celllines$sample_aliquot_id <- paste0(CBTN_celllines$clinical_event, \"_\", CBTN_celllines$cell_lines_rnaalq_id)"
   ]
  },
  {
   "cell_type": "code",
   "execution_count": 13,
   "metadata": {},
   "outputs": [],
   "source": [
    "cellines <- CBTN_samples$CBTN_sample_aliquot[ CBTN_samples$CBTN_sample_aliquot %in% CBTN_celllines$sample_aliquot_id]\n",
    "not_celllines <- CBTN_samples$CBTN_sample_aliquot[!CBTN_samples$CBTN_sample_aliquot %in% CBTN_celllines$sample_aliquot_id]"
   ]
  },
  {
   "cell_type": "code",
   "execution_count": 14,
   "metadata": {},
   "outputs": [
    {
     "data": {
      "text/html": [
       "<style>\n",
       ".list-inline {list-style: none; margin:0; padding: 0}\n",
       ".list-inline>li {display: inline-block}\n",
       ".list-inline>li:not(:last-child)::after {content: \"\\00b7\"; padding: 0 .5ex}\n",
       "</style>\n",
       "<ol class=list-inline><li>'7316-765_470731'</li><li>'7316-1464_470021'</li><li>'7316-913_739931'</li><li>'7316-913_739932'</li><li>'7316-278_257637'</li><li>'7316-85_740007'</li><li>'7316-85_740010'</li><li>'7316-1893_470029'</li><li>'7316-1746_739942'</li><li>'7316-1746_739941'</li><li>'7316-1763_739940'</li><li>'7316-1763_739939'</li><li>'7316-178_169902.251874.169909'</li><li>'7316-195_739938'</li><li>'7316-195_739937'</li><li>'7316-135_116304.116311.116318'</li><li>'7316-2176_739936'</li><li>'7316-2189_740008'</li><li>'7316-3058_739933'</li><li>'7316-3058_739934'</li><li>'7316-2151_740006'</li><li>'7316-1769_740009'</li></ol>\n"
      ],
      "text/latex": [
       "\\begin{enumerate*}\n",
       "\\item '7316-765\\_470731'\n",
       "\\item '7316-1464\\_470021'\n",
       "\\item '7316-913\\_739931'\n",
       "\\item '7316-913\\_739932'\n",
       "\\item '7316-278\\_257637'\n",
       "\\item '7316-85\\_740007'\n",
       "\\item '7316-85\\_740010'\n",
       "\\item '7316-1893\\_470029'\n",
       "\\item '7316-1746\\_739942'\n",
       "\\item '7316-1746\\_739941'\n",
       "\\item '7316-1763\\_739940'\n",
       "\\item '7316-1763\\_739939'\n",
       "\\item '7316-178\\_169902.251874.169909'\n",
       "\\item '7316-195\\_739938'\n",
       "\\item '7316-195\\_739937'\n",
       "\\item '7316-135\\_116304.116311.116318'\n",
       "\\item '7316-2176\\_739936'\n",
       "\\item '7316-2189\\_740008'\n",
       "\\item '7316-3058\\_739933'\n",
       "\\item '7316-3058\\_739934'\n",
       "\\item '7316-2151\\_740006'\n",
       "\\item '7316-1769\\_740009'\n",
       "\\end{enumerate*}\n"
      ],
      "text/markdown": [
       "1. '7316-765_470731'\n",
       "2. '7316-1464_470021'\n",
       "3. '7316-913_739931'\n",
       "4. '7316-913_739932'\n",
       "5. '7316-278_257637'\n",
       "6. '7316-85_740007'\n",
       "7. '7316-85_740010'\n",
       "8. '7316-1893_470029'\n",
       "9. '7316-1746_739942'\n",
       "10. '7316-1746_739941'\n",
       "11. '7316-1763_739940'\n",
       "12. '7316-1763_739939'\n",
       "13. '7316-178_169902.251874.169909'\n",
       "14. '7316-195_739938'\n",
       "15. '7316-195_739937'\n",
       "16. '7316-135_116304.116311.116318'\n",
       "17. '7316-2176_739936'\n",
       "18. '7316-2189_740008'\n",
       "19. '7316-3058_739933'\n",
       "20. '7316-3058_739934'\n",
       "21. '7316-2151_740006'\n",
       "22. '7316-1769_740009'\n",
       "\n",
       "\n"
      ],
      "text/plain": [
       " [1] \"7316-765_470731\"               \"7316-1464_470021\"             \n",
       " [3] \"7316-913_739931\"               \"7316-913_739932\"              \n",
       " [5] \"7316-278_257637\"               \"7316-85_740007\"               \n",
       " [7] \"7316-85_740010\"                \"7316-1893_470029\"             \n",
       " [9] \"7316-1746_739942\"              \"7316-1746_739941\"             \n",
       "[11] \"7316-1763_739940\"              \"7316-1763_739939\"             \n",
       "[13] \"7316-178_169902.251874.169909\" \"7316-195_739938\"              \n",
       "[15] \"7316-195_739937\"               \"7316-135_116304.116311.116318\"\n",
       "[17] \"7316-2176_739936\"              \"7316-2189_740008\"             \n",
       "[19] \"7316-3058_739933\"              \"7316-3058_739934\"             \n",
       "[21] \"7316-2151_740006\"              \"7316-1769_740009\"             "
      ]
     },
     "metadata": {},
     "output_type": "display_data"
    }
   ],
   "source": [
    "cellines"
   ]
  },
  {
   "cell_type": "code",
   "execution_count": 15,
   "metadata": {},
   "outputs": [],
   "source": [
    "CBTN_samples$Cell_lines <- NA\n",
    "CBTN_samples$Cell_lines[ CBTN_samples$CBTN_sample_aliquot %in% cellines] <- \n",
    "paste0(\"Cell lines\\n(n = \", length(cellines), \")\")\n",
    "\n",
    "CBTN_samples$Cell_lines[CBTN_samples$CBTN_sample_aliquot %in% not_celllines] <- \n",
    "paste0(\"Tumours\\n(n = \", length(not_celllines), \")\")"
   ]
  },
  {
   "cell_type": "code",
   "execution_count": 16,
   "metadata": {},
   "outputs": [
    {
     "data": {
      "text/plain": [
       "\n",
       "Cell lines\\n(n = 22)   Tumours\\n(n = 974) \n",
       "                  22                  974 "
      ]
     },
     "metadata": {},
     "output_type": "display_data"
    }
   ],
   "source": [
    "table(CBTN_samples$Cell_lines)"
   ]
  },
  {
   "cell_type": "code",
   "execution_count": 17,
   "metadata": {},
   "outputs": [
    {
     "data": {
      "text/html": [
       "<table class=\"dataframe\">\n",
       "<caption>A data.frame: 6 × 5</caption>\n",
       "<thead>\n",
       "\t<tr><th></th><th scope=col>CBTN_sample_id</th><th scope=col>CBTN_aliquot_id</th><th scope=col>CBTN_sample_aliquot</th><th scope=col>CBTN</th><th scope=col>Cell_lines</th></tr>\n",
       "\t<tr><th></th><th scope=col>&lt;chr&gt;</th><th scope=col>&lt;chr&gt;</th><th scope=col>&lt;chr&gt;</th><th scope=col>&lt;chr&gt;</th><th scope=col>&lt;chr&gt;</th></tr>\n",
       "</thead>\n",
       "<tbody>\n",
       "\t<tr><th scope=row>1</th><td>7316-464 </td><td>746062</td><td>7316-464_746062 </td><td>CBTN\n",
       "samples\n",
       "(n = 996)</td><td>Tumours\n",
       "(n = 974)</td></tr>\n",
       "\t<tr><th scope=row>2</th><td>7316-2724</td><td>717144</td><td>7316-2724_717144</td><td>CBTN\n",
       "samples\n",
       "(n = 996)</td><td>Tumours\n",
       "(n = 974)</td></tr>\n",
       "\t<tr><th scope=row>3</th><td>7316-4028</td><td>724089</td><td>7316-4028_724089</td><td>CBTN\n",
       "samples\n",
       "(n = 996)</td><td>Tumours\n",
       "(n = 974)</td></tr>\n",
       "\t<tr><th scope=row>4</th><td>7316-516 </td><td>571424</td><td>7316-516_571424 </td><td>CBTN\n",
       "samples\n",
       "(n = 996)</td><td>Tumours\n",
       "(n = 974)</td></tr>\n",
       "\t<tr><th scope=row>5</th><td>7316-1766</td><td>717142</td><td>7316-1766_717142</td><td>CBTN\n",
       "samples\n",
       "(n = 996)</td><td>Tumours\n",
       "(n = 974)</td></tr>\n",
       "\t<tr><th scope=row>6</th><td>7316-3336</td><td>739926</td><td>7316-3336_739926</td><td>CBTN\n",
       "samples\n",
       "(n = 996)</td><td>Tumours\n",
       "(n = 974)</td></tr>\n",
       "</tbody>\n",
       "</table>\n"
      ],
      "text/latex": [
       "A data.frame: 6 × 5\n",
       "\\begin{tabular}{r|lllll}\n",
       "  & CBTN\\_sample\\_id & CBTN\\_aliquot\\_id & CBTN\\_sample\\_aliquot & CBTN & Cell\\_lines\\\\\n",
       "  & <chr> & <chr> & <chr> & <chr> & <chr>\\\\\n",
       "\\hline\n",
       "\t1 & 7316-464  & 746062 & 7316-464\\_746062  & CBTN\n",
       "samples\n",
       "(n = 996) & Tumours\n",
       "(n = 974)\\\\\n",
       "\t2 & 7316-2724 & 717144 & 7316-2724\\_717144 & CBTN\n",
       "samples\n",
       "(n = 996) & Tumours\n",
       "(n = 974)\\\\\n",
       "\t3 & 7316-4028 & 724089 & 7316-4028\\_724089 & CBTN\n",
       "samples\n",
       "(n = 996) & Tumours\n",
       "(n = 974)\\\\\n",
       "\t4 & 7316-516  & 571424 & 7316-516\\_571424  & CBTN\n",
       "samples\n",
       "(n = 996) & Tumours\n",
       "(n = 974)\\\\\n",
       "\t5 & 7316-1766 & 717142 & 7316-1766\\_717142 & CBTN\n",
       "samples\n",
       "(n = 996) & Tumours\n",
       "(n = 974)\\\\\n",
       "\t6 & 7316-3336 & 739926 & 7316-3336\\_739926 & CBTN\n",
       "samples\n",
       "(n = 996) & Tumours\n",
       "(n = 974)\\\\\n",
       "\\end{tabular}\n"
      ],
      "text/markdown": [
       "\n",
       "A data.frame: 6 × 5\n",
       "\n",
       "| <!--/--> | CBTN_sample_id &lt;chr&gt; | CBTN_aliquot_id &lt;chr&gt; | CBTN_sample_aliquot &lt;chr&gt; | CBTN &lt;chr&gt; | Cell_lines &lt;chr&gt; |\n",
       "|---|---|---|---|---|---|\n",
       "| 1 | 7316-464  | 746062 | 7316-464_746062  | CBTN\n",
       "samples\n",
       "(n = 996) | Tumours\n",
       "(n = 974) |\n",
       "| 2 | 7316-2724 | 717144 | 7316-2724_717144 | CBTN\n",
       "samples\n",
       "(n = 996) | Tumours\n",
       "(n = 974) |\n",
       "| 3 | 7316-4028 | 724089 | 7316-4028_724089 | CBTN\n",
       "samples\n",
       "(n = 996) | Tumours\n",
       "(n = 974) |\n",
       "| 4 | 7316-516  | 571424 | 7316-516_571424  | CBTN\n",
       "samples\n",
       "(n = 996) | Tumours\n",
       "(n = 974) |\n",
       "| 5 | 7316-1766 | 717142 | 7316-1766_717142 | CBTN\n",
       "samples\n",
       "(n = 996) | Tumours\n",
       "(n = 974) |\n",
       "| 6 | 7316-3336 | 739926 | 7316-3336_739926 | CBTN\n",
       "samples\n",
       "(n = 996) | Tumours\n",
       "(n = 974) |\n",
       "\n"
      ],
      "text/plain": [
       "  CBTN_sample_id CBTN_aliquot_id CBTN_sample_aliquot CBTN                    \n",
       "1 7316-464       746062          7316-464_746062     CBTN\\nsamples\\n(n = 996)\n",
       "2 7316-2724      717144          7316-2724_717144    CBTN\\nsamples\\n(n = 996)\n",
       "3 7316-4028      724089          7316-4028_724089    CBTN\\nsamples\\n(n = 996)\n",
       "4 7316-516       571424          7316-516_571424     CBTN\\nsamples\\n(n = 996)\n",
       "5 7316-1766      717142          7316-1766_717142    CBTN\\nsamples\\n(n = 996)\n",
       "6 7316-3336      739926          7316-3336_739926    CBTN\\nsamples\\n(n = 996)\n",
       "  Cell_lines        \n",
       "1 Tumours\\n(n = 974)\n",
       "2 Tumours\\n(n = 974)\n",
       "3 Tumours\\n(n = 974)\n",
       "4 Tumours\\n(n = 974)\n",
       "5 Tumours\\n(n = 974)\n",
       "6 Tumours\\n(n = 974)"
      ]
     },
     "metadata": {},
     "output_type": "display_data"
    }
   ],
   "source": [
    "head(CBTN_samples)"
   ]
  },
  {
   "cell_type": "markdown",
   "metadata": {},
   "source": [
    "## Duplicated samples"
   ]
  },
  {
   "cell_type": "code",
   "execution_count": 18,
   "metadata": {},
   "outputs": [],
   "source": [
    "CBTN_RNA_manifest_genes$sample_aliquot_id <- paste0(CBTN_RNA_manifest_genes$sample_id, \"_\", CBTN_RNA_manifest_genes$aliquot_id)"
   ]
  },
  {
   "cell_type": "code",
   "execution_count": 19,
   "metadata": {},
   "outputs": [],
   "source": [
    "CBTN_RNA_manifest_genes_linerm <- CBTN_RNA_manifest_genes[! CBTN_RNA_manifest_genes$sample_aliquot_id %in% cellines,]"
   ]
  },
  {
   "cell_type": "code",
   "execution_count": 20,
   "metadata": {},
   "outputs": [
    {
     "data": {
      "text/html": [
       "<style>\n",
       ".list-inline {list-style: none; margin:0; padding: 0}\n",
       ".list-inline>li {display: inline-block}\n",
       ".list-inline>li:not(:last-child)::after {content: \"\\00b7\"; padding: 0 .5ex}\n",
       "</style>\n",
       "<ol class=list-inline><li>974</li><li>21</li></ol>\n"
      ],
      "text/latex": [
       "\\begin{enumerate*}\n",
       "\\item 974\n",
       "\\item 21\n",
       "\\end{enumerate*}\n"
      ],
      "text/markdown": [
       "1. 974\n",
       "2. 21\n",
       "\n",
       "\n"
      ],
      "text/plain": [
       "[1] 974  21"
      ]
     },
     "metadata": {},
     "output_type": "display_data"
    }
   ],
   "source": [
    "dim(CBTN_RNA_manifest_genes_linerm)"
   ]
  },
  {
   "cell_type": "code",
   "execution_count": 21,
   "metadata": {},
   "outputs": [],
   "source": [
    "CBTN_RNA_manifest_genes_linerm_dedup <- CBTN_RNA_manifest_genes_linerm[!duplicated(CBTN_RNA_manifest_genes_linerm$sample_id),]"
   ]
  },
  {
   "cell_type": "code",
   "execution_count": 22,
   "metadata": {},
   "outputs": [],
   "source": [
    "dedup_ids <- CBTN_RNA_manifest_genes_linerm_dedup$sample_aliquot_id"
   ]
  },
  {
   "cell_type": "code",
   "execution_count": 23,
   "metadata": {},
   "outputs": [
    {
     "data": {
      "text/html": [
       "<style>\n",
       ".list-inline {list-style: none; margin:0; padding: 0}\n",
       ".list-inline>li {display: inline-block}\n",
       ".list-inline>li:not(:last-child)::after {content: \"\\00b7\"; padding: 0 .5ex}\n",
       "</style>\n",
       "<ol class=list-inline><li>969</li><li>21</li></ol>\n"
      ],
      "text/latex": [
       "\\begin{enumerate*}\n",
       "\\item 969\n",
       "\\item 21\n",
       "\\end{enumerate*}\n"
      ],
      "text/markdown": [
       "1. 969\n",
       "2. 21\n",
       "\n",
       "\n"
      ],
      "text/plain": [
       "[1] 969  21"
      ]
     },
     "metadata": {},
     "output_type": "display_data"
    }
   ],
   "source": [
    "dim(CBTN_RNA_manifest_genes_linerm_dedup)"
   ]
  },
  {
   "cell_type": "code",
   "execution_count": 24,
   "metadata": {},
   "outputs": [],
   "source": [
    "dup_ids <- CBTN_RNA_manifest_genes_linerm$sample_aliquot_id[duplicated(CBTN_RNA_manifest_genes_linerm$sample_id)]"
   ]
  },
  {
   "cell_type": "code",
   "execution_count": 25,
   "metadata": {},
   "outputs": [
    {
     "data": {
      "text/html": [
       "<style>\n",
       ".list-inline {list-style: none; margin:0; padding: 0}\n",
       ".list-inline>li {display: inline-block}\n",
       ".list-inline>li:not(:last-child)::after {content: \"\\00b7\"; padding: 0 .5ex}\n",
       "</style>\n",
       "<ol class=list-inline><li>'7316-14_8711'</li><li>'7316-87_62332'</li><li>'7316-158_746061'</li><li>'7316-1765_728295'</li><li>'7316-1463_571407'</li></ol>\n"
      ],
      "text/latex": [
       "\\begin{enumerate*}\n",
       "\\item '7316-14\\_8711'\n",
       "\\item '7316-87\\_62332'\n",
       "\\item '7316-158\\_746061'\n",
       "\\item '7316-1765\\_728295'\n",
       "\\item '7316-1463\\_571407'\n",
       "\\end{enumerate*}\n"
      ],
      "text/markdown": [
       "1. '7316-14_8711'\n",
       "2. '7316-87_62332'\n",
       "3. '7316-158_746061'\n",
       "4. '7316-1765_728295'\n",
       "5. '7316-1463_571407'\n",
       "\n",
       "\n"
      ],
      "text/plain": [
       "[1] \"7316-14_8711\"     \"7316-87_62332\"    \"7316-158_746061\"  \"7316-1765_728295\"\n",
       "[5] \"7316-1463_571407\""
      ]
     },
     "metadata": {},
     "output_type": "display_data"
    }
   ],
   "source": [
    "dup_ids"
   ]
  },
  {
   "cell_type": "code",
   "execution_count": 26,
   "metadata": {},
   "outputs": [],
   "source": [
    "CBTN_samples$duplicated_samples <- NA\n",
    "\n",
    "CBTN_samples$duplicated_samples[CBTN_samples$CBTN_sample_aliquot %in% dup_ids] <- \n",
    "paste0(\"Duplicated (n = \",length(dup_ids), \")\") \n",
    "CBTN_samples$duplicated_samples[CBTN_samples$CBTN_sample_aliquot %in% dedup_ids] <-\n",
    "paste0(\"Unique\\n(n = \",length(dedup_ids), \")\") "
   ]
  },
  {
   "cell_type": "code",
   "execution_count": 27,
   "metadata": {},
   "outputs": [
    {
     "data": {
      "text/plain": [
       "\n",
       "Duplicated (n = 5)  Unique\\n(n = 969) \n",
       "                 5                969 "
      ]
     },
     "metadata": {},
     "output_type": "display_data"
    }
   ],
   "source": [
    "table(CBTN_samples$duplicated_samples)"
   ]
  },
  {
   "cell_type": "markdown",
   "metadata": {},
   "source": [
    "## Sample types"
   ]
  },
  {
   "cell_type": "code",
   "execution_count": 28,
   "metadata": {},
   "outputs": [],
   "source": [
    "load(file = paste0(manifestpath,\"Master_manifest.RData\"))"
   ]
  },
  {
   "cell_type": "code",
   "execution_count": 29,
   "metadata": {},
   "outputs": [],
   "source": [
    "cbtn_metadata <- IPD_metadata[ IPD_metadata$group == \"CBTTC\",]"
   ]
  },
  {
   "cell_type": "code",
   "execution_count": 30,
   "metadata": {},
   "outputs": [
    {
     "data": {
      "text/plain": [
       "\n",
       "Initial CNS Tumor       Progressive        Recurrence Second Malignancy \n",
       "              730               153                70                16 \n",
       "             <NA> \n",
       "                0 "
      ]
     },
     "metadata": {},
     "output_type": "display_data"
    }
   ],
   "source": [
    "table(cbtn_metadata$sample_type, useNA = \"always\")"
   ]
  },
  {
   "cell_type": "code",
   "execution_count": 31,
   "metadata": {},
   "outputs": [],
   "source": [
    "cbtn_metadata$sample_aliquot_id <- paste0(cbtn_metadata$sample_id, \"_\", cbtn_metadata$aliquot_id)"
   ]
  },
  {
   "cell_type": "code",
   "execution_count": 32,
   "metadata": {},
   "outputs": [],
   "source": [
    "primaries <- cbtn_metadata$sample_aliquot_id[cbtn_metadata$sample_type == \"Initial CNS Tumor\"]\n",
    "progressives <- cbtn_metadata$sample_aliquot_id[cbtn_metadata$sample_type== \"Progressive\"]\n",
    "recurrences <- cbtn_metadata$sample_aliquot_id[cbtn_metadata$sample_type == \"Recurrence\"]\n",
    "secondmalig <- cbtn_metadata$sample_aliquot_id[cbtn_metadata$sample_type == \"Second Malignancy\"]\n",
    "notavailables <- cbtn_metadata$sample_aliquot_id[cbtn_metadata$sample_type %in% c(\"\",\"Unavailable\")]"
   ]
  },
  {
   "cell_type": "code",
   "execution_count": 33,
   "metadata": {},
   "outputs": [
    {
     "data": {
      "text/html": [
       "730"
      ],
      "text/latex": [
       "730"
      ],
      "text/markdown": [
       "730"
      ],
      "text/plain": [
       "[1] 730"
      ]
     },
     "metadata": {},
     "output_type": "display_data"
    }
   ],
   "source": [
    "length(primaries)"
   ]
  },
  {
   "cell_type": "code",
   "execution_count": 34,
   "metadata": {},
   "outputs": [],
   "source": [
    "CBTN_samples$tumour_type <- NA\n",
    "\n",
    "CBTN_samples$tumour_type[ CBTN_samples$CBTN_sample_aliquot %in% primaries] <- \n",
    "paste0(\"Primary\\n(n = \", \n",
    "       length(primaries), \")\")\n",
    "\n",
    "CBTN_samples$tumour_type[ CBTN_samples$CBTN_sample_aliquot %in% progressives] <- \n",
    "paste0(\"Progressive\\n(n = \", \n",
    "       length(progressives), \")\")\n",
    "\n",
    "CBTN_samples$tumour_type[ CBTN_samples$CBTN_sample_aliquot %in% recurrences ] <- \n",
    "paste0(\"Recurrence (n = \", \n",
    "       length(recurrences), \")\")\n",
    "\n",
    "CBTN_samples$tumour_type[ CBTN_samples$CBTN_sample_aliquot %in% secondmalig ] <- \n",
    "paste0(\"Second malignancy\\n(n = \", \n",
    "       length(secondmalig), \")\")"
   ]
  },
  {
   "cell_type": "code",
   "execution_count": 35,
   "metadata": {},
   "outputs": [
    {
     "data": {
      "text/plain": [
       "\n",
       "         Primary\\n(n = 730)      Progressive\\n(n = 153) \n",
       "                        730                         153 \n",
       "        Recurrence (n = 70) Second malignancy\\n(n = 16) \n",
       "                         70                          16 \n",
       "                       <NA> \n",
       "                         27 "
      ]
     },
     "metadata": {},
     "output_type": "display_data"
    }
   ],
   "source": [
    "table(CBTN_samples$tumour_type, useNA = \"always\")"
   ]
  },
  {
   "cell_type": "markdown",
   "metadata": {},
   "source": [
    "## Sufficient sample size"
   ]
  },
  {
   "cell_type": "code",
   "execution_count": 36,
   "metadata": {},
   "outputs": [],
   "source": [
    "load(file = paste0(datapath,\"ESTIMATE/estimate_manifest_primary.RData\"))"
   ]
  },
  {
   "cell_type": "code",
   "execution_count": 37,
   "metadata": {},
   "outputs": [],
   "source": [
    "load(file = paste0(datapath,\"ESTIMATE/estimate_manifest_primary_clean.RData\"))"
   ]
  },
  {
   "cell_type": "code",
   "execution_count": 38,
   "metadata": {},
   "outputs": [],
   "source": [
    "cbtn_primary <- estimate_manifest_primary[ estimate_manifest_primary$group == \"CBTTC\",]"
   ]
  },
  {
   "cell_type": "code",
   "execution_count": 39,
   "metadata": {},
   "outputs": [],
   "source": [
    "cbtn_primary_clean <- estimate_manifest_primary_clean[ estimate_manifest_primary_clean$group == \"CBTN\",]"
   ]
  },
  {
   "cell_type": "code",
   "execution_count": 40,
   "metadata": {},
   "outputs": [
    {
     "data": {
      "text/html": [
       "<style>\n",
       ".list-inline {list-style: none; margin:0; padding: 0}\n",
       ".list-inline>li {display: inline-block}\n",
       ".list-inline>li:not(:last-child)::after {content: \"\\00b7\"; padding: 0 .5ex}\n",
       "</style>\n",
       "<ol class=list-inline><li>730</li><li>21</li></ol>\n"
      ],
      "text/latex": [
       "\\begin{enumerate*}\n",
       "\\item 730\n",
       "\\item 21\n",
       "\\end{enumerate*}\n"
      ],
      "text/markdown": [
       "1. 730\n",
       "2. 21\n",
       "\n",
       "\n"
      ],
      "text/plain": [
       "[1] 730  21"
      ]
     },
     "metadata": {},
     "output_type": "display_data"
    },
    {
     "data": {
      "text/html": [
       "<style>\n",
       ".list-inline {list-style: none; margin:0; padding: 0}\n",
       ".list-inline>li {display: inline-block}\n",
       ".list-inline>li:not(:last-child)::after {content: \"\\00b7\"; padding: 0 .5ex}\n",
       "</style>\n",
       "<ol class=list-inline><li>632</li><li>21</li></ol>\n"
      ],
      "text/latex": [
       "\\begin{enumerate*}\n",
       "\\item 632\n",
       "\\item 21\n",
       "\\end{enumerate*}\n"
      ],
      "text/markdown": [
       "1. 632\n",
       "2. 21\n",
       "\n",
       "\n"
      ],
      "text/plain": [
       "[1] 632  21"
      ]
     },
     "metadata": {},
     "output_type": "display_data"
    }
   ],
   "source": [
    "dim(cbtn_primary)\n",
    "dim(cbtn_primary_clean)"
   ]
  },
  {
   "cell_type": "code",
   "execution_count": 41,
   "metadata": {},
   "outputs": [],
   "source": [
    "cbtn_primary$sample_aliquot_id <- paste0(cbtn_primary$sample_id, \"_\", cbtn_primary$aliquot_id)\n",
    "cbtn_primary_clean$sample_aliquot_id <- paste0(cbtn_primary_clean$sample_id, \"_\", cbtn_primary_clean$aliquot_id)"
   ]
  },
  {
   "cell_type": "code",
   "execution_count": 42,
   "metadata": {},
   "outputs": [],
   "source": [
    "goodsamplesize <- cbtn_primary_clean$sample_aliquot_id\n",
    "badsamplesize <- cbtn_primary$sample_aliquot_id[ ! cbtn_primary$sample_aliquot_id %in% cbtn_primary_clean$sample_aliquot_id]"
   ]
  },
  {
   "cell_type": "code",
   "execution_count": 43,
   "metadata": {},
   "outputs": [],
   "source": [
    "CBTN_samples$sufficient_samplesize <- NA\n",
    "\n",
    "CBTN_samples$sufficient_samplesize[ CBTN_samples$CBTN_sample_aliquot %in% goodsamplesize ] <- \n",
    "paste0(\"Sufficient\\nsample size\\n(n = \", length(goodsamplesize), \")\")\n",
    "CBTN_samples$sufficient_samplesize[ CBTN_samples$CBTN_sample_aliquot %in% badsamplesize ] <- \n",
    "paste0(\"Rare/unannotated\\n(n = \", length(badsamplesize), \")\")"
   ]
  },
  {
   "cell_type": "code",
   "execution_count": 44,
   "metadata": {
    "scrolled": true
   },
   "outputs": [
    {
     "data": {
      "text/plain": [
       "\n",
       "        Rare/unannotated\\n(n = 98) Sufficient\\nsample size\\n(n = 632) \n",
       "                                98                                632 \n",
       "                              <NA> \n",
       "                               266 "
      ]
     },
     "metadata": {},
     "output_type": "display_data"
    }
   ],
   "source": [
    "table(CBTN_samples$sufficient_samplesize, useNA = \"always\")"
   ]
  },
  {
   "cell_type": "markdown",
   "metadata": {},
   "source": [
    "## Clustering"
   ]
  },
  {
   "cell_type": "code",
   "execution_count": 45,
   "metadata": {},
   "outputs": [],
   "source": [
    "load(file = paste0(datapath, \"/ESTIMATE/estimate_manifest_primary_clean.RData\"))"
   ]
  },
  {
   "cell_type": "code",
   "execution_count": 46,
   "metadata": {},
   "outputs": [],
   "source": [
    "cbtn_preclustering <- estimate_manifest_primary_clean[ estimate_manifest_primary_clean$group == \"CBTN\",]"
   ]
  },
  {
   "cell_type": "code",
   "execution_count": 47,
   "metadata": {},
   "outputs": [],
   "source": [
    "load(file = paste0(datapath, \"ESTIMATE/estimate_manifest_primary_clean_postclustering.RData\"))  "
   ]
  },
  {
   "cell_type": "code",
   "execution_count": 48,
   "metadata": {},
   "outputs": [],
   "source": [
    "cbtn_postclustering <- estimate_manifest_primary_clean[ estimate_manifest_primary_clean$group == \"CBTN\",]"
   ]
  },
  {
   "cell_type": "code",
   "execution_count": 49,
   "metadata": {},
   "outputs": [],
   "source": [
    "cbtn_preclustering$sample_aliquot_id <- paste0(cbtn_preclustering$sample_id, \"_\",cbtn_preclustering$aliquot_id)\n",
    "\n",
    "cbtn_postclustering$sample_aliquot_id <- paste0(cbtn_postclustering$sample_id, \"_\",cbtn_postclustering$aliquot_id)"
   ]
  },
  {
   "cell_type": "code",
   "execution_count": 50,
   "metadata": {},
   "outputs": [
    {
     "data": {
      "text/html": [
       "<style>\n",
       ".list-inline {list-style: none; margin:0; padding: 0}\n",
       ".list-inline>li {display: inline-block}\n",
       ".list-inline>li:not(:last-child)::after {content: \"\\00b7\"; padding: 0 .5ex}\n",
       "</style>\n",
       "<ol class=list-inline><li>632</li><li>22</li></ol>\n"
      ],
      "text/latex": [
       "\\begin{enumerate*}\n",
       "\\item 632\n",
       "\\item 22\n",
       "\\end{enumerate*}\n"
      ],
      "text/markdown": [
       "1. 632\n",
       "2. 22\n",
       "\n",
       "\n"
      ],
      "text/plain": [
       "[1] 632  22"
      ]
     },
     "metadata": {},
     "output_type": "display_data"
    }
   ],
   "source": [
    "dim(cbtn_preclustering)"
   ]
  },
  {
   "cell_type": "code",
   "execution_count": 51,
   "metadata": {},
   "outputs": [],
   "source": [
    "goodexpression <- cbtn_postclustering$sample_aliquot_id\n",
    "badexpression <- cbtn_preclustering$sample_aliquot_id[!cbtn_preclustering$sample_aliquot_id %in% cbtn_postclustering$sample_aliquot_id]"
   ]
  },
  {
   "cell_type": "code",
   "execution_count": 52,
   "metadata": {},
   "outputs": [
    {
     "data": {
      "text/html": [
       "581"
      ],
      "text/latex": [
       "581"
      ],
      "text/markdown": [
       "581"
      ],
      "text/plain": [
       "[1] 581"
      ]
     },
     "metadata": {},
     "output_type": "display_data"
    },
    {
     "data": {
      "text/html": [
       "51"
      ],
      "text/latex": [
       "51"
      ],
      "text/markdown": [
       "51"
      ],
      "text/plain": [
       "[1] 51"
      ]
     },
     "metadata": {},
     "output_type": "display_data"
    }
   ],
   "source": [
    "length(goodexpression)\n",
    "length(badexpression)"
   ]
  },
  {
   "cell_type": "code",
   "execution_count": 53,
   "metadata": {},
   "outputs": [],
   "source": [
    "CBTN_samples$tumorexpression <- NA\n",
    "\n",
    "CBTN_samples$tumorexpression[ CBTN_samples$CBTN_sample_aliquot %in% goodexpression ] <- paste0(\"Matched with\\npathology\\n(n = \",length(goodexpression), \")\")\n",
    "\n",
    "CBTN_samples$tumorexpression[ CBTN_samples$CBTN_sample_aliquot %in% badexpression ] <- \n",
    "paste0(\"Not matched with\\npathology\\n(n = \",length(badexpression), \")\")"
   ]
  },
  {
   "cell_type": "code",
   "execution_count": 54,
   "metadata": {},
   "outputs": [
    {
     "data": {
      "text/plain": [
       "\n",
       "   Matched with\\npathology\\n(n = 581) Not matched with\\npathology\\n(n = 51) \n",
       "                                  581                                    51 \n",
       "                                 <NA> \n",
       "                                  364 "
      ]
     },
     "metadata": {},
     "output_type": "display_data"
    }
   ],
   "source": [
    "table(CBTN_samples$tumorexpression, useNA = \"always\")"
   ]
  },
  {
   "cell_type": "markdown",
   "metadata": {},
   "source": [
    "# Sankey plot"
   ]
  },
  {
   "cell_type": "code",
   "execution_count": 55,
   "metadata": {},
   "outputs": [],
   "source": [
    "CBTN_samples$duplicated_samples[is.na(CBTN_samples$duplicated_samples)] <- \"Excluded (n = 22)\"\n",
    "CBTN_samples$tumour_type[is.na(CBTN_samples$tumour_type)] <- \"Excluded (n = 27)\"\n",
    "CBTN_samples$sufficient_samplesize[is.na(CBTN_samples$sufficient_samplesize)] <- \"Excluded\\n(n = 266)\"\n",
    "CBTN_samples$tumorexpression[is.na(CBTN_samples$tumorexpression)] <- \"Excluded\\n(n = 364)\""
   ]
  },
  {
   "cell_type": "code",
   "execution_count": 56,
   "metadata": {},
   "outputs": [],
   "source": [
    "freqtab <- as.data.frame(table(CBTN_samples$CBTN, CBTN_samples$Cell_lines, CBTN_samples$duplicated_samples,\n",
    "                              CBTN_samples$tumour_type, CBTN_samples$sufficient_samplesize,\n",
    "                              CBTN_samples$tumorexpression), stringsAsFactors = F)"
   ]
  },
  {
   "cell_type": "code",
   "execution_count": 57,
   "metadata": {},
   "outputs": [
    {
     "data": {
      "text/html": [
       "<table class=\"dataframe\">\n",
       "<caption>A data.frame: 6 × 7</caption>\n",
       "<thead>\n",
       "\t<tr><th></th><th scope=col>Var1</th><th scope=col>Var2</th><th scope=col>Var3</th><th scope=col>Var4</th><th scope=col>Var5</th><th scope=col>Var6</th><th scope=col>Freq</th></tr>\n",
       "\t<tr><th></th><th scope=col>&lt;chr&gt;</th><th scope=col>&lt;chr&gt;</th><th scope=col>&lt;chr&gt;</th><th scope=col>&lt;chr&gt;</th><th scope=col>&lt;chr&gt;</th><th scope=col>&lt;chr&gt;</th><th scope=col>&lt;int&gt;</th></tr>\n",
       "</thead>\n",
       "<tbody>\n",
       "\t<tr><th scope=row>1</th><td>CBTN\n",
       "samples\n",
       "(n = 996)</td><td>Cell lines\n",
       "(n = 22)</td><td>Duplicated (n = 5)</td><td>Excluded (n = 27)</td><td>Excluded\n",
       "(n = 266)</td><td>Excluded\n",
       "(n = 364)</td><td> 0</td></tr>\n",
       "\t<tr><th scope=row>2</th><td>CBTN\n",
       "samples\n",
       "(n = 996)</td><td>Tumours\n",
       "(n = 974)  </td><td>Duplicated (n = 5)</td><td>Excluded (n = 27)</td><td>Excluded\n",
       "(n = 266)</td><td>Excluded\n",
       "(n = 364)</td><td> 5</td></tr>\n",
       "\t<tr><th scope=row>3</th><td>CBTN\n",
       "samples\n",
       "(n = 996)</td><td>Cell lines\n",
       "(n = 22)</td><td>Excluded (n = 22) </td><td>Excluded (n = 27)</td><td>Excluded\n",
       "(n = 266)</td><td>Excluded\n",
       "(n = 364)</td><td>22</td></tr>\n",
       "\t<tr><th scope=row>4</th><td>CBTN\n",
       "samples\n",
       "(n = 996)</td><td>Tumours\n",
       "(n = 974)  </td><td>Excluded (n = 22) </td><td>Excluded (n = 27)</td><td>Excluded\n",
       "(n = 266)</td><td>Excluded\n",
       "(n = 364)</td><td> 0</td></tr>\n",
       "\t<tr><th scope=row>5</th><td>CBTN\n",
       "samples\n",
       "(n = 996)</td><td>Cell lines\n",
       "(n = 22)</td><td>Unique\n",
       "(n = 969) </td><td>Excluded (n = 27)</td><td>Excluded\n",
       "(n = 266)</td><td>Excluded\n",
       "(n = 364)</td><td> 0</td></tr>\n",
       "\t<tr><th scope=row>6</th><td>CBTN\n",
       "samples\n",
       "(n = 996)</td><td>Tumours\n",
       "(n = 974)  </td><td>Unique\n",
       "(n = 969) </td><td>Excluded (n = 27)</td><td>Excluded\n",
       "(n = 266)</td><td>Excluded\n",
       "(n = 364)</td><td> 0</td></tr>\n",
       "</tbody>\n",
       "</table>\n"
      ],
      "text/latex": [
       "A data.frame: 6 × 7\n",
       "\\begin{tabular}{r|lllllll}\n",
       "  & Var1 & Var2 & Var3 & Var4 & Var5 & Var6 & Freq\\\\\n",
       "  & <chr> & <chr> & <chr> & <chr> & <chr> & <chr> & <int>\\\\\n",
       "\\hline\n",
       "\t1 & CBTN\n",
       "samples\n",
       "(n = 996) & Cell lines\n",
       "(n = 22) & Duplicated (n = 5) & Excluded (n = 27) & Excluded\n",
       "(n = 266) & Excluded\n",
       "(n = 364) &  0\\\\\n",
       "\t2 & CBTN\n",
       "samples\n",
       "(n = 996) & Tumours\n",
       "(n = 974)   & Duplicated (n = 5) & Excluded (n = 27) & Excluded\n",
       "(n = 266) & Excluded\n",
       "(n = 364) &  5\\\\\n",
       "\t3 & CBTN\n",
       "samples\n",
       "(n = 996) & Cell lines\n",
       "(n = 22) & Excluded (n = 22)  & Excluded (n = 27) & Excluded\n",
       "(n = 266) & Excluded\n",
       "(n = 364) & 22\\\\\n",
       "\t4 & CBTN\n",
       "samples\n",
       "(n = 996) & Tumours\n",
       "(n = 974)   & Excluded (n = 22)  & Excluded (n = 27) & Excluded\n",
       "(n = 266) & Excluded\n",
       "(n = 364) &  0\\\\\n",
       "\t5 & CBTN\n",
       "samples\n",
       "(n = 996) & Cell lines\n",
       "(n = 22) & Unique\n",
       "(n = 969)  & Excluded (n = 27) & Excluded\n",
       "(n = 266) & Excluded\n",
       "(n = 364) &  0\\\\\n",
       "\t6 & CBTN\n",
       "samples\n",
       "(n = 996) & Tumours\n",
       "(n = 974)   & Unique\n",
       "(n = 969)  & Excluded (n = 27) & Excluded\n",
       "(n = 266) & Excluded\n",
       "(n = 364) &  0\\\\\n",
       "\\end{tabular}\n"
      ],
      "text/markdown": [
       "\n",
       "A data.frame: 6 × 7\n",
       "\n",
       "| <!--/--> | Var1 &lt;chr&gt; | Var2 &lt;chr&gt; | Var3 &lt;chr&gt; | Var4 &lt;chr&gt; | Var5 &lt;chr&gt; | Var6 &lt;chr&gt; | Freq &lt;int&gt; |\n",
       "|---|---|---|---|---|---|---|---|\n",
       "| 1 | CBTN\n",
       "samples\n",
       "(n = 996) | Cell lines\n",
       "(n = 22) | Duplicated (n = 5) | Excluded (n = 27) | Excluded\n",
       "(n = 266) | Excluded\n",
       "(n = 364) |  0 |\n",
       "| 2 | CBTN\n",
       "samples\n",
       "(n = 996) | Tumours\n",
       "(n = 974)   | Duplicated (n = 5) | Excluded (n = 27) | Excluded\n",
       "(n = 266) | Excluded\n",
       "(n = 364) |  5 |\n",
       "| 3 | CBTN\n",
       "samples\n",
       "(n = 996) | Cell lines\n",
       "(n = 22) | Excluded (n = 22)  | Excluded (n = 27) | Excluded\n",
       "(n = 266) | Excluded\n",
       "(n = 364) | 22 |\n",
       "| 4 | CBTN\n",
       "samples\n",
       "(n = 996) | Tumours\n",
       "(n = 974)   | Excluded (n = 22)  | Excluded (n = 27) | Excluded\n",
       "(n = 266) | Excluded\n",
       "(n = 364) |  0 |\n",
       "| 5 | CBTN\n",
       "samples\n",
       "(n = 996) | Cell lines\n",
       "(n = 22) | Unique\n",
       "(n = 969)  | Excluded (n = 27) | Excluded\n",
       "(n = 266) | Excluded\n",
       "(n = 364) |  0 |\n",
       "| 6 | CBTN\n",
       "samples\n",
       "(n = 996) | Tumours\n",
       "(n = 974)   | Unique\n",
       "(n = 969)  | Excluded (n = 27) | Excluded\n",
       "(n = 266) | Excluded\n",
       "(n = 364) |  0 |\n",
       "\n"
      ],
      "text/plain": [
       "  Var1                     Var2                 Var3              \n",
       "1 CBTN\\nsamples\\n(n = 996) Cell lines\\n(n = 22) Duplicated (n = 5)\n",
       "2 CBTN\\nsamples\\n(n = 996) Tumours\\n(n = 974)   Duplicated (n = 5)\n",
       "3 CBTN\\nsamples\\n(n = 996) Cell lines\\n(n = 22) Excluded (n = 22) \n",
       "4 CBTN\\nsamples\\n(n = 996) Tumours\\n(n = 974)   Excluded (n = 22) \n",
       "5 CBTN\\nsamples\\n(n = 996) Cell lines\\n(n = 22) Unique\\n(n = 969) \n",
       "6 CBTN\\nsamples\\n(n = 996) Tumours\\n(n = 974)   Unique\\n(n = 969) \n",
       "  Var4              Var5                Var6                Freq\n",
       "1 Excluded (n = 27) Excluded\\n(n = 266) Excluded\\n(n = 364)  0  \n",
       "2 Excluded (n = 27) Excluded\\n(n = 266) Excluded\\n(n = 364)  5  \n",
       "3 Excluded (n = 27) Excluded\\n(n = 266) Excluded\\n(n = 364) 22  \n",
       "4 Excluded (n = 27) Excluded\\n(n = 266) Excluded\\n(n = 364)  0  \n",
       "5 Excluded (n = 27) Excluded\\n(n = 266) Excluded\\n(n = 364)  0  \n",
       "6 Excluded (n = 27) Excluded\\n(n = 266) Excluded\\n(n = 364)  0  "
      ]
     },
     "metadata": {},
     "output_type": "display_data"
    }
   ],
   "source": [
    "head(freqtab)"
   ]
  },
  {
   "cell_type": "code",
   "execution_count": 58,
   "metadata": {},
   "outputs": [],
   "source": [
    "freqtab <- freqtab[ order(freqtab$Var2, freqtab$Var3, freqtab$Var4, freqtab$Var5, freqtab$Var6),]"
   ]
  },
  {
   "cell_type": "code",
   "execution_count": 59,
   "metadata": {},
   "outputs": [],
   "source": [
    "freqtab$Var7 <- NA\n",
    "\n",
    "freqtab$Var7[ freqtab$Freq == 581] <- \"Included\\nin the study\\n(n = 581)\"\n",
    "freqtab$Var7[ freqtab$Freq != 581] <- \"Not included\\nin the study\\n(n = 415)\""
   ]
  },
  {
   "cell_type": "code",
   "execution_count": 60,
   "metadata": {},
   "outputs": [],
   "source": [
    "freqtab_ggforce <- gather_set_data(freqtab[freqtab$Freq > 0,], c(1:6,8))"
   ]
  },
  {
   "cell_type": "code",
   "execution_count": 61,
   "metadata": {},
   "outputs": [
    {
     "data": {
      "text/plain": [
       "\n",
       "             CBTN\\nsamples\\n(n = 996)                  Cell lines\\n(n = 22) \n",
       "                                    8                                     1 \n",
       "                   Duplicated (n = 5)                   Excluded\\n(n = 266) \n",
       "                                    1                                     5 \n",
       "                  Excluded\\n(n = 364)                     Excluded (n = 22) \n",
       "                                    6                                     1 \n",
       "                    Excluded (n = 27)     Included\\nin the study\\n(n = 581) \n",
       "                                    2                                     1 \n",
       "   Matched with\\npathology\\n(n = 581) Not included\\nin the study\\n(n = 415) \n",
       "                                    1                                     7 \n",
       "Not matched with\\npathology\\n(n = 51)                    Primary\\n(n = 730) \n",
       "                                    1                                     3 \n",
       "               Progressive\\n(n = 153)            Rare/unannotated\\n(n = 98) \n",
       "                                    1                                     1 \n",
       "                  Recurrence (n = 70)           Second malignancy\\n(n = 16) \n",
       "                                    1                                     1 \n",
       "   Sufficient\\nsample size\\n(n = 632)                    Tumours\\n(n = 974) \n",
       "                                    2                                     7 \n",
       "                    Unique\\n(n = 969) \n",
       "                                    6 "
      ]
     },
     "metadata": {},
     "output_type": "display_data"
    }
   ],
   "source": [
    "table(freqtab_ggforce$y)"
   ]
  },
  {
   "cell_type": "code",
   "execution_count": 62,
   "metadata": {},
   "outputs": [],
   "source": [
    "freqtab_ggforce$y <- factor(freqtab_ggforce$y,\n",
    "levels = c('CBTN\\nsamples\\n(n = 996)',\n",
    "           'Tumours\\n(n = 974)','Cell lines\\n(n = 22)',\n",
    "           'Unique\\n(n = 969)',\n",
    "           'Duplicated (n = 5)',\n",
    "           'Excluded (n = 22)',\n",
    "           'Primary\\n(n = 730)',\n",
    "           'Progressive\\n(n = 153)','Recurrence (n = 70)',\n",
    "           'Second malignancy\\n(n = 16)', 'Excluded (n = 27)',\n",
    "           'Sufficient\\nsample size\\n(n = 632)', 'Rare/unannotated\\n(n = 98)',\n",
    "           'Excluded\\n(n = 266)',\n",
    "           'Matched with\\npathology\\n(n = 581)',\n",
    "           'Not matched with\\npathology\\n(n = 51)',\n",
    "           'Excluded\\n(n = 364)',\n",
    "           'Included\\nin the study\\n(n = 581)',\n",
    "           'Not included\\nin the study\\n(n = 415)'\n",
    "           ))"
   ]
  },
  {
   "cell_type": "code",
   "execution_count": 63,
   "metadata": {},
   "outputs": [],
   "source": [
    "freqtab_ggforce$includedsamples[ freqtab_ggforce$Freq == 581] <- \"Yes\"\n",
    "freqtab_ggforce$includedsamples[ freqtab_ggforce$Freq != 581] <- \"No\""
   ]
  },
  {
   "cell_type": "code",
   "execution_count": 64,
   "metadata": {},
   "outputs": [],
   "source": [
    "p_plot <- ggplot(freqtab_ggforce, aes(x, id = id, split = y, value = Freq)) +\n",
    "geom_parallel_sets(aes(fill = includedsamples), alpha = 0.5) +\n",
    "geom_parallel_sets_axes(axis.width = 0.3, fill = \"dark gray\") +\n",
    "geom_parallel_sets_labels(colour = 'black', size = 8, angle = 0) + \n",
    "myaxis + myplot + \n",
    "theme(plot.margin = unit(c(1,10,1,1),\"cm\"),\n",
    "      legend.position = \"none\", \n",
    "      axis.title.x = element_blank(), \n",
    "      axis.text.x = element_blank(),\n",
    "      axis.line.x = element_blank(),\n",
    "      axis.ticks.x = element_blank()) +\n",
    "scale_y_continuous(expand = c(0.05, 0.5)) + \n",
    "scale_x_discrete(expand = c(0.1, 0.1)) +\n",
    "scale_fill_manual(values = c(\"Yes\" = \"#d7191c\", \"No\" = \"#2c7bb6\"))"
   ]
  },
  {
   "cell_type": "code",
   "execution_count": 65,
   "metadata": {},
   "outputs": [
    {
     "data": {
      "text/html": [
       "<strong>pdf:</strong> 2"
      ],
      "text/latex": [
       "\\textbf{pdf:} 2"
      ],
      "text/markdown": [
       "**pdf:** 2"
      ],
      "text/plain": [
       "pdf \n",
       "  2 "
      ]
     },
     "metadata": {},
     "output_type": "display_data"
    }
   ],
   "source": [
    "pdf(paste0(plotpath, \"CBTN_alluvial.pdf\"),\n",
    "   width = 30, height = 10)\n",
    "p_plot\n",
    "   \n",
    "dev.off()"
   ]
  },
  {
   "cell_type": "code",
   "execution_count": null,
   "metadata": {},
   "outputs": [],
   "source": []
  }
 ],
 "metadata": {
  "kernelspec": {
   "display_name": "R 4.0",
   "language": "R",
   "name": "ir40"
  },
  "language_info": {
   "codemirror_mode": "r",
   "file_extension": ".r",
   "mimetype": "text/x-r-source",
   "name": "R",
   "pygments_lexer": "r",
   "version": "4.0.3"
  },
  "toc": {
   "base_numbering": 1,
   "nav_menu": {},
   "number_sections": false,
   "sideBar": true,
   "skip_h1_title": false,
   "title_cell": "Table of Contents",
   "title_sidebar": "Contents",
   "toc_cell": true,
   "toc_position": {
    "height": "calc(100% - 180px)",
    "left": "10px",
    "top": "150px",
    "width": "273.575px"
   },
   "toc_section_display": true,
   "toc_window_display": true
  }
 },
 "nbformat": 4,
 "nbformat_minor": 2
}
