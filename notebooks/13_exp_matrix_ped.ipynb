{
 "cells": [
  {
   "cell_type": "markdown",
   "metadata": {
    "toc": true
   },
   "source": [
    "<h1>Table of Contents<span class=\"tocSkip\"></span></h1>\n",
    "<div class=\"toc\"><ul class=\"toc-item\"><li><span><a href=\"#Dependencies\" data-toc-modified-id=\"Dependencies-1\">Dependencies</a></span></li><li><span><a href=\"#Functions\" data-toc-modified-id=\"Functions-2\">Functions</a></span></li><li><span><a href=\"#Paths\" data-toc-modified-id=\"Paths-3\">Paths</a></span></li><li><span><a href=\"#Main\" data-toc-modified-id=\"Main-4\">Main</a></span></li><li><span><a href=\"#Counts-matrices\" data-toc-modified-id=\"Counts-matrices-5\">Counts matrices</a></span><ul class=\"toc-item\"><li><span><a href=\"#KF_CBTN\" data-toc-modified-id=\"KF_CBTN-5.1\">KF_CBTN</a></span></li><li><span><a href=\"#TARGET\" data-toc-modified-id=\"TARGET-5.2\">TARGET</a></span></li><li><span><a href=\"#ICGC\" data-toc-modified-id=\"ICGC-5.3\">ICGC</a></span></li></ul></li><li><span><a href=\"#Bind-all-with-ensembl-ids\" data-toc-modified-id=\"Bind-all-with-ensembl-ids-6\">Bind all with ensembl ids</a></span></li></ul></div>"
   ]
  },
  {
   "cell_type": "markdown",
   "metadata": {},
   "source": [
    "# Dependencies"
   ]
  },
  {
   "cell_type": "code",
   "execution_count": 1,
   "metadata": {
    "scrolled": true
   },
   "outputs": [],
   "source": [
    "library(tidyr)\n",
    "library(biomaRt)"
   ]
  },
  {
   "cell_type": "markdown",
   "metadata": {},
   "source": [
    "# Functions"
   ]
  },
  {
   "cell_type": "code",
   "execution_count": 2,
   "metadata": {},
   "outputs": [],
   "source": [
    "matchexp_matrixfx <- function(exp_matrix, estimate_manifest, group, sample_type, matchingcol){\n",
    "    \n",
    "    message(\"dimensions of exp_matrix: \", deparse(substitute(exp_matrix)))\n",
    "    print(dim(exp_matrix))\n",
    "    \n",
    "    subset_estimate_manifest <- estimate_manifest[estimate_manifest$group == group,]\n",
    "    subset_estimate_manifest_sampletype <- subset_estimate_manifest[grepl(sample_type,\n",
    "                                                                    subset_estimate_manifest$sample_type),]\n",
    "    \n",
    "    message(\"dimensions of estimate_manifest_df for: \", group, \" sample_type:\", sample_type)\n",
    "    print(dim(subset_estimate_manifest_sampletype))\n",
    "    \n",
    "    exp_matrix_matchingset <- exp_matrix[,colnames(exp_matrix) %in% \n",
    "                                         subset_estimate_manifest_sampletype[[matchingcol]]]\n",
    "    \n",
    "    message(\"dimensions of exp_matrix_matchingset for: \", deparse(substitute(exp_matrix)), \n",
    "            \" with matching column: \", matchingcol)\n",
    "    print(dim(exp_matrix_matchingset))\n",
    "# biind the first two columns ensembl and hugo back    \n",
    "    exp_matrix_matchingset <- cbind(exp_matrix[,1:2], exp_matrix_matchingset)\n",
    "    #print(head(exp_matrix_matchingset,5))\n",
    "    return(exp_matrix_matchingset)\n",
    "}"
   ]
  },
  {
   "cell_type": "markdown",
   "metadata": {},
   "source": [
    "# Paths"
   ]
  },
  {
   "cell_type": "code",
   "execution_count": 3,
   "metadata": {},
   "outputs": [],
   "source": [
    "manifestpath <- \"/Users/anabbi/OneDrive - UHN/Documents/IPD2/Manifests/\"\n",
    "datapath <- \"/Users/anabbi/OneDrive - UHN/Documents/IPD2/Data/\"\n",
    "plotpath <- \"/Users/anabbi/OneDrive - UHN/Documents/IPD2/Plots/\""
   ]
  },
  {
   "cell_type": "markdown",
   "metadata": {},
   "source": [
    "# Main"
   ]
  },
  {
   "cell_type": "code",
   "execution_count": 4,
   "metadata": {},
   "outputs": [],
   "source": [
    "load(file = paste0(datapath, \"/ESTIMATE/estimate_manifest_primary_clean_final.RData\"))"
   ]
  },
  {
   "cell_type": "code",
   "execution_count": 5,
   "metadata": {},
   "outputs": [],
   "source": [
    "load(paste0(datapath, \"exp_mat/tpm_matrix_ped_primary_dedup.RData\"))   "
   ]
  },
  {
   "cell_type": "code",
   "execution_count": 6,
   "metadata": {},
   "outputs": [],
   "source": [
    "ped <- estimate_manifest_primary_clean[estimate_manifest_primary_clean$group != \"TCGA\",]"
   ]
  },
  {
   "cell_type": "code",
   "execution_count": 7,
   "metadata": {},
   "outputs": [
    {
     "data": {
      "text/html": [
       "<style>\n",
       ".list-inline {list-style: none; margin:0; padding: 0}\n",
       ".list-inline>li {display: inline-block}\n",
       ".list-inline>li:not(:last-child)::after {content: \"\\00b7\"; padding: 0 .5ex}\n",
       "</style>\n",
       "<ol class=list-inline><li>926</li><li>23</li></ol>\n"
      ],
      "text/latex": [
       "\\begin{enumerate*}\n",
       "\\item 926\n",
       "\\item 23\n",
       "\\end{enumerate*}\n"
      ],
      "text/markdown": [
       "1. 926\n",
       "2. 23\n",
       "\n",
       "\n"
      ],
      "text/plain": [
       "[1] 926  23"
      ]
     },
     "metadata": {},
     "output_type": "display_data"
    }
   ],
   "source": [
    "dim(ped)"
   ]
  },
  {
   "cell_type": "code",
   "execution_count": 8,
   "metadata": {},
   "outputs": [
    {
     "data": {
      "text/plain": [
       "\n",
       "  CBTN   ICGC TARGET \n",
       "   581    196    149 "
      ]
     },
     "metadata": {},
     "output_type": "display_data"
    }
   ],
   "source": [
    "table(ped$group)"
   ]
  },
  {
   "cell_type": "code",
   "execution_count": 9,
   "metadata": {},
   "outputs": [],
   "source": [
    "tpm_matrix_ped_final <- tpm_matrix_ped[, colnames(tpm_matrix_ped) %in% ped$sample_id]"
   ]
  },
  {
   "cell_type": "code",
   "execution_count": 10,
   "metadata": {},
   "outputs": [
    {
     "data": {
      "text/html": [
       "<style>\n",
       ".list-inline {list-style: none; margin:0; padding: 0}\n",
       ".list-inline>li {display: inline-block}\n",
       ".list-inline>li:not(:last-child)::after {content: \"\\00b7\"; padding: 0 .5ex}\n",
       "</style>\n",
       "<ol class=list-inline><li>20105</li><li>925</li></ol>\n"
      ],
      "text/latex": [
       "\\begin{enumerate*}\n",
       "\\item 20105\n",
       "\\item 925\n",
       "\\end{enumerate*}\n"
      ],
      "text/markdown": [
       "1. 20105\n",
       "2. 925\n",
       "\n",
       "\n"
      ],
      "text/plain": [
       "[1] 20105   925"
      ]
     },
     "metadata": {},
     "output_type": "display_data"
    }
   ],
   "source": [
    "dim(tpm_matrix_ped_final)"
   ]
  },
  {
   "cell_type": "code",
   "execution_count": 11,
   "metadata": {},
   "outputs": [
    {
     "data": {
      "text/html": [
       "<table class=\"dataframe\">\n",
       "<caption>A data.frame: 6 × 925</caption>\n",
       "<thead>\n",
       "\t<tr><th></th><th scope=col>7316-1926</th><th scope=col>7316-489</th><th scope=col>7316-13</th><th scope=col>7316-3936</th><th scope=col>7316-873</th><th scope=col>7316-2669</th><th scope=col>7316-1928</th><th scope=col>7316-1655</th><th scope=col>7316-2622</th><th scope=col>7316-2893</th><th scope=col>⋯</th><th scope=col>ICGC_PA89</th><th scope=col>ICGC_PA9</th><th scope=col>ICGC_PA91</th><th scope=col>ICGC_PA92</th><th scope=col>ICGC_PA93</th><th scope=col>ICGC_PA94</th><th scope=col>ICGC_PA95</th><th scope=col>ICGC_PA96</th><th scope=col>ICGC_PA97</th><th scope=col>ICGC_PA99</th></tr>\n",
       "\t<tr><th></th><th scope=col>&lt;dbl&gt;</th><th scope=col>&lt;dbl&gt;</th><th scope=col>&lt;dbl&gt;</th><th scope=col>&lt;dbl&gt;</th><th scope=col>&lt;dbl&gt;</th><th scope=col>&lt;dbl&gt;</th><th scope=col>&lt;dbl&gt;</th><th scope=col>&lt;dbl&gt;</th><th scope=col>&lt;dbl&gt;</th><th scope=col>&lt;dbl&gt;</th><th scope=col>⋯</th><th scope=col>&lt;dbl&gt;</th><th scope=col>&lt;dbl&gt;</th><th scope=col>&lt;dbl&gt;</th><th scope=col>&lt;dbl&gt;</th><th scope=col>&lt;dbl&gt;</th><th scope=col>&lt;dbl&gt;</th><th scope=col>&lt;dbl&gt;</th><th scope=col>&lt;dbl&gt;</th><th scope=col>&lt;dbl&gt;</th><th scope=col>&lt;dbl&gt;</th></tr>\n",
       "</thead>\n",
       "<tbody>\n",
       "\t<tr><th scope=row>TSPAN6</th><td>8.66</td><td>6.15</td><td>0.73</td><td>1.50</td><td>29.41</td><td>4.62</td><td>6.65</td><td>1.78</td><td>0.82</td><td>2.87</td><td>⋯</td><td>10.59</td><td>13.17</td><td>5.95</td><td>7.56</td><td>12.42</td><td>11.44</td><td>12.69</td><td>9.92</td><td>12.44</td><td>10.51</td></tr>\n",
       "\t<tr><th scope=row>TNMD</th><td>0.02</td><td>0.03</td><td>0.02</td><td>0.01</td><td> 0.33</td><td>0.03</td><td>0.07</td><td>0.01</td><td>0.00</td><td>0.00</td><td>⋯</td><td> 0.05</td><td> 0.01</td><td>0.09</td><td>0.03</td><td> 0.04</td><td> 0.06</td><td> 0.13</td><td>0.02</td><td> 0.07</td><td> 0.03</td></tr>\n",
       "\t<tr><th scope=row>DPM1</th><td>6.15</td><td>5.09</td><td>1.09</td><td>3.68</td><td> 4.89</td><td>4.75</td><td>3.07</td><td>4.58</td><td>0.78</td><td>3.27</td><td>⋯</td><td> 5.83</td><td> 3.99</td><td>4.26</td><td>4.41</td><td> 4.03</td><td> 4.62</td><td> 6.50</td><td>6.17</td><td> 6.01</td><td> 5.47</td></tr>\n",
       "\t<tr><th scope=row>SCYL3</th><td>1.75</td><td>1.71</td><td>0.44</td><td>1.44</td><td> 1.52</td><td>1.61</td><td>1.01</td><td>1.18</td><td>0.13</td><td>1.39</td><td>⋯</td><td> 1.88</td><td> 1.11</td><td>1.27</td><td>1.33</td><td> 1.41</td><td> 1.73</td><td> 1.81</td><td>1.81</td><td> 2.19</td><td> 1.83</td></tr>\n",
       "\t<tr><th scope=row>C1orf112</th><td>1.12</td><td>2.78</td><td>0.43</td><td>0.71</td><td> 1.00</td><td>1.64</td><td>0.58</td><td>1.61</td><td>0.25</td><td>1.57</td><td>⋯</td><td> 0.68</td><td> 1.02</td><td>0.91</td><td>0.63</td><td> 1.05</td><td> 1.06</td><td> 1.38</td><td>1.19</td><td> 1.10</td><td> 1.37</td></tr>\n",
       "\t<tr><th scope=row>FGR</th><td>0.90</td><td>0.18</td><td>0.36</td><td>1.32</td><td> 0.93</td><td>1.01</td><td>0.83</td><td>0.09</td><td>0.40</td><td>1.03</td><td>⋯</td><td> 0.58</td><td> 0.45</td><td>0.54</td><td>0.55</td><td> 0.72</td><td> 0.48</td><td> 0.41</td><td>0.88</td><td> 1.22</td><td> 0.65</td></tr>\n",
       "</tbody>\n",
       "</table>\n"
      ],
      "text/latex": [
       "A data.frame: 6 × 925\n",
       "\\begin{tabular}{r|lllllllllllllllllllll}\n",
       "  & 7316-1926 & 7316-489 & 7316-13 & 7316-3936 & 7316-873 & 7316-2669 & 7316-1928 & 7316-1655 & 7316-2622 & 7316-2893 & ⋯ & ICGC\\_PA89 & ICGC\\_PA9 & ICGC\\_PA91 & ICGC\\_PA92 & ICGC\\_PA93 & ICGC\\_PA94 & ICGC\\_PA95 & ICGC\\_PA96 & ICGC\\_PA97 & ICGC\\_PA99\\\\\n",
       "  & <dbl> & <dbl> & <dbl> & <dbl> & <dbl> & <dbl> & <dbl> & <dbl> & <dbl> & <dbl> & ⋯ & <dbl> & <dbl> & <dbl> & <dbl> & <dbl> & <dbl> & <dbl> & <dbl> & <dbl> & <dbl>\\\\\n",
       "\\hline\n",
       "\tTSPAN6 & 8.66 & 6.15 & 0.73 & 1.50 & 29.41 & 4.62 & 6.65 & 1.78 & 0.82 & 2.87 & ⋯ & 10.59 & 13.17 & 5.95 & 7.56 & 12.42 & 11.44 & 12.69 & 9.92 & 12.44 & 10.51\\\\\n",
       "\tTNMD & 0.02 & 0.03 & 0.02 & 0.01 &  0.33 & 0.03 & 0.07 & 0.01 & 0.00 & 0.00 & ⋯ &  0.05 &  0.01 & 0.09 & 0.03 &  0.04 &  0.06 &  0.13 & 0.02 &  0.07 &  0.03\\\\\n",
       "\tDPM1 & 6.15 & 5.09 & 1.09 & 3.68 &  4.89 & 4.75 & 3.07 & 4.58 & 0.78 & 3.27 & ⋯ &  5.83 &  3.99 & 4.26 & 4.41 &  4.03 &  4.62 &  6.50 & 6.17 &  6.01 &  5.47\\\\\n",
       "\tSCYL3 & 1.75 & 1.71 & 0.44 & 1.44 &  1.52 & 1.61 & 1.01 & 1.18 & 0.13 & 1.39 & ⋯ &  1.88 &  1.11 & 1.27 & 1.33 &  1.41 &  1.73 &  1.81 & 1.81 &  2.19 &  1.83\\\\\n",
       "\tC1orf112 & 1.12 & 2.78 & 0.43 & 0.71 &  1.00 & 1.64 & 0.58 & 1.61 & 0.25 & 1.57 & ⋯ &  0.68 &  1.02 & 0.91 & 0.63 &  1.05 &  1.06 &  1.38 & 1.19 &  1.10 &  1.37\\\\\n",
       "\tFGR & 0.90 & 0.18 & 0.36 & 1.32 &  0.93 & 1.01 & 0.83 & 0.09 & 0.40 & 1.03 & ⋯ &  0.58 &  0.45 & 0.54 & 0.55 &  0.72 &  0.48 &  0.41 & 0.88 &  1.22 &  0.65\\\\\n",
       "\\end{tabular}\n"
      ],
      "text/markdown": [
       "\n",
       "A data.frame: 6 × 925\n",
       "\n",
       "| <!--/--> | 7316-1926 &lt;dbl&gt; | 7316-489 &lt;dbl&gt; | 7316-13 &lt;dbl&gt; | 7316-3936 &lt;dbl&gt; | 7316-873 &lt;dbl&gt; | 7316-2669 &lt;dbl&gt; | 7316-1928 &lt;dbl&gt; | 7316-1655 &lt;dbl&gt; | 7316-2622 &lt;dbl&gt; | 7316-2893 &lt;dbl&gt; | ⋯ ⋯ | ICGC_PA89 &lt;dbl&gt; | ICGC_PA9 &lt;dbl&gt; | ICGC_PA91 &lt;dbl&gt; | ICGC_PA92 &lt;dbl&gt; | ICGC_PA93 &lt;dbl&gt; | ICGC_PA94 &lt;dbl&gt; | ICGC_PA95 &lt;dbl&gt; | ICGC_PA96 &lt;dbl&gt; | ICGC_PA97 &lt;dbl&gt; | ICGC_PA99 &lt;dbl&gt; |\n",
       "|---|---|---|---|---|---|---|---|---|---|---|---|---|---|---|---|---|---|---|---|---|---|\n",
       "| TSPAN6 | 8.66 | 6.15 | 0.73 | 1.50 | 29.41 | 4.62 | 6.65 | 1.78 | 0.82 | 2.87 | ⋯ | 10.59 | 13.17 | 5.95 | 7.56 | 12.42 | 11.44 | 12.69 | 9.92 | 12.44 | 10.51 |\n",
       "| TNMD | 0.02 | 0.03 | 0.02 | 0.01 |  0.33 | 0.03 | 0.07 | 0.01 | 0.00 | 0.00 | ⋯ |  0.05 |  0.01 | 0.09 | 0.03 |  0.04 |  0.06 |  0.13 | 0.02 |  0.07 |  0.03 |\n",
       "| DPM1 | 6.15 | 5.09 | 1.09 | 3.68 |  4.89 | 4.75 | 3.07 | 4.58 | 0.78 | 3.27 | ⋯ |  5.83 |  3.99 | 4.26 | 4.41 |  4.03 |  4.62 |  6.50 | 6.17 |  6.01 |  5.47 |\n",
       "| SCYL3 | 1.75 | 1.71 | 0.44 | 1.44 |  1.52 | 1.61 | 1.01 | 1.18 | 0.13 | 1.39 | ⋯ |  1.88 |  1.11 | 1.27 | 1.33 |  1.41 |  1.73 |  1.81 | 1.81 |  2.19 |  1.83 |\n",
       "| C1orf112 | 1.12 | 2.78 | 0.43 | 0.71 |  1.00 | 1.64 | 0.58 | 1.61 | 0.25 | 1.57 | ⋯ |  0.68 |  1.02 | 0.91 | 0.63 |  1.05 |  1.06 |  1.38 | 1.19 |  1.10 |  1.37 |\n",
       "| FGR | 0.90 | 0.18 | 0.36 | 1.32 |  0.93 | 1.01 | 0.83 | 0.09 | 0.40 | 1.03 | ⋯ |  0.58 |  0.45 | 0.54 | 0.55 |  0.72 |  0.48 |  0.41 | 0.88 |  1.22 |  0.65 |\n",
       "\n"
      ],
      "text/plain": [
       "         7316-1926 7316-489 7316-13 7316-3936 7316-873 7316-2669 7316-1928\n",
       "TSPAN6   8.66      6.15     0.73    1.50      29.41    4.62      6.65     \n",
       "TNMD     0.02      0.03     0.02    0.01       0.33    0.03      0.07     \n",
       "DPM1     6.15      5.09     1.09    3.68       4.89    4.75      3.07     \n",
       "SCYL3    1.75      1.71     0.44    1.44       1.52    1.61      1.01     \n",
       "C1orf112 1.12      2.78     0.43    0.71       1.00    1.64      0.58     \n",
       "FGR      0.90      0.18     0.36    1.32       0.93    1.01      0.83     \n",
       "         7316-1655 7316-2622 7316-2893 ⋯ ICGC_PA89 ICGC_PA9 ICGC_PA91 ICGC_PA92\n",
       "TSPAN6   1.78      0.82      2.87      ⋯ 10.59     13.17    5.95      7.56     \n",
       "TNMD     0.01      0.00      0.00      ⋯  0.05      0.01    0.09      0.03     \n",
       "DPM1     4.58      0.78      3.27      ⋯  5.83      3.99    4.26      4.41     \n",
       "SCYL3    1.18      0.13      1.39      ⋯  1.88      1.11    1.27      1.33     \n",
       "C1orf112 1.61      0.25      1.57      ⋯  0.68      1.02    0.91      0.63     \n",
       "FGR      0.09      0.40      1.03      ⋯  0.58      0.45    0.54      0.55     \n",
       "         ICGC_PA93 ICGC_PA94 ICGC_PA95 ICGC_PA96 ICGC_PA97 ICGC_PA99\n",
       "TSPAN6   12.42     11.44     12.69     9.92      12.44     10.51    \n",
       "TNMD      0.04      0.06      0.13     0.02       0.07      0.03    \n",
       "DPM1      4.03      4.62      6.50     6.17       6.01      5.47    \n",
       "SCYL3     1.41      1.73      1.81     1.81       2.19      1.83    \n",
       "C1orf112  1.05      1.06      1.38     1.19       1.10      1.37    \n",
       "FGR       0.72      0.48      0.41     0.88       1.22      0.65    "
      ]
     },
     "metadata": {},
     "output_type": "display_data"
    }
   ],
   "source": [
    "head(tpm_matrix_ped_final)"
   ]
  },
  {
   "cell_type": "code",
   "execution_count": 12,
   "metadata": {},
   "outputs": [],
   "source": [
    "save(tpm_matrix_ped_final, file = paste0(datapath, \"exp_mat/tpm_matrix_ped_final.RData\"))"
   ]
  },
  {
   "cell_type": "code",
   "execution_count": 13,
   "metadata": {},
   "outputs": [],
   "source": [
    "write.table(tpm_matrix_ped_final, file = paste0(datapath, \"exp_mat/tpm_matrix_ped_primary_dedup_final.txt\"),\n",
    "                sep = \"\\t\", quote = F, row.names = T)"
   ]
  },
  {
   "cell_type": "code",
   "execution_count": 14,
   "metadata": {},
   "outputs": [],
   "source": [
    "write.table(tpm_matrix_ped_final[,1:100],\n",
    "                file = paste0(datapath, \"TIMER2/tpm_matrix_ped_primary_TIMER2_input1.txt\"),\n",
    "                sep = \"\\t\", quote = F, row.names = T)\n",
    "\n",
    "write.table(tpm_matrix_ped_final[,101:200],\n",
    "                file = paste0(datapath, \"TIMER2/tpm_matrix_ped_primary_TIMER2_input2.txt\"),\n",
    "                sep = \"\\t\", quote = F, row.names = T)\n",
    "\n",
    "write.table(tpm_matrix_ped_final[,201:300],\n",
    "                file = paste0(datapath, \"TIMER2/tpm_matrix_ped_primary_TIMER2_input3.txt\"),\n",
    "                sep = \"\\t\", quote = F, row.names = T)\n",
    "\n",
    "write.table(tpm_matrix_ped_final[,301:400],\n",
    "                file = paste0(datapath, \"TIMER2/tpm_matrix_ped_primary_TIMER2_input4.txt\"),\n",
    "                sep = \"\\t\", quote = F, row.names = T)\n",
    "\n",
    "write.table(tpm_matrix_ped_final[,401:500],\n",
    "                file = paste0(datapath, \"TIMER2/tpm_matrix_ped_primary_TIMER2_input5.txt\"),\n",
    "                sep = \"\\t\", quote = F, row.names = T)\n",
    "\n",
    "write.table(tpm_matrix_ped_final[,501:600],\n",
    "                file = paste0(datapath, \"TIMER2/tpm_matrix_ped_primary_TIMER2_input6.txt\"),\n",
    "                sep = \"\\t\", quote = F, row.names = T)\n",
    "\n",
    "write.table(tpm_matrix_ped_final[,601:700],\n",
    "                file = paste0(datapath, \"TIMER2/tpm_matrix_ped_primary_TIMER2_input7.txt\"),\n",
    "                sep = \"\\t\", quote = F, row.names = T)\n",
    "\n",
    "write.table(tpm_matrix_ped_final[,701:800],\n",
    "                file = paste0(datapath, \"TIMER2/tpm_matrix_ped_primary_TIMER2_input8.txt\"),\n",
    "                sep = \"\\t\", quote = F, row.names = T)\n",
    "\n",
    "write.table(tpm_matrix_ped_final[,800:925],\n",
    "                file = paste0(datapath, \"TIMER2/tpm_matrix_ped_primary_TIMER2_input9.txt\"),\n",
    "                sep = \"\\t\", quote = F, row.names = T)"
   ]
  },
  {
   "cell_type": "markdown",
   "metadata": {},
   "source": [
    "# Counts matrices"
   ]
  },
  {
   "cell_type": "markdown",
   "metadata": {},
   "source": [
    "## KF_CBTN"
   ]
  },
  {
   "cell_type": "markdown",
   "metadata": {},
   "source": [
    "From Cavatica"
   ]
  },
  {
   "cell_type": "code",
   "execution_count": 14,
   "metadata": {},
   "outputs": [],
   "source": [
    "CBTNcount <- read.table(paste0(datapath, \"exp_mat/KF_CBTTC_count_rsem_matrix.txt_sampleid.txt\"), sep = \"\\t\",\n",
    "                    header = TRUE, stringsAsFactors = FALSE, check.names = F)"
   ]
  },
  {
   "cell_type": "code",
   "execution_count": 15,
   "metadata": {},
   "outputs": [
    {
     "data": {
      "text/html": [
       "<table class=\"dataframe\">\n",
       "<caption>A data.frame: 6 × 970</caption>\n",
       "<thead>\n",
       "\t<tr><th></th><th scope=col></th><th scope=col>7316-2599</th><th scope=col>7316-1926</th><th scope=col>7316-489</th><th scope=col>7316-16</th><th scope=col>7316-13</th><th scope=col>7316-3936</th><th scope=col>7316-3632</th><th scope=col>7316-873</th><th scope=col>7316-2669</th><th scope=col>⋯</th><th scope=col>7316-2589</th><th scope=col>7316-395</th><th scope=col>7316-1785</th><th scope=col>7316-2744</th><th scope=col>7316-1116</th><th scope=col>7316-333</th><th scope=col>7316-775</th><th scope=col>7316-96</th><th scope=col>7316-1750</th><th scope=col>7316-3963</th></tr>\n",
       "\t<tr><th></th><th scope=col>&lt;chr&gt;</th><th scope=col>&lt;dbl&gt;</th><th scope=col>&lt;dbl&gt;</th><th scope=col>&lt;dbl&gt;</th><th scope=col>&lt;dbl&gt;</th><th scope=col>&lt;dbl&gt;</th><th scope=col>&lt;dbl&gt;</th><th scope=col>&lt;dbl&gt;</th><th scope=col>&lt;dbl&gt;</th><th scope=col>&lt;dbl&gt;</th><th scope=col>⋯</th><th scope=col>&lt;dbl&gt;</th><th scope=col>&lt;dbl&gt;</th><th scope=col>&lt;dbl&gt;</th><th scope=col>&lt;dbl&gt;</th><th scope=col>&lt;dbl&gt;</th><th scope=col>&lt;dbl&gt;</th><th scope=col>&lt;dbl&gt;</th><th scope=col>&lt;dbl&gt;</th><th scope=col>&lt;dbl&gt;</th><th scope=col>&lt;dbl&gt;</th></tr>\n",
       "</thead>\n",
       "<tbody>\n",
       "\t<tr><th scope=row>1</th><td>ENSG00000000003.14_TSPAN6  </td><td>2574</td><td>2073</td><td>1150</td><td>913</td><td>364</td><td>183</td><td>379</td><td>5889</td><td>1132</td><td>⋯</td><td>1539</td><td>1029</td><td>5174</td><td>9313</td><td>1477</td><td>2364.00</td><td>738</td><td>1035</td><td>556</td><td> 514</td></tr>\n",
       "\t<tr><th scope=row>2</th><td>ENSG00000000005.5_TNMD     </td><td>  18</td><td>   3</td><td>   4</td><td>  4</td><td>  5</td><td>  1</td><td>  1</td><td>  31</td><td>   2</td><td>⋯</td><td>   0</td><td>   4</td><td>   1</td><td> 157</td><td>   1</td><td>   1.00</td><td>  0</td><td>   1</td><td>  1</td><td>   1</td></tr>\n",
       "\t<tr><th scope=row>3</th><td>ENSG00000000419.12_DPM1    </td><td> 498</td><td> 651</td><td> 477</td><td>495</td><td>248</td><td>194</td><td>232</td><td> 421</td><td> 460</td><td>⋯</td><td> 661</td><td> 390</td><td>1650</td><td>1352</td><td> 715</td><td>1081.00</td><td>277</td><td> 611</td><td>304</td><td> 398</td></tr>\n",
       "\t<tr><th scope=row>4</th><td>ENSG00000000457.13_SCYL3   </td><td> 597</td><td> 789</td><td> 632</td><td>538</td><td>398</td><td>338</td><td>283</td><td> 598</td><td> 625</td><td>⋯</td><td> 725</td><td> 469</td><td> 953</td><td>1835</td><td> 661</td><td>1589.65</td><td>576</td><td> 938</td><td>554</td><td> 473</td></tr>\n",
       "\t<tr><th scope=row>5</th><td>ENSG00000000460.16_C1orf112</td><td> 421</td><td> 300</td><td> 583</td><td>142</td><td>206</td><td>103</td><td> 87</td><td> 210</td><td> 395</td><td>⋯</td><td> 329</td><td> 216</td><td>1739</td><td> 669</td><td> 188</td><td> 595.35</td><td>148</td><td> 320</td><td>240</td><td> 265</td></tr>\n",
       "\t<tr><th scope=row>6</th><td>ENSG00000000938.12_FGR     </td><td> 275</td><td> 219</td><td>  37</td><td>393</td><td>160</td><td>147</td><td>191</td><td> 153</td><td> 231</td><td>⋯</td><td> 207</td><td>1158</td><td>1664</td><td> 285</td><td> 283</td><td> 160.00</td><td> 39</td><td> 107</td><td>316</td><td>2294</td></tr>\n",
       "</tbody>\n",
       "</table>\n"
      ],
      "text/latex": [
       "A data.frame: 6 × 970\n",
       "\\begin{tabular}{r|lllllllllllllllllllll}\n",
       "  &  & 7316-2599 & 7316-1926 & 7316-489 & 7316-16 & 7316-13 & 7316-3936 & 7316-3632 & 7316-873 & 7316-2669 & ⋯ & 7316-2589 & 7316-395 & 7316-1785 & 7316-2744 & 7316-1116 & 7316-333 & 7316-775 & 7316-96 & 7316-1750 & 7316-3963\\\\\n",
       "  & <chr> & <dbl> & <dbl> & <dbl> & <dbl> & <dbl> & <dbl> & <dbl> & <dbl> & <dbl> & ⋯ & <dbl> & <dbl> & <dbl> & <dbl> & <dbl> & <dbl> & <dbl> & <dbl> & <dbl> & <dbl>\\\\\n",
       "\\hline\n",
       "\t1 & ENSG00000000003.14\\_TSPAN6   & 2574 & 2073 & 1150 & 913 & 364 & 183 & 379 & 5889 & 1132 & ⋯ & 1539 & 1029 & 5174 & 9313 & 1477 & 2364.00 & 738 & 1035 & 556 &  514\\\\\n",
       "\t2 & ENSG00000000005.5\\_TNMD      &   18 &    3 &    4 &   4 &   5 &   1 &   1 &   31 &    2 & ⋯ &    0 &    4 &    1 &  157 &    1 &    1.00 &   0 &    1 &   1 &    1\\\\\n",
       "\t3 & ENSG00000000419.12\\_DPM1     &  498 &  651 &  477 & 495 & 248 & 194 & 232 &  421 &  460 & ⋯ &  661 &  390 & 1650 & 1352 &  715 & 1081.00 & 277 &  611 & 304 &  398\\\\\n",
       "\t4 & ENSG00000000457.13\\_SCYL3    &  597 &  789 &  632 & 538 & 398 & 338 & 283 &  598 &  625 & ⋯ &  725 &  469 &  953 & 1835 &  661 & 1589.65 & 576 &  938 & 554 &  473\\\\\n",
       "\t5 & ENSG00000000460.16\\_C1orf112 &  421 &  300 &  583 & 142 & 206 & 103 &  87 &  210 &  395 & ⋯ &  329 &  216 & 1739 &  669 &  188 &  595.35 & 148 &  320 & 240 &  265\\\\\n",
       "\t6 & ENSG00000000938.12\\_FGR      &  275 &  219 &   37 & 393 & 160 & 147 & 191 &  153 &  231 & ⋯ &  207 & 1158 & 1664 &  285 &  283 &  160.00 &  39 &  107 & 316 & 2294\\\\\n",
       "\\end{tabular}\n"
      ],
      "text/markdown": [
       "\n",
       "A data.frame: 6 × 970\n",
       "\n",
       "| <!--/--> | <!----> &lt;chr&gt; | 7316-2599 &lt;dbl&gt; | 7316-1926 &lt;dbl&gt; | 7316-489 &lt;dbl&gt; | 7316-16 &lt;dbl&gt; | 7316-13 &lt;dbl&gt; | 7316-3936 &lt;dbl&gt; | 7316-3632 &lt;dbl&gt; | 7316-873 &lt;dbl&gt; | 7316-2669 &lt;dbl&gt; | ⋯ ⋯ | 7316-2589 &lt;dbl&gt; | 7316-395 &lt;dbl&gt; | 7316-1785 &lt;dbl&gt; | 7316-2744 &lt;dbl&gt; | 7316-1116 &lt;dbl&gt; | 7316-333 &lt;dbl&gt; | 7316-775 &lt;dbl&gt; | 7316-96 &lt;dbl&gt; | 7316-1750 &lt;dbl&gt; | 7316-3963 &lt;dbl&gt; |\n",
       "|---|---|---|---|---|---|---|---|---|---|---|---|---|---|---|---|---|---|---|---|---|---|\n",
       "| 1 | ENSG00000000003.14_TSPAN6   | 2574 | 2073 | 1150 | 913 | 364 | 183 | 379 | 5889 | 1132 | ⋯ | 1539 | 1029 | 5174 | 9313 | 1477 | 2364.00 | 738 | 1035 | 556 |  514 |\n",
       "| 2 | ENSG00000000005.5_TNMD      |   18 |    3 |    4 |   4 |   5 |   1 |   1 |   31 |    2 | ⋯ |    0 |    4 |    1 |  157 |    1 |    1.00 |   0 |    1 |   1 |    1 |\n",
       "| 3 | ENSG00000000419.12_DPM1     |  498 |  651 |  477 | 495 | 248 | 194 | 232 |  421 |  460 | ⋯ |  661 |  390 | 1650 | 1352 |  715 | 1081.00 | 277 |  611 | 304 |  398 |\n",
       "| 4 | ENSG00000000457.13_SCYL3    |  597 |  789 |  632 | 538 | 398 | 338 | 283 |  598 |  625 | ⋯ |  725 |  469 |  953 | 1835 |  661 | 1589.65 | 576 |  938 | 554 |  473 |\n",
       "| 5 | ENSG00000000460.16_C1orf112 |  421 |  300 |  583 | 142 | 206 | 103 |  87 |  210 |  395 | ⋯ |  329 |  216 | 1739 |  669 |  188 |  595.35 | 148 |  320 | 240 |  265 |\n",
       "| 6 | ENSG00000000938.12_FGR      |  275 |  219 |   37 | 393 | 160 | 147 | 191 |  153 |  231 | ⋯ |  207 | 1158 | 1664 |  285 |  283 |  160.00 |  39 |  107 | 316 | 2294 |\n",
       "\n"
      ],
      "text/plain": [
       "                              7316-2599 7316-1926 7316-489 7316-16 7316-13\n",
       "1 ENSG00000000003.14_TSPAN6   2574      2073      1150     913     364    \n",
       "2 ENSG00000000005.5_TNMD        18         3         4       4       5    \n",
       "3 ENSG00000000419.12_DPM1      498       651       477     495     248    \n",
       "4 ENSG00000000457.13_SCYL3     597       789       632     538     398    \n",
       "5 ENSG00000000460.16_C1orf112  421       300       583     142     206    \n",
       "6 ENSG00000000938.12_FGR       275       219        37     393     160    \n",
       "  7316-3936 7316-3632 7316-873 7316-2669 ⋯ 7316-2589 7316-395 7316-1785\n",
       "1 183       379       5889     1132      ⋯ 1539      1029     5174     \n",
       "2   1         1         31        2      ⋯    0         4        1     \n",
       "3 194       232        421      460      ⋯  661       390     1650     \n",
       "4 338       283        598      625      ⋯  725       469      953     \n",
       "5 103        87        210      395      ⋯  329       216     1739     \n",
       "6 147       191        153      231      ⋯  207      1158     1664     \n",
       "  7316-2744 7316-1116 7316-333 7316-775 7316-96 7316-1750 7316-3963\n",
       "1 9313      1477      2364.00  738      1035    556        514     \n",
       "2  157         1         1.00    0         1      1          1     \n",
       "3 1352       715      1081.00  277       611    304        398     \n",
       "4 1835       661      1589.65  576       938    554        473     \n",
       "5  669       188       595.35  148       320    240        265     \n",
       "6  285       283       160.00   39       107    316       2294     "
      ]
     },
     "metadata": {},
     "output_type": "display_data"
    }
   ],
   "source": [
    "head(CBTNcount)"
   ]
  },
  {
   "cell_type": "code",
   "execution_count": 16,
   "metadata": {},
   "outputs": [],
   "source": [
    "CBTNcount <- cbind(NA, NA, CBTNcount)\n",
    "colnames(CBTNcount)[1:2] <- c(\"ensembl_id\", \"hgnc_symbol\")"
   ]
  },
  {
   "cell_type": "code",
   "execution_count": 17,
   "metadata": {},
   "outputs": [],
   "source": [
    "CBTNcount$hgnc_symbol <- gsub(\".*_\", \"\", CBTNcount$`Var.3`)\n",
    "CBTNcount$ensembl_id <- gsub(\"_.*\", \"\", CBTNcount$`Var.3`)\n",
    "CBTNcount$`Var.3` <- NULL"
   ]
  },
  {
   "cell_type": "code",
   "execution_count": 18,
   "metadata": {},
   "outputs": [
    {
     "data": {
      "text/html": [
       "<table class=\"dataframe\">\n",
       "<caption>A data.frame: 6 × 971</caption>\n",
       "<thead>\n",
       "\t<tr><th></th><th scope=col>ensembl_id</th><th scope=col>hgnc_symbol</th><th scope=col>7316-2599</th><th scope=col>7316-1926</th><th scope=col>7316-489</th><th scope=col>7316-16</th><th scope=col>7316-13</th><th scope=col>7316-3936</th><th scope=col>7316-3632</th><th scope=col>7316-873</th><th scope=col>⋯</th><th scope=col>7316-2589</th><th scope=col>7316-395</th><th scope=col>7316-1785</th><th scope=col>7316-2744</th><th scope=col>7316-1116</th><th scope=col>7316-333</th><th scope=col>7316-775</th><th scope=col>7316-96</th><th scope=col>7316-1750</th><th scope=col>7316-3963</th></tr>\n",
       "\t<tr><th></th><th scope=col>&lt;chr&gt;</th><th scope=col>&lt;chr&gt;</th><th scope=col>&lt;dbl&gt;</th><th scope=col>&lt;dbl&gt;</th><th scope=col>&lt;dbl&gt;</th><th scope=col>&lt;dbl&gt;</th><th scope=col>&lt;dbl&gt;</th><th scope=col>&lt;dbl&gt;</th><th scope=col>&lt;dbl&gt;</th><th scope=col>&lt;dbl&gt;</th><th scope=col>⋯</th><th scope=col>&lt;dbl&gt;</th><th scope=col>&lt;dbl&gt;</th><th scope=col>&lt;dbl&gt;</th><th scope=col>&lt;dbl&gt;</th><th scope=col>&lt;dbl&gt;</th><th scope=col>&lt;dbl&gt;</th><th scope=col>&lt;dbl&gt;</th><th scope=col>&lt;dbl&gt;</th><th scope=col>&lt;dbl&gt;</th><th scope=col>&lt;dbl&gt;</th></tr>\n",
       "</thead>\n",
       "<tbody>\n",
       "\t<tr><th scope=row>1</th><td>ENSG00000000003.14</td><td>TSPAN6  </td><td>2574</td><td>2073</td><td>1150</td><td>913</td><td>364</td><td>183</td><td>379</td><td>5889</td><td>⋯</td><td>1539</td><td>1029</td><td>5174</td><td>9313</td><td>1477</td><td>2364.00</td><td>738</td><td>1035</td><td>556</td><td> 514</td></tr>\n",
       "\t<tr><th scope=row>2</th><td>ENSG00000000005.5 </td><td>TNMD    </td><td>  18</td><td>   3</td><td>   4</td><td>  4</td><td>  5</td><td>  1</td><td>  1</td><td>  31</td><td>⋯</td><td>   0</td><td>   4</td><td>   1</td><td> 157</td><td>   1</td><td>   1.00</td><td>  0</td><td>   1</td><td>  1</td><td>   1</td></tr>\n",
       "\t<tr><th scope=row>3</th><td>ENSG00000000419.12</td><td>DPM1    </td><td> 498</td><td> 651</td><td> 477</td><td>495</td><td>248</td><td>194</td><td>232</td><td> 421</td><td>⋯</td><td> 661</td><td> 390</td><td>1650</td><td>1352</td><td> 715</td><td>1081.00</td><td>277</td><td> 611</td><td>304</td><td> 398</td></tr>\n",
       "\t<tr><th scope=row>4</th><td>ENSG00000000457.13</td><td>SCYL3   </td><td> 597</td><td> 789</td><td> 632</td><td>538</td><td>398</td><td>338</td><td>283</td><td> 598</td><td>⋯</td><td> 725</td><td> 469</td><td> 953</td><td>1835</td><td> 661</td><td>1589.65</td><td>576</td><td> 938</td><td>554</td><td> 473</td></tr>\n",
       "\t<tr><th scope=row>5</th><td>ENSG00000000460.16</td><td>C1orf112</td><td> 421</td><td> 300</td><td> 583</td><td>142</td><td>206</td><td>103</td><td> 87</td><td> 210</td><td>⋯</td><td> 329</td><td> 216</td><td>1739</td><td> 669</td><td> 188</td><td> 595.35</td><td>148</td><td> 320</td><td>240</td><td> 265</td></tr>\n",
       "\t<tr><th scope=row>6</th><td>ENSG00000000938.12</td><td>FGR     </td><td> 275</td><td> 219</td><td>  37</td><td>393</td><td>160</td><td>147</td><td>191</td><td> 153</td><td>⋯</td><td> 207</td><td>1158</td><td>1664</td><td> 285</td><td> 283</td><td> 160.00</td><td> 39</td><td> 107</td><td>316</td><td>2294</td></tr>\n",
       "</tbody>\n",
       "</table>\n"
      ],
      "text/latex": [
       "A data.frame: 6 × 971\n",
       "\\begin{tabular}{r|lllllllllllllllllllll}\n",
       "  & ensembl\\_id & hgnc\\_symbol & 7316-2599 & 7316-1926 & 7316-489 & 7316-16 & 7316-13 & 7316-3936 & 7316-3632 & 7316-873 & ⋯ & 7316-2589 & 7316-395 & 7316-1785 & 7316-2744 & 7316-1116 & 7316-333 & 7316-775 & 7316-96 & 7316-1750 & 7316-3963\\\\\n",
       "  & <chr> & <chr> & <dbl> & <dbl> & <dbl> & <dbl> & <dbl> & <dbl> & <dbl> & <dbl> & ⋯ & <dbl> & <dbl> & <dbl> & <dbl> & <dbl> & <dbl> & <dbl> & <dbl> & <dbl> & <dbl>\\\\\n",
       "\\hline\n",
       "\t1 & ENSG00000000003.14 & TSPAN6   & 2574 & 2073 & 1150 & 913 & 364 & 183 & 379 & 5889 & ⋯ & 1539 & 1029 & 5174 & 9313 & 1477 & 2364.00 & 738 & 1035 & 556 &  514\\\\\n",
       "\t2 & ENSG00000000005.5  & TNMD     &   18 &    3 &    4 &   4 &   5 &   1 &   1 &   31 & ⋯ &    0 &    4 &    1 &  157 &    1 &    1.00 &   0 &    1 &   1 &    1\\\\\n",
       "\t3 & ENSG00000000419.12 & DPM1     &  498 &  651 &  477 & 495 & 248 & 194 & 232 &  421 & ⋯ &  661 &  390 & 1650 & 1352 &  715 & 1081.00 & 277 &  611 & 304 &  398\\\\\n",
       "\t4 & ENSG00000000457.13 & SCYL3    &  597 &  789 &  632 & 538 & 398 & 338 & 283 &  598 & ⋯ &  725 &  469 &  953 & 1835 &  661 & 1589.65 & 576 &  938 & 554 &  473\\\\\n",
       "\t5 & ENSG00000000460.16 & C1orf112 &  421 &  300 &  583 & 142 & 206 & 103 &  87 &  210 & ⋯ &  329 &  216 & 1739 &  669 &  188 &  595.35 & 148 &  320 & 240 &  265\\\\\n",
       "\t6 & ENSG00000000938.12 & FGR      &  275 &  219 &   37 & 393 & 160 & 147 & 191 &  153 & ⋯ &  207 & 1158 & 1664 &  285 &  283 &  160.00 &  39 &  107 & 316 & 2294\\\\\n",
       "\\end{tabular}\n"
      ],
      "text/markdown": [
       "\n",
       "A data.frame: 6 × 971\n",
       "\n",
       "| <!--/--> | ensembl_id &lt;chr&gt; | hgnc_symbol &lt;chr&gt; | 7316-2599 &lt;dbl&gt; | 7316-1926 &lt;dbl&gt; | 7316-489 &lt;dbl&gt; | 7316-16 &lt;dbl&gt; | 7316-13 &lt;dbl&gt; | 7316-3936 &lt;dbl&gt; | 7316-3632 &lt;dbl&gt; | 7316-873 &lt;dbl&gt; | ⋯ ⋯ | 7316-2589 &lt;dbl&gt; | 7316-395 &lt;dbl&gt; | 7316-1785 &lt;dbl&gt; | 7316-2744 &lt;dbl&gt; | 7316-1116 &lt;dbl&gt; | 7316-333 &lt;dbl&gt; | 7316-775 &lt;dbl&gt; | 7316-96 &lt;dbl&gt; | 7316-1750 &lt;dbl&gt; | 7316-3963 &lt;dbl&gt; |\n",
       "|---|---|---|---|---|---|---|---|---|---|---|---|---|---|---|---|---|---|---|---|---|---|\n",
       "| 1 | ENSG00000000003.14 | TSPAN6   | 2574 | 2073 | 1150 | 913 | 364 | 183 | 379 | 5889 | ⋯ | 1539 | 1029 | 5174 | 9313 | 1477 | 2364.00 | 738 | 1035 | 556 |  514 |\n",
       "| 2 | ENSG00000000005.5  | TNMD     |   18 |    3 |    4 |   4 |   5 |   1 |   1 |   31 | ⋯ |    0 |    4 |    1 |  157 |    1 |    1.00 |   0 |    1 |   1 |    1 |\n",
       "| 3 | ENSG00000000419.12 | DPM1     |  498 |  651 |  477 | 495 | 248 | 194 | 232 |  421 | ⋯ |  661 |  390 | 1650 | 1352 |  715 | 1081.00 | 277 |  611 | 304 |  398 |\n",
       "| 4 | ENSG00000000457.13 | SCYL3    |  597 |  789 |  632 | 538 | 398 | 338 | 283 |  598 | ⋯ |  725 |  469 |  953 | 1835 |  661 | 1589.65 | 576 |  938 | 554 |  473 |\n",
       "| 5 | ENSG00000000460.16 | C1orf112 |  421 |  300 |  583 | 142 | 206 | 103 |  87 |  210 | ⋯ |  329 |  216 | 1739 |  669 |  188 |  595.35 | 148 |  320 | 240 |  265 |\n",
       "| 6 | ENSG00000000938.12 | FGR      |  275 |  219 |   37 | 393 | 160 | 147 | 191 |  153 | ⋯ |  207 | 1158 | 1664 |  285 |  283 |  160.00 |  39 |  107 | 316 | 2294 |\n",
       "\n"
      ],
      "text/plain": [
       "  ensembl_id         hgnc_symbol 7316-2599 7316-1926 7316-489 7316-16 7316-13\n",
       "1 ENSG00000000003.14 TSPAN6      2574      2073      1150     913     364    \n",
       "2 ENSG00000000005.5  TNMD          18         3         4       4       5    \n",
       "3 ENSG00000000419.12 DPM1         498       651       477     495     248    \n",
       "4 ENSG00000000457.13 SCYL3        597       789       632     538     398    \n",
       "5 ENSG00000000460.16 C1orf112     421       300       583     142     206    \n",
       "6 ENSG00000000938.12 FGR          275       219        37     393     160    \n",
       "  7316-3936 7316-3632 7316-873 ⋯ 7316-2589 7316-395 7316-1785 7316-2744\n",
       "1 183       379       5889     ⋯ 1539      1029     5174      9313     \n",
       "2   1         1         31     ⋯    0         4        1       157     \n",
       "3 194       232        421     ⋯  661       390     1650      1352     \n",
       "4 338       283        598     ⋯  725       469      953      1835     \n",
       "5 103        87        210     ⋯  329       216     1739       669     \n",
       "6 147       191        153     ⋯  207      1158     1664       285     \n",
       "  7316-1116 7316-333 7316-775 7316-96 7316-1750 7316-3963\n",
       "1 1477      2364.00  738      1035    556        514     \n",
       "2    1         1.00    0         1      1          1     \n",
       "3  715      1081.00  277       611    304        398     \n",
       "4  661      1589.65  576       938    554        473     \n",
       "5  188       595.35  148       320    240        265     \n",
       "6  283       160.00   39       107    316       2294     "
      ]
     },
     "metadata": {},
     "output_type": "display_data"
    }
   ],
   "source": [
    "head(CBTNcount)"
   ]
  },
  {
   "cell_type": "code",
   "execution_count": 19,
   "metadata": {},
   "outputs": [],
   "source": [
    "CBTNcount <- CBTNcount[!duplicated(CBTNcount$hgnc_symbol),]"
   ]
  },
  {
   "cell_type": "code",
   "execution_count": 20,
   "metadata": {},
   "outputs": [
    {
     "data": {
      "text/html": [
       "<style>\n",
       ".list-inline {list-style: none; margin:0; padding: 0}\n",
       ".list-inline>li {display: inline-block}\n",
       ".list-inline>li:not(:last-child)::after {content: \"\\00b7\"; padding: 0 .5ex}\n",
       "</style>\n",
       "<ol class=list-inline><li>56505</li><li>971</li></ol>\n"
      ],
      "text/latex": [
       "\\begin{enumerate*}\n",
       "\\item 56505\n",
       "\\item 971\n",
       "\\end{enumerate*}\n"
      ],
      "text/markdown": [
       "1. 56505\n",
       "2. 971\n",
       "\n",
       "\n"
      ],
      "text/plain": [
       "[1] 56505   971"
      ]
     },
     "metadata": {},
     "output_type": "display_data"
    }
   ],
   "source": [
    "dim(CBTNcount)"
   ]
  },
  {
   "cell_type": "code",
   "execution_count": 21,
   "metadata": {},
   "outputs": [],
   "source": [
    "write.table(CBTNcount,file = paste0(datapath, \"exp_mat/CBTTC_count_matrix_dedup.txt\"),\n",
    "            sep = \"\\t\", quote = F, row.names = F)"
   ]
  },
  {
   "cell_type": "code",
   "execution_count": 22,
   "metadata": {},
   "outputs": [],
   "source": [
    "write.table(CBTNcount[,colnames(CBTNcount) !=\"ensembl_id\"],\n",
    "            file = paste0(datapath, \"exp_mat/CBTTC_count_matrix_dedup_hgnc.txt\"),\n",
    "                sep = \"\\t\", quote = F, row.names = F)"
   ]
  },
  {
   "cell_type": "code",
   "execution_count": 23,
   "metadata": {
    "scrolled": true
   },
   "outputs": [
    {
     "data": {
      "text/plain": [
       "\n",
       "  CBTN   ICGC TARGET   TCGA \n",
       "   581    196    149   2452 "
      ]
     },
     "metadata": {},
     "output_type": "display_data"
    }
   ],
   "source": [
    "table(estimate_manifest_primary_clean$group)"
   ]
  },
  {
   "cell_type": "code",
   "execution_count": 25,
   "metadata": {},
   "outputs": [
    {
     "name": "stderr",
     "output_type": "stream",
     "text": [
      "dimensions of exp_matrix: CBTNcount\n",
      "\n"
     ]
    },
    {
     "name": "stdout",
     "output_type": "stream",
     "text": [
      "[1] 56505   971\n"
     ]
    },
    {
     "name": "stderr",
     "output_type": "stream",
     "text": [
      "dimensions of estimate_manifest_df for: CBTN sample_type:Initial\n",
      "\n"
     ]
    },
    {
     "name": "stdout",
     "output_type": "stream",
     "text": [
      "[1] 581  23\n"
     ]
    },
    {
     "name": "stderr",
     "output_type": "stream",
     "text": [
      "dimensions of exp_matrix_matchingset for: CBTNcount with matching column: sample_id\n",
      "\n"
     ]
    },
    {
     "name": "stdout",
     "output_type": "stream",
     "text": [
      "[1] 56505   581\n"
     ]
    }
   ],
   "source": [
    "CBTN_count_matrix_primary <- matchexp_matrixfx(CBTNcount, estimate_manifest_primary_clean,\"CBTN\", \"Initial\", \"sample_id\")"
   ]
  },
  {
   "cell_type": "code",
   "execution_count": 26,
   "metadata": {},
   "outputs": [
    {
     "data": {
      "text/html": [
       "<table class=\"dataframe\">\n",
       "<caption>A data.frame: 6 × 583</caption>\n",
       "<thead>\n",
       "\t<tr><th></th><th scope=col>ensembl_id</th><th scope=col>hgnc_symbol</th><th scope=col>7316-1926</th><th scope=col>7316-489</th><th scope=col>7316-13</th><th scope=col>7316-3936</th><th scope=col>7316-873</th><th scope=col>7316-2669</th><th scope=col>7316-1928</th><th scope=col>7316-1655</th><th scope=col>⋯</th><th scope=col>7316-891</th><th scope=col>7316-2144</th><th scope=col>7316-525</th><th scope=col>7316-884</th><th scope=col>7316-3052</th><th scope=col>7316-974</th><th scope=col>7316-2183</th><th scope=col>7316-2589</th><th scope=col>7316-775</th><th scope=col>7316-1750</th></tr>\n",
       "\t<tr><th></th><th scope=col>&lt;chr&gt;</th><th scope=col>&lt;chr&gt;</th><th scope=col>&lt;dbl&gt;</th><th scope=col>&lt;dbl&gt;</th><th scope=col>&lt;dbl&gt;</th><th scope=col>&lt;dbl&gt;</th><th scope=col>&lt;dbl&gt;</th><th scope=col>&lt;dbl&gt;</th><th scope=col>&lt;dbl&gt;</th><th scope=col>&lt;dbl&gt;</th><th scope=col>⋯</th><th scope=col>&lt;dbl&gt;</th><th scope=col>&lt;dbl&gt;</th><th scope=col>&lt;dbl&gt;</th><th scope=col>&lt;dbl&gt;</th><th scope=col>&lt;dbl&gt;</th><th scope=col>&lt;dbl&gt;</th><th scope=col>&lt;dbl&gt;</th><th scope=col>&lt;dbl&gt;</th><th scope=col>&lt;dbl&gt;</th><th scope=col>&lt;dbl&gt;</th></tr>\n",
       "</thead>\n",
       "<tbody>\n",
       "\t<tr><th scope=row>1</th><td>ENSG00000000003.14</td><td>TSPAN6  </td><td>2073</td><td>1150</td><td>364</td><td>183</td><td>5889</td><td>1132</td><td>2039</td><td> 783</td><td>⋯</td><td>1496</td><td>1229</td><td>7716</td><td>3177</td><td>1939</td><td>900</td><td>4508</td><td>1539</td><td>738</td><td>556</td></tr>\n",
       "\t<tr><th scope=row>2</th><td>ENSG00000000005.5 </td><td>TNMD    </td><td>   3</td><td>   4</td><td>  5</td><td>  1</td><td>  31</td><td>   2</td><td>  13</td><td>   2</td><td>⋯</td><td>   1</td><td>   1</td><td> 141</td><td>   1</td><td>   5</td><td>  0</td><td>  51</td><td>   0</td><td>  0</td><td>  1</td></tr>\n",
       "\t<tr><th scope=row>3</th><td>ENSG00000000419.12</td><td>DPM1    </td><td> 651</td><td> 477</td><td>248</td><td>194</td><td> 421</td><td> 460</td><td> 337</td><td>1004</td><td>⋯</td><td> 629</td><td> 167</td><td>1160</td><td> 798</td><td> 803</td><td>343</td><td>1007</td><td> 661</td><td>277</td><td>304</td></tr>\n",
       "\t<tr><th scope=row>4</th><td>ENSG00000000457.13</td><td>SCYL3   </td><td> 789</td><td> 632</td><td>398</td><td>338</td><td> 598</td><td> 625</td><td> 517</td><td>1071</td><td>⋯</td><td> 569</td><td> 130</td><td>1332</td><td> 567</td><td>1356</td><td>399</td><td>1121</td><td> 725</td><td>576</td><td>554</td></tr>\n",
       "\t<tr><th scope=row>5</th><td>ENSG00000000460.16</td><td>C1orf112</td><td> 300</td><td> 583</td><td>206</td><td>103</td><td> 210</td><td> 395</td><td> 164</td><td> 693</td><td>⋯</td><td> 175</td><td>  34</td><td> 500</td><td> 267</td><td> 495</td><td>237</td><td> 383</td><td> 329</td><td>148</td><td>240</td></tr>\n",
       "\t<tr><th scope=row>6</th><td>ENSG00000000938.12</td><td>FGR     </td><td> 219</td><td>  37</td><td>160</td><td>147</td><td> 153</td><td> 231</td><td> 222</td><td>  42</td><td>⋯</td><td> 855</td><td>  39</td><td> 443</td><td> 485</td><td> 141</td><td>143</td><td> 859</td><td> 207</td><td> 39</td><td>316</td></tr>\n",
       "</tbody>\n",
       "</table>\n"
      ],
      "text/latex": [
       "A data.frame: 6 × 583\n",
       "\\begin{tabular}{r|lllllllllllllllllllll}\n",
       "  & ensembl\\_id & hgnc\\_symbol & 7316-1926 & 7316-489 & 7316-13 & 7316-3936 & 7316-873 & 7316-2669 & 7316-1928 & 7316-1655 & ⋯ & 7316-891 & 7316-2144 & 7316-525 & 7316-884 & 7316-3052 & 7316-974 & 7316-2183 & 7316-2589 & 7316-775 & 7316-1750\\\\\n",
       "  & <chr> & <chr> & <dbl> & <dbl> & <dbl> & <dbl> & <dbl> & <dbl> & <dbl> & <dbl> & ⋯ & <dbl> & <dbl> & <dbl> & <dbl> & <dbl> & <dbl> & <dbl> & <dbl> & <dbl> & <dbl>\\\\\n",
       "\\hline\n",
       "\t1 & ENSG00000000003.14 & TSPAN6   & 2073 & 1150 & 364 & 183 & 5889 & 1132 & 2039 &  783 & ⋯ & 1496 & 1229 & 7716 & 3177 & 1939 & 900 & 4508 & 1539 & 738 & 556\\\\\n",
       "\t2 & ENSG00000000005.5  & TNMD     &    3 &    4 &   5 &   1 &   31 &    2 &   13 &    2 & ⋯ &    1 &    1 &  141 &    1 &    5 &   0 &   51 &    0 &   0 &   1\\\\\n",
       "\t3 & ENSG00000000419.12 & DPM1     &  651 &  477 & 248 & 194 &  421 &  460 &  337 & 1004 & ⋯ &  629 &  167 & 1160 &  798 &  803 & 343 & 1007 &  661 & 277 & 304\\\\\n",
       "\t4 & ENSG00000000457.13 & SCYL3    &  789 &  632 & 398 & 338 &  598 &  625 &  517 & 1071 & ⋯ &  569 &  130 & 1332 &  567 & 1356 & 399 & 1121 &  725 & 576 & 554\\\\\n",
       "\t5 & ENSG00000000460.16 & C1orf112 &  300 &  583 & 206 & 103 &  210 &  395 &  164 &  693 & ⋯ &  175 &   34 &  500 &  267 &  495 & 237 &  383 &  329 & 148 & 240\\\\\n",
       "\t6 & ENSG00000000938.12 & FGR      &  219 &   37 & 160 & 147 &  153 &  231 &  222 &   42 & ⋯ &  855 &   39 &  443 &  485 &  141 & 143 &  859 &  207 &  39 & 316\\\\\n",
       "\\end{tabular}\n"
      ],
      "text/markdown": [
       "\n",
       "A data.frame: 6 × 583\n",
       "\n",
       "| <!--/--> | ensembl_id &lt;chr&gt; | hgnc_symbol &lt;chr&gt; | 7316-1926 &lt;dbl&gt; | 7316-489 &lt;dbl&gt; | 7316-13 &lt;dbl&gt; | 7316-3936 &lt;dbl&gt; | 7316-873 &lt;dbl&gt; | 7316-2669 &lt;dbl&gt; | 7316-1928 &lt;dbl&gt; | 7316-1655 &lt;dbl&gt; | ⋯ ⋯ | 7316-891 &lt;dbl&gt; | 7316-2144 &lt;dbl&gt; | 7316-525 &lt;dbl&gt; | 7316-884 &lt;dbl&gt; | 7316-3052 &lt;dbl&gt; | 7316-974 &lt;dbl&gt; | 7316-2183 &lt;dbl&gt; | 7316-2589 &lt;dbl&gt; | 7316-775 &lt;dbl&gt; | 7316-1750 &lt;dbl&gt; |\n",
       "|---|---|---|---|---|---|---|---|---|---|---|---|---|---|---|---|---|---|---|---|---|---|\n",
       "| 1 | ENSG00000000003.14 | TSPAN6   | 2073 | 1150 | 364 | 183 | 5889 | 1132 | 2039 |  783 | ⋯ | 1496 | 1229 | 7716 | 3177 | 1939 | 900 | 4508 | 1539 | 738 | 556 |\n",
       "| 2 | ENSG00000000005.5  | TNMD     |    3 |    4 |   5 |   1 |   31 |    2 |   13 |    2 | ⋯ |    1 |    1 |  141 |    1 |    5 |   0 |   51 |    0 |   0 |   1 |\n",
       "| 3 | ENSG00000000419.12 | DPM1     |  651 |  477 | 248 | 194 |  421 |  460 |  337 | 1004 | ⋯ |  629 |  167 | 1160 |  798 |  803 | 343 | 1007 |  661 | 277 | 304 |\n",
       "| 4 | ENSG00000000457.13 | SCYL3    |  789 |  632 | 398 | 338 |  598 |  625 |  517 | 1071 | ⋯ |  569 |  130 | 1332 |  567 | 1356 | 399 | 1121 |  725 | 576 | 554 |\n",
       "| 5 | ENSG00000000460.16 | C1orf112 |  300 |  583 | 206 | 103 |  210 |  395 |  164 |  693 | ⋯ |  175 |   34 |  500 |  267 |  495 | 237 |  383 |  329 | 148 | 240 |\n",
       "| 6 | ENSG00000000938.12 | FGR      |  219 |   37 | 160 | 147 |  153 |  231 |  222 |   42 | ⋯ |  855 |   39 |  443 |  485 |  141 | 143 |  859 |  207 |  39 | 316 |\n",
       "\n"
      ],
      "text/plain": [
       "  ensembl_id         hgnc_symbol 7316-1926 7316-489 7316-13 7316-3936 7316-873\n",
       "1 ENSG00000000003.14 TSPAN6      2073      1150     364     183       5889    \n",
       "2 ENSG00000000005.5  TNMD           3         4       5       1         31    \n",
       "3 ENSG00000000419.12 DPM1         651       477     248     194        421    \n",
       "4 ENSG00000000457.13 SCYL3        789       632     398     338        598    \n",
       "5 ENSG00000000460.16 C1orf112     300       583     206     103        210    \n",
       "6 ENSG00000000938.12 FGR          219        37     160     147        153    \n",
       "  7316-2669 7316-1928 7316-1655 ⋯ 7316-891 7316-2144 7316-525 7316-884\n",
       "1 1132      2039       783      ⋯ 1496     1229      7716     3177    \n",
       "2    2        13         2      ⋯    1        1       141        1    \n",
       "3  460       337      1004      ⋯  629      167      1160      798    \n",
       "4  625       517      1071      ⋯  569      130      1332      567    \n",
       "5  395       164       693      ⋯  175       34       500      267    \n",
       "6  231       222        42      ⋯  855       39       443      485    \n",
       "  7316-3052 7316-974 7316-2183 7316-2589 7316-775 7316-1750\n",
       "1 1939      900      4508      1539      738      556      \n",
       "2    5        0        51         0        0        1      \n",
       "3  803      343      1007       661      277      304      \n",
       "4 1356      399      1121       725      576      554      \n",
       "5  495      237       383       329      148      240      \n",
       "6  141      143       859       207       39      316      "
      ]
     },
     "metadata": {},
     "output_type": "display_data"
    }
   ],
   "source": [
    "head(CBTN_count_matrix_primary)"
   ]
  },
  {
   "cell_type": "code",
   "execution_count": 27,
   "metadata": {},
   "outputs": [],
   "source": [
    "write.table(CBTN_count_matrix_primary,file = paste0(datapath, \"exp_mat/CBTTC_count_matrix_primary_clean.txt\"),\n",
    "            sep = \"\\t\", quote = F, row.names = F)"
   ]
  },
  {
   "cell_type": "markdown",
   "metadata": {},
   "source": [
    "## TARGET"
   ]
  },
  {
   "cell_type": "code",
   "execution_count": 28,
   "metadata": {},
   "outputs": [],
   "source": [
    "TARGET_count_matrix <- read.table(file = paste0(datapath,\"exp_mat/NBL_counts_matrix_hugo.txt\"),\n",
    "                                sep = \"\\t\", header = TRUE, stringsAsFactors = FALSE, check.names = F)"
   ]
  },
  {
   "cell_type": "code",
   "execution_count": 29,
   "metadata": {},
   "outputs": [
    {
     "data": {
      "text/html": [
       "<table class=\"dataframe\">\n",
       "<caption>A data.frame: 6 × 159</caption>\n",
       "<thead>\n",
       "\t<tr><th></th><th scope=col>ensembl</th><th scope=col>gene_symbol</th><th scope=col>TARGET-30-PAPZYP-01A</th><th scope=col>TARGET-30-PASWFB-01A</th><th scope=col>TARGET-30-PATINJ-01A</th><th scope=col>TARGET-30-PATYIL-02A</th><th scope=col>TARGET-30-PARZCJ-01A</th><th scope=col>TARGET-30-PASNZU-01A</th><th scope=col>TARGET-30-PASHFA-01A</th><th scope=col>TARGET-30-PATAYJ-01A</th><th scope=col>⋯</th><th scope=col>TARGET-30-PANUKV-01A</th><th scope=col>TARGET-30-PASJZC-01A</th><th scope=col>TARGET-30-PASGUT-01A</th><th scope=col>TARGET-30-PATEKG-01A</th><th scope=col>TARGET-30-PAPUEB-01A</th><th scope=col>TARGET-30-PANLET-01A</th><th scope=col>TARGET-30-PANZRV-01A</th><th scope=col>TARGET-30-PASXHE-01A</th><th scope=col>TARGET-30-PAIPGU-01A</th><th scope=col>TARGET-30-PASXIE-01A</th></tr>\n",
       "\t<tr><th></th><th scope=col>&lt;chr&gt;</th><th scope=col>&lt;chr&gt;</th><th scope=col>&lt;dbl&gt;</th><th scope=col>&lt;dbl&gt;</th><th scope=col>&lt;dbl&gt;</th><th scope=col>&lt;dbl&gt;</th><th scope=col>&lt;dbl&gt;</th><th scope=col>&lt;dbl&gt;</th><th scope=col>&lt;dbl&gt;</th><th scope=col>&lt;dbl&gt;</th><th scope=col>⋯</th><th scope=col>&lt;dbl&gt;</th><th scope=col>&lt;dbl&gt;</th><th scope=col>&lt;dbl&gt;</th><th scope=col>&lt;dbl&gt;</th><th scope=col>&lt;dbl&gt;</th><th scope=col>&lt;dbl&gt;</th><th scope=col>&lt;dbl&gt;</th><th scope=col>&lt;dbl&gt;</th><th scope=col>&lt;dbl&gt;</th><th scope=col>&lt;dbl&gt;</th></tr>\n",
       "</thead>\n",
       "<tbody>\n",
       "\t<tr><th scope=row>1</th><td>ENSG00000000003.14</td><td>TSPAN6  </td><td>1799.0</td><td>1837.00</td><td>1795.00</td><td> 702.02</td><td>1109.00</td><td>2637.00</td><td>2660.00</td><td>3018.00</td><td>⋯</td><td> 446.00</td><td>3217.00</td><td>2344.00</td><td>1507.00</td><td>1395.00</td><td>1982.00</td><td>1592.00</td><td> 597.00</td><td> 717.00</td><td>545.00</td></tr>\n",
       "\t<tr><th scope=row>2</th><td>ENSG00000000005.5 </td><td>TNMD    </td><td>  60.0</td><td>   2.00</td><td>   2.00</td><td>   6.00</td><td>   4.00</td><td>   1.00</td><td>  10.00</td><td>   8.00</td><td>⋯</td><td>  12.00</td><td>   3.00</td><td>   2.00</td><td>  11.00</td><td>   8.00</td><td>   2.00</td><td>   1.00</td><td>   8.00</td><td>   4.00</td><td>  2.00</td></tr>\n",
       "\t<tr><th scope=row>3</th><td>ENSG00000000419.12</td><td>DPM1    </td><td>1482.0</td><td>1538.00</td><td>1607.00</td><td>1107.00</td><td>1381.00</td><td>1524.00</td><td>1869.00</td><td>1509.00</td><td>⋯</td><td>1559.00</td><td>1774.00</td><td>1631.00</td><td>1376.00</td><td>1265.00</td><td>1588.00</td><td>1168.00</td><td>2538.00</td><td>1180.00</td><td>787.00</td></tr>\n",
       "\t<tr><th scope=row>4</th><td>ENSG00000000457.13</td><td>SCYL3   </td><td> 884.3</td><td>1471.62</td><td> 851.33</td><td> 564.82</td><td>1537.97</td><td>1174.61</td><td>1105.35</td><td>2023.41</td><td>⋯</td><td>1068.84</td><td>2609.15</td><td>1687.94</td><td> 760.11</td><td>1279.93</td><td>1563.58</td><td>1973.24</td><td>1681.22</td><td> 370.51</td><td>484.75</td></tr>\n",
       "\t<tr><th scope=row>5</th><td>ENSG00000000460.16</td><td>C1orf112</td><td> 802.7</td><td> 986.38</td><td> 951.67</td><td> 391.18</td><td> 812.03</td><td> 802.39</td><td> 827.65</td><td>1402.59</td><td>⋯</td><td>1228.50</td><td>1014.85</td><td> 962.06</td><td> 307.89</td><td>1140.07</td><td>1104.42</td><td>1744.76</td><td>1297.78</td><td> 303.49</td><td>551.25</td></tr>\n",
       "\t<tr><th scope=row>6</th><td>ENSG00000000938.12</td><td>FGR     </td><td> 588.0</td><td>  64.00</td><td> 213.00</td><td>  65.00</td><td>2190.00</td><td> 106.00</td><td> 453.00</td><td> 659.00</td><td>⋯</td><td>  43.00</td><td> 384.00</td><td> 483.00</td><td> 483.00</td><td>1243.00</td><td> 464.00</td><td> 211.00</td><td> 455.00</td><td> 399.00</td><td> 26.00</td></tr>\n",
       "</tbody>\n",
       "</table>\n"
      ],
      "text/latex": [
       "A data.frame: 6 × 159\n",
       "\\begin{tabular}{r|lllllllllllllllllllll}\n",
       "  & ensembl & gene\\_symbol & TARGET-30-PAPZYP-01A & TARGET-30-PASWFB-01A & TARGET-30-PATINJ-01A & TARGET-30-PATYIL-02A & TARGET-30-PARZCJ-01A & TARGET-30-PASNZU-01A & TARGET-30-PASHFA-01A & TARGET-30-PATAYJ-01A & ⋯ & TARGET-30-PANUKV-01A & TARGET-30-PASJZC-01A & TARGET-30-PASGUT-01A & TARGET-30-PATEKG-01A & TARGET-30-PAPUEB-01A & TARGET-30-PANLET-01A & TARGET-30-PANZRV-01A & TARGET-30-PASXHE-01A & TARGET-30-PAIPGU-01A & TARGET-30-PASXIE-01A\\\\\n",
       "  & <chr> & <chr> & <dbl> & <dbl> & <dbl> & <dbl> & <dbl> & <dbl> & <dbl> & <dbl> & ⋯ & <dbl> & <dbl> & <dbl> & <dbl> & <dbl> & <dbl> & <dbl> & <dbl> & <dbl> & <dbl>\\\\\n",
       "\\hline\n",
       "\t1 & ENSG00000000003.14 & TSPAN6   & 1799.0 & 1837.00 & 1795.00 &  702.02 & 1109.00 & 2637.00 & 2660.00 & 3018.00 & ⋯ &  446.00 & 3217.00 & 2344.00 & 1507.00 & 1395.00 & 1982.00 & 1592.00 &  597.00 &  717.00 & 545.00\\\\\n",
       "\t2 & ENSG00000000005.5  & TNMD     &   60.0 &    2.00 &    2.00 &    6.00 &    4.00 &    1.00 &   10.00 &    8.00 & ⋯ &   12.00 &    3.00 &    2.00 &   11.00 &    8.00 &    2.00 &    1.00 &    8.00 &    4.00 &   2.00\\\\\n",
       "\t3 & ENSG00000000419.12 & DPM1     & 1482.0 & 1538.00 & 1607.00 & 1107.00 & 1381.00 & 1524.00 & 1869.00 & 1509.00 & ⋯ & 1559.00 & 1774.00 & 1631.00 & 1376.00 & 1265.00 & 1588.00 & 1168.00 & 2538.00 & 1180.00 & 787.00\\\\\n",
       "\t4 & ENSG00000000457.13 & SCYL3    &  884.3 & 1471.62 &  851.33 &  564.82 & 1537.97 & 1174.61 & 1105.35 & 2023.41 & ⋯ & 1068.84 & 2609.15 & 1687.94 &  760.11 & 1279.93 & 1563.58 & 1973.24 & 1681.22 &  370.51 & 484.75\\\\\n",
       "\t5 & ENSG00000000460.16 & C1orf112 &  802.7 &  986.38 &  951.67 &  391.18 &  812.03 &  802.39 &  827.65 & 1402.59 & ⋯ & 1228.50 & 1014.85 &  962.06 &  307.89 & 1140.07 & 1104.42 & 1744.76 & 1297.78 &  303.49 & 551.25\\\\\n",
       "\t6 & ENSG00000000938.12 & FGR      &  588.0 &   64.00 &  213.00 &   65.00 & 2190.00 &  106.00 &  453.00 &  659.00 & ⋯ &   43.00 &  384.00 &  483.00 &  483.00 & 1243.00 &  464.00 &  211.00 &  455.00 &  399.00 &  26.00\\\\\n",
       "\\end{tabular}\n"
      ],
      "text/markdown": [
       "\n",
       "A data.frame: 6 × 159\n",
       "\n",
       "| <!--/--> | ensembl &lt;chr&gt; | gene_symbol &lt;chr&gt; | TARGET-30-PAPZYP-01A &lt;dbl&gt; | TARGET-30-PASWFB-01A &lt;dbl&gt; | TARGET-30-PATINJ-01A &lt;dbl&gt; | TARGET-30-PATYIL-02A &lt;dbl&gt; | TARGET-30-PARZCJ-01A &lt;dbl&gt; | TARGET-30-PASNZU-01A &lt;dbl&gt; | TARGET-30-PASHFA-01A &lt;dbl&gt; | TARGET-30-PATAYJ-01A &lt;dbl&gt; | ⋯ ⋯ | TARGET-30-PANUKV-01A &lt;dbl&gt; | TARGET-30-PASJZC-01A &lt;dbl&gt; | TARGET-30-PASGUT-01A &lt;dbl&gt; | TARGET-30-PATEKG-01A &lt;dbl&gt; | TARGET-30-PAPUEB-01A &lt;dbl&gt; | TARGET-30-PANLET-01A &lt;dbl&gt; | TARGET-30-PANZRV-01A &lt;dbl&gt; | TARGET-30-PASXHE-01A &lt;dbl&gt; | TARGET-30-PAIPGU-01A &lt;dbl&gt; | TARGET-30-PASXIE-01A &lt;dbl&gt; |\n",
       "|---|---|---|---|---|---|---|---|---|---|---|---|---|---|---|---|---|---|---|---|---|---|\n",
       "| 1 | ENSG00000000003.14 | TSPAN6   | 1799.0 | 1837.00 | 1795.00 |  702.02 | 1109.00 | 2637.00 | 2660.00 | 3018.00 | ⋯ |  446.00 | 3217.00 | 2344.00 | 1507.00 | 1395.00 | 1982.00 | 1592.00 |  597.00 |  717.00 | 545.00 |\n",
       "| 2 | ENSG00000000005.5  | TNMD     |   60.0 |    2.00 |    2.00 |    6.00 |    4.00 |    1.00 |   10.00 |    8.00 | ⋯ |   12.00 |    3.00 |    2.00 |   11.00 |    8.00 |    2.00 |    1.00 |    8.00 |    4.00 |   2.00 |\n",
       "| 3 | ENSG00000000419.12 | DPM1     | 1482.0 | 1538.00 | 1607.00 | 1107.00 | 1381.00 | 1524.00 | 1869.00 | 1509.00 | ⋯ | 1559.00 | 1774.00 | 1631.00 | 1376.00 | 1265.00 | 1588.00 | 1168.00 | 2538.00 | 1180.00 | 787.00 |\n",
       "| 4 | ENSG00000000457.13 | SCYL3    |  884.3 | 1471.62 |  851.33 |  564.82 | 1537.97 | 1174.61 | 1105.35 | 2023.41 | ⋯ | 1068.84 | 2609.15 | 1687.94 |  760.11 | 1279.93 | 1563.58 | 1973.24 | 1681.22 |  370.51 | 484.75 |\n",
       "| 5 | ENSG00000000460.16 | C1orf112 |  802.7 |  986.38 |  951.67 |  391.18 |  812.03 |  802.39 |  827.65 | 1402.59 | ⋯ | 1228.50 | 1014.85 |  962.06 |  307.89 | 1140.07 | 1104.42 | 1744.76 | 1297.78 |  303.49 | 551.25 |\n",
       "| 6 | ENSG00000000938.12 | FGR      |  588.0 |   64.00 |  213.00 |   65.00 | 2190.00 |  106.00 |  453.00 |  659.00 | ⋯ |   43.00 |  384.00 |  483.00 |  483.00 | 1243.00 |  464.00 |  211.00 |  455.00 |  399.00 |  26.00 |\n",
       "\n"
      ],
      "text/plain": [
       "  ensembl            gene_symbol TARGET-30-PAPZYP-01A TARGET-30-PASWFB-01A\n",
       "1 ENSG00000000003.14 TSPAN6      1799.0               1837.00             \n",
       "2 ENSG00000000005.5  TNMD          60.0                  2.00             \n",
       "3 ENSG00000000419.12 DPM1        1482.0               1538.00             \n",
       "4 ENSG00000000457.13 SCYL3        884.3               1471.62             \n",
       "5 ENSG00000000460.16 C1orf112     802.7                986.38             \n",
       "6 ENSG00000000938.12 FGR          588.0                 64.00             \n",
       "  TARGET-30-PATINJ-01A TARGET-30-PATYIL-02A TARGET-30-PARZCJ-01A\n",
       "1 1795.00               702.02              1109.00             \n",
       "2    2.00                 6.00                 4.00             \n",
       "3 1607.00              1107.00              1381.00             \n",
       "4  851.33               564.82              1537.97             \n",
       "5  951.67               391.18               812.03             \n",
       "6  213.00                65.00              2190.00             \n",
       "  TARGET-30-PASNZU-01A TARGET-30-PASHFA-01A TARGET-30-PATAYJ-01A ⋯\n",
       "1 2637.00              2660.00              3018.00              ⋯\n",
       "2    1.00                10.00                 8.00              ⋯\n",
       "3 1524.00              1869.00              1509.00              ⋯\n",
       "4 1174.61              1105.35              2023.41              ⋯\n",
       "5  802.39               827.65              1402.59              ⋯\n",
       "6  106.00               453.00               659.00              ⋯\n",
       "  TARGET-30-PANUKV-01A TARGET-30-PASJZC-01A TARGET-30-PASGUT-01A\n",
       "1  446.00              3217.00              2344.00             \n",
       "2   12.00                 3.00                 2.00             \n",
       "3 1559.00              1774.00              1631.00             \n",
       "4 1068.84              2609.15              1687.94             \n",
       "5 1228.50              1014.85               962.06             \n",
       "6   43.00               384.00               483.00             \n",
       "  TARGET-30-PATEKG-01A TARGET-30-PAPUEB-01A TARGET-30-PANLET-01A\n",
       "1 1507.00              1395.00              1982.00             \n",
       "2   11.00                 8.00                 2.00             \n",
       "3 1376.00              1265.00              1588.00             \n",
       "4  760.11              1279.93              1563.58             \n",
       "5  307.89              1140.07              1104.42             \n",
       "6  483.00              1243.00               464.00             \n",
       "  TARGET-30-PANZRV-01A TARGET-30-PASXHE-01A TARGET-30-PAIPGU-01A\n",
       "1 1592.00               597.00               717.00             \n",
       "2    1.00                 8.00                 4.00             \n",
       "3 1168.00              2538.00              1180.00             \n",
       "4 1973.24              1681.22               370.51             \n",
       "5 1744.76              1297.78               303.49             \n",
       "6  211.00               455.00               399.00             \n",
       "  TARGET-30-PASXIE-01A\n",
       "1 545.00              \n",
       "2   2.00              \n",
       "3 787.00              \n",
       "4 484.75              \n",
       "5 551.25              \n",
       "6  26.00              "
      ]
     },
     "metadata": {},
     "output_type": "display_data"
    }
   ],
   "source": [
    "head(TARGET_count_matrix)"
   ]
  },
  {
   "cell_type": "code",
   "execution_count": 30,
   "metadata": {},
   "outputs": [
    {
     "name": "stderr",
     "output_type": "stream",
     "text": [
      "dimensions of exp_matrix: TARGET_count_matrix\n",
      "\n"
     ]
    },
    {
     "name": "stdout",
     "output_type": "stream",
     "text": [
      "[1] 60498   159\n"
     ]
    },
    {
     "name": "stderr",
     "output_type": "stream",
     "text": [
      "dimensions of estimate_manifest_df for: TARGET sample_type:Primary\n",
      "\n"
     ]
    },
    {
     "name": "stdout",
     "output_type": "stream",
     "text": [
      "[1] 149  23\n"
     ]
    },
    {
     "name": "stderr",
     "output_type": "stream",
     "text": [
      "dimensions of exp_matrix_matchingset for: TARGET_count_matrix with matching column: sample_id\n",
      "\n"
     ]
    },
    {
     "name": "stdout",
     "output_type": "stream",
     "text": [
      "[1] 60498   149\n"
     ]
    }
   ],
   "source": [
    "TARGET_count_matrix_primary <- matchexp_matrixfx(TARGET_count_matrix, estimate_manifest_primary_clean,\n",
    "                                              \"TARGET\", \"Primary\", \"sample_id\")"
   ]
  },
  {
   "cell_type": "code",
   "execution_count": 31,
   "metadata": {},
   "outputs": [
    {
     "data": {
      "text/html": [
       "<table class=\"dataframe\">\n",
       "<caption>A data.frame: 6 × 151</caption>\n",
       "<thead>\n",
       "\t<tr><th></th><th scope=col>ensembl</th><th scope=col>gene_symbol</th><th scope=col>TARGET-30-PAPZYP-01A</th><th scope=col>TARGET-30-PASWFB-01A</th><th scope=col>TARGET-30-PATINJ-01A</th><th scope=col>TARGET-30-PARZCJ-01A</th><th scope=col>TARGET-30-PASNZU-01A</th><th scope=col>TARGET-30-PASHFA-01A</th><th scope=col>TARGET-30-PATAYJ-01A</th><th scope=col>TARGET-30-PAPBGH-01A</th><th scope=col>⋯</th><th scope=col>TARGET-30-PANUKV-01A</th><th scope=col>TARGET-30-PASJZC-01A</th><th scope=col>TARGET-30-PASGUT-01A</th><th scope=col>TARGET-30-PATEKG-01A</th><th scope=col>TARGET-30-PAPUEB-01A</th><th scope=col>TARGET-30-PANLET-01A</th><th scope=col>TARGET-30-PANZRV-01A</th><th scope=col>TARGET-30-PASXHE-01A</th><th scope=col>TARGET-30-PAIPGU-01A</th><th scope=col>TARGET-30-PASXIE-01A</th></tr>\n",
       "\t<tr><th></th><th scope=col>&lt;chr&gt;</th><th scope=col>&lt;chr&gt;</th><th scope=col>&lt;dbl&gt;</th><th scope=col>&lt;dbl&gt;</th><th scope=col>&lt;dbl&gt;</th><th scope=col>&lt;dbl&gt;</th><th scope=col>&lt;dbl&gt;</th><th scope=col>&lt;dbl&gt;</th><th scope=col>&lt;dbl&gt;</th><th scope=col>&lt;dbl&gt;</th><th scope=col>⋯</th><th scope=col>&lt;dbl&gt;</th><th scope=col>&lt;dbl&gt;</th><th scope=col>&lt;dbl&gt;</th><th scope=col>&lt;dbl&gt;</th><th scope=col>&lt;dbl&gt;</th><th scope=col>&lt;dbl&gt;</th><th scope=col>&lt;dbl&gt;</th><th scope=col>&lt;dbl&gt;</th><th scope=col>&lt;dbl&gt;</th><th scope=col>&lt;dbl&gt;</th></tr>\n",
       "</thead>\n",
       "<tbody>\n",
       "\t<tr><th scope=row>1</th><td>ENSG00000000003.14</td><td>TSPAN6  </td><td>1799.0</td><td>1837.00</td><td>1795.00</td><td>1109.00</td><td>2637.00</td><td>2660.00</td><td>3018.00</td><td>1849.0</td><td>⋯</td><td> 446.00</td><td>3217.00</td><td>2344.00</td><td>1507.00</td><td>1395.00</td><td>1982.00</td><td>1592.00</td><td> 597.00</td><td> 717.00</td><td>545.00</td></tr>\n",
       "\t<tr><th scope=row>2</th><td>ENSG00000000005.5 </td><td>TNMD    </td><td>  60.0</td><td>   2.00</td><td>   2.00</td><td>   4.00</td><td>   1.00</td><td>  10.00</td><td>   8.00</td><td>   0.0</td><td>⋯</td><td>  12.00</td><td>   3.00</td><td>   2.00</td><td>  11.00</td><td>   8.00</td><td>   2.00</td><td>   1.00</td><td>   8.00</td><td>   4.00</td><td>  2.00</td></tr>\n",
       "\t<tr><th scope=row>3</th><td>ENSG00000000419.12</td><td>DPM1    </td><td>1482.0</td><td>1538.00</td><td>1607.00</td><td>1381.00</td><td>1524.00</td><td>1869.00</td><td>1509.00</td><td>1080.0</td><td>⋯</td><td>1559.00</td><td>1774.00</td><td>1631.00</td><td>1376.00</td><td>1265.00</td><td>1588.00</td><td>1168.00</td><td>2538.00</td><td>1180.00</td><td>787.00</td></tr>\n",
       "\t<tr><th scope=row>4</th><td>ENSG00000000457.13</td><td>SCYL3   </td><td> 884.3</td><td>1471.62</td><td> 851.33</td><td>1537.97</td><td>1174.61</td><td>1105.35</td><td>2023.41</td><td> 905.8</td><td>⋯</td><td>1068.84</td><td>2609.15</td><td>1687.94</td><td> 760.11</td><td>1279.93</td><td>1563.58</td><td>1973.24</td><td>1681.22</td><td> 370.51</td><td>484.75</td></tr>\n",
       "\t<tr><th scope=row>5</th><td>ENSG00000000460.16</td><td>C1orf112</td><td> 802.7</td><td> 986.38</td><td> 951.67</td><td> 812.03</td><td> 802.39</td><td> 827.65</td><td>1402.59</td><td> 888.2</td><td>⋯</td><td>1228.50</td><td>1014.85</td><td> 962.06</td><td> 307.89</td><td>1140.07</td><td>1104.42</td><td>1744.76</td><td>1297.78</td><td> 303.49</td><td>551.25</td></tr>\n",
       "\t<tr><th scope=row>6</th><td>ENSG00000000938.12</td><td>FGR     </td><td> 588.0</td><td>  64.00</td><td> 213.00</td><td>2190.00</td><td> 106.00</td><td> 453.00</td><td> 659.00</td><td>  96.0</td><td>⋯</td><td>  43.00</td><td> 384.00</td><td> 483.00</td><td> 483.00</td><td>1243.00</td><td> 464.00</td><td> 211.00</td><td> 455.00</td><td> 399.00</td><td> 26.00</td></tr>\n",
       "</tbody>\n",
       "</table>\n"
      ],
      "text/latex": [
       "A data.frame: 6 × 151\n",
       "\\begin{tabular}{r|lllllllllllllllllllll}\n",
       "  & ensembl & gene\\_symbol & TARGET-30-PAPZYP-01A & TARGET-30-PASWFB-01A & TARGET-30-PATINJ-01A & TARGET-30-PARZCJ-01A & TARGET-30-PASNZU-01A & TARGET-30-PASHFA-01A & TARGET-30-PATAYJ-01A & TARGET-30-PAPBGH-01A & ⋯ & TARGET-30-PANUKV-01A & TARGET-30-PASJZC-01A & TARGET-30-PASGUT-01A & TARGET-30-PATEKG-01A & TARGET-30-PAPUEB-01A & TARGET-30-PANLET-01A & TARGET-30-PANZRV-01A & TARGET-30-PASXHE-01A & TARGET-30-PAIPGU-01A & TARGET-30-PASXIE-01A\\\\\n",
       "  & <chr> & <chr> & <dbl> & <dbl> & <dbl> & <dbl> & <dbl> & <dbl> & <dbl> & <dbl> & ⋯ & <dbl> & <dbl> & <dbl> & <dbl> & <dbl> & <dbl> & <dbl> & <dbl> & <dbl> & <dbl>\\\\\n",
       "\\hline\n",
       "\t1 & ENSG00000000003.14 & TSPAN6   & 1799.0 & 1837.00 & 1795.00 & 1109.00 & 2637.00 & 2660.00 & 3018.00 & 1849.0 & ⋯ &  446.00 & 3217.00 & 2344.00 & 1507.00 & 1395.00 & 1982.00 & 1592.00 &  597.00 &  717.00 & 545.00\\\\\n",
       "\t2 & ENSG00000000005.5  & TNMD     &   60.0 &    2.00 &    2.00 &    4.00 &    1.00 &   10.00 &    8.00 &    0.0 & ⋯ &   12.00 &    3.00 &    2.00 &   11.00 &    8.00 &    2.00 &    1.00 &    8.00 &    4.00 &   2.00\\\\\n",
       "\t3 & ENSG00000000419.12 & DPM1     & 1482.0 & 1538.00 & 1607.00 & 1381.00 & 1524.00 & 1869.00 & 1509.00 & 1080.0 & ⋯ & 1559.00 & 1774.00 & 1631.00 & 1376.00 & 1265.00 & 1588.00 & 1168.00 & 2538.00 & 1180.00 & 787.00\\\\\n",
       "\t4 & ENSG00000000457.13 & SCYL3    &  884.3 & 1471.62 &  851.33 & 1537.97 & 1174.61 & 1105.35 & 2023.41 &  905.8 & ⋯ & 1068.84 & 2609.15 & 1687.94 &  760.11 & 1279.93 & 1563.58 & 1973.24 & 1681.22 &  370.51 & 484.75\\\\\n",
       "\t5 & ENSG00000000460.16 & C1orf112 &  802.7 &  986.38 &  951.67 &  812.03 &  802.39 &  827.65 & 1402.59 &  888.2 & ⋯ & 1228.50 & 1014.85 &  962.06 &  307.89 & 1140.07 & 1104.42 & 1744.76 & 1297.78 &  303.49 & 551.25\\\\\n",
       "\t6 & ENSG00000000938.12 & FGR      &  588.0 &   64.00 &  213.00 & 2190.00 &  106.00 &  453.00 &  659.00 &   96.0 & ⋯ &   43.00 &  384.00 &  483.00 &  483.00 & 1243.00 &  464.00 &  211.00 &  455.00 &  399.00 &  26.00\\\\\n",
       "\\end{tabular}\n"
      ],
      "text/markdown": [
       "\n",
       "A data.frame: 6 × 151\n",
       "\n",
       "| <!--/--> | ensembl &lt;chr&gt; | gene_symbol &lt;chr&gt; | TARGET-30-PAPZYP-01A &lt;dbl&gt; | TARGET-30-PASWFB-01A &lt;dbl&gt; | TARGET-30-PATINJ-01A &lt;dbl&gt; | TARGET-30-PARZCJ-01A &lt;dbl&gt; | TARGET-30-PASNZU-01A &lt;dbl&gt; | TARGET-30-PASHFA-01A &lt;dbl&gt; | TARGET-30-PATAYJ-01A &lt;dbl&gt; | TARGET-30-PAPBGH-01A &lt;dbl&gt; | ⋯ ⋯ | TARGET-30-PANUKV-01A &lt;dbl&gt; | TARGET-30-PASJZC-01A &lt;dbl&gt; | TARGET-30-PASGUT-01A &lt;dbl&gt; | TARGET-30-PATEKG-01A &lt;dbl&gt; | TARGET-30-PAPUEB-01A &lt;dbl&gt; | TARGET-30-PANLET-01A &lt;dbl&gt; | TARGET-30-PANZRV-01A &lt;dbl&gt; | TARGET-30-PASXHE-01A &lt;dbl&gt; | TARGET-30-PAIPGU-01A &lt;dbl&gt; | TARGET-30-PASXIE-01A &lt;dbl&gt; |\n",
       "|---|---|---|---|---|---|---|---|---|---|---|---|---|---|---|---|---|---|---|---|---|---|\n",
       "| 1 | ENSG00000000003.14 | TSPAN6   | 1799.0 | 1837.00 | 1795.00 | 1109.00 | 2637.00 | 2660.00 | 3018.00 | 1849.0 | ⋯ |  446.00 | 3217.00 | 2344.00 | 1507.00 | 1395.00 | 1982.00 | 1592.00 |  597.00 |  717.00 | 545.00 |\n",
       "| 2 | ENSG00000000005.5  | TNMD     |   60.0 |    2.00 |    2.00 |    4.00 |    1.00 |   10.00 |    8.00 |    0.0 | ⋯ |   12.00 |    3.00 |    2.00 |   11.00 |    8.00 |    2.00 |    1.00 |    8.00 |    4.00 |   2.00 |\n",
       "| 3 | ENSG00000000419.12 | DPM1     | 1482.0 | 1538.00 | 1607.00 | 1381.00 | 1524.00 | 1869.00 | 1509.00 | 1080.0 | ⋯ | 1559.00 | 1774.00 | 1631.00 | 1376.00 | 1265.00 | 1588.00 | 1168.00 | 2538.00 | 1180.00 | 787.00 |\n",
       "| 4 | ENSG00000000457.13 | SCYL3    |  884.3 | 1471.62 |  851.33 | 1537.97 | 1174.61 | 1105.35 | 2023.41 |  905.8 | ⋯ | 1068.84 | 2609.15 | 1687.94 |  760.11 | 1279.93 | 1563.58 | 1973.24 | 1681.22 |  370.51 | 484.75 |\n",
       "| 5 | ENSG00000000460.16 | C1orf112 |  802.7 |  986.38 |  951.67 |  812.03 |  802.39 |  827.65 | 1402.59 |  888.2 | ⋯ | 1228.50 | 1014.85 |  962.06 |  307.89 | 1140.07 | 1104.42 | 1744.76 | 1297.78 |  303.49 | 551.25 |\n",
       "| 6 | ENSG00000000938.12 | FGR      |  588.0 |   64.00 |  213.00 | 2190.00 |  106.00 |  453.00 |  659.00 |   96.0 | ⋯ |   43.00 |  384.00 |  483.00 |  483.00 | 1243.00 |  464.00 |  211.00 |  455.00 |  399.00 |  26.00 |\n",
       "\n"
      ],
      "text/plain": [
       "  ensembl            gene_symbol TARGET-30-PAPZYP-01A TARGET-30-PASWFB-01A\n",
       "1 ENSG00000000003.14 TSPAN6      1799.0               1837.00             \n",
       "2 ENSG00000000005.5  TNMD          60.0                  2.00             \n",
       "3 ENSG00000000419.12 DPM1        1482.0               1538.00             \n",
       "4 ENSG00000000457.13 SCYL3        884.3               1471.62             \n",
       "5 ENSG00000000460.16 C1orf112     802.7                986.38             \n",
       "6 ENSG00000000938.12 FGR          588.0                 64.00             \n",
       "  TARGET-30-PATINJ-01A TARGET-30-PARZCJ-01A TARGET-30-PASNZU-01A\n",
       "1 1795.00              1109.00              2637.00             \n",
       "2    2.00                 4.00                 1.00             \n",
       "3 1607.00              1381.00              1524.00             \n",
       "4  851.33              1537.97              1174.61             \n",
       "5  951.67               812.03               802.39             \n",
       "6  213.00              2190.00               106.00             \n",
       "  TARGET-30-PASHFA-01A TARGET-30-PATAYJ-01A TARGET-30-PAPBGH-01A ⋯\n",
       "1 2660.00              3018.00              1849.0               ⋯\n",
       "2   10.00                 8.00                 0.0               ⋯\n",
       "3 1869.00              1509.00              1080.0               ⋯\n",
       "4 1105.35              2023.41               905.8               ⋯\n",
       "5  827.65              1402.59               888.2               ⋯\n",
       "6  453.00               659.00                96.0               ⋯\n",
       "  TARGET-30-PANUKV-01A TARGET-30-PASJZC-01A TARGET-30-PASGUT-01A\n",
       "1  446.00              3217.00              2344.00             \n",
       "2   12.00                 3.00                 2.00             \n",
       "3 1559.00              1774.00              1631.00             \n",
       "4 1068.84              2609.15              1687.94             \n",
       "5 1228.50              1014.85               962.06             \n",
       "6   43.00               384.00               483.00             \n",
       "  TARGET-30-PATEKG-01A TARGET-30-PAPUEB-01A TARGET-30-PANLET-01A\n",
       "1 1507.00              1395.00              1982.00             \n",
       "2   11.00                 8.00                 2.00             \n",
       "3 1376.00              1265.00              1588.00             \n",
       "4  760.11              1279.93              1563.58             \n",
       "5  307.89              1140.07              1104.42             \n",
       "6  483.00              1243.00               464.00             \n",
       "  TARGET-30-PANZRV-01A TARGET-30-PASXHE-01A TARGET-30-PAIPGU-01A\n",
       "1 1592.00               597.00               717.00             \n",
       "2    1.00                 8.00                 4.00             \n",
       "3 1168.00              2538.00              1180.00             \n",
       "4 1973.24              1681.22               370.51             \n",
       "5 1744.76              1297.78               303.49             \n",
       "6  211.00               455.00               399.00             \n",
       "  TARGET-30-PASXIE-01A\n",
       "1 545.00              \n",
       "2   2.00              \n",
       "3 787.00              \n",
       "4 484.75              \n",
       "5 551.25              \n",
       "6  26.00              "
      ]
     },
     "metadata": {},
     "output_type": "display_data"
    }
   ],
   "source": [
    "head(TARGET_count_matrix_primary)"
   ]
  },
  {
   "cell_type": "markdown",
   "metadata": {},
   "source": [
    "Remove duplicated genes"
   ]
  },
  {
   "cell_type": "code",
   "execution_count": 32,
   "metadata": {},
   "outputs": [],
   "source": [
    "TARGET_count_matrix_primary_dedup <- TARGET_count_matrix_primary[!duplicated(TARGET_count_matrix_primary$gene_symbol),]"
   ]
  },
  {
   "cell_type": "code",
   "execution_count": 33,
   "metadata": {},
   "outputs": [],
   "source": [
    "save(TARGET_count_matrix_primary_dedup,\n",
    "         file = paste0(datapath, \"exp_mat/TARGET_count_matrix_primary_dedup.RData\"))"
   ]
  },
  {
   "cell_type": "code",
   "execution_count": 34,
   "metadata": {},
   "outputs": [],
   "source": [
    "write.table(TARGET_count_matrix_primary_dedup,\n",
    "            file = paste0(datapath, \"exp_mat/TARGET_count_matrix_primary_dedup.txt\"),\n",
    "                sep = \"\\t\", quote = F, row.names = F)"
   ]
  },
  {
   "cell_type": "markdown",
   "metadata": {},
   "source": [
    "## ICGC"
   ]
  },
  {
   "cell_type": "code",
   "execution_count": 35,
   "metadata": {},
   "outputs": [],
   "source": [
    "dkfz_count_matrix <- read.table(file = paste0(datapath,\"exp_mat/ICGC.counts.matrix.txt\"),\n",
    "                                sep = \"\\t\", header = TRUE, stringsAsFactors = FALSE, check.names = F)"
   ]
  },
  {
   "cell_type": "code",
   "execution_count": 36,
   "metadata": {
    "scrolled": true
   },
   "outputs": [
    {
     "data": {
      "text/html": [
       "<table class=\"dataframe\">\n",
       "<caption>A data.frame: 6 × 200</caption>\n",
       "<thead>\n",
       "\t<tr><th></th><th scope=col></th><th scope=col>H049-0CWK.genes.results</th><th scope=col>H049-7SD3.genes.results</th><th scope=col>H049-FG38.genes.results</th><th scope=col>H049-GP41.genes.results</th><th scope=col>H049-GWNW.genes.results</th><th scope=col>H049-JVCT.genes.results</th><th scope=col>H049-PF1J.genes.results</th><th scope=col>H049-UV6K.genes.results</th><th scope=col>H049-WB9V.genes.results</th><th scope=col>⋯</th><th scope=col>ICGC_PA89.genes.results</th><th scope=col>ICGC_PA9.genes.results</th><th scope=col>ICGC_PA91.genes.results</th><th scope=col>ICGC_PA92.genes.results</th><th scope=col>ICGC_PA93.genes.results</th><th scope=col>ICGC_PA94.genes.results</th><th scope=col>ICGC_PA95.genes.results</th><th scope=col>ICGC_PA96.genes.results</th><th scope=col>ICGC_PA97.genes.results</th><th scope=col>ICGC_PA99.genes.results</th></tr>\n",
       "\t<tr><th></th><th scope=col>&lt;chr&gt;</th><th scope=col>&lt;dbl&gt;</th><th scope=col>&lt;dbl&gt;</th><th scope=col>&lt;dbl&gt;</th><th scope=col>&lt;dbl&gt;</th><th scope=col>&lt;dbl&gt;</th><th scope=col>&lt;dbl&gt;</th><th scope=col>&lt;dbl&gt;</th><th scope=col>&lt;dbl&gt;</th><th scope=col>&lt;dbl&gt;</th><th scope=col>⋯</th><th scope=col>&lt;dbl&gt;</th><th scope=col>&lt;dbl&gt;</th><th scope=col>&lt;dbl&gt;</th><th scope=col>&lt;dbl&gt;</th><th scope=col>&lt;dbl&gt;</th><th scope=col>&lt;dbl&gt;</th><th scope=col>&lt;dbl&gt;</th><th scope=col>&lt;dbl&gt;</th><th scope=col>&lt;dbl&gt;</th><th scope=col>&lt;dbl&gt;</th></tr>\n",
       "</thead>\n",
       "<tbody>\n",
       "\t<tr><th scope=row>1</th><td>ENSG00000000003.14</td><td>920.00</td><td>7138.00</td><td>2435.0</td><td>7404.00</td><td>5190.00</td><td>9304.00</td><td>8256.00</td><td> 952.00</td><td>1883.00</td><td>⋯</td><td>4290.00</td><td>2705.00</td><td>1654.00</td><td>1597.00</td><td>6055.0</td><td>1177.00</td><td>1257.00</td><td>1079.00</td><td>1125.00</td><td>1358.00</td></tr>\n",
       "\t<tr><th scope=row>2</th><td>ENSG00000000005.6 </td><td>  6.00</td><td>1572.00</td><td>  37.0</td><td>  16.00</td><td> 121.00</td><td>  11.00</td><td> 729.00</td><td>   8.00</td><td>   3.00</td><td>⋯</td><td>   7.00</td><td>   1.00</td><td>   7.00</td><td>   4.00</td><td>   7.0</td><td>   3.00</td><td>   3.00</td><td>   1.00</td><td>   3.00</td><td>   2.00</td></tr>\n",
       "\t<tr><th scope=row>3</th><td>ENSG00000000419.12</td><td>399.00</td><td>1290.00</td><td>1181.0</td><td>1197.00</td><td>2052.00</td><td>4103.00</td><td>1872.00</td><td>1083.00</td><td>1039.00</td><td>⋯</td><td>1034.00</td><td> 351.00</td><td> 526.00</td><td> 456.00</td><td> 858.0</td><td> 199.00</td><td> 279.00</td><td> 296.00</td><td> 239.00</td><td> 311.00</td></tr>\n",
       "\t<tr><th scope=row>4</th><td>ENSG00000000457.14</td><td>201.32</td><td>1009.48</td><td> 576.7</td><td> 748.49</td><td> 650.82</td><td>1586.39</td><td>1439.19</td><td> 473.15</td><td> 504.74</td><td>⋯</td><td>1300.26</td><td> 447.57</td><td> 596.54</td><td> 533.35</td><td>1153.6</td><td> 335.25</td><td> 346.51</td><td> 374.04</td><td> 357.95</td><td> 391.74</td></tr>\n",
       "\t<tr><th scope=row>5</th><td>ENSG00000000460.17</td><td>267.68</td><td> 318.52</td><td> 150.3</td><td> 382.51</td><td> 627.18</td><td>1562.61</td><td> 367.81</td><td> 367.85</td><td> 406.26</td><td>⋯</td><td> 289.74</td><td> 208.43</td><td> 296.46</td><td> 172.65</td><td> 558.4</td><td> 114.75</td><td> 130.49</td><td> 155.96</td><td> 111.05</td><td> 156.26</td></tr>\n",
       "\t<tr><th scope=row>6</th><td>ENSG00000000938.13</td><td>214.00</td><td>1404.00</td><td>  86.0</td><td> 152.00</td><td> 299.00</td><td> 590.00</td><td> 352.00</td><td> 385.00</td><td> 194.00</td><td>⋯</td><td> 212.00</td><td>  89.00</td><td> 139.00</td><td> 122.00</td><td> 318.0</td><td>  56.00</td><td>  45.00</td><td>  96.00</td><td>  79.00</td><td>  76.00</td></tr>\n",
       "</tbody>\n",
       "</table>\n"
      ],
      "text/latex": [
       "A data.frame: 6 × 200\n",
       "\\begin{tabular}{r|lllllllllllllllllllll}\n",
       "  &  & H049-0CWK.genes.results & H049-7SD3.genes.results & H049-FG38.genes.results & H049-GP41.genes.results & H049-GWNW.genes.results & H049-JVCT.genes.results & H049-PF1J.genes.results & H049-UV6K.genes.results & H049-WB9V.genes.results & ⋯ & ICGC\\_PA89.genes.results & ICGC\\_PA9.genes.results & ICGC\\_PA91.genes.results & ICGC\\_PA92.genes.results & ICGC\\_PA93.genes.results & ICGC\\_PA94.genes.results & ICGC\\_PA95.genes.results & ICGC\\_PA96.genes.results & ICGC\\_PA97.genes.results & ICGC\\_PA99.genes.results\\\\\n",
       "  & <chr> & <dbl> & <dbl> & <dbl> & <dbl> & <dbl> & <dbl> & <dbl> & <dbl> & <dbl> & ⋯ & <dbl> & <dbl> & <dbl> & <dbl> & <dbl> & <dbl> & <dbl> & <dbl> & <dbl> & <dbl>\\\\\n",
       "\\hline\n",
       "\t1 & ENSG00000000003.14 & 920.00 & 7138.00 & 2435.0 & 7404.00 & 5190.00 & 9304.00 & 8256.00 &  952.00 & 1883.00 & ⋯ & 4290.00 & 2705.00 & 1654.00 & 1597.00 & 6055.0 & 1177.00 & 1257.00 & 1079.00 & 1125.00 & 1358.00\\\\\n",
       "\t2 & ENSG00000000005.6  &   6.00 & 1572.00 &   37.0 &   16.00 &  121.00 &   11.00 &  729.00 &    8.00 &    3.00 & ⋯ &    7.00 &    1.00 &    7.00 &    4.00 &    7.0 &    3.00 &    3.00 &    1.00 &    3.00 &    2.00\\\\\n",
       "\t3 & ENSG00000000419.12 & 399.00 & 1290.00 & 1181.0 & 1197.00 & 2052.00 & 4103.00 & 1872.00 & 1083.00 & 1039.00 & ⋯ & 1034.00 &  351.00 &  526.00 &  456.00 &  858.0 &  199.00 &  279.00 &  296.00 &  239.00 &  311.00\\\\\n",
       "\t4 & ENSG00000000457.14 & 201.32 & 1009.48 &  576.7 &  748.49 &  650.82 & 1586.39 & 1439.19 &  473.15 &  504.74 & ⋯ & 1300.26 &  447.57 &  596.54 &  533.35 & 1153.6 &  335.25 &  346.51 &  374.04 &  357.95 &  391.74\\\\\n",
       "\t5 & ENSG00000000460.17 & 267.68 &  318.52 &  150.3 &  382.51 &  627.18 & 1562.61 &  367.81 &  367.85 &  406.26 & ⋯ &  289.74 &  208.43 &  296.46 &  172.65 &  558.4 &  114.75 &  130.49 &  155.96 &  111.05 &  156.26\\\\\n",
       "\t6 & ENSG00000000938.13 & 214.00 & 1404.00 &   86.0 &  152.00 &  299.00 &  590.00 &  352.00 &  385.00 &  194.00 & ⋯ &  212.00 &   89.00 &  139.00 &  122.00 &  318.0 &   56.00 &   45.00 &   96.00 &   79.00 &   76.00\\\\\n",
       "\\end{tabular}\n"
      ],
      "text/markdown": [
       "\n",
       "A data.frame: 6 × 200\n",
       "\n",
       "| <!--/--> | <!----> &lt;chr&gt; | H049-0CWK.genes.results &lt;dbl&gt; | H049-7SD3.genes.results &lt;dbl&gt; | H049-FG38.genes.results &lt;dbl&gt; | H049-GP41.genes.results &lt;dbl&gt; | H049-GWNW.genes.results &lt;dbl&gt; | H049-JVCT.genes.results &lt;dbl&gt; | H049-PF1J.genes.results &lt;dbl&gt; | H049-UV6K.genes.results &lt;dbl&gt; | H049-WB9V.genes.results &lt;dbl&gt; | ⋯ ⋯ | ICGC_PA89.genes.results &lt;dbl&gt; | ICGC_PA9.genes.results &lt;dbl&gt; | ICGC_PA91.genes.results &lt;dbl&gt; | ICGC_PA92.genes.results &lt;dbl&gt; | ICGC_PA93.genes.results &lt;dbl&gt; | ICGC_PA94.genes.results &lt;dbl&gt; | ICGC_PA95.genes.results &lt;dbl&gt; | ICGC_PA96.genes.results &lt;dbl&gt; | ICGC_PA97.genes.results &lt;dbl&gt; | ICGC_PA99.genes.results &lt;dbl&gt; |\n",
       "|---|---|---|---|---|---|---|---|---|---|---|---|---|---|---|---|---|---|---|---|---|---|\n",
       "| 1 | ENSG00000000003.14 | 920.00 | 7138.00 | 2435.0 | 7404.00 | 5190.00 | 9304.00 | 8256.00 |  952.00 | 1883.00 | ⋯ | 4290.00 | 2705.00 | 1654.00 | 1597.00 | 6055.0 | 1177.00 | 1257.00 | 1079.00 | 1125.00 | 1358.00 |\n",
       "| 2 | ENSG00000000005.6  |   6.00 | 1572.00 |   37.0 |   16.00 |  121.00 |   11.00 |  729.00 |    8.00 |    3.00 | ⋯ |    7.00 |    1.00 |    7.00 |    4.00 |    7.0 |    3.00 |    3.00 |    1.00 |    3.00 |    2.00 |\n",
       "| 3 | ENSG00000000419.12 | 399.00 | 1290.00 | 1181.0 | 1197.00 | 2052.00 | 4103.00 | 1872.00 | 1083.00 | 1039.00 | ⋯ | 1034.00 |  351.00 |  526.00 |  456.00 |  858.0 |  199.00 |  279.00 |  296.00 |  239.00 |  311.00 |\n",
       "| 4 | ENSG00000000457.14 | 201.32 | 1009.48 |  576.7 |  748.49 |  650.82 | 1586.39 | 1439.19 |  473.15 |  504.74 | ⋯ | 1300.26 |  447.57 |  596.54 |  533.35 | 1153.6 |  335.25 |  346.51 |  374.04 |  357.95 |  391.74 |\n",
       "| 5 | ENSG00000000460.17 | 267.68 |  318.52 |  150.3 |  382.51 |  627.18 | 1562.61 |  367.81 |  367.85 |  406.26 | ⋯ |  289.74 |  208.43 |  296.46 |  172.65 |  558.4 |  114.75 |  130.49 |  155.96 |  111.05 |  156.26 |\n",
       "| 6 | ENSG00000000938.13 | 214.00 | 1404.00 |   86.0 |  152.00 |  299.00 |  590.00 |  352.00 |  385.00 |  194.00 | ⋯ |  212.00 |   89.00 |  139.00 |  122.00 |  318.0 |   56.00 |   45.00 |   96.00 |   79.00 |   76.00 |\n",
       "\n"
      ],
      "text/plain": [
       "                     H049-0CWK.genes.results H049-7SD3.genes.results\n",
       "1 ENSG00000000003.14 920.00                  7138.00                \n",
       "2 ENSG00000000005.6    6.00                  1572.00                \n",
       "3 ENSG00000000419.12 399.00                  1290.00                \n",
       "4 ENSG00000000457.14 201.32                  1009.48                \n",
       "5 ENSG00000000460.17 267.68                   318.52                \n",
       "6 ENSG00000000938.13 214.00                  1404.00                \n",
       "  H049-FG38.genes.results H049-GP41.genes.results H049-GWNW.genes.results\n",
       "1 2435.0                  7404.00                 5190.00                \n",
       "2   37.0                    16.00                  121.00                \n",
       "3 1181.0                  1197.00                 2052.00                \n",
       "4  576.7                   748.49                  650.82                \n",
       "5  150.3                   382.51                  627.18                \n",
       "6   86.0                   152.00                  299.00                \n",
       "  H049-JVCT.genes.results H049-PF1J.genes.results H049-UV6K.genes.results\n",
       "1 9304.00                 8256.00                  952.00                \n",
       "2   11.00                  729.00                    8.00                \n",
       "3 4103.00                 1872.00                 1083.00                \n",
       "4 1586.39                 1439.19                  473.15                \n",
       "5 1562.61                  367.81                  367.85                \n",
       "6  590.00                  352.00                  385.00                \n",
       "  H049-WB9V.genes.results ⋯ ICGC_PA89.genes.results ICGC_PA9.genes.results\n",
       "1 1883.00                 ⋯ 4290.00                 2705.00               \n",
       "2    3.00                 ⋯    7.00                    1.00               \n",
       "3 1039.00                 ⋯ 1034.00                  351.00               \n",
       "4  504.74                 ⋯ 1300.26                  447.57               \n",
       "5  406.26                 ⋯  289.74                  208.43               \n",
       "6  194.00                 ⋯  212.00                   89.00               \n",
       "  ICGC_PA91.genes.results ICGC_PA92.genes.results ICGC_PA93.genes.results\n",
       "1 1654.00                 1597.00                 6055.0                 \n",
       "2    7.00                    4.00                    7.0                 \n",
       "3  526.00                  456.00                  858.0                 \n",
       "4  596.54                  533.35                 1153.6                 \n",
       "5  296.46                  172.65                  558.4                 \n",
       "6  139.00                  122.00                  318.0                 \n",
       "  ICGC_PA94.genes.results ICGC_PA95.genes.results ICGC_PA96.genes.results\n",
       "1 1177.00                 1257.00                 1079.00                \n",
       "2    3.00                    3.00                    1.00                \n",
       "3  199.00                  279.00                  296.00                \n",
       "4  335.25                  346.51                  374.04                \n",
       "5  114.75                  130.49                  155.96                \n",
       "6   56.00                   45.00                   96.00                \n",
       "  ICGC_PA97.genes.results ICGC_PA99.genes.results\n",
       "1 1125.00                 1358.00                \n",
       "2    3.00                    2.00                \n",
       "3  239.00                  311.00                \n",
       "4  357.95                  391.74                \n",
       "5  111.05                  156.26                \n",
       "6   79.00                   76.00                "
      ]
     },
     "metadata": {},
     "output_type": "display_data"
    }
   ],
   "source": [
    "head(dkfz_count_matrix)"
   ]
  },
  {
   "cell_type": "code",
   "execution_count": 37,
   "metadata": {},
   "outputs": [
    {
     "data": {
      "text/html": [
       "<style>\n",
       ".list-inline {list-style: none; margin:0; padding: 0}\n",
       ".list-inline>li {display: inline-block}\n",
       ".list-inline>li:not(:last-child)::after {content: \"\\00b7\"; padding: 0 .5ex}\n",
       "</style>\n",
       "<ol class=list-inline><li>60603</li><li>200</li></ol>\n"
      ],
      "text/latex": [
       "\\begin{enumerate*}\n",
       "\\item 60603\n",
       "\\item 200\n",
       "\\end{enumerate*}\n"
      ],
      "text/markdown": [
       "1. 60603\n",
       "2. 200\n",
       "\n",
       "\n"
      ],
      "text/plain": [
       "[1] 60603   200"
      ]
     },
     "metadata": {},
     "output_type": "display_data"
    }
   ],
   "source": [
    "dim(dkfz_count_matrix)"
   ]
  },
  {
   "cell_type": "code",
   "execution_count": 38,
   "metadata": {},
   "outputs": [],
   "source": [
    "colnames(dkfz_count_matrix)[1] <- \"ensembl\""
   ]
  },
  {
   "cell_type": "code",
   "execution_count": 39,
   "metadata": {},
   "outputs": [],
   "source": [
    "ensg_hgnc <- read.table(file = paste0(datapath,\"rsem/DKFZ/Immuno/hg38_gencode.v31.annotation.transcript_gene_exon_UTR_CDS_ICGC.txt\"),\n",
    "                  sep = \"t\", header = F, stringsAsFactors = FALSE)"
   ]
  },
  {
   "cell_type": "code",
   "execution_count": 40,
   "metadata": {},
   "outputs": [],
   "source": [
    "ensg2hugo <- match(dkfz_count_matrix$ensembl, ensg_hgnc$V1)\n",
    "dkfz_count_matrix$hgnc_symbol <- trimws(ensg_hgnc$V2[ensg2hugo])"
   ]
  },
  {
   "cell_type": "code",
   "execution_count": 41,
   "metadata": {},
   "outputs": [],
   "source": [
    "colnames(dkfz_count_matrix) <- gsub(\".genes.results\", \"\", colnames(dkfz_count_matrix))\n",
    "colnames(dkfz_count_matrix) <- gsub(\"[.]\", \"-\", colnames(dkfz_count_matrix))"
   ]
  },
  {
   "cell_type": "code",
   "execution_count": 42,
   "metadata": {},
   "outputs": [
    {
     "data": {
      "text/html": [
       "<table class=\"dataframe\">\n",
       "<caption>A data.frame: 6 × 201</caption>\n",
       "<thead>\n",
       "\t<tr><th></th><th scope=col>ensembl</th><th scope=col>H049-0CWK</th><th scope=col>H049-7SD3</th><th scope=col>H049-FG38</th><th scope=col>H049-GP41</th><th scope=col>H049-GWNW</th><th scope=col>H049-JVCT</th><th scope=col>H049-PF1J</th><th scope=col>H049-UV6K</th><th scope=col>H049-WB9V</th><th scope=col>⋯</th><th scope=col>ICGC_PA9</th><th scope=col>ICGC_PA91</th><th scope=col>ICGC_PA92</th><th scope=col>ICGC_PA93</th><th scope=col>ICGC_PA94</th><th scope=col>ICGC_PA95</th><th scope=col>ICGC_PA96</th><th scope=col>ICGC_PA97</th><th scope=col>ICGC_PA99</th><th scope=col>hgnc_symbol</th></tr>\n",
       "\t<tr><th></th><th scope=col>&lt;chr&gt;</th><th scope=col>&lt;dbl&gt;</th><th scope=col>&lt;dbl&gt;</th><th scope=col>&lt;dbl&gt;</th><th scope=col>&lt;dbl&gt;</th><th scope=col>&lt;dbl&gt;</th><th scope=col>&lt;dbl&gt;</th><th scope=col>&lt;dbl&gt;</th><th scope=col>&lt;dbl&gt;</th><th scope=col>&lt;dbl&gt;</th><th scope=col>⋯</th><th scope=col>&lt;dbl&gt;</th><th scope=col>&lt;dbl&gt;</th><th scope=col>&lt;dbl&gt;</th><th scope=col>&lt;dbl&gt;</th><th scope=col>&lt;dbl&gt;</th><th scope=col>&lt;dbl&gt;</th><th scope=col>&lt;dbl&gt;</th><th scope=col>&lt;dbl&gt;</th><th scope=col>&lt;dbl&gt;</th><th scope=col>&lt;chr&gt;</th></tr>\n",
       "</thead>\n",
       "<tbody>\n",
       "\t<tr><th scope=row>1</th><td>ENSG00000000003.14</td><td>920.00</td><td>7138.00</td><td>2435.0</td><td>7404.00</td><td>5190.00</td><td>9304.00</td><td>8256.00</td><td> 952.00</td><td>1883.00</td><td>⋯</td><td>2705.00</td><td>1654.00</td><td>1597.00</td><td>6055.0</td><td>1177.00</td><td>1257.00</td><td>1079.00</td><td>1125.00</td><td>1358.00</td><td>TSPAN6  </td></tr>\n",
       "\t<tr><th scope=row>2</th><td>ENSG00000000005.6 </td><td>  6.00</td><td>1572.00</td><td>  37.0</td><td>  16.00</td><td> 121.00</td><td>  11.00</td><td> 729.00</td><td>   8.00</td><td>   3.00</td><td>⋯</td><td>   1.00</td><td>   7.00</td><td>   4.00</td><td>   7.0</td><td>   3.00</td><td>   3.00</td><td>   1.00</td><td>   3.00</td><td>   2.00</td><td>TNMD    </td></tr>\n",
       "\t<tr><th scope=row>3</th><td>ENSG00000000419.12</td><td>399.00</td><td>1290.00</td><td>1181.0</td><td>1197.00</td><td>2052.00</td><td>4103.00</td><td>1872.00</td><td>1083.00</td><td>1039.00</td><td>⋯</td><td> 351.00</td><td> 526.00</td><td> 456.00</td><td> 858.0</td><td> 199.00</td><td> 279.00</td><td> 296.00</td><td> 239.00</td><td> 311.00</td><td>DPM1    </td></tr>\n",
       "\t<tr><th scope=row>4</th><td>ENSG00000000457.14</td><td>201.32</td><td>1009.48</td><td> 576.7</td><td> 748.49</td><td> 650.82</td><td>1586.39</td><td>1439.19</td><td> 473.15</td><td> 504.74</td><td>⋯</td><td> 447.57</td><td> 596.54</td><td> 533.35</td><td>1153.6</td><td> 335.25</td><td> 346.51</td><td> 374.04</td><td> 357.95</td><td> 391.74</td><td>SCYL3   </td></tr>\n",
       "\t<tr><th scope=row>5</th><td>ENSG00000000460.17</td><td>267.68</td><td> 318.52</td><td> 150.3</td><td> 382.51</td><td> 627.18</td><td>1562.61</td><td> 367.81</td><td> 367.85</td><td> 406.26</td><td>⋯</td><td> 208.43</td><td> 296.46</td><td> 172.65</td><td> 558.4</td><td> 114.75</td><td> 130.49</td><td> 155.96</td><td> 111.05</td><td> 156.26</td><td>C1orf112</td></tr>\n",
       "\t<tr><th scope=row>6</th><td>ENSG00000000938.13</td><td>214.00</td><td>1404.00</td><td>  86.0</td><td> 152.00</td><td> 299.00</td><td> 590.00</td><td> 352.00</td><td> 385.00</td><td> 194.00</td><td>⋯</td><td>  89.00</td><td> 139.00</td><td> 122.00</td><td> 318.0</td><td>  56.00</td><td>  45.00</td><td>  96.00</td><td>  79.00</td><td>  76.00</td><td>FGR     </td></tr>\n",
       "</tbody>\n",
       "</table>\n"
      ],
      "text/latex": [
       "A data.frame: 6 × 201\n",
       "\\begin{tabular}{r|lllllllllllllllllllll}\n",
       "  & ensembl & H049-0CWK & H049-7SD3 & H049-FG38 & H049-GP41 & H049-GWNW & H049-JVCT & H049-PF1J & H049-UV6K & H049-WB9V & ⋯ & ICGC\\_PA9 & ICGC\\_PA91 & ICGC\\_PA92 & ICGC\\_PA93 & ICGC\\_PA94 & ICGC\\_PA95 & ICGC\\_PA96 & ICGC\\_PA97 & ICGC\\_PA99 & hgnc\\_symbol\\\\\n",
       "  & <chr> & <dbl> & <dbl> & <dbl> & <dbl> & <dbl> & <dbl> & <dbl> & <dbl> & <dbl> & ⋯ & <dbl> & <dbl> & <dbl> & <dbl> & <dbl> & <dbl> & <dbl> & <dbl> & <dbl> & <chr>\\\\\n",
       "\\hline\n",
       "\t1 & ENSG00000000003.14 & 920.00 & 7138.00 & 2435.0 & 7404.00 & 5190.00 & 9304.00 & 8256.00 &  952.00 & 1883.00 & ⋯ & 2705.00 & 1654.00 & 1597.00 & 6055.0 & 1177.00 & 1257.00 & 1079.00 & 1125.00 & 1358.00 & TSPAN6  \\\\\n",
       "\t2 & ENSG00000000005.6  &   6.00 & 1572.00 &   37.0 &   16.00 &  121.00 &   11.00 &  729.00 &    8.00 &    3.00 & ⋯ &    1.00 &    7.00 &    4.00 &    7.0 &    3.00 &    3.00 &    1.00 &    3.00 &    2.00 & TNMD    \\\\\n",
       "\t3 & ENSG00000000419.12 & 399.00 & 1290.00 & 1181.0 & 1197.00 & 2052.00 & 4103.00 & 1872.00 & 1083.00 & 1039.00 & ⋯ &  351.00 &  526.00 &  456.00 &  858.0 &  199.00 &  279.00 &  296.00 &  239.00 &  311.00 & DPM1    \\\\\n",
       "\t4 & ENSG00000000457.14 & 201.32 & 1009.48 &  576.7 &  748.49 &  650.82 & 1586.39 & 1439.19 &  473.15 &  504.74 & ⋯ &  447.57 &  596.54 &  533.35 & 1153.6 &  335.25 &  346.51 &  374.04 &  357.95 &  391.74 & SCYL3   \\\\\n",
       "\t5 & ENSG00000000460.17 & 267.68 &  318.52 &  150.3 &  382.51 &  627.18 & 1562.61 &  367.81 &  367.85 &  406.26 & ⋯ &  208.43 &  296.46 &  172.65 &  558.4 &  114.75 &  130.49 &  155.96 &  111.05 &  156.26 & C1orf112\\\\\n",
       "\t6 & ENSG00000000938.13 & 214.00 & 1404.00 &   86.0 &  152.00 &  299.00 &  590.00 &  352.00 &  385.00 &  194.00 & ⋯ &   89.00 &  139.00 &  122.00 &  318.0 &   56.00 &   45.00 &   96.00 &   79.00 &   76.00 & FGR     \\\\\n",
       "\\end{tabular}\n"
      ],
      "text/markdown": [
       "\n",
       "A data.frame: 6 × 201\n",
       "\n",
       "| <!--/--> | ensembl &lt;chr&gt; | H049-0CWK &lt;dbl&gt; | H049-7SD3 &lt;dbl&gt; | H049-FG38 &lt;dbl&gt; | H049-GP41 &lt;dbl&gt; | H049-GWNW &lt;dbl&gt; | H049-JVCT &lt;dbl&gt; | H049-PF1J &lt;dbl&gt; | H049-UV6K &lt;dbl&gt; | H049-WB9V &lt;dbl&gt; | ⋯ ⋯ | ICGC_PA9 &lt;dbl&gt; | ICGC_PA91 &lt;dbl&gt; | ICGC_PA92 &lt;dbl&gt; | ICGC_PA93 &lt;dbl&gt; | ICGC_PA94 &lt;dbl&gt; | ICGC_PA95 &lt;dbl&gt; | ICGC_PA96 &lt;dbl&gt; | ICGC_PA97 &lt;dbl&gt; | ICGC_PA99 &lt;dbl&gt; | hgnc_symbol &lt;chr&gt; |\n",
       "|---|---|---|---|---|---|---|---|---|---|---|---|---|---|---|---|---|---|---|---|---|---|\n",
       "| 1 | ENSG00000000003.14 | 920.00 | 7138.00 | 2435.0 | 7404.00 | 5190.00 | 9304.00 | 8256.00 |  952.00 | 1883.00 | ⋯ | 2705.00 | 1654.00 | 1597.00 | 6055.0 | 1177.00 | 1257.00 | 1079.00 | 1125.00 | 1358.00 | TSPAN6   |\n",
       "| 2 | ENSG00000000005.6  |   6.00 | 1572.00 |   37.0 |   16.00 |  121.00 |   11.00 |  729.00 |    8.00 |    3.00 | ⋯ |    1.00 |    7.00 |    4.00 |    7.0 |    3.00 |    3.00 |    1.00 |    3.00 |    2.00 | TNMD     |\n",
       "| 3 | ENSG00000000419.12 | 399.00 | 1290.00 | 1181.0 | 1197.00 | 2052.00 | 4103.00 | 1872.00 | 1083.00 | 1039.00 | ⋯ |  351.00 |  526.00 |  456.00 |  858.0 |  199.00 |  279.00 |  296.00 |  239.00 |  311.00 | DPM1     |\n",
       "| 4 | ENSG00000000457.14 | 201.32 | 1009.48 |  576.7 |  748.49 |  650.82 | 1586.39 | 1439.19 |  473.15 |  504.74 | ⋯ |  447.57 |  596.54 |  533.35 | 1153.6 |  335.25 |  346.51 |  374.04 |  357.95 |  391.74 | SCYL3    |\n",
       "| 5 | ENSG00000000460.17 | 267.68 |  318.52 |  150.3 |  382.51 |  627.18 | 1562.61 |  367.81 |  367.85 |  406.26 | ⋯ |  208.43 |  296.46 |  172.65 |  558.4 |  114.75 |  130.49 |  155.96 |  111.05 |  156.26 | C1orf112 |\n",
       "| 6 | ENSG00000000938.13 | 214.00 | 1404.00 |   86.0 |  152.00 |  299.00 |  590.00 |  352.00 |  385.00 |  194.00 | ⋯ |   89.00 |  139.00 |  122.00 |  318.0 |   56.00 |   45.00 |   96.00 |   79.00 |   76.00 | FGR      |\n",
       "\n"
      ],
      "text/plain": [
       "  ensembl            H049-0CWK H049-7SD3 H049-FG38 H049-GP41 H049-GWNW\n",
       "1 ENSG00000000003.14 920.00    7138.00   2435.0    7404.00   5190.00  \n",
       "2 ENSG00000000005.6    6.00    1572.00     37.0      16.00    121.00  \n",
       "3 ENSG00000000419.12 399.00    1290.00   1181.0    1197.00   2052.00  \n",
       "4 ENSG00000000457.14 201.32    1009.48    576.7     748.49    650.82  \n",
       "5 ENSG00000000460.17 267.68     318.52    150.3     382.51    627.18  \n",
       "6 ENSG00000000938.13 214.00    1404.00     86.0     152.00    299.00  \n",
       "  H049-JVCT H049-PF1J H049-UV6K H049-WB9V ⋯ ICGC_PA9 ICGC_PA91 ICGC_PA92\n",
       "1 9304.00   8256.00    952.00   1883.00   ⋯ 2705.00  1654.00   1597.00  \n",
       "2   11.00    729.00      8.00      3.00   ⋯    1.00     7.00      4.00  \n",
       "3 4103.00   1872.00   1083.00   1039.00   ⋯  351.00   526.00    456.00  \n",
       "4 1586.39   1439.19    473.15    504.74   ⋯  447.57   596.54    533.35  \n",
       "5 1562.61    367.81    367.85    406.26   ⋯  208.43   296.46    172.65  \n",
       "6  590.00    352.00    385.00    194.00   ⋯   89.00   139.00    122.00  \n",
       "  ICGC_PA93 ICGC_PA94 ICGC_PA95 ICGC_PA96 ICGC_PA97 ICGC_PA99 hgnc_symbol\n",
       "1 6055.0    1177.00   1257.00   1079.00   1125.00   1358.00   TSPAN6     \n",
       "2    7.0       3.00      3.00      1.00      3.00      2.00   TNMD       \n",
       "3  858.0     199.00    279.00    296.00    239.00    311.00   DPM1       \n",
       "4 1153.6     335.25    346.51    374.04    357.95    391.74   SCYL3      \n",
       "5  558.4     114.75    130.49    155.96    111.05    156.26   C1orf112   \n",
       "6  318.0      56.00     45.00     96.00     79.00     76.00   FGR        "
      ]
     },
     "metadata": {},
     "output_type": "display_data"
    }
   ],
   "source": [
    "head(dkfz_count_matrix)"
   ]
  },
  {
   "cell_type": "code",
   "execution_count": 43,
   "metadata": {},
   "outputs": [],
   "source": [
    "# reorder columns\n",
    "dkfz_count_matrix <- dkfz_count_matrix[,c(1,201,2:200)]"
   ]
  },
  {
   "cell_type": "code",
   "execution_count": 44,
   "metadata": {},
   "outputs": [
    {
     "data": {
      "text/html": [
       "<table class=\"dataframe\">\n",
       "<caption>A data.frame: 6 × 201</caption>\n",
       "<thead>\n",
       "\t<tr><th></th><th scope=col>ensembl</th><th scope=col>hgnc_symbol</th><th scope=col>H049-0CWK</th><th scope=col>H049-7SD3</th><th scope=col>H049-FG38</th><th scope=col>H049-GP41</th><th scope=col>H049-GWNW</th><th scope=col>H049-JVCT</th><th scope=col>H049-PF1J</th><th scope=col>H049-UV6K</th><th scope=col>⋯</th><th scope=col>ICGC_PA89</th><th scope=col>ICGC_PA9</th><th scope=col>ICGC_PA91</th><th scope=col>ICGC_PA92</th><th scope=col>ICGC_PA93</th><th scope=col>ICGC_PA94</th><th scope=col>ICGC_PA95</th><th scope=col>ICGC_PA96</th><th scope=col>ICGC_PA97</th><th scope=col>ICGC_PA99</th></tr>\n",
       "\t<tr><th></th><th scope=col>&lt;chr&gt;</th><th scope=col>&lt;chr&gt;</th><th scope=col>&lt;dbl&gt;</th><th scope=col>&lt;dbl&gt;</th><th scope=col>&lt;dbl&gt;</th><th scope=col>&lt;dbl&gt;</th><th scope=col>&lt;dbl&gt;</th><th scope=col>&lt;dbl&gt;</th><th scope=col>&lt;dbl&gt;</th><th scope=col>&lt;dbl&gt;</th><th scope=col>⋯</th><th scope=col>&lt;dbl&gt;</th><th scope=col>&lt;dbl&gt;</th><th scope=col>&lt;dbl&gt;</th><th scope=col>&lt;dbl&gt;</th><th scope=col>&lt;dbl&gt;</th><th scope=col>&lt;dbl&gt;</th><th scope=col>&lt;dbl&gt;</th><th scope=col>&lt;dbl&gt;</th><th scope=col>&lt;dbl&gt;</th><th scope=col>&lt;dbl&gt;</th></tr>\n",
       "</thead>\n",
       "<tbody>\n",
       "\t<tr><th scope=row>1</th><td>ENSG00000000003.14</td><td>TSPAN6  </td><td>920.00</td><td>7138.00</td><td>2435.0</td><td>7404.00</td><td>5190.00</td><td>9304.00</td><td>8256.00</td><td> 952.00</td><td>⋯</td><td>4290.00</td><td>2705.00</td><td>1654.00</td><td>1597.00</td><td>6055.0</td><td>1177.00</td><td>1257.00</td><td>1079.00</td><td>1125.00</td><td>1358.00</td></tr>\n",
       "\t<tr><th scope=row>2</th><td>ENSG00000000005.6 </td><td>TNMD    </td><td>  6.00</td><td>1572.00</td><td>  37.0</td><td>  16.00</td><td> 121.00</td><td>  11.00</td><td> 729.00</td><td>   8.00</td><td>⋯</td><td>   7.00</td><td>   1.00</td><td>   7.00</td><td>   4.00</td><td>   7.0</td><td>   3.00</td><td>   3.00</td><td>   1.00</td><td>   3.00</td><td>   2.00</td></tr>\n",
       "\t<tr><th scope=row>3</th><td>ENSG00000000419.12</td><td>DPM1    </td><td>399.00</td><td>1290.00</td><td>1181.0</td><td>1197.00</td><td>2052.00</td><td>4103.00</td><td>1872.00</td><td>1083.00</td><td>⋯</td><td>1034.00</td><td> 351.00</td><td> 526.00</td><td> 456.00</td><td> 858.0</td><td> 199.00</td><td> 279.00</td><td> 296.00</td><td> 239.00</td><td> 311.00</td></tr>\n",
       "\t<tr><th scope=row>4</th><td>ENSG00000000457.14</td><td>SCYL3   </td><td>201.32</td><td>1009.48</td><td> 576.7</td><td> 748.49</td><td> 650.82</td><td>1586.39</td><td>1439.19</td><td> 473.15</td><td>⋯</td><td>1300.26</td><td> 447.57</td><td> 596.54</td><td> 533.35</td><td>1153.6</td><td> 335.25</td><td> 346.51</td><td> 374.04</td><td> 357.95</td><td> 391.74</td></tr>\n",
       "\t<tr><th scope=row>5</th><td>ENSG00000000460.17</td><td>C1orf112</td><td>267.68</td><td> 318.52</td><td> 150.3</td><td> 382.51</td><td> 627.18</td><td>1562.61</td><td> 367.81</td><td> 367.85</td><td>⋯</td><td> 289.74</td><td> 208.43</td><td> 296.46</td><td> 172.65</td><td> 558.4</td><td> 114.75</td><td> 130.49</td><td> 155.96</td><td> 111.05</td><td> 156.26</td></tr>\n",
       "\t<tr><th scope=row>6</th><td>ENSG00000000938.13</td><td>FGR     </td><td>214.00</td><td>1404.00</td><td>  86.0</td><td> 152.00</td><td> 299.00</td><td> 590.00</td><td> 352.00</td><td> 385.00</td><td>⋯</td><td> 212.00</td><td>  89.00</td><td> 139.00</td><td> 122.00</td><td> 318.0</td><td>  56.00</td><td>  45.00</td><td>  96.00</td><td>  79.00</td><td>  76.00</td></tr>\n",
       "</tbody>\n",
       "</table>\n"
      ],
      "text/latex": [
       "A data.frame: 6 × 201\n",
       "\\begin{tabular}{r|lllllllllllllllllllll}\n",
       "  & ensembl & hgnc\\_symbol & H049-0CWK & H049-7SD3 & H049-FG38 & H049-GP41 & H049-GWNW & H049-JVCT & H049-PF1J & H049-UV6K & ⋯ & ICGC\\_PA89 & ICGC\\_PA9 & ICGC\\_PA91 & ICGC\\_PA92 & ICGC\\_PA93 & ICGC\\_PA94 & ICGC\\_PA95 & ICGC\\_PA96 & ICGC\\_PA97 & ICGC\\_PA99\\\\\n",
       "  & <chr> & <chr> & <dbl> & <dbl> & <dbl> & <dbl> & <dbl> & <dbl> & <dbl> & <dbl> & ⋯ & <dbl> & <dbl> & <dbl> & <dbl> & <dbl> & <dbl> & <dbl> & <dbl> & <dbl> & <dbl>\\\\\n",
       "\\hline\n",
       "\t1 & ENSG00000000003.14 & TSPAN6   & 920.00 & 7138.00 & 2435.0 & 7404.00 & 5190.00 & 9304.00 & 8256.00 &  952.00 & ⋯ & 4290.00 & 2705.00 & 1654.00 & 1597.00 & 6055.0 & 1177.00 & 1257.00 & 1079.00 & 1125.00 & 1358.00\\\\\n",
       "\t2 & ENSG00000000005.6  & TNMD     &   6.00 & 1572.00 &   37.0 &   16.00 &  121.00 &   11.00 &  729.00 &    8.00 & ⋯ &    7.00 &    1.00 &    7.00 &    4.00 &    7.0 &    3.00 &    3.00 &    1.00 &    3.00 &    2.00\\\\\n",
       "\t3 & ENSG00000000419.12 & DPM1     & 399.00 & 1290.00 & 1181.0 & 1197.00 & 2052.00 & 4103.00 & 1872.00 & 1083.00 & ⋯ & 1034.00 &  351.00 &  526.00 &  456.00 &  858.0 &  199.00 &  279.00 &  296.00 &  239.00 &  311.00\\\\\n",
       "\t4 & ENSG00000000457.14 & SCYL3    & 201.32 & 1009.48 &  576.7 &  748.49 &  650.82 & 1586.39 & 1439.19 &  473.15 & ⋯ & 1300.26 &  447.57 &  596.54 &  533.35 & 1153.6 &  335.25 &  346.51 &  374.04 &  357.95 &  391.74\\\\\n",
       "\t5 & ENSG00000000460.17 & C1orf112 & 267.68 &  318.52 &  150.3 &  382.51 &  627.18 & 1562.61 &  367.81 &  367.85 & ⋯ &  289.74 &  208.43 &  296.46 &  172.65 &  558.4 &  114.75 &  130.49 &  155.96 &  111.05 &  156.26\\\\\n",
       "\t6 & ENSG00000000938.13 & FGR      & 214.00 & 1404.00 &   86.0 &  152.00 &  299.00 &  590.00 &  352.00 &  385.00 & ⋯ &  212.00 &   89.00 &  139.00 &  122.00 &  318.0 &   56.00 &   45.00 &   96.00 &   79.00 &   76.00\\\\\n",
       "\\end{tabular}\n"
      ],
      "text/markdown": [
       "\n",
       "A data.frame: 6 × 201\n",
       "\n",
       "| <!--/--> | ensembl &lt;chr&gt; | hgnc_symbol &lt;chr&gt; | H049-0CWK &lt;dbl&gt; | H049-7SD3 &lt;dbl&gt; | H049-FG38 &lt;dbl&gt; | H049-GP41 &lt;dbl&gt; | H049-GWNW &lt;dbl&gt; | H049-JVCT &lt;dbl&gt; | H049-PF1J &lt;dbl&gt; | H049-UV6K &lt;dbl&gt; | ⋯ ⋯ | ICGC_PA89 &lt;dbl&gt; | ICGC_PA9 &lt;dbl&gt; | ICGC_PA91 &lt;dbl&gt; | ICGC_PA92 &lt;dbl&gt; | ICGC_PA93 &lt;dbl&gt; | ICGC_PA94 &lt;dbl&gt; | ICGC_PA95 &lt;dbl&gt; | ICGC_PA96 &lt;dbl&gt; | ICGC_PA97 &lt;dbl&gt; | ICGC_PA99 &lt;dbl&gt; |\n",
       "|---|---|---|---|---|---|---|---|---|---|---|---|---|---|---|---|---|---|---|---|---|---|\n",
       "| 1 | ENSG00000000003.14 | TSPAN6   | 920.00 | 7138.00 | 2435.0 | 7404.00 | 5190.00 | 9304.00 | 8256.00 |  952.00 | ⋯ | 4290.00 | 2705.00 | 1654.00 | 1597.00 | 6055.0 | 1177.00 | 1257.00 | 1079.00 | 1125.00 | 1358.00 |\n",
       "| 2 | ENSG00000000005.6  | TNMD     |   6.00 | 1572.00 |   37.0 |   16.00 |  121.00 |   11.00 |  729.00 |    8.00 | ⋯ |    7.00 |    1.00 |    7.00 |    4.00 |    7.0 |    3.00 |    3.00 |    1.00 |    3.00 |    2.00 |\n",
       "| 3 | ENSG00000000419.12 | DPM1     | 399.00 | 1290.00 | 1181.0 | 1197.00 | 2052.00 | 4103.00 | 1872.00 | 1083.00 | ⋯ | 1034.00 |  351.00 |  526.00 |  456.00 |  858.0 |  199.00 |  279.00 |  296.00 |  239.00 |  311.00 |\n",
       "| 4 | ENSG00000000457.14 | SCYL3    | 201.32 | 1009.48 |  576.7 |  748.49 |  650.82 | 1586.39 | 1439.19 |  473.15 | ⋯ | 1300.26 |  447.57 |  596.54 |  533.35 | 1153.6 |  335.25 |  346.51 |  374.04 |  357.95 |  391.74 |\n",
       "| 5 | ENSG00000000460.17 | C1orf112 | 267.68 |  318.52 |  150.3 |  382.51 |  627.18 | 1562.61 |  367.81 |  367.85 | ⋯ |  289.74 |  208.43 |  296.46 |  172.65 |  558.4 |  114.75 |  130.49 |  155.96 |  111.05 |  156.26 |\n",
       "| 6 | ENSG00000000938.13 | FGR      | 214.00 | 1404.00 |   86.0 |  152.00 |  299.00 |  590.00 |  352.00 |  385.00 | ⋯ |  212.00 |   89.00 |  139.00 |  122.00 |  318.0 |   56.00 |   45.00 |   96.00 |   79.00 |   76.00 |\n",
       "\n"
      ],
      "text/plain": [
       "  ensembl            hgnc_symbol H049-0CWK H049-7SD3 H049-FG38 H049-GP41\n",
       "1 ENSG00000000003.14 TSPAN6      920.00    7138.00   2435.0    7404.00  \n",
       "2 ENSG00000000005.6  TNMD          6.00    1572.00     37.0      16.00  \n",
       "3 ENSG00000000419.12 DPM1        399.00    1290.00   1181.0    1197.00  \n",
       "4 ENSG00000000457.14 SCYL3       201.32    1009.48    576.7     748.49  \n",
       "5 ENSG00000000460.17 C1orf112    267.68     318.52    150.3     382.51  \n",
       "6 ENSG00000000938.13 FGR         214.00    1404.00     86.0     152.00  \n",
       "  H049-GWNW H049-JVCT H049-PF1J H049-UV6K ⋯ ICGC_PA89 ICGC_PA9 ICGC_PA91\n",
       "1 5190.00   9304.00   8256.00    952.00   ⋯ 4290.00   2705.00  1654.00  \n",
       "2  121.00     11.00    729.00      8.00   ⋯    7.00      1.00     7.00  \n",
       "3 2052.00   4103.00   1872.00   1083.00   ⋯ 1034.00    351.00   526.00  \n",
       "4  650.82   1586.39   1439.19    473.15   ⋯ 1300.26    447.57   596.54  \n",
       "5  627.18   1562.61    367.81    367.85   ⋯  289.74    208.43   296.46  \n",
       "6  299.00    590.00    352.00    385.00   ⋯  212.00     89.00   139.00  \n",
       "  ICGC_PA92 ICGC_PA93 ICGC_PA94 ICGC_PA95 ICGC_PA96 ICGC_PA97 ICGC_PA99\n",
       "1 1597.00   6055.0    1177.00   1257.00   1079.00   1125.00   1358.00  \n",
       "2    4.00      7.0       3.00      3.00      1.00      3.00      2.00  \n",
       "3  456.00    858.0     199.00    279.00    296.00    239.00    311.00  \n",
       "4  533.35   1153.6     335.25    346.51    374.04    357.95    391.74  \n",
       "5  172.65    558.4     114.75    130.49    155.96    111.05    156.26  \n",
       "6  122.00    318.0      56.00     45.00     96.00     79.00     76.00  "
      ]
     },
     "metadata": {},
     "output_type": "display_data"
    }
   ],
   "source": [
    "head(dkfz_count_matrix)"
   ]
  },
  {
   "cell_type": "code",
   "execution_count": 45,
   "metadata": {},
   "outputs": [],
   "source": [
    "dkfz_count_matrix_dedup <- dkfz_count_matrix[ !duplicated(dkfz_count_matrix$hgnc_symbol),]"
   ]
  },
  {
   "cell_type": "code",
   "execution_count": 46,
   "metadata": {},
   "outputs": [
    {
     "data": {
      "text/html": [
       "<style>\n",
       ".list-inline {list-style: none; margin:0; padding: 0}\n",
       ".list-inline>li {display: inline-block}\n",
       ".list-inline>li:not(:last-child)::after {content: \"\\00b7\"; padding: 0 .5ex}\n",
       "</style>\n",
       "<ol class=list-inline><li>59050</li><li>201</li></ol>\n"
      ],
      "text/latex": [
       "\\begin{enumerate*}\n",
       "\\item 59050\n",
       "\\item 201\n",
       "\\end{enumerate*}\n"
      ],
      "text/markdown": [
       "1. 59050\n",
       "2. 201\n",
       "\n",
       "\n"
      ],
      "text/plain": [
       "[1] 59050   201"
      ]
     },
     "metadata": {},
     "output_type": "display_data"
    }
   ],
   "source": [
    "dim(dkfz_count_matrix_dedup)"
   ]
  },
  {
   "cell_type": "code",
   "execution_count": 47,
   "metadata": {},
   "outputs": [
    {
     "name": "stderr",
     "output_type": "stream",
     "text": [
      "dimensions of exp_matrix: dkfz_count_matrix_dedup\n",
      "\n"
     ]
    },
    {
     "name": "stdout",
     "output_type": "stream",
     "text": [
      "[1] 59050   201\n"
     ]
    },
    {
     "name": "stderr",
     "output_type": "stream",
     "text": [
      "dimensions of estimate_manifest_df for: ICGC sample_type:Primary\n",
      "\n"
     ]
    },
    {
     "name": "stdout",
     "output_type": "stream",
     "text": [
      "[1] 196  23\n"
     ]
    },
    {
     "name": "stderr",
     "output_type": "stream",
     "text": [
      "dimensions of exp_matrix_matchingset for: dkfz_count_matrix_dedup with matching column: sample_id\n",
      "\n"
     ]
    },
    {
     "name": "stdout",
     "output_type": "stream",
     "text": [
      "[1] 59050   195\n"
     ]
    }
   ],
   "source": [
    "icgc_count_matrix_primary <- matchexp_matrixfx(dkfz_count_matrix_dedup, estimate_manifest_primary_clean,\n",
    "                                              \"ICGC\", \"Primary\", \"sample_id\")"
   ]
  },
  {
   "cell_type": "code",
   "execution_count": 48,
   "metadata": {},
   "outputs": [
    {
     "data": {
      "text/html": [
       "<table class=\"dataframe\">\n",
       "<caption>A data.frame: 6 × 197</caption>\n",
       "<thead>\n",
       "\t<tr><th></th><th scope=col>ensembl</th><th scope=col>hgnc_symbol</th><th scope=col>H049-0CWK</th><th scope=col>H049-7SD3</th><th scope=col>H049-FG38</th><th scope=col>H049-GP41</th><th scope=col>H049-GWNW</th><th scope=col>H049-JVCT</th><th scope=col>H049-PF1J</th><th scope=col>H049-UV6K</th><th scope=col>⋯</th><th scope=col>ICGC_PA89</th><th scope=col>ICGC_PA9</th><th scope=col>ICGC_PA91</th><th scope=col>ICGC_PA92</th><th scope=col>ICGC_PA93</th><th scope=col>ICGC_PA94</th><th scope=col>ICGC_PA95</th><th scope=col>ICGC_PA96</th><th scope=col>ICGC_PA97</th><th scope=col>ICGC_PA99</th></tr>\n",
       "\t<tr><th></th><th scope=col>&lt;chr&gt;</th><th scope=col>&lt;chr&gt;</th><th scope=col>&lt;dbl&gt;</th><th scope=col>&lt;dbl&gt;</th><th scope=col>&lt;dbl&gt;</th><th scope=col>&lt;dbl&gt;</th><th scope=col>&lt;dbl&gt;</th><th scope=col>&lt;dbl&gt;</th><th scope=col>&lt;dbl&gt;</th><th scope=col>&lt;dbl&gt;</th><th scope=col>⋯</th><th scope=col>&lt;dbl&gt;</th><th scope=col>&lt;dbl&gt;</th><th scope=col>&lt;dbl&gt;</th><th scope=col>&lt;dbl&gt;</th><th scope=col>&lt;dbl&gt;</th><th scope=col>&lt;dbl&gt;</th><th scope=col>&lt;dbl&gt;</th><th scope=col>&lt;dbl&gt;</th><th scope=col>&lt;dbl&gt;</th><th scope=col>&lt;dbl&gt;</th></tr>\n",
       "</thead>\n",
       "<tbody>\n",
       "\t<tr><th scope=row>1</th><td>ENSG00000000003.14</td><td>TSPAN6  </td><td>920.00</td><td>7138.00</td><td>2435.0</td><td>7404.00</td><td>5190.00</td><td>9304.00</td><td>8256.00</td><td> 952.00</td><td>⋯</td><td>4290.00</td><td>2705.00</td><td>1654.00</td><td>1597.00</td><td>6055.0</td><td>1177.00</td><td>1257.00</td><td>1079.00</td><td>1125.00</td><td>1358.00</td></tr>\n",
       "\t<tr><th scope=row>2</th><td>ENSG00000000005.6 </td><td>TNMD    </td><td>  6.00</td><td>1572.00</td><td>  37.0</td><td>  16.00</td><td> 121.00</td><td>  11.00</td><td> 729.00</td><td>   8.00</td><td>⋯</td><td>   7.00</td><td>   1.00</td><td>   7.00</td><td>   4.00</td><td>   7.0</td><td>   3.00</td><td>   3.00</td><td>   1.00</td><td>   3.00</td><td>   2.00</td></tr>\n",
       "\t<tr><th scope=row>3</th><td>ENSG00000000419.12</td><td>DPM1    </td><td>399.00</td><td>1290.00</td><td>1181.0</td><td>1197.00</td><td>2052.00</td><td>4103.00</td><td>1872.00</td><td>1083.00</td><td>⋯</td><td>1034.00</td><td> 351.00</td><td> 526.00</td><td> 456.00</td><td> 858.0</td><td> 199.00</td><td> 279.00</td><td> 296.00</td><td> 239.00</td><td> 311.00</td></tr>\n",
       "\t<tr><th scope=row>4</th><td>ENSG00000000457.14</td><td>SCYL3   </td><td>201.32</td><td>1009.48</td><td> 576.7</td><td> 748.49</td><td> 650.82</td><td>1586.39</td><td>1439.19</td><td> 473.15</td><td>⋯</td><td>1300.26</td><td> 447.57</td><td> 596.54</td><td> 533.35</td><td>1153.6</td><td> 335.25</td><td> 346.51</td><td> 374.04</td><td> 357.95</td><td> 391.74</td></tr>\n",
       "\t<tr><th scope=row>5</th><td>ENSG00000000460.17</td><td>C1orf112</td><td>267.68</td><td> 318.52</td><td> 150.3</td><td> 382.51</td><td> 627.18</td><td>1562.61</td><td> 367.81</td><td> 367.85</td><td>⋯</td><td> 289.74</td><td> 208.43</td><td> 296.46</td><td> 172.65</td><td> 558.4</td><td> 114.75</td><td> 130.49</td><td> 155.96</td><td> 111.05</td><td> 156.26</td></tr>\n",
       "\t<tr><th scope=row>6</th><td>ENSG00000000938.13</td><td>FGR     </td><td>214.00</td><td>1404.00</td><td>  86.0</td><td> 152.00</td><td> 299.00</td><td> 590.00</td><td> 352.00</td><td> 385.00</td><td>⋯</td><td> 212.00</td><td>  89.00</td><td> 139.00</td><td> 122.00</td><td> 318.0</td><td>  56.00</td><td>  45.00</td><td>  96.00</td><td>  79.00</td><td>  76.00</td></tr>\n",
       "</tbody>\n",
       "</table>\n"
      ],
      "text/latex": [
       "A data.frame: 6 × 197\n",
       "\\begin{tabular}{r|lllllllllllllllllllll}\n",
       "  & ensembl & hgnc\\_symbol & H049-0CWK & H049-7SD3 & H049-FG38 & H049-GP41 & H049-GWNW & H049-JVCT & H049-PF1J & H049-UV6K & ⋯ & ICGC\\_PA89 & ICGC\\_PA9 & ICGC\\_PA91 & ICGC\\_PA92 & ICGC\\_PA93 & ICGC\\_PA94 & ICGC\\_PA95 & ICGC\\_PA96 & ICGC\\_PA97 & ICGC\\_PA99\\\\\n",
       "  & <chr> & <chr> & <dbl> & <dbl> & <dbl> & <dbl> & <dbl> & <dbl> & <dbl> & <dbl> & ⋯ & <dbl> & <dbl> & <dbl> & <dbl> & <dbl> & <dbl> & <dbl> & <dbl> & <dbl> & <dbl>\\\\\n",
       "\\hline\n",
       "\t1 & ENSG00000000003.14 & TSPAN6   & 920.00 & 7138.00 & 2435.0 & 7404.00 & 5190.00 & 9304.00 & 8256.00 &  952.00 & ⋯ & 4290.00 & 2705.00 & 1654.00 & 1597.00 & 6055.0 & 1177.00 & 1257.00 & 1079.00 & 1125.00 & 1358.00\\\\\n",
       "\t2 & ENSG00000000005.6  & TNMD     &   6.00 & 1572.00 &   37.0 &   16.00 &  121.00 &   11.00 &  729.00 &    8.00 & ⋯ &    7.00 &    1.00 &    7.00 &    4.00 &    7.0 &    3.00 &    3.00 &    1.00 &    3.00 &    2.00\\\\\n",
       "\t3 & ENSG00000000419.12 & DPM1     & 399.00 & 1290.00 & 1181.0 & 1197.00 & 2052.00 & 4103.00 & 1872.00 & 1083.00 & ⋯ & 1034.00 &  351.00 &  526.00 &  456.00 &  858.0 &  199.00 &  279.00 &  296.00 &  239.00 &  311.00\\\\\n",
       "\t4 & ENSG00000000457.14 & SCYL3    & 201.32 & 1009.48 &  576.7 &  748.49 &  650.82 & 1586.39 & 1439.19 &  473.15 & ⋯ & 1300.26 &  447.57 &  596.54 &  533.35 & 1153.6 &  335.25 &  346.51 &  374.04 &  357.95 &  391.74\\\\\n",
       "\t5 & ENSG00000000460.17 & C1orf112 & 267.68 &  318.52 &  150.3 &  382.51 &  627.18 & 1562.61 &  367.81 &  367.85 & ⋯ &  289.74 &  208.43 &  296.46 &  172.65 &  558.4 &  114.75 &  130.49 &  155.96 &  111.05 &  156.26\\\\\n",
       "\t6 & ENSG00000000938.13 & FGR      & 214.00 & 1404.00 &   86.0 &  152.00 &  299.00 &  590.00 &  352.00 &  385.00 & ⋯ &  212.00 &   89.00 &  139.00 &  122.00 &  318.0 &   56.00 &   45.00 &   96.00 &   79.00 &   76.00\\\\\n",
       "\\end{tabular}\n"
      ],
      "text/markdown": [
       "\n",
       "A data.frame: 6 × 197\n",
       "\n",
       "| <!--/--> | ensembl &lt;chr&gt; | hgnc_symbol &lt;chr&gt; | H049-0CWK &lt;dbl&gt; | H049-7SD3 &lt;dbl&gt; | H049-FG38 &lt;dbl&gt; | H049-GP41 &lt;dbl&gt; | H049-GWNW &lt;dbl&gt; | H049-JVCT &lt;dbl&gt; | H049-PF1J &lt;dbl&gt; | H049-UV6K &lt;dbl&gt; | ⋯ ⋯ | ICGC_PA89 &lt;dbl&gt; | ICGC_PA9 &lt;dbl&gt; | ICGC_PA91 &lt;dbl&gt; | ICGC_PA92 &lt;dbl&gt; | ICGC_PA93 &lt;dbl&gt; | ICGC_PA94 &lt;dbl&gt; | ICGC_PA95 &lt;dbl&gt; | ICGC_PA96 &lt;dbl&gt; | ICGC_PA97 &lt;dbl&gt; | ICGC_PA99 &lt;dbl&gt; |\n",
       "|---|---|---|---|---|---|---|---|---|---|---|---|---|---|---|---|---|---|---|---|---|---|\n",
       "| 1 | ENSG00000000003.14 | TSPAN6   | 920.00 | 7138.00 | 2435.0 | 7404.00 | 5190.00 | 9304.00 | 8256.00 |  952.00 | ⋯ | 4290.00 | 2705.00 | 1654.00 | 1597.00 | 6055.0 | 1177.00 | 1257.00 | 1079.00 | 1125.00 | 1358.00 |\n",
       "| 2 | ENSG00000000005.6  | TNMD     |   6.00 | 1572.00 |   37.0 |   16.00 |  121.00 |   11.00 |  729.00 |    8.00 | ⋯ |    7.00 |    1.00 |    7.00 |    4.00 |    7.0 |    3.00 |    3.00 |    1.00 |    3.00 |    2.00 |\n",
       "| 3 | ENSG00000000419.12 | DPM1     | 399.00 | 1290.00 | 1181.0 | 1197.00 | 2052.00 | 4103.00 | 1872.00 | 1083.00 | ⋯ | 1034.00 |  351.00 |  526.00 |  456.00 |  858.0 |  199.00 |  279.00 |  296.00 |  239.00 |  311.00 |\n",
       "| 4 | ENSG00000000457.14 | SCYL3    | 201.32 | 1009.48 |  576.7 |  748.49 |  650.82 | 1586.39 | 1439.19 |  473.15 | ⋯ | 1300.26 |  447.57 |  596.54 |  533.35 | 1153.6 |  335.25 |  346.51 |  374.04 |  357.95 |  391.74 |\n",
       "| 5 | ENSG00000000460.17 | C1orf112 | 267.68 |  318.52 |  150.3 |  382.51 |  627.18 | 1562.61 |  367.81 |  367.85 | ⋯ |  289.74 |  208.43 |  296.46 |  172.65 |  558.4 |  114.75 |  130.49 |  155.96 |  111.05 |  156.26 |\n",
       "| 6 | ENSG00000000938.13 | FGR      | 214.00 | 1404.00 |   86.0 |  152.00 |  299.00 |  590.00 |  352.00 |  385.00 | ⋯ |  212.00 |   89.00 |  139.00 |  122.00 |  318.0 |   56.00 |   45.00 |   96.00 |   79.00 |   76.00 |\n",
       "\n"
      ],
      "text/plain": [
       "  ensembl            hgnc_symbol H049-0CWK H049-7SD3 H049-FG38 H049-GP41\n",
       "1 ENSG00000000003.14 TSPAN6      920.00    7138.00   2435.0    7404.00  \n",
       "2 ENSG00000000005.6  TNMD          6.00    1572.00     37.0      16.00  \n",
       "3 ENSG00000000419.12 DPM1        399.00    1290.00   1181.0    1197.00  \n",
       "4 ENSG00000000457.14 SCYL3       201.32    1009.48    576.7     748.49  \n",
       "5 ENSG00000000460.17 C1orf112    267.68     318.52    150.3     382.51  \n",
       "6 ENSG00000000938.13 FGR         214.00    1404.00     86.0     152.00  \n",
       "  H049-GWNW H049-JVCT H049-PF1J H049-UV6K ⋯ ICGC_PA89 ICGC_PA9 ICGC_PA91\n",
       "1 5190.00   9304.00   8256.00    952.00   ⋯ 4290.00   2705.00  1654.00  \n",
       "2  121.00     11.00    729.00      8.00   ⋯    7.00      1.00     7.00  \n",
       "3 2052.00   4103.00   1872.00   1083.00   ⋯ 1034.00    351.00   526.00  \n",
       "4  650.82   1586.39   1439.19    473.15   ⋯ 1300.26    447.57   596.54  \n",
       "5  627.18   1562.61    367.81    367.85   ⋯  289.74    208.43   296.46  \n",
       "6  299.00    590.00    352.00    385.00   ⋯  212.00     89.00   139.00  \n",
       "  ICGC_PA92 ICGC_PA93 ICGC_PA94 ICGC_PA95 ICGC_PA96 ICGC_PA97 ICGC_PA99\n",
       "1 1597.00   6055.0    1177.00   1257.00   1079.00   1125.00   1358.00  \n",
       "2    4.00      7.0       3.00      3.00      1.00      3.00      2.00  \n",
       "3  456.00    858.0     199.00    279.00    296.00    239.00    311.00  \n",
       "4  533.35   1153.6     335.25    346.51    374.04    357.95    391.74  \n",
       "5  172.65    558.4     114.75    130.49    155.96    111.05    156.26  \n",
       "6  122.00    318.0      56.00     45.00     96.00     79.00     76.00  "
      ]
     },
     "metadata": {},
     "output_type": "display_data"
    }
   ],
   "source": [
    "head(icgc_count_matrix_primary)"
   ]
  },
  {
   "cell_type": "code",
   "execution_count": 50,
   "metadata": {},
   "outputs": [],
   "source": [
    "write.table(icgc_count_matrix_primary,file = paste0(datapath, \"exp_mat/DKFZ_count_matrix_primary_dedup.txt\"),\n",
    "            sep = \"\\t\", quote = F, row.names = F)"
   ]
  },
  {
   "cell_type": "code",
   "execution_count": 51,
   "metadata": {},
   "outputs": [],
   "source": [
    "colnames(TARGET_count_matrix_primary_dedup)[2] <- \"hgnc_symbol\""
   ]
  },
  {
   "cell_type": "markdown",
   "metadata": {},
   "source": [
    "# Bind all with ensembl ids"
   ]
  },
  {
   "cell_type": "code",
   "execution_count": 52,
   "metadata": {},
   "outputs": [],
   "source": [
    "TARGET_count_matrix_primary_ensembl <- TARGET_count_matrix_primary_dedup\n",
    "CBTN_count_matrix_primary_ensembl <- CBTN_count_matrix_primary\n",
    "icgc_count_matrix_primary_ensembl <- icgc_count_matrix_primary"
   ]
  },
  {
   "cell_type": "code",
   "execution_count": 53,
   "metadata": {},
   "outputs": [],
   "source": [
    "colnames(CBTN_count_matrix_primary_ensembl)[colnames(CBTN_count_matrix_primary_ensembl) == \"ensembl_id\"] <- \"ensembl\""
   ]
  },
  {
   "cell_type": "code",
   "execution_count": 54,
   "metadata": {},
   "outputs": [],
   "source": [
    "# remove ensembl versions to merge downstream\n",
    "TARGET_count_matrix_primary_ensembl$ensembl_id <- gsub(\"[.].*\", \"\",TARGET_count_matrix_primary_ensembl$ensembl)\n",
    "CBTN_count_matrix_primary_ensembl$ensembl_id <- gsub(\"[.].*\", \"\",CBTN_count_matrix_primary_ensembl$ensembl)\n",
    "icgc_count_matrix_primary_ensembl$ensembl_id <- gsub(\"[.].*\", \"\", icgc_count_matrix_primary_ensembl$ensembl)"
   ]
  },
  {
   "cell_type": "code",
   "execution_count": 55,
   "metadata": {},
   "outputs": [],
   "source": [
    "#remove ensembls with versions\n",
    "TARGET_count_matrix_primary_ensembl$ensembl <- NULL\n",
    "CBTN_count_matrix_primary_ensembl$ensembl <- NULL\n",
    "icgc_count_matrix_primary_ensembl$ensembl <- NULL"
   ]
  },
  {
   "cell_type": "code",
   "execution_count": 56,
   "metadata": {},
   "outputs": [],
   "source": [
    "counts_matrix_cbtn_target_ensembl <- merge(TARGET_count_matrix_primary_ensembl, \n",
    "                                           CBTN_count_matrix_primary_ensembl, by = \"ensembl_id\")"
   ]
  },
  {
   "cell_type": "code",
   "execution_count": 57,
   "metadata": {},
   "outputs": [],
   "source": [
    "counts_matrix_ped_ensembl <- merge(counts_matrix_cbtn_target_ensembl, icgc_count_matrix_primary_ensembl, by = \"ensembl_id\")"
   ]
  },
  {
   "cell_type": "code",
   "execution_count": 58,
   "metadata": {},
   "outputs": [
    {
     "data": {
      "text/html": [
       "<style>\n",
       ".list-inline {list-style: none; margin:0; padding: 0}\n",
       ".list-inline>li {display: inline-block}\n",
       ".list-inline>li:not(:last-child)::after {content: \"\\00b7\"; padding: 0 .5ex}\n",
       "</style>\n",
       "<ol class=list-inline><li>54809</li><li>929</li></ol>\n"
      ],
      "text/latex": [
       "\\begin{enumerate*}\n",
       "\\item 54809\n",
       "\\item 929\n",
       "\\end{enumerate*}\n"
      ],
      "text/markdown": [
       "1. 54809\n",
       "2. 929\n",
       "\n",
       "\n"
      ],
      "text/plain": [
       "[1] 54809   929"
      ]
     },
     "metadata": {},
     "output_type": "display_data"
    }
   ],
   "source": [
    "dim(counts_matrix_ped_ensembl)"
   ]
  },
  {
   "cell_type": "code",
   "execution_count": 59,
   "metadata": {},
   "outputs": [],
   "source": [
    "rownames(counts_matrix_ped_ensembl) <- counts_matrix_ped_ensembl$ensembl_id"
   ]
  },
  {
   "cell_type": "code",
   "execution_count": 60,
   "metadata": {},
   "outputs": [],
   "source": [
    "#clean up\n",
    "counts_matrix_ped_ensembl$ensembl_id <- NULL\n",
    "counts_matrix_ped_ensembl$hgnc_symbol <- NULL\n",
    "counts_matrix_ped_ensembl$hgnc_symbol.y <- NULL\n",
    "\n",
    "colnames(counts_matrix_ped_ensembl)[colnames(counts_matrix_ped_ensembl) == \"hgnc_symbol.x\"] <- \"hgnc_symbol\""
   ]
  },
  {
   "cell_type": "code",
   "execution_count": 61,
   "metadata": {},
   "outputs": [
    {
     "data": {
      "text/html": [
       "<table class=\"dataframe\">\n",
       "<caption>A data.frame: 6 × 926</caption>\n",
       "<thead>\n",
       "\t<tr><th></th><th scope=col>hgnc_symbol</th><th scope=col>TARGET-30-PAPZYP-01A</th><th scope=col>TARGET-30-PASWFB-01A</th><th scope=col>TARGET-30-PATINJ-01A</th><th scope=col>TARGET-30-PARZCJ-01A</th><th scope=col>TARGET-30-PASNZU-01A</th><th scope=col>TARGET-30-PASHFA-01A</th><th scope=col>TARGET-30-PATAYJ-01A</th><th scope=col>TARGET-30-PAPBGH-01A</th><th scope=col>TARGET-30-PARFWB-01A</th><th scope=col>⋯</th><th scope=col>ICGC_PA89</th><th scope=col>ICGC_PA9</th><th scope=col>ICGC_PA91</th><th scope=col>ICGC_PA92</th><th scope=col>ICGC_PA93</th><th scope=col>ICGC_PA94</th><th scope=col>ICGC_PA95</th><th scope=col>ICGC_PA96</th><th scope=col>ICGC_PA97</th><th scope=col>ICGC_PA99</th></tr>\n",
       "\t<tr><th></th><th scope=col>&lt;chr&gt;</th><th scope=col>&lt;dbl&gt;</th><th scope=col>&lt;dbl&gt;</th><th scope=col>&lt;dbl&gt;</th><th scope=col>&lt;dbl&gt;</th><th scope=col>&lt;dbl&gt;</th><th scope=col>&lt;dbl&gt;</th><th scope=col>&lt;dbl&gt;</th><th scope=col>&lt;dbl&gt;</th><th scope=col>&lt;dbl&gt;</th><th scope=col>⋯</th><th scope=col>&lt;dbl&gt;</th><th scope=col>&lt;dbl&gt;</th><th scope=col>&lt;dbl&gt;</th><th scope=col>&lt;dbl&gt;</th><th scope=col>&lt;dbl&gt;</th><th scope=col>&lt;dbl&gt;</th><th scope=col>&lt;dbl&gt;</th><th scope=col>&lt;dbl&gt;</th><th scope=col>&lt;dbl&gt;</th><th scope=col>&lt;dbl&gt;</th></tr>\n",
       "</thead>\n",
       "<tbody>\n",
       "\t<tr><th scope=row>ENSG00000000003</th><td>TSPAN6  </td><td>1799.0</td><td>1837.00</td><td>1795.00</td><td>1109.00</td><td>2637.00</td><td>2660.00</td><td>3018.00</td><td>1849.0</td><td> 761.00</td><td>⋯</td><td>4290.00</td><td>2705.00</td><td>1654.00</td><td>1597.00</td><td>6055.0</td><td>1177.00</td><td>1257.00</td><td>1079.00</td><td>1125.00</td><td>1358.00</td></tr>\n",
       "\t<tr><th scope=row>ENSG00000000005</th><td>TNMD    </td><td>  60.0</td><td>   2.00</td><td>   2.00</td><td>   4.00</td><td>   1.00</td><td>  10.00</td><td>   8.00</td><td>   0.0</td><td>   2.00</td><td>⋯</td><td>   7.00</td><td>   1.00</td><td>   7.00</td><td>   4.00</td><td>   7.0</td><td>   3.00</td><td>   3.00</td><td>   1.00</td><td>   3.00</td><td>   2.00</td></tr>\n",
       "\t<tr><th scope=row>ENSG00000000419</th><td>DPM1    </td><td>1482.0</td><td>1538.00</td><td>1607.00</td><td>1381.00</td><td>1524.00</td><td>1869.00</td><td>1509.00</td><td>1080.0</td><td>2209.00</td><td>⋯</td><td>1034.00</td><td> 351.00</td><td> 526.00</td><td> 456.00</td><td> 858.0</td><td> 199.00</td><td> 279.00</td><td> 296.00</td><td> 239.00</td><td> 311.00</td></tr>\n",
       "\t<tr><th scope=row>ENSG00000000457</th><td>SCYL3   </td><td> 884.3</td><td>1471.62</td><td> 851.33</td><td>1537.97</td><td>1174.61</td><td>1105.35</td><td>2023.41</td><td> 905.8</td><td>1249.03</td><td>⋯</td><td>1300.26</td><td> 447.57</td><td> 596.54</td><td> 533.35</td><td>1153.6</td><td> 335.25</td><td> 346.51</td><td> 374.04</td><td> 357.95</td><td> 391.74</td></tr>\n",
       "\t<tr><th scope=row>ENSG00000000460</th><td>C1orf112</td><td> 802.7</td><td> 986.38</td><td> 951.67</td><td> 812.03</td><td> 802.39</td><td> 827.65</td><td>1402.59</td><td> 888.2</td><td>1397.97</td><td>⋯</td><td> 289.74</td><td> 208.43</td><td> 296.46</td><td> 172.65</td><td> 558.4</td><td> 114.75</td><td> 130.49</td><td> 155.96</td><td> 111.05</td><td> 156.26</td></tr>\n",
       "\t<tr><th scope=row>ENSG00000000938</th><td>FGR     </td><td> 588.0</td><td>  64.00</td><td> 213.00</td><td>2190.00</td><td> 106.00</td><td> 453.00</td><td> 659.00</td><td>  96.0</td><td> 584.00</td><td>⋯</td><td> 212.00</td><td>  89.00</td><td> 139.00</td><td> 122.00</td><td> 318.0</td><td>  56.00</td><td>  45.00</td><td>  96.00</td><td>  79.00</td><td>  76.00</td></tr>\n",
       "</tbody>\n",
       "</table>\n"
      ],
      "text/latex": [
       "A data.frame: 6 × 926\n",
       "\\begin{tabular}{r|lllllllllllllllllllll}\n",
       "  & hgnc\\_symbol & TARGET-30-PAPZYP-01A & TARGET-30-PASWFB-01A & TARGET-30-PATINJ-01A & TARGET-30-PARZCJ-01A & TARGET-30-PASNZU-01A & TARGET-30-PASHFA-01A & TARGET-30-PATAYJ-01A & TARGET-30-PAPBGH-01A & TARGET-30-PARFWB-01A & ⋯ & ICGC\\_PA89 & ICGC\\_PA9 & ICGC\\_PA91 & ICGC\\_PA92 & ICGC\\_PA93 & ICGC\\_PA94 & ICGC\\_PA95 & ICGC\\_PA96 & ICGC\\_PA97 & ICGC\\_PA99\\\\\n",
       "  & <chr> & <dbl> & <dbl> & <dbl> & <dbl> & <dbl> & <dbl> & <dbl> & <dbl> & <dbl> & ⋯ & <dbl> & <dbl> & <dbl> & <dbl> & <dbl> & <dbl> & <dbl> & <dbl> & <dbl> & <dbl>\\\\\n",
       "\\hline\n",
       "\tENSG00000000003 & TSPAN6   & 1799.0 & 1837.00 & 1795.00 & 1109.00 & 2637.00 & 2660.00 & 3018.00 & 1849.0 &  761.00 & ⋯ & 4290.00 & 2705.00 & 1654.00 & 1597.00 & 6055.0 & 1177.00 & 1257.00 & 1079.00 & 1125.00 & 1358.00\\\\\n",
       "\tENSG00000000005 & TNMD     &   60.0 &    2.00 &    2.00 &    4.00 &    1.00 &   10.00 &    8.00 &    0.0 &    2.00 & ⋯ &    7.00 &    1.00 &    7.00 &    4.00 &    7.0 &    3.00 &    3.00 &    1.00 &    3.00 &    2.00\\\\\n",
       "\tENSG00000000419 & DPM1     & 1482.0 & 1538.00 & 1607.00 & 1381.00 & 1524.00 & 1869.00 & 1509.00 & 1080.0 & 2209.00 & ⋯ & 1034.00 &  351.00 &  526.00 &  456.00 &  858.0 &  199.00 &  279.00 &  296.00 &  239.00 &  311.00\\\\\n",
       "\tENSG00000000457 & SCYL3    &  884.3 & 1471.62 &  851.33 & 1537.97 & 1174.61 & 1105.35 & 2023.41 &  905.8 & 1249.03 & ⋯ & 1300.26 &  447.57 &  596.54 &  533.35 & 1153.6 &  335.25 &  346.51 &  374.04 &  357.95 &  391.74\\\\\n",
       "\tENSG00000000460 & C1orf112 &  802.7 &  986.38 &  951.67 &  812.03 &  802.39 &  827.65 & 1402.59 &  888.2 & 1397.97 & ⋯ &  289.74 &  208.43 &  296.46 &  172.65 &  558.4 &  114.75 &  130.49 &  155.96 &  111.05 &  156.26\\\\\n",
       "\tENSG00000000938 & FGR      &  588.0 &   64.00 &  213.00 & 2190.00 &  106.00 &  453.00 &  659.00 &   96.0 &  584.00 & ⋯ &  212.00 &   89.00 &  139.00 &  122.00 &  318.0 &   56.00 &   45.00 &   96.00 &   79.00 &   76.00\\\\\n",
       "\\end{tabular}\n"
      ],
      "text/markdown": [
       "\n",
       "A data.frame: 6 × 926\n",
       "\n",
       "| <!--/--> | hgnc_symbol &lt;chr&gt; | TARGET-30-PAPZYP-01A &lt;dbl&gt; | TARGET-30-PASWFB-01A &lt;dbl&gt; | TARGET-30-PATINJ-01A &lt;dbl&gt; | TARGET-30-PARZCJ-01A &lt;dbl&gt; | TARGET-30-PASNZU-01A &lt;dbl&gt; | TARGET-30-PASHFA-01A &lt;dbl&gt; | TARGET-30-PATAYJ-01A &lt;dbl&gt; | TARGET-30-PAPBGH-01A &lt;dbl&gt; | TARGET-30-PARFWB-01A &lt;dbl&gt; | ⋯ ⋯ | ICGC_PA89 &lt;dbl&gt; | ICGC_PA9 &lt;dbl&gt; | ICGC_PA91 &lt;dbl&gt; | ICGC_PA92 &lt;dbl&gt; | ICGC_PA93 &lt;dbl&gt; | ICGC_PA94 &lt;dbl&gt; | ICGC_PA95 &lt;dbl&gt; | ICGC_PA96 &lt;dbl&gt; | ICGC_PA97 &lt;dbl&gt; | ICGC_PA99 &lt;dbl&gt; |\n",
       "|---|---|---|---|---|---|---|---|---|---|---|---|---|---|---|---|---|---|---|---|---|---|\n",
       "| ENSG00000000003 | TSPAN6   | 1799.0 | 1837.00 | 1795.00 | 1109.00 | 2637.00 | 2660.00 | 3018.00 | 1849.0 |  761.00 | ⋯ | 4290.00 | 2705.00 | 1654.00 | 1597.00 | 6055.0 | 1177.00 | 1257.00 | 1079.00 | 1125.00 | 1358.00 |\n",
       "| ENSG00000000005 | TNMD     |   60.0 |    2.00 |    2.00 |    4.00 |    1.00 |   10.00 |    8.00 |    0.0 |    2.00 | ⋯ |    7.00 |    1.00 |    7.00 |    4.00 |    7.0 |    3.00 |    3.00 |    1.00 |    3.00 |    2.00 |\n",
       "| ENSG00000000419 | DPM1     | 1482.0 | 1538.00 | 1607.00 | 1381.00 | 1524.00 | 1869.00 | 1509.00 | 1080.0 | 2209.00 | ⋯ | 1034.00 |  351.00 |  526.00 |  456.00 |  858.0 |  199.00 |  279.00 |  296.00 |  239.00 |  311.00 |\n",
       "| ENSG00000000457 | SCYL3    |  884.3 | 1471.62 |  851.33 | 1537.97 | 1174.61 | 1105.35 | 2023.41 |  905.8 | 1249.03 | ⋯ | 1300.26 |  447.57 |  596.54 |  533.35 | 1153.6 |  335.25 |  346.51 |  374.04 |  357.95 |  391.74 |\n",
       "| ENSG00000000460 | C1orf112 |  802.7 |  986.38 |  951.67 |  812.03 |  802.39 |  827.65 | 1402.59 |  888.2 | 1397.97 | ⋯ |  289.74 |  208.43 |  296.46 |  172.65 |  558.4 |  114.75 |  130.49 |  155.96 |  111.05 |  156.26 |\n",
       "| ENSG00000000938 | FGR      |  588.0 |   64.00 |  213.00 | 2190.00 |  106.00 |  453.00 |  659.00 |   96.0 |  584.00 | ⋯ |  212.00 |   89.00 |  139.00 |  122.00 |  318.0 |   56.00 |   45.00 |   96.00 |   79.00 |   76.00 |\n",
       "\n"
      ],
      "text/plain": [
       "                hgnc_symbol TARGET-30-PAPZYP-01A TARGET-30-PASWFB-01A\n",
       "ENSG00000000003 TSPAN6      1799.0               1837.00             \n",
       "ENSG00000000005 TNMD          60.0                  2.00             \n",
       "ENSG00000000419 DPM1        1482.0               1538.00             \n",
       "ENSG00000000457 SCYL3        884.3               1471.62             \n",
       "ENSG00000000460 C1orf112     802.7                986.38             \n",
       "ENSG00000000938 FGR          588.0                 64.00             \n",
       "                TARGET-30-PATINJ-01A TARGET-30-PARZCJ-01A TARGET-30-PASNZU-01A\n",
       "ENSG00000000003 1795.00              1109.00              2637.00             \n",
       "ENSG00000000005    2.00                 4.00                 1.00             \n",
       "ENSG00000000419 1607.00              1381.00              1524.00             \n",
       "ENSG00000000457  851.33              1537.97              1174.61             \n",
       "ENSG00000000460  951.67               812.03               802.39             \n",
       "ENSG00000000938  213.00              2190.00               106.00             \n",
       "                TARGET-30-PASHFA-01A TARGET-30-PATAYJ-01A TARGET-30-PAPBGH-01A\n",
       "ENSG00000000003 2660.00              3018.00              1849.0              \n",
       "ENSG00000000005   10.00                 8.00                 0.0              \n",
       "ENSG00000000419 1869.00              1509.00              1080.0              \n",
       "ENSG00000000457 1105.35              2023.41               905.8              \n",
       "ENSG00000000460  827.65              1402.59               888.2              \n",
       "ENSG00000000938  453.00               659.00                96.0              \n",
       "                TARGET-30-PARFWB-01A ⋯ ICGC_PA89 ICGC_PA9 ICGC_PA91 ICGC_PA92\n",
       "ENSG00000000003  761.00              ⋯ 4290.00   2705.00  1654.00   1597.00  \n",
       "ENSG00000000005    2.00              ⋯    7.00      1.00     7.00      4.00  \n",
       "ENSG00000000419 2209.00              ⋯ 1034.00    351.00   526.00    456.00  \n",
       "ENSG00000000457 1249.03              ⋯ 1300.26    447.57   596.54    533.35  \n",
       "ENSG00000000460 1397.97              ⋯  289.74    208.43   296.46    172.65  \n",
       "ENSG00000000938  584.00              ⋯  212.00     89.00   139.00    122.00  \n",
       "                ICGC_PA93 ICGC_PA94 ICGC_PA95 ICGC_PA96 ICGC_PA97 ICGC_PA99\n",
       "ENSG00000000003 6055.0    1177.00   1257.00   1079.00   1125.00   1358.00  \n",
       "ENSG00000000005    7.0       3.00      3.00      1.00      3.00      2.00  \n",
       "ENSG00000000419  858.0     199.00    279.00    296.00    239.00    311.00  \n",
       "ENSG00000000457 1153.6     335.25    346.51    374.04    357.95    391.74  \n",
       "ENSG00000000460  558.4     114.75    130.49    155.96    111.05    156.26  \n",
       "ENSG00000000938  318.0      56.00     45.00     96.00     79.00     76.00  "
      ]
     },
     "metadata": {},
     "output_type": "display_data"
    }
   ],
   "source": [
    "head(counts_matrix_ped_ensembl)"
   ]
  },
  {
   "cell_type": "code",
   "execution_count": 62,
   "metadata": {},
   "outputs": [
    {
     "data": {
      "text/html": [
       "<style>\n",
       ".list-inline {list-style: none; margin:0; padding: 0}\n",
       ".list-inline>li {display: inline-block}\n",
       ".list-inline>li:not(:last-child)::after {content: \"\\00b7\"; padding: 0 .5ex}\n",
       "</style>\n",
       "<ol class=list-inline><li>54809</li><li>926</li></ol>\n"
      ],
      "text/latex": [
       "\\begin{enumerate*}\n",
       "\\item 54809\n",
       "\\item 926\n",
       "\\end{enumerate*}\n"
      ],
      "text/markdown": [
       "1. 54809\n",
       "2. 926\n",
       "\n",
       "\n"
      ],
      "text/plain": [
       "[1] 54809   926"
      ]
     },
     "metadata": {},
     "output_type": "display_data"
    }
   ],
   "source": [
    "dim(counts_matrix_ped_ensembl)"
   ]
  },
  {
   "cell_type": "code",
   "execution_count": 63,
   "metadata": {},
   "outputs": [],
   "source": [
    "save(counts_matrix_ped_ensembl,file = paste0(datapath, \"exp_mat/counts_matrix_ped_ensembl_hgnc.RData\"))"
   ]
  },
  {
   "cell_type": "markdown",
   "metadata": {},
   "source": [
    "Subset to protein coding (for DESeq2)"
   ]
  },
  {
   "cell_type": "code",
   "execution_count": 64,
   "metadata": {},
   "outputs": [],
   "source": [
    "hg38 <- useMart(biomart=\"ENSEMBL_MART_ENSEMBL\", \n",
    "                host=\"www.ensembl.org\", \n",
    "                path=\"/biomart/martservice\", \n",
    "                dataset=\"hsapiens_gene_ensembl\")"
   ]
  },
  {
   "cell_type": "code",
   "execution_count": 65,
   "metadata": {},
   "outputs": [],
   "source": [
    "ensembls <- rownames(counts_matrix_ped_ensembl)"
   ]
  },
  {
   "cell_type": "code",
   "execution_count": 66,
   "metadata": {},
   "outputs": [],
   "source": [
    "ensembl_hgnc_type <- getBM(filters=\"ensembl_gene_id\",\n",
    "                           attributes=c(\"hgnc_symbol\",\"ensembl_gene_id\", \"entrezgene_id\", \"gene_biotype\"), \n",
    "                           values= ensembls, mart=hg38)"
   ]
  },
  {
   "cell_type": "code",
   "execution_count": 67,
   "metadata": {
    "scrolled": false
   },
   "outputs": [
    {
     "data": {
      "text/plain": [
       "\n",
       "                         IG_C_gene                    IG_C_pseudogene \n",
       "                                14                                  9 \n",
       "                         IG_D_gene                          IG_J_gene \n",
       "                                37                                 18 \n",
       "                   IG_J_pseudogene                          IG_V_gene \n",
       "                                 3                                144 \n",
       "                   IG_V_pseudogene                             lncRNA \n",
       "                               181                              14104 \n",
       "                             miRNA                           misc_RNA \n",
       "                              1442                               1069 \n",
       "                           Mt_rRNA                            Mt_tRNA \n",
       "                                 2                                 22 \n",
       "            polymorphic_pseudogene               processed_pseudogene \n",
       "                                42                              10075 \n",
       "                    protein_coding                         pseudogene \n",
       "                             19653                                 15 \n",
       "                          ribozyme                               rRNA \n",
       "                                 5                                 24 \n",
       "                   rRNA_pseudogene                             scaRNA \n",
       "                               490                                 17 \n",
       "                             scRNA                             snoRNA \n",
       "                                 1                                432 \n",
       "                             snRNA                               sRNA \n",
       "                              1823                                  1 \n",
       "                               TEC                          TR_C_gene \n",
       "                              1026                                  6 \n",
       "                         TR_D_gene                          TR_J_gene \n",
       "                                 4                                 79 \n",
       "                   TR_J_pseudogene                          TR_V_gene \n",
       "                                 4                                104 \n",
       "                   TR_V_pseudogene   transcribed_processed_pseudogene \n",
       "                                33                                492 \n",
       "    transcribed_unitary_pseudogene transcribed_unprocessed_pseudogene \n",
       "                               130                                864 \n",
       "   translated_processed_pseudogene  translated_unprocessed_pseudogene \n",
       "                                 1                                  1 \n",
       "                unitary_pseudogene             unprocessed_pseudogene \n",
       "                                72                               2449 \n",
       "                         vault_RNA                               <NA> \n",
       "                                 1                                  0 "
      ]
     },
     "metadata": {},
     "output_type": "display_data"
    }
   ],
   "source": [
    "table(ensembl_hgnc_type$gene_biotype, useNA = \"always\")"
   ]
  },
  {
   "cell_type": "code",
   "execution_count": 68,
   "metadata": {},
   "outputs": [],
   "source": [
    "proteincoding <- ensembl_hgnc_type$ensembl_gene_id[ensembl_hgnc_type$gene_biotype == \"protein_coding\"]"
   ]
  },
  {
   "cell_type": "code",
   "execution_count": 69,
   "metadata": {},
   "outputs": [],
   "source": [
    "#dedup protein coding genes\n",
    "proteincoding <- proteincoding[!duplicated(proteincoding)]"
   ]
  },
  {
   "cell_type": "code",
   "execution_count": 70,
   "metadata": {},
   "outputs": [],
   "source": [
    "counts_matrix_ped_ensembl_pc <- counts_matrix_ped_ensembl[proteincoding,]"
   ]
  },
  {
   "cell_type": "code",
   "execution_count": 71,
   "metadata": {},
   "outputs": [
    {
     "data": {
      "text/html": [
       "<style>\n",
       ".list-inline {list-style: none; margin:0; padding: 0}\n",
       ".list-inline>li {display: inline-block}\n",
       ".list-inline>li:not(:last-child)::after {content: \"\\00b7\"; padding: 0 .5ex}\n",
       "</style>\n",
       "<ol class=list-inline><li>54809</li><li>926</li></ol>\n"
      ],
      "text/latex": [
       "\\begin{enumerate*}\n",
       "\\item 54809\n",
       "\\item 926\n",
       "\\end{enumerate*}\n"
      ],
      "text/markdown": [
       "1. 54809\n",
       "2. 926\n",
       "\n",
       "\n"
      ],
      "text/plain": [
       "[1] 54809   926"
      ]
     },
     "metadata": {},
     "output_type": "display_data"
    },
    {
     "data": {
      "text/html": [
       "<style>\n",
       ".list-inline {list-style: none; margin:0; padding: 0}\n",
       ".list-inline>li {display: inline-block}\n",
       ".list-inline>li:not(:last-child)::after {content: \"\\00b7\"; padding: 0 .5ex}\n",
       "</style>\n",
       "<ol class=list-inline><li>19499</li><li>926</li></ol>\n"
      ],
      "text/latex": [
       "\\begin{enumerate*}\n",
       "\\item 19499\n",
       "\\item 926\n",
       "\\end{enumerate*}\n"
      ],
      "text/markdown": [
       "1. 19499\n",
       "2. 926\n",
       "\n",
       "\n"
      ],
      "text/plain": [
       "[1] 19499   926"
      ]
     },
     "metadata": {},
     "output_type": "display_data"
    }
   ],
   "source": [
    "dim(counts_matrix_ped_ensembl)\n",
    "dim(counts_matrix_ped_ensembl_pc)"
   ]
  },
  {
   "cell_type": "code",
   "execution_count": 72,
   "metadata": {},
   "outputs": [
    {
     "data": {
      "text/html": [
       "<table class=\"dataframe\">\n",
       "<caption>A data.frame: 6 × 926</caption>\n",
       "<thead>\n",
       "\t<tr><th></th><th scope=col>hgnc_symbol</th><th scope=col>TARGET-30-PAPZYP-01A</th><th scope=col>TARGET-30-PASWFB-01A</th><th scope=col>TARGET-30-PATINJ-01A</th><th scope=col>TARGET-30-PARZCJ-01A</th><th scope=col>TARGET-30-PASNZU-01A</th><th scope=col>TARGET-30-PASHFA-01A</th><th scope=col>TARGET-30-PATAYJ-01A</th><th scope=col>TARGET-30-PAPBGH-01A</th><th scope=col>TARGET-30-PARFWB-01A</th><th scope=col>⋯</th><th scope=col>ICGC_PA89</th><th scope=col>ICGC_PA9</th><th scope=col>ICGC_PA91</th><th scope=col>ICGC_PA92</th><th scope=col>ICGC_PA93</th><th scope=col>ICGC_PA94</th><th scope=col>ICGC_PA95</th><th scope=col>ICGC_PA96</th><th scope=col>ICGC_PA97</th><th scope=col>ICGC_PA99</th></tr>\n",
       "\t<tr><th></th><th scope=col>&lt;chr&gt;</th><th scope=col>&lt;dbl&gt;</th><th scope=col>&lt;dbl&gt;</th><th scope=col>&lt;dbl&gt;</th><th scope=col>&lt;dbl&gt;</th><th scope=col>&lt;dbl&gt;</th><th scope=col>&lt;dbl&gt;</th><th scope=col>&lt;dbl&gt;</th><th scope=col>&lt;dbl&gt;</th><th scope=col>&lt;dbl&gt;</th><th scope=col>⋯</th><th scope=col>&lt;dbl&gt;</th><th scope=col>&lt;dbl&gt;</th><th scope=col>&lt;dbl&gt;</th><th scope=col>&lt;dbl&gt;</th><th scope=col>&lt;dbl&gt;</th><th scope=col>&lt;dbl&gt;</th><th scope=col>&lt;dbl&gt;</th><th scope=col>&lt;dbl&gt;</th><th scope=col>&lt;dbl&gt;</th><th scope=col>&lt;dbl&gt;</th></tr>\n",
       "</thead>\n",
       "<tbody>\n",
       "\t<tr><th scope=row>ENSG00000000003</th><td>TSPAN6  </td><td>1799.0</td><td>1837.00</td><td>1795.00</td><td>1109.00</td><td>2637.00</td><td>2660.00</td><td>3018.00</td><td>1849.0</td><td> 761.00</td><td>⋯</td><td>4290.00</td><td>2705.00</td><td>1654.00</td><td>1597.00</td><td>6055.0</td><td>1177.00</td><td>1257.00</td><td>1079.00</td><td>1125.00</td><td>1358.00</td></tr>\n",
       "\t<tr><th scope=row>ENSG00000000005</th><td>TNMD    </td><td>  60.0</td><td>   2.00</td><td>   2.00</td><td>   4.00</td><td>   1.00</td><td>  10.00</td><td>   8.00</td><td>   0.0</td><td>   2.00</td><td>⋯</td><td>   7.00</td><td>   1.00</td><td>   7.00</td><td>   4.00</td><td>   7.0</td><td>   3.00</td><td>   3.00</td><td>   1.00</td><td>   3.00</td><td>   2.00</td></tr>\n",
       "\t<tr><th scope=row>ENSG00000000419</th><td>DPM1    </td><td>1482.0</td><td>1538.00</td><td>1607.00</td><td>1381.00</td><td>1524.00</td><td>1869.00</td><td>1509.00</td><td>1080.0</td><td>2209.00</td><td>⋯</td><td>1034.00</td><td> 351.00</td><td> 526.00</td><td> 456.00</td><td> 858.0</td><td> 199.00</td><td> 279.00</td><td> 296.00</td><td> 239.00</td><td> 311.00</td></tr>\n",
       "\t<tr><th scope=row>ENSG00000000457</th><td>SCYL3   </td><td> 884.3</td><td>1471.62</td><td> 851.33</td><td>1537.97</td><td>1174.61</td><td>1105.35</td><td>2023.41</td><td> 905.8</td><td>1249.03</td><td>⋯</td><td>1300.26</td><td> 447.57</td><td> 596.54</td><td> 533.35</td><td>1153.6</td><td> 335.25</td><td> 346.51</td><td> 374.04</td><td> 357.95</td><td> 391.74</td></tr>\n",
       "\t<tr><th scope=row>ENSG00000000460</th><td>C1orf112</td><td> 802.7</td><td> 986.38</td><td> 951.67</td><td> 812.03</td><td> 802.39</td><td> 827.65</td><td>1402.59</td><td> 888.2</td><td>1397.97</td><td>⋯</td><td> 289.74</td><td> 208.43</td><td> 296.46</td><td> 172.65</td><td> 558.4</td><td> 114.75</td><td> 130.49</td><td> 155.96</td><td> 111.05</td><td> 156.26</td></tr>\n",
       "\t<tr><th scope=row>ENSG00000000938</th><td>FGR     </td><td> 588.0</td><td>  64.00</td><td> 213.00</td><td>2190.00</td><td> 106.00</td><td> 453.00</td><td> 659.00</td><td>  96.0</td><td> 584.00</td><td>⋯</td><td> 212.00</td><td>  89.00</td><td> 139.00</td><td> 122.00</td><td> 318.0</td><td>  56.00</td><td>  45.00</td><td>  96.00</td><td>  79.00</td><td>  76.00</td></tr>\n",
       "</tbody>\n",
       "</table>\n"
      ],
      "text/latex": [
       "A data.frame: 6 × 926\n",
       "\\begin{tabular}{r|lllllllllllllllllllll}\n",
       "  & hgnc\\_symbol & TARGET-30-PAPZYP-01A & TARGET-30-PASWFB-01A & TARGET-30-PATINJ-01A & TARGET-30-PARZCJ-01A & TARGET-30-PASNZU-01A & TARGET-30-PASHFA-01A & TARGET-30-PATAYJ-01A & TARGET-30-PAPBGH-01A & TARGET-30-PARFWB-01A & ⋯ & ICGC\\_PA89 & ICGC\\_PA9 & ICGC\\_PA91 & ICGC\\_PA92 & ICGC\\_PA93 & ICGC\\_PA94 & ICGC\\_PA95 & ICGC\\_PA96 & ICGC\\_PA97 & ICGC\\_PA99\\\\\n",
       "  & <chr> & <dbl> & <dbl> & <dbl> & <dbl> & <dbl> & <dbl> & <dbl> & <dbl> & <dbl> & ⋯ & <dbl> & <dbl> & <dbl> & <dbl> & <dbl> & <dbl> & <dbl> & <dbl> & <dbl> & <dbl>\\\\\n",
       "\\hline\n",
       "\tENSG00000000003 & TSPAN6   & 1799.0 & 1837.00 & 1795.00 & 1109.00 & 2637.00 & 2660.00 & 3018.00 & 1849.0 &  761.00 & ⋯ & 4290.00 & 2705.00 & 1654.00 & 1597.00 & 6055.0 & 1177.00 & 1257.00 & 1079.00 & 1125.00 & 1358.00\\\\\n",
       "\tENSG00000000005 & TNMD     &   60.0 &    2.00 &    2.00 &    4.00 &    1.00 &   10.00 &    8.00 &    0.0 &    2.00 & ⋯ &    7.00 &    1.00 &    7.00 &    4.00 &    7.0 &    3.00 &    3.00 &    1.00 &    3.00 &    2.00\\\\\n",
       "\tENSG00000000419 & DPM1     & 1482.0 & 1538.00 & 1607.00 & 1381.00 & 1524.00 & 1869.00 & 1509.00 & 1080.0 & 2209.00 & ⋯ & 1034.00 &  351.00 &  526.00 &  456.00 &  858.0 &  199.00 &  279.00 &  296.00 &  239.00 &  311.00\\\\\n",
       "\tENSG00000000457 & SCYL3    &  884.3 & 1471.62 &  851.33 & 1537.97 & 1174.61 & 1105.35 & 2023.41 &  905.8 & 1249.03 & ⋯ & 1300.26 &  447.57 &  596.54 &  533.35 & 1153.6 &  335.25 &  346.51 &  374.04 &  357.95 &  391.74\\\\\n",
       "\tENSG00000000460 & C1orf112 &  802.7 &  986.38 &  951.67 &  812.03 &  802.39 &  827.65 & 1402.59 &  888.2 & 1397.97 & ⋯ &  289.74 &  208.43 &  296.46 &  172.65 &  558.4 &  114.75 &  130.49 &  155.96 &  111.05 &  156.26\\\\\n",
       "\tENSG00000000938 & FGR      &  588.0 &   64.00 &  213.00 & 2190.00 &  106.00 &  453.00 &  659.00 &   96.0 &  584.00 & ⋯ &  212.00 &   89.00 &  139.00 &  122.00 &  318.0 &   56.00 &   45.00 &   96.00 &   79.00 &   76.00\\\\\n",
       "\\end{tabular}\n"
      ],
      "text/markdown": [
       "\n",
       "A data.frame: 6 × 926\n",
       "\n",
       "| <!--/--> | hgnc_symbol &lt;chr&gt; | TARGET-30-PAPZYP-01A &lt;dbl&gt; | TARGET-30-PASWFB-01A &lt;dbl&gt; | TARGET-30-PATINJ-01A &lt;dbl&gt; | TARGET-30-PARZCJ-01A &lt;dbl&gt; | TARGET-30-PASNZU-01A &lt;dbl&gt; | TARGET-30-PASHFA-01A &lt;dbl&gt; | TARGET-30-PATAYJ-01A &lt;dbl&gt; | TARGET-30-PAPBGH-01A &lt;dbl&gt; | TARGET-30-PARFWB-01A &lt;dbl&gt; | ⋯ ⋯ | ICGC_PA89 &lt;dbl&gt; | ICGC_PA9 &lt;dbl&gt; | ICGC_PA91 &lt;dbl&gt; | ICGC_PA92 &lt;dbl&gt; | ICGC_PA93 &lt;dbl&gt; | ICGC_PA94 &lt;dbl&gt; | ICGC_PA95 &lt;dbl&gt; | ICGC_PA96 &lt;dbl&gt; | ICGC_PA97 &lt;dbl&gt; | ICGC_PA99 &lt;dbl&gt; |\n",
       "|---|---|---|---|---|---|---|---|---|---|---|---|---|---|---|---|---|---|---|---|---|---|\n",
       "| ENSG00000000003 | TSPAN6   | 1799.0 | 1837.00 | 1795.00 | 1109.00 | 2637.00 | 2660.00 | 3018.00 | 1849.0 |  761.00 | ⋯ | 4290.00 | 2705.00 | 1654.00 | 1597.00 | 6055.0 | 1177.00 | 1257.00 | 1079.00 | 1125.00 | 1358.00 |\n",
       "| ENSG00000000005 | TNMD     |   60.0 |    2.00 |    2.00 |    4.00 |    1.00 |   10.00 |    8.00 |    0.0 |    2.00 | ⋯ |    7.00 |    1.00 |    7.00 |    4.00 |    7.0 |    3.00 |    3.00 |    1.00 |    3.00 |    2.00 |\n",
       "| ENSG00000000419 | DPM1     | 1482.0 | 1538.00 | 1607.00 | 1381.00 | 1524.00 | 1869.00 | 1509.00 | 1080.0 | 2209.00 | ⋯ | 1034.00 |  351.00 |  526.00 |  456.00 |  858.0 |  199.00 |  279.00 |  296.00 |  239.00 |  311.00 |\n",
       "| ENSG00000000457 | SCYL3    |  884.3 | 1471.62 |  851.33 | 1537.97 | 1174.61 | 1105.35 | 2023.41 |  905.8 | 1249.03 | ⋯ | 1300.26 |  447.57 |  596.54 |  533.35 | 1153.6 |  335.25 |  346.51 |  374.04 |  357.95 |  391.74 |\n",
       "| ENSG00000000460 | C1orf112 |  802.7 |  986.38 |  951.67 |  812.03 |  802.39 |  827.65 | 1402.59 |  888.2 | 1397.97 | ⋯ |  289.74 |  208.43 |  296.46 |  172.65 |  558.4 |  114.75 |  130.49 |  155.96 |  111.05 |  156.26 |\n",
       "| ENSG00000000938 | FGR      |  588.0 |   64.00 |  213.00 | 2190.00 |  106.00 |  453.00 |  659.00 |   96.0 |  584.00 | ⋯ |  212.00 |   89.00 |  139.00 |  122.00 |  318.0 |   56.00 |   45.00 |   96.00 |   79.00 |   76.00 |\n",
       "\n"
      ],
      "text/plain": [
       "                hgnc_symbol TARGET-30-PAPZYP-01A TARGET-30-PASWFB-01A\n",
       "ENSG00000000003 TSPAN6      1799.0               1837.00             \n",
       "ENSG00000000005 TNMD          60.0                  2.00             \n",
       "ENSG00000000419 DPM1        1482.0               1538.00             \n",
       "ENSG00000000457 SCYL3        884.3               1471.62             \n",
       "ENSG00000000460 C1orf112     802.7                986.38             \n",
       "ENSG00000000938 FGR          588.0                 64.00             \n",
       "                TARGET-30-PATINJ-01A TARGET-30-PARZCJ-01A TARGET-30-PASNZU-01A\n",
       "ENSG00000000003 1795.00              1109.00              2637.00             \n",
       "ENSG00000000005    2.00                 4.00                 1.00             \n",
       "ENSG00000000419 1607.00              1381.00              1524.00             \n",
       "ENSG00000000457  851.33              1537.97              1174.61             \n",
       "ENSG00000000460  951.67               812.03               802.39             \n",
       "ENSG00000000938  213.00              2190.00               106.00             \n",
       "                TARGET-30-PASHFA-01A TARGET-30-PATAYJ-01A TARGET-30-PAPBGH-01A\n",
       "ENSG00000000003 2660.00              3018.00              1849.0              \n",
       "ENSG00000000005   10.00                 8.00                 0.0              \n",
       "ENSG00000000419 1869.00              1509.00              1080.0              \n",
       "ENSG00000000457 1105.35              2023.41               905.8              \n",
       "ENSG00000000460  827.65              1402.59               888.2              \n",
       "ENSG00000000938  453.00               659.00                96.0              \n",
       "                TARGET-30-PARFWB-01A ⋯ ICGC_PA89 ICGC_PA9 ICGC_PA91 ICGC_PA92\n",
       "ENSG00000000003  761.00              ⋯ 4290.00   2705.00  1654.00   1597.00  \n",
       "ENSG00000000005    2.00              ⋯    7.00      1.00     7.00      4.00  \n",
       "ENSG00000000419 2209.00              ⋯ 1034.00    351.00   526.00    456.00  \n",
       "ENSG00000000457 1249.03              ⋯ 1300.26    447.57   596.54    533.35  \n",
       "ENSG00000000460 1397.97              ⋯  289.74    208.43   296.46    172.65  \n",
       "ENSG00000000938  584.00              ⋯  212.00     89.00   139.00    122.00  \n",
       "                ICGC_PA93 ICGC_PA94 ICGC_PA95 ICGC_PA96 ICGC_PA97 ICGC_PA99\n",
       "ENSG00000000003 6055.0    1177.00   1257.00   1079.00   1125.00   1358.00  \n",
       "ENSG00000000005    7.0       3.00      3.00      1.00      3.00      2.00  \n",
       "ENSG00000000419  858.0     199.00    279.00    296.00    239.00    311.00  \n",
       "ENSG00000000457 1153.6     335.25    346.51    374.04    357.95    391.74  \n",
       "ENSG00000000460  558.4     114.75    130.49    155.96    111.05    156.26  \n",
       "ENSG00000000938  318.0      56.00     45.00     96.00     79.00     76.00  "
      ]
     },
     "metadata": {},
     "output_type": "display_data"
    }
   ],
   "source": [
    "head(counts_matrix_ped_ensembl_pc)"
   ]
  },
  {
   "cell_type": "code",
   "execution_count": 73,
   "metadata": {},
   "outputs": [],
   "source": [
    "save(counts_matrix_ped_ensembl_pc,\n",
    "     file = paste0(datapath, \"exp_mat/counts_matrix_ped_pc_ensembl_hgnc.RData\"))"
   ]
  }
 ],
 "metadata": {
  "kernelspec": {
   "display_name": "R 4.0",
   "language": "R",
   "name": "ir40"
  },
  "language_info": {
   "codemirror_mode": "r",
   "file_extension": ".r",
   "mimetype": "text/x-r-source",
   "name": "R",
   "pygments_lexer": "r",
   "version": "4.0.3"
  },
  "toc": {
   "base_numbering": 1,
   "nav_menu": {},
   "number_sections": false,
   "sideBar": true,
   "skip_h1_title": false,
   "title_cell": "Table of Contents",
   "title_sidebar": "Contents",
   "toc_cell": true,
   "toc_position": {
    "height": "calc(100% - 180px)",
    "left": "10px",
    "top": "150px",
    "width": "229.337px"
   },
   "toc_section_display": true,
   "toc_window_display": true
  }
 },
 "nbformat": 4,
 "nbformat_minor": 2
}
