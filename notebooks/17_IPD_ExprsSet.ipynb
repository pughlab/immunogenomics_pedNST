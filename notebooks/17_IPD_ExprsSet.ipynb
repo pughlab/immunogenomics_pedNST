{
 "cells": [
  {
   "cell_type": "markdown",
   "metadata": {
    "toc": true
   },
   "source": [
    "<h1>Table of Contents<span class=\"tocSkip\"></span></h1>\n",
    "<div class=\"toc\"><ul class=\"toc-item\"><li><span><a href=\"#Dependencies\" data-toc-modified-id=\"Dependencies-1\">Dependencies</a></span></li><li><span><a href=\"#Functions\" data-toc-modified-id=\"Functions-2\">Functions</a></span></li><li><span><a href=\"#Paths\" data-toc-modified-id=\"Paths-3\">Paths</a></span></li><li><span><a href=\"#Main\" data-toc-modified-id=\"Main-4\">Main</a></span><ul class=\"toc-item\"><li><span><a href=\"#Make-an-ExpressionSet-object\" data-toc-modified-id=\"Make-an-ExpressionSet-object-4.1\">Make an ExpressionSet object</a></span></li><li><span><a href=\"#Log2-transform-and-save\" data-toc-modified-id=\"Log2-transform-and-save-4.2\">Log2 transform and save</a></span></li><li><span><a href=\"#Batch-correct-log2-tpms\" data-toc-modified-id=\"Batch-correct-log2-tpms-4.3\">Batch correct log2 tpms</a></span></li></ul></li></ul></div>"
   ]
  },
  {
   "cell_type": "markdown",
   "metadata": {},
   "source": [
    "# Dependencies"
   ]
  },
  {
   "cell_type": "code",
   "execution_count": 1,
   "metadata": {
    "scrolled": true
   },
   "outputs": [
    {
     "name": "stderr",
     "output_type": "stream",
     "text": [
      "Loading required package: mgcv\n",
      "\n",
      "Loading required package: nlme\n",
      "\n",
      "This is mgcv 1.8-33. For overview type 'help(\"mgcv-package\")'.\n",
      "\n",
      "Loading required package: genefilter\n",
      "\n",
      "Loading required package: BiocParallel\n",
      "\n",
      "Loading required package: BiocGenerics\n",
      "\n",
      "Loading required package: parallel\n",
      "\n",
      "\n",
      "Attaching package: ‘BiocGenerics’\n",
      "\n",
      "\n",
      "The following objects are masked from ‘package:parallel’:\n",
      "\n",
      "    clusterApply, clusterApplyLB, clusterCall, clusterEvalQ,\n",
      "    clusterExport, clusterMap, parApply, parCapply, parLapply,\n",
      "    parLapplyLB, parRapply, parSapply, parSapplyLB\n",
      "\n",
      "\n",
      "The following objects are masked from ‘package:stats’:\n",
      "\n",
      "    IQR, mad, sd, var, xtabs\n",
      "\n",
      "\n",
      "The following objects are masked from ‘package:base’:\n",
      "\n",
      "    anyDuplicated, append, as.data.frame, basename, cbind, colnames,\n",
      "    dirname, do.call, duplicated, eval, evalq, Filter, Find, get, grep,\n",
      "    grepl, intersect, is.unsorted, lapply, Map, mapply, match, mget,\n",
      "    order, paste, pmax, pmax.int, pmin, pmin.int, Position, rank,\n",
      "    rbind, Reduce, rownames, sapply, setdiff, sort, table, tapply,\n",
      "    union, unique, unsplit, which.max, which.min\n",
      "\n",
      "\n",
      "Welcome to Bioconductor\n",
      "\n",
      "    Vignettes contain introductory material; view with\n",
      "    'browseVignettes()'. To cite Bioconductor, see\n",
      "    'citation(\"Biobase\")', and for packages 'citation(\"pkgname\")'.\n",
      "\n",
      "\n"
     ]
    }
   ],
   "source": [
    "library(sva)\n",
    "library(Biobase)"
   ]
  },
  {
   "cell_type": "markdown",
   "metadata": {},
   "source": [
    "# Functions"
   ]
  },
  {
   "cell_type": "code",
   "execution_count": 1,
   "metadata": {},
   "outputs": [],
   "source": [
    "source(\"~/OneDrive - UHN/R_src/ggplot2_theme.R\")\n",
    "source(\"~/OneDrive - UHN/R_src/color_schemes.R\")\n",
    "source(\"~/OneDrive - UHN/R_src/plotting_functions.R\")"
   ]
  },
  {
   "cell_type": "markdown",
   "metadata": {},
   "source": [
    "# Paths"
   ]
  },
  {
   "cell_type": "code",
   "execution_count": 2,
   "metadata": {},
   "outputs": [],
   "source": [
    "datapath <- \"/Users/anabbi/OneDrive - UHN/Documents/IPD2/Data/\"\n",
    "plotpath <- \"/Users/anabbi/OneDrive - UHN/Documents/IPD2/Plots/\""
   ]
  },
  {
   "cell_type": "markdown",
   "metadata": {},
   "source": [
    "# Main"
   ]
  },
  {
   "cell_type": "code",
   "execution_count": 5,
   "metadata": {},
   "outputs": [],
   "source": [
    "load(paste0(datapath,\"exp_mat/tpm_matrix_ped_final.RData\"))"
   ]
  },
  {
   "cell_type": "code",
   "execution_count": 6,
   "metadata": {},
   "outputs": [],
   "source": [
    "load(file = paste0(datapath, \"ESTIMATE/estimate_manifest_primary_clean_final.RData\"))"
   ]
  },
  {
   "cell_type": "code",
   "execution_count": 7,
   "metadata": {},
   "outputs": [],
   "source": [
    "estimate_manifest_primary_clean <- estimate_manifest_primary_clean[ estimate_manifest_primary_clean$group != \"TCGA\",]"
   ]
  },
  {
   "cell_type": "code",
   "execution_count": 8,
   "metadata": {},
   "outputs": [
    {
     "data": {
      "text/plain": [
       "\n",
       "  CBTN   ICGC TARGET \n",
       "   581    196    149 "
      ]
     },
     "metadata": {},
     "output_type": "display_data"
    }
   ],
   "source": [
    "table(estimate_manifest_primary_clean$group)"
   ]
  },
  {
   "cell_type": "code",
   "execution_count": 9,
   "metadata": {},
   "outputs": [
    {
     "data": {
      "text/html": [
       "<style>\n",
       ".list-inline {list-style: none; margin:0; padding: 0}\n",
       ".list-inline>li {display: inline-block}\n",
       ".list-inline>li:not(:last-child)::after {content: \"\\00b7\"; padding: 0 .5ex}\n",
       "</style>\n",
       "<ol class=list-inline><li>926</li><li>23</li></ol>\n"
      ],
      "text/latex": [
       "\\begin{enumerate*}\n",
       "\\item 926\n",
       "\\item 23\n",
       "\\end{enumerate*}\n"
      ],
      "text/markdown": [
       "1. 926\n",
       "2. 23\n",
       "\n",
       "\n"
      ],
      "text/plain": [
       "[1] 926  23"
      ]
     },
     "metadata": {},
     "output_type": "display_data"
    }
   ],
   "source": [
    "dim(estimate_manifest_primary_clean)"
   ]
  },
  {
   "cell_type": "code",
   "execution_count": 10,
   "metadata": {},
   "outputs": [
    {
     "data": {
      "text/html": [
       "<style>\n",
       ".list-inline {list-style: none; margin:0; padding: 0}\n",
       ".list-inline>li {display: inline-block}\n",
       ".list-inline>li:not(:last-child)::after {content: \"\\00b7\"; padding: 0 .5ex}\n",
       "</style>\n",
       "<ol class=list-inline><li>20105</li><li>925</li></ol>\n"
      ],
      "text/latex": [
       "\\begin{enumerate*}\n",
       "\\item 20105\n",
       "\\item 925\n",
       "\\end{enumerate*}\n"
      ],
      "text/markdown": [
       "1. 20105\n",
       "2. 925\n",
       "\n",
       "\n"
      ],
      "text/plain": [
       "[1] 20105   925"
      ]
     },
     "metadata": {},
     "output_type": "display_data"
    }
   ],
   "source": [
    "dim(tpm_matrix_ped_final)"
   ]
  },
  {
   "cell_type": "code",
   "execution_count": 11,
   "metadata": {},
   "outputs": [],
   "source": [
    "tpm_matrix_ped <- tpm_matrix_ped_final[, colnames(tpm_matrix_ped_final) %in% estimate_manifest_primary_clean$sample_id]"
   ]
  },
  {
   "cell_type": "code",
   "execution_count": 12,
   "metadata": {},
   "outputs": [
    {
     "data": {
      "text/html": [
       "<table class=\"dataframe\">\n",
       "<caption>A data.frame: 6 × 925</caption>\n",
       "<thead>\n",
       "\t<tr><th></th><th scope=col>7316-1926</th><th scope=col>7316-489</th><th scope=col>7316-13</th><th scope=col>7316-3936</th><th scope=col>7316-873</th><th scope=col>7316-2669</th><th scope=col>7316-1928</th><th scope=col>7316-1655</th><th scope=col>7316-2622</th><th scope=col>7316-2893</th><th scope=col>⋯</th><th scope=col>ICGC_PA89</th><th scope=col>ICGC_PA9</th><th scope=col>ICGC_PA91</th><th scope=col>ICGC_PA92</th><th scope=col>ICGC_PA93</th><th scope=col>ICGC_PA94</th><th scope=col>ICGC_PA95</th><th scope=col>ICGC_PA96</th><th scope=col>ICGC_PA97</th><th scope=col>ICGC_PA99</th></tr>\n",
       "\t<tr><th></th><th scope=col>&lt;dbl&gt;</th><th scope=col>&lt;dbl&gt;</th><th scope=col>&lt;dbl&gt;</th><th scope=col>&lt;dbl&gt;</th><th scope=col>&lt;dbl&gt;</th><th scope=col>&lt;dbl&gt;</th><th scope=col>&lt;dbl&gt;</th><th scope=col>&lt;dbl&gt;</th><th scope=col>&lt;dbl&gt;</th><th scope=col>&lt;dbl&gt;</th><th scope=col>⋯</th><th scope=col>&lt;dbl&gt;</th><th scope=col>&lt;dbl&gt;</th><th scope=col>&lt;dbl&gt;</th><th scope=col>&lt;dbl&gt;</th><th scope=col>&lt;dbl&gt;</th><th scope=col>&lt;dbl&gt;</th><th scope=col>&lt;dbl&gt;</th><th scope=col>&lt;dbl&gt;</th><th scope=col>&lt;dbl&gt;</th><th scope=col>&lt;dbl&gt;</th></tr>\n",
       "</thead>\n",
       "<tbody>\n",
       "\t<tr><th scope=row>TSPAN6</th><td>8.66</td><td>6.15</td><td>0.73</td><td>1.50</td><td>29.41</td><td>4.62</td><td>6.65</td><td>1.78</td><td>0.82</td><td>2.87</td><td>⋯</td><td>10.59</td><td>13.17</td><td>5.95</td><td>7.56</td><td>12.42</td><td>11.44</td><td>12.69</td><td>9.92</td><td>12.44</td><td>10.51</td></tr>\n",
       "\t<tr><th scope=row>TNMD</th><td>0.02</td><td>0.03</td><td>0.02</td><td>0.01</td><td> 0.33</td><td>0.03</td><td>0.07</td><td>0.01</td><td>0.00</td><td>0.00</td><td>⋯</td><td> 0.05</td><td> 0.01</td><td>0.09</td><td>0.03</td><td> 0.04</td><td> 0.06</td><td> 0.13</td><td>0.02</td><td> 0.07</td><td> 0.03</td></tr>\n",
       "\t<tr><th scope=row>DPM1</th><td>6.15</td><td>5.09</td><td>1.09</td><td>3.68</td><td> 4.89</td><td>4.75</td><td>3.07</td><td>4.58</td><td>0.78</td><td>3.27</td><td>⋯</td><td> 5.83</td><td> 3.99</td><td>4.26</td><td>4.41</td><td> 4.03</td><td> 4.62</td><td> 6.50</td><td>6.17</td><td> 6.01</td><td> 5.47</td></tr>\n",
       "\t<tr><th scope=row>SCYL3</th><td>1.75</td><td>1.71</td><td>0.44</td><td>1.44</td><td> 1.52</td><td>1.61</td><td>1.01</td><td>1.18</td><td>0.13</td><td>1.39</td><td>⋯</td><td> 1.88</td><td> 1.11</td><td>1.27</td><td>1.33</td><td> 1.41</td><td> 1.73</td><td> 1.81</td><td>1.81</td><td> 2.19</td><td> 1.83</td></tr>\n",
       "\t<tr><th scope=row>C1orf112</th><td>1.12</td><td>2.78</td><td>0.43</td><td>0.71</td><td> 1.00</td><td>1.64</td><td>0.58</td><td>1.61</td><td>0.25</td><td>1.57</td><td>⋯</td><td> 0.68</td><td> 1.02</td><td>0.91</td><td>0.63</td><td> 1.05</td><td> 1.06</td><td> 1.38</td><td>1.19</td><td> 1.10</td><td> 1.37</td></tr>\n",
       "\t<tr><th scope=row>FGR</th><td>0.90</td><td>0.18</td><td>0.36</td><td>1.32</td><td> 0.93</td><td>1.01</td><td>0.83</td><td>0.09</td><td>0.40</td><td>1.03</td><td>⋯</td><td> 0.58</td><td> 0.45</td><td>0.54</td><td>0.55</td><td> 0.72</td><td> 0.48</td><td> 0.41</td><td>0.88</td><td> 1.22</td><td> 0.65</td></tr>\n",
       "</tbody>\n",
       "</table>\n"
      ],
      "text/latex": [
       "A data.frame: 6 × 925\n",
       "\\begin{tabular}{r|lllllllllllllllllllll}\n",
       "  & 7316-1926 & 7316-489 & 7316-13 & 7316-3936 & 7316-873 & 7316-2669 & 7316-1928 & 7316-1655 & 7316-2622 & 7316-2893 & ⋯ & ICGC\\_PA89 & ICGC\\_PA9 & ICGC\\_PA91 & ICGC\\_PA92 & ICGC\\_PA93 & ICGC\\_PA94 & ICGC\\_PA95 & ICGC\\_PA96 & ICGC\\_PA97 & ICGC\\_PA99\\\\\n",
       "  & <dbl> & <dbl> & <dbl> & <dbl> & <dbl> & <dbl> & <dbl> & <dbl> & <dbl> & <dbl> & ⋯ & <dbl> & <dbl> & <dbl> & <dbl> & <dbl> & <dbl> & <dbl> & <dbl> & <dbl> & <dbl>\\\\\n",
       "\\hline\n",
       "\tTSPAN6 & 8.66 & 6.15 & 0.73 & 1.50 & 29.41 & 4.62 & 6.65 & 1.78 & 0.82 & 2.87 & ⋯ & 10.59 & 13.17 & 5.95 & 7.56 & 12.42 & 11.44 & 12.69 & 9.92 & 12.44 & 10.51\\\\\n",
       "\tTNMD & 0.02 & 0.03 & 0.02 & 0.01 &  0.33 & 0.03 & 0.07 & 0.01 & 0.00 & 0.00 & ⋯ &  0.05 &  0.01 & 0.09 & 0.03 &  0.04 &  0.06 &  0.13 & 0.02 &  0.07 &  0.03\\\\\n",
       "\tDPM1 & 6.15 & 5.09 & 1.09 & 3.68 &  4.89 & 4.75 & 3.07 & 4.58 & 0.78 & 3.27 & ⋯ &  5.83 &  3.99 & 4.26 & 4.41 &  4.03 &  4.62 &  6.50 & 6.17 &  6.01 &  5.47\\\\\n",
       "\tSCYL3 & 1.75 & 1.71 & 0.44 & 1.44 &  1.52 & 1.61 & 1.01 & 1.18 & 0.13 & 1.39 & ⋯ &  1.88 &  1.11 & 1.27 & 1.33 &  1.41 &  1.73 &  1.81 & 1.81 &  2.19 &  1.83\\\\\n",
       "\tC1orf112 & 1.12 & 2.78 & 0.43 & 0.71 &  1.00 & 1.64 & 0.58 & 1.61 & 0.25 & 1.57 & ⋯ &  0.68 &  1.02 & 0.91 & 0.63 &  1.05 &  1.06 &  1.38 & 1.19 &  1.10 &  1.37\\\\\n",
       "\tFGR & 0.90 & 0.18 & 0.36 & 1.32 &  0.93 & 1.01 & 0.83 & 0.09 & 0.40 & 1.03 & ⋯ &  0.58 &  0.45 & 0.54 & 0.55 &  0.72 &  0.48 &  0.41 & 0.88 &  1.22 &  0.65\\\\\n",
       "\\end{tabular}\n"
      ],
      "text/markdown": [
       "\n",
       "A data.frame: 6 × 925\n",
       "\n",
       "| <!--/--> | 7316-1926 &lt;dbl&gt; | 7316-489 &lt;dbl&gt; | 7316-13 &lt;dbl&gt; | 7316-3936 &lt;dbl&gt; | 7316-873 &lt;dbl&gt; | 7316-2669 &lt;dbl&gt; | 7316-1928 &lt;dbl&gt; | 7316-1655 &lt;dbl&gt; | 7316-2622 &lt;dbl&gt; | 7316-2893 &lt;dbl&gt; | ⋯ ⋯ | ICGC_PA89 &lt;dbl&gt; | ICGC_PA9 &lt;dbl&gt; | ICGC_PA91 &lt;dbl&gt; | ICGC_PA92 &lt;dbl&gt; | ICGC_PA93 &lt;dbl&gt; | ICGC_PA94 &lt;dbl&gt; | ICGC_PA95 &lt;dbl&gt; | ICGC_PA96 &lt;dbl&gt; | ICGC_PA97 &lt;dbl&gt; | ICGC_PA99 &lt;dbl&gt; |\n",
       "|---|---|---|---|---|---|---|---|---|---|---|---|---|---|---|---|---|---|---|---|---|---|\n",
       "| TSPAN6 | 8.66 | 6.15 | 0.73 | 1.50 | 29.41 | 4.62 | 6.65 | 1.78 | 0.82 | 2.87 | ⋯ | 10.59 | 13.17 | 5.95 | 7.56 | 12.42 | 11.44 | 12.69 | 9.92 | 12.44 | 10.51 |\n",
       "| TNMD | 0.02 | 0.03 | 0.02 | 0.01 |  0.33 | 0.03 | 0.07 | 0.01 | 0.00 | 0.00 | ⋯ |  0.05 |  0.01 | 0.09 | 0.03 |  0.04 |  0.06 |  0.13 | 0.02 |  0.07 |  0.03 |\n",
       "| DPM1 | 6.15 | 5.09 | 1.09 | 3.68 |  4.89 | 4.75 | 3.07 | 4.58 | 0.78 | 3.27 | ⋯ |  5.83 |  3.99 | 4.26 | 4.41 |  4.03 |  4.62 |  6.50 | 6.17 |  6.01 |  5.47 |\n",
       "| SCYL3 | 1.75 | 1.71 | 0.44 | 1.44 |  1.52 | 1.61 | 1.01 | 1.18 | 0.13 | 1.39 | ⋯ |  1.88 |  1.11 | 1.27 | 1.33 |  1.41 |  1.73 |  1.81 | 1.81 |  2.19 |  1.83 |\n",
       "| C1orf112 | 1.12 | 2.78 | 0.43 | 0.71 |  1.00 | 1.64 | 0.58 | 1.61 | 0.25 | 1.57 | ⋯ |  0.68 |  1.02 | 0.91 | 0.63 |  1.05 |  1.06 |  1.38 | 1.19 |  1.10 |  1.37 |\n",
       "| FGR | 0.90 | 0.18 | 0.36 | 1.32 |  0.93 | 1.01 | 0.83 | 0.09 | 0.40 | 1.03 | ⋯ |  0.58 |  0.45 | 0.54 | 0.55 |  0.72 |  0.48 |  0.41 | 0.88 |  1.22 |  0.65 |\n",
       "\n"
      ],
      "text/plain": [
       "         7316-1926 7316-489 7316-13 7316-3936 7316-873 7316-2669 7316-1928\n",
       "TSPAN6   8.66      6.15     0.73    1.50      29.41    4.62      6.65     \n",
       "TNMD     0.02      0.03     0.02    0.01       0.33    0.03      0.07     \n",
       "DPM1     6.15      5.09     1.09    3.68       4.89    4.75      3.07     \n",
       "SCYL3    1.75      1.71     0.44    1.44       1.52    1.61      1.01     \n",
       "C1orf112 1.12      2.78     0.43    0.71       1.00    1.64      0.58     \n",
       "FGR      0.90      0.18     0.36    1.32       0.93    1.01      0.83     \n",
       "         7316-1655 7316-2622 7316-2893 ⋯ ICGC_PA89 ICGC_PA9 ICGC_PA91 ICGC_PA92\n",
       "TSPAN6   1.78      0.82      2.87      ⋯ 10.59     13.17    5.95      7.56     \n",
       "TNMD     0.01      0.00      0.00      ⋯  0.05      0.01    0.09      0.03     \n",
       "DPM1     4.58      0.78      3.27      ⋯  5.83      3.99    4.26      4.41     \n",
       "SCYL3    1.18      0.13      1.39      ⋯  1.88      1.11    1.27      1.33     \n",
       "C1orf112 1.61      0.25      1.57      ⋯  0.68      1.02    0.91      0.63     \n",
       "FGR      0.09      0.40      1.03      ⋯  0.58      0.45    0.54      0.55     \n",
       "         ICGC_PA93 ICGC_PA94 ICGC_PA95 ICGC_PA96 ICGC_PA97 ICGC_PA99\n",
       "TSPAN6   12.42     11.44     12.69     9.92      12.44     10.51    \n",
       "TNMD      0.04      0.06      0.13     0.02       0.07      0.03    \n",
       "DPM1      4.03      4.62      6.50     6.17       6.01      5.47    \n",
       "SCYL3     1.41      1.73      1.81     1.81       2.19      1.83    \n",
       "C1orf112  1.05      1.06      1.38     1.19       1.10      1.37    \n",
       "FGR       0.72      0.48      0.41     0.88       1.22      0.65    "
      ]
     },
     "metadata": {},
     "output_type": "display_data"
    }
   ],
   "source": [
    "head(tpm_matrix_ped)"
   ]
  },
  {
   "cell_type": "markdown",
   "metadata": {},
   "source": [
    "## Make an ExpressionSet object"
   ]
  },
  {
   "cell_type": "code",
   "execution_count": 13,
   "metadata": {},
   "outputs": [],
   "source": [
    "metadata <- estimate_manifest_primary_clean"
   ]
  },
  {
   "cell_type": "code",
   "execution_count": 14,
   "metadata": {},
   "outputs": [
    {
     "data": {
      "text/html": [
       "'H049-SPP6'"
      ],
      "text/latex": [
       "'H049-SPP6'"
      ],
      "text/markdown": [
       "'H049-SPP6'"
      ],
      "text/plain": [
       "[1] \"H049-SPP6\""
      ]
     },
     "metadata": {},
     "output_type": "display_data"
    }
   ],
   "source": [
    "metadata$sample_id[!metadata$sample_id %in% colnames(tpm_matrix_ped)]"
   ]
  },
  {
   "cell_type": "code",
   "execution_count": 15,
   "metadata": {},
   "outputs": [],
   "source": [
    "metadata <- metadata[metadata$sample_id %in% colnames(tpm_matrix_ped),]"
   ]
  },
  {
   "cell_type": "markdown",
   "metadata": {},
   "source": [
    "The sample above is not available in hg38"
   ]
  },
  {
   "cell_type": "code",
   "execution_count": 16,
   "metadata": {},
   "outputs": [],
   "source": [
    "rownames(metadata) <- metadata$sample_id"
   ]
  },
  {
   "cell_type": "code",
   "execution_count": 17,
   "metadata": {},
   "outputs": [],
   "source": [
    "varData <- new(\"AnnotatedDataFrame\", data = metadata)"
   ]
  },
  {
   "cell_type": "code",
   "execution_count": 18,
   "metadata": {},
   "outputs": [
    {
     "data": {
      "text/html": [
       "<style>\n",
       ".list-inline {list-style: none; margin:0; padding: 0}\n",
       ".list-inline>li {display: inline-block}\n",
       ".list-inline>li:not(:last-child)::after {content: \"\\00b7\"; padding: 0 .5ex}\n",
       "</style>\n",
       "<ol class=list-inline><li>925</li><li>23</li></ol>\n"
      ],
      "text/latex": [
       "\\begin{enumerate*}\n",
       "\\item 925\n",
       "\\item 23\n",
       "\\end{enumerate*}\n"
      ],
      "text/markdown": [
       "1. 925\n",
       "2. 23\n",
       "\n",
       "\n"
      ],
      "text/plain": [
       "[1] 925  23"
      ]
     },
     "metadata": {},
     "output_type": "display_data"
    }
   ],
   "source": [
    "dim(metadata)"
   ]
  },
  {
   "cell_type": "code",
   "execution_count": 19,
   "metadata": {},
   "outputs": [
    {
     "data": {
      "text/html": [
       "<table class=\"dataframe\">\n",
       "<caption>A data.frame: 6 × 925</caption>\n",
       "<thead>\n",
       "\t<tr><th></th><th scope=col>7316-1926</th><th scope=col>7316-489</th><th scope=col>7316-13</th><th scope=col>7316-3936</th><th scope=col>7316-873</th><th scope=col>7316-2669</th><th scope=col>7316-1928</th><th scope=col>7316-1655</th><th scope=col>7316-2622</th><th scope=col>7316-2893</th><th scope=col>⋯</th><th scope=col>ICGC_PA89</th><th scope=col>ICGC_PA9</th><th scope=col>ICGC_PA91</th><th scope=col>ICGC_PA92</th><th scope=col>ICGC_PA93</th><th scope=col>ICGC_PA94</th><th scope=col>ICGC_PA95</th><th scope=col>ICGC_PA96</th><th scope=col>ICGC_PA97</th><th scope=col>ICGC_PA99</th></tr>\n",
       "\t<tr><th></th><th scope=col>&lt;dbl&gt;</th><th scope=col>&lt;dbl&gt;</th><th scope=col>&lt;dbl&gt;</th><th scope=col>&lt;dbl&gt;</th><th scope=col>&lt;dbl&gt;</th><th scope=col>&lt;dbl&gt;</th><th scope=col>&lt;dbl&gt;</th><th scope=col>&lt;dbl&gt;</th><th scope=col>&lt;dbl&gt;</th><th scope=col>&lt;dbl&gt;</th><th scope=col>⋯</th><th scope=col>&lt;dbl&gt;</th><th scope=col>&lt;dbl&gt;</th><th scope=col>&lt;dbl&gt;</th><th scope=col>&lt;dbl&gt;</th><th scope=col>&lt;dbl&gt;</th><th scope=col>&lt;dbl&gt;</th><th scope=col>&lt;dbl&gt;</th><th scope=col>&lt;dbl&gt;</th><th scope=col>&lt;dbl&gt;</th><th scope=col>&lt;dbl&gt;</th></tr>\n",
       "</thead>\n",
       "<tbody>\n",
       "\t<tr><th scope=row>TSPAN6</th><td>8.66</td><td>6.15</td><td>0.73</td><td>1.50</td><td>29.41</td><td>4.62</td><td>6.65</td><td>1.78</td><td>0.82</td><td>2.87</td><td>⋯</td><td>10.59</td><td>13.17</td><td>5.95</td><td>7.56</td><td>12.42</td><td>11.44</td><td>12.69</td><td>9.92</td><td>12.44</td><td>10.51</td></tr>\n",
       "\t<tr><th scope=row>TNMD</th><td>0.02</td><td>0.03</td><td>0.02</td><td>0.01</td><td> 0.33</td><td>0.03</td><td>0.07</td><td>0.01</td><td>0.00</td><td>0.00</td><td>⋯</td><td> 0.05</td><td> 0.01</td><td>0.09</td><td>0.03</td><td> 0.04</td><td> 0.06</td><td> 0.13</td><td>0.02</td><td> 0.07</td><td> 0.03</td></tr>\n",
       "\t<tr><th scope=row>DPM1</th><td>6.15</td><td>5.09</td><td>1.09</td><td>3.68</td><td> 4.89</td><td>4.75</td><td>3.07</td><td>4.58</td><td>0.78</td><td>3.27</td><td>⋯</td><td> 5.83</td><td> 3.99</td><td>4.26</td><td>4.41</td><td> 4.03</td><td> 4.62</td><td> 6.50</td><td>6.17</td><td> 6.01</td><td> 5.47</td></tr>\n",
       "\t<tr><th scope=row>SCYL3</th><td>1.75</td><td>1.71</td><td>0.44</td><td>1.44</td><td> 1.52</td><td>1.61</td><td>1.01</td><td>1.18</td><td>0.13</td><td>1.39</td><td>⋯</td><td> 1.88</td><td> 1.11</td><td>1.27</td><td>1.33</td><td> 1.41</td><td> 1.73</td><td> 1.81</td><td>1.81</td><td> 2.19</td><td> 1.83</td></tr>\n",
       "\t<tr><th scope=row>C1orf112</th><td>1.12</td><td>2.78</td><td>0.43</td><td>0.71</td><td> 1.00</td><td>1.64</td><td>0.58</td><td>1.61</td><td>0.25</td><td>1.57</td><td>⋯</td><td> 0.68</td><td> 1.02</td><td>0.91</td><td>0.63</td><td> 1.05</td><td> 1.06</td><td> 1.38</td><td>1.19</td><td> 1.10</td><td> 1.37</td></tr>\n",
       "\t<tr><th scope=row>FGR</th><td>0.90</td><td>0.18</td><td>0.36</td><td>1.32</td><td> 0.93</td><td>1.01</td><td>0.83</td><td>0.09</td><td>0.40</td><td>1.03</td><td>⋯</td><td> 0.58</td><td> 0.45</td><td>0.54</td><td>0.55</td><td> 0.72</td><td> 0.48</td><td> 0.41</td><td>0.88</td><td> 1.22</td><td> 0.65</td></tr>\n",
       "</tbody>\n",
       "</table>\n"
      ],
      "text/latex": [
       "A data.frame: 6 × 925\n",
       "\\begin{tabular}{r|lllllllllllllllllllll}\n",
       "  & 7316-1926 & 7316-489 & 7316-13 & 7316-3936 & 7316-873 & 7316-2669 & 7316-1928 & 7316-1655 & 7316-2622 & 7316-2893 & ⋯ & ICGC\\_PA89 & ICGC\\_PA9 & ICGC\\_PA91 & ICGC\\_PA92 & ICGC\\_PA93 & ICGC\\_PA94 & ICGC\\_PA95 & ICGC\\_PA96 & ICGC\\_PA97 & ICGC\\_PA99\\\\\n",
       "  & <dbl> & <dbl> & <dbl> & <dbl> & <dbl> & <dbl> & <dbl> & <dbl> & <dbl> & <dbl> & ⋯ & <dbl> & <dbl> & <dbl> & <dbl> & <dbl> & <dbl> & <dbl> & <dbl> & <dbl> & <dbl>\\\\\n",
       "\\hline\n",
       "\tTSPAN6 & 8.66 & 6.15 & 0.73 & 1.50 & 29.41 & 4.62 & 6.65 & 1.78 & 0.82 & 2.87 & ⋯ & 10.59 & 13.17 & 5.95 & 7.56 & 12.42 & 11.44 & 12.69 & 9.92 & 12.44 & 10.51\\\\\n",
       "\tTNMD & 0.02 & 0.03 & 0.02 & 0.01 &  0.33 & 0.03 & 0.07 & 0.01 & 0.00 & 0.00 & ⋯ &  0.05 &  0.01 & 0.09 & 0.03 &  0.04 &  0.06 &  0.13 & 0.02 &  0.07 &  0.03\\\\\n",
       "\tDPM1 & 6.15 & 5.09 & 1.09 & 3.68 &  4.89 & 4.75 & 3.07 & 4.58 & 0.78 & 3.27 & ⋯ &  5.83 &  3.99 & 4.26 & 4.41 &  4.03 &  4.62 &  6.50 & 6.17 &  6.01 &  5.47\\\\\n",
       "\tSCYL3 & 1.75 & 1.71 & 0.44 & 1.44 &  1.52 & 1.61 & 1.01 & 1.18 & 0.13 & 1.39 & ⋯ &  1.88 &  1.11 & 1.27 & 1.33 &  1.41 &  1.73 &  1.81 & 1.81 &  2.19 &  1.83\\\\\n",
       "\tC1orf112 & 1.12 & 2.78 & 0.43 & 0.71 &  1.00 & 1.64 & 0.58 & 1.61 & 0.25 & 1.57 & ⋯ &  0.68 &  1.02 & 0.91 & 0.63 &  1.05 &  1.06 &  1.38 & 1.19 &  1.10 &  1.37\\\\\n",
       "\tFGR & 0.90 & 0.18 & 0.36 & 1.32 &  0.93 & 1.01 & 0.83 & 0.09 & 0.40 & 1.03 & ⋯ &  0.58 &  0.45 & 0.54 & 0.55 &  0.72 &  0.48 &  0.41 & 0.88 &  1.22 &  0.65\\\\\n",
       "\\end{tabular}\n"
      ],
      "text/markdown": [
       "\n",
       "A data.frame: 6 × 925\n",
       "\n",
       "| <!--/--> | 7316-1926 &lt;dbl&gt; | 7316-489 &lt;dbl&gt; | 7316-13 &lt;dbl&gt; | 7316-3936 &lt;dbl&gt; | 7316-873 &lt;dbl&gt; | 7316-2669 &lt;dbl&gt; | 7316-1928 &lt;dbl&gt; | 7316-1655 &lt;dbl&gt; | 7316-2622 &lt;dbl&gt; | 7316-2893 &lt;dbl&gt; | ⋯ ⋯ | ICGC_PA89 &lt;dbl&gt; | ICGC_PA9 &lt;dbl&gt; | ICGC_PA91 &lt;dbl&gt; | ICGC_PA92 &lt;dbl&gt; | ICGC_PA93 &lt;dbl&gt; | ICGC_PA94 &lt;dbl&gt; | ICGC_PA95 &lt;dbl&gt; | ICGC_PA96 &lt;dbl&gt; | ICGC_PA97 &lt;dbl&gt; | ICGC_PA99 &lt;dbl&gt; |\n",
       "|---|---|---|---|---|---|---|---|---|---|---|---|---|---|---|---|---|---|---|---|---|---|\n",
       "| TSPAN6 | 8.66 | 6.15 | 0.73 | 1.50 | 29.41 | 4.62 | 6.65 | 1.78 | 0.82 | 2.87 | ⋯ | 10.59 | 13.17 | 5.95 | 7.56 | 12.42 | 11.44 | 12.69 | 9.92 | 12.44 | 10.51 |\n",
       "| TNMD | 0.02 | 0.03 | 0.02 | 0.01 |  0.33 | 0.03 | 0.07 | 0.01 | 0.00 | 0.00 | ⋯ |  0.05 |  0.01 | 0.09 | 0.03 |  0.04 |  0.06 |  0.13 | 0.02 |  0.07 |  0.03 |\n",
       "| DPM1 | 6.15 | 5.09 | 1.09 | 3.68 |  4.89 | 4.75 | 3.07 | 4.58 | 0.78 | 3.27 | ⋯ |  5.83 |  3.99 | 4.26 | 4.41 |  4.03 |  4.62 |  6.50 | 6.17 |  6.01 |  5.47 |\n",
       "| SCYL3 | 1.75 | 1.71 | 0.44 | 1.44 |  1.52 | 1.61 | 1.01 | 1.18 | 0.13 | 1.39 | ⋯ |  1.88 |  1.11 | 1.27 | 1.33 |  1.41 |  1.73 |  1.81 | 1.81 |  2.19 |  1.83 |\n",
       "| C1orf112 | 1.12 | 2.78 | 0.43 | 0.71 |  1.00 | 1.64 | 0.58 | 1.61 | 0.25 | 1.57 | ⋯ |  0.68 |  1.02 | 0.91 | 0.63 |  1.05 |  1.06 |  1.38 | 1.19 |  1.10 |  1.37 |\n",
       "| FGR | 0.90 | 0.18 | 0.36 | 1.32 |  0.93 | 1.01 | 0.83 | 0.09 | 0.40 | 1.03 | ⋯ |  0.58 |  0.45 | 0.54 | 0.55 |  0.72 |  0.48 |  0.41 | 0.88 |  1.22 |  0.65 |\n",
       "\n"
      ],
      "text/plain": [
       "         7316-1926 7316-489 7316-13 7316-3936 7316-873 7316-2669 7316-1928\n",
       "TSPAN6   8.66      6.15     0.73    1.50      29.41    4.62      6.65     \n",
       "TNMD     0.02      0.03     0.02    0.01       0.33    0.03      0.07     \n",
       "DPM1     6.15      5.09     1.09    3.68       4.89    4.75      3.07     \n",
       "SCYL3    1.75      1.71     0.44    1.44       1.52    1.61      1.01     \n",
       "C1orf112 1.12      2.78     0.43    0.71       1.00    1.64      0.58     \n",
       "FGR      0.90      0.18     0.36    1.32       0.93    1.01      0.83     \n",
       "         7316-1655 7316-2622 7316-2893 ⋯ ICGC_PA89 ICGC_PA9 ICGC_PA91 ICGC_PA92\n",
       "TSPAN6   1.78      0.82      2.87      ⋯ 10.59     13.17    5.95      7.56     \n",
       "TNMD     0.01      0.00      0.00      ⋯  0.05      0.01    0.09      0.03     \n",
       "DPM1     4.58      0.78      3.27      ⋯  5.83      3.99    4.26      4.41     \n",
       "SCYL3    1.18      0.13      1.39      ⋯  1.88      1.11    1.27      1.33     \n",
       "C1orf112 1.61      0.25      1.57      ⋯  0.68      1.02    0.91      0.63     \n",
       "FGR      0.09      0.40      1.03      ⋯  0.58      0.45    0.54      0.55     \n",
       "         ICGC_PA93 ICGC_PA94 ICGC_PA95 ICGC_PA96 ICGC_PA97 ICGC_PA99\n",
       "TSPAN6   12.42     11.44     12.69     9.92      12.44     10.51    \n",
       "TNMD      0.04      0.06      0.13     0.02       0.07      0.03    \n",
       "DPM1      4.03      4.62      6.50     6.17       6.01      5.47    \n",
       "SCYL3     1.41      1.73      1.81     1.81       2.19      1.83    \n",
       "C1orf112  1.05      1.06      1.38     1.19       1.10      1.37    \n",
       "FGR       0.72      0.48      0.41     0.88       1.22      0.65    "
      ]
     },
     "metadata": {},
     "output_type": "display_data"
    }
   ],
   "source": [
    "head(tpm_matrix_ped)"
   ]
  },
  {
   "cell_type": "code",
   "execution_count": 20,
   "metadata": {},
   "outputs": [],
   "source": [
    "tpm_matrix_ped <- as.matrix(tpm_matrix_ped[,rownames(metadata)])"
   ]
  },
  {
   "cell_type": "code",
   "execution_count": 21,
   "metadata": {},
   "outputs": [],
   "source": [
    "IPD_Set <- new(\"ExpressionSet\", exprs = tpm_matrix_ped, phenoData = varData)"
   ]
  },
  {
   "cell_type": "code",
   "execution_count": 22,
   "metadata": {},
   "outputs": [
    {
     "data": {
      "text/plain": [
       "ExpressionSet (storageMode: lockedEnvironment)\n",
       "assayData: 20105 features, 925 samples \n",
       "  element names: exprs \n",
       "protocolData: none\n",
       "phenoData\n",
       "  sampleNames: TARGET-30-PAIFXV-01A TARGET-30-PAIPGU-01A ... ICGC_PA99\n",
       "    (925 total)\n",
       "  varLabels: aliquot_id StromalScore ... CRI_cluster (23 total)\n",
       "  varMetadata: labelDescription\n",
       "featureData: none\n",
       "experimentData: use 'experimentData(object)'\n",
       "Annotation:  "
      ]
     },
     "metadata": {},
     "output_type": "display_data"
    }
   ],
   "source": [
    "IPD_Set"
   ]
  },
  {
   "cell_type": "code",
   "execution_count": 23,
   "metadata": {},
   "outputs": [],
   "source": [
    "save(IPD_Set, file = paste0(datapath, \"exp_mat/IPD_ExprSet.RData\"))"
   ]
  },
  {
   "cell_type": "markdown",
   "metadata": {},
   "source": [
    "## Log2 transform and save"
   ]
  },
  {
   "cell_type": "code",
   "execution_count": 24,
   "metadata": {},
   "outputs": [],
   "source": [
    "tpm_matrix_ped_log2 <- log2(tpm_matrix_ped+1)"
   ]
  },
  {
   "cell_type": "code",
   "execution_count": 25,
   "metadata": {},
   "outputs": [],
   "source": [
    "IPD_Set_log2 <- new(\"ExpressionSet\", exprs = tpm_matrix_ped_log2, phenoData = varData)"
   ]
  },
  {
   "cell_type": "code",
   "execution_count": 26,
   "metadata": {},
   "outputs": [
    {
     "data": {
      "text/plain": [
       "ExpressionSet (storageMode: lockedEnvironment)\n",
       "assayData: 20105 features, 925 samples \n",
       "  element names: exprs \n",
       "protocolData: none\n",
       "phenoData\n",
       "  sampleNames: TARGET-30-PAIFXV-01A TARGET-30-PAIPGU-01A ... ICGC_PA99\n",
       "    (925 total)\n",
       "  varLabels: aliquot_id StromalScore ... CRI_cluster (23 total)\n",
       "  varMetadata: labelDescription\n",
       "featureData: none\n",
       "experimentData: use 'experimentData(object)'\n",
       "Annotation:  "
      ]
     },
     "metadata": {},
     "output_type": "display_data"
    }
   ],
   "source": [
    "IPD_Set_log2"
   ]
  },
  {
   "cell_type": "code",
   "execution_count": 27,
   "metadata": {},
   "outputs": [],
   "source": [
    "save(IPD_Set_log2, file = paste0(datapath, \"exp_mat/IPD_ExprSet_log2.RData\"))"
   ]
  },
  {
   "cell_type": "markdown",
   "metadata": {},
   "source": [
    "## Batch correct log2 tpms"
   ]
  },
  {
   "cell_type": "code",
   "execution_count": 28,
   "metadata": {},
   "outputs": [],
   "source": [
    "vars <- pData(IPD_Set_log2)\n",
    "tpms <- exprs(IPD_Set_log2)"
   ]
  },
  {
   "cell_type": "code",
   "execution_count": 29,
   "metadata": {},
   "outputs": [
    {
     "data": {
      "text/html": [
       "<table class=\"dataframe\">\n",
       "<caption>A data.frame: 6 × 23</caption>\n",
       "<thead>\n",
       "\t<tr><th></th><th scope=col>aliquot_id</th><th scope=col>StromalScore</th><th scope=col>ImmuneScore</th><th scope=col>ESTIMATEScore</th><th scope=col>name</th><th scope=col>case_id</th><th scope=col>sample_id</th><th scope=col>gender</th><th scope=col>ethnicity</th><th scope=col>race</th><th scope=col>⋯</th><th scope=col>days_to_progress</th><th scope=col>recurrence</th><th scope=col>disease_type</th><th scope=col>primary_site</th><th scope=col>group</th><th scope=col>cohort</th><th scope=col>sample_type</th><th scope=col>age_class</th><th scope=col>tumour_subtype</th><th scope=col>CRI_cluster</th></tr>\n",
       "\t<tr><th></th><th scope=col>&lt;chr&gt;</th><th scope=col>&lt;dbl&gt;</th><th scope=col>&lt;dbl&gt;</th><th scope=col>&lt;dbl&gt;</th><th scope=col>&lt;chr&gt;</th><th scope=col>&lt;chr&gt;</th><th scope=col>&lt;chr&gt;</th><th scope=col>&lt;chr&gt;</th><th scope=col>&lt;chr&gt;</th><th scope=col>&lt;chr&gt;</th><th scope=col>⋯</th><th scope=col>&lt;dbl&gt;</th><th scope=col>&lt;chr&gt;</th><th scope=col>&lt;chr&gt;</th><th scope=col>&lt;chr&gt;</th><th scope=col>&lt;chr&gt;</th><th scope=col>&lt;chr&gt;</th><th scope=col>&lt;chr&gt;</th><th scope=col>&lt;chr&gt;</th><th scope=col>&lt;chr&gt;</th><th scope=col>&lt;int&gt;</th></tr>\n",
       "</thead>\n",
       "<tbody>\n",
       "\t<tr><th scope=row>TARGET-30-PAIFXV-01A</th><td>TARGET-30-PAIFXV-01A-01R</td><td>-537.97880</td><td> 483.8556</td><td>  -54.1232</td><td>af82838c-9071-4dd7-8766-b818cf61cf82.bam</td><td>TARGET-30-PAIFXV</td><td>TARGET-30-PAIFXV-01A</td><td>Female</td><td>Unknown               </td><td>White  </td><td>⋯</td><td>1675</td><td>1</td><td>MB_GR34</td><td>Abdomen        </td><td>TARGET</td><td>NBL</td><td>Primary Tumor</td><td>Children</td><td>NBL_MYCNA</td><td>NA</td></tr>\n",
       "\t<tr><th scope=row>TARGET-30-PAIPGU-01A</th><td>TARGET-30-PAIPGU-01A-01R</td><td>-319.22630</td><td>1240.6492</td><td>  921.4229</td><td>b1d954e7-21a0-441e-a9c7-47e6a6454625.bam</td><td>TARGET-30-PAIPGU</td><td>TARGET-30-PAIPGU-01A</td><td>Female</td><td>Unknown               </td><td>White  </td><td>⋯</td><td>1976</td><td>0</td><td>MB_GR34</td><td>Adrenal gland  </td><td>TARGET</td><td>NBL</td><td>Primary Tumor</td><td>NA      </td><td>NBL_MYCNA</td><td> 1</td></tr>\n",
       "\t<tr><th scope=row>TARGET-30-PAISNS-01A</th><td>TARGET-30-PAISNS-01A-01R</td><td>-899.30090</td><td>-128.2337</td><td>-1027.5347</td><td>7e145f1d-1807-4615-95b5-2684ccbcb348.bam</td><td>TARGET-30-PAISNS</td><td>TARGET-30-PAISNS-01A</td><td>Male  </td><td>Unknown               </td><td>White  </td><td>⋯</td><td>2829</td><td>0</td><td>MB_GR34</td><td>Abdomen        </td><td>TARGET</td><td>NBL</td><td>Primary Tumor</td><td>NA      </td><td>NBL_MYCNA</td><td> 1</td></tr>\n",
       "\t<tr><th scope=row>TARGET-30-PAITCI-01A</th><td>TARGET-30-PAITCI-01A-01R</td><td>-327.26820</td><td> 200.6735</td><td> -126.5947</td><td>9704403e-aaf9-4a97-99bc-b2a9a9861767.bam</td><td>TARGET-30-PAITCI</td><td>TARGET-30-PAITCI-01A</td><td>Male  </td><td>Unknown               </td><td>White  </td><td>⋯</td><td> 201</td><td>1</td><td>MB_GR34</td><td>Adrenal gland  </td><td>TARGET</td><td>NBL</td><td>Primary Tumor</td><td>Infants </td><td>NBL_MYCNA</td><td> 1</td></tr>\n",
       "\t<tr><th scope=row>TARGET-30-PAIVHE-01A</th><td>TARGET-30-PAIVHE-01A-01R</td><td> -15.87499</td><td>1033.6469</td><td> 1017.7719</td><td>d8d30bd7-608d-4cbd-ba31-3f1fa6fefacf.bam</td><td>TARGET-30-PAIVHE</td><td>TARGET-30-PAIVHE-01A</td><td>Male  </td><td>not hispanic or latino</td><td>White  </td><td>⋯</td><td> 709</td><td>1</td><td>MB_GR34</td><td>Adrenal gland  </td><td>TARGET</td><td>NBL</td><td>Primary Tumor</td><td>Children</td><td>NBL_MYCNA</td><td> 2</td></tr>\n",
       "\t<tr><th scope=row>TARGET-30-PAIXIF-01A</th><td>TARGET-30-PAIXIF-01A-01R</td><td> 460.15050</td><td> 978.1672</td><td> 1438.3177</td><td>7c2b0108-1231-4543-a8bf-eb6644e76f41.bam</td><td>TARGET-30-PAIXIF</td><td>TARGET-30-PAIXIF-01A</td><td>Male  </td><td>Unknown               </td><td>Unknown</td><td>⋯</td><td> 302</td><td>1</td><td>MB_GR34</td><td>Retroperitoneum</td><td>TARGET</td><td>NBL</td><td>Primary Tumor</td><td>Children</td><td>NBL_MYCNA</td><td>NA</td></tr>\n",
       "</tbody>\n",
       "</table>\n"
      ],
      "text/latex": [
       "A data.frame: 6 × 23\n",
       "\\begin{tabular}{r|lllllllllllllllllllll}\n",
       "  & aliquot\\_id & StromalScore & ImmuneScore & ESTIMATEScore & name & case\\_id & sample\\_id & gender & ethnicity & race & ⋯ & days\\_to\\_progress & recurrence & disease\\_type & primary\\_site & group & cohort & sample\\_type & age\\_class & tumour\\_subtype & CRI\\_cluster\\\\\n",
       "  & <chr> & <dbl> & <dbl> & <dbl> & <chr> & <chr> & <chr> & <chr> & <chr> & <chr> & ⋯ & <dbl> & <chr> & <chr> & <chr> & <chr> & <chr> & <chr> & <chr> & <chr> & <int>\\\\\n",
       "\\hline\n",
       "\tTARGET-30-PAIFXV-01A & TARGET-30-PAIFXV-01A-01R & -537.97880 &  483.8556 &   -54.1232 & af82838c-9071-4dd7-8766-b818cf61cf82.bam & TARGET-30-PAIFXV & TARGET-30-PAIFXV-01A & Female & Unknown                & White   & ⋯ & 1675 & 1 & MB\\_GR34 & Abdomen         & TARGET & NBL & Primary Tumor & Children & NBL\\_MYCNA & NA\\\\\n",
       "\tTARGET-30-PAIPGU-01A & TARGET-30-PAIPGU-01A-01R & -319.22630 & 1240.6492 &   921.4229 & b1d954e7-21a0-441e-a9c7-47e6a6454625.bam & TARGET-30-PAIPGU & TARGET-30-PAIPGU-01A & Female & Unknown                & White   & ⋯ & 1976 & 0 & MB\\_GR34 & Adrenal gland   & TARGET & NBL & Primary Tumor & NA       & NBL\\_MYCNA &  1\\\\\n",
       "\tTARGET-30-PAISNS-01A & TARGET-30-PAISNS-01A-01R & -899.30090 & -128.2337 & -1027.5347 & 7e145f1d-1807-4615-95b5-2684ccbcb348.bam & TARGET-30-PAISNS & TARGET-30-PAISNS-01A & Male   & Unknown                & White   & ⋯ & 2829 & 0 & MB\\_GR34 & Abdomen         & TARGET & NBL & Primary Tumor & NA       & NBL\\_MYCNA &  1\\\\\n",
       "\tTARGET-30-PAITCI-01A & TARGET-30-PAITCI-01A-01R & -327.26820 &  200.6735 &  -126.5947 & 9704403e-aaf9-4a97-99bc-b2a9a9861767.bam & TARGET-30-PAITCI & TARGET-30-PAITCI-01A & Male   & Unknown                & White   & ⋯ &  201 & 1 & MB\\_GR34 & Adrenal gland   & TARGET & NBL & Primary Tumor & Infants  & NBL\\_MYCNA &  1\\\\\n",
       "\tTARGET-30-PAIVHE-01A & TARGET-30-PAIVHE-01A-01R &  -15.87499 & 1033.6469 &  1017.7719 & d8d30bd7-608d-4cbd-ba31-3f1fa6fefacf.bam & TARGET-30-PAIVHE & TARGET-30-PAIVHE-01A & Male   & not hispanic or latino & White   & ⋯ &  709 & 1 & MB\\_GR34 & Adrenal gland   & TARGET & NBL & Primary Tumor & Children & NBL\\_MYCNA &  2\\\\\n",
       "\tTARGET-30-PAIXIF-01A & TARGET-30-PAIXIF-01A-01R &  460.15050 &  978.1672 &  1438.3177 & 7c2b0108-1231-4543-a8bf-eb6644e76f41.bam & TARGET-30-PAIXIF & TARGET-30-PAIXIF-01A & Male   & Unknown                & Unknown & ⋯ &  302 & 1 & MB\\_GR34 & Retroperitoneum & TARGET & NBL & Primary Tumor & Children & NBL\\_MYCNA & NA\\\\\n",
       "\\end{tabular}\n"
      ],
      "text/markdown": [
       "\n",
       "A data.frame: 6 × 23\n",
       "\n",
       "| <!--/--> | aliquot_id &lt;chr&gt; | StromalScore &lt;dbl&gt; | ImmuneScore &lt;dbl&gt; | ESTIMATEScore &lt;dbl&gt; | name &lt;chr&gt; | case_id &lt;chr&gt; | sample_id &lt;chr&gt; | gender &lt;chr&gt; | ethnicity &lt;chr&gt; | race &lt;chr&gt; | ⋯ ⋯ | days_to_progress &lt;dbl&gt; | recurrence &lt;chr&gt; | disease_type &lt;chr&gt; | primary_site &lt;chr&gt; | group &lt;chr&gt; | cohort &lt;chr&gt; | sample_type &lt;chr&gt; | age_class &lt;chr&gt; | tumour_subtype &lt;chr&gt; | CRI_cluster &lt;int&gt; |\n",
       "|---|---|---|---|---|---|---|---|---|---|---|---|---|---|---|---|---|---|---|---|---|---|\n",
       "| TARGET-30-PAIFXV-01A | TARGET-30-PAIFXV-01A-01R | -537.97880 |  483.8556 |   -54.1232 | af82838c-9071-4dd7-8766-b818cf61cf82.bam | TARGET-30-PAIFXV | TARGET-30-PAIFXV-01A | Female | Unknown                | White   | ⋯ | 1675 | 1 | MB_GR34 | Abdomen         | TARGET | NBL | Primary Tumor | Children | NBL_MYCNA | NA |\n",
       "| TARGET-30-PAIPGU-01A | TARGET-30-PAIPGU-01A-01R | -319.22630 | 1240.6492 |   921.4229 | b1d954e7-21a0-441e-a9c7-47e6a6454625.bam | TARGET-30-PAIPGU | TARGET-30-PAIPGU-01A | Female | Unknown                | White   | ⋯ | 1976 | 0 | MB_GR34 | Adrenal gland   | TARGET | NBL | Primary Tumor | NA       | NBL_MYCNA |  1 |\n",
       "| TARGET-30-PAISNS-01A | TARGET-30-PAISNS-01A-01R | -899.30090 | -128.2337 | -1027.5347 | 7e145f1d-1807-4615-95b5-2684ccbcb348.bam | TARGET-30-PAISNS | TARGET-30-PAISNS-01A | Male   | Unknown                | White   | ⋯ | 2829 | 0 | MB_GR34 | Abdomen         | TARGET | NBL | Primary Tumor | NA       | NBL_MYCNA |  1 |\n",
       "| TARGET-30-PAITCI-01A | TARGET-30-PAITCI-01A-01R | -327.26820 |  200.6735 |  -126.5947 | 9704403e-aaf9-4a97-99bc-b2a9a9861767.bam | TARGET-30-PAITCI | TARGET-30-PAITCI-01A | Male   | Unknown                | White   | ⋯ |  201 | 1 | MB_GR34 | Adrenal gland   | TARGET | NBL | Primary Tumor | Infants  | NBL_MYCNA |  1 |\n",
       "| TARGET-30-PAIVHE-01A | TARGET-30-PAIVHE-01A-01R |  -15.87499 | 1033.6469 |  1017.7719 | d8d30bd7-608d-4cbd-ba31-3f1fa6fefacf.bam | TARGET-30-PAIVHE | TARGET-30-PAIVHE-01A | Male   | not hispanic or latino | White   | ⋯ |  709 | 1 | MB_GR34 | Adrenal gland   | TARGET | NBL | Primary Tumor | Children | NBL_MYCNA |  2 |\n",
       "| TARGET-30-PAIXIF-01A | TARGET-30-PAIXIF-01A-01R |  460.15050 |  978.1672 |  1438.3177 | 7c2b0108-1231-4543-a8bf-eb6644e76f41.bam | TARGET-30-PAIXIF | TARGET-30-PAIXIF-01A | Male   | Unknown                | Unknown | ⋯ |  302 | 1 | MB_GR34 | Retroperitoneum | TARGET | NBL | Primary Tumor | Children | NBL_MYCNA | NA |\n",
       "\n"
      ],
      "text/plain": [
       "                     aliquot_id               StromalScore ImmuneScore\n",
       "TARGET-30-PAIFXV-01A TARGET-30-PAIFXV-01A-01R -537.97880    483.8556  \n",
       "TARGET-30-PAIPGU-01A TARGET-30-PAIPGU-01A-01R -319.22630   1240.6492  \n",
       "TARGET-30-PAISNS-01A TARGET-30-PAISNS-01A-01R -899.30090   -128.2337  \n",
       "TARGET-30-PAITCI-01A TARGET-30-PAITCI-01A-01R -327.26820    200.6735  \n",
       "TARGET-30-PAIVHE-01A TARGET-30-PAIVHE-01A-01R  -15.87499   1033.6469  \n",
       "TARGET-30-PAIXIF-01A TARGET-30-PAIXIF-01A-01R  460.15050    978.1672  \n",
       "                     ESTIMATEScore name                                    \n",
       "TARGET-30-PAIFXV-01A   -54.1232    af82838c-9071-4dd7-8766-b818cf61cf82.bam\n",
       "TARGET-30-PAIPGU-01A   921.4229    b1d954e7-21a0-441e-a9c7-47e6a6454625.bam\n",
       "TARGET-30-PAISNS-01A -1027.5347    7e145f1d-1807-4615-95b5-2684ccbcb348.bam\n",
       "TARGET-30-PAITCI-01A  -126.5947    9704403e-aaf9-4a97-99bc-b2a9a9861767.bam\n",
       "TARGET-30-PAIVHE-01A  1017.7719    d8d30bd7-608d-4cbd-ba31-3f1fa6fefacf.bam\n",
       "TARGET-30-PAIXIF-01A  1438.3177    7c2b0108-1231-4543-a8bf-eb6644e76f41.bam\n",
       "                     case_id          sample_id            gender\n",
       "TARGET-30-PAIFXV-01A TARGET-30-PAIFXV TARGET-30-PAIFXV-01A Female\n",
       "TARGET-30-PAIPGU-01A TARGET-30-PAIPGU TARGET-30-PAIPGU-01A Female\n",
       "TARGET-30-PAISNS-01A TARGET-30-PAISNS TARGET-30-PAISNS-01A Male  \n",
       "TARGET-30-PAITCI-01A TARGET-30-PAITCI TARGET-30-PAITCI-01A Male  \n",
       "TARGET-30-PAIVHE-01A TARGET-30-PAIVHE TARGET-30-PAIVHE-01A Male  \n",
       "TARGET-30-PAIXIF-01A TARGET-30-PAIXIF TARGET-30-PAIXIF-01A Male  \n",
       "                     ethnicity              race    ⋯ days_to_progress\n",
       "TARGET-30-PAIFXV-01A Unknown                White   ⋯ 1675            \n",
       "TARGET-30-PAIPGU-01A Unknown                White   ⋯ 1976            \n",
       "TARGET-30-PAISNS-01A Unknown                White   ⋯ 2829            \n",
       "TARGET-30-PAITCI-01A Unknown                White   ⋯  201            \n",
       "TARGET-30-PAIVHE-01A not hispanic or latino White   ⋯  709            \n",
       "TARGET-30-PAIXIF-01A Unknown                Unknown ⋯  302            \n",
       "                     recurrence disease_type primary_site    group  cohort\n",
       "TARGET-30-PAIFXV-01A 1          MB_GR34      Abdomen         TARGET NBL   \n",
       "TARGET-30-PAIPGU-01A 0          MB_GR34      Adrenal gland   TARGET NBL   \n",
       "TARGET-30-PAISNS-01A 0          MB_GR34      Abdomen         TARGET NBL   \n",
       "TARGET-30-PAITCI-01A 1          MB_GR34      Adrenal gland   TARGET NBL   \n",
       "TARGET-30-PAIVHE-01A 1          MB_GR34      Adrenal gland   TARGET NBL   \n",
       "TARGET-30-PAIXIF-01A 1          MB_GR34      Retroperitoneum TARGET NBL   \n",
       "                     sample_type   age_class tumour_subtype CRI_cluster\n",
       "TARGET-30-PAIFXV-01A Primary Tumor Children  NBL_MYCNA      NA         \n",
       "TARGET-30-PAIPGU-01A Primary Tumor NA        NBL_MYCNA       1         \n",
       "TARGET-30-PAISNS-01A Primary Tumor NA        NBL_MYCNA       1         \n",
       "TARGET-30-PAITCI-01A Primary Tumor Infants   NBL_MYCNA       1         \n",
       "TARGET-30-PAIVHE-01A Primary Tumor Children  NBL_MYCNA       2         \n",
       "TARGET-30-PAIXIF-01A Primary Tumor Children  NBL_MYCNA      NA         "
      ]
     },
     "metadata": {},
     "output_type": "display_data"
    }
   ],
   "source": [
    "head(vars)"
   ]
  },
  {
   "cell_type": "code",
   "execution_count": 30,
   "metadata": {},
   "outputs": [
    {
     "data": {
      "text/html": [
       "<table class=\"dataframe\">\n",
       "<caption>A matrix: 10 × 10 of type dbl</caption>\n",
       "<thead>\n",
       "\t<tr><th></th><th scope=col>TARGET-30-PAIFXV-01A</th><th scope=col>TARGET-30-PAIPGU-01A</th><th scope=col>TARGET-30-PAISNS-01A</th><th scope=col>TARGET-30-PAITCI-01A</th><th scope=col>TARGET-30-PAIVHE-01A</th><th scope=col>TARGET-30-PAIXIF-01A</th><th scope=col>TARGET-30-PAKYZS-01A</th><th scope=col>TARGET-30-PAKZRH-01A</th><th scope=col>TARGET-30-PALBFW-01A</th><th scope=col>TARGET-30-PALCBW-01A</th></tr>\n",
       "</thead>\n",
       "<tbody>\n",
       "\t<tr><th scope=row>TSPAN6</th><td>3.6519127</td><td>3.3419857</td><td>5.024586</td><td>3.9560567</td><td>6.075105</td><td>4.348374</td><td>3.755956</td><td>4.2861419</td><td>4.1399606</td><td>4.4705369</td></tr>\n",
       "\t<tr><th scope=row>TNMD</th><td>0.1375035</td><td>0.1110313</td><td>0.000000</td><td>0.0000000</td><td>0.000000</td><td>0.000000</td><td>0.000000</td><td>0.2265085</td><td>0.2265085</td><td>0.2509616</td></tr>\n",
       "\t<tr><th scope=row>DPM1</th><td>4.5533605</td><td>5.0426443</td><td>5.512543</td><td>6.4711875</td><td>5.212180</td><td>4.612942</td><td>4.821200</td><td>5.4604149</td><td>5.0487593</td><td>4.6501901</td></tr>\n",
       "\t<tr><th scope=row>SCYL3</th><td>1.7527486</td><td>1.4750849</td><td>2.253989</td><td>1.8032270</td><td>2.563158</td><td>2.000000</td><td>2.077243</td><td>2.2750070</td><td>2.7026575</td><td>2.7398481</td></tr>\n",
       "\t<tr><th scope=row>C1orf112</th><td>1.2986583</td><td>2.0426443</td><td>3.190615</td><td>2.2326608</td><td>2.969012</td><td>2.613532</td><td>1.682573</td><td>2.3074285</td><td>2.0635029</td><td>1.7782086</td></tr>\n",
       "\t<tr><th scope=row>FGR</th><td>1.6088092</td><td>2.5109619</td><td>1.978196</td><td>0.8797058</td><td>2.916477</td><td>1.863938</td><td>1.622930</td><td>1.3219281</td><td>2.2387869</td><td>2.8914192</td></tr>\n",
       "\t<tr><th scope=row>CFH</th><td>3.4316230</td><td>3.2764967</td><td>4.438293</td><td>4.6252705</td><td>5.246408</td><td>5.881420</td><td>4.766595</td><td>3.5147535</td><td>5.0430820</td><td>6.7141081</td></tr>\n",
       "\t<tr><th scope=row>FUCA2</th><td>3.9326282</td><td>3.6780719</td><td>3.407353</td><td>3.8649290</td><td>4.297925</td><td>4.537917</td><td>4.624686</td><td>4.5837598</td><td>4.1578522</td><td>5.4322913</td></tr>\n",
       "\t<tr><th scope=row>GCLC</th><td>2.7591558</td><td>2.4382929</td><td>2.386811</td><td>2.9429836</td><td>3.822730</td><td>1.815575</td><td>3.427606</td><td>2.9411063</td><td>3.9634741</td><td>3.4659745</td></tr>\n",
       "\t<tr><th scope=row>NFYA</th><td>2.5285713</td><td>3.2016339</td><td>3.880686</td><td>2.8875253</td><td>3.388190</td><td>2.536053</td><td>2.570463</td><td>2.8399596</td><td>3.1715271</td><td>3.3812834</td></tr>\n",
       "</tbody>\n",
       "</table>\n"
      ],
      "text/latex": [
       "A matrix: 10 × 10 of type dbl\n",
       "\\begin{tabular}{r|llllllllll}\n",
       "  & TARGET-30-PAIFXV-01A & TARGET-30-PAIPGU-01A & TARGET-30-PAISNS-01A & TARGET-30-PAITCI-01A & TARGET-30-PAIVHE-01A & TARGET-30-PAIXIF-01A & TARGET-30-PAKYZS-01A & TARGET-30-PAKZRH-01A & TARGET-30-PALBFW-01A & TARGET-30-PALCBW-01A\\\\\n",
       "\\hline\n",
       "\tTSPAN6 & 3.6519127 & 3.3419857 & 5.024586 & 3.9560567 & 6.075105 & 4.348374 & 3.755956 & 4.2861419 & 4.1399606 & 4.4705369\\\\\n",
       "\tTNMD & 0.1375035 & 0.1110313 & 0.000000 & 0.0000000 & 0.000000 & 0.000000 & 0.000000 & 0.2265085 & 0.2265085 & 0.2509616\\\\\n",
       "\tDPM1 & 4.5533605 & 5.0426443 & 5.512543 & 6.4711875 & 5.212180 & 4.612942 & 4.821200 & 5.4604149 & 5.0487593 & 4.6501901\\\\\n",
       "\tSCYL3 & 1.7527486 & 1.4750849 & 2.253989 & 1.8032270 & 2.563158 & 2.000000 & 2.077243 & 2.2750070 & 2.7026575 & 2.7398481\\\\\n",
       "\tC1orf112 & 1.2986583 & 2.0426443 & 3.190615 & 2.2326608 & 2.969012 & 2.613532 & 1.682573 & 2.3074285 & 2.0635029 & 1.7782086\\\\\n",
       "\tFGR & 1.6088092 & 2.5109619 & 1.978196 & 0.8797058 & 2.916477 & 1.863938 & 1.622930 & 1.3219281 & 2.2387869 & 2.8914192\\\\\n",
       "\tCFH & 3.4316230 & 3.2764967 & 4.438293 & 4.6252705 & 5.246408 & 5.881420 & 4.766595 & 3.5147535 & 5.0430820 & 6.7141081\\\\\n",
       "\tFUCA2 & 3.9326282 & 3.6780719 & 3.407353 & 3.8649290 & 4.297925 & 4.537917 & 4.624686 & 4.5837598 & 4.1578522 & 5.4322913\\\\\n",
       "\tGCLC & 2.7591558 & 2.4382929 & 2.386811 & 2.9429836 & 3.822730 & 1.815575 & 3.427606 & 2.9411063 & 3.9634741 & 3.4659745\\\\\n",
       "\tNFYA & 2.5285713 & 3.2016339 & 3.880686 & 2.8875253 & 3.388190 & 2.536053 & 2.570463 & 2.8399596 & 3.1715271 & 3.3812834\\\\\n",
       "\\end{tabular}\n"
      ],
      "text/markdown": [
       "\n",
       "A matrix: 10 × 10 of type dbl\n",
       "\n",
       "| <!--/--> | TARGET-30-PAIFXV-01A | TARGET-30-PAIPGU-01A | TARGET-30-PAISNS-01A | TARGET-30-PAITCI-01A | TARGET-30-PAIVHE-01A | TARGET-30-PAIXIF-01A | TARGET-30-PAKYZS-01A | TARGET-30-PAKZRH-01A | TARGET-30-PALBFW-01A | TARGET-30-PALCBW-01A |\n",
       "|---|---|---|---|---|---|---|---|---|---|---|\n",
       "| TSPAN6 | 3.6519127 | 3.3419857 | 5.024586 | 3.9560567 | 6.075105 | 4.348374 | 3.755956 | 4.2861419 | 4.1399606 | 4.4705369 |\n",
       "| TNMD | 0.1375035 | 0.1110313 | 0.000000 | 0.0000000 | 0.000000 | 0.000000 | 0.000000 | 0.2265085 | 0.2265085 | 0.2509616 |\n",
       "| DPM1 | 4.5533605 | 5.0426443 | 5.512543 | 6.4711875 | 5.212180 | 4.612942 | 4.821200 | 5.4604149 | 5.0487593 | 4.6501901 |\n",
       "| SCYL3 | 1.7527486 | 1.4750849 | 2.253989 | 1.8032270 | 2.563158 | 2.000000 | 2.077243 | 2.2750070 | 2.7026575 | 2.7398481 |\n",
       "| C1orf112 | 1.2986583 | 2.0426443 | 3.190615 | 2.2326608 | 2.969012 | 2.613532 | 1.682573 | 2.3074285 | 2.0635029 | 1.7782086 |\n",
       "| FGR | 1.6088092 | 2.5109619 | 1.978196 | 0.8797058 | 2.916477 | 1.863938 | 1.622930 | 1.3219281 | 2.2387869 | 2.8914192 |\n",
       "| CFH | 3.4316230 | 3.2764967 | 4.438293 | 4.6252705 | 5.246408 | 5.881420 | 4.766595 | 3.5147535 | 5.0430820 | 6.7141081 |\n",
       "| FUCA2 | 3.9326282 | 3.6780719 | 3.407353 | 3.8649290 | 4.297925 | 4.537917 | 4.624686 | 4.5837598 | 4.1578522 | 5.4322913 |\n",
       "| GCLC | 2.7591558 | 2.4382929 | 2.386811 | 2.9429836 | 3.822730 | 1.815575 | 3.427606 | 2.9411063 | 3.9634741 | 3.4659745 |\n",
       "| NFYA | 2.5285713 | 3.2016339 | 3.880686 | 2.8875253 | 3.388190 | 2.536053 | 2.570463 | 2.8399596 | 3.1715271 | 3.3812834 |\n",
       "\n"
      ],
      "text/plain": [
       "         TARGET-30-PAIFXV-01A TARGET-30-PAIPGU-01A TARGET-30-PAISNS-01A\n",
       "TSPAN6   3.6519127            3.3419857            5.024586            \n",
       "TNMD     0.1375035            0.1110313            0.000000            \n",
       "DPM1     4.5533605            5.0426443            5.512543            \n",
       "SCYL3    1.7527486            1.4750849            2.253989            \n",
       "C1orf112 1.2986583            2.0426443            3.190615            \n",
       "FGR      1.6088092            2.5109619            1.978196            \n",
       "CFH      3.4316230            3.2764967            4.438293            \n",
       "FUCA2    3.9326282            3.6780719            3.407353            \n",
       "GCLC     2.7591558            2.4382929            2.386811            \n",
       "NFYA     2.5285713            3.2016339            3.880686            \n",
       "         TARGET-30-PAITCI-01A TARGET-30-PAIVHE-01A TARGET-30-PAIXIF-01A\n",
       "TSPAN6   3.9560567            6.075105             4.348374            \n",
       "TNMD     0.0000000            0.000000             0.000000            \n",
       "DPM1     6.4711875            5.212180             4.612942            \n",
       "SCYL3    1.8032270            2.563158             2.000000            \n",
       "C1orf112 2.2326608            2.969012             2.613532            \n",
       "FGR      0.8797058            2.916477             1.863938            \n",
       "CFH      4.6252705            5.246408             5.881420            \n",
       "FUCA2    3.8649290            4.297925             4.537917            \n",
       "GCLC     2.9429836            3.822730             1.815575            \n",
       "NFYA     2.8875253            3.388190             2.536053            \n",
       "         TARGET-30-PAKYZS-01A TARGET-30-PAKZRH-01A TARGET-30-PALBFW-01A\n",
       "TSPAN6   3.755956             4.2861419            4.1399606           \n",
       "TNMD     0.000000             0.2265085            0.2265085           \n",
       "DPM1     4.821200             5.4604149            5.0487593           \n",
       "SCYL3    2.077243             2.2750070            2.7026575           \n",
       "C1orf112 1.682573             2.3074285            2.0635029           \n",
       "FGR      1.622930             1.3219281            2.2387869           \n",
       "CFH      4.766595             3.5147535            5.0430820           \n",
       "FUCA2    4.624686             4.5837598            4.1578522           \n",
       "GCLC     3.427606             2.9411063            3.9634741           \n",
       "NFYA     2.570463             2.8399596            3.1715271           \n",
       "         TARGET-30-PALCBW-01A\n",
       "TSPAN6   4.4705369           \n",
       "TNMD     0.2509616           \n",
       "DPM1     4.6501901           \n",
       "SCYL3    2.7398481           \n",
       "C1orf112 1.7782086           \n",
       "FGR      2.8914192           \n",
       "CFH      6.7141081           \n",
       "FUCA2    5.4322913           \n",
       "GCLC     3.4659745           \n",
       "NFYA     3.3812834           "
      ]
     },
     "metadata": {},
     "output_type": "display_data"
    }
   ],
   "source": [
    "tpms[1:10,1:10]"
   ]
  },
  {
   "cell_type": "code",
   "execution_count": 31,
   "metadata": {},
   "outputs": [
    {
     "name": "stdout",
     "output_type": "stream",
     "text": [
      "Found 506 genes with uniform expression within a single batch (all zeros); these will not be adjusted for batch.\n"
     ]
    },
    {
     "name": "stderr",
     "output_type": "stream",
     "text": [
      "Found3batches\n",
      "\n",
      "Adjusting for0covariate(s) or covariate level(s)\n",
      "\n",
      "Standardizing Data across genes\n",
      "\n",
      "Fitting L/S model and finding priors\n",
      "\n",
      "Finding parametric adjustments\n",
      "\n",
      "Adjusting the Data\n",
      "\n",
      "\n"
     ]
    }
   ],
   "source": [
    "mod <- model.matrix(~1, data= vars)\n",
    "\n",
    "combat_ped <- ComBat(dat = tpms, batch= vars$group, mod= mod,\n",
    "                        par.prior=TRUE, prior.plots=FALSE)"
   ]
  },
  {
   "cell_type": "code",
   "execution_count": 32,
   "metadata": {
    "scrolled": false
   },
   "outputs": [
    {
     "name": "stdout",
     "output_type": "stream",
     "text": [
      "\n",
      "  CBTN   ICGC TARGET \n",
      "   581    195    149 \n"
     ]
    },
    {
     "name": "stderr",
     "output_type": "stream",
     "text": [
      "Using group as id variables\n",
      "\n"
     ]
    },
    {
     "data": {
      "image/png": "[encoded data removed]",
      "text/plain": [
       "plot without title"
      ]
     },
     "metadata": {
      "image/png": {
       "height": 420,
       "width": 420
      }
     },
     "output_type": "display_data"
    }
   ],
   "source": [
    "densplot.fx(tpms, vars)"
   ]
  },
  {
   "cell_type": "code",
   "execution_count": 33,
   "metadata": {},
   "outputs": [
    {
     "name": "stdout",
     "output_type": "stream",
     "text": [
      "\n",
      "  CBTN   ICGC TARGET \n",
      "   581    195    149 \n"
     ]
    },
    {
     "name": "stderr",
     "output_type": "stream",
     "text": [
      "Using group as id variables\n",
      "\n"
     ]
    },
    {
     "data": {
      "image/png": "[encoded data removed]",
      "text/plain": [
       "plot without title"
      ]
     },
     "metadata": {
      "image/png": {
       "height": 420,
       "width": 420
      }
     },
     "output_type": "display_data"
    }
   ],
   "source": [
    "densplot.fx(combat_ped, vars)"
   ]
  },
  {
   "cell_type": "code",
   "execution_count": 34,
   "metadata": {},
   "outputs": [],
   "source": [
    "IPD_Set_log2_combat <- new(\"ExpressionSet\", exprs = combat_ped, phenoData = varData)"
   ]
  },
  {
   "cell_type": "code",
   "execution_count": 35,
   "metadata": {},
   "outputs": [],
   "source": [
    "save(IPD_Set_log2_combat, file = paste0(datapath, \"exp_mat/IPD_ExprSet_log2_combat.RData\"))"
   ]
  },
  {
   "cell_type": "code",
   "execution_count": null,
   "metadata": {},
   "outputs": [],
   "source": []
  }
 ],
 "metadata": {
  "kernelspec": {
   "display_name": "R 4.0",
   "language": "R",
   "name": "ir40"
  },
  "language_info": {
   "codemirror_mode": "r",
   "file_extension": ".r",
   "mimetype": "text/x-r-source",
   "name": "R",
   "pygments_lexer": "r",
   "version": "4.0.3"
  },
  "toc": {
   "base_numbering": 1,
   "nav_menu": {},
   "number_sections": false,
   "sideBar": true,
   "skip_h1_title": false,
   "title_cell": "Table of Contents",
   "title_sidebar": "Contents",
   "toc_cell": true,
   "toc_position": {
    "height": "calc(100% - 180px)",
    "left": "10px",
    "top": "150px",
    "width": "196.989px"
   },
   "toc_section_display": true,
   "toc_window_display": true
  }
 },
 "nbformat": 4,
 "nbformat_minor": 2
}
