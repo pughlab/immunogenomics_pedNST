{
 "cells": [
  {
   "cell_type": "markdown",
   "metadata": {
    "toc": true
   },
   "source": [
    "<h1>Table of Contents<span class=\"tocSkip\"></span></h1>\n",
    "<div class=\"toc\"><ul class=\"toc-item\"><li><span><a href=\"#Dependencies\" data-toc-modified-id=\"Dependencies-1\">Dependencies</a></span></li><li><span><a href=\"#Functions\" data-toc-modified-id=\"Functions-2\">Functions</a></span></li><li><span><a href=\"#Paths\" data-toc-modified-id=\"Paths-3\">Paths</a></span></li><li><span><a href=\"#Main\" data-toc-modified-id=\"Main-4\">Main</a></span></li><li><span><a href=\"#Assign-genes-to-specific-immune-celltypes\" data-toc-modified-id=\"Assign-genes-to-specific-immune-celltypes-5\">Assign genes to specific immune celltypes</a></span><ul class=\"toc-item\"><li><span><a href=\"#1--gene-regulation-atlas-of-28-immune-cell-types-(immunexut)\" data-toc-modified-id=\"1--gene-regulation-atlas-of-28-immune-cell-types-(immunexut)-5.1\">1- gene-regulation atlas of 28 immune cell types (immunexut)</a></span></li><li><span><a href=\"#2--blood-gene-expression-from-proteinatlas\" data-toc-modified-id=\"2--blood-gene-expression-from-proteinatlas-5.2\">2- blood gene expression from proteinatlas</a></span></li><li><span><a href=\"#3--MCPcounter\" data-toc-modified-id=\"3--MCPcounter-5.3\">3- MCPcounter</a></span></li><li><span><a href=\"#4--CIBERSORT\" data-toc-modified-id=\"4--CIBERSORT-5.4\">4- CIBERSORT</a></span></li><li><span><a href=\"#5--Quantiseq\" data-toc-modified-id=\"5--Quantiseq-5.5\">5- Quantiseq</a></span></li><li><span><a href=\"#6--EPIC\" data-toc-modified-id=\"6--EPIC-5.6\">6- EPIC</a></span></li><li><span><a href=\"#7--Xcell\" data-toc-modified-id=\"7--Xcell-5.7\">7- Xcell</a></span></li></ul></li><li><span><a href=\"#Compile-all-celltypes\" data-toc-modified-id=\"Compile-all-celltypes-6\">Compile all celltypes</a></span></li><li><span><a href=\"#Determine-clusters-with-CC\" data-toc-modified-id=\"Determine-clusters-with-CC-7\">Determine clusters with CC</a></span></li><li><span><a href=\"#Heatmaps\" data-toc-modified-id=\"Heatmaps-8\">Heatmaps</a></span><ul class=\"toc-item\"><li><span><a href=\"#Legends\" data-toc-modified-id=\"Legends-8.1\">Legends</a></span></li></ul></li><li><span><a href=\"#Ridge-plots-and-stats\" data-toc-modified-id=\"Ridge-plots-and-stats-9\">Ridge plots and stats</a></span></li><li><span><a href=\"#Heatmap-Cancer-type\" data-toc-modified-id=\"Heatmap-Cancer-type-10\">Heatmap Cancer type</a></span></li><li><span><a href=\"#Heatmap-CRI-cluster\" data-toc-modified-id=\"Heatmap-CRI-cluster-11\">Heatmap CRI cluster</a></span><ul class=\"toc-item\"><li><span><a href=\"#Legends\" data-toc-modified-id=\"Legends-11.1\">Legends</a></span></li></ul></li></ul></div>"
   ]
  },
  {
   "cell_type": "markdown",
   "metadata": {},
   "source": [
    "# Dependencies"
   ]
  },
  {
   "cell_type": "code",
   "execution_count": 1,
   "metadata": {
    "scrolled": true
   },
   "outputs": [
    {
     "name": "stderr",
     "output_type": "stream",
     "text": [
      "Loading required package: BiocGenerics\n",
      "\n",
      "Loading required package: parallel\n",
      "\n",
      "\n",
      "Attaching package: ‘BiocGenerics’\n",
      "\n",
      "\n",
      "The following objects are masked from ‘package:parallel’:\n",
      "\n",
      "    clusterApply, clusterApplyLB, clusterCall, clusterEvalQ,\n",
      "    clusterExport, clusterMap, parApply, parCapply, parLapply,\n",
      "    parLapplyLB, parRapply, parSapply, parSapplyLB\n",
      "\n",
      "\n",
      "The following objects are masked from ‘package:stats’:\n",
      "\n",
      "    IQR, mad, sd, var, xtabs\n",
      "\n",
      "\n",
      "The following objects are masked from ‘package:base’:\n",
      "\n",
      "    anyDuplicated, append, as.data.frame, basename, cbind, colnames,\n",
      "    dirname, do.call, duplicated, eval, evalq, Filter, Find, get, grep,\n",
      "    grepl, intersect, is.unsorted, lapply, Map, mapply, match, mget,\n",
      "    order, paste, pmax, pmax.int, pmin, pmin.int, Position, rank,\n",
      "    rbind, Reduce, rownames, sapply, setdiff, sort, table, tapply,\n",
      "    union, unique, unsplit, which.max, which.min\n",
      "\n",
      "\n",
      "Welcome to Bioconductor\n",
      "\n",
      "    Vignettes contain introductory material; view with\n",
      "    'browseVignettes()'. To cite Bioconductor, see\n",
      "    'citation(\"Biobase\")', and for packages 'citation(\"pkgname\")'.\n",
      "\n",
      "\n"
     ]
    }
   ],
   "source": [
    "library(Biobase)\n",
    "library(ConsensusClusterPlus)\n",
    "library(GSVA)\n",
    "library(biomaRt)"
   ]
  },
  {
   "cell_type": "markdown",
   "metadata": {},
   "source": [
    "# Functions"
   ]
  },
  {
   "cell_type": "code",
   "execution_count": 2,
   "metadata": {
    "scrolled": true
   },
   "outputs": [
    {
     "name": "stderr",
     "output_type": "stream",
     "text": [
      "Loading required package: grid\n",
      "\n",
      "========================================\n",
      "ComplexHeatmap version 2.6.2\n",
      "Bioconductor page: http://bioconductor.org/packages/ComplexHeatmap/\n",
      "Github page: https://github.com/jokergoo/ComplexHeatmap\n",
      "Documentation: http://jokergoo.github.io/ComplexHeatmap-reference\n",
      "\n",
      "If you use it in published research, please cite:\n",
      "Gu, Z. Complex heatmaps reveal patterns and correlations in multidimensional \n",
      "  genomic data. Bioinformatics 2016.\n",
      "\n",
      "This message can be suppressed by:\n",
      "  suppressPackageStartupMessages(library(ComplexHeatmap))\n",
      "========================================\n",
      "\n",
      "\n",
      "========================================\n",
      "circlize version 0.4.12\n",
      "CRAN page: https://cran.r-project.org/package=circlize\n",
      "Github page: https://github.com/jokergoo/circlize\n",
      "Documentation: https://jokergoo.github.io/circlize_book/book/\n",
      "\n",
      "If you use it in published research, please cite:\n",
      "Gu, Z. circlize implements and enhances circular visualization\n",
      "  in R. Bioinformatics 2014.\n",
      "\n",
      "This message can be suppressed by:\n",
      "  suppressPackageStartupMessages(library(circlize))\n",
      "========================================\n",
      "\n",
      "\n",
      "\n",
      "Attaching package: ‘dplyr’\n",
      "\n",
      "\n",
      "The following object is masked from ‘package:biomaRt’:\n",
      "\n",
      "    select\n",
      "\n",
      "\n",
      "The following object is masked from ‘package:Biobase’:\n",
      "\n",
      "    combine\n",
      "\n",
      "\n",
      "The following objects are masked from ‘package:BiocGenerics’:\n",
      "\n",
      "    combine, intersect, setdiff, union\n",
      "\n",
      "\n",
      "The following objects are masked from ‘package:stats’:\n",
      "\n",
      "    filter, lag\n",
      "\n",
      "\n",
      "The following objects are masked from ‘package:base’:\n",
      "\n",
      "    intersect, setdiff, setequal, union\n",
      "\n",
      "\n"
     ]
    }
   ],
   "source": [
    "source(\"~/OneDrive - UHN/R_src/ggplot2_theme.R\")\n",
    "source(\"~/OneDrive - UHN/R_src/Heatmap_functions.R\")\n",
    "source(\"~/OneDrive - UHN/R_src/plotting_functions.R\")\n",
    "source(\"~/OneDrive - UHN/R_src/color_schemes.R\")"
   ]
  },
  {
   "cell_type": "code",
   "execution_count": 3,
   "metadata": {},
   "outputs": [],
   "source": [
    "mcentr <- function(x) {\n",
    "    meds <- median(x, na.rm=T)\n",
    "    mads <- mad(x, na.rm=T)\n",
    "    if (mads == 0) {\n",
    "        rep(0, length(x))} else { (x - meds) / mads}\n",
    "}"
   ]
  },
  {
   "cell_type": "markdown",
   "metadata": {},
   "source": [
    "# Paths"
   ]
  },
  {
   "cell_type": "code",
   "execution_count": 4,
   "metadata": {},
   "outputs": [],
   "source": [
    "manifestpath <- \"/Users/anabbi/OneDrive - UHN/Documents/IPD2/Manifests/\"\n",
    "datapath <- \"/Users/anabbi/OneDrive - UHN/Documents/IPD2/Data/\"\n",
    "plotpath <- \"/Users/anabbi/OneDrive - UHN/Documents/IPD2/Plots/\""
   ]
  },
  {
   "cell_type": "markdown",
   "metadata": {},
   "source": [
    "# Main"
   ]
  },
  {
   "cell_type": "code",
   "execution_count": 5,
   "metadata": {},
   "outputs": [],
   "source": [
    "load(paste0(datapath, \"exp_mat/IPD_ExprSet_log2_combat.RData\"))"
   ]
  },
  {
   "cell_type": "code",
   "execution_count": 6,
   "metadata": {},
   "outputs": [],
   "source": [
    "vars <- pData(IPD_Set_log2_combat)\n",
    "tpms <- exprs(IPD_Set_log2_combat)"
   ]
  },
  {
   "cell_type": "code",
   "execution_count": 7,
   "metadata": {},
   "outputs": [],
   "source": [
    "#rename TCGA clusters\n",
    "vars$CRI_cluster[which(vars$CRI_cluster == 1)] <- \"Wound Healing\"\n",
    "vars$CRI_cluster[which(vars$CRI_cluster == 2)] <- \"IFN-gamma dominant\"\n",
    "vars$CRI_cluster[which(vars$CRI_cluster == 3)] <- \"Inflammatory\"\n",
    "vars$CRI_cluster[which(vars$CRI_cluster == 4)] <- \"Lymphocyte depleted\"\n",
    "vars$CRI_cluster[which(vars$CRI_cluster == 5)] <- \"Immunologically quiet\"\n",
    "vars$CRI_cluster[which(vars$CRI_cluster == 6)] <- \"TGFbeta dominant\""
   ]
  },
  {
   "cell_type": "code",
   "execution_count": 8,
   "metadata": {},
   "outputs": [],
   "source": [
    "load(file = paste0(datapath, \"TME_clusters/TME_immune_genes.RData\"))"
   ]
  },
  {
   "cell_type": "markdown",
   "metadata": {},
   "source": [
    "# Assign genes to specific immune celltypes"
   ]
  },
  {
   "cell_type": "markdown",
   "metadata": {},
   "source": [
    "## 1- gene-regulation atlas of 28 immune cell types (immunexut)"
   ]
  },
  {
   "cell_type": "code",
   "execution_count": 9,
   "metadata": {},
   "outputs": [],
   "source": [
    "# These are average counts \n",
    "immunexut <- read.csv(paste0(datapath, \"TME_clusters/cell_specific_genes_in_immunediseases.csv\"), \n",
    "                      header = TRUE, stringsAsFactors = FALSE)"
   ]
  },
  {
   "cell_type": "code",
   "execution_count": 10,
   "metadata": {},
   "outputs": [
    {
     "data": {
      "text/html": [
       "<style>\n",
       ".list-inline {list-style: none; margin:0; padding: 0}\n",
       ".list-inline>li {display: inline-block}\n",
       ".list-inline>li:not(:last-child)::after {content: \"\\00b7\"; padding: 0 .5ex}\n",
       "</style>\n",
       "<ol class=list-inline><li>7172</li><li>27</li></ol>\n"
      ],
      "text/latex": [
       "\\begin{enumerate*}\n",
       "\\item 7172\n",
       "\\item 27\n",
       "\\end{enumerate*}\n"
      ],
      "text/markdown": [
       "1. 7172\n",
       "2. 27\n",
       "\n",
       "\n"
      ],
      "text/plain": [
       "[1] 7172   27"
      ]
     },
     "metadata": {},
     "output_type": "display_data"
    }
   ],
   "source": [
    "dim(immunexut)"
   ]
  },
  {
   "cell_type": "code",
   "execution_count": 11,
   "metadata": {},
   "outputs": [
    {
     "data": {
      "text/plain": [
       "\n",
       "     CL Mono       CM CD8         DN B       EM CD8  Fr. I nTreg Fr. II eTreg \n",
       "         437           12          145           61           87          395 \n",
       "   Fr. III T     Int Mono          LDG          mDC      Naïve B    Naïve CD4 \n",
       "           3          132          720          414          543          135 \n",
       "   Naïve CD8      NC Mono          Neu           NK          pDC  Plasmablast \n",
       "         223          430          654          486         1115          686 \n",
       "        SM B    TEMRA CD8          Tfh          Th1         Th17          Th2 \n",
       "          70          105           20            7           95           63 \n",
       "       USM B \n",
       "         134 "
      ]
     },
     "metadata": {},
     "output_type": "display_data"
    }
   ],
   "source": [
    "table(immunexut$Cell.type)"
   ]
  },
  {
   "cell_type": "code",
   "execution_count": 12,
   "metadata": {},
   "outputs": [],
   "source": [
    "tmp <- immunexut[,3:ncol(immunexut)]"
   ]
  },
  {
   "cell_type": "code",
   "execution_count": 13,
   "metadata": {},
   "outputs": [],
   "source": [
    "#median center\n",
    "immunexut_m <- (tmp - median(unlist(tmp)))/ mad(unlist(tmp))"
   ]
  },
  {
   "cell_type": "code",
   "execution_count": 14,
   "metadata": {},
   "outputs": [],
   "source": [
    "rownames(immunexut_m) <- immunexut$Gene"
   ]
  },
  {
   "cell_type": "code",
   "execution_count": 15,
   "metadata": {},
   "outputs": [
    {
     "data": {
      "text/html": [
       "<table class=\"dataframe\">\n",
       "<caption>A data.frame: 6 × 25</caption>\n",
       "<thead>\n",
       "\t<tr><th></th><th scope=col>Naïve.CD4</th><th scope=col>Th1</th><th scope=col>Th2</th><th scope=col>Th17</th><th scope=col>Tfh</th><th scope=col>Fr..I.nTreg</th><th scope=col>Fr..II.eTreg</th><th scope=col>Fr..III.T</th><th scope=col>Naïve.CD8</th><th scope=col>CM.CD8</th><th scope=col>⋯</th><th scope=col>SM.B</th><th scope=col>Plasmablast</th><th scope=col>DN.B</th><th scope=col>CL.Mono</th><th scope=col>Int.Mono</th><th scope=col>NC.Mono</th><th scope=col>mDC</th><th scope=col>pDC</th><th scope=col>Neu</th><th scope=col>LDG</th></tr>\n",
       "\t<tr><th></th><th scope=col>&lt;dbl&gt;</th><th scope=col>&lt;dbl&gt;</th><th scope=col>&lt;dbl&gt;</th><th scope=col>&lt;dbl&gt;</th><th scope=col>&lt;dbl&gt;</th><th scope=col>&lt;dbl&gt;</th><th scope=col>&lt;dbl&gt;</th><th scope=col>&lt;dbl&gt;</th><th scope=col>&lt;dbl&gt;</th><th scope=col>&lt;dbl&gt;</th><th scope=col>⋯</th><th scope=col>&lt;dbl&gt;</th><th scope=col>&lt;dbl&gt;</th><th scope=col>&lt;dbl&gt;</th><th scope=col>&lt;dbl&gt;</th><th scope=col>&lt;dbl&gt;</th><th scope=col>&lt;dbl&gt;</th><th scope=col>&lt;dbl&gt;</th><th scope=col>&lt;dbl&gt;</th><th scope=col>&lt;dbl&gt;</th><th scope=col>&lt;dbl&gt;</th></tr>\n",
       "</thead>\n",
       "<tbody>\n",
       "\t<tr><th scope=row>AC000068.3</th><td>-0.15193307</td><td>-0.39134276</td><td>-0.34300042</td><td>-0.3660206</td><td>-0.34530244</td><td>-0.2992621</td><td>-0.40745688</td><td>-0.336094372</td><td>-0.2440137</td><td>-0.35911453</td><td>⋯</td><td>-0.40745688</td><td>-0.5432758</td><td>-0.40975889</td><td>-0.45119518</td><td>-0.5294637</td><td>-0.4673093</td><td>-0.54327583</td><td>-0.3959468</td><td>-0.5801081</td><td>-0.5087456</td></tr>\n",
       "\t<tr><th scope=row>AC005674.2</th><td> 5.10587203</td><td> 2.13857309</td><td> 2.70486909</td><td> 1.9705259</td><td> 3.01564128</td><td> 4.2518240</td><td> 1.01288715</td><td> 2.304318260</td><td> 3.5197828</td><td> 2.06951260</td><td>⋯</td><td> 1.26610893</td><td>-0.6169404</td><td> 0.69060487</td><td>-0.01841613</td><td> 0.1542351</td><td> 0.9783569</td><td> 0.04143629</td><td> 0.6629807</td><td> 0.6031283</td><td> 1.6620557</td></tr>\n",
       "\t<tr><th scope=row>AC005920.1</th><td> 1.40653193</td><td> 0.05294637</td><td>-0.08287258</td><td> 0.1404230</td><td> 0.08977863</td><td> 0.9852630</td><td>-0.29235606</td><td> 0.004604032</td><td> 1.0566255</td><td>-0.03222823</td><td>⋯</td><td>-0.66758471</td><td>-0.6721887</td><td>-0.66758471</td><td>-0.64686656</td><td>-0.6330545</td><td>-0.5916182</td><td>-0.60543027</td><td>-0.6744908</td><td>-0.6721887</td><td>-0.6537726</td></tr>\n",
       "\t<tr><th scope=row>AC006252.1</th><td> 1.11647788</td><td> 0.02762419</td><td> 0.13351694</td><td> 0.1611411</td><td> 0.25322179</td><td> 0.3591145</td><td>-0.06445645</td><td> 0.073664520</td><td> 0.8977863</td><td> 0.06215444</td><td>⋯</td><td>-0.02071815</td><td> 0.1358190</td><td> 0.05755041</td><td>-0.39594679</td><td>-0.5087456</td><td>-0.4788194</td><td>-0.46040325</td><td>-0.2463157</td><td>-0.5271617</td><td>-0.4834234</td></tr>\n",
       "\t<tr><th scope=row>AC009041.2</th><td> 7.35263988</td><td> 1.48940451</td><td> 4.08607883</td><td> 1.2615049</td><td> 2.03728438</td><td> 1.4778944</td><td>-0.65607463</td><td>-0.036832260</td><td> 6.5676523</td><td> 2.29511020</td><td>⋯</td><td>-0.63535648</td><td>-0.6744908</td><td>-0.65607463</td><td>-0.67449076</td><td>-0.6744908</td><td>-0.6744908</td><td>-0.67679278</td><td>-0.6307525</td><td>-0.6744908</td><td>-0.6261484</td></tr>\n",
       "\t<tr><th scope=row>AC011726.3</th><td> 0.06445645</td><td>-0.62614842</td><td>-0.56859801</td><td>-0.6445645</td><td>-0.58471213</td><td>-0.5893162</td><td>-0.67218874</td><td>-0.669886727</td><td>-0.3015641</td><td>-0.62845043</td><td>⋯</td><td>-0.66988673</td><td>-0.6744908</td><td>-0.66988673</td><td>-0.58701414</td><td>-0.6491686</td><td>-0.6698867</td><td>-0.66758471</td><td>-0.6744908</td><td>-0.6537726</td><td>-0.6491686</td></tr>\n",
       "</tbody>\n",
       "</table>\n"
      ],
      "text/latex": [
       "A data.frame: 6 × 25\n",
       "\\begin{tabular}{r|lllllllllllllllllllll}\n",
       "  & Naïve.CD4 & Th1 & Th2 & Th17 & Tfh & Fr..I.nTreg & Fr..II.eTreg & Fr..III.T & Naïve.CD8 & CM.CD8 & ⋯ & SM.B & Plasmablast & DN.B & CL.Mono & Int.Mono & NC.Mono & mDC & pDC & Neu & LDG\\\\\n",
       "  & <dbl> & <dbl> & <dbl> & <dbl> & <dbl> & <dbl> & <dbl> & <dbl> & <dbl> & <dbl> & ⋯ & <dbl> & <dbl> & <dbl> & <dbl> & <dbl> & <dbl> & <dbl> & <dbl> & <dbl> & <dbl>\\\\\n",
       "\\hline\n",
       "\tAC000068.3 & -0.15193307 & -0.39134276 & -0.34300042 & -0.3660206 & -0.34530244 & -0.2992621 & -0.40745688 & -0.336094372 & -0.2440137 & -0.35911453 & ⋯ & -0.40745688 & -0.5432758 & -0.40975889 & -0.45119518 & -0.5294637 & -0.4673093 & -0.54327583 & -0.3959468 & -0.5801081 & -0.5087456\\\\\n",
       "\tAC005674.2 &  5.10587203 &  2.13857309 &  2.70486909 &  1.9705259 &  3.01564128 &  4.2518240 &  1.01288715 &  2.304318260 &  3.5197828 &  2.06951260 & ⋯ &  1.26610893 & -0.6169404 &  0.69060487 & -0.01841613 &  0.1542351 &  0.9783569 &  0.04143629 &  0.6629807 &  0.6031283 &  1.6620557\\\\\n",
       "\tAC005920.1 &  1.40653193 &  0.05294637 & -0.08287258 &  0.1404230 &  0.08977863 &  0.9852630 & -0.29235606 &  0.004604032 &  1.0566255 & -0.03222823 & ⋯ & -0.66758471 & -0.6721887 & -0.66758471 & -0.64686656 & -0.6330545 & -0.5916182 & -0.60543027 & -0.6744908 & -0.6721887 & -0.6537726\\\\\n",
       "\tAC006252.1 &  1.11647788 &  0.02762419 &  0.13351694 &  0.1611411 &  0.25322179 &  0.3591145 & -0.06445645 &  0.073664520 &  0.8977863 &  0.06215444 & ⋯ & -0.02071815 &  0.1358190 &  0.05755041 & -0.39594679 & -0.5087456 & -0.4788194 & -0.46040325 & -0.2463157 & -0.5271617 & -0.4834234\\\\\n",
       "\tAC009041.2 &  7.35263988 &  1.48940451 &  4.08607883 &  1.2615049 &  2.03728438 &  1.4778944 & -0.65607463 & -0.036832260 &  6.5676523 &  2.29511020 & ⋯ & -0.63535648 & -0.6744908 & -0.65607463 & -0.67449076 & -0.6744908 & -0.6744908 & -0.67679278 & -0.6307525 & -0.6744908 & -0.6261484\\\\\n",
       "\tAC011726.3 &  0.06445645 & -0.62614842 & -0.56859801 & -0.6445645 & -0.58471213 & -0.5893162 & -0.67218874 & -0.669886727 & -0.3015641 & -0.62845043 & ⋯ & -0.66988673 & -0.6744908 & -0.66988673 & -0.58701414 & -0.6491686 & -0.6698867 & -0.66758471 & -0.6744908 & -0.6537726 & -0.6491686\\\\\n",
       "\\end{tabular}\n"
      ],
      "text/markdown": [
       "\n",
       "A data.frame: 6 × 25\n",
       "\n",
       "| <!--/--> | Naïve.CD4 &lt;dbl&gt; | Th1 &lt;dbl&gt; | Th2 &lt;dbl&gt; | Th17 &lt;dbl&gt; | Tfh &lt;dbl&gt; | Fr..I.nTreg &lt;dbl&gt; | Fr..II.eTreg &lt;dbl&gt; | Fr..III.T &lt;dbl&gt; | Naïve.CD8 &lt;dbl&gt; | CM.CD8 &lt;dbl&gt; | ⋯ ⋯ | SM.B &lt;dbl&gt; | Plasmablast &lt;dbl&gt; | DN.B &lt;dbl&gt; | CL.Mono &lt;dbl&gt; | Int.Mono &lt;dbl&gt; | NC.Mono &lt;dbl&gt; | mDC &lt;dbl&gt; | pDC &lt;dbl&gt; | Neu &lt;dbl&gt; | LDG &lt;dbl&gt; |\n",
       "|---|---|---|---|---|---|---|---|---|---|---|---|---|---|---|---|---|---|---|---|---|---|\n",
       "| AC000068.3 | -0.15193307 | -0.39134276 | -0.34300042 | -0.3660206 | -0.34530244 | -0.2992621 | -0.40745688 | -0.336094372 | -0.2440137 | -0.35911453 | ⋯ | -0.40745688 | -0.5432758 | -0.40975889 | -0.45119518 | -0.5294637 | -0.4673093 | -0.54327583 | -0.3959468 | -0.5801081 | -0.5087456 |\n",
       "| AC005674.2 |  5.10587203 |  2.13857309 |  2.70486909 |  1.9705259 |  3.01564128 |  4.2518240 |  1.01288715 |  2.304318260 |  3.5197828 |  2.06951260 | ⋯ |  1.26610893 | -0.6169404 |  0.69060487 | -0.01841613 |  0.1542351 |  0.9783569 |  0.04143629 |  0.6629807 |  0.6031283 |  1.6620557 |\n",
       "| AC005920.1 |  1.40653193 |  0.05294637 | -0.08287258 |  0.1404230 |  0.08977863 |  0.9852630 | -0.29235606 |  0.004604032 |  1.0566255 | -0.03222823 | ⋯ | -0.66758471 | -0.6721887 | -0.66758471 | -0.64686656 | -0.6330545 | -0.5916182 | -0.60543027 | -0.6744908 | -0.6721887 | -0.6537726 |\n",
       "| AC006252.1 |  1.11647788 |  0.02762419 |  0.13351694 |  0.1611411 |  0.25322179 |  0.3591145 | -0.06445645 |  0.073664520 |  0.8977863 |  0.06215444 | ⋯ | -0.02071815 |  0.1358190 |  0.05755041 | -0.39594679 | -0.5087456 | -0.4788194 | -0.46040325 | -0.2463157 | -0.5271617 | -0.4834234 |\n",
       "| AC009041.2 |  7.35263988 |  1.48940451 |  4.08607883 |  1.2615049 |  2.03728438 |  1.4778944 | -0.65607463 | -0.036832260 |  6.5676523 |  2.29511020 | ⋯ | -0.63535648 | -0.6744908 | -0.65607463 | -0.67449076 | -0.6744908 | -0.6744908 | -0.67679278 | -0.6307525 | -0.6744908 | -0.6261484 |\n",
       "| AC011726.3 |  0.06445645 | -0.62614842 | -0.56859801 | -0.6445645 | -0.58471213 | -0.5893162 | -0.67218874 | -0.669886727 | -0.3015641 | -0.62845043 | ⋯ | -0.66988673 | -0.6744908 | -0.66988673 | -0.58701414 | -0.6491686 | -0.6698867 | -0.66758471 | -0.6744908 | -0.6537726 | -0.6491686 |\n",
       "\n"
      ],
      "text/plain": [
       "           Naïve.CD4   Th1         Th2         Th17       Tfh        \n",
       "AC000068.3 -0.15193307 -0.39134276 -0.34300042 -0.3660206 -0.34530244\n",
       "AC005674.2  5.10587203  2.13857309  2.70486909  1.9705259  3.01564128\n",
       "AC005920.1  1.40653193  0.05294637 -0.08287258  0.1404230  0.08977863\n",
       "AC006252.1  1.11647788  0.02762419  0.13351694  0.1611411  0.25322179\n",
       "AC009041.2  7.35263988  1.48940451  4.08607883  1.2615049  2.03728438\n",
       "AC011726.3  0.06445645 -0.62614842 -0.56859801 -0.6445645 -0.58471213\n",
       "           Fr..I.nTreg Fr..II.eTreg Fr..III.T    Naïve.CD8  CM.CD8      ⋯\n",
       "AC000068.3 -0.2992621  -0.40745688  -0.336094372 -0.2440137 -0.35911453 ⋯\n",
       "AC005674.2  4.2518240   1.01288715   2.304318260  3.5197828  2.06951260 ⋯\n",
       "AC005920.1  0.9852630  -0.29235606   0.004604032  1.0566255 -0.03222823 ⋯\n",
       "AC006252.1  0.3591145  -0.06445645   0.073664520  0.8977863  0.06215444 ⋯\n",
       "AC009041.2  1.4778944  -0.65607463  -0.036832260  6.5676523  2.29511020 ⋯\n",
       "AC011726.3 -0.5893162  -0.67218874  -0.669886727 -0.3015641 -0.62845043 ⋯\n",
       "           SM.B        Plasmablast DN.B        CL.Mono     Int.Mono  \n",
       "AC000068.3 -0.40745688 -0.5432758  -0.40975889 -0.45119518 -0.5294637\n",
       "AC005674.2  1.26610893 -0.6169404   0.69060487 -0.01841613  0.1542351\n",
       "AC005920.1 -0.66758471 -0.6721887  -0.66758471 -0.64686656 -0.6330545\n",
       "AC006252.1 -0.02071815  0.1358190   0.05755041 -0.39594679 -0.5087456\n",
       "AC009041.2 -0.63535648 -0.6744908  -0.65607463 -0.67449076 -0.6744908\n",
       "AC011726.3 -0.66988673 -0.6744908  -0.66988673 -0.58701414 -0.6491686\n",
       "           NC.Mono    mDC         pDC        Neu        LDG       \n",
       "AC000068.3 -0.4673093 -0.54327583 -0.3959468 -0.5801081 -0.5087456\n",
       "AC005674.2  0.9783569  0.04143629  0.6629807  0.6031283  1.6620557\n",
       "AC005920.1 -0.5916182 -0.60543027 -0.6744908 -0.6721887 -0.6537726\n",
       "AC006252.1 -0.4788194 -0.46040325 -0.2463157 -0.5271617 -0.4834234\n",
       "AC009041.2 -0.6744908 -0.67679278 -0.6307525 -0.6744908 -0.6261484\n",
       "AC011726.3 -0.6698867 -0.66758471 -0.6744908 -0.6537726 -0.6491686"
      ]
     },
     "metadata": {},
     "output_type": "display_data"
    }
   ],
   "source": [
    "head(immunexut_m)"
   ]
  },
  {
   "cell_type": "code",
   "execution_count": 16,
   "metadata": {},
   "outputs": [
    {
     "data": {
      "text/plain": [
       "    Min.  1st Qu.   Median     Mean  3rd Qu.     Max. \n",
       "    0.00     0.26     2.94    50.60    30.00 55587.39 "
      ]
     },
     "metadata": {},
     "output_type": "display_data"
    }
   ],
   "source": [
    "summary(unlist(tmp))"
   ]
  },
  {
   "cell_type": "code",
   "execution_count": 17,
   "metadata": {},
   "outputs": [
    {
     "data": {
      "text/plain": [
       "     Min.   1st Qu.    Median      Mean   3rd Qu.      Max. \n",
       "   -0.677    -0.617     0.000    10.970     6.229 12795.631 "
      ]
     },
     "metadata": {},
     "output_type": "display_data"
    }
   ],
   "source": [
    "summary(unlist(immunexut_m))"
   ]
  },
  {
   "cell_type": "code",
   "execution_count": 18,
   "metadata": {},
   "outputs": [
    {
     "data": {
      "image/png": "[encoded data removed]",
      "text/plain": [
       "plot without title"
      ]
     },
     "metadata": {
      "image/png": {
       "height": 420,
       "width": 420
      }
     },
     "output_type": "display_data"
    }
   ],
   "source": [
    "ggplot() + geom_histogram(aes(unlist(immunexut_m)), binwidth = 0.1) + myaxis + myplot +\n",
    "coord_cartesian(xlim = c(-1,1))"
   ]
  },
  {
   "cell_type": "code",
   "execution_count": 19,
   "metadata": {},
   "outputs": [],
   "source": [
    "immunexut_expressed_genes <- rownames(immunexut_m)[rowSums(immunexut_m > quantile(unlist(immunexut_m),0.75)) >= 1]"
   ]
  },
  {
   "cell_type": "code",
   "execution_count": 20,
   "metadata": {},
   "outputs": [
    {
     "data": {
      "text/html": [
       "<style>\n",
       ".list-inline {list-style: none; margin:0; padding: 0}\n",
       ".list-inline>li {display: inline-block}\n",
       ".list-inline>li:not(:last-child)::after {content: \"\\00b7\"; padding: 0 .5ex}\n",
       "</style>\n",
       "<ol class=list-inline><li>7172</li><li>25</li></ol>\n"
      ],
      "text/latex": [
       "\\begin{enumerate*}\n",
       "\\item 7172\n",
       "\\item 25\n",
       "\\end{enumerate*}\n"
      ],
      "text/markdown": [
       "1. 7172\n",
       "2. 25\n",
       "\n",
       "\n"
      ],
      "text/plain": [
       "[1] 7172   25"
      ]
     },
     "metadata": {},
     "output_type": "display_data"
    }
   ],
   "source": [
    "dim(immunexut_m)"
   ]
  },
  {
   "cell_type": "code",
   "execution_count": 21,
   "metadata": {},
   "outputs": [
    {
     "data": {
      "text/html": [
       "3896"
      ],
      "text/latex": [
       "3896"
      ],
      "text/markdown": [
       "3896"
      ],
      "text/plain": [
       "[1] 3896"
      ]
     },
     "metadata": {},
     "output_type": "display_data"
    }
   ],
   "source": [
    "length(immunexut_expressed_genes)"
   ]
  },
  {
   "cell_type": "code",
   "execution_count": 22,
   "metadata": {},
   "outputs": [],
   "source": [
    "# get median scores for genes for all celltypes\n",
    "immunexut_genes_mcentr <- t(apply(immunexut[,3:ncol(immunexut)],1,mcentr))"
   ]
  },
  {
   "cell_type": "code",
   "execution_count": 23,
   "metadata": {},
   "outputs": [],
   "source": [
    "rownames(immunexut_genes_mcentr) <- immunexut$Gene\n",
    "colnames(immunexut_genes_mcentr) <- colnames(immunexut)[3:ncol(immunexut)]"
   ]
  },
  {
   "cell_type": "code",
   "execution_count": 24,
   "metadata": {},
   "outputs": [
    {
     "data": {
      "text/html": [
       "<table class=\"dataframe\">\n",
       "<caption>A matrix: 6 × 25 of type dbl</caption>\n",
       "<thead>\n",
       "\t<tr><th></th><th scope=col>Naïve.CD4</th><th scope=col>Th1</th><th scope=col>Th2</th><th scope=col>Th17</th><th scope=col>Tfh</th><th scope=col>Fr..I.nTreg</th><th scope=col>Fr..II.eTreg</th><th scope=col>Fr..III.T</th><th scope=col>Naïve.CD8</th><th scope=col>CM.CD8</th><th scope=col>⋯</th><th scope=col>SM.B</th><th scope=col>Plasmablast</th><th scope=col>DN.B</th><th scope=col>CL.Mono</th><th scope=col>Int.Mono</th><th scope=col>NC.Mono</th><th scope=col>mDC</th><th scope=col>pDC</th><th scope=col>Neu</th><th scope=col>LDG</th></tr>\n",
       "</thead>\n",
       "<tbody>\n",
       "\t<tr><th scope=row>AC000068.3</th><td>  3.108523</td><td> 0.05865137</td><td> 0.6744908</td><td> 0.3812339</td><td> 0.6451651</td><td> 1.231679</td><td>-0.1466284</td><td> 0.7624678</td><td>  1.935495</td><td> 0.4692110</td><td>⋯</td><td>-0.14662843</td><td>-1.8768439</td><td>-0.1759541</td><td>-0.7038164</td><td>-1.7008897</td><td>-0.9090962</td><td>-1.8768439</td><td> 0.00000000</td><td>-2.3460548</td><td>-1.4369586</td></tr>\n",
       "\t<tr><th scope=row>AC005674.2</th><td>  3.676636</td><td> 0.83539869</td><td> 1.3776364</td><td> 0.6744908</td><td> 1.6752058</td><td> 2.858871</td><td>-0.2424640</td><td> 0.9941024</td><td>  2.157930</td><td> 0.7692721</td><td>⋯</td><td> 0.00000000</td><td>-1.8030505</td><td>-0.5510545</td><td>-1.2299537</td><td>-1.0646374</td><td>-0.2755273</td><td>-1.1726441</td><td>-0.57750516</td><td>-0.6348148</td><td> 0.3791255</td></tr>\n",
       "\t<tr><th scope=row>AC005920.1</th><td> 11.281189</td><td> 3.50470689</td><td> 2.7244137</td><td> 4.0072686</td><td> 3.7163118</td><td> 8.860957</td><td> 1.5209105</td><td> 3.2269754</td><td>  9.270942</td><td> 3.0153705</td><td>⋯</td><td>-0.63481483</td><td>-0.6612655</td><td>-0.6348148</td><td>-0.5157871</td><td>-0.4364352</td><td>-0.1983796</td><td>-0.2777315</td><td>-0.67449076</td><td>-0.6612655</td><td>-0.5554630</td></tr>\n",
       "\t<tr><th scope=row>AC006252.1</th><td>  5.028022</td><td> 0.19417158</td><td> 0.6642712</td><td> 0.7869059</td><td> 1.1956882</td><td> 1.665788</td><td>-0.2146107</td><td> 0.3985627</td><td>  4.057164</td><td> 0.3474649</td><td>⋯</td><td>-0.02043911</td><td> 0.6744908</td><td> 0.3270258</td><td>-1.6862269</td><td>-2.1869852</td><td>-2.0541309</td><td>-1.9723745</td><td>-1.02195570</td><td>-2.2687416</td><td>-2.0745701</td></tr>\n",
       "\t<tr><th scope=row>AC009041.2</th><td>111.323094</td><td>29.51700038</td><td>65.7467897</td><td>26.3372582</td><td>37.1612290</td><td>29.356407</td><td>-0.4175419</td><td> 8.2223635</td><td>100.370649</td><td>40.7585130</td><td>⋯</td><td>-0.12847443</td><td>-0.6744908</td><td>-0.4175419</td><td>-0.6744908</td><td>-0.6744908</td><td>-0.6744908</td><td>-0.7066094</td><td>-0.06423722</td><td>-0.6744908</td><td> 0.0000000</td></tr>\n",
       "\t<tr><th scope=row>AC011726.3</th><td> 26.305140</td><td> 1.01173614</td><td> 3.1195198</td><td> 0.3372454</td><td> 2.5293403</td><td> 2.360718</td><td>-0.6744908</td><td>-0.5901794</td><td> 12.899636</td><td> 0.9274248</td><td>⋯</td><td>-0.59017941</td><td>-0.7588021</td><td>-0.5901794</td><td> 2.4450290</td><td> 0.1686227</td><td>-0.5901794</td><td>-0.5058681</td><td>-0.75880210</td><td> 0.0000000</td><td> 0.1686227</td></tr>\n",
       "</tbody>\n",
       "</table>\n"
      ],
      "text/latex": [
       "A matrix: 6 × 25 of type dbl\n",
       "\\begin{tabular}{r|lllllllllllllllllllll}\n",
       "  & Naïve.CD4 & Th1 & Th2 & Th17 & Tfh & Fr..I.nTreg & Fr..II.eTreg & Fr..III.T & Naïve.CD8 & CM.CD8 & ⋯ & SM.B & Plasmablast & DN.B & CL.Mono & Int.Mono & NC.Mono & mDC & pDC & Neu & LDG\\\\\n",
       "\\hline\n",
       "\tAC000068.3 &   3.108523 &  0.05865137 &  0.6744908 &  0.3812339 &  0.6451651 &  1.231679 & -0.1466284 &  0.7624678 &   1.935495 &  0.4692110 & ⋯ & -0.14662843 & -1.8768439 & -0.1759541 & -0.7038164 & -1.7008897 & -0.9090962 & -1.8768439 &  0.00000000 & -2.3460548 & -1.4369586\\\\\n",
       "\tAC005674.2 &   3.676636 &  0.83539869 &  1.3776364 &  0.6744908 &  1.6752058 &  2.858871 & -0.2424640 &  0.9941024 &   2.157930 &  0.7692721 & ⋯ &  0.00000000 & -1.8030505 & -0.5510545 & -1.2299537 & -1.0646374 & -0.2755273 & -1.1726441 & -0.57750516 & -0.6348148 &  0.3791255\\\\\n",
       "\tAC005920.1 &  11.281189 &  3.50470689 &  2.7244137 &  4.0072686 &  3.7163118 &  8.860957 &  1.5209105 &  3.2269754 &   9.270942 &  3.0153705 & ⋯ & -0.63481483 & -0.6612655 & -0.6348148 & -0.5157871 & -0.4364352 & -0.1983796 & -0.2777315 & -0.67449076 & -0.6612655 & -0.5554630\\\\\n",
       "\tAC006252.1 &   5.028022 &  0.19417158 &  0.6642712 &  0.7869059 &  1.1956882 &  1.665788 & -0.2146107 &  0.3985627 &   4.057164 &  0.3474649 & ⋯ & -0.02043911 &  0.6744908 &  0.3270258 & -1.6862269 & -2.1869852 & -2.0541309 & -1.9723745 & -1.02195570 & -2.2687416 & -2.0745701\\\\\n",
       "\tAC009041.2 & 111.323094 & 29.51700038 & 65.7467897 & 26.3372582 & 37.1612290 & 29.356407 & -0.4175419 &  8.2223635 & 100.370649 & 40.7585130 & ⋯ & -0.12847443 & -0.6744908 & -0.4175419 & -0.6744908 & -0.6744908 & -0.6744908 & -0.7066094 & -0.06423722 & -0.6744908 &  0.0000000\\\\\n",
       "\tAC011726.3 &  26.305140 &  1.01173614 &  3.1195198 &  0.3372454 &  2.5293403 &  2.360718 & -0.6744908 & -0.5901794 &  12.899636 &  0.9274248 & ⋯ & -0.59017941 & -0.7588021 & -0.5901794 &  2.4450290 &  0.1686227 & -0.5901794 & -0.5058681 & -0.75880210 &  0.0000000 &  0.1686227\\\\\n",
       "\\end{tabular}\n"
      ],
      "text/markdown": [
       "\n",
       "A matrix: 6 × 25 of type dbl\n",
       "\n",
       "| <!--/--> | Naïve.CD4 | Th1 | Th2 | Th17 | Tfh | Fr..I.nTreg | Fr..II.eTreg | Fr..III.T | Naïve.CD8 | CM.CD8 | ⋯ | SM.B | Plasmablast | DN.B | CL.Mono | Int.Mono | NC.Mono | mDC | pDC | Neu | LDG |\n",
       "|---|---|---|---|---|---|---|---|---|---|---|---|---|---|---|---|---|---|---|---|---|---|\n",
       "| AC000068.3 |   3.108523 |  0.05865137 |  0.6744908 |  0.3812339 |  0.6451651 |  1.231679 | -0.1466284 |  0.7624678 |   1.935495 |  0.4692110 | ⋯ | -0.14662843 | -1.8768439 | -0.1759541 | -0.7038164 | -1.7008897 | -0.9090962 | -1.8768439 |  0.00000000 | -2.3460548 | -1.4369586 |\n",
       "| AC005674.2 |   3.676636 |  0.83539869 |  1.3776364 |  0.6744908 |  1.6752058 |  2.858871 | -0.2424640 |  0.9941024 |   2.157930 |  0.7692721 | ⋯ |  0.00000000 | -1.8030505 | -0.5510545 | -1.2299537 | -1.0646374 | -0.2755273 | -1.1726441 | -0.57750516 | -0.6348148 |  0.3791255 |\n",
       "| AC005920.1 |  11.281189 |  3.50470689 |  2.7244137 |  4.0072686 |  3.7163118 |  8.860957 |  1.5209105 |  3.2269754 |   9.270942 |  3.0153705 | ⋯ | -0.63481483 | -0.6612655 | -0.6348148 | -0.5157871 | -0.4364352 | -0.1983796 | -0.2777315 | -0.67449076 | -0.6612655 | -0.5554630 |\n",
       "| AC006252.1 |   5.028022 |  0.19417158 |  0.6642712 |  0.7869059 |  1.1956882 |  1.665788 | -0.2146107 |  0.3985627 |   4.057164 |  0.3474649 | ⋯ | -0.02043911 |  0.6744908 |  0.3270258 | -1.6862269 | -2.1869852 | -2.0541309 | -1.9723745 | -1.02195570 | -2.2687416 | -2.0745701 |\n",
       "| AC009041.2 | 111.323094 | 29.51700038 | 65.7467897 | 26.3372582 | 37.1612290 | 29.356407 | -0.4175419 |  8.2223635 | 100.370649 | 40.7585130 | ⋯ | -0.12847443 | -0.6744908 | -0.4175419 | -0.6744908 | -0.6744908 | -0.6744908 | -0.7066094 | -0.06423722 | -0.6744908 |  0.0000000 |\n",
       "| AC011726.3 |  26.305140 |  1.01173614 |  3.1195198 |  0.3372454 |  2.5293403 |  2.360718 | -0.6744908 | -0.5901794 |  12.899636 |  0.9274248 | ⋯ | -0.59017941 | -0.7588021 | -0.5901794 |  2.4450290 |  0.1686227 | -0.5901794 | -0.5058681 | -0.75880210 |  0.0000000 |  0.1686227 |\n",
       "\n"
      ],
      "text/plain": [
       "           Naïve.CD4  Th1         Th2        Th17       Tfh        Fr..I.nTreg\n",
       "AC000068.3   3.108523  0.05865137  0.6744908  0.3812339  0.6451651  1.231679  \n",
       "AC005674.2   3.676636  0.83539869  1.3776364  0.6744908  1.6752058  2.858871  \n",
       "AC005920.1  11.281189  3.50470689  2.7244137  4.0072686  3.7163118  8.860957  \n",
       "AC006252.1   5.028022  0.19417158  0.6642712  0.7869059  1.1956882  1.665788  \n",
       "AC009041.2 111.323094 29.51700038 65.7467897 26.3372582 37.1612290 29.356407  \n",
       "AC011726.3  26.305140  1.01173614  3.1195198  0.3372454  2.5293403  2.360718  \n",
       "           Fr..II.eTreg Fr..III.T  Naïve.CD8  CM.CD8     ⋯ SM.B       \n",
       "AC000068.3 -0.1466284    0.7624678   1.935495  0.4692110 ⋯ -0.14662843\n",
       "AC005674.2 -0.2424640    0.9941024   2.157930  0.7692721 ⋯  0.00000000\n",
       "AC005920.1  1.5209105    3.2269754   9.270942  3.0153705 ⋯ -0.63481483\n",
       "AC006252.1 -0.2146107    0.3985627   4.057164  0.3474649 ⋯ -0.02043911\n",
       "AC009041.2 -0.4175419    8.2223635 100.370649 40.7585130 ⋯ -0.12847443\n",
       "AC011726.3 -0.6744908   -0.5901794  12.899636  0.9274248 ⋯ -0.59017941\n",
       "           Plasmablast DN.B       CL.Mono    Int.Mono   NC.Mono    mDC       \n",
       "AC000068.3 -1.8768439  -0.1759541 -0.7038164 -1.7008897 -0.9090962 -1.8768439\n",
       "AC005674.2 -1.8030505  -0.5510545 -1.2299537 -1.0646374 -0.2755273 -1.1726441\n",
       "AC005920.1 -0.6612655  -0.6348148 -0.5157871 -0.4364352 -0.1983796 -0.2777315\n",
       "AC006252.1  0.6744908   0.3270258 -1.6862269 -2.1869852 -2.0541309 -1.9723745\n",
       "AC009041.2 -0.6744908  -0.4175419 -0.6744908 -0.6744908 -0.6744908 -0.7066094\n",
       "AC011726.3 -0.7588021  -0.5901794  2.4450290  0.1686227 -0.5901794 -0.5058681\n",
       "           pDC         Neu        LDG       \n",
       "AC000068.3  0.00000000 -2.3460548 -1.4369586\n",
       "AC005674.2 -0.57750516 -0.6348148  0.3791255\n",
       "AC005920.1 -0.67449076 -0.6612655 -0.5554630\n",
       "AC006252.1 -1.02195570 -2.2687416 -2.0745701\n",
       "AC009041.2 -0.06423722 -0.6744908  0.0000000\n",
       "AC011726.3 -0.75880210  0.0000000  0.1686227"
      ]
     },
     "metadata": {},
     "output_type": "display_data"
    }
   ],
   "source": [
    "head(immunexut_genes_mcentr)"
   ]
  },
  {
   "cell_type": "code",
   "execution_count": 25,
   "metadata": {},
   "outputs": [],
   "source": [
    "# get a list of tables with fold difference across celltype medians for each gene\n",
    "diff_gen_list_immunexut <- mclapply(rownames(immunexut_genes_mcentr), function(x){\n",
    "    mygen <- x\n",
    "    gen_df <- immunexut_genes_mcentr[mygen,]\n",
    "    #get z-score difference across cell types\n",
    "    tab_diff <- outer(gen_df, gen_df, \"-\")\n",
    "    #keep immune cells in rows and non-immune in cols    \n",
    "    return(tab_diff)    \n",
    "})\n",
    "\n",
    "names(diff_gen_list_immunexut) <- rownames(immunexut_genes_mcentr)"
   ]
  },
  {
   "cell_type": "code",
   "execution_count": 26,
   "metadata": {},
   "outputs": [
    {
     "data": {
      "text/html": [
       "<table class=\"dataframe\">\n",
       "<caption>A matrix: 25 × 25 of type dbl</caption>\n",
       "<thead>\n",
       "\t<tr><th></th><th scope=col>Naïve.CD4</th><th scope=col>Th1</th><th scope=col>Th2</th><th scope=col>Th17</th><th scope=col>Tfh</th><th scope=col>Fr..I.nTreg</th><th scope=col>Fr..II.eTreg</th><th scope=col>Fr..III.T</th><th scope=col>Naïve.CD8</th><th scope=col>CM.CD8</th><th scope=col>⋯</th><th scope=col>SM.B</th><th scope=col>Plasmablast</th><th scope=col>DN.B</th><th scope=col>CL.Mono</th><th scope=col>Int.Mono</th><th scope=col>NC.Mono</th><th scope=col>mDC</th><th scope=col>pDC</th><th scope=col>Neu</th><th scope=col>LDG</th></tr>\n",
       "</thead>\n",
       "<tbody>\n",
       "\t<tr><th scope=row>Naïve.CD4</th><td>   0.00000000</td><td>  -2.508263</td><td>   0.12646702</td><td>  -0.69556860</td><td>  -0.56910158</td><td>  -0.61125725</td><td>  -0.29508971</td><td>  -0.27401187</td><td>-1654.3994</td><td>-1554.2796</td><td>⋯</td><td>  -0.65341292</td><td>   0.10538918</td><td>  -0.8220356</td><td>   0.14754485</td><td>   0.10538918</td><td>2.107784e-01</td><td>   0.00000000</td><td>  -0.04215567</td><td>  -0.27401187</td><td> -11.382032</td></tr>\n",
       "\t<tr><th scope=row>Th1</th><td>   2.50826251</td><td>   0.000000</td><td>   2.63472953</td><td>   1.81269392</td><td>   1.93916093</td><td>   1.89700526</td><td>   2.21317280</td><td>   2.23425064</td><td>-1651.8911</td><td>-1551.7714</td><td>⋯</td><td>   1.85484959</td><td>   2.61365169</td><td>   1.6862269</td><td>   2.65580737</td><td>   2.61365169</td><td>2.719041e+00</td><td>   2.50826251</td><td>   2.46610684</td><td>   2.23425064</td><td>  -8.873769</td></tr>\n",
       "\t<tr><th scope=row>Th2</th><td>  -0.12646702</td><td>  -2.634730</td><td>   0.00000000</td><td>  -0.82203561</td><td>  -0.69556860</td><td>  -0.73772427</td><td>  -0.42155672</td><td>  -0.40047889</td><td>-1654.5258</td><td>-1554.4061</td><td>⋯</td><td>  -0.77987994</td><td>  -0.02107784</td><td>  -0.9485026</td><td>   0.02107784</td><td>  -0.02107784</td><td>8.431134e-02</td><td>  -0.12646702</td><td>  -0.16862269</td><td>  -0.40047889</td><td> -11.508499</td></tr>\n",
       "\t<tr><th scope=row>Th17</th><td>   0.69556860</td><td>  -1.812694</td><td>   0.82203561</td><td>   0.00000000</td><td>   0.12646702</td><td>   0.08431134</td><td>   0.40047889</td><td>   0.42155672</td><td>-1653.7038</td><td>-1553.5841</td><td>⋯</td><td>   0.04215567</td><td>   0.80095778</td><td>  -0.1264670</td><td>   0.84311345</td><td>   0.80095778</td><td>9.063470e-01</td><td>   0.69556860</td><td>   0.65341292</td><td>   0.42155672</td><td> -10.686463</td></tr>\n",
       "\t<tr><th scope=row>Tfh</th><td>   0.56910158</td><td>  -1.939161</td><td>   0.69556860</td><td>  -0.12646702</td><td>   0.00000000</td><td>  -0.04215567</td><td>   0.27401187</td><td>   0.29508971</td><td>-1653.8303</td><td>-1553.7105</td><td>⋯</td><td>  -0.08431134</td><td>   0.67449076</td><td>  -0.2529340</td><td>   0.71664643</td><td>   0.67449076</td><td>7.798799e-01</td><td>   0.56910158</td><td>   0.52694591</td><td>   0.29508971</td><td> -10.812930</td></tr>\n",
       "\t<tr><th scope=row>Fr..I.nTreg</th><td>   0.61125725</td><td>  -1.897005</td><td>   0.73772427</td><td>  -0.08431134</td><td>   0.04215567</td><td>   0.00000000</td><td>   0.31616754</td><td>   0.33724538</td><td>-1653.7881</td><td>-1553.6684</td><td>⋯</td><td>  -0.04215567</td><td>   0.71664643</td><td>  -0.2107784</td><td>   0.75880210</td><td>   0.71664643</td><td>8.220356e-01</td><td>   0.61125725</td><td>   0.56910158</td><td>   0.33724538</td><td> -10.770774</td></tr>\n",
       "\t<tr><th scope=row>Fr..II.eTreg</th><td>   0.29508971</td><td>  -2.213173</td><td>   0.42155672</td><td>  -0.40047889</td><td>  -0.27401187</td><td>  -0.31616754</td><td>   0.00000000</td><td>   0.02107784</td><td>-1654.1043</td><td>-1553.9846</td><td>⋯</td><td>  -0.35832322</td><td>   0.40047889</td><td>  -0.5269459</td><td>   0.44263456</td><td>   0.40047889</td><td>5.058681e-01</td><td>   0.29508971</td><td>   0.25293403</td><td>   0.02107784</td><td> -11.086942</td></tr>\n",
       "\t<tr><th scope=row>Fr..III.T</th><td>   0.27401187</td><td>  -2.234251</td><td>   0.40047889</td><td>  -0.42155672</td><td>  -0.29508971</td><td>  -0.33724538</td><td>  -0.02107784</td><td>   0.00000000</td><td>-1654.1254</td><td>-1554.0056</td><td>⋯</td><td>  -0.37940105</td><td>   0.37940105</td><td>  -0.5480237</td><td>   0.42155672</td><td>   0.37940105</td><td>4.847902e-01</td><td>   0.27401187</td><td>   0.23185620</td><td>   0.00000000</td><td> -11.108020</td></tr>\n",
       "\t<tr><th scope=row>Naïve.CD8</th><td>1654.39936598</td><td>1651.891103</td><td>1654.52583300</td><td>1653.70379738</td><td>1653.83026440</td><td>1653.78810873</td><td>1654.10427627</td><td>1654.12535411</td><td>    0.0000</td><td>  100.1197</td><td>⋯</td><td>1653.74595306</td><td>1654.50475516</td><td>1653.5773304</td><td>1654.54691083</td><td>1654.50475516</td><td>1.654610e+03</td><td>1654.39936598</td><td>1654.35721031</td><td>1654.12535411</td><td>1643.017334</td></tr>\n",
       "\t<tr><th scope=row>CM.CD8</th><td>1554.27964387</td><td>1551.771381</td><td>1554.40611089</td><td>1553.58407527</td><td>1553.71054229</td><td>1553.66838662</td><td>1553.98455416</td><td>1554.00563200</td><td> -100.1197</td><td>    0.0000</td><td>⋯</td><td>1553.62623095</td><td>1554.38503305</td><td>1553.4576083</td><td>1554.42718872</td><td>1554.38503305</td><td>1.554490e+03</td><td>1554.27964387</td><td>1554.23748820</td><td>1554.00563200</td><td>1542.897612</td></tr>\n",
       "\t<tr><th scope=row>EM.CD8</th><td>2061.18052745</td><td>2058.672265</td><td>2061.30699447</td><td>2060.48495886</td><td>2060.61142587</td><td>2060.56927020</td><td>2060.88543774</td><td>2060.90651558</td><td>  406.7812</td><td>  506.9009</td><td>⋯</td><td>2060.52711453</td><td>2061.28591663</td><td>2060.3584918</td><td>2061.32807231</td><td>2061.28591663</td><td>2.061391e+03</td><td>2061.18052745</td><td>2061.13837178</td><td>2060.90651558</td><td>2049.798496</td></tr>\n",
       "\t<tr><th scope=row>TEMRA.CD8</th><td>2513.25795899</td><td>2510.749696</td><td>2513.38442601</td><td>2512.56239040</td><td>2512.68885741</td><td>2512.64670174</td><td>2512.96286928</td><td>2512.98394712</td><td>  858.8586</td><td>  958.9783</td><td>⋯</td><td>2512.60454607</td><td>2513.36334817</td><td>2512.4359234</td><td>2513.40550384</td><td>2513.36334817</td><td>2.513469e+03</td><td>2513.25795899</td><td>2513.21580332</td><td>2512.98394712</td><td>2501.875927</td></tr>\n",
       "\t<tr><th scope=row>NK</th><td> 263.72588696</td><td> 261.217624</td><td> 263.85235397</td><td> 263.03031836</td><td> 263.15678538</td><td> 263.11462970</td><td> 263.43079725</td><td> 263.45187508</td><td>-1390.6735</td><td>-1290.5538</td><td>⋯</td><td> 263.07247403</td><td> 263.83127614</td><td> 262.9038513</td><td> 263.87343181</td><td> 263.83127614</td><td>2.639367e+02</td><td> 263.72588696</td><td> 263.68373128</td><td> 263.45187508</td><td> 252.343855</td></tr>\n",
       "\t<tr><th scope=row>Naïve.B</th><td>  -0.12646702</td><td>  -2.634730</td><td>   0.00000000</td><td>  -0.82203561</td><td>  -0.69556860</td><td>  -0.73772427</td><td>  -0.42155672</td><td>  -0.40047889</td><td>-1654.5258</td><td>-1554.4061</td><td>⋯</td><td>  -0.77987994</td><td>  -0.02107784</td><td>  -0.9485026</td><td>   0.02107784</td><td>  -0.02107784</td><td>8.431134e-02</td><td>  -0.12646702</td><td>  -0.16862269</td><td>  -0.40047889</td><td> -11.508499</td></tr>\n",
       "\t<tr><th scope=row>USM.B</th><td>   0.99065830</td><td>  -1.517604</td><td>   1.11712532</td><td>   0.29508971</td><td>   0.42155672</td><td>   0.37940105</td><td>   0.69556860</td><td>   0.71664643</td><td>-1653.4087</td><td>-1553.2890</td><td>⋯</td><td>   0.33724538</td><td>   1.09604748</td><td>   0.1686227</td><td>   1.13820316</td><td>   1.09604748</td><td>1.201437e+00</td><td>   0.99065830</td><td>   0.94850263</td><td>   0.71664643</td><td> -10.391373</td></tr>\n",
       "\t<tr><th scope=row>SM.B</th><td>   0.65341292</td><td>  -1.854850</td><td>   0.77987994</td><td>  -0.04215567</td><td>   0.08431134</td><td>   0.04215567</td><td>   0.35832322</td><td>   0.37940105</td><td>-1653.7460</td><td>-1553.6262</td><td>⋯</td><td>   0.00000000</td><td>   0.75880210</td><td>  -0.1686227</td><td>   0.80095778</td><td>   0.75880210</td><td>8.641913e-01</td><td>   0.65341292</td><td>   0.61125725</td><td>   0.37940105</td><td> -10.728619</td></tr>\n",
       "\t<tr><th scope=row>Plasmablast</th><td>  -0.10538918</td><td>  -2.613652</td><td>   0.02107784</td><td>  -0.80095778</td><td>  -0.67449076</td><td>  -0.71664643</td><td>  -0.40047889</td><td>  -0.37940105</td><td>-1654.5048</td><td>-1554.3850</td><td>⋯</td><td>  -0.75880210</td><td>   0.00000000</td><td>  -0.9274248</td><td>   0.04215567</td><td>   0.00000000</td><td>1.053892e-01</td><td>  -0.10538918</td><td>  -0.14754485</td><td>  -0.37940105</td><td> -11.487421</td></tr>\n",
       "\t<tr><th scope=row>DN.B</th><td>   0.82203561</td><td>  -1.686227</td><td>   0.94850263</td><td>   0.12646702</td><td>   0.25293403</td><td>   0.21077836</td><td>   0.52694591</td><td>   0.54802374</td><td>-1653.5773</td><td>-1553.4576</td><td>⋯</td><td>   0.16862269</td><td>   0.92742479</td><td>   0.0000000</td><td>   0.96958047</td><td>   0.92742479</td><td>1.032814e+00</td><td>   0.82203561</td><td>   0.77987994</td><td>   0.54802374</td><td> -10.559996</td></tr>\n",
       "\t<tr><th scope=row>CL.Mono</th><td>  -0.14754485</td><td>  -2.655807</td><td>  -0.02107784</td><td>  -0.84311345</td><td>  -0.71664643</td><td>  -0.75880210</td><td>  -0.44263456</td><td>  -0.42155672</td><td>-1654.5469</td><td>-1554.4272</td><td>⋯</td><td>  -0.80095778</td><td>  -0.04215567</td><td>  -0.9695805</td><td>   0.00000000</td><td>  -0.04215567</td><td>6.323351e-02</td><td>  -0.14754485</td><td>  -0.18970053</td><td>  -0.42155672</td><td> -11.529576</td></tr>\n",
       "\t<tr><th scope=row>Int.Mono</th><td>  -0.10538918</td><td>  -2.613652</td><td>   0.02107784</td><td>  -0.80095778</td><td>  -0.67449076</td><td>  -0.71664643</td><td>  -0.40047889</td><td>  -0.37940105</td><td>-1654.5048</td><td>-1554.3850</td><td>⋯</td><td>  -0.75880210</td><td>   0.00000000</td><td>  -0.9274248</td><td>   0.04215567</td><td>   0.00000000</td><td>1.053892e-01</td><td>  -0.10538918</td><td>  -0.14754485</td><td>  -0.37940105</td><td> -11.487421</td></tr>\n",
       "\t<tr><th scope=row>NC.Mono</th><td>  -0.21077836</td><td>  -2.719041</td><td>  -0.08431134</td><td>  -0.90634696</td><td>  -0.77987994</td><td>  -0.82203561</td><td>  -0.50586807</td><td>  -0.48479023</td><td>-1654.6101</td><td>-1554.4904</td><td>⋯</td><td>  -0.86419129</td><td>  -0.10538918</td><td>  -1.0328140</td><td>  -0.06323351</td><td>  -0.10538918</td><td>0.000000e+00</td><td>  -0.21077836</td><td>  -0.25293403</td><td>  -0.48479023</td><td> -11.592810</td></tr>\n",
       "\t<tr><th scope=row>mDC</th><td>   0.00000000</td><td>  -2.508263</td><td>   0.12646702</td><td>  -0.69556860</td><td>  -0.56910158</td><td>  -0.61125725</td><td>  -0.29508971</td><td>  -0.27401187</td><td>-1654.3994</td><td>-1554.2796</td><td>⋯</td><td>  -0.65341292</td><td>   0.10538918</td><td>  -0.8220356</td><td>   0.14754485</td><td>   0.10538918</td><td>2.107784e-01</td><td>   0.00000000</td><td>  -0.04215567</td><td>  -0.27401187</td><td> -11.382032</td></tr>\n",
       "\t<tr><th scope=row>pDC</th><td>   0.04215567</td><td>  -2.466107</td><td>   0.16862269</td><td>  -0.65341292</td><td>  -0.52694591</td><td>  -0.56910158</td><td>  -0.25293403</td><td>  -0.23185620</td><td>-1654.3572</td><td>-1554.2375</td><td>⋯</td><td>  -0.61125725</td><td>   0.14754485</td><td>  -0.7798799</td><td>   0.18970053</td><td>   0.14754485</td><td>2.529340e-01</td><td>   0.04215567</td><td>   0.00000000</td><td>  -0.23185620</td><td> -11.339876</td></tr>\n",
       "\t<tr><th scope=row>Neu</th><td>   0.27401187</td><td>  -2.234251</td><td>   0.40047889</td><td>  -0.42155672</td><td>  -0.29508971</td><td>  -0.33724538</td><td>  -0.02107784</td><td>   0.00000000</td><td>-1654.1254</td><td>-1554.0056</td><td>⋯</td><td>  -0.37940105</td><td>   0.37940105</td><td>  -0.5480237</td><td>   0.42155672</td><td>   0.37940105</td><td>4.847902e-01</td><td>   0.27401187</td><td>   0.23185620</td><td>   0.00000000</td><td> -11.108020</td></tr>\n",
       "\t<tr><th scope=row>LDG</th><td>  11.38203157</td><td>   8.873769</td><td>  11.50849858</td><td>  10.68646297</td><td>  10.81292999</td><td>  10.77077432</td><td>  11.08694186</td><td>  11.10801970</td><td>-1643.0173</td><td>-1542.8976</td><td>⋯</td><td>  10.72861864</td><td>  11.48742075</td><td>  10.5599960</td><td>  11.52957642</td><td>  11.48742075</td><td>1.159281e+01</td><td>  11.38203157</td><td>  11.33987589</td><td>  11.10801970</td><td>   0.000000</td></tr>\n",
       "</tbody>\n",
       "</table>\n"
      ],
      "text/latex": [
       "A matrix: 25 × 25 of type dbl\n",
       "\\begin{tabular}{r|lllllllllllllllllllll}\n",
       "  & Naïve.CD4 & Th1 & Th2 & Th17 & Tfh & Fr..I.nTreg & Fr..II.eTreg & Fr..III.T & Naïve.CD8 & CM.CD8 & ⋯ & SM.B & Plasmablast & DN.B & CL.Mono & Int.Mono & NC.Mono & mDC & pDC & Neu & LDG\\\\\n",
       "\\hline\n",
       "\tNaïve.CD4 &    0.00000000 &   -2.508263 &    0.12646702 &   -0.69556860 &   -0.56910158 &   -0.61125725 &   -0.29508971 &   -0.27401187 & -1654.3994 & -1554.2796 & ⋯ &   -0.65341292 &    0.10538918 &   -0.8220356 &    0.14754485 &    0.10538918 & 2.107784e-01 &    0.00000000 &   -0.04215567 &   -0.27401187 &  -11.382032\\\\\n",
       "\tTh1 &    2.50826251 &    0.000000 &    2.63472953 &    1.81269392 &    1.93916093 &    1.89700526 &    2.21317280 &    2.23425064 & -1651.8911 & -1551.7714 & ⋯ &    1.85484959 &    2.61365169 &    1.6862269 &    2.65580737 &    2.61365169 & 2.719041e+00 &    2.50826251 &    2.46610684 &    2.23425064 &   -8.873769\\\\\n",
       "\tTh2 &   -0.12646702 &   -2.634730 &    0.00000000 &   -0.82203561 &   -0.69556860 &   -0.73772427 &   -0.42155672 &   -0.40047889 & -1654.5258 & -1554.4061 & ⋯ &   -0.77987994 &   -0.02107784 &   -0.9485026 &    0.02107784 &   -0.02107784 & 8.431134e-02 &   -0.12646702 &   -0.16862269 &   -0.40047889 &  -11.508499\\\\\n",
       "\tTh17 &    0.69556860 &   -1.812694 &    0.82203561 &    0.00000000 &    0.12646702 &    0.08431134 &    0.40047889 &    0.42155672 & -1653.7038 & -1553.5841 & ⋯ &    0.04215567 &    0.80095778 &   -0.1264670 &    0.84311345 &    0.80095778 & 9.063470e-01 &    0.69556860 &    0.65341292 &    0.42155672 &  -10.686463\\\\\n",
       "\tTfh &    0.56910158 &   -1.939161 &    0.69556860 &   -0.12646702 &    0.00000000 &   -0.04215567 &    0.27401187 &    0.29508971 & -1653.8303 & -1553.7105 & ⋯ &   -0.08431134 &    0.67449076 &   -0.2529340 &    0.71664643 &    0.67449076 & 7.798799e-01 &    0.56910158 &    0.52694591 &    0.29508971 &  -10.812930\\\\\n",
       "\tFr..I.nTreg &    0.61125725 &   -1.897005 &    0.73772427 &   -0.08431134 &    0.04215567 &    0.00000000 &    0.31616754 &    0.33724538 & -1653.7881 & -1553.6684 & ⋯ &   -0.04215567 &    0.71664643 &   -0.2107784 &    0.75880210 &    0.71664643 & 8.220356e-01 &    0.61125725 &    0.56910158 &    0.33724538 &  -10.770774\\\\\n",
       "\tFr..II.eTreg &    0.29508971 &   -2.213173 &    0.42155672 &   -0.40047889 &   -0.27401187 &   -0.31616754 &    0.00000000 &    0.02107784 & -1654.1043 & -1553.9846 & ⋯ &   -0.35832322 &    0.40047889 &   -0.5269459 &    0.44263456 &    0.40047889 & 5.058681e-01 &    0.29508971 &    0.25293403 &    0.02107784 &  -11.086942\\\\\n",
       "\tFr..III.T &    0.27401187 &   -2.234251 &    0.40047889 &   -0.42155672 &   -0.29508971 &   -0.33724538 &   -0.02107784 &    0.00000000 & -1654.1254 & -1554.0056 & ⋯ &   -0.37940105 &    0.37940105 &   -0.5480237 &    0.42155672 &    0.37940105 & 4.847902e-01 &    0.27401187 &    0.23185620 &    0.00000000 &  -11.108020\\\\\n",
       "\tNaïve.CD8 & 1654.39936598 & 1651.891103 & 1654.52583300 & 1653.70379738 & 1653.83026440 & 1653.78810873 & 1654.10427627 & 1654.12535411 &     0.0000 &   100.1197 & ⋯ & 1653.74595306 & 1654.50475516 & 1653.5773304 & 1654.54691083 & 1654.50475516 & 1.654610e+03 & 1654.39936598 & 1654.35721031 & 1654.12535411 & 1643.017334\\\\\n",
       "\tCM.CD8 & 1554.27964387 & 1551.771381 & 1554.40611089 & 1553.58407527 & 1553.71054229 & 1553.66838662 & 1553.98455416 & 1554.00563200 &  -100.1197 &     0.0000 & ⋯ & 1553.62623095 & 1554.38503305 & 1553.4576083 & 1554.42718872 & 1554.38503305 & 1.554490e+03 & 1554.27964387 & 1554.23748820 & 1554.00563200 & 1542.897612\\\\\n",
       "\tEM.CD8 & 2061.18052745 & 2058.672265 & 2061.30699447 & 2060.48495886 & 2060.61142587 & 2060.56927020 & 2060.88543774 & 2060.90651558 &   406.7812 &   506.9009 & ⋯ & 2060.52711453 & 2061.28591663 & 2060.3584918 & 2061.32807231 & 2061.28591663 & 2.061391e+03 & 2061.18052745 & 2061.13837178 & 2060.90651558 & 2049.798496\\\\\n",
       "\tTEMRA.CD8 & 2513.25795899 & 2510.749696 & 2513.38442601 & 2512.56239040 & 2512.68885741 & 2512.64670174 & 2512.96286928 & 2512.98394712 &   858.8586 &   958.9783 & ⋯ & 2512.60454607 & 2513.36334817 & 2512.4359234 & 2513.40550384 & 2513.36334817 & 2.513469e+03 & 2513.25795899 & 2513.21580332 & 2512.98394712 & 2501.875927\\\\\n",
       "\tNK &  263.72588696 &  261.217624 &  263.85235397 &  263.03031836 &  263.15678538 &  263.11462970 &  263.43079725 &  263.45187508 & -1390.6735 & -1290.5538 & ⋯ &  263.07247403 &  263.83127614 &  262.9038513 &  263.87343181 &  263.83127614 & 2.639367e+02 &  263.72588696 &  263.68373128 &  263.45187508 &  252.343855\\\\\n",
       "\tNaïve.B &   -0.12646702 &   -2.634730 &    0.00000000 &   -0.82203561 &   -0.69556860 &   -0.73772427 &   -0.42155672 &   -0.40047889 & -1654.5258 & -1554.4061 & ⋯ &   -0.77987994 &   -0.02107784 &   -0.9485026 &    0.02107784 &   -0.02107784 & 8.431134e-02 &   -0.12646702 &   -0.16862269 &   -0.40047889 &  -11.508499\\\\\n",
       "\tUSM.B &    0.99065830 &   -1.517604 &    1.11712532 &    0.29508971 &    0.42155672 &    0.37940105 &    0.69556860 &    0.71664643 & -1653.4087 & -1553.2890 & ⋯ &    0.33724538 &    1.09604748 &    0.1686227 &    1.13820316 &    1.09604748 & 1.201437e+00 &    0.99065830 &    0.94850263 &    0.71664643 &  -10.391373\\\\\n",
       "\tSM.B &    0.65341292 &   -1.854850 &    0.77987994 &   -0.04215567 &    0.08431134 &    0.04215567 &    0.35832322 &    0.37940105 & -1653.7460 & -1553.6262 & ⋯ &    0.00000000 &    0.75880210 &   -0.1686227 &    0.80095778 &    0.75880210 & 8.641913e-01 &    0.65341292 &    0.61125725 &    0.37940105 &  -10.728619\\\\\n",
       "\tPlasmablast &   -0.10538918 &   -2.613652 &    0.02107784 &   -0.80095778 &   -0.67449076 &   -0.71664643 &   -0.40047889 &   -0.37940105 & -1654.5048 & -1554.3850 & ⋯ &   -0.75880210 &    0.00000000 &   -0.9274248 &    0.04215567 &    0.00000000 & 1.053892e-01 &   -0.10538918 &   -0.14754485 &   -0.37940105 &  -11.487421\\\\\n",
       "\tDN.B &    0.82203561 &   -1.686227 &    0.94850263 &    0.12646702 &    0.25293403 &    0.21077836 &    0.52694591 &    0.54802374 & -1653.5773 & -1553.4576 & ⋯ &    0.16862269 &    0.92742479 &    0.0000000 &    0.96958047 &    0.92742479 & 1.032814e+00 &    0.82203561 &    0.77987994 &    0.54802374 &  -10.559996\\\\\n",
       "\tCL.Mono &   -0.14754485 &   -2.655807 &   -0.02107784 &   -0.84311345 &   -0.71664643 &   -0.75880210 &   -0.44263456 &   -0.42155672 & -1654.5469 & -1554.4272 & ⋯ &   -0.80095778 &   -0.04215567 &   -0.9695805 &    0.00000000 &   -0.04215567 & 6.323351e-02 &   -0.14754485 &   -0.18970053 &   -0.42155672 &  -11.529576\\\\\n",
       "\tInt.Mono &   -0.10538918 &   -2.613652 &    0.02107784 &   -0.80095778 &   -0.67449076 &   -0.71664643 &   -0.40047889 &   -0.37940105 & -1654.5048 & -1554.3850 & ⋯ &   -0.75880210 &    0.00000000 &   -0.9274248 &    0.04215567 &    0.00000000 & 1.053892e-01 &   -0.10538918 &   -0.14754485 &   -0.37940105 &  -11.487421\\\\\n",
       "\tNC.Mono &   -0.21077836 &   -2.719041 &   -0.08431134 &   -0.90634696 &   -0.77987994 &   -0.82203561 &   -0.50586807 &   -0.48479023 & -1654.6101 & -1554.4904 & ⋯ &   -0.86419129 &   -0.10538918 &   -1.0328140 &   -0.06323351 &   -0.10538918 & 0.000000e+00 &   -0.21077836 &   -0.25293403 &   -0.48479023 &  -11.592810\\\\\n",
       "\tmDC &    0.00000000 &   -2.508263 &    0.12646702 &   -0.69556860 &   -0.56910158 &   -0.61125725 &   -0.29508971 &   -0.27401187 & -1654.3994 & -1554.2796 & ⋯ &   -0.65341292 &    0.10538918 &   -0.8220356 &    0.14754485 &    0.10538918 & 2.107784e-01 &    0.00000000 &   -0.04215567 &   -0.27401187 &  -11.382032\\\\\n",
       "\tpDC &    0.04215567 &   -2.466107 &    0.16862269 &   -0.65341292 &   -0.52694591 &   -0.56910158 &   -0.25293403 &   -0.23185620 & -1654.3572 & -1554.2375 & ⋯ &   -0.61125725 &    0.14754485 &   -0.7798799 &    0.18970053 &    0.14754485 & 2.529340e-01 &    0.04215567 &    0.00000000 &   -0.23185620 &  -11.339876\\\\\n",
       "\tNeu &    0.27401187 &   -2.234251 &    0.40047889 &   -0.42155672 &   -0.29508971 &   -0.33724538 &   -0.02107784 &    0.00000000 & -1654.1254 & -1554.0056 & ⋯ &   -0.37940105 &    0.37940105 &   -0.5480237 &    0.42155672 &    0.37940105 & 4.847902e-01 &    0.27401187 &    0.23185620 &    0.00000000 &  -11.108020\\\\\n",
       "\tLDG &   11.38203157 &    8.873769 &   11.50849858 &   10.68646297 &   10.81292999 &   10.77077432 &   11.08694186 &   11.10801970 & -1643.0173 & -1542.8976 & ⋯ &   10.72861864 &   11.48742075 &   10.5599960 &   11.52957642 &   11.48742075 & 1.159281e+01 &   11.38203157 &   11.33987589 &   11.10801970 &    0.000000\\\\\n",
       "\\end{tabular}\n"
      ],
      "text/markdown": [
       "\n",
       "A matrix: 25 × 25 of type dbl\n",
       "\n",
       "| <!--/--> | Naïve.CD4 | Th1 | Th2 | Th17 | Tfh | Fr..I.nTreg | Fr..II.eTreg | Fr..III.T | Naïve.CD8 | CM.CD8 | ⋯ | SM.B | Plasmablast | DN.B | CL.Mono | Int.Mono | NC.Mono | mDC | pDC | Neu | LDG |\n",
       "|---|---|---|---|---|---|---|---|---|---|---|---|---|---|---|---|---|---|---|---|---|---|\n",
       "| Naïve.CD4 |    0.00000000 |   -2.508263 |    0.12646702 |   -0.69556860 |   -0.56910158 |   -0.61125725 |   -0.29508971 |   -0.27401187 | -1654.3994 | -1554.2796 | ⋯ |   -0.65341292 |    0.10538918 |   -0.8220356 |    0.14754485 |    0.10538918 | 2.107784e-01 |    0.00000000 |   -0.04215567 |   -0.27401187 |  -11.382032 |\n",
       "| Th1 |    2.50826251 |    0.000000 |    2.63472953 |    1.81269392 |    1.93916093 |    1.89700526 |    2.21317280 |    2.23425064 | -1651.8911 | -1551.7714 | ⋯ |    1.85484959 |    2.61365169 |    1.6862269 |    2.65580737 |    2.61365169 | 2.719041e+00 |    2.50826251 |    2.46610684 |    2.23425064 |   -8.873769 |\n",
       "| Th2 |   -0.12646702 |   -2.634730 |    0.00000000 |   -0.82203561 |   -0.69556860 |   -0.73772427 |   -0.42155672 |   -0.40047889 | -1654.5258 | -1554.4061 | ⋯ |   -0.77987994 |   -0.02107784 |   -0.9485026 |    0.02107784 |   -0.02107784 | 8.431134e-02 |   -0.12646702 |   -0.16862269 |   -0.40047889 |  -11.508499 |\n",
       "| Th17 |    0.69556860 |   -1.812694 |    0.82203561 |    0.00000000 |    0.12646702 |    0.08431134 |    0.40047889 |    0.42155672 | -1653.7038 | -1553.5841 | ⋯ |    0.04215567 |    0.80095778 |   -0.1264670 |    0.84311345 |    0.80095778 | 9.063470e-01 |    0.69556860 |    0.65341292 |    0.42155672 |  -10.686463 |\n",
       "| Tfh |    0.56910158 |   -1.939161 |    0.69556860 |   -0.12646702 |    0.00000000 |   -0.04215567 |    0.27401187 |    0.29508971 | -1653.8303 | -1553.7105 | ⋯ |   -0.08431134 |    0.67449076 |   -0.2529340 |    0.71664643 |    0.67449076 | 7.798799e-01 |    0.56910158 |    0.52694591 |    0.29508971 |  -10.812930 |\n",
       "| Fr..I.nTreg |    0.61125725 |   -1.897005 |    0.73772427 |   -0.08431134 |    0.04215567 |    0.00000000 |    0.31616754 |    0.33724538 | -1653.7881 | -1553.6684 | ⋯ |   -0.04215567 |    0.71664643 |   -0.2107784 |    0.75880210 |    0.71664643 | 8.220356e-01 |    0.61125725 |    0.56910158 |    0.33724538 |  -10.770774 |\n",
       "| Fr..II.eTreg |    0.29508971 |   -2.213173 |    0.42155672 |   -0.40047889 |   -0.27401187 |   -0.31616754 |    0.00000000 |    0.02107784 | -1654.1043 | -1553.9846 | ⋯ |   -0.35832322 |    0.40047889 |   -0.5269459 |    0.44263456 |    0.40047889 | 5.058681e-01 |    0.29508971 |    0.25293403 |    0.02107784 |  -11.086942 |\n",
       "| Fr..III.T |    0.27401187 |   -2.234251 |    0.40047889 |   -0.42155672 |   -0.29508971 |   -0.33724538 |   -0.02107784 |    0.00000000 | -1654.1254 | -1554.0056 | ⋯ |   -0.37940105 |    0.37940105 |   -0.5480237 |    0.42155672 |    0.37940105 | 4.847902e-01 |    0.27401187 |    0.23185620 |    0.00000000 |  -11.108020 |\n",
       "| Naïve.CD8 | 1654.39936598 | 1651.891103 | 1654.52583300 | 1653.70379738 | 1653.83026440 | 1653.78810873 | 1654.10427627 | 1654.12535411 |     0.0000 |   100.1197 | ⋯ | 1653.74595306 | 1654.50475516 | 1653.5773304 | 1654.54691083 | 1654.50475516 | 1.654610e+03 | 1654.39936598 | 1654.35721031 | 1654.12535411 | 1643.017334 |\n",
       "| CM.CD8 | 1554.27964387 | 1551.771381 | 1554.40611089 | 1553.58407527 | 1553.71054229 | 1553.66838662 | 1553.98455416 | 1554.00563200 |  -100.1197 |     0.0000 | ⋯ | 1553.62623095 | 1554.38503305 | 1553.4576083 | 1554.42718872 | 1554.38503305 | 1.554490e+03 | 1554.27964387 | 1554.23748820 | 1554.00563200 | 1542.897612 |\n",
       "| EM.CD8 | 2061.18052745 | 2058.672265 | 2061.30699447 | 2060.48495886 | 2060.61142587 | 2060.56927020 | 2060.88543774 | 2060.90651558 |   406.7812 |   506.9009 | ⋯ | 2060.52711453 | 2061.28591663 | 2060.3584918 | 2061.32807231 | 2061.28591663 | 2.061391e+03 | 2061.18052745 | 2061.13837178 | 2060.90651558 | 2049.798496 |\n",
       "| TEMRA.CD8 | 2513.25795899 | 2510.749696 | 2513.38442601 | 2512.56239040 | 2512.68885741 | 2512.64670174 | 2512.96286928 | 2512.98394712 |   858.8586 |   958.9783 | ⋯ | 2512.60454607 | 2513.36334817 | 2512.4359234 | 2513.40550384 | 2513.36334817 | 2.513469e+03 | 2513.25795899 | 2513.21580332 | 2512.98394712 | 2501.875927 |\n",
       "| NK |  263.72588696 |  261.217624 |  263.85235397 |  263.03031836 |  263.15678538 |  263.11462970 |  263.43079725 |  263.45187508 | -1390.6735 | -1290.5538 | ⋯ |  263.07247403 |  263.83127614 |  262.9038513 |  263.87343181 |  263.83127614 | 2.639367e+02 |  263.72588696 |  263.68373128 |  263.45187508 |  252.343855 |\n",
       "| Naïve.B |   -0.12646702 |   -2.634730 |    0.00000000 |   -0.82203561 |   -0.69556860 |   -0.73772427 |   -0.42155672 |   -0.40047889 | -1654.5258 | -1554.4061 | ⋯ |   -0.77987994 |   -0.02107784 |   -0.9485026 |    0.02107784 |   -0.02107784 | 8.431134e-02 |   -0.12646702 |   -0.16862269 |   -0.40047889 |  -11.508499 |\n",
       "| USM.B |    0.99065830 |   -1.517604 |    1.11712532 |    0.29508971 |    0.42155672 |    0.37940105 |    0.69556860 |    0.71664643 | -1653.4087 | -1553.2890 | ⋯ |    0.33724538 |    1.09604748 |    0.1686227 |    1.13820316 |    1.09604748 | 1.201437e+00 |    0.99065830 |    0.94850263 |    0.71664643 |  -10.391373 |\n",
       "| SM.B |    0.65341292 |   -1.854850 |    0.77987994 |   -0.04215567 |    0.08431134 |    0.04215567 |    0.35832322 |    0.37940105 | -1653.7460 | -1553.6262 | ⋯ |    0.00000000 |    0.75880210 |   -0.1686227 |    0.80095778 |    0.75880210 | 8.641913e-01 |    0.65341292 |    0.61125725 |    0.37940105 |  -10.728619 |\n",
       "| Plasmablast |   -0.10538918 |   -2.613652 |    0.02107784 |   -0.80095778 |   -0.67449076 |   -0.71664643 |   -0.40047889 |   -0.37940105 | -1654.5048 | -1554.3850 | ⋯ |   -0.75880210 |    0.00000000 |   -0.9274248 |    0.04215567 |    0.00000000 | 1.053892e-01 |   -0.10538918 |   -0.14754485 |   -0.37940105 |  -11.487421 |\n",
       "| DN.B |    0.82203561 |   -1.686227 |    0.94850263 |    0.12646702 |    0.25293403 |    0.21077836 |    0.52694591 |    0.54802374 | -1653.5773 | -1553.4576 | ⋯ |    0.16862269 |    0.92742479 |    0.0000000 |    0.96958047 |    0.92742479 | 1.032814e+00 |    0.82203561 |    0.77987994 |    0.54802374 |  -10.559996 |\n",
       "| CL.Mono |   -0.14754485 |   -2.655807 |   -0.02107784 |   -0.84311345 |   -0.71664643 |   -0.75880210 |   -0.44263456 |   -0.42155672 | -1654.5469 | -1554.4272 | ⋯ |   -0.80095778 |   -0.04215567 |   -0.9695805 |    0.00000000 |   -0.04215567 | 6.323351e-02 |   -0.14754485 |   -0.18970053 |   -0.42155672 |  -11.529576 |\n",
       "| Int.Mono |   -0.10538918 |   -2.613652 |    0.02107784 |   -0.80095778 |   -0.67449076 |   -0.71664643 |   -0.40047889 |   -0.37940105 | -1654.5048 | -1554.3850 | ⋯ |   -0.75880210 |    0.00000000 |   -0.9274248 |    0.04215567 |    0.00000000 | 1.053892e-01 |   -0.10538918 |   -0.14754485 |   -0.37940105 |  -11.487421 |\n",
       "| NC.Mono |   -0.21077836 |   -2.719041 |   -0.08431134 |   -0.90634696 |   -0.77987994 |   -0.82203561 |   -0.50586807 |   -0.48479023 | -1654.6101 | -1554.4904 | ⋯ |   -0.86419129 |   -0.10538918 |   -1.0328140 |   -0.06323351 |   -0.10538918 | 0.000000e+00 |   -0.21077836 |   -0.25293403 |   -0.48479023 |  -11.592810 |\n",
       "| mDC |    0.00000000 |   -2.508263 |    0.12646702 |   -0.69556860 |   -0.56910158 |   -0.61125725 |   -0.29508971 |   -0.27401187 | -1654.3994 | -1554.2796 | ⋯ |   -0.65341292 |    0.10538918 |   -0.8220356 |    0.14754485 |    0.10538918 | 2.107784e-01 |    0.00000000 |   -0.04215567 |   -0.27401187 |  -11.382032 |\n",
       "| pDC |    0.04215567 |   -2.466107 |    0.16862269 |   -0.65341292 |   -0.52694591 |   -0.56910158 |   -0.25293403 |   -0.23185620 | -1654.3572 | -1554.2375 | ⋯ |   -0.61125725 |    0.14754485 |   -0.7798799 |    0.18970053 |    0.14754485 | 2.529340e-01 |    0.04215567 |    0.00000000 |   -0.23185620 |  -11.339876 |\n",
       "| Neu |    0.27401187 |   -2.234251 |    0.40047889 |   -0.42155672 |   -0.29508971 |   -0.33724538 |   -0.02107784 |    0.00000000 | -1654.1254 | -1554.0056 | ⋯ |   -0.37940105 |    0.37940105 |   -0.5480237 |    0.42155672 |    0.37940105 | 4.847902e-01 |    0.27401187 |    0.23185620 |    0.00000000 |  -11.108020 |\n",
       "| LDG |   11.38203157 |    8.873769 |   11.50849858 |   10.68646297 |   10.81292999 |   10.77077432 |   11.08694186 |   11.10801970 | -1643.0173 | -1542.8976 | ⋯ |   10.72861864 |   11.48742075 |   10.5599960 |   11.52957642 |   11.48742075 | 1.159281e+01 |   11.38203157 |   11.33987589 |   11.10801970 |    0.000000 |\n",
       "\n"
      ],
      "text/plain": [
       "             Naïve.CD4     Th1         Th2           Th17         \n",
       "Naïve.CD4       0.00000000   -2.508263    0.12646702   -0.69556860\n",
       "Th1             2.50826251    0.000000    2.63472953    1.81269392\n",
       "Th2            -0.12646702   -2.634730    0.00000000   -0.82203561\n",
       "Th17            0.69556860   -1.812694    0.82203561    0.00000000\n",
       "Tfh             0.56910158   -1.939161    0.69556860   -0.12646702\n",
       "Fr..I.nTreg     0.61125725   -1.897005    0.73772427   -0.08431134\n",
       "Fr..II.eTreg    0.29508971   -2.213173    0.42155672   -0.40047889\n",
       "Fr..III.T       0.27401187   -2.234251    0.40047889   -0.42155672\n",
       "Naïve.CD8    1654.39936598 1651.891103 1654.52583300 1653.70379738\n",
       "CM.CD8       1554.27964387 1551.771381 1554.40611089 1553.58407527\n",
       "EM.CD8       2061.18052745 2058.672265 2061.30699447 2060.48495886\n",
       "TEMRA.CD8    2513.25795899 2510.749696 2513.38442601 2512.56239040\n",
       "NK            263.72588696  261.217624  263.85235397  263.03031836\n",
       "Naïve.B        -0.12646702   -2.634730    0.00000000   -0.82203561\n",
       "USM.B           0.99065830   -1.517604    1.11712532    0.29508971\n",
       "SM.B            0.65341292   -1.854850    0.77987994   -0.04215567\n",
       "Plasmablast    -0.10538918   -2.613652    0.02107784   -0.80095778\n",
       "DN.B            0.82203561   -1.686227    0.94850263    0.12646702\n",
       "CL.Mono        -0.14754485   -2.655807   -0.02107784   -0.84311345\n",
       "Int.Mono       -0.10538918   -2.613652    0.02107784   -0.80095778\n",
       "NC.Mono        -0.21077836   -2.719041   -0.08431134   -0.90634696\n",
       "mDC             0.00000000   -2.508263    0.12646702   -0.69556860\n",
       "pDC             0.04215567   -2.466107    0.16862269   -0.65341292\n",
       "Neu             0.27401187   -2.234251    0.40047889   -0.42155672\n",
       "LDG            11.38203157    8.873769   11.50849858   10.68646297\n",
       "             Tfh           Fr..I.nTreg   Fr..II.eTreg  Fr..III.T     Naïve.CD8 \n",
       "Naïve.CD4      -0.56910158   -0.61125725   -0.29508971   -0.27401187 -1654.3994\n",
       "Th1             1.93916093    1.89700526    2.21317280    2.23425064 -1651.8911\n",
       "Th2            -0.69556860   -0.73772427   -0.42155672   -0.40047889 -1654.5258\n",
       "Th17            0.12646702    0.08431134    0.40047889    0.42155672 -1653.7038\n",
       "Tfh             0.00000000   -0.04215567    0.27401187    0.29508971 -1653.8303\n",
       "Fr..I.nTreg     0.04215567    0.00000000    0.31616754    0.33724538 -1653.7881\n",
       "Fr..II.eTreg   -0.27401187   -0.31616754    0.00000000    0.02107784 -1654.1043\n",
       "Fr..III.T      -0.29508971   -0.33724538   -0.02107784    0.00000000 -1654.1254\n",
       "Naïve.CD8    1653.83026440 1653.78810873 1654.10427627 1654.12535411     0.0000\n",
       "CM.CD8       1553.71054229 1553.66838662 1553.98455416 1554.00563200  -100.1197\n",
       "EM.CD8       2060.61142587 2060.56927020 2060.88543774 2060.90651558   406.7812\n",
       "TEMRA.CD8    2512.68885741 2512.64670174 2512.96286928 2512.98394712   858.8586\n",
       "NK            263.15678538  263.11462970  263.43079725  263.45187508 -1390.6735\n",
       "Naïve.B        -0.69556860   -0.73772427   -0.42155672   -0.40047889 -1654.5258\n",
       "USM.B           0.42155672    0.37940105    0.69556860    0.71664643 -1653.4087\n",
       "SM.B            0.08431134    0.04215567    0.35832322    0.37940105 -1653.7460\n",
       "Plasmablast    -0.67449076   -0.71664643   -0.40047889   -0.37940105 -1654.5048\n",
       "DN.B            0.25293403    0.21077836    0.52694591    0.54802374 -1653.5773\n",
       "CL.Mono        -0.71664643   -0.75880210   -0.44263456   -0.42155672 -1654.5469\n",
       "Int.Mono       -0.67449076   -0.71664643   -0.40047889   -0.37940105 -1654.5048\n",
       "NC.Mono        -0.77987994   -0.82203561   -0.50586807   -0.48479023 -1654.6101\n",
       "mDC            -0.56910158   -0.61125725   -0.29508971   -0.27401187 -1654.3994\n",
       "pDC            -0.52694591   -0.56910158   -0.25293403   -0.23185620 -1654.3572\n",
       "Neu            -0.29508971   -0.33724538   -0.02107784    0.00000000 -1654.1254\n",
       "LDG            10.81292999   10.77077432   11.08694186   11.10801970 -1643.0173\n",
       "             CM.CD8     ⋯ SM.B          Plasmablast   DN.B        \n",
       "Naïve.CD4    -1554.2796 ⋯   -0.65341292    0.10538918   -0.8220356\n",
       "Th1          -1551.7714 ⋯    1.85484959    2.61365169    1.6862269\n",
       "Th2          -1554.4061 ⋯   -0.77987994   -0.02107784   -0.9485026\n",
       "Th17         -1553.5841 ⋯    0.04215567    0.80095778   -0.1264670\n",
       "Tfh          -1553.7105 ⋯   -0.08431134    0.67449076   -0.2529340\n",
       "Fr..I.nTreg  -1553.6684 ⋯   -0.04215567    0.71664643   -0.2107784\n",
       "Fr..II.eTreg -1553.9846 ⋯   -0.35832322    0.40047889   -0.5269459\n",
       "Fr..III.T    -1554.0056 ⋯   -0.37940105    0.37940105   -0.5480237\n",
       "Naïve.CD8      100.1197 ⋯ 1653.74595306 1654.50475516 1653.5773304\n",
       "CM.CD8           0.0000 ⋯ 1553.62623095 1554.38503305 1553.4576083\n",
       "EM.CD8         506.9009 ⋯ 2060.52711453 2061.28591663 2060.3584918\n",
       "TEMRA.CD8      958.9783 ⋯ 2512.60454607 2513.36334817 2512.4359234\n",
       "NK           -1290.5538 ⋯  263.07247403  263.83127614  262.9038513\n",
       "Naïve.B      -1554.4061 ⋯   -0.77987994   -0.02107784   -0.9485026\n",
       "USM.B        -1553.2890 ⋯    0.33724538    1.09604748    0.1686227\n",
       "SM.B         -1553.6262 ⋯    0.00000000    0.75880210   -0.1686227\n",
       "Plasmablast  -1554.3850 ⋯   -0.75880210    0.00000000   -0.9274248\n",
       "DN.B         -1553.4576 ⋯    0.16862269    0.92742479    0.0000000\n",
       "CL.Mono      -1554.4272 ⋯   -0.80095778   -0.04215567   -0.9695805\n",
       "Int.Mono     -1554.3850 ⋯   -0.75880210    0.00000000   -0.9274248\n",
       "NC.Mono      -1554.4904 ⋯   -0.86419129   -0.10538918   -1.0328140\n",
       "mDC          -1554.2796 ⋯   -0.65341292    0.10538918   -0.8220356\n",
       "pDC          -1554.2375 ⋯   -0.61125725    0.14754485   -0.7798799\n",
       "Neu          -1554.0056 ⋯   -0.37940105    0.37940105   -0.5480237\n",
       "LDG          -1542.8976 ⋯   10.72861864   11.48742075   10.5599960\n",
       "             CL.Mono       Int.Mono      NC.Mono      mDC          \n",
       "Naïve.CD4       0.14754485    0.10538918 2.107784e-01    0.00000000\n",
       "Th1             2.65580737    2.61365169 2.719041e+00    2.50826251\n",
       "Th2             0.02107784   -0.02107784 8.431134e-02   -0.12646702\n",
       "Th17            0.84311345    0.80095778 9.063470e-01    0.69556860\n",
       "Tfh             0.71664643    0.67449076 7.798799e-01    0.56910158\n",
       "Fr..I.nTreg     0.75880210    0.71664643 8.220356e-01    0.61125725\n",
       "Fr..II.eTreg    0.44263456    0.40047889 5.058681e-01    0.29508971\n",
       "Fr..III.T       0.42155672    0.37940105 4.847902e-01    0.27401187\n",
       "Naïve.CD8    1654.54691083 1654.50475516 1.654610e+03 1654.39936598\n",
       "CM.CD8       1554.42718872 1554.38503305 1.554490e+03 1554.27964387\n",
       "EM.CD8       2061.32807231 2061.28591663 2.061391e+03 2061.18052745\n",
       "TEMRA.CD8    2513.40550384 2513.36334817 2.513469e+03 2513.25795899\n",
       "NK            263.87343181  263.83127614 2.639367e+02  263.72588696\n",
       "Naïve.B         0.02107784   -0.02107784 8.431134e-02   -0.12646702\n",
       "USM.B           1.13820316    1.09604748 1.201437e+00    0.99065830\n",
       "SM.B            0.80095778    0.75880210 8.641913e-01    0.65341292\n",
       "Plasmablast     0.04215567    0.00000000 1.053892e-01   -0.10538918\n",
       "DN.B            0.96958047    0.92742479 1.032814e+00    0.82203561\n",
       "CL.Mono         0.00000000   -0.04215567 6.323351e-02   -0.14754485\n",
       "Int.Mono        0.04215567    0.00000000 1.053892e-01   -0.10538918\n",
       "NC.Mono        -0.06323351   -0.10538918 0.000000e+00   -0.21077836\n",
       "mDC             0.14754485    0.10538918 2.107784e-01    0.00000000\n",
       "pDC             0.18970053    0.14754485 2.529340e-01    0.04215567\n",
       "Neu             0.42155672    0.37940105 4.847902e-01    0.27401187\n",
       "LDG            11.52957642   11.48742075 1.159281e+01   11.38203157\n",
       "             pDC           Neu           LDG        \n",
       "Naïve.CD4      -0.04215567   -0.27401187  -11.382032\n",
       "Th1             2.46610684    2.23425064   -8.873769\n",
       "Th2            -0.16862269   -0.40047889  -11.508499\n",
       "Th17            0.65341292    0.42155672  -10.686463\n",
       "Tfh             0.52694591    0.29508971  -10.812930\n",
       "Fr..I.nTreg     0.56910158    0.33724538  -10.770774\n",
       "Fr..II.eTreg    0.25293403    0.02107784  -11.086942\n",
       "Fr..III.T       0.23185620    0.00000000  -11.108020\n",
       "Naïve.CD8    1654.35721031 1654.12535411 1643.017334\n",
       "CM.CD8       1554.23748820 1554.00563200 1542.897612\n",
       "EM.CD8       2061.13837178 2060.90651558 2049.798496\n",
       "TEMRA.CD8    2513.21580332 2512.98394712 2501.875927\n",
       "NK            263.68373128  263.45187508  252.343855\n",
       "Naïve.B        -0.16862269   -0.40047889  -11.508499\n",
       "USM.B           0.94850263    0.71664643  -10.391373\n",
       "SM.B            0.61125725    0.37940105  -10.728619\n",
       "Plasmablast    -0.14754485   -0.37940105  -11.487421\n",
       "DN.B            0.77987994    0.54802374  -10.559996\n",
       "CL.Mono        -0.18970053   -0.42155672  -11.529576\n",
       "Int.Mono       -0.14754485   -0.37940105  -11.487421\n",
       "NC.Mono        -0.25293403   -0.48479023  -11.592810\n",
       "mDC            -0.04215567   -0.27401187  -11.382032\n",
       "pDC             0.00000000   -0.23185620  -11.339876\n",
       "Neu             0.23185620    0.00000000  -11.108020\n",
       "LDG            11.33987589   11.10801970    0.000000"
      ]
     },
     "metadata": {},
     "output_type": "display_data"
    }
   ],
   "source": [
    "#row value - col value\n",
    "diff_gen_list_immunexut[[\"CD8A\"]]"
   ]
  },
  {
   "cell_type": "markdown",
   "metadata": {},
   "source": [
    "Select genes if any immune cells express >=2 z compared to all nonimmune cells"
   ]
  },
  {
   "cell_type": "code",
   "execution_count": 27,
   "metadata": {},
   "outputs": [],
   "source": [
    "diff_gen_list_immune_immunexut <- lapply(diff_gen_list_immunexut, function(x) x[ rowSums(x >= 2) == 24,,drop = F])"
   ]
  },
  {
   "cell_type": "code",
   "execution_count": 28,
   "metadata": {},
   "outputs": [],
   "source": [
    "# rmeove empty lists\n",
    "diff_gen_list_immune_immunexut <- diff_gen_list_immune_immunexut[sapply(diff_gen_list_immune_immunexut, function(x) length(unlist(x))) >= 25]"
   ]
  },
  {
   "cell_type": "code",
   "execution_count": 29,
   "metadata": {},
   "outputs": [
    {
     "data": {
      "text/html": [
       "<table class=\"dataframe\">\n",
       "<caption>A matrix: 1 × 25 of type dbl</caption>\n",
       "<thead>\n",
       "\t<tr><th></th><th scope=col>Naïve.CD4</th><th scope=col>Th1</th><th scope=col>Th2</th><th scope=col>Th17</th><th scope=col>Tfh</th><th scope=col>Fr..I.nTreg</th><th scope=col>Fr..II.eTreg</th><th scope=col>Fr..III.T</th><th scope=col>Naïve.CD8</th><th scope=col>CM.CD8</th><th scope=col>⋯</th><th scope=col>SM.B</th><th scope=col>Plasmablast</th><th scope=col>DN.B</th><th scope=col>CL.Mono</th><th scope=col>Int.Mono</th><th scope=col>NC.Mono</th><th scope=col>mDC</th><th scope=col>pDC</th><th scope=col>Neu</th><th scope=col>LDG</th></tr>\n",
       "</thead>\n",
       "<tbody>\n",
       "\t<tr><th scope=row>TEMRA.CD8</th><td>2513.258</td><td>2510.75</td><td>2513.384</td><td>2512.562</td><td>2512.689</td><td>2512.647</td><td>2512.963</td><td>2512.984</td><td>858.8586</td><td>958.9783</td><td>⋯</td><td>2512.605</td><td>2513.363</td><td>2512.436</td><td>2513.406</td><td>2513.363</td><td>2513.469</td><td>2513.258</td><td>2513.216</td><td>2512.984</td><td>2501.876</td></tr>\n",
       "</tbody>\n",
       "</table>\n"
      ],
      "text/latex": [
       "A matrix: 1 × 25 of type dbl\n",
       "\\begin{tabular}{r|lllllllllllllllllllll}\n",
       "  & Naïve.CD4 & Th1 & Th2 & Th17 & Tfh & Fr..I.nTreg & Fr..II.eTreg & Fr..III.T & Naïve.CD8 & CM.CD8 & ⋯ & SM.B & Plasmablast & DN.B & CL.Mono & Int.Mono & NC.Mono & mDC & pDC & Neu & LDG\\\\\n",
       "\\hline\n",
       "\tTEMRA.CD8 & 2513.258 & 2510.75 & 2513.384 & 2512.562 & 2512.689 & 2512.647 & 2512.963 & 2512.984 & 858.8586 & 958.9783 & ⋯ & 2512.605 & 2513.363 & 2512.436 & 2513.406 & 2513.363 & 2513.469 & 2513.258 & 2513.216 & 2512.984 & 2501.876\\\\\n",
       "\\end{tabular}\n"
      ],
      "text/markdown": [
       "\n",
       "A matrix: 1 × 25 of type dbl\n",
       "\n",
       "| <!--/--> | Naïve.CD4 | Th1 | Th2 | Th17 | Tfh | Fr..I.nTreg | Fr..II.eTreg | Fr..III.T | Naïve.CD8 | CM.CD8 | ⋯ | SM.B | Plasmablast | DN.B | CL.Mono | Int.Mono | NC.Mono | mDC | pDC | Neu | LDG |\n",
       "|---|---|---|---|---|---|---|---|---|---|---|---|---|---|---|---|---|---|---|---|---|---|\n",
       "| TEMRA.CD8 | 2513.258 | 2510.75 | 2513.384 | 2512.562 | 2512.689 | 2512.647 | 2512.963 | 2512.984 | 858.8586 | 958.9783 | ⋯ | 2512.605 | 2513.363 | 2512.436 | 2513.406 | 2513.363 | 2513.469 | 2513.258 | 2513.216 | 2512.984 | 2501.876 |\n",
       "\n"
      ],
      "text/plain": [
       "          Naïve.CD4 Th1     Th2      Th17     Tfh      Fr..I.nTreg Fr..II.eTreg\n",
       "TEMRA.CD8 2513.258  2510.75 2513.384 2512.562 2512.689 2512.647    2512.963    \n",
       "          Fr..III.T Naïve.CD8 CM.CD8   ⋯ SM.B     Plasmablast DN.B     CL.Mono \n",
       "TEMRA.CD8 2512.984  858.8586  958.9783 ⋯ 2512.605 2513.363    2512.436 2513.406\n",
       "          Int.Mono NC.Mono  mDC      pDC      Neu      LDG     \n",
       "TEMRA.CD8 2513.363 2513.469 2513.258 2513.216 2512.984 2501.876"
      ]
     },
     "metadata": {},
     "output_type": "display_data"
    }
   ],
   "source": [
    "diff_gen_list_immune_immunexut$CD8A"
   ]
  },
  {
   "cell_type": "code",
   "execution_count": 30,
   "metadata": {},
   "outputs": [
    {
     "data": {
      "text/html": [
       "4655"
      ],
      "text/latex": [
       "4655"
      ],
      "text/markdown": [
       "4655"
      ],
      "text/plain": [
       "[1] 4655"
      ]
     },
     "metadata": {},
     "output_type": "display_data"
    }
   ],
   "source": [
    "length(diff_gen_list_immune_immunexut)"
   ]
  },
  {
   "cell_type": "code",
   "execution_count": 31,
   "metadata": {},
   "outputs": [],
   "source": [
    "# select genes with z (of median expression across all celltypes) > 75th percentile\n",
    "\n",
    "diff_gen_list_immune_immunexut_expressed <- diff_gen_list_immune_immunexut[names(diff_gen_list_immune_immunexut) %in% immunexut_expressed_genes]"
   ]
  },
  {
   "cell_type": "code",
   "execution_count": 32,
   "metadata": {},
   "outputs": [
    {
     "data": {
      "text/html": [
       "2555"
      ],
      "text/latex": [
       "2555"
      ],
      "text/markdown": [
       "2555"
      ],
      "text/plain": [
       "[1] 2555"
      ]
     },
     "metadata": {},
     "output_type": "display_data"
    }
   ],
   "source": [
    "length(diff_gen_list_immune_immunexut_expressed)"
   ]
  },
  {
   "cell_type": "code",
   "execution_count": 33,
   "metadata": {},
   "outputs": [],
   "source": [
    "#add cell type as a variable\n",
    "diff_gen_list_immune_immunexut_expressed <- lapply(diff_gen_list_immune_immunexut_expressed, function(x){cbind.data.frame(x, rownames(x))})"
   ]
  },
  {
   "cell_type": "code",
   "execution_count": 34,
   "metadata": {},
   "outputs": [],
   "source": [
    "immune_immunexut_expressed <- do.call(\"rbind\", diff_gen_list_immune_immunexut_expressed)"
   ]
  },
  {
   "cell_type": "code",
   "execution_count": 35,
   "metadata": {},
   "outputs": [],
   "source": [
    "colnames(immune_immunexut_expressed)[ colnames(immune_immunexut_expressed) == \"rownames(x)\"] <- \"celltype\""
   ]
  },
  {
   "cell_type": "code",
   "execution_count": 36,
   "metadata": {},
   "outputs": [],
   "source": [
    "immune_immunexut_expressed$Gene <- rownames(immune_immunexut_expressed)"
   ]
  },
  {
   "cell_type": "code",
   "execution_count": 37,
   "metadata": {},
   "outputs": [
    {
     "data": {
      "text/html": [
       "<table class=\"dataframe\">\n",
       "<caption>A data.frame: 6 × 27</caption>\n",
       "<thead>\n",
       "\t<tr><th></th><th scope=col>Naïve.CD4</th><th scope=col>Th1</th><th scope=col>Th2</th><th scope=col>Th17</th><th scope=col>Tfh</th><th scope=col>Fr..I.nTreg</th><th scope=col>Fr..II.eTreg</th><th scope=col>Fr..III.T</th><th scope=col>Naïve.CD8</th><th scope=col>CM.CD8</th><th scope=col>⋯</th><th scope=col>DN.B</th><th scope=col>CL.Mono</th><th scope=col>Int.Mono</th><th scope=col>NC.Mono</th><th scope=col>mDC</th><th scope=col>pDC</th><th scope=col>Neu</th><th scope=col>LDG</th><th scope=col>celltype</th><th scope=col>Gene</th></tr>\n",
       "\t<tr><th></th><th scope=col>&lt;dbl&gt;</th><th scope=col>&lt;dbl&gt;</th><th scope=col>&lt;dbl&gt;</th><th scope=col>&lt;dbl&gt;</th><th scope=col>&lt;dbl&gt;</th><th scope=col>&lt;dbl&gt;</th><th scope=col>&lt;dbl&gt;</th><th scope=col>&lt;dbl&gt;</th><th scope=col>&lt;dbl&gt;</th><th scope=col>&lt;dbl&gt;</th><th scope=col>⋯</th><th scope=col>&lt;dbl&gt;</th><th scope=col>&lt;dbl&gt;</th><th scope=col>&lt;dbl&gt;</th><th scope=col>&lt;dbl&gt;</th><th scope=col>&lt;dbl&gt;</th><th scope=col>&lt;dbl&gt;</th><th scope=col>&lt;dbl&gt;</th><th scope=col>&lt;dbl&gt;</th><th scope=col>&lt;chr&gt;</th><th scope=col>&lt;chr&gt;</th></tr>\n",
       "</thead>\n",
       "<tbody>\n",
       "\t<tr><th scope=row>AC009041.2</th><td>0</td><td>81.806094</td><td>45.576304</td><td>84.985836</td><td>74.161865</td><td>81.966687</td><td>111.74064</td><td>103.100730</td><td>10.952445</td><td>70.564581</td><td>⋯</td><td>111.740636</td><td>111.997585</td><td>111.997585</td><td>111.997585</td><td>112.029703</td><td>111.387331</td><td>111.99758</td><td>111.32309</td><td>Naïve.CD4</td><td>AC009041.2</td></tr>\n",
       "\t<tr><th scope=row>ADTRP</th><td>0</td><td>62.938741</td><td>61.167559</td><td>57.903230</td><td>40.840158</td><td> 7.409101</td><td> 50.88544</td><td> 52.965545</td><td>59.658965</td><td>68.411899</td><td>⋯</td><td> 69.941088</td><td> 69.961683</td><td> 69.874153</td><td> 69.590970</td><td> 69.956534</td><td> 69.750583</td><td> 69.96168</td><td> 69.51889</td><td>Naïve.CD4</td><td>ADTRP     </td></tr>\n",
       "\t<tr><th scope=row>AK5</th><td>0</td><td>41.412320</td><td>38.869737</td><td>45.784150</td><td>35.970486</td><td>14.743450</td><td> 48.66221</td><td> 46.094910</td><td>19.284786</td><td>41.977339</td><td>⋯</td><td> 49.237825</td><td> 49.251951</td><td> 49.304921</td><td> 49.297859</td><td> 47.006003</td><td> 49.085977</td><td> 49.29786</td><td> 48.98710</td><td>Naïve.CD4</td><td>AK5       </td></tr>\n",
       "\t<tr><th scope=row>ANKRD55</th><td>0</td><td>84.561156</td><td>29.469417</td><td>89.415824</td><td>53.567890</td><td>78.524048</td><td> 96.28564</td><td> 93.371171</td><td>98.159223</td><td>99.999500</td><td>⋯</td><td>101.206922</td><td>100.698972</td><td>101.048708</td><td>101.256884</td><td>100.882167</td><td>101.331828</td><td> 99.94121</td><td> 97.98436</td><td>Naïve.CD4</td><td>ANKRD55   </td></tr>\n",
       "\t<tr><th scope=row>B4GALT4</th><td>0</td><td> 6.397443</td><td> 7.130696</td><td> 7.636564</td><td> 7.863949</td><td> 7.545865</td><td>  8.29317</td><td>  8.104109</td><td> 7.911215</td><td> 7.429618</td><td>⋯</td><td>  7.244388</td><td>  8.862911</td><td>  9.095406</td><td>  8.882072</td><td>  7.269937</td><td>  7.319758</td><td> 10.33325</td><td> 10.06371</td><td>Naïve.CD4</td><td>B4GALT4   </td></tr>\n",
       "\t<tr><th scope=row>CHRM3-AS2</th><td>0</td><td>23.827609</td><td>24.303400</td><td>24.913469</td><td>20.609612</td><td> 8.939137</td><td> 29.97409</td><td> 27.707677</td><td>15.010330</td><td>28.034444</td><td>⋯</td><td> 32.050342</td><td> 32.052670</td><td> 32.041028</td><td> 31.989801</td><td> 32.053446</td><td> 32.057327</td><td> 32.04336</td><td> 31.85397</td><td>Naïve.CD4</td><td>CHRM3-AS2 </td></tr>\n",
       "</tbody>\n",
       "</table>\n"
      ],
      "text/latex": [
       "A data.frame: 6 × 27\n",
       "\\begin{tabular}{r|lllllllllllllllllllll}\n",
       "  & Naïve.CD4 & Th1 & Th2 & Th17 & Tfh & Fr..I.nTreg & Fr..II.eTreg & Fr..III.T & Naïve.CD8 & CM.CD8 & ⋯ & DN.B & CL.Mono & Int.Mono & NC.Mono & mDC & pDC & Neu & LDG & celltype & Gene\\\\\n",
       "  & <dbl> & <dbl> & <dbl> & <dbl> & <dbl> & <dbl> & <dbl> & <dbl> & <dbl> & <dbl> & ⋯ & <dbl> & <dbl> & <dbl> & <dbl> & <dbl> & <dbl> & <dbl> & <dbl> & <chr> & <chr>\\\\\n",
       "\\hline\n",
       "\tAC009041.2 & 0 & 81.806094 & 45.576304 & 84.985836 & 74.161865 & 81.966687 & 111.74064 & 103.100730 & 10.952445 & 70.564581 & ⋯ & 111.740636 & 111.997585 & 111.997585 & 111.997585 & 112.029703 & 111.387331 & 111.99758 & 111.32309 & Naïve.CD4 & AC009041.2\\\\\n",
       "\tADTRP & 0 & 62.938741 & 61.167559 & 57.903230 & 40.840158 &  7.409101 &  50.88544 &  52.965545 & 59.658965 & 68.411899 & ⋯ &  69.941088 &  69.961683 &  69.874153 &  69.590970 &  69.956534 &  69.750583 &  69.96168 &  69.51889 & Naïve.CD4 & ADTRP     \\\\\n",
       "\tAK5 & 0 & 41.412320 & 38.869737 & 45.784150 & 35.970486 & 14.743450 &  48.66221 &  46.094910 & 19.284786 & 41.977339 & ⋯ &  49.237825 &  49.251951 &  49.304921 &  49.297859 &  47.006003 &  49.085977 &  49.29786 &  48.98710 & Naïve.CD4 & AK5       \\\\\n",
       "\tANKRD55 & 0 & 84.561156 & 29.469417 & 89.415824 & 53.567890 & 78.524048 &  96.28564 &  93.371171 & 98.159223 & 99.999500 & ⋯ & 101.206922 & 100.698972 & 101.048708 & 101.256884 & 100.882167 & 101.331828 &  99.94121 &  97.98436 & Naïve.CD4 & ANKRD55   \\\\\n",
       "\tB4GALT4 & 0 &  6.397443 &  7.130696 &  7.636564 &  7.863949 &  7.545865 &   8.29317 &   8.104109 &  7.911215 &  7.429618 & ⋯ &   7.244388 &   8.862911 &   9.095406 &   8.882072 &   7.269937 &   7.319758 &  10.33325 &  10.06371 & Naïve.CD4 & B4GALT4   \\\\\n",
       "\tCHRM3-AS2 & 0 & 23.827609 & 24.303400 & 24.913469 & 20.609612 &  8.939137 &  29.97409 &  27.707677 & 15.010330 & 28.034444 & ⋯ &  32.050342 &  32.052670 &  32.041028 &  31.989801 &  32.053446 &  32.057327 &  32.04336 &  31.85397 & Naïve.CD4 & CHRM3-AS2 \\\\\n",
       "\\end{tabular}\n"
      ],
      "text/markdown": [
       "\n",
       "A data.frame: 6 × 27\n",
       "\n",
       "| <!--/--> | Naïve.CD4 &lt;dbl&gt; | Th1 &lt;dbl&gt; | Th2 &lt;dbl&gt; | Th17 &lt;dbl&gt; | Tfh &lt;dbl&gt; | Fr..I.nTreg &lt;dbl&gt; | Fr..II.eTreg &lt;dbl&gt; | Fr..III.T &lt;dbl&gt; | Naïve.CD8 &lt;dbl&gt; | CM.CD8 &lt;dbl&gt; | ⋯ ⋯ | DN.B &lt;dbl&gt; | CL.Mono &lt;dbl&gt; | Int.Mono &lt;dbl&gt; | NC.Mono &lt;dbl&gt; | mDC &lt;dbl&gt; | pDC &lt;dbl&gt; | Neu &lt;dbl&gt; | LDG &lt;dbl&gt; | celltype &lt;chr&gt; | Gene &lt;chr&gt; |\n",
       "|---|---|---|---|---|---|---|---|---|---|---|---|---|---|---|---|---|---|---|---|---|---|\n",
       "| AC009041.2 | 0 | 81.806094 | 45.576304 | 84.985836 | 74.161865 | 81.966687 | 111.74064 | 103.100730 | 10.952445 | 70.564581 | ⋯ | 111.740636 | 111.997585 | 111.997585 | 111.997585 | 112.029703 | 111.387331 | 111.99758 | 111.32309 | Naïve.CD4 | AC009041.2 |\n",
       "| ADTRP | 0 | 62.938741 | 61.167559 | 57.903230 | 40.840158 |  7.409101 |  50.88544 |  52.965545 | 59.658965 | 68.411899 | ⋯ |  69.941088 |  69.961683 |  69.874153 |  69.590970 |  69.956534 |  69.750583 |  69.96168 |  69.51889 | Naïve.CD4 | ADTRP      |\n",
       "| AK5 | 0 | 41.412320 | 38.869737 | 45.784150 | 35.970486 | 14.743450 |  48.66221 |  46.094910 | 19.284786 | 41.977339 | ⋯ |  49.237825 |  49.251951 |  49.304921 |  49.297859 |  47.006003 |  49.085977 |  49.29786 |  48.98710 | Naïve.CD4 | AK5        |\n",
       "| ANKRD55 | 0 | 84.561156 | 29.469417 | 89.415824 | 53.567890 | 78.524048 |  96.28564 |  93.371171 | 98.159223 | 99.999500 | ⋯ | 101.206922 | 100.698972 | 101.048708 | 101.256884 | 100.882167 | 101.331828 |  99.94121 |  97.98436 | Naïve.CD4 | ANKRD55    |\n",
       "| B4GALT4 | 0 |  6.397443 |  7.130696 |  7.636564 |  7.863949 |  7.545865 |   8.29317 |   8.104109 |  7.911215 |  7.429618 | ⋯ |   7.244388 |   8.862911 |   9.095406 |   8.882072 |   7.269937 |   7.319758 |  10.33325 |  10.06371 | Naïve.CD4 | B4GALT4    |\n",
       "| CHRM3-AS2 | 0 | 23.827609 | 24.303400 | 24.913469 | 20.609612 |  8.939137 |  29.97409 |  27.707677 | 15.010330 | 28.034444 | ⋯ |  32.050342 |  32.052670 |  32.041028 |  31.989801 |  32.053446 |  32.057327 |  32.04336 |  31.85397 | Naïve.CD4 | CHRM3-AS2  |\n",
       "\n"
      ],
      "text/plain": [
       "           Naïve.CD4 Th1       Th2       Th17      Tfh       Fr..I.nTreg\n",
       "AC009041.2 0         81.806094 45.576304 84.985836 74.161865 81.966687  \n",
       "ADTRP      0         62.938741 61.167559 57.903230 40.840158  7.409101  \n",
       "AK5        0         41.412320 38.869737 45.784150 35.970486 14.743450  \n",
       "ANKRD55    0         84.561156 29.469417 89.415824 53.567890 78.524048  \n",
       "B4GALT4    0          6.397443  7.130696  7.636564  7.863949  7.545865  \n",
       "CHRM3-AS2  0         23.827609 24.303400 24.913469 20.609612  8.939137  \n",
       "           Fr..II.eTreg Fr..III.T  Naïve.CD8 CM.CD8    ⋯ DN.B       CL.Mono   \n",
       "AC009041.2 111.74064    103.100730 10.952445 70.564581 ⋯ 111.740636 111.997585\n",
       "ADTRP       50.88544     52.965545 59.658965 68.411899 ⋯  69.941088  69.961683\n",
       "AK5         48.66221     46.094910 19.284786 41.977339 ⋯  49.237825  49.251951\n",
       "ANKRD55     96.28564     93.371171 98.159223 99.999500 ⋯ 101.206922 100.698972\n",
       "B4GALT4      8.29317      8.104109  7.911215  7.429618 ⋯   7.244388   8.862911\n",
       "CHRM3-AS2   29.97409     27.707677 15.010330 28.034444 ⋯  32.050342  32.052670\n",
       "           Int.Mono   NC.Mono    mDC        pDC        Neu       LDG      \n",
       "AC009041.2 111.997585 111.997585 112.029703 111.387331 111.99758 111.32309\n",
       "ADTRP       69.874153  69.590970  69.956534  69.750583  69.96168  69.51889\n",
       "AK5         49.304921  49.297859  47.006003  49.085977  49.29786  48.98710\n",
       "ANKRD55    101.048708 101.256884 100.882167 101.331828  99.94121  97.98436\n",
       "B4GALT4      9.095406   8.882072   7.269937   7.319758  10.33325  10.06371\n",
       "CHRM3-AS2   32.041028  31.989801  32.053446  32.057327  32.04336  31.85397\n",
       "           celltype  Gene      \n",
       "AC009041.2 Naïve.CD4 AC009041.2\n",
       "ADTRP      Naïve.CD4 ADTRP     \n",
       "AK5        Naïve.CD4 AK5       \n",
       "ANKRD55    Naïve.CD4 ANKRD55   \n",
       "B4GALT4    Naïve.CD4 B4GALT4   \n",
       "CHRM3-AS2  Naïve.CD4 CHRM3-AS2 "
      ]
     },
     "metadata": {},
     "output_type": "display_data"
    }
   ],
   "source": [
    "head(immune_immunexut_expressed)"
   ]
  },
  {
   "cell_type": "code",
   "execution_count": 38,
   "metadata": {},
   "outputs": [
    {
     "data": {
      "text/html": [
       "<style>\n",
       ".list-inline {list-style: none; margin:0; padding: 0}\n",
       ".list-inline>li {display: inline-block}\n",
       ".list-inline>li:not(:last-child)::after {content: \"\\00b7\"; padding: 0 .5ex}\n",
       "</style>\n",
       "<ol class=list-inline><li>2555</li><li>27</li></ol>\n"
      ],
      "text/latex": [
       "\\begin{enumerate*}\n",
       "\\item 2555\n",
       "\\item 27\n",
       "\\end{enumerate*}\n"
      ],
      "text/markdown": [
       "1. 2555\n",
       "2. 27\n",
       "\n",
       "\n"
      ],
      "text/plain": [
       "[1] 2555   27"
      ]
     },
     "metadata": {},
     "output_type": "display_data"
    }
   ],
   "source": [
    "dim(immune_immunexut_expressed)"
   ]
  },
  {
   "cell_type": "code",
   "execution_count": 39,
   "metadata": {},
   "outputs": [
    {
     "data": {
      "text/plain": [
       "\n",
       "     CL.Mono       CM.CD8         DN.B       EM.CD8  Fr..I.nTreg Fr..II.eTreg \n",
       "         176            1           28           11           20           99 \n",
       "    Int.Mono          LDG          mDC      Naïve.B    Naïve.CD4    Naïve.CD8 \n",
       "          40          210          153          178           20           30 \n",
       "     NC.Mono          Neu           NK          pDC  Plasmablast         SM.B \n",
       "         158          242          173          532          385           13 \n",
       "   TEMRA.CD8          Tfh          Th1         Th17          Th2        USM.B \n",
       "          29            1            1           21           10           24 "
      ]
     },
     "metadata": {},
     "output_type": "display_data"
    }
   ],
   "source": [
    "table(immune_immunexut_expressed$celltype)"
   ]
  },
  {
   "cell_type": "code",
   "execution_count": 40,
   "metadata": {},
   "outputs": [],
   "source": [
    "# group some immunexut cell types together\n",
    "immune_immunexut_expressed$Cellgroup <- NA\n",
    "immune_immunexut_expressed$Cellgroup[ grepl(\"CD8\", immune_immunexut_expressed$celltype)] <- \"T_cells\"\n",
    "immune_immunexut_expressed$Cellgroup[ immune_immunexut_expressed$celltype %in% \n",
    "                              c(\"Fr..I.nTreg\", \"Fr..II.eTreg\", \"Th17\", \"Th2\",\"Th1\", \"Naïve.CD4\", \"Tfh\")] <- \"T_cells\"\n",
    "immune_immunexut_expressed$Cellgroup[ immune_immunexut_expressed$celltype %in% \n",
    "                              c(\"Naïve.B\", \"DN.B\", \"SM.B\", \"USM.B\", \"Plasmablast\")] <- \"B_cells\"\n",
    "immune_immunexut_expressed$Cellgroup[ immune_immunexut_expressed$celltype %in% \n",
    "                              c(\"CL.Mono\", \"Int.Mono\", \"NC.Mono\")] <- \"Monocytes\"\n",
    "immune_immunexut_expressed$Cellgroup[ immune_immunexut_expressed$celltype %in% \n",
    "                              c(\"LDG\",  \"Neu\")] <- \"Granulocytes\"\n",
    "immune_immunexut_expressed$Cellgroup[ immune_immunexut_expressed$celltype %in% \n",
    "                              c(\"pDC\",  \"mDC\")] <- \"DC\"\n",
    "immune_immunexut_expressed$Cellgroup[ immune_immunexut_expressed$celltype == \"NK\"] <- \"NK_cells\""
   ]
  },
  {
   "cell_type": "code",
   "execution_count": 41,
   "metadata": {},
   "outputs": [
    {
     "data": {
      "text/plain": [
       "\n",
       "     B_cells           DC Granulocytes    Monocytes     NK_cells      T_cells \n",
       "         628          685          452          374          173          243 \n",
       "        <NA> \n",
       "           0 "
      ]
     },
     "metadata": {},
     "output_type": "display_data"
    }
   ],
   "source": [
    "table(immune_immunexut_expressed$Cellgroup, useNA = \"always\")"
   ]
  },
  {
   "cell_type": "markdown",
   "metadata": {},
   "source": [
    "## 2- blood gene expression from proteinatlas"
   ]
  },
  {
   "cell_type": "code",
   "execution_count": 42,
   "metadata": {},
   "outputs": [],
   "source": [
    "proteinatlas <- read.csv(paste0(datapath, \"TME_clusters/proteinatlas_v20.1.csv\"), header = TRUE, stringsAsFactors = FALSE)"
   ]
  },
  {
   "cell_type": "code",
   "execution_count": 43,
   "metadata": {},
   "outputs": [
    {
     "data": {
      "text/html": [
       "<style>\n",
       ".list-inline {list-style: none; margin:0; padding: 0}\n",
       ".list-inline>li {display: inline-block}\n",
       ".list-inline>li:not(:last-child)::after {content: \"\\00b7\"; padding: 0 .5ex}\n",
       "</style>\n",
       "<ol class=list-inline><li>19670</li><li>292</li></ol>\n"
      ],
      "text/latex": [
       "\\begin{enumerate*}\n",
       "\\item 19670\n",
       "\\item 292\n",
       "\\end{enumerate*}\n"
      ],
      "text/markdown": [
       "1. 19670\n",
       "2. 292\n",
       "\n",
       "\n"
      ],
      "text/plain": [
       "[1] 19670   292"
      ]
     },
     "metadata": {},
     "output_type": "display_data"
    }
   ],
   "source": [
    "dim(proteinatlas)"
   ]
  },
  {
   "cell_type": "code",
   "execution_count": 44,
   "metadata": {},
   "outputs": [],
   "source": [
    "#remove irrelevant columns\n",
    "rmcols <- colnames(proteinatlas)[ grepl(\"Cell.RNA...\", colnames(proteinatlas))]\n",
    "rmcols <- c(rmcols, colnames(proteinatlas)[ grepl(\"mouse\", colnames(proteinatlas))])\n",
    "rmcols <- c(rmcols, colnames(proteinatlas)[ grepl(\"pig\", colnames(proteinatlas))])\n",
    "rmcols <- c(rmcols, colnames(proteinatlas)[ grepl(\"Pathology\", colnames(proteinatlas))])\n",
    "rmcols <- c(rmcols, colnames(proteinatlas)[ grepl(\"score\", colnames(proteinatlas))])\n",
    "rmcols <- c(rmcols, colnames(proteinatlas)[ grepl(\"distribution\", colnames(proteinatlas))])\n",
    "rmcols <- c(rmcols, colnames(proteinatlas)[ grepl(\"Blood.concentration\", colnames(proteinatlas))])\n",
    "rmcols <- c(rmcols, colnames(proteinatlas)[ grepl(\"Secretome\", colnames(proteinatlas))])\n",
    "rmcols <- c(rmcols, colnames(proteinatlas)[ grepl(\"Subcellular\", colnames(proteinatlas))])\n",
    "rmcols <- c(rmcols, colnames(proteinatlas)[ grepl(\"Brain.RNA\", colnames(proteinatlas))])"
   ]
  },
  {
   "cell_type": "code",
   "execution_count": 45,
   "metadata": {},
   "outputs": [],
   "source": [
    "proteinatlas <- proteinatlas[,! colnames(proteinatlas) %in% rmcols]"
   ]
  },
  {
   "cell_type": "code",
   "execution_count": 46,
   "metadata": {},
   "outputs": [],
   "source": [
    "gene_cells_blood <- as.data.frame(proteinatlas$Gene)\n",
    "gene_cells_blood$Celltype <- proteinatlas$RNA.blood.cell.specific.NX\n",
    "colnames(gene_cells_blood) <- c(\"Gene\", \"Celltype\")"
   ]
  },
  {
   "cell_type": "code",
   "execution_count": 47,
   "metadata": {},
   "outputs": [
    {
     "data": {
      "text/html": [
       "<style>\n",
       ".list-inline {list-style: none; margin:0; padding: 0}\n",
       ".list-inline>li {display: inline-block}\n",
       ".list-inline>li:not(:last-child)::after {content: \"\\00b7\"; padding: 0 .5ex}\n",
       "</style>\n",
       "<ol class=list-inline><li>19670</li><li>2</li></ol>\n"
      ],
      "text/latex": [
       "\\begin{enumerate*}\n",
       "\\item 19670\n",
       "\\item 2\n",
       "\\end{enumerate*}\n"
      ],
      "text/markdown": [
       "1. 19670\n",
       "2. 2\n",
       "\n",
       "\n"
      ],
      "text/plain": [
       "[1] 19670     2"
      ]
     },
     "metadata": {},
     "output_type": "display_data"
    }
   ],
   "source": [
    "dim(gene_cells_blood)"
   ]
  },
  {
   "cell_type": "code",
   "execution_count": 48,
   "metadata": {},
   "outputs": [
    {
     "data": {
      "text/html": [
       "<table class=\"dataframe\">\n",
       "<caption>A data.frame: 6 × 2</caption>\n",
       "<thead>\n",
       "\t<tr><th></th><th scope=col>Gene</th><th scope=col>Celltype</th></tr>\n",
       "\t<tr><th></th><th scope=col>&lt;chr&gt;</th><th scope=col>&lt;chr&gt;</th></tr>\n",
       "</thead>\n",
       "<tbody>\n",
       "\t<tr><th scope=row>1</th><td>TSPAN6  </td><td>naive CD4 T-cell: 6.6</td></tr>\n",
       "\t<tr><th scope=row>2</th><td>TNMD    </td><td>                     </td></tr>\n",
       "\t<tr><th scope=row>3</th><td>DPM1    </td><td>                     </td></tr>\n",
       "\t<tr><th scope=row>4</th><td>SCYL3   </td><td>                     </td></tr>\n",
       "\t<tr><th scope=row>5</th><td>C1orf112</td><td>                     </td></tr>\n",
       "\t<tr><th scope=row>6</th><td>FGR     </td><td>                     </td></tr>\n",
       "</tbody>\n",
       "</table>\n"
      ],
      "text/latex": [
       "A data.frame: 6 × 2\n",
       "\\begin{tabular}{r|ll}\n",
       "  & Gene & Celltype\\\\\n",
       "  & <chr> & <chr>\\\\\n",
       "\\hline\n",
       "\t1 & TSPAN6   & naive CD4 T-cell: 6.6\\\\\n",
       "\t2 & TNMD     &                      \\\\\n",
       "\t3 & DPM1     &                      \\\\\n",
       "\t4 & SCYL3    &                      \\\\\n",
       "\t5 & C1orf112 &                      \\\\\n",
       "\t6 & FGR      &                      \\\\\n",
       "\\end{tabular}\n"
      ],
      "text/markdown": [
       "\n",
       "A data.frame: 6 × 2\n",
       "\n",
       "| <!--/--> | Gene &lt;chr&gt; | Celltype &lt;chr&gt; |\n",
       "|---|---|---|\n",
       "| 1 | TSPAN6   | naive CD4 T-cell: 6.6 |\n",
       "| 2 | TNMD     | <!----> |\n",
       "| 3 | DPM1     | <!----> |\n",
       "| 4 | SCYL3    | <!----> |\n",
       "| 5 | C1orf112 | <!----> |\n",
       "| 6 | FGR      | <!----> |\n",
       "\n"
      ],
      "text/plain": [
       "  Gene     Celltype             \n",
       "1 TSPAN6   naive CD4 T-cell: 6.6\n",
       "2 TNMD                          \n",
       "3 DPM1                          \n",
       "4 SCYL3                         \n",
       "5 C1orf112                      \n",
       "6 FGR                           "
      ]
     },
     "metadata": {},
     "output_type": "display_data"
    }
   ],
   "source": [
    "head(gene_cells_blood)"
   ]
  },
  {
   "cell_type": "code",
   "execution_count": 49,
   "metadata": {},
   "outputs": [],
   "source": [
    "# rmeoves non specific genes\n",
    "gene_cells_blood <- gene_cells_blood[ gene_cells_blood$Celltype != \"\",]"
   ]
  },
  {
   "cell_type": "code",
   "execution_count": 50,
   "metadata": {},
   "outputs": [
    {
     "data": {
      "text/html": [
       "<style>\n",
       ".list-inline {list-style: none; margin:0; padding: 0}\n",
       ".list-inline>li {display: inline-block}\n",
       ".list-inline>li:not(:last-child)::after {content: \"\\00b7\"; padding: 0 .5ex}\n",
       "</style>\n",
       "<ol class=list-inline><li>5934</li><li>2</li></ol>\n"
      ],
      "text/latex": [
       "\\begin{enumerate*}\n",
       "\\item 5934\n",
       "\\item 2\n",
       "\\end{enumerate*}\n"
      ],
      "text/markdown": [
       "1. 5934\n",
       "2. 2\n",
       "\n",
       "\n"
      ],
      "text/plain": [
       "[1] 5934    2"
      ]
     },
     "metadata": {},
     "output_type": "display_data"
    }
   ],
   "source": [
    "dim(gene_cells_blood)"
   ]
  },
  {
   "cell_type": "code",
   "execution_count": 51,
   "metadata": {},
   "outputs": [
    {
     "data": {
      "text/html": [
       "<table class=\"dataframe\">\n",
       "<caption>A data.frame: 6 × 2</caption>\n",
       "<thead>\n",
       "\t<tr><th></th><th scope=col>Gene</th><th scope=col>Celltype</th></tr>\n",
       "\t<tr><th></th><th scope=col>&lt;chr&gt;</th><th scope=col>&lt;chr&gt;</th></tr>\n",
       "</thead>\n",
       "<tbody>\n",
       "\t<tr><th scope=row>1</th><td>TSPAN6</td><td>naive CD4 T-cell: 6.6                                      </td></tr>\n",
       "\t<tr><th scope=row>7</th><td>CFH   </td><td>MAIT T-cell: 16.5                                          </td></tr>\n",
       "\t<tr><th scope=row>9</th><td>GCLC  </td><td>NK-cell: 8.0                                               </td></tr>\n",
       "\t<tr><th scope=row>24</th><td>HS3ST1</td><td>memory B-cell: 7.3;naive B-cell: 15.8;plasmacytoid DC: 22.3</td></tr>\n",
       "\t<tr><th scope=row>25</th><td>AOC1  </td><td>eosinophil: 20.3                                           </td></tr>\n",
       "\t<tr><th scope=row>26</th><td>WNT16 </td><td>memory B-cell: 13.1;naive B-cell: 11.8                     </td></tr>\n",
       "</tbody>\n",
       "</table>\n"
      ],
      "text/latex": [
       "A data.frame: 6 × 2\n",
       "\\begin{tabular}{r|ll}\n",
       "  & Gene & Celltype\\\\\n",
       "  & <chr> & <chr>\\\\\n",
       "\\hline\n",
       "\t1 & TSPAN6 & naive CD4 T-cell: 6.6                                      \\\\\n",
       "\t7 & CFH    & MAIT T-cell: 16.5                                          \\\\\n",
       "\t9 & GCLC   & NK-cell: 8.0                                               \\\\\n",
       "\t24 & HS3ST1 & memory B-cell: 7.3;naive B-cell: 15.8;plasmacytoid DC: 22.3\\\\\n",
       "\t25 & AOC1   & eosinophil: 20.3                                           \\\\\n",
       "\t26 & WNT16  & memory B-cell: 13.1;naive B-cell: 11.8                     \\\\\n",
       "\\end{tabular}\n"
      ],
      "text/markdown": [
       "\n",
       "A data.frame: 6 × 2\n",
       "\n",
       "| <!--/--> | Gene &lt;chr&gt; | Celltype &lt;chr&gt; |\n",
       "|---|---|---|\n",
       "| 1 | TSPAN6 | naive CD4 T-cell: 6.6                                       |\n",
       "| 7 | CFH    | MAIT T-cell: 16.5                                           |\n",
       "| 9 | GCLC   | NK-cell: 8.0                                                |\n",
       "| 24 | HS3ST1 | memory B-cell: 7.3;naive B-cell: 15.8;plasmacytoid DC: 22.3 |\n",
       "| 25 | AOC1   | eosinophil: 20.3                                            |\n",
       "| 26 | WNT16  | memory B-cell: 13.1;naive B-cell: 11.8                      |\n",
       "\n"
      ],
      "text/plain": [
       "   Gene   Celltype                                                   \n",
       "1  TSPAN6 naive CD4 T-cell: 6.6                                      \n",
       "7  CFH    MAIT T-cell: 16.5                                          \n",
       "9  GCLC   NK-cell: 8.0                                               \n",
       "24 HS3ST1 memory B-cell: 7.3;naive B-cell: 15.8;plasmacytoid DC: 22.3\n",
       "25 AOC1   eosinophil: 20.3                                           \n",
       "26 WNT16  memory B-cell: 13.1;naive B-cell: 11.8                     "
      ]
     },
     "metadata": {},
     "output_type": "display_data"
    }
   ],
   "source": [
    "head(gene_cells_blood)"
   ]
  },
  {
   "cell_type": "code",
   "execution_count": 52,
   "metadata": {},
   "outputs": [],
   "source": [
    "#separate rows\n",
    "gene_cells_blood_sep <- tidyr::separate_rows(gene_cells_blood, Celltype,sep = \";\")"
   ]
  },
  {
   "cell_type": "code",
   "execution_count": 53,
   "metadata": {},
   "outputs": [],
   "source": [
    "#seprate gene expression as a new column\n",
    "\n",
    "gene_cells_blood_sep$NX <- gsub(\".*:\", \"\", gene_cells_blood_sep$Celltype)\n",
    "gene_cells_blood_sep$Celltype <- gsub(\":.*\", \"\", gene_cells_blood_sep$Celltype)\n",
    "\n",
    "gene_cells_blood_sep$NX <- as.numeric(gene_cells_blood_sep$NX)"
   ]
  },
  {
   "cell_type": "code",
   "execution_count": 54,
   "metadata": {},
   "outputs": [
    {
     "data": {
      "text/plain": [
       "\n",
       "              basophil     classical monocyte             eosinophil \n",
       "                   926                    496                    679 \n",
       "              gdT-cell  intermediate monocyte            MAIT T-cell \n",
       "                   338                    517                    358 \n",
       "         memory B-cell      memory CD4 T-cell      memory CD8 T-cell \n",
       "                   518                    246                    253 \n",
       "            myeloid DC           naive B-cell       naive CD4 T-cell \n",
       "                   527                    519                    351 \n",
       "      naive CD8 T-cell             neutrophil                NK-cell \n",
       "                   311                   1461                    472 \n",
       "non-classical monocyte        plasmacytoid DC                  T-reg \n",
       "                   498                    818                    442 "
      ]
     },
     "metadata": {},
     "output_type": "display_data"
    }
   ],
   "source": [
    "table(gene_cells_blood_sep$Celltype)"
   ]
  },
  {
   "cell_type": "code",
   "execution_count": 55,
   "metadata": {},
   "outputs": [],
   "source": [
    "# group some atlas cell types together\n",
    "gene_cells_blood_sep$Cellgroup <- NA\n",
    "\n",
    "gene_cells_blood_sep$Cellgroup[ grepl(\"CD8\", gene_cells_blood_sep$Celltype)] <- \"T_cells\"\n",
    "gene_cells_blood_sep$Cellgroup[ grepl(\"B-cell\", gene_cells_blood_sep$Celltype)] <- \"B_cells\"\n",
    "gene_cells_blood_sep$Cellgroup[ grepl(\"NK-cell\", gene_cells_blood_sep$Celltype)] <- \"NK_cells\"\n",
    "gene_cells_blood_sep$Cellgroup[ grepl(\"monocyte\", gene_cells_blood_sep$Celltype)] <- \"Monocytes\"\n",
    "gene_cells_blood_sep$Cellgroup[ grepl(\"myeloid DC\", gene_cells_blood_sep$Celltype)] <- \"DC\"\n",
    "gene_cells_blood_sep$Cellgroup[ grepl(\"plasmacytoid DC\", gene_cells_blood_sep$Celltype)] <- \"DC\"\n",
    "gene_cells_blood_sep$Cellgroup[gene_cells_blood_sep$Celltype == \"neutrophil\"] <- \"Granulocytes\"\n",
    "gene_cells_blood_sep$Cellgroup[gene_cells_blood_sep$Celltype == \"basophil\"] <- \"Granulocytes\"\n",
    "gene_cells_blood_sep$Cellgroup[gene_cells_blood_sep$Celltype == \"eosinophil\"] <- \"Granulocytes\"\n",
    "gene_cells_blood_sep$Cellgroup[ gene_cells_blood_sep$Celltype %in% c(\"memory CD4 T-cell\", \"naive CD4 T-cell\")] <- \"T_cells\"\n",
    "gene_cells_blood_sep$Cellgroup[ grepl(\"T-reg\", gene_cells_blood_sep$Celltype)] <- \"T_cells\"\n",
    "gene_cells_blood_sep$Cellgroup[ grepl(\"gdT-cell\", gene_cells_blood_sep$Celltype)] <- \"T_cells\"\n",
    "gene_cells_blood_sep$Cellgroup[ grepl(\"MAIT T-cell\", gene_cells_blood_sep$Celltype)] <- \"T_cells\""
   ]
  },
  {
   "cell_type": "code",
   "execution_count": 56,
   "metadata": {},
   "outputs": [
    {
     "data": {
      "text/html": [
       "<table class=\"dataframe\">\n",
       "<caption>A tibble: 6 × 4</caption>\n",
       "<thead>\n",
       "\t<tr><th scope=col>Gene</th><th scope=col>Celltype</th><th scope=col>NX</th><th scope=col>Cellgroup</th></tr>\n",
       "\t<tr><th scope=col>&lt;chr&gt;</th><th scope=col>&lt;chr&gt;</th><th scope=col>&lt;dbl&gt;</th><th scope=col>&lt;chr&gt;</th></tr>\n",
       "</thead>\n",
       "<tbody>\n",
       "\t<tr><td>TSPAN6</td><td>naive CD4 T-cell</td><td> 6.6</td><td>T_cells </td></tr>\n",
       "\t<tr><td>CFH   </td><td>MAIT T-cell     </td><td>16.5</td><td>T_cells </td></tr>\n",
       "\t<tr><td>GCLC  </td><td>NK-cell         </td><td> 8.0</td><td>NK_cells</td></tr>\n",
       "\t<tr><td>HS3ST1</td><td>memory B-cell   </td><td> 7.3</td><td>B_cells </td></tr>\n",
       "\t<tr><td>HS3ST1</td><td>naive B-cell    </td><td>15.8</td><td>B_cells </td></tr>\n",
       "\t<tr><td>HS3ST1</td><td>plasmacytoid DC </td><td>22.3</td><td>DC      </td></tr>\n",
       "</tbody>\n",
       "</table>\n"
      ],
      "text/latex": [
       "A tibble: 6 × 4\n",
       "\\begin{tabular}{llll}\n",
       " Gene & Celltype & NX & Cellgroup\\\\\n",
       " <chr> & <chr> & <dbl> & <chr>\\\\\n",
       "\\hline\n",
       "\t TSPAN6 & naive CD4 T-cell &  6.6 & T\\_cells \\\\\n",
       "\t CFH    & MAIT T-cell      & 16.5 & T\\_cells \\\\\n",
       "\t GCLC   & NK-cell          &  8.0 & NK\\_cells\\\\\n",
       "\t HS3ST1 & memory B-cell    &  7.3 & B\\_cells \\\\\n",
       "\t HS3ST1 & naive B-cell     & 15.8 & B\\_cells \\\\\n",
       "\t HS3ST1 & plasmacytoid DC  & 22.3 & DC      \\\\\n",
       "\\end{tabular}\n"
      ],
      "text/markdown": [
       "\n",
       "A tibble: 6 × 4\n",
       "\n",
       "| Gene &lt;chr&gt; | Celltype &lt;chr&gt; | NX &lt;dbl&gt; | Cellgroup &lt;chr&gt; |\n",
       "|---|---|---|---|\n",
       "| TSPAN6 | naive CD4 T-cell |  6.6 | T_cells  |\n",
       "| CFH    | MAIT T-cell      | 16.5 | T_cells  |\n",
       "| GCLC   | NK-cell          |  8.0 | NK_cells |\n",
       "| HS3ST1 | memory B-cell    |  7.3 | B_cells  |\n",
       "| HS3ST1 | naive B-cell     | 15.8 | B_cells  |\n",
       "| HS3ST1 | plasmacytoid DC  | 22.3 | DC       |\n",
       "\n"
      ],
      "text/plain": [
       "  Gene   Celltype         NX   Cellgroup\n",
       "1 TSPAN6 naive CD4 T-cell  6.6 T_cells  \n",
       "2 CFH    MAIT T-cell      16.5 T_cells  \n",
       "3 GCLC   NK-cell           8.0 NK_cells \n",
       "4 HS3ST1 memory B-cell     7.3 B_cells  \n",
       "5 HS3ST1 naive B-cell     15.8 B_cells  \n",
       "6 HS3ST1 plasmacytoid DC  22.3 DC       "
      ]
     },
     "metadata": {},
     "output_type": "display_data"
    }
   ],
   "source": [
    "head(gene_cells_blood_sep)"
   ]
  },
  {
   "cell_type": "code",
   "execution_count": 57,
   "metadata": {},
   "outputs": [],
   "source": [
    "#rm genes if more than one cellgroup\n",
    "gene_cells_blood_sep_specific <- gene_cells_blood_sep[0,]\n",
    "\n",
    "for(g in unique(gene_cells_blood_sep$Gene)){\n",
    "    tmp <- gene_cells_blood_sep[ gene_cells_blood_sep$Gene == g,]\n",
    "    if(nrow(tmp) == 1){ \n",
    "    gene_cells_blood_sep_specific <- rbind(gene_cells_blood_sep_specific, tmp)\n",
    "    } else{\n",
    "    if(length(unique(tmp$Cellgroup)) == 1){ \n",
    "    gene_cells_blood_sep_specific <- rbind(gene_cells_blood_sep_specific, tmp)\n",
    "    }}\n",
    "    \n",
    "}"
   ]
  },
  {
   "cell_type": "code",
   "execution_count": 58,
   "metadata": {},
   "outputs": [
    {
     "data": {
      "text/html": [
       "<style>\n",
       ".list-inline {list-style: none; margin:0; padding: 0}\n",
       ".list-inline>li {display: inline-block}\n",
       ".list-inline>li:not(:last-child)::after {content: \"\\00b7\"; padding: 0 .5ex}\n",
       "</style>\n",
       "<ol class=list-inline><li>9730</li><li>4</li></ol>\n"
      ],
      "text/latex": [
       "\\begin{enumerate*}\n",
       "\\item 9730\n",
       "\\item 4\n",
       "\\end{enumerate*}\n"
      ],
      "text/markdown": [
       "1. 9730\n",
       "2. 4\n",
       "\n",
       "\n"
      ],
      "text/plain": [
       "[1] 9730    4"
      ]
     },
     "metadata": {},
     "output_type": "display_data"
    }
   ],
   "source": [
    "dim(gene_cells_blood_sep)"
   ]
  },
  {
   "cell_type": "code",
   "execution_count": 59,
   "metadata": {},
   "outputs": [
    {
     "data": {
      "text/html": [
       "<style>\n",
       ".list-inline {list-style: none; margin:0; padding: 0}\n",
       ".list-inline>li {display: inline-block}\n",
       ".list-inline>li:not(:last-child)::after {content: \"\\00b7\"; padding: 0 .5ex}\n",
       "</style>\n",
       "<ol class=list-inline><li>5955</li><li>4</li></ol>\n"
      ],
      "text/latex": [
       "\\begin{enumerate*}\n",
       "\\item 5955\n",
       "\\item 4\n",
       "\\end{enumerate*}\n"
      ],
      "text/markdown": [
       "1. 5955\n",
       "2. 4\n",
       "\n",
       "\n"
      ],
      "text/plain": [
       "[1] 5955    4"
      ]
     },
     "metadata": {},
     "output_type": "display_data"
    }
   ],
   "source": [
    "dim(gene_cells_blood_sep_specific)"
   ]
  },
  {
   "cell_type": "code",
   "execution_count": 60,
   "metadata": {},
   "outputs": [
    {
     "data": {
      "text/plain": [
       "\n",
       "              basophil     classical monocyte             eosinophil \n",
       "                   752                    119                    477 \n",
       "              gdT-cell  intermediate monocyte            MAIT T-cell \n",
       "                   196                    195                    227 \n",
       "         memory B-cell      memory CD4 T-cell      memory CD8 T-cell \n",
       "                   311                    134                    136 \n",
       "            myeloid DC           naive B-cell       naive CD4 T-cell \n",
       "                   166                    315                    235 \n",
       "      naive CD8 T-cell             neutrophil                NK-cell \n",
       "                   184                   1185                    245 \n",
       "non-classical monocyte        plasmacytoid DC                  T-reg \n",
       "                   236                    539                    303 "
      ]
     },
     "metadata": {},
     "output_type": "display_data"
    }
   ],
   "source": [
    "table(gene_cells_blood_sep_specific$Celltype)"
   ]
  },
  {
   "cell_type": "markdown",
   "metadata": {},
   "source": [
    "## 3- MCPcounter"
   ]
  },
  {
   "cell_type": "code",
   "execution_count": 61,
   "metadata": {},
   "outputs": [],
   "source": [
    "mcp_sig <- read.csv(file = paste0(datapath, \"TME_clusters/MCPCounter_genesig.csv\"), \n",
    "                       header = T, stringsAsFactors = F, check.names = T, skip =  1)"
   ]
  },
  {
   "cell_type": "code",
   "execution_count": 62,
   "metadata": {},
   "outputs": [],
   "source": [
    "mcp_sig <- mcp_sig[,1:3]"
   ]
  },
  {
   "cell_type": "code",
   "execution_count": 63,
   "metadata": {},
   "outputs": [],
   "source": [
    "# some probes map to the same gene\n",
    "mcp_sig <- mcp_sig[!duplicated(mcp_sig$Symbol),]\n",
    "# remove those probesets that map to two genes\n",
    "mcp_sig <- mcp_sig[!grepl(\"///\", mcp_sig$Symbol),]"
   ]
  },
  {
   "cell_type": "code",
   "execution_count": 64,
   "metadata": {},
   "outputs": [
    {
     "data": {
      "text/html": [
       "<table class=\"dataframe\">\n",
       "<caption>A data.frame: 6 × 3</caption>\n",
       "<thead>\n",
       "\t<tr><th></th><th scope=col>Probeset</th><th scope=col>Symbol</th><th scope=col>Population</th></tr>\n",
       "\t<tr><th></th><th scope=col>&lt;chr&gt;</th><th scope=col>&lt;chr&gt;</th><th scope=col>&lt;chr&gt;</th></tr>\n",
       "</thead>\n",
       "<tbody>\n",
       "\t<tr><th scope=row>1</th><td>1557733_a_at</td><td>CHRM3-AS2</td><td>T cells</td></tr>\n",
       "\t<tr><th scope=row>2</th><td>1558971_at  </td><td>THEMIS   </td><td>T cells</td></tr>\n",
       "\t<tr><th scope=row>4</th><td>1566448_at  </td><td>CD6      </td><td>T cells</td></tr>\n",
       "\t<tr><th scope=row>5</th><td>204777_s_at </td><td>MAL      </td><td>T cells</td></tr>\n",
       "\t<tr><th scope=row>6</th><td>206485_at   </td><td>CD5      </td><td>T cells</td></tr>\n",
       "\t<tr><th scope=row>7</th><td>206545_at   </td><td>CD28     </td><td>T cells</td></tr>\n",
       "</tbody>\n",
       "</table>\n"
      ],
      "text/latex": [
       "A data.frame: 6 × 3\n",
       "\\begin{tabular}{r|lll}\n",
       "  & Probeset & Symbol & Population\\\\\n",
       "  & <chr> & <chr> & <chr>\\\\\n",
       "\\hline\n",
       "\t1 & 1557733\\_a\\_at & CHRM3-AS2 & T cells\\\\\n",
       "\t2 & 1558971\\_at   & THEMIS    & T cells\\\\\n",
       "\t4 & 1566448\\_at   & CD6       & T cells\\\\\n",
       "\t5 & 204777\\_s\\_at  & MAL       & T cells\\\\\n",
       "\t6 & 206485\\_at    & CD5       & T cells\\\\\n",
       "\t7 & 206545\\_at    & CD28      & T cells\\\\\n",
       "\\end{tabular}\n"
      ],
      "text/markdown": [
       "\n",
       "A data.frame: 6 × 3\n",
       "\n",
       "| <!--/--> | Probeset &lt;chr&gt; | Symbol &lt;chr&gt; | Population &lt;chr&gt; |\n",
       "|---|---|---|---|\n",
       "| 1 | 1557733_a_at | CHRM3-AS2 | T cells |\n",
       "| 2 | 1558971_at   | THEMIS    | T cells |\n",
       "| 4 | 1566448_at   | CD6       | T cells |\n",
       "| 5 | 204777_s_at  | MAL       | T cells |\n",
       "| 6 | 206485_at    | CD5       | T cells |\n",
       "| 7 | 206545_at    | CD28      | T cells |\n",
       "\n"
      ],
      "text/plain": [
       "  Probeset     Symbol    Population\n",
       "1 1557733_a_at CHRM3-AS2 T cells   \n",
       "2 1558971_at   THEMIS    T cells   \n",
       "4 1566448_at   CD6       T cells   \n",
       "5 204777_s_at  MAL       T cells   \n",
       "6 206485_at    CD5       T cells   \n",
       "7 206545_at    CD28      T cells   "
      ]
     },
     "metadata": {},
     "output_type": "display_data"
    }
   ],
   "source": [
    "head(mcp_sig)"
   ]
  },
  {
   "cell_type": "code",
   "execution_count": 65,
   "metadata": {},
   "outputs": [
    {
     "data": {
      "text/plain": [
       "\n",
       "              B lineage   Cytotoxic lymphocytes       Endothelial cells \n",
       "                     42                       7                      86 \n",
       "            Fibroblasts       Monocytic lineage Myeloid dendritic cells \n",
       "                     63                       7                       6 \n",
       "            Neutrophils                NK cells                 T cells \n",
       "                     53                       9                      16 "
      ]
     },
     "metadata": {},
     "output_type": "display_data"
    }
   ],
   "source": [
    "table(mcp_sig$Population)"
   ]
  },
  {
   "cell_type": "code",
   "execution_count": 66,
   "metadata": {},
   "outputs": [],
   "source": [
    "#Some recoding and cleanup\n",
    "\n",
    "mcp_sig$Cellgroup <- NA\n",
    "\n",
    "mcp_sig$Cellgroup[ mcp_sig$Population == \"B lineage\"] <- \"B_cells\"\n",
    "mcp_sig$Cellgroup[ mcp_sig$Population == \"Cytotoxic lymphocytes\"] <- \"T_cells\"\n",
    "mcp_sig$Cellgroup[ mcp_sig$Population == \"Monocytic lineage\"] <- \"Monocytes\"\n",
    "mcp_sig$Cellgroup[ mcp_sig$Population == \"Neutrophils\"] <- \"Granulocytes\"\n",
    "mcp_sig$Cellgroup[ mcp_sig$Population == \"NK cells\"] <- \"NK_cells\"\n",
    "mcp_sig$Cellgroup[ mcp_sig$Population == \"T cells\"] <- \"T_cells\"\n",
    "mcp_sig$Cellgroup[ mcp_sig$Population == \"Myeloid dendritic cells\"] <- \"DC\"\n",
    "\n",
    "mcp_sig <- mcp_sig[!is.na(mcp_sig$Cellgroup),] #removes endothe and fibroblasts"
   ]
  },
  {
   "cell_type": "code",
   "execution_count": 67,
   "metadata": {},
   "outputs": [],
   "source": [
    "colnames(mcp_sig)[ colnames(mcp_sig) == \"Symbol\"] <- \"Gene\""
   ]
  },
  {
   "cell_type": "code",
   "execution_count": 68,
   "metadata": {},
   "outputs": [],
   "source": [
    "mcp_sig <- mcp_sig[!is.na(mcp_sig$Gene),]"
   ]
  },
  {
   "cell_type": "markdown",
   "metadata": {},
   "source": [
    "## 4- CIBERSORT"
   ]
  },
  {
   "cell_type": "code",
   "execution_count": 69,
   "metadata": {},
   "outputs": [],
   "source": [
    "lm22 <- read.table(file = paste0(datapath, \"TME_clusters/LM22.txt\"), sep = \"\\t\", row.names = 1,\n",
    "                   header = T, stringsAsFactors = F)"
   ]
  },
  {
   "cell_type": "code",
   "execution_count": 70,
   "metadata": {},
   "outputs": [],
   "source": [
    "ciber_celltypes <- colnames(lm22)[apply(lm22,1,which.max)]\n",
    "names(ciber_celltypes) <- rownames(lm22)"
   ]
  },
  {
   "cell_type": "code",
   "execution_count": 71,
   "metadata": {},
   "outputs": [
    {
     "data": {
      "text/html": [
       "<style>\n",
       ".dl-inline {width: auto; margin:0; padding: 0}\n",
       ".dl-inline>dt, .dl-inline>dd {float: none; width: auto; display: inline-block}\n",
       ".dl-inline>dt::after {content: \":\\0020\"; padding-right: .5ex}\n",
       ".dl-inline>dt:not(:first-of-type) {padding-left: .5ex}\n",
       "</style><dl class=dl-inline><dt>ABCB4</dt><dd>'B.cells.naive'</dd><dt>ABCB9</dt><dd>'Plasma.cells'</dd><dt>ACAP1</dt><dd>'T.cells.regulatory..Tregs.'</dd><dt>ACHE</dt><dd>'Macrophages.M1'</dd><dt>ACP5</dt><dd>'Dendritic.cells.resting'</dd><dt>ADAM28</dt><dd>'B.cells.naive'</dd></dl>\n"
      ],
      "text/latex": [
       "\\begin{description*}\n",
       "\\item[ABCB4] 'B.cells.naive'\n",
       "\\item[ABCB9] 'Plasma.cells'\n",
       "\\item[ACAP1] 'T.cells.regulatory..Tregs.'\n",
       "\\item[ACHE] 'Macrophages.M1'\n",
       "\\item[ACP5] 'Dendritic.cells.resting'\n",
       "\\item[ADAM28] 'B.cells.naive'\n",
       "\\end{description*}\n"
      ],
      "text/markdown": [
       "ABCB4\n",
       ":   'B.cells.naive'ABCB9\n",
       ":   'Plasma.cells'ACAP1\n",
       ":   'T.cells.regulatory..Tregs.'ACHE\n",
       ":   'Macrophages.M1'ACP5\n",
       ":   'Dendritic.cells.resting'ADAM28\n",
       ":   'B.cells.naive'\n",
       "\n"
      ],
      "text/plain": [
       "                       ABCB4                        ABCB9 \n",
       "             \"B.cells.naive\"               \"Plasma.cells\" \n",
       "                       ACAP1                         ACHE \n",
       "\"T.cells.regulatory..Tregs.\"             \"Macrophages.M1\" \n",
       "                        ACP5                       ADAM28 \n",
       "   \"Dendritic.cells.resting\"              \"B.cells.naive\" "
      ]
     },
     "metadata": {},
     "output_type": "display_data"
    }
   ],
   "source": [
    "head(ciber_celltypes)"
   ]
  },
  {
   "cell_type": "code",
   "execution_count": 72,
   "metadata": {},
   "outputs": [],
   "source": [
    "lm22_celltypes <- as.data.frame(ciber_celltypes)\n",
    "lm22_celltypes$Gene <- rownames(lm22_celltypes)"
   ]
  },
  {
   "cell_type": "code",
   "execution_count": 73,
   "metadata": {},
   "outputs": [
    {
     "data": {
      "text/plain": [
       "\n",
       "              B.cells.memory                B.cells.naive \n",
       "                          15                           37 \n",
       "   Dendritic.cells.activated      Dendritic.cells.resting \n",
       "                          20                           22 \n",
       "                 Eosinophils               Macrophages.M0 \n",
       "                          37                           15 \n",
       "              Macrophages.M1               Macrophages.M2 \n",
       "                          38                           23 \n",
       "        Mast.cells.activated           Mast.cells.resting \n",
       "                          24                           22 \n",
       "                   Monocytes                  Neutrophils \n",
       "                          13                           47 \n",
       "          NK.cells.activated             NK.cells.resting \n",
       "                          24                           22 \n",
       "                Plasma.cells T.cells.CD4.memory.activated \n",
       "                          39                           13 \n",
       "  T.cells.CD4.memory.resting            T.cells.CD4.naive \n",
       "                          16                           25 \n",
       "                 T.cells.CD8    T.cells.follicular.helper \n",
       "                           8                           26 \n",
       "         T.cells.gamma.delta   T.cells.regulatory..Tregs. \n",
       "                          17                           44 "
      ]
     },
     "metadata": {},
     "output_type": "display_data"
    }
   ],
   "source": [
    "table(lm22_celltypes$ciber_celltypes)"
   ]
  },
  {
   "cell_type": "code",
   "execution_count": 74,
   "metadata": {},
   "outputs": [],
   "source": [
    "#some recoding\n",
    "lm22_celltypes$Cellgroup <- NA\n",
    "\n",
    "lm22_celltypes$Cellgroup[ grepl(\"B.cells\",lm22_celltypes$ciber_celltypes)] <- \"B_cells\"\n",
    "lm22_celltypes$Cellgroup[lm22_celltypes$ciber_celltypes == \"Plasma.cells\"] <- \"B_cells\"\n",
    "\n",
    "lm22_celltypes$Cellgroup[ grepl(\"Macrophages\",lm22_celltypes$ciber_celltypes)] <- \"Macrophages\"\n",
    "\n",
    "lm22_celltypes$Cellgroup[ grepl(\"NK.cells\",lm22_celltypes$ciber_celltypes)] <- \"NK_cells\"\n",
    "\n",
    "lm22_celltypes$Cellgroup[ grepl(\"Dendritic.cells\",lm22_celltypes$ciber_celltypes)] <- \"DC\"\n",
    "\n",
    "lm22_celltypes$Cellgroup[lm22_celltypes$ciber_celltypes == \"Neutrophils\"] <- \"Granulocytes\"\n",
    "lm22_celltypes$Cellgroup[lm22_celltypes$ciber_celltypes == \"Eosinophils\"] <- \"Granulocytes\"\n",
    "\n",
    "lm22_celltypes$Cellgroup[lm22_celltypes$ciber_celltypes == \"T.cells.CD8\"] <- \"T_cells\"\n",
    "\n",
    "lm22_celltypes$Cellgroup[lm22_celltypes$ciber_celltypes == \"Monocytes\"] <- \"Monocytes\"\n",
    "\n",
    "lm22_celltypes$Cellgroup[ lm22_celltypes$ciber_celltypes %in% c(\"T.cells.CD4.memory.resting\",\"T.cells.CD4.memory.activated\", \n",
    "                                                                \"T.cells.CD4.naive\")] <- \"T_cells\"\n",
    "\n",
    "lm22_celltypes$Cellgroup[lm22_celltypes$ciber_celltypes == \"T.cells.regulatory..Tregs.\"] <- \"T_cells\"\n",
    "lm22_celltypes$Cellgroup[lm22_celltypes$ciber_celltypes == \"T.cells.follicular.helper\"] <- \"T_cells\"\n",
    "\n",
    "lm22_celltypes$Cellgroup[lm22_celltypes$ciber_celltypes == \"T.cells.gamma.delta\"] <- \"T_cells\"\n",
    "\n",
    "\n",
    "lm22_celltypes$Cellgroup[ lm22_celltypes$ciber_celltypes %in% c(\"Mast.cells.activated\", \"Mast.cells.resting\")] <- \"Myeloid_cells\"\n"
   ]
  },
  {
   "cell_type": "code",
   "execution_count": 75,
   "metadata": {},
   "outputs": [
    {
     "data": {
      "text/html": [
       "<table class=\"dataframe\">\n",
       "<caption>A data.frame: 6 × 3</caption>\n",
       "<thead>\n",
       "\t<tr><th></th><th scope=col>ciber_celltypes</th><th scope=col>Gene</th><th scope=col>Cellgroup</th></tr>\n",
       "\t<tr><th></th><th scope=col>&lt;chr&gt;</th><th scope=col>&lt;chr&gt;</th><th scope=col>&lt;chr&gt;</th></tr>\n",
       "</thead>\n",
       "<tbody>\n",
       "\t<tr><th scope=row>ABCB4</th><td>B.cells.naive             </td><td>ABCB4 </td><td>B_cells    </td></tr>\n",
       "\t<tr><th scope=row>ABCB9</th><td>Plasma.cells              </td><td>ABCB9 </td><td>B_cells    </td></tr>\n",
       "\t<tr><th scope=row>ACAP1</th><td>T.cells.regulatory..Tregs.</td><td>ACAP1 </td><td>T_cells    </td></tr>\n",
       "\t<tr><th scope=row>ACHE</th><td>Macrophages.M1            </td><td>ACHE  </td><td>Macrophages</td></tr>\n",
       "\t<tr><th scope=row>ACP5</th><td>Dendritic.cells.resting   </td><td>ACP5  </td><td>DC         </td></tr>\n",
       "\t<tr><th scope=row>ADAM28</th><td>B.cells.naive             </td><td>ADAM28</td><td>B_cells    </td></tr>\n",
       "</tbody>\n",
       "</table>\n"
      ],
      "text/latex": [
       "A data.frame: 6 × 3\n",
       "\\begin{tabular}{r|lll}\n",
       "  & ciber\\_celltypes & Gene & Cellgroup\\\\\n",
       "  & <chr> & <chr> & <chr>\\\\\n",
       "\\hline\n",
       "\tABCB4 & B.cells.naive              & ABCB4  & B\\_cells    \\\\\n",
       "\tABCB9 & Plasma.cells               & ABCB9  & B\\_cells    \\\\\n",
       "\tACAP1 & T.cells.regulatory..Tregs. & ACAP1  & T\\_cells    \\\\\n",
       "\tACHE & Macrophages.M1             & ACHE   & Macrophages\\\\\n",
       "\tACP5 & Dendritic.cells.resting    & ACP5   & DC         \\\\\n",
       "\tADAM28 & B.cells.naive              & ADAM28 & B\\_cells    \\\\\n",
       "\\end{tabular}\n"
      ],
      "text/markdown": [
       "\n",
       "A data.frame: 6 × 3\n",
       "\n",
       "| <!--/--> | ciber_celltypes &lt;chr&gt; | Gene &lt;chr&gt; | Cellgroup &lt;chr&gt; |\n",
       "|---|---|---|---|\n",
       "| ABCB4 | B.cells.naive              | ABCB4  | B_cells     |\n",
       "| ABCB9 | Plasma.cells               | ABCB9  | B_cells     |\n",
       "| ACAP1 | T.cells.regulatory..Tregs. | ACAP1  | T_cells     |\n",
       "| ACHE | Macrophages.M1             | ACHE   | Macrophages |\n",
       "| ACP5 | Dendritic.cells.resting    | ACP5   | DC          |\n",
       "| ADAM28 | B.cells.naive              | ADAM28 | B_cells     |\n",
       "\n"
      ],
      "text/plain": [
       "       ciber_celltypes            Gene   Cellgroup  \n",
       "ABCB4  B.cells.naive              ABCB4  B_cells    \n",
       "ABCB9  Plasma.cells               ABCB9  B_cells    \n",
       "ACAP1  T.cells.regulatory..Tregs. ACAP1  T_cells    \n",
       "ACHE   Macrophages.M1             ACHE   Macrophages\n",
       "ACP5   Dendritic.cells.resting    ACP5   DC         \n",
       "ADAM28 B.cells.naive              ADAM28 B_cells    "
      ]
     },
     "metadata": {},
     "output_type": "display_data"
    }
   ],
   "source": [
    "head(lm22_celltypes)"
   ]
  },
  {
   "cell_type": "code",
   "execution_count": 76,
   "metadata": {},
   "outputs": [
    {
     "data": {
      "text/plain": [
       "\n",
       "      B_cells            DC  Granulocytes   Macrophages     Monocytes \n",
       "           91            42            84            76            13 \n",
       "Myeloid_cells      NK_cells       T_cells          <NA> \n",
       "           46            46           149             0 "
      ]
     },
     "metadata": {},
     "output_type": "display_data"
    }
   ],
   "source": [
    "table(lm22_celltypes$Cellgroup, useNA = \"always\")"
   ]
  },
  {
   "cell_type": "markdown",
   "metadata": {},
   "source": [
    "## 5- Quantiseq"
   ]
  },
  {
   "cell_type": "code",
   "execution_count": 77,
   "metadata": {},
   "outputs": [],
   "source": [
    "quanti_sig <- read.csv(file = paste0(datapath, \"TME_clusters/quantiseq_genesig.csv\"), row.names = 1,\n",
    "                       header = T, stringsAsFactors = F, check.names = F)"
   ]
  },
  {
   "cell_type": "code",
   "execution_count": 78,
   "metadata": {},
   "outputs": [],
   "source": [
    "quantiseq_celltypes <- colnames(quanti_sig)[apply(quanti_sig,1,which.max)]\n",
    "names(quantiseq_celltypes) <- rownames(quanti_sig)"
   ]
  },
  {
   "cell_type": "code",
   "execution_count": 79,
   "metadata": {},
   "outputs": [
    {
     "data": {
      "text/html": [
       "<style>\n",
       ".dl-inline {width: auto; margin:0; padding: 0}\n",
       ".dl-inline>dt, .dl-inline>dd {float: none; width: auto; display: inline-block}\n",
       ".dl-inline>dt::after {content: \":\\0020\"; padding-right: .5ex}\n",
       ".dl-inline>dt:not(:first-of-type) {padding-left: .5ex}\n",
       "</style><dl class=dl-inline><dt>ABCB4</dt><dd>'B.cells'</dd><dt>ADAM28</dt><dd>'B.cells'</dd><dt>ADAM6</dt><dd>'B.cells'</dd><dt>AFF3</dt><dd>'B.cells'</dd><dt>AKAP2</dt><dd>'B.cells'</dd><dt>ARHGAP24</dt><dd>'B.cells'</dd></dl>\n"
      ],
      "text/latex": [
       "\\begin{description*}\n",
       "\\item[ABCB4] 'B.cells'\n",
       "\\item[ADAM28] 'B.cells'\n",
       "\\item[ADAM6] 'B.cells'\n",
       "\\item[AFF3] 'B.cells'\n",
       "\\item[AKAP2] 'B.cells'\n",
       "\\item[ARHGAP24] 'B.cells'\n",
       "\\end{description*}\n"
      ],
      "text/markdown": [
       "ABCB4\n",
       ":   'B.cells'ADAM28\n",
       ":   'B.cells'ADAM6\n",
       ":   'B.cells'AFF3\n",
       ":   'B.cells'AKAP2\n",
       ":   'B.cells'ARHGAP24\n",
       ":   'B.cells'\n",
       "\n"
      ],
      "text/plain": [
       "    ABCB4    ADAM28     ADAM6      AFF3     AKAP2  ARHGAP24 \n",
       "\"B.cells\" \"B.cells\" \"B.cells\" \"B.cells\" \"B.cells\" \"B.cells\" "
      ]
     },
     "metadata": {},
     "output_type": "display_data"
    }
   ],
   "source": [
    "head(quantiseq_celltypes)"
   ]
  },
  {
   "cell_type": "code",
   "execution_count": 80,
   "metadata": {},
   "outputs": [],
   "source": [
    "quantiseq_celltypes <- as.data.frame(quantiseq_celltypes)\n",
    "quantiseq_celltypes$Gene <- rownames(quantiseq_celltypes)"
   ]
  },
  {
   "cell_type": "code",
   "execution_count": 81,
   "metadata": {},
   "outputs": [
    {
     "data": {
      "text/html": [
       "<table class=\"dataframe\">\n",
       "<caption>A data.frame: 6 × 2</caption>\n",
       "<thead>\n",
       "\t<tr><th></th><th scope=col>quantiseq_celltypes</th><th scope=col>Gene</th></tr>\n",
       "\t<tr><th></th><th scope=col>&lt;chr&gt;</th><th scope=col>&lt;chr&gt;</th></tr>\n",
       "</thead>\n",
       "<tbody>\n",
       "\t<tr><th scope=row>ABCB4</th><td>B.cells</td><td>ABCB4   </td></tr>\n",
       "\t<tr><th scope=row>ADAM28</th><td>B.cells</td><td>ADAM28  </td></tr>\n",
       "\t<tr><th scope=row>ADAM6</th><td>B.cells</td><td>ADAM6   </td></tr>\n",
       "\t<tr><th scope=row>AFF3</th><td>B.cells</td><td>AFF3    </td></tr>\n",
       "\t<tr><th scope=row>AKAP2</th><td>B.cells</td><td>AKAP2   </td></tr>\n",
       "\t<tr><th scope=row>ARHGAP24</th><td>B.cells</td><td>ARHGAP24</td></tr>\n",
       "</tbody>\n",
       "</table>\n"
      ],
      "text/latex": [
       "A data.frame: 6 × 2\n",
       "\\begin{tabular}{r|ll}\n",
       "  & quantiseq\\_celltypes & Gene\\\\\n",
       "  & <chr> & <chr>\\\\\n",
       "\\hline\n",
       "\tABCB4 & B.cells & ABCB4   \\\\\n",
       "\tADAM28 & B.cells & ADAM28  \\\\\n",
       "\tADAM6 & B.cells & ADAM6   \\\\\n",
       "\tAFF3 & B.cells & AFF3    \\\\\n",
       "\tAKAP2 & B.cells & AKAP2   \\\\\n",
       "\tARHGAP24 & B.cells & ARHGAP24\\\\\n",
       "\\end{tabular}\n"
      ],
      "text/markdown": [
       "\n",
       "A data.frame: 6 × 2\n",
       "\n",
       "| <!--/--> | quantiseq_celltypes &lt;chr&gt; | Gene &lt;chr&gt; |\n",
       "|---|---|---|\n",
       "| ABCB4 | B.cells | ABCB4    |\n",
       "| ADAM28 | B.cells | ADAM28   |\n",
       "| ADAM6 | B.cells | ADAM6    |\n",
       "| AFF3 | B.cells | AFF3     |\n",
       "| AKAP2 | B.cells | AKAP2    |\n",
       "| ARHGAP24 | B.cells | ARHGAP24 |\n",
       "\n"
      ],
      "text/plain": [
       "         quantiseq_celltypes Gene    \n",
       "ABCB4    B.cells             ABCB4   \n",
       "ADAM28   B.cells             ADAM28  \n",
       "ADAM6    B.cells             ADAM6   \n",
       "AFF3     B.cells             AFF3    \n",
       "AKAP2    B.cells             AKAP2   \n",
       "ARHGAP24 B.cells             ARHGAP24"
      ]
     },
     "metadata": {},
     "output_type": "display_data"
    }
   ],
   "source": [
    "head(quantiseq_celltypes)"
   ]
  },
  {
   "cell_type": "code",
   "execution_count": 82,
   "metadata": {},
   "outputs": [
    {
     "data": {
      "text/plain": [
       "\n",
       "        B.cells Dendritic.cells  Macrophages.M1  Macrophages.M2       Monocytes \n",
       "             30               9              19              18              11 \n",
       "    Neutrophils        NK.cells     T.cells.CD4     T.cells.CD8           Tregs \n",
       "             30              30               5               4              14 "
      ]
     },
     "metadata": {},
     "output_type": "display_data"
    }
   ],
   "source": [
    "table(quantiseq_celltypes$quantiseq_celltypes)"
   ]
  },
  {
   "cell_type": "code",
   "execution_count": 83,
   "metadata": {},
   "outputs": [],
   "source": [
    "#some recoding\n",
    "quantiseq_celltypes$Cellgroup <- NA\n",
    "\n",
    "quantiseq_celltypes$Cellgroup[ grepl(\"B.cells\",quantiseq_celltypes$quantiseq_celltypes)] <- \"B_cells\"\n",
    "\n",
    "quantiseq_celltypes$Cellgroup[ grepl(\"Dendritic\",quantiseq_celltypes$quantiseq_celltypes)] <- \"DC\"\n",
    "\n",
    "quantiseq_celltypes$Cellgroup[ grepl(\"Macrophages\",quantiseq_celltypes$quantiseq_celltypes)] <- \"Macrophages\"\n",
    "\n",
    "quantiseq_celltypes$Cellgroup[ grepl(\"Monocytes\",quantiseq_celltypes$quantiseq_celltypes)] <- \"Monocytes\"\n",
    "\n",
    "quantiseq_celltypes$Cellgroup[ grepl(\"Neutrophils\",quantiseq_celltypes$quantiseq_celltypes)] <- \"Granulocytes\"\n",
    "\n",
    "quantiseq_celltypes$Cellgroup[ grepl(\"NK\",quantiseq_celltypes$quantiseq_celltypes)] <- \"NK_cells\"\n",
    "\n",
    "quantiseq_celltypes$Cellgroup[ grepl(\"CD4\",quantiseq_celltypes$quantiseq_celltypes)] <- \"T_cells\"\n",
    "quantiseq_celltypes$Cellgroup[ grepl(\"Tregs\",quantiseq_celltypes$quantiseq_celltypes)] <- \"T_cells\"\n",
    "\n",
    "quantiseq_celltypes$Cellgroup[ grepl(\"CD8\",quantiseq_celltypes$quantiseq_celltypes)] <- \"T_cells\"\n"
   ]
  },
  {
   "cell_type": "code",
   "execution_count": 84,
   "metadata": {},
   "outputs": [
    {
     "data": {
      "text/plain": [
       "\n",
       "     B_cells           DC Granulocytes  Macrophages    Monocytes     NK_cells \n",
       "          30            9           30           37           11           30 \n",
       "     T_cells         <NA> \n",
       "          23            0 "
      ]
     },
     "metadata": {},
     "output_type": "display_data"
    }
   ],
   "source": [
    "table(quantiseq_celltypes$Cellgroup, useNA = \"always\")"
   ]
  },
  {
   "cell_type": "code",
   "execution_count": 85,
   "metadata": {},
   "outputs": [
    {
     "data": {
      "text/html": [
       "<table class=\"dataframe\">\n",
       "<caption>A data.frame: 6 × 3</caption>\n",
       "<thead>\n",
       "\t<tr><th></th><th scope=col>quantiseq_celltypes</th><th scope=col>Gene</th><th scope=col>Cellgroup</th></tr>\n",
       "\t<tr><th></th><th scope=col>&lt;chr&gt;</th><th scope=col>&lt;chr&gt;</th><th scope=col>&lt;chr&gt;</th></tr>\n",
       "</thead>\n",
       "<tbody>\n",
       "\t<tr><th scope=row>ABCB4</th><td>B.cells</td><td>ABCB4   </td><td>B_cells</td></tr>\n",
       "\t<tr><th scope=row>ADAM28</th><td>B.cells</td><td>ADAM28  </td><td>B_cells</td></tr>\n",
       "\t<tr><th scope=row>ADAM6</th><td>B.cells</td><td>ADAM6   </td><td>B_cells</td></tr>\n",
       "\t<tr><th scope=row>AFF3</th><td>B.cells</td><td>AFF3    </td><td>B_cells</td></tr>\n",
       "\t<tr><th scope=row>AKAP2</th><td>B.cells</td><td>AKAP2   </td><td>B_cells</td></tr>\n",
       "\t<tr><th scope=row>ARHGAP24</th><td>B.cells</td><td>ARHGAP24</td><td>B_cells</td></tr>\n",
       "</tbody>\n",
       "</table>\n"
      ],
      "text/latex": [
       "A data.frame: 6 × 3\n",
       "\\begin{tabular}{r|lll}\n",
       "  & quantiseq\\_celltypes & Gene & Cellgroup\\\\\n",
       "  & <chr> & <chr> & <chr>\\\\\n",
       "\\hline\n",
       "\tABCB4 & B.cells & ABCB4    & B\\_cells\\\\\n",
       "\tADAM28 & B.cells & ADAM28   & B\\_cells\\\\\n",
       "\tADAM6 & B.cells & ADAM6    & B\\_cells\\\\\n",
       "\tAFF3 & B.cells & AFF3     & B\\_cells\\\\\n",
       "\tAKAP2 & B.cells & AKAP2    & B\\_cells\\\\\n",
       "\tARHGAP24 & B.cells & ARHGAP24 & B\\_cells\\\\\n",
       "\\end{tabular}\n"
      ],
      "text/markdown": [
       "\n",
       "A data.frame: 6 × 3\n",
       "\n",
       "| <!--/--> | quantiseq_celltypes &lt;chr&gt; | Gene &lt;chr&gt; | Cellgroup &lt;chr&gt; |\n",
       "|---|---|---|---|\n",
       "| ABCB4 | B.cells | ABCB4    | B_cells |\n",
       "| ADAM28 | B.cells | ADAM28   | B_cells |\n",
       "| ADAM6 | B.cells | ADAM6    | B_cells |\n",
       "| AFF3 | B.cells | AFF3     | B_cells |\n",
       "| AKAP2 | B.cells | AKAP2    | B_cells |\n",
       "| ARHGAP24 | B.cells | ARHGAP24 | B_cells |\n",
       "\n"
      ],
      "text/plain": [
       "         quantiseq_celltypes Gene     Cellgroup\n",
       "ABCB4    B.cells             ABCB4    B_cells  \n",
       "ADAM28   B.cells             ADAM28   B_cells  \n",
       "ADAM6    B.cells             ADAM6    B_cells  \n",
       "AFF3     B.cells             AFF3     B_cells  \n",
       "AKAP2    B.cells             AKAP2    B_cells  \n",
       "ARHGAP24 B.cells             ARHGAP24 B_cells  "
      ]
     },
     "metadata": {},
     "output_type": "display_data"
    }
   ],
   "source": [
    "head(quantiseq_celltypes)"
   ]
  },
  {
   "cell_type": "markdown",
   "metadata": {},
   "source": [
    "## 6- EPIC"
   ]
  },
  {
   "cell_type": "code",
   "execution_count": 86,
   "metadata": {},
   "outputs": [],
   "source": [
    "epic_sig <- read.csv(file = paste0(datapath, \"TME_clusters/EPIC_genesig.csv\"), row.names = 1,\n",
    "                       header = T, stringsAsFactors = F, check.names = T)"
   ]
  },
  {
   "cell_type": "code",
   "execution_count": 87,
   "metadata": {},
   "outputs": [
    {
     "data": {
      "text/html": [
       "<table class=\"dataframe\">\n",
       "<caption>A data.frame: 10 × 1</caption>\n",
       "<thead>\n",
       "\t<tr><th></th><th scope=col>Genes.markers</th></tr>\n",
       "\t<tr><th></th><th scope=col>&lt;chr&gt;</th></tr>\n",
       "</thead>\n",
       "<tbody>\n",
       "\t<tr><th scope=row>B cells</th><td>BANK1, CD79A, CD79B, FCER2, FCRL2, FCRL5, MS4A1, PAX5, POU2AF1, STAP1, TCL1A                                                                  </td></tr>\n",
       "\t<tr><th scope=row>CAFs</th><td>ADAM33, CLDN11, COL1A1, COL3A1, COL14A1, CRISPLD2, CXCL14, DPT, F3, FBLN1, ISLR, LUM, MEG3, MFAP5, PRELP, PTGIS, SFRP2, SFRP4, SYNPO2, TMEM119</td></tr>\n",
       "\t<tr><th scope=row>CD4 T cells</th><td>ANKRD55, DGKA, FOXP3, GCNT4, IL2RA, MDS2, RCAN3, TBC1D4, TRAT1                                                                                </td></tr>\n",
       "\t<tr><th scope=row>CD8 T cells</th><td>CD8B, HAUS3, JAKMIP1, NAA16, TSPYL1                                                                                                           </td></tr>\n",
       "\t<tr><th scope=row>Endothelial cells</th><td>CDH5, CLDN5, CLEC14A, CXorf36, ECSCR, F2RL3, FLT1, FLT4, GPR4, GPR182, KDR, MMRN1, MMRN2, MYCT1, PTPRB, RHOJ, SLCO2A1, SOX18, STAB2, VWF      </td></tr>\n",
       "\t<tr><th scope=row>Macrophages</th><td>APOC1, C1QC, CD14, CD163, CD300C, CD300E, CSF1R, F13A1, FPR3, HAMP, IL1B, LILRB4, MS4A6A, MSR1, SIGLEC1, VSIG4                                </td></tr>\n",
       "\t<tr><th scope=row>Monocytes</th><td>CD33, CD300C, CD300E, CECR1, CLEC6A, CPVL, EGR2, EREG, MS4A6A, NAGA, SLC37A2                                                                  </td></tr>\n",
       "\t<tr><th scope=row>Neutrophils</th><td>CEACAM3, CNTNAP3, CXCR1, CYP4F3, FFAR2, HIST1H2BC, HIST1H3D, KY, MMP25, PGLYRP1, SLC12A1, TAS2R40                                             </td></tr>\n",
       "\t<tr><th scope=row>NK cells</th><td>CD160, CLIC3, FGFBP2, GNLY, GNPTAB, KLRF1, NCR1, NMUR1, S1PR5, SH2D1B                                                                         </td></tr>\n",
       "\t<tr><th scope=row>T cells</th><td>BCL11B, CD5, CD28, IL7R, ITK, THEMIS, UBASH3A                                                                                                 </td></tr>\n",
       "</tbody>\n",
       "</table>\n"
      ],
      "text/latex": [
       "A data.frame: 10 × 1\n",
       "\\begin{tabular}{r|l}\n",
       "  & Genes.markers\\\\\n",
       "  & <chr>\\\\\n",
       "\\hline\n",
       "\tB cells & BANK1, CD79A, CD79B, FCER2, FCRL2, FCRL5, MS4A1, PAX5, POU2AF1, STAP1, TCL1A                                                                  \\\\\n",
       "\tCAFs & ADAM33, CLDN11, COL1A1, COL3A1, COL14A1, CRISPLD2, CXCL14, DPT, F3, FBLN1, ISLR, LUM, MEG3, MFAP5, PRELP, PTGIS, SFRP2, SFRP4, SYNPO2, TMEM119\\\\\n",
       "\tCD4 T cells & ANKRD55, DGKA, FOXP3, GCNT4, IL2RA, MDS2, RCAN3, TBC1D4, TRAT1                                                                                \\\\\n",
       "\tCD8 T cells & CD8B, HAUS3, JAKMIP1, NAA16, TSPYL1                                                                                                           \\\\\n",
       "\tEndothelial cells & CDH5, CLDN5, CLEC14A, CXorf36, ECSCR, F2RL3, FLT1, FLT4, GPR4, GPR182, KDR, MMRN1, MMRN2, MYCT1, PTPRB, RHOJ, SLCO2A1, SOX18, STAB2, VWF      \\\\\n",
       "\tMacrophages & APOC1, C1QC, CD14, CD163, CD300C, CD300E, CSF1R, F13A1, FPR3, HAMP, IL1B, LILRB4, MS4A6A, MSR1, SIGLEC1, VSIG4                                \\\\\n",
       "\tMonocytes & CD33, CD300C, CD300E, CECR1, CLEC6A, CPVL, EGR2, EREG, MS4A6A, NAGA, SLC37A2                                                                  \\\\\n",
       "\tNeutrophils & CEACAM3, CNTNAP3, CXCR1, CYP4F3, FFAR2, HIST1H2BC, HIST1H3D, KY, MMP25, PGLYRP1, SLC12A1, TAS2R40                                             \\\\\n",
       "\tNK cells & CD160, CLIC3, FGFBP2, GNLY, GNPTAB, KLRF1, NCR1, NMUR1, S1PR5, SH2D1B                                                                         \\\\\n",
       "\tT cells & BCL11B, CD5, CD28, IL7R, ITK, THEMIS, UBASH3A                                                                                                 \\\\\n",
       "\\end{tabular}\n"
      ],
      "text/markdown": [
       "\n",
       "A data.frame: 10 × 1\n",
       "\n",
       "| <!--/--> | Genes.markers &lt;chr&gt; |\n",
       "|---|---|\n",
       "| B cells | BANK1, CD79A, CD79B, FCER2, FCRL2, FCRL5, MS4A1, PAX5, POU2AF1, STAP1, TCL1A                                                                   |\n",
       "| CAFs | ADAM33, CLDN11, COL1A1, COL3A1, COL14A1, CRISPLD2, CXCL14, DPT, F3, FBLN1, ISLR, LUM, MEG3, MFAP5, PRELP, PTGIS, SFRP2, SFRP4, SYNPO2, TMEM119 |\n",
       "| CD4 T cells | ANKRD55, DGKA, FOXP3, GCNT4, IL2RA, MDS2, RCAN3, TBC1D4, TRAT1                                                                                 |\n",
       "| CD8 T cells | CD8B, HAUS3, JAKMIP1, NAA16, TSPYL1                                                                                                            |\n",
       "| Endothelial cells | CDH5, CLDN5, CLEC14A, CXorf36, ECSCR, F2RL3, FLT1, FLT4, GPR4, GPR182, KDR, MMRN1, MMRN2, MYCT1, PTPRB, RHOJ, SLCO2A1, SOX18, STAB2, VWF       |\n",
       "| Macrophages | APOC1, C1QC, CD14, CD163, CD300C, CD300E, CSF1R, F13A1, FPR3, HAMP, IL1B, LILRB4, MS4A6A, MSR1, SIGLEC1, VSIG4                                 |\n",
       "| Monocytes | CD33, CD300C, CD300E, CECR1, CLEC6A, CPVL, EGR2, EREG, MS4A6A, NAGA, SLC37A2                                                                   |\n",
       "| Neutrophils | CEACAM3, CNTNAP3, CXCR1, CYP4F3, FFAR2, HIST1H2BC, HIST1H3D, KY, MMP25, PGLYRP1, SLC12A1, TAS2R40                                              |\n",
       "| NK cells | CD160, CLIC3, FGFBP2, GNLY, GNPTAB, KLRF1, NCR1, NMUR1, S1PR5, SH2D1B                                                                          |\n",
       "| T cells | BCL11B, CD5, CD28, IL7R, ITK, THEMIS, UBASH3A                                                                                                  |\n",
       "\n"
      ],
      "text/plain": [
       "                  Genes.markers                                                                                                                                 \n",
       "B cells           BANK1, CD79A, CD79B, FCER2, FCRL2, FCRL5, MS4A1, PAX5, POU2AF1, STAP1, TCL1A                                                                  \n",
       "CAFs              ADAM33, CLDN11, COL1A1, COL3A1, COL14A1, CRISPLD2, CXCL14, DPT, F3, FBLN1, ISLR, LUM, MEG3, MFAP5, PRELP, PTGIS, SFRP2, SFRP4, SYNPO2, TMEM119\n",
       "CD4 T cells       ANKRD55, DGKA, FOXP3, GCNT4, IL2RA, MDS2, RCAN3, TBC1D4, TRAT1                                                                                \n",
       "CD8 T cells       CD8B, HAUS3, JAKMIP1, NAA16, TSPYL1                                                                                                           \n",
       "Endothelial cells CDH5, CLDN5, CLEC14A, CXorf36, ECSCR, F2RL3, FLT1, FLT4, GPR4, GPR182, KDR, MMRN1, MMRN2, MYCT1, PTPRB, RHOJ, SLCO2A1, SOX18, STAB2, VWF      \n",
       "Macrophages       APOC1, C1QC, CD14, CD163, CD300C, CD300E, CSF1R, F13A1, FPR3, HAMP, IL1B, LILRB4, MS4A6A, MSR1, SIGLEC1, VSIG4                                \n",
       "Monocytes         CD33, CD300C, CD300E, CECR1, CLEC6A, CPVL, EGR2, EREG, MS4A6A, NAGA, SLC37A2                                                                  \n",
       "Neutrophils       CEACAM3, CNTNAP3, CXCR1, CYP4F3, FFAR2, HIST1H2BC, HIST1H3D, KY, MMP25, PGLYRP1, SLC12A1, TAS2R40                                             \n",
       "NK cells          CD160, CLIC3, FGFBP2, GNLY, GNPTAB, KLRF1, NCR1, NMUR1, S1PR5, SH2D1B                                                                         \n",
       "T cells           BCL11B, CD5, CD28, IL7R, ITK, THEMIS, UBASH3A                                                                                                 "
      ]
     },
     "metadata": {},
     "output_type": "display_data"
    }
   ],
   "source": [
    "epic_sig"
   ]
  },
  {
   "cell_type": "code",
   "execution_count": 88,
   "metadata": {},
   "outputs": [],
   "source": [
    "genesets_epic <- data.frame(Gene=character(), Celltype=character(),stringsAsFactors=FALSE) "
   ]
  },
  {
   "cell_type": "code",
   "execution_count": 89,
   "metadata": {},
   "outputs": [],
   "source": [
    "for(i in 1:10){\n",
    "    cell <- rownames(epic_sig)[i] \n",
    "    genes <- unlist(strsplit(epic_sig$Genes.markers[i], \",\"))\n",
    "    # trim leading white space\n",
    "    genes_df <- as.data.frame(trimws(genes))\n",
    "    genes_df$Celltype <- cell\n",
    "    colnames(genes_df)[1] <- \"Gene\"\n",
    "    genesets_epic <- rbind(genesets_epic, genes_df)\n",
    "}"
   ]
  },
  {
   "cell_type": "code",
   "execution_count": 90,
   "metadata": {},
   "outputs": [
    {
     "data": {
      "text/html": [
       "<table class=\"dataframe\">\n",
       "<caption>A data.frame: 6 × 2</caption>\n",
       "<thead>\n",
       "\t<tr><th></th><th scope=col>Gene</th><th scope=col>Celltype</th></tr>\n",
       "\t<tr><th></th><th scope=col>&lt;chr&gt;</th><th scope=col>&lt;chr&gt;</th></tr>\n",
       "</thead>\n",
       "<tbody>\n",
       "\t<tr><th scope=row>116</th><td>CD5    </td><td>T cells</td></tr>\n",
       "\t<tr><th scope=row>117</th><td>CD28   </td><td>T cells</td></tr>\n",
       "\t<tr><th scope=row>118</th><td>IL7R   </td><td>T cells</td></tr>\n",
       "\t<tr><th scope=row>119</th><td>ITK    </td><td>T cells</td></tr>\n",
       "\t<tr><th scope=row>120</th><td>THEMIS </td><td>T cells</td></tr>\n",
       "\t<tr><th scope=row>121</th><td>UBASH3A</td><td>T cells</td></tr>\n",
       "</tbody>\n",
       "</table>\n"
      ],
      "text/latex": [
       "A data.frame: 6 × 2\n",
       "\\begin{tabular}{r|ll}\n",
       "  & Gene & Celltype\\\\\n",
       "  & <chr> & <chr>\\\\\n",
       "\\hline\n",
       "\t116 & CD5     & T cells\\\\\n",
       "\t117 & CD28    & T cells\\\\\n",
       "\t118 & IL7R    & T cells\\\\\n",
       "\t119 & ITK     & T cells\\\\\n",
       "\t120 & THEMIS  & T cells\\\\\n",
       "\t121 & UBASH3A & T cells\\\\\n",
       "\\end{tabular}\n"
      ],
      "text/markdown": [
       "\n",
       "A data.frame: 6 × 2\n",
       "\n",
       "| <!--/--> | Gene &lt;chr&gt; | Celltype &lt;chr&gt; |\n",
       "|---|---|---|\n",
       "| 116 | CD5     | T cells |\n",
       "| 117 | CD28    | T cells |\n",
       "| 118 | IL7R    | T cells |\n",
       "| 119 | ITK     | T cells |\n",
       "| 120 | THEMIS  | T cells |\n",
       "| 121 | UBASH3A | T cells |\n",
       "\n"
      ],
      "text/plain": [
       "    Gene    Celltype\n",
       "116 CD5     T cells \n",
       "117 CD28    T cells \n",
       "118 IL7R    T cells \n",
       "119 ITK     T cells \n",
       "120 THEMIS  T cells \n",
       "121 UBASH3A T cells "
      ]
     },
     "metadata": {},
     "output_type": "display_data"
    }
   ],
   "source": [
    "tail(genesets_epic)"
   ]
  },
  {
   "cell_type": "code",
   "execution_count": 91,
   "metadata": {},
   "outputs": [
    {
     "data": {
      "text/plain": [
       "\n",
       "          B cells              CAFs       CD4 T cells       CD8 T cells \n",
       "               11                20                 9                 5 \n",
       "Endothelial cells       Macrophages         Monocytes       Neutrophils \n",
       "               20                16                11                12 \n",
       "         NK cells           T cells              <NA> \n",
       "               10                 7                 0 "
      ]
     },
     "metadata": {},
     "output_type": "display_data"
    }
   ],
   "source": [
    "table(genesets_epic$Celltype, useNA = \"always\")"
   ]
  },
  {
   "cell_type": "code",
   "execution_count": 92,
   "metadata": {},
   "outputs": [],
   "source": [
    "genesets_epic$Cellgroup <- NA\n",
    "\n",
    "genesets_epic$Cellgroup[ genesets_epic$Celltype == \"CD4 T cells\"] <- \"T_cells\"\n",
    "genesets_epic$Cellgroup[ genesets_epic$Celltype == \"CD8 T cells\"] <- \"T_cells\"\n",
    "genesets_epic$Cellgroup[ genesets_epic$Celltype == \"NK cells\"] <- \"NK_cells\"\n",
    "genesets_epic$Cellgroup[ genesets_epic$Celltype == \"Monocytes\"] <- \"Monocytes\"\n",
    "genesets_epic$Cellgroup[ genesets_epic$Celltype == \"Neutrophils\"] <- \"Granulocytes\"\n",
    "genesets_epic$Cellgroup[ genesets_epic$Celltype == \"Macrophages\"] <- \"Macrophages\"\n",
    "genesets_epic$Cellgroup[ genesets_epic$Celltype == \"B cells\"] <- \"B_cells\"\n",
    "genesets_epic$Cellgroup[ genesets_epic$Celltype == \"T cells\"] <- \"T_cells\"\n",
    "genesets_epic <- genesets_epic[ !is.na(genesets_epic$Cellgroup),]"
   ]
  },
  {
   "cell_type": "code",
   "execution_count": 93,
   "metadata": {},
   "outputs": [
    {
     "data": {
      "text/html": [
       "<table class=\"dataframe\">\n",
       "<caption>A data.frame: 6 × 3</caption>\n",
       "<thead>\n",
       "\t<tr><th></th><th scope=col>Gene</th><th scope=col>Celltype</th><th scope=col>Cellgroup</th></tr>\n",
       "\t<tr><th></th><th scope=col>&lt;chr&gt;</th><th scope=col>&lt;chr&gt;</th><th scope=col>&lt;chr&gt;</th></tr>\n",
       "</thead>\n",
       "<tbody>\n",
       "\t<tr><th scope=row>1</th><td>BANK1</td><td>B cells</td><td>B_cells</td></tr>\n",
       "\t<tr><th scope=row>2</th><td>CD79A</td><td>B cells</td><td>B_cells</td></tr>\n",
       "\t<tr><th scope=row>3</th><td>CD79B</td><td>B cells</td><td>B_cells</td></tr>\n",
       "\t<tr><th scope=row>4</th><td>FCER2</td><td>B cells</td><td>B_cells</td></tr>\n",
       "\t<tr><th scope=row>5</th><td>FCRL2</td><td>B cells</td><td>B_cells</td></tr>\n",
       "\t<tr><th scope=row>6</th><td>FCRL5</td><td>B cells</td><td>B_cells</td></tr>\n",
       "</tbody>\n",
       "</table>\n"
      ],
      "text/latex": [
       "A data.frame: 6 × 3\n",
       "\\begin{tabular}{r|lll}\n",
       "  & Gene & Celltype & Cellgroup\\\\\n",
       "  & <chr> & <chr> & <chr>\\\\\n",
       "\\hline\n",
       "\t1 & BANK1 & B cells & B\\_cells\\\\\n",
       "\t2 & CD79A & B cells & B\\_cells\\\\\n",
       "\t3 & CD79B & B cells & B\\_cells\\\\\n",
       "\t4 & FCER2 & B cells & B\\_cells\\\\\n",
       "\t5 & FCRL2 & B cells & B\\_cells\\\\\n",
       "\t6 & FCRL5 & B cells & B\\_cells\\\\\n",
       "\\end{tabular}\n"
      ],
      "text/markdown": [
       "\n",
       "A data.frame: 6 × 3\n",
       "\n",
       "| <!--/--> | Gene &lt;chr&gt; | Celltype &lt;chr&gt; | Cellgroup &lt;chr&gt; |\n",
       "|---|---|---|---|\n",
       "| 1 | BANK1 | B cells | B_cells |\n",
       "| 2 | CD79A | B cells | B_cells |\n",
       "| 3 | CD79B | B cells | B_cells |\n",
       "| 4 | FCER2 | B cells | B_cells |\n",
       "| 5 | FCRL2 | B cells | B_cells |\n",
       "| 6 | FCRL5 | B cells | B_cells |\n",
       "\n"
      ],
      "text/plain": [
       "  Gene  Celltype Cellgroup\n",
       "1 BANK1 B cells  B_cells  \n",
       "2 CD79A B cells  B_cells  \n",
       "3 CD79B B cells  B_cells  \n",
       "4 FCER2 B cells  B_cells  \n",
       "5 FCRL2 B cells  B_cells  \n",
       "6 FCRL5 B cells  B_cells  "
      ]
     },
     "metadata": {},
     "output_type": "display_data"
    }
   ],
   "source": [
    "head(genesets_epic)"
   ]
  },
  {
   "cell_type": "code",
   "execution_count": 94,
   "metadata": {},
   "outputs": [
    {
     "data": {
      "text/plain": [
       "\n",
       "     B_cells Granulocytes  Macrophages    Monocytes     NK_cells      T_cells \n",
       "          11           12           16           11           10           21 \n",
       "        <NA> \n",
       "           0 "
      ]
     },
     "metadata": {},
     "output_type": "display_data"
    }
   ],
   "source": [
    "table(genesets_epic$Cellgroup, useNA = \"always\")"
   ]
  },
  {
   "cell_type": "markdown",
   "metadata": {},
   "source": [
    "## 7- Xcell"
   ]
  },
  {
   "cell_type": "code",
   "execution_count": 95,
   "metadata": {},
   "outputs": [],
   "source": [
    "xcell <- read.csv(file = paste0(datapath, \"TME_clusters/xcell_paper_489celltypesignatures.csv\"), row.names = 2,\n",
    "                       header = F, stringsAsFactors = F, check.names = F, skip = 1)"
   ]
  },
  {
   "cell_type": "code",
   "execution_count": 96,
   "metadata": {},
   "outputs": [
    {
     "data": {
      "text/html": [
       "<style>\n",
       ".list-inline {list-style: none; margin:0; padding: 0}\n",
       ".list-inline>li {display: inline-block}\n",
       ".list-inline>li:not(:last-child)::after {content: \"\\00b7\"; padding: 0 .5ex}\n",
       "</style>\n",
       "<ol class=list-inline><li>489</li><li>202</li></ol>\n"
      ],
      "text/latex": [
       "\\begin{enumerate*}\n",
       "\\item 489\n",
       "\\item 202\n",
       "\\end{enumerate*}\n"
      ],
      "text/markdown": [
       "1. 489\n",
       "2. 202\n",
       "\n",
       "\n"
      ],
      "text/plain": [
       "[1] 489 202"
      ]
     },
     "metadata": {},
     "output_type": "display_data"
    }
   ],
   "source": [
    "dim(xcell)"
   ]
  },
  {
   "cell_type": "code",
   "execution_count": 97,
   "metadata": {},
   "outputs": [],
   "source": [
    "xcell$V1 <- NULL # weird rownames when I write.csv from read.excel function\n",
    "xcell$V3 <- NULL # number of genes for each signature"
   ]
  },
  {
   "cell_type": "code",
   "execution_count": 98,
   "metadata": {},
   "outputs": [],
   "source": [
    "removethem <- c(\"Adipocytes\", \"Astrocytes\", \"Chondrocytes\", \"Platelets\", \"NKT\", \n",
    "                \"Endothelial\", \"Epithelial\", \"Mesangial\", \"Melanocytes\", \n",
    "                \"Skeletal\", \"Smooth\", \"Preadipocytes\", \"Erythrocytes\",\n",
    "                \"Sebocytes\", \"Osteoblast\", \"Myocytes\", \"Fibroblasts\",\n",
    "                \"Hepatocytes\", \"HSC\", \"Keratinocytes\", \"Megakaryocytes\",\n",
    "                \"Neurons\", \"Pericytes\", \"MPP\", \"MEP\", \"GMP\", \"CLP\", \"CMP\", \"MSC\")"
   ]
  },
  {
   "cell_type": "code",
   "execution_count": 99,
   "metadata": {},
   "outputs": [],
   "source": [
    "remove_rows <- rownames(xcell)[grep(paste(removethem,collapse=\"|\"), rownames(xcell))]\n",
    "xcell <- xcell[!rownames(xcell) %in% remove_rows,]"
   ]
  },
  {
   "cell_type": "code",
   "execution_count": 100,
   "metadata": {},
   "outputs": [],
   "source": [
    "colnames(xcell) <- NULL"
   ]
  },
  {
   "cell_type": "code",
   "execution_count": 101,
   "metadata": {},
   "outputs": [
    {
     "data": {
      "text/html": [
       "<style>\n",
       ".list-inline {list-style: none; margin:0; padding: 0}\n",
       ".list-inline>li {display: inline-block}\n",
       ".list-inline>li:not(:last-child)::after {content: \"\\00b7\"; padding: 0 .5ex}\n",
       "</style>\n",
       "<ol class=list-inline><li>264</li><li>200</li></ol>\n"
      ],
      "text/latex": [
       "\\begin{enumerate*}\n",
       "\\item 264\n",
       "\\item 200\n",
       "\\end{enumerate*}\n"
      ],
      "text/markdown": [
       "1. 264\n",
       "2. 200\n",
       "\n",
       "\n"
      ],
      "text/plain": [
       "[1] 264 200"
      ]
     },
     "metadata": {},
     "output_type": "display_data"
    }
   ],
   "source": [
    "dim(xcell)"
   ]
  },
  {
   "cell_type": "code",
   "execution_count": 102,
   "metadata": {},
   "outputs": [
    {
     "data": {
      "text/html": [
       "<table class=\"dataframe\">\n",
       "<caption>A data.frame: 6 × 200</caption>\n",
       "<tbody>\n",
       "\t<tr><th scope=row>aDC_HPCA_1</th><td>C1QA</td><td>C1QB   </td><td>CD80   </td><td>IL12B </td><td>CCL13   </td><td>CCL17</td><td>CCL19</td><td>CCL22 </td><td>NA   </td><td>NA   </td><td>⋯</td><td>NA</td><td>NA</td><td>NA</td><td>NA</td><td>NA</td><td>NA</td><td>NA</td><td>NA</td><td>NA</td><td>NA</td></tr>\n",
       "\t<tr><th scope=row>aDC_HPCA_2</th><td>C1QA</td><td>C1QB   </td><td>CD80   </td><td>FPR3  </td><td>HLA-DQA1</td><td>IL12B</td><td>CCL13</td><td>CCL17 </td><td>CCL19</td><td>CCL22</td><td>⋯</td><td>NA</td><td>NA</td><td>NA</td><td>NA</td><td>NA</td><td>NA</td><td>NA</td><td>NA</td><td>NA</td><td>NA</td></tr>\n",
       "\t<tr><th scope=row>aDC_HPCA_3</th><td>C1QA</td><td>C1QB   </td><td>CD80   </td><td>FPR3  </td><td>HLA-DQA1</td><td>IL12B</td><td>CCL13</td><td>CCL17 </td><td>CCL19</td><td>CCL22</td><td>⋯</td><td>NA</td><td>NA</td><td>NA</td><td>NA</td><td>NA</td><td>NA</td><td>NA</td><td>NA</td><td>NA</td><td>NA</td></tr>\n",
       "\t<tr><th scope=row>aDC_IRIS_1</th><td>CD80</td><td>IL3RA  </td><td>IL12B  </td><td>CXCL9 </td><td>PTGIR   </td><td>CCL8 </td><td>CCL13</td><td>CCL17 </td><td>CCL19</td><td>CCL23</td><td>⋯</td><td>NA</td><td>NA</td><td>NA</td><td>NA</td><td>NA</td><td>NA</td><td>NA</td><td>NA</td><td>NA</td><td>NA</td></tr>\n",
       "\t<tr><th scope=row>aDC_IRIS_2</th><td>ACHE</td><td>ADPRH  </td><td>ALOX15B</td><td>ANXA5 </td><td>XIAP    </td><td>ARF3 </td><td>RHOG </td><td>ATP1B3</td><td>BLVRA</td><td>C1QA </td><td>⋯</td><td>NA</td><td>NA</td><td>NA</td><td>NA</td><td>NA</td><td>NA</td><td>NA</td><td>NA</td><td>NA</td><td>NA</td></tr>\n",
       "\t<tr><th scope=row>aDC_IRIS_3</th><td>ACHE</td><td>ALOX15B</td><td>RHOG   </td><td>ATP1B3</td><td>BLVRA   </td><td>C1QB </td><td>CD80 </td><td>CD86  </td><td>EIF5 </td><td>ENO1 </td><td>⋯</td><td>NA</td><td>NA</td><td>NA</td><td>NA</td><td>NA</td><td>NA</td><td>NA</td><td>NA</td><td>NA</td><td>NA</td></tr>\n",
       "</tbody>\n",
       "</table>\n"
      ],
      "text/latex": [
       "A data.frame: 6 × 200\n",
       "\\begin{tabular}{r|lllllllllllllllllllll}\n",
       "\taDC\\_HPCA\\_1 & C1QA & C1QB    & CD80    & IL12B  & CCL13    & CCL17 & CCL19 & CCL22  & NA    & NA    & ⋯ & NA & NA & NA & NA & NA & NA & NA & NA & NA & NA\\\\\n",
       "\taDC\\_HPCA\\_2 & C1QA & C1QB    & CD80    & FPR3   & HLA-DQA1 & IL12B & CCL13 & CCL17  & CCL19 & CCL22 & ⋯ & NA & NA & NA & NA & NA & NA & NA & NA & NA & NA\\\\\n",
       "\taDC\\_HPCA\\_3 & C1QA & C1QB    & CD80    & FPR3   & HLA-DQA1 & IL12B & CCL13 & CCL17  & CCL19 & CCL22 & ⋯ & NA & NA & NA & NA & NA & NA & NA & NA & NA & NA\\\\\n",
       "\taDC\\_IRIS\\_1 & CD80 & IL3RA   & IL12B   & CXCL9  & PTGIR    & CCL8  & CCL13 & CCL17  & CCL19 & CCL23 & ⋯ & NA & NA & NA & NA & NA & NA & NA & NA & NA & NA\\\\\n",
       "\taDC\\_IRIS\\_2 & ACHE & ADPRH   & ALOX15B & ANXA5  & XIAP     & ARF3  & RHOG  & ATP1B3 & BLVRA & C1QA  & ⋯ & NA & NA & NA & NA & NA & NA & NA & NA & NA & NA\\\\\n",
       "\taDC\\_IRIS\\_3 & ACHE & ALOX15B & RHOG    & ATP1B3 & BLVRA    & C1QB  & CD80  & CD86   & EIF5  & ENO1  & ⋯ & NA & NA & NA & NA & NA & NA & NA & NA & NA & NA\\\\\n",
       "\\end{tabular}\n"
      ],
      "text/markdown": [
       "\n",
       "A data.frame: 6 × 200\n",
       "\n",
       "| aDC_HPCA_1 | C1QA | C1QB    | CD80    | IL12B  | CCL13    | CCL17 | CCL19 | CCL22  | NA    | NA    | ⋯ | NA | NA | NA | NA | NA | NA | NA | NA | NA | NA |\n",
       "| aDC_HPCA_2 | C1QA | C1QB    | CD80    | FPR3   | HLA-DQA1 | IL12B | CCL13 | CCL17  | CCL19 | CCL22 | ⋯ | NA | NA | NA | NA | NA | NA | NA | NA | NA | NA |\n",
       "| aDC_HPCA_3 | C1QA | C1QB    | CD80    | FPR3   | HLA-DQA1 | IL12B | CCL13 | CCL17  | CCL19 | CCL22 | ⋯ | NA | NA | NA | NA | NA | NA | NA | NA | NA | NA |\n",
       "| aDC_IRIS_1 | CD80 | IL3RA   | IL12B   | CXCL9  | PTGIR    | CCL8  | CCL13 | CCL17  | CCL19 | CCL23 | ⋯ | NA | NA | NA | NA | NA | NA | NA | NA | NA | NA |\n",
       "| aDC_IRIS_2 | ACHE | ADPRH   | ALOX15B | ANXA5  | XIAP     | ARF3  | RHOG  | ATP1B3 | BLVRA | C1QA  | ⋯ | NA | NA | NA | NA | NA | NA | NA | NA | NA | NA |\n",
       "| aDC_IRIS_3 | ACHE | ALOX15B | RHOG    | ATP1B3 | BLVRA    | C1QB  | CD80  | CD86   | EIF5  | ENO1  | ⋯ | NA | NA | NA | NA | NA | NA | NA | NA | NA | NA |\n",
       "\n"
      ],
      "text/plain": [
       "           [,1] [,2]    [,3]    [,4]   [,5]     [,6]  [,7]  [,8]   [,9]  [,10]\n",
       "aDC_HPCA_1 C1QA C1QB    CD80    IL12B  CCL13    CCL17 CCL19 CCL22  NA    NA   \n",
       "aDC_HPCA_2 C1QA C1QB    CD80    FPR3   HLA-DQA1 IL12B CCL13 CCL17  CCL19 CCL22\n",
       "aDC_HPCA_3 C1QA C1QB    CD80    FPR3   HLA-DQA1 IL12B CCL13 CCL17  CCL19 CCL22\n",
       "aDC_IRIS_1 CD80 IL3RA   IL12B   CXCL9  PTGIR    CCL8  CCL13 CCL17  CCL19 CCL23\n",
       "aDC_IRIS_2 ACHE ADPRH   ALOX15B ANXA5  XIAP     ARF3  RHOG  ATP1B3 BLVRA C1QA \n",
       "aDC_IRIS_3 ACHE ALOX15B RHOG    ATP1B3 BLVRA    C1QB  CD80  CD86   EIF5  ENO1 \n",
       "           [,11] [,12] [,13] [,14] [,15] [,16] [,17] [,18] [,19] [,20] [,21]\n",
       "aDC_HPCA_1 ⋯     NA    NA    NA    NA    NA    NA    NA    NA    NA    NA   \n",
       "aDC_HPCA_2 ⋯     NA    NA    NA    NA    NA    NA    NA    NA    NA    NA   \n",
       "aDC_HPCA_3 ⋯     NA    NA    NA    NA    NA    NA    NA    NA    NA    NA   \n",
       "aDC_IRIS_1 ⋯     NA    NA    NA    NA    NA    NA    NA    NA    NA    NA   \n",
       "aDC_IRIS_2 ⋯     NA    NA    NA    NA    NA    NA    NA    NA    NA    NA   \n",
       "aDC_IRIS_3 ⋯     NA    NA    NA    NA    NA    NA    NA    NA    NA    NA   "
      ]
     },
     "metadata": {},
     "output_type": "display_data"
    }
   ],
   "source": [
    "head(xcell)"
   ]
  },
  {
   "cell_type": "code",
   "execution_count": 103,
   "metadata": {},
   "outputs": [],
   "source": [
    "genesets_xcell <- data.frame(Gene=character(), \n",
    "                             Celltype=character(), stringsAsFactors=FALSE) "
   ]
  },
  {
   "cell_type": "code",
   "execution_count": 104,
   "metadata": {},
   "outputs": [],
   "source": [
    "for(i in 1:nrow(xcell)){\n",
    "    cell <- rownames(xcell)[i] \n",
    "    genes <- unlist(xcell[i,1:ncol(xcell)])\n",
    "    genes <- genes[!is.na(genes)]\n",
    "    genes_df <- as.data.frame(genes)\n",
    "    genes_df$Celltype <- cell\n",
    "    colnames(genes_df)[1] <- \"Gene\"\n",
    "    genesets_xcell <- rbind(genesets_xcell, genes_df)\n",
    "}"
   ]
  },
  {
   "cell_type": "code",
   "execution_count": 105,
   "metadata": {
    "scrolled": true
   },
   "outputs": [
    {
     "data": {
      "text/html": [
       "<table class=\"dataframe\">\n",
       "<caption>A data.frame: 6 × 2</caption>\n",
       "<thead>\n",
       "\t<tr><th></th><th scope=col>Gene</th><th scope=col>Celltype</th></tr>\n",
       "\t<tr><th></th><th scope=col>&lt;chr&gt;</th><th scope=col>&lt;chr&gt;</th></tr>\n",
       "</thead>\n",
       "<tbody>\n",
       "\t<tr><th scope=row>1</th><td>C1QA </td><td>aDC_HPCA_1</td></tr>\n",
       "\t<tr><th scope=row>2</th><td>C1QB </td><td>aDC_HPCA_1</td></tr>\n",
       "\t<tr><th scope=row>3</th><td>CD80 </td><td>aDC_HPCA_1</td></tr>\n",
       "\t<tr><th scope=row>4</th><td>IL12B</td><td>aDC_HPCA_1</td></tr>\n",
       "\t<tr><th scope=row>5</th><td>CCL13</td><td>aDC_HPCA_1</td></tr>\n",
       "\t<tr><th scope=row>6</th><td>CCL17</td><td>aDC_HPCA_1</td></tr>\n",
       "</tbody>\n",
       "</table>\n"
      ],
      "text/latex": [
       "A data.frame: 6 × 2\n",
       "\\begin{tabular}{r|ll}\n",
       "  & Gene & Celltype\\\\\n",
       "  & <chr> & <chr>\\\\\n",
       "\\hline\n",
       "\t1 & C1QA  & aDC\\_HPCA\\_1\\\\\n",
       "\t2 & C1QB  & aDC\\_HPCA\\_1\\\\\n",
       "\t3 & CD80  & aDC\\_HPCA\\_1\\\\\n",
       "\t4 & IL12B & aDC\\_HPCA\\_1\\\\\n",
       "\t5 & CCL13 & aDC\\_HPCA\\_1\\\\\n",
       "\t6 & CCL17 & aDC\\_HPCA\\_1\\\\\n",
       "\\end{tabular}\n"
      ],
      "text/markdown": [
       "\n",
       "A data.frame: 6 × 2\n",
       "\n",
       "| <!--/--> | Gene &lt;chr&gt; | Celltype &lt;chr&gt; |\n",
       "|---|---|---|\n",
       "| 1 | C1QA  | aDC_HPCA_1 |\n",
       "| 2 | C1QB  | aDC_HPCA_1 |\n",
       "| 3 | CD80  | aDC_HPCA_1 |\n",
       "| 4 | IL12B | aDC_HPCA_1 |\n",
       "| 5 | CCL13 | aDC_HPCA_1 |\n",
       "| 6 | CCL17 | aDC_HPCA_1 |\n",
       "\n"
      ],
      "text/plain": [
       "  Gene  Celltype  \n",
       "1 C1QA  aDC_HPCA_1\n",
       "2 C1QB  aDC_HPCA_1\n",
       "3 CD80  aDC_HPCA_1\n",
       "4 IL12B aDC_HPCA_1\n",
       "5 CCL13 aDC_HPCA_1\n",
       "6 CCL17 aDC_HPCA_1"
      ]
     },
     "metadata": {},
     "output_type": "display_data"
    }
   ],
   "source": [
    "head(genesets_xcell)"
   ]
  },
  {
   "cell_type": "code",
   "execution_count": 106,
   "metadata": {},
   "outputs": [
    {
     "data": {
      "text/plain": [
       "\n",
       "                                 aDC_HPCA_1 \n",
       "                                          8 \n",
       "                                 aDC_HPCA_2 \n",
       "                                         10 \n",
       "                                 aDC_HPCA_3 \n",
       "                                         10 \n",
       "                                 aDC_IRIS_1 \n",
       "                                         19 \n",
       "                                 aDC_IRIS_2 \n",
       "                                        173 \n",
       "                                 aDC_IRIS_3 \n",
       "                                         98 \n",
       "                           B-cells_FANTOM_1 \n",
       "                                         16 \n",
       "                           B-cells_FANTOM_2 \n",
       "                                         12 \n",
       "                           B-cells_FANTOM_3 \n",
       "                                         21 \n",
       "                             B-cells_HPCA_1 \n",
       "                                         44 \n",
       "                             B-cells_HPCA_2 \n",
       "                                         10 \n",
       "                             B-cells_HPCA_3 \n",
       "                                          8 \n",
       "                      B-cells_NOVERSHTERN_1 \n",
       "                                         65 \n",
       "                      B-cells_NOVERSHTERN_2 \n",
       "                                         76 \n",
       "                      B-cells_NOVERSHTERN_3 \n",
       "                                         55 \n",
       "                         Basophils_FANTOM_1 \n",
       "                                         45 \n",
       "                         Basophils_FANTOM_2 \n",
       "                                        197 \n",
       "                         Basophils_FANTOM_3 \n",
       "                                          8 \n",
       "                    Basophils_NOVERSHTERN_1 \n",
       "                                         42 \n",
       "                    Basophils_NOVERSHTERN_2 \n",
       "                                         11 \n",
       "                    Basophils_NOVERSHTERN_3 \n",
       "                                          8 \n",
       "               CD4+ memory T-cells_FANTOM_1 \n",
       "                                        200 \n",
       "               CD4+ memory T-cells_FANTOM_2 \n",
       "                                         11 \n",
       "               CD4+ memory T-cells_FANTOM_3 \n",
       "                                        139 \n",
       "                 CD4+ memory T-cells_IRIS_1 \n",
       "                                         13 \n",
       "                 CD4+ memory T-cells_IRIS_2 \n",
       "                                         15 \n",
       "                 CD4+ memory T-cells_IRIS_3 \n",
       "                                         21 \n",
       "                CD4+ naive T-cells_FANTOM_1 \n",
       "                                         15 \n",
       "                CD4+ naive T-cells_FANTOM_2 \n",
       "                                         56 \n",
       "                CD4+ naive T-cells_FANTOM_3 \n",
       "                                          9 \n",
       "                  CD4+ naive T-cells_HPCA_1 \n",
       "                                         35 \n",
       "                  CD4+ naive T-cells_HPCA_2 \n",
       "                                         20 \n",
       "                  CD4+ naive T-cells_HPCA_3 \n",
       "                                         24 \n",
       "                  CD4+ naive T-cells_IRIS_1 \n",
       "                                         17 \n",
       "                  CD4+ naive T-cells_IRIS_2 \n",
       "                                         12 \n",
       "                  CD4+ naive T-cells_IRIS_3 \n",
       "                                         47 \n",
       "           CD4+ naive T-cells_NOVERSHTERN_1 \n",
       "                                         39 \n",
       "           CD4+ naive T-cells_NOVERSHTERN_2 \n",
       "                                          9 \n",
       "           CD4+ naive T-cells_NOVERSHTERN_3 \n",
       "                                         15 \n",
       "                   CD4+ T-cells_BLUEPRINT_1 \n",
       "                                         34 \n",
       "                   CD4+ T-cells_BLUEPRINT_2 \n",
       "                                         67 \n",
       "                   CD4+ T-cells_BLUEPRINT_3 \n",
       "                                         29 \n",
       "                      CD4+ T-cells_FANTOM_1 \n",
       "                                         26 \n",
       "                      CD4+ T-cells_FANTOM_2 \n",
       "                                         13 \n",
       "                      CD4+ T-cells_FANTOM_3 \n",
       "                                         77 \n",
       "                        CD4+ T-cells_HPCA_1 \n",
       "                                         37 \n",
       "                        CD4+ T-cells_HPCA_2 \n",
       "                                         30 \n",
       "                        CD4+ T-cells_HPCA_3 \n",
       "                                         35 \n",
       "                       CD4+ Tcm_BLUEPRINT_1 \n",
       "                                         43 \n",
       "                       CD4+ Tcm_BLUEPRINT_2 \n",
       "                                         39 \n",
       "                       CD4+ Tcm_BLUEPRINT_3 \n",
       "                                         87 \n",
       "                            CD4+ Tcm_HPCA_1 \n",
       "                                         56 \n",
       "                            CD4+ Tcm_HPCA_2 \n",
       "                                         77 \n",
       "                            CD4+ Tcm_HPCA_3 \n",
       "                                         37 \n",
       "                     CD4+ Tcm_NOVERSHTERN_1 \n",
       "                                         22 \n",
       "                     CD4+ Tcm_NOVERSHTERN_2 \n",
       "                                         19 \n",
       "                     CD4+ Tcm_NOVERSHTERN_3 \n",
       "                                         58 \n",
       "                       CD4+ Tem_BLUEPRINT_1 \n",
       "                                         10 \n",
       "                       CD4+ Tem_BLUEPRINT_2 \n",
       "                                         10 \n",
       "                       CD4+ Tem_BLUEPRINT_3 \n",
       "                                         22 \n",
       "                            CD4+ Tem_HPCA_1 \n",
       "                                        139 \n",
       "                            CD4+ Tem_HPCA_2 \n",
       "                                         53 \n",
       "                            CD4+ Tem_HPCA_3 \n",
       "                                         10 \n",
       "                     CD4+ Tem_NOVERSHTERN_1 \n",
       "                                         44 \n",
       "                     CD4+ Tem_NOVERSHTERN_2 \n",
       "                                         15 \n",
       "                     CD4+ Tem_NOVERSHTERN_3 \n",
       "                                         15 \n",
       "                  CD8+ naive T-cells_HPCA_1 \n",
       "                                         62 \n",
       "                  CD8+ naive T-cells_HPCA_2 \n",
       "                                         28 \n",
       "                  CD8+ naive T-cells_HPCA_3 \n",
       "                                         29 \n",
       "                   CD8+ T-cells_BLUEPRINT_1 \n",
       "                                         30 \n",
       "                   CD8+ T-cells_BLUEPRINT_2 \n",
       "                                         52 \n",
       "                   CD8+ T-cells_BLUEPRINT_3 \n",
       "                                         21 \n",
       "                      CD8+ T-cells_FANTOM_1 \n",
       "                                         52 \n",
       "                      CD8+ T-cells_FANTOM_2 \n",
       "                                         12 \n",
       "                      CD8+ T-cells_FANTOM_3 \n",
       "                                         40 \n",
       "                        CD8+ T-cells_HPCA_1 \n",
       "                                         11 \n",
       "                        CD8+ T-cells_HPCA_2 \n",
       "                                         22 \n",
       "                        CD8+ T-cells_HPCA_3 \n",
       "                                         25 \n",
       "                        CD8+ T-cells_IRIS_1 \n",
       "                                         10 \n",
       "                        CD8+ T-cells_IRIS_2 \n",
       "                                          9 \n",
       "                        CD8+ T-cells_IRIS_3 \n",
       "                                         17 \n",
       "                 CD8+ T-cells_NOVERSHTERN_1 \n",
       "                                         30 \n",
       "                 CD8+ T-cells_NOVERSHTERN_2 \n",
       "                                         11 \n",
       "                 CD8+ T-cells_NOVERSHTERN_3 \n",
       "                                         40 \n",
       "                       CD8+ Tcm_BLUEPRINT_1 \n",
       "                                          9 \n",
       "                       CD8+ Tcm_BLUEPRINT_2 \n",
       "                                         40 \n",
       "                       CD8+ Tcm_BLUEPRINT_3 \n",
       "                                         16 \n",
       "                            CD8+ Tcm_HPCA_1 \n",
       "                                         23 \n",
       "                            CD8+ Tcm_HPCA_2 \n",
       "                                         10 \n",
       "                            CD8+ Tcm_HPCA_3 \n",
       "                                         53 \n",
       "                     CD8+ Tcm_NOVERSHTERN_1 \n",
       "                                         30 \n",
       "                     CD8+ Tcm_NOVERSHTERN_2 \n",
       "                                         24 \n",
       "                     CD8+ Tcm_NOVERSHTERN_3 \n",
       "                                         10 \n",
       "                       CD8+ Tem_BLUEPRINT_1 \n",
       "                                         10 \n",
       "                       CD8+ Tem_BLUEPRINT_2 \n",
       "                                        144 \n",
       "                       CD8+ Tem_BLUEPRINT_3 \n",
       "                                         64 \n",
       "                            CD8+ Tem_HPCA_1 \n",
       "                                        168 \n",
       "                            CD8+ Tem_HPCA_2 \n",
       "                                        162 \n",
       "                            CD8+ Tem_HPCA_3 \n",
       "                                         41 \n",
       "                     CD8+ Tem_NOVERSHTERN_1 \n",
       "                                         25 \n",
       "                     CD8+ Tem_NOVERSHTERN_2 \n",
       "                                         20 \n",
       "                     CD8+ Tem_NOVERSHTERN_3 \n",
       "                                         22 \n",
       "                                 cDC_HPCA_1 \n",
       "                                         14 \n",
       "                                 cDC_HPCA_2 \n",
       "                                         12 \n",
       "                                 cDC_HPCA_3 \n",
       "                                         11 \n",
       "                          cDC_NOVERSHTERN_1 \n",
       "                                         13 \n",
       "                          cDC_NOVERSHTERN_2 \n",
       "                                         12 \n",
       "                          cDC_NOVERSHTERN_3 \n",
       "                                         20 \n",
       "  Class-switched memory B-cells_BLUEPRINT_1 \n",
       "                                         12 \n",
       "  Class-switched memory B-cells_BLUEPRINT_2 \n",
       "                                         28 \n",
       "  Class-switched memory B-cells_BLUEPRINT_3 \n",
       "                                         20 \n",
       "Class-switched memory B-cells_NOVERSHTERN_1 \n",
       "                                         16 \n",
       "Class-switched memory B-cells_NOVERSHTERN_2 \n",
       "                                         14 \n",
       "Class-switched memory B-cells_NOVERSHTERN_3 \n",
       "                                         14 \n",
       "                             DC_BLUEPRINT_1 \n",
       "                                          8 \n",
       "                             DC_BLUEPRINT_2 \n",
       "                                          9 \n",
       "                             DC_BLUEPRINT_3 \n",
       "                                          8 \n",
       "                                DC_FANTOM_1 \n",
       "                                         14 \n",
       "                                DC_FANTOM_2 \n",
       "                                         63 \n",
       "                                DC_FANTOM_3 \n",
       "                                         21 \n",
       "                                  DC_HPCA_1 \n",
       "                                         11 \n",
       "                                  DC_HPCA_2 \n",
       "                                         11 \n",
       "                                  DC_HPCA_3 \n",
       "                                          8 \n",
       "                                  DC_IRIS_1 \n",
       "                                          8 \n",
       "                                  DC_IRIS_2 \n",
       "                                         31 \n",
       "                                  DC_IRIS_3 \n",
       "                                         17 \n",
       "                    Eosinophils_BLUEPRINT_1 \n",
       "                                         18 \n",
       "                    Eosinophils_BLUEPRINT_2 \n",
       "                                         15 \n",
       "                    Eosinophils_BLUEPRINT_3 \n",
       "                                         46 \n",
       "                       Eosinophils_FANTOM_1 \n",
       "                                         38 \n",
       "                       Eosinophils_FANTOM_2 \n",
       "                                         34 \n",
       "                       Eosinophils_FANTOM_3 \n",
       "                                         44 \n",
       "                  Eosinophils_NOVERSHTERN_1 \n",
       "                                         16 \n",
       "                  Eosinophils_NOVERSHTERN_2 \n",
       "                                         13 \n",
       "                  Eosinophils_NOVERSHTERN_3 \n",
       "                                         15 \n",
       "                                 iDC_HPCA_1 \n",
       "                                         11 \n",
       "                                 iDC_HPCA_2 \n",
       "                                         10 \n",
       "                                 iDC_HPCA_3 \n",
       "                                          8 \n",
       "                 Macrophages M1_BLUEPRINT_1 \n",
       "                                         10 \n",
       "                 Macrophages M1_BLUEPRINT_2 \n",
       "                                          9 \n",
       "                 Macrophages M1_BLUEPRINT_3 \n",
       "                                        106 \n",
       "                    Macrophages M1_FANTOM_1 \n",
       "                                         55 \n",
       "                    Macrophages M1_FANTOM_2 \n",
       "                                         89 \n",
       "                    Macrophages M1_FANTOM_3 \n",
       "                                         82 \n",
       "                 Macrophages M2_BLUEPRINT_1 \n",
       "                                         96 \n",
       "                 Macrophages M2_BLUEPRINT_2 \n",
       "                                         10 \n",
       "                 Macrophages M2_BLUEPRINT_3 \n",
       "                                         38 \n",
       "                      Macrophages M2_HPCA_1 \n",
       "                                         75 \n",
       "                      Macrophages M2_HPCA_2 \n",
       "                                         15 \n",
       "                      Macrophages M2_HPCA_3 \n",
       "                                          8 \n",
       "                    Macrophages_BLUEPRINT_1 \n",
       "                                         69 \n",
       "                    Macrophages_BLUEPRINT_2 \n",
       "                                        111 \n",
       "                    Macrophages_BLUEPRINT_3 \n",
       "                                         85 \n",
       "                       Macrophages_FANTOM_1 \n",
       "                                         17 \n",
       "                       Macrophages_FANTOM_2 \n",
       "                                         35 \n",
       "                       Macrophages_FANTOM_3 \n",
       "                                         57 \n",
       "                         Macrophages_HPCA_1 \n",
       "                                        123 \n",
       "                         Macrophages_HPCA_2 \n",
       "                                         78 \n",
       "                         Macrophages_HPCA_3 \n",
       "                                        114 \n",
       "                         Macrophages_IRIS_1 \n",
       "                                         37 \n",
       "                         Macrophages_IRIS_2 \n",
       "                                         79 \n",
       "                         Macrophages_IRIS_3 \n",
       "                                         17 \n",
       "                        Mast cells_FANTOM_1 \n",
       "                                        125 \n",
       "                        Mast cells_FANTOM_2 \n",
       "                                         99 \n",
       "                        Mast cells_FANTOM_3 \n",
       "                                         68 \n",
       "                 Memory B-cells_BLUEPRINT_1 \n",
       "                                        144 \n",
       "                 Memory B-cells_BLUEPRINT_2 \n",
       "                                         67 \n",
       "                 Memory B-cells_BLUEPRINT_3 \n",
       "                                         70 \n",
       "                      Memory B-cells_HPCA_1 \n",
       "                                         19 \n",
       "                      Memory B-cells_HPCA_2 \n",
       "                                         39 \n",
       "                      Memory B-cells_HPCA_3 \n",
       "                                         14 \n",
       "                      Memory B-cells_IRIS_1 \n",
       "                                         14 \n",
       "                      Memory B-cells_IRIS_2 \n",
       "                                         19 \n",
       "                      Memory B-cells_IRIS_3 \n",
       "                                         12 \n",
       "                      Monocytes_BLUEPRINT_1 \n",
       "                                         10 \n",
       "                      Monocytes_BLUEPRINT_2 \n",
       "                                         17 \n",
       "                      Monocytes_BLUEPRINT_3 \n",
       "                                         12 \n",
       "                         Monocytes_FANTOM_1 \n",
       "                                         80 \n",
       "                         Monocytes_FANTOM_2 \n",
       "                                        179 \n",
       "                         Monocytes_FANTOM_3 \n",
       "                                        163 \n",
       "                           Monocytes_HPCA_1 \n",
       "                                         19 \n",
       "                           Monocytes_HPCA_2 \n",
       "                                         15 \n",
       "                           Monocytes_HPCA_3 \n",
       "                                        134 \n",
       "                           Monocytes_IRIS_1 \n",
       "                                         18 \n",
       "                           Monocytes_IRIS_2 \n",
       "                                         10 \n",
       "                           Monocytes_IRIS_3 \n",
       "                                         35 \n",
       "                    Monocytes_NOVERSHTERN_1 \n",
       "                                         91 \n",
       "                    Monocytes_NOVERSHTERN_2 \n",
       "                                         14 \n",
       "                    Monocytes_NOVERSHTERN_3 \n",
       "                                         13 \n",
       "                  naive B-cells_BLUEPRINT_1 \n",
       "                                          8 \n",
       "                  naive B-cells_BLUEPRINT_2 \n",
       "                                         18 \n",
       "                  naive B-cells_BLUEPRINT_3 \n",
       "                                          9 \n",
       "                       naive B-cells_HPCA_1 \n",
       "                                         28 \n",
       "                       naive B-cells_HPCA_2 \n",
       "                                         29 \n",
       "                       naive B-cells_HPCA_3 \n",
       "                                         38 \n",
       "                naive B-cells_NOVERSHTERN_1 \n",
       "                                         47 \n",
       "                naive B-cells_NOVERSHTERN_2 \n",
       "                                         38 \n",
       "                naive B-cells_NOVERSHTERN_3 \n",
       "                                         69 \n",
       "                    Neutrophils_BLUEPRINT_1 \n",
       "                                          9 \n",
       "                    Neutrophils_BLUEPRINT_2 \n",
       "                                          8 \n",
       "                    Neutrophils_BLUEPRINT_3 \n",
       "                                          8 \n",
       "                       Neutrophils_FANTOM_1 \n",
       "                                         42 \n",
       "                       Neutrophils_FANTOM_2 \n",
       "                                         60 \n",
       "                       Neutrophils_FANTOM_3 \n",
       "                                         36 \n",
       "                         Neutrophils_HPCA_1 \n",
       "                                          9 \n",
       "                         Neutrophils_HPCA_2 \n",
       "                                          9 \n",
       "                         Neutrophils_HPCA_3 \n",
       "                                         12 \n",
       "                         Neutrophils_IRIS_1 \n",
       "                                          8 \n",
       "                         Neutrophils_IRIS_2 \n",
       "                                         15 \n",
       "                         Neutrophils_IRIS_3 \n",
       "                                         17 \n",
       "                       NK cells_BLUEPRINT_1 \n",
       "                                         13 \n",
       "                       NK cells_BLUEPRINT_2 \n",
       "                                         36 \n",
       "                       NK cells_BLUEPRINT_3 \n",
       "                                         25 \n",
       "                          NK cells_FANTOM_1 \n",
       "                                         15 \n",
       "                          NK cells_FANTOM_2 \n",
       "                                          8 \n",
       "                          NK cells_FANTOM_3 \n",
       "                                          8 \n",
       "                            NK cells_HPCA_1 \n",
       "                                         51 \n",
       "                            NK cells_HPCA_2 \n",
       "                                         37 \n",
       "                            NK cells_HPCA_3 \n",
       "                                         39 \n",
       "                            NK cells_IRIS_1 \n",
       "                                         13 \n",
       "                            NK cells_IRIS_2 \n",
       "                                         19 \n",
       "                            NK cells_IRIS_3 \n",
       "                                          8 \n",
       "                     NK cells_NOVERSHTERN_1 \n",
       "                                          8 \n",
       "                     NK cells_NOVERSHTERN_2 \n",
       "                                          9 \n",
       "                     NK cells_NOVERSHTERN_3 \n",
       "                                          9 \n",
       "                               pDC_FANTOM_1 \n",
       "                                         12 \n",
       "                               pDC_FANTOM_2 \n",
       "                                         11 \n",
       "                               pDC_FANTOM_3 \n",
       "                                         25 \n",
       "                          pDC_NOVERSHTERN_1 \n",
       "                                          9 \n",
       "                          pDC_NOVERSHTERN_2 \n",
       "                                         10 \n",
       "                          pDC_NOVERSHTERN_3 \n",
       "                                         13 \n",
       "                   Plasma cells_BLUEPRINT_1 \n",
       "                                          9 \n",
       "                   Plasma cells_BLUEPRINT_2 \n",
       "                                        134 \n",
       "                   Plasma cells_BLUEPRINT_3 \n",
       "                                        177 \n",
       "                        Plasma cells_HPCA_1 \n",
       "                                         22 \n",
       "                        Plasma cells_HPCA_2 \n",
       "                                         38 \n",
       "                        Plasma cells_HPCA_3 \n",
       "                                         17 \n",
       "                        Plasma cells_IRIS_1 \n",
       "                                          9 \n",
       "                        Plasma cells_IRIS_2 \n",
       "                                         41 \n",
       "                        Plasma cells_IRIS_3 \n",
       "                                         19 \n",
       "                         pro B-cells_HPCA_1 \n",
       "                                         55 \n",
       "                         pro B-cells_HPCA_2 \n",
       "                                        156 \n",
       "                         pro B-cells_HPCA_3 \n",
       "                                         51 \n",
       "                  pro B-cells_NOVERSHTERN_1 \n",
       "                                         60 \n",
       "                  pro B-cells_NOVERSHTERN_2 \n",
       "                                         13 \n",
       "                  pro B-cells_NOVERSHTERN_3 \n",
       "                                         15 \n",
       "                           Tgd cells_HPCA_1 \n",
       "                                        153 \n",
       "                           Tgd cells_HPCA_2 \n",
       "                                        164 \n",
       "                           Tgd cells_HPCA_3 \n",
       "                                        183 \n",
       "                           Th1 cells_IRIS_1 \n",
       "                                         24 \n",
       "                           Th1 cells_IRIS_2 \n",
       "                                         10 \n",
       "                           Th1 cells_IRIS_3 \n",
       "                                         17 \n",
       "                           Th2 cells_IRIS_1 \n",
       "                                          8 \n",
       "                           Th2 cells_IRIS_2 \n",
       "                                          9 \n",
       "                           Th2 cells_IRIS_3 \n",
       "                                         16 \n",
       "                          Tregs_BLUEPRINT_1 \n",
       "                                         22 \n",
       "                          Tregs_BLUEPRINT_2 \n",
       "                                          9 \n",
       "                          Tregs_BLUEPRINT_3 \n",
       "                                         15 \n",
       "                             Tregs_FANTOM_1 \n",
       "                                          9 \n",
       "                             Tregs_FANTOM_2 \n",
       "                                         15 \n",
       "                             Tregs_FANTOM_3 \n",
       "                                         21 \n",
       "                               Tregs_HPCA_1 \n",
       "                                         12 \n",
       "                               Tregs_HPCA_2 \n",
       "                                         10 \n",
       "                               Tregs_HPCA_3 \n",
       "                                         11 "
      ]
     },
     "metadata": {},
     "output_type": "display_data"
    }
   ],
   "source": [
    "table(genesets_xcell$Celltype)"
   ]
  },
  {
   "cell_type": "code",
   "execution_count": 107,
   "metadata": {},
   "outputs": [],
   "source": [
    "genesets_xcell$Cellgroup <- NA\n",
    "\n",
    "genesets_xcell$Cellgroup[ grepl(\"aDC_\",genesets_xcell$Celltype)] <- \"DC\" #activated dc\n",
    "genesets_xcell$Cellgroup[ grepl(\"cDC_\",genesets_xcell$Celltype)] <- \"DC\" #conventional dc\n",
    "genesets_xcell$Cellgroup[ grepl(\"DC_\",genesets_xcell$Celltype)] <- \"DC\"\n",
    "genesets_xcell$Cellgroup[ grepl(\"iDC_\",genesets_xcell$Celltype)] <- \"DC\" #immature dc\n",
    "genesets_xcell$Cellgroup[ grepl(\"pDC_\",genesets_xcell$Celltype)] <- \"DC\" #plasmacytoid dc\n",
    "\n",
    "genesets_xcell$Cellgroup[ grepl(\"B-cells\",genesets_xcell$Celltype)] <- \"B_cells\"\n",
    "genesets_xcell$Cellgroup[ grepl(\"Plasma cells\",genesets_xcell$Celltype)] <- \"B_cells\"\n",
    "\n",
    "genesets_xcell$Cellgroup[ grepl(\"Basophils\",genesets_xcell$Celltype)] <- \"Granulocytes\"\n",
    "genesets_xcell$Cellgroup[ grepl(\"Eosinophils\",genesets_xcell$Celltype)] <- \"Granulocytes\"\n",
    "genesets_xcell$Cellgroup[ grepl(\"Neutrophils\",genesets_xcell$Celltype)] <- \"Granulocytes\"\n",
    "\n",
    "genesets_xcell$Cellgroup[ grepl(\"Tregs\",genesets_xcell$Celltype)] <- \"T_cells\"\n",
    "genesets_xcell$Cellgroup[ grepl(\"Th2\",genesets_xcell$Celltype)] <- \"T_cells\"\n",
    "genesets_xcell$Cellgroup[ grepl(\"Th1\",genesets_xcell$Celltype)] <- \"T_cells\"\n",
    "genesets_xcell$Cellgroup[ grepl(\"CD4+\",genesets_xcell$Celltype)] <- \"T_cells\"\n",
    "genesets_xcell$Cellgroup[ grepl(\"Tgd\",genesets_xcell$Celltype)] <- \"T_cells\"\n",
    "genesets_xcell$Cellgroup[ grepl(\"CD8+\",genesets_xcell$Celltype)] <- \"T_cells\"\n",
    "\n",
    "genesets_xcell$Cellgroup[ grepl(\"Macrophages\",genesets_xcell$Celltype)] <- \"Macrophages\"\n",
    "genesets_xcell$Cellgroup[ grepl(\"Mast cells\",genesets_xcell$Celltype)] <- \"Myeloid_cells\"\n",
    "genesets_xcell$Cellgroup[ grepl(\"Monocytes\",genesets_xcell$Celltype)] <- \"Monocytes\"\n",
    "genesets_xcell$Cellgroup[ grepl(\"NK cells\",genesets_xcell$Celltype)] <- \"NK_cells\""
   ]
  },
  {
   "cell_type": "code",
   "execution_count": 108,
   "metadata": {},
   "outputs": [
    {
     "data": {
      "text/plain": [
       "\n",
       "      B_cells            DC  Granulocytes   Macrophages     Monocytes \n",
       "         1909           718           783          1415           810 \n",
       "Myeloid_cells      NK_cells       T_cells          <NA> \n",
       "          292           298          3881             0 "
      ]
     },
     "metadata": {},
     "output_type": "display_data"
    }
   ],
   "source": [
    "table(genesets_xcell$Cellgroup, useNA = \"always\")"
   ]
  },
  {
   "cell_type": "code",
   "execution_count": 109,
   "metadata": {},
   "outputs": [],
   "source": [
    "genesets_xcell$GeneSignature <- NA\n",
    "\n",
    "genesets_xcell$GeneSignature[ grepl(\"HPCA_1\",genesets_xcell$Celltype)] <- \"HPCA_1\" \n",
    "genesets_xcell$GeneSignature[ grepl(\"HPCA_2\",genesets_xcell$Celltype)] <- \"HPCA_2\" \n",
    "genesets_xcell$GeneSignature[ grepl(\"HPCA_3\",genesets_xcell$Celltype)] <- \"HPCA_3\"\n",
    "\n",
    "genesets_xcell$GeneSignature[ grepl(\"IRIS_1\",genesets_xcell$Celltype)] <- \"IRIS_1\" \n",
    "genesets_xcell$GeneSignature[ grepl(\"IRIS_2\",genesets_xcell$Celltype)] <- \"IRIS_2\" \n",
    "genesets_xcell$GeneSignature[ grepl(\"IRIS_3\",genesets_xcell$Celltype)] <- \"IRIS_3\"\n",
    "\n",
    "genesets_xcell$GeneSignature[ grepl(\"FANTOM_1\",genesets_xcell$Celltype)] <- \"FANTOM_1\" \n",
    "genesets_xcell$GeneSignature[ grepl(\"FANTOM_2\",genesets_xcell$Celltype)] <- \"FANTOM_2\" \n",
    "genesets_xcell$GeneSignature[ grepl(\"FANTOM_3\",genesets_xcell$Celltype)] <- \"FANTOM_3\"\n",
    "\n",
    "genesets_xcell$GeneSignature[ grepl(\"NOVERSHTERN_1\",genesets_xcell$Celltype)] <- \"NOVERSHTERN_1\" \n",
    "genesets_xcell$GeneSignature[ grepl(\"NOVERSHTERN_2\",genesets_xcell$Celltype)] <- \"NOVERSHTERN_2\" \n",
    "genesets_xcell$GeneSignature[ grepl(\"NOVERSHTERN_3\",genesets_xcell$Celltype)] <- \"NOVERSHTERN_3\"\n",
    "\n",
    "genesets_xcell$GeneSignature[ grepl(\"BLUEPRINT_1\",genesets_xcell$Celltype)] <- \"BLUEPRINT_1\" \n",
    "genesets_xcell$GeneSignature[ grepl(\"BLUEPRINT_2\",genesets_xcell$Celltype)] <- \"BLUEPRINT_2\" \n",
    "genesets_xcell$GeneSignature[ grepl(\"BLUEPRINT_3\",genesets_xcell$Celltype)] <- \"BLUEPRINT_3\""
   ]
  },
  {
   "cell_type": "code",
   "execution_count": 110,
   "metadata": {},
   "outputs": [],
   "source": [
    "# make a wide table with gene signatures\n",
    "genesets_xcell <- tidyr::spread(genesets_xcell, GeneSignature, Cellgroup)"
   ]
  },
  {
   "cell_type": "code",
   "execution_count": 111,
   "metadata": {},
   "outputs": [
    {
     "data": {
      "text/html": [
       "<style>\n",
       ".list-inline {list-style: none; margin:0; padding: 0}\n",
       ".list-inline>li {display: inline-block}\n",
       ".list-inline>li:not(:last-child)::after {content: \"\\00b7\"; padding: 0 .5ex}\n",
       "</style>\n",
       "<ol class=list-inline><li>10106</li><li>17</li></ol>\n"
      ],
      "text/latex": [
       "\\begin{enumerate*}\n",
       "\\item 10106\n",
       "\\item 17\n",
       "\\end{enumerate*}\n"
      ],
      "text/markdown": [
       "1. 10106\n",
       "2. 17\n",
       "\n",
       "\n"
      ],
      "text/plain": [
       "[1] 10106    17"
      ]
     },
     "metadata": {},
     "output_type": "display_data"
    }
   ],
   "source": [
    "dim(genesets_xcell)"
   ]
  },
  {
   "cell_type": "markdown",
   "metadata": {},
   "source": [
    "# Compile all celltypes"
   ]
  },
  {
   "cell_type": "code",
   "execution_count": 112,
   "metadata": {},
   "outputs": [
    {
     "data": {
      "text/html": [
       "791"
      ],
      "text/latex": [
       "791"
      ],
      "text/markdown": [
       "791"
      ],
      "text/plain": [
       "[1] 791"
      ]
     },
     "metadata": {},
     "output_type": "display_data"
    }
   ],
   "source": [
    "length(immune_genes_nontumour)"
   ]
  },
  {
   "cell_type": "code",
   "execution_count": 113,
   "metadata": {},
   "outputs": [],
   "source": [
    "# Make a df to hold all celltypes across studies\n",
    "celltype_df <- as.data.frame(immune_genes_nontumour)"
   ]
  },
  {
   "cell_type": "code",
   "execution_count": 114,
   "metadata": {},
   "outputs": [],
   "source": [
    "colnames(celltype_df) <- \"Gene\""
   ]
  },
  {
   "cell_type": "code",
   "execution_count": 115,
   "metadata": {},
   "outputs": [],
   "source": [
    "celltype_df$Immunexut <- immune_immunexut_expressed$Cellgroup[match(celltype_df$Gene, immune_immunexut_expressed$Gene)]\n",
    "celltype_df$Blood_PA <- gene_cells_blood_sep_specific$Cellgroup[match(celltype_df$Gene, gene_cells_blood_sep_specific$Gene)]\n",
    "celltype_df$MCPcounter <- mcp_sig$Cellgroup[match(celltype_df$Gene, mcp_sig$Gene)]\n",
    "celltype_df$CIBERSORT <- lm22_celltypes$Cellgroup[match(celltype_df$Gene, lm22_celltypes$Gene)]\n",
    "celltype_df$Quantiseq <- quantiseq_celltypes$Cellgroup[match(celltype_df$Gene, quantiseq_celltypes$Gene)]\n",
    "celltype_df$EPIC <- genesets_epic$Cellgroup[match(celltype_df$Gene, genesets_epic$Gene)]"
   ]
  },
  {
   "cell_type": "code",
   "execution_count": 116,
   "metadata": {},
   "outputs": [],
   "source": [
    "xcell_match <- genesets_xcell[match(celltype_df$Gene, genesets_xcell$Gene),]"
   ]
  },
  {
   "cell_type": "code",
   "execution_count": 117,
   "metadata": {},
   "outputs": [],
   "source": [
    "celltype_df <- cbind.data.frame(celltype_df, xcell_match[,3:17])"
   ]
  },
  {
   "cell_type": "code",
   "execution_count": 118,
   "metadata": {},
   "outputs": [],
   "source": [
    "rownames(celltype_df) <- NULL"
   ]
  },
  {
   "cell_type": "code",
   "execution_count": 119,
   "metadata": {},
   "outputs": [
    {
     "data": {
      "text/html": [
       "<table class=\"dataframe\">\n",
       "<caption>A data.frame: 6 × 22</caption>\n",
       "<thead>\n",
       "\t<tr><th></th><th scope=col>Gene</th><th scope=col>Immunexut</th><th scope=col>Blood_PA</th><th scope=col>MCPcounter</th><th scope=col>CIBERSORT</th><th scope=col>Quantiseq</th><th scope=col>EPIC</th><th scope=col>BLUEPRINT_1</th><th scope=col>BLUEPRINT_2</th><th scope=col>BLUEPRINT_3</th><th scope=col>⋯</th><th scope=col>FANTOM_3</th><th scope=col>HPCA_1</th><th scope=col>HPCA_2</th><th scope=col>HPCA_3</th><th scope=col>IRIS_1</th><th scope=col>IRIS_2</th><th scope=col>IRIS_3</th><th scope=col>NOVERSHTERN_1</th><th scope=col>NOVERSHTERN_2</th><th scope=col>NOVERSHTERN_3</th></tr>\n",
       "\t<tr><th></th><th scope=col>&lt;chr&gt;</th><th scope=col>&lt;chr&gt;</th><th scope=col>&lt;chr&gt;</th><th scope=col>&lt;chr&gt;</th><th scope=col>&lt;chr&gt;</th><th scope=col>&lt;chr&gt;</th><th scope=col>&lt;chr&gt;</th><th scope=col>&lt;chr&gt;</th><th scope=col>&lt;chr&gt;</th><th scope=col>&lt;chr&gt;</th><th scope=col>⋯</th><th scope=col>&lt;chr&gt;</th><th scope=col>&lt;chr&gt;</th><th scope=col>&lt;chr&gt;</th><th scope=col>&lt;chr&gt;</th><th scope=col>&lt;chr&gt;</th><th scope=col>&lt;chr&gt;</th><th scope=col>&lt;chr&gt;</th><th scope=col>&lt;chr&gt;</th><th scope=col>&lt;chr&gt;</th><th scope=col>&lt;chr&gt;</th></tr>\n",
       "</thead>\n",
       "<tbody>\n",
       "\t<tr><th scope=row>1</th><td>AC004813.1</td><td>NA</td><td>NA</td><td>NA</td><td>NA</td><td>NA</td><td>NA</td><td>NA</td><td>NA</td><td>NA</td><td>⋯</td><td>NA</td><td>NA</td><td>NA</td><td>NA</td><td>NA</td><td>NA</td><td>NA</td><td>NA</td><td>NA</td><td>NA</td></tr>\n",
       "\t<tr><th scope=row>2</th><td>AC006449.1</td><td>NA</td><td>NA</td><td>NA</td><td>NA</td><td>NA</td><td>NA</td><td>NA</td><td>NA</td><td>NA</td><td>⋯</td><td>NA</td><td>NA</td><td>NA</td><td>NA</td><td>NA</td><td>NA</td><td>NA</td><td>NA</td><td>NA</td><td>NA</td></tr>\n",
       "\t<tr><th scope=row>3</th><td>AC006449.2</td><td>NA</td><td>NA</td><td>NA</td><td>NA</td><td>NA</td><td>NA</td><td>NA</td><td>NA</td><td>NA</td><td>⋯</td><td>NA</td><td>NA</td><td>NA</td><td>NA</td><td>NA</td><td>NA</td><td>NA</td><td>NA</td><td>NA</td><td>NA</td></tr>\n",
       "\t<tr><th scope=row>4</th><td>AC007325.1</td><td>NA</td><td>NA</td><td>NA</td><td>NA</td><td>NA</td><td>NA</td><td>NA</td><td>NA</td><td>NA</td><td>⋯</td><td>NA</td><td>NA</td><td>NA</td><td>NA</td><td>NA</td><td>NA</td><td>NA</td><td>NA</td><td>NA</td><td>NA</td></tr>\n",
       "\t<tr><th scope=row>5</th><td>AC007326.1</td><td>NA</td><td>NA</td><td>NA</td><td>NA</td><td>NA</td><td>NA</td><td>NA</td><td>NA</td><td>NA</td><td>⋯</td><td>NA</td><td>NA</td><td>NA</td><td>NA</td><td>NA</td><td>NA</td><td>NA</td><td>NA</td><td>NA</td><td>NA</td></tr>\n",
       "\t<tr><th scope=row>6</th><td>AC009950.1</td><td>NA</td><td>NA</td><td>NA</td><td>NA</td><td>NA</td><td>NA</td><td>NA</td><td>NA</td><td>NA</td><td>⋯</td><td>NA</td><td>NA</td><td>NA</td><td>NA</td><td>NA</td><td>NA</td><td>NA</td><td>NA</td><td>NA</td><td>NA</td></tr>\n",
       "</tbody>\n",
       "</table>\n"
      ],
      "text/latex": [
       "A data.frame: 6 × 22\n",
       "\\begin{tabular}{r|lllllllllllllllllllll}\n",
       "  & Gene & Immunexut & Blood\\_PA & MCPcounter & CIBERSORT & Quantiseq & EPIC & BLUEPRINT\\_1 & BLUEPRINT\\_2 & BLUEPRINT\\_3 & ⋯ & FANTOM\\_3 & HPCA\\_1 & HPCA\\_2 & HPCA\\_3 & IRIS\\_1 & IRIS\\_2 & IRIS\\_3 & NOVERSHTERN\\_1 & NOVERSHTERN\\_2 & NOVERSHTERN\\_3\\\\\n",
       "  & <chr> & <chr> & <chr> & <chr> & <chr> & <chr> & <chr> & <chr> & <chr> & <chr> & ⋯ & <chr> & <chr> & <chr> & <chr> & <chr> & <chr> & <chr> & <chr> & <chr> & <chr>\\\\\n",
       "\\hline\n",
       "\t1 & AC004813.1 & NA & NA & NA & NA & NA & NA & NA & NA & NA & ⋯ & NA & NA & NA & NA & NA & NA & NA & NA & NA & NA\\\\\n",
       "\t2 & AC006449.1 & NA & NA & NA & NA & NA & NA & NA & NA & NA & ⋯ & NA & NA & NA & NA & NA & NA & NA & NA & NA & NA\\\\\n",
       "\t3 & AC006449.2 & NA & NA & NA & NA & NA & NA & NA & NA & NA & ⋯ & NA & NA & NA & NA & NA & NA & NA & NA & NA & NA\\\\\n",
       "\t4 & AC007325.1 & NA & NA & NA & NA & NA & NA & NA & NA & NA & ⋯ & NA & NA & NA & NA & NA & NA & NA & NA & NA & NA\\\\\n",
       "\t5 & AC007326.1 & NA & NA & NA & NA & NA & NA & NA & NA & NA & ⋯ & NA & NA & NA & NA & NA & NA & NA & NA & NA & NA\\\\\n",
       "\t6 & AC009950.1 & NA & NA & NA & NA & NA & NA & NA & NA & NA & ⋯ & NA & NA & NA & NA & NA & NA & NA & NA & NA & NA\\\\\n",
       "\\end{tabular}\n"
      ],
      "text/markdown": [
       "\n",
       "A data.frame: 6 × 22\n",
       "\n",
       "| <!--/--> | Gene &lt;chr&gt; | Immunexut &lt;chr&gt; | Blood_PA &lt;chr&gt; | MCPcounter &lt;chr&gt; | CIBERSORT &lt;chr&gt; | Quantiseq &lt;chr&gt; | EPIC &lt;chr&gt; | BLUEPRINT_1 &lt;chr&gt; | BLUEPRINT_2 &lt;chr&gt; | BLUEPRINT_3 &lt;chr&gt; | ⋯ ⋯ | FANTOM_3 &lt;chr&gt; | HPCA_1 &lt;chr&gt; | HPCA_2 &lt;chr&gt; | HPCA_3 &lt;chr&gt; | IRIS_1 &lt;chr&gt; | IRIS_2 &lt;chr&gt; | IRIS_3 &lt;chr&gt; | NOVERSHTERN_1 &lt;chr&gt; | NOVERSHTERN_2 &lt;chr&gt; | NOVERSHTERN_3 &lt;chr&gt; |\n",
       "|---|---|---|---|---|---|---|---|---|---|---|---|---|---|---|---|---|---|---|---|---|---|\n",
       "| 1 | AC004813.1 | NA | NA | NA | NA | NA | NA | NA | NA | NA | ⋯ | NA | NA | NA | NA | NA | NA | NA | NA | NA | NA |\n",
       "| 2 | AC006449.1 | NA | NA | NA | NA | NA | NA | NA | NA | NA | ⋯ | NA | NA | NA | NA | NA | NA | NA | NA | NA | NA |\n",
       "| 3 | AC006449.2 | NA | NA | NA | NA | NA | NA | NA | NA | NA | ⋯ | NA | NA | NA | NA | NA | NA | NA | NA | NA | NA |\n",
       "| 4 | AC007325.1 | NA | NA | NA | NA | NA | NA | NA | NA | NA | ⋯ | NA | NA | NA | NA | NA | NA | NA | NA | NA | NA |\n",
       "| 5 | AC007326.1 | NA | NA | NA | NA | NA | NA | NA | NA | NA | ⋯ | NA | NA | NA | NA | NA | NA | NA | NA | NA | NA |\n",
       "| 6 | AC009950.1 | NA | NA | NA | NA | NA | NA | NA | NA | NA | ⋯ | NA | NA | NA | NA | NA | NA | NA | NA | NA | NA |\n",
       "\n"
      ],
      "text/plain": [
       "  Gene       Immunexut Blood_PA MCPcounter CIBERSORT Quantiseq EPIC BLUEPRINT_1\n",
       "1 AC004813.1 NA        NA       NA         NA        NA        NA   NA         \n",
       "2 AC006449.1 NA        NA       NA         NA        NA        NA   NA         \n",
       "3 AC006449.2 NA        NA       NA         NA        NA        NA   NA         \n",
       "4 AC007325.1 NA        NA       NA         NA        NA        NA   NA         \n",
       "5 AC007326.1 NA        NA       NA         NA        NA        NA   NA         \n",
       "6 AC009950.1 NA        NA       NA         NA        NA        NA   NA         \n",
       "  BLUEPRINT_2 BLUEPRINT_3 ⋯ FANTOM_3 HPCA_1 HPCA_2 HPCA_3 IRIS_1 IRIS_2 IRIS_3\n",
       "1 NA          NA          ⋯ NA       NA     NA     NA     NA     NA     NA    \n",
       "2 NA          NA          ⋯ NA       NA     NA     NA     NA     NA     NA    \n",
       "3 NA          NA          ⋯ NA       NA     NA     NA     NA     NA     NA    \n",
       "4 NA          NA          ⋯ NA       NA     NA     NA     NA     NA     NA    \n",
       "5 NA          NA          ⋯ NA       NA     NA     NA     NA     NA     NA    \n",
       "6 NA          NA          ⋯ NA       NA     NA     NA     NA     NA     NA    \n",
       "  NOVERSHTERN_1 NOVERSHTERN_2 NOVERSHTERN_3\n",
       "1 NA            NA            NA           \n",
       "2 NA            NA            NA           \n",
       "3 NA            NA            NA           \n",
       "4 NA            NA            NA           \n",
       "5 NA            NA            NA           \n",
       "6 NA            NA            NA           "
      ]
     },
     "metadata": {},
     "output_type": "display_data"
    }
   ],
   "source": [
    "head(celltype_df)"
   ]
  },
  {
   "cell_type": "code",
   "execution_count": 120,
   "metadata": {},
   "outputs": [
    {
     "data": {
      "text/html": [
       "<style>\n",
       ".list-inline {list-style: none; margin:0; padding: 0}\n",
       ".list-inline>li {display: inline-block}\n",
       ".list-inline>li:not(:last-child)::after {content: \"\\00b7\"; padding: 0 .5ex}\n",
       "</style>\n",
       "<ol class=list-inline><li>791</li><li>22</li></ol>\n"
      ],
      "text/latex": [
       "\\begin{enumerate*}\n",
       "\\item 791\n",
       "\\item 22\n",
       "\\end{enumerate*}\n"
      ],
      "text/markdown": [
       "1. 791\n",
       "2. 22\n",
       "\n",
       "\n"
      ],
      "text/plain": [
       "[1] 791  22"
      ]
     },
     "metadata": {},
     "output_type": "display_data"
    }
   ],
   "source": [
    "dim(celltype_df)"
   ]
  },
  {
   "cell_type": "code",
   "execution_count": 121,
   "metadata": {},
   "outputs": [
    {
     "data": {
      "text/plain": [
       "   Min. 1st Qu.  Median    Mean 3rd Qu.    Max. \n",
       "  14.00   19.00   20.00   19.68   21.00   21.00 "
      ]
     },
     "metadata": {},
     "output_type": "display_data"
    }
   ],
   "source": [
    "#count NAs\n",
    "summary(rowSums(is.na(celltype_df[,2:22])))"
   ]
  },
  {
   "cell_type": "code",
   "execution_count": 122,
   "metadata": {},
   "outputs": [],
   "source": [
    "genes_cells_freq <- data.frame(Gene=character(),Celltype=character(),\n",
    "                               Freq=character(),stringsAsFactors=FALSE) "
   ]
  },
  {
   "cell_type": "code",
   "execution_count": 123,
   "metadata": {
    "scrolled": true
   },
   "outputs": [
    {
     "name": "stderr",
     "output_type": "stream",
     "text": [
      "AC004813.1\n",
      "\n",
      "AC006449.1\n",
      "\n",
      "AC006449.2\n",
      "\n",
      "AC007325.1\n",
      "\n",
      "AC007326.1\n",
      "\n",
      "AC009950.1\n",
      "\n",
      "AC017081.1\n",
      "\n",
      "AC018755.18\n",
      "\n",
      "AC073333.1\n",
      "\n",
      "AC073657.1\n",
      "\n",
      "AC090154.1\n",
      "\n",
      "AC104534.3\n",
      "\n",
      "AC107081.1\n",
      "\n",
      "AC110602.1\n",
      "\n",
      "AC131263.1\n",
      "\n",
      "AC241585.2\n",
      "\n",
      "ACSL5\n",
      "\n",
      "ADAM28\n",
      "\n"
     ]
    },
    {
     "name": "stdout",
     "output_type": "stream",
     "text": [
      "    Gene Celltype Freq\n",
      "1 ADAM28  B_cells    3\n"
     ]
    },
    {
     "name": "stderr",
     "output_type": "stream",
     "text": [
      "ADCY7\n",
      "\n",
      "ADGRE1\n",
      "\n"
     ]
    },
    {
     "name": "stdout",
     "output_type": "stream",
     "text": [
      "    Gene     Celltype Freq\n",
      "1 ADGRE1 Granulocytes    1\n",
      "2 ADGRE1    Monocytes    1\n"
     ]
    },
    {
     "name": "stderr",
     "output_type": "stream",
     "text": [
      "ADGRE2\n",
      "\n"
     ]
    },
    {
     "name": "stdout",
     "output_type": "stream",
     "text": [
      "    Gene  Celltype Freq\n",
      "1 ADGRE2 Monocytes    1\n"
     ]
    },
    {
     "name": "stderr",
     "output_type": "stream",
     "text": [
      "ADGRE3\n",
      "\n"
     ]
    },
    {
     "name": "stdout",
     "output_type": "stream",
     "text": [
      "    Gene     Celltype Freq\n",
      "1 ADGRE3 Granulocytes    2\n"
     ]
    },
    {
     "name": "stderr",
     "output_type": "stream",
     "text": [
      "ADGRG5\n",
      "\n"
     ]
    },
    {
     "name": "stdout",
     "output_type": "stream",
     "text": [
      "    Gene     Celltype Freq\n",
      "1 ADGRG5           DC    1\n",
      "2 ADGRG5 Granulocytes    1\n"
     ]
    },
    {
     "name": "stderr",
     "output_type": "stream",
     "text": [
      "AHSA2\n",
      "\n",
      "AL365202.1\n",
      "\n",
      "AL591806.1\n",
      "\n",
      "AL596220.1\n",
      "\n",
      "AMICA1\n",
      "\n",
      "APBB1IP\n",
      "\n"
     ]
    },
    {
     "name": "stdout",
     "output_type": "stream",
     "text": [
      "     Gene     Celltype Freq\n",
      "1 APBB1IP Granulocytes    1\n"
     ]
    },
    {
     "name": "stderr",
     "output_type": "stream",
     "text": [
      "APOBEC3A\n",
      "\n"
     ]
    },
    {
     "name": "stdout",
     "output_type": "stream",
     "text": [
      "      Gene     Celltype Freq\n",
      "1 APOBEC3A Granulocytes    1\n",
      "2 APOBEC3A    Monocytes    2\n"
     ]
    },
    {
     "name": "stderr",
     "output_type": "stream",
     "text": [
      "APOBEC3D\n",
      "\n",
      "APOBEC3G\n",
      "\n"
     ]
    },
    {
     "name": "stdout",
     "output_type": "stream",
     "text": [
      "      Gene Celltype Freq\n",
      "1 APOBEC3G NK_cells    1\n"
     ]
    },
    {
     "name": "stderr",
     "output_type": "stream",
     "text": [
      "APOBEC3H\n",
      "\n",
      "AREG\n",
      "\n",
      "ARG1\n",
      "\n"
     ]
    },
    {
     "name": "stdout",
     "output_type": "stream",
     "text": [
      "  Gene     Celltype Freq\n",
      "1 ARG1      B_cells    1\n",
      "2 ARG1 Granulocytes    2\n"
     ]
    },
    {
     "name": "stderr",
     "output_type": "stream",
     "text": [
      "ARHGAP25\n",
      "\n"
     ]
    },
    {
     "name": "stdout",
     "output_type": "stream",
     "text": [
      "      Gene     Celltype Freq\n",
      "1 ARHGAP25 Granulocytes    1\n"
     ]
    },
    {
     "name": "stderr",
     "output_type": "stream",
     "text": [
      "ARHGAP27\n",
      "\n",
      "ARHGAP30\n",
      "\n",
      "ASGR2\n",
      "\n"
     ]
    },
    {
     "name": "stdout",
     "output_type": "stream",
     "text": [
      "   Gene  Celltype Freq\n",
      "1 ASGR2 Monocytes    2\n"
     ]
    },
    {
     "name": "stderr",
     "output_type": "stream",
     "text": [
      "ASTE1\n",
      "\n"
     ]
    },
    {
     "name": "stdout",
     "output_type": "stream",
     "text": [
      "   Gene Celltype Freq\n",
      "1 ASTE1  T_cells    1\n"
     ]
    },
    {
     "name": "stderr",
     "output_type": "stream",
     "text": [
      "ATHL1\n",
      "\n"
     ]
    },
    {
     "name": "stdout",
     "output_type": "stream",
     "text": [
      "   Gene Celltype Freq\n",
      "1 ATHL1  T_cells    1\n"
     ]
    },
    {
     "name": "stderr",
     "output_type": "stream",
     "text": [
      "ATP6V0D2\n",
      "\n",
      "BANK1\n",
      "\n"
     ]
    },
    {
     "name": "stdout",
     "output_type": "stream",
     "text": [
      "   Gene Celltype Freq\n",
      "1 BANK1  B_cells    6\n"
     ]
    },
    {
     "name": "stderr",
     "output_type": "stream",
     "text": [
      "BATF\n",
      "\n",
      "BIN2\n",
      "\n"
     ]
    },
    {
     "name": "stdout",
     "output_type": "stream",
     "text": [
      "  Gene Celltype Freq\n",
      "1 BIN2  T_cells    1\n"
     ]
    },
    {
     "name": "stderr",
     "output_type": "stream",
     "text": [
      "BLNK\n",
      "\n"
     ]
    },
    {
     "name": "stdout",
     "output_type": "stream",
     "text": [
      "  Gene Celltype Freq\n",
      "1 BLNK  B_cells    1\n",
      "2 BLNK       DC    1\n"
     ]
    },
    {
     "name": "stderr",
     "output_type": "stream",
     "text": [
      "BTLA\n",
      "\n"
     ]
    },
    {
     "name": "stdout",
     "output_type": "stream",
     "text": [
      "  Gene Celltype Freq\n",
      "1 BTLA  B_cells    2\n"
     ]
    },
    {
     "name": "stderr",
     "output_type": "stream",
     "text": [
      "C10orf54\n",
      "\n",
      "C11orf45\n",
      "\n"
     ]
    },
    {
     "name": "stdout",
     "output_type": "stream",
     "text": [
      "      Gene Celltype Freq\n",
      "1 C11orf45       DC    1\n"
     ]
    },
    {
     "name": "stderr",
     "output_type": "stream",
     "text": [
      "C15orf57\n",
      "\n",
      "C17orf62\n",
      "\n",
      "C18orf8\n",
      "\n",
      "C19orf35\n",
      "\n",
      "C1orf186\n",
      "\n"
     ]
    },
    {
     "name": "stdout",
     "output_type": "stream",
     "text": [
      "      Gene Celltype Freq\n",
      "1 C1orf186       DC    1\n"
     ]
    },
    {
     "name": "stderr",
     "output_type": "stream",
     "text": [
      "C2\n",
      "\n"
     ]
    },
    {
     "name": "stdout",
     "output_type": "stream",
     "text": [
      "  Gene  Celltype Freq\n",
      "1   C2 Monocytes    2\n"
     ]
    },
    {
     "name": "stderr",
     "output_type": "stream",
     "text": [
      "C5AR2\n",
      "\n"
     ]
    },
    {
     "name": "stdout",
     "output_type": "stream",
     "text": [
      "   Gene     Celltype Freq\n",
      "1 C5AR2 Granulocytes    4\n"
     ]
    },
    {
     "name": "stderr",
     "output_type": "stream",
     "text": [
      "C5orf56\n",
      "\n",
      "CAMP\n",
      "\n"
     ]
    },
    {
     "name": "stdout",
     "output_type": "stream",
     "text": [
      "  Gene     Celltype Freq\n",
      "1 CAMP Granulocytes    3\n",
      "2 CAMP     NK_cells    1\n"
     ]
    },
    {
     "name": "stderr",
     "output_type": "stream",
     "text": [
      "CARD17\n",
      "\n"
     ]
    },
    {
     "name": "stdout",
     "output_type": "stream",
     "text": [
      "    Gene Celltype Freq\n",
      "1 CARD17  T_cells    1\n"
     ]
    },
    {
     "name": "stderr",
     "output_type": "stream",
     "text": [
      "CARD9\n",
      "\n"
     ]
    },
    {
     "name": "stdout",
     "output_type": "stream",
     "text": [
      "   Gene  Celltype Freq\n",
      "1 CARD9 Monocytes    2\n"
     ]
    },
    {
     "name": "stderr",
     "output_type": "stream",
     "text": [
      "CASP5\n",
      "\n"
     ]
    },
    {
     "name": "stdout",
     "output_type": "stream",
     "text": [
      "   Gene    Celltype Freq\n",
      "1 CASP5          DC    1\n",
      "2 CASP5 Macrophages    1\n",
      "3 CASP5   Monocytes    1\n"
     ]
    },
    {
     "name": "stderr",
     "output_type": "stream",
     "text": [
      "CASP8\n",
      "\n"
     ]
    },
    {
     "name": "stdout",
     "output_type": "stream",
     "text": [
      "   Gene Celltype Freq\n",
      "1 CASP8  T_cells    1\n"
     ]
    },
    {
     "name": "stderr",
     "output_type": "stream",
     "text": [
      "CASS4\n",
      "\n"
     ]
    },
    {
     "name": "stdout",
     "output_type": "stream",
     "text": [
      "   Gene     Celltype Freq\n",
      "1 CASS4 Granulocytes    2\n"
     ]
    },
    {
     "name": "stderr",
     "output_type": "stream",
     "text": [
      "CCDC125\n",
      "\n"
     ]
    },
    {
     "name": "stdout",
     "output_type": "stream",
     "text": [
      "     Gene     Celltype Freq\n",
      "1 CCDC125 Granulocytes    2\n"
     ]
    },
    {
     "name": "stderr",
     "output_type": "stream",
     "text": [
      "CCL22\n",
      "\n"
     ]
    },
    {
     "name": "stdout",
     "output_type": "stream",
     "text": [
      "   Gene Celltype Freq\n",
      "1 CCL22       DC    2\n"
     ]
    },
    {
     "name": "stderr",
     "output_type": "stream",
     "text": [
      "CCL3L3\n",
      "\n"
     ]
    },
    {
     "name": "stdout",
     "output_type": "stream",
     "text": [
      "    Gene     Celltype Freq\n",
      "1 CCL3L3 Granulocytes    1\n"
     ]
    },
    {
     "name": "stderr",
     "output_type": "stream",
     "text": [
      "CCL4\n",
      "\n"
     ]
    },
    {
     "name": "stdout",
     "output_type": "stream",
     "text": [
      "  Gene Celltype Freq\n",
      "1 CCL4       DC    1\n",
      "2 CCL4 NK_cells    2\n",
      "3 CCL4  T_cells    1\n"
     ]
    },
    {
     "name": "stderr",
     "output_type": "stream",
     "text": [
      "CCL5\n",
      "\n"
     ]
    },
    {
     "name": "stdout",
     "output_type": "stream",
     "text": [
      "  Gene Celltype Freq\n",
      "1 CCL5  T_cells    3\n"
     ]
    },
    {
     "name": "stderr",
     "output_type": "stream",
     "text": [
      "CCR2\n",
      "\n"
     ]
    },
    {
     "name": "stdout",
     "output_type": "stream",
     "text": [
      "  Gene     Celltype Freq\n",
      "1 CCR2           DC    1\n",
      "2 CCR2 Granulocytes    1\n",
      "3 CCR2    Monocytes    1\n",
      "4 CCR2      T_cells    1\n"
     ]
    },
    {
     "name": "stderr",
     "output_type": "stream",
     "text": [
      "CCR3\n",
      "\n"
     ]
    },
    {
     "name": "stdout",
     "output_type": "stream",
     "text": [
      "  Gene     Celltype Freq\n",
      "1 CCR3 Granulocytes    4\n"
     ]
    },
    {
     "name": "stderr",
     "output_type": "stream",
     "text": [
      "CCR4\n",
      "\n"
     ]
    },
    {
     "name": "stdout",
     "output_type": "stream",
     "text": [
      "  Gene Celltype Freq\n",
      "1 CCR4  T_cells    4\n"
     ]
    },
    {
     "name": "stderr",
     "output_type": "stream",
     "text": [
      "CCR6\n",
      "\n"
     ]
    },
    {
     "name": "stdout",
     "output_type": "stream",
     "text": [
      "  Gene Celltype Freq\n",
      "1 CCR6  B_cells    1\n",
      "2 CCR6  T_cells    2\n"
     ]
    },
    {
     "name": "stderr",
     "output_type": "stream",
     "text": [
      "CCRL2\n",
      "\n"
     ]
    },
    {
     "name": "stdout",
     "output_type": "stream",
     "text": [
      "   Gene    Celltype Freq\n",
      "1 CCRL2 Macrophages    1\n"
     ]
    },
    {
     "name": "stderr",
     "output_type": "stream",
     "text": [
      "CD101\n",
      "\n"
     ]
    },
    {
     "name": "stdout",
     "output_type": "stream",
     "text": [
      "   Gene     Celltype Freq\n",
      "1 CD101 Granulocytes    2\n"
     ]
    },
    {
     "name": "stderr",
     "output_type": "stream",
     "text": [
      "CD160\n",
      "\n"
     ]
    },
    {
     "name": "stdout",
     "output_type": "stream",
     "text": [
      "   Gene Celltype Freq\n",
      "1 CD160 NK_cells    3\n",
      "2 CD160  T_cells    2\n"
     ]
    },
    {
     "name": "stderr",
     "output_type": "stream",
     "text": [
      "CD180\n",
      "\n"
     ]
    },
    {
     "name": "stdout",
     "output_type": "stream",
     "text": [
      "   Gene    Celltype Freq\n",
      "1 CD180     B_cells    2\n",
      "2 CD180 Macrophages    1\n"
     ]
    },
    {
     "name": "stderr",
     "output_type": "stream",
     "text": [
      "CD19\n",
      "\n"
     ]
    },
    {
     "name": "stdout",
     "output_type": "stream",
     "text": [
      "  Gene Celltype Freq\n",
      "1 CD19  B_cells    6\n"
     ]
    },
    {
     "name": "stderr",
     "output_type": "stream",
     "text": [
      "CD1C\n",
      "\n"
     ]
    },
    {
     "name": "stdout",
     "output_type": "stream",
     "text": [
      "  Gene Celltype Freq\n",
      "1 CD1C       DC    3\n"
     ]
    },
    {
     "name": "stderr",
     "output_type": "stream",
     "text": [
      "CD209\n",
      "\n"
     ]
    },
    {
     "name": "stdout",
     "output_type": "stream",
     "text": [
      "   Gene    Celltype Freq\n",
      "1 CD209          DC    1\n",
      "2 CD209 Macrophages    1\n"
     ]
    },
    {
     "name": "stderr",
     "output_type": "stream",
     "text": [
      "CD226\n",
      "\n"
     ]
    },
    {
     "name": "stdout",
     "output_type": "stream",
     "text": [
      "   Gene Celltype Freq\n",
      "1 CD226  T_cells    1\n"
     ]
    },
    {
     "name": "stderr",
     "output_type": "stream",
     "text": [
      "CD244\n",
      "\n"
     ]
    },
    {
     "name": "stdout",
     "output_type": "stream",
     "text": [
      "   Gene     Celltype Freq\n",
      "1 CD244 Granulocytes    2\n",
      "2 CD244    Monocytes    1\n",
      "3 CD244     NK_cells    1\n"
     ]
    },
    {
     "name": "stderr",
     "output_type": "stream",
     "text": [
      "CD247\n",
      "\n"
     ]
    },
    {
     "name": "stdout",
     "output_type": "stream",
     "text": [
      "   Gene Celltype Freq\n",
      "1 CD247 NK_cells    2\n",
      "2 CD247  T_cells    1\n"
     ]
    },
    {
     "name": "stderr",
     "output_type": "stream",
     "text": [
      "CD27\n",
      "\n"
     ]
    },
    {
     "name": "stdout",
     "output_type": "stream",
     "text": [
      "  Gene Celltype Freq\n",
      "1 CD27  B_cells    1\n",
      "2 CD27  T_cells    2\n"
     ]
    },
    {
     "name": "stderr",
     "output_type": "stream",
     "text": [
      "CD28\n",
      "\n"
     ]
    },
    {
     "name": "stdout",
     "output_type": "stream",
     "text": [
      "  Gene Celltype Freq\n",
      "1 CD28  T_cells    5\n"
     ]
    },
    {
     "name": "stderr",
     "output_type": "stream",
     "text": [
      "CD300A\n",
      "\n"
     ]
    },
    {
     "name": "stdout",
     "output_type": "stream",
     "text": [
      "    Gene Celltype Freq\n",
      "1 CD300A NK_cells    1\n",
      "2 CD300A  T_cells    1\n"
     ]
    },
    {
     "name": "stderr",
     "output_type": "stream",
     "text": [
      "CD300C\n",
      "\n"
     ]
    },
    {
     "name": "stdout",
     "output_type": "stream",
     "text": [
      "    Gene    Celltype Freq\n",
      "1 CD300C          DC    1\n",
      "2 CD300C Macrophages    1\n",
      "3 CD300C   Monocytes    1\n"
     ]
    },
    {
     "name": "stderr",
     "output_type": "stream",
     "text": [
      "CD300LB\n",
      "\n"
     ]
    },
    {
     "name": "stdout",
     "output_type": "stream",
     "text": [
      "     Gene     Celltype Freq\n",
      "1 CD300LB Granulocytes    1\n",
      "2 CD300LB    Monocytes    1\n"
     ]
    },
    {
     "name": "stderr",
     "output_type": "stream",
     "text": [
      "CD33\n",
      "\n"
     ]
    },
    {
     "name": "stdout",
     "output_type": "stream",
     "text": [
      "  Gene      Celltype Freq\n",
      "1 CD33            DC    1\n",
      "2 CD33     Monocytes    2\n",
      "3 CD33 Myeloid_cells    1\n"
     ]
    },
    {
     "name": "stderr",
     "output_type": "stream",
     "text": [
      "CD3D\n",
      "\n"
     ]
    },
    {
     "name": "stdout",
     "output_type": "stream",
     "text": [
      "  Gene Celltype Freq\n",
      "1 CD3D  T_cells    4\n"
     ]
    },
    {
     "name": "stderr",
     "output_type": "stream",
     "text": [
      "CD3E\n",
      "\n"
     ]
    },
    {
     "name": "stdout",
     "output_type": "stream",
     "text": [
      "  Gene Celltype Freq\n",
      "1 CD3E  T_cells    2\n"
     ]
    },
    {
     "name": "stderr",
     "output_type": "stream",
     "text": [
      "CD3G\n",
      "\n"
     ]
    },
    {
     "name": "stdout",
     "output_type": "stream",
     "text": [
      "  Gene Celltype Freq\n",
      "1 CD3G  T_cells    4\n"
     ]
    },
    {
     "name": "stderr",
     "output_type": "stream",
     "text": [
      "CD48\n",
      "\n"
     ]
    },
    {
     "name": "stdout",
     "output_type": "stream",
     "text": [
      "  Gene Celltype Freq\n",
      "1 CD48  T_cells    1\n"
     ]
    },
    {
     "name": "stderr",
     "output_type": "stream",
     "text": [
      "CD52\n",
      "\n"
     ]
    },
    {
     "name": "stdout",
     "output_type": "stream",
     "text": [
      "  Gene Celltype Freq\n",
      "1 CD52  T_cells    1\n"
     ]
    },
    {
     "name": "stderr",
     "output_type": "stream",
     "text": [
      "CD69\n",
      "\n"
     ]
    },
    {
     "name": "stdout",
     "output_type": "stream",
     "text": [
      "  Gene Celltype Freq\n",
      "1 CD69  B_cells    1\n"
     ]
    },
    {
     "name": "stderr",
     "output_type": "stream",
     "text": [
      "CD79A\n",
      "\n"
     ]
    },
    {
     "name": "stdout",
     "output_type": "stream",
     "text": [
      "   Gene Celltype Freq\n",
      "1 CD79A  B_cells    5\n"
     ]
    },
    {
     "name": "stderr",
     "output_type": "stream",
     "text": [
      "CD84\n",
      "\n"
     ]
    },
    {
     "name": "stdout",
     "output_type": "stream",
     "text": [
      "  Gene    Celltype Freq\n",
      "1 CD84 Macrophages    1\n"
     ]
    },
    {
     "name": "stderr",
     "output_type": "stream",
     "text": [
      "CD8B\n",
      "\n"
     ]
    },
    {
     "name": "stdout",
     "output_type": "stream",
     "text": [
      "  Gene Celltype Freq\n",
      "1 CD8B  T_cells    6\n"
     ]
    },
    {
     "name": "stderr",
     "output_type": "stream",
     "text": [
      "CD96\n",
      "\n"
     ]
    },
    {
     "name": "stdout",
     "output_type": "stream",
     "text": [
      "  Gene Celltype Freq\n",
      "1 CD96  T_cells    2\n"
     ]
    },
    {
     "name": "stderr",
     "output_type": "stream",
     "text": [
      "CEACAM4\n",
      "\n"
     ]
    },
    {
     "name": "stdout",
     "output_type": "stream",
     "text": [
      "     Gene     Celltype Freq\n",
      "1 CEACAM4 Granulocytes    2\n",
      "2 CEACAM4    Monocytes    1\n"
     ]
    },
    {
     "name": "stderr",
     "output_type": "stream",
     "text": [
      "CEP295\n",
      "\n",
      "CFP\n",
      "\n"
     ]
    },
    {
     "name": "stdout",
     "output_type": "stream",
     "text": [
      "  Gene  Celltype Freq\n",
      "1  CFP Monocytes    2\n"
     ]
    },
    {
     "name": "stderr",
     "output_type": "stream",
     "text": [
      "CH507-42P11.8\n",
      "\n",
      "CH507-9B2.9\n",
      "\n",
      "CHURC1-FNTB\n",
      "\n",
      "CIDEB\n",
      "\n",
      "CIITA\n",
      "\n"
     ]
    },
    {
     "name": "stdout",
     "output_type": "stream",
     "text": [
      "   Gene Celltype Freq\n",
      "1 CIITA  B_cells    1\n"
     ]
    },
    {
     "name": "stderr",
     "output_type": "stream",
     "text": [
      "CKLF-CMTM1\n",
      "\n",
      "CLEC12A\n",
      "\n"
     ]
    },
    {
     "name": "stdout",
     "output_type": "stream",
     "text": [
      "     Gene     Celltype Freq\n",
      "1 CLEC12A Granulocytes    1\n",
      "2 CLEC12A    Monocytes    1\n"
     ]
    },
    {
     "name": "stderr",
     "output_type": "stream",
     "text": [
      "CLEC17A\n",
      "\n"
     ]
    },
    {
     "name": "stdout",
     "output_type": "stream",
     "text": [
      "     Gene Celltype Freq\n",
      "1 CLEC17A  B_cells    2\n"
     ]
    },
    {
     "name": "stderr",
     "output_type": "stream",
     "text": [
      "CLEC1B\n",
      "\n"
     ]
    },
    {
     "name": "stdout",
     "output_type": "stream",
     "text": [
      "    Gene     Celltype Freq\n",
      "1 CLEC1B Granulocytes    1\n"
     ]
    },
    {
     "name": "stderr",
     "output_type": "stream",
     "text": [
      "CLEC4C\n",
      "\n"
     ]
    },
    {
     "name": "stdout",
     "output_type": "stream",
     "text": [
      "    Gene Celltype Freq\n",
      "1 CLEC4C       DC    2\n"
     ]
    },
    {
     "name": "stderr",
     "output_type": "stream",
     "text": [
      "CLEC4D\n",
      "\n",
      "CLEC4E\n",
      "\n"
     ]
    },
    {
     "name": "stdout",
     "output_type": "stream",
     "text": [
      "    Gene     Celltype Freq\n",
      "1 CLEC4E Granulocytes    2\n"
     ]
    },
    {
     "name": "stderr",
     "output_type": "stream",
     "text": [
      "CLEC7A\n",
      "\n"
     ]
    },
    {
     "name": "stdout",
     "output_type": "stream",
     "text": [
      "    Gene     Celltype Freq\n",
      "1 CLEC7A Granulocytes    3\n",
      "2 CLEC7A    Monocytes    1\n"
     ]
    },
    {
     "name": "stderr",
     "output_type": "stream",
     "text": [
      "CLECL1\n",
      "\n"
     ]
    },
    {
     "name": "stdout",
     "output_type": "stream",
     "text": [
      "    Gene Celltype Freq\n",
      "1 CLECL1  B_cells    1\n"
     ]
    },
    {
     "name": "stderr",
     "output_type": "stream",
     "text": [
      "CLIC3\n",
      "\n"
     ]
    },
    {
     "name": "stdout",
     "output_type": "stream",
     "text": [
      "   Gene Celltype Freq\n",
      "1 CLIC3       DC    2\n",
      "2 CLIC3 NK_cells    1\n"
     ]
    },
    {
     "name": "stderr",
     "output_type": "stream",
     "text": [
      "CNR2\n",
      "\n"
     ]
    },
    {
     "name": "stdout",
     "output_type": "stream",
     "text": [
      "  Gene Celltype Freq\n",
      "1 CNR2  B_cells    2\n"
     ]
    },
    {
     "name": "stderr",
     "output_type": "stream",
     "text": [
      "CR1\n",
      "\n"
     ]
    },
    {
     "name": "stdout",
     "output_type": "stream",
     "text": [
      "  Gene     Celltype Freq\n",
      "1  CR1      B_cells    1\n",
      "2  CR1 Granulocytes    2\n"
     ]
    },
    {
     "name": "stderr",
     "output_type": "stream",
     "text": [
      "CRTAM\n",
      "\n"
     ]
    },
    {
     "name": "stdout",
     "output_type": "stream",
     "text": [
      "   Gene Celltype Freq\n",
      "1 CRTAM NK_cells    1\n",
      "2 CRTAM  T_cells    3\n"
     ]
    },
    {
     "name": "stderr",
     "output_type": "stream",
     "text": [
      "CSF2RA\n",
      "\n",
      "CST7\n",
      "\n"
     ]
    },
    {
     "name": "stdout",
     "output_type": "stream",
     "text": [
      "  Gene Celltype Freq\n",
      "1 CST7 NK_cells    1\n",
      "2 CST7  T_cells    2\n"
     ]
    },
    {
     "name": "stderr",
     "output_type": "stream",
     "text": [
      "CTD-2207O23.3\n",
      "\n",
      "CTD-2370N5.3\n",
      "\n",
      "CTD-3088G3.8\n",
      "\n",
      "CTSW\n",
      "\n"
     ]
    },
    {
     "name": "stdout",
     "output_type": "stream",
     "text": [
      "  Gene Celltype Freq\n",
      "1 CTSW NK_cells    2\n",
      "2 CTSW  T_cells    1\n"
     ]
    },
    {
     "name": "stderr",
     "output_type": "stream",
     "text": [
      "CXCR1\n",
      "\n"
     ]
    },
    {
     "name": "stdout",
     "output_type": "stream",
     "text": [
      "   Gene     Celltype Freq\n",
      "1 CXCR1 Granulocytes    6\n"
     ]
    },
    {
     "name": "stderr",
     "output_type": "stream",
     "text": [
      "CXCR2\n",
      "\n"
     ]
    },
    {
     "name": "stdout",
     "output_type": "stream",
     "text": [
      "   Gene     Celltype Freq\n",
      "1 CXCR2 Granulocytes    5\n"
     ]
    },
    {
     "name": "stderr",
     "output_type": "stream",
     "text": [
      "CXCR5\n",
      "\n"
     ]
    },
    {
     "name": "stdout",
     "output_type": "stream",
     "text": [
      "   Gene Celltype Freq\n",
      "1 CXCR5  B_cells    3\n",
      "2 CXCR5  T_cells    1\n"
     ]
    },
    {
     "name": "stderr",
     "output_type": "stream",
     "text": [
      "CXCR6\n",
      "\n"
     ]
    },
    {
     "name": "stdout",
     "output_type": "stream",
     "text": [
      "   Gene Celltype Freq\n",
      "1 CXCR6  T_cells    4\n"
     ]
    },
    {
     "name": "stderr",
     "output_type": "stream",
     "text": [
      "CYP2S1\n",
      "\n"
     ]
    },
    {
     "name": "stdout",
     "output_type": "stream",
     "text": [
      "    Gene Celltype Freq\n",
      "1 CYP2S1       DC    1\n"
     ]
    },
    {
     "name": "stderr",
     "output_type": "stream",
     "text": [
      "CYSLTR2\n",
      "\n"
     ]
    },
    {
     "name": "stdout",
     "output_type": "stream",
     "text": [
      "     Gene     Celltype Freq\n",
      "1 CYSLTR2 Granulocytes    2\n"
     ]
    },
    {
     "name": "stderr",
     "output_type": "stream",
     "text": [
      "CYTH4\n",
      "\n"
     ]
    },
    {
     "name": "stdout",
     "output_type": "stream",
     "text": [
      "   Gene Celltype Freq\n",
      "1 CYTH4       DC    1\n"
     ]
    },
    {
     "name": "stderr",
     "output_type": "stream",
     "text": [
      "CYTIP\n",
      "\n",
      "DENND1C\n",
      "\n",
      "DNAJC25-GNG10\n",
      "\n"
     ]
    },
    {
     "name": "stdout",
     "output_type": "stream",
     "text": [
      "           Gene     Celltype Freq\n",
      "1 DNAJC25-GNG10 Granulocytes    1\n"
     ]
    },
    {
     "name": "stderr",
     "output_type": "stream",
     "text": [
      "DOCK2\n",
      "\n",
      "DOPEY2\n",
      "\n",
      "DPEP2\n",
      "\n"
     ]
    },
    {
     "name": "stdout",
     "output_type": "stream",
     "text": [
      "   Gene     Celltype Freq\n",
      "1 DPEP2 Granulocytes    2\n",
      "2 DPEP2      T_cells    1\n"
     ]
    },
    {
     "name": "stderr",
     "output_type": "stream",
     "text": [
      "EIF4E3\n",
      "\n"
     ]
    },
    {
     "name": "stdout",
     "output_type": "stream",
     "text": [
      "    Gene     Celltype Freq\n",
      "1 EIF4E3 Granulocytes    1\n"
     ]
    },
    {
     "name": "stderr",
     "output_type": "stream",
     "text": [
      "FAM105A\n",
      "\n",
      "FAM129A\n",
      "\n"
     ]
    },
    {
     "name": "stdout",
     "output_type": "stream",
     "text": [
      "     Gene     Celltype Freq\n",
      "1 FAM129A Granulocytes    1\n"
     ]
    },
    {
     "name": "stderr",
     "output_type": "stream",
     "text": [
      "FAM129C\n",
      "\n"
     ]
    },
    {
     "name": "stdout",
     "output_type": "stream",
     "text": [
      "     Gene Celltype Freq\n",
      "1 FAM129C       DC    1\n"
     ]
    },
    {
     "name": "stderr",
     "output_type": "stream",
     "text": [
      "FAM159A\n",
      "\n",
      "FAM177B\n",
      "\n"
     ]
    },
    {
     "name": "stdout",
     "output_type": "stream",
     "text": [
      "     Gene Celltype Freq\n",
      "1 FAM177B  B_cells    2\n"
     ]
    },
    {
     "name": "stderr",
     "output_type": "stream",
     "text": [
      "FAM46C\n",
      "\n"
     ]
    },
    {
     "name": "stdout",
     "output_type": "stream",
     "text": [
      "    Gene     Celltype Freq\n",
      "1 FAM46C      B_cells    1\n",
      "2 FAM46C Granulocytes    1\n",
      "3 FAM46C      T_cells    1\n"
     ]
    },
    {
     "name": "stderr",
     "output_type": "stream",
     "text": [
      "FAM78A\n",
      "\n",
      "FCAR\n",
      "\n"
     ]
    },
    {
     "name": "stdout",
     "output_type": "stream",
     "text": [
      "  Gene     Celltype Freq\n",
      "1 FCAR Granulocytes    2\n",
      "2 FCAR    Monocytes    1\n"
     ]
    },
    {
     "name": "stderr",
     "output_type": "stream",
     "text": [
      "FCER1A\n",
      "\n"
     ]
    },
    {
     "name": "stdout",
     "output_type": "stream",
     "text": [
      "    Gene      Celltype Freq\n",
      "1 FCER1A            DC    2\n",
      "2 FCER1A  Granulocytes    1\n",
      "3 FCER1A Myeloid_cells    1\n"
     ]
    },
    {
     "name": "stderr",
     "output_type": "stream",
     "text": [
      "FCGR1B\n",
      "\n"
     ]
    },
    {
     "name": "stdout",
     "output_type": "stream",
     "text": [
      "    Gene     Celltype Freq\n",
      "1 FCGR1B Granulocytes    1\n"
     ]
    },
    {
     "name": "stderr",
     "output_type": "stream",
     "text": [
      "FCGR3B\n",
      "\n"
     ]
    },
    {
     "name": "stdout",
     "output_type": "stream",
     "text": [
      "    Gene     Celltype Freq\n",
      "1 FCGR3B Granulocytes    5\n"
     ]
    },
    {
     "name": "stderr",
     "output_type": "stream",
     "text": [
      "FCMR\n",
      "\n"
     ]
    },
    {
     "name": "stdout",
     "output_type": "stream",
     "text": [
      "  Gene Celltype Freq\n",
      "1 FCMR  B_cells    1\n"
     ]
    },
    {
     "name": "stderr",
     "output_type": "stream",
     "text": [
      "FCN1\n",
      "\n"
     ]
    },
    {
     "name": "stdout",
     "output_type": "stream",
     "text": [
      "  Gene     Celltype Freq\n",
      "1 FCN1 Granulocytes    1\n",
      "2 FCN1    Monocytes    3\n"
     ]
    },
    {
     "name": "stderr",
     "output_type": "stream",
     "text": [
      "FCRL2\n",
      "\n"
     ]
    },
    {
     "name": "stdout",
     "output_type": "stream",
     "text": [
      "   Gene Celltype Freq\n",
      "1 FCRL2  B_cells    6\n"
     ]
    },
    {
     "name": "stderr",
     "output_type": "stream",
     "text": [
      "FCRL3\n",
      "\n"
     ]
    },
    {
     "name": "stdout",
     "output_type": "stream",
     "text": [
      "   Gene Celltype Freq\n",
      "1 FCRL3  B_cells    2\n"
     ]
    },
    {
     "name": "stderr",
     "output_type": "stream",
     "text": [
      "FCRL5\n",
      "\n"
     ]
    },
    {
     "name": "stdout",
     "output_type": "stream",
     "text": [
      "   Gene Celltype Freq\n",
      "1 FCRL5  B_cells    4\n"
     ]
    },
    {
     "name": "stderr",
     "output_type": "stream",
     "text": [
      "FFAR2\n",
      "\n"
     ]
    },
    {
     "name": "stdout",
     "output_type": "stream",
     "text": [
      "   Gene     Celltype Freq\n",
      "1 FFAR2 Granulocytes    4\n"
     ]
    },
    {
     "name": "stderr",
     "output_type": "stream",
     "text": [
      "FGD3\n",
      "\n",
      "FKSG52\n",
      "\n",
      "FKSG56\n",
      "\n",
      "FKSG61\n",
      "\n",
      "FKSG68\n",
      "\n",
      "FKSG70\n",
      "\n",
      "FOLR3\n",
      "\n"
     ]
    },
    {
     "name": "stdout",
     "output_type": "stream",
     "text": [
      "   Gene  Celltype Freq\n",
      "1 FOLR3 Monocytes    2\n"
     ]
    },
    {
     "name": "stderr",
     "output_type": "stream",
     "text": [
      "FOXP3\n",
      "\n"
     ]
    },
    {
     "name": "stdout",
     "output_type": "stream",
     "text": [
      "   Gene Celltype Freq\n",
      "1 FOXP3  T_cells    6\n"
     ]
    },
    {
     "name": "stderr",
     "output_type": "stream",
     "text": [
      "FPR2\n",
      "\n"
     ]
    },
    {
     "name": "stdout",
     "output_type": "stream",
     "text": [
      "  Gene     Celltype Freq\n",
      "1 FPR2 Granulocytes    4\n",
      "2 FPR2  Macrophages    1\n"
     ]
    },
    {
     "name": "stderr",
     "output_type": "stream",
     "text": [
      "FUT4\n",
      "\n",
      "FUT7\n",
      "\n"
     ]
    },
    {
     "name": "stdout",
     "output_type": "stream",
     "text": [
      "  Gene Celltype Freq\n",
      "1 FUT7       DC    2\n"
     ]
    },
    {
     "name": "stderr",
     "output_type": "stream",
     "text": [
      "GAB3\n",
      "\n",
      "GAPT\n",
      "\n"
     ]
    },
    {
     "name": "stdout",
     "output_type": "stream",
     "text": [
      "  Gene     Celltype Freq\n",
      "1 GAPT           DC    1\n",
      "2 GAPT Granulocytes    1\n"
     ]
    },
    {
     "name": "stderr",
     "output_type": "stream",
     "text": [
      "GFI1\n",
      "\n"
     ]
    },
    {
     "name": "stdout",
     "output_type": "stream",
     "text": [
      "  Gene      Celltype Freq\n",
      "1 GFI1 Myeloid_cells    1\n",
      "2 GFI1       T_cells    1\n"
     ]
    },
    {
     "name": "stderr",
     "output_type": "stream",
     "text": [
      "GHRL\n",
      "\n"
     ]
    },
    {
     "name": "stdout",
     "output_type": "stream",
     "text": [
      "  Gene Celltype Freq\n",
      "1 GHRL       DC    1\n"
     ]
    },
    {
     "name": "stderr",
     "output_type": "stream",
     "text": [
      "GNLY\n",
      "\n"
     ]
    },
    {
     "name": "stdout",
     "output_type": "stream",
     "text": [
      "  Gene     Celltype Freq\n",
      "1 GNLY Granulocytes    1\n",
      "2 GNLY     NK_cells    3\n",
      "3 GNLY      T_cells    1\n"
     ]
    },
    {
     "name": "stderr",
     "output_type": "stream",
     "text": [
      "GOLGA8N\n",
      "\n",
      "GPBAR1\n",
      "\n"
     ]
    },
    {
     "name": "stdout",
     "output_type": "stream",
     "text": [
      "    Gene  Celltype Freq\n",
      "1 GPBAR1 Monocytes    2\n"
     ]
    },
    {
     "name": "stderr",
     "output_type": "stream",
     "text": [
      "GPR132\n",
      "\n"
     ]
    },
    {
     "name": "stdout",
     "output_type": "stream",
     "text": [
      "    Gene Celltype Freq\n",
      "1 GPR132       DC    1\n"
     ]
    },
    {
     "name": "stderr",
     "output_type": "stream",
     "text": [
      "GPR141\n",
      "\n",
      "GPR174\n",
      "\n",
      "GPR183\n",
      "\n"
     ]
    },
    {
     "name": "stdout",
     "output_type": "stream",
     "text": [
      "    Gene     Celltype Freq\n",
      "1 GPR183 Granulocytes    2\n"
     ]
    },
    {
     "name": "stderr",
     "output_type": "stream",
     "text": [
      "GPR65\n",
      "\n"
     ]
    },
    {
     "name": "stdout",
     "output_type": "stream",
     "text": [
      "   Gene     Celltype Freq\n",
      "1 GPR65 Granulocytes    1\n",
      "2 GPR65     NK_cells    1\n",
      "3 GPR65      T_cells    1\n"
     ]
    },
    {
     "name": "stderr",
     "output_type": "stream",
     "text": [
      "GPR84\n",
      "\n",
      "GRAP2\n",
      "\n"
     ]
    },
    {
     "name": "stdout",
     "output_type": "stream",
     "text": [
      "   Gene Celltype Freq\n",
      "1 GRAP2  T_cells    3\n"
     ]
    },
    {
     "name": "stderr",
     "output_type": "stream",
     "text": [
      "GYLTL1B\n",
      "\n",
      "GZMA\n",
      "\n"
     ]
    },
    {
     "name": "stdout",
     "output_type": "stream",
     "text": [
      "  Gene Celltype Freq\n",
      "1 GZMA NK_cells    2\n",
      "2 GZMA  T_cells    1\n"
     ]
    },
    {
     "name": "stderr",
     "output_type": "stream",
     "text": [
      "GZMB\n",
      "\n"
     ]
    },
    {
     "name": "stdout",
     "output_type": "stream",
     "text": [
      "  Gene     Celltype Freq\n",
      "1 GZMB           DC    2\n",
      "2 GZMB Granulocytes    1\n",
      "3 GZMB     NK_cells    1\n"
     ]
    },
    {
     "name": "stderr",
     "output_type": "stream",
     "text": [
      "GZMH\n",
      "\n"
     ]
    },
    {
     "name": "stdout",
     "output_type": "stream",
     "text": [
      "  Gene     Celltype Freq\n",
      "1 GZMH Granulocytes    1\n",
      "2 GZMH     NK_cells    1\n",
      "3 GZMH      T_cells    2\n"
     ]
    },
    {
     "name": "stderr",
     "output_type": "stream",
     "text": [
      "GZMK\n",
      "\n"
     ]
    },
    {
     "name": "stdout",
     "output_type": "stream",
     "text": [
      "  Gene Celltype Freq\n",
      "1 GZMK  T_cells    4\n"
     ]
    },
    {
     "name": "stderr",
     "output_type": "stream",
     "text": [
      "GZMM\n",
      "\n"
     ]
    },
    {
     "name": "stdout",
     "output_type": "stream",
     "text": [
      "  Gene Celltype Freq\n",
      "1 GZMM NK_cells    1\n",
      "2 GZMM  T_cells    2\n"
     ]
    },
    {
     "name": "stderr",
     "output_type": "stream",
     "text": [
      "HACD4\n",
      "\n",
      "HAL\n",
      "\n"
     ]
    },
    {
     "name": "stdout",
     "output_type": "stream",
     "text": [
      "  Gene     Celltype Freq\n",
      "1  HAL Granulocytes    5\n"
     ]
    },
    {
     "name": "stderr",
     "output_type": "stream",
     "text": [
      "HCAR3\n",
      "\n"
     ]
    },
    {
     "name": "stdout",
     "output_type": "stream",
     "text": [
      "   Gene     Celltype Freq\n",
      "1 HCAR3 Granulocytes    1\n"
     ]
    },
    {
     "name": "stderr",
     "output_type": "stream",
     "text": [
      "HERC3\n",
      "\n"
     ]
    },
    {
     "name": "stdout",
     "output_type": "stream",
     "text": [
      "   Gene     Celltype Freq\n",
      "1 HERC3 Granulocytes    1\n"
     ]
    },
    {
     "name": "stderr",
     "output_type": "stream",
     "text": [
      "HK3\n",
      "\n"
     ]
    },
    {
     "name": "stdout",
     "output_type": "stream",
     "text": [
      "  Gene     Celltype Freq\n",
      "1  HK3           DC    1\n",
      "2  HK3 Granulocytes    1\n",
      "3  HK3  Macrophages    1\n",
      "4  HK3    Monocytes    1\n"
     ]
    },
    {
     "name": "stderr",
     "output_type": "stream",
     "text": [
      "HLA-DOB\n",
      "\n"
     ]
    },
    {
     "name": "stdout",
     "output_type": "stream",
     "text": [
      "     Gene Celltype Freq\n",
      "1 HLA-DOB  B_cells    4\n"
     ]
    },
    {
     "name": "stderr",
     "output_type": "stream",
     "text": [
      "HMHA1\n",
      "\n",
      "HPSE\n",
      "\n"
     ]
    },
    {
     "name": "stdout",
     "output_type": "stream",
     "text": [
      "  Gene  Celltype Freq\n",
      "1 HPSE Monocytes    3\n"
     ]
    },
    {
     "name": "stderr",
     "output_type": "stream",
     "text": [
      "ICAM3\n",
      "\n"
     ]
    },
    {
     "name": "stdout",
     "output_type": "stream",
     "text": [
      "   Gene     Celltype Freq\n",
      "1 ICAM3 Granulocytes    1\n"
     ]
    },
    {
     "name": "stderr",
     "output_type": "stream",
     "text": [
      "IGFLR1\n",
      "\n"
     ]
    },
    {
     "name": "stdout",
     "output_type": "stream",
     "text": [
      "    Gene Celltype Freq\n",
      "1 IGFLR1       DC    2\n"
     ]
    },
    {
     "name": "stderr",
     "output_type": "stream",
     "text": [
      "IGHA2\n",
      "\n"
     ]
    },
    {
     "name": "stdout",
     "output_type": "stream",
     "text": [
      "   Gene Celltype Freq\n",
      "1 IGHA2  B_cells    1\n"
     ]
    },
    {
     "name": "stderr",
     "output_type": "stream",
     "text": [
      "IGHD\n",
      "\n"
     ]
    },
    {
     "name": "stdout",
     "output_type": "stream",
     "text": [
      "  Gene Celltype Freq\n",
      "1 IGHD  B_cells    3\n"
     ]
    },
    {
     "name": "stderr",
     "output_type": "stream",
     "text": [
      "IGHG2\n",
      "\n"
     ]
    },
    {
     "name": "stdout",
     "output_type": "stream",
     "text": [
      "   Gene Celltype Freq\n",
      "1 IGHG2  B_cells    1\n"
     ]
    },
    {
     "name": "stderr",
     "output_type": "stream",
     "text": [
      "IGHM\n",
      "\n"
     ]
    },
    {
     "name": "stdout",
     "output_type": "stream",
     "text": [
      "  Gene Celltype Freq\n",
      "1 IGHM  B_cells    3\n"
     ]
    },
    {
     "name": "stderr",
     "output_type": "stream",
     "text": [
      "IGHV1-2\n",
      "\n"
     ]
    },
    {
     "name": "stdout",
     "output_type": "stream",
     "text": [
      "     Gene Celltype Freq\n",
      "1 IGHV1-2  B_cells    1\n"
     ]
    },
    {
     "name": "stderr",
     "output_type": "stream",
     "text": [
      "IGHV1-3\n",
      "\n"
     ]
    },
    {
     "name": "stdout",
     "output_type": "stream",
     "text": [
      "     Gene Celltype Freq\n",
      "1 IGHV1-3  B_cells    1\n"
     ]
    },
    {
     "name": "stderr",
     "output_type": "stream",
     "text": [
      "IGHV1-46\n",
      "\n"
     ]
    },
    {
     "name": "stdout",
     "output_type": "stream",
     "text": [
      "      Gene Celltype Freq\n",
      "1 IGHV1-46  B_cells    1\n"
     ]
    },
    {
     "name": "stderr",
     "output_type": "stream",
     "text": [
      "IGHV1OR15-1\n",
      "\n",
      "IGHV3-23\n",
      "\n"
     ]
    },
    {
     "name": "stdout",
     "output_type": "stream",
     "text": [
      "      Gene Celltype Freq\n",
      "1 IGHV3-23  B_cells    1\n"
     ]
    },
    {
     "name": "stderr",
     "output_type": "stream",
     "text": [
      "IGHV3-33\n",
      "\n"
     ]
    },
    {
     "name": "stdout",
     "output_type": "stream",
     "text": [
      "      Gene Celltype Freq\n",
      "1 IGHV3-33  B_cells    1\n"
     ]
    },
    {
     "name": "stderr",
     "output_type": "stream",
     "text": [
      "IGHV3-74\n",
      "\n"
     ]
    },
    {
     "name": "stdout",
     "output_type": "stream",
     "text": [
      "      Gene Celltype Freq\n",
      "1 IGHV3-74  B_cells    1\n"
     ]
    },
    {
     "name": "stderr",
     "output_type": "stream",
     "text": [
      "IGHV4-34\n",
      "\n"
     ]
    },
    {
     "name": "stdout",
     "output_type": "stream",
     "text": [
      "      Gene Celltype Freq\n",
      "1 IGHV4-34  B_cells    1\n"
     ]
    },
    {
     "name": "stderr",
     "output_type": "stream",
     "text": [
      "IGKV3-20\n",
      "\n"
     ]
    },
    {
     "name": "stdout",
     "output_type": "stream",
     "text": [
      "      Gene Celltype Freq\n",
      "1 IGKV3-20  B_cells    1\n"
     ]
    },
    {
     "name": "stderr",
     "output_type": "stream",
     "text": [
      "IGKV4-1\n",
      "\n"
     ]
    },
    {
     "name": "stdout",
     "output_type": "stream",
     "text": [
      "     Gene Celltype Freq\n",
      "1 IGKV4-1  B_cells    1\n"
     ]
    },
    {
     "name": "stderr",
     "output_type": "stream",
     "text": [
      "IGLC1\n",
      "\n"
     ]
    },
    {
     "name": "stdout",
     "output_type": "stream",
     "text": [
      "   Gene Celltype Freq\n",
      "1 IGLC1  B_cells    1\n"
     ]
    },
    {
     "name": "stderr",
     "output_type": "stream",
     "text": [
      "IGLL5\n",
      "\n"
     ]
    },
    {
     "name": "stdout",
     "output_type": "stream",
     "text": [
      "   Gene Celltype Freq\n",
      "1 IGLL5  B_cells    2\n"
     ]
    },
    {
     "name": "stderr",
     "output_type": "stream",
     "text": [
      "IGLV1-51\n",
      "\n"
     ]
    },
    {
     "name": "stdout",
     "output_type": "stream",
     "text": [
      "      Gene Celltype Freq\n",
      "1 IGLV1-51  B_cells    1\n"
     ]
    },
    {
     "name": "stderr",
     "output_type": "stream",
     "text": [
      "IGLV2-14\n",
      "\n"
     ]
    },
    {
     "name": "stdout",
     "output_type": "stream",
     "text": [
      "      Gene Celltype Freq\n",
      "1 IGLV2-14  B_cells    1\n"
     ]
    },
    {
     "name": "stderr",
     "output_type": "stream",
     "text": [
      "IGLV5-52\n",
      "\n",
      "IKZF3\n",
      "\n"
     ]
    },
    {
     "name": "stdout",
     "output_type": "stream",
     "text": [
      "   Gene Celltype Freq\n",
      "1 IKZF3  B_cells    1\n"
     ]
    },
    {
     "name": "stderr",
     "output_type": "stream",
     "text": [
      "IL12RB1\n",
      "\n"
     ]
    },
    {
     "name": "stdout",
     "output_type": "stream",
     "text": [
      "     Gene     Celltype Freq\n",
      "1 IL12RB1 Granulocytes    1\n"
     ]
    },
    {
     "name": "stderr",
     "output_type": "stream",
     "text": [
      "IL18RAP\n",
      "\n"
     ]
    },
    {
     "name": "stdout",
     "output_type": "stream",
     "text": [
      "     Gene Celltype Freq\n",
      "1 IL18RAP NK_cells    3\n",
      "2 IL18RAP  T_cells    1\n"
     ]
    },
    {
     "name": "stderr",
     "output_type": "stream",
     "text": [
      "IL1R2\n",
      "\n"
     ]
    },
    {
     "name": "stdout",
     "output_type": "stream",
     "text": [
      "   Gene     Celltype Freq\n",
      "1 IL1R2 Granulocytes    2\n"
     ]
    },
    {
     "name": "stderr",
     "output_type": "stream",
     "text": [
      "IL23A\n",
      "\n",
      "IL2RA\n",
      "\n"
     ]
    },
    {
     "name": "stdout",
     "output_type": "stream",
     "text": [
      "   Gene Celltype Freq\n",
      "1 IL2RA       DC    1\n",
      "2 IL2RA  T_cells    3\n"
     ]
    },
    {
     "name": "stderr",
     "output_type": "stream",
     "text": [
      "IL2RB\n",
      "\n"
     ]
    },
    {
     "name": "stdout",
     "output_type": "stream",
     "text": [
      "   Gene Celltype Freq\n",
      "1 IL2RB NK_cells    2\n",
      "2 IL2RB  T_cells    1\n"
     ]
    },
    {
     "name": "stderr",
     "output_type": "stream",
     "text": [
      "IL2RG\n",
      "\n",
      "IL7R\n",
      "\n"
     ]
    },
    {
     "name": "stdout",
     "output_type": "stream",
     "text": [
      "  Gene Celltype Freq\n",
      "1 IL7R  T_cells    2\n"
     ]
    },
    {
     "name": "stderr",
     "output_type": "stream",
     "text": [
      "IPMK\n",
      "\n"
     ]
    },
    {
     "name": "stdout",
     "output_type": "stream",
     "text": [
      "  Gene     Celltype Freq\n",
      "1 IPMK Granulocytes    1\n"
     ]
    },
    {
     "name": "stderr",
     "output_type": "stream",
     "text": [
      "IRF8\n",
      "\n"
     ]
    },
    {
     "name": "stdout",
     "output_type": "stream",
     "text": [
      "  Gene    Celltype Freq\n",
      "1 IRF8          DC    2\n",
      "2 IRF8 Macrophages    1\n"
     ]
    },
    {
     "name": "stderr",
     "output_type": "stream",
     "text": [
      "JAK2\n",
      "\n"
     ]
    },
    {
     "name": "stdout",
     "output_type": "stream",
     "text": [
      "  Gene     Celltype Freq\n",
      "1 JAK2           DC    1\n",
      "2 JAK2 Granulocytes    1\n"
     ]
    },
    {
     "name": "stderr",
     "output_type": "stream",
     "text": [
      "JCHAIN\n",
      "\n"
     ]
    },
    {
     "name": "stdout",
     "output_type": "stream",
     "text": [
      "    Gene Celltype Freq\n",
      "1 JCHAIN  B_cells    1\n"
     ]
    },
    {
     "name": "stderr",
     "output_type": "stream",
     "text": [
      "KBTBD8\n",
      "\n"
     ]
    },
    {
     "name": "stdout",
     "output_type": "stream",
     "text": [
      "    Gene Celltype Freq\n",
      "1 KBTBD8  B_cells    1\n"
     ]
    },
    {
     "name": "stderr",
     "output_type": "stream",
     "text": [
      "KCNA3\n",
      "\n"
     ]
    },
    {
     "name": "stdout",
     "output_type": "stream",
     "text": [
      "   Gene Celltype Freq\n",
      "1 KCNA3  B_cells    1\n"
     ]
    },
    {
     "name": "stderr",
     "output_type": "stream",
     "text": [
      "KCNE3\n",
      "\n",
      "KIAA0226L\n",
      "\n"
     ]
    },
    {
     "name": "stdout",
     "output_type": "stream",
     "text": [
      "       Gene Celltype Freq\n",
      "1 KIAA0226L  B_cells    1\n"
     ]
    },
    {
     "name": "stderr",
     "output_type": "stream",
     "text": [
      "KIAA0430\n",
      "\n"
     ]
    },
    {
     "name": "stdout",
     "output_type": "stream",
     "text": [
      "      Gene Celltype Freq\n",
      "1 KIAA0430  B_cells    1\n"
     ]
    },
    {
     "name": "stderr",
     "output_type": "stream",
     "text": [
      "KIR2DL1\n",
      "\n"
     ]
    },
    {
     "name": "stdout",
     "output_type": "stream",
     "text": [
      "     Gene Celltype Freq\n",
      "1 KIR2DL1 NK_cells    3\n",
      "2 KIR2DL1  T_cells    1\n"
     ]
    },
    {
     "name": "stderr",
     "output_type": "stream",
     "text": [
      "KIR2DL3\n",
      "\n"
     ]
    },
    {
     "name": "stdout",
     "output_type": "stream",
     "text": [
      "     Gene Celltype Freq\n",
      "1 KIR2DL3 NK_cells    2\n"
     ]
    },
    {
     "name": "stderr",
     "output_type": "stream",
     "text": [
      "KIR2DL4\n",
      "\n"
     ]
    },
    {
     "name": "stdout",
     "output_type": "stream",
     "text": [
      "     Gene Celltype Freq\n",
      "1 KIR2DL4 NK_cells    4\n"
     ]
    },
    {
     "name": "stderr",
     "output_type": "stream",
     "text": [
      "KIR3DL1\n",
      "\n"
     ]
    },
    {
     "name": "stdout",
     "output_type": "stream",
     "text": [
      "     Gene Celltype Freq\n",
      "1 KIR3DL1 NK_cells    2\n",
      "2 KIR3DL1  T_cells    1\n"
     ]
    },
    {
     "name": "stderr",
     "output_type": "stream",
     "text": [
      "KIR3DL2\n",
      "\n"
     ]
    },
    {
     "name": "stdout",
     "output_type": "stream",
     "text": [
      "     Gene Celltype Freq\n",
      "1 KIR3DL2 NK_cells    2\n",
      "2 KIR3DL2  T_cells    1\n"
     ]
    },
    {
     "name": "stderr",
     "output_type": "stream",
     "text": [
      "KLHL14\n",
      "\n"
     ]
    },
    {
     "name": "stdout",
     "output_type": "stream",
     "text": [
      "    Gene Celltype Freq\n",
      "1 KLHL14  B_cells    4\n"
     ]
    },
    {
     "name": "stderr",
     "output_type": "stream",
     "text": [
      "KLRF1\n",
      "\n"
     ]
    },
    {
     "name": "stdout",
     "output_type": "stream",
     "text": [
      "   Gene Celltype Freq\n",
      "1 KLRF1 NK_cells    4\n"
     ]
    },
    {
     "name": "stderr",
     "output_type": "stream",
     "text": [
      "KLRG1\n",
      "\n"
     ]
    },
    {
     "name": "stdout",
     "output_type": "stream",
     "text": [
      "   Gene Celltype Freq\n",
      "1 KLRG1  T_cells    3\n"
     ]
    },
    {
     "name": "stderr",
     "output_type": "stream",
     "text": [
      "KYNU\n",
      "\n"
     ]
    },
    {
     "name": "stdout",
     "output_type": "stream",
     "text": [
      "  Gene  Celltype Freq\n",
      "1 KYNU        DC    1\n",
      "2 KYNU Monocytes    1\n"
     ]
    },
    {
     "name": "stderr",
     "output_type": "stream",
     "text": [
      "LAIR2\n",
      "\n"
     ]
    },
    {
     "name": "stdout",
     "output_type": "stream",
     "text": [
      "   Gene     Celltype Freq\n",
      "1 LAIR2 Granulocytes    1\n",
      "2 LAIR2     NK_cells    1\n",
      "3 LAIR2      T_cells    2\n"
     ]
    },
    {
     "name": "stderr",
     "output_type": "stream",
     "text": [
      "LAT\n",
      "\n"
     ]
    },
    {
     "name": "stdout",
     "output_type": "stream",
     "text": [
      "  Gene Celltype Freq\n",
      "1  LAT  T_cells    1\n"
     ]
    },
    {
     "name": "stderr",
     "output_type": "stream",
     "text": [
      "LBHD1\n",
      "\n",
      "LCP2\n",
      "\n"
     ]
    },
    {
     "name": "stdout",
     "output_type": "stream",
     "text": [
      "  Gene      Celltype Freq\n",
      "1 LCP2 Myeloid_cells    1\n"
     ]
    },
    {
     "name": "stderr",
     "output_type": "stream",
     "text": [
      "LILRA3\n",
      "\n"
     ]
    },
    {
     "name": "stdout",
     "output_type": "stream",
     "text": [
      "    Gene    Celltype Freq\n",
      "1 LILRA3 Macrophages    1\n"
     ]
    },
    {
     "name": "stderr",
     "output_type": "stream",
     "text": [
      "LILRA4\n",
      "\n"
     ]
    },
    {
     "name": "stdout",
     "output_type": "stream",
     "text": [
      "    Gene Celltype Freq\n",
      "1 LILRA4       DC    2\n",
      "2 LILRA4  T_cells    1\n"
     ]
    },
    {
     "name": "stderr",
     "output_type": "stream",
     "text": [
      "LILRA5\n",
      "\n"
     ]
    },
    {
     "name": "stdout",
     "output_type": "stream",
     "text": [
      "    Gene  Celltype Freq\n",
      "1 LILRA5        DC    1\n",
      "2 LILRA5 Monocytes    1\n"
     ]
    },
    {
     "name": "stderr",
     "output_type": "stream",
     "text": [
      "LILRB3\n",
      "\n"
     ]
    },
    {
     "name": "stdout",
     "output_type": "stream",
     "text": [
      "    Gene     Celltype Freq\n",
      "1 LILRB3 Granulocytes    2\n",
      "2 LILRB3    Monocytes    1\n"
     ]
    },
    {
     "name": "stderr",
     "output_type": "stream",
     "text": [
      "LIPN\n",
      "\n"
     ]
    },
    {
     "name": "stdout",
     "output_type": "stream",
     "text": [
      "  Gene  Celltype Freq\n",
      "1 LIPN Monocytes    1\n"
     ]
    },
    {
     "name": "stderr",
     "output_type": "stream",
     "text": [
      "LLNLR-260H6.1\n",
      "\n",
      "LRG1\n",
      "\n"
     ]
    },
    {
     "name": "stdout",
     "output_type": "stream",
     "text": [
      "  Gene     Celltype Freq\n",
      "1 LRG1 Granulocytes    3\n"
     ]
    },
    {
     "name": "stderr",
     "output_type": "stream",
     "text": [
      "LRMP\n",
      "\n"
     ]
    },
    {
     "name": "stdout",
     "output_type": "stream",
     "text": [
      "  Gene     Celltype Freq\n",
      "1 LRMP Granulocytes    2\n"
     ]
    },
    {
     "name": "stderr",
     "output_type": "stream",
     "text": [
      "LRRC37B\n",
      "\n",
      "LSP1\n",
      "\n",
      "LTA\n",
      "\n"
     ]
    },
    {
     "name": "stdout",
     "output_type": "stream",
     "text": [
      "  Gene Celltype Freq\n",
      "1  LTA NK_cells    1\n",
      "2  LTA  T_cells    1\n"
     ]
    },
    {
     "name": "stderr",
     "output_type": "stream",
     "text": [
      "LY75\n",
      "\n",
      "MAP1LC3B2\n",
      "\n",
      "MARCH8\n",
      "\n",
      "MCEMP1\n",
      "\n"
     ]
    },
    {
     "name": "stdout",
     "output_type": "stream",
     "text": [
      "    Gene  Celltype Freq\n",
      "1 MCEMP1 Monocytes    1\n"
     ]
    },
    {
     "name": "stderr",
     "output_type": "stream",
     "text": [
      "MEFV\n",
      "\n"
     ]
    },
    {
     "name": "stdout",
     "output_type": "stream",
     "text": [
      "  Gene     Celltype Freq\n",
      "1 MEFV      B_cells    1\n",
      "2 MEFV Granulocytes    3\n"
     ]
    },
    {
     "name": "stderr",
     "output_type": "stream",
     "text": [
      "MNDA\n",
      "\n"
     ]
    },
    {
     "name": "stdout",
     "output_type": "stream",
     "text": [
      "  Gene     Celltype Freq\n",
      "1 MNDA Granulocytes    3\n",
      "2 MNDA    Monocytes    1\n"
     ]
    },
    {
     "name": "stderr",
     "output_type": "stream",
     "text": [
      "MPP7\n",
      "\n",
      "MRC1\n",
      "\n"
     ]
    },
    {
     "name": "stdout",
     "output_type": "stream",
     "text": [
      "  Gene Celltype Freq\n",
      "1 MRC1       DC    2\n"
     ]
    },
    {
     "name": "stderr",
     "output_type": "stream",
     "text": [
      "MRVI1\n",
      "\n"
     ]
    },
    {
     "name": "stdout",
     "output_type": "stream",
     "text": [
      "   Gene     Celltype Freq\n",
      "1 MRVI1 Granulocytes    2\n"
     ]
    },
    {
     "name": "stderr",
     "output_type": "stream",
     "text": [
      "MS4A1\n",
      "\n"
     ]
    },
    {
     "name": "stdout",
     "output_type": "stream",
     "text": [
      "   Gene Celltype Freq\n",
      "1 MS4A1  B_cells    5\n"
     ]
    },
    {
     "name": "stderr",
     "output_type": "stream",
     "text": [
      "MS4A4E\n",
      "\n"
     ]
    },
    {
     "name": "stdout",
     "output_type": "stream",
     "text": [
      "    Gene     Celltype Freq\n",
      "1 MS4A4E Granulocytes    1\n"
     ]
    },
    {
     "name": "stderr",
     "output_type": "stream",
     "text": [
      "MYO1F\n",
      "\n"
     ]
    },
    {
     "name": "stdout",
     "output_type": "stream",
     "text": [
      "   Gene     Celltype Freq\n",
      "1 MYO1F Granulocytes    1\n",
      "2 MYO1F      T_cells    1\n"
     ]
    },
    {
     "name": "stderr",
     "output_type": "stream",
     "text": [
      "MYO1G\n",
      "\n",
      "NALP7\n",
      "\n",
      "NAPSA\n",
      "\n"
     ]
    },
    {
     "name": "stdout",
     "output_type": "stream",
     "text": [
      "   Gene Celltype Freq\n",
      "1 NAPSA       DC    1\n"
     ]
    },
    {
     "name": "stderr",
     "output_type": "stream",
     "text": [
      "NBPF11\n",
      "\n",
      "NCR1\n",
      "\n"
     ]
    },
    {
     "name": "stdout",
     "output_type": "stream",
     "text": [
      "  Gene     Celltype Freq\n",
      "1 NCR1 Granulocytes    2\n",
      "2 NCR1     NK_cells    3\n"
     ]
    },
    {
     "name": "stderr",
     "output_type": "stream",
     "text": [
      "NCR3\n",
      "\n"
     ]
    },
    {
     "name": "stdout",
     "output_type": "stream",
     "text": [
      "  Gene Celltype Freq\n",
      "1 NCR3 NK_cells    1\n",
      "2 NCR3  T_cells    2\n"
     ]
    },
    {
     "name": "stderr",
     "output_type": "stream",
     "text": [
      "NDNL2\n",
      "\n",
      "NINJ2\n",
      "\n"
     ]
    },
    {
     "name": "stdout",
     "output_type": "stream",
     "text": [
      "   Gene     Celltype Freq\n",
      "1 NINJ2 Granulocytes    1\n"
     ]
    },
    {
     "name": "stderr",
     "output_type": "stream",
     "text": [
      "NKG7\n",
      "\n"
     ]
    },
    {
     "name": "stdout",
     "output_type": "stream",
     "text": [
      "  Gene     Celltype Freq\n",
      "1 NKG7 Granulocytes    1\n",
      "2 NKG7     NK_cells    2\n"
     ]
    },
    {
     "name": "stderr",
     "output_type": "stream",
     "text": [
      "NLRC4\n",
      "\n"
     ]
    },
    {
     "name": "stdout",
     "output_type": "stream",
     "text": [
      "   Gene  Celltype Freq\n",
      "1 NLRC4 Monocytes    1\n"
     ]
    },
    {
     "name": "stderr",
     "output_type": "stream",
     "text": [
      "NLRP12\n",
      "\n"
     ]
    },
    {
     "name": "stdout",
     "output_type": "stream",
     "text": [
      "    Gene     Celltype Freq\n",
      "1 NLRP12 Granulocytes    2\n"
     ]
    },
    {
     "name": "stderr",
     "output_type": "stream",
     "text": [
      "NLRP3\n",
      "\n"
     ]
    },
    {
     "name": "stdout",
     "output_type": "stream",
     "text": [
      "   Gene     Celltype Freq\n",
      "1 NLRP3 Granulocytes    1\n",
      "2 NLRP3    Monocytes    2\n"
     ]
    },
    {
     "name": "stderr",
     "output_type": "stream",
     "text": [
      "NLRP6\n",
      "\n"
     ]
    },
    {
     "name": "stdout",
     "output_type": "stream",
     "text": [
      "   Gene     Celltype Freq\n",
      "1 NLRP6 Granulocytes    2\n"
     ]
    },
    {
     "name": "stderr",
     "output_type": "stream",
     "text": [
      "OSM\n",
      "\n"
     ]
    },
    {
     "name": "stdout",
     "output_type": "stream",
     "text": [
      "  Gene     Celltype Freq\n",
      "1  OSM           DC    1\n",
      "2  OSM Granulocytes    3\n"
     ]
    },
    {
     "name": "stderr",
     "output_type": "stream",
     "text": [
      "P2RX1\n",
      "\n"
     ]
    },
    {
     "name": "stdout",
     "output_type": "stream",
     "text": [
      "   Gene      Celltype Freq\n",
      "1 P2RX1     Monocytes    2\n",
      "2 P2RX1 Myeloid_cells    2\n"
     ]
    },
    {
     "name": "stderr",
     "output_type": "stream",
     "text": [
      "P2RY13\n",
      "\n"
     ]
    },
    {
     "name": "stdout",
     "output_type": "stream",
     "text": [
      "    Gene     Celltype Freq\n",
      "1 P2RY13 Granulocytes    3\n",
      "2 P2RY13    Monocytes    1\n"
     ]
    },
    {
     "name": "stderr",
     "output_type": "stream",
     "text": [
      "P2RY14\n",
      "\n"
     ]
    },
    {
     "name": "stdout",
     "output_type": "stream",
     "text": [
      "    Gene     Celltype Freq\n",
      "1 P2RY14           DC    1\n",
      "2 P2RY14 Granulocytes    2\n"
     ]
    },
    {
     "name": "stderr",
     "output_type": "stream",
     "text": [
      "PADI4\n",
      "\n"
     ]
    },
    {
     "name": "stdout",
     "output_type": "stream",
     "text": [
      "   Gene     Celltype Freq\n",
      "1 PADI4 Granulocytes    3\n"
     ]
    },
    {
     "name": "stderr",
     "output_type": "stream",
     "text": [
      "PARP15\n",
      "\n",
      "PATL2\n",
      "\n"
     ]
    },
    {
     "name": "stdout",
     "output_type": "stream",
     "text": [
      "   Gene Celltype Freq\n",
      "1 PATL2  T_cells    2\n"
     ]
    },
    {
     "name": "stderr",
     "output_type": "stream",
     "text": [
      "PCED1B\n",
      "\n",
      "PDE6G\n",
      "\n",
      "PGLYRP1\n",
      "\n"
     ]
    },
    {
     "name": "stdout",
     "output_type": "stream",
     "text": [
      "     Gene     Celltype Freq\n",
      "1 PGLYRP1 Granulocytes    5\n"
     ]
    },
    {
     "name": "stderr",
     "output_type": "stream",
     "text": [
      "PHOSPHO1\n",
      "\n"
     ]
    },
    {
     "name": "stdout",
     "output_type": "stream",
     "text": [
      "      Gene     Celltype Freq\n",
      "1 PHOSPHO1 Granulocytes    3\n"
     ]
    },
    {
     "name": "stderr",
     "output_type": "stream",
     "text": [
      "PIK3CG\n",
      "\n",
      "PIK3R5\n",
      "\n",
      "PLA2G7\n",
      "\n"
     ]
    },
    {
     "name": "stdout",
     "output_type": "stream",
     "text": [
      "    Gene    Celltype Freq\n",
      "1 PLA2G7 Macrophages    1\n",
      "2 PLA2G7   Monocytes    3\n"
     ]
    },
    {
     "name": "stderr",
     "output_type": "stream",
     "text": [
      "PLAC8\n",
      "\n"
     ]
    },
    {
     "name": "stdout",
     "output_type": "stream",
     "text": [
      "   Gene Celltype Freq\n",
      "1 PLAC8       DC    2\n"
     ]
    },
    {
     "name": "stderr",
     "output_type": "stream",
     "text": [
      "POM121L7\n",
      "\n",
      "POU2AF1\n",
      "\n"
     ]
    },
    {
     "name": "stdout",
     "output_type": "stream",
     "text": [
      "     Gene Celltype Freq\n",
      "1 POU2AF1  B_cells    3\n"
     ]
    },
    {
     "name": "stderr",
     "output_type": "stream",
     "text": [
      "PRF1\n",
      "\n"
     ]
    },
    {
     "name": "stdout",
     "output_type": "stream",
     "text": [
      "  Gene Celltype Freq\n",
      "1 PRF1 NK_cells    2\n",
      "2 PRF1  T_cells    1\n"
     ]
    },
    {
     "name": "stderr",
     "output_type": "stream",
     "text": [
      "PRKCH\n",
      "\n",
      "PRKCQ\n",
      "\n",
      "PROC\n",
      "\n"
     ]
    },
    {
     "name": "stdout",
     "output_type": "stream",
     "text": [
      "  Gene Celltype Freq\n",
      "1 PROC       DC    2\n"
     ]
    },
    {
     "name": "stderr",
     "output_type": "stream",
     "text": [
      "PROK2\n",
      "\n"
     ]
    },
    {
     "name": "stdout",
     "output_type": "stream",
     "text": [
      "   Gene     Celltype Freq\n",
      "1 PROK2 Granulocytes    3\n"
     ]
    },
    {
     "name": "stderr",
     "output_type": "stream",
     "text": [
      "PRR33\n",
      "\n",
      "PTAFR\n",
      "\n"
     ]
    },
    {
     "name": "stdout",
     "output_type": "stream",
     "text": [
      "   Gene     Celltype Freq\n",
      "1 PTAFR Granulocytes    1\n"
     ]
    },
    {
     "name": "stderr",
     "output_type": "stream",
     "text": [
      "PTCRA\n",
      "\n"
     ]
    },
    {
     "name": "stdout",
     "output_type": "stream",
     "text": [
      "   Gene Celltype Freq\n",
      "1 PTCRA       DC    3\n"
     ]
    },
    {
     "name": "stderr",
     "output_type": "stream",
     "text": [
      "PTGS2\n",
      "\n"
     ]
    },
    {
     "name": "stdout",
     "output_type": "stream",
     "text": [
      "   Gene     Celltype Freq\n",
      "1 PTGS2 Granulocytes    2\n"
     ]
    },
    {
     "name": "stderr",
     "output_type": "stream",
     "text": [
      "PTPN22\n",
      "\n",
      "PTPN7\n",
      "\n"
     ]
    },
    {
     "name": "stdout",
     "output_type": "stream",
     "text": [
      "   Gene Celltype Freq\n",
      "1 PTPN7  T_cells    1\n"
     ]
    },
    {
     "name": "stderr",
     "output_type": "stream",
     "text": [
      "PYHIN1\n",
      "\n"
     ]
    },
    {
     "name": "stdout",
     "output_type": "stream",
     "text": [
      "    Gene Celltype Freq\n",
      "1 PYHIN1 NK_cells    1\n",
      "2 PYHIN1  T_cells    1\n"
     ]
    },
    {
     "name": "stderr",
     "output_type": "stream",
     "text": [
      "RAB37\n",
      "\n"
     ]
    },
    {
     "name": "stdout",
     "output_type": "stream",
     "text": [
      "   Gene     Celltype Freq\n",
      "1 RAB37 Granulocytes    1\n"
     ]
    },
    {
     "name": "stderr",
     "output_type": "stream",
     "text": [
      "RAB3D\n",
      "\n"
     ]
    },
    {
     "name": "stdout",
     "output_type": "stream",
     "text": [
      "   Gene     Celltype Freq\n",
      "1 RAB3D Granulocytes    2\n"
     ]
    },
    {
     "name": "stderr",
     "output_type": "stream",
     "text": [
      "RAB7B\n",
      "\n"
     ]
    },
    {
     "name": "stdout",
     "output_type": "stream",
     "text": [
      "   Gene Celltype Freq\n",
      "1 RAB7B       DC    1\n"
     ]
    },
    {
     "name": "stderr",
     "output_type": "stream",
     "text": [
      "RASAL3\n",
      "\n",
      "RASGRP4\n",
      "\n"
     ]
    },
    {
     "name": "stdout",
     "output_type": "stream",
     "text": [
      "     Gene     Celltype Freq\n",
      "1 RASGRP4 Granulocytes    2\n"
     ]
    },
    {
     "name": "stderr",
     "output_type": "stream",
     "text": [
      "REM2\n",
      "\n"
     ]
    },
    {
     "name": "stdout",
     "output_type": "stream",
     "text": [
      "  Gene     Celltype Freq\n",
      "1 REM2 Granulocytes    2\n"
     ]
    },
    {
     "name": "stderr",
     "output_type": "stream",
     "text": [
      "RETN\n",
      "\n"
     ]
    },
    {
     "name": "stdout",
     "output_type": "stream",
     "text": [
      "  Gene     Celltype Freq\n",
      "1 RETN Granulocytes    1\n"
     ]
    },
    {
     "name": "stderr",
     "output_type": "stream",
     "text": [
      "RFWD2\n",
      "\n",
      "RGL4\n",
      "\n"
     ]
    },
    {
     "name": "stdout",
     "output_type": "stream",
     "text": [
      "  Gene     Celltype Freq\n",
      "1 RGL4 Granulocytes    1\n"
     ]
    },
    {
     "name": "stderr",
     "output_type": "stream",
     "text": [
      "RHOF\n",
      "\n",
      "RIPK3\n",
      "\n",
      "RLTPR\n",
      "\n",
      "RNASE2\n",
      "\n"
     ]
    },
    {
     "name": "stdout",
     "output_type": "stream",
     "text": [
      "    Gene     Celltype Freq\n",
      "1 RNASE2 Granulocytes    3\n",
      "2 RNASE2    Monocytes    1\n"
     ]
    },
    {
     "name": "stderr",
     "output_type": "stream",
     "text": [
      "RP11-294C11.4\n",
      "\n",
      "RP11-298I3.5\n",
      "\n",
      "RP11-330H6.5\n",
      "\n",
      "RP4-576H24.4\n",
      "\n",
      "S100A12\n",
      "\n"
     ]
    },
    {
     "name": "stdout",
     "output_type": "stream",
     "text": [
      "     Gene     Celltype Freq\n",
      "1 S100A12 Granulocytes    2\n",
      "2 S100A12    Monocytes    1\n"
     ]
    },
    {
     "name": "stderr",
     "output_type": "stream",
     "text": [
      "S100P\n",
      "\n"
     ]
    },
    {
     "name": "stdout",
     "output_type": "stream",
     "text": [
      "   Gene     Celltype Freq\n",
      "1 S100P Granulocytes    2\n"
     ]
    },
    {
     "name": "stderr",
     "output_type": "stream",
     "text": [
      "S100Z\n",
      "\n",
      "SAMSN1\n",
      "\n"
     ]
    },
    {
     "name": "stdout",
     "output_type": "stream",
     "text": [
      "    Gene     Celltype Freq\n",
      "1 SAMSN1 Granulocytes    2\n",
      "2 SAMSN1      T_cells    1\n"
     ]
    },
    {
     "name": "stderr",
     "output_type": "stream",
     "text": [
      "SAP25\n",
      "\n"
     ]
    },
    {
     "name": "stdout",
     "output_type": "stream",
     "text": [
      "   Gene     Celltype Freq\n",
      "1 SAP25 Granulocytes    1\n"
     ]
    },
    {
     "name": "stderr",
     "output_type": "stream",
     "text": [
      "SCML4\n",
      "\n",
      "SEPT1\n",
      "\n",
      "SH2D1A\n",
      "\n"
     ]
    },
    {
     "name": "stdout",
     "output_type": "stream",
     "text": [
      "    Gene Celltype Freq\n",
      "1 SH2D1A  T_cells    2\n"
     ]
    },
    {
     "name": "stderr",
     "output_type": "stream",
     "text": [
      "SH2D1B\n",
      "\n"
     ]
    },
    {
     "name": "stdout",
     "output_type": "stream",
     "text": [
      "    Gene Celltype Freq\n",
      "1 SH2D1B NK_cells    3\n"
     ]
    },
    {
     "name": "stderr",
     "output_type": "stream",
     "text": [
      "SH2D2A\n",
      "\n"
     ]
    },
    {
     "name": "stdout",
     "output_type": "stream",
     "text": [
      "    Gene Celltype Freq\n",
      "1 SH2D2A NK_cells    1\n",
      "2 SH2D2A  T_cells    1\n"
     ]
    },
    {
     "name": "stderr",
     "output_type": "stream",
     "text": [
      "SIGLEC14\n",
      "\n",
      "SIGLEC5\n",
      "\n"
     ]
    },
    {
     "name": "stdout",
     "output_type": "stream",
     "text": [
      "     Gene     Celltype Freq\n",
      "1 SIGLEC5 Granulocytes    2\n"
     ]
    },
    {
     "name": "stderr",
     "output_type": "stream",
     "text": [
      "SIGLEC6\n",
      "\n"
     ]
    },
    {
     "name": "stdout",
     "output_type": "stream",
     "text": [
      "     Gene      Celltype Freq\n",
      "1 SIGLEC6            DC    1\n",
      "2 SIGLEC6 Myeloid_cells    1\n"
     ]
    },
    {
     "name": "stderr",
     "output_type": "stream",
     "text": [
      "SIGLEC7\n",
      "\n"
     ]
    },
    {
     "name": "stdout",
     "output_type": "stream",
     "text": [
      "     Gene     Celltype Freq\n",
      "1 SIGLEC7           DC    1\n",
      "2 SIGLEC7 Granulocytes    1\n",
      "3 SIGLEC7     NK_cells    1\n"
     ]
    },
    {
     "name": "stderr",
     "output_type": "stream",
     "text": [
      "SIRPB1\n",
      "\n"
     ]
    },
    {
     "name": "stdout",
     "output_type": "stream",
     "text": [
      "    Gene     Celltype Freq\n",
      "1 SIRPB1 Granulocytes    2\n"
     ]
    },
    {
     "name": "stderr",
     "output_type": "stream",
     "text": [
      "SIRPG\n",
      "\n"
     ]
    },
    {
     "name": "stdout",
     "output_type": "stream",
     "text": [
      "   Gene Celltype Freq\n",
      "1 SIRPG  T_cells    4\n"
     ]
    },
    {
     "name": "stderr",
     "output_type": "stream",
     "text": [
      "SIT1\n",
      "\n"
     ]
    },
    {
     "name": "stdout",
     "output_type": "stream",
     "text": [
      "  Gene Celltype Freq\n",
      "1 SIT1  T_cells    2\n"
     ]
    },
    {
     "name": "stderr",
     "output_type": "stream",
     "text": [
      "SKAP1\n",
      "\n"
     ]
    },
    {
     "name": "stdout",
     "output_type": "stream",
     "text": [
      "   Gene Celltype Freq\n",
      "1 SKAP1  T_cells    1\n"
     ]
    },
    {
     "name": "stderr",
     "output_type": "stream",
     "text": [
      "SLA2\n",
      "\n",
      "SLAMF1\n",
      "\n"
     ]
    },
    {
     "name": "stdout",
     "output_type": "stream",
     "text": [
      "    Gene    Celltype Freq\n",
      "1 SLAMF1          DC    1\n",
      "2 SLAMF1 Macrophages    1\n",
      "3 SLAMF1     T_cells    1\n"
     ]
    },
    {
     "name": "stderr",
     "output_type": "stream",
     "text": [
      "SLAMF6\n",
      "\n",
      "SLC12A3\n",
      "\n"
     ]
    },
    {
     "name": "stdout",
     "output_type": "stream",
     "text": [
      "     Gene Celltype Freq\n",
      "1 SLC12A3  B_cells    1\n",
      "2 SLC12A3       DC    2\n"
     ]
    },
    {
     "name": "stderr",
     "output_type": "stream",
     "text": [
      "SLC37A2\n",
      "\n"
     ]
    },
    {
     "name": "stdout",
     "output_type": "stream",
     "text": [
      "     Gene  Celltype Freq\n",
      "1 SLC37A2 Monocytes    2\n"
     ]
    },
    {
     "name": "stderr",
     "output_type": "stream",
     "text": [
      "SLC46A2\n",
      "\n"
     ]
    },
    {
     "name": "stdout",
     "output_type": "stream",
     "text": [
      "     Gene  Celltype Freq\n",
      "1 SLC46A2 Monocytes    2\n"
     ]
    },
    {
     "name": "stderr",
     "output_type": "stream",
     "text": [
      "SLCO4C1\n",
      "\n"
     ]
    },
    {
     "name": "stdout",
     "output_type": "stream",
     "text": [
      "     Gene     Celltype Freq\n",
      "1 SLCO4C1 Granulocytes    1\n",
      "2 SLCO4C1     NK_cells    1\n"
     ]
    },
    {
     "name": "stderr",
     "output_type": "stream",
     "text": [
      "SLFN12L\n",
      "\n",
      "SNX15\n",
      "\n",
      "SNX20\n",
      "\n",
      "SPIB\n",
      "\n"
     ]
    },
    {
     "name": "stdout",
     "output_type": "stream",
     "text": [
      "  Gene Celltype Freq\n",
      "1 SPIB  B_cells    3\n",
      "2 SPIB       DC    1\n"
     ]
    },
    {
     "name": "stderr",
     "output_type": "stream",
     "text": [
      "SPINK1\n",
      "\n",
      "SPNS3\n",
      "\n"
     ]
    },
    {
     "name": "stdout",
     "output_type": "stream",
     "text": [
      "   Gene Celltype Freq\n",
      "1 SPNS3       DC    1\n"
     ]
    },
    {
     "name": "stderr",
     "output_type": "stream",
     "text": [
      "ST20\n",
      "\n"
     ]
    },
    {
     "name": "stdout",
     "output_type": "stream",
     "text": [
      "  Gene     Celltype Freq\n",
      "1 ST20 Granulocytes    2\n"
     ]
    },
    {
     "name": "stderr",
     "output_type": "stream",
     "text": [
      "ST20-MTHFS\n",
      "\n"
     ]
    },
    {
     "name": "stdout",
     "output_type": "stream",
     "text": [
      "        Gene     Celltype Freq\n",
      "1 ST20-MTHFS Granulocytes    1\n"
     ]
    },
    {
     "name": "stderr",
     "output_type": "stream",
     "text": [
      "STAG3L5P-PVRIG2P-PILRB\n",
      "\n",
      "STAP1\n",
      "\n"
     ]
    },
    {
     "name": "stdout",
     "output_type": "stream",
     "text": [
      "   Gene Celltype Freq\n",
      "1 STAP1  B_cells    7\n"
     ]
    },
    {
     "name": "stderr",
     "output_type": "stream",
     "text": [
      "SULT1A3\n",
      "\n",
      "SUSD3\n",
      "\n",
      "SYTL3\n",
      "\n"
     ]
    },
    {
     "name": "stdout",
     "output_type": "stream",
     "text": [
      "   Gene     Celltype Freq\n",
      "1 SYTL3 Granulocytes    1\n"
     ]
    },
    {
     "name": "stderr",
     "output_type": "stream",
     "text": [
      "TAGAP\n",
      "\n",
      "TBC1D3L\n",
      "\n"
     ]
    },
    {
     "name": "stdout",
     "output_type": "stream",
     "text": [
      "     Gene     Celltype Freq\n",
      "1 TBC1D3L Granulocytes    1\n"
     ]
    },
    {
     "name": "stderr",
     "output_type": "stream",
     "text": [
      "TCL1A\n",
      "\n"
     ]
    },
    {
     "name": "stdout",
     "output_type": "stream",
     "text": [
      "   Gene Celltype Freq\n",
      "1 TCL1A  B_cells    5\n"
     ]
    },
    {
     "name": "stderr",
     "output_type": "stream",
     "text": [
      "TESPA1\n",
      "\n"
     ]
    },
    {
     "name": "stdout",
     "output_type": "stream",
     "text": [
      "    Gene Celltype Freq\n",
      "1 TESPA1  T_cells    1\n"
     ]
    },
    {
     "name": "stderr",
     "output_type": "stream",
     "text": [
      "TIFAB\n",
      "\n"
     ]
    },
    {
     "name": "stdout",
     "output_type": "stream",
     "text": [
      "   Gene Celltype Freq\n",
      "1 TIFAB       DC    1\n"
     ]
    },
    {
     "name": "stderr",
     "output_type": "stream",
     "text": [
      "TLDC2\n",
      "\n"
     ]
    },
    {
     "name": "stdout",
     "output_type": "stream",
     "text": [
      "   Gene     Celltype Freq\n",
      "1 TLDC2 Granulocytes    1\n"
     ]
    },
    {
     "name": "stderr",
     "output_type": "stream",
     "text": [
      "TLR1\n",
      "\n"
     ]
    },
    {
     "name": "stdout",
     "output_type": "stream",
     "text": [
      "  Gene     Celltype Freq\n",
      "1 TLR1 Granulocytes    2\n"
     ]
    },
    {
     "name": "stderr",
     "output_type": "stream",
     "text": [
      "TLR10\n",
      "\n"
     ]
    },
    {
     "name": "stdout",
     "output_type": "stream",
     "text": [
      "   Gene Celltype Freq\n",
      "1 TLR10  B_cells    2\n"
     ]
    },
    {
     "name": "stderr",
     "output_type": "stream",
     "text": [
      "TLR5\n",
      "\n"
     ]
    },
    {
     "name": "stdout",
     "output_type": "stream",
     "text": [
      "  Gene  Celltype Freq\n",
      "1 TLR5 Monocytes    1\n"
     ]
    },
    {
     "name": "stderr",
     "output_type": "stream",
     "text": [
      "TLR8\n",
      "\n"
     ]
    },
    {
     "name": "stdout",
     "output_type": "stream",
     "text": [
      "  Gene     Celltype Freq\n",
      "1 TLR8 Granulocytes    1\n",
      "2 TLR8  Macrophages    1\n",
      "3 TLR8    Monocytes    1\n"
     ]
    },
    {
     "name": "stderr",
     "output_type": "stream",
     "text": [
      "TM4SF19\n",
      "\n"
     ]
    },
    {
     "name": "stdout",
     "output_type": "stream",
     "text": [
      "     Gene Celltype Freq\n",
      "1 TM4SF19  T_cells    1\n"
     ]
    },
    {
     "name": "stderr",
     "output_type": "stream",
     "text": [
      "TMEM106A\n",
      "\n"
     ]
    },
    {
     "name": "stdout",
     "output_type": "stream",
     "text": [
      "      Gene     Celltype Freq\n",
      "1 TMEM106A Granulocytes    1\n"
     ]
    },
    {
     "name": "stderr",
     "output_type": "stream",
     "text": [
      "TMEM150B\n",
      "\n"
     ]
    },
    {
     "name": "stdout",
     "output_type": "stream",
     "text": [
      "      Gene  Celltype Freq\n",
      "1 TMEM150B Monocytes    1\n"
     ]
    },
    {
     "name": "stderr",
     "output_type": "stream",
     "text": [
      "TMIGD2\n",
      "\n"
     ]
    },
    {
     "name": "stdout",
     "output_type": "stream",
     "text": [
      "    Gene Celltype Freq\n",
      "1 TMIGD2  T_cells    1\n"
     ]
    },
    {
     "name": "stderr",
     "output_type": "stream",
     "text": [
      "TNF\n",
      "\n"
     ]
    },
    {
     "name": "stdout",
     "output_type": "stream",
     "text": [
      "  Gene  Celltype Freq\n",
      "1  TNF Monocytes    1\n"
     ]
    },
    {
     "name": "stderr",
     "output_type": "stream",
     "text": [
      "TNFAIP8\n",
      "\n",
      "TNFRSF10C\n",
      "\n"
     ]
    },
    {
     "name": "stdout",
     "output_type": "stream",
     "text": [
      "       Gene     Celltype Freq\n",
      "1 TNFRSF10C Granulocytes    4\n"
     ]
    },
    {
     "name": "stderr",
     "output_type": "stream",
     "text": [
      "TNFRSF13B\n",
      "\n"
     ]
    },
    {
     "name": "stdout",
     "output_type": "stream",
     "text": [
      "       Gene Celltype Freq\n",
      "1 TNFRSF13B  B_cells    4\n"
     ]
    },
    {
     "name": "stderr",
     "output_type": "stream",
     "text": [
      "TNFRSF17\n",
      "\n"
     ]
    },
    {
     "name": "stdout",
     "output_type": "stream",
     "text": [
      "      Gene Celltype Freq\n",
      "1 TNFRSF17  B_cells    3\n"
     ]
    },
    {
     "name": "stderr",
     "output_type": "stream",
     "text": [
      "TNFSF12-TNFSF13\n",
      "\n",
      "TNFSF8\n",
      "\n"
     ]
    },
    {
     "name": "stdout",
     "output_type": "stream",
     "text": [
      "    Gene Celltype Freq\n",
      "1 TNFSF8  T_cells    1\n"
     ]
    },
    {
     "name": "stderr",
     "output_type": "stream",
     "text": [
      "TRAC\n",
      "\n"
     ]
    },
    {
     "name": "stdout",
     "output_type": "stream",
     "text": [
      "  Gene Celltype Freq\n",
      "1 TRAC  T_cells    1\n"
     ]
    },
    {
     "name": "stderr",
     "output_type": "stream",
     "text": [
      "TRAT1\n",
      "\n"
     ]
    },
    {
     "name": "stdout",
     "output_type": "stream",
     "text": [
      "   Gene Celltype Freq\n",
      "1 TRAT1  T_cells    6\n"
     ]
    },
    {
     "name": "stderr",
     "output_type": "stream",
     "text": [
      "TRBV20-1\n",
      "\n",
      "TRBV29-1\n",
      "\n",
      "TRBV7-2\n",
      "\n",
      "TRBV7-3\n",
      "\n",
      "TRBV9\n",
      "\n",
      "TRDC\n",
      "\n"
     ]
    },
    {
     "name": "stdout",
     "output_type": "stream",
     "text": [
      "  Gene Celltype Freq\n",
      "1 TRDC NK_cells    1\n",
      "2 TRDC  T_cells    1\n"
     ]
    },
    {
     "name": "stderr",
     "output_type": "stream",
     "text": [
      "TREM1\n",
      "\n"
     ]
    },
    {
     "name": "stdout",
     "output_type": "stream",
     "text": [
      "   Gene     Celltype Freq\n",
      "1 TREM1 Granulocytes    3\n",
      "2 TREM1    Monocytes    1\n"
     ]
    },
    {
     "name": "stderr",
     "output_type": "stream",
     "text": [
      "TREML2\n",
      "\n"
     ]
    },
    {
     "name": "stdout",
     "output_type": "stream",
     "text": [
      "    Gene     Celltype Freq\n",
      "1 TREML2      B_cells    1\n",
      "2 TREML2 Granulocytes    1\n"
     ]
    },
    {
     "name": "stderr",
     "output_type": "stream",
     "text": [
      "TRGC1\n",
      "\n"
     ]
    },
    {
     "name": "stdout",
     "output_type": "stream",
     "text": [
      "   Gene Celltype Freq\n",
      "1 TRGC1 NK_cells    1\n"
     ]
    },
    {
     "name": "stderr",
     "output_type": "stream",
     "text": [
      "TRGC2\n",
      "\n"
     ]
    },
    {
     "name": "stdout",
     "output_type": "stream",
     "text": [
      "   Gene Celltype Freq\n",
      "1 TRGC2  T_cells    1\n"
     ]
    },
    {
     "name": "stderr",
     "output_type": "stream",
     "text": [
      "TRGV10\n",
      "\n"
     ]
    },
    {
     "name": "stdout",
     "output_type": "stream",
     "text": [
      "    Gene Celltype Freq\n",
      "1 TRGV10  T_cells    1\n"
     ]
    },
    {
     "name": "stderr",
     "output_type": "stream",
     "text": [
      "TRGV2\n",
      "\n"
     ]
    },
    {
     "name": "stdout",
     "output_type": "stream",
     "text": [
      "   Gene Celltype Freq\n",
      "1 TRGV2  T_cells    1\n"
     ]
    },
    {
     "name": "stderr",
     "output_type": "stream",
     "text": [
      "TRGV3\n",
      "\n",
      "TRGV4\n",
      "\n"
     ]
    },
    {
     "name": "stdout",
     "output_type": "stream",
     "text": [
      "   Gene Celltype Freq\n",
      "1 TRGV4  T_cells    1\n"
     ]
    },
    {
     "name": "stderr",
     "output_type": "stream",
     "text": [
      "TRGV5\n",
      "\n"
     ]
    },
    {
     "name": "stdout",
     "output_type": "stream",
     "text": [
      "   Gene Celltype Freq\n",
      "1 TRGV5  T_cells    1\n"
     ]
    },
    {
     "name": "stderr",
     "output_type": "stream",
     "text": [
      "TRIM38\n",
      "\n",
      "TRIM73\n",
      "\n",
      "TTC24\n",
      "\n"
     ]
    },
    {
     "name": "stdout",
     "output_type": "stream",
     "text": [
      "   Gene Celltype Freq\n",
      "1 TTC24       DC    2\n"
     ]
    },
    {
     "name": "stderr",
     "output_type": "stream",
     "text": [
      "TTC39A\n",
      "\n"
     ]
    },
    {
     "name": "stdout",
     "output_type": "stream",
     "text": [
      "    Gene Celltype Freq\n",
      "1 TTC39A       DC    2\n"
     ]
    },
    {
     "name": "stderr",
     "output_type": "stream",
     "text": [
      "TXK\n",
      "\n"
     ]
    },
    {
     "name": "stdout",
     "output_type": "stream",
     "text": [
      "  Gene Celltype Freq\n",
      "1  TXK NK_cells    3\n"
     ]
    },
    {
     "name": "stderr",
     "output_type": "stream",
     "text": [
      "UBASH3A\n",
      "\n"
     ]
    },
    {
     "name": "stdout",
     "output_type": "stream",
     "text": [
      "     Gene Celltype Freq\n",
      "1 UBASH3A  T_cells    4\n"
     ]
    },
    {
     "name": "stderr",
     "output_type": "stream",
     "text": [
      "VAV1\n",
      "\n",
      "VCPIP1\n",
      "\n",
      "VENTX\n",
      "\n"
     ]
    },
    {
     "name": "stdout",
     "output_type": "stream",
     "text": [
      "   Gene  Celltype Freq\n",
      "1 VENTX Monocytes    1\n"
     ]
    },
    {
     "name": "stderr",
     "output_type": "stream",
     "text": [
      "VNN1\n",
      "\n"
     ]
    },
    {
     "name": "stdout",
     "output_type": "stream",
     "text": [
      "  Gene  Celltype Freq\n",
      "1 VNN1 Monocytes    3\n"
     ]
    },
    {
     "name": "stderr",
     "output_type": "stream",
     "text": [
      "VNN2\n",
      "\n"
     ]
    },
    {
     "name": "stdout",
     "output_type": "stream",
     "text": [
      "  Gene     Celltype Freq\n",
      "1 VNN2 Granulocytes    3\n"
     ]
    },
    {
     "name": "stderr",
     "output_type": "stream",
     "text": [
      "VNN3\n",
      "\n"
     ]
    },
    {
     "name": "stdout",
     "output_type": "stream",
     "text": [
      "  Gene     Celltype Freq\n",
      "1 VNN3 Granulocytes    4\n",
      "2 VNN3    Monocytes    1\n"
     ]
    },
    {
     "name": "stderr",
     "output_type": "stream",
     "text": [
      "VPREB3\n",
      "\n"
     ]
    },
    {
     "name": "stdout",
     "output_type": "stream",
     "text": [
      "    Gene Celltype Freq\n",
      "1 VPREB3  B_cells    6\n"
     ]
    },
    {
     "name": "stderr",
     "output_type": "stream",
     "text": [
      "VSTM1\n",
      "\n"
     ]
    },
    {
     "name": "stdout",
     "output_type": "stream",
     "text": [
      "   Gene     Celltype Freq\n",
      "1 VSTM1 Granulocytes    1\n",
      "2 VSTM1    Monocytes    1\n"
     ]
    },
    {
     "name": "stderr",
     "output_type": "stream",
     "text": [
      "WDFY4\n",
      "\n",
      "WHAMM\n",
      "\n",
      "XCL2\n",
      "\n"
     ]
    },
    {
     "name": "stdout",
     "output_type": "stream",
     "text": [
      "  Gene Celltype Freq\n",
      "1 XCL2 NK_cells    2\n"
     ]
    },
    {
     "name": "stderr",
     "output_type": "stream",
     "text": [
      "ZBED2\n",
      "\n"
     ]
    },
    {
     "name": "stdout",
     "output_type": "stream",
     "text": [
      "   Gene Celltype Freq\n",
      "1 ZBED2  B_cells    1\n"
     ]
    },
    {
     "name": "stderr",
     "output_type": "stream",
     "text": [
      "ZBP1\n",
      "\n"
     ]
    },
    {
     "name": "stdout",
     "output_type": "stream",
     "text": [
      "  Gene Celltype Freq\n",
      "1 ZBP1  B_cells    2\n",
      "2 ZBP1 NK_cells    1\n"
     ]
    },
    {
     "name": "stderr",
     "output_type": "stream",
     "text": [
      "ZBTB25\n",
      "\n",
      "ZC3H12A\n",
      "\n",
      "ZCCHC6\n",
      "\n"
     ]
    },
    {
     "name": "stdout",
     "output_type": "stream",
     "text": [
      "    Gene     Celltype Freq\n",
      "1 ZCCHC6 Granulocytes    2\n"
     ]
    },
    {
     "name": "stderr",
     "output_type": "stream",
     "text": [
      "ZMYM6NB\n",
      "\n",
      "ZNF267\n",
      "\n"
     ]
    },
    {
     "name": "stdout",
     "output_type": "stream",
     "text": [
      "    Gene     Celltype Freq\n",
      "1 ZNF267 Granulocytes    1\n"
     ]
    },
    {
     "name": "stderr",
     "output_type": "stream",
     "text": [
      "ZNF296\n",
      "\n",
      "ZNF600\n",
      "\n"
     ]
    },
    {
     "name": "stdout",
     "output_type": "stream",
     "text": [
      "    Gene Celltype Freq\n",
      "1 ZNF600 NK_cells    2\n"
     ]
    },
    {
     "name": "stderr",
     "output_type": "stream",
     "text": [
      "ZNF683\n",
      "\n"
     ]
    },
    {
     "name": "stdout",
     "output_type": "stream",
     "text": [
      "    Gene Celltype Freq\n",
      "1 ZNF683  T_cells    2\n"
     ]
    },
    {
     "name": "stderr",
     "output_type": "stream",
     "text": [
      "ZNF808\n",
      "\n",
      "ZNRF2\n",
      "\n"
     ]
    },
    {
     "name": "stdout",
     "output_type": "stream",
     "text": [
      "   Gene Celltype Freq\n",
      "1 ZNRF2       DC    2\n"
     ]
    },
    {
     "name": "stderr",
     "output_type": "stream",
     "text": [
      "ITGAL\n",
      "\n"
     ]
    },
    {
     "name": "stdout",
     "output_type": "stream",
     "text": [
      "   Gene Celltype Freq\n",
      "1 ITGAL  T_cells    1\n"
     ]
    },
    {
     "name": "stderr",
     "output_type": "stream",
     "text": [
      "TRAF3IP3\n",
      "\n"
     ]
    },
    {
     "name": "stdout",
     "output_type": "stream",
     "text": [
      "      Gene Celltype Freq\n",
      "1 TRAF3IP3  T_cells    1\n"
     ]
    },
    {
     "name": "stderr",
     "output_type": "stream",
     "text": [
      "BTK\n",
      "\n"
     ]
    },
    {
     "name": "stdout",
     "output_type": "stream",
     "text": [
      "  Gene     Celltype Freq\n",
      "1  BTK      B_cells    1\n",
      "2  BTK Granulocytes    1\n"
     ]
    },
    {
     "name": "stderr",
     "output_type": "stream",
     "text": [
      "BIRC3\n",
      "\n"
     ]
    },
    {
     "name": "stdout",
     "output_type": "stream",
     "text": [
      "   Gene Celltype Freq\n",
      "1 BIRC3  B_cells    1\n",
      "2 BIRC3       DC    1\n"
     ]
    },
    {
     "name": "stderr",
     "output_type": "stream",
     "text": [
      "PRDM1\n",
      "\n"
     ]
    },
    {
     "name": "stdout",
     "output_type": "stream",
     "text": [
      "   Gene Celltype Freq\n",
      "1 PRDM1  B_cells    1\n"
     ]
    },
    {
     "name": "stderr",
     "output_type": "stream",
     "text": [
      "DAPP1\n",
      "\n",
      "IPCEF1\n",
      "\n"
     ]
    },
    {
     "name": "stdout",
     "output_type": "stream",
     "text": [
      "    Gene Celltype Freq\n",
      "1 IPCEF1  T_cells    1\n"
     ]
    },
    {
     "name": "stderr",
     "output_type": "stream",
     "text": [
      "SP140\n",
      "\n"
     ]
    },
    {
     "name": "stdout",
     "output_type": "stream",
     "text": [
      "   Gene Celltype Freq\n",
      "1 SP140  B_cells    3\n"
     ]
    },
    {
     "name": "stderr",
     "output_type": "stream",
     "text": [
      "JAK3\n",
      "\n"
     ]
    },
    {
     "name": "stdout",
     "output_type": "stream",
     "text": [
      "  Gene Celltype Freq\n",
      "1 JAK3  T_cells    1\n"
     ]
    },
    {
     "name": "stderr",
     "output_type": "stream",
     "text": [
      "CD86\n",
      "\n"
     ]
    },
    {
     "name": "stdout",
     "output_type": "stream",
     "text": [
      "  Gene    Celltype Freq\n",
      "1 CD86          DC    2\n",
      "2 CD86 Macrophages    1\n"
     ]
    },
    {
     "name": "stderr",
     "output_type": "stream",
     "text": [
      "IL1RL1\n",
      "\n"
     ]
    },
    {
     "name": "stdout",
     "output_type": "stream",
     "text": [
      "    Gene      Celltype Freq\n",
      "1 IL1RL1  Granulocytes    1\n",
      "2 IL1RL1 Myeloid_cells    1\n"
     ]
    },
    {
     "name": "stderr",
     "output_type": "stream",
     "text": [
      "PLEK\n",
      "\n"
     ]
    },
    {
     "name": "stdout",
     "output_type": "stream",
     "text": [
      "  Gene  Celltype Freq\n",
      "1 PLEK Monocytes    1\n"
     ]
    },
    {
     "name": "stderr",
     "output_type": "stream",
     "text": [
      "CD2\n",
      "\n"
     ]
    },
    {
     "name": "stdout",
     "output_type": "stream",
     "text": [
      "  Gene Celltype Freq\n",
      "1  CD2  T_cells    2\n"
     ]
    },
    {
     "name": "stderr",
     "output_type": "stream",
     "text": [
      "CSTA\n",
      "\n"
     ]
    },
    {
     "name": "stdout",
     "output_type": "stream",
     "text": [
      "  Gene  Celltype Freq\n",
      "1 CSTA Monocytes    2\n"
     ]
    },
    {
     "name": "stderr",
     "output_type": "stream",
     "text": [
      "TMEM156\n",
      "\n"
     ]
    },
    {
     "name": "stdout",
     "output_type": "stream",
     "text": [
      "     Gene Celltype Freq\n",
      "1 TMEM156  B_cells    2\n"
     ]
    },
    {
     "name": "stderr",
     "output_type": "stream",
     "text": [
      "PTGER2\n",
      "\n"
     ]
    },
    {
     "name": "stdout",
     "output_type": "stream",
     "text": [
      "    Gene Celltype Freq\n",
      "1 PTGER2 NK_cells    1\n"
     ]
    },
    {
     "name": "stderr",
     "output_type": "stream",
     "text": [
      "TNFSF14\n",
      "\n"
     ]
    },
    {
     "name": "stdout",
     "output_type": "stream",
     "text": [
      "     Gene     Celltype Freq\n",
      "1 TNFSF14 Granulocytes    1\n",
      "2 TNFSF14  Macrophages    1\n",
      "3 TNFSF14     NK_cells    1\n"
     ]
    },
    {
     "name": "stderr",
     "output_type": "stream",
     "text": [
      "S1PR4\n",
      "\n"
     ]
    },
    {
     "name": "stdout",
     "output_type": "stream",
     "text": [
      "   Gene Celltype Freq\n",
      "1 S1PR4  B_cells    1\n"
     ]
    },
    {
     "name": "stderr",
     "output_type": "stream",
     "text": [
      "TEC\n",
      "\n"
     ]
    },
    {
     "name": "stdout",
     "output_type": "stream",
     "text": [
      "  Gene      Celltype Freq\n",
      "1  TEC  Granulocytes    1\n",
      "2  TEC Myeloid_cells    2\n"
     ]
    },
    {
     "name": "stderr",
     "output_type": "stream",
     "text": [
      "IL10\n",
      "\n"
     ]
    },
    {
     "name": "stdout",
     "output_type": "stream",
     "text": [
      "  Gene  Celltype Freq\n",
      "1 IL10        DC    1\n",
      "2 IL10 Monocytes    1\n"
     ]
    },
    {
     "name": "stderr",
     "output_type": "stream",
     "text": [
      "ITGB7\n",
      "\n"
     ]
    },
    {
     "name": "stdout",
     "output_type": "stream",
     "text": [
      "   Gene Celltype Freq\n",
      "1 ITGB7  T_cells    1\n"
     ]
    },
    {
     "name": "stderr",
     "output_type": "stream",
     "text": [
      "DOK2\n",
      "\n"
     ]
    },
    {
     "name": "stdout",
     "output_type": "stream",
     "text": [
      "  Gene     Celltype Freq\n",
      "1 DOK2 Granulocytes    1\n",
      "2 DOK2    Monocytes    1\n"
     ]
    },
    {
     "name": "stderr",
     "output_type": "stream",
     "text": [
      "FAM49B\n",
      "\n",
      "ENPP3\n",
      "\n"
     ]
    },
    {
     "name": "stdout",
     "output_type": "stream",
     "text": [
      "   Gene     Celltype Freq\n",
      "1 ENPP3 Granulocytes    1\n"
     ]
    },
    {
     "name": "stderr",
     "output_type": "stream",
     "text": [
      "GBP5\n",
      "\n"
     ]
    },
    {
     "name": "stdout",
     "output_type": "stream",
     "text": [
      "  Gene Celltype Freq\n",
      "1 GBP5  T_cells    1\n"
     ]
    },
    {
     "name": "stderr",
     "output_type": "stream",
     "text": [
      "SVOPL\n",
      "\n"
     ]
    },
    {
     "name": "stdout",
     "output_type": "stream",
     "text": [
      "   Gene     Celltype Freq\n",
      "1 SVOPL Granulocytes    1\n"
     ]
    },
    {
     "name": "stderr",
     "output_type": "stream",
     "text": [
      "NCF1\n",
      "\n"
     ]
    },
    {
     "name": "stdout",
     "output_type": "stream",
     "text": [
      "  Gene     Celltype Freq\n",
      "1 NCF1 Granulocytes    1\n"
     ]
    },
    {
     "name": "stderr",
     "output_type": "stream",
     "text": [
      "LAD1\n",
      "\n"
     ]
    },
    {
     "name": "stdout",
     "output_type": "stream",
     "text": [
      "  Gene Celltype Freq\n",
      "1 LAD1       DC    1\n"
     ]
    },
    {
     "name": "stderr",
     "output_type": "stream",
     "text": [
      "ICOSLG\n",
      "\n"
     ]
    },
    {
     "name": "stdout",
     "output_type": "stream",
     "text": [
      "    Gene Celltype Freq\n",
      "1 ICOSLG  B_cells    1\n"
     ]
    },
    {
     "name": "stderr",
     "output_type": "stream",
     "text": [
      "JAML\n",
      "\n"
     ]
    },
    {
     "name": "stdout",
     "output_type": "stream",
     "text": [
      "  Gene     Celltype Freq\n",
      "1 JAML Granulocytes    1\n"
     ]
    },
    {
     "name": "stderr",
     "output_type": "stream",
     "text": [
      "SLC25A45\n",
      "\n",
      "REL\n",
      "\n"
     ]
    },
    {
     "name": "stdout",
     "output_type": "stream",
     "text": [
      "  Gene Celltype Freq\n",
      "1  REL  B_cells    1\n"
     ]
    },
    {
     "name": "stderr",
     "output_type": "stream",
     "text": [
      "HPGDS\n",
      "\n"
     ]
    },
    {
     "name": "stdout",
     "output_type": "stream",
     "text": [
      "   Gene      Celltype Freq\n",
      "1 HPGDS  Granulocytes    1\n",
      "2 HPGDS Myeloid_cells    2\n"
     ]
    },
    {
     "name": "stderr",
     "output_type": "stream",
     "text": [
      "HPGD\n",
      "\n"
     ]
    },
    {
     "name": "stdout",
     "output_type": "stream",
     "text": [
      "  Gene Celltype Freq\n",
      "1 HPGD  T_cells    2\n"
     ]
    },
    {
     "name": "stderr",
     "output_type": "stream",
     "text": [
      "TMC8\n",
      "\n",
      "MLKL\n",
      "\n",
      "RHOH\n",
      "\n",
      "IL16\n",
      "\n"
     ]
    },
    {
     "name": "stdout",
     "output_type": "stream",
     "text": [
      "  Gene Celltype Freq\n",
      "1 IL16  T_cells    1\n"
     ]
    },
    {
     "name": "stderr",
     "output_type": "stream",
     "text": [
      "KLHL6\n",
      "\n",
      "CYSLTR1\n",
      "\n"
     ]
    },
    {
     "name": "stdout",
     "output_type": "stream",
     "text": [
      "     Gene     Celltype Freq\n",
      "1 CYSLTR1 Granulocytes    1\n"
     ]
    },
    {
     "name": "stderr",
     "output_type": "stream",
     "text": [
      "CATSPER1\n",
      "\n",
      "ANXA2R\n",
      "\n",
      "GIMAP7\n",
      "\n",
      "GPR157\n",
      "\n",
      "HSH2D\n",
      "\n"
     ]
    },
    {
     "name": "stdout",
     "output_type": "stream",
     "text": [
      "   Gene     Celltype Freq\n",
      "1 HSH2D Granulocytes    1\n"
     ]
    },
    {
     "name": "stderr",
     "output_type": "stream",
     "text": [
      "SPN\n",
      "\n"
     ]
    },
    {
     "name": "stdout",
     "output_type": "stream",
     "text": [
      "  Gene  Celltype Freq\n",
      "1  SPN Monocytes    1\n"
     ]
    },
    {
     "name": "stderr",
     "output_type": "stream",
     "text": [
      "C10orf128\n",
      "\n"
     ]
    },
    {
     "name": "stdout",
     "output_type": "stream",
     "text": [
      "       Gene     Celltype Freq\n",
      "1 C10orf128 Granulocytes    1\n"
     ]
    },
    {
     "name": "stderr",
     "output_type": "stream",
     "text": [
      "LTB\n",
      "\n"
     ]
    },
    {
     "name": "stdout",
     "output_type": "stream",
     "text": [
      "  Gene Celltype Freq\n",
      "1  LTB  T_cells    1\n"
     ]
    },
    {
     "name": "stderr",
     "output_type": "stream",
     "text": [
      "HLA-DQA2\n",
      "\n"
     ]
    },
    {
     "name": "stdout",
     "output_type": "stream",
     "text": [
      "      Gene Celltype Freq\n",
      "1 HLA-DQA2       DC    1\n"
     ]
    },
    {
     "name": "stderr",
     "output_type": "stream",
     "text": [
      "MPO\n",
      "\n"
     ]
    },
    {
     "name": "stdout",
     "output_type": "stream",
     "text": [
      "  Gene     Celltype Freq\n",
      "1  MPO Granulocytes    1\n"
     ]
    },
    {
     "name": "stderr",
     "output_type": "stream",
     "text": [
      "CEACAM21\n",
      "\n"
     ]
    },
    {
     "name": "stdout",
     "output_type": "stream",
     "text": [
      "      Gene Celltype Freq\n",
      "1 CEACAM21  B_cells    1\n"
     ]
    },
    {
     "name": "stderr",
     "output_type": "stream",
     "text": [
      "TNFRSF9\n",
      "\n"
     ]
    },
    {
     "name": "stdout",
     "output_type": "stream",
     "text": [
      "     Gene Celltype Freq\n",
      "1 TNFRSF9  T_cells    1\n"
     ]
    },
    {
     "name": "stderr",
     "output_type": "stream",
     "text": [
      "ACAP1\n",
      "\n"
     ]
    },
    {
     "name": "stdout",
     "output_type": "stream",
     "text": [
      "   Gene Celltype Freq\n",
      "1 ACAP1  T_cells    2\n"
     ]
    },
    {
     "name": "stderr",
     "output_type": "stream",
     "text": [
      "CD5L\n",
      "\n"
     ]
    },
    {
     "name": "stdout",
     "output_type": "stream",
     "text": [
      "  Gene  Celltype Freq\n",
      "1 CD5L Monocytes    1\n"
     ]
    },
    {
     "name": "stderr",
     "output_type": "stream",
     "text": [
      "P2RY10\n",
      "\n"
     ]
    },
    {
     "name": "stdout",
     "output_type": "stream",
     "text": [
      "    Gene     Celltype Freq\n",
      "1 P2RY10      B_cells    1\n",
      "2 P2RY10 Granulocytes    2\n"
     ]
    },
    {
     "name": "stderr",
     "output_type": "stream",
     "text": [
      "GP6\n",
      "\n"
     ]
    },
    {
     "name": "stdout",
     "output_type": "stream",
     "text": [
      "  Gene     Celltype Freq\n",
      "1  GP6 Granulocytes    1\n"
     ]
    },
    {
     "name": "stderr",
     "output_type": "stream",
     "text": [
      "CEBPE\n",
      "\n"
     ]
    },
    {
     "name": "stdout",
     "output_type": "stream",
     "text": [
      "   Gene     Celltype Freq\n",
      "1 CEBPE Granulocytes    2\n"
     ]
    },
    {
     "name": "stderr",
     "output_type": "stream",
     "text": [
      "ADA2\n",
      "\n"
     ]
    },
    {
     "name": "stdout",
     "output_type": "stream",
     "text": [
      "  Gene  Celltype Freq\n",
      "1 ADA2 Monocytes    1\n"
     ]
    },
    {
     "name": "stderr",
     "output_type": "stream",
     "text": [
      "OR1I1\n",
      "\n",
      "BIK\n",
      "\n"
     ]
    },
    {
     "name": "stdout",
     "output_type": "stream",
     "text": [
      "  Gene Celltype Freq\n",
      "1  BIK  B_cells    1\n"
     ]
    },
    {
     "name": "stderr",
     "output_type": "stream",
     "text": [
      "CTSG\n",
      "\n"
     ]
    },
    {
     "name": "stdout",
     "output_type": "stream",
     "text": [
      "  Gene      Celltype Freq\n",
      "1 CTSG Myeloid_cells    2\n"
     ]
    },
    {
     "name": "stderr",
     "output_type": "stream",
     "text": [
      "TUBB1\n",
      "\n"
     ]
    },
    {
     "name": "stdout",
     "output_type": "stream",
     "text": [
      "   Gene     Celltype Freq\n",
      "1 TUBB1 Granulocytes    2\n"
     ]
    },
    {
     "name": "stderr",
     "output_type": "stream",
     "text": [
      "GATA1\n",
      "\n"
     ]
    },
    {
     "name": "stdout",
     "output_type": "stream",
     "text": [
      "   Gene      Celltype Freq\n",
      "1 GATA1  Granulocytes    1\n",
      "2 GATA1 Myeloid_cells    1\n"
     ]
    },
    {
     "name": "stderr",
     "output_type": "stream",
     "text": [
      "CCL17\n",
      "\n"
     ]
    },
    {
     "name": "stdout",
     "output_type": "stream",
     "text": [
      "   Gene Celltype Freq\n",
      "1 CCL17       DC    2\n"
     ]
    },
    {
     "name": "stderr",
     "output_type": "stream",
     "text": [
      "PRSS33\n",
      "\n"
     ]
    },
    {
     "name": "stdout",
     "output_type": "stream",
     "text": [
      "    Gene     Celltype Freq\n",
      "1 PRSS33 Granulocytes    1\n"
     ]
    },
    {
     "name": "stderr",
     "output_type": "stream",
     "text": [
      "IL21R\n",
      "\n"
     ]
    },
    {
     "name": "stdout",
     "output_type": "stream",
     "text": [
      "   Gene Celltype Freq\n",
      "1 IL21R  T_cells    1\n"
     ]
    },
    {
     "name": "stderr",
     "output_type": "stream",
     "text": [
      "LYL1\n",
      "\n"
     ]
    },
    {
     "name": "stdout",
     "output_type": "stream",
     "text": [
      "  Gene      Celltype Freq\n",
      "1 LYL1  Granulocytes    1\n",
      "2 LYL1 Myeloid_cells    1\n"
     ]
    },
    {
     "name": "stderr",
     "output_type": "stream",
     "text": [
      "GIMAP2\n",
      "\n",
      "PF4V1\n",
      "\n"
     ]
    },
    {
     "name": "stdout",
     "output_type": "stream",
     "text": [
      "   Gene     Celltype Freq\n",
      "1 PF4V1 Granulocytes    2\n"
     ]
    },
    {
     "name": "stderr",
     "output_type": "stream",
     "text": [
      "IL10RA\n",
      "\n"
     ]
    },
    {
     "name": "stdout",
     "output_type": "stream",
     "text": [
      "    Gene Celltype Freq\n",
      "1 IL10RA       DC    1\n"
     ]
    },
    {
     "name": "stderr",
     "output_type": "stream",
     "text": [
      "AICDA\n",
      "\n"
     ]
    },
    {
     "name": "stdout",
     "output_type": "stream",
     "text": [
      "   Gene Celltype Freq\n",
      "1 AICDA  B_cells    3\n"
     ]
    },
    {
     "name": "stderr",
     "output_type": "stream",
     "text": [
      "RHAG\n",
      "\n",
      "TSPO2\n",
      "\n",
      "PRSS16\n",
      "\n"
     ]
    },
    {
     "name": "stdout",
     "output_type": "stream",
     "text": [
      "    Gene Celltype Freq\n",
      "1 PRSS16  B_cells    1\n"
     ]
    },
    {
     "name": "stderr",
     "output_type": "stream",
     "text": [
      "IL12B\n",
      "\n"
     ]
    },
    {
     "name": "stdout",
     "output_type": "stream",
     "text": [
      "   Gene     Celltype Freq\n",
      "1 IL12B           DC    2\n",
      "2 IL12B Granulocytes    1\n"
     ]
    },
    {
     "name": "stderr",
     "output_type": "stream",
     "text": [
      "IL4\n",
      "\n"
     ]
    },
    {
     "name": "stdout",
     "output_type": "stream",
     "text": [
      "  Gene     Celltype Freq\n",
      "1  IL4 Granulocytes    1\n",
      "2  IL4      T_cells    2\n"
     ]
    },
    {
     "name": "stderr",
     "output_type": "stream",
     "text": [
      "PLA2G2D\n",
      "\n"
     ]
    },
    {
     "name": "stdout",
     "output_type": "stream",
     "text": [
      "     Gene Celltype Freq\n",
      "1 PLA2G2D  B_cells    1\n"
     ]
    },
    {
     "name": "stderr",
     "output_type": "stream",
     "text": [
      "MMP8\n",
      "\n"
     ]
    },
    {
     "name": "stdout",
     "output_type": "stream",
     "text": [
      "  Gene     Celltype Freq\n",
      "1 MMP8 Granulocytes    1\n"
     ]
    },
    {
     "name": "stderr",
     "output_type": "stream",
     "text": [
      "MYB\n",
      "\n"
     ]
    },
    {
     "name": "stdout",
     "output_type": "stream",
     "text": [
      "  Gene      Celltype Freq\n",
      "1  MYB            DC    1\n",
      "2  MYB  Granulocytes    1\n",
      "3  MYB Myeloid_cells    1\n"
     ]
    },
    {
     "name": "stderr",
     "output_type": "stream",
     "text": [
      "CXorf21\n",
      "\n"
     ]
    },
    {
     "name": "stdout",
     "output_type": "stream",
     "text": [
      "     Gene  Celltype Freq\n",
      "1 CXorf21        DC    1\n",
      "2 CXorf21 Monocytes    1\n"
     ]
    },
    {
     "name": "stderr",
     "output_type": "stream",
     "text": [
      "TNFRSF8\n",
      "\n"
     ]
    },
    {
     "name": "stdout",
     "output_type": "stream",
     "text": [
      "     Gene  Celltype Freq\n",
      "1 TNFRSF8 Monocytes    3\n"
     ]
    },
    {
     "name": "stderr",
     "output_type": "stream",
     "text": [
      "EPX\n",
      "\n"
     ]
    },
    {
     "name": "stdout",
     "output_type": "stream",
     "text": [
      "  Gene     Celltype Freq\n",
      "1  EPX Granulocytes    1\n"
     ]
    },
    {
     "name": "stderr",
     "output_type": "stream",
     "text": [
      "CD80\n",
      "\n"
     ]
    },
    {
     "name": "stdout",
     "output_type": "stream",
     "text": [
      "  Gene Celltype Freq\n",
      "1 CD80       DC    2\n"
     ]
    },
    {
     "name": "stderr",
     "output_type": "stream",
     "text": [
      "GCNT7\n",
      "\n"
     ]
    },
    {
     "name": "stdout",
     "output_type": "stream",
     "text": [
      "   Gene     Celltype Freq\n",
      "1 GCNT7 Granulocytes    1\n"
     ]
    },
    {
     "name": "stderr",
     "output_type": "stream",
     "text": [
      "HIST1H2BJ\n",
      "\n"
     ]
    },
    {
     "name": "stdout",
     "output_type": "stream",
     "text": [
      "       Gene     Celltype Freq\n",
      "1 HIST1H2BJ Granulocytes    1\n"
     ]
    },
    {
     "name": "stderr",
     "output_type": "stream",
     "text": [
      "SIGLEC9\n",
      "\n"
     ]
    },
    {
     "name": "stdout",
     "output_type": "stream",
     "text": [
      "     Gene Celltype Freq\n",
      "1 SIGLEC9       DC    1\n"
     ]
    },
    {
     "name": "stderr",
     "output_type": "stream",
     "text": [
      "FUT5\n",
      "\n",
      "LILRB2\n",
      "\n"
     ]
    },
    {
     "name": "stdout",
     "output_type": "stream",
     "text": [
      "    Gene    Celltype Freq\n",
      "1 LILRB2          DC    1\n",
      "2 LILRB2 Macrophages    1\n",
      "3 LILRB2   Monocytes    1\n"
     ]
    },
    {
     "name": "stderr",
     "output_type": "stream",
     "text": [
      "HRH4\n",
      "\n"
     ]
    },
    {
     "name": "stdout",
     "output_type": "stream",
     "text": [
      "  Gene     Celltype Freq\n",
      "1 HRH4 Granulocytes    2\n"
     ]
    },
    {
     "name": "stderr",
     "output_type": "stream",
     "text": [
      "AOAH\n",
      "\n"
     ]
    },
    {
     "name": "stdout",
     "output_type": "stream",
     "text": [
      "  Gene  Celltype Freq\n",
      "1 AOAH Monocytes    2\n"
     ]
    },
    {
     "name": "stderr",
     "output_type": "stream",
     "text": [
      "ZGRF1\n",
      "\n",
      "IL21\n",
      "\n"
     ]
    },
    {
     "name": "stdout",
     "output_type": "stream",
     "text": [
      "  Gene Celltype Freq\n",
      "1 IL21  T_cells    2\n"
     ]
    },
    {
     "name": "stderr",
     "output_type": "stream",
     "text": [
      "PSTPIP1\n",
      "\n"
     ]
    },
    {
     "name": "stdout",
     "output_type": "stream",
     "text": [
      "     Gene Celltype Freq\n",
      "1 PSTPIP1  T_cells    1\n"
     ]
    },
    {
     "name": "stderr",
     "output_type": "stream",
     "text": [
      "ARL5C\n",
      "\n"
     ]
    },
    {
     "name": "stdout",
     "output_type": "stream",
     "text": [
      "   Gene Celltype Freq\n",
      "1 ARL5C       DC    1\n"
     ]
    },
    {
     "name": "stderr",
     "output_type": "stream",
     "text": [
      "MS4A3\n",
      "\n"
     ]
    },
    {
     "name": "stdout",
     "output_type": "stream",
     "text": [
      "   Gene      Celltype Freq\n",
      "1 MS4A3  Granulocytes    2\n",
      "2 MS4A3 Myeloid_cells    1\n"
     ]
    },
    {
     "name": "stderr",
     "output_type": "stream",
     "text": [
      "MS4A2\n",
      "\n"
     ]
    },
    {
     "name": "stdout",
     "output_type": "stream",
     "text": [
      "   Gene      Celltype Freq\n",
      "1 MS4A2  Granulocytes    1\n",
      "2 MS4A2 Myeloid_cells    2\n"
     ]
    },
    {
     "name": "stderr",
     "output_type": "stream",
     "text": [
      "GRAP\n",
      "\n",
      "LY96\n",
      "\n"
     ]
    },
    {
     "name": "stdout",
     "output_type": "stream",
     "text": [
      "  Gene     Celltype Freq\n",
      "1 LY96 Granulocytes    3\n"
     ]
    },
    {
     "name": "stderr",
     "output_type": "stream",
     "text": [
      "CXCL13\n",
      "\n"
     ]
    },
    {
     "name": "stdout",
     "output_type": "stream",
     "text": [
      "    Gene Celltype Freq\n",
      "1 CXCL13       DC    1\n",
      "2 CXCL13  T_cells    2\n"
     ]
    },
    {
     "name": "stderr",
     "output_type": "stream",
     "text": [
      "PRG3\n",
      "\n",
      "ITGAD\n",
      "\n",
      "CDCP2\n",
      "\n",
      "HIST1H4H\n",
      "\n"
     ]
    },
    {
     "name": "stdout",
     "output_type": "stream",
     "text": [
      "      Gene     Celltype Freq\n",
      "1 HIST1H4H Granulocytes    1\n"
     ]
    },
    {
     "name": "stderr",
     "output_type": "stream",
     "text": [
      "CD1A\n",
      "\n"
     ]
    },
    {
     "name": "stdout",
     "output_type": "stream",
     "text": [
      "  Gene Celltype Freq\n",
      "1 CD1A       DC    3\n"
     ]
    },
    {
     "name": "stderr",
     "output_type": "stream",
     "text": [
      "CD1B\n",
      "\n"
     ]
    },
    {
     "name": "stdout",
     "output_type": "stream",
     "text": [
      "  Gene Celltype Freq\n",
      "1 CD1B       DC    4\n"
     ]
    },
    {
     "name": "stderr",
     "output_type": "stream",
     "text": [
      "CD1E\n",
      "\n"
     ]
    },
    {
     "name": "stdout",
     "output_type": "stream",
     "text": [
      "  Gene Celltype Freq\n",
      "1 CD1E       DC    4\n"
     ]
    },
    {
     "name": "stderr",
     "output_type": "stream",
     "text": [
      "CARMIL2\n",
      "\n",
      "OR3A3\n",
      "\n"
     ]
    },
    {
     "name": "stdout",
     "output_type": "stream",
     "text": [
      "   Gene Celltype Freq\n",
      "1 OR3A3       DC    1\n"
     ]
    },
    {
     "name": "stderr",
     "output_type": "stream",
     "text": [
      "CCR5\n",
      "\n"
     ]
    },
    {
     "name": "stdout",
     "output_type": "stream",
     "text": [
      "  Gene Celltype Freq\n",
      "1 CCR5       DC    1\n",
      "2 CCR5  T_cells    3\n"
     ]
    },
    {
     "name": "stderr",
     "output_type": "stream",
     "text": [
      "RNASEK-C17orf49\n",
      "\n",
      "IL23R\n",
      "\n"
     ]
    },
    {
     "name": "stdout",
     "output_type": "stream",
     "text": [
      "   Gene Celltype Freq\n",
      "1 IL23R  T_cells    2\n"
     ]
    },
    {
     "name": "stderr",
     "output_type": "stream",
     "text": [
      "FCRLB\n",
      "\n"
     ]
    },
    {
     "name": "stdout",
     "output_type": "stream",
     "text": [
      "   Gene     Celltype Freq\n",
      "1 FCRLB Granulocytes    1\n"
     ]
    },
    {
     "name": "stderr",
     "output_type": "stream",
     "text": [
      "NBPF20\n",
      "\n"
     ]
    },
    {
     "name": "stdout",
     "output_type": "stream",
     "text": [
      "    Gene Celltype Freq\n",
      "1 NBPF20       DC    1\n"
     ]
    },
    {
     "name": "stderr",
     "output_type": "stream",
     "text": [
      "CIP2A\n",
      "\n",
      "FCRL1\n",
      "\n"
     ]
    },
    {
     "name": "stdout",
     "output_type": "stream",
     "text": [
      "   Gene Celltype Freq\n",
      "1 FCRL1  B_cells    3\n"
     ]
    },
    {
     "name": "stderr",
     "output_type": "stream",
     "text": [
      "SPTA1\n",
      "\n"
     ]
    },
    {
     "name": "stdout",
     "output_type": "stream",
     "text": [
      "   Gene Celltype Freq\n",
      "1 SPTA1  B_cells    1\n"
     ]
    },
    {
     "name": "stderr",
     "output_type": "stream",
     "text": [
      "CD200R1\n",
      "\n"
     ]
    },
    {
     "name": "stdout",
     "output_type": "stream",
     "text": [
      "     Gene     Celltype Freq\n",
      "1 CD200R1 Granulocytes    1\n"
     ]
    },
    {
     "name": "stderr",
     "output_type": "stream",
     "text": [
      "PPBP\n",
      "\n"
     ]
    },
    {
     "name": "stdout",
     "output_type": "stream",
     "text": [
      "  Gene     Celltype Freq\n",
      "1 PPBP Granulocytes    1\n",
      "2 PPBP  Macrophages    1\n"
     ]
    },
    {
     "name": "stderr",
     "output_type": "stream",
     "text": [
      "CPA3\n",
      "\n"
     ]
    },
    {
     "name": "stdout",
     "output_type": "stream",
     "text": [
      "  Gene      Celltype Freq\n",
      "1 CPA3  Granulocytes    1\n",
      "2 CPA3 Myeloid_cells    2\n"
     ]
    },
    {
     "name": "stderr",
     "output_type": "stream",
     "text": [
      "IL3\n",
      "\n"
     ]
    },
    {
     "name": "stdout",
     "output_type": "stream",
     "text": [
      "  Gene Celltype Freq\n",
      "1  IL3  T_cells    1\n"
     ]
    },
    {
     "name": "stderr",
     "output_type": "stream",
     "text": [
      "DEFA4\n",
      "\n"
     ]
    },
    {
     "name": "stdout",
     "output_type": "stream",
     "text": [
      "   Gene     Celltype Freq\n",
      "1 DEFA4 Granulocytes    2\n",
      "2 DEFA4     NK_cells    1\n"
     ]
    },
    {
     "name": "stderr",
     "output_type": "stream",
     "text": [
      "NOS3\n",
      "\n",
      "SPIC\n",
      "\n"
     ]
    },
    {
     "name": "stdout",
     "output_type": "stream",
     "text": [
      "  Gene  Celltype Freq\n",
      "1 SPIC Monocytes    1\n"
     ]
    },
    {
     "name": "stderr",
     "output_type": "stream",
     "text": [
      "RAG1\n",
      "\n"
     ]
    },
    {
     "name": "stdout",
     "output_type": "stream",
     "text": [
      "  Gene Celltype Freq\n",
      "1 RAG1  T_cells    1\n"
     ]
    },
    {
     "name": "stderr",
     "output_type": "stream",
     "text": [
      "HIST1H1E\n",
      "\n",
      "OR5AU1\n",
      "\n",
      "RNASE3\n",
      "\n"
     ]
    },
    {
     "name": "stdout",
     "output_type": "stream",
     "text": [
      "    Gene     Celltype Freq\n",
      "1 RNASE3 Granulocytes    1\n"
     ]
    },
    {
     "name": "stderr",
     "output_type": "stream",
     "text": [
      "VPREB1\n",
      "\n"
     ]
    },
    {
     "name": "stdout",
     "output_type": "stream",
     "text": [
      "    Gene     Celltype Freq\n",
      "1 VPREB1      B_cells    1\n",
      "2 VPREB1 Granulocytes    1\n"
     ]
    },
    {
     "name": "stderr",
     "output_type": "stream",
     "text": [
      "GP9\n",
      "\n"
     ]
    },
    {
     "name": "stdout",
     "output_type": "stream",
     "text": [
      "  Gene     Celltype Freq\n",
      "1  GP9      B_cells    1\n",
      "2  GP9 Granulocytes    1\n"
     ]
    },
    {
     "name": "stderr",
     "output_type": "stream",
     "text": [
      "AHSP\n",
      "\n"
     ]
    },
    {
     "name": "stdout",
     "output_type": "stream",
     "text": [
      "  Gene Celltype Freq\n",
      "1 AHSP  B_cells    1\n"
     ]
    },
    {
     "name": "stderr",
     "output_type": "stream",
     "text": [
      "SERPINA9\n",
      "\n"
     ]
    },
    {
     "name": "stdout",
     "output_type": "stream",
     "text": [
      "      Gene  Celltype Freq\n",
      "1 SERPINA9 Monocytes    1\n"
     ]
    },
    {
     "name": "stderr",
     "output_type": "stream",
     "text": [
      "GYPA\n",
      "\n"
     ]
    },
    {
     "name": "stdout",
     "output_type": "stream",
     "text": [
      "  Gene Celltype Freq\n",
      "1 GYPA  B_cells    1\n"
     ]
    },
    {
     "name": "stderr",
     "output_type": "stream",
     "text": [
      "OR10A2\n",
      "\n"
     ]
    },
    {
     "name": "stdout",
     "output_type": "stream",
     "text": [
      "    Gene     Celltype Freq\n",
      "1 OR10A2 Granulocytes    1\n"
     ]
    },
    {
     "name": "stderr",
     "output_type": "stream",
     "text": [
      "BFSP2\n",
      "\n"
     ]
    },
    {
     "name": "stdout",
     "output_type": "stream",
     "text": [
      "   Gene Celltype Freq\n",
      "1 BFSP2  B_cells    1\n",
      "2 BFSP2  T_cells    1\n"
     ]
    },
    {
     "name": "stderr",
     "output_type": "stream",
     "text": [
      "OR7G2\n",
      "\n"
     ]
    },
    {
     "name": "stdout",
     "output_type": "stream",
     "text": [
      "   Gene     Celltype Freq\n",
      "1 OR7G2 Granulocytes    1\n"
     ]
    },
    {
     "name": "stderr",
     "output_type": "stream",
     "text": [
      "OR1M1\n",
      "\n",
      "CEACAM3\n",
      "\n"
     ]
    },
    {
     "name": "stdout",
     "output_type": "stream",
     "text": [
      "     Gene     Celltype Freq\n",
      "1 CEACAM3 Granulocytes    6\n"
     ]
    },
    {
     "name": "stderr",
     "output_type": "stream",
     "text": [
      "OR2M4\n",
      "\n",
      "OR1L8\n",
      "\n",
      "OR2AT4\n",
      "\n",
      "GPR82\n",
      "\n",
      "OR52A5\n",
      "\n",
      "OR4X2\n",
      "\n",
      "AZU1\n",
      "\n"
     ]
    },
    {
     "name": "stdout",
     "output_type": "stream",
     "text": [
      "  Gene      Celltype Freq\n",
      "1 AZU1       B_cells    1\n",
      "2 AZU1 Myeloid_cells    1\n"
     ]
    },
    {
     "name": "stderr",
     "output_type": "stream",
     "text": [
      "OR5A1\n",
      "\n"
     ]
    },
    {
     "name": "stdout",
     "output_type": "stream",
     "text": [
      "   Gene     Celltype Freq\n",
      "1 OR5A1 Granulocytes    1\n"
     ]
    },
    {
     "name": "stderr",
     "output_type": "stream",
     "text": [
      "OR5B12\n",
      "\n",
      "OR5B2\n",
      "\n",
      "OR9G4\n",
      "\n",
      "OR10H5\n",
      "\n"
     ]
    },
    {
     "name": "stdout",
     "output_type": "stream",
     "text": [
      "    Gene     Celltype Freq\n",
      "1 OR10H5 Granulocytes    1\n"
     ]
    },
    {
     "name": "stderr",
     "output_type": "stream",
     "text": [
      "OR4D9\n",
      "\n",
      "AC097637.1\n",
      "\n"
     ]
    },
    {
     "name": "stdout",
     "output_type": "stream",
     "text": [
      "        Gene Celltype Freq\n",
      "1 AC097637.1       DC    1\n"
     ]
    },
    {
     "name": "stderr",
     "output_type": "stream",
     "text": [
      "XCR1\n",
      "\n"
     ]
    },
    {
     "name": "stdout",
     "output_type": "stream",
     "text": [
      "  Gene Celltype Freq\n",
      "1 XCR1       DC    2\n"
     ]
    },
    {
     "name": "stderr",
     "output_type": "stream",
     "text": [
      "CCR9\n",
      "\n"
     ]
    },
    {
     "name": "stdout",
     "output_type": "stream",
     "text": [
      "  Gene Celltype Freq\n",
      "1 CCR9  B_cells    1\n",
      "2 CCR9  T_cells    1\n"
     ]
    },
    {
     "name": "stderr",
     "output_type": "stream",
     "text": [
      "KIAA1551\n",
      "\n"
     ]
    },
    {
     "name": "stdout",
     "output_type": "stream",
     "text": [
      "      Gene     Celltype Freq\n",
      "1 KIAA1551 Granulocytes    2\n"
     ]
    },
    {
     "name": "stderr",
     "output_type": "stream",
     "text": [
      "RAG2\n",
      "\n"
     ]
    },
    {
     "name": "stdout",
     "output_type": "stream",
     "text": [
      "  Gene Celltype Freq\n",
      "1 RAG2  B_cells    1\n"
     ]
    },
    {
     "name": "stderr",
     "output_type": "stream",
     "text": [
      "OR52W1\n",
      "\n",
      "LRRC25\n",
      "\n"
     ]
    },
    {
     "name": "stdout",
     "output_type": "stream",
     "text": [
      "    Gene  Celltype Freq\n",
      "1 LRRC25 Monocytes    1\n"
     ]
    },
    {
     "name": "stderr",
     "output_type": "stream",
     "text": [
      "OR5AN1\n",
      "\n"
     ]
    },
    {
     "name": "stdout",
     "output_type": "stream",
     "text": [
      "    Gene Celltype Freq\n",
      "1 OR5AN1       DC    1\n"
     ]
    },
    {
     "name": "stderr",
     "output_type": "stream",
     "text": [
      "OR51V1\n",
      "\n",
      "UMODL1\n",
      "\n",
      "OR2B11\n",
      "\n"
     ]
    },
    {
     "name": "stdout",
     "output_type": "stream",
     "text": [
      "    Gene  Celltype Freq\n",
      "1 OR2B11 Monocytes    1\n"
     ]
    },
    {
     "name": "stderr",
     "output_type": "stream",
     "text": [
      "TMEM78\n",
      "\n"
     ]
    },
    {
     "name": "stdout",
     "output_type": "stream",
     "text": [
      "    Gene     Celltype Freq\n",
      "1 TMEM78 Granulocytes    1\n"
     ]
    },
    {
     "name": "stderr",
     "output_type": "stream",
     "text": [
      "HNRNPCL1\n",
      "\n",
      "OR6C4\n",
      "\n",
      "OR6K6\n",
      "\n"
     ]
    },
    {
     "name": "stdout",
     "output_type": "stream",
     "text": [
      "   Gene     Celltype Freq\n",
      "1 OR6K6 Granulocytes    1\n"
     ]
    },
    {
     "name": "stderr",
     "output_type": "stream",
     "text": [
      "HIST1H2AC\n",
      "\n"
     ]
    },
    {
     "name": "stdout",
     "output_type": "stream",
     "text": [
      "       Gene     Celltype Freq\n",
      "1 HIST1H2AC Granulocytes    1\n"
     ]
    },
    {
     "name": "stderr",
     "output_type": "stream",
     "text": [
      "HIST1H2BC\n",
      "\n"
     ]
    },
    {
     "name": "stdout",
     "output_type": "stream",
     "text": [
      "       Gene     Celltype Freq\n",
      "1 HIST1H2BC Granulocytes    3\n"
     ]
    },
    {
     "name": "stderr",
     "output_type": "stream",
     "text": [
      "OR2A4\n",
      "\n",
      "OR10K2\n",
      "\n",
      "OR56B1\n",
      "\n",
      "OR52N4\n",
      "\n",
      "OR5AK2\n",
      "\n",
      "OR8H1\n",
      "\n",
      "OR8H2\n",
      "\n"
     ]
    },
    {
     "name": "stdout",
     "output_type": "stream",
     "text": [
      "   Gene     Celltype Freq\n",
      "1 OR8H2 Granulocytes    1\n"
     ]
    },
    {
     "name": "stderr",
     "output_type": "stream",
     "text": [
      "OR5AS1\n",
      "\n",
      "OR6S1\n",
      "\n",
      "OR4C6\n",
      "\n"
     ]
    },
    {
     "name": "stdout",
     "output_type": "stream",
     "text": [
      "   Gene Celltype Freq\n",
      "1 OR4C6  B_cells    1\n"
     ]
    },
    {
     "name": "stderr",
     "output_type": "stream",
     "text": [
      "OR4P4\n",
      "\n",
      "OR52K2\n",
      "\n",
      "SHISAL2A\n",
      "\n",
      "IFNL1\n",
      "\n",
      "OR4F15\n",
      "\n"
     ]
    },
    {
     "name": "stdout",
     "output_type": "stream",
     "text": [
      "    Gene     Celltype Freq\n",
      "1 OR4F15 Granulocytes    1\n"
     ]
    },
    {
     "name": "stderr",
     "output_type": "stream",
     "text": [
      "ADGRG3\n",
      "\n"
     ]
    },
    {
     "name": "stdout",
     "output_type": "stream",
     "text": [
      "    Gene     Celltype Freq\n",
      "1 ADGRG3 Granulocytes    3\n"
     ]
    },
    {
     "name": "stderr",
     "output_type": "stream",
     "text": [
      "GJD3\n",
      "\n"
     ]
    },
    {
     "name": "stdout",
     "output_type": "stream",
     "text": [
      "  Gene Celltype Freq\n",
      "1 GJD3 NK_cells    1\n"
     ]
    },
    {
     "name": "stderr",
     "output_type": "stream",
     "text": [
      "OR2T34\n",
      "\n"
     ]
    },
    {
     "name": "stdout",
     "output_type": "stream",
     "text": [
      "    Gene Celltype Freq\n",
      "1 OR2T34  T_cells    1\n"
     ]
    },
    {
     "name": "stderr",
     "output_type": "stream",
     "text": [
      "OR56A4\n",
      "\n"
     ]
    },
    {
     "name": "stdout",
     "output_type": "stream",
     "text": [
      "    Gene     Celltype Freq\n",
      "1 OR56A4 Granulocytes    1\n"
     ]
    },
    {
     "name": "stderr",
     "output_type": "stream",
     "text": [
      "HIST2H3D\n",
      "\n"
     ]
    },
    {
     "name": "stdout",
     "output_type": "stream",
     "text": [
      "      Gene     Celltype Freq\n",
      "1 HIST2H3D Granulocytes    1\n"
     ]
    },
    {
     "name": "stderr",
     "output_type": "stream",
     "text": [
      "HIST2H2AC\n",
      "\n",
      "HIST2H2AB\n",
      "\n",
      "HIST1H1B\n",
      "\n",
      "CCR10\n",
      "\n"
     ]
    },
    {
     "name": "stdout",
     "output_type": "stream",
     "text": [
      "   Gene Celltype Freq\n",
      "1 CCR10  B_cells    1\n",
      "2 CCR10  T_cells    2\n"
     ]
    },
    {
     "name": "stderr",
     "output_type": "stream",
     "text": [
      "APOBR\n",
      "\n",
      "SPDYE16\n",
      "\n",
      "HIST1H2BL\n",
      "\n"
     ]
    },
    {
     "name": "stdout",
     "output_type": "stream",
     "text": [
      "       Gene     Celltype Freq\n",
      "1 HIST1H2BL Granulocytes    2\n"
     ]
    },
    {
     "name": "stderr",
     "output_type": "stream",
     "text": [
      "GP1BA\n",
      "\n"
     ]
    },
    {
     "name": "stdout",
     "output_type": "stream",
     "text": [
      "   Gene     Celltype Freq\n",
      "1 GP1BA Granulocytes    1\n",
      "2 GP1BA  Macrophages    1\n"
     ]
    },
    {
     "name": "stderr",
     "output_type": "stream",
     "text": [
      "OR7A17\n",
      "\n",
      "C16orf54\n",
      "\n",
      "LCE3A\n",
      "\n"
     ]
    },
    {
     "name": "stdout",
     "output_type": "stream",
     "text": [
      "   Gene Celltype Freq\n",
      "1 LCE3A       DC    1\n"
     ]
    },
    {
     "name": "stderr",
     "output_type": "stream",
     "text": [
      "EDARADD\n",
      "\n"
     ]
    },
    {
     "name": "stdout",
     "output_type": "stream",
     "text": [
      "     Gene     Celltype Freq\n",
      "1 EDARADD Granulocytes    1\n",
      "2 EDARADD      T_cells    1\n"
     ]
    },
    {
     "name": "stderr",
     "output_type": "stream",
     "text": [
      "CXCR3\n",
      "\n"
     ]
    },
    {
     "name": "stdout",
     "output_type": "stream",
     "text": [
      "   Gene Celltype Freq\n",
      "1 CXCR3       DC    1\n",
      "2 CXCR3  T_cells    1\n"
     ]
    },
    {
     "name": "stderr",
     "output_type": "stream",
     "text": [
      "OR13C8\n",
      "\n"
     ]
    },
    {
     "name": "stdout",
     "output_type": "stream",
     "text": [
      "    Gene Celltype Freq\n",
      "1 OR13C8  T_cells    1\n"
     ]
    },
    {
     "name": "stderr",
     "output_type": "stream",
     "text": [
      "LCE3B\n",
      "\n",
      "SOWAHD\n",
      "\n"
     ]
    },
    {
     "name": "stdout",
     "output_type": "stream",
     "text": [
      "    Gene Celltype Freq\n",
      "1 SOWAHD  B_cells    1\n"
     ]
    },
    {
     "name": "stderr",
     "output_type": "stream",
     "text": [
      "OR51I2\n",
      "\n"
     ]
    },
    {
     "name": "stdout",
     "output_type": "stream",
     "text": [
      "    Gene     Celltype Freq\n",
      "1 OR51I2 Granulocytes    1\n"
     ]
    },
    {
     "name": "stderr",
     "output_type": "stream",
     "text": [
      "C17orf99\n",
      "\n",
      "OR2AG2\n",
      "\n",
      "PEAK3\n",
      "\n"
     ]
    },
    {
     "name": "stdout",
     "output_type": "stream",
     "text": [
      "   Gene     Celltype Freq\n",
      "1 PEAK3 Granulocytes    1\n"
     ]
    },
    {
     "name": "stderr",
     "output_type": "stream",
     "text": [
      "OR6N2\n",
      "\n"
     ]
    },
    {
     "name": "stdout",
     "output_type": "stream",
     "text": [
      "   Gene     Celltype Freq\n",
      "1 OR6N2 Granulocytes    1\n"
     ]
    },
    {
     "name": "stderr",
     "output_type": "stream",
     "text": [
      "PDCD1\n",
      "\n"
     ]
    },
    {
     "name": "stdout",
     "output_type": "stream",
     "text": [
      "   Gene Celltype Freq\n",
      "1 PDCD1  T_cells    4\n"
     ]
    },
    {
     "name": "stderr",
     "output_type": "stream",
     "text": [
      "OR2G6\n",
      "\n",
      "RHCE\n",
      "\n"
     ]
    },
    {
     "name": "stdout",
     "output_type": "stream",
     "text": [
      "  Gene     Celltype Freq\n",
      "1 RHCE Granulocytes    1\n"
     ]
    },
    {
     "name": "stderr",
     "output_type": "stream",
     "text": [
      "CALHM6\n",
      "\n"
     ]
    },
    {
     "name": "stdout",
     "output_type": "stream",
     "text": [
      "    Gene  Celltype Freq\n",
      "1 CALHM6 Monocytes    1\n"
     ]
    },
    {
     "name": "stderr",
     "output_type": "stream",
     "text": [
      "ASTL\n",
      "\n",
      "NEMP2\n",
      "\n",
      "GIMAP5\n",
      "\n",
      "PRTN3\n",
      "\n"
     ]
    },
    {
     "name": "stdout",
     "output_type": "stream",
     "text": [
      "   Gene     Celltype Freq\n",
      "1 PRTN3      B_cells    1\n",
      "2 PRTN3 Granulocytes    1\n"
     ]
    },
    {
     "name": "stderr",
     "output_type": "stream",
     "text": [
      "BORCS6\n",
      "\n",
      "HIST1H2AI\n",
      "\n",
      "HIST1H2AG\n",
      "\n"
     ]
    },
    {
     "name": "stdout",
     "output_type": "stream",
     "text": [
      "       Gene     Celltype Freq\n",
      "1 HIST1H2AG Granulocytes    1\n"
     ]
    },
    {
     "name": "stderr",
     "output_type": "stream",
     "text": [
      "OR11G2\n",
      "\n"
     ]
    },
    {
     "name": "stdout",
     "output_type": "stream",
     "text": [
      "    Gene     Celltype Freq\n",
      "1 OR11G2 Granulocytes    1\n"
     ]
    },
    {
     "name": "stderr",
     "output_type": "stream",
     "text": [
      "HIST1H2AD\n",
      "\n"
     ]
    },
    {
     "name": "stdout",
     "output_type": "stream",
     "text": [
      "       Gene     Celltype Freq\n",
      "1 HIST1H2AD Granulocytes    1\n"
     ]
    },
    {
     "name": "stderr",
     "output_type": "stream",
     "text": [
      "HIST3H2BB\n",
      "\n",
      "TMEM26\n",
      "\n",
      "SIGLEC15\n",
      "\n",
      "OR8B8\n",
      "\n",
      "HIST1H4J\n",
      "\n"
     ]
    },
    {
     "name": "stdout",
     "output_type": "stream",
     "text": [
      "      Gene     Celltype Freq\n",
      "1 HIST1H4J Granulocytes    1\n"
     ]
    },
    {
     "name": "stderr",
     "output_type": "stream",
     "text": [
      "OR6N1\n",
      "\n"
     ]
    },
    {
     "name": "stdout",
     "output_type": "stream",
     "text": [
      "   Gene     Celltype Freq\n",
      "1 OR6N1 Granulocytes    1\n"
     ]
    },
    {
     "name": "stderr",
     "output_type": "stream",
     "text": [
      "HIST1H3D\n",
      "\n"
     ]
    },
    {
     "name": "stdout",
     "output_type": "stream",
     "text": [
      "      Gene     Celltype Freq\n",
      "1 HIST1H3D Granulocytes    1\n"
     ]
    },
    {
     "name": "stderr",
     "output_type": "stream",
     "text": [
      "OR51D1\n",
      "\n",
      "OR2L5\n",
      "\n",
      "GYPE\n",
      "\n"
     ]
    },
    {
     "name": "stdout",
     "output_type": "stream",
     "text": [
      "  Gene Celltype Freq\n",
      "1 GYPE  B_cells    1\n",
      "2 GYPE  T_cells    1\n"
     ]
    },
    {
     "name": "stderr",
     "output_type": "stream",
     "text": [
      "ELANE\n",
      "\n"
     ]
    },
    {
     "name": "stdout",
     "output_type": "stream",
     "text": [
      "   Gene      Celltype Freq\n",
      "1 ELANE Myeloid_cells    1\n"
     ]
    },
    {
     "name": "stderr",
     "output_type": "stream",
     "text": [
      "MPEG1\n",
      "\n"
     ]
    },
    {
     "name": "stdout",
     "output_type": "stream",
     "text": [
      "   Gene  Celltype Freq\n",
      "1 MPEG1 Monocytes    1\n"
     ]
    },
    {
     "name": "stderr",
     "output_type": "stream",
     "text": [
      "OR52M1\n",
      "\n"
     ]
    },
    {
     "name": "stdout",
     "output_type": "stream",
     "text": [
      "    Gene     Celltype Freq\n",
      "1 OR52M1 Granulocytes    1\n"
     ]
    },
    {
     "name": "stderr",
     "output_type": "stream",
     "text": [
      "OR10Z1\n",
      "\n",
      "OR6K3\n",
      "\n"
     ]
    },
    {
     "name": "stdout",
     "output_type": "stream",
     "text": [
      "   Gene     Celltype Freq\n",
      "1 OR6K3 Granulocytes    1\n"
     ]
    },
    {
     "name": "stderr",
     "output_type": "stream",
     "text": [
      "HIST2H3A\n",
      "\n"
     ]
    },
    {
     "name": "stdout",
     "output_type": "stream",
     "text": [
      "      Gene     Celltype Freq\n",
      "1 HIST2H3A Granulocytes    1\n"
     ]
    },
    {
     "name": "stderr",
     "output_type": "stream",
     "text": [
      "GDF5OS\n",
      "\n",
      "CD300LD\n",
      "\n"
     ]
    },
    {
     "name": "stdout",
     "output_type": "stream",
     "text": [
      "     Gene     Celltype Freq\n",
      "1 CD300LD Granulocytes    1\n"
     ]
    },
    {
     "name": "stderr",
     "output_type": "stream",
     "text": [
      "CARD16\n",
      "\n",
      "MPIG6B\n",
      "\n",
      "DEFA1\n",
      "\n"
     ]
    },
    {
     "name": "stdout",
     "output_type": "stream",
     "text": [
      "   Gene Celltype Freq\n",
      "1 DEFA1  T_cells    1\n"
     ]
    },
    {
     "name": "stderr",
     "output_type": "stream",
     "text": [
      "UBD\n",
      "\n",
      "TRIM64C\n",
      "\n"
     ]
    },
    {
     "name": "stdout",
     "output_type": "stream",
     "text": [
      "     Gene     Celltype Freq\n",
      "1 TRIM64C Granulocytes    1\n"
     ]
    },
    {
     "name": "stderr",
     "output_type": "stream",
     "text": [
      "GPR33\n",
      "\n"
     ]
    },
    {
     "name": "stdout",
     "output_type": "stream",
     "text": [
      "   Gene Celltype Freq\n",
      "1 GPR33       DC    1\n"
     ]
    },
    {
     "name": "stderr",
     "output_type": "stream",
     "text": [
      "OR2A5\n",
      "\n"
     ]
    },
    {
     "name": "stdout",
     "output_type": "stream",
     "text": [
      "   Gene     Celltype Freq\n",
      "1 OR2A5 Granulocytes    1\n"
     ]
    },
    {
     "name": "stderr",
     "output_type": "stream",
     "text": [
      "OR2A25\n",
      "\n"
     ]
    },
    {
     "name": "stdout",
     "output_type": "stream",
     "text": [
      "    Gene     Celltype Freq\n",
      "1 OR2A25 Granulocytes    1\n"
     ]
    },
    {
     "name": "stderr",
     "output_type": "stream",
     "text": [
      "TAS2R40\n",
      "\n"
     ]
    },
    {
     "name": "stdout",
     "output_type": "stream",
     "text": [
      "     Gene     Celltype Freq\n",
      "1 TAS2R40 Granulocytes    2\n"
     ]
    },
    {
     "name": "stderr",
     "output_type": "stream",
     "text": [
      "OR4E2\n",
      "\n",
      "PSMB11\n",
      "\n"
     ]
    },
    {
     "name": "stdout",
     "output_type": "stream",
     "text": [
      "    Gene Celltype Freq\n",
      "1 PSMB11  T_cells    1\n"
     ]
    },
    {
     "name": "stderr",
     "output_type": "stream",
     "text": [
      "TRIM49D1\n",
      "\n"
     ]
    },
    {
     "name": "stdout",
     "output_type": "stream",
     "text": [
      "      Gene     Celltype Freq\n",
      "1 TRIM49D1 Granulocytes    1\n"
     ]
    },
    {
     "name": "stderr",
     "output_type": "stream",
     "text": [
      "Z82206.1\n",
      "\n",
      "ZNF492\n",
      "\n",
      "DYTN\n",
      "\n",
      "TRIM49D2\n",
      "\n"
     ]
    },
    {
     "name": "stdout",
     "output_type": "stream",
     "text": [
      "      Gene     Celltype Freq\n",
      "1 TRIM49D2 Granulocytes    1\n"
     ]
    },
    {
     "name": "stderr",
     "output_type": "stream",
     "text": [
      "HIST1H2BN\n",
      "\n"
     ]
    },
    {
     "name": "stdout",
     "output_type": "stream",
     "text": [
      "       Gene     Celltype Freq\n",
      "1 HIST1H2BN Granulocytes    1\n"
     ]
    },
    {
     "name": "stderr",
     "output_type": "stream",
     "text": [
      "H2BFS\n",
      "\n",
      "SMIM27\n",
      "\n"
     ]
    },
    {
     "name": "stdout",
     "output_type": "stream",
     "text": [
      "    Gene     Celltype Freq\n",
      "1 SMIM27 Granulocytes    1\n"
     ]
    },
    {
     "name": "stderr",
     "output_type": "stream",
     "text": [
      "SLFN14\n",
      "\n",
      "OR4A47\n",
      "\n"
     ]
    },
    {
     "name": "stdout",
     "output_type": "stream",
     "text": [
      "    Gene Celltype Freq\n",
      "1 OR4A47  T_cells    1\n"
     ]
    },
    {
     "name": "stderr",
     "output_type": "stream",
     "text": [
      "IRGM\n",
      "\n"
     ]
    },
    {
     "name": "stdout",
     "output_type": "stream",
     "text": [
      "  Gene     Celltype Freq\n",
      "1 IRGM Granulocytes    1\n"
     ]
    },
    {
     "name": "stderr",
     "output_type": "stream",
     "text": [
      "TLR9\n",
      "\n"
     ]
    },
    {
     "name": "stdout",
     "output_type": "stream",
     "text": [
      "  Gene Celltype Freq\n",
      "1 TLR9       DC    2\n"
     ]
    },
    {
     "name": "stderr",
     "output_type": "stream",
     "text": [
      "DEFA3\n",
      "\n"
     ]
    },
    {
     "name": "stdout",
     "output_type": "stream",
     "text": [
      "   Gene     Celltype Freq\n",
      "1 DEFA3 Granulocytes    1\n"
     ]
    },
    {
     "name": "stderr",
     "output_type": "stream",
     "text": [
      "DEFA1B\n",
      "\n"
     ]
    },
    {
     "name": "stdout",
     "output_type": "stream",
     "text": [
      "    Gene Celltype Freq\n",
      "1 DEFA1B  B_cells    1\n"
     ]
    },
    {
     "name": "stderr",
     "output_type": "stream",
     "text": [
      "TARM1\n",
      "\n"
     ]
    },
    {
     "name": "stdout",
     "output_type": "stream",
     "text": [
      "   Gene     Celltype Freq\n",
      "1 TARM1 Granulocytes    1\n"
     ]
    },
    {
     "name": "stderr",
     "output_type": "stream",
     "text": [
      "AC004997.1\n",
      "\n",
      "AP000311.1\n",
      "\n"
     ]
    },
    {
     "name": "stdout",
     "output_type": "stream",
     "text": [
      "        Gene Celltype Freq\n",
      "1 AP000311.1  T_cells    1\n"
     ]
    },
    {
     "name": "stderr",
     "output_type": "stream",
     "text": [
      "ATP5MGL\n",
      "\n",
      "AC069368.1\n",
      "\n"
     ]
    },
    {
     "name": "stdout",
     "output_type": "stream",
     "text": [
      "        Gene Celltype Freq\n",
      "1 AC069368.1  T_cells    1\n"
     ]
    },
    {
     "name": "stderr",
     "output_type": "stream",
     "text": [
      "AP000295.1\n",
      "\n"
     ]
    },
    {
     "name": "stdout",
     "output_type": "stream",
     "text": [
      "        Gene     Celltype Freq\n",
      "1 AP000295.1 Granulocytes    1\n"
     ]
    },
    {
     "name": "stderr",
     "output_type": "stream",
     "text": [
      "PTTG2\n",
      "\n"
     ]
    },
    {
     "name": "stdout",
     "output_type": "stream",
     "text": [
      "   Gene     Celltype Freq\n",
      "1 PTTG2 Granulocytes    1\n"
     ]
    },
    {
     "name": "stderr",
     "output_type": "stream",
     "text": [
      "AL669918.1\n",
      "\n",
      "ALG1L2\n",
      "\n"
     ]
    },
    {
     "name": "stdout",
     "output_type": "stream",
     "text": [
      "    Gene Celltype Freq\n",
      "1 ALG1L2       DC    1\n"
     ]
    },
    {
     "name": "stderr",
     "output_type": "stream",
     "text": [
      "UBTFL1\n",
      "\n"
     ]
    },
    {
     "name": "stdout",
     "output_type": "stream",
     "text": [
      "    Gene Celltype Freq\n",
      "1 UBTFL1       DC    1\n"
     ]
    },
    {
     "name": "stderr",
     "output_type": "stream",
     "text": [
      "OR10G2\n",
      "\n",
      "RAB44\n",
      "\n"
     ]
    },
    {
     "name": "stdout",
     "output_type": "stream",
     "text": [
      "   Gene     Celltype Freq\n",
      "1 RAB44 Granulocytes    1\n"
     ]
    },
    {
     "name": "stderr",
     "output_type": "stream",
     "text": [
      "AC011462.1\n",
      "\n"
     ]
    },
    {
     "name": "stdout",
     "output_type": "stream",
     "text": [
      "        Gene  Celltype Freq\n",
      "1 AC011462.1 Monocytes    1\n"
     ]
    },
    {
     "name": "stderr",
     "output_type": "stream",
     "text": [
      "AC108488.2\n",
      "\n"
     ]
    },
    {
     "name": "stdout",
     "output_type": "stream",
     "text": [
      "        Gene Celltype Freq\n",
      "1 AC108488.2       DC    1\n"
     ]
    },
    {
     "name": "stderr",
     "output_type": "stream",
     "text": [
      "OR6J1\n",
      "\n",
      "DUXA\n",
      "\n"
     ]
    },
    {
     "name": "stdout",
     "output_type": "stream",
     "text": [
      "  Gene     Celltype Freq\n",
      "1 DUXA Granulocytes    1\n"
     ]
    },
    {
     "name": "stderr",
     "output_type": "stream",
     "text": [
      "AL096870.1\n",
      "\n"
     ]
    },
    {
     "name": "stdout",
     "output_type": "stream",
     "text": [
      "        Gene     Celltype Freq\n",
      "1 AL096870.1 Granulocytes    1\n"
     ]
    },
    {
     "name": "stderr",
     "output_type": "stream",
     "text": [
      "AC136428.1\n",
      "\n"
     ]
    },
    {
     "name": "stdout",
     "output_type": "stream",
     "text": [
      "        Gene Celltype Freq\n",
      "1 AC136428.1  B_cells    1\n"
     ]
    },
    {
     "name": "stderr",
     "output_type": "stream",
     "text": [
      "AC026464.3\n",
      "\n",
      "AC026464.4\n",
      "\n",
      "AL662899.2\n",
      "\n",
      "AC119396.1\n",
      "\n",
      "FAM72C\n",
      "\n"
     ]
    },
    {
     "name": "stdout",
     "output_type": "stream",
     "text": [
      "    Gene Celltype Freq\n",
      "1 FAM72C  T_cells    1\n"
     ]
    },
    {
     "name": "stderr",
     "output_type": "stream",
     "text": [
      "RHEX\n",
      "\n"
     ]
    },
    {
     "name": "stdout",
     "output_type": "stream",
     "text": [
      "  Gene     Celltype Freq\n",
      "1 RHEX Granulocytes    1\n"
     ]
    },
    {
     "name": "stderr",
     "output_type": "stream",
     "text": [
      "AC134669.1\n",
      "\n"
     ]
    },
    {
     "name": "stdout",
     "output_type": "stream",
     "text": [
      "        Gene     Celltype Freq\n",
      "1 AC134669.1 Granulocytes    1\n"
     ]
    },
    {
     "name": "stderr",
     "output_type": "stream",
     "text": [
      "AC010616.1\n",
      "\n",
      "OPN1MW\n",
      "\n",
      "AC018755.2\n",
      "\n"
     ]
    },
    {
     "name": "stdout",
     "output_type": "stream",
     "text": [
      "        Gene     Celltype Freq\n",
      "1 AC018755.2 Granulocytes    1\n"
     ]
    },
    {
     "name": "stderr",
     "output_type": "stream",
     "text": [
      "AC008878.3\n",
      "\n",
      "AC008763.3\n",
      "\n",
      "HIST2H4B\n",
      "\n",
      "HIST2H4A\n",
      "\n",
      "MILR1\n",
      "\n"
     ]
    },
    {
     "name": "stdout",
     "output_type": "stream",
     "text": [
      "   Gene Celltype Freq\n",
      "1 MILR1       DC    1\n"
     ]
    },
    {
     "name": "stderr",
     "output_type": "stream",
     "text": [
      "HIST1H2BM\n",
      "\n"
     ]
    },
    {
     "name": "stdout",
     "output_type": "stream",
     "text": [
      "       Gene Celltype Freq\n",
      "1 HIST1H2BM  B_cells    1\n"
     ]
    },
    {
     "name": "stderr",
     "output_type": "stream",
     "text": [
      "HIST1H2BG\n",
      "\n"
     ]
    },
    {
     "name": "stdout",
     "output_type": "stream",
     "text": [
      "       Gene Celltype Freq\n",
      "1 HIST1H2BG  B_cells    1\n"
     ]
    },
    {
     "name": "stderr",
     "output_type": "stream",
     "text": [
      "HIST1H3G\n",
      "\n",
      "HIST1H3B\n",
      "\n"
     ]
    },
    {
     "name": "stdout",
     "output_type": "stream",
     "text": [
      "      Gene Celltype Freq\n",
      "1 HIST1H3B  T_cells    1\n"
     ]
    },
    {
     "name": "stderr",
     "output_type": "stream",
     "text": [
      "HIST1H2BE\n",
      "\n",
      "HIST1H4F\n",
      "\n"
     ]
    },
    {
     "name": "stdout",
     "output_type": "stream",
     "text": [
      "      Gene Celltype Freq\n",
      "1 HIST1H4F  T_cells    1\n"
     ]
    },
    {
     "name": "stderr",
     "output_type": "stream",
     "text": [
      "HIST1H2BO\n",
      "\n",
      "CCL23\n",
      "\n"
     ]
    },
    {
     "name": "stdout",
     "output_type": "stream",
     "text": [
      "   Gene     Celltype Freq\n",
      "1 CCL23           DC    1\n",
      "2 CCL23 Granulocytes    1\n",
      "3 CCL23  Macrophages    1\n"
     ]
    },
    {
     "name": "stderr",
     "output_type": "stream",
     "text": [
      "MAFIP\n",
      "\n",
      "HIST1H2AH\n",
      "\n"
     ]
    },
    {
     "name": "stdout",
     "output_type": "stream",
     "text": [
      "       Gene Celltype Freq\n",
      "1 HIST1H2AH  B_cells    1\n"
     ]
    },
    {
     "name": "stderr",
     "output_type": "stream",
     "text": [
      "HIST1H4L\n",
      "\n"
     ]
    },
    {
     "name": "stdout",
     "output_type": "stream",
     "text": [
      "      Gene Celltype Freq\n",
      "1 HIST1H4L  B_cells    1\n"
     ]
    },
    {
     "name": "stderr",
     "output_type": "stream",
     "text": [
      "HIST1H2AK\n",
      "\n",
      "HIST1H3I\n",
      "\n"
     ]
    },
    {
     "name": "stdout",
     "output_type": "stream",
     "text": [
      "      Gene Celltype Freq\n",
      "1 HIST1H3I NK_cells    1\n"
     ]
    },
    {
     "name": "stderr",
     "output_type": "stream",
     "text": [
      "FP565260.1\n",
      "\n",
      "XKR5\n",
      "\n"
     ]
    },
    {
     "name": "stdout",
     "output_type": "stream",
     "text": [
      "  Gene Celltype Freq\n",
      "1 XKR5       DC    1\n"
     ]
    },
    {
     "name": "stderr",
     "output_type": "stream",
     "text": [
      "HIST1H2BH\n",
      "\n"
     ]
    },
    {
     "name": "stdout",
     "output_type": "stream",
     "text": [
      "       Gene     Celltype Freq\n",
      "1 HIST1H2BH Granulocytes    1\n"
     ]
    },
    {
     "name": "stderr",
     "output_type": "stream",
     "text": [
      "HIST1H4I\n",
      "\n",
      "OR4E1\n",
      "\n",
      "AC004556.1\n",
      "\n",
      "HIST1H2AJ\n",
      "\n",
      "HIST1H2BB\n",
      "\n"
     ]
    },
    {
     "name": "stdout",
     "output_type": "stream",
     "text": [
      "       Gene Celltype Freq\n",
      "1 HIST1H2BB       DC    2\n"
     ]
    },
    {
     "name": "stderr",
     "output_type": "stream",
     "text": [
      "PADI6\n",
      "\n"
     ]
    },
    {
     "name": "stdout",
     "output_type": "stream",
     "text": [
      "   Gene Celltype Freq\n",
      "1 PADI6       DC    1\n"
     ]
    },
    {
     "name": "stderr",
     "output_type": "stream",
     "text": [
      "HIST1H2AL\n",
      "\n",
      "HIST1H4E\n",
      "\n",
      "HIST1H2AE\n",
      "\n"
     ]
    },
    {
     "name": "stdout",
     "output_type": "stream",
     "text": [
      "       Gene Celltype Freq\n",
      "1 HIST1H2AE  B_cells    1\n"
     ]
    },
    {
     "name": "stderr",
     "output_type": "stream",
     "text": [
      "HIST1H4D\n",
      "\n"
     ]
    },
    {
     "name": "stdout",
     "output_type": "stream",
     "text": [
      "      Gene Celltype Freq\n",
      "1 HIST1H4D  B_cells    1\n"
     ]
    },
    {
     "name": "stderr",
     "output_type": "stream",
     "text": [
      "HIST1H2BF\n",
      "\n"
     ]
    },
    {
     "name": "stdout",
     "output_type": "stream",
     "text": [
      "       Gene     Celltype Freq\n",
      "1 HIST1H2BF Granulocytes    1\n"
     ]
    },
    {
     "name": "stderr",
     "output_type": "stream",
     "text": [
      "HIST1H3F\n",
      "\n"
     ]
    },
    {
     "name": "stdout",
     "output_type": "stream",
     "text": [
      "      Gene Celltype Freq\n",
      "1 HIST1H3F  B_cells    1\n"
     ]
    },
    {
     "name": "stderr",
     "output_type": "stream",
     "text": [
      "HIST1H3C\n",
      "\n",
      "HIST1H2AB\n",
      "\n",
      "HIST1H2BI\n",
      "\n",
      "HIST1H4A\n",
      "\n"
     ]
    },
    {
     "name": "stdout",
     "output_type": "stream",
     "text": [
      "      Gene     Celltype Freq\n",
      "1 HIST1H4A Granulocytes    1\n"
     ]
    },
    {
     "name": "stderr",
     "output_type": "stream",
     "text": [
      "HIST1H2AM\n",
      "\n",
      "HIST1H4B\n",
      "\n"
     ]
    },
    {
     "name": "stdout",
     "output_type": "stream",
     "text": [
      "      Gene     Celltype Freq\n",
      "1 HIST1H4B Granulocytes    1\n"
     ]
    },
    {
     "name": "stderr",
     "output_type": "stream",
     "text": [
      "HIST1H3H\n",
      "\n"
     ]
    },
    {
     "name": "stdout",
     "output_type": "stream",
     "text": [
      "      Gene     Celltype Freq\n",
      "1 HIST1H3H Granulocytes    1\n"
     ]
    },
    {
     "name": "stderr",
     "output_type": "stream",
     "text": [
      "OR10X1\n",
      "\n",
      "OR2T11\n",
      "\n"
     ]
    },
    {
     "name": "stdout",
     "output_type": "stream",
     "text": [
      "    Gene     Celltype Freq\n",
      "1 OR2T11 Granulocytes    1\n"
     ]
    },
    {
     "name": "stderr",
     "output_type": "stream",
     "text": [
      "OR2AG1\n",
      "\n"
     ]
    },
    {
     "name": "stdout",
     "output_type": "stream",
     "text": [
      "    Gene     Celltype Freq\n",
      "1 OR2AG1 Granulocytes    1\n"
     ]
    },
    {
     "name": "stderr",
     "output_type": "stream",
     "text": [
      "PRAMEF18\n",
      "\n",
      "FP565260.6\n",
      "\n",
      "OR1B1\n",
      "\n",
      "FP565260.7\n",
      "\n",
      "GIMAP1-GIMAP5\n",
      "\n",
      "AL512428.1\n",
      "\n",
      "AL031777.3\n",
      "\n"
     ]
    },
    {
     "name": "stdout",
     "output_type": "stream",
     "text": [
      "        Gene     Celltype Freq\n",
      "1 AL031777.3 Granulocytes    1\n"
     ]
    },
    {
     "name": "stderr",
     "output_type": "stream",
     "text": [
      "AC068631.2\n",
      "\n",
      "AC001226.2\n",
      "\n",
      "BX088645.1\n",
      "\n"
     ]
    },
    {
     "name": "stdout",
     "output_type": "stream",
     "text": [
      "        Gene     Celltype Freq\n",
      "1 BX088645.1 Granulocytes    1\n"
     ]
    },
    {
     "name": "stderr",
     "output_type": "stream",
     "text": [
      "AC106774.10\n",
      "\n"
     ]
    },
    {
     "name": "stdout",
     "output_type": "stream",
     "text": [
      "         Gene     Celltype Freq\n",
      "1 AC106774.10 Granulocytes    1\n"
     ]
    },
    {
     "name": "stderr",
     "output_type": "stream",
     "text": [
      "AC092442.1\n",
      "\n"
     ]
    },
    {
     "name": "stdout",
     "output_type": "stream",
     "text": [
      "        Gene Celltype Freq\n",
      "1 AC092442.1  T_cells    1\n"
     ]
    },
    {
     "name": "stderr",
     "output_type": "stream",
     "text": [
      "AC107959.5\n",
      "\n"
     ]
    },
    {
     "name": "stdout",
     "output_type": "stream",
     "text": [
      "        Gene     Celltype Freq\n",
      "1 AC107959.5 Granulocytes    1\n"
     ]
    },
    {
     "name": "stderr",
     "output_type": "stream",
     "text": [
      "AL160272.2\n",
      "\n",
      "Z83844.3\n",
      "\n",
      "Z84488.2\n",
      "\n"
     ]
    },
    {
     "name": "stdout",
     "output_type": "stream",
     "text": [
      "      Gene     Celltype Freq\n",
      "1 Z84488.2 Granulocytes    1\n"
     ]
    },
    {
     "name": "stderr",
     "output_type": "stream",
     "text": [
      "AL034430.1\n",
      "\n",
      "FYB\n",
      "\n",
      "NCF2\n",
      "\n"
     ]
    },
    {
     "name": "stdout",
     "output_type": "stream",
     "text": [
      "  Gene     Celltype Freq\n",
      "1 NCF2 Granulocytes    3\n"
     ]
    },
    {
     "name": "stderr",
     "output_type": "stream",
     "text": [
      "GIMAP6\n",
      "\n"
     ]
    },
    {
     "name": "stdout",
     "output_type": "stream",
     "text": [
      "    Gene Celltype Freq\n",
      "1 GIMAP6  T_cells    1\n"
     ]
    },
    {
     "name": "stderr",
     "output_type": "stream",
     "text": [
      "RAB27A\n",
      "\n",
      "HLA-G\n",
      "\n"
     ]
    }
   ],
   "source": [
    "for(i in 1:nrow(celltype_df)){\n",
    "    message(celltype_df$Gene[i])\n",
    "    tmp <- celltype_df[i,2:22]\n",
    "    tmp_tab <- as.data.frame(table(unlist(tmp)),stringsAsFactors = F)\n",
    "    if(nrow(tmp_tab) !=0){\n",
    "        tmp_tab$Gene <- celltype_df$Gene[i]\n",
    "        tmp_tab <- tmp_tab[,c(\"Gene\", \"Var1\", \"Freq\")]\n",
    "        colnames(tmp_tab) <- c(\"Gene\", \"Celltype\", \"Freq\")\n",
    "        print(tmp_tab)\n",
    "        \n",
    "        genes_cells_freq <- rbind(genes_cells_freq, tmp_tab)\n",
    "\n",
    "    }\n",
    "}"
   ]
  },
  {
   "cell_type": "code",
   "execution_count": 124,
   "metadata": {
    "scrolled": true
   },
   "outputs": [
    {
     "data": {
      "text/html": [
       "<table class=\"dataframe\">\n",
       "<caption>A data.frame: 6 × 3</caption>\n",
       "<thead>\n",
       "\t<tr><th></th><th scope=col>Gene</th><th scope=col>Celltype</th><th scope=col>Freq</th></tr>\n",
       "\t<tr><th></th><th scope=col>&lt;chr&gt;</th><th scope=col>&lt;chr&gt;</th><th scope=col>&lt;int&gt;</th></tr>\n",
       "</thead>\n",
       "<tbody>\n",
       "\t<tr><th scope=row>1</th><td>ADAM28</td><td>B_cells     </td><td>3</td></tr>\n",
       "\t<tr><th scope=row>2</th><td>ADGRE1</td><td>Granulocytes</td><td>1</td></tr>\n",
       "\t<tr><th scope=row>3</th><td>ADGRE1</td><td>Monocytes   </td><td>1</td></tr>\n",
       "\t<tr><th scope=row>4</th><td>ADGRE2</td><td>Monocytes   </td><td>1</td></tr>\n",
       "\t<tr><th scope=row>5</th><td>ADGRE3</td><td>Granulocytes</td><td>2</td></tr>\n",
       "\t<tr><th scope=row>6</th><td>ADGRG5</td><td>DC          </td><td>1</td></tr>\n",
       "</tbody>\n",
       "</table>\n"
      ],
      "text/latex": [
       "A data.frame: 6 × 3\n",
       "\\begin{tabular}{r|lll}\n",
       "  & Gene & Celltype & Freq\\\\\n",
       "  & <chr> & <chr> & <int>\\\\\n",
       "\\hline\n",
       "\t1 & ADAM28 & B\\_cells      & 3\\\\\n",
       "\t2 & ADGRE1 & Granulocytes & 1\\\\\n",
       "\t3 & ADGRE1 & Monocytes    & 1\\\\\n",
       "\t4 & ADGRE2 & Monocytes    & 1\\\\\n",
       "\t5 & ADGRE3 & Granulocytes & 2\\\\\n",
       "\t6 & ADGRG5 & DC           & 1\\\\\n",
       "\\end{tabular}\n"
      ],
      "text/markdown": [
       "\n",
       "A data.frame: 6 × 3\n",
       "\n",
       "| <!--/--> | Gene &lt;chr&gt; | Celltype &lt;chr&gt; | Freq &lt;int&gt; |\n",
       "|---|---|---|---|\n",
       "| 1 | ADAM28 | B_cells      | 3 |\n",
       "| 2 | ADGRE1 | Granulocytes | 1 |\n",
       "| 3 | ADGRE1 | Monocytes    | 1 |\n",
       "| 4 | ADGRE2 | Monocytes    | 1 |\n",
       "| 5 | ADGRE3 | Granulocytes | 2 |\n",
       "| 6 | ADGRG5 | DC           | 1 |\n",
       "\n"
      ],
      "text/plain": [
       "  Gene   Celltype     Freq\n",
       "1 ADAM28 B_cells      3   \n",
       "2 ADGRE1 Granulocytes 1   \n",
       "3 ADGRE1 Monocytes    1   \n",
       "4 ADGRE2 Monocytes    1   \n",
       "5 ADGRE3 Granulocytes 2   \n",
       "6 ADGRG5 DC           1   "
      ]
     },
     "metadata": {},
     "output_type": "display_data"
    }
   ],
   "source": [
    "head(genes_cells_freq)"
   ]
  },
  {
   "cell_type": "code",
   "execution_count": 125,
   "metadata": {},
   "outputs": [],
   "source": [
    "consensus_cells <- genes_cells_freq[ genes_cells_freq$Freq >= 2,]"
   ]
  },
  {
   "cell_type": "code",
   "execution_count": 126,
   "metadata": {
    "scrolled": true
   },
   "outputs": [
    {
     "data": {
      "text/html": [
       "<table class=\"dataframe\">\n",
       "<caption>A data.frame: 219 × 3</caption>\n",
       "<thead>\n",
       "\t<tr><th></th><th scope=col>Gene</th><th scope=col>Celltype</th><th scope=col>Freq</th></tr>\n",
       "\t<tr><th></th><th scope=col>&lt;chr&gt;</th><th scope=col>&lt;chr&gt;</th><th scope=col>&lt;int&gt;</th></tr>\n",
       "</thead>\n",
       "<tbody>\n",
       "\t<tr><th scope=row>1</th><td>ADAM28  </td><td>B_cells     </td><td>3</td></tr>\n",
       "\t<tr><th scope=row>5</th><td>ADGRE3  </td><td>Granulocytes</td><td>2</td></tr>\n",
       "\t<tr><th scope=row>10</th><td>APOBEC3A</td><td>Monocytes   </td><td>2</td></tr>\n",
       "\t<tr><th scope=row>13</th><td>ARG1    </td><td>Granulocytes</td><td>2</td></tr>\n",
       "\t<tr><th scope=row>15</th><td>ASGR2   </td><td>Monocytes   </td><td>2</td></tr>\n",
       "\t<tr><th scope=row>18</th><td>BANK1   </td><td>B_cells     </td><td>6</td></tr>\n",
       "\t<tr><th scope=row>22</th><td>BTLA    </td><td>B_cells     </td><td>2</td></tr>\n",
       "\t<tr><th scope=row>25</th><td>C2      </td><td>Monocytes   </td><td>2</td></tr>\n",
       "\t<tr><th scope=row>26</th><td>C5AR2   </td><td>Granulocytes</td><td>4</td></tr>\n",
       "\t<tr><th scope=row>27</th><td>CAMP    </td><td>Granulocytes</td><td>3</td></tr>\n",
       "\t<tr><th scope=row>30</th><td>CARD9   </td><td>Monocytes   </td><td>2</td></tr>\n",
       "\t<tr><th scope=row>35</th><td>CASS4   </td><td>Granulocytes</td><td>2</td></tr>\n",
       "\t<tr><th scope=row>36</th><td>CCDC125 </td><td>Granulocytes</td><td>2</td></tr>\n",
       "\t<tr><th scope=row>37</th><td>CCL22   </td><td>DC          </td><td>2</td></tr>\n",
       "\t<tr><th scope=row>40</th><td>CCL4    </td><td>NK_cells    </td><td>2</td></tr>\n",
       "\t<tr><th scope=row>42</th><td>CCL5    </td><td>T_cells     </td><td>3</td></tr>\n",
       "\t<tr><th scope=row>47</th><td>CCR3    </td><td>Granulocytes</td><td>4</td></tr>\n",
       "\t<tr><th scope=row>48</th><td>CCR4    </td><td>T_cells     </td><td>4</td></tr>\n",
       "\t<tr><th scope=row>50</th><td>CCR6    </td><td>T_cells     </td><td>2</td></tr>\n",
       "\t<tr><th scope=row>52</th><td>CD101   </td><td>Granulocytes</td><td>2</td></tr>\n",
       "\t<tr><th scope=row>53</th><td>CD160   </td><td>NK_cells    </td><td>3</td></tr>\n",
       "\t<tr><th scope=row>54</th><td>CD160   </td><td>T_cells     </td><td>2</td></tr>\n",
       "\t<tr><th scope=row>55</th><td>CD180   </td><td>B_cells     </td><td>2</td></tr>\n",
       "\t<tr><th scope=row>57</th><td>CD19    </td><td>B_cells     </td><td>6</td></tr>\n",
       "\t<tr><th scope=row>58</th><td>CD1C    </td><td>DC          </td><td>3</td></tr>\n",
       "\t<tr><th scope=row>62</th><td>CD244   </td><td>Granulocytes</td><td>2</td></tr>\n",
       "\t<tr><th scope=row>65</th><td>CD247   </td><td>NK_cells    </td><td>2</td></tr>\n",
       "\t<tr><th scope=row>68</th><td>CD27    </td><td>T_cells     </td><td>2</td></tr>\n",
       "\t<tr><th scope=row>69</th><td>CD28    </td><td>T_cells     </td><td>5</td></tr>\n",
       "\t<tr><th scope=row>78</th><td>CD33    </td><td>Monocytes   </td><td>2</td></tr>\n",
       "\t<tr><th scope=row>⋮</th><td>⋮</td><td>⋮</td><td>⋮</td></tr>\n",
       "\t<tr><th scope=row>480</th><td>IL4      </td><td>T_cells      </td><td>2</td></tr>\n",
       "\t<tr><th scope=row>488</th><td>TNFRSF8  </td><td>Monocytes    </td><td>3</td></tr>\n",
       "\t<tr><th scope=row>490</th><td>CD80     </td><td>DC           </td><td>2</td></tr>\n",
       "\t<tr><th scope=row>497</th><td>HRH4     </td><td>Granulocytes </td><td>2</td></tr>\n",
       "\t<tr><th scope=row>498</th><td>AOAH     </td><td>Monocytes    </td><td>2</td></tr>\n",
       "\t<tr><th scope=row>499</th><td>IL21     </td><td>T_cells      </td><td>2</td></tr>\n",
       "\t<tr><th scope=row>502</th><td>MS4A3    </td><td>Granulocytes </td><td>2</td></tr>\n",
       "\t<tr><th scope=row>505</th><td>MS4A2    </td><td>Myeloid_cells</td><td>2</td></tr>\n",
       "\t<tr><th scope=row>506</th><td>LY96     </td><td>Granulocytes </td><td>3</td></tr>\n",
       "\t<tr><th scope=row>508</th><td>CXCL13   </td><td>T_cells      </td><td>2</td></tr>\n",
       "\t<tr><th scope=row>510</th><td>CD1A     </td><td>DC           </td><td>3</td></tr>\n",
       "\t<tr><th scope=row>511</th><td>CD1B     </td><td>DC           </td><td>4</td></tr>\n",
       "\t<tr><th scope=row>512</th><td>CD1E     </td><td>DC           </td><td>4</td></tr>\n",
       "\t<tr><th scope=row>515</th><td>CCR5     </td><td>T_cells      </td><td>3</td></tr>\n",
       "\t<tr><th scope=row>516</th><td>IL23R    </td><td>T_cells      </td><td>2</td></tr>\n",
       "\t<tr><th scope=row>519</th><td>FCRL1    </td><td>B_cells      </td><td>3</td></tr>\n",
       "\t<tr><th scope=row>525</th><td>CPA3     </td><td>Myeloid_cells</td><td>2</td></tr>\n",
       "\t<tr><th scope=row>527</th><td>DEFA4    </td><td>Granulocytes </td><td>2</td></tr>\n",
       "\t<tr><th scope=row>543</th><td>CEACAM3  </td><td>Granulocytes </td><td>6</td></tr>\n",
       "\t<tr><th scope=row>549</th><td>XCR1     </td><td>DC           </td><td>2</td></tr>\n",
       "\t<tr><th scope=row>552</th><td>KIAA1551 </td><td>Granulocytes </td><td>2</td></tr>\n",
       "\t<tr><th scope=row>560</th><td>HIST1H2BC</td><td>Granulocytes </td><td>3</td></tr>\n",
       "\t<tr><th scope=row>564</th><td>ADGRG3   </td><td>Granulocytes </td><td>3</td></tr>\n",
       "\t<tr><th scope=row>570</th><td>CCR10    </td><td>T_cells      </td><td>2</td></tr>\n",
       "\t<tr><th scope=row>571</th><td>HIST1H2BL</td><td>Granulocytes </td><td>2</td></tr>\n",
       "\t<tr><th scope=row>584</th><td>PDCD1    </td><td>T_cells      </td><td>4</td></tr>\n",
       "\t<tr><th scope=row>608</th><td>TAS2R40  </td><td>Granulocytes </td><td>2</td></tr>\n",
       "\t<tr><th scope=row>616</th><td>TLR9     </td><td>DC           </td><td>2</td></tr>\n",
       "\t<tr><th scope=row>649</th><td>HIST1H2BB</td><td>DC           </td><td>2</td></tr>\n",
       "\t<tr><th scope=row>666</th><td>NCF2     </td><td>Granulocytes </td><td>3</td></tr>\n",
       "</tbody>\n",
       "</table>\n"
      ],
      "text/latex": [
       "A data.frame: 219 × 3\n",
       "\\begin{tabular}{r|lll}\n",
       "  & Gene & Celltype & Freq\\\\\n",
       "  & <chr> & <chr> & <int>\\\\\n",
       "\\hline\n",
       "\t1 & ADAM28   & B\\_cells      & 3\\\\\n",
       "\t5 & ADGRE3   & Granulocytes & 2\\\\\n",
       "\t10 & APOBEC3A & Monocytes    & 2\\\\\n",
       "\t13 & ARG1     & Granulocytes & 2\\\\\n",
       "\t15 & ASGR2    & Monocytes    & 2\\\\\n",
       "\t18 & BANK1    & B\\_cells      & 6\\\\\n",
       "\t22 & BTLA     & B\\_cells      & 2\\\\\n",
       "\t25 & C2       & Monocytes    & 2\\\\\n",
       "\t26 & C5AR2    & Granulocytes & 4\\\\\n",
       "\t27 & CAMP     & Granulocytes & 3\\\\\n",
       "\t30 & CARD9    & Monocytes    & 2\\\\\n",
       "\t35 & CASS4    & Granulocytes & 2\\\\\n",
       "\t36 & CCDC125  & Granulocytes & 2\\\\\n",
       "\t37 & CCL22    & DC           & 2\\\\\n",
       "\t40 & CCL4     & NK\\_cells     & 2\\\\\n",
       "\t42 & CCL5     & T\\_cells      & 3\\\\\n",
       "\t47 & CCR3     & Granulocytes & 4\\\\\n",
       "\t48 & CCR4     & T\\_cells      & 4\\\\\n",
       "\t50 & CCR6     & T\\_cells      & 2\\\\\n",
       "\t52 & CD101    & Granulocytes & 2\\\\\n",
       "\t53 & CD160    & NK\\_cells     & 3\\\\\n",
       "\t54 & CD160    & T\\_cells      & 2\\\\\n",
       "\t55 & CD180    & B\\_cells      & 2\\\\\n",
       "\t57 & CD19     & B\\_cells      & 6\\\\\n",
       "\t58 & CD1C     & DC           & 3\\\\\n",
       "\t62 & CD244    & Granulocytes & 2\\\\\n",
       "\t65 & CD247    & NK\\_cells     & 2\\\\\n",
       "\t68 & CD27     & T\\_cells      & 2\\\\\n",
       "\t69 & CD28     & T\\_cells      & 5\\\\\n",
       "\t78 & CD33     & Monocytes    & 2\\\\\n",
       "\t⋮ & ⋮ & ⋮ & ⋮\\\\\n",
       "\t480 & IL4       & T\\_cells       & 2\\\\\n",
       "\t488 & TNFRSF8   & Monocytes     & 3\\\\\n",
       "\t490 & CD80      & DC            & 2\\\\\n",
       "\t497 & HRH4      & Granulocytes  & 2\\\\\n",
       "\t498 & AOAH      & Monocytes     & 2\\\\\n",
       "\t499 & IL21      & T\\_cells       & 2\\\\\n",
       "\t502 & MS4A3     & Granulocytes  & 2\\\\\n",
       "\t505 & MS4A2     & Myeloid\\_cells & 2\\\\\n",
       "\t506 & LY96      & Granulocytes  & 3\\\\\n",
       "\t508 & CXCL13    & T\\_cells       & 2\\\\\n",
       "\t510 & CD1A      & DC            & 3\\\\\n",
       "\t511 & CD1B      & DC            & 4\\\\\n",
       "\t512 & CD1E      & DC            & 4\\\\\n",
       "\t515 & CCR5      & T\\_cells       & 3\\\\\n",
       "\t516 & IL23R     & T\\_cells       & 2\\\\\n",
       "\t519 & FCRL1     & B\\_cells       & 3\\\\\n",
       "\t525 & CPA3      & Myeloid\\_cells & 2\\\\\n",
       "\t527 & DEFA4     & Granulocytes  & 2\\\\\n",
       "\t543 & CEACAM3   & Granulocytes  & 6\\\\\n",
       "\t549 & XCR1      & DC            & 2\\\\\n",
       "\t552 & KIAA1551  & Granulocytes  & 2\\\\\n",
       "\t560 & HIST1H2BC & Granulocytes  & 3\\\\\n",
       "\t564 & ADGRG3    & Granulocytes  & 3\\\\\n",
       "\t570 & CCR10     & T\\_cells       & 2\\\\\n",
       "\t571 & HIST1H2BL & Granulocytes  & 2\\\\\n",
       "\t584 & PDCD1     & T\\_cells       & 4\\\\\n",
       "\t608 & TAS2R40   & Granulocytes  & 2\\\\\n",
       "\t616 & TLR9      & DC            & 2\\\\\n",
       "\t649 & HIST1H2BB & DC            & 2\\\\\n",
       "\t666 & NCF2      & Granulocytes  & 3\\\\\n",
       "\\end{tabular}\n"
      ],
      "text/markdown": [
       "\n",
       "A data.frame: 219 × 3\n",
       "\n",
       "| <!--/--> | Gene &lt;chr&gt; | Celltype &lt;chr&gt; | Freq &lt;int&gt; |\n",
       "|---|---|---|---|\n",
       "| 1 | ADAM28   | B_cells      | 3 |\n",
       "| 5 | ADGRE3   | Granulocytes | 2 |\n",
       "| 10 | APOBEC3A | Monocytes    | 2 |\n",
       "| 13 | ARG1     | Granulocytes | 2 |\n",
       "| 15 | ASGR2    | Monocytes    | 2 |\n",
       "| 18 | BANK1    | B_cells      | 6 |\n",
       "| 22 | BTLA     | B_cells      | 2 |\n",
       "| 25 | C2       | Monocytes    | 2 |\n",
       "| 26 | C5AR2    | Granulocytes | 4 |\n",
       "| 27 | CAMP     | Granulocytes | 3 |\n",
       "| 30 | CARD9    | Monocytes    | 2 |\n",
       "| 35 | CASS4    | Granulocytes | 2 |\n",
       "| 36 | CCDC125  | Granulocytes | 2 |\n",
       "| 37 | CCL22    | DC           | 2 |\n",
       "| 40 | CCL4     | NK_cells     | 2 |\n",
       "| 42 | CCL5     | T_cells      | 3 |\n",
       "| 47 | CCR3     | Granulocytes | 4 |\n",
       "| 48 | CCR4     | T_cells      | 4 |\n",
       "| 50 | CCR6     | T_cells      | 2 |\n",
       "| 52 | CD101    | Granulocytes | 2 |\n",
       "| 53 | CD160    | NK_cells     | 3 |\n",
       "| 54 | CD160    | T_cells      | 2 |\n",
       "| 55 | CD180    | B_cells      | 2 |\n",
       "| 57 | CD19     | B_cells      | 6 |\n",
       "| 58 | CD1C     | DC           | 3 |\n",
       "| 62 | CD244    | Granulocytes | 2 |\n",
       "| 65 | CD247    | NK_cells     | 2 |\n",
       "| 68 | CD27     | T_cells      | 2 |\n",
       "| 69 | CD28     | T_cells      | 5 |\n",
       "| 78 | CD33     | Monocytes    | 2 |\n",
       "| ⋮ | ⋮ | ⋮ | ⋮ |\n",
       "| 480 | IL4       | T_cells       | 2 |\n",
       "| 488 | TNFRSF8   | Monocytes     | 3 |\n",
       "| 490 | CD80      | DC            | 2 |\n",
       "| 497 | HRH4      | Granulocytes  | 2 |\n",
       "| 498 | AOAH      | Monocytes     | 2 |\n",
       "| 499 | IL21      | T_cells       | 2 |\n",
       "| 502 | MS4A3     | Granulocytes  | 2 |\n",
       "| 505 | MS4A2     | Myeloid_cells | 2 |\n",
       "| 506 | LY96      | Granulocytes  | 3 |\n",
       "| 508 | CXCL13    | T_cells       | 2 |\n",
       "| 510 | CD1A      | DC            | 3 |\n",
       "| 511 | CD1B      | DC            | 4 |\n",
       "| 512 | CD1E      | DC            | 4 |\n",
       "| 515 | CCR5      | T_cells       | 3 |\n",
       "| 516 | IL23R     | T_cells       | 2 |\n",
       "| 519 | FCRL1     | B_cells       | 3 |\n",
       "| 525 | CPA3      | Myeloid_cells | 2 |\n",
       "| 527 | DEFA4     | Granulocytes  | 2 |\n",
       "| 543 | CEACAM3   | Granulocytes  | 6 |\n",
       "| 549 | XCR1      | DC            | 2 |\n",
       "| 552 | KIAA1551  | Granulocytes  | 2 |\n",
       "| 560 | HIST1H2BC | Granulocytes  | 3 |\n",
       "| 564 | ADGRG3    | Granulocytes  | 3 |\n",
       "| 570 | CCR10     | T_cells       | 2 |\n",
       "| 571 | HIST1H2BL | Granulocytes  | 2 |\n",
       "| 584 | PDCD1     | T_cells       | 4 |\n",
       "| 608 | TAS2R40   | Granulocytes  | 2 |\n",
       "| 616 | TLR9      | DC            | 2 |\n",
       "| 649 | HIST1H2BB | DC            | 2 |\n",
       "| 666 | NCF2      | Granulocytes  | 3 |\n",
       "\n"
      ],
      "text/plain": [
       "    Gene      Celltype      Freq\n",
       "1   ADAM28    B_cells       3   \n",
       "5   ADGRE3    Granulocytes  2   \n",
       "10  APOBEC3A  Monocytes     2   \n",
       "13  ARG1      Granulocytes  2   \n",
       "15  ASGR2     Monocytes     2   \n",
       "18  BANK1     B_cells       6   \n",
       "22  BTLA      B_cells       2   \n",
       "25  C2        Monocytes     2   \n",
       "26  C5AR2     Granulocytes  4   \n",
       "27  CAMP      Granulocytes  3   \n",
       "30  CARD9     Monocytes     2   \n",
       "35  CASS4     Granulocytes  2   \n",
       "36  CCDC125   Granulocytes  2   \n",
       "37  CCL22     DC            2   \n",
       "40  CCL4      NK_cells      2   \n",
       "42  CCL5      T_cells       3   \n",
       "47  CCR3      Granulocytes  4   \n",
       "48  CCR4      T_cells       4   \n",
       "50  CCR6      T_cells       2   \n",
       "52  CD101     Granulocytes  2   \n",
       "53  CD160     NK_cells      3   \n",
       "54  CD160     T_cells       2   \n",
       "55  CD180     B_cells       2   \n",
       "57  CD19      B_cells       6   \n",
       "58  CD1C      DC            3   \n",
       "62  CD244     Granulocytes  2   \n",
       "65  CD247     NK_cells      2   \n",
       "68  CD27      T_cells       2   \n",
       "69  CD28      T_cells       5   \n",
       "78  CD33      Monocytes     2   \n",
       "⋮   ⋮         ⋮             ⋮   \n",
       "480 IL4       T_cells       2   \n",
       "488 TNFRSF8   Monocytes     3   \n",
       "490 CD80      DC            2   \n",
       "497 HRH4      Granulocytes  2   \n",
       "498 AOAH      Monocytes     2   \n",
       "499 IL21      T_cells       2   \n",
       "502 MS4A3     Granulocytes  2   \n",
       "505 MS4A2     Myeloid_cells 2   \n",
       "506 LY96      Granulocytes  3   \n",
       "508 CXCL13    T_cells       2   \n",
       "510 CD1A      DC            3   \n",
       "511 CD1B      DC            4   \n",
       "512 CD1E      DC            4   \n",
       "515 CCR5      T_cells       3   \n",
       "516 IL23R     T_cells       2   \n",
       "519 FCRL1     B_cells       3   \n",
       "525 CPA3      Myeloid_cells 2   \n",
       "527 DEFA4     Granulocytes  2   \n",
       "543 CEACAM3   Granulocytes  6   \n",
       "549 XCR1      DC            2   \n",
       "552 KIAA1551  Granulocytes  2   \n",
       "560 HIST1H2BC Granulocytes  3   \n",
       "564 ADGRG3    Granulocytes  3   \n",
       "570 CCR10     T_cells       2   \n",
       "571 HIST1H2BL Granulocytes  2   \n",
       "584 PDCD1     T_cells       4   \n",
       "608 TAS2R40   Granulocytes  2   \n",
       "616 TLR9      DC            2   \n",
       "649 HIST1H2BB DC            2   \n",
       "666 NCF2      Granulocytes  3   "
      ]
     },
     "metadata": {},
     "output_type": "display_data"
    }
   ],
   "source": [
    "consensus_cells"
   ]
  },
  {
   "cell_type": "code",
   "execution_count": 127,
   "metadata": {},
   "outputs": [],
   "source": [
    "for(i in 1:nrow(consensus_cells)){    \n",
    "    gen <- consensus_cells$Gene[i]\n",
    "    celltype_df$Cellgroup[celltype_df$Gene == gen] <- consensus_cells$Celltype[i]  \n",
    "}"
   ]
  },
  {
   "cell_type": "code",
   "execution_count": 128,
   "metadata": {},
   "outputs": [
    {
     "data": {
      "text/plain": [
       "\n",
       "      B_cells            DC  Granulocytes     Monocytes Myeloid_cells \n",
       "           32            28            71            18             6 \n",
       "     NK_cells       T_cells          <NA> \n",
       "           20            41           575 "
      ]
     },
     "metadata": {},
     "output_type": "display_data"
    }
   ],
   "source": [
    "table(celltype_df$Cellgroup, useNA = \"always\")"
   ]
  },
  {
   "cell_type": "markdown",
   "metadata": {},
   "source": [
    "Find gene description and ensembl for suppl tables"
   ]
  },
  {
   "cell_type": "code",
   "execution_count": 129,
   "metadata": {},
   "outputs": [
    {
     "name": "stderr",
     "output_type": "stream",
     "text": [
      "Ensembl site unresponsive, trying useast mirror\n",
      "\n"
     ]
    }
   ],
   "source": [
    "hg38 <- useMart(biomart=\"ENSEMBL_MART_ENSEMBL\", host=\"www.ensembl.org\", \n",
    "                path=\"/biomart/martservice\", dataset=\"hsapiens_gene_ensembl\")"
   ]
  },
  {
   "cell_type": "code",
   "execution_count": 130,
   "metadata": {},
   "outputs": [],
   "source": [
    "hgncs <- celltype_df$Gene"
   ]
  },
  {
   "cell_type": "code",
   "execution_count": 131,
   "metadata": {},
   "outputs": [],
   "source": [
    "hgnc_type <- getBM(filters=\"hgnc_symbol\",\n",
    "                   attributes=c(\"hgnc_symbol\",\"ensembl_gene_id\", \"description\", \n",
    "                                \"go_id\",\"name_1006\", \"definition_1006\"),\n",
    "                   values= hgncs, mart = hg38)"
   ]
  },
  {
   "cell_type": "code",
   "execution_count": 132,
   "metadata": {},
   "outputs": [],
   "source": [
    "write.csv(celltype_df, file = paste0(datapath, \"TME_clusters/Genes_Cells.csv\"), row.names = FALSE)\n",
    "write.csv(hgnc_type, file = paste0(datapath, \"TME_clusters/hgnc_ensembl_GO_immunegenes.csv\"), row.names = FALSE)"
   ]
  },
  {
   "cell_type": "markdown",
   "metadata": {},
   "source": [
    "# Determine clusters with CC"
   ]
  },
  {
   "cell_type": "code",
   "execution_count": 133,
   "metadata": {},
   "outputs": [],
   "source": [
    "celltype_specific_genes_nontumour <- celltype_df[!is.na(celltype_df$Cellgroup),]"
   ]
  },
  {
   "cell_type": "code",
   "execution_count": 134,
   "metadata": {},
   "outputs": [],
   "source": [
    "#remove myeloid cells due to low number of genes\n",
    "celltype_specific_genes_nontumour <- celltype_specific_genes_nontumour[ celltype_specific_genes_nontumour$Cellgroup != \"Myeloid_cells\",]"
   ]
  },
  {
   "cell_type": "code",
   "execution_count": 135,
   "metadata": {},
   "outputs": [
    {
     "data": {
      "text/plain": [
       "\n",
       "     B_cells           DC Granulocytes    Monocytes     NK_cells      T_cells \n",
       "          32           28           71           18           20           41 "
      ]
     },
     "metadata": {},
     "output_type": "display_data"
    }
   ],
   "source": [
    "table(celltype_specific_genes_nontumour$Cellgroup)"
   ]
  },
  {
   "cell_type": "code",
   "execution_count": 136,
   "metadata": {},
   "outputs": [
    {
     "data": {
      "text/html": [
       "<style>\n",
       ".list-inline {list-style: none; margin:0; padding: 0}\n",
       ".list-inline>li {display: inline-block}\n",
       ".list-inline>li:not(:last-child)::after {content: \"\\00b7\"; padding: 0 .5ex}\n",
       "</style>\n",
       "<ol class=list-inline><li>210</li><li>23</li></ol>\n"
      ],
      "text/latex": [
       "\\begin{enumerate*}\n",
       "\\item 210\n",
       "\\item 23\n",
       "\\end{enumerate*}\n"
      ],
      "text/markdown": [
       "1. 210\n",
       "2. 23\n",
       "\n",
       "\n"
      ],
      "text/plain": [
       "[1] 210  23"
      ]
     },
     "metadata": {},
     "output_type": "display_data"
    }
   ],
   "source": [
    "dim(celltype_specific_genes_nontumour)"
   ]
  },
  {
   "cell_type": "code",
   "execution_count": 137,
   "metadata": {},
   "outputs": [],
   "source": [
    "celltype_genes_list <- list()\n",
    "\n",
    "for( cel in unique(celltype_specific_genes_nontumour$Cellgroup)){\n",
    "    tmp <- celltype_specific_genes_nontumour[celltype_specific_genes_nontumour$Cellgroup == cel,]\n",
    "    cellgenes <- tmp$Gene\n",
    "    celltype_genes_list[length(celltype_genes_list) + 1] <- list(cellgenes)\n",
    "}\n",
    "\n",
    "names(celltype_genes_list) <- unique(celltype_specific_genes_nontumour$Cellgroup)"
   ]
  },
  {
   "cell_type": "code",
   "execution_count": 138,
   "metadata": {
    "scrolled": false
   },
   "outputs": [
    {
     "data": {
      "text/html": [
       "<dl>\n",
       "\t<dt>$B_cells</dt>\n",
       "\t\t<dd><style>\n",
       ".list-inline {list-style: none; margin:0; padding: 0}\n",
       ".list-inline>li {display: inline-block}\n",
       ".list-inline>li:not(:last-child)::after {content: \"\\00b7\"; padding: 0 .5ex}\n",
       "</style>\n",
       "<ol class=list-inline><li>'ADAM28'</li><li>'BANK1'</li><li>'BTLA'</li><li>'CD180'</li><li>'CD19'</li><li>'CD79A'</li><li>'CLEC17A'</li><li>'CNR2'</li><li>'CXCR5'</li><li>'FAM177B'</li><li>'FCRL2'</li><li>'FCRL3'</li><li>'FCRL5'</li><li>'HLA-DOB'</li><li>'IGHD'</li><li>'IGHM'</li><li>'IGLL5'</li><li>'KLHL14'</li><li>'MS4A1'</li><li>'POU2AF1'</li><li>'SPIB'</li><li>'STAP1'</li><li>'TCL1A'</li><li>'TLR10'</li><li>'TNFRSF13B'</li><li>'TNFRSF17'</li><li>'VPREB3'</li><li>'ZBP1'</li><li>'SP140'</li><li>'TMEM156'</li><li>'AICDA'</li><li>'FCRL1'</li></ol>\n",
       "</dd>\n",
       "\t<dt>$Granulocytes</dt>\n",
       "\t\t<dd><style>\n",
       ".list-inline {list-style: none; margin:0; padding: 0}\n",
       ".list-inline>li {display: inline-block}\n",
       ".list-inline>li:not(:last-child)::after {content: \"\\00b7\"; padding: 0 .5ex}\n",
       "</style>\n",
       "<ol class=list-inline><li>'ADGRE3'</li><li>'ARG1'</li><li>'C5AR2'</li><li>'CAMP'</li><li>'CASS4'</li><li>'CCDC125'</li><li>'CCR3'</li><li>'CD101'</li><li>'CD244'</li><li>'CEACAM4'</li><li>'CLEC4E'</li><li>'CLEC7A'</li><li>'CR1'</li><li>'CXCR1'</li><li>'CXCR2'</li><li>'CYSLTR2'</li><li>'DPEP2'</li><li>'FCAR'</li><li>'FCGR3B'</li><li>'FFAR2'</li><li>'FPR2'</li><li>'GPR183'</li><li>'HAL'</li><li>'IL1R2'</li><li>'LILRB3'</li><li>'LRG1'</li><li>'LRMP'</li><li>'MEFV'</li><li>'MNDA'</li><li>'MRVI1'</li><li>'NLRP12'</li><li>'NLRP6'</li><li>'OSM'</li><li>'P2RY13'</li><li>'P2RY14'</li><li>'PADI4'</li><li>'PGLYRP1'</li><li>'PHOSPHO1'</li><li>'PROK2'</li><li>'PTGS2'</li><li>'RAB3D'</li><li>'RASGRP4'</li><li>'REM2'</li><li>'RNASE2'</li><li>'S100A12'</li><li>'S100P'</li><li>'SAMSN1'</li><li>'SIGLEC5'</li><li>'SIRPB1'</li><li>'ST20'</li><li>'TLR1'</li><li>'TNFRSF10C'</li><li>'TREM1'</li><li>'VNN2'</li><li>'VNN3'</li><li>'ZCCHC6'</li><li>'P2RY10'</li><li>'CEBPE'</li><li>'TUBB1'</li><li>'PF4V1'</li><li>'HRH4'</li><li>'MS4A3'</li><li>'LY96'</li><li>'DEFA4'</li><li>'CEACAM3'</li><li>'KIAA1551'</li><li>'HIST1H2BC'</li><li>'ADGRG3'</li><li>'HIST1H2BL'</li><li>'TAS2R40'</li><li>'NCF2'</li></ol>\n",
       "</dd>\n",
       "\t<dt>$Monocytes</dt>\n",
       "\t\t<dd><style>\n",
       ".list-inline {list-style: none; margin:0; padding: 0}\n",
       ".list-inline>li {display: inline-block}\n",
       ".list-inline>li:not(:last-child)::after {content: \"\\00b7\"; padding: 0 .5ex}\n",
       "</style>\n",
       "<ol class=list-inline><li>'APOBEC3A'</li><li>'ASGR2'</li><li>'C2'</li><li>'CARD9'</li><li>'CD33'</li><li>'CFP'</li><li>'FCN1'</li><li>'FOLR3'</li><li>'GPBAR1'</li><li>'HPSE'</li><li>'NLRP3'</li><li>'PLA2G7'</li><li>'SLC37A2'</li><li>'SLC46A2'</li><li>'VNN1'</li><li>'CSTA'</li><li>'TNFRSF8'</li><li>'AOAH'</li></ol>\n",
       "</dd>\n",
       "\t<dt>$DC</dt>\n",
       "\t\t<dd><style>\n",
       ".list-inline {list-style: none; margin:0; padding: 0}\n",
       ".list-inline>li {display: inline-block}\n",
       ".list-inline>li:not(:last-child)::after {content: \"\\00b7\"; padding: 0 .5ex}\n",
       "</style>\n",
       "<ol class=list-inline><li>'CCL22'</li><li>'CD1C'</li><li>'CLEC4C'</li><li>'CLIC3'</li><li>'FCER1A'</li><li>'FUT7'</li><li>'GZMB'</li><li>'IGFLR1'</li><li>'IRF8'</li><li>'LILRA4'</li><li>'MRC1'</li><li>'PLAC8'</li><li>'PROC'</li><li>'PTCRA'</li><li>'SLC12A3'</li><li>'TTC24'</li><li>'TTC39A'</li><li>'ZNRF2'</li><li>'CD86'</li><li>'CCL17'</li><li>'IL12B'</li><li>'CD80'</li><li>'CD1A'</li><li>'CD1B'</li><li>'CD1E'</li><li>'XCR1'</li><li>'TLR9'</li><li>'HIST1H2BB'</li></ol>\n",
       "</dd>\n",
       "\t<dt>$NK_cells</dt>\n",
       "\t\t<dd><style>\n",
       ".list-inline {list-style: none; margin:0; padding: 0}\n",
       ".list-inline>li {display: inline-block}\n",
       ".list-inline>li:not(:last-child)::after {content: \"\\00b7\"; padding: 0 .5ex}\n",
       "</style>\n",
       "<ol class=list-inline><li>'CCL4'</li><li>'CD247'</li><li>'CTSW'</li><li>'GNLY'</li><li>'GZMA'</li><li>'IL18RAP'</li><li>'IL2RB'</li><li>'KIR2DL1'</li><li>'KIR2DL3'</li><li>'KIR2DL4'</li><li>'KIR3DL1'</li><li>'KIR3DL2'</li><li>'KLRF1'</li><li>'NCR1'</li><li>'NKG7'</li><li>'PRF1'</li><li>'SH2D1B'</li><li>'TXK'</li><li>'XCL2'</li><li>'ZNF600'</li></ol>\n",
       "</dd>\n",
       "\t<dt>$T_cells</dt>\n",
       "\t\t<dd><style>\n",
       ".list-inline {list-style: none; margin:0; padding: 0}\n",
       ".list-inline>li {display: inline-block}\n",
       ".list-inline>li:not(:last-child)::after {content: \"\\00b7\"; padding: 0 .5ex}\n",
       "</style>\n",
       "<ol class=list-inline><li>'CCL5'</li><li>'CCR4'</li><li>'CCR6'</li><li>'CD160'</li><li>'CD27'</li><li>'CD28'</li><li>'CD3D'</li><li>'CD3E'</li><li>'CD3G'</li><li>'CD8B'</li><li>'CD96'</li><li>'CRTAM'</li><li>'CST7'</li><li>'CXCR6'</li><li>'FOXP3'</li><li>'GRAP2'</li><li>'GZMH'</li><li>'GZMK'</li><li>'GZMM'</li><li>'IL2RA'</li><li>'IL7R'</li><li>'KLRG1'</li><li>'LAIR2'</li><li>'NCR3'</li><li>'PATL2'</li><li>'SH2D1A'</li><li>'SIRPG'</li><li>'SIT1'</li><li>'TRAT1'</li><li>'UBASH3A'</li><li>'ZNF683'</li><li>'CD2'</li><li>'HPGD'</li><li>'ACAP1'</li><li>'IL4'</li><li>'IL21'</li><li>'CXCL13'</li><li>'CCR5'</li><li>'IL23R'</li><li>'CCR10'</li><li>'PDCD1'</li></ol>\n",
       "</dd>\n",
       "</dl>\n"
      ],
      "text/latex": [
       "\\begin{description}\n",
       "\\item[\\$B\\_cells] \\begin{enumerate*}\n",
       "\\item 'ADAM28'\n",
       "\\item 'BANK1'\n",
       "\\item 'BTLA'\n",
       "\\item 'CD180'\n",
       "\\item 'CD19'\n",
       "\\item 'CD79A'\n",
       "\\item 'CLEC17A'\n",
       "\\item 'CNR2'\n",
       "\\item 'CXCR5'\n",
       "\\item 'FAM177B'\n",
       "\\item 'FCRL2'\n",
       "\\item 'FCRL3'\n",
       "\\item 'FCRL5'\n",
       "\\item 'HLA-DOB'\n",
       "\\item 'IGHD'\n",
       "\\item 'IGHM'\n",
       "\\item 'IGLL5'\n",
       "\\item 'KLHL14'\n",
       "\\item 'MS4A1'\n",
       "\\item 'POU2AF1'\n",
       "\\item 'SPIB'\n",
       "\\item 'STAP1'\n",
       "\\item 'TCL1A'\n",
       "\\item 'TLR10'\n",
       "\\item 'TNFRSF13B'\n",
       "\\item 'TNFRSF17'\n",
       "\\item 'VPREB3'\n",
       "\\item 'ZBP1'\n",
       "\\item 'SP140'\n",
       "\\item 'TMEM156'\n",
       "\\item 'AICDA'\n",
       "\\item 'FCRL1'\n",
       "\\end{enumerate*}\n",
       "\n",
       "\\item[\\$Granulocytes] \\begin{enumerate*}\n",
       "\\item 'ADGRE3'\n",
       "\\item 'ARG1'\n",
       "\\item 'C5AR2'\n",
       "\\item 'CAMP'\n",
       "\\item 'CASS4'\n",
       "\\item 'CCDC125'\n",
       "\\item 'CCR3'\n",
       "\\item 'CD101'\n",
       "\\item 'CD244'\n",
       "\\item 'CEACAM4'\n",
       "\\item 'CLEC4E'\n",
       "\\item 'CLEC7A'\n",
       "\\item 'CR1'\n",
       "\\item 'CXCR1'\n",
       "\\item 'CXCR2'\n",
       "\\item 'CYSLTR2'\n",
       "\\item 'DPEP2'\n",
       "\\item 'FCAR'\n",
       "\\item 'FCGR3B'\n",
       "\\item 'FFAR2'\n",
       "\\item 'FPR2'\n",
       "\\item 'GPR183'\n",
       "\\item 'HAL'\n",
       "\\item 'IL1R2'\n",
       "\\item 'LILRB3'\n",
       "\\item 'LRG1'\n",
       "\\item 'LRMP'\n",
       "\\item 'MEFV'\n",
       "\\item 'MNDA'\n",
       "\\item 'MRVI1'\n",
       "\\item 'NLRP12'\n",
       "\\item 'NLRP6'\n",
       "\\item 'OSM'\n",
       "\\item 'P2RY13'\n",
       "\\item 'P2RY14'\n",
       "\\item 'PADI4'\n",
       "\\item 'PGLYRP1'\n",
       "\\item 'PHOSPHO1'\n",
       "\\item 'PROK2'\n",
       "\\item 'PTGS2'\n",
       "\\item 'RAB3D'\n",
       "\\item 'RASGRP4'\n",
       "\\item 'REM2'\n",
       "\\item 'RNASE2'\n",
       "\\item 'S100A12'\n",
       "\\item 'S100P'\n",
       "\\item 'SAMSN1'\n",
       "\\item 'SIGLEC5'\n",
       "\\item 'SIRPB1'\n",
       "\\item 'ST20'\n",
       "\\item 'TLR1'\n",
       "\\item 'TNFRSF10C'\n",
       "\\item 'TREM1'\n",
       "\\item 'VNN2'\n",
       "\\item 'VNN3'\n",
       "\\item 'ZCCHC6'\n",
       "\\item 'P2RY10'\n",
       "\\item 'CEBPE'\n",
       "\\item 'TUBB1'\n",
       "\\item 'PF4V1'\n",
       "\\item 'HRH4'\n",
       "\\item 'MS4A3'\n",
       "\\item 'LY96'\n",
       "\\item 'DEFA4'\n",
       "\\item 'CEACAM3'\n",
       "\\item 'KIAA1551'\n",
       "\\item 'HIST1H2BC'\n",
       "\\item 'ADGRG3'\n",
       "\\item 'HIST1H2BL'\n",
       "\\item 'TAS2R40'\n",
       "\\item 'NCF2'\n",
       "\\end{enumerate*}\n",
       "\n",
       "\\item[\\$Monocytes] \\begin{enumerate*}\n",
       "\\item 'APOBEC3A'\n",
       "\\item 'ASGR2'\n",
       "\\item 'C2'\n",
       "\\item 'CARD9'\n",
       "\\item 'CD33'\n",
       "\\item 'CFP'\n",
       "\\item 'FCN1'\n",
       "\\item 'FOLR3'\n",
       "\\item 'GPBAR1'\n",
       "\\item 'HPSE'\n",
       "\\item 'NLRP3'\n",
       "\\item 'PLA2G7'\n",
       "\\item 'SLC37A2'\n",
       "\\item 'SLC46A2'\n",
       "\\item 'VNN1'\n",
       "\\item 'CSTA'\n",
       "\\item 'TNFRSF8'\n",
       "\\item 'AOAH'\n",
       "\\end{enumerate*}\n",
       "\n",
       "\\item[\\$DC] \\begin{enumerate*}\n",
       "\\item 'CCL22'\n",
       "\\item 'CD1C'\n",
       "\\item 'CLEC4C'\n",
       "\\item 'CLIC3'\n",
       "\\item 'FCER1A'\n",
       "\\item 'FUT7'\n",
       "\\item 'GZMB'\n",
       "\\item 'IGFLR1'\n",
       "\\item 'IRF8'\n",
       "\\item 'LILRA4'\n",
       "\\item 'MRC1'\n",
       "\\item 'PLAC8'\n",
       "\\item 'PROC'\n",
       "\\item 'PTCRA'\n",
       "\\item 'SLC12A3'\n",
       "\\item 'TTC24'\n",
       "\\item 'TTC39A'\n",
       "\\item 'ZNRF2'\n",
       "\\item 'CD86'\n",
       "\\item 'CCL17'\n",
       "\\item 'IL12B'\n",
       "\\item 'CD80'\n",
       "\\item 'CD1A'\n",
       "\\item 'CD1B'\n",
       "\\item 'CD1E'\n",
       "\\item 'XCR1'\n",
       "\\item 'TLR9'\n",
       "\\item 'HIST1H2BB'\n",
       "\\end{enumerate*}\n",
       "\n",
       "\\item[\\$NK\\_cells] \\begin{enumerate*}\n",
       "\\item 'CCL4'\n",
       "\\item 'CD247'\n",
       "\\item 'CTSW'\n",
       "\\item 'GNLY'\n",
       "\\item 'GZMA'\n",
       "\\item 'IL18RAP'\n",
       "\\item 'IL2RB'\n",
       "\\item 'KIR2DL1'\n",
       "\\item 'KIR2DL3'\n",
       "\\item 'KIR2DL4'\n",
       "\\item 'KIR3DL1'\n",
       "\\item 'KIR3DL2'\n",
       "\\item 'KLRF1'\n",
       "\\item 'NCR1'\n",
       "\\item 'NKG7'\n",
       "\\item 'PRF1'\n",
       "\\item 'SH2D1B'\n",
       "\\item 'TXK'\n",
       "\\item 'XCL2'\n",
       "\\item 'ZNF600'\n",
       "\\end{enumerate*}\n",
       "\n",
       "\\item[\\$T\\_cells] \\begin{enumerate*}\n",
       "\\item 'CCL5'\n",
       "\\item 'CCR4'\n",
       "\\item 'CCR6'\n",
       "\\item 'CD160'\n",
       "\\item 'CD27'\n",
       "\\item 'CD28'\n",
       "\\item 'CD3D'\n",
       "\\item 'CD3E'\n",
       "\\item 'CD3G'\n",
       "\\item 'CD8B'\n",
       "\\item 'CD96'\n",
       "\\item 'CRTAM'\n",
       "\\item 'CST7'\n",
       "\\item 'CXCR6'\n",
       "\\item 'FOXP3'\n",
       "\\item 'GRAP2'\n",
       "\\item 'GZMH'\n",
       "\\item 'GZMK'\n",
       "\\item 'GZMM'\n",
       "\\item 'IL2RA'\n",
       "\\item 'IL7R'\n",
       "\\item 'KLRG1'\n",
       "\\item 'LAIR2'\n",
       "\\item 'NCR3'\n",
       "\\item 'PATL2'\n",
       "\\item 'SH2D1A'\n",
       "\\item 'SIRPG'\n",
       "\\item 'SIT1'\n",
       "\\item 'TRAT1'\n",
       "\\item 'UBASH3A'\n",
       "\\item 'ZNF683'\n",
       "\\item 'CD2'\n",
       "\\item 'HPGD'\n",
       "\\item 'ACAP1'\n",
       "\\item 'IL4'\n",
       "\\item 'IL21'\n",
       "\\item 'CXCL13'\n",
       "\\item 'CCR5'\n",
       "\\item 'IL23R'\n",
       "\\item 'CCR10'\n",
       "\\item 'PDCD1'\n",
       "\\end{enumerate*}\n",
       "\n",
       "\\end{description}\n"
      ],
      "text/markdown": [
       "$B_cells\n",
       ":   1. 'ADAM28'\n",
       "2. 'BANK1'\n",
       "3. 'BTLA'\n",
       "4. 'CD180'\n",
       "5. 'CD19'\n",
       "6. 'CD79A'\n",
       "7. 'CLEC17A'\n",
       "8. 'CNR2'\n",
       "9. 'CXCR5'\n",
       "10. 'FAM177B'\n",
       "11. 'FCRL2'\n",
       "12. 'FCRL3'\n",
       "13. 'FCRL5'\n",
       "14. 'HLA-DOB'\n",
       "15. 'IGHD'\n",
       "16. 'IGHM'\n",
       "17. 'IGLL5'\n",
       "18. 'KLHL14'\n",
       "19. 'MS4A1'\n",
       "20. 'POU2AF1'\n",
       "21. 'SPIB'\n",
       "22. 'STAP1'\n",
       "23. 'TCL1A'\n",
       "24. 'TLR10'\n",
       "25. 'TNFRSF13B'\n",
       "26. 'TNFRSF17'\n",
       "27. 'VPREB3'\n",
       "28. 'ZBP1'\n",
       "29. 'SP140'\n",
       "30. 'TMEM156'\n",
       "31. 'AICDA'\n",
       "32. 'FCRL1'\n",
       "\n",
       "\n",
       "\n",
       "$Granulocytes\n",
       ":   1. 'ADGRE3'\n",
       "2. 'ARG1'\n",
       "3. 'C5AR2'\n",
       "4. 'CAMP'\n",
       "5. 'CASS4'\n",
       "6. 'CCDC125'\n",
       "7. 'CCR3'\n",
       "8. 'CD101'\n",
       "9. 'CD244'\n",
       "10. 'CEACAM4'\n",
       "11. 'CLEC4E'\n",
       "12. 'CLEC7A'\n",
       "13. 'CR1'\n",
       "14. 'CXCR1'\n",
       "15. 'CXCR2'\n",
       "16. 'CYSLTR2'\n",
       "17. 'DPEP2'\n",
       "18. 'FCAR'\n",
       "19. 'FCGR3B'\n",
       "20. 'FFAR2'\n",
       "21. 'FPR2'\n",
       "22. 'GPR183'\n",
       "23. 'HAL'\n",
       "24. 'IL1R2'\n",
       "25. 'LILRB3'\n",
       "26. 'LRG1'\n",
       "27. 'LRMP'\n",
       "28. 'MEFV'\n",
       "29. 'MNDA'\n",
       "30. 'MRVI1'\n",
       "31. 'NLRP12'\n",
       "32. 'NLRP6'\n",
       "33. 'OSM'\n",
       "34. 'P2RY13'\n",
       "35. 'P2RY14'\n",
       "36. 'PADI4'\n",
       "37. 'PGLYRP1'\n",
       "38. 'PHOSPHO1'\n",
       "39. 'PROK2'\n",
       "40. 'PTGS2'\n",
       "41. 'RAB3D'\n",
       "42. 'RASGRP4'\n",
       "43. 'REM2'\n",
       "44. 'RNASE2'\n",
       "45. 'S100A12'\n",
       "46. 'S100P'\n",
       "47. 'SAMSN1'\n",
       "48. 'SIGLEC5'\n",
       "49. 'SIRPB1'\n",
       "50. 'ST20'\n",
       "51. 'TLR1'\n",
       "52. 'TNFRSF10C'\n",
       "53. 'TREM1'\n",
       "54. 'VNN2'\n",
       "55. 'VNN3'\n",
       "56. 'ZCCHC6'\n",
       "57. 'P2RY10'\n",
       "58. 'CEBPE'\n",
       "59. 'TUBB1'\n",
       "60. 'PF4V1'\n",
       "61. 'HRH4'\n",
       "62. 'MS4A3'\n",
       "63. 'LY96'\n",
       "64. 'DEFA4'\n",
       "65. 'CEACAM3'\n",
       "66. 'KIAA1551'\n",
       "67. 'HIST1H2BC'\n",
       "68. 'ADGRG3'\n",
       "69. 'HIST1H2BL'\n",
       "70. 'TAS2R40'\n",
       "71. 'NCF2'\n",
       "\n",
       "\n",
       "\n",
       "$Monocytes\n",
       ":   1. 'APOBEC3A'\n",
       "2. 'ASGR2'\n",
       "3. 'C2'\n",
       "4. 'CARD9'\n",
       "5. 'CD33'\n",
       "6. 'CFP'\n",
       "7. 'FCN1'\n",
       "8. 'FOLR3'\n",
       "9. 'GPBAR1'\n",
       "10. 'HPSE'\n",
       "11. 'NLRP3'\n",
       "12. 'PLA2G7'\n",
       "13. 'SLC37A2'\n",
       "14. 'SLC46A2'\n",
       "15. 'VNN1'\n",
       "16. 'CSTA'\n",
       "17. 'TNFRSF8'\n",
       "18. 'AOAH'\n",
       "\n",
       "\n",
       "\n",
       "$DC\n",
       ":   1. 'CCL22'\n",
       "2. 'CD1C'\n",
       "3. 'CLEC4C'\n",
       "4. 'CLIC3'\n",
       "5. 'FCER1A'\n",
       "6. 'FUT7'\n",
       "7. 'GZMB'\n",
       "8. 'IGFLR1'\n",
       "9. 'IRF8'\n",
       "10. 'LILRA4'\n",
       "11. 'MRC1'\n",
       "12. 'PLAC8'\n",
       "13. 'PROC'\n",
       "14. 'PTCRA'\n",
       "15. 'SLC12A3'\n",
       "16. 'TTC24'\n",
       "17. 'TTC39A'\n",
       "18. 'ZNRF2'\n",
       "19. 'CD86'\n",
       "20. 'CCL17'\n",
       "21. 'IL12B'\n",
       "22. 'CD80'\n",
       "23. 'CD1A'\n",
       "24. 'CD1B'\n",
       "25. 'CD1E'\n",
       "26. 'XCR1'\n",
       "27. 'TLR9'\n",
       "28. 'HIST1H2BB'\n",
       "\n",
       "\n",
       "\n",
       "$NK_cells\n",
       ":   1. 'CCL4'\n",
       "2. 'CD247'\n",
       "3. 'CTSW'\n",
       "4. 'GNLY'\n",
       "5. 'GZMA'\n",
       "6. 'IL18RAP'\n",
       "7. 'IL2RB'\n",
       "8. 'KIR2DL1'\n",
       "9. 'KIR2DL3'\n",
       "10. 'KIR2DL4'\n",
       "11. 'KIR3DL1'\n",
       "12. 'KIR3DL2'\n",
       "13. 'KLRF1'\n",
       "14. 'NCR1'\n",
       "15. 'NKG7'\n",
       "16. 'PRF1'\n",
       "17. 'SH2D1B'\n",
       "18. 'TXK'\n",
       "19. 'XCL2'\n",
       "20. 'ZNF600'\n",
       "\n",
       "\n",
       "\n",
       "$T_cells\n",
       ":   1. 'CCL5'\n",
       "2. 'CCR4'\n",
       "3. 'CCR6'\n",
       "4. 'CD160'\n",
       "5. 'CD27'\n",
       "6. 'CD28'\n",
       "7. 'CD3D'\n",
       "8. 'CD3E'\n",
       "9. 'CD3G'\n",
       "10. 'CD8B'\n",
       "11. 'CD96'\n",
       "12. 'CRTAM'\n",
       "13. 'CST7'\n",
       "14. 'CXCR6'\n",
       "15. 'FOXP3'\n",
       "16. 'GRAP2'\n",
       "17. 'GZMH'\n",
       "18. 'GZMK'\n",
       "19. 'GZMM'\n",
       "20. 'IL2RA'\n",
       "21. 'IL7R'\n",
       "22. 'KLRG1'\n",
       "23. 'LAIR2'\n",
       "24. 'NCR3'\n",
       "25. 'PATL2'\n",
       "26. 'SH2D1A'\n",
       "27. 'SIRPG'\n",
       "28. 'SIT1'\n",
       "29. 'TRAT1'\n",
       "30. 'UBASH3A'\n",
       "31. 'ZNF683'\n",
       "32. 'CD2'\n",
       "33. 'HPGD'\n",
       "34. 'ACAP1'\n",
       "35. 'IL4'\n",
       "36. 'IL21'\n",
       "37. 'CXCL13'\n",
       "38. 'CCR5'\n",
       "39. 'IL23R'\n",
       "40. 'CCR10'\n",
       "41. 'PDCD1'\n",
       "\n",
       "\n",
       "\n",
       "\n",
       "\n"
      ],
      "text/plain": [
       "$B_cells\n",
       " [1] \"ADAM28\"    \"BANK1\"     \"BTLA\"      \"CD180\"     \"CD19\"      \"CD79A\"    \n",
       " [7] \"CLEC17A\"   \"CNR2\"      \"CXCR5\"     \"FAM177B\"   \"FCRL2\"     \"FCRL3\"    \n",
       "[13] \"FCRL5\"     \"HLA-DOB\"   \"IGHD\"      \"IGHM\"      \"IGLL5\"     \"KLHL14\"   \n",
       "[19] \"MS4A1\"     \"POU2AF1\"   \"SPIB\"      \"STAP1\"     \"TCL1A\"     \"TLR10\"    \n",
       "[25] \"TNFRSF13B\" \"TNFRSF17\"  \"VPREB3\"    \"ZBP1\"      \"SP140\"     \"TMEM156\"  \n",
       "[31] \"AICDA\"     \"FCRL1\"    \n",
       "\n",
       "$Granulocytes\n",
       " [1] \"ADGRE3\"    \"ARG1\"      \"C5AR2\"     \"CAMP\"      \"CASS4\"     \"CCDC125\"  \n",
       " [7] \"CCR3\"      \"CD101\"     \"CD244\"     \"CEACAM4\"   \"CLEC4E\"    \"CLEC7A\"   \n",
       "[13] \"CR1\"       \"CXCR1\"     \"CXCR2\"     \"CYSLTR2\"   \"DPEP2\"     \"FCAR\"     \n",
       "[19] \"FCGR3B\"    \"FFAR2\"     \"FPR2\"      \"GPR183\"    \"HAL\"       \"IL1R2\"    \n",
       "[25] \"LILRB3\"    \"LRG1\"      \"LRMP\"      \"MEFV\"      \"MNDA\"      \"MRVI1\"    \n",
       "[31] \"NLRP12\"    \"NLRP6\"     \"OSM\"       \"P2RY13\"    \"P2RY14\"    \"PADI4\"    \n",
       "[37] \"PGLYRP1\"   \"PHOSPHO1\"  \"PROK2\"     \"PTGS2\"     \"RAB3D\"     \"RASGRP4\"  \n",
       "[43] \"REM2\"      \"RNASE2\"    \"S100A12\"   \"S100P\"     \"SAMSN1\"    \"SIGLEC5\"  \n",
       "[49] \"SIRPB1\"    \"ST20\"      \"TLR1\"      \"TNFRSF10C\" \"TREM1\"     \"VNN2\"     \n",
       "[55] \"VNN3\"      \"ZCCHC6\"    \"P2RY10\"    \"CEBPE\"     \"TUBB1\"     \"PF4V1\"    \n",
       "[61] \"HRH4\"      \"MS4A3\"     \"LY96\"      \"DEFA4\"     \"CEACAM3\"   \"KIAA1551\" \n",
       "[67] \"HIST1H2BC\" \"ADGRG3\"    \"HIST1H2BL\" \"TAS2R40\"   \"NCF2\"     \n",
       "\n",
       "$Monocytes\n",
       " [1] \"APOBEC3A\" \"ASGR2\"    \"C2\"       \"CARD9\"    \"CD33\"     \"CFP\"     \n",
       " [7] \"FCN1\"     \"FOLR3\"    \"GPBAR1\"   \"HPSE\"     \"NLRP3\"    \"PLA2G7\"  \n",
       "[13] \"SLC37A2\"  \"SLC46A2\"  \"VNN1\"     \"CSTA\"     \"TNFRSF8\"  \"AOAH\"    \n",
       "\n",
       "$DC\n",
       " [1] \"CCL22\"     \"CD1C\"      \"CLEC4C\"    \"CLIC3\"     \"FCER1A\"    \"FUT7\"     \n",
       " [7] \"GZMB\"      \"IGFLR1\"    \"IRF8\"      \"LILRA4\"    \"MRC1\"      \"PLAC8\"    \n",
       "[13] \"PROC\"      \"PTCRA\"     \"SLC12A3\"   \"TTC24\"     \"TTC39A\"    \"ZNRF2\"    \n",
       "[19] \"CD86\"      \"CCL17\"     \"IL12B\"     \"CD80\"      \"CD1A\"      \"CD1B\"     \n",
       "[25] \"CD1E\"      \"XCR1\"      \"TLR9\"      \"HIST1H2BB\"\n",
       "\n",
       "$NK_cells\n",
       " [1] \"CCL4\"    \"CD247\"   \"CTSW\"    \"GNLY\"    \"GZMA\"    \"IL18RAP\" \"IL2RB\"  \n",
       " [8] \"KIR2DL1\" \"KIR2DL3\" \"KIR2DL4\" \"KIR3DL1\" \"KIR3DL2\" \"KLRF1\"   \"NCR1\"   \n",
       "[15] \"NKG7\"    \"PRF1\"    \"SH2D1B\"  \"TXK\"     \"XCL2\"    \"ZNF600\" \n",
       "\n",
       "$T_cells\n",
       " [1] \"CCL5\"    \"CCR4\"    \"CCR6\"    \"CD160\"   \"CD27\"    \"CD28\"    \"CD3D\"   \n",
       " [8] \"CD3E\"    \"CD3G\"    \"CD8B\"    \"CD96\"    \"CRTAM\"   \"CST7\"    \"CXCR6\"  \n",
       "[15] \"FOXP3\"   \"GRAP2\"   \"GZMH\"    \"GZMK\"    \"GZMM\"    \"IL2RA\"   \"IL7R\"   \n",
       "[22] \"KLRG1\"   \"LAIR2\"   \"NCR3\"    \"PATL2\"   \"SH2D1A\"  \"SIRPG\"   \"SIT1\"   \n",
       "[29] \"TRAT1\"   \"UBASH3A\" \"ZNF683\"  \"CD2\"     \"HPGD\"    \"ACAP1\"   \"IL4\"    \n",
       "[36] \"IL21\"    \"CXCL13\"  \"CCR5\"    \"IL23R\"   \"CCR10\"   \"PDCD1\"  \n"
      ]
     },
     "metadata": {},
     "output_type": "display_data"
    }
   ],
   "source": [
    "celltype_genes_list"
   ]
  },
  {
   "cell_type": "code",
   "execution_count": 139,
   "metadata": {},
   "outputs": [],
   "source": [
    "final_genesets <- celltype_genes_list"
   ]
  },
  {
   "cell_type": "code",
   "execution_count": 140,
   "metadata": {
    "scrolled": true
   },
   "outputs": [
    {
     "name": "stderr",
     "output_type": "stream",
     "text": [
      "Warning message in .filterFeatures(expr, method):\n",
      "“160 genes with constant expression values throuhgout the samples.”\n"
     ]
    },
    {
     "name": "stdout",
     "output_type": "stream",
     "text": [
      "Estimating ssGSEA scores for 6 gene sets.\n",
      "  |======================================================================| 100%\n",
      "\n"
     ]
    }
   ],
   "source": [
    "geneset_cc <- gsva(tpms, final_genesets, method = \"ssgsea\", ssgsea.norm = F)"
   ]
  },
  {
   "cell_type": "code",
   "execution_count": 141,
   "metadata": {},
   "outputs": [
    {
     "data": {
      "text/plain": [
       "   Min. 1st Qu.  Median    Mean 3rd Qu.    Max. \n",
       "  -8042   -4939   -4167   -4054   -3314    3629 "
      ]
     },
     "metadata": {},
     "output_type": "display_data"
    }
   ],
   "source": [
    "summary(as.vector(geneset_cc))"
   ]
  },
  {
   "cell_type": "code",
   "execution_count": 208,
   "metadata": {},
   "outputs": [],
   "source": [
    "#median center mad scale\n",
    "geneset_cc_norm <- (geneset_cc - median(as.vector(geneset_cc)))/mad(as.vector(geneset_cc))"
   ]
  },
  {
   "cell_type": "code",
   "execution_count": 209,
   "metadata": {},
   "outputs": [
    {
     "data": {
      "text/html": [
       "<table class=\"dataframe\">\n",
       "<caption>A matrix: 6 × 925 of type dbl</caption>\n",
       "<thead>\n",
       "\t<tr><th></th><th scope=col>TARGET-30-PAIFXV-01A</th><th scope=col>TARGET-30-PAIPGU-01A</th><th scope=col>TARGET-30-PAISNS-01A</th><th scope=col>TARGET-30-PAITCI-01A</th><th scope=col>TARGET-30-PAIVHE-01A</th><th scope=col>TARGET-30-PAIXIF-01A</th><th scope=col>TARGET-30-PAKYZS-01A</th><th scope=col>TARGET-30-PAKZRH-01A</th><th scope=col>TARGET-30-PALBFW-01A</th><th scope=col>TARGET-30-PALCBW-01A</th><th scope=col>⋯</th><th scope=col>ICGC_PA89</th><th scope=col>ICGC_PA9</th><th scope=col>ICGC_PA91</th><th scope=col>ICGC_PA92</th><th scope=col>ICGC_PA93</th><th scope=col>ICGC_PA94</th><th scope=col>ICGC_PA95</th><th scope=col>ICGC_PA96</th><th scope=col>ICGC_PA97</th><th scope=col>ICGC_PA99</th></tr>\n",
       "</thead>\n",
       "<tbody>\n",
       "\t<tr><th scope=row>B_cells</th><td>-1.0261811</td><td>-0.2663472</td><td>-0.5500331</td><td>-1.6734032</td><td>0.3790016</td><td>-0.68443148</td><td>-2.3938567</td><td>-2.3391479</td><td>-0.69584948</td><td>-0.1989627</td><td>⋯</td><td>-0.4294500</td><td>-0.1895001</td><td>-0.08708725</td><td>-0.24467422</td><td> 0.18449614</td><td>-0.3363069</td><td>-0.009581817</td><td>-0.5669550</td><td>-0.008541654</td><td>-0.2312175</td></tr>\n",
       "\t<tr><th scope=row>Granulocytes</th><td> 1.0154032</td><td> 1.5352628</td><td> 0.3735776</td><td> 1.1657142</td><td>1.0875300</td><td> 1.62840168</td><td> 0.8566935</td><td> 0.5867553</td><td> 0.59711497</td><td> 1.4388706</td><td>⋯</td><td> 0.5986012</td><td> 0.9764662</td><td> 1.09418248</td><td> 1.20580307</td><td> 1.59507546</td><td> 0.6462704</td><td> 1.014127410</td><td> 1.1984187</td><td> 1.623139948</td><td> 1.1852914</td></tr>\n",
       "\t<tr><th scope=row>Monocytes</th><td> 1.1560147</td><td> 3.2377299</td><td>-0.1424045</td><td> 1.3159159</td><td>1.0783997</td><td> 2.24252540</td><td> 0.5307257</td><td> 1.1801533</td><td> 0.44303005</td><td> 1.3987383</td><td>⋯</td><td> 0.7337680</td><td> 1.6864077</td><td> 1.59960434</td><td> 1.02899639</td><td> 2.71492144</td><td> 1.0711519</td><td> 2.012054482</td><td> 1.1595255</td><td> 1.927787219</td><td> 1.9380339</td></tr>\n",
       "\t<tr><th scope=row>DC</th><td> 0.6116269</td><td> 1.7166637</td><td> 0.3242817</td><td> 0.9269765</td><td>0.8864241</td><td> 1.20057021</td><td> 0.2268468</td><td>-0.1522459</td><td> 0.49141649</td><td> 1.3751148</td><td>⋯</td><td> 0.2025195</td><td> 0.4377004</td><td> 0.82783742</td><td> 0.31070266</td><td> 1.28033748</td><td> 0.4651458</td><td> 0.843106181</td><td> 0.5533022</td><td> 0.503512791</td><td> 0.9905531</td></tr>\n",
       "\t<tr><th scope=row>NK_cells</th><td> 0.5080152</td><td> 1.2370455</td><td>-0.2447717</td><td>-0.4259744</td><td>0.3518645</td><td>-0.08196236</td><td>-1.5027704</td><td>-1.5369380</td><td> 0.36873168</td><td>-0.0508021</td><td>⋯</td><td>-0.7132550</td><td>-0.3555373</td><td> 0.11713649</td><td> 0.03383472</td><td>-0.06413519</td><td>-0.9230160</td><td>-0.259694051</td><td>-0.3449225</td><td> 0.145732336</td><td>-0.0730824</td></tr>\n",
       "\t<tr><th scope=row>T_cells</th><td> 0.1329171</td><td> 1.2636560</td><td> 0.5094226</td><td>-0.0656706</td><td>0.7437377</td><td> 0.05919117</td><td>-1.6221636</td><td>-1.8604589</td><td> 0.07688679</td><td> 0.1175262</td><td>⋯</td><td>-0.6417722</td><td>-0.2823479</td><td>-0.21028556</td><td>-0.16341890</td><td> 0.09400842</td><td>-0.6638549</td><td> 0.068445412</td><td>-0.5339814</td><td>-0.247713121</td><td>-0.1558411</td></tr>\n",
       "</tbody>\n",
       "</table>\n"
      ],
      "text/latex": [
       "A matrix: 6 × 925 of type dbl\n",
       "\\begin{tabular}{r|lllllllllllllllllllll}\n",
       "  & TARGET-30-PAIFXV-01A & TARGET-30-PAIPGU-01A & TARGET-30-PAISNS-01A & TARGET-30-PAITCI-01A & TARGET-30-PAIVHE-01A & TARGET-30-PAIXIF-01A & TARGET-30-PAKYZS-01A & TARGET-30-PAKZRH-01A & TARGET-30-PALBFW-01A & TARGET-30-PALCBW-01A & ⋯ & ICGC\\_PA89 & ICGC\\_PA9 & ICGC\\_PA91 & ICGC\\_PA92 & ICGC\\_PA93 & ICGC\\_PA94 & ICGC\\_PA95 & ICGC\\_PA96 & ICGC\\_PA97 & ICGC\\_PA99\\\\\n",
       "\\hline\n",
       "\tB\\_cells & -1.0261811 & -0.2663472 & -0.5500331 & -1.6734032 & 0.3790016 & -0.68443148 & -2.3938567 & -2.3391479 & -0.69584948 & -0.1989627 & ⋯ & -0.4294500 & -0.1895001 & -0.08708725 & -0.24467422 &  0.18449614 & -0.3363069 & -0.009581817 & -0.5669550 & -0.008541654 & -0.2312175\\\\\n",
       "\tGranulocytes &  1.0154032 &  1.5352628 &  0.3735776 &  1.1657142 & 1.0875300 &  1.62840168 &  0.8566935 &  0.5867553 &  0.59711497 &  1.4388706 & ⋯ &  0.5986012 &  0.9764662 &  1.09418248 &  1.20580307 &  1.59507546 &  0.6462704 &  1.014127410 &  1.1984187 &  1.623139948 &  1.1852914\\\\\n",
       "\tMonocytes &  1.1560147 &  3.2377299 & -0.1424045 &  1.3159159 & 1.0783997 &  2.24252540 &  0.5307257 &  1.1801533 &  0.44303005 &  1.3987383 & ⋯ &  0.7337680 &  1.6864077 &  1.59960434 &  1.02899639 &  2.71492144 &  1.0711519 &  2.012054482 &  1.1595255 &  1.927787219 &  1.9380339\\\\\n",
       "\tDC &  0.6116269 &  1.7166637 &  0.3242817 &  0.9269765 & 0.8864241 &  1.20057021 &  0.2268468 & -0.1522459 &  0.49141649 &  1.3751148 & ⋯ &  0.2025195 &  0.4377004 &  0.82783742 &  0.31070266 &  1.28033748 &  0.4651458 &  0.843106181 &  0.5533022 &  0.503512791 &  0.9905531\\\\\n",
       "\tNK\\_cells &  0.5080152 &  1.2370455 & -0.2447717 & -0.4259744 & 0.3518645 & -0.08196236 & -1.5027704 & -1.5369380 &  0.36873168 & -0.0508021 & ⋯ & -0.7132550 & -0.3555373 &  0.11713649 &  0.03383472 & -0.06413519 & -0.9230160 & -0.259694051 & -0.3449225 &  0.145732336 & -0.0730824\\\\\n",
       "\tT\\_cells &  0.1329171 &  1.2636560 &  0.5094226 & -0.0656706 & 0.7437377 &  0.05919117 & -1.6221636 & -1.8604589 &  0.07688679 &  0.1175262 & ⋯ & -0.6417722 & -0.2823479 & -0.21028556 & -0.16341890 &  0.09400842 & -0.6638549 &  0.068445412 & -0.5339814 & -0.247713121 & -0.1558411\\\\\n",
       "\\end{tabular}\n"
      ],
      "text/markdown": [
       "\n",
       "A matrix: 6 × 925 of type dbl\n",
       "\n",
       "| <!--/--> | TARGET-30-PAIFXV-01A | TARGET-30-PAIPGU-01A | TARGET-30-PAISNS-01A | TARGET-30-PAITCI-01A | TARGET-30-PAIVHE-01A | TARGET-30-PAIXIF-01A | TARGET-30-PAKYZS-01A | TARGET-30-PAKZRH-01A | TARGET-30-PALBFW-01A | TARGET-30-PALCBW-01A | ⋯ | ICGC_PA89 | ICGC_PA9 | ICGC_PA91 | ICGC_PA92 | ICGC_PA93 | ICGC_PA94 | ICGC_PA95 | ICGC_PA96 | ICGC_PA97 | ICGC_PA99 |\n",
       "|---|---|---|---|---|---|---|---|---|---|---|---|---|---|---|---|---|---|---|---|---|---|\n",
       "| B_cells | -1.0261811 | -0.2663472 | -0.5500331 | -1.6734032 | 0.3790016 | -0.68443148 | -2.3938567 | -2.3391479 | -0.69584948 | -0.1989627 | ⋯ | -0.4294500 | -0.1895001 | -0.08708725 | -0.24467422 |  0.18449614 | -0.3363069 | -0.009581817 | -0.5669550 | -0.008541654 | -0.2312175 |\n",
       "| Granulocytes |  1.0154032 |  1.5352628 |  0.3735776 |  1.1657142 | 1.0875300 |  1.62840168 |  0.8566935 |  0.5867553 |  0.59711497 |  1.4388706 | ⋯ |  0.5986012 |  0.9764662 |  1.09418248 |  1.20580307 |  1.59507546 |  0.6462704 |  1.014127410 |  1.1984187 |  1.623139948 |  1.1852914 |\n",
       "| Monocytes |  1.1560147 |  3.2377299 | -0.1424045 |  1.3159159 | 1.0783997 |  2.24252540 |  0.5307257 |  1.1801533 |  0.44303005 |  1.3987383 | ⋯ |  0.7337680 |  1.6864077 |  1.59960434 |  1.02899639 |  2.71492144 |  1.0711519 |  2.012054482 |  1.1595255 |  1.927787219 |  1.9380339 |\n",
       "| DC |  0.6116269 |  1.7166637 |  0.3242817 |  0.9269765 | 0.8864241 |  1.20057021 |  0.2268468 | -0.1522459 |  0.49141649 |  1.3751148 | ⋯ |  0.2025195 |  0.4377004 |  0.82783742 |  0.31070266 |  1.28033748 |  0.4651458 |  0.843106181 |  0.5533022 |  0.503512791 |  0.9905531 |\n",
       "| NK_cells |  0.5080152 |  1.2370455 | -0.2447717 | -0.4259744 | 0.3518645 | -0.08196236 | -1.5027704 | -1.5369380 |  0.36873168 | -0.0508021 | ⋯ | -0.7132550 | -0.3555373 |  0.11713649 |  0.03383472 | -0.06413519 | -0.9230160 | -0.259694051 | -0.3449225 |  0.145732336 | -0.0730824 |\n",
       "| T_cells |  0.1329171 |  1.2636560 |  0.5094226 | -0.0656706 | 0.7437377 |  0.05919117 | -1.6221636 | -1.8604589 |  0.07688679 |  0.1175262 | ⋯ | -0.6417722 | -0.2823479 | -0.21028556 | -0.16341890 |  0.09400842 | -0.6638549 |  0.068445412 | -0.5339814 | -0.247713121 | -0.1558411 |\n",
       "\n"
      ],
      "text/plain": [
       "             TARGET-30-PAIFXV-01A TARGET-30-PAIPGU-01A TARGET-30-PAISNS-01A\n",
       "B_cells      -1.0261811           -0.2663472           -0.5500331          \n",
       "Granulocytes  1.0154032            1.5352628            0.3735776          \n",
       "Monocytes     1.1560147            3.2377299           -0.1424045          \n",
       "DC            0.6116269            1.7166637            0.3242817          \n",
       "NK_cells      0.5080152            1.2370455           -0.2447717          \n",
       "T_cells       0.1329171            1.2636560            0.5094226          \n",
       "             TARGET-30-PAITCI-01A TARGET-30-PAIVHE-01A TARGET-30-PAIXIF-01A\n",
       "B_cells      -1.6734032           0.3790016            -0.68443148         \n",
       "Granulocytes  1.1657142           1.0875300             1.62840168         \n",
       "Monocytes     1.3159159           1.0783997             2.24252540         \n",
       "DC            0.9269765           0.8864241             1.20057021         \n",
       "NK_cells     -0.4259744           0.3518645            -0.08196236         \n",
       "T_cells      -0.0656706           0.7437377             0.05919117         \n",
       "             TARGET-30-PAKYZS-01A TARGET-30-PAKZRH-01A TARGET-30-PALBFW-01A\n",
       "B_cells      -2.3938567           -2.3391479           -0.69584948         \n",
       "Granulocytes  0.8566935            0.5867553            0.59711497         \n",
       "Monocytes     0.5307257            1.1801533            0.44303005         \n",
       "DC            0.2268468           -0.1522459            0.49141649         \n",
       "NK_cells     -1.5027704           -1.5369380            0.36873168         \n",
       "T_cells      -1.6221636           -1.8604589            0.07688679         \n",
       "             TARGET-30-PALCBW-01A ⋯ ICGC_PA89  ICGC_PA9   ICGC_PA91  \n",
       "B_cells      -0.1989627           ⋯ -0.4294500 -0.1895001 -0.08708725\n",
       "Granulocytes  1.4388706           ⋯  0.5986012  0.9764662  1.09418248\n",
       "Monocytes     1.3987383           ⋯  0.7337680  1.6864077  1.59960434\n",
       "DC            1.3751148           ⋯  0.2025195  0.4377004  0.82783742\n",
       "NK_cells     -0.0508021           ⋯ -0.7132550 -0.3555373  0.11713649\n",
       "T_cells       0.1175262           ⋯ -0.6417722 -0.2823479 -0.21028556\n",
       "             ICGC_PA92   ICGC_PA93   ICGC_PA94  ICGC_PA95    ICGC_PA96 \n",
       "B_cells      -0.24467422  0.18449614 -0.3363069 -0.009581817 -0.5669550\n",
       "Granulocytes  1.20580307  1.59507546  0.6462704  1.014127410  1.1984187\n",
       "Monocytes     1.02899639  2.71492144  1.0711519  2.012054482  1.1595255\n",
       "DC            0.31070266  1.28033748  0.4651458  0.843106181  0.5533022\n",
       "NK_cells      0.03383472 -0.06413519 -0.9230160 -0.259694051 -0.3449225\n",
       "T_cells      -0.16341890  0.09400842 -0.6638549  0.068445412 -0.5339814\n",
       "             ICGC_PA97    ICGC_PA99 \n",
       "B_cells      -0.008541654 -0.2312175\n",
       "Granulocytes  1.623139948  1.1852914\n",
       "Monocytes     1.927787219  1.9380339\n",
       "DC            0.503512791  0.9905531\n",
       "NK_cells      0.145732336 -0.0730824\n",
       "T_cells      -0.247713121 -0.1558411"
      ]
     },
     "metadata": {},
     "output_type": "display_data"
    }
   ],
   "source": [
    "head(geneset_cc_norm)"
   ]
  },
  {
   "cell_type": "code",
   "execution_count": 210,
   "metadata": {},
   "outputs": [],
   "source": [
    "save(geneset_cc_norm, file = paste0(datapath, \"TME_clusters/geneset_cc_norm.RData\"))"
   ]
  },
  {
   "cell_type": "code",
   "execution_count": 211,
   "metadata": {},
   "outputs": [
    {
     "name": "stderr",
     "output_type": "stream",
     "text": [
      "end fraction\n",
      "\n",
      "clustered\n",
      "\n",
      "clustered\n",
      "\n",
      "clustered\n",
      "\n",
      "clustered\n",
      "\n",
      "clustered\n",
      "\n",
      "clustered\n",
      "\n",
      "clustered\n",
      "\n"
     ]
    }
   ],
   "source": [
    "results <- ConsensusClusterPlus(geneset_cc_norm, maxK = 8, reps = 200, pItem=0.8, pFeature=1,\n",
    "                                clusterAlg=\"km\", distance=\"euclidean\",\n",
    "                                seed=888, writeTable= FALSE, title = \"clusters_TME\", plot=\"png\")"
   ]
  },
  {
   "cell_type": "code",
   "execution_count": 212,
   "metadata": {},
   "outputs": [],
   "source": [
    "save(results, file = paste0(datapath, \"TME_clusters/results_consensusclustering.RData\"))"
   ]
  },
  {
   "cell_type": "code",
   "execution_count": 213,
   "metadata": {},
   "outputs": [],
   "source": [
    "load(file = paste0(datapath, \"TME_clusters/results_consensusclustering.RData\"))"
   ]
  },
  {
   "cell_type": "code",
   "execution_count": 214,
   "metadata": {},
   "outputs": [],
   "source": [
    "tm <- results[[4]]"
   ]
  },
  {
   "cell_type": "code",
   "execution_count": 215,
   "metadata": {},
   "outputs": [
    {
     "data": {
      "text/plain": [
       "\n",
       "  1   2   3   4 \n",
       "279  90 393 163 "
      ]
     },
     "metadata": {},
     "output_type": "display_data"
    }
   ],
   "source": [
    "table(tm$consensusClass)"
   ]
  },
  {
   "cell_type": "code",
   "execution_count": 216,
   "metadata": {},
   "outputs": [],
   "source": [
    "vars$immune_cluster <- tm$consensusClass"
   ]
  },
  {
   "cell_type": "code",
   "execution_count": 217,
   "metadata": {},
   "outputs": [],
   "source": [
    "metadata_IC <- vars"
   ]
  },
  {
   "cell_type": "code",
   "execution_count": 218,
   "metadata": {},
   "outputs": [],
   "source": [
    "# recode clusters from hottest to coldets\n",
    "metadata_IC$immune_cluster[metadata_IC$immune_cluster == \"1\"] <- \"Myeloid-driven\"\n",
    "metadata_IC$immune_cluster[metadata_IC$immune_cluster == \"2\"] <- \"Pediatric inflamed\"\n",
    "metadata_IC$immune_cluster[metadata_IC$immune_cluster == \"3\"] <- \"Pediatric cold\"\n",
    "metadata_IC$immune_cluster[metadata_IC$immune_cluster == \"4\"] <- \"Immune excluded\""
   ]
  },
  {
   "cell_type": "code",
   "execution_count": 219,
   "metadata": {},
   "outputs": [
    {
     "data": {
      "text/plain": [
       "\n",
       "   Immune excluded     Myeloid-driven     Pediatric cold Pediatric inflamed \n",
       "               163                279                393                 90 "
      ]
     },
     "metadata": {},
     "output_type": "display_data"
    }
   ],
   "source": [
    "table(metadata_IC$immune_cluster)"
   ]
  },
  {
   "cell_type": "code",
   "execution_count": 220,
   "metadata": {},
   "outputs": [],
   "source": [
    "metadata_IC$immune_cluster <- factor(metadata_IC$immune_cluster,\n",
    "                                       levels = c(\n",
    "                                       \"Pediatric inflamed\", \"Myeloid-driven\", \"Pediatric cold\", \"Immune excluded\"))"
   ]
  },
  {
   "cell_type": "code",
   "execution_count": 221,
   "metadata": {},
   "outputs": [],
   "source": [
    "save(metadata_IC, file = file.path(datapath,\"TME_clusters/IPD_estimate_metadata_IC.RData\"))"
   ]
  },
  {
   "cell_type": "code",
   "execution_count": 222,
   "metadata": {},
   "outputs": [],
   "source": [
    "write.csv(metadata_IC, file = paste0(datapath, \"TME_clusters/IPD_estimate_metadata_IC.csv\"))"
   ]
  },
  {
   "cell_type": "markdown",
   "metadata": {},
   "source": [
    "# Heatmaps"
   ]
  },
  {
   "cell_type": "code",
   "execution_count": 223,
   "metadata": {},
   "outputs": [],
   "source": [
    "load(file = file.path(datapath,\"TME_clusters/IPD_estimate_metadata_IC.RData\"))"
   ]
  },
  {
   "cell_type": "code",
   "execution_count": 224,
   "metadata": {},
   "outputs": [],
   "source": [
    "load( file = paste0(datapath, \"TME_clusters/geneset_cc_norm.RData\"))"
   ]
  },
  {
   "cell_type": "markdown",
   "metadata": {},
   "source": [
    "Clusters"
   ]
  },
  {
   "cell_type": "code",
   "execution_count": 225,
   "metadata": {},
   "outputs": [],
   "source": [
    "cluster_cohort <- metadata_IC[order(metadata_IC$immune_cluster, metadata_IC$cohort),]"
   ]
  },
  {
   "cell_type": "code",
   "execution_count": 226,
   "metadata": {},
   "outputs": [],
   "source": [
    "mycluster <- as.character(cluster_cohort$immune_cluster)\n",
    "names(mycluster) <- rownames(cluster_cohort)\n",
    "cluster_hm <- class_hm.fx(mycluster)"
   ]
  },
  {
   "cell_type": "markdown",
   "metadata": {},
   "source": [
    "Cohort"
   ]
  },
  {
   "cell_type": "code",
   "execution_count": 227,
   "metadata": {},
   "outputs": [],
   "source": [
    "mycohort <- cluster_cohort$cohort\n",
    "names(mycohort) <- rownames(cluster_cohort)\n",
    "\n",
    "mycohorts <- t(as.matrix(mycohort))\n",
    "rownames(mycohorts) <- \"Cohort\"\n",
    "cohorts_hm <- cohorts_hm.fx(mycohorts)"
   ]
  },
  {
   "cell_type": "markdown",
   "metadata": {},
   "source": [
    "Geneset scores"
   ]
  },
  {
   "cell_type": "code",
   "execution_count": 228,
   "metadata": {},
   "outputs": [],
   "source": [
    "cells_mat <- geneset_cc_norm[,rownames(cluster_cohort)]"
   ]
  },
  {
   "cell_type": "code",
   "execution_count": 229,
   "metadata": {},
   "outputs": [
    {
     "data": {
      "text/html": [
       "<table class=\"dataframe\">\n",
       "<caption>A matrix: 6 × 925 of type dbl</caption>\n",
       "<thead>\n",
       "\t<tr><th></th><th scope=col>7316-1137</th><th scope=col>7316-2582</th><th scope=col>7316-41</th><th scope=col>H049-0CWK</th><th scope=col>H049-7SD3</th><th scope=col>H049-GWNW</th><th scope=col>H049-UV6K</th><th scope=col>7316-1082</th><th scope=col>7316-1748</th><th scope=col>7316-1773</th><th scope=col>⋯</th><th scope=col>7316-3574</th><th scope=col>7316-359</th><th scope=col>7316-3768</th><th scope=col>7316-3936</th><th scope=col>7316-470</th><th scope=col>7316-642</th><th scope=col>7316-77</th><th scope=col>7316-915</th><th scope=col>7316-923</th><th scope=col>7316-97</th></tr>\n",
       "</thead>\n",
       "<tbody>\n",
       "\t<tr><th scope=row>B_cells</th><td>0.8781518</td><td>4.183430</td><td>2.128592</td><td>1.254576</td><td>2.784994</td><td>0.2413679</td><td>1.459019</td><td>3.116237</td><td>3.214110</td><td>2.698993</td><td>⋯</td><td>-1.09895602</td><td>-1.07094246</td><td>-1.21548809</td><td>-1.56916951</td><td>-1.2680743</td><td>-1.16561529</td><td>-0.810489200</td><td>-1.27638532</td><td>-0.9093326</td><td>-1.15567527</td></tr>\n",
       "\t<tr><th scope=row>Granulocytes</th><td>2.0394454</td><td>2.495313</td><td>2.006593</td><td>1.073148</td><td>2.246158</td><td>1.4440585</td><td>1.365864</td><td>2.731103</td><td>5.856786</td><td>1.822971</td><td>⋯</td><td> 0.28375481</td><td>-0.02097290</td><td> 0.20883215</td><td>-0.08909531</td><td>-0.1634655</td><td>-0.08885868</td><td>-0.005934645</td><td> 0.03372058</td><td> 0.4337059</td><td>-0.09953267</td></tr>\n",
       "\t<tr><th scope=row>Monocytes</th><td>3.8665973</td><td>2.982730</td><td>3.083446</td><td>2.980268</td><td>3.741642</td><td>2.4657429</td><td>3.062799</td><td>4.359749</td><td>4.777348</td><td>2.261230</td><td>⋯</td><td>-0.09622229</td><td>-0.09867117</td><td>-0.04502704</td><td>-0.10885257</td><td>-0.2966868</td><td>-0.20445942</td><td>-0.224052695</td><td>-0.48860927</td><td> 0.1255357</td><td> 0.14612705</td></tr>\n",
       "\t<tr><th scope=row>DC</th><td>2.7869567</td><td>2.373179</td><td>2.079514</td><td>1.244206</td><td>2.347652</td><td>0.9229822</td><td>1.362942</td><td>3.122798</td><td>1.453885</td><td>1.402094</td><td>⋯</td><td>-0.80353328</td><td>-0.73645172</td><td>-0.55878953</td><td>-0.75934335</td><td>-0.6231024</td><td>-0.05101250</td><td>-0.291110245</td><td>-0.79069402</td><td>-0.6415289</td><td>-0.09922761</td></tr>\n",
       "\t<tr><th scope=row>NK_cells</th><td>1.8766351</td><td>4.679796</td><td>1.468996</td><td>2.335302</td><td>4.323897</td><td>1.5873751</td><td>2.588224</td><td>3.202744</td><td>3.827398</td><td>1.153484</td><td>⋯</td><td>-1.33198326</td><td>-1.72572276</td><td>-1.21715795</td><td>-1.22539506</td><td>-1.3090375</td><td>-1.70387668</td><td>-1.480009973</td><td>-1.48146992</td><td>-1.6488658</td><td>-1.46443628</td></tr>\n",
       "\t<tr><th scope=row>T_cells</th><td>1.7662977</td><td>6.579879</td><td>2.426231</td><td>3.475631</td><td>4.085210</td><td>1.5241934</td><td>3.487713</td><td>3.659146</td><td>2.778628</td><td>1.159787</td><td>⋯</td><td>-1.28676190</td><td>-1.40745523</td><td>-1.50898720</td><td>-1.32311741</td><td>-1.0170671</td><td>-1.27250326</td><td>-1.433442397</td><td>-1.33093217</td><td>-1.3552094</td><td>-1.12422857</td></tr>\n",
       "</tbody>\n",
       "</table>\n"
      ],
      "text/latex": [
       "A matrix: 6 × 925 of type dbl\n",
       "\\begin{tabular}{r|lllllllllllllllllllll}\n",
       "  & 7316-1137 & 7316-2582 & 7316-41 & H049-0CWK & H049-7SD3 & H049-GWNW & H049-UV6K & 7316-1082 & 7316-1748 & 7316-1773 & ⋯ & 7316-3574 & 7316-359 & 7316-3768 & 7316-3936 & 7316-470 & 7316-642 & 7316-77 & 7316-915 & 7316-923 & 7316-97\\\\\n",
       "\\hline\n",
       "\tB\\_cells & 0.8781518 & 4.183430 & 2.128592 & 1.254576 & 2.784994 & 0.2413679 & 1.459019 & 3.116237 & 3.214110 & 2.698993 & ⋯ & -1.09895602 & -1.07094246 & -1.21548809 & -1.56916951 & -1.2680743 & -1.16561529 & -0.810489200 & -1.27638532 & -0.9093326 & -1.15567527\\\\\n",
       "\tGranulocytes & 2.0394454 & 2.495313 & 2.006593 & 1.073148 & 2.246158 & 1.4440585 & 1.365864 & 2.731103 & 5.856786 & 1.822971 & ⋯ &  0.28375481 & -0.02097290 &  0.20883215 & -0.08909531 & -0.1634655 & -0.08885868 & -0.005934645 &  0.03372058 &  0.4337059 & -0.09953267\\\\\n",
       "\tMonocytes & 3.8665973 & 2.982730 & 3.083446 & 2.980268 & 3.741642 & 2.4657429 & 3.062799 & 4.359749 & 4.777348 & 2.261230 & ⋯ & -0.09622229 & -0.09867117 & -0.04502704 & -0.10885257 & -0.2966868 & -0.20445942 & -0.224052695 & -0.48860927 &  0.1255357 &  0.14612705\\\\\n",
       "\tDC & 2.7869567 & 2.373179 & 2.079514 & 1.244206 & 2.347652 & 0.9229822 & 1.362942 & 3.122798 & 1.453885 & 1.402094 & ⋯ & -0.80353328 & -0.73645172 & -0.55878953 & -0.75934335 & -0.6231024 & -0.05101250 & -0.291110245 & -0.79069402 & -0.6415289 & -0.09922761\\\\\n",
       "\tNK\\_cells & 1.8766351 & 4.679796 & 1.468996 & 2.335302 & 4.323897 & 1.5873751 & 2.588224 & 3.202744 & 3.827398 & 1.153484 & ⋯ & -1.33198326 & -1.72572276 & -1.21715795 & -1.22539506 & -1.3090375 & -1.70387668 & -1.480009973 & -1.48146992 & -1.6488658 & -1.46443628\\\\\n",
       "\tT\\_cells & 1.7662977 & 6.579879 & 2.426231 & 3.475631 & 4.085210 & 1.5241934 & 3.487713 & 3.659146 & 2.778628 & 1.159787 & ⋯ & -1.28676190 & -1.40745523 & -1.50898720 & -1.32311741 & -1.0170671 & -1.27250326 & -1.433442397 & -1.33093217 & -1.3552094 & -1.12422857\\\\\n",
       "\\end{tabular}\n"
      ],
      "text/markdown": [
       "\n",
       "A matrix: 6 × 925 of type dbl\n",
       "\n",
       "| <!--/--> | 7316-1137 | 7316-2582 | 7316-41 | H049-0CWK | H049-7SD3 | H049-GWNW | H049-UV6K | 7316-1082 | 7316-1748 | 7316-1773 | ⋯ | 7316-3574 | 7316-359 | 7316-3768 | 7316-3936 | 7316-470 | 7316-642 | 7316-77 | 7316-915 | 7316-923 | 7316-97 |\n",
       "|---|---|---|---|---|---|---|---|---|---|---|---|---|---|---|---|---|---|---|---|---|---|\n",
       "| B_cells | 0.8781518 | 4.183430 | 2.128592 | 1.254576 | 2.784994 | 0.2413679 | 1.459019 | 3.116237 | 3.214110 | 2.698993 | ⋯ | -1.09895602 | -1.07094246 | -1.21548809 | -1.56916951 | -1.2680743 | -1.16561529 | -0.810489200 | -1.27638532 | -0.9093326 | -1.15567527 |\n",
       "| Granulocytes | 2.0394454 | 2.495313 | 2.006593 | 1.073148 | 2.246158 | 1.4440585 | 1.365864 | 2.731103 | 5.856786 | 1.822971 | ⋯ |  0.28375481 | -0.02097290 |  0.20883215 | -0.08909531 | -0.1634655 | -0.08885868 | -0.005934645 |  0.03372058 |  0.4337059 | -0.09953267 |\n",
       "| Monocytes | 3.8665973 | 2.982730 | 3.083446 | 2.980268 | 3.741642 | 2.4657429 | 3.062799 | 4.359749 | 4.777348 | 2.261230 | ⋯ | -0.09622229 | -0.09867117 | -0.04502704 | -0.10885257 | -0.2966868 | -0.20445942 | -0.224052695 | -0.48860927 |  0.1255357 |  0.14612705 |\n",
       "| DC | 2.7869567 | 2.373179 | 2.079514 | 1.244206 | 2.347652 | 0.9229822 | 1.362942 | 3.122798 | 1.453885 | 1.402094 | ⋯ | -0.80353328 | -0.73645172 | -0.55878953 | -0.75934335 | -0.6231024 | -0.05101250 | -0.291110245 | -0.79069402 | -0.6415289 | -0.09922761 |\n",
       "| NK_cells | 1.8766351 | 4.679796 | 1.468996 | 2.335302 | 4.323897 | 1.5873751 | 2.588224 | 3.202744 | 3.827398 | 1.153484 | ⋯ | -1.33198326 | -1.72572276 | -1.21715795 | -1.22539506 | -1.3090375 | -1.70387668 | -1.480009973 | -1.48146992 | -1.6488658 | -1.46443628 |\n",
       "| T_cells | 1.7662977 | 6.579879 | 2.426231 | 3.475631 | 4.085210 | 1.5241934 | 3.487713 | 3.659146 | 2.778628 | 1.159787 | ⋯ | -1.28676190 | -1.40745523 | -1.50898720 | -1.32311741 | -1.0170671 | -1.27250326 | -1.433442397 | -1.33093217 | -1.3552094 | -1.12422857 |\n",
       "\n"
      ],
      "text/plain": [
       "             7316-1137 7316-2582 7316-41  H049-0CWK H049-7SD3 H049-GWNW\n",
       "B_cells      0.8781518 4.183430  2.128592 1.254576  2.784994  0.2413679\n",
       "Granulocytes 2.0394454 2.495313  2.006593 1.073148  2.246158  1.4440585\n",
       "Monocytes    3.8665973 2.982730  3.083446 2.980268  3.741642  2.4657429\n",
       "DC           2.7869567 2.373179  2.079514 1.244206  2.347652  0.9229822\n",
       "NK_cells     1.8766351 4.679796  1.468996 2.335302  4.323897  1.5873751\n",
       "T_cells      1.7662977 6.579879  2.426231 3.475631  4.085210  1.5241934\n",
       "             H049-UV6K 7316-1082 7316-1748 7316-1773 ⋯ 7316-3574   7316-359   \n",
       "B_cells      1.459019  3.116237  3.214110  2.698993  ⋯ -1.09895602 -1.07094246\n",
       "Granulocytes 1.365864  2.731103  5.856786  1.822971  ⋯  0.28375481 -0.02097290\n",
       "Monocytes    3.062799  4.359749  4.777348  2.261230  ⋯ -0.09622229 -0.09867117\n",
       "DC           1.362942  3.122798  1.453885  1.402094  ⋯ -0.80353328 -0.73645172\n",
       "NK_cells     2.588224  3.202744  3.827398  1.153484  ⋯ -1.33198326 -1.72572276\n",
       "T_cells      3.487713  3.659146  2.778628  1.159787  ⋯ -1.28676190 -1.40745523\n",
       "             7316-3768   7316-3936   7316-470   7316-642    7316-77     \n",
       "B_cells      -1.21548809 -1.56916951 -1.2680743 -1.16561529 -0.810489200\n",
       "Granulocytes  0.20883215 -0.08909531 -0.1634655 -0.08885868 -0.005934645\n",
       "Monocytes    -0.04502704 -0.10885257 -0.2966868 -0.20445942 -0.224052695\n",
       "DC           -0.55878953 -0.75934335 -0.6231024 -0.05101250 -0.291110245\n",
       "NK_cells     -1.21715795 -1.22539506 -1.3090375 -1.70387668 -1.480009973\n",
       "T_cells      -1.50898720 -1.32311741 -1.0170671 -1.27250326 -1.433442397\n",
       "             7316-915    7316-923   7316-97    \n",
       "B_cells      -1.27638532 -0.9093326 -1.15567527\n",
       "Granulocytes  0.03372058  0.4337059 -0.09953267\n",
       "Monocytes    -0.48860927  0.1255357  0.14612705\n",
       "DC           -0.79069402 -0.6415289 -0.09922761\n",
       "NK_cells     -1.48146992 -1.6488658 -1.46443628\n",
       "T_cells      -1.33093217 -1.3552094 -1.12422857"
      ]
     },
     "metadata": {},
     "output_type": "display_data"
    }
   ],
   "source": [
    "head(cells_mat)"
   ]
  },
  {
   "cell_type": "code",
   "execution_count": 230,
   "metadata": {},
   "outputs": [],
   "source": [
    "# cell type name clean up\n",
    "rownames(cells_mat) <- c(\"B cells\", \"Granulocytes\", \"Monocytes\", \"Dendritic cells\", \"NK cells\", \"T cells\")"
   ]
  },
  {
   "cell_type": "code",
   "execution_count": 231,
   "metadata": {},
   "outputs": [
    {
     "data": {
      "text/plain": [
       "    Min.  1st Qu.   Median     Mean  3rd Qu.     Max. \n",
       "-3.27068 -0.65187  0.00000  0.09492  0.71999  6.57988 "
      ]
     },
     "metadata": {},
     "output_type": "display_data"
    }
   ],
   "source": [
    "summary(as.vector(cells_mat))"
   ]
  },
  {
   "cell_type": "code",
   "execution_count": 232,
   "metadata": {},
   "outputs": [],
   "source": [
    "cells_hm <- cells_hm.fx(cells_mat)"
   ]
  },
  {
   "cell_type": "code",
   "execution_count": 233,
   "metadata": {
    "scrolled": true
   },
   "outputs": [
    {
     "data": {
      "text/plain": [
       "\n",
       "Pediatric inflamed     Myeloid-driven     Pediatric cold    Immune excluded \n",
       "                90                279                393                163 "
      ]
     },
     "metadata": {},
     "output_type": "display_data"
    }
   ],
   "source": [
    "table(cluster_cohort$immune_cluster)"
   ]
  },
  {
   "cell_type": "markdown",
   "metadata": {},
   "source": [
    "Annotation"
   ]
  },
  {
   "cell_type": "code",
   "execution_count": 234,
   "metadata": {},
   "outputs": [],
   "source": [
    "annotation_order <- c(\"Pediatric inflammed\", \"Myeloid-driven\", \"Pediatric cold\", \"Immune excluded\")"
   ]
  },
  {
   "cell_type": "code",
   "execution_count": 235,
   "metadata": {},
   "outputs": [],
   "source": [
    "cluster_ha = HeatmapAnnotation(clusters = anno_mark(at = c(50, 235, 566, 844), labels_rot = 0,\n",
    "                                                    labels = annotation_order, side = \"top\",\n",
    "                                                    labels_gp = gpar(fontsize = 20), \n",
    "                                                    link_height = unit(0.5, \"cm\")))"
   ]
  },
  {
   "cell_type": "code",
   "execution_count": 236,
   "metadata": {},
   "outputs": [
    {
     "data": {
      "image/png": "[encoded data removed]",
      "text/plain": [
       "plot without title"
      ]
     },
     "metadata": {
      "image/png": {
       "height": 420,
       "width": 420
      }
     },
     "output_type": "display_data"
    }
   ],
   "source": [
    "cluster_ha %v% cluster_hm %v% cells_hm %v% cohorts_hm"
   ]
  },
  {
   "cell_type": "code",
   "execution_count": 237,
   "metadata": {
    "scrolled": true
   },
   "outputs": [
    {
     "data": {
      "text/html": [
       "<strong>pdf:</strong> 2"
      ],
      "text/latex": [
       "\\textbf{pdf:} 2"
      ],
      "text/markdown": [
       "**pdf:** 2"
      ],
      "text/plain": [
       "pdf \n",
       "  2 "
      ]
     },
     "metadata": {},
     "output_type": "display_data"
    }
   ],
   "source": [
    "pdf(paste0(plotpath, \"IPD_immune_clusters_heatmap.pdf\"),\n",
    "   width = 18, height = 10)\n",
    "\n",
    "draw(cluster_ha%v% cluster_hm %v% cells_hm %v% cohorts_hm, gap = unit(0.5, \"cm\"))\n",
    "\n",
    "dev.off()"
   ]
  },
  {
   "cell_type": "markdown",
   "metadata": {},
   "source": [
    "## Legends"
   ]
  },
  {
   "cell_type": "code",
   "execution_count": 88,
   "metadata": {},
   "outputs": [
    {
     "data": {
      "text/html": [
       "<strong>pdf:</strong> 2"
      ],
      "text/latex": [
       "\\textbf{pdf:} 2"
      ],
      "text/markdown": [
       "**pdf:** 2"
      ],
      "text/plain": [
       "pdf \n",
       "  2 "
      ]
     },
     "metadata": {},
     "output_type": "display_data"
    }
   ],
   "source": [
    "lgd_cohort = Legend(labels = names(cohort_col)[2:13], title = \"Cohort\",\n",
    "             legend_gp = gpar(fill = cohort_col[2:13]))\n",
    "\n",
    "pdf(file = paste0(plotpath,\"cohort_legend.pdf\"),\n",
    "      width = 8, \n",
    "      height = 8,\n",
    "      useDingbats = FALSE)\n",
    "  draw(lgd_cohort)\n",
    "  dev.off() "
   ]
  },
  {
   "cell_type": "code",
   "execution_count": 89,
   "metadata": {},
   "outputs": [
    {
     "data": {
      "text/html": [
       "<strong>pdf:</strong> 2"
      ],
      "text/latex": [
       "\\textbf{pdf:} 2"
      ],
      "text/markdown": [
       "**pdf:** 2"
      ],
      "text/plain": [
       "pdf \n",
       "  2 "
      ]
     },
     "metadata": {},
     "output_type": "display_data"
    }
   ],
   "source": [
    "col_fun = colorRamp2(c(-3, 0, 3), c(\"blue\", \"white\", \"red\"))\n",
    "celltype_lgd = Legend(col_fun = col_fun, \n",
    "                      at = c(-3,0,3),\n",
    "                      labels = c(\"<3\", \"0\", \">3\"),\n",
    "                      title = \"Cell-type\\nscore\")\n",
    "\n",
    "\n",
    "  pdf(file = paste0(plotpath,\"celltype_legend.pdf\"),\n",
    "      width = 8, \n",
    "      height = 8,\n",
    "      useDingbats = FALSE)\n",
    "  draw(celltype_lgd)\n",
    "  dev.off()  "
   ]
  },
  {
   "cell_type": "markdown",
   "metadata": {},
   "source": [
    "# Ridge plots and stats"
   ]
  },
  {
   "cell_type": "code",
   "execution_count": 12,
   "metadata": {},
   "outputs": [],
   "source": [
    "mygenesets <- as.data.frame(t(geneset_cc_norm))"
   ]
  },
  {
   "cell_type": "code",
   "execution_count": 13,
   "metadata": {},
   "outputs": [],
   "source": [
    "mygenesets$sample_id <- rownames(mygenesets)"
   ]
  },
  {
   "cell_type": "code",
   "execution_count": 14,
   "metadata": {},
   "outputs": [],
   "source": [
    "metadata_IC_genesets <- merge(metadata_IC, mygenesets, by = \"sample_id\")"
   ]
  },
  {
   "cell_type": "code",
   "execution_count": 93,
   "metadata": {},
   "outputs": [],
   "source": [
    "tcells_rp <- plot_ridge.fx(metadata_IC_genesets, \"T_cells\") \n",
    "\n",
    "bcells_rp <- plot_ridge.fx(metadata_IC_genesets, \"B_cells\") \n",
    "\n",
    "nkcells_rp <- plot_ridge.fx(metadata_IC_genesets, \"NK_cells\") \n",
    "\n",
    "dc_rp <- plot_ridge.fx(metadata_IC_genesets, \"DC\") \n",
    "\n",
    "granul_rp <- plot_ridge.fx(metadata_IC_genesets, \"Granulocytes\") \n",
    "\n",
    "mono_rp <- plot_ridge.fx(metadata_IC_genesets, \"Monocytes\") \n",
    "\n",
    "myeloid_rp <- plot_ridge.fx(metadata_IC_genesets, \"Myeloid_cells\") "
   ]
  },
  {
   "cell_type": "code",
   "execution_count": 94,
   "metadata": {},
   "outputs": [
    {
     "name": "stderr",
     "output_type": "stream",
     "text": [
      "Picking joint bandwidth of 0.197\n",
      "\n"
     ]
    },
    {
     "data": {
      "image/png": "[encoded data removed]",
      "text/plain": [
       "plot without title"
      ]
     },
     "metadata": {
      "image/png": {
       "height": 420,
       "width": 420
      }
     },
     "output_type": "display_data"
    }
   ],
   "source": [
    "mono_rp"
   ]
  },
  {
   "cell_type": "code",
   "execution_count": 95,
   "metadata": {},
   "outputs": [
    {
     "data": {
      "text/plain": [
       "\n",
       "\tPairwise comparisons using t tests with pooled SD \n",
       "\n",
       "data:  metadata_IC_genesets$T_cells and metadata_IC_genesets$immune_cluster \n",
       "\n",
       "                Pediatric inflamed Myeloid-driven Pediatric cold\n",
       "Myeloid-driven  <2e-16             -              -             \n",
       "Pediatric cold  <2e-16             <2e-16         -             \n",
       "Immune excluded <2e-16             <2e-16         <2e-16        \n",
       "\n",
       "P value adjustment method: bonferroni "
      ]
     },
     "metadata": {},
     "output_type": "display_data"
    }
   ],
   "source": [
    "pairwise.t.test(metadata_IC_genesets$T_cells, metadata_IC_genesets$immune_cluster, p.adjust.method = \"bonf\")"
   ]
  },
  {
   "cell_type": "code",
   "execution_count": 96,
   "metadata": {},
   "outputs": [
    {
     "data": {
      "text/plain": [
       "\n",
       "\tPairwise comparisons using t tests with pooled SD \n",
       "\n",
       "data:  metadata_IC_genesets$B_cells and metadata_IC_genesets$immune_cluster \n",
       "\n",
       "                Pediatric inflamed Myeloid-driven Pediatric cold\n",
       "Myeloid-driven  <2e-16             -              -             \n",
       "Pediatric cold  <2e-16             <2e-16         -             \n",
       "Immune excluded <2e-16             <2e-16         <2e-16        \n",
       "\n",
       "P value adjustment method: bonferroni "
      ]
     },
     "metadata": {},
     "output_type": "display_data"
    }
   ],
   "source": [
    "pairwise.t.test(metadata_IC_genesets$B_cells, metadata_IC_genesets$immune_cluster, p.adjust.method = \"bonf\")"
   ]
  },
  {
   "cell_type": "code",
   "execution_count": 97,
   "metadata": {},
   "outputs": [
    {
     "data": {
      "text/plain": [
       "\n",
       "\tPairwise comparisons using t tests with pooled SD \n",
       "\n",
       "data:  metadata_IC_genesets$NK_cells and metadata_IC_genesets$immune_cluster \n",
       "\n",
       "                Pediatric inflamed Myeloid-driven Pediatric cold\n",
       "Myeloid-driven  <2e-16             -              -             \n",
       "Pediatric cold  <2e-16             <2e-16         -             \n",
       "Immune excluded <2e-16             <2e-16         <2e-16        \n",
       "\n",
       "P value adjustment method: bonferroni "
      ]
     },
     "metadata": {},
     "output_type": "display_data"
    }
   ],
   "source": [
    "pairwise.t.test(metadata_IC_genesets$NK_cells, metadata_IC_genesets$immune_cluster, p.adjust.method = \"bonf\")"
   ]
  },
  {
   "cell_type": "code",
   "execution_count": 98,
   "metadata": {},
   "outputs": [
    {
     "data": {
      "text/plain": [
       "\n",
       "\tPairwise comparisons using t tests with pooled SD \n",
       "\n",
       "data:  metadata_IC_genesets$Monocytes and metadata_IC_genesets$immune_cluster \n",
       "\n",
       "                Pediatric inflamed Myeloid-driven Pediatric cold\n",
       "Myeloid-driven  <2e-16             -              -             \n",
       "Pediatric cold  <2e-16             <2e-16         -             \n",
       "Immune excluded <2e-16             <2e-16         <2e-16        \n",
       "\n",
       "P value adjustment method: bonferroni "
      ]
     },
     "metadata": {},
     "output_type": "display_data"
    }
   ],
   "source": [
    "pairwise.t.test(metadata_IC_genesets$Monocytes, metadata_IC_genesets$immune_cluster, p.adjust.method = \"bonf\")"
   ]
  },
  {
   "cell_type": "code",
   "execution_count": 99,
   "metadata": {},
   "outputs": [
    {
     "data": {
      "text/plain": [
       "\n",
       "\tPairwise comparisons using t tests with pooled SD \n",
       "\n",
       "data:  metadata_IC_genesets$DC and metadata_IC_genesets$immune_cluster \n",
       "\n",
       "                Pediatric inflamed Myeloid-driven Pediatric cold\n",
       "Myeloid-driven  <2e-16             -              -             \n",
       "Pediatric cold  <2e-16             <2e-16         -             \n",
       "Immune excluded <2e-16             <2e-16         <2e-16        \n",
       "\n",
       "P value adjustment method: bonferroni "
      ]
     },
     "metadata": {},
     "output_type": "display_data"
    }
   ],
   "source": [
    "pairwise.t.test(metadata_IC_genesets$DC, metadata_IC_genesets$immune_cluster, p.adjust.method = \"bonf\")"
   ]
  },
  {
   "cell_type": "code",
   "execution_count": 100,
   "metadata": {},
   "outputs": [
    {
     "data": {
      "text/plain": [
       "\n",
       "\tPairwise comparisons using t tests with pooled SD \n",
       "\n",
       "data:  metadata_IC_genesets$Granulocytes and metadata_IC_genesets$immune_cluster \n",
       "\n",
       "                Pediatric inflamed Myeloid-driven Pediatric cold\n",
       "Myeloid-driven  <2e-16             -              -             \n",
       "Pediatric cold  <2e-16             <2e-16         -             \n",
       "Immune excluded <2e-16             <2e-16         <2e-16        \n",
       "\n",
       "P value adjustment method: bonferroni "
      ]
     },
     "metadata": {},
     "output_type": "display_data"
    }
   ],
   "source": [
    "pairwise.t.test(metadata_IC_genesets$Granulocytes, metadata_IC_genesets$immune_cluster, p.adjust.method = \"bonf\")"
   ]
  },
  {
   "cell_type": "code",
   "execution_count": 101,
   "metadata": {},
   "outputs": [
    {
     "data": {
      "text/html": [
       "<style>\n",
       ".list-inline {list-style: none; margin:0; padding: 0}\n",
       ".list-inline>li {display: inline-block}\n",
       ".list-inline>li:not(:last-child)::after {content: \"\\00b7\"; padding: 0 .5ex}\n",
       "</style>\n",
       "<ol class=list-inline><li>925</li><li>30</li></ol>\n"
      ],
      "text/latex": [
       "\\begin{enumerate*}\n",
       "\\item 925\n",
       "\\item 30\n",
       "\\end{enumerate*}\n"
      ],
      "text/markdown": [
       "1. 925\n",
       "2. 30\n",
       "\n",
       "\n"
      ],
      "text/plain": [
       "[1] 925  30"
      ]
     },
     "metadata": {},
     "output_type": "display_data"
    }
   ],
   "source": [
    "dim(metadata_IC_genesets)"
   ]
  },
  {
   "cell_type": "code",
   "execution_count": 102,
   "metadata": {},
   "outputs": [
    {
     "data": {
      "text/plain": [
       "\n",
       "  ATRT     CP    CPH    EPN   ETMR     MB    MNG    NBL    NFB pedHGG pedLGG \n",
       "    30     16     27     65      9    208     13    151     11     83    298 \n",
       "  SCHW \n",
       "    14 "
      ]
     },
     "metadata": {},
     "output_type": "display_data"
    }
   ],
   "source": [
    "table(metadata_IC_genesets$cohort)"
   ]
  },
  {
   "cell_type": "code",
   "execution_count": 103,
   "metadata": {},
   "outputs": [
    {
     "data": {
      "text/plain": [
       "\n",
       "Pediatric inflamed     Myeloid-driven     Pediatric cold    Immune excluded \n",
       "                90                279                393                163 "
      ]
     },
     "metadata": {},
     "output_type": "display_data"
    }
   ],
   "source": [
    "table(metadata_IC_genesets$immune_cluster)"
   ]
  },
  {
   "cell_type": "markdown",
   "metadata": {},
   "source": [
    "# Heatmap Cancer type "
   ]
  },
  {
   "cell_type": "code",
   "execution_count": 104,
   "metadata": {},
   "outputs": [],
   "source": [
    "tab <- as.data.frame(table(metadata_IC_genesets$cohort), stringsAsFactors = F)\n",
    "tab <- tab[order(tab$Freq, decreasing = F),]"
   ]
  },
  {
   "cell_type": "code",
   "execution_count": 105,
   "metadata": {},
   "outputs": [
    {
     "data": {
      "text/html": [
       "<style>\n",
       ".list-inline {list-style: none; margin:0; padding: 0}\n",
       ".list-inline>li {display: inline-block}\n",
       ".list-inline>li:not(:last-child)::after {content: \"\\00b7\"; padding: 0 .5ex}\n",
       "</style>\n",
       "<ol class=list-inline><li>12</li><li>2</li></ol>\n"
      ],
      "text/latex": [
       "\\begin{enumerate*}\n",
       "\\item 12\n",
       "\\item 2\n",
       "\\end{enumerate*}\n"
      ],
      "text/markdown": [
       "1. 12\n",
       "2. 2\n",
       "\n",
       "\n"
      ],
      "text/plain": [
       "[1] 12  2"
      ]
     },
     "metadata": {},
     "output_type": "display_data"
    }
   ],
   "source": [
    "dim(tab)"
   ]
  },
  {
   "cell_type": "code",
   "execution_count": 106,
   "metadata": {},
   "outputs": [],
   "source": [
    "cancer_IC_mat <- matrix(nrow = 12, ncol = 4,\n",
    "                       dimnames = list(tab$Var1, \n",
    "                                       c(\"Pediatric inflamed\", \"Myeloid-driven\", \n",
    "                                         \"Pediatric cold\", \"Immune excluded\")))"
   ]
  },
  {
   "cell_type": "code",
   "execution_count": 107,
   "metadata": {},
   "outputs": [],
   "source": [
    "for(i in 1:nrow(cancer_IC_mat)){\n",
    "    \n",
    "    mycancer <- metadata_IC_genesets[ metadata_IC_genesets$cohort == rownames(cancer_IC_mat)[i],]    \n",
    "    freq_tab <- as.data.frame(table(mycancer$immune_cluster), stringsAsFactors = F)\n",
    "    freq_tab$perc <- freq_tab$Freq/sum(freq_tab$Freq)    \n",
    "    \n",
    "    cancer_IC_mat[i, freq_tab$Var1] <- freq_tab$perc *100\n",
    "}"
   ]
  },
  {
   "cell_type": "code",
   "execution_count": 108,
   "metadata": {},
   "outputs": [],
   "source": [
    "cancer_IC_mat[is.na(cancer_IC_mat)] <- 0"
   ]
  },
  {
   "cell_type": "code",
   "execution_count": 109,
   "metadata": {},
   "outputs": [
    {
     "data": {
      "text/plain": [
       "\n",
       "Pediatric inflamed     Myeloid-driven     Pediatric cold    Immune excluded \n",
       "                90                279                393                163 "
      ]
     },
     "metadata": {},
     "output_type": "display_data"
    }
   ],
   "source": [
    "table(metadata_IC_genesets$immune_cluster)"
   ]
  },
  {
   "cell_type": "code",
   "execution_count": 110,
   "metadata": {},
   "outputs": [
    {
     "data": {
      "text/html": [
       "0.176216216216216"
      ],
      "text/latex": [
       "0.176216216216216"
      ],
      "text/markdown": [
       "0.176216216216216"
      ],
      "text/plain": [
       "[1] 0.1762162"
      ]
     },
     "metadata": {},
     "output_type": "display_data"
    }
   ],
   "source": [
    "163/925"
   ]
  },
  {
   "cell_type": "code",
   "execution_count": 25,
   "metadata": {},
   "outputs": [
    {
     "data": {
      "text/plain": [
       "   Min. 1st Qu.  Median    Mean 3rd Qu.    Max. \n",
       "-0.8978  0.1648  0.5295  0.7105  1.1248  6.5350 "
      ]
     },
     "metadata": {},
     "output_type": "display_data"
    }
   ],
   "source": [
    "summary(metadata_IC_genesets$Granulocytes)"
   ]
  },
  {
   "cell_type": "code",
   "execution_count": 32,
   "metadata": {},
   "outputs": [
    {
     "data": {
      "text/plain": [
       "$`Pediatric inflamed`\n",
       "   Min. 1st Qu.  Median    Mean 3rd Qu.    Max. \n",
       " 0.3834  1.2774  1.6465  1.6971  1.9827  3.8213 \n",
       "\n",
       "$`Myeloid-driven`\n",
       "   Min. 1st Qu.  Median    Mean 3rd Qu.    Max. \n",
       "-0.3084  0.4878  0.7555  0.7477  0.9806  2.2363 \n",
       "\n",
       "$`Pediatric cold`\n",
       "    Min.  1st Qu.   Median     Mean  3rd Qu.     Max. \n",
       "-0.94038 -0.17819  0.02132  0.02999  0.24595  1.00020 \n",
       "\n",
       "$`Immune excluded`\n",
       "   Min. 1st Qu.  Median    Mean 3rd Qu.    Max. \n",
       "-2.2741 -0.6921 -0.4610 -0.5408 -0.2647  0.2334 \n"
      ]
     },
     "metadata": {},
     "output_type": "display_data"
    }
   ],
   "source": [
    "tapply(metadata_IC_genesets$DC, metadata_IC_genesets$immune_cluster, summary)"
   ]
  },
  {
   "cell_type": "code",
   "execution_count": 112,
   "metadata": {},
   "outputs": [],
   "source": [
    "col_fun= colorRamp2(c(0, 100), c(\"white\", \"red\"))\n",
    "    \n",
    "cancer_hm = Heatmap(cancer_IC_mat,\n",
    "                    #titles and names   \n",
    "                    name = \"% cancer\",   \n",
    "                    show_row_names = TRUE,\n",
    "                    show_column_names = TRUE,     \n",
    "                    #clusters and orders  \n",
    "                    cluster_columns = FALSE,\n",
    "                    cluster_rows = FALSE,\n",
    "                    show_column_dend = TRUE,\n",
    "                    #aesthestics\n",
    "                    row_names_side = \"left\",\n",
    "                    col = col_fun,\n",
    "                    column_names_rot = 45,\n",
    "                    column_names_gp = gpar(fontsize = 20),\n",
    "                    row_names_gp = gpar(fontsize = 20),\n",
    "                    height = unit(nrow(cancer_IC_mat), \"cm\"),\n",
    "                    width = unit(ncol(cancer_IC_mat), \"cm\"),\n",
    "                    column_title_gp = gpar(fontsize = 20),\n",
    "                    column_title = NULL,\n",
    "                    row_title = NULL,\n",
    "                    show_heatmap_legend = FALSE)"
   ]
  },
  {
   "cell_type": "code",
   "execution_count": 113,
   "metadata": {},
   "outputs": [],
   "source": [
    "ha = rowAnnotation(`cohort size` = anno_barplot(tab$Freq, bar_width = 1,\n",
    "                                 gp = gpar(col = \"white\", fill = \"#4d4d4d\"), \n",
    "                                 border = FALSE,\n",
    "                                 axis_param = list(at = c(0, 100,200,300), labels_rot = 45),\n",
    "                                 width = unit(4, \"cm\")), \n",
    "    show_annotation_name = FALSE)"
   ]
  },
  {
   "cell_type": "code",
   "execution_count": 114,
   "metadata": {},
   "outputs": [
    {
     "data": {
      "image/png": "[encoded data removed]",
      "text/plain": [
       "plot without title"
      ]
     },
     "metadata": {
      "image/png": {
       "height": 420,
       "width": 420
      }
     },
     "output_type": "display_data"
    }
   ],
   "source": [
    "cancer_hm + ha"
   ]
  },
  {
   "cell_type": "code",
   "execution_count": 115,
   "metadata": {},
   "outputs": [
    {
     "data": {
      "text/html": [
       "<strong>pdf:</strong> 2"
      ],
      "text/latex": [
       "\\textbf{pdf:} 2"
      ],
      "text/markdown": [
       "**pdf:** 2"
      ],
      "text/plain": [
       "pdf \n",
       "  2 "
      ]
     },
     "metadata": {},
     "output_type": "display_data"
    }
   ],
   "source": [
    "pdf(paste0(plotpath, \"Immune_clusters_cancers.pdf\"),\n",
    "   width = 10, height = 10)\n",
    "\n",
    "cancer_hm + ha\n",
    "\n",
    "dev.off()"
   ]
  },
  {
   "cell_type": "markdown",
   "metadata": {},
   "source": [
    "# Heatmap CRI cluster "
   ]
  },
  {
   "cell_type": "code",
   "execution_count": 116,
   "metadata": {},
   "outputs": [
    {
     "data": {
      "text/plain": [
       "$`IFN-gamma dominant`\n",
       "\n",
       "Pediatric inflamed     Myeloid-driven     Pediatric cold    Immune excluded \n",
       "                11                 13                  2                  0 \n",
       "\n",
       "$`Immunologically quiet`\n",
       "\n",
       "Pediatric inflamed     Myeloid-driven     Pediatric cold    Immune excluded \n",
       "                 0                 24                 62                 24 \n",
       "\n",
       "$Inflammatory\n",
       "\n",
       "Pediatric inflamed     Myeloid-driven     Pediatric cold    Immune excluded \n",
       "                38                 59                 40                 11 \n",
       "\n",
       "$`Lymphocyte depleted`\n",
       "\n",
       "Pediatric inflamed     Myeloid-driven     Pediatric cold    Immune excluded \n",
       "                27                164                270                 93 \n",
       "\n",
       "$`TGFbeta dominant`\n",
       "\n",
       "Pediatric inflamed     Myeloid-driven     Pediatric cold    Immune excluded \n",
       "                 5                  1                  0                  0 \n",
       "\n",
       "$`Wound Healing`\n",
       "\n",
       "Pediatric inflamed     Myeloid-driven     Pediatric cold    Immune excluded \n",
       "                 4                 14                 16                 30 \n"
      ]
     },
     "metadata": {},
     "output_type": "display_data"
    }
   ],
   "source": [
    "tapply(metadata_IC_genesets$immune_cluster,\n",
    "      metadata_IC_genesets$CRI_cluster,\n",
    "      table)"
   ]
  },
  {
   "cell_type": "code",
   "execution_count": 117,
   "metadata": {},
   "outputs": [],
   "source": [
    "tab <- as.data.frame(table(metadata_IC_genesets$CRI_cluster), stringsAsFactors = F)\n",
    "tab <- tab[order(tab$Freq, decreasing = F),]"
   ]
  },
  {
   "cell_type": "code",
   "execution_count": 3,
   "metadata": {},
   "outputs": [
    {
     "data": {
      "text/html": [
       "0.717837837837838"
      ],
      "text/latex": [
       "0.717837837837838"
      ],
      "text/markdown": [
       "0.717837837837838"
      ],
      "text/plain": [
       "[1] 0.7178378"
      ]
     },
     "metadata": {},
     "output_type": "display_data"
    }
   ],
   "source": [
    "(554 +110)/925"
   ]
  },
  {
   "cell_type": "code",
   "execution_count": 118,
   "metadata": {},
   "outputs": [
    {
     "data": {
      "text/html": [
       "<table class=\"dataframe\">\n",
       "<caption>A data.frame: 6 × 2</caption>\n",
       "<thead>\n",
       "\t<tr><th></th><th scope=col>Var1</th><th scope=col>Freq</th></tr>\n",
       "\t<tr><th></th><th scope=col>&lt;chr&gt;</th><th scope=col>&lt;int&gt;</th></tr>\n",
       "</thead>\n",
       "<tbody>\n",
       "\t<tr><th scope=row>5</th><td>TGFbeta dominant     </td><td>  6</td></tr>\n",
       "\t<tr><th scope=row>1</th><td>IFN-gamma dominant   </td><td> 26</td></tr>\n",
       "\t<tr><th scope=row>6</th><td>Wound Healing        </td><td> 64</td></tr>\n",
       "\t<tr><th scope=row>2</th><td>Immunologically quiet</td><td>110</td></tr>\n",
       "\t<tr><th scope=row>3</th><td>Inflammatory         </td><td>148</td></tr>\n",
       "\t<tr><th scope=row>4</th><td>Lymphocyte depleted  </td><td>554</td></tr>\n",
       "</tbody>\n",
       "</table>\n"
      ],
      "text/latex": [
       "A data.frame: 6 × 2\n",
       "\\begin{tabular}{r|ll}\n",
       "  & Var1 & Freq\\\\\n",
       "  & <chr> & <int>\\\\\n",
       "\\hline\n",
       "\t5 & TGFbeta dominant      &   6\\\\\n",
       "\t1 & IFN-gamma dominant    &  26\\\\\n",
       "\t6 & Wound Healing         &  64\\\\\n",
       "\t2 & Immunologically quiet & 110\\\\\n",
       "\t3 & Inflammatory          & 148\\\\\n",
       "\t4 & Lymphocyte depleted   & 554\\\\\n",
       "\\end{tabular}\n"
      ],
      "text/markdown": [
       "\n",
       "A data.frame: 6 × 2\n",
       "\n",
       "| <!--/--> | Var1 &lt;chr&gt; | Freq &lt;int&gt; |\n",
       "|---|---|---|\n",
       "| 5 | TGFbeta dominant      |   6 |\n",
       "| 1 | IFN-gamma dominant    |  26 |\n",
       "| 6 | Wound Healing         |  64 |\n",
       "| 2 | Immunologically quiet | 110 |\n",
       "| 3 | Inflammatory          | 148 |\n",
       "| 4 | Lymphocyte depleted   | 554 |\n",
       "\n"
      ],
      "text/plain": [
       "  Var1                  Freq\n",
       "5 TGFbeta dominant        6 \n",
       "1 IFN-gamma dominant     26 \n",
       "6 Wound Healing          64 \n",
       "2 Immunologically quiet 110 \n",
       "3 Inflammatory          148 \n",
       "4 Lymphocyte depleted   554 "
      ]
     },
     "metadata": {},
     "output_type": "display_data"
    }
   ],
   "source": [
    "tab"
   ]
  },
  {
   "cell_type": "code",
   "execution_count": 121,
   "metadata": {},
   "outputs": [],
   "source": [
    "cri_IC_mat <- matrix(nrow = 6, ncol = 4,\n",
    "                     dimnames = list(tab$Var1,c(\"Pediatric inflamed\", \"Myeloid-driven\", \n",
    "                                                \"Pediatric cold\", \"Immune excluded\")))"
   ]
  },
  {
   "cell_type": "code",
   "execution_count": 122,
   "metadata": {},
   "outputs": [],
   "source": [
    "for(i in 1:nrow(cri_IC_mat)){\n",
    "    \n",
    "    mycancer <- metadata_IC_genesets[ metadata_IC_genesets$CRI_cluster == rownames(cri_IC_mat)[i],]    \n",
    "    freq_tab <- as.data.frame(table(mycancer$immune_cluster), stringsAsFactors = F)\n",
    "    freq_tab$perc <- freq_tab$Freq/sum(freq_tab$Freq)    \n",
    "    \n",
    "    cri_IC_mat[i, freq_tab$Var1] <- freq_tab$perc *100\n",
    "}"
   ]
  },
  {
   "cell_type": "code",
   "execution_count": 123,
   "metadata": {},
   "outputs": [
    {
     "data": {
      "text/html": [
       "<table class=\"dataframe\">\n",
       "<caption>A matrix: 6 × 4 of type dbl</caption>\n",
       "<thead>\n",
       "\t<tr><th></th><th scope=col>Pediatric inflamed</th><th scope=col>Myeloid-driven</th><th scope=col>Pediatric cold</th><th scope=col>Immune excluded</th></tr>\n",
       "</thead>\n",
       "<tbody>\n",
       "\t<tr><th scope=row>TGFbeta dominant</th><td>83.333333</td><td>16.66667</td><td> 0.000000</td><td> 0.000000</td></tr>\n",
       "\t<tr><th scope=row>IFN-gamma dominant</th><td>42.307692</td><td>50.00000</td><td> 7.692308</td><td> 0.000000</td></tr>\n",
       "\t<tr><th scope=row>Wound Healing</th><td> 6.250000</td><td>21.87500</td><td>25.000000</td><td>46.875000</td></tr>\n",
       "\t<tr><th scope=row>Immunologically quiet</th><td> 0.000000</td><td>21.81818</td><td>56.363636</td><td>21.818182</td></tr>\n",
       "\t<tr><th scope=row>Inflammatory</th><td>25.675676</td><td>39.86486</td><td>27.027027</td><td> 7.432432</td></tr>\n",
       "\t<tr><th scope=row>Lymphocyte depleted</th><td> 4.873646</td><td>29.60289</td><td>48.736462</td><td>16.787004</td></tr>\n",
       "</tbody>\n",
       "</table>\n"
      ],
      "text/latex": [
       "A matrix: 6 × 4 of type dbl\n",
       "\\begin{tabular}{r|llll}\n",
       "  & Pediatric inflamed & Myeloid-driven & Pediatric cold & Immune excluded\\\\\n",
       "\\hline\n",
       "\tTGFbeta dominant & 83.333333 & 16.66667 &  0.000000 &  0.000000\\\\\n",
       "\tIFN-gamma dominant & 42.307692 & 50.00000 &  7.692308 &  0.000000\\\\\n",
       "\tWound Healing &  6.250000 & 21.87500 & 25.000000 & 46.875000\\\\\n",
       "\tImmunologically quiet &  0.000000 & 21.81818 & 56.363636 & 21.818182\\\\\n",
       "\tInflammatory & 25.675676 & 39.86486 & 27.027027 &  7.432432\\\\\n",
       "\tLymphocyte depleted &  4.873646 & 29.60289 & 48.736462 & 16.787004\\\\\n",
       "\\end{tabular}\n"
      ],
      "text/markdown": [
       "\n",
       "A matrix: 6 × 4 of type dbl\n",
       "\n",
       "| <!--/--> | Pediatric inflamed | Myeloid-driven | Pediatric cold | Immune excluded |\n",
       "|---|---|---|---|---|\n",
       "| TGFbeta dominant | 83.333333 | 16.66667 |  0.000000 |  0.000000 |\n",
       "| IFN-gamma dominant | 42.307692 | 50.00000 |  7.692308 |  0.000000 |\n",
       "| Wound Healing |  6.250000 | 21.87500 | 25.000000 | 46.875000 |\n",
       "| Immunologically quiet |  0.000000 | 21.81818 | 56.363636 | 21.818182 |\n",
       "| Inflammatory | 25.675676 | 39.86486 | 27.027027 |  7.432432 |\n",
       "| Lymphocyte depleted |  4.873646 | 29.60289 | 48.736462 | 16.787004 |\n",
       "\n"
      ],
      "text/plain": [
       "                      Pediatric inflamed Myeloid-driven Pediatric cold\n",
       "TGFbeta dominant      83.333333          16.66667        0.000000     \n",
       "IFN-gamma dominant    42.307692          50.00000        7.692308     \n",
       "Wound Healing          6.250000          21.87500       25.000000     \n",
       "Immunologically quiet  0.000000          21.81818       56.363636     \n",
       "Inflammatory          25.675676          39.86486       27.027027     \n",
       "Lymphocyte depleted    4.873646          29.60289       48.736462     \n",
       "                      Immune excluded\n",
       "TGFbeta dominant       0.000000      \n",
       "IFN-gamma dominant     0.000000      \n",
       "Wound Healing         46.875000      \n",
       "Immunologically quiet 21.818182      \n",
       "Inflammatory           7.432432      \n",
       "Lymphocyte depleted   16.787004      "
      ]
     },
     "metadata": {},
     "output_type": "display_data"
    }
   ],
   "source": [
    "cri_IC_mat"
   ]
  },
  {
   "cell_type": "code",
   "execution_count": 124,
   "metadata": {},
   "outputs": [],
   "source": [
    "cri_IC_mat[is.na(cri_IC_mat)] <- 0"
   ]
  },
  {
   "cell_type": "code",
   "execution_count": 125,
   "metadata": {},
   "outputs": [],
   "source": [
    "col_fun= colorRamp2(c(0, 100), c(\"white\", \"red\"))\n",
    "    \n",
    "cri_hm = Heatmap(cri_IC_mat,\n",
    "                    #titles and names   \n",
    "                    name = \"% CRI-iAtlas cluster\",   \n",
    "                    show_row_names = TRUE,\n",
    "                    show_column_names = TRUE,     \n",
    "                    #clusters and orders  \n",
    "                    cluster_columns = FALSE,\n",
    "                    cluster_rows = FALSE,\n",
    "                    show_column_dend = TRUE,\n",
    "                    #aesthestics\n",
    "                    row_names_side = \"left\",\n",
    "                    col = col_fun,\n",
    "                    column_names_rot = 45,                 \n",
    "                    column_names_gp = gpar(fontsize = 20),\n",
    "                    row_names_gp = gpar(fontsize = 20),\n",
    "                    height = unit(nrow(cri_IC_mat), \"cm\"),\n",
    "                    width = unit(ncol(cri_IC_mat), \"cm\"),\n",
    "                    column_title_gp = gpar(fontsize = 20),\n",
    "                    column_title = NULL,\n",
    "                    row_title = NULL,\n",
    "                show_heatmap_legend = FALSE)"
   ]
  },
  {
   "cell_type": "code",
   "execution_count": 126,
   "metadata": {},
   "outputs": [],
   "source": [
    "ha = rowAnnotation(\n",
    "    `cohort size` = anno_barplot(tab$Freq, bar_width = 1, \n",
    "                                 gp = gpar(col = \"white\", fill = \"#4d4d4d\"), \n",
    "                                 border = FALSE,\n",
    "                                 axis_param = list(at = c(0, 100,250,500), labels_rot = 45),\n",
    "                                 width = unit(4, \"cm\")), \n",
    "    show_annotation_name = FALSE)"
   ]
  },
  {
   "cell_type": "code",
   "execution_count": 127,
   "metadata": {},
   "outputs": [
    {
     "data": {
      "image/png": "[encoded data removed]",
      "text/plain": [
       "plot without title"
      ]
     },
     "metadata": {
      "image/png": {
       "height": 420,
       "width": 420
      }
     },
     "output_type": "display_data"
    }
   ],
   "source": [
    "cri_hm + ha"
   ]
  },
  {
   "cell_type": "code",
   "execution_count": 128,
   "metadata": {},
   "outputs": [
    {
     "data": {
      "text/html": [
       "<strong>pdf:</strong> 2"
      ],
      "text/latex": [
       "\\textbf{pdf:} 2"
      ],
      "text/markdown": [
       "**pdf:** 2"
      ],
      "text/plain": [
       "pdf \n",
       "  2 "
      ]
     },
     "metadata": {},
     "output_type": "display_data"
    }
   ],
   "source": [
    "pdf(paste0(plotpath, \"Immune_clusters_cri.pdf\"),\n",
    "   width = 10, height = 10)\n",
    "\n",
    "cri_hm + ha\n",
    "\n",
    "dev.off()"
   ]
  },
  {
   "cell_type": "markdown",
   "metadata": {},
   "source": [
    "## Legends"
   ]
  },
  {
   "cell_type": "code",
   "execution_count": 129,
   "metadata": {},
   "outputs": [
    {
     "data": {
      "text/html": [
       "<strong>pdf:</strong> 2"
      ],
      "text/latex": [
       "\\textbf{pdf:} 2"
      ],
      "text/markdown": [
       "**pdf:** 2"
      ],
      "text/plain": [
       "pdf \n",
       "  2 "
      ]
     },
     "metadata": {},
     "output_type": "display_data"
    }
   ],
   "source": [
    "col_fun = colorRamp2(c(0, 100), c(\"white\", \"red\"))\n",
    "cancer_lgd = Legend(col_fun = col_fun, \n",
    "                      title = \"% cancer\")\n",
    "\n",
    "  pdf(file = paste0(plotpath,\"cancer_legend.pdf\"),\n",
    "      width = 8, \n",
    "      height = 8,\n",
    "      useDingbats = FALSE)\n",
    "  draw(cancer_lgd)\n",
    "  dev.off() "
   ]
  },
  {
   "cell_type": "code",
   "execution_count": 130,
   "metadata": {},
   "outputs": [
    {
     "data": {
      "text/html": [
       "<strong>pdf:</strong> 2"
      ],
      "text/latex": [
       "\\textbf{pdf:} 2"
      ],
      "text/markdown": [
       "**pdf:** 2"
      ],
      "text/plain": [
       "pdf \n",
       "  2 "
      ]
     },
     "metadata": {},
     "output_type": "display_data"
    }
   ],
   "source": [
    "col_fun = colorRamp2(c(0, 100), c(\"white\", \"red\"))\n",
    "cri_lgd = Legend(col_fun = col_fun, \n",
    "                      title = \"% CRI-iAtlas\\ncluster\")\n",
    "\n",
    "  pdf(file = paste0(plotpath,\"CRI_legend.pdf\"),\n",
    "      width = 8, \n",
    "      height = 8,\n",
    "      useDingbats = FALSE)\n",
    "  draw(cri_lgd)\n",
    "  dev.off() "
   ]
  },
  {
   "cell_type": "code",
   "execution_count": null,
   "metadata": {},
   "outputs": [],
   "source": []
  }
 ],
 "metadata": {
  "kernelspec": {
   "display_name": "R 4.0",
   "language": "R",
   "name": "ir40"
  },
  "language_info": {
   "codemirror_mode": "r",
   "file_extension": ".r",
   "mimetype": "text/x-r-source",
   "name": "R",
   "pygments_lexer": "r",
   "version": "4.0.3"
  },
  "toc": {
   "base_numbering": 1,
   "nav_menu": {},
   "number_sections": false,
   "sideBar": true,
   "skip_h1_title": false,
   "title_cell": "Table of Contents",
   "title_sidebar": "Contents",
   "toc_cell": true,
   "toc_position": {
    "height": "calc(100% - 180px)",
    "left": "10px",
    "top": "150px",
    "width": "280px"
   },
   "toc_section_display": true,
   "toc_window_display": true
  }
 },
 "nbformat": 4,
 "nbformat_minor": 2
}
