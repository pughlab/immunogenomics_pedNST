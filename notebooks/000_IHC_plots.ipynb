{
 "cells": [
  {
   "cell_type": "markdown",
   "metadata": {
    "toc": true
   },
   "source": [
    "<h1>Table of Contents<span class=\"tocSkip\"></span></h1>\n",
    "<div class=\"toc\"><ul class=\"toc-item\"><li><span><a href=\"#Dependencies\" data-toc-modified-id=\"Dependencies-1\">Dependencies</a></span></li><li><span><a href=\"#Functions\" data-toc-modified-id=\"Functions-2\">Functions</a></span></li><li><span><a href=\"#Paths\" data-toc-modified-id=\"Paths-3\">Paths</a></span></li><li><span><a href=\"#Main\" data-toc-modified-id=\"Main-4\">Main</a></span></li><li><span><a href=\"#Box-plots-for-cells-H-score\" data-toc-modified-id=\"Box-plots-for-cells-H-score-5\">Box plots for cells H score</a></span></li></ul></div>"
   ]
  },
  {
   "cell_type": "markdown",
   "metadata": {},
   "source": [
    "# Dependencies"
   ]
  },
  {
   "cell_type": "code",
   "execution_count": 1,
   "metadata": {},
   "outputs": [],
   "source": [
    "library(ggplot2)\n",
    "library(reshape2)"
   ]
  },
  {
   "cell_type": "markdown",
   "metadata": {},
   "source": [
    "# Functions"
   ]
  },
  {
   "cell_type": "code",
   "execution_count": 34,
   "metadata": {},
   "outputs": [],
   "source": [
    "source(\"~/OneDrive - UHN/R_src/ggplot2_theme.R\")"
   ]
  },
  {
   "cell_type": "markdown",
   "metadata": {},
   "source": [
    "# Paths"
   ]
  },
  {
   "cell_type": "code",
   "execution_count": 67,
   "metadata": {},
   "outputs": [],
   "source": [
    "manifestpath <- \"/Users/anabbi/OneDrive - UHN/Documents/IPD2/Manifests/\"\n",
    "datapath <- \"/Users/anabbi/OneDrive - UHN/Documents/IPD2/Data/\"\n",
    "plotpath <- \"/Users/anabbi/OneDrive - UHN/Documents/IPD2/Plots/\""
   ]
  },
  {
   "cell_type": "markdown",
   "metadata": {},
   "source": [
    "# Main"
   ]
  },
  {
   "cell_type": "markdown",
   "metadata": {},
   "source": [
    "Load raw scoring spreadsheets"
   ]
  },
  {
   "cell_type": "code",
   "execution_count": 68,
   "metadata": {},
   "outputs": [],
   "source": [
    "cd4ihc_raw <- read.csv(paste0(datapath, \"IHC/Alberto/CD4_raw.csv\"),\n",
    "                  header = TRUE, stringsAsFactors = F, na.strings = \"\")\n",
    "\n",
    "cd8ihc_raw <- read.csv(paste0(datapath, \"IHC/Alberto/CD8_raw.csv\"),\n",
    "                  header = TRUE, stringsAsFactors = F, na.strings = \"\")\n",
    "\n",
    "cd19ihc_raw <- read.csv(paste0(datapath, \"IHC/Alberto/CD19_raw.csv\"),\n",
    "                  header = TRUE, stringsAsFactors = F, na.strings = \"\")"
   ]
  },
  {
   "cell_type": "code",
   "execution_count": 69,
   "metadata": {
    "scrolled": true
   },
   "outputs": [
    {
     "data": {
      "text/html": [
       "<table class=\"dataframe\">\n",
       "<caption>A data.frame: 1159 × 7</caption>\n",
       "<thead>\n",
       "\t<tr><th scope=col>organ</th><th scope=col>ID</th><th scope=col>Column</th><th scope=col>Row</th><th scope=col>X.</th><th scope=col>Intensity</th><th scope=col>type</th></tr>\n",
       "\t<tr><th scope=col>&lt;chr&gt;</th><th scope=col>&lt;chr&gt;</th><th scope=col>&lt;int&gt;</th><th scope=col>&lt;int&gt;</th><th scope=col>&lt;int&gt;</th><th scope=col>&lt;int&gt;</th><th scope=col>&lt;chr&gt;</th></tr>\n",
       "</thead>\n",
       "<tbody>\n",
       "\t<tr><td>NA        </td><td>NA</td><td> 1</td><td>1</td><td>NA</td><td>NA</td><td>NA    </td></tr>\n",
       "\t<tr><td>NA        </td><td>NA</td><td> 2</td><td>1</td><td>NA</td><td>NA</td><td>NA    </td></tr>\n",
       "\t<tr><td>NA        </td><td>NA</td><td> 3</td><td>1</td><td>NA</td><td>NA</td><td>NA    </td></tr>\n",
       "\t<tr><td>breast    </td><td>NA</td><td> 4</td><td>1</td><td>NA</td><td>NA</td><td>normal</td></tr>\n",
       "\t<tr><td>breast    </td><td>NA</td><td> 5</td><td>1</td><td>NA</td><td>NA</td><td>normal</td></tr>\n",
       "\t<tr><td>breast    </td><td>NA</td><td> 6</td><td>1</td><td>NA</td><td>NA</td><td>normal</td></tr>\n",
       "\t<tr><td>breast    </td><td>NA</td><td> 7</td><td>1</td><td>NA</td><td>NA</td><td>normal</td></tr>\n",
       "\t<tr><td>breast    </td><td>NA</td><td> 8</td><td>1</td><td>NA</td><td>NA</td><td>normal</td></tr>\n",
       "\t<tr><td> liver    </td><td>NA</td><td> 9</td><td>1</td><td>NA</td><td>NA</td><td>normal</td></tr>\n",
       "\t<tr><td> liver    </td><td>NA</td><td>10</td><td>1</td><td>NA</td><td>NA</td><td>normal</td></tr>\n",
       "\t<tr><td> liver    </td><td>NA</td><td>11</td><td>1</td><td>NA</td><td>NA</td><td>normal</td></tr>\n",
       "\t<tr><td>pancreas  </td><td>NA</td><td>12</td><td>1</td><td>NA</td><td>NA</td><td>normal</td></tr>\n",
       "\t<tr><td>pancreas  </td><td>NA</td><td>13</td><td>1</td><td>NA</td><td>NA</td><td>normal</td></tr>\n",
       "\t<tr><td>pancreas  </td><td>NA</td><td>14</td><td>1</td><td>NA</td><td>NA</td><td>normal</td></tr>\n",
       "\t<tr><td>NA        </td><td>NA</td><td>15</td><td>1</td><td>NA</td><td>NA</td><td>NA    </td></tr>\n",
       "\t<tr><td>bladder   </td><td>NA</td><td>16</td><td>1</td><td>NA</td><td>NA</td><td>normal</td></tr>\n",
       "\t<tr><td>bladder   </td><td>NA</td><td>17</td><td>1</td><td>NA</td><td>NA</td><td>normal</td></tr>\n",
       "\t<tr><td>bladder   </td><td>NA</td><td>18</td><td>1</td><td>NA</td><td>NA</td><td>normal</td></tr>\n",
       "\t<tr><td> cartilage</td><td>NA</td><td> 1</td><td>2</td><td>NA</td><td>NA</td><td>NA    </td></tr>\n",
       "\t<tr><td> cartilage</td><td>NA</td><td> 2</td><td>2</td><td>NA</td><td>NA</td><td>NA    </td></tr>\n",
       "\t<tr><td> cartilage</td><td>NA</td><td> 3</td><td>2</td><td>NA</td><td>NA</td><td>NA    </td></tr>\n",
       "\t<tr><td>breast    </td><td>NA</td><td> 4</td><td>2</td><td>NA</td><td>NA</td><td>normal</td></tr>\n",
       "\t<tr><td>epidid    </td><td>NA</td><td> 5</td><td>2</td><td>NA</td><td>NA</td><td>normal</td></tr>\n",
       "\t<tr><td> ovary    </td><td>NA</td><td> 6</td><td>2</td><td>NA</td><td>NA</td><td>normal</td></tr>\n",
       "\t<tr><td> cervix   </td><td>NA</td><td> 7</td><td>2</td><td>NA</td><td>NA</td><td>normal</td></tr>\n",
       "\t<tr><td>breast    </td><td>NA</td><td> 8</td><td>2</td><td>NA</td><td>NA</td><td>normal</td></tr>\n",
       "\t<tr><td>liver     </td><td>NA</td><td> 9</td><td>2</td><td>NA</td><td>NA</td><td>normal</td></tr>\n",
       "\t<tr><td>liver     </td><td>NA</td><td>10</td><td>2</td><td>NA</td><td>NA</td><td>normal</td></tr>\n",
       "\t<tr><td>liver     </td><td>NA</td><td>11</td><td>2</td><td>NA</td><td>NA</td><td>normal</td></tr>\n",
       "\t<tr><td> pancreas </td><td>NA</td><td>12</td><td>2</td><td>NA</td><td>NA</td><td>normal</td></tr>\n",
       "\t<tr><td>⋮</td><td>⋮</td><td>⋮</td><td>⋮</td><td>⋮</td><td>⋮</td><td>⋮</td></tr>\n",
       "\t<tr><td>143</td><td>NA                  </td><td>17</td><td> 8</td><td>NA</td><td>NA</td><td>NA               </td></tr>\n",
       "\t<tr><td>144</td><td>NA                  </td><td>18</td><td> 8</td><td>NA</td><td>NA</td><td>NA               </td></tr>\n",
       "\t<tr><td>145</td><td>PARNYR              </td><td> 1</td><td> 9</td><td> 0</td><td> 0</td><td>Ependymoma       </td></tr>\n",
       "\t<tr><td>146</td><td>PASAYM           FP1</td><td> 2</td><td> 9</td><td> 0</td><td> 0</td><td>Ependymoma       </td></tr>\n",
       "\t<tr><td>147</td><td>PATGXY              </td><td> 3</td><td> 9</td><td> 0</td><td> 0</td><td>Ependymoma       </td></tr>\n",
       "\t<tr><td>148</td><td>PATUFA              </td><td> 4</td><td> 9</td><td> 0</td><td> 0</td><td>Ependymoma       </td></tr>\n",
       "\t<tr><td>149</td><td>PAPSKR              </td><td> 5</td><td> 9</td><td> 0</td><td> 0</td><td>High Grade Glioma</td></tr>\n",
       "\t<tr><td>150</td><td>PARCLS              </td><td> 6</td><td> 9</td><td> 0</td><td> 0</td><td>High Grade Glioma</td></tr>\n",
       "\t<tr><td>151</td><td>PAVDYT    C1        </td><td> 7</td><td> 9</td><td> 0</td><td> 0</td><td>High Grade Glioma</td></tr>\n",
       "\t<tr><td>152</td><td>PANDBY      A2      </td><td> 8</td><td> 9</td><td>NA</td><td>NA</td><td>ATRT             </td></tr>\n",
       "\t<tr><td>153</td><td>PAPHZW              </td><td> 9</td><td> 9</td><td> 0</td><td> 0</td><td>ATRT             </td></tr>\n",
       "\t<tr><td>154</td><td>PAVXUM              </td><td>10</td><td> 9</td><td> 0</td><td> 0</td><td>ATRT             </td></tr>\n",
       "\t<tr><td>155</td><td>NA                  </td><td>11</td><td> 9</td><td>NA</td><td>NA</td><td>NA               </td></tr>\n",
       "\t<tr><td>156</td><td>NA                  </td><td>12</td><td> 9</td><td>NA</td><td>NA</td><td>NA               </td></tr>\n",
       "\t<tr><td>157</td><td>NA                  </td><td>13</td><td> 9</td><td>NA</td><td>NA</td><td>NA               </td></tr>\n",
       "\t<tr><td>158</td><td>NA                  </td><td>14</td><td> 9</td><td>NA</td><td>NA</td><td>NA               </td></tr>\n",
       "\t<tr><td>159</td><td>NA                  </td><td>15</td><td> 9</td><td>NA</td><td>NA</td><td>NA               </td></tr>\n",
       "\t<tr><td>160</td><td>NA                  </td><td>16</td><td> 9</td><td>NA</td><td>NA</td><td>NA               </td></tr>\n",
       "\t<tr><td>161</td><td>NA                  </td><td>17</td><td> 9</td><td>NA</td><td>NA</td><td>NA               </td></tr>\n",
       "\t<tr><td>162</td><td>NA                  </td><td>18</td><td> 9</td><td>NA</td><td>NA</td><td>NA               </td></tr>\n",
       "\t<tr><td>163</td><td>PARWLK              </td><td> 1</td><td>10</td><td> 0</td><td> 0</td><td>Ependymoma       </td></tr>\n",
       "\t<tr><td>164</td><td>PARWLK              </td><td> 2</td><td>10</td><td> 0</td><td> 0</td><td>Ependymoma       </td></tr>\n",
       "\t<tr><td>165</td><td>PATNLD              </td><td> 3</td><td>10</td><td> 0</td><td> 0</td><td>Ependymoma       </td></tr>\n",
       "\t<tr><td>166</td><td>PATNLD              </td><td> 4</td><td>10</td><td> 0</td><td> 0</td><td>Ependymoma       </td></tr>\n",
       "\t<tr><td>167</td><td>NA                  </td><td> 5</td><td>10</td><td>NA</td><td>NA</td><td>NA               </td></tr>\n",
       "\t<tr><td>168</td><td>NA                  </td><td> 6</td><td>10</td><td>NA</td><td>NA</td><td>NA               </td></tr>\n",
       "\t<tr><td>169</td><td>NA                  </td><td> 7</td><td>10</td><td>NA</td><td>NA</td><td>NA               </td></tr>\n",
       "\t<tr><td>170</td><td>NA                  </td><td> 8</td><td>10</td><td>NA</td><td>NA</td><td>NA               </td></tr>\n",
       "\t<tr><td>171</td><td>PAPHZW              </td><td> 9</td><td>10</td><td>NA</td><td>NA</td><td>ATRT             </td></tr>\n",
       "\t<tr><td>172</td><td>PAVXUM              </td><td>10</td><td>10</td><td> 0</td><td> 0</td><td>ATRT             </td></tr>\n",
       "</tbody>\n",
       "</table>\n"
      ],
      "text/latex": [
       "A data.frame: 1159 × 7\n",
       "\\begin{tabular}{lllllll}\n",
       " organ & ID & Column & Row & X. & Intensity & type\\\\\n",
       " <chr> & <chr> & <int> & <int> & <int> & <int> & <chr>\\\\\n",
       "\\hline\n",
       "\t NA         & NA &  1 & 1 & NA & NA & NA    \\\\\n",
       "\t NA         & NA &  2 & 1 & NA & NA & NA    \\\\\n",
       "\t NA         & NA &  3 & 1 & NA & NA & NA    \\\\\n",
       "\t breast     & NA &  4 & 1 & NA & NA & normal\\\\\n",
       "\t breast     & NA &  5 & 1 & NA & NA & normal\\\\\n",
       "\t breast     & NA &  6 & 1 & NA & NA & normal\\\\\n",
       "\t breast     & NA &  7 & 1 & NA & NA & normal\\\\\n",
       "\t breast     & NA &  8 & 1 & NA & NA & normal\\\\\n",
       "\t  liver     & NA &  9 & 1 & NA & NA & normal\\\\\n",
       "\t  liver     & NA & 10 & 1 & NA & NA & normal\\\\\n",
       "\t  liver     & NA & 11 & 1 & NA & NA & normal\\\\\n",
       "\t pancreas   & NA & 12 & 1 & NA & NA & normal\\\\\n",
       "\t pancreas   & NA & 13 & 1 & NA & NA & normal\\\\\n",
       "\t pancreas   & NA & 14 & 1 & NA & NA & normal\\\\\n",
       "\t NA         & NA & 15 & 1 & NA & NA & NA    \\\\\n",
       "\t bladder    & NA & 16 & 1 & NA & NA & normal\\\\\n",
       "\t bladder    & NA & 17 & 1 & NA & NA & normal\\\\\n",
       "\t bladder    & NA & 18 & 1 & NA & NA & normal\\\\\n",
       "\t  cartilage & NA &  1 & 2 & NA & NA & NA    \\\\\n",
       "\t  cartilage & NA &  2 & 2 & NA & NA & NA    \\\\\n",
       "\t  cartilage & NA &  3 & 2 & NA & NA & NA    \\\\\n",
       "\t breast     & NA &  4 & 2 & NA & NA & normal\\\\\n",
       "\t epidid     & NA &  5 & 2 & NA & NA & normal\\\\\n",
       "\t  ovary     & NA &  6 & 2 & NA & NA & normal\\\\\n",
       "\t  cervix    & NA &  7 & 2 & NA & NA & normal\\\\\n",
       "\t breast     & NA &  8 & 2 & NA & NA & normal\\\\\n",
       "\t liver      & NA &  9 & 2 & NA & NA & normal\\\\\n",
       "\t liver      & NA & 10 & 2 & NA & NA & normal\\\\\n",
       "\t liver      & NA & 11 & 2 & NA & NA & normal\\\\\n",
       "\t  pancreas  & NA & 12 & 2 & NA & NA & normal\\\\\n",
       "\t ⋮ & ⋮ & ⋮ & ⋮ & ⋮ & ⋮ & ⋮\\\\\n",
       "\t 143 & NA                   & 17 &  8 & NA & NA & NA               \\\\\n",
       "\t 144 & NA                   & 18 &  8 & NA & NA & NA               \\\\\n",
       "\t 145 & PARNYR               &  1 &  9 &  0 &  0 & Ependymoma       \\\\\n",
       "\t 146 & PASAYM           FP1 &  2 &  9 &  0 &  0 & Ependymoma       \\\\\n",
       "\t 147 & PATGXY               &  3 &  9 &  0 &  0 & Ependymoma       \\\\\n",
       "\t 148 & PATUFA               &  4 &  9 &  0 &  0 & Ependymoma       \\\\\n",
       "\t 149 & PAPSKR               &  5 &  9 &  0 &  0 & High Grade Glioma\\\\\n",
       "\t 150 & PARCLS               &  6 &  9 &  0 &  0 & High Grade Glioma\\\\\n",
       "\t 151 & PAVDYT    C1         &  7 &  9 &  0 &  0 & High Grade Glioma\\\\\n",
       "\t 152 & PANDBY      A2       &  8 &  9 & NA & NA & ATRT             \\\\\n",
       "\t 153 & PAPHZW               &  9 &  9 &  0 &  0 & ATRT             \\\\\n",
       "\t 154 & PAVXUM               & 10 &  9 &  0 &  0 & ATRT             \\\\\n",
       "\t 155 & NA                   & 11 &  9 & NA & NA & NA               \\\\\n",
       "\t 156 & NA                   & 12 &  9 & NA & NA & NA               \\\\\n",
       "\t 157 & NA                   & 13 &  9 & NA & NA & NA               \\\\\n",
       "\t 158 & NA                   & 14 &  9 & NA & NA & NA               \\\\\n",
       "\t 159 & NA                   & 15 &  9 & NA & NA & NA               \\\\\n",
       "\t 160 & NA                   & 16 &  9 & NA & NA & NA               \\\\\n",
       "\t 161 & NA                   & 17 &  9 & NA & NA & NA               \\\\\n",
       "\t 162 & NA                   & 18 &  9 & NA & NA & NA               \\\\\n",
       "\t 163 & PARWLK               &  1 & 10 &  0 &  0 & Ependymoma       \\\\\n",
       "\t 164 & PARWLK               &  2 & 10 &  0 &  0 & Ependymoma       \\\\\n",
       "\t 165 & PATNLD               &  3 & 10 &  0 &  0 & Ependymoma       \\\\\n",
       "\t 166 & PATNLD               &  4 & 10 &  0 &  0 & Ependymoma       \\\\\n",
       "\t 167 & NA                   &  5 & 10 & NA & NA & NA               \\\\\n",
       "\t 168 & NA                   &  6 & 10 & NA & NA & NA               \\\\\n",
       "\t 169 & NA                   &  7 & 10 & NA & NA & NA               \\\\\n",
       "\t 170 & NA                   &  8 & 10 & NA & NA & NA               \\\\\n",
       "\t 171 & PAPHZW               &  9 & 10 & NA & NA & ATRT             \\\\\n",
       "\t 172 & PAVXUM               & 10 & 10 &  0 &  0 & ATRT             \\\\\n",
       "\\end{tabular}\n"
      ],
      "text/markdown": [
       "\n",
       "A data.frame: 1159 × 7\n",
       "\n",
       "| organ &lt;chr&gt; | ID &lt;chr&gt; | Column &lt;int&gt; | Row &lt;int&gt; | X. &lt;int&gt; | Intensity &lt;int&gt; | type &lt;chr&gt; |\n",
       "|---|---|---|---|---|---|---|\n",
       "| NA         | NA |  1 | 1 | NA | NA | NA     |\n",
       "| NA         | NA |  2 | 1 | NA | NA | NA     |\n",
       "| NA         | NA |  3 | 1 | NA | NA | NA     |\n",
       "| breast     | NA |  4 | 1 | NA | NA | normal |\n",
       "| breast     | NA |  5 | 1 | NA | NA | normal |\n",
       "| breast     | NA |  6 | 1 | NA | NA | normal |\n",
       "| breast     | NA |  7 | 1 | NA | NA | normal |\n",
       "| breast     | NA |  8 | 1 | NA | NA | normal |\n",
       "|  liver     | NA |  9 | 1 | NA | NA | normal |\n",
       "|  liver     | NA | 10 | 1 | NA | NA | normal |\n",
       "|  liver     | NA | 11 | 1 | NA | NA | normal |\n",
       "| pancreas   | NA | 12 | 1 | NA | NA | normal |\n",
       "| pancreas   | NA | 13 | 1 | NA | NA | normal |\n",
       "| pancreas   | NA | 14 | 1 | NA | NA | normal |\n",
       "| NA         | NA | 15 | 1 | NA | NA | NA     |\n",
       "| bladder    | NA | 16 | 1 | NA | NA | normal |\n",
       "| bladder    | NA | 17 | 1 | NA | NA | normal |\n",
       "| bladder    | NA | 18 | 1 | NA | NA | normal |\n",
       "|  cartilage | NA |  1 | 2 | NA | NA | NA     |\n",
       "|  cartilage | NA |  2 | 2 | NA | NA | NA     |\n",
       "|  cartilage | NA |  3 | 2 | NA | NA | NA     |\n",
       "| breast     | NA |  4 | 2 | NA | NA | normal |\n",
       "| epidid     | NA |  5 | 2 | NA | NA | normal |\n",
       "|  ovary     | NA |  6 | 2 | NA | NA | normal |\n",
       "|  cervix    | NA |  7 | 2 | NA | NA | normal |\n",
       "| breast     | NA |  8 | 2 | NA | NA | normal |\n",
       "| liver      | NA |  9 | 2 | NA | NA | normal |\n",
       "| liver      | NA | 10 | 2 | NA | NA | normal |\n",
       "| liver      | NA | 11 | 2 | NA | NA | normal |\n",
       "|  pancreas  | NA | 12 | 2 | NA | NA | normal |\n",
       "| ⋮ | ⋮ | ⋮ | ⋮ | ⋮ | ⋮ | ⋮ |\n",
       "| 143 | NA                   | 17 |  8 | NA | NA | NA                |\n",
       "| 144 | NA                   | 18 |  8 | NA | NA | NA                |\n",
       "| 145 | PARNYR               |  1 |  9 |  0 |  0 | Ependymoma        |\n",
       "| 146 | PASAYM           FP1 |  2 |  9 |  0 |  0 | Ependymoma        |\n",
       "| 147 | PATGXY               |  3 |  9 |  0 |  0 | Ependymoma        |\n",
       "| 148 | PATUFA               |  4 |  9 |  0 |  0 | Ependymoma        |\n",
       "| 149 | PAPSKR               |  5 |  9 |  0 |  0 | High Grade Glioma |\n",
       "| 150 | PARCLS               |  6 |  9 |  0 |  0 | High Grade Glioma |\n",
       "| 151 | PAVDYT    C1         |  7 |  9 |  0 |  0 | High Grade Glioma |\n",
       "| 152 | PANDBY      A2       |  8 |  9 | NA | NA | ATRT              |\n",
       "| 153 | PAPHZW               |  9 |  9 |  0 |  0 | ATRT              |\n",
       "| 154 | PAVXUM               | 10 |  9 |  0 |  0 | ATRT              |\n",
       "| 155 | NA                   | 11 |  9 | NA | NA | NA                |\n",
       "| 156 | NA                   | 12 |  9 | NA | NA | NA                |\n",
       "| 157 | NA                   | 13 |  9 | NA | NA | NA                |\n",
       "| 158 | NA                   | 14 |  9 | NA | NA | NA                |\n",
       "| 159 | NA                   | 15 |  9 | NA | NA | NA                |\n",
       "| 160 | NA                   | 16 |  9 | NA | NA | NA                |\n",
       "| 161 | NA                   | 17 |  9 | NA | NA | NA                |\n",
       "| 162 | NA                   | 18 |  9 | NA | NA | NA                |\n",
       "| 163 | PARWLK               |  1 | 10 |  0 |  0 | Ependymoma        |\n",
       "| 164 | PARWLK               |  2 | 10 |  0 |  0 | Ependymoma        |\n",
       "| 165 | PATNLD               |  3 | 10 |  0 |  0 | Ependymoma        |\n",
       "| 166 | PATNLD               |  4 | 10 |  0 |  0 | Ependymoma        |\n",
       "| 167 | NA                   |  5 | 10 | NA | NA | NA                |\n",
       "| 168 | NA                   |  6 | 10 | NA | NA | NA                |\n",
       "| 169 | NA                   |  7 | 10 | NA | NA | NA                |\n",
       "| 170 | NA                   |  8 | 10 | NA | NA | NA                |\n",
       "| 171 | PAPHZW               |  9 | 10 | NA | NA | ATRT              |\n",
       "| 172 | PAVXUM               | 10 | 10 |  0 |  0 | ATRT              |\n",
       "\n"
      ],
      "text/plain": [
       "     organ      ID                   Column Row X. Intensity type             \n",
       "1    NA         NA                    1     1   NA NA        NA               \n",
       "2    NA         NA                    2     1   NA NA        NA               \n",
       "3    NA         NA                    3     1   NA NA        NA               \n",
       "4    breast     NA                    4     1   NA NA        normal           \n",
       "5    breast     NA                    5     1   NA NA        normal           \n",
       "6    breast     NA                    6     1   NA NA        normal           \n",
       "7    breast     NA                    7     1   NA NA        normal           \n",
       "8    breast     NA                    8     1   NA NA        normal           \n",
       "9     liver     NA                    9     1   NA NA        normal           \n",
       "10    liver     NA                   10     1   NA NA        normal           \n",
       "11    liver     NA                   11     1   NA NA        normal           \n",
       "12   pancreas   NA                   12     1   NA NA        normal           \n",
       "13   pancreas   NA                   13     1   NA NA        normal           \n",
       "14   pancreas   NA                   14     1   NA NA        normal           \n",
       "15   NA         NA                   15     1   NA NA        NA               \n",
       "16   bladder    NA                   16     1   NA NA        normal           \n",
       "17   bladder    NA                   17     1   NA NA        normal           \n",
       "18   bladder    NA                   18     1   NA NA        normal           \n",
       "19    cartilage NA                    1     2   NA NA        NA               \n",
       "20    cartilage NA                    2     2   NA NA        NA               \n",
       "21    cartilage NA                    3     2   NA NA        NA               \n",
       "22   breast     NA                    4     2   NA NA        normal           \n",
       "23   epidid     NA                    5     2   NA NA        normal           \n",
       "24    ovary     NA                    6     2   NA NA        normal           \n",
       "25    cervix    NA                    7     2   NA NA        normal           \n",
       "26   breast     NA                    8     2   NA NA        normal           \n",
       "27   liver      NA                    9     2   NA NA        normal           \n",
       "28   liver      NA                   10     2   NA NA        normal           \n",
       "29   liver      NA                   11     2   NA NA        normal           \n",
       "30    pancreas  NA                   12     2   NA NA        normal           \n",
       "⋮    ⋮          ⋮                    ⋮      ⋮   ⋮  ⋮         ⋮                \n",
       "1130 143        NA                   17      8  NA NA        NA               \n",
       "1131 144        NA                   18      8  NA NA        NA               \n",
       "1132 145        PARNYR                1      9   0  0        Ependymoma       \n",
       "1133 146        PASAYM           FP1  2      9   0  0        Ependymoma       \n",
       "1134 147        PATGXY                3      9   0  0        Ependymoma       \n",
       "1135 148        PATUFA                4      9   0  0        Ependymoma       \n",
       "1136 149        PAPSKR                5      9   0  0        High Grade Glioma\n",
       "1137 150        PARCLS                6      9   0  0        High Grade Glioma\n",
       "1138 151        PAVDYT    C1          7      9   0  0        High Grade Glioma\n",
       "1139 152        PANDBY      A2        8      9  NA NA        ATRT             \n",
       "1140 153        PAPHZW                9      9   0  0        ATRT             \n",
       "1141 154        PAVXUM               10      9   0  0        ATRT             \n",
       "1142 155        NA                   11      9  NA NA        NA               \n",
       "1143 156        NA                   12      9  NA NA        NA               \n",
       "1144 157        NA                   13      9  NA NA        NA               \n",
       "1145 158        NA                   14      9  NA NA        NA               \n",
       "1146 159        NA                   15      9  NA NA        NA               \n",
       "1147 160        NA                   16      9  NA NA        NA               \n",
       "1148 161        NA                   17      9  NA NA        NA               \n",
       "1149 162        NA                   18      9  NA NA        NA               \n",
       "1150 163        PARWLK                1     10   0  0        Ependymoma       \n",
       "1151 164        PARWLK                2     10   0  0        Ependymoma       \n",
       "1152 165        PATNLD                3     10   0  0        Ependymoma       \n",
       "1153 166        PATNLD                4     10   0  0        Ependymoma       \n",
       "1154 167        NA                    5     10  NA NA        NA               \n",
       "1155 168        NA                    6     10  NA NA        NA               \n",
       "1156 169        NA                    7     10  NA NA        NA               \n",
       "1157 170        NA                    8     10  NA NA        NA               \n",
       "1158 171        PAPHZW                9     10  NA NA        ATRT             \n",
       "1159 172        PAVXUM               10     10   0  0        ATRT             "
      ]
     },
     "metadata": {},
     "output_type": "display_data"
    }
   ],
   "source": [
    "cd4ihc_raw"
   ]
  },
  {
   "cell_type": "markdown",
   "metadata": {},
   "source": [
    "Clean up column ID"
   ]
  },
  {
   "cell_type": "code",
   "execution_count": 5,
   "metadata": {},
   "outputs": [],
   "source": [
    "cd4ihc_raw$ptid <- gsub(\" .*\", \"\", cd4ihc_raw$ID)\n",
    "cd8ihc_raw$ptid <- gsub(\" .*\", \"\", cd8ihc_raw$ID)\n",
    "cd19ihc_raw$ptid <- gsub(\" .*\", \"\", cd19ihc_raw$ID)"
   ]
  },
  {
   "cell_type": "markdown",
   "metadata": {},
   "source": [
    "Load aggregated files"
   ]
  },
  {
   "cell_type": "code",
   "execution_count": 61,
   "metadata": {},
   "outputs": [],
   "source": [
    "cd4ihc <- read.csv(paste0(datapath, \"IHC/Alberto/agg.df.CD4.csv\"),header = TRUE, stringsAsFactors = F)\n",
    "\n",
    "cd8ihc <- read.csv(paste0(datapath, \"IHC/Alberto/agg.df.CD8.csv\"),header = TRUE, stringsAsFactors = F)\n",
    "\n",
    "cd19ihc <- read.csv(paste0(datapath, \"IHC/Alberto/agg.df.CD19.csv\"),header = TRUE, stringsAsFactors = F)"
   ]
  },
  {
   "cell_type": "code",
   "execution_count": 62,
   "metadata": {
    "scrolled": true
   },
   "outputs": [
    {
     "data": {
      "text/html": [
       "<table class=\"dataframe\">\n",
       "<caption>A data.frame: 147 × 5</caption>\n",
       "<thead>\n",
       "\t<tr><th scope=col>X</th><th scope=col>block</th><th scope=col>type</th><th scope=col>H.score</th><th scope=col>Subtype</th></tr>\n",
       "\t<tr><th scope=col>&lt;int&gt;</th><th scope=col>&lt;chr&gt;</th><th scope=col>&lt;chr&gt;</th><th scope=col>&lt;dbl&gt;</th><th scope=col>&lt;chr&gt;</th></tr>\n",
       "</thead>\n",
       "<tbody>\n",
       "\t<tr><td> 1</td><td>PAPHZW</td><td>ATRT          </td><td> 0.00</td><td>ATRT          </td></tr>\n",
       "\t<tr><td> 2</td><td>PAPRJE</td><td>ATRT          </td><td> 0.00</td><td>ATRT          </td></tr>\n",
       "\t<tr><td> 3</td><td>PARPCH</td><td>ATRT          </td><td> 0.00</td><td>ATRT          </td></tr>\n",
       "\t<tr><td> 4</td><td>PARUCK</td><td>ATRT          </td><td> 0.00</td><td>ATRT          </td></tr>\n",
       "\t<tr><td> 5</td><td>PATKWM</td><td>ATRT          </td><td> 0.00</td><td>ATRT          </td></tr>\n",
       "\t<tr><td> 6</td><td>PATMWL</td><td>ATRT          </td><td>27.00</td><td>ATRT          </td></tr>\n",
       "\t<tr><td> 7</td><td>PATUIN</td><td>ATRT          </td><td>15.00</td><td>ATRT          </td></tr>\n",
       "\t<tr><td> 8</td><td>PAUETI</td><td>ATRT          </td><td> 5.25</td><td>ATRT          </td></tr>\n",
       "\t<tr><td> 9</td><td>PAVXUM</td><td>ATRT          </td><td> 0.00</td><td>ATRT          </td></tr>\n",
       "\t<tr><td>10</td><td>PANCDU</td><td>Ependymoma    </td><td> 0.00</td><td>Ependymoma    </td></tr>\n",
       "\t<tr><td>11</td><td>PAPBNC</td><td>Ependymoma    </td><td> 0.00</td><td>Ependymoma    </td></tr>\n",
       "\t<tr><td>12</td><td>PARMFT</td><td>Ependymoma    </td><td> 3.00</td><td>Ependymoma    </td></tr>\n",
       "\t<tr><td>13</td><td>PARNYR</td><td>Ependymoma    </td><td> 0.00</td><td>Ependymoma    </td></tr>\n",
       "\t<tr><td>14</td><td>PARWLK</td><td>Ependymoma    </td><td> 0.00</td><td>Ependymoma    </td></tr>\n",
       "\t<tr><td>15</td><td>PASAYM</td><td>Ependymoma    </td><td> 0.00</td><td>Ependymoma    </td></tr>\n",
       "\t<tr><td>16</td><td>PASCZJ</td><td>Ependymoma    </td><td> 0.00</td><td>Ependymoma    </td></tr>\n",
       "\t<tr><td>17</td><td>PASZBK</td><td>Ependymoma    </td><td> 0.00</td><td>Ependymoma    </td></tr>\n",
       "\t<tr><td>18</td><td>PASZKN</td><td>Ependymoma    </td><td> 0.00</td><td>Ependymoma    </td></tr>\n",
       "\t<tr><td>19</td><td>PATBSS</td><td>Ependymoma    </td><td> 0.00</td><td>Ependymoma    </td></tr>\n",
       "\t<tr><td>20</td><td>PATEPY</td><td>Ependymoma    </td><td> 7.50</td><td>Ependymoma    </td></tr>\n",
       "\t<tr><td>21</td><td>PATGWN</td><td>Ependymoma    </td><td> 0.00</td><td>Ependymoma    </td></tr>\n",
       "\t<tr><td>22</td><td>PATGXY</td><td>Ependymoma    </td><td> 0.00</td><td>Ependymoma    </td></tr>\n",
       "\t<tr><td>23</td><td>PATNLD</td><td>Ependymoma    </td><td> 0.00</td><td>Ependymoma    </td></tr>\n",
       "\t<tr><td>24</td><td>PATUFA</td><td>Ependymoma    </td><td> 0.00</td><td>Ependymoma    </td></tr>\n",
       "\t<tr><td>25</td><td>PATXDH</td><td>Ependymoma    </td><td> 0.00</td><td>Ependymoma    </td></tr>\n",
       "\t<tr><td>26</td><td>PATZTI</td><td>Ependymoma    </td><td> 3.00</td><td>Ependymoma    </td></tr>\n",
       "\t<tr><td>27</td><td>PAUGVK</td><td>Ependymoma    </td><td> 0.00</td><td>Ependymoma    </td></tr>\n",
       "\t<tr><td>28</td><td>PAUZKS</td><td>Ependymoma    </td><td> 0.00</td><td>Ependymoma    </td></tr>\n",
       "\t<tr><td>29</td><td>PAWDJH</td><td>Ependymoma    </td><td> 0.00</td><td>Ependymoma    </td></tr>\n",
       "\t<tr><td>30</td><td>PAKMPZ</td><td>Hepatoblastoma</td><td> 0.00</td><td>Hepatoblastoma</td></tr>\n",
       "\t<tr><td>⋮</td><td>⋮</td><td>⋮</td><td>⋮</td><td>⋮</td></tr>\n",
       "\t<tr><td>118</td><td>PAMIGI</td><td>NBL stage 3</td><td>0</td><td>NBL stage 3</td></tr>\n",
       "\t<tr><td>119</td><td>PAMZEL</td><td>NBL stage 3</td><td>0</td><td>NBL stage 3</td></tr>\n",
       "\t<tr><td>120</td><td>PANBMS</td><td>NBL stage 3</td><td>0</td><td>NBL stage 3</td></tr>\n",
       "\t<tr><td>121</td><td>PAPIBB</td><td>NBL stage 3</td><td>0</td><td>NBL stage 3</td></tr>\n",
       "\t<tr><td>122</td><td>PAPSKA</td><td>NBL stage 3</td><td>0</td><td>NBL stage 3</td></tr>\n",
       "\t<tr><td>123</td><td>PARNAR</td><td>NBL stage 3</td><td>0</td><td>NBL stage 3</td></tr>\n",
       "\t<tr><td>124</td><td>PASIWW</td><td>NBL stage 3</td><td>0</td><td>NBL stage 3</td></tr>\n",
       "\t<tr><td>125</td><td>PASUYB</td><td>NBL stage 3</td><td>0</td><td>NBL stage 3</td></tr>\n",
       "\t<tr><td>126</td><td>PATJAE</td><td>NBL stage 3</td><td>0</td><td>NBL stage 3</td></tr>\n",
       "\t<tr><td>127</td><td>PATMPW</td><td>NBL stage 3</td><td>0</td><td>NBL stage 3</td></tr>\n",
       "\t<tr><td>128</td><td>PATRVB</td><td>NBL stage 3</td><td>0</td><td>NBL stage 3</td></tr>\n",
       "\t<tr><td>129</td><td>PATWVI</td><td>NBL stage 3</td><td>0</td><td>NBL stage 3</td></tr>\n",
       "\t<tr><td>130</td><td>PATXHB</td><td>NBL stage 3</td><td>0</td><td>NBL stage 3</td></tr>\n",
       "\t<tr><td>131</td><td>PAUAES</td><td>NBL stage 3</td><td>0</td><td>NBL stage 3</td></tr>\n",
       "\t<tr><td>132</td><td>PAWGKN</td><td>NBL stage 3</td><td>0</td><td>NBL stage 3</td></tr>\n",
       "\t<tr><td>133</td><td>PAWRKF</td><td>NBL stage 3</td><td>0</td><td>NBL stage 3</td></tr>\n",
       "\t<tr><td>134</td><td>PALHHT</td><td>NBL stage 4</td><td>0</td><td>NBL stage 4</td></tr>\n",
       "\t<tr><td>135</td><td>PALTAL</td><td>NBL stage 4</td><td>0</td><td>NBL stage 4</td></tr>\n",
       "\t<tr><td>136</td><td>PAMHMK</td><td>NBL stage 4</td><td>0</td><td>NBL stage 4</td></tr>\n",
       "\t<tr><td>137</td><td>PAMLMY</td><td>NBL stage 4</td><td>0</td><td>NBL stage 4</td></tr>\n",
       "\t<tr><td>138</td><td>PANFLJ</td><td>NBL stage 4</td><td>0</td><td>NBL stage 4</td></tr>\n",
       "\t<tr><td>139</td><td>PANLGS</td><td>NBL stage 4</td><td>0</td><td>NBL stage 4</td></tr>\n",
       "\t<tr><td>140</td><td>PASMRP</td><td>NBL stage 4</td><td>0</td><td>NBL stage 4</td></tr>\n",
       "\t<tr><td>141</td><td>PATKVF</td><td>NBL stage 4</td><td>0</td><td>NBL stage 4</td></tr>\n",
       "\t<tr><td>142</td><td>PATNEC</td><td>NBL stage 4</td><td>0</td><td>NBL stage 4</td></tr>\n",
       "\t<tr><td>143</td><td>PATXII</td><td>NBL stage 4</td><td>0</td><td>NBL stage 4</td></tr>\n",
       "\t<tr><td>144</td><td>PAUKAW</td><td>NBL stage 4</td><td>0</td><td>NBL stage 4</td></tr>\n",
       "\t<tr><td>145</td><td>PAWFMD</td><td>NBL stage 4</td><td>0</td><td>NBL stage 4</td></tr>\n",
       "\t<tr><td>146</td><td>PAWHCY</td><td>NBL stage 4</td><td>0</td><td>NBL stage 4</td></tr>\n",
       "\t<tr><td>147</td><td>PAUYSJ</td><td>Wilms      </td><td>0</td><td>Wilms      </td></tr>\n",
       "</tbody>\n",
       "</table>\n"
      ],
      "text/latex": [
       "A data.frame: 147 × 5\n",
       "\\begin{tabular}{lllll}\n",
       " X & block & type & H.score & Subtype\\\\\n",
       " <int> & <chr> & <chr> & <dbl> & <chr>\\\\\n",
       "\\hline\n",
       "\t  1 & PAPHZW & ATRT           &  0.00 & ATRT          \\\\\n",
       "\t  2 & PAPRJE & ATRT           &  0.00 & ATRT          \\\\\n",
       "\t  3 & PARPCH & ATRT           &  0.00 & ATRT          \\\\\n",
       "\t  4 & PARUCK & ATRT           &  0.00 & ATRT          \\\\\n",
       "\t  5 & PATKWM & ATRT           &  0.00 & ATRT          \\\\\n",
       "\t  6 & PATMWL & ATRT           & 27.00 & ATRT          \\\\\n",
       "\t  7 & PATUIN & ATRT           & 15.00 & ATRT          \\\\\n",
       "\t  8 & PAUETI & ATRT           &  5.25 & ATRT          \\\\\n",
       "\t  9 & PAVXUM & ATRT           &  0.00 & ATRT          \\\\\n",
       "\t 10 & PANCDU & Ependymoma     &  0.00 & Ependymoma    \\\\\n",
       "\t 11 & PAPBNC & Ependymoma     &  0.00 & Ependymoma    \\\\\n",
       "\t 12 & PARMFT & Ependymoma     &  3.00 & Ependymoma    \\\\\n",
       "\t 13 & PARNYR & Ependymoma     &  0.00 & Ependymoma    \\\\\n",
       "\t 14 & PARWLK & Ependymoma     &  0.00 & Ependymoma    \\\\\n",
       "\t 15 & PASAYM & Ependymoma     &  0.00 & Ependymoma    \\\\\n",
       "\t 16 & PASCZJ & Ependymoma     &  0.00 & Ependymoma    \\\\\n",
       "\t 17 & PASZBK & Ependymoma     &  0.00 & Ependymoma    \\\\\n",
       "\t 18 & PASZKN & Ependymoma     &  0.00 & Ependymoma    \\\\\n",
       "\t 19 & PATBSS & Ependymoma     &  0.00 & Ependymoma    \\\\\n",
       "\t 20 & PATEPY & Ependymoma     &  7.50 & Ependymoma    \\\\\n",
       "\t 21 & PATGWN & Ependymoma     &  0.00 & Ependymoma    \\\\\n",
       "\t 22 & PATGXY & Ependymoma     &  0.00 & Ependymoma    \\\\\n",
       "\t 23 & PATNLD & Ependymoma     &  0.00 & Ependymoma    \\\\\n",
       "\t 24 & PATUFA & Ependymoma     &  0.00 & Ependymoma    \\\\\n",
       "\t 25 & PATXDH & Ependymoma     &  0.00 & Ependymoma    \\\\\n",
       "\t 26 & PATZTI & Ependymoma     &  3.00 & Ependymoma    \\\\\n",
       "\t 27 & PAUGVK & Ependymoma     &  0.00 & Ependymoma    \\\\\n",
       "\t 28 & PAUZKS & Ependymoma     &  0.00 & Ependymoma    \\\\\n",
       "\t 29 & PAWDJH & Ependymoma     &  0.00 & Ependymoma    \\\\\n",
       "\t 30 & PAKMPZ & Hepatoblastoma &  0.00 & Hepatoblastoma\\\\\n",
       "\t ⋮ & ⋮ & ⋮ & ⋮ & ⋮\\\\\n",
       "\t 118 & PAMIGI & NBL stage 3 & 0 & NBL stage 3\\\\\n",
       "\t 119 & PAMZEL & NBL stage 3 & 0 & NBL stage 3\\\\\n",
       "\t 120 & PANBMS & NBL stage 3 & 0 & NBL stage 3\\\\\n",
       "\t 121 & PAPIBB & NBL stage 3 & 0 & NBL stage 3\\\\\n",
       "\t 122 & PAPSKA & NBL stage 3 & 0 & NBL stage 3\\\\\n",
       "\t 123 & PARNAR & NBL stage 3 & 0 & NBL stage 3\\\\\n",
       "\t 124 & PASIWW & NBL stage 3 & 0 & NBL stage 3\\\\\n",
       "\t 125 & PASUYB & NBL stage 3 & 0 & NBL stage 3\\\\\n",
       "\t 126 & PATJAE & NBL stage 3 & 0 & NBL stage 3\\\\\n",
       "\t 127 & PATMPW & NBL stage 3 & 0 & NBL stage 3\\\\\n",
       "\t 128 & PATRVB & NBL stage 3 & 0 & NBL stage 3\\\\\n",
       "\t 129 & PATWVI & NBL stage 3 & 0 & NBL stage 3\\\\\n",
       "\t 130 & PATXHB & NBL stage 3 & 0 & NBL stage 3\\\\\n",
       "\t 131 & PAUAES & NBL stage 3 & 0 & NBL stage 3\\\\\n",
       "\t 132 & PAWGKN & NBL stage 3 & 0 & NBL stage 3\\\\\n",
       "\t 133 & PAWRKF & NBL stage 3 & 0 & NBL stage 3\\\\\n",
       "\t 134 & PALHHT & NBL stage 4 & 0 & NBL stage 4\\\\\n",
       "\t 135 & PALTAL & NBL stage 4 & 0 & NBL stage 4\\\\\n",
       "\t 136 & PAMHMK & NBL stage 4 & 0 & NBL stage 4\\\\\n",
       "\t 137 & PAMLMY & NBL stage 4 & 0 & NBL stage 4\\\\\n",
       "\t 138 & PANFLJ & NBL stage 4 & 0 & NBL stage 4\\\\\n",
       "\t 139 & PANLGS & NBL stage 4 & 0 & NBL stage 4\\\\\n",
       "\t 140 & PASMRP & NBL stage 4 & 0 & NBL stage 4\\\\\n",
       "\t 141 & PATKVF & NBL stage 4 & 0 & NBL stage 4\\\\\n",
       "\t 142 & PATNEC & NBL stage 4 & 0 & NBL stage 4\\\\\n",
       "\t 143 & PATXII & NBL stage 4 & 0 & NBL stage 4\\\\\n",
       "\t 144 & PAUKAW & NBL stage 4 & 0 & NBL stage 4\\\\\n",
       "\t 145 & PAWFMD & NBL stage 4 & 0 & NBL stage 4\\\\\n",
       "\t 146 & PAWHCY & NBL stage 4 & 0 & NBL stage 4\\\\\n",
       "\t 147 & PAUYSJ & Wilms       & 0 & Wilms      \\\\\n",
       "\\end{tabular}\n"
      ],
      "text/markdown": [
       "\n",
       "A data.frame: 147 × 5\n",
       "\n",
       "| X &lt;int&gt; | block &lt;chr&gt; | type &lt;chr&gt; | H.score &lt;dbl&gt; | Subtype &lt;chr&gt; |\n",
       "|---|---|---|---|---|\n",
       "|  1 | PAPHZW | ATRT           |  0.00 | ATRT           |\n",
       "|  2 | PAPRJE | ATRT           |  0.00 | ATRT           |\n",
       "|  3 | PARPCH | ATRT           |  0.00 | ATRT           |\n",
       "|  4 | PARUCK | ATRT           |  0.00 | ATRT           |\n",
       "|  5 | PATKWM | ATRT           |  0.00 | ATRT           |\n",
       "|  6 | PATMWL | ATRT           | 27.00 | ATRT           |\n",
       "|  7 | PATUIN | ATRT           | 15.00 | ATRT           |\n",
       "|  8 | PAUETI | ATRT           |  5.25 | ATRT           |\n",
       "|  9 | PAVXUM | ATRT           |  0.00 | ATRT           |\n",
       "| 10 | PANCDU | Ependymoma     |  0.00 | Ependymoma     |\n",
       "| 11 | PAPBNC | Ependymoma     |  0.00 | Ependymoma     |\n",
       "| 12 | PARMFT | Ependymoma     |  3.00 | Ependymoma     |\n",
       "| 13 | PARNYR | Ependymoma     |  0.00 | Ependymoma     |\n",
       "| 14 | PARWLK | Ependymoma     |  0.00 | Ependymoma     |\n",
       "| 15 | PASAYM | Ependymoma     |  0.00 | Ependymoma     |\n",
       "| 16 | PASCZJ | Ependymoma     |  0.00 | Ependymoma     |\n",
       "| 17 | PASZBK | Ependymoma     |  0.00 | Ependymoma     |\n",
       "| 18 | PASZKN | Ependymoma     |  0.00 | Ependymoma     |\n",
       "| 19 | PATBSS | Ependymoma     |  0.00 | Ependymoma     |\n",
       "| 20 | PATEPY | Ependymoma     |  7.50 | Ependymoma     |\n",
       "| 21 | PATGWN | Ependymoma     |  0.00 | Ependymoma     |\n",
       "| 22 | PATGXY | Ependymoma     |  0.00 | Ependymoma     |\n",
       "| 23 | PATNLD | Ependymoma     |  0.00 | Ependymoma     |\n",
       "| 24 | PATUFA | Ependymoma     |  0.00 | Ependymoma     |\n",
       "| 25 | PATXDH | Ependymoma     |  0.00 | Ependymoma     |\n",
       "| 26 | PATZTI | Ependymoma     |  3.00 | Ependymoma     |\n",
       "| 27 | PAUGVK | Ependymoma     |  0.00 | Ependymoma     |\n",
       "| 28 | PAUZKS | Ependymoma     |  0.00 | Ependymoma     |\n",
       "| 29 | PAWDJH | Ependymoma     |  0.00 | Ependymoma     |\n",
       "| 30 | PAKMPZ | Hepatoblastoma |  0.00 | Hepatoblastoma |\n",
       "| ⋮ | ⋮ | ⋮ | ⋮ | ⋮ |\n",
       "| 118 | PAMIGI | NBL stage 3 | 0 | NBL stage 3 |\n",
       "| 119 | PAMZEL | NBL stage 3 | 0 | NBL stage 3 |\n",
       "| 120 | PANBMS | NBL stage 3 | 0 | NBL stage 3 |\n",
       "| 121 | PAPIBB | NBL stage 3 | 0 | NBL stage 3 |\n",
       "| 122 | PAPSKA | NBL stage 3 | 0 | NBL stage 3 |\n",
       "| 123 | PARNAR | NBL stage 3 | 0 | NBL stage 3 |\n",
       "| 124 | PASIWW | NBL stage 3 | 0 | NBL stage 3 |\n",
       "| 125 | PASUYB | NBL stage 3 | 0 | NBL stage 3 |\n",
       "| 126 | PATJAE | NBL stage 3 | 0 | NBL stage 3 |\n",
       "| 127 | PATMPW | NBL stage 3 | 0 | NBL stage 3 |\n",
       "| 128 | PATRVB | NBL stage 3 | 0 | NBL stage 3 |\n",
       "| 129 | PATWVI | NBL stage 3 | 0 | NBL stage 3 |\n",
       "| 130 | PATXHB | NBL stage 3 | 0 | NBL stage 3 |\n",
       "| 131 | PAUAES | NBL stage 3 | 0 | NBL stage 3 |\n",
       "| 132 | PAWGKN | NBL stage 3 | 0 | NBL stage 3 |\n",
       "| 133 | PAWRKF | NBL stage 3 | 0 | NBL stage 3 |\n",
       "| 134 | PALHHT | NBL stage 4 | 0 | NBL stage 4 |\n",
       "| 135 | PALTAL | NBL stage 4 | 0 | NBL stage 4 |\n",
       "| 136 | PAMHMK | NBL stage 4 | 0 | NBL stage 4 |\n",
       "| 137 | PAMLMY | NBL stage 4 | 0 | NBL stage 4 |\n",
       "| 138 | PANFLJ | NBL stage 4 | 0 | NBL stage 4 |\n",
       "| 139 | PANLGS | NBL stage 4 | 0 | NBL stage 4 |\n",
       "| 140 | PASMRP | NBL stage 4 | 0 | NBL stage 4 |\n",
       "| 141 | PATKVF | NBL stage 4 | 0 | NBL stage 4 |\n",
       "| 142 | PATNEC | NBL stage 4 | 0 | NBL stage 4 |\n",
       "| 143 | PATXII | NBL stage 4 | 0 | NBL stage 4 |\n",
       "| 144 | PAUKAW | NBL stage 4 | 0 | NBL stage 4 |\n",
       "| 145 | PAWFMD | NBL stage 4 | 0 | NBL stage 4 |\n",
       "| 146 | PAWHCY | NBL stage 4 | 0 | NBL stage 4 |\n",
       "| 147 | PAUYSJ | Wilms       | 0 | Wilms       |\n",
       "\n"
      ],
      "text/plain": [
       "    X   block  type           H.score Subtype       \n",
       "1    1  PAPHZW ATRT            0.00   ATRT          \n",
       "2    2  PAPRJE ATRT            0.00   ATRT          \n",
       "3    3  PARPCH ATRT            0.00   ATRT          \n",
       "4    4  PARUCK ATRT            0.00   ATRT          \n",
       "5    5  PATKWM ATRT            0.00   ATRT          \n",
       "6    6  PATMWL ATRT           27.00   ATRT          \n",
       "7    7  PATUIN ATRT           15.00   ATRT          \n",
       "8    8  PAUETI ATRT            5.25   ATRT          \n",
       "9    9  PAVXUM ATRT            0.00   ATRT          \n",
       "10  10  PANCDU Ependymoma      0.00   Ependymoma    \n",
       "11  11  PAPBNC Ependymoma      0.00   Ependymoma    \n",
       "12  12  PARMFT Ependymoma      3.00   Ependymoma    \n",
       "13  13  PARNYR Ependymoma      0.00   Ependymoma    \n",
       "14  14  PARWLK Ependymoma      0.00   Ependymoma    \n",
       "15  15  PASAYM Ependymoma      0.00   Ependymoma    \n",
       "16  16  PASCZJ Ependymoma      0.00   Ependymoma    \n",
       "17  17  PASZBK Ependymoma      0.00   Ependymoma    \n",
       "18  18  PASZKN Ependymoma      0.00   Ependymoma    \n",
       "19  19  PATBSS Ependymoma      0.00   Ependymoma    \n",
       "20  20  PATEPY Ependymoma      7.50   Ependymoma    \n",
       "21  21  PATGWN Ependymoma      0.00   Ependymoma    \n",
       "22  22  PATGXY Ependymoma      0.00   Ependymoma    \n",
       "23  23  PATNLD Ependymoma      0.00   Ependymoma    \n",
       "24  24  PATUFA Ependymoma      0.00   Ependymoma    \n",
       "25  25  PATXDH Ependymoma      0.00   Ependymoma    \n",
       "26  26  PATZTI Ependymoma      3.00   Ependymoma    \n",
       "27  27  PAUGVK Ependymoma      0.00   Ependymoma    \n",
       "28  28  PAUZKS Ependymoma      0.00   Ependymoma    \n",
       "29  29  PAWDJH Ependymoma      0.00   Ependymoma    \n",
       "30  30  PAKMPZ Hepatoblastoma  0.00   Hepatoblastoma\n",
       "⋮   ⋮   ⋮      ⋮              ⋮       ⋮             \n",
       "118 118 PAMIGI NBL stage 3    0       NBL stage 3   \n",
       "119 119 PAMZEL NBL stage 3    0       NBL stage 3   \n",
       "120 120 PANBMS NBL stage 3    0       NBL stage 3   \n",
       "121 121 PAPIBB NBL stage 3    0       NBL stage 3   \n",
       "122 122 PAPSKA NBL stage 3    0       NBL stage 3   \n",
       "123 123 PARNAR NBL stage 3    0       NBL stage 3   \n",
       "124 124 PASIWW NBL stage 3    0       NBL stage 3   \n",
       "125 125 PASUYB NBL stage 3    0       NBL stage 3   \n",
       "126 126 PATJAE NBL stage 3    0       NBL stage 3   \n",
       "127 127 PATMPW NBL stage 3    0       NBL stage 3   \n",
       "128 128 PATRVB NBL stage 3    0       NBL stage 3   \n",
       "129 129 PATWVI NBL stage 3    0       NBL stage 3   \n",
       "130 130 PATXHB NBL stage 3    0       NBL stage 3   \n",
       "131 131 PAUAES NBL stage 3    0       NBL stage 3   \n",
       "132 132 PAWGKN NBL stage 3    0       NBL stage 3   \n",
       "133 133 PAWRKF NBL stage 3    0       NBL stage 3   \n",
       "134 134 PALHHT NBL stage 4    0       NBL stage 4   \n",
       "135 135 PALTAL NBL stage 4    0       NBL stage 4   \n",
       "136 136 PAMHMK NBL stage 4    0       NBL stage 4   \n",
       "137 137 PAMLMY NBL stage 4    0       NBL stage 4   \n",
       "138 138 PANFLJ NBL stage 4    0       NBL stage 4   \n",
       "139 139 PANLGS NBL stage 4    0       NBL stage 4   \n",
       "140 140 PASMRP NBL stage 4    0       NBL stage 4   \n",
       "141 141 PATKVF NBL stage 4    0       NBL stage 4   \n",
       "142 142 PATNEC NBL stage 4    0       NBL stage 4   \n",
       "143 143 PATXII NBL stage 4    0       NBL stage 4   \n",
       "144 144 PAUKAW NBL stage 4    0       NBL stage 4   \n",
       "145 145 PAWFMD NBL stage 4    0       NBL stage 4   \n",
       "146 146 PAWHCY NBL stage 4    0       NBL stage 4   \n",
       "147 147 PAUYSJ Wilms          0       Wilms         "
      ]
     },
     "metadata": {},
     "output_type": "display_data"
    }
   ],
   "source": [
    "cd4ihc"
   ]
  },
  {
   "cell_type": "code",
   "execution_count": 7,
   "metadata": {},
   "outputs": [],
   "source": [
    "colnames(cd4ihc)[colnames(cd4ihc) == \"block\"] <- \"ptid\"\n",
    "colnames(cd8ihc)[colnames(cd8ihc) == \"block\"] <- \"ptid\"\n",
    "colnames(cd19ihc)[colnames(cd19ihc) == \"block\"] <- \"ptid\""
   ]
  },
  {
   "cell_type": "markdown",
   "metadata": {},
   "source": [
    "Clean the raw csv files using IDs from aggregated files. Convert NAs to zeros"
   ]
  },
  {
   "cell_type": "code",
   "execution_count": 8,
   "metadata": {},
   "outputs": [],
   "source": [
    "cd4ihc_raw_clean <- cd4ihc_raw[cd4ihc_raw$ptid %in% cd4ihc$ptid,]\n",
    "cd8ihc_raw_clean <- cd8ihc_raw[cd8ihc_raw$ptid %in% cd8ihc$ptid,]\n",
    "cd19ihc_raw_clean <- cd19ihc_raw[cd19ihc_raw$ptid %in% cd19ihc$ptid,]"
   ]
  },
  {
   "cell_type": "code",
   "execution_count": 9,
   "metadata": {},
   "outputs": [],
   "source": [
    "cd4ihc_raw_clean$X.[is.na(cd4ihc_raw_clean$X.)] <- 0\n",
    "cd4ihc_raw_clean$Intensity[is.na(cd4ihc_raw_clean$Intensity)] <- 0"
   ]
  },
  {
   "cell_type": "code",
   "execution_count": 10,
   "metadata": {},
   "outputs": [],
   "source": [
    "cd8ihc_raw_clean$X.[is.na(cd8ihc_raw_clean$X.)] <- 0\n",
    "cd8ihc_raw_clean$Intensity[is.na(cd8ihc_raw_clean$Intensity)] <- 0"
   ]
  },
  {
   "cell_type": "code",
   "execution_count": 11,
   "metadata": {},
   "outputs": [],
   "source": [
    "cd19ihc_raw_clean$X.[is.na(cd19ihc_raw_clean$X.)] <- 0\n",
    "cd19ihc_raw_clean$Intensity[is.na(cd19ihc_raw_clean$Intensity)] <- 0"
   ]
  },
  {
   "cell_type": "markdown",
   "metadata": {},
   "source": [
    "H score for comparison with aggregated file"
   ]
  },
  {
   "cell_type": "code",
   "execution_count": 12,
   "metadata": {},
   "outputs": [],
   "source": [
    "cd4ihc_raw_clean$Hscore <- cd4ihc_raw_clean$Intensity * cd4ihc_raw_clean$X.\n",
    "cd8ihc_raw_clean$Hscore <- cd8ihc_raw_clean$Intensity * cd8ihc_raw_clean$X.\n",
    "cd19ihc_raw_clean$Hscore <- cd19ihc_raw_clean$Intensity * cd19ihc_raw_clean$X."
   ]
  },
  {
   "cell_type": "markdown",
   "metadata": {},
   "source": [
    "Aggregate by mean"
   ]
  },
  {
   "cell_type": "code",
   "execution_count": 13,
   "metadata": {},
   "outputs": [],
   "source": [
    "aggcd4 <- aggregate(cd4ihc_raw_clean[, c(\"X.\",\"Intensity\" ,\"Hscore\")],\n",
    "         by = list(cd4ihc_raw_clean$ptid),FUN = mean)\n",
    "colnames(aggcd4)[colnames(aggcd4) == \"Group.1\"] <- \"ptid\""
   ]
  },
  {
   "cell_type": "code",
   "execution_count": 14,
   "metadata": {},
   "outputs": [],
   "source": [
    "aggcd8 <- aggregate(cd8ihc_raw_clean[, c(\"X.\",\"Intensity\" ,\"Hscore\")],\n",
    "         by = list(cd8ihc_raw_clean$ptid),FUN = mean)\n",
    "colnames(aggcd8)[colnames(aggcd8) == \"Group.1\"] <- \"ptid\""
   ]
  },
  {
   "cell_type": "code",
   "execution_count": 15,
   "metadata": {},
   "outputs": [],
   "source": [
    "aggcd4 <- aggregate(cd4ihc_raw_clean[, c(\"X.\",\"Intensity\" ,\"Hscore\")],\n",
    "         by = list(cd4ihc_raw_clean$ptid),FUN = mean)\n",
    "colnames(aggcd4)[colnames(aggcd4) == \"Group.1\"] <- \"ptid\""
   ]
  },
  {
   "cell_type": "code",
   "execution_count": 16,
   "metadata": {},
   "outputs": [],
   "source": [
    "aggcd19 <- aggregate(cd19ihc_raw_clean[, c(\"X.\",\"Intensity\" ,\"Hscore\")],\n",
    "         by = list(cd19ihc_raw_clean$ptid),FUN = mean)\n",
    "colnames(aggcd19)[colnames(aggcd19) == \"Group.1\"] <- \"ptid\""
   ]
  },
  {
   "cell_type": "code",
   "execution_count": 17,
   "metadata": {},
   "outputs": [],
   "source": [
    "cd4_merge <- merge(aggcd4, cd4ihc[, c(\"ptid\", \"type\", \"Subtype\", \"H.score\")], by = \"ptid\")\n",
    "cd8_merge <- merge(aggcd8, cd8ihc[, c(\"ptid\", \"type\", \"Subtype\", \"H.score\")], by = \"ptid\")\n",
    "cd19_merge <- merge(aggcd19, cd19ihc[, c(\"ptid\", \"type\", \"Subtype\", \"H.score\")], by = \"ptid\")"
   ]
  },
  {
   "cell_type": "code",
   "execution_count": 18,
   "metadata": {
    "scrolled": true
   },
   "outputs": [],
   "source": [
    "cd4ihc_subset <- cd4_merge[cd4_merge$type != \"Wilms\" &cd4_merge$type != \"Hepatoblastoma\",]\n",
    "cd8ihc_subset <- cd8_merge[cd8_merge$type != \"Wilms\" &cd8_merge$type != \"Hepatoblastoma\",]\n",
    "cd19ihc_subset <- cd19_merge[cd19_merge$type != \"Wilms\" &cd19_merge$type != \"Hepatoblastoma\",]"
   ]
  },
  {
   "cell_type": "code",
   "execution_count": 19,
   "metadata": {},
   "outputs": [],
   "source": [
    "cd8ihc_subset$type <- as.character(cd8ihc_subset$type)\n",
    "cd4ihc_subset$type <- as.character(cd4ihc_subset$type)\n",
    "cd19ihc_subset$type <- as.character(cd19ihc_subset$type)"
   ]
  },
  {
   "cell_type": "code",
   "execution_count": 20,
   "metadata": {},
   "outputs": [],
   "source": [
    "cd4ihc_subset$type[grepl(\"NBL\", cd4ihc_subset$Subtype)] <- \"NBL\"\n",
    "cd8ihc_subset$type[grepl(\"NBL\", cd8ihc_subset$Subtype)] <- \"NBL\"\n",
    "cd19ihc_subset$type[grepl(\"NBL\", cd19ihc_subset$Subtype)] <- \"NBL\""
   ]
  },
  {
   "cell_type": "code",
   "execution_count": 26,
   "metadata": {},
   "outputs": [],
   "source": [
    "cd4ihc_subset$type[ cd4ihc_subset$type == \"Ependymoma\"] <- \"EPN\"\n",
    "cd4ihc_subset$type[ cd4ihc_subset$type == \"Medulloblastoma\"] <- \"MB\"\n",
    "cd4ihc_subset$type[ cd4ihc_subset$type == \"High Grade Glioma\"] <- \"pedHGG\""
   ]
  },
  {
   "cell_type": "code",
   "execution_count": 44,
   "metadata": {},
   "outputs": [],
   "source": [
    "cd8ihc_subset$type[ cd8ihc_subset$type == \"Ependymoma\"] <- \"EPN\"\n",
    "cd8ihc_subset$type[ cd8ihc_subset$type == \"Medulloblastoma\"] <- \"MB\"\n",
    "cd8ihc_subset$type[ cd8ihc_subset$type == \"High Grade Glioma\"] <- \"pedHGG\""
   ]
  },
  {
   "cell_type": "code",
   "execution_count": 45,
   "metadata": {},
   "outputs": [],
   "source": [
    "cd19ihc_subset$type[ cd19ihc_subset$type == \"Ependymoma\"] <- \"EPN\"\n",
    "cd19ihc_subset$type[ cd19ihc_subset$type == \"Medulloblastoma\"] <- \"MB\"\n",
    "cd19ihc_subset$type[ cd19ihc_subset$type == \"High Grade Glioma\"] <- \"pedHGG\""
   ]
  },
  {
   "cell_type": "code",
   "execution_count": 27,
   "metadata": {},
   "outputs": [
    {
     "data": {
      "text/plain": [
       "\n",
       "  ATRT    EPN     MB    NBL pedHGG \n",
       "     9     20     64     33     13 "
      ]
     },
     "metadata": {},
     "output_type": "display_data"
    }
   ],
   "source": [
    "table(cd4ihc_subset$type)"
   ]
  },
  {
   "cell_type": "markdown",
   "metadata": {},
   "source": [
    "# Box plots for cells H score"
   ]
  },
  {
   "cell_type": "code",
   "execution_count": 72,
   "metadata": {},
   "outputs": [
    {
     "data": {
      "text/plain": [
       "$ATRT\n",
       "   Min. 1st Qu.  Median    Mean 3rd Qu.    Max. \n",
       "  0.000   0.000   0.000   1.389   2.000   7.500 \n",
       "\n",
       "$EPN\n",
       "   Min. 1st Qu.  Median    Mean 3rd Qu.    Max. \n",
       "  0.000   0.000   0.000   1.025   1.625   6.000 \n",
       "\n",
       "$MB\n",
       "   Min. 1st Qu.  Median    Mean 3rd Qu.    Max. \n",
       " 0.0000  0.0000  0.0000  0.1846  0.0000  7.5000 \n",
       "\n",
       "$NBL\n",
       "   Min. 1st Qu.  Median    Mean 3rd Qu.    Max. \n",
       "  0.000   0.000   3.000   9.091  12.000  45.000 \n",
       "\n",
       "$pedHGG\n",
       "   Min. 1st Qu.  Median    Mean 3rd Qu.    Max. \n",
       " 0.0000  0.0000  0.0000  0.9231  0.0000  7.5000 \n"
      ]
     },
     "metadata": {},
     "output_type": "display_data"
    }
   ],
   "source": [
    "tapply(cd19ihc_subset$H.score, cd19ihc_subset$type, summary)"
   ]
  },
  {
   "cell_type": "code",
   "execution_count": 28,
   "metadata": {
    "scrolled": true
   },
   "outputs": [
    {
     "data": {
      "text/html": [
       "<table class=\"dataframe\">\n",
       "<caption>A data.frame: 6 × 7</caption>\n",
       "<thead>\n",
       "\t<tr><th></th><th scope=col>ptid</th><th scope=col>X.</th><th scope=col>Intensity</th><th scope=col>Hscore</th><th scope=col>type</th><th scope=col>Subtype</th><th scope=col>H.score</th></tr>\n",
       "\t<tr><th></th><th scope=col>&lt;chr&gt;</th><th scope=col>&lt;dbl&gt;</th><th scope=col>&lt;dbl&gt;</th><th scope=col>&lt;dbl&gt;</th><th scope=col>&lt;chr&gt;</th><th scope=col>&lt;chr&gt;</th><th scope=col>&lt;dbl&gt;</th></tr>\n",
       "</thead>\n",
       "<tbody>\n",
       "\t<tr><th scope=row>5</th><td>PALHHT</td><td>0</td><td>0</td><td>0</td><td>NBL</td><td>NBL stage 4</td><td>0</td></tr>\n",
       "\t<tr><th scope=row>7</th><td>PALNFP</td><td>0</td><td>0</td><td>0</td><td>NBL</td><td>NBL stage 3</td><td>0</td></tr>\n",
       "\t<tr><th scope=row>9</th><td>PALTAL</td><td>0</td><td>0</td><td>0</td><td>NBL</td><td>NBL stage 4</td><td>0</td></tr>\n",
       "\t<tr><th scope=row>10</th><td>PALTLX</td><td>0</td><td>0</td><td>0</td><td>NBL</td><td>NBL stage 3</td><td>0</td></tr>\n",
       "\t<tr><th scope=row>11</th><td>PALWKV</td><td>0</td><td>0</td><td>0</td><td>NBL</td><td>NBL stage 3</td><td>0</td></tr>\n",
       "\t<tr><th scope=row>12</th><td>PAMHLN</td><td>0</td><td>0</td><td>0</td><td>NBL</td><td>NBL stage 3</td><td>0</td></tr>\n",
       "</tbody>\n",
       "</table>\n"
      ],
      "text/latex": [
       "A data.frame: 6 × 7\n",
       "\\begin{tabular}{r|lllllll}\n",
       "  & ptid & X. & Intensity & Hscore & type & Subtype & H.score\\\\\n",
       "  & <chr> & <dbl> & <dbl> & <dbl> & <chr> & <chr> & <dbl>\\\\\n",
       "\\hline\n",
       "\t5 & PALHHT & 0 & 0 & 0 & NBL & NBL stage 4 & 0\\\\\n",
       "\t7 & PALNFP & 0 & 0 & 0 & NBL & NBL stage 3 & 0\\\\\n",
       "\t9 & PALTAL & 0 & 0 & 0 & NBL & NBL stage 4 & 0\\\\\n",
       "\t10 & PALTLX & 0 & 0 & 0 & NBL & NBL stage 3 & 0\\\\\n",
       "\t11 & PALWKV & 0 & 0 & 0 & NBL & NBL stage 3 & 0\\\\\n",
       "\t12 & PAMHLN & 0 & 0 & 0 & NBL & NBL stage 3 & 0\\\\\n",
       "\\end{tabular}\n"
      ],
      "text/markdown": [
       "\n",
       "A data.frame: 6 × 7\n",
       "\n",
       "| <!--/--> | ptid &lt;chr&gt; | X. &lt;dbl&gt; | Intensity &lt;dbl&gt; | Hscore &lt;dbl&gt; | type &lt;chr&gt; | Subtype &lt;chr&gt; | H.score &lt;dbl&gt; |\n",
       "|---|---|---|---|---|---|---|---|\n",
       "| 5 | PALHHT | 0 | 0 | 0 | NBL | NBL stage 4 | 0 |\n",
       "| 7 | PALNFP | 0 | 0 | 0 | NBL | NBL stage 3 | 0 |\n",
       "| 9 | PALTAL | 0 | 0 | 0 | NBL | NBL stage 4 | 0 |\n",
       "| 10 | PALTLX | 0 | 0 | 0 | NBL | NBL stage 3 | 0 |\n",
       "| 11 | PALWKV | 0 | 0 | 0 | NBL | NBL stage 3 | 0 |\n",
       "| 12 | PAMHLN | 0 | 0 | 0 | NBL | NBL stage 3 | 0 |\n",
       "\n"
      ],
      "text/plain": [
       "   ptid   X. Intensity Hscore type Subtype     H.score\n",
       "5  PALHHT 0  0         0      NBL  NBL stage 4 0      \n",
       "7  PALNFP 0  0         0      NBL  NBL stage 3 0      \n",
       "9  PALTAL 0  0         0      NBL  NBL stage 4 0      \n",
       "10 PALTLX 0  0         0      NBL  NBL stage 3 0      \n",
       "11 PALWKV 0  0         0      NBL  NBL stage 3 0      \n",
       "12 PAMHLN 0  0         0      NBL  NBL stage 3 0      "
      ]
     },
     "metadata": {},
     "output_type": "display_data"
    }
   ],
   "source": [
    "head(cd4ihc_subset)"
   ]
  },
  {
   "cell_type": "code",
   "execution_count": 40,
   "metadata": {},
   "outputs": [],
   "source": [
    "plotcd4 <- ggplot() +\n",
    "geom_boxplot(data = cd4ihc_subset, aes(x = type ,y = H.score), size = 1, fill = \"light grey\") +\n",
    "theme(legend.position = \"bottom\", legend.title = element_blank()) +\n",
    "theme(axis.title.x = element_blank(), axis.title = element_text(size = 35),\n",
    "      axis.line = element_line(color = \"black\"),\n",
    "      axis.text.x = element_text(angle = 45, hjust = 1, size = 35, color = \"black\"),\n",
    "      axis.text.y = element_text(size = 35, color = \"black\")) +\n",
    "myplot +\n",
    "scale_y_continuous(breaks = seq(0,30, by = 5)) +\n",
    "labs(y = \"H score CD4\")"
   ]
  },
  {
   "cell_type": "code",
   "execution_count": 41,
   "metadata": {},
   "outputs": [
    {
     "data": {
      "image/png": "[encoded data removed]",
      "text/plain": [
       "plot without title"
      ]
     },
     "metadata": {
      "image/png": {
       "height": 420,
       "width": 420
      }
     },
     "output_type": "display_data"
    }
   ],
   "source": [
    "plotcd4"
   ]
  },
  {
   "cell_type": "code",
   "execution_count": 48,
   "metadata": {},
   "outputs": [],
   "source": [
    "plotcd8 <- ggplot() +\n",
    "geom_boxplot(data = cd8ihc_subset, aes(x = type ,y = H.score), size = 1, fill = \"light grey\") +\n",
    "theme(legend.position = \"bottom\", legend.title = element_blank()) +\n",
    "theme(axis.title.x = element_blank(), axis.title = element_text(size = 35),\n",
    "      axis.line = element_line(color = \"black\"),\n",
    "      axis.text.x = element_text(angle = 45, hjust = 1, size = 35, color = \"black\"),\n",
    "      axis.text.y = element_text(size = 35, color = \"black\")) +\n",
    "myplot +\n",
    "scale_y_continuous(breaks = seq(0,60, by = 10)) +\n",
    "labs(y = \"H score CD8\")"
   ]
  },
  {
   "cell_type": "code",
   "execution_count": 49,
   "metadata": {},
   "outputs": [
    {
     "data": {
      "image/png": "[encoded data removed]",
      "text/plain": [
       "plot without title"
      ]
     },
     "metadata": {
      "image/png": {
       "height": 420,
       "width": 420
      }
     },
     "output_type": "display_data"
    }
   ],
   "source": [
    "plotcd8"
   ]
  },
  {
   "cell_type": "code",
   "execution_count": 50,
   "metadata": {},
   "outputs": [],
   "source": [
    "plotcd19 <- ggplot() +\n",
    "geom_boxplot(data = cd19ihc_subset, aes(x = type ,y = H.score), size = 1, fill = \"light grey\") +\n",
    "theme(legend.position = \"bottom\", legend.title = element_blank()) +\n",
    "theme(axis.title.x = element_blank(), axis.title = element_text(size = 35),\n",
    "      axis.line = element_line(color = \"black\"),\n",
    "      axis.text.x = element_text(angle = 45, hjust = 1, size = 35, color = \"black\"),\n",
    "      axis.text.y = element_text(size = 35, color = \"black\")) +\n",
    "myplot +\n",
    "scale_y_continuous(breaks = seq(0,60, by = 10)) +\n",
    "labs(y = \"H score CD19\")"
   ]
  },
  {
   "cell_type": "code",
   "execution_count": 51,
   "metadata": {},
   "outputs": [
    {
     "data": {
      "image/png": "[encoded data removed]",
      "text/plain": [
       "plot without title"
      ]
     },
     "metadata": {
      "image/png": {
       "height": 420,
       "width": 420
      }
     },
     "output_type": "display_data"
    }
   ],
   "source": [
    "plotcd19"
   ]
  },
  {
   "cell_type": "code",
   "execution_count": 52,
   "metadata": {},
   "outputs": [
    {
     "data": {
      "text/html": [
       "<strong>pdf:</strong> 2"
      ],
      "text/latex": [
       "\\textbf{pdf:} 2"
      ],
      "text/markdown": [
       "**pdf:** 2"
      ],
      "text/plain": [
       "pdf \n",
       "  2 "
      ]
     },
     "metadata": {},
     "output_type": "display_data"
    }
   ],
   "source": [
    "\n",
    "    pdf(file = paste0(plotpath,\"CD19_H_plot.pdf\"),\n",
    "        width = 10, \n",
    "        height = 10,\n",
    "        useDingbats = FALSE)\n",
    "    print(plotcd19)\n",
    "    dev.off()\n"
   ]
  },
  {
   "cell_type": "code",
   "execution_count": 53,
   "metadata": {},
   "outputs": [
    {
     "data": {
      "text/html": [
       "<strong>pdf:</strong> 2"
      ],
      "text/latex": [
       "\\textbf{pdf:} 2"
      ],
      "text/markdown": [
       "**pdf:** 2"
      ],
      "text/plain": [
       "pdf \n",
       "  2 "
      ]
     },
     "metadata": {},
     "output_type": "display_data"
    }
   ],
   "source": [
    "\n",
    "    pdf(file = paste0(plotpath,\"CD8_H_plot.pdf\"),\n",
    "        width = 10, \n",
    "        height = 10,\n",
    "        useDingbats = FALSE)\n",
    "    print(plotcd8)\n",
    "    dev.off()\n"
   ]
  },
  {
   "cell_type": "code",
   "execution_count": 54,
   "metadata": {},
   "outputs": [
    {
     "data": {
      "text/html": [
       "<strong>pdf:</strong> 2"
      ],
      "text/latex": [
       "\\textbf{pdf:} 2"
      ],
      "text/markdown": [
       "**pdf:** 2"
      ],
      "text/plain": [
       "pdf \n",
       "  2 "
      ]
     },
     "metadata": {},
     "output_type": "display_data"
    }
   ],
   "source": [
    "    pdf(file = paste0(plotpath,\"CD4_H_plot.pdf\"),\n",
    "        width = 10, \n",
    "        height = 10,\n",
    "        useDingbats = FALSE)\n",
    "    print(plotcd4)\n",
    "    dev.off()\n"
   ]
  },
  {
   "cell_type": "code",
   "execution_count": null,
   "metadata": {},
   "outputs": [],
   "source": []
  }
 ],
 "metadata": {
  "kernelspec": {
   "display_name": "R 4.0",
   "language": "R",
   "name": "ir40"
  },
  "language_info": {
   "codemirror_mode": "r",
   "file_extension": ".r",
   "mimetype": "text/x-r-source",
   "name": "R",
   "pygments_lexer": "r",
   "version": "4.0.3"
  },
  "toc": {
   "base_numbering": 1,
   "nav_menu": {},
   "number_sections": false,
   "sideBar": true,
   "skip_h1_title": false,
   "title_cell": "Table of Contents",
   "title_sidebar": "Contents",
   "toc_cell": true,
   "toc_position": {
    "height": "calc(100% - 180px)",
    "left": "10px",
    "top": "150px",
    "width": "284px"
   },
   "toc_section_display": true,
   "toc_window_display": true
  }
 },
 "nbformat": 4,
 "nbformat_minor": 2
}
