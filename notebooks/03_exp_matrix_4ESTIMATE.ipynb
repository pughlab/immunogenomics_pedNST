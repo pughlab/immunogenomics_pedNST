{
 "cells": [
  {
   "cell_type": "markdown",
   "metadata": {
    "toc": true
   },
   "source": [
    "<h1>Table of Contents<span class=\"tocSkip\"></span></h1>\n",
    "<div class=\"toc\"><ul class=\"toc-item\"><li><span><a href=\"#Dependencies\" data-toc-modified-id=\"Dependencies-1\">Dependencies</a></span></li><li><span><a href=\"#Functions\" data-toc-modified-id=\"Functions-2\">Functions</a></span></li><li><span><a href=\"#Paths\" data-toc-modified-id=\"Paths-3\">Paths</a></span></li><li><span><a href=\"#Main\" data-toc-modified-id=\"Main-4\">Main</a></span><ul class=\"toc-item\"><li><span><a href=\"#CBTTC\" data-toc-modified-id=\"CBTTC-4.1\">CBTTC</a></span></li><li><span><a href=\"#KF_NBL\" data-toc-modified-id=\"KF_NBL-4.2\">KF_NBL</a></span></li></ul></li></ul></div>"
   ]
  },
  {
   "cell_type": "markdown",
   "metadata": {},
   "source": [
    "# Dependencies"
   ]
  },
  {
   "cell_type": "code",
   "execution_count": 1,
   "metadata": {
    "scrolled": true
   },
   "outputs": [],
   "source": [
    "library(tidyr)"
   ]
  },
  {
   "cell_type": "markdown",
   "metadata": {},
   "source": [
    "# Functions"
   ]
  },
  {
   "cell_type": "code",
   "execution_count": 3,
   "metadata": {},
   "outputs": [],
   "source": [
    "matchexp_matrixfx <- function(exp_matrix, estimate_manifest, group, sample_type, matchingcol){\n",
    "    \n",
    "    message(\"dimensions of exp_matrix: \", deparse(substitute(exp_matrix)))\n",
    "    print(dim(exp_matrix))\n",
    "    \n",
    "    subset_estimate_manifest <- estimate_manifest[estimate_manifest$group == group,]\n",
    "    subset_estimate_manifest_sampletype <- subset_estimate_manifest[grepl(sample_type,\n",
    "                                                                    subset_estimate_manifest$sample_type),]\n",
    "    \n",
    "    message(\"dimensions of estimate_manifest_df for: \", group, \" sample_type:\", sample_type)\n",
    "    print(dim(subset_estimate_manifest_sampletype))\n",
    "    \n",
    "    exp_matrix_matchingset <- exp_matrix[,colnames(exp_matrix) %in% \n",
    "                                         subset_estimate_manifest_sampletype[[matchingcol]]]\n",
    "    \n",
    "    message(\"dimensions of exp_matrix_matchingset for: \", deparse(substitute(exp_matrix)), \n",
    "            \" with matching column: \", matchingcol)\n",
    "    print(dim(exp_matrix_matchingset))\n",
    "    \n",
    "    exp_matrix_matchingset <- cbind(exp_matrix[,1:2], exp_matrix_matchingset)\n",
    "\n",
    "    return(exp_matrix_matchingset)\n",
    "}"
   ]
  },
  {
   "cell_type": "code",
   "execution_count": 4,
   "metadata": {},
   "outputs": [],
   "source": [
    "longtowidefx <- function(long_exp_matrix){\n",
    "    \n",
    "    wide_exp_matrix <- spread(long_exp_matrix, key = \"sample\", value = \"tpm\")\n",
    "    \n",
    "    return(wide_exp_matrix)\n",
    "}"
   ]
  },
  {
   "cell_type": "markdown",
   "metadata": {},
   "source": [
    "# Paths"
   ]
  },
  {
   "cell_type": "code",
   "execution_count": 5,
   "metadata": {},
   "outputs": [],
   "source": [
    "manifestpath <- \"/Users/anabbi/OneDrive - UHN/Documents/IPD2/Manifests/\"\n",
    "datapath <- \"/Users/anabbi/OneDrive - UHN/Documents/IPD2/Data/\"\n",
    "plotpath <- \"/Users/anabbi/OneDrive - UHN/Documents/IPD2/Plots/\""
   ]
  },
  {
   "cell_type": "markdown",
   "metadata": {},
   "source": [
    "# Main"
   ]
  },
  {
   "cell_type": "markdown",
   "metadata": {},
   "source": [
    "## CBTTC"
   ]
  },
  {
   "cell_type": "markdown",
   "metadata": {},
   "source": [
    "From Cavatica"
   ]
  },
  {
   "cell_type": "code",
   "execution_count": 6,
   "metadata": {},
   "outputs": [],
   "source": [
    "CBTTCtpm <- read.table(paste0(datapath, \"exp_mat/KF_CBTTC_tpm_rsem_matrix.txt_sampleid.txt\"), sep = \"\\t\",\n",
    "                    header = TRUE, stringsAsFactors = FALSE, check.names = F)"
   ]
  },
  {
   "cell_type": "code",
   "execution_count": 7,
   "metadata": {},
   "outputs": [
    {
     "data": {
      "text/html": [
       "<table class=\"dataframe\">\n",
       "<caption>A data.frame: 6 × 970</caption>\n",
       "<thead>\n",
       "\t<tr><th></th><th scope=col></th><th scope=col>7316-2599</th><th scope=col>7316-1926</th><th scope=col>7316-489</th><th scope=col>7316-16</th><th scope=col>7316-13</th><th scope=col>7316-3936</th><th scope=col>7316-3632</th><th scope=col>7316-873</th><th scope=col>7316-2669</th><th scope=col>⋯</th><th scope=col>7316-2589</th><th scope=col>7316-395</th><th scope=col>7316-1785</th><th scope=col>7316-2744</th><th scope=col>7316-1116</th><th scope=col>7316-333</th><th scope=col>7316-775</th><th scope=col>7316-96</th><th scope=col>7316-1750</th><th scope=col>7316-3963</th></tr>\n",
       "\t<tr><th></th><th scope=col>&lt;chr&gt;</th><th scope=col>&lt;dbl&gt;</th><th scope=col>&lt;dbl&gt;</th><th scope=col>&lt;dbl&gt;</th><th scope=col>&lt;dbl&gt;</th><th scope=col>&lt;dbl&gt;</th><th scope=col>&lt;dbl&gt;</th><th scope=col>&lt;dbl&gt;</th><th scope=col>&lt;dbl&gt;</th><th scope=col>&lt;dbl&gt;</th><th scope=col>⋯</th><th scope=col>&lt;dbl&gt;</th><th scope=col>&lt;dbl&gt;</th><th scope=col>&lt;dbl&gt;</th><th scope=col>&lt;dbl&gt;</th><th scope=col>&lt;dbl&gt;</th><th scope=col>&lt;dbl&gt;</th><th scope=col>&lt;dbl&gt;</th><th scope=col>&lt;dbl&gt;</th><th scope=col>&lt;dbl&gt;</th><th scope=col>&lt;dbl&gt;</th></tr>\n",
       "</thead>\n",
       "<tbody>\n",
       "\t<tr><th scope=row>1</th><td>ENSG00000000003.14_TSPAN6  </td><td>10.99</td><td>8.66</td><td>6.15</td><td>2.40</td><td>0.73</td><td>1.50</td><td>1.88</td><td>29.41</td><td>4.62</td><td>⋯</td><td>2.36</td><td>2.76</td><td>12.78</td><td>11.24</td><td>7.41</td><td>29.74</td><td>3.04</td><td>5.81</td><td>2.59</td><td>1.38</td></tr>\n",
       "\t<tr><th scope=row>2</th><td>ENSG00000000005.5_TNMD     </td><td> 0.18</td><td>0.02</td><td>0.03</td><td>0.02</td><td>0.02</td><td>0.01</td><td>0.03</td><td> 0.33</td><td>0.03</td><td>⋯</td><td>0.00</td><td>0.02</td><td> 0.01</td><td> 0.53</td><td>0.01</td><td> 0.02</td><td>0.00</td><td>0.01</td><td>0.01</td><td>0.00</td></tr>\n",
       "\t<tr><th scope=row>3</th><td>ENSG00000000419.12_DPM1    </td><td> 4.95</td><td>6.15</td><td>5.09</td><td>3.35</td><td>1.09</td><td>3.68</td><td>3.27</td><td> 4.89</td><td>4.75</td><td>⋯</td><td>2.26</td><td>2.37</td><td> 8.97</td><td> 4.07</td><td>8.08</td><td>29.66</td><td>2.58</td><td>7.43</td><td>3.14</td><td>2.83</td></tr>\n",
       "\t<tr><th scope=row>4</th><td>ENSG00000000457.13_SCYL3   </td><td> 1.50</td><td>1.75</td><td>1.71</td><td>0.90</td><td>0.44</td><td>1.44</td><td>0.89</td><td> 1.52</td><td>1.61</td><td>⋯</td><td>0.65</td><td>0.68</td><td> 1.43</td><td> 1.38</td><td>2.05</td><td> 9.99</td><td>1.52</td><td>2.62</td><td>1.40</td><td>0.71</td></tr>\n",
       "\t<tr><th scope=row>5</th><td>ENSG00000000460.16_C1orf112</td><td> 1.70</td><td>1.12</td><td>2.78</td><td>0.34</td><td>0.43</td><td>0.71</td><td>0.57</td><td> 1.00</td><td>1.64</td><td>⋯</td><td>0.45</td><td>0.50</td><td> 4.22</td><td> 0.71</td><td>0.98</td><td> 7.38</td><td>0.82</td><td>1.69</td><td>1.08</td><td>0.65</td></tr>\n",
       "\t<tr><th scope=row>6</th><td>ENSG00000000938.12_FGR     </td><td> 1.27</td><td>0.90</td><td>0.18</td><td>1.12</td><td>0.36</td><td>1.32</td><td>1.05</td><td> 0.93</td><td>1.01</td><td>⋯</td><td>0.36</td><td>3.15</td><td> 3.78</td><td> 0.44</td><td>1.51</td><td> 2.06</td><td>0.19</td><td>0.53</td><td>1.54</td><td>5.57</td></tr>\n",
       "</tbody>\n",
       "</table>\n"
      ],
      "text/latex": [
       "A data.frame: 6 × 970\n",
       "\\begin{tabular}{r|lllllllllllllllllllll}\n",
       "  &  & 7316-2599 & 7316-1926 & 7316-489 & 7316-16 & 7316-13 & 7316-3936 & 7316-3632 & 7316-873 & 7316-2669 & ⋯ & 7316-2589 & 7316-395 & 7316-1785 & 7316-2744 & 7316-1116 & 7316-333 & 7316-775 & 7316-96 & 7316-1750 & 7316-3963\\\\\n",
       "  & <chr> & <dbl> & <dbl> & <dbl> & <dbl> & <dbl> & <dbl> & <dbl> & <dbl> & <dbl> & ⋯ & <dbl> & <dbl> & <dbl> & <dbl> & <dbl> & <dbl> & <dbl> & <dbl> & <dbl> & <dbl>\\\\\n",
       "\\hline\n",
       "\t1 & ENSG00000000003.14\\_TSPAN6   & 10.99 & 8.66 & 6.15 & 2.40 & 0.73 & 1.50 & 1.88 & 29.41 & 4.62 & ⋯ & 2.36 & 2.76 & 12.78 & 11.24 & 7.41 & 29.74 & 3.04 & 5.81 & 2.59 & 1.38\\\\\n",
       "\t2 & ENSG00000000005.5\\_TNMD      &  0.18 & 0.02 & 0.03 & 0.02 & 0.02 & 0.01 & 0.03 &  0.33 & 0.03 & ⋯ & 0.00 & 0.02 &  0.01 &  0.53 & 0.01 &  0.02 & 0.00 & 0.01 & 0.01 & 0.00\\\\\n",
       "\t3 & ENSG00000000419.12\\_DPM1     &  4.95 & 6.15 & 5.09 & 3.35 & 1.09 & 3.68 & 3.27 &  4.89 & 4.75 & ⋯ & 2.26 & 2.37 &  8.97 &  4.07 & 8.08 & 29.66 & 2.58 & 7.43 & 3.14 & 2.83\\\\\n",
       "\t4 & ENSG00000000457.13\\_SCYL3    &  1.50 & 1.75 & 1.71 & 0.90 & 0.44 & 1.44 & 0.89 &  1.52 & 1.61 & ⋯ & 0.65 & 0.68 &  1.43 &  1.38 & 2.05 &  9.99 & 1.52 & 2.62 & 1.40 & 0.71\\\\\n",
       "\t5 & ENSG00000000460.16\\_C1orf112 &  1.70 & 1.12 & 2.78 & 0.34 & 0.43 & 0.71 & 0.57 &  1.00 & 1.64 & ⋯ & 0.45 & 0.50 &  4.22 &  0.71 & 0.98 &  7.38 & 0.82 & 1.69 & 1.08 & 0.65\\\\\n",
       "\t6 & ENSG00000000938.12\\_FGR      &  1.27 & 0.90 & 0.18 & 1.12 & 0.36 & 1.32 & 1.05 &  0.93 & 1.01 & ⋯ & 0.36 & 3.15 &  3.78 &  0.44 & 1.51 &  2.06 & 0.19 & 0.53 & 1.54 & 5.57\\\\\n",
       "\\end{tabular}\n"
      ],
      "text/markdown": [
       "\n",
       "A data.frame: 6 × 970\n",
       "\n",
       "| <!--/--> | <!----> &lt;chr&gt; | 7316-2599 &lt;dbl&gt; | 7316-1926 &lt;dbl&gt; | 7316-489 &lt;dbl&gt; | 7316-16 &lt;dbl&gt; | 7316-13 &lt;dbl&gt; | 7316-3936 &lt;dbl&gt; | 7316-3632 &lt;dbl&gt; | 7316-873 &lt;dbl&gt; | 7316-2669 &lt;dbl&gt; | ⋯ ⋯ | 7316-2589 &lt;dbl&gt; | 7316-395 &lt;dbl&gt; | 7316-1785 &lt;dbl&gt; | 7316-2744 &lt;dbl&gt; | 7316-1116 &lt;dbl&gt; | 7316-333 &lt;dbl&gt; | 7316-775 &lt;dbl&gt; | 7316-96 &lt;dbl&gt; | 7316-1750 &lt;dbl&gt; | 7316-3963 &lt;dbl&gt; |\n",
       "|---|---|---|---|---|---|---|---|---|---|---|---|---|---|---|---|---|---|---|---|---|---|\n",
       "| 1 | ENSG00000000003.14_TSPAN6   | 10.99 | 8.66 | 6.15 | 2.40 | 0.73 | 1.50 | 1.88 | 29.41 | 4.62 | ⋯ | 2.36 | 2.76 | 12.78 | 11.24 | 7.41 | 29.74 | 3.04 | 5.81 | 2.59 | 1.38 |\n",
       "| 2 | ENSG00000000005.5_TNMD      |  0.18 | 0.02 | 0.03 | 0.02 | 0.02 | 0.01 | 0.03 |  0.33 | 0.03 | ⋯ | 0.00 | 0.02 |  0.01 |  0.53 | 0.01 |  0.02 | 0.00 | 0.01 | 0.01 | 0.00 |\n",
       "| 3 | ENSG00000000419.12_DPM1     |  4.95 | 6.15 | 5.09 | 3.35 | 1.09 | 3.68 | 3.27 |  4.89 | 4.75 | ⋯ | 2.26 | 2.37 |  8.97 |  4.07 | 8.08 | 29.66 | 2.58 | 7.43 | 3.14 | 2.83 |\n",
       "| 4 | ENSG00000000457.13_SCYL3    |  1.50 | 1.75 | 1.71 | 0.90 | 0.44 | 1.44 | 0.89 |  1.52 | 1.61 | ⋯ | 0.65 | 0.68 |  1.43 |  1.38 | 2.05 |  9.99 | 1.52 | 2.62 | 1.40 | 0.71 |\n",
       "| 5 | ENSG00000000460.16_C1orf112 |  1.70 | 1.12 | 2.78 | 0.34 | 0.43 | 0.71 | 0.57 |  1.00 | 1.64 | ⋯ | 0.45 | 0.50 |  4.22 |  0.71 | 0.98 |  7.38 | 0.82 | 1.69 | 1.08 | 0.65 |\n",
       "| 6 | ENSG00000000938.12_FGR      |  1.27 | 0.90 | 0.18 | 1.12 | 0.36 | 1.32 | 1.05 |  0.93 | 1.01 | ⋯ | 0.36 | 3.15 |  3.78 |  0.44 | 1.51 |  2.06 | 0.19 | 0.53 | 1.54 | 5.57 |\n",
       "\n"
      ],
      "text/plain": [
       "                              7316-2599 7316-1926 7316-489 7316-16 7316-13\n",
       "1 ENSG00000000003.14_TSPAN6   10.99     8.66      6.15     2.40    0.73   \n",
       "2 ENSG00000000005.5_TNMD       0.18     0.02      0.03     0.02    0.02   \n",
       "3 ENSG00000000419.12_DPM1      4.95     6.15      5.09     3.35    1.09   \n",
       "4 ENSG00000000457.13_SCYL3     1.50     1.75      1.71     0.90    0.44   \n",
       "5 ENSG00000000460.16_C1orf112  1.70     1.12      2.78     0.34    0.43   \n",
       "6 ENSG00000000938.12_FGR       1.27     0.90      0.18     1.12    0.36   \n",
       "  7316-3936 7316-3632 7316-873 7316-2669 ⋯ 7316-2589 7316-395 7316-1785\n",
       "1 1.50      1.88      29.41    4.62      ⋯ 2.36      2.76     12.78    \n",
       "2 0.01      0.03       0.33    0.03      ⋯ 0.00      0.02      0.01    \n",
       "3 3.68      3.27       4.89    4.75      ⋯ 2.26      2.37      8.97    \n",
       "4 1.44      0.89       1.52    1.61      ⋯ 0.65      0.68      1.43    \n",
       "5 0.71      0.57       1.00    1.64      ⋯ 0.45      0.50      4.22    \n",
       "6 1.32      1.05       0.93    1.01      ⋯ 0.36      3.15      3.78    \n",
       "  7316-2744 7316-1116 7316-333 7316-775 7316-96 7316-1750 7316-3963\n",
       "1 11.24     7.41      29.74    3.04     5.81    2.59      1.38     \n",
       "2  0.53     0.01       0.02    0.00     0.01    0.01      0.00     \n",
       "3  4.07     8.08      29.66    2.58     7.43    3.14      2.83     \n",
       "4  1.38     2.05       9.99    1.52     2.62    1.40      0.71     \n",
       "5  0.71     0.98       7.38    0.82     1.69    1.08      0.65     \n",
       "6  0.44     1.51       2.06    0.19     0.53    1.54      5.57     "
      ]
     },
     "metadata": {},
     "output_type": "display_data"
    }
   ],
   "source": [
    "head(CBTTCtpm)"
   ]
  },
  {
   "cell_type": "code",
   "execution_count": 8,
   "metadata": {},
   "outputs": [],
   "source": [
    "CBTTCtpm <- cbind(NA, NA, CBTTCtpm)\n",
    "colnames(CBTTCtpm)[1:2] <- c(\"ensembl_id\", \"hgnc_symbol\")"
   ]
  },
  {
   "cell_type": "code",
   "execution_count": 9,
   "metadata": {},
   "outputs": [],
   "source": [
    "CBTTCtpm$hgnc_symbol <- gsub(\".*_\", \"\", CBTTCtpm$`Var.3`)\n",
    "CBTTCtpm$ensembl_id <- gsub(\"_.*\", \"\", CBTTCtpm$`Var.3`)\n",
    "CBTTCtpm$`Var.3` <- NULL"
   ]
  },
  {
   "cell_type": "code",
   "execution_count": 14,
   "metadata": {},
   "outputs": [
    {
     "data": {
      "text/html": [
       "<style>\n",
       ".list-inline {list-style: none; margin:0; padding: 0}\n",
       ".list-inline>li {display: inline-block}\n",
       ".list-inline>li:not(:last-child)::after {content: \"\\00b7\"; padding: 0 .5ex}\n",
       "</style>\n",
       "<ol class=list-inline><li>56505</li><li>971</li></ol>\n"
      ],
      "text/latex": [
       "\\begin{enumerate*}\n",
       "\\item 56505\n",
       "\\item 971\n",
       "\\end{enumerate*}\n"
      ],
      "text/markdown": [
       "1. 56505\n",
       "2. 971\n",
       "\n",
       "\n"
      ],
      "text/plain": [
       "[1] 56505   971"
      ]
     },
     "metadata": {},
     "output_type": "display_data"
    }
   ],
   "source": [
    "dim(CBTTCtpm)"
   ]
  },
  {
   "cell_type": "code",
   "execution_count": 15,
   "metadata": {},
   "outputs": [],
   "source": [
    "CBTTCtpm <- CBTTCtpm[!duplicated(CBTTCtpm$hgnc_symbol),]"
   ]
  },
  {
   "cell_type": "code",
   "execution_count": 16,
   "metadata": {},
   "outputs": [
    {
     "data": {
      "text/html": [
       "<style>\n",
       ".list-inline {list-style: none; margin:0; padding: 0}\n",
       ".list-inline>li {display: inline-block}\n",
       ".list-inline>li:not(:last-child)::after {content: \"\\00b7\"; padding: 0 .5ex}\n",
       "</style>\n",
       "<ol class=list-inline><li>56505</li><li>971</li></ol>\n"
      ],
      "text/latex": [
       "\\begin{enumerate*}\n",
       "\\item 56505\n",
       "\\item 971\n",
       "\\end{enumerate*}\n"
      ],
      "text/markdown": [
       "1. 56505\n",
       "2. 971\n",
       "\n",
       "\n"
      ],
      "text/plain": [
       "[1] 56505   971"
      ]
     },
     "metadata": {},
     "output_type": "display_data"
    }
   ],
   "source": [
    "dim(CBTTCtpm)"
   ]
  },
  {
   "cell_type": "code",
   "execution_count": 17,
   "metadata": {},
   "outputs": [
    {
     "data": {
      "text/html": [
       "<table class=\"dataframe\">\n",
       "<caption>A data.frame: 6 × 971</caption>\n",
       "<thead>\n",
       "\t<tr><th></th><th scope=col>ensembl_id</th><th scope=col>hgnc_symbol</th><th scope=col>7316-2599</th><th scope=col>7316-1926</th><th scope=col>7316-489</th><th scope=col>7316-16</th><th scope=col>7316-13</th><th scope=col>7316-3936</th><th scope=col>7316-3632</th><th scope=col>7316-873</th><th scope=col>⋯</th><th scope=col>7316-2589</th><th scope=col>7316-395</th><th scope=col>7316-1785</th><th scope=col>7316-2744</th><th scope=col>7316-1116</th><th scope=col>7316-333</th><th scope=col>7316-775</th><th scope=col>7316-96</th><th scope=col>7316-1750</th><th scope=col>7316-3963</th></tr>\n",
       "\t<tr><th></th><th scope=col>&lt;chr&gt;</th><th scope=col>&lt;chr&gt;</th><th scope=col>&lt;dbl&gt;</th><th scope=col>&lt;dbl&gt;</th><th scope=col>&lt;dbl&gt;</th><th scope=col>&lt;dbl&gt;</th><th scope=col>&lt;dbl&gt;</th><th scope=col>&lt;dbl&gt;</th><th scope=col>&lt;dbl&gt;</th><th scope=col>&lt;dbl&gt;</th><th scope=col>⋯</th><th scope=col>&lt;dbl&gt;</th><th scope=col>&lt;dbl&gt;</th><th scope=col>&lt;dbl&gt;</th><th scope=col>&lt;dbl&gt;</th><th scope=col>&lt;dbl&gt;</th><th scope=col>&lt;dbl&gt;</th><th scope=col>&lt;dbl&gt;</th><th scope=col>&lt;dbl&gt;</th><th scope=col>&lt;dbl&gt;</th><th scope=col>&lt;dbl&gt;</th></tr>\n",
       "</thead>\n",
       "<tbody>\n",
       "\t<tr><th scope=row>1</th><td>ENSG00000000003.14</td><td>TSPAN6  </td><td>10.99</td><td>8.66</td><td>6.15</td><td>2.40</td><td>0.73</td><td>1.50</td><td>1.88</td><td>29.41</td><td>⋯</td><td>2.36</td><td>2.76</td><td>12.78</td><td>11.24</td><td>7.41</td><td>29.74</td><td>3.04</td><td>5.81</td><td>2.59</td><td>1.38</td></tr>\n",
       "\t<tr><th scope=row>2</th><td>ENSG00000000005.5 </td><td>TNMD    </td><td> 0.18</td><td>0.02</td><td>0.03</td><td>0.02</td><td>0.02</td><td>0.01</td><td>0.03</td><td> 0.33</td><td>⋯</td><td>0.00</td><td>0.02</td><td> 0.01</td><td> 0.53</td><td>0.01</td><td> 0.02</td><td>0.00</td><td>0.01</td><td>0.01</td><td>0.00</td></tr>\n",
       "\t<tr><th scope=row>3</th><td>ENSG00000000419.12</td><td>DPM1    </td><td> 4.95</td><td>6.15</td><td>5.09</td><td>3.35</td><td>1.09</td><td>3.68</td><td>3.27</td><td> 4.89</td><td>⋯</td><td>2.26</td><td>2.37</td><td> 8.97</td><td> 4.07</td><td>8.08</td><td>29.66</td><td>2.58</td><td>7.43</td><td>3.14</td><td>2.83</td></tr>\n",
       "\t<tr><th scope=row>4</th><td>ENSG00000000457.13</td><td>SCYL3   </td><td> 1.50</td><td>1.75</td><td>1.71</td><td>0.90</td><td>0.44</td><td>1.44</td><td>0.89</td><td> 1.52</td><td>⋯</td><td>0.65</td><td>0.68</td><td> 1.43</td><td> 1.38</td><td>2.05</td><td> 9.99</td><td>1.52</td><td>2.62</td><td>1.40</td><td>0.71</td></tr>\n",
       "\t<tr><th scope=row>5</th><td>ENSG00000000460.16</td><td>C1orf112</td><td> 1.70</td><td>1.12</td><td>2.78</td><td>0.34</td><td>0.43</td><td>0.71</td><td>0.57</td><td> 1.00</td><td>⋯</td><td>0.45</td><td>0.50</td><td> 4.22</td><td> 0.71</td><td>0.98</td><td> 7.38</td><td>0.82</td><td>1.69</td><td>1.08</td><td>0.65</td></tr>\n",
       "\t<tr><th scope=row>6</th><td>ENSG00000000938.12</td><td>FGR     </td><td> 1.27</td><td>0.90</td><td>0.18</td><td>1.12</td><td>0.36</td><td>1.32</td><td>1.05</td><td> 0.93</td><td>⋯</td><td>0.36</td><td>3.15</td><td> 3.78</td><td> 0.44</td><td>1.51</td><td> 2.06</td><td>0.19</td><td>0.53</td><td>1.54</td><td>5.57</td></tr>\n",
       "</tbody>\n",
       "</table>\n"
      ],
      "text/latex": [
       "A data.frame: 6 × 971\n",
       "\\begin{tabular}{r|lllllllllllllllllllll}\n",
       "  & ensembl\\_id & hgnc\\_symbol & 7316-2599 & 7316-1926 & 7316-489 & 7316-16 & 7316-13 & 7316-3936 & 7316-3632 & 7316-873 & ⋯ & 7316-2589 & 7316-395 & 7316-1785 & 7316-2744 & 7316-1116 & 7316-333 & 7316-775 & 7316-96 & 7316-1750 & 7316-3963\\\\\n",
       "  & <chr> & <chr> & <dbl> & <dbl> & <dbl> & <dbl> & <dbl> & <dbl> & <dbl> & <dbl> & ⋯ & <dbl> & <dbl> & <dbl> & <dbl> & <dbl> & <dbl> & <dbl> & <dbl> & <dbl> & <dbl>\\\\\n",
       "\\hline\n",
       "\t1 & ENSG00000000003.14 & TSPAN6   & 10.99 & 8.66 & 6.15 & 2.40 & 0.73 & 1.50 & 1.88 & 29.41 & ⋯ & 2.36 & 2.76 & 12.78 & 11.24 & 7.41 & 29.74 & 3.04 & 5.81 & 2.59 & 1.38\\\\\n",
       "\t2 & ENSG00000000005.5  & TNMD     &  0.18 & 0.02 & 0.03 & 0.02 & 0.02 & 0.01 & 0.03 &  0.33 & ⋯ & 0.00 & 0.02 &  0.01 &  0.53 & 0.01 &  0.02 & 0.00 & 0.01 & 0.01 & 0.00\\\\\n",
       "\t3 & ENSG00000000419.12 & DPM1     &  4.95 & 6.15 & 5.09 & 3.35 & 1.09 & 3.68 & 3.27 &  4.89 & ⋯ & 2.26 & 2.37 &  8.97 &  4.07 & 8.08 & 29.66 & 2.58 & 7.43 & 3.14 & 2.83\\\\\n",
       "\t4 & ENSG00000000457.13 & SCYL3    &  1.50 & 1.75 & 1.71 & 0.90 & 0.44 & 1.44 & 0.89 &  1.52 & ⋯ & 0.65 & 0.68 &  1.43 &  1.38 & 2.05 &  9.99 & 1.52 & 2.62 & 1.40 & 0.71\\\\\n",
       "\t5 & ENSG00000000460.16 & C1orf112 &  1.70 & 1.12 & 2.78 & 0.34 & 0.43 & 0.71 & 0.57 &  1.00 & ⋯ & 0.45 & 0.50 &  4.22 &  0.71 & 0.98 &  7.38 & 0.82 & 1.69 & 1.08 & 0.65\\\\\n",
       "\t6 & ENSG00000000938.12 & FGR      &  1.27 & 0.90 & 0.18 & 1.12 & 0.36 & 1.32 & 1.05 &  0.93 & ⋯ & 0.36 & 3.15 &  3.78 &  0.44 & 1.51 &  2.06 & 0.19 & 0.53 & 1.54 & 5.57\\\\\n",
       "\\end{tabular}\n"
      ],
      "text/markdown": [
       "\n",
       "A data.frame: 6 × 971\n",
       "\n",
       "| <!--/--> | ensembl_id &lt;chr&gt; | hgnc_symbol &lt;chr&gt; | 7316-2599 &lt;dbl&gt; | 7316-1926 &lt;dbl&gt; | 7316-489 &lt;dbl&gt; | 7316-16 &lt;dbl&gt; | 7316-13 &lt;dbl&gt; | 7316-3936 &lt;dbl&gt; | 7316-3632 &lt;dbl&gt; | 7316-873 &lt;dbl&gt; | ⋯ ⋯ | 7316-2589 &lt;dbl&gt; | 7316-395 &lt;dbl&gt; | 7316-1785 &lt;dbl&gt; | 7316-2744 &lt;dbl&gt; | 7316-1116 &lt;dbl&gt; | 7316-333 &lt;dbl&gt; | 7316-775 &lt;dbl&gt; | 7316-96 &lt;dbl&gt; | 7316-1750 &lt;dbl&gt; | 7316-3963 &lt;dbl&gt; |\n",
       "|---|---|---|---|---|---|---|---|---|---|---|---|---|---|---|---|---|---|---|---|---|---|\n",
       "| 1 | ENSG00000000003.14 | TSPAN6   | 10.99 | 8.66 | 6.15 | 2.40 | 0.73 | 1.50 | 1.88 | 29.41 | ⋯ | 2.36 | 2.76 | 12.78 | 11.24 | 7.41 | 29.74 | 3.04 | 5.81 | 2.59 | 1.38 |\n",
       "| 2 | ENSG00000000005.5  | TNMD     |  0.18 | 0.02 | 0.03 | 0.02 | 0.02 | 0.01 | 0.03 |  0.33 | ⋯ | 0.00 | 0.02 |  0.01 |  0.53 | 0.01 |  0.02 | 0.00 | 0.01 | 0.01 | 0.00 |\n",
       "| 3 | ENSG00000000419.12 | DPM1     |  4.95 | 6.15 | 5.09 | 3.35 | 1.09 | 3.68 | 3.27 |  4.89 | ⋯ | 2.26 | 2.37 |  8.97 |  4.07 | 8.08 | 29.66 | 2.58 | 7.43 | 3.14 | 2.83 |\n",
       "| 4 | ENSG00000000457.13 | SCYL3    |  1.50 | 1.75 | 1.71 | 0.90 | 0.44 | 1.44 | 0.89 |  1.52 | ⋯ | 0.65 | 0.68 |  1.43 |  1.38 | 2.05 |  9.99 | 1.52 | 2.62 | 1.40 | 0.71 |\n",
       "| 5 | ENSG00000000460.16 | C1orf112 |  1.70 | 1.12 | 2.78 | 0.34 | 0.43 | 0.71 | 0.57 |  1.00 | ⋯ | 0.45 | 0.50 |  4.22 |  0.71 | 0.98 |  7.38 | 0.82 | 1.69 | 1.08 | 0.65 |\n",
       "| 6 | ENSG00000000938.12 | FGR      |  1.27 | 0.90 | 0.18 | 1.12 | 0.36 | 1.32 | 1.05 |  0.93 | ⋯ | 0.36 | 3.15 |  3.78 |  0.44 | 1.51 |  2.06 | 0.19 | 0.53 | 1.54 | 5.57 |\n",
       "\n"
      ],
      "text/plain": [
       "  ensembl_id         hgnc_symbol 7316-2599 7316-1926 7316-489 7316-16 7316-13\n",
       "1 ENSG00000000003.14 TSPAN6      10.99     8.66      6.15     2.40    0.73   \n",
       "2 ENSG00000000005.5  TNMD         0.18     0.02      0.03     0.02    0.02   \n",
       "3 ENSG00000000419.12 DPM1         4.95     6.15      5.09     3.35    1.09   \n",
       "4 ENSG00000000457.13 SCYL3        1.50     1.75      1.71     0.90    0.44   \n",
       "5 ENSG00000000460.16 C1orf112     1.70     1.12      2.78     0.34    0.43   \n",
       "6 ENSG00000000938.12 FGR          1.27     0.90      0.18     1.12    0.36   \n",
       "  7316-3936 7316-3632 7316-873 ⋯ 7316-2589 7316-395 7316-1785 7316-2744\n",
       "1 1.50      1.88      29.41    ⋯ 2.36      2.76     12.78     11.24    \n",
       "2 0.01      0.03       0.33    ⋯ 0.00      0.02      0.01      0.53    \n",
       "3 3.68      3.27       4.89    ⋯ 2.26      2.37      8.97      4.07    \n",
       "4 1.44      0.89       1.52    ⋯ 0.65      0.68      1.43      1.38    \n",
       "5 0.71      0.57       1.00    ⋯ 0.45      0.50      4.22      0.71    \n",
       "6 1.32      1.05       0.93    ⋯ 0.36      3.15      3.78      0.44    \n",
       "  7316-1116 7316-333 7316-775 7316-96 7316-1750 7316-3963\n",
       "1 7.41      29.74    3.04     5.81    2.59      1.38     \n",
       "2 0.01       0.02    0.00     0.01    0.01      0.00     \n",
       "3 8.08      29.66    2.58     7.43    3.14      2.83     \n",
       "4 2.05       9.99    1.52     2.62    1.40      0.71     \n",
       "5 0.98       7.38    0.82     1.69    1.08      0.65     \n",
       "6 1.51       2.06    0.19     0.53    1.54      5.57     "
      ]
     },
     "metadata": {},
     "output_type": "display_data"
    }
   ],
   "source": [
    "head(CBTTCtpm)"
   ]
  },
  {
   "cell_type": "code",
   "execution_count": 18,
   "metadata": {},
   "outputs": [],
   "source": [
    "write.table(CBTTCtpm,\n",
    "            file = paste0(datapath, \"exp_mat/CBTTC_tpm_matrix_dedup.txt\"),\n",
    "                sep = \"\\t\", quote = F, row.names = F)"
   ]
  },
  {
   "cell_type": "code",
   "execution_count": 19,
   "metadata": {},
   "outputs": [],
   "source": [
    "write.table(CBTTCtpm[,colnames(CBTTCtpm) !=\"ensembl_id\"],\n",
    "            file = paste0(datapath, \"exp_mat/CBTTC_tpm_matrix_dedup_hgnc.txt\"),\n",
    "                sep = \"\\t\", quote = F, row.names = F)"
   ]
  },
  {
   "cell_type": "markdown",
   "metadata": {},
   "source": [
    "## KF_NBL\n"
   ]
  },
  {
   "cell_type": "code",
   "execution_count": 20,
   "metadata": {},
   "outputs": [],
   "source": [
    "KF_NBLtpm <- read.table(paste0(datapath, \"exp_mat/KF_NBL_tpm_rsem_matrix.txt_sampleid.txt\"), sep = \"\\t\",\n",
    "                    header = TRUE, stringsAsFactors = FALSE, check.names = F)"
   ]
  },
  {
   "cell_type": "code",
   "execution_count": 21,
   "metadata": {},
   "outputs": [],
   "source": [
    "KF_NBLtpm <- cbind(NA, NA, KF_NBLtpm)\n",
    "colnames(KF_NBLtpm)[1:2] <- c(\"ensembl_id\", \"hgnc_symbol\")"
   ]
  },
  {
   "cell_type": "code",
   "execution_count": 22,
   "metadata": {},
   "outputs": [],
   "source": [
    "KF_NBLtpm$hgnc_symbol <- gsub(\".*_\", \"\", KF_NBLtpm$`Var.3`)\n",
    "KF_NBLtpm$ensembl_id <- gsub(\"_.*\", \"\", KF_NBLtpm$`Var.3`)\n",
    "KF_NBLtpm$`Var.3` <- NULL"
   ]
  },
  {
   "cell_type": "code",
   "execution_count": 23,
   "metadata": {},
   "outputs": [
    {
     "data": {
      "text/html": [
       "<table class=\"dataframe\">\n",
       "<caption>A data.frame: 6 × 211</caption>\n",
       "<thead>\n",
       "\t<tr><th></th><th scope=col>ensembl_id</th><th scope=col>hgnc_symbol</th><th scope=col>GMKF-30-PATSIJ03-01B-99R</th><th scope=col>GMKF-30-PASZJB03-01B-99R</th><th scope=col>GMKF-30-PASKRS03-01B-99R</th><th scope=col>GMKF-30-PAVNLK03-01A-01R</th><th scope=col>GMKF-30-PAVJEV03-01B-99R</th><th scope=col>GMKF-30-PASWYR03-01B-99R</th><th scope=col>GMKF-30-PASPGB03-01B-99R</th><th scope=col>GMKF-30-PAUCRL03-01B-99R</th><th scope=col>⋯</th><th scope=col>GMKF-30-PAUCNL03-01B-99R</th><th scope=col>GMKF-30-PASZTC03-01B-99R</th><th scope=col>GMKF-30-PASXRJ03-01B-99R</th><th scope=col>GMKF-30-PARZCJ03-01B-99R</th><th scope=col>GMKF-30-PARUTJ03-01B-99R</th><th scope=col>GMKF-30-PASFWL03-01B-99R</th><th scope=col>GMKF-30-PASFKX03-01B-99R</th><th scope=col>GMKF-30-PATFTR03-01B-99R</th><th scope=col>GMKF-30-PATZRF03-01B-99R</th><th scope=col>GMKF-30-PAUMFN03-01B-99R</th></tr>\n",
       "\t<tr><th></th><th scope=col>&lt;chr&gt;</th><th scope=col>&lt;chr&gt;</th><th scope=col>&lt;dbl&gt;</th><th scope=col>&lt;dbl&gt;</th><th scope=col>&lt;dbl&gt;</th><th scope=col>&lt;dbl&gt;</th><th scope=col>&lt;dbl&gt;</th><th scope=col>&lt;dbl&gt;</th><th scope=col>&lt;dbl&gt;</th><th scope=col>&lt;dbl&gt;</th><th scope=col>⋯</th><th scope=col>&lt;dbl&gt;</th><th scope=col>&lt;dbl&gt;</th><th scope=col>&lt;dbl&gt;</th><th scope=col>&lt;dbl&gt;</th><th scope=col>&lt;dbl&gt;</th><th scope=col>&lt;dbl&gt;</th><th scope=col>&lt;dbl&gt;</th><th scope=col>&lt;dbl&gt;</th><th scope=col>&lt;dbl&gt;</th><th scope=col>&lt;dbl&gt;</th></tr>\n",
       "</thead>\n",
       "<tbody>\n",
       "\t<tr><th scope=row>1</th><td>ENSG00000000003.14</td><td>TSPAN6  </td><td>5.25</td><td>5.62</td><td>3.31</td><td>2.71</td><td>4.27</td><td>4.75</td><td>8.56</td><td>2.71</td><td>⋯</td><td>10.42</td><td>9.68</td><td>5.69</td><td>2.67</td><td>3.77</td><td> 5.29</td><td>8.17</td><td>2.47</td><td>16.69</td><td>6.82</td></tr>\n",
       "\t<tr><th scope=row>2</th><td>ENSG00000000005.5 </td><td>TNMD    </td><td>0.00</td><td>0.00</td><td>0.03</td><td>0.00</td><td>0.12</td><td>0.00</td><td>0.00</td><td>0.00</td><td>⋯</td><td> 0.00</td><td>0.00</td><td>0.04</td><td>0.21</td><td>0.03</td><td> 0.00</td><td>0.03</td><td>0.05</td><td> 0.00</td><td>0.00</td></tr>\n",
       "\t<tr><th scope=row>3</th><td>ENSG00000000419.12</td><td>DPM1    </td><td>9.21</td><td>7.82</td><td>8.34</td><td>7.46</td><td>8.60</td><td>8.60</td><td>7.08</td><td>6.07</td><td>⋯</td><td>10.87</td><td>9.04</td><td>8.30</td><td>7.13</td><td>9.81</td><td>12.62</td><td>6.88</td><td>7.61</td><td>11.61</td><td>6.96</td></tr>\n",
       "\t<tr><th scope=row>4</th><td>ENSG00000000457.13</td><td>SCYL3   </td><td>5.67</td><td>5.67</td><td>3.34</td><td>2.29</td><td>6.02</td><td>3.10</td><td>2.68</td><td>3.99</td><td>⋯</td><td> 5.50</td><td>3.97</td><td>4.50</td><td>3.81</td><td>3.05</td><td> 5.30</td><td>2.69</td><td>5.14</td><td> 4.66</td><td>6.00</td></tr>\n",
       "\t<tr><th scope=row>5</th><td>ENSG00000000460.16</td><td>C1orf112</td><td>7.08</td><td>6.45</td><td>3.60</td><td>3.56</td><td>5.60</td><td>5.66</td><td>5.39</td><td>3.23</td><td>⋯</td><td> 7.55</td><td>3.01</td><td>3.90</td><td>6.57</td><td>3.92</td><td> 7.21</td><td>5.39</td><td>5.76</td><td> 7.40</td><td>5.57</td></tr>\n",
       "\t<tr><th scope=row>6</th><td>ENSG00000000938.12</td><td>FGR     </td><td>3.49</td><td>1.41</td><td>5.55</td><td>0.30</td><td>3.33</td><td>0.46</td><td>0.35</td><td>5.12</td><td>⋯</td><td> 1.23</td><td>0.34</td><td>6.23</td><td>7.07</td><td>0.80</td><td> 1.66</td><td>0.57</td><td>3.15</td><td> 1.02</td><td>1.20</td></tr>\n",
       "</tbody>\n",
       "</table>\n"
      ],
      "text/latex": [
       "A data.frame: 6 × 211\n",
       "\\begin{tabular}{r|lllllllllllllllllllll}\n",
       "  & ensembl\\_id & hgnc\\_symbol & GMKF-30-PATSIJ03-01B-99R & GMKF-30-PASZJB03-01B-99R & GMKF-30-PASKRS03-01B-99R & GMKF-30-PAVNLK03-01A-01R & GMKF-30-PAVJEV03-01B-99R & GMKF-30-PASWYR03-01B-99R & GMKF-30-PASPGB03-01B-99R & GMKF-30-PAUCRL03-01B-99R & ⋯ & GMKF-30-PAUCNL03-01B-99R & GMKF-30-PASZTC03-01B-99R & GMKF-30-PASXRJ03-01B-99R & GMKF-30-PARZCJ03-01B-99R & GMKF-30-PARUTJ03-01B-99R & GMKF-30-PASFWL03-01B-99R & GMKF-30-PASFKX03-01B-99R & GMKF-30-PATFTR03-01B-99R & GMKF-30-PATZRF03-01B-99R & GMKF-30-PAUMFN03-01B-99R\\\\\n",
       "  & <chr> & <chr> & <dbl> & <dbl> & <dbl> & <dbl> & <dbl> & <dbl> & <dbl> & <dbl> & ⋯ & <dbl> & <dbl> & <dbl> & <dbl> & <dbl> & <dbl> & <dbl> & <dbl> & <dbl> & <dbl>\\\\\n",
       "\\hline\n",
       "\t1 & ENSG00000000003.14 & TSPAN6   & 5.25 & 5.62 & 3.31 & 2.71 & 4.27 & 4.75 & 8.56 & 2.71 & ⋯ & 10.42 & 9.68 & 5.69 & 2.67 & 3.77 &  5.29 & 8.17 & 2.47 & 16.69 & 6.82\\\\\n",
       "\t2 & ENSG00000000005.5  & TNMD     & 0.00 & 0.00 & 0.03 & 0.00 & 0.12 & 0.00 & 0.00 & 0.00 & ⋯ &  0.00 & 0.00 & 0.04 & 0.21 & 0.03 &  0.00 & 0.03 & 0.05 &  0.00 & 0.00\\\\\n",
       "\t3 & ENSG00000000419.12 & DPM1     & 9.21 & 7.82 & 8.34 & 7.46 & 8.60 & 8.60 & 7.08 & 6.07 & ⋯ & 10.87 & 9.04 & 8.30 & 7.13 & 9.81 & 12.62 & 6.88 & 7.61 & 11.61 & 6.96\\\\\n",
       "\t4 & ENSG00000000457.13 & SCYL3    & 5.67 & 5.67 & 3.34 & 2.29 & 6.02 & 3.10 & 2.68 & 3.99 & ⋯ &  5.50 & 3.97 & 4.50 & 3.81 & 3.05 &  5.30 & 2.69 & 5.14 &  4.66 & 6.00\\\\\n",
       "\t5 & ENSG00000000460.16 & C1orf112 & 7.08 & 6.45 & 3.60 & 3.56 & 5.60 & 5.66 & 5.39 & 3.23 & ⋯ &  7.55 & 3.01 & 3.90 & 6.57 & 3.92 &  7.21 & 5.39 & 5.76 &  7.40 & 5.57\\\\\n",
       "\t6 & ENSG00000000938.12 & FGR      & 3.49 & 1.41 & 5.55 & 0.30 & 3.33 & 0.46 & 0.35 & 5.12 & ⋯ &  1.23 & 0.34 & 6.23 & 7.07 & 0.80 &  1.66 & 0.57 & 3.15 &  1.02 & 1.20\\\\\n",
       "\\end{tabular}\n"
      ],
      "text/markdown": [
       "\n",
       "A data.frame: 6 × 211\n",
       "\n",
       "| <!--/--> | ensembl_id &lt;chr&gt; | hgnc_symbol &lt;chr&gt; | GMKF-30-PATSIJ03-01B-99R &lt;dbl&gt; | GMKF-30-PASZJB03-01B-99R &lt;dbl&gt; | GMKF-30-PASKRS03-01B-99R &lt;dbl&gt; | GMKF-30-PAVNLK03-01A-01R &lt;dbl&gt; | GMKF-30-PAVJEV03-01B-99R &lt;dbl&gt; | GMKF-30-PASWYR03-01B-99R &lt;dbl&gt; | GMKF-30-PASPGB03-01B-99R &lt;dbl&gt; | GMKF-30-PAUCRL03-01B-99R &lt;dbl&gt; | ⋯ ⋯ | GMKF-30-PAUCNL03-01B-99R &lt;dbl&gt; | GMKF-30-PASZTC03-01B-99R &lt;dbl&gt; | GMKF-30-PASXRJ03-01B-99R &lt;dbl&gt; | GMKF-30-PARZCJ03-01B-99R &lt;dbl&gt; | GMKF-30-PARUTJ03-01B-99R &lt;dbl&gt; | GMKF-30-PASFWL03-01B-99R &lt;dbl&gt; | GMKF-30-PASFKX03-01B-99R &lt;dbl&gt; | GMKF-30-PATFTR03-01B-99R &lt;dbl&gt; | GMKF-30-PATZRF03-01B-99R &lt;dbl&gt; | GMKF-30-PAUMFN03-01B-99R &lt;dbl&gt; |\n",
       "|---|---|---|---|---|---|---|---|---|---|---|---|---|---|---|---|---|---|---|---|---|---|\n",
       "| 1 | ENSG00000000003.14 | TSPAN6   | 5.25 | 5.62 | 3.31 | 2.71 | 4.27 | 4.75 | 8.56 | 2.71 | ⋯ | 10.42 | 9.68 | 5.69 | 2.67 | 3.77 |  5.29 | 8.17 | 2.47 | 16.69 | 6.82 |\n",
       "| 2 | ENSG00000000005.5  | TNMD     | 0.00 | 0.00 | 0.03 | 0.00 | 0.12 | 0.00 | 0.00 | 0.00 | ⋯ |  0.00 | 0.00 | 0.04 | 0.21 | 0.03 |  0.00 | 0.03 | 0.05 |  0.00 | 0.00 |\n",
       "| 3 | ENSG00000000419.12 | DPM1     | 9.21 | 7.82 | 8.34 | 7.46 | 8.60 | 8.60 | 7.08 | 6.07 | ⋯ | 10.87 | 9.04 | 8.30 | 7.13 | 9.81 | 12.62 | 6.88 | 7.61 | 11.61 | 6.96 |\n",
       "| 4 | ENSG00000000457.13 | SCYL3    | 5.67 | 5.67 | 3.34 | 2.29 | 6.02 | 3.10 | 2.68 | 3.99 | ⋯ |  5.50 | 3.97 | 4.50 | 3.81 | 3.05 |  5.30 | 2.69 | 5.14 |  4.66 | 6.00 |\n",
       "| 5 | ENSG00000000460.16 | C1orf112 | 7.08 | 6.45 | 3.60 | 3.56 | 5.60 | 5.66 | 5.39 | 3.23 | ⋯ |  7.55 | 3.01 | 3.90 | 6.57 | 3.92 |  7.21 | 5.39 | 5.76 |  7.40 | 5.57 |\n",
       "| 6 | ENSG00000000938.12 | FGR      | 3.49 | 1.41 | 5.55 | 0.30 | 3.33 | 0.46 | 0.35 | 5.12 | ⋯ |  1.23 | 0.34 | 6.23 | 7.07 | 0.80 |  1.66 | 0.57 | 3.15 |  1.02 | 1.20 |\n",
       "\n"
      ],
      "text/plain": [
       "  ensembl_id         hgnc_symbol GMKF-30-PATSIJ03-01B-99R\n",
       "1 ENSG00000000003.14 TSPAN6      5.25                    \n",
       "2 ENSG00000000005.5  TNMD        0.00                    \n",
       "3 ENSG00000000419.12 DPM1        9.21                    \n",
       "4 ENSG00000000457.13 SCYL3       5.67                    \n",
       "5 ENSG00000000460.16 C1orf112    7.08                    \n",
       "6 ENSG00000000938.12 FGR         3.49                    \n",
       "  GMKF-30-PASZJB03-01B-99R GMKF-30-PASKRS03-01B-99R GMKF-30-PAVNLK03-01A-01R\n",
       "1 5.62                     3.31                     2.71                    \n",
       "2 0.00                     0.03                     0.00                    \n",
       "3 7.82                     8.34                     7.46                    \n",
       "4 5.67                     3.34                     2.29                    \n",
       "5 6.45                     3.60                     3.56                    \n",
       "6 1.41                     5.55                     0.30                    \n",
       "  GMKF-30-PAVJEV03-01B-99R GMKF-30-PASWYR03-01B-99R GMKF-30-PASPGB03-01B-99R\n",
       "1 4.27                     4.75                     8.56                    \n",
       "2 0.12                     0.00                     0.00                    \n",
       "3 8.60                     8.60                     7.08                    \n",
       "4 6.02                     3.10                     2.68                    \n",
       "5 5.60                     5.66                     5.39                    \n",
       "6 3.33                     0.46                     0.35                    \n",
       "  GMKF-30-PAUCRL03-01B-99R ⋯ GMKF-30-PAUCNL03-01B-99R GMKF-30-PASZTC03-01B-99R\n",
       "1 2.71                     ⋯ 10.42                    9.68                    \n",
       "2 0.00                     ⋯  0.00                    0.00                    \n",
       "3 6.07                     ⋯ 10.87                    9.04                    \n",
       "4 3.99                     ⋯  5.50                    3.97                    \n",
       "5 3.23                     ⋯  7.55                    3.01                    \n",
       "6 5.12                     ⋯  1.23                    0.34                    \n",
       "  GMKF-30-PASXRJ03-01B-99R GMKF-30-PARZCJ03-01B-99R GMKF-30-PARUTJ03-01B-99R\n",
       "1 5.69                     2.67                     3.77                    \n",
       "2 0.04                     0.21                     0.03                    \n",
       "3 8.30                     7.13                     9.81                    \n",
       "4 4.50                     3.81                     3.05                    \n",
       "5 3.90                     6.57                     3.92                    \n",
       "6 6.23                     7.07                     0.80                    \n",
       "  GMKF-30-PASFWL03-01B-99R GMKF-30-PASFKX03-01B-99R GMKF-30-PATFTR03-01B-99R\n",
       "1  5.29                    8.17                     2.47                    \n",
       "2  0.00                    0.03                     0.05                    \n",
       "3 12.62                    6.88                     7.61                    \n",
       "4  5.30                    2.69                     5.14                    \n",
       "5  7.21                    5.39                     5.76                    \n",
       "6  1.66                    0.57                     3.15                    \n",
       "  GMKF-30-PATZRF03-01B-99R GMKF-30-PAUMFN03-01B-99R\n",
       "1 16.69                    6.82                    \n",
       "2  0.00                    0.00                    \n",
       "3 11.61                    6.96                    \n",
       "4  4.66                    6.00                    \n",
       "5  7.40                    5.57                    \n",
       "6  1.02                    1.20                    "
      ]
     },
     "metadata": {},
     "output_type": "display_data"
    }
   ],
   "source": [
    "head(KF_NBLtpm)"
   ]
  },
  {
   "cell_type": "code",
   "execution_count": 24,
   "metadata": {},
   "outputs": [
    {
     "data": {
      "text/html": [
       "<style>\n",
       ".list-inline {list-style: none; margin:0; padding: 0}\n",
       ".list-inline>li {display: inline-block}\n",
       ".list-inline>li:not(:last-child)::after {content: \"\\00b7\"; padding: 0 .5ex}\n",
       "</style>\n",
       "<ol class=list-inline><li>58347</li><li>211</li></ol>\n"
      ],
      "text/latex": [
       "\\begin{enumerate*}\n",
       "\\item 58347\n",
       "\\item 211\n",
       "\\end{enumerate*}\n"
      ],
      "text/markdown": [
       "1. 58347\n",
       "2. 211\n",
       "\n",
       "\n"
      ],
      "text/plain": [
       "[1] 58347   211"
      ]
     },
     "metadata": {},
     "output_type": "display_data"
    }
   ],
   "source": [
    "dim(KF_NBLtpm)"
   ]
  },
  {
   "cell_type": "code",
   "execution_count": 25,
   "metadata": {},
   "outputs": [],
   "source": [
    "KF_NBLtpm <- KF_NBLtpm[!duplicated(KF_NBLtpm$hgnc_symbol),]"
   ]
  },
  {
   "cell_type": "code",
   "execution_count": 26,
   "metadata": {},
   "outputs": [
    {
     "data": {
      "text/html": [
       "<style>\n",
       ".list-inline {list-style: none; margin:0; padding: 0}\n",
       ".list-inline>li {display: inline-block}\n",
       ".list-inline>li:not(:last-child)::after {content: \"\\00b7\"; padding: 0 .5ex}\n",
       "</style>\n",
       "<ol class=list-inline><li>56505</li><li>211</li></ol>\n"
      ],
      "text/latex": [
       "\\begin{enumerate*}\n",
       "\\item 56505\n",
       "\\item 211\n",
       "\\end{enumerate*}\n"
      ],
      "text/markdown": [
       "1. 56505\n",
       "2. 211\n",
       "\n",
       "\n"
      ],
      "text/plain": [
       "[1] 56505   211"
      ]
     },
     "metadata": {},
     "output_type": "display_data"
    }
   ],
   "source": [
    "dim(KF_NBLtpm)"
   ]
  },
  {
   "cell_type": "code",
   "execution_count": 28,
   "metadata": {},
   "outputs": [],
   "source": [
    "write.table(KF_NBLtpm,\n",
    "            file = paste0(datapath, \"exp_mat/KF_NBL_tpm_matrix_dedup.txt\"),\n",
    "                sep = \"\\t\", quote = F, row.names = F)"
   ]
  },
  {
   "cell_type": "code",
   "execution_count": 29,
   "metadata": {},
   "outputs": [],
   "source": [
    "write.table(KF_NBLtpm[,colnames(KF_NBLtpm) !=\"ensembl_id\"],\n",
    "            file = paste0(datapath, \"exp_mat/KF_NBL_tpm_matrix_dedup_hgnc.txt\"),\n",
    "                sep = \"\\t\", quote = F, row.names = F)"
   ]
  }
 ],
 "metadata": {
  "kernelspec": {
   "display_name": "R 4.0",
   "language": "R",
   "name": "ir40"
  },
  "language_info": {
   "codemirror_mode": "r",
   "file_extension": ".r",
   "mimetype": "text/x-r-source",
   "name": "R",
   "pygments_lexer": "r",
   "version": "4.0.3"
  },
  "toc": {
   "base_numbering": 1,
   "nav_menu": {},
   "number_sections": false,
   "sideBar": true,
   "skip_h1_title": false,
   "title_cell": "Table of Contents",
   "title_sidebar": "Contents",
   "toc_cell": true,
   "toc_position": {
    "height": "calc(100% - 180px)",
    "left": "10px",
    "top": "150px",
    "width": "229.344px"
   },
   "toc_section_display": true,
   "toc_window_display": true
  }
 },
 "nbformat": 4,
 "nbformat_minor": 2
}
