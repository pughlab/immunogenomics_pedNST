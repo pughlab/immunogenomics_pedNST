{
 "cells": [
  {
   "cell_type": "markdown",
   "metadata": {
    "toc": true
   },
   "source": [
    "<h1>Table of Contents<span class=\"tocSkip\"></span></h1>\n",
    "<div class=\"toc\"><ul class=\"toc-item\"><li><span><a href=\"#Dependencies\" data-toc-modified-id=\"Dependencies-1\">Dependencies</a></span></li><li><span><a href=\"#Functions\" data-toc-modified-id=\"Functions-2\">Functions</a></span></li><li><span><a href=\"#Paths\" data-toc-modified-id=\"Paths-3\">Paths</a></span></li><li><span><a href=\"#Main\" data-toc-modified-id=\"Main-4\">Main</a></span></li></ul></div>"
   ]
  },
  {
   "cell_type": "markdown",
   "metadata": {},
   "source": [
    "# Dependencies"
   ]
  },
  {
   "cell_type": "code",
   "execution_count": 1,
   "metadata": {
    "scrolled": false
   },
   "outputs": [
    {
     "name": "stderr",
     "output_type": "stream",
     "text": [
      "\n",
      "Attaching package: ‘dplyr’\n",
      "\n",
      "\n",
      "The following objects are masked from ‘package:stats’:\n",
      "\n",
      "    filter, lag\n",
      "\n",
      "\n",
      "The following objects are masked from ‘package:base’:\n",
      "\n",
      "    intersect, setdiff, setequal, union\n",
      "\n",
      "\n",
      "Loading required package: ggplot2\n",
      "\n",
      "\n",
      "Attaching package: ‘gridExtra’\n",
      "\n",
      "\n",
      "The following object is masked from ‘package:dplyr’:\n",
      "\n",
      "    combine\n",
      "\n",
      "\n"
     ]
    }
   ],
   "source": [
    "library(dplyr)\n",
    "library(reshape2)\n",
    "library(ggbeeswarm)\n",
    "library(gridExtra)\n",
    "library(gtable)\n",
    "library(grid)"
   ]
  },
  {
   "cell_type": "markdown",
   "metadata": {},
   "source": [
    "# Functions"
   ]
  },
  {
   "cell_type": "code",
   "execution_count": 2,
   "metadata": {},
   "outputs": [],
   "source": [
    "source(\"~/OneDrive - UHN/R_src/ggplot2_theme.R\")\n",
    "source(\"~/OneDrive - UHN/R_src/color_schemes.R\")"
   ]
  },
  {
   "cell_type": "markdown",
   "metadata": {},
   "source": [
    "# Paths"
   ]
  },
  {
   "cell_type": "code",
   "execution_count": 3,
   "metadata": {},
   "outputs": [],
   "source": [
    "manifestpath <- \"/Users/anabbi/OneDrive - UHN/Documents/IPD2/Manifests/\"\n",
    "datapath <- \"/Users/anabbi/OneDrive - UHN/Documents/IPD2/Data/\"\n",
    "plotpath <- \"/Users/anabbi/OneDrive - UHN/Documents/IPD2/Plots/\""
   ]
  },
  {
   "cell_type": "markdown",
   "metadata": {},
   "source": [
    "# Main"
   ]
  },
  {
   "cell_type": "code",
   "execution_count": 4,
   "metadata": {},
   "outputs": [],
   "source": [
    "load(paste0(datapath,\"ESTIMATE/estimate_manifest_primary_clean_final.RData\"))"
   ]
  },
  {
   "cell_type": "code",
   "execution_count": 5,
   "metadata": {},
   "outputs": [],
   "source": [
    "load(paste0(datapath,\"ESTIMATE/PDX_estimate.RData\"))"
   ]
  },
  {
   "cell_type": "code",
   "execution_count": 6,
   "metadata": {},
   "outputs": [
    {
     "data": {
      "text/html": [
       "<table class=\"dataframe\">\n",
       "<caption>A data.frame: 6 × 4</caption>\n",
       "<thead>\n",
       "\t<tr><th></th><th scope=col>SampleID</th><th scope=col>StromalScore</th><th scope=col>ImmuneScore</th><th scope=col>ESTIMATEScore</th></tr>\n",
       "\t<tr><th></th><th scope=col>&lt;chr&gt;</th><th scope=col>&lt;dbl&gt;</th><th scope=col>&lt;dbl&gt;</th><th scope=col>&lt;dbl&gt;</th></tr>\n",
       "</thead>\n",
       "<tbody>\n",
       "\t<tr><th scope=row>1</th><td>BT084_XP3_2   </td><td>-2344.085</td><td>-2726.465</td><td>-5070.550</td></tr>\n",
       "\t<tr><th scope=row>2</th><td>BT084_XP5_845 </td><td>-2410.261</td><td>-2776.284</td><td>-5186.546</td></tr>\n",
       "\t<tr><th scope=row>3</th><td>Icb_984MB_XP11</td><td>-2532.593</td><td>-2675.994</td><td>-5208.588</td></tr>\n",
       "\t<tr><th scope=row>4</th><td>Med113FH_P0.4 </td><td>-2563.930</td><td>-2565.153</td><td>-5129.082</td></tr>\n",
       "\t<tr><th scope=row>5</th><td>Med113FH_P5.2 </td><td>-2636.448</td><td>-2386.213</td><td>-5022.662</td></tr>\n",
       "\t<tr><th scope=row>6</th><td>Med114FH_P5.3 </td><td>-2567.810</td><td>-2773.827</td><td>-5341.637</td></tr>\n",
       "</tbody>\n",
       "</table>\n"
      ],
      "text/latex": [
       "A data.frame: 6 × 4\n",
       "\\begin{tabular}{r|llll}\n",
       "  & SampleID & StromalScore & ImmuneScore & ESTIMATEScore\\\\\n",
       "  & <chr> & <dbl> & <dbl> & <dbl>\\\\\n",
       "\\hline\n",
       "\t1 & BT084\\_XP3\\_2    & -2344.085 & -2726.465 & -5070.550\\\\\n",
       "\t2 & BT084\\_XP5\\_845  & -2410.261 & -2776.284 & -5186.546\\\\\n",
       "\t3 & Icb\\_984MB\\_XP11 & -2532.593 & -2675.994 & -5208.588\\\\\n",
       "\t4 & Med113FH\\_P0.4  & -2563.930 & -2565.153 & -5129.082\\\\\n",
       "\t5 & Med113FH\\_P5.2  & -2636.448 & -2386.213 & -5022.662\\\\\n",
       "\t6 & Med114FH\\_P5.3  & -2567.810 & -2773.827 & -5341.637\\\\\n",
       "\\end{tabular}\n"
      ],
      "text/markdown": [
       "\n",
       "A data.frame: 6 × 4\n",
       "\n",
       "| <!--/--> | SampleID &lt;chr&gt; | StromalScore &lt;dbl&gt; | ImmuneScore &lt;dbl&gt; | ESTIMATEScore &lt;dbl&gt; |\n",
       "|---|---|---|---|---|\n",
       "| 1 | BT084_XP3_2    | -2344.085 | -2726.465 | -5070.550 |\n",
       "| 2 | BT084_XP5_845  | -2410.261 | -2776.284 | -5186.546 |\n",
       "| 3 | Icb_984MB_XP11 | -2532.593 | -2675.994 | -5208.588 |\n",
       "| 4 | Med113FH_P0.4  | -2563.930 | -2565.153 | -5129.082 |\n",
       "| 5 | Med113FH_P5.2  | -2636.448 | -2386.213 | -5022.662 |\n",
       "| 6 | Med114FH_P5.3  | -2567.810 | -2773.827 | -5341.637 |\n",
       "\n"
      ],
      "text/plain": [
       "  SampleID       StromalScore ImmuneScore ESTIMATEScore\n",
       "1 BT084_XP3_2    -2344.085    -2726.465   -5070.550    \n",
       "2 BT084_XP5_845  -2410.261    -2776.284   -5186.546    \n",
       "3 Icb_984MB_XP11 -2532.593    -2675.994   -5208.588    \n",
       "4 Med113FH_P0.4  -2563.930    -2565.153   -5129.082    \n",
       "5 Med113FH_P5.2  -2636.448    -2386.213   -5022.662    \n",
       "6 Med114FH_P5.3  -2567.810    -2773.827   -5341.637    "
      ]
     },
     "metadata": {},
     "output_type": "display_data"
    }
   ],
   "source": [
    "head(PDX_estimate)"
   ]
  },
  {
   "cell_type": "code",
   "execution_count": 7,
   "metadata": {},
   "outputs": [],
   "source": [
    "PDX_estimate_itcc <- read.table(paste0(datapath, \"ESTIMATE/ESTIMATE_output/RNAseq_itcc-P4_TPM_values_210726_estimateOutput.txt\"),\n",
    "                               sep = \"\\t\", stringsAsFactors = F, header = T)"
   ]
  },
  {
   "cell_type": "code",
   "execution_count": 8,
   "metadata": {},
   "outputs": [],
   "source": [
    "PDX_estimate_itcc <- PDX_estimate_itcc[grep(paste(c(\"EP\", \"MB\", \"HG\", \"NB\", \"RT\"),collapse=\"|\"),PDX_estimate_itcc$NAME),]"
   ]
  },
  {
   "cell_type": "code",
   "execution_count": 9,
   "metadata": {},
   "outputs": [],
   "source": [
    "PDX_estimate_itcc <- PDX_estimate_itcc[grep(paste(c(\"PP\", \"PT\", \"PR\", \"PM\"),collapse=\"|\"),PDX_estimate_itcc$NAME),]"
   ]
  },
  {
   "cell_type": "code",
   "execution_count": 10,
   "metadata": {},
   "outputs": [
    {
     "data": {
      "text/html": [
       "<style>\n",
       ".list-inline {list-style: none; margin:0; padding: 0}\n",
       ".list-inline>li {display: inline-block}\n",
       ".list-inline>li:not(:last-child)::after {content: \"\\00b7\"; padding: 0 .5ex}\n",
       "</style>\n",
       "<ol class=list-inline><li>61</li><li>4</li></ol>\n"
      ],
      "text/latex": [
       "\\begin{enumerate*}\n",
       "\\item 61\n",
       "\\item 4\n",
       "\\end{enumerate*}\n"
      ],
      "text/markdown": [
       "1. 61\n",
       "2. 4\n",
       "\n",
       "\n"
      ],
      "text/plain": [
       "[1] 61  4"
      ]
     },
     "metadata": {},
     "output_type": "display_data"
    }
   ],
   "source": [
    "dim(PDX_estimate_itcc)"
   ]
  },
  {
   "cell_type": "code",
   "execution_count": 11,
   "metadata": {},
   "outputs": [],
   "source": [
    "#remove\n",
    "PDX_estimate_itcc <- PDX_estimate_itcc[!PDX_estimate_itcc$NAME %in% c(\"ITCC.P4_s07_HG0068_PT01_F01_R01_A03\", \"ITCC.P4_s15_NB0537_PT03_F01_R01_03\"), ]"
   ]
  },
  {
   "cell_type": "code",
   "execution_count": 12,
   "metadata": {},
   "outputs": [],
   "source": [
    "colnames(PDX_estimate_itcc)[1] <- \"SampleID\""
   ]
  },
  {
   "cell_type": "code",
   "execution_count": 13,
   "metadata": {},
   "outputs": [],
   "source": [
    "PDX_estimate <- rbind(PDX_estimate, PDX_estimate_itcc)"
   ]
  },
  {
   "cell_type": "code",
   "execution_count": 14,
   "metadata": {},
   "outputs": [
    {
     "data": {
      "text/html": [
       "<style>\n",
       ".list-inline {list-style: none; margin:0; padding: 0}\n",
       ".list-inline>li {display: inline-block}\n",
       ".list-inline>li:not(:last-child)::after {content: \"\\00b7\"; padding: 0 .5ex}\n",
       "</style>\n",
       "<ol class=list-inline><li>79</li><li>4</li></ol>\n"
      ],
      "text/latex": [
       "\\begin{enumerate*}\n",
       "\\item 79\n",
       "\\item 4\n",
       "\\end{enumerate*}\n"
      ],
      "text/markdown": [
       "1. 79\n",
       "2. 4\n",
       "\n",
       "\n"
      ],
      "text/plain": [
       "[1] 79  4"
      ]
     },
     "metadata": {},
     "output_type": "display_data"
    }
   ],
   "source": [
    "dim(PDX_estimate)"
   ]
  },
  {
   "cell_type": "markdown",
   "metadata": {},
   "source": [
    "Subset for ImmuneScore only"
   ]
  },
  {
   "cell_type": "code",
   "execution_count": 15,
   "metadata": {},
   "outputs": [],
   "source": [
    "mycol <- c(\"aliquot_id\", \"StromalScore\", \"ImmuneScore\",\"ESTIMATEScore\", \"sample_id\", \"group\", \"cohort\")"
   ]
  },
  {
   "cell_type": "code",
   "execution_count": 16,
   "metadata": {},
   "outputs": [],
   "source": [
    "estimate_df <- estimate_manifest_primary_clean[,mycol]"
   ]
  },
  {
   "cell_type": "markdown",
   "metadata": {},
   "source": [
    "add in PDX"
   ]
  },
  {
   "cell_type": "code",
   "execution_count": 17,
   "metadata": {},
   "outputs": [
    {
     "data": {
      "text/plain": [
       "   Min. 1st Qu.  Median    Mean 3rd Qu.    Max. \n",
       "  -2948   -2749   -2614   -2536   -2397   -1133 "
      ]
     },
     "metadata": {},
     "output_type": "display_data"
    }
   ],
   "source": [
    "summary(PDX_estimate$ImmuneScore)"
   ]
  },
  {
   "cell_type": "code",
   "execution_count": 18,
   "metadata": {},
   "outputs": [],
   "source": [
    "PDX_estimate$group <- \"ICGC\"\n",
    "PDX_estimate$cohort <- \"PDX\"\n",
    "colnames(PDX_estimate)[1] <- \"aliquot_id\"\n",
    "PDX_estimate$sample_id <- PDX_estimate$aliquot_id"
   ]
  },
  {
   "cell_type": "code",
   "execution_count": 19,
   "metadata": {},
   "outputs": [
    {
     "data": {
      "text/html": [
       "<table class=\"dataframe\">\n",
       "<caption>A data.frame: 6 × 7</caption>\n",
       "<thead>\n",
       "\t<tr><th></th><th scope=col>aliquot_id</th><th scope=col>StromalScore</th><th scope=col>ImmuneScore</th><th scope=col>ESTIMATEScore</th><th scope=col>sample_id</th><th scope=col>group</th><th scope=col>cohort</th></tr>\n",
       "\t<tr><th></th><th scope=col>&lt;chr&gt;</th><th scope=col>&lt;dbl&gt;</th><th scope=col>&lt;dbl&gt;</th><th scope=col>&lt;dbl&gt;</th><th scope=col>&lt;chr&gt;</th><th scope=col>&lt;chr&gt;</th><th scope=col>&lt;chr&gt;</th></tr>\n",
       "</thead>\n",
       "<tbody>\n",
       "\t<tr><th scope=row>1</th><td>TARGET-30-PAIFXV-01A-01R</td><td>-537.97880</td><td> 483.8556</td><td>  -54.1232</td><td>TARGET-30-PAIFXV-01A</td><td>TARGET</td><td>NBL</td></tr>\n",
       "\t<tr><th scope=row>2</th><td>TARGET-30-PAIPGU-01A-01R</td><td>-319.22630</td><td>1240.6492</td><td>  921.4229</td><td>TARGET-30-PAIPGU-01A</td><td>TARGET</td><td>NBL</td></tr>\n",
       "\t<tr><th scope=row>3</th><td>TARGET-30-PAISNS-01A-01R</td><td>-899.30090</td><td>-128.2337</td><td>-1027.5347</td><td>TARGET-30-PAISNS-01A</td><td>TARGET</td><td>NBL</td></tr>\n",
       "\t<tr><th scope=row>4</th><td>TARGET-30-PAITCI-01A-01R</td><td>-327.26820</td><td> 200.6735</td><td> -126.5947</td><td>TARGET-30-PAITCI-01A</td><td>TARGET</td><td>NBL</td></tr>\n",
       "\t<tr><th scope=row>5</th><td>TARGET-30-PAIVHE-01A-01R</td><td> -15.87499</td><td>1033.6469</td><td> 1017.7719</td><td>TARGET-30-PAIVHE-01A</td><td>TARGET</td><td>NBL</td></tr>\n",
       "\t<tr><th scope=row>6</th><td>TARGET-30-PAIXIF-01A-01R</td><td> 460.15050</td><td> 978.1672</td><td> 1438.3177</td><td>TARGET-30-PAIXIF-01A</td><td>TARGET</td><td>NBL</td></tr>\n",
       "</tbody>\n",
       "</table>\n"
      ],
      "text/latex": [
       "A data.frame: 6 × 7\n",
       "\\begin{tabular}{r|lllllll}\n",
       "  & aliquot\\_id & StromalScore & ImmuneScore & ESTIMATEScore & sample\\_id & group & cohort\\\\\n",
       "  & <chr> & <dbl> & <dbl> & <dbl> & <chr> & <chr> & <chr>\\\\\n",
       "\\hline\n",
       "\t1 & TARGET-30-PAIFXV-01A-01R & -537.97880 &  483.8556 &   -54.1232 & TARGET-30-PAIFXV-01A & TARGET & NBL\\\\\n",
       "\t2 & TARGET-30-PAIPGU-01A-01R & -319.22630 & 1240.6492 &   921.4229 & TARGET-30-PAIPGU-01A & TARGET & NBL\\\\\n",
       "\t3 & TARGET-30-PAISNS-01A-01R & -899.30090 & -128.2337 & -1027.5347 & TARGET-30-PAISNS-01A & TARGET & NBL\\\\\n",
       "\t4 & TARGET-30-PAITCI-01A-01R & -327.26820 &  200.6735 &  -126.5947 & TARGET-30-PAITCI-01A & TARGET & NBL\\\\\n",
       "\t5 & TARGET-30-PAIVHE-01A-01R &  -15.87499 & 1033.6469 &  1017.7719 & TARGET-30-PAIVHE-01A & TARGET & NBL\\\\\n",
       "\t6 & TARGET-30-PAIXIF-01A-01R &  460.15050 &  978.1672 &  1438.3177 & TARGET-30-PAIXIF-01A & TARGET & NBL\\\\\n",
       "\\end{tabular}\n"
      ],
      "text/markdown": [
       "\n",
       "A data.frame: 6 × 7\n",
       "\n",
       "| <!--/--> | aliquot_id &lt;chr&gt; | StromalScore &lt;dbl&gt; | ImmuneScore &lt;dbl&gt; | ESTIMATEScore &lt;dbl&gt; | sample_id &lt;chr&gt; | group &lt;chr&gt; | cohort &lt;chr&gt; |\n",
       "|---|---|---|---|---|---|---|---|\n",
       "| 1 | TARGET-30-PAIFXV-01A-01R | -537.97880 |  483.8556 |   -54.1232 | TARGET-30-PAIFXV-01A | TARGET | NBL |\n",
       "| 2 | TARGET-30-PAIPGU-01A-01R | -319.22630 | 1240.6492 |   921.4229 | TARGET-30-PAIPGU-01A | TARGET | NBL |\n",
       "| 3 | TARGET-30-PAISNS-01A-01R | -899.30090 | -128.2337 | -1027.5347 | TARGET-30-PAISNS-01A | TARGET | NBL |\n",
       "| 4 | TARGET-30-PAITCI-01A-01R | -327.26820 |  200.6735 |  -126.5947 | TARGET-30-PAITCI-01A | TARGET | NBL |\n",
       "| 5 | TARGET-30-PAIVHE-01A-01R |  -15.87499 | 1033.6469 |  1017.7719 | TARGET-30-PAIVHE-01A | TARGET | NBL |\n",
       "| 6 | TARGET-30-PAIXIF-01A-01R |  460.15050 |  978.1672 |  1438.3177 | TARGET-30-PAIXIF-01A | TARGET | NBL |\n",
       "\n"
      ],
      "text/plain": [
       "  aliquot_id               StromalScore ImmuneScore ESTIMATEScore\n",
       "1 TARGET-30-PAIFXV-01A-01R -537.97880    483.8556     -54.1232   \n",
       "2 TARGET-30-PAIPGU-01A-01R -319.22630   1240.6492     921.4229   \n",
       "3 TARGET-30-PAISNS-01A-01R -899.30090   -128.2337   -1027.5347   \n",
       "4 TARGET-30-PAITCI-01A-01R -327.26820    200.6735    -126.5947   \n",
       "5 TARGET-30-PAIVHE-01A-01R  -15.87499   1033.6469    1017.7719   \n",
       "6 TARGET-30-PAIXIF-01A-01R  460.15050    978.1672    1438.3177   \n",
       "  sample_id            group  cohort\n",
       "1 TARGET-30-PAIFXV-01A TARGET NBL   \n",
       "2 TARGET-30-PAIPGU-01A TARGET NBL   \n",
       "3 TARGET-30-PAISNS-01A TARGET NBL   \n",
       "4 TARGET-30-PAITCI-01A TARGET NBL   \n",
       "5 TARGET-30-PAIVHE-01A TARGET NBL   \n",
       "6 TARGET-30-PAIXIF-01A TARGET NBL   "
      ]
     },
     "metadata": {},
     "output_type": "display_data"
    }
   ],
   "source": [
    "head(estimate_df)"
   ]
  },
  {
   "cell_type": "code",
   "execution_count": 20,
   "metadata": {},
   "outputs": [],
   "source": [
    "estimate_ped_pdx <- rbind(estimate_df,PDX_estimate)"
   ]
  },
  {
   "cell_type": "code",
   "execution_count": 21,
   "metadata": {},
   "outputs": [
    {
     "data": {
      "text/html": [
       "<table class=\"dataframe\">\n",
       "<caption>A data.frame: 6 × 7</caption>\n",
       "<thead>\n",
       "\t<tr><th></th><th scope=col>aliquot_id</th><th scope=col>StromalScore</th><th scope=col>ImmuneScore</th><th scope=col>ESTIMATEScore</th><th scope=col>sample_id</th><th scope=col>group</th><th scope=col>cohort</th></tr>\n",
       "\t<tr><th></th><th scope=col>&lt;chr&gt;</th><th scope=col>&lt;dbl&gt;</th><th scope=col>&lt;dbl&gt;</th><th scope=col>&lt;dbl&gt;</th><th scope=col>&lt;chr&gt;</th><th scope=col>&lt;chr&gt;</th><th scope=col>&lt;chr&gt;</th></tr>\n",
       "</thead>\n",
       "<tbody>\n",
       "\t<tr><th scope=row>1</th><td>TARGET-30-PAIFXV-01A-01R</td><td>-537.97880</td><td> 483.8556</td><td>  -54.1232</td><td>TARGET-30-PAIFXV-01A</td><td>TARGET</td><td>NBL</td></tr>\n",
       "\t<tr><th scope=row>2</th><td>TARGET-30-PAIPGU-01A-01R</td><td>-319.22630</td><td>1240.6492</td><td>  921.4229</td><td>TARGET-30-PAIPGU-01A</td><td>TARGET</td><td>NBL</td></tr>\n",
       "\t<tr><th scope=row>3</th><td>TARGET-30-PAISNS-01A-01R</td><td>-899.30090</td><td>-128.2337</td><td>-1027.5347</td><td>TARGET-30-PAISNS-01A</td><td>TARGET</td><td>NBL</td></tr>\n",
       "\t<tr><th scope=row>4</th><td>TARGET-30-PAITCI-01A-01R</td><td>-327.26820</td><td> 200.6735</td><td> -126.5947</td><td>TARGET-30-PAITCI-01A</td><td>TARGET</td><td>NBL</td></tr>\n",
       "\t<tr><th scope=row>5</th><td>TARGET-30-PAIVHE-01A-01R</td><td> -15.87499</td><td>1033.6469</td><td> 1017.7719</td><td>TARGET-30-PAIVHE-01A</td><td>TARGET</td><td>NBL</td></tr>\n",
       "\t<tr><th scope=row>6</th><td>TARGET-30-PAIXIF-01A-01R</td><td> 460.15050</td><td> 978.1672</td><td> 1438.3177</td><td>TARGET-30-PAIXIF-01A</td><td>TARGET</td><td>NBL</td></tr>\n",
       "</tbody>\n",
       "</table>\n"
      ],
      "text/latex": [
       "A data.frame: 6 × 7\n",
       "\\begin{tabular}{r|lllllll}\n",
       "  & aliquot\\_id & StromalScore & ImmuneScore & ESTIMATEScore & sample\\_id & group & cohort\\\\\n",
       "  & <chr> & <dbl> & <dbl> & <dbl> & <chr> & <chr> & <chr>\\\\\n",
       "\\hline\n",
       "\t1 & TARGET-30-PAIFXV-01A-01R & -537.97880 &  483.8556 &   -54.1232 & TARGET-30-PAIFXV-01A & TARGET & NBL\\\\\n",
       "\t2 & TARGET-30-PAIPGU-01A-01R & -319.22630 & 1240.6492 &   921.4229 & TARGET-30-PAIPGU-01A & TARGET & NBL\\\\\n",
       "\t3 & TARGET-30-PAISNS-01A-01R & -899.30090 & -128.2337 & -1027.5347 & TARGET-30-PAISNS-01A & TARGET & NBL\\\\\n",
       "\t4 & TARGET-30-PAITCI-01A-01R & -327.26820 &  200.6735 &  -126.5947 & TARGET-30-PAITCI-01A & TARGET & NBL\\\\\n",
       "\t5 & TARGET-30-PAIVHE-01A-01R &  -15.87499 & 1033.6469 &  1017.7719 & TARGET-30-PAIVHE-01A & TARGET & NBL\\\\\n",
       "\t6 & TARGET-30-PAIXIF-01A-01R &  460.15050 &  978.1672 &  1438.3177 & TARGET-30-PAIXIF-01A & TARGET & NBL\\\\\n",
       "\\end{tabular}\n"
      ],
      "text/markdown": [
       "\n",
       "A data.frame: 6 × 7\n",
       "\n",
       "| <!--/--> | aliquot_id &lt;chr&gt; | StromalScore &lt;dbl&gt; | ImmuneScore &lt;dbl&gt; | ESTIMATEScore &lt;dbl&gt; | sample_id &lt;chr&gt; | group &lt;chr&gt; | cohort &lt;chr&gt; |\n",
       "|---|---|---|---|---|---|---|---|\n",
       "| 1 | TARGET-30-PAIFXV-01A-01R | -537.97880 |  483.8556 |   -54.1232 | TARGET-30-PAIFXV-01A | TARGET | NBL |\n",
       "| 2 | TARGET-30-PAIPGU-01A-01R | -319.22630 | 1240.6492 |   921.4229 | TARGET-30-PAIPGU-01A | TARGET | NBL |\n",
       "| 3 | TARGET-30-PAISNS-01A-01R | -899.30090 | -128.2337 | -1027.5347 | TARGET-30-PAISNS-01A | TARGET | NBL |\n",
       "| 4 | TARGET-30-PAITCI-01A-01R | -327.26820 |  200.6735 |  -126.5947 | TARGET-30-PAITCI-01A | TARGET | NBL |\n",
       "| 5 | TARGET-30-PAIVHE-01A-01R |  -15.87499 | 1033.6469 |  1017.7719 | TARGET-30-PAIVHE-01A | TARGET | NBL |\n",
       "| 6 | TARGET-30-PAIXIF-01A-01R |  460.15050 |  978.1672 |  1438.3177 | TARGET-30-PAIXIF-01A | TARGET | NBL |\n",
       "\n"
      ],
      "text/plain": [
       "  aliquot_id               StromalScore ImmuneScore ESTIMATEScore\n",
       "1 TARGET-30-PAIFXV-01A-01R -537.97880    483.8556     -54.1232   \n",
       "2 TARGET-30-PAIPGU-01A-01R -319.22630   1240.6492     921.4229   \n",
       "3 TARGET-30-PAISNS-01A-01R -899.30090   -128.2337   -1027.5347   \n",
       "4 TARGET-30-PAITCI-01A-01R -327.26820    200.6735    -126.5947   \n",
       "5 TARGET-30-PAIVHE-01A-01R  -15.87499   1033.6469    1017.7719   \n",
       "6 TARGET-30-PAIXIF-01A-01R  460.15050    978.1672    1438.3177   \n",
       "  sample_id            group  cohort\n",
       "1 TARGET-30-PAIFXV-01A TARGET NBL   \n",
       "2 TARGET-30-PAIPGU-01A TARGET NBL   \n",
       "3 TARGET-30-PAISNS-01A TARGET NBL   \n",
       "4 TARGET-30-PAITCI-01A TARGET NBL   \n",
       "5 TARGET-30-PAIVHE-01A TARGET NBL   \n",
       "6 TARGET-30-PAIXIF-01A TARGET NBL   "
      ]
     },
     "metadata": {},
     "output_type": "display_data"
    }
   ],
   "source": [
    "head(estimate_ped_pdx)"
   ]
  },
  {
   "cell_type": "markdown",
   "metadata": {},
   "source": [
    "Add in dummy variables to separate adult and ped"
   ]
  },
  {
   "cell_type": "code",
   "execution_count": 22,
   "metadata": {},
   "outputs": [],
   "source": [
    "emptyvar <- as.data.frame(matrix(ncol = 7, nrow = 2))\n",
    "colnames(emptyvar) <- colnames(estimate_ped_pdx)"
   ]
  },
  {
   "cell_type": "code",
   "execution_count": 23,
   "metadata": {},
   "outputs": [],
   "source": [
    "emptyvar$group <- as.character(emptyvar$group)\n",
    "emptyvar$cohort <- as.character(emptyvar$cohort)"
   ]
  },
  {
   "cell_type": "code",
   "execution_count": 24,
   "metadata": {},
   "outputs": [],
   "source": [
    "emptyvar[1,\"aliquot_id\"] <- \"empty1\"\n",
    "emptyvar[2,\"aliquot_id\"] <- \"empty2\"\n",
    "\n",
    "emptyvar[1,\"sample_id\"] <- \"empty1\"\n",
    "emptyvar[2,\"sample_id\"] <- \"empty2\"\n",
    "\n",
    "emptyvar[1,\"ImmuneScore\"] <- 3500\n",
    "emptyvar[2,\"ImmuneScore\"] <- 3500\n",
    "\n",
    "emptyvar[1,\"cohort\"] <- \"EMPTY1\"\n",
    "emptyvar[2,\"cohort\"] <- \"EMPTY2\""
   ]
  },
  {
   "cell_type": "code",
   "execution_count": 25,
   "metadata": {},
   "outputs": [],
   "source": [
    "estimate_ped_pdx <- rbind(estimate_ped_pdx,emptyvar)"
   ]
  },
  {
   "cell_type": "code",
   "execution_count": 26,
   "metadata": {},
   "outputs": [],
   "source": [
    "estimate_ped_pdx$percread <- 8.0947988*exp(estimate_ped_pdx$ImmuneScore*0.0006267)"
   ]
  },
  {
   "cell_type": "code",
   "execution_count": 27,
   "metadata": {},
   "outputs": [],
   "source": [
    "immune.cohorts <- cbind(NA, unique(estimate_ped_pdx$cohort))\n",
    "colnames(immune.cohorts) <- c(\"group\",\"cohort\")\n",
    "immune.cohorts <- as.data.frame(immune.cohorts)\n",
    "\n",
    "immune.cohorts$group <- as.character(immune.cohorts$group)"
   ]
  },
  {
   "cell_type": "code",
   "execution_count": 28,
   "metadata": {},
   "outputs": [],
   "source": [
    "adults <- c(\"PRAD\", \"LGG\", \"OV\", \"SKCM\", \"COAD\", \"GBM\", \"LUAD\")\n",
    "\n",
    "peds <- c(\"PDX\",\"ETMR\", \"MB\", \"ATRT\", \"EPN\", \"pedHGG\", \"CP\", \"NBL\", \"pedLGG\", \"CPH\", \"MNG\", \"SCHW\", \"NFB\")"
   ]
  },
  {
   "cell_type": "code",
   "execution_count": 29,
   "metadata": {},
   "outputs": [],
   "source": [
    "immune.cohorts[immune.cohorts$cohort %in% adults, 1] <- \"Adult\"\n",
    "immune.cohorts[immune.cohorts$cohort %in% peds, 1] <- \"Pediatric\"\n",
    "\n",
    "immune.cohorts[immune.cohorts$cohort == \"EMPTY1\",1] <- \"Pediatric\"\n",
    "immune.cohorts[immune.cohorts$cohort == \"EMPTY2\",1] <- \"Pediatric\""
   ]
  },
  {
   "cell_type": "markdown",
   "metadata": {},
   "source": [
    "Get median immunescore and order"
   ]
  },
  {
   "cell_type": "code",
   "execution_count": 30,
   "metadata": {},
   "outputs": [],
   "source": [
    "for(i in 1:nrow(immune.cohorts)){\n",
    "    immune.cohorts$median_immunereads[i]<-median(estimate_ped_pdx$percread[estimate_ped_pdx$cohort == immune.cohorts$cohort[i]])}"
   ]
  },
  {
   "cell_type": "code",
   "execution_count": 31,
   "metadata": {},
   "outputs": [],
   "source": [
    "tmp <- immune.cohorts[which(immune.cohorts$group == \"Pediatric\"),]\n",
    "tmp1 <- immune.cohorts[which(immune.cohorts$group == \"Adult\"),]\n",
    "immune.cohorts <- rbind(tmp,tmp1)"
   ]
  },
  {
   "cell_type": "code",
   "execution_count": 32,
   "metadata": {},
   "outputs": [],
   "source": [
    "immune.cohorts$cohort <- factor(immune.cohorts$cohort, levels = c(\"PDX\",\"ETMR\", \"MB\", \"ATRT\", \"EPN\", \"pedHGG\", \"CP\", \n",
    "                                                                  \"NBL\", \"pedLGG\", \"CPH\",  \"MNG\", \"SCHW\", \"NFB\", \n",
    "                                                                  \"EMPTY1\",\"EMPTY2\", \"PRAD\", \"LGG\", \"OV\", \"SKCM\", \n",
    "                                                                  \"COAD\", \"GBM\", \"LUAD\"))                                          "
   ]
  },
  {
   "cell_type": "code",
   "execution_count": 33,
   "metadata": {},
   "outputs": [],
   "source": [
    "immune.cohorts <- immune.cohorts[order(immune.cohorts$cohort),]"
   ]
  },
  {
   "cell_type": "code",
   "execution_count": 34,
   "metadata": {},
   "outputs": [
    {
     "data": {
      "text/html": [
       "<table class=\"dataframe\">\n",
       "<caption>A data.frame: 22 × 3</caption>\n",
       "<thead>\n",
       "\t<tr><th></th><th scope=col>group</th><th scope=col>cohort</th><th scope=col>median_immunereads</th></tr>\n",
       "\t<tr><th></th><th scope=col>&lt;chr&gt;</th><th scope=col>&lt;fct&gt;</th><th scope=col>&lt;dbl&gt;</th></tr>\n",
       "</thead>\n",
       "<tbody>\n",
       "\t<tr><th scope=row>20</th><td>Pediatric</td><td>PDX   </td><td> 1.573260</td></tr>\n",
       "\t<tr><th scope=row>19</th><td>Pediatric</td><td>ETMR  </td><td> 2.737464</td></tr>\n",
       "\t<tr><th scope=row>12</th><td>Pediatric</td><td>MB    </td><td> 2.797472</td></tr>\n",
       "\t<tr><th scope=row>17</th><td>Pediatric</td><td>ATRT  </td><td> 5.450459</td></tr>\n",
       "\t<tr><th scope=row>14</th><td>Pediatric</td><td>EPN   </td><td> 5.961374</td></tr>\n",
       "\t<tr><th scope=row>13</th><td>Pediatric</td><td>pedHGG</td><td> 6.612176</td></tr>\n",
       "\t<tr><th scope=row>16</th><td>Pediatric</td><td>CP    </td><td> 7.346129</td></tr>\n",
       "\t<tr><th scope=row>1</th><td>Pediatric</td><td>NBL   </td><td> 8.826792</td></tr>\n",
       "\t<tr><th scope=row>11</th><td>Pediatric</td><td>pedLGG</td><td>10.185701</td></tr>\n",
       "\t<tr><th scope=row>10</th><td>Pediatric</td><td>CPH   </td><td>12.648226</td></tr>\n",
       "\t<tr><th scope=row>18</th><td>Pediatric</td><td>MNG   </td><td>15.312929</td></tr>\n",
       "\t<tr><th scope=row>15</th><td>Pediatric</td><td>SCHW  </td><td>17.853247</td></tr>\n",
       "\t<tr><th scope=row>9</th><td>Pediatric</td><td>NFB   </td><td>22.600962</td></tr>\n",
       "\t<tr><th scope=row>21</th><td>Pediatric</td><td>EMPTY1</td><td>72.578718</td></tr>\n",
       "\t<tr><th scope=row>22</th><td>Pediatric</td><td>EMPTY2</td><td>72.578718</td></tr>\n",
       "\t<tr><th scope=row>5</th><td>Adult    </td><td>PRAD  </td><td> 6.721827</td></tr>\n",
       "\t<tr><th scope=row>8</th><td>Adult    </td><td>LGG   </td><td> 7.002003</td></tr>\n",
       "\t<tr><th scope=row>3</th><td>Adult    </td><td>OV    </td><td> 9.779851</td></tr>\n",
       "\t<tr><th scope=row>7</th><td>Adult    </td><td>SKCM  </td><td>10.143574</td></tr>\n",
       "\t<tr><th scope=row>6</th><td>Adult    </td><td>COAD  </td><td>10.245288</td></tr>\n",
       "\t<tr><th scope=row>2</th><td>Adult    </td><td>GBM   </td><td>12.892762</td></tr>\n",
       "\t<tr><th scope=row>4</th><td>Adult    </td><td>LUAD  </td><td>19.936721</td></tr>\n",
       "</tbody>\n",
       "</table>\n"
      ],
      "text/latex": [
       "A data.frame: 22 × 3\n",
       "\\begin{tabular}{r|lll}\n",
       "  & group & cohort & median\\_immunereads\\\\\n",
       "  & <chr> & <fct> & <dbl>\\\\\n",
       "\\hline\n",
       "\t20 & Pediatric & PDX    &  1.573260\\\\\n",
       "\t19 & Pediatric & ETMR   &  2.737464\\\\\n",
       "\t12 & Pediatric & MB     &  2.797472\\\\\n",
       "\t17 & Pediatric & ATRT   &  5.450459\\\\\n",
       "\t14 & Pediatric & EPN    &  5.961374\\\\\n",
       "\t13 & Pediatric & pedHGG &  6.612176\\\\\n",
       "\t16 & Pediatric & CP     &  7.346129\\\\\n",
       "\t1 & Pediatric & NBL    &  8.826792\\\\\n",
       "\t11 & Pediatric & pedLGG & 10.185701\\\\\n",
       "\t10 & Pediatric & CPH    & 12.648226\\\\\n",
       "\t18 & Pediatric & MNG    & 15.312929\\\\\n",
       "\t15 & Pediatric & SCHW   & 17.853247\\\\\n",
       "\t9 & Pediatric & NFB    & 22.600962\\\\\n",
       "\t21 & Pediatric & EMPTY1 & 72.578718\\\\\n",
       "\t22 & Pediatric & EMPTY2 & 72.578718\\\\\n",
       "\t5 & Adult     & PRAD   &  6.721827\\\\\n",
       "\t8 & Adult     & LGG    &  7.002003\\\\\n",
       "\t3 & Adult     & OV     &  9.779851\\\\\n",
       "\t7 & Adult     & SKCM   & 10.143574\\\\\n",
       "\t6 & Adult     & COAD   & 10.245288\\\\\n",
       "\t2 & Adult     & GBM    & 12.892762\\\\\n",
       "\t4 & Adult     & LUAD   & 19.936721\\\\\n",
       "\\end{tabular}\n"
      ],
      "text/markdown": [
       "\n",
       "A data.frame: 22 × 3\n",
       "\n",
       "| <!--/--> | group &lt;chr&gt; | cohort &lt;fct&gt; | median_immunereads &lt;dbl&gt; |\n",
       "|---|---|---|---|\n",
       "| 20 | Pediatric | PDX    |  1.573260 |\n",
       "| 19 | Pediatric | ETMR   |  2.737464 |\n",
       "| 12 | Pediatric | MB     |  2.797472 |\n",
       "| 17 | Pediatric | ATRT   |  5.450459 |\n",
       "| 14 | Pediatric | EPN    |  5.961374 |\n",
       "| 13 | Pediatric | pedHGG |  6.612176 |\n",
       "| 16 | Pediatric | CP     |  7.346129 |\n",
       "| 1 | Pediatric | NBL    |  8.826792 |\n",
       "| 11 | Pediatric | pedLGG | 10.185701 |\n",
       "| 10 | Pediatric | CPH    | 12.648226 |\n",
       "| 18 | Pediatric | MNG    | 15.312929 |\n",
       "| 15 | Pediatric | SCHW   | 17.853247 |\n",
       "| 9 | Pediatric | NFB    | 22.600962 |\n",
       "| 21 | Pediatric | EMPTY1 | 72.578718 |\n",
       "| 22 | Pediatric | EMPTY2 | 72.578718 |\n",
       "| 5 | Adult     | PRAD   |  6.721827 |\n",
       "| 8 | Adult     | LGG    |  7.002003 |\n",
       "| 3 | Adult     | OV     |  9.779851 |\n",
       "| 7 | Adult     | SKCM   | 10.143574 |\n",
       "| 6 | Adult     | COAD   | 10.245288 |\n",
       "| 2 | Adult     | GBM    | 12.892762 |\n",
       "| 4 | Adult     | LUAD   | 19.936721 |\n",
       "\n"
      ],
      "text/plain": [
       "   group     cohort median_immunereads\n",
       "20 Pediatric PDX     1.573260         \n",
       "19 Pediatric ETMR    2.737464         \n",
       "12 Pediatric MB      2.797472         \n",
       "17 Pediatric ATRT    5.450459         \n",
       "14 Pediatric EPN     5.961374         \n",
       "13 Pediatric pedHGG  6.612176         \n",
       "16 Pediatric CP      7.346129         \n",
       "1  Pediatric NBL     8.826792         \n",
       "11 Pediatric pedLGG 10.185701         \n",
       "10 Pediatric CPH    12.648226         \n",
       "18 Pediatric MNG    15.312929         \n",
       "15 Pediatric SCHW   17.853247         \n",
       "9  Pediatric NFB    22.600962         \n",
       "21 Pediatric EMPTY1 72.578718         \n",
       "22 Pediatric EMPTY2 72.578718         \n",
       "5  Adult     PRAD    6.721827         \n",
       "8  Adult     LGG     7.002003         \n",
       "3  Adult     OV      9.779851         \n",
       "7  Adult     SKCM   10.143574         \n",
       "6  Adult     COAD   10.245288         \n",
       "2  Adult     GBM    12.892762         \n",
       "4  Adult     LUAD   19.936721         "
      ]
     },
     "metadata": {},
     "output_type": "display_data"
    }
   ],
   "source": [
    "immune.cohorts"
   ]
  },
  {
   "cell_type": "markdown",
   "metadata": {},
   "source": [
    "Get X positions for increasing immunescore in each cancer type"
   ]
  },
  {
   "cell_type": "code",
   "execution_count": 35,
   "metadata": {},
   "outputs": [],
   "source": [
    "disease.width <- (nrow(estimate_ped_pdx)/nrow(immune.cohorts)) \n",
    "sorted.estimate_ped_pdx <- estimate_ped_pdx[0,]\n",
    "\n",
    "start = 0\n",
    "for(i in 1:(nrow(immune.cohorts))){\n",
    "    tmp <- estimate_ped_pdx[estimate_ped_pdx$cohort == immune.cohorts$cohort[i],]\n",
    "    tmp <- tmp[order(tmp$percread),] \n",
    "    #create range of x values to squeeze dots into equal widths of the plot for each Disease regardless of the number of samples\n",
    "    div <- disease.width/nrow(tmp)\n",
    "    #If there is only one sample, put the dot in the middle of the alloted space\n",
    "    if(dim(tmp)[1]==1)\n",
    "    {\n",
    "      tmp$Xpos<-start+(disease.width/2)\n",
    "    } else tmp$Xpos<-seq(from = start, to = start+disease.width, by = div)[-1]\n",
    "    \n",
    "    sorted.estimate_ped_pdx<-rbind(sorted.estimate_ped_pdx,tmp)  \n",
    "    immune.cohorts$Median.start[i] <- tmp$Xpos[1]\n",
    "    immune.cohorts$Median.stop[i] <- tmp$Xpos[nrow(tmp)]\n",
    "    immune.cohorts$N[i]<-nrow(tmp)\n",
    "    \n",
    "    start <- start+disease.width+30\n",
    "    \n",
    "}"
   ]
  },
  {
   "cell_type": "markdown",
   "metadata": {},
   "source": [
    "position median line to center of each cancer type"
   ]
  },
  {
   "cell_type": "code",
   "execution_count": 36,
   "metadata": {},
   "outputs": [
    {
     "data": {
      "text/html": [
       "<table class=\"dataframe\">\n",
       "<caption>A data.frame: 22 × 6</caption>\n",
       "<thead>\n",
       "\t<tr><th></th><th scope=col>group</th><th scope=col>cohort</th><th scope=col>median_immunereads</th><th scope=col>Median.start</th><th scope=col>Median.stop</th><th scope=col>N</th></tr>\n",
       "\t<tr><th></th><th scope=col>&lt;chr&gt;</th><th scope=col>&lt;fct&gt;</th><th scope=col>&lt;dbl&gt;</th><th scope=col>&lt;dbl&gt;</th><th scope=col>&lt;dbl&gt;</th><th scope=col>&lt;int&gt;</th></tr>\n",
       "</thead>\n",
       "<tbody>\n",
       "\t<tr><th scope=row>20</th><td>Pediatric</td><td>PDX   </td><td> 1.573260</td><td>   1.990219</td><td> 157.2273</td><td> 79</td></tr>\n",
       "\t<tr><th scope=row>19</th><td>Pediatric</td><td>ETMR  </td><td> 2.737464</td><td> 204.696970</td><td> 344.4545</td><td>  9</td></tr>\n",
       "\t<tr><th scope=row>12</th><td>Pediatric</td><td>MB    </td><td> 2.797472</td><td> 375.210446</td><td> 531.6818</td><td>208</td></tr>\n",
       "\t<tr><th scope=row>17</th><td>Pediatric</td><td>ATRT  </td><td> 5.450459</td><td> 566.753666</td><td> 718.9091</td><td> 31</td></tr>\n",
       "\t<tr><th scope=row>14</th><td>Pediatric</td><td>EPN   </td><td> 5.961374</td><td> 751.327972</td><td> 906.1364</td><td> 65</td></tr>\n",
       "\t<tr><th scope=row>13</th><td>Pediatric</td><td>pedHGG</td><td> 6.612176</td><td> 938.030668</td><td>1093.3636</td><td> 83</td></tr>\n",
       "\t<tr><th scope=row>16</th><td>Pediatric</td><td>CP    </td><td> 7.346129</td><td>1133.190341</td><td>1280.5909</td><td> 16</td></tr>\n",
       "\t<tr><th scope=row>1</th><td>Pediatric</td><td>NBL   </td><td> 8.826792</td><td>1311.632149</td><td>1467.8182</td><td>151</td></tr>\n",
       "\t<tr><th scope=row>11</th><td>Pediatric</td><td>pedLGG</td><td>10.185701</td><td>1498.345790</td><td>1655.0455</td><td>298</td></tr>\n",
       "\t<tr><th scope=row>10</th><td>Pediatric</td><td>CPH   </td><td>12.648226</td><td>1690.868687</td><td>1842.2727</td><td> 27</td></tr>\n",
       "\t<tr><th scope=row>18</th><td>Pediatric</td><td>MNG   </td><td>15.312929</td><td>1884.367133</td><td>2029.5000</td><td> 13</td></tr>\n",
       "\t<tr><th scope=row>15</th><td>Pediatric</td><td>SCHW  </td><td>17.853247</td><td>2070.730519</td><td>2216.7273</td><td> 14</td></tr>\n",
       "\t<tr><th scope=row>9</th><td>Pediatric</td><td>NFB   </td><td>22.600962</td><td>2261.020661</td><td>2403.9545</td><td> 11</td></tr>\n",
       "\t<tr><th scope=row>21</th><td>Pediatric</td><td>EMPTY1</td><td>72.578718</td><td>2512.568182</td><td>2512.5682</td><td>  1</td></tr>\n",
       "\t<tr><th scope=row>22</th><td>Pediatric</td><td>EMPTY2</td><td>72.578718</td><td>2699.795455</td><td>2699.7955</td><td>  1</td></tr>\n",
       "\t<tr><th scope=row>5</th><td>Adult    </td><td>PRAD  </td><td> 6.721827</td><td>2808.725444</td><td>2965.6364</td><td>497</td></tr>\n",
       "\t<tr><th scope=row>8</th><td>Adult    </td><td>LGG   </td><td> 7.002003</td><td>2995.946477</td><td>3152.8636</td><td>507</td></tr>\n",
       "\t<tr><th scope=row>3</th><td>Adult    </td><td>OV    </td><td> 9.779851</td><td>3183.285157</td><td>3340.0909</td><td>373</td></tr>\n",
       "\t<tr><th scope=row>7</th><td>Adult    </td><td>SKCM  </td><td>10.143574</td><td>3371.632353</td><td>3527.3182</td><td>102</td></tr>\n",
       "\t<tr><th scope=row>6</th><td>Adult    </td><td>COAD  </td><td>10.245288</td><td>3557.845790</td><td>3714.5455</td><td>298</td></tr>\n",
       "\t<tr><th scope=row>2</th><td>Adult    </td><td>GBM   </td><td>12.892762</td><td>3745.573084</td><td>3901.7727</td><td>153</td></tr>\n",
       "\t<tr><th scope=row>4</th><td>Adult    </td><td>LUAD  </td><td>19.936721</td><td>3932.073929</td><td>4089.0000</td><td>522</td></tr>\n",
       "</tbody>\n",
       "</table>\n"
      ],
      "text/latex": [
       "A data.frame: 22 × 6\n",
       "\\begin{tabular}{r|llllll}\n",
       "  & group & cohort & median\\_immunereads & Median.start & Median.stop & N\\\\\n",
       "  & <chr> & <fct> & <dbl> & <dbl> & <dbl> & <int>\\\\\n",
       "\\hline\n",
       "\t20 & Pediatric & PDX    &  1.573260 &    1.990219 &  157.2273 &  79\\\\\n",
       "\t19 & Pediatric & ETMR   &  2.737464 &  204.696970 &  344.4545 &   9\\\\\n",
       "\t12 & Pediatric & MB     &  2.797472 &  375.210446 &  531.6818 & 208\\\\\n",
       "\t17 & Pediatric & ATRT   &  5.450459 &  566.753666 &  718.9091 &  31\\\\\n",
       "\t14 & Pediatric & EPN    &  5.961374 &  751.327972 &  906.1364 &  65\\\\\n",
       "\t13 & Pediatric & pedHGG &  6.612176 &  938.030668 & 1093.3636 &  83\\\\\n",
       "\t16 & Pediatric & CP     &  7.346129 & 1133.190341 & 1280.5909 &  16\\\\\n",
       "\t1 & Pediatric & NBL    &  8.826792 & 1311.632149 & 1467.8182 & 151\\\\\n",
       "\t11 & Pediatric & pedLGG & 10.185701 & 1498.345790 & 1655.0455 & 298\\\\\n",
       "\t10 & Pediatric & CPH    & 12.648226 & 1690.868687 & 1842.2727 &  27\\\\\n",
       "\t18 & Pediatric & MNG    & 15.312929 & 1884.367133 & 2029.5000 &  13\\\\\n",
       "\t15 & Pediatric & SCHW   & 17.853247 & 2070.730519 & 2216.7273 &  14\\\\\n",
       "\t9 & Pediatric & NFB    & 22.600962 & 2261.020661 & 2403.9545 &  11\\\\\n",
       "\t21 & Pediatric & EMPTY1 & 72.578718 & 2512.568182 & 2512.5682 &   1\\\\\n",
       "\t22 & Pediatric & EMPTY2 & 72.578718 & 2699.795455 & 2699.7955 &   1\\\\\n",
       "\t5 & Adult     & PRAD   &  6.721827 & 2808.725444 & 2965.6364 & 497\\\\\n",
       "\t8 & Adult     & LGG    &  7.002003 & 2995.946477 & 3152.8636 & 507\\\\\n",
       "\t3 & Adult     & OV     &  9.779851 & 3183.285157 & 3340.0909 & 373\\\\\n",
       "\t7 & Adult     & SKCM   & 10.143574 & 3371.632353 & 3527.3182 & 102\\\\\n",
       "\t6 & Adult     & COAD   & 10.245288 & 3557.845790 & 3714.5455 & 298\\\\\n",
       "\t2 & Adult     & GBM    & 12.892762 & 3745.573084 & 3901.7727 & 153\\\\\n",
       "\t4 & Adult     & LUAD   & 19.936721 & 3932.073929 & 4089.0000 & 522\\\\\n",
       "\\end{tabular}\n"
      ],
      "text/markdown": [
       "\n",
       "A data.frame: 22 × 6\n",
       "\n",
       "| <!--/--> | group &lt;chr&gt; | cohort &lt;fct&gt; | median_immunereads &lt;dbl&gt; | Median.start &lt;dbl&gt; | Median.stop &lt;dbl&gt; | N &lt;int&gt; |\n",
       "|---|---|---|---|---|---|---|\n",
       "| 20 | Pediatric | PDX    |  1.573260 |    1.990219 |  157.2273 |  79 |\n",
       "| 19 | Pediatric | ETMR   |  2.737464 |  204.696970 |  344.4545 |   9 |\n",
       "| 12 | Pediatric | MB     |  2.797472 |  375.210446 |  531.6818 | 208 |\n",
       "| 17 | Pediatric | ATRT   |  5.450459 |  566.753666 |  718.9091 |  31 |\n",
       "| 14 | Pediatric | EPN    |  5.961374 |  751.327972 |  906.1364 |  65 |\n",
       "| 13 | Pediatric | pedHGG |  6.612176 |  938.030668 | 1093.3636 |  83 |\n",
       "| 16 | Pediatric | CP     |  7.346129 | 1133.190341 | 1280.5909 |  16 |\n",
       "| 1 | Pediatric | NBL    |  8.826792 | 1311.632149 | 1467.8182 | 151 |\n",
       "| 11 | Pediatric | pedLGG | 10.185701 | 1498.345790 | 1655.0455 | 298 |\n",
       "| 10 | Pediatric | CPH    | 12.648226 | 1690.868687 | 1842.2727 |  27 |\n",
       "| 18 | Pediatric | MNG    | 15.312929 | 1884.367133 | 2029.5000 |  13 |\n",
       "| 15 | Pediatric | SCHW   | 17.853247 | 2070.730519 | 2216.7273 |  14 |\n",
       "| 9 | Pediatric | NFB    | 22.600962 | 2261.020661 | 2403.9545 |  11 |\n",
       "| 21 | Pediatric | EMPTY1 | 72.578718 | 2512.568182 | 2512.5682 |   1 |\n",
       "| 22 | Pediatric | EMPTY2 | 72.578718 | 2699.795455 | 2699.7955 |   1 |\n",
       "| 5 | Adult     | PRAD   |  6.721827 | 2808.725444 | 2965.6364 | 497 |\n",
       "| 8 | Adult     | LGG    |  7.002003 | 2995.946477 | 3152.8636 | 507 |\n",
       "| 3 | Adult     | OV     |  9.779851 | 3183.285157 | 3340.0909 | 373 |\n",
       "| 7 | Adult     | SKCM   | 10.143574 | 3371.632353 | 3527.3182 | 102 |\n",
       "| 6 | Adult     | COAD   | 10.245288 | 3557.845790 | 3714.5455 | 298 |\n",
       "| 2 | Adult     | GBM    | 12.892762 | 3745.573084 | 3901.7727 | 153 |\n",
       "| 4 | Adult     | LUAD   | 19.936721 | 3932.073929 | 4089.0000 | 522 |\n",
       "\n"
      ],
      "text/plain": [
       "   group     cohort median_immunereads Median.start Median.stop N  \n",
       "20 Pediatric PDX     1.573260             1.990219   157.2273    79\n",
       "19 Pediatric ETMR    2.737464           204.696970   344.4545     9\n",
       "12 Pediatric MB      2.797472           375.210446   531.6818   208\n",
       "17 Pediatric ATRT    5.450459           566.753666   718.9091    31\n",
       "14 Pediatric EPN     5.961374           751.327972   906.1364    65\n",
       "13 Pediatric pedHGG  6.612176           938.030668  1093.3636    83\n",
       "16 Pediatric CP      7.346129          1133.190341  1280.5909    16\n",
       "1  Pediatric NBL     8.826792          1311.632149  1467.8182   151\n",
       "11 Pediatric pedLGG 10.185701          1498.345790  1655.0455   298\n",
       "10 Pediatric CPH    12.648226          1690.868687  1842.2727    27\n",
       "18 Pediatric MNG    15.312929          1884.367133  2029.5000    13\n",
       "15 Pediatric SCHW   17.853247          2070.730519  2216.7273    14\n",
       "9  Pediatric NFB    22.600962          2261.020661  2403.9545    11\n",
       "21 Pediatric EMPTY1 72.578718          2512.568182  2512.5682     1\n",
       "22 Pediatric EMPTY2 72.578718          2699.795455  2699.7955     1\n",
       "5  Adult     PRAD    6.721827          2808.725444  2965.6364   497\n",
       "8  Adult     LGG     7.002003          2995.946477  3152.8636   507\n",
       "3  Adult     OV      9.779851          3183.285157  3340.0909   373\n",
       "7  Adult     SKCM   10.143574          3371.632353  3527.3182   102\n",
       "6  Adult     COAD   10.245288          3557.845790  3714.5455   298\n",
       "2  Adult     GBM    12.892762          3745.573084  3901.7727   153\n",
       "4  Adult     LUAD   19.936721          3932.073929  4089.0000   522"
      ]
     },
     "metadata": {},
     "output_type": "display_data"
    }
   ],
   "source": [
    "(immune.cohorts)"
   ]
  },
  {
   "cell_type": "code",
   "execution_count": 37,
   "metadata": {},
   "outputs": [],
   "source": [
    "immune.cohorts$medianloc <- immune.cohorts$Median.start+((immune.cohorts$Median.stop-immune.cohorts$Median.start)/2)"
   ]
  },
  {
   "cell_type": "markdown",
   "metadata": {},
   "source": [
    "order based on median dataframe"
   ]
  },
  {
   "cell_type": "code",
   "execution_count": 38,
   "metadata": {},
   "outputs": [],
   "source": [
    "sorted.estimate_ped_pdx$cohort <- factor(sorted.estimate_ped_pdx$cohort, levels = levels(immune.cohorts$cohort))     "
   ]
  },
  {
   "cell_type": "code",
   "execution_count": 39,
   "metadata": {},
   "outputs": [
    {
     "data": {
      "text/html": [
       "<table class=\"dataframe\">\n",
       "<caption>A data.frame: 6 × 9</caption>\n",
       "<thead>\n",
       "\t<tr><th></th><th scope=col>aliquot_id</th><th scope=col>StromalScore</th><th scope=col>ImmuneScore</th><th scope=col>ESTIMATEScore</th><th scope=col>sample_id</th><th scope=col>group</th><th scope=col>cohort</th><th scope=col>percread</th><th scope=col>Xpos</th></tr>\n",
       "\t<tr><th></th><th scope=col>&lt;chr&gt;</th><th scope=col>&lt;dbl&gt;</th><th scope=col>&lt;dbl&gt;</th><th scope=col>&lt;dbl&gt;</th><th scope=col>&lt;chr&gt;</th><th scope=col>&lt;chr&gt;</th><th scope=col>&lt;fct&gt;</th><th scope=col>&lt;dbl&gt;</th><th scope=col>&lt;dbl&gt;</th></tr>\n",
       "</thead>\n",
       "<tbody>\n",
       "\t<tr><th scope=row>5410</th><td>ITCC.P4_s01_MB0041_PP01_F01_R01_A03</td><td>-2553.480</td><td>-2947.849</td><td>-5501.329</td><td>ITCC.P4_s01_MB0041_PP01_F01_R01_A03</td><td>ICGC</td><td>PDX</td><td>1.276095</td><td> 1.990219</td></tr>\n",
       "\t<tr><th scope=row>6610</th><td>ITCC.P4_s01_MB0049_PP02_F01_R01_A03</td><td>-2678.776</td><td>-2929.615</td><td>-5608.391</td><td>ITCC.P4_s01_MB0049_PP02_F01_R01_A03</td><td>ICGC</td><td>PDX</td><td>1.290761</td><td> 3.980437</td></tr>\n",
       "\t<tr><th scope=row>712</th><td>Med1512FH_P0.3                     </td><td>-2525.776</td><td>-2916.426</td><td>-5442.202</td><td>Med1512FH_P0.3                     </td><td>ICGC</td><td>PDX</td><td>1.301474</td><td> 5.970656</td></tr>\n",
       "\t<tr><th scope=row>5510</th><td>ITCC.P4_s01_MB0041_PP02_F01_R01_A03</td><td>-2470.460</td><td>-2875.561</td><td>-5346.021</td><td>ITCC.P4_s01_MB0041_PP02_F01_R01_A03</td><td>ICGC</td><td>PDX</td><td>1.335235</td><td> 7.960875</td></tr>\n",
       "\t<tr><th scope=row>85</th><td>Med1512FH_P5.416                   </td><td>-2496.354</td><td>-2862.779</td><td>-5359.132</td><td>Med1512FH_P5.416                   </td><td>ICGC</td><td>PDX</td><td>1.345974</td><td> 9.951093</td></tr>\n",
       "\t<tr><th scope=row>6510</th><td>ITCC.P4_s01_MB0047_PP03_F01_R01_A03</td><td>-2373.144</td><td>-2827.697</td><td>-5200.842</td><td>ITCC.P4_s01_MB0047_PP03_F01_R01_A03</td><td>ICGC</td><td>PDX</td><td>1.375894</td><td>11.941312</td></tr>\n",
       "</tbody>\n",
       "</table>\n"
      ],
      "text/latex": [
       "A data.frame: 6 × 9\n",
       "\\begin{tabular}{r|lllllllll}\n",
       "  & aliquot\\_id & StromalScore & ImmuneScore & ESTIMATEScore & sample\\_id & group & cohort & percread & Xpos\\\\\n",
       "  & <chr> & <dbl> & <dbl> & <dbl> & <chr> & <chr> & <fct> & <dbl> & <dbl>\\\\\n",
       "\\hline\n",
       "\t5410 & ITCC.P4\\_s01\\_MB0041\\_PP01\\_F01\\_R01\\_A03 & -2553.480 & -2947.849 & -5501.329 & ITCC.P4\\_s01\\_MB0041\\_PP01\\_F01\\_R01\\_A03 & ICGC & PDX & 1.276095 &  1.990219\\\\\n",
       "\t6610 & ITCC.P4\\_s01\\_MB0049\\_PP02\\_F01\\_R01\\_A03 & -2678.776 & -2929.615 & -5608.391 & ITCC.P4\\_s01\\_MB0049\\_PP02\\_F01\\_R01\\_A03 & ICGC & PDX & 1.290761 &  3.980437\\\\\n",
       "\t712 & Med1512FH\\_P0.3                      & -2525.776 & -2916.426 & -5442.202 & Med1512FH\\_P0.3                      & ICGC & PDX & 1.301474 &  5.970656\\\\\n",
       "\t5510 & ITCC.P4\\_s01\\_MB0041\\_PP02\\_F01\\_R01\\_A03 & -2470.460 & -2875.561 & -5346.021 & ITCC.P4\\_s01\\_MB0041\\_PP02\\_F01\\_R01\\_A03 & ICGC & PDX & 1.335235 &  7.960875\\\\\n",
       "\t85 & Med1512FH\\_P5.416                    & -2496.354 & -2862.779 & -5359.132 & Med1512FH\\_P5.416                    & ICGC & PDX & 1.345974 &  9.951093\\\\\n",
       "\t6510 & ITCC.P4\\_s01\\_MB0047\\_PP03\\_F01\\_R01\\_A03 & -2373.144 & -2827.697 & -5200.842 & ITCC.P4\\_s01\\_MB0047\\_PP03\\_F01\\_R01\\_A03 & ICGC & PDX & 1.375894 & 11.941312\\\\\n",
       "\\end{tabular}\n"
      ],
      "text/markdown": [
       "\n",
       "A data.frame: 6 × 9\n",
       "\n",
       "| <!--/--> | aliquot_id &lt;chr&gt; | StromalScore &lt;dbl&gt; | ImmuneScore &lt;dbl&gt; | ESTIMATEScore &lt;dbl&gt; | sample_id &lt;chr&gt; | group &lt;chr&gt; | cohort &lt;fct&gt; | percread &lt;dbl&gt; | Xpos &lt;dbl&gt; |\n",
       "|---|---|---|---|---|---|---|---|---|---|\n",
       "| 5410 | ITCC.P4_s01_MB0041_PP01_F01_R01_A03 | -2553.480 | -2947.849 | -5501.329 | ITCC.P4_s01_MB0041_PP01_F01_R01_A03 | ICGC | PDX | 1.276095 |  1.990219 |\n",
       "| 6610 | ITCC.P4_s01_MB0049_PP02_F01_R01_A03 | -2678.776 | -2929.615 | -5608.391 | ITCC.P4_s01_MB0049_PP02_F01_R01_A03 | ICGC | PDX | 1.290761 |  3.980437 |\n",
       "| 712 | Med1512FH_P0.3                      | -2525.776 | -2916.426 | -5442.202 | Med1512FH_P0.3                      | ICGC | PDX | 1.301474 |  5.970656 |\n",
       "| 5510 | ITCC.P4_s01_MB0041_PP02_F01_R01_A03 | -2470.460 | -2875.561 | -5346.021 | ITCC.P4_s01_MB0041_PP02_F01_R01_A03 | ICGC | PDX | 1.335235 |  7.960875 |\n",
       "| 85 | Med1512FH_P5.416                    | -2496.354 | -2862.779 | -5359.132 | Med1512FH_P5.416                    | ICGC | PDX | 1.345974 |  9.951093 |\n",
       "| 6510 | ITCC.P4_s01_MB0047_PP03_F01_R01_A03 | -2373.144 | -2827.697 | -5200.842 | ITCC.P4_s01_MB0047_PP03_F01_R01_A03 | ICGC | PDX | 1.375894 | 11.941312 |\n",
       "\n"
      ],
      "text/plain": [
       "     aliquot_id                          StromalScore ImmuneScore ESTIMATEScore\n",
       "5410 ITCC.P4_s01_MB0041_PP01_F01_R01_A03 -2553.480    -2947.849   -5501.329    \n",
       "6610 ITCC.P4_s01_MB0049_PP02_F01_R01_A03 -2678.776    -2929.615   -5608.391    \n",
       "712  Med1512FH_P0.3                      -2525.776    -2916.426   -5442.202    \n",
       "5510 ITCC.P4_s01_MB0041_PP02_F01_R01_A03 -2470.460    -2875.561   -5346.021    \n",
       "85   Med1512FH_P5.416                    -2496.354    -2862.779   -5359.132    \n",
       "6510 ITCC.P4_s01_MB0047_PP03_F01_R01_A03 -2373.144    -2827.697   -5200.842    \n",
       "     sample_id                           group cohort percread Xpos     \n",
       "5410 ITCC.P4_s01_MB0041_PP01_F01_R01_A03 ICGC  PDX    1.276095  1.990219\n",
       "6610 ITCC.P4_s01_MB0049_PP02_F01_R01_A03 ICGC  PDX    1.290761  3.980437\n",
       "712  Med1512FH_P0.3                      ICGC  PDX    1.301474  5.970656\n",
       "5510 ITCC.P4_s01_MB0041_PP02_F01_R01_A03 ICGC  PDX    1.335235  7.960875\n",
       "85   Med1512FH_P5.416                    ICGC  PDX    1.345974  9.951093\n",
       "6510 ITCC.P4_s01_MB0047_PP03_F01_R01_A03 ICGC  PDX    1.375894 11.941312"
      ]
     },
     "metadata": {},
     "output_type": "display_data"
    }
   ],
   "source": [
    "head(sorted.estimate_ped_pdx)"
   ]
  },
  {
   "cell_type": "code",
   "execution_count": 40,
   "metadata": {},
   "outputs": [],
   "source": [
    "rmEMPTY <- rep(\"black\",22)\n",
    "rmEMPTY[14:15] <- \"white\""
   ]
  },
  {
   "cell_type": "code",
   "execution_count": 41,
   "metadata": {},
   "outputs": [],
   "source": [
    "immune.cohorts$color_crossbar <- NA\n",
    "\n",
    "immune.cohorts$color_crossbar[immune.cohorts$cohort == \"EMPTY1\"] <- \"white\"\n",
    "immune.cohorts$color_crossbar[immune.cohorts$cohort == \"EMPTY2\"] <- \"white\"\n",
    "\n",
    "immune.cohorts$color_crossbar[is.na(immune.cohorts$color_crossbar)] <- \"black\""
   ]
  },
  {
   "cell_type": "code",
   "execution_count": 42,
   "metadata": {},
   "outputs": [
    {
     "data": {
      "text/html": [
       "<style>\n",
       ".dl-inline {width: auto; margin:0; padding: 0}\n",
       ".dl-inline>dt, .dl-inline>dd {float: none; width: auto; display: inline-block}\n",
       ".dl-inline>dt::after {content: \":\\0020\"; padding-right: .5ex}\n",
       ".dl-inline>dt:not(:first-of-type) {padding-left: .5ex}\n",
       "</style><dl class=dl-inline><dt>PDX</dt><dd>'#878787'</dd><dt>ETMR</dt><dd>'#76afa9'</dd><dt>MNG</dt><dd>'#a6cee3'</dd><dt>MB</dt><dd>'#1f78b4'</dd><dt>SCHW</dt><dd>'#678ba5'</dd><dt>ATRT</dt><dd>'#33a02c'</dd><dt>EPN</dt><dd>'#e31a1c'</dd><dt>pedHGG</dt><dd>'#fdbf6f'</dd><dt>pedLGG</dt><dd>'#8763ae'</dd><dt>NFB</dt><dd>'#cab2d6'</dd><dt>CPH</dt><dd>'#cccc7a'</dd><dt>CP</dt><dd>'#a9a9a9'</dd><dt>NBL</dt><dd>'#b2df8a'</dd><dt>SKCM</dt><dd>'#7c9c60'</dd><dt>LGG</dt><dd>'#753a00'</dd><dt>GBM</dt><dd>'#6a3d9a'</dd><dt>OV</dt><dd>'#afaf78'</dd><dt>PRAD</dt><dd>'#a85426'</dd><dt>LUAD</dt><dd>'#ad3837'</dd><dt>COAD</dt><dd>'#726579'</dd><dt>EMPTY1</dt><dd>'#FFFFFF'</dd><dt>EMPTY2</dt><dd>'#FFFFFF'</dd></dl>\n"
      ],
      "text/latex": [
       "\\begin{description*}\n",
       "\\item[PDX] '\\#878787'\n",
       "\\item[ETMR] '\\#76afa9'\n",
       "\\item[MNG] '\\#a6cee3'\n",
       "\\item[MB] '\\#1f78b4'\n",
       "\\item[SCHW] '\\#678ba5'\n",
       "\\item[ATRT] '\\#33a02c'\n",
       "\\item[EPN] '\\#e31a1c'\n",
       "\\item[pedHGG] '\\#fdbf6f'\n",
       "\\item[pedLGG] '\\#8763ae'\n",
       "\\item[NFB] '\\#cab2d6'\n",
       "\\item[CPH] '\\#cccc7a'\n",
       "\\item[CP] '\\#a9a9a9'\n",
       "\\item[NBL] '\\#b2df8a'\n",
       "\\item[SKCM] '\\#7c9c60'\n",
       "\\item[LGG] '\\#753a00'\n",
       "\\item[GBM] '\\#6a3d9a'\n",
       "\\item[OV] '\\#afaf78'\n",
       "\\item[PRAD] '\\#a85426'\n",
       "\\item[LUAD] '\\#ad3837'\n",
       "\\item[COAD] '\\#726579'\n",
       "\\item[EMPTY1] '\\#FFFFFF'\n",
       "\\item[EMPTY2] '\\#FFFFFF'\n",
       "\\end{description*}\n"
      ],
      "text/markdown": [
       "PDX\n",
       ":   '#878787'ETMR\n",
       ":   '#76afa9'MNG\n",
       ":   '#a6cee3'MB\n",
       ":   '#1f78b4'SCHW\n",
       ":   '#678ba5'ATRT\n",
       ":   '#33a02c'EPN\n",
       ":   '#e31a1c'pedHGG\n",
       ":   '#fdbf6f'pedLGG\n",
       ":   '#8763ae'NFB\n",
       ":   '#cab2d6'CPH\n",
       ":   '#cccc7a'CP\n",
       ":   '#a9a9a9'NBL\n",
       ":   '#b2df8a'SKCM\n",
       ":   '#7c9c60'LGG\n",
       ":   '#753a00'GBM\n",
       ":   '#6a3d9a'OV\n",
       ":   '#afaf78'PRAD\n",
       ":   '#a85426'LUAD\n",
       ":   '#ad3837'COAD\n",
       ":   '#726579'EMPTY1\n",
       ":   '#FFFFFF'EMPTY2\n",
       ":   '#FFFFFF'\n",
       "\n"
      ],
      "text/plain": [
       "      PDX      ETMR       MNG        MB      SCHW      ATRT       EPN    pedHGG \n",
       "\"#878787\" \"#76afa9\" \"#a6cee3\" \"#1f78b4\" \"#678ba5\" \"#33a02c\" \"#e31a1c\" \"#fdbf6f\" \n",
       "   pedLGG       NFB       CPH        CP       NBL      SKCM       LGG       GBM \n",
       "\"#8763ae\" \"#cab2d6\" \"#cccc7a\" \"#a9a9a9\" \"#b2df8a\" \"#7c9c60\" \"#753a00\" \"#6a3d9a\" \n",
       "       OV      PRAD      LUAD      COAD    EMPTY1    EMPTY2 \n",
       "\"#afaf78\" \"#a85426\" \"#ad3837\" \"#726579\" \"#FFFFFF\" \"#FFFFFF\" "
      ]
     },
     "metadata": {},
     "output_type": "display_data"
    }
   ],
   "source": [
    "cohort_col"
   ]
  },
  {
   "cell_type": "code",
   "execution_count": 43,
   "metadata": {},
   "outputs": [
    {
     "name": "stderr",
     "output_type": "stream",
     "text": [
      "Warning message:\n",
      "“Vectorized input to `element_text()` is not officially supported.\n",
      "Results may be unexpected or may change in future versions of ggplot2.”\n"
     ]
    }
   ],
   "source": [
    "immuneplot <- ggplot() + \n",
    "geom_point(data = sorted.estimate_ped_pdx, aes(x = Xpos ,y = percread, color = cohort), \n",
    "           size = 7, shape = 20) +\n",
    "\n",
    "geom_crossbar(data = immune.cohorts, \n",
    "                   aes(x = medianloc,y = median_immunereads, color = color_crossbar,\n",
    "                       ymin = median_immunereads,ymax = median_immunereads), width = disease.width) +\n",
    "myaxis + myplot +\n",
    "theme(axis.title.x = element_blank(),\n",
    "      axis.text.x = element_text(angle = 45, hjust = 1, color = rmEMPTY)) +\n",
    "scale_color_manual(values = c(cohort_col, \"white\" = \"white\", \"black\" = \"black\"), guide = FALSE) +\n",
    "scale_x_continuous(breaks = seq((disease.width)/2,max(sorted.estimate_ped_pdx$Xpos),\n",
    "                                disease.width+30), labels = immune.cohorts$cohort, expand = c(0,20)) + \n",
    "scale_y_continuous(breaks = seq(0, 70, by = 10)) + \n",
    "labs(y = \"% Immune Reads\") "
   ]
  },
  {
   "cell_type": "code",
   "execution_count": 44,
   "metadata": {},
   "outputs": [
    {
     "data": {
      "image/png": "[encoded data removed]",
      "text/plain": [
       "plot without title"
      ]
     },
     "metadata": {
      "image/png": {
       "height": 420,
       "width": 420
      }
     },
     "output_type": "display_data"
    }
   ],
   "source": [
    "immuneplot"
   ]
  },
  {
   "cell_type": "code",
   "execution_count": 45,
   "metadata": {},
   "outputs": [
    {
     "data": {
      "text/html": [
       "<strong>pdf:</strong> 2"
      ],
      "text/latex": [
       "\\textbf{pdf:} 2"
      ],
      "text/markdown": [
       "**pdf:** 2"
      ],
      "text/plain": [
       "pdf \n",
       "  2 "
      ]
     },
     "metadata": {},
     "output_type": "display_data"
    }
   ],
   "source": [
    "pdf(file = paste0(plotpath,\"Immunereads_Splot.pdf\"),\n",
    "        width = 20, height = 8, useDingbats = FALSE)\n",
    "print(immuneplot)\n",
    "dev.off()"
   ]
  },
  {
   "cell_type": "code",
   "execution_count": null,
   "metadata": {},
   "outputs": [],
   "source": []
  },
  {
   "cell_type": "code",
   "execution_count": null,
   "metadata": {},
   "outputs": [],
   "source": []
  }
 ],
 "metadata": {
  "kernelspec": {
   "display_name": "R 4.0",
   "language": "R",
   "name": "ir40"
  },
  "language_info": {
   "codemirror_mode": "r",
   "file_extension": ".r",
   "mimetype": "text/x-r-source",
   "name": "R",
   "pygments_lexer": "r",
   "version": "4.0.3"
  },
  "toc": {
   "base_numbering": 1,
   "nav_menu": {},
   "number_sections": false,
   "sideBar": true,
   "skip_h1_title": false,
   "title_cell": "Table of Contents",
   "title_sidebar": "Contents",
   "toc_cell": true,
   "toc_position": {
    "height": "calc(100% - 180px)",
    "left": "10px",
    "top": "150px",
    "width": "218.6px"
   },
   "toc_section_display": true,
   "toc_window_display": true
  }
 },
 "nbformat": 4,
 "nbformat_minor": 2
}
