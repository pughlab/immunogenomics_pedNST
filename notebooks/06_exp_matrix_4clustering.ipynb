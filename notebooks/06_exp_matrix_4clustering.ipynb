{
 "cells": [
  {
   "cell_type": "markdown",
   "metadata": {
    "toc": true
   },
   "source": [
    "<h1>Table of Contents<span class=\"tocSkip\"></span></h1>\n",
    "<div class=\"toc\"><ul class=\"toc-item\"><li><span><a href=\"#Dependencies\" data-toc-modified-id=\"Dependencies-1\">Dependencies</a></span></li><li><span><a href=\"#Functions\" data-toc-modified-id=\"Functions-2\">Functions</a></span></li><li><span><a href=\"#Paths\" data-toc-modified-id=\"Paths-3\">Paths</a></span></li><li><span><a href=\"#Main\" data-toc-modified-id=\"Main-4\">Main</a></span><ul class=\"toc-item\"><li><span><a href=\"#Subset-to-primary-samples-only\" data-toc-modified-id=\"Subset-to-primary-samples-only-4.1\">Subset to primary samples only</a></span></li><li><span><a href=\"#DKFZ\" data-toc-modified-id=\"DKFZ-4.2\">DKFZ</a></span></li><li><span><a href=\"#TARGET\" data-toc-modified-id=\"TARGET-4.3\">TARGET</a></span></li><li><span><a href=\"#TCGA\" data-toc-modified-id=\"TCGA-4.4\">TCGA</a></span></li><li><span><a href=\"#Merge-all\" data-toc-modified-id=\"Merge-all-4.5\">Merge all</a></span></li></ul></li></ul></div>"
   ]
  },
  {
   "cell_type": "markdown",
   "metadata": {},
   "source": [
    "# Dependencies"
   ]
  },
  {
   "cell_type": "code",
   "execution_count": 1,
   "metadata": {
    "scrolled": true
   },
   "outputs": [],
   "source": [
    "library(tidyr)\n",
    "library(biomaRt)"
   ]
  },
  {
   "cell_type": "markdown",
   "metadata": {},
   "source": [
    "# Functions"
   ]
  },
  {
   "cell_type": "code",
   "execution_count": 2,
   "metadata": {},
   "outputs": [],
   "source": [
    "matchexp_matrixfx <- function(exp_matrix, estimate_manifest, group, sample_type, matchingcol){\n",
    "    \n",
    "    message(\"dimensions of exp_matrix: \", deparse(substitute(exp_matrix)))\n",
    "    print(dim(exp_matrix))\n",
    "    \n",
    "    subset_estimate_manifest <- estimate_manifest[estimate_manifest$group == group,]\n",
    "    subset_estimate_manifest_sampletype <- subset_estimate_manifest[grepl(sample_type, subset_estimate_manifest$sample_type),]\n",
    "    \n",
    "    message(\"dimensions of estimate_manifest_df for: \", group, \" sample_type:\", sample_type)\n",
    "    print(dim(subset_estimate_manifest_sampletype))\n",
    "    \n",
    "    exp_matrix_matchingset <- exp_matrix[,colnames(exp_matrix) %in% \n",
    "                                         subset_estimate_manifest_sampletype[[matchingcol]]]\n",
    "    \n",
    "    message(\"dimensions of exp_matrix_matchingset for: \", deparse(substitute(exp_matrix)), \n",
    "            \" with matching column: \", matchingcol)\n",
    "    print(dim(exp_matrix_matchingset))\n",
    "    \n",
    "    exp_matrix_matchingset <- cbind(exp_matrix[,1:2], exp_matrix_matchingset)\n",
    "    \n",
    "    return(exp_matrix_matchingset)\n",
    "}"
   ]
  },
  {
   "cell_type": "markdown",
   "metadata": {},
   "source": [
    "# Paths"
   ]
  },
  {
   "cell_type": "code",
   "execution_count": 3,
   "metadata": {},
   "outputs": [],
   "source": [
    "manifestpath <- \"/Users/anabbi/OneDrive - UHN/Documents/IPD2/Manifests/\"\n",
    "datapath <- \"/Users/anabbi/OneDrive - UHN/Documents/IPD2/Data/\"\n",
    "plotpath <- \"/Users/anabbi/OneDrive - UHN/Documents/IPD2/Plots/\""
   ]
  },
  {
   "cell_type": "markdown",
   "metadata": {},
   "source": [
    "# Main"
   ]
  },
  {
   "cell_type": "markdown",
   "metadata": {},
   "source": [
    "\n",
    "## Subset to primary samples only"
   ]
  },
  {
   "cell_type": "markdown",
   "metadata": {},
   "source": [
    "This file is post cleanup, post estimate runs, post primary subset, pre clustering. for expression_clustering"
   ]
  },
  {
   "cell_type": "code",
   "execution_count": 4,
   "metadata": {},
   "outputs": [],
   "source": [
    "CBTTCtpm <- read.table(paste0(datapath, \"exp_mat/CBTTC_tpm_matrix_dedup.txt\"), header = T, sep = \"\\t\", stringsAsFactors = F, check.names = F)"
   ]
  },
  {
   "cell_type": "code",
   "execution_count": 5,
   "metadata": {},
   "outputs": [
    {
     "data": {
      "text/html": [
       "<table class=\"dataframe\">\n",
       "<caption>A data.frame: 10 × 10</caption>\n",
       "<thead>\n",
       "\t<tr><th></th><th scope=col>ensembl_id</th><th scope=col>hgnc_symbol</th><th scope=col>7316-2599</th><th scope=col>7316-1926</th><th scope=col>7316-489</th><th scope=col>7316-16</th><th scope=col>7316-13</th><th scope=col>7316-3936</th><th scope=col>7316-3632</th><th scope=col>7316-873</th></tr>\n",
       "\t<tr><th></th><th scope=col>&lt;chr&gt;</th><th scope=col>&lt;chr&gt;</th><th scope=col>&lt;dbl&gt;</th><th scope=col>&lt;dbl&gt;</th><th scope=col>&lt;dbl&gt;</th><th scope=col>&lt;dbl&gt;</th><th scope=col>&lt;dbl&gt;</th><th scope=col>&lt;dbl&gt;</th><th scope=col>&lt;dbl&gt;</th><th scope=col>&lt;dbl&gt;</th></tr>\n",
       "</thead>\n",
       "<tbody>\n",
       "\t<tr><th scope=row>1</th><td>ENSG00000000003.14</td><td>TSPAN6  </td><td>10.99</td><td> 8.66</td><td>6.15</td><td> 2.40</td><td>0.73</td><td> 1.50</td><td> 1.88</td><td>29.41</td></tr>\n",
       "\t<tr><th scope=row>2</th><td>ENSG00000000005.5 </td><td>TNMD    </td><td> 0.18</td><td> 0.02</td><td>0.03</td><td> 0.02</td><td>0.02</td><td> 0.01</td><td> 0.03</td><td> 0.33</td></tr>\n",
       "\t<tr><th scope=row>3</th><td>ENSG00000000419.12</td><td>DPM1    </td><td> 4.95</td><td> 6.15</td><td>5.09</td><td> 3.35</td><td>1.09</td><td> 3.68</td><td> 3.27</td><td> 4.89</td></tr>\n",
       "\t<tr><th scope=row>4</th><td>ENSG00000000457.13</td><td>SCYL3   </td><td> 1.50</td><td> 1.75</td><td>1.71</td><td> 0.90</td><td>0.44</td><td> 1.44</td><td> 0.89</td><td> 1.52</td></tr>\n",
       "\t<tr><th scope=row>5</th><td>ENSG00000000460.16</td><td>C1orf112</td><td> 1.70</td><td> 1.12</td><td>2.78</td><td> 0.34</td><td>0.43</td><td> 0.71</td><td> 0.57</td><td> 1.00</td></tr>\n",
       "\t<tr><th scope=row>6</th><td>ENSG00000000938.12</td><td>FGR     </td><td> 1.27</td><td> 0.90</td><td>0.18</td><td> 1.12</td><td>0.36</td><td> 1.32</td><td> 1.05</td><td> 0.93</td></tr>\n",
       "\t<tr><th scope=row>7</th><td>ENSG00000000971.15</td><td>CFH     </td><td> 2.04</td><td> 5.77</td><td>2.02</td><td> 7.50</td><td>5.57</td><td> 1.02</td><td>13.23</td><td> 2.75</td></tr>\n",
       "\t<tr><th scope=row>8</th><td>ENSG00000001036.13</td><td>FUCA2   </td><td> 7.86</td><td> 7.15</td><td>3.33</td><td> 4.47</td><td>1.40</td><td> 1.88</td><td> 8.94</td><td>10.26</td></tr>\n",
       "\t<tr><th scope=row>9</th><td>ENSG00000001084.10</td><td>GCLC    </td><td>14.26</td><td>13.19</td><td>7.39</td><td>11.16</td><td>1.20</td><td>15.90</td><td> 3.18</td><td>16.94</td></tr>\n",
       "\t<tr><th scope=row>10</th><td>ENSG00000001167.14</td><td>NFYA    </td><td> 3.12</td><td> 4.19</td><td>9.64</td><td> 2.07</td><td>1.14</td><td> 5.44</td><td> 2.35</td><td> 6.90</td></tr>\n",
       "</tbody>\n",
       "</table>\n"
      ],
      "text/latex": [
       "A data.frame: 10 × 10\n",
       "\\begin{tabular}{r|llllllllll}\n",
       "  & ensembl\\_id & hgnc\\_symbol & 7316-2599 & 7316-1926 & 7316-489 & 7316-16 & 7316-13 & 7316-3936 & 7316-3632 & 7316-873\\\\\n",
       "  & <chr> & <chr> & <dbl> & <dbl> & <dbl> & <dbl> & <dbl> & <dbl> & <dbl> & <dbl>\\\\\n",
       "\\hline\n",
       "\t1 & ENSG00000000003.14 & TSPAN6   & 10.99 &  8.66 & 6.15 &  2.40 & 0.73 &  1.50 &  1.88 & 29.41\\\\\n",
       "\t2 & ENSG00000000005.5  & TNMD     &  0.18 &  0.02 & 0.03 &  0.02 & 0.02 &  0.01 &  0.03 &  0.33\\\\\n",
       "\t3 & ENSG00000000419.12 & DPM1     &  4.95 &  6.15 & 5.09 &  3.35 & 1.09 &  3.68 &  3.27 &  4.89\\\\\n",
       "\t4 & ENSG00000000457.13 & SCYL3    &  1.50 &  1.75 & 1.71 &  0.90 & 0.44 &  1.44 &  0.89 &  1.52\\\\\n",
       "\t5 & ENSG00000000460.16 & C1orf112 &  1.70 &  1.12 & 2.78 &  0.34 & 0.43 &  0.71 &  0.57 &  1.00\\\\\n",
       "\t6 & ENSG00000000938.12 & FGR      &  1.27 &  0.90 & 0.18 &  1.12 & 0.36 &  1.32 &  1.05 &  0.93\\\\\n",
       "\t7 & ENSG00000000971.15 & CFH      &  2.04 &  5.77 & 2.02 &  7.50 & 5.57 &  1.02 & 13.23 &  2.75\\\\\n",
       "\t8 & ENSG00000001036.13 & FUCA2    &  7.86 &  7.15 & 3.33 &  4.47 & 1.40 &  1.88 &  8.94 & 10.26\\\\\n",
       "\t9 & ENSG00000001084.10 & GCLC     & 14.26 & 13.19 & 7.39 & 11.16 & 1.20 & 15.90 &  3.18 & 16.94\\\\\n",
       "\t10 & ENSG00000001167.14 & NFYA     &  3.12 &  4.19 & 9.64 &  2.07 & 1.14 &  5.44 &  2.35 &  6.90\\\\\n",
       "\\end{tabular}\n"
      ],
      "text/markdown": [
       "\n",
       "A data.frame: 10 × 10\n",
       "\n",
       "| <!--/--> | ensembl_id &lt;chr&gt; | hgnc_symbol &lt;chr&gt; | 7316-2599 &lt;dbl&gt; | 7316-1926 &lt;dbl&gt; | 7316-489 &lt;dbl&gt; | 7316-16 &lt;dbl&gt; | 7316-13 &lt;dbl&gt; | 7316-3936 &lt;dbl&gt; | 7316-3632 &lt;dbl&gt; | 7316-873 &lt;dbl&gt; |\n",
       "|---|---|---|---|---|---|---|---|---|---|---|\n",
       "| 1 | ENSG00000000003.14 | TSPAN6   | 10.99 |  8.66 | 6.15 |  2.40 | 0.73 |  1.50 |  1.88 | 29.41 |\n",
       "| 2 | ENSG00000000005.5  | TNMD     |  0.18 |  0.02 | 0.03 |  0.02 | 0.02 |  0.01 |  0.03 |  0.33 |\n",
       "| 3 | ENSG00000000419.12 | DPM1     |  4.95 |  6.15 | 5.09 |  3.35 | 1.09 |  3.68 |  3.27 |  4.89 |\n",
       "| 4 | ENSG00000000457.13 | SCYL3    |  1.50 |  1.75 | 1.71 |  0.90 | 0.44 |  1.44 |  0.89 |  1.52 |\n",
       "| 5 | ENSG00000000460.16 | C1orf112 |  1.70 |  1.12 | 2.78 |  0.34 | 0.43 |  0.71 |  0.57 |  1.00 |\n",
       "| 6 | ENSG00000000938.12 | FGR      |  1.27 |  0.90 | 0.18 |  1.12 | 0.36 |  1.32 |  1.05 |  0.93 |\n",
       "| 7 | ENSG00000000971.15 | CFH      |  2.04 |  5.77 | 2.02 |  7.50 | 5.57 |  1.02 | 13.23 |  2.75 |\n",
       "| 8 | ENSG00000001036.13 | FUCA2    |  7.86 |  7.15 | 3.33 |  4.47 | 1.40 |  1.88 |  8.94 | 10.26 |\n",
       "| 9 | ENSG00000001084.10 | GCLC     | 14.26 | 13.19 | 7.39 | 11.16 | 1.20 | 15.90 |  3.18 | 16.94 |\n",
       "| 10 | ENSG00000001167.14 | NFYA     |  3.12 |  4.19 | 9.64 |  2.07 | 1.14 |  5.44 |  2.35 |  6.90 |\n",
       "\n"
      ],
      "text/plain": [
       "   ensembl_id         hgnc_symbol 7316-2599 7316-1926 7316-489 7316-16 7316-13\n",
       "1  ENSG00000000003.14 TSPAN6      10.99      8.66     6.15      2.40   0.73   \n",
       "2  ENSG00000000005.5  TNMD         0.18      0.02     0.03      0.02   0.02   \n",
       "3  ENSG00000000419.12 DPM1         4.95      6.15     5.09      3.35   1.09   \n",
       "4  ENSG00000000457.13 SCYL3        1.50      1.75     1.71      0.90   0.44   \n",
       "5  ENSG00000000460.16 C1orf112     1.70      1.12     2.78      0.34   0.43   \n",
       "6  ENSG00000000938.12 FGR          1.27      0.90     0.18      1.12   0.36   \n",
       "7  ENSG00000000971.15 CFH          2.04      5.77     2.02      7.50   5.57   \n",
       "8  ENSG00000001036.13 FUCA2        7.86      7.15     3.33      4.47   1.40   \n",
       "9  ENSG00000001084.10 GCLC        14.26     13.19     7.39     11.16   1.20   \n",
       "10 ENSG00000001167.14 NFYA         3.12      4.19     9.64      2.07   1.14   \n",
       "   7316-3936 7316-3632 7316-873\n",
       "1   1.50      1.88     29.41   \n",
       "2   0.01      0.03      0.33   \n",
       "3   3.68      3.27      4.89   \n",
       "4   1.44      0.89      1.52   \n",
       "5   0.71      0.57      1.00   \n",
       "6   1.32      1.05      0.93   \n",
       "7   1.02     13.23      2.75   \n",
       "8   1.88      8.94     10.26   \n",
       "9  15.90      3.18     16.94   \n",
       "10  5.44      2.35      6.90   "
      ]
     },
     "metadata": {},
     "output_type": "display_data"
    }
   ],
   "source": [
    "CBTTCtpm[1:10,1:10]"
   ]
  },
  {
   "cell_type": "code",
   "execution_count": 6,
   "metadata": {},
   "outputs": [],
   "source": [
    "load(file = paste0(datapath, \"/ESTIMATE/estimate_manifest_primary_clean.RData\"))"
   ]
  },
  {
   "cell_type": "code",
   "execution_count": 7,
   "metadata": {},
   "outputs": [
    {
     "data": {
      "text/plain": [
       "\n",
       " CBTTC   DKFZ TARGET   TCGA \n",
       "   632    196    149   2452 "
      ]
     },
     "metadata": {},
     "output_type": "display_data"
    }
   ],
   "source": [
    "table(estimate_manifest_primary_clean$group)"
   ]
  },
  {
   "cell_type": "code",
   "execution_count": 8,
   "metadata": {},
   "outputs": [
    {
     "name": "stderr",
     "output_type": "stream",
     "text": [
      "dimensions of exp_matrix: CBTTCtpm\n",
      "\n"
     ]
    },
    {
     "name": "stdout",
     "output_type": "stream",
     "text": [
      "[1] 56505   971\n"
     ]
    },
    {
     "name": "stderr",
     "output_type": "stream",
     "text": [
      "dimensions of estimate_manifest_df for: CBTTC sample_type:Initial\n",
      "\n"
     ]
    },
    {
     "name": "stdout",
     "output_type": "stream",
     "text": [
      "[1] 632  21\n"
     ]
    },
    {
     "name": "stderr",
     "output_type": "stream",
     "text": [
      "dimensions of exp_matrix_matchingset for: CBTTCtpm with matching column: sample_id\n",
      "\n"
     ]
    },
    {
     "name": "stdout",
     "output_type": "stream",
     "text": [
      "[1] 56505   632\n"
     ]
    }
   ],
   "source": [
    "CBTTC_tpm_matrix_primary <- matchexp_matrixfx(CBTTCtpm, estimate_manifest_primary_clean,\"CBTTC\", \"Initial\", \"sample_id\")"
   ]
  },
  {
   "cell_type": "markdown",
   "metadata": {},
   "source": [
    "Remove duplicated genes"
   ]
  },
  {
   "cell_type": "code",
   "execution_count": 9,
   "metadata": {},
   "outputs": [],
   "source": [
    "CBTTC_tpm_matrix_primary_dedup <- CBTTC_tpm_matrix_primary[!duplicated(CBTTC_tpm_matrix_primary$ensembl_id),]"
   ]
  },
  {
   "cell_type": "code",
   "execution_count": 10,
   "metadata": {},
   "outputs": [
    {
     "data": {
      "text/html": [
       "<style>\n",
       ".list-inline {list-style: none; margin:0; padding: 0}\n",
       ".list-inline>li {display: inline-block}\n",
       ".list-inline>li:not(:last-child)::after {content: \"\\00b7\"; padding: 0 .5ex}\n",
       "</style>\n",
       "<ol class=list-inline><li>56505</li><li>634</li></ol>\n"
      ],
      "text/latex": [
       "\\begin{enumerate*}\n",
       "\\item 56505\n",
       "\\item 634\n",
       "\\end{enumerate*}\n"
      ],
      "text/markdown": [
       "1. 56505\n",
       "2. 634\n",
       "\n",
       "\n"
      ],
      "text/plain": [
       "[1] 56505   634"
      ]
     },
     "metadata": {},
     "output_type": "display_data"
    },
    {
     "data": {
      "text/html": [
       "<style>\n",
       ".list-inline {list-style: none; margin:0; padding: 0}\n",
       ".list-inline>li {display: inline-block}\n",
       ".list-inline>li:not(:last-child)::after {content: \"\\00b7\"; padding: 0 .5ex}\n",
       "</style>\n",
       "<ol class=list-inline><li>56505</li><li>634</li></ol>\n"
      ],
      "text/latex": [
       "\\begin{enumerate*}\n",
       "\\item 56505\n",
       "\\item 634\n",
       "\\end{enumerate*}\n"
      ],
      "text/markdown": [
       "1. 56505\n",
       "2. 634\n",
       "\n",
       "\n"
      ],
      "text/plain": [
       "[1] 56505   634"
      ]
     },
     "metadata": {},
     "output_type": "display_data"
    }
   ],
   "source": [
    "dim(CBTTC_tpm_matrix_primary)\n",
    "dim(CBTTC_tpm_matrix_primary_dedup)"
   ]
  },
  {
   "cell_type": "code",
   "execution_count": 11,
   "metadata": {},
   "outputs": [],
   "source": [
    "write.table(CBTTC_tpm_matrix_primary_dedup,\n",
    "            file = paste0(datapath, \"exp_mat/CBTTC_tpm_matrix_primary_dedup.txt\"),\n",
    "                sep = \"\\t\", quote = T, row.names = F)"
   ]
  },
  {
   "cell_type": "markdown",
   "metadata": {},
   "source": [
    "## DKFZ"
   ]
  },
  {
   "cell_type": "code",
   "execution_count": 12,
   "metadata": {},
   "outputs": [],
   "source": [
    "ICGC <- read.table(file = paste0(datapath,\"exp_mat/ICGC.tpm.matrix.txt\"),\n",
    "                  sep = \"\\t\", header = TRUE, stringsAsFactors = FALSE)"
   ]
  },
  {
   "cell_type": "code",
   "execution_count": 13,
   "metadata": {},
   "outputs": [
    {
     "data": {
      "text/html": [
       "<style>\n",
       ".list-inline {list-style: none; margin:0; padding: 0}\n",
       ".list-inline>li {display: inline-block}\n",
       ".list-inline>li:not(:last-child)::after {content: \"\\00b7\"; padding: 0 .5ex}\n",
       "</style>\n",
       "<ol class=list-inline><li>60603</li><li>200</li></ol>\n"
      ],
      "text/latex": [
       "\\begin{enumerate*}\n",
       "\\item 60603\n",
       "\\item 200\n",
       "\\end{enumerate*}\n"
      ],
      "text/markdown": [
       "1. 60603\n",
       "2. 200\n",
       "\n",
       "\n"
      ],
      "text/plain": [
       "[1] 60603   200"
      ]
     },
     "metadata": {},
     "output_type": "display_data"
    }
   ],
   "source": [
    "dim(ICGC)"
   ]
  },
  {
   "cell_type": "code",
   "execution_count": 14,
   "metadata": {},
   "outputs": [
    {
     "data": {
      "text/html": [
       "<table class=\"dataframe\">\n",
       "<caption>A data.frame: 10 × 10</caption>\n",
       "<thead>\n",
       "\t<tr><th></th><th scope=col>X</th><th scope=col>H049.0CWK.genes.results</th><th scope=col>H049.7SD3.genes.results</th><th scope=col>H049.FG38.genes.results</th><th scope=col>H049.GP41.genes.results</th><th scope=col>H049.GWNW.genes.results</th><th scope=col>H049.JVCT.genes.results</th><th scope=col>H049.PF1J.genes.results</th><th scope=col>H049.UV6K.genes.results</th><th scope=col>H049.WB9V.genes.results</th></tr>\n",
       "\t<tr><th></th><th scope=col>&lt;chr&gt;</th><th scope=col>&lt;dbl&gt;</th><th scope=col>&lt;dbl&gt;</th><th scope=col>&lt;dbl&gt;</th><th scope=col>&lt;dbl&gt;</th><th scope=col>&lt;dbl&gt;</th><th scope=col>&lt;dbl&gt;</th><th scope=col>&lt;dbl&gt;</th><th scope=col>&lt;dbl&gt;</th><th scope=col>&lt;dbl&gt;</th></tr>\n",
       "</thead>\n",
       "<tbody>\n",
       "\t<tr><th scope=row>1</th><td>ENSG00000000003.14</td><td>15.40</td><td>140.10</td><td>52.82</td><td>129.55</td><td> 47.64</td><td>36.95</td><td>121.41</td><td>18.92</td><td>41.05</td></tr>\n",
       "\t<tr><th scope=row>2</th><td>ENSG00000000005.6 </td><td> 0.21</td><td> 62.17</td><td> 1.64</td><td>  0.56</td><td>  2.23</td><td> 0.09</td><td> 21.33</td><td> 0.32</td><td> 0.13</td></tr>\n",
       "\t<tr><th scope=row>3</th><td>ENSG00000000419.12</td><td>17.16</td><td> 58.37</td><td>59.93</td><td> 48.66</td><td> 42.03</td><td>37.33</td><td> 62.16</td><td>49.42</td><td>52.16</td></tr>\n",
       "\t<tr><th scope=row>4</th><td>ENSG00000000457.14</td><td> 1.20</td><td> 10.51</td><td> 4.88</td><td>  6.52</td><td>  3.05</td><td> 2.62</td><td> 10.15</td><td> 5.42</td><td> 5.53</td></tr>\n",
       "\t<tr><th scope=row>5</th><td>ENSG00000000460.17</td><td> 2.68</td><td>  5.13</td><td> 2.34</td><td>  5.90</td><td>  4.36</td><td> 4.52</td><td>  4.10</td><td> 5.26</td><td> 8.46</td></tr>\n",
       "\t<tr><th scope=row>6</th><td>ENSG00000000938.13</td><td> 3.35</td><td> 27.88</td><td> 1.72</td><td>  2.92</td><td>  2.53</td><td> 2.18</td><td>  5.13</td><td> 7.28</td><td> 3.80</td></tr>\n",
       "\t<tr><th scope=row>7</th><td>ENSG00000000971.15</td><td> 1.51</td><td> 35.69</td><td> 1.83</td><td> 22.47</td><td>  3.64</td><td> 8.30</td><td> 33.33</td><td>32.92</td><td> 9.21</td></tr>\n",
       "\t<tr><th scope=row>8</th><td>ENSG00000001036.13</td><td>16.44</td><td> 92.66</td><td>36.06</td><td> 64.75</td><td>120.05</td><td>15.22</td><td> 77.51</td><td>65.97</td><td>57.51</td></tr>\n",
       "\t<tr><th scope=row>9</th><td>ENSG00000001084.13</td><td> 4.45</td><td> 21.49</td><td> 9.04</td><td> 13.27</td><td>  6.64</td><td> 5.30</td><td> 12.86</td><td>11.51</td><td>11.68</td></tr>\n",
       "\t<tr><th scope=row>10</th><td>ENSG00000001167.14</td><td> 5.94</td><td> 15.31</td><td>12.78</td><td> 22.67</td><td>  6.39</td><td> 6.37</td><td> 13.42</td><td>10.87</td><td>11.54</td></tr>\n",
       "</tbody>\n",
       "</table>\n"
      ],
      "text/latex": [
       "A data.frame: 10 × 10\n",
       "\\begin{tabular}{r|llllllllll}\n",
       "  & X & H049.0CWK.genes.results & H049.7SD3.genes.results & H049.FG38.genes.results & H049.GP41.genes.results & H049.GWNW.genes.results & H049.JVCT.genes.results & H049.PF1J.genes.results & H049.UV6K.genes.results & H049.WB9V.genes.results\\\\\n",
       "  & <chr> & <dbl> & <dbl> & <dbl> & <dbl> & <dbl> & <dbl> & <dbl> & <dbl> & <dbl>\\\\\n",
       "\\hline\n",
       "\t1 & ENSG00000000003.14 & 15.40 & 140.10 & 52.82 & 129.55 &  47.64 & 36.95 & 121.41 & 18.92 & 41.05\\\\\n",
       "\t2 & ENSG00000000005.6  &  0.21 &  62.17 &  1.64 &   0.56 &   2.23 &  0.09 &  21.33 &  0.32 &  0.13\\\\\n",
       "\t3 & ENSG00000000419.12 & 17.16 &  58.37 & 59.93 &  48.66 &  42.03 & 37.33 &  62.16 & 49.42 & 52.16\\\\\n",
       "\t4 & ENSG00000000457.14 &  1.20 &  10.51 &  4.88 &   6.52 &   3.05 &  2.62 &  10.15 &  5.42 &  5.53\\\\\n",
       "\t5 & ENSG00000000460.17 &  2.68 &   5.13 &  2.34 &   5.90 &   4.36 &  4.52 &   4.10 &  5.26 &  8.46\\\\\n",
       "\t6 & ENSG00000000938.13 &  3.35 &  27.88 &  1.72 &   2.92 &   2.53 &  2.18 &   5.13 &  7.28 &  3.80\\\\\n",
       "\t7 & ENSG00000000971.15 &  1.51 &  35.69 &  1.83 &  22.47 &   3.64 &  8.30 &  33.33 & 32.92 &  9.21\\\\\n",
       "\t8 & ENSG00000001036.13 & 16.44 &  92.66 & 36.06 &  64.75 & 120.05 & 15.22 &  77.51 & 65.97 & 57.51\\\\\n",
       "\t9 & ENSG00000001084.13 &  4.45 &  21.49 &  9.04 &  13.27 &   6.64 &  5.30 &  12.86 & 11.51 & 11.68\\\\\n",
       "\t10 & ENSG00000001167.14 &  5.94 &  15.31 & 12.78 &  22.67 &   6.39 &  6.37 &  13.42 & 10.87 & 11.54\\\\\n",
       "\\end{tabular}\n"
      ],
      "text/markdown": [
       "\n",
       "A data.frame: 10 × 10\n",
       "\n",
       "| <!--/--> | X &lt;chr&gt; | H049.0CWK.genes.results &lt;dbl&gt; | H049.7SD3.genes.results &lt;dbl&gt; | H049.FG38.genes.results &lt;dbl&gt; | H049.GP41.genes.results &lt;dbl&gt; | H049.GWNW.genes.results &lt;dbl&gt; | H049.JVCT.genes.results &lt;dbl&gt; | H049.PF1J.genes.results &lt;dbl&gt; | H049.UV6K.genes.results &lt;dbl&gt; | H049.WB9V.genes.results &lt;dbl&gt; |\n",
       "|---|---|---|---|---|---|---|---|---|---|---|\n",
       "| 1 | ENSG00000000003.14 | 15.40 | 140.10 | 52.82 | 129.55 |  47.64 | 36.95 | 121.41 | 18.92 | 41.05 |\n",
       "| 2 | ENSG00000000005.6  |  0.21 |  62.17 |  1.64 |   0.56 |   2.23 |  0.09 |  21.33 |  0.32 |  0.13 |\n",
       "| 3 | ENSG00000000419.12 | 17.16 |  58.37 | 59.93 |  48.66 |  42.03 | 37.33 |  62.16 | 49.42 | 52.16 |\n",
       "| 4 | ENSG00000000457.14 |  1.20 |  10.51 |  4.88 |   6.52 |   3.05 |  2.62 |  10.15 |  5.42 |  5.53 |\n",
       "| 5 | ENSG00000000460.17 |  2.68 |   5.13 |  2.34 |   5.90 |   4.36 |  4.52 |   4.10 |  5.26 |  8.46 |\n",
       "| 6 | ENSG00000000938.13 |  3.35 |  27.88 |  1.72 |   2.92 |   2.53 |  2.18 |   5.13 |  7.28 |  3.80 |\n",
       "| 7 | ENSG00000000971.15 |  1.51 |  35.69 |  1.83 |  22.47 |   3.64 |  8.30 |  33.33 | 32.92 |  9.21 |\n",
       "| 8 | ENSG00000001036.13 | 16.44 |  92.66 | 36.06 |  64.75 | 120.05 | 15.22 |  77.51 | 65.97 | 57.51 |\n",
       "| 9 | ENSG00000001084.13 |  4.45 |  21.49 |  9.04 |  13.27 |   6.64 |  5.30 |  12.86 | 11.51 | 11.68 |\n",
       "| 10 | ENSG00000001167.14 |  5.94 |  15.31 | 12.78 |  22.67 |   6.39 |  6.37 |  13.42 | 10.87 | 11.54 |\n",
       "\n"
      ],
      "text/plain": [
       "   X                  H049.0CWK.genes.results H049.7SD3.genes.results\n",
       "1  ENSG00000000003.14 15.40                   140.10                 \n",
       "2  ENSG00000000005.6   0.21                    62.17                 \n",
       "3  ENSG00000000419.12 17.16                    58.37                 \n",
       "4  ENSG00000000457.14  1.20                    10.51                 \n",
       "5  ENSG00000000460.17  2.68                     5.13                 \n",
       "6  ENSG00000000938.13  3.35                    27.88                 \n",
       "7  ENSG00000000971.15  1.51                    35.69                 \n",
       "8  ENSG00000001036.13 16.44                    92.66                 \n",
       "9  ENSG00000001084.13  4.45                    21.49                 \n",
       "10 ENSG00000001167.14  5.94                    15.31                 \n",
       "   H049.FG38.genes.results H049.GP41.genes.results H049.GWNW.genes.results\n",
       "1  52.82                   129.55                   47.64                 \n",
       "2   1.64                     0.56                    2.23                 \n",
       "3  59.93                    48.66                   42.03                 \n",
       "4   4.88                     6.52                    3.05                 \n",
       "5   2.34                     5.90                    4.36                 \n",
       "6   1.72                     2.92                    2.53                 \n",
       "7   1.83                    22.47                    3.64                 \n",
       "8  36.06                    64.75                  120.05                 \n",
       "9   9.04                    13.27                    6.64                 \n",
       "10 12.78                    22.67                    6.39                 \n",
       "   H049.JVCT.genes.results H049.PF1J.genes.results H049.UV6K.genes.results\n",
       "1  36.95                   121.41                  18.92                  \n",
       "2   0.09                    21.33                   0.32                  \n",
       "3  37.33                    62.16                  49.42                  \n",
       "4   2.62                    10.15                   5.42                  \n",
       "5   4.52                     4.10                   5.26                  \n",
       "6   2.18                     5.13                   7.28                  \n",
       "7   8.30                    33.33                  32.92                  \n",
       "8  15.22                    77.51                  65.97                  \n",
       "9   5.30                    12.86                  11.51                  \n",
       "10  6.37                    13.42                  10.87                  \n",
       "   H049.WB9V.genes.results\n",
       "1  41.05                  \n",
       "2   0.13                  \n",
       "3  52.16                  \n",
       "4   5.53                  \n",
       "5   8.46                  \n",
       "6   3.80                  \n",
       "7   9.21                  \n",
       "8  57.51                  \n",
       "9  11.68                  \n",
       "10 11.54                  "
      ]
     },
     "metadata": {},
     "output_type": "display_data"
    }
   ],
   "source": [
    "ICGC[1:10,1:10]"
   ]
  },
  {
   "cell_type": "code",
   "execution_count": 15,
   "metadata": {},
   "outputs": [],
   "source": [
    "colnames(ICGC)[1] <- \"ensembl\""
   ]
  },
  {
   "cell_type": "markdown",
   "metadata": {},
   "source": [
    "Add HGNC symbols"
   ]
  },
  {
   "cell_type": "code",
   "execution_count": 16,
   "metadata": {},
   "outputs": [],
   "source": [
    "ensg_hgnc <- read.table(file = paste0(datapath,\"rsem/DKFZ/Immuno/hg38_gencode.v31.annotation.transcript_gene_exon_UTR_CDS_ICGC.txt\"),\n",
    "                  sep = \"t\", header = F, stringsAsFactors = FALSE)"
   ]
  },
  {
   "cell_type": "code",
   "execution_count": 17,
   "metadata": {},
   "outputs": [
    {
     "data": {
      "text/html": [
       "<table class=\"dataframe\">\n",
       "<caption>A data.frame: 6 × 2</caption>\n",
       "<thead>\n",
       "\t<tr><th></th><th scope=col>V1</th><th scope=col>V2</th></tr>\n",
       "\t<tr><th></th><th scope=col>&lt;chr&gt;</th><th scope=col>&lt;chr&gt;</th></tr>\n",
       "</thead>\n",
       "<tbody>\n",
       "\t<tr><th scope=row>1</th><td>ENSG00000000003.14</td><td>TSPAN6   </td></tr>\n",
       "\t<tr><th scope=row>2</th><td>ENSG00000000005.6 </td><td>TNMD     </td></tr>\n",
       "\t<tr><th scope=row>3</th><td>ENSG00000000419.12</td><td>DPM1     </td></tr>\n",
       "\t<tr><th scope=row>4</th><td>ENSG00000000457.14</td><td>SCYL3    </td></tr>\n",
       "\t<tr><th scope=row>5</th><td>ENSG00000000460.17</td><td>C1orf112 </td></tr>\n",
       "\t<tr><th scope=row>6</th><td>ENSG00000000938.13</td><td>FGR      </td></tr>\n",
       "</tbody>\n",
       "</table>\n"
      ],
      "text/latex": [
       "A data.frame: 6 × 2\n",
       "\\begin{tabular}{r|ll}\n",
       "  & V1 & V2\\\\\n",
       "  & <chr> & <chr>\\\\\n",
       "\\hline\n",
       "\t1 & ENSG00000000003.14 & TSPAN6   \\\\\n",
       "\t2 & ENSG00000000005.6  & TNMD     \\\\\n",
       "\t3 & ENSG00000000419.12 & DPM1     \\\\\n",
       "\t4 & ENSG00000000457.14 & SCYL3    \\\\\n",
       "\t5 & ENSG00000000460.17 & C1orf112 \\\\\n",
       "\t6 & ENSG00000000938.13 & FGR      \\\\\n",
       "\\end{tabular}\n"
      ],
      "text/markdown": [
       "\n",
       "A data.frame: 6 × 2\n",
       "\n",
       "| <!--/--> | V1 &lt;chr&gt; | V2 &lt;chr&gt; |\n",
       "|---|---|---|\n",
       "| 1 | ENSG00000000003.14 | TSPAN6    |\n",
       "| 2 | ENSG00000000005.6  | TNMD      |\n",
       "| 3 | ENSG00000000419.12 | DPM1      |\n",
       "| 4 | ENSG00000000457.14 | SCYL3     |\n",
       "| 5 | ENSG00000000460.17 | C1orf112  |\n",
       "| 6 | ENSG00000000938.13 | FGR       |\n",
       "\n"
      ],
      "text/plain": [
       "  V1                 V2       \n",
       "1 ENSG00000000003.14 TSPAN6   \n",
       "2 ENSG00000000005.6  TNMD     \n",
       "3 ENSG00000000419.12 DPM1     \n",
       "4 ENSG00000000457.14 SCYL3    \n",
       "5 ENSG00000000460.17 C1orf112 \n",
       "6 ENSG00000000938.13 FGR      "
      ]
     },
     "metadata": {},
     "output_type": "display_data"
    }
   ],
   "source": [
    "head(ensg_hgnc)"
   ]
  },
  {
   "cell_type": "code",
   "execution_count": 18,
   "metadata": {},
   "outputs": [],
   "source": [
    "ensg2hugo <- match(ICGC$ensembl, ensg_hgnc$V1)\n",
    "ICGC$hgnc_symbol <- trimws(ensg_hgnc$V2[ensg2hugo])"
   ]
  },
  {
   "cell_type": "code",
   "execution_count": 19,
   "metadata": {},
   "outputs": [
    {
     "data": {
      "text/html": [
       "<style>\n",
       ".list-inline {list-style: none; margin:0; padding: 0}\n",
       ".list-inline>li {display: inline-block}\n",
       ".list-inline>li:not(:last-child)::after {content: \"\\00b7\"; padding: 0 .5ex}\n",
       "</style>\n",
       "<ol class=list-inline><li>'TSPAN6'</li><li>'TNMD'</li><li>'DPM1'</li><li>'SCYL3'</li><li>'C1orf112'</li><li>'FGR'</li></ol>\n"
      ],
      "text/latex": [
       "\\begin{enumerate*}\n",
       "\\item 'TSPAN6'\n",
       "\\item 'TNMD'\n",
       "\\item 'DPM1'\n",
       "\\item 'SCYL3'\n",
       "\\item 'C1orf112'\n",
       "\\item 'FGR'\n",
       "\\end{enumerate*}\n"
      ],
      "text/markdown": [
       "1. 'TSPAN6'\n",
       "2. 'TNMD'\n",
       "3. 'DPM1'\n",
       "4. 'SCYL3'\n",
       "5. 'C1orf112'\n",
       "6. 'FGR'\n",
       "\n",
       "\n"
      ],
      "text/plain": [
       "[1] \"TSPAN6\"   \"TNMD\"     \"DPM1\"     \"SCYL3\"    \"C1orf112\" \"FGR\"     "
      ]
     },
     "metadata": {},
     "output_type": "display_data"
    }
   ],
   "source": [
    "head(ICGC$hgnc_symbol)"
   ]
  },
  {
   "cell_type": "markdown",
   "metadata": {},
   "source": [
    "Some cleanup for colnames"
   ]
  },
  {
   "cell_type": "code",
   "execution_count": 20,
   "metadata": {},
   "outputs": [],
   "source": [
    "colnames(ICGC) <- gsub(\".genes.results\", \"\", colnames(ICGC))\n",
    "colnames(ICGC) <- gsub(\"[.]\", \"-\", colnames(ICGC))"
   ]
  },
  {
   "cell_type": "code",
   "execution_count": 21,
   "metadata": {},
   "outputs": [],
   "source": [
    "ICGC <- ICGC[, c(1,201,2:200)]"
   ]
  },
  {
   "cell_type": "code",
   "execution_count": 22,
   "metadata": {},
   "outputs": [
    {
     "data": {
      "text/html": [
       "<style>\n",
       ".list-inline {list-style: none; margin:0; padding: 0}\n",
       ".list-inline>li {display: inline-block}\n",
       ".list-inline>li:not(:last-child)::after {content: \"\\00b7\"; padding: 0 .5ex}\n",
       "</style>\n",
       "<ol class=list-inline><li>60603</li><li>201</li></ol>\n"
      ],
      "text/latex": [
       "\\begin{enumerate*}\n",
       "\\item 60603\n",
       "\\item 201\n",
       "\\end{enumerate*}\n"
      ],
      "text/markdown": [
       "1. 60603\n",
       "2. 201\n",
       "\n",
       "\n"
      ],
      "text/plain": [
       "[1] 60603   201"
      ]
     },
     "metadata": {},
     "output_type": "display_data"
    }
   ],
   "source": [
    "dim(ICGC)"
   ]
  },
  {
   "cell_type": "markdown",
   "metadata": {},
   "source": [
    "Dedup hgnc symbols"
   ]
  },
  {
   "cell_type": "code",
   "execution_count": 23,
   "metadata": {},
   "outputs": [],
   "source": [
    "ICGC_dedup <- ICGC[ !duplicated(ICGC$hgnc_symbol),]"
   ]
  },
  {
   "cell_type": "code",
   "execution_count": 24,
   "metadata": {},
   "outputs": [
    {
     "data": {
      "text/html": [
       "<style>\n",
       ".list-inline {list-style: none; margin:0; padding: 0}\n",
       ".list-inline>li {display: inline-block}\n",
       ".list-inline>li:not(:last-child)::after {content: \"\\00b7\"; padding: 0 .5ex}\n",
       "</style>\n",
       "<ol class=list-inline><li>59050</li><li>201</li></ol>\n"
      ],
      "text/latex": [
       "\\begin{enumerate*}\n",
       "\\item 59050\n",
       "\\item 201\n",
       "\\end{enumerate*}\n"
      ],
      "text/markdown": [
       "1. 59050\n",
       "2. 201\n",
       "\n",
       "\n"
      ],
      "text/plain": [
       "[1] 59050   201"
      ]
     },
     "metadata": {},
     "output_type": "display_data"
    }
   ],
   "source": [
    "dim(ICGC_dedup)"
   ]
  },
  {
   "cell_type": "code",
   "execution_count": 25,
   "metadata": {},
   "outputs": [
    {
     "name": "stderr",
     "output_type": "stream",
     "text": [
      "dimensions of exp_matrix: ICGC_dedup\n",
      "\n"
     ]
    },
    {
     "name": "stdout",
     "output_type": "stream",
     "text": [
      "[1] 59050   201\n"
     ]
    },
    {
     "name": "stderr",
     "output_type": "stream",
     "text": [
      "dimensions of estimate_manifest_df for: DKFZ sample_type:Primary\n",
      "\n"
     ]
    },
    {
     "name": "stdout",
     "output_type": "stream",
     "text": [
      "[1] 196  21\n"
     ]
    },
    {
     "name": "stderr",
     "output_type": "stream",
     "text": [
      "dimensions of exp_matrix_matchingset for: ICGC_dedup with matching column: sample_id\n",
      "\n"
     ]
    },
    {
     "name": "stdout",
     "output_type": "stream",
     "text": [
      "[1] 59050   195\n"
     ]
    }
   ],
   "source": [
    "DKFZ_exp_matrix_primary <- matchexp_matrixfx(ICGC_dedup, estimate_manifest_primary_clean,\n",
    "                                             \"DKFZ\", \"Primary\", \"sample_id\")"
   ]
  },
  {
   "cell_type": "code",
   "execution_count": 26,
   "metadata": {},
   "outputs": [],
   "source": [
    "save(DKFZ_exp_matrix_primary,\n",
    "         file = paste0(datapath, \"exp_mat/DKFZ_tpm_matrix_primary.RData\"))"
   ]
  },
  {
   "cell_type": "markdown",
   "metadata": {},
   "source": [
    "## TARGET"
   ]
  },
  {
   "cell_type": "code",
   "execution_count": 27,
   "metadata": {},
   "outputs": [],
   "source": [
    "TARGET_tpm_matrix <- read.table(file = paste0(datapath,\"exp_mat/NBL_tpm_matrix_hugo.txt\"),\n",
    "                                sep = \"\\t\", header = TRUE, \n",
    "                                stringsAsFactors = FALSE, check.names = F)"
   ]
  },
  {
   "cell_type": "code",
   "execution_count": 28,
   "metadata": {},
   "outputs": [
    {
     "data": {
      "text/html": [
       "<style>\n",
       ".list-inline {list-style: none; margin:0; padding: 0}\n",
       ".list-inline>li {display: inline-block}\n",
       ".list-inline>li:not(:last-child)::after {content: \"\\00b7\"; padding: 0 .5ex}\n",
       "</style>\n",
       "<ol class=list-inline><li>60498</li><li>159</li></ol>\n"
      ],
      "text/latex": [
       "\\begin{enumerate*}\n",
       "\\item 60498\n",
       "\\item 159\n",
       "\\end{enumerate*}\n"
      ],
      "text/markdown": [
       "1. 60498\n",
       "2. 159\n",
       "\n",
       "\n"
      ],
      "text/plain": [
       "[1] 60498   159"
      ]
     },
     "metadata": {},
     "output_type": "display_data"
    }
   ],
   "source": [
    "dim(TARGET_tpm_matrix)"
   ]
  },
  {
   "cell_type": "code",
   "execution_count": 29,
   "metadata": {},
   "outputs": [
    {
     "name": "stderr",
     "output_type": "stream",
     "text": [
      "dimensions of exp_matrix: TARGET_tpm_matrix\n",
      "\n"
     ]
    },
    {
     "name": "stdout",
     "output_type": "stream",
     "text": [
      "[1] 60498   159\n"
     ]
    },
    {
     "name": "stderr",
     "output_type": "stream",
     "text": [
      "dimensions of estimate_manifest_df for: TARGET sample_type:Primary\n",
      "\n"
     ]
    },
    {
     "name": "stdout",
     "output_type": "stream",
     "text": [
      "[1] 149  21\n"
     ]
    },
    {
     "name": "stderr",
     "output_type": "stream",
     "text": [
      "dimensions of exp_matrix_matchingset for: TARGET_tpm_matrix with matching column: sample_id\n",
      "\n"
     ]
    },
    {
     "name": "stdout",
     "output_type": "stream",
     "text": [
      "[1] 60498   149\n"
     ]
    }
   ],
   "source": [
    "TARGET_tpm_matrix_primary <- matchexp_matrixfx(TARGET_tpm_matrix, estimate_manifest_primary_clean,\n",
    "                                              \"TARGET\", \"Primary\", \"sample_id\")"
   ]
  },
  {
   "cell_type": "markdown",
   "metadata": {},
   "source": [
    "Remove duplicated genes"
   ]
  },
  {
   "cell_type": "code",
   "execution_count": 30,
   "metadata": {},
   "outputs": [],
   "source": [
    "TARGET_tpm_matrix_primary_dedup <- TARGET_tpm_matrix_primary[!duplicated(TARGET_tpm_matrix_primary$ensembl),]"
   ]
  },
  {
   "cell_type": "code",
   "execution_count": 31,
   "metadata": {},
   "outputs": [],
   "source": [
    "save(TARGET_tpm_matrix_primary_dedup,\n",
    "         file = paste0(datapath, \"exp_mat/TARGET_tpm_matrix_primary_dedup.RData\"))"
   ]
  },
  {
   "cell_type": "code",
   "execution_count": 32,
   "metadata": {},
   "outputs": [],
   "source": [
    "TARGET_tpm_matrix_primary_dedup_hgnc <- TARGET_tpm_matrix_primary[!duplicated(TARGET_tpm_matrix_primary$gene_symbol),]\n",
    "\n",
    "\n",
    "rownames(TARGET_tpm_matrix_primary_dedup_hgnc) <- TARGET_tpm_matrix_primary_dedup_hgnc$gene_symbol\n",
    "TARGET_tpm_matrix_primary_dedup_hgnc$gene_symbol <- NULL\n",
    "TARGET_tpm_matrix_primary_dedup_hgnc$ensembl <- NULL"
   ]
  },
  {
   "cell_type": "code",
   "execution_count": 33,
   "metadata": {},
   "outputs": [
    {
     "data": {
      "text/html": [
       "<table class=\"dataframe\">\n",
       "<caption>A data.frame: 6 × 149</caption>\n",
       "<thead>\n",
       "\t<tr><th></th><th scope=col>TARGET-30-PAPZYP-01A</th><th scope=col>TARGET-30-PASWFB-01A</th><th scope=col>TARGET-30-PATINJ-01A</th><th scope=col>TARGET-30-PARZCJ-01A</th><th scope=col>TARGET-30-PASNZU-01A</th><th scope=col>TARGET-30-PASHFA-01A</th><th scope=col>TARGET-30-PATAYJ-01A</th><th scope=col>TARGET-30-PAPBGH-01A</th><th scope=col>TARGET-30-PARFWB-01A</th><th scope=col>TARGET-30-PASNEF-01A</th><th scope=col>⋯</th><th scope=col>TARGET-30-PANUKV-01A</th><th scope=col>TARGET-30-PASJZC-01A</th><th scope=col>TARGET-30-PASGUT-01A</th><th scope=col>TARGET-30-PATEKG-01A</th><th scope=col>TARGET-30-PAPUEB-01A</th><th scope=col>TARGET-30-PANLET-01A</th><th scope=col>TARGET-30-PANZRV-01A</th><th scope=col>TARGET-30-PASXHE-01A</th><th scope=col>TARGET-30-PAIPGU-01A</th><th scope=col>TARGET-30-PASXIE-01A</th></tr>\n",
       "\t<tr><th></th><th scope=col>&lt;dbl&gt;</th><th scope=col>&lt;dbl&gt;</th><th scope=col>&lt;dbl&gt;</th><th scope=col>&lt;dbl&gt;</th><th scope=col>&lt;dbl&gt;</th><th scope=col>&lt;dbl&gt;</th><th scope=col>&lt;dbl&gt;</th><th scope=col>&lt;dbl&gt;</th><th scope=col>&lt;dbl&gt;</th><th scope=col>&lt;dbl&gt;</th><th scope=col>⋯</th><th scope=col>&lt;dbl&gt;</th><th scope=col>&lt;dbl&gt;</th><th scope=col>&lt;dbl&gt;</th><th scope=col>&lt;dbl&gt;</th><th scope=col>&lt;dbl&gt;</th><th scope=col>&lt;dbl&gt;</th><th scope=col>&lt;dbl&gt;</th><th scope=col>&lt;dbl&gt;</th><th scope=col>&lt;dbl&gt;</th><th scope=col>&lt;dbl&gt;</th></tr>\n",
       "</thead>\n",
       "<tbody>\n",
       "\t<tr><th scope=row>TSPAN6</th><td>16.92</td><td>19.52</td><td>19.61</td><td>12.02</td><td>25.68</td><td>17.70</td><td>34.44</td><td>28.97</td><td> 9.02</td><td>22.57</td><td>⋯</td><td> 5.35</td><td>32.39</td><td>24.13</td><td>15.12</td><td>18.45</td><td>22.95</td><td>24.86</td><td> 6.48</td><td> 9.14</td><td>10.25</td></tr>\n",
       "\t<tr><th scope=row>TNMD</th><td> 1.01</td><td> 0.05</td><td> 0.03</td><td> 0.07</td><td> 0.05</td><td> 0.11</td><td> 0.22</td><td> 0.00</td><td> 0.04</td><td> 0.20</td><td>⋯</td><td> 0.23</td><td> 0.05</td><td> 0.05</td><td> 0.24</td><td> 0.16</td><td> 0.04</td><td> 0.02</td><td> 0.17</td><td> 0.08</td><td> 0.06</td></tr>\n",
       "\t<tr><th scope=row>DPM1</th><td>30.13</td><td>34.49</td><td>34.82</td><td>31.81</td><td>30.77</td><td>27.38</td><td>34.30</td><td>31.66</td><td>52.27</td><td>42.03</td><td>⋯</td><td>39.23</td><td>38.74</td><td>32.44</td><td>31.46</td><td>32.12</td><td>36.87</td><td>36.54</td><td>50.94</td><td>31.96</td><td>32.82</td></tr>\n",
       "\t<tr><th scope=row>SCYL3</th><td> 3.85</td><td> 6.99</td><td> 3.85</td><td> 7.51</td><td> 5.20</td><td> 2.95</td><td> 9.87</td><td> 6.04</td><td> 6.46</td><td> 4.48</td><td>⋯</td><td> 3.84</td><td>12.27</td><td> 6.70</td><td> 3.54</td><td> 6.74</td><td> 7.25</td><td>13.12</td><td> 7.12</td><td> 1.78</td><td> 3.59</td></tr>\n",
       "\t<tr><th scope=row>C1orf112</th><td> 5.72</td><td> 8.02</td><td> 6.17</td><td> 5.99</td><td> 5.67</td><td> 3.87</td><td> 9.78</td><td> 8.76</td><td>10.83</td><td> 5.50</td><td>⋯</td><td>10.08</td><td> 7.07</td><td> 6.39</td><td> 2.26</td><td> 9.90</td><td> 8.66</td><td>17.77</td><td> 9.05</td><td> 3.12</td><td> 7.29</td></tr>\n",
       "\t<tr><th scope=row>FGR</th><td> 6.12</td><td> 0.69</td><td> 1.98</td><td>23.08</td><td> 0.91</td><td> 2.86</td><td> 7.10</td><td> 1.11</td><td> 6.53</td><td> 3.66</td><td>⋯</td><td> 0.52</td><td> 4.11</td><td> 4.59</td><td> 4.84</td><td>15.40</td><td> 4.99</td><td> 2.92</td><td> 4.38</td><td> 4.70</td><td> 0.43</td></tr>\n",
       "</tbody>\n",
       "</table>\n"
      ],
      "text/latex": [
       "A data.frame: 6 × 149\n",
       "\\begin{tabular}{r|lllllllllllllllllllll}\n",
       "  & TARGET-30-PAPZYP-01A & TARGET-30-PASWFB-01A & TARGET-30-PATINJ-01A & TARGET-30-PARZCJ-01A & TARGET-30-PASNZU-01A & TARGET-30-PASHFA-01A & TARGET-30-PATAYJ-01A & TARGET-30-PAPBGH-01A & TARGET-30-PARFWB-01A & TARGET-30-PASNEF-01A & ⋯ & TARGET-30-PANUKV-01A & TARGET-30-PASJZC-01A & TARGET-30-PASGUT-01A & TARGET-30-PATEKG-01A & TARGET-30-PAPUEB-01A & TARGET-30-PANLET-01A & TARGET-30-PANZRV-01A & TARGET-30-PASXHE-01A & TARGET-30-PAIPGU-01A & TARGET-30-PASXIE-01A\\\\\n",
       "  & <dbl> & <dbl> & <dbl> & <dbl> & <dbl> & <dbl> & <dbl> & <dbl> & <dbl> & <dbl> & ⋯ & <dbl> & <dbl> & <dbl> & <dbl> & <dbl> & <dbl> & <dbl> & <dbl> & <dbl> & <dbl>\\\\\n",
       "\\hline\n",
       "\tTSPAN6 & 16.92 & 19.52 & 19.61 & 12.02 & 25.68 & 17.70 & 34.44 & 28.97 &  9.02 & 22.57 & ⋯ &  5.35 & 32.39 & 24.13 & 15.12 & 18.45 & 22.95 & 24.86 &  6.48 &  9.14 & 10.25\\\\\n",
       "\tTNMD &  1.01 &  0.05 &  0.03 &  0.07 &  0.05 &  0.11 &  0.22 &  0.00 &  0.04 &  0.20 & ⋯ &  0.23 &  0.05 &  0.05 &  0.24 &  0.16 &  0.04 &  0.02 &  0.17 &  0.08 &  0.06\\\\\n",
       "\tDPM1 & 30.13 & 34.49 & 34.82 & 31.81 & 30.77 & 27.38 & 34.30 & 31.66 & 52.27 & 42.03 & ⋯ & 39.23 & 38.74 & 32.44 & 31.46 & 32.12 & 36.87 & 36.54 & 50.94 & 31.96 & 32.82\\\\\n",
       "\tSCYL3 &  3.85 &  6.99 &  3.85 &  7.51 &  5.20 &  2.95 &  9.87 &  6.04 &  6.46 &  4.48 & ⋯ &  3.84 & 12.27 &  6.70 &  3.54 &  6.74 &  7.25 & 13.12 &  7.12 &  1.78 &  3.59\\\\\n",
       "\tC1orf112 &  5.72 &  8.02 &  6.17 &  5.99 &  5.67 &  3.87 &  9.78 &  8.76 & 10.83 &  5.50 & ⋯ & 10.08 &  7.07 &  6.39 &  2.26 &  9.90 &  8.66 & 17.77 &  9.05 &  3.12 &  7.29\\\\\n",
       "\tFGR &  6.12 &  0.69 &  1.98 & 23.08 &  0.91 &  2.86 &  7.10 &  1.11 &  6.53 &  3.66 & ⋯ &  0.52 &  4.11 &  4.59 &  4.84 & 15.40 &  4.99 &  2.92 &  4.38 &  4.70 &  0.43\\\\\n",
       "\\end{tabular}\n"
      ],
      "text/markdown": [
       "\n",
       "A data.frame: 6 × 149\n",
       "\n",
       "| <!--/--> | TARGET-30-PAPZYP-01A &lt;dbl&gt; | TARGET-30-PASWFB-01A &lt;dbl&gt; | TARGET-30-PATINJ-01A &lt;dbl&gt; | TARGET-30-PARZCJ-01A &lt;dbl&gt; | TARGET-30-PASNZU-01A &lt;dbl&gt; | TARGET-30-PASHFA-01A &lt;dbl&gt; | TARGET-30-PATAYJ-01A &lt;dbl&gt; | TARGET-30-PAPBGH-01A &lt;dbl&gt; | TARGET-30-PARFWB-01A &lt;dbl&gt; | TARGET-30-PASNEF-01A &lt;dbl&gt; | ⋯ ⋯ | TARGET-30-PANUKV-01A &lt;dbl&gt; | TARGET-30-PASJZC-01A &lt;dbl&gt; | TARGET-30-PASGUT-01A &lt;dbl&gt; | TARGET-30-PATEKG-01A &lt;dbl&gt; | TARGET-30-PAPUEB-01A &lt;dbl&gt; | TARGET-30-PANLET-01A &lt;dbl&gt; | TARGET-30-PANZRV-01A &lt;dbl&gt; | TARGET-30-PASXHE-01A &lt;dbl&gt; | TARGET-30-PAIPGU-01A &lt;dbl&gt; | TARGET-30-PASXIE-01A &lt;dbl&gt; |\n",
       "|---|---|---|---|---|---|---|---|---|---|---|---|---|---|---|---|---|---|---|---|---|---|\n",
       "| TSPAN6 | 16.92 | 19.52 | 19.61 | 12.02 | 25.68 | 17.70 | 34.44 | 28.97 |  9.02 | 22.57 | ⋯ |  5.35 | 32.39 | 24.13 | 15.12 | 18.45 | 22.95 | 24.86 |  6.48 |  9.14 | 10.25 |\n",
       "| TNMD |  1.01 |  0.05 |  0.03 |  0.07 |  0.05 |  0.11 |  0.22 |  0.00 |  0.04 |  0.20 | ⋯ |  0.23 |  0.05 |  0.05 |  0.24 |  0.16 |  0.04 |  0.02 |  0.17 |  0.08 |  0.06 |\n",
       "| DPM1 | 30.13 | 34.49 | 34.82 | 31.81 | 30.77 | 27.38 | 34.30 | 31.66 | 52.27 | 42.03 | ⋯ | 39.23 | 38.74 | 32.44 | 31.46 | 32.12 | 36.87 | 36.54 | 50.94 | 31.96 | 32.82 |\n",
       "| SCYL3 |  3.85 |  6.99 |  3.85 |  7.51 |  5.20 |  2.95 |  9.87 |  6.04 |  6.46 |  4.48 | ⋯ |  3.84 | 12.27 |  6.70 |  3.54 |  6.74 |  7.25 | 13.12 |  7.12 |  1.78 |  3.59 |\n",
       "| C1orf112 |  5.72 |  8.02 |  6.17 |  5.99 |  5.67 |  3.87 |  9.78 |  8.76 | 10.83 |  5.50 | ⋯ | 10.08 |  7.07 |  6.39 |  2.26 |  9.90 |  8.66 | 17.77 |  9.05 |  3.12 |  7.29 |\n",
       "| FGR |  6.12 |  0.69 |  1.98 | 23.08 |  0.91 |  2.86 |  7.10 |  1.11 |  6.53 |  3.66 | ⋯ |  0.52 |  4.11 |  4.59 |  4.84 | 15.40 |  4.99 |  2.92 |  4.38 |  4.70 |  0.43 |\n",
       "\n"
      ],
      "text/plain": [
       "         TARGET-30-PAPZYP-01A TARGET-30-PASWFB-01A TARGET-30-PATINJ-01A\n",
       "TSPAN6   16.92                19.52                19.61               \n",
       "TNMD      1.01                 0.05                 0.03               \n",
       "DPM1     30.13                34.49                34.82               \n",
       "SCYL3     3.85                 6.99                 3.85               \n",
       "C1orf112  5.72                 8.02                 6.17               \n",
       "FGR       6.12                 0.69                 1.98               \n",
       "         TARGET-30-PARZCJ-01A TARGET-30-PASNZU-01A TARGET-30-PASHFA-01A\n",
       "TSPAN6   12.02                25.68                17.70               \n",
       "TNMD      0.07                 0.05                 0.11               \n",
       "DPM1     31.81                30.77                27.38               \n",
       "SCYL3     7.51                 5.20                 2.95               \n",
       "C1orf112  5.99                 5.67                 3.87               \n",
       "FGR      23.08                 0.91                 2.86               \n",
       "         TARGET-30-PATAYJ-01A TARGET-30-PAPBGH-01A TARGET-30-PARFWB-01A\n",
       "TSPAN6   34.44                28.97                 9.02               \n",
       "TNMD      0.22                 0.00                 0.04               \n",
       "DPM1     34.30                31.66                52.27               \n",
       "SCYL3     9.87                 6.04                 6.46               \n",
       "C1orf112  9.78                 8.76                10.83               \n",
       "FGR       7.10                 1.11                 6.53               \n",
       "         TARGET-30-PASNEF-01A ⋯ TARGET-30-PANUKV-01A TARGET-30-PASJZC-01A\n",
       "TSPAN6   22.57                ⋯  5.35                32.39               \n",
       "TNMD      0.20                ⋯  0.23                 0.05               \n",
       "DPM1     42.03                ⋯ 39.23                38.74               \n",
       "SCYL3     4.48                ⋯  3.84                12.27               \n",
       "C1orf112  5.50                ⋯ 10.08                 7.07               \n",
       "FGR       3.66                ⋯  0.52                 4.11               \n",
       "         TARGET-30-PASGUT-01A TARGET-30-PATEKG-01A TARGET-30-PAPUEB-01A\n",
       "TSPAN6   24.13                15.12                18.45               \n",
       "TNMD      0.05                 0.24                 0.16               \n",
       "DPM1     32.44                31.46                32.12               \n",
       "SCYL3     6.70                 3.54                 6.74               \n",
       "C1orf112  6.39                 2.26                 9.90               \n",
       "FGR       4.59                 4.84                15.40               \n",
       "         TARGET-30-PANLET-01A TARGET-30-PANZRV-01A TARGET-30-PASXHE-01A\n",
       "TSPAN6   22.95                24.86                 6.48               \n",
       "TNMD      0.04                 0.02                 0.17               \n",
       "DPM1     36.87                36.54                50.94               \n",
       "SCYL3     7.25                13.12                 7.12               \n",
       "C1orf112  8.66                17.77                 9.05               \n",
       "FGR       4.99                 2.92                 4.38               \n",
       "         TARGET-30-PAIPGU-01A TARGET-30-PASXIE-01A\n",
       "TSPAN6    9.14                10.25               \n",
       "TNMD      0.08                 0.06               \n",
       "DPM1     31.96                32.82               \n",
       "SCYL3     1.78                 3.59               \n",
       "C1orf112  3.12                 7.29               \n",
       "FGR       4.70                 0.43               "
      ]
     },
     "metadata": {},
     "output_type": "display_data"
    }
   ],
   "source": [
    "head(TARGET_tpm_matrix_primary_dedup_hgnc)"
   ]
  },
  {
   "cell_type": "code",
   "execution_count": 34,
   "metadata": {},
   "outputs": [],
   "source": [
    "write.table(TARGET_tpm_matrix_primary_dedup_hgnc,\n",
    "                file = paste0(datapath, \"exp_mat/tpm_matrix_ped_TARGET_NBL_HGNConly.txt\"),\n",
    "                sep = \"\\t\", quote = F, row.names = T)"
   ]
  },
  {
   "cell_type": "markdown",
   "metadata": {},
   "source": [
    "## TCGA"
   ]
  },
  {
   "cell_type": "code",
   "execution_count": 35,
   "metadata": {},
   "outputs": [],
   "source": [
    "TCGA_tpm_matrix <- read.table(file = paste0(datapath,\"exp_mat/TCGA_tpm_matrix_hugo.txt\"),\n",
    "                              sep = \"\\t\", header = TRUE, \n",
    "                              stringsAsFactors = FALSE, check.names = F)"
   ]
  },
  {
   "cell_type": "code",
   "execution_count": 36,
   "metadata": {},
   "outputs": [
    {
     "data": {
      "text/html": [
       "<table class=\"dataframe\">\n",
       "<caption>A data.frame: 6 × 3036</caption>\n",
       "<thead>\n",
       "\t<tr><th></th><th scope=col>ensembl</th><th scope=col>gene_symbol</th><th scope=col>TCGA-29-1781-01A</th><th scope=col>TCGA-57-1585-01A</th><th scope=col>TCGA-13-1488-01A</th><th scope=col>TCGA-10-0928-01A</th><th scope=col>TCGA-30-1857-01A</th><th scope=col>TCGA-13-1507-01A</th><th scope=col>TCGA-25-1623-01A</th><th scope=col>TCGA-24-1423-01A</th><th scope=col>⋯</th><th scope=col>TCGA-06-0158-01A</th><th scope=col>TCGA-06-0211-01A</th><th scope=col>TCGA-06-0680-11A</th><th scope=col>TCGA-06-0157-01A</th><th scope=col>TCGA-14-0817-01A</th><th scope=col>TCGA-02-2485-01A</th><th scope=col>TCGA-06-0190-02A</th><th scope=col>TCGA-02-0047-01A</th><th scope=col>TCGA-27-2526-01A</th><th scope=col>TCGA-28-5207-01A</th></tr>\n",
       "\t<tr><th></th><th scope=col>&lt;chr&gt;</th><th scope=col>&lt;chr&gt;</th><th scope=col>&lt;dbl&gt;</th><th scope=col>&lt;dbl&gt;</th><th scope=col>&lt;dbl&gt;</th><th scope=col>&lt;dbl&gt;</th><th scope=col>&lt;dbl&gt;</th><th scope=col>&lt;dbl&gt;</th><th scope=col>&lt;dbl&gt;</th><th scope=col>&lt;dbl&gt;</th><th scope=col>⋯</th><th scope=col>&lt;dbl&gt;</th><th scope=col>&lt;dbl&gt;</th><th scope=col>&lt;dbl&gt;</th><th scope=col>&lt;dbl&gt;</th><th scope=col>&lt;dbl&gt;</th><th scope=col>&lt;dbl&gt;</th><th scope=col>&lt;dbl&gt;</th><th scope=col>&lt;dbl&gt;</th><th scope=col>&lt;dbl&gt;</th><th scope=col>&lt;dbl&gt;</th></tr>\n",
       "</thead>\n",
       "<tbody>\n",
       "\t<tr><th scope=row>1</th><td>ENSG00000000003.14</td><td>TSPAN6  </td><td> 29.58</td><td>24.50</td><td>19.06</td><td>47.26</td><td>19.73</td><td>17.41</td><td>19.54</td><td>28.56</td><td>⋯</td><td>82.59</td><td>55.08</td><td> 8.92</td><td>94.90</td><td>77.21</td><td>72.05</td><td>33.24</td><td>44.36</td><td>64.16</td><td>66.87</td></tr>\n",
       "\t<tr><th scope=row>2</th><td>ENSG00000000005.5 </td><td>TNMD    </td><td>  0.02</td><td> 1.15</td><td> 1.36</td><td> 0.34</td><td> 0.48</td><td> 0.15</td><td> 0.12</td><td> 0.07</td><td>⋯</td><td> 0.25</td><td> 0.27</td><td> 0.10</td><td> 0.13</td><td> 2.39</td><td> 0.11</td><td> 0.51</td><td> 0.11</td><td> 0.67</td><td> 2.39</td></tr>\n",
       "\t<tr><th scope=row>3</th><td>ENSG00000000419.12</td><td>DPM1    </td><td>129.16</td><td>42.98</td><td>29.34</td><td>18.92</td><td>35.28</td><td>35.98</td><td>87.04</td><td>58.26</td><td>⋯</td><td>33.94</td><td>37.36</td><td>27.62</td><td>33.03</td><td>44.02</td><td>36.17</td><td>40.78</td><td>25.55</td><td>41.58</td><td>44.49</td></tr>\n",
       "\t<tr><th scope=row>4</th><td>ENSG00000000457.13</td><td>SCYL3   </td><td>  4.15</td><td> 3.22</td><td> 2.14</td><td> 3.15</td><td> 3.18</td><td> 2.87</td><td> 3.77</td><td> 5.46</td><td>⋯</td><td> 5.09</td><td> 4.46</td><td> 4.58</td><td> 3.67</td><td> 6.17</td><td> 5.35</td><td> 3.36</td><td> 4.21</td><td> 1.77</td><td> 7.44</td></tr>\n",
       "\t<tr><th scope=row>5</th><td>ENSG00000000460.16</td><td>C1orf112</td><td>  5.76</td><td> 3.91</td><td> 2.98</td><td> 5.51</td><td> 2.55</td><td> 3.47</td><td> 5.94</td><td> 5.32</td><td>⋯</td><td> 6.42</td><td> 6.73</td><td> 1.26</td><td> 6.47</td><td> 8.16</td><td> 8.57</td><td> 6.91</td><td> 4.78</td><td> 3.09</td><td> 4.64</td></tr>\n",
       "\t<tr><th scope=row>6</th><td>ENSG00000000938.12</td><td>FGR     </td><td>  5.41</td><td> 5.04</td><td> 1.94</td><td> 0.94</td><td> 3.26</td><td> 2.77</td><td> 6.86</td><td> 1.82</td><td>⋯</td><td> 7.79</td><td>11.29</td><td> 2.92</td><td> 5.16</td><td> 5.79</td><td> 6.92</td><td> 7.21</td><td> 9.74</td><td> 7.13</td><td>12.78</td></tr>\n",
       "</tbody>\n",
       "</table>\n"
      ],
      "text/latex": [
       "A data.frame: 6 × 3036\n",
       "\\begin{tabular}{r|lllllllllllllllllllll}\n",
       "  & ensembl & gene\\_symbol & TCGA-29-1781-01A & TCGA-57-1585-01A & TCGA-13-1488-01A & TCGA-10-0928-01A & TCGA-30-1857-01A & TCGA-13-1507-01A & TCGA-25-1623-01A & TCGA-24-1423-01A & ⋯ & TCGA-06-0158-01A & TCGA-06-0211-01A & TCGA-06-0680-11A & TCGA-06-0157-01A & TCGA-14-0817-01A & TCGA-02-2485-01A & TCGA-06-0190-02A & TCGA-02-0047-01A & TCGA-27-2526-01A & TCGA-28-5207-01A\\\\\n",
       "  & <chr> & <chr> & <dbl> & <dbl> & <dbl> & <dbl> & <dbl> & <dbl> & <dbl> & <dbl> & ⋯ & <dbl> & <dbl> & <dbl> & <dbl> & <dbl> & <dbl> & <dbl> & <dbl> & <dbl> & <dbl>\\\\\n",
       "\\hline\n",
       "\t1 & ENSG00000000003.14 & TSPAN6   &  29.58 & 24.50 & 19.06 & 47.26 & 19.73 & 17.41 & 19.54 & 28.56 & ⋯ & 82.59 & 55.08 &  8.92 & 94.90 & 77.21 & 72.05 & 33.24 & 44.36 & 64.16 & 66.87\\\\\n",
       "\t2 & ENSG00000000005.5  & TNMD     &   0.02 &  1.15 &  1.36 &  0.34 &  0.48 &  0.15 &  0.12 &  0.07 & ⋯ &  0.25 &  0.27 &  0.10 &  0.13 &  2.39 &  0.11 &  0.51 &  0.11 &  0.67 &  2.39\\\\\n",
       "\t3 & ENSG00000000419.12 & DPM1     & 129.16 & 42.98 & 29.34 & 18.92 & 35.28 & 35.98 & 87.04 & 58.26 & ⋯ & 33.94 & 37.36 & 27.62 & 33.03 & 44.02 & 36.17 & 40.78 & 25.55 & 41.58 & 44.49\\\\\n",
       "\t4 & ENSG00000000457.13 & SCYL3    &   4.15 &  3.22 &  2.14 &  3.15 &  3.18 &  2.87 &  3.77 &  5.46 & ⋯ &  5.09 &  4.46 &  4.58 &  3.67 &  6.17 &  5.35 &  3.36 &  4.21 &  1.77 &  7.44\\\\\n",
       "\t5 & ENSG00000000460.16 & C1orf112 &   5.76 &  3.91 &  2.98 &  5.51 &  2.55 &  3.47 &  5.94 &  5.32 & ⋯ &  6.42 &  6.73 &  1.26 &  6.47 &  8.16 &  8.57 &  6.91 &  4.78 &  3.09 &  4.64\\\\\n",
       "\t6 & ENSG00000000938.12 & FGR      &   5.41 &  5.04 &  1.94 &  0.94 &  3.26 &  2.77 &  6.86 &  1.82 & ⋯ &  7.79 & 11.29 &  2.92 &  5.16 &  5.79 &  6.92 &  7.21 &  9.74 &  7.13 & 12.78\\\\\n",
       "\\end{tabular}\n"
      ],
      "text/markdown": [
       "\n",
       "A data.frame: 6 × 3036\n",
       "\n",
       "| <!--/--> | ensembl &lt;chr&gt; | gene_symbol &lt;chr&gt; | TCGA-29-1781-01A &lt;dbl&gt; | TCGA-57-1585-01A &lt;dbl&gt; | TCGA-13-1488-01A &lt;dbl&gt; | TCGA-10-0928-01A &lt;dbl&gt; | TCGA-30-1857-01A &lt;dbl&gt; | TCGA-13-1507-01A &lt;dbl&gt; | TCGA-25-1623-01A &lt;dbl&gt; | TCGA-24-1423-01A &lt;dbl&gt; | ⋯ ⋯ | TCGA-06-0158-01A &lt;dbl&gt; | TCGA-06-0211-01A &lt;dbl&gt; | TCGA-06-0680-11A &lt;dbl&gt; | TCGA-06-0157-01A &lt;dbl&gt; | TCGA-14-0817-01A &lt;dbl&gt; | TCGA-02-2485-01A &lt;dbl&gt; | TCGA-06-0190-02A &lt;dbl&gt; | TCGA-02-0047-01A &lt;dbl&gt; | TCGA-27-2526-01A &lt;dbl&gt; | TCGA-28-5207-01A &lt;dbl&gt; |\n",
       "|---|---|---|---|---|---|---|---|---|---|---|---|---|---|---|---|---|---|---|---|---|---|\n",
       "| 1 | ENSG00000000003.14 | TSPAN6   |  29.58 | 24.50 | 19.06 | 47.26 | 19.73 | 17.41 | 19.54 | 28.56 | ⋯ | 82.59 | 55.08 |  8.92 | 94.90 | 77.21 | 72.05 | 33.24 | 44.36 | 64.16 | 66.87 |\n",
       "| 2 | ENSG00000000005.5  | TNMD     |   0.02 |  1.15 |  1.36 |  0.34 |  0.48 |  0.15 |  0.12 |  0.07 | ⋯ |  0.25 |  0.27 |  0.10 |  0.13 |  2.39 |  0.11 |  0.51 |  0.11 |  0.67 |  2.39 |\n",
       "| 3 | ENSG00000000419.12 | DPM1     | 129.16 | 42.98 | 29.34 | 18.92 | 35.28 | 35.98 | 87.04 | 58.26 | ⋯ | 33.94 | 37.36 | 27.62 | 33.03 | 44.02 | 36.17 | 40.78 | 25.55 | 41.58 | 44.49 |\n",
       "| 4 | ENSG00000000457.13 | SCYL3    |   4.15 |  3.22 |  2.14 |  3.15 |  3.18 |  2.87 |  3.77 |  5.46 | ⋯ |  5.09 |  4.46 |  4.58 |  3.67 |  6.17 |  5.35 |  3.36 |  4.21 |  1.77 |  7.44 |\n",
       "| 5 | ENSG00000000460.16 | C1orf112 |   5.76 |  3.91 |  2.98 |  5.51 |  2.55 |  3.47 |  5.94 |  5.32 | ⋯ |  6.42 |  6.73 |  1.26 |  6.47 |  8.16 |  8.57 |  6.91 |  4.78 |  3.09 |  4.64 |\n",
       "| 6 | ENSG00000000938.12 | FGR      |   5.41 |  5.04 |  1.94 |  0.94 |  3.26 |  2.77 |  6.86 |  1.82 | ⋯ |  7.79 | 11.29 |  2.92 |  5.16 |  5.79 |  6.92 |  7.21 |  9.74 |  7.13 | 12.78 |\n",
       "\n"
      ],
      "text/plain": [
       "  ensembl            gene_symbol TCGA-29-1781-01A TCGA-57-1585-01A\n",
       "1 ENSG00000000003.14 TSPAN6       29.58           24.50           \n",
       "2 ENSG00000000005.5  TNMD          0.02            1.15           \n",
       "3 ENSG00000000419.12 DPM1        129.16           42.98           \n",
       "4 ENSG00000000457.13 SCYL3         4.15            3.22           \n",
       "5 ENSG00000000460.16 C1orf112      5.76            3.91           \n",
       "6 ENSG00000000938.12 FGR           5.41            5.04           \n",
       "  TCGA-13-1488-01A TCGA-10-0928-01A TCGA-30-1857-01A TCGA-13-1507-01A\n",
       "1 19.06            47.26            19.73            17.41           \n",
       "2  1.36             0.34             0.48             0.15           \n",
       "3 29.34            18.92            35.28            35.98           \n",
       "4  2.14             3.15             3.18             2.87           \n",
       "5  2.98             5.51             2.55             3.47           \n",
       "6  1.94             0.94             3.26             2.77           \n",
       "  TCGA-25-1623-01A TCGA-24-1423-01A ⋯ TCGA-06-0158-01A TCGA-06-0211-01A\n",
       "1 19.54            28.56            ⋯ 82.59            55.08           \n",
       "2  0.12             0.07            ⋯  0.25             0.27           \n",
       "3 87.04            58.26            ⋯ 33.94            37.36           \n",
       "4  3.77             5.46            ⋯  5.09             4.46           \n",
       "5  5.94             5.32            ⋯  6.42             6.73           \n",
       "6  6.86             1.82            ⋯  7.79            11.29           \n",
       "  TCGA-06-0680-11A TCGA-06-0157-01A TCGA-14-0817-01A TCGA-02-2485-01A\n",
       "1  8.92            94.90            77.21            72.05           \n",
       "2  0.10             0.13             2.39             0.11           \n",
       "3 27.62            33.03            44.02            36.17           \n",
       "4  4.58             3.67             6.17             5.35           \n",
       "5  1.26             6.47             8.16             8.57           \n",
       "6  2.92             5.16             5.79             6.92           \n",
       "  TCGA-06-0190-02A TCGA-02-0047-01A TCGA-27-2526-01A TCGA-28-5207-01A\n",
       "1 33.24            44.36            64.16            66.87           \n",
       "2  0.51             0.11             0.67             2.39           \n",
       "3 40.78            25.55            41.58            44.49           \n",
       "4  3.36             4.21             1.77             7.44           \n",
       "5  6.91             4.78             3.09             4.64           \n",
       "6  7.21             9.74             7.13            12.78           "
      ]
     },
     "metadata": {},
     "output_type": "display_data"
    }
   ],
   "source": [
    "head(TCGA_tpm_matrix)"
   ]
  },
  {
   "cell_type": "code",
   "execution_count": 37,
   "metadata": {
    "scrolled": true
   },
   "outputs": [
    {
     "name": "stderr",
     "output_type": "stream",
     "text": [
      "dimensions of exp_matrix: TCGA_tpm_matrix\n",
      "\n"
     ]
    },
    {
     "name": "stdout",
     "output_type": "stream",
     "text": [
      "[1] 60498  3036\n"
     ]
    },
    {
     "name": "stderr",
     "output_type": "stream",
     "text": [
      "dimensions of estimate_manifest_df for: TCGA sample_type:Primary\n",
      "\n"
     ]
    },
    {
     "name": "stdout",
     "output_type": "stream",
     "text": [
      "[1] 2452   21\n"
     ]
    },
    {
     "name": "stderr",
     "output_type": "stream",
     "text": [
      "dimensions of exp_matrix_matchingset for: TCGA_tpm_matrix with matching column: sample_id\n",
      "\n"
     ]
    },
    {
     "name": "stdout",
     "output_type": "stream",
     "text": [
      "[1] 60498  2452\n"
     ]
    }
   ],
   "source": [
    "TCGA_tpm_matrix_primary <- matchexp_matrixfx(TCGA_tpm_matrix, estimate_manifest_primary_clean,\"TCGA\", \"Primary\", \"sample_id\")"
   ]
  },
  {
   "cell_type": "markdown",
   "metadata": {},
   "source": [
    "Remove duplicated genes"
   ]
  },
  {
   "cell_type": "code",
   "execution_count": 38,
   "metadata": {},
   "outputs": [],
   "source": [
    "TCGA_tpm_matrix_primary_dedup <- TCGA_tpm_matrix_primary[!duplicated(TCGA_tpm_matrix_primary$ensembl),]"
   ]
  },
  {
   "cell_type": "code",
   "execution_count": 39,
   "metadata": {},
   "outputs": [],
   "source": [
    "save(TCGA_tpm_matrix_primary_dedup,\n",
    "       file = paste0(datapath, \"exp_mat/TCGA_tpm_matrix_primary_dedup.RData\"))"
   ]
  },
  {
   "cell_type": "markdown",
   "metadata": {},
   "source": [
    "## Merge all"
   ]
  },
  {
   "cell_type": "code",
   "execution_count": 40,
   "metadata": {},
   "outputs": [
    {
     "data": {
      "text/html": [
       "<style>\n",
       ".list-inline {list-style: none; margin:0; padding: 0}\n",
       ".list-inline>li {display: inline-block}\n",
       ".list-inline>li:not(:last-child)::after {content: \"\\00b7\"; padding: 0 .5ex}\n",
       "</style>\n",
       "<ol class=list-inline><li>'ensembl'</li><li>'gene_symbol'</li></ol>\n"
      ],
      "text/latex": [
       "\\begin{enumerate*}\n",
       "\\item 'ensembl'\n",
       "\\item 'gene\\_symbol'\n",
       "\\end{enumerate*}\n"
      ],
      "text/markdown": [
       "1. 'ensembl'\n",
       "2. 'gene_symbol'\n",
       "\n",
       "\n"
      ],
      "text/plain": [
       "[1] \"ensembl\"     \"gene_symbol\""
      ]
     },
     "metadata": {},
     "output_type": "display_data"
    },
    {
     "data": {
      "text/html": [
       "<style>\n",
       ".list-inline {list-style: none; margin:0; padding: 0}\n",
       ".list-inline>li {display: inline-block}\n",
       ".list-inline>li:not(:last-child)::after {content: \"\\00b7\"; padding: 0 .5ex}\n",
       "</style>\n",
       "<ol class=list-inline><li>'ensembl'</li><li>'gene_symbol'</li></ol>\n"
      ],
      "text/latex": [
       "\\begin{enumerate*}\n",
       "\\item 'ensembl'\n",
       "\\item 'gene\\_symbol'\n",
       "\\end{enumerate*}\n"
      ],
      "text/markdown": [
       "1. 'ensembl'\n",
       "2. 'gene_symbol'\n",
       "\n",
       "\n"
      ],
      "text/plain": [
       "[1] \"ensembl\"     \"gene_symbol\""
      ]
     },
     "metadata": {},
     "output_type": "display_data"
    },
    {
     "data": {
      "text/html": [
       "<style>\n",
       ".list-inline {list-style: none; margin:0; padding: 0}\n",
       ".list-inline>li {display: inline-block}\n",
       ".list-inline>li:not(:last-child)::after {content: \"\\00b7\"; padding: 0 .5ex}\n",
       "</style>\n",
       "<ol class=list-inline><li>'ensembl'</li><li>'hgnc_symbol'</li></ol>\n"
      ],
      "text/latex": [
       "\\begin{enumerate*}\n",
       "\\item 'ensembl'\n",
       "\\item 'hgnc\\_symbol'\n",
       "\\end{enumerate*}\n"
      ],
      "text/markdown": [
       "1. 'ensembl'\n",
       "2. 'hgnc_symbol'\n",
       "\n",
       "\n"
      ],
      "text/plain": [
       "[1] \"ensembl\"     \"hgnc_symbol\""
      ]
     },
     "metadata": {},
     "output_type": "display_data"
    },
    {
     "data": {
      "text/html": [
       "<style>\n",
       ".list-inline {list-style: none; margin:0; padding: 0}\n",
       ".list-inline>li {display: inline-block}\n",
       ".list-inline>li:not(:last-child)::after {content: \"\\00b7\"; padding: 0 .5ex}\n",
       "</style>\n",
       "<ol class=list-inline><li>'ensembl_id'</li><li>'hgnc_symbol'</li></ol>\n"
      ],
      "text/latex": [
       "\\begin{enumerate*}\n",
       "\\item 'ensembl\\_id'\n",
       "\\item 'hgnc\\_symbol'\n",
       "\\end{enumerate*}\n"
      ],
      "text/markdown": [
       "1. 'ensembl_id'\n",
       "2. 'hgnc_symbol'\n",
       "\n",
       "\n"
      ],
      "text/plain": [
       "[1] \"ensembl_id\"  \"hgnc_symbol\""
      ]
     },
     "metadata": {},
     "output_type": "display_data"
    }
   ],
   "source": [
    "colnames(TARGET_tpm_matrix_primary_dedup)[1:2] \n",
    "colnames(TCGA_tpm_matrix_primary_dedup)[1:2] \n",
    "colnames(DKFZ_exp_matrix_primary)[1:2] \n",
    "colnames(CBTTC_tpm_matrix_primary_dedup)[1:2]"
   ]
  },
  {
   "cell_type": "code",
   "execution_count": 41,
   "metadata": {},
   "outputs": [],
   "source": [
    "colnames(TARGET_tpm_matrix_primary_dedup)[1]  <- \"ensembl_id\"\n",
    "colnames(TCGA_tpm_matrix_primary_dedup)[1]  <- \"ensembl_id\"\n",
    "colnames(DKFZ_exp_matrix_primary)[1]  <- \"ensembl_id\"\n",
    "colnames(CBTTC_tpm_matrix_primary_dedup)[1:2]  <- c(\"ensembl_id\",\"hgnc_symbol\")"
   ]
  },
  {
   "cell_type": "code",
   "execution_count": 42,
   "metadata": {},
   "outputs": [],
   "source": [
    "# remove versions from ensembl id\n",
    "\n",
    "TARGET_tpm_matrix_primary_dedup$ensembl_id <- gsub(\"[.].*\", \"\", TARGET_tpm_matrix_primary_dedup$ensembl_id)\n",
    "TCGA_tpm_matrix_primary_dedup$ensembl_id <- gsub(\"[.].*\", \"\", TCGA_tpm_matrix_primary_dedup$ensembl_id)\n",
    "DKFZ_exp_matrix_primary$ensembl_id <- gsub(\"[.].*\", \"\", DKFZ_exp_matrix_primary$ensembl_id)\n",
    "CBTTC_tpm_matrix_primary_dedup$ensembl_id <- gsub(\"[.].*\", \"\", CBTTC_tpm_matrix_primary_dedup$ensembl_id)"
   ]
  },
  {
   "cell_type": "code",
   "execution_count": 44,
   "metadata": {},
   "outputs": [],
   "source": [
    "tpm_matrix_ped <- merge(CBTTC_tpm_matrix_primary_dedup, TARGET_tpm_matrix_primary_dedup, by = \"ensembl_id\")"
   ]
  },
  {
   "cell_type": "code",
   "execution_count": 45,
   "metadata": {},
   "outputs": [
    {
     "data": {
      "text/html": [
       "<style>\n",
       ".list-inline {list-style: none; margin:0; padding: 0}\n",
       ".list-inline>li {display: inline-block}\n",
       ".list-inline>li:not(:last-child)::after {content: \"\\00b7\"; padding: 0 .5ex}\n",
       "</style>\n",
       "<ol class=list-inline><li>56505</li><li>634</li></ol>\n"
      ],
      "text/latex": [
       "\\begin{enumerate*}\n",
       "\\item 56505\n",
       "\\item 634\n",
       "\\end{enumerate*}\n"
      ],
      "text/markdown": [
       "1. 56505\n",
       "2. 634\n",
       "\n",
       "\n"
      ],
      "text/plain": [
       "[1] 56505   634"
      ]
     },
     "metadata": {},
     "output_type": "display_data"
    },
    {
     "data": {
      "text/html": [
       "<style>\n",
       ".list-inline {list-style: none; margin:0; padding: 0}\n",
       ".list-inline>li {display: inline-block}\n",
       ".list-inline>li:not(:last-child)::after {content: \"\\00b7\"; padding: 0 .5ex}\n",
       "</style>\n",
       "<ol class=list-inline><li>60498</li><li>151</li></ol>\n"
      ],
      "text/latex": [
       "\\begin{enumerate*}\n",
       "\\item 60498\n",
       "\\item 151\n",
       "\\end{enumerate*}\n"
      ],
      "text/markdown": [
       "1. 60498\n",
       "2. 151\n",
       "\n",
       "\n"
      ],
      "text/plain": [
       "[1] 60498   151"
      ]
     },
     "metadata": {},
     "output_type": "display_data"
    },
    {
     "data": {
      "text/html": [
       "<style>\n",
       ".list-inline {list-style: none; margin:0; padding: 0}\n",
       ".list-inline>li {display: inline-block}\n",
       ".list-inline>li:not(:last-child)::after {content: \"\\00b7\"; padding: 0 .5ex}\n",
       "</style>\n",
       "<ol class=list-inline><li>55391</li><li>784</li></ol>\n"
      ],
      "text/latex": [
       "\\begin{enumerate*}\n",
       "\\item 55391\n",
       "\\item 784\n",
       "\\end{enumerate*}\n"
      ],
      "text/markdown": [
       "1. 55391\n",
       "2. 784\n",
       "\n",
       "\n"
      ],
      "text/plain": [
       "[1] 55391   784"
      ]
     },
     "metadata": {},
     "output_type": "display_data"
    }
   ],
   "source": [
    "dim(CBTTC_tpm_matrix_primary_dedup)\n",
    "dim(TARGET_tpm_matrix_primary_dedup)\n",
    "dim(tpm_matrix_ped)"
   ]
  },
  {
   "cell_type": "code",
   "execution_count": 46,
   "metadata": {},
   "outputs": [],
   "source": [
    "tpm_matrix_ped <- merge(tpm_matrix_ped, DKFZ_exp_matrix_primary, by = \"ensembl_id\")"
   ]
  },
  {
   "cell_type": "code",
   "execution_count": 47,
   "metadata": {},
   "outputs": [
    {
     "data": {
      "text/html": [
       "<style>\n",
       ".list-inline {list-style: none; margin:0; padding: 0}\n",
       ".list-inline>li {display: inline-block}\n",
       ".list-inline>li:not(:last-child)::after {content: \"\\00b7\"; padding: 0 .5ex}\n",
       "</style>\n",
       "<ol class=list-inline><li>59050</li><li>197</li></ol>\n"
      ],
      "text/latex": [
       "\\begin{enumerate*}\n",
       "\\item 59050\n",
       "\\item 197\n",
       "\\end{enumerate*}\n"
      ],
      "text/markdown": [
       "1. 59050\n",
       "2. 197\n",
       "\n",
       "\n"
      ],
      "text/plain": [
       "[1] 59050   197"
      ]
     },
     "metadata": {},
     "output_type": "display_data"
    },
    {
     "data": {
      "text/html": [
       "<style>\n",
       ".list-inline {list-style: none; margin:0; padding: 0}\n",
       ".list-inline>li {display: inline-block}\n",
       ".list-inline>li:not(:last-child)::after {content: \"\\00b7\"; padding: 0 .5ex}\n",
       "</style>\n",
       "<ol class=list-inline><li>54965</li><li>980</li></ol>\n"
      ],
      "text/latex": [
       "\\begin{enumerate*}\n",
       "\\item 54965\n",
       "\\item 980\n",
       "\\end{enumerate*}\n"
      ],
      "text/markdown": [
       "1. 54965\n",
       "2. 980\n",
       "\n",
       "\n"
      ],
      "text/plain": [
       "[1] 54965   980"
      ]
     },
     "metadata": {},
     "output_type": "display_data"
    }
   ],
   "source": [
    "dim(DKFZ_exp_matrix_primary)\n",
    "dim(tpm_matrix_ped)"
   ]
  },
  {
   "cell_type": "code",
   "execution_count": 48,
   "metadata": {},
   "outputs": [],
   "source": [
    "#remove version from ensembl id\n",
    "rownames(tpm_matrix_ped) <- tpm_matrix_ped$ensembl_id\n",
    "\n",
    "tpm_matrix_ped$hgnc_symbol.y <- NULL\n",
    "tpm_matrix_ped$gene_symbol <- NULL"
   ]
  },
  {
   "cell_type": "code",
   "execution_count": 49,
   "metadata": {},
   "outputs": [
    {
     "data": {
      "text/html": [
       "<table class=\"dataframe\">\n",
       "<caption>A data.frame: 6 × 978</caption>\n",
       "<thead>\n",
       "\t<tr><th></th><th scope=col>ensembl_id</th><th scope=col>hgnc_symbol.x</th><th scope=col>7316-1926</th><th scope=col>7316-489</th><th scope=col>7316-13</th><th scope=col>7316-3936</th><th scope=col>7316-873</th><th scope=col>7316-2669</th><th scope=col>7316-1928</th><th scope=col>7316-1655</th><th scope=col>⋯</th><th scope=col>ICGC_PA89</th><th scope=col>ICGC_PA9</th><th scope=col>ICGC_PA91</th><th scope=col>ICGC_PA92</th><th scope=col>ICGC_PA93</th><th scope=col>ICGC_PA94</th><th scope=col>ICGC_PA95</th><th scope=col>ICGC_PA96</th><th scope=col>ICGC_PA97</th><th scope=col>ICGC_PA99</th></tr>\n",
       "\t<tr><th></th><th scope=col>&lt;chr&gt;</th><th scope=col>&lt;chr&gt;</th><th scope=col>&lt;dbl&gt;</th><th scope=col>&lt;dbl&gt;</th><th scope=col>&lt;dbl&gt;</th><th scope=col>&lt;dbl&gt;</th><th scope=col>&lt;dbl&gt;</th><th scope=col>&lt;dbl&gt;</th><th scope=col>&lt;dbl&gt;</th><th scope=col>&lt;dbl&gt;</th><th scope=col>⋯</th><th scope=col>&lt;dbl&gt;</th><th scope=col>&lt;dbl&gt;</th><th scope=col>&lt;dbl&gt;</th><th scope=col>&lt;dbl&gt;</th><th scope=col>&lt;dbl&gt;</th><th scope=col>&lt;dbl&gt;</th><th scope=col>&lt;dbl&gt;</th><th scope=col>&lt;dbl&gt;</th><th scope=col>&lt;dbl&gt;</th><th scope=col>&lt;dbl&gt;</th></tr>\n",
       "</thead>\n",
       "<tbody>\n",
       "\t<tr><th scope=row>ENSG00000000003</th><td>ENSG00000000003</td><td>TSPAN6  </td><td>8.66</td><td>6.15</td><td>0.73</td><td>1.50</td><td>29.41</td><td>4.62</td><td>6.65</td><td>1.78</td><td>⋯</td><td>10.59</td><td>13.17</td><td>5.95</td><td>7.56</td><td>12.42</td><td>11.44</td><td>12.69</td><td>9.92</td><td>12.44</td><td>10.51</td></tr>\n",
       "\t<tr><th scope=row>ENSG00000000005</th><td>ENSG00000000005</td><td>TNMD    </td><td>0.02</td><td>0.03</td><td>0.02</td><td>0.01</td><td> 0.33</td><td>0.03</td><td>0.07</td><td>0.01</td><td>⋯</td><td> 0.05</td><td> 0.01</td><td>0.09</td><td>0.03</td><td> 0.04</td><td> 0.06</td><td> 0.13</td><td>0.02</td><td> 0.07</td><td> 0.03</td></tr>\n",
       "\t<tr><th scope=row>ENSG00000000419</th><td>ENSG00000000419</td><td>DPM1    </td><td>6.15</td><td>5.09</td><td>1.09</td><td>3.68</td><td> 4.89</td><td>4.75</td><td>3.07</td><td>4.58</td><td>⋯</td><td> 5.83</td><td> 3.99</td><td>4.26</td><td>4.41</td><td> 4.03</td><td> 4.62</td><td> 6.50</td><td>6.17</td><td> 6.01</td><td> 5.47</td></tr>\n",
       "\t<tr><th scope=row>ENSG00000000457</th><td>ENSG00000000457</td><td>SCYL3   </td><td>1.75</td><td>1.71</td><td>0.44</td><td>1.44</td><td> 1.52</td><td>1.61</td><td>1.01</td><td>1.18</td><td>⋯</td><td> 1.88</td><td> 1.11</td><td>1.27</td><td>1.33</td><td> 1.41</td><td> 1.73</td><td> 1.81</td><td>1.81</td><td> 2.19</td><td> 1.83</td></tr>\n",
       "\t<tr><th scope=row>ENSG00000000460</th><td>ENSG00000000460</td><td>C1orf112</td><td>1.12</td><td>2.78</td><td>0.43</td><td>0.71</td><td> 1.00</td><td>1.64</td><td>0.58</td><td>1.61</td><td>⋯</td><td> 0.68</td><td> 1.02</td><td>0.91</td><td>0.63</td><td> 1.05</td><td> 1.06</td><td> 1.38</td><td>1.19</td><td> 1.10</td><td> 1.37</td></tr>\n",
       "\t<tr><th scope=row>ENSG00000000938</th><td>ENSG00000000938</td><td>FGR     </td><td>0.90</td><td>0.18</td><td>0.36</td><td>1.32</td><td> 0.93</td><td>1.01</td><td>0.83</td><td>0.09</td><td>⋯</td><td> 0.58</td><td> 0.45</td><td>0.54</td><td>0.55</td><td> 0.72</td><td> 0.48</td><td> 0.41</td><td>0.88</td><td> 1.22</td><td> 0.65</td></tr>\n",
       "</tbody>\n",
       "</table>\n"
      ],
      "text/latex": [
       "A data.frame: 6 × 978\n",
       "\\begin{tabular}{r|lllllllllllllllllllll}\n",
       "  & ensembl\\_id & hgnc\\_symbol.x & 7316-1926 & 7316-489 & 7316-13 & 7316-3936 & 7316-873 & 7316-2669 & 7316-1928 & 7316-1655 & ⋯ & ICGC\\_PA89 & ICGC\\_PA9 & ICGC\\_PA91 & ICGC\\_PA92 & ICGC\\_PA93 & ICGC\\_PA94 & ICGC\\_PA95 & ICGC\\_PA96 & ICGC\\_PA97 & ICGC\\_PA99\\\\\n",
       "  & <chr> & <chr> & <dbl> & <dbl> & <dbl> & <dbl> & <dbl> & <dbl> & <dbl> & <dbl> & ⋯ & <dbl> & <dbl> & <dbl> & <dbl> & <dbl> & <dbl> & <dbl> & <dbl> & <dbl> & <dbl>\\\\\n",
       "\\hline\n",
       "\tENSG00000000003 & ENSG00000000003 & TSPAN6   & 8.66 & 6.15 & 0.73 & 1.50 & 29.41 & 4.62 & 6.65 & 1.78 & ⋯ & 10.59 & 13.17 & 5.95 & 7.56 & 12.42 & 11.44 & 12.69 & 9.92 & 12.44 & 10.51\\\\\n",
       "\tENSG00000000005 & ENSG00000000005 & TNMD     & 0.02 & 0.03 & 0.02 & 0.01 &  0.33 & 0.03 & 0.07 & 0.01 & ⋯ &  0.05 &  0.01 & 0.09 & 0.03 &  0.04 &  0.06 &  0.13 & 0.02 &  0.07 &  0.03\\\\\n",
       "\tENSG00000000419 & ENSG00000000419 & DPM1     & 6.15 & 5.09 & 1.09 & 3.68 &  4.89 & 4.75 & 3.07 & 4.58 & ⋯ &  5.83 &  3.99 & 4.26 & 4.41 &  4.03 &  4.62 &  6.50 & 6.17 &  6.01 &  5.47\\\\\n",
       "\tENSG00000000457 & ENSG00000000457 & SCYL3    & 1.75 & 1.71 & 0.44 & 1.44 &  1.52 & 1.61 & 1.01 & 1.18 & ⋯ &  1.88 &  1.11 & 1.27 & 1.33 &  1.41 &  1.73 &  1.81 & 1.81 &  2.19 &  1.83\\\\\n",
       "\tENSG00000000460 & ENSG00000000460 & C1orf112 & 1.12 & 2.78 & 0.43 & 0.71 &  1.00 & 1.64 & 0.58 & 1.61 & ⋯ &  0.68 &  1.02 & 0.91 & 0.63 &  1.05 &  1.06 &  1.38 & 1.19 &  1.10 &  1.37\\\\\n",
       "\tENSG00000000938 & ENSG00000000938 & FGR      & 0.90 & 0.18 & 0.36 & 1.32 &  0.93 & 1.01 & 0.83 & 0.09 & ⋯ &  0.58 &  0.45 & 0.54 & 0.55 &  0.72 &  0.48 &  0.41 & 0.88 &  1.22 &  0.65\\\\\n",
       "\\end{tabular}\n"
      ],
      "text/markdown": [
       "\n",
       "A data.frame: 6 × 978\n",
       "\n",
       "| <!--/--> | ensembl_id &lt;chr&gt; | hgnc_symbol.x &lt;chr&gt; | 7316-1926 &lt;dbl&gt; | 7316-489 &lt;dbl&gt; | 7316-13 &lt;dbl&gt; | 7316-3936 &lt;dbl&gt; | 7316-873 &lt;dbl&gt; | 7316-2669 &lt;dbl&gt; | 7316-1928 &lt;dbl&gt; | 7316-1655 &lt;dbl&gt; | ⋯ ⋯ | ICGC_PA89 &lt;dbl&gt; | ICGC_PA9 &lt;dbl&gt; | ICGC_PA91 &lt;dbl&gt; | ICGC_PA92 &lt;dbl&gt; | ICGC_PA93 &lt;dbl&gt; | ICGC_PA94 &lt;dbl&gt; | ICGC_PA95 &lt;dbl&gt; | ICGC_PA96 &lt;dbl&gt; | ICGC_PA97 &lt;dbl&gt; | ICGC_PA99 &lt;dbl&gt; |\n",
       "|---|---|---|---|---|---|---|---|---|---|---|---|---|---|---|---|---|---|---|---|---|---|\n",
       "| ENSG00000000003 | ENSG00000000003 | TSPAN6   | 8.66 | 6.15 | 0.73 | 1.50 | 29.41 | 4.62 | 6.65 | 1.78 | ⋯ | 10.59 | 13.17 | 5.95 | 7.56 | 12.42 | 11.44 | 12.69 | 9.92 | 12.44 | 10.51 |\n",
       "| ENSG00000000005 | ENSG00000000005 | TNMD     | 0.02 | 0.03 | 0.02 | 0.01 |  0.33 | 0.03 | 0.07 | 0.01 | ⋯ |  0.05 |  0.01 | 0.09 | 0.03 |  0.04 |  0.06 |  0.13 | 0.02 |  0.07 |  0.03 |\n",
       "| ENSG00000000419 | ENSG00000000419 | DPM1     | 6.15 | 5.09 | 1.09 | 3.68 |  4.89 | 4.75 | 3.07 | 4.58 | ⋯ |  5.83 |  3.99 | 4.26 | 4.41 |  4.03 |  4.62 |  6.50 | 6.17 |  6.01 |  5.47 |\n",
       "| ENSG00000000457 | ENSG00000000457 | SCYL3    | 1.75 | 1.71 | 0.44 | 1.44 |  1.52 | 1.61 | 1.01 | 1.18 | ⋯ |  1.88 |  1.11 | 1.27 | 1.33 |  1.41 |  1.73 |  1.81 | 1.81 |  2.19 |  1.83 |\n",
       "| ENSG00000000460 | ENSG00000000460 | C1orf112 | 1.12 | 2.78 | 0.43 | 0.71 |  1.00 | 1.64 | 0.58 | 1.61 | ⋯ |  0.68 |  1.02 | 0.91 | 0.63 |  1.05 |  1.06 |  1.38 | 1.19 |  1.10 |  1.37 |\n",
       "| ENSG00000000938 | ENSG00000000938 | FGR      | 0.90 | 0.18 | 0.36 | 1.32 |  0.93 | 1.01 | 0.83 | 0.09 | ⋯ |  0.58 |  0.45 | 0.54 | 0.55 |  0.72 |  0.48 |  0.41 | 0.88 |  1.22 |  0.65 |\n",
       "\n"
      ],
      "text/plain": [
       "                ensembl_id      hgnc_symbol.x 7316-1926 7316-489 7316-13\n",
       "ENSG00000000003 ENSG00000000003 TSPAN6        8.66      6.15     0.73   \n",
       "ENSG00000000005 ENSG00000000005 TNMD          0.02      0.03     0.02   \n",
       "ENSG00000000419 ENSG00000000419 DPM1          6.15      5.09     1.09   \n",
       "ENSG00000000457 ENSG00000000457 SCYL3         1.75      1.71     0.44   \n",
       "ENSG00000000460 ENSG00000000460 C1orf112      1.12      2.78     0.43   \n",
       "ENSG00000000938 ENSG00000000938 FGR           0.90      0.18     0.36   \n",
       "                7316-3936 7316-873 7316-2669 7316-1928 7316-1655 ⋯ ICGC_PA89\n",
       "ENSG00000000003 1.50      29.41    4.62      6.65      1.78      ⋯ 10.59    \n",
       "ENSG00000000005 0.01       0.33    0.03      0.07      0.01      ⋯  0.05    \n",
       "ENSG00000000419 3.68       4.89    4.75      3.07      4.58      ⋯  5.83    \n",
       "ENSG00000000457 1.44       1.52    1.61      1.01      1.18      ⋯  1.88    \n",
       "ENSG00000000460 0.71       1.00    1.64      0.58      1.61      ⋯  0.68    \n",
       "ENSG00000000938 1.32       0.93    1.01      0.83      0.09      ⋯  0.58    \n",
       "                ICGC_PA9 ICGC_PA91 ICGC_PA92 ICGC_PA93 ICGC_PA94 ICGC_PA95\n",
       "ENSG00000000003 13.17    5.95      7.56      12.42     11.44     12.69    \n",
       "ENSG00000000005  0.01    0.09      0.03       0.04      0.06      0.13    \n",
       "ENSG00000000419  3.99    4.26      4.41       4.03      4.62      6.50    \n",
       "ENSG00000000457  1.11    1.27      1.33       1.41      1.73      1.81    \n",
       "ENSG00000000460  1.02    0.91      0.63       1.05      1.06      1.38    \n",
       "ENSG00000000938  0.45    0.54      0.55       0.72      0.48      0.41    \n",
       "                ICGC_PA96 ICGC_PA97 ICGC_PA99\n",
       "ENSG00000000003 9.92      12.44     10.51    \n",
       "ENSG00000000005 0.02       0.07      0.03    \n",
       "ENSG00000000419 6.17       6.01      5.47    \n",
       "ENSG00000000457 1.81       2.19      1.83    \n",
       "ENSG00000000460 1.19       1.10      1.37    \n",
       "ENSG00000000938 0.88       1.22      0.65    "
      ]
     },
     "metadata": {},
     "output_type": "display_data"
    }
   ],
   "source": [
    "head(tpm_matrix_ped)"
   ]
  },
  {
   "cell_type": "markdown",
   "metadata": {},
   "source": [
    "remove non-coding-RNA and unprocessed genes"
   ]
  },
  {
   "cell_type": "code",
   "execution_count": 50,
   "metadata": {},
   "outputs": [],
   "source": [
    "hg38 <- useMart(biomart=\"ENSEMBL_MART_ENSEMBL\", host=\"www.ensembl.org\", \n",
    "                path=\"/biomart/martservice\", dataset=\"hsapiens_gene_ensembl\")"
   ]
  },
  {
   "cell_type": "code",
   "execution_count": 51,
   "metadata": {},
   "outputs": [],
   "source": [
    "ensembls <- tpm_matrix_ped$ensembl_id"
   ]
  },
  {
   "cell_type": "code",
   "execution_count": 52,
   "metadata": {},
   "outputs": [
    {
     "name": "stderr",
     "output_type": "stream",
     "text": [
      "\n",
      "Batch submitting query [==>----------------------------]   9% eta:  2m\n",
      "\n",
      "Batch submitting query [=====>-------------------------]  18% eta:  2m\n",
      "\n",
      "Batch submitting query [=======>-----------------------]  27% eta:  1m\n",
      "\n",
      "Batch submitting query [==========>--------------------]  36% eta:  1m\n",
      "\n",
      "Batch submitting query [=============>-----------------]  45% eta:  1m\n",
      "\n",
      "Batch submitting query [================>--------------]  55% eta: 41s\n",
      "\n",
      "Batch submitting query [===================>-----------]  64% eta: 30s\n",
      "\n",
      "Batch submitting query [======================>--------]  73% eta: 21s\n",
      "\n",
      "Batch submitting query [========================>------]  82% eta: 13s\n",
      "\n",
      "Batch submitting query [===========================>---]  91% eta:  7s\n",
      "                                                                      \n",
      "\n"
     ]
    }
   ],
   "source": [
    "ensembl_hgnc_type <- getBM(filters=\"ensembl_gene_id\", \n",
    "                           attributes=c(\"hgnc_symbol\",\"ensembl_gene_id\", \"entrezgene_id\", \"gene_biotype\"), \n",
    "                           values= ensembls, mart=hg38)"
   ]
  },
  {
   "cell_type": "code",
   "execution_count": 53,
   "metadata": {},
   "outputs": [
    {
     "data": {
      "text/plain": [
       "\n",
       "                         IG_C_gene                    IG_C_pseudogene \n",
       "                                14                                  9 \n",
       "                         IG_D_gene                          IG_J_gene \n",
       "                                37                                 18 \n",
       "                   IG_J_pseudogene                          IG_V_gene \n",
       "                                 3                                145 \n",
       "                   IG_V_pseudogene                             lncRNA \n",
       "                               181                              14116 \n",
       "                             miRNA                           misc_RNA \n",
       "                              1447                               1074 \n",
       "                           Mt_rRNA                            Mt_tRNA \n",
       "                                 2                                 22 \n",
       "            polymorphic_pseudogene               processed_pseudogene \n",
       "                                44                              10079 \n",
       "                    protein_coding                         pseudogene \n",
       "                             19712                                 15 \n",
       "                          ribozyme                               rRNA \n",
       "                                 6                                 25 \n",
       "                   rRNA_pseudogene                             scaRNA \n",
       "                               490                                 20 \n",
       "                             scRNA                             snoRNA \n",
       "                                 1                                482 \n",
       "                             snRNA                               sRNA \n",
       "                              1825                                  1 \n",
       "                               TEC                          TR_C_gene \n",
       "                              1026                                  6 \n",
       "                         TR_D_gene                          TR_J_gene \n",
       "                                 4                                 79 \n",
       "                   TR_J_pseudogene                          TR_V_gene \n",
       "                                 4                                104 \n",
       "                   TR_V_pseudogene   transcribed_processed_pseudogene \n",
       "                                33                                492 \n",
       "    transcribed_unitary_pseudogene transcribed_unprocessed_pseudogene \n",
       "                               130                                869 \n",
       "   translated_processed_pseudogene  translated_unprocessed_pseudogene \n",
       "                                 1                                  1 \n",
       "                unitary_pseudogene             unprocessed_pseudogene \n",
       "                                72                               2454 \n",
       "                         vault_RNA                               <NA> \n",
       "                                 1                                  0 "
      ]
     },
     "metadata": {},
     "output_type": "display_data"
    }
   ],
   "source": [
    "table(ensembl_hgnc_type$gene_biotype, useNA = \"always\")"
   ]
  },
  {
   "cell_type": "code",
   "execution_count": 54,
   "metadata": {},
   "outputs": [],
   "source": [
    "rm_ncRNA <- ensembl_hgnc_type$ensembl_gene_id[ensembl_hgnc_type$gene_biotype %in% c(\"lncRNA\", \"misc_RNA\", \"scaRNA\",\n",
    "                                                                                    \"snoRNA\", \"snRNA\", \"scRNA\", \"sRNA\",\n",
    "                                                                                    \"TEC\", \"vault_RNA\")]"
   ]
  },
  {
   "cell_type": "code",
   "execution_count": 57,
   "metadata": {},
   "outputs": [
    {
     "data": {
      "text/html": [
       "<style>\n",
       ".list-inline {list-style: none; margin:0; padding: 0}\n",
       ".list-inline>li {display: inline-block}\n",
       ".list-inline>li:not(:last-child)::after {content: \"\\00b7\"; padding: 0 .5ex}\n",
       "</style>\n",
       "<ol class=list-inline><li>54965</li><li>978</li></ol>\n"
      ],
      "text/latex": [
       "\\begin{enumerate*}\n",
       "\\item 54965\n",
       "\\item 978\n",
       "\\end{enumerate*}\n"
      ],
      "text/markdown": [
       "1. 54965\n",
       "2. 978\n",
       "\n",
       "\n"
      ],
      "text/plain": [
       "[1] 54965   978"
      ]
     },
     "metadata": {},
     "output_type": "display_data"
    }
   ],
   "source": [
    "dim(tpm_matrix_ped)"
   ]
  },
  {
   "cell_type": "code",
   "execution_count": 58,
   "metadata": {},
   "outputs": [],
   "source": [
    "tpm_matrix_ped <- tpm_matrix_ped[!tpm_matrix_ped$ensembl_id %in% rm_ncRNA,]"
   ]
  },
  {
   "cell_type": "code",
   "execution_count": 59,
   "metadata": {},
   "outputs": [
    {
     "data": {
      "text/html": [
       "<style>\n",
       ".list-inline {list-style: none; margin:0; padding: 0}\n",
       ".list-inline>li {display: inline-block}\n",
       ".list-inline>li:not(:last-child)::after {content: \"\\00b7\"; padding: 0 .5ex}\n",
       "</style>\n",
       "<ol class=list-inline><li>36460</li><li>978</li></ol>\n"
      ],
      "text/latex": [
       "\\begin{enumerate*}\n",
       "\\item 36460\n",
       "\\item 978\n",
       "\\end{enumerate*}\n"
      ],
      "text/markdown": [
       "1. 36460\n",
       "2. 978\n",
       "\n",
       "\n"
      ],
      "text/plain": [
       "[1] 36460   978"
      ]
     },
     "metadata": {},
     "output_type": "display_data"
    }
   ],
   "source": [
    "dim(tpm_matrix_ped)"
   ]
  },
  {
   "cell_type": "code",
   "execution_count": 62,
   "metadata": {},
   "outputs": [],
   "source": [
    "tpm_matrix_ped_ensembl <- tpm_matrix_ped[, !colnames(tpm_matrix_ped) %in% c(\"hgnc_symbol.x\", \"ensembl_id\")]"
   ]
  },
  {
   "cell_type": "code",
   "execution_count": 63,
   "metadata": {},
   "outputs": [
    {
     "data": {
      "text/html": [
       "<table class=\"dataframe\">\n",
       "<caption>A data.frame: 6 × 976</caption>\n",
       "<thead>\n",
       "\t<tr><th></th><th scope=col>7316-1926</th><th scope=col>7316-489</th><th scope=col>7316-13</th><th scope=col>7316-3936</th><th scope=col>7316-873</th><th scope=col>7316-2669</th><th scope=col>7316-1928</th><th scope=col>7316-1655</th><th scope=col>7316-2251</th><th scope=col>7316-2622</th><th scope=col>⋯</th><th scope=col>ICGC_PA89</th><th scope=col>ICGC_PA9</th><th scope=col>ICGC_PA91</th><th scope=col>ICGC_PA92</th><th scope=col>ICGC_PA93</th><th scope=col>ICGC_PA94</th><th scope=col>ICGC_PA95</th><th scope=col>ICGC_PA96</th><th scope=col>ICGC_PA97</th><th scope=col>ICGC_PA99</th></tr>\n",
       "\t<tr><th></th><th scope=col>&lt;dbl&gt;</th><th scope=col>&lt;dbl&gt;</th><th scope=col>&lt;dbl&gt;</th><th scope=col>&lt;dbl&gt;</th><th scope=col>&lt;dbl&gt;</th><th scope=col>&lt;dbl&gt;</th><th scope=col>&lt;dbl&gt;</th><th scope=col>&lt;dbl&gt;</th><th scope=col>&lt;dbl&gt;</th><th scope=col>&lt;dbl&gt;</th><th scope=col>⋯</th><th scope=col>&lt;dbl&gt;</th><th scope=col>&lt;dbl&gt;</th><th scope=col>&lt;dbl&gt;</th><th scope=col>&lt;dbl&gt;</th><th scope=col>&lt;dbl&gt;</th><th scope=col>&lt;dbl&gt;</th><th scope=col>&lt;dbl&gt;</th><th scope=col>&lt;dbl&gt;</th><th scope=col>&lt;dbl&gt;</th><th scope=col>&lt;dbl&gt;</th></tr>\n",
       "</thead>\n",
       "<tbody>\n",
       "\t<tr><th scope=row>ENSG00000000003</th><td>8.66</td><td>6.15</td><td>0.73</td><td>1.50</td><td>29.41</td><td>4.62</td><td>6.65</td><td>1.78</td><td>23.07</td><td>0.82</td><td>⋯</td><td>10.59</td><td>13.17</td><td>5.95</td><td>7.56</td><td>12.42</td><td>11.44</td><td>12.69</td><td>9.92</td><td>12.44</td><td>10.51</td></tr>\n",
       "\t<tr><th scope=row>ENSG00000000005</th><td>0.02</td><td>0.03</td><td>0.02</td><td>0.01</td><td> 0.33</td><td>0.03</td><td>0.07</td><td>0.01</td><td> 0.02</td><td>0.00</td><td>⋯</td><td> 0.05</td><td> 0.01</td><td>0.09</td><td>0.03</td><td> 0.04</td><td> 0.06</td><td> 0.13</td><td>0.02</td><td> 0.07</td><td> 0.03</td></tr>\n",
       "\t<tr><th scope=row>ENSG00000000419</th><td>6.15</td><td>5.09</td><td>1.09</td><td>3.68</td><td> 4.89</td><td>4.75</td><td>3.07</td><td>4.58</td><td> 5.40</td><td>0.78</td><td>⋯</td><td> 5.83</td><td> 3.99</td><td>4.26</td><td>4.41</td><td> 4.03</td><td> 4.62</td><td> 6.50</td><td>6.17</td><td> 6.01</td><td> 5.47</td></tr>\n",
       "\t<tr><th scope=row>ENSG00000000457</th><td>1.75</td><td>1.71</td><td>0.44</td><td>1.44</td><td> 1.52</td><td>1.61</td><td>1.01</td><td>1.18</td><td> 1.13</td><td>0.13</td><td>⋯</td><td> 1.88</td><td> 1.11</td><td>1.27</td><td>1.33</td><td> 1.41</td><td> 1.73</td><td> 1.81</td><td>1.81</td><td> 2.19</td><td> 1.83</td></tr>\n",
       "\t<tr><th scope=row>ENSG00000000460</th><td>1.12</td><td>2.78</td><td>0.43</td><td>0.71</td><td> 1.00</td><td>1.64</td><td>0.58</td><td>1.61</td><td> 0.74</td><td>0.25</td><td>⋯</td><td> 0.68</td><td> 1.02</td><td>0.91</td><td>0.63</td><td> 1.05</td><td> 1.06</td><td> 1.38</td><td>1.19</td><td> 1.10</td><td> 1.37</td></tr>\n",
       "\t<tr><th scope=row>ENSG00000000938</th><td>0.90</td><td>0.18</td><td>0.36</td><td>1.32</td><td> 0.93</td><td>1.01</td><td>0.83</td><td>0.09</td><td> 0.46</td><td>0.40</td><td>⋯</td><td> 0.58</td><td> 0.45</td><td>0.54</td><td>0.55</td><td> 0.72</td><td> 0.48</td><td> 0.41</td><td>0.88</td><td> 1.22</td><td> 0.65</td></tr>\n",
       "</tbody>\n",
       "</table>\n"
      ],
      "text/latex": [
       "A data.frame: 6 × 976\n",
       "\\begin{tabular}{r|lllllllllllllllllllll}\n",
       "  & 7316-1926 & 7316-489 & 7316-13 & 7316-3936 & 7316-873 & 7316-2669 & 7316-1928 & 7316-1655 & 7316-2251 & 7316-2622 & ⋯ & ICGC\\_PA89 & ICGC\\_PA9 & ICGC\\_PA91 & ICGC\\_PA92 & ICGC\\_PA93 & ICGC\\_PA94 & ICGC\\_PA95 & ICGC\\_PA96 & ICGC\\_PA97 & ICGC\\_PA99\\\\\n",
       "  & <dbl> & <dbl> & <dbl> & <dbl> & <dbl> & <dbl> & <dbl> & <dbl> & <dbl> & <dbl> & ⋯ & <dbl> & <dbl> & <dbl> & <dbl> & <dbl> & <dbl> & <dbl> & <dbl> & <dbl> & <dbl>\\\\\n",
       "\\hline\n",
       "\tENSG00000000003 & 8.66 & 6.15 & 0.73 & 1.50 & 29.41 & 4.62 & 6.65 & 1.78 & 23.07 & 0.82 & ⋯ & 10.59 & 13.17 & 5.95 & 7.56 & 12.42 & 11.44 & 12.69 & 9.92 & 12.44 & 10.51\\\\\n",
       "\tENSG00000000005 & 0.02 & 0.03 & 0.02 & 0.01 &  0.33 & 0.03 & 0.07 & 0.01 &  0.02 & 0.00 & ⋯ &  0.05 &  0.01 & 0.09 & 0.03 &  0.04 &  0.06 &  0.13 & 0.02 &  0.07 &  0.03\\\\\n",
       "\tENSG00000000419 & 6.15 & 5.09 & 1.09 & 3.68 &  4.89 & 4.75 & 3.07 & 4.58 &  5.40 & 0.78 & ⋯ &  5.83 &  3.99 & 4.26 & 4.41 &  4.03 &  4.62 &  6.50 & 6.17 &  6.01 &  5.47\\\\\n",
       "\tENSG00000000457 & 1.75 & 1.71 & 0.44 & 1.44 &  1.52 & 1.61 & 1.01 & 1.18 &  1.13 & 0.13 & ⋯ &  1.88 &  1.11 & 1.27 & 1.33 &  1.41 &  1.73 &  1.81 & 1.81 &  2.19 &  1.83\\\\\n",
       "\tENSG00000000460 & 1.12 & 2.78 & 0.43 & 0.71 &  1.00 & 1.64 & 0.58 & 1.61 &  0.74 & 0.25 & ⋯ &  0.68 &  1.02 & 0.91 & 0.63 &  1.05 &  1.06 &  1.38 & 1.19 &  1.10 &  1.37\\\\\n",
       "\tENSG00000000938 & 0.90 & 0.18 & 0.36 & 1.32 &  0.93 & 1.01 & 0.83 & 0.09 &  0.46 & 0.40 & ⋯ &  0.58 &  0.45 & 0.54 & 0.55 &  0.72 &  0.48 &  0.41 & 0.88 &  1.22 &  0.65\\\\\n",
       "\\end{tabular}\n"
      ],
      "text/markdown": [
       "\n",
       "A data.frame: 6 × 976\n",
       "\n",
       "| <!--/--> | 7316-1926 &lt;dbl&gt; | 7316-489 &lt;dbl&gt; | 7316-13 &lt;dbl&gt; | 7316-3936 &lt;dbl&gt; | 7316-873 &lt;dbl&gt; | 7316-2669 &lt;dbl&gt; | 7316-1928 &lt;dbl&gt; | 7316-1655 &lt;dbl&gt; | 7316-2251 &lt;dbl&gt; | 7316-2622 &lt;dbl&gt; | ⋯ ⋯ | ICGC_PA89 &lt;dbl&gt; | ICGC_PA9 &lt;dbl&gt; | ICGC_PA91 &lt;dbl&gt; | ICGC_PA92 &lt;dbl&gt; | ICGC_PA93 &lt;dbl&gt; | ICGC_PA94 &lt;dbl&gt; | ICGC_PA95 &lt;dbl&gt; | ICGC_PA96 &lt;dbl&gt; | ICGC_PA97 &lt;dbl&gt; | ICGC_PA99 &lt;dbl&gt; |\n",
       "|---|---|---|---|---|---|---|---|---|---|---|---|---|---|---|---|---|---|---|---|---|---|\n",
       "| ENSG00000000003 | 8.66 | 6.15 | 0.73 | 1.50 | 29.41 | 4.62 | 6.65 | 1.78 | 23.07 | 0.82 | ⋯ | 10.59 | 13.17 | 5.95 | 7.56 | 12.42 | 11.44 | 12.69 | 9.92 | 12.44 | 10.51 |\n",
       "| ENSG00000000005 | 0.02 | 0.03 | 0.02 | 0.01 |  0.33 | 0.03 | 0.07 | 0.01 |  0.02 | 0.00 | ⋯ |  0.05 |  0.01 | 0.09 | 0.03 |  0.04 |  0.06 |  0.13 | 0.02 |  0.07 |  0.03 |\n",
       "| ENSG00000000419 | 6.15 | 5.09 | 1.09 | 3.68 |  4.89 | 4.75 | 3.07 | 4.58 |  5.40 | 0.78 | ⋯ |  5.83 |  3.99 | 4.26 | 4.41 |  4.03 |  4.62 |  6.50 | 6.17 |  6.01 |  5.47 |\n",
       "| ENSG00000000457 | 1.75 | 1.71 | 0.44 | 1.44 |  1.52 | 1.61 | 1.01 | 1.18 |  1.13 | 0.13 | ⋯ |  1.88 |  1.11 | 1.27 | 1.33 |  1.41 |  1.73 |  1.81 | 1.81 |  2.19 |  1.83 |\n",
       "| ENSG00000000460 | 1.12 | 2.78 | 0.43 | 0.71 |  1.00 | 1.64 | 0.58 | 1.61 |  0.74 | 0.25 | ⋯ |  0.68 |  1.02 | 0.91 | 0.63 |  1.05 |  1.06 |  1.38 | 1.19 |  1.10 |  1.37 |\n",
       "| ENSG00000000938 | 0.90 | 0.18 | 0.36 | 1.32 |  0.93 | 1.01 | 0.83 | 0.09 |  0.46 | 0.40 | ⋯ |  0.58 |  0.45 | 0.54 | 0.55 |  0.72 |  0.48 |  0.41 | 0.88 |  1.22 |  0.65 |\n",
       "\n"
      ],
      "text/plain": [
       "                7316-1926 7316-489 7316-13 7316-3936 7316-873 7316-2669\n",
       "ENSG00000000003 8.66      6.15     0.73    1.50      29.41    4.62     \n",
       "ENSG00000000005 0.02      0.03     0.02    0.01       0.33    0.03     \n",
       "ENSG00000000419 6.15      5.09     1.09    3.68       4.89    4.75     \n",
       "ENSG00000000457 1.75      1.71     0.44    1.44       1.52    1.61     \n",
       "ENSG00000000460 1.12      2.78     0.43    0.71       1.00    1.64     \n",
       "ENSG00000000938 0.90      0.18     0.36    1.32       0.93    1.01     \n",
       "                7316-1928 7316-1655 7316-2251 7316-2622 ⋯ ICGC_PA89 ICGC_PA9\n",
       "ENSG00000000003 6.65      1.78      23.07     0.82      ⋯ 10.59     13.17   \n",
       "ENSG00000000005 0.07      0.01       0.02     0.00      ⋯  0.05      0.01   \n",
       "ENSG00000000419 3.07      4.58       5.40     0.78      ⋯  5.83      3.99   \n",
       "ENSG00000000457 1.01      1.18       1.13     0.13      ⋯  1.88      1.11   \n",
       "ENSG00000000460 0.58      1.61       0.74     0.25      ⋯  0.68      1.02   \n",
       "ENSG00000000938 0.83      0.09       0.46     0.40      ⋯  0.58      0.45   \n",
       "                ICGC_PA91 ICGC_PA92 ICGC_PA93 ICGC_PA94 ICGC_PA95 ICGC_PA96\n",
       "ENSG00000000003 5.95      7.56      12.42     11.44     12.69     9.92     \n",
       "ENSG00000000005 0.09      0.03       0.04      0.06      0.13     0.02     \n",
       "ENSG00000000419 4.26      4.41       4.03      4.62      6.50     6.17     \n",
       "ENSG00000000457 1.27      1.33       1.41      1.73      1.81     1.81     \n",
       "ENSG00000000460 0.91      0.63       1.05      1.06      1.38     1.19     \n",
       "ENSG00000000938 0.54      0.55       0.72      0.48      0.41     0.88     \n",
       "                ICGC_PA97 ICGC_PA99\n",
       "ENSG00000000003 12.44     10.51    \n",
       "ENSG00000000005  0.07      0.03    \n",
       "ENSG00000000419  6.01      5.47    \n",
       "ENSG00000000457  2.19      1.83    \n",
       "ENSG00000000460  1.10      1.37    \n",
       "ENSG00000000938  1.22      0.65    "
      ]
     },
     "metadata": {},
     "output_type": "display_data"
    }
   ],
   "source": [
    "head(tpm_matrix_ped_ensembl)"
   ]
  },
  {
   "cell_type": "code",
   "execution_count": 64,
   "metadata": {},
   "outputs": [],
   "source": [
    "save(tpm_matrix_ped_ensembl,\n",
    "         file = paste0(datapath, \"exp_mat/tpm_matrix_ped_primary_dedup_ensembl.RData\"))  "
   ]
  },
  {
   "cell_type": "code",
   "execution_count": 65,
   "metadata": {},
   "outputs": [],
   "source": [
    "rownames(tpm_matrix_ped) <- tpm_matrix_ped$hgnc_symbol.x\n",
    "tpm_matrix_ped$hgnc_symbol.x <- NULL\n",
    "tpm_matrix_ped$ensembl_id <- NULL"
   ]
  },
  {
   "cell_type": "code",
   "execution_count": 66,
   "metadata": {},
   "outputs": [
    {
     "data": {
      "text/html": [
       "<table class=\"dataframe\">\n",
       "<caption>A data.frame: 6 × 976</caption>\n",
       "<thead>\n",
       "\t<tr><th></th><th scope=col>7316-1926</th><th scope=col>7316-489</th><th scope=col>7316-13</th><th scope=col>7316-3936</th><th scope=col>7316-873</th><th scope=col>7316-2669</th><th scope=col>7316-1928</th><th scope=col>7316-1655</th><th scope=col>7316-2251</th><th scope=col>7316-2622</th><th scope=col>⋯</th><th scope=col>ICGC_PA89</th><th scope=col>ICGC_PA9</th><th scope=col>ICGC_PA91</th><th scope=col>ICGC_PA92</th><th scope=col>ICGC_PA93</th><th scope=col>ICGC_PA94</th><th scope=col>ICGC_PA95</th><th scope=col>ICGC_PA96</th><th scope=col>ICGC_PA97</th><th scope=col>ICGC_PA99</th></tr>\n",
       "\t<tr><th></th><th scope=col>&lt;dbl&gt;</th><th scope=col>&lt;dbl&gt;</th><th scope=col>&lt;dbl&gt;</th><th scope=col>&lt;dbl&gt;</th><th scope=col>&lt;dbl&gt;</th><th scope=col>&lt;dbl&gt;</th><th scope=col>&lt;dbl&gt;</th><th scope=col>&lt;dbl&gt;</th><th scope=col>&lt;dbl&gt;</th><th scope=col>&lt;dbl&gt;</th><th scope=col>⋯</th><th scope=col>&lt;dbl&gt;</th><th scope=col>&lt;dbl&gt;</th><th scope=col>&lt;dbl&gt;</th><th scope=col>&lt;dbl&gt;</th><th scope=col>&lt;dbl&gt;</th><th scope=col>&lt;dbl&gt;</th><th scope=col>&lt;dbl&gt;</th><th scope=col>&lt;dbl&gt;</th><th scope=col>&lt;dbl&gt;</th><th scope=col>&lt;dbl&gt;</th></tr>\n",
       "</thead>\n",
       "<tbody>\n",
       "\t<tr><th scope=row>TSPAN6</th><td>8.66</td><td>6.15</td><td>0.73</td><td>1.50</td><td>29.41</td><td>4.62</td><td>6.65</td><td>1.78</td><td>23.07</td><td>0.82</td><td>⋯</td><td>10.59</td><td>13.17</td><td>5.95</td><td>7.56</td><td>12.42</td><td>11.44</td><td>12.69</td><td>9.92</td><td>12.44</td><td>10.51</td></tr>\n",
       "\t<tr><th scope=row>TNMD</th><td>0.02</td><td>0.03</td><td>0.02</td><td>0.01</td><td> 0.33</td><td>0.03</td><td>0.07</td><td>0.01</td><td> 0.02</td><td>0.00</td><td>⋯</td><td> 0.05</td><td> 0.01</td><td>0.09</td><td>0.03</td><td> 0.04</td><td> 0.06</td><td> 0.13</td><td>0.02</td><td> 0.07</td><td> 0.03</td></tr>\n",
       "\t<tr><th scope=row>DPM1</th><td>6.15</td><td>5.09</td><td>1.09</td><td>3.68</td><td> 4.89</td><td>4.75</td><td>3.07</td><td>4.58</td><td> 5.40</td><td>0.78</td><td>⋯</td><td> 5.83</td><td> 3.99</td><td>4.26</td><td>4.41</td><td> 4.03</td><td> 4.62</td><td> 6.50</td><td>6.17</td><td> 6.01</td><td> 5.47</td></tr>\n",
       "\t<tr><th scope=row>SCYL3</th><td>1.75</td><td>1.71</td><td>0.44</td><td>1.44</td><td> 1.52</td><td>1.61</td><td>1.01</td><td>1.18</td><td> 1.13</td><td>0.13</td><td>⋯</td><td> 1.88</td><td> 1.11</td><td>1.27</td><td>1.33</td><td> 1.41</td><td> 1.73</td><td> 1.81</td><td>1.81</td><td> 2.19</td><td> 1.83</td></tr>\n",
       "\t<tr><th scope=row>C1orf112</th><td>1.12</td><td>2.78</td><td>0.43</td><td>0.71</td><td> 1.00</td><td>1.64</td><td>0.58</td><td>1.61</td><td> 0.74</td><td>0.25</td><td>⋯</td><td> 0.68</td><td> 1.02</td><td>0.91</td><td>0.63</td><td> 1.05</td><td> 1.06</td><td> 1.38</td><td>1.19</td><td> 1.10</td><td> 1.37</td></tr>\n",
       "\t<tr><th scope=row>FGR</th><td>0.90</td><td>0.18</td><td>0.36</td><td>1.32</td><td> 0.93</td><td>1.01</td><td>0.83</td><td>0.09</td><td> 0.46</td><td>0.40</td><td>⋯</td><td> 0.58</td><td> 0.45</td><td>0.54</td><td>0.55</td><td> 0.72</td><td> 0.48</td><td> 0.41</td><td>0.88</td><td> 1.22</td><td> 0.65</td></tr>\n",
       "</tbody>\n",
       "</table>\n"
      ],
      "text/latex": [
       "A data.frame: 6 × 976\n",
       "\\begin{tabular}{r|lllllllllllllllllllll}\n",
       "  & 7316-1926 & 7316-489 & 7316-13 & 7316-3936 & 7316-873 & 7316-2669 & 7316-1928 & 7316-1655 & 7316-2251 & 7316-2622 & ⋯ & ICGC\\_PA89 & ICGC\\_PA9 & ICGC\\_PA91 & ICGC\\_PA92 & ICGC\\_PA93 & ICGC\\_PA94 & ICGC\\_PA95 & ICGC\\_PA96 & ICGC\\_PA97 & ICGC\\_PA99\\\\\n",
       "  & <dbl> & <dbl> & <dbl> & <dbl> & <dbl> & <dbl> & <dbl> & <dbl> & <dbl> & <dbl> & ⋯ & <dbl> & <dbl> & <dbl> & <dbl> & <dbl> & <dbl> & <dbl> & <dbl> & <dbl> & <dbl>\\\\\n",
       "\\hline\n",
       "\tTSPAN6 & 8.66 & 6.15 & 0.73 & 1.50 & 29.41 & 4.62 & 6.65 & 1.78 & 23.07 & 0.82 & ⋯ & 10.59 & 13.17 & 5.95 & 7.56 & 12.42 & 11.44 & 12.69 & 9.92 & 12.44 & 10.51\\\\\n",
       "\tTNMD & 0.02 & 0.03 & 0.02 & 0.01 &  0.33 & 0.03 & 0.07 & 0.01 &  0.02 & 0.00 & ⋯ &  0.05 &  0.01 & 0.09 & 0.03 &  0.04 &  0.06 &  0.13 & 0.02 &  0.07 &  0.03\\\\\n",
       "\tDPM1 & 6.15 & 5.09 & 1.09 & 3.68 &  4.89 & 4.75 & 3.07 & 4.58 &  5.40 & 0.78 & ⋯ &  5.83 &  3.99 & 4.26 & 4.41 &  4.03 &  4.62 &  6.50 & 6.17 &  6.01 &  5.47\\\\\n",
       "\tSCYL3 & 1.75 & 1.71 & 0.44 & 1.44 &  1.52 & 1.61 & 1.01 & 1.18 &  1.13 & 0.13 & ⋯ &  1.88 &  1.11 & 1.27 & 1.33 &  1.41 &  1.73 &  1.81 & 1.81 &  2.19 &  1.83\\\\\n",
       "\tC1orf112 & 1.12 & 2.78 & 0.43 & 0.71 &  1.00 & 1.64 & 0.58 & 1.61 &  0.74 & 0.25 & ⋯ &  0.68 &  1.02 & 0.91 & 0.63 &  1.05 &  1.06 &  1.38 & 1.19 &  1.10 &  1.37\\\\\n",
       "\tFGR & 0.90 & 0.18 & 0.36 & 1.32 &  0.93 & 1.01 & 0.83 & 0.09 &  0.46 & 0.40 & ⋯ &  0.58 &  0.45 & 0.54 & 0.55 &  0.72 &  0.48 &  0.41 & 0.88 &  1.22 &  0.65\\\\\n",
       "\\end{tabular}\n"
      ],
      "text/markdown": [
       "\n",
       "A data.frame: 6 × 976\n",
       "\n",
       "| <!--/--> | 7316-1926 &lt;dbl&gt; | 7316-489 &lt;dbl&gt; | 7316-13 &lt;dbl&gt; | 7316-3936 &lt;dbl&gt; | 7316-873 &lt;dbl&gt; | 7316-2669 &lt;dbl&gt; | 7316-1928 &lt;dbl&gt; | 7316-1655 &lt;dbl&gt; | 7316-2251 &lt;dbl&gt; | 7316-2622 &lt;dbl&gt; | ⋯ ⋯ | ICGC_PA89 &lt;dbl&gt; | ICGC_PA9 &lt;dbl&gt; | ICGC_PA91 &lt;dbl&gt; | ICGC_PA92 &lt;dbl&gt; | ICGC_PA93 &lt;dbl&gt; | ICGC_PA94 &lt;dbl&gt; | ICGC_PA95 &lt;dbl&gt; | ICGC_PA96 &lt;dbl&gt; | ICGC_PA97 &lt;dbl&gt; | ICGC_PA99 &lt;dbl&gt; |\n",
       "|---|---|---|---|---|---|---|---|---|---|---|---|---|---|---|---|---|---|---|---|---|---|\n",
       "| TSPAN6 | 8.66 | 6.15 | 0.73 | 1.50 | 29.41 | 4.62 | 6.65 | 1.78 | 23.07 | 0.82 | ⋯ | 10.59 | 13.17 | 5.95 | 7.56 | 12.42 | 11.44 | 12.69 | 9.92 | 12.44 | 10.51 |\n",
       "| TNMD | 0.02 | 0.03 | 0.02 | 0.01 |  0.33 | 0.03 | 0.07 | 0.01 |  0.02 | 0.00 | ⋯ |  0.05 |  0.01 | 0.09 | 0.03 |  0.04 |  0.06 |  0.13 | 0.02 |  0.07 |  0.03 |\n",
       "| DPM1 | 6.15 | 5.09 | 1.09 | 3.68 |  4.89 | 4.75 | 3.07 | 4.58 |  5.40 | 0.78 | ⋯ |  5.83 |  3.99 | 4.26 | 4.41 |  4.03 |  4.62 |  6.50 | 6.17 |  6.01 |  5.47 |\n",
       "| SCYL3 | 1.75 | 1.71 | 0.44 | 1.44 |  1.52 | 1.61 | 1.01 | 1.18 |  1.13 | 0.13 | ⋯ |  1.88 |  1.11 | 1.27 | 1.33 |  1.41 |  1.73 |  1.81 | 1.81 |  2.19 |  1.83 |\n",
       "| C1orf112 | 1.12 | 2.78 | 0.43 | 0.71 |  1.00 | 1.64 | 0.58 | 1.61 |  0.74 | 0.25 | ⋯ |  0.68 |  1.02 | 0.91 | 0.63 |  1.05 |  1.06 |  1.38 | 1.19 |  1.10 |  1.37 |\n",
       "| FGR | 0.90 | 0.18 | 0.36 | 1.32 |  0.93 | 1.01 | 0.83 | 0.09 |  0.46 | 0.40 | ⋯ |  0.58 |  0.45 | 0.54 | 0.55 |  0.72 |  0.48 |  0.41 | 0.88 |  1.22 |  0.65 |\n",
       "\n"
      ],
      "text/plain": [
       "         7316-1926 7316-489 7316-13 7316-3936 7316-873 7316-2669 7316-1928\n",
       "TSPAN6   8.66      6.15     0.73    1.50      29.41    4.62      6.65     \n",
       "TNMD     0.02      0.03     0.02    0.01       0.33    0.03      0.07     \n",
       "DPM1     6.15      5.09     1.09    3.68       4.89    4.75      3.07     \n",
       "SCYL3    1.75      1.71     0.44    1.44       1.52    1.61      1.01     \n",
       "C1orf112 1.12      2.78     0.43    0.71       1.00    1.64      0.58     \n",
       "FGR      0.90      0.18     0.36    1.32       0.93    1.01      0.83     \n",
       "         7316-1655 7316-2251 7316-2622 ⋯ ICGC_PA89 ICGC_PA9 ICGC_PA91 ICGC_PA92\n",
       "TSPAN6   1.78      23.07     0.82      ⋯ 10.59     13.17    5.95      7.56     \n",
       "TNMD     0.01       0.02     0.00      ⋯  0.05      0.01    0.09      0.03     \n",
       "DPM1     4.58       5.40     0.78      ⋯  5.83      3.99    4.26      4.41     \n",
       "SCYL3    1.18       1.13     0.13      ⋯  1.88      1.11    1.27      1.33     \n",
       "C1orf112 1.61       0.74     0.25      ⋯  0.68      1.02    0.91      0.63     \n",
       "FGR      0.09       0.46     0.40      ⋯  0.58      0.45    0.54      0.55     \n",
       "         ICGC_PA93 ICGC_PA94 ICGC_PA95 ICGC_PA96 ICGC_PA97 ICGC_PA99\n",
       "TSPAN6   12.42     11.44     12.69     9.92      12.44     10.51    \n",
       "TNMD      0.04      0.06      0.13     0.02       0.07      0.03    \n",
       "DPM1      4.03      4.62      6.50     6.17       6.01      5.47    \n",
       "SCYL3     1.41      1.73      1.81     1.81       2.19      1.83    \n",
       "C1orf112  1.05      1.06      1.38     1.19       1.10      1.37    \n",
       "FGR       0.72      0.48      0.41     0.88       1.22      0.65    "
      ]
     },
     "metadata": {},
     "output_type": "display_data"
    }
   ],
   "source": [
    "head(tpm_matrix_ped)"
   ]
  },
  {
   "cell_type": "code",
   "execution_count": 67,
   "metadata": {},
   "outputs": [
    {
     "data": {
      "text/html": [
       "<style>\n",
       ".list-inline {list-style: none; margin:0; padding: 0}\n",
       ".list-inline>li {display: inline-block}\n",
       ".list-inline>li:not(:last-child)::after {content: \"\\00b7\"; padding: 0 .5ex}\n",
       "</style>\n",
       "<ol class=list-inline><li>36460</li><li>976</li></ol>\n"
      ],
      "text/latex": [
       "\\begin{enumerate*}\n",
       "\\item 36460\n",
       "\\item 976\n",
       "\\end{enumerate*}\n"
      ],
      "text/markdown": [
       "1. 36460\n",
       "2. 976\n",
       "\n",
       "\n"
      ],
      "text/plain": [
       "[1] 36460   976"
      ]
     },
     "metadata": {},
     "output_type": "display_data"
    }
   ],
   "source": [
    "dim(tpm_matrix_ped)"
   ]
  },
  {
   "cell_type": "code",
   "execution_count": 68,
   "metadata": {},
   "outputs": [],
   "source": [
    "save(tpm_matrix_ped,\n",
    "         file = paste0(datapath, \"exp_mat/tpm_matrix_ped_primary_dedup.RData\"))   "
   ]
  },
  {
   "cell_type": "code",
   "execution_count": 69,
   "metadata": {},
   "outputs": [],
   "source": [
    "write.table(tpm_matrix_ped,\n",
    "                file = paste0(datapath, \"exp_mat/tpm_matrix_ped_primary_dedup.txt\"),\n",
    "                sep = \"\\t\", quote = F)"
   ]
  },
  {
   "cell_type": "code",
   "execution_count": null,
   "metadata": {},
   "outputs": [],
   "source": []
  }
 ],
 "metadata": {
  "kernelspec": {
   "display_name": "R 4.0",
   "language": "R",
   "name": "ir40"
  },
  "language_info": {
   "codemirror_mode": "r",
   "file_extension": ".r",
   "mimetype": "text/x-r-source",
   "name": "R",
   "pygments_lexer": "r",
   "version": "4.0.3"
  },
  "toc": {
   "base_numbering": 1,
   "nav_menu": {},
   "number_sections": false,
   "sideBar": true,
   "skip_h1_title": false,
   "title_cell": "Table of Contents",
   "title_sidebar": "Contents",
   "toc_cell": true,
   "toc_position": {
    "height": "calc(100% - 180px)",
    "left": "10px",
    "top": "150px",
    "width": "229.333px"
   },
   "toc_section_display": true,
   "toc_window_display": true
  }
 },
 "nbformat": 4,
 "nbformat_minor": 2
}
