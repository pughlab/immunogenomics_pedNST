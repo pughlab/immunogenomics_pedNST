{
 "cells": [
  {
   "cell_type": "markdown",
   "metadata": {
    "toc": true
   },
   "source": [
    "<h1>Table of Contents<span class=\"tocSkip\"></span></h1>\n",
    "<div class=\"toc\"><ul class=\"toc-item\"><li><span><a href=\"#Dependenices\" data-toc-modified-id=\"Dependenices-1\">Dependenices</a></span></li><li><span><a href=\"#Functions\" data-toc-modified-id=\"Functions-2\">Functions</a></span></li><li><span><a href=\"#Paths\" data-toc-modified-id=\"Paths-3\">Paths</a></span></li><li><span><a href=\"#Main\" data-toc-modified-id=\"Main-4\">Main</a></span></li><li><span><a href=\"#Heatmap\" data-toc-modified-id=\"Heatmap-5\">Heatmap</a></span></li><li><span><a href=\"#Deprecated\" data-toc-modified-id=\"Deprecated-6\">Deprecated</a></span></li><li><span><a href=\"#Enrichment-analysis-with-MSigDB\" data-toc-modified-id=\"Enrichment-analysis-with-MSigDB-7\">Enrichment analysis with MSigDB</a></span></li><li><span><a href=\"#Using-ReactomePA\" data-toc-modified-id=\"Using-ReactomePA-8\">Using ReactomePA</a></span></li></ul></div>"
   ]
  },
  {
   "cell_type": "markdown",
   "metadata": {},
   "source": [
    "# Dependenices"
   ]
  },
  {
   "cell_type": "code",
   "execution_count": 1,
   "metadata": {
    "scrolled": true
   },
   "outputs": [
    {
     "name": "stderr",
     "output_type": "stream",
     "text": [
      "Loading required package: grid\n",
      "\n",
      "========================================\n",
      "ComplexHeatmap version 2.6.2\n",
      "Bioconductor page: http://bioconductor.org/packages/ComplexHeatmap/\n",
      "Github page: https://github.com/jokergoo/ComplexHeatmap\n",
      "Documentation: http://jokergoo.github.io/ComplexHeatmap-reference\n",
      "\n",
      "If you use it in published research, please cite:\n",
      "Gu, Z. Complex heatmaps reveal patterns and correlations in multidimensional \n",
      "  genomic data. Bioinformatics 2016.\n",
      "\n",
      "This message can be suppressed by:\n",
      "  suppressPackageStartupMessages(library(ComplexHeatmap))\n",
      "========================================\n",
      "\n",
      "\n",
      "========================================\n",
      "circlize version 0.4.12\n",
      "CRAN page: https://cran.r-project.org/package=circlize\n",
      "Github page: https://github.com/jokergoo/circlize\n",
      "Documentation: https://jokergoo.github.io/circlize_book/book/\n",
      "\n",
      "If you use it in published research, please cite:\n",
      "Gu, Z. circlize implements and enhances circular visualization\n",
      "  in R. Bioinformatics 2014.\n",
      "\n",
      "This message can be suppressed by:\n",
      "  suppressPackageStartupMessages(library(circlize))\n",
      "========================================\n",
      "\n",
      "\n",
      "Loading required package: AnnotationDbi\n",
      "\n",
      "Loading required package: stats4\n",
      "\n",
      "Loading required package: BiocGenerics\n",
      "\n",
      "Loading required package: parallel\n",
      "\n",
      "\n",
      "Attaching package: ‘BiocGenerics’\n",
      "\n",
      "\n",
      "The following objects are masked from ‘package:parallel’:\n",
      "\n",
      "    clusterApply, clusterApplyLB, clusterCall, clusterEvalQ,\n",
      "    clusterExport, clusterMap, parApply, parCapply, parLapply,\n",
      "    parLapplyLB, parRapply, parSapply, parSapplyLB\n",
      "\n",
      "\n",
      "The following objects are masked from ‘package:stats’:\n",
      "\n",
      "    IQR, mad, sd, var, xtabs\n",
      "\n",
      "\n",
      "The following objects are masked from ‘package:base’:\n",
      "\n",
      "    anyDuplicated, append, as.data.frame, basename, cbind, colnames,\n",
      "    dirname, do.call, duplicated, eval, evalq, Filter, Find, get, grep,\n",
      "    grepl, intersect, is.unsorted, lapply, Map, mapply, match, mget,\n",
      "    order, paste, pmax, pmax.int, pmin, pmin.int, Position, rank,\n",
      "    rbind, Reduce, rownames, sapply, setdiff, sort, table, tapply,\n",
      "    union, unique, unsplit, which.max, which.min\n",
      "\n",
      "\n",
      "Loading required package: Biobase\n",
      "\n",
      "Welcome to Bioconductor\n",
      "\n",
      "    Vignettes contain introductory material; view with\n",
      "    'browseVignettes()'. To cite Bioconductor, see\n",
      "    'citation(\"Biobase\")', and for packages 'citation(\"pkgname\")'.\n",
      "\n",
      "\n",
      "Loading required package: IRanges\n",
      "\n",
      "Loading required package: S4Vectors\n",
      "\n",
      "\n",
      "Attaching package: ‘S4Vectors’\n",
      "\n",
      "\n",
      "The following object is masked from ‘package:base’:\n",
      "\n",
      "    expand.grid\n",
      "\n",
      "\n",
      "\n",
      "\n"
     ]
    }
   ],
   "source": [
    "#library(ggplot2)\n",
    "library(ComplexHeatmap)\n",
    "library(circlize)\n",
    "#library(clusterProfiler)\n",
    "library(org.Hs.eg.db)"
   ]
  },
  {
   "cell_type": "markdown",
   "metadata": {},
   "source": [
    "# Functions"
   ]
  },
  {
   "cell_type": "code",
   "execution_count": 2,
   "metadata": {},
   "outputs": [],
   "source": [
    "source(\"~/OneDrive - UHN//R_src/ggplot2_theme.R\")"
   ]
  },
  {
   "cell_type": "code",
   "execution_count": 3,
   "metadata": {},
   "outputs": [],
   "source": [
    "class_hm.fx <- function(class_vector_ordered){\n",
    "\n",
    "    colors = structure(c(\"#d7191c\", \"#fdae61\", \"#abd9e9\", \"#2c7bb6\"),\n",
    "                       names = c(\"C1\", \"C2\", \"C3\", \"C4\"))    \n",
    "    \n",
    "    class_mat <- t(as.matrix(class_vector_ordered))\n",
    "    rownames(class_mat) <- \"Cluster\"\n",
    "    class_hm = Heatmap(class_mat,\n",
    "                       #titles and names\n",
    "                       name = \"Immune cluster\",\n",
    "                       show_row_names = TRUE,\n",
    "                       show_column_names = TRUE,    \n",
    "                       #clusters\n",
    "                       cluster_columns = FALSE,\n",
    "                       cluster_rows = FALSE,\n",
    "                       #aesthestics\n",
    "                       col = colors,\n",
    "                       column_names_gp = gpar(fontsize = 15),\n",
    "                       height = unit(1, \"cm\"),\n",
    "                       row_names_gp = gpar(fontsize = 20))\n",
    "    return(class_hm)\n",
    "}"
   ]
  },
  {
   "cell_type": "code",
   "execution_count": 4,
   "metadata": {},
   "outputs": [],
   "source": [
    "gene_hm.fx <- function(genes_mat){\n",
    "\n",
    "   # col_fun= colorRamp2(c(-1, 0, 1), c(\"blue\", \"white\", \"red\"))\n",
    "    \n",
    "    gene_hm = Heatmap(genes_mat,\n",
    "                       #titles and names   \n",
    "                       name = \"Gene expression z score\",   \n",
    "                       show_row_names = TRUE,\n",
    "                       show_column_names = FALSE,     \n",
    "                       #clusters and orders  \n",
    "                       cluster_columns = TRUE,\n",
    "                       cluster_rows = TRUE,\n",
    "                       show_column_dend = TRUE,\n",
    "                       show_row_dend = TRUE,                      \n",
    "                       #row_dend_width = unit(8, \"cm\"),\n",
    "                       #aesthestics\n",
    "                 #      col = col_fun,\n",
    "                       column_names_gp = gpar(fontsize = 20),\n",
    "                       row_names_gp = gpar(fontsize = 20),\n",
    "                       height = unit(nrow(genes_mat), \"cm\"),\n",
    "                       column_title_gp = gpar(fontsize = 20),\n",
    "                       column_title = NULL,\n",
    "                       row_title = NULL)\n",
    "    return(gene_hm)   \n",
    "}"
   ]
  },
  {
   "cell_type": "code",
   "execution_count": 5,
   "metadata": {},
   "outputs": [],
   "source": [
    "cohorts_hm.fx <- function(cohorts_mat){\n",
    " \n",
    "colpal <- c(\"MB_PDX\" = \"#878787\", #PDX\n",
    "            \"ETMR\" = \"#76afa9\", #ped\n",
    "            \"MNG\" = \"#a6cee3\", \n",
    "            \"MB\" =  \"#1f78b4\",\n",
    "            \"SCHW\" =  \"#678ba5\",\n",
    "            \"ATRT\" =  \"#33a02c\",\n",
    "            \"EPN\" = \"#e31a1c\",\n",
    "            \"pedHGG\" = \"#fdbf6f\",\n",
    "            \"pedLGG\" = \"#8763ae\",\n",
    "            \"NFB\" = \"#cab2d6\",\n",
    "            \"CPH\" = \"#cccc7a\",\n",
    "            \"CP\" = \"#a9a9a9\",\n",
    "            \n",
    "            \"NBL\" = \"#b2df8a\",\n",
    "            \n",
    "            \"SKCM\" = \"#7c9c60\", #Adult\n",
    "            \"LGG\" = \"#753a00\",\n",
    "            \"GBM\" = \"#6a3d9a\",\n",
    "            \"OV\" = \"#afaf78\",\n",
    "            \"PRAD\" = \"#a85426\",\n",
    "            \"LUAD\" = \"#ad3837\",\n",
    "            \"COAD\" = \"#726579\")\n",
    "\n",
    "    cohort_hm = Heatmap(cohorts_mat,\n",
    "                        #titles and names\n",
    "                        name = \"Cohort\",\n",
    "                        show_row_names = TRUE,\n",
    "                        show_column_names = FALSE,    \n",
    "                        #clusters\n",
    "                        cluster_columns = FALSE,\n",
    "                        cluster_rows = FALSE,\n",
    "                        #aesthestics\n",
    "                        col = colpal,\n",
    "                        column_names_gp = gpar(fontsize = 15),\n",
    "                        height = unit(1, \"cm\"),\n",
    "                        row_names_gp = gpar(fontsize = 20))\n",
    "    return(cohort_hm)   \n",
    "}"
   ]
  },
  {
   "cell_type": "markdown",
   "metadata": {},
   "source": [
    "# Paths"
   ]
  },
  {
   "cell_type": "code",
   "execution_count": 6,
   "metadata": {},
   "outputs": [],
   "source": [
    "datapath <- \"/Users/anabbi/OneDrive - UHN/Documents/IPD2/Data/\"\n",
    "plotpath <- \"/Users/anabbi/OneDrive - UHN/Documents/IPD2/Plots/\""
   ]
  },
  {
   "cell_type": "markdown",
   "metadata": {},
   "source": [
    "# Main"
   ]
  },
  {
   "cell_type": "code",
   "execution_count": 7,
   "metadata": {},
   "outputs": [],
   "source": [
    "load(file.path(datapath,\"TME_clusters/IPD_estimate_metadata_IC.RData\"))"
   ]
  },
  {
   "cell_type": "markdown",
   "metadata": {},
   "source": [
    "# Heatmap"
   ]
  },
  {
   "cell_type": "code",
   "execution_count": 8,
   "metadata": {},
   "outputs": [],
   "source": [
    "load(paste0(datapath,\"exp_mat/tpm_matrix_ped_final.RData\"))"
   ]
  },
  {
   "cell_type": "code",
   "execution_count": 9,
   "metadata": {},
   "outputs": [
    {
     "data": {
      "text/html": [
       "<style>\n",
       ".list-inline {list-style: none; margin:0; padding: 0}\n",
       ".list-inline>li {display: inline-block}\n",
       ".list-inline>li:not(:last-child)::after {content: \"\\00b7\"; padding: 0 .5ex}\n",
       "</style>\n",
       "<ol class=list-inline><li>20105</li><li>925</li></ol>\n"
      ],
      "text/latex": [
       "\\begin{enumerate*}\n",
       "\\item 20105\n",
       "\\item 925\n",
       "\\end{enumerate*}\n"
      ],
      "text/markdown": [
       "1. 20105\n",
       "2. 925\n",
       "\n",
       "\n"
      ],
      "text/plain": [
       "[1] 20105   925"
      ]
     },
     "metadata": {},
     "output_type": "display_data"
    }
   ],
   "source": [
    "dim(tpm_matrix_ped_final)"
   ]
  },
  {
   "cell_type": "code",
   "execution_count": 10,
   "metadata": {},
   "outputs": [],
   "source": [
    "immunoreg <- read.csv(file = paste0(datapath, \"Geneset/Riaz_Immunoreg_geneset.csv\"), \n",
    "                      header = T, stringsAsFactors = F, check.names = F)"
   ]
  },
  {
   "cell_type": "code",
   "execution_count": 11,
   "metadata": {},
   "outputs": [],
   "source": [
    "reg_genes <- trimws(immunoreg$Gene)"
   ]
  },
  {
   "cell_type": "code",
   "execution_count": 12,
   "metadata": {},
   "outputs": [
    {
     "data": {
      "text/html": [
       "<style>\n",
       ".list-inline {list-style: none; margin:0; padding: 0}\n",
       ".list-inline>li {display: inline-block}\n",
       ".list-inline>li:not(:last-child)::after {content: \"\\00b7\"; padding: 0 .5ex}\n",
       "</style>\n",
       "<ol class=list-inline><li>'TNFRSF9'</li><li>'IDO1'</li><li>'TDO2'</li><li>'FASLG'</li><li>'KLRC2'</li><li>'IL6'</li><li>'CXCL8'</li><li>'IL23A'</li><li>'STAT3'</li><li>'FGF2'</li><li>'CXCL1'</li><li>'IL1RN'</li><li>'IL10'</li><li>'IL11'</li><li>'IL13'</li><li>'TGFB1'</li><li>'TGFB2'</li><li>'TGFB3'</li><li>'YAP1'</li><li>'CXCL5'</li><li>'PRKCI'</li><li>'PDCD1'</li><li>'CD274'</li><li>'CTLA4'</li><li>'CEACAM1'</li><li>'CD47'</li><li>'LAG3'</li><li>'TIGIT'</li><li>'PDCD1LG2'</li><li>'CD276'</li><li>'IL4I1'</li><li>'VEGFA'</li><li>'VEGFC'</li><li>'VEGFD'</li><li>'FOXP3'</li><li>'ADORA2A'</li><li>'ARHGEF5'</li><li>'BTLA'</li><li>'CD160'</li><li>'CD244'</li><li>'CD27'</li><li>'CD80'</li><li>'GEM'</li><li>'HAVCR2'</li><li>'ICOS'</li><li>'TNFSF4'</li><li>'VTCN1'</li><li>'CSF2'</li><li>'LGALS3'</li><li>'CCL2'</li><li>'PTGES2'</li><li>'ARG1'</li><li>'PDGFC'</li><li>'TNFRSF4'</li><li>'SIRPA'</li><li>'HMGB1'</li><li>'MRC2'</li><li>'VSIR'</li><li>'ENTPD1'</li></ol>\n"
      ],
      "text/latex": [
       "\\begin{enumerate*}\n",
       "\\item 'TNFRSF9'\n",
       "\\item 'IDO1'\n",
       "\\item 'TDO2'\n",
       "\\item 'FASLG'\n",
       "\\item 'KLRC2'\n",
       "\\item 'IL6'\n",
       "\\item 'CXCL8'\n",
       "\\item 'IL23A'\n",
       "\\item 'STAT3'\n",
       "\\item 'FGF2'\n",
       "\\item 'CXCL1'\n",
       "\\item 'IL1RN'\n",
       "\\item 'IL10'\n",
       "\\item 'IL11'\n",
       "\\item 'IL13'\n",
       "\\item 'TGFB1'\n",
       "\\item 'TGFB2'\n",
       "\\item 'TGFB3'\n",
       "\\item 'YAP1'\n",
       "\\item 'CXCL5'\n",
       "\\item 'PRKCI'\n",
       "\\item 'PDCD1'\n",
       "\\item 'CD274'\n",
       "\\item 'CTLA4'\n",
       "\\item 'CEACAM1'\n",
       "\\item 'CD47'\n",
       "\\item 'LAG3'\n",
       "\\item 'TIGIT'\n",
       "\\item 'PDCD1LG2'\n",
       "\\item 'CD276'\n",
       "\\item 'IL4I1'\n",
       "\\item 'VEGFA'\n",
       "\\item 'VEGFC'\n",
       "\\item 'VEGFD'\n",
       "\\item 'FOXP3'\n",
       "\\item 'ADORA2A'\n",
       "\\item 'ARHGEF5'\n",
       "\\item 'BTLA'\n",
       "\\item 'CD160'\n",
       "\\item 'CD244'\n",
       "\\item 'CD27'\n",
       "\\item 'CD80'\n",
       "\\item 'GEM'\n",
       "\\item 'HAVCR2'\n",
       "\\item 'ICOS'\n",
       "\\item 'TNFSF4'\n",
       "\\item 'VTCN1'\n",
       "\\item 'CSF2'\n",
       "\\item 'LGALS3'\n",
       "\\item 'CCL2'\n",
       "\\item 'PTGES2'\n",
       "\\item 'ARG1'\n",
       "\\item 'PDGFC'\n",
       "\\item 'TNFRSF4'\n",
       "\\item 'SIRPA'\n",
       "\\item 'HMGB1'\n",
       "\\item 'MRC2'\n",
       "\\item 'VSIR'\n",
       "\\item 'ENTPD1'\n",
       "\\end{enumerate*}\n"
      ],
      "text/markdown": [
       "1. 'TNFRSF9'\n",
       "2. 'IDO1'\n",
       "3. 'TDO2'\n",
       "4. 'FASLG'\n",
       "5. 'KLRC2'\n",
       "6. 'IL6'\n",
       "7. 'CXCL8'\n",
       "8. 'IL23A'\n",
       "9. 'STAT3'\n",
       "10. 'FGF2'\n",
       "11. 'CXCL1'\n",
       "12. 'IL1RN'\n",
       "13. 'IL10'\n",
       "14. 'IL11'\n",
       "15. 'IL13'\n",
       "16. 'TGFB1'\n",
       "17. 'TGFB2'\n",
       "18. 'TGFB3'\n",
       "19. 'YAP1'\n",
       "20. 'CXCL5'\n",
       "21. 'PRKCI'\n",
       "22. 'PDCD1'\n",
       "23. 'CD274'\n",
       "24. 'CTLA4'\n",
       "25. 'CEACAM1'\n",
       "26. 'CD47'\n",
       "27. 'LAG3'\n",
       "28. 'TIGIT'\n",
       "29. 'PDCD1LG2'\n",
       "30. 'CD276'\n",
       "31. 'IL4I1'\n",
       "32. 'VEGFA'\n",
       "33. 'VEGFC'\n",
       "34. 'VEGFD'\n",
       "35. 'FOXP3'\n",
       "36. 'ADORA2A'\n",
       "37. 'ARHGEF5'\n",
       "38. 'BTLA'\n",
       "39. 'CD160'\n",
       "40. 'CD244'\n",
       "41. 'CD27'\n",
       "42. 'CD80'\n",
       "43. 'GEM'\n",
       "44. 'HAVCR2'\n",
       "45. 'ICOS'\n",
       "46. 'TNFSF4'\n",
       "47. 'VTCN1'\n",
       "48. 'CSF2'\n",
       "49. 'LGALS3'\n",
       "50. 'CCL2'\n",
       "51. 'PTGES2'\n",
       "52. 'ARG1'\n",
       "53. 'PDGFC'\n",
       "54. 'TNFRSF4'\n",
       "55. 'SIRPA'\n",
       "56. 'HMGB1'\n",
       "57. 'MRC2'\n",
       "58. 'VSIR'\n",
       "59. 'ENTPD1'\n",
       "\n",
       "\n"
      ],
      "text/plain": [
       " [1] \"TNFRSF9\"  \"IDO1\"     \"TDO2\"     \"FASLG\"    \"KLRC2\"    \"IL6\"     \n",
       " [7] \"CXCL8\"    \"IL23A\"    \"STAT3\"    \"FGF2\"     \"CXCL1\"    \"IL1RN\"   \n",
       "[13] \"IL10\"     \"IL11\"     \"IL13\"     \"TGFB1\"    \"TGFB2\"    \"TGFB3\"   \n",
       "[19] \"YAP1\"     \"CXCL5\"    \"PRKCI\"    \"PDCD1\"    \"CD274\"    \"CTLA4\"   \n",
       "[25] \"CEACAM1\"  \"CD47\"     \"LAG3\"     \"TIGIT\"    \"PDCD1LG2\" \"CD276\"   \n",
       "[31] \"IL4I1\"    \"VEGFA\"    \"VEGFC\"    \"VEGFD\"    \"FOXP3\"    \"ADORA2A\" \n",
       "[37] \"ARHGEF5\"  \"BTLA\"     \"CD160\"    \"CD244\"    \"CD27\"     \"CD80\"    \n",
       "[43] \"GEM\"      \"HAVCR2\"   \"ICOS\"     \"TNFSF4\"   \"VTCN1\"    \"CSF2\"    \n",
       "[49] \"LGALS3\"   \"CCL2\"     \"PTGES2\"   \"ARG1\"     \"PDGFC\"    \"TNFRSF4\" \n",
       "[55] \"SIRPA\"    \"HMGB1\"    \"MRC2\"     \"VSIR\"     \"ENTPD1\"  "
      ]
     },
     "metadata": {},
     "output_type": "display_data"
    }
   ],
   "source": [
    "reg_genes"
   ]
  },
  {
   "cell_type": "code",
   "execution_count": 13,
   "metadata": {},
   "outputs": [],
   "source": [
    "mycluster <- as.character(metadata_IC$immune_cluster)\n",
    "names(mycluster) <- rownames(metadata_IC)\n",
    "cluster_hm <- class_hm.fx(mycluster)"
   ]
  },
  {
   "cell_type": "code",
   "execution_count": 14,
   "metadata": {},
   "outputs": [],
   "source": [
    "mycohort <- metadata_IC$cohort\n",
    "names(mycohort) <- metadata_IC$sample_id\n",
    "mycohorts <- t(as.matrix(mycohort))\n",
    "rownames(mycohorts) <- \"Cohort\"\n",
    "cohorts_hm <- cohorts_hm.fx(mycohorts)"
   ]
  },
  {
   "cell_type": "code",
   "execution_count": 16,
   "metadata": {},
   "outputs": [
    {
     "data": {
      "text/html": [],
      "text/latex": [],
      "text/markdown": [],
      "text/plain": [
       "character(0)"
      ]
     },
     "metadata": {},
     "output_type": "display_data"
    }
   ],
   "source": [
    "reg_genes[!reg_genes %in% rownames(tpm_matrix_ped_final)]"
   ]
  },
  {
   "cell_type": "code",
   "execution_count": 17,
   "metadata": {},
   "outputs": [],
   "source": [
    "reg_genes <- reg_genes[reg_genes %in% rownames(tpm_matrix_ped_final)]"
   ]
  },
  {
   "cell_type": "code",
   "execution_count": 18,
   "metadata": {},
   "outputs": [
    {
     "data": {
      "text/html": [
       "<style>\n",
       ".list-inline {list-style: none; margin:0; padding: 0}\n",
       ".list-inline>li {display: inline-block}\n",
       ".list-inline>li:not(:last-child)::after {content: \"\\00b7\"; padding: 0 .5ex}\n",
       "</style>\n",
       "<ol class=list-inline><li>59</li><li>925</li></ol>\n"
      ],
      "text/latex": [
       "\\begin{enumerate*}\n",
       "\\item 59\n",
       "\\item 925\n",
       "\\end{enumerate*}\n"
      ],
      "text/markdown": [
       "1. 59\n",
       "2. 925\n",
       "\n",
       "\n"
      ],
      "text/plain": [
       "[1]  59 925"
      ]
     },
     "metadata": {},
     "output_type": "display_data"
    }
   ],
   "source": [
    "mygen_mat <- tpm_matrix_ped_final[ reg_genes, metadata_IC$sample_id]\n",
    "dim(mygen_mat)"
   ]
  },
  {
   "cell_type": "code",
   "execution_count": 19,
   "metadata": {},
   "outputs": [],
   "source": [
    "mygen_mat_log <- log2(mygen_mat + 1)"
   ]
  },
  {
   "cell_type": "code",
   "execution_count": 21,
   "metadata": {},
   "outputs": [
    {
     "data": {
      "text/html": [
       "<table class=\"dataframe\">\n",
       "<caption>A data.frame: 6 × 925</caption>\n",
       "<thead>\n",
       "\t<tr><th></th><th scope=col>TARGET-30-PAIFXV-01A</th><th scope=col>TARGET-30-PAIPGU-01A</th><th scope=col>TARGET-30-PAISNS-01A</th><th scope=col>TARGET-30-PAITCI-01A</th><th scope=col>TARGET-30-PAIVHE-01A</th><th scope=col>TARGET-30-PAIXIF-01A</th><th scope=col>TARGET-30-PAKYZS-01A</th><th scope=col>TARGET-30-PAKZRH-01A</th><th scope=col>TARGET-30-PALBFW-01A</th><th scope=col>TARGET-30-PALCBW-01A</th><th scope=col>⋯</th><th scope=col>ICGC_PA89</th><th scope=col>ICGC_PA9</th><th scope=col>ICGC_PA91</th><th scope=col>ICGC_PA92</th><th scope=col>ICGC_PA93</th><th scope=col>ICGC_PA94</th><th scope=col>ICGC_PA95</th><th scope=col>ICGC_PA96</th><th scope=col>ICGC_PA97</th><th scope=col>ICGC_PA99</th></tr>\n",
       "\t<tr><th></th><th scope=col>&lt;dbl&gt;</th><th scope=col>&lt;dbl&gt;</th><th scope=col>&lt;dbl&gt;</th><th scope=col>&lt;dbl&gt;</th><th scope=col>&lt;dbl&gt;</th><th scope=col>&lt;dbl&gt;</th><th scope=col>&lt;dbl&gt;</th><th scope=col>&lt;dbl&gt;</th><th scope=col>&lt;dbl&gt;</th><th scope=col>&lt;dbl&gt;</th><th scope=col>⋯</th><th scope=col>&lt;dbl&gt;</th><th scope=col>&lt;dbl&gt;</th><th scope=col>&lt;dbl&gt;</th><th scope=col>&lt;dbl&gt;</th><th scope=col>&lt;dbl&gt;</th><th scope=col>&lt;dbl&gt;</th><th scope=col>&lt;dbl&gt;</th><th scope=col>&lt;dbl&gt;</th><th scope=col>&lt;dbl&gt;</th><th scope=col>&lt;dbl&gt;</th></tr>\n",
       "</thead>\n",
       "<tbody>\n",
       "\t<tr><th scope=row>TNFRSF9</th><td>1.2203300</td><td>1.4905701</td><td>0.22650853</td><td>0.43295941</td><td>0.7048720</td><td>0.5058909</td><td>3.16832112</td><td>0.07038933</td><td>0.7990873</td><td>0.9781956</td><td>⋯</td><td>0.13750352</td><td>0.27500705</td><td>0.04264434</td><td>0.02856915</td><td>0.16349873</td><td>0.0000000</td><td>0.07038933</td><td>0.27500705</td><td>0.33342373</td><td>0.07038933</td></tr>\n",
       "\t<tr><th scope=row>IDO1</th><td>2.5509007</td><td>2.2357271</td><td>0.94860085</td><td>0.77399633</td><td>1.5655972</td><td>2.3868109</td><td>0.21412481</td><td>1.20163386</td><td>1.4698860</td><td>2.1699250</td><td>⋯</td><td>0.00000000</td><td>0.12432814</td><td>0.22650853</td><td>0.00000000</td><td>0.15055968</td><td>0.0000000</td><td>0.15055968</td><td>0.01435529</td><td>0.09761080</td><td>0.12432814</td></tr>\n",
       "\t<tr><th scope=row>TDO2</th><td>1.1634987</td><td>3.7949357</td><td>0.61353165</td><td>2.28392177</td><td>2.6016965</td><td>1.7865964</td><td>1.74416110</td><td>1.32768736</td><td>1.2750070</td><td>1.1634987</td><td>⋯</td><td>0.22650853</td><td>0.15055968</td><td>0.04264434</td><td>0.55581616</td><td>0.18903382</td><td>0.0000000</td><td>0.71369581</td><td>0.07038933</td><td>0.15055968</td><td>1.12432814</td></tr>\n",
       "\t<tr><th scope=row>FASLG</th><td>0.1375035</td><td>0.5849625</td><td>0.02856915</td><td>0.07038933</td><td>0.4541759</td><td>0.1505597</td><td>0.07038933</td><td>0.05658353</td><td>0.3448285</td><td>0.3448285</td><td>⋯</td><td>0.01435529</td><td>0.04264434</td><td>0.01435529</td><td>0.01435529</td><td>0.08406426</td><td>0.0000000</td><td>0.11103131</td><td>0.02856915</td><td>0.01435529</td><td>0.00000000</td></tr>\n",
       "\t<tr><th scope=row>KLRC2</th><td>1.2078929</td><td>0.2387869</td><td>0.32192809</td><td>0.46466827</td><td>0.3448285</td><td>0.4114262</td><td>0.45417589</td><td>0.08406426</td><td>0.9927684</td><td>0.5945485</td><td>⋯</td><td>2.68929916</td><td>1.65535183</td><td>2.17312743</td><td>3.40053793</td><td>1.76553475</td><td>3.0635029</td><td>2.23878686</td><td>2.67807191</td><td>4.06781078</td><td>3.36737107</td></tr>\n",
       "\t<tr><th scope=row>IL6</th><td>5.5604093</td><td>1.1309309</td><td>1.57531233</td><td>4.19770816</td><td>4.7527486</td><td>6.5248159</td><td>4.39574833</td><td>1.26303441</td><td>3.7886857</td><td>2.0942361</td><td>⋯</td><td>0.16349873</td><td>0.67807191</td><td>0.36737107</td><td>0.18903382</td><td>0.27500705</td><td>0.1375035</td><td>0.26303441</td><td>0.27500705</td><td>0.41142625</td><td>0.00000000</td></tr>\n",
       "</tbody>\n",
       "</table>\n"
      ],
      "text/latex": [
       "A data.frame: 6 × 925\n",
       "\\begin{tabular}{r|lllllllllllllllllllll}\n",
       "  & TARGET-30-PAIFXV-01A & TARGET-30-PAIPGU-01A & TARGET-30-PAISNS-01A & TARGET-30-PAITCI-01A & TARGET-30-PAIVHE-01A & TARGET-30-PAIXIF-01A & TARGET-30-PAKYZS-01A & TARGET-30-PAKZRH-01A & TARGET-30-PALBFW-01A & TARGET-30-PALCBW-01A & ⋯ & ICGC\\_PA89 & ICGC\\_PA9 & ICGC\\_PA91 & ICGC\\_PA92 & ICGC\\_PA93 & ICGC\\_PA94 & ICGC\\_PA95 & ICGC\\_PA96 & ICGC\\_PA97 & ICGC\\_PA99\\\\\n",
       "  & <dbl> & <dbl> & <dbl> & <dbl> & <dbl> & <dbl> & <dbl> & <dbl> & <dbl> & <dbl> & ⋯ & <dbl> & <dbl> & <dbl> & <dbl> & <dbl> & <dbl> & <dbl> & <dbl> & <dbl> & <dbl>\\\\\n",
       "\\hline\n",
       "\tTNFRSF9 & 1.2203300 & 1.4905701 & 0.22650853 & 0.43295941 & 0.7048720 & 0.5058909 & 3.16832112 & 0.07038933 & 0.7990873 & 0.9781956 & ⋯ & 0.13750352 & 0.27500705 & 0.04264434 & 0.02856915 & 0.16349873 & 0.0000000 & 0.07038933 & 0.27500705 & 0.33342373 & 0.07038933\\\\\n",
       "\tIDO1 & 2.5509007 & 2.2357271 & 0.94860085 & 0.77399633 & 1.5655972 & 2.3868109 & 0.21412481 & 1.20163386 & 1.4698860 & 2.1699250 & ⋯ & 0.00000000 & 0.12432814 & 0.22650853 & 0.00000000 & 0.15055968 & 0.0000000 & 0.15055968 & 0.01435529 & 0.09761080 & 0.12432814\\\\\n",
       "\tTDO2 & 1.1634987 & 3.7949357 & 0.61353165 & 2.28392177 & 2.6016965 & 1.7865964 & 1.74416110 & 1.32768736 & 1.2750070 & 1.1634987 & ⋯ & 0.22650853 & 0.15055968 & 0.04264434 & 0.55581616 & 0.18903382 & 0.0000000 & 0.71369581 & 0.07038933 & 0.15055968 & 1.12432814\\\\\n",
       "\tFASLG & 0.1375035 & 0.5849625 & 0.02856915 & 0.07038933 & 0.4541759 & 0.1505597 & 0.07038933 & 0.05658353 & 0.3448285 & 0.3448285 & ⋯ & 0.01435529 & 0.04264434 & 0.01435529 & 0.01435529 & 0.08406426 & 0.0000000 & 0.11103131 & 0.02856915 & 0.01435529 & 0.00000000\\\\\n",
       "\tKLRC2 & 1.2078929 & 0.2387869 & 0.32192809 & 0.46466827 & 0.3448285 & 0.4114262 & 0.45417589 & 0.08406426 & 0.9927684 & 0.5945485 & ⋯ & 2.68929916 & 1.65535183 & 2.17312743 & 3.40053793 & 1.76553475 & 3.0635029 & 2.23878686 & 2.67807191 & 4.06781078 & 3.36737107\\\\\n",
       "\tIL6 & 5.5604093 & 1.1309309 & 1.57531233 & 4.19770816 & 4.7527486 & 6.5248159 & 4.39574833 & 1.26303441 & 3.7886857 & 2.0942361 & ⋯ & 0.16349873 & 0.67807191 & 0.36737107 & 0.18903382 & 0.27500705 & 0.1375035 & 0.26303441 & 0.27500705 & 0.41142625 & 0.00000000\\\\\n",
       "\\end{tabular}\n"
      ],
      "text/markdown": [
       "\n",
       "A data.frame: 6 × 925\n",
       "\n",
       "| <!--/--> | TARGET-30-PAIFXV-01A &lt;dbl&gt; | TARGET-30-PAIPGU-01A &lt;dbl&gt; | TARGET-30-PAISNS-01A &lt;dbl&gt; | TARGET-30-PAITCI-01A &lt;dbl&gt; | TARGET-30-PAIVHE-01A &lt;dbl&gt; | TARGET-30-PAIXIF-01A &lt;dbl&gt; | TARGET-30-PAKYZS-01A &lt;dbl&gt; | TARGET-30-PAKZRH-01A &lt;dbl&gt; | TARGET-30-PALBFW-01A &lt;dbl&gt; | TARGET-30-PALCBW-01A &lt;dbl&gt; | ⋯ ⋯ | ICGC_PA89 &lt;dbl&gt; | ICGC_PA9 &lt;dbl&gt; | ICGC_PA91 &lt;dbl&gt; | ICGC_PA92 &lt;dbl&gt; | ICGC_PA93 &lt;dbl&gt; | ICGC_PA94 &lt;dbl&gt; | ICGC_PA95 &lt;dbl&gt; | ICGC_PA96 &lt;dbl&gt; | ICGC_PA97 &lt;dbl&gt; | ICGC_PA99 &lt;dbl&gt; |\n",
       "|---|---|---|---|---|---|---|---|---|---|---|---|---|---|---|---|---|---|---|---|---|---|\n",
       "| TNFRSF9 | 1.2203300 | 1.4905701 | 0.22650853 | 0.43295941 | 0.7048720 | 0.5058909 | 3.16832112 | 0.07038933 | 0.7990873 | 0.9781956 | ⋯ | 0.13750352 | 0.27500705 | 0.04264434 | 0.02856915 | 0.16349873 | 0.0000000 | 0.07038933 | 0.27500705 | 0.33342373 | 0.07038933 |\n",
       "| IDO1 | 2.5509007 | 2.2357271 | 0.94860085 | 0.77399633 | 1.5655972 | 2.3868109 | 0.21412481 | 1.20163386 | 1.4698860 | 2.1699250 | ⋯ | 0.00000000 | 0.12432814 | 0.22650853 | 0.00000000 | 0.15055968 | 0.0000000 | 0.15055968 | 0.01435529 | 0.09761080 | 0.12432814 |\n",
       "| TDO2 | 1.1634987 | 3.7949357 | 0.61353165 | 2.28392177 | 2.6016965 | 1.7865964 | 1.74416110 | 1.32768736 | 1.2750070 | 1.1634987 | ⋯ | 0.22650853 | 0.15055968 | 0.04264434 | 0.55581616 | 0.18903382 | 0.0000000 | 0.71369581 | 0.07038933 | 0.15055968 | 1.12432814 |\n",
       "| FASLG | 0.1375035 | 0.5849625 | 0.02856915 | 0.07038933 | 0.4541759 | 0.1505597 | 0.07038933 | 0.05658353 | 0.3448285 | 0.3448285 | ⋯ | 0.01435529 | 0.04264434 | 0.01435529 | 0.01435529 | 0.08406426 | 0.0000000 | 0.11103131 | 0.02856915 | 0.01435529 | 0.00000000 |\n",
       "| KLRC2 | 1.2078929 | 0.2387869 | 0.32192809 | 0.46466827 | 0.3448285 | 0.4114262 | 0.45417589 | 0.08406426 | 0.9927684 | 0.5945485 | ⋯ | 2.68929916 | 1.65535183 | 2.17312743 | 3.40053793 | 1.76553475 | 3.0635029 | 2.23878686 | 2.67807191 | 4.06781078 | 3.36737107 |\n",
       "| IL6 | 5.5604093 | 1.1309309 | 1.57531233 | 4.19770816 | 4.7527486 | 6.5248159 | 4.39574833 | 1.26303441 | 3.7886857 | 2.0942361 | ⋯ | 0.16349873 | 0.67807191 | 0.36737107 | 0.18903382 | 0.27500705 | 0.1375035 | 0.26303441 | 0.27500705 | 0.41142625 | 0.00000000 |\n",
       "\n"
      ],
      "text/plain": [
       "        TARGET-30-PAIFXV-01A TARGET-30-PAIPGU-01A TARGET-30-PAISNS-01A\n",
       "TNFRSF9 1.2203300            1.4905701            0.22650853          \n",
       "IDO1    2.5509007            2.2357271            0.94860085          \n",
       "TDO2    1.1634987            3.7949357            0.61353165          \n",
       "FASLG   0.1375035            0.5849625            0.02856915          \n",
       "KLRC2   1.2078929            0.2387869            0.32192809          \n",
       "IL6     5.5604093            1.1309309            1.57531233          \n",
       "        TARGET-30-PAITCI-01A TARGET-30-PAIVHE-01A TARGET-30-PAIXIF-01A\n",
       "TNFRSF9 0.43295941           0.7048720            0.5058909           \n",
       "IDO1    0.77399633           1.5655972            2.3868109           \n",
       "TDO2    2.28392177           2.6016965            1.7865964           \n",
       "FASLG   0.07038933           0.4541759            0.1505597           \n",
       "KLRC2   0.46466827           0.3448285            0.4114262           \n",
       "IL6     4.19770816           4.7527486            6.5248159           \n",
       "        TARGET-30-PAKYZS-01A TARGET-30-PAKZRH-01A TARGET-30-PALBFW-01A\n",
       "TNFRSF9 3.16832112           0.07038933           0.7990873           \n",
       "IDO1    0.21412481           1.20163386           1.4698860           \n",
       "TDO2    1.74416110           1.32768736           1.2750070           \n",
       "FASLG   0.07038933           0.05658353           0.3448285           \n",
       "KLRC2   0.45417589           0.08406426           0.9927684           \n",
       "IL6     4.39574833           1.26303441           3.7886857           \n",
       "        TARGET-30-PALCBW-01A ⋯ ICGC_PA89  ICGC_PA9   ICGC_PA91  ICGC_PA92 \n",
       "TNFRSF9 0.9781956            ⋯ 0.13750352 0.27500705 0.04264434 0.02856915\n",
       "IDO1    2.1699250            ⋯ 0.00000000 0.12432814 0.22650853 0.00000000\n",
       "TDO2    1.1634987            ⋯ 0.22650853 0.15055968 0.04264434 0.55581616\n",
       "FASLG   0.3448285            ⋯ 0.01435529 0.04264434 0.01435529 0.01435529\n",
       "KLRC2   0.5945485            ⋯ 2.68929916 1.65535183 2.17312743 3.40053793\n",
       "IL6     2.0942361            ⋯ 0.16349873 0.67807191 0.36737107 0.18903382\n",
       "        ICGC_PA93  ICGC_PA94 ICGC_PA95  ICGC_PA96  ICGC_PA97  ICGC_PA99 \n",
       "TNFRSF9 0.16349873 0.0000000 0.07038933 0.27500705 0.33342373 0.07038933\n",
       "IDO1    0.15055968 0.0000000 0.15055968 0.01435529 0.09761080 0.12432814\n",
       "TDO2    0.18903382 0.0000000 0.71369581 0.07038933 0.15055968 1.12432814\n",
       "FASLG   0.08406426 0.0000000 0.11103131 0.02856915 0.01435529 0.00000000\n",
       "KLRC2   1.76553475 3.0635029 2.23878686 2.67807191 4.06781078 3.36737107\n",
       "IL6     0.27500705 0.1375035 0.26303441 0.27500705 0.41142625 0.00000000"
      ]
     },
     "metadata": {},
     "output_type": "display_data"
    }
   ],
   "source": [
    "head(mygen_mat_log)"
   ]
  },
  {
   "cell_type": "code",
   "execution_count": 22,
   "metadata": {},
   "outputs": [],
   "source": [
    "mygen_mat_z <- t(scale(t(mygen_mat_log)))"
   ]
  },
  {
   "cell_type": "code",
   "execution_count": 23,
   "metadata": {},
   "outputs": [
    {
     "name": "stderr",
     "output_type": "stream",
     "text": [
      "The automatically generated colors map from the minus and plus 99^th of\n",
      "the absolute values in the matrix. There are outliers in the matrix\n",
      "whose patterns might be hidden by this color mapping. You can manually\n",
      "set the color to `col` argument.\n",
      "\n",
      "Use `suppressMessages()` to turn off this message.\n",
      "\n"
     ]
    }
   ],
   "source": [
    "gene_hm <- gene_hm.fx(mygen_mat_z)"
   ]
  },
  {
   "cell_type": "code",
   "execution_count": 24,
   "metadata": {},
   "outputs": [
    {
     "data": {
      "image/png": "[encoded data removed]",
      "text/plain": [
       "plot without title"
      ]
     },
     "metadata": {
      "image/png": {
       "height": 420,
       "width": 420
      }
     },
     "output_type": "display_data"
    }
   ],
   "source": [
    "gene_hm %v% cluster_hm %v% cohorts_hm"
   ]
  },
  {
   "cell_type": "code",
   "execution_count": 25,
   "metadata": {},
   "outputs": [
    {
     "data": {
      "text/html": [
       "<strong>pdf:</strong> 2"
      ],
      "text/latex": [
       "\\textbf{pdf:} 2"
      ],
      "text/markdown": [
       "**pdf:** 2"
      ],
      "text/plain": [
       "pdf \n",
       "  2 "
      ]
     },
     "metadata": {},
     "output_type": "display_data"
    }
   ],
   "source": [
    "pdf(paste0(plotpath, \"heatmap_immunoregulatory_genes.pdf\"),\n",
    "   width = 20, height = 40)\n",
    "gene_hm %v% cluster_hm %v% cohorts_hm\n",
    "dev.off()"
   ]
  },
  {
   "cell_type": "markdown",
   "metadata": {},
   "source": [
    "Get median of log2 gene expression for each immune cluster"
   ]
  },
  {
   "cell_type": "code",
   "execution_count": 27,
   "metadata": {},
   "outputs": [],
   "source": [
    "median_mat <- matrix(nrow = 59, ncol = 4,\n",
    "                    dimnames = list(rownames(mygen_mat_log), c(\"C1\", \"C2\", \"C3\", \"C4\")))"
   ]
  },
  {
   "cell_type": "code",
   "execution_count": 28,
   "metadata": {},
   "outputs": [],
   "source": [
    "for( g in rownames(mygen_mat_log)){\n",
    "    median_mat[g,1] <- median(mygen_mat_z[g,metadata_IC$sample_id[metadata_IC$immune_cluster == \"C1\"]])\n",
    "    median_mat[g,2] <- median(mygen_mat_z[g, metadata_IC$sample_id[metadata_IC$immune_cluster == \"C2\"]])    \n",
    "    median_mat[g,3] <- median(mygen_mat_z[g, metadata_IC$sample_id[metadata_IC$immune_cluster == \"C3\"]])\n",
    "    median_mat[g,4] <- median(mygen_mat_z[g, metadata_IC$sample_id[metadata_IC$immune_cluster == \"C4\"]])\n",
    "}"
   ]
  },
  {
   "cell_type": "code",
   "execution_count": 34,
   "metadata": {},
   "outputs": [],
   "source": [
    "   # col_fun= colorRamp2(c(-1, 0, 1), c(\"blue\", \"white\", \"red\"))\n",
    "    \n",
    "    median_gene_hm = Heatmap(t(median_mat),\n",
    "                       #titles and names   \n",
    "                       name = \"Median z score gene expression\",   \n",
    "                       show_row_names = TRUE,\n",
    "                       show_column_names = TRUE,     \n",
    "                       #clusters and orders  \n",
    "                       cluster_columns = TRUE,\n",
    "                       cluster_rows = TRUE,\n",
    "                       show_column_dend = TRUE,\n",
    "                       show_row_dend = TRUE,                      \n",
    "                       #row_dend_width = unit(8, \"cm\"),\n",
    "                       #aesthestics\n",
    "                 #      col = col_fun,\n",
    "                       column_names_gp = gpar(fontsize = 20),\n",
    "                       row_names_gp = gpar(fontsize = 15),\n",
    "                       width = unit(nrow(median_mat)/2, \"cm\"),\n",
    "                       height = unit(ncol(median_mat), \"cm\"),\n",
    "                       column_title_gp = gpar(fontsize = 20),\n",
    "                       column_title = NULL,\n",
    "                       row_title = NULL)"
   ]
  },
  {
   "cell_type": "code",
   "execution_count": 35,
   "metadata": {},
   "outputs": [
    {
     "data": {
      "image/png": "[encoded data removed]",
      "text/plain": [
       "plot without title"
      ]
     },
     "metadata": {
      "image/png": {
       "height": 420,
       "width": 420
      }
     },
     "output_type": "display_data"
    }
   ],
   "source": [
    "median_gene_hm"
   ]
  },
  {
   "cell_type": "code",
   "execution_count": 36,
   "metadata": {},
   "outputs": [
    {
     "data": {
      "text/html": [
       "<strong>pdf:</strong> 2"
      ],
      "text/latex": [
       "\\textbf{pdf:} 2"
      ],
      "text/markdown": [
       "**pdf:** 2"
      ],
      "text/plain": [
       "pdf \n",
       "  2 "
      ]
     },
     "metadata": {},
     "output_type": "display_data"
    }
   ],
   "source": [
    "pdf(paste0(plotpath, \"heatmap_median_immunoregulatory_genes_IC.pdf\"),\n",
    "   width = 20, height = 40)\n",
    "median_gene_hm\n",
    "dev.off()"
   ]
  },
  {
   "cell_type": "code",
   "execution_count": null,
   "metadata": {},
   "outputs": [],
   "source": []
  },
  {
   "cell_type": "code",
   "execution_count": null,
   "metadata": {},
   "outputs": [],
   "source": []
  },
  {
   "cell_type": "markdown",
   "metadata": {},
   "source": [
    "# Deprecated"
   ]
  },
  {
   "cell_type": "code",
   "execution_count": null,
   "metadata": {},
   "outputs": [],
   "source": []
  },
  {
   "cell_type": "markdown",
   "metadata": {},
   "source": [
    "# Enrichment analysis with MSigDB"
   ]
  },
  {
   "cell_type": "code",
   "execution_count": null,
   "metadata": {},
   "outputs": [],
   "source": [
    "library(fgsea)"
   ]
  },
  {
   "cell_type": "code",
   "execution_count": null,
   "metadata": {},
   "outputs": [],
   "source": [
    "Hs.H <- read.table(paste0(datapath, \"DEG/h.all.v7.1.symbols.gmt\"), \n",
    "                   header = F, check.names = F, sep = \"\\t\", fill = T, stringsAsFactors = F)"
   ]
  },
  {
   "cell_type": "code",
   "execution_count": null,
   "metadata": {},
   "outputs": [],
   "source": []
  },
  {
   "cell_type": "code",
   "execution_count": null,
   "metadata": {},
   "outputs": [],
   "source": [
    "rownames(Hs.H) <- Hs.H$V1\n",
    "Hs.H$V1 <- NULL\n",
    "Hs.H$V2 <- NULL"
   ]
  },
  {
   "cell_type": "code",
   "execution_count": null,
   "metadata": {},
   "outputs": [],
   "source": [
    "Hs.H.list <- as.list(as.data.frame(t(Hs.H)))"
   ]
  },
  {
   "cell_type": "code",
   "execution_count": null,
   "metadata": {},
   "outputs": [],
   "source": [
    "head(Hs.H.list)"
   ]
  },
  {
   "cell_type": "code",
   "execution_count": null,
   "metadata": {},
   "outputs": [],
   "source": [
    "#shrunken_res_C4 <- shrunken_res_C4[order(shrunken_res_C4$log2FoldChange),]"
   ]
  },
  {
   "cell_type": "code",
   "execution_count": null,
   "metadata": {},
   "outputs": [],
   "source": [
    "ranks <- shrunken_res_C1$log2FoldChange\n",
    "names(ranks) <- rownames(shrunken_res_C1)\n",
    "ranks <- ranks[!is.na(ranks)]\n",
    "head(ranks)"
   ]
  },
  {
   "cell_type": "code",
   "execution_count": null,
   "metadata": {},
   "outputs": [],
   "source": [
    "ranks <- sort(ranks, decreasing = T)"
   ]
  },
  {
   "cell_type": "code",
   "execution_count": null,
   "metadata": {},
   "outputs": [],
   "source": [
    "barplot(ranks, decreasing = T)"
   ]
  },
  {
   "cell_type": "code",
   "execution_count": null,
   "metadata": {},
   "outputs": [],
   "source": [
    "fgseaRes <- fgseaMultilevel(Hs.H.list, ranks, minSize=15, maxSize = 500, eps = 0)"
   ]
  },
  {
   "cell_type": "code",
   "execution_count": null,
   "metadata": {},
   "outputs": [],
   "source": [
    "head(fgseaRes)"
   ]
  },
  {
   "cell_type": "code",
   "execution_count": null,
   "metadata": {},
   "outputs": [],
   "source": [
    "ggplot(fgseaRes, aes(reorder(pathway, NES), NES)) +\n",
    "  geom_col(aes(fill=padj<0.2)) +\n",
    "  coord_flip() +\n",
    "  labs(x=\"Pathway\", y=\"Normalized Enrichment Score\",\n",
    "       title=\"Hallmark pathways NES from GSEA\") + myplot"
   ]
  },
  {
   "cell_type": "markdown",
   "metadata": {},
   "source": [
    "# Using ReactomePA"
   ]
  },
  {
   "cell_type": "code",
   "execution_count": null,
   "metadata": {
    "scrolled": true
   },
   "outputs": [],
   "source": [
    "library(clusterProfiler)"
   ]
  },
  {
   "cell_type": "code",
   "execution_count": null,
   "metadata": {},
   "outputs": [],
   "source": [
    "options(scipen = 999)"
   ]
  },
  {
   "cell_type": "code",
   "execution_count": null,
   "metadata": {},
   "outputs": [],
   "source": []
  },
  {
   "cell_type": "code",
   "execution_count": null,
   "metadata": {},
   "outputs": [],
   "source": [
    "myentrez <-  clusterProfiler::bitr(rownames(shrunken_res_C1), \n",
    "                                   fromType=\"SYMBOL\", toType=\"ENTREZID\", OrgDb= \"org.Hs.eg.db\")"
   ]
  },
  {
   "cell_type": "code",
   "execution_count": null,
   "metadata": {},
   "outputs": [],
   "source": [
    "shrunken_res_C1$Entrez <- myentrez$ENTREZID[match(rownames(shrunken_res_C1), myentrez$SYMBOL)]"
   ]
  },
  {
   "cell_type": "code",
   "execution_count": null,
   "metadata": {},
   "outputs": [],
   "source": []
  },
  {
   "cell_type": "code",
   "execution_count": null,
   "metadata": {},
   "outputs": [],
   "source": [
    "library(ReactomePA)"
   ]
  },
  {
   "cell_type": "code",
   "execution_count": null,
   "metadata": {},
   "outputs": [],
   "source": [
    "myentrez <-  clusterProfiler::bitr(rownames(shrunken_res_C1), \n",
    "                                   fromType=\"SYMBOL\", toType=\"ENTREZID\", OrgDb= \"org.Hs.eg.db\")"
   ]
  },
  {
   "cell_type": "code",
   "execution_count": null,
   "metadata": {},
   "outputs": [],
   "source": [
    "shrunken_res_C1$Entrez <- myentrez$ENTREZID[match(rownames(shrunken_res_C1), myentrez$SYMBOL)]"
   ]
  },
  {
   "cell_type": "code",
   "execution_count": null,
   "metadata": {},
   "outputs": [],
   "source": [
    "mygenelist <- shrunken_res_C1$log2FoldChange\n",
    "names(mygenelist) <- shrunken_res_C1$Entrez"
   ]
  },
  {
   "cell_type": "code",
   "execution_count": null,
   "metadata": {},
   "outputs": [],
   "source": [
    "summary(mygenelist)"
   ]
  },
  {
   "cell_type": "code",
   "execution_count": null,
   "metadata": {},
   "outputs": [],
   "source": [
    "de <- names(mygenelist)[abs(mygenelist) > 1.5]\n",
    "head(de)"
   ]
  },
  {
   "cell_type": "code",
   "execution_count": null,
   "metadata": {},
   "outputs": [],
   "source": [
    "x <- enrichPathway(gene=de, pvalueCutoff = 0.05, readable=TRUE)\n",
    "head(x)"
   ]
  },
  {
   "cell_type": "code",
   "execution_count": null,
   "metadata": {},
   "outputs": [],
   "source": [
    "library(enrichplot)\n",
    "barplot(x, showCategory=20)"
   ]
  },
  {
   "cell_type": "code",
   "execution_count": null,
   "metadata": {},
   "outputs": [],
   "source": [
    "pdf(paste0(plotpath, \"Reactome_C1_barplot.pdf\"),\n",
    "   width = 20, height = 20)\n",
    "\n",
    "barplot(x, showCategory=20)\n",
    "\n",
    "dev.off()"
   ]
  },
  {
   "cell_type": "code",
   "execution_count": null,
   "metadata": {},
   "outputs": [],
   "source": [
    "mygenelist <- mygenelist[order(mygenelist, decreasing = T)]"
   ]
  },
  {
   "cell_type": "code",
   "execution_count": null,
   "metadata": {},
   "outputs": [],
   "source": [
    "y <- gsePathway(mygenelist, \n",
    "                pvalueCutoff = 0.05,\n",
    "                pAdjustMethod = \"BH\", \n",
    "                verbose = FALSE)\n",
    "head(y)"
   ]
  },
  {
   "cell_type": "code",
   "execution_count": null,
   "metadata": {},
   "outputs": [],
   "source": [
    "y <- as.data.frame(y)"
   ]
  },
  {
   "cell_type": "code",
   "execution_count": null,
   "metadata": {},
   "outputs": [],
   "source": [
    "myenrichplot <- ggplot(y, aes(reorder(Description, NES), NES)) +\n",
    "  geom_col(aes(fill=p.adjust<0.01)) +\n",
    "  coord_flip() +\n",
    "  labs(x=\"Pathway\", y=\"Normalized Enrichment Score\",\n",
    "       title=\"Hallmark pathways NES from GSEA\") + myplot"
   ]
  },
  {
   "cell_type": "code",
   "execution_count": null,
   "metadata": {},
   "outputs": [],
   "source": [
    "pdf(paste0(plotpath, \"Reactome_C1_enrichplot.pdf\"),\n",
    "   width = 20, height = 40)\n",
    "\n",
    "myenrichplot\n",
    "\n",
    "dev.off()"
   ]
  },
  {
   "cell_type": "code",
   "execution_count": null,
   "metadata": {},
   "outputs": [],
   "source": []
  },
  {
   "cell_type": "code",
   "execution_count": null,
   "metadata": {},
   "outputs": [],
   "source": []
  },
  {
   "cell_type": "code",
   "execution_count": null,
   "metadata": {},
   "outputs": [],
   "source": []
  },
  {
   "cell_type": "code",
   "execution_count": null,
   "metadata": {},
   "outputs": [],
   "source": [
    "pdf(paste0(plotpath, \"Reactome_C1_dotplot.pdf\"),\n",
    "   width = 20, height = 20)\n",
    "\n",
    "dotplot(y, showCategory=20)\n",
    "dotplot(x, showCategory=20)\n",
    "\n",
    "dev.off()"
   ]
  },
  {
   "cell_type": "code",
   "execution_count": null,
   "metadata": {},
   "outputs": [],
   "source": [
    "edox <- setReadable(x, 'org.Hs.eg.db', 'ENTREZID')\n",
    "p1 <- cnetplot(edox, foldChange= mygenelist)\n",
    "## categorySize can be scaled by 'pvalue' or 'geneNum'\n",
    "p2 <- cnetplot(edox, categorySize=\"pvalue\", foldChange=mygenelist)\n"
   ]
  },
  {
   "cell_type": "code",
   "execution_count": null,
   "metadata": {},
   "outputs": [],
   "source": [
    "pdf(paste0(plotpath, \"Reactome_C1_cnet.pdf\"),\n",
    "   width = 20, height = 20)\n",
    "\n",
    "p2\n",
    "\n",
    "dev.off()"
   ]
  },
  {
   "cell_type": "code",
   "execution_count": null,
   "metadata": {},
   "outputs": [],
   "source": []
  },
  {
   "cell_type": "code",
   "execution_count": null,
   "metadata": {},
   "outputs": [],
   "source": [
    "edo <- pairwise_termsim(x)"
   ]
  },
  {
   "cell_type": "code",
   "execution_count": null,
   "metadata": {},
   "outputs": [],
   "source": [
    "\n",
    "p1 <- emapplot(edo)\n",
    "p2 <- emapplot(edo, cex_category=1.5)\n",
    "p3 <- emapplot(edo, layout=\"kk\")\n",
    "p4 <- emapplot(edo, cex_category=1.5,layout=\"kk\") "
   ]
  },
  {
   "cell_type": "code",
   "execution_count": null,
   "metadata": {},
   "outputs": [],
   "source": [
    "pdf(paste0(plotpath, \"Reactome_C1_emap.pdf\"),\n",
    "   width = 20, height = 20)\n",
    "p1\n",
    "p2\n",
    "p3\n",
    "p4\n",
    "dev.off()"
   ]
  },
  {
   "cell_type": "code",
   "execution_count": null,
   "metadata": {},
   "outputs": [],
   "source": []
  },
  {
   "cell_type": "code",
   "execution_count": null,
   "metadata": {},
   "outputs": [],
   "source": []
  },
  {
   "cell_type": "code",
   "execution_count": null,
   "metadata": {},
   "outputs": [],
   "source": []
  },
  {
   "cell_type": "code",
   "execution_count": null,
   "metadata": {},
   "outputs": [],
   "source": []
  }
 ],
 "metadata": {
  "kernelspec": {
   "display_name": "R 4.0",
   "language": "R",
   "name": "ir40"
  },
  "language_info": {
   "codemirror_mode": "r",
   "file_extension": ".r",
   "mimetype": "text/x-r-source",
   "name": "R",
   "pygments_lexer": "r",
   "version": "4.0.3"
  },
  "toc": {
   "base_numbering": 1,
   "nav_menu": {},
   "number_sections": false,
   "sideBar": true,
   "skip_h1_title": false,
   "title_cell": "Table of Contents",
   "title_sidebar": "Contents",
   "toc_cell": true,
   "toc_position": {
    "height": "calc(100% - 180px)",
    "left": "10px",
    "top": "150px",
    "width": "165px"
   },
   "toc_section_display": true,
   "toc_window_display": true
  }
 },
 "nbformat": 4,
 "nbformat_minor": 2
}
