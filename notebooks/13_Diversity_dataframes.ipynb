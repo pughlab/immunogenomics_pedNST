{
 "cells": [
  {
   "cell_type": "markdown",
   "metadata": {
    "toc": true
   },
   "source": [
    "<h1>Table of Contents<span class=\"tocSkip\"></span></h1>\n",
    "<div class=\"toc\"><ul class=\"toc-item\"><li><span><a href=\"#Dependencies\" data-toc-modified-id=\"Dependencies-1\">Dependencies</a></span></li><li><span><a href=\"#Functions\" data-toc-modified-id=\"Functions-2\">Functions</a></span></li><li><span><a href=\"#Paths\" data-toc-modified-id=\"Paths-3\">Paths</a></span></li><li><span><a href=\"#Main\" data-toc-modified-id=\"Main-4\">Main</a></span></li></ul></div>"
   ]
  },
  {
   "cell_type": "markdown",
   "metadata": {},
   "source": [
    "# Dependencies"
   ]
  },
  {
   "cell_type": "code",
   "execution_count": 3,
   "metadata": {},
   "outputs": [],
   "source": [
    "options(scipen = 999)"
   ]
  },
  {
   "cell_type": "code",
   "execution_count": 4,
   "metadata": {
    "scrolled": true
   },
   "outputs": [],
   "source": [
    "library(ggplot2)\n",
    "library(ggbeeswarm)\n",
    "library(Hmisc)\n",
    "library(circlize)\n",
    "library(ComplexHeatmap)\n",
    "library(iNEXT)"
   ]
  },
  {
   "cell_type": "markdown",
   "metadata": {},
   "source": [
    "# Functions "
   ]
  },
  {
   "cell_type": "code",
   "execution_count": 5,
   "metadata": {},
   "outputs": [],
   "source": [
    "div_df.fx <- function(master_df, div_dfCBTTC, div_dfTARGET, div_dfDKFZ, div_dfTCGA){\n",
    "    message(\"master_df total number of samples: \",\n",
    "            dim(master_df)[1])\n",
    "    print(table(master_df$group))\n",
    "\n",
    "    message(\"div_df CBTTC: \")\n",
    "    print(dim(div_dfCBTTC))\n",
    "\n",
    "# Merge CBTTC with sample_id\n",
    "    div_dfCBTTC$filename <- as.character(div_dfCBTTC$filename)\n",
    "# remove the leading \"_\" from filename\n",
    "    div_dfCBTTC$aliquot_id <- substr(div_dfCBTTC$filename,2, nchar(div_dfCBTTC$filename))\n",
    "    div_dfCBTTC$sample_id  <- gsub(\"_.*\", \"\", div_dfCBTTC$aliquot_id)\n",
    "    \n",
    "    div_dfCBTTC$aliquot_id <- NULL\n",
    "    div_dfCBTTC$filename <- NULL\n",
    "     \n",
    "    master_df_div_CBTTC <- merge(master_df, div_dfCBTTC, by = \"sample_id\")\n",
    "\n",
    "    message(\"div_df CBTTC post-merge: \") \n",
    "    print(dim(master_df_div_CBTTC))\n",
    "    print(table(master_df_div_CBTTC$cohort))\n",
    "    \n",
    "# Merge all other cohorts by sample_id\n",
    "    Div_df <- rbind(div_dfTARGET,div_dfDKFZ,div_dfTCGA)\n",
    "    message(\"div_df TCGA, TARGET, DKFZ: \")\n",
    "    print(dim(Div_df))\n",
    "    \n",
    "## there is a leading \"_\", remove it!    \n",
    "    Div_df$filename <- as.character(Div_df$filename)\n",
    "    Div_df$sample_id <- substr(Div_df$filename,2, nchar(Div_df$filename))\n",
    "## some TCGA ids have leading \"RA_\", remove it!\n",
    "    Div_df$sample_id <- gsub(\"RA_\", \"\", Div_df$sample_id)   \n",
    "    Div_df$filename <- NULL    \n",
    "  \n",
    "    master_df_div <- merge(master_df, Div_df, by = \"sample_id\")\n",
    "    message(\"div_df TCGA,TARGET,DKFZ post-merge: \")\n",
    "    print(dim(master_df_div))    \n",
    "    print(table(master_df_div$group))\n",
    "    \n",
    "    master_df_div <- rbind(master_df_div,master_df_div_CBTTC)\n",
    "    \n",
    "    message(\"Total div_df post-merge: \")\n",
    "    print(dim(master_df_div))\n",
    "    print(table(master_df_div$group))\n",
    "    return(master_df_div)\n",
    "}\n"
   ]
  },
  {
   "cell_type": "markdown",
   "metadata": {},
   "source": [
    "# Paths"
   ]
  },
  {
   "cell_type": "code",
   "execution_count": 6,
   "metadata": {},
   "outputs": [],
   "source": [
    "manifestpath <- \"/Users/anabbi/OneDrive - UHN/Documents/IPD2/Manifests/\"\n",
    "datapath <- \"/Users/anabbi/OneDrive - UHN/Documents/IPD2/Data/\"\n",
    "plotpath <- \"/Users/anabbi/OneDrive - UHN/Documents/IPD2/Plots/\""
   ]
  },
  {
   "cell_type": "markdown",
   "metadata": {},
   "source": [
    "# Main"
   ]
  },
  {
   "cell_type": "code",
   "execution_count": 7,
   "metadata": {},
   "outputs": [],
   "source": [
    "load(file = file.path(datapath,\"TME_clusters/IPD_estimate_metadata_IC.RData\"))"
   ]
  },
  {
   "cell_type": "code",
   "execution_count": 8,
   "metadata": {},
   "outputs": [
    {
     "data": {
      "text/plain": [
       "\n",
       " CBTTC   DKFZ TARGET \n",
       "   579    195    149 "
      ]
     },
     "metadata": {},
     "output_type": "display_data"
    }
   ],
   "source": [
    "table(metadata_IC$group)"
   ]
  },
  {
   "cell_type": "code",
   "execution_count": 9,
   "metadata": {},
   "outputs": [],
   "source": [
    "load(paste0(datapath, \"diversity/DKFZ_TRAlist_Div_df.RData\"))\n",
    "load(paste0(datapath, \"diversity/TARGET_TRAlist_Div_df.RData\"))\n",
    "load(paste0(datapath, \"diversity/CBTTC_TRAlist_Div_df.RData\"))\n",
    "load(paste0(datapath, \"diversity/TCGA_Div_df_TRA.RData\"))"
   ]
  },
  {
   "cell_type": "code",
   "execution_count": 10,
   "metadata": {},
   "outputs": [],
   "source": [
    "load(paste0(datapath, \"diversity/DKFZ_TRBlist_Div_df.RData\"))\n",
    "load(paste0(datapath, \"diversity/TARGET_TRBlist_Div_df.RData\"))\n",
    "load(paste0(datapath, \"diversity/CBTTC_TRBlist_Div_df.RData\"))\n",
    "load(paste0(datapath, \"diversity/TCGA_Div_df_TRB.RData\"))"
   ]
  },
  {
   "cell_type": "code",
   "execution_count": 11,
   "metadata": {},
   "outputs": [],
   "source": [
    "load(paste0(datapath, \"diversity/DKFZ_IGHlist_Div_df.RData\"))\n",
    "load(paste0(datapath, \"diversity/TARGET_IGHlist_Div_df.RData\"))\n",
    "load(paste0(datapath, \"diversity/CBTTC_IGHlist_Div_df.RData\"))\n",
    "load(paste0(datapath, \"diversity/TCGA_Div_df_IGH.RData\"))"
   ]
  },
  {
   "cell_type": "code",
   "execution_count": 12,
   "metadata": {
    "scrolled": true
   },
   "outputs": [
    {
     "data": {
      "text/html": [
       "<table class=\"dataframe\">\n",
       "<caption>A data.frame: 6 × 16</caption>\n",
       "<thead>\n",
       "\t<tr><th></th><th scope=col>filename</th><th scope=col>TRB</th><th scope=col>Reads</th><th scope=col>Average_reads</th><th scope=col>Max_reads</th><th scope=col>IDis</th><th scope=col>Singletons</th><th scope=col>Doubletons</th><th scope=col>qD</th><th scope=col>estimated_Richness</th><th scope=col>observed_Richness</th><th scope=col>estimated_Shannon</th><th scope=col>observed_Shannon</th><th scope=col>estimated_Simpson</th><th scope=col>observed_Simpson</th><th scope=col>Divscore</th></tr>\n",
       "\t<tr><th></th><th scope=col>&lt;fct&gt;</th><th scope=col>&lt;dbl&gt;</th><th scope=col>&lt;dbl&gt;</th><th scope=col>&lt;dbl&gt;</th><th scope=col>&lt;dbl&gt;</th><th scope=col>&lt;dbl&gt;</th><th scope=col>&lt;dbl&gt;</th><th scope=col>&lt;dbl&gt;</th><th scope=col>&lt;dbl&gt;</th><th scope=col>&lt;dbl&gt;</th><th scope=col>&lt;dbl&gt;</th><th scope=col>&lt;dbl&gt;</th><th scope=col>&lt;dbl&gt;</th><th scope=col>&lt;dbl&gt;</th><th scope=col>&lt;dbl&gt;</th><th scope=col>&lt;dbl&gt;</th></tr>\n",
       "</thead>\n",
       "<tbody>\n",
       "\t<tr><th scope=row>1</th><td>_H049-GWNW</td><td> 46</td><td> 58</td><td>1.260870</td><td> 6</td><td>0.6981470</td><td> 40</td><td> 4</td><td> 82.135</td><td> 242.552</td><td> 46</td><td>172.976</td><td> 39.800</td><td> 66.120</td><td>31.148</td><td> 28.829333</td></tr>\n",
       "\t<tr><th scope=row>2</th><td>_H049-JVCT</td><td> 13</td><td> 16</td><td>1.230769</td><td> 2</td><td>0.3563048</td><td> 10</td><td> 3</td><td> 20.283</td><td>  28.625</td><td> 13</td><td> 31.388</td><td> 12.338</td><td> 40.000</td><td>11.636</td><td> 15.694000</td></tr>\n",
       "\t<tr><th scope=row>3</th><td>_H049-SPP6</td><td>339</td><td>712</td><td>2.100295</td><td>47</td><td>2.3167365</td><td>242</td><td>62</td><td>528.246</td><td> 810.627</td><td>339</td><td>278.625</td><td>156.454</td><td> 57.618</td><td>53.374</td><td>  5.928191</td></tr>\n",
       "\t<tr><th scope=row>4</th><td>_H049-UV6K</td><td> 98</td><td>111</td><td>1.132653</td><td> 6</td><td>0.5324194</td><td> 91</td><td> 4</td><td>185.047</td><td>1123.800</td><td> 98</td><td>844.716</td><td> 90.318</td><td>244.200</td><td>76.528</td><td>140.786000</td></tr>\n",
       "\t<tr><th scope=row>5</th><td>_ICGC_ET9 </td><td>  3</td><td>  4</td><td>1.333333</td><td> 2</td><td>0.4330127</td><td>  2</td><td> 1</td><td>  4.025</td><td>   4.500</td><td>  3</td><td>  4.891</td><td>  2.828</td><td>  2.667</td><td> 2.667</td><td>  2.445500</td></tr>\n",
       "\t<tr><th scope=row>6</th><td>_ICGC_GBM2</td><td>  3</td><td>  4</td><td>1.333333</td><td> 2</td><td>0.4330127</td><td>  2</td><td> 1</td><td>  4.025</td><td>   4.500</td><td>  3</td><td>  4.891</td><td>  2.828</td><td>  2.667</td><td> 2.667</td><td>  2.445500</td></tr>\n",
       "</tbody>\n",
       "</table>\n"
      ],
      "text/latex": [
       "A data.frame: 6 × 16\n",
       "\\begin{tabular}{r|llllllllllllllll}\n",
       "  & filename & TRB & Reads & Average\\_reads & Max\\_reads & IDis & Singletons & Doubletons & qD & estimated\\_Richness & observed\\_Richness & estimated\\_Shannon & observed\\_Shannon & estimated\\_Simpson & observed\\_Simpson & Divscore\\\\\n",
       "  & <fct> & <dbl> & <dbl> & <dbl> & <dbl> & <dbl> & <dbl> & <dbl> & <dbl> & <dbl> & <dbl> & <dbl> & <dbl> & <dbl> & <dbl> & <dbl>\\\\\n",
       "\\hline\n",
       "\t1 & \\_H049-GWNW &  46 &  58 & 1.260870 &  6 & 0.6981470 &  40 &  4 &  82.135 &  242.552 &  46 & 172.976 &  39.800 &  66.120 & 31.148 &  28.829333\\\\\n",
       "\t2 & \\_H049-JVCT &  13 &  16 & 1.230769 &  2 & 0.3563048 &  10 &  3 &  20.283 &   28.625 &  13 &  31.388 &  12.338 &  40.000 & 11.636 &  15.694000\\\\\n",
       "\t3 & \\_H049-SPP6 & 339 & 712 & 2.100295 & 47 & 2.3167365 & 242 & 62 & 528.246 &  810.627 & 339 & 278.625 & 156.454 &  57.618 & 53.374 &   5.928191\\\\\n",
       "\t4 & \\_H049-UV6K &  98 & 111 & 1.132653 &  6 & 0.5324194 &  91 &  4 & 185.047 & 1123.800 &  98 & 844.716 &  90.318 & 244.200 & 76.528 & 140.786000\\\\\n",
       "\t5 & \\_ICGC\\_ET9  &   3 &   4 & 1.333333 &  2 & 0.4330127 &   2 &  1 &   4.025 &    4.500 &   3 &   4.891 &   2.828 &   2.667 &  2.667 &   2.445500\\\\\n",
       "\t6 & \\_ICGC\\_GBM2 &   3 &   4 & 1.333333 &  2 & 0.4330127 &   2 &  1 &   4.025 &    4.500 &   3 &   4.891 &   2.828 &   2.667 &  2.667 &   2.445500\\\\\n",
       "\\end{tabular}\n"
      ],
      "text/markdown": [
       "\n",
       "A data.frame: 6 × 16\n",
       "\n",
       "| <!--/--> | filename &lt;fct&gt; | TRB &lt;dbl&gt; | Reads &lt;dbl&gt; | Average_reads &lt;dbl&gt; | Max_reads &lt;dbl&gt; | IDis &lt;dbl&gt; | Singletons &lt;dbl&gt; | Doubletons &lt;dbl&gt; | qD &lt;dbl&gt; | estimated_Richness &lt;dbl&gt; | observed_Richness &lt;dbl&gt; | estimated_Shannon &lt;dbl&gt; | observed_Shannon &lt;dbl&gt; | estimated_Simpson &lt;dbl&gt; | observed_Simpson &lt;dbl&gt; | Divscore &lt;dbl&gt; |\n",
       "|---|---|---|---|---|---|---|---|---|---|---|---|---|---|---|---|---|\n",
       "| 1 | _H049-GWNW |  46 |  58 | 1.260870 |  6 | 0.6981470 |  40 |  4 |  82.135 |  242.552 |  46 | 172.976 |  39.800 |  66.120 | 31.148 |  28.829333 |\n",
       "| 2 | _H049-JVCT |  13 |  16 | 1.230769 |  2 | 0.3563048 |  10 |  3 |  20.283 |   28.625 |  13 |  31.388 |  12.338 |  40.000 | 11.636 |  15.694000 |\n",
       "| 3 | _H049-SPP6 | 339 | 712 | 2.100295 | 47 | 2.3167365 | 242 | 62 | 528.246 |  810.627 | 339 | 278.625 | 156.454 |  57.618 | 53.374 |   5.928191 |\n",
       "| 4 | _H049-UV6K |  98 | 111 | 1.132653 |  6 | 0.5324194 |  91 |  4 | 185.047 | 1123.800 |  98 | 844.716 |  90.318 | 244.200 | 76.528 | 140.786000 |\n",
       "| 5 | _ICGC_ET9  |   3 |   4 | 1.333333 |  2 | 0.4330127 |   2 |  1 |   4.025 |    4.500 |   3 |   4.891 |   2.828 |   2.667 |  2.667 |   2.445500 |\n",
       "| 6 | _ICGC_GBM2 |   3 |   4 | 1.333333 |  2 | 0.4330127 |   2 |  1 |   4.025 |    4.500 |   3 |   4.891 |   2.828 |   2.667 |  2.667 |   2.445500 |\n",
       "\n"
      ],
      "text/plain": [
       "  filename   TRB Reads Average_reads Max_reads IDis      Singletons Doubletons\n",
       "1 _H049-GWNW  46  58   1.260870       6        0.6981470  40         4        \n",
       "2 _H049-JVCT  13  16   1.230769       2        0.3563048  10         3        \n",
       "3 _H049-SPP6 339 712   2.100295      47        2.3167365 242        62        \n",
       "4 _H049-UV6K  98 111   1.132653       6        0.5324194  91         4        \n",
       "5 _ICGC_ET9    3   4   1.333333       2        0.4330127   2         1        \n",
       "6 _ICGC_GBM2   3   4   1.333333       2        0.4330127   2         1        \n",
       "  qD      estimated_Richness observed_Richness estimated_Shannon\n",
       "1  82.135  242.552            46               172.976          \n",
       "2  20.283   28.625            13                31.388          \n",
       "3 528.246  810.627           339               278.625          \n",
       "4 185.047 1123.800            98               844.716          \n",
       "5   4.025    4.500             3                 4.891          \n",
       "6   4.025    4.500             3                 4.891          \n",
       "  observed_Shannon estimated_Simpson observed_Simpson Divscore  \n",
       "1  39.800           66.120           31.148            28.829333\n",
       "2  12.338           40.000           11.636            15.694000\n",
       "3 156.454           57.618           53.374             5.928191\n",
       "4  90.318          244.200           76.528           140.786000\n",
       "5   2.828            2.667            2.667             2.445500\n",
       "6   2.828            2.667            2.667             2.445500"
      ]
     },
     "metadata": {},
     "output_type": "display_data"
    }
   ],
   "source": [
    "head(DKFZ_TRBlist_Div_df)"
   ]
  },
  {
   "cell_type": "code",
   "execution_count": 13,
   "metadata": {
    "scrolled": false
   },
   "outputs": [
    {
     "name": "stderr",
     "output_type": "stream",
     "text": [
      "master_df total number of samples: 923\n",
      "\n"
     ]
    },
    {
     "name": "stdout",
     "output_type": "stream",
     "text": [
      "\n",
      " CBTTC   DKFZ TARGET \n",
      "   579    195    149 \n"
     ]
    },
    {
     "name": "stderr",
     "output_type": "stream",
     "text": [
      "div_df CBTTC: \n",
      "\n"
     ]
    },
    {
     "name": "stdout",
     "output_type": "stream",
     "text": [
      "[1] 354  16\n"
     ]
    },
    {
     "name": "stderr",
     "output_type": "stream",
     "text": [
      "div_df CBTTC post-merge: \n",
      "\n"
     ]
    },
    {
     "name": "stdout",
     "output_type": "stream",
     "text": [
      "[1] 186  39\n",
      "\n",
      "  ATRT     CP    CPH    EPN     MB    MNG    NBL    NFB pedHGG pedLGG   SCHW \n",
      "     7      2     15     12      8      6      2      7     11    108      8 \n"
     ]
    },
    {
     "name": "stderr",
     "output_type": "stream",
     "text": [
      "div_df TCGA, TARGET, DKFZ: \n",
      "\n"
     ]
    },
    {
     "name": "stdout",
     "output_type": "stream",
     "text": [
      "[1] 1662   16\n"
     ]
    },
    {
     "name": "stderr",
     "output_type": "stream",
     "text": [
      "div_df TCGA,TARGET,DKFZ post-merge: \n",
      "\n"
     ]
    },
    {
     "name": "stdout",
     "output_type": "stream",
     "text": [
      "[1] 126  39\n",
      "\n",
      "  DKFZ TARGET \n",
      "    22    104 \n"
     ]
    },
    {
     "name": "stderr",
     "output_type": "stream",
     "text": [
      "Total div_df post-merge: \n",
      "\n"
     ]
    },
    {
     "name": "stdout",
     "output_type": "stream",
     "text": [
      "[1] 312  39\n",
      "\n",
      " CBTTC   DKFZ TARGET \n",
      "   186     22    104 \n"
     ]
    }
   ],
   "source": [
    "metadata_IC_TRA <- div_df.fx(metadata_IC, CBTTC_TRAlist_Div_df,\n",
    "                             TARGET_TRAlist_Div_df,DKFZ_TRAlist_Div_df,\n",
    "                             TCGA_Div_df_TRA)"
   ]
  },
  {
   "cell_type": "code",
   "execution_count": 14,
   "metadata": {},
   "outputs": [
    {
     "name": "stderr",
     "output_type": "stream",
     "text": [
      "master_df total number of samples: 923\n",
      "\n"
     ]
    },
    {
     "name": "stdout",
     "output_type": "stream",
     "text": [
      "\n",
      " CBTTC   DKFZ TARGET \n",
      "   579    195    149 \n"
     ]
    },
    {
     "name": "stderr",
     "output_type": "stream",
     "text": [
      "div_df CBTTC: \n",
      "\n"
     ]
    },
    {
     "name": "stdout",
     "output_type": "stream",
     "text": [
      "[1] 433  16\n"
     ]
    },
    {
     "name": "stderr",
     "output_type": "stream",
     "text": [
      "div_df CBTTC post-merge: \n",
      "\n"
     ]
    },
    {
     "name": "stdout",
     "output_type": "stream",
     "text": [
      "[1] 234  39\n",
      "\n",
      "  ATRT     CP    CPH    EPN     MB    MNG    NBL    NFB pedHGG pedLGG   SCHW \n",
      "     7      1     20     16     12      6      1     10     13    140      8 \n"
     ]
    },
    {
     "name": "stderr",
     "output_type": "stream",
     "text": [
      "div_df TCGA, TARGET, DKFZ: \n",
      "\n"
     ]
    },
    {
     "name": "stdout",
     "output_type": "stream",
     "text": [
      "[1] 1730   16\n"
     ]
    },
    {
     "name": "stderr",
     "output_type": "stream",
     "text": [
      "div_df TCGA,TARGET,DKFZ post-merge: \n",
      "\n"
     ]
    },
    {
     "name": "stdout",
     "output_type": "stream",
     "text": [
      "[1] 127  39\n",
      "\n",
      "  DKFZ TARGET \n",
      "    16    111 \n"
     ]
    },
    {
     "name": "stderr",
     "output_type": "stream",
     "text": [
      "Total div_df post-merge: \n",
      "\n"
     ]
    },
    {
     "name": "stdout",
     "output_type": "stream",
     "text": [
      "[1] 361  39\n",
      "\n",
      " CBTTC   DKFZ TARGET \n",
      "   234     16    111 \n"
     ]
    }
   ],
   "source": [
    "metadata_IC_TRB <- div_df.fx(metadata_IC, CBTTC_TRBlist_Div_df,\n",
    "                             TARGET_TRBlist_Div_df, DKFZ_TRBlist_Div_df,\n",
    "                             TCGA_Div_df_TRB)"
   ]
  },
  {
   "cell_type": "code",
   "execution_count": 15,
   "metadata": {},
   "outputs": [
    {
     "name": "stderr",
     "output_type": "stream",
     "text": [
      "master_df total number of samples: 923\n",
      "\n"
     ]
    },
    {
     "name": "stdout",
     "output_type": "stream",
     "text": [
      "\n",
      " CBTTC   DKFZ TARGET \n",
      "   579    195    149 \n"
     ]
    },
    {
     "name": "stderr",
     "output_type": "stream",
     "text": [
      "div_df CBTTC: \n",
      "\n"
     ]
    },
    {
     "name": "stdout",
     "output_type": "stream",
     "text": [
      "[1] 805  16\n"
     ]
    },
    {
     "name": "stderr",
     "output_type": "stream",
     "text": [
      "div_df CBTTC post-merge: \n",
      "\n"
     ]
    },
    {
     "name": "stdout",
     "output_type": "stream",
     "text": [
      "[1] 443  39\n",
      "\n",
      "  ATRT     CP    CPH    EPN   ETMR     MB    MNG    NBL    NFB pedHGG pedLGG \n",
      "    19     12     21     52      1     54     10      2     10     40    211 \n",
      "  SCHW \n",
      "    11 \n"
     ]
    },
    {
     "name": "stderr",
     "output_type": "stream",
     "text": [
      "div_df TCGA, TARGET, DKFZ: \n",
      "\n"
     ]
    },
    {
     "name": "stdout",
     "output_type": "stream",
     "text": [
      "[1] 2259   16\n"
     ]
    },
    {
     "name": "stderr",
     "output_type": "stream",
     "text": [
      "div_df TCGA,TARGET,DKFZ post-merge: \n",
      "\n"
     ]
    },
    {
     "name": "stdout",
     "output_type": "stream",
     "text": [
      "[1] 181  39\n",
      "\n",
      "  DKFZ TARGET \n",
      "    47    134 \n"
     ]
    },
    {
     "name": "stderr",
     "output_type": "stream",
     "text": [
      "Total div_df post-merge: \n",
      "\n"
     ]
    },
    {
     "name": "stdout",
     "output_type": "stream",
     "text": [
      "[1] 624  39\n",
      "\n",
      " CBTTC   DKFZ TARGET \n",
      "   443     47    134 \n"
     ]
    }
   ],
   "source": [
    "metadata_IC_IGH <- div_df.fx(metadata_IC, CBTTC_IGHlist_Div_df,\n",
    "                             TARGET_IGHlist_Div_df, DKFZ_IGHlist_Div_df,\n",
    "                             TCGA_Div_df_IGH)"
   ]
  },
  {
   "cell_type": "code",
   "execution_count": 16,
   "metadata": {},
   "outputs": [],
   "source": [
    "metadata_IC_TRA$Divscore <- NULL\n",
    "metadata_IC_TRB$Divscore <- NULL\n",
    "metadata_IC_IGH$Divscore <- NULL"
   ]
  },
  {
   "cell_type": "code",
   "execution_count": 17,
   "metadata": {},
   "outputs": [
    {
     "data": {
      "text/plain": [
       "\n",
       " C1  C2  C3  C4 \n",
       " 78 118  77  39 "
      ]
     },
     "metadata": {},
     "output_type": "display_data"
    }
   ],
   "source": [
    "table(metadata_IC_TRA$immune_cluster)"
   ]
  },
  {
   "cell_type": "code",
   "execution_count": 18,
   "metadata": {},
   "outputs": [],
   "source": [
    "save(metadata_IC_TRA,\n",
    "         file = paste0(datapath, \"diversity/metadata_IC_TRA.RData\"))\n"
   ]
  },
  {
   "cell_type": "code",
   "execution_count": 19,
   "metadata": {},
   "outputs": [],
   "source": [
    "save(metadata_IC_TRB,\n",
    "         file = paste0(datapath, \"diversity/metadata_IC_TRB.RData\"))"
   ]
  },
  {
   "cell_type": "code",
   "execution_count": 20,
   "metadata": {},
   "outputs": [],
   "source": [
    "save(metadata_IC_IGH,\n",
    "         file = paste0(datapath, \"diversity/metadata_IC_IGH.RData\"))"
   ]
  }
 ],
 "metadata": {
  "kernelspec": {
   "display_name": "R 4.0",
   "language": "R",
   "name": "ir40"
  },
  "language_info": {
   "codemirror_mode": "r",
   "file_extension": ".r",
   "mimetype": "text/x-r-source",
   "name": "R",
   "pygments_lexer": "r",
   "version": "4.0.3"
  },
  "toc": {
   "base_numbering": 1,
   "nav_menu": {},
   "number_sections": false,
   "sideBar": false,
   "skip_h1_title": false,
   "title_cell": "Table of Contents",
   "title_sidebar": "Contents",
   "toc_cell": true,
   "toc_position": {
    "height": "821.007px",
    "left": "23px",
    "top": "109.33px",
    "width": "193.889px"
   },
   "toc_section_display": true,
   "toc_window_display": true
  }
 },
 "nbformat": 4,
 "nbformat_minor": 2
}
