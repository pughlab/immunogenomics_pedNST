{
 "cells": [
  {
   "cell_type": "markdown",
   "metadata": {
    "toc": true
   },
   "source": [
    "<h1>Table of Contents<span class=\"tocSkip\"></span></h1>\n",
    "<div class=\"toc\"><ul class=\"toc-item\"><li><span><a href=\"#Dependencies\" data-toc-modified-id=\"Dependencies-1\">Dependencies</a></span></li><li><span><a href=\"#Functions\" data-toc-modified-id=\"Functions-2\">Functions</a></span></li><li><span><a href=\"#Paths\" data-toc-modified-id=\"Paths-3\">Paths</a></span></li><li><span><a href=\"#Main\" data-toc-modified-id=\"Main-4\">Main</a></span><ul class=\"toc-item\"><li><span><a href=\"#CBTTC\" data-toc-modified-id=\"CBTTC-4.1\">CBTTC</a></span></li><li><span><a href=\"#Clean-up-mupexi-files-to-include-mutations-that-are-overlapped-from-strelka-and-mutect2-for-cbttc\" data-toc-modified-id=\"Clean-up-mupexi-files-to-include-mutations-that-are-overlapped-from-strelka-and-mutect2-for-cbttc-4.2\">Clean up mupexi files to include mutations that are overlapped from strelka and mutect2 for cbttc</a></span></li><li><span><a href=\"#TARGET\" data-toc-modified-id=\"TARGET-4.3\">TARGET</a></span></li></ul></li></ul></div>"
   ]
  },
  {
   "cell_type": "markdown",
   "metadata": {},
   "source": [
    "# Dependencies"
   ]
  },
  {
   "cell_type": "code",
   "execution_count": 1,
   "metadata": {},
   "outputs": [],
   "source": [
    "library(maftools)"
   ]
  },
  {
   "cell_type": "markdown",
   "metadata": {},
   "source": [
    "# Functions"
   ]
  },
  {
   "cell_type": "markdown",
   "metadata": {},
   "source": [
    "# Paths"
   ]
  },
  {
   "cell_type": "code",
   "execution_count": 2,
   "metadata": {},
   "outputs": [],
   "source": [
    "manifestpath <- \"/Users/anabbi/OneDrive - UHN/Documents/IPD2/Manifests/\"\n",
    "datapath <- \"/Users/anabbi/OneDrive - UHN/Documents/IPD2/Data/\"\n",
    "plotpath <- \"/Users/anabbi/OneDrive - UHN/Documents/IPD2/Plots/\""
   ]
  },
  {
   "cell_type": "markdown",
   "metadata": {},
   "source": [
    "# Main"
   ]
  },
  {
   "cell_type": "code",
   "execution_count": 3,
   "metadata": {},
   "outputs": [],
   "source": [
    "load(file = paste0(datapath,\"snv/total_mut_manifest_estimate.RData\"))"
   ]
  },
  {
   "cell_type": "markdown",
   "metadata": {},
   "source": [
    "## CBTTC"
   ]
  },
  {
   "cell_type": "code",
   "execution_count": 4,
   "metadata": {},
   "outputs": [],
   "source": [
    "CBTTC_mafsummary <- read.table(file = paste0(datapath, \"snv/CBTTC_mafsummary_overlapped_3VAF.txt\"),\n",
    "                        sep = \"\\t\", check.names = F,\n",
    "                        header = TRUE, stringsAsFactors = FALSE)"
   ]
  },
  {
   "cell_type": "code",
   "execution_count": 5,
   "metadata": {},
   "outputs": [],
   "source": [
    "mymaf_CBTTC <- read.maf(maf =  paste0(datapath, \"snv/CBTTC_maf_overlapped_3VAF.maf\"),\n",
    "                      useAll = TRUE, verbose = FALSE,\n",
    "                      vc_nonSyn = c(\"Frame_Shift_Del\", \"Frame_Shift_Ins\", \n",
    "                                    \"Nonsense_Mutation\",\"Nonstop_Mutation\", \n",
    "                                    \"In_Frame_Del\",\"In_Frame_Ins\", \n",
    "                                    \"Missense_Mutation\"))"
   ]
  },
  {
   "cell_type": "code",
   "execution_count": 6,
   "metadata": {},
   "outputs": [],
   "source": [
    "CBTTC_data_maf <- mymaf_CBTTC@data"
   ]
  },
  {
   "cell_type": "code",
   "execution_count": 7,
   "metadata": {},
   "outputs": [],
   "source": [
    "CBTTC_data_maf$Tumor_Sample_Barcode <- as.character(CBTTC_data_maf$Tumor_Sample_Barcode)"
   ]
  },
  {
   "cell_type": "markdown",
   "metadata": {},
   "source": [
    "Add sample id to maf file"
   ]
  },
  {
   "cell_type": "code",
   "execution_count": 8,
   "metadata": {},
   "outputs": [],
   "source": [
    "CBTTC_data_maf_sampleid <- merge(CBTTC_mafsummary[,c(\"sample_id\", \"Tumor_Sample_Barcode\")], \n",
    "                                 CBTTC_data_maf, by = \"Tumor_Sample_Barcode\")"
   ]
  },
  {
   "cell_type": "code",
   "execution_count": 9,
   "metadata": {},
   "outputs": [
    {
     "data": {
      "text/html": [
       "796"
      ],
      "text/latex": [
       "796"
      ],
      "text/markdown": [
       "796"
      ],
      "text/plain": [
       "[1] 796"
      ]
     },
     "metadata": {},
     "output_type": "display_data"
    }
   ],
   "source": [
    "length(unique(CBTTC_data_maf_sampleid$Tumor_Sample_Barcode))"
   ]
  },
  {
   "cell_type": "markdown",
   "metadata": {},
   "source": [
    "subset to samples included in total_mut_manifest_estimate_quanti"
   ]
  },
  {
   "cell_type": "code",
   "execution_count": 10,
   "metadata": {},
   "outputs": [
    {
     "data": {
      "text/html": [
       "<style>\n",
       ".list-inline {list-style: none; margin:0; padding: 0}\n",
       ".list-inline>li {display: inline-block}\n",
       ".list-inline>li:not(:last-child)::after {content: \"\\00b7\"; padding: 0 .5ex}\n",
       "</style>\n",
       "<ol class=list-inline><li>'CBTTC_data_maf'</li><li>'CBTTC_data_maf_sampleid'</li><li>'CBTTC_mafsummary'</li><li>'datapath'</li><li>'manifestpath'</li><li>'mymaf_CBTTC'</li><li>'plotpath'</li><li>'total_mut_manifest_estimate'</li></ol>\n"
      ],
      "text/latex": [
       "\\begin{enumerate*}\n",
       "\\item 'CBTTC\\_data\\_maf'\n",
       "\\item 'CBTTC\\_data\\_maf\\_sampleid'\n",
       "\\item 'CBTTC\\_mafsummary'\n",
       "\\item 'datapath'\n",
       "\\item 'manifestpath'\n",
       "\\item 'mymaf\\_CBTTC'\n",
       "\\item 'plotpath'\n",
       "\\item 'total\\_mut\\_manifest\\_estimate'\n",
       "\\end{enumerate*}\n"
      ],
      "text/markdown": [
       "1. 'CBTTC_data_maf'\n",
       "2. 'CBTTC_data_maf_sampleid'\n",
       "3. 'CBTTC_mafsummary'\n",
       "4. 'datapath'\n",
       "5. 'manifestpath'\n",
       "6. 'mymaf_CBTTC'\n",
       "7. 'plotpath'\n",
       "8. 'total_mut_manifest_estimate'\n",
       "\n",
       "\n"
      ],
      "text/plain": [
       "[1] \"CBTTC_data_maf\"              \"CBTTC_data_maf_sampleid\"    \n",
       "[3] \"CBTTC_mafsummary\"            \"datapath\"                   \n",
       "[5] \"manifestpath\"                \"mymaf_CBTTC\"                \n",
       "[7] \"plotpath\"                    \"total_mut_manifest_estimate\""
      ]
     },
     "metadata": {},
     "output_type": "display_data"
    }
   ],
   "source": [
    "ls()"
   ]
  },
  {
   "cell_type": "code",
   "execution_count": 11,
   "metadata": {},
   "outputs": [],
   "source": [
    "CBTTC_data_maf <- CBTTC_data_maf_sampleid[CBTTC_data_maf_sampleid$sample_id %in% total_mut_manifest_estimate$sample_id,]"
   ]
  },
  {
   "cell_type": "code",
   "execution_count": 12,
   "metadata": {},
   "outputs": [
    {
     "data": {
      "text/html": [
       "<style>\n",
       ".list-inline {list-style: none; margin:0; padding: 0}\n",
       ".list-inline>li {display: inline-block}\n",
       ".list-inline>li:not(:last-child)::after {content: \"\\00b7\"; padding: 0 .5ex}\n",
       "</style>\n",
       "<ol class=list-inline><li>'7316-2558'</li><li>'7316-3299'</li><li>'7316-3299'</li><li>'7316-3299'</li><li>'7316-3299'</li><li>'7316-3299'</li></ol>\n"
      ],
      "text/latex": [
       "\\begin{enumerate*}\n",
       "\\item '7316-2558'\n",
       "\\item '7316-3299'\n",
       "\\item '7316-3299'\n",
       "\\item '7316-3299'\n",
       "\\item '7316-3299'\n",
       "\\item '7316-3299'\n",
       "\\end{enumerate*}\n"
      ],
      "text/markdown": [
       "1. '7316-2558'\n",
       "2. '7316-3299'\n",
       "3. '7316-3299'\n",
       "4. '7316-3299'\n",
       "5. '7316-3299'\n",
       "6. '7316-3299'\n",
       "\n",
       "\n"
      ],
      "text/plain": [
       "[1] \"7316-2558\" \"7316-3299\" \"7316-3299\" \"7316-3299\" \"7316-3299\" \"7316-3299\""
      ]
     },
     "metadata": {},
     "output_type": "display_data"
    }
   ],
   "source": [
    "head(CBTTC_data_maf$sample_id)"
   ]
  },
  {
   "cell_type": "code",
   "execution_count": 13,
   "metadata": {},
   "outputs": [
    {
     "data": {
      "text/html": [
       "470"
      ],
      "text/latex": [
       "470"
      ],
      "text/markdown": [
       "470"
      ],
      "text/plain": [
       "[1] 470"
      ]
     },
     "metadata": {},
     "output_type": "display_data"
    }
   ],
   "source": [
    "length(unique(CBTTC_data_maf$Tumor_Sample_Barcode))"
   ]
  },
  {
   "cell_type": "markdown",
   "metadata": {},
   "source": [
    "## Clean up mupexi files to include mutations that are overlapped from strelka and mutect2 for cbttc"
   ]
  },
  {
   "cell_type": "markdown",
   "metadata": {},
   "source": [
    "CBTTC manifest that optitype and mutect2 vcf files are matched with sample ids and all. Use this to map mupexi filenames to sample_id"
   ]
  },
  {
   "cell_type": "code",
   "execution_count": 14,
   "metadata": {},
   "outputs": [],
   "source": [
    "opti_mutect2_cbttc <- read.table(file = paste0(manifestpath, \"mutect2_optitype_manifest_cbttc.txt\"),\n",
    "                        sep = \"\\t\", check.names = F, \n",
    "                        header = TRUE, stringsAsFactors = FALSE)"
   ]
  },
  {
   "cell_type": "code",
   "execution_count": 15,
   "metadata": {},
   "outputs": [
    {
     "data": {
      "text/html": [
       "<style>\n",
       ".list-inline {list-style: none; margin:0; padding: 0}\n",
       ".list-inline>li {display: inline-block}\n",
       ".list-inline>li:not(:last-child)::after {content: \"\\00b7\"; padding: 0 .5ex}\n",
       "</style>\n",
       "<ol class=list-inline><li>512</li><li>66</li></ol>\n"
      ],
      "text/latex": [
       "\\begin{enumerate*}\n",
       "\\item 512\n",
       "\\item 66\n",
       "\\end{enumerate*}\n"
      ],
      "text/markdown": [
       "1. 512\n",
       "2. 66\n",
       "\n",
       "\n"
      ],
      "text/plain": [
       "[1] 512  66"
      ]
     },
     "metadata": {},
     "output_type": "display_data"
    }
   ],
   "source": [
    "dim(opti_mutect2_cbttc)"
   ]
  },
  {
   "cell_type": "code",
   "execution_count": 16,
   "metadata": {},
   "outputs": [
    {
     "data": {
      "text/html": [
       "<style>\n",
       ".list-inline {list-style: none; margin:0; padding: 0}\n",
       ".list-inline>li {display: inline-block}\n",
       ".list-inline>li:not(:last-child)::after {content: \"\\00b7\"; padding: 0 .5ex}\n",
       "</style>\n",
       "<ol class=list-inline><li>'b5a7b96d-940c-475a-a439-32b898026903.recode.vcf'</li><li>'9ce2828c-bbcf-4112-a4cb-95cc69c72c81.recode.vcf'</li><li>'aa08d3dd-3ba7-4852-8929-eaa68c1e5856.recode.vcf'</li><li>'bd321ccc-ce04-4164-91fb-676105eef65e.recode.vcf'</li><li>'e31d632e-7cff-41de-b4da-57f5bf53a5c8.recode.vcf'</li><li>'d9eaced6-2f46-4876-90cd-3c2ff990615e.recode.vcf'</li></ol>\n"
      ],
      "text/latex": [
       "\\begin{enumerate*}\n",
       "\\item 'b5a7b96d-940c-475a-a439-32b898026903.recode.vcf'\n",
       "\\item '9ce2828c-bbcf-4112-a4cb-95cc69c72c81.recode.vcf'\n",
       "\\item 'aa08d3dd-3ba7-4852-8929-eaa68c1e5856.recode.vcf'\n",
       "\\item 'bd321ccc-ce04-4164-91fb-676105eef65e.recode.vcf'\n",
       "\\item 'e31d632e-7cff-41de-b4da-57f5bf53a5c8.recode.vcf'\n",
       "\\item 'd9eaced6-2f46-4876-90cd-3c2ff990615e.recode.vcf'\n",
       "\\end{enumerate*}\n"
      ],
      "text/markdown": [
       "1. 'b5a7b96d-940c-475a-a439-32b898026903.recode.vcf'\n",
       "2. '9ce2828c-bbcf-4112-a4cb-95cc69c72c81.recode.vcf'\n",
       "3. 'aa08d3dd-3ba7-4852-8929-eaa68c1e5856.recode.vcf'\n",
       "4. 'bd321ccc-ce04-4164-91fb-676105eef65e.recode.vcf'\n",
       "5. 'e31d632e-7cff-41de-b4da-57f5bf53a5c8.recode.vcf'\n",
       "6. 'd9eaced6-2f46-4876-90cd-3c2ff990615e.recode.vcf'\n",
       "\n",
       "\n"
      ],
      "text/plain": [
       "[1] \"b5a7b96d-940c-475a-a439-32b898026903.recode.vcf\"\n",
       "[2] \"9ce2828c-bbcf-4112-a4cb-95cc69c72c81.recode.vcf\"\n",
       "[3] \"aa08d3dd-3ba7-4852-8929-eaa68c1e5856.recode.vcf\"\n",
       "[4] \"bd321ccc-ce04-4164-91fb-676105eef65e.recode.vcf\"\n",
       "[5] \"e31d632e-7cff-41de-b4da-57f5bf53a5c8.recode.vcf\"\n",
       "[6] \"d9eaced6-2f46-4876-90cd-3c2ff990615e.recode.vcf\""
      ]
     },
     "metadata": {},
     "output_type": "display_data"
    }
   ],
   "source": [
    "head(opti_mutect2_cbttc$name)"
   ]
  },
  {
   "cell_type": "code",
   "execution_count": 17,
   "metadata": {},
   "outputs": [
    {
     "data": {
      "text/html": [
       "'/Users/anabbi/OneDrive - UHN/Documents/IPD2/Data/'"
      ],
      "text/latex": [
       "'/Users/anabbi/OneDrive - UHN/Documents/IPD2/Data/'"
      ],
      "text/markdown": [
       "'/Users/anabbi/OneDrive - UHN/Documents/IPD2/Data/'"
      ],
      "text/plain": [
       "[1] \"/Users/anabbi/OneDrive - UHN/Documents/IPD2/Data/\""
      ]
     },
     "metadata": {},
     "output_type": "display_data"
    }
   ],
   "source": [
    "datapath"
   ]
  },
  {
   "cell_type": "code",
   "execution_count": 18,
   "metadata": {},
   "outputs": [],
   "source": [
    "mountpath <- \"/Users/anabbi/Desktop/H4H/immpedcan/antigen_prediction/output/\""
   ]
  },
  {
   "cell_type": "code",
   "execution_count": 22,
   "metadata": {},
   "outputs": [],
   "source": [
    "flelist <- list.files(mountpath, pattern = \"mupexi\")"
   ]
  },
  {
   "cell_type": "code",
   "execution_count": 23,
   "metadata": {},
   "outputs": [
    {
     "data": {
      "text/html": [
       "603"
      ],
      "text/latex": [
       "603"
      ],
      "text/markdown": [
       "603"
      ],
      "text/plain": [
       "[1] 603"
      ]
     },
     "metadata": {},
     "output_type": "display_data"
    }
   ],
   "source": [
    "length(flelist)"
   ]
  },
  {
   "cell_type": "code",
   "execution_count": 24,
   "metadata": {
    "scrolled": true
   },
   "outputs": [
    {
     "data": {
      "text/html": [
       "470"
      ],
      "text/latex": [
       "470"
      ],
      "text/markdown": [
       "470"
      ],
      "text/plain": [
       "[1] 470"
      ]
     },
     "metadata": {},
     "output_type": "display_data"
    }
   ],
   "source": [
    "length(unique(CBTTC_data_maf$sample_id))"
   ]
  },
  {
   "cell_type": "code",
   "execution_count": 25,
   "metadata": {
    "scrolled": true
   },
   "outputs": [
    {
     "name": "stdout",
     "output_type": "stream",
     "text": [
      "[1] \"00267954-7696-4d50-b48b-75d0ae76dafc.mupexi\"\n"
     ]
    },
    {
     "name": "stderr",
     "output_type": "stream",
     "text": [
      "sample_id not found\n",
      "\n"
     ]
    },
    {
     "name": "stdout",
     "output_type": "stream",
     "text": [
      "[1] \"00382118-5ea5-447b-9ec3-b36ad8d2a2f7.mupexi\"\n"
     ]
    },
    {
     "name": "stderr",
     "output_type": "stream",
     "text": [
      "sample_id not found\n",
      "\n"
     ]
    },
    {
     "name": "stdout",
     "output_type": "stream",
     "text": [
      "[1] \"0062aa93-2238-46cc-82fb-a4a1fe8eb19e.mupexi\"\n",
      "[1] \"0167ee47-7441-4965-8cd8-c7b607fcca22.mupexi\"\n",
      "[1] \"01a07f01-2f87-4b88-9aeb-d2bffdb75a24.mupexi\"\n",
      "[1] \"01c6d153-7b01-418a-be36-4f0dbee5e85c.mupexi\"\n",
      "[1] \"041816ac-abd8-4f4a-af58-4b186bd5dc03.mupexi\"\n",
      "[1] \"0436934f-3c8f-490e-bba8-f04ac7dcb58c.mupexi\"\n",
      "[1] \"0449d846-0d30-4749-95e0-51085f07a4ed.mupexi\"\n",
      "[1] \"04b96cbf-d1c2-434a-ab0e-0b2931414964.mupexi\"\n",
      "[1] \"053dac4d-c91e-457b-8194-6272e0affeba.mupexi\"\n",
      "[1] \"05c2f817-353b-45af-b386-8214339d498f.mupexi\"\n",
      "[1] \"074c52e2-5774-4695-8e0c-78e3b3856457.mupexi\"\n"
     ]
    },
    {
     "name": "stderr",
     "output_type": "stream",
     "text": [
      "sample_id not found\n",
      "\n"
     ]
    },
    {
     "name": "stdout",
     "output_type": "stream",
     "text": [
      "[1] \"08366cf8-3bfe-477a-9819-f50949cda8b3.mupexi\"\n",
      "[1] \"088b27bd-d952-4b81-9978-b3da0392c5dc.mupexi\"\n"
     ]
    },
    {
     "name": "stderr",
     "output_type": "stream",
     "text": [
      "sample_id not found\n",
      "\n"
     ]
    },
    {
     "name": "stdout",
     "output_type": "stream",
     "text": [
      "[1] \"088de9c9-b8b8-4943-896a-0b13b2aa387a.mupexi\"\n"
     ]
    },
    {
     "name": "stderr",
     "output_type": "stream",
     "text": [
      "sample_id not found\n",
      "\n"
     ]
    },
    {
     "name": "stdout",
     "output_type": "stream",
     "text": [
      "[1] \"089b5063-561c-46e2-82c4-21d0ed283720.mupexi\"\n",
      "[1] \"093584ea-a64b-4031-828c-3ff0a82bfeb4.mupexi\"\n"
     ]
    },
    {
     "name": "stderr",
     "output_type": "stream",
     "text": [
      "sample_id not found\n",
      "\n"
     ]
    },
    {
     "name": "stdout",
     "output_type": "stream",
     "text": [
      "[1] \"09b73206-ab2a-4295-9e66-789e6a6d745f.mupexi\"\n",
      "[1] \"0a54bd69-84a2-499f-8349-cd028da812d3.mupexi\"\n",
      "[1] \"0a6274e8-dbd3-4c58-9482-988c2226cd64.mupexi\"\n",
      "[1] \"0aeac7e6-075e-433d-8482-a41a257af3c0.mupexi\"\n",
      "[1] \"0b91a297-a087-4265-b0ad-f5f3558b3ba8.mupexi\"\n",
      "[1] \"0b9c2ce2-cbb1-4a84-88d1-f85288d0e7b7.mupexi\"\n",
      "[1] \"0bca1517-31a1-4d75-8b9b-f48479826ba7.mupexi\"\n"
     ]
    },
    {
     "name": "stderr",
     "output_type": "stream",
     "text": [
      "sample_id not found\n",
      "\n"
     ]
    },
    {
     "name": "stdout",
     "output_type": "stream",
     "text": [
      "[1] \"0cc7ffd6-3f34-46ea-b00b-08a29904c574.mupexi\"\n"
     ]
    },
    {
     "name": "stderr",
     "output_type": "stream",
     "text": [
      "sample_id not found\n",
      "\n"
     ]
    },
    {
     "name": "stdout",
     "output_type": "stream",
     "text": [
      "[1] \"0d2d6e96-f6ff-48b7-bc1a-a60dc097caff.mupexi\"\n"
     ]
    },
    {
     "name": "stderr",
     "output_type": "stream",
     "text": [
      "sample_id not found\n",
      "\n"
     ]
    },
    {
     "name": "stdout",
     "output_type": "stream",
     "text": [
      "[1] \"0d43de19-c871-4f68-b897-43fd15c9dda6.mupexi\"\n"
     ]
    },
    {
     "name": "stderr",
     "output_type": "stream",
     "text": [
      "sample_id not found\n",
      "\n"
     ]
    },
    {
     "name": "stdout",
     "output_type": "stream",
     "text": [
      "[1] \"0dd8ae48-5b11-493e-9faa-a3737cfbc6c7.mupexi\"\n",
      "[1] \"0e039123-8a92-4dec-91bc-b64177b948b5.mupexi\"\n",
      "[1] \"0e8a0673-0b4b-404d-a60b-4d384c2cc227.mupexi\"\n",
      "[1] \"0ea24b59-6a6c-4299-a895-615eb653e7e5.mupexi\"\n",
      "[1] \"0ed70caa-49be-43cb-9301-371d7df5a104.mupexi\"\n"
     ]
    },
    {
     "name": "stderr",
     "output_type": "stream",
     "text": [
      "sample_id not found\n",
      "\n"
     ]
    },
    {
     "name": "stdout",
     "output_type": "stream",
     "text": [
      "[1] \"0ee4ef38-c781-4b85-b833-c4ffcf6d7e84.mupexi\"\n",
      "[1] \"10dec9c2-e8df-4f11-9b51-7e7fc441eabc.mupexi\"\n",
      "[1] \"11e57630-632e-4eba-9ce7-0cfdc7c5b04a.mupexi\"\n",
      "[1] \"11ea8b38-e0b1-4fda-92fa-4294b84d6bf6.mupexi\"\n"
     ]
    },
    {
     "name": "stderr",
     "output_type": "stream",
     "text": [
      "sample_id not found\n",
      "\n"
     ]
    },
    {
     "name": "stdout",
     "output_type": "stream",
     "text": [
      "[1] \"1227d2b8-47d2-49a4-ad3e-6e6e41c6e01f.mupexi\"\n",
      "[1] \"12d78836-814e-425e-8240-b2beb24291cb.mupexi\"\n"
     ]
    },
    {
     "name": "stderr",
     "output_type": "stream",
     "text": [
      "sample_id not found\n",
      "\n"
     ]
    },
    {
     "name": "stdout",
     "output_type": "stream",
     "text": [
      "[1] \"12eb6ea9-2d22-41c9-b905-6f0974ca8ae9.mupexi\"\n",
      "[1] \"147ae649-45a6-4204-bae4-663f841590b2.mupexi\"\n",
      "[1] \"150ac495-34a5-4013-97c6-567be7a2b20d.mupexi\"\n",
      "[1] \"15da26c2-c910-4486-9f47-ababc62db5bb.mupexi\"\n",
      "[1] \"16a950cc-7fa2-4731-a21d-4116a0b3da0b.mupexi\"\n"
     ]
    },
    {
     "name": "stderr",
     "output_type": "stream",
     "text": [
      "sample_id not found\n",
      "\n"
     ]
    },
    {
     "name": "stdout",
     "output_type": "stream",
     "text": [
      "[1] \"16e58041-f05f-44d1-9d9b-5994645fc270.mupexi\"\n",
      "[1] \"171af150-3570-4ff3-a9ef-67e13b0100ef.mupexi\"\n",
      "[1] \"176ff57c-34ff-4080-b9ce-398a0ac1a065.mupexi\"\n",
      "[1] \"1790f752-e543-4cac-8e5f-b0bf2cf4d5b3.mupexi\"\n",
      "[1] \"17b19c91-ec0c-4766-8681-610001464812.mupexi\"\n",
      "[1] \"17e8c673-64af-4c7f-bf52-d485aa8a9adf.mupexi\"\n"
     ]
    },
    {
     "name": "stderr",
     "output_type": "stream",
     "text": [
      "sample_id not found\n",
      "\n"
     ]
    },
    {
     "name": "stdout",
     "output_type": "stream",
     "text": [
      "[1] \"1816fe9c-fa0e-425b-8713-afddc6af04be.mupexi\"\n",
      "[1] \"197c47a2-b20d-412c-9fe7-06a9aee2b99a.mupexi\"\n",
      "[1] \"1982a00c-1af6-491c-9c7c-c31590ff0b3e.mupexi\"\n"
     ]
    },
    {
     "name": "stderr",
     "output_type": "stream",
     "text": [
      "sample_id not found\n",
      "\n"
     ]
    },
    {
     "name": "stdout",
     "output_type": "stream",
     "text": [
      "[1] \"19e247d5-cc65-4925-87a3-092062549b7a.mupexi\"\n",
      "[1] \"1a513bbf-c48e-4e4e-8df9-7fb80c36683f.mupexi\"\n"
     ]
    },
    {
     "name": "stderr",
     "output_type": "stream",
     "text": [
      "sample_id not found\n",
      "\n"
     ]
    },
    {
     "name": "stdout",
     "output_type": "stream",
     "text": [
      "[1] \"1aed89d3-814f-45ce-873e-54bd7e82262d.mupexi\"\n",
      "[1] \"1afd7218-3d4b-45cd-ad77-ffdb279b2d50.mupexi\"\n",
      "[1] \"1b195e8a-a6bf-4a3f-8cd3-2bb7f0410cd8.mupexi\"\n"
     ]
    },
    {
     "name": "stderr",
     "output_type": "stream",
     "text": [
      "sample_id not found\n",
      "\n"
     ]
    },
    {
     "name": "stdout",
     "output_type": "stream",
     "text": [
      "[1] \"1b829a83-b099-4507-94af-da4206a9a36d.mupexi\"\n",
      "[1] \"1c72d8ed-65ca-45d6-ab04-52e60b010279.mupexi\"\n"
     ]
    },
    {
     "name": "stderr",
     "output_type": "stream",
     "text": [
      "sample_id not found\n",
      "\n"
     ]
    },
    {
     "name": "stdout",
     "output_type": "stream",
     "text": [
      "[1] \"1cc5ea17-b734-4afa-b91f-95d632326ea2.mupexi\"\n",
      "[1] \"1ccbe7de-f0ca-4c59-9417-b1a82ad615a2.mupexi\"\n"
     ]
    },
    {
     "name": "stderr",
     "output_type": "stream",
     "text": [
      "sample_id not found\n",
      "\n"
     ]
    },
    {
     "name": "stdout",
     "output_type": "stream",
     "text": [
      "[1] \"1d684e1f-f6aa-41e2-8eaa-3997317af1d5.mupexi\"\n",
      "[1] \"1d92e16d-509b-4731-bc10-2d7a255484fe.mupexi\"\n",
      "[1] \"1dffc704-d06c-4cae-9d1d-61f5c280f71f.mupexi\"\n",
      "[1] \"1e636ab2-035e-4595-9e16-36929f99ddab.mupexi\"\n",
      "[1] \"1edf0d04-83b4-4f88-9542-76c57dae7f4a.mupexi\"\n"
     ]
    },
    {
     "name": "stderr",
     "output_type": "stream",
     "text": [
      "sample_id not found\n",
      "\n"
     ]
    },
    {
     "name": "stdout",
     "output_type": "stream",
     "text": [
      "[1] \"1ff11cd8-822a-4901-aa23-34291887ff3c.mupexi\"\n"
     ]
    },
    {
     "name": "stderr",
     "output_type": "stream",
     "text": [
      "sample_id not found\n",
      "\n"
     ]
    },
    {
     "name": "stdout",
     "output_type": "stream",
     "text": [
      "[1] \"202afd05-6ce1-4b23-858c-11a8c814f382.mupexi\"\n",
      "[1] \"2040d047-889a-4c66-b3b4-071d8fe98a78.mupexi\"\n",
      "[1] \"2052fda4-f1ab-4eb5-9fb8-033df48e521a.mupexi\"\n",
      "[1] \"20c75d5b-3315-4852-b507-72156a3cf064.mupexi\"\n"
     ]
    },
    {
     "name": "stderr",
     "output_type": "stream",
     "text": [
      "sample_id not found\n",
      "\n"
     ]
    },
    {
     "name": "stdout",
     "output_type": "stream",
     "text": [
      "[1] \"20d67e99-3cde-4ac9-a3c9-22827ddda410.mupexi\"\n"
     ]
    },
    {
     "name": "stderr",
     "output_type": "stream",
     "text": [
      "sample_id not found\n",
      "\n"
     ]
    },
    {
     "name": "stdout",
     "output_type": "stream",
     "text": [
      "[1] \"215f4b02-53c6-411e-a27d-ff77b9149877.mupexi\"\n",
      "[1] \"21b2a85f-fae8-4b58-8dce-42cb7a0ed258.mupexi\"\n",
      "[1] \"21e15930-002c-414a-bad0-1a620d02cacc.mupexi\"\n"
     ]
    },
    {
     "name": "stderr",
     "output_type": "stream",
     "text": [
      "sample_id not found\n",
      "\n"
     ]
    },
    {
     "name": "stdout",
     "output_type": "stream",
     "text": [
      "[1] \"220c1c44-afc2-4735-8b3f-b88809caf5c1.mupexi\"\n",
      "[1] \"222170f6-2364-4bc6-866b-acb714028663.mupexi\"\n",
      "[1] \"222d6b61-16c8-4e97-987d-aec73f00c6bf.mupexi\"\n",
      "[1] \"2258f225-714c-4b1d-a6bb-9ae4c93dc918.mupexi\"\n",
      "[1] \"2273908f-42e9-40aa-8412-3066f390bd16.mupexi\"\n"
     ]
    },
    {
     "name": "stderr",
     "output_type": "stream",
     "text": [
      "sample_id not found\n",
      "\n"
     ]
    },
    {
     "name": "stdout",
     "output_type": "stream",
     "text": [
      "[1] \"22f6d33d-ce47-4c2b-bc6b-cee1122cee02.mupexi\"\n",
      "[1] \"23d4947b-6ff8-4916-a863-d5e8d6695d5b.mupexi\"\n"
     ]
    },
    {
     "name": "stderr",
     "output_type": "stream",
     "text": [
      "sample_id not found\n",
      "\n"
     ]
    },
    {
     "name": "stdout",
     "output_type": "stream",
     "text": [
      "[1] \"23ff75f6-21f0-40dd-8ec1-dcd2e1214bd4.mupexi\"\n",
      "[1] \"24841da3-1d77-4b82-b9ad-0c249579da98.mupexi\"\n",
      "[1] \"2494049e-308f-42f6-a5b4-ec793ba30705.mupexi\"\n",
      "[1] \"24ccc8a4-6307-4c31-9ff1-6ef51e95bb97.mupexi\"\n",
      "[1] \"25b31fbd-b16d-440d-adb4-b89148986894.mupexi\"\n"
     ]
    },
    {
     "name": "stderr",
     "output_type": "stream",
     "text": [
      "sample_id not found\n",
      "\n"
     ]
    },
    {
     "name": "stdout",
     "output_type": "stream",
     "text": [
      "[1] \"25cfc88b-d995-47a0-9d59-4b34378a3b36.mupexi\"\n",
      "[1] \"25f00fa7-c590-4fbd-9aef-adea175118cf.mupexi\"\n",
      "[1] \"2653e587-f1e1-40f2-8f61-1266459d0f07.mupexi\"\n",
      "[1] \"26b2eea5-8da2-4f15-8cf7-2fe5df211291.mupexi\"\n",
      "[1] \"26c2e152-1edb-4d95-a6da-895ee8277b05.mupexi\"\n",
      "[1] \"26d17350-d260-4375-8742-c24021b69a34.mupexi\"\n",
      "[1] \"26fa6b96-6582-4222-bdc4-8850b264994c.mupexi\"\n"
     ]
    },
    {
     "name": "stderr",
     "output_type": "stream",
     "text": [
      "sample_id not found\n",
      "\n"
     ]
    },
    {
     "name": "stdout",
     "output_type": "stream",
     "text": [
      "[1] \"27342957-bab8-4d68-a2cb-2f2107f7ab17.mupexi\"\n",
      "[1] \"275546ba-cbd9-4845-ba83-894ff594fdc3.mupexi\"\n",
      "[1] \"27eb60f4-3a24-4769-abf4-49340c5eb9d7.mupexi\"\n",
      "[1] \"29b1cee0-7b86-46a6-a40f-494c12ba64fd.mupexi\"\n",
      "[1] \"29c13f27-0009-4e34-a3bf-313c0f2741b9.mupexi\"\n",
      "[1] \"29e16710-2ebe-4bfb-9e29-f9c5aaeb2a9e.mupexi\"\n"
     ]
    },
    {
     "name": "stderr",
     "output_type": "stream",
     "text": [
      "sample_id not found\n",
      "\n"
     ]
    },
    {
     "name": "stdout",
     "output_type": "stream",
     "text": [
      "[1] \"2a319bcf-5d5d-4926-9e7a-c74946462d0f.mupexi\"\n",
      "[1] \"2a328c56-70db-418a-97cf-c46e470d2ac8.mupexi\"\n"
     ]
    },
    {
     "name": "stderr",
     "output_type": "stream",
     "text": [
      "sample_id not found\n",
      "\n"
     ]
    },
    {
     "name": "stdout",
     "output_type": "stream",
     "text": [
      "[1] \"2a43a02b-8589-4a5c-a019-016d3e181d75.mupexi\"\n",
      "[1] \"2ac01767-5c08-4a8a-8d58-10a1c7a9e86d.mupexi\"\n"
     ]
    },
    {
     "name": "stderr",
     "output_type": "stream",
     "text": [
      "sample_id not found\n",
      "\n"
     ]
    },
    {
     "name": "stdout",
     "output_type": "stream",
     "text": [
      "[1] \"2b4bbfff-d7e7-4bfd-b206-e187000db388.mupexi\"\n",
      "[1] \"2c344484-8d56-4ea5-9841-784c62c23727.mupexi\"\n",
      "[1] \"2c65bcf0-4d3c-45e6-8593-889501d86933.mupexi\"\n",
      "[1] \"2caf681f-c3d4-4316-b551-225e26be4d30.mupexi\"\n",
      "[1] \"2d8cfd53-aac6-4d47-833f-964a463a8842.mupexi\"\n",
      "[1] \"2da66ed8-0d65-41a8-a375-dad2658ee1e4.mupexi\"\n",
      "[1] \"2e184314-64db-40a5-ba29-280ecff9215c.mupexi\"\n",
      "[1] \"2e57f47a-1a8c-4ba7-a1a8-65c4394d1773.mupexi\"\n"
     ]
    },
    {
     "name": "stderr",
     "output_type": "stream",
     "text": [
      "sample_id not found\n",
      "\n"
     ]
    },
    {
     "name": "stdout",
     "output_type": "stream",
     "text": [
      "[1] \"2ebbc27a-7929-421f-926b-73abb3b891ad.mupexi\"\n",
      "[1] \"2f872154-c730-4e81-9d61-225a0a10ebe1.mupexi\"\n",
      "[1] \"30096123-2fb3-4a5a-82da-3c926f9d3754.mupexi\"\n",
      "[1] \"3052a94b-e5c9-4d6d-8305-ca7adfe05aed.mupexi\"\n",
      "[1] \"30e54cc2-f9f9-4bdb-88f8-2eb2ea145050.mupexi\"\n"
     ]
    },
    {
     "name": "stderr",
     "output_type": "stream",
     "text": [
      "sample_id not found\n",
      "\n"
     ]
    },
    {
     "name": "stdout",
     "output_type": "stream",
     "text": [
      "[1] \"3107f140-7423-4ab0-96de-bdd49bb55bfe.mupexi\"\n",
      "[1] \"318bf268-a443-4c94-9627-933a2e3b594b.mupexi\"\n"
     ]
    },
    {
     "name": "stderr",
     "output_type": "stream",
     "text": [
      "sample_id not found\n",
      "\n"
     ]
    },
    {
     "name": "stdout",
     "output_type": "stream",
     "text": [
      "[1] \"321d0635-c5a6-45ba-86ac-22f6e61cf675.mupexi\"\n"
     ]
    },
    {
     "name": "stderr",
     "output_type": "stream",
     "text": [
      "sample_id not found\n",
      "\n"
     ]
    },
    {
     "name": "stdout",
     "output_type": "stream",
     "text": [
      "[1] \"323147f5-7177-4904-89e6-1ec2448cd9ff.mupexi\"\n"
     ]
    },
    {
     "name": "stderr",
     "output_type": "stream",
     "text": [
      "sample_id not found\n",
      "\n"
     ]
    },
    {
     "name": "stdout",
     "output_type": "stream",
     "text": [
      "[1] \"323e4189-26fc-47b8-8e4b-00cf69812d99.mupexi\"\n",
      "[1] \"328b9398-3363-4cf2-917f-b437cbdfd397.mupexi\"\n"
     ]
    },
    {
     "name": "stderr",
     "output_type": "stream",
     "text": [
      "sample_id not found\n",
      "\n"
     ]
    },
    {
     "name": "stdout",
     "output_type": "stream",
     "text": [
      "[1] \"334edba0-590f-4b15-ab8e-20055e31e7db.mupexi\"\n",
      "[1] \"3374a50a-a41c-4eb1-8a11-fe326840c599.mupexi\"\n",
      "[1] \"3407fdd7-484e-4d09-8974-cc84c58efd72.mupexi\"\n",
      "[1] \"34eb804c-64a9-4a29-be21-336ac6e48862.mupexi\"\n",
      "[1] \"371e1df7-b064-498f-8460-3a8f1e83ced5.mupexi\"\n",
      "[1] \"37ce26c6-4807-4424-81e3-31f632d59812.mupexi\"\n"
     ]
    },
    {
     "name": "stderr",
     "output_type": "stream",
     "text": [
      "sample_id not found\n",
      "\n"
     ]
    },
    {
     "name": "stdout",
     "output_type": "stream",
     "text": [
      "[1] \"37fad6f5-ee67-409c-ba0c-12e369a083f0.mupexi\"\n",
      "[1] \"38733f65-a23d-486e-b3d9-3f3f6a5b90ba.mupexi\"\n",
      "[1] \"388054d3-11aa-4eb5-b97a-7785208263f4.mupexi\"\n"
     ]
    },
    {
     "name": "stderr",
     "output_type": "stream",
     "text": [
      "sample_id not found\n",
      "\n"
     ]
    },
    {
     "name": "stdout",
     "output_type": "stream",
     "text": [
      "[1] \"389e0aff-e865-43f2-863f-3240fd767922.mupexi\"\n",
      "[1] \"3a13b1ca-4995-444d-8e5c-a9942820b706.mupexi\"\n",
      "[1] \"3a7da625-9914-432e-be8a-90a8fe62b568.mupexi\"\n",
      "[1] \"3add7849-d202-47c4-b898-c0c09749fde3.mupexi\"\n"
     ]
    },
    {
     "name": "stderr",
     "output_type": "stream",
     "text": [
      "sample_id not found\n",
      "\n"
     ]
    },
    {
     "name": "stdout",
     "output_type": "stream",
     "text": [
      "[1] \"3b09f757-092b-4ecd-a300-a7cfa09da907.mupexi\"\n",
      "[1] \"3b8f614d-c6b5-4ebe-8077-365506d1c5c3.mupexi\"\n",
      "[1] \"3b9bd628-9f58-4097-9c8a-0e4f9b4e9abc.mupexi\"\n",
      "[1] \"3bb28e0d-06cc-4687-a8c9-e6d5885abaa2.mupexi\"\n"
     ]
    },
    {
     "name": "stderr",
     "output_type": "stream",
     "text": [
      "sample_id not found\n",
      "\n"
     ]
    },
    {
     "name": "stdout",
     "output_type": "stream",
     "text": [
      "[1] \"3be7fbe0-67ba-478a-8239-c2eadd460daa.mupexi\"\n"
     ]
    },
    {
     "name": "stderr",
     "output_type": "stream",
     "text": [
      "sample_id not found\n",
      "\n"
     ]
    },
    {
     "name": "stdout",
     "output_type": "stream",
     "text": [
      "[1] \"3c4b780d-3ada-4ac6-be6b-a6c0cbc54002.mupexi\"\n",
      "[1] \"3c6371f0-ccf1-4169-b6a6-c5a5bf0da6ba.mupexi\"\n",
      "[1] \"3c763030-cad0-4686-a1f0-90ca484ea1a4.mupexi\"\n",
      "[1] \"3c82a595-f04f-41ae-8005-74025ebc6c1d.mupexi\"\n",
      "[1] \"3cc62c47-b473-4e79-865f-8ac3cb63977f.mupexi\"\n"
     ]
    },
    {
     "name": "stderr",
     "output_type": "stream",
     "text": [
      "sample_id not found\n",
      "\n"
     ]
    },
    {
     "name": "stdout",
     "output_type": "stream",
     "text": [
      "[1] \"3cc78e5c-5bb8-429a-8959-538d035bb778.mupexi\"\n",
      "[1] \"3d3eb24e-fb87-472a-8942-61680bec6808.mupexi\"\n",
      "[1] \"3de5fad0-115b-486a-9905-cf8e3efdfb83.mupexi\"\n",
      "[1] \"3e089060-4ea9-48b3-88b6-a186e373a365.mupexi\"\n",
      "[1] \"3e79354f-c2a7-4818-ad0d-17c06cdc11fb.mupexi\"\n",
      "[1] \"3ea6f268-2bf9-4446-8798-c9f4d8dcb3da.mupexi\"\n"
     ]
    },
    {
     "name": "stderr",
     "output_type": "stream",
     "text": [
      "sample_id not found\n",
      "\n"
     ]
    },
    {
     "name": "stdout",
     "output_type": "stream",
     "text": [
      "[1] \"3ed46146-a1b7-49cc-9144-4de8d1c00659.mupexi\"\n",
      "[1] \"3edbe29f-7047-4746-8b4b-056694d548cf.mupexi\"\n",
      "[1] \"3ee7ecbb-5b06-4867-9428-389bb0f92cbc.mupexi\"\n",
      "[1] \"3f71223b-4a4c-4fe4-aaf7-c9cba53edefb.mupexi\"\n",
      "[1] \"3f9a2408-a684-4de8-9c53-7426af134f81.mupexi\"\n",
      "[1] \"3fc75703-0aec-4921-afd1-329908bd3e1c.mupexi\"\n"
     ]
    },
    {
     "name": "stderr",
     "output_type": "stream",
     "text": [
      "sample_id not found\n",
      "\n"
     ]
    },
    {
     "name": "stdout",
     "output_type": "stream",
     "text": [
      "[1] \"411f07a1-8983-47e7-a7c6-93b4aaa65750.mupexi\"\n"
     ]
    },
    {
     "name": "stderr",
     "output_type": "stream",
     "text": [
      "sample_id not found\n",
      "\n"
     ]
    },
    {
     "name": "stdout",
     "output_type": "stream",
     "text": [
      "[1] \"41301414-7f9a-446f-973d-3c615c0ce67d.mupexi\"\n",
      "[1] \"4163ac02-0bef-4837-b458-2e2b2247bb90.mupexi\"\n"
     ]
    },
    {
     "name": "stderr",
     "output_type": "stream",
     "text": [
      "sample_id not found\n",
      "\n"
     ]
    },
    {
     "name": "stdout",
     "output_type": "stream",
     "text": [
      "[1] \"41ab5915-675f-471a-97f3-b0bb04de4157.mupexi\"\n",
      "[1] \"41cb9760-f672-4ee7-bafb-6b3057b5837e.mupexi\"\n",
      "[1] \"4201e655-bfd6-4e3e-a406-47fe00b1d318.mupexi\"\n",
      "[1] \"421b3349-2db6-4a03-9e31-b06fd987c3dd.mupexi\"\n",
      "[1] \"4274f97f-afeb-4a5c-b468-44f7fb02c27f.mupexi\"\n",
      "[1] \"42789e84-03aa-45b6-bf47-48a4dd0e0865.mupexi\"\n",
      "[1] \"434edf54-9c58-41bb-8a67-6a1376d82695.mupexi\"\n",
      "[1] \"44052896-9582-4c03-b4c3-2a8cbec1f1ab.mupexi\"\n",
      "[1] \"443fefc8-6bbd-443a-844f-a57376a0fcec.mupexi\"\n",
      "[1] \"446e2cd7-5565-4f64-996e-4021882beec3.mupexi\"\n"
     ]
    },
    {
     "name": "stderr",
     "output_type": "stream",
     "text": [
      "sample_id not found\n",
      "\n"
     ]
    },
    {
     "name": "stdout",
     "output_type": "stream",
     "text": [
      "[1] \"4473c312-fc85-4d8f-b41b-a185a0b75e73.mupexi\"\n",
      "[1] \"44c5fe9c-5917-47aa-b403-b4a7b1a17230.mupexi\"\n",
      "[1] \"44c71f41-0ef9-4a0d-9ae4-00eb2f7dad10.mupexi\"\n",
      "[1] \"44fca4d9-0a93-4d9c-b089-2adf16a42573.mupexi\"\n",
      "[1] \"46227ccd-743a-42d2-9954-3a9d50d8a1c5.mupexi\"\n"
     ]
    },
    {
     "name": "stderr",
     "output_type": "stream",
     "text": [
      "sample_id not found\n",
      "\n"
     ]
    },
    {
     "name": "stdout",
     "output_type": "stream",
     "text": [
      "[1] \"469f519c-9562-4b7d-89e9-4c607f5298aa.mupexi\"\n",
      "[1] \"46f39634-b6c0-47c7-89bf-a9478dca0038.mupexi\"\n",
      "[1] \"473b2d0f-2336-46b5-8eb9-6b4d059f0e51.mupexi\"\n",
      "[1] \"474a895c-c771-47d9-8c07-1939a134d504.mupexi\"\n",
      "[1] \"479533bb-e1e2-4bd1-bbaa-cef9dfb97a2f.mupexi\"\n",
      "[1] \"47cf2c1d-2442-481c-a2fd-ca76009a56cf.mupexi\"\n"
     ]
    },
    {
     "name": "stderr",
     "output_type": "stream",
     "text": [
      "sample_id not found\n",
      "\n"
     ]
    },
    {
     "name": "stdout",
     "output_type": "stream",
     "text": [
      "[1] \"4828d1e1-8dca-4385-b8a2-5bfb9d950987.mupexi\"\n",
      "[1] \"48a17ac5-cec6-4f39-8e29-8b551c858332.mupexi\"\n",
      "[1] \"48df6544-f1a6-46e4-a92c-ba81d5fe287c.mupexi\"\n",
      "[1] \"498d56ba-c291-42b4-b05c-3cee6922c7a3.mupexi\"\n"
     ]
    },
    {
     "name": "stderr",
     "output_type": "stream",
     "text": [
      "sample_id not found\n",
      "\n"
     ]
    },
    {
     "name": "stdout",
     "output_type": "stream",
     "text": [
      "[1] \"4b6c8440-6d4e-4862-a615-e594d9e5310e.mupexi\"\n",
      "[1] \"4b8b3c8b-76e7-4e48-bb1c-26f1b97c8897.mupexi\"\n",
      "[1] \"4ba9f95c-bbad-4d59-bc37-6cc6c756e261.mupexi\"\n",
      "[1] \"4c156bda-b149-4615-a047-2d74074586c4.mupexi\"\n",
      "[1] \"4c85165a-b979-4135-b776-c511bca4f1b2.mupexi\"\n",
      "[1] \"4db0bcf7-f352-47df-aae4-1f0956282e2d.mupexi\"\n",
      "[1] \"4df21990-17d0-4742-8820-ce55aa17d799.mupexi\"\n"
     ]
    },
    {
     "name": "stderr",
     "output_type": "stream",
     "text": [
      "sample_id not found\n",
      "\n"
     ]
    },
    {
     "name": "stdout",
     "output_type": "stream",
     "text": [
      "[1] \"4e2a9efc-0d75-4135-b38d-286a555acf25.mupexi\"\n",
      "[1] \"4eb81485-1392-4284-ae0f-859179485cca.mupexi\"\n",
      "[1] \"4f088e71-b7ca-465b-be6c-e6c7e7122776.mupexi\"\n"
     ]
    },
    {
     "name": "stderr",
     "output_type": "stream",
     "text": [
      "sample_id not found\n",
      "\n"
     ]
    },
    {
     "name": "stdout",
     "output_type": "stream",
     "text": [
      "[1] \"4f535ae3-3ab5-4285-8cf4-6b9a09336f38.mupexi\"\n",
      "[1] \"4fcb7635-9a03-432f-801f-1e4ba192caec.mupexi\"\n",
      "[1] \"50c23c29-dc46-4412-be84-b38f1558abb5.mupexi\"\n",
      "[1] \"50cd61fc-e9a0-4ac5-a585-2a82742fda93.mupexi\"\n",
      "[1] \"50cf1d8c-88e7-463b-b6dc-4014c4073084.mupexi\"\n"
     ]
    },
    {
     "name": "stderr",
     "output_type": "stream",
     "text": [
      "sample_id not found\n",
      "\n"
     ]
    },
    {
     "name": "stdout",
     "output_type": "stream",
     "text": [
      "[1] \"5106ffe7-3023-41de-8d50-85d06ccfe1d4.mupexi\"\n",
      "[1] \"51e0c806-fc9c-4e9f-9e04-357249694257.mupexi\"\n",
      "[1] \"523a1197-d859-4095-a1b8-60b22e303780.mupexi\"\n"
     ]
    },
    {
     "name": "stderr",
     "output_type": "stream",
     "text": [
      "sample_id not found\n",
      "\n"
     ]
    },
    {
     "name": "stdout",
     "output_type": "stream",
     "text": [
      "[1] \"52401d87-c154-4644-ac2f-2569d0530367.mupexi\"\n"
     ]
    },
    {
     "name": "stderr",
     "output_type": "stream",
     "text": [
      "sample_id not found\n",
      "\n"
     ]
    },
    {
     "name": "stdout",
     "output_type": "stream",
     "text": [
      "[1] \"527b9cee-15fb-4271-b629-9663330ac223.mupexi\"\n",
      "[1] \"52f7b1f4-74ed-4dff-a64a-9b2a1f08dacf.mupexi\"\n",
      "[1] \"531f99ca-e2b7-48d2-9fbb-7c9a1c31766f.mupexi\"\n",
      "[1] \"550b9e88-636b-4723-b2ce-45f07f59cdf1.mupexi\"\n"
     ]
    },
    {
     "name": "stderr",
     "output_type": "stream",
     "text": [
      "sample_id not found\n",
      "\n"
     ]
    },
    {
     "name": "stdout",
     "output_type": "stream",
     "text": [
      "[1] \"56368d7f-ede2-4b0a-8457-dfa51b64d2ac.mupexi\"\n",
      "[1] \"5648d1df-885a-4bcd-ba15-98f8aa3107af.mupexi\"\n",
      "[1] \"57046aab-3a59-4cc7-bea3-6bb5de2c4719.mupexi\"\n"
     ]
    },
    {
     "name": "stderr",
     "output_type": "stream",
     "text": [
      "sample_id not found\n",
      "\n"
     ]
    },
    {
     "name": "stdout",
     "output_type": "stream",
     "text": [
      "[1] \"573015cc-18c0-4123-b7b6-e0970590aa16.mupexi\"\n",
      "[1] \"5784e498-48d5-4b53-8e64-2776a45252c4.mupexi\"\n",
      "[1] \"578eb2a3-d424-48c0-8c6a-af5a19a96f8a.mupexi\"\n"
     ]
    },
    {
     "name": "stderr",
     "output_type": "stream",
     "text": [
      "sample_id not found\n",
      "\n"
     ]
    },
    {
     "name": "stdout",
     "output_type": "stream",
     "text": [
      "[1] \"5835027c-87dc-4b0d-8360-2e91c9d62b27.mupexi\"\n",
      "[1] \"58c56d5a-d730-489d-932e-1898bb0527fa.mupexi\"\n"
     ]
    },
    {
     "name": "stderr",
     "output_type": "stream",
     "text": [
      "sample_id not found\n",
      "\n"
     ]
    },
    {
     "name": "stdout",
     "output_type": "stream",
     "text": [
      "[1] \"59b72b8d-e013-46e6-8dfa-dc28cd86b2cd.mupexi\"\n",
      "[1] \"59f2ba69-a8eb-46a5-a4d5-b2d8a4b86235.mupexi\"\n",
      "[1] \"5ab8cddf-3be5-4872-979b-16b8a08b55d5.mupexi\"\n",
      "[1] \"5b0e29d5-e27f-40c7-9a1e-87de5af79c9d.mupexi\"\n",
      "[1] \"5be719eb-4e90-4ccd-93ae-1f3944c0554d.mupexi\"\n",
      "[1] \"5c0f0831-b434-4d5f-a1a0-7c610bfef5d6.mupexi\"\n",
      "[1] \"5c180814-1bc5-4352-9db4-faf72ee50c0f.mupexi\"\n"
     ]
    },
    {
     "name": "stderr",
     "output_type": "stream",
     "text": [
      "sample_id not found\n",
      "\n"
     ]
    },
    {
     "name": "stdout",
     "output_type": "stream",
     "text": [
      "[1] \"5c43fe1d-3a31-416d-b014-875871db8dad.mupexi\"\n"
     ]
    },
    {
     "name": "stderr",
     "output_type": "stream",
     "text": [
      "sample_id not found\n",
      "\n"
     ]
    },
    {
     "name": "stdout",
     "output_type": "stream",
     "text": [
      "[1] \"5c8c0ce5-812e-47dd-88cd-98c1392bc57c.mupexi\"\n"
     ]
    },
    {
     "name": "stderr",
     "output_type": "stream",
     "text": [
      "sample_id not found\n",
      "\n"
     ]
    },
    {
     "name": "stdout",
     "output_type": "stream",
     "text": [
      "[1] \"5d5c6982-8272-4cb5-9c78-3f1788f844ce.mupexi\"\n",
      "[1] \"5dcbe8f3-1380-4300-ae31-dc54e03d856f.mupexi\"\n",
      "[1] \"5e0bef8a-f10e-4a7e-b0b9-460a5f7331fc.mupexi\"\n",
      "[1] \"5e0bf2cf-e062-4c73-832e-e5851826603b.mupexi\"\n"
     ]
    },
    {
     "name": "stderr",
     "output_type": "stream",
     "text": [
      "sample_id not found\n",
      "\n"
     ]
    },
    {
     "name": "stdout",
     "output_type": "stream",
     "text": [
      "[1] \"5e64dd7c-a03a-4e09-aa0b-0c71405cbfdc.mupexi\"\n"
     ]
    },
    {
     "name": "stderr",
     "output_type": "stream",
     "text": [
      "sample_id not found\n",
      "\n"
     ]
    },
    {
     "name": "stdout",
     "output_type": "stream",
     "text": [
      "[1] \"5e8aba8e-c48b-4576-a190-6614f69a8610.mupexi\"\n",
      "[1] \"5ed88928-2869-4468-a22f-ab180856bdcf.mupexi\"\n",
      "[1] \"5f00b802-c091-4ea9-93f0-48fc3afb4629.mupexi\"\n",
      "[1] \"5f4e1cad-f9d8-47c7-b032-edb1117c8b58.mupexi\"\n",
      "[1] \"5f5d1c37-ba79-4201-ac89-779c7b552d57.mupexi\"\n",
      "[1] \"602362ad-4758-4a62-983e-db6e13224de8.mupexi\"\n",
      "[1] \"606e5762-7410-41bd-bd28-79b65b496eef.mupexi\"\n",
      "[1] \"60bcddb1-62ea-43a7-92fe-b91c4b8dccd4.mupexi\"\n",
      "[1] \"61a1ad85-9bb4-468c-9b59-445b0ee7ea32.mupexi\"\n",
      "[1] \"6321dc0b-18f0-4316-bc4f-c7d63a93694b.mupexi\"\n",
      "[1] \"648e7036-6681-4b3e-9cb1-fd7411d43083.mupexi\"\n",
      "[1] \"65197355-dcd7-4f31-bc90-0e74b3dfccc2.mupexi\"\n"
     ]
    },
    {
     "name": "stderr",
     "output_type": "stream",
     "text": [
      "sample_id not found\n",
      "\n"
     ]
    },
    {
     "name": "stdout",
     "output_type": "stream",
     "text": [
      "[1] \"653dc47e-bbb7-4348-957f-ebea728cbf46.mupexi\"\n",
      "[1] \"65f8a6ce-c4cc-473b-8fad-7df49fffdc69.mupexi\"\n",
      "[1] \"666bb51f-3053-487e-bb70-2d84db4c854c.mupexi\"\n",
      "[1] \"6774d7c1-c60c-49e9-a307-5f01629bec81.mupexi\"\n",
      "[1] \"67d3471b-5c1c-4b58-87e3-48165b42f3a2.mupexi\"\n",
      "[1] \"67d3809a-ae8a-4354-a41b-eb20142bb8bb.mupexi\"\n",
      "[1] \"686ac1b0-8c34-410e-963b-8e74e7955c72.mupexi\"\n",
      "[1] \"686e81d1-0fab-4e3e-bf3a-fb00874375ad.mupexi\"\n",
      "[1] \"686f6dad-996d-47b0-a54c-b9f131d9a76a.mupexi\"\n",
      "[1] \"688bd899-ed82-425e-8ce4-d10245404fdb.mupexi\"\n",
      "[1] \"68b702a9-3a0e-4294-a9dd-7bbfa7c67821.mupexi\"\n",
      "[1] \"6abbce39-48ac-46f9-809e-7f5a313c6277.mupexi\"\n",
      "[1] \"6ac70ba7-cdfd-4b1c-816d-1e9e206f0a0f.mupexi\"\n",
      "[1] \"6b00630d-2dce-4be0-81fe-56de28ba0b7d.mupexi\"\n"
     ]
    },
    {
     "name": "stderr",
     "output_type": "stream",
     "text": [
      "sample_id not found\n",
      "\n"
     ]
    },
    {
     "name": "stdout",
     "output_type": "stream",
     "text": [
      "[1] \"6c194fdc-b754-41df-a491-650c519a1a79.mupexi\"\n",
      "[1] \"6cba1e7e-9525-468f-8d5e-fef9e1781506.mupexi\"\n",
      "[1] \"6d3eb72f-cf8d-4f70-b0f1-737089f8c293.mupexi\"\n"
     ]
    },
    {
     "name": "stderr",
     "output_type": "stream",
     "text": [
      "sample_id not found\n",
      "\n"
     ]
    },
    {
     "name": "stdout",
     "output_type": "stream",
     "text": [
      "[1] \"6d4c41f2-75e5-4e61-9e5e-20dd74b5f1da.mupexi\"\n",
      "[1] \"6dbaa139-2666-46bc-ae88-e93e19cbcd0e.mupexi\"\n",
      "[1] \"6e5fa5c8-c1c2-429e-bf32-7c7a27e87acc.mupexi\"\n",
      "[1] \"6e7b70af-4781-4484-b4ca-2f889ef0625f.mupexi\"\n"
     ]
    },
    {
     "name": "stderr",
     "output_type": "stream",
     "text": [
      "sample_id not found\n",
      "\n"
     ]
    },
    {
     "name": "stdout",
     "output_type": "stream",
     "text": [
      "[1] \"6edd8d39-4ed7-4869-9251-59ada2f50e5a.mupexi\"\n"
     ]
    },
    {
     "name": "stderr",
     "output_type": "stream",
     "text": [
      "sample_id not found\n",
      "\n"
     ]
    },
    {
     "name": "stdout",
     "output_type": "stream",
     "text": [
      "[1] \"6f255cb0-1117-4005-b6a6-c7430562d2f4.mupexi\"\n",
      "[1] \"6f582569-dfb9-4bfc-bd0c-91d86365ed87.mupexi\"\n",
      "[1] \"6f877dcf-0be7-4be4-bd6e-5b9c1a426638.mupexi\"\n",
      "[1] \"6fc5a8aa-df1b-4bfd-b250-57c608b71f82.mupexi\"\n",
      "[1] \"70b79408-74e9-4f88-92cf-b2698c5c2e06.mupexi\"\n"
     ]
    },
    {
     "name": "stderr",
     "output_type": "stream",
     "text": [
      "sample_id not found\n",
      "\n"
     ]
    },
    {
     "name": "stdout",
     "output_type": "stream",
     "text": [
      "[1] \"70df379a-1795-4627-b9fd-a96d1e95611e.mupexi\"\n",
      "[1] \"71a9b3d8-f468-47d3-9a6b-ce78eaefaba6.mupexi\"\n",
      "[1] \"71b2e89a-201a-4c2f-a07c-1404df7ae83b.mupexi\"\n"
     ]
    },
    {
     "name": "stderr",
     "output_type": "stream",
     "text": [
      "sample_id not found\n",
      "\n"
     ]
    },
    {
     "name": "stdout",
     "output_type": "stream",
     "text": [
      "[1] \"72745da3-fdd8-4937-80d6-2467fe041927.mupexi\"\n",
      "[1] \"72863735-8a6c-483e-a3e0-fa3205d3b445.mupexi\"\n",
      "[1] \"730554cd-de21-41d8-962e-7782b4d980c8.mupexi\"\n",
      "[1] \"7321cec8-5353-41f1-b24f-1339dca21ea5.mupexi\"\n"
     ]
    },
    {
     "name": "stderr",
     "output_type": "stream",
     "text": [
      "sample_id not found\n",
      "\n"
     ]
    },
    {
     "name": "stdout",
     "output_type": "stream",
     "text": [
      "[1] \"73344c7c-bb1b-4998-bb6b-1d429f7c43eb.mupexi\"\n",
      "[1] \"73635dce-626d-4154-854c-0c1e0ea15d6a.mupexi\"\n",
      "[1] \"740ad29e-e0b7-4889-be20-a5468d53c0bb.mupexi\"\n",
      "[1] \"7422ea1c-6bae-4572-8105-240faed5914d.mupexi\"\n"
     ]
    },
    {
     "name": "stderr",
     "output_type": "stream",
     "text": [
      "sample_id not found\n",
      "\n"
     ]
    },
    {
     "name": "stdout",
     "output_type": "stream",
     "text": [
      "[1] \"742f5092-da32-4462-8ab0-4215c0cc5ca1.mupexi\"\n",
      "[1] \"7492a7c6-1e25-436d-818c-2d8cccc9d723.mupexi\"\n"
     ]
    },
    {
     "name": "stderr",
     "output_type": "stream",
     "text": [
      "sample_id not found\n",
      "\n"
     ]
    },
    {
     "name": "stdout",
     "output_type": "stream",
     "text": [
      "[1] \"7496d1b0-5afd-4a6f-9754-c1b987da5c0e.mupexi\"\n",
      "[1] \"7512531f-b0fd-4c40-b60f-161bb8bd5a75.mupexi\"\n",
      "[1] \"75fa5254-10aa-442a-9f71-86eba7afb3df.mupexi\"\n",
      "[1] \"7754563c-db1c-4f71-8917-ad8c61628b66.mupexi\"\n",
      "[1] \"775deb1c-3e5d-459f-be63-f85c940ec81e.mupexi\"\n",
      "[1] \"77f0e370-e7b0-4a66-b101-6bc334a72b17.mupexi\"\n",
      "[1] \"782a4f02-d725-4783-9b54-d63089291009.mupexi\"\n"
     ]
    },
    {
     "name": "stderr",
     "output_type": "stream",
     "text": [
      "sample_id not found\n",
      "\n"
     ]
    },
    {
     "name": "stdout",
     "output_type": "stream",
     "text": [
      "[1] \"78398f5d-c956-43ba-a5d6-b90b096323af.mupexi\"\n"
     ]
    },
    {
     "name": "stderr",
     "output_type": "stream",
     "text": [
      "sample_id not found\n",
      "\n"
     ]
    },
    {
     "name": "stdout",
     "output_type": "stream",
     "text": [
      "[1] \"787fe808-8d47-487d-a328-ac77e0c9c643.mupexi\"\n",
      "[1] \"78a6bda5-baaf-4d4c-9e5e-29211435457c.mupexi\"\n",
      "[1] \"7a006df0-6621-47c2-a073-fdcf4c2b09c5.mupexi\"\n",
      "[1] \"7c5ce017-d96c-4f04-9760-6635439d21c5.mupexi\"\n"
     ]
    },
    {
     "name": "stderr",
     "output_type": "stream",
     "text": [
      "sample_id not found\n",
      "\n"
     ]
    },
    {
     "name": "stdout",
     "output_type": "stream",
     "text": [
      "[1] \"7c65520d-a4ad-49d1-a96d-fdde743c1638.mupexi\"\n",
      "[1] \"7c79be31-f76e-45c6-92cf-9b671a1c8019.mupexi\"\n"
     ]
    },
    {
     "name": "stderr",
     "output_type": "stream",
     "text": [
      "sample_id not found\n",
      "\n"
     ]
    },
    {
     "name": "stdout",
     "output_type": "stream",
     "text": [
      "[1] \"7c8e178f-010e-4624-8a68-49802a2138a9.mupexi\"\n",
      "[1] \"7cb0b330-e566-4034-9bfd-28819adecbc2.mupexi\"\n",
      "[1] \"7cbeb6c1-45d0-480a-b62e-9533299dad5b.mupexi\"\n",
      "[1] \"7ce29583-311d-444e-9157-68f53f838f01.mupexi\"\n"
     ]
    },
    {
     "name": "stderr",
     "output_type": "stream",
     "text": [
      "sample_id not found\n",
      "\n"
     ]
    },
    {
     "name": "stdout",
     "output_type": "stream",
     "text": [
      "[1] \"7d2be20a-f06f-4e9a-8f7b-2d2db166e935.mupexi\"\n",
      "[1] \"7eb4166f-c0d1-48ce-9327-4eb15cd355dc.mupexi\"\n",
      "[1] \"7ec4b678-3f45-46f5-9480-16308b722d51.mupexi\"\n",
      "[1] \"7ef17f53-0eeb-4591-822c-7805cd282d62.mupexi\"\n",
      "[1] \"7f94bed3-b71e-4877-bf0b-1c18c129a6f1.mupexi\"\n",
      "[1] \"801039e0-8675-452f-86bf-474297f17cbf.mupexi\"\n",
      "[1] \"8035c0c6-5951-4323-a0ce-2f08388cc4b7.mupexi\"\n",
      "[1] \"80b9ffbf-7465-4f4e-844d-50d91dba0d28.mupexi\"\n",
      "[1] \"81e18cab-32c2-4da8-9eac-8cc3f457b805.mupexi\"\n",
      "[1] \"81edcbea-1c7a-4182-ae8b-6af21ad18168.mupexi\"\n"
     ]
    },
    {
     "name": "stderr",
     "output_type": "stream",
     "text": [
      "sample_id not found\n",
      "\n"
     ]
    },
    {
     "name": "stdout",
     "output_type": "stream",
     "text": [
      "[1] \"824ac29f-d7dd-41cf-ab61-c3e9d5e0746d.mupexi\"\n"
     ]
    },
    {
     "name": "stderr",
     "output_type": "stream",
     "text": [
      "sample_id not found\n",
      "\n"
     ]
    },
    {
     "name": "stdout",
     "output_type": "stream",
     "text": [
      "[1] \"829a153d-7da6-4ace-82be-e0bfa8e0eecc.mupexi\"\n",
      "[1] \"82e69983-8bb6-4fe1-ba63-82456fda1cbf.mupexi\"\n",
      "[1] \"83197008-62fa-4bdc-bfda-6e654adbd0e7.mupexi\"\n"
     ]
    },
    {
     "name": "stderr",
     "output_type": "stream",
     "text": [
      "sample_id not found\n",
      "\n"
     ]
    },
    {
     "name": "stdout",
     "output_type": "stream",
     "text": [
      "[1] \"83a84c6c-8f39-4837-b583-8ec5696be5e4.mupexi\"\n"
     ]
    },
    {
     "name": "stderr",
     "output_type": "stream",
     "text": [
      "sample_id not found\n",
      "\n"
     ]
    },
    {
     "name": "stdout",
     "output_type": "stream",
     "text": [
      "[1] \"84a9b2c1-8445-4527-91cc-cf149e26f2db.mupexi\"\n"
     ]
    },
    {
     "name": "stderr",
     "output_type": "stream",
     "text": [
      "sample_id not found\n",
      "\n"
     ]
    },
    {
     "name": "stdout",
     "output_type": "stream",
     "text": [
      "[1] \"852940cc-c2f8-4f0a-aee7-5df83701f80a.mupexi\"\n",
      "[1] \"85896738-a949-477d-851a-7ef37da73b2e.mupexi\"\n"
     ]
    },
    {
     "name": "stderr",
     "output_type": "stream",
     "text": [
      "sample_id not found\n",
      "\n"
     ]
    },
    {
     "name": "stdout",
     "output_type": "stream",
     "text": [
      "[1] \"85d54a25-4e9f-4cf6-a920-090f55d14260.mupexi\"\n",
      "[1] \"863aef96-afc3-474a-ad48-703ba29a61d9.mupexi\"\n",
      "[1] \"86525893-b5da-4ea3-b2b4-58f5baebfa9d.mupexi\"\n",
      "[1] \"86c400a6-e9b1-4ac3-a2fd-3bbd5aa8f2db.mupexi\"\n",
      "[1] \"8718e02d-24fb-4daa-9f22-d331f08167ca.mupexi\"\n",
      "[1] \"87ff3f10-d25f-424f-916a-6a8206b928dd.mupexi\"\n"
     ]
    },
    {
     "name": "stderr",
     "output_type": "stream",
     "text": [
      "sample_id not found\n",
      "\n"
     ]
    },
    {
     "name": "stdout",
     "output_type": "stream",
     "text": [
      "[1] \"892965db-5b9e-45c3-a610-0198b5034b37.mupexi\"\n",
      "[1] \"892a234a-0457-4847-ade3-bf19bf0075bc.mupexi\"\n"
     ]
    },
    {
     "name": "stderr",
     "output_type": "stream",
     "text": [
      "sample_id not found\n",
      "\n"
     ]
    },
    {
     "name": "stdout",
     "output_type": "stream",
     "text": [
      "[1] \"8957f800-488e-4af2-bb9a-0c1a4edb5954.mupexi\"\n"
     ]
    },
    {
     "name": "stderr",
     "output_type": "stream",
     "text": [
      "sample_id not found\n",
      "\n"
     ]
    },
    {
     "name": "stdout",
     "output_type": "stream",
     "text": [
      "[1] \"8970960e-ae19-4177-9f7c-4781b84364f5.mupexi\"\n",
      "[1] \"89c7c635-30b4-421c-8881-cc6a67f92daf.mupexi\"\n"
     ]
    },
    {
     "name": "stderr",
     "output_type": "stream",
     "text": [
      "sample_id not found\n",
      "\n"
     ]
    },
    {
     "name": "stdout",
     "output_type": "stream",
     "text": [
      "[1] \"89feca3f-7468-4587-adda-1ab72c8b3395.mupexi\"\n",
      "[1] \"8a8eb75c-d122-491c-bae3-213685ad10ab.mupexi\"\n"
     ]
    },
    {
     "name": "stderr",
     "output_type": "stream",
     "text": [
      "sample_id not found\n",
      "\n"
     ]
    },
    {
     "name": "stdout",
     "output_type": "stream",
     "text": [
      "[1] \"8ae68923-b8b4-44f4-9ea4-c01036d30690.mupexi\"\n"
     ]
    },
    {
     "name": "stderr",
     "output_type": "stream",
     "text": [
      "sample_id not found\n",
      "\n"
     ]
    },
    {
     "name": "stdout",
     "output_type": "stream",
     "text": [
      "[1] \"8b3cf1f4-6f31-403d-9ddc-141e948020d0.mupexi\"\n",
      "[1] \"8b4f6357-00ce-41bd-97ed-b70124a7d1cc.mupexi\"\n",
      "[1] \"8be2ffd5-0981-4f0c-9320-e9043f87fe8d.mupexi\"\n",
      "[1] \"8c734c01-8da5-4e9d-8ee6-cb5102d22b12.mupexi\"\n",
      "[1] \"8ca2333b-bba4-4ab8-baae-1f372dd2d995.mupexi\"\n"
     ]
    },
    {
     "name": "stderr",
     "output_type": "stream",
     "text": [
      "sample_id not found\n",
      "\n"
     ]
    },
    {
     "name": "stdout",
     "output_type": "stream",
     "text": [
      "[1] \"8d01fc3e-28f7-4a22-9404-1ceb37b8d6d5.mupexi\"\n"
     ]
    },
    {
     "name": "stderr",
     "output_type": "stream",
     "text": [
      "sample_id not found\n",
      "\n"
     ]
    },
    {
     "name": "stdout",
     "output_type": "stream",
     "text": [
      "[1] \"8e7c025f-1eca-4564-b5b2-c3811ad16c68.mupexi\"\n",
      "[1] \"8e8797ed-8b9d-46b2-b69e-83d11a5e5b63.mupexi\"\n",
      "[1] \"8f9b72ec-4e33-41ca-994e-4f2f429d0e49.mupexi\"\n",
      "[1] \"905de854-9061-46c5-aaa9-98ad12677375.mupexi\"\n",
      "[1] \"90a6427b-2233-4b13-bbaa-b1e3a9a421d7.mupexi\"\n",
      "[1] \"91ffe79a-047c-418e-8582-3d48f2861d4e.mupexi\"\n"
     ]
    },
    {
     "name": "stderr",
     "output_type": "stream",
     "text": [
      "sample_id not found\n",
      "\n"
     ]
    },
    {
     "name": "stdout",
     "output_type": "stream",
     "text": [
      "[1] \"926d555b-97fc-4f3e-8888-e1886f94a527.mupexi\"\n",
      "[1] \"9323a2d9-2b9c-41dc-b895-869dd0c5466f.mupexi\"\n"
     ]
    },
    {
     "name": "stderr",
     "output_type": "stream",
     "text": [
      "sample_id not found\n",
      "\n"
     ]
    },
    {
     "name": "stdout",
     "output_type": "stream",
     "text": [
      "[1] \"9329b313-1577-44f4-9985-f70dd08064f8.mupexi\"\n",
      "[1] \"9369f5d7-ce6d-4c77-a5b4-5302ff043ac1.mupexi\"\n",
      "[1] \"94822ab5-f2e3-46a9-abf6-a357d4cb7aef.mupexi\"\n",
      "[1] \"94ddd88c-1b4a-4bc7-842d-9470a455a2b0.mupexi\"\n",
      "[1] \"95111c05-52a4-4881-a59d-477f4c1c26ad.mupexi\"\n"
     ]
    },
    {
     "name": "stderr",
     "output_type": "stream",
     "text": [
      "sample_id not found\n",
      "\n"
     ]
    },
    {
     "name": "stdout",
     "output_type": "stream",
     "text": [
      "[1] \"9555d636-33fa-41cb-9530-af3014582d5b.mupexi\"\n",
      "[1] \"95b67c84-623d-476f-816a-78ef1e107ac1.mupexi\"\n",
      "[1] \"960afc46-f18e-4ff2-9bab-35fc58912461.mupexi\"\n",
      "[1] \"97000a24-0ce8-4ae4-9378-cde65e6a25ac.mupexi\"\n",
      "[1] \"970ac14c-b210-4d90-bffc-c5ea449655e1.mupexi\"\n",
      "[1] \"97831a89-fc6d-49b7-9b15-7fdff9a678a6.mupexi\"\n",
      "[1] \"979985b2-77b5-4883-ba5d-b70c43500012.mupexi\"\n",
      "[1] \"97f1a59b-f6e6-434c-93ca-2952d4210570.mupexi\"\n",
      "[1] \"98bb248b-aa5d-4495-9dc7-59bdb7c6a5e8.mupexi\"\n",
      "[1] \"98c6ef58-f58a-4a8a-9e9a-970379f18ad3.mupexi\"\n",
      "[1] \"9941b4e5-21f3-4741-ba19-852a87b7ee8a.mupexi\"\n",
      "[1] \"994d565c-6437-4b1a-92ef-002d083d85ec.mupexi\"\n",
      "[1] \"99515aec-5081-49a2-9124-e458aa35f2f8.mupexi\"\n"
     ]
    },
    {
     "name": "stderr",
     "output_type": "stream",
     "text": [
      "sample_id not found\n",
      "\n"
     ]
    },
    {
     "name": "stdout",
     "output_type": "stream",
     "text": [
      "[1] \"995ca20b-5869-49f6-a0be-27a9ac530c65.mupexi\"\n",
      "[1] \"998e7008-ff26-4550-8d37-46c72f6028f5.mupexi\"\n",
      "[1] \"9a6c77ba-1de4-45f8-8b9c-74c243b15683.mupexi\"\n",
      "[1] \"9afcb321-66f0-4ac9-9553-62f871741070.mupexi\"\n"
     ]
    },
    {
     "name": "stderr",
     "output_type": "stream",
     "text": [
      "sample_id not found\n",
      "\n"
     ]
    },
    {
     "name": "stdout",
     "output_type": "stream",
     "text": [
      "[1] \"9b18c966-8418-46de-b49c-91ab674bb140.mupexi\"\n",
      "[1] \"9b90bdbe-91f0-4040-be1d-f7c5e85b09e9.mupexi\"\n",
      "[1] \"9c046c34-968e-431d-b842-47d17bfb4474.mupexi\"\n",
      "[1] \"9cae345c-7842-41ee-b5a9-909f0749ec8f.mupexi\"\n",
      "[1] \"9ce2828c-bbcf-4112-a4cb-95cc69c72c81.mupexi\"\n"
     ]
    },
    {
     "name": "stderr",
     "output_type": "stream",
     "text": [
      "sample_id not found\n",
      "\n"
     ]
    },
    {
     "name": "stdout",
     "output_type": "stream",
     "text": [
      "[1] \"9cfdae5a-70a1-461d-b773-48ecf234cd9a.mupexi\"\n",
      "[1] \"9d007374-20b8-4ff6-bb9f-d409e07888e9.mupexi\"\n",
      "[1] \"9d2a239e-0c1a-4205-b68d-73819ac9ec87.mupexi\"\n",
      "[1] \"9d4ade7e-cdff-4022-bc64-6c66fcdea9d5.mupexi\"\n"
     ]
    },
    {
     "name": "stderr",
     "output_type": "stream",
     "text": [
      "sample_id not found\n",
      "\n"
     ]
    },
    {
     "name": "stdout",
     "output_type": "stream",
     "text": [
      "[1] \"9d5b393a-faf6-466c-8c96-2028a3f6828d.mupexi\"\n",
      "[1] \"9d8e92af-2e7a-4b2a-bb4b-cd7ec6b5ab2a.mupexi\"\n",
      "[1] \"9dc95215-a40d-4b9d-ad2e-1121d7c7ad93.mupexi\"\n",
      "[1] \"9e4245ec-6a5c-4d12-9519-f5e239dc661d.mupexi\"\n"
     ]
    },
    {
     "name": "stderr",
     "output_type": "stream",
     "text": [
      "sample_id not found\n",
      "\n"
     ]
    },
    {
     "name": "stdout",
     "output_type": "stream",
     "text": [
      "[1] \"9e7e669b-1dd1-456b-bd78-53191822fa64.mupexi\"\n",
      "[1] \"9ec7ad13-de3b-433c-8b41-c2c532bd1781.mupexi\"\n",
      "[1] \"9f89eaeb-3d47-4765-8011-41fb88f7bac6.mupexi\"\n"
     ]
    },
    {
     "name": "stderr",
     "output_type": "stream",
     "text": [
      "sample_id not found\n",
      "\n"
     ]
    },
    {
     "name": "stdout",
     "output_type": "stream",
     "text": [
      "[1] \"a07f2e87-71a1-4d9a-ab51-b72c185bcc27.mupexi\"\n",
      "[1] \"a108683c-93aa-47b4-a0ce-4ae6325d2b0f.mupexi\"\n",
      "[1] \"a19f0bcf-0edc-4949-a8c5-76c69f35dca9.mupexi\"\n",
      "[1] \"a26c0aa4-5ad0-4711-a7fa-cc89c70bfa0d.mupexi\"\n",
      "[1] \"a28718af-25f7-4ca2-b005-bd44e6e1fcc8.mupexi\"\n",
      "[1] \"a2caf0b0-16fa-4e06-8de5-96e6428d38e6.mupexi\"\n",
      "[1] \"a37ee32a-b1cf-4755-8c31-b5f3510107be.mupexi\"\n"
     ]
    },
    {
     "name": "stderr",
     "output_type": "stream",
     "text": [
      "sample_id not found\n",
      "\n"
     ]
    },
    {
     "name": "stdout",
     "output_type": "stream",
     "text": [
      "[1] \"a3f9cb1c-8f12-4a2b-a843-da055a2f5311.mupexi\"\n",
      "[1] \"a46112f9-a558-4209-9342-5f045cc6724c.mupexi\"\n",
      "[1] \"a51663e1-2d28-44d9-bbab-90ddfd8e6450.mupexi\"\n",
      "[1] \"a618bbc2-9d4a-4f92-a87a-5d1d94fb1870.mupexi\"\n"
     ]
    },
    {
     "name": "stderr",
     "output_type": "stream",
     "text": [
      "sample_id not found\n",
      "\n"
     ]
    },
    {
     "name": "stdout",
     "output_type": "stream",
     "text": [
      "[1] \"a6325f53-c110-4083-9b65-6cd5240e8222.mupexi\"\n",
      "[1] \"a6a8c8c2-c495-4860-ac48-123b1996ae53.mupexi\"\n",
      "[1] \"a718869d-288a-4eff-ab8e-eec4d5662bec.mupexi\"\n",
      "[1] \"a722259a-bcaf-4d30-8587-58e433667c82.mupexi\"\n",
      "[1] \"a7ac03ea-2a27-4241-b0d4-35a5d994d17d.mupexi\"\n"
     ]
    },
    {
     "name": "stderr",
     "output_type": "stream",
     "text": [
      "sample_id not found\n",
      "\n"
     ]
    },
    {
     "name": "stdout",
     "output_type": "stream",
     "text": [
      "[1] \"a7e4407f-997c-449a-be5e-676aa976ba97.mupexi\"\n"
     ]
    },
    {
     "name": "stderr",
     "output_type": "stream",
     "text": [
      "sample_id not found\n",
      "\n"
     ]
    },
    {
     "name": "stdout",
     "output_type": "stream",
     "text": [
      "[1] \"a92078a8-66e1-4bc9-91f7-7f439bee7bff.mupexi\"\n",
      "[1] \"aa08d3dd-3ba7-4852-8929-eaa68c1e5856.mupexi\"\n",
      "[1] \"aa3a1d5f-1415-4d2b-92a9-d71d773ae051.mupexi\"\n",
      "[1] \"aaf96aeb-9bc2-47da-8d92-121ccaa7c63e.mupexi\"\n",
      "[1] \"abbe7eb9-6a0f-4f1f-ba02-aca0dd6ddff3.mupexi\"\n"
     ]
    },
    {
     "name": "stderr",
     "output_type": "stream",
     "text": [
      "sample_id not found\n",
      "\n"
     ]
    },
    {
     "name": "stdout",
     "output_type": "stream",
     "text": [
      "[1] \"ac2f1c7f-4719-441a-8520-c1b70294803e.mupexi\"\n",
      "[1] \"acb9778a-25ac-4589-94be-a5c2ae328241.mupexi\"\n",
      "[1] \"ad45e585-d356-4d8b-97cd-4e050418754c.mupexi\"\n",
      "[1] \"ad6d9e7a-9c5a-4b6e-bec5-604747fcdeb0.mupexi\"\n",
      "[1] \"ad90afeb-947a-483b-9fee-17f76c84c7ac.mupexi\"\n",
      "[1] \"adc91f5c-d8fa-4a3d-8a49-740452bf370e.mupexi\"\n",
      "[1] \"aeef3f0a-25d5-48c2-8bf3-811e268b9b06.mupexi\"\n",
      "[1] \"af0cef49-4144-4bd3-994f-b3c84ed354d7.mupexi\"\n",
      "[1] \"af526178-72b1-42b7-bf9f-20a48aad91a7.mupexi\"\n",
      "[1] \"b0474c03-e64c-48e3-b6ae-067b6db1e510.mupexi\"\n"
     ]
    },
    {
     "name": "stderr",
     "output_type": "stream",
     "text": [
      "sample_id not found\n",
      "\n"
     ]
    },
    {
     "name": "stdout",
     "output_type": "stream",
     "text": [
      "[1] \"b06148d2-e1a1-4fae-b28e-64c8a0ca0778.mupexi\"\n",
      "[1] \"b0cb5158-95df-4cd0-b84e-6b45c2d64813.mupexi\"\n",
      "[1] \"b0e0460f-bb57-418e-a3aa-526b3ac05470.mupexi\"\n",
      "[1] \"b0e2d897-de68-4206-aed8-23b77ec0bc71.mupexi\"\n",
      "[1] \"b11621de-643f-4649-9607-6d538c5e7285.mupexi\"\n",
      "[1] \"b1218cc3-b723-41d6-8fe6-c634de606716.mupexi\"\n"
     ]
    },
    {
     "name": "stderr",
     "output_type": "stream",
     "text": [
      "sample_id not found\n",
      "\n"
     ]
    },
    {
     "name": "stdout",
     "output_type": "stream",
     "text": [
      "[1] \"b173252d-0425-4137-a511-2b7a4ca4320d.mupexi\"\n"
     ]
    },
    {
     "name": "stderr",
     "output_type": "stream",
     "text": [
      "sample_id not found\n",
      "\n"
     ]
    },
    {
     "name": "stdout",
     "output_type": "stream",
     "text": [
      "[1] \"b25e5e0c-c03b-4f2c-9314-dd60b8bd3aac.mupexi\"\n"
     ]
    },
    {
     "name": "stderr",
     "output_type": "stream",
     "text": [
      "sample_id not found\n",
      "\n"
     ]
    },
    {
     "name": "stdout",
     "output_type": "stream",
     "text": [
      "[1] \"b27cf900-c2ef-4ac5-8b69-0f44f74c2a4e.mupexi\"\n"
     ]
    },
    {
     "name": "stderr",
     "output_type": "stream",
     "text": [
      "sample_id not found\n",
      "\n"
     ]
    },
    {
     "name": "stdout",
     "output_type": "stream",
     "text": [
      "[1] \"b2940204-d271-4760-a2c3-344144987cb3.mupexi\"\n",
      "[1] \"b2962840-6019-48df-bd3e-6caf7ecdf0eb.mupexi\"\n",
      "[1] \"b303ee34-07fa-4327-bce2-9d97cd2d2878.mupexi\"\n",
      "[1] \"b3609cbb-5380-4138-b6bd-e418724558dc.mupexi\"\n",
      "[1] \"b36dcacd-8059-440a-9589-13cb4608988c.mupexi\"\n"
     ]
    },
    {
     "name": "stderr",
     "output_type": "stream",
     "text": [
      "sample_id not found\n",
      "\n"
     ]
    },
    {
     "name": "stdout",
     "output_type": "stream",
     "text": [
      "[1] \"b39b22de-5c78-4eb8-a003-410fbd83f0b4.mupexi\"\n",
      "[1] \"b3ab29eb-cb7d-476d-bde9-4e5800704e53.mupexi\"\n",
      "[1] \"b42a890e-7db7-484b-bac8-01ed32d5fa1c.mupexi\"\n",
      "[1] \"b43a8356-2168-40f4-84c6-3b6096ce31fd.mupexi\"\n",
      "[1] \"b4464b9a-3b0c-4170-91e2-8a9d2bc93441.mupexi\"\n",
      "[1] \"b5479c4f-9fd1-4157-abae-a5b6960f7960.mupexi\"\n",
      "[1] \"b5675cff-710b-4e09-80d3-ccc4877f84ec.mupexi\"\n",
      "[1] \"b58cfadc-7e0f-4be9-9aa8-60264fe57dfe.mupexi\"\n",
      "[1] \"b5a7b96d-940c-475a-a439-32b898026903.mupexi\"\n",
      "[1] \"b5ff039a-6869-4354-8a52-65a980d252e7.mupexi\"\n",
      "[1] \"b661a08f-7097-4e28-9258-9d2989ae37ae.mupexi\"\n"
     ]
    },
    {
     "name": "stderr",
     "output_type": "stream",
     "text": [
      "sample_id not found\n",
      "\n"
     ]
    },
    {
     "name": "stdout",
     "output_type": "stream",
     "text": [
      "[1] \"b6c240cc-0d82-44a8-9658-eaba8f5460b4.mupexi\"\n",
      "[1] \"b70b1a55-e5a1-4fdd-86ba-7383facf18c2.mupexi\"\n"
     ]
    },
    {
     "name": "stderr",
     "output_type": "stream",
     "text": [
      "sample_id not found\n",
      "\n"
     ]
    },
    {
     "name": "stdout",
     "output_type": "stream",
     "text": [
      "[1] \"b8d28a92-f192-47d7-b4fd-b888ee9e1d04.mupexi\"\n",
      "[1] \"b93c48c0-54c9-4ca5-871f-4002c8498011.mupexi\"\n",
      "[1] \"b98a0382-ca11-4d49-ad2f-71e8ed971162.mupexi\"\n",
      "[1] \"baa67507-0548-45d1-b864-9730f569bab1.mupexi\"\n"
     ]
    },
    {
     "name": "stderr",
     "output_type": "stream",
     "text": [
      "sample_id not found\n",
      "\n"
     ]
    },
    {
     "name": "stdout",
     "output_type": "stream",
     "text": [
      "[1] \"baadc3df-c0aa-42c7-afff-b3a8c390ef9a.mupexi\"\n",
      "[1] \"bab3f8d0-8ecb-48a3-89fe-1c466bada50b.mupexi\"\n",
      "[1] \"bb2127b2-44e4-4478-a43c-db2c37ffb9b3.mupexi\"\n"
     ]
    },
    {
     "name": "stderr",
     "output_type": "stream",
     "text": [
      "sample_id not found\n",
      "\n"
     ]
    },
    {
     "name": "stdout",
     "output_type": "stream",
     "text": [
      "[1] \"bb441715-bcc9-4d52-a578-e9e8d62405e3.mupexi\"\n",
      "[1] \"bb641290-81ff-4da4-bb09-a4a1dc389c60.mupexi\"\n",
      "[1] \"bb90c600-c942-4a6c-ba48-d00166616e71.mupexi\"\n"
     ]
    },
    {
     "name": "stderr",
     "output_type": "stream",
     "text": [
      "sample_id not found\n",
      "\n"
     ]
    },
    {
     "name": "stdout",
     "output_type": "stream",
     "text": [
      "[1] \"bbc3a0ac-3757-4096-a056-8f07b2d9c72b.mupexi\"\n",
      "[1] \"bcae976b-0a43-4ed6-9c32-dfcbd33166cd.mupexi\"\n"
     ]
    },
    {
     "name": "stderr",
     "output_type": "stream",
     "text": [
      "sample_id not found\n",
      "\n"
     ]
    },
    {
     "name": "stdout",
     "output_type": "stream",
     "text": [
      "[1] \"bce2e6f8-16c6-42c9-8bff-b5b1e71983c0.mupexi\"\n"
     ]
    },
    {
     "name": "stderr",
     "output_type": "stream",
     "text": [
      "sample_id not found\n",
      "\n"
     ]
    },
    {
     "name": "stdout",
     "output_type": "stream",
     "text": [
      "[1] \"bd321ccc-ce04-4164-91fb-676105eef65e.mupexi\"\n",
      "[1] \"bd5d6acc-026f-456b-9660-2c2d401f196d.mupexi\"\n",
      "[1] \"bd875ebd-445d-44e6-8be0-bd2473db4cc4.mupexi\"\n",
      "[1] \"bdd19e20-62e1-4a16-81a2-b17212f860d5.mupexi\"\n",
      "[1] \"bddbcd6a-ec9a-463f-bd46-f00238c1289a.mupexi\"\n",
      "[1] \"bde274df-8fa9-4f3d-826f-5097ff97938b.mupexi\"\n",
      "[1] \"be2f4c4f-0651-4337-9fb7-6fd8c463215b.mupexi\"\n",
      "[1] \"bf707222-f59c-4de7-9693-e8c359c4ea28.mupexi\"\n",
      "[1] \"bfcec82f-3423-4676-8339-7bcb5773a6d8.mupexi\"\n",
      "[1] \"c05eb7d7-4864-4c89-baf0-ea5a0e76bde4.mupexi\"\n",
      "[1] \"c1e9250d-43a4-410d-8a5e-0cb2da17fcf4.mupexi\"\n",
      "[1] \"c1ea0771-d015-4635-b157-5cdd69401def.mupexi\"\n"
     ]
    },
    {
     "name": "stderr",
     "output_type": "stream",
     "text": [
      "sample_id not found\n",
      "\n"
     ]
    },
    {
     "name": "stdout",
     "output_type": "stream",
     "text": [
      "[1] \"c2116497-79bc-4e31-bfb2-04ec42056278.mupexi\"\n",
      "[1] \"c40ca294-36ca-4968-945a-da38e4dfaf76.mupexi\"\n",
      "[1] \"c4898ce2-319d-4312-9706-ed853725124b.mupexi\"\n"
     ]
    },
    {
     "name": "stderr",
     "output_type": "stream",
     "text": [
      "sample_id not found\n",
      "\n"
     ]
    },
    {
     "name": "stdout",
     "output_type": "stream",
     "text": [
      "[1] \"c4ca6cfe-69b0-4d83-b4fc-71990f8569ef.mupexi\"\n",
      "[1] \"c5a54f09-82dd-4bb4-b34f-8d61ce88deca.mupexi\"\n"
     ]
    },
    {
     "name": "stderr",
     "output_type": "stream",
     "text": [
      "sample_id not found\n",
      "\n"
     ]
    },
    {
     "name": "stdout",
     "output_type": "stream",
     "text": [
      "[1] \"c6313e9d-e39b-4b88-8668-ff33b6406d02.mupexi\"\n"
     ]
    },
    {
     "name": "stderr",
     "output_type": "stream",
     "text": [
      "sample_id not found\n",
      "\n"
     ]
    },
    {
     "name": "stdout",
     "output_type": "stream",
     "text": [
      "[1] \"c6b42fce-bcae-4f38-8bdd-040158782029.mupexi\"\n",
      "[1] \"c6f0794e-7994-4be2-937a-66ce80980583.mupexi\"\n"
     ]
    },
    {
     "name": "stderr",
     "output_type": "stream",
     "text": [
      "sample_id not found\n",
      "\n"
     ]
    },
    {
     "name": "stdout",
     "output_type": "stream",
     "text": [
      "[1] \"c72fed74-7853-417a-b7b2-be0fff35b245.mupexi\"\n",
      "[1] \"c758fcd1-f1d4-43b0-81da-9641f4143ddf.mupexi\"\n",
      "[1] \"c7de23a3-db39-4f7d-9e47-ebb94c7f7f70.mupexi\"\n",
      "[1] \"c92a6329-fab3-40e4-a3b6-3be5854681d6.mupexi\"\n",
      "[1] \"c996a7a1-5a6f-43cf-9331-dded76c6c2ec.mupexi\"\n",
      "[1] \"ca94a457-89e0-4b42-ae25-eb65eb6f61ef.mupexi\"\n",
      "[1] \"cc0bcde9-433b-4809-bd27-55f8fd4b907f.mupexi\"\n",
      "[1] \"cc9f665a-13e5-40fe-92b6-8facb8239d64.mupexi\"\n",
      "[1] \"cd58a11e-d38e-4964-93f0-3c0986998b3e.mupexi\"\n"
     ]
    },
    {
     "name": "stderr",
     "output_type": "stream",
     "text": [
      "sample_id not found\n",
      "\n"
     ]
    },
    {
     "name": "stdout",
     "output_type": "stream",
     "text": [
      "[1] \"cdc492f5-3a11-40df-9995-d99a3c65313f.mupexi\"\n",
      "[1] \"ce9aea82-623e-4d37-962e-937b6023dd2a.mupexi\"\n",
      "[1] \"cf678d5d-e464-4963-b494-603652fd1787.mupexi\"\n",
      "[1] \"cfe36bbd-e36e-44c9-8981-921d826f6a64.mupexi\"\n",
      "[1] \"cfff7738-93b6-4106-a2e4-0336ebaa9a5d.mupexi\"\n",
      "[1] \"d1cc622c-9de9-467c-95ab-04a9d172b400.mupexi\"\n",
      "[1] \"d27cc741-7c6a-45df-882e-b63aad28316e.mupexi\"\n",
      "[1] \"d28b965a-ea6a-486d-9210-4712359d5c26.mupexi\"\n",
      "[1] \"d2bb0d2d-4812-45f1-b90e-77925a21ce82.mupexi\"\n",
      "[1] \"d3aa8fea-c044-469c-a230-294929bb60e9.mupexi\"\n",
      "[1] \"d3c1481c-090e-42a6-88aa-4f3dcdcf1ce2.mupexi\"\n"
     ]
    },
    {
     "name": "stderr",
     "output_type": "stream",
     "text": [
      "sample_id not found\n",
      "\n"
     ]
    },
    {
     "name": "stdout",
     "output_type": "stream",
     "text": [
      "[1] \"d4103e19-aabc-49bc-b4b4-729c7172434f.mupexi\"\n",
      "[1] \"d439c667-bae2-46ca-a2bb-6d513e357992.mupexi\"\n"
     ]
    },
    {
     "name": "stderr",
     "output_type": "stream",
     "text": [
      "sample_id not found\n",
      "\n"
     ]
    },
    {
     "name": "stdout",
     "output_type": "stream",
     "text": [
      "[1] \"d4565829-9dc9-470a-b3e7-d19e8030341c.mupexi\"\n",
      "[1] \"d4ca1e1d-1030-4d06-b53b-66064450986b.mupexi\"\n",
      "[1] \"d5393f68-a888-4159-8857-955ca56cc15f.mupexi\"\n",
      "[1] \"d55f5fb1-75df-498b-b391-73c42045dd3f.mupexi\"\n"
     ]
    },
    {
     "name": "stderr",
     "output_type": "stream",
     "text": [
      "sample_id not found\n",
      "\n"
     ]
    },
    {
     "name": "stdout",
     "output_type": "stream",
     "text": [
      "[1] \"d59f3d3f-0031-41ea-b89f-30bac0e4e2c1.mupexi\"\n"
     ]
    },
    {
     "name": "stderr",
     "output_type": "stream",
     "text": [
      "sample_id not found\n",
      "\n"
     ]
    },
    {
     "name": "stdout",
     "output_type": "stream",
     "text": [
      "[1] \"d5a2204f-df7b-4285-9181-baf27a944090.mupexi\"\n",
      "[1] \"d5e2bf42-09b8-4b24-a668-4b933e5268ef.mupexi\"\n",
      "[1] \"d720e206-8e9c-49c6-9eb1-2d82f368f39c.mupexi\"\n",
      "[1] \"d8d6c3dc-3f81-43b1-a446-6b31823ac6ec.mupexi\"\n",
      "[1] \"d9355fa0-b004-4ea1-bbb9-56bac14dfa66.mupexi\"\n",
      "[1] \"d960e0d5-f2d3-40d3-8761-b2840f07e164.mupexi\"\n",
      "[1] \"d9eaced6-2f46-4876-90cd-3c2ff990615e.mupexi\"\n",
      "[1] \"da0c0492-615d-4c96-a9ef-a2ca8141be7e.mupexi\"\n",
      "[1] \"da2e3702-6a86-4b6b-8579-8b24b3774d51.mupexi\"\n"
     ]
    },
    {
     "name": "stderr",
     "output_type": "stream",
     "text": [
      "sample_id not found\n",
      "\n"
     ]
    },
    {
     "name": "stdout",
     "output_type": "stream",
     "text": [
      "[1] \"db5f7f87-6db7-409c-a732-57ed4ff406f4.mupexi\"\n",
      "[1] \"dc505242-7c19-4a3d-b84e-044a098a6325.mupexi\"\n",
      "[1] \"dca7ddce-cf79-4098-8fc1-b161a56bbc6f.mupexi\"\n",
      "[1] \"dcbf2896-2c59-4d6e-8e94-06d9edc27712.mupexi\"\n",
      "[1] \"de333160-935f-4d72-b5c3-a9ac3f200442.mupexi\"\n"
     ]
    },
    {
     "name": "stderr",
     "output_type": "stream",
     "text": [
      "sample_id not found\n",
      "\n"
     ]
    },
    {
     "name": "stdout",
     "output_type": "stream",
     "text": [
      "[1] \"de64f0b7-ef47-4f79-89d7-245c8f01ca5e.mupexi\"\n",
      "[1] \"de9df22e-4be8-4b73-b0fb-c3bf43205264.mupexi\"\n",
      "[1] \"deabb9d8-ec0a-434c-b5ff-ed4ee2ba0143.mupexi\"\n"
     ]
    },
    {
     "name": "stderr",
     "output_type": "stream",
     "text": [
      "sample_id not found\n",
      "\n"
     ]
    },
    {
     "name": "stdout",
     "output_type": "stream",
     "text": [
      "[1] \"df2dc37a-047f-4927-a1b5-d2fa25a4fabf.mupexi\"\n",
      "[1] \"df60f4bb-a198-4dbe-b186-dbc825509433.mupexi\"\n",
      "[1] \"dfea9716-f2f5-43e7-9dec-e495e984bb0e.mupexi\"\n",
      "[1] \"e0fff9b9-adb7-40ca-82a3-78a99e200673.mupexi\"\n"
     ]
    },
    {
     "name": "stderr",
     "output_type": "stream",
     "text": [
      "sample_id not found\n",
      "\n"
     ]
    },
    {
     "name": "stdout",
     "output_type": "stream",
     "text": [
      "[1] \"e189a6c9-ca86-42d1-a86a-200b0e5dd963.mupexi\"\n",
      "[1] \"e1cbed28-e8b5-4d0b-99ee-74d8feecd443.mupexi\"\n",
      "[1] \"e297c2b4-e281-481d-86bf-ddebd82b74a6.mupexi\"\n",
      "[1] \"e31d632e-7cff-41de-b4da-57f5bf53a5c8.mupexi\"\n",
      "[1] \"e328812a-7fd4-4f1e-99f6-52cffea9a6e5.mupexi\"\n",
      "[1] \"e3379f95-7344-42c3-b73c-0e17f689b40d.mupexi\"\n"
     ]
    },
    {
     "name": "stderr",
     "output_type": "stream",
     "text": [
      "sample_id not found\n",
      "\n"
     ]
    },
    {
     "name": "stdout",
     "output_type": "stream",
     "text": [
      "[1] \"e3872cb5-23c3-4bda-a5d1-da9bebc7c120.mupexi\"\n",
      "[1] \"e3f151f6-32c7-4bbc-a394-abec4c648de7.mupexi\"\n",
      "[1] \"e4216435-f6ac-43a1-b7a3-e592056d6955.mupexi\"\n"
     ]
    },
    {
     "name": "stderr",
     "output_type": "stream",
     "text": [
      "sample_id not found\n",
      "\n"
     ]
    },
    {
     "name": "stdout",
     "output_type": "stream",
     "text": [
      "[1] \"e4823387-0144-4574-a16b-c4e4bac05dca.mupexi\"\n",
      "[1] \"e4a31dd7-bab8-47a4-9fca-db60edaf8188.mupexi\"\n",
      "[1] \"e4fb74e7-f5c4-4835-bd66-4cee9f1e4284.mupexi\"\n"
     ]
    },
    {
     "name": "stderr",
     "output_type": "stream",
     "text": [
      "sample_id not found\n",
      "\n"
     ]
    },
    {
     "name": "stdout",
     "output_type": "stream",
     "text": [
      "[1] \"e52bf57c-f90a-4717-b405-a5c54ba06bd8.mupexi\"\n"
     ]
    },
    {
     "name": "stderr",
     "output_type": "stream",
     "text": [
      "sample_id not found\n",
      "\n"
     ]
    },
    {
     "name": "stdout",
     "output_type": "stream",
     "text": [
      "[1] \"e53badfd-c0a9-432e-bc67-bac15cfd6916.mupexi\"\n"
     ]
    },
    {
     "name": "stderr",
     "output_type": "stream",
     "text": [
      "sample_id not found\n",
      "\n"
     ]
    },
    {
     "name": "stdout",
     "output_type": "stream",
     "text": [
      "[1] \"e554b9be-3e1e-4a7d-ac4d-a331ad6956a1.mupexi\"\n",
      "[1] \"e55f58f0-f3a3-4088-a136-00071cfb21fc.mupexi\"\n"
     ]
    },
    {
     "name": "stderr",
     "output_type": "stream",
     "text": [
      "sample_id not found\n",
      "\n"
     ]
    },
    {
     "name": "stdout",
     "output_type": "stream",
     "text": [
      "[1] \"e61923c5-301a-47bf-9c7e-1c5c6a1b59fc.mupexi\"\n",
      "[1] \"e64997e0-50a9-47f8-8520-588e382aa6af.mupexi\"\n"
     ]
    },
    {
     "name": "stderr",
     "output_type": "stream",
     "text": [
      "sample_id not found\n",
      "\n"
     ]
    },
    {
     "name": "stdout",
     "output_type": "stream",
     "text": [
      "[1] \"e6a22574-fa09-4bbf-ad7a-10074bb1919c.mupexi\"\n",
      "[1] \"e6bd2790-847d-4c83-bd42-4f12e2d4dc6a.mupexi\"\n",
      "[1] \"e74f64b7-656a-42a0-aec7-2bd35a2f170e.mupexi\"\n",
      "[1] \"e75edc5a-5d46-4fb8-b383-e0eae17c1326.mupexi\"\n",
      "[1] \"e775dedf-1521-43cc-9ef0-4c8cbb38b60c.mupexi\"\n",
      "[1] \"e7c74465-3a8f-416b-97c8-ce58ceeec6fa.mupexi\"\n",
      "[1] \"e816d8eb-e949-47be-82b5-9f7fd5d7b559.mupexi\"\n",
      "[1] \"e83013ac-a640-45e4-981e-dd5e13ee612f.mupexi\"\n",
      "[1] \"e8391c47-b957-484b-b17f-cc2d1da46cf4.mupexi\"\n",
      "[1] \"e92efabc-a825-4d18-9fab-014853cd153d.mupexi\"\n",
      "[1] \"e9330f7e-0100-4dbb-8753-b6038fa47dd6.mupexi\"\n",
      "[1] \"e9d3b8d4-be3e-4a76-bc14-0344542f940d.mupexi\"\n",
      "[1] \"ea03ec9a-d391-42d2-866a-719c0890c566.mupexi\"\n",
      "[1] \"eb94601f-023b-4b30-a6e1-b357e1ddc832.mupexi\"\n",
      "[1] \"eb9b21c3-1791-4b46-b0ab-44ded4cd7a8c.mupexi\"\n",
      "[1] \"ebd8b66b-5ada-4f42-8c2c-e93d5659b208.mupexi\"\n"
     ]
    },
    {
     "name": "stderr",
     "output_type": "stream",
     "text": [
      "sample_id not found\n",
      "\n"
     ]
    },
    {
     "name": "stdout",
     "output_type": "stream",
     "text": [
      "[1] \"ebf19160-2d88-4cf1-8001-352135979dbe.mupexi\"\n",
      "[1] \"ec3f136b-bb48-48b0-a5d0-5980d1078114.mupexi\"\n",
      "[1] \"ecde4d12-4c42-4e79-8a97-9ba516041f65.mupexi\"\n",
      "[1] \"ed17c15e-d3a9-4e36-ae3b-42fc4a651f4f.mupexi\"\n",
      "[1] \"ee598133-2ae4-4cbe-b8cc-3ece3b1e3c37.mupexi\"\n",
      "[1] \"ef9607f9-f44e-41c4-be97-359a869a5873.mupexi\"\n",
      "[1] \"ef9bef68-c95d-43b2-863a-0b87b673e52d.mupexi\"\n",
      "[1] \"f03ab402-4e8d-4d91-a5bc-71f024f3b819.mupexi\"\n"
     ]
    },
    {
     "name": "stderr",
     "output_type": "stream",
     "text": [
      "sample_id not found\n",
      "\n"
     ]
    },
    {
     "name": "stdout",
     "output_type": "stream",
     "text": [
      "[1] \"f106ff41-1d3c-4342-b70e-353d9a8030df.mupexi\"\n",
      "[1] \"f14efeb6-2055-47a4-bc66-f42a51a507f9.mupexi\"\n",
      "[1] \"f15fcecc-01cd-4085-9aaf-19d55bd2170e.mupexi\"\n",
      "[1] \"f1a6dcb3-fcb6-4941-b2c0-3301e0839e24.mupexi\"\n",
      "[1] \"f3ac9f84-b9d8-4db3-9ffd-22bbab251aba.mupexi\"\n",
      "[1] \"f3db6565-8ade-4a3f-8e3f-9114910b9858.mupexi\"\n",
      "[1] \"f44e3994-0339-4c32-a221-a82df3977c79.mupexi\"\n"
     ]
    },
    {
     "name": "stderr",
     "output_type": "stream",
     "text": [
      "Genes in mupexi not found in overlapped variants\n",
      "\n"
     ]
    },
    {
     "name": "stdout",
     "output_type": "stream",
     "text": [
      "[1] \"f482ccb7-1817-4ad1-8cce-0df4daee353b.mupexi\"\n",
      "[1] \"f4c1b1c1-5e9e-4caa-8251-469534c1d812.mupexi\"\n",
      "[1] \"f4da6550-79e9-4fc7-9553-276274f06d15.mupexi\"\n",
      "[1] \"f5557242-1e92-4209-9b48-38fc7333346e.mupexi\"\n",
      "[1] \"f5605f62-72c4-4a13-8e03-3d2cd9b27be9.mupexi\"\n",
      "[1] \"f629617d-b9c6-4744-a131-f10ac27a6290.mupexi\"\n",
      "[1] \"f6d7d484-1bdc-4087-b04c-c3d7efb1b9ff.mupexi\"\n",
      "[1] \"f6e2ea5a-0970-4e02-b11e-d83180dddf55.mupexi\"\n",
      "[1] \"f73f0290-c5d9-4f3b-af96-4d6478ee56fd.mupexi\"\n",
      "[1] \"f7821ac2-7d58-4000-b269-01ee0af25270.mupexi\"\n"
     ]
    },
    {
     "name": "stderr",
     "output_type": "stream",
     "text": [
      "sample_id not found\n",
      "\n"
     ]
    },
    {
     "name": "stdout",
     "output_type": "stream",
     "text": [
      "[1] \"f7aeb423-6763-499f-8c17-b956794c3dc9.mupexi\"\n"
     ]
    },
    {
     "name": "stderr",
     "output_type": "stream",
     "text": [
      "sample_id not found\n",
      "\n"
     ]
    },
    {
     "name": "stdout",
     "output_type": "stream",
     "text": [
      "[1] \"f7b19fc4-1023-4f03-9761-6c8f2ce024ca.mupexi\"\n",
      "[1] \"f7c7afb5-7eab-4fda-a24f-57483e8dff34.mupexi\"\n",
      "[1] \"f801b048-6e87-4fa1-8cc8-45fce51a9865.mupexi\"\n",
      "[1] \"f810d954-c010-4bc4-b6cb-74b5f59fe7c0.mupexi\"\n",
      "[1] \"f8572aa5-cab7-4218-97cd-13b25b47eef6.mupexi\"\n",
      "[1] \"f9101293-57c8-448a-8ddc-8e2ad82d20ad.mupexi\"\n",
      "[1] \"fa6202c7-6328-41ad-b600-295f6405a829.mupexi\"\n"
     ]
    },
    {
     "name": "stderr",
     "output_type": "stream",
     "text": [
      "sample_id not found\n",
      "\n"
     ]
    },
    {
     "name": "stdout",
     "output_type": "stream",
     "text": [
      "[1] \"fabbd7a6-53e4-4ff2-89a2-e036fe389f25.mupexi\"\n",
      "[1] \"fb38060f-5563-4b25-b3b5-f4ac807fd35f.mupexi\"\n"
     ]
    },
    {
     "name": "stderr",
     "output_type": "stream",
     "text": [
      "sample_id not found\n",
      "\n"
     ]
    },
    {
     "name": "stdout",
     "output_type": "stream",
     "text": [
      "[1] \"fb766377-1d27-4d1f-8692-45b887a51427.mupexi\"\n",
      "[1] \"fc56202a-df9f-4e57-af3e-108a56808e30.mupexi\"\n",
      "[1] \"fc9ef947-ac81-4741-bd93-dee0e3dc76f5.mupexi\"\n"
     ]
    },
    {
     "name": "stderr",
     "output_type": "stream",
     "text": [
      "sample_id not found\n",
      "\n"
     ]
    },
    {
     "name": "stdout",
     "output_type": "stream",
     "text": [
      "[1] \"fcb6fbf5-6045-4076-97c5-67f5027a44ca.mupexi\"\n"
     ]
    },
    {
     "name": "stderr",
     "output_type": "stream",
     "text": [
      "sample_id not found\n",
      "\n"
     ]
    },
    {
     "name": "stdout",
     "output_type": "stream",
     "text": [
      "[1] \"fd982d34-29d2-450b-a9f5-541b8c7811a6.mupexi\"\n",
      "[1] \"fdf01de6-dba8-4ef8-b7b5-76ee8e53a00d.mupexi\"\n",
      "[1] \"ff436ec0-492c-414a-8564-74adaf4c9fac.mupexi\"\n"
     ]
    },
    {
     "name": "stderr",
     "output_type": "stream",
     "text": [
      "sample_id not found\n",
      "\n"
     ]
    },
    {
     "name": "stdout",
     "output_type": "stream",
     "text": [
      "[1] \"ffdd6cc0-0b9f-488b-b5d0-6ed5908e98ea.mupexi\"\n"
     ]
    }
   ],
   "source": [
    "for(f in flelist){\n",
    "    print(f)\n",
    "    #get the filename\n",
    "    myfilename <- gsub(\".mupexi\", \"\", f)\n",
    "    #get sample_id by grepping filename from manifest file\n",
    "    mysample_id <- opti_mutect2_cbttc$sample_id[grepl(myfilename, opti_mutect2_cbttc$name)]\n",
    "    #skip if sample_id is not in CBTTC_data_maf\n",
    "    if(sum(CBTTC_data_maf$sample_id == mysample_id) == 0){ \n",
    "        message(\"sample_id not found\")\n",
    "        next}\n",
    "    # get overlapped vars for the sample_id\n",
    "    myoverlappedmutations <- CBTTC_data_maf[CBTTC_data_maf$sample_id == mysample_id,]\n",
    "    \n",
    "    #read the mupexi file\n",
    "    mymupexi <- read.table(file = paste0(mountpath, f),\n",
    "                        sep = \"\\t\", check.names = F, comment.char = \"#\",\n",
    "                        header = TRUE, stringsAsFactors = FALSE)\n",
    "    #skip if genes in mupexi output arent in overlapped mutations\n",
    "    if(sum(mymupexi$Gene_ID %in% myoverlappedmutations$Gene) == 0){ \n",
    "        message(\"Genes in mupexi not found in overlapped variants\")\n",
    "        next}\n",
    "    #subset to overlapped vars only using Ensembl IDs\n",
    "    mupexi_genes <- mymupexi[ mymupexi$Gene_ID %in% myoverlappedmutations$Gene,]\n",
    "    mupexi_genes_AA <- mupexi_genes[ mupexi_genes$Amino_Acid_Change %in% myoverlappedmutations$Amino_acids,]\n",
    "    # annotate binders for Norm and Mut\n",
    "    mupexi_genes_AA$Norm_MHCbinder <- NA\n",
    "    mupexi_genes_AA$Norm_MHCbinder[mupexi_genes_AA$Norm_MHCrank_BA <= 0.5] <- \"SB\"\n",
    "    mupexi_genes_AA$Norm_MHCbinder[mupexi_genes_AA$Norm_MHCrank_BA > 0.5 &\n",
    "                                   mupexi_genes_AA$Norm_MHCrank_BA <= 2] <- \"WB\"\n",
    "\n",
    "\n",
    "    mupexi_genes_AA$Mut_MHCbinder <- NA\n",
    "    mupexi_genes_AA$Mut_MHCbinder[mupexi_genes_AA$Mut_MHCrank_BA <= 0.5] <- \"SB\"\n",
    "    mupexi_genes_AA$Mut_MHCbinder[mupexi_genes_AA$Mut_MHCrank_BA > 0.5 &\n",
    "                                  mupexi_genes_AA$Mut_MHCrank_BA <= 2] <- \"WB\"\n",
    "    \n",
    "      \n",
    "    #Include all peptides\n",
    "    mupexi_genes_AA_binders <- mupexi_genes_AA #[ !is.na(mupexi_genes_AA$Mut_MHCbinder),]\n",
    "    \n",
    "    #skip if no SB or WB in mupexi output arent in overlapped mutations\n",
    "    if(nrow(mupexi_genes_AA_binders) == 0){ \n",
    "        message(\"No SB or WB found in Mut_MHC\")\n",
    "        next} \n",
    "    # add sample_id as variable\n",
    "    mupexi_genes_AA_binders$sample_id <- mysample_id\n",
    "    write.table(mupexi_genes_AA_binders,\n",
    "           file = paste0(datapath, \"Mupexi/\", mysample_id, \"_overlappedvar_all.mupexi\"), sep = \"\\t\", quote = F, row.names = F)\n",
    "    \n",
    "}"
   ]
  },
  {
   "cell_type": "markdown",
   "metadata": {},
   "source": [
    "## TARGET"
   ]
  },
  {
   "cell_type": "code",
   "execution_count": 23,
   "metadata": {},
   "outputs": [],
   "source": [
    "mymaf_gdc <- read.maf(maf =  paste0(datapath, \"snv/GDC_allmaf_3VAF_fl_dedup_sampleid_KB.maf\"),\n",
    "                      useAll = TRUE, verbose = FALSE,\n",
    "                      vc_nonSyn = c(\"Frame_Shift_Del\", \"Frame_Shift_Ins\", \n",
    "                                    \"Nonsense_Mutation\",\"Nonstop_Mutation\", \n",
    "                                    \"In_Frame_Del\",\"In_Frame_Ins\", \n",
    "                                    \"Missense_Mutation\"))"
   ]
  },
  {
   "cell_type": "code",
   "execution_count": 24,
   "metadata": {},
   "outputs": [],
   "source": [
    "mymaf_gdc_data<- mymaf_gdc@data"
   ]
  },
  {
   "cell_type": "code",
   "execution_count": 25,
   "metadata": {},
   "outputs": [],
   "source": [
    "mymaf_gdc_data$Tumor_Sample_Barcode <- as.character(mymaf_gdc_data$Tumor_Sample_Barcode)"
   ]
  },
  {
   "cell_type": "markdown",
   "metadata": {},
   "source": [
    "Subset to TARGET only"
   ]
  },
  {
   "cell_type": "code",
   "execution_count": 26,
   "metadata": {},
   "outputs": [],
   "source": [
    "mymaf_target_data <- mymaf_gdc_data[grepl(\"TARGET\", mymaf_gdc_data$Tumor_Sample_Barcode),]"
   ]
  },
  {
   "cell_type": "markdown",
   "metadata": {},
   "source": [
    "subset to samples included in total_mut_manifest_estimate_quanti"
   ]
  },
  {
   "cell_type": "code",
   "execution_count": 27,
   "metadata": {},
   "outputs": [],
   "source": [
    "mymaf_target_data <- mymaf_target_data[mymaf_target_data$Tumor_Sample_Barcode %in% \n",
    "                                       total_mut_manifest_estimate$sample_id,]"
   ]
  },
  {
   "cell_type": "code",
   "execution_count": 28,
   "metadata": {},
   "outputs": [],
   "source": [
    "colnames(mymaf_target_data)[colnames(mymaf_target_data) == \"Tumor_Sample_Barcode\"] <- \"sample_id\""
   ]
  },
  {
   "cell_type": "code",
   "execution_count": 29,
   "metadata": {},
   "outputs": [
    {
     "data": {
      "text/html": [
       "98"
      ],
      "text/latex": [
       "98"
      ],
      "text/markdown": [
       "98"
      ],
      "text/plain": [
       "[1] 98"
      ]
     },
     "metadata": {},
     "output_type": "display_data"
    }
   ],
   "source": [
    "length(unique(mymaf_target_data$sample_id))"
   ]
  },
  {
   "cell_type": "markdown",
   "metadata": {},
   "source": [
    "read in optitype-mutect2 manifest"
   ]
  },
  {
   "cell_type": "code",
   "execution_count": 30,
   "metadata": {},
   "outputs": [],
   "source": [
    "opti_mutect2_target <- read.table(file = paste0(manifestpath, \"mutect2_optitype_manifest_target.txt\"),\n",
    "                        sep = \"\\t\", check.names = F, \n",
    "                        header = TRUE, stringsAsFactors = FALSE)"
   ]
  },
  {
   "cell_type": "code",
   "execution_count": 31,
   "metadata": {},
   "outputs": [],
   "source": [
    "for(f in flelist){\n",
    "    print(f)\n",
    "    #get the filename\n",
    "    myfilename <- gsub(\".mupexi\", \"\", f)\n",
    "    #get sample_id by grepping filename from manifest file\n",
    "    mysample_id <- opti_mutect2_target$sample_id.x[grepl(myfilename, opti_mutect2_target$name.y)]\n",
    "    #skip if sample_id is not in CBTTC_data_maf\n",
    "    if(sum(mymaf_target_data$sample_id == mysample_id) == 0){ \n",
    "        message(\"sample_id not found\")\n",
    "        next}\n",
    "    # get overlapped vars for the sample_id\n",
    "    myoverlappedmutations <- mymaf_target_data[mymaf_target_data$sample_id == mysample_id,]\n",
    "    \n",
    "    #read the mupexi file\n",
    "    mymupexi <- read.table(file = paste0(mountpath, f),\n",
    "                        sep = \"\\t\", check.names = F, comment.char = \"#\",\n",
    "                        header = TRUE, stringsAsFactors = FALSE)\n",
    "    #skip if genes in mupexi output arent in overlapped mutations\n",
    "    if(sum(mymupexi$Gene_ID %in% myoverlappedmutations$Gene) == 0){ \n",
    "        message(\"Genes in mupexi not found in overlapped variants\")\n",
    "        next}\n",
    "    #subset to overlapped vars only using Ensembl IDs\n",
    "    mupexi_genes <- mymupexi[ mymupexi$Gene_ID %in% myoverlappedmutations$Gene,]\n",
    "    mupexi_genes_AA <- mupexi_genes[ mupexi_genes$Amino_Acid_Change %in% myoverlappedmutations$Amino_acids,]\n",
    "    # annotate binders for Norm and Mut\n",
    "    mupexi_genes_AA$Norm_MHCbinder <- NA\n",
    "    mupexi_genes_AA$Norm_MHCbinder[mupexi_genes_AA$Norm_MHCrank_BA <= 0.5] <- \"SB\"\n",
    "    mupexi_genes_AA$Norm_MHCbinder[mupexi_genes_AA$Norm_MHCrank_BA > 0.5 &\n",
    "                                   mupexi_genes_AA$Norm_MHCrank_BA <= 2] <- \"WB\"\n",
    "\n",
    "\n",
    "    mupexi_genes_AA$Mut_MHCbinder <- NA\n",
    "    mupexi_genes_AA$Mut_MHCbinder[mupexi_genes_AA$Mut_MHCrank_BA <= 0.5] <- \"SB\"\n",
    "    mupexi_genes_AA$Mut_MHCbinder[mupexi_genes_AA$Mut_MHCrank_BA > 0.5 &\n",
    "                                  mupexi_genes_AA$Mut_MHCrank_BA <= 2] <- \"WB\"\n",
    "    \n",
    "    #Include only those that Mut_MHCbinder is eather WB or SB\n",
    "    mupexi_genes_AA_binders <- mupexi_genes_AA#[ !is.na(mupexi_genes_AA$Mut_MHCbinder),]\n",
    "    #skip if no SB or WB in mupexi output arent in overlapped mutations\n",
    "    if(nrow(mupexi_genes_AA_binders) == 0){ \n",
    "        message(\"No SB or WB found in Mut_MHC\")\n",
    "        next} \n",
    "    # add sample_id as variable\n",
    "    mupexi_genes_AA_binders$sample_id <- mysample_id    \n",
    "    write.table(mupexi_genes_AA_binders,\n",
    "           file = paste0(datapath, \"Mupexi/\", mysample_id, \"_overlappedvar_all.mupexi\"), sep = \"\\t\", quote = F, row.names = F)\n",
    "    \n",
    "}"
   ]
  },
  {
   "cell_type": "code",
   "execution_count": null,
   "metadata": {},
   "outputs": [],
   "source": []
  },
  {
   "cell_type": "code",
   "execution_count": null,
   "metadata": {},
   "outputs": [],
   "source": []
  }
 ],
 "metadata": {
  "kernelspec": {
   "display_name": "R 4.0",
   "language": "R",
   "name": "ir40"
  },
  "language_info": {
   "codemirror_mode": "r",
   "file_extension": ".r",
   "mimetype": "text/x-r-source",
   "name": "R",
   "pygments_lexer": "r",
   "version": "4.0.3"
  },
  "toc": {
   "base_numbering": 1,
   "nav_menu": {},
   "number_sections": false,
   "sideBar": true,
   "skip_h1_title": false,
   "title_cell": "Table of Contents",
   "title_sidebar": "Contents",
   "toc_cell": true,
   "toc_position": {
    "height": "calc(100% - 180px)",
    "left": "10px",
    "top": "150px",
    "width": "227.6px"
   },
   "toc_section_display": true,
   "toc_window_display": true
  }
 },
 "nbformat": 4,
 "nbformat_minor": 2
}
