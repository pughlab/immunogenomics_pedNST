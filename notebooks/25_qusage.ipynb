{
 "cells": [
  {
   "cell_type": "markdown",
   "metadata": {
    "toc": true
   },
   "source": [
    "<h1>Table of Contents<span class=\"tocSkip\"></span></h1>\n",
    "<div class=\"toc\"><ul class=\"toc-item\"><li><span><a href=\"#Dependenices\" data-toc-modified-id=\"Dependenices-1\">Dependenices</a></span></li><li><span><a href=\"#Functions\" data-toc-modified-id=\"Functions-2\">Functions</a></span></li><li><span><a href=\"#Paths\" data-toc-modified-id=\"Paths-3\">Paths</a></span></li><li><span><a href=\"#Main\" data-toc-modified-id=\"Main-4\">Main</a></span></li><li><span><a href=\"#Run-qusage\" data-toc-modified-id=\"Run-qusage-5\">Run qusage</a></span></li><li><span><a href=\"#Load-pathways\" data-toc-modified-id=\"Load-pathways-6\">Load pathways</a></span></li><li><span><a href=\"#Validate-with-proteomics\" data-toc-modified-id=\"Validate-with-proteomics-7\">Validate with proteomics</a></span></li></ul></div>"
   ]
  },
  {
   "cell_type": "markdown",
   "metadata": {},
   "source": [
    "# Dependenices"
   ]
  },
  {
   "cell_type": "code",
   "execution_count": 2,
   "metadata": {},
   "outputs": [],
   "source": [
    "options(scipen = 999)"
   ]
  },
  {
   "cell_type": "code",
   "execution_count": 3,
   "metadata": {},
   "outputs": [
    {
     "name": "stderr",
     "output_type": "stream",
     "text": [
      "Loading required package: limma\n",
      "\n"
     ]
    }
   ],
   "source": [
    "library(gridExtra)\n",
    "library(grid)\n",
    "library(qusage)"
   ]
  },
  {
   "cell_type": "markdown",
   "metadata": {},
   "source": [
    "# Functions"
   ]
  },
  {
   "cell_type": "code",
   "execution_count": 51,
   "metadata": {
    "scrolled": true
   },
   "outputs": [],
   "source": [
    "source(\"~/OneDrive - UHN/R_src/ggplot2_theme.R\")\n",
    "source(\"~/OneDrive - UHN/R_src/color_schemes.R\")\n",
    "source(\"~/OneDrive - UHN/R_src/plotting_functions.R\")\n",
    "source(\"~/OneDrive - UHN/R_src/Heatmap_functions.R\")"
   ]
  },
  {
   "cell_type": "code",
   "execution_count": 95,
   "metadata": {},
   "outputs": [],
   "source": [
    "hallmark_IC_stats_ridge <- function(proteinmat, metadata, hallmark){\n",
    "    \n",
    "    protein_mat_pathway <- as.matrix(proteinmat[rownames(proteinmat) %in% Hs.H[[hallmark]], rownames(metadata)])\n",
    "    print(dim(protein_mat_pathway))\n",
    "    pathway_mean <- colMeans(protein_mat_pathway)\n",
    "    \n",
    "    metadata$pathway_mean <- pathway_mean\n",
    "    \n",
    "    print(pairwise.t.test(metadata$pathway_mean, metadata$immune_cluster, p.adjust = \"bonferroni\"))\n",
    "\n",
    "    ridge_plot <- plot_ridge.fx(metadata, \"pathway_mean\")\n",
    "    return(ridge_plot + labs(title = hallmark))\n",
    "}"
   ]
  },
  {
   "cell_type": "markdown",
   "metadata": {},
   "source": [
    "# Paths"
   ]
  },
  {
   "cell_type": "code",
   "execution_count": 6,
   "metadata": {},
   "outputs": [],
   "source": [
    "datapath <- \"/Users/anabbi/OneDrive - UHN/Documents/IPD2/Data/\"\n",
    "plotpath <- \"/Users/anabbi/OneDrive - UHN/Documents/IPD2/Plots/\""
   ]
  },
  {
   "cell_type": "markdown",
   "metadata": {},
   "source": [
    "# Main"
   ]
  },
  {
   "cell_type": "code",
   "execution_count": 7,
   "metadata": {},
   "outputs": [],
   "source": [
    "Hs.H <- read.gmt(paste0(datapath, \"DEG/h.all.v7.1.symbols.gmt\"))  "
   ]
  },
  {
   "cell_type": "code",
   "execution_count": 8,
   "metadata": {},
   "outputs": [],
   "source": [
    "load(file.path(datapath,\"TME_clusters/IPD_estimate_metadata_IC.RData\"))"
   ]
  },
  {
   "cell_type": "code",
   "execution_count": 9,
   "metadata": {},
   "outputs": [],
   "source": [
    "load(paste0(datapath,\"exp_mat/tpm_matrix_ped_final.RData\"))"
   ]
  },
  {
   "cell_type": "code",
   "execution_count": 10,
   "metadata": {},
   "outputs": [
    {
     "data": {
      "text/plain": [
       "\n",
       "Pediatric inflamed     Myeloid-driven     Pediatric cold    Immune excluded \n",
       "                90                279                393                163 "
      ]
     },
     "metadata": {},
     "output_type": "display_data"
    }
   ],
   "source": [
    "table(metadata_IC$immune_cluster)"
   ]
  },
  {
   "cell_type": "code",
   "execution_count": 11,
   "metadata": {},
   "outputs": [],
   "source": [
    "tpm_matrix_ped_final <- tpm_matrix_ped_final[,rownames(metadata_IC)]"
   ]
  },
  {
   "cell_type": "code",
   "execution_count": 12,
   "metadata": {},
   "outputs": [
    {
     "data": {
      "text/html": [
       "<table class=\"dataframe\">\n",
       "<caption>A data.frame: 10 × 10</caption>\n",
       "<thead>\n",
       "\t<tr><th></th><th scope=col>TARGET-30-PAIFXV-01A</th><th scope=col>TARGET-30-PAIPGU-01A</th><th scope=col>TARGET-30-PAISNS-01A</th><th scope=col>TARGET-30-PAITCI-01A</th><th scope=col>TARGET-30-PAIVHE-01A</th><th scope=col>TARGET-30-PAIXIF-01A</th><th scope=col>TARGET-30-PAKYZS-01A</th><th scope=col>TARGET-30-PAKZRH-01A</th><th scope=col>TARGET-30-PALBFW-01A</th><th scope=col>TARGET-30-PALCBW-01A</th></tr>\n",
       "\t<tr><th></th><th scope=col>&lt;dbl&gt;</th><th scope=col>&lt;dbl&gt;</th><th scope=col>&lt;dbl&gt;</th><th scope=col>&lt;dbl&gt;</th><th scope=col>&lt;dbl&gt;</th><th scope=col>&lt;dbl&gt;</th><th scope=col>&lt;dbl&gt;</th><th scope=col>&lt;dbl&gt;</th><th scope=col>&lt;dbl&gt;</th><th scope=col>&lt;dbl&gt;</th></tr>\n",
       "</thead>\n",
       "<tbody>\n",
       "\t<tr><th scope=row>TSPAN6</th><td>11.57</td><td> 9.14</td><td>31.55</td><td>14.52</td><td>66.42</td><td>19.37</td><td>12.51</td><td>18.51</td><td>16.63</td><td> 21.17</td></tr>\n",
       "\t<tr><th scope=row>TNMD</th><td> 0.10</td><td> 0.08</td><td> 0.00</td><td> 0.00</td><td> 0.00</td><td> 0.00</td><td> 0.00</td><td> 0.17</td><td> 0.17</td><td>  0.19</td></tr>\n",
       "\t<tr><th scope=row>DPM1</th><td>22.48</td><td>31.96</td><td>44.65</td><td>87.72</td><td>36.07</td><td>23.47</td><td>27.27</td><td>43.03</td><td>32.10</td><td> 24.11</td></tr>\n",
       "\t<tr><th scope=row>SCYL3</th><td> 2.37</td><td> 1.78</td><td> 3.77</td><td> 2.49</td><td> 4.91</td><td> 3.00</td><td> 3.22</td><td> 3.84</td><td> 5.51</td><td>  5.68</td></tr>\n",
       "\t<tr><th scope=row>C1orf112</th><td> 1.46</td><td> 3.12</td><td> 8.13</td><td> 3.70</td><td> 6.83</td><td> 5.12</td><td> 2.21</td><td> 3.95</td><td> 3.18</td><td>  2.43</td></tr>\n",
       "\t<tr><th scope=row>FGR</th><td> 2.05</td><td> 4.70</td><td> 2.94</td><td> 0.84</td><td> 6.55</td><td> 2.64</td><td> 2.08</td><td> 1.50</td><td> 3.72</td><td>  6.42</td></tr>\n",
       "\t<tr><th scope=row>CFH</th><td> 9.79</td><td> 8.69</td><td>20.68</td><td>23.68</td><td>36.96</td><td>57.95</td><td>26.22</td><td>10.43</td><td>31.97</td><td>103.99</td></tr>\n",
       "\t<tr><th scope=row>FUCA2</th><td>14.27</td><td>11.80</td><td> 9.61</td><td>13.57</td><td>18.67</td><td>22.23</td><td>23.67</td><td>22.98</td><td>16.85</td><td> 42.18</td></tr>\n",
       "\t<tr><th scope=row>GCLC</th><td> 5.77</td><td> 4.42</td><td> 4.23</td><td> 6.69</td><td>13.15</td><td> 2.52</td><td> 9.76</td><td> 6.68</td><td>14.60</td><td> 10.05</td></tr>\n",
       "\t<tr><th scope=row>NFYA</th><td> 4.77</td><td> 8.20</td><td>13.73</td><td> 6.40</td><td> 9.47</td><td> 4.80</td><td> 4.94</td><td> 6.16</td><td> 8.01</td><td>  9.42</td></tr>\n",
       "</tbody>\n",
       "</table>\n"
      ],
      "text/latex": [
       "A data.frame: 10 × 10\n",
       "\\begin{tabular}{r|llllllllll}\n",
       "  & TARGET-30-PAIFXV-01A & TARGET-30-PAIPGU-01A & TARGET-30-PAISNS-01A & TARGET-30-PAITCI-01A & TARGET-30-PAIVHE-01A & TARGET-30-PAIXIF-01A & TARGET-30-PAKYZS-01A & TARGET-30-PAKZRH-01A & TARGET-30-PALBFW-01A & TARGET-30-PALCBW-01A\\\\\n",
       "  & <dbl> & <dbl> & <dbl> & <dbl> & <dbl> & <dbl> & <dbl> & <dbl> & <dbl> & <dbl>\\\\\n",
       "\\hline\n",
       "\tTSPAN6 & 11.57 &  9.14 & 31.55 & 14.52 & 66.42 & 19.37 & 12.51 & 18.51 & 16.63 &  21.17\\\\\n",
       "\tTNMD &  0.10 &  0.08 &  0.00 &  0.00 &  0.00 &  0.00 &  0.00 &  0.17 &  0.17 &   0.19\\\\\n",
       "\tDPM1 & 22.48 & 31.96 & 44.65 & 87.72 & 36.07 & 23.47 & 27.27 & 43.03 & 32.10 &  24.11\\\\\n",
       "\tSCYL3 &  2.37 &  1.78 &  3.77 &  2.49 &  4.91 &  3.00 &  3.22 &  3.84 &  5.51 &   5.68\\\\\n",
       "\tC1orf112 &  1.46 &  3.12 &  8.13 &  3.70 &  6.83 &  5.12 &  2.21 &  3.95 &  3.18 &   2.43\\\\\n",
       "\tFGR &  2.05 &  4.70 &  2.94 &  0.84 &  6.55 &  2.64 &  2.08 &  1.50 &  3.72 &   6.42\\\\\n",
       "\tCFH &  9.79 &  8.69 & 20.68 & 23.68 & 36.96 & 57.95 & 26.22 & 10.43 & 31.97 & 103.99\\\\\n",
       "\tFUCA2 & 14.27 & 11.80 &  9.61 & 13.57 & 18.67 & 22.23 & 23.67 & 22.98 & 16.85 &  42.18\\\\\n",
       "\tGCLC &  5.77 &  4.42 &  4.23 &  6.69 & 13.15 &  2.52 &  9.76 &  6.68 & 14.60 &  10.05\\\\\n",
       "\tNFYA &  4.77 &  8.20 & 13.73 &  6.40 &  9.47 &  4.80 &  4.94 &  6.16 &  8.01 &   9.42\\\\\n",
       "\\end{tabular}\n"
      ],
      "text/markdown": [
       "\n",
       "A data.frame: 10 × 10\n",
       "\n",
       "| <!--/--> | TARGET-30-PAIFXV-01A &lt;dbl&gt; | TARGET-30-PAIPGU-01A &lt;dbl&gt; | TARGET-30-PAISNS-01A &lt;dbl&gt; | TARGET-30-PAITCI-01A &lt;dbl&gt; | TARGET-30-PAIVHE-01A &lt;dbl&gt; | TARGET-30-PAIXIF-01A &lt;dbl&gt; | TARGET-30-PAKYZS-01A &lt;dbl&gt; | TARGET-30-PAKZRH-01A &lt;dbl&gt; | TARGET-30-PALBFW-01A &lt;dbl&gt; | TARGET-30-PALCBW-01A &lt;dbl&gt; |\n",
       "|---|---|---|---|---|---|---|---|---|---|---|\n",
       "| TSPAN6 | 11.57 |  9.14 | 31.55 | 14.52 | 66.42 | 19.37 | 12.51 | 18.51 | 16.63 |  21.17 |\n",
       "| TNMD |  0.10 |  0.08 |  0.00 |  0.00 |  0.00 |  0.00 |  0.00 |  0.17 |  0.17 |   0.19 |\n",
       "| DPM1 | 22.48 | 31.96 | 44.65 | 87.72 | 36.07 | 23.47 | 27.27 | 43.03 | 32.10 |  24.11 |\n",
       "| SCYL3 |  2.37 |  1.78 |  3.77 |  2.49 |  4.91 |  3.00 |  3.22 |  3.84 |  5.51 |   5.68 |\n",
       "| C1orf112 |  1.46 |  3.12 |  8.13 |  3.70 |  6.83 |  5.12 |  2.21 |  3.95 |  3.18 |   2.43 |\n",
       "| FGR |  2.05 |  4.70 |  2.94 |  0.84 |  6.55 |  2.64 |  2.08 |  1.50 |  3.72 |   6.42 |\n",
       "| CFH |  9.79 |  8.69 | 20.68 | 23.68 | 36.96 | 57.95 | 26.22 | 10.43 | 31.97 | 103.99 |\n",
       "| FUCA2 | 14.27 | 11.80 |  9.61 | 13.57 | 18.67 | 22.23 | 23.67 | 22.98 | 16.85 |  42.18 |\n",
       "| GCLC |  5.77 |  4.42 |  4.23 |  6.69 | 13.15 |  2.52 |  9.76 |  6.68 | 14.60 |  10.05 |\n",
       "| NFYA |  4.77 |  8.20 | 13.73 |  6.40 |  9.47 |  4.80 |  4.94 |  6.16 |  8.01 |   9.42 |\n",
       "\n"
      ],
      "text/plain": [
       "         TARGET-30-PAIFXV-01A TARGET-30-PAIPGU-01A TARGET-30-PAISNS-01A\n",
       "TSPAN6   11.57                 9.14                31.55               \n",
       "TNMD      0.10                 0.08                 0.00               \n",
       "DPM1     22.48                31.96                44.65               \n",
       "SCYL3     2.37                 1.78                 3.77               \n",
       "C1orf112  1.46                 3.12                 8.13               \n",
       "FGR       2.05                 4.70                 2.94               \n",
       "CFH       9.79                 8.69                20.68               \n",
       "FUCA2    14.27                11.80                 9.61               \n",
       "GCLC      5.77                 4.42                 4.23               \n",
       "NFYA      4.77                 8.20                13.73               \n",
       "         TARGET-30-PAITCI-01A TARGET-30-PAIVHE-01A TARGET-30-PAIXIF-01A\n",
       "TSPAN6   14.52                66.42                19.37               \n",
       "TNMD      0.00                 0.00                 0.00               \n",
       "DPM1     87.72                36.07                23.47               \n",
       "SCYL3     2.49                 4.91                 3.00               \n",
       "C1orf112  3.70                 6.83                 5.12               \n",
       "FGR       0.84                 6.55                 2.64               \n",
       "CFH      23.68                36.96                57.95               \n",
       "FUCA2    13.57                18.67                22.23               \n",
       "GCLC      6.69                13.15                 2.52               \n",
       "NFYA      6.40                 9.47                 4.80               \n",
       "         TARGET-30-PAKYZS-01A TARGET-30-PAKZRH-01A TARGET-30-PALBFW-01A\n",
       "TSPAN6   12.51                18.51                16.63               \n",
       "TNMD      0.00                 0.17                 0.17               \n",
       "DPM1     27.27                43.03                32.10               \n",
       "SCYL3     3.22                 3.84                 5.51               \n",
       "C1orf112  2.21                 3.95                 3.18               \n",
       "FGR       2.08                 1.50                 3.72               \n",
       "CFH      26.22                10.43                31.97               \n",
       "FUCA2    23.67                22.98                16.85               \n",
       "GCLC      9.76                 6.68                14.60               \n",
       "NFYA      4.94                 6.16                 8.01               \n",
       "         TARGET-30-PALCBW-01A\n",
       "TSPAN6    21.17              \n",
       "TNMD       0.19              \n",
       "DPM1      24.11              \n",
       "SCYL3      5.68              \n",
       "C1orf112   2.43              \n",
       "FGR        6.42              \n",
       "CFH      103.99              \n",
       "FUCA2     42.18              \n",
       "GCLC      10.05              \n",
       "NFYA       9.42              "
      ]
     },
     "metadata": {},
     "output_type": "display_data"
    }
   ],
   "source": [
    "tpm_matrix_ped_final[1:10,1:10]"
   ]
  },
  {
   "cell_type": "code",
   "execution_count": 13,
   "metadata": {},
   "outputs": [],
   "source": [
    "# log2 for qusage\n",
    "tpm_matrix_ped_final_log <- log2(tpm_matrix_ped_final + 1)"
   ]
  },
  {
   "cell_type": "markdown",
   "metadata": {},
   "source": [
    "# Run qusage"
   ]
  },
  {
   "cell_type": "code",
   "execution_count": null,
   "metadata": {},
   "outputs": [],
   "source": [
    "list_pathwaytables <- parallel::mclapply(unique(metadata_IC$immune_cluster), function(x){\n",
    "    \n",
    "    mycluster <- x\n",
    "\n",
    "    message(mycluster)\n",
    "    \n",
    "    tmp <- metadata_IC\n",
    "    tmp$class <- NA\n",
    "    tmp$class[ tmp$immune_cluster == mycluster] <- mycluster\n",
    "    tmp$class[ tmp$immune_cluster != mycluster] <- \"Others\" \n",
    "\n",
    "    tmp$class <- factor(tmp$class)\n",
    "    \n",
    "    mycontrast <- paste0(mycluster, \"-Others\")\n",
    "    \n",
    "    myresults <- qgen(tpm_matrix_ped_final_log,\n",
    "                  design = tmp[,c(\"sample_id\", \"cohort\", \"class\", \"group\")],\n",
    "                  geneSets = Hs.H,\n",
    "                  fixed= ~ group + cohort + class, #control for batch and cohort\n",
    "                  contrast.factor = ~ class,\n",
    "                  contrast= mycontrast,\n",
    "                  design.sampleid= \"sample_id\")\n",
    "    \n",
    "    mytable <- qsTable(myresults, number = 50)\n",
    "    mytable$contrast <- mycontrast    \n",
    "    \n",
    "    return(mytable)\n",
    "    \n",
    "}, mc.cores = 3)"
   ]
  },
  {
   "cell_type": "code",
   "execution_count": null,
   "metadata": {},
   "outputs": [],
   "source": [
    "pathwaytable <- do.call(\"rbind\", list_pathwaytables)"
   ]
  },
  {
   "cell_type": "code",
   "execution_count": null,
   "metadata": {},
   "outputs": [],
   "source": [
    "head(pathwaytable)"
   ]
  },
  {
   "cell_type": "code",
   "execution_count": null,
   "metadata": {},
   "outputs": [],
   "source": [
    "save(pathwaytable, file = paste0(datapath, \"DEG/pathwaytable.RData\"))"
   ]
  },
  {
   "cell_type": "markdown",
   "metadata": {},
   "source": [
    "# Load pathways"
   ]
  },
  {
   "cell_type": "code",
   "execution_count": 14,
   "metadata": {},
   "outputs": [],
   "source": [
    "load(file = paste0(datapath, \"DEG/pathwaytable.RData\"))"
   ]
  },
  {
   "cell_type": "code",
   "execution_count": 15,
   "metadata": {},
   "outputs": [
    {
     "data": {
      "text/html": [
       "<table class=\"dataframe\">\n",
       "<caption>A data.frame: 6 × 5</caption>\n",
       "<thead>\n",
       "\t<tr><th></th><th scope=col>pathway.name</th><th scope=col>log.fold.change</th><th scope=col>p.Value</th><th scope=col>FDR</th><th scope=col>contrast</th></tr>\n",
       "\t<tr><th></th><th scope=col>&lt;chr&gt;</th><th scope=col>&lt;dbl&gt;</th><th scope=col>&lt;dbl&gt;</th><th scope=col>&lt;dbl&gt;</th><th scope=col>&lt;chr&gt;</th></tr>\n",
       "</thead>\n",
       "<tbody>\n",
       "\t<tr><th scope=row>31</th><td>HALLMARK_INFLAMMATORY_RESPONSE    </td><td>0.2256761</td><td>0</td><td>0</td><td>C2-Others</td></tr>\n",
       "\t<tr><th scope=row>46</th><td>HALLMARK_ALLOGRAFT_REJECTION      </td><td>0.2392878</td><td>0</td><td>0</td><td>C2-Others</td></tr>\n",
       "\t<tr><th scope=row>7</th><td>HALLMARK_IL6_JAK_STAT3_SIGNALING  </td><td>0.2702564</td><td>0</td><td>0</td><td>C2-Others</td></tr>\n",
       "\t<tr><th scope=row>1</th><td>HALLMARK_TNFA_SIGNALING_VIA_NFKB  </td><td>0.2755332</td><td>0</td><td>0</td><td>C2-Others</td></tr>\n",
       "\t<tr><th scope=row>19</th><td>HALLMARK_INTERFERON_GAMMA_RESPONSE</td><td>0.2963696</td><td>0</td><td>0</td><td>C2-Others</td></tr>\n",
       "\t<tr><th scope=row>18</th><td>HALLMARK_INTERFERON_ALPHA_RESPONSE</td><td>0.3175695</td><td>0</td><td>0</td><td>C2-Others</td></tr>\n",
       "</tbody>\n",
       "</table>\n"
      ],
      "text/latex": [
       "A data.frame: 6 × 5\n",
       "\\begin{tabular}{r|lllll}\n",
       "  & pathway.name & log.fold.change & p.Value & FDR & contrast\\\\\n",
       "  & <chr> & <dbl> & <dbl> & <dbl> & <chr>\\\\\n",
       "\\hline\n",
       "\t31 & HALLMARK\\_INFLAMMATORY\\_RESPONSE     & 0.2256761 & 0 & 0 & C2-Others\\\\\n",
       "\t46 & HALLMARK\\_ALLOGRAFT\\_REJECTION       & 0.2392878 & 0 & 0 & C2-Others\\\\\n",
       "\t7 & HALLMARK\\_IL6\\_JAK\\_STAT3\\_SIGNALING   & 0.2702564 & 0 & 0 & C2-Others\\\\\n",
       "\t1 & HALLMARK\\_TNFA\\_SIGNALING\\_VIA\\_NFKB   & 0.2755332 & 0 & 0 & C2-Others\\\\\n",
       "\t19 & HALLMARK\\_INTERFERON\\_GAMMA\\_RESPONSE & 0.2963696 & 0 & 0 & C2-Others\\\\\n",
       "\t18 & HALLMARK\\_INTERFERON\\_ALPHA\\_RESPONSE & 0.3175695 & 0 & 0 & C2-Others\\\\\n",
       "\\end{tabular}\n"
      ],
      "text/markdown": [
       "\n",
       "A data.frame: 6 × 5\n",
       "\n",
       "| <!--/--> | pathway.name &lt;chr&gt; | log.fold.change &lt;dbl&gt; | p.Value &lt;dbl&gt; | FDR &lt;dbl&gt; | contrast &lt;chr&gt; |\n",
       "|---|---|---|---|---|---|\n",
       "| 31 | HALLMARK_INFLAMMATORY_RESPONSE     | 0.2256761 | 0 | 0 | C2-Others |\n",
       "| 46 | HALLMARK_ALLOGRAFT_REJECTION       | 0.2392878 | 0 | 0 | C2-Others |\n",
       "| 7 | HALLMARK_IL6_JAK_STAT3_SIGNALING   | 0.2702564 | 0 | 0 | C2-Others |\n",
       "| 1 | HALLMARK_TNFA_SIGNALING_VIA_NFKB   | 0.2755332 | 0 | 0 | C2-Others |\n",
       "| 19 | HALLMARK_INTERFERON_GAMMA_RESPONSE | 0.2963696 | 0 | 0 | C2-Others |\n",
       "| 18 | HALLMARK_INTERFERON_ALPHA_RESPONSE | 0.3175695 | 0 | 0 | C2-Others |\n",
       "\n"
      ],
      "text/plain": [
       "   pathway.name                       log.fold.change p.Value FDR contrast \n",
       "31 HALLMARK_INFLAMMATORY_RESPONSE     0.2256761       0       0   C2-Others\n",
       "46 HALLMARK_ALLOGRAFT_REJECTION       0.2392878       0       0   C2-Others\n",
       "7  HALLMARK_IL6_JAK_STAT3_SIGNALING   0.2702564       0       0   C2-Others\n",
       "1  HALLMARK_TNFA_SIGNALING_VIA_NFKB   0.2755332       0       0   C2-Others\n",
       "19 HALLMARK_INTERFERON_GAMMA_RESPONSE 0.2963696       0       0   C2-Others\n",
       "18 HALLMARK_INTERFERON_ALPHA_RESPONSE 0.3175695       0       0   C2-Others"
      ]
     },
     "metadata": {},
     "output_type": "display_data"
    }
   ],
   "source": [
    "head(pathwaytable)"
   ]
  },
  {
   "cell_type": "code",
   "execution_count": 16,
   "metadata": {},
   "outputs": [],
   "source": [
    "xlsx::write.xlsx(pathwaytable, file = \"~/OneDrive - UHN/Documents/Manuscripts/IPD/v9/TableS7.xlsx\",\n",
    "                row.names = F)"
   ]
  },
  {
   "cell_type": "code",
   "execution_count": 17,
   "metadata": {},
   "outputs": [
    {
     "data": {
      "text/plain": [
       "      Min.    1st Qu.     Median       Mean    3rd Qu.       Max. \n",
       "-0.4991034 -0.0595144 -0.0008032  0.0222983  0.1043042  0.6466560 "
      ]
     },
     "metadata": {},
     "output_type": "display_data"
    }
   ],
   "source": [
    "summary(pathwaytable$log.fold.change)"
   ]
  },
  {
   "cell_type": "code",
   "execution_count": 18,
   "metadata": {},
   "outputs": [
    {
     "data": {
      "text/plain": [
       "     Min.   1st Qu.    Median      Mean   3rd Qu.      Max. \n",
       "0.0000000 0.0003008 0.0760154 0.2104938 0.3393969 0.9955480 "
      ]
     },
     "metadata": {},
     "output_type": "display_data"
    }
   ],
   "source": [
    "summary(pathwaytable$FDR)"
   ]
  },
  {
   "cell_type": "code",
   "execution_count": 19,
   "metadata": {},
   "outputs": [],
   "source": [
    "fc_tab <- pathwaytable[,c(\"pathway.name\", \"contrast\",\"log.fold.change\")]\n",
    "\n",
    "fdr_tab <- pathwaytable[,c(\"pathway.name\", \"contrast\",\"FDR\")]"
   ]
  },
  {
   "cell_type": "code",
   "execution_count": 20,
   "metadata": {},
   "outputs": [],
   "source": [
    "fc_mat <- tidyr::spread(fc_tab, key = contrast, value = log.fold.change)\n",
    "\n",
    "fdr_mat <- tidyr::spread(fdr_tab, key = contrast, value = FDR)"
   ]
  },
  {
   "cell_type": "code",
   "execution_count": 21,
   "metadata": {},
   "outputs": [],
   "source": [
    "rownames(fc_mat) <- fc_mat$pathway.name\n",
    "fc_mat$pathway.name <- NULL\n",
    "fc_mat <- as.matrix(fc_mat)"
   ]
  },
  {
   "cell_type": "code",
   "execution_count": 22,
   "metadata": {},
   "outputs": [],
   "source": [
    "rownames(fdr_mat) <- fdr_mat$pathway.name\n",
    "fdr_mat$pathway.name <- NULL\n",
    "fdr_mat <- as.matrix(fdr_mat)"
   ]
  },
  {
   "cell_type": "code",
   "execution_count": 23,
   "metadata": {},
   "outputs": [
    {
     "data": {
      "text/html": [
       "<table class=\"dataframe\">\n",
       "<caption>A matrix: 6 × 4 of type dbl</caption>\n",
       "<thead>\n",
       "\t<tr><th></th><th scope=col>C1-Others</th><th scope=col>C2-Others</th><th scope=col>C3-Others</th><th scope=col>C4-Others</th></tr>\n",
       "</thead>\n",
       "<tbody>\n",
       "\t<tr><th scope=row>HALLMARK_ADIPOGENESIS</th><td>0.0170638677549</td><td>0.46929424820587</td><td>0.133335830321</td><td>0.417995887</td></tr>\n",
       "\t<tr><th scope=row>HALLMARK_ALLOGRAFT_REJECTION</th><td>0.0000000000000</td><td>0.00000000000000</td><td>0.000000720659</td><td>0.000000000</td></tr>\n",
       "\t<tr><th scope=row>HALLMARK_ANDROGEN_RESPONSE</th><td>0.0749467607812</td><td>0.03899330592721</td><td>0.049373804710</td><td>0.215965851</td></tr>\n",
       "\t<tr><th scope=row>HALLMARK_ANGIOGENESIS</th><td>0.0000002169008</td><td>0.00000002051886</td><td>0.004533356001</td><td>0.000000000</td></tr>\n",
       "\t<tr><th scope=row>HALLMARK_APICAL_JUNCTION</th><td>0.0221075329021</td><td>0.11995234008688</td><td>0.124608219426</td><td>0.098497288</td></tr>\n",
       "\t<tr><th scope=row>HALLMARK_APICAL_SURFACE</th><td>0.0001492474463</td><td>0.04267685421600</td><td>0.050067435291</td><td>0.006105257</td></tr>\n",
       "</tbody>\n",
       "</table>\n"
      ],
      "text/latex": [
       "A matrix: 6 × 4 of type dbl\n",
       "\\begin{tabular}{r|llll}\n",
       "  & C1-Others & C2-Others & C3-Others & C4-Others\\\\\n",
       "\\hline\n",
       "\tHALLMARK\\_ADIPOGENESIS & 0.0170638677549 & 0.46929424820587 & 0.133335830321 & 0.417995887\\\\\n",
       "\tHALLMARK\\_ALLOGRAFT\\_REJECTION & 0.0000000000000 & 0.00000000000000 & 0.000000720659 & 0.000000000\\\\\n",
       "\tHALLMARK\\_ANDROGEN\\_RESPONSE & 0.0749467607812 & 0.03899330592721 & 0.049373804710 & 0.215965851\\\\\n",
       "\tHALLMARK\\_ANGIOGENESIS & 0.0000002169008 & 0.00000002051886 & 0.004533356001 & 0.000000000\\\\\n",
       "\tHALLMARK\\_APICAL\\_JUNCTION & 0.0221075329021 & 0.11995234008688 & 0.124608219426 & 0.098497288\\\\\n",
       "\tHALLMARK\\_APICAL\\_SURFACE & 0.0001492474463 & 0.04267685421600 & 0.050067435291 & 0.006105257\\\\\n",
       "\\end{tabular}\n"
      ],
      "text/markdown": [
       "\n",
       "A matrix: 6 × 4 of type dbl\n",
       "\n",
       "| <!--/--> | C1-Others | C2-Others | C3-Others | C4-Others |\n",
       "|---|---|---|---|---|\n",
       "| HALLMARK_ADIPOGENESIS | 0.0170638677549 | 0.46929424820587 | 0.133335830321 | 0.417995887 |\n",
       "| HALLMARK_ALLOGRAFT_REJECTION | 0.0000000000000 | 0.00000000000000 | 0.000000720659 | 0.000000000 |\n",
       "| HALLMARK_ANDROGEN_RESPONSE | 0.0749467607812 | 0.03899330592721 | 0.049373804710 | 0.215965851 |\n",
       "| HALLMARK_ANGIOGENESIS | 0.0000002169008 | 0.00000002051886 | 0.004533356001 | 0.000000000 |\n",
       "| HALLMARK_APICAL_JUNCTION | 0.0221075329021 | 0.11995234008688 | 0.124608219426 | 0.098497288 |\n",
       "| HALLMARK_APICAL_SURFACE | 0.0001492474463 | 0.04267685421600 | 0.050067435291 | 0.006105257 |\n",
       "\n"
      ],
      "text/plain": [
       "                             C1-Others       C2-Others        C3-Others     \n",
       "HALLMARK_ADIPOGENESIS        0.0170638677549 0.46929424820587 0.133335830321\n",
       "HALLMARK_ALLOGRAFT_REJECTION 0.0000000000000 0.00000000000000 0.000000720659\n",
       "HALLMARK_ANDROGEN_RESPONSE   0.0749467607812 0.03899330592721 0.049373804710\n",
       "HALLMARK_ANGIOGENESIS        0.0000002169008 0.00000002051886 0.004533356001\n",
       "HALLMARK_APICAL_JUNCTION     0.0221075329021 0.11995234008688 0.124608219426\n",
       "HALLMARK_APICAL_SURFACE      0.0001492474463 0.04267685421600 0.050067435291\n",
       "                             C4-Others  \n",
       "HALLMARK_ADIPOGENESIS        0.417995887\n",
       "HALLMARK_ALLOGRAFT_REJECTION 0.000000000\n",
       "HALLMARK_ANDROGEN_RESPONSE   0.215965851\n",
       "HALLMARK_ANGIOGENESIS        0.000000000\n",
       "HALLMARK_APICAL_JUNCTION     0.098497288\n",
       "HALLMARK_APICAL_SURFACE      0.006105257"
      ]
     },
     "metadata": {},
     "output_type": "display_data"
    }
   ],
   "source": [
    "head(fdr_mat)"
   ]
  },
  {
   "cell_type": "code",
   "execution_count": 24,
   "metadata": {},
   "outputs": [
    {
     "data": {
      "text/html": [
       "<style>\n",
       ".list-inline {list-style: none; margin:0; padding: 0}\n",
       ".list-inline>li {display: inline-block}\n",
       ".list-inline>li:not(:last-child)::after {content: \"\\00b7\"; padding: 0 .5ex}\n",
       "</style>\n",
       "<ol class=list-inline><li>50</li><li>4</li></ol>\n"
      ],
      "text/latex": [
       "\\begin{enumerate*}\n",
       "\\item 50\n",
       "\\item 4\n",
       "\\end{enumerate*}\n"
      ],
      "text/markdown": [
       "1. 50\n",
       "2. 4\n",
       "\n",
       "\n"
      ],
      "text/plain": [
       "[1] 50  4"
      ]
     },
     "metadata": {},
     "output_type": "display_data"
    }
   ],
   "source": [
    "dim(fc_mat)"
   ]
  },
  {
   "cell_type": "markdown",
   "metadata": {},
   "source": [
    "Remove those pathways with fdr > 0.1 in all clusters"
   ]
  },
  {
   "cell_type": "code",
   "execution_count": 25,
   "metadata": {},
   "outputs": [],
   "source": [
    "fc_mat_pathways <- fc_mat[rownames(fdr_mat)[rowSums(fdr_mat > 0.1) <= 2],]\n",
    "\n",
    "fdr_mat_pathways <- fdr_mat[rownames(fdr_mat)[rowSums(fdr_mat > 0.1) <= 2],]"
   ]
  },
  {
   "cell_type": "code",
   "execution_count": 26,
   "metadata": {},
   "outputs": [
    {
     "data": {
      "text/html": [
       "<style>\n",
       ".list-inline {list-style: none; margin:0; padding: 0}\n",
       ".list-inline>li {display: inline-block}\n",
       ".list-inline>li:not(:last-child)::after {content: \"\\00b7\"; padding: 0 .5ex}\n",
       "</style>\n",
       "<ol class=list-inline><li>29</li><li>4</li></ol>\n"
      ],
      "text/latex": [
       "\\begin{enumerate*}\n",
       "\\item 29\n",
       "\\item 4\n",
       "\\end{enumerate*}\n"
      ],
      "text/markdown": [
       "1. 29\n",
       "2. 4\n",
       "\n",
       "\n"
      ],
      "text/plain": [
       "[1] 29  4"
      ]
     },
     "metadata": {},
     "output_type": "display_data"
    }
   ],
   "source": [
    "dim(fc_mat_pathways)"
   ]
  },
  {
   "cell_type": "code",
   "execution_count": 27,
   "metadata": {},
   "outputs": [
    {
     "data": {
      "text/html": [
       "<table class=\"dataframe\">\n",
       "<caption>A matrix: 6 × 4 of type dbl</caption>\n",
       "<thead>\n",
       "\t<tr><th></th><th scope=col>C1-Others</th><th scope=col>C2-Others</th><th scope=col>C3-Others</th><th scope=col>C4-Others</th></tr>\n",
       "</thead>\n",
       "<tbody>\n",
       "\t<tr><th scope=row>HALLMARK_ALLOGRAFT_REJECTION</th><td>0.6227865</td><td>0.23928784</td><td>-0.16645024</td><td>-0.43922019</td></tr>\n",
       "\t<tr><th scope=row>HALLMARK_ANDROGEN_RESPONSE</th><td>0.1047807</td><td>0.08529859</td><td>-0.07434887</td><td>-0.05947901</td></tr>\n",
       "\t<tr><th scope=row>HALLMARK_ANGIOGENESIS</th><td>0.3413720</td><td>0.24674186</td><td>-0.12708994</td><td>-0.34185104</td></tr>\n",
       "\t<tr><th scope=row>HALLMARK_APICAL_JUNCTION</th><td>0.1170657</td><td>0.05774794</td><td>-0.05087814</td><td>-0.06774862</td></tr>\n",
       "\t<tr><th scope=row>HALLMARK_APICAL_SURFACE</th><td>0.1588116</td><td>0.06282899</td><td>-0.05471159</td><td>-0.09412805</td></tr>\n",
       "\t<tr><th scope=row>HALLMARK_APOPTOSIS</th><td>0.3312808</td><td>0.17732190</td><td>-0.11822580</td><td>-0.25385839</td></tr>\n",
       "</tbody>\n",
       "</table>\n"
      ],
      "text/latex": [
       "A matrix: 6 × 4 of type dbl\n",
       "\\begin{tabular}{r|llll}\n",
       "  & C1-Others & C2-Others & C3-Others & C4-Others\\\\\n",
       "\\hline\n",
       "\tHALLMARK\\_ALLOGRAFT\\_REJECTION & 0.6227865 & 0.23928784 & -0.16645024 & -0.43922019\\\\\n",
       "\tHALLMARK\\_ANDROGEN\\_RESPONSE & 0.1047807 & 0.08529859 & -0.07434887 & -0.05947901\\\\\n",
       "\tHALLMARK\\_ANGIOGENESIS & 0.3413720 & 0.24674186 & -0.12708994 & -0.34185104\\\\\n",
       "\tHALLMARK\\_APICAL\\_JUNCTION & 0.1170657 & 0.05774794 & -0.05087814 & -0.06774862\\\\\n",
       "\tHALLMARK\\_APICAL\\_SURFACE & 0.1588116 & 0.06282899 & -0.05471159 & -0.09412805\\\\\n",
       "\tHALLMARK\\_APOPTOSIS & 0.3312808 & 0.17732190 & -0.11822580 & -0.25385839\\\\\n",
       "\\end{tabular}\n"
      ],
      "text/markdown": [
       "\n",
       "A matrix: 6 × 4 of type dbl\n",
       "\n",
       "| <!--/--> | C1-Others | C2-Others | C3-Others | C4-Others |\n",
       "|---|---|---|---|---|\n",
       "| HALLMARK_ALLOGRAFT_REJECTION | 0.6227865 | 0.23928784 | -0.16645024 | -0.43922019 |\n",
       "| HALLMARK_ANDROGEN_RESPONSE | 0.1047807 | 0.08529859 | -0.07434887 | -0.05947901 |\n",
       "| HALLMARK_ANGIOGENESIS | 0.3413720 | 0.24674186 | -0.12708994 | -0.34185104 |\n",
       "| HALLMARK_APICAL_JUNCTION | 0.1170657 | 0.05774794 | -0.05087814 | -0.06774862 |\n",
       "| HALLMARK_APICAL_SURFACE | 0.1588116 | 0.06282899 | -0.05471159 | -0.09412805 |\n",
       "| HALLMARK_APOPTOSIS | 0.3312808 | 0.17732190 | -0.11822580 | -0.25385839 |\n",
       "\n"
      ],
      "text/plain": [
       "                             C1-Others C2-Others  C3-Others   C4-Others  \n",
       "HALLMARK_ALLOGRAFT_REJECTION 0.6227865 0.23928784 -0.16645024 -0.43922019\n",
       "HALLMARK_ANDROGEN_RESPONSE   0.1047807 0.08529859 -0.07434887 -0.05947901\n",
       "HALLMARK_ANGIOGENESIS        0.3413720 0.24674186 -0.12708994 -0.34185104\n",
       "HALLMARK_APICAL_JUNCTION     0.1170657 0.05774794 -0.05087814 -0.06774862\n",
       "HALLMARK_APICAL_SURFACE      0.1588116 0.06282899 -0.05471159 -0.09412805\n",
       "HALLMARK_APOPTOSIS           0.3312808 0.17732190 -0.11822580 -0.25385839"
      ]
     },
     "metadata": {},
     "output_type": "display_data"
    }
   ],
   "source": [
    "head(fc_mat_pathways)"
   ]
  },
  {
   "cell_type": "code",
   "execution_count": 28,
   "metadata": {},
   "outputs": [],
   "source": [
    "#clean up row and colnames\n",
    "rownames(fc_mat_pathways) <- gsub(\"HALLMARK_\", \"\", rownames(fc_mat_pathways))\n",
    "rownames(fc_mat_pathways) <- gsub(\"_\", \" \", rownames(fc_mat_pathways))\n",
    "\n",
    "colnames(fc_mat_pathways) <- gsub(\"-Others\", \"\", colnames(fc_mat_pathways))"
   ]
  },
  {
   "cell_type": "code",
   "execution_count": 29,
   "metadata": {},
   "outputs": [
    {
     "data": {
      "text/plain": [
       "     Min.   1st Qu.    Median      Mean   3rd Qu.      Max. \n",
       "-0.499103 -0.103879  0.008798  0.030468  0.158927  0.646656 "
      ]
     },
     "metadata": {},
     "output_type": "display_data"
    }
   ],
   "source": [
    "summary(as.vector(fc_mat_pathways))"
   ]
  },
  {
   "cell_type": "code",
   "execution_count": 30,
   "metadata": {},
   "outputs": [],
   "source": [
    "col_fun= colorRamp2(c(-0.6, 0, 0.6), c(\"blue\", \"white\", \"red\"))\n",
    "    \n",
    "pathways_hm = Heatmap(fc_mat_pathways,\n",
    "                       #titles and names   \n",
    "                       name = \"Log2_FC\",   \n",
    "                       show_row_names = TRUE,\n",
    "                       show_column_names = TRUE,     \n",
    "                       #clusters and orders  \n",
    "                       cluster_columns = TRUE,\n",
    "                       cluster_rows = TRUE,\n",
    "                       show_column_dend = TRUE,\n",
    "                       #aesthestics\n",
    "                       col = col_fun,\n",
    "                       column_names_gp = gpar(fontsize = 10),\n",
    "                       row_names_gp = gpar(fontsize = 10),\n",
    "                       height = unit(29, \"cm\"), width = unit(4, \"cm\"),\n",
    "                       column_title_gp = gpar(fontsize = 10),\n",
    "                       column_title = NULL,\n",
    "                       row_title = NULL,\n",
    "\n",
    "           \n",
    "                    column_names_rot = 45,\n",
    "                      show_heatmap_legend = FALSE\n",
    "                      \n",
    "                     )"
   ]
  },
  {
   "cell_type": "markdown",
   "metadata": {},
   "source": [
    "            cell_fun = function(j, i, x, y, width, height, fill){\n",
    "                          if(fdr_mat_pathways[i, j] > 0.10)\n",
    "                              grid.points(x, y, pch = 7,size = unit(13,\"mm\")\n",
    "                                        )},"
   ]
  },
  {
   "cell_type": "code",
   "execution_count": 31,
   "metadata": {},
   "outputs": [
    {
     "data": {
      "text/html": [
       "<style>\n",
       ".list-inline {list-style: none; margin:0; padding: 0}\n",
       ".list-inline>li {display: inline-block}\n",
       ".list-inline>li:not(:last-child)::after {content: \"\\00b7\"; padding: 0 .5ex}\n",
       "</style>\n",
       "<ol class=list-inline><li>'ROOT'</li><li>'global'</li><li>'global_layout'</li><li>'global-heatmaplist'</li><li>'main_heatmap_list'</li><li>'heatmap_Log2_FC'</li><li>'Log2_FC_heatmap_body_wrap'</li><li>'Log2_FC_heatmap_body_1_1'</li><li>'Log2_FC_dend_row_1'</li><li>'Log2_FC_dend_column_1'</li><li>'Log2_FC_row_names_1'</li><li>'Log2_FC_column_names_1'</li></ol>\n"
      ],
      "text/latex": [
       "\\begin{enumerate*}\n",
       "\\item 'ROOT'\n",
       "\\item 'global'\n",
       "\\item 'global\\_layout'\n",
       "\\item 'global-heatmaplist'\n",
       "\\item 'main\\_heatmap\\_list'\n",
       "\\item 'heatmap\\_Log2\\_FC'\n",
       "\\item 'Log2\\_FC\\_heatmap\\_body\\_wrap'\n",
       "\\item 'Log2\\_FC\\_heatmap\\_body\\_1\\_1'\n",
       "\\item 'Log2\\_FC\\_dend\\_row\\_1'\n",
       "\\item 'Log2\\_FC\\_dend\\_column\\_1'\n",
       "\\item 'Log2\\_FC\\_row\\_names\\_1'\n",
       "\\item 'Log2\\_FC\\_column\\_names\\_1'\n",
       "\\end{enumerate*}\n"
      ],
      "text/markdown": [
       "1. 'ROOT'\n",
       "2. 'global'\n",
       "3. 'global_layout'\n",
       "4. 'global-heatmaplist'\n",
       "5. 'main_heatmap_list'\n",
       "6. 'heatmap_Log2_FC'\n",
       "7. 'Log2_FC_heatmap_body_wrap'\n",
       "8. 'Log2_FC_heatmap_body_1_1'\n",
       "9. 'Log2_FC_dend_row_1'\n",
       "10. 'Log2_FC_dend_column_1'\n",
       "11. 'Log2_FC_row_names_1'\n",
       "12. 'Log2_FC_column_names_1'\n",
       "\n",
       "\n"
      ],
      "text/plain": [
       " [1] \"ROOT\"                      \"global\"                   \n",
       " [3] \"global_layout\"             \"global-heatmaplist\"       \n",
       " [5] \"main_heatmap_list\"         \"heatmap_Log2_FC\"          \n",
       " [7] \"Log2_FC_heatmap_body_wrap\" \"Log2_FC_heatmap_body_1_1\" \n",
       " [9] \"Log2_FC_dend_row_1\"        \"Log2_FC_dend_column_1\"    \n",
       "[11] \"Log2_FC_row_names_1\"       \"Log2_FC_column_names_1\"   "
      ]
     },
     "metadata": {},
     "output_type": "display_data"
    },
    {
     "data": {
      "image/png": "[encoded data removed]",
      "text/plain": [
       "plot without title"
      ]
     },
     "metadata": {
      "image/png": {
       "height": 420,
       "width": 420
      }
     },
     "output_type": "display_data"
    }
   ],
   "source": [
    "draw(pathways_hm)\n",
    "\n",
    "list_components()"
   ]
  },
  {
   "cell_type": "code",
   "execution_count": 31,
   "metadata": {},
   "outputs": [
    {
     "data": {
      "text/html": [
       "<strong>pdf:</strong> 2"
      ],
      "text/latex": [
       "\\textbf{pdf:} 2"
      ],
      "text/markdown": [
       "**pdf:** 2"
      ],
      "text/plain": [
       "pdf \n",
       "  2 "
      ]
     },
     "metadata": {},
     "output_type": "display_data"
    }
   ],
   "source": [
    "pdf(paste0(plotpath, \"heatmap_pathways_MSigDB.pdf\"),\n",
    "   width = 10, height = 45)\n",
    "\n",
    "\n",
    "draw(pathways_hm)\n",
    "\n",
    "decorate_heatmap_body(\"Log2_FC\", {\n",
    "    grid.rect(x = 0, y = 1, just = c(\"left\", \"top\"),\n",
    "          width = 1,height = 0.345, gp = gpar(col = \"black\", lwd = 5))\n",
    "})\n",
    "\n",
    "dev.off()"
   ]
  },
  {
   "cell_type": "code",
   "execution_count": 41,
   "metadata": {},
   "outputs": [
    {
     "data": {
      "text/html": [
       "<strong>pdf:</strong> 2"
      ],
      "text/latex": [
       "\\textbf{pdf:} 2"
      ],
      "text/markdown": [
       "**pdf:** 2"
      ],
      "text/plain": [
       "pdf \n",
       "  2 "
      ]
     },
     "metadata": {},
     "output_type": "display_data"
    }
   ],
   "source": [
    "col_fun= colorRamp2(c(-0.6, 0, 0.6), c(\"blue\", \"white\", \"red\"))\n",
    "\n",
    "qusage_lgd = Legend(col_fun = col_fun, title = \"Fold change\\n(Log2)\",\n",
    "                   at = c(-0.6, 0, 0.6), legend_height = unit(2, \"cm\"))\n",
    "\n",
    "  pdf(file = paste0(plotpath,\"qusage_legend.pdf\"),\n",
    "      width = 8, \n",
    "      height = 8,\n",
    "      useDingbats = FALSE)\n",
    "  draw(qusage_lgd)\n",
    "  dev.off() "
   ]
  },
  {
   "cell_type": "markdown",
   "metadata": {},
   "source": [
    "# Validate with proteomics"
   ]
  },
  {
   "cell_type": "markdown",
   "metadata": {},
   "source": [
    "Input gene list to cptact data viewer and download"
   ]
  },
  {
   "cell_type": "code",
   "execution_count": 32,
   "metadata": {},
   "outputs": [],
   "source": [
    "proteom <- data.table::fread(file = paste0(datapath, \"Proteomics/CPTAC3-pbt_HALLMARK_genes_4proteomics.csv\"), sep = \",\",\n",
    "                             check.names = F, header = T, na.strings = c(\"\", \"NA\"), \n",
    "                             stringsAsFactors = F)"
   ]
  },
  {
   "cell_type": "code",
   "execution_count": 33,
   "metadata": {},
   "outputs": [],
   "source": [
    "proteom <- as.data.frame(proteom)"
   ]
  },
  {
   "cell_type": "code",
   "execution_count": 34,
   "metadata": {},
   "outputs": [],
   "source": [
    "proteom <- proteom[ grepl(\"proteo\",proteom$idx),]"
   ]
  },
  {
   "cell_type": "code",
   "execution_count": 35,
   "metadata": {},
   "outputs": [],
   "source": [
    "rownames_proteom <- proteom$`Gene symbol`\n",
    "\n",
    "rownames(proteom) <- proteom$`Gene symbol`\n",
    "proteom$`Gene symbol` <- NULL\n",
    "proteom$idx <- NULL\n",
    "proteom$`Data type` <- NULL"
   ]
  },
  {
   "cell_type": "code",
   "execution_count": 36,
   "metadata": {},
   "outputs": [],
   "source": [
    "proteom <- as.matrix(proteom)"
   ]
  },
  {
   "cell_type": "code",
   "execution_count": 37,
   "metadata": {},
   "outputs": [],
   "source": [
    "proteom <- apply(proteom,2, as.numeric)"
   ]
  },
  {
   "cell_type": "code",
   "execution_count": 38,
   "metadata": {},
   "outputs": [],
   "source": [
    "rownames(proteom) <- rownames_proteom"
   ]
  },
  {
   "cell_type": "code",
   "execution_count": 39,
   "metadata": {},
   "outputs": [
    {
     "data": {
      "text/plain": [
       "   Min. 1st Qu.  Median    Mean 3rd Qu.    Max. \n",
       "-2.0723 -0.7495 -0.1233  0.0000  0.6953  2.8014 "
      ]
     },
     "metadata": {},
     "output_type": "display_data"
    }
   ],
   "source": [
    "summary(unlist(proteom[1,]))"
   ]
  },
  {
   "cell_type": "code",
   "execution_count": 40,
   "metadata": {},
   "outputs": [],
   "source": [
    "colnames(proteom) <- gsub(\"X\", \"\", colnames(proteom))\n",
    "colnames(proteom) <- gsub(\"[.]\", \"-\", colnames(proteom))"
   ]
  },
  {
   "cell_type": "code",
   "execution_count": 41,
   "metadata": {},
   "outputs": [
    {
     "data": {
      "text/html": [
       "<table class=\"dataframe\">\n",
       "<caption>A matrix: 6 × 218 of type dbl</caption>\n",
       "<thead>\n",
       "\t<tr><th></th><th scope=col>7316-872</th><th scope=col>7316-2151</th><th scope=col>7316-2170</th><th scope=col>7316-2146</th><th scope=col>7316-3319</th><th scope=col>7316-130</th><th scope=col>7316-2648</th><th scope=col>7316-2144</th><th scope=col>7316-384</th><th scope=col>7316-443</th><th scope=col>⋯</th><th scope=col>7316-957</th><th scope=col>7316-156</th><th scope=col>7316-154</th><th scope=col>7316-932</th><th scope=col>7316-368</th><th scope=col>7316-146</th><th scope=col>7316-475</th><th scope=col>7316-488</th><th scope=col>7316-954</th><th scope=col>7316-2663</th></tr>\n",
       "</thead>\n",
       "<tbody>\n",
       "\t<tr><th scope=row>A2M</th><td> 1.17027033</td><td>-0.5743360</td><td> 0.59496849</td><td>-0.6335644</td><td> 0.6997003</td><td>-0.83742105</td><td>-2.0722576</td><td>-0.006544646</td><td> 1.2974038</td><td> 0.6979533</td><td>⋯</td><td> 1.6602089</td><td>-0.05780405</td><td> 1.66167839</td><td>-1.6368700</td><td> 0.9715630</td><td> 0.885687257</td><td>-0.054627732</td><td> 0.7410713</td><td> 0.1919530</td><td>-1.094637979</td></tr>\n",
       "\t<tr><th scope=row>ABCB1</th><td>-0.08381773</td><td> 0.4717423</td><td> 0.08782766</td><td>-0.5069743</td><td>-0.2725235</td><td> 1.14993700</td><td>-0.4286241</td><td> 0.297925775</td><td>-2.7538323</td><td>-0.9601827</td><td>⋯</td><td>-0.3829181</td><td>-0.56124478</td><td> 0.14832536</td><td> 0.5554954</td><td>-0.2554827</td><td>-0.003093275</td><td>-0.100305943</td><td> 0.3498220</td><td> 0.3497704</td><td>-0.008693533</td></tr>\n",
       "\t<tr><th scope=row>ABCE1</th><td>-0.96223316</td><td>-1.5030361</td><td>-1.69113011</td><td>-0.1859401</td><td>-0.4820084</td><td>-3.34370824</td><td>-1.2929395</td><td>-0.177119458</td><td>-1.2893723</td><td> 0.4852315</td><td>⋯</td><td> 1.5011056</td><td> 0.51069457</td><td> 0.34370090</td><td>-0.8081195</td><td> 1.6206934</td><td> 0.984334910</td><td> 1.037286490</td><td> 0.3146364</td><td>-0.4907370</td><td>-0.071388368</td></tr>\n",
       "\t<tr><th scope=row>ABI1</th><td>-0.72795362</td><td> 0.9738262</td><td>-1.30277822</td><td>-0.8145938</td><td>-1.4309733</td><td>-0.92663925</td><td>-1.5725272</td><td>-0.746616212</td><td>-0.5254130</td><td>-0.2546989</td><td>⋯</td><td> 1.3292764</td><td> 0.13421933</td><td> 0.02902334</td><td> 0.9220527</td><td> 0.8975631</td><td> 1.694717193</td><td> 1.503893315</td><td> 1.3250068</td><td> 1.3729214</td><td> 1.336956716</td></tr>\n",
       "\t<tr><th scope=row>ACACA</th><td> 0.26814355</td><td>-0.2418990</td><td> 0.07250943</td><td>-1.5814215</td><td>-1.8205667</td><td> 0.06561383</td><td>-2.0507721</td><td>-0.407322123</td><td>-2.0954588</td><td>-1.1982217</td><td>⋯</td><td>-0.4373494</td><td> 2.26186969</td><td>-1.42696810</td><td> 2.1766821</td><td>-0.4053189</td><td>-0.017007153</td><td>-0.001847593</td><td>-0.4182093</td><td>-0.4174602</td><td>-1.013486751</td></tr>\n",
       "\t<tr><th scope=row>ACHE</th><td>-0.89310870</td><td> 0.4170447</td><td>-0.61106041</td><td>-0.9032629</td><td>-0.4612296</td><td> 0.18356565</td><td>-1.0152332</td><td>-0.326212420</td><td> 0.5634417</td><td> 0.1389767</td><td>⋯</td><td> 0.2255436</td><td>-0.06896869</td><td> 0.24250405</td><td>-0.1847278</td><td> 0.4008109</td><td> 0.058523880</td><td> 0.097098904</td><td> 0.1881703</td><td> 0.6694573</td><td> 0.627180792</td></tr>\n",
       "</tbody>\n",
       "</table>\n"
      ],
      "text/latex": [
       "A matrix: 6 × 218 of type dbl\n",
       "\\begin{tabular}{r|lllllllllllllllllllll}\n",
       "  & 7316-872 & 7316-2151 & 7316-2170 & 7316-2146 & 7316-3319 & 7316-130 & 7316-2648 & 7316-2144 & 7316-384 & 7316-443 & ⋯ & 7316-957 & 7316-156 & 7316-154 & 7316-932 & 7316-368 & 7316-146 & 7316-475 & 7316-488 & 7316-954 & 7316-2663\\\\\n",
       "\\hline\n",
       "\tA2M &  1.17027033 & -0.5743360 &  0.59496849 & -0.6335644 &  0.6997003 & -0.83742105 & -2.0722576 & -0.006544646 &  1.2974038 &  0.6979533 & ⋯ &  1.6602089 & -0.05780405 &  1.66167839 & -1.6368700 &  0.9715630 &  0.885687257 & -0.054627732 &  0.7410713 &  0.1919530 & -1.094637979\\\\\n",
       "\tABCB1 & -0.08381773 &  0.4717423 &  0.08782766 & -0.5069743 & -0.2725235 &  1.14993700 & -0.4286241 &  0.297925775 & -2.7538323 & -0.9601827 & ⋯ & -0.3829181 & -0.56124478 &  0.14832536 &  0.5554954 & -0.2554827 & -0.003093275 & -0.100305943 &  0.3498220 &  0.3497704 & -0.008693533\\\\\n",
       "\tABCE1 & -0.96223316 & -1.5030361 & -1.69113011 & -0.1859401 & -0.4820084 & -3.34370824 & -1.2929395 & -0.177119458 & -1.2893723 &  0.4852315 & ⋯ &  1.5011056 &  0.51069457 &  0.34370090 & -0.8081195 &  1.6206934 &  0.984334910 &  1.037286490 &  0.3146364 & -0.4907370 & -0.071388368\\\\\n",
       "\tABI1 & -0.72795362 &  0.9738262 & -1.30277822 & -0.8145938 & -1.4309733 & -0.92663925 & -1.5725272 & -0.746616212 & -0.5254130 & -0.2546989 & ⋯ &  1.3292764 &  0.13421933 &  0.02902334 &  0.9220527 &  0.8975631 &  1.694717193 &  1.503893315 &  1.3250068 &  1.3729214 &  1.336956716\\\\\n",
       "\tACACA &  0.26814355 & -0.2418990 &  0.07250943 & -1.5814215 & -1.8205667 &  0.06561383 & -2.0507721 & -0.407322123 & -2.0954588 & -1.1982217 & ⋯ & -0.4373494 &  2.26186969 & -1.42696810 &  2.1766821 & -0.4053189 & -0.017007153 & -0.001847593 & -0.4182093 & -0.4174602 & -1.013486751\\\\\n",
       "\tACHE & -0.89310870 &  0.4170447 & -0.61106041 & -0.9032629 & -0.4612296 &  0.18356565 & -1.0152332 & -0.326212420 &  0.5634417 &  0.1389767 & ⋯ &  0.2255436 & -0.06896869 &  0.24250405 & -0.1847278 &  0.4008109 &  0.058523880 &  0.097098904 &  0.1881703 &  0.6694573 &  0.627180792\\\\\n",
       "\\end{tabular}\n"
      ],
      "text/markdown": [
       "\n",
       "A matrix: 6 × 218 of type dbl\n",
       "\n",
       "| <!--/--> | 7316-872 | 7316-2151 | 7316-2170 | 7316-2146 | 7316-3319 | 7316-130 | 7316-2648 | 7316-2144 | 7316-384 | 7316-443 | ⋯ | 7316-957 | 7316-156 | 7316-154 | 7316-932 | 7316-368 | 7316-146 | 7316-475 | 7316-488 | 7316-954 | 7316-2663 |\n",
       "|---|---|---|---|---|---|---|---|---|---|---|---|---|---|---|---|---|---|---|---|---|---|\n",
       "| A2M |  1.17027033 | -0.5743360 |  0.59496849 | -0.6335644 |  0.6997003 | -0.83742105 | -2.0722576 | -0.006544646 |  1.2974038 |  0.6979533 | ⋯ |  1.6602089 | -0.05780405 |  1.66167839 | -1.6368700 |  0.9715630 |  0.885687257 | -0.054627732 |  0.7410713 |  0.1919530 | -1.094637979 |\n",
       "| ABCB1 | -0.08381773 |  0.4717423 |  0.08782766 | -0.5069743 | -0.2725235 |  1.14993700 | -0.4286241 |  0.297925775 | -2.7538323 | -0.9601827 | ⋯ | -0.3829181 | -0.56124478 |  0.14832536 |  0.5554954 | -0.2554827 | -0.003093275 | -0.100305943 |  0.3498220 |  0.3497704 | -0.008693533 |\n",
       "| ABCE1 | -0.96223316 | -1.5030361 | -1.69113011 | -0.1859401 | -0.4820084 | -3.34370824 | -1.2929395 | -0.177119458 | -1.2893723 |  0.4852315 | ⋯ |  1.5011056 |  0.51069457 |  0.34370090 | -0.8081195 |  1.6206934 |  0.984334910 |  1.037286490 |  0.3146364 | -0.4907370 | -0.071388368 |\n",
       "| ABI1 | -0.72795362 |  0.9738262 | -1.30277822 | -0.8145938 | -1.4309733 | -0.92663925 | -1.5725272 | -0.746616212 | -0.5254130 | -0.2546989 | ⋯ |  1.3292764 |  0.13421933 |  0.02902334 |  0.9220527 |  0.8975631 |  1.694717193 |  1.503893315 |  1.3250068 |  1.3729214 |  1.336956716 |\n",
       "| ACACA |  0.26814355 | -0.2418990 |  0.07250943 | -1.5814215 | -1.8205667 |  0.06561383 | -2.0507721 | -0.407322123 | -2.0954588 | -1.1982217 | ⋯ | -0.4373494 |  2.26186969 | -1.42696810 |  2.1766821 | -0.4053189 | -0.017007153 | -0.001847593 | -0.4182093 | -0.4174602 | -1.013486751 |\n",
       "| ACHE | -0.89310870 |  0.4170447 | -0.61106041 | -0.9032629 | -0.4612296 |  0.18356565 | -1.0152332 | -0.326212420 |  0.5634417 |  0.1389767 | ⋯ |  0.2255436 | -0.06896869 |  0.24250405 | -0.1847278 |  0.4008109 |  0.058523880 |  0.097098904 |  0.1881703 |  0.6694573 |  0.627180792 |\n",
       "\n"
      ],
      "text/plain": [
       "      7316-872    7316-2151  7316-2170   7316-2146  7316-3319  7316-130   \n",
       "A2M    1.17027033 -0.5743360  0.59496849 -0.6335644  0.6997003 -0.83742105\n",
       "ABCB1 -0.08381773  0.4717423  0.08782766 -0.5069743 -0.2725235  1.14993700\n",
       "ABCE1 -0.96223316 -1.5030361 -1.69113011 -0.1859401 -0.4820084 -3.34370824\n",
       "ABI1  -0.72795362  0.9738262 -1.30277822 -0.8145938 -1.4309733 -0.92663925\n",
       "ACACA  0.26814355 -0.2418990  0.07250943 -1.5814215 -1.8205667  0.06561383\n",
       "ACHE  -0.89310870  0.4170447 -0.61106041 -0.9032629 -0.4612296  0.18356565\n",
       "      7316-2648  7316-2144    7316-384   7316-443   ⋯ 7316-957   7316-156   \n",
       "A2M   -2.0722576 -0.006544646  1.2974038  0.6979533 ⋯  1.6602089 -0.05780405\n",
       "ABCB1 -0.4286241  0.297925775 -2.7538323 -0.9601827 ⋯ -0.3829181 -0.56124478\n",
       "ABCE1 -1.2929395 -0.177119458 -1.2893723  0.4852315 ⋯  1.5011056  0.51069457\n",
       "ABI1  -1.5725272 -0.746616212 -0.5254130 -0.2546989 ⋯  1.3292764  0.13421933\n",
       "ACACA -2.0507721 -0.407322123 -2.0954588 -1.1982217 ⋯ -0.4373494  2.26186969\n",
       "ACHE  -1.0152332 -0.326212420  0.5634417  0.1389767 ⋯  0.2255436 -0.06896869\n",
       "      7316-154    7316-932   7316-368   7316-146     7316-475     7316-488  \n",
       "A2M    1.66167839 -1.6368700  0.9715630  0.885687257 -0.054627732  0.7410713\n",
       "ABCB1  0.14832536  0.5554954 -0.2554827 -0.003093275 -0.100305943  0.3498220\n",
       "ABCE1  0.34370090 -0.8081195  1.6206934  0.984334910  1.037286490  0.3146364\n",
       "ABI1   0.02902334  0.9220527  0.8975631  1.694717193  1.503893315  1.3250068\n",
       "ACACA -1.42696810  2.1766821 -0.4053189 -0.017007153 -0.001847593 -0.4182093\n",
       "ACHE   0.24250405 -0.1847278  0.4008109  0.058523880  0.097098904  0.1881703\n",
       "      7316-954   7316-2663   \n",
       "A2M    0.1919530 -1.094637979\n",
       "ABCB1  0.3497704 -0.008693533\n",
       "ABCE1 -0.4907370 -0.071388368\n",
       "ABI1   1.3729214  1.336956716\n",
       "ACACA -0.4174602 -1.013486751\n",
       "ACHE   0.6694573  0.627180792"
      ]
     },
     "metadata": {},
     "output_type": "display_data"
    }
   ],
   "source": [
    "head(proteom)"
   ]
  },
  {
   "cell_type": "code",
   "execution_count": 42,
   "metadata": {},
   "outputs": [],
   "source": [
    "metadata_IC_proteom <- metadata_IC[metadata_IC$sample_id %in% colnames(proteom),]"
   ]
  },
  {
   "cell_type": "code",
   "execution_count": 43,
   "metadata": {},
   "outputs": [
    {
     "data": {
      "text/html": [
       "<style>\n",
       ".list-inline {list-style: none; margin:0; padding: 0}\n",
       ".list-inline>li {display: inline-block}\n",
       ".list-inline>li:not(:last-child)::after {content: \"\\00b7\"; padding: 0 .5ex}\n",
       "</style>\n",
       "<ol class=list-inline><li>147</li><li>24</li></ol>\n"
      ],
      "text/latex": [
       "\\begin{enumerate*}\n",
       "\\item 147\n",
       "\\item 24\n",
       "\\end{enumerate*}\n"
      ],
      "text/markdown": [
       "1. 147\n",
       "2. 24\n",
       "\n",
       "\n"
      ],
      "text/plain": [
       "[1] 147  24"
      ]
     },
     "metadata": {},
     "output_type": "display_data"
    }
   ],
   "source": [
    "dim(metadata_IC_proteom)"
   ]
  },
  {
   "cell_type": "code",
   "execution_count": null,
   "metadata": {},
   "outputs": [],
   "source": []
  },
  {
   "cell_type": "code",
   "execution_count": 121,
   "metadata": {},
   "outputs": [
    {
     "name": "stdout",
     "output_type": "stream",
     "text": [
      "[1]  47 147\n",
      "\n",
      "\tPairwise comparisons using t tests with pooled SD \n",
      "\n",
      "data:  metadata$pathway_mean and metadata$immune_cluster \n",
      "\n",
      "                Pediatric inflamed Myeloid-driven Pediatric cold\n",
      "Myeloid-driven  0.902              -              -             \n",
      "Pediatric cold  0.012              0.000000000068 -             \n",
      "Immune excluded 0.000031481441     0.000000000019 0.031         \n",
      "\n",
      "P value adjustment method: bonferroni \n"
     ]
    }
   ],
   "source": [
    "coag <- hallmark_IC_stats_ridge(proteom, metadata_IC_proteom, \"HALLMARK_COAGULATION\")\n",
    "\n",
    "label.df <- data.frame(x = c(1,1), y = c(3.3, 4.3))\n",
    "\n",
    "coag <- coag + geom_text(data = label.df,aes(x = x, y = y), label = c(\"*\", \"***\"), size = 15) +\n",
    "ggtitle(expression(~underline(\"Coagulation (n = 47)\"))) + labs(x = \"Average protein z score\") +\n",
    "theme(axis.text.y = element_blank(), plot.margin = unit(c(1,0,0,0), \"cm\"))"
   ]
  },
  {
   "cell_type": "code",
   "execution_count": 122,
   "metadata": {
    "scrolled": true
   },
   "outputs": [
    {
     "name": "stdout",
     "output_type": "stream",
     "text": [
      "[1]  27 147\n",
      "\n",
      "\tPairwise comparisons using t tests with pooled SD \n",
      "\n",
      "data:  metadata$pathway_mean and metadata$immune_cluster \n",
      "\n",
      "                Pediatric inflamed Myeloid-driven Pediatric cold\n",
      "Myeloid-driven  1.0000             -              -             \n",
      "Pediatric cold  0.00001569102      0.00000007442  -             \n",
      "Immune excluded 0.00000000572      0.00000000012  0.0055        \n",
      "\n",
      "P value adjustment method: bonferroni \n"
     ]
    }
   ],
   "source": [
    "emt <- hallmark_IC_stats_ridge(proteom, metadata_IC_proteom, \"HALLMARK_EPITHELIAL_MESENCHYMAL_TRANSITION\")\n",
    "\n",
    "label.df <- data.frame(x = c(1,1), y = c(3.3, 4.3))\n",
    "\n",
    "emt <- emt + geom_text(data = label.df,aes(x = x, y = y), label = \"***\", size = 15) +\n",
    "ggtitle(expression(~underline(\"EMT (n = 27)\"))) + labs(x = \"Average protein z score\") +\n",
    "theme(axis.text.y = element_blank(), plot.margin = unit(c(1,0,0,0), \"cm\"))"
   ]
  },
  {
   "cell_type": "code",
   "execution_count": 123,
   "metadata": {},
   "outputs": [
    {
     "name": "stdout",
     "output_type": "stream",
     "text": [
      "[1]   7 147\n",
      "\n",
      "\tPairwise comparisons using t tests with pooled SD \n",
      "\n",
      "data:  metadata$pathway_mean and metadata$immune_cluster \n",
      "\n",
      "                Pediatric inflamed Myeloid-driven Pediatric cold\n",
      "Myeloid-driven  1.00000            -              -             \n",
      "Pediatric cold  0.00069            0.0000077      -             \n",
      "Immune excluded 0.0000193          0.0000015      0.20270       \n",
      "\n",
      "P value adjustment method: bonferroni \n"
     ]
    }
   ],
   "source": [
    "angio <- hallmark_IC_stats_ridge(proteom, metadata_IC_proteom, \"HALLMARK_ANGIOGENESIS\")\n",
    "\n",
    "label.df <- data.frame(x = c(1,1), y = c(3.3, 4.3))\n",
    "\n",
    "angio <- angio + geom_text(data = label.df,aes(x = x, y = y), label = \"***\", size = 15) +\n",
    "ggtitle(expression(~underline(\"Angiogenesis (n = 7)\"))) + labs(x = \"Average protein z score\") +\n",
    "theme(axis.text.y = element_blank(), plot.margin = unit(c(1,0,0,0), \"cm\"))"
   ]
  },
  {
   "cell_type": "code",
   "execution_count": 124,
   "metadata": {},
   "outputs": [
    {
     "name": "stdout",
     "output_type": "stream",
     "text": [
      "[1] 100 147\n",
      "\n",
      "\tPairwise comparisons using t tests with pooled SD \n",
      "\n",
      "data:  metadata$pathway_mean and metadata$immune_cluster \n",
      "\n",
      "                Pediatric inflamed  Myeloid-driven      Pediatric cold\n",
      "Myeloid-driven  0.62582             -                   -             \n",
      "Pediatric cold  0.00000000225047096 0.00000000000122628 -             \n",
      "Immune excluded 0.00000000000003834 0.00000000000000038 0.00021       \n",
      "\n",
      "P value adjustment method: bonferroni \n"
     ]
    }
   ],
   "source": [
    "ifng <- hallmark_IC_stats_ridge(proteom, metadata_IC_proteom, \"HALLMARK_INTERFERON_GAMMA_RESPONSE\")\n",
    "\n",
    "label.df <- data.frame(x = c(1,1), y = c(3.3, 4.3))\n",
    "\n",
    "ifng <- ifng + geom_text(data = label.df,aes(x = x, y = y), label = \"***\", size = 15) +\n",
    "ggtitle(expression(~underline(\"IFN-gamma (n = 100)\"))) + labs(x = \"Average protein z score\") +\n",
    "theme(axis.text.y = element_blank())"
   ]
  },
  {
   "cell_type": "code",
   "execution_count": 125,
   "metadata": {},
   "outputs": [
    {
     "name": "stdout",
     "output_type": "stream",
     "text": [
      "[1]  56 147\n",
      "\n",
      "\tPairwise comparisons using t tests with pooled SD \n",
      "\n",
      "data:  metadata$pathway_mean and metadata$immune_cluster \n",
      "\n",
      "                Pediatric inflamed Myeloid-driven    Pediatric cold\n",
      "Myeloid-driven  1.0000             -                 -             \n",
      "Pediatric cold  0.000000053170279  0.000000000013452 -             \n",
      "Immune excluded 0.000000000004458  0.000000000000024 0.0011        \n",
      "\n",
      "P value adjustment method: bonferroni \n"
     ]
    }
   ],
   "source": [
    "ifna <- hallmark_IC_stats_ridge(proteom,metadata_IC_proteom, \"HALLMARK_INTERFERON_ALPHA_RESPONSE\")\n",
    "\n",
    "label.df <- data.frame(x = c(1,1),y = c(3.3, 4.3))\n",
    "\n",
    "ifna <- ifna + geom_text(data = label.df,aes(x = x, y = y), label = \"***\", size = 15) +\n",
    "ggtitle(expression(~underline(\"IFN-alpha (n = 56)\"))) +labs(x = \"Average protein z score\") +\n",
    "theme(axis.text.y = element_blank())"
   ]
  },
  {
   "cell_type": "code",
   "execution_count": 126,
   "metadata": {},
   "outputs": [
    {
     "name": "stdout",
     "output_type": "stream",
     "text": [
      "[1]  54 147\n",
      "\n",
      "\tPairwise comparisons using t tests with pooled SD \n",
      "\n",
      "data:  metadata$pathway_mean and metadata$immune_cluster \n",
      "\n",
      "                Pediatric inflamed Myeloid-driven    Pediatric cold\n",
      "Myeloid-driven  1.0000             -                 -             \n",
      "Pediatric cold  0.000048969297330  0.000000000002942 -             \n",
      "Immune excluded 0.000000014165357  0.000000000000086 0.0046        \n",
      "\n",
      "P value adjustment method: bonferroni \n"
     ]
    }
   ],
   "source": [
    "inflam <- hallmark_IC_stats_ridge(proteom,metadata_IC_proteom, \"HALLMARK_INFLAMMATORY_RESPONSE\")\n",
    "\n",
    "label.df <- data.frame(x = c(1,1),y = c(3.3,4.3))\n",
    "\n",
    "inflam <- inflam + geom_text(data = label.df,aes(x = x, y = y), label = \"***\", size = 15) +\n",
    "ggtitle(expression(~underline(\"Inflammatory (n = 54)\"))) + labs(x = \"Average protein z score\") +\n",
    "theme(axis.text.y = element_blank())"
   ]
  },
  {
   "cell_type": "code",
   "execution_count": 127,
   "metadata": {},
   "outputs": [
    {
     "name": "stdout",
     "output_type": "stream",
     "text": [
      "[1]  23 147\n",
      "\n",
      "\tPairwise comparisons using t tests with pooled SD \n",
      "\n",
      "data:  metadata$pathway_mean and metadata$immune_cluster \n",
      "\n",
      "                Pediatric inflamed Myeloid-driven  Pediatric cold\n",
      "Myeloid-driven  1.00000            -               -             \n",
      "Pediatric cold  0.00020            0.0000000032803 -             \n",
      "Immune excluded 0.0000000068966    0.0000000000005 0.00066       \n",
      "\n",
      "P value adjustment method: bonferroni \n"
     ]
    }
   ],
   "source": [
    "il6 <- hallmark_IC_stats_ridge(proteom,metadata_IC_proteom, \"HALLMARK_IL6_JAK_STAT3_SIGNALING\")\n",
    "\n",
    "label.df <- data.frame(x = c(1,1),y = c(3.3, 4.3))\n",
    "\n",
    "il6 <- il6 + geom_text(data = label.df,aes(x = x, y = y), label = \"***\", size = 15) +\n",
    "ggtitle(expression(~underline(\"IL6/JAK/STAT3 signaling (n = 23)\"))) + labs(x = \"Average protein z score\") +\n",
    "theme(axis.text.y = element_blank())"
   ]
  },
  {
   "cell_type": "code",
   "execution_count": 128,
   "metadata": {},
   "outputs": [
    {
     "name": "stdout",
     "output_type": "stream",
     "text": [
      "[1] 123 147\n",
      "\n",
      "\tPairwise comparisons using t tests with pooled SD \n",
      "\n",
      "data:  metadata$pathway_mean and metadata$immune_cluster \n",
      "\n",
      "                Pediatric inflamed Myeloid-driven    Pediatric cold\n",
      "Myeloid-driven  1.0000             -                 -             \n",
      "Pediatric cold  0.000027204190288  0.000000000002875 -             \n",
      "Immune excluded 0.000000005782373  0.000000000000053 0.0035        \n",
      "\n",
      "P value adjustment method: bonferroni \n"
     ]
    }
   ],
   "source": [
    "complement <- hallmark_IC_stats_ridge(proteom,metadata_IC_proteom, \"HALLMARK_COMPLEMENT\")\n",
    "\n",
    "label.df <- data.frame(x = c(1,1),y = c(3.3, 4.3))\n",
    "\n",
    "complement <- complement + geom_text(data = label.df,aes(x = x, y = y), label = \"***\", size = 15) +\n",
    "ggtitle(expression(~underline(\"Complement (n = 123)\"))) + labs(x = \"Average protein z score\") +\n",
    "theme(axis.text.y = element_blank(), plot.margin = unit(c(1,0,0,0), \"cm\"))"
   ]
  },
  {
   "cell_type": "code",
   "execution_count": 132,
   "metadata": {},
   "outputs": [
    {
     "name": "stdout",
     "output_type": "stream",
     "text": [
      "[1]  51 147\n",
      "\n",
      "\tPairwise comparisons using t tests with pooled SD \n",
      "\n",
      "data:  metadata$pathway_mean and metadata$immune_cluster \n",
      "\n",
      "                Pediatric inflamed Myeloid-driven Pediatric cold\n",
      "Myeloid-driven  1.0000             -              -             \n",
      "Pediatric cold  0.0002             0.000000020650 -             \n",
      "Immune excluded 0.000000038661     0.000000000022 0.0033        \n",
      "\n",
      "P value adjustment method: bonferroni \n"
     ]
    }
   ],
   "source": [
    "tnfa <- hallmark_IC_stats_ridge(proteom,metadata_IC_proteom, \"HALLMARK_TNFA_SIGNALING_VIA_NFKB\")\n",
    "\n",
    "label.df <- data.frame(x = c(1,1),y = c(3.3, 4.3))\n",
    "\n",
    "tnfa <- tnfa + geom_text(data = label.df,aes(x = x, y = y), label = \"***\", size = 15) +\n",
    "ggtitle(expression(~underline(\"TNFa signaling via NFkB (n = 51)\"))) + labs(x = \"Average protein z score\") +\n",
    "theme(axis.text.y = element_blank(),plot.margin = unit(c(1,0,0,0), \"cm\"))"
   ]
  },
  {
   "cell_type": "code",
   "execution_count": 130,
   "metadata": {},
   "outputs": [
    {
     "name": "stdout",
     "output_type": "stream",
     "text": [
      "[1]  72 147\n",
      "\n",
      "\tPairwise comparisons using t tests with pooled SD \n",
      "\n",
      "data:  metadata$pathway_mean and metadata$immune_cluster \n",
      "\n",
      "                Pediatric inflamed   Myeloid-driven       Pediatric cold    \n",
      "Myeloid-driven  0.25                 -                    -                 \n",
      "Pediatric cold  0.0000000000049200   0.0000000000000018   -                 \n",
      "Immune excluded < 0.0000000000000002 < 0.0000000000000002 0.0000463610805322\n",
      "\n",
      "P value adjustment method: bonferroni \n"
     ]
    }
   ],
   "source": [
    "allograft <- hallmark_IC_stats_ridge(proteom,metadata_IC_proteom, \"HALLMARK_ALLOGRAFT_REJECTION\")\n",
    "\n",
    "label.df <- data.frame(x = c(1,1),y = c(3.3, 4.3))\n",
    "\n",
    "allograft <- allograft + geom_text(data = label.df,aes(x = x, y = y), label = \"***\", size = 15) +\n",
    "ggtitle(expression(~underline(\"Allograft rejection (n = 72)\"))) + labs(x = \"Average protein z score\") +\n",
    "theme(axis.text.y = element_blank())"
   ]
  },
  {
   "cell_type": "code",
   "execution_count": 133,
   "metadata": {},
   "outputs": [
    {
     "name": "stderr",
     "output_type": "stream",
     "text": [
      "Picking joint bandwidth of 0.126\n",
      "\n",
      "Picking joint bandwidth of 0.136\n",
      "\n",
      "Picking joint bandwidth of 0.0936\n",
      "\n",
      "Picking joint bandwidth of 0.114\n",
      "\n",
      "Picking joint bandwidth of 0.12\n",
      "\n",
      "Picking joint bandwidth of 0.105\n",
      "\n",
      "Picking joint bandwidth of 0.119\n",
      "\n",
      "Picking joint bandwidth of 0.146\n",
      "\n",
      "Picking joint bandwidth of 0.188\n",
      "\n",
      "Picking joint bandwidth of 0.164\n",
      "\n"
     ]
    },
    {
     "data": {
      "text/html": [
       "<strong>pdf:</strong> 2"
      ],
      "text/latex": [
       "\\textbf{pdf:} 2"
      ],
      "text/markdown": [
       "**pdf:** 2"
      ],
      "text/plain": [
       "pdf \n",
       "  2 "
      ]
     },
     "metadata": {},
     "output_type": "display_data"
    }
   ],
   "source": [
    "pdf(paste0(plotpath, \"IPD_clusters_HALLMARK_proteomics.pdf\"),\n",
    "   width = 30, height = 20,\n",
    "   useDingbats = FALSE)\n",
    "\n",
    "grid.arrange(ifng, ifna,allograft, il6, inflam, tnfa, complement, emt, angio, coag,nrow=2)\n",
    "\n",
    "dev.off()"
   ]
  },
  {
   "cell_type": "markdown",
   "metadata": {},
   "source": [
    "Control for cancer type"
   ]
  },
  {
   "cell_type": "code",
   "execution_count": 56,
   "metadata": {},
   "outputs": [],
   "source": [
    "protein_mat_pathway <- as.matrix(proteom[rownames(proteom) %in% Hs.H[[\"HALLMARK_INTERFERON_GAMMA_RESPONSE\"]], \n",
    "                                            rownames(metadata_IC_proteom)])\n",
    "    pathway_mean <- colMeans(protein_mat_pathway)\n",
    "    \n",
    "    metadata_IC_proteom$pathway_mean <- pathway_mean"
   ]
  },
  {
   "cell_type": "code",
   "execution_count": 57,
   "metadata": {},
   "outputs": [],
   "source": [
    "myfit <- aov(pathway_mean~ immune_cluster+cohort,metadata_IC_proteom)"
   ]
  },
  {
   "cell_type": "code",
   "execution_count": 58,
   "metadata": {},
   "outputs": [
    {
     "data": {
      "text/plain": [
       "\n",
       "Call:\n",
       "aov(formula = pathway_mean ~ immune_cluster + cohort, data = metadata_IC_proteom)\n",
       "\n",
       "Residuals:\n",
       "     Min       1Q   Median       3Q      Max \n",
       "-0.75818 -0.21674  0.02252  0.16094  0.80904 \n",
       "\n",
       "Coefficients:\n",
       "                 Estimate Std. Error t value Pr(>|t|)    \n",
       "(Intercept)       0.27020    0.14403   1.876 0.062871 .  \n",
       "immune_clusterC2 -0.10677    0.09988  -1.069 0.286985    \n",
       "immune_clusterC3 -0.33272    0.09327  -3.567 0.000503 ***\n",
       "immune_clusterC4 -0.76453    0.11056  -6.915 1.82e-10 ***\n",
       "cohortCPH         0.30024    0.15781   1.903 0.059273 .  \n",
       "cohortEPN         0.09347    0.13339   0.701 0.484691    \n",
       "cohortMB         -0.24240    0.14895  -1.627 0.106026    \n",
       "cohortpedHGG      0.08803    0.15094   0.583 0.560747    \n",
       "cohortpedLGG      0.15259    0.11691   1.305 0.194108    \n",
       "---\n",
       "Signif. codes:  0 ‘***’ 0.001 ‘**’ 0.01 ‘*’ 0.05 ‘.’ 0.1 ‘ ’ 1\n",
       "\n",
       "Residual standard error: 0.2963 on 132 degrees of freedom\n",
       "Multiple R-squared:  0.5714,\tAdjusted R-squared:  0.5454 \n",
       "F-statistic: 21.99 on 8 and 132 DF,  p-value: < 2.2e-16\n"
      ]
     },
     "metadata": {},
     "output_type": "display_data"
    }
   ],
   "source": [
    "summary.lm(myfit)"
   ]
  }
 ],
 "metadata": {
  "kernelspec": {
   "display_name": "R 4.0",
   "language": "R",
   "name": "ir40"
  },
  "language_info": {
   "codemirror_mode": "r",
   "file_extension": ".r",
   "mimetype": "text/x-r-source",
   "name": "R",
   "pygments_lexer": "r",
   "version": "4.0.3"
  },
  "toc": {
   "base_numbering": 1,
   "nav_menu": {},
   "number_sections": false,
   "sideBar": true,
   "skip_h1_title": false,
   "title_cell": "Table of Contents",
   "title_sidebar": "Contents",
   "toc_cell": true,
   "toc_position": {
    "height": "calc(100% - 180px)",
    "left": "10px",
    "top": "150px",
    "width": "165px"
   },
   "toc_section_display": true,
   "toc_window_display": true
  }
 },
 "nbformat": 4,
 "nbformat_minor": 2
}
