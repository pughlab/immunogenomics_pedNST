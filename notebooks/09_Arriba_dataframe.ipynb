{
 "cells": [
  {
   "cell_type": "markdown",
   "metadata": {
    "toc": true
   },
   "source": [
    "<h1>Table of Contents<span class=\"tocSkip\"></span></h1>\n",
    "<div class=\"toc\"><ul class=\"toc-item\"><li><span><a href=\"#Dependencies\" data-toc-modified-id=\"Dependencies-1\">Dependencies</a></span></li><li><span><a href=\"#Functions\" data-toc-modified-id=\"Functions-2\">Functions</a></span></li><li><span><a href=\"#Paths\" data-toc-modified-id=\"Paths-3\">Paths</a></span></li><li><span><a href=\"#Main\" data-toc-modified-id=\"Main-4\">Main</a></span><ul class=\"toc-item\"><li><span><a href=\"#CBTN\" data-toc-modified-id=\"CBTN-4.1\">CBTN</a></span></li><li><span><a href=\"#DKFZ\" data-toc-modified-id=\"DKFZ-4.2\">DKFZ</a></span></li></ul></li></ul></div>"
   ]
  },
  {
   "cell_type": "markdown",
   "metadata": {},
   "source": [
    "# Dependencies"
   ]
  },
  {
   "cell_type": "code",
   "execution_count": 1,
   "metadata": {},
   "outputs": [],
   "source": [
    "library(data.table)"
   ]
  },
  {
   "cell_type": "markdown",
   "metadata": {},
   "source": [
    "# Functions"
   ]
  },
  {
   "cell_type": "markdown",
   "metadata": {},
   "source": [
    "# Paths"
   ]
  },
  {
   "cell_type": "code",
   "execution_count": 2,
   "metadata": {},
   "outputs": [],
   "source": [
    "manifestpath <- \"/Users/anabbi/OneDrive - UHN/Documents/IPD2/Manifests/\"\n",
    "datapath <- \"/Users/anabbi/OneDrive - UHN/Documents/IPD2/Data/\"\n",
    "plotpath <- \"/Users/anabbi/OneDrive - UHN/Documents/IPD2/Plots/\""
   ]
  },
  {
   "cell_type": "markdown",
   "metadata": {},
   "source": [
    "# Main"
   ]
  },
  {
   "cell_type": "code",
   "execution_count": 3,
   "metadata": {},
   "outputs": [],
   "source": [
    "load(paste0(datapath, \"ESTIMATE/estimate_manifest_primary_clean_final.RData\"))"
   ]
  },
  {
   "cell_type": "markdown",
   "metadata": {},
   "source": [
    "## CBTN"
   ]
  },
  {
   "cell_type": "markdown",
   "metadata": {},
   "source": [
    "This is just manifest export for arriba tsv files on cavatica"
   ]
  },
  {
   "cell_type": "code",
   "execution_count": 4,
   "metadata": {},
   "outputs": [],
   "source": [
    "arriba_manifest <- read.csv(paste0(manifestpath,\"arriba_manifest.csv\"),header = T, stringsAsFactors = F)"
   ]
  },
  {
   "cell_type": "code",
   "execution_count": 5,
   "metadata": {},
   "outputs": [
    {
     "data": {
      "text/html": [
       "<table class=\"dataframe\">\n",
       "<caption>A data.frame: 6 × 11</caption>\n",
       "<thead>\n",
       "\t<tr><th></th><th scope=col>id</th><th scope=col>name</th><th scope=col>Kids.First.Participant.ID</th><th scope=col>gender</th><th scope=col>sample_id</th><th scope=col>sample_type</th><th scope=col>Kids.First.Biospecimen.ID</th><th scope=col>age_at_diagnosis</th><th scope=col>aliquot_id</th><th scope=col>reference_genome</th><th scope=col>case_id</th></tr>\n",
       "\t<tr><th></th><th scope=col>&lt;chr&gt;</th><th scope=col>&lt;chr&gt;</th><th scope=col>&lt;chr&gt;</th><th scope=col>&lt;chr&gt;</th><th scope=col>&lt;chr&gt;</th><th scope=col>&lt;chr&gt;</th><th scope=col>&lt;chr&gt;</th><th scope=col>&lt;int&gt;</th><th scope=col>&lt;chr&gt;</th><th scope=col>&lt;chr&gt;</th><th scope=col>&lt;chr&gt;</th></tr>\n",
       "</thead>\n",
       "<tbody>\n",
       "\t<tr><th scope=row>1</th><td>5c9151cbe4b07ea2d4446c47</td><td>93c1cb1d-9e29-4abc-bd8e-ae5e0407ed4d.arriba.fusions.tsv</td><td>PT_98QMQZY7</td><td>Female</td><td>7316-2724</td><td>Tumor</td><td>BS_92MT680S</td><td>2885</td><td>717144</td><td>GRCh38</td><td>C100122 </td></tr>\n",
       "\t<tr><th scope=row>2</th><td>5c9151cbe4b07ea2d4446e2f</td><td>d0abf023-aa7e-4d59-b498-3ff25f623c0f.arriba.fusions.tsv</td><td>PT_WP871F5S</td><td>Male  </td><td>7316-3336</td><td>Tumor</td><td>BS_MD3DT41J</td><td>5137</td><td>739926</td><td>GRCh38</td><td>C100860 </td></tr>\n",
       "\t<tr><th scope=row>3</th><td>5c9151cbe4b07ea2d4446f09</td><td>eb0df04e-039f-4fcf-a1ae-effbd1212ae5.arriba.fusions.tsv</td><td>PT_FZHGKJ0H</td><td>Female</td><td>7316-4034</td><td>Tumor</td><td>BS_2SHWPB5P</td><td>1907</td><td>724100</td><td>GRCh38</td><td>C1009953</td></tr>\n",
       "\t<tr><th scope=row>4</th><td>5c9151cbe4b07ea2d4446b9b</td><td>7e51280d-0d64-43a0-8b98-bbd70a816926.arriba.fusions.tsv</td><td>PT_FZHGKJ0H</td><td>Female</td><td>7316-4033</td><td>Tumor</td><td>BS_JBGZ7HHZ</td><td>1667</td><td>724099</td><td>GRCh38</td><td>C1009953</td></tr>\n",
       "\t<tr><th scope=row>5</th><td>5c9151cbe4b07ea2d4446977</td><td>412efeed-abe0-4754-9751-f8151d84b251.arriba.fusions.tsv</td><td>PT_V5ASTHRH</td><td>Male  </td><td>7316-3892</td><td>Tumor</td><td>BS_VPNXJE2S</td><td>6196</td><td>724087</td><td>GRCh38</td><td>C1028157</td></tr>\n",
       "\t<tr><th scope=row>6</th><td>5c9151cbe4b07ea2d4446c19</td><td>8e165bcb-82f8-4265-af62-2032d78f9997.arriba.fusions.tsv</td><td>PT_2WVW55DA</td><td>Female</td><td>7316-502 </td><td>Tumor</td><td>BS_D8N31T39</td><td> 245</td><td>588359</td><td>GRCh38</td><td>C103566 </td></tr>\n",
       "</tbody>\n",
       "</table>\n"
      ],
      "text/latex": [
       "A data.frame: 6 × 11\n",
       "\\begin{tabular}{r|lllllllllll}\n",
       "  & id & name & Kids.First.Participant.ID & gender & sample\\_id & sample\\_type & Kids.First.Biospecimen.ID & age\\_at\\_diagnosis & aliquot\\_id & reference\\_genome & case\\_id\\\\\n",
       "  & <chr> & <chr> & <chr> & <chr> & <chr> & <chr> & <chr> & <int> & <chr> & <chr> & <chr>\\\\\n",
       "\\hline\n",
       "\t1 & 5c9151cbe4b07ea2d4446c47 & 93c1cb1d-9e29-4abc-bd8e-ae5e0407ed4d.arriba.fusions.tsv & PT\\_98QMQZY7 & Female & 7316-2724 & Tumor & BS\\_92MT680S & 2885 & 717144 & GRCh38 & C100122 \\\\\n",
       "\t2 & 5c9151cbe4b07ea2d4446e2f & d0abf023-aa7e-4d59-b498-3ff25f623c0f.arriba.fusions.tsv & PT\\_WP871F5S & Male   & 7316-3336 & Tumor & BS\\_MD3DT41J & 5137 & 739926 & GRCh38 & C100860 \\\\\n",
       "\t3 & 5c9151cbe4b07ea2d4446f09 & eb0df04e-039f-4fcf-a1ae-effbd1212ae5.arriba.fusions.tsv & PT\\_FZHGKJ0H & Female & 7316-4034 & Tumor & BS\\_2SHWPB5P & 1907 & 724100 & GRCh38 & C1009953\\\\\n",
       "\t4 & 5c9151cbe4b07ea2d4446b9b & 7e51280d-0d64-43a0-8b98-bbd70a816926.arriba.fusions.tsv & PT\\_FZHGKJ0H & Female & 7316-4033 & Tumor & BS\\_JBGZ7HHZ & 1667 & 724099 & GRCh38 & C1009953\\\\\n",
       "\t5 & 5c9151cbe4b07ea2d4446977 & 412efeed-abe0-4754-9751-f8151d84b251.arriba.fusions.tsv & PT\\_V5ASTHRH & Male   & 7316-3892 & Tumor & BS\\_VPNXJE2S & 6196 & 724087 & GRCh38 & C1028157\\\\\n",
       "\t6 & 5c9151cbe4b07ea2d4446c19 & 8e165bcb-82f8-4265-af62-2032d78f9997.arriba.fusions.tsv & PT\\_2WVW55DA & Female & 7316-502  & Tumor & BS\\_D8N31T39 &  245 & 588359 & GRCh38 & C103566 \\\\\n",
       "\\end{tabular}\n"
      ],
      "text/markdown": [
       "\n",
       "A data.frame: 6 × 11\n",
       "\n",
       "| <!--/--> | id &lt;chr&gt; | name &lt;chr&gt; | Kids.First.Participant.ID &lt;chr&gt; | gender &lt;chr&gt; | sample_id &lt;chr&gt; | sample_type &lt;chr&gt; | Kids.First.Biospecimen.ID &lt;chr&gt; | age_at_diagnosis &lt;int&gt; | aliquot_id &lt;chr&gt; | reference_genome &lt;chr&gt; | case_id &lt;chr&gt; |\n",
       "|---|---|---|---|---|---|---|---|---|---|---|---|\n",
       "| 1 | 5c9151cbe4b07ea2d4446c47 | 93c1cb1d-9e29-4abc-bd8e-ae5e0407ed4d.arriba.fusions.tsv | PT_98QMQZY7 | Female | 7316-2724 | Tumor | BS_92MT680S | 2885 | 717144 | GRCh38 | C100122  |\n",
       "| 2 | 5c9151cbe4b07ea2d4446e2f | d0abf023-aa7e-4d59-b498-3ff25f623c0f.arriba.fusions.tsv | PT_WP871F5S | Male   | 7316-3336 | Tumor | BS_MD3DT41J | 5137 | 739926 | GRCh38 | C100860  |\n",
       "| 3 | 5c9151cbe4b07ea2d4446f09 | eb0df04e-039f-4fcf-a1ae-effbd1212ae5.arriba.fusions.tsv | PT_FZHGKJ0H | Female | 7316-4034 | Tumor | BS_2SHWPB5P | 1907 | 724100 | GRCh38 | C1009953 |\n",
       "| 4 | 5c9151cbe4b07ea2d4446b9b | 7e51280d-0d64-43a0-8b98-bbd70a816926.arriba.fusions.tsv | PT_FZHGKJ0H | Female | 7316-4033 | Tumor | BS_JBGZ7HHZ | 1667 | 724099 | GRCh38 | C1009953 |\n",
       "| 5 | 5c9151cbe4b07ea2d4446977 | 412efeed-abe0-4754-9751-f8151d84b251.arriba.fusions.tsv | PT_V5ASTHRH | Male   | 7316-3892 | Tumor | BS_VPNXJE2S | 6196 | 724087 | GRCh38 | C1028157 |\n",
       "| 6 | 5c9151cbe4b07ea2d4446c19 | 8e165bcb-82f8-4265-af62-2032d78f9997.arriba.fusions.tsv | PT_2WVW55DA | Female | 7316-502  | Tumor | BS_D8N31T39 |  245 | 588359 | GRCh38 | C103566  |\n",
       "\n"
      ],
      "text/plain": [
       "  id                      \n",
       "1 5c9151cbe4b07ea2d4446c47\n",
       "2 5c9151cbe4b07ea2d4446e2f\n",
       "3 5c9151cbe4b07ea2d4446f09\n",
       "4 5c9151cbe4b07ea2d4446b9b\n",
       "5 5c9151cbe4b07ea2d4446977\n",
       "6 5c9151cbe4b07ea2d4446c19\n",
       "  name                                                   \n",
       "1 93c1cb1d-9e29-4abc-bd8e-ae5e0407ed4d.arriba.fusions.tsv\n",
       "2 d0abf023-aa7e-4d59-b498-3ff25f623c0f.arriba.fusions.tsv\n",
       "3 eb0df04e-039f-4fcf-a1ae-effbd1212ae5.arriba.fusions.tsv\n",
       "4 7e51280d-0d64-43a0-8b98-bbd70a816926.arriba.fusions.tsv\n",
       "5 412efeed-abe0-4754-9751-f8151d84b251.arriba.fusions.tsv\n",
       "6 8e165bcb-82f8-4265-af62-2032d78f9997.arriba.fusions.tsv\n",
       "  Kids.First.Participant.ID gender sample_id sample_type\n",
       "1 PT_98QMQZY7               Female 7316-2724 Tumor      \n",
       "2 PT_WP871F5S               Male   7316-3336 Tumor      \n",
       "3 PT_FZHGKJ0H               Female 7316-4034 Tumor      \n",
       "4 PT_FZHGKJ0H               Female 7316-4033 Tumor      \n",
       "5 PT_V5ASTHRH               Male   7316-3892 Tumor      \n",
       "6 PT_2WVW55DA               Female 7316-502  Tumor      \n",
       "  Kids.First.Biospecimen.ID age_at_diagnosis aliquot_id reference_genome\n",
       "1 BS_92MT680S               2885             717144     GRCh38          \n",
       "2 BS_MD3DT41J               5137             739926     GRCh38          \n",
       "3 BS_2SHWPB5P               1907             724100     GRCh38          \n",
       "4 BS_JBGZ7HHZ               1667             724099     GRCh38          \n",
       "5 BS_VPNXJE2S               6196             724087     GRCh38          \n",
       "6 BS_D8N31T39                245             588359     GRCh38          \n",
       "  case_id \n",
       "1 C100122 \n",
       "2 C100860 \n",
       "3 C1009953\n",
       "4 C1009953\n",
       "5 C1028157\n",
       "6 C103566 "
      ]
     },
     "metadata": {},
     "output_type": "display_data"
    }
   ],
   "source": [
    "head(arriba_manifest)"
   ]
  },
  {
   "cell_type": "markdown",
   "metadata": {},
   "source": [
    "This file was made on cavatica notebook (analysis matrices) by compiling all arriba tsv files"
   ]
  },
  {
   "cell_type": "code",
   "execution_count": 6,
   "metadata": {},
   "outputs": [],
   "source": [
    "arriba_cbtn <- read.table(paste0(datapath, \"fusion/all_arriba_CBTTC.tsv\"),sep = \"\\t\", header = T, \n",
    "                               comment.char = \"\", quote = \"\", stringsAsFactors = F)"
   ]
  },
  {
   "cell_type": "code",
   "execution_count": 7,
   "metadata": {},
   "outputs": [
    {
     "data": {
      "text/html": [
       "<table class=\"dataframe\">\n",
       "<caption>A data.frame: 6 × 25</caption>\n",
       "<thead>\n",
       "\t<tr><th></th><th scope=col>X.gene1</th><th scope=col>gene2</th><th scope=col>strand1.gene.fusion.</th><th scope=col>strand2.gene.fusion.</th><th scope=col>breakpoint1</th><th scope=col>breakpoint2</th><th scope=col>site1</th><th scope=col>site2</th><th scope=col>type</th><th scope=col>direction1</th><th scope=col>⋯</th><th scope=col>coverage2</th><th scope=col>confidence</th><th scope=col>closest_genomic_breakpoint1</th><th scope=col>closest_genomic_breakpoint2</th><th scope=col>filters</th><th scope=col>fusion_transcript</th><th scope=col>reading_frame</th><th scope=col>peptide_sequence</th><th scope=col>read_identifiers</th><th scope=col>Filename</th></tr>\n",
       "\t<tr><th></th><th scope=col>&lt;chr&gt;</th><th scope=col>&lt;chr&gt;</th><th scope=col>&lt;chr&gt;</th><th scope=col>&lt;chr&gt;</th><th scope=col>&lt;chr&gt;</th><th scope=col>&lt;chr&gt;</th><th scope=col>&lt;chr&gt;</th><th scope=col>&lt;chr&gt;</th><th scope=col>&lt;chr&gt;</th><th scope=col>&lt;chr&gt;</th><th scope=col>⋯</th><th scope=col>&lt;int&gt;</th><th scope=col>&lt;chr&gt;</th><th scope=col>&lt;chr&gt;</th><th scope=col>&lt;chr&gt;</th><th scope=col>&lt;chr&gt;</th><th scope=col>&lt;chr&gt;</th><th scope=col>&lt;chr&gt;</th><th scope=col>&lt;chr&gt;</th><th scope=col>&lt;chr&gt;</th><th scope=col>&lt;chr&gt;</th></tr>\n",
       "</thead>\n",
       "<tbody>\n",
       "\t<tr><th scope=row>1</th><td>SEL1L3                         </td><td>SMIM20(91225),LINC02357(49655)</td><td>-/-</td><td>./-</td><td>4:25862675 </td><td>4:26021099 </td><td>splice-site</td><td>intergenic </td><td>duplication          </td><td>upstream  </td><td>⋯</td><td> 53</td><td>high  </td><td>.</td><td>.</td><td>.                                      </td><td>GTCCGGAGGTGGCGGCAGGTGGCCCCGCGCGCGGCGGCCGGCCCGGCCGGGGGCGGGCGGGAAGGTGGCGCCTCGGGCGGGGGCCGGTCCCTGCACCAGGTGACCTGTTCCGGCCCGGATCCGGGCGGCCTCGCCATGCAGCGGCGCGGCGCGGGGCTCGGGTGGCCGCGGCAGCAGCAGCAGCAACCCCCGCCGCTCGCGGTCGGCCCCCGGGCCGCAGCCATGGTCCCGAGTGGCGGCGTCCCCCAGGGCCTCGGCGGCCGCTCTGCCTGCGCGCTGCTCCTGCTCTGCTACCTG|GCATCCTACTCTGTGAGGCCAAAGGGACATCTGAGTGCCGAGATTAGTCTAGATCGAAAGCATGTGAAAGGCAACAACAACATCCCTGCCAAACAAAACCAAG___TTGATTTTCAGCAGGCCTCAAGAGAGTGAAAGGGAAGTTTCCCCTTGGTCCCTATGCTAGCTTTGGCCAATGGAACATTAGCAAACAGGCTTGAAAAGTATCTTGAGGCTCACTCCCTCAGAACCTGGTGACCTCCAGATGAACAAGCTTGAGATGGCCTGCCTGATGATGAGAGACACAGACACCAGCCAAGCCATCTGTGTCACCCCAGCTGATGTCAAGCCAATGGCCAGACATCTGCAGGAGGCCCTCCTAGACCATCTAGCTCCAG</td><td>out-of-frame</td><td>MQRRGAGLGWPRQQQQQPPPLAVGPRAAAMVPSGGVPQGLGGRSACALLLLCYL|asysvrpkghlsaeisldrkhvkgnnnipakqnqvdfqqasre*                                        </td><td>.</td><td>00245bb9-b207-4648-b26e-bf16ec38103a</td></tr>\n",
       "\t<tr><th scope=row>2</th><td>TRIM24                         </td><td>ROS1                          </td><td>+/+</td><td>-/-</td><td>7:138519321</td><td>6:117320030</td><td>splice-site</td><td>splice-site</td><td>translocation        </td><td>downstream</td><td>⋯</td><td> 25</td><td>high  </td><td>.</td><td>.</td><td>duplicates(1),mismappers(1)            </td><td>CAGAGCTCATCAGAGGGTAAAGTTCACAAAAGACCACACTGTCAGACAGAAAGAGGAAGTATCTCCAG___AGGCAGTTGGTGTCACCAGCCAGCGACCAGTGTTTTGTCCTTTTCATAAAAAGGAGCAGCTGAAGCTGTACTGTGAGACATGTGACAAACTGACATGTCGAGACTGTCAGTTGTTAGAACATAAAGAGCATAG|TACTCTTCCAACCCAAGAGGAGATTGAAAATCTTCCTGCCTTCCCTCGGGAAAAACTGACTCTGCGTCTCTTGCTGGGAAGTGGAGCCTTTGGAGAAGTGTATGAAGGAACAGCAGTGGACATCTTAGGAGTTGGAAGTGGAGAAATCAAAGTAGCAGTGAAG___ACTTTGAAGAAGGGTTCCACAGACCAGGAGAAGATTGAATTCCTGAAGGAGGC                                                                                                                                                                                                                                                           </td><td>in-frame    </td><td>RAHQRVKFTKDHTVRQKEEVSPEAVGVTSQRPVFCPFHKKEQLKLYCETCDKLTCRDCQLLEHKEHs|TLPTQEEIENLPAFPREKLTLRLLLGSGAFGEVYEGTAVDILGVGSGEIKVAVKTLKKGSTDQEKIEFLKE</td><td>.</td><td>00245bb9-b207-4648-b26e-bf16ec38103a</td></tr>\n",
       "\t<tr><th scope=row>3</th><td>AC009093.3                     </td><td>ANK2                          </td><td>-/-</td><td>+/+</td><td>16:29082041</td><td>4:113174416</td><td>intron     </td><td>splice-site</td><td>translocation        </td><td>upstream  </td><td>⋯</td><td>895</td><td>medium</td><td>.</td><td>.</td><td>duplicates(3),inconsistently_clipped(4)</td><td>GCTTGCCCAGCCCCGCGGCCAAGGTCGCGTCCGACCCCGGCCCGCCGCGGCCCCGAGTCCGCCGGCCGGGATGTAGGTGGCGCGGGAGGGACTTCGGCTGGGCGAGCAGAGGGCACAGCCGCCCCTTCCACTCTGCGGCGCAGGAGCCGGGGCGGGTCCGCGGGGCGCGGCGGCTGCGGAGACTCCGGGCGGGCGCGGGCCGCAGGCCCGACGCGGAGGAGACCGAGGAGACGCGGGAGACCCGGGCGTGACAGGAGGAAGAAACCCGGAGCCGCAGGAAGATGGCTTCTCCCACCTCCCCGGCCCCGGAAGGCGGGGCCTCCACCCCGCCGAACCCGCCGCGGATTCGTCAG|TCTGACAGCAATGCAAGCTTCCTCCGTGCTGCCAGAGCAGGCAACCTGGACAAAGTTGTGGAATATCTGAAGGGGGGCATAGACATCAATACCTGCAATCAG                                                                                                                                                                                                                           </td><td>.           </td><td>.                                                                                                                                          </td><td>.</td><td>00245bb9-b207-4648-b26e-bf16ec38103a</td></tr>\n",
       "\t<tr><th scope=row>4</th><td>RRN3P2                         </td><td>ANK2                          </td><td>+/-</td><td>+/+</td><td>16:29082041</td><td>4:113174416</td><td>intron     </td><td>splice-site</td><td>translocation/3'-3'  </td><td>upstream  </td><td>⋯</td><td>895</td><td>medium</td><td>.</td><td>.</td><td>duplicates(3),inconsistently_clipped(4)</td><td>GCTTGCCCAGCCCCGCGGCCAAGGTCGCGTCCGACCCCGGCCCGCCGCGGCCCCGAGTCCGCCGGCCGGGATGTAGGTGGCGCGGGAGGGACTTCGGCTGGGCGAGCAGAGGGCACAGCCGCCCCTTCCACTCTGCGGCGCAGGAGCCGGGGCGGGTCCGCGGGGCGCGGCGGCTGCGGAGACTCCGGGCGGGCGCGGGCCGCAGGCCCGACGCGGAGGAGACCGAGGAGACGCGGGAGACCCGGGCGTGACAGGAGGAAGAAACCCGGAGCCGCAGGAAGATGGCTTCTCCCACCTCCCCGGCCCCGGAAGGCGGGGCCTCCACCCCGCCGAACCCGCCGCGGATTCGTCAG|TCTGACAGCAATGCAAGCTTCCTCCGTGCTGCCAGAGCAGGCAACCTGGACAAAGTTGTGGAATATCTGAAGGGGGGCATAGACATCAATACCTGCAATCAG                                                                                                                                                                                                                           </td><td>.           </td><td>.                                                                                                                                          </td><td>.</td><td>00245bb9-b207-4648-b26e-bf16ec38103a</td></tr>\n",
       "\t<tr><th scope=row>5</th><td>AC009093.9                     </td><td>ANK2                          </td><td>+/-</td><td>+/+</td><td>16:29082041</td><td>4:113174416</td><td>intron     </td><td>splice-site</td><td>translocation/3'-3'  </td><td>upstream  </td><td>⋯</td><td>895</td><td>medium</td><td>.</td><td>.</td><td>duplicates(3),inconsistently_clipped(4)</td><td>GCTTGCCCAGCCCCGCGGCCAAGGTCGCGTCCGACCCCGGCCCGCCGCGGCCCCGAGTCCGCCGGCCGGGATGTAGGTGGCGCGGGAGGGACTTCGGCTGGGCGAGCAGAGGGCACAGCCGCCCCTTCCACTCTGCGGCGCAGGAGCCGGGGCGGGTCCGCGGGGCGCGGCGGCTGCGGAGACTCCGGGCGGGCGCGGGCCGCAGGCCCGACGCGGAGGAGACCGAGGAGACGCGGGAGACCCGGGCGTGACAGGAGGAAGAAACCCGGAGCCGCAGGAAGATGGCTTCTCCCACCTCCCCGGCCCCGGAAGGCGGGGCCTCCACCCCGCCGAACCCGCCGCGGATTCGTCAG|TCTGACAGCAATGCAAGCTTCCTCCGTGCTGCCAGAGCAGGCAACCTGGACAAAGTTGTGGAATATCTGAAGGGGGGCATAGACATCAATACCTGCAATCAG                                                                                                                                                                                                                           </td><td>.           </td><td>.                                                                                                                                          </td><td>.</td><td>00245bb9-b207-4648-b26e-bf16ec38103a</td></tr>\n",
       "\t<tr><th scope=row>6</th><td>RPSAP53(30527),LINC00364(74154)</td><td>PCDH9                         </td><td>./-</td><td>-/-</td><td>13:67298233</td><td>13:67228575</td><td>intergenic </td><td>splice-site</td><td>deletion/read-through</td><td>upstream  </td><td>⋯</td><td>239</td><td>medium</td><td>.</td><td>.</td><td>duplicates(1)                          </td><td>GTTTCACAAGAGCAGAAAGATTTAATGTGCTTCTTCCCCATCTTAATGACAAATGAAAAAGGGAGAATGAAAAGGAGGTTGCCAGTGGGCACAGGAATGACTTTTCCTTTGAACCAGGGGAGAGACGTTCCCAAAGGAGAGAAATAAACAAAGGTGAAAATTTTCTGCCAGTTAGAAG|CGGCTGTCTCCAAATAAGTGATGAGATATAATGCATCCTCCAGTCCATGCACGCTTCCTCTTGCAATTTGTGCATCATTCCTCAGTGGAAACCTTTAAACCCTAAAATCCAGGAAAAGAAAATAAATACATTATCATGGACCTGAGGGATTTTTACCTGTTGGCTGCTCTGATTGCCTGTTTAAGGCTGGATTCCGCAATAGCTCAAGAACTTATTTACACTATTAGAGAGGAATTGCCTGAAAATGTGCC                                                                                                                                                                                                                                                     </td><td>.           </td><td>.                                                                                                                                          </td><td>.</td><td>00245bb9-b207-4648-b26e-bf16ec38103a</td></tr>\n",
       "</tbody>\n",
       "</table>\n"
      ],
      "text/latex": [
       "A data.frame: 6 × 25\n",
       "\\begin{tabular}{r|lllllllllllllllllllll}\n",
       "  & X.gene1 & gene2 & strand1.gene.fusion. & strand2.gene.fusion. & breakpoint1 & breakpoint2 & site1 & site2 & type & direction1 & ⋯ & coverage2 & confidence & closest\\_genomic\\_breakpoint1 & closest\\_genomic\\_breakpoint2 & filters & fusion\\_transcript & reading\\_frame & peptide\\_sequence & read\\_identifiers & Filename\\\\\n",
       "  & <chr> & <chr> & <chr> & <chr> & <chr> & <chr> & <chr> & <chr> & <chr> & <chr> & ⋯ & <int> & <chr> & <chr> & <chr> & <chr> & <chr> & <chr> & <chr> & <chr> & <chr>\\\\\n",
       "\\hline\n",
       "\t1 & SEL1L3                          & SMIM20(91225),LINC02357(49655) & -/- & ./- & 4:25862675  & 4:26021099  & splice-site & intergenic  & duplication           & upstream   & ⋯ &  53 & high   & . & . & .                                       & GTCCGGAGGTGGCGGCAGGTGGCCCCGCGCGCGGCGGCCGGCCCGGCCGGGGGCGGGCGGGAAGGTGGCGCCTCGGGCGGGGGCCGGTCCCTGCACCAGGTGACCTGTTCCGGCCCGGATCCGGGCGGCCTCGCCATGCAGCGGCGCGGCGCGGGGCTCGGGTGGCCGCGGCAGCAGCAGCAGCAACCCCCGCCGCTCGCGGTCGGCCCCCGGGCCGCAGCCATGGTCCCGAGTGGCGGCGTCCCCCAGGGCCTCGGCGGCCGCTCTGCCTGCGCGCTGCTCCTGCTCTGCTACCTG\\textbar{}GCATCCTACTCTGTGAGGCCAAAGGGACATCTGAGTGCCGAGATTAGTCTAGATCGAAAGCATGTGAAAGGCAACAACAACATCCCTGCCAAACAAAACCAAG\\_\\_\\_TTGATTTTCAGCAGGCCTCAAGAGAGTGAAAGGGAAGTTTCCCCTTGGTCCCTATGCTAGCTTTGGCCAATGGAACATTAGCAAACAGGCTTGAAAAGTATCTTGAGGCTCACTCCCTCAGAACCTGGTGACCTCCAGATGAACAAGCTTGAGATGGCCTGCCTGATGATGAGAGACACAGACACCAGCCAAGCCATCTGTGTCACCCCAGCTGATGTCAAGCCAATGGCCAGACATCTGCAGGAGGCCCTCCTAGACCATCTAGCTCCAG & out-of-frame & MQRRGAGLGWPRQQQQQPPPLAVGPRAAAMVPSGGVPQGLGGRSACALLLLCYL\\textbar{}asysvrpkghlsaeisldrkhvkgnnnipakqnqvdfqqasre*                                         & . & 00245bb9-b207-4648-b26e-bf16ec38103a\\\\\n",
       "\t2 & TRIM24                          & ROS1                           & +/+ & -/- & 7:138519321 & 6:117320030 & splice-site & splice-site & translocation         & downstream & ⋯ &  25 & high   & . & . & duplicates(1),mismappers(1)             & CAGAGCTCATCAGAGGGTAAAGTTCACAAAAGACCACACTGTCAGACAGAAAGAGGAAGTATCTCCAG\\_\\_\\_AGGCAGTTGGTGTCACCAGCCAGCGACCAGTGTTTTGTCCTTTTCATAAAAAGGAGCAGCTGAAGCTGTACTGTGAGACATGTGACAAACTGACATGTCGAGACTGTCAGTTGTTAGAACATAAAGAGCATAG\\textbar{}TACTCTTCCAACCCAAGAGGAGATTGAAAATCTTCCTGCCTTCCCTCGGGAAAAACTGACTCTGCGTCTCTTGCTGGGAAGTGGAGCCTTTGGAGAAGTGTATGAAGGAACAGCAGTGGACATCTTAGGAGTTGGAAGTGGAGAAATCAAAGTAGCAGTGAAG\\_\\_\\_ACTTTGAAGAAGGGTTCCACAGACCAGGAGAAGATTGAATTCCTGAAGGAGGC                                                                                                                                                                                                                                                            & in-frame     & RAHQRVKFTKDHTVRQKEEVSPEAVGVTSQRPVFCPFHKKEQLKLYCETCDKLTCRDCQLLEHKEHs\\textbar{}TLPTQEEIENLPAFPREKLTLRLLLGSGAFGEVYEGTAVDILGVGSGEIKVAVKTLKKGSTDQEKIEFLKE & . & 00245bb9-b207-4648-b26e-bf16ec38103a\\\\\n",
       "\t3 & AC009093.3                      & ANK2                           & -/- & +/+ & 16:29082041 & 4:113174416 & intron      & splice-site & translocation         & upstream   & ⋯ & 895 & medium & . & . & duplicates(3),inconsistently\\_clipped(4) & GCTTGCCCAGCCCCGCGGCCAAGGTCGCGTCCGACCCCGGCCCGCCGCGGCCCCGAGTCCGCCGGCCGGGATGTAGGTGGCGCGGGAGGGACTTCGGCTGGGCGAGCAGAGGGCACAGCCGCCCCTTCCACTCTGCGGCGCAGGAGCCGGGGCGGGTCCGCGGGGCGCGGCGGCTGCGGAGACTCCGGGCGGGCGCGGGCCGCAGGCCCGACGCGGAGGAGACCGAGGAGACGCGGGAGACCCGGGCGTGACAGGAGGAAGAAACCCGGAGCCGCAGGAAGATGGCTTCTCCCACCTCCCCGGCCCCGGAAGGCGGGGCCTCCACCCCGCCGAACCCGCCGCGGATTCGTCAG\\textbar{}TCTGACAGCAATGCAAGCTTCCTCCGTGCTGCCAGAGCAGGCAACCTGGACAAAGTTGTGGAATATCTGAAGGGGGGCATAGACATCAATACCTGCAATCAG                                                                                                                                                                                                                            & .            & .                                                                                                                                           & . & 00245bb9-b207-4648-b26e-bf16ec38103a\\\\\n",
       "\t4 & RRN3P2                          & ANK2                           & +/- & +/+ & 16:29082041 & 4:113174416 & intron      & splice-site & translocation/3'-3'   & upstream   & ⋯ & 895 & medium & . & . & duplicates(3),inconsistently\\_clipped(4) & GCTTGCCCAGCCCCGCGGCCAAGGTCGCGTCCGACCCCGGCCCGCCGCGGCCCCGAGTCCGCCGGCCGGGATGTAGGTGGCGCGGGAGGGACTTCGGCTGGGCGAGCAGAGGGCACAGCCGCCCCTTCCACTCTGCGGCGCAGGAGCCGGGGCGGGTCCGCGGGGCGCGGCGGCTGCGGAGACTCCGGGCGGGCGCGGGCCGCAGGCCCGACGCGGAGGAGACCGAGGAGACGCGGGAGACCCGGGCGTGACAGGAGGAAGAAACCCGGAGCCGCAGGAAGATGGCTTCTCCCACCTCCCCGGCCCCGGAAGGCGGGGCCTCCACCCCGCCGAACCCGCCGCGGATTCGTCAG\\textbar{}TCTGACAGCAATGCAAGCTTCCTCCGTGCTGCCAGAGCAGGCAACCTGGACAAAGTTGTGGAATATCTGAAGGGGGGCATAGACATCAATACCTGCAATCAG                                                                                                                                                                                                                            & .            & .                                                                                                                                           & . & 00245bb9-b207-4648-b26e-bf16ec38103a\\\\\n",
       "\t5 & AC009093.9                      & ANK2                           & +/- & +/+ & 16:29082041 & 4:113174416 & intron      & splice-site & translocation/3'-3'   & upstream   & ⋯ & 895 & medium & . & . & duplicates(3),inconsistently\\_clipped(4) & GCTTGCCCAGCCCCGCGGCCAAGGTCGCGTCCGACCCCGGCCCGCCGCGGCCCCGAGTCCGCCGGCCGGGATGTAGGTGGCGCGGGAGGGACTTCGGCTGGGCGAGCAGAGGGCACAGCCGCCCCTTCCACTCTGCGGCGCAGGAGCCGGGGCGGGTCCGCGGGGCGCGGCGGCTGCGGAGACTCCGGGCGGGCGCGGGCCGCAGGCCCGACGCGGAGGAGACCGAGGAGACGCGGGAGACCCGGGCGTGACAGGAGGAAGAAACCCGGAGCCGCAGGAAGATGGCTTCTCCCACCTCCCCGGCCCCGGAAGGCGGGGCCTCCACCCCGCCGAACCCGCCGCGGATTCGTCAG\\textbar{}TCTGACAGCAATGCAAGCTTCCTCCGTGCTGCCAGAGCAGGCAACCTGGACAAAGTTGTGGAATATCTGAAGGGGGGCATAGACATCAATACCTGCAATCAG                                                                                                                                                                                                                            & .            & .                                                                                                                                           & . & 00245bb9-b207-4648-b26e-bf16ec38103a\\\\\n",
       "\t6 & RPSAP53(30527),LINC00364(74154) & PCDH9                          & ./- & -/- & 13:67298233 & 13:67228575 & intergenic  & splice-site & deletion/read-through & upstream   & ⋯ & 239 & medium & . & . & duplicates(1)                           & GTTTCACAAGAGCAGAAAGATTTAATGTGCTTCTTCCCCATCTTAATGACAAATGAAAAAGGGAGAATGAAAAGGAGGTTGCCAGTGGGCACAGGAATGACTTTTCCTTTGAACCAGGGGAGAGACGTTCCCAAAGGAGAGAAATAAACAAAGGTGAAAATTTTCTGCCAGTTAGAAG\\textbar{}CGGCTGTCTCCAAATAAGTGATGAGATATAATGCATCCTCCAGTCCATGCACGCTTCCTCTTGCAATTTGTGCATCATTCCTCAGTGGAAACCTTTAAACCCTAAAATCCAGGAAAAGAAAATAAATACATTATCATGGACCTGAGGGATTTTTACCTGTTGGCTGCTCTGATTGCCTGTTTAAGGCTGGATTCCGCAATAGCTCAAGAACTTATTTACACTATTAGAGAGGAATTGCCTGAAAATGTGCC                                                                                                                                                                                                                                                      & .            & .                                                                                                                                           & . & 00245bb9-b207-4648-b26e-bf16ec38103a\\\\\n",
       "\\end{tabular}\n"
      ],
      "text/markdown": [
       "\n",
       "A data.frame: 6 × 25\n",
       "\n",
       "| <!--/--> | X.gene1 &lt;chr&gt; | gene2 &lt;chr&gt; | strand1.gene.fusion. &lt;chr&gt; | strand2.gene.fusion. &lt;chr&gt; | breakpoint1 &lt;chr&gt; | breakpoint2 &lt;chr&gt; | site1 &lt;chr&gt; | site2 &lt;chr&gt; | type &lt;chr&gt; | direction1 &lt;chr&gt; | ⋯ ⋯ | coverage2 &lt;int&gt; | confidence &lt;chr&gt; | closest_genomic_breakpoint1 &lt;chr&gt; | closest_genomic_breakpoint2 &lt;chr&gt; | filters &lt;chr&gt; | fusion_transcript &lt;chr&gt; | reading_frame &lt;chr&gt; | peptide_sequence &lt;chr&gt; | read_identifiers &lt;chr&gt; | Filename &lt;chr&gt; |\n",
       "|---|---|---|---|---|---|---|---|---|---|---|---|---|---|---|---|---|---|---|---|---|---|\n",
       "| 1 | SEL1L3                          | SMIM20(91225),LINC02357(49655) | -/- | ./- | 4:25862675  | 4:26021099  | splice-site | intergenic  | duplication           | upstream   | ⋯ |  53 | high   | . | . | .                                       | GTCCGGAGGTGGCGGCAGGTGGCCCCGCGCGCGGCGGCCGGCCCGGCCGGGGGCGGGCGGGAAGGTGGCGCCTCGGGCGGGGGCCGGTCCCTGCACCAGGTGACCTGTTCCGGCCCGGATCCGGGCGGCCTCGCCATGCAGCGGCGCGGCGCGGGGCTCGGGTGGCCGCGGCAGCAGCAGCAGCAACCCCCGCCGCTCGCGGTCGGCCCCCGGGCCGCAGCCATGGTCCCGAGTGGCGGCGTCCCCCAGGGCCTCGGCGGCCGCTCTGCCTGCGCGCTGCTCCTGCTCTGCTACCTG|GCATCCTACTCTGTGAGGCCAAAGGGACATCTGAGTGCCGAGATTAGTCTAGATCGAAAGCATGTGAAAGGCAACAACAACATCCCTGCCAAACAAAACCAAG___TTGATTTTCAGCAGGCCTCAAGAGAGTGAAAGGGAAGTTTCCCCTTGGTCCCTATGCTAGCTTTGGCCAATGGAACATTAGCAAACAGGCTTGAAAAGTATCTTGAGGCTCACTCCCTCAGAACCTGGTGACCTCCAGATGAACAAGCTTGAGATGGCCTGCCTGATGATGAGAGACACAGACACCAGCCAAGCCATCTGTGTCACCCCAGCTGATGTCAAGCCAATGGCCAGACATCTGCAGGAGGCCCTCCTAGACCATCTAGCTCCAG | out-of-frame | MQRRGAGLGWPRQQQQQPPPLAVGPRAAAMVPSGGVPQGLGGRSACALLLLCYL|asysvrpkghlsaeisldrkhvkgnnnipakqnqvdfqqasre*                                         | . | 00245bb9-b207-4648-b26e-bf16ec38103a |\n",
       "| 2 | TRIM24                          | ROS1                           | +/+ | -/- | 7:138519321 | 6:117320030 | splice-site | splice-site | translocation         | downstream | ⋯ |  25 | high   | . | . | duplicates(1),mismappers(1)             | CAGAGCTCATCAGAGGGTAAAGTTCACAAAAGACCACACTGTCAGACAGAAAGAGGAAGTATCTCCAG___AGGCAGTTGGTGTCACCAGCCAGCGACCAGTGTTTTGTCCTTTTCATAAAAAGGAGCAGCTGAAGCTGTACTGTGAGACATGTGACAAACTGACATGTCGAGACTGTCAGTTGTTAGAACATAAAGAGCATAG|TACTCTTCCAACCCAAGAGGAGATTGAAAATCTTCCTGCCTTCCCTCGGGAAAAACTGACTCTGCGTCTCTTGCTGGGAAGTGGAGCCTTTGGAGAAGTGTATGAAGGAACAGCAGTGGACATCTTAGGAGTTGGAAGTGGAGAAATCAAAGTAGCAGTGAAG___ACTTTGAAGAAGGGTTCCACAGACCAGGAGAAGATTGAATTCCTGAAGGAGGC                                                                                                                                                                                                                                                            | in-frame     | RAHQRVKFTKDHTVRQKEEVSPEAVGVTSQRPVFCPFHKKEQLKLYCETCDKLTCRDCQLLEHKEHs|TLPTQEEIENLPAFPREKLTLRLLLGSGAFGEVYEGTAVDILGVGSGEIKVAVKTLKKGSTDQEKIEFLKE | . | 00245bb9-b207-4648-b26e-bf16ec38103a |\n",
       "| 3 | AC009093.3                      | ANK2                           | -/- | +/+ | 16:29082041 | 4:113174416 | intron      | splice-site | translocation         | upstream   | ⋯ | 895 | medium | . | . | duplicates(3),inconsistently_clipped(4) | GCTTGCCCAGCCCCGCGGCCAAGGTCGCGTCCGACCCCGGCCCGCCGCGGCCCCGAGTCCGCCGGCCGGGATGTAGGTGGCGCGGGAGGGACTTCGGCTGGGCGAGCAGAGGGCACAGCCGCCCCTTCCACTCTGCGGCGCAGGAGCCGGGGCGGGTCCGCGGGGCGCGGCGGCTGCGGAGACTCCGGGCGGGCGCGGGCCGCAGGCCCGACGCGGAGGAGACCGAGGAGACGCGGGAGACCCGGGCGTGACAGGAGGAAGAAACCCGGAGCCGCAGGAAGATGGCTTCTCCCACCTCCCCGGCCCCGGAAGGCGGGGCCTCCACCCCGCCGAACCCGCCGCGGATTCGTCAG|TCTGACAGCAATGCAAGCTTCCTCCGTGCTGCCAGAGCAGGCAACCTGGACAAAGTTGTGGAATATCTGAAGGGGGGCATAGACATCAATACCTGCAATCAG                                                                                                                                                                                                                            | .            | .                                                                                                                                           | . | 00245bb9-b207-4648-b26e-bf16ec38103a |\n",
       "| 4 | RRN3P2                          | ANK2                           | +/- | +/+ | 16:29082041 | 4:113174416 | intron      | splice-site | translocation/3'-3'   | upstream   | ⋯ | 895 | medium | . | . | duplicates(3),inconsistently_clipped(4) | GCTTGCCCAGCCCCGCGGCCAAGGTCGCGTCCGACCCCGGCCCGCCGCGGCCCCGAGTCCGCCGGCCGGGATGTAGGTGGCGCGGGAGGGACTTCGGCTGGGCGAGCAGAGGGCACAGCCGCCCCTTCCACTCTGCGGCGCAGGAGCCGGGGCGGGTCCGCGGGGCGCGGCGGCTGCGGAGACTCCGGGCGGGCGCGGGCCGCAGGCCCGACGCGGAGGAGACCGAGGAGACGCGGGAGACCCGGGCGTGACAGGAGGAAGAAACCCGGAGCCGCAGGAAGATGGCTTCTCCCACCTCCCCGGCCCCGGAAGGCGGGGCCTCCACCCCGCCGAACCCGCCGCGGATTCGTCAG|TCTGACAGCAATGCAAGCTTCCTCCGTGCTGCCAGAGCAGGCAACCTGGACAAAGTTGTGGAATATCTGAAGGGGGGCATAGACATCAATACCTGCAATCAG                                                                                                                                                                                                                            | .            | .                                                                                                                                           | . | 00245bb9-b207-4648-b26e-bf16ec38103a |\n",
       "| 5 | AC009093.9                      | ANK2                           | +/- | +/+ | 16:29082041 | 4:113174416 | intron      | splice-site | translocation/3'-3'   | upstream   | ⋯ | 895 | medium | . | . | duplicates(3),inconsistently_clipped(4) | GCTTGCCCAGCCCCGCGGCCAAGGTCGCGTCCGACCCCGGCCCGCCGCGGCCCCGAGTCCGCCGGCCGGGATGTAGGTGGCGCGGGAGGGACTTCGGCTGGGCGAGCAGAGGGCACAGCCGCCCCTTCCACTCTGCGGCGCAGGAGCCGGGGCGGGTCCGCGGGGCGCGGCGGCTGCGGAGACTCCGGGCGGGCGCGGGCCGCAGGCCCGACGCGGAGGAGACCGAGGAGACGCGGGAGACCCGGGCGTGACAGGAGGAAGAAACCCGGAGCCGCAGGAAGATGGCTTCTCCCACCTCCCCGGCCCCGGAAGGCGGGGCCTCCACCCCGCCGAACCCGCCGCGGATTCGTCAG|TCTGACAGCAATGCAAGCTTCCTCCGTGCTGCCAGAGCAGGCAACCTGGACAAAGTTGTGGAATATCTGAAGGGGGGCATAGACATCAATACCTGCAATCAG                                                                                                                                                                                                                            | .            | .                                                                                                                                           | . | 00245bb9-b207-4648-b26e-bf16ec38103a |\n",
       "| 6 | RPSAP53(30527),LINC00364(74154) | PCDH9                          | ./- | -/- | 13:67298233 | 13:67228575 | intergenic  | splice-site | deletion/read-through | upstream   | ⋯ | 239 | medium | . | . | duplicates(1)                           | GTTTCACAAGAGCAGAAAGATTTAATGTGCTTCTTCCCCATCTTAATGACAAATGAAAAAGGGAGAATGAAAAGGAGGTTGCCAGTGGGCACAGGAATGACTTTTCCTTTGAACCAGGGGAGAGACGTTCCCAAAGGAGAGAAATAAACAAAGGTGAAAATTTTCTGCCAGTTAGAAG|CGGCTGTCTCCAAATAAGTGATGAGATATAATGCATCCTCCAGTCCATGCACGCTTCCTCTTGCAATTTGTGCATCATTCCTCAGTGGAAACCTTTAAACCCTAAAATCCAGGAAAAGAAAATAAATACATTATCATGGACCTGAGGGATTTTTACCTGTTGGCTGCTCTGATTGCCTGTTTAAGGCTGGATTCCGCAATAGCTCAAGAACTTATTTACACTATTAGAGAGGAATTGCCTGAAAATGTGCC                                                                                                                                                                                                                                                      | .            | .                                                                                                                                           | . | 00245bb9-b207-4648-b26e-bf16ec38103a |\n",
       "\n"
      ],
      "text/plain": [
       "  X.gene1                         gene2                         \n",
       "1 SEL1L3                          SMIM20(91225),LINC02357(49655)\n",
       "2 TRIM24                          ROS1                          \n",
       "3 AC009093.3                      ANK2                          \n",
       "4 RRN3P2                          ANK2                          \n",
       "5 AC009093.9                      ANK2                          \n",
       "6 RPSAP53(30527),LINC00364(74154) PCDH9                         \n",
       "  strand1.gene.fusion. strand2.gene.fusion. breakpoint1 breakpoint2 site1      \n",
       "1 -/-                  ./-                  4:25862675  4:26021099  splice-site\n",
       "2 +/+                  -/-                  7:138519321 6:117320030 splice-site\n",
       "3 -/-                  +/+                  16:29082041 4:113174416 intron     \n",
       "4 +/-                  +/+                  16:29082041 4:113174416 intron     \n",
       "5 +/-                  +/+                  16:29082041 4:113174416 intron     \n",
       "6 ./-                  -/-                  13:67298233 13:67228575 intergenic \n",
       "  site2       type                  direction1 ⋯ coverage2 confidence\n",
       "1 intergenic  duplication           upstream   ⋯  53       high      \n",
       "2 splice-site translocation         downstream ⋯  25       high      \n",
       "3 splice-site translocation         upstream   ⋯ 895       medium    \n",
       "4 splice-site translocation/3'-3'   upstream   ⋯ 895       medium    \n",
       "5 splice-site translocation/3'-3'   upstream   ⋯ 895       medium    \n",
       "6 splice-site deletion/read-through upstream   ⋯ 239       medium    \n",
       "  closest_genomic_breakpoint1 closest_genomic_breakpoint2\n",
       "1 .                           .                          \n",
       "2 .                           .                          \n",
       "3 .                           .                          \n",
       "4 .                           .                          \n",
       "5 .                           .                          \n",
       "6 .                           .                          \n",
       "  filters                                \n",
       "1 .                                      \n",
       "2 duplicates(1),mismappers(1)            \n",
       "3 duplicates(3),inconsistently_clipped(4)\n",
       "4 duplicates(3),inconsistently_clipped(4)\n",
       "5 duplicates(3),inconsistently_clipped(4)\n",
       "6 duplicates(1)                          \n",
       "  fusion_transcript                                                                                                                                                                                                                                                                                                                                                                                                                                                                                                                                                                                                                                                                                  \n",
       "1 GTCCGGAGGTGGCGGCAGGTGGCCCCGCGCGCGGCGGCCGGCCCGGCCGGGGGCGGGCGGGAAGGTGGCGCCTCGGGCGGGGGCCGGTCCCTGCACCAGGTGACCTGTTCCGGCCCGGATCCGGGCGGCCTCGCCATGCAGCGGCGCGGCGCGGGGCTCGGGTGGCCGCGGCAGCAGCAGCAGCAACCCCCGCCGCTCGCGGTCGGCCCCCGGGCCGCAGCCATGGTCCCGAGTGGCGGCGTCCCCCAGGGCCTCGGCGGCCGCTCTGCCTGCGCGCTGCTCCTGCTCTGCTACCTG|GCATCCTACTCTGTGAGGCCAAAGGGACATCTGAGTGCCGAGATTAGTCTAGATCGAAAGCATGTGAAAGGCAACAACAACATCCCTGCCAAACAAAACCAAG___TTGATTTTCAGCAGGCCTCAAGAGAGTGAAAGGGAAGTTTCCCCTTGGTCCCTATGCTAGCTTTGGCCAATGGAACATTAGCAAACAGGCTTGAAAAGTATCTTGAGGCTCACTCCCTCAGAACCTGGTGACCTCCAGATGAACAAGCTTGAGATGGCCTGCCTGATGATGAGAGACACAGACACCAGCCAAGCCATCTGTGTCACCCCAGCTGATGTCAAGCCAATGGCCAGACATCTGCAGGAGGCCCTCCTAGACCATCTAGCTCCAG\n",
       "2 CAGAGCTCATCAGAGGGTAAAGTTCACAAAAGACCACACTGTCAGACAGAAAGAGGAAGTATCTCCAG___AGGCAGTTGGTGTCACCAGCCAGCGACCAGTGTTTTGTCCTTTTCATAAAAAGGAGCAGCTGAAGCTGTACTGTGAGACATGTGACAAACTGACATGTCGAGACTGTCAGTTGTTAGAACATAAAGAGCATAG|TACTCTTCCAACCCAAGAGGAGATTGAAAATCTTCCTGCCTTCCCTCGGGAAAAACTGACTCTGCGTCTCTTGCTGGGAAGTGGAGCCTTTGGAGAAGTGTATGAAGGAACAGCAGTGGACATCTTAGGAGTTGGAAGTGGAGAAATCAAAGTAGCAGTGAAG___ACTTTGAAGAAGGGTTCCACAGACCAGGAGAAGATTGAATTCCTGAAGGAGGC                                                                                                                                                                                                                                                           \n",
       "3 GCTTGCCCAGCCCCGCGGCCAAGGTCGCGTCCGACCCCGGCCCGCCGCGGCCCCGAGTCCGCCGGCCGGGATGTAGGTGGCGCGGGAGGGACTTCGGCTGGGCGAGCAGAGGGCACAGCCGCCCCTTCCACTCTGCGGCGCAGGAGCCGGGGCGGGTCCGCGGGGCGCGGCGGCTGCGGAGACTCCGGGCGGGCGCGGGCCGCAGGCCCGACGCGGAGGAGACCGAGGAGACGCGGGAGACCCGGGCGTGACAGGAGGAAGAAACCCGGAGCCGCAGGAAGATGGCTTCTCCCACCTCCCCGGCCCCGGAAGGCGGGGCCTCCACCCCGCCGAACCCGCCGCGGATTCGTCAG|TCTGACAGCAATGCAAGCTTCCTCCGTGCTGCCAGAGCAGGCAACCTGGACAAAGTTGTGGAATATCTGAAGGGGGGCATAGACATCAATACCTGCAATCAG                                                                                                                                                                                                                           \n",
       "4 GCTTGCCCAGCCCCGCGGCCAAGGTCGCGTCCGACCCCGGCCCGCCGCGGCCCCGAGTCCGCCGGCCGGGATGTAGGTGGCGCGGGAGGGACTTCGGCTGGGCGAGCAGAGGGCACAGCCGCCCCTTCCACTCTGCGGCGCAGGAGCCGGGGCGGGTCCGCGGGGCGCGGCGGCTGCGGAGACTCCGGGCGGGCGCGGGCCGCAGGCCCGACGCGGAGGAGACCGAGGAGACGCGGGAGACCCGGGCGTGACAGGAGGAAGAAACCCGGAGCCGCAGGAAGATGGCTTCTCCCACCTCCCCGGCCCCGGAAGGCGGGGCCTCCACCCCGCCGAACCCGCCGCGGATTCGTCAG|TCTGACAGCAATGCAAGCTTCCTCCGTGCTGCCAGAGCAGGCAACCTGGACAAAGTTGTGGAATATCTGAAGGGGGGCATAGACATCAATACCTGCAATCAG                                                                                                                                                                                                                           \n",
       "5 GCTTGCCCAGCCCCGCGGCCAAGGTCGCGTCCGACCCCGGCCCGCCGCGGCCCCGAGTCCGCCGGCCGGGATGTAGGTGGCGCGGGAGGGACTTCGGCTGGGCGAGCAGAGGGCACAGCCGCCCCTTCCACTCTGCGGCGCAGGAGCCGGGGCGGGTCCGCGGGGCGCGGCGGCTGCGGAGACTCCGGGCGGGCGCGGGCCGCAGGCCCGACGCGGAGGAGACCGAGGAGACGCGGGAGACCCGGGCGTGACAGGAGGAAGAAACCCGGAGCCGCAGGAAGATGGCTTCTCCCACCTCCCCGGCCCCGGAAGGCGGGGCCTCCACCCCGCCGAACCCGCCGCGGATTCGTCAG|TCTGACAGCAATGCAAGCTTCCTCCGTGCTGCCAGAGCAGGCAACCTGGACAAAGTTGTGGAATATCTGAAGGGGGGCATAGACATCAATACCTGCAATCAG                                                                                                                                                                                                                           \n",
       "6 GTTTCACAAGAGCAGAAAGATTTAATGTGCTTCTTCCCCATCTTAATGACAAATGAAAAAGGGAGAATGAAAAGGAGGTTGCCAGTGGGCACAGGAATGACTTTTCCTTTGAACCAGGGGAGAGACGTTCCCAAAGGAGAGAAATAAACAAAGGTGAAAATTTTCTGCCAGTTAGAAG|CGGCTGTCTCCAAATAAGTGATGAGATATAATGCATCCTCCAGTCCATGCACGCTTCCTCTTGCAATTTGTGCATCATTCCTCAGTGGAAACCTTTAAACCCTAAAATCCAGGAAAAGAAAATAAATACATTATCATGGACCTGAGGGATTTTTACCTGTTGGCTGCTCTGATTGCCTGTTTAAGGCTGGATTCCGCAATAGCTCAAGAACTTATTTACACTATTAGAGAGGAATTGCCTGAAAATGTGCC                                                                                                                                                                                                                                                     \n",
       "  reading_frame\n",
       "1 out-of-frame \n",
       "2 in-frame     \n",
       "3 .            \n",
       "4 .            \n",
       "5 .            \n",
       "6 .            \n",
       "  peptide_sequence                                                                                                                           \n",
       "1 MQRRGAGLGWPRQQQQQPPPLAVGPRAAAMVPSGGVPQGLGGRSACALLLLCYL|asysvrpkghlsaeisldrkhvkgnnnipakqnqvdfqqasre*                                        \n",
       "2 RAHQRVKFTKDHTVRQKEEVSPEAVGVTSQRPVFCPFHKKEQLKLYCETCDKLTCRDCQLLEHKEHs|TLPTQEEIENLPAFPREKLTLRLLLGSGAFGEVYEGTAVDILGVGSGEIKVAVKTLKKGSTDQEKIEFLKE\n",
       "3 .                                                                                                                                          \n",
       "4 .                                                                                                                                          \n",
       "5 .                                                                                                                                          \n",
       "6 .                                                                                                                                          \n",
       "  read_identifiers Filename                            \n",
       "1 .                00245bb9-b207-4648-b26e-bf16ec38103a\n",
       "2 .                00245bb9-b207-4648-b26e-bf16ec38103a\n",
       "3 .                00245bb9-b207-4648-b26e-bf16ec38103a\n",
       "4 .                00245bb9-b207-4648-b26e-bf16ec38103a\n",
       "5 .                00245bb9-b207-4648-b26e-bf16ec38103a\n",
       "6 .                00245bb9-b207-4648-b26e-bf16ec38103a"
      ]
     },
     "metadata": {},
     "output_type": "display_data"
    }
   ],
   "source": [
    "head(arriba_cbtn)"
   ]
  },
  {
   "cell_type": "code",
   "execution_count": 8,
   "metadata": {},
   "outputs": [],
   "source": [
    "arriba_manifest$Filename <- gsub(\".arriba.fusions.tsv\", \"\",arriba_manifest$name)"
   ]
  },
  {
   "cell_type": "code",
   "execution_count": 9,
   "metadata": {},
   "outputs": [],
   "source": [
    "arriba_df_manifest <- merge(arriba_manifest[,c(\"sample_id\", \"aliquot_id\",\"Filename\")], arriba_cbtn, by = \"Filename\")"
   ]
  },
  {
   "cell_type": "code",
   "execution_count": 10,
   "metadata": {},
   "outputs": [],
   "source": [
    "arriba_df_cbtn <- merge(arriba_df_manifest, estimate_manifest_primary_clean[,c(\"sample_id\", \"aliquot_id\")], \n",
    "                         by = c(\"sample_id\", \"aliquot_id\"))"
   ]
  },
  {
   "cell_type": "code",
   "execution_count": 11,
   "metadata": {},
   "outputs": [
    {
     "data": {
      "text/plain": [
       "\n",
       "  CBTN   ICGC TARGET   TCGA \n",
       "   581    196    149   2452 "
      ]
     },
     "metadata": {},
     "output_type": "display_data"
    }
   ],
   "source": [
    "table(estimate_manifest_primary_clean$group)"
   ]
  },
  {
   "cell_type": "code",
   "execution_count": 12,
   "metadata": {},
   "outputs": [
    {
     "data": {
      "text/html": [
       "1087"
      ],
      "text/latex": [
       "1087"
      ],
      "text/markdown": [
       "1087"
      ],
      "text/plain": [
       "[1] 1087"
      ]
     },
     "metadata": {},
     "output_type": "display_data"
    },
    {
     "data": {
      "text/html": [
       "581"
      ],
      "text/latex": [
       "581"
      ],
      "text/markdown": [
       "581"
      ],
      "text/plain": [
       "[1] 581"
      ]
     },
     "metadata": {},
     "output_type": "display_data"
    }
   ],
   "source": [
    "length(unique(arriba_cbtn$Filename))\n",
    "\n",
    "length(unique(arriba_df_cbtn$Filename))"
   ]
  },
  {
   "cell_type": "code",
   "execution_count": 13,
   "metadata": {},
   "outputs": [],
   "source": [
    "colnames(arriba_df_cbtn)[colnames(arriba_df_cbtn) == \"X.gene1\"] <- \"gene1\""
   ]
  },
  {
   "cell_type": "code",
   "execution_count": 14,
   "metadata": {},
   "outputs": [
    {
     "data": {
      "text/html": [
       "<table class=\"dataframe\">\n",
       "<caption>A data.frame: 6 × 27</caption>\n",
       "<thead>\n",
       "\t<tr><th></th><th scope=col>sample_id</th><th scope=col>aliquot_id</th><th scope=col>Filename</th><th scope=col>gene1</th><th scope=col>gene2</th><th scope=col>strand1.gene.fusion.</th><th scope=col>strand2.gene.fusion.</th><th scope=col>breakpoint1</th><th scope=col>breakpoint2</th><th scope=col>site1</th><th scope=col>⋯</th><th scope=col>coverage1</th><th scope=col>coverage2</th><th scope=col>confidence</th><th scope=col>closest_genomic_breakpoint1</th><th scope=col>closest_genomic_breakpoint2</th><th scope=col>filters</th><th scope=col>fusion_transcript</th><th scope=col>reading_frame</th><th scope=col>peptide_sequence</th><th scope=col>read_identifiers</th></tr>\n",
       "\t<tr><th></th><th scope=col>&lt;chr&gt;</th><th scope=col>&lt;chr&gt;</th><th scope=col>&lt;chr&gt;</th><th scope=col>&lt;chr&gt;</th><th scope=col>&lt;chr&gt;</th><th scope=col>&lt;chr&gt;</th><th scope=col>&lt;chr&gt;</th><th scope=col>&lt;chr&gt;</th><th scope=col>&lt;chr&gt;</th><th scope=col>&lt;chr&gt;</th><th scope=col>⋯</th><th scope=col>&lt;int&gt;</th><th scope=col>&lt;int&gt;</th><th scope=col>&lt;chr&gt;</th><th scope=col>&lt;chr&gt;</th><th scope=col>&lt;chr&gt;</th><th scope=col>&lt;chr&gt;</th><th scope=col>&lt;chr&gt;</th><th scope=col>&lt;chr&gt;</th><th scope=col>&lt;chr&gt;</th><th scope=col>&lt;chr&gt;</th></tr>\n",
       "</thead>\n",
       "<tbody>\n",
       "\t<tr><th scope=row>1</th><td>7316-10</td><td>717108</td><td>cae75655-bec6-4ab6-af6f-e286f4cae404</td><td>TENM2 </td><td>TENM2     </td><td>+/+</td><td>+/+</td><td>5:167993182</td><td>5:167875986</td><td>splice-site</td><td>⋯</td><td>453</td><td>  605</td><td>low</td><td>.</td><td>.</td><td>duplicates(6),inconsistently_clipped(1)                   </td><td>CAGCTGGGTGCTAAACAGCAACGTGCCACTGGAGACCCG___GCACTTCCTCTTCAAGACCTCCTCGGGGAGCACACCCTTGTTCAGCAGCTCTTCCCCGGGATACCCTTTGACCTCAGGAACGGTTTACACGCCCCCGCCCCGCCTGCTGCCCAGGAATACTTTCTCCAGGAAGGCTTTCAAGCTGAAGAAGCCCTCCAAATACTGCAGCTGGAAATGTGCTGCCCTCTCCGCCATTGCCGCGGCCCTCCTCTTGGCTATTTTGCTGGCGTATTTCATAG|GTCGTCCCATTCCACCTACATCCTCGCCTAGTCTCCTCCCATCTGCTCAGCTGCCTAGCTCCCATAATCCTCCACCAGTTAGCTGCCAGATGCCATTGCTAGACAGCAACACCTCCCATCAAATCATGGACACCAACCCTGATGAGGAATTCTCCCCCAATTCATACCTGCTCAGAGCATGCTCAGGGCCCCAGCAAGCCTCCAGCAGTG</td><td>in-frame</td><td>SWVLNSNVPLETRHFLFKTSSGSTPLFSSSSPGYPLTSGTVYTPPPRLLPRNTFSRKAFKLKKPSKYCSWKCAALSAIAAALLLAILLAYFI|gRPIPPTSSPSLLPSAQLPSSHNPPPVSCQMPLLDSNTSHQIMDTNPDEEFSPNSYLLRACSGPQQASSS</td><td>.</td></tr>\n",
       "\t<tr><th scope=row>2</th><td>7316-10</td><td>717108</td><td>cae75655-bec6-4ab6-af6f-e286f4cae404</td><td>TEP1  </td><td>AL355075.4</td><td>-/-</td><td>-/-</td><td>14:20389115</td><td>14:20343228</td><td>intron     </td><td>⋯</td><td>  0</td><td>65535</td><td>low</td><td>.</td><td>.</td><td>duplicates(4),low_entropy(3),mismappers(9),mismatches(52) </td><td>CGCTCAGGCTGGA|ATGCCGTGGACCCCGCCCTTCGGGGAGGGGCCCGGCGGATGCCTCCTTTGCCGGAGCTTGGAACAGACTCACGGCCAGCGAAGTGAGTTCAATGGCTGAGGTGAGGTACCCCGCAGGGGACCTCATAACCCAATTCAGACTACTCTCCTCCGCCCAT                                                                                                                                                                                                                                                                                                                                 </td><td>.       </td><td>.                                                                                                                                                                  </td><td>.</td></tr>\n",
       "\t<tr><th scope=row>3</th><td>7316-10</td><td>717108</td><td>cae75655-bec6-4ab6-af6f-e286f4cae404</td><td>TEP1  </td><td>RPPH1     </td><td>-/-</td><td>-/-</td><td>14:20389115</td><td>14:20343228</td><td>intron     </td><td>⋯</td><td>  0</td><td>65535</td><td>low</td><td>.</td><td>.</td><td>duplicates(4),low_entropy(4),mismappers(11),mismatches(54)</td><td>CGCTCAGGCTGGA|ATGCCGTGGACCCCGCCCTTCGGGGAGGGGCCCGGCGGATGCCTCCTTTGCCGGAGCTTGGAACAGACTCACGGCCAGCGAAGTGAGTTCAATGGCTGAGGTGAGGTACCCCGCAGGGGACCTCATAACCCAATTCAGACTACTCTCCTCCGCCCAT                                                                                                                                                                                                                                                                                                                                 </td><td>.       </td><td>.                                                                                                                                                                  </td><td>.</td></tr>\n",
       "\t<tr><th scope=row>4</th><td>7316-10</td><td>717108</td><td>cae75655-bec6-4ab6-af6f-e286f4cae404</td><td>NBPF1 </td><td>RNU1-1    </td><td>-/-</td><td>-/-</td><td>1:16566118 </td><td>1:16514261 </td><td>intron     </td><td>⋯</td><td>  0</td><td>65535</td><td>low</td><td>.</td><td>.</td><td>duplicates(1),low_entropy(3),mismappers(3),mismatches(15) </td><td>AGTTTATGGAAA...CATGATCACT...|...CATGATCACGAAGGTGGTTTTCCCAGGGCGAGGCTTATCCATTGCACTCCGGATGTGCTGACCCCTGCGATTTCCCCAAATGTGGGAAACTCGACTGCATAATTTGTGGTAGTGGGGGACTGC                                                                                                                                                                                                                                                                                                                                                 </td><td>.       </td><td>.                                                                                                                                                                  </td><td>.</td></tr>\n",
       "\t<tr><th scope=row>5</th><td>7316-10</td><td>717108</td><td>cae75655-bec6-4ab6-af6f-e286f4cae404</td><td>ZBTB7A</td><td>EEF2      </td><td>-/-</td><td>-/-</td><td>19:4055395 </td><td>19:3984323 </td><td>intron     </td><td>⋯</td><td>  9</td><td> 7655</td><td>low</td><td>.</td><td>.</td><td>mismappers(1),mismatches(5)                               </td><td>GGCGCGACA...|...GCCATCATGGACAAGAAGGCCAACATCCGCAACATGTCTGTCATCGCCCACGTGGACCATGGCAAGTCCACGCTGACAGACTCCCTGGTGTGCAAGGCGGGCATCATCGCCTCGGCCCGGGCCGGGGAGACACGCTTCACTGATACCCGGA                                                                                                                                                                                                                                                                                                                                     </td><td>.       </td><td>.                                                                                                                                                                  </td><td>.</td></tr>\n",
       "\t<tr><th scope=row>6</th><td>7316-10</td><td>717108</td><td>cae75655-bec6-4ab6-af6f-e286f4cae404</td><td>ME2   </td><td>ME2       </td><td>+/+</td><td>+/+</td><td>18:50945260</td><td>18:50918110</td><td>splice-site</td><td>⋯</td><td> 12</td><td>   49</td><td>low</td><td>.</td><td>.</td><td>duplicates(2)                                             </td><td>GTTTTTTGTTTGTTTGTTTGTTTTTGAGATGGAGTCTCAACTCTGTCGCCCAGGCTGGAGTGAAGTGGTGCAATCTCAGTTCAACACAACCTCTGCCTCCCAAGTTCAAGTGATTCTCCTGCCTCAGCCTCCTGAGTAGCTGGGATTACAG|GCACTCTTAAAAGACCCATTTTACATGGGCTTGTACCAGAAACGAGATCGCACACAACAGTATGATGACCTGATTGATGAGTTTATGAAAGCTATTACTGACAG___ATATGGCCGGAACACACTCATTCAGTTCGAAGACTTTGGAAATCATAAcGC                                                                                                                                                                                      </td><td>in-frame</td><td>ffvclfvfeMESQLCRPGWSEVVQSQFNTTSASQVQVILLPQPPE*lglq|ALLKDPFYMGLYQKRDRTQQYDDLIDEFMKAITDRYGRNTLIQFEDFGNHN                                                             </td><td>.</td></tr>\n",
       "</tbody>\n",
       "</table>\n"
      ],
      "text/latex": [
       "A data.frame: 6 × 27\n",
       "\\begin{tabular}{r|lllllllllllllllllllll}\n",
       "  & sample\\_id & aliquot\\_id & Filename & gene1 & gene2 & strand1.gene.fusion. & strand2.gene.fusion. & breakpoint1 & breakpoint2 & site1 & ⋯ & coverage1 & coverage2 & confidence & closest\\_genomic\\_breakpoint1 & closest\\_genomic\\_breakpoint2 & filters & fusion\\_transcript & reading\\_frame & peptide\\_sequence & read\\_identifiers\\\\\n",
       "  & <chr> & <chr> & <chr> & <chr> & <chr> & <chr> & <chr> & <chr> & <chr> & <chr> & ⋯ & <int> & <int> & <chr> & <chr> & <chr> & <chr> & <chr> & <chr> & <chr> & <chr>\\\\\n",
       "\\hline\n",
       "\t1 & 7316-10 & 717108 & cae75655-bec6-4ab6-af6f-e286f4cae404 & TENM2  & TENM2      & +/+ & +/+ & 5:167993182 & 5:167875986 & splice-site & ⋯ & 453 &   605 & low & . & . & duplicates(6),inconsistently\\_clipped(1)                    & CAGCTGGGTGCTAAACAGCAACGTGCCACTGGAGACCCG\\_\\_\\_GCACTTCCTCTTCAAGACCTCCTCGGGGAGCACACCCTTGTTCAGCAGCTCTTCCCCGGGATACCCTTTGACCTCAGGAACGGTTTACACGCCCCCGCCCCGCCTGCTGCCCAGGAATACTTTCTCCAGGAAGGCTTTCAAGCTGAAGAAGCCCTCCAAATACTGCAGCTGGAAATGTGCTGCCCTCTCCGCCATTGCCGCGGCCCTCCTCTTGGCTATTTTGCTGGCGTATTTCATAG\\textbar{}GTCGTCCCATTCCACCTACATCCTCGCCTAGTCTCCTCCCATCTGCTCAGCTGCCTAGCTCCCATAATCCTCCACCAGTTAGCTGCCAGATGCCATTGCTAGACAGCAACACCTCCCATCAAATCATGGACACCAACCCTGATGAGGAATTCTCCCCCAATTCATACCTGCTCAGAGCATGCTCAGGGCCCCAGCAAGCCTCCAGCAGTG & in-frame & SWVLNSNVPLETRHFLFKTSSGSTPLFSSSSPGYPLTSGTVYTPPPRLLPRNTFSRKAFKLKKPSKYCSWKCAALSAIAAALLLAILLAYFI\\textbar{}gRPIPPTSSPSLLPSAQLPSSHNPPPVSCQMPLLDSNTSHQIMDTNPDEEFSPNSYLLRACSGPQQASSS & .\\\\\n",
       "\t2 & 7316-10 & 717108 & cae75655-bec6-4ab6-af6f-e286f4cae404 & TEP1   & AL355075.4 & -/- & -/- & 14:20389115 & 14:20343228 & intron      & ⋯ &   0 & 65535 & low & . & . & duplicates(4),low\\_entropy(3),mismappers(9),mismatches(52)  & CGCTCAGGCTGGA\\textbar{}ATGCCGTGGACCCCGCCCTTCGGGGAGGGGCCCGGCGGATGCCTCCTTTGCCGGAGCTTGGAACAGACTCACGGCCAGCGAAGTGAGTTCAATGGCTGAGGTGAGGTACCCCGCAGGGGACCTCATAACCCAATTCAGACTACTCTCCTCCGCCCAT                                                                                                                                                                                                                                                                                                                                  & .        & .                                                                                                                                                                   & .\\\\\n",
       "\t3 & 7316-10 & 717108 & cae75655-bec6-4ab6-af6f-e286f4cae404 & TEP1   & RPPH1      & -/- & -/- & 14:20389115 & 14:20343228 & intron      & ⋯ &   0 & 65535 & low & . & . & duplicates(4),low\\_entropy(4),mismappers(11),mismatches(54) & CGCTCAGGCTGGA\\textbar{}ATGCCGTGGACCCCGCCCTTCGGGGAGGGGCCCGGCGGATGCCTCCTTTGCCGGAGCTTGGAACAGACTCACGGCCAGCGAAGTGAGTTCAATGGCTGAGGTGAGGTACCCCGCAGGGGACCTCATAACCCAATTCAGACTACTCTCCTCCGCCCAT                                                                                                                                                                                                                                                                                                                                  & .        & .                                                                                                                                                                   & .\\\\\n",
       "\t4 & 7316-10 & 717108 & cae75655-bec6-4ab6-af6f-e286f4cae404 & NBPF1  & RNU1-1     & -/- & -/- & 1:16566118  & 1:16514261  & intron      & ⋯ &   0 & 65535 & low & . & . & duplicates(1),low\\_entropy(3),mismappers(3),mismatches(15)  & AGTTTATGGAAA...CATGATCACT...\\textbar{}...CATGATCACGAAGGTGGTTTTCCCAGGGCGAGGCTTATCCATTGCACTCCGGATGTGCTGACCCCTGCGATTTCCCCAAATGTGGGAAACTCGACTGCATAATTTGTGGTAGTGGGGGACTGC                                                                                                                                                                                                                                                                                                                                                  & .        & .                                                                                                                                                                   & .\\\\\n",
       "\t5 & 7316-10 & 717108 & cae75655-bec6-4ab6-af6f-e286f4cae404 & ZBTB7A & EEF2       & -/- & -/- & 19:4055395  & 19:3984323  & intron      & ⋯ &   9 &  7655 & low & . & . & mismappers(1),mismatches(5)                                & GGCGCGACA...\\textbar{}...GCCATCATGGACAAGAAGGCCAACATCCGCAACATGTCTGTCATCGCCCACGTGGACCATGGCAAGTCCACGCTGACAGACTCCCTGGTGTGCAAGGCGGGCATCATCGCCTCGGCCCGGGCCGGGGAGACACGCTTCACTGATACCCGGA                                                                                                                                                                                                                                                                                                                                      & .        & .                                                                                                                                                                   & .\\\\\n",
       "\t6 & 7316-10 & 717108 & cae75655-bec6-4ab6-af6f-e286f4cae404 & ME2    & ME2        & +/+ & +/+ & 18:50945260 & 18:50918110 & splice-site & ⋯ &  12 &    49 & low & . & . & duplicates(2)                                              & GTTTTTTGTTTGTTTGTTTGTTTTTGAGATGGAGTCTCAACTCTGTCGCCCAGGCTGGAGTGAAGTGGTGCAATCTCAGTTCAACACAACCTCTGCCTCCCAAGTTCAAGTGATTCTCCTGCCTCAGCCTCCTGAGTAGCTGGGATTACAG\\textbar{}GCACTCTTAAAAGACCCATTTTACATGGGCTTGTACCAGAAACGAGATCGCACACAACAGTATGATGACCTGATTGATGAGTTTATGAAAGCTATTACTGACAG\\_\\_\\_ATATGGCCGGAACACACTCATTCAGTTCGAAGACTTTGGAAATCATAAcGC                                                                                                                                                                                       & in-frame & ffvclfvfeMESQLCRPGWSEVVQSQFNTTSASQVQVILLPQPPE*lglq\\textbar{}ALLKDPFYMGLYQKRDRTQQYDDLIDEFMKAITDRYGRNTLIQFEDFGNHN                                                              & .\\\\\n",
       "\\end{tabular}\n"
      ],
      "text/markdown": [
       "\n",
       "A data.frame: 6 × 27\n",
       "\n",
       "| <!--/--> | sample_id &lt;chr&gt; | aliquot_id &lt;chr&gt; | Filename &lt;chr&gt; | gene1 &lt;chr&gt; | gene2 &lt;chr&gt; | strand1.gene.fusion. &lt;chr&gt; | strand2.gene.fusion. &lt;chr&gt; | breakpoint1 &lt;chr&gt; | breakpoint2 &lt;chr&gt; | site1 &lt;chr&gt; | ⋯ ⋯ | coverage1 &lt;int&gt; | coverage2 &lt;int&gt; | confidence &lt;chr&gt; | closest_genomic_breakpoint1 &lt;chr&gt; | closest_genomic_breakpoint2 &lt;chr&gt; | filters &lt;chr&gt; | fusion_transcript &lt;chr&gt; | reading_frame &lt;chr&gt; | peptide_sequence &lt;chr&gt; | read_identifiers &lt;chr&gt; |\n",
       "|---|---|---|---|---|---|---|---|---|---|---|---|---|---|---|---|---|---|---|---|---|---|\n",
       "| 1 | 7316-10 | 717108 | cae75655-bec6-4ab6-af6f-e286f4cae404 | TENM2  | TENM2      | +/+ | +/+ | 5:167993182 | 5:167875986 | splice-site | ⋯ | 453 |   605 | low | . | . | duplicates(6),inconsistently_clipped(1)                    | CAGCTGGGTGCTAAACAGCAACGTGCCACTGGAGACCCG___GCACTTCCTCTTCAAGACCTCCTCGGGGAGCACACCCTTGTTCAGCAGCTCTTCCCCGGGATACCCTTTGACCTCAGGAACGGTTTACACGCCCCCGCCCCGCCTGCTGCCCAGGAATACTTTCTCCAGGAAGGCTTTCAAGCTGAAGAAGCCCTCCAAATACTGCAGCTGGAAATGTGCTGCCCTCTCCGCCATTGCCGCGGCCCTCCTCTTGGCTATTTTGCTGGCGTATTTCATAG|GTCGTCCCATTCCACCTACATCCTCGCCTAGTCTCCTCCCATCTGCTCAGCTGCCTAGCTCCCATAATCCTCCACCAGTTAGCTGCCAGATGCCATTGCTAGACAGCAACACCTCCCATCAAATCATGGACACCAACCCTGATGAGGAATTCTCCCCCAATTCATACCTGCTCAGAGCATGCTCAGGGCCCCAGCAAGCCTCCAGCAGTG | in-frame | SWVLNSNVPLETRHFLFKTSSGSTPLFSSSSPGYPLTSGTVYTPPPRLLPRNTFSRKAFKLKKPSKYCSWKCAALSAIAAALLLAILLAYFI|gRPIPPTSSPSLLPSAQLPSSHNPPPVSCQMPLLDSNTSHQIMDTNPDEEFSPNSYLLRACSGPQQASSS | . |\n",
       "| 2 | 7316-10 | 717108 | cae75655-bec6-4ab6-af6f-e286f4cae404 | TEP1   | AL355075.4 | -/- | -/- | 14:20389115 | 14:20343228 | intron      | ⋯ |   0 | 65535 | low | . | . | duplicates(4),low_entropy(3),mismappers(9),mismatches(52)  | CGCTCAGGCTGGA|ATGCCGTGGACCCCGCCCTTCGGGGAGGGGCCCGGCGGATGCCTCCTTTGCCGGAGCTTGGAACAGACTCACGGCCAGCGAAGTGAGTTCAATGGCTGAGGTGAGGTACCCCGCAGGGGACCTCATAACCCAATTCAGACTACTCTCCTCCGCCCAT                                                                                                                                                                                                                                                                                                                                  | .        | .                                                                                                                                                                   | . |\n",
       "| 3 | 7316-10 | 717108 | cae75655-bec6-4ab6-af6f-e286f4cae404 | TEP1   | RPPH1      | -/- | -/- | 14:20389115 | 14:20343228 | intron      | ⋯ |   0 | 65535 | low | . | . | duplicates(4),low_entropy(4),mismappers(11),mismatches(54) | CGCTCAGGCTGGA|ATGCCGTGGACCCCGCCCTTCGGGGAGGGGCCCGGCGGATGCCTCCTTTGCCGGAGCTTGGAACAGACTCACGGCCAGCGAAGTGAGTTCAATGGCTGAGGTGAGGTACCCCGCAGGGGACCTCATAACCCAATTCAGACTACTCTCCTCCGCCCAT                                                                                                                                                                                                                                                                                                                                  | .        | .                                                                                                                                                                   | . |\n",
       "| 4 | 7316-10 | 717108 | cae75655-bec6-4ab6-af6f-e286f4cae404 | NBPF1  | RNU1-1     | -/- | -/- | 1:16566118  | 1:16514261  | intron      | ⋯ |   0 | 65535 | low | . | . | duplicates(1),low_entropy(3),mismappers(3),mismatches(15)  | AGTTTATGGAAA...CATGATCACT...|...CATGATCACGAAGGTGGTTTTCCCAGGGCGAGGCTTATCCATTGCACTCCGGATGTGCTGACCCCTGCGATTTCCCCAAATGTGGGAAACTCGACTGCATAATTTGTGGTAGTGGGGGACTGC                                                                                                                                                                                                                                                                                                                                                  | .        | .                                                                                                                                                                   | . |\n",
       "| 5 | 7316-10 | 717108 | cae75655-bec6-4ab6-af6f-e286f4cae404 | ZBTB7A | EEF2       | -/- | -/- | 19:4055395  | 19:3984323  | intron      | ⋯ |   9 |  7655 | low | . | . | mismappers(1),mismatches(5)                                | GGCGCGACA...|...GCCATCATGGACAAGAAGGCCAACATCCGCAACATGTCTGTCATCGCCCACGTGGACCATGGCAAGTCCACGCTGACAGACTCCCTGGTGTGCAAGGCGGGCATCATCGCCTCGGCCCGGGCCGGGGAGACACGCTTCACTGATACCCGGA                                                                                                                                                                                                                                                                                                                                      | .        | .                                                                                                                                                                   | . |\n",
       "| 6 | 7316-10 | 717108 | cae75655-bec6-4ab6-af6f-e286f4cae404 | ME2    | ME2        | +/+ | +/+ | 18:50945260 | 18:50918110 | splice-site | ⋯ |  12 |    49 | low | . | . | duplicates(2)                                              | GTTTTTTGTTTGTTTGTTTGTTTTTGAGATGGAGTCTCAACTCTGTCGCCCAGGCTGGAGTGAAGTGGTGCAATCTCAGTTCAACACAACCTCTGCCTCCCAAGTTCAAGTGATTCTCCTGCCTCAGCCTCCTGAGTAGCTGGGATTACAG|GCACTCTTAAAAGACCCATTTTACATGGGCTTGTACCAGAAACGAGATCGCACACAACAGTATGATGACCTGATTGATGAGTTTATGAAAGCTATTACTGACAG___ATATGGCCGGAACACACTCATTCAGTTCGAAGACTTTGGAAATCATAAcGC                                                                                                                                                                                       | in-frame | ffvclfvfeMESQLCRPGWSEVVQSQFNTTSASQVQVILLPQPPE*lglq|ALLKDPFYMGLYQKRDRTQQYDDLIDEFMKAITDRYGRNTLIQFEDFGNHN                                                              | . |\n",
       "\n"
      ],
      "text/plain": [
       "  sample_id aliquot_id Filename                             gene1  gene2     \n",
       "1 7316-10   717108     cae75655-bec6-4ab6-af6f-e286f4cae404 TENM2  TENM2     \n",
       "2 7316-10   717108     cae75655-bec6-4ab6-af6f-e286f4cae404 TEP1   AL355075.4\n",
       "3 7316-10   717108     cae75655-bec6-4ab6-af6f-e286f4cae404 TEP1   RPPH1     \n",
       "4 7316-10   717108     cae75655-bec6-4ab6-af6f-e286f4cae404 NBPF1  RNU1-1    \n",
       "5 7316-10   717108     cae75655-bec6-4ab6-af6f-e286f4cae404 ZBTB7A EEF2      \n",
       "6 7316-10   717108     cae75655-bec6-4ab6-af6f-e286f4cae404 ME2    ME2       \n",
       "  strand1.gene.fusion. strand2.gene.fusion. breakpoint1 breakpoint2 site1      \n",
       "1 +/+                  +/+                  5:167993182 5:167875986 splice-site\n",
       "2 -/-                  -/-                  14:20389115 14:20343228 intron     \n",
       "3 -/-                  -/-                  14:20389115 14:20343228 intron     \n",
       "4 -/-                  -/-                  1:16566118  1:16514261  intron     \n",
       "5 -/-                  -/-                  19:4055395  19:3984323  intron     \n",
       "6 +/+                  +/+                  18:50945260 18:50918110 splice-site\n",
       "  ⋯ coverage1 coverage2 confidence closest_genomic_breakpoint1\n",
       "1 ⋯ 453         605     low        .                          \n",
       "2 ⋯   0       65535     low        .                          \n",
       "3 ⋯   0       65535     low        .                          \n",
       "4 ⋯   0       65535     low        .                          \n",
       "5 ⋯   9        7655     low        .                          \n",
       "6 ⋯  12          49     low        .                          \n",
       "  closest_genomic_breakpoint2\n",
       "1 .                          \n",
       "2 .                          \n",
       "3 .                          \n",
       "4 .                          \n",
       "5 .                          \n",
       "6 .                          \n",
       "  filters                                                   \n",
       "1 duplicates(6),inconsistently_clipped(1)                   \n",
       "2 duplicates(4),low_entropy(3),mismappers(9),mismatches(52) \n",
       "3 duplicates(4),low_entropy(4),mismappers(11),mismatches(54)\n",
       "4 duplicates(1),low_entropy(3),mismappers(3),mismatches(15) \n",
       "5 mismappers(1),mismatches(5)                               \n",
       "6 duplicates(2)                                             \n",
       "  fusion_transcript                                                                                                                                                                                                                                                                                                                                                                                                                                                                                           \n",
       "1 CAGCTGGGTGCTAAACAGCAACGTGCCACTGGAGACCCG___GCACTTCCTCTTCAAGACCTCCTCGGGGAGCACACCCTTGTTCAGCAGCTCTTCCCCGGGATACCCTTTGACCTCAGGAACGGTTTACACGCCCCCGCCCCGCCTGCTGCCCAGGAATACTTTCTCCAGGAAGGCTTTCAAGCTGAAGAAGCCCTCCAAATACTGCAGCTGGAAATGTGCTGCCCTCTCCGCCATTGCCGCGGCCCTCCTCTTGGCTATTTTGCTGGCGTATTTCATAG|GTCGTCCCATTCCACCTACATCCTCGCCTAGTCTCCTCCCATCTGCTCAGCTGCCTAGCTCCCATAATCCTCCACCAGTTAGCTGCCAGATGCCATTGCTAGACAGCAACACCTCCCATCAAATCATGGACACCAACCCTGATGAGGAATTCTCCCCCAATTCATACCTGCTCAGAGCATGCTCAGGGCCCCAGCAAGCCTCCAGCAGTG\n",
       "2 CGCTCAGGCTGGA|ATGCCGTGGACCCCGCCCTTCGGGGAGGGGCCCGGCGGATGCCTCCTTTGCCGGAGCTTGGAACAGACTCACGGCCAGCGAAGTGAGTTCAATGGCTGAGGTGAGGTACCCCGCAGGGGACCTCATAACCCAATTCAGACTACTCTCCTCCGCCCAT                                                                                                                                                                                                                                                                                                                                 \n",
       "3 CGCTCAGGCTGGA|ATGCCGTGGACCCCGCCCTTCGGGGAGGGGCCCGGCGGATGCCTCCTTTGCCGGAGCTTGGAACAGACTCACGGCCAGCGAAGTGAGTTCAATGGCTGAGGTGAGGTACCCCGCAGGGGACCTCATAACCCAATTCAGACTACTCTCCTCCGCCCAT                                                                                                                                                                                                                                                                                                                                 \n",
       "4 AGTTTATGGAAA...CATGATCACT...|...CATGATCACGAAGGTGGTTTTCCCAGGGCGAGGCTTATCCATTGCACTCCGGATGTGCTGACCCCTGCGATTTCCCCAAATGTGGGAAACTCGACTGCATAATTTGTGGTAGTGGGGGACTGC                                                                                                                                                                                                                                                                                                                                                 \n",
       "5 GGCGCGACA...|...GCCATCATGGACAAGAAGGCCAACATCCGCAACATGTCTGTCATCGCCCACGTGGACCATGGCAAGTCCACGCTGACAGACTCCCTGGTGTGCAAGGCGGGCATCATCGCCTCGGCCCGGGCCGGGGAGACACGCTTCACTGATACCCGGA                                                                                                                                                                                                                                                                                                                                     \n",
       "6 GTTTTTTGTTTGTTTGTTTGTTTTTGAGATGGAGTCTCAACTCTGTCGCCCAGGCTGGAGTGAAGTGGTGCAATCTCAGTTCAACACAACCTCTGCCTCCCAAGTTCAAGTGATTCTCCTGCCTCAGCCTCCTGAGTAGCTGGGATTACAG|GCACTCTTAAAAGACCCATTTTACATGGGCTTGTACCAGAAACGAGATCGCACACAACAGTATGATGACCTGATTGATGAGTTTATGAAAGCTATTACTGACAG___ATATGGCCGGAACACACTCATTCAGTTCGAAGACTTTGGAAATCATAAcGC                                                                                                                                                                                      \n",
       "  reading_frame\n",
       "1 in-frame     \n",
       "2 .            \n",
       "3 .            \n",
       "4 .            \n",
       "5 .            \n",
       "6 in-frame     \n",
       "  peptide_sequence                                                                                                                                                   \n",
       "1 SWVLNSNVPLETRHFLFKTSSGSTPLFSSSSPGYPLTSGTVYTPPPRLLPRNTFSRKAFKLKKPSKYCSWKCAALSAIAAALLLAILLAYFI|gRPIPPTSSPSLLPSAQLPSSHNPPPVSCQMPLLDSNTSHQIMDTNPDEEFSPNSYLLRACSGPQQASSS\n",
       "2 .                                                                                                                                                                  \n",
       "3 .                                                                                                                                                                  \n",
       "4 .                                                                                                                                                                  \n",
       "5 .                                                                                                                                                                  \n",
       "6 ffvclfvfeMESQLCRPGWSEVVQSQFNTTSASQVQVILLPQPPE*lglq|ALLKDPFYMGLYQKRDRTQQYDDLIDEFMKAITDRYGRNTLIQFEDFGNHN                                                             \n",
       "  read_identifiers\n",
       "1 .               \n",
       "2 .               \n",
       "3 .               \n",
       "4 .               \n",
       "5 .               \n",
       "6 .               "
      ]
     },
     "metadata": {},
     "output_type": "display_data"
    }
   ],
   "source": [
    "head(arriba_df_cbtn)"
   ]
  },
  {
   "cell_type": "code",
   "execution_count": 15,
   "metadata": {},
   "outputs": [],
   "source": [
    "arriba_df_cbtn$Filename <- NULL"
   ]
  },
  {
   "cell_type": "markdown",
   "metadata": {},
   "source": [
    "## DKFZ"
   ]
  },
  {
   "cell_type": "markdown",
   "metadata": {},
   "source": [
    "This is from Pengbo. Use colnames from cbttc"
   ]
  },
  {
   "cell_type": "code",
   "execution_count": 16,
   "metadata": {},
   "outputs": [],
   "source": [
    "arriba_dkfz <- fread(paste0(datapath, \"fusion/arriba_ICGC_pengbo.txt\"), sep = \"\\t\", header = F)"
   ]
  },
  {
   "cell_type": "code",
   "execution_count": 17,
   "metadata": {
    "scrolled": false
   },
   "outputs": [
    {
     "data": {
      "text/html": [
       "<table class=\"dataframe\">\n",
       "<caption>A data.table: 6 × 25</caption>\n",
       "<thead>\n",
       "\t<tr><th scope=col>V1</th><th scope=col>V2</th><th scope=col>V3</th><th scope=col>V4</th><th scope=col>V5</th><th scope=col>V6</th><th scope=col>V7</th><th scope=col>V8</th><th scope=col>V9</th><th scope=col>V10</th><th scope=col>⋯</th><th scope=col>V16</th><th scope=col>V17</th><th scope=col>V18</th><th scope=col>V19</th><th scope=col>V20</th><th scope=col>V21</th><th scope=col>V22</th><th scope=col>V23</th><th scope=col>V24</th><th scope=col>V25</th></tr>\n",
       "\t<tr><th scope=col>&lt;chr&gt;</th><th scope=col>&lt;chr&gt;</th><th scope=col>&lt;chr&gt;</th><th scope=col>&lt;chr&gt;</th><th scope=col>&lt;chr&gt;</th><th scope=col>&lt;chr&gt;</th><th scope=col>&lt;chr&gt;</th><th scope=col>&lt;chr&gt;</th><th scope=col>&lt;chr&gt;</th><th scope=col>&lt;chr&gt;</th><th scope=col>⋯</th><th scope=col>&lt;int&gt;</th><th scope=col>&lt;int&gt;</th><th scope=col>&lt;chr&gt;</th><th scope=col>&lt;chr&gt;</th><th scope=col>&lt;chr&gt;</th><th scope=col>&lt;chr&gt;</th><th scope=col>&lt;chr&gt;</th><th scope=col>&lt;chr&gt;</th><th scope=col>&lt;chr&gt;</th><th scope=col>&lt;chr&gt;</th></tr>\n",
       "</thead>\n",
       "<tbody>\n",
       "\t<tr><td>ICGC_GBM1</td><td>DST  </td><td>CHST9 </td><td>-/-</td><td>-/-</td><td>6:56350110 </td><td>18:24497314</td><td>splice-site</td><td>splice-site</td><td>translocation</td><td>⋯</td><td> 977</td><td> 109</td><td>high</td><td>.</td><td>.</td><td>duplicates(77),mismatches(3)</td><td>.</td><td>.</td><td>.</td><td>.</td></tr>\n",
       "\t<tr><td>ICGC_GBM1</td><td>TFG  </td><td>MET   </td><td>+/+</td><td>+/+</td><td>3:100451516</td><td>7:116414935</td><td>splice-site</td><td>splice-site</td><td>translocation</td><td>⋯</td><td> 668</td><td> 269</td><td>high</td><td>.</td><td>.</td><td>duplicates(37),mismatches(1)</td><td>.</td><td>.</td><td>.</td><td>.</td></tr>\n",
       "\t<tr><td>ICGC_GBM1</td><td>MET  </td><td>TFG   </td><td>+/+</td><td>+/+</td><td>7:116412043</td><td>3:100455420</td><td>splice-site</td><td>splice-site</td><td>translocation</td><td>⋯</td><td>  75</td><td> 755</td><td>high</td><td>.</td><td>.</td><td>duplicates(13)              </td><td>.</td><td>.</td><td>.</td><td>.</td></tr>\n",
       "\t<tr><td>ICGC_GBM1</td><td>TUBB6</td><td>SHISA6</td><td>+/+</td><td>+/+</td><td>18:12308794</td><td>17:11385568</td><td>splice-site</td><td>intron     </td><td>translocation</td><td>⋯</td><td>4464</td><td>  34</td><td>high</td><td>.</td><td>.</td><td>duplicates(37)              </td><td>.</td><td>.</td><td>.</td><td>.</td></tr>\n",
       "\t<tr><td>ICGC_GBM1</td><td>TUBB6</td><td>SHISA6</td><td>+/+</td><td>+/+</td><td>18:12308794</td><td>17:11459057</td><td>splice-site</td><td>splice-site</td><td>translocation</td><td>⋯</td><td>4464</td><td>1323</td><td>high</td><td>.</td><td>.</td><td>duplicates(27)              </td><td>.</td><td>.</td><td>.</td><td>.</td></tr>\n",
       "\t<tr><td>ICGC_GBM1</td><td>TUBB6</td><td>SHISA6</td><td>+/+</td><td>+/+</td><td>18:12308794</td><td>17:11455213</td><td>splice-site</td><td>splice-site</td><td>translocation</td><td>⋯</td><td>4464</td><td> 369</td><td>high</td><td>.</td><td>.</td><td>duplicates(26)              </td><td>.</td><td>.</td><td>.</td><td>.</td></tr>\n",
       "</tbody>\n",
       "</table>\n"
      ],
      "text/latex": [
       "A data.table: 6 × 25\n",
       "\\begin{tabular}{lllllllllllllllllllll}\n",
       " V1 & V2 & V3 & V4 & V5 & V6 & V7 & V8 & V9 & V10 & ⋯ & V16 & V17 & V18 & V19 & V20 & V21 & V22 & V23 & V24 & V25\\\\\n",
       " <chr> & <chr> & <chr> & <chr> & <chr> & <chr> & <chr> & <chr> & <chr> & <chr> & ⋯ & <int> & <int> & <chr> & <chr> & <chr> & <chr> & <chr> & <chr> & <chr> & <chr>\\\\\n",
       "\\hline\n",
       "\t ICGC\\_GBM1 & DST   & CHST9  & -/- & -/- & 6:56350110  & 18:24497314 & splice-site & splice-site & translocation & ⋯ &  977 &  109 & high & . & . & duplicates(77),mismatches(3) & . & . & . & .\\\\\n",
       "\t ICGC\\_GBM1 & TFG   & MET    & +/+ & +/+ & 3:100451516 & 7:116414935 & splice-site & splice-site & translocation & ⋯ &  668 &  269 & high & . & . & duplicates(37),mismatches(1) & . & . & . & .\\\\\n",
       "\t ICGC\\_GBM1 & MET   & TFG    & +/+ & +/+ & 7:116412043 & 3:100455420 & splice-site & splice-site & translocation & ⋯ &   75 &  755 & high & . & . & duplicates(13)               & . & . & . & .\\\\\n",
       "\t ICGC\\_GBM1 & TUBB6 & SHISA6 & +/+ & +/+ & 18:12308794 & 17:11385568 & splice-site & intron      & translocation & ⋯ & 4464 &   34 & high & . & . & duplicates(37)               & . & . & . & .\\\\\n",
       "\t ICGC\\_GBM1 & TUBB6 & SHISA6 & +/+ & +/+ & 18:12308794 & 17:11459057 & splice-site & splice-site & translocation & ⋯ & 4464 & 1323 & high & . & . & duplicates(27)               & . & . & . & .\\\\\n",
       "\t ICGC\\_GBM1 & TUBB6 & SHISA6 & +/+ & +/+ & 18:12308794 & 17:11455213 & splice-site & splice-site & translocation & ⋯ & 4464 &  369 & high & . & . & duplicates(26)               & . & . & . & .\\\\\n",
       "\\end{tabular}\n"
      ],
      "text/markdown": [
       "\n",
       "A data.table: 6 × 25\n",
       "\n",
       "| V1 &lt;chr&gt; | V2 &lt;chr&gt; | V3 &lt;chr&gt; | V4 &lt;chr&gt; | V5 &lt;chr&gt; | V6 &lt;chr&gt; | V7 &lt;chr&gt; | V8 &lt;chr&gt; | V9 &lt;chr&gt; | V10 &lt;chr&gt; | ⋯ ⋯ | V16 &lt;int&gt; | V17 &lt;int&gt; | V18 &lt;chr&gt; | V19 &lt;chr&gt; | V20 &lt;chr&gt; | V21 &lt;chr&gt; | V22 &lt;chr&gt; | V23 &lt;chr&gt; | V24 &lt;chr&gt; | V25 &lt;chr&gt; |\n",
       "|---|---|---|---|---|---|---|---|---|---|---|---|---|---|---|---|---|---|---|---|---|\n",
       "| ICGC_GBM1 | DST   | CHST9  | -/- | -/- | 6:56350110  | 18:24497314 | splice-site | splice-site | translocation | ⋯ |  977 |  109 | high | . | . | duplicates(77),mismatches(3) | . | . | . | . |\n",
       "| ICGC_GBM1 | TFG   | MET    | +/+ | +/+ | 3:100451516 | 7:116414935 | splice-site | splice-site | translocation | ⋯ |  668 |  269 | high | . | . | duplicates(37),mismatches(1) | . | . | . | . |\n",
       "| ICGC_GBM1 | MET   | TFG    | +/+ | +/+ | 7:116412043 | 3:100455420 | splice-site | splice-site | translocation | ⋯ |   75 |  755 | high | . | . | duplicates(13)               | . | . | . | . |\n",
       "| ICGC_GBM1 | TUBB6 | SHISA6 | +/+ | +/+ | 18:12308794 | 17:11385568 | splice-site | intron      | translocation | ⋯ | 4464 |   34 | high | . | . | duplicates(37)               | . | . | . | . |\n",
       "| ICGC_GBM1 | TUBB6 | SHISA6 | +/+ | +/+ | 18:12308794 | 17:11459057 | splice-site | splice-site | translocation | ⋯ | 4464 | 1323 | high | . | . | duplicates(27)               | . | . | . | . |\n",
       "| ICGC_GBM1 | TUBB6 | SHISA6 | +/+ | +/+ | 18:12308794 | 17:11455213 | splice-site | splice-site | translocation | ⋯ | 4464 |  369 | high | . | . | duplicates(26)               | . | . | . | . |\n",
       "\n"
      ],
      "text/plain": [
       "  V1        V2    V3     V4  V5  V6          V7          V8         \n",
       "1 ICGC_GBM1 DST   CHST9  -/- -/- 6:56350110  18:24497314 splice-site\n",
       "2 ICGC_GBM1 TFG   MET    +/+ +/+ 3:100451516 7:116414935 splice-site\n",
       "3 ICGC_GBM1 MET   TFG    +/+ +/+ 7:116412043 3:100455420 splice-site\n",
       "4 ICGC_GBM1 TUBB6 SHISA6 +/+ +/+ 18:12308794 17:11385568 splice-site\n",
       "5 ICGC_GBM1 TUBB6 SHISA6 +/+ +/+ 18:12308794 17:11459057 splice-site\n",
       "6 ICGC_GBM1 TUBB6 SHISA6 +/+ +/+ 18:12308794 17:11455213 splice-site\n",
       "  V9          V10           ⋯ V16  V17  V18  V19 V20\n",
       "1 splice-site translocation ⋯  977  109 high .   .  \n",
       "2 splice-site translocation ⋯  668  269 high .   .  \n",
       "3 splice-site translocation ⋯   75  755 high .   .  \n",
       "4 intron      translocation ⋯ 4464   34 high .   .  \n",
       "5 splice-site translocation ⋯ 4464 1323 high .   .  \n",
       "6 splice-site translocation ⋯ 4464  369 high .   .  \n",
       "  V21                          V22 V23 V24 V25\n",
       "1 duplicates(77),mismatches(3) .   .   .   .  \n",
       "2 duplicates(37),mismatches(1) .   .   .   .  \n",
       "3 duplicates(13)               .   .   .   .  \n",
       "4 duplicates(37)               .   .   .   .  \n",
       "5 duplicates(27)               .   .   .   .  \n",
       "6 duplicates(26)               .   .   .   .  "
      ]
     },
     "metadata": {},
     "output_type": "display_data"
    }
   ],
   "source": [
    "head(arriba_dkfz)"
   ]
  },
  {
   "cell_type": "code",
   "execution_count": 18,
   "metadata": {},
   "outputs": [],
   "source": [
    "colnames(arriba_dkfz)[2:25] <- colnames(arriba_df_cbtn)[3:26]"
   ]
  },
  {
   "cell_type": "code",
   "execution_count": 19,
   "metadata": {},
   "outputs": [],
   "source": [
    "colnames(arriba_dkfz)[1] <- \"sample_id\""
   ]
  },
  {
   "cell_type": "code",
   "execution_count": 20,
   "metadata": {},
   "outputs": [],
   "source": [
    "arriba_df_dkfz <- merge(arriba_dkfz, estimate_manifest_primary_clean[,c(\"sample_id\", \"aliquot_id\")], by = \"sample_id\")"
   ]
  },
  {
   "cell_type": "code",
   "execution_count": 21,
   "metadata": {},
   "outputs": [
    {
     "data": {
      "text/html": [
       "193"
      ],
      "text/latex": [
       "193"
      ],
      "text/markdown": [
       "193"
      ],
      "text/plain": [
       "[1] 193"
      ]
     },
     "metadata": {},
     "output_type": "display_data"
    },
    {
     "data": {
      "text/html": [
       "189"
      ],
      "text/latex": [
       "189"
      ],
      "text/markdown": [
       "189"
      ],
      "text/plain": [
       "[1] 189"
      ]
     },
     "metadata": {},
     "output_type": "display_data"
    }
   ],
   "source": [
    "length(unique(arriba_dkfz$sample_id))\n",
    "\n",
    "length(unique(arriba_df_dkfz$sample_id))"
   ]
  },
  {
   "cell_type": "code",
   "execution_count": 22,
   "metadata": {},
   "outputs": [],
   "source": [
    "dkfz <- estimate_manifest_primary_clean[estimate_manifest_primary_clean$group == \"ICGC\",]"
   ]
  },
  {
   "cell_type": "code",
   "execution_count": 23,
   "metadata": {},
   "outputs": [],
   "source": [
    "allsampleswitharriba <- unique(arriba_dkfz$sample_id)"
   ]
  },
  {
   "cell_type": "code",
   "execution_count": 24,
   "metadata": {},
   "outputs": [
    {
     "data": {
      "text/html": [
       "<style>\n",
       ".list-inline {list-style: none; margin:0; padding: 0}\n",
       ".list-inline>li {display: inline-block}\n",
       ".list-inline>li:not(:last-child)::after {content: \"\\00b7\"; padding: 0 .5ex}\n",
       "</style>\n",
       "<ol class=list-inline><li>'ICGC_ET1'</li><li>'ICGC_ET14'</li><li>'ICGC_ET16'</li><li>'ICGC_ET22'</li><li>'ICGC_ET7'</li><li>'ICGC_ET8'</li><li>'ICGC_ET9'</li></ol>\n"
      ],
      "text/latex": [
       "\\begin{enumerate*}\n",
       "\\item 'ICGC\\_ET1'\n",
       "\\item 'ICGC\\_ET14'\n",
       "\\item 'ICGC\\_ET16'\n",
       "\\item 'ICGC\\_ET22'\n",
       "\\item 'ICGC\\_ET7'\n",
       "\\item 'ICGC\\_ET8'\n",
       "\\item 'ICGC\\_ET9'\n",
       "\\end{enumerate*}\n"
      ],
      "text/markdown": [
       "1. 'ICGC_ET1'\n",
       "2. 'ICGC_ET14'\n",
       "3. 'ICGC_ET16'\n",
       "4. 'ICGC_ET22'\n",
       "5. 'ICGC_ET7'\n",
       "6. 'ICGC_ET8'\n",
       "7. 'ICGC_ET9'\n",
       "\n",
       "\n"
      ],
      "text/plain": [
       "[1] \"ICGC_ET1\"  \"ICGC_ET14\" \"ICGC_ET16\" \"ICGC_ET22\" \"ICGC_ET7\"  \"ICGC_ET8\" \n",
       "[7] \"ICGC_ET9\" "
      ]
     },
     "metadata": {},
     "output_type": "display_data"
    }
   ],
   "source": [
    "dkfz$sample_id[!dkfz$sample_id %in% allsampleswitharriba]"
   ]
  },
  {
   "cell_type": "markdown",
   "metadata": {},
   "source": [
    "There was no Arriba call available for the samples above"
   ]
  },
  {
   "cell_type": "code",
   "execution_count": 25,
   "metadata": {},
   "outputs": [],
   "source": [
    "arriba_df <- rbind(arriba_df_cbtn, arriba_df_dkfz)"
   ]
  },
  {
   "cell_type": "code",
   "execution_count": 26,
   "metadata": {},
   "outputs": [],
   "source": [
    "save(arriba_df, file = paste0(datapath, \"fusion/arriba_df.RData\"))"
   ]
  },
  {
   "cell_type": "code",
   "execution_count": 27,
   "metadata": {},
   "outputs": [
    {
     "data": {
      "text/plain": [
       "\n",
       "  high    low medium \n",
       "  4400  31877  12200 "
      ]
     },
     "metadata": {},
     "output_type": "display_data"
    }
   ],
   "source": [
    "table(arriba_df$confidence)"
   ]
  },
  {
   "cell_type": "code",
   "execution_count": null,
   "metadata": {},
   "outputs": [],
   "source": []
  }
 ],
 "metadata": {
  "kernelspec": {
   "display_name": "R 4.0",
   "language": "R",
   "name": "ir40"
  },
  "language_info": {
   "codemirror_mode": "r",
   "file_extension": ".r",
   "mimetype": "text/x-r-source",
   "name": "R",
   "pygments_lexer": "r",
   "version": "4.0.3"
  },
  "toc": {
   "base_numbering": 1,
   "nav_menu": {},
   "number_sections": false,
   "sideBar": true,
   "skip_h1_title": false,
   "title_cell": "Table of Contents",
   "title_sidebar": "Contents",
   "toc_cell": true,
   "toc_position": {
    "height": "calc(100% - 180px)",
    "left": "10px",
    "top": "150px",
    "width": "165px"
   },
   "toc_section_display": true,
   "toc_window_display": true
  }
 },
 "nbformat": 4,
 "nbformat_minor": 2
}
