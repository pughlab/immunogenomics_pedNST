{
 "cells": [
  {
   "cell_type": "markdown",
   "metadata": {
    "toc": true
   },
   "source": [
    "<h1>Table of Contents<span class=\"tocSkip\"></span></h1>\n",
    "<div class=\"toc\"><ul class=\"toc-item\"><li><span><a href=\"#Dependencies\" data-toc-modified-id=\"Dependencies-1\">Dependencies</a></span></li><li><span><a href=\"#Functions\" data-toc-modified-id=\"Functions-2\">Functions</a></span></li><li><span><a href=\"#Paths\" data-toc-modified-id=\"Paths-3\">Paths</a></span></li><li><span><a href=\"#Main\" data-toc-modified-id=\"Main-4\">Main</a></span><ul class=\"toc-item\"><li><span><a href=\"#Annotations-for-cohorts\" data-toc-modified-id=\"Annotations-for-cohorts-4.1\">Annotations for cohorts</a></span></li></ul></li></ul></div>"
   ]
  },
  {
   "cell_type": "markdown",
   "metadata": {},
   "source": [
    "# Dependencies"
   ]
  },
  {
   "cell_type": "code",
   "execution_count": 1,
   "metadata": {},
   "outputs": [],
   "source": [
    "options(scipen = 999)"
   ]
  },
  {
   "cell_type": "code",
   "execution_count": 2,
   "metadata": {
    "scrolled": true
   },
   "outputs": [
    {
     "name": "stderr",
     "output_type": "stream",
     "text": [
      "Loading required package: grid\n",
      "\n",
      "========================================\n",
      "ComplexHeatmap version 2.6.2\n",
      "Bioconductor page: http://bioconductor.org/packages/ComplexHeatmap/\n",
      "Github page: https://github.com/jokergoo/ComplexHeatmap\n",
      "Documentation: http://jokergoo.github.io/ComplexHeatmap-reference\n",
      "\n",
      "If you use it in published research, please cite:\n",
      "Gu, Z. Complex heatmaps reveal patterns and correlations in multidimensional \n",
      "  genomic data. Bioinformatics 2016.\n",
      "\n",
      "This message can be suppressed by:\n",
      "  suppressPackageStartupMessages(library(ComplexHeatmap))\n",
      "========================================\n",
      "\n",
      "\n",
      "========================================\n",
      "circlize version 0.4.12\n",
      "CRAN page: https://cran.r-project.org/package=circlize\n",
      "Github page: https://github.com/jokergoo/circlize\n",
      "Documentation: https://jokergoo.github.io/circlize_book/book/\n",
      "\n",
      "If you use it in published research, please cite:\n",
      "Gu, Z. circlize implements and enhances circular visualization\n",
      "  in R. Bioinformatics 2014.\n",
      "\n",
      "This message can be suppressed by:\n",
      "  suppressPackageStartupMessages(library(circlize))\n",
      "========================================\n",
      "\n",
      "\n"
     ]
    }
   ],
   "source": [
    "library(ComplexHeatmap)\n",
    "library(circlize)"
   ]
  },
  {
   "cell_type": "markdown",
   "metadata": {},
   "source": [
    "# Functions"
   ]
  },
  {
   "cell_type": "code",
   "execution_count": 1,
   "metadata": {},
   "outputs": [
    {
     "name": "stderr",
     "output_type": "stream",
     "text": [
      "Loading required package: grid\n",
      "\n",
      "========================================\n",
      "ComplexHeatmap version 2.6.2\n",
      "Bioconductor page: http://bioconductor.org/packages/ComplexHeatmap/\n",
      "Github page: https://github.com/jokergoo/ComplexHeatmap\n",
      "Documentation: http://jokergoo.github.io/ComplexHeatmap-reference\n",
      "\n",
      "If you use it in published research, please cite:\n",
      "Gu, Z. Complex heatmaps reveal patterns and correlations in multidimensional \n",
      "  genomic data. Bioinformatics 2016.\n",
      "\n",
      "This message can be suppressed by:\n",
      "  suppressPackageStartupMessages(library(ComplexHeatmap))\n",
      "========================================\n",
      "\n",
      "\n",
      "========================================\n",
      "circlize version 0.4.12\n",
      "CRAN page: https://cran.r-project.org/package=circlize\n",
      "Github page: https://github.com/jokergoo/circlize\n",
      "Documentation: https://jokergoo.github.io/circlize_book/book/\n",
      "\n",
      "If you use it in published research, please cite:\n",
      "Gu, Z. circlize implements and enhances circular visualization\n",
      "  in R. Bioinformatics 2014.\n",
      "\n",
      "This message can be suppressed by:\n",
      "  suppressPackageStartupMessages(library(circlize))\n",
      "========================================\n",
      "\n",
      "\n"
     ]
    }
   ],
   "source": [
    "source(\"~/OneDrive - UHN/R_src/ggplot2_theme.R\")\n",
    "source(\"~/OneDrive - UHN/R_src/color_schemes.R\")\n",
    "source(\"~/OneDrive - UHN/R_src/Heatmap_functions.R\")"
   ]
  },
  {
   "cell_type": "markdown",
   "metadata": {},
   "source": [
    "# Paths"
   ]
  },
  {
   "cell_type": "code",
   "execution_count": 2,
   "metadata": {},
   "outputs": [],
   "source": [
    "manifestpath <- \"/Users/anabbi/OneDrive - UHN/Documents/IPD2/Manifests/\"\n",
    "datapath <- \"/Users/anabbi/OneDrive - UHN/Documents/IPD2/Data/\"\n",
    "plotpath <- \"/Users/anabbi/OneDrive - UHN/Documents/IPD2/Plots/\""
   ]
  },
  {
   "cell_type": "markdown",
   "metadata": {},
   "source": [
    "# Main"
   ]
  },
  {
   "cell_type": "code",
   "execution_count": 3,
   "metadata": {},
   "outputs": [],
   "source": [
    "load(paste0(datapath,\"ESTIMATE/estimate_manifest_primary_clean_final.RData\"))"
   ]
  },
  {
   "cell_type": "code",
   "execution_count": 4,
   "metadata": {},
   "outputs": [],
   "source": [
    "ped <- estimate_manifest_primary_clean[ estimate_manifest_primary_clean$group != \"TCGA\",]"
   ]
  },
  {
   "cell_type": "code",
   "execution_count": 5,
   "metadata": {},
   "outputs": [
    {
     "data": {
      "text/plain": [
       "\n",
       "  CBTN   ICGC TARGET \n",
       "   581    196    149 "
      ]
     },
     "metadata": {},
     "output_type": "display_data"
    }
   ],
   "source": [
    "table(ped$group)"
   ]
  },
  {
   "cell_type": "markdown",
   "metadata": {},
   "source": [
    "load pdx"
   ]
  },
  {
   "cell_type": "code",
   "execution_count": 6,
   "metadata": {},
   "outputs": [],
   "source": [
    "pdxfilelist <- list.files(paste0(datapath, \"TIMER2\"), full.names = T, pattern = \"estimation_matrix_P\")"
   ]
  },
  {
   "cell_type": "code",
   "execution_count": 7,
   "metadata": {},
   "outputs": [],
   "source": [
    "pdxfiles <- lapply(pdxfilelist, \n",
    "                    function(f){read.csv(f, header = TRUE, stringsAsFactors = F, check.names = F, row.names = 1)})"
   ]
  },
  {
   "cell_type": "code",
   "execution_count": 8,
   "metadata": {},
   "outputs": [],
   "source": [
    "pdxes <- as.data.frame(do.call(\"cbind\", pdxfiles))"
   ]
  },
  {
   "cell_type": "code",
   "execution_count": 9,
   "metadata": {},
   "outputs": [],
   "source": [
    "pdxes_NS <- pdxes[,grep(paste(c(\"EP\", \"MB\", \"HG\", \"NB\", \"RT\"),collapse=\"|\"),colnames(pdxes), value=TRUE)]\n",
    "pdxes_NS <- pdxes_NS[,grep(paste(c(\"PP\", \"PT\", \"PR\", \"PM\"),collapse=\"|\"),colnames(pdxes_NS), value=TRUE)]\n",
    "pdxes_NS <- pdxes_NS[,!colnames(pdxes_NS) %in% c(\"ITCC.P4_s07_HG0068_PT01_F01_R01_A03\",\"ITCC.P4_s15_NB0537_PT03_F01_R01_03\")]"
   ]
  },
  {
   "cell_type": "code",
   "execution_count": 10,
   "metadata": {},
   "outputs": [
    {
     "data": {
      "text/html": [
       "<style>\n",
       ".list-inline {list-style: none; margin:0; padding: 0}\n",
       ".list-inline>li {display: inline-block}\n",
       ".list-inline>li:not(:last-child)::after {content: \"\\00b7\"; padding: 0 .5ex}\n",
       "</style>\n",
       "<ol class=list-inline><li>119</li><li>61</li></ol>\n"
      ],
      "text/latex": [
       "\\begin{enumerate*}\n",
       "\\item 119\n",
       "\\item 61\n",
       "\\end{enumerate*}\n"
      ],
      "text/markdown": [
       "1. 119\n",
       "2. 61\n",
       "\n",
       "\n"
      ],
      "text/plain": [
       "[1] 119  61"
      ]
     },
     "metadata": {},
     "output_type": "display_data"
    }
   ],
   "source": [
    "dim(pdxes_NS)"
   ]
  },
  {
   "cell_type": "code",
   "execution_count": 11,
   "metadata": {},
   "outputs": [],
   "source": [
    "pdx_mb <- read.csv(\"/Users/anabbi/OneDrive - UHN/Documents/IPD2/Data/TIMER2/estimation_matrix_PDX_MB.csv\",\n",
    "         header = TRUE, stringsAsFactors = F, check.names = F, row.names = 1)"
   ]
  },
  {
   "cell_type": "code",
   "execution_count": 12,
   "metadata": {},
   "outputs": [
    {
     "data": {
      "text/html": [
       "<table class=\"dataframe\">\n",
       "<caption>A data.frame: 6 × 61</caption>\n",
       "<thead>\n",
       "\t<tr><th></th><th scope=col>ITCC-P4_s01_EP0027_PP01_F01_R01_A03</th><th scope=col>ITCC-P4_s01_EP0035_PP01_F01_R01_A03</th><th scope=col>ITCC-P4_s01_EP0076_PR03_F01_R01_A03</th><th scope=col>ITCC-P4_s01_EP0076_PP03_F01_R01_A03</th><th scope=col>ITCC-P4_s04_RT0414_PP01_F01_R01_03</th><th scope=col>ITCC-P4_s01_RT0423_PP01_F01_R01_A03</th><th scope=col>ITCC-P4_s01_EP0077_PP02_F01_R01</th><th scope=col>ITCC-P4_s01_EP0191_PR01_F01_R01_A03</th><th scope=col>ITCC-P4_s05_EP0191_PR04_F01_R01_03</th><th scope=col>ITCC-P4_s01_EP0233_PR01_F01_R01_A03</th><th scope=col>⋯</th><th scope=col>ITCC-P4_s05_NB0025_PT03_F01_R01_03</th><th scope=col>ITCC-P4_s05_NB0026_PP02_F01_R01_03</th><th scope=col>ITCC-P4_s05_NB0179_PR07_F01_R01_03</th><th scope=col>ITCC-P4_s05_NB0211_PR07_F01_R01_03</th><th scope=col>ITCC-P4_s05_NB0219_PR05_F01_R01_03</th><th scope=col>ITCC-P4_s13_NB0241_PR09_F01_R01_03</th><th scope=col>ITCC-P4_s05_NB0453_PR01_F01_R01_03</th><th scope=col>ITCC-P4_s05_NB0457_PR01_F01_R01_03</th><th scope=col>ITCC-P4_s15_NB0537_PT03_F01_R01_03</th><th scope=col>ITCC-P4_s15_NB0542_PP03_F01_R01_03</th></tr>\n",
       "\t<tr><th></th><th scope=col>&lt;dbl&gt;</th><th scope=col>&lt;dbl&gt;</th><th scope=col>&lt;dbl&gt;</th><th scope=col>&lt;dbl&gt;</th><th scope=col>&lt;dbl&gt;</th><th scope=col>&lt;dbl&gt;</th><th scope=col>&lt;dbl&gt;</th><th scope=col>&lt;dbl&gt;</th><th scope=col>&lt;dbl&gt;</th><th scope=col>&lt;dbl&gt;</th><th scope=col>⋯</th><th scope=col>&lt;dbl&gt;</th><th scope=col>&lt;dbl&gt;</th><th scope=col>&lt;dbl&gt;</th><th scope=col>&lt;dbl&gt;</th><th scope=col>&lt;dbl&gt;</th><th scope=col>&lt;dbl&gt;</th><th scope=col>&lt;dbl&gt;</th><th scope=col>&lt;dbl&gt;</th><th scope=col>&lt;dbl&gt;</th><th scope=col>&lt;dbl&gt;</th></tr>\n",
       "</thead>\n",
       "<tbody>\n",
       "\t<tr><th scope=row>B cell_TIMER</th><td>0.10866096</td><td>0.11595588</td><td>0.11359739</td><td>0.11361054</td><td>0.12883446</td><td>0.10296001</td><td>0.1101191</td><td>0.11515600</td><td>0.10896777</td><td>0.11380687</td><td>⋯</td><td>0.1062306</td><td>0.11212101</td><td>0.11888052</td><td>0.11141632</td><td>0.10974657</td><td>0.10535636</td><td>0.10580017</td><td>0.12450394</td><td>0.08909542</td><td>0.11449080</td></tr>\n",
       "\t<tr><th scope=row>T cell CD4+_TIMER</th><td>0.12036951</td><td>0.11079460</td><td>0.12179454</td><td>0.12029732</td><td>0.08874960</td><td>0.09297973</td><td>0.1141956</td><td>0.12083469</td><td>0.12272282</td><td>0.11891709</td><td>⋯</td><td>0.1181867</td><td>0.12217476</td><td>0.11584217</td><td>0.12203343</td><td>0.11411771</td><td>0.11474378</td><td>0.11444955</td><td>0.11929099</td><td>0.10754066</td><td>0.11313586</td></tr>\n",
       "\t<tr><th scope=row>T cell CD8+_TIMER</th><td>0.16980503</td><td>0.18495331</td><td>0.16380051</td><td>0.16663861</td><td>0.24417252</td><td>0.23321967</td><td>0.1829304</td><td>0.17196556</td><td>0.17599880</td><td>0.17294956</td><td>⋯</td><td>0.2107924</td><td>0.19460360</td><td>0.22244168</td><td>0.20272726</td><td>0.21364585</td><td>0.21380439</td><td>0.21726466</td><td>0.20251027</td><td>0.21584509</td><td>0.21056920</td></tr>\n",
       "\t<tr><th scope=row>Neutrophil_TIMER</th><td>0.11699696</td><td>0.11792566</td><td>0.11701124</td><td>0.11727387</td><td>0.12769081</td><td>0.12883282</td><td>0.1174016</td><td>0.11990591</td><td>0.12220849</td><td>0.11763661</td><td>⋯</td><td>0.1131169</td><td>0.11373606</td><td>0.11574686</td><td>0.11335749</td><td>0.11745451</td><td>0.11915822</td><td>0.11906436</td><td>0.11106194</td><td>0.12229160</td><td>0.11728580</td></tr>\n",
       "\t<tr><th scope=row>Macrophage_TIMER</th><td>0.06706701</td><td>0.06595619</td><td>0.06714108</td><td>0.06710146</td><td>0.03211433</td><td>0.04012491</td><td>0.0665097</td><td>0.06051503</td><td>0.06652732</td><td>0.05930482</td><td>⋯</td><td>0.0442040</td><td>0.04180019</td><td>0.06496499</td><td>0.04404167</td><td>0.05691344</td><td>0.06146968</td><td>0.06036392</td><td>0.04905027</td><td>0.05058064</td><td>0.05278187</td></tr>\n",
       "\t<tr><th scope=row>Myeloid dendritic cell_TIMER</th><td>0.46973292</td><td>0.47082800</td><td>0.46883781</td><td>0.46723201</td><td>0.50845746</td><td>0.49821990</td><td>0.4792870</td><td>0.47760172</td><td>0.47285463</td><td>0.47703324</td><td>⋯</td><td>0.4873030</td><td>0.48544357</td><td>0.49013229</td><td>0.50607544</td><td>0.47830515</td><td>0.46786153</td><td>0.46729364</td><td>0.50162106</td><td>0.47032002</td><td>0.48200648</td></tr>\n",
       "</tbody>\n",
       "</table>\n"
      ],
      "text/latex": [
       "A data.frame: 6 × 61\n",
       "\\begin{tabular}{r|lllllllllllllllllllll}\n",
       "  & ITCC-P4\\_s01\\_EP0027\\_PP01\\_F01\\_R01\\_A03 & ITCC-P4\\_s01\\_EP0035\\_PP01\\_F01\\_R01\\_A03 & ITCC-P4\\_s01\\_EP0076\\_PR03\\_F01\\_R01\\_A03 & ITCC-P4\\_s01\\_EP0076\\_PP03\\_F01\\_R01\\_A03 & ITCC-P4\\_s04\\_RT0414\\_PP01\\_F01\\_R01\\_03 & ITCC-P4\\_s01\\_RT0423\\_PP01\\_F01\\_R01\\_A03 & ITCC-P4\\_s01\\_EP0077\\_PP02\\_F01\\_R01 & ITCC-P4\\_s01\\_EP0191\\_PR01\\_F01\\_R01\\_A03 & ITCC-P4\\_s05\\_EP0191\\_PR04\\_F01\\_R01\\_03 & ITCC-P4\\_s01\\_EP0233\\_PR01\\_F01\\_R01\\_A03 & ⋯ & ITCC-P4\\_s05\\_NB0025\\_PT03\\_F01\\_R01\\_03 & ITCC-P4\\_s05\\_NB0026\\_PP02\\_F01\\_R01\\_03 & ITCC-P4\\_s05\\_NB0179\\_PR07\\_F01\\_R01\\_03 & ITCC-P4\\_s05\\_NB0211\\_PR07\\_F01\\_R01\\_03 & ITCC-P4\\_s05\\_NB0219\\_PR05\\_F01\\_R01\\_03 & ITCC-P4\\_s13\\_NB0241\\_PR09\\_F01\\_R01\\_03 & ITCC-P4\\_s05\\_NB0453\\_PR01\\_F01\\_R01\\_03 & ITCC-P4\\_s05\\_NB0457\\_PR01\\_F01\\_R01\\_03 & ITCC-P4\\_s15\\_NB0537\\_PT03\\_F01\\_R01\\_03 & ITCC-P4\\_s15\\_NB0542\\_PP03\\_F01\\_R01\\_03\\\\\n",
       "  & <dbl> & <dbl> & <dbl> & <dbl> & <dbl> & <dbl> & <dbl> & <dbl> & <dbl> & <dbl> & ⋯ & <dbl> & <dbl> & <dbl> & <dbl> & <dbl> & <dbl> & <dbl> & <dbl> & <dbl> & <dbl>\\\\\n",
       "\\hline\n",
       "\tB cell\\_TIMER & 0.10866096 & 0.11595588 & 0.11359739 & 0.11361054 & 0.12883446 & 0.10296001 & 0.1101191 & 0.11515600 & 0.10896777 & 0.11380687 & ⋯ & 0.1062306 & 0.11212101 & 0.11888052 & 0.11141632 & 0.10974657 & 0.10535636 & 0.10580017 & 0.12450394 & 0.08909542 & 0.11449080\\\\\n",
       "\tT cell CD4+\\_TIMER & 0.12036951 & 0.11079460 & 0.12179454 & 0.12029732 & 0.08874960 & 0.09297973 & 0.1141956 & 0.12083469 & 0.12272282 & 0.11891709 & ⋯ & 0.1181867 & 0.12217476 & 0.11584217 & 0.12203343 & 0.11411771 & 0.11474378 & 0.11444955 & 0.11929099 & 0.10754066 & 0.11313586\\\\\n",
       "\tT cell CD8+\\_TIMER & 0.16980503 & 0.18495331 & 0.16380051 & 0.16663861 & 0.24417252 & 0.23321967 & 0.1829304 & 0.17196556 & 0.17599880 & 0.17294956 & ⋯ & 0.2107924 & 0.19460360 & 0.22244168 & 0.20272726 & 0.21364585 & 0.21380439 & 0.21726466 & 0.20251027 & 0.21584509 & 0.21056920\\\\\n",
       "\tNeutrophil\\_TIMER & 0.11699696 & 0.11792566 & 0.11701124 & 0.11727387 & 0.12769081 & 0.12883282 & 0.1174016 & 0.11990591 & 0.12220849 & 0.11763661 & ⋯ & 0.1131169 & 0.11373606 & 0.11574686 & 0.11335749 & 0.11745451 & 0.11915822 & 0.11906436 & 0.11106194 & 0.12229160 & 0.11728580\\\\\n",
       "\tMacrophage\\_TIMER & 0.06706701 & 0.06595619 & 0.06714108 & 0.06710146 & 0.03211433 & 0.04012491 & 0.0665097 & 0.06051503 & 0.06652732 & 0.05930482 & ⋯ & 0.0442040 & 0.04180019 & 0.06496499 & 0.04404167 & 0.05691344 & 0.06146968 & 0.06036392 & 0.04905027 & 0.05058064 & 0.05278187\\\\\n",
       "\tMyeloid dendritic cell\\_TIMER & 0.46973292 & 0.47082800 & 0.46883781 & 0.46723201 & 0.50845746 & 0.49821990 & 0.4792870 & 0.47760172 & 0.47285463 & 0.47703324 & ⋯ & 0.4873030 & 0.48544357 & 0.49013229 & 0.50607544 & 0.47830515 & 0.46786153 & 0.46729364 & 0.50162106 & 0.47032002 & 0.48200648\\\\\n",
       "\\end{tabular}\n"
      ],
      "text/markdown": [
       "\n",
       "A data.frame: 6 × 61\n",
       "\n",
       "| <!--/--> | ITCC-P4_s01_EP0027_PP01_F01_R01_A03 &lt;dbl&gt; | ITCC-P4_s01_EP0035_PP01_F01_R01_A03 &lt;dbl&gt; | ITCC-P4_s01_EP0076_PR03_F01_R01_A03 &lt;dbl&gt; | ITCC-P4_s01_EP0076_PP03_F01_R01_A03 &lt;dbl&gt; | ITCC-P4_s04_RT0414_PP01_F01_R01_03 &lt;dbl&gt; | ITCC-P4_s01_RT0423_PP01_F01_R01_A03 &lt;dbl&gt; | ITCC-P4_s01_EP0077_PP02_F01_R01 &lt;dbl&gt; | ITCC-P4_s01_EP0191_PR01_F01_R01_A03 &lt;dbl&gt; | ITCC-P4_s05_EP0191_PR04_F01_R01_03 &lt;dbl&gt; | ITCC-P4_s01_EP0233_PR01_F01_R01_A03 &lt;dbl&gt; | ⋯ ⋯ | ITCC-P4_s05_NB0025_PT03_F01_R01_03 &lt;dbl&gt; | ITCC-P4_s05_NB0026_PP02_F01_R01_03 &lt;dbl&gt; | ITCC-P4_s05_NB0179_PR07_F01_R01_03 &lt;dbl&gt; | ITCC-P4_s05_NB0211_PR07_F01_R01_03 &lt;dbl&gt; | ITCC-P4_s05_NB0219_PR05_F01_R01_03 &lt;dbl&gt; | ITCC-P4_s13_NB0241_PR09_F01_R01_03 &lt;dbl&gt; | ITCC-P4_s05_NB0453_PR01_F01_R01_03 &lt;dbl&gt; | ITCC-P4_s05_NB0457_PR01_F01_R01_03 &lt;dbl&gt; | ITCC-P4_s15_NB0537_PT03_F01_R01_03 &lt;dbl&gt; | ITCC-P4_s15_NB0542_PP03_F01_R01_03 &lt;dbl&gt; |\n",
       "|---|---|---|---|---|---|---|---|---|---|---|---|---|---|---|---|---|---|---|---|---|---|\n",
       "| B cell_TIMER | 0.10866096 | 0.11595588 | 0.11359739 | 0.11361054 | 0.12883446 | 0.10296001 | 0.1101191 | 0.11515600 | 0.10896777 | 0.11380687 | ⋯ | 0.1062306 | 0.11212101 | 0.11888052 | 0.11141632 | 0.10974657 | 0.10535636 | 0.10580017 | 0.12450394 | 0.08909542 | 0.11449080 |\n",
       "| T cell CD4+_TIMER | 0.12036951 | 0.11079460 | 0.12179454 | 0.12029732 | 0.08874960 | 0.09297973 | 0.1141956 | 0.12083469 | 0.12272282 | 0.11891709 | ⋯ | 0.1181867 | 0.12217476 | 0.11584217 | 0.12203343 | 0.11411771 | 0.11474378 | 0.11444955 | 0.11929099 | 0.10754066 | 0.11313586 |\n",
       "| T cell CD8+_TIMER | 0.16980503 | 0.18495331 | 0.16380051 | 0.16663861 | 0.24417252 | 0.23321967 | 0.1829304 | 0.17196556 | 0.17599880 | 0.17294956 | ⋯ | 0.2107924 | 0.19460360 | 0.22244168 | 0.20272726 | 0.21364585 | 0.21380439 | 0.21726466 | 0.20251027 | 0.21584509 | 0.21056920 |\n",
       "| Neutrophil_TIMER | 0.11699696 | 0.11792566 | 0.11701124 | 0.11727387 | 0.12769081 | 0.12883282 | 0.1174016 | 0.11990591 | 0.12220849 | 0.11763661 | ⋯ | 0.1131169 | 0.11373606 | 0.11574686 | 0.11335749 | 0.11745451 | 0.11915822 | 0.11906436 | 0.11106194 | 0.12229160 | 0.11728580 |\n",
       "| Macrophage_TIMER | 0.06706701 | 0.06595619 | 0.06714108 | 0.06710146 | 0.03211433 | 0.04012491 | 0.0665097 | 0.06051503 | 0.06652732 | 0.05930482 | ⋯ | 0.0442040 | 0.04180019 | 0.06496499 | 0.04404167 | 0.05691344 | 0.06146968 | 0.06036392 | 0.04905027 | 0.05058064 | 0.05278187 |\n",
       "| Myeloid dendritic cell_TIMER | 0.46973292 | 0.47082800 | 0.46883781 | 0.46723201 | 0.50845746 | 0.49821990 | 0.4792870 | 0.47760172 | 0.47285463 | 0.47703324 | ⋯ | 0.4873030 | 0.48544357 | 0.49013229 | 0.50607544 | 0.47830515 | 0.46786153 | 0.46729364 | 0.50162106 | 0.47032002 | 0.48200648 |\n",
       "\n"
      ],
      "text/plain": [
       "                             ITCC-P4_s01_EP0027_PP01_F01_R01_A03\n",
       "B cell_TIMER                 0.10866096                         \n",
       "T cell CD4+_TIMER            0.12036951                         \n",
       "T cell CD8+_TIMER            0.16980503                         \n",
       "Neutrophil_TIMER             0.11699696                         \n",
       "Macrophage_TIMER             0.06706701                         \n",
       "Myeloid dendritic cell_TIMER 0.46973292                         \n",
       "                             ITCC-P4_s01_EP0035_PP01_F01_R01_A03\n",
       "B cell_TIMER                 0.11595588                         \n",
       "T cell CD4+_TIMER            0.11079460                         \n",
       "T cell CD8+_TIMER            0.18495331                         \n",
       "Neutrophil_TIMER             0.11792566                         \n",
       "Macrophage_TIMER             0.06595619                         \n",
       "Myeloid dendritic cell_TIMER 0.47082800                         \n",
       "                             ITCC-P4_s01_EP0076_PR03_F01_R01_A03\n",
       "B cell_TIMER                 0.11359739                         \n",
       "T cell CD4+_TIMER            0.12179454                         \n",
       "T cell CD8+_TIMER            0.16380051                         \n",
       "Neutrophil_TIMER             0.11701124                         \n",
       "Macrophage_TIMER             0.06714108                         \n",
       "Myeloid dendritic cell_TIMER 0.46883781                         \n",
       "                             ITCC-P4_s01_EP0076_PP03_F01_R01_A03\n",
       "B cell_TIMER                 0.11361054                         \n",
       "T cell CD4+_TIMER            0.12029732                         \n",
       "T cell CD8+_TIMER            0.16663861                         \n",
       "Neutrophil_TIMER             0.11727387                         \n",
       "Macrophage_TIMER             0.06710146                         \n",
       "Myeloid dendritic cell_TIMER 0.46723201                         \n",
       "                             ITCC-P4_s04_RT0414_PP01_F01_R01_03\n",
       "B cell_TIMER                 0.12883446                        \n",
       "T cell CD4+_TIMER            0.08874960                        \n",
       "T cell CD8+_TIMER            0.24417252                        \n",
       "Neutrophil_TIMER             0.12769081                        \n",
       "Macrophage_TIMER             0.03211433                        \n",
       "Myeloid dendritic cell_TIMER 0.50845746                        \n",
       "                             ITCC-P4_s01_RT0423_PP01_F01_R01_A03\n",
       "B cell_TIMER                 0.10296001                         \n",
       "T cell CD4+_TIMER            0.09297973                         \n",
       "T cell CD8+_TIMER            0.23321967                         \n",
       "Neutrophil_TIMER             0.12883282                         \n",
       "Macrophage_TIMER             0.04012491                         \n",
       "Myeloid dendritic cell_TIMER 0.49821990                         \n",
       "                             ITCC-P4_s01_EP0077_PP02_F01_R01\n",
       "B cell_TIMER                 0.1101191                      \n",
       "T cell CD4+_TIMER            0.1141956                      \n",
       "T cell CD8+_TIMER            0.1829304                      \n",
       "Neutrophil_TIMER             0.1174016                      \n",
       "Macrophage_TIMER             0.0665097                      \n",
       "Myeloid dendritic cell_TIMER 0.4792870                      \n",
       "                             ITCC-P4_s01_EP0191_PR01_F01_R01_A03\n",
       "B cell_TIMER                 0.11515600                         \n",
       "T cell CD4+_TIMER            0.12083469                         \n",
       "T cell CD8+_TIMER            0.17196556                         \n",
       "Neutrophil_TIMER             0.11990591                         \n",
       "Macrophage_TIMER             0.06051503                         \n",
       "Myeloid dendritic cell_TIMER 0.47760172                         \n",
       "                             ITCC-P4_s05_EP0191_PR04_F01_R01_03\n",
       "B cell_TIMER                 0.10896777                        \n",
       "T cell CD4+_TIMER            0.12272282                        \n",
       "T cell CD8+_TIMER            0.17599880                        \n",
       "Neutrophil_TIMER             0.12220849                        \n",
       "Macrophage_TIMER             0.06652732                        \n",
       "Myeloid dendritic cell_TIMER 0.47285463                        \n",
       "                             ITCC-P4_s01_EP0233_PR01_F01_R01_A03 ⋯\n",
       "B cell_TIMER                 0.11380687                          ⋯\n",
       "T cell CD4+_TIMER            0.11891709                          ⋯\n",
       "T cell CD8+_TIMER            0.17294956                          ⋯\n",
       "Neutrophil_TIMER             0.11763661                          ⋯\n",
       "Macrophage_TIMER             0.05930482                          ⋯\n",
       "Myeloid dendritic cell_TIMER 0.47703324                          ⋯\n",
       "                             ITCC-P4_s05_NB0025_PT03_F01_R01_03\n",
       "B cell_TIMER                 0.1062306                         \n",
       "T cell CD4+_TIMER            0.1181867                         \n",
       "T cell CD8+_TIMER            0.2107924                         \n",
       "Neutrophil_TIMER             0.1131169                         \n",
       "Macrophage_TIMER             0.0442040                         \n",
       "Myeloid dendritic cell_TIMER 0.4873030                         \n",
       "                             ITCC-P4_s05_NB0026_PP02_F01_R01_03\n",
       "B cell_TIMER                 0.11212101                        \n",
       "T cell CD4+_TIMER            0.12217476                        \n",
       "T cell CD8+_TIMER            0.19460360                        \n",
       "Neutrophil_TIMER             0.11373606                        \n",
       "Macrophage_TIMER             0.04180019                        \n",
       "Myeloid dendritic cell_TIMER 0.48544357                        \n",
       "                             ITCC-P4_s05_NB0179_PR07_F01_R01_03\n",
       "B cell_TIMER                 0.11888052                        \n",
       "T cell CD4+_TIMER            0.11584217                        \n",
       "T cell CD8+_TIMER            0.22244168                        \n",
       "Neutrophil_TIMER             0.11574686                        \n",
       "Macrophage_TIMER             0.06496499                        \n",
       "Myeloid dendritic cell_TIMER 0.49013229                        \n",
       "                             ITCC-P4_s05_NB0211_PR07_F01_R01_03\n",
       "B cell_TIMER                 0.11141632                        \n",
       "T cell CD4+_TIMER            0.12203343                        \n",
       "T cell CD8+_TIMER            0.20272726                        \n",
       "Neutrophil_TIMER             0.11335749                        \n",
       "Macrophage_TIMER             0.04404167                        \n",
       "Myeloid dendritic cell_TIMER 0.50607544                        \n",
       "                             ITCC-P4_s05_NB0219_PR05_F01_R01_03\n",
       "B cell_TIMER                 0.10974657                        \n",
       "T cell CD4+_TIMER            0.11411771                        \n",
       "T cell CD8+_TIMER            0.21364585                        \n",
       "Neutrophil_TIMER             0.11745451                        \n",
       "Macrophage_TIMER             0.05691344                        \n",
       "Myeloid dendritic cell_TIMER 0.47830515                        \n",
       "                             ITCC-P4_s13_NB0241_PR09_F01_R01_03\n",
       "B cell_TIMER                 0.10535636                        \n",
       "T cell CD4+_TIMER            0.11474378                        \n",
       "T cell CD8+_TIMER            0.21380439                        \n",
       "Neutrophil_TIMER             0.11915822                        \n",
       "Macrophage_TIMER             0.06146968                        \n",
       "Myeloid dendritic cell_TIMER 0.46786153                        \n",
       "                             ITCC-P4_s05_NB0453_PR01_F01_R01_03\n",
       "B cell_TIMER                 0.10580017                        \n",
       "T cell CD4+_TIMER            0.11444955                        \n",
       "T cell CD8+_TIMER            0.21726466                        \n",
       "Neutrophil_TIMER             0.11906436                        \n",
       "Macrophage_TIMER             0.06036392                        \n",
       "Myeloid dendritic cell_TIMER 0.46729364                        \n",
       "                             ITCC-P4_s05_NB0457_PR01_F01_R01_03\n",
       "B cell_TIMER                 0.12450394                        \n",
       "T cell CD4+_TIMER            0.11929099                        \n",
       "T cell CD8+_TIMER            0.20251027                        \n",
       "Neutrophil_TIMER             0.11106194                        \n",
       "Macrophage_TIMER             0.04905027                        \n",
       "Myeloid dendritic cell_TIMER 0.50162106                        \n",
       "                             ITCC-P4_s15_NB0537_PT03_F01_R01_03\n",
       "B cell_TIMER                 0.08909542                        \n",
       "T cell CD4+_TIMER            0.10754066                        \n",
       "T cell CD8+_TIMER            0.21584509                        \n",
       "Neutrophil_TIMER             0.12229160                        \n",
       "Macrophage_TIMER             0.05058064                        \n",
       "Myeloid dendritic cell_TIMER 0.47032002                        \n",
       "                             ITCC-P4_s15_NB0542_PP03_F01_R01_03\n",
       "B cell_TIMER                 0.11449080                        \n",
       "T cell CD4+_TIMER            0.11313586                        \n",
       "T cell CD8+_TIMER            0.21056920                        \n",
       "Neutrophil_TIMER             0.11728580                        \n",
       "Macrophage_TIMER             0.05278187                        \n",
       "Myeloid dendritic cell_TIMER 0.48200648                        "
      ]
     },
     "metadata": {},
     "output_type": "display_data"
    }
   ],
   "source": [
    "head(pdxes_NS)"
   ]
  },
  {
   "cell_type": "code",
   "execution_count": 13,
   "metadata": {},
   "outputs": [],
   "source": [
    "pdxes_NS <- cbind(pdxes_NS, pdx_mb)"
   ]
  },
  {
   "cell_type": "code",
   "execution_count": 14,
   "metadata": {},
   "outputs": [
    {
     "data": {
      "text/html": [
       "<style>\n",
       ".list-inline {list-style: none; margin:0; padding: 0}\n",
       ".list-inline>li {display: inline-block}\n",
       ".list-inline>li:not(:last-child)::after {content: \"\\00b7\"; padding: 0 .5ex}\n",
       "</style>\n",
       "<ol class=list-inline><li>119</li><li>81</li></ol>\n"
      ],
      "text/latex": [
       "\\begin{enumerate*}\n",
       "\\item 119\n",
       "\\item 81\n",
       "\\end{enumerate*}\n"
      ],
      "text/markdown": [
       "1. 119\n",
       "2. 81\n",
       "\n",
       "\n"
      ],
      "text/plain": [
       "[1] 119  81"
      ]
     },
     "metadata": {},
     "output_type": "display_data"
    }
   ],
   "source": [
    "dim(pdxes_NS)"
   ]
  },
  {
   "cell_type": "code",
   "execution_count": 15,
   "metadata": {},
   "outputs": [],
   "source": [
    "pdx_cohort <- colnames(pdxes_NS)\n",
    "names(pdx_cohort) <- pdx_cohort"
   ]
  },
  {
   "cell_type": "code",
   "execution_count": 16,
   "metadata": {},
   "outputs": [],
   "source": [
    "pdx_cohort[ grepl(\"EP\", pdx_cohort)] <- \"EPN\"\n",
    "pdx_cohort[ grepl(\"NB\", pdx_cohort)] <- \"NBL\"\n",
    "pdx_cohort[ grepl(\"RT\", pdx_cohort)] <- \"ATRT\"\n",
    "pdx_cohort[ grepl(\"HG\", pdx_cohort)] <- \"pedHGG\"\n",
    "pdx_cohort[ grepl(\"MB\", pdx_cohort)] <- \"MB\"\n",
    "\n",
    "pdx_cohort[ grepl(\"Med\", pdx_cohort)] <- \"MB\"\n",
    "pdx_cohort[ grepl(\"Neo\", pdx_cohort)] <- \"MB\"\n",
    "pdx_cohort[ grepl(\"XP\", pdx_cohort)] <- \"MB\""
   ]
  },
  {
   "cell_type": "code",
   "execution_count": 17,
   "metadata": {},
   "outputs": [],
   "source": [
    "pdxes_NS$Tool <- NA\n",
    "\n",
    "pdxes_NS$Tool[grepl(\"TIMER\", rownames(pdxes_NS))] <- \"TIMER\"\n",
    "pdxes_NS$Tool[grepl(\"CIBERSORT-ABS\", rownames(pdxes_NS))] <- \"CIBERSORT\"\n",
    "pdxes_NS$Tool[grepl(\"EPIC\", rownames(pdxes_NS))] <- \"EPIC\"\n",
    "pdxes_NS$Tool[grepl(\"XCELL\", rownames(pdxes_NS))] <- \"XCELL\"\n",
    "pdxes_NS$Tool[grepl(\"MCPCOUNTER\", rownames(pdxes_NS))] <- \"MCPCOUNTER\"\n",
    "pdxes_NS$Tool[grepl(\"QUANTISEQ\", rownames(pdxes_NS))] <- \"QUANTISEQ\"\n",
    "\n",
    "pdxes_NS <- pdxes_NS[ !is.na(pdxes_NS$Tool),]\n",
    "\n",
    "pdxes_NS <- pdxes_NS[! grepl(\"uncharacterized\", rownames(pdxes_NS)),]\n",
    "pdxes_NS <- pdxes_NS[! grepl(\"fibroblast\", rownames(pdxes_NS)),]\n",
    "pdxes_NS <- pdxes_NS[! grepl(\"Endothelial\", rownames(pdxes_NS)),]\n",
    "pdxes_NS <- pdxes_NS[! grepl(\"Hematopoietic\", rownames(pdxes_NS)),]\n",
    "pdxes_NS <- pdxes_NS[! grepl(\"progenitor\", rownames(pdxes_NS)),]\n",
    "pdxes_NS <- pdxes_NS[! grepl(\"score\", rownames(pdxes_NS)),]"
   ]
  },
  {
   "cell_type": "markdown",
   "metadata": {},
   "source": [
    "pediatric cohort"
   ]
  },
  {
   "cell_type": "code",
   "execution_count": 18,
   "metadata": {},
   "outputs": [],
   "source": [
    "ipdfilelist <- list.files(paste0(datapath, \"TIMER2\"), full.names = T, pattern = \"IPD\")"
   ]
  },
  {
   "cell_type": "code",
   "execution_count": 19,
   "metadata": {},
   "outputs": [],
   "source": [
    "ipdfiles <- lapply(ipdfilelist, \n",
    "                    function(f){read.csv(f, header = TRUE, stringsAsFactors = F, check.names = F, row.names = 1)})"
   ]
  },
  {
   "cell_type": "code",
   "execution_count": 20,
   "metadata": {},
   "outputs": [],
   "source": [
    "ipd <- as.data.frame(do.call(\"cbind\", ipdfiles))"
   ]
  },
  {
   "cell_type": "code",
   "execution_count": 21,
   "metadata": {},
   "outputs": [],
   "source": [
    "ipd$Tool <- NA\n",
    "\n",
    "ipd$Tool[grepl(\"TIMER\", rownames(ipd))] <- \"TIMER\"\n",
    "ipd$Tool[grepl(\"CIBERSORT-ABS\", rownames(ipd))] <- \"CIBERSORT\"\n",
    "ipd$Tool[grepl(\"EPIC\", rownames(ipd))] <- \"EPIC\"\n",
    "ipd$Tool[grepl(\"XCELL\", rownames(ipd))] <- \"XCELL\"\n",
    "ipd$Tool[grepl(\"MCPCOUNTER\", rownames(ipd))] <- \"MCPCOUNTER\"\n",
    "ipd$Tool[grepl(\"QUANTISEQ\", rownames(ipd))] <- \"QUANTISEQ\"\n",
    "\n",
    "ipd <- ipd[ !is.na(ipd$Tool),]\n",
    "\n",
    "ipd <- ipd[! grepl(\"uncharacterized\", rownames(ipd)),]\n",
    "ipd <- ipd[! grepl(\"fibroblast\", rownames(ipd)),]\n",
    "ipd <- ipd[! grepl(\"Endothelial\", rownames(ipd)),]\n",
    "ipd <- ipd[! grepl(\"Hematopoietic\", rownames(ipd)),]\n",
    "ipd <- ipd[! grepl(\"progenitor\", rownames(ipd)),]\n",
    "ipd <- ipd[! grepl(\"score\", rownames(ipd)),]"
   ]
  },
  {
   "cell_type": "code",
   "execution_count": 22,
   "metadata": {},
   "outputs": [
    {
     "data": {
      "text/html": [
       "<table class=\"dataframe\">\n",
       "<caption>A data.frame: 6 × 926</caption>\n",
       "<thead>\n",
       "\t<tr><th></th><th scope=col>7316-1926</th><th scope=col>7316-489</th><th scope=col>7316-13</th><th scope=col>7316-3936</th><th scope=col>7316-873</th><th scope=col>7316-2669</th><th scope=col>7316-1928</th><th scope=col>7316-1655</th><th scope=col>7316-2622</th><th scope=col>7316-2893</th><th scope=col>⋯</th><th scope=col>ICGC_PA9</th><th scope=col>ICGC_PA91</th><th scope=col>ICGC_PA92</th><th scope=col>ICGC_PA93</th><th scope=col>ICGC_PA94</th><th scope=col>ICGC_PA95</th><th scope=col>ICGC_PA96</th><th scope=col>ICGC_PA97</th><th scope=col>ICGC_PA99</th><th scope=col>Tool</th></tr>\n",
       "\t<tr><th></th><th scope=col>&lt;dbl&gt;</th><th scope=col>&lt;dbl&gt;</th><th scope=col>&lt;dbl&gt;</th><th scope=col>&lt;dbl&gt;</th><th scope=col>&lt;dbl&gt;</th><th scope=col>&lt;dbl&gt;</th><th scope=col>&lt;dbl&gt;</th><th scope=col>&lt;dbl&gt;</th><th scope=col>&lt;dbl&gt;</th><th scope=col>&lt;dbl&gt;</th><th scope=col>⋯</th><th scope=col>&lt;dbl&gt;</th><th scope=col>&lt;dbl&gt;</th><th scope=col>&lt;dbl&gt;</th><th scope=col>&lt;dbl&gt;</th><th scope=col>&lt;dbl&gt;</th><th scope=col>&lt;dbl&gt;</th><th scope=col>&lt;dbl&gt;</th><th scope=col>&lt;dbl&gt;</th><th scope=col>&lt;dbl&gt;</th><th scope=col>&lt;chr&gt;</th></tr>\n",
       "</thead>\n",
       "<tbody>\n",
       "\t<tr><th scope=row>B cell_TIMER</th><td>0.11114425</td><td>0.11611975</td><td>0.10582922</td><td>0.12062264</td><td>0.1048779</td><td>0.09002500</td><td>0.10109619</td><td>0.11630829</td><td>0.10250018</td><td>0.11697583</td><td>⋯</td><td>0.07333418</td><td>0.09885760</td><td>0.12056792</td><td>0.10337852</td><td>0.11098718</td><td>0.1233815</td><td>0.11698242</td><td>0.1229399</td><td>0.1197387</td><td>TIMER</td></tr>\n",
       "\t<tr><th scope=row>T cell CD4+_TIMER</th><td>0.14728577</td><td>0.11134496</td><td>0.11449258</td><td>0.13064583</td><td>0.1128118</td><td>0.14274820</td><td>0.13957272</td><td>0.10436010</td><td>0.12537374</td><td>0.11911586</td><td>⋯</td><td>0.15815684</td><td>0.15476937</td><td>0.12944817</td><td>0.15868580</td><td>0.13287720</td><td>0.1285961</td><td>0.14576469</td><td>0.1360642</td><td>0.1246147</td><td>TIMER</td></tr>\n",
       "\t<tr><th scope=row>T cell CD8+_TIMER</th><td>0.16733361</td><td>0.15763933</td><td>0.15443051</td><td>0.13564482</td><td>0.1974449</td><td>0.20922331</td><td>0.15785296</td><td>0.16716281</td><td>0.15133843</td><td>0.15812169</td><td>⋯</td><td>0.17527154</td><td>0.15019200</td><td>0.15093640</td><td>0.13992376</td><td>0.18117034</td><td>0.1731253</td><td>0.19029317</td><td>0.1539969</td><td>0.1676000</td><td>TIMER</td></tr>\n",
       "\t<tr><th scope=row>Neutrophil_TIMER</th><td>0.12236757</td><td>0.11975367</td><td>0.11723148</td><td>0.12174969</td><td>0.1178112</td><td>0.10288314</td><td>0.11580422</td><td>0.12132735</td><td>0.11134011</td><td>0.11847280</td><td>⋯</td><td>0.09388185</td><td>0.10634726</td><td>0.11687208</td><td>0.10176411</td><td>0.11074904</td><td>0.1177851</td><td>0.11615019</td><td>0.1200961</td><td>0.1155803</td><td>TIMER</td></tr>\n",
       "\t<tr><th scope=row>Macrophage_TIMER</th><td>0.09831367</td><td>0.05046498</td><td>0.03950788</td><td>0.06633813</td><td>0.0546305</td><td>0.06462126</td><td>0.05083376</td><td>0.04744861</td><td>0.03161462</td><td>0.04560362</td><td>⋯</td><td>0.08866929</td><td>0.05995271</td><td>0.07207303</td><td>0.09633691</td><td>0.08331232</td><td>0.0928509</td><td>0.07524825</td><td>0.1058702</td><td>0.1043336</td><td>TIMER</td></tr>\n",
       "\t<tr><th scope=row>Myeloid dendritic cell_TIMER</th><td>0.48052844</td><td>0.41369568</td><td>0.43099075</td><td>0.41870126</td><td>0.4647730</td><td>0.51696596</td><td>0.47036732</td><td>0.39974376</td><td>0.44782612</td><td>0.41185838</td><td>⋯</td><td>0.58499473</td><td>0.54897078</td><td>0.48845811</td><td>0.54948887</td><td>0.51671151</td><td>0.5059634</td><td>0.53038980</td><td>0.5057743</td><td>0.4937483</td><td>TIMER</td></tr>\n",
       "</tbody>\n",
       "</table>\n"
      ],
      "text/latex": [
       "A data.frame: 6 × 926\n",
       "\\begin{tabular}{r|lllllllllllllllllllll}\n",
       "  & 7316-1926 & 7316-489 & 7316-13 & 7316-3936 & 7316-873 & 7316-2669 & 7316-1928 & 7316-1655 & 7316-2622 & 7316-2893 & ⋯ & ICGC\\_PA9 & ICGC\\_PA91 & ICGC\\_PA92 & ICGC\\_PA93 & ICGC\\_PA94 & ICGC\\_PA95 & ICGC\\_PA96 & ICGC\\_PA97 & ICGC\\_PA99 & Tool\\\\\n",
       "  & <dbl> & <dbl> & <dbl> & <dbl> & <dbl> & <dbl> & <dbl> & <dbl> & <dbl> & <dbl> & ⋯ & <dbl> & <dbl> & <dbl> & <dbl> & <dbl> & <dbl> & <dbl> & <dbl> & <dbl> & <chr>\\\\\n",
       "\\hline\n",
       "\tB cell\\_TIMER & 0.11114425 & 0.11611975 & 0.10582922 & 0.12062264 & 0.1048779 & 0.09002500 & 0.10109619 & 0.11630829 & 0.10250018 & 0.11697583 & ⋯ & 0.07333418 & 0.09885760 & 0.12056792 & 0.10337852 & 0.11098718 & 0.1233815 & 0.11698242 & 0.1229399 & 0.1197387 & TIMER\\\\\n",
       "\tT cell CD4+\\_TIMER & 0.14728577 & 0.11134496 & 0.11449258 & 0.13064583 & 0.1128118 & 0.14274820 & 0.13957272 & 0.10436010 & 0.12537374 & 0.11911586 & ⋯ & 0.15815684 & 0.15476937 & 0.12944817 & 0.15868580 & 0.13287720 & 0.1285961 & 0.14576469 & 0.1360642 & 0.1246147 & TIMER\\\\\n",
       "\tT cell CD8+\\_TIMER & 0.16733361 & 0.15763933 & 0.15443051 & 0.13564482 & 0.1974449 & 0.20922331 & 0.15785296 & 0.16716281 & 0.15133843 & 0.15812169 & ⋯ & 0.17527154 & 0.15019200 & 0.15093640 & 0.13992376 & 0.18117034 & 0.1731253 & 0.19029317 & 0.1539969 & 0.1676000 & TIMER\\\\\n",
       "\tNeutrophil\\_TIMER & 0.12236757 & 0.11975367 & 0.11723148 & 0.12174969 & 0.1178112 & 0.10288314 & 0.11580422 & 0.12132735 & 0.11134011 & 0.11847280 & ⋯ & 0.09388185 & 0.10634726 & 0.11687208 & 0.10176411 & 0.11074904 & 0.1177851 & 0.11615019 & 0.1200961 & 0.1155803 & TIMER\\\\\n",
       "\tMacrophage\\_TIMER & 0.09831367 & 0.05046498 & 0.03950788 & 0.06633813 & 0.0546305 & 0.06462126 & 0.05083376 & 0.04744861 & 0.03161462 & 0.04560362 & ⋯ & 0.08866929 & 0.05995271 & 0.07207303 & 0.09633691 & 0.08331232 & 0.0928509 & 0.07524825 & 0.1058702 & 0.1043336 & TIMER\\\\\n",
       "\tMyeloid dendritic cell\\_TIMER & 0.48052844 & 0.41369568 & 0.43099075 & 0.41870126 & 0.4647730 & 0.51696596 & 0.47036732 & 0.39974376 & 0.44782612 & 0.41185838 & ⋯ & 0.58499473 & 0.54897078 & 0.48845811 & 0.54948887 & 0.51671151 & 0.5059634 & 0.53038980 & 0.5057743 & 0.4937483 & TIMER\\\\\n",
       "\\end{tabular}\n"
      ],
      "text/markdown": [
       "\n",
       "A data.frame: 6 × 926\n",
       "\n",
       "| <!--/--> | 7316-1926 &lt;dbl&gt; | 7316-489 &lt;dbl&gt; | 7316-13 &lt;dbl&gt; | 7316-3936 &lt;dbl&gt; | 7316-873 &lt;dbl&gt; | 7316-2669 &lt;dbl&gt; | 7316-1928 &lt;dbl&gt; | 7316-1655 &lt;dbl&gt; | 7316-2622 &lt;dbl&gt; | 7316-2893 &lt;dbl&gt; | ⋯ ⋯ | ICGC_PA9 &lt;dbl&gt; | ICGC_PA91 &lt;dbl&gt; | ICGC_PA92 &lt;dbl&gt; | ICGC_PA93 &lt;dbl&gt; | ICGC_PA94 &lt;dbl&gt; | ICGC_PA95 &lt;dbl&gt; | ICGC_PA96 &lt;dbl&gt; | ICGC_PA97 &lt;dbl&gt; | ICGC_PA99 &lt;dbl&gt; | Tool &lt;chr&gt; |\n",
       "|---|---|---|---|---|---|---|---|---|---|---|---|---|---|---|---|---|---|---|---|---|---|\n",
       "| B cell_TIMER | 0.11114425 | 0.11611975 | 0.10582922 | 0.12062264 | 0.1048779 | 0.09002500 | 0.10109619 | 0.11630829 | 0.10250018 | 0.11697583 | ⋯ | 0.07333418 | 0.09885760 | 0.12056792 | 0.10337852 | 0.11098718 | 0.1233815 | 0.11698242 | 0.1229399 | 0.1197387 | TIMER |\n",
       "| T cell CD4+_TIMER | 0.14728577 | 0.11134496 | 0.11449258 | 0.13064583 | 0.1128118 | 0.14274820 | 0.13957272 | 0.10436010 | 0.12537374 | 0.11911586 | ⋯ | 0.15815684 | 0.15476937 | 0.12944817 | 0.15868580 | 0.13287720 | 0.1285961 | 0.14576469 | 0.1360642 | 0.1246147 | TIMER |\n",
       "| T cell CD8+_TIMER | 0.16733361 | 0.15763933 | 0.15443051 | 0.13564482 | 0.1974449 | 0.20922331 | 0.15785296 | 0.16716281 | 0.15133843 | 0.15812169 | ⋯ | 0.17527154 | 0.15019200 | 0.15093640 | 0.13992376 | 0.18117034 | 0.1731253 | 0.19029317 | 0.1539969 | 0.1676000 | TIMER |\n",
       "| Neutrophil_TIMER | 0.12236757 | 0.11975367 | 0.11723148 | 0.12174969 | 0.1178112 | 0.10288314 | 0.11580422 | 0.12132735 | 0.11134011 | 0.11847280 | ⋯ | 0.09388185 | 0.10634726 | 0.11687208 | 0.10176411 | 0.11074904 | 0.1177851 | 0.11615019 | 0.1200961 | 0.1155803 | TIMER |\n",
       "| Macrophage_TIMER | 0.09831367 | 0.05046498 | 0.03950788 | 0.06633813 | 0.0546305 | 0.06462126 | 0.05083376 | 0.04744861 | 0.03161462 | 0.04560362 | ⋯ | 0.08866929 | 0.05995271 | 0.07207303 | 0.09633691 | 0.08331232 | 0.0928509 | 0.07524825 | 0.1058702 | 0.1043336 | TIMER |\n",
       "| Myeloid dendritic cell_TIMER | 0.48052844 | 0.41369568 | 0.43099075 | 0.41870126 | 0.4647730 | 0.51696596 | 0.47036732 | 0.39974376 | 0.44782612 | 0.41185838 | ⋯ | 0.58499473 | 0.54897078 | 0.48845811 | 0.54948887 | 0.51671151 | 0.5059634 | 0.53038980 | 0.5057743 | 0.4937483 | TIMER |\n",
       "\n"
      ],
      "text/plain": [
       "                             7316-1926  7316-489   7316-13    7316-3936 \n",
       "B cell_TIMER                 0.11114425 0.11611975 0.10582922 0.12062264\n",
       "T cell CD4+_TIMER            0.14728577 0.11134496 0.11449258 0.13064583\n",
       "T cell CD8+_TIMER            0.16733361 0.15763933 0.15443051 0.13564482\n",
       "Neutrophil_TIMER             0.12236757 0.11975367 0.11723148 0.12174969\n",
       "Macrophage_TIMER             0.09831367 0.05046498 0.03950788 0.06633813\n",
       "Myeloid dendritic cell_TIMER 0.48052844 0.41369568 0.43099075 0.41870126\n",
       "                             7316-873  7316-2669  7316-1928  7316-1655 \n",
       "B cell_TIMER                 0.1048779 0.09002500 0.10109619 0.11630829\n",
       "T cell CD4+_TIMER            0.1128118 0.14274820 0.13957272 0.10436010\n",
       "T cell CD8+_TIMER            0.1974449 0.20922331 0.15785296 0.16716281\n",
       "Neutrophil_TIMER             0.1178112 0.10288314 0.11580422 0.12132735\n",
       "Macrophage_TIMER             0.0546305 0.06462126 0.05083376 0.04744861\n",
       "Myeloid dendritic cell_TIMER 0.4647730 0.51696596 0.47036732 0.39974376\n",
       "                             7316-2622  7316-2893  ⋯ ICGC_PA9   ICGC_PA91 \n",
       "B cell_TIMER                 0.10250018 0.11697583 ⋯ 0.07333418 0.09885760\n",
       "T cell CD4+_TIMER            0.12537374 0.11911586 ⋯ 0.15815684 0.15476937\n",
       "T cell CD8+_TIMER            0.15133843 0.15812169 ⋯ 0.17527154 0.15019200\n",
       "Neutrophil_TIMER             0.11134011 0.11847280 ⋯ 0.09388185 0.10634726\n",
       "Macrophage_TIMER             0.03161462 0.04560362 ⋯ 0.08866929 0.05995271\n",
       "Myeloid dendritic cell_TIMER 0.44782612 0.41185838 ⋯ 0.58499473 0.54897078\n",
       "                             ICGC_PA92  ICGC_PA93  ICGC_PA94  ICGC_PA95\n",
       "B cell_TIMER                 0.12056792 0.10337852 0.11098718 0.1233815\n",
       "T cell CD4+_TIMER            0.12944817 0.15868580 0.13287720 0.1285961\n",
       "T cell CD8+_TIMER            0.15093640 0.13992376 0.18117034 0.1731253\n",
       "Neutrophil_TIMER             0.11687208 0.10176411 0.11074904 0.1177851\n",
       "Macrophage_TIMER             0.07207303 0.09633691 0.08331232 0.0928509\n",
       "Myeloid dendritic cell_TIMER 0.48845811 0.54948887 0.51671151 0.5059634\n",
       "                             ICGC_PA96  ICGC_PA97 ICGC_PA99 Tool \n",
       "B cell_TIMER                 0.11698242 0.1229399 0.1197387 TIMER\n",
       "T cell CD4+_TIMER            0.14576469 0.1360642 0.1246147 TIMER\n",
       "T cell CD8+_TIMER            0.19029317 0.1539969 0.1676000 TIMER\n",
       "Neutrophil_TIMER             0.11615019 0.1200961 0.1155803 TIMER\n",
       "Macrophage_TIMER             0.07524825 0.1058702 0.1043336 TIMER\n",
       "Myeloid dendritic cell_TIMER 0.53038980 0.5057743 0.4937483 TIMER"
      ]
     },
     "metadata": {},
     "output_type": "display_data"
    }
   ],
   "source": [
    "head(ipd)"
   ]
  },
  {
   "cell_type": "markdown",
   "metadata": {},
   "source": [
    "## Annotations for cohorts"
   ]
  },
  {
   "cell_type": "code",
   "execution_count": 23,
   "metadata": {},
   "outputs": [],
   "source": [
    "ped <- ped[ ped$sample_id != \"H049-SPP6\",]"
   ]
  },
  {
   "cell_type": "markdown",
   "metadata": {},
   "source": [
    "Sample above was not available in hg38"
   ]
  },
  {
   "cell_type": "code",
   "execution_count": 24,
   "metadata": {},
   "outputs": [],
   "source": [
    "mycohort <- ped$cohort\n",
    "names(mycohort) <- ped$sample_id"
   ]
  },
  {
   "cell_type": "code",
   "execution_count": 25,
   "metadata": {},
   "outputs": [
    {
     "data": {
      "text/html": [
       "925"
      ],
      "text/latex": [
       "925"
      ],
      "text/markdown": [
       "925"
      ],
      "text/plain": [
       "[1] 925"
      ]
     },
     "metadata": {},
     "output_type": "display_data"
    }
   ],
   "source": [
    "length(ped$cohort)"
   ]
  },
  {
   "cell_type": "code",
   "execution_count": 37,
   "metadata": {},
   "outputs": [],
   "source": [
    "cohort_ha <- HeatmapAnnotation(cohort = mycohort, show_annotation_name = FALSE, col = list(cohort = cohort_col),\n",
    "                             simple_anno_size = unit(1, \"cm\"))"
   ]
  },
  {
   "cell_type": "code",
   "execution_count": 38,
   "metadata": {},
   "outputs": [],
   "source": [
    "pdx_cohort_ha <- HeatmapAnnotation(cohort = pdx_cohort, show_annotation_name = FALSE, col = list(cohort = cohort_col),\n",
    "                                 simple_anno_size = unit(1, \"cm\"))"
   ]
  },
  {
   "cell_type": "code",
   "execution_count": 39,
   "metadata": {},
   "outputs": [
    {
     "name": "stderr",
     "output_type": "stream",
     "text": [
      "Warning message:\n",
      "“Heatmap/annotation names are duplicated: CIBERSORT”\n"
     ]
    },
    {
     "data": {
      "text/html": [
       "<strong>pdf:</strong> 2"
      ],
      "text/latex": [
       "\\textbf{pdf:} 2"
      ],
      "text/markdown": [
       "**pdf:** 2"
      ],
      "text/plain": [
       "pdf \n",
       "  2 "
      ]
     },
     "metadata": {},
     "output_type": "display_data"
    }
   ],
   "source": [
    "# colors set after manual inspection, so both pdx and ped heatmaps have the same scale (min and max match in both heatmaps)\n",
    "col_fun= colorRamp2(c(0, 0.8), c(\"#fef0d9\", \"#d7301f\"))\n",
    "\n",
    "pdf(paste0(plotpath, \"IPD_PDX_CIBERSORT.pdf\"),\n",
    "   width = 16, height = 10)\n",
    "\n",
    "heatmap_fx(ipd, pdxes_NS, cohort_ha, pdx_cohort_ha, \"CIBERSORT\", col_fun)\n",
    "\n",
    "dev.off()"
   ]
  },
  {
   "cell_type": "code",
   "execution_count": 40,
   "metadata": {},
   "outputs": [
    {
     "name": "stderr",
     "output_type": "stream",
     "text": [
      "Warning message:\n",
      "“Heatmap/annotation names are duplicated: EPIC”\n"
     ]
    },
    {
     "data": {
      "text/html": [
       "<strong>pdf:</strong> 2"
      ],
      "text/latex": [
       "\\textbf{pdf:} 2"
      ],
      "text/markdown": [
       "**pdf:** 2"
      ],
      "text/plain": [
       "pdf \n",
       "  2 "
      ]
     },
     "metadata": {},
     "output_type": "display_data"
    }
   ],
   "source": [
    "col_fun= colorRamp2(c(0, 0.1), c(\"#fef0d9\", \"#d7301f\"))\n",
    "\n",
    "pdf(paste0(plotpath, \"IPD_PDX_EPIC.pdf\"),\n",
    "   width = 16, height = 10)\n",
    "\n",
    "heatmap_fx(ipd, pdxes_NS, cohort_ha, pdx_cohort_ha, \"EPIC\", col_fun)\n",
    "\n",
    "dev.off()"
   ]
  },
  {
   "cell_type": "code",
   "execution_count": 41,
   "metadata": {},
   "outputs": [
    {
     "name": "stderr",
     "output_type": "stream",
     "text": [
      "Warning message:\n",
      "“Heatmap/annotation names are duplicated: TIMER”\n"
     ]
    },
    {
     "data": {
      "text/html": [
       "<strong>pdf:</strong> 2"
      ],
      "text/latex": [
       "\\textbf{pdf:} 2"
      ],
      "text/markdown": [
       "**pdf:** 2"
      ],
      "text/plain": [
       "pdf \n",
       "  2 "
      ]
     },
     "metadata": {},
     "output_type": "display_data"
    }
   ],
   "source": [
    "col_fun= colorRamp2(c(0, 0.6), c(\"#fef0d9\", \"#d7301f\"))\n",
    "\n",
    "pdf(paste0(plotpath, \"IPD_PDX_TIMER.pdf\"),\n",
    "   width = 16, height = 10)\n",
    "\n",
    "heatmap_fx(ipd, pdxes_NS, cohort_ha, pdx_cohort_ha, \"TIMER\", col_fun)\n",
    "\n",
    "dev.off()"
   ]
  },
  {
   "cell_type": "code",
   "execution_count": 42,
   "metadata": {},
   "outputs": [
    {
     "name": "stderr",
     "output_type": "stream",
     "text": [
      "Warning message:\n",
      "“Heatmap/annotation names are duplicated: MCPCOUNTER”\n"
     ]
    },
    {
     "data": {
      "text/html": [
       "<strong>pdf:</strong> 2"
      ],
      "text/latex": [
       "\\textbf{pdf:} 2"
      ],
      "text/markdown": [
       "**pdf:** 2"
      ],
      "text/plain": [
       "pdf \n",
       "  2 "
      ]
     },
     "metadata": {},
     "output_type": "display_data"
    }
   ],
   "source": [
    "col_fun= colorRamp2(c(0, 80), c(\"#fef0d9\", \"#d7301f\"))\n",
    "\n",
    "pdf(paste0(plotpath, \"IPD_PDX_MCPCOUNTER.pdf\"),\n",
    "   width = 16, height = 10)\n",
    "\n",
    "heatmap_fx(ipd, pdxes_NS, cohort_ha, pdx_cohort_ha, \"MCPCOUNTER\", col_fun)\n",
    "\n",
    "dev.off()"
   ]
  },
  {
   "cell_type": "code",
   "execution_count": 43,
   "metadata": {},
   "outputs": [
    {
     "name": "stderr",
     "output_type": "stream",
     "text": [
      "Warning message:\n",
      "“Heatmap/annotation names are duplicated: XCELL”\n"
     ]
    },
    {
     "data": {
      "text/html": [
       "<strong>pdf:</strong> 2"
      ],
      "text/latex": [
       "\\textbf{pdf:} 2"
      ],
      "text/markdown": [
       "**pdf:** 2"
      ],
      "text/plain": [
       "pdf \n",
       "  2 "
      ]
     },
     "metadata": {},
     "output_type": "display_data"
    }
   ],
   "source": [
    "col_fun= colorRamp2(c(0, 0.3), c(\"#fef0d9\", \"#d7301f\"))\n",
    "\n",
    "pdf(paste0(plotpath, \"IPD_PDX_XCELL.pdf\"),\n",
    "   width = 16, height = 16)\n",
    "\n",
    "heatmap_fx(ipd, pdxes_NS, cohort_ha, pdx_cohort_ha, \"XCELL\", col_fun)\n",
    "\n",
    "dev.off()"
   ]
  },
  {
   "cell_type": "code",
   "execution_count": null,
   "metadata": {},
   "outputs": [],
   "source": []
  }
 ],
 "metadata": {
  "kernelspec": {
   "display_name": "R 4.0",
   "language": "R",
   "name": "ir40"
  },
  "language_info": {
   "codemirror_mode": "r",
   "file_extension": ".r",
   "mimetype": "text/x-r-source",
   "name": "R",
   "pygments_lexer": "r",
   "version": "4.0.3"
  },
  "toc": {
   "base_numbering": 1,
   "nav_menu": {},
   "number_sections": false,
   "sideBar": true,
   "skip_h1_title": false,
   "title_cell": "Table of Contents",
   "title_sidebar": "Contents",
   "toc_cell": true,
   "toc_position": {
    "height": "calc(100% - 180px)",
    "left": "10px",
    "top": "150px",
    "width": "203.663px"
   },
   "toc_section_display": true,
   "toc_window_display": true
  }
 },
 "nbformat": 4,
 "nbformat_minor": 2
}
