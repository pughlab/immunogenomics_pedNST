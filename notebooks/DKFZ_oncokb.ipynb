{
 "cells": [
  {
   "cell_type": "markdown",
   "metadata": {
    "toc": true
   },
   "source": [
    "<h1>Table of Contents<span class=\"tocSkip\"></span></h1>\n",
    "<div class=\"toc\"><ul class=\"toc-item\"><li><span><a href=\"#Dependencies\" data-toc-modified-id=\"Dependencies-1\">Dependencies</a></span></li><li><span><a href=\"#Paths\" data-toc-modified-id=\"Paths-2\">Paths</a></span></li><li><span><a href=\"#Main\" data-toc-modified-id=\"Main-3\">Main</a></span></li></ul></div>"
   ]
  },
  {
   "cell_type": "markdown",
   "metadata": {},
   "source": [
    "# Dependencies"
   ]
  },
  {
   "cell_type": "code",
   "execution_count": 2,
   "metadata": {},
   "outputs": [],
   "source": [
    "options(scipen = 999)"
   ]
  },
  {
   "cell_type": "code",
   "execution_count": 3,
   "metadata": {},
   "outputs": [
    {
     "name": "stderr",
     "output_type": "stream",
     "text": [
      "── \u001b[1mAttaching packages\u001b[22m ──────────────────────────────────────── tidyverse 1.3.1 ──\n",
      "\n",
      "\u001b[32m✔\u001b[39m \u001b[34mggplot2\u001b[39m 3.3.3     \u001b[32m✔\u001b[39m \u001b[34mpurrr  \u001b[39m 0.3.4\n",
      "\u001b[32m✔\u001b[39m \u001b[34mtibble \u001b[39m 3.1.1     \u001b[32m✔\u001b[39m \u001b[34mdplyr  \u001b[39m 1.0.6\n",
      "\u001b[32m✔\u001b[39m \u001b[34mtidyr  \u001b[39m 1.1.3     \u001b[32m✔\u001b[39m \u001b[34mstringr\u001b[39m 1.4.0\n",
      "\u001b[32m✔\u001b[39m \u001b[34mreadr  \u001b[39m 1.4.0     \u001b[32m✔\u001b[39m \u001b[34mforcats\u001b[39m 0.5.1\n",
      "\n",
      "── \u001b[1mConflicts\u001b[22m ─────────────────────────────────────────── tidyverse_conflicts() ──\n",
      "\u001b[31m✖\u001b[39m \u001b[34mdplyr\u001b[39m::\u001b[32mfilter()\u001b[39m masks \u001b[34mstats\u001b[39m::filter()\n",
      "\u001b[31m✖\u001b[39m \u001b[34mdplyr\u001b[39m::\u001b[32mlag()\u001b[39m    masks \u001b[34mstats\u001b[39m::lag()\n",
      "\n"
     ]
    }
   ],
   "source": [
    "library(tidyverse)"
   ]
  },
  {
   "cell_type": "markdown",
   "metadata": {},
   "source": [
    "# Paths"
   ]
  },
  {
   "cell_type": "code",
   "execution_count": 4,
   "metadata": {},
   "outputs": [],
   "source": [
    "manifestpath <- \"/Users/anabbi/OneDrive - UHN/Documents/IPD2/Manifests/\"\n",
    "datapath <- \"/Users/anabbi/OneDrive - UHN/Documents/IPD2/Data/\"\n",
    "plotpath <- \"/Users/anabbi/OneDrive - UHN/Documents/IPD2/Plots/\""
   ]
  },
  {
   "cell_type": "markdown",
   "metadata": {},
   "source": [
    "# Main"
   ]
  },
  {
   "cell_type": "code",
   "execution_count": 5,
   "metadata": {},
   "outputs": [],
   "source": [
    "vcfpath <- \"/Users/anabbi/OneDrive - UHN/Documents/ImmPedCan/Finaldata/vcfs_DKFZ/vcfFiles4Arash/\""
   ]
  },
  {
   "cell_type": "code",
   "execution_count": 6,
   "metadata": {},
   "outputs": [],
   "source": [
    "vcflist <- list.files(path = \"/Users/anabbi/OneDrive - UHN/Documents/ImmPedCan/Finaldata/vcfs_DKFZ/vcfFiles4Arash\", \n",
    "                     pattern = \"CommonRegionFiltered\")"
   ]
  },
  {
   "cell_type": "code",
   "execution_count": 7,
   "metadata": {},
   "outputs": [],
   "source": [
    "cols_snv <- c(\"Chr\", \"Start\", \"End\", \"ID\", \"REF\", \"ALT\", \"QUAL\", \"FILTER\", \"INFO\", \"FORMAT\", \"File\", \n",
    "         \"SEQUENCE_CONTEXT\", \"INFO_Control\", \"ANNOTATION_control\", \"DBSNP\", \"1K_GENOMES\", \n",
    "              \"ANNOVAR_FUNCTION\", \"GENE\", \"EXONIC_CLASSIFICATION\",\"ANNOVAR_TRANSCRIPTS\", \".\")"
   ]
  },
  {
   "cell_type": "code",
   "execution_count": 8,
   "metadata": {},
   "outputs": [],
   "source": [
    "cols_indel <- c(\"Chr\", \"Start\", \"End\", \"ID\", \"REF\", \"ALT\", \"QUAL\", \"FILTER\", \"INFO\", \"FORMAT\", \"Allele1\", \"Allele2\",\n",
    "                \"DBSNP\",  \"1K_GENOMES\", \"ANNOVAR_FUNCTION\", \"GENE\", \"EXONIC_CLASSIFICATION\", \"ANNOVAR_TRANSCRIPTS\",\n",
    "                \"Score\", \"CHROM\", \".\")"
   ]
  },
  {
   "cell_type": "code",
   "execution_count": 9,
   "metadata": {},
   "outputs": [],
   "source": [
    "get_cols <- c(\"Chr\", \"Start\", \"End\", \"ID\", \"REF\", \"ALT\", \"QUAL\", \"FILTER\", \"INFO\", \"FORMAT\",\n",
    "                \"ANNOVAR_FUNCTION\", \"GENE\", \"EXONIC_CLASSIFICATION\", \"ANNOVAR_TRANSCRIPTS\")"
   ]
  },
  {
   "cell_type": "code",
   "execution_count": 36,
   "metadata": {},
   "outputs": [],
   "source": [
    "tmp <- lapply(vcflist, function(x)readLines(paste0(vcfpath,x), n = 1))"
   ]
  },
  {
   "cell_type": "code",
   "execution_count": 37,
   "metadata": {},
   "outputs": [],
   "source": [
    "names(tmp) <- vcflist"
   ]
  },
  {
   "cell_type": "code",
   "execution_count": 39,
   "metadata": {},
   "outputs": [],
   "source": [
    "tmp <- tmp[sapply(tmp, function(x) length(unlist(x))) > 0]"
   ]
  },
  {
   "cell_type": "code",
   "execution_count": 68,
   "metadata": {},
   "outputs": [
    {
     "data": {
      "text/html": [
       "<table class=\"dataframe\">\n",
       "<caption>A data.frame: 19 × 21</caption>\n",
       "<thead>\n",
       "\t<tr><th scope=col>V1</th><th scope=col>V2</th><th scope=col>V3</th><th scope=col>V4</th><th scope=col>V5</th><th scope=col>V6</th><th scope=col>V7</th><th scope=col>V8</th><th scope=col>V9</th><th scope=col>V10</th><th scope=col>⋯</th><th scope=col>V12</th><th scope=col>V13</th><th scope=col>V14</th><th scope=col>V15</th><th scope=col>V16</th><th scope=col>V17</th><th scope=col>V18</th><th scope=col>V19</th><th scope=col>V20</th><th scope=col>V21</th></tr>\n",
       "\t<tr><th scope=col>&lt;chr&gt;</th><th scope=col>&lt;int&gt;</th><th scope=col>&lt;int&gt;</th><th scope=col>&lt;chr&gt;</th><th scope=col>&lt;chr&gt;</th><th scope=col>&lt;chr&gt;</th><th scope=col>&lt;chr&gt;</th><th scope=col>&lt;chr&gt;</th><th scope=col>&lt;chr&gt;</th><th scope=col>&lt;chr&gt;</th><th scope=col>⋯</th><th scope=col>&lt;chr&gt;</th><th scope=col>&lt;chr&gt;</th><th scope=col>&lt;chr&gt;</th><th scope=col>&lt;chr&gt;</th><th scope=col>&lt;chr&gt;</th><th scope=col>&lt;chr&gt;</th><th scope=col>&lt;chr&gt;</th><th scope=col>&lt;chr&gt;</th><th scope=col>&lt;chr&gt;</th><th scope=col>&lt;chr&gt;</th></tr>\n",
       "</thead>\n",
       "<tbody>\n",
       "\t<tr><td>chr2 </td><td> 97427962</td><td> 97427963</td><td>.                    </td><td>C</td><td>T </td><td>164     </td><td>PASS</td><td>DP=81;VDB=1.182019e-01;RPB=5.070410e-01;AF1=0.5;AC1=1;DP4=24,33,7,11;MQ=60;FQ=167;PV4=1,0.35,1,0.16;ACGTNacgtnPLUS=0,18,0,6,0,0,14,0,5,0;ACGTNacgtnMINUS=0,6,0,2,0,0,20,0,6,0                             </td><td>GT:PL:GQ          </td><td>⋯</td><td>ACTCGCATCC,GGTGTTCGAA             </td><td>DP=55;DP5=28,27,0,0,0;DP5all=28,27,0,0,0;ACGTNacgtnHQ=0,28,0,0,0,0,27,0,0,0;ACGTNacgtn=0,28,0,0,0,0,27,0,0,0;VAF=0.00;TSR=0;PBINOM=2.7755575615629e-17                         </td><td>somatic</td><td>.                                                                                                                                                                                                   </td><td>.                                                                                                                                                                   </td><td>exonic         </td><td>CNNM4                                                                                                                                                                                  </td><td>nonsynonymous SNV                 </td><td>CNNM4:ENST00000377075.2:exon1:c.C1226T:p.P409L,                                                                                                                                                                                                                               </td><td>.                                 </td></tr>\n",
       "\t<tr><td>chr2 </td><td>102626209</td><td>102626210</td><td>rs139061430          </td><td>C</td><td>T </td><td>156     </td><td>PASS</td><td>DP=88;VDB=8.060930e-02;RPB=-1.237956e+00;AF1=0.5;AC1=1;DP4=36,32,11,8;MQ=60;FQ=159;PV4=0.8,0.49,1,1;ACGTNacgtnPLUS=0,18,0,4,0,0,15,0,3,0;ACGTNacgtnMINUS=0,18,0,7,0,0,17,0,5,0                            </td><td>GT:PL:GQ          </td><td>⋯</td><td>AGAAGAGACA,GGATGTGGGC             </td><td>DP=29;DP5=14,15,0,0,0;DP5all=14,15,0,0,0;ACGTNacgtnHQ=0,14,0,0,0,0,15,0,0,0;ACGTNacgtn=0,14,0,0,0,0,15,0,0,0;VAF=0.00;TSR=0;PBINOM=1.86264514923096e-09                        </td><td>somatic</td><td>MATCH=exact;RS=139061430;RSPOS=102626209;dbSNPBuildID=134;SSR=0;SAO=0;VP=0x050200000a05040002000100;WGT=1;VC=SNV;S3D;NSM;REF;ASP;VLD;OTHERKG;ID=rs139061430                                         </td><td>.                                                                                                                                                                   </td><td>exonic         </td><td>IL1R2                                                                                                                                                                                  </td><td>nonsynonymous SNV                 </td><td>IL1R2:ENST00000457817.1:exon3:c.C253T:p.R85W,IL1R2:ENST00000393414.2:exon3:c.C253T:p.R85W,IL1R2:ENST00000441002.1:exon2:c.C253T:p.R85W,IL1R2:ENST00000332549.3:exon3:c.C253T:p.R85W,                                                                                          </td><td>.                                 </td></tr>\n",
       "\t<tr><td>chr2 </td><td>160035647</td><td>160035648</td><td>.                    </td><td>A</td><td>G </td><td>1.73e-10</td><td>PASS</td><td>DP=76;VDB=6.164088e-02;RPB=1.774484e+00;AF1=0;AC1=0;DP4=9,42,6,0;MQ=60;FQ=-101;PV4=0.00012,2.2e-05,1,1;ACGTNacgtnPLUS=5,0,2,0,0,18,0,0,0,0;ACGTNacgtnMINUS=4,0,4,0,0,25,0,0,0,0                           </td><td>GT:PL:GQ          </td><td>⋯</td><td>GCAGACGGGG,AAACACGGCC             </td><td>DP=20;DP5=9,9,0,0,0;DP5all=11,9,0,0,0;ACGTNacgtnHQ=9,0,0,0,0,9,0,0,0,0;ACGTNacgtn=11,0,0,0,0,9,0,0,0,0;VAF=0.00;TSR=0;PBINOM=3.814697265625e-06                                </td><td>somatic</td><td>.                                                                                                                                                                                                   </td><td>.                                                                                                                                                                   </td><td>exonic         </td><td>TANC1                                                                                                                                                                                  </td><td>nonsynonymous SNV                 </td><td>TANC1:ENST00000454300.1:exon12:c.A2165G:p.E722G,TANC1:ENST00000263635.6:exon14:c.A2483G:p.E828G,                                                                                                                                                                              </td><td>.                                 </td></tr>\n",
       "\t<tr><td>chr9 </td><td>113169965</td><td>113169966</td><td>rs374237607          </td><td>C</td><td>T </td><td>225     </td><td>PASS</td><td>DP=47;VDB=1.810776e-01;RPB=-4.710881e-01;AF1=0.5;AC1=1;DP4=16,10,10,8;MQ=60;FQ=225;PV4=0.76,0.089,1,0.27;ACGTNacgtnPLUS=0,6,0,3,0,0,4,0,5,0;ACGTNacgtnMINUS=0,10,0,7,0,0,6,0,4,0                          </td><td>GT:PL:GQ          </td><td>⋯</td><td>TCCATCATGT,GTCTTCTTGC             </td><td>DP=10;DP5=2,8,0,0,0;DP5all=2,8,0,0,0;ACGTNacgtnHQ=0,2,0,0,0,0,8,0,0,0;ACGTNacgtn=0,2,0,0,0,0,8,0,0,0;VAF=0.00;TSR=0;PBINOM=0.0009765625                                        </td><td>somatic</td><td>MATCH=exact;RS=374237607;RSPOS=113169965;dbSNPBuildID=138;SSR=0;SAO=0;VP=0x050200000a05000002000100;WGT=1;VC=SNV;S3D;NSM;REF;ASP;OTHERKG;ID=rs374237607                                             </td><td>.                                                                                                                                                                   </td><td>exonic         </td><td>SVEP1                                                                                                                                                                                  </td><td>nonsynonymous SNV                 </td><td>SVEP1:ENST00000401783.2:exon38:c.G7915A:p.D2639N,SVEP1:ENST00000374469.1:exon38:c.G7846A:p.D2616N,SVEP1:ENST00000297826.5:exon3:c.G1693A:p.D565N,                                                                                                                             </td><td>.                                 </td></tr>\n",
       "\t<tr><td>chr11</td><td>   533458</td><td>   533459</td><td>.                    </td><td>G</td><td>A </td><td>202     </td><td>PASS</td><td>DP=48;VDB=1.432041e-01;RPB=9.524719e-01;AF1=0.5;AC1=1;DP4=8,16,5,11;MQ=60;FQ=205;PV4=1,0.44,1,1;ACGTNacgtnPLUS=3,0,6,0,0,5,0,5,0,0;ACGTNacgtnMINUS=2,0,2,0,0,8,0,11,0,0                                   </td><td>GT:PL:GQ          </td><td>⋯</td><td>CTCACCTGCC,GGTCTTGGCC             </td><td>DP=82;DP5=40,40,0,0,0;DP5all=41,41,0,0,0;ACGTNacgtnHQ=0,0,40,0,0,0,0,40,0,0;ACGTNacgtn=0,0,41,0,0,0,0,41,0,0;VAF=0.00;TSR=0;PBINOM=8.2718061255303e-25                         </td><td>somatic</td><td>.                                                                                                                                                                                                   </td><td>.                                                                                                                                                                   </td><td>exonic;splicing</td><td>HRAS;HRAS                                                                                                                                                                              </td><td>nonsynonymous SNV                 </td><td>HRAS:ENST00000397594.1:exon3:c.C445T:p.R149W,HRAS:ENST00000311189.7:exon4:c.C445T:p.R149W,HRAS:ENST00000417302.1:exon4:c.C445T:p.R149W,HRAS:ENST00000397596.2:exon4:c.C445T:p.R149W,HRAS:ENST00000493230.1:exon4:c.C445T:p.R149W,HRAS:ENST00000451590.1:exon4:c.C445T:p.R149W,</td><td>.                                 </td></tr>\n",
       "\t<tr><td>chr11</td><td> 55110843</td><td> 55110844</td><td>rs199644874          </td><td>T</td><td>C </td><td>225     </td><td>PASS</td><td>DP=74;VDB=1.344512e-01;RPB=-1.135259e+00;AF1=0.5;AC1=1;DP4=20,28,11,12;MQ=60;FQ=225;PV4=0.62,1,1,0.35;ACGTNacgtnPLUS=0,5,0,10,0,0,5,0,9,0;ACGTNacgtnMINUS=0,6,0,10,0,0,7,0,20,0                           </td><td>GT:PL:GQ          </td><td>⋯</td><td>TTGGGCTCCC,AATGTACTTC             </td><td>DP=11;DP5=7,4,0,0,0;DP5all=7,4,0,0,0;ACGTNacgtnHQ=0,0,0,7,0,0,0,0,4,0;ACGTNacgtn=0,0,0,7,0,0,0,0,4,0;VAF=0.00;TSR=0;PBINOM=0.00048828125                                       </td><td>somatic</td><td>MATCH=exact;RS=199644874;RSPOS=55110843;dbSNPBuildID=137;SSR=0;SAO=0;VP=0x050200000a05040002000100;WGT=1;VC=SNV;S3D;NSM;REF;ASP;VLD;OTHERKG;ID=rs199644874                                          </td><td>.                                                                                                                                                                   </td><td>exonic         </td><td>OR4A16                                                                                                                                                                                 </td><td>nonsynonymous SNV                 </td><td>OR4A16:ENST00000314721.2:exon1:c.T167C:p.L56P,                                                                                                                                                                                                                                </td><td>.                                 </td></tr>\n",
       "\t<tr><td>chr11</td><td> 55110845</td><td> 55110846</td><td>rs200889979          </td><td>A</td><td>G </td><td>225     </td><td>PASS</td><td>DP=72;VDB=1.454344e-01;RPB=-9.522293e-01;AF1=0.5;AC1=1;DP4=19,28,11,12;MQ=60;FQ=225;PV4=0.61,1,1,0.25;ACGTNacgtnPLUS=11,0,5,0,0,9,0,5,0,0;ACGTNacgtnMINUS=8,0,6,0,0,20,0,7,0,0                            </td><td>GT:PL:GQ          </td><td>⋯</td><td>GGGCTCCCTA,TGTACTTCTT             </td><td>DP=11;DP5=7,4,0,0,0;DP5all=7,4,0,0,0;ACGTNacgtnHQ=7,0,0,0,0,4,0,0,0,0;ACGTNacgtn=7,0,0,0,0,4,0,0,0,0;VAF=0.00;TSR=0;PBINOM=0.00048828125                                       </td><td>somatic</td><td>MATCH=exact;RS=200889979;RSPOS=55110845;dbSNPBuildID=137;SSR=0;SAO=0;VP=0x050200000a05000002000100;WGT=1;VC=SNV;S3D;NSM;REF;ASP;OTHERKG;ID=rs200889979                                              </td><td>.                                                                                                                                                                   </td><td>exonic         </td><td>OR4A16                                                                                                                                                                                 </td><td>nonsynonymous SNV                 </td><td>OR4A16:ENST00000314721.2:exon1:c.A169G:p.M57V,                                                                                                                                                                                                                                </td><td>.                                 </td></tr>\n",
       "\t<tr><td>chr11</td><td> 55111413</td><td> 55111414</td><td>rs74668728           </td><td>C</td><td>T </td><td>53      </td><td>PASS</td><td>DP=52;VDB=1.937578e-02;RPB=-1.902141e-01;AF1=0.5;AC1=1;DP4=22,19,4,4;MQ=58;FQ=56;PV4=1,0.22,3.3e-29,0.47;ACGTNacgtnPLUS=0,9,0,2,0,0,10,0,2,0;ACGTNacgtnMINUS=0,13,0,2,0,0,12,0,2,0                        </td><td>GT:PL:GQ          </td><td>⋯</td><td>ATTGTGGTTG,CCTCGTTTTT             </td><td>DP=10;DP5=4,6,0,0,0;DP5all=4,6,0,0,0;ACGTNacgtnHQ=0,4,0,0,0,0,6,0,0,0;ACGTNacgtn=0,4,0,0,0,0,6,0,0,0;VAF=0.00;TSR=0;PBINOM=0.0009765625                                        </td><td>somatic</td><td>MATCH=exact;RS=74668728;RSPOS=55111413;dbSNPBuildID=131;SSR=0;SAO=0;VP=0x050000000a05000116000100;WGT=1;VC=SNV;NSM;REF;ASP;GNO;KGPhase1;KGPROD;OTHERKG;CAF=[0.9991,0.0009183];COMMON=0;ID=rs74668728</td><td>MATCH=exact;VT=SNP;SNPSOURCE=LOWCOV;THETA=0.0002;AN=2184;LDAF=0.0010;RSQ=0.9359;ERATE=0.0002;AVGPOST=0.9999;AC=2;AA=t;AF=0.00;AFR_AF=0.00;EUR_AF=0.00;ID=rs74668728 </td><td>exonic         </td><td>OR4A16                                                                                                                                                                                 </td><td>nonsynonymous SNV                 </td><td>OR4A16:ENST00000314721.2:exon1:c.C737T:p.A246V,                                                                                                                                                                                                                               </td><td>.                                 </td></tr>\n",
       "\t<tr><td>chr11</td><td> 55111418</td><td> 55111419</td><td>rs141537673          </td><td>G</td><td>T </td><td>24      </td><td>PASS</td><td>DP=55;VDB=3.848422e-02;RPB=-3.940552e-02;AF1=0.5;AC1=1;DP4=24,20,4,3;MQ=58;FQ=27;PV4=1,0.21,1.5e-28,1;ACGTNacgtnPLUS=0,0,9,2,0,0,0,9,2,0;ACGTNacgtnMINUS=0,0,15,2,0,0,0,13,2,0                            </td><td>GT:PL:GQ          </td><td>⋯</td><td>GGTTGCCCTC,TTTTTGTTCC             </td><td>DP=10;DP5=4,6,0,0,0;DP5all=4,6,0,0,0;ACGTNacgtnHQ=0,0,4,0,0,0,0,6,0,0;ACGTNacgtn=0,0,4,0,0,0,0,6,0,0;VAF=0.00;TSR=0;PBINOM=0.0009765625                                        </td><td>somatic</td><td>MATCH=exact;RS=141537673;RSPOS=55111418;dbSNPBuildID=134;SSR=0;SAO=0;VP=0x050000000a05000016000100;WGT=1;VC=SNV;NSM;REF;ASP;KGPhase1;KGPROD;OTHERKG;CAF=[0.9991,.,0.0009183];COMMON=0;ID=rs141537673</td><td>MATCH=exact;VT=SNP;SNPSOURCE=LOWCOV;LDAF=0.0009;AVGPOST=1.0000;AN=2184;RSQ=1.0000;THETA=0.0007;ERATE=0.0002;AC=2;AA=t;AF=0.00;AFR_AF=0.00;EUR_AF=0.00;ID=rs141537673</td><td>exonic         </td><td>OR4A16                                                                                                                                                                                 </td><td>nonsynonymous SNV                 </td><td>OR4A16:ENST00000314721.2:exon1:c.G742T:p.V248F,                                                                                                                                                                                                                               </td><td>.                                 </td></tr>\n",
       "\t<tr><td>chr12</td><td>  8757903</td><td>  8757904</td><td>.                    </td><td>C</td><td>T </td><td>225     </td><td>PASS</td><td>DP=43;VDB=1.016085e-01;RPB=-3.268044e-01;AF1=0.5;AC1=1;DP4=6,13,14,8;MQ=60;FQ=225;PV4=0.062,0.00039,1,1;ACGTNacgtnPLUS=0,2,0,5,0,0,10,0,4,0;ACGTNacgtnMINUS=0,4,0,9,0,0,3,0,4,0                           </td><td>GT:PL:GQ          </td><td>⋯</td><td>GAAGTAGAGG,GCGCGGTGAA             </td><td>DP=70;DP5=28,40,0,0,0;DP5all=29,41,0,0,0;ACGTNacgtnHQ=0,28,0,0,0,0,40,0,0,0;ACGTNacgtn=0,29,0,0,0,0,41,0,0,0;VAF=0.00;TSR=0;PBINOM=3.3881317890172e-21                         </td><td>somatic</td><td>.                                                                                                                                                                                                   </td><td>.                                                                                                                                                                   </td><td>exonic         </td><td>AICDA                                                                                                                                                                                  </td><td>nonsynonymous SNV                 </td><td>AICDA:ENST00000537228.1:exon3:c.G335A:p.R112H,AICDA:ENST00000229335.6:exon3:c.G335A:p.R112H,                                                                                                                                                                                  </td><td>.                                 </td></tr>\n",
       "\t<tr><td>chr16</td><td> 11219993</td><td> 11219994</td><td>.                    </td><td>C</td><td>G </td><td>221     </td><td>PASS</td><td>DP=74;VDB=2.330724e-01;RPB=-2.209910e-01;AF1=0.5;AC1=1;DP4=22,26,15,9;MQ=60;FQ=223;PV4=0.22,0.23,1,1;ACGTNacgtnPLUS=0,13,13,0,0,0,8,4,0,0;ACGTNacgtnMINUS=0,9,3,0,0,0,18,5,0,0                            </td><td>GT:PL:GQ          </td><td>⋯</td><td>CATCGGTGGA,AAGGTGCCAG             </td><td>DP=68;DP5=44,24,0,0,0;DP5all=44,24,0,0,0;ACGTNacgtnHQ=0,44,0,0,0,0,24,0,0,0;ACGTNacgtn=0,44,0,0,0,0,24,0,0,0;VAF=0.00;TSR=0;PBINOM=3.3881317890172e-21                         </td><td>somatic</td><td>.                                                                                                                                                                                                   </td><td>.                                                                                                                                                                   </td><td>exonic         </td><td>CLEC16A                                                                                                                                                                                </td><td>nonsynonymous SNV                 </td><td>CLEC16A:ENST00000409552.3:exon21:c.C2577G:p.D859E,CLEC16A:ENST00000409790.1:exon22:c.C2631G:p.D877E,CLEC16A:ENST00000436973.1:exon2:c.C210G:p.D70E,                                                                                                                           </td><td>.                                 </td></tr>\n",
       "\t<tr><td>chr16</td><td> 31374534</td><td> 31374535</td><td>.                    </td><td>C</td><td>T </td><td>152     </td><td>PASS</td><td>DP=63;VDB=1.614641e-01;RPB=1.157672e+00;AF1=0.5;AC1=1;DP4=35,12,9,5;MQ=60;FQ=155;PV4=0.51,1,1,1;ACGTNacgtnPLUS=0,17,0,5,0,0,5,0,2,0;ACGTNacgtnMINUS=0,18,0,4,0,0,7,0,3,0                                  </td><td>GT:PL:GQ          </td><td>⋯</td><td>GCAGGGCCAC,CCTGGGGTCG             </td><td>DP=58;DP5=39,19,0,0,0;DP5all=39,19,0,0,0;ACGTNacgtnHQ=0,39,0,0,0,0,19,0,0,0;ACGTNacgtn=0,39,0,0,0,0,19,0,0,0;VAF=0.00;TSR=0;PBINOM=3.46944695195362e-18                        </td><td>somatic</td><td>.                                                                                                                                                                                                   </td><td>.                                                                                                                                                                   </td><td>exonic         </td><td>ITGAX                                                                                                                                                                                  </td><td>nonsynonymous SNV                 </td><td>ITGAX:ENST00000268296.4:exon14:c.C1549T:p.P517S,ITGAX:ENST00000562522.1:exon14:c.C1549T:p.P517S,                                                                                                                                                                              </td><td>Score=0.913706;Name=chr16:31421652</td></tr>\n",
       "\t<tr><td>chr16</td><td> 55862824</td><td> 55862825</td><td>rs3826192            </td><td>C</td><td>T </td><td>0.00435 </td><td>PASS</td><td>DP=87;VDB=9.024209e-02;RPB=-2.250885e+00;AF1=0;AC1=1;DP4=40,37,4,4;MQ=59;FQ=-27;PV4=0.74,0.42,3.5e-10,1;ACGTNacgtnPLUS=0,17,0,4,0,0,19,0,2,0;ACGTNacgtnMINUS=0,23,0,0,0,0,19,0,3,0                        </td><td>GT:PL:GQ          </td><td>⋯</td><td>TCTAAGCTGA,GAACTTCCCC             </td><td>DP=23;DP5=12,10,0,0,0;DP5all=13,10,0,0,0;ACGTNacgtnHQ=0,12,0,0,0,0,10,0,0,0;ACGTNacgtn=0,13,0,0,0,0,10,0,0,0;VAF=0.00;TSR=0;PBINOM=2.38418579101562e-07                        </td><td>somatic</td><td>MATCH=exact;RS=3826192;RSPOS=55862824;RV;dbSNPBuildID=107;SSR=0;SAO=0;VP=0x050300000a0501010f000100;WGT=1;VC=SNV;S3D;SLO;NSM;REF;ASP;G5;GNO;KGPilot123;KGPROD;OTHERKG;PH3;ID=rs3826192              </td><td>.                                                                                                                                                                   </td><td>exonic         </td><td>CES1                                                                                                                                                                                   </td><td>nonsynonymous SNV                 </td><td>CES1:ENST00000422046.2:exon2:c.G112A:p.V38I,CES1:ENST00000360526.3:exon2:c.G115A:p.V39I,CES1:ENST00000361503.4:exon2:c.G112A:p.V38I,                                                                                                                                          </td><td>Score=0.944853;Name=chr16:55788037</td></tr>\n",
       "\t<tr><td>chr19</td><td> 10467367</td><td> 10467368</td><td>rs144995884          </td><td>G</td><td>A </td><td>151     </td><td>PASS</td><td>DP=45;VDB=9.965187e-02;RPB=1.342890e+00;AF1=0.5;AC1=1;DP4=8,20,5,7;MQ=60;FQ=154;PV4=0.48,1,1,0.23;ACGTNacgtnPLUS=3,0,4,0,0,6,0,7,0,0;ACGTNacgtnMINUS=2,0,4,0,0,1,0,13,0,0                                 </td><td>GT:PL:GQ          </td><td>⋯</td><td>TCGGGCAGCC,GTGCTGCCTC             </td><td>DP=69;DP5=22,45,0,0,0;DP5all=23,45,0,0,1;ACGTNacgtnHQ=0,0,22,0,0,0,0,45,0,0;ACGTNacgtn=0,1,23,0,0,0,0,45,0,0;VAF=0.00;TSR=0;PBINOM=6.77626357803444e-21                        </td><td>somatic</td><td>MATCH=exact;RS=144995884;RSPOS=10467367;dbSNPBuildID=134;SSR=0;SAO=0;VP=0x050200000a05000002000100;WGT=1;VC=SNV;S3D;NSM;REF;ASP;OTHERKG;ID=rs144995884                                              </td><td>.                                                                                                                                                                   </td><td>exonic         </td><td>TYK2                                                                                                                                                                                   </td><td>nonsynonymous SNV                 </td><td>TYK2:ENST00000525621.1:exon18:c.C2494T:p.R832W,TYK2:ENST00000264818.6:exon16:c.C2494T:p.R832W,TYK2:ENST00000524462.1:exon14:c.C1939T:p.R647W,                                                                                                                                 </td><td>.                                 </td></tr>\n",
       "\t<tr><td>chr19</td><td> 50365459</td><td> 50365460</td><td>.                    </td><td>G</td><td>A </td><td>183     </td><td>PASS</td><td>DP=40;VDB=1.052814e-01;RPB=-1.283767e+00;AF1=0.5;AC1=1;DP4=10,14,12,3;MQ=60;FQ=186;PV4=0.054,1,1,0.0078;ACGTNacgtnPLUS=9,0,6,0,0,2,0,8,0,0;ACGTNacgtnMINUS=3,0,4,0,0,2,0,6,0,0                            </td><td>GT:PL:GQ          </td><td>⋯</td><td>GAATCCCACT,CGACAACCAC             </td><td>DP=67;DP5=26,41,0,0,0;DP5all=26,41,0,0,0;ACGTNacgtnHQ=0,0,26,0,0,0,0,41,0,0;ACGTNacgtn=0,0,26,0,0,0,0,41,0,0;VAF=0.00;TSR=0;PBINOM=6.77626357803444e-21                        </td><td>somatic</td><td>.                                                                                                                                                                                                   </td><td>.                                                                                                                                                                   </td><td>exonic         </td><td>PNKP                                                                                                                                                                                   </td><td>nonsynonymous SNV                 </td><td>PNKP:ENST00000600910.1:exon12:c.C1109T:p.A370V,PNKP:ENST00000596014.1:exon11:c.C1109T:p.A370V,PNKP:ENST00000322344.3:exon12:c.C1109T:p.A370V,PNKP:ENST00000600573.1:exon11:c.C1016T:p.A339V,                                                                                  </td><td>.                                 </td></tr>\n",
       "\t<tr><td>chr19</td><td> 51021058</td><td> 51021059</td><td>.                    </td><td>C</td><td>T </td><td>225     </td><td>PASS</td><td>DP=67;VDB=2.662251e-01;RPB=-1.141147e+00;AF1=0.5;AC1=1;DP4=17,17,16,12;MQ=60;FQ=225;PV4=0.61,0.091,0.13,0.48;ACGTNacgtnPLUS=0,12,1,8,0,0,11,1,5,0;ACGTNacgtnMINUS=0,5,0,8,0,0,7,0,7,0                     </td><td>GT:PL:GQ          </td><td>⋯</td><td>CCACTGGCCA,GGCGGCCGCG             </td><td>DP=65;DP5=30,35,0,0,0;DP5all=30,35,0,0,0;ACGTNacgtnHQ=0,30,0,0,0,0,35,0,0,0;ACGTNacgtn=0,30,0,0,0,0,35,0,0,0;VAF=0.00;TSR=0;PBINOM=2.71050543121377e-20                        </td><td>somatic</td><td>.                                                                                                                                                                                                   </td><td>.                                                                                                                                                                   </td><td>exonic         </td><td>LRRC4B                                                                                                                                                                                 </td><td>nonsynonymous SNV                 </td><td>LRRC4B:ENST00000389201.3:exon3:c.G1912A:p.V638M,LRRC4B:ENST00000599957.1:exon3:c.G1912A:p.V638M,                                                                                                                                                                              </td><td>.                                 </td></tr>\n",
       "\t<tr><td>chr19</td><td> 54610464</td><td> 54610465</td><td>.                    </td><td>C</td><td>A </td><td>225     </td><td>PASS</td><td>DP=83;VDB=1.026283e-01;RPB=2.012167e+00;AF1=0.5;AC1=1;DP4=8,7,28,37;MQ=60;FQ=120;PV4=0.57,0.27,1,0.034;ACGTNacgtnPLUS=20,5,0,0,0,22,4,0,0,0;ACGTNacgtnMINUS=9,3,0,0,0,16,3,0,0,0                          </td><td>GT:PL:GQ          </td><td>⋯</td><td>CCAAAGTCTT,CTCAACCTTA             </td><td>DP=63;DP5=33,30,0,0,0;DP5all=33,30,0,0,0;ACGTNacgtnHQ=0,33,0,0,0,0,30,0,0,0;ACGTNacgtn=0,33,0,0,0,0,30,0,0,0;VAF=0.00;TSR=0;PBINOM=1.08420217248551e-19                        </td><td>somatic</td><td>.                                                                                                                                                                                                   </td><td>.                                                                                                                                                                   </td><td>exonic         </td><td>TFPT                                                                                                                                                                                   </td><td>stopgain SNV                      </td><td>TFPT:ENST00000391759.1:exon6:c.G655T:p.E219X,TFPT:ENST00000391758.1:exon6:c.G628T:p.E210X,                                                                                                                                                                                    </td><td>.                                 </td></tr>\n",
       "\t<tr><td>chr20</td><td> 33876381</td><td> 33876382</td><td>.                    </td><td>C</td><td>T </td><td>225     </td><td>PASS</td><td>DP=59;VDB=3.440298e-02;RPB=8.278327e-03;AF1=0.5;AC1=1;DP4=13,19,14,10;MQ=60;FQ=225;PV4=0.28,0.34,1,1;ACGTNacgtnPLUS=0,7,0,6,0,0,7,0,5,0;ACGTNacgtnMINUS=0,6,0,8,0,0,12,0,5,0                              </td><td>GT:PL:GQ          </td><td>⋯</td><td>GCTCCGCACA,GCATGTTCTA             </td><td>DP=85;DP5=34,49,0,0,0;DP5all=34,51,0,0,0;ACGTNacgtnHQ=0,34,0,0,0,0,49,0,0,0;ACGTNacgtn=0,34,0,0,0,0,51,0,0,0;VAF=0.00;TSR=0;PBINOM=1.03397576569128e-25                        </td><td>somatic</td><td>.                                                                                                                                                                                                   </td><td>.                                                                                                                                                                   </td><td>exonic         </td><td>FAM83C                                                                                                                                                                                 </td><td>nonsynonymous SNV                 </td><td>FAM83C:ENST00000374408.3:exon3:c.G689A:p.R230H,                                                                                                                                                                                                                               </td><td>.                                 </td></tr>\n",
       "\t<tr><td>chr7 </td><td>151945071</td><td>151945072</td><td>rs150073007_151945071</td><td>G</td><td>GT</td><td>.       </td><td>PASS</td><td>SOMATIC;BRF=0.27;FR=0.2500;HP=2;HapScore=1;MGOF=90;MMLQ=30;MQ=48.79;NF=11;NR=9;PP=529;QD=28.6;SC=TGACTGAGATGTAAGTTGTTG;SbPval=0.68;Source=Platypus;TC=136;TCF=69;TCR=67;TR=20;WE=151945079;WS=151945061;DB</td><td>GT:GL:GOF:GQ:NR:NV</td><td>⋯</td><td>0/1:-58.18,0.0,-300.0:13:99:122:20</td><td>MATCH=exact;POS=151945071;END=151945071;RS=150073007;RSPOS=151945071;dbSNPBuildID=134;SSR=0;SAO=0;VP=0x050000001205000002000200;WGT=1;VC=DIV;NSF;REF;ASP;OTHERKG;ID=rs150073007</td><td>.      </td><td>exonic                                                                                                                                                                                              </td><td>KMT2C                                                                                                                                                               </td><td>stopgain       </td><td>KMT2C:ENST00000558084.1:exon14:c.2447dupA:p.Y816_I817delinsX,KMT2C:ENST00000262189.6:exon14:c.2447dupA:p.Y816_I817delinsX,KMT2C:ENST00000355193.2:exon14:c.2447dupA:p.Y816_I817delinsX,</td><td>Score=0.965035;Name=chr21:10995230</td><td>7q36.1                                                                                                                                                                                                                                                                        </td><td>.                                 </td></tr>\n",
       "</tbody>\n",
       "</table>\n"
      ],
      "text/latex": [
       "A data.frame: 19 × 21\n",
       "\\begin{tabular}{lllllllllllllllllllll}\n",
       " V1 & V2 & V3 & V4 & V5 & V6 & V7 & V8 & V9 & V10 & ⋯ & V12 & V13 & V14 & V15 & V16 & V17 & V18 & V19 & V20 & V21\\\\\n",
       " <chr> & <int> & <int> & <chr> & <chr> & <chr> & <chr> & <chr> & <chr> & <chr> & ⋯ & <chr> & <chr> & <chr> & <chr> & <chr> & <chr> & <chr> & <chr> & <chr> & <chr>\\\\\n",
       "\\hline\n",
       "\t chr2  &  97427962 &  97427963 & .                     & C & T  & 164      & PASS & DP=81;VDB=1.182019e-01;RPB=5.070410e-01;AF1=0.5;AC1=1;DP4=24,33,7,11;MQ=60;FQ=167;PV4=1,0.35,1,0.16;ACGTNacgtnPLUS=0,18,0,6,0,0,14,0,5,0;ACGTNacgtnMINUS=0,6,0,2,0,0,20,0,6,0                              & GT:PL:GQ           & ⋯ & ACTCGCATCC,GGTGTTCGAA              & DP=55;DP5=28,27,0,0,0;DP5all=28,27,0,0,0;ACGTNacgtnHQ=0,28,0,0,0,0,27,0,0,0;ACGTNacgtn=0,28,0,0,0,0,27,0,0,0;VAF=0.00;TSR=0;PBINOM=2.7755575615629e-17                          & somatic & .                                                                                                                                                                                                    & .                                                                                                                                                                    & exonic          & CNNM4                                                                                                                                                                                   & nonsynonymous SNV                  & CNNM4:ENST00000377075.2:exon1:c.C1226T:p.P409L,                                                                                                                                                                                                                                & .                                 \\\\\n",
       "\t chr2  & 102626209 & 102626210 & rs139061430           & C & T  & 156      & PASS & DP=88;VDB=8.060930e-02;RPB=-1.237956e+00;AF1=0.5;AC1=1;DP4=36,32,11,8;MQ=60;FQ=159;PV4=0.8,0.49,1,1;ACGTNacgtnPLUS=0,18,0,4,0,0,15,0,3,0;ACGTNacgtnMINUS=0,18,0,7,0,0,17,0,5,0                             & GT:PL:GQ           & ⋯ & AGAAGAGACA,GGATGTGGGC              & DP=29;DP5=14,15,0,0,0;DP5all=14,15,0,0,0;ACGTNacgtnHQ=0,14,0,0,0,0,15,0,0,0;ACGTNacgtn=0,14,0,0,0,0,15,0,0,0;VAF=0.00;TSR=0;PBINOM=1.86264514923096e-09                         & somatic & MATCH=exact;RS=139061430;RSPOS=102626209;dbSNPBuildID=134;SSR=0;SAO=0;VP=0x050200000a05040002000100;WGT=1;VC=SNV;S3D;NSM;REF;ASP;VLD;OTHERKG;ID=rs139061430                                          & .                                                                                                                                                                    & exonic          & IL1R2                                                                                                                                                                                   & nonsynonymous SNV                  & IL1R2:ENST00000457817.1:exon3:c.C253T:p.R85W,IL1R2:ENST00000393414.2:exon3:c.C253T:p.R85W,IL1R2:ENST00000441002.1:exon2:c.C253T:p.R85W,IL1R2:ENST00000332549.3:exon3:c.C253T:p.R85W,                                                                                           & .                                 \\\\\n",
       "\t chr2  & 160035647 & 160035648 & .                     & A & G  & 1.73e-10 & PASS & DP=76;VDB=6.164088e-02;RPB=1.774484e+00;AF1=0;AC1=0;DP4=9,42,6,0;MQ=60;FQ=-101;PV4=0.00012,2.2e-05,1,1;ACGTNacgtnPLUS=5,0,2,0,0,18,0,0,0,0;ACGTNacgtnMINUS=4,0,4,0,0,25,0,0,0,0                            & GT:PL:GQ           & ⋯ & GCAGACGGGG,AAACACGGCC              & DP=20;DP5=9,9,0,0,0;DP5all=11,9,0,0,0;ACGTNacgtnHQ=9,0,0,0,0,9,0,0,0,0;ACGTNacgtn=11,0,0,0,0,9,0,0,0,0;VAF=0.00;TSR=0;PBINOM=3.814697265625e-06                                 & somatic & .                                                                                                                                                                                                    & .                                                                                                                                                                    & exonic          & TANC1                                                                                                                                                                                   & nonsynonymous SNV                  & TANC1:ENST00000454300.1:exon12:c.A2165G:p.E722G,TANC1:ENST00000263635.6:exon14:c.A2483G:p.E828G,                                                                                                                                                                               & .                                 \\\\\n",
       "\t chr9  & 113169965 & 113169966 & rs374237607           & C & T  & 225      & PASS & DP=47;VDB=1.810776e-01;RPB=-4.710881e-01;AF1=0.5;AC1=1;DP4=16,10,10,8;MQ=60;FQ=225;PV4=0.76,0.089,1,0.27;ACGTNacgtnPLUS=0,6,0,3,0,0,4,0,5,0;ACGTNacgtnMINUS=0,10,0,7,0,0,6,0,4,0                           & GT:PL:GQ           & ⋯ & TCCATCATGT,GTCTTCTTGC              & DP=10;DP5=2,8,0,0,0;DP5all=2,8,0,0,0;ACGTNacgtnHQ=0,2,0,0,0,0,8,0,0,0;ACGTNacgtn=0,2,0,0,0,0,8,0,0,0;VAF=0.00;TSR=0;PBINOM=0.0009765625                                         & somatic & MATCH=exact;RS=374237607;RSPOS=113169965;dbSNPBuildID=138;SSR=0;SAO=0;VP=0x050200000a05000002000100;WGT=1;VC=SNV;S3D;NSM;REF;ASP;OTHERKG;ID=rs374237607                                              & .                                                                                                                                                                    & exonic          & SVEP1                                                                                                                                                                                   & nonsynonymous SNV                  & SVEP1:ENST00000401783.2:exon38:c.G7915A:p.D2639N,SVEP1:ENST00000374469.1:exon38:c.G7846A:p.D2616N,SVEP1:ENST00000297826.5:exon3:c.G1693A:p.D565N,                                                                                                                              & .                                 \\\\\n",
       "\t chr11 &    533458 &    533459 & .                     & G & A  & 202      & PASS & DP=48;VDB=1.432041e-01;RPB=9.524719e-01;AF1=0.5;AC1=1;DP4=8,16,5,11;MQ=60;FQ=205;PV4=1,0.44,1,1;ACGTNacgtnPLUS=3,0,6,0,0,5,0,5,0,0;ACGTNacgtnMINUS=2,0,2,0,0,8,0,11,0,0                                    & GT:PL:GQ           & ⋯ & CTCACCTGCC,GGTCTTGGCC              & DP=82;DP5=40,40,0,0,0;DP5all=41,41,0,0,0;ACGTNacgtnHQ=0,0,40,0,0,0,0,40,0,0;ACGTNacgtn=0,0,41,0,0,0,0,41,0,0;VAF=0.00;TSR=0;PBINOM=8.2718061255303e-25                          & somatic & .                                                                                                                                                                                                    & .                                                                                                                                                                    & exonic;splicing & HRAS;HRAS                                                                                                                                                                               & nonsynonymous SNV                  & HRAS:ENST00000397594.1:exon3:c.C445T:p.R149W,HRAS:ENST00000311189.7:exon4:c.C445T:p.R149W,HRAS:ENST00000417302.1:exon4:c.C445T:p.R149W,HRAS:ENST00000397596.2:exon4:c.C445T:p.R149W,HRAS:ENST00000493230.1:exon4:c.C445T:p.R149W,HRAS:ENST00000451590.1:exon4:c.C445T:p.R149W, & .                                 \\\\\n",
       "\t chr11 &  55110843 &  55110844 & rs199644874           & T & C  & 225      & PASS & DP=74;VDB=1.344512e-01;RPB=-1.135259e+00;AF1=0.5;AC1=1;DP4=20,28,11,12;MQ=60;FQ=225;PV4=0.62,1,1,0.35;ACGTNacgtnPLUS=0,5,0,10,0,0,5,0,9,0;ACGTNacgtnMINUS=0,6,0,10,0,0,7,0,20,0                            & GT:PL:GQ           & ⋯ & TTGGGCTCCC,AATGTACTTC              & DP=11;DP5=7,4,0,0,0;DP5all=7,4,0,0,0;ACGTNacgtnHQ=0,0,0,7,0,0,0,0,4,0;ACGTNacgtn=0,0,0,7,0,0,0,0,4,0;VAF=0.00;TSR=0;PBINOM=0.00048828125                                        & somatic & MATCH=exact;RS=199644874;RSPOS=55110843;dbSNPBuildID=137;SSR=0;SAO=0;VP=0x050200000a05040002000100;WGT=1;VC=SNV;S3D;NSM;REF;ASP;VLD;OTHERKG;ID=rs199644874                                           & .                                                                                                                                                                    & exonic          & OR4A16                                                                                                                                                                                  & nonsynonymous SNV                  & OR4A16:ENST00000314721.2:exon1:c.T167C:p.L56P,                                                                                                                                                                                                                                 & .                                 \\\\\n",
       "\t chr11 &  55110845 &  55110846 & rs200889979           & A & G  & 225      & PASS & DP=72;VDB=1.454344e-01;RPB=-9.522293e-01;AF1=0.5;AC1=1;DP4=19,28,11,12;MQ=60;FQ=225;PV4=0.61,1,1,0.25;ACGTNacgtnPLUS=11,0,5,0,0,9,0,5,0,0;ACGTNacgtnMINUS=8,0,6,0,0,20,0,7,0,0                             & GT:PL:GQ           & ⋯ & GGGCTCCCTA,TGTACTTCTT              & DP=11;DP5=7,4,0,0,0;DP5all=7,4,0,0,0;ACGTNacgtnHQ=7,0,0,0,0,4,0,0,0,0;ACGTNacgtn=7,0,0,0,0,4,0,0,0,0;VAF=0.00;TSR=0;PBINOM=0.00048828125                                        & somatic & MATCH=exact;RS=200889979;RSPOS=55110845;dbSNPBuildID=137;SSR=0;SAO=0;VP=0x050200000a05000002000100;WGT=1;VC=SNV;S3D;NSM;REF;ASP;OTHERKG;ID=rs200889979                                               & .                                                                                                                                                                    & exonic          & OR4A16                                                                                                                                                                                  & nonsynonymous SNV                  & OR4A16:ENST00000314721.2:exon1:c.A169G:p.M57V,                                                                                                                                                                                                                                 & .                                 \\\\\n",
       "\t chr11 &  55111413 &  55111414 & rs74668728            & C & T  & 53       & PASS & DP=52;VDB=1.937578e-02;RPB=-1.902141e-01;AF1=0.5;AC1=1;DP4=22,19,4,4;MQ=58;FQ=56;PV4=1,0.22,3.3e-29,0.47;ACGTNacgtnPLUS=0,9,0,2,0,0,10,0,2,0;ACGTNacgtnMINUS=0,13,0,2,0,0,12,0,2,0                         & GT:PL:GQ           & ⋯ & ATTGTGGTTG,CCTCGTTTTT              & DP=10;DP5=4,6,0,0,0;DP5all=4,6,0,0,0;ACGTNacgtnHQ=0,4,0,0,0,0,6,0,0,0;ACGTNacgtn=0,4,0,0,0,0,6,0,0,0;VAF=0.00;TSR=0;PBINOM=0.0009765625                                         & somatic & MATCH=exact;RS=74668728;RSPOS=55111413;dbSNPBuildID=131;SSR=0;SAO=0;VP=0x050000000a05000116000100;WGT=1;VC=SNV;NSM;REF;ASP;GNO;KGPhase1;KGPROD;OTHERKG;CAF={[}0.9991,0.0009183{]};COMMON=0;ID=rs74668728 & MATCH=exact;VT=SNP;SNPSOURCE=LOWCOV;THETA=0.0002;AN=2184;LDAF=0.0010;RSQ=0.9359;ERATE=0.0002;AVGPOST=0.9999;AC=2;AA=t;AF=0.00;AFR\\_AF=0.00;EUR\\_AF=0.00;ID=rs74668728  & exonic          & OR4A16                                                                                                                                                                                  & nonsynonymous SNV                  & OR4A16:ENST00000314721.2:exon1:c.C737T:p.A246V,                                                                                                                                                                                                                                & .                                 \\\\\n",
       "\t chr11 &  55111418 &  55111419 & rs141537673           & G & T  & 24       & PASS & DP=55;VDB=3.848422e-02;RPB=-3.940552e-02;AF1=0.5;AC1=1;DP4=24,20,4,3;MQ=58;FQ=27;PV4=1,0.21,1.5e-28,1;ACGTNacgtnPLUS=0,0,9,2,0,0,0,9,2,0;ACGTNacgtnMINUS=0,0,15,2,0,0,0,13,2,0                             & GT:PL:GQ           & ⋯ & GGTTGCCCTC,TTTTTGTTCC              & DP=10;DP5=4,6,0,0,0;DP5all=4,6,0,0,0;ACGTNacgtnHQ=0,0,4,0,0,0,0,6,0,0;ACGTNacgtn=0,0,4,0,0,0,0,6,0,0;VAF=0.00;TSR=0;PBINOM=0.0009765625                                         & somatic & MATCH=exact;RS=141537673;RSPOS=55111418;dbSNPBuildID=134;SSR=0;SAO=0;VP=0x050000000a05000016000100;WGT=1;VC=SNV;NSM;REF;ASP;KGPhase1;KGPROD;OTHERKG;CAF={[}0.9991,.,0.0009183{]};COMMON=0;ID=rs141537673 & MATCH=exact;VT=SNP;SNPSOURCE=LOWCOV;LDAF=0.0009;AVGPOST=1.0000;AN=2184;RSQ=1.0000;THETA=0.0007;ERATE=0.0002;AC=2;AA=t;AF=0.00;AFR\\_AF=0.00;EUR\\_AF=0.00;ID=rs141537673 & exonic          & OR4A16                                                                                                                                                                                  & nonsynonymous SNV                  & OR4A16:ENST00000314721.2:exon1:c.G742T:p.V248F,                                                                                                                                                                                                                                & .                                 \\\\\n",
       "\t chr12 &   8757903 &   8757904 & .                     & C & T  & 225      & PASS & DP=43;VDB=1.016085e-01;RPB=-3.268044e-01;AF1=0.5;AC1=1;DP4=6,13,14,8;MQ=60;FQ=225;PV4=0.062,0.00039,1,1;ACGTNacgtnPLUS=0,2,0,5,0,0,10,0,4,0;ACGTNacgtnMINUS=0,4,0,9,0,0,3,0,4,0                            & GT:PL:GQ           & ⋯ & GAAGTAGAGG,GCGCGGTGAA              & DP=70;DP5=28,40,0,0,0;DP5all=29,41,0,0,0;ACGTNacgtnHQ=0,28,0,0,0,0,40,0,0,0;ACGTNacgtn=0,29,0,0,0,0,41,0,0,0;VAF=0.00;TSR=0;PBINOM=3.3881317890172e-21                          & somatic & .                                                                                                                                                                                                    & .                                                                                                                                                                    & exonic          & AICDA                                                                                                                                                                                   & nonsynonymous SNV                  & AICDA:ENST00000537228.1:exon3:c.G335A:p.R112H,AICDA:ENST00000229335.6:exon3:c.G335A:p.R112H,                                                                                                                                                                                   & .                                 \\\\\n",
       "\t chr16 &  11219993 &  11219994 & .                     & C & G  & 221      & PASS & DP=74;VDB=2.330724e-01;RPB=-2.209910e-01;AF1=0.5;AC1=1;DP4=22,26,15,9;MQ=60;FQ=223;PV4=0.22,0.23,1,1;ACGTNacgtnPLUS=0,13,13,0,0,0,8,4,0,0;ACGTNacgtnMINUS=0,9,3,0,0,0,18,5,0,0                             & GT:PL:GQ           & ⋯ & CATCGGTGGA,AAGGTGCCAG              & DP=68;DP5=44,24,0,0,0;DP5all=44,24,0,0,0;ACGTNacgtnHQ=0,44,0,0,0,0,24,0,0,0;ACGTNacgtn=0,44,0,0,0,0,24,0,0,0;VAF=0.00;TSR=0;PBINOM=3.3881317890172e-21                          & somatic & .                                                                                                                                                                                                    & .                                                                                                                                                                    & exonic          & CLEC16A                                                                                                                                                                                 & nonsynonymous SNV                  & CLEC16A:ENST00000409552.3:exon21:c.C2577G:p.D859E,CLEC16A:ENST00000409790.1:exon22:c.C2631G:p.D877E,CLEC16A:ENST00000436973.1:exon2:c.C210G:p.D70E,                                                                                                                            & .                                 \\\\\n",
       "\t chr16 &  31374534 &  31374535 & .                     & C & T  & 152      & PASS & DP=63;VDB=1.614641e-01;RPB=1.157672e+00;AF1=0.5;AC1=1;DP4=35,12,9,5;MQ=60;FQ=155;PV4=0.51,1,1,1;ACGTNacgtnPLUS=0,17,0,5,0,0,5,0,2,0;ACGTNacgtnMINUS=0,18,0,4,0,0,7,0,3,0                                   & GT:PL:GQ           & ⋯ & GCAGGGCCAC,CCTGGGGTCG              & DP=58;DP5=39,19,0,0,0;DP5all=39,19,0,0,0;ACGTNacgtnHQ=0,39,0,0,0,0,19,0,0,0;ACGTNacgtn=0,39,0,0,0,0,19,0,0,0;VAF=0.00;TSR=0;PBINOM=3.46944695195362e-18                         & somatic & .                                                                                                                                                                                                    & .                                                                                                                                                                    & exonic          & ITGAX                                                                                                                                                                                   & nonsynonymous SNV                  & ITGAX:ENST00000268296.4:exon14:c.C1549T:p.P517S,ITGAX:ENST00000562522.1:exon14:c.C1549T:p.P517S,                                                                                                                                                                               & Score=0.913706;Name=chr16:31421652\\\\\n",
       "\t chr16 &  55862824 &  55862825 & rs3826192             & C & T  & 0.00435  & PASS & DP=87;VDB=9.024209e-02;RPB=-2.250885e+00;AF1=0;AC1=1;DP4=40,37,4,4;MQ=59;FQ=-27;PV4=0.74,0.42,3.5e-10,1;ACGTNacgtnPLUS=0,17,0,4,0,0,19,0,2,0;ACGTNacgtnMINUS=0,23,0,0,0,0,19,0,3,0                         & GT:PL:GQ           & ⋯ & TCTAAGCTGA,GAACTTCCCC              & DP=23;DP5=12,10,0,0,0;DP5all=13,10,0,0,0;ACGTNacgtnHQ=0,12,0,0,0,0,10,0,0,0;ACGTNacgtn=0,13,0,0,0,0,10,0,0,0;VAF=0.00;TSR=0;PBINOM=2.38418579101562e-07                         & somatic & MATCH=exact;RS=3826192;RSPOS=55862824;RV;dbSNPBuildID=107;SSR=0;SAO=0;VP=0x050300000a0501010f000100;WGT=1;VC=SNV;S3D;SLO;NSM;REF;ASP;G5;GNO;KGPilot123;KGPROD;OTHERKG;PH3;ID=rs3826192               & .                                                                                                                                                                    & exonic          & CES1                                                                                                                                                                                    & nonsynonymous SNV                  & CES1:ENST00000422046.2:exon2:c.G112A:p.V38I,CES1:ENST00000360526.3:exon2:c.G115A:p.V39I,CES1:ENST00000361503.4:exon2:c.G112A:p.V38I,                                                                                                                                           & Score=0.944853;Name=chr16:55788037\\\\\n",
       "\t chr19 &  10467367 &  10467368 & rs144995884           & G & A  & 151      & PASS & DP=45;VDB=9.965187e-02;RPB=1.342890e+00;AF1=0.5;AC1=1;DP4=8,20,5,7;MQ=60;FQ=154;PV4=0.48,1,1,0.23;ACGTNacgtnPLUS=3,0,4,0,0,6,0,7,0,0;ACGTNacgtnMINUS=2,0,4,0,0,1,0,13,0,0                                  & GT:PL:GQ           & ⋯ & TCGGGCAGCC,GTGCTGCCTC              & DP=69;DP5=22,45,0,0,0;DP5all=23,45,0,0,1;ACGTNacgtnHQ=0,0,22,0,0,0,0,45,0,0;ACGTNacgtn=0,1,23,0,0,0,0,45,0,0;VAF=0.00;TSR=0;PBINOM=6.77626357803444e-21                         & somatic & MATCH=exact;RS=144995884;RSPOS=10467367;dbSNPBuildID=134;SSR=0;SAO=0;VP=0x050200000a05000002000100;WGT=1;VC=SNV;S3D;NSM;REF;ASP;OTHERKG;ID=rs144995884                                               & .                                                                                                                                                                    & exonic          & TYK2                                                                                                                                                                                    & nonsynonymous SNV                  & TYK2:ENST00000525621.1:exon18:c.C2494T:p.R832W,TYK2:ENST00000264818.6:exon16:c.C2494T:p.R832W,TYK2:ENST00000524462.1:exon14:c.C1939T:p.R647W,                                                                                                                                  & .                                 \\\\\n",
       "\t chr19 &  50365459 &  50365460 & .                     & G & A  & 183      & PASS & DP=40;VDB=1.052814e-01;RPB=-1.283767e+00;AF1=0.5;AC1=1;DP4=10,14,12,3;MQ=60;FQ=186;PV4=0.054,1,1,0.0078;ACGTNacgtnPLUS=9,0,6,0,0,2,0,8,0,0;ACGTNacgtnMINUS=3,0,4,0,0,2,0,6,0,0                             & GT:PL:GQ           & ⋯ & GAATCCCACT,CGACAACCAC              & DP=67;DP5=26,41,0,0,0;DP5all=26,41,0,0,0;ACGTNacgtnHQ=0,0,26,0,0,0,0,41,0,0;ACGTNacgtn=0,0,26,0,0,0,0,41,0,0;VAF=0.00;TSR=0;PBINOM=6.77626357803444e-21                         & somatic & .                                                                                                                                                                                                    & .                                                                                                                                                                    & exonic          & PNKP                                                                                                                                                                                    & nonsynonymous SNV                  & PNKP:ENST00000600910.1:exon12:c.C1109T:p.A370V,PNKP:ENST00000596014.1:exon11:c.C1109T:p.A370V,PNKP:ENST00000322344.3:exon12:c.C1109T:p.A370V,PNKP:ENST00000600573.1:exon11:c.C1016T:p.A339V,                                                                                   & .                                 \\\\\n",
       "\t chr19 &  51021058 &  51021059 & .                     & C & T  & 225      & PASS & DP=67;VDB=2.662251e-01;RPB=-1.141147e+00;AF1=0.5;AC1=1;DP4=17,17,16,12;MQ=60;FQ=225;PV4=0.61,0.091,0.13,0.48;ACGTNacgtnPLUS=0,12,1,8,0,0,11,1,5,0;ACGTNacgtnMINUS=0,5,0,8,0,0,7,0,7,0                      & GT:PL:GQ           & ⋯ & CCACTGGCCA,GGCGGCCGCG              & DP=65;DP5=30,35,0,0,0;DP5all=30,35,0,0,0;ACGTNacgtnHQ=0,30,0,0,0,0,35,0,0,0;ACGTNacgtn=0,30,0,0,0,0,35,0,0,0;VAF=0.00;TSR=0;PBINOM=2.71050543121377e-20                         & somatic & .                                                                                                                                                                                                    & .                                                                                                                                                                    & exonic          & LRRC4B                                                                                                                                                                                  & nonsynonymous SNV                  & LRRC4B:ENST00000389201.3:exon3:c.G1912A:p.V638M,LRRC4B:ENST00000599957.1:exon3:c.G1912A:p.V638M,                                                                                                                                                                               & .                                 \\\\\n",
       "\t chr19 &  54610464 &  54610465 & .                     & C & A  & 225      & PASS & DP=83;VDB=1.026283e-01;RPB=2.012167e+00;AF1=0.5;AC1=1;DP4=8,7,28,37;MQ=60;FQ=120;PV4=0.57,0.27,1,0.034;ACGTNacgtnPLUS=20,5,0,0,0,22,4,0,0,0;ACGTNacgtnMINUS=9,3,0,0,0,16,3,0,0,0                           & GT:PL:GQ           & ⋯ & CCAAAGTCTT,CTCAACCTTA              & DP=63;DP5=33,30,0,0,0;DP5all=33,30,0,0,0;ACGTNacgtnHQ=0,33,0,0,0,0,30,0,0,0;ACGTNacgtn=0,33,0,0,0,0,30,0,0,0;VAF=0.00;TSR=0;PBINOM=1.08420217248551e-19                         & somatic & .                                                                                                                                                                                                    & .                                                                                                                                                                    & exonic          & TFPT                                                                                                                                                                                    & stopgain SNV                       & TFPT:ENST00000391759.1:exon6:c.G655T:p.E219X,TFPT:ENST00000391758.1:exon6:c.G628T:p.E210X,                                                                                                                                                                                     & .                                 \\\\\n",
       "\t chr20 &  33876381 &  33876382 & .                     & C & T  & 225      & PASS & DP=59;VDB=3.440298e-02;RPB=8.278327e-03;AF1=0.5;AC1=1;DP4=13,19,14,10;MQ=60;FQ=225;PV4=0.28,0.34,1,1;ACGTNacgtnPLUS=0,7,0,6,0,0,7,0,5,0;ACGTNacgtnMINUS=0,6,0,8,0,0,12,0,5,0                               & GT:PL:GQ           & ⋯ & GCTCCGCACA,GCATGTTCTA              & DP=85;DP5=34,49,0,0,0;DP5all=34,51,0,0,0;ACGTNacgtnHQ=0,34,0,0,0,0,49,0,0,0;ACGTNacgtn=0,34,0,0,0,0,51,0,0,0;VAF=0.00;TSR=0;PBINOM=1.03397576569128e-25                         & somatic & .                                                                                                                                                                                                    & .                                                                                                                                                                    & exonic          & FAM83C                                                                                                                                                                                  & nonsynonymous SNV                  & FAM83C:ENST00000374408.3:exon3:c.G689A:p.R230H,                                                                                                                                                                                                                                & .                                 \\\\\n",
       "\t chr7  & 151945071 & 151945072 & rs150073007\\_151945071 & G & GT & .        & PASS & SOMATIC;BRF=0.27;FR=0.2500;HP=2;HapScore=1;MGOF=90;MMLQ=30;MQ=48.79;NF=11;NR=9;PP=529;QD=28.6;SC=TGACTGAGATGTAAGTTGTTG;SbPval=0.68;Source=Platypus;TC=136;TCF=69;TCR=67;TR=20;WE=151945079;WS=151945061;DB & GT:GL:GOF:GQ:NR:NV & ⋯ & 0/1:-58.18,0.0,-300.0:13:99:122:20 & MATCH=exact;POS=151945071;END=151945071;RS=150073007;RSPOS=151945071;dbSNPBuildID=134;SSR=0;SAO=0;VP=0x050000001205000002000200;WGT=1;VC=DIV;NSF;REF;ASP;OTHERKG;ID=rs150073007 & .       & exonic                                                                                                                                                                                               & KMT2C                                                                                                                                                                & stopgain        & KMT2C:ENST00000558084.1:exon14:c.2447dupA:p.Y816\\_I817delinsX,KMT2C:ENST00000262189.6:exon14:c.2447dupA:p.Y816\\_I817delinsX,KMT2C:ENST00000355193.2:exon14:c.2447dupA:p.Y816\\_I817delinsX, & Score=0.965035;Name=chr21:10995230 & 7q36.1                                                                                                                                                                                                                                                                         & .                                 \\\\\n",
       "\\end{tabular}\n"
      ],
      "text/markdown": [
       "\n",
       "A data.frame: 19 × 21\n",
       "\n",
       "| V1 &lt;chr&gt; | V2 &lt;int&gt; | V3 &lt;int&gt; | V4 &lt;chr&gt; | V5 &lt;chr&gt; | V6 &lt;chr&gt; | V7 &lt;chr&gt; | V8 &lt;chr&gt; | V9 &lt;chr&gt; | V10 &lt;chr&gt; | ⋯ ⋯ | V12 &lt;chr&gt; | V13 &lt;chr&gt; | V14 &lt;chr&gt; | V15 &lt;chr&gt; | V16 &lt;chr&gt; | V17 &lt;chr&gt; | V18 &lt;chr&gt; | V19 &lt;chr&gt; | V20 &lt;chr&gt; | V21 &lt;chr&gt; |\n",
       "|---|---|---|---|---|---|---|---|---|---|---|---|---|---|---|---|---|---|---|---|---|\n",
       "| chr2  |  97427962 |  97427963 | .                     | C | T  | 164      | PASS | DP=81;VDB=1.182019e-01;RPB=5.070410e-01;AF1=0.5;AC1=1;DP4=24,33,7,11;MQ=60;FQ=167;PV4=1,0.35,1,0.16;ACGTNacgtnPLUS=0,18,0,6,0,0,14,0,5,0;ACGTNacgtnMINUS=0,6,0,2,0,0,20,0,6,0                              | GT:PL:GQ           | ⋯ | ACTCGCATCC,GGTGTTCGAA              | DP=55;DP5=28,27,0,0,0;DP5all=28,27,0,0,0;ACGTNacgtnHQ=0,28,0,0,0,0,27,0,0,0;ACGTNacgtn=0,28,0,0,0,0,27,0,0,0;VAF=0.00;TSR=0;PBINOM=2.7755575615629e-17                          | somatic | .                                                                                                                                                                                                    | .                                                                                                                                                                    | exonic          | CNNM4                                                                                                                                                                                   | nonsynonymous SNV                  | CNNM4:ENST00000377075.2:exon1:c.C1226T:p.P409L,                                                                                                                                                                                                                                | .                                  |\n",
       "| chr2  | 102626209 | 102626210 | rs139061430           | C | T  | 156      | PASS | DP=88;VDB=8.060930e-02;RPB=-1.237956e+00;AF1=0.5;AC1=1;DP4=36,32,11,8;MQ=60;FQ=159;PV4=0.8,0.49,1,1;ACGTNacgtnPLUS=0,18,0,4,0,0,15,0,3,0;ACGTNacgtnMINUS=0,18,0,7,0,0,17,0,5,0                             | GT:PL:GQ           | ⋯ | AGAAGAGACA,GGATGTGGGC              | DP=29;DP5=14,15,0,0,0;DP5all=14,15,0,0,0;ACGTNacgtnHQ=0,14,0,0,0,0,15,0,0,0;ACGTNacgtn=0,14,0,0,0,0,15,0,0,0;VAF=0.00;TSR=0;PBINOM=1.86264514923096e-09                         | somatic | MATCH=exact;RS=139061430;RSPOS=102626209;dbSNPBuildID=134;SSR=0;SAO=0;VP=0x050200000a05040002000100;WGT=1;VC=SNV;S3D;NSM;REF;ASP;VLD;OTHERKG;ID=rs139061430                                          | .                                                                                                                                                                    | exonic          | IL1R2                                                                                                                                                                                   | nonsynonymous SNV                  | IL1R2:ENST00000457817.1:exon3:c.C253T:p.R85W,IL1R2:ENST00000393414.2:exon3:c.C253T:p.R85W,IL1R2:ENST00000441002.1:exon2:c.C253T:p.R85W,IL1R2:ENST00000332549.3:exon3:c.C253T:p.R85W,                                                                                           | .                                  |\n",
       "| chr2  | 160035647 | 160035648 | .                     | A | G  | 1.73e-10 | PASS | DP=76;VDB=6.164088e-02;RPB=1.774484e+00;AF1=0;AC1=0;DP4=9,42,6,0;MQ=60;FQ=-101;PV4=0.00012,2.2e-05,1,1;ACGTNacgtnPLUS=5,0,2,0,0,18,0,0,0,0;ACGTNacgtnMINUS=4,0,4,0,0,25,0,0,0,0                            | GT:PL:GQ           | ⋯ | GCAGACGGGG,AAACACGGCC              | DP=20;DP5=9,9,0,0,0;DP5all=11,9,0,0,0;ACGTNacgtnHQ=9,0,0,0,0,9,0,0,0,0;ACGTNacgtn=11,0,0,0,0,9,0,0,0,0;VAF=0.00;TSR=0;PBINOM=3.814697265625e-06                                 | somatic | .                                                                                                                                                                                                    | .                                                                                                                                                                    | exonic          | TANC1                                                                                                                                                                                   | nonsynonymous SNV                  | TANC1:ENST00000454300.1:exon12:c.A2165G:p.E722G,TANC1:ENST00000263635.6:exon14:c.A2483G:p.E828G,                                                                                                                                                                               | .                                  |\n",
       "| chr9  | 113169965 | 113169966 | rs374237607           | C | T  | 225      | PASS | DP=47;VDB=1.810776e-01;RPB=-4.710881e-01;AF1=0.5;AC1=1;DP4=16,10,10,8;MQ=60;FQ=225;PV4=0.76,0.089,1,0.27;ACGTNacgtnPLUS=0,6,0,3,0,0,4,0,5,0;ACGTNacgtnMINUS=0,10,0,7,0,0,6,0,4,0                           | GT:PL:GQ           | ⋯ | TCCATCATGT,GTCTTCTTGC              | DP=10;DP5=2,8,0,0,0;DP5all=2,8,0,0,0;ACGTNacgtnHQ=0,2,0,0,0,0,8,0,0,0;ACGTNacgtn=0,2,0,0,0,0,8,0,0,0;VAF=0.00;TSR=0;PBINOM=0.0009765625                                         | somatic | MATCH=exact;RS=374237607;RSPOS=113169965;dbSNPBuildID=138;SSR=0;SAO=0;VP=0x050200000a05000002000100;WGT=1;VC=SNV;S3D;NSM;REF;ASP;OTHERKG;ID=rs374237607                                              | .                                                                                                                                                                    | exonic          | SVEP1                                                                                                                                                                                   | nonsynonymous SNV                  | SVEP1:ENST00000401783.2:exon38:c.G7915A:p.D2639N,SVEP1:ENST00000374469.1:exon38:c.G7846A:p.D2616N,SVEP1:ENST00000297826.5:exon3:c.G1693A:p.D565N,                                                                                                                              | .                                  |\n",
       "| chr11 |    533458 |    533459 | .                     | G | A  | 202      | PASS | DP=48;VDB=1.432041e-01;RPB=9.524719e-01;AF1=0.5;AC1=1;DP4=8,16,5,11;MQ=60;FQ=205;PV4=1,0.44,1,1;ACGTNacgtnPLUS=3,0,6,0,0,5,0,5,0,0;ACGTNacgtnMINUS=2,0,2,0,0,8,0,11,0,0                                    | GT:PL:GQ           | ⋯ | CTCACCTGCC,GGTCTTGGCC              | DP=82;DP5=40,40,0,0,0;DP5all=41,41,0,0,0;ACGTNacgtnHQ=0,0,40,0,0,0,0,40,0,0;ACGTNacgtn=0,0,41,0,0,0,0,41,0,0;VAF=0.00;TSR=0;PBINOM=8.2718061255303e-25                          | somatic | .                                                                                                                                                                                                    | .                                                                                                                                                                    | exonic;splicing | HRAS;HRAS                                                                                                                                                                               | nonsynonymous SNV                  | HRAS:ENST00000397594.1:exon3:c.C445T:p.R149W,HRAS:ENST00000311189.7:exon4:c.C445T:p.R149W,HRAS:ENST00000417302.1:exon4:c.C445T:p.R149W,HRAS:ENST00000397596.2:exon4:c.C445T:p.R149W,HRAS:ENST00000493230.1:exon4:c.C445T:p.R149W,HRAS:ENST00000451590.1:exon4:c.C445T:p.R149W, | .                                  |\n",
       "| chr11 |  55110843 |  55110844 | rs199644874           | T | C  | 225      | PASS | DP=74;VDB=1.344512e-01;RPB=-1.135259e+00;AF1=0.5;AC1=1;DP4=20,28,11,12;MQ=60;FQ=225;PV4=0.62,1,1,0.35;ACGTNacgtnPLUS=0,5,0,10,0,0,5,0,9,0;ACGTNacgtnMINUS=0,6,0,10,0,0,7,0,20,0                            | GT:PL:GQ           | ⋯ | TTGGGCTCCC,AATGTACTTC              | DP=11;DP5=7,4,0,0,0;DP5all=7,4,0,0,0;ACGTNacgtnHQ=0,0,0,7,0,0,0,0,4,0;ACGTNacgtn=0,0,0,7,0,0,0,0,4,0;VAF=0.00;TSR=0;PBINOM=0.00048828125                                        | somatic | MATCH=exact;RS=199644874;RSPOS=55110843;dbSNPBuildID=137;SSR=0;SAO=0;VP=0x050200000a05040002000100;WGT=1;VC=SNV;S3D;NSM;REF;ASP;VLD;OTHERKG;ID=rs199644874                                           | .                                                                                                                                                                    | exonic          | OR4A16                                                                                                                                                                                  | nonsynonymous SNV                  | OR4A16:ENST00000314721.2:exon1:c.T167C:p.L56P,                                                                                                                                                                                                                                 | .                                  |\n",
       "| chr11 |  55110845 |  55110846 | rs200889979           | A | G  | 225      | PASS | DP=72;VDB=1.454344e-01;RPB=-9.522293e-01;AF1=0.5;AC1=1;DP4=19,28,11,12;MQ=60;FQ=225;PV4=0.61,1,1,0.25;ACGTNacgtnPLUS=11,0,5,0,0,9,0,5,0,0;ACGTNacgtnMINUS=8,0,6,0,0,20,0,7,0,0                             | GT:PL:GQ           | ⋯ | GGGCTCCCTA,TGTACTTCTT              | DP=11;DP5=7,4,0,0,0;DP5all=7,4,0,0,0;ACGTNacgtnHQ=7,0,0,0,0,4,0,0,0,0;ACGTNacgtn=7,0,0,0,0,4,0,0,0,0;VAF=0.00;TSR=0;PBINOM=0.00048828125                                        | somatic | MATCH=exact;RS=200889979;RSPOS=55110845;dbSNPBuildID=137;SSR=0;SAO=0;VP=0x050200000a05000002000100;WGT=1;VC=SNV;S3D;NSM;REF;ASP;OTHERKG;ID=rs200889979                                               | .                                                                                                                                                                    | exonic          | OR4A16                                                                                                                                                                                  | nonsynonymous SNV                  | OR4A16:ENST00000314721.2:exon1:c.A169G:p.M57V,                                                                                                                                                                                                                                 | .                                  |\n",
       "| chr11 |  55111413 |  55111414 | rs74668728            | C | T  | 53       | PASS | DP=52;VDB=1.937578e-02;RPB=-1.902141e-01;AF1=0.5;AC1=1;DP4=22,19,4,4;MQ=58;FQ=56;PV4=1,0.22,3.3e-29,0.47;ACGTNacgtnPLUS=0,9,0,2,0,0,10,0,2,0;ACGTNacgtnMINUS=0,13,0,2,0,0,12,0,2,0                         | GT:PL:GQ           | ⋯ | ATTGTGGTTG,CCTCGTTTTT              | DP=10;DP5=4,6,0,0,0;DP5all=4,6,0,0,0;ACGTNacgtnHQ=0,4,0,0,0,0,6,0,0,0;ACGTNacgtn=0,4,0,0,0,0,6,0,0,0;VAF=0.00;TSR=0;PBINOM=0.0009765625                                         | somatic | MATCH=exact;RS=74668728;RSPOS=55111413;dbSNPBuildID=131;SSR=0;SAO=0;VP=0x050000000a05000116000100;WGT=1;VC=SNV;NSM;REF;ASP;GNO;KGPhase1;KGPROD;OTHERKG;CAF=[0.9991,0.0009183];COMMON=0;ID=rs74668728 | MATCH=exact;VT=SNP;SNPSOURCE=LOWCOV;THETA=0.0002;AN=2184;LDAF=0.0010;RSQ=0.9359;ERATE=0.0002;AVGPOST=0.9999;AC=2;AA=t;AF=0.00;AFR_AF=0.00;EUR_AF=0.00;ID=rs74668728  | exonic          | OR4A16                                                                                                                                                                                  | nonsynonymous SNV                  | OR4A16:ENST00000314721.2:exon1:c.C737T:p.A246V,                                                                                                                                                                                                                                | .                                  |\n",
       "| chr11 |  55111418 |  55111419 | rs141537673           | G | T  | 24       | PASS | DP=55;VDB=3.848422e-02;RPB=-3.940552e-02;AF1=0.5;AC1=1;DP4=24,20,4,3;MQ=58;FQ=27;PV4=1,0.21,1.5e-28,1;ACGTNacgtnPLUS=0,0,9,2,0,0,0,9,2,0;ACGTNacgtnMINUS=0,0,15,2,0,0,0,13,2,0                             | GT:PL:GQ           | ⋯ | GGTTGCCCTC,TTTTTGTTCC              | DP=10;DP5=4,6,0,0,0;DP5all=4,6,0,0,0;ACGTNacgtnHQ=0,0,4,0,0,0,0,6,0,0;ACGTNacgtn=0,0,4,0,0,0,0,6,0,0;VAF=0.00;TSR=0;PBINOM=0.0009765625                                         | somatic | MATCH=exact;RS=141537673;RSPOS=55111418;dbSNPBuildID=134;SSR=0;SAO=0;VP=0x050000000a05000016000100;WGT=1;VC=SNV;NSM;REF;ASP;KGPhase1;KGPROD;OTHERKG;CAF=[0.9991,.,0.0009183];COMMON=0;ID=rs141537673 | MATCH=exact;VT=SNP;SNPSOURCE=LOWCOV;LDAF=0.0009;AVGPOST=1.0000;AN=2184;RSQ=1.0000;THETA=0.0007;ERATE=0.0002;AC=2;AA=t;AF=0.00;AFR_AF=0.00;EUR_AF=0.00;ID=rs141537673 | exonic          | OR4A16                                                                                                                                                                                  | nonsynonymous SNV                  | OR4A16:ENST00000314721.2:exon1:c.G742T:p.V248F,                                                                                                                                                                                                                                | .                                  |\n",
       "| chr12 |   8757903 |   8757904 | .                     | C | T  | 225      | PASS | DP=43;VDB=1.016085e-01;RPB=-3.268044e-01;AF1=0.5;AC1=1;DP4=6,13,14,8;MQ=60;FQ=225;PV4=0.062,0.00039,1,1;ACGTNacgtnPLUS=0,2,0,5,0,0,10,0,4,0;ACGTNacgtnMINUS=0,4,0,9,0,0,3,0,4,0                            | GT:PL:GQ           | ⋯ | GAAGTAGAGG,GCGCGGTGAA              | DP=70;DP5=28,40,0,0,0;DP5all=29,41,0,0,0;ACGTNacgtnHQ=0,28,0,0,0,0,40,0,0,0;ACGTNacgtn=0,29,0,0,0,0,41,0,0,0;VAF=0.00;TSR=0;PBINOM=3.3881317890172e-21                          | somatic | .                                                                                                                                                                                                    | .                                                                                                                                                                    | exonic          | AICDA                                                                                                                                                                                   | nonsynonymous SNV                  | AICDA:ENST00000537228.1:exon3:c.G335A:p.R112H,AICDA:ENST00000229335.6:exon3:c.G335A:p.R112H,                                                                                                                                                                                   | .                                  |\n",
       "| chr16 |  11219993 |  11219994 | .                     | C | G  | 221      | PASS | DP=74;VDB=2.330724e-01;RPB=-2.209910e-01;AF1=0.5;AC1=1;DP4=22,26,15,9;MQ=60;FQ=223;PV4=0.22,0.23,1,1;ACGTNacgtnPLUS=0,13,13,0,0,0,8,4,0,0;ACGTNacgtnMINUS=0,9,3,0,0,0,18,5,0,0                             | GT:PL:GQ           | ⋯ | CATCGGTGGA,AAGGTGCCAG              | DP=68;DP5=44,24,0,0,0;DP5all=44,24,0,0,0;ACGTNacgtnHQ=0,44,0,0,0,0,24,0,0,0;ACGTNacgtn=0,44,0,0,0,0,24,0,0,0;VAF=0.00;TSR=0;PBINOM=3.3881317890172e-21                          | somatic | .                                                                                                                                                                                                    | .                                                                                                                                                                    | exonic          | CLEC16A                                                                                                                                                                                 | nonsynonymous SNV                  | CLEC16A:ENST00000409552.3:exon21:c.C2577G:p.D859E,CLEC16A:ENST00000409790.1:exon22:c.C2631G:p.D877E,CLEC16A:ENST00000436973.1:exon2:c.C210G:p.D70E,                                                                                                                            | .                                  |\n",
       "| chr16 |  31374534 |  31374535 | .                     | C | T  | 152      | PASS | DP=63;VDB=1.614641e-01;RPB=1.157672e+00;AF1=0.5;AC1=1;DP4=35,12,9,5;MQ=60;FQ=155;PV4=0.51,1,1,1;ACGTNacgtnPLUS=0,17,0,5,0,0,5,0,2,0;ACGTNacgtnMINUS=0,18,0,4,0,0,7,0,3,0                                   | GT:PL:GQ           | ⋯ | GCAGGGCCAC,CCTGGGGTCG              | DP=58;DP5=39,19,0,0,0;DP5all=39,19,0,0,0;ACGTNacgtnHQ=0,39,0,0,0,0,19,0,0,0;ACGTNacgtn=0,39,0,0,0,0,19,0,0,0;VAF=0.00;TSR=0;PBINOM=3.46944695195362e-18                         | somatic | .                                                                                                                                                                                                    | .                                                                                                                                                                    | exonic          | ITGAX                                                                                                                                                                                   | nonsynonymous SNV                  | ITGAX:ENST00000268296.4:exon14:c.C1549T:p.P517S,ITGAX:ENST00000562522.1:exon14:c.C1549T:p.P517S,                                                                                                                                                                               | Score=0.913706;Name=chr16:31421652 |\n",
       "| chr16 |  55862824 |  55862825 | rs3826192             | C | T  | 0.00435  | PASS | DP=87;VDB=9.024209e-02;RPB=-2.250885e+00;AF1=0;AC1=1;DP4=40,37,4,4;MQ=59;FQ=-27;PV4=0.74,0.42,3.5e-10,1;ACGTNacgtnPLUS=0,17,0,4,0,0,19,0,2,0;ACGTNacgtnMINUS=0,23,0,0,0,0,19,0,3,0                         | GT:PL:GQ           | ⋯ | TCTAAGCTGA,GAACTTCCCC              | DP=23;DP5=12,10,0,0,0;DP5all=13,10,0,0,0;ACGTNacgtnHQ=0,12,0,0,0,0,10,0,0,0;ACGTNacgtn=0,13,0,0,0,0,10,0,0,0;VAF=0.00;TSR=0;PBINOM=2.38418579101562e-07                         | somatic | MATCH=exact;RS=3826192;RSPOS=55862824;RV;dbSNPBuildID=107;SSR=0;SAO=0;VP=0x050300000a0501010f000100;WGT=1;VC=SNV;S3D;SLO;NSM;REF;ASP;G5;GNO;KGPilot123;KGPROD;OTHERKG;PH3;ID=rs3826192               | .                                                                                                                                                                    | exonic          | CES1                                                                                                                                                                                    | nonsynonymous SNV                  | CES1:ENST00000422046.2:exon2:c.G112A:p.V38I,CES1:ENST00000360526.3:exon2:c.G115A:p.V39I,CES1:ENST00000361503.4:exon2:c.G112A:p.V38I,                                                                                                                                           | Score=0.944853;Name=chr16:55788037 |\n",
       "| chr19 |  10467367 |  10467368 | rs144995884           | G | A  | 151      | PASS | DP=45;VDB=9.965187e-02;RPB=1.342890e+00;AF1=0.5;AC1=1;DP4=8,20,5,7;MQ=60;FQ=154;PV4=0.48,1,1,0.23;ACGTNacgtnPLUS=3,0,4,0,0,6,0,7,0,0;ACGTNacgtnMINUS=2,0,4,0,0,1,0,13,0,0                                  | GT:PL:GQ           | ⋯ | TCGGGCAGCC,GTGCTGCCTC              | DP=69;DP5=22,45,0,0,0;DP5all=23,45,0,0,1;ACGTNacgtnHQ=0,0,22,0,0,0,0,45,0,0;ACGTNacgtn=0,1,23,0,0,0,0,45,0,0;VAF=0.00;TSR=0;PBINOM=6.77626357803444e-21                         | somatic | MATCH=exact;RS=144995884;RSPOS=10467367;dbSNPBuildID=134;SSR=0;SAO=0;VP=0x050200000a05000002000100;WGT=1;VC=SNV;S3D;NSM;REF;ASP;OTHERKG;ID=rs144995884                                               | .                                                                                                                                                                    | exonic          | TYK2                                                                                                                                                                                    | nonsynonymous SNV                  | TYK2:ENST00000525621.1:exon18:c.C2494T:p.R832W,TYK2:ENST00000264818.6:exon16:c.C2494T:p.R832W,TYK2:ENST00000524462.1:exon14:c.C1939T:p.R647W,                                                                                                                                  | .                                  |\n",
       "| chr19 |  50365459 |  50365460 | .                     | G | A  | 183      | PASS | DP=40;VDB=1.052814e-01;RPB=-1.283767e+00;AF1=0.5;AC1=1;DP4=10,14,12,3;MQ=60;FQ=186;PV4=0.054,1,1,0.0078;ACGTNacgtnPLUS=9,0,6,0,0,2,0,8,0,0;ACGTNacgtnMINUS=3,0,4,0,0,2,0,6,0,0                             | GT:PL:GQ           | ⋯ | GAATCCCACT,CGACAACCAC              | DP=67;DP5=26,41,0,0,0;DP5all=26,41,0,0,0;ACGTNacgtnHQ=0,0,26,0,0,0,0,41,0,0;ACGTNacgtn=0,0,26,0,0,0,0,41,0,0;VAF=0.00;TSR=0;PBINOM=6.77626357803444e-21                         | somatic | .                                                                                                                                                                                                    | .                                                                                                                                                                    | exonic          | PNKP                                                                                                                                                                                    | nonsynonymous SNV                  | PNKP:ENST00000600910.1:exon12:c.C1109T:p.A370V,PNKP:ENST00000596014.1:exon11:c.C1109T:p.A370V,PNKP:ENST00000322344.3:exon12:c.C1109T:p.A370V,PNKP:ENST00000600573.1:exon11:c.C1016T:p.A339V,                                                                                   | .                                  |\n",
       "| chr19 |  51021058 |  51021059 | .                     | C | T  | 225      | PASS | DP=67;VDB=2.662251e-01;RPB=-1.141147e+00;AF1=0.5;AC1=1;DP4=17,17,16,12;MQ=60;FQ=225;PV4=0.61,0.091,0.13,0.48;ACGTNacgtnPLUS=0,12,1,8,0,0,11,1,5,0;ACGTNacgtnMINUS=0,5,0,8,0,0,7,0,7,0                      | GT:PL:GQ           | ⋯ | CCACTGGCCA,GGCGGCCGCG              | DP=65;DP5=30,35,0,0,0;DP5all=30,35,0,0,0;ACGTNacgtnHQ=0,30,0,0,0,0,35,0,0,0;ACGTNacgtn=0,30,0,0,0,0,35,0,0,0;VAF=0.00;TSR=0;PBINOM=2.71050543121377e-20                         | somatic | .                                                                                                                                                                                                    | .                                                                                                                                                                    | exonic          | LRRC4B                                                                                                                                                                                  | nonsynonymous SNV                  | LRRC4B:ENST00000389201.3:exon3:c.G1912A:p.V638M,LRRC4B:ENST00000599957.1:exon3:c.G1912A:p.V638M,                                                                                                                                                                               | .                                  |\n",
       "| chr19 |  54610464 |  54610465 | .                     | C | A  | 225      | PASS | DP=83;VDB=1.026283e-01;RPB=2.012167e+00;AF1=0.5;AC1=1;DP4=8,7,28,37;MQ=60;FQ=120;PV4=0.57,0.27,1,0.034;ACGTNacgtnPLUS=20,5,0,0,0,22,4,0,0,0;ACGTNacgtnMINUS=9,3,0,0,0,16,3,0,0,0                           | GT:PL:GQ           | ⋯ | CCAAAGTCTT,CTCAACCTTA              | DP=63;DP5=33,30,0,0,0;DP5all=33,30,0,0,0;ACGTNacgtnHQ=0,33,0,0,0,0,30,0,0,0;ACGTNacgtn=0,33,0,0,0,0,30,0,0,0;VAF=0.00;TSR=0;PBINOM=1.08420217248551e-19                         | somatic | .                                                                                                                                                                                                    | .                                                                                                                                                                    | exonic          | TFPT                                                                                                                                                                                    | stopgain SNV                       | TFPT:ENST00000391759.1:exon6:c.G655T:p.E219X,TFPT:ENST00000391758.1:exon6:c.G628T:p.E210X,                                                                                                                                                                                     | .                                  |\n",
       "| chr20 |  33876381 |  33876382 | .                     | C | T  | 225      | PASS | DP=59;VDB=3.440298e-02;RPB=8.278327e-03;AF1=0.5;AC1=1;DP4=13,19,14,10;MQ=60;FQ=225;PV4=0.28,0.34,1,1;ACGTNacgtnPLUS=0,7,0,6,0,0,7,0,5,0;ACGTNacgtnMINUS=0,6,0,8,0,0,12,0,5,0                               | GT:PL:GQ           | ⋯ | GCTCCGCACA,GCATGTTCTA              | DP=85;DP5=34,49,0,0,0;DP5all=34,51,0,0,0;ACGTNacgtnHQ=0,34,0,0,0,0,49,0,0,0;ACGTNacgtn=0,34,0,0,0,0,51,0,0,0;VAF=0.00;TSR=0;PBINOM=1.03397576569128e-25                         | somatic | .                                                                                                                                                                                                    | .                                                                                                                                                                    | exonic          | FAM83C                                                                                                                                                                                  | nonsynonymous SNV                  | FAM83C:ENST00000374408.3:exon3:c.G689A:p.R230H,                                                                                                                                                                                                                                | .                                  |\n",
       "| chr7  | 151945071 | 151945072 | rs150073007_151945071 | G | GT | .        | PASS | SOMATIC;BRF=0.27;FR=0.2500;HP=2;HapScore=1;MGOF=90;MMLQ=30;MQ=48.79;NF=11;NR=9;PP=529;QD=28.6;SC=TGACTGAGATGTAAGTTGTTG;SbPval=0.68;Source=Platypus;TC=136;TCF=69;TCR=67;TR=20;WE=151945079;WS=151945061;DB | GT:GL:GOF:GQ:NR:NV | ⋯ | 0/1:-58.18,0.0,-300.0:13:99:122:20 | MATCH=exact;POS=151945071;END=151945071;RS=150073007;RSPOS=151945071;dbSNPBuildID=134;SSR=0;SAO=0;VP=0x050000001205000002000200;WGT=1;VC=DIV;NSF;REF;ASP;OTHERKG;ID=rs150073007 | .       | exonic                                                                                                                                                                                               | KMT2C                                                                                                                                                                | stopgain        | KMT2C:ENST00000558084.1:exon14:c.2447dupA:p.Y816_I817delinsX,KMT2C:ENST00000262189.6:exon14:c.2447dupA:p.Y816_I817delinsX,KMT2C:ENST00000355193.2:exon14:c.2447dupA:p.Y816_I817delinsX, | Score=0.965035;Name=chr21:10995230 | 7q36.1                                                                                                                                                                                                                                                                         | .                                  |\n",
       "\n"
      ],
      "text/plain": [
       "   V1    V2        V3        V4                    V5 V6 V7       V8  \n",
       "1  chr2   97427962  97427963 .                     C  T  164      PASS\n",
       "2  chr2  102626209 102626210 rs139061430           C  T  156      PASS\n",
       "3  chr2  160035647 160035648 .                     A  G  1.73e-10 PASS\n",
       "4  chr9  113169965 113169966 rs374237607           C  T  225      PASS\n",
       "5  chr11    533458    533459 .                     G  A  202      PASS\n",
       "6  chr11  55110843  55110844 rs199644874           T  C  225      PASS\n",
       "7  chr11  55110845  55110846 rs200889979           A  G  225      PASS\n",
       "8  chr11  55111413  55111414 rs74668728            C  T  53       PASS\n",
       "9  chr11  55111418  55111419 rs141537673           G  T  24       PASS\n",
       "10 chr12   8757903   8757904 .                     C  T  225      PASS\n",
       "11 chr16  11219993  11219994 .                     C  G  221      PASS\n",
       "12 chr16  31374534  31374535 .                     C  T  152      PASS\n",
       "13 chr16  55862824  55862825 rs3826192             C  T  0.00435  PASS\n",
       "14 chr19  10467367  10467368 rs144995884           G  A  151      PASS\n",
       "15 chr19  50365459  50365460 .                     G  A  183      PASS\n",
       "16 chr19  51021058  51021059 .                     C  T  225      PASS\n",
       "17 chr19  54610464  54610465 .                     C  A  225      PASS\n",
       "18 chr20  33876381  33876382 .                     C  T  225      PASS\n",
       "19 chr7  151945071 151945072 rs150073007_151945071 G  GT .        PASS\n",
       "   V9                                                                                                                                                                                                        \n",
       "1  DP=81;VDB=1.182019e-01;RPB=5.070410e-01;AF1=0.5;AC1=1;DP4=24,33,7,11;MQ=60;FQ=167;PV4=1,0.35,1,0.16;ACGTNacgtnPLUS=0,18,0,6,0,0,14,0,5,0;ACGTNacgtnMINUS=0,6,0,2,0,0,20,0,6,0                             \n",
       "2  DP=88;VDB=8.060930e-02;RPB=-1.237956e+00;AF1=0.5;AC1=1;DP4=36,32,11,8;MQ=60;FQ=159;PV4=0.8,0.49,1,1;ACGTNacgtnPLUS=0,18,0,4,0,0,15,0,3,0;ACGTNacgtnMINUS=0,18,0,7,0,0,17,0,5,0                            \n",
       "3  DP=76;VDB=6.164088e-02;RPB=1.774484e+00;AF1=0;AC1=0;DP4=9,42,6,0;MQ=60;FQ=-101;PV4=0.00012,2.2e-05,1,1;ACGTNacgtnPLUS=5,0,2,0,0,18,0,0,0,0;ACGTNacgtnMINUS=4,0,4,0,0,25,0,0,0,0                           \n",
       "4  DP=47;VDB=1.810776e-01;RPB=-4.710881e-01;AF1=0.5;AC1=1;DP4=16,10,10,8;MQ=60;FQ=225;PV4=0.76,0.089,1,0.27;ACGTNacgtnPLUS=0,6,0,3,0,0,4,0,5,0;ACGTNacgtnMINUS=0,10,0,7,0,0,6,0,4,0                          \n",
       "5  DP=48;VDB=1.432041e-01;RPB=9.524719e-01;AF1=0.5;AC1=1;DP4=8,16,5,11;MQ=60;FQ=205;PV4=1,0.44,1,1;ACGTNacgtnPLUS=3,0,6,0,0,5,0,5,0,0;ACGTNacgtnMINUS=2,0,2,0,0,8,0,11,0,0                                   \n",
       "6  DP=74;VDB=1.344512e-01;RPB=-1.135259e+00;AF1=0.5;AC1=1;DP4=20,28,11,12;MQ=60;FQ=225;PV4=0.62,1,1,0.35;ACGTNacgtnPLUS=0,5,0,10,0,0,5,0,9,0;ACGTNacgtnMINUS=0,6,0,10,0,0,7,0,20,0                           \n",
       "7  DP=72;VDB=1.454344e-01;RPB=-9.522293e-01;AF1=0.5;AC1=1;DP4=19,28,11,12;MQ=60;FQ=225;PV4=0.61,1,1,0.25;ACGTNacgtnPLUS=11,0,5,0,0,9,0,5,0,0;ACGTNacgtnMINUS=8,0,6,0,0,20,0,7,0,0                            \n",
       "8  DP=52;VDB=1.937578e-02;RPB=-1.902141e-01;AF1=0.5;AC1=1;DP4=22,19,4,4;MQ=58;FQ=56;PV4=1,0.22,3.3e-29,0.47;ACGTNacgtnPLUS=0,9,0,2,0,0,10,0,2,0;ACGTNacgtnMINUS=0,13,0,2,0,0,12,0,2,0                        \n",
       "9  DP=55;VDB=3.848422e-02;RPB=-3.940552e-02;AF1=0.5;AC1=1;DP4=24,20,4,3;MQ=58;FQ=27;PV4=1,0.21,1.5e-28,1;ACGTNacgtnPLUS=0,0,9,2,0,0,0,9,2,0;ACGTNacgtnMINUS=0,0,15,2,0,0,0,13,2,0                            \n",
       "10 DP=43;VDB=1.016085e-01;RPB=-3.268044e-01;AF1=0.5;AC1=1;DP4=6,13,14,8;MQ=60;FQ=225;PV4=0.062,0.00039,1,1;ACGTNacgtnPLUS=0,2,0,5,0,0,10,0,4,0;ACGTNacgtnMINUS=0,4,0,9,0,0,3,0,4,0                           \n",
       "11 DP=74;VDB=2.330724e-01;RPB=-2.209910e-01;AF1=0.5;AC1=1;DP4=22,26,15,9;MQ=60;FQ=223;PV4=0.22,0.23,1,1;ACGTNacgtnPLUS=0,13,13,0,0,0,8,4,0,0;ACGTNacgtnMINUS=0,9,3,0,0,0,18,5,0,0                            \n",
       "12 DP=63;VDB=1.614641e-01;RPB=1.157672e+00;AF1=0.5;AC1=1;DP4=35,12,9,5;MQ=60;FQ=155;PV4=0.51,1,1,1;ACGTNacgtnPLUS=0,17,0,5,0,0,5,0,2,0;ACGTNacgtnMINUS=0,18,0,4,0,0,7,0,3,0                                  \n",
       "13 DP=87;VDB=9.024209e-02;RPB=-2.250885e+00;AF1=0;AC1=1;DP4=40,37,4,4;MQ=59;FQ=-27;PV4=0.74,0.42,3.5e-10,1;ACGTNacgtnPLUS=0,17,0,4,0,0,19,0,2,0;ACGTNacgtnMINUS=0,23,0,0,0,0,19,0,3,0                        \n",
       "14 DP=45;VDB=9.965187e-02;RPB=1.342890e+00;AF1=0.5;AC1=1;DP4=8,20,5,7;MQ=60;FQ=154;PV4=0.48,1,1,0.23;ACGTNacgtnPLUS=3,0,4,0,0,6,0,7,0,0;ACGTNacgtnMINUS=2,0,4,0,0,1,0,13,0,0                                 \n",
       "15 DP=40;VDB=1.052814e-01;RPB=-1.283767e+00;AF1=0.5;AC1=1;DP4=10,14,12,3;MQ=60;FQ=186;PV4=0.054,1,1,0.0078;ACGTNacgtnPLUS=9,0,6,0,0,2,0,8,0,0;ACGTNacgtnMINUS=3,0,4,0,0,2,0,6,0,0                            \n",
       "16 DP=67;VDB=2.662251e-01;RPB=-1.141147e+00;AF1=0.5;AC1=1;DP4=17,17,16,12;MQ=60;FQ=225;PV4=0.61,0.091,0.13,0.48;ACGTNacgtnPLUS=0,12,1,8,0,0,11,1,5,0;ACGTNacgtnMINUS=0,5,0,8,0,0,7,0,7,0                     \n",
       "17 DP=83;VDB=1.026283e-01;RPB=2.012167e+00;AF1=0.5;AC1=1;DP4=8,7,28,37;MQ=60;FQ=120;PV4=0.57,0.27,1,0.034;ACGTNacgtnPLUS=20,5,0,0,0,22,4,0,0,0;ACGTNacgtnMINUS=9,3,0,0,0,16,3,0,0,0                          \n",
       "18 DP=59;VDB=3.440298e-02;RPB=8.278327e-03;AF1=0.5;AC1=1;DP4=13,19,14,10;MQ=60;FQ=225;PV4=0.28,0.34,1,1;ACGTNacgtnPLUS=0,7,0,6,0,0,7,0,5,0;ACGTNacgtnMINUS=0,6,0,8,0,0,12,0,5,0                              \n",
       "19 SOMATIC;BRF=0.27;FR=0.2500;HP=2;HapScore=1;MGOF=90;MMLQ=30;MQ=48.79;NF=11;NR=9;PP=529;QD=28.6;SC=TGACTGAGATGTAAGTTGTTG;SbPval=0.68;Source=Platypus;TC=136;TCF=69;TCR=67;TR=20;WE=151945079;WS=151945061;DB\n",
       "   V10                ⋯ V12                               \n",
       "1  GT:PL:GQ           ⋯ ACTCGCATCC,GGTGTTCGAA             \n",
       "2  GT:PL:GQ           ⋯ AGAAGAGACA,GGATGTGGGC             \n",
       "3  GT:PL:GQ           ⋯ GCAGACGGGG,AAACACGGCC             \n",
       "4  GT:PL:GQ           ⋯ TCCATCATGT,GTCTTCTTGC             \n",
       "5  GT:PL:GQ           ⋯ CTCACCTGCC,GGTCTTGGCC             \n",
       "6  GT:PL:GQ           ⋯ TTGGGCTCCC,AATGTACTTC             \n",
       "7  GT:PL:GQ           ⋯ GGGCTCCCTA,TGTACTTCTT             \n",
       "8  GT:PL:GQ           ⋯ ATTGTGGTTG,CCTCGTTTTT             \n",
       "9  GT:PL:GQ           ⋯ GGTTGCCCTC,TTTTTGTTCC             \n",
       "10 GT:PL:GQ           ⋯ GAAGTAGAGG,GCGCGGTGAA             \n",
       "11 GT:PL:GQ           ⋯ CATCGGTGGA,AAGGTGCCAG             \n",
       "12 GT:PL:GQ           ⋯ GCAGGGCCAC,CCTGGGGTCG             \n",
       "13 GT:PL:GQ           ⋯ TCTAAGCTGA,GAACTTCCCC             \n",
       "14 GT:PL:GQ           ⋯ TCGGGCAGCC,GTGCTGCCTC             \n",
       "15 GT:PL:GQ           ⋯ GAATCCCACT,CGACAACCAC             \n",
       "16 GT:PL:GQ           ⋯ CCACTGGCCA,GGCGGCCGCG             \n",
       "17 GT:PL:GQ           ⋯ CCAAAGTCTT,CTCAACCTTA             \n",
       "18 GT:PL:GQ           ⋯ GCTCCGCACA,GCATGTTCTA             \n",
       "19 GT:GL:GOF:GQ:NR:NV ⋯ 0/1:-58.18,0.0,-300.0:13:99:122:20\n",
       "   V13                                                                                                                                                                            \n",
       "1  DP=55;DP5=28,27,0,0,0;DP5all=28,27,0,0,0;ACGTNacgtnHQ=0,28,0,0,0,0,27,0,0,0;ACGTNacgtn=0,28,0,0,0,0,27,0,0,0;VAF=0.00;TSR=0;PBINOM=2.7755575615629e-17                         \n",
       "2  DP=29;DP5=14,15,0,0,0;DP5all=14,15,0,0,0;ACGTNacgtnHQ=0,14,0,0,0,0,15,0,0,0;ACGTNacgtn=0,14,0,0,0,0,15,0,0,0;VAF=0.00;TSR=0;PBINOM=1.86264514923096e-09                        \n",
       "3  DP=20;DP5=9,9,0,0,0;DP5all=11,9,0,0,0;ACGTNacgtnHQ=9,0,0,0,0,9,0,0,0,0;ACGTNacgtn=11,0,0,0,0,9,0,0,0,0;VAF=0.00;TSR=0;PBINOM=3.814697265625e-06                                \n",
       "4  DP=10;DP5=2,8,0,0,0;DP5all=2,8,0,0,0;ACGTNacgtnHQ=0,2,0,0,0,0,8,0,0,0;ACGTNacgtn=0,2,0,0,0,0,8,0,0,0;VAF=0.00;TSR=0;PBINOM=0.0009765625                                        \n",
       "5  DP=82;DP5=40,40,0,0,0;DP5all=41,41,0,0,0;ACGTNacgtnHQ=0,0,40,0,0,0,0,40,0,0;ACGTNacgtn=0,0,41,0,0,0,0,41,0,0;VAF=0.00;TSR=0;PBINOM=8.2718061255303e-25                         \n",
       "6  DP=11;DP5=7,4,0,0,0;DP5all=7,4,0,0,0;ACGTNacgtnHQ=0,0,0,7,0,0,0,0,4,0;ACGTNacgtn=0,0,0,7,0,0,0,0,4,0;VAF=0.00;TSR=0;PBINOM=0.00048828125                                       \n",
       "7  DP=11;DP5=7,4,0,0,0;DP5all=7,4,0,0,0;ACGTNacgtnHQ=7,0,0,0,0,4,0,0,0,0;ACGTNacgtn=7,0,0,0,0,4,0,0,0,0;VAF=0.00;TSR=0;PBINOM=0.00048828125                                       \n",
       "8  DP=10;DP5=4,6,0,0,0;DP5all=4,6,0,0,0;ACGTNacgtnHQ=0,4,0,0,0,0,6,0,0,0;ACGTNacgtn=0,4,0,0,0,0,6,0,0,0;VAF=0.00;TSR=0;PBINOM=0.0009765625                                        \n",
       "9  DP=10;DP5=4,6,0,0,0;DP5all=4,6,0,0,0;ACGTNacgtnHQ=0,0,4,0,0,0,0,6,0,0;ACGTNacgtn=0,0,4,0,0,0,0,6,0,0;VAF=0.00;TSR=0;PBINOM=0.0009765625                                        \n",
       "10 DP=70;DP5=28,40,0,0,0;DP5all=29,41,0,0,0;ACGTNacgtnHQ=0,28,0,0,0,0,40,0,0,0;ACGTNacgtn=0,29,0,0,0,0,41,0,0,0;VAF=0.00;TSR=0;PBINOM=3.3881317890172e-21                         \n",
       "11 DP=68;DP5=44,24,0,0,0;DP5all=44,24,0,0,0;ACGTNacgtnHQ=0,44,0,0,0,0,24,0,0,0;ACGTNacgtn=0,44,0,0,0,0,24,0,0,0;VAF=0.00;TSR=0;PBINOM=3.3881317890172e-21                         \n",
       "12 DP=58;DP5=39,19,0,0,0;DP5all=39,19,0,0,0;ACGTNacgtnHQ=0,39,0,0,0,0,19,0,0,0;ACGTNacgtn=0,39,0,0,0,0,19,0,0,0;VAF=0.00;TSR=0;PBINOM=3.46944695195362e-18                        \n",
       "13 DP=23;DP5=12,10,0,0,0;DP5all=13,10,0,0,0;ACGTNacgtnHQ=0,12,0,0,0,0,10,0,0,0;ACGTNacgtn=0,13,0,0,0,0,10,0,0,0;VAF=0.00;TSR=0;PBINOM=2.38418579101562e-07                        \n",
       "14 DP=69;DP5=22,45,0,0,0;DP5all=23,45,0,0,1;ACGTNacgtnHQ=0,0,22,0,0,0,0,45,0,0;ACGTNacgtn=0,1,23,0,0,0,0,45,0,0;VAF=0.00;TSR=0;PBINOM=6.77626357803444e-21                        \n",
       "15 DP=67;DP5=26,41,0,0,0;DP5all=26,41,0,0,0;ACGTNacgtnHQ=0,0,26,0,0,0,0,41,0,0;ACGTNacgtn=0,0,26,0,0,0,0,41,0,0;VAF=0.00;TSR=0;PBINOM=6.77626357803444e-21                        \n",
       "16 DP=65;DP5=30,35,0,0,0;DP5all=30,35,0,0,0;ACGTNacgtnHQ=0,30,0,0,0,0,35,0,0,0;ACGTNacgtn=0,30,0,0,0,0,35,0,0,0;VAF=0.00;TSR=0;PBINOM=2.71050543121377e-20                        \n",
       "17 DP=63;DP5=33,30,0,0,0;DP5all=33,30,0,0,0;ACGTNacgtnHQ=0,33,0,0,0,0,30,0,0,0;ACGTNacgtn=0,33,0,0,0,0,30,0,0,0;VAF=0.00;TSR=0;PBINOM=1.08420217248551e-19                        \n",
       "18 DP=85;DP5=34,49,0,0,0;DP5all=34,51,0,0,0;ACGTNacgtnHQ=0,34,0,0,0,0,49,0,0,0;ACGTNacgtn=0,34,0,0,0,0,51,0,0,0;VAF=0.00;TSR=0;PBINOM=1.03397576569128e-25                        \n",
       "19 MATCH=exact;POS=151945071;END=151945071;RS=150073007;RSPOS=151945071;dbSNPBuildID=134;SSR=0;SAO=0;VP=0x050000001205000002000200;WGT=1;VC=DIV;NSF;REF;ASP;OTHERKG;ID=rs150073007\n",
       "   V14    \n",
       "1  somatic\n",
       "2  somatic\n",
       "3  somatic\n",
       "4  somatic\n",
       "5  somatic\n",
       "6  somatic\n",
       "7  somatic\n",
       "8  somatic\n",
       "9  somatic\n",
       "10 somatic\n",
       "11 somatic\n",
       "12 somatic\n",
       "13 somatic\n",
       "14 somatic\n",
       "15 somatic\n",
       "16 somatic\n",
       "17 somatic\n",
       "18 somatic\n",
       "19 .      \n",
       "   V15                                                                                                                                                                                                 \n",
       "1  .                                                                                                                                                                                                   \n",
       "2  MATCH=exact;RS=139061430;RSPOS=102626209;dbSNPBuildID=134;SSR=0;SAO=0;VP=0x050200000a05040002000100;WGT=1;VC=SNV;S3D;NSM;REF;ASP;VLD;OTHERKG;ID=rs139061430                                         \n",
       "3  .                                                                                                                                                                                                   \n",
       "4  MATCH=exact;RS=374237607;RSPOS=113169965;dbSNPBuildID=138;SSR=0;SAO=0;VP=0x050200000a05000002000100;WGT=1;VC=SNV;S3D;NSM;REF;ASP;OTHERKG;ID=rs374237607                                             \n",
       "5  .                                                                                                                                                                                                   \n",
       "6  MATCH=exact;RS=199644874;RSPOS=55110843;dbSNPBuildID=137;SSR=0;SAO=0;VP=0x050200000a05040002000100;WGT=1;VC=SNV;S3D;NSM;REF;ASP;VLD;OTHERKG;ID=rs199644874                                          \n",
       "7  MATCH=exact;RS=200889979;RSPOS=55110845;dbSNPBuildID=137;SSR=0;SAO=0;VP=0x050200000a05000002000100;WGT=1;VC=SNV;S3D;NSM;REF;ASP;OTHERKG;ID=rs200889979                                              \n",
       "8  MATCH=exact;RS=74668728;RSPOS=55111413;dbSNPBuildID=131;SSR=0;SAO=0;VP=0x050000000a05000116000100;WGT=1;VC=SNV;NSM;REF;ASP;GNO;KGPhase1;KGPROD;OTHERKG;CAF=[0.9991,0.0009183];COMMON=0;ID=rs74668728\n",
       "9  MATCH=exact;RS=141537673;RSPOS=55111418;dbSNPBuildID=134;SSR=0;SAO=0;VP=0x050000000a05000016000100;WGT=1;VC=SNV;NSM;REF;ASP;KGPhase1;KGPROD;OTHERKG;CAF=[0.9991,.,0.0009183];COMMON=0;ID=rs141537673\n",
       "10 .                                                                                                                                                                                                   \n",
       "11 .                                                                                                                                                                                                   \n",
       "12 .                                                                                                                                                                                                   \n",
       "13 MATCH=exact;RS=3826192;RSPOS=55862824;RV;dbSNPBuildID=107;SSR=0;SAO=0;VP=0x050300000a0501010f000100;WGT=1;VC=SNV;S3D;SLO;NSM;REF;ASP;G5;GNO;KGPilot123;KGPROD;OTHERKG;PH3;ID=rs3826192              \n",
       "14 MATCH=exact;RS=144995884;RSPOS=10467367;dbSNPBuildID=134;SSR=0;SAO=0;VP=0x050200000a05000002000100;WGT=1;VC=SNV;S3D;NSM;REF;ASP;OTHERKG;ID=rs144995884                                              \n",
       "15 .                                                                                                                                                                                                   \n",
       "16 .                                                                                                                                                                                                   \n",
       "17 .                                                                                                                                                                                                   \n",
       "18 .                                                                                                                                                                                                   \n",
       "19 exonic                                                                                                                                                                                              \n",
       "   V16                                                                                                                                                                 \n",
       "1  .                                                                                                                                                                   \n",
       "2  .                                                                                                                                                                   \n",
       "3  .                                                                                                                                                                   \n",
       "4  .                                                                                                                                                                   \n",
       "5  .                                                                                                                                                                   \n",
       "6  .                                                                                                                                                                   \n",
       "7  .                                                                                                                                                                   \n",
       "8  MATCH=exact;VT=SNP;SNPSOURCE=LOWCOV;THETA=0.0002;AN=2184;LDAF=0.0010;RSQ=0.9359;ERATE=0.0002;AVGPOST=0.9999;AC=2;AA=t;AF=0.00;AFR_AF=0.00;EUR_AF=0.00;ID=rs74668728 \n",
       "9  MATCH=exact;VT=SNP;SNPSOURCE=LOWCOV;LDAF=0.0009;AVGPOST=1.0000;AN=2184;RSQ=1.0000;THETA=0.0007;ERATE=0.0002;AC=2;AA=t;AF=0.00;AFR_AF=0.00;EUR_AF=0.00;ID=rs141537673\n",
       "10 .                                                                                                                                                                   \n",
       "11 .                                                                                                                                                                   \n",
       "12 .                                                                                                                                                                   \n",
       "13 .                                                                                                                                                                   \n",
       "14 .                                                                                                                                                                   \n",
       "15 .                                                                                                                                                                   \n",
       "16 .                                                                                                                                                                   \n",
       "17 .                                                                                                                                                                   \n",
       "18 .                                                                                                                                                                   \n",
       "19 KMT2C                                                                                                                                                               \n",
       "   V17            \n",
       "1  exonic         \n",
       "2  exonic         \n",
       "3  exonic         \n",
       "4  exonic         \n",
       "5  exonic;splicing\n",
       "6  exonic         \n",
       "7  exonic         \n",
       "8  exonic         \n",
       "9  exonic         \n",
       "10 exonic         \n",
       "11 exonic         \n",
       "12 exonic         \n",
       "13 exonic         \n",
       "14 exonic         \n",
       "15 exonic         \n",
       "16 exonic         \n",
       "17 exonic         \n",
       "18 exonic         \n",
       "19 stopgain       \n",
       "   V18                                                                                                                                                                                    \n",
       "1  CNNM4                                                                                                                                                                                  \n",
       "2  IL1R2                                                                                                                                                                                  \n",
       "3  TANC1                                                                                                                                                                                  \n",
       "4  SVEP1                                                                                                                                                                                  \n",
       "5  HRAS;HRAS                                                                                                                                                                              \n",
       "6  OR4A16                                                                                                                                                                                 \n",
       "7  OR4A16                                                                                                                                                                                 \n",
       "8  OR4A16                                                                                                                                                                                 \n",
       "9  OR4A16                                                                                                                                                                                 \n",
       "10 AICDA                                                                                                                                                                                  \n",
       "11 CLEC16A                                                                                                                                                                                \n",
       "12 ITGAX                                                                                                                                                                                  \n",
       "13 CES1                                                                                                                                                                                   \n",
       "14 TYK2                                                                                                                                                                                   \n",
       "15 PNKP                                                                                                                                                                                   \n",
       "16 LRRC4B                                                                                                                                                                                 \n",
       "17 TFPT                                                                                                                                                                                   \n",
       "18 FAM83C                                                                                                                                                                                 \n",
       "19 KMT2C:ENST00000558084.1:exon14:c.2447dupA:p.Y816_I817delinsX,KMT2C:ENST00000262189.6:exon14:c.2447dupA:p.Y816_I817delinsX,KMT2C:ENST00000355193.2:exon14:c.2447dupA:p.Y816_I817delinsX,\n",
       "   V19                               \n",
       "1  nonsynonymous SNV                 \n",
       "2  nonsynonymous SNV                 \n",
       "3  nonsynonymous SNV                 \n",
       "4  nonsynonymous SNV                 \n",
       "5  nonsynonymous SNV                 \n",
       "6  nonsynonymous SNV                 \n",
       "7  nonsynonymous SNV                 \n",
       "8  nonsynonymous SNV                 \n",
       "9  nonsynonymous SNV                 \n",
       "10 nonsynonymous SNV                 \n",
       "11 nonsynonymous SNV                 \n",
       "12 nonsynonymous SNV                 \n",
       "13 nonsynonymous SNV                 \n",
       "14 nonsynonymous SNV                 \n",
       "15 nonsynonymous SNV                 \n",
       "16 nonsynonymous SNV                 \n",
       "17 stopgain SNV                      \n",
       "18 nonsynonymous SNV                 \n",
       "19 Score=0.965035;Name=chr21:10995230\n",
       "   V20                                                                                                                                                                                                                                                                           \n",
       "1  CNNM4:ENST00000377075.2:exon1:c.C1226T:p.P409L,                                                                                                                                                                                                                               \n",
       "2  IL1R2:ENST00000457817.1:exon3:c.C253T:p.R85W,IL1R2:ENST00000393414.2:exon3:c.C253T:p.R85W,IL1R2:ENST00000441002.1:exon2:c.C253T:p.R85W,IL1R2:ENST00000332549.3:exon3:c.C253T:p.R85W,                                                                                          \n",
       "3  TANC1:ENST00000454300.1:exon12:c.A2165G:p.E722G,TANC1:ENST00000263635.6:exon14:c.A2483G:p.E828G,                                                                                                                                                                              \n",
       "4  SVEP1:ENST00000401783.2:exon38:c.G7915A:p.D2639N,SVEP1:ENST00000374469.1:exon38:c.G7846A:p.D2616N,SVEP1:ENST00000297826.5:exon3:c.G1693A:p.D565N,                                                                                                                             \n",
       "5  HRAS:ENST00000397594.1:exon3:c.C445T:p.R149W,HRAS:ENST00000311189.7:exon4:c.C445T:p.R149W,HRAS:ENST00000417302.1:exon4:c.C445T:p.R149W,HRAS:ENST00000397596.2:exon4:c.C445T:p.R149W,HRAS:ENST00000493230.1:exon4:c.C445T:p.R149W,HRAS:ENST00000451590.1:exon4:c.C445T:p.R149W,\n",
       "6  OR4A16:ENST00000314721.2:exon1:c.T167C:p.L56P,                                                                                                                                                                                                                                \n",
       "7  OR4A16:ENST00000314721.2:exon1:c.A169G:p.M57V,                                                                                                                                                                                                                                \n",
       "8  OR4A16:ENST00000314721.2:exon1:c.C737T:p.A246V,                                                                                                                                                                                                                               \n",
       "9  OR4A16:ENST00000314721.2:exon1:c.G742T:p.V248F,                                                                                                                                                                                                                               \n",
       "10 AICDA:ENST00000537228.1:exon3:c.G335A:p.R112H,AICDA:ENST00000229335.6:exon3:c.G335A:p.R112H,                                                                                                                                                                                  \n",
       "11 CLEC16A:ENST00000409552.3:exon21:c.C2577G:p.D859E,CLEC16A:ENST00000409790.1:exon22:c.C2631G:p.D877E,CLEC16A:ENST00000436973.1:exon2:c.C210G:p.D70E,                                                                                                                           \n",
       "12 ITGAX:ENST00000268296.4:exon14:c.C1549T:p.P517S,ITGAX:ENST00000562522.1:exon14:c.C1549T:p.P517S,                                                                                                                                                                              \n",
       "13 CES1:ENST00000422046.2:exon2:c.G112A:p.V38I,CES1:ENST00000360526.3:exon2:c.G115A:p.V39I,CES1:ENST00000361503.4:exon2:c.G112A:p.V38I,                                                                                                                                          \n",
       "14 TYK2:ENST00000525621.1:exon18:c.C2494T:p.R832W,TYK2:ENST00000264818.6:exon16:c.C2494T:p.R832W,TYK2:ENST00000524462.1:exon14:c.C1939T:p.R647W,                                                                                                                                 \n",
       "15 PNKP:ENST00000600910.1:exon12:c.C1109T:p.A370V,PNKP:ENST00000596014.1:exon11:c.C1109T:p.A370V,PNKP:ENST00000322344.3:exon12:c.C1109T:p.A370V,PNKP:ENST00000600573.1:exon11:c.C1016T:p.A339V,                                                                                  \n",
       "16 LRRC4B:ENST00000389201.3:exon3:c.G1912A:p.V638M,LRRC4B:ENST00000599957.1:exon3:c.G1912A:p.V638M,                                                                                                                                                                              \n",
       "17 TFPT:ENST00000391759.1:exon6:c.G655T:p.E219X,TFPT:ENST00000391758.1:exon6:c.G628T:p.E210X,                                                                                                                                                                                    \n",
       "18 FAM83C:ENST00000374408.3:exon3:c.G689A:p.R230H,                                                                                                                                                                                                                               \n",
       "19 7q36.1                                                                                                                                                                                                                                                                        \n",
       "   V21                               \n",
       "1  .                                 \n",
       "2  .                                 \n",
       "3  .                                 \n",
       "4  .                                 \n",
       "5  .                                 \n",
       "6  .                                 \n",
       "7  .                                 \n",
       "8  .                                 \n",
       "9  .                                 \n",
       "10 .                                 \n",
       "11 .                                 \n",
       "12 Score=0.913706;Name=chr16:31421652\n",
       "13 Score=0.944853;Name=chr16:55788037\n",
       "14 .                                 \n",
       "15 .                                 \n",
       "16 .                                 \n",
       "17 .                                 \n",
       "18 .                                 \n",
       "19 .                                 "
      ]
     },
     "metadata": {},
     "output_type": "display_data"
    }
   ],
   "source": [
    "read.table(paste0(vcfpath, vcflist[grepl(\"ET9\", vcflist)]), sep = \"\\t\", header = F, stringsAsFactors = F) "
   ]
  },
  {
   "cell_type": "code",
   "execution_count": 69,
   "metadata": {},
   "outputs": [],
   "source": [
    "all_vcfs <- lapply(names(tmp),function(f){\n",
    "    vcffile1 <- read.table(paste0(vcfpath, f), sep = \"\\t\", header = F, stringsAsFactors = F) \n",
    "    snv <- vcffile1[grepl(\"exonic\",vcffile1$V17),]\n",
    "    indel <- vcffile1[!grepl(\"exonic\",vcffile1$V17),]\n",
    "    colnames(snv) <- cols_snv\n",
    "    colnames(indel) <- cols_indel\n",
    "    indel_snv <- rbind(snv[,get_cols], indel[, get_cols])\n",
    "    return(indel_snv)\n",
    "})"
   ]
  },
  {
   "cell_type": "code",
   "execution_count": 70,
   "metadata": {},
   "outputs": [],
   "source": [
    "myfilesnames <- names(tmp)"
   ]
  },
  {
   "cell_type": "code",
   "execution_count": 71,
   "metadata": {},
   "outputs": [],
   "source": [
    "names(all_vcfs) <- gsub(\"_somatic_SNVs_and_INDELs.CommonRegionFiltered.vcf\", \"\", myfilesnames)"
   ]
  },
  {
   "cell_type": "code",
   "execution_count": 72,
   "metadata": {},
   "outputs": [],
   "source": [
    "icgc_vcfs <- do.call(\"rbind\", all_vcfs)"
   ]
  },
  {
   "cell_type": "code",
   "execution_count": 73,
   "metadata": {},
   "outputs": [],
   "source": [
    "icgc_vcfs$filename <- rep(names(all_vcfs), sapply(all_vcfs, nrow))"
   ]
  },
  {
   "cell_type": "code",
   "execution_count": 74,
   "metadata": {},
   "outputs": [],
   "source": [
    "rownames(icgc_vcfs) <- NULL"
   ]
  },
  {
   "cell_type": "markdown",
   "metadata": {},
   "source": [
    "strip last , from ANNOVAR_TRANSCRIPTS and separate rows to catch all transcripts"
   ]
  },
  {
   "cell_type": "code",
   "execution_count": 75,
   "metadata": {},
   "outputs": [],
   "source": [
    "icgc_vcfs$ANNOVAR_TRANSCRIPTS <- gsub(\",$\", \"\", icgc_vcfs$ANNOVAR_TRANSCRIPTS)"
   ]
  },
  {
   "cell_type": "code",
   "execution_count": 76,
   "metadata": {},
   "outputs": [],
   "source": [
    "icgc_vcfs_separate = separate_rows(icgc_vcfs, ANNOVAR_TRANSCRIPTS,sep = \",\")"
   ]
  },
  {
   "cell_type": "code",
   "execution_count": 77,
   "metadata": {},
   "outputs": [
    {
     "data": {
      "text/html": [
       "<table class=\"dataframe\">\n",
       "<caption>A tibble: 6 × 15</caption>\n",
       "<thead>\n",
       "\t<tr><th scope=col>Chr</th><th scope=col>Start</th><th scope=col>End</th><th scope=col>ID</th><th scope=col>REF</th><th scope=col>ALT</th><th scope=col>QUAL</th><th scope=col>FILTER</th><th scope=col>INFO</th><th scope=col>FORMAT</th><th scope=col>ANNOVAR_FUNCTION</th><th scope=col>GENE</th><th scope=col>EXONIC_CLASSIFICATION</th><th scope=col>ANNOVAR_TRANSCRIPTS</th><th scope=col>filename</th></tr>\n",
       "\t<tr><th scope=col>&lt;chr&gt;</th><th scope=col>&lt;int&gt;</th><th scope=col>&lt;int&gt;</th><th scope=col>&lt;chr&gt;</th><th scope=col>&lt;chr&gt;</th><th scope=col>&lt;chr&gt;</th><th scope=col>&lt;chr&gt;</th><th scope=col>&lt;chr&gt;</th><th scope=col>&lt;chr&gt;</th><th scope=col>&lt;chr&gt;</th><th scope=col>&lt;chr&gt;</th><th scope=col>&lt;chr&gt;</th><th scope=col>&lt;chr&gt;</th><th scope=col>&lt;chr&gt;</th><th scope=col>&lt;chr&gt;</th></tr>\n",
       "</thead>\n",
       "<tbody>\n",
       "\t<tr><td>chr5</td><td>16681451</td><td>16681452</td><td>rs142263783</td><td>C</td><td>T</td><td>146</td><td>PASS</td><td>DP=45;VDB=1.190289e-01;RPB=7.007738e-01;AF1=0.5;AC1=1;DP4=15,15,5,8;MQ=60;FQ=149;PV4=0.53,0.023,1,1;ACGTNacgtnPLUS=0,7,0,1,0,0,9,0,3,0;ACGTNacgtnMINUS=0,8,0,4,0,0,6,0,5,0   </td><td>GT:PL:GQ</td><td>exonic</td><td>MYO10</td><td>nonsynonymous SNV</td><td>MYO10:ENST00000513610.1:exon32:c.G4351A:p.V1451I</td><td>H049-0CWK</td></tr>\n",
       "\t<tr><td>chr5</td><td>16681451</td><td>16681452</td><td>rs142263783</td><td>C</td><td>T</td><td>146</td><td>PASS</td><td>DP=45;VDB=1.190289e-01;RPB=7.007738e-01;AF1=0.5;AC1=1;DP4=15,15,5,8;MQ=60;FQ=149;PV4=0.53,0.023,1,1;ACGTNacgtnPLUS=0,7,0,1,0,0,9,0,3,0;ACGTNacgtnMINUS=0,8,0,4,0,0,6,0,5,0   </td><td>GT:PL:GQ</td><td>exonic</td><td>MYO10</td><td>nonsynonymous SNV</td><td>MYO10:ENST00000515803.1:exon14:c.G2368A:p.V790I </td><td>H049-0CWK</td></tr>\n",
       "\t<tr><td>chr5</td><td>16681451</td><td>16681452</td><td>rs142263783</td><td>C</td><td>T</td><td>146</td><td>PASS</td><td>DP=45;VDB=1.190289e-01;RPB=7.007738e-01;AF1=0.5;AC1=1;DP4=15,15,5,8;MQ=60;FQ=149;PV4=0.53,0.023,1,1;ACGTNacgtnPLUS=0,7,0,1,0,0,9,0,3,0;ACGTNacgtnMINUS=0,8,0,4,0,0,6,0,5,0   </td><td>GT:PL:GQ</td><td>exonic</td><td>MYO10</td><td>nonsynonymous SNV</td><td>MYO10:ENST00000427430.2:exon14:c.G2422A:p.V808I </td><td>H049-0CWK</td></tr>\n",
       "\t<tr><td>chr5</td><td>16681451</td><td>16681452</td><td>rs142263783</td><td>C</td><td>T</td><td>146</td><td>PASS</td><td>DP=45;VDB=1.190289e-01;RPB=7.007738e-01;AF1=0.5;AC1=1;DP4=15,15,5,8;MQ=60;FQ=149;PV4=0.53,0.023,1,1;ACGTNacgtnPLUS=0,7,0,1,0,0,9,0,3,0;ACGTNacgtnMINUS=0,8,0,4,0,0,6,0,5,0   </td><td>GT:PL:GQ</td><td>exonic</td><td>MYO10</td><td>nonsynonymous SNV</td><td>MYO10:ENST00000274203.9:exon14:c.G2422A:p.V808I </td><td>H049-0CWK</td></tr>\n",
       "\t<tr><td>chr5</td><td>16681451</td><td>16681452</td><td>rs142263783</td><td>C</td><td>T</td><td>146</td><td>PASS</td><td>DP=45;VDB=1.190289e-01;RPB=7.007738e-01;AF1=0.5;AC1=1;DP4=15,15,5,8;MQ=60;FQ=149;PV4=0.53,0.023,1,1;ACGTNacgtnPLUS=0,7,0,1,0,0,9,0,3,0;ACGTNacgtnMINUS=0,8,0,4,0,0,6,0,5,0   </td><td>GT:PL:GQ</td><td>exonic</td><td>MYO10</td><td>nonsynonymous SNV</td><td>MYO10:ENST00000505695.1:exon14:c.G2368A:p.V790I </td><td>H049-0CWK</td></tr>\n",
       "\t<tr><td>chr8</td><td>87641195</td><td>87641196</td><td>rs201320564</td><td>G</td><td>A</td><td>153</td><td>PASS</td><td>DP=37;VDB=4.493158e-02;RPB=2.369586e+00;AF1=0.5;AC1=1;DP4=18,7,5,6;MQ=60;FQ=156;PV4=0.15,0.01,1,0.026;ACGTNacgtnPLUS=3,0,12,0,0,4,0,3,0,0;ACGTNacgtnMINUS=2,0,6,0,0,2,0,4,0,0</td><td>GT:PL:GQ</td><td>exonic</td><td>CNGB3</td><td>stopgain SNV     </td><td>CNGB3:ENST00000320005.5:exon12:c.C1432T:p.R478X </td><td>H049-0CWK</td></tr>\n",
       "</tbody>\n",
       "</table>\n"
      ],
      "text/latex": [
       "A tibble: 6 × 15\n",
       "\\begin{tabular}{lllllllllllllll}\n",
       " Chr & Start & End & ID & REF & ALT & QUAL & FILTER & INFO & FORMAT & ANNOVAR\\_FUNCTION & GENE & EXONIC\\_CLASSIFICATION & ANNOVAR\\_TRANSCRIPTS & filename\\\\\n",
       " <chr> & <int> & <int> & <chr> & <chr> & <chr> & <chr> & <chr> & <chr> & <chr> & <chr> & <chr> & <chr> & <chr> & <chr>\\\\\n",
       "\\hline\n",
       "\t chr5 & 16681451 & 16681452 & rs142263783 & C & T & 146 & PASS & DP=45;VDB=1.190289e-01;RPB=7.007738e-01;AF1=0.5;AC1=1;DP4=15,15,5,8;MQ=60;FQ=149;PV4=0.53,0.023,1,1;ACGTNacgtnPLUS=0,7,0,1,0,0,9,0,3,0;ACGTNacgtnMINUS=0,8,0,4,0,0,6,0,5,0    & GT:PL:GQ & exonic & MYO10 & nonsynonymous SNV & MYO10:ENST00000513610.1:exon32:c.G4351A:p.V1451I & H049-0CWK\\\\\n",
       "\t chr5 & 16681451 & 16681452 & rs142263783 & C & T & 146 & PASS & DP=45;VDB=1.190289e-01;RPB=7.007738e-01;AF1=0.5;AC1=1;DP4=15,15,5,8;MQ=60;FQ=149;PV4=0.53,0.023,1,1;ACGTNacgtnPLUS=0,7,0,1,0,0,9,0,3,0;ACGTNacgtnMINUS=0,8,0,4,0,0,6,0,5,0    & GT:PL:GQ & exonic & MYO10 & nonsynonymous SNV & MYO10:ENST00000515803.1:exon14:c.G2368A:p.V790I  & H049-0CWK\\\\\n",
       "\t chr5 & 16681451 & 16681452 & rs142263783 & C & T & 146 & PASS & DP=45;VDB=1.190289e-01;RPB=7.007738e-01;AF1=0.5;AC1=1;DP4=15,15,5,8;MQ=60;FQ=149;PV4=0.53,0.023,1,1;ACGTNacgtnPLUS=0,7,0,1,0,0,9,0,3,0;ACGTNacgtnMINUS=0,8,0,4,0,0,6,0,5,0    & GT:PL:GQ & exonic & MYO10 & nonsynonymous SNV & MYO10:ENST00000427430.2:exon14:c.G2422A:p.V808I  & H049-0CWK\\\\\n",
       "\t chr5 & 16681451 & 16681452 & rs142263783 & C & T & 146 & PASS & DP=45;VDB=1.190289e-01;RPB=7.007738e-01;AF1=0.5;AC1=1;DP4=15,15,5,8;MQ=60;FQ=149;PV4=0.53,0.023,1,1;ACGTNacgtnPLUS=0,7,0,1,0,0,9,0,3,0;ACGTNacgtnMINUS=0,8,0,4,0,0,6,0,5,0    & GT:PL:GQ & exonic & MYO10 & nonsynonymous SNV & MYO10:ENST00000274203.9:exon14:c.G2422A:p.V808I  & H049-0CWK\\\\\n",
       "\t chr5 & 16681451 & 16681452 & rs142263783 & C & T & 146 & PASS & DP=45;VDB=1.190289e-01;RPB=7.007738e-01;AF1=0.5;AC1=1;DP4=15,15,5,8;MQ=60;FQ=149;PV4=0.53,0.023,1,1;ACGTNacgtnPLUS=0,7,0,1,0,0,9,0,3,0;ACGTNacgtnMINUS=0,8,0,4,0,0,6,0,5,0    & GT:PL:GQ & exonic & MYO10 & nonsynonymous SNV & MYO10:ENST00000505695.1:exon14:c.G2368A:p.V790I  & H049-0CWK\\\\\n",
       "\t chr8 & 87641195 & 87641196 & rs201320564 & G & A & 153 & PASS & DP=37;VDB=4.493158e-02;RPB=2.369586e+00;AF1=0.5;AC1=1;DP4=18,7,5,6;MQ=60;FQ=156;PV4=0.15,0.01,1,0.026;ACGTNacgtnPLUS=3,0,12,0,0,4,0,3,0,0;ACGTNacgtnMINUS=2,0,6,0,0,2,0,4,0,0 & GT:PL:GQ & exonic & CNGB3 & stopgain SNV      & CNGB3:ENST00000320005.5:exon12:c.C1432T:p.R478X  & H049-0CWK\\\\\n",
       "\\end{tabular}\n"
      ],
      "text/markdown": [
       "\n",
       "A tibble: 6 × 15\n",
       "\n",
       "| Chr &lt;chr&gt; | Start &lt;int&gt; | End &lt;int&gt; | ID &lt;chr&gt; | REF &lt;chr&gt; | ALT &lt;chr&gt; | QUAL &lt;chr&gt; | FILTER &lt;chr&gt; | INFO &lt;chr&gt; | FORMAT &lt;chr&gt; | ANNOVAR_FUNCTION &lt;chr&gt; | GENE &lt;chr&gt; | EXONIC_CLASSIFICATION &lt;chr&gt; | ANNOVAR_TRANSCRIPTS &lt;chr&gt; | filename &lt;chr&gt; |\n",
       "|---|---|---|---|---|---|---|---|---|---|---|---|---|---|---|\n",
       "| chr5 | 16681451 | 16681452 | rs142263783 | C | T | 146 | PASS | DP=45;VDB=1.190289e-01;RPB=7.007738e-01;AF1=0.5;AC1=1;DP4=15,15,5,8;MQ=60;FQ=149;PV4=0.53,0.023,1,1;ACGTNacgtnPLUS=0,7,0,1,0,0,9,0,3,0;ACGTNacgtnMINUS=0,8,0,4,0,0,6,0,5,0    | GT:PL:GQ | exonic | MYO10 | nonsynonymous SNV | MYO10:ENST00000513610.1:exon32:c.G4351A:p.V1451I | H049-0CWK |\n",
       "| chr5 | 16681451 | 16681452 | rs142263783 | C | T | 146 | PASS | DP=45;VDB=1.190289e-01;RPB=7.007738e-01;AF1=0.5;AC1=1;DP4=15,15,5,8;MQ=60;FQ=149;PV4=0.53,0.023,1,1;ACGTNacgtnPLUS=0,7,0,1,0,0,9,0,3,0;ACGTNacgtnMINUS=0,8,0,4,0,0,6,0,5,0    | GT:PL:GQ | exonic | MYO10 | nonsynonymous SNV | MYO10:ENST00000515803.1:exon14:c.G2368A:p.V790I  | H049-0CWK |\n",
       "| chr5 | 16681451 | 16681452 | rs142263783 | C | T | 146 | PASS | DP=45;VDB=1.190289e-01;RPB=7.007738e-01;AF1=0.5;AC1=1;DP4=15,15,5,8;MQ=60;FQ=149;PV4=0.53,0.023,1,1;ACGTNacgtnPLUS=0,7,0,1,0,0,9,0,3,0;ACGTNacgtnMINUS=0,8,0,4,0,0,6,0,5,0    | GT:PL:GQ | exonic | MYO10 | nonsynonymous SNV | MYO10:ENST00000427430.2:exon14:c.G2422A:p.V808I  | H049-0CWK |\n",
       "| chr5 | 16681451 | 16681452 | rs142263783 | C | T | 146 | PASS | DP=45;VDB=1.190289e-01;RPB=7.007738e-01;AF1=0.5;AC1=1;DP4=15,15,5,8;MQ=60;FQ=149;PV4=0.53,0.023,1,1;ACGTNacgtnPLUS=0,7,0,1,0,0,9,0,3,0;ACGTNacgtnMINUS=0,8,0,4,0,0,6,0,5,0    | GT:PL:GQ | exonic | MYO10 | nonsynonymous SNV | MYO10:ENST00000274203.9:exon14:c.G2422A:p.V808I  | H049-0CWK |\n",
       "| chr5 | 16681451 | 16681452 | rs142263783 | C | T | 146 | PASS | DP=45;VDB=1.190289e-01;RPB=7.007738e-01;AF1=0.5;AC1=1;DP4=15,15,5,8;MQ=60;FQ=149;PV4=0.53,0.023,1,1;ACGTNacgtnPLUS=0,7,0,1,0,0,9,0,3,0;ACGTNacgtnMINUS=0,8,0,4,0,0,6,0,5,0    | GT:PL:GQ | exonic | MYO10 | nonsynonymous SNV | MYO10:ENST00000505695.1:exon14:c.G2368A:p.V790I  | H049-0CWK |\n",
       "| chr8 | 87641195 | 87641196 | rs201320564 | G | A | 153 | PASS | DP=37;VDB=4.493158e-02;RPB=2.369586e+00;AF1=0.5;AC1=1;DP4=18,7,5,6;MQ=60;FQ=156;PV4=0.15,0.01,1,0.026;ACGTNacgtnPLUS=3,0,12,0,0,4,0,3,0,0;ACGTNacgtnMINUS=2,0,6,0,0,2,0,4,0,0 | GT:PL:GQ | exonic | CNGB3 | stopgain SNV      | CNGB3:ENST00000320005.5:exon12:c.C1432T:p.R478X  | H049-0CWK |\n",
       "\n"
      ],
      "text/plain": [
       "  Chr  Start    End      ID          REF ALT QUAL FILTER\n",
       "1 chr5 16681451 16681452 rs142263783 C   T   146  PASS  \n",
       "2 chr5 16681451 16681452 rs142263783 C   T   146  PASS  \n",
       "3 chr5 16681451 16681452 rs142263783 C   T   146  PASS  \n",
       "4 chr5 16681451 16681452 rs142263783 C   T   146  PASS  \n",
       "5 chr5 16681451 16681452 rs142263783 C   T   146  PASS  \n",
       "6 chr8 87641195 87641196 rs201320564 G   A   153  PASS  \n",
       "  INFO                                                                                                                                                                         \n",
       "1 DP=45;VDB=1.190289e-01;RPB=7.007738e-01;AF1=0.5;AC1=1;DP4=15,15,5,8;MQ=60;FQ=149;PV4=0.53,0.023,1,1;ACGTNacgtnPLUS=0,7,0,1,0,0,9,0,3,0;ACGTNacgtnMINUS=0,8,0,4,0,0,6,0,5,0   \n",
       "2 DP=45;VDB=1.190289e-01;RPB=7.007738e-01;AF1=0.5;AC1=1;DP4=15,15,5,8;MQ=60;FQ=149;PV4=0.53,0.023,1,1;ACGTNacgtnPLUS=0,7,0,1,0,0,9,0,3,0;ACGTNacgtnMINUS=0,8,0,4,0,0,6,0,5,0   \n",
       "3 DP=45;VDB=1.190289e-01;RPB=7.007738e-01;AF1=0.5;AC1=1;DP4=15,15,5,8;MQ=60;FQ=149;PV4=0.53,0.023,1,1;ACGTNacgtnPLUS=0,7,0,1,0,0,9,0,3,0;ACGTNacgtnMINUS=0,8,0,4,0,0,6,0,5,0   \n",
       "4 DP=45;VDB=1.190289e-01;RPB=7.007738e-01;AF1=0.5;AC1=1;DP4=15,15,5,8;MQ=60;FQ=149;PV4=0.53,0.023,1,1;ACGTNacgtnPLUS=0,7,0,1,0,0,9,0,3,0;ACGTNacgtnMINUS=0,8,0,4,0,0,6,0,5,0   \n",
       "5 DP=45;VDB=1.190289e-01;RPB=7.007738e-01;AF1=0.5;AC1=1;DP4=15,15,5,8;MQ=60;FQ=149;PV4=0.53,0.023,1,1;ACGTNacgtnPLUS=0,7,0,1,0,0,9,0,3,0;ACGTNacgtnMINUS=0,8,0,4,0,0,6,0,5,0   \n",
       "6 DP=37;VDB=4.493158e-02;RPB=2.369586e+00;AF1=0.5;AC1=1;DP4=18,7,5,6;MQ=60;FQ=156;PV4=0.15,0.01,1,0.026;ACGTNacgtnPLUS=3,0,12,0,0,4,0,3,0,0;ACGTNacgtnMINUS=2,0,6,0,0,2,0,4,0,0\n",
       "  FORMAT   ANNOVAR_FUNCTION GENE  EXONIC_CLASSIFICATION\n",
       "1 GT:PL:GQ exonic           MYO10 nonsynonymous SNV    \n",
       "2 GT:PL:GQ exonic           MYO10 nonsynonymous SNV    \n",
       "3 GT:PL:GQ exonic           MYO10 nonsynonymous SNV    \n",
       "4 GT:PL:GQ exonic           MYO10 nonsynonymous SNV    \n",
       "5 GT:PL:GQ exonic           MYO10 nonsynonymous SNV    \n",
       "6 GT:PL:GQ exonic           CNGB3 stopgain SNV         \n",
       "  ANNOVAR_TRANSCRIPTS                              filename \n",
       "1 MYO10:ENST00000513610.1:exon32:c.G4351A:p.V1451I H049-0CWK\n",
       "2 MYO10:ENST00000515803.1:exon14:c.G2368A:p.V790I  H049-0CWK\n",
       "3 MYO10:ENST00000427430.2:exon14:c.G2422A:p.V808I  H049-0CWK\n",
       "4 MYO10:ENST00000274203.9:exon14:c.G2422A:p.V808I  H049-0CWK\n",
       "5 MYO10:ENST00000505695.1:exon14:c.G2368A:p.V790I  H049-0CWK\n",
       "6 CNGB3:ENST00000320005.5:exon12:c.C1432T:p.R478X  H049-0CWK"
      ]
     },
     "metadata": {},
     "output_type": "display_data"
    }
   ],
   "source": [
    "head(icgc_vcfs_separate)"
   ]
  },
  {
   "cell_type": "code",
   "execution_count": 78,
   "metadata": {},
   "outputs": [],
   "source": [
    "icgc_vcfs_separate$Hugo_Symbol <-  gsub(\":.*\", \"\", icgc_vcfs_separate$ANNOVAR_TRANSCRIPTS)"
   ]
  },
  {
   "cell_type": "code",
   "execution_count": 79,
   "metadata": {},
   "outputs": [
    {
     "data": {
      "text/html": [
       "<table class=\"dataframe\">\n",
       "<caption>A tibble: 6 × 16</caption>\n",
       "<thead>\n",
       "\t<tr><th scope=col>Chr</th><th scope=col>Start</th><th scope=col>End</th><th scope=col>ID</th><th scope=col>REF</th><th scope=col>ALT</th><th scope=col>QUAL</th><th scope=col>FILTER</th><th scope=col>INFO</th><th scope=col>FORMAT</th><th scope=col>ANNOVAR_FUNCTION</th><th scope=col>GENE</th><th scope=col>EXONIC_CLASSIFICATION</th><th scope=col>ANNOVAR_TRANSCRIPTS</th><th scope=col>filename</th><th scope=col>Hugo_Symbol</th></tr>\n",
       "\t<tr><th scope=col>&lt;chr&gt;</th><th scope=col>&lt;int&gt;</th><th scope=col>&lt;int&gt;</th><th scope=col>&lt;chr&gt;</th><th scope=col>&lt;chr&gt;</th><th scope=col>&lt;chr&gt;</th><th scope=col>&lt;chr&gt;</th><th scope=col>&lt;chr&gt;</th><th scope=col>&lt;chr&gt;</th><th scope=col>&lt;chr&gt;</th><th scope=col>&lt;chr&gt;</th><th scope=col>&lt;chr&gt;</th><th scope=col>&lt;chr&gt;</th><th scope=col>&lt;chr&gt;</th><th scope=col>&lt;chr&gt;</th><th scope=col>&lt;chr&gt;</th></tr>\n",
       "</thead>\n",
       "<tbody>\n",
       "\t<tr><td>chr5</td><td>16681451</td><td>16681452</td><td>rs142263783</td><td>C</td><td>T</td><td>146</td><td>PASS</td><td>DP=45;VDB=1.190289e-01;RPB=7.007738e-01;AF1=0.5;AC1=1;DP4=15,15,5,8;MQ=60;FQ=149;PV4=0.53,0.023,1,1;ACGTNacgtnPLUS=0,7,0,1,0,0,9,0,3,0;ACGTNacgtnMINUS=0,8,0,4,0,0,6,0,5,0   </td><td>GT:PL:GQ</td><td>exonic</td><td>MYO10</td><td>nonsynonymous SNV</td><td>MYO10:ENST00000513610.1:exon32:c.G4351A:p.V1451I</td><td>H049-0CWK</td><td>MYO10</td></tr>\n",
       "\t<tr><td>chr5</td><td>16681451</td><td>16681452</td><td>rs142263783</td><td>C</td><td>T</td><td>146</td><td>PASS</td><td>DP=45;VDB=1.190289e-01;RPB=7.007738e-01;AF1=0.5;AC1=1;DP4=15,15,5,8;MQ=60;FQ=149;PV4=0.53,0.023,1,1;ACGTNacgtnPLUS=0,7,0,1,0,0,9,0,3,0;ACGTNacgtnMINUS=0,8,0,4,0,0,6,0,5,0   </td><td>GT:PL:GQ</td><td>exonic</td><td>MYO10</td><td>nonsynonymous SNV</td><td>MYO10:ENST00000515803.1:exon14:c.G2368A:p.V790I </td><td>H049-0CWK</td><td>MYO10</td></tr>\n",
       "\t<tr><td>chr5</td><td>16681451</td><td>16681452</td><td>rs142263783</td><td>C</td><td>T</td><td>146</td><td>PASS</td><td>DP=45;VDB=1.190289e-01;RPB=7.007738e-01;AF1=0.5;AC1=1;DP4=15,15,5,8;MQ=60;FQ=149;PV4=0.53,0.023,1,1;ACGTNacgtnPLUS=0,7,0,1,0,0,9,0,3,0;ACGTNacgtnMINUS=0,8,0,4,0,0,6,0,5,0   </td><td>GT:PL:GQ</td><td>exonic</td><td>MYO10</td><td>nonsynonymous SNV</td><td>MYO10:ENST00000427430.2:exon14:c.G2422A:p.V808I </td><td>H049-0CWK</td><td>MYO10</td></tr>\n",
       "\t<tr><td>chr5</td><td>16681451</td><td>16681452</td><td>rs142263783</td><td>C</td><td>T</td><td>146</td><td>PASS</td><td>DP=45;VDB=1.190289e-01;RPB=7.007738e-01;AF1=0.5;AC1=1;DP4=15,15,5,8;MQ=60;FQ=149;PV4=0.53,0.023,1,1;ACGTNacgtnPLUS=0,7,0,1,0,0,9,0,3,0;ACGTNacgtnMINUS=0,8,0,4,0,0,6,0,5,0   </td><td>GT:PL:GQ</td><td>exonic</td><td>MYO10</td><td>nonsynonymous SNV</td><td>MYO10:ENST00000274203.9:exon14:c.G2422A:p.V808I </td><td>H049-0CWK</td><td>MYO10</td></tr>\n",
       "\t<tr><td>chr5</td><td>16681451</td><td>16681452</td><td>rs142263783</td><td>C</td><td>T</td><td>146</td><td>PASS</td><td>DP=45;VDB=1.190289e-01;RPB=7.007738e-01;AF1=0.5;AC1=1;DP4=15,15,5,8;MQ=60;FQ=149;PV4=0.53,0.023,1,1;ACGTNacgtnPLUS=0,7,0,1,0,0,9,0,3,0;ACGTNacgtnMINUS=0,8,0,4,0,0,6,0,5,0   </td><td>GT:PL:GQ</td><td>exonic</td><td>MYO10</td><td>nonsynonymous SNV</td><td>MYO10:ENST00000505695.1:exon14:c.G2368A:p.V790I </td><td>H049-0CWK</td><td>MYO10</td></tr>\n",
       "\t<tr><td>chr8</td><td>87641195</td><td>87641196</td><td>rs201320564</td><td>G</td><td>A</td><td>153</td><td>PASS</td><td>DP=37;VDB=4.493158e-02;RPB=2.369586e+00;AF1=0.5;AC1=1;DP4=18,7,5,6;MQ=60;FQ=156;PV4=0.15,0.01,1,0.026;ACGTNacgtnPLUS=3,0,12,0,0,4,0,3,0,0;ACGTNacgtnMINUS=2,0,6,0,0,2,0,4,0,0</td><td>GT:PL:GQ</td><td>exonic</td><td>CNGB3</td><td>stopgain SNV     </td><td>CNGB3:ENST00000320005.5:exon12:c.C1432T:p.R478X </td><td>H049-0CWK</td><td>CNGB3</td></tr>\n",
       "</tbody>\n",
       "</table>\n"
      ],
      "text/latex": [
       "A tibble: 6 × 16\n",
       "\\begin{tabular}{llllllllllllllll}\n",
       " Chr & Start & End & ID & REF & ALT & QUAL & FILTER & INFO & FORMAT & ANNOVAR\\_FUNCTION & GENE & EXONIC\\_CLASSIFICATION & ANNOVAR\\_TRANSCRIPTS & filename & Hugo\\_Symbol\\\\\n",
       " <chr> & <int> & <int> & <chr> & <chr> & <chr> & <chr> & <chr> & <chr> & <chr> & <chr> & <chr> & <chr> & <chr> & <chr> & <chr>\\\\\n",
       "\\hline\n",
       "\t chr5 & 16681451 & 16681452 & rs142263783 & C & T & 146 & PASS & DP=45;VDB=1.190289e-01;RPB=7.007738e-01;AF1=0.5;AC1=1;DP4=15,15,5,8;MQ=60;FQ=149;PV4=0.53,0.023,1,1;ACGTNacgtnPLUS=0,7,0,1,0,0,9,0,3,0;ACGTNacgtnMINUS=0,8,0,4,0,0,6,0,5,0    & GT:PL:GQ & exonic & MYO10 & nonsynonymous SNV & MYO10:ENST00000513610.1:exon32:c.G4351A:p.V1451I & H049-0CWK & MYO10\\\\\n",
       "\t chr5 & 16681451 & 16681452 & rs142263783 & C & T & 146 & PASS & DP=45;VDB=1.190289e-01;RPB=7.007738e-01;AF1=0.5;AC1=1;DP4=15,15,5,8;MQ=60;FQ=149;PV4=0.53,0.023,1,1;ACGTNacgtnPLUS=0,7,0,1,0,0,9,0,3,0;ACGTNacgtnMINUS=0,8,0,4,0,0,6,0,5,0    & GT:PL:GQ & exonic & MYO10 & nonsynonymous SNV & MYO10:ENST00000515803.1:exon14:c.G2368A:p.V790I  & H049-0CWK & MYO10\\\\\n",
       "\t chr5 & 16681451 & 16681452 & rs142263783 & C & T & 146 & PASS & DP=45;VDB=1.190289e-01;RPB=7.007738e-01;AF1=0.5;AC1=1;DP4=15,15,5,8;MQ=60;FQ=149;PV4=0.53,0.023,1,1;ACGTNacgtnPLUS=0,7,0,1,0,0,9,0,3,0;ACGTNacgtnMINUS=0,8,0,4,0,0,6,0,5,0    & GT:PL:GQ & exonic & MYO10 & nonsynonymous SNV & MYO10:ENST00000427430.2:exon14:c.G2422A:p.V808I  & H049-0CWK & MYO10\\\\\n",
       "\t chr5 & 16681451 & 16681452 & rs142263783 & C & T & 146 & PASS & DP=45;VDB=1.190289e-01;RPB=7.007738e-01;AF1=0.5;AC1=1;DP4=15,15,5,8;MQ=60;FQ=149;PV4=0.53,0.023,1,1;ACGTNacgtnPLUS=0,7,0,1,0,0,9,0,3,0;ACGTNacgtnMINUS=0,8,0,4,0,0,6,0,5,0    & GT:PL:GQ & exonic & MYO10 & nonsynonymous SNV & MYO10:ENST00000274203.9:exon14:c.G2422A:p.V808I  & H049-0CWK & MYO10\\\\\n",
       "\t chr5 & 16681451 & 16681452 & rs142263783 & C & T & 146 & PASS & DP=45;VDB=1.190289e-01;RPB=7.007738e-01;AF1=0.5;AC1=1;DP4=15,15,5,8;MQ=60;FQ=149;PV4=0.53,0.023,1,1;ACGTNacgtnPLUS=0,7,0,1,0,0,9,0,3,0;ACGTNacgtnMINUS=0,8,0,4,0,0,6,0,5,0    & GT:PL:GQ & exonic & MYO10 & nonsynonymous SNV & MYO10:ENST00000505695.1:exon14:c.G2368A:p.V790I  & H049-0CWK & MYO10\\\\\n",
       "\t chr8 & 87641195 & 87641196 & rs201320564 & G & A & 153 & PASS & DP=37;VDB=4.493158e-02;RPB=2.369586e+00;AF1=0.5;AC1=1;DP4=18,7,5,6;MQ=60;FQ=156;PV4=0.15,0.01,1,0.026;ACGTNacgtnPLUS=3,0,12,0,0,4,0,3,0,0;ACGTNacgtnMINUS=2,0,6,0,0,2,0,4,0,0 & GT:PL:GQ & exonic & CNGB3 & stopgain SNV      & CNGB3:ENST00000320005.5:exon12:c.C1432T:p.R478X  & H049-0CWK & CNGB3\\\\\n",
       "\\end{tabular}\n"
      ],
      "text/markdown": [
       "\n",
       "A tibble: 6 × 16\n",
       "\n",
       "| Chr &lt;chr&gt; | Start &lt;int&gt; | End &lt;int&gt; | ID &lt;chr&gt; | REF &lt;chr&gt; | ALT &lt;chr&gt; | QUAL &lt;chr&gt; | FILTER &lt;chr&gt; | INFO &lt;chr&gt; | FORMAT &lt;chr&gt; | ANNOVAR_FUNCTION &lt;chr&gt; | GENE &lt;chr&gt; | EXONIC_CLASSIFICATION &lt;chr&gt; | ANNOVAR_TRANSCRIPTS &lt;chr&gt; | filename &lt;chr&gt; | Hugo_Symbol &lt;chr&gt; |\n",
       "|---|---|---|---|---|---|---|---|---|---|---|---|---|---|---|---|\n",
       "| chr5 | 16681451 | 16681452 | rs142263783 | C | T | 146 | PASS | DP=45;VDB=1.190289e-01;RPB=7.007738e-01;AF1=0.5;AC1=1;DP4=15,15,5,8;MQ=60;FQ=149;PV4=0.53,0.023,1,1;ACGTNacgtnPLUS=0,7,0,1,0,0,9,0,3,0;ACGTNacgtnMINUS=0,8,0,4,0,0,6,0,5,0    | GT:PL:GQ | exonic | MYO10 | nonsynonymous SNV | MYO10:ENST00000513610.1:exon32:c.G4351A:p.V1451I | H049-0CWK | MYO10 |\n",
       "| chr5 | 16681451 | 16681452 | rs142263783 | C | T | 146 | PASS | DP=45;VDB=1.190289e-01;RPB=7.007738e-01;AF1=0.5;AC1=1;DP4=15,15,5,8;MQ=60;FQ=149;PV4=0.53,0.023,1,1;ACGTNacgtnPLUS=0,7,0,1,0,0,9,0,3,0;ACGTNacgtnMINUS=0,8,0,4,0,0,6,0,5,0    | GT:PL:GQ | exonic | MYO10 | nonsynonymous SNV | MYO10:ENST00000515803.1:exon14:c.G2368A:p.V790I  | H049-0CWK | MYO10 |\n",
       "| chr5 | 16681451 | 16681452 | rs142263783 | C | T | 146 | PASS | DP=45;VDB=1.190289e-01;RPB=7.007738e-01;AF1=0.5;AC1=1;DP4=15,15,5,8;MQ=60;FQ=149;PV4=0.53,0.023,1,1;ACGTNacgtnPLUS=0,7,0,1,0,0,9,0,3,0;ACGTNacgtnMINUS=0,8,0,4,0,0,6,0,5,0    | GT:PL:GQ | exonic | MYO10 | nonsynonymous SNV | MYO10:ENST00000427430.2:exon14:c.G2422A:p.V808I  | H049-0CWK | MYO10 |\n",
       "| chr5 | 16681451 | 16681452 | rs142263783 | C | T | 146 | PASS | DP=45;VDB=1.190289e-01;RPB=7.007738e-01;AF1=0.5;AC1=1;DP4=15,15,5,8;MQ=60;FQ=149;PV4=0.53,0.023,1,1;ACGTNacgtnPLUS=0,7,0,1,0,0,9,0,3,0;ACGTNacgtnMINUS=0,8,0,4,0,0,6,0,5,0    | GT:PL:GQ | exonic | MYO10 | nonsynonymous SNV | MYO10:ENST00000274203.9:exon14:c.G2422A:p.V808I  | H049-0CWK | MYO10 |\n",
       "| chr5 | 16681451 | 16681452 | rs142263783 | C | T | 146 | PASS | DP=45;VDB=1.190289e-01;RPB=7.007738e-01;AF1=0.5;AC1=1;DP4=15,15,5,8;MQ=60;FQ=149;PV4=0.53,0.023,1,1;ACGTNacgtnPLUS=0,7,0,1,0,0,9,0,3,0;ACGTNacgtnMINUS=0,8,0,4,0,0,6,0,5,0    | GT:PL:GQ | exonic | MYO10 | nonsynonymous SNV | MYO10:ENST00000505695.1:exon14:c.G2368A:p.V790I  | H049-0CWK | MYO10 |\n",
       "| chr8 | 87641195 | 87641196 | rs201320564 | G | A | 153 | PASS | DP=37;VDB=4.493158e-02;RPB=2.369586e+00;AF1=0.5;AC1=1;DP4=18,7,5,6;MQ=60;FQ=156;PV4=0.15,0.01,1,0.026;ACGTNacgtnPLUS=3,0,12,0,0,4,0,3,0,0;ACGTNacgtnMINUS=2,0,6,0,0,2,0,4,0,0 | GT:PL:GQ | exonic | CNGB3 | stopgain SNV      | CNGB3:ENST00000320005.5:exon12:c.C1432T:p.R478X  | H049-0CWK | CNGB3 |\n",
       "\n"
      ],
      "text/plain": [
       "  Chr  Start    End      ID          REF ALT QUAL FILTER\n",
       "1 chr5 16681451 16681452 rs142263783 C   T   146  PASS  \n",
       "2 chr5 16681451 16681452 rs142263783 C   T   146  PASS  \n",
       "3 chr5 16681451 16681452 rs142263783 C   T   146  PASS  \n",
       "4 chr5 16681451 16681452 rs142263783 C   T   146  PASS  \n",
       "5 chr5 16681451 16681452 rs142263783 C   T   146  PASS  \n",
       "6 chr8 87641195 87641196 rs201320564 G   A   153  PASS  \n",
       "  INFO                                                                                                                                                                         \n",
       "1 DP=45;VDB=1.190289e-01;RPB=7.007738e-01;AF1=0.5;AC1=1;DP4=15,15,5,8;MQ=60;FQ=149;PV4=0.53,0.023,1,1;ACGTNacgtnPLUS=0,7,0,1,0,0,9,0,3,0;ACGTNacgtnMINUS=0,8,0,4,0,0,6,0,5,0   \n",
       "2 DP=45;VDB=1.190289e-01;RPB=7.007738e-01;AF1=0.5;AC1=1;DP4=15,15,5,8;MQ=60;FQ=149;PV4=0.53,0.023,1,1;ACGTNacgtnPLUS=0,7,0,1,0,0,9,0,3,0;ACGTNacgtnMINUS=0,8,0,4,0,0,6,0,5,0   \n",
       "3 DP=45;VDB=1.190289e-01;RPB=7.007738e-01;AF1=0.5;AC1=1;DP4=15,15,5,8;MQ=60;FQ=149;PV4=0.53,0.023,1,1;ACGTNacgtnPLUS=0,7,0,1,0,0,9,0,3,0;ACGTNacgtnMINUS=0,8,0,4,0,0,6,0,5,0   \n",
       "4 DP=45;VDB=1.190289e-01;RPB=7.007738e-01;AF1=0.5;AC1=1;DP4=15,15,5,8;MQ=60;FQ=149;PV4=0.53,0.023,1,1;ACGTNacgtnPLUS=0,7,0,1,0,0,9,0,3,0;ACGTNacgtnMINUS=0,8,0,4,0,0,6,0,5,0   \n",
       "5 DP=45;VDB=1.190289e-01;RPB=7.007738e-01;AF1=0.5;AC1=1;DP4=15,15,5,8;MQ=60;FQ=149;PV4=0.53,0.023,1,1;ACGTNacgtnPLUS=0,7,0,1,0,0,9,0,3,0;ACGTNacgtnMINUS=0,8,0,4,0,0,6,0,5,0   \n",
       "6 DP=37;VDB=4.493158e-02;RPB=2.369586e+00;AF1=0.5;AC1=1;DP4=18,7,5,6;MQ=60;FQ=156;PV4=0.15,0.01,1,0.026;ACGTNacgtnPLUS=3,0,12,0,0,4,0,3,0,0;ACGTNacgtnMINUS=2,0,6,0,0,2,0,4,0,0\n",
       "  FORMAT   ANNOVAR_FUNCTION GENE  EXONIC_CLASSIFICATION\n",
       "1 GT:PL:GQ exonic           MYO10 nonsynonymous SNV    \n",
       "2 GT:PL:GQ exonic           MYO10 nonsynonymous SNV    \n",
       "3 GT:PL:GQ exonic           MYO10 nonsynonymous SNV    \n",
       "4 GT:PL:GQ exonic           MYO10 nonsynonymous SNV    \n",
       "5 GT:PL:GQ exonic           MYO10 nonsynonymous SNV    \n",
       "6 GT:PL:GQ exonic           CNGB3 stopgain SNV         \n",
       "  ANNOVAR_TRANSCRIPTS                              filename  Hugo_Symbol\n",
       "1 MYO10:ENST00000513610.1:exon32:c.G4351A:p.V1451I H049-0CWK MYO10      \n",
       "2 MYO10:ENST00000515803.1:exon14:c.G2368A:p.V790I  H049-0CWK MYO10      \n",
       "3 MYO10:ENST00000427430.2:exon14:c.G2422A:p.V808I  H049-0CWK MYO10      \n",
       "4 MYO10:ENST00000274203.9:exon14:c.G2422A:p.V808I  H049-0CWK MYO10      \n",
       "5 MYO10:ENST00000505695.1:exon14:c.G2368A:p.V790I  H049-0CWK MYO10      \n",
       "6 CNGB3:ENST00000320005.5:exon12:c.C1432T:p.R478X  H049-0CWK CNGB3      "
      ]
     },
     "metadata": {},
     "output_type": "display_data"
    }
   ],
   "source": [
    "head(icgc_vcfs_separate)"
   ]
  },
  {
   "cell_type": "code",
   "execution_count": 80,
   "metadata": {},
   "outputs": [],
   "source": [
    "colnames(icgc_vcfs_separate)[colnames(icgc_vcfs_separate) == \"filename\"] <- \"Tumor_Sample_Barcode\""
   ]
  },
  {
   "cell_type": "code",
   "execution_count": 81,
   "metadata": {},
   "outputs": [],
   "source": [
    "icgc_vcfs_separate$HGVSp_Short <-  gsub(\".*:p\", \"p\", icgc_vcfs_separate$ANNOVAR_TRANSCRIPTS)"
   ]
  },
  {
   "cell_type": "code",
   "execution_count": 85,
   "metadata": {},
   "outputs": [
    {
     "data": {
      "text/plain": [
       "\n",
       "    frameshift deletion    frameshift insertion  nonframeshift deletion \n",
       "                    600                     330                     150 \n",
       "nonframeshift insertion       nonsynonymous SNV                splicing \n",
       "                     42                   18871                      59 \n",
       "               stopgain            stopgain SNV            stoploss SNV \n",
       "                     16                    1222                       4 \n",
       "         synonymous SNV                    <NA> \n",
       "                    424                       0 "
      ]
     },
     "metadata": {},
     "output_type": "display_data"
    }
   ],
   "source": [
    "table(icgc_vcfs_separate$EXONIC_CLASSIFICATION, useNA = \"always\")"
   ]
  },
  {
   "cell_type": "code",
   "execution_count": 86,
   "metadata": {},
   "outputs": [],
   "source": [
    "icgc_vcfs_separate$variant_classification <- icgc_vcfs_separate$EXONIC_CLASSIFICATION"
   ]
  },
  {
   "cell_type": "code",
   "execution_count": 87,
   "metadata": {},
   "outputs": [],
   "source": [
    "dkfz_maf <- icgc_vcfs_separate[, c(\"Tumor_Sample_Barcode\", \"Hugo_Symbol\", \"HGVSp_Short\", \"variant_classification\")]"
   ]
  },
  {
   "cell_type": "code",
   "execution_count": 88,
   "metadata": {},
   "outputs": [
    {
     "data": {
      "text/html": [
       "<table class=\"dataframe\">\n",
       "<caption>A tibble: 6 × 4</caption>\n",
       "<thead>\n",
       "\t<tr><th scope=col>Tumor_Sample_Barcode</th><th scope=col>Hugo_Symbol</th><th scope=col>HGVSp_Short</th><th scope=col>variant_classification</th></tr>\n",
       "\t<tr><th scope=col>&lt;chr&gt;</th><th scope=col>&lt;chr&gt;</th><th scope=col>&lt;chr&gt;</th><th scope=col>&lt;chr&gt;</th></tr>\n",
       "</thead>\n",
       "<tbody>\n",
       "\t<tr><td>H049-0CWK</td><td>MYO10</td><td>p.V1451I</td><td>nonsynonymous SNV</td></tr>\n",
       "\t<tr><td>H049-0CWK</td><td>MYO10</td><td>p.V790I </td><td>nonsynonymous SNV</td></tr>\n",
       "\t<tr><td>H049-0CWK</td><td>MYO10</td><td>p.V808I </td><td>nonsynonymous SNV</td></tr>\n",
       "\t<tr><td>H049-0CWK</td><td>MYO10</td><td>p.V808I </td><td>nonsynonymous SNV</td></tr>\n",
       "\t<tr><td>H049-0CWK</td><td>MYO10</td><td>p.V790I </td><td>nonsynonymous SNV</td></tr>\n",
       "\t<tr><td>H049-0CWK</td><td>CNGB3</td><td>p.R478X </td><td>stopgain SNV     </td></tr>\n",
       "</tbody>\n",
       "</table>\n"
      ],
      "text/latex": [
       "A tibble: 6 × 4\n",
       "\\begin{tabular}{llll}\n",
       " Tumor\\_Sample\\_Barcode & Hugo\\_Symbol & HGVSp\\_Short & variant\\_classification\\\\\n",
       " <chr> & <chr> & <chr> & <chr>\\\\\n",
       "\\hline\n",
       "\t H049-0CWK & MYO10 & p.V1451I & nonsynonymous SNV\\\\\n",
       "\t H049-0CWK & MYO10 & p.V790I  & nonsynonymous SNV\\\\\n",
       "\t H049-0CWK & MYO10 & p.V808I  & nonsynonymous SNV\\\\\n",
       "\t H049-0CWK & MYO10 & p.V808I  & nonsynonymous SNV\\\\\n",
       "\t H049-0CWK & MYO10 & p.V790I  & nonsynonymous SNV\\\\\n",
       "\t H049-0CWK & CNGB3 & p.R478X  & stopgain SNV     \\\\\n",
       "\\end{tabular}\n"
      ],
      "text/markdown": [
       "\n",
       "A tibble: 6 × 4\n",
       "\n",
       "| Tumor_Sample_Barcode &lt;chr&gt; | Hugo_Symbol &lt;chr&gt; | HGVSp_Short &lt;chr&gt; | variant_classification &lt;chr&gt; |\n",
       "|---|---|---|---|\n",
       "| H049-0CWK | MYO10 | p.V1451I | nonsynonymous SNV |\n",
       "| H049-0CWK | MYO10 | p.V790I  | nonsynonymous SNV |\n",
       "| H049-0CWK | MYO10 | p.V808I  | nonsynonymous SNV |\n",
       "| H049-0CWK | MYO10 | p.V808I  | nonsynonymous SNV |\n",
       "| H049-0CWK | MYO10 | p.V790I  | nonsynonymous SNV |\n",
       "| H049-0CWK | CNGB3 | p.R478X  | stopgain SNV      |\n",
       "\n"
      ],
      "text/plain": [
       "  Tumor_Sample_Barcode Hugo_Symbol HGVSp_Short variant_classification\n",
       "1 H049-0CWK            MYO10       p.V1451I    nonsynonymous SNV     \n",
       "2 H049-0CWK            MYO10       p.V790I     nonsynonymous SNV     \n",
       "3 H049-0CWK            MYO10       p.V808I     nonsynonymous SNV     \n",
       "4 H049-0CWK            MYO10       p.V808I     nonsynonymous SNV     \n",
       "5 H049-0CWK            MYO10       p.V790I     nonsynonymous SNV     \n",
       "6 H049-0CWK            CNGB3       p.R478X     stopgain SNV          "
      ]
     },
     "metadata": {},
     "output_type": "display_data"
    }
   ],
   "source": [
    "head(dkfz_maf)"
   ]
  },
  {
   "cell_type": "code",
   "execution_count": 89,
   "metadata": {},
   "outputs": [],
   "source": [
    "write.table(dkfz_maf, file = paste0(datapath, \"MAF_mat/dkfz_maf.maf\"), sep = \"\\t\", row.names = F,\n",
    "           quote = F)"
   ]
  },
  {
   "cell_type": "markdown",
   "metadata": {},
   "source": [
    "make an oncotree table"
   ]
  },
  {
   "cell_type": "code",
   "execution_count": 90,
   "metadata": {},
   "outputs": [],
   "source": [
    "dkfz_oncotree <- as.data.frame(unique(dkfz_maf$Tumor_Sample_Barcode),\n",
    "                              stringsAsFactors = F)"
   ]
  },
  {
   "cell_type": "code",
   "execution_count": 91,
   "metadata": {},
   "outputs": [],
   "source": [
    "colnames(dkfz_oncotree) <- \"Tumor_Sample_Barcode\""
   ]
  },
  {
   "cell_type": "code",
   "execution_count": 92,
   "metadata": {},
   "outputs": [],
   "source": [
    "dkfz_oncotree$clinical <- NA\n",
    "\n",
    "dkfz_oncotree$clinical[ grepl(\"ICGC_ET\",dkfz_oncotree$Tumor_Sample_Barcode)] <- \"ETMR\"\n",
    "dkfz_oncotree$clinical[ grepl(\"ICGC_GBM\",dkfz_oncotree$Tumor_Sample_Barcode)] <- \"GBM\"\n",
    "dkfz_oncotree$clinical[ grepl(\"ICGC_PA\",dkfz_oncotree$Tumor_Sample_Barcode)] <- \"LGG\"\n",
    "dkfz_oncotree$clinical[ grepl(\"H049\",dkfz_oncotree$Tumor_Sample_Barcode)] <- \"ATRT\"\n",
    "dkfz_oncotree$clinical[ grepl(\"ICGC_MB\",dkfz_oncotree$Tumor_Sample_Barcode)] <- \"MB\""
   ]
  },
  {
   "cell_type": "code",
   "execution_count": 93,
   "metadata": {},
   "outputs": [],
   "source": [
    "write.table(dkfz_oncotree, file = paste0(datapath, \"snv/dkfz_oncotree.txt\"),\n",
    "           sep = \"\\t\", quote = F, row.names = F)"
   ]
  },
  {
   "cell_type": "code",
   "execution_count": null,
   "metadata": {},
   "outputs": [],
   "source": []
  }
 ],
 "metadata": {
  "kernelspec": {
   "display_name": "R 4.0",
   "language": "R",
   "name": "ir40"
  },
  "language_info": {
   "codemirror_mode": "r",
   "file_extension": ".r",
   "mimetype": "text/x-r-source",
   "name": "R",
   "pygments_lexer": "r",
   "version": "4.0.3"
  },
  "toc": {
   "base_numbering": 1,
   "nav_menu": {},
   "number_sections": false,
   "sideBar": true,
   "skip_h1_title": false,
   "title_cell": "Table of Contents",
   "title_sidebar": "Contents",
   "toc_cell": true,
   "toc_position": {
    "height": "calc(100% - 180px)",
    "left": "10px",
    "top": "150px",
    "width": "344.727px"
   },
   "toc_section_display": true,
   "toc_window_display": false
  }
 },
 "nbformat": 4,
 "nbformat_minor": 2
}
