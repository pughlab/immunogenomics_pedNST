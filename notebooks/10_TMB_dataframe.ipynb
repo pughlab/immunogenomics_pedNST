{
 "cells": [
  {
   "cell_type": "markdown",
   "metadata": {
    "toc": true
   },
   "source": [
    "<h1>Table of Contents<span class=\"tocSkip\"></span></h1>\n",
    "<div class=\"toc\"><ul class=\"toc-item\"><li><span><a href=\"#Dependencies\" data-toc-modified-id=\"Dependencies-1\">Dependencies</a></span></li><li><span><a href=\"#Paths\" data-toc-modified-id=\"Paths-2\">Paths</a></span></li><li><span><a href=\"#Main\" data-toc-modified-id=\"Main-3\">Main</a></span><ul class=\"toc-item\"><li><span><a href=\"#CBTTC-MAF-summary\" data-toc-modified-id=\"CBTTC-MAF-summary-3.1\">CBTTC MAF summary</a></span></li><li><span><a href=\"#GDC-MAF-summary\" data-toc-modified-id=\"GDC-MAF-summary-3.2\">GDC MAF summary</a></span></li><li><span><a href=\"#DKFZ\" data-toc-modified-id=\"DKFZ-3.3\">DKFZ</a></span></li><li><span><a href=\"#Calculate-Tumour-Mutation-Burden-(TMB)\" data-toc-modified-id=\"Calculate-Tumour-Mutation-Burden-(TMB)-3.4\">Calculate Tumour Mutation Burden (TMB)</a></span></li></ul></li></ul></div>"
   ]
  },
  {
   "cell_type": "markdown",
   "metadata": {},
   "source": [
    "Calculation of TMB from overlapped calls of strelka2 and mutect2  and VAF > 0.03 in CBTTC dataset and mutect2 calls with VAF > 0.03 in GDC dataset"
   ]
  },
  {
   "cell_type": "markdown",
   "metadata": {},
   "source": [
    "# Dependencies"
   ]
  },
  {
   "cell_type": "code",
   "execution_count": 1,
   "metadata": {},
   "outputs": [],
   "source": [
    "library(plyr)"
   ]
  },
  {
   "cell_type": "markdown",
   "metadata": {},
   "source": [
    "# Paths"
   ]
  },
  {
   "cell_type": "code",
   "execution_count": 2,
   "metadata": {},
   "outputs": [],
   "source": [
    "manifestpath <- \"/Users/anabbi/OneDrive - UHN/Documents/IPD2/Manifests/\"\n",
    "datapath <- \"/Users/anabbi/OneDrive - UHN/Documents/IPD2/Data/\"\n",
    "plotpath <- \"/Users/anabbi/OneDrive - UHN/Documents/IPD2/Plots/\""
   ]
  },
  {
   "cell_type": "markdown",
   "metadata": {},
   "source": [
    "# Main"
   ]
  },
  {
   "cell_type": "code",
   "execution_count": 3,
   "metadata": {},
   "outputs": [],
   "source": [
    "load(paste0(datapath, \"ESTIMATE/estimate_manifest_primary_clean_final.RData\"))"
   ]
  },
  {
   "cell_type": "code",
   "execution_count": 4,
   "metadata": {},
   "outputs": [
    {
     "data": {
      "text/plain": [
       "\n",
       "  0   1 \n",
       "555 217 "
      ]
     },
     "metadata": {},
     "output_type": "display_data"
    }
   ],
   "source": [
    "table(estimate_manifest_primary_clean$recurrence)"
   ]
  },
  {
   "cell_type": "markdown",
   "metadata": {},
   "source": [
    "## CBTTC MAF summary \n",
    "\n",
    "post-recoding post-overlap post-VAF filter"
   ]
  },
  {
   "cell_type": "code",
   "execution_count": 6,
   "metadata": {},
   "outputs": [],
   "source": [
    "CBTTC_mut <- read.table(file = paste0(datapath,\"snv/CBTTC_mafsummary_overlapped_3VAF.txt\"),sep = \"\\t\", \n",
    "                        check.names = F,header = TRUE, stringsAsFactors = FALSE)"
   ]
  },
  {
   "cell_type": "code",
   "execution_count": 7,
   "metadata": {},
   "outputs": [
    {
     "data": {
      "text/html": [
       "<table class=\"dataframe\">\n",
       "<caption>A data.frame: 6 × 10</caption>\n",
       "<thead>\n",
       "\t<tr><th></th><th scope=col>Tumor_Sample_Barcode</th><th scope=col>Frame_Shift_Del</th><th scope=col>Frame_Shift_Ins</th><th scope=col>In_Frame_Del</th><th scope=col>In_Frame_Ins</th><th scope=col>Missense_Mutation</th><th scope=col>Nonsense_Mutation</th><th scope=col>Nonstop_Mutation</th><th scope=col>total</th><th scope=col>sample_id</th></tr>\n",
       "\t<tr><th></th><th scope=col>&lt;chr&gt;</th><th scope=col>&lt;int&gt;</th><th scope=col>&lt;int&gt;</th><th scope=col>&lt;int&gt;</th><th scope=col>&lt;int&gt;</th><th scope=col>&lt;int&gt;</th><th scope=col>&lt;int&gt;</th><th scope=col>&lt;int&gt;</th><th scope=col>&lt;int&gt;</th><th scope=col>&lt;chr&gt;</th></tr>\n",
       "</thead>\n",
       "<tbody>\n",
       "\t<tr><th scope=row>1</th><td>BS_8AY2GM4G</td><td>21</td><td> 21</td><td>0</td><td>1</td><td>9555</td><td>572</td><td>5</td><td>10175</td><td>7316-2085</td></tr>\n",
       "\t<tr><th scope=row>2</th><td>BS_20TBZG09</td><td>17</td><td> 31</td><td>0</td><td>1</td><td>9213</td><td>534</td><td>5</td><td> 9801</td><td>7316-515 </td></tr>\n",
       "\t<tr><th scope=row>3</th><td>BS_02YBZSBY</td><td> 9</td><td>165</td><td>0</td><td>0</td><td>8170</td><td>470</td><td>1</td><td> 8815</td><td>7316-2189</td></tr>\n",
       "\t<tr><th scope=row>4</th><td>BS_D0T6V861</td><td> 9</td><td>154</td><td>0</td><td>0</td><td>8018</td><td>457</td><td>1</td><td> 8639</td><td>7316-2189</td></tr>\n",
       "\t<tr><th scope=row>5</th><td>BS_VW4XN9Y7</td><td> 3</td><td>111</td><td>0</td><td>1</td><td>5563</td><td>266</td><td>7</td><td> 5951</td><td>7316-2640</td></tr>\n",
       "\t<tr><th scope=row>6</th><td>BS_F0GNWEJJ</td><td>42</td><td> 14</td><td>9</td><td>0</td><td> 717</td><td> 25</td><td>0</td><td>  807</td><td>7316-3311</td></tr>\n",
       "</tbody>\n",
       "</table>\n"
      ],
      "text/latex": [
       "A data.frame: 6 × 10\n",
       "\\begin{tabular}{r|llllllllll}\n",
       "  & Tumor\\_Sample\\_Barcode & Frame\\_Shift\\_Del & Frame\\_Shift\\_Ins & In\\_Frame\\_Del & In\\_Frame\\_Ins & Missense\\_Mutation & Nonsense\\_Mutation & Nonstop\\_Mutation & total & sample\\_id\\\\\n",
       "  & <chr> & <int> & <int> & <int> & <int> & <int> & <int> & <int> & <int> & <chr>\\\\\n",
       "\\hline\n",
       "\t1 & BS\\_8AY2GM4G & 21 &  21 & 0 & 1 & 9555 & 572 & 5 & 10175 & 7316-2085\\\\\n",
       "\t2 & BS\\_20TBZG09 & 17 &  31 & 0 & 1 & 9213 & 534 & 5 &  9801 & 7316-515 \\\\\n",
       "\t3 & BS\\_02YBZSBY &  9 & 165 & 0 & 0 & 8170 & 470 & 1 &  8815 & 7316-2189\\\\\n",
       "\t4 & BS\\_D0T6V861 &  9 & 154 & 0 & 0 & 8018 & 457 & 1 &  8639 & 7316-2189\\\\\n",
       "\t5 & BS\\_VW4XN9Y7 &  3 & 111 & 0 & 1 & 5563 & 266 & 7 &  5951 & 7316-2640\\\\\n",
       "\t6 & BS\\_F0GNWEJJ & 42 &  14 & 9 & 0 &  717 &  25 & 0 &   807 & 7316-3311\\\\\n",
       "\\end{tabular}\n"
      ],
      "text/markdown": [
       "\n",
       "A data.frame: 6 × 10\n",
       "\n",
       "| <!--/--> | Tumor_Sample_Barcode &lt;chr&gt; | Frame_Shift_Del &lt;int&gt; | Frame_Shift_Ins &lt;int&gt; | In_Frame_Del &lt;int&gt; | In_Frame_Ins &lt;int&gt; | Missense_Mutation &lt;int&gt; | Nonsense_Mutation &lt;int&gt; | Nonstop_Mutation &lt;int&gt; | total &lt;int&gt; | sample_id &lt;chr&gt; |\n",
       "|---|---|---|---|---|---|---|---|---|---|---|\n",
       "| 1 | BS_8AY2GM4G | 21 |  21 | 0 | 1 | 9555 | 572 | 5 | 10175 | 7316-2085 |\n",
       "| 2 | BS_20TBZG09 | 17 |  31 | 0 | 1 | 9213 | 534 | 5 |  9801 | 7316-515  |\n",
       "| 3 | BS_02YBZSBY |  9 | 165 | 0 | 0 | 8170 | 470 | 1 |  8815 | 7316-2189 |\n",
       "| 4 | BS_D0T6V861 |  9 | 154 | 0 | 0 | 8018 | 457 | 1 |  8639 | 7316-2189 |\n",
       "| 5 | BS_VW4XN9Y7 |  3 | 111 | 0 | 1 | 5563 | 266 | 7 |  5951 | 7316-2640 |\n",
       "| 6 | BS_F0GNWEJJ | 42 |  14 | 9 | 0 |  717 |  25 | 0 |   807 | 7316-3311 |\n",
       "\n"
      ],
      "text/plain": [
       "  Tumor_Sample_Barcode Frame_Shift_Del Frame_Shift_Ins In_Frame_Del\n",
       "1 BS_8AY2GM4G          21               21             0           \n",
       "2 BS_20TBZG09          17               31             0           \n",
       "3 BS_02YBZSBY           9              165             0           \n",
       "4 BS_D0T6V861           9              154             0           \n",
       "5 BS_VW4XN9Y7           3              111             0           \n",
       "6 BS_F0GNWEJJ          42               14             9           \n",
       "  In_Frame_Ins Missense_Mutation Nonsense_Mutation Nonstop_Mutation total\n",
       "1 1            9555              572               5                10175\n",
       "2 1            9213              534               5                 9801\n",
       "3 0            8170              470               1                 8815\n",
       "4 0            8018              457               1                 8639\n",
       "5 1            5563              266               7                 5951\n",
       "6 0             717               25               0                  807\n",
       "  sample_id\n",
       "1 7316-2085\n",
       "2 7316-515 \n",
       "3 7316-2189\n",
       "4 7316-2189\n",
       "5 7316-2640\n",
       "6 7316-3311"
      ]
     },
     "metadata": {},
     "output_type": "display_data"
    }
   ],
   "source": [
    "head(CBTTC_mut[order(CBTTC_mut$total, decreasing = T),])"
   ]
  },
  {
   "cell_type": "code",
   "execution_count": 8,
   "metadata": {},
   "outputs": [
    {
     "data": {
      "text/html": [
       "<style>\n",
       ".list-inline {list-style: none; margin:0; padding: 0}\n",
       ".list-inline>li {display: inline-block}\n",
       ".list-inline>li:not(:last-child)::after {content: \"\\00b7\"; padding: 0 .5ex}\n",
       "</style>\n",
       "<ol class=list-inline><li>796</li><li>10</li></ol>\n"
      ],
      "text/latex": [
       "\\begin{enumerate*}\n",
       "\\item 796\n",
       "\\item 10\n",
       "\\end{enumerate*}\n"
      ],
      "text/markdown": [
       "1. 796\n",
       "2. 10\n",
       "\n",
       "\n"
      ],
      "text/plain": [
       "[1] 796  10"
      ]
     },
     "metadata": {},
     "output_type": "display_data"
    }
   ],
   "source": [
    "dim(CBTTC_mut)"
   ]
  },
  {
   "cell_type": "code",
   "execution_count": 9,
   "metadata": {},
   "outputs": [],
   "source": [
    "CBTTC <- estimate_manifest_primary_clean[estimate_manifest_primary_clean$group == \"CBTTC\",]"
   ]
  },
  {
   "cell_type": "code",
   "execution_count": 10,
   "metadata": {},
   "outputs": [
    {
     "data": {
      "text/html": [
       "<style>\n",
       ".list-inline {list-style: none; margin:0; padding: 0}\n",
       ".list-inline>li {display: inline-block}\n",
       ".list-inline>li:not(:last-child)::after {content: \"\\00b7\"; padding: 0 .5ex}\n",
       "</style>\n",
       "<ol class=list-inline><li>579</li><li>21</li></ol>\n"
      ],
      "text/latex": [
       "\\begin{enumerate*}\n",
       "\\item 579\n",
       "\\item 21\n",
       "\\end{enumerate*}\n"
      ],
      "text/markdown": [
       "1. 579\n",
       "2. 21\n",
       "\n",
       "\n"
      ],
      "text/plain": [
       "[1] 579  21"
      ]
     },
     "metadata": {},
     "output_type": "display_data"
    }
   ],
   "source": [
    "dim(CBTTC)"
   ]
  },
  {
   "cell_type": "code",
   "execution_count": 11,
   "metadata": {},
   "outputs": [
    {
     "data": {
      "text/html": [
       "470"
      ],
      "text/latex": [
       "470"
      ],
      "text/markdown": [
       "470"
      ],
      "text/plain": [
       "[1] 470"
      ]
     },
     "metadata": {},
     "output_type": "display_data"
    }
   ],
   "source": [
    "length(CBTTC_mut$sample_id[CBTTC_mut$sample_id %in% CBTTC$sample_id])"
   ]
  },
  {
   "cell_type": "code",
   "execution_count": 12,
   "metadata": {},
   "outputs": [],
   "source": [
    "CBTTC_mut_subset <- CBTTC_mut[,c(\"sample_id\", \"Frame_Shift_Del\", \"Frame_Shift_Ins\",\"In_Frame_Del\", \"In_Frame_Ins\",\n",
    "                                 \"Missense_Mutation\", \"Nonsense_Mutation\", \"Nonstop_Mutation\", \"total\")]"
   ]
  },
  {
   "cell_type": "code",
   "execution_count": 13,
   "metadata": {},
   "outputs": [
    {
     "data": {
      "text/html": [
       "<table class=\"dataframe\">\n",
       "<caption>A data.frame: 6 × 9</caption>\n",
       "<thead>\n",
       "\t<tr><th></th><th scope=col>sample_id</th><th scope=col>Frame_Shift_Del</th><th scope=col>Frame_Shift_Ins</th><th scope=col>In_Frame_Del</th><th scope=col>In_Frame_Ins</th><th scope=col>Missense_Mutation</th><th scope=col>Nonsense_Mutation</th><th scope=col>Nonstop_Mutation</th><th scope=col>total</th></tr>\n",
       "\t<tr><th></th><th scope=col>&lt;chr&gt;</th><th scope=col>&lt;int&gt;</th><th scope=col>&lt;int&gt;</th><th scope=col>&lt;int&gt;</th><th scope=col>&lt;int&gt;</th><th scope=col>&lt;int&gt;</th><th scope=col>&lt;int&gt;</th><th scope=col>&lt;int&gt;</th><th scope=col>&lt;int&gt;</th></tr>\n",
       "</thead>\n",
       "<tbody>\n",
       "\t<tr><th scope=row>1</th><td>7316-2085</td><td>21</td><td> 21</td><td>0</td><td>1</td><td>9555</td><td>572</td><td>5</td><td>10175</td></tr>\n",
       "\t<tr><th scope=row>2</th><td>7316-515 </td><td>17</td><td> 31</td><td>0</td><td>1</td><td>9213</td><td>534</td><td>5</td><td> 9801</td></tr>\n",
       "\t<tr><th scope=row>3</th><td>7316-2189</td><td> 9</td><td>165</td><td>0</td><td>0</td><td>8170</td><td>470</td><td>1</td><td> 8815</td></tr>\n",
       "\t<tr><th scope=row>4</th><td>7316-2189</td><td> 9</td><td>154</td><td>0</td><td>0</td><td>8018</td><td>457</td><td>1</td><td> 8639</td></tr>\n",
       "\t<tr><th scope=row>5</th><td>7316-2640</td><td> 3</td><td>111</td><td>0</td><td>1</td><td>5563</td><td>266</td><td>7</td><td> 5951</td></tr>\n",
       "\t<tr><th scope=row>6</th><td>7316-3311</td><td>42</td><td> 14</td><td>9</td><td>0</td><td> 717</td><td> 25</td><td>0</td><td>  807</td></tr>\n",
       "</tbody>\n",
       "</table>\n"
      ],
      "text/latex": [
       "A data.frame: 6 × 9\n",
       "\\begin{tabular}{r|lllllllll}\n",
       "  & sample\\_id & Frame\\_Shift\\_Del & Frame\\_Shift\\_Ins & In\\_Frame\\_Del & In\\_Frame\\_Ins & Missense\\_Mutation & Nonsense\\_Mutation & Nonstop\\_Mutation & total\\\\\n",
       "  & <chr> & <int> & <int> & <int> & <int> & <int> & <int> & <int> & <int>\\\\\n",
       "\\hline\n",
       "\t1 & 7316-2085 & 21 &  21 & 0 & 1 & 9555 & 572 & 5 & 10175\\\\\n",
       "\t2 & 7316-515  & 17 &  31 & 0 & 1 & 9213 & 534 & 5 &  9801\\\\\n",
       "\t3 & 7316-2189 &  9 & 165 & 0 & 0 & 8170 & 470 & 1 &  8815\\\\\n",
       "\t4 & 7316-2189 &  9 & 154 & 0 & 0 & 8018 & 457 & 1 &  8639\\\\\n",
       "\t5 & 7316-2640 &  3 & 111 & 0 & 1 & 5563 & 266 & 7 &  5951\\\\\n",
       "\t6 & 7316-3311 & 42 &  14 & 9 & 0 &  717 &  25 & 0 &   807\\\\\n",
       "\\end{tabular}\n"
      ],
      "text/markdown": [
       "\n",
       "A data.frame: 6 × 9\n",
       "\n",
       "| <!--/--> | sample_id &lt;chr&gt; | Frame_Shift_Del &lt;int&gt; | Frame_Shift_Ins &lt;int&gt; | In_Frame_Del &lt;int&gt; | In_Frame_Ins &lt;int&gt; | Missense_Mutation &lt;int&gt; | Nonsense_Mutation &lt;int&gt; | Nonstop_Mutation &lt;int&gt; | total &lt;int&gt; |\n",
       "|---|---|---|---|---|---|---|---|---|---|\n",
       "| 1 | 7316-2085 | 21 |  21 | 0 | 1 | 9555 | 572 | 5 | 10175 |\n",
       "| 2 | 7316-515  | 17 |  31 | 0 | 1 | 9213 | 534 | 5 |  9801 |\n",
       "| 3 | 7316-2189 |  9 | 165 | 0 | 0 | 8170 | 470 | 1 |  8815 |\n",
       "| 4 | 7316-2189 |  9 | 154 | 0 | 0 | 8018 | 457 | 1 |  8639 |\n",
       "| 5 | 7316-2640 |  3 | 111 | 0 | 1 | 5563 | 266 | 7 |  5951 |\n",
       "| 6 | 7316-3311 | 42 |  14 | 9 | 0 |  717 |  25 | 0 |   807 |\n",
       "\n"
      ],
      "text/plain": [
       "  sample_id Frame_Shift_Del Frame_Shift_Ins In_Frame_Del In_Frame_Ins\n",
       "1 7316-2085 21               21             0            1           \n",
       "2 7316-515  17               31             0            1           \n",
       "3 7316-2189  9              165             0            0           \n",
       "4 7316-2189  9              154             0            0           \n",
       "5 7316-2640  3              111             0            1           \n",
       "6 7316-3311 42               14             9            0           \n",
       "  Missense_Mutation Nonsense_Mutation Nonstop_Mutation total\n",
       "1 9555              572               5                10175\n",
       "2 9213              534               5                 9801\n",
       "3 8170              470               1                 8815\n",
       "4 8018              457               1                 8639\n",
       "5 5563              266               7                 5951\n",
       "6  717               25               0                  807"
      ]
     },
     "metadata": {},
     "output_type": "display_data"
    }
   ],
   "source": [
    "head(CBTTC_mut_subset)"
   ]
  },
  {
   "cell_type": "code",
   "execution_count": 14,
   "metadata": {},
   "outputs": [],
   "source": [
    "mafsum_CBTTC_estimate_manifest <- merge(CBTTC, CBTTC_mut_subset, by = \"sample_id\")"
   ]
  },
  {
   "cell_type": "code",
   "execution_count": 15,
   "metadata": {},
   "outputs": [
    {
     "data": {
      "text/html": [
       "<style>\n",
       ".list-inline {list-style: none; margin:0; padding: 0}\n",
       ".list-inline>li {display: inline-block}\n",
       ".list-inline>li:not(:last-child)::after {content: \"\\00b7\"; padding: 0 .5ex}\n",
       "</style>\n",
       "<ol class=list-inline><li>470</li><li>29</li></ol>\n"
      ],
      "text/latex": [
       "\\begin{enumerate*}\n",
       "\\item 470\n",
       "\\item 29\n",
       "\\end{enumerate*}\n"
      ],
      "text/markdown": [
       "1. 470\n",
       "2. 29\n",
       "\n",
       "\n"
      ],
      "text/plain": [
       "[1] 470  29"
      ]
     },
     "metadata": {},
     "output_type": "display_data"
    }
   ],
   "source": [
    "dim(mafsum_CBTTC_estimate_manifest)"
   ]
  },
  {
   "cell_type": "code",
   "execution_count": 16,
   "metadata": {},
   "outputs": [
    {
     "data": {
      "text/html": [
       "<table class=\"dataframe\">\n",
       "<caption>A data.frame: 6 × 29</caption>\n",
       "<thead>\n",
       "\t<tr><th></th><th scope=col>sample_id</th><th scope=col>aliquot_id</th><th scope=col>StromalScore</th><th scope=col>ImmuneScore</th><th scope=col>ESTIMATEScore</th><th scope=col>name</th><th scope=col>case_id</th><th scope=col>gender</th><th scope=col>ethnicity</th><th scope=col>race</th><th scope=col>⋯</th><th scope=col>sample_type</th><th scope=col>age_class</th><th scope=col>Frame_Shift_Del</th><th scope=col>Frame_Shift_Ins</th><th scope=col>In_Frame_Del</th><th scope=col>In_Frame_Ins</th><th scope=col>Missense_Mutation</th><th scope=col>Nonsense_Mutation</th><th scope=col>Nonstop_Mutation</th><th scope=col>total</th></tr>\n",
       "\t<tr><th></th><th scope=col>&lt;chr&gt;</th><th scope=col>&lt;chr&gt;</th><th scope=col>&lt;dbl&gt;</th><th scope=col>&lt;dbl&gt;</th><th scope=col>&lt;dbl&gt;</th><th scope=col>&lt;chr&gt;</th><th scope=col>&lt;chr&gt;</th><th scope=col>&lt;chr&gt;</th><th scope=col>&lt;chr&gt;</th><th scope=col>&lt;chr&gt;</th><th scope=col>⋯</th><th scope=col>&lt;chr&gt;</th><th scope=col>&lt;chr&gt;</th><th scope=col>&lt;int&gt;</th><th scope=col>&lt;int&gt;</th><th scope=col>&lt;int&gt;</th><th scope=col>&lt;int&gt;</th><th scope=col>&lt;int&gt;</th><th scope=col>&lt;int&gt;</th><th scope=col>&lt;int&gt;</th><th scope=col>&lt;int&gt;</th></tr>\n",
       "</thead>\n",
       "<tbody>\n",
       "\t<tr><th scope=row>1</th><td>7316-10  </td><td>717108</td><td> 948.2224</td><td>1027.2452</td><td> 1975.4676</td><td>cae75655-bec6-4ab6-af6f-e286f4cae404.rsem.genes.results</td><td>C15129 </td><td>Female</td><td>Not Hispanic or Latino</td><td>African</td><td>⋯</td><td>Initial CNS Tumor</td><td>Young adults</td><td>0</td><td>0</td><td>0</td><td>0</td><td>4</td><td>0</td><td>0</td><td>4</td></tr>\n",
       "\t<tr><th scope=row>2</th><td>7316-101 </td><td>588338</td><td>-844.5791</td><td>-289.5254</td><td>-1134.1044</td><td>f52e9f4d-6f98-41e6-872f-107137f59980.rsem.genes.results</td><td>C23862 </td><td>Male  </td><td>Not Hispanic or Latino</td><td>African</td><td>⋯</td><td>Initial CNS Tumor</td><td>Children    </td><td>0</td><td>0</td><td>0</td><td>0</td><td>8</td><td>0</td><td>0</td><td>8</td></tr>\n",
       "\t<tr><th scope=row>3</th><td>7316-1075</td><td>588351</td><td>-186.4694</td><td> 669.7261</td><td>  483.2567</td><td>f1ea5df0-95b3-436a-9168-036e482cb76f.rsem.genes.results</td><td>C291264</td><td>Male  </td><td>Reported Unknown      </td><td>Other  </td><td>⋯</td><td>Initial CNS Tumor</td><td>NA          </td><td>0</td><td>0</td><td>0</td><td>0</td><td>2</td><td>0</td><td>0</td><td>2</td></tr>\n",
       "\t<tr><th scope=row>4</th><td>7316-1077</td><td>731885</td><td>-680.6484</td><td>-475.4882</td><td>-1156.1366</td><td>5a8eb07f-4d9b-437f-a44b-432e5dc6b1f8.rsem.genes.results</td><td>C291510</td><td>Male  </td><td>Reported Unknown      </td><td>Other  </td><td>⋯</td><td>Initial CNS Tumor</td><td>Children    </td><td>0</td><td>0</td><td>0</td><td>0</td><td>1</td><td>1</td><td>0</td><td>2</td></tr>\n",
       "\t<tr><th scope=row>5</th><td>7316-1078</td><td>588352</td><td>-823.4809</td><td>-630.5107</td><td>-1453.9915</td><td>b38b70ba-1b14-49a8-9386-007bcb0ef2aa.rsem.genes.results</td><td>C291633</td><td>Male  </td><td>Reported Unknown      </td><td>Other  </td><td>⋯</td><td>Initial CNS Tumor</td><td>Children    </td><td>1</td><td>1</td><td>0</td><td>0</td><td>3</td><td>1</td><td>0</td><td>6</td></tr>\n",
       "\t<tr><th scope=row>6</th><td>7316-1081</td><td>731897</td><td>-413.6641</td><td> 879.1675</td><td>  465.5034</td><td>1da1eb0c-f54d-4bce-8f02-55899fc8761f.rsem.genes.results</td><td>C410697</td><td>Male  </td><td>Reported Unknown      </td><td>Other  </td><td>⋯</td><td>Initial CNS Tumor</td><td>Children    </td><td>1</td><td>0</td><td>0</td><td>0</td><td>1</td><td>0</td><td>0</td><td>2</td></tr>\n",
       "</tbody>\n",
       "</table>\n"
      ],
      "text/latex": [
       "A data.frame: 6 × 29\n",
       "\\begin{tabular}{r|lllllllllllllllllllll}\n",
       "  & sample\\_id & aliquot\\_id & StromalScore & ImmuneScore & ESTIMATEScore & name & case\\_id & gender & ethnicity & race & ⋯ & sample\\_type & age\\_class & Frame\\_Shift\\_Del & Frame\\_Shift\\_Ins & In\\_Frame\\_Del & In\\_Frame\\_Ins & Missense\\_Mutation & Nonsense\\_Mutation & Nonstop\\_Mutation & total\\\\\n",
       "  & <chr> & <chr> & <dbl> & <dbl> & <dbl> & <chr> & <chr> & <chr> & <chr> & <chr> & ⋯ & <chr> & <chr> & <int> & <int> & <int> & <int> & <int> & <int> & <int> & <int>\\\\\n",
       "\\hline\n",
       "\t1 & 7316-10   & 717108 &  948.2224 & 1027.2452 &  1975.4676 & cae75655-bec6-4ab6-af6f-e286f4cae404.rsem.genes.results & C15129  & Female & Not Hispanic or Latino & African & ⋯ & Initial CNS Tumor & Young adults & 0 & 0 & 0 & 0 & 4 & 0 & 0 & 4\\\\\n",
       "\t2 & 7316-101  & 588338 & -844.5791 & -289.5254 & -1134.1044 & f52e9f4d-6f98-41e6-872f-107137f59980.rsem.genes.results & C23862  & Male   & Not Hispanic or Latino & African & ⋯ & Initial CNS Tumor & Children     & 0 & 0 & 0 & 0 & 8 & 0 & 0 & 8\\\\\n",
       "\t3 & 7316-1075 & 588351 & -186.4694 &  669.7261 &   483.2567 & f1ea5df0-95b3-436a-9168-036e482cb76f.rsem.genes.results & C291264 & Male   & Reported Unknown       & Other   & ⋯ & Initial CNS Tumor & NA           & 0 & 0 & 0 & 0 & 2 & 0 & 0 & 2\\\\\n",
       "\t4 & 7316-1077 & 731885 & -680.6484 & -475.4882 & -1156.1366 & 5a8eb07f-4d9b-437f-a44b-432e5dc6b1f8.rsem.genes.results & C291510 & Male   & Reported Unknown       & Other   & ⋯ & Initial CNS Tumor & Children     & 0 & 0 & 0 & 0 & 1 & 1 & 0 & 2\\\\\n",
       "\t5 & 7316-1078 & 588352 & -823.4809 & -630.5107 & -1453.9915 & b38b70ba-1b14-49a8-9386-007bcb0ef2aa.rsem.genes.results & C291633 & Male   & Reported Unknown       & Other   & ⋯ & Initial CNS Tumor & Children     & 1 & 1 & 0 & 0 & 3 & 1 & 0 & 6\\\\\n",
       "\t6 & 7316-1081 & 731897 & -413.6641 &  879.1675 &   465.5034 & 1da1eb0c-f54d-4bce-8f02-55899fc8761f.rsem.genes.results & C410697 & Male   & Reported Unknown       & Other   & ⋯ & Initial CNS Tumor & Children     & 1 & 0 & 0 & 0 & 1 & 0 & 0 & 2\\\\\n",
       "\\end{tabular}\n"
      ],
      "text/markdown": [
       "\n",
       "A data.frame: 6 × 29\n",
       "\n",
       "| <!--/--> | sample_id &lt;chr&gt; | aliquot_id &lt;chr&gt; | StromalScore &lt;dbl&gt; | ImmuneScore &lt;dbl&gt; | ESTIMATEScore &lt;dbl&gt; | name &lt;chr&gt; | case_id &lt;chr&gt; | gender &lt;chr&gt; | ethnicity &lt;chr&gt; | race &lt;chr&gt; | ⋯ ⋯ | sample_type &lt;chr&gt; | age_class &lt;chr&gt; | Frame_Shift_Del &lt;int&gt; | Frame_Shift_Ins &lt;int&gt; | In_Frame_Del &lt;int&gt; | In_Frame_Ins &lt;int&gt; | Missense_Mutation &lt;int&gt; | Nonsense_Mutation &lt;int&gt; | Nonstop_Mutation &lt;int&gt; | total &lt;int&gt; |\n",
       "|---|---|---|---|---|---|---|---|---|---|---|---|---|---|---|---|---|---|---|---|---|---|\n",
       "| 1 | 7316-10   | 717108 |  948.2224 | 1027.2452 |  1975.4676 | cae75655-bec6-4ab6-af6f-e286f4cae404.rsem.genes.results | C15129  | Female | Not Hispanic or Latino | African | ⋯ | Initial CNS Tumor | Young adults | 0 | 0 | 0 | 0 | 4 | 0 | 0 | 4 |\n",
       "| 2 | 7316-101  | 588338 | -844.5791 | -289.5254 | -1134.1044 | f52e9f4d-6f98-41e6-872f-107137f59980.rsem.genes.results | C23862  | Male   | Not Hispanic or Latino | African | ⋯ | Initial CNS Tumor | Children     | 0 | 0 | 0 | 0 | 8 | 0 | 0 | 8 |\n",
       "| 3 | 7316-1075 | 588351 | -186.4694 |  669.7261 |   483.2567 | f1ea5df0-95b3-436a-9168-036e482cb76f.rsem.genes.results | C291264 | Male   | Reported Unknown       | Other   | ⋯ | Initial CNS Tumor | NA           | 0 | 0 | 0 | 0 | 2 | 0 | 0 | 2 |\n",
       "| 4 | 7316-1077 | 731885 | -680.6484 | -475.4882 | -1156.1366 | 5a8eb07f-4d9b-437f-a44b-432e5dc6b1f8.rsem.genes.results | C291510 | Male   | Reported Unknown       | Other   | ⋯ | Initial CNS Tumor | Children     | 0 | 0 | 0 | 0 | 1 | 1 | 0 | 2 |\n",
       "| 5 | 7316-1078 | 588352 | -823.4809 | -630.5107 | -1453.9915 | b38b70ba-1b14-49a8-9386-007bcb0ef2aa.rsem.genes.results | C291633 | Male   | Reported Unknown       | Other   | ⋯ | Initial CNS Tumor | Children     | 1 | 1 | 0 | 0 | 3 | 1 | 0 | 6 |\n",
       "| 6 | 7316-1081 | 731897 | -413.6641 |  879.1675 |   465.5034 | 1da1eb0c-f54d-4bce-8f02-55899fc8761f.rsem.genes.results | C410697 | Male   | Reported Unknown       | Other   | ⋯ | Initial CNS Tumor | Children     | 1 | 0 | 0 | 0 | 1 | 0 | 0 | 2 |\n",
       "\n"
      ],
      "text/plain": [
       "  sample_id aliquot_id StromalScore ImmuneScore ESTIMATEScore\n",
       "1 7316-10   717108      948.2224    1027.2452    1975.4676   \n",
       "2 7316-101  588338     -844.5791    -289.5254   -1134.1044   \n",
       "3 7316-1075 588351     -186.4694     669.7261     483.2567   \n",
       "4 7316-1077 731885     -680.6484    -475.4882   -1156.1366   \n",
       "5 7316-1078 588352     -823.4809    -630.5107   -1453.9915   \n",
       "6 7316-1081 731897     -413.6641     879.1675     465.5034   \n",
       "  name                                                    case_id gender\n",
       "1 cae75655-bec6-4ab6-af6f-e286f4cae404.rsem.genes.results C15129  Female\n",
       "2 f52e9f4d-6f98-41e6-872f-107137f59980.rsem.genes.results C23862  Male  \n",
       "3 f1ea5df0-95b3-436a-9168-036e482cb76f.rsem.genes.results C291264 Male  \n",
       "4 5a8eb07f-4d9b-437f-a44b-432e5dc6b1f8.rsem.genes.results C291510 Male  \n",
       "5 b38b70ba-1b14-49a8-9386-007bcb0ef2aa.rsem.genes.results C291633 Male  \n",
       "6 1da1eb0c-f54d-4bce-8f02-55899fc8761f.rsem.genes.results C410697 Male  \n",
       "  ethnicity              race    ⋯ sample_type       age_class   \n",
       "1 Not Hispanic or Latino African ⋯ Initial CNS Tumor Young adults\n",
       "2 Not Hispanic or Latino African ⋯ Initial CNS Tumor Children    \n",
       "3 Reported Unknown       Other   ⋯ Initial CNS Tumor NA          \n",
       "4 Reported Unknown       Other   ⋯ Initial CNS Tumor Children    \n",
       "5 Reported Unknown       Other   ⋯ Initial CNS Tumor Children    \n",
       "6 Reported Unknown       Other   ⋯ Initial CNS Tumor Children    \n",
       "  Frame_Shift_Del Frame_Shift_Ins In_Frame_Del In_Frame_Ins Missense_Mutation\n",
       "1 0               0               0            0            4                \n",
       "2 0               0               0            0            8                \n",
       "3 0               0               0            0            2                \n",
       "4 0               0               0            0            1                \n",
       "5 1               1               0            0            3                \n",
       "6 1               0               0            0            1                \n",
       "  Nonsense_Mutation Nonstop_Mutation total\n",
       "1 0                 0                4    \n",
       "2 0                 0                8    \n",
       "3 0                 0                2    \n",
       "4 1                 0                2    \n",
       "5 1                 0                6    \n",
       "6 0                 0                2    "
      ]
     },
     "metadata": {},
     "output_type": "display_data"
    }
   ],
   "source": [
    "head(mafsum_CBTTC_estimate_manifest)"
   ]
  },
  {
   "cell_type": "markdown",
   "metadata": {},
   "source": [
    "## GDC MAF summary \n",
    "\n",
    "post-recoding post-deduping post-VAF filter"
   ]
  },
  {
   "cell_type": "code",
   "execution_count": 17,
   "metadata": {},
   "outputs": [],
   "source": [
    "GDC_mut <- read.table(file = paste0(datapath, \"snv/GDC_mafsummary_3VAF_dedup.txt\"),\n",
    "                      sep = \"\\t\", header = TRUE, stringsAsFactors = FALSE)"
   ]
  },
  {
   "cell_type": "code",
   "execution_count": 18,
   "metadata": {},
   "outputs": [
    {
     "data": {
      "text/html": [
       "<table class=\"dataframe\">\n",
       "<caption>A data.frame: 6 × 10</caption>\n",
       "<thead>\n",
       "\t<tr><th></th><th scope=col>Tumor_Sample_Barcode</th><th scope=col>Frame_Shift_Del</th><th scope=col>Frame_Shift_Ins</th><th scope=col>In_Frame_Del</th><th scope=col>In_Frame_Ins</th><th scope=col>Missense_Mutation</th><th scope=col>Nonsense_Mutation</th><th scope=col>Nonstop_Mutation</th><th scope=col>total</th><th scope=col>group</th></tr>\n",
       "\t<tr><th></th><th scope=col>&lt;chr&gt;</th><th scope=col>&lt;int&gt;</th><th scope=col>&lt;int&gt;</th><th scope=col>&lt;int&gt;</th><th scope=col>&lt;int&gt;</th><th scope=col>&lt;int&gt;</th><th scope=col>&lt;int&gt;</th><th scope=col>&lt;int&gt;</th><th scope=col>&lt;int&gt;</th><th scope=col>&lt;chr&gt;</th></tr>\n",
       "</thead>\n",
       "<tbody>\n",
       "\t<tr><th scope=row>1</th><td>TCGA-91-7771-01A</td><td>10</td><td> 2</td><td>1</td><td>0</td><td>130</td><td> 7</td><td>0</td><td>150</td><td>LUAD</td></tr>\n",
       "\t<tr><th scope=row>2</th><td>TCGA-14-1823-01A</td><td> 6</td><td> 3</td><td>0</td><td>1</td><td> 71</td><td> 5</td><td>0</td><td> 86</td><td>GBM </td></tr>\n",
       "\t<tr><th scope=row>3</th><td>TCGA-GF-A769-01A</td><td> 1</td><td> 0</td><td>1</td><td>0</td><td> 87</td><td> 3</td><td>0</td><td> 92</td><td>SKCM</td></tr>\n",
       "\t<tr><th scope=row>4</th><td>TCGA-12-5295-01A</td><td> 3</td><td> 0</td><td>0</td><td>0</td><td> 49</td><td> 2</td><td>0</td><td> 54</td><td>GBM </td></tr>\n",
       "\t<tr><th scope=row>5</th><td>TCGA-KK-A7B2-01A</td><td> 1</td><td> 0</td><td>0</td><td>0</td><td> 14</td><td> 0</td><td>1</td><td> 16</td><td>PRAD</td></tr>\n",
       "\t<tr><th scope=row>6</th><td>TCGA-A6-A565-01A</td><td>63</td><td>13</td><td>0</td><td>0</td><td>246</td><td>16</td><td>0</td><td>338</td><td>COAD</td></tr>\n",
       "</tbody>\n",
       "</table>\n"
      ],
      "text/latex": [
       "A data.frame: 6 × 10\n",
       "\\begin{tabular}{r|llllllllll}\n",
       "  & Tumor\\_Sample\\_Barcode & Frame\\_Shift\\_Del & Frame\\_Shift\\_Ins & In\\_Frame\\_Del & In\\_Frame\\_Ins & Missense\\_Mutation & Nonsense\\_Mutation & Nonstop\\_Mutation & total & group\\\\\n",
       "  & <chr> & <int> & <int> & <int> & <int> & <int> & <int> & <int> & <int> & <chr>\\\\\n",
       "\\hline\n",
       "\t1 & TCGA-91-7771-01A & 10 &  2 & 1 & 0 & 130 &  7 & 0 & 150 & LUAD\\\\\n",
       "\t2 & TCGA-14-1823-01A &  6 &  3 & 0 & 1 &  71 &  5 & 0 &  86 & GBM \\\\\n",
       "\t3 & TCGA-GF-A769-01A &  1 &  0 & 1 & 0 &  87 &  3 & 0 &  92 & SKCM\\\\\n",
       "\t4 & TCGA-12-5295-01A &  3 &  0 & 0 & 0 &  49 &  2 & 0 &  54 & GBM \\\\\n",
       "\t5 & TCGA-KK-A7B2-01A &  1 &  0 & 0 & 0 &  14 &  0 & 1 &  16 & PRAD\\\\\n",
       "\t6 & TCGA-A6-A565-01A & 63 & 13 & 0 & 0 & 246 & 16 & 0 & 338 & COAD\\\\\n",
       "\\end{tabular}\n"
      ],
      "text/markdown": [
       "\n",
       "A data.frame: 6 × 10\n",
       "\n",
       "| <!--/--> | Tumor_Sample_Barcode &lt;chr&gt; | Frame_Shift_Del &lt;int&gt; | Frame_Shift_Ins &lt;int&gt; | In_Frame_Del &lt;int&gt; | In_Frame_Ins &lt;int&gt; | Missense_Mutation &lt;int&gt; | Nonsense_Mutation &lt;int&gt; | Nonstop_Mutation &lt;int&gt; | total &lt;int&gt; | group &lt;chr&gt; |\n",
       "|---|---|---|---|---|---|---|---|---|---|---|\n",
       "| 1 | TCGA-91-7771-01A | 10 |  2 | 1 | 0 | 130 |  7 | 0 | 150 | LUAD |\n",
       "| 2 | TCGA-14-1823-01A |  6 |  3 | 0 | 1 |  71 |  5 | 0 |  86 | GBM  |\n",
       "| 3 | TCGA-GF-A769-01A |  1 |  0 | 1 | 0 |  87 |  3 | 0 |  92 | SKCM |\n",
       "| 4 | TCGA-12-5295-01A |  3 |  0 | 0 | 0 |  49 |  2 | 0 |  54 | GBM  |\n",
       "| 5 | TCGA-KK-A7B2-01A |  1 |  0 | 0 | 0 |  14 |  0 | 1 |  16 | PRAD |\n",
       "| 6 | TCGA-A6-A565-01A | 63 | 13 | 0 | 0 | 246 | 16 | 0 | 338 | COAD |\n",
       "\n"
      ],
      "text/plain": [
       "  Tumor_Sample_Barcode Frame_Shift_Del Frame_Shift_Ins In_Frame_Del\n",
       "1 TCGA-91-7771-01A     10               2              1           \n",
       "2 TCGA-14-1823-01A      6               3              0           \n",
       "3 TCGA-GF-A769-01A      1               0              1           \n",
       "4 TCGA-12-5295-01A      3               0              0           \n",
       "5 TCGA-KK-A7B2-01A      1               0              0           \n",
       "6 TCGA-A6-A565-01A     63              13              0           \n",
       "  In_Frame_Ins Missense_Mutation Nonsense_Mutation Nonstop_Mutation total group\n",
       "1 0            130                7                0                150   LUAD \n",
       "2 1             71                5                0                 86   GBM  \n",
       "3 0             87                3                0                 92   SKCM \n",
       "4 0             49                2                0                 54   GBM  \n",
       "5 0             14                0                1                 16   PRAD \n",
       "6 0            246               16                0                338   COAD "
      ]
     },
     "metadata": {},
     "output_type": "display_data"
    }
   ],
   "source": [
    "head(GDC_mut)"
   ]
  },
  {
   "cell_type": "code",
   "execution_count": 19,
   "metadata": {},
   "outputs": [
    {
     "data": {
      "text/html": [
       "<style>\n",
       ".list-inline {list-style: none; margin:0; padding: 0}\n",
       ".list-inline>li {display: inline-block}\n",
       ".list-inline>li:not(:last-child)::after {content: \"\\00b7\"; padding: 0 .5ex}\n",
       "</style>\n",
       "<ol class=list-inline><li>2503</li><li>10</li></ol>\n"
      ],
      "text/latex": [
       "\\begin{enumerate*}\n",
       "\\item 2503\n",
       "\\item 10\n",
       "\\end{enumerate*}\n"
      ],
      "text/markdown": [
       "1. 2503\n",
       "2. 10\n",
       "\n",
       "\n"
      ],
      "text/plain": [
       "[1] 2503   10"
      ]
     },
     "metadata": {},
     "output_type": "display_data"
    }
   ],
   "source": [
    "dim(GDC_mut)"
   ]
  },
  {
   "cell_type": "code",
   "execution_count": 20,
   "metadata": {},
   "outputs": [],
   "source": [
    "GDC <- estimate_manifest_primary_clean[estimate_manifest_primary_clean$group == \"TCGA\" |\n",
    "                                       estimate_manifest_primary_clean$group == \"TARGET\",]"
   ]
  },
  {
   "cell_type": "code",
   "execution_count": 21,
   "metadata": {},
   "outputs": [
    {
     "data": {
      "text/html": [
       "<style>\n",
       ".list-inline {list-style: none; margin:0; padding: 0}\n",
       ".list-inline>li {display: inline-block}\n",
       ".list-inline>li:not(:last-child)::after {content: \"\\00b7\"; padding: 0 .5ex}\n",
       "</style>\n",
       "<ol class=list-inline><li>2601</li><li>21</li></ol>\n"
      ],
      "text/latex": [
       "\\begin{enumerate*}\n",
       "\\item 2601\n",
       "\\item 21\n",
       "\\end{enumerate*}\n"
      ],
      "text/markdown": [
       "1. 2601\n",
       "2. 21\n",
       "\n",
       "\n"
      ],
      "text/plain": [
       "[1] 2601   21"
      ]
     },
     "metadata": {},
     "output_type": "display_data"
    }
   ],
   "source": [
    "dim(GDC)"
   ]
  },
  {
   "cell_type": "code",
   "execution_count": 22,
   "metadata": {},
   "outputs": [],
   "source": [
    "colnames(GDC_mut)[colnames(GDC_mut) == \"Tumor_Sample_Barcode\"] <- \"sample_id\""
   ]
  },
  {
   "cell_type": "code",
   "execution_count": 23,
   "metadata": {},
   "outputs": [],
   "source": [
    "GDC_mut_mutects_estimate_manifest <- merge(GDC, GDC_mut[,colnames(GDC_mut) != \"group\"],\n",
    "                                                  by = \"sample_id\")"
   ]
  },
  {
   "cell_type": "code",
   "execution_count": 24,
   "metadata": {},
   "outputs": [
    {
     "data": {
      "text/html": [
       "<table class=\"dataframe\">\n",
       "<caption>A data.frame: 6 × 29</caption>\n",
       "<thead>\n",
       "\t<tr><th></th><th scope=col>sample_id</th><th scope=col>aliquot_id</th><th scope=col>StromalScore</th><th scope=col>ImmuneScore</th><th scope=col>ESTIMATEScore</th><th scope=col>name</th><th scope=col>case_id</th><th scope=col>gender</th><th scope=col>ethnicity</th><th scope=col>race</th><th scope=col>⋯</th><th scope=col>sample_type</th><th scope=col>age_class</th><th scope=col>Frame_Shift_Del</th><th scope=col>Frame_Shift_Ins</th><th scope=col>In_Frame_Del</th><th scope=col>In_Frame_Ins</th><th scope=col>Missense_Mutation</th><th scope=col>Nonsense_Mutation</th><th scope=col>Nonstop_Mutation</th><th scope=col>total</th></tr>\n",
       "\t<tr><th></th><th scope=col>&lt;chr&gt;</th><th scope=col>&lt;chr&gt;</th><th scope=col>&lt;dbl&gt;</th><th scope=col>&lt;dbl&gt;</th><th scope=col>&lt;dbl&gt;</th><th scope=col>&lt;chr&gt;</th><th scope=col>&lt;chr&gt;</th><th scope=col>&lt;chr&gt;</th><th scope=col>&lt;chr&gt;</th><th scope=col>&lt;chr&gt;</th><th scope=col>⋯</th><th scope=col>&lt;chr&gt;</th><th scope=col>&lt;chr&gt;</th><th scope=col>&lt;int&gt;</th><th scope=col>&lt;int&gt;</th><th scope=col>&lt;int&gt;</th><th scope=col>&lt;int&gt;</th><th scope=col>&lt;int&gt;</th><th scope=col>&lt;int&gt;</th><th scope=col>&lt;int&gt;</th><th scope=col>&lt;int&gt;</th></tr>\n",
       "</thead>\n",
       "<tbody>\n",
       "\t<tr><th scope=row>1</th><td>TARGET-30-PAIFXV-01A</td><td>TARGET-30-PAIFXV-01A-01R</td><td>-537.97880</td><td> 483.8556</td><td> -54.1232</td><td>af82838c-9071-4dd7-8766-b818cf61cf82.bam</td><td>TARGET-30-PAIFXV</td><td>Female</td><td>Unknown               </td><td>White  </td><td>⋯</td><td>Primary Tumor</td><td>Children</td><td>1</td><td>0</td><td>0</td><td>0</td><td>26</td><td>1</td><td>0</td><td>28</td></tr>\n",
       "\t<tr><th scope=row>2</th><td>TARGET-30-PAIPGU-01A</td><td>TARGET-30-PAIPGU-01A-01R</td><td>-319.22630</td><td>1240.6492</td><td> 921.4229</td><td>b1d954e7-21a0-441e-a9c7-47e6a6454625.bam</td><td>TARGET-30-PAIPGU</td><td>Female</td><td>Unknown               </td><td>White  </td><td>⋯</td><td>Primary Tumor</td><td>NA      </td><td>0</td><td>0</td><td>0</td><td>1</td><td>30</td><td>3</td><td>0</td><td>34</td></tr>\n",
       "\t<tr><th scope=row>3</th><td>TARGET-30-PAITCI-01A</td><td>TARGET-30-PAITCI-01A-01R</td><td>-327.26820</td><td> 200.6735</td><td>-126.5947</td><td>9704403e-aaf9-4a97-99bc-b2a9a9861767.bam</td><td>TARGET-30-PAITCI</td><td>Male  </td><td>Unknown               </td><td>White  </td><td>⋯</td><td>Primary Tumor</td><td>Infants </td><td>0</td><td>5</td><td>0</td><td>3</td><td> 7</td><td>4</td><td>0</td><td>19</td></tr>\n",
       "\t<tr><th scope=row>4</th><td>TARGET-30-PAIVHE-01A</td><td>TARGET-30-PAIVHE-01A-01R</td><td> -15.87499</td><td>1033.6469</td><td>1017.7719</td><td>d8d30bd7-608d-4cbd-ba31-3f1fa6fefacf.bam</td><td>TARGET-30-PAIVHE</td><td>Male  </td><td>not hispanic or latino</td><td>White  </td><td>⋯</td><td>Primary Tumor</td><td>Children</td><td>0</td><td>0</td><td>0</td><td>0</td><td>23</td><td>0</td><td>0</td><td>23</td></tr>\n",
       "\t<tr><th scope=row>5</th><td>TARGET-30-PAIXIF-01A</td><td>TARGET-30-PAIXIF-01A-01R</td><td> 460.15050</td><td> 978.1672</td><td>1438.3177</td><td>7c2b0108-1231-4543-a8bf-eb6644e76f41.bam</td><td>TARGET-30-PAIXIF</td><td>Male  </td><td>Unknown               </td><td>Unknown</td><td>⋯</td><td>Primary Tumor</td><td>Children</td><td>0</td><td>4</td><td>0</td><td>0</td><td>14</td><td>3</td><td>0</td><td>21</td></tr>\n",
       "\t<tr><th scope=row>6</th><td>TARGET-30-PAKYZS-01A</td><td>TARGET-30-PAKYZS-01A-01R</td><td>-243.34180</td><td>-254.3727</td><td>-497.7145</td><td>ed5045df-3b18-41b8-ad62-a5a598ee3889.bam</td><td>TARGET-30-PAKYZS</td><td>Male  </td><td>not hispanic or latino</td><td>White  </td><td>⋯</td><td>Primary Tumor</td><td>Infants </td><td>0</td><td>1</td><td>0</td><td>0</td><td> 4</td><td>0</td><td>0</td><td> 5</td></tr>\n",
       "</tbody>\n",
       "</table>\n"
      ],
      "text/latex": [
       "A data.frame: 6 × 29\n",
       "\\begin{tabular}{r|lllllllllllllllllllll}\n",
       "  & sample\\_id & aliquot\\_id & StromalScore & ImmuneScore & ESTIMATEScore & name & case\\_id & gender & ethnicity & race & ⋯ & sample\\_type & age\\_class & Frame\\_Shift\\_Del & Frame\\_Shift\\_Ins & In\\_Frame\\_Del & In\\_Frame\\_Ins & Missense\\_Mutation & Nonsense\\_Mutation & Nonstop\\_Mutation & total\\\\\n",
       "  & <chr> & <chr> & <dbl> & <dbl> & <dbl> & <chr> & <chr> & <chr> & <chr> & <chr> & ⋯ & <chr> & <chr> & <int> & <int> & <int> & <int> & <int> & <int> & <int> & <int>\\\\\n",
       "\\hline\n",
       "\t1 & TARGET-30-PAIFXV-01A & TARGET-30-PAIFXV-01A-01R & -537.97880 &  483.8556 &  -54.1232 & af82838c-9071-4dd7-8766-b818cf61cf82.bam & TARGET-30-PAIFXV & Female & Unknown                & White   & ⋯ & Primary Tumor & Children & 1 & 0 & 0 & 0 & 26 & 1 & 0 & 28\\\\\n",
       "\t2 & TARGET-30-PAIPGU-01A & TARGET-30-PAIPGU-01A-01R & -319.22630 & 1240.6492 &  921.4229 & b1d954e7-21a0-441e-a9c7-47e6a6454625.bam & TARGET-30-PAIPGU & Female & Unknown                & White   & ⋯ & Primary Tumor & NA       & 0 & 0 & 0 & 1 & 30 & 3 & 0 & 34\\\\\n",
       "\t3 & TARGET-30-PAITCI-01A & TARGET-30-PAITCI-01A-01R & -327.26820 &  200.6735 & -126.5947 & 9704403e-aaf9-4a97-99bc-b2a9a9861767.bam & TARGET-30-PAITCI & Male   & Unknown                & White   & ⋯ & Primary Tumor & Infants  & 0 & 5 & 0 & 3 &  7 & 4 & 0 & 19\\\\\n",
       "\t4 & TARGET-30-PAIVHE-01A & TARGET-30-PAIVHE-01A-01R &  -15.87499 & 1033.6469 & 1017.7719 & d8d30bd7-608d-4cbd-ba31-3f1fa6fefacf.bam & TARGET-30-PAIVHE & Male   & not hispanic or latino & White   & ⋯ & Primary Tumor & Children & 0 & 0 & 0 & 0 & 23 & 0 & 0 & 23\\\\\n",
       "\t5 & TARGET-30-PAIXIF-01A & TARGET-30-PAIXIF-01A-01R &  460.15050 &  978.1672 & 1438.3177 & 7c2b0108-1231-4543-a8bf-eb6644e76f41.bam & TARGET-30-PAIXIF & Male   & Unknown                & Unknown & ⋯ & Primary Tumor & Children & 0 & 4 & 0 & 0 & 14 & 3 & 0 & 21\\\\\n",
       "\t6 & TARGET-30-PAKYZS-01A & TARGET-30-PAKYZS-01A-01R & -243.34180 & -254.3727 & -497.7145 & ed5045df-3b18-41b8-ad62-a5a598ee3889.bam & TARGET-30-PAKYZS & Male   & not hispanic or latino & White   & ⋯ & Primary Tumor & Infants  & 0 & 1 & 0 & 0 &  4 & 0 & 0 &  5\\\\\n",
       "\\end{tabular}\n"
      ],
      "text/markdown": [
       "\n",
       "A data.frame: 6 × 29\n",
       "\n",
       "| <!--/--> | sample_id &lt;chr&gt; | aliquot_id &lt;chr&gt; | StromalScore &lt;dbl&gt; | ImmuneScore &lt;dbl&gt; | ESTIMATEScore &lt;dbl&gt; | name &lt;chr&gt; | case_id &lt;chr&gt; | gender &lt;chr&gt; | ethnicity &lt;chr&gt; | race &lt;chr&gt; | ⋯ ⋯ | sample_type &lt;chr&gt; | age_class &lt;chr&gt; | Frame_Shift_Del &lt;int&gt; | Frame_Shift_Ins &lt;int&gt; | In_Frame_Del &lt;int&gt; | In_Frame_Ins &lt;int&gt; | Missense_Mutation &lt;int&gt; | Nonsense_Mutation &lt;int&gt; | Nonstop_Mutation &lt;int&gt; | total &lt;int&gt; |\n",
       "|---|---|---|---|---|---|---|---|---|---|---|---|---|---|---|---|---|---|---|---|---|---|\n",
       "| 1 | TARGET-30-PAIFXV-01A | TARGET-30-PAIFXV-01A-01R | -537.97880 |  483.8556 |  -54.1232 | af82838c-9071-4dd7-8766-b818cf61cf82.bam | TARGET-30-PAIFXV | Female | Unknown                | White   | ⋯ | Primary Tumor | Children | 1 | 0 | 0 | 0 | 26 | 1 | 0 | 28 |\n",
       "| 2 | TARGET-30-PAIPGU-01A | TARGET-30-PAIPGU-01A-01R | -319.22630 | 1240.6492 |  921.4229 | b1d954e7-21a0-441e-a9c7-47e6a6454625.bam | TARGET-30-PAIPGU | Female | Unknown                | White   | ⋯ | Primary Tumor | NA       | 0 | 0 | 0 | 1 | 30 | 3 | 0 | 34 |\n",
       "| 3 | TARGET-30-PAITCI-01A | TARGET-30-PAITCI-01A-01R | -327.26820 |  200.6735 | -126.5947 | 9704403e-aaf9-4a97-99bc-b2a9a9861767.bam | TARGET-30-PAITCI | Male   | Unknown                | White   | ⋯ | Primary Tumor | Infants  | 0 | 5 | 0 | 3 |  7 | 4 | 0 | 19 |\n",
       "| 4 | TARGET-30-PAIVHE-01A | TARGET-30-PAIVHE-01A-01R |  -15.87499 | 1033.6469 | 1017.7719 | d8d30bd7-608d-4cbd-ba31-3f1fa6fefacf.bam | TARGET-30-PAIVHE | Male   | not hispanic or latino | White   | ⋯ | Primary Tumor | Children | 0 | 0 | 0 | 0 | 23 | 0 | 0 | 23 |\n",
       "| 5 | TARGET-30-PAIXIF-01A | TARGET-30-PAIXIF-01A-01R |  460.15050 |  978.1672 | 1438.3177 | 7c2b0108-1231-4543-a8bf-eb6644e76f41.bam | TARGET-30-PAIXIF | Male   | Unknown                | Unknown | ⋯ | Primary Tumor | Children | 0 | 4 | 0 | 0 | 14 | 3 | 0 | 21 |\n",
       "| 6 | TARGET-30-PAKYZS-01A | TARGET-30-PAKYZS-01A-01R | -243.34180 | -254.3727 | -497.7145 | ed5045df-3b18-41b8-ad62-a5a598ee3889.bam | TARGET-30-PAKYZS | Male   | not hispanic or latino | White   | ⋯ | Primary Tumor | Infants  | 0 | 1 | 0 | 0 |  4 | 0 | 0 |  5 |\n",
       "\n"
      ],
      "text/plain": [
       "  sample_id            aliquot_id               StromalScore ImmuneScore\n",
       "1 TARGET-30-PAIFXV-01A TARGET-30-PAIFXV-01A-01R -537.97880    483.8556  \n",
       "2 TARGET-30-PAIPGU-01A TARGET-30-PAIPGU-01A-01R -319.22630   1240.6492  \n",
       "3 TARGET-30-PAITCI-01A TARGET-30-PAITCI-01A-01R -327.26820    200.6735  \n",
       "4 TARGET-30-PAIVHE-01A TARGET-30-PAIVHE-01A-01R  -15.87499   1033.6469  \n",
       "5 TARGET-30-PAIXIF-01A TARGET-30-PAIXIF-01A-01R  460.15050    978.1672  \n",
       "6 TARGET-30-PAKYZS-01A TARGET-30-PAKYZS-01A-01R -243.34180   -254.3727  \n",
       "  ESTIMATEScore name                                     case_id         \n",
       "1  -54.1232     af82838c-9071-4dd7-8766-b818cf61cf82.bam TARGET-30-PAIFXV\n",
       "2  921.4229     b1d954e7-21a0-441e-a9c7-47e6a6454625.bam TARGET-30-PAIPGU\n",
       "3 -126.5947     9704403e-aaf9-4a97-99bc-b2a9a9861767.bam TARGET-30-PAITCI\n",
       "4 1017.7719     d8d30bd7-608d-4cbd-ba31-3f1fa6fefacf.bam TARGET-30-PAIVHE\n",
       "5 1438.3177     7c2b0108-1231-4543-a8bf-eb6644e76f41.bam TARGET-30-PAIXIF\n",
       "6 -497.7145     ed5045df-3b18-41b8-ad62-a5a598ee3889.bam TARGET-30-PAKYZS\n",
       "  gender ethnicity              race    ⋯ sample_type   age_class\n",
       "1 Female Unknown                White   ⋯ Primary Tumor Children \n",
       "2 Female Unknown                White   ⋯ Primary Tumor NA       \n",
       "3 Male   Unknown                White   ⋯ Primary Tumor Infants  \n",
       "4 Male   not hispanic or latino White   ⋯ Primary Tumor Children \n",
       "5 Male   Unknown                Unknown ⋯ Primary Tumor Children \n",
       "6 Male   not hispanic or latino White   ⋯ Primary Tumor Infants  \n",
       "  Frame_Shift_Del Frame_Shift_Ins In_Frame_Del In_Frame_Ins Missense_Mutation\n",
       "1 1               0               0            0            26               \n",
       "2 0               0               0            1            30               \n",
       "3 0               5               0            3             7               \n",
       "4 0               0               0            0            23               \n",
       "5 0               4               0            0            14               \n",
       "6 0               1               0            0             4               \n",
       "  Nonsense_Mutation Nonstop_Mutation total\n",
       "1 1                 0                28   \n",
       "2 3                 0                34   \n",
       "3 4                 0                19   \n",
       "4 0                 0                23   \n",
       "5 3                 0                21   \n",
       "6 0                 0                 5   "
      ]
     },
     "metadata": {},
     "output_type": "display_data"
    }
   ],
   "source": [
    "head(GDC_mut_mutects_estimate_manifest)"
   ]
  },
  {
   "cell_type": "code",
   "execution_count": 25,
   "metadata": {},
   "outputs": [
    {
     "data": {
      "text/plain": [
       "\n",
       " 0  1 \n",
       "37 58 "
      ]
     },
     "metadata": {},
     "output_type": "display_data"
    }
   ],
   "source": [
    "table(GDC_mut_mutects_estimate_manifest$recurrence)"
   ]
  },
  {
   "cell_type": "code",
   "execution_count": 26,
   "metadata": {},
   "outputs": [
    {
     "data": {
      "text/html": [
       "<style>\n",
       ".list-inline {list-style: none; margin:0; padding: 0}\n",
       ".list-inline>li {display: inline-block}\n",
       ".list-inline>li:not(:last-child)::after {content: \"\\00b7\"; padding: 0 .5ex}\n",
       "</style>\n",
       "<ol class=list-inline><li>2601</li><li>21</li></ol>\n"
      ],
      "text/latex": [
       "\\begin{enumerate*}\n",
       "\\item 2601\n",
       "\\item 21\n",
       "\\end{enumerate*}\n"
      ],
      "text/markdown": [
       "1. 2601\n",
       "2. 21\n",
       "\n",
       "\n"
      ],
      "text/plain": [
       "[1] 2601   21"
      ]
     },
     "metadata": {},
     "output_type": "display_data"
    },
    {
     "data": {
      "text/html": [
       "<style>\n",
       ".list-inline {list-style: none; margin:0; padding: 0}\n",
       ".list-inline>li {display: inline-block}\n",
       ".list-inline>li:not(:last-child)::after {content: \"\\00b7\"; padding: 0 .5ex}\n",
       "</style>\n",
       "<ol class=list-inline><li>2503</li><li>10</li></ol>\n"
      ],
      "text/latex": [
       "\\begin{enumerate*}\n",
       "\\item 2503\n",
       "\\item 10\n",
       "\\end{enumerate*}\n"
      ],
      "text/markdown": [
       "1. 2503\n",
       "2. 10\n",
       "\n",
       "\n"
      ],
      "text/plain": [
       "[1] 2503   10"
      ]
     },
     "metadata": {},
     "output_type": "display_data"
    },
    {
     "data": {
      "text/html": [
       "<style>\n",
       ".list-inline {list-style: none; margin:0; padding: 0}\n",
       ".list-inline>li {display: inline-block}\n",
       ".list-inline>li:not(:last-child)::after {content: \"\\00b7\"; padding: 0 .5ex}\n",
       "</style>\n",
       "<ol class=list-inline><li>2434</li><li>29</li></ol>\n"
      ],
      "text/latex": [
       "\\begin{enumerate*}\n",
       "\\item 2434\n",
       "\\item 29\n",
       "\\end{enumerate*}\n"
      ],
      "text/markdown": [
       "1. 2434\n",
       "2. 29\n",
       "\n",
       "\n"
      ],
      "text/plain": [
       "[1] 2434   29"
      ]
     },
     "metadata": {},
     "output_type": "display_data"
    }
   ],
   "source": [
    "dim(GDC)\n",
    "dim(GDC_mut)\n",
    "dim(GDC_mut_mutects_estimate_manifest)"
   ]
  },
  {
   "cell_type": "code",
   "execution_count": 27,
   "metadata": {},
   "outputs": [],
   "source": [
    "GDC_CBTTC_mut_manifest_estimate <- rbind(mafsum_CBTTC_estimate_manifest, GDC_mut_mutects_estimate_manifest)"
   ]
  },
  {
   "cell_type": "markdown",
   "metadata": {},
   "source": [
    "## DKFZ"
   ]
  },
  {
   "cell_type": "code",
   "execution_count": 28,
   "metadata": {},
   "outputs": [],
   "source": [
    "somatic_DKFZ <- read.table(file = paste0(datapath,\"snv/somatic_SNVs_INDELs_inCommonRegions.for_TMB.txt\"),\n",
    "                        sep = \"\\t\", header = FALSE, stringsAsFactors = FALSE)"
   ]
  },
  {
   "cell_type": "code",
   "execution_count": 29,
   "metadata": {},
   "outputs": [
    {
     "data": {
      "text/html": [
       "<table class=\"dataframe\">\n",
       "<caption>A data.frame: 6 × 2</caption>\n",
       "<thead>\n",
       "\t<tr><th></th><th scope=col>sample_id</th><th scope=col>total</th></tr>\n",
       "\t<tr><th></th><th scope=col>&lt;chr&gt;</th><th scope=col>&lt;int&gt;</th></tr>\n",
       "</thead>\n",
       "<tbody>\n",
       "\t<tr><th scope=row>1</th><td>H049-0CWK</td><td> 3</td></tr>\n",
       "\t<tr><th scope=row>2</th><td>H049-7SD3</td><td> 4</td></tr>\n",
       "\t<tr><th scope=row>3</th><td>H049-FG38</td><td> 7</td></tr>\n",
       "\t<tr><th scope=row>4</th><td>H049-GP41</td><td> 3</td></tr>\n",
       "\t<tr><th scope=row>5</th><td>H049-GWNW</td><td> 7</td></tr>\n",
       "\t<tr><th scope=row>6</th><td>H049-JVCT</td><td>48</td></tr>\n",
       "</tbody>\n",
       "</table>\n"
      ],
      "text/latex": [
       "A data.frame: 6 × 2\n",
       "\\begin{tabular}{r|ll}\n",
       "  & sample\\_id & total\\\\\n",
       "  & <chr> & <int>\\\\\n",
       "\\hline\n",
       "\t1 & H049-0CWK &  3\\\\\n",
       "\t2 & H049-7SD3 &  4\\\\\n",
       "\t3 & H049-FG38 &  7\\\\\n",
       "\t4 & H049-GP41 &  3\\\\\n",
       "\t5 & H049-GWNW &  7\\\\\n",
       "\t6 & H049-JVCT & 48\\\\\n",
       "\\end{tabular}\n"
      ],
      "text/markdown": [
       "\n",
       "A data.frame: 6 × 2\n",
       "\n",
       "| <!--/--> | sample_id &lt;chr&gt; | total &lt;int&gt; |\n",
       "|---|---|---|\n",
       "| 1 | H049-0CWK |  3 |\n",
       "| 2 | H049-7SD3 |  4 |\n",
       "| 3 | H049-FG38 |  7 |\n",
       "| 4 | H049-GP41 |  3 |\n",
       "| 5 | H049-GWNW |  7 |\n",
       "| 6 | H049-JVCT | 48 |\n",
       "\n"
      ],
      "text/plain": [
       "  sample_id total\n",
       "1 H049-0CWK  3   \n",
       "2 H049-7SD3  4   \n",
       "3 H049-FG38  7   \n",
       "4 H049-GP41  3   \n",
       "5 H049-GWNW  7   \n",
       "6 H049-JVCT 48   "
      ]
     },
     "metadata": {},
     "output_type": "display_data"
    }
   ],
   "source": [
    "colnames(somatic_DKFZ) <- c(\"sample_id\", \"total\")\n",
    "head(somatic_DKFZ)"
   ]
  },
  {
   "cell_type": "code",
   "execution_count": 30,
   "metadata": {},
   "outputs": [],
   "source": [
    "DKFZ <- estimate_manifest_primary_clean[estimate_manifest_primary_clean$group == \"DKFZ\",]"
   ]
  },
  {
   "cell_type": "code",
   "execution_count": 31,
   "metadata": {},
   "outputs": [],
   "source": [
    "DKFZ_mut_estimate_manifest <- merge(DKFZ,somatic_DKFZ,by = \"sample_id\")"
   ]
  },
  {
   "cell_type": "code",
   "execution_count": 32,
   "metadata": {},
   "outputs": [
    {
     "data": {
      "text/html": [
       "<style>\n",
       ".list-inline {list-style: none; margin:0; padding: 0}\n",
       ".list-inline>li {display: inline-block}\n",
       ".list-inline>li:not(:last-child)::after {content: \"\\00b7\"; padding: 0 .5ex}\n",
       "</style>\n",
       "<ol class=list-inline><li>196</li><li>22</li></ol>\n"
      ],
      "text/latex": [
       "\\begin{enumerate*}\n",
       "\\item 196\n",
       "\\item 22\n",
       "\\end{enumerate*}\n"
      ],
      "text/markdown": [
       "1. 196\n",
       "2. 22\n",
       "\n",
       "\n"
      ],
      "text/plain": [
       "[1] 196  22"
      ]
     },
     "metadata": {},
     "output_type": "display_data"
    }
   ],
   "source": [
    "dim(DKFZ_mut_estimate_manifest)"
   ]
  },
  {
   "cell_type": "code",
   "execution_count": 33,
   "metadata": {},
   "outputs": [],
   "source": [
    "total_mut_manifest_estimate <- rbind.fill(GDC_CBTTC_mut_manifest_estimate,DKFZ_mut_estimate_manifest)"
   ]
  },
  {
   "cell_type": "code",
   "execution_count": 34,
   "metadata": {},
   "outputs": [
    {
     "data": {
      "text/html": [
       "<style>\n",
       ".list-inline {list-style: none; margin:0; padding: 0}\n",
       ".list-inline>li {display: inline-block}\n",
       ".list-inline>li:not(:last-child)::after {content: \"\\00b7\"; padding: 0 .5ex}\n",
       "</style>\n",
       "<ol class=list-inline><li>2904</li><li>29</li></ol>\n"
      ],
      "text/latex": [
       "\\begin{enumerate*}\n",
       "\\item 2904\n",
       "\\item 29\n",
       "\\end{enumerate*}\n"
      ],
      "text/markdown": [
       "1. 2904\n",
       "2. 29\n",
       "\n",
       "\n"
      ],
      "text/plain": [
       "[1] 2904   29"
      ]
     },
     "metadata": {},
     "output_type": "display_data"
    },
    {
     "data": {
      "text/html": [
       "<style>\n",
       ".list-inline {list-style: none; margin:0; padding: 0}\n",
       ".list-inline>li {display: inline-block}\n",
       ".list-inline>li:not(:last-child)::after {content: \"\\00b7\"; padding: 0 .5ex}\n",
       "</style>\n",
       "<ol class=list-inline><li>196</li><li>22</li></ol>\n"
      ],
      "text/latex": [
       "\\begin{enumerate*}\n",
       "\\item 196\n",
       "\\item 22\n",
       "\\end{enumerate*}\n"
      ],
      "text/markdown": [
       "1. 196\n",
       "2. 22\n",
       "\n",
       "\n"
      ],
      "text/plain": [
       "[1] 196  22"
      ]
     },
     "metadata": {},
     "output_type": "display_data"
    },
    {
     "data": {
      "text/html": [
       "<style>\n",
       ".list-inline {list-style: none; margin:0; padding: 0}\n",
       ".list-inline>li {display: inline-block}\n",
       ".list-inline>li:not(:last-child)::after {content: \"\\00b7\"; padding: 0 .5ex}\n",
       "</style>\n",
       "<ol class=list-inline><li>3100</li><li>29</li></ol>\n"
      ],
      "text/latex": [
       "\\begin{enumerate*}\n",
       "\\item 3100\n",
       "\\item 29\n",
       "\\end{enumerate*}\n"
      ],
      "text/markdown": [
       "1. 3100\n",
       "2. 29\n",
       "\n",
       "\n"
      ],
      "text/plain": [
       "[1] 3100   29"
      ]
     },
     "metadata": {},
     "output_type": "display_data"
    }
   ],
   "source": [
    "dim(GDC_CBTTC_mut_manifest_estimate)\n",
    "dim(DKFZ_mut_estimate_manifest)\n",
    "dim(total_mut_manifest_estimate)"
   ]
  },
  {
   "cell_type": "code",
   "execution_count": 35,
   "metadata": {},
   "outputs": [
    {
     "data": {
      "text/plain": [
       "\n",
       " CBTTC   DKFZ TARGET   TCGA \n",
       "   470    196     98   2336 "
      ]
     },
     "metadata": {},
     "output_type": "display_data"
    }
   ],
   "source": [
    "table(total_mut_manifest_estimate$group)"
   ]
  },
  {
   "cell_type": "code",
   "execution_count": 37,
   "metadata": {
    "scrolled": true
   },
   "outputs": [
    {
     "data": {
      "text/plain": [
       "\n",
       "Initial CNS Tumor           Primary     Primary Tumor \n",
       "              470               196              2434 "
      ]
     },
     "metadata": {},
     "output_type": "display_data"
    }
   ],
   "source": [
    "table(total_mut_manifest_estimate$sample_type)"
   ]
  },
  {
   "cell_type": "markdown",
   "metadata": {},
   "source": [
    "## Calculate Tumour Mutation Burden (TMB)"
   ]
  },
  {
   "cell_type": "markdown",
   "metadata": {},
   "source": [
    "size of bedfile used to subset variant calls (hglft_agil_VCR_Sure_S029_SeqCapV2V3_S04_pads_cexons_sorted_merge.be): 30028393"
   ]
  },
  {
   "cell_type": "code",
   "execution_count": 38,
   "metadata": {},
   "outputs": [],
   "source": [
    "total_mut_manifest_estimate$mutpermb <- total_mut_manifest_estimate$total/30.028393\n",
    "\n",
    "total_mut_manifest_estimate$snvpermb <- (total_mut_manifest_estimate$Missense_Mutation +\n",
    "                                                 total_mut_manifest_estimate$Nonsense_Mutation + \n",
    "                                                 total_mut_manifest_estimate$Nonstop_Mutation)/30.028393\n",
    "\n",
    "total_mut_manifest_estimate$indelpermb <- (total_mut_manifest_estimate$Frame_Shift_Del +\n",
    "                                                 total_mut_manifest_estimate$Frame_Shift_Ins + \n",
    "                                                 total_mut_manifest_estimate$In_Frame_Del +\n",
    "                                          total_mut_manifest_estimate$In_Frame_Ins)/30.028393"
   ]
  },
  {
   "cell_type": "code",
   "execution_count": 39,
   "metadata": {},
   "outputs": [],
   "source": [
    "save(total_mut_manifest_estimate,\n",
    "     file = paste0(datapath, \"snv/total_mut_manifest_estimate.RData\"))   "
   ]
  }
 ],
 "metadata": {
  "kernelspec": {
   "display_name": "R 4.0",
   "language": "R",
   "name": "ir40"
  },
  "language_info": {
   "codemirror_mode": "r",
   "file_extension": ".r",
   "mimetype": "text/x-r-source",
   "name": "R",
   "pygments_lexer": "r",
   "version": "4.0.3"
  },
  "toc": {
   "base_numbering": 1,
   "nav_menu": {},
   "number_sections": false,
   "sideBar": true,
   "skip_h1_title": false,
   "title_cell": "Table of Contents",
   "title_sidebar": "Contents",
   "toc_cell": true,
   "toc_position": {
    "height": "calc(100% - 180px)",
    "left": "10px",
    "top": "150px",
    "width": "165px"
   },
   "toc_section_display": true,
   "toc_window_display": true
  }
 },
 "nbformat": 4,
 "nbformat_minor": 2
}
