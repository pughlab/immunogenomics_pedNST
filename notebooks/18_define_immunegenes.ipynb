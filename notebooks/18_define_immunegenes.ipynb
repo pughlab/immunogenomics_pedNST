{
 "cells": [
  {
   "cell_type": "markdown",
   "metadata": {
    "toc": true
   },
   "source": [
    "<h1>Table of Contents<span class=\"tocSkip\"></span></h1>\n",
    "<div class=\"toc\"><ul class=\"toc-item\"><li><span><a href=\"#Dependencies\" data-toc-modified-id=\"Dependencies-1\">Dependencies</a></span></li><li><span><a href=\"#Functions\" data-toc-modified-id=\"Functions-2\">Functions</a></span></li><li><span><a href=\"#Paths\" data-toc-modified-id=\"Paths-3\">Paths</a></span></li><li><span><a href=\"#Main\" data-toc-modified-id=\"Main-4\">Main</a></span></li><li><span><a href=\"#Determine-immune-genes\" data-toc-modified-id=\"Determine-immune-genes-5\">Determine immune genes</a></span><ul class=\"toc-item\"><li><span><a href=\"#1--Bagaev-et-al-Immune-cell-compendium\" data-toc-modified-id=\"1--Bagaev-et-al-Immune-cell-compendium-5.1\">1- Bagaev et al Immune cell compendium</a></span></li><li><span><a href=\"#2--single-cell-data-from-protein-atlas\" data-toc-modified-id=\"2--single-cell-data-from-protein-atlas-5.2\">2- single-cell data from protein atlas</a></span></li><li><span><a href=\"#3--protein-atlas-tissue-specificity-data\" data-toc-modified-id=\"3--protein-atlas-tissue-specificity-data-5.3\">3- protein atlas tissue specificity data</a></span></li><li><span><a href=\"#4--ImmuneScore-genes-from-ESTIMATE\" data-toc-modified-id=\"4--ImmuneScore-genes-from-ESTIMATE-5.4\">4- ImmuneScore genes from ESTIMATE</a></span></li><li><span><a href=\"#Compile-all-immune-genes\" data-toc-modified-id=\"Compile-all-immune-genes-5.5\">Compile all immune genes</a></span></li></ul></li><li><span><a href=\"#Filter-out-genes-expressed-in-pediatric-tumour/non-immune-cells\" data-toc-modified-id=\"Filter-out-genes-expressed-in-pediatric-tumour/non-immune-cells-6\">Filter out genes expressed in pediatric tumour/non-immune cells</a></span><ul class=\"toc-item\"><li><span><a href=\"#1--PDX\" data-toc-modified-id=\"1--PDX-6.1\">1- PDX</a></span></li><li><span><a href=\"#2--scRNA\" data-toc-modified-id=\"2--scRNA-6.2\">2- scRNA</a></span><ul class=\"toc-item\"><li><span><a href=\"#1--Frank's-NBL\" data-toc-modified-id=\"1--Frank's-NBL-6.2.1\">1- Frank's NBL</a></span></li><li><span><a href=\"#2--Gojo's-EPN\" data-toc-modified-id=\"2--Gojo's-EPN-6.2.2\">2- Gojo's EPN</a></span></li><li><span><a href=\"#3--Gillen's-EPN\" data-toc-modified-id=\"3--Gillen's-EPN-6.2.3\">3- Gillen's EPN</a></span></li></ul></li><li><span><a href=\"#3--Cell-lines-from-CBTN\" data-toc-modified-id=\"3--Cell-lines-from-CBTN-6.3\">3- Cell lines from CBTN</a></span></li><li><span><a href=\"#Bind-all\" data-toc-modified-id=\"Bind-all-6.4\">Bind all</a></span></li></ul></li></ul></div>"
   ]
  },
  {
   "cell_type": "markdown",
   "metadata": {},
   "source": [
    "# Dependencies"
   ]
  },
  {
   "cell_type": "code",
   "execution_count": 1,
   "metadata": {},
   "outputs": [],
   "source": [
    "options(scipen = 999)"
   ]
  },
  {
   "cell_type": "code",
   "execution_count": 2,
   "metadata": {},
   "outputs": [
    {
     "name": "stderr",
     "output_type": "stream",
     "text": [
      "Loading required package: BiocGenerics\n",
      "\n",
      "Loading required package: parallel\n",
      "\n",
      "\n",
      "Attaching package: ‘BiocGenerics’\n",
      "\n",
      "\n",
      "The following objects are masked from ‘package:parallel’:\n",
      "\n",
      "    clusterApply, clusterApplyLB, clusterCall, clusterEvalQ,\n",
      "    clusterExport, clusterMap, parApply, parCapply, parLapply,\n",
      "    parLapplyLB, parRapply, parSapply, parSapplyLB\n",
      "\n",
      "\n",
      "The following objects are masked from ‘package:stats’:\n",
      "\n",
      "    IQR, mad, sd, var, xtabs\n",
      "\n",
      "\n",
      "The following objects are masked from ‘package:base’:\n",
      "\n",
      "    anyDuplicated, append, as.data.frame, basename, cbind, colnames,\n",
      "    dirname, do.call, duplicated, eval, evalq, Filter, Find, get, grep,\n",
      "    grepl, intersect, is.unsorted, lapply, Map, mapply, match, mget,\n",
      "    order, paste, pmax, pmax.int, pmin, pmin.int, Position, rank,\n",
      "    rbind, Reduce, rownames, sapply, setdiff, sort, table, tapply,\n",
      "    union, unique, unsplit, which.max, which.min\n",
      "\n",
      "\n",
      "Welcome to Bioconductor\n",
      "\n",
      "    Vignettes contain introductory material; view with\n",
      "    'browseVignettes()'. To cite Bioconductor, see\n",
      "    'citation(\"Biobase\")', and for packages 'citation(\"pkgname\")'.\n",
      "\n",
      "\n"
     ]
    }
   ],
   "source": [
    "library(Biobase)\n",
    "library(tidyr)\n",
    "library(biomaRt)"
   ]
  },
  {
   "cell_type": "markdown",
   "metadata": {},
   "source": [
    "# Functions"
   ]
  },
  {
   "cell_type": "code",
   "execution_count": 3,
   "metadata": {},
   "outputs": [],
   "source": [
    "source(\"~/OneDrive - UHN/R_src/ggplot2_theme.R\")"
   ]
  },
  {
   "cell_type": "code",
   "execution_count": 4,
   "metadata": {},
   "outputs": [],
   "source": [
    "longtowidefx <- function(long_exp_matrix){\n",
    "    wide_exp_matrix <- tidyr::spread(long_exp_matrix, \n",
    "                              key = \"sample\", \n",
    "                              value = \"tpm\")\n",
    "    return(wide_exp_matrix)\n",
    "}"
   ]
  },
  {
   "cell_type": "code",
   "execution_count": 5,
   "metadata": {},
   "outputs": [],
   "source": [
    "mcentr <- function(x) {\n",
    "    meds <- median(x, na.rm=T)\n",
    "    mads <- mad(x, na.rm=T)\n",
    "    if (mads == 0) {\n",
    "        rep(0, length(x))} else {\n",
    "        (x - meds) / mads}\n",
    "}"
   ]
  },
  {
   "cell_type": "markdown",
   "metadata": {},
   "source": [
    "# Paths"
   ]
  },
  {
   "cell_type": "code",
   "execution_count": 6,
   "metadata": {},
   "outputs": [],
   "source": [
    "manifestpath <- \"/Users/anabbi/OneDrive - UHN/Documents/IPD2/Manifests/\"\n",
    "datapath <- \"/Users/anabbi/OneDrive - UHN/Documents/IPD2/Data/\"\n",
    "plotpath <- \"/Users/anabbi/OneDrive - UHN/Documents/IPD2/Plots/\""
   ]
  },
  {
   "cell_type": "markdown",
   "metadata": {},
   "source": [
    "# Main"
   ]
  },
  {
   "cell_type": "code",
   "execution_count": 7,
   "metadata": {},
   "outputs": [],
   "source": [
    "load(paste0(datapath, \"exp_mat/IPD_ExprSet_log2_combat.RData\"))"
   ]
  },
  {
   "cell_type": "code",
   "execution_count": 8,
   "metadata": {},
   "outputs": [],
   "source": [
    "vars <- pData(IPD_Set_log2_combat)\n",
    "tpms <- exprs(IPD_Set_log2_combat)"
   ]
  },
  {
   "cell_type": "code",
   "execution_count": 9,
   "metadata": {},
   "outputs": [
    {
     "data": {
      "text/plain": [
       "\n",
       "  1   2   3   4   5   6 \n",
       " 64  26 148 554 110   6 "
      ]
     },
     "metadata": {},
     "output_type": "display_data"
    }
   ],
   "source": [
    "table(vars$CRI_cluster)"
   ]
  },
  {
   "cell_type": "code",
   "execution_count": 10,
   "metadata": {},
   "outputs": [],
   "source": [
    "#rename TCGA clusters\n",
    "vars$CRI_cluster[which(vars$CRI_cluster == 1)] <- \"Wound Healing\"\n",
    "vars$CRI_cluster[which(vars$CRI_cluster == 2)] <- \"IFN-gamma dominant\"\n",
    "vars$CRI_cluster[which(vars$CRI_cluster == 3)] <- \"Inflammatory\"\n",
    "vars$CRI_cluster[which(vars$CRI_cluster == 4)] <- \"Lymphocyte depleted\"\n",
    "vars$CRI_cluster[which(vars$CRI_cluster == 5)] <- \"Immunologically quiet\"\n",
    "vars$CRI_cluster[which(vars$CRI_cluster == 6)] <- \"TGFbeta dominant\""
   ]
  },
  {
   "cell_type": "markdown",
   "metadata": {},
   "source": [
    "# Determine immune genes"
   ]
  },
  {
   "cell_type": "markdown",
   "metadata": {},
   "source": [
    "## 1- Bagaev et al Immune cell compendium"
   ]
  },
  {
   "cell_type": "code",
   "execution_count": 11,
   "metadata": {},
   "outputs": [],
   "source": [
    "# TableS2 from Bagaev et al\n",
    "bagaev_median <- read.csv(file = paste0(datapath, \"TME_clusters/immunecells_compendium_Median.csv\"),\n",
    "                          header = T, stringsAsFactors = F, row.names = 1, check.names = F, skip = 1)"
   ]
  },
  {
   "cell_type": "code",
   "execution_count": 12,
   "metadata": {},
   "outputs": [
    {
     "data": {
      "text/html": [
       "<table class=\"dataframe\">\n",
       "<caption>A data.frame: 6 × 18</caption>\n",
       "<thead>\n",
       "\t<tr><th></th><th scope=col>T_helpers</th><th scope=col>CD4_T_cells</th><th scope=col>Tregs</th><th scope=col>CD8_T_cells</th><th scope=col>NK_cells</th><th scope=col>B_cells</th><th scope=col>Plasmacytoid_dendritic_cells</th><th scope=col>Dendritic_cells</th><th scope=col>Myeloid_cells</th><th scope=col>Monocytes</th><th scope=col>Macrophages</th><th scope=col>Macrophages_infected</th><th scope=col>Neutrophils</th><th scope=col>Fibroblasts</th><th scope=col>Endothelium</th><th scope=col>Melanoma</th><th scope=col>Melanoma Primary</th><th scope=col>Melanoma Metastasis</th></tr>\n",
       "\t<tr><th></th><th scope=col>&lt;dbl&gt;</th><th scope=col>&lt;dbl&gt;</th><th scope=col>&lt;dbl&gt;</th><th scope=col>&lt;dbl&gt;</th><th scope=col>&lt;dbl&gt;</th><th scope=col>&lt;dbl&gt;</th><th scope=col>&lt;dbl&gt;</th><th scope=col>&lt;dbl&gt;</th><th scope=col>&lt;dbl&gt;</th><th scope=col>&lt;dbl&gt;</th><th scope=col>&lt;dbl&gt;</th><th scope=col>&lt;dbl&gt;</th><th scope=col>&lt;dbl&gt;</th><th scope=col>&lt;dbl&gt;</th><th scope=col>&lt;dbl&gt;</th><th scope=col>&lt;dbl&gt;</th><th scope=col>&lt;dbl&gt;</th><th scope=col>&lt;dbl&gt;</th></tr>\n",
       "</thead>\n",
       "<tbody>\n",
       "\t<tr><th scope=row>A1BG</th><td>0.00000000</td><td>0.00000000</td><td>0.00000000</td><td>0.0000000</td><td>0.00000000</td><td>0.0000000</td><td>0.00000000</td><td>0.00000000</td><td>0.00000000</td><td>0.00000000</td><td>0.00000000</td><td>0.00000000</td><td>0.000000000</td><td>0.00000000</td><td>0.00000000</td><td>0.00000000</td><td>0.00000000</td><td>0.00000000</td></tr>\n",
       "\t<tr><th scope=row>A1CF</th><td>0.08406795</td><td>0.06069306</td><td>0.07641884</td><td>0.1037934</td><td>0.04505663</td><td>0.1237914</td><td>0.07698022</td><td>0.06204041</td><td>0.06235984</td><td>0.08430018</td><td>0.02002451</td><td>0.02304037</td><td>0.052535261</td><td>0.01838697</td><td>0.01734924</td><td>0.03327247</td><td>0.01692311</td><td>0.01555221</td></tr>\n",
       "\t<tr><th scope=row>A2M</th><td>0.81805629</td><td>0.12240906</td><td>0.29794129</td><td>2.7971061</td><td>1.21782913</td><td>0.0716964</td><td>2.04524029</td><td>1.95675809</td><td>3.92244810</td><td>0.43032473</td><td>7.94848369</td><td>8.44845815</td><td>0.009030409</td><td>1.67354797</td><td>3.17858054</td><td>4.74040310</td><td>8.17271950</td><td>8.64940635</td></tr>\n",
       "\t<tr><th scope=row>A2ML1</th><td>0.31759809</td><td>0.16653402</td><td>0.43406171</td><td>0.4959649</td><td>0.36339632</td><td>0.8024651</td><td>0.20140618</td><td>0.25896520</td><td>0.56097638</td><td>0.43838215</td><td>0.11274752</td><td>0.07202006</td><td>0.408781112</td><td>0.07351740</td><td>0.08057154</td><td>0.12526228</td><td>0.74466755</td><td>0.20275951</td></tr>\n",
       "\t<tr><th scope=row>A3GALT2</th><td>0.00000000</td><td>0.00000000</td><td>0.00000000</td><td>0.0000000</td><td>0.00000000</td><td>0.0000000</td><td>0.00000000</td><td>0.00000000</td><td>0.15485671</td><td>0.33359313</td><td>0.00000000</td><td>0.00000000</td><td>0.833714164</td><td>0.00000000</td><td>0.00000000</td><td>0.08447119</td><td>0.05212233</td><td>0.04590313</td></tr>\n",
       "\t<tr><th scope=row>A4GALT</th><td>0.00000000</td><td>0.00000000</td><td>0.00000000</td><td>0.0000000</td><td>0.02202133</td><td>0.1131194</td><td>1.75907437</td><td>0.11421613</td><td>2.28751220</td><td>0.00000000</td><td>1.76635257</td><td>1.69764588</td><td>0.000000000</td><td>4.36188996</td><td>4.01562797</td><td>0.54605123</td><td>2.19565010</td><td>2.14657694</td></tr>\n",
       "</tbody>\n",
       "</table>\n"
      ],
      "text/latex": [
       "A data.frame: 6 × 18\n",
       "\\begin{tabular}{r|llllllllllllllllll}\n",
       "  & T\\_helpers & CD4\\_T\\_cells & Tregs & CD8\\_T\\_cells & NK\\_cells & B\\_cells & Plasmacytoid\\_dendritic\\_cells & Dendritic\\_cells & Myeloid\\_cells & Monocytes & Macrophages & Macrophages\\_infected & Neutrophils & Fibroblasts & Endothelium & Melanoma & Melanoma Primary & Melanoma Metastasis\\\\\n",
       "  & <dbl> & <dbl> & <dbl> & <dbl> & <dbl> & <dbl> & <dbl> & <dbl> & <dbl> & <dbl> & <dbl> & <dbl> & <dbl> & <dbl> & <dbl> & <dbl> & <dbl> & <dbl>\\\\\n",
       "\\hline\n",
       "\tA1BG & 0.00000000 & 0.00000000 & 0.00000000 & 0.0000000 & 0.00000000 & 0.0000000 & 0.00000000 & 0.00000000 & 0.00000000 & 0.00000000 & 0.00000000 & 0.00000000 & 0.000000000 & 0.00000000 & 0.00000000 & 0.00000000 & 0.00000000 & 0.00000000\\\\\n",
       "\tA1CF & 0.08406795 & 0.06069306 & 0.07641884 & 0.1037934 & 0.04505663 & 0.1237914 & 0.07698022 & 0.06204041 & 0.06235984 & 0.08430018 & 0.02002451 & 0.02304037 & 0.052535261 & 0.01838697 & 0.01734924 & 0.03327247 & 0.01692311 & 0.01555221\\\\\n",
       "\tA2M & 0.81805629 & 0.12240906 & 0.29794129 & 2.7971061 & 1.21782913 & 0.0716964 & 2.04524029 & 1.95675809 & 3.92244810 & 0.43032473 & 7.94848369 & 8.44845815 & 0.009030409 & 1.67354797 & 3.17858054 & 4.74040310 & 8.17271950 & 8.64940635\\\\\n",
       "\tA2ML1 & 0.31759809 & 0.16653402 & 0.43406171 & 0.4959649 & 0.36339632 & 0.8024651 & 0.20140618 & 0.25896520 & 0.56097638 & 0.43838215 & 0.11274752 & 0.07202006 & 0.408781112 & 0.07351740 & 0.08057154 & 0.12526228 & 0.74466755 & 0.20275951\\\\\n",
       "\tA3GALT2 & 0.00000000 & 0.00000000 & 0.00000000 & 0.0000000 & 0.00000000 & 0.0000000 & 0.00000000 & 0.00000000 & 0.15485671 & 0.33359313 & 0.00000000 & 0.00000000 & 0.833714164 & 0.00000000 & 0.00000000 & 0.08447119 & 0.05212233 & 0.04590313\\\\\n",
       "\tA4GALT & 0.00000000 & 0.00000000 & 0.00000000 & 0.0000000 & 0.02202133 & 0.1131194 & 1.75907437 & 0.11421613 & 2.28751220 & 0.00000000 & 1.76635257 & 1.69764588 & 0.000000000 & 4.36188996 & 4.01562797 & 0.54605123 & 2.19565010 & 2.14657694\\\\\n",
       "\\end{tabular}\n"
      ],
      "text/markdown": [
       "\n",
       "A data.frame: 6 × 18\n",
       "\n",
       "| <!--/--> | T_helpers &lt;dbl&gt; | CD4_T_cells &lt;dbl&gt; | Tregs &lt;dbl&gt; | CD8_T_cells &lt;dbl&gt; | NK_cells &lt;dbl&gt; | B_cells &lt;dbl&gt; | Plasmacytoid_dendritic_cells &lt;dbl&gt; | Dendritic_cells &lt;dbl&gt; | Myeloid_cells &lt;dbl&gt; | Monocytes &lt;dbl&gt; | Macrophages &lt;dbl&gt; | Macrophages_infected &lt;dbl&gt; | Neutrophils &lt;dbl&gt; | Fibroblasts &lt;dbl&gt; | Endothelium &lt;dbl&gt; | Melanoma &lt;dbl&gt; | Melanoma Primary &lt;dbl&gt; | Melanoma Metastasis &lt;dbl&gt; |\n",
       "|---|---|---|---|---|---|---|---|---|---|---|---|---|---|---|---|---|---|---|\n",
       "| A1BG | 0.00000000 | 0.00000000 | 0.00000000 | 0.0000000 | 0.00000000 | 0.0000000 | 0.00000000 | 0.00000000 | 0.00000000 | 0.00000000 | 0.00000000 | 0.00000000 | 0.000000000 | 0.00000000 | 0.00000000 | 0.00000000 | 0.00000000 | 0.00000000 |\n",
       "| A1CF | 0.08406795 | 0.06069306 | 0.07641884 | 0.1037934 | 0.04505663 | 0.1237914 | 0.07698022 | 0.06204041 | 0.06235984 | 0.08430018 | 0.02002451 | 0.02304037 | 0.052535261 | 0.01838697 | 0.01734924 | 0.03327247 | 0.01692311 | 0.01555221 |\n",
       "| A2M | 0.81805629 | 0.12240906 | 0.29794129 | 2.7971061 | 1.21782913 | 0.0716964 | 2.04524029 | 1.95675809 | 3.92244810 | 0.43032473 | 7.94848369 | 8.44845815 | 0.009030409 | 1.67354797 | 3.17858054 | 4.74040310 | 8.17271950 | 8.64940635 |\n",
       "| A2ML1 | 0.31759809 | 0.16653402 | 0.43406171 | 0.4959649 | 0.36339632 | 0.8024651 | 0.20140618 | 0.25896520 | 0.56097638 | 0.43838215 | 0.11274752 | 0.07202006 | 0.408781112 | 0.07351740 | 0.08057154 | 0.12526228 | 0.74466755 | 0.20275951 |\n",
       "| A3GALT2 | 0.00000000 | 0.00000000 | 0.00000000 | 0.0000000 | 0.00000000 | 0.0000000 | 0.00000000 | 0.00000000 | 0.15485671 | 0.33359313 | 0.00000000 | 0.00000000 | 0.833714164 | 0.00000000 | 0.00000000 | 0.08447119 | 0.05212233 | 0.04590313 |\n",
       "| A4GALT | 0.00000000 | 0.00000000 | 0.00000000 | 0.0000000 | 0.02202133 | 0.1131194 | 1.75907437 | 0.11421613 | 2.28751220 | 0.00000000 | 1.76635257 | 1.69764588 | 0.000000000 | 4.36188996 | 4.01562797 | 0.54605123 | 2.19565010 | 2.14657694 |\n",
       "\n"
      ],
      "text/plain": [
       "        T_helpers  CD4_T_cells Tregs      CD8_T_cells NK_cells   B_cells  \n",
       "A1BG    0.00000000 0.00000000  0.00000000 0.0000000   0.00000000 0.0000000\n",
       "A1CF    0.08406795 0.06069306  0.07641884 0.1037934   0.04505663 0.1237914\n",
       "A2M     0.81805629 0.12240906  0.29794129 2.7971061   1.21782913 0.0716964\n",
       "A2ML1   0.31759809 0.16653402  0.43406171 0.4959649   0.36339632 0.8024651\n",
       "A3GALT2 0.00000000 0.00000000  0.00000000 0.0000000   0.00000000 0.0000000\n",
       "A4GALT  0.00000000 0.00000000  0.00000000 0.0000000   0.02202133 0.1131194\n",
       "        Plasmacytoid_dendritic_cells Dendritic_cells Myeloid_cells Monocytes \n",
       "A1BG    0.00000000                   0.00000000      0.00000000    0.00000000\n",
       "A1CF    0.07698022                   0.06204041      0.06235984    0.08430018\n",
       "A2M     2.04524029                   1.95675809      3.92244810    0.43032473\n",
       "A2ML1   0.20140618                   0.25896520      0.56097638    0.43838215\n",
       "A3GALT2 0.00000000                   0.00000000      0.15485671    0.33359313\n",
       "A4GALT  1.75907437                   0.11421613      2.28751220    0.00000000\n",
       "        Macrophages Macrophages_infected Neutrophils Fibroblasts Endothelium\n",
       "A1BG    0.00000000  0.00000000           0.000000000 0.00000000  0.00000000 \n",
       "A1CF    0.02002451  0.02304037           0.052535261 0.01838697  0.01734924 \n",
       "A2M     7.94848369  8.44845815           0.009030409 1.67354797  3.17858054 \n",
       "A2ML1   0.11274752  0.07202006           0.408781112 0.07351740  0.08057154 \n",
       "A3GALT2 0.00000000  0.00000000           0.833714164 0.00000000  0.00000000 \n",
       "A4GALT  1.76635257  1.69764588           0.000000000 4.36188996  4.01562797 \n",
       "        Melanoma   Melanoma Primary Melanoma Metastasis\n",
       "A1BG    0.00000000 0.00000000       0.00000000         \n",
       "A1CF    0.03327247 0.01692311       0.01555221         \n",
       "A2M     4.74040310 8.17271950       8.64940635         \n",
       "A2ML1   0.12526228 0.74466755       0.20275951         \n",
       "A3GALT2 0.08447119 0.05212233       0.04590313         \n",
       "A4GALT  0.54605123 2.19565010       2.14657694         "
      ]
     },
     "metadata": {},
     "output_type": "display_data"
    }
   ],
   "source": [
    "head(bagaev_median)"
   ]
  },
  {
   "cell_type": "markdown",
   "metadata": {},
   "source": [
    "Median center MAD scale"
   ]
  },
  {
   "cell_type": "code",
   "execution_count": 13,
   "metadata": {},
   "outputs": [],
   "source": [
    "bagaev_mcentr <- (bagaev_median - median(unlist(bagaev_median)))/mad(unlist(bagaev_median))"
   ]
  },
  {
   "cell_type": "code",
   "execution_count": 14,
   "metadata": {},
   "outputs": [
    {
     "data": {
      "text/plain": [
       "   Min. 1st Qu.  Median    Mean 3rd Qu.    Max. \n",
       " 0.0000  0.0379  1.8536  2.4660  4.4165 16.3842 "
      ]
     },
     "metadata": {},
     "output_type": "display_data"
    }
   ],
   "source": [
    "summary(unlist(bagaev_median))"
   ]
  },
  {
   "cell_type": "code",
   "execution_count": 15,
   "metadata": {},
   "outputs": [
    {
     "data": {
      "text/plain": [
       "   Min. 1st Qu.  Median    Mean 3rd Qu.    Max. \n",
       "-0.6745 -0.6607  0.0000  0.2228  0.9326  5.2874 "
      ]
     },
     "metadata": {},
     "output_type": "display_data"
    }
   ],
   "source": [
    "summary(unlist(bagaev_mcentr))"
   ]
  },
  {
   "cell_type": "code",
   "execution_count": 16,
   "metadata": {},
   "outputs": [
    {
     "data": {
      "image/png": "[encoded data removed]",
      "text/plain": [
       "plot without title"
      ]
     },
     "metadata": {
      "image/png": {
       "height": 420,
       "width": 420
      }
     },
     "output_type": "display_data"
    }
   ],
   "source": [
    "ggplot() + geom_histogram(aes(unlist(bagaev_mcentr)), binwidth = 0.1) + myaxis + myplot + \n",
    "scale_x_continuous(breaks = c(-1, -0.66,0,1,2,4))"
   ]
  },
  {
   "cell_type": "markdown",
   "metadata": {},
   "source": [
    "Expressed genes are expressed > 75th percentile in at least one cell type"
   ]
  },
  {
   "cell_type": "code",
   "execution_count": 17,
   "metadata": {},
   "outputs": [],
   "source": [
    "bagaev_expressed_genes <- rownames(bagaev_mcentr)[rowSums(bagaev_mcentr > quantile(unlist(bagaev_mcentr),0.75)) >= 1]"
   ]
  },
  {
   "cell_type": "code",
   "execution_count": 18,
   "metadata": {
    "scrolled": true
   },
   "outputs": [
    {
     "data": {
      "text/html": [
       "9897"
      ],
      "text/latex": [
       "9897"
      ],
      "text/markdown": [
       "9897"
      ],
      "text/plain": [
       "[1] 9897"
      ]
     },
     "metadata": {},
     "output_type": "display_data"
    }
   ],
   "source": [
    "length(bagaev_expressed_genes)"
   ]
  },
  {
   "cell_type": "code",
   "execution_count": 19,
   "metadata": {},
   "outputs": [],
   "source": [
    "# med center genes across all celltypes\n",
    "bagaev_median_mcentr <- t(apply(bagaev_median,1, mcentr))"
   ]
  },
  {
   "cell_type": "code",
   "execution_count": 20,
   "metadata": {},
   "outputs": [],
   "source": [
    "colnames(bagaev_median_mcentr) <- colnames(bagaev_median)"
   ]
  },
  {
   "cell_type": "code",
   "execution_count": 21,
   "metadata": {},
   "outputs": [
    {
     "data": {
      "text/html": [
       "<table class=\"dataframe\">\n",
       "<caption>A matrix: 6 × 18 of type dbl</caption>\n",
       "<thead>\n",
       "\t<tr><th></th><th scope=col>T_helpers</th><th scope=col>CD4_T_cells</th><th scope=col>Tregs</th><th scope=col>CD8_T_cells</th><th scope=col>NK_cells</th><th scope=col>B_cells</th><th scope=col>Plasmacytoid_dendritic_cells</th><th scope=col>Dendritic_cells</th><th scope=col>Myeloid_cells</th><th scope=col>Monocytes</th><th scope=col>Macrophages</th><th scope=col>Macrophages_infected</th><th scope=col>Neutrophils</th><th scope=col>Fibroblasts</th><th scope=col>Endothelium</th><th scope=col>Melanoma</th><th scope=col>Melanoma Primary</th><th scope=col>Melanoma Metastasis</th></tr>\n",
       "</thead>\n",
       "<tbody>\n",
       "\t<tr><th scope=row>A1BG</th><td> 0.0000000</td><td> 0.00000000</td><td> 0.0000000</td><td> 0.0000000</td><td> 0.0000000</td><td> 0.0000000</td><td> 0.00000000</td><td> 0.00000000</td><td>0.0000000</td><td> 0.0000000</td><td> 0.0000000</td><td> 0.0000000</td><td> 0.00000000</td><td> 0.0000000</td><td> 0.0000000</td><td> 0.0000000</td><td> 0.0000000</td><td> 0.0000000</td></tr>\n",
       "\t<tr><th scope=row>A1CF</th><td> 0.6716501</td><td> 0.09978925</td><td> 0.4845164</td><td> 1.1542292</td><td>-0.2827521</td><td> 1.6434751</td><td> 0.49825050</td><td> 0.13275183</td><td>0.1405665</td><td> 0.6773315</td><td>-0.8951566</td><td>-0.8213745</td><td>-0.09978925</td><td>-0.9352186</td><td>-0.9606063</td><td>-0.5710485</td><td>-0.9710317</td><td>-1.0045704</td></tr>\n",
       "\t<tr><th scope=row>A2M</th><td>-0.4455402</td><td>-0.70754673</td><td>-0.6414348</td><td> 0.2998434</td><td>-0.2949709</td><td>-0.7266470</td><td> 0.01666284</td><td>-0.01666284</td><td>0.7236889</td><td>-0.5915743</td><td> 2.2400433</td><td> 2.4283522</td><td>-0.75024934</td><td>-0.1233303</td><td> 0.4435208</td><td> 1.0317611</td><td> 2.3244988</td><td> 2.5040368</td></tr>\n",
       "\t<tr><th scope=row>A2ML1</th><td> 0.1263010</td><td>-0.52451253</td><td> 0.6280490</td><td> 0.8947398</td><td> 0.3236087</td><td> 2.2152028</td><td>-0.37427647</td><td>-0.12630096</td><td>1.1748222</td><td> 0.6466623</td><td>-0.7562353</td><td>-0.9316971</td><td> 0.51913522</td><td>-0.9252463</td><td>-0.8948557</td><td>-0.7023192</td><td> 1.9661996</td><td>-0.3684461</td></tr>\n",
       "\t<tr><th scope=row>A3GALT2</th><td> 0.0000000</td><td> 0.00000000</td><td> 0.0000000</td><td> 0.0000000</td><td> 0.0000000</td><td> 0.0000000</td><td> 0.00000000</td><td> 0.00000000</td><td>0.0000000</td><td> 0.0000000</td><td> 0.0000000</td><td> 0.0000000</td><td> 0.00000000</td><td> 0.0000000</td><td> 0.0000000</td><td> 0.0000000</td><td> 0.0000000</td><td> 0.0000000</td></tr>\n",
       "\t<tr><th scope=row>A4GALT</th><td>-0.6744908</td><td>-0.67449076</td><td>-0.6744908</td><td>-0.6744908</td><td>-0.6294993</td><td>-0.4433783</td><td> 2.91944551</td><td>-0.44113764</td><td>3.9990882</td><td>-0.6744908</td><td> 2.9343155</td><td> 2.7939420</td><td>-0.67449076</td><td> 8.2372157</td><td> 7.5297735</td><td> 0.4411376</td><td> 3.8114063</td><td> 3.7111457</td></tr>\n",
       "</tbody>\n",
       "</table>\n"
      ],
      "text/latex": [
       "A matrix: 6 × 18 of type dbl\n",
       "\\begin{tabular}{r|llllllllllllllllll}\n",
       "  & T\\_helpers & CD4\\_T\\_cells & Tregs & CD8\\_T\\_cells & NK\\_cells & B\\_cells & Plasmacytoid\\_dendritic\\_cells & Dendritic\\_cells & Myeloid\\_cells & Monocytes & Macrophages & Macrophages\\_infected & Neutrophils & Fibroblasts & Endothelium & Melanoma & Melanoma Primary & Melanoma Metastasis\\\\\n",
       "\\hline\n",
       "\tA1BG &  0.0000000 &  0.00000000 &  0.0000000 &  0.0000000 &  0.0000000 &  0.0000000 &  0.00000000 &  0.00000000 & 0.0000000 &  0.0000000 &  0.0000000 &  0.0000000 &  0.00000000 &  0.0000000 &  0.0000000 &  0.0000000 &  0.0000000 &  0.0000000\\\\\n",
       "\tA1CF &  0.6716501 &  0.09978925 &  0.4845164 &  1.1542292 & -0.2827521 &  1.6434751 &  0.49825050 &  0.13275183 & 0.1405665 &  0.6773315 & -0.8951566 & -0.8213745 & -0.09978925 & -0.9352186 & -0.9606063 & -0.5710485 & -0.9710317 & -1.0045704\\\\\n",
       "\tA2M & -0.4455402 & -0.70754673 & -0.6414348 &  0.2998434 & -0.2949709 & -0.7266470 &  0.01666284 & -0.01666284 & 0.7236889 & -0.5915743 &  2.2400433 &  2.4283522 & -0.75024934 & -0.1233303 &  0.4435208 &  1.0317611 &  2.3244988 &  2.5040368\\\\\n",
       "\tA2ML1 &  0.1263010 & -0.52451253 &  0.6280490 &  0.8947398 &  0.3236087 &  2.2152028 & -0.37427647 & -0.12630096 & 1.1748222 &  0.6466623 & -0.7562353 & -0.9316971 &  0.51913522 & -0.9252463 & -0.8948557 & -0.7023192 &  1.9661996 & -0.3684461\\\\\n",
       "\tA3GALT2 &  0.0000000 &  0.00000000 &  0.0000000 &  0.0000000 &  0.0000000 &  0.0000000 &  0.00000000 &  0.00000000 & 0.0000000 &  0.0000000 &  0.0000000 &  0.0000000 &  0.00000000 &  0.0000000 &  0.0000000 &  0.0000000 &  0.0000000 &  0.0000000\\\\\n",
       "\tA4GALT & -0.6744908 & -0.67449076 & -0.6744908 & -0.6744908 & -0.6294993 & -0.4433783 &  2.91944551 & -0.44113764 & 3.9990882 & -0.6744908 &  2.9343155 &  2.7939420 & -0.67449076 &  8.2372157 &  7.5297735 &  0.4411376 &  3.8114063 &  3.7111457\\\\\n",
       "\\end{tabular}\n"
      ],
      "text/markdown": [
       "\n",
       "A matrix: 6 × 18 of type dbl\n",
       "\n",
       "| <!--/--> | T_helpers | CD4_T_cells | Tregs | CD8_T_cells | NK_cells | B_cells | Plasmacytoid_dendritic_cells | Dendritic_cells | Myeloid_cells | Monocytes | Macrophages | Macrophages_infected | Neutrophils | Fibroblasts | Endothelium | Melanoma | Melanoma Primary | Melanoma Metastasis |\n",
       "|---|---|---|---|---|---|---|---|---|---|---|---|---|---|---|---|---|---|---|\n",
       "| A1BG |  0.0000000 |  0.00000000 |  0.0000000 |  0.0000000 |  0.0000000 |  0.0000000 |  0.00000000 |  0.00000000 | 0.0000000 |  0.0000000 |  0.0000000 |  0.0000000 |  0.00000000 |  0.0000000 |  0.0000000 |  0.0000000 |  0.0000000 |  0.0000000 |\n",
       "| A1CF |  0.6716501 |  0.09978925 |  0.4845164 |  1.1542292 | -0.2827521 |  1.6434751 |  0.49825050 |  0.13275183 | 0.1405665 |  0.6773315 | -0.8951566 | -0.8213745 | -0.09978925 | -0.9352186 | -0.9606063 | -0.5710485 | -0.9710317 | -1.0045704 |\n",
       "| A2M | -0.4455402 | -0.70754673 | -0.6414348 |  0.2998434 | -0.2949709 | -0.7266470 |  0.01666284 | -0.01666284 | 0.7236889 | -0.5915743 |  2.2400433 |  2.4283522 | -0.75024934 | -0.1233303 |  0.4435208 |  1.0317611 |  2.3244988 |  2.5040368 |\n",
       "| A2ML1 |  0.1263010 | -0.52451253 |  0.6280490 |  0.8947398 |  0.3236087 |  2.2152028 | -0.37427647 | -0.12630096 | 1.1748222 |  0.6466623 | -0.7562353 | -0.9316971 |  0.51913522 | -0.9252463 | -0.8948557 | -0.7023192 |  1.9661996 | -0.3684461 |\n",
       "| A3GALT2 |  0.0000000 |  0.00000000 |  0.0000000 |  0.0000000 |  0.0000000 |  0.0000000 |  0.00000000 |  0.00000000 | 0.0000000 |  0.0000000 |  0.0000000 |  0.0000000 |  0.00000000 |  0.0000000 |  0.0000000 |  0.0000000 |  0.0000000 |  0.0000000 |\n",
       "| A4GALT | -0.6744908 | -0.67449076 | -0.6744908 | -0.6744908 | -0.6294993 | -0.4433783 |  2.91944551 | -0.44113764 | 3.9990882 | -0.6744908 |  2.9343155 |  2.7939420 | -0.67449076 |  8.2372157 |  7.5297735 |  0.4411376 |  3.8114063 |  3.7111457 |\n",
       "\n"
      ],
      "text/plain": [
       "        T_helpers  CD4_T_cells Tregs      CD8_T_cells NK_cells   B_cells   \n",
       "A1BG     0.0000000  0.00000000  0.0000000  0.0000000   0.0000000  0.0000000\n",
       "A1CF     0.6716501  0.09978925  0.4845164  1.1542292  -0.2827521  1.6434751\n",
       "A2M     -0.4455402 -0.70754673 -0.6414348  0.2998434  -0.2949709 -0.7266470\n",
       "A2ML1    0.1263010 -0.52451253  0.6280490  0.8947398   0.3236087  2.2152028\n",
       "A3GALT2  0.0000000  0.00000000  0.0000000  0.0000000   0.0000000  0.0000000\n",
       "A4GALT  -0.6744908 -0.67449076 -0.6744908 -0.6744908  -0.6294993 -0.4433783\n",
       "        Plasmacytoid_dendritic_cells Dendritic_cells Myeloid_cells Monocytes \n",
       "A1BG     0.00000000                   0.00000000     0.0000000      0.0000000\n",
       "A1CF     0.49825050                   0.13275183     0.1405665      0.6773315\n",
       "A2M      0.01666284                  -0.01666284     0.7236889     -0.5915743\n",
       "A2ML1   -0.37427647                  -0.12630096     1.1748222      0.6466623\n",
       "A3GALT2  0.00000000                   0.00000000     0.0000000      0.0000000\n",
       "A4GALT   2.91944551                  -0.44113764     3.9990882     -0.6744908\n",
       "        Macrophages Macrophages_infected Neutrophils Fibroblasts Endothelium\n",
       "A1BG     0.0000000   0.0000000            0.00000000  0.0000000   0.0000000 \n",
       "A1CF    -0.8951566  -0.8213745           -0.09978925 -0.9352186  -0.9606063 \n",
       "A2M      2.2400433   2.4283522           -0.75024934 -0.1233303   0.4435208 \n",
       "A2ML1   -0.7562353  -0.9316971            0.51913522 -0.9252463  -0.8948557 \n",
       "A3GALT2  0.0000000   0.0000000            0.00000000  0.0000000   0.0000000 \n",
       "A4GALT   2.9343155   2.7939420           -0.67449076  8.2372157   7.5297735 \n",
       "        Melanoma   Melanoma Primary Melanoma Metastasis\n",
       "A1BG     0.0000000  0.0000000        0.0000000         \n",
       "A1CF    -0.5710485 -0.9710317       -1.0045704         \n",
       "A2M      1.0317611  2.3244988        2.5040368         \n",
       "A2ML1   -0.7023192  1.9661996       -0.3684461         \n",
       "A3GALT2  0.0000000  0.0000000        0.0000000         \n",
       "A4GALT   0.4411376  3.8114063        3.7111457         "
      ]
     },
     "metadata": {},
     "output_type": "display_data"
    }
   ],
   "source": [
    "head(bagaev_median_mcentr)"
   ]
  },
  {
   "cell_type": "code",
   "execution_count": 22,
   "metadata": {},
   "outputs": [],
   "source": [
    "# get a list of tables with  differences across celltype medians for each gene\n",
    "diff_gen_list <- mclapply(rownames(bagaev_median_mcentr), function(x){\n",
    "    mygen <- x\n",
    "    gen_df <- bagaev_median_mcentr[mygen,]\n",
    "    #get m-score difference across cell types\n",
    "    tab_diff <- outer(gen_df, gen_df, \"-\")\n",
    "    \n",
    "    #keep immune cells in rows and non-immune in cols   \n",
    "    return(tab_diff[1:13,14:18])    \n",
    "})\n",
    "\n",
    "names(diff_gen_list) <- rownames(bagaev_median_mcentr)"
   ]
  },
  {
   "cell_type": "code",
   "execution_count": 23,
   "metadata": {},
   "outputs": [
    {
     "data": {
      "text/html": [
       "<table class=\"dataframe\">\n",
       "<caption>A matrix: 13 × 5 of type dbl</caption>\n",
       "<thead>\n",
       "\t<tr><th></th><th scope=col>Fibroblasts</th><th scope=col>Endothelium</th><th scope=col>Melanoma</th><th scope=col>Melanoma Primary</th><th scope=col>Melanoma Metastasis</th></tr>\n",
       "</thead>\n",
       "<tbody>\n",
       "\t<tr><th scope=row>T_helpers</th><td>0.97997630</td><td>0.97997630</td><td>0.92962668</td><td>-1.2075020</td><td>-2.386453</td></tr>\n",
       "\t<tr><th scope=row>CD4_T_cells</th><td>1.20404458</td><td>1.20404458</td><td>1.15369496</td><td>-0.9834337</td><td>-2.162385</td></tr>\n",
       "\t<tr><th scope=row>Tregs</th><td>0.97705217</td><td>0.97705217</td><td>0.92670255</td><td>-1.2104261</td><td>-2.389377</td></tr>\n",
       "\t<tr><th scope=row>CD8_T_cells</th><td>9.28423066</td><td>9.28423066</td><td>9.23388103</td><td> 7.0967524</td><td> 5.917801</td></tr>\n",
       "\t<tr><th scope=row>NK_cells</th><td>5.92580988</td><td>5.92580988</td><td>5.87546026</td><td> 3.7383316</td><td> 2.559380</td></tr>\n",
       "\t<tr><th scope=row>B_cells</th><td>0.41008628</td><td>0.41008628</td><td>0.35973666</td><td>-1.7773920</td><td>-2.956343</td></tr>\n",
       "\t<tr><th scope=row>Plasmacytoid_dendritic_cells</th><td>1.83737953</td><td>1.83737953</td><td>1.78702990</td><td>-0.3500988</td><td>-1.529050</td></tr>\n",
       "\t<tr><th scope=row>Dendritic_cells</th><td>0.51221251</td><td>0.51221251</td><td>0.46186289</td><td>-1.6752658</td><td>-2.854217</td></tr>\n",
       "\t<tr><th scope=row>Myeloid_cells</th><td>0.79068485</td><td>0.79068485</td><td>0.74033522</td><td>-1.3967934</td><td>-2.575745</td></tr>\n",
       "\t<tr><th scope=row>Monocytes</th><td>0.65941584</td><td>0.65941584</td><td>0.60906622</td><td>-1.5280624</td><td>-2.707014</td></tr>\n",
       "\t<tr><th scope=row>Macrophages</th><td>0.33436192</td><td>0.33436192</td><td>0.28401229</td><td>-1.8531164</td><td>-3.032067</td></tr>\n",
       "\t<tr><th scope=row>Macrophages_infected</th><td>0.08439358</td><td>0.08439358</td><td>0.03404396</td><td>-2.1030847</td><td>-3.282036</td></tr>\n",
       "\t<tr><th scope=row>Neutrophils</th><td>1.12396106</td><td>1.12396106</td><td>1.07361144</td><td>-1.0635172</td><td>-2.242468</td></tr>\n",
       "</tbody>\n",
       "</table>\n"
      ],
      "text/latex": [
       "A matrix: 13 × 5 of type dbl\n",
       "\\begin{tabular}{r|lllll}\n",
       "  & Fibroblasts & Endothelium & Melanoma & Melanoma Primary & Melanoma Metastasis\\\\\n",
       "\\hline\n",
       "\tT\\_helpers & 0.97997630 & 0.97997630 & 0.92962668 & -1.2075020 & -2.386453\\\\\n",
       "\tCD4\\_T\\_cells & 1.20404458 & 1.20404458 & 1.15369496 & -0.9834337 & -2.162385\\\\\n",
       "\tTregs & 0.97705217 & 0.97705217 & 0.92670255 & -1.2104261 & -2.389377\\\\\n",
       "\tCD8\\_T\\_cells & 9.28423066 & 9.28423066 & 9.23388103 &  7.0967524 &  5.917801\\\\\n",
       "\tNK\\_cells & 5.92580988 & 5.92580988 & 5.87546026 &  3.7383316 &  2.559380\\\\\n",
       "\tB\\_cells & 0.41008628 & 0.41008628 & 0.35973666 & -1.7773920 & -2.956343\\\\\n",
       "\tPlasmacytoid\\_dendritic\\_cells & 1.83737953 & 1.83737953 & 1.78702990 & -0.3500988 & -1.529050\\\\\n",
       "\tDendritic\\_cells & 0.51221251 & 0.51221251 & 0.46186289 & -1.6752658 & -2.854217\\\\\n",
       "\tMyeloid\\_cells & 0.79068485 & 0.79068485 & 0.74033522 & -1.3967934 & -2.575745\\\\\n",
       "\tMonocytes & 0.65941584 & 0.65941584 & 0.60906622 & -1.5280624 & -2.707014\\\\\n",
       "\tMacrophages & 0.33436192 & 0.33436192 & 0.28401229 & -1.8531164 & -3.032067\\\\\n",
       "\tMacrophages\\_infected & 0.08439358 & 0.08439358 & 0.03404396 & -2.1030847 & -3.282036\\\\\n",
       "\tNeutrophils & 1.12396106 & 1.12396106 & 1.07361144 & -1.0635172 & -2.242468\\\\\n",
       "\\end{tabular}\n"
      ],
      "text/markdown": [
       "\n",
       "A matrix: 13 × 5 of type dbl\n",
       "\n",
       "| <!--/--> | Fibroblasts | Endothelium | Melanoma | Melanoma Primary | Melanoma Metastasis |\n",
       "|---|---|---|---|---|---|\n",
       "| T_helpers | 0.97997630 | 0.97997630 | 0.92962668 | -1.2075020 | -2.386453 |\n",
       "| CD4_T_cells | 1.20404458 | 1.20404458 | 1.15369496 | -0.9834337 | -2.162385 |\n",
       "| Tregs | 0.97705217 | 0.97705217 | 0.92670255 | -1.2104261 | -2.389377 |\n",
       "| CD8_T_cells | 9.28423066 | 9.28423066 | 9.23388103 |  7.0967524 |  5.917801 |\n",
       "| NK_cells | 5.92580988 | 5.92580988 | 5.87546026 |  3.7383316 |  2.559380 |\n",
       "| B_cells | 0.41008628 | 0.41008628 | 0.35973666 | -1.7773920 | -2.956343 |\n",
       "| Plasmacytoid_dendritic_cells | 1.83737953 | 1.83737953 | 1.78702990 | -0.3500988 | -1.529050 |\n",
       "| Dendritic_cells | 0.51221251 | 0.51221251 | 0.46186289 | -1.6752658 | -2.854217 |\n",
       "| Myeloid_cells | 0.79068485 | 0.79068485 | 0.74033522 | -1.3967934 | -2.575745 |\n",
       "| Monocytes | 0.65941584 | 0.65941584 | 0.60906622 | -1.5280624 | -2.707014 |\n",
       "| Macrophages | 0.33436192 | 0.33436192 | 0.28401229 | -1.8531164 | -3.032067 |\n",
       "| Macrophages_infected | 0.08439358 | 0.08439358 | 0.03404396 | -2.1030847 | -3.282036 |\n",
       "| Neutrophils | 1.12396106 | 1.12396106 | 1.07361144 | -1.0635172 | -2.242468 |\n",
       "\n"
      ],
      "text/plain": [
       "                             Fibroblasts Endothelium Melanoma  \n",
       "T_helpers                    0.97997630  0.97997630  0.92962668\n",
       "CD4_T_cells                  1.20404458  1.20404458  1.15369496\n",
       "Tregs                        0.97705217  0.97705217  0.92670255\n",
       "CD8_T_cells                  9.28423066  9.28423066  9.23388103\n",
       "NK_cells                     5.92580988  5.92580988  5.87546026\n",
       "B_cells                      0.41008628  0.41008628  0.35973666\n",
       "Plasmacytoid_dendritic_cells 1.83737953  1.83737953  1.78702990\n",
       "Dendritic_cells              0.51221251  0.51221251  0.46186289\n",
       "Myeloid_cells                0.79068485  0.79068485  0.74033522\n",
       "Monocytes                    0.65941584  0.65941584  0.60906622\n",
       "Macrophages                  0.33436192  0.33436192  0.28401229\n",
       "Macrophages_infected         0.08439358  0.08439358  0.03404396\n",
       "Neutrophils                  1.12396106  1.12396106  1.07361144\n",
       "                             Melanoma Primary Melanoma Metastasis\n",
       "T_helpers                    -1.2075020       -2.386453          \n",
       "CD4_T_cells                  -0.9834337       -2.162385          \n",
       "Tregs                        -1.2104261       -2.389377          \n",
       "CD8_T_cells                   7.0967524        5.917801          \n",
       "NK_cells                      3.7383316        2.559380          \n",
       "B_cells                      -1.7773920       -2.956343          \n",
       "Plasmacytoid_dendritic_cells -0.3500988       -1.529050          \n",
       "Dendritic_cells              -1.6752658       -2.854217          \n",
       "Myeloid_cells                -1.3967934       -2.575745          \n",
       "Monocytes                    -1.5280624       -2.707014          \n",
       "Macrophages                  -1.8531164       -3.032067          \n",
       "Macrophages_infected         -2.1030847       -3.282036          \n",
       "Neutrophils                  -1.0635172       -2.242468          "
      ]
     },
     "metadata": {},
     "output_type": "display_data"
    }
   ],
   "source": [
    "#row value - col value\n",
    "diff_gen_list[[\"CD8A\"]]"
   ]
  },
  {
   "cell_type": "markdown",
   "metadata": {},
   "source": [
    "Select genes if any immune cells express >=2 mad compared to all nonimmune cells"
   ]
  },
  {
   "cell_type": "code",
   "execution_count": 24,
   "metadata": {},
   "outputs": [],
   "source": [
    "diff_gen_list_immune <- lapply(diff_gen_list, function(x) x[ rowSums(x >= 2) == 5,,drop = F])"
   ]
  },
  {
   "cell_type": "code",
   "execution_count": 25,
   "metadata": {},
   "outputs": [],
   "source": [
    "# rmeove empty lists\n",
    "diff_gen_list_immune <- diff_gen_list_immune[sapply(diff_gen_list_immune, function(x) length(unlist(x))) >= 5]"
   ]
  },
  {
   "cell_type": "code",
   "execution_count": 26,
   "metadata": {},
   "outputs": [
    {
     "data": {
      "text/html": [
       "<dl>\n",
       "\t<dt>$A1CF</dt>\n",
       "\t\t<dd><table class=\"dataframe\">\n",
       "<caption>A matrix: 1 × 5 of type dbl</caption>\n",
       "<thead>\n",
       "\t<tr><th></th><th scope=col>Fibroblasts</th><th scope=col>Endothelium</th><th scope=col>Melanoma</th><th scope=col>Melanoma Primary</th><th scope=col>Melanoma Metastasis</th></tr>\n",
       "</thead>\n",
       "<tbody>\n",
       "\t<tr><th scope=row>B_cells</th><td>2.578694</td><td>2.604081</td><td>2.214524</td><td>2.614507</td><td>2.648045</td></tr>\n",
       "</tbody>\n",
       "</table>\n",
       "</dd>\n",
       "\t<dt>$A4GNT</dt>\n",
       "\t\t<dd><table class=\"dataframe\">\n",
       "<caption>A matrix: 1 × 5 of type dbl</caption>\n",
       "<thead>\n",
       "\t<tr><th></th><th scope=col>Fibroblasts</th><th scope=col>Endothelium</th><th scope=col>Melanoma</th><th scope=col>Melanoma Primary</th><th scope=col>Melanoma Metastasis</th></tr>\n",
       "</thead>\n",
       "<tbody>\n",
       "\t<tr><th scope=row>Myeloid_cells</th><td>4.52825</td><td>8.814255</td><td>7.259208</td><td>7.441095</td><td>7.465274</td></tr>\n",
       "</tbody>\n",
       "</table>\n",
       "</dd>\n",
       "\t<dt>$AANAT</dt>\n",
       "\t\t<dd><table class=\"dataframe\">\n",
       "<caption>A matrix: 3 × 5 of type dbl</caption>\n",
       "<thead>\n",
       "\t<tr><th></th><th scope=col>Fibroblasts</th><th scope=col>Endothelium</th><th scope=col>Melanoma</th><th scope=col>Melanoma Primary</th><th scope=col>Melanoma Metastasis</th></tr>\n",
       "</thead>\n",
       "<tbody>\n",
       "\t<tr><th scope=row>NK_cells</th><td>3.102306</td><td>3.132543</td><td>2.538271</td><td>2.620217</td><td>2.795156</td></tr>\n",
       "\t<tr><th scope=row>B_cells</th><td>5.223205</td><td>5.253442</td><td>4.659171</td><td>4.741116</td><td>4.916055</td></tr>\n",
       "\t<tr><th scope=row>Monocytes</th><td>3.200807</td><td>3.231044</td><td>2.636772</td><td>2.718718</td><td>2.893657</td></tr>\n",
       "</tbody>\n",
       "</table>\n",
       "</dd>\n",
       "\t<dt>$AATK</dt>\n",
       "\t\t<dd><table class=\"dataframe\">\n",
       "<caption>A matrix: 1 × 5 of type dbl</caption>\n",
       "<thead>\n",
       "\t<tr><th></th><th scope=col>Fibroblasts</th><th scope=col>Endothelium</th><th scope=col>Melanoma</th><th scope=col>Melanoma Primary</th><th scope=col>Melanoma Metastasis</th></tr>\n",
       "</thead>\n",
       "<tbody>\n",
       "\t<tr><th scope=row>Neutrophils</th><td>5.495904</td><td>4.814888</td><td>4.827939</td><td>3.555892</td><td>3.772472</td></tr>\n",
       "</tbody>\n",
       "</table>\n",
       "</dd>\n",
       "\t<dt>$ABAT</dt>\n",
       "\t\t<dd><table class=\"dataframe\">\n",
       "<caption>A matrix: 1 × 5 of type dbl</caption>\n",
       "<thead>\n",
       "\t<tr><th></th><th scope=col>Fibroblasts</th><th scope=col>Endothelium</th><th scope=col>Melanoma</th><th scope=col>Melanoma Primary</th><th scope=col>Melanoma Metastasis</th></tr>\n",
       "</thead>\n",
       "<tbody>\n",
       "\t<tr><th scope=row>Neutrophils</th><td>2.04903</td><td>3.688259</td><td>4.103155</td><td>3.639862</td><td>3.56384</td></tr>\n",
       "</tbody>\n",
       "</table>\n",
       "</dd>\n",
       "\t<dt>$ABCA13</dt>\n",
       "\t\t<dd><table class=\"dataframe\">\n",
       "<caption>A matrix: 1 × 5 of type dbl</caption>\n",
       "<thead>\n",
       "\t<tr><th></th><th scope=col>Fibroblasts</th><th scope=col>Endothelium</th><th scope=col>Melanoma</th><th scope=col>Melanoma Primary</th><th scope=col>Melanoma Metastasis</th></tr>\n",
       "</thead>\n",
       "<tbody>\n",
       "\t<tr><th scope=row>Neutrophils</th><td>4.658446</td><td>4.791459</td><td>3.000197</td><td>3.224012</td><td>3.567734</td></tr>\n",
       "</tbody>\n",
       "</table>\n",
       "</dd>\n",
       "</dl>\n"
      ],
      "text/latex": [
       "\\begin{description}\n",
       "\\item[\\$A1CF] A matrix: 1 × 5 of type dbl\n",
       "\\begin{tabular}{r|lllll}\n",
       "  & Fibroblasts & Endothelium & Melanoma & Melanoma Primary & Melanoma Metastasis\\\\\n",
       "\\hline\n",
       "\tB\\_cells & 2.578694 & 2.604081 & 2.214524 & 2.614507 & 2.648045\\\\\n",
       "\\end{tabular}\n",
       "\n",
       "\\item[\\$A4GNT] A matrix: 1 × 5 of type dbl\n",
       "\\begin{tabular}{r|lllll}\n",
       "  & Fibroblasts & Endothelium & Melanoma & Melanoma Primary & Melanoma Metastasis\\\\\n",
       "\\hline\n",
       "\tMyeloid\\_cells & 4.52825 & 8.814255 & 7.259208 & 7.441095 & 7.465274\\\\\n",
       "\\end{tabular}\n",
       "\n",
       "\\item[\\$AANAT] A matrix: 3 × 5 of type dbl\n",
       "\\begin{tabular}{r|lllll}\n",
       "  & Fibroblasts & Endothelium & Melanoma & Melanoma Primary & Melanoma Metastasis\\\\\n",
       "\\hline\n",
       "\tNK\\_cells & 3.102306 & 3.132543 & 2.538271 & 2.620217 & 2.795156\\\\\n",
       "\tB\\_cells & 5.223205 & 5.253442 & 4.659171 & 4.741116 & 4.916055\\\\\n",
       "\tMonocytes & 3.200807 & 3.231044 & 2.636772 & 2.718718 & 2.893657\\\\\n",
       "\\end{tabular}\n",
       "\n",
       "\\item[\\$AATK] A matrix: 1 × 5 of type dbl\n",
       "\\begin{tabular}{r|lllll}\n",
       "  & Fibroblasts & Endothelium & Melanoma & Melanoma Primary & Melanoma Metastasis\\\\\n",
       "\\hline\n",
       "\tNeutrophils & 5.495904 & 4.814888 & 4.827939 & 3.555892 & 3.772472\\\\\n",
       "\\end{tabular}\n",
       "\n",
       "\\item[\\$ABAT] A matrix: 1 × 5 of type dbl\n",
       "\\begin{tabular}{r|lllll}\n",
       "  & Fibroblasts & Endothelium & Melanoma & Melanoma Primary & Melanoma Metastasis\\\\\n",
       "\\hline\n",
       "\tNeutrophils & 2.04903 & 3.688259 & 4.103155 & 3.639862 & 3.56384\\\\\n",
       "\\end{tabular}\n",
       "\n",
       "\\item[\\$ABCA13] A matrix: 1 × 5 of type dbl\n",
       "\\begin{tabular}{r|lllll}\n",
       "  & Fibroblasts & Endothelium & Melanoma & Melanoma Primary & Melanoma Metastasis\\\\\n",
       "\\hline\n",
       "\tNeutrophils & 4.658446 & 4.791459 & 3.000197 & 3.224012 & 3.567734\\\\\n",
       "\\end{tabular}\n",
       "\n",
       "\\end{description}\n"
      ],
      "text/markdown": [
       "$A1CF\n",
       ":   \n",
       "A matrix: 1 × 5 of type dbl\n",
       "\n",
       "| <!--/--> | Fibroblasts | Endothelium | Melanoma | Melanoma Primary | Melanoma Metastasis |\n",
       "|---|---|---|---|---|---|\n",
       "| B_cells | 2.578694 | 2.604081 | 2.214524 | 2.614507 | 2.648045 |\n",
       "\n",
       "\n",
       "$A4GNT\n",
       ":   \n",
       "A matrix: 1 × 5 of type dbl\n",
       "\n",
       "| <!--/--> | Fibroblasts | Endothelium | Melanoma | Melanoma Primary | Melanoma Metastasis |\n",
       "|---|---|---|---|---|---|\n",
       "| Myeloid_cells | 4.52825 | 8.814255 | 7.259208 | 7.441095 | 7.465274 |\n",
       "\n",
       "\n",
       "$AANAT\n",
       ":   \n",
       "A matrix: 3 × 5 of type dbl\n",
       "\n",
       "| <!--/--> | Fibroblasts | Endothelium | Melanoma | Melanoma Primary | Melanoma Metastasis |\n",
       "|---|---|---|---|---|---|\n",
       "| NK_cells | 3.102306 | 3.132543 | 2.538271 | 2.620217 | 2.795156 |\n",
       "| B_cells | 5.223205 | 5.253442 | 4.659171 | 4.741116 | 4.916055 |\n",
       "| Monocytes | 3.200807 | 3.231044 | 2.636772 | 2.718718 | 2.893657 |\n",
       "\n",
       "\n",
       "$AATK\n",
       ":   \n",
       "A matrix: 1 × 5 of type dbl\n",
       "\n",
       "| <!--/--> | Fibroblasts | Endothelium | Melanoma | Melanoma Primary | Melanoma Metastasis |\n",
       "|---|---|---|---|---|---|\n",
       "| Neutrophils | 5.495904 | 4.814888 | 4.827939 | 3.555892 | 3.772472 |\n",
       "\n",
       "\n",
       "$ABAT\n",
       ":   \n",
       "A matrix: 1 × 5 of type dbl\n",
       "\n",
       "| <!--/--> | Fibroblasts | Endothelium | Melanoma | Melanoma Primary | Melanoma Metastasis |\n",
       "|---|---|---|---|---|---|\n",
       "| Neutrophils | 2.04903 | 3.688259 | 4.103155 | 3.639862 | 3.56384 |\n",
       "\n",
       "\n",
       "$ABCA13\n",
       ":   \n",
       "A matrix: 1 × 5 of type dbl\n",
       "\n",
       "| <!--/--> | Fibroblasts | Endothelium | Melanoma | Melanoma Primary | Melanoma Metastasis |\n",
       "|---|---|---|---|---|---|\n",
       "| Neutrophils | 4.658446 | 4.791459 | 3.000197 | 3.224012 | 3.567734 |\n",
       "\n",
       "\n",
       "\n",
       "\n"
      ],
      "text/plain": [
       "$A1CF\n",
       "        Fibroblasts Endothelium Melanoma Melanoma Primary Melanoma Metastasis\n",
       "B_cells    2.578694    2.604081 2.214524         2.614507            2.648045\n",
       "\n",
       "$A4GNT\n",
       "              Fibroblasts Endothelium Melanoma Melanoma Primary\n",
       "Myeloid_cells     4.52825    8.814255 7.259208         7.441095\n",
       "              Melanoma Metastasis\n",
       "Myeloid_cells            7.465274\n",
       "\n",
       "$AANAT\n",
       "          Fibroblasts Endothelium Melanoma Melanoma Primary Melanoma Metastasis\n",
       "NK_cells     3.102306    3.132543 2.538271         2.620217            2.795156\n",
       "B_cells      5.223205    5.253442 4.659171         4.741116            4.916055\n",
       "Monocytes    3.200807    3.231044 2.636772         2.718718            2.893657\n",
       "\n",
       "$AATK\n",
       "            Fibroblasts Endothelium Melanoma Melanoma Primary\n",
       "Neutrophils    5.495904    4.814888 4.827939         3.555892\n",
       "            Melanoma Metastasis\n",
       "Neutrophils            3.772472\n",
       "\n",
       "$ABAT\n",
       "            Fibroblasts Endothelium Melanoma Melanoma Primary\n",
       "Neutrophils     2.04903    3.688259 4.103155         3.639862\n",
       "            Melanoma Metastasis\n",
       "Neutrophils             3.56384\n",
       "\n",
       "$ABCA13\n",
       "            Fibroblasts Endothelium Melanoma Melanoma Primary\n",
       "Neutrophils    4.658446    4.791459 3.000197         3.224012\n",
       "            Melanoma Metastasis\n",
       "Neutrophils            3.567734\n"
      ]
     },
     "metadata": {},
     "output_type": "display_data"
    }
   ],
   "source": [
    "head(diff_gen_list_immune)"
   ]
  },
  {
   "cell_type": "code",
   "execution_count": 27,
   "metadata": {},
   "outputs": [
    {
     "data": {
      "text/html": [
       "3733"
      ],
      "text/latex": [
       "3733"
      ],
      "text/markdown": [
       "3733"
      ],
      "text/plain": [
       "[1] 3733"
      ]
     },
     "metadata": {},
     "output_type": "display_data"
    }
   ],
   "source": [
    "length(diff_gen_list_immune)"
   ]
  },
  {
   "cell_type": "code",
   "execution_count": 28,
   "metadata": {},
   "outputs": [],
   "source": [
    "diff_gen_list_immune_expressed <- diff_gen_list_immune[names(diff_gen_list_immune) %in% bagaev_expressed_genes]"
   ]
  },
  {
   "cell_type": "code",
   "execution_count": 29,
   "metadata": {},
   "outputs": [
    {
     "data": {
      "text/html": [
       "1958"
      ],
      "text/latex": [
       "1958"
      ],
      "text/markdown": [
       "1958"
      ],
      "text/plain": [
       "[1] 1958"
      ]
     },
     "metadata": {},
     "output_type": "display_data"
    }
   ],
   "source": [
    "length(diff_gen_list_immune_expressed)"
   ]
  },
  {
   "cell_type": "code",
   "execution_count": 30,
   "metadata": {},
   "outputs": [],
   "source": [
    "compendium_immune_genes <- names(diff_gen_list_immune_expressed)"
   ]
  },
  {
   "cell_type": "code",
   "execution_count": 31,
   "metadata": {},
   "outputs": [
    {
     "data": {
      "text/html": [
       "<style>\n",
       ".list-inline {list-style: none; margin:0; padding: 0}\n",
       ".list-inline>li {display: inline-block}\n",
       ".list-inline>li:not(:last-child)::after {content: \"\\00b7\"; padding: 0 .5ex}\n",
       "</style>\n",
       "<ol class=list-inline><li>'AATK'</li><li>'ABCA7'</li><li>'ABCB1'</li><li>'ABCB4'</li><li>'ABHD15'</li><li>'ABHD17A'</li></ol>\n"
      ],
      "text/latex": [
       "\\begin{enumerate*}\n",
       "\\item 'AATK'\n",
       "\\item 'ABCA7'\n",
       "\\item 'ABCB1'\n",
       "\\item 'ABCB4'\n",
       "\\item 'ABHD15'\n",
       "\\item 'ABHD17A'\n",
       "\\end{enumerate*}\n"
      ],
      "text/markdown": [
       "1. 'AATK'\n",
       "2. 'ABCA7'\n",
       "3. 'ABCB1'\n",
       "4. 'ABCB4'\n",
       "5. 'ABHD15'\n",
       "6. 'ABHD17A'\n",
       "\n",
       "\n"
      ],
      "text/plain": [
       "[1] \"AATK\"    \"ABCA7\"   \"ABCB1\"   \"ABCB4\"   \"ABHD15\"  \"ABHD17A\""
      ]
     },
     "metadata": {},
     "output_type": "display_data"
    }
   ],
   "source": [
    "head(compendium_immune_genes)"
   ]
  },
  {
   "cell_type": "markdown",
   "metadata": {},
   "source": [
    "Selected 1958 genes that are expressed more than 75th (of the entire dataset) in at least one cell type AND have >2 mad difference in expression between at least one immune celltype and all non-immune celltypes"
   ]
  },
  {
   "cell_type": "markdown",
   "metadata": {},
   "source": [
    "## 2- single-cell data from protein atlas"
   ]
  },
  {
   "cell_type": "code",
   "execution_count": 32,
   "metadata": {},
   "outputs": [],
   "source": [
    "proteinatlas <- read.csv(paste0(datapath, \"TME_clusters/proteinatlas_v20.1.csv\"), header = TRUE, stringsAsFactors = FALSE)"
   ]
  },
  {
   "cell_type": "code",
   "execution_count": 33,
   "metadata": {},
   "outputs": [
    {
     "data": {
      "text/html": [
       "<style>\n",
       ".list-inline {list-style: none; margin:0; padding: 0}\n",
       ".list-inline>li {display: inline-block}\n",
       ".list-inline>li:not(:last-child)::after {content: \"\\00b7\"; padding: 0 .5ex}\n",
       "</style>\n",
       "<ol class=list-inline><li>19670</li><li>292</li></ol>\n"
      ],
      "text/latex": [
       "\\begin{enumerate*}\n",
       "\\item 19670\n",
       "\\item 292\n",
       "\\end{enumerate*}\n"
      ],
      "text/markdown": [
       "1. 19670\n",
       "2. 292\n",
       "\n",
       "\n"
      ],
      "text/plain": [
       "[1] 19670   292"
      ]
     },
     "metadata": {},
     "output_type": "display_data"
    }
   ],
   "source": [
    "dim(proteinatlas)"
   ]
  },
  {
   "cell_type": "code",
   "execution_count": 34,
   "metadata": {},
   "outputs": [],
   "source": [
    "#remove irrelevant columns\n",
    "rmcols <- colnames(proteinatlas)[ grepl(\"Cell.RNA...\", colnames(proteinatlas))]\n",
    "rmcols <- c(rmcols, colnames(proteinatlas)[ grepl(\"mouse\", colnames(proteinatlas))])\n",
    "rmcols <- c(rmcols, colnames(proteinatlas)[ grepl(\"pig\", colnames(proteinatlas))])\n",
    "rmcols <- c(rmcols, colnames(proteinatlas)[ grepl(\"Pathology\", colnames(proteinatlas))])\n",
    "rmcols <- c(rmcols, colnames(proteinatlas)[ grepl(\"score\", colnames(proteinatlas))])\n",
    "rmcols <- c(rmcols, colnames(proteinatlas)[ grepl(\"distribution\", colnames(proteinatlas))])\n",
    "rmcols <- c(rmcols, colnames(proteinatlas)[ grepl(\"Blood.concentration\", colnames(proteinatlas))])\n",
    "rmcols <- c(rmcols, colnames(proteinatlas)[ grepl(\"Secretome\", colnames(proteinatlas))])\n",
    "rmcols <- c(rmcols, colnames(proteinatlas)[ grepl(\"Subcellular\", colnames(proteinatlas))])\n",
    "rmcols <- c(rmcols, colnames(proteinatlas)[ grepl(\"Brain.RNA\", colnames(proteinatlas))])"
   ]
  },
  {
   "cell_type": "code",
   "execution_count": 35,
   "metadata": {},
   "outputs": [],
   "source": [
    "proteinatlas <- proteinatlas[,! colnames(proteinatlas) %in% rmcols]"
   ]
  },
  {
   "cell_type": "code",
   "execution_count": 36,
   "metadata": {},
   "outputs": [],
   "source": [
    "# Get single-cell columns and dedup genes\n",
    "sc_rna <- proteinatlas[!duplicated(proteinatlas$Gene),grepl(\"Single.Cell.Type\", colnames(proteinatlas))]\n",
    "rownames(sc_rna) <- proteinatlas$Gene[!duplicated(proteinatlas$Gene)]"
   ]
  },
  {
   "cell_type": "code",
   "execution_count": 37,
   "metadata": {},
   "outputs": [
    {
     "data": {
      "text/html": [
       "<style>\n",
       ".list-inline {list-style: none; margin:0; padding: 0}\n",
       ".list-inline>li {display: inline-block}\n",
       ".list-inline>li:not(:last-child)::after {content: \"\\00b7\"; padding: 0 .5ex}\n",
       "</style>\n",
       "<ol class=list-inline><li>'Single.Cell.Type.RNA...Alveolar.cells.type.1..NX.'</li><li>'Single.Cell.Type.RNA...Alveolar.cells.type.2..NX.'</li><li>'Single.Cell.Type.RNA...B.cells..NX.'</li><li>'Single.Cell.Type.RNA...Basal.glandular.cells..NX.'</li><li>'Single.Cell.Type.RNA...Basal.keratinocytes..NX.'</li><li>'Single.Cell.Type.RNA...Bipolar.cells..NX.'</li><li>'Single.Cell.Type.RNA...Cardiomyocytes..NX.'</li><li>'Single.Cell.Type.RNA...Cholangiocytes..NX.'</li><li>'Single.Cell.Type.RNA...Ciliated.cells..NX.'</li><li>'Single.Cell.Type.RNA...Club.cells..NX.'</li><li>'Single.Cell.Type.RNA...Collecting.duct.cells..NX.'</li><li>'Single.Cell.Type.RNA...Cone.photoreceptor.cells..NX.'</li><li>'Single.Cell.Type.RNA...Cytotrophoblasts..NX.'</li><li>'Single.Cell.Type.RNA...Distal.tubular.cells..NX.'</li><li>'Single.Cell.Type.RNA...Ductal.cells..NX.'</li><li>'Single.Cell.Type.RNA...Early.spermatids..NX.'</li><li>'Single.Cell.Type.RNA...Endothelial.cells..NX.'</li><li>'Single.Cell.Type.RNA...Enterocytes..NX.'</li><li>'Single.Cell.Type.RNA...Erythroid.cells..NX.'</li><li>'Single.Cell.Type.RNA...Exocrine.glandular.cells..NX.'</li><li>'Single.Cell.Type.RNA...Extravillous.trophoblasts..NX.'</li><li>'Single.Cell.Type.RNA...Fibroblasts..NX.'</li><li>'Single.Cell.Type.RNA...Glandular.cells..NX.'</li><li>'Single.Cell.Type.RNA...granulocytes..NX.'</li><li>'Single.Cell.Type.RNA...Hepatocytes..NX.'</li><li>'Single.Cell.Type.RNA...Hofbauer.cells..NX.'</li><li>'Single.Cell.Type.RNA...Horizontal.cells..NX.'</li><li>'Single.Cell.Type.RNA...Intestinal.endocrine.cells..NX.'</li><li>'Single.Cell.Type.RNA...Ito.cells..NX.'</li><li>'Single.Cell.Type.RNA...Kupffer.cells..NX.'</li><li>'Single.Cell.Type.RNA...Late.spermatids..NX.'</li><li>'Single.Cell.Type.RNA...Leydig.cells..NX.'</li><li>'Single.Cell.Type.RNA...Macrophages..NX.'</li><li>'Single.Cell.Type.RNA...Melanocytes..NX.'</li><li>'Single.Cell.Type.RNA...monocytes..NX.'</li><li>'Single.Cell.Type.RNA...Mucus.secreting.cells..NX.'</li><li>'Single.Cell.Type.RNA...Muller.glia.cells..NX.'</li><li>'Single.Cell.Type.RNA...Pancreatic.endocrine.cells..NX.'</li><li>'Single.Cell.Type.RNA...Paneth.cells..NX.'</li><li>'Single.Cell.Type.RNA...Peritubular.cells..NX.'</li><li>'Single.Cell.Type.RNA...Proximal.tubular.cells..NX.'</li><li>'Single.Cell.Type.RNA...Rod.photoreceptor.cells..NX.'</li><li>'Single.Cell.Type.RNA...Sertoli.cells..NX.'</li><li>'Single.Cell.Type.RNA...Smooth.muscle.cells..NX.'</li><li>'Single.Cell.Type.RNA...Spermatocytes..NX.'</li><li>'Single.Cell.Type.RNA...Spermatogonia..NX.'</li><li>'Single.Cell.Type.RNA...Suprabasal.keratinocytes..NX.'</li><li>'Single.Cell.Type.RNA...Syncytiotrophoblasts..NX.'</li><li>'Single.Cell.Type.RNA...T.cells..NX.'</li><li>'Single.Cell.Type.RNA...Undifferentiated.cells..NX.'</li><li>'Single.Cell.Type.RNA...Urothelial.cells..NX.'</li></ol>\n"
      ],
      "text/latex": [
       "\\begin{enumerate*}\n",
       "\\item 'Single.Cell.Type.RNA...Alveolar.cells.type.1..NX.'\n",
       "\\item 'Single.Cell.Type.RNA...Alveolar.cells.type.2..NX.'\n",
       "\\item 'Single.Cell.Type.RNA...B.cells..NX.'\n",
       "\\item 'Single.Cell.Type.RNA...Basal.glandular.cells..NX.'\n",
       "\\item 'Single.Cell.Type.RNA...Basal.keratinocytes..NX.'\n",
       "\\item 'Single.Cell.Type.RNA...Bipolar.cells..NX.'\n",
       "\\item 'Single.Cell.Type.RNA...Cardiomyocytes..NX.'\n",
       "\\item 'Single.Cell.Type.RNA...Cholangiocytes..NX.'\n",
       "\\item 'Single.Cell.Type.RNA...Ciliated.cells..NX.'\n",
       "\\item 'Single.Cell.Type.RNA...Club.cells..NX.'\n",
       "\\item 'Single.Cell.Type.RNA...Collecting.duct.cells..NX.'\n",
       "\\item 'Single.Cell.Type.RNA...Cone.photoreceptor.cells..NX.'\n",
       "\\item 'Single.Cell.Type.RNA...Cytotrophoblasts..NX.'\n",
       "\\item 'Single.Cell.Type.RNA...Distal.tubular.cells..NX.'\n",
       "\\item 'Single.Cell.Type.RNA...Ductal.cells..NX.'\n",
       "\\item 'Single.Cell.Type.RNA...Early.spermatids..NX.'\n",
       "\\item 'Single.Cell.Type.RNA...Endothelial.cells..NX.'\n",
       "\\item 'Single.Cell.Type.RNA...Enterocytes..NX.'\n",
       "\\item 'Single.Cell.Type.RNA...Erythroid.cells..NX.'\n",
       "\\item 'Single.Cell.Type.RNA...Exocrine.glandular.cells..NX.'\n",
       "\\item 'Single.Cell.Type.RNA...Extravillous.trophoblasts..NX.'\n",
       "\\item 'Single.Cell.Type.RNA...Fibroblasts..NX.'\n",
       "\\item 'Single.Cell.Type.RNA...Glandular.cells..NX.'\n",
       "\\item 'Single.Cell.Type.RNA...granulocytes..NX.'\n",
       "\\item 'Single.Cell.Type.RNA...Hepatocytes..NX.'\n",
       "\\item 'Single.Cell.Type.RNA...Hofbauer.cells..NX.'\n",
       "\\item 'Single.Cell.Type.RNA...Horizontal.cells..NX.'\n",
       "\\item 'Single.Cell.Type.RNA...Intestinal.endocrine.cells..NX.'\n",
       "\\item 'Single.Cell.Type.RNA...Ito.cells..NX.'\n",
       "\\item 'Single.Cell.Type.RNA...Kupffer.cells..NX.'\n",
       "\\item 'Single.Cell.Type.RNA...Late.spermatids..NX.'\n",
       "\\item 'Single.Cell.Type.RNA...Leydig.cells..NX.'\n",
       "\\item 'Single.Cell.Type.RNA...Macrophages..NX.'\n",
       "\\item 'Single.Cell.Type.RNA...Melanocytes..NX.'\n",
       "\\item 'Single.Cell.Type.RNA...monocytes..NX.'\n",
       "\\item 'Single.Cell.Type.RNA...Mucus.secreting.cells..NX.'\n",
       "\\item 'Single.Cell.Type.RNA...Muller.glia.cells..NX.'\n",
       "\\item 'Single.Cell.Type.RNA...Pancreatic.endocrine.cells..NX.'\n",
       "\\item 'Single.Cell.Type.RNA...Paneth.cells..NX.'\n",
       "\\item 'Single.Cell.Type.RNA...Peritubular.cells..NX.'\n",
       "\\item 'Single.Cell.Type.RNA...Proximal.tubular.cells..NX.'\n",
       "\\item 'Single.Cell.Type.RNA...Rod.photoreceptor.cells..NX.'\n",
       "\\item 'Single.Cell.Type.RNA...Sertoli.cells..NX.'\n",
       "\\item 'Single.Cell.Type.RNA...Smooth.muscle.cells..NX.'\n",
       "\\item 'Single.Cell.Type.RNA...Spermatocytes..NX.'\n",
       "\\item 'Single.Cell.Type.RNA...Spermatogonia..NX.'\n",
       "\\item 'Single.Cell.Type.RNA...Suprabasal.keratinocytes..NX.'\n",
       "\\item 'Single.Cell.Type.RNA...Syncytiotrophoblasts..NX.'\n",
       "\\item 'Single.Cell.Type.RNA...T.cells..NX.'\n",
       "\\item 'Single.Cell.Type.RNA...Undifferentiated.cells..NX.'\n",
       "\\item 'Single.Cell.Type.RNA...Urothelial.cells..NX.'\n",
       "\\end{enumerate*}\n"
      ],
      "text/markdown": [
       "1. 'Single.Cell.Type.RNA...Alveolar.cells.type.1..NX.'\n",
       "2. 'Single.Cell.Type.RNA...Alveolar.cells.type.2..NX.'\n",
       "3. 'Single.Cell.Type.RNA...B.cells..NX.'\n",
       "4. 'Single.Cell.Type.RNA...Basal.glandular.cells..NX.'\n",
       "5. 'Single.Cell.Type.RNA...Basal.keratinocytes..NX.'\n",
       "6. 'Single.Cell.Type.RNA...Bipolar.cells..NX.'\n",
       "7. 'Single.Cell.Type.RNA...Cardiomyocytes..NX.'\n",
       "8. 'Single.Cell.Type.RNA...Cholangiocytes..NX.'\n",
       "9. 'Single.Cell.Type.RNA...Ciliated.cells..NX.'\n",
       "10. 'Single.Cell.Type.RNA...Club.cells..NX.'\n",
       "11. 'Single.Cell.Type.RNA...Collecting.duct.cells..NX.'\n",
       "12. 'Single.Cell.Type.RNA...Cone.photoreceptor.cells..NX.'\n",
       "13. 'Single.Cell.Type.RNA...Cytotrophoblasts..NX.'\n",
       "14. 'Single.Cell.Type.RNA...Distal.tubular.cells..NX.'\n",
       "15. 'Single.Cell.Type.RNA...Ductal.cells..NX.'\n",
       "16. 'Single.Cell.Type.RNA...Early.spermatids..NX.'\n",
       "17. 'Single.Cell.Type.RNA...Endothelial.cells..NX.'\n",
       "18. 'Single.Cell.Type.RNA...Enterocytes..NX.'\n",
       "19. 'Single.Cell.Type.RNA...Erythroid.cells..NX.'\n",
       "20. 'Single.Cell.Type.RNA...Exocrine.glandular.cells..NX.'\n",
       "21. 'Single.Cell.Type.RNA...Extravillous.trophoblasts..NX.'\n",
       "22. 'Single.Cell.Type.RNA...Fibroblasts..NX.'\n",
       "23. 'Single.Cell.Type.RNA...Glandular.cells..NX.'\n",
       "24. 'Single.Cell.Type.RNA...granulocytes..NX.'\n",
       "25. 'Single.Cell.Type.RNA...Hepatocytes..NX.'\n",
       "26. 'Single.Cell.Type.RNA...Hofbauer.cells..NX.'\n",
       "27. 'Single.Cell.Type.RNA...Horizontal.cells..NX.'\n",
       "28. 'Single.Cell.Type.RNA...Intestinal.endocrine.cells..NX.'\n",
       "29. 'Single.Cell.Type.RNA...Ito.cells..NX.'\n",
       "30. 'Single.Cell.Type.RNA...Kupffer.cells..NX.'\n",
       "31. 'Single.Cell.Type.RNA...Late.spermatids..NX.'\n",
       "32. 'Single.Cell.Type.RNA...Leydig.cells..NX.'\n",
       "33. 'Single.Cell.Type.RNA...Macrophages..NX.'\n",
       "34. 'Single.Cell.Type.RNA...Melanocytes..NX.'\n",
       "35. 'Single.Cell.Type.RNA...monocytes..NX.'\n",
       "36. 'Single.Cell.Type.RNA...Mucus.secreting.cells..NX.'\n",
       "37. 'Single.Cell.Type.RNA...Muller.glia.cells..NX.'\n",
       "38. 'Single.Cell.Type.RNA...Pancreatic.endocrine.cells..NX.'\n",
       "39. 'Single.Cell.Type.RNA...Paneth.cells..NX.'\n",
       "40. 'Single.Cell.Type.RNA...Peritubular.cells..NX.'\n",
       "41. 'Single.Cell.Type.RNA...Proximal.tubular.cells..NX.'\n",
       "42. 'Single.Cell.Type.RNA...Rod.photoreceptor.cells..NX.'\n",
       "43. 'Single.Cell.Type.RNA...Sertoli.cells..NX.'\n",
       "44. 'Single.Cell.Type.RNA...Smooth.muscle.cells..NX.'\n",
       "45. 'Single.Cell.Type.RNA...Spermatocytes..NX.'\n",
       "46. 'Single.Cell.Type.RNA...Spermatogonia..NX.'\n",
       "47. 'Single.Cell.Type.RNA...Suprabasal.keratinocytes..NX.'\n",
       "48. 'Single.Cell.Type.RNA...Syncytiotrophoblasts..NX.'\n",
       "49. 'Single.Cell.Type.RNA...T.cells..NX.'\n",
       "50. 'Single.Cell.Type.RNA...Undifferentiated.cells..NX.'\n",
       "51. 'Single.Cell.Type.RNA...Urothelial.cells..NX.'\n",
       "\n",
       "\n"
      ],
      "text/plain": [
       " [1] \"Single.Cell.Type.RNA...Alveolar.cells.type.1..NX.\"     \n",
       " [2] \"Single.Cell.Type.RNA...Alveolar.cells.type.2..NX.\"     \n",
       " [3] \"Single.Cell.Type.RNA...B.cells..NX.\"                   \n",
       " [4] \"Single.Cell.Type.RNA...Basal.glandular.cells..NX.\"     \n",
       " [5] \"Single.Cell.Type.RNA...Basal.keratinocytes..NX.\"       \n",
       " [6] \"Single.Cell.Type.RNA...Bipolar.cells..NX.\"             \n",
       " [7] \"Single.Cell.Type.RNA...Cardiomyocytes..NX.\"            \n",
       " [8] \"Single.Cell.Type.RNA...Cholangiocytes..NX.\"            \n",
       " [9] \"Single.Cell.Type.RNA...Ciliated.cells..NX.\"            \n",
       "[10] \"Single.Cell.Type.RNA...Club.cells..NX.\"                \n",
       "[11] \"Single.Cell.Type.RNA...Collecting.duct.cells..NX.\"     \n",
       "[12] \"Single.Cell.Type.RNA...Cone.photoreceptor.cells..NX.\"  \n",
       "[13] \"Single.Cell.Type.RNA...Cytotrophoblasts..NX.\"          \n",
       "[14] \"Single.Cell.Type.RNA...Distal.tubular.cells..NX.\"      \n",
       "[15] \"Single.Cell.Type.RNA...Ductal.cells..NX.\"              \n",
       "[16] \"Single.Cell.Type.RNA...Early.spermatids..NX.\"          \n",
       "[17] \"Single.Cell.Type.RNA...Endothelial.cells..NX.\"         \n",
       "[18] \"Single.Cell.Type.RNA...Enterocytes..NX.\"               \n",
       "[19] \"Single.Cell.Type.RNA...Erythroid.cells..NX.\"           \n",
       "[20] \"Single.Cell.Type.RNA...Exocrine.glandular.cells..NX.\"  \n",
       "[21] \"Single.Cell.Type.RNA...Extravillous.trophoblasts..NX.\" \n",
       "[22] \"Single.Cell.Type.RNA...Fibroblasts..NX.\"               \n",
       "[23] \"Single.Cell.Type.RNA...Glandular.cells..NX.\"           \n",
       "[24] \"Single.Cell.Type.RNA...granulocytes..NX.\"              \n",
       "[25] \"Single.Cell.Type.RNA...Hepatocytes..NX.\"               \n",
       "[26] \"Single.Cell.Type.RNA...Hofbauer.cells..NX.\"            \n",
       "[27] \"Single.Cell.Type.RNA...Horizontal.cells..NX.\"          \n",
       "[28] \"Single.Cell.Type.RNA...Intestinal.endocrine.cells..NX.\"\n",
       "[29] \"Single.Cell.Type.RNA...Ito.cells..NX.\"                 \n",
       "[30] \"Single.Cell.Type.RNA...Kupffer.cells..NX.\"             \n",
       "[31] \"Single.Cell.Type.RNA...Late.spermatids..NX.\"           \n",
       "[32] \"Single.Cell.Type.RNA...Leydig.cells..NX.\"              \n",
       "[33] \"Single.Cell.Type.RNA...Macrophages..NX.\"               \n",
       "[34] \"Single.Cell.Type.RNA...Melanocytes..NX.\"               \n",
       "[35] \"Single.Cell.Type.RNA...monocytes..NX.\"                 \n",
       "[36] \"Single.Cell.Type.RNA...Mucus.secreting.cells..NX.\"     \n",
       "[37] \"Single.Cell.Type.RNA...Muller.glia.cells..NX.\"         \n",
       "[38] \"Single.Cell.Type.RNA...Pancreatic.endocrine.cells..NX.\"\n",
       "[39] \"Single.Cell.Type.RNA...Paneth.cells..NX.\"              \n",
       "[40] \"Single.Cell.Type.RNA...Peritubular.cells..NX.\"         \n",
       "[41] \"Single.Cell.Type.RNA...Proximal.tubular.cells..NX.\"    \n",
       "[42] \"Single.Cell.Type.RNA...Rod.photoreceptor.cells..NX.\"   \n",
       "[43] \"Single.Cell.Type.RNA...Sertoli.cells..NX.\"             \n",
       "[44] \"Single.Cell.Type.RNA...Smooth.muscle.cells..NX.\"       \n",
       "[45] \"Single.Cell.Type.RNA...Spermatocytes..NX.\"             \n",
       "[46] \"Single.Cell.Type.RNA...Spermatogonia..NX.\"             \n",
       "[47] \"Single.Cell.Type.RNA...Suprabasal.keratinocytes..NX.\"  \n",
       "[48] \"Single.Cell.Type.RNA...Syncytiotrophoblasts..NX.\"      \n",
       "[49] \"Single.Cell.Type.RNA...T.cells..NX.\"                   \n",
       "[50] \"Single.Cell.Type.RNA...Undifferentiated.cells..NX.\"    \n",
       "[51] \"Single.Cell.Type.RNA...Urothelial.cells..NX.\"          "
      ]
     },
     "metadata": {},
     "output_type": "display_data"
    }
   ],
   "source": [
    "colnames(sc_rna)"
   ]
  },
  {
   "cell_type": "code",
   "execution_count": 38,
   "metadata": {},
   "outputs": [],
   "source": [
    "# cleanup\n",
    "colnames(sc_rna) <- gsub(\"Single.Cell.Type.RNA...\", \"\", colnames(sc_rna))\n",
    "colnames(sc_rna) <- gsub(\"..NX.\", \"\", colnames(sc_rna))"
   ]
  },
  {
   "cell_type": "code",
   "execution_count": 39,
   "metadata": {},
   "outputs": [
    {
     "data": {
      "text/html": [
       "<table class=\"dataframe\">\n",
       "<caption>A data.frame: 6 × 51</caption>\n",
       "<thead>\n",
       "\t<tr><th></th><th scope=col>Alveolar.cells.type.1</th><th scope=col>Alveolar.cells.type.2</th><th scope=col>B.cells</th><th scope=col>Basal.glandular.cells</th><th scope=col>Basal.keratinocytes</th><th scope=col>Bipolar.cells</th><th scope=col>Cardiomyocytes</th><th scope=col>Cholangiocytes</th><th scope=col>Ciliated.cells</th><th scope=col>Club.cells</th><th scope=col>⋯</th><th scope=col>Rod.photoreceptor.cells</th><th scope=col>Sertoli.cells</th><th scope=col>Smooth.muscle.cells</th><th scope=col>Spermatocytes</th><th scope=col>Spermatogonia</th><th scope=col>Suprabasal.keratinocytes</th><th scope=col>Syncytiotrophoblasts</th><th scope=col>T.cells</th><th scope=col>Undifferentiated.cells</th><th scope=col>Urothelial.cells</th></tr>\n",
       "\t<tr><th></th><th scope=col>&lt;dbl&gt;</th><th scope=col>&lt;dbl&gt;</th><th scope=col>&lt;dbl&gt;</th><th scope=col>&lt;dbl&gt;</th><th scope=col>&lt;dbl&gt;</th><th scope=col>&lt;dbl&gt;</th><th scope=col>&lt;dbl&gt;</th><th scope=col>&lt;dbl&gt;</th><th scope=col>&lt;dbl&gt;</th><th scope=col>&lt;dbl&gt;</th><th scope=col>⋯</th><th scope=col>&lt;dbl&gt;</th><th scope=col>&lt;dbl&gt;</th><th scope=col>&lt;dbl&gt;</th><th scope=col>&lt;dbl&gt;</th><th scope=col>&lt;dbl&gt;</th><th scope=col>&lt;dbl&gt;</th><th scope=col>&lt;dbl&gt;</th><th scope=col>&lt;dbl&gt;</th><th scope=col>&lt;dbl&gt;</th><th scope=col>&lt;dbl&gt;</th></tr>\n",
       "</thead>\n",
       "<tbody>\n",
       "\t<tr><th scope=row>TSPAN6</th><td> 3.0</td><td> 8.5</td><td> 7.8</td><td> 36.0</td><td>  6.4</td><td> 0.7</td><td> 7.3</td><td>61.1</td><td>115.1</td><td>21.6</td><td>⋯</td><td> 1.5</td><td>19.4</td><td> 7.5</td><td> 19.0</td><td> 32.2</td><td> 4.6</td><td> 11.3</td><td> 3.5</td><td>78.3</td><td> 78.2</td></tr>\n",
       "\t<tr><th scope=row>TNMD</th><td> 0.0</td><td> 0.0</td><td> 0.0</td><td>  0.0</td><td>  1.8</td><td> 0.0</td><td> 0.0</td><td> 0.0</td><td>  0.0</td><td> 0.0</td><td>⋯</td><td> 0.0</td><td> 0.0</td><td> 0.0</td><td>  0.0</td><td>  0.0</td><td> 0.9</td><td>  0.0</td><td> 0.0</td><td> 0.5</td><td>  0.0</td></tr>\n",
       "\t<tr><th scope=row>DPM1</th><td>17.9</td><td>40.2</td><td>52.1</td><td>126.5</td><td>103.5</td><td>11.0</td><td>36.2</td><td>20.4</td><td> 77.6</td><td>43.3</td><td>⋯</td><td>10.2</td><td>71.1</td><td>61.3</td><td>110.0</td><td>113.4</td><td>92.2</td><td>205.3</td><td>55.3</td><td>48.2</td><td>127.0</td></tr>\n",
       "\t<tr><th scope=row>SCYL3</th><td> 6.0</td><td>11.8</td><td> 5.2</td><td>  1.7</td><td>  2.2</td><td> 9.6</td><td> 3.4</td><td>22.9</td><td>  2.7</td><td> 9.1</td><td>⋯</td><td>17.6</td><td> 6.5</td><td> 4.1</td><td>  7.2</td><td>  6.4</td><td> 1.6</td><td>  9.7</td><td>10.2</td><td> 9.9</td><td>  2.3</td></tr>\n",
       "\t<tr><th scope=row>C1orf112</th><td> 0.0</td><td> 3.5</td><td> 2.2</td><td>  2.6</td><td>  1.5</td><td> 3.8</td><td> 0.4</td><td> 0.0</td><td>  2.7</td><td> 1.2</td><td>⋯</td><td> 6.5</td><td> 6.5</td><td> 1.2</td><td> 27.7</td><td> 17.7</td><td> 0.9</td><td>  3.2</td><td> 1.9</td><td> 1.6</td><td>  1.4</td></tr>\n",
       "\t<tr><th scope=row>FGR</th><td> 6.0</td><td>30.7</td><td>12.5</td><td>  0.5</td><td>  2.5</td><td> 0.0</td><td> 1.6</td><td> 2.5</td><td>  2.7</td><td>10.3</td><td>⋯</td><td> 0.0</td><td> 0.0</td><td> 1.0</td><td>  0.2</td><td>  0.5</td><td> 1.0</td><td>  0.8</td><td>45.8</td><td> 0.0</td><td>  0.9</td></tr>\n",
       "</tbody>\n",
       "</table>\n"
      ],
      "text/latex": [
       "A data.frame: 6 × 51\n",
       "\\begin{tabular}{r|lllllllllllllllllllll}\n",
       "  & Alveolar.cells.type.1 & Alveolar.cells.type.2 & B.cells & Basal.glandular.cells & Basal.keratinocytes & Bipolar.cells & Cardiomyocytes & Cholangiocytes & Ciliated.cells & Club.cells & ⋯ & Rod.photoreceptor.cells & Sertoli.cells & Smooth.muscle.cells & Spermatocytes & Spermatogonia & Suprabasal.keratinocytes & Syncytiotrophoblasts & T.cells & Undifferentiated.cells & Urothelial.cells\\\\\n",
       "  & <dbl> & <dbl> & <dbl> & <dbl> & <dbl> & <dbl> & <dbl> & <dbl> & <dbl> & <dbl> & ⋯ & <dbl> & <dbl> & <dbl> & <dbl> & <dbl> & <dbl> & <dbl> & <dbl> & <dbl> & <dbl>\\\\\n",
       "\\hline\n",
       "\tTSPAN6 &  3.0 &  8.5 &  7.8 &  36.0 &   6.4 &  0.7 &  7.3 & 61.1 & 115.1 & 21.6 & ⋯ &  1.5 & 19.4 &  7.5 &  19.0 &  32.2 &  4.6 &  11.3 &  3.5 & 78.3 &  78.2\\\\\n",
       "\tTNMD &  0.0 &  0.0 &  0.0 &   0.0 &   1.8 &  0.0 &  0.0 &  0.0 &   0.0 &  0.0 & ⋯ &  0.0 &  0.0 &  0.0 &   0.0 &   0.0 &  0.9 &   0.0 &  0.0 &  0.5 &   0.0\\\\\n",
       "\tDPM1 & 17.9 & 40.2 & 52.1 & 126.5 & 103.5 & 11.0 & 36.2 & 20.4 &  77.6 & 43.3 & ⋯ & 10.2 & 71.1 & 61.3 & 110.0 & 113.4 & 92.2 & 205.3 & 55.3 & 48.2 & 127.0\\\\\n",
       "\tSCYL3 &  6.0 & 11.8 &  5.2 &   1.7 &   2.2 &  9.6 &  3.4 & 22.9 &   2.7 &  9.1 & ⋯ & 17.6 &  6.5 &  4.1 &   7.2 &   6.4 &  1.6 &   9.7 & 10.2 &  9.9 &   2.3\\\\\n",
       "\tC1orf112 &  0.0 &  3.5 &  2.2 &   2.6 &   1.5 &  3.8 &  0.4 &  0.0 &   2.7 &  1.2 & ⋯ &  6.5 &  6.5 &  1.2 &  27.7 &  17.7 &  0.9 &   3.2 &  1.9 &  1.6 &   1.4\\\\\n",
       "\tFGR &  6.0 & 30.7 & 12.5 &   0.5 &   2.5 &  0.0 &  1.6 &  2.5 &   2.7 & 10.3 & ⋯ &  0.0 &  0.0 &  1.0 &   0.2 &   0.5 &  1.0 &   0.8 & 45.8 &  0.0 &   0.9\\\\\n",
       "\\end{tabular}\n"
      ],
      "text/markdown": [
       "\n",
       "A data.frame: 6 × 51\n",
       "\n",
       "| <!--/--> | Alveolar.cells.type.1 &lt;dbl&gt; | Alveolar.cells.type.2 &lt;dbl&gt; | B.cells &lt;dbl&gt; | Basal.glandular.cells &lt;dbl&gt; | Basal.keratinocytes &lt;dbl&gt; | Bipolar.cells &lt;dbl&gt; | Cardiomyocytes &lt;dbl&gt; | Cholangiocytes &lt;dbl&gt; | Ciliated.cells &lt;dbl&gt; | Club.cells &lt;dbl&gt; | ⋯ ⋯ | Rod.photoreceptor.cells &lt;dbl&gt; | Sertoli.cells &lt;dbl&gt; | Smooth.muscle.cells &lt;dbl&gt; | Spermatocytes &lt;dbl&gt; | Spermatogonia &lt;dbl&gt; | Suprabasal.keratinocytes &lt;dbl&gt; | Syncytiotrophoblasts &lt;dbl&gt; | T.cells &lt;dbl&gt; | Undifferentiated.cells &lt;dbl&gt; | Urothelial.cells &lt;dbl&gt; |\n",
       "|---|---|---|---|---|---|---|---|---|---|---|---|---|---|---|---|---|---|---|---|---|---|\n",
       "| TSPAN6 |  3.0 |  8.5 |  7.8 |  36.0 |   6.4 |  0.7 |  7.3 | 61.1 | 115.1 | 21.6 | ⋯ |  1.5 | 19.4 |  7.5 |  19.0 |  32.2 |  4.6 |  11.3 |  3.5 | 78.3 |  78.2 |\n",
       "| TNMD |  0.0 |  0.0 |  0.0 |   0.0 |   1.8 |  0.0 |  0.0 |  0.0 |   0.0 |  0.0 | ⋯ |  0.0 |  0.0 |  0.0 |   0.0 |   0.0 |  0.9 |   0.0 |  0.0 |  0.5 |   0.0 |\n",
       "| DPM1 | 17.9 | 40.2 | 52.1 | 126.5 | 103.5 | 11.0 | 36.2 | 20.4 |  77.6 | 43.3 | ⋯ | 10.2 | 71.1 | 61.3 | 110.0 | 113.4 | 92.2 | 205.3 | 55.3 | 48.2 | 127.0 |\n",
       "| SCYL3 |  6.0 | 11.8 |  5.2 |   1.7 |   2.2 |  9.6 |  3.4 | 22.9 |   2.7 |  9.1 | ⋯ | 17.6 |  6.5 |  4.1 |   7.2 |   6.4 |  1.6 |   9.7 | 10.2 |  9.9 |   2.3 |\n",
       "| C1orf112 |  0.0 |  3.5 |  2.2 |   2.6 |   1.5 |  3.8 |  0.4 |  0.0 |   2.7 |  1.2 | ⋯ |  6.5 |  6.5 |  1.2 |  27.7 |  17.7 |  0.9 |   3.2 |  1.9 |  1.6 |   1.4 |\n",
       "| FGR |  6.0 | 30.7 | 12.5 |   0.5 |   2.5 |  0.0 |  1.6 |  2.5 |   2.7 | 10.3 | ⋯ |  0.0 |  0.0 |  1.0 |   0.2 |   0.5 |  1.0 |   0.8 | 45.8 |  0.0 |   0.9 |\n",
       "\n"
      ],
      "text/plain": [
       "         Alveolar.cells.type.1 Alveolar.cells.type.2 B.cells\n",
       "TSPAN6    3.0                   8.5                   7.8   \n",
       "TNMD      0.0                   0.0                   0.0   \n",
       "DPM1     17.9                  40.2                  52.1   \n",
       "SCYL3     6.0                  11.8                   5.2   \n",
       "C1orf112  0.0                   3.5                   2.2   \n",
       "FGR       6.0                  30.7                  12.5   \n",
       "         Basal.glandular.cells Basal.keratinocytes Bipolar.cells Cardiomyocytes\n",
       "TSPAN6    36.0                   6.4                0.7           7.3          \n",
       "TNMD       0.0                   1.8                0.0           0.0          \n",
       "DPM1     126.5                 103.5               11.0          36.2          \n",
       "SCYL3      1.7                   2.2                9.6           3.4          \n",
       "C1orf112   2.6                   1.5                3.8           0.4          \n",
       "FGR        0.5                   2.5                0.0           1.6          \n",
       "         Cholangiocytes Ciliated.cells Club.cells ⋯ Rod.photoreceptor.cells\n",
       "TSPAN6   61.1           115.1          21.6       ⋯  1.5                   \n",
       "TNMD      0.0             0.0           0.0       ⋯  0.0                   \n",
       "DPM1     20.4            77.6          43.3       ⋯ 10.2                   \n",
       "SCYL3    22.9             2.7           9.1       ⋯ 17.6                   \n",
       "C1orf112  0.0             2.7           1.2       ⋯  6.5                   \n",
       "FGR       2.5             2.7          10.3       ⋯  0.0                   \n",
       "         Sertoli.cells Smooth.muscle.cells Spermatocytes Spermatogonia\n",
       "TSPAN6   19.4           7.5                 19.0          32.2        \n",
       "TNMD      0.0           0.0                  0.0           0.0        \n",
       "DPM1     71.1          61.3                110.0         113.4        \n",
       "SCYL3     6.5           4.1                  7.2           6.4        \n",
       "C1orf112  6.5           1.2                 27.7          17.7        \n",
       "FGR       0.0           1.0                  0.2           0.5        \n",
       "         Suprabasal.keratinocytes Syncytiotrophoblasts T.cells\n",
       "TSPAN6    4.6                      11.3                 3.5   \n",
       "TNMD      0.9                       0.0                 0.0   \n",
       "DPM1     92.2                     205.3                55.3   \n",
       "SCYL3     1.6                       9.7                10.2   \n",
       "C1orf112  0.9                       3.2                 1.9   \n",
       "FGR       1.0                       0.8                45.8   \n",
       "         Undifferentiated.cells Urothelial.cells\n",
       "TSPAN6   78.3                    78.2           \n",
       "TNMD      0.5                     0.0           \n",
       "DPM1     48.2                   127.0           \n",
       "SCYL3     9.9                     2.3           \n",
       "C1orf112  1.6                     1.4           \n",
       "FGR       0.0                     0.9           "
      ]
     },
     "metadata": {},
     "output_type": "display_data"
    }
   ],
   "source": [
    "head(sc_rna)"
   ]
  },
  {
   "cell_type": "markdown",
   "metadata": {},
   "source": [
    "median center MAD scale"
   ]
  },
  {
   "cell_type": "code",
   "execution_count": 40,
   "metadata": {},
   "outputs": [],
   "source": [
    "sc_rna_m <- (sc_rna - median(unlist(sc_rna)))/mad(unlist(sc_rna))"
   ]
  },
  {
   "cell_type": "code",
   "execution_count": 41,
   "metadata": {},
   "outputs": [
    {
     "data": {
      "text/plain": [
       "    Min.  1st Qu.   Median     Mean  3rd Qu.     Max. \n",
       "     0.0      0.0      3.0     48.6     18.4 465852.4 "
      ]
     },
     "metadata": {},
     "output_type": "display_data"
    }
   ],
   "source": [
    "summary(unlist(sc_rna))"
   ]
  },
  {
   "cell_type": "code",
   "execution_count": 42,
   "metadata": {},
   "outputs": [
    {
     "data": {
      "text/plain": [
       "     Min.   1st Qu.    Median      Mean   3rd Qu.      Max. \n",
       "    -0.67     -0.67      0.00     10.26      3.46 104737.04 "
      ]
     },
     "metadata": {},
     "output_type": "display_data"
    }
   ],
   "source": [
    "summary(unlist(sc_rna_m))"
   ]
  },
  {
   "cell_type": "code",
   "execution_count": 43,
   "metadata": {},
   "outputs": [
    {
     "data": {
      "image/png": "[encoded data removed]",
      "text/plain": [
       "plot without title"
      ]
     },
     "metadata": {
      "image/png": {
       "height": 420,
       "width": 420
      }
     },
     "output_type": "display_data"
    }
   ],
   "source": [
    "ggplot() + geom_histogram(aes(unlist(sc_rna_m)), binwidth = 2) + myaxis + myplot +\n",
    "coord_cartesian(xlim = c(-1,30))"
   ]
  },
  {
   "cell_type": "markdown",
   "metadata": {},
   "source": [
    "Choose genes expressed > 75th percentile in at least one dataset"
   ]
  },
  {
   "cell_type": "code",
   "execution_count": 44,
   "metadata": {},
   "outputs": [],
   "source": [
    "sc_rna_genes <- rownames(sc_rna_m)[rowSums(sc_rna_m > quantile(unlist(sc_rna_m), 0.75)) >= 1]"
   ]
  },
  {
   "cell_type": "code",
   "execution_count": 45,
   "metadata": {},
   "outputs": [
    {
     "data": {
      "text/html": [
       "15302"
      ],
      "text/latex": [
       "15302"
      ],
      "text/markdown": [
       "15302"
      ],
      "text/plain": [
       "[1] 15302"
      ]
     },
     "metadata": {},
     "output_type": "display_data"
    }
   ],
   "source": [
    "length(sc_rna_genes)"
   ]
  },
  {
   "cell_type": "code",
   "execution_count": 46,
   "metadata": {},
   "outputs": [
    {
     "data": {
      "text/html": [
       "<table class=\"dataframe\">\n",
       "<caption>A data.frame: 6 × 51</caption>\n",
       "<thead>\n",
       "\t<tr><th></th><th scope=col>Alveolar.cells.type.1</th><th scope=col>Alveolar.cells.type.2</th><th scope=col>B.cells</th><th scope=col>Basal.glandular.cells</th><th scope=col>Basal.keratinocytes</th><th scope=col>Bipolar.cells</th><th scope=col>Cardiomyocytes</th><th scope=col>Cholangiocytes</th><th scope=col>Ciliated.cells</th><th scope=col>Club.cells</th><th scope=col>⋯</th><th scope=col>Rod.photoreceptor.cells</th><th scope=col>Sertoli.cells</th><th scope=col>Smooth.muscle.cells</th><th scope=col>Spermatocytes</th><th scope=col>Spermatogonia</th><th scope=col>Suprabasal.keratinocytes</th><th scope=col>Syncytiotrophoblasts</th><th scope=col>T.cells</th><th scope=col>Undifferentiated.cells</th><th scope=col>Urothelial.cells</th></tr>\n",
       "\t<tr><th></th><th scope=col>&lt;dbl&gt;</th><th scope=col>&lt;dbl&gt;</th><th scope=col>&lt;dbl&gt;</th><th scope=col>&lt;dbl&gt;</th><th scope=col>&lt;dbl&gt;</th><th scope=col>&lt;dbl&gt;</th><th scope=col>&lt;dbl&gt;</th><th scope=col>&lt;dbl&gt;</th><th scope=col>&lt;dbl&gt;</th><th scope=col>&lt;dbl&gt;</th><th scope=col>⋯</th><th scope=col>&lt;dbl&gt;</th><th scope=col>&lt;dbl&gt;</th><th scope=col>&lt;dbl&gt;</th><th scope=col>&lt;dbl&gt;</th><th scope=col>&lt;dbl&gt;</th><th scope=col>&lt;dbl&gt;</th><th scope=col>&lt;dbl&gt;</th><th scope=col>&lt;dbl&gt;</th><th scope=col>&lt;dbl&gt;</th><th scope=col>&lt;dbl&gt;</th></tr>\n",
       "</thead>\n",
       "<tbody>\n",
       "\t<tr><th scope=row>TSPAN6</th><td> 3.0</td><td> 8.5</td><td> 7.8</td><td> 36.0</td><td>  6.4</td><td> 0.7</td><td> 7.3</td><td>61.1</td><td>115.1</td><td>21.6</td><td>⋯</td><td> 1.5</td><td>19.4</td><td> 7.5</td><td> 19.0</td><td> 32.2</td><td> 4.6</td><td> 11.3</td><td> 3.5</td><td>78.3</td><td> 78.2</td></tr>\n",
       "\t<tr><th scope=row>TNMD</th><td> 0.0</td><td> 0.0</td><td> 0.0</td><td>  0.0</td><td>  1.8</td><td> 0.0</td><td> 0.0</td><td> 0.0</td><td>  0.0</td><td> 0.0</td><td>⋯</td><td> 0.0</td><td> 0.0</td><td> 0.0</td><td>  0.0</td><td>  0.0</td><td> 0.9</td><td>  0.0</td><td> 0.0</td><td> 0.5</td><td>  0.0</td></tr>\n",
       "\t<tr><th scope=row>DPM1</th><td>17.9</td><td>40.2</td><td>52.1</td><td>126.5</td><td>103.5</td><td>11.0</td><td>36.2</td><td>20.4</td><td> 77.6</td><td>43.3</td><td>⋯</td><td>10.2</td><td>71.1</td><td>61.3</td><td>110.0</td><td>113.4</td><td>92.2</td><td>205.3</td><td>55.3</td><td>48.2</td><td>127.0</td></tr>\n",
       "\t<tr><th scope=row>SCYL3</th><td> 6.0</td><td>11.8</td><td> 5.2</td><td>  1.7</td><td>  2.2</td><td> 9.6</td><td> 3.4</td><td>22.9</td><td>  2.7</td><td> 9.1</td><td>⋯</td><td>17.6</td><td> 6.5</td><td> 4.1</td><td>  7.2</td><td>  6.4</td><td> 1.6</td><td>  9.7</td><td>10.2</td><td> 9.9</td><td>  2.3</td></tr>\n",
       "\t<tr><th scope=row>C1orf112</th><td> 0.0</td><td> 3.5</td><td> 2.2</td><td>  2.6</td><td>  1.5</td><td> 3.8</td><td> 0.4</td><td> 0.0</td><td>  2.7</td><td> 1.2</td><td>⋯</td><td> 6.5</td><td> 6.5</td><td> 1.2</td><td> 27.7</td><td> 17.7</td><td> 0.9</td><td>  3.2</td><td> 1.9</td><td> 1.6</td><td>  1.4</td></tr>\n",
       "\t<tr><th scope=row>FGR</th><td> 6.0</td><td>30.7</td><td>12.5</td><td>  0.5</td><td>  2.5</td><td> 0.0</td><td> 1.6</td><td> 2.5</td><td>  2.7</td><td>10.3</td><td>⋯</td><td> 0.0</td><td> 0.0</td><td> 1.0</td><td>  0.2</td><td>  0.5</td><td> 1.0</td><td>  0.8</td><td>45.8</td><td> 0.0</td><td>  0.9</td></tr>\n",
       "</tbody>\n",
       "</table>\n"
      ],
      "text/latex": [
       "A data.frame: 6 × 51\n",
       "\\begin{tabular}{r|lllllllllllllllllllll}\n",
       "  & Alveolar.cells.type.1 & Alveolar.cells.type.2 & B.cells & Basal.glandular.cells & Basal.keratinocytes & Bipolar.cells & Cardiomyocytes & Cholangiocytes & Ciliated.cells & Club.cells & ⋯ & Rod.photoreceptor.cells & Sertoli.cells & Smooth.muscle.cells & Spermatocytes & Spermatogonia & Suprabasal.keratinocytes & Syncytiotrophoblasts & T.cells & Undifferentiated.cells & Urothelial.cells\\\\\n",
       "  & <dbl> & <dbl> & <dbl> & <dbl> & <dbl> & <dbl> & <dbl> & <dbl> & <dbl> & <dbl> & ⋯ & <dbl> & <dbl> & <dbl> & <dbl> & <dbl> & <dbl> & <dbl> & <dbl> & <dbl> & <dbl>\\\\\n",
       "\\hline\n",
       "\tTSPAN6 &  3.0 &  8.5 &  7.8 &  36.0 &   6.4 &  0.7 &  7.3 & 61.1 & 115.1 & 21.6 & ⋯ &  1.5 & 19.4 &  7.5 &  19.0 &  32.2 &  4.6 &  11.3 &  3.5 & 78.3 &  78.2\\\\\n",
       "\tTNMD &  0.0 &  0.0 &  0.0 &   0.0 &   1.8 &  0.0 &  0.0 &  0.0 &   0.0 &  0.0 & ⋯ &  0.0 &  0.0 &  0.0 &   0.0 &   0.0 &  0.9 &   0.0 &  0.0 &  0.5 &   0.0\\\\\n",
       "\tDPM1 & 17.9 & 40.2 & 52.1 & 126.5 & 103.5 & 11.0 & 36.2 & 20.4 &  77.6 & 43.3 & ⋯ & 10.2 & 71.1 & 61.3 & 110.0 & 113.4 & 92.2 & 205.3 & 55.3 & 48.2 & 127.0\\\\\n",
       "\tSCYL3 &  6.0 & 11.8 &  5.2 &   1.7 &   2.2 &  9.6 &  3.4 & 22.9 &   2.7 &  9.1 & ⋯ & 17.6 &  6.5 &  4.1 &   7.2 &   6.4 &  1.6 &   9.7 & 10.2 &  9.9 &   2.3\\\\\n",
       "\tC1orf112 &  0.0 &  3.5 &  2.2 &   2.6 &   1.5 &  3.8 &  0.4 &  0.0 &   2.7 &  1.2 & ⋯ &  6.5 &  6.5 &  1.2 &  27.7 &  17.7 &  0.9 &   3.2 &  1.9 &  1.6 &   1.4\\\\\n",
       "\tFGR &  6.0 & 30.7 & 12.5 &   0.5 &   2.5 &  0.0 &  1.6 &  2.5 &   2.7 & 10.3 & ⋯ &  0.0 &  0.0 &  1.0 &   0.2 &   0.5 &  1.0 &   0.8 & 45.8 &  0.0 &   0.9\\\\\n",
       "\\end{tabular}\n"
      ],
      "text/markdown": [
       "\n",
       "A data.frame: 6 × 51\n",
       "\n",
       "| <!--/--> | Alveolar.cells.type.1 &lt;dbl&gt; | Alveolar.cells.type.2 &lt;dbl&gt; | B.cells &lt;dbl&gt; | Basal.glandular.cells &lt;dbl&gt; | Basal.keratinocytes &lt;dbl&gt; | Bipolar.cells &lt;dbl&gt; | Cardiomyocytes &lt;dbl&gt; | Cholangiocytes &lt;dbl&gt; | Ciliated.cells &lt;dbl&gt; | Club.cells &lt;dbl&gt; | ⋯ ⋯ | Rod.photoreceptor.cells &lt;dbl&gt; | Sertoli.cells &lt;dbl&gt; | Smooth.muscle.cells &lt;dbl&gt; | Spermatocytes &lt;dbl&gt; | Spermatogonia &lt;dbl&gt; | Suprabasal.keratinocytes &lt;dbl&gt; | Syncytiotrophoblasts &lt;dbl&gt; | T.cells &lt;dbl&gt; | Undifferentiated.cells &lt;dbl&gt; | Urothelial.cells &lt;dbl&gt; |\n",
       "|---|---|---|---|---|---|---|---|---|---|---|---|---|---|---|---|---|---|---|---|---|---|\n",
       "| TSPAN6 |  3.0 |  8.5 |  7.8 |  36.0 |   6.4 |  0.7 |  7.3 | 61.1 | 115.1 | 21.6 | ⋯ |  1.5 | 19.4 |  7.5 |  19.0 |  32.2 |  4.6 |  11.3 |  3.5 | 78.3 |  78.2 |\n",
       "| TNMD |  0.0 |  0.0 |  0.0 |   0.0 |   1.8 |  0.0 |  0.0 |  0.0 |   0.0 |  0.0 | ⋯ |  0.0 |  0.0 |  0.0 |   0.0 |   0.0 |  0.9 |   0.0 |  0.0 |  0.5 |   0.0 |\n",
       "| DPM1 | 17.9 | 40.2 | 52.1 | 126.5 | 103.5 | 11.0 | 36.2 | 20.4 |  77.6 | 43.3 | ⋯ | 10.2 | 71.1 | 61.3 | 110.0 | 113.4 | 92.2 | 205.3 | 55.3 | 48.2 | 127.0 |\n",
       "| SCYL3 |  6.0 | 11.8 |  5.2 |   1.7 |   2.2 |  9.6 |  3.4 | 22.9 |   2.7 |  9.1 | ⋯ | 17.6 |  6.5 |  4.1 |   7.2 |   6.4 |  1.6 |   9.7 | 10.2 |  9.9 |   2.3 |\n",
       "| C1orf112 |  0.0 |  3.5 |  2.2 |   2.6 |   1.5 |  3.8 |  0.4 |  0.0 |   2.7 |  1.2 | ⋯ |  6.5 |  6.5 |  1.2 |  27.7 |  17.7 |  0.9 |   3.2 |  1.9 |  1.6 |   1.4 |\n",
       "| FGR |  6.0 | 30.7 | 12.5 |   0.5 |   2.5 |  0.0 |  1.6 |  2.5 |   2.7 | 10.3 | ⋯ |  0.0 |  0.0 |  1.0 |   0.2 |   0.5 |  1.0 |   0.8 | 45.8 |  0.0 |   0.9 |\n",
       "\n"
      ],
      "text/plain": [
       "         Alveolar.cells.type.1 Alveolar.cells.type.2 B.cells\n",
       "TSPAN6    3.0                   8.5                   7.8   \n",
       "TNMD      0.0                   0.0                   0.0   \n",
       "DPM1     17.9                  40.2                  52.1   \n",
       "SCYL3     6.0                  11.8                   5.2   \n",
       "C1orf112  0.0                   3.5                   2.2   \n",
       "FGR       6.0                  30.7                  12.5   \n",
       "         Basal.glandular.cells Basal.keratinocytes Bipolar.cells Cardiomyocytes\n",
       "TSPAN6    36.0                   6.4                0.7           7.3          \n",
       "TNMD       0.0                   1.8                0.0           0.0          \n",
       "DPM1     126.5                 103.5               11.0          36.2          \n",
       "SCYL3      1.7                   2.2                9.6           3.4          \n",
       "C1orf112   2.6                   1.5                3.8           0.4          \n",
       "FGR        0.5                   2.5                0.0           1.6          \n",
       "         Cholangiocytes Ciliated.cells Club.cells ⋯ Rod.photoreceptor.cells\n",
       "TSPAN6   61.1           115.1          21.6       ⋯  1.5                   \n",
       "TNMD      0.0             0.0           0.0       ⋯  0.0                   \n",
       "DPM1     20.4            77.6          43.3       ⋯ 10.2                   \n",
       "SCYL3    22.9             2.7           9.1       ⋯ 17.6                   \n",
       "C1orf112  0.0             2.7           1.2       ⋯  6.5                   \n",
       "FGR       2.5             2.7          10.3       ⋯  0.0                   \n",
       "         Sertoli.cells Smooth.muscle.cells Spermatocytes Spermatogonia\n",
       "TSPAN6   19.4           7.5                 19.0          32.2        \n",
       "TNMD      0.0           0.0                  0.0           0.0        \n",
       "DPM1     71.1          61.3                110.0         113.4        \n",
       "SCYL3     6.5           4.1                  7.2           6.4        \n",
       "C1orf112  6.5           1.2                 27.7          17.7        \n",
       "FGR       0.0           1.0                  0.2           0.5        \n",
       "         Suprabasal.keratinocytes Syncytiotrophoblasts T.cells\n",
       "TSPAN6    4.6                      11.3                 3.5   \n",
       "TNMD      0.9                       0.0                 0.0   \n",
       "DPM1     92.2                     205.3                55.3   \n",
       "SCYL3     1.6                       9.7                10.2   \n",
       "C1orf112  0.9                       3.2                 1.9   \n",
       "FGR       1.0                       0.8                45.8   \n",
       "         Undifferentiated.cells Urothelial.cells\n",
       "TSPAN6   78.3                    78.2           \n",
       "TNMD      0.5                     0.0           \n",
       "DPM1     48.2                   127.0           \n",
       "SCYL3     9.9                     2.3           \n",
       "C1orf112  1.6                     1.4           \n",
       "FGR       0.0                     0.9           "
      ]
     },
     "metadata": {},
     "output_type": "display_data"
    }
   ],
   "source": [
    "head(sc_rna)"
   ]
  },
  {
   "cell_type": "code",
   "execution_count": 47,
   "metadata": {},
   "outputs": [],
   "source": [
    "# get mad/med scores for all genes across all celltypes\n",
    "sc_rna_mcentr <- t(apply(sc_rna,1, mcentr))\n",
    "\n",
    "colnames(sc_rna_mcentr) <- colnames(sc_rna)"
   ]
  },
  {
   "cell_type": "code",
   "execution_count": 48,
   "metadata": {},
   "outputs": [
    {
     "data": {
      "text/html": [
       "<table class=\"dataframe\">\n",
       "<caption>A matrix: 6 × 51 of type dbl</caption>\n",
       "<thead>\n",
       "\t<tr><th></th><th scope=col>Alveolar.cells.type.1</th><th scope=col>Alveolar.cells.type.2</th><th scope=col>B.cells</th><th scope=col>Basal.glandular.cells</th><th scope=col>Basal.keratinocytes</th><th scope=col>Bipolar.cells</th><th scope=col>Cardiomyocytes</th><th scope=col>Cholangiocytes</th><th scope=col>Ciliated.cells</th><th scope=col>Club.cells</th><th scope=col>⋯</th><th scope=col>Rod.photoreceptor.cells</th><th scope=col>Sertoli.cells</th><th scope=col>Smooth.muscle.cells</th><th scope=col>Spermatocytes</th><th scope=col>Spermatogonia</th><th scope=col>Suprabasal.keratinocytes</th><th scope=col>Syncytiotrophoblasts</th><th scope=col>T.cells</th><th scope=col>Undifferentiated.cells</th><th scope=col>Urothelial.cells</th></tr>\n",
       "</thead>\n",
       "<tbody>\n",
       "\t<tr><th scope=row>TSPAN6</th><td>-0.7060459</td><td>-0.4891044</td><td>-0.5167151</td><td> 0.5956030</td><td>-0.5719366</td><td>-0.7967669</td><td>-0.5364371</td><td> 1.585645</td><td> 3.7156158</td><td> 0.02761073</td><td>⋯</td><td>-0.7652117</td><td>-0.05916586</td><td>-0.5285483</td><td>-0.07494342</td><td>0.44571612</td><td>-0.6429356</td><td>-0.3786615</td><td>-0.6863239</td><td> 2.2640801</td><td> 2.2601357</td></tr>\n",
       "\t<tr><th scope=row>TNMD</th><td> 0.0000000</td><td> 0.0000000</td><td> 0.0000000</td><td> 0.0000000</td><td> 0.0000000</td><td> 0.0000000</td><td> 0.0000000</td><td> 0.000000</td><td> 0.0000000</td><td> 0.00000000</td><td>⋯</td><td> 0.0000000</td><td> 0.00000000</td><td> 0.0000000</td><td> 0.00000000</td><td>0.00000000</td><td> 0.0000000</td><td> 0.0000000</td><td> 0.0000000</td><td> 0.0000000</td><td> 0.0000000</td></tr>\n",
       "\t<tr><th scope=row>DPM1</th><td>-1.3207306</td><td>-0.5332362</td><td>-0.1130037</td><td> 2.5143320</td><td> 1.7021180</td><td>-1.5643948</td><td>-0.6744908</td><td>-1.232446</td><td> 0.7874944</td><td>-0.42376383</td><td>⋯</td><td>-1.5926457</td><td> 0.55795571</td><td> 0.2118819</td><td> 1.93165678</td><td>2.05172320</td><td> 1.3030738</td><td> 5.2970478</td><td> 0.0000000</td><td>-0.2507269</td><td> 2.5319889</td></tr>\n",
       "\t<tr><th scope=row>SCYL3</th><td> 0.0000000</td><td> 1.3489815</td><td>-0.1860664</td><td>-1.0001070</td><td>-0.8838155</td><td> 0.8372989</td><td>-0.6047159</td><td> 3.930653</td><td>-0.7675240</td><td> 0.72100736</td><td>⋯</td><td> 2.6979630</td><td> 0.11629151</td><td>-0.4419077</td><td> 0.27909962</td><td>0.09303321</td><td>-1.0233653</td><td> 0.8605572</td><td> 0.9768487</td><td> 0.9070738</td><td>-0.8605572</td></tr>\n",
       "\t<tr><th scope=row>C1orf112</th><td>-1.1933298</td><td> 0.6226069</td><td>-0.0518839</td><td> 0.1556517</td><td>-0.4150712</td><td> 0.7782586</td><td>-0.9857942</td><td>-1.193330</td><td> 0.2075356</td><td>-0.57072295</td><td>⋯</td><td> 2.1791240</td><td> 2.17912399</td><td>-0.5707230</td><td>13.17851176</td><td>7.99012130</td><td>-0.7263747</td><td> 0.4669551</td><td>-0.2075356</td><td>-0.3631873</td><td>-0.4669551</td></tr>\n",
       "\t<tr><th scope=row>FGR</th><td> 7.4193984</td><td>40.7392419</td><td>16.1877782</td><td> 0.0000000</td><td> 2.6979630</td><td>-0.6744908</td><td> 1.4838797</td><td> 2.697963</td><td> 2.9677593</td><td>13.22001889</td><td>⋯</td><td>-0.6744908</td><td>-0.67449076</td><td> 0.6744908</td><td>-0.40469446</td><td>0.00000000</td><td> 0.6744908</td><td> 0.4046945</td><td>61.1088628</td><td>-0.6744908</td><td> 0.5395926</td></tr>\n",
       "</tbody>\n",
       "</table>\n"
      ],
      "text/latex": [
       "A matrix: 6 × 51 of type dbl\n",
       "\\begin{tabular}{r|lllllllllllllllllllll}\n",
       "  & Alveolar.cells.type.1 & Alveolar.cells.type.2 & B.cells & Basal.glandular.cells & Basal.keratinocytes & Bipolar.cells & Cardiomyocytes & Cholangiocytes & Ciliated.cells & Club.cells & ⋯ & Rod.photoreceptor.cells & Sertoli.cells & Smooth.muscle.cells & Spermatocytes & Spermatogonia & Suprabasal.keratinocytes & Syncytiotrophoblasts & T.cells & Undifferentiated.cells & Urothelial.cells\\\\\n",
       "\\hline\n",
       "\tTSPAN6 & -0.7060459 & -0.4891044 & -0.5167151 &  0.5956030 & -0.5719366 & -0.7967669 & -0.5364371 &  1.585645 &  3.7156158 &  0.02761073 & ⋯ & -0.7652117 & -0.05916586 & -0.5285483 & -0.07494342 & 0.44571612 & -0.6429356 & -0.3786615 & -0.6863239 &  2.2640801 &  2.2601357\\\\\n",
       "\tTNMD &  0.0000000 &  0.0000000 &  0.0000000 &  0.0000000 &  0.0000000 &  0.0000000 &  0.0000000 &  0.000000 &  0.0000000 &  0.00000000 & ⋯ &  0.0000000 &  0.00000000 &  0.0000000 &  0.00000000 & 0.00000000 &  0.0000000 &  0.0000000 &  0.0000000 &  0.0000000 &  0.0000000\\\\\n",
       "\tDPM1 & -1.3207306 & -0.5332362 & -0.1130037 &  2.5143320 &  1.7021180 & -1.5643948 & -0.6744908 & -1.232446 &  0.7874944 & -0.42376383 & ⋯ & -1.5926457 &  0.55795571 &  0.2118819 &  1.93165678 & 2.05172320 &  1.3030738 &  5.2970478 &  0.0000000 & -0.2507269 &  2.5319889\\\\\n",
       "\tSCYL3 &  0.0000000 &  1.3489815 & -0.1860664 & -1.0001070 & -0.8838155 &  0.8372989 & -0.6047159 &  3.930653 & -0.7675240 &  0.72100736 & ⋯ &  2.6979630 &  0.11629151 & -0.4419077 &  0.27909962 & 0.09303321 & -1.0233653 &  0.8605572 &  0.9768487 &  0.9070738 & -0.8605572\\\\\n",
       "\tC1orf112 & -1.1933298 &  0.6226069 & -0.0518839 &  0.1556517 & -0.4150712 &  0.7782586 & -0.9857942 & -1.193330 &  0.2075356 & -0.57072295 & ⋯ &  2.1791240 &  2.17912399 & -0.5707230 & 13.17851176 & 7.99012130 & -0.7263747 &  0.4669551 & -0.2075356 & -0.3631873 & -0.4669551\\\\\n",
       "\tFGR &  7.4193984 & 40.7392419 & 16.1877782 &  0.0000000 &  2.6979630 & -0.6744908 &  1.4838797 &  2.697963 &  2.9677593 & 13.22001889 & ⋯ & -0.6744908 & -0.67449076 &  0.6744908 & -0.40469446 & 0.00000000 &  0.6744908 &  0.4046945 & 61.1088628 & -0.6744908 &  0.5395926\\\\\n",
       "\\end{tabular}\n"
      ],
      "text/markdown": [
       "\n",
       "A matrix: 6 × 51 of type dbl\n",
       "\n",
       "| <!--/--> | Alveolar.cells.type.1 | Alveolar.cells.type.2 | B.cells | Basal.glandular.cells | Basal.keratinocytes | Bipolar.cells | Cardiomyocytes | Cholangiocytes | Ciliated.cells | Club.cells | ⋯ | Rod.photoreceptor.cells | Sertoli.cells | Smooth.muscle.cells | Spermatocytes | Spermatogonia | Suprabasal.keratinocytes | Syncytiotrophoblasts | T.cells | Undifferentiated.cells | Urothelial.cells |\n",
       "|---|---|---|---|---|---|---|---|---|---|---|---|---|---|---|---|---|---|---|---|---|---|\n",
       "| TSPAN6 | -0.7060459 | -0.4891044 | -0.5167151 |  0.5956030 | -0.5719366 | -0.7967669 | -0.5364371 |  1.585645 |  3.7156158 |  0.02761073 | ⋯ | -0.7652117 | -0.05916586 | -0.5285483 | -0.07494342 | 0.44571612 | -0.6429356 | -0.3786615 | -0.6863239 |  2.2640801 |  2.2601357 |\n",
       "| TNMD |  0.0000000 |  0.0000000 |  0.0000000 |  0.0000000 |  0.0000000 |  0.0000000 |  0.0000000 |  0.000000 |  0.0000000 |  0.00000000 | ⋯ |  0.0000000 |  0.00000000 |  0.0000000 |  0.00000000 | 0.00000000 |  0.0000000 |  0.0000000 |  0.0000000 |  0.0000000 |  0.0000000 |\n",
       "| DPM1 | -1.3207306 | -0.5332362 | -0.1130037 |  2.5143320 |  1.7021180 | -1.5643948 | -0.6744908 | -1.232446 |  0.7874944 | -0.42376383 | ⋯ | -1.5926457 |  0.55795571 |  0.2118819 |  1.93165678 | 2.05172320 |  1.3030738 |  5.2970478 |  0.0000000 | -0.2507269 |  2.5319889 |\n",
       "| SCYL3 |  0.0000000 |  1.3489815 | -0.1860664 | -1.0001070 | -0.8838155 |  0.8372989 | -0.6047159 |  3.930653 | -0.7675240 |  0.72100736 | ⋯ |  2.6979630 |  0.11629151 | -0.4419077 |  0.27909962 | 0.09303321 | -1.0233653 |  0.8605572 |  0.9768487 |  0.9070738 | -0.8605572 |\n",
       "| C1orf112 | -1.1933298 |  0.6226069 | -0.0518839 |  0.1556517 | -0.4150712 |  0.7782586 | -0.9857942 | -1.193330 |  0.2075356 | -0.57072295 | ⋯ |  2.1791240 |  2.17912399 | -0.5707230 | 13.17851176 | 7.99012130 | -0.7263747 |  0.4669551 | -0.2075356 | -0.3631873 | -0.4669551 |\n",
       "| FGR |  7.4193984 | 40.7392419 | 16.1877782 |  0.0000000 |  2.6979630 | -0.6744908 |  1.4838797 |  2.697963 |  2.9677593 | 13.22001889 | ⋯ | -0.6744908 | -0.67449076 |  0.6744908 | -0.40469446 | 0.00000000 |  0.6744908 |  0.4046945 | 61.1088628 | -0.6744908 |  0.5395926 |\n",
       "\n"
      ],
      "text/plain": [
       "         Alveolar.cells.type.1 Alveolar.cells.type.2 B.cells   \n",
       "TSPAN6   -0.7060459            -0.4891044            -0.5167151\n",
       "TNMD      0.0000000             0.0000000             0.0000000\n",
       "DPM1     -1.3207306            -0.5332362            -0.1130037\n",
       "SCYL3     0.0000000             1.3489815            -0.1860664\n",
       "C1orf112 -1.1933298             0.6226069            -0.0518839\n",
       "FGR       7.4193984            40.7392419            16.1877782\n",
       "         Basal.glandular.cells Basal.keratinocytes Bipolar.cells Cardiomyocytes\n",
       "TSPAN6    0.5956030            -0.5719366          -0.7967669    -0.5364371    \n",
       "TNMD      0.0000000             0.0000000           0.0000000     0.0000000    \n",
       "DPM1      2.5143320             1.7021180          -1.5643948    -0.6744908    \n",
       "SCYL3    -1.0001070            -0.8838155           0.8372989    -0.6047159    \n",
       "C1orf112  0.1556517            -0.4150712           0.7782586    -0.9857942    \n",
       "FGR       0.0000000             2.6979630          -0.6744908     1.4838797    \n",
       "         Cholangiocytes Ciliated.cells Club.cells  ⋯ Rod.photoreceptor.cells\n",
       "TSPAN6    1.585645       3.7156158      0.02761073 ⋯ -0.7652117             \n",
       "TNMD      0.000000       0.0000000      0.00000000 ⋯  0.0000000             \n",
       "DPM1     -1.232446       0.7874944     -0.42376383 ⋯ -1.5926457             \n",
       "SCYL3     3.930653      -0.7675240      0.72100736 ⋯  2.6979630             \n",
       "C1orf112 -1.193330       0.2075356     -0.57072295 ⋯  2.1791240             \n",
       "FGR       2.697963       2.9677593     13.22001889 ⋯ -0.6744908             \n",
       "         Sertoli.cells Smooth.muscle.cells Spermatocytes Spermatogonia\n",
       "TSPAN6   -0.05916586   -0.5285483          -0.07494342   0.44571612   \n",
       "TNMD      0.00000000    0.0000000           0.00000000   0.00000000   \n",
       "DPM1      0.55795571    0.2118819           1.93165678   2.05172320   \n",
       "SCYL3     0.11629151   -0.4419077           0.27909962   0.09303321   \n",
       "C1orf112  2.17912399   -0.5707230          13.17851176   7.99012130   \n",
       "FGR      -0.67449076    0.6744908          -0.40469446   0.00000000   \n",
       "         Suprabasal.keratinocytes Syncytiotrophoblasts T.cells   \n",
       "TSPAN6   -0.6429356               -0.3786615           -0.6863239\n",
       "TNMD      0.0000000                0.0000000            0.0000000\n",
       "DPM1      1.3030738                5.2970478            0.0000000\n",
       "SCYL3    -1.0233653                0.8605572            0.9768487\n",
       "C1orf112 -0.7263747                0.4669551           -0.2075356\n",
       "FGR       0.6744908                0.4046945           61.1088628\n",
       "         Undifferentiated.cells Urothelial.cells\n",
       "TSPAN6    2.2640801              2.2601357      \n",
       "TNMD      0.0000000              0.0000000      \n",
       "DPM1     -0.2507269              2.5319889      \n",
       "SCYL3     0.9070738             -0.8605572      \n",
       "C1orf112 -0.3631873             -0.4669551      \n",
       "FGR      -0.6744908              0.5395926      "
      ]
     },
     "metadata": {},
     "output_type": "display_data"
    }
   ],
   "source": [
    "head(sc_rna_mcentr)"
   ]
  },
  {
   "cell_type": "code",
   "execution_count": 49,
   "metadata": {},
   "outputs": [],
   "source": [
    "# get a list of tables with differences in med/mad scores among cell types\n",
    "diff_gen_list_sc <- mclapply(rownames(sc_rna_mcentr), function(x){\n",
    "    mygen <- x\n",
    "    gen_df <- sc_rna_mcentr[mygen,]\n",
    "    #get m-score difference across cell types\n",
    "    tab_diff <- outer(gen_df, gen_df, \"-\")\n",
    "    #keep immune cells in rows and non-immune in cols    \n",
    "    immunecells <- c(\"B.cells\", \"T.cells\", \"granulocytes\",\"Macrophages\", \"monocytes\")\n",
    "    \n",
    "    return(tab_diff[immunecells, !colnames(tab_diff) %in% immunecells])\n",
    "})\n",
    "\n",
    "names(diff_gen_list_sc) <- rownames(sc_rna_mcentr)"
   ]
  },
  {
   "cell_type": "code",
   "execution_count": 50,
   "metadata": {
    "scrolled": true
   },
   "outputs": [
    {
     "data": {
      "text/html": [
       "<strong>$NUB1</strong> = <table class=\"dataframe\">\n",
       "<caption>A matrix: 5 × 46 of type dbl</caption>\n",
       "<thead>\n",
       "\t<tr><th></th><th scope=col>Alveolar.cells.type.1</th><th scope=col>Alveolar.cells.type.2</th><th scope=col>Basal.glandular.cells</th><th scope=col>Basal.keratinocytes</th><th scope=col>Bipolar.cells</th><th scope=col>Cardiomyocytes</th><th scope=col>Cholangiocytes</th><th scope=col>Ciliated.cells</th><th scope=col>Club.cells</th><th scope=col>Collecting.duct.cells</th><th scope=col>⋯</th><th scope=col>Proximal.tubular.cells</th><th scope=col>Rod.photoreceptor.cells</th><th scope=col>Sertoli.cells</th><th scope=col>Smooth.muscle.cells</th><th scope=col>Spermatocytes</th><th scope=col>Spermatogonia</th><th scope=col>Suprabasal.keratinocytes</th><th scope=col>Syncytiotrophoblasts</th><th scope=col>Undifferentiated.cells</th><th scope=col>Urothelial.cells</th></tr>\n",
       "</thead>\n",
       "<tbody>\n",
       "\t<tr><th scope=row>B.cells</th><td>-1.56096433</td><td>-0.8415075</td><td> 1.0085243</td><td> 1.426066</td><td> 0.5652875</td><td>-0.4817791</td><td> 0.8736261</td><td>-1.8050657</td><td>-1.7665234</td><td> 1.271897</td><td>⋯</td><td> 0.8800498</td><td> 0.2633726</td><td> 1.181965</td><td> 0.3533047</td><td>-3.327488</td><td> 2.023472</td><td> 1.214083</td><td> 0.14774559</td><td> 1.432490</td><td> 0.8736261</td></tr>\n",
       "\t<tr><th scope=row>T.cells</th><td>-1.31686291</td><td>-0.5974061</td><td> 1.2526257</td><td> 1.670168</td><td> 0.8093889</td><td>-0.2376777</td><td> 1.1177275</td><td>-1.5609643</td><td>-1.5224220</td><td> 1.515998</td><td>⋯</td><td> 1.1241513</td><td> 0.5074740</td><td> 1.426066</td><td> 0.5974061</td><td>-3.083386</td><td> 2.267574</td><td> 1.458185</td><td> 0.39184701</td><td> 1.676591</td><td> 1.1177275</td></tr>\n",
       "\t<tr><th scope=row>granulocytes</th><td> 0.05781349</td><td> 0.7772703</td><td> 2.6273021</td><td> 3.044844</td><td> 2.1840653</td><td> 1.1369987</td><td> 2.4924039</td><td>-0.1862879</td><td>-0.1477456</td><td> 2.890675</td><td>⋯</td><td> 2.4988277</td><td> 1.8821504</td><td> 2.800743</td><td> 1.9720825</td><td>-1.708710</td><td> 3.642250</td><td> 2.832861</td><td> 1.76652342</td><td> 3.051268</td><td> 2.4924039</td></tr>\n",
       "\t<tr><th scope=row>Macrophages</th><td>-1.66374387</td><td>-0.9442871</td><td> 0.9057447</td><td> 1.323287</td><td> 0.4625079</td><td>-0.5845587</td><td> 0.7708466</td><td>-1.9078453</td><td>-1.8693030</td><td> 1.169117</td><td>⋯</td><td> 0.7772703</td><td> 0.1605930</td><td> 1.079185</td><td> 0.2505251</td><td>-3.430267</td><td> 1.920693</td><td> 1.111304</td><td> 0.04496605</td><td> 1.329710</td><td> 0.7708466</td></tr>\n",
       "\t<tr><th scope=row>monocytes</th><td>55.37890321</td><td>56.0983600</td><td>57.9483918</td><td>58.365934</td><td>57.5051550</td><td>56.4580884</td><td>57.8134937</td><td>55.1348018</td><td>55.1733441</td><td>58.211764</td><td>⋯</td><td>57.8199174</td><td>57.2032401</td><td>58.121832</td><td>57.2931722</td><td>53.612380</td><td>58.963340</td><td>58.153951</td><td>57.08761314</td><td>58.372357</td><td>57.8134937</td></tr>\n",
       "</tbody>\n",
       "</table>\n"
      ],
      "text/latex": [
       "\\textbf{\\$NUB1} = A matrix: 5 × 46 of type dbl\n",
       "\\begin{tabular}{r|lllllllllllllllllllll}\n",
       "  & Alveolar.cells.type.1 & Alveolar.cells.type.2 & Basal.glandular.cells & Basal.keratinocytes & Bipolar.cells & Cardiomyocytes & Cholangiocytes & Ciliated.cells & Club.cells & Collecting.duct.cells & ⋯ & Proximal.tubular.cells & Rod.photoreceptor.cells & Sertoli.cells & Smooth.muscle.cells & Spermatocytes & Spermatogonia & Suprabasal.keratinocytes & Syncytiotrophoblasts & Undifferentiated.cells & Urothelial.cells\\\\\n",
       "\\hline\n",
       "\tB.cells & -1.56096433 & -0.8415075 &  1.0085243 &  1.426066 &  0.5652875 & -0.4817791 &  0.8736261 & -1.8050657 & -1.7665234 &  1.271897 & ⋯ &  0.8800498 &  0.2633726 &  1.181965 &  0.3533047 & -3.327488 &  2.023472 &  1.214083 &  0.14774559 &  1.432490 &  0.8736261\\\\\n",
       "\tT.cells & -1.31686291 & -0.5974061 &  1.2526257 &  1.670168 &  0.8093889 & -0.2376777 &  1.1177275 & -1.5609643 & -1.5224220 &  1.515998 & ⋯ &  1.1241513 &  0.5074740 &  1.426066 &  0.5974061 & -3.083386 &  2.267574 &  1.458185 &  0.39184701 &  1.676591 &  1.1177275\\\\\n",
       "\tgranulocytes &  0.05781349 &  0.7772703 &  2.6273021 &  3.044844 &  2.1840653 &  1.1369987 &  2.4924039 & -0.1862879 & -0.1477456 &  2.890675 & ⋯ &  2.4988277 &  1.8821504 &  2.800743 &  1.9720825 & -1.708710 &  3.642250 &  2.832861 &  1.76652342 &  3.051268 &  2.4924039\\\\\n",
       "\tMacrophages & -1.66374387 & -0.9442871 &  0.9057447 &  1.323287 &  0.4625079 & -0.5845587 &  0.7708466 & -1.9078453 & -1.8693030 &  1.169117 & ⋯ &  0.7772703 &  0.1605930 &  1.079185 &  0.2505251 & -3.430267 &  1.920693 &  1.111304 &  0.04496605 &  1.329710 &  0.7708466\\\\\n",
       "\tmonocytes & 55.37890321 & 56.0983600 & 57.9483918 & 58.365934 & 57.5051550 & 56.4580884 & 57.8134937 & 55.1348018 & 55.1733441 & 58.211764 & ⋯ & 57.8199174 & 57.2032401 & 58.121832 & 57.2931722 & 53.612380 & 58.963340 & 58.153951 & 57.08761314 & 58.372357 & 57.8134937\\\\\n",
       "\\end{tabular}\n"
      ],
      "text/markdown": [
       "**$NUB1** = \n",
       "A matrix: 5 × 46 of type dbl\n",
       "\n",
       "| <!--/--> | Alveolar.cells.type.1 | Alveolar.cells.type.2 | Basal.glandular.cells | Basal.keratinocytes | Bipolar.cells | Cardiomyocytes | Cholangiocytes | Ciliated.cells | Club.cells | Collecting.duct.cells | ⋯ | Proximal.tubular.cells | Rod.photoreceptor.cells | Sertoli.cells | Smooth.muscle.cells | Spermatocytes | Spermatogonia | Suprabasal.keratinocytes | Syncytiotrophoblasts | Undifferentiated.cells | Urothelial.cells |\n",
       "|---|---|---|---|---|---|---|---|---|---|---|---|---|---|---|---|---|---|---|---|---|---|\n",
       "| B.cells | -1.56096433 | -0.8415075 |  1.0085243 |  1.426066 |  0.5652875 | -0.4817791 |  0.8736261 | -1.8050657 | -1.7665234 |  1.271897 | ⋯ |  0.8800498 |  0.2633726 |  1.181965 |  0.3533047 | -3.327488 |  2.023472 |  1.214083 |  0.14774559 |  1.432490 |  0.8736261 |\n",
       "| T.cells | -1.31686291 | -0.5974061 |  1.2526257 |  1.670168 |  0.8093889 | -0.2376777 |  1.1177275 | -1.5609643 | -1.5224220 |  1.515998 | ⋯ |  1.1241513 |  0.5074740 |  1.426066 |  0.5974061 | -3.083386 |  2.267574 |  1.458185 |  0.39184701 |  1.676591 |  1.1177275 |\n",
       "| granulocytes |  0.05781349 |  0.7772703 |  2.6273021 |  3.044844 |  2.1840653 |  1.1369987 |  2.4924039 | -0.1862879 | -0.1477456 |  2.890675 | ⋯ |  2.4988277 |  1.8821504 |  2.800743 |  1.9720825 | -1.708710 |  3.642250 |  2.832861 |  1.76652342 |  3.051268 |  2.4924039 |\n",
       "| Macrophages | -1.66374387 | -0.9442871 |  0.9057447 |  1.323287 |  0.4625079 | -0.5845587 |  0.7708466 | -1.9078453 | -1.8693030 |  1.169117 | ⋯ |  0.7772703 |  0.1605930 |  1.079185 |  0.2505251 | -3.430267 |  1.920693 |  1.111304 |  0.04496605 |  1.329710 |  0.7708466 |\n",
       "| monocytes | 55.37890321 | 56.0983600 | 57.9483918 | 58.365934 | 57.5051550 | 56.4580884 | 57.8134937 | 55.1348018 | 55.1733441 | 58.211764 | ⋯ | 57.8199174 | 57.2032401 | 58.121832 | 57.2931722 | 53.612380 | 58.963340 | 58.153951 | 57.08761314 | 58.372357 | 57.8134937 |\n",
       "\n"
      ],
      "text/plain": [
       "$NUB1\n",
       "             Alveolar.cells.type.1 Alveolar.cells.type.2 Basal.glandular.cells\n",
       "B.cells                -1.56096433            -0.8415075             1.0085243\n",
       "T.cells                -1.31686291            -0.5974061             1.2526257\n",
       "granulocytes            0.05781349             0.7772703             2.6273021\n",
       "Macrophages            -1.66374387            -0.9442871             0.9057447\n",
       "monocytes              55.37890321            56.0983600            57.9483918\n",
       "             Basal.keratinocytes Bipolar.cells Cardiomyocytes Cholangiocytes\n",
       "B.cells                 1.426066     0.5652875     -0.4817791      0.8736261\n",
       "T.cells                 1.670168     0.8093889     -0.2376777      1.1177275\n",
       "granulocytes            3.044844     2.1840653      1.1369987      2.4924039\n",
       "Macrophages             1.323287     0.4625079     -0.5845587      0.7708466\n",
       "monocytes              58.365934    57.5051550     56.4580884     57.8134937\n",
       "             Ciliated.cells Club.cells Collecting.duct.cells\n",
       "B.cells          -1.8050657 -1.7665234              1.271897\n",
       "T.cells          -1.5609643 -1.5224220              1.515998\n",
       "granulocytes     -0.1862879 -0.1477456              2.890675\n",
       "Macrophages      -1.9078453 -1.8693030              1.169117\n",
       "monocytes        55.1348018 55.1733441             58.211764\n",
       "             Cone.photoreceptor.cells Cytotrophoblasts Distal.tubular.cells\n",
       "B.cells                      2.081286        0.3276098           -0.4625079\n",
       "T.cells                      2.325387        0.5717112           -0.2184065\n",
       "granulocytes                 3.700064        1.9463876            1.1562699\n",
       "Macrophages                  1.978506        0.2248303           -0.5652875\n",
       "monocytes                   59.021153       57.2674773           56.4773596\n",
       "             Ductal.cells Early.spermatids Endothelial.cells Enterocytes\n",
       "B.cells        0.03854233        -8.813346         0.5267452  0.13489815\n",
       "T.cells        0.28264375        -8.569245         0.7708466  0.37899957\n",
       "granulocytes   1.65732015        -7.194568         2.1455230  1.75367597\n",
       "Macrophages   -0.06423722        -8.916125         0.4239656  0.03211861\n",
       "monocytes     56.97840987        48.126522        57.4666127 57.07476569\n",
       "             Erythroid.cells Exocrine.glandular.cells Extravillous.trophoblasts\n",
       "B.cells             2.839285               -1.0534903                 0.4175419\n",
       "T.cells             3.083386               -0.8093889                 0.6616433\n",
       "granulocytes        4.458063                0.5652875                 2.0363197\n",
       "Macrophages         2.736505               -1.1562699                 0.3147624\n",
       "monocytes          59.779152               55.8863772                57.3574094\n",
       "             Fibroblasts Glandular.cells Hepatocytes Hofbauer.cells\n",
       "B.cells        1.0149480      0.17986420   0.6937619      1.0856089\n",
       "T.cells        1.2590494      0.42396562   0.9378633      1.3297104\n",
       "granulocytes   2.6337258      1.79864203   2.3125397      2.7043868\n",
       "Macrophages    0.9121685      0.07708466   0.5909824      0.9828294\n",
       "monocytes     57.9548155     57.11973175  57.6336295     58.0254765\n",
       "             Horizontal.cells Intestinal.endocrine.cells  Ito.cells\n",
       "B.cells            -0.1220507                  1.0277954  0.8672024\n",
       "T.cells             0.1220507                  1.2718969  1.1113038\n",
       "granulocytes        1.4967271                  2.6465733  2.4859802\n",
       "Macrophages        -0.2248303                  0.9250159  0.7644229\n",
       "monocytes          56.8178168                 57.9676630 57.8070699\n",
       "             Kupffer.cells Late.spermatids Leydig.cells Melanocytes\n",
       "B.cells          0.6038298        1.850032    0.2119828    1.869303\n",
       "T.cells          0.8479312        2.094133    0.4560842    2.113404\n",
       "granulocytes     2.2226076        3.468810    1.8307606    3.488081\n",
       "Macrophages      0.5010503        1.747252    0.1092033    1.766523\n",
       "monocytes       57.5436974       58.789899   57.1518504   58.809171\n",
       "             Mucus.secreting.cells Muller.glia.cells Pancreatic.endocrine.cells\n",
       "B.cells                 0.17986420        -0.5460163                 -0.4689317\n",
       "T.cells                 0.42396562        -0.3019149                 -0.2248303\n",
       "granulocytes            1.79864203         1.0727615                  1.1498462\n",
       "Macrophages             0.07708466        -0.6487959                 -0.5717112\n",
       "monocytes              57.11973175        56.3938512                 56.4709359\n",
       "             Paneth.cells Peritubular.cells Proximal.tubular.cells\n",
       "B.cells          1.715134         0.3661521              0.8800498\n",
       "T.cells          1.959235         0.6102535              1.1241513\n",
       "granulocytes     3.333911         1.9849299              2.4988277\n",
       "Macrophages      1.612354         0.2633726              0.7772703\n",
       "monocytes       58.655001        57.3060197             57.8199174\n",
       "             Rod.photoreceptor.cells Sertoli.cells Smooth.muscle.cells\n",
       "B.cells                    0.2633726      1.181965           0.3533047\n",
       "T.cells                    0.5074740      1.426066           0.5974061\n",
       "granulocytes               1.8821504      2.800743           1.9720825\n",
       "Macrophages                0.1605930      1.079185           0.2505251\n",
       "monocytes                 57.2032401     58.121832          57.2931722\n",
       "             Spermatocytes Spermatogonia Suprabasal.keratinocytes\n",
       "B.cells          -3.327488      2.023472                 1.214083\n",
       "T.cells          -3.083386      2.267574                 1.458185\n",
       "granulocytes     -1.708710      3.642250                 2.832861\n",
       "Macrophages      -3.430267      1.920693                 1.111304\n",
       "monocytes        53.612380     58.963340                58.153951\n",
       "             Syncytiotrophoblasts Undifferentiated.cells Urothelial.cells\n",
       "B.cells                0.14774559               1.432490        0.8736261\n",
       "T.cells                0.39184701               1.676591        1.1177275\n",
       "granulocytes           1.76652342               3.051268        2.4924039\n",
       "Macrophages            0.04496605               1.329710        0.7708466\n",
       "monocytes             57.08761314              58.372357       57.8134937\n"
      ]
     },
     "metadata": {},
     "output_type": "display_data"
    }
   ],
   "source": [
    "diff_gen_list_sc[\"NUB1\"]"
   ]
  },
  {
   "cell_type": "markdown",
   "metadata": {},
   "source": [
    "Select genes if any immune cells express >=2 m compared to all nonimmune cells"
   ]
  },
  {
   "cell_type": "code",
   "execution_count": 51,
   "metadata": {},
   "outputs": [],
   "source": [
    "diff_gen_list_sc_immune <- lapply(diff_gen_list_sc, function(x) x[ rowSums(x >= 2) == 46,,drop = F])"
   ]
  },
  {
   "cell_type": "code",
   "execution_count": 52,
   "metadata": {},
   "outputs": [],
   "source": [
    "# remove empty lists\n",
    "diff_gen_list_sc_immune <- diff_gen_list_sc_immune[sapply(diff_gen_list_sc_immune, function(x) length(unlist(x))) >= 46]"
   ]
  },
  {
   "cell_type": "code",
   "execution_count": 53,
   "metadata": {},
   "outputs": [
    {
     "data": {
      "text/html": [
       "554"
      ],
      "text/latex": [
       "554"
      ],
      "text/markdown": [
       "554"
      ],
      "text/plain": [
       "[1] 554"
      ]
     },
     "metadata": {},
     "output_type": "display_data"
    }
   ],
   "source": [
    "length(diff_gen_list_sc_immune)"
   ]
  },
  {
   "cell_type": "code",
   "execution_count": 54,
   "metadata": {},
   "outputs": [],
   "source": [
    "diff_gen_list_sc_immune_expressed <- diff_gen_list_sc_immune[names(diff_gen_list_sc_immune) %in% sc_rna_genes]"
   ]
  },
  {
   "cell_type": "code",
   "execution_count": 55,
   "metadata": {},
   "outputs": [
    {
     "data": {
      "text/html": [
       "535"
      ],
      "text/latex": [
       "535"
      ],
      "text/markdown": [
       "535"
      ],
      "text/plain": [
       "[1] 535"
      ]
     },
     "metadata": {},
     "output_type": "display_data"
    }
   ],
   "source": [
    "length(diff_gen_list_sc_immune_expressed)"
   ]
  },
  {
   "cell_type": "code",
   "execution_count": 56,
   "metadata": {},
   "outputs": [],
   "source": [
    "pa_sc_genes <- names(diff_gen_list_sc_immune_expressed)"
   ]
  },
  {
   "cell_type": "code",
   "execution_count": 57,
   "metadata": {},
   "outputs": [
    {
     "data": {
      "text/html": [
       "<style>\n",
       ".list-inline {list-style: none; margin:0; padding: 0}\n",
       ".list-inline>li {display: inline-block}\n",
       ".list-inline>li:not(:last-child)::after {content: \"\\00b7\"; padding: 0 .5ex}\n",
       "</style>\n",
       "<ol class=list-inline><li>'SNX11'</li><li>'ALS2'</li><li>'ITGAL'</li><li>'MAP3K14'</li><li>'MATK'</li><li>'CD79B'</li></ol>\n"
      ],
      "text/latex": [
       "\\begin{enumerate*}\n",
       "\\item 'SNX11'\n",
       "\\item 'ALS2'\n",
       "\\item 'ITGAL'\n",
       "\\item 'MAP3K14'\n",
       "\\item 'MATK'\n",
       "\\item 'CD79B'\n",
       "\\end{enumerate*}\n"
      ],
      "text/markdown": [
       "1. 'SNX11'\n",
       "2. 'ALS2'\n",
       "3. 'ITGAL'\n",
       "4. 'MAP3K14'\n",
       "5. 'MATK'\n",
       "6. 'CD79B'\n",
       "\n",
       "\n"
      ],
      "text/plain": [
       "[1] \"SNX11\"   \"ALS2\"    \"ITGAL\"   \"MAP3K14\" \"MATK\"    \"CD79B\"  "
      ]
     },
     "metadata": {},
     "output_type": "display_data"
    }
   ],
   "source": [
    "head(pa_sc_genes)"
   ]
  },
  {
   "cell_type": "markdown",
   "metadata": {},
   "source": [
    "Selected 535 genes that are expressed more than 75th (of the entire dataset) in at least one cell type AND have >2 mad difference in expression between at least one immune celltype and all non-immune celltypes"
   ]
  },
  {
   "cell_type": "markdown",
   "metadata": {},
   "source": [
    "## 3- protein atlas tissue specificity data"
   ]
  },
  {
   "cell_type": "code",
   "execution_count": 58,
   "metadata": {},
   "outputs": [],
   "source": [
    "proteinatlas <- read.csv(paste0(datapath, \"TME_clusters/proteinatlas_v20.1.csv\"), header = TRUE, stringsAsFactors = FALSE)"
   ]
  },
  {
   "cell_type": "code",
   "execution_count": 59,
   "metadata": {},
   "outputs": [],
   "source": [
    "#match genes from the immune cell compendium with the proteinatlas\n",
    "gene_cells_tissuespecificity <- as.data.frame(proteinatlas$Gene)\n",
    "gene_cells_tissuespecificity$tissue <- proteinatlas$RNA.tissue.specific.NX\n",
    "colnames(gene_cells_tissuespecificity) <- c(\"Gene\", \"Tissue\")"
   ]
  },
  {
   "cell_type": "code",
   "execution_count": 60,
   "metadata": {},
   "outputs": [],
   "source": [
    "gene_cells_tissuespecificity <- gene_cells_tissuespecificity[gene_cells_tissuespecificity$Tissue != \"\",]"
   ]
  },
  {
   "cell_type": "code",
   "execution_count": 61,
   "metadata": {},
   "outputs": [
    {
     "data": {
      "text/html": [
       "<table class=\"dataframe\">\n",
       "<caption>A data.frame: 6 × 2</caption>\n",
       "<thead>\n",
       "\t<tr><th></th><th scope=col>Gene</th><th scope=col>Tissue</th></tr>\n",
       "\t<tr><th></th><th scope=col>&lt;chr&gt;</th><th scope=col>&lt;chr&gt;</th></tr>\n",
       "</thead>\n",
       "<tbody>\n",
       "\t<tr><th scope=row>1</th><td>TSPAN6  </td><td>salivary gland: 88.4                                                               </td></tr>\n",
       "\t<tr><th scope=row>2</th><td>TNMD    </td><td>adipose tissue: 18.4;seminal vesicle: 25.0                                         </td></tr>\n",
       "\t<tr><th scope=row>5</th><td>C1orf112</td><td>lymphoid tissue: 24.6                                                              </td></tr>\n",
       "\t<tr><th scope=row>6</th><td>FGR     </td><td>adipose tissue: 20.8;blood: 68.0;bone marrow: 73.6;lung: 30.9;lymphoid tissue: 54.3</td></tr>\n",
       "\t<tr><th scope=row>7</th><td>CFH     </td><td>liver: 295.2                                                                       </td></tr>\n",
       "\t<tr><th scope=row>9</th><td>GCLC    </td><td>liver: 69.2                                                                        </td></tr>\n",
       "</tbody>\n",
       "</table>\n"
      ],
      "text/latex": [
       "A data.frame: 6 × 2\n",
       "\\begin{tabular}{r|ll}\n",
       "  & Gene & Tissue\\\\\n",
       "  & <chr> & <chr>\\\\\n",
       "\\hline\n",
       "\t1 & TSPAN6   & salivary gland: 88.4                                                               \\\\\n",
       "\t2 & TNMD     & adipose tissue: 18.4;seminal vesicle: 25.0                                         \\\\\n",
       "\t5 & C1orf112 & lymphoid tissue: 24.6                                                              \\\\\n",
       "\t6 & FGR      & adipose tissue: 20.8;blood: 68.0;bone marrow: 73.6;lung: 30.9;lymphoid tissue: 54.3\\\\\n",
       "\t7 & CFH      & liver: 295.2                                                                       \\\\\n",
       "\t9 & GCLC     & liver: 69.2                                                                        \\\\\n",
       "\\end{tabular}\n"
      ],
      "text/markdown": [
       "\n",
       "A data.frame: 6 × 2\n",
       "\n",
       "| <!--/--> | Gene &lt;chr&gt; | Tissue &lt;chr&gt; |\n",
       "|---|---|---|\n",
       "| 1 | TSPAN6   | salivary gland: 88.4                                                                |\n",
       "| 2 | TNMD     | adipose tissue: 18.4;seminal vesicle: 25.0                                          |\n",
       "| 5 | C1orf112 | lymphoid tissue: 24.6                                                               |\n",
       "| 6 | FGR      | adipose tissue: 20.8;blood: 68.0;bone marrow: 73.6;lung: 30.9;lymphoid tissue: 54.3 |\n",
       "| 7 | CFH      | liver: 295.2                                                                        |\n",
       "| 9 | GCLC     | liver: 69.2                                                                         |\n",
       "\n"
      ],
      "text/plain": [
       "  Gene    \n",
       "1 TSPAN6  \n",
       "2 TNMD    \n",
       "5 C1orf112\n",
       "6 FGR     \n",
       "7 CFH     \n",
       "9 GCLC    \n",
       "  Tissue                                                                             \n",
       "1 salivary gland: 88.4                                                               \n",
       "2 adipose tissue: 18.4;seminal vesicle: 25.0                                         \n",
       "5 lymphoid tissue: 24.6                                                              \n",
       "6 adipose tissue: 20.8;blood: 68.0;bone marrow: 73.6;lung: 30.9;lymphoid tissue: 54.3\n",
       "7 liver: 295.2                                                                       \n",
       "9 liver: 69.2                                                                        "
      ]
     },
     "metadata": {},
     "output_type": "display_data"
    }
   ],
   "source": [
    "head(gene_cells_tissuespecificity)"
   ]
  },
  {
   "cell_type": "code",
   "execution_count": 62,
   "metadata": {},
   "outputs": [],
   "source": [
    "#separate rows\n",
    "gene_cells_tissuespecificity_sep <- separate_rows(gene_cells_tissuespecificity, Tissue,sep = \";\")"
   ]
  },
  {
   "cell_type": "code",
   "execution_count": 63,
   "metadata": {},
   "outputs": [],
   "source": [
    "#seprate gene expression as a new column\n",
    "gene_cells_tissuespecificity_sep$NX <- gsub(\".*:\", \"\", gene_cells_tissuespecificity_sep$Tissue)\n",
    "gene_cells_tissuespecificity_sep$Tissue <- gsub(\":.*\", \"\", gene_cells_tissuespecificity_sep$Tissue)\n",
    "gene_cells_tissuespecificity_sep$NX <- as.numeric(gene_cells_tissuespecificity_sep$NX)"
   ]
  },
  {
   "cell_type": "code",
   "execution_count": 64,
   "metadata": {},
   "outputs": [],
   "source": [
    "# group some blood related tissues - keep others the same as tissue\n",
    "gene_cells_tissuespecificity_sep$Tissuegroup <- NA\n",
    "gene_cells_tissuespecificity_sep$Tissuegroup[ grepl(\"blood\", gene_cells_tissuespecificity_sep$Tissue)] <- \"Blood\"\n",
    "gene_cells_tissuespecificity_sep$Tissuegroup[ grepl(\"lymphoid\", gene_cells_tissuespecificity_sep$Tissue)] <- \"Blood\"\n",
    "gene_cells_tissuespecificity_sep$Tissuegroup[ grepl(\"marrow\", gene_cells_tissuespecificity_sep$Tissue)] <- \"Blood\"\n",
    "gene_cells_tissuespecificity_sep$Tissuegroup[ is.na(gene_cells_tissuespecificity_sep$Tissuegroup)] <- \n",
    " gene_cells_tissuespecificity_sep$Tissue[ is.na(gene_cells_tissuespecificity_sep$Tissuegroup)]"
   ]
  },
  {
   "cell_type": "code",
   "execution_count": 65,
   "metadata": {},
   "outputs": [
    {
     "data": {
      "text/plain": [
       "\n",
       "   adipose tissue     adrenal gland             Blood             brain \n",
       "              212               228              3351              2587 \n",
       "           breast   cervix, uterine   ductus deferens     endometrium 1 \n",
       "              187               131               115                85 \n",
       "       epididymis         esophagus    fallopian tube       gallbladder \n",
       "              412               311               312               161 \n",
       "     heart muscle         intestine            kidney             liver \n",
       "              387               764               413               936 \n",
       "             lung             ovary          pancreas parathyroid gland \n",
       "              239               173               422               224 \n",
       "  pituitary gland          placenta          prostate            retina \n",
       "              353               494               120               310 \n",
       "   salivary gland   seminal vesicle   skeletal muscle            skin 1 \n",
       "              319               180               907               547 \n",
       "    smooth muscle         stomach 1            testis     thyroid gland \n",
       "              112               159              2274               199 \n",
       "           tongue   urinary bladder            vagina \n",
       "              375                99                91 "
      ]
     },
     "metadata": {},
     "output_type": "display_data"
    }
   ],
   "source": [
    "table(gene_cells_tissuespecificity_sep$Tissuegroup)"
   ]
  },
  {
   "cell_type": "code",
   "execution_count": 66,
   "metadata": {},
   "outputs": [
    {
     "data": {
      "text/html": [
       "<table class=\"dataframe\">\n",
       "<caption>A tibble: 10 × 4</caption>\n",
       "<thead>\n",
       "\t<tr><th scope=col>Gene</th><th scope=col>Tissue</th><th scope=col>NX</th><th scope=col>Tissuegroup</th></tr>\n",
       "\t<tr><th scope=col>&lt;chr&gt;</th><th scope=col>&lt;chr&gt;</th><th scope=col>&lt;dbl&gt;</th><th scope=col>&lt;chr&gt;</th></tr>\n",
       "</thead>\n",
       "<tbody>\n",
       "\t<tr><td>TSPAN6  </td><td>salivary gland </td><td> 88.4</td><td>salivary gland </td></tr>\n",
       "\t<tr><td>TNMD    </td><td>adipose tissue </td><td> 18.4</td><td>adipose tissue </td></tr>\n",
       "\t<tr><td>TNMD    </td><td>seminal vesicle</td><td> 25.0</td><td>seminal vesicle</td></tr>\n",
       "\t<tr><td>C1orf112</td><td>lymphoid tissue</td><td> 24.6</td><td>Blood          </td></tr>\n",
       "\t<tr><td>FGR     </td><td>adipose tissue </td><td> 20.8</td><td>adipose tissue </td></tr>\n",
       "\t<tr><td>FGR     </td><td>blood          </td><td> 68.0</td><td>Blood          </td></tr>\n",
       "\t<tr><td>FGR     </td><td>bone marrow    </td><td> 73.6</td><td>Blood          </td></tr>\n",
       "\t<tr><td>FGR     </td><td>lung           </td><td> 30.9</td><td>lung           </td></tr>\n",
       "\t<tr><td>FGR     </td><td>lymphoid tissue</td><td> 54.3</td><td>Blood          </td></tr>\n",
       "\t<tr><td>CFH     </td><td>liver          </td><td>295.2</td><td>liver          </td></tr>\n",
       "</tbody>\n",
       "</table>\n"
      ],
      "text/latex": [
       "A tibble: 10 × 4\n",
       "\\begin{tabular}{llll}\n",
       " Gene & Tissue & NX & Tissuegroup\\\\\n",
       " <chr> & <chr> & <dbl> & <chr>\\\\\n",
       "\\hline\n",
       "\t TSPAN6   & salivary gland  &  88.4 & salivary gland \\\\\n",
       "\t TNMD     & adipose tissue  &  18.4 & adipose tissue \\\\\n",
       "\t TNMD     & seminal vesicle &  25.0 & seminal vesicle\\\\\n",
       "\t C1orf112 & lymphoid tissue &  24.6 & Blood          \\\\\n",
       "\t FGR      & adipose tissue  &  20.8 & adipose tissue \\\\\n",
       "\t FGR      & blood           &  68.0 & Blood          \\\\\n",
       "\t FGR      & bone marrow     &  73.6 & Blood          \\\\\n",
       "\t FGR      & lung            &  30.9 & lung           \\\\\n",
       "\t FGR      & lymphoid tissue &  54.3 & Blood          \\\\\n",
       "\t CFH      & liver           & 295.2 & liver          \\\\\n",
       "\\end{tabular}\n"
      ],
      "text/markdown": [
       "\n",
       "A tibble: 10 × 4\n",
       "\n",
       "| Gene &lt;chr&gt; | Tissue &lt;chr&gt; | NX &lt;dbl&gt; | Tissuegroup &lt;chr&gt; |\n",
       "|---|---|---|---|\n",
       "| TSPAN6   | salivary gland  |  88.4 | salivary gland  |\n",
       "| TNMD     | adipose tissue  |  18.4 | adipose tissue  |\n",
       "| TNMD     | seminal vesicle |  25.0 | seminal vesicle |\n",
       "| C1orf112 | lymphoid tissue |  24.6 | Blood           |\n",
       "| FGR      | adipose tissue  |  20.8 | adipose tissue  |\n",
       "| FGR      | blood           |  68.0 | Blood           |\n",
       "| FGR      | bone marrow     |  73.6 | Blood           |\n",
       "| FGR      | lung            |  30.9 | lung            |\n",
       "| FGR      | lymphoid tissue |  54.3 | Blood           |\n",
       "| CFH      | liver           | 295.2 | liver           |\n",
       "\n"
      ],
      "text/plain": [
       "   Gene     Tissue          NX    Tissuegroup    \n",
       "1  TSPAN6   salivary gland   88.4 salivary gland \n",
       "2  TNMD     adipose tissue   18.4 adipose tissue \n",
       "3  TNMD     seminal vesicle  25.0 seminal vesicle\n",
       "4  C1orf112 lymphoid tissue  24.6 Blood          \n",
       "5  FGR      adipose tissue   20.8 adipose tissue \n",
       "6  FGR      blood            68.0 Blood          \n",
       "7  FGR      bone marrow      73.6 Blood          \n",
       "8  FGR      lung             30.9 lung           \n",
       "9  FGR      lymphoid tissue  54.3 Blood          \n",
       "10 CFH      liver           295.2 liver          "
      ]
     },
     "metadata": {},
     "output_type": "display_data"
    }
   ],
   "source": [
    "head(gene_cells_tissuespecificity_sep,10)"
   ]
  },
  {
   "cell_type": "code",
   "execution_count": 67,
   "metadata": {},
   "outputs": [],
   "source": [
    "#rm genes if more than one tissuegroup\n",
    "gene_cells_tissuespecificity_sep_specific <- gene_cells_tissuespecificity_sep[0,]\n",
    "\n",
    "for(g in unique(gene_cells_tissuespecificity_sep$Gene)){\n",
    "    tmp <- gene_cells_tissuespecificity_sep[ gene_cells_tissuespecificity_sep$Gene == g,]\n",
    "    if(nrow(tmp) == 1){ \n",
    "    gene_cells_tissuespecificity_sep_specific <- rbind(gene_cells_tissuespecificity_sep_specific, tmp)\n",
    "    } else{\n",
    "    if(length(unique(tmp$Tissuegroup)) == 1){ \n",
    "    gene_cells_tissuespecificity_sep_specific <- rbind(gene_cells_tissuespecificity_sep_specific, tmp)\n",
    "    }}\n",
    "    \n",
    "}"
   ]
  },
  {
   "cell_type": "code",
   "execution_count": 68,
   "metadata": {},
   "outputs": [
    {
     "data": {
      "text/html": [
       "<style>\n",
       ".list-inline {list-style: none; margin:0; padding: 0}\n",
       ".list-inline>li {display: inline-block}\n",
       ".list-inline>li:not(:last-child)::after {content: \"\\00b7\"; padding: 0 .5ex}\n",
       "</style>\n",
       "<ol class=list-inline><li>18189</li><li>4</li></ol>\n"
      ],
      "text/latex": [
       "\\begin{enumerate*}\n",
       "\\item 18189\n",
       "\\item 4\n",
       "\\end{enumerate*}\n"
      ],
      "text/markdown": [
       "1. 18189\n",
       "2. 4\n",
       "\n",
       "\n"
      ],
      "text/plain": [
       "[1] 18189     4"
      ]
     },
     "metadata": {},
     "output_type": "display_data"
    },
    {
     "data": {
      "text/html": [
       "<style>\n",
       ".list-inline {list-style: none; margin:0; padding: 0}\n",
       ".list-inline>li {display: inline-block}\n",
       ".list-inline>li:not(:last-child)::after {content: \"\\00b7\"; padding: 0 .5ex}\n",
       "</style>\n",
       "<ol class=list-inline><li>7206</li><li>4</li></ol>\n"
      ],
      "text/latex": [
       "\\begin{enumerate*}\n",
       "\\item 7206\n",
       "\\item 4\n",
       "\\end{enumerate*}\n"
      ],
      "text/markdown": [
       "1. 7206\n",
       "2. 4\n",
       "\n",
       "\n"
      ],
      "text/plain": [
       "[1] 7206    4"
      ]
     },
     "metadata": {},
     "output_type": "display_data"
    }
   ],
   "source": [
    "dim(gene_cells_tissuespecificity_sep)\n",
    "dim(gene_cells_tissuespecificity_sep_specific)"
   ]
  },
  {
   "cell_type": "code",
   "execution_count": 69,
   "metadata": {},
   "outputs": [],
   "source": [
    "# keep only blood related genes\n",
    "blood_specific <- gene_cells_tissuespecificity_sep_specific[ gene_cells_tissuespecificity_sep_specific$Tissuegroup == \"Blood\",]"
   ]
  },
  {
   "cell_type": "code",
   "execution_count": 70,
   "metadata": {},
   "outputs": [
    {
     "data": {
      "text/html": [
       "<style>\n",
       ".list-inline {list-style: none; margin:0; padding: 0}\n",
       ".list-inline>li {display: inline-block}\n",
       ".list-inline>li:not(:last-child)::after {content: \"\\00b7\"; padding: 0 .5ex}\n",
       "</style>\n",
       "<ol class=list-inline><li>1791</li><li>4</li></ol>\n"
      ],
      "text/latex": [
       "\\begin{enumerate*}\n",
       "\\item 1791\n",
       "\\item 4\n",
       "\\end{enumerate*}\n"
      ],
      "text/markdown": [
       "1. 1791\n",
       "2. 4\n",
       "\n",
       "\n"
      ],
      "text/plain": [
       "[1] 1791    4"
      ]
     },
     "metadata": {},
     "output_type": "display_data"
    }
   ],
   "source": [
    "dim(blood_specific)"
   ]
  },
  {
   "cell_type": "code",
   "execution_count": 71,
   "metadata": {},
   "outputs": [],
   "source": [
    "pa_blood_genes <- blood_specific$Gene[!duplicated(blood_specific$Gene)]"
   ]
  },
  {
   "cell_type": "code",
   "execution_count": 72,
   "metadata": {},
   "outputs": [
    {
     "data": {
      "text/html": [
       "<style>\n",
       ".list-inline {list-style: none; margin:0; padding: 0}\n",
       ".list-inline>li {display: inline-block}\n",
       ".list-inline>li:not(:last-child)::after {content: \"\\00b7\"; padding: 0 .5ex}\n",
       "</style>\n",
       "<ol class=list-inline><li>'C1orf112'</li><li>'MCUB'</li><li>'MPO'</li><li>'ITGAL'</li><li>'ALDH3B1'</li><li>'CEACAM21'</li></ol>\n"
      ],
      "text/latex": [
       "\\begin{enumerate*}\n",
       "\\item 'C1orf112'\n",
       "\\item 'MCUB'\n",
       "\\item 'MPO'\n",
       "\\item 'ITGAL'\n",
       "\\item 'ALDH3B1'\n",
       "\\item 'CEACAM21'\n",
       "\\end{enumerate*}\n"
      ],
      "text/markdown": [
       "1. 'C1orf112'\n",
       "2. 'MCUB'\n",
       "3. 'MPO'\n",
       "4. 'ITGAL'\n",
       "5. 'ALDH3B1'\n",
       "6. 'CEACAM21'\n",
       "\n",
       "\n"
      ],
      "text/plain": [
       "[1] \"C1orf112\" \"MCUB\"     \"MPO\"      \"ITGAL\"    \"ALDH3B1\"  \"CEACAM21\""
      ]
     },
     "metadata": {},
     "output_type": "display_data"
    }
   ],
   "source": [
    "head(pa_blood_genes)"
   ]
  },
  {
   "cell_type": "code",
   "execution_count": 73,
   "metadata": {},
   "outputs": [
    {
     "data": {
      "text/html": [
       "1257"
      ],
      "text/latex": [
       "1257"
      ],
      "text/markdown": [
       "1257"
      ],
      "text/plain": [
       "[1] 1257"
      ]
     },
     "metadata": {},
     "output_type": "display_data"
    }
   ],
   "source": [
    "length(pa_blood_genes)"
   ]
  },
  {
   "cell_type": "markdown",
   "metadata": {},
   "source": [
    "1257 genes are specific to blood related tissues according to pan-tissue analysis using protein atlas"
   ]
  },
  {
   "cell_type": "markdown",
   "metadata": {},
   "source": [
    "## 4- ImmuneScore genes from ESTIMATE"
   ]
  },
  {
   "cell_type": "code",
   "execution_count": 74,
   "metadata": {},
   "outputs": [],
   "source": [
    "# Yoshihara suppl data 1\n",
    "estimate_sigs <- read.csv(file = paste0(datapath, \"TME_clusters/ESTIMATE_genesig.csv\"),\n",
    "                          header = T, stringsAsFactors = F, check.names = F, skip = 1)"
   ]
  },
  {
   "cell_type": "code",
   "execution_count": 75,
   "metadata": {},
   "outputs": [],
   "source": [
    "immunescore_genes <- estimate_sigs$Gene[ estimate_sigs$Set == \"Immune141_UP\"]"
   ]
  },
  {
   "cell_type": "code",
   "execution_count": 76,
   "metadata": {},
   "outputs": [
    {
     "data": {
      "text/html": [
       "141"
      ],
      "text/latex": [
       "141"
      ],
      "text/markdown": [
       "141"
      ],
      "text/plain": [
       "[1] 141"
      ]
     },
     "metadata": {},
     "output_type": "display_data"
    }
   ],
   "source": [
    "length(immunescore_genes)"
   ]
  },
  {
   "cell_type": "markdown",
   "metadata": {},
   "source": [
    "141 genes are used in ESTIMATE ImmuneScore that we benchmarked"
   ]
  },
  {
   "cell_type": "markdown",
   "metadata": {},
   "source": [
    "## Compile all immune genes"
   ]
  },
  {
   "cell_type": "code",
   "execution_count": 77,
   "metadata": {},
   "outputs": [],
   "source": [
    "tmp <- c(compendium_immune_genes, pa_sc_genes, pa_blood_genes, immunescore_genes)"
   ]
  },
  {
   "cell_type": "code",
   "execution_count": 78,
   "metadata": {},
   "outputs": [],
   "source": [
    "immune_genes <- tmp[!duplicated(tmp)]"
   ]
  },
  {
   "cell_type": "code",
   "execution_count": 79,
   "metadata": {},
   "outputs": [
    {
     "data": {
      "text/html": [
       "3041"
      ],
      "text/latex": [
       "3041"
      ],
      "text/markdown": [
       "3041"
      ],
      "text/plain": [
       "[1] 3041"
      ]
     },
     "metadata": {},
     "output_type": "display_data"
    }
   ],
   "source": [
    "length(immune_genes)"
   ]
  },
  {
   "cell_type": "markdown",
   "metadata": {},
   "source": [
    "# Filter out genes expressed in pediatric tumour/non-immune cells"
   ]
  },
  {
   "cell_type": "markdown",
   "metadata": {},
   "source": [
    "## 1- PDX"
   ]
  },
  {
   "cell_type": "code",
   "execution_count": 80,
   "metadata": {},
   "outputs": [],
   "source": [
    "pdx_mat1 <- read.table(paste0(datapath, \"exp_mat/PDX_2017Oct06.normalizedTPMs_perGencodeV26Gene.sleuth.txt\"), sep = \"\\t\",\n",
    "                             header = TRUE, check.names = F,\n",
    "                             stringsAsFactors = FALSE)"
   ]
  },
  {
   "cell_type": "code",
   "execution_count": 81,
   "metadata": {},
   "outputs": [
    {
     "data": {
      "text/html": [
       "<table class=\"dataframe\">\n",
       "<caption>A data.frame: 6 × 4</caption>\n",
       "<thead>\n",
       "\t<tr><th></th><th scope=col>sample</th><th scope=col>target_id</th><th scope=col>scaled_reads_per_base</th><th scope=col>tpm</th></tr>\n",
       "\t<tr><th></th><th scope=col>&lt;chr&gt;</th><th scope=col>&lt;chr&gt;</th><th scope=col>&lt;dbl&gt;</th><th scope=col>&lt;dbl&gt;</th></tr>\n",
       "</thead>\n",
       "<tbody>\n",
       "\t<tr><th scope=row>1</th><td>BT084_XP3_2   </td><td>7SK</td><td>0.0000000</td><td>0.00000000</td></tr>\n",
       "\t<tr><th scope=row>2</th><td>BT084_XP5_845 </td><td>7SK</td><td>0.0000000</td><td>0.00000000</td></tr>\n",
       "\t<tr><th scope=row>3</th><td>Icb_984MB_XP11</td><td>7SK</td><td>0.0000000</td><td>0.00000000</td></tr>\n",
       "\t<tr><th scope=row>4</th><td>Med113FH_P0-4 </td><td>7SK</td><td>0.6526691</td><td>0.05560582</td></tr>\n",
       "\t<tr><th scope=row>5</th><td>Med113FH_P5-2 </td><td>7SK</td><td>0.6021602</td><td>0.04985232</td></tr>\n",
       "\t<tr><th scope=row>6</th><td>Med114FH_P5-3 </td><td>7SK</td><td>0.0000000</td><td>0.00000000</td></tr>\n",
       "</tbody>\n",
       "</table>\n"
      ],
      "text/latex": [
       "A data.frame: 6 × 4\n",
       "\\begin{tabular}{r|llll}\n",
       "  & sample & target\\_id & scaled\\_reads\\_per\\_base & tpm\\\\\n",
       "  & <chr> & <chr> & <dbl> & <dbl>\\\\\n",
       "\\hline\n",
       "\t1 & BT084\\_XP3\\_2    & 7SK & 0.0000000 & 0.00000000\\\\\n",
       "\t2 & BT084\\_XP5\\_845  & 7SK & 0.0000000 & 0.00000000\\\\\n",
       "\t3 & Icb\\_984MB\\_XP11 & 7SK & 0.0000000 & 0.00000000\\\\\n",
       "\t4 & Med113FH\\_P0-4  & 7SK & 0.6526691 & 0.05560582\\\\\n",
       "\t5 & Med113FH\\_P5-2  & 7SK & 0.6021602 & 0.04985232\\\\\n",
       "\t6 & Med114FH\\_P5-3  & 7SK & 0.0000000 & 0.00000000\\\\\n",
       "\\end{tabular}\n"
      ],
      "text/markdown": [
       "\n",
       "A data.frame: 6 × 4\n",
       "\n",
       "| <!--/--> | sample &lt;chr&gt; | target_id &lt;chr&gt; | scaled_reads_per_base &lt;dbl&gt; | tpm &lt;dbl&gt; |\n",
       "|---|---|---|---|---|\n",
       "| 1 | BT084_XP3_2    | 7SK | 0.0000000 | 0.00000000 |\n",
       "| 2 | BT084_XP5_845  | 7SK | 0.0000000 | 0.00000000 |\n",
       "| 3 | Icb_984MB_XP11 | 7SK | 0.0000000 | 0.00000000 |\n",
       "| 4 | Med113FH_P0-4  | 7SK | 0.6526691 | 0.05560582 |\n",
       "| 5 | Med113FH_P5-2  | 7SK | 0.6021602 | 0.04985232 |\n",
       "| 6 | Med114FH_P5-3  | 7SK | 0.0000000 | 0.00000000 |\n",
       "\n"
      ],
      "text/plain": [
       "  sample         target_id scaled_reads_per_base tpm       \n",
       "1 BT084_XP3_2    7SK       0.0000000             0.00000000\n",
       "2 BT084_XP5_845  7SK       0.0000000             0.00000000\n",
       "3 Icb_984MB_XP11 7SK       0.0000000             0.00000000\n",
       "4 Med113FH_P0-4  7SK       0.6526691             0.05560582\n",
       "5 Med113FH_P5-2  7SK       0.6021602             0.04985232\n",
       "6 Med114FH_P5-3  7SK       0.0000000             0.00000000"
      ]
     },
     "metadata": {},
     "output_type": "display_data"
    }
   ],
   "source": [
    "head(pdx_mat1)"
   ]
  },
  {
   "cell_type": "code",
   "execution_count": 82,
   "metadata": {},
   "outputs": [],
   "source": [
    "pdx_mat1$scaled_reads_per_base <- NULL\n",
    "pdx_mat_tpm <- longtowidefx(pdx_mat1)\n",
    "rownames(pdx_mat_tpm) <- pdx_mat_tpm$target_id\n",
    "pdx_mat_tpm$target_id <- NULL"
   ]
  },
  {
   "cell_type": "code",
   "execution_count": 83,
   "metadata": {},
   "outputs": [
    {
     "data": {
      "text/html": [
       "<style>\n",
       ".list-inline {list-style: none; margin:0; padding: 0}\n",
       ".list-inline>li {display: inline-block}\n",
       ".list-inline>li:not(:last-child)::after {content: \"\\00b7\"; padding: 0 .5ex}\n",
       "</style>\n",
       "<ol class=list-inline><li>51472</li><li>20</li></ol>\n"
      ],
      "text/latex": [
       "\\begin{enumerate*}\n",
       "\\item 51472\n",
       "\\item 20\n",
       "\\end{enumerate*}\n"
      ],
      "text/markdown": [
       "1. 51472\n",
       "2. 20\n",
       "\n",
       "\n"
      ],
      "text/plain": [
       "[1] 51472    20"
      ]
     },
     "metadata": {},
     "output_type": "display_data"
    }
   ],
   "source": [
    "dim(pdx_mat_tpm)"
   ]
  },
  {
   "cell_type": "code",
   "execution_count": 84,
   "metadata": {},
   "outputs": [],
   "source": [
    "pdx_mat <- read.table(paste0(datapath, \"exp_mat/RNAseq_itcc-P4_TPM_values_210726.tsv\"), sep = \"\\t\",\n",
    "                      header = TRUE, check.names = F, comment.char = \"\", stringsAsFactors = FALSE)"
   ]
  },
  {
   "cell_type": "code",
   "execution_count": 85,
   "metadata": {},
   "outputs": [
    {
     "data": {
      "text/html": [
       "<table class=\"dataframe\">\n",
       "<caption>A data.frame: 10 × 10</caption>\n",
       "<thead>\n",
       "\t<tr><th></th><th scope=col>#chrom</th><th scope=col>chromStart</th><th scope=col>chromEnd</th><th scope=col>gene_id</th><th scope=col>score</th><th scope=col>strand</th><th scope=col>name</th><th scope=col>exonic_length</th><th scope=col>ITCC-P4_s01_EP0027_TP01_F01_R01_A03</th><th scope=col>ITCC-P4_s01_EP0027_PP01_F01_R01_A03</th></tr>\n",
       "\t<tr><th></th><th scope=col>&lt;chr&gt;</th><th scope=col>&lt;int&gt;</th><th scope=col>&lt;int&gt;</th><th scope=col>&lt;chr&gt;</th><th scope=col>&lt;chr&gt;</th><th scope=col>&lt;chr&gt;</th><th scope=col>&lt;chr&gt;</th><th scope=col>&lt;int&gt;</th><th scope=col>&lt;dbl&gt;</th><th scope=col>&lt;dbl&gt;</th></tr>\n",
       "</thead>\n",
       "<tbody>\n",
       "\t<tr><th scope=row>1</th><td>1</td><td> 11869</td><td> 14412</td><td>ENSG00000223972.4</td><td>.</td><td>+</td><td>DDX11L1     </td><td>1756</td><td> 0.00000000</td><td>  0.00000000</td></tr>\n",
       "\t<tr><th scope=row>2</th><td>1</td><td> 14363</td><td> 29806</td><td>ENSG00000227232.4</td><td>.</td><td>-</td><td>WASH7P      </td><td>2073</td><td>88.16388486</td><td>124.73545549</td></tr>\n",
       "\t<tr><th scope=row>3</th><td>1</td><td> 29554</td><td> 31109</td><td>ENSG00000243485.2</td><td>.</td><td>+</td><td>MIR1302-11  </td><td>1021</td><td> 0.18749550</td><td>  0.03864177</td></tr>\n",
       "\t<tr><th scope=row>4</th><td>1</td><td> 34554</td><td> 36081</td><td>ENSG00000237613.2</td><td>.</td><td>-</td><td>FAM138A     </td><td>1219</td><td> 0.00000000</td><td>  0.00000000</td></tr>\n",
       "\t<tr><th scope=row>5</th><td>1</td><td> 52473</td><td> 54936</td><td>ENSG00000268020.2</td><td>.</td><td>+</td><td>OR4G4P      </td><td> 947</td><td> 0.00000000</td><td>  0.00000000</td></tr>\n",
       "\t<tr><th scope=row>6</th><td>1</td><td> 62948</td><td> 63887</td><td>ENSG00000240361.1</td><td>.</td><td>+</td><td>OR4G11P     </td><td> 940</td><td> 0.00000000</td><td>  0.00000000</td></tr>\n",
       "\t<tr><th scope=row>7</th><td>1</td><td> 69091</td><td> 70008</td><td>ENSG00000186092.4</td><td>.</td><td>+</td><td>OR4F5       </td><td> 918</td><td> 0.00000000</td><td>  0.00000000</td></tr>\n",
       "\t<tr><th scope=row>8</th><td>1</td><td> 89295</td><td>133566</td><td>ENSG00000238009.2</td><td>.</td><td>-</td><td>RP11-34P13.7</td><td>3569</td><td> 0.14558801</td><td>  0.09948984</td></tr>\n",
       "\t<tr><th scope=row>9</th><td>1</td><td> 89551</td><td> 91105</td><td>ENSG00000239945.1</td><td>.</td><td>-</td><td>RP11-34P13.8</td><td>1319</td><td> 0.00000000</td><td>  0.00000000</td></tr>\n",
       "\t<tr><th scope=row>10</th><td>1</td><td>131025</td><td>134836</td><td>ENSG00000233750.3</td><td>.</td><td>+</td><td>CICP27      </td><td>3812</td><td> 0.02152221</td><td>  0.22769452</td></tr>\n",
       "</tbody>\n",
       "</table>\n"
      ],
      "text/latex": [
       "A data.frame: 10 × 10\n",
       "\\begin{tabular}{r|llllllllll}\n",
       "  & \\#chrom & chromStart & chromEnd & gene\\_id & score & strand & name & exonic\\_length & ITCC-P4\\_s01\\_EP0027\\_TP01\\_F01\\_R01\\_A03 & ITCC-P4\\_s01\\_EP0027\\_PP01\\_F01\\_R01\\_A03\\\\\n",
       "  & <chr> & <int> & <int> & <chr> & <chr> & <chr> & <chr> & <int> & <dbl> & <dbl>\\\\\n",
       "\\hline\n",
       "\t1 & 1 &  11869 &  14412 & ENSG00000223972.4 & . & + & DDX11L1      & 1756 &  0.00000000 &   0.00000000\\\\\n",
       "\t2 & 1 &  14363 &  29806 & ENSG00000227232.4 & . & - & WASH7P       & 2073 & 88.16388486 & 124.73545549\\\\\n",
       "\t3 & 1 &  29554 &  31109 & ENSG00000243485.2 & . & + & MIR1302-11   & 1021 &  0.18749550 &   0.03864177\\\\\n",
       "\t4 & 1 &  34554 &  36081 & ENSG00000237613.2 & . & - & FAM138A      & 1219 &  0.00000000 &   0.00000000\\\\\n",
       "\t5 & 1 &  52473 &  54936 & ENSG00000268020.2 & . & + & OR4G4P       &  947 &  0.00000000 &   0.00000000\\\\\n",
       "\t6 & 1 &  62948 &  63887 & ENSG00000240361.1 & . & + & OR4G11P      &  940 &  0.00000000 &   0.00000000\\\\\n",
       "\t7 & 1 &  69091 &  70008 & ENSG00000186092.4 & . & + & OR4F5        &  918 &  0.00000000 &   0.00000000\\\\\n",
       "\t8 & 1 &  89295 & 133566 & ENSG00000238009.2 & . & - & RP11-34P13.7 & 3569 &  0.14558801 &   0.09948984\\\\\n",
       "\t9 & 1 &  89551 &  91105 & ENSG00000239945.1 & . & - & RP11-34P13.8 & 1319 &  0.00000000 &   0.00000000\\\\\n",
       "\t10 & 1 & 131025 & 134836 & ENSG00000233750.3 & . & + & CICP27       & 3812 &  0.02152221 &   0.22769452\\\\\n",
       "\\end{tabular}\n"
      ],
      "text/markdown": [
       "\n",
       "A data.frame: 10 × 10\n",
       "\n",
       "| <!--/--> | #chrom &lt;chr&gt; | chromStart &lt;int&gt; | chromEnd &lt;int&gt; | gene_id &lt;chr&gt; | score &lt;chr&gt; | strand &lt;chr&gt; | name &lt;chr&gt; | exonic_length &lt;int&gt; | ITCC-P4_s01_EP0027_TP01_F01_R01_A03 &lt;dbl&gt; | ITCC-P4_s01_EP0027_PP01_F01_R01_A03 &lt;dbl&gt; |\n",
       "|---|---|---|---|---|---|---|---|---|---|---|\n",
       "| 1 | 1 |  11869 |  14412 | ENSG00000223972.4 | . | + | DDX11L1      | 1756 |  0.00000000 |   0.00000000 |\n",
       "| 2 | 1 |  14363 |  29806 | ENSG00000227232.4 | . | - | WASH7P       | 2073 | 88.16388486 | 124.73545549 |\n",
       "| 3 | 1 |  29554 |  31109 | ENSG00000243485.2 | . | + | MIR1302-11   | 1021 |  0.18749550 |   0.03864177 |\n",
       "| 4 | 1 |  34554 |  36081 | ENSG00000237613.2 | . | - | FAM138A      | 1219 |  0.00000000 |   0.00000000 |\n",
       "| 5 | 1 |  52473 |  54936 | ENSG00000268020.2 | . | + | OR4G4P       |  947 |  0.00000000 |   0.00000000 |\n",
       "| 6 | 1 |  62948 |  63887 | ENSG00000240361.1 | . | + | OR4G11P      |  940 |  0.00000000 |   0.00000000 |\n",
       "| 7 | 1 |  69091 |  70008 | ENSG00000186092.4 | . | + | OR4F5        |  918 |  0.00000000 |   0.00000000 |\n",
       "| 8 | 1 |  89295 | 133566 | ENSG00000238009.2 | . | - | RP11-34P13.7 | 3569 |  0.14558801 |   0.09948984 |\n",
       "| 9 | 1 |  89551 |  91105 | ENSG00000239945.1 | . | - | RP11-34P13.8 | 1319 |  0.00000000 |   0.00000000 |\n",
       "| 10 | 1 | 131025 | 134836 | ENSG00000233750.3 | . | + | CICP27       | 3812 |  0.02152221 |   0.22769452 |\n",
       "\n"
      ],
      "text/plain": [
       "   #chrom chromStart chromEnd gene_id           score strand name        \n",
       "1  1       11869      14412   ENSG00000223972.4 .     +      DDX11L1     \n",
       "2  1       14363      29806   ENSG00000227232.4 .     -      WASH7P      \n",
       "3  1       29554      31109   ENSG00000243485.2 .     +      MIR1302-11  \n",
       "4  1       34554      36081   ENSG00000237613.2 .     -      FAM138A     \n",
       "5  1       52473      54936   ENSG00000268020.2 .     +      OR4G4P      \n",
       "6  1       62948      63887   ENSG00000240361.1 .     +      OR4G11P     \n",
       "7  1       69091      70008   ENSG00000186092.4 .     +      OR4F5       \n",
       "8  1       89295     133566   ENSG00000238009.2 .     -      RP11-34P13.7\n",
       "9  1       89551      91105   ENSG00000239945.1 .     -      RP11-34P13.8\n",
       "10 1      131025     134836   ENSG00000233750.3 .     +      CICP27      \n",
       "   exonic_length ITCC-P4_s01_EP0027_TP01_F01_R01_A03\n",
       "1  1756           0.00000000                        \n",
       "2  2073          88.16388486                        \n",
       "3  1021           0.18749550                        \n",
       "4  1219           0.00000000                        \n",
       "5   947           0.00000000                        \n",
       "6   940           0.00000000                        \n",
       "7   918           0.00000000                        \n",
       "8  3569           0.14558801                        \n",
       "9  1319           0.00000000                        \n",
       "10 3812           0.02152221                        \n",
       "   ITCC-P4_s01_EP0027_PP01_F01_R01_A03\n",
       "1    0.00000000                       \n",
       "2  124.73545549                       \n",
       "3    0.03864177                       \n",
       "4    0.00000000                       \n",
       "5    0.00000000                       \n",
       "6    0.00000000                       \n",
       "7    0.00000000                       \n",
       "8    0.09948984                       \n",
       "9    0.00000000                       \n",
       "10   0.22769452                       "
      ]
     },
     "metadata": {},
     "output_type": "display_data"
    }
   ],
   "source": [
    "pdx_mat[1:10,1:10]"
   ]
  },
  {
   "cell_type": "code",
   "execution_count": 86,
   "metadata": {},
   "outputs": [
    {
     "data": {
      "text/html": [
       "<style>\n",
       ".list-inline {list-style: none; margin:0; padding: 0}\n",
       ".list-inline>li {display: inline-block}\n",
       ".list-inline>li:not(:last-child)::after {content: \"\\00b7\"; padding: 0 .5ex}\n",
       "</style>\n",
       "<ol class=list-inline><li>57820</li><li>175</li></ol>\n"
      ],
      "text/latex": [
       "\\begin{enumerate*}\n",
       "\\item 57820\n",
       "\\item 175\n",
       "\\end{enumerate*}\n"
      ],
      "text/markdown": [
       "1. 57820\n",
       "2. 175\n",
       "\n",
       "\n"
      ],
      "text/plain": [
       "[1] 57820   175"
      ]
     },
     "metadata": {},
     "output_type": "display_data"
    }
   ],
   "source": [
    "dim(pdx_mat)"
   ]
  },
  {
   "cell_type": "code",
   "execution_count": 87,
   "metadata": {},
   "outputs": [],
   "source": [
    "# dedup\n",
    "pdx_mat <- pdx_mat[!duplicated(pdx_mat$name),]"
   ]
  },
  {
   "cell_type": "code",
   "execution_count": 88,
   "metadata": {},
   "outputs": [
    {
     "data": {
      "text/html": [
       "<style>\n",
       ".list-inline {list-style: none; margin:0; padding: 0}\n",
       ".list-inline>li {display: inline-block}\n",
       ".list-inline>li:not(:last-child)::after {content: \"\\00b7\"; padding: 0 .5ex}\n",
       "</style>\n",
       "<ol class=list-inline><li>55765</li><li>175</li></ol>\n"
      ],
      "text/latex": [
       "\\begin{enumerate*}\n",
       "\\item 55765\n",
       "\\item 175\n",
       "\\end{enumerate*}\n"
      ],
      "text/markdown": [
       "1. 55765\n",
       "2. 175\n",
       "\n",
       "\n"
      ],
      "text/plain": [
       "[1] 55765   175"
      ]
     },
     "metadata": {},
     "output_type": "display_data"
    }
   ],
   "source": [
    "dim(pdx_mat)"
   ]
  },
  {
   "cell_type": "code",
   "execution_count": 89,
   "metadata": {},
   "outputs": [],
   "source": [
    "rownames(pdx_mat) <- pdx_mat$name"
   ]
  },
  {
   "cell_type": "code",
   "execution_count": 90,
   "metadata": {},
   "outputs": [],
   "source": [
    "pdx_mat <- pdx_mat[, grepl(\"ITCC\",colnames(pdx_mat))]"
   ]
  },
  {
   "cell_type": "code",
   "execution_count": 91,
   "metadata": {},
   "outputs": [],
   "source": [
    "# include only CNS and NBL pdxes, remove all others\n",
    "\n",
    "pdx_mat <- pdx_mat[,grep(paste(c(\"EP\", \"MB\", \"HG\", \"NB\", \"RT\"),collapse=\"|\"),colnames(pdx_mat), value=TRUE)]\n",
    "pdx_mat <- pdx_mat[,grep(paste(c(\"PP\", \"PT\", \"PR\", \"PM\"),collapse=\"|\"),colnames(pdx_mat), value=TRUE)]\n",
    "pdx_mat <- pdx_mat[,!colnames(pdx_mat) %in% c(\"ITCC.P4_s07_HG0068_PT01_F01_R01_A03\",\"ITCC.P4_s15_NB0537_PT03_F01_R01_03\")]"
   ]
  },
  {
   "cell_type": "code",
   "execution_count": 92,
   "metadata": {},
   "outputs": [],
   "source": [
    "#match rownames and bind both pdx matrices\n",
    "pdx_mat <- pdx_mat[rownames(pdx_mat_tpm),]\n",
    "pdx_mat <- cbind(pdx_mat, pdx_mat_tpm)"
   ]
  },
  {
   "cell_type": "code",
   "execution_count": 93,
   "metadata": {},
   "outputs": [
    {
     "data": {
      "text/html": [
       "<style>\n",
       ".list-inline {list-style: none; margin:0; padding: 0}\n",
       ".list-inline>li {display: inline-block}\n",
       ".list-inline>li:not(:last-child)::after {content: \"\\00b7\"; padding: 0 .5ex}\n",
       "</style>\n",
       "<ol class=list-inline><li>51472</li><li>81</li></ol>\n"
      ],
      "text/latex": [
       "\\begin{enumerate*}\n",
       "\\item 51472\n",
       "\\item 81\n",
       "\\end{enumerate*}\n"
      ],
      "text/markdown": [
       "1. 51472\n",
       "2. 81\n",
       "\n",
       "\n"
      ],
      "text/plain": [
       "[1] 51472    81"
      ]
     },
     "metadata": {},
     "output_type": "display_data"
    }
   ],
   "source": [
    "dim(pdx_mat)"
   ]
  },
  {
   "cell_type": "markdown",
   "metadata": {},
   "source": [
    "Subset to protein_coding genes"
   ]
  },
  {
   "cell_type": "code",
   "execution_count": 94,
   "metadata": {},
   "outputs": [],
   "source": [
    "hg38 <- useMart(biomart=\"ENSEMBL_MART_ENSEMBL\", host=\"www.ensembl.org\", \n",
    "                path=\"/biomart/martservice\", dataset=\"hsapiens_gene_ensembl\")"
   ]
  },
  {
   "cell_type": "code",
   "execution_count": 95,
   "metadata": {},
   "outputs": [],
   "source": [
    "hgncs <- rownames(pdx_mat)"
   ]
  },
  {
   "cell_type": "code",
   "execution_count": 96,
   "metadata": {},
   "outputs": [],
   "source": [
    "hgnc_type <- getBM(filters=\"hgnc_symbol\",\n",
    "                   attributes=c(\"hgnc_symbol\",\"ensembl_gene_id\", \"entrezgene_id\", \"gene_biotype\"), \n",
    "                   values= hgncs,mart = hg38)"
   ]
  },
  {
   "cell_type": "code",
   "execution_count": 97,
   "metadata": {},
   "outputs": [
    {
     "data": {
      "text/plain": [
       "\n",
       "                         IG_C_gene                    IG_C_pseudogene \n",
       "                                23                                 10 \n",
       "                         IG_D_gene                          IG_J_gene \n",
       "                                64                                 24 \n",
       "                   IG_J_pseudogene                          IG_V_gene \n",
       "                                 6                                207 \n",
       "                   IG_V_pseudogene                             lncRNA \n",
       "                               274                               1699 \n",
       "                             miRNA                           misc_RNA \n",
       "                                 9                               1021 \n",
       "            polymorphic_pseudogene               processed_pseudogene \n",
       "                                61                               4138 \n",
       "                    protein_coding                           ribozyme \n",
       "                             20558                                  5 \n",
       "                            scaRNA                             snoRNA \n",
       "                                 2                                  1 \n",
       "                             snRNA                                TEC \n",
       "                                 3                                  7 \n",
       "                         TR_C_gene                          TR_D_gene \n",
       "                                 6                                  3 \n",
       "                         TR_J_gene                    TR_J_pseudogene \n",
       "                                81                                  4 \n",
       "                         TR_V_gene                    TR_V_pseudogene \n",
       "                               126                                 45 \n",
       "  transcribed_processed_pseudogene     transcribed_unitary_pseudogene \n",
       "                               251                                 69 \n",
       "transcribed_unprocessed_pseudogene    translated_processed_pseudogene \n",
       "                               588                                  1 \n",
       " translated_unprocessed_pseudogene                 unitary_pseudogene \n",
       "                                 1                                 59 \n",
       "            unprocessed_pseudogene \n",
       "                              1535 "
      ]
     },
     "metadata": {},
     "output_type": "display_data"
    }
   ],
   "source": [
    "table(hgnc_type$gene_biotype)"
   ]
  },
  {
   "cell_type": "code",
   "execution_count": 98,
   "metadata": {},
   "outputs": [],
   "source": [
    "proteincoding <- hgnc_type$hgnc_symbol[hgnc_type$gene_biotype == \"protein_coding\"]"
   ]
  },
  {
   "cell_type": "code",
   "execution_count": 99,
   "metadata": {},
   "outputs": [],
   "source": [
    "pdx_mat_tpm_pc <- pdx_mat[proteincoding,]"
   ]
  },
  {
   "cell_type": "code",
   "execution_count": 100,
   "metadata": {},
   "outputs": [
    {
     "data": {
      "text/html": [
       "<style>\n",
       ".list-inline {list-style: none; margin:0; padding: 0}\n",
       ".list-inline>li {display: inline-block}\n",
       ".list-inline>li:not(:last-child)::after {content: \"\\00b7\"; padding: 0 .5ex}\n",
       "</style>\n",
       "<ol class=list-inline><li>51472</li><li>81</li></ol>\n"
      ],
      "text/latex": [
       "\\begin{enumerate*}\n",
       "\\item 51472\n",
       "\\item 81\n",
       "\\end{enumerate*}\n"
      ],
      "text/markdown": [
       "1. 51472\n",
       "2. 81\n",
       "\n",
       "\n"
      ],
      "text/plain": [
       "[1] 51472    81"
      ]
     },
     "metadata": {},
     "output_type": "display_data"
    },
    {
     "data": {
      "text/html": [
       "<style>\n",
       ".list-inline {list-style: none; margin:0; padding: 0}\n",
       ".list-inline>li {display: inline-block}\n",
       ".list-inline>li:not(:last-child)::after {content: \"\\00b7\"; padding: 0 .5ex}\n",
       "</style>\n",
       "<ol class=list-inline><li>20558</li><li>81</li></ol>\n"
      ],
      "text/latex": [
       "\\begin{enumerate*}\n",
       "\\item 20558\n",
       "\\item 81\n",
       "\\end{enumerate*}\n"
      ],
      "text/markdown": [
       "1. 20558\n",
       "2. 81\n",
       "\n",
       "\n"
      ],
      "text/plain": [
       "[1] 20558    81"
      ]
     },
     "metadata": {},
     "output_type": "display_data"
    }
   ],
   "source": [
    "dim(pdx_mat)\n",
    "dim(pdx_mat_tpm_pc)"
   ]
  },
  {
   "cell_type": "code",
   "execution_count": 101,
   "metadata": {},
   "outputs": [],
   "source": [
    "#median center MAD scale\n",
    "pdx_mat_tpm_m <- (pdx_mat_tpm_pc - median(unlist(pdx_mat_tpm_pc)))/mad(unlist(pdx_mat_tpm_pc))"
   ]
  },
  {
   "cell_type": "code",
   "execution_count": 102,
   "metadata": {},
   "outputs": [
    {
     "data": {
      "text/plain": [
       "     Min.   1st Qu.    Median      Mean   3rd Qu.      Max. \n",
       "     0.00      0.17      8.07     60.79     38.12 211758.04 "
      ]
     },
     "metadata": {},
     "output_type": "display_data"
    }
   ],
   "source": [
    "summary(unlist(pdx_mat_tpm_pc))"
   ]
  },
  {
   "cell_type": "code",
   "execution_count": 103,
   "metadata": {},
   "outputs": [
    {
     "data": {
      "text/plain": [
       "     Min.   1st Qu.    Median      Mean   3rd Qu.      Max. \n",
       "   -0.674    -0.660     0.000     4.407     2.512 17702.256 "
      ]
     },
     "metadata": {},
     "output_type": "display_data"
    }
   ],
   "source": [
    "summary(unlist(pdx_mat_tpm_m))"
   ]
  },
  {
   "cell_type": "code",
   "execution_count": 104,
   "metadata": {},
   "outputs": [
    {
     "data": {
      "image/png": "[encoded data removed]",
      "text/plain": [
       "plot without title"
      ]
     },
     "metadata": {
      "image/png": {
       "height": 420,
       "width": 420
      }
     },
     "output_type": "display_data"
    }
   ],
   "source": [
    "ggplot() + geom_histogram(aes(unlist(pdx_mat_tpm_m)), binwidth = 0.5) + myaxis + myplot +\n",
    "coord_cartesian(xlim = c(-1,10))"
   ]
  },
  {
   "cell_type": "code",
   "execution_count": 105,
   "metadata": {},
   "outputs": [
    {
     "data": {
      "text/html": [
       "<table class=\"dataframe\">\n",
       "<caption>A data.frame: 6 × 81</caption>\n",
       "<thead>\n",
       "\t<tr><th></th><th scope=col>ITCC-P4_s01_EP0027_PP01_F01_R01_A03</th><th scope=col>ITCC-P4_s01_EP0035_PP01_F01_R01_A03</th><th scope=col>ITCC-P4_s01_EP0076_PR03_F01_R01_A03</th><th scope=col>ITCC-P4_s01_EP0076_PP03_F01_R01_A03</th><th scope=col>ITCC-P4_s01_EP0077_PP02_F01_R01</th><th scope=col>ITCC-P4_s01_EP0191_PR01_F01_R01_A03</th><th scope=col>ITCC-P4_s05_EP0191_PR04_F01_R01_03</th><th scope=col>ITCC-P4_s01_EP0233_PR01_F01_R01_A03</th><th scope=col>ITCC-P4_s05_EP0233_PR05_F01_R01_03</th><th scope=col>ITCC-P4_s01_EP0307_PM01_F01_R01_A03</th><th scope=col>⋯</th><th scope=col>Med210FH_fP5_5043</th><th scope=col>Med2312FH_P5-2</th><th scope=col>Med411FH_P5-4</th><th scope=col>Med610FH_P4-2</th><th scope=col>Med813FH_P5-2</th><th scope=col>Med913FH_P1-2+3</th><th scope=col>NCH2194_XP1_1020</th><th scope=col>NCH2194_XP6_686</th><th scope=col>Neo113FH_P5-5</th><th scope=col>RCMB28_XP5_283</th></tr>\n",
       "\t<tr><th></th><th scope=col>&lt;dbl&gt;</th><th scope=col>&lt;dbl&gt;</th><th scope=col>&lt;dbl&gt;</th><th scope=col>&lt;dbl&gt;</th><th scope=col>&lt;dbl&gt;</th><th scope=col>&lt;dbl&gt;</th><th scope=col>&lt;dbl&gt;</th><th scope=col>&lt;dbl&gt;</th><th scope=col>&lt;dbl&gt;</th><th scope=col>&lt;dbl&gt;</th><th scope=col>⋯</th><th scope=col>&lt;dbl&gt;</th><th scope=col>&lt;dbl&gt;</th><th scope=col>&lt;dbl&gt;</th><th scope=col>&lt;dbl&gt;</th><th scope=col>&lt;dbl&gt;</th><th scope=col>&lt;dbl&gt;</th><th scope=col>&lt;dbl&gt;</th><th scope=col>&lt;dbl&gt;</th><th scope=col>&lt;dbl&gt;</th><th scope=col>&lt;dbl&gt;</th></tr>\n",
       "</thead>\n",
       "<tbody>\n",
       "\t<tr><th scope=row>A1BG</th><td>-0.5921572</td><td>-0.5836629</td><td>-0.3548150</td><td>-0.4901875</td><td>-0.6674572</td><td>-0.4697676</td><td>-0.44166461</td><td>-0.5083461</td><td>-0.59639219</td><td>-0.6714543</td><td>⋯</td><td> 1.2647239</td><td> 0.7400879</td><td> 2.5806388</td><td> 0.04548172</td><td> 2.4076761</td><td> 0.1735341</td><td> 3.9535341</td><td> 0.7499960</td><td> 0.7800400</td><td> 1.2543403</td></tr>\n",
       "\t<tr><th scope=row>A1CF</th><td>-0.6703692</td><td>-0.6728313</td><td>-0.6683359</td><td>-0.6712191</td><td>-0.6686225</td><td>-0.6592403</td><td>-0.66322977</td><td>-0.6633119</td><td>-0.66750939</td><td>-0.6668906</td><td>⋯</td><td>-0.6728263</td><td>-0.6728055</td><td>-0.6743808</td><td>-0.67449076</td><td>-0.6738131</td><td>-0.6730773</td><td>-0.6739310</td><td>-0.6743220</td><td>-0.6729747</td><td>-0.6732867</td></tr>\n",
       "\t<tr><th scope=row>A2M</th><td>-0.2870044</td><td>-0.4868648</td><td>-0.6035097</td><td>-0.6297066</td><td>-0.6391818</td><td> 0.3325836</td><td>-0.05303696</td><td>-0.6005020</td><td> 0.30565609</td><td>-0.6459099</td><td>⋯</td><td>-0.6741509</td><td>-0.6744908</td><td>-0.6744908</td><td>-0.58097049</td><td>-0.6741266</td><td>-0.6744908</td><td>-0.6737666</td><td>-0.6744908</td><td>-0.6722639</td><td>-0.6744908</td></tr>\n",
       "\t<tr><th scope=row>A2ML1</th><td> 2.0208616</td><td>-0.3802814</td><td> 4.0911310</td><td> 3.9687056</td><td>-0.6455542</td><td> 1.0240346</td><td> 4.36376765</td><td> 0.5808520</td><td> 0.60153885</td><td>-0.5862131</td><td>⋯</td><td>-0.6471392</td><td>-0.6534215</td><td>-0.6701000</td><td>-0.66495081</td><td>-0.6555912</td><td>-0.6400824</td><td>-0.6497869</td><td>-0.6558138</td><td>-0.6434327</td><td>-0.6281294</td></tr>\n",
       "\t<tr><th scope=row>A3GALT2</th><td>-0.5838270</td><td>-0.6644211</td><td>-0.5064180</td><td>-0.5732390</td><td>-0.5676603</td><td>-0.5495570</td><td>-0.52714454</td><td>-0.5930872</td><td>-0.56857916</td><td>-0.5822519</td><td>⋯</td><td>-0.6659630</td><td>-0.6664484</td><td>-0.6685383</td><td>-0.64757426</td><td>-0.6261245</td><td>-0.6276556</td><td>-0.6431204</td><td>-0.6059228</td><td>-0.6307213</td><td>-0.6505268</td></tr>\n",
       "\t<tr><th scope=row>A4GALT</th><td> 0.6300293</td><td>-0.4416608</td><td> 0.2560422</td><td> 0.2638807</td><td> 0.2589825</td><td>-0.1768687</td><td>-0.09806009</td><td>-0.0252056</td><td>-0.02905257</td><td>-0.5670277</td><td>⋯</td><td>-0.6691560</td><td>-0.6706098</td><td>-0.6712372</td><td>-0.67058317</td><td> 3.0426267</td><td>-0.6298772</td><td>-0.6744908</td><td>-0.6744908</td><td>-0.6576712</td><td>-0.6740484</td></tr>\n",
       "</tbody>\n",
       "</table>\n"
      ],
      "text/latex": [
       "A data.frame: 6 × 81\n",
       "\\begin{tabular}{r|lllllllllllllllllllll}\n",
       "  & ITCC-P4\\_s01\\_EP0027\\_PP01\\_F01\\_R01\\_A03 & ITCC-P4\\_s01\\_EP0035\\_PP01\\_F01\\_R01\\_A03 & ITCC-P4\\_s01\\_EP0076\\_PR03\\_F01\\_R01\\_A03 & ITCC-P4\\_s01\\_EP0076\\_PP03\\_F01\\_R01\\_A03 & ITCC-P4\\_s01\\_EP0077\\_PP02\\_F01\\_R01 & ITCC-P4\\_s01\\_EP0191\\_PR01\\_F01\\_R01\\_A03 & ITCC-P4\\_s05\\_EP0191\\_PR04\\_F01\\_R01\\_03 & ITCC-P4\\_s01\\_EP0233\\_PR01\\_F01\\_R01\\_A03 & ITCC-P4\\_s05\\_EP0233\\_PR05\\_F01\\_R01\\_03 & ITCC-P4\\_s01\\_EP0307\\_PM01\\_F01\\_R01\\_A03 & ⋯ & Med210FH\\_fP5\\_5043 & Med2312FH\\_P5-2 & Med411FH\\_P5-4 & Med610FH\\_P4-2 & Med813FH\\_P5-2 & Med913FH\\_P1-2+3 & NCH2194\\_XP1\\_1020 & NCH2194\\_XP6\\_686 & Neo113FH\\_P5-5 & RCMB28\\_XP5\\_283\\\\\n",
       "  & <dbl> & <dbl> & <dbl> & <dbl> & <dbl> & <dbl> & <dbl> & <dbl> & <dbl> & <dbl> & ⋯ & <dbl> & <dbl> & <dbl> & <dbl> & <dbl> & <dbl> & <dbl> & <dbl> & <dbl> & <dbl>\\\\\n",
       "\\hline\n",
       "\tA1BG & -0.5921572 & -0.5836629 & -0.3548150 & -0.4901875 & -0.6674572 & -0.4697676 & -0.44166461 & -0.5083461 & -0.59639219 & -0.6714543 & ⋯ &  1.2647239 &  0.7400879 &  2.5806388 &  0.04548172 &  2.4076761 &  0.1735341 &  3.9535341 &  0.7499960 &  0.7800400 &  1.2543403\\\\\n",
       "\tA1CF & -0.6703692 & -0.6728313 & -0.6683359 & -0.6712191 & -0.6686225 & -0.6592403 & -0.66322977 & -0.6633119 & -0.66750939 & -0.6668906 & ⋯ & -0.6728263 & -0.6728055 & -0.6743808 & -0.67449076 & -0.6738131 & -0.6730773 & -0.6739310 & -0.6743220 & -0.6729747 & -0.6732867\\\\\n",
       "\tA2M & -0.2870044 & -0.4868648 & -0.6035097 & -0.6297066 & -0.6391818 &  0.3325836 & -0.05303696 & -0.6005020 &  0.30565609 & -0.6459099 & ⋯ & -0.6741509 & -0.6744908 & -0.6744908 & -0.58097049 & -0.6741266 & -0.6744908 & -0.6737666 & -0.6744908 & -0.6722639 & -0.6744908\\\\\n",
       "\tA2ML1 &  2.0208616 & -0.3802814 &  4.0911310 &  3.9687056 & -0.6455542 &  1.0240346 &  4.36376765 &  0.5808520 &  0.60153885 & -0.5862131 & ⋯ & -0.6471392 & -0.6534215 & -0.6701000 & -0.66495081 & -0.6555912 & -0.6400824 & -0.6497869 & -0.6558138 & -0.6434327 & -0.6281294\\\\\n",
       "\tA3GALT2 & -0.5838270 & -0.6644211 & -0.5064180 & -0.5732390 & -0.5676603 & -0.5495570 & -0.52714454 & -0.5930872 & -0.56857916 & -0.5822519 & ⋯ & -0.6659630 & -0.6664484 & -0.6685383 & -0.64757426 & -0.6261245 & -0.6276556 & -0.6431204 & -0.6059228 & -0.6307213 & -0.6505268\\\\\n",
       "\tA4GALT &  0.6300293 & -0.4416608 &  0.2560422 &  0.2638807 &  0.2589825 & -0.1768687 & -0.09806009 & -0.0252056 & -0.02905257 & -0.5670277 & ⋯ & -0.6691560 & -0.6706098 & -0.6712372 & -0.67058317 &  3.0426267 & -0.6298772 & -0.6744908 & -0.6744908 & -0.6576712 & -0.6740484\\\\\n",
       "\\end{tabular}\n"
      ],
      "text/markdown": [
       "\n",
       "A data.frame: 6 × 81\n",
       "\n",
       "| <!--/--> | ITCC-P4_s01_EP0027_PP01_F01_R01_A03 &lt;dbl&gt; | ITCC-P4_s01_EP0035_PP01_F01_R01_A03 &lt;dbl&gt; | ITCC-P4_s01_EP0076_PR03_F01_R01_A03 &lt;dbl&gt; | ITCC-P4_s01_EP0076_PP03_F01_R01_A03 &lt;dbl&gt; | ITCC-P4_s01_EP0077_PP02_F01_R01 &lt;dbl&gt; | ITCC-P4_s01_EP0191_PR01_F01_R01_A03 &lt;dbl&gt; | ITCC-P4_s05_EP0191_PR04_F01_R01_03 &lt;dbl&gt; | ITCC-P4_s01_EP0233_PR01_F01_R01_A03 &lt;dbl&gt; | ITCC-P4_s05_EP0233_PR05_F01_R01_03 &lt;dbl&gt; | ITCC-P4_s01_EP0307_PM01_F01_R01_A03 &lt;dbl&gt; | ⋯ ⋯ | Med210FH_fP5_5043 &lt;dbl&gt; | Med2312FH_P5-2 &lt;dbl&gt; | Med411FH_P5-4 &lt;dbl&gt; | Med610FH_P4-2 &lt;dbl&gt; | Med813FH_P5-2 &lt;dbl&gt; | Med913FH_P1-2+3 &lt;dbl&gt; | NCH2194_XP1_1020 &lt;dbl&gt; | NCH2194_XP6_686 &lt;dbl&gt; | Neo113FH_P5-5 &lt;dbl&gt; | RCMB28_XP5_283 &lt;dbl&gt; |\n",
       "|---|---|---|---|---|---|---|---|---|---|---|---|---|---|---|---|---|---|---|---|---|---|\n",
       "| A1BG | -0.5921572 | -0.5836629 | -0.3548150 | -0.4901875 | -0.6674572 | -0.4697676 | -0.44166461 | -0.5083461 | -0.59639219 | -0.6714543 | ⋯ |  1.2647239 |  0.7400879 |  2.5806388 |  0.04548172 |  2.4076761 |  0.1735341 |  3.9535341 |  0.7499960 |  0.7800400 |  1.2543403 |\n",
       "| A1CF | -0.6703692 | -0.6728313 | -0.6683359 | -0.6712191 | -0.6686225 | -0.6592403 | -0.66322977 | -0.6633119 | -0.66750939 | -0.6668906 | ⋯ | -0.6728263 | -0.6728055 | -0.6743808 | -0.67449076 | -0.6738131 | -0.6730773 | -0.6739310 | -0.6743220 | -0.6729747 | -0.6732867 |\n",
       "| A2M | -0.2870044 | -0.4868648 | -0.6035097 | -0.6297066 | -0.6391818 |  0.3325836 | -0.05303696 | -0.6005020 |  0.30565609 | -0.6459099 | ⋯ | -0.6741509 | -0.6744908 | -0.6744908 | -0.58097049 | -0.6741266 | -0.6744908 | -0.6737666 | -0.6744908 | -0.6722639 | -0.6744908 |\n",
       "| A2ML1 |  2.0208616 | -0.3802814 |  4.0911310 |  3.9687056 | -0.6455542 |  1.0240346 |  4.36376765 |  0.5808520 |  0.60153885 | -0.5862131 | ⋯ | -0.6471392 | -0.6534215 | -0.6701000 | -0.66495081 | -0.6555912 | -0.6400824 | -0.6497869 | -0.6558138 | -0.6434327 | -0.6281294 |\n",
       "| A3GALT2 | -0.5838270 | -0.6644211 | -0.5064180 | -0.5732390 | -0.5676603 | -0.5495570 | -0.52714454 | -0.5930872 | -0.56857916 | -0.5822519 | ⋯ | -0.6659630 | -0.6664484 | -0.6685383 | -0.64757426 | -0.6261245 | -0.6276556 | -0.6431204 | -0.6059228 | -0.6307213 | -0.6505268 |\n",
       "| A4GALT |  0.6300293 | -0.4416608 |  0.2560422 |  0.2638807 |  0.2589825 | -0.1768687 | -0.09806009 | -0.0252056 | -0.02905257 | -0.5670277 | ⋯ | -0.6691560 | -0.6706098 | -0.6712372 | -0.67058317 |  3.0426267 | -0.6298772 | -0.6744908 | -0.6744908 | -0.6576712 | -0.6740484 |\n",
       "\n"
      ],
      "text/plain": [
       "        ITCC-P4_s01_EP0027_PP01_F01_R01_A03 ITCC-P4_s01_EP0035_PP01_F01_R01_A03\n",
       "A1BG    -0.5921572                          -0.5836629                         \n",
       "A1CF    -0.6703692                          -0.6728313                         \n",
       "A2M     -0.2870044                          -0.4868648                         \n",
       "A2ML1    2.0208616                          -0.3802814                         \n",
       "A3GALT2 -0.5838270                          -0.6644211                         \n",
       "A4GALT   0.6300293                          -0.4416608                         \n",
       "        ITCC-P4_s01_EP0076_PR03_F01_R01_A03 ITCC-P4_s01_EP0076_PP03_F01_R01_A03\n",
       "A1BG    -0.3548150                          -0.4901875                         \n",
       "A1CF    -0.6683359                          -0.6712191                         \n",
       "A2M     -0.6035097                          -0.6297066                         \n",
       "A2ML1    4.0911310                           3.9687056                         \n",
       "A3GALT2 -0.5064180                          -0.5732390                         \n",
       "A4GALT   0.2560422                           0.2638807                         \n",
       "        ITCC-P4_s01_EP0077_PP02_F01_R01 ITCC-P4_s01_EP0191_PR01_F01_R01_A03\n",
       "A1BG    -0.6674572                      -0.4697676                         \n",
       "A1CF    -0.6686225                      -0.6592403                         \n",
       "A2M     -0.6391818                       0.3325836                         \n",
       "A2ML1   -0.6455542                       1.0240346                         \n",
       "A3GALT2 -0.5676603                      -0.5495570                         \n",
       "A4GALT   0.2589825                      -0.1768687                         \n",
       "        ITCC-P4_s05_EP0191_PR04_F01_R01_03 ITCC-P4_s01_EP0233_PR01_F01_R01_A03\n",
       "A1BG    -0.44166461                        -0.5083461                         \n",
       "A1CF    -0.66322977                        -0.6633119                         \n",
       "A2M     -0.05303696                        -0.6005020                         \n",
       "A2ML1    4.36376765                         0.5808520                         \n",
       "A3GALT2 -0.52714454                        -0.5930872                         \n",
       "A4GALT  -0.09806009                        -0.0252056                         \n",
       "        ITCC-P4_s05_EP0233_PR05_F01_R01_03 ITCC-P4_s01_EP0307_PM01_F01_R01_A03\n",
       "A1BG    -0.59639219                        -0.6714543                         \n",
       "A1CF    -0.66750939                        -0.6668906                         \n",
       "A2M      0.30565609                        -0.6459099                         \n",
       "A2ML1    0.60153885                        -0.5862131                         \n",
       "A3GALT2 -0.56857916                        -0.5822519                         \n",
       "A4GALT  -0.02905257                        -0.5670277                         \n",
       "        ⋯ Med210FH_fP5_5043 Med2312FH_P5-2 Med411FH_P5-4 Med610FH_P4-2\n",
       "A1BG    ⋯  1.2647239         0.7400879      2.5806388     0.04548172  \n",
       "A1CF    ⋯ -0.6728263        -0.6728055     -0.6743808    -0.67449076  \n",
       "A2M     ⋯ -0.6741509        -0.6744908     -0.6744908    -0.58097049  \n",
       "A2ML1   ⋯ -0.6471392        -0.6534215     -0.6701000    -0.66495081  \n",
       "A3GALT2 ⋯ -0.6659630        -0.6664484     -0.6685383    -0.64757426  \n",
       "A4GALT  ⋯ -0.6691560        -0.6706098     -0.6712372    -0.67058317  \n",
       "        Med813FH_P5-2 Med913FH_P1-2+3 NCH2194_XP1_1020 NCH2194_XP6_686\n",
       "A1BG     2.4076761     0.1735341       3.9535341        0.7499960     \n",
       "A1CF    -0.6738131    -0.6730773      -0.6739310       -0.6743220     \n",
       "A2M     -0.6741266    -0.6744908      -0.6737666       -0.6744908     \n",
       "A2ML1   -0.6555912    -0.6400824      -0.6497869       -0.6558138     \n",
       "A3GALT2 -0.6261245    -0.6276556      -0.6431204       -0.6059228     \n",
       "A4GALT   3.0426267    -0.6298772      -0.6744908       -0.6744908     \n",
       "        Neo113FH_P5-5 RCMB28_XP5_283\n",
       "A1BG     0.7800400     1.2543403    \n",
       "A1CF    -0.6729747    -0.6732867    \n",
       "A2M     -0.6722639    -0.6744908    \n",
       "A2ML1   -0.6434327    -0.6281294    \n",
       "A3GALT2 -0.6307213    -0.6505268    \n",
       "A4GALT  -0.6576712    -0.6740484    "
      ]
     },
     "metadata": {},
     "output_type": "display_data"
    }
   ],
   "source": [
    "head(pdx_mat_tpm_m)"
   ]
  },
  {
   "cell_type": "code",
   "execution_count": 106,
   "metadata": {},
   "outputs": [
    {
     "data": {
      "text/html": [
       "<style>\n",
       ".list-inline {list-style: none; margin:0; padding: 0}\n",
       ".list-inline>li {display: inline-block}\n",
       ".list-inline>li:not(:last-child)::after {content: \"\\00b7\"; padding: 0 .5ex}\n",
       "</style>\n",
       "<ol class=list-inline><li>20558</li><li>81</li></ol>\n"
      ],
      "text/latex": [
       "\\begin{enumerate*}\n",
       "\\item 20558\n",
       "\\item 81\n",
       "\\end{enumerate*}\n"
      ],
      "text/markdown": [
       "1. 20558\n",
       "2. 81\n",
       "\n",
       "\n"
      ],
      "text/plain": [
       "[1] 20558    81"
      ]
     },
     "metadata": {},
     "output_type": "display_data"
    }
   ],
   "source": [
    "dim(pdx_mat_tpm_m)"
   ]
  },
  {
   "cell_type": "code",
   "execution_count": 107,
   "metadata": {},
   "outputs": [],
   "source": [
    "pdx_expressed_genes <- rownames(pdx_mat_tpm_m)[rowSums(pdx_mat_tpm_m > quantile(unlist(pdx_mat_tpm_m),0.75)) >= 1]"
   ]
  },
  {
   "cell_type": "code",
   "execution_count": 108,
   "metadata": {},
   "outputs": [
    {
     "data": {
      "text/html": [
       "13788"
      ],
      "text/latex": [
       "13788"
      ],
      "text/markdown": [
       "13788"
      ],
      "text/plain": [
       "[1] 13788"
      ]
     },
     "metadata": {},
     "output_type": "display_data"
    }
   ],
   "source": [
    "length(pdx_expressed_genes)"
   ]
  },
  {
   "cell_type": "markdown",
   "metadata": {},
   "source": [
    "13788 protein coding genes are expressed more than 75th percentile in at least one PDX "
   ]
  },
  {
   "cell_type": "markdown",
   "metadata": {},
   "source": [
    "## 2- scRNA"
   ]
  },
  {
   "cell_type": "markdown",
   "metadata": {},
   "source": [
    "### 1- Frank's NBL"
   ]
  },
  {
   "cell_type": "code",
   "execution_count": 109,
   "metadata": {},
   "outputs": [],
   "source": [
    "load(file = paste0(datapath, \"single_cell/NBL_original_annotation/NBL_tumor_cells.RData\"))"
   ]
  },
  {
   "cell_type": "code",
   "execution_count": 110,
   "metadata": {},
   "outputs": [],
   "source": [
    "nbl_tum <- as.matrix(nbl_tum)"
   ]
  },
  {
   "cell_type": "code",
   "execution_count": 111,
   "metadata": {},
   "outputs": [],
   "source": [
    "nbl_immune <- read.table(paste0(datapath, \"single_cell/NBL_original_annotation/NBL_immune_cells.txt\"), sep = \"\\t\",\n",
    "                         header = TRUE, check.names = F,stringsAsFactors = FALSE)\n",
    "\n",
    "nbl_immune <- as.matrix(nbl_immune)"
   ]
  },
  {
   "cell_type": "code",
   "execution_count": 112,
   "metadata": {},
   "outputs": [],
   "source": [
    "nbl_endo <- read.table(paste0(datapath, \"single_cell/NBL_original_annotation/NBL_endothelial_cells.txt\"), sep = \"\\t\",\n",
    "                             header = TRUE, check.names = F,stringsAsFactors = FALSE)\n",
    "\n",
    "nbl_endo <- as.matrix(nbl_endo)"
   ]
  },
  {
   "cell_type": "code",
   "execution_count": 113,
   "metadata": {},
   "outputs": [],
   "source": [
    "nbl_mesench <- read.table(paste0(datapath, \"single_cell/NBL_original_annotation/NBL_mesenchymal_cells.txt\"), sep = \"\\t\",\n",
    "                             header = TRUE, check.names = F,stringsAsFactors = FALSE)\n",
    "\n",
    "nbl_mesench <- as.matrix(nbl_mesench)"
   ]
  },
  {
   "cell_type": "code",
   "execution_count": 114,
   "metadata": {},
   "outputs": [],
   "source": [
    "nbl_schwann <- read.table(paste0(datapath, \"single_cell/NBL_original_annotation/NBL_schwann_cells.txt\"), sep = \"\\t\",\n",
    "                             header = TRUE, check.names = F,stringsAsFactors = FALSE)\n",
    "\n",
    "nbl_schwann <- as.matrix(nbl_schwann)"
   ]
  },
  {
   "cell_type": "code",
   "execution_count": 115,
   "metadata": {},
   "outputs": [
    {
     "data": {
      "text/html": [
       "<style>\n",
       ".list-inline {list-style: none; margin:0; padding: 0}\n",
       ".list-inline>li {display: inline-block}\n",
       ".list-inline>li:not(:last-child)::after {content: \"\\00b7\"; padding: 0 .5ex}\n",
       "</style>\n",
       "<ol class=list-inline><li>26344</li><li>2407</li></ol>\n"
      ],
      "text/latex": [
       "\\begin{enumerate*}\n",
       "\\item 26344\n",
       "\\item 2407\n",
       "\\end{enumerate*}\n"
      ],
      "text/markdown": [
       "1. 26344\n",
       "2. 2407\n",
       "\n",
       "\n"
      ],
      "text/plain": [
       "[1] 26344  2407"
      ]
     },
     "metadata": {},
     "output_type": "display_data"
    }
   ],
   "source": [
    "dim(nbl_immune)"
   ]
  },
  {
   "cell_type": "code",
   "execution_count": 116,
   "metadata": {},
   "outputs": [],
   "source": [
    "# Get max counts for each cell annotation\n",
    "maxcount_tumor <- apply(nbl_tum, 1, max)\n",
    "maxcount_immune <- apply(nbl_immune, 1, max)\n",
    "maxcount_endo <- apply(nbl_endo, 1, max)\n",
    "maxcount_mesench <- apply(nbl_mesench, 1, max)\n",
    "maxcount_schwann <- apply(nbl_schwann, 1, max)"
   ]
  },
  {
   "cell_type": "code",
   "execution_count": 117,
   "metadata": {},
   "outputs": [],
   "source": [
    "nbl <- cbind.data.frame(maxcount_tumor, maxcount_immune, maxcount_endo, maxcount_mesench, maxcount_schwann)"
   ]
  },
  {
   "cell_type": "code",
   "execution_count": 118,
   "metadata": {},
   "outputs": [
    {
     "data": {
      "text/html": [
       "<table class=\"dataframe\">\n",
       "<caption>A data.frame: 6 × 5</caption>\n",
       "<thead>\n",
       "\t<tr><th></th><th scope=col>maxcount_tumor</th><th scope=col>maxcount_immune</th><th scope=col>maxcount_endo</th><th scope=col>maxcount_mesench</th><th scope=col>maxcount_schwann</th></tr>\n",
       "\t<tr><th></th><th scope=col>&lt;int&gt;</th><th scope=col>&lt;int&gt;</th><th scope=col>&lt;int&gt;</th><th scope=col>&lt;int&gt;</th><th scope=col>&lt;int&gt;</th></tr>\n",
       "</thead>\n",
       "<tbody>\n",
       "\t<tr><th scope=row>RP11-34P13.7</th><td>2</td><td>1</td><td>1</td><td>0</td><td>1</td></tr>\n",
       "\t<tr><th scope=row>AL627309.1</th><td>2</td><td>3</td><td>0</td><td>1</td><td>0</td></tr>\n",
       "\t<tr><th scope=row>AP006222.2</th><td>4</td><td>2</td><td>1</td><td>1</td><td>1</td></tr>\n",
       "\t<tr><th scope=row>RP4-669L17.10</th><td>4</td><td>2</td><td>2</td><td>3</td><td>1</td></tr>\n",
       "\t<tr><th scope=row>RP5-857K21.4</th><td>6</td><td>2</td><td>1</td><td>2</td><td>1</td></tr>\n",
       "\t<tr><th scope=row>RP11-206L10.5</th><td>1</td><td>1</td><td>1</td><td>0</td><td>0</td></tr>\n",
       "</tbody>\n",
       "</table>\n"
      ],
      "text/latex": [
       "A data.frame: 6 × 5\n",
       "\\begin{tabular}{r|lllll}\n",
       "  & maxcount\\_tumor & maxcount\\_immune & maxcount\\_endo & maxcount\\_mesench & maxcount\\_schwann\\\\\n",
       "  & <int> & <int> & <int> & <int> & <int>\\\\\n",
       "\\hline\n",
       "\tRP11-34P13.7 & 2 & 1 & 1 & 0 & 1\\\\\n",
       "\tAL627309.1 & 2 & 3 & 0 & 1 & 0\\\\\n",
       "\tAP006222.2 & 4 & 2 & 1 & 1 & 1\\\\\n",
       "\tRP4-669L17.10 & 4 & 2 & 2 & 3 & 1\\\\\n",
       "\tRP5-857K21.4 & 6 & 2 & 1 & 2 & 1\\\\\n",
       "\tRP11-206L10.5 & 1 & 1 & 1 & 0 & 0\\\\\n",
       "\\end{tabular}\n"
      ],
      "text/markdown": [
       "\n",
       "A data.frame: 6 × 5\n",
       "\n",
       "| <!--/--> | maxcount_tumor &lt;int&gt; | maxcount_immune &lt;int&gt; | maxcount_endo &lt;int&gt; | maxcount_mesench &lt;int&gt; | maxcount_schwann &lt;int&gt; |\n",
       "|---|---|---|---|---|---|\n",
       "| RP11-34P13.7 | 2 | 1 | 1 | 0 | 1 |\n",
       "| AL627309.1 | 2 | 3 | 0 | 1 | 0 |\n",
       "| AP006222.2 | 4 | 2 | 1 | 1 | 1 |\n",
       "| RP4-669L17.10 | 4 | 2 | 2 | 3 | 1 |\n",
       "| RP5-857K21.4 | 6 | 2 | 1 | 2 | 1 |\n",
       "| RP11-206L10.5 | 1 | 1 | 1 | 0 | 0 |\n",
       "\n"
      ],
      "text/plain": [
       "              maxcount_tumor maxcount_immune maxcount_endo maxcount_mesench\n",
       "RP11-34P13.7  2              1               1             0               \n",
       "AL627309.1    2              3               0             1               \n",
       "AP006222.2    4              2               1             1               \n",
       "RP4-669L17.10 4              2               2             3               \n",
       "RP5-857K21.4  6              2               1             2               \n",
       "RP11-206L10.5 1              1               1             0               \n",
       "              maxcount_schwann\n",
       "RP11-34P13.7  1               \n",
       "AL627309.1    0               \n",
       "AP006222.2    1               \n",
       "RP4-669L17.10 1               \n",
       "RP5-857K21.4  1               \n",
       "RP11-206L10.5 0               "
      ]
     },
     "metadata": {},
     "output_type": "display_data"
    }
   ],
   "source": [
    "head(nbl)"
   ]
  },
  {
   "cell_type": "code",
   "execution_count": 119,
   "metadata": {},
   "outputs": [
    {
     "data": {
      "text/html": [
       "1.4826"
      ],
      "text/latex": [
       "1.4826"
      ],
      "text/markdown": [
       "1.4826"
      ],
      "text/plain": [
       "[1] 1.4826"
      ]
     },
     "metadata": {},
     "output_type": "display_data"
    }
   ],
   "source": [
    "mad(unlist(nbl))"
   ]
  },
  {
   "cell_type": "code",
   "execution_count": 120,
   "metadata": {},
   "outputs": [],
   "source": [
    "nbl_m <- (nbl - median(unlist(nbl)))/ mad(unlist(nbl))"
   ]
  },
  {
   "cell_type": "code",
   "execution_count": 121,
   "metadata": {},
   "outputs": [
    {
     "data": {
      "text/plain": [
       "     Min.   1st Qu.    Median      Mean   3rd Qu.      Max. \n",
       "  -0.6745    0.0000    0.0000    0.7823    0.6745 1607.9860 "
      ]
     },
     "metadata": {},
     "output_type": "display_data"
    }
   ],
   "source": [
    "summary(unlist(nbl_m))"
   ]
  },
  {
   "cell_type": "code",
   "execution_count": 122,
   "metadata": {},
   "outputs": [
    {
     "data": {
      "text/plain": [
       "   Min. 1st Qu.  Median    Mean 3rd Qu.    Max. \n",
       "   0.00    1.00    1.00    2.16    2.00 2385.00 "
      ]
     },
     "metadata": {},
     "output_type": "display_data"
    }
   ],
   "source": [
    "summary(unlist(nbl))"
   ]
  },
  {
   "cell_type": "code",
   "execution_count": 123,
   "metadata": {},
   "outputs": [
    {
     "data": {
      "image/png": "[encoded data removed]",
      "text/plain": [
       "plot without title"
      ]
     },
     "metadata": {
      "image/png": {
       "height": 420,
       "width": 420
      }
     },
     "output_type": "display_data"
    }
   ],
   "source": [
    "ggplot() + geom_histogram(aes(unlist(nbl_m)), binwidth = 1) + myaxis + myplot  +\n",
    "coord_cartesian(xlim = c(-1,20))"
   ]
  },
  {
   "cell_type": "code",
   "execution_count": 124,
   "metadata": {},
   "outputs": [],
   "source": [
    "nbl_expressed_genes <- rownames(nbl_m)[rowSums(nbl_m > quantile(unlist(nbl), 0.75)) >= 1]"
   ]
  },
  {
   "cell_type": "code",
   "execution_count": 125,
   "metadata": {},
   "outputs": [
    {
     "data": {
      "text/html": [
       "8825"
      ],
      "text/latex": [
       "8825"
      ],
      "text/markdown": [
       "8825"
      ],
      "text/plain": [
       "[1] 8825"
      ]
     },
     "metadata": {},
     "output_type": "display_data"
    }
   ],
   "source": [
    "length(nbl_expressed_genes)"
   ]
  },
  {
   "cell_type": "code",
   "execution_count": 126,
   "metadata": {},
   "outputs": [
    {
     "data": {
      "text/html": [
       "<style>\n",
       ".list-inline {list-style: none; margin:0; padding: 0}\n",
       ".list-inline>li {display: inline-block}\n",
       ".list-inline>li:not(:last-child)::after {content: \"\\00b7\"; padding: 0 .5ex}\n",
       "</style>\n",
       "<ol class=list-inline><li>26344</li><li>5</li></ol>\n"
      ],
      "text/latex": [
       "\\begin{enumerate*}\n",
       "\\item 26344\n",
       "\\item 5\n",
       "\\end{enumerate*}\n"
      ],
      "text/markdown": [
       "1. 26344\n",
       "2. 5\n",
       "\n",
       "\n"
      ],
      "text/plain": [
       "[1] 26344     5"
      ]
     },
     "metadata": {},
     "output_type": "display_data"
    }
   ],
   "source": [
    "dim(nbl_m)"
   ]
  },
  {
   "cell_type": "code",
   "execution_count": 127,
   "metadata": {},
   "outputs": [],
   "source": [
    "# median center genes across cell types.\n",
    "nbl_mcentr <- t(apply(nbl,1,mcentr))\n",
    "colnames(nbl_mcentr) <- colnames(nbl)"
   ]
  },
  {
   "cell_type": "code",
   "execution_count": 128,
   "metadata": {},
   "outputs": [],
   "source": [
    "# get a list of tables of differences for each gene\n",
    "diff_gen_list_nbl <- mclapply(rownames(nbl_mcentr), function(x){\n",
    "    mygen <- x\n",
    "    gen_df <- nbl_mcentr[mygen,]\n",
    "    #get ratio differences in counts across cell types\n",
    "    gen_tab_ratio <- outer(gen_df, gen_df, \"-\")\n",
    "    \n",
    "    return(gen_tab_ratio[c(\"maxcount_tumor\", \"maxcount_endo\",\n",
    "                          \"maxcount_mesench\", \"maxcount_schwann\"), \"maxcount_immune\", drop = F])    \n",
    "})\n",
    "\n",
    "names(diff_gen_list_nbl) <- rownames(nbl_mcentr)"
   ]
  },
  {
   "cell_type": "code",
   "execution_count": 129,
   "metadata": {},
   "outputs": [],
   "source": [
    "#genes with score diff > 2 in nonimmune vs immune\n",
    "diff_gen_list_nbl_nonimmune <- lapply(diff_gen_list_nbl, function(x) x[ rowSums(x >= 2) == 1,, drop = F])"
   ]
  },
  {
   "cell_type": "code",
   "execution_count": 130,
   "metadata": {},
   "outputs": [],
   "source": [
    "# rmeove empty lists\n",
    "diff_gen_list_nbl_nonimmune <- diff_gen_list_nbl_nonimmune[sapply(diff_gen_list_nbl_nonimmune, function(x) length(unlist(x)) >= 1)]"
   ]
  },
  {
   "cell_type": "code",
   "execution_count": 131,
   "metadata": {},
   "outputs": [
    {
     "data": {
      "text/html": [
       "<dl>\n",
       "\t<dt>$FGB</dt>\n",
       "\t\t<dd><table class=\"dataframe\">\n",
       "<caption>A matrix: 1 × 1 of type dbl</caption>\n",
       "<thead>\n",
       "\t<tr><th></th><th scope=col>maxcount_immune</th></tr>\n",
       "</thead>\n",
       "<tbody>\n",
       "\t<tr><th scope=row>maxcount_mesench</th><td>2.023472</td></tr>\n",
       "</tbody>\n",
       "</table>\n",
       "</dd>\n",
       "\t<dt>$CALCA</dt>\n",
       "\t\t<dd><table class=\"dataframe\">\n",
       "<caption>A matrix: 1 × 1 of type dbl</caption>\n",
       "<thead>\n",
       "\t<tr><th></th><th scope=col>maxcount_immune</th></tr>\n",
       "</thead>\n",
       "<tbody>\n",
       "\t<tr><th scope=row>maxcount_tumor</th><td>2.023472</td></tr>\n",
       "</tbody>\n",
       "</table>\n",
       "</dd>\n",
       "\t<dt>$SAA2</dt>\n",
       "\t\t<dd><table class=\"dataframe\">\n",
       "<caption>A matrix: 1 × 1 of type dbl</caption>\n",
       "<thead>\n",
       "\t<tr><th></th><th scope=col>maxcount_immune</th></tr>\n",
       "</thead>\n",
       "<tbody>\n",
       "\t<tr><th scope=row>maxcount_mesench</th><td>2.023472</td></tr>\n",
       "</tbody>\n",
       "</table>\n",
       "</dd>\n",
       "\t<dt>$APOC3</dt>\n",
       "\t\t<dd><table class=\"dataframe\">\n",
       "<caption>A matrix: 2 × 1 of type dbl</caption>\n",
       "<thead>\n",
       "\t<tr><th></th><th scope=col>maxcount_immune</th></tr>\n",
       "</thead>\n",
       "<tbody>\n",
       "\t<tr><th scope=row>maxcount_endo</th><td>2.023472</td></tr>\n",
       "\t<tr><th scope=row>maxcount_mesench</th><td>2.023472</td></tr>\n",
       "</tbody>\n",
       "</table>\n",
       "</dd>\n",
       "\t<dt>$TRIM43</dt>\n",
       "\t\t<dd><table class=\"dataframe\">\n",
       "<caption>A matrix: 1 × 1 of type dbl</caption>\n",
       "<thead>\n",
       "\t<tr><th></th><th scope=col>maxcount_immune</th></tr>\n",
       "</thead>\n",
       "<tbody>\n",
       "\t<tr><th scope=row>maxcount_tumor</th><td>10.79185</td></tr>\n",
       "</tbody>\n",
       "</table>\n",
       "</dd>\n",
       "\t<dt>$LHX9</dt>\n",
       "\t\t<dd><table class=\"dataframe\">\n",
       "<caption>A matrix: 1 × 1 of type dbl</caption>\n",
       "<thead>\n",
       "\t<tr><th></th><th scope=col>maxcount_immune</th></tr>\n",
       "</thead>\n",
       "<tbody>\n",
       "\t<tr><th scope=row>maxcount_tumor</th><td>2.023472</td></tr>\n",
       "</tbody>\n",
       "</table>\n",
       "</dd>\n",
       "</dl>\n"
      ],
      "text/latex": [
       "\\begin{description}\n",
       "\\item[\\$FGB] A matrix: 1 × 1 of type dbl\n",
       "\\begin{tabular}{r|l}\n",
       "  & maxcount\\_immune\\\\\n",
       "\\hline\n",
       "\tmaxcount\\_mesench & 2.023472\\\\\n",
       "\\end{tabular}\n",
       "\n",
       "\\item[\\$CALCA] A matrix: 1 × 1 of type dbl\n",
       "\\begin{tabular}{r|l}\n",
       "  & maxcount\\_immune\\\\\n",
       "\\hline\n",
       "\tmaxcount\\_tumor & 2.023472\\\\\n",
       "\\end{tabular}\n",
       "\n",
       "\\item[\\$SAA2] A matrix: 1 × 1 of type dbl\n",
       "\\begin{tabular}{r|l}\n",
       "  & maxcount\\_immune\\\\\n",
       "\\hline\n",
       "\tmaxcount\\_mesench & 2.023472\\\\\n",
       "\\end{tabular}\n",
       "\n",
       "\\item[\\$APOC3] A matrix: 2 × 1 of type dbl\n",
       "\\begin{tabular}{r|l}\n",
       "  & maxcount\\_immune\\\\\n",
       "\\hline\n",
       "\tmaxcount\\_endo & 2.023472\\\\\n",
       "\tmaxcount\\_mesench & 2.023472\\\\\n",
       "\\end{tabular}\n",
       "\n",
       "\\item[\\$TRIM43] A matrix: 1 × 1 of type dbl\n",
       "\\begin{tabular}{r|l}\n",
       "  & maxcount\\_immune\\\\\n",
       "\\hline\n",
       "\tmaxcount\\_tumor & 10.79185\\\\\n",
       "\\end{tabular}\n",
       "\n",
       "\\item[\\$LHX9] A matrix: 1 × 1 of type dbl\n",
       "\\begin{tabular}{r|l}\n",
       "  & maxcount\\_immune\\\\\n",
       "\\hline\n",
       "\tmaxcount\\_tumor & 2.023472\\\\\n",
       "\\end{tabular}\n",
       "\n",
       "\\end{description}\n"
      ],
      "text/markdown": [
       "$FGB\n",
       ":   \n",
       "A matrix: 1 × 1 of type dbl\n",
       "\n",
       "| <!--/--> | maxcount_immune |\n",
       "|---|---|\n",
       "| maxcount_mesench | 2.023472 |\n",
       "\n",
       "\n",
       "$CALCA\n",
       ":   \n",
       "A matrix: 1 × 1 of type dbl\n",
       "\n",
       "| <!--/--> | maxcount_immune |\n",
       "|---|---|\n",
       "| maxcount_tumor | 2.023472 |\n",
       "\n",
       "\n",
       "$SAA2\n",
       ":   \n",
       "A matrix: 1 × 1 of type dbl\n",
       "\n",
       "| <!--/--> | maxcount_immune |\n",
       "|---|---|\n",
       "| maxcount_mesench | 2.023472 |\n",
       "\n",
       "\n",
       "$APOC3\n",
       ":   \n",
       "A matrix: 2 × 1 of type dbl\n",
       "\n",
       "| <!--/--> | maxcount_immune |\n",
       "|---|---|\n",
       "| maxcount_endo | 2.023472 |\n",
       "| maxcount_mesench | 2.023472 |\n",
       "\n",
       "\n",
       "$TRIM43\n",
       ":   \n",
       "A matrix: 1 × 1 of type dbl\n",
       "\n",
       "| <!--/--> | maxcount_immune |\n",
       "|---|---|\n",
       "| maxcount_tumor | 10.79185 |\n",
       "\n",
       "\n",
       "$LHX9\n",
       ":   \n",
       "A matrix: 1 × 1 of type dbl\n",
       "\n",
       "| <!--/--> | maxcount_immune |\n",
       "|---|---|\n",
       "| maxcount_tumor | 2.023472 |\n",
       "\n",
       "\n",
       "\n",
       "\n"
      ],
      "text/plain": [
       "$FGB\n",
       "                 maxcount_immune\n",
       "maxcount_mesench        2.023472\n",
       "\n",
       "$CALCA\n",
       "               maxcount_immune\n",
       "maxcount_tumor        2.023472\n",
       "\n",
       "$SAA2\n",
       "                 maxcount_immune\n",
       "maxcount_mesench        2.023472\n",
       "\n",
       "$APOC3\n",
       "                 maxcount_immune\n",
       "maxcount_endo           2.023472\n",
       "maxcount_mesench        2.023472\n",
       "\n",
       "$TRIM43\n",
       "               maxcount_immune\n",
       "maxcount_tumor        10.79185\n",
       "\n",
       "$LHX9\n",
       "               maxcount_immune\n",
       "maxcount_tumor        2.023472\n"
      ]
     },
     "metadata": {},
     "output_type": "display_data"
    }
   ],
   "source": [
    "tail(diff_gen_list_nbl_nonimmune)"
   ]
  },
  {
   "cell_type": "code",
   "execution_count": 132,
   "metadata": {},
   "outputs": [],
   "source": [
    "# select genes with score (of expression across all celltypes) > 0\n",
    "nbl_nonimmune_genes_expressed <- diff_gen_list_nbl_nonimmune[names(diff_gen_list_nbl_nonimmune) %in% \n",
    "                                                             nbl_expressed_genes]"
   ]
  },
  {
   "cell_type": "code",
   "execution_count": 133,
   "metadata": {},
   "outputs": [
    {
     "data": {
      "text/html": [
       "3054"
      ],
      "text/latex": [
       "3054"
      ],
      "text/markdown": [
       "3054"
      ],
      "text/plain": [
       "[1] 3054"
      ]
     },
     "metadata": {},
     "output_type": "display_data"
    },
    {
     "data": {
      "text/html": [
       "3036"
      ],
      "text/latex": [
       "3036"
      ],
      "text/markdown": [
       "3036"
      ],
      "text/plain": [
       "[1] 3036"
      ]
     },
     "metadata": {},
     "output_type": "display_data"
    }
   ],
   "source": [
    "length(diff_gen_list_nbl_nonimmune)\n",
    "length(nbl_nonimmune_genes_expressed)"
   ]
  },
  {
   "cell_type": "code",
   "execution_count": 134,
   "metadata": {},
   "outputs": [],
   "source": [
    "nbl_nonimmune_genes_expressed <- names(nbl_nonimmune_genes_expressed)"
   ]
  },
  {
   "cell_type": "code",
   "execution_count": 135,
   "metadata": {},
   "outputs": [
    {
     "data": {
      "text/html": [
       "3036"
      ],
      "text/latex": [
       "3036"
      ],
      "text/markdown": [
       "3036"
      ],
      "text/plain": [
       "[1] 3036"
      ]
     },
     "metadata": {},
     "output_type": "display_data"
    }
   ],
   "source": [
    "length(nbl_nonimmune_genes_expressed)"
   ]
  },
  {
   "cell_type": "code",
   "execution_count": 136,
   "metadata": {},
   "outputs": [
    {
     "data": {
      "text/html": [],
      "text/latex": [],
      "text/markdown": [],
      "text/plain": [
       "character(0)"
      ]
     },
     "metadata": {},
     "output_type": "display_data"
    }
   ],
   "source": [
    "nbl_nonimmune_genes_expressed[ nbl_nonimmune_genes_expressed == \"CD8A\"]"
   ]
  },
  {
   "cell_type": "markdown",
   "metadata": {},
   "source": [
    "3036 genes are expressed > 75th percentile expression of all genes in at least one cell type AND are expressed >2 difference in at least one nonimmune celltype compared to immune celltype"
   ]
  },
  {
   "cell_type": "markdown",
   "metadata": {},
   "source": [
    "### 2- Gojo's EPN"
   ]
  },
  {
   "cell_type": "code",
   "execution_count": 137,
   "metadata": {},
   "outputs": [],
   "source": [
    "gojo_files <- list.files(paste0(datapath,\"single_cell/\"), pattern = \"gojo\", full.names = T, recursive = T)"
   ]
  },
  {
   "cell_type": "code",
   "execution_count": 138,
   "metadata": {},
   "outputs": [],
   "source": [
    "gojofiles <- lapply(gojo_files, \n",
    "                    function(f){read.table(f, header = TRUE, sep = \"\\t\", stringsAsFactors = F)})"
   ]
  },
  {
   "cell_type": "code",
   "execution_count": 139,
   "metadata": {},
   "outputs": [],
   "source": [
    "names(gojofiles) <- gsub(\".*gojo\", \"gojo\", gojo_files)"
   ]
  },
  {
   "cell_type": "code",
   "execution_count": 140,
   "metadata": {},
   "outputs": [],
   "source": [
    "#bind all tumour clusters together\n",
    "gojofiles_tum <- as.data.frame(do.call(\"cbind\", gojofiles[5:25]))"
   ]
  },
  {
   "cell_type": "code",
   "execution_count": 141,
   "metadata": {},
   "outputs": [
    {
     "data": {
      "text/html": [
       "<style>\n",
       ".list-inline {list-style: none; margin:0; padding: 0}\n",
       ".list-inline>li {display: inline-block}\n",
       ".list-inline>li:not(:last-child)::after {content: \"\\00b7\"; padding: 0 .5ex}\n",
       "</style>\n",
       "<ol class=list-inline><li>23686</li><li>5426</li></ol>\n"
      ],
      "text/latex": [
       "\\begin{enumerate*}\n",
       "\\item 23686\n",
       "\\item 5426\n",
       "\\end{enumerate*}\n"
      ],
      "text/markdown": [
       "1. 23686\n",
       "2. 5426\n",
       "\n",
       "\n"
      ],
      "text/plain": [
       "[1] 23686  5426"
      ]
     },
     "metadata": {},
     "output_type": "display_data"
    }
   ],
   "source": [
    "dim(gojofiles_tum)"
   ]
  },
  {
   "cell_type": "code",
   "execution_count": 142,
   "metadata": {},
   "outputs": [],
   "source": [
    "gojo_data <- list()\n",
    "\n",
    "gojo_data$Tumor <- gojofiles_tum\n",
    "gojo_data$Endothelial <- gojofiles[[\"gojo_Endothelial-cell.txt\"]]\n",
    "gojo_data$Microglia <- gojofiles[[\"gojo_Microglia.txt\"]]\n",
    "gojo_data$Oligodend <- gojofiles[[\"gojo_Oligodendrocyte.txt\"]]\n",
    "gojo_data$OPC <- gojofiles[[\"gojo_OPC.txt\"]]\n",
    "gojo_data$T_cells <- gojofiles[[\"gojo_T-cell.txt\"]]"
   ]
  },
  {
   "cell_type": "code",
   "execution_count": 143,
   "metadata": {},
   "outputs": [],
   "source": [
    "gojo_maxcounts <- lapply(gojo_data, function(x){apply(x, 1, max)})"
   ]
  },
  {
   "cell_type": "code",
   "execution_count": 144,
   "metadata": {},
   "outputs": [],
   "source": [
    "gojo_maxcounts_all <- as.data.frame(do.call(\"cbind\", gojo_maxcounts))"
   ]
  },
  {
   "cell_type": "code",
   "execution_count": 145,
   "metadata": {},
   "outputs": [
    {
     "data": {
      "text/html": [
       "<table class=\"dataframe\">\n",
       "<caption>A data.frame: 6 × 6</caption>\n",
       "<thead>\n",
       "\t<tr><th></th><th scope=col>Tumor</th><th scope=col>Endothelial</th><th scope=col>Microglia</th><th scope=col>Oligodend</th><th scope=col>OPC</th><th scope=col>T_cells</th></tr>\n",
       "\t<tr><th></th><th scope=col>&lt;dbl&gt;</th><th scope=col>&lt;dbl&gt;</th><th scope=col>&lt;dbl&gt;</th><th scope=col>&lt;dbl&gt;</th><th scope=col>&lt;dbl&gt;</th><th scope=col>&lt;dbl&gt;</th></tr>\n",
       "</thead>\n",
       "<tbody>\n",
       "\t<tr><th scope=row>ZXDC</th><td> 809.50</td><td>562.61</td><td>336.66</td><td>162.93</td><td> 481.09</td><td> 91.02</td></tr>\n",
       "\t<tr><th scope=row>ZYG11A</th><td> 164.97</td><td> 15.78</td><td> 29.18</td><td>  6.85</td><td>  11.17</td><td> 11.00</td></tr>\n",
       "\t<tr><th scope=row>ZYG11B</th><td>1786.92</td><td>139.13</td><td>130.99</td><td>187.98</td><td> 339.48</td><td> 47.00</td></tr>\n",
       "\t<tr><th scope=row>ZYX</th><td> 880.00</td><td>298.00</td><td>714.00</td><td> 97.00</td><td>1156.00</td><td>142.00</td></tr>\n",
       "\t<tr><th scope=row>ZZEF1</th><td> 893.99</td><td>335.00</td><td>631.02</td><td>292.00</td><td> 178.00</td><td>369.00</td></tr>\n",
       "\t<tr><th scope=row>ZZZ3</th><td>2244.02</td><td>403.00</td><td>128.00</td><td>256.00</td><td> 286.00</td><td>131.00</td></tr>\n",
       "</tbody>\n",
       "</table>\n"
      ],
      "text/latex": [
       "A data.frame: 6 × 6\n",
       "\\begin{tabular}{r|llllll}\n",
       "  & Tumor & Endothelial & Microglia & Oligodend & OPC & T\\_cells\\\\\n",
       "  & <dbl> & <dbl> & <dbl> & <dbl> & <dbl> & <dbl>\\\\\n",
       "\\hline\n",
       "\tZXDC &  809.50 & 562.61 & 336.66 & 162.93 &  481.09 &  91.02\\\\\n",
       "\tZYG11A &  164.97 &  15.78 &  29.18 &   6.85 &   11.17 &  11.00\\\\\n",
       "\tZYG11B & 1786.92 & 139.13 & 130.99 & 187.98 &  339.48 &  47.00\\\\\n",
       "\tZYX &  880.00 & 298.00 & 714.00 &  97.00 & 1156.00 & 142.00\\\\\n",
       "\tZZEF1 &  893.99 & 335.00 & 631.02 & 292.00 &  178.00 & 369.00\\\\\n",
       "\tZZZ3 & 2244.02 & 403.00 & 128.00 & 256.00 &  286.00 & 131.00\\\\\n",
       "\\end{tabular}\n"
      ],
      "text/markdown": [
       "\n",
       "A data.frame: 6 × 6\n",
       "\n",
       "| <!--/--> | Tumor &lt;dbl&gt; | Endothelial &lt;dbl&gt; | Microglia &lt;dbl&gt; | Oligodend &lt;dbl&gt; | OPC &lt;dbl&gt; | T_cells &lt;dbl&gt; |\n",
       "|---|---|---|---|---|---|---|\n",
       "| ZXDC |  809.50 | 562.61 | 336.66 | 162.93 |  481.09 |  91.02 |\n",
       "| ZYG11A |  164.97 |  15.78 |  29.18 |   6.85 |   11.17 |  11.00 |\n",
       "| ZYG11B | 1786.92 | 139.13 | 130.99 | 187.98 |  339.48 |  47.00 |\n",
       "| ZYX |  880.00 | 298.00 | 714.00 |  97.00 | 1156.00 | 142.00 |\n",
       "| ZZEF1 |  893.99 | 335.00 | 631.02 | 292.00 |  178.00 | 369.00 |\n",
       "| ZZZ3 | 2244.02 | 403.00 | 128.00 | 256.00 |  286.00 | 131.00 |\n",
       "\n"
      ],
      "text/plain": [
       "       Tumor   Endothelial Microglia Oligodend OPC     T_cells\n",
       "ZXDC    809.50 562.61      336.66    162.93     481.09  91.02 \n",
       "ZYG11A  164.97  15.78       29.18      6.85      11.17  11.00 \n",
       "ZYG11B 1786.92 139.13      130.99    187.98     339.48  47.00 \n",
       "ZYX     880.00 298.00      714.00     97.00    1156.00 142.00 \n",
       "ZZEF1   893.99 335.00      631.02    292.00     178.00 369.00 \n",
       "ZZZ3   2244.02 403.00      128.00    256.00     286.00 131.00 "
      ]
     },
     "metadata": {},
     "output_type": "display_data"
    }
   ],
   "source": [
    "tail(gojo_maxcounts_all)"
   ]
  },
  {
   "cell_type": "code",
   "execution_count": 146,
   "metadata": {},
   "outputs": [
    {
     "data": {
      "text/html": [
       "259.508577288975"
      ],
      "text/latex": [
       "259.508577288975"
      ],
      "text/markdown": [
       "259.508577288975"
      ],
      "text/plain": [
       "[1] 259.5086"
      ]
     },
     "metadata": {},
     "output_type": "display_data"
    }
   ],
   "source": [
    "mean(unlist(gojo_maxcounts_all))"
   ]
  },
  {
   "cell_type": "code",
   "execution_count": 147,
   "metadata": {},
   "outputs": [
    {
     "data": {
      "text/html": [
       "75.6126"
      ],
      "text/latex": [
       "75.6126"
      ],
      "text/markdown": [
       "75.6126"
      ],
      "text/plain": [
       "[1] 75.6126"
      ]
     },
     "metadata": {},
     "output_type": "display_data"
    }
   ],
   "source": [
    "mad(unlist(gojo_maxcounts_all))"
   ]
  },
  {
   "cell_type": "code",
   "execution_count": 148,
   "metadata": {},
   "outputs": [],
   "source": [
    "gojo_maxcounts_m <- (gojo_maxcounts_all - median(unlist(gojo_maxcounts_all)))/ mad(unlist(gojo_maxcounts_all))"
   ]
  },
  {
   "cell_type": "code",
   "execution_count": 149,
   "metadata": {},
   "outputs": [
    {
     "data": {
      "text/plain": [
       "    Min.  1st Qu.   Median     Mean  3rd Qu.     Max. \n",
       "  -0.674   -0.661    0.000    2.758    2.156 3213.472 "
      ]
     },
     "metadata": {},
     "output_type": "display_data"
    }
   ],
   "source": [
    "summary(unlist(gojo_maxcounts_m))"
   ]
  },
  {
   "cell_type": "code",
   "execution_count": 150,
   "metadata": {},
   "outputs": [
    {
     "data": {
      "text/html": [
       "<table class=\"dataframe\">\n",
       "<caption>A data.frame: 6 × 6</caption>\n",
       "<thead>\n",
       "\t<tr><th></th><th scope=col>Tumor</th><th scope=col>Endothelial</th><th scope=col>Microglia</th><th scope=col>Oligodend</th><th scope=col>OPC</th><th scope=col>T_cells</th></tr>\n",
       "\t<tr><th></th><th scope=col>&lt;dbl&gt;</th><th scope=col>&lt;dbl&gt;</th><th scope=col>&lt;dbl&gt;</th><th scope=col>&lt;dbl&gt;</th><th scope=col>&lt;dbl&gt;</th><th scope=col>&lt;dbl&gt;</th></tr>\n",
       "</thead>\n",
       "<tbody>\n",
       "\t<tr><th scope=row>A1BG</th><td>  1.6531636</td><td> -0.1587037</td><td>-0.42320989</td><td>-0.4232099</td><td>-0.58191360</td><td>-0.22483025</td></tr>\n",
       "\t<tr><th scope=row>A1BG-AS1</th><td>  3.3274877</td><td> -0.3835340</td><td>-0.03147624</td><td> 0.3437258</td><td> 0.01177053</td><td>-0.16663889</td></tr>\n",
       "\t<tr><th scope=row>A1CF</th><td>  0.3570833</td><td> -0.5951389</td><td>-0.64804014</td><td>-0.6612655</td><td>-0.62158952</td><td>-0.66126545</td></tr>\n",
       "\t<tr><th scope=row>A2M</th><td>143.5144407</td><td>377.1532787</td><td>82.76490955</td><td>-0.4496605</td><td> 2.22185191</td><td> 0.05290124</td></tr>\n",
       "\t<tr><th scope=row>A2M-AS1</th><td>  4.2850001</td><td>  0.3570833</td><td> 0.96544756</td><td>-0.5951389</td><td>-0.26450618</td><td>-0.67449076</td></tr>\n",
       "\t<tr><th scope=row>A2ML1</th><td>  7.2474693</td><td> -0.6083642</td><td>-0.64804014</td><td>-0.6480401</td><td>-0.63481483</td><td>-0.58191360</td></tr>\n",
       "</tbody>\n",
       "</table>\n"
      ],
      "text/latex": [
       "A data.frame: 6 × 6\n",
       "\\begin{tabular}{r|llllll}\n",
       "  & Tumor & Endothelial & Microglia & Oligodend & OPC & T\\_cells\\\\\n",
       "  & <dbl> & <dbl> & <dbl> & <dbl> & <dbl> & <dbl>\\\\\n",
       "\\hline\n",
       "\tA1BG &   1.6531636 &  -0.1587037 & -0.42320989 & -0.4232099 & -0.58191360 & -0.22483025\\\\\n",
       "\tA1BG-AS1 &   3.3274877 &  -0.3835340 & -0.03147624 &  0.3437258 &  0.01177053 & -0.16663889\\\\\n",
       "\tA1CF &   0.3570833 &  -0.5951389 & -0.64804014 & -0.6612655 & -0.62158952 & -0.66126545\\\\\n",
       "\tA2M & 143.5144407 & 377.1532787 & 82.76490955 & -0.4496605 &  2.22185191 &  0.05290124\\\\\n",
       "\tA2M-AS1 &   4.2850001 &   0.3570833 &  0.96544756 & -0.5951389 & -0.26450618 & -0.67449076\\\\\n",
       "\tA2ML1 &   7.2474693 &  -0.6083642 & -0.64804014 & -0.6480401 & -0.63481483 & -0.58191360\\\\\n",
       "\\end{tabular}\n"
      ],
      "text/markdown": [
       "\n",
       "A data.frame: 6 × 6\n",
       "\n",
       "| <!--/--> | Tumor &lt;dbl&gt; | Endothelial &lt;dbl&gt; | Microglia &lt;dbl&gt; | Oligodend &lt;dbl&gt; | OPC &lt;dbl&gt; | T_cells &lt;dbl&gt; |\n",
       "|---|---|---|---|---|---|---|\n",
       "| A1BG |   1.6531636 |  -0.1587037 | -0.42320989 | -0.4232099 | -0.58191360 | -0.22483025 |\n",
       "| A1BG-AS1 |   3.3274877 |  -0.3835340 | -0.03147624 |  0.3437258 |  0.01177053 | -0.16663889 |\n",
       "| A1CF |   0.3570833 |  -0.5951389 | -0.64804014 | -0.6612655 | -0.62158952 | -0.66126545 |\n",
       "| A2M | 143.5144407 | 377.1532787 | 82.76490955 | -0.4496605 |  2.22185191 |  0.05290124 |\n",
       "| A2M-AS1 |   4.2850001 |   0.3570833 |  0.96544756 | -0.5951389 | -0.26450618 | -0.67449076 |\n",
       "| A2ML1 |   7.2474693 |  -0.6083642 | -0.64804014 | -0.6480401 | -0.63481483 | -0.58191360 |\n",
       "\n"
      ],
      "text/plain": [
       "         Tumor       Endothelial Microglia   Oligodend  OPC         T_cells    \n",
       "A1BG       1.6531636  -0.1587037 -0.42320989 -0.4232099 -0.58191360 -0.22483025\n",
       "A1BG-AS1   3.3274877  -0.3835340 -0.03147624  0.3437258  0.01177053 -0.16663889\n",
       "A1CF       0.3570833  -0.5951389 -0.64804014 -0.6612655 -0.62158952 -0.66126545\n",
       "A2M      143.5144407 377.1532787 82.76490955 -0.4496605  2.22185191  0.05290124\n",
       "A2M-AS1    4.2850001   0.3570833  0.96544756 -0.5951389 -0.26450618 -0.67449076\n",
       "A2ML1      7.2474693  -0.6083642 -0.64804014 -0.6480401 -0.63481483 -0.58191360"
      ]
     },
     "metadata": {},
     "output_type": "display_data"
    }
   ],
   "source": [
    "head(gojo_maxcounts_m)"
   ]
  },
  {
   "cell_type": "code",
   "execution_count": 151,
   "metadata": {},
   "outputs": [
    {
     "data": {
      "text/plain": [
       "    Min.  1st Qu.   Median     Mean  3rd Qu.     Max. \n",
       "     0.0      1.0     51.0    259.5    214.0 243030.0 "
      ]
     },
     "metadata": {},
     "output_type": "display_data"
    }
   ],
   "source": [
    "summary(unlist(gojo_maxcounts_all))"
   ]
  },
  {
   "cell_type": "code",
   "execution_count": 152,
   "metadata": {},
   "outputs": [
    {
     "data": {
      "image/png": "[encoded data removed]",
      "text/plain": [
       "plot without title"
      ]
     },
     "metadata": {
      "image/png": {
       "height": 420,
       "width": 420
      }
     },
     "output_type": "display_data"
    }
   ],
   "source": [
    "ggplot() + geom_histogram(aes(unlist(gojo_maxcounts_m)), binwidth = 1) + myplot + myaxis +\n",
    "coord_cartesian(xlim = c(-1,10))"
   ]
  },
  {
   "cell_type": "code",
   "execution_count": 153,
   "metadata": {},
   "outputs": [],
   "source": [
    "gojo_expressed_genes <- rownames(gojo_maxcounts_m)[rowSums(gojo_maxcounts_m > quantile(unlist(gojo_maxcounts_m), 0.75)) >= 1]"
   ]
  },
  {
   "cell_type": "code",
   "execution_count": 154,
   "metadata": {},
   "outputs": [],
   "source": [
    "#median center genes\n",
    "gojo_mcentr <- t(apply(gojo_maxcounts_all,1,mcentr))\n",
    "\n",
    "colnames(gojo_mcentr) <- colnames(gojo_maxcounts_all)"
   ]
  },
  {
   "cell_type": "code",
   "execution_count": 155,
   "metadata": {},
   "outputs": [
    {
     "data": {
      "text/html": [
       "<table class=\"dataframe\">\n",
       "<caption>A matrix: 6 × 6 of type dbl</caption>\n",
       "<thead>\n",
       "\t<tr><th></th><th scope=col>Tumor</th><th scope=col>Endothelial</th><th scope=col>Microglia</th><th scope=col>Oligodend</th><th scope=col>OPC</th><th scope=col>T_cells</th></tr>\n",
       "</thead>\n",
       "<tbody>\n",
       "\t<tr><th scope=row>A1BG</th><td> 10.083637</td><td> 0.8431134</td><td>-0.50586807</td><td>-0.5058681</td><td>-1.31525698</td><td> 0.5058681</td></tr>\n",
       "\t<tr><th scope=row>A1BG-AS1</th><td>  8.821165</td><td>-0.9877034</td><td>-0.05715431</td><td> 0.9345691</td><td> 0.05715431</td><td>-0.4144124</td></tr>\n",
       "\t<tr><th scope=row>A1CF</th><td> 25.293403</td><td> 1.0117361</td><td>-0.33724538</td><td>-0.6744908</td><td> 0.33724538</td><td>-0.6744908</td></tr>\n",
       "\t<tr><th scope=row>A2M</th><td>  1.596040</td><td> 5.2873202</td><td> 0.63625332</td><td>-0.6784608</td><td>-0.63625332</td><td>-0.6705208</td></tr>\n",
       "\t<tr><th scope=row>A2M-AS1</th><td>  4.197559</td><td> 0.3077773</td><td> 0.91023510</td><td>-0.6352000</td><td>-0.30777734</td><td>-0.7137815</td></tr>\n",
       "\t<tr><th scope=row>A2ML1</th><td>200.661001</td><td> 0.3372454</td><td>-0.67449076</td><td>-0.6744908</td><td>-0.33724538</td><td> 1.0117361</td></tr>\n",
       "</tbody>\n",
       "</table>\n"
      ],
      "text/latex": [
       "A matrix: 6 × 6 of type dbl\n",
       "\\begin{tabular}{r|llllll}\n",
       "  & Tumor & Endothelial & Microglia & Oligodend & OPC & T\\_cells\\\\\n",
       "\\hline\n",
       "\tA1BG &  10.083637 &  0.8431134 & -0.50586807 & -0.5058681 & -1.31525698 &  0.5058681\\\\\n",
       "\tA1BG-AS1 &   8.821165 & -0.9877034 & -0.05715431 &  0.9345691 &  0.05715431 & -0.4144124\\\\\n",
       "\tA1CF &  25.293403 &  1.0117361 & -0.33724538 & -0.6744908 &  0.33724538 & -0.6744908\\\\\n",
       "\tA2M &   1.596040 &  5.2873202 &  0.63625332 & -0.6784608 & -0.63625332 & -0.6705208\\\\\n",
       "\tA2M-AS1 &   4.197559 &  0.3077773 &  0.91023510 & -0.6352000 & -0.30777734 & -0.7137815\\\\\n",
       "\tA2ML1 & 200.661001 &  0.3372454 & -0.67449076 & -0.6744908 & -0.33724538 &  1.0117361\\\\\n",
       "\\end{tabular}\n"
      ],
      "text/markdown": [
       "\n",
       "A matrix: 6 × 6 of type dbl\n",
       "\n",
       "| <!--/--> | Tumor | Endothelial | Microglia | Oligodend | OPC | T_cells |\n",
       "|---|---|---|---|---|---|---|\n",
       "| A1BG |  10.083637 |  0.8431134 | -0.50586807 | -0.5058681 | -1.31525698 |  0.5058681 |\n",
       "| A1BG-AS1 |   8.821165 | -0.9877034 | -0.05715431 |  0.9345691 |  0.05715431 | -0.4144124 |\n",
       "| A1CF |  25.293403 |  1.0117361 | -0.33724538 | -0.6744908 |  0.33724538 | -0.6744908 |\n",
       "| A2M |   1.596040 |  5.2873202 |  0.63625332 | -0.6784608 | -0.63625332 | -0.6705208 |\n",
       "| A2M-AS1 |   4.197559 |  0.3077773 |  0.91023510 | -0.6352000 | -0.30777734 | -0.7137815 |\n",
       "| A2ML1 | 200.661001 |  0.3372454 | -0.67449076 | -0.6744908 | -0.33724538 |  1.0117361 |\n",
       "\n"
      ],
      "text/plain": [
       "         Tumor      Endothelial Microglia   Oligodend  OPC         T_cells   \n",
       "A1BG      10.083637  0.8431134  -0.50586807 -0.5058681 -1.31525698  0.5058681\n",
       "A1BG-AS1   8.821165 -0.9877034  -0.05715431  0.9345691  0.05715431 -0.4144124\n",
       "A1CF      25.293403  1.0117361  -0.33724538 -0.6744908  0.33724538 -0.6744908\n",
       "A2M        1.596040  5.2873202   0.63625332 -0.6784608 -0.63625332 -0.6705208\n",
       "A2M-AS1    4.197559  0.3077773   0.91023510 -0.6352000 -0.30777734 -0.7137815\n",
       "A2ML1    200.661001  0.3372454  -0.67449076 -0.6744908 -0.33724538  1.0117361"
      ]
     },
     "metadata": {},
     "output_type": "display_data"
    }
   ],
   "source": [
    "head(gojo_mcentr)"
   ]
  },
  {
   "cell_type": "code",
   "execution_count": 156,
   "metadata": {},
   "outputs": [],
   "source": [
    "# get a list of tables with score differences for each gene\n",
    "diff_gen_list_gojo <- mclapply(rownames(gojo_mcentr), function(x){\n",
    "    mygen <- x\n",
    "    gen_df <- gojo_mcentr[mygen,]\n",
    "    #get differences in counts across cell types\n",
    "    gen_tab_ratio <- outer(gen_df, gen_df, \"-\")\n",
    "    \n",
    "    return(gen_tab_ratio[c(\"Tumor\", \"Endothelial\",\n",
    "                          \"Oligodend\", \"OPC\"), c(\"Microglia\", \"T_cells\"), drop = F])    \n",
    "})\n",
    "\n",
    "names(diff_gen_list_gojo) <- rownames(gojo_mcentr)"
   ]
  },
  {
   "cell_type": "code",
   "execution_count": 157,
   "metadata": {},
   "outputs": [],
   "source": [
    "#genes with z score diff > 2 in nonimmune vs immune\n",
    "diff_gen_list_gojo_nonimmune <- lapply(diff_gen_list_gojo, function(x) x[ rowSums(x >= 2) >= 1,, drop = F])"
   ]
  },
  {
   "cell_type": "code",
   "execution_count": 158,
   "metadata": {},
   "outputs": [],
   "source": [
    "# rmeove empty lists\n",
    "diff_gen_list_gojo_nonimmune <- diff_gen_list_gojo_nonimmune[sapply(diff_gen_list_gojo_nonimmune, \n",
    "                                                                  function(x) length(unlist(x)) >= 1)]"
   ]
  },
  {
   "cell_type": "code",
   "execution_count": 159,
   "metadata": {},
   "outputs": [
    {
     "data": {
      "text/html": [
       "<dl>\n",
       "\t<dt>$A1BG</dt>\n",
       "\t\t<dd><table class=\"dataframe\">\n",
       "<caption>A matrix: 1 × 2 of type dbl</caption>\n",
       "<thead>\n",
       "\t<tr><th></th><th scope=col>Microglia</th><th scope=col>T_cells</th></tr>\n",
       "</thead>\n",
       "<tbody>\n",
       "\t<tr><th scope=row>Tumor</th><td>10.5895</td><td>9.577769</td></tr>\n",
       "</tbody>\n",
       "</table>\n",
       "</dd>\n",
       "\t<dt>$`A1BG-AS1`</dt>\n",
       "\t\t<dd><table class=\"dataframe\">\n",
       "<caption>A matrix: 1 × 2 of type dbl</caption>\n",
       "<thead>\n",
       "\t<tr><th></th><th scope=col>Microglia</th><th scope=col>T_cells</th></tr>\n",
       "</thead>\n",
       "<tbody>\n",
       "\t<tr><th scope=row>Tumor</th><td>8.878319</td><td>9.235577</td></tr>\n",
       "</tbody>\n",
       "</table>\n",
       "</dd>\n",
       "\t<dt>$A1CF</dt>\n",
       "\t\t<dd><table class=\"dataframe\">\n",
       "<caption>A matrix: 1 × 2 of type dbl</caption>\n",
       "<thead>\n",
       "\t<tr><th></th><th scope=col>Microglia</th><th scope=col>T_cells</th></tr>\n",
       "</thead>\n",
       "<tbody>\n",
       "\t<tr><th scope=row>Tumor</th><td>25.63065</td><td>25.96789</td></tr>\n",
       "</tbody>\n",
       "</table>\n",
       "</dd>\n",
       "\t<dt>$A2M</dt>\n",
       "\t\t<dd><table class=\"dataframe\">\n",
       "<caption>A matrix: 2 × 2 of type dbl</caption>\n",
       "<thead>\n",
       "\t<tr><th></th><th scope=col>Microglia</th><th scope=col>T_cells</th></tr>\n",
       "</thead>\n",
       "<tbody>\n",
       "\t<tr><th scope=row>Tumor</th><td>0.959787</td><td>2.266561</td></tr>\n",
       "\t<tr><th scope=row>Endothelial</th><td>4.651067</td><td>5.957841</td></tr>\n",
       "</tbody>\n",
       "</table>\n",
       "</dd>\n",
       "\t<dt>$`A2M-AS1`</dt>\n",
       "\t\t<dd><table class=\"dataframe\">\n",
       "<caption>A matrix: 1 × 2 of type dbl</caption>\n",
       "<thead>\n",
       "\t<tr><th></th><th scope=col>Microglia</th><th scope=col>T_cells</th></tr>\n",
       "</thead>\n",
       "<tbody>\n",
       "\t<tr><th scope=row>Tumor</th><td>3.287324</td><td>4.91134</td></tr>\n",
       "</tbody>\n",
       "</table>\n",
       "</dd>\n",
       "\t<dt>$A2ML1</dt>\n",
       "\t\t<dd><table class=\"dataframe\">\n",
       "<caption>A matrix: 1 × 2 of type dbl</caption>\n",
       "<thead>\n",
       "\t<tr><th></th><th scope=col>Microglia</th><th scope=col>T_cells</th></tr>\n",
       "</thead>\n",
       "<tbody>\n",
       "\t<tr><th scope=row>Tumor</th><td>201.3355</td><td>199.6493</td></tr>\n",
       "</tbody>\n",
       "</table>\n",
       "</dd>\n",
       "</dl>\n"
      ],
      "text/latex": [
       "\\begin{description}\n",
       "\\item[\\$A1BG] A matrix: 1 × 2 of type dbl\n",
       "\\begin{tabular}{r|ll}\n",
       "  & Microglia & T\\_cells\\\\\n",
       "\\hline\n",
       "\tTumor & 10.5895 & 9.577769\\\\\n",
       "\\end{tabular}\n",
       "\n",
       "\\item[\\$`A1BG-AS1`] A matrix: 1 × 2 of type dbl\n",
       "\\begin{tabular}{r|ll}\n",
       "  & Microglia & T\\_cells\\\\\n",
       "\\hline\n",
       "\tTumor & 8.878319 & 9.235577\\\\\n",
       "\\end{tabular}\n",
       "\n",
       "\\item[\\$A1CF] A matrix: 1 × 2 of type dbl\n",
       "\\begin{tabular}{r|ll}\n",
       "  & Microglia & T\\_cells\\\\\n",
       "\\hline\n",
       "\tTumor & 25.63065 & 25.96789\\\\\n",
       "\\end{tabular}\n",
       "\n",
       "\\item[\\$A2M] A matrix: 2 × 2 of type dbl\n",
       "\\begin{tabular}{r|ll}\n",
       "  & Microglia & T\\_cells\\\\\n",
       "\\hline\n",
       "\tTumor & 0.959787 & 2.266561\\\\\n",
       "\tEndothelial & 4.651067 & 5.957841\\\\\n",
       "\\end{tabular}\n",
       "\n",
       "\\item[\\$`A2M-AS1`] A matrix: 1 × 2 of type dbl\n",
       "\\begin{tabular}{r|ll}\n",
       "  & Microglia & T\\_cells\\\\\n",
       "\\hline\n",
       "\tTumor & 3.287324 & 4.91134\\\\\n",
       "\\end{tabular}\n",
       "\n",
       "\\item[\\$A2ML1] A matrix: 1 × 2 of type dbl\n",
       "\\begin{tabular}{r|ll}\n",
       "  & Microglia & T\\_cells\\\\\n",
       "\\hline\n",
       "\tTumor & 201.3355 & 199.6493\\\\\n",
       "\\end{tabular}\n",
       "\n",
       "\\end{description}\n"
      ],
      "text/markdown": [
       "$A1BG\n",
       ":   \n",
       "A matrix: 1 × 2 of type dbl\n",
       "\n",
       "| <!--/--> | Microglia | T_cells |\n",
       "|---|---|---|\n",
       "| Tumor | 10.5895 | 9.577769 |\n",
       "\n",
       "\n",
       "$`A1BG-AS1`\n",
       ":   \n",
       "A matrix: 1 × 2 of type dbl\n",
       "\n",
       "| <!--/--> | Microglia | T_cells |\n",
       "|---|---|---|\n",
       "| Tumor | 8.878319 | 9.235577 |\n",
       "\n",
       "\n",
       "$A1CF\n",
       ":   \n",
       "A matrix: 1 × 2 of type dbl\n",
       "\n",
       "| <!--/--> | Microglia | T_cells |\n",
       "|---|---|---|\n",
       "| Tumor | 25.63065 | 25.96789 |\n",
       "\n",
       "\n",
       "$A2M\n",
       ":   \n",
       "A matrix: 2 × 2 of type dbl\n",
       "\n",
       "| <!--/--> | Microglia | T_cells |\n",
       "|---|---|---|\n",
       "| Tumor | 0.959787 | 2.266561 |\n",
       "| Endothelial | 4.651067 | 5.957841 |\n",
       "\n",
       "\n",
       "$`A2M-AS1`\n",
       ":   \n",
       "A matrix: 1 × 2 of type dbl\n",
       "\n",
       "| <!--/--> | Microglia | T_cells |\n",
       "|---|---|---|\n",
       "| Tumor | 3.287324 | 4.91134 |\n",
       "\n",
       "\n",
       "$A2ML1\n",
       ":   \n",
       "A matrix: 1 × 2 of type dbl\n",
       "\n",
       "| <!--/--> | Microglia | T_cells |\n",
       "|---|---|---|\n",
       "| Tumor | 201.3355 | 199.6493 |\n",
       "\n",
       "\n",
       "\n",
       "\n"
      ],
      "text/plain": [
       "$A1BG\n",
       "      Microglia  T_cells\n",
       "Tumor   10.5895 9.577769\n",
       "\n",
       "$`A1BG-AS1`\n",
       "      Microglia  T_cells\n",
       "Tumor  8.878319 9.235577\n",
       "\n",
       "$A1CF\n",
       "      Microglia  T_cells\n",
       "Tumor  25.63065 25.96789\n",
       "\n",
       "$A2M\n",
       "            Microglia  T_cells\n",
       "Tumor        0.959787 2.266561\n",
       "Endothelial  4.651067 5.957841\n",
       "\n",
       "$`A2M-AS1`\n",
       "      Microglia T_cells\n",
       "Tumor  3.287324 4.91134\n",
       "\n",
       "$A2ML1\n",
       "      Microglia  T_cells\n",
       "Tumor  201.3355 199.6493\n"
      ]
     },
     "metadata": {},
     "output_type": "display_data"
    }
   ],
   "source": [
    "head(diff_gen_list_gojo_nonimmune)"
   ]
  },
  {
   "cell_type": "code",
   "execution_count": 160,
   "metadata": {},
   "outputs": [
    {
     "data": {
      "text/html": [
       "16573"
      ],
      "text/latex": [
       "16573"
      ],
      "text/markdown": [
       "16573"
      ],
      "text/plain": [
       "[1] 16573"
      ]
     },
     "metadata": {},
     "output_type": "display_data"
    }
   ],
   "source": [
    "length(diff_gen_list_gojo_nonimmune)"
   ]
  },
  {
   "cell_type": "code",
   "execution_count": 161,
   "metadata": {},
   "outputs": [],
   "source": [
    "# select expressed genes\n",
    "\n",
    "gojo_nonimmune_genes_expressed <- diff_gen_list_gojo_nonimmune[names(diff_gen_list_gojo_nonimmune) %in% gojo_expressed_genes]"
   ]
  },
  {
   "cell_type": "code",
   "execution_count": 162,
   "metadata": {},
   "outputs": [
    {
     "data": {
      "text/html": [
       "<style>\n",
       ".list-inline {list-style: none; margin:0; padding: 0}\n",
       ".list-inline>li {display: inline-block}\n",
       ".list-inline>li:not(:last-child)::after {content: \"\\00b7\"; padding: 0 .5ex}\n",
       "</style>\n",
       "<ol class=list-inline><li>'A1BG-AS1'</li><li>'A2M'</li><li>'A2M-AS1'</li><li>'A2ML1'</li><li>'A4GALT'</li><li>'AAAS'</li></ol>\n"
      ],
      "text/latex": [
       "\\begin{enumerate*}\n",
       "\\item 'A1BG-AS1'\n",
       "\\item 'A2M'\n",
       "\\item 'A2M-AS1'\n",
       "\\item 'A2ML1'\n",
       "\\item 'A4GALT'\n",
       "\\item 'AAAS'\n",
       "\\end{enumerate*}\n"
      ],
      "text/markdown": [
       "1. 'A1BG-AS1'\n",
       "2. 'A2M'\n",
       "3. 'A2M-AS1'\n",
       "4. 'A2ML1'\n",
       "5. 'A4GALT'\n",
       "6. 'AAAS'\n",
       "\n",
       "\n"
      ],
      "text/plain": [
       "[1] \"A1BG-AS1\" \"A2M\"      \"A2M-AS1\"  \"A2ML1\"    \"A4GALT\"   \"AAAS\"    "
      ]
     },
     "metadata": {},
     "output_type": "display_data"
    }
   ],
   "source": [
    "head(gojo_expressed_genes)"
   ]
  },
  {
   "cell_type": "code",
   "execution_count": 163,
   "metadata": {},
   "outputs": [
    {
     "data": {
      "text/html": [
       "16573"
      ],
      "text/latex": [
       "16573"
      ],
      "text/markdown": [
       "16573"
      ],
      "text/plain": [
       "[1] 16573"
      ]
     },
     "metadata": {},
     "output_type": "display_data"
    },
    {
     "data": {
      "text/html": [
       "12109"
      ],
      "text/latex": [
       "12109"
      ],
      "text/markdown": [
       "12109"
      ],
      "text/plain": [
       "[1] 12109"
      ]
     },
     "metadata": {},
     "output_type": "display_data"
    }
   ],
   "source": [
    "length(diff_gen_list_gojo_nonimmune)\n",
    "length(gojo_nonimmune_genes_expressed)"
   ]
  },
  {
   "cell_type": "code",
   "execution_count": 164,
   "metadata": {},
   "outputs": [],
   "source": [
    "gojo_nonimmune_genes_expressed <- names(gojo_nonimmune_genes_expressed)"
   ]
  },
  {
   "cell_type": "markdown",
   "metadata": {},
   "source": [
    "12109 genes are expressed > 75th percentile in at least one cell type AND their expression is >2 mad differnet in at least one nonimmune and at least one immune"
   ]
  },
  {
   "cell_type": "markdown",
   "metadata": {},
   "source": [
    "### 3- Gillen's EPN"
   ]
  },
  {
   "cell_type": "code",
   "execution_count": 165,
   "metadata": {},
   "outputs": [],
   "source": [
    "gillen_files <- list.files(paste0(datapath,\"single_cell/\"), pattern = \"gillen\", full.names = T, recursive = T)"
   ]
  },
  {
   "cell_type": "code",
   "execution_count": 166,
   "metadata": {},
   "outputs": [],
   "source": [
    "# remove doublet file\n",
    "gillen_files <- gillen_files[!grepl(\"Doublets\", gillen_files)]"
   ]
  },
  {
   "cell_type": "code",
   "execution_count": 167,
   "metadata": {},
   "outputs": [],
   "source": [
    "gillenfiles <- lapply(gillen_files, \n",
    "                    function(f){read.table(f, header = TRUE, sep = \"\\t\", stringsAsFactors = F)})"
   ]
  },
  {
   "cell_type": "code",
   "execution_count": 168,
   "metadata": {},
   "outputs": [],
   "source": [
    "names(gillenfiles) <- gsub(\".*gillen\", \"gillen\", gillen_files)"
   ]
  },
  {
   "cell_type": "code",
   "execution_count": 169,
   "metadata": {},
   "outputs": [
    {
     "data": {
      "text/html": [
       "<style>\n",
       ".list-inline {list-style: none; margin:0; padding: 0}\n",
       ".list-inline>li {display: inline-block}\n",
       ".list-inline>li:not(:last-child)::after {content: \"\\00b7\"; padding: 0 .5ex}\n",
       "</style>\n",
       "<ol class=list-inline><li>'gillen_1.txt'</li><li>'gillen_10.txt'</li><li>'gillen_11.txt'</li><li>'gillen_12.txt'</li><li>'gillen_13.txt'</li><li>'gillen_14.txt'</li><li>'gillen_15.txt'</li><li>'gillen_2.txt'</li><li>'gillen_3.txt'</li><li>'gillen_4.txt'</li><li>'gillen_5.txt'</li><li>'gillen_6.txt'</li><li>'gillen_7.txt'</li><li>'gillen_8.txt'</li><li>'gillen_9.txt'</li><li>'gillen_Lymphocytes.txt'</li><li>'gillen_Myeloid.txt'</li><li>'gillen_Oligodendrocytes.txt'</li></ol>\n"
      ],
      "text/latex": [
       "\\begin{enumerate*}\n",
       "\\item 'gillen\\_1.txt'\n",
       "\\item 'gillen\\_10.txt'\n",
       "\\item 'gillen\\_11.txt'\n",
       "\\item 'gillen\\_12.txt'\n",
       "\\item 'gillen\\_13.txt'\n",
       "\\item 'gillen\\_14.txt'\n",
       "\\item 'gillen\\_15.txt'\n",
       "\\item 'gillen\\_2.txt'\n",
       "\\item 'gillen\\_3.txt'\n",
       "\\item 'gillen\\_4.txt'\n",
       "\\item 'gillen\\_5.txt'\n",
       "\\item 'gillen\\_6.txt'\n",
       "\\item 'gillen\\_7.txt'\n",
       "\\item 'gillen\\_8.txt'\n",
       "\\item 'gillen\\_9.txt'\n",
       "\\item 'gillen\\_Lymphocytes.txt'\n",
       "\\item 'gillen\\_Myeloid.txt'\n",
       "\\item 'gillen\\_Oligodendrocytes.txt'\n",
       "\\end{enumerate*}\n"
      ],
      "text/markdown": [
       "1. 'gillen_1.txt'\n",
       "2. 'gillen_10.txt'\n",
       "3. 'gillen_11.txt'\n",
       "4. 'gillen_12.txt'\n",
       "5. 'gillen_13.txt'\n",
       "6. 'gillen_14.txt'\n",
       "7. 'gillen_15.txt'\n",
       "8. 'gillen_2.txt'\n",
       "9. 'gillen_3.txt'\n",
       "10. 'gillen_4.txt'\n",
       "11. 'gillen_5.txt'\n",
       "12. 'gillen_6.txt'\n",
       "13. 'gillen_7.txt'\n",
       "14. 'gillen_8.txt'\n",
       "15. 'gillen_9.txt'\n",
       "16. 'gillen_Lymphocytes.txt'\n",
       "17. 'gillen_Myeloid.txt'\n",
       "18. 'gillen_Oligodendrocytes.txt'\n",
       "\n",
       "\n"
      ],
      "text/plain": [
       " [1] \"gillen_1.txt\"                \"gillen_10.txt\"              \n",
       " [3] \"gillen_11.txt\"               \"gillen_12.txt\"              \n",
       " [5] \"gillen_13.txt\"               \"gillen_14.txt\"              \n",
       " [7] \"gillen_15.txt\"               \"gillen_2.txt\"               \n",
       " [9] \"gillen_3.txt\"                \"gillen_4.txt\"               \n",
       "[11] \"gillen_5.txt\"                \"gillen_6.txt\"               \n",
       "[13] \"gillen_7.txt\"                \"gillen_8.txt\"               \n",
       "[15] \"gillen_9.txt\"                \"gillen_Lymphocytes.txt\"     \n",
       "[17] \"gillen_Myeloid.txt\"          \"gillen_Oligodendrocytes.txt\""
      ]
     },
     "metadata": {},
     "output_type": "display_data"
    }
   ],
   "source": [
    "names(gillenfiles)"
   ]
  },
  {
   "cell_type": "code",
   "execution_count": 170,
   "metadata": {},
   "outputs": [],
   "source": [
    "#bind all tumour clusters together\n",
    "gillenfiles_tum <- as.data.frame(do.call(\"cbind\", gillenfiles[1:15]))"
   ]
  },
  {
   "cell_type": "code",
   "execution_count": 171,
   "metadata": {},
   "outputs": [
    {
     "data": {
      "text/html": [
       "<style>\n",
       ".list-inline {list-style: none; margin:0; padding: 0}\n",
       ".list-inline>li {display: inline-block}\n",
       ".list-inline>li:not(:last-child)::after {content: \"\\00b7\"; padding: 0 .5ex}\n",
       "</style>\n",
       "<ol class=list-inline><li>23580</li><li>11200</li></ol>\n"
      ],
      "text/latex": [
       "\\begin{enumerate*}\n",
       "\\item 23580\n",
       "\\item 11200\n",
       "\\end{enumerate*}\n"
      ],
      "text/markdown": [
       "1. 23580\n",
       "2. 11200\n",
       "\n",
       "\n"
      ],
      "text/plain": [
       "[1] 23580 11200"
      ]
     },
     "metadata": {},
     "output_type": "display_data"
    }
   ],
   "source": [
    "dim(gillenfiles_tum)"
   ]
  },
  {
   "cell_type": "code",
   "execution_count": 172,
   "metadata": {},
   "outputs": [],
   "source": [
    "gillen_data <- list()\n",
    "gillen_data$Tumor <- gillenfiles_tum\n",
    "gillen_data$Lymphocytes <- gillenfiles[[\"gillen_Lymphocytes.txt\"]]\n",
    "gillen_data$Myeloid <- gillenfiles[[\"gillen_Myeloid.txt\"]]\n",
    "gillen_data$Oligodend <- gillenfiles[[\"gillen_Oligodendrocytes.txt\"]]"
   ]
  },
  {
   "cell_type": "code",
   "execution_count": 173,
   "metadata": {},
   "outputs": [
    {
     "data": {
      "text/html": [
       "<dl>\n",
       "\t<dt>$Tumor</dt>\n",
       "\t\t<dd><style>\n",
       ".list-inline {list-style: none; margin:0; padding: 0}\n",
       ".list-inline>li {display: inline-block}\n",
       ".list-inline>li:not(:last-child)::after {content: \"\\00b7\"; padding: 0 .5ex}\n",
       "</style>\n",
       "<ol class=list-inline><li>23580</li><li>11200</li></ol>\n",
       "</dd>\n",
       "\t<dt>$Lymphocytes</dt>\n",
       "\t\t<dd><style>\n",
       ".list-inline {list-style: none; margin:0; padding: 0}\n",
       ".list-inline>li {display: inline-block}\n",
       ".list-inline>li:not(:last-child)::after {content: \"\\00b7\"; padding: 0 .5ex}\n",
       "</style>\n",
       "<ol class=list-inline><li>23580</li><li>1675</li></ol>\n",
       "</dd>\n",
       "\t<dt>$Myeloid</dt>\n",
       "\t\t<dd><style>\n",
       ".list-inline {list-style: none; margin:0; padding: 0}\n",
       ".list-inline>li {display: inline-block}\n",
       ".list-inline>li:not(:last-child)::after {content: \"\\00b7\"; padding: 0 .5ex}\n",
       "</style>\n",
       "<ol class=list-inline><li>23580</li><li>5097</li></ol>\n",
       "</dd>\n",
       "\t<dt>$Oligodend</dt>\n",
       "\t\t<dd><style>\n",
       ".list-inline {list-style: none; margin:0; padding: 0}\n",
       ".list-inline>li {display: inline-block}\n",
       ".list-inline>li:not(:last-child)::after {content: \"\\00b7\"; padding: 0 .5ex}\n",
       "</style>\n",
       "<ol class=list-inline><li>23580</li><li>484</li></ol>\n",
       "</dd>\n",
       "</dl>\n"
      ],
      "text/latex": [
       "\\begin{description}\n",
       "\\item[\\$Tumor] \\begin{enumerate*}\n",
       "\\item 23580\n",
       "\\item 11200\n",
       "\\end{enumerate*}\n",
       "\n",
       "\\item[\\$Lymphocytes] \\begin{enumerate*}\n",
       "\\item 23580\n",
       "\\item 1675\n",
       "\\end{enumerate*}\n",
       "\n",
       "\\item[\\$Myeloid] \\begin{enumerate*}\n",
       "\\item 23580\n",
       "\\item 5097\n",
       "\\end{enumerate*}\n",
       "\n",
       "\\item[\\$Oligodend] \\begin{enumerate*}\n",
       "\\item 23580\n",
       "\\item 484\n",
       "\\end{enumerate*}\n",
       "\n",
       "\\end{description}\n"
      ],
      "text/markdown": [
       "$Tumor\n",
       ":   1. 23580\n",
       "2. 11200\n",
       "\n",
       "\n",
       "\n",
       "$Lymphocytes\n",
       ":   1. 23580\n",
       "2. 1675\n",
       "\n",
       "\n",
       "\n",
       "$Myeloid\n",
       ":   1. 23580\n",
       "2. 5097\n",
       "\n",
       "\n",
       "\n",
       "$Oligodend\n",
       ":   1. 23580\n",
       "2. 484\n",
       "\n",
       "\n",
       "\n",
       "\n",
       "\n"
      ],
      "text/plain": [
       "$Tumor\n",
       "[1] 23580 11200\n",
       "\n",
       "$Lymphocytes\n",
       "[1] 23580  1675\n",
       "\n",
       "$Myeloid\n",
       "[1] 23580  5097\n",
       "\n",
       "$Oligodend\n",
       "[1] 23580   484\n"
      ]
     },
     "metadata": {},
     "output_type": "display_data"
    }
   ],
   "source": [
    "lapply(gillen_data, dim)"
   ]
  },
  {
   "cell_type": "code",
   "execution_count": 174,
   "metadata": {},
   "outputs": [],
   "source": [
    "gillen_maxcounts <- lapply(gillen_data, function(x){apply(x, 1, max)})"
   ]
  },
  {
   "cell_type": "code",
   "execution_count": 175,
   "metadata": {},
   "outputs": [],
   "source": [
    "gillen_maxcounts_all <- as.data.frame(do.call(\"cbind\", gillen_maxcounts))"
   ]
  },
  {
   "cell_type": "code",
   "execution_count": 176,
   "metadata": {},
   "outputs": [
    {
     "data": {
      "text/html": [
       "<table class=\"dataframe\">\n",
       "<caption>A data.frame: 6 × 4</caption>\n",
       "<thead>\n",
       "\t<tr><th></th><th scope=col>Tumor</th><th scope=col>Lymphocytes</th><th scope=col>Myeloid</th><th scope=col>Oligodend</th></tr>\n",
       "\t<tr><th></th><th scope=col>&lt;int&gt;</th><th scope=col>&lt;int&gt;</th><th scope=col>&lt;int&gt;</th><th scope=col>&lt;int&gt;</th></tr>\n",
       "</thead>\n",
       "<tbody>\n",
       "\t<tr><th scope=row>AL627309.1</th><td>2</td><td>1</td><td>1</td><td>1</td></tr>\n",
       "\t<tr><th scope=row>AL669831.5</th><td>2</td><td>1</td><td>2</td><td>1</td></tr>\n",
       "\t<tr><th scope=row>FAM87B</th><td>2</td><td>1</td><td>1</td><td>1</td></tr>\n",
       "\t<tr><th scope=row>LINC00115</th><td>3</td><td>2</td><td>2</td><td>1</td></tr>\n",
       "\t<tr><th scope=row>FAM41C</th><td>2</td><td>1</td><td>2</td><td>1</td></tr>\n",
       "\t<tr><th scope=row>AL645608.3</th><td>2</td><td>1</td><td>1</td><td>1</td></tr>\n",
       "</tbody>\n",
       "</table>\n"
      ],
      "text/latex": [
       "A data.frame: 6 × 4\n",
       "\\begin{tabular}{r|llll}\n",
       "  & Tumor & Lymphocytes & Myeloid & Oligodend\\\\\n",
       "  & <int> & <int> & <int> & <int>\\\\\n",
       "\\hline\n",
       "\tAL627309.1 & 2 & 1 & 1 & 1\\\\\n",
       "\tAL669831.5 & 2 & 1 & 2 & 1\\\\\n",
       "\tFAM87B & 2 & 1 & 1 & 1\\\\\n",
       "\tLINC00115 & 3 & 2 & 2 & 1\\\\\n",
       "\tFAM41C & 2 & 1 & 2 & 1\\\\\n",
       "\tAL645608.3 & 2 & 1 & 1 & 1\\\\\n",
       "\\end{tabular}\n"
      ],
      "text/markdown": [
       "\n",
       "A data.frame: 6 × 4\n",
       "\n",
       "| <!--/--> | Tumor &lt;int&gt; | Lymphocytes &lt;int&gt; | Myeloid &lt;int&gt; | Oligodend &lt;int&gt; |\n",
       "|---|---|---|---|---|\n",
       "| AL627309.1 | 2 | 1 | 1 | 1 |\n",
       "| AL669831.5 | 2 | 1 | 2 | 1 |\n",
       "| FAM87B | 2 | 1 | 1 | 1 |\n",
       "| LINC00115 | 3 | 2 | 2 | 1 |\n",
       "| FAM41C | 2 | 1 | 2 | 1 |\n",
       "| AL645608.3 | 2 | 1 | 1 | 1 |\n",
       "\n"
      ],
      "text/plain": [
       "           Tumor Lymphocytes Myeloid Oligodend\n",
       "AL627309.1 2     1           1       1        \n",
       "AL669831.5 2     1           2       1        \n",
       "FAM87B     2     1           1       1        \n",
       "LINC00115  3     2           2       1        \n",
       "FAM41C     2     1           2       1        \n",
       "AL645608.3 2     1           1       1        "
      ]
     },
     "metadata": {},
     "output_type": "display_data"
    }
   ],
   "source": [
    "head(gillen_maxcounts_all)"
   ]
  },
  {
   "cell_type": "code",
   "execution_count": 177,
   "metadata": {},
   "outputs": [],
   "source": [
    "gillen_maxcounts_m <- (gillen_maxcounts_all - median(unlist(gillen_maxcounts_all)))/mad(unlist(gillen_maxcounts_all))"
   ]
  },
  {
   "cell_type": "code",
   "execution_count": 178,
   "metadata": {},
   "outputs": [
    {
     "data": {
      "text/plain": [
       "     Min.   1st Qu.    Median      Mean   3rd Qu.      Max. \n",
       "    0.000     1.000     2.000     7.536     5.000 23355.000 "
      ]
     },
     "metadata": {},
     "output_type": "display_data"
    }
   ],
   "source": [
    "summary(unlist(gillen_maxcounts_all))"
   ]
  },
  {
   "cell_type": "code",
   "execution_count": 179,
   "metadata": {},
   "outputs": [
    {
     "data": {
      "image/png": "[encoded data removed]",
      "text/plain": [
       "plot without title"
      ]
     },
     "metadata": {
      "image/png": {
       "height": 420,
       "width": 420
      }
     },
     "output_type": "display_data"
    }
   ],
   "source": [
    "ggplot() + geom_histogram(aes(unlist(gillen_maxcounts_m)), binwidth = 1) + myaxis + myplot +\n",
    "coord_cartesian(xlim = c(-2,10))"
   ]
  },
  {
   "cell_type": "code",
   "execution_count": 180,
   "metadata": {},
   "outputs": [
    {
     "data": {
      "text/html": [
       "<style>\n",
       ".list-inline {list-style: none; margin:0; padding: 0}\n",
       ".list-inline>li {display: inline-block}\n",
       ".list-inline>li:not(:last-child)::after {content: \"\\00b7\"; padding: 0 .5ex}\n",
       "</style>\n",
       "<ol class=list-inline><li>23580</li><li>4</li></ol>\n"
      ],
      "text/latex": [
       "\\begin{enumerate*}\n",
       "\\item 23580\n",
       "\\item 4\n",
       "\\end{enumerate*}\n"
      ],
      "text/markdown": [
       "1. 23580\n",
       "2. 4\n",
       "\n",
       "\n"
      ],
      "text/plain": [
       "[1] 23580     4"
      ]
     },
     "metadata": {},
     "output_type": "display_data"
    }
   ],
   "source": [
    "dim(gillen_maxcounts_m)"
   ]
  },
  {
   "cell_type": "code",
   "execution_count": 181,
   "metadata": {},
   "outputs": [],
   "source": [
    "gillen_expressed_genes <- rownames(gillen_maxcounts_m)[rowSums(gillen_maxcounts_m >= quantile(unlist(gillen_maxcounts_m), 0.75)) >= 1]"
   ]
  },
  {
   "cell_type": "code",
   "execution_count": 182,
   "metadata": {},
   "outputs": [
    {
     "data": {
      "text/html": [
       "11649"
      ],
      "text/latex": [
       "11649"
      ],
      "text/markdown": [
       "11649"
      ],
      "text/plain": [
       "[1] 11649"
      ]
     },
     "metadata": {},
     "output_type": "display_data"
    }
   ],
   "source": [
    "length(gillen_expressed_genes)"
   ]
  },
  {
   "cell_type": "code",
   "execution_count": 183,
   "metadata": {},
   "outputs": [],
   "source": [
    "# median center\n",
    "gillen_mcentr <- t(apply(gillen_maxcounts_all,1,mcentr))\n",
    "\n",
    "colnames(gillen_mcentr) <- colnames(gillen_maxcounts_all)"
   ]
  },
  {
   "cell_type": "code",
   "execution_count": 184,
   "metadata": {},
   "outputs": [
    {
     "data": {
      "text/html": [
       "<table class=\"dataframe\">\n",
       "<caption>A matrix: 6 × 4 of type dbl</caption>\n",
       "<thead>\n",
       "\t<tr><th></th><th scope=col>Tumor</th><th scope=col>Lymphocytes</th><th scope=col>Myeloid</th><th scope=col>Oligodend</th></tr>\n",
       "</thead>\n",
       "<tbody>\n",
       "\t<tr><th scope=row>AL627309.1</th><td>0.0000000</td><td> 0.0000000</td><td>0.0000000</td><td> 0.0000000</td></tr>\n",
       "\t<tr><th scope=row>AL669831.5</th><td>0.6744908</td><td>-0.6744908</td><td>0.6744908</td><td>-0.6744908</td></tr>\n",
       "\t<tr><th scope=row>FAM87B</th><td>0.0000000</td><td> 0.0000000</td><td>0.0000000</td><td> 0.0000000</td></tr>\n",
       "\t<tr><th scope=row>LINC00115</th><td>1.3489815</td><td> 0.0000000</td><td>0.0000000</td><td>-1.3489815</td></tr>\n",
       "\t<tr><th scope=row>FAM41C</th><td>0.6744908</td><td>-0.6744908</td><td>0.6744908</td><td>-0.6744908</td></tr>\n",
       "\t<tr><th scope=row>AL645608.3</th><td>0.0000000</td><td> 0.0000000</td><td>0.0000000</td><td> 0.0000000</td></tr>\n",
       "</tbody>\n",
       "</table>\n"
      ],
      "text/latex": [
       "A matrix: 6 × 4 of type dbl\n",
       "\\begin{tabular}{r|llll}\n",
       "  & Tumor & Lymphocytes & Myeloid & Oligodend\\\\\n",
       "\\hline\n",
       "\tAL627309.1 & 0.0000000 &  0.0000000 & 0.0000000 &  0.0000000\\\\\n",
       "\tAL669831.5 & 0.6744908 & -0.6744908 & 0.6744908 & -0.6744908\\\\\n",
       "\tFAM87B & 0.0000000 &  0.0000000 & 0.0000000 &  0.0000000\\\\\n",
       "\tLINC00115 & 1.3489815 &  0.0000000 & 0.0000000 & -1.3489815\\\\\n",
       "\tFAM41C & 0.6744908 & -0.6744908 & 0.6744908 & -0.6744908\\\\\n",
       "\tAL645608.3 & 0.0000000 &  0.0000000 & 0.0000000 &  0.0000000\\\\\n",
       "\\end{tabular}\n"
      ],
      "text/markdown": [
       "\n",
       "A matrix: 6 × 4 of type dbl\n",
       "\n",
       "| <!--/--> | Tumor | Lymphocytes | Myeloid | Oligodend |\n",
       "|---|---|---|---|---|\n",
       "| AL627309.1 | 0.0000000 |  0.0000000 | 0.0000000 |  0.0000000 |\n",
       "| AL669831.5 | 0.6744908 | -0.6744908 | 0.6744908 | -0.6744908 |\n",
       "| FAM87B | 0.0000000 |  0.0000000 | 0.0000000 |  0.0000000 |\n",
       "| LINC00115 | 1.3489815 |  0.0000000 | 0.0000000 | -1.3489815 |\n",
       "| FAM41C | 0.6744908 | -0.6744908 | 0.6744908 | -0.6744908 |\n",
       "| AL645608.3 | 0.0000000 |  0.0000000 | 0.0000000 |  0.0000000 |\n",
       "\n"
      ],
      "text/plain": [
       "           Tumor     Lymphocytes Myeloid   Oligodend \n",
       "AL627309.1 0.0000000  0.0000000  0.0000000  0.0000000\n",
       "AL669831.5 0.6744908 -0.6744908  0.6744908 -0.6744908\n",
       "FAM87B     0.0000000  0.0000000  0.0000000  0.0000000\n",
       "LINC00115  1.3489815  0.0000000  0.0000000 -1.3489815\n",
       "FAM41C     0.6744908 -0.6744908  0.6744908 -0.6744908\n",
       "AL645608.3 0.0000000  0.0000000  0.0000000  0.0000000"
      ]
     },
     "metadata": {},
     "output_type": "display_data"
    }
   ],
   "source": [
    "head(gillen_mcentr)"
   ]
  },
  {
   "cell_type": "code",
   "execution_count": 185,
   "metadata": {},
   "outputs": [],
   "source": [
    "# get a list of tables with score differences \n",
    "diff_gen_list_gillen <- mclapply(rownames(gillen_mcentr), function(x){\n",
    "    mygen <- x\n",
    "    gen_df <- gillen_mcentr[mygen,]\n",
    "    #get ratio differences in counts across cell types\n",
    "    gen_tab_ratio <- outer(gen_df, gen_df, \"-\")\n",
    "    \n",
    "    return(gen_tab_ratio[c(\"Tumor\", \"Oligodend\"), c(\"Myeloid\", \"Lymphocytes\"), drop = F])    \n",
    "})\n",
    "\n",
    "names(diff_gen_list_gillen) <- rownames(gillen_mcentr)"
   ]
  },
  {
   "cell_type": "code",
   "execution_count": 186,
   "metadata": {},
   "outputs": [],
   "source": [
    "#genes with z score diff > 2 in nonimmune vs immune\n",
    "diff_gen_list_gillen_nonimmune <- lapply(diff_gen_list_gillen, function(x) x[ rowSums(x >= 2) >= 1,, drop = F])"
   ]
  },
  {
   "cell_type": "code",
   "execution_count": 187,
   "metadata": {},
   "outputs": [],
   "source": [
    "# rmeove empty lists\n",
    "diff_gen_list_gillen_nonimmune <- diff_gen_list_gillen_nonimmune[sapply(diff_gen_list_gillen_nonimmune, \n",
    "                                                                  function(x) length(unlist(x)) >= 1)]"
   ]
  },
  {
   "cell_type": "code",
   "execution_count": 188,
   "metadata": {},
   "outputs": [
    {
     "data": {
      "text/html": [
       "<dl>\n",
       "\t<dt>$NOC2L</dt>\n",
       "\t\t<dd><table class=\"dataframe\">\n",
       "<caption>A matrix: 1 × 2 of type dbl</caption>\n",
       "<thead>\n",
       "\t<tr><th></th><th scope=col>Myeloid</th><th scope=col>Lymphocytes</th></tr>\n",
       "</thead>\n",
       "<tbody>\n",
       "\t<tr><th scope=row>Tumor</th><td>2.023472</td><td>2.023472</td></tr>\n",
       "</tbody>\n",
       "</table>\n",
       "</dd>\n",
       "\t<dt>$AL645608.8</dt>\n",
       "\t\t<dd><table class=\"dataframe\">\n",
       "<caption>A matrix: 1 × 2 of type dbl</caption>\n",
       "<thead>\n",
       "\t<tr><th></th><th scope=col>Myeloid</th><th scope=col>Lymphocytes</th></tr>\n",
       "</thead>\n",
       "<tbody>\n",
       "\t<tr><th scope=row>Tumor</th><td>2.023472</td><td>3.372454</td></tr>\n",
       "</tbody>\n",
       "</table>\n",
       "</dd>\n",
       "\t<dt>$HES4</dt>\n",
       "\t\t<dd><table class=\"dataframe\">\n",
       "<caption>A matrix: 1 × 2 of type dbl</caption>\n",
       "<thead>\n",
       "\t<tr><th></th><th scope=col>Myeloid</th><th scope=col>Lymphocytes</th></tr>\n",
       "</thead>\n",
       "<tbody>\n",
       "\t<tr><th scope=row>Tumor</th><td>2.151079</td><td>1.203146</td></tr>\n",
       "</tbody>\n",
       "</table>\n",
       "</dd>\n",
       "\t<dt>$ISG15</dt>\n",
       "\t\t<dd><table class=\"dataframe\">\n",
       "<caption>A matrix: 1 × 2 of type dbl</caption>\n",
       "<thead>\n",
       "\t<tr><th></th><th scope=col>Myeloid</th><th scope=col>Lymphocytes</th></tr>\n",
       "</thead>\n",
       "<tbody>\n",
       "\t<tr><th scope=row>Tumor</th><td>17.15134</td><td>17.15134</td></tr>\n",
       "</tbody>\n",
       "</table>\n",
       "</dd>\n",
       "\t<dt>$AGRN</dt>\n",
       "\t\t<dd><table class=\"dataframe\">\n",
       "<caption>A matrix: 2 × 2 of type dbl</caption>\n",
       "<thead>\n",
       "\t<tr><th></th><th scope=col>Myeloid</th><th scope=col>Lymphocytes</th></tr>\n",
       "</thead>\n",
       "<tbody>\n",
       "\t<tr><th scope=row>Tumor</th><td>6.744908</td><td> 0.000000</td></tr>\n",
       "\t<tr><th scope=row>Oligodend</th><td>5.395926</td><td>-1.348982</td></tr>\n",
       "</tbody>\n",
       "</table>\n",
       "</dd>\n",
       "\t<dt>$TTLL10</dt>\n",
       "\t\t<dd><table class=\"dataframe\">\n",
       "<caption>A matrix: 1 × 2 of type dbl</caption>\n",
       "<thead>\n",
       "\t<tr><th></th><th scope=col>Myeloid</th><th scope=col>Lymphocytes</th></tr>\n",
       "</thead>\n",
       "<tbody>\n",
       "\t<tr><th scope=row>Tumor</th><td>5.395926</td><td>4.046945</td></tr>\n",
       "</tbody>\n",
       "</table>\n",
       "</dd>\n",
       "</dl>\n"
      ],
      "text/latex": [
       "\\begin{description}\n",
       "\\item[\\$NOC2L] A matrix: 1 × 2 of type dbl\n",
       "\\begin{tabular}{r|ll}\n",
       "  & Myeloid & Lymphocytes\\\\\n",
       "\\hline\n",
       "\tTumor & 2.023472 & 2.023472\\\\\n",
       "\\end{tabular}\n",
       "\n",
       "\\item[\\$AL645608.8] A matrix: 1 × 2 of type dbl\n",
       "\\begin{tabular}{r|ll}\n",
       "  & Myeloid & Lymphocytes\\\\\n",
       "\\hline\n",
       "\tTumor & 2.023472 & 3.372454\\\\\n",
       "\\end{tabular}\n",
       "\n",
       "\\item[\\$HES4] A matrix: 1 × 2 of type dbl\n",
       "\\begin{tabular}{r|ll}\n",
       "  & Myeloid & Lymphocytes\\\\\n",
       "\\hline\n",
       "\tTumor & 2.151079 & 1.203146\\\\\n",
       "\\end{tabular}\n",
       "\n",
       "\\item[\\$ISG15] A matrix: 1 × 2 of type dbl\n",
       "\\begin{tabular}{r|ll}\n",
       "  & Myeloid & Lymphocytes\\\\\n",
       "\\hline\n",
       "\tTumor & 17.15134 & 17.15134\\\\\n",
       "\\end{tabular}\n",
       "\n",
       "\\item[\\$AGRN] A matrix: 2 × 2 of type dbl\n",
       "\\begin{tabular}{r|ll}\n",
       "  & Myeloid & Lymphocytes\\\\\n",
       "\\hline\n",
       "\tTumor & 6.744908 &  0.000000\\\\\n",
       "\tOligodend & 5.395926 & -1.348982\\\\\n",
       "\\end{tabular}\n",
       "\n",
       "\\item[\\$TTLL10] A matrix: 1 × 2 of type dbl\n",
       "\\begin{tabular}{r|ll}\n",
       "  & Myeloid & Lymphocytes\\\\\n",
       "\\hline\n",
       "\tTumor & 5.395926 & 4.046945\\\\\n",
       "\\end{tabular}\n",
       "\n",
       "\\end{description}\n"
      ],
      "text/markdown": [
       "$NOC2L\n",
       ":   \n",
       "A matrix: 1 × 2 of type dbl\n",
       "\n",
       "| <!--/--> | Myeloid | Lymphocytes |\n",
       "|---|---|---|\n",
       "| Tumor | 2.023472 | 2.023472 |\n",
       "\n",
       "\n",
       "$AL645608.8\n",
       ":   \n",
       "A matrix: 1 × 2 of type dbl\n",
       "\n",
       "| <!--/--> | Myeloid | Lymphocytes |\n",
       "|---|---|---|\n",
       "| Tumor | 2.023472 | 3.372454 |\n",
       "\n",
       "\n",
       "$HES4\n",
       ":   \n",
       "A matrix: 1 × 2 of type dbl\n",
       "\n",
       "| <!--/--> | Myeloid | Lymphocytes |\n",
       "|---|---|---|\n",
       "| Tumor | 2.151079 | 1.203146 |\n",
       "\n",
       "\n",
       "$ISG15\n",
       ":   \n",
       "A matrix: 1 × 2 of type dbl\n",
       "\n",
       "| <!--/--> | Myeloid | Lymphocytes |\n",
       "|---|---|---|\n",
       "| Tumor | 17.15134 | 17.15134 |\n",
       "\n",
       "\n",
       "$AGRN\n",
       ":   \n",
       "A matrix: 2 × 2 of type dbl\n",
       "\n",
       "| <!--/--> | Myeloid | Lymphocytes |\n",
       "|---|---|---|\n",
       "| Tumor | 6.744908 |  0.000000 |\n",
       "| Oligodend | 5.395926 | -1.348982 |\n",
       "\n",
       "\n",
       "$TTLL10\n",
       ":   \n",
       "A matrix: 1 × 2 of type dbl\n",
       "\n",
       "| <!--/--> | Myeloid | Lymphocytes |\n",
       "|---|---|---|\n",
       "| Tumor | 5.395926 | 4.046945 |\n",
       "\n",
       "\n",
       "\n",
       "\n"
      ],
      "text/plain": [
       "$NOC2L\n",
       "       Myeloid Lymphocytes\n",
       "Tumor 2.023472    2.023472\n",
       "\n",
       "$AL645608.8\n",
       "       Myeloid Lymphocytes\n",
       "Tumor 2.023472    3.372454\n",
       "\n",
       "$HES4\n",
       "       Myeloid Lymphocytes\n",
       "Tumor 2.151079    1.203146\n",
       "\n",
       "$ISG15\n",
       "       Myeloid Lymphocytes\n",
       "Tumor 17.15134    17.15134\n",
       "\n",
       "$AGRN\n",
       "           Myeloid Lymphocytes\n",
       "Tumor     6.744908    0.000000\n",
       "Oligodend 5.395926   -1.348982\n",
       "\n",
       "$TTLL10\n",
       "       Myeloid Lymphocytes\n",
       "Tumor 5.395926    4.046945\n"
      ]
     },
     "metadata": {},
     "output_type": "display_data"
    }
   ],
   "source": [
    "head(diff_gen_list_gillen_nonimmune)"
   ]
  },
  {
   "cell_type": "code",
   "execution_count": 189,
   "metadata": {},
   "outputs": [],
   "source": [
    "# select genes with score (of median expression across all celltypes) > 0 \n",
    "gillen_nonimmune_genes_expressed <- diff_gen_list_gillen_nonimmune[names(diff_gen_list_gillen_nonimmune) %in%\n",
    "                                                                   gillen_expressed_genes]"
   ]
  },
  {
   "cell_type": "code",
   "execution_count": 190,
   "metadata": {},
   "outputs": [
    {
     "data": {
      "text/html": [
       "7961"
      ],
      "text/latex": [
       "7961"
      ],
      "text/markdown": [
       "7961"
      ],
      "text/plain": [
       "[1] 7961"
      ]
     },
     "metadata": {},
     "output_type": "display_data"
    },
    {
     "data": {
      "text/html": [
       "5040"
      ],
      "text/latex": [
       "5040"
      ],
      "text/markdown": [
       "5040"
      ],
      "text/plain": [
       "[1] 5040"
      ]
     },
     "metadata": {},
     "output_type": "display_data"
    }
   ],
   "source": [
    "length(diff_gen_list_gillen_nonimmune)\n",
    "length(gillen_nonimmune_genes_expressed)"
   ]
  },
  {
   "cell_type": "code",
   "execution_count": 191,
   "metadata": {},
   "outputs": [],
   "source": [
    "gillen_nonimmune_genes_expressed <- names(gillen_nonimmune_genes_expressed)"
   ]
  },
  {
   "cell_type": "markdown",
   "metadata": {},
   "source": [
    "5040 genes are expressed > 75th percentile in at least one cell type AND their expression is >2 mad differnet in at least one nonimmune and at least one immune"
   ]
  },
  {
   "cell_type": "markdown",
   "metadata": {},
   "source": [
    "## 3- Cell lines from CBTN"
   ]
  },
  {
   "cell_type": "code",
   "execution_count": 192,
   "metadata": {},
   "outputs": [],
   "source": [
    "CBTN_RNA_manifest_genes <- read.csv(paste0(manifestpath, \"CBTTC_RSEM-manifest.csv\"), header = TRUE, stringsAsFactors = FALSE)"
   ]
  },
  {
   "cell_type": "code",
   "execution_count": 193,
   "metadata": {},
   "outputs": [],
   "source": [
    "CBTN_celllines <- read.csv(paste0(manifestpath,\"cell_line_RNAalqids_CBTTC.csv\"), \n",
    "                             header = TRUE, stringsAsFactors = F)\n",
    "\n",
    "CBTN_celllines$X <- NULL"
   ]
  },
  {
   "cell_type": "code",
   "execution_count": 194,
   "metadata": {},
   "outputs": [
    {
     "data": {
      "text/html": [
       "<style>\n",
       ".list-inline {list-style: none; margin:0; padding: 0}\n",
       ".list-inline>li {display: inline-block}\n",
       ".list-inline>li:not(:last-child)::after {content: \"\\00b7\"; padding: 0 .5ex}\n",
       "</style>\n",
       "<ol class=list-inline><li>33</li><li>4</li></ol>\n"
      ],
      "text/latex": [
       "\\begin{enumerate*}\n",
       "\\item 33\n",
       "\\item 4\n",
       "\\end{enumerate*}\n"
      ],
      "text/markdown": [
       "1. 33\n",
       "2. 4\n",
       "\n",
       "\n"
      ],
      "text/plain": [
       "[1] 33  4"
      ]
     },
     "metadata": {},
     "output_type": "display_data"
    }
   ],
   "source": [
    "dim(CBTN_celllines)"
   ]
  },
  {
   "cell_type": "code",
   "execution_count": 195,
   "metadata": {},
   "outputs": [
    {
     "data": {
      "text/html": [
       "<table class=\"dataframe\">\n",
       "<caption>A data.frame: 6 × 4</caption>\n",
       "<thead>\n",
       "\t<tr><th></th><th scope=col>case_id</th><th scope=col>patient_id</th><th scope=col>clinical_event</th><th scope=col>cell_lines_rnaalq_id</th></tr>\n",
       "\t<tr><th></th><th scope=col>&lt;chr&gt;</th><th scope=col>&lt;chr&gt;</th><th scope=col>&lt;chr&gt;</th><th scope=col>&lt;chr&gt;</th></tr>\n",
       "</thead>\n",
       "<tbody>\n",
       "\t<tr><th scope=row>1</th><td>C216603</td><td>PT_4347ZBEX</td><td>7316-913 </td><td>739931</td></tr>\n",
       "\t<tr><th scope=row>2</th><td>C22878 </td><td>PT_TGQY3X3W</td><td>7316-24  </td><td>739935</td></tr>\n",
       "\t<tr><th scope=row>3</th><td>C28290 </td><td>PT_3AWKWXEV</td><td>7316-85  </td><td>740005</td></tr>\n",
       "\t<tr><th scope=row>4</th><td>C337143</td><td>PT_C2D4JXS1</td><td>7316-1746</td><td>739942</td></tr>\n",
       "\t<tr><th scope=row>5</th><td>C377856</td><td>PT_Z4PJA6KT</td><td>7316-1763</td><td>739939</td></tr>\n",
       "\t<tr><th scope=row>6</th><td>C56826 </td><td>PT_Y5KY6KN9</td><td>7316-195 </td><td>739937</td></tr>\n",
       "</tbody>\n",
       "</table>\n"
      ],
      "text/latex": [
       "A data.frame: 6 × 4\n",
       "\\begin{tabular}{r|llll}\n",
       "  & case\\_id & patient\\_id & clinical\\_event & cell\\_lines\\_rnaalq\\_id\\\\\n",
       "  & <chr> & <chr> & <chr> & <chr>\\\\\n",
       "\\hline\n",
       "\t1 & C216603 & PT\\_4347ZBEX & 7316-913  & 739931\\\\\n",
       "\t2 & C22878  & PT\\_TGQY3X3W & 7316-24   & 739935\\\\\n",
       "\t3 & C28290  & PT\\_3AWKWXEV & 7316-85   & 740005\\\\\n",
       "\t4 & C337143 & PT\\_C2D4JXS1 & 7316-1746 & 739942\\\\\n",
       "\t5 & C377856 & PT\\_Z4PJA6KT & 7316-1763 & 739939\\\\\n",
       "\t6 & C56826  & PT\\_Y5KY6KN9 & 7316-195  & 739937\\\\\n",
       "\\end{tabular}\n"
      ],
      "text/markdown": [
       "\n",
       "A data.frame: 6 × 4\n",
       "\n",
       "| <!--/--> | case_id &lt;chr&gt; | patient_id &lt;chr&gt; | clinical_event &lt;chr&gt; | cell_lines_rnaalq_id &lt;chr&gt; |\n",
       "|---|---|---|---|---|\n",
       "| 1 | C216603 | PT_4347ZBEX | 7316-913  | 739931 |\n",
       "| 2 | C22878  | PT_TGQY3X3W | 7316-24   | 739935 |\n",
       "| 3 | C28290  | PT_3AWKWXEV | 7316-85   | 740005 |\n",
       "| 4 | C337143 | PT_C2D4JXS1 | 7316-1746 | 739942 |\n",
       "| 5 | C377856 | PT_Z4PJA6KT | 7316-1763 | 739939 |\n",
       "| 6 | C56826  | PT_Y5KY6KN9 | 7316-195  | 739937 |\n",
       "\n"
      ],
      "text/plain": [
       "  case_id patient_id  clinical_event cell_lines_rnaalq_id\n",
       "1 C216603 PT_4347ZBEX 7316-913       739931              \n",
       "2 C22878  PT_TGQY3X3W 7316-24        739935              \n",
       "3 C28290  PT_3AWKWXEV 7316-85        740005              \n",
       "4 C337143 PT_C2D4JXS1 7316-1746      739942              \n",
       "5 C377856 PT_Z4PJA6KT 7316-1763      739939              \n",
       "6 C56826  PT_Y5KY6KN9 7316-195       739937              "
      ]
     },
     "metadata": {},
     "output_type": "display_data"
    }
   ],
   "source": [
    "head(CBTN_celllines)"
   ]
  },
  {
   "cell_type": "code",
   "execution_count": 196,
   "metadata": {},
   "outputs": [],
   "source": [
    "celllines_manifest <- CBTN_RNA_manifest_genes[CBTN_RNA_manifest_genes$aliquot_id %in% CBTN_celllines$cell_lines_rnaalq_id,]"
   ]
  },
  {
   "cell_type": "code",
   "execution_count": 197,
   "metadata": {},
   "outputs": [
    {
     "data": {
      "text/html": [
       "<style>\n",
       ".list-inline {list-style: none; margin:0; padding: 0}\n",
       ".list-inline>li {display: inline-block}\n",
       ".list-inline>li:not(:last-child)::after {content: \"\\00b7\"; padding: 0 .5ex}\n",
       "</style>\n",
       "<ol class=list-inline><li>22</li><li>20</li></ol>\n"
      ],
      "text/latex": [
       "\\begin{enumerate*}\n",
       "\\item 22\n",
       "\\item 20\n",
       "\\end{enumerate*}\n"
      ],
      "text/markdown": [
       "1. 22\n",
       "2. 20\n",
       "\n",
       "\n"
      ],
      "text/plain": [
       "[1] 22 20"
      ]
     },
     "metadata": {},
     "output_type": "display_data"
    }
   ],
   "source": [
    "dim(celllines_manifest)"
   ]
  },
  {
   "cell_type": "code",
   "execution_count": 198,
   "metadata": {},
   "outputs": [
    {
     "data": {
      "text/plain": [
       "\n",
       "                                      Ependymoma \n",
       "                                               1 \n",
       "High-grade glioma/astrocytoma (WHO grade III/IV) \n",
       "                                              18 \n",
       "                                 Medulloblastoma \n",
       "                                               3 "
      ]
     },
     "metadata": {},
     "output_type": "display_data"
    }
   ],
   "source": [
    "table(celllines_manifest$disease_type)"
   ]
  },
  {
   "cell_type": "markdown",
   "metadata": {},
   "source": [
    "find cell line files using KF_CBTTC_tpm_rsem.txt file from cavatica (before colname cleanup)\n"
   ]
  },
  {
   "cell_type": "code",
   "execution_count": 199,
   "metadata": {},
   "outputs": [],
   "source": [
    "CBTN_tpm_all <- read.table(paste0(datapath,\"exp_mat/KF_CBTTC_tpm_rsem_matrix.txt\"), sep = \"\\t\", check.names = F,\n",
    "                             header = TRUE, stringsAsFactors = F)"
   ]
  },
  {
   "cell_type": "code",
   "execution_count": 200,
   "metadata": {},
   "outputs": [],
   "source": [
    "# some cleanup\n",
    "colnames(CBTN_tpm_all) <- gsub(\".*_RSEM/\", \"\", colnames(CBTN_tpm_all))"
   ]
  },
  {
   "cell_type": "code",
   "execution_count": 201,
   "metadata": {},
   "outputs": [
    {
     "data": {
      "text/html": [
       "<table class=\"dataframe\">\n",
       "<caption>A data.frame: 10 × 10</caption>\n",
       "<thead>\n",
       "\t<tr><th></th><th scope=col></th><th scope=col>00245bb9-b207-4648-b26e-bf16ec38103a.rsem.genes.results</th><th scope=col>0071cbef-6d2d-4328-b95b-f1076b66851a.rsem.genes.results</th><th scope=col>0080e250-aef6-4501-8f0e-42b483252440.rsem.genes.results</th><th scope=col>00a72866-565d-4e01-a666-e13ea722e7e3.rsem.genes.results</th><th scope=col>00d202e7-8c8b-4696-9d4b-8221e6251421.rsem.genes.results</th><th scope=col>00d8fca5-287f-40bb-a2bc-56bfd41fdccc.rsem.genes.results</th><th scope=col>010d6dff-c341-4d11-aa68-433e06bda14c.rsem.genes.results</th><th scope=col>01a28736-f93b-4e46-be14-dc604b48bf23.rsem.genes.results</th><th scope=col>01a81e81-dc1b-4387-997b-c9f956d9ac8f.rsem.genes.results</th></tr>\n",
       "\t<tr><th></th><th scope=col>&lt;chr&gt;</th><th scope=col>&lt;dbl&gt;</th><th scope=col>&lt;dbl&gt;</th><th scope=col>&lt;dbl&gt;</th><th scope=col>&lt;dbl&gt;</th><th scope=col>&lt;dbl&gt;</th><th scope=col>&lt;dbl&gt;</th><th scope=col>&lt;dbl&gt;</th><th scope=col>&lt;dbl&gt;</th><th scope=col>&lt;dbl&gt;</th></tr>\n",
       "</thead>\n",
       "<tbody>\n",
       "\t<tr><th scope=row>1</th><td>ENSG00000000003.14_TSPAN6  </td><td>10.99</td><td> 8.66</td><td>6.15</td><td> 2.40</td><td>0.73</td><td> 1.50</td><td> 1.88</td><td>29.41</td><td>4.62</td></tr>\n",
       "\t<tr><th scope=row>2</th><td>ENSG00000000005.5_TNMD     </td><td> 0.18</td><td> 0.02</td><td>0.03</td><td> 0.02</td><td>0.02</td><td> 0.01</td><td> 0.03</td><td> 0.33</td><td>0.03</td></tr>\n",
       "\t<tr><th scope=row>3</th><td>ENSG00000000419.12_DPM1    </td><td> 4.95</td><td> 6.15</td><td>5.09</td><td> 3.35</td><td>1.09</td><td> 3.68</td><td> 3.27</td><td> 4.89</td><td>4.75</td></tr>\n",
       "\t<tr><th scope=row>4</th><td>ENSG00000000457.13_SCYL3   </td><td> 1.50</td><td> 1.75</td><td>1.71</td><td> 0.90</td><td>0.44</td><td> 1.44</td><td> 0.89</td><td> 1.52</td><td>1.61</td></tr>\n",
       "\t<tr><th scope=row>5</th><td>ENSG00000000460.16_C1orf112</td><td> 1.70</td><td> 1.12</td><td>2.78</td><td> 0.34</td><td>0.43</td><td> 0.71</td><td> 0.57</td><td> 1.00</td><td>1.64</td></tr>\n",
       "\t<tr><th scope=row>6</th><td>ENSG00000000938.12_FGR     </td><td> 1.27</td><td> 0.90</td><td>0.18</td><td> 1.12</td><td>0.36</td><td> 1.32</td><td> 1.05</td><td> 0.93</td><td>1.01</td></tr>\n",
       "\t<tr><th scope=row>7</th><td>ENSG00000000971.15_CFH     </td><td> 2.04</td><td> 5.77</td><td>2.02</td><td> 7.50</td><td>5.57</td><td> 1.02</td><td>13.23</td><td> 2.75</td><td>2.32</td></tr>\n",
       "\t<tr><th scope=row>8</th><td>ENSG00000001036.13_FUCA2   </td><td> 7.86</td><td> 7.15</td><td>3.33</td><td> 4.47</td><td>1.40</td><td> 1.88</td><td> 8.94</td><td>10.26</td><td>5.99</td></tr>\n",
       "\t<tr><th scope=row>9</th><td>ENSG00000001084.10_GCLC    </td><td>14.26</td><td>13.19</td><td>7.39</td><td>11.16</td><td>1.20</td><td>15.90</td><td> 3.18</td><td>16.94</td><td>8.09</td></tr>\n",
       "\t<tr><th scope=row>10</th><td>ENSG00000001167.14_NFYA    </td><td> 3.12</td><td> 4.19</td><td>9.64</td><td> 2.07</td><td>1.14</td><td> 5.44</td><td> 2.35</td><td> 6.90</td><td>4.68</td></tr>\n",
       "</tbody>\n",
       "</table>\n"
      ],
      "text/latex": [
       "A data.frame: 10 × 10\n",
       "\\begin{tabular}{r|llllllllll}\n",
       "  &  & 00245bb9-b207-4648-b26e-bf16ec38103a.rsem.genes.results & 0071cbef-6d2d-4328-b95b-f1076b66851a.rsem.genes.results & 0080e250-aef6-4501-8f0e-42b483252440.rsem.genes.results & 00a72866-565d-4e01-a666-e13ea722e7e3.rsem.genes.results & 00d202e7-8c8b-4696-9d4b-8221e6251421.rsem.genes.results & 00d8fca5-287f-40bb-a2bc-56bfd41fdccc.rsem.genes.results & 010d6dff-c341-4d11-aa68-433e06bda14c.rsem.genes.results & 01a28736-f93b-4e46-be14-dc604b48bf23.rsem.genes.results & 01a81e81-dc1b-4387-997b-c9f956d9ac8f.rsem.genes.results\\\\\n",
       "  & <chr> & <dbl> & <dbl> & <dbl> & <dbl> & <dbl> & <dbl> & <dbl> & <dbl> & <dbl>\\\\\n",
       "\\hline\n",
       "\t1 & ENSG00000000003.14\\_TSPAN6   & 10.99 &  8.66 & 6.15 &  2.40 & 0.73 &  1.50 &  1.88 & 29.41 & 4.62\\\\\n",
       "\t2 & ENSG00000000005.5\\_TNMD      &  0.18 &  0.02 & 0.03 &  0.02 & 0.02 &  0.01 &  0.03 &  0.33 & 0.03\\\\\n",
       "\t3 & ENSG00000000419.12\\_DPM1     &  4.95 &  6.15 & 5.09 &  3.35 & 1.09 &  3.68 &  3.27 &  4.89 & 4.75\\\\\n",
       "\t4 & ENSG00000000457.13\\_SCYL3    &  1.50 &  1.75 & 1.71 &  0.90 & 0.44 &  1.44 &  0.89 &  1.52 & 1.61\\\\\n",
       "\t5 & ENSG00000000460.16\\_C1orf112 &  1.70 &  1.12 & 2.78 &  0.34 & 0.43 &  0.71 &  0.57 &  1.00 & 1.64\\\\\n",
       "\t6 & ENSG00000000938.12\\_FGR      &  1.27 &  0.90 & 0.18 &  1.12 & 0.36 &  1.32 &  1.05 &  0.93 & 1.01\\\\\n",
       "\t7 & ENSG00000000971.15\\_CFH      &  2.04 &  5.77 & 2.02 &  7.50 & 5.57 &  1.02 & 13.23 &  2.75 & 2.32\\\\\n",
       "\t8 & ENSG00000001036.13\\_FUCA2    &  7.86 &  7.15 & 3.33 &  4.47 & 1.40 &  1.88 &  8.94 & 10.26 & 5.99\\\\\n",
       "\t9 & ENSG00000001084.10\\_GCLC     & 14.26 & 13.19 & 7.39 & 11.16 & 1.20 & 15.90 &  3.18 & 16.94 & 8.09\\\\\n",
       "\t10 & ENSG00000001167.14\\_NFYA     &  3.12 &  4.19 & 9.64 &  2.07 & 1.14 &  5.44 &  2.35 &  6.90 & 4.68\\\\\n",
       "\\end{tabular}\n"
      ],
      "text/markdown": [
       "\n",
       "A data.frame: 10 × 10\n",
       "\n",
       "| <!--/--> | <!----> &lt;chr&gt; | 00245bb9-b207-4648-b26e-bf16ec38103a.rsem.genes.results &lt;dbl&gt; | 0071cbef-6d2d-4328-b95b-f1076b66851a.rsem.genes.results &lt;dbl&gt; | 0080e250-aef6-4501-8f0e-42b483252440.rsem.genes.results &lt;dbl&gt; | 00a72866-565d-4e01-a666-e13ea722e7e3.rsem.genes.results &lt;dbl&gt; | 00d202e7-8c8b-4696-9d4b-8221e6251421.rsem.genes.results &lt;dbl&gt; | 00d8fca5-287f-40bb-a2bc-56bfd41fdccc.rsem.genes.results &lt;dbl&gt; | 010d6dff-c341-4d11-aa68-433e06bda14c.rsem.genes.results &lt;dbl&gt; | 01a28736-f93b-4e46-be14-dc604b48bf23.rsem.genes.results &lt;dbl&gt; | 01a81e81-dc1b-4387-997b-c9f956d9ac8f.rsem.genes.results &lt;dbl&gt; |\n",
       "|---|---|---|---|---|---|---|---|---|---|---|\n",
       "| 1 | ENSG00000000003.14_TSPAN6   | 10.99 |  8.66 | 6.15 |  2.40 | 0.73 |  1.50 |  1.88 | 29.41 | 4.62 |\n",
       "| 2 | ENSG00000000005.5_TNMD      |  0.18 |  0.02 | 0.03 |  0.02 | 0.02 |  0.01 |  0.03 |  0.33 | 0.03 |\n",
       "| 3 | ENSG00000000419.12_DPM1     |  4.95 |  6.15 | 5.09 |  3.35 | 1.09 |  3.68 |  3.27 |  4.89 | 4.75 |\n",
       "| 4 | ENSG00000000457.13_SCYL3    |  1.50 |  1.75 | 1.71 |  0.90 | 0.44 |  1.44 |  0.89 |  1.52 | 1.61 |\n",
       "| 5 | ENSG00000000460.16_C1orf112 |  1.70 |  1.12 | 2.78 |  0.34 | 0.43 |  0.71 |  0.57 |  1.00 | 1.64 |\n",
       "| 6 | ENSG00000000938.12_FGR      |  1.27 |  0.90 | 0.18 |  1.12 | 0.36 |  1.32 |  1.05 |  0.93 | 1.01 |\n",
       "| 7 | ENSG00000000971.15_CFH      |  2.04 |  5.77 | 2.02 |  7.50 | 5.57 |  1.02 | 13.23 |  2.75 | 2.32 |\n",
       "| 8 | ENSG00000001036.13_FUCA2    |  7.86 |  7.15 | 3.33 |  4.47 | 1.40 |  1.88 |  8.94 | 10.26 | 5.99 |\n",
       "| 9 | ENSG00000001084.10_GCLC     | 14.26 | 13.19 | 7.39 | 11.16 | 1.20 | 15.90 |  3.18 | 16.94 | 8.09 |\n",
       "| 10 | ENSG00000001167.14_NFYA     |  3.12 |  4.19 | 9.64 |  2.07 | 1.14 |  5.44 |  2.35 |  6.90 | 4.68 |\n",
       "\n"
      ],
      "text/plain": [
       "                              \n",
       "1  ENSG00000000003.14_TSPAN6  \n",
       "2  ENSG00000000005.5_TNMD     \n",
       "3  ENSG00000000419.12_DPM1    \n",
       "4  ENSG00000000457.13_SCYL3   \n",
       "5  ENSG00000000460.16_C1orf112\n",
       "6  ENSG00000000938.12_FGR     \n",
       "7  ENSG00000000971.15_CFH     \n",
       "8  ENSG00000001036.13_FUCA2   \n",
       "9  ENSG00000001084.10_GCLC    \n",
       "10 ENSG00000001167.14_NFYA    \n",
       "   00245bb9-b207-4648-b26e-bf16ec38103a.rsem.genes.results\n",
       "1  10.99                                                  \n",
       "2   0.18                                                  \n",
       "3   4.95                                                  \n",
       "4   1.50                                                  \n",
       "5   1.70                                                  \n",
       "6   1.27                                                  \n",
       "7   2.04                                                  \n",
       "8   7.86                                                  \n",
       "9  14.26                                                  \n",
       "10  3.12                                                  \n",
       "   0071cbef-6d2d-4328-b95b-f1076b66851a.rsem.genes.results\n",
       "1   8.66                                                  \n",
       "2   0.02                                                  \n",
       "3   6.15                                                  \n",
       "4   1.75                                                  \n",
       "5   1.12                                                  \n",
       "6   0.90                                                  \n",
       "7   5.77                                                  \n",
       "8   7.15                                                  \n",
       "9  13.19                                                  \n",
       "10  4.19                                                  \n",
       "   0080e250-aef6-4501-8f0e-42b483252440.rsem.genes.results\n",
       "1  6.15                                                   \n",
       "2  0.03                                                   \n",
       "3  5.09                                                   \n",
       "4  1.71                                                   \n",
       "5  2.78                                                   \n",
       "6  0.18                                                   \n",
       "7  2.02                                                   \n",
       "8  3.33                                                   \n",
       "9  7.39                                                   \n",
       "10 9.64                                                   \n",
       "   00a72866-565d-4e01-a666-e13ea722e7e3.rsem.genes.results\n",
       "1   2.40                                                  \n",
       "2   0.02                                                  \n",
       "3   3.35                                                  \n",
       "4   0.90                                                  \n",
       "5   0.34                                                  \n",
       "6   1.12                                                  \n",
       "7   7.50                                                  \n",
       "8   4.47                                                  \n",
       "9  11.16                                                  \n",
       "10  2.07                                                  \n",
       "   00d202e7-8c8b-4696-9d4b-8221e6251421.rsem.genes.results\n",
       "1  0.73                                                   \n",
       "2  0.02                                                   \n",
       "3  1.09                                                   \n",
       "4  0.44                                                   \n",
       "5  0.43                                                   \n",
       "6  0.36                                                   \n",
       "7  5.57                                                   \n",
       "8  1.40                                                   \n",
       "9  1.20                                                   \n",
       "10 1.14                                                   \n",
       "   00d8fca5-287f-40bb-a2bc-56bfd41fdccc.rsem.genes.results\n",
       "1   1.50                                                  \n",
       "2   0.01                                                  \n",
       "3   3.68                                                  \n",
       "4   1.44                                                  \n",
       "5   0.71                                                  \n",
       "6   1.32                                                  \n",
       "7   1.02                                                  \n",
       "8   1.88                                                  \n",
       "9  15.90                                                  \n",
       "10  5.44                                                  \n",
       "   010d6dff-c341-4d11-aa68-433e06bda14c.rsem.genes.results\n",
       "1   1.88                                                  \n",
       "2   0.03                                                  \n",
       "3   3.27                                                  \n",
       "4   0.89                                                  \n",
       "5   0.57                                                  \n",
       "6   1.05                                                  \n",
       "7  13.23                                                  \n",
       "8   8.94                                                  \n",
       "9   3.18                                                  \n",
       "10  2.35                                                  \n",
       "   01a28736-f93b-4e46-be14-dc604b48bf23.rsem.genes.results\n",
       "1  29.41                                                  \n",
       "2   0.33                                                  \n",
       "3   4.89                                                  \n",
       "4   1.52                                                  \n",
       "5   1.00                                                  \n",
       "6   0.93                                                  \n",
       "7   2.75                                                  \n",
       "8  10.26                                                  \n",
       "9  16.94                                                  \n",
       "10  6.90                                                  \n",
       "   01a81e81-dc1b-4387-997b-c9f956d9ac8f.rsem.genes.results\n",
       "1  4.62                                                   \n",
       "2  0.03                                                   \n",
       "3  4.75                                                   \n",
       "4  1.61                                                   \n",
       "5  1.64                                                   \n",
       "6  1.01                                                   \n",
       "7  2.32                                                   \n",
       "8  5.99                                                   \n",
       "9  8.09                                                   \n",
       "10 4.68                                                   "
      ]
     },
     "metadata": {},
     "output_type": "display_data"
    }
   ],
   "source": [
    "CBTN_tpm_all[1:10,1:10]"
   ]
  },
  {
   "cell_type": "code",
   "execution_count": 202,
   "metadata": {},
   "outputs": [],
   "source": [
    "CBTN_tpm_lines <- CBTN_tpm_all[, colnames(CBTN_tpm_all) %in% celllines_manifest$name]"
   ]
  },
  {
   "cell_type": "code",
   "execution_count": 203,
   "metadata": {},
   "outputs": [
    {
     "data": {
      "text/html": [
       "<style>\n",
       ".list-inline {list-style: none; margin:0; padding: 0}\n",
       ".list-inline>li {display: inline-block}\n",
       ".list-inline>li:not(:last-child)::after {content: \"\\00b7\"; padding: 0 .5ex}\n",
       "</style>\n",
       "<ol class=list-inline><li>58347</li><li>22</li></ol>\n"
      ],
      "text/latex": [
       "\\begin{enumerate*}\n",
       "\\item 58347\n",
       "\\item 22\n",
       "\\end{enumerate*}\n"
      ],
      "text/markdown": [
       "1. 58347\n",
       "2. 22\n",
       "\n",
       "\n"
      ],
      "text/plain": [
       "[1] 58347    22"
      ]
     },
     "metadata": {},
     "output_type": "display_data"
    }
   ],
   "source": [
    "dim(CBTN_tpm_lines)"
   ]
  },
  {
   "cell_type": "code",
   "execution_count": 204,
   "metadata": {},
   "outputs": [],
   "source": [
    "#cleanup rownames\n",
    "\n",
    "CBTN_tpm_lines$Gene <- gsub(\".*_\", \"\", CBTN_tpm_all[,1])"
   ]
  },
  {
   "cell_type": "code",
   "execution_count": 205,
   "metadata": {},
   "outputs": [
    {
     "data": {
      "text/html": [
       "<style>\n",
       ".list-inline {list-style: none; margin:0; padding: 0}\n",
       ".list-inline>li {display: inline-block}\n",
       ".list-inline>li:not(:last-child)::after {content: \"\\00b7\"; padding: 0 .5ex}\n",
       "</style>\n",
       "<ol class=list-inline><li>58347</li><li>23</li></ol>\n"
      ],
      "text/latex": [
       "\\begin{enumerate*}\n",
       "\\item 58347\n",
       "\\item 23\n",
       "\\end{enumerate*}\n"
      ],
      "text/markdown": [
       "1. 58347\n",
       "2. 23\n",
       "\n",
       "\n"
      ],
      "text/plain": [
       "[1] 58347    23"
      ]
     },
     "metadata": {},
     "output_type": "display_data"
    }
   ],
   "source": [
    "dim(CBTN_tpm_lines)"
   ]
  },
  {
   "cell_type": "code",
   "execution_count": 206,
   "metadata": {},
   "outputs": [],
   "source": [
    "CBTN_tpm_lines_dedup <- CBTN_tpm_lines[ !duplicated(CBTN_tpm_lines$Gene),]"
   ]
  },
  {
   "cell_type": "code",
   "execution_count": 207,
   "metadata": {},
   "outputs": [
    {
     "data": {
      "text/html": [
       "<style>\n",
       ".list-inline {list-style: none; margin:0; padding: 0}\n",
       ".list-inline>li {display: inline-block}\n",
       ".list-inline>li:not(:last-child)::after {content: \"\\00b7\"; padding: 0 .5ex}\n",
       "</style>\n",
       "<ol class=list-inline><li>56505</li><li>23</li></ol>\n"
      ],
      "text/latex": [
       "\\begin{enumerate*}\n",
       "\\item 56505\n",
       "\\item 23\n",
       "\\end{enumerate*}\n"
      ],
      "text/markdown": [
       "1. 56505\n",
       "2. 23\n",
       "\n",
       "\n"
      ],
      "text/plain": [
       "[1] 56505    23"
      ]
     },
     "metadata": {},
     "output_type": "display_data"
    }
   ],
   "source": [
    "dim(CBTN_tpm_lines_dedup)"
   ]
  },
  {
   "cell_type": "code",
   "execution_count": 208,
   "metadata": {},
   "outputs": [],
   "source": [
    "rownames(CBTN_tpm_lines_dedup) <- CBTN_tpm_lines_dedup$Gene\n",
    "CBTN_tpm_lines_dedup$Gene <- NULL"
   ]
  },
  {
   "cell_type": "markdown",
   "metadata": {},
   "source": [
    "Subset to protein coding"
   ]
  },
  {
   "cell_type": "code",
   "execution_count": 209,
   "metadata": {},
   "outputs": [],
   "source": [
    "hg38 <- useMart(biomart=\"ENSEMBL_MART_ENSEMBL\", host=\"www.ensembl.org\", \n",
    "                path=\"/biomart/martservice\", dataset=\"hsapiens_gene_ensembl\")"
   ]
  },
  {
   "cell_type": "code",
   "execution_count": 210,
   "metadata": {},
   "outputs": [],
   "source": [
    "hgncs <- rownames(CBTN_tpm_lines_dedup)"
   ]
  },
  {
   "cell_type": "code",
   "execution_count": 211,
   "metadata": {},
   "outputs": [],
   "source": [
    "hgnc_type <- getBM(filters=\"hgnc_symbol\",\n",
    "                   attributes=c(\"hgnc_symbol\",\"ensembl_gene_id\", \"entrezgene_id\", \"gene_biotype\"), \n",
    "                   values= hgncs,mart=hg38)"
   ]
  },
  {
   "cell_type": "code",
   "execution_count": 212,
   "metadata": {},
   "outputs": [
    {
     "data": {
      "text/plain": [
       "\n",
       "                         IG_C_gene                    IG_C_pseudogene \n",
       "                                23                                 11 \n",
       "                         IG_D_gene                          IG_J_gene \n",
       "                                64                                 24 \n",
       "                   IG_J_pseudogene                          IG_V_gene \n",
       "                                 6                                207 \n",
       "                   IG_V_pseudogene                             lncRNA \n",
       "                               274                               3842 \n",
       "                             miRNA                           misc_RNA \n",
       "                              1887                               1059 \n",
       "                           Mt_rRNA                            Mt_tRNA \n",
       "                                 2                                 22 \n",
       "            polymorphic_pseudogene               processed_pseudogene \n",
       "                                71                               5138 \n",
       "                    protein_coding                           ribozyme \n",
       "                             21371                                  5 \n",
       "                              rRNA                    rRNA_pseudogene \n",
       "                                35                                505 \n",
       "                            scaRNA                              scRNA \n",
       "                                22                                  1 \n",
       "                            snoRNA                              snRNA \n",
       "                               474                               1860 \n",
       "                               TEC                          TR_C_gene \n",
       "                                16                                  6 \n",
       "                         TR_D_gene                          TR_J_gene \n",
       "                                 3                                 81 \n",
       "                   TR_J_pseudogene                          TR_V_gene \n",
       "                                 4                                130 \n",
       "                   TR_V_pseudogene   transcribed_processed_pseudogene \n",
       "                                45                                305 \n",
       "    transcribed_unitary_pseudogene transcribed_unprocessed_pseudogene \n",
       "                                92                                725 \n",
       " translated_unprocessed_pseudogene                 unitary_pseudogene \n",
       "                                 1                                 64 \n",
       "            unprocessed_pseudogene                          vault_RNA \n",
       "                              1753                                  1 "
      ]
     },
     "metadata": {},
     "output_type": "display_data"
    }
   ],
   "source": [
    "table(hgnc_type$gene_biotype)"
   ]
  },
  {
   "cell_type": "code",
   "execution_count": 213,
   "metadata": {},
   "outputs": [],
   "source": [
    "proteincoding <- hgnc_type$hgnc_symbol[hgnc_type$gene_biotype == \"protein_coding\"]"
   ]
  },
  {
   "cell_type": "code",
   "execution_count": 214,
   "metadata": {},
   "outputs": [],
   "source": [
    "CBTN_tpm_lines_dedup_pc <- CBTN_tpm_lines_dedup[proteincoding,]"
   ]
  },
  {
   "cell_type": "code",
   "execution_count": 215,
   "metadata": {},
   "outputs": [
    {
     "data": {
      "text/html": [
       "<style>\n",
       ".list-inline {list-style: none; margin:0; padding: 0}\n",
       ".list-inline>li {display: inline-block}\n",
       ".list-inline>li:not(:last-child)::after {content: \"\\00b7\"; padding: 0 .5ex}\n",
       "</style>\n",
       "<ol class=list-inline><li>56505</li><li>22</li></ol>\n"
      ],
      "text/latex": [
       "\\begin{enumerate*}\n",
       "\\item 56505\n",
       "\\item 22\n",
       "\\end{enumerate*}\n"
      ],
      "text/markdown": [
       "1. 56505\n",
       "2. 22\n",
       "\n",
       "\n"
      ],
      "text/plain": [
       "[1] 56505    22"
      ]
     },
     "metadata": {},
     "output_type": "display_data"
    },
    {
     "data": {
      "text/html": [
       "<style>\n",
       ".list-inline {list-style: none; margin:0; padding: 0}\n",
       ".list-inline>li {display: inline-block}\n",
       ".list-inline>li:not(:last-child)::after {content: \"\\00b7\"; padding: 0 .5ex}\n",
       "</style>\n",
       "<ol class=list-inline><li>21371</li><li>22</li></ol>\n"
      ],
      "text/latex": [
       "\\begin{enumerate*}\n",
       "\\item 21371\n",
       "\\item 22\n",
       "\\end{enumerate*}\n"
      ],
      "text/markdown": [
       "1. 21371\n",
       "2. 22\n",
       "\n",
       "\n"
      ],
      "text/plain": [
       "[1] 21371    22"
      ]
     },
     "metadata": {},
     "output_type": "display_data"
    }
   ],
   "source": [
    "dim(CBTN_tpm_lines_dedup)\n",
    "dim(CBTN_tpm_lines_dedup_pc)"
   ]
  },
  {
   "cell_type": "code",
   "execution_count": 216,
   "metadata": {},
   "outputs": [],
   "source": [
    "CBTN_tpm_lines_dedup_m <- (CBTN_tpm_lines_dedup_pc - median(unlist(CBTN_tpm_lines_dedup_pc)))/\n",
    "mad(unlist(CBTN_tpm_lines_dedup_pc))"
   ]
  },
  {
   "cell_type": "code",
   "execution_count": 217,
   "metadata": {},
   "outputs": [
    {
     "data": {
      "text/plain": [
       "   Min. 1st Qu.  Median    Mean 3rd Qu.    Max. \n",
       "   0.00    0.03    1.98   11.83    8.04 8749.22 "
      ]
     },
     "metadata": {},
     "output_type": "display_data"
    }
   ],
   "source": [
    "summary(unlist(CBTN_tpm_lines_dedup_pc))"
   ]
  },
  {
   "cell_type": "code",
   "execution_count": 218,
   "metadata": {},
   "outputs": [
    {
     "data": {
      "image/png": "[encoded data removed]",
      "text/plain": [
       "plot without title"
      ]
     },
     "metadata": {
      "image/png": {
       "height": 420,
       "width": 420
      }
     },
     "output_type": "display_data"
    }
   ],
   "source": [
    "ggplot() + geom_histogram(aes(unlist(CBTN_tpm_lines_dedup_m)), binwidth = 0.5) + myaxis + myplot  +\n",
    "coord_cartesian(xlim = c(-1,10))"
   ]
  },
  {
   "cell_type": "code",
   "execution_count": 219,
   "metadata": {},
   "outputs": [],
   "source": [
    "lines_expressed_genes <- rownames(CBTN_tpm_lines_dedup_m)[rowSums(CBTN_tpm_lines_dedup_m > quantile(unlist(CBTN_tpm_lines_dedup_m), 0.75)) >= 1]"
   ]
  },
  {
   "cell_type": "code",
   "execution_count": 220,
   "metadata": {},
   "outputs": [
    {
     "data": {
      "text/html": [
       "<style>\n",
       ".list-inline {list-style: none; margin:0; padding: 0}\n",
       ".list-inline>li {display: inline-block}\n",
       ".list-inline>li:not(:last-child)::after {content: \"\\00b7\"; padding: 0 .5ex}\n",
       "</style>\n",
       "<ol class=list-inline><li>21371</li><li>22</li></ol>\n"
      ],
      "text/latex": [
       "\\begin{enumerate*}\n",
       "\\item 21371\n",
       "\\item 22\n",
       "\\end{enumerate*}\n"
      ],
      "text/markdown": [
       "1. 21371\n",
       "2. 22\n",
       "\n",
       "\n"
      ],
      "text/plain": [
       "[1] 21371    22"
      ]
     },
     "metadata": {},
     "output_type": "display_data"
    },
    {
     "data": {
      "text/html": [
       "11195"
      ],
      "text/latex": [
       "11195"
      ],
      "text/markdown": [
       "11195"
      ],
      "text/plain": [
       "[1] 11195"
      ]
     },
     "metadata": {},
     "output_type": "display_data"
    }
   ],
   "source": [
    "dim(CBTN_tpm_lines_dedup_m)\n",
    "length(lines_expressed_genes)"
   ]
  },
  {
   "cell_type": "markdown",
   "metadata": {},
   "source": [
    "11195 genes are expressed more than 75th percentile in at least one cellline "
   ]
  },
  {
   "cell_type": "markdown",
   "metadata": {},
   "source": [
    "## Bind all"
   ]
  },
  {
   "cell_type": "code",
   "execution_count": 221,
   "metadata": {},
   "outputs": [],
   "source": [
    "nonimmune_genes <- c(nbl_nonimmune_genes_expressed,gojo_nonimmune_genes_expressed,\n",
    "                     gillen_nonimmune_genes_expressed, pdx_expressed_genes, lines_expressed_genes)"
   ]
  },
  {
   "cell_type": "code",
   "execution_count": 222,
   "metadata": {},
   "outputs": [
    {
     "data": {
      "text/html": [
       "45168"
      ],
      "text/latex": [
       "45168"
      ],
      "text/markdown": [
       "45168"
      ],
      "text/plain": [
       "[1] 45168"
      ]
     },
     "metadata": {},
     "output_type": "display_data"
    }
   ],
   "source": [
    "length(nonimmune_genes)"
   ]
  },
  {
   "cell_type": "code",
   "execution_count": 223,
   "metadata": {},
   "outputs": [],
   "source": [
    "immune_genes_nontumour <- immune_genes[!immune_genes %in% nonimmune_genes]"
   ]
  },
  {
   "cell_type": "code",
   "execution_count": 224,
   "metadata": {},
   "outputs": [
    {
     "data": {
      "text/html": [
       "3041"
      ],
      "text/latex": [
       "3041"
      ],
      "text/markdown": [
       "3041"
      ],
      "text/plain": [
       "[1] 3041"
      ]
     },
     "metadata": {},
     "output_type": "display_data"
    }
   ],
   "source": [
    "length(immune_genes)"
   ]
  },
  {
   "cell_type": "code",
   "execution_count": 225,
   "metadata": {},
   "outputs": [
    {
     "data": {
      "text/html": [
       "791"
      ],
      "text/latex": [
       "791"
      ],
      "text/markdown": [
       "791"
      ],
      "text/plain": [
       "[1] 791"
      ]
     },
     "metadata": {},
     "output_type": "display_data"
    }
   ],
   "source": [
    "length(immune_genes_nontumour)"
   ]
  },
  {
   "cell_type": "code",
   "execution_count": 226,
   "metadata": {},
   "outputs": [],
   "source": [
    "save(immune_genes_nontumour, file = paste0(datapath, \"TME_clusters/TME_immune_genes.RData\"))"
   ]
  }
 ],
 "metadata": {
  "kernelspec": {
   "display_name": "R 4.0",
   "language": "R",
   "name": "ir40"
  },
  "language_info": {
   "codemirror_mode": "r",
   "file_extension": ".r",
   "mimetype": "text/x-r-source",
   "name": "R",
   "pygments_lexer": "r",
   "version": "4.0.3"
  },
  "toc": {
   "base_numbering": 1,
   "nav_menu": {},
   "number_sections": false,
   "sideBar": true,
   "skip_h1_title": false,
   "title_cell": "Table of Contents",
   "title_sidebar": "Contents",
   "toc_cell": true,
   "toc_position": {
    "height": "calc(100% - 180px)",
    "left": "10px",
    "top": "150px",
    "width": "280px"
   },
   "toc_section_display": true,
   "toc_window_display": true
  }
 },
 "nbformat": 4,
 "nbformat_minor": 2
}
