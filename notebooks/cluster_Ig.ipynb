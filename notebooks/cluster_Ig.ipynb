{
 "cells": [
  {
   "cell_type": "markdown",
   "metadata": {
    "toc": true
   },
   "source": [
    "<h1>Table of Contents<span class=\"tocSkip\"></span></h1>\n",
    "<div class=\"toc\"><ul class=\"toc-item\"><li><span><a href=\"#Dependencies\" data-toc-modified-id=\"Dependencies-1\">Dependencies</a></span></li><li><span><a href=\"#Functions\" data-toc-modified-id=\"Functions-2\">Functions</a></span></li><li><span><a href=\"#Paths\" data-toc-modified-id=\"Paths-3\">Paths</a></span></li><li><span><a href=\"#Main\" data-toc-modified-id=\"Main-4\">Main</a></span></li></ul></div>"
   ]
  },
  {
   "cell_type": "markdown",
   "metadata": {},
   "source": [
    "# Dependencies"
   ]
  },
  {
   "cell_type": "code",
   "execution_count": 1,
   "metadata": {},
   "outputs": [],
   "source": [
    "options(scipen = 999)"
   ]
  },
  {
   "cell_type": "markdown",
   "metadata": {},
   "source": [
    "# Functions"
   ]
  },
  {
   "cell_type": "markdown",
   "metadata": {},
   "source": [
    "# Paths"
   ]
  },
  {
   "cell_type": "code",
   "execution_count": 1,
   "metadata": {},
   "outputs": [],
   "source": [
    "mountpath <- \"/Users/anabbi/sbfs_mount/projects/cavatica/9zrh-gcct/\""
   ]
  },
  {
   "cell_type": "code",
   "execution_count": 2,
   "metadata": {},
   "outputs": [],
   "source": [
    "manifestpath <- \"/Users/anabbi/OneDrive - UHN/Documents/IPD2/Manifests/\"\n",
    "datapath <- \"/Users/anabbi/OneDrive - UHN/Documents/IPD2/Data/\"\n",
    "plotpath <- \"/Users/anabbi/OneDrive - UHN/Documents/IPD2/Plots/\""
   ]
  },
  {
   "cell_type": "markdown",
   "metadata": {},
   "source": [
    "# Main"
   ]
  },
  {
   "cell_type": "code",
   "execution_count": 3,
   "metadata": {},
   "outputs": [],
   "source": [
    "load(paste0(datapath, \"TME_clusters/IPD_estimate_metadata_IC.RData\"))"
   ]
  },
  {
   "cell_type": "code",
   "execution_count": 4,
   "metadata": {},
   "outputs": [
    {
     "data": {
      "text/html": [
       "<style>\n",
       ".list-inline {list-style: none; margin:0; padding: 0}\n",
       ".list-inline>li {display: inline-block}\n",
       ".list-inline>li:not(:last-child)::after {content: \"\\00b7\"; padding: 0 .5ex}\n",
       "</style>\n",
       "<ol class=list-inline><li>'datapath'</li><li>'manifestpath'</li><li>'metadata_IC'</li><li>'mountpath'</li><li>'plotpath'</li></ol>\n"
      ],
      "text/latex": [
       "\\begin{enumerate*}\n",
       "\\item 'datapath'\n",
       "\\item 'manifestpath'\n",
       "\\item 'metadata\\_IC'\n",
       "\\item 'mountpath'\n",
       "\\item 'plotpath'\n",
       "\\end{enumerate*}\n"
      ],
      "text/markdown": [
       "1. 'datapath'\n",
       "2. 'manifestpath'\n",
       "3. 'metadata_IC'\n",
       "4. 'mountpath'\n",
       "5. 'plotpath'\n",
       "\n",
       "\n"
      ],
      "text/plain": [
       "[1] \"datapath\"     \"manifestpath\" \"metadata_IC\"  \"mountpath\"    \"plotpath\"    "
      ]
     },
     "metadata": {},
     "output_type": "display_data"
    }
   ],
   "source": [
    "ls()"
   ]
  },
  {
   "cell_type": "code",
   "execution_count": 16,
   "metadata": {},
   "outputs": [],
   "source": [
    "allfiles <- list.files(mountpath, pattern = \"CLONES_IGH_\", full.names = T, recursive = T)\n",
    "\n",
    "allfiles <- allfiles[!grepl(\"TCGA\", allfiles)]"
   ]
  },
  {
   "cell_type": "code",
   "execution_count": 17,
   "metadata": {},
   "outputs": [
    {
     "data": {
      "text/html": [
       "<style>\n",
       ".list-inline {list-style: none; margin:0; padding: 0}\n",
       ".list-inline>li {display: inline-block}\n",
       ".list-inline>li:not(:last-child)::after {content: \"\\00b7\"; padding: 0 .5ex}\n",
       "</style>\n",
       "<ol class=list-inline><li>'/Users/anabbi/sbfs_mount/projects/cavatica/9zrh-gcct//MIXCR/TARGET/CLONES_IGH_TARGET-30-PATINJ-01A.txt'</li><li>'/Users/anabbi/sbfs_mount/projects/cavatica/9zrh-gcct//MIXCR/TARGET/CLONES_IGH_TARGET-30-PATNKP-02A.txt'</li><li>'/Users/anabbi/sbfs_mount/projects/cavatica/9zrh-gcct//MIXCR/TARGET/CLONES_IGH_TARGET-30-PATYIL-01A.txt'</li><li>'/Users/anabbi/sbfs_mount/projects/cavatica/9zrh-gcct//MIXCR/TARGET/CLONES_IGH_TARGET-30-PATYIL-02A.txt'</li><li>'/Users/anabbi/sbfs_mount/projects/cavatica/9zrh-gcct//MIXCR/TARGET/CLONES_IGH_TARGET-30-PAUDDK-01A.txt'</li><li>'/Users/anabbi/sbfs_mount/projects/cavatica/9zrh-gcct//MIXCR/TARGET/CLONES_IGH_TARGET-30-PAUDDK-02A.txt'</li></ol>\n"
      ],
      "text/latex": [
       "\\begin{enumerate*}\n",
       "\\item '/Users/anabbi/sbfs\\_mount/projects/cavatica/9zrh-gcct//MIXCR/TARGET/CLONES\\_IGH\\_TARGET-30-PATINJ-01A.txt'\n",
       "\\item '/Users/anabbi/sbfs\\_mount/projects/cavatica/9zrh-gcct//MIXCR/TARGET/CLONES\\_IGH\\_TARGET-30-PATNKP-02A.txt'\n",
       "\\item '/Users/anabbi/sbfs\\_mount/projects/cavatica/9zrh-gcct//MIXCR/TARGET/CLONES\\_IGH\\_TARGET-30-PATYIL-01A.txt'\n",
       "\\item '/Users/anabbi/sbfs\\_mount/projects/cavatica/9zrh-gcct//MIXCR/TARGET/CLONES\\_IGH\\_TARGET-30-PATYIL-02A.txt'\n",
       "\\item '/Users/anabbi/sbfs\\_mount/projects/cavatica/9zrh-gcct//MIXCR/TARGET/CLONES\\_IGH\\_TARGET-30-PAUDDK-01A.txt'\n",
       "\\item '/Users/anabbi/sbfs\\_mount/projects/cavatica/9zrh-gcct//MIXCR/TARGET/CLONES\\_IGH\\_TARGET-30-PAUDDK-02A.txt'\n",
       "\\end{enumerate*}\n"
      ],
      "text/markdown": [
       "1. '/Users/anabbi/sbfs_mount/projects/cavatica/9zrh-gcct//MIXCR/TARGET/CLONES_IGH_TARGET-30-PATINJ-01A.txt'\n",
       "2. '/Users/anabbi/sbfs_mount/projects/cavatica/9zrh-gcct//MIXCR/TARGET/CLONES_IGH_TARGET-30-PATNKP-02A.txt'\n",
       "3. '/Users/anabbi/sbfs_mount/projects/cavatica/9zrh-gcct//MIXCR/TARGET/CLONES_IGH_TARGET-30-PATYIL-01A.txt'\n",
       "4. '/Users/anabbi/sbfs_mount/projects/cavatica/9zrh-gcct//MIXCR/TARGET/CLONES_IGH_TARGET-30-PATYIL-02A.txt'\n",
       "5. '/Users/anabbi/sbfs_mount/projects/cavatica/9zrh-gcct//MIXCR/TARGET/CLONES_IGH_TARGET-30-PAUDDK-01A.txt'\n",
       "6. '/Users/anabbi/sbfs_mount/projects/cavatica/9zrh-gcct//MIXCR/TARGET/CLONES_IGH_TARGET-30-PAUDDK-02A.txt'\n",
       "\n",
       "\n"
      ],
      "text/plain": [
       "[1] \"/Users/anabbi/sbfs_mount/projects/cavatica/9zrh-gcct//MIXCR/TARGET/CLONES_IGH_TARGET-30-PATINJ-01A.txt\"\n",
       "[2] \"/Users/anabbi/sbfs_mount/projects/cavatica/9zrh-gcct//MIXCR/TARGET/CLONES_IGH_TARGET-30-PATNKP-02A.txt\"\n",
       "[3] \"/Users/anabbi/sbfs_mount/projects/cavatica/9zrh-gcct//MIXCR/TARGET/CLONES_IGH_TARGET-30-PATYIL-01A.txt\"\n",
       "[4] \"/Users/anabbi/sbfs_mount/projects/cavatica/9zrh-gcct//MIXCR/TARGET/CLONES_IGH_TARGET-30-PATYIL-02A.txt\"\n",
       "[5] \"/Users/anabbi/sbfs_mount/projects/cavatica/9zrh-gcct//MIXCR/TARGET/CLONES_IGH_TARGET-30-PAUDDK-01A.txt\"\n",
       "[6] \"/Users/anabbi/sbfs_mount/projects/cavatica/9zrh-gcct//MIXCR/TARGET/CLONES_IGH_TARGET-30-PAUDDK-02A.txt\""
      ]
     },
     "metadata": {},
     "output_type": "display_data"
    }
   ],
   "source": [
    "tail(allfiles)"
   ]
  },
  {
   "cell_type": "code",
   "execution_count": 18,
   "metadata": {},
   "outputs": [],
   "source": [
    "tmp <- lapply(allfiles, function(x)readLines(x, n = 2))\n",
    "names(tmp) <- allfiles"
   ]
  },
  {
   "cell_type": "code",
   "execution_count": 19,
   "metadata": {},
   "outputs": [],
   "source": [
    "tmp <- tmp[sapply(tmp, function(x) length(unlist(x))) > 1]"
   ]
  },
  {
   "cell_type": "code",
   "execution_count": null,
   "metadata": {},
   "outputs": [],
   "source": [
    "all.files <- lapply(names(tmp), function(f){ read.table(f, header = TRUE, sep = \"\\t\", stringsAsFactors = F)})"
   ]
  },
  {
   "cell_type": "code",
   "execution_count": null,
   "metadata": {},
   "outputs": [],
   "source": [
    "myfilesnames <- names(tmp)"
   ]
  },
  {
   "cell_type": "code",
   "execution_count": null,
   "metadata": {},
   "outputs": [],
   "source": [
    "myfilesnames[grepl(\"TARGET-52-PAUDPV-11A\", myfilesnames)]"
   ]
  },
  {
   "cell_type": "code",
   "execution_count": null,
   "metadata": {},
   "outputs": [],
   "source": [
    "names(all.files) <- gsub(\".*CLONES_IGH_\", \"\", myfilesnames)\n",
    "names(all.files) <- gsub(\".txt\", \"\", names(all.files))"
   ]
  },
  {
   "cell_type": "code",
   "execution_count": null,
   "metadata": {},
   "outputs": [],
   "source": [
    "save(all.files, file = paste0(datapath, \"Ig/all.IGH.files.RData\"))"
   ]
  },
  {
   "cell_type": "markdown",
   "metadata": {},
   "source": [
    "MOve to samwise to bind and cluster"
   ]
  },
  {
   "cell_type": "code",
   "execution_count": null,
   "metadata": {},
   "outputs": [],
   "source": [
    "all <- do.call(\"rbind\", all.files)"
   ]
  },
  {
   "cell_type": "code",
   "execution_count": null,
   "metadata": {},
   "outputs": [],
   "source": [
    "all$filename <- rep(names(all.files), sapply(all.files, nrow))"
   ]
  },
  {
   "cell_type": "code",
   "execution_count": null,
   "metadata": {},
   "outputs": [],
   "source": [
    "rownames(all) <- NULL"
   ]
  },
  {
   "cell_type": "code",
   "execution_count": null,
   "metadata": {},
   "outputs": [],
   "source": [
    "head(all)"
   ]
  },
  {
   "cell_type": "code",
   "execution_count": null,
   "metadata": {},
   "outputs": [],
   "source": [
    "all$sample_id <- gsub(\"_.*\", \"\", all$filename)\n",
    "all$aliquot <- gsub(\".*_\", \"\", all$filename)"
   ]
  },
  {
   "cell_type": "code",
   "execution_count": null,
   "metadata": {},
   "outputs": [],
   "source": [
    "all_merge <- merge(all, IPD_estimate_metadata_IC[,c(\"sample_id\", \"aliquot_id\", \"cohort\")], by = \"sample_id\")"
   ]
  },
  {
   "cell_type": "code",
   "execution_count": null,
   "metadata": {},
   "outputs": [],
   "source": []
  },
  {
   "cell_type": "code",
   "execution_count": null,
   "metadata": {},
   "outputs": [],
   "source": []
  },
  {
   "cell_type": "code",
   "execution_count": null,
   "metadata": {},
   "outputs": [],
   "source": []
  },
  {
   "cell_type": "code",
   "execution_count": null,
   "metadata": {},
   "outputs": [],
   "source": []
  },
  {
   "cell_type": "code",
   "execution_count": null,
   "metadata": {},
   "outputs": [],
   "source": []
  },
  {
   "cell_type": "code",
   "execution_count": null,
   "metadata": {},
   "outputs": [],
   "source": []
  },
  {
   "cell_type": "code",
   "execution_count": null,
   "metadata": {},
   "outputs": [],
   "source": []
  },
  {
   "cell_type": "code",
   "execution_count": null,
   "metadata": {},
   "outputs": [],
   "source": []
  },
  {
   "cell_type": "code",
   "execution_count": null,
   "metadata": {},
   "outputs": [],
   "source": []
  },
  {
   "cell_type": "code",
   "execution_count": null,
   "metadata": {},
   "outputs": [],
   "source": []
  },
  {
   "cell_type": "code",
   "execution_count": null,
   "metadata": {},
   "outputs": [],
   "source": []
  },
  {
   "cell_type": "code",
   "execution_count": null,
   "metadata": {},
   "outputs": [],
   "source": []
  },
  {
   "cell_type": "code",
   "execution_count": null,
   "metadata": {},
   "outputs": [],
   "source": []
  },
  {
   "cell_type": "code",
   "execution_count": null,
   "metadata": {},
   "outputs": [],
   "source": []
  }
 ],
 "metadata": {
  "kernelspec": {
   "display_name": "R 4.0",
   "language": "R",
   "name": "ir40"
  },
  "language_info": {
   "codemirror_mode": "r",
   "file_extension": ".r",
   "mimetype": "text/x-r-source",
   "name": "R",
   "pygments_lexer": "r",
   "version": "4.0.3"
  },
  "toc": {
   "base_numbering": 1,
   "nav_menu": {},
   "number_sections": false,
   "sideBar": true,
   "skip_h1_title": false,
   "title_cell": "Table of Contents",
   "title_sidebar": "Contents",
   "toc_cell": true,
   "toc_position": {
    "height": "calc(100% - 180px)",
    "left": "10px",
    "top": "150px",
    "width": "206.605px"
   },
   "toc_section_display": true,
   "toc_window_display": true
  }
 },
 "nbformat": 4,
 "nbformat_minor": 2
}
