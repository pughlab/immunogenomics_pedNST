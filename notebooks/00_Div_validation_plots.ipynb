{
 "cells": [
  {
   "cell_type": "markdown",
   "metadata": {
    "toc": true
   },
   "source": [
    "<h1>Table of Contents<span class=\"tocSkip\"></span></h1>\n",
    "<div class=\"toc\"><ul class=\"toc-item\"><li><span><a href=\"#Dependencies\" data-toc-modified-id=\"Dependencies-1\">Dependencies</a></span></li><li><span><a href=\"#Functions\" data-toc-modified-id=\"Functions-2\">Functions</a></span></li><li><span><a href=\"#Paths\" data-toc-modified-id=\"Paths-3\">Paths</a></span></li><li><span><a href=\"#Main\" data-toc-modified-id=\"Main-4\">Main</a></span></li><li><span><a href=\"#PROFYLE\" data-toc-modified-id=\"PROFYLE-5\">PROFYLE</a></span><ul class=\"toc-item\"><li><span><a href=\"#RNA\" data-toc-modified-id=\"RNA-5.1\">RNA</a></span></li><li><span><a href=\"#CapTCR-Seq\" data-toc-modified-id=\"CapTCR-Seq-5.2\">CapTCR-Seq</a></span></li><li><span><a href=\"#Bind-RNA-and-Cap\" data-toc-modified-id=\"Bind-RNA-and-Cap-5.3\">Bind RNA and Cap</a></span></li></ul></li><li><span><a href=\"#ICGC\" data-toc-modified-id=\"ICGC-6\">ICGC</a></span><ul class=\"toc-item\"><li><span><a href=\"#CapTCR-Seq\" data-toc-modified-id=\"CapTCR-Seq-6.1\">CapTCR-Seq</a></span></li><li><span><a href=\"#Bind-RNA-and-Cap\" data-toc-modified-id=\"Bind-RNA-and-Cap-6.2\">Bind RNA and Cap</a></span></li></ul></li><li><span><a href=\"#NPC\" data-toc-modified-id=\"NPC-7\">NPC</a></span><ul class=\"toc-item\"><li><span><a href=\"#RNA\" data-toc-modified-id=\"RNA-7.1\">RNA</a></span></li><li><span><a href=\"#CapTCR-Seq\" data-toc-modified-id=\"CapTCR-Seq-7.2\">CapTCR-Seq</a></span></li><li><span><a href=\"#Bind-RNA-and-Cap\" data-toc-modified-id=\"Bind-RNA-and-Cap-7.3\">Bind RNA and Cap</a></span></li></ul></li><li><span><a href=\"#Analysis-of-diversity-measures\" data-toc-modified-id=\"Analysis-of-diversity-measures-8\">Analysis of diversity measures</a></span><ul class=\"toc-item\"><li><span><a href=\"#linear-regression\" data-toc-modified-id=\"linear-regression-8.1\">linear regression</a></span></li></ul></li></ul></div>"
   ]
  },
  {
   "cell_type": "markdown",
   "metadata": {},
   "source": [
    "# Dependencies"
   ]
  },
  {
   "cell_type": "code",
   "execution_count": 1,
   "metadata": {
    "scrolled": true
   },
   "outputs": [
    {
     "name": "stderr",
     "output_type": "stream",
     "text": [
      "Loading required package: lattice\n",
      "\n",
      "Loading required package: survival\n",
      "\n",
      "Loading required package: Formula\n",
      "\n",
      "Loading required package: ggplot2\n",
      "\n",
      "\n",
      "Attaching package: ‘Hmisc’\n",
      "\n",
      "\n",
      "The following objects are masked from ‘package:base’:\n",
      "\n",
      "    format.pval, units\n",
      "\n",
      "\n"
     ]
    }
   ],
   "source": [
    "library(Hmisc)\n",
    "library(broom)"
   ]
  },
  {
   "cell_type": "markdown",
   "metadata": {},
   "source": [
    "# Functions"
   ]
  },
  {
   "cell_type": "code",
   "execution_count": 2,
   "metadata": {},
   "outputs": [],
   "source": [
    "source(\"~/OneDrive - UHN/R_src/Immune_diversity.R\")\n",
    "source(\"~/OneDrive - UHN/R_src/ggplot2_theme.R\")"
   ]
  },
  {
   "cell_type": "markdown",
   "metadata": {},
   "source": [
    "# Paths"
   ]
  },
  {
   "cell_type": "code",
   "execution_count": 3,
   "metadata": {},
   "outputs": [],
   "source": [
    "manifestpath <- \"/Users/anabbi/OneDrive - UHN/Documents/IPD2/Manifests/\"\n",
    "datapath <- \"/Users/anabbi/OneDrive - UHN/Documents/IPD2/Data/\"\n",
    "plotpath <- \"/Users/anabbi/OneDrive - UHN/Documents/IPD2/Plots/\""
   ]
  },
  {
   "cell_type": "code",
   "execution_count": 4,
   "metadata": {},
   "outputs": [],
   "source": [
    "mordpath <- \"/Users/anabbi/Desktop/Sam/immpedcan/mixcr/PROFYLE/RNAseq/\"\n",
    "h4hpath <- \"/Users/anabbi/Desktop/H4H/immpedcan/PROFYLE/mixcr/\""
   ]
  },
  {
   "cell_type": "markdown",
   "metadata": {},
   "source": [
    "# Main"
   ]
  },
  {
   "cell_type": "markdown",
   "metadata": {},
   "source": [
    "# PROFYLE"
   ]
  },
  {
   "cell_type": "markdown",
   "metadata": {},
   "source": [
    "## RNA"
   ]
  },
  {
   "cell_type": "code",
   "execution_count": 13,
   "metadata": {},
   "outputs": [],
   "source": [
    "profyle_rna <- list.files(mordpath, pattern = \"CLONES_TRB\", recursive = T)"
   ]
  },
  {
   "cell_type": "code",
   "execution_count": 15,
   "metadata": {},
   "outputs": [],
   "source": [
    "trb_list_profyle_rna <- immunelistfx(profyle_rna, mordpath, \"TRB\")"
   ]
  },
  {
   "cell_type": "code",
   "execution_count": 16,
   "metadata": {},
   "outputs": [
    {
     "data": {
      "text/html": [
       "6"
      ],
      "text/latex": [
       "6"
      ],
      "text/markdown": [
       "6"
      ],
      "text/plain": [
       "[1] 6"
      ]
     },
     "metadata": {},
     "output_type": "display_data"
    }
   ],
   "source": [
    "trb_list_profyle_rna <- trb_list_profyle_rna[sapply(trb_list_profyle_rna, function(x) length(unlist(x))) > 1] # remove files with one clonotype\n",
    "                            \n",
    "length(trb_list_profyle_rna)"
   ]
  },
  {
   "cell_type": "code",
   "execution_count": 17,
   "metadata": {},
   "outputs": [],
   "source": [
    "trb_list_profyle_rna <- trb_list_profyle_rna[sapply(trb_list_profyle_rna, function(x) var(unlist(x))) > 0] # remove files no variance                        "
   ]
  },
  {
   "cell_type": "code",
   "execution_count": 18,
   "metadata": {},
   "outputs": [
    {
     "data": {
      "text/html": [
       "4"
      ],
      "text/latex": [
       "4"
      ],
      "text/markdown": [
       "4"
      ],
      "text/plain": [
       "[1] 4"
      ]
     },
     "metadata": {},
     "output_type": "display_data"
    }
   ],
   "source": [
    "length(trb_list_profyle_rna)"
   ]
  },
  {
   "cell_type": "code",
   "execution_count": 19,
   "metadata": {},
   "outputs": [],
   "source": [
    "div_trb_profyle_rna <- Divstats.fx(trb_list_profyle_rna, \"TRB\")"
   ]
  },
  {
   "cell_type": "code",
   "execution_count": 20,
   "metadata": {},
   "outputs": [
    {
     "data": {
      "text/html": [
       "<table class=\"dataframe\">\n",
       "<caption>A matrix: 4 × 19 of type dbl</caption>\n",
       "<thead>\n",
       "\t<tr><th></th><th scope=col>TRB</th><th scope=col>Reads</th><th scope=col>CPKR</th><th scope=col>Average_reads</th><th scope=col>VMR</th><th scope=col>Max_reads</th><th scope=col>Singletons</th><th scope=col>Doubletons</th><th scope=col>qD</th><th scope=col>Sample_Coverage</th><th scope=col>observed_Richness</th><th scope=col>estimated_Richness</th><th scope=col>SE_Richeness</th><th scope=col>observed_Shannon</th><th scope=col>estimated_Shannon</th><th scope=col>SE_Shannon</th><th scope=col>observed_Simpson</th><th scope=col>estimated_Simpson</th><th scope=col>SE_Simpson</th></tr>\n",
       "</thead>\n",
       "<tbody>\n",
       "\t<tr><th scope=row>clones/CLONES_TRB_PRO-00012N_R_totalRNA_chondrosarcoma_40055.txt</th><td>  47</td><td>  72</td><td>652.7778</td><td>1.531915</td><td>1.5390531</td><td>17</td><td>  39</td><td>  5</td><td>  81.288</td><td>0.584</td><td>  47</td><td> 196.988</td><td> 83.406</td><td>  30.566</td><td>  89.916</td><td> 28.789</td><td>  14.164</td><td>  17.388</td><td>  6.927</td></tr>\n",
       "\t<tr><th scope=row>clones/CLONES_TRB_PRO-00013P_R_totalRNA_osteosarcoma_40063.txt</th><td>   3</td><td>  13</td><td>230.7692</td><td>4.333333</td><td>1.1383576</td><td>10</td><td>   1</td><td>  1</td><td>   3.399</td><td>0.991</td><td>   3</td><td>   3.462</td><td>  1.236</td><td>   1.988</td><td>   2.225</td><td>  0.646</td><td>   1.610</td><td>   1.696</td><td>  0.504</td></tr>\n",
       "\t<tr><th scope=row>clones/CLONES_TRB_PRO-00015S_R_totalRNA_sarcoma_40065.txt</th><td>  15</td><td>  17</td><td>882.3529</td><td>1.133333</td><td>0.4556451</td><td> 3</td><td>  14</td><td>  0</td><td>  27.859</td><td>0.307</td><td>  15</td><td> 100.647</td><td> 47.553</td><td>  14.004</td><td>  88.167</td><td> 38.124</td><td>  12.565</td><td>  12.565</td><td> 36.911</td></tr>\n",
       "\t<tr><th scope=row>clones/CLONES_TRB_PRO-00019W_R_totalRNA_Thymus_40073.txt</th><td>1215</td><td>1421</td><td>855.0317</td><td>1.169547</td><td>0.3615564</td><td> 4</td><td>1030</td><td>166</td><td>2095.307</td><td>0.475</td><td>1215</td><td>4408.233</td><td>322.829</td><td>1152.785</td><td>4409.446</td><td>208.632</td><td>1074.636</td><td>4405.721</td><td>195.507</td></tr>\n",
       "</tbody>\n",
       "</table>\n"
      ],
      "text/latex": [
       "A matrix: 4 × 19 of type dbl\n",
       "\\begin{tabular}{r|lllllllllllllllllll}\n",
       "  & TRB & Reads & CPKR & Average\\_reads & VMR & Max\\_reads & Singletons & Doubletons & qD & Sample\\_Coverage & observed\\_Richness & estimated\\_Richness & SE\\_Richeness & observed\\_Shannon & estimated\\_Shannon & SE\\_Shannon & observed\\_Simpson & estimated\\_Simpson & SE\\_Simpson\\\\\n",
       "\\hline\n",
       "\tclones/CLONES\\_TRB\\_PRO-00012N\\_R\\_totalRNA\\_chondrosarcoma\\_40055.txt &   47 &   72 & 652.7778 & 1.531915 & 1.5390531 & 17 &   39 &   5 &   81.288 & 0.584 &   47 &  196.988 &  83.406 &   30.566 &   89.916 &  28.789 &   14.164 &   17.388 &   6.927\\\\\n",
       "\tclones/CLONES\\_TRB\\_PRO-00013P\\_R\\_totalRNA\\_osteosarcoma\\_40063.txt &    3 &   13 & 230.7692 & 4.333333 & 1.1383576 & 10 &    1 &   1 &    3.399 & 0.991 &    3 &    3.462 &   1.236 &    1.988 &    2.225 &   0.646 &    1.610 &    1.696 &   0.504\\\\\n",
       "\tclones/CLONES\\_TRB\\_PRO-00015S\\_R\\_totalRNA\\_sarcoma\\_40065.txt &   15 &   17 & 882.3529 & 1.133333 & 0.4556451 &  3 &   14 &   0 &   27.859 & 0.307 &   15 &  100.647 &  47.553 &   14.004 &   88.167 &  38.124 &   12.565 &   12.565 &  36.911\\\\\n",
       "\tclones/CLONES\\_TRB\\_PRO-00019W\\_R\\_totalRNA\\_Thymus\\_40073.txt & 1215 & 1421 & 855.0317 & 1.169547 & 0.3615564 &  4 & 1030 & 166 & 2095.307 & 0.475 & 1215 & 4408.233 & 322.829 & 1152.785 & 4409.446 & 208.632 & 1074.636 & 4405.721 & 195.507\\\\\n",
       "\\end{tabular}\n"
      ],
      "text/markdown": [
       "\n",
       "A matrix: 4 × 19 of type dbl\n",
       "\n",
       "| <!--/--> | TRB | Reads | CPKR | Average_reads | VMR | Max_reads | Singletons | Doubletons | qD | Sample_Coverage | observed_Richness | estimated_Richness | SE_Richeness | observed_Shannon | estimated_Shannon | SE_Shannon | observed_Simpson | estimated_Simpson | SE_Simpson |\n",
       "|---|---|---|---|---|---|---|---|---|---|---|---|---|---|---|---|---|---|---|---|\n",
       "| clones/CLONES_TRB_PRO-00012N_R_totalRNA_chondrosarcoma_40055.txt |   47 |   72 | 652.7778 | 1.531915 | 1.5390531 | 17 |   39 |   5 |   81.288 | 0.584 |   47 |  196.988 |  83.406 |   30.566 |   89.916 |  28.789 |   14.164 |   17.388 |   6.927 |\n",
       "| clones/CLONES_TRB_PRO-00013P_R_totalRNA_osteosarcoma_40063.txt |    3 |   13 | 230.7692 | 4.333333 | 1.1383576 | 10 |    1 |   1 |    3.399 | 0.991 |    3 |    3.462 |   1.236 |    1.988 |    2.225 |   0.646 |    1.610 |    1.696 |   0.504 |\n",
       "| clones/CLONES_TRB_PRO-00015S_R_totalRNA_sarcoma_40065.txt |   15 |   17 | 882.3529 | 1.133333 | 0.4556451 |  3 |   14 |   0 |   27.859 | 0.307 |   15 |  100.647 |  47.553 |   14.004 |   88.167 |  38.124 |   12.565 |   12.565 |  36.911 |\n",
       "| clones/CLONES_TRB_PRO-00019W_R_totalRNA_Thymus_40073.txt | 1215 | 1421 | 855.0317 | 1.169547 | 0.3615564 |  4 | 1030 | 166 | 2095.307 | 0.475 | 1215 | 4408.233 | 322.829 | 1152.785 | 4409.446 | 208.632 | 1074.636 | 4405.721 | 195.507 |\n",
       "\n"
      ],
      "text/plain": [
       "                                                                 TRB  Reads\n",
       "clones/CLONES_TRB_PRO-00012N_R_totalRNA_chondrosarcoma_40055.txt   47   72 \n",
       "clones/CLONES_TRB_PRO-00013P_R_totalRNA_osteosarcoma_40063.txt      3   13 \n",
       "clones/CLONES_TRB_PRO-00015S_R_totalRNA_sarcoma_40065.txt          15   17 \n",
       "clones/CLONES_TRB_PRO-00019W_R_totalRNA_Thymus_40073.txt         1215 1421 \n",
       "                                                                 CPKR    \n",
       "clones/CLONES_TRB_PRO-00012N_R_totalRNA_chondrosarcoma_40055.txt 652.7778\n",
       "clones/CLONES_TRB_PRO-00013P_R_totalRNA_osteosarcoma_40063.txt   230.7692\n",
       "clones/CLONES_TRB_PRO-00015S_R_totalRNA_sarcoma_40065.txt        882.3529\n",
       "clones/CLONES_TRB_PRO-00019W_R_totalRNA_Thymus_40073.txt         855.0317\n",
       "                                                                 Average_reads\n",
       "clones/CLONES_TRB_PRO-00012N_R_totalRNA_chondrosarcoma_40055.txt 1.531915     \n",
       "clones/CLONES_TRB_PRO-00013P_R_totalRNA_osteosarcoma_40063.txt   4.333333     \n",
       "clones/CLONES_TRB_PRO-00015S_R_totalRNA_sarcoma_40065.txt        1.133333     \n",
       "clones/CLONES_TRB_PRO-00019W_R_totalRNA_Thymus_40073.txt         1.169547     \n",
       "                                                                 VMR      \n",
       "clones/CLONES_TRB_PRO-00012N_R_totalRNA_chondrosarcoma_40055.txt 1.5390531\n",
       "clones/CLONES_TRB_PRO-00013P_R_totalRNA_osteosarcoma_40063.txt   1.1383576\n",
       "clones/CLONES_TRB_PRO-00015S_R_totalRNA_sarcoma_40065.txt        0.4556451\n",
       "clones/CLONES_TRB_PRO-00019W_R_totalRNA_Thymus_40073.txt         0.3615564\n",
       "                                                                 Max_reads\n",
       "clones/CLONES_TRB_PRO-00012N_R_totalRNA_chondrosarcoma_40055.txt 17       \n",
       "clones/CLONES_TRB_PRO-00013P_R_totalRNA_osteosarcoma_40063.txt   10       \n",
       "clones/CLONES_TRB_PRO-00015S_R_totalRNA_sarcoma_40065.txt         3       \n",
       "clones/CLONES_TRB_PRO-00019W_R_totalRNA_Thymus_40073.txt          4       \n",
       "                                                                 Singletons\n",
       "clones/CLONES_TRB_PRO-00012N_R_totalRNA_chondrosarcoma_40055.txt   39      \n",
       "clones/CLONES_TRB_PRO-00013P_R_totalRNA_osteosarcoma_40063.txt      1      \n",
       "clones/CLONES_TRB_PRO-00015S_R_totalRNA_sarcoma_40065.txt          14      \n",
       "clones/CLONES_TRB_PRO-00019W_R_totalRNA_Thymus_40073.txt         1030      \n",
       "                                                                 Doubletons\n",
       "clones/CLONES_TRB_PRO-00012N_R_totalRNA_chondrosarcoma_40055.txt   5       \n",
       "clones/CLONES_TRB_PRO-00013P_R_totalRNA_osteosarcoma_40063.txt     1       \n",
       "clones/CLONES_TRB_PRO-00015S_R_totalRNA_sarcoma_40065.txt          0       \n",
       "clones/CLONES_TRB_PRO-00019W_R_totalRNA_Thymus_40073.txt         166       \n",
       "                                                                 qD      \n",
       "clones/CLONES_TRB_PRO-00012N_R_totalRNA_chondrosarcoma_40055.txt   81.288\n",
       "clones/CLONES_TRB_PRO-00013P_R_totalRNA_osteosarcoma_40063.txt      3.399\n",
       "clones/CLONES_TRB_PRO-00015S_R_totalRNA_sarcoma_40065.txt          27.859\n",
       "clones/CLONES_TRB_PRO-00019W_R_totalRNA_Thymus_40073.txt         2095.307\n",
       "                                                                 Sample_Coverage\n",
       "clones/CLONES_TRB_PRO-00012N_R_totalRNA_chondrosarcoma_40055.txt 0.584          \n",
       "clones/CLONES_TRB_PRO-00013P_R_totalRNA_osteosarcoma_40063.txt   0.991          \n",
       "clones/CLONES_TRB_PRO-00015S_R_totalRNA_sarcoma_40065.txt        0.307          \n",
       "clones/CLONES_TRB_PRO-00019W_R_totalRNA_Thymus_40073.txt         0.475          \n",
       "                                                                 observed_Richness\n",
       "clones/CLONES_TRB_PRO-00012N_R_totalRNA_chondrosarcoma_40055.txt   47             \n",
       "clones/CLONES_TRB_PRO-00013P_R_totalRNA_osteosarcoma_40063.txt      3             \n",
       "clones/CLONES_TRB_PRO-00015S_R_totalRNA_sarcoma_40065.txt          15             \n",
       "clones/CLONES_TRB_PRO-00019W_R_totalRNA_Thymus_40073.txt         1215             \n",
       "                                                                 estimated_Richness\n",
       "clones/CLONES_TRB_PRO-00012N_R_totalRNA_chondrosarcoma_40055.txt  196.988          \n",
       "clones/CLONES_TRB_PRO-00013P_R_totalRNA_osteosarcoma_40063.txt      3.462          \n",
       "clones/CLONES_TRB_PRO-00015S_R_totalRNA_sarcoma_40065.txt         100.647          \n",
       "clones/CLONES_TRB_PRO-00019W_R_totalRNA_Thymus_40073.txt         4408.233          \n",
       "                                                                 SE_Richeness\n",
       "clones/CLONES_TRB_PRO-00012N_R_totalRNA_chondrosarcoma_40055.txt  83.406     \n",
       "clones/CLONES_TRB_PRO-00013P_R_totalRNA_osteosarcoma_40063.txt     1.236     \n",
       "clones/CLONES_TRB_PRO-00015S_R_totalRNA_sarcoma_40065.txt         47.553     \n",
       "clones/CLONES_TRB_PRO-00019W_R_totalRNA_Thymus_40073.txt         322.829     \n",
       "                                                                 observed_Shannon\n",
       "clones/CLONES_TRB_PRO-00012N_R_totalRNA_chondrosarcoma_40055.txt   30.566        \n",
       "clones/CLONES_TRB_PRO-00013P_R_totalRNA_osteosarcoma_40063.txt      1.988        \n",
       "clones/CLONES_TRB_PRO-00015S_R_totalRNA_sarcoma_40065.txt          14.004        \n",
       "clones/CLONES_TRB_PRO-00019W_R_totalRNA_Thymus_40073.txt         1152.785        \n",
       "                                                                 estimated_Shannon\n",
       "clones/CLONES_TRB_PRO-00012N_R_totalRNA_chondrosarcoma_40055.txt   89.916         \n",
       "clones/CLONES_TRB_PRO-00013P_R_totalRNA_osteosarcoma_40063.txt      2.225         \n",
       "clones/CLONES_TRB_PRO-00015S_R_totalRNA_sarcoma_40065.txt          88.167         \n",
       "clones/CLONES_TRB_PRO-00019W_R_totalRNA_Thymus_40073.txt         4409.446         \n",
       "                                                                 SE_Shannon\n",
       "clones/CLONES_TRB_PRO-00012N_R_totalRNA_chondrosarcoma_40055.txt  28.789   \n",
       "clones/CLONES_TRB_PRO-00013P_R_totalRNA_osteosarcoma_40063.txt     0.646   \n",
       "clones/CLONES_TRB_PRO-00015S_R_totalRNA_sarcoma_40065.txt         38.124   \n",
       "clones/CLONES_TRB_PRO-00019W_R_totalRNA_Thymus_40073.txt         208.632   \n",
       "                                                                 observed_Simpson\n",
       "clones/CLONES_TRB_PRO-00012N_R_totalRNA_chondrosarcoma_40055.txt   14.164        \n",
       "clones/CLONES_TRB_PRO-00013P_R_totalRNA_osteosarcoma_40063.txt      1.610        \n",
       "clones/CLONES_TRB_PRO-00015S_R_totalRNA_sarcoma_40065.txt          12.565        \n",
       "clones/CLONES_TRB_PRO-00019W_R_totalRNA_Thymus_40073.txt         1074.636        \n",
       "                                                                 estimated_Simpson\n",
       "clones/CLONES_TRB_PRO-00012N_R_totalRNA_chondrosarcoma_40055.txt   17.388         \n",
       "clones/CLONES_TRB_PRO-00013P_R_totalRNA_osteosarcoma_40063.txt      1.696         \n",
       "clones/CLONES_TRB_PRO-00015S_R_totalRNA_sarcoma_40065.txt          12.565         \n",
       "clones/CLONES_TRB_PRO-00019W_R_totalRNA_Thymus_40073.txt         4405.721         \n",
       "                                                                 SE_Simpson\n",
       "clones/CLONES_TRB_PRO-00012N_R_totalRNA_chondrosarcoma_40055.txt   6.927   \n",
       "clones/CLONES_TRB_PRO-00013P_R_totalRNA_osteosarcoma_40063.txt     0.504   \n",
       "clones/CLONES_TRB_PRO-00015S_R_totalRNA_sarcoma_40065.txt         36.911   \n",
       "clones/CLONES_TRB_PRO-00019W_R_totalRNA_Thymus_40073.txt         195.507   "
      ]
     },
     "metadata": {},
     "output_type": "display_data"
    }
   ],
   "source": [
    "div_trb_profyle_rna"
   ]
  },
  {
   "cell_type": "code",
   "execution_count": 21,
   "metadata": {},
   "outputs": [],
   "source": [
    "save(div_trb_profyle_rna, file = paste0(datapath, \"diversity/div_trb_profyle_rna.RData\"))"
   ]
  },
  {
   "cell_type": "code",
   "execution_count": 22,
   "metadata": {},
   "outputs": [],
   "source": [
    "div_trb_profyle_rna <- as.data.frame(div_trb_profyle_rna)"
   ]
  },
  {
   "cell_type": "code",
   "execution_count": 23,
   "metadata": {},
   "outputs": [],
   "source": [
    "div_trb_profyle_rna$sample_id <- gsub(\".*TRB_\", \"\", rownames(div_trb_profyle_rna))\n",
    "\n",
    "div_trb_profyle_rna$sample_id <- gsub(\"_R_.*\", \"\", div_trb_profyle_rna$sample_id)"
   ]
  },
  {
   "cell_type": "code",
   "execution_count": 24,
   "metadata": {},
   "outputs": [
    {
     "data": {
      "text/html": [
       "<style>\n",
       ".list-inline {list-style: none; margin:0; padding: 0}\n",
       ".list-inline>li {display: inline-block}\n",
       ".list-inline>li:not(:last-child)::after {content: \"\\00b7\"; padding: 0 .5ex}\n",
       "</style>\n",
       "<ol class=list-inline><li>'PRO-00012N'</li><li>'PRO-00013P'</li><li>'PRO-00015S'</li><li>'PRO-00019W'</li></ol>\n"
      ],
      "text/latex": [
       "\\begin{enumerate*}\n",
       "\\item 'PRO-00012N'\n",
       "\\item 'PRO-00013P'\n",
       "\\item 'PRO-00015S'\n",
       "\\item 'PRO-00019W'\n",
       "\\end{enumerate*}\n"
      ],
      "text/markdown": [
       "1. 'PRO-00012N'\n",
       "2. 'PRO-00013P'\n",
       "3. 'PRO-00015S'\n",
       "4. 'PRO-00019W'\n",
       "\n",
       "\n"
      ],
      "text/plain": [
       "[1] \"PRO-00012N\" \"PRO-00013P\" \"PRO-00015S\" \"PRO-00019W\""
      ]
     },
     "metadata": {},
     "output_type": "display_data"
    }
   ],
   "source": [
    "div_trb_profyle_rna$sample_id"
   ]
  },
  {
   "cell_type": "markdown",
   "metadata": {},
   "source": [
    "## CapTCR-Seq"
   ]
  },
  {
   "cell_type": "code",
   "execution_count": 31,
   "metadata": {},
   "outputs": [],
   "source": [
    "profyle_cap <- list.files(h4hpath, pattern = \"CLONES_TRB\", recursive = T)"
   ]
  },
  {
   "cell_type": "code",
   "execution_count": 32,
   "metadata": {},
   "outputs": [
    {
     "data": {
      "text/html": [
       "<style>\n",
       ".list-inline {list-style: none; margin:0; padding: 0}\n",
       ".list-inline>li {display: inline-block}\n",
       ".list-inline>li:not(:last-child)::after {content: \"\\00b7\"; padding: 0 .5ex}\n",
       "</style>\n",
       "<ol class=list-inline><li>'clones/CLONES_TRBPRO-00012N.txt'</li><li>'clones/CLONES_TRBPRO-00013P.txt'</li><li>'clones/CLONES_TRBPRO-00015S.txt'</li><li>'clones/CLONES_TRBPRO-00023A.txt'</li><li>'clones/CLONES_TRBPRO-00027E.txt'</li><li>'clones/CLONES_TRBPRO-00032L.txt'</li><li>'clones/CLONES_TRBPRO-00033M.txt'</li><li>'clones/CLONES_TRBPRO-00035O.txt'</li><li>'clones/CLONES_TRBPRO-00039T.txt'</li><li>'clones/CLONES_TRBPRO-00042X.txt'</li><li>'clones/CLONES_TRBPRO-00043Z.txt'</li></ol>\n"
      ],
      "text/latex": [
       "\\begin{enumerate*}\n",
       "\\item 'clones/CLONES\\_TRBPRO-00012N.txt'\n",
       "\\item 'clones/CLONES\\_TRBPRO-00013P.txt'\n",
       "\\item 'clones/CLONES\\_TRBPRO-00015S.txt'\n",
       "\\item 'clones/CLONES\\_TRBPRO-00023A.txt'\n",
       "\\item 'clones/CLONES\\_TRBPRO-00027E.txt'\n",
       "\\item 'clones/CLONES\\_TRBPRO-00032L.txt'\n",
       "\\item 'clones/CLONES\\_TRBPRO-00033M.txt'\n",
       "\\item 'clones/CLONES\\_TRBPRO-00035O.txt'\n",
       "\\item 'clones/CLONES\\_TRBPRO-00039T.txt'\n",
       "\\item 'clones/CLONES\\_TRBPRO-00042X.txt'\n",
       "\\item 'clones/CLONES\\_TRBPRO-00043Z.txt'\n",
       "\\end{enumerate*}\n"
      ],
      "text/markdown": [
       "1. 'clones/CLONES_TRBPRO-00012N.txt'\n",
       "2. 'clones/CLONES_TRBPRO-00013P.txt'\n",
       "3. 'clones/CLONES_TRBPRO-00015S.txt'\n",
       "4. 'clones/CLONES_TRBPRO-00023A.txt'\n",
       "5. 'clones/CLONES_TRBPRO-00027E.txt'\n",
       "6. 'clones/CLONES_TRBPRO-00032L.txt'\n",
       "7. 'clones/CLONES_TRBPRO-00033M.txt'\n",
       "8. 'clones/CLONES_TRBPRO-00035O.txt'\n",
       "9. 'clones/CLONES_TRBPRO-00039T.txt'\n",
       "10. 'clones/CLONES_TRBPRO-00042X.txt'\n",
       "11. 'clones/CLONES_TRBPRO-00043Z.txt'\n",
       "\n",
       "\n"
      ],
      "text/plain": [
       " [1] \"clones/CLONES_TRBPRO-00012N.txt\" \"clones/CLONES_TRBPRO-00013P.txt\"\n",
       " [3] \"clones/CLONES_TRBPRO-00015S.txt\" \"clones/CLONES_TRBPRO-00023A.txt\"\n",
       " [5] \"clones/CLONES_TRBPRO-00027E.txt\" \"clones/CLONES_TRBPRO-00032L.txt\"\n",
       " [7] \"clones/CLONES_TRBPRO-00033M.txt\" \"clones/CLONES_TRBPRO-00035O.txt\"\n",
       " [9] \"clones/CLONES_TRBPRO-00039T.txt\" \"clones/CLONES_TRBPRO-00042X.txt\"\n",
       "[11] \"clones/CLONES_TRBPRO-00043Z.txt\""
      ]
     },
     "metadata": {},
     "output_type": "display_data"
    }
   ],
   "source": [
    "profyle_cap"
   ]
  },
  {
   "cell_type": "code",
   "execution_count": 33,
   "metadata": {},
   "outputs": [],
   "source": [
    "trb_list_profyle_cap <- immunelistfx(profyle_cap, h4hpath, \"TRB\")"
   ]
  },
  {
   "cell_type": "code",
   "execution_count": 34,
   "metadata": {},
   "outputs": [
    {
     "data": {
      "text/html": [
       "11"
      ],
      "text/latex": [
       "11"
      ],
      "text/markdown": [
       "11"
      ],
      "text/plain": [
       "[1] 11"
      ]
     },
     "metadata": {},
     "output_type": "display_data"
    }
   ],
   "source": [
    "length(trb_list_profyle_cap)"
   ]
  },
  {
   "cell_type": "code",
   "execution_count": 35,
   "metadata": {},
   "outputs": [
    {
     "data": {
      "text/html": [
       "9"
      ],
      "text/latex": [
       "9"
      ],
      "text/markdown": [
       "9"
      ],
      "text/plain": [
       "[1] 9"
      ]
     },
     "metadata": {},
     "output_type": "display_data"
    }
   ],
   "source": [
    "trb_list_profyle_cap <- trb_list_profyle_cap[sapply(trb_list_profyle_cap, function(x) length(unlist(x))) > 1] # remove files with one clonotype\n",
    "                            \n",
    "length(trb_list_profyle_cap)"
   ]
  },
  {
   "cell_type": "code",
   "execution_count": 36,
   "metadata": {},
   "outputs": [],
   "source": [
    "trb_list_profyle_cap <- trb_list_profyle_cap[sapply(trb_list_profyle_cap, function(x) var(unlist(x))) > 0] # remove files no variance                        "
   ]
  },
  {
   "cell_type": "code",
   "execution_count": 37,
   "metadata": {},
   "outputs": [
    {
     "data": {
      "text/html": [
       "9"
      ],
      "text/latex": [
       "9"
      ],
      "text/markdown": [
       "9"
      ],
      "text/plain": [
       "[1] 9"
      ]
     },
     "metadata": {},
     "output_type": "display_data"
    }
   ],
   "source": [
    "length(trb_list_profyle_cap)"
   ]
  },
  {
   "cell_type": "code",
   "execution_count": 38,
   "metadata": {},
   "outputs": [],
   "source": [
    "div_trb_profyle_cap <- Divstats.fx(trb_list_profyle_cap, \"TRB\")"
   ]
  },
  {
   "cell_type": "code",
   "execution_count": 39,
   "metadata": {},
   "outputs": [
    {
     "data": {
      "text/html": [
       "<table class=\"dataframe\">\n",
       "<caption>A matrix: 9 × 19 of type dbl</caption>\n",
       "<thead>\n",
       "\t<tr><th></th><th scope=col>TRB</th><th scope=col>Reads</th><th scope=col>CPKR</th><th scope=col>Average_reads</th><th scope=col>VMR</th><th scope=col>Max_reads</th><th scope=col>Singletons</th><th scope=col>Doubletons</th><th scope=col>qD</th><th scope=col>Sample_Coverage</th><th scope=col>observed_Richness</th><th scope=col>estimated_Richness</th><th scope=col>SE_Richeness</th><th scope=col>observed_Shannon</th><th scope=col>estimated_Shannon</th><th scope=col>SE_Shannon</th><th scope=col>observed_Simpson</th><th scope=col>estimated_Simpson</th><th scope=col>SE_Simpson</th></tr>\n",
       "</thead>\n",
       "<tbody>\n",
       "\t<tr><th scope=row>clones/CLONES_TRBPRO-00012N.txt</th><td>1152</td><td>7575348</td><td>0.15207222</td><td> 6575.823</td><td>8.276624</td><td>1510148</td><td>358</td><td>114</td><td>1416.791</td><td>1</td><td>1152</td><td>1714.123</td><td>82.852</td><td>53.468</td><td>53.475</td><td>0.037</td><td>16.589</td><td>16.589</td><td>0.015</td></tr>\n",
       "\t<tr><th scope=row>clones/CLONES_TRBPRO-00013P.txt</th><td>   5</td><td>  19533</td><td>0.25597706</td><td> 3906.600</td><td>2.085137</td><td>  18468</td><td>  0</td><td>  0</td><td>   5.000</td><td>1</td><td>   5</td><td>   5.000</td><td> 0.218</td><td> 1.285</td><td> 1.285</td><td>0.007</td><td> 1.117</td><td> 1.117</td><td>0.003</td></tr>\n",
       "\t<tr><th scope=row>clones/CLONES_TRBPRO-00015S.txt</th><td> 536</td><td>1023792</td><td>0.52354384</td><td> 1910.060</td><td>4.539396</td><td> 116823</td><td> 82</td><td> 19</td><td> 601.624</td><td>1</td><td> 536</td><td> 712.947</td><td>57.898</td><td>63.787</td><td>63.809</td><td>0.102</td><td>24.852</td><td>24.853</td><td>0.052</td></tr>\n",
       "\t<tr><th scope=row>clones/CLONES_TRBPRO-00023A.txt</th><td> 102</td><td> 483655</td><td>0.21089413</td><td> 4741.716</td><td>2.318769</td><td>  92653</td><td> 29</td><td>  8</td><td> 124.289</td><td>1</td><td> 102</td><td> 154.562</td><td>27.910</td><td>28.426</td><td>28.430</td><td>0.043</td><td>16.129</td><td>16.130</td><td>0.051</td></tr>\n",
       "\t<tr><th scope=row>clones/CLONES_TRBPRO-00033M.txt</th><td>  24</td><td> 118734</td><td>0.20213250</td><td> 4947.250</td><td>1.925753</td><td>  31359</td><td>  7</td><td>  4</td><td>  28.172</td><td>1</td><td>  24</td><td>  30.125</td><td> 6.078</td><td> 5.986</td><td> 5.987</td><td>0.012</td><td> 5.270</td><td> 5.270</td><td>0.010</td></tr>\n",
       "\t<tr><th scope=row>clones/CLONES_TRBPRO-00035O.txt</th><td>   6</td><td>  66679</td><td>0.08998335</td><td>11113.167</td><td>2.445568</td><td>  66590</td><td>  3</td><td>  1</td><td>   8.190</td><td>1</td><td>   6</td><td>  10.500</td><td> 7.194</td><td> 1.011</td><td> 1.011</td><td>0.001</td><td> 1.003</td><td> 1.003</td><td>0.000</td></tr>\n",
       "\t<tr><th scope=row>clones/CLONES_TRBPRO-00039T.txt</th><td>  24</td><td> 386262</td><td>0.06213399</td><td>16094.250</td><td>2.764918</td><td> 214789</td><td>  3</td><td>  3</td><td>  25.297</td><td>1</td><td>  24</td><td>  25.500</td><td> 2.291</td><td> 4.517</td><td> 4.517</td><td>0.009</td><td> 2.882</td><td> 2.882</td><td>0.006</td></tr>\n",
       "\t<tr><th scope=row>clones/CLONES_TRBPRO-00042X.txt</th><td>   2</td><td>   4590</td><td>0.43572985</td><td> 2295.000</td><td>1.412981</td><td>   4588</td><td>  0</td><td>  1</td><td>   2.000</td><td>1</td><td>   2</td><td>   2.000</td><td> 0.342</td><td> 1.004</td><td> 1.004</td><td>0.002</td><td> 1.001</td><td> 1.001</td><td>0.001</td></tr>\n",
       "\t<tr><th scope=row>clones/CLONES_TRBPRO-00043Z.txt</th><td>  98</td><td> 267465</td><td>0.36640308</td><td> 2729.235</td><td>6.324232</td><td> 162838</td><td> 25</td><td> 10</td><td> 115.208</td><td>1</td><td>  98</td><td> 129.250</td><td>16.887</td><td> 3.324</td><td> 3.325</td><td>0.007</td><td> 2.415</td><td> 2.415</td><td>0.006</td></tr>\n",
       "</tbody>\n",
       "</table>\n"
      ],
      "text/latex": [
       "A matrix: 9 × 19 of type dbl\n",
       "\\begin{tabular}{r|lllllllllllllllllll}\n",
       "  & TRB & Reads & CPKR & Average\\_reads & VMR & Max\\_reads & Singletons & Doubletons & qD & Sample\\_Coverage & observed\\_Richness & estimated\\_Richness & SE\\_Richeness & observed\\_Shannon & estimated\\_Shannon & SE\\_Shannon & observed\\_Simpson & estimated\\_Simpson & SE\\_Simpson\\\\\n",
       "\\hline\n",
       "\tclones/CLONES\\_TRBPRO-00012N.txt & 1152 & 7575348 & 0.15207222 &  6575.823 & 8.276624 & 1510148 & 358 & 114 & 1416.791 & 1 & 1152 & 1714.123 & 82.852 & 53.468 & 53.475 & 0.037 & 16.589 & 16.589 & 0.015\\\\\n",
       "\tclones/CLONES\\_TRBPRO-00013P.txt &    5 &   19533 & 0.25597706 &  3906.600 & 2.085137 &   18468 &   0 &   0 &    5.000 & 1 &    5 &    5.000 &  0.218 &  1.285 &  1.285 & 0.007 &  1.117 &  1.117 & 0.003\\\\\n",
       "\tclones/CLONES\\_TRBPRO-00015S.txt &  536 & 1023792 & 0.52354384 &  1910.060 & 4.539396 &  116823 &  82 &  19 &  601.624 & 1 &  536 &  712.947 & 57.898 & 63.787 & 63.809 & 0.102 & 24.852 & 24.853 & 0.052\\\\\n",
       "\tclones/CLONES\\_TRBPRO-00023A.txt &  102 &  483655 & 0.21089413 &  4741.716 & 2.318769 &   92653 &  29 &   8 &  124.289 & 1 &  102 &  154.562 & 27.910 & 28.426 & 28.430 & 0.043 & 16.129 & 16.130 & 0.051\\\\\n",
       "\tclones/CLONES\\_TRBPRO-00033M.txt &   24 &  118734 & 0.20213250 &  4947.250 & 1.925753 &   31359 &   7 &   4 &   28.172 & 1 &   24 &   30.125 &  6.078 &  5.986 &  5.987 & 0.012 &  5.270 &  5.270 & 0.010\\\\\n",
       "\tclones/CLONES\\_TRBPRO-00035O.txt &    6 &   66679 & 0.08998335 & 11113.167 & 2.445568 &   66590 &   3 &   1 &    8.190 & 1 &    6 &   10.500 &  7.194 &  1.011 &  1.011 & 0.001 &  1.003 &  1.003 & 0.000\\\\\n",
       "\tclones/CLONES\\_TRBPRO-00039T.txt &   24 &  386262 & 0.06213399 & 16094.250 & 2.764918 &  214789 &   3 &   3 &   25.297 & 1 &   24 &   25.500 &  2.291 &  4.517 &  4.517 & 0.009 &  2.882 &  2.882 & 0.006\\\\\n",
       "\tclones/CLONES\\_TRBPRO-00042X.txt &    2 &    4590 & 0.43572985 &  2295.000 & 1.412981 &    4588 &   0 &   1 &    2.000 & 1 &    2 &    2.000 &  0.342 &  1.004 &  1.004 & 0.002 &  1.001 &  1.001 & 0.001\\\\\n",
       "\tclones/CLONES\\_TRBPRO-00043Z.txt &   98 &  267465 & 0.36640308 &  2729.235 & 6.324232 &  162838 &  25 &  10 &  115.208 & 1 &   98 &  129.250 & 16.887 &  3.324 &  3.325 & 0.007 &  2.415 &  2.415 & 0.006\\\\\n",
       "\\end{tabular}\n"
      ],
      "text/markdown": [
       "\n",
       "A matrix: 9 × 19 of type dbl\n",
       "\n",
       "| <!--/--> | TRB | Reads | CPKR | Average_reads | VMR | Max_reads | Singletons | Doubletons | qD | Sample_Coverage | observed_Richness | estimated_Richness | SE_Richeness | observed_Shannon | estimated_Shannon | SE_Shannon | observed_Simpson | estimated_Simpson | SE_Simpson |\n",
       "|---|---|---|---|---|---|---|---|---|---|---|---|---|---|---|---|---|---|---|---|\n",
       "| clones/CLONES_TRBPRO-00012N.txt | 1152 | 7575348 | 0.15207222 |  6575.823 | 8.276624 | 1510148 | 358 | 114 | 1416.791 | 1 | 1152 | 1714.123 | 82.852 | 53.468 | 53.475 | 0.037 | 16.589 | 16.589 | 0.015 |\n",
       "| clones/CLONES_TRBPRO-00013P.txt |    5 |   19533 | 0.25597706 |  3906.600 | 2.085137 |   18468 |   0 |   0 |    5.000 | 1 |    5 |    5.000 |  0.218 |  1.285 |  1.285 | 0.007 |  1.117 |  1.117 | 0.003 |\n",
       "| clones/CLONES_TRBPRO-00015S.txt |  536 | 1023792 | 0.52354384 |  1910.060 | 4.539396 |  116823 |  82 |  19 |  601.624 | 1 |  536 |  712.947 | 57.898 | 63.787 | 63.809 | 0.102 | 24.852 | 24.853 | 0.052 |\n",
       "| clones/CLONES_TRBPRO-00023A.txt |  102 |  483655 | 0.21089413 |  4741.716 | 2.318769 |   92653 |  29 |   8 |  124.289 | 1 |  102 |  154.562 | 27.910 | 28.426 | 28.430 | 0.043 | 16.129 | 16.130 | 0.051 |\n",
       "| clones/CLONES_TRBPRO-00033M.txt |   24 |  118734 | 0.20213250 |  4947.250 | 1.925753 |   31359 |   7 |   4 |   28.172 | 1 |   24 |   30.125 |  6.078 |  5.986 |  5.987 | 0.012 |  5.270 |  5.270 | 0.010 |\n",
       "| clones/CLONES_TRBPRO-00035O.txt |    6 |   66679 | 0.08998335 | 11113.167 | 2.445568 |   66590 |   3 |   1 |    8.190 | 1 |    6 |   10.500 |  7.194 |  1.011 |  1.011 | 0.001 |  1.003 |  1.003 | 0.000 |\n",
       "| clones/CLONES_TRBPRO-00039T.txt |   24 |  386262 | 0.06213399 | 16094.250 | 2.764918 |  214789 |   3 |   3 |   25.297 | 1 |   24 |   25.500 |  2.291 |  4.517 |  4.517 | 0.009 |  2.882 |  2.882 | 0.006 |\n",
       "| clones/CLONES_TRBPRO-00042X.txt |    2 |    4590 | 0.43572985 |  2295.000 | 1.412981 |    4588 |   0 |   1 |    2.000 | 1 |    2 |    2.000 |  0.342 |  1.004 |  1.004 | 0.002 |  1.001 |  1.001 | 0.001 |\n",
       "| clones/CLONES_TRBPRO-00043Z.txt |   98 |  267465 | 0.36640308 |  2729.235 | 6.324232 |  162838 |  25 |  10 |  115.208 | 1 |   98 |  129.250 | 16.887 |  3.324 |  3.325 | 0.007 |  2.415 |  2.415 | 0.006 |\n",
       "\n"
      ],
      "text/plain": [
       "                                TRB  Reads   CPKR       Average_reads VMR     \n",
       "clones/CLONES_TRBPRO-00012N.txt 1152 7575348 0.15207222  6575.823     8.276624\n",
       "clones/CLONES_TRBPRO-00013P.txt    5   19533 0.25597706  3906.600     2.085137\n",
       "clones/CLONES_TRBPRO-00015S.txt  536 1023792 0.52354384  1910.060     4.539396\n",
       "clones/CLONES_TRBPRO-00023A.txt  102  483655 0.21089413  4741.716     2.318769\n",
       "clones/CLONES_TRBPRO-00033M.txt   24  118734 0.20213250  4947.250     1.925753\n",
       "clones/CLONES_TRBPRO-00035O.txt    6   66679 0.08998335 11113.167     2.445568\n",
       "clones/CLONES_TRBPRO-00039T.txt   24  386262 0.06213399 16094.250     2.764918\n",
       "clones/CLONES_TRBPRO-00042X.txt    2    4590 0.43572985  2295.000     1.412981\n",
       "clones/CLONES_TRBPRO-00043Z.txt   98  267465 0.36640308  2729.235     6.324232\n",
       "                                Max_reads Singletons Doubletons qD      \n",
       "clones/CLONES_TRBPRO-00012N.txt 1510148   358        114        1416.791\n",
       "clones/CLONES_TRBPRO-00013P.txt   18468     0          0           5.000\n",
       "clones/CLONES_TRBPRO-00015S.txt  116823    82         19         601.624\n",
       "clones/CLONES_TRBPRO-00023A.txt   92653    29          8         124.289\n",
       "clones/CLONES_TRBPRO-00033M.txt   31359     7          4          28.172\n",
       "clones/CLONES_TRBPRO-00035O.txt   66590     3          1           8.190\n",
       "clones/CLONES_TRBPRO-00039T.txt  214789     3          3          25.297\n",
       "clones/CLONES_TRBPRO-00042X.txt    4588     0          1           2.000\n",
       "clones/CLONES_TRBPRO-00043Z.txt  162838    25         10         115.208\n",
       "                                Sample_Coverage observed_Richness\n",
       "clones/CLONES_TRBPRO-00012N.txt 1               1152             \n",
       "clones/CLONES_TRBPRO-00013P.txt 1                  5             \n",
       "clones/CLONES_TRBPRO-00015S.txt 1                536             \n",
       "clones/CLONES_TRBPRO-00023A.txt 1                102             \n",
       "clones/CLONES_TRBPRO-00033M.txt 1                 24             \n",
       "clones/CLONES_TRBPRO-00035O.txt 1                  6             \n",
       "clones/CLONES_TRBPRO-00039T.txt 1                 24             \n",
       "clones/CLONES_TRBPRO-00042X.txt 1                  2             \n",
       "clones/CLONES_TRBPRO-00043Z.txt 1                 98             \n",
       "                                estimated_Richness SE_Richeness\n",
       "clones/CLONES_TRBPRO-00012N.txt 1714.123           82.852      \n",
       "clones/CLONES_TRBPRO-00013P.txt    5.000            0.218      \n",
       "clones/CLONES_TRBPRO-00015S.txt  712.947           57.898      \n",
       "clones/CLONES_TRBPRO-00023A.txt  154.562           27.910      \n",
       "clones/CLONES_TRBPRO-00033M.txt   30.125            6.078      \n",
       "clones/CLONES_TRBPRO-00035O.txt   10.500            7.194      \n",
       "clones/CLONES_TRBPRO-00039T.txt   25.500            2.291      \n",
       "clones/CLONES_TRBPRO-00042X.txt    2.000            0.342      \n",
       "clones/CLONES_TRBPRO-00043Z.txt  129.250           16.887      \n",
       "                                observed_Shannon estimated_Shannon SE_Shannon\n",
       "clones/CLONES_TRBPRO-00012N.txt 53.468           53.475            0.037     \n",
       "clones/CLONES_TRBPRO-00013P.txt  1.285            1.285            0.007     \n",
       "clones/CLONES_TRBPRO-00015S.txt 63.787           63.809            0.102     \n",
       "clones/CLONES_TRBPRO-00023A.txt 28.426           28.430            0.043     \n",
       "clones/CLONES_TRBPRO-00033M.txt  5.986            5.987            0.012     \n",
       "clones/CLONES_TRBPRO-00035O.txt  1.011            1.011            0.001     \n",
       "clones/CLONES_TRBPRO-00039T.txt  4.517            4.517            0.009     \n",
       "clones/CLONES_TRBPRO-00042X.txt  1.004            1.004            0.002     \n",
       "clones/CLONES_TRBPRO-00043Z.txt  3.324            3.325            0.007     \n",
       "                                observed_Simpson estimated_Simpson SE_Simpson\n",
       "clones/CLONES_TRBPRO-00012N.txt 16.589           16.589            0.015     \n",
       "clones/CLONES_TRBPRO-00013P.txt  1.117            1.117            0.003     \n",
       "clones/CLONES_TRBPRO-00015S.txt 24.852           24.853            0.052     \n",
       "clones/CLONES_TRBPRO-00023A.txt 16.129           16.130            0.051     \n",
       "clones/CLONES_TRBPRO-00033M.txt  5.270            5.270            0.010     \n",
       "clones/CLONES_TRBPRO-00035O.txt  1.003            1.003            0.000     \n",
       "clones/CLONES_TRBPRO-00039T.txt  2.882            2.882            0.006     \n",
       "clones/CLONES_TRBPRO-00042X.txt  1.001            1.001            0.001     \n",
       "clones/CLONES_TRBPRO-00043Z.txt  2.415            2.415            0.006     "
      ]
     },
     "metadata": {},
     "output_type": "display_data"
    }
   ],
   "source": [
    "div_trb_profyle_cap"
   ]
  },
  {
   "cell_type": "code",
   "execution_count": 40,
   "metadata": {},
   "outputs": [],
   "source": [
    "save(div_trb_profyle_cap, file = paste0(datapath, \"diversity/div_trb_profyle_cap.RData\"))"
   ]
  },
  {
   "cell_type": "code",
   "execution_count": 41,
   "metadata": {},
   "outputs": [],
   "source": [
    "div_trb_profyle_cap <- as.data.frame(div_trb_profyle_cap)"
   ]
  },
  {
   "cell_type": "code",
   "execution_count": 42,
   "metadata": {},
   "outputs": [],
   "source": [
    "div_trb_profyle_cap$sample_id <- gsub(\".*TRB\", \"\", rownames(div_trb_profyle_cap))\n",
    "\n",
    "div_trb_profyle_cap$sample_id <- gsub(\".txt\", \"\", div_trb_profyle_cap$sample_id)"
   ]
  },
  {
   "cell_type": "code",
   "execution_count": 43,
   "metadata": {},
   "outputs": [
    {
     "data": {
      "text/html": [
       "<table class=\"dataframe\">\n",
       "<caption>A data.frame: 6 × 20</caption>\n",
       "<thead>\n",
       "\t<tr><th></th><th scope=col>TRB</th><th scope=col>Reads</th><th scope=col>CPKR</th><th scope=col>Average_reads</th><th scope=col>VMR</th><th scope=col>Max_reads</th><th scope=col>Singletons</th><th scope=col>Doubletons</th><th scope=col>qD</th><th scope=col>Sample_Coverage</th><th scope=col>observed_Richness</th><th scope=col>estimated_Richness</th><th scope=col>SE_Richeness</th><th scope=col>observed_Shannon</th><th scope=col>estimated_Shannon</th><th scope=col>SE_Shannon</th><th scope=col>observed_Simpson</th><th scope=col>estimated_Simpson</th><th scope=col>SE_Simpson</th><th scope=col>sample_id</th></tr>\n",
       "\t<tr><th></th><th scope=col>&lt;dbl&gt;</th><th scope=col>&lt;dbl&gt;</th><th scope=col>&lt;dbl&gt;</th><th scope=col>&lt;dbl&gt;</th><th scope=col>&lt;dbl&gt;</th><th scope=col>&lt;dbl&gt;</th><th scope=col>&lt;dbl&gt;</th><th scope=col>&lt;dbl&gt;</th><th scope=col>&lt;dbl&gt;</th><th scope=col>&lt;dbl&gt;</th><th scope=col>&lt;dbl&gt;</th><th scope=col>&lt;dbl&gt;</th><th scope=col>&lt;dbl&gt;</th><th scope=col>&lt;dbl&gt;</th><th scope=col>&lt;dbl&gt;</th><th scope=col>&lt;dbl&gt;</th><th scope=col>&lt;dbl&gt;</th><th scope=col>&lt;dbl&gt;</th><th scope=col>&lt;dbl&gt;</th><th scope=col>&lt;chr&gt;</th></tr>\n",
       "</thead>\n",
       "<tbody>\n",
       "\t<tr><th scope=row>clones/CLONES_TRBPRO-00012N.txt</th><td>1152</td><td>7575348</td><td>0.15207222</td><td> 6575.823</td><td>8.276624</td><td>1510148</td><td>358</td><td>114</td><td>1416.791</td><td>1</td><td>1152</td><td>1714.123</td><td>82.852</td><td>53.468</td><td>53.475</td><td>0.037</td><td>16.589</td><td>16.589</td><td>0.015</td><td>PRO-00012N</td></tr>\n",
       "\t<tr><th scope=row>clones/CLONES_TRBPRO-00013P.txt</th><td>   5</td><td>  19533</td><td>0.25597706</td><td> 3906.600</td><td>2.085137</td><td>  18468</td><td>  0</td><td>  0</td><td>   5.000</td><td>1</td><td>   5</td><td>   5.000</td><td> 0.218</td><td> 1.285</td><td> 1.285</td><td>0.007</td><td> 1.117</td><td> 1.117</td><td>0.003</td><td>PRO-00013P</td></tr>\n",
       "\t<tr><th scope=row>clones/CLONES_TRBPRO-00015S.txt</th><td> 536</td><td>1023792</td><td>0.52354384</td><td> 1910.060</td><td>4.539396</td><td> 116823</td><td> 82</td><td> 19</td><td> 601.624</td><td>1</td><td> 536</td><td> 712.947</td><td>57.898</td><td>63.787</td><td>63.809</td><td>0.102</td><td>24.852</td><td>24.853</td><td>0.052</td><td>PRO-00015S</td></tr>\n",
       "\t<tr><th scope=row>clones/CLONES_TRBPRO-00023A.txt</th><td> 102</td><td> 483655</td><td>0.21089413</td><td> 4741.716</td><td>2.318769</td><td>  92653</td><td> 29</td><td>  8</td><td> 124.289</td><td>1</td><td> 102</td><td> 154.562</td><td>27.910</td><td>28.426</td><td>28.430</td><td>0.043</td><td>16.129</td><td>16.130</td><td>0.051</td><td>PRO-00023A</td></tr>\n",
       "\t<tr><th scope=row>clones/CLONES_TRBPRO-00033M.txt</th><td>  24</td><td> 118734</td><td>0.20213250</td><td> 4947.250</td><td>1.925753</td><td>  31359</td><td>  7</td><td>  4</td><td>  28.172</td><td>1</td><td>  24</td><td>  30.125</td><td> 6.078</td><td> 5.986</td><td> 5.987</td><td>0.012</td><td> 5.270</td><td> 5.270</td><td>0.010</td><td>PRO-00033M</td></tr>\n",
       "\t<tr><th scope=row>clones/CLONES_TRBPRO-00035O.txt</th><td>   6</td><td>  66679</td><td>0.08998335</td><td>11113.167</td><td>2.445568</td><td>  66590</td><td>  3</td><td>  1</td><td>   8.190</td><td>1</td><td>   6</td><td>  10.500</td><td> 7.194</td><td> 1.011</td><td> 1.011</td><td>0.001</td><td> 1.003</td><td> 1.003</td><td>0.000</td><td>PRO-00035O</td></tr>\n",
       "</tbody>\n",
       "</table>\n"
      ],
      "text/latex": [
       "A data.frame: 6 × 20\n",
       "\\begin{tabular}{r|llllllllllllllllllll}\n",
       "  & TRB & Reads & CPKR & Average\\_reads & VMR & Max\\_reads & Singletons & Doubletons & qD & Sample\\_Coverage & observed\\_Richness & estimated\\_Richness & SE\\_Richeness & observed\\_Shannon & estimated\\_Shannon & SE\\_Shannon & observed\\_Simpson & estimated\\_Simpson & SE\\_Simpson & sample\\_id\\\\\n",
       "  & <dbl> & <dbl> & <dbl> & <dbl> & <dbl> & <dbl> & <dbl> & <dbl> & <dbl> & <dbl> & <dbl> & <dbl> & <dbl> & <dbl> & <dbl> & <dbl> & <dbl> & <dbl> & <dbl> & <chr>\\\\\n",
       "\\hline\n",
       "\tclones/CLONES\\_TRBPRO-00012N.txt & 1152 & 7575348 & 0.15207222 &  6575.823 & 8.276624 & 1510148 & 358 & 114 & 1416.791 & 1 & 1152 & 1714.123 & 82.852 & 53.468 & 53.475 & 0.037 & 16.589 & 16.589 & 0.015 & PRO-00012N\\\\\n",
       "\tclones/CLONES\\_TRBPRO-00013P.txt &    5 &   19533 & 0.25597706 &  3906.600 & 2.085137 &   18468 &   0 &   0 &    5.000 & 1 &    5 &    5.000 &  0.218 &  1.285 &  1.285 & 0.007 &  1.117 &  1.117 & 0.003 & PRO-00013P\\\\\n",
       "\tclones/CLONES\\_TRBPRO-00015S.txt &  536 & 1023792 & 0.52354384 &  1910.060 & 4.539396 &  116823 &  82 &  19 &  601.624 & 1 &  536 &  712.947 & 57.898 & 63.787 & 63.809 & 0.102 & 24.852 & 24.853 & 0.052 & PRO-00015S\\\\\n",
       "\tclones/CLONES\\_TRBPRO-00023A.txt &  102 &  483655 & 0.21089413 &  4741.716 & 2.318769 &   92653 &  29 &   8 &  124.289 & 1 &  102 &  154.562 & 27.910 & 28.426 & 28.430 & 0.043 & 16.129 & 16.130 & 0.051 & PRO-00023A\\\\\n",
       "\tclones/CLONES\\_TRBPRO-00033M.txt &   24 &  118734 & 0.20213250 &  4947.250 & 1.925753 &   31359 &   7 &   4 &   28.172 & 1 &   24 &   30.125 &  6.078 &  5.986 &  5.987 & 0.012 &  5.270 &  5.270 & 0.010 & PRO-00033M\\\\\n",
       "\tclones/CLONES\\_TRBPRO-00035O.txt &    6 &   66679 & 0.08998335 & 11113.167 & 2.445568 &   66590 &   3 &   1 &    8.190 & 1 &    6 &   10.500 &  7.194 &  1.011 &  1.011 & 0.001 &  1.003 &  1.003 & 0.000 & PRO-00035O\\\\\n",
       "\\end{tabular}\n"
      ],
      "text/markdown": [
       "\n",
       "A data.frame: 6 × 20\n",
       "\n",
       "| <!--/--> | TRB &lt;dbl&gt; | Reads &lt;dbl&gt; | CPKR &lt;dbl&gt; | Average_reads &lt;dbl&gt; | VMR &lt;dbl&gt; | Max_reads &lt;dbl&gt; | Singletons &lt;dbl&gt; | Doubletons &lt;dbl&gt; | qD &lt;dbl&gt; | Sample_Coverage &lt;dbl&gt; | observed_Richness &lt;dbl&gt; | estimated_Richness &lt;dbl&gt; | SE_Richeness &lt;dbl&gt; | observed_Shannon &lt;dbl&gt; | estimated_Shannon &lt;dbl&gt; | SE_Shannon &lt;dbl&gt; | observed_Simpson &lt;dbl&gt; | estimated_Simpson &lt;dbl&gt; | SE_Simpson &lt;dbl&gt; | sample_id &lt;chr&gt; |\n",
       "|---|---|---|---|---|---|---|---|---|---|---|---|---|---|---|---|---|---|---|---|---|\n",
       "| clones/CLONES_TRBPRO-00012N.txt | 1152 | 7575348 | 0.15207222 |  6575.823 | 8.276624 | 1510148 | 358 | 114 | 1416.791 | 1 | 1152 | 1714.123 | 82.852 | 53.468 | 53.475 | 0.037 | 16.589 | 16.589 | 0.015 | PRO-00012N |\n",
       "| clones/CLONES_TRBPRO-00013P.txt |    5 |   19533 | 0.25597706 |  3906.600 | 2.085137 |   18468 |   0 |   0 |    5.000 | 1 |    5 |    5.000 |  0.218 |  1.285 |  1.285 | 0.007 |  1.117 |  1.117 | 0.003 | PRO-00013P |\n",
       "| clones/CLONES_TRBPRO-00015S.txt |  536 | 1023792 | 0.52354384 |  1910.060 | 4.539396 |  116823 |  82 |  19 |  601.624 | 1 |  536 |  712.947 | 57.898 | 63.787 | 63.809 | 0.102 | 24.852 | 24.853 | 0.052 | PRO-00015S |\n",
       "| clones/CLONES_TRBPRO-00023A.txt |  102 |  483655 | 0.21089413 |  4741.716 | 2.318769 |   92653 |  29 |   8 |  124.289 | 1 |  102 |  154.562 | 27.910 | 28.426 | 28.430 | 0.043 | 16.129 | 16.130 | 0.051 | PRO-00023A |\n",
       "| clones/CLONES_TRBPRO-00033M.txt |   24 |  118734 | 0.20213250 |  4947.250 | 1.925753 |   31359 |   7 |   4 |   28.172 | 1 |   24 |   30.125 |  6.078 |  5.986 |  5.987 | 0.012 |  5.270 |  5.270 | 0.010 | PRO-00033M |\n",
       "| clones/CLONES_TRBPRO-00035O.txt |    6 |   66679 | 0.08998335 | 11113.167 | 2.445568 |   66590 |   3 |   1 |    8.190 | 1 |    6 |   10.500 |  7.194 |  1.011 |  1.011 | 0.001 |  1.003 |  1.003 | 0.000 | PRO-00035O |\n",
       "\n"
      ],
      "text/plain": [
       "                                TRB  Reads   CPKR       Average_reads VMR     \n",
       "clones/CLONES_TRBPRO-00012N.txt 1152 7575348 0.15207222  6575.823     8.276624\n",
       "clones/CLONES_TRBPRO-00013P.txt    5   19533 0.25597706  3906.600     2.085137\n",
       "clones/CLONES_TRBPRO-00015S.txt  536 1023792 0.52354384  1910.060     4.539396\n",
       "clones/CLONES_TRBPRO-00023A.txt  102  483655 0.21089413  4741.716     2.318769\n",
       "clones/CLONES_TRBPRO-00033M.txt   24  118734 0.20213250  4947.250     1.925753\n",
       "clones/CLONES_TRBPRO-00035O.txt    6   66679 0.08998335 11113.167     2.445568\n",
       "                                Max_reads Singletons Doubletons qD      \n",
       "clones/CLONES_TRBPRO-00012N.txt 1510148   358        114        1416.791\n",
       "clones/CLONES_TRBPRO-00013P.txt   18468     0          0           5.000\n",
       "clones/CLONES_TRBPRO-00015S.txt  116823    82         19         601.624\n",
       "clones/CLONES_TRBPRO-00023A.txt   92653    29          8         124.289\n",
       "clones/CLONES_TRBPRO-00033M.txt   31359     7          4          28.172\n",
       "clones/CLONES_TRBPRO-00035O.txt   66590     3          1           8.190\n",
       "                                Sample_Coverage observed_Richness\n",
       "clones/CLONES_TRBPRO-00012N.txt 1               1152             \n",
       "clones/CLONES_TRBPRO-00013P.txt 1                  5             \n",
       "clones/CLONES_TRBPRO-00015S.txt 1                536             \n",
       "clones/CLONES_TRBPRO-00023A.txt 1                102             \n",
       "clones/CLONES_TRBPRO-00033M.txt 1                 24             \n",
       "clones/CLONES_TRBPRO-00035O.txt 1                  6             \n",
       "                                estimated_Richness SE_Richeness\n",
       "clones/CLONES_TRBPRO-00012N.txt 1714.123           82.852      \n",
       "clones/CLONES_TRBPRO-00013P.txt    5.000            0.218      \n",
       "clones/CLONES_TRBPRO-00015S.txt  712.947           57.898      \n",
       "clones/CLONES_TRBPRO-00023A.txt  154.562           27.910      \n",
       "clones/CLONES_TRBPRO-00033M.txt   30.125            6.078      \n",
       "clones/CLONES_TRBPRO-00035O.txt   10.500            7.194      \n",
       "                                observed_Shannon estimated_Shannon SE_Shannon\n",
       "clones/CLONES_TRBPRO-00012N.txt 53.468           53.475            0.037     \n",
       "clones/CLONES_TRBPRO-00013P.txt  1.285            1.285            0.007     \n",
       "clones/CLONES_TRBPRO-00015S.txt 63.787           63.809            0.102     \n",
       "clones/CLONES_TRBPRO-00023A.txt 28.426           28.430            0.043     \n",
       "clones/CLONES_TRBPRO-00033M.txt  5.986            5.987            0.012     \n",
       "clones/CLONES_TRBPRO-00035O.txt  1.011            1.011            0.001     \n",
       "                                observed_Simpson estimated_Simpson SE_Simpson\n",
       "clones/CLONES_TRBPRO-00012N.txt 16.589           16.589            0.015     \n",
       "clones/CLONES_TRBPRO-00013P.txt  1.117            1.117            0.003     \n",
       "clones/CLONES_TRBPRO-00015S.txt 24.852           24.853            0.052     \n",
       "clones/CLONES_TRBPRO-00023A.txt 16.129           16.130            0.051     \n",
       "clones/CLONES_TRBPRO-00033M.txt  5.270            5.270            0.010     \n",
       "clones/CLONES_TRBPRO-00035O.txt  1.003            1.003            0.000     \n",
       "                                sample_id \n",
       "clones/CLONES_TRBPRO-00012N.txt PRO-00012N\n",
       "clones/CLONES_TRBPRO-00013P.txt PRO-00013P\n",
       "clones/CLONES_TRBPRO-00015S.txt PRO-00015S\n",
       "clones/CLONES_TRBPRO-00023A.txt PRO-00023A\n",
       "clones/CLONES_TRBPRO-00033M.txt PRO-00033M\n",
       "clones/CLONES_TRBPRO-00035O.txt PRO-00035O"
      ]
     },
     "metadata": {},
     "output_type": "display_data"
    }
   ],
   "source": [
    "head(div_trb_profyle_cap)"
   ]
  },
  {
   "cell_type": "markdown",
   "metadata": {},
   "source": [
    "## Bind RNA and Cap"
   ]
  },
  {
   "cell_type": "code",
   "execution_count": 44,
   "metadata": {},
   "outputs": [],
   "source": [
    "colnames(div_trb_profyle_cap)[1:ncol(div_trb_profyle_cap)-1] <-\n",
    "paste0(colnames(div_trb_profyle_cap)[1:ncol(div_trb_profyle_cap)-1], \"_TCRCap\")"
   ]
  },
  {
   "cell_type": "code",
   "execution_count": 45,
   "metadata": {},
   "outputs": [],
   "source": [
    "colnames(div_trb_profyle_rna)[1:ncol(div_trb_profyle_rna)-1] <-\n",
    "paste0(colnames(div_trb_profyle_rna)[1:ncol(div_trb_profyle_rna)-1], \"_RNAseq\")"
   ]
  },
  {
   "cell_type": "code",
   "execution_count": 46,
   "metadata": {},
   "outputs": [
    {
     "data": {
      "text/html": [
       "<style>\n",
       ".list-inline {list-style: none; margin:0; padding: 0}\n",
       ".list-inline>li {display: inline-block}\n",
       ".list-inline>li:not(:last-child)::after {content: \"\\00b7\"; padding: 0 .5ex}\n",
       "</style>\n",
       "<ol class=list-inline><li>'TRB_RNAseq'</li><li>'Reads_RNAseq'</li><li>'CPKR_RNAseq'</li><li>'Average_reads_RNAseq'</li><li>'VMR_RNAseq'</li><li>'Max_reads_RNAseq'</li><li>'Singletons_RNAseq'</li><li>'Doubletons_RNAseq'</li><li>'qD_RNAseq'</li><li>'Sample_Coverage_RNAseq'</li><li>'observed_Richness_RNAseq'</li><li>'estimated_Richness_RNAseq'</li><li>'SE_Richeness_RNAseq'</li><li>'observed_Shannon_RNAseq'</li><li>'estimated_Shannon_RNAseq'</li><li>'SE_Shannon_RNAseq'</li><li>'observed_Simpson_RNAseq'</li><li>'estimated_Simpson_RNAseq'</li><li>'SE_Simpson_RNAseq'</li><li>'sample_id'</li></ol>\n"
      ],
      "text/latex": [
       "\\begin{enumerate*}\n",
       "\\item 'TRB\\_RNAseq'\n",
       "\\item 'Reads\\_RNAseq'\n",
       "\\item 'CPKR\\_RNAseq'\n",
       "\\item 'Average\\_reads\\_RNAseq'\n",
       "\\item 'VMR\\_RNAseq'\n",
       "\\item 'Max\\_reads\\_RNAseq'\n",
       "\\item 'Singletons\\_RNAseq'\n",
       "\\item 'Doubletons\\_RNAseq'\n",
       "\\item 'qD\\_RNAseq'\n",
       "\\item 'Sample\\_Coverage\\_RNAseq'\n",
       "\\item 'observed\\_Richness\\_RNAseq'\n",
       "\\item 'estimated\\_Richness\\_RNAseq'\n",
       "\\item 'SE\\_Richeness\\_RNAseq'\n",
       "\\item 'observed\\_Shannon\\_RNAseq'\n",
       "\\item 'estimated\\_Shannon\\_RNAseq'\n",
       "\\item 'SE\\_Shannon\\_RNAseq'\n",
       "\\item 'observed\\_Simpson\\_RNAseq'\n",
       "\\item 'estimated\\_Simpson\\_RNAseq'\n",
       "\\item 'SE\\_Simpson\\_RNAseq'\n",
       "\\item 'sample\\_id'\n",
       "\\end{enumerate*}\n"
      ],
      "text/markdown": [
       "1. 'TRB_RNAseq'\n",
       "2. 'Reads_RNAseq'\n",
       "3. 'CPKR_RNAseq'\n",
       "4. 'Average_reads_RNAseq'\n",
       "5. 'VMR_RNAseq'\n",
       "6. 'Max_reads_RNAseq'\n",
       "7. 'Singletons_RNAseq'\n",
       "8. 'Doubletons_RNAseq'\n",
       "9. 'qD_RNAseq'\n",
       "10. 'Sample_Coverage_RNAseq'\n",
       "11. 'observed_Richness_RNAseq'\n",
       "12. 'estimated_Richness_RNAseq'\n",
       "13. 'SE_Richeness_RNAseq'\n",
       "14. 'observed_Shannon_RNAseq'\n",
       "15. 'estimated_Shannon_RNAseq'\n",
       "16. 'SE_Shannon_RNAseq'\n",
       "17. 'observed_Simpson_RNAseq'\n",
       "18. 'estimated_Simpson_RNAseq'\n",
       "19. 'SE_Simpson_RNAseq'\n",
       "20. 'sample_id'\n",
       "\n",
       "\n"
      ],
      "text/plain": [
       " [1] \"TRB_RNAseq\"                \"Reads_RNAseq\"             \n",
       " [3] \"CPKR_RNAseq\"               \"Average_reads_RNAseq\"     \n",
       " [5] \"VMR_RNAseq\"                \"Max_reads_RNAseq\"         \n",
       " [7] \"Singletons_RNAseq\"         \"Doubletons_RNAseq\"        \n",
       " [9] \"qD_RNAseq\"                 \"Sample_Coverage_RNAseq\"   \n",
       "[11] \"observed_Richness_RNAseq\"  \"estimated_Richness_RNAseq\"\n",
       "[13] \"SE_Richeness_RNAseq\"       \"observed_Shannon_RNAseq\"  \n",
       "[15] \"estimated_Shannon_RNAseq\"  \"SE_Shannon_RNAseq\"        \n",
       "[17] \"observed_Simpson_RNAseq\"   \"estimated_Simpson_RNAseq\" \n",
       "[19] \"SE_Simpson_RNAseq\"         \"sample_id\"                "
      ]
     },
     "metadata": {},
     "output_type": "display_data"
    }
   ],
   "source": [
    "colnames(div_trb_profyle_rna)"
   ]
  },
  {
   "cell_type": "code",
   "execution_count": 47,
   "metadata": {},
   "outputs": [],
   "source": [
    "div_trb_profyle_cap_rna <- merge(div_trb_profyle_cap, div_trb_profyle_rna, by = \"sample_id\")"
   ]
  },
  {
   "cell_type": "markdown",
   "metadata": {},
   "source": [
    "# ICGC"
   ]
  },
  {
   "cell_type": "markdown",
   "metadata": {},
   "source": [
    "## CapTCR-Seq"
   ]
  },
  {
   "cell_type": "code",
   "execution_count": 48,
   "metadata": {},
   "outputs": [],
   "source": [
    "icgcpath <- \"/Users/anabbi/Desktop/H4H/immpedcan/ICGC/\""
   ]
  },
  {
   "cell_type": "code",
   "execution_count": 49,
   "metadata": {},
   "outputs": [],
   "source": [
    "icgc_cap <- list.files(icgcpath, pattern = \"CLONES_TRB\", recursive = T)"
   ]
  },
  {
   "cell_type": "code",
   "execution_count": 50,
   "metadata": {},
   "outputs": [],
   "source": [
    "icgc_cap <- icgc_cap[!grepl(\"MiSeq\", icgc_cap)]\n",
    "\n",
    "icgc_cap <- icgc_cap[!grepl(\"ds_batch\", icgc_cap)]"
   ]
  },
  {
   "cell_type": "code",
   "execution_count": 51,
   "metadata": {},
   "outputs": [
    {
     "data": {
      "text/html": [
       "<style>\n",
       ".list-inline {list-style: none; margin:0; padding: 0}\n",
       ".list-inline>li {display: inline-block}\n",
       ".list-inline>li:not(:last-child)::after {content: \"\\00b7\"; padding: 0 .5ex}\n",
       "</style>\n",
       "<ol class=list-inline><li>'batch1/mixcr/clones/CLONES_TRBICGC_GBM1.txt'</li><li>'batch1/mixcr/clones/CLONES_TRBICGC_GBM2.txt'</li><li>'batch1/mixcr/clones/CLONES_TRBICGC_GBM28.txt'</li><li>'batch1/mixcr/clones/CLONES_TRBICGC_GBM32.txt'</li><li>'batch1/mixcr/clones/CLONES_TRBICGC_GBM38.txt'</li><li>'batch1/mixcr/clones/CLONES_TRBICGC_GBM53.txt'</li><li>'batch1/mixcr/clones/CLONES_TRBICGC_GBM58.txt'</li><li>'batch1/mixcr/clones/CLONES_TRBICGC_GBM6.txt'</li><li>'batch2/mixcr/clones/CLONES_TRBICGC_GBM4.txt'</li><li>'batch2/mixcr/clones/CLONES_TRBICGC_GBM56.txt'</li></ol>\n"
      ],
      "text/latex": [
       "\\begin{enumerate*}\n",
       "\\item 'batch1/mixcr/clones/CLONES\\_TRBICGC\\_GBM1.txt'\n",
       "\\item 'batch1/mixcr/clones/CLONES\\_TRBICGC\\_GBM2.txt'\n",
       "\\item 'batch1/mixcr/clones/CLONES\\_TRBICGC\\_GBM28.txt'\n",
       "\\item 'batch1/mixcr/clones/CLONES\\_TRBICGC\\_GBM32.txt'\n",
       "\\item 'batch1/mixcr/clones/CLONES\\_TRBICGC\\_GBM38.txt'\n",
       "\\item 'batch1/mixcr/clones/CLONES\\_TRBICGC\\_GBM53.txt'\n",
       "\\item 'batch1/mixcr/clones/CLONES\\_TRBICGC\\_GBM58.txt'\n",
       "\\item 'batch1/mixcr/clones/CLONES\\_TRBICGC\\_GBM6.txt'\n",
       "\\item 'batch2/mixcr/clones/CLONES\\_TRBICGC\\_GBM4.txt'\n",
       "\\item 'batch2/mixcr/clones/CLONES\\_TRBICGC\\_GBM56.txt'\n",
       "\\end{enumerate*}\n"
      ],
      "text/markdown": [
       "1. 'batch1/mixcr/clones/CLONES_TRBICGC_GBM1.txt'\n",
       "2. 'batch1/mixcr/clones/CLONES_TRBICGC_GBM2.txt'\n",
       "3. 'batch1/mixcr/clones/CLONES_TRBICGC_GBM28.txt'\n",
       "4. 'batch1/mixcr/clones/CLONES_TRBICGC_GBM32.txt'\n",
       "5. 'batch1/mixcr/clones/CLONES_TRBICGC_GBM38.txt'\n",
       "6. 'batch1/mixcr/clones/CLONES_TRBICGC_GBM53.txt'\n",
       "7. 'batch1/mixcr/clones/CLONES_TRBICGC_GBM58.txt'\n",
       "8. 'batch1/mixcr/clones/CLONES_TRBICGC_GBM6.txt'\n",
       "9. 'batch2/mixcr/clones/CLONES_TRBICGC_GBM4.txt'\n",
       "10. 'batch2/mixcr/clones/CLONES_TRBICGC_GBM56.txt'\n",
       "\n",
       "\n"
      ],
      "text/plain": [
       " [1] \"batch1/mixcr/clones/CLONES_TRBICGC_GBM1.txt\" \n",
       " [2] \"batch1/mixcr/clones/CLONES_TRBICGC_GBM2.txt\" \n",
       " [3] \"batch1/mixcr/clones/CLONES_TRBICGC_GBM28.txt\"\n",
       " [4] \"batch1/mixcr/clones/CLONES_TRBICGC_GBM32.txt\"\n",
       " [5] \"batch1/mixcr/clones/CLONES_TRBICGC_GBM38.txt\"\n",
       " [6] \"batch1/mixcr/clones/CLONES_TRBICGC_GBM53.txt\"\n",
       " [7] \"batch1/mixcr/clones/CLONES_TRBICGC_GBM58.txt\"\n",
       " [8] \"batch1/mixcr/clones/CLONES_TRBICGC_GBM6.txt\" \n",
       " [9] \"batch2/mixcr/clones/CLONES_TRBICGC_GBM4.txt\" \n",
       "[10] \"batch2/mixcr/clones/CLONES_TRBICGC_GBM56.txt\""
      ]
     },
     "metadata": {},
     "output_type": "display_data"
    }
   ],
   "source": [
    "icgc_cap"
   ]
  },
  {
   "cell_type": "code",
   "execution_count": 52,
   "metadata": {},
   "outputs": [],
   "source": [
    "trb_list_icgc_cap <- immunelistfx(icgc_cap, icgcpath, \"TRB\")"
   ]
  },
  {
   "cell_type": "code",
   "execution_count": 53,
   "metadata": {},
   "outputs": [
    {
     "data": {
      "text/html": [
       "10"
      ],
      "text/latex": [
       "10"
      ],
      "text/markdown": [
       "10"
      ],
      "text/plain": [
       "[1] 10"
      ]
     },
     "metadata": {},
     "output_type": "display_data"
    }
   ],
   "source": [
    "length(trb_list_icgc_cap)"
   ]
  },
  {
   "cell_type": "code",
   "execution_count": 54,
   "metadata": {},
   "outputs": [
    {
     "data": {
      "text/html": [
       "10"
      ],
      "text/latex": [
       "10"
      ],
      "text/markdown": [
       "10"
      ],
      "text/plain": [
       "[1] 10"
      ]
     },
     "metadata": {},
     "output_type": "display_data"
    }
   ],
   "source": [
    "trb_list_icgc_cap <- trb_list_icgc_cap[sapply(trb_list_icgc_cap, function(x) length(unlist(x))) > 1] # remove files with one clonotype\n",
    "                            \n",
    "length(trb_list_icgc_cap)"
   ]
  },
  {
   "cell_type": "code",
   "execution_count": 55,
   "metadata": {},
   "outputs": [],
   "source": [
    "trb_list_icgc_cap <- trb_list_icgc_cap[sapply(trb_list_icgc_cap, function(x) var(unlist(x))) > 0] # remove files no variance                        "
   ]
  },
  {
   "cell_type": "code",
   "execution_count": 56,
   "metadata": {},
   "outputs": [
    {
     "data": {
      "text/html": [
       "10"
      ],
      "text/latex": [
       "10"
      ],
      "text/markdown": [
       "10"
      ],
      "text/plain": [
       "[1] 10"
      ]
     },
     "metadata": {},
     "output_type": "display_data"
    }
   ],
   "source": [
    "length(trb_list_icgc_cap)"
   ]
  },
  {
   "cell_type": "code",
   "execution_count": 57,
   "metadata": {},
   "outputs": [],
   "source": [
    "div_trb_icgc_cap <- Divstats.fx(trb_list_icgc_cap, \"TRB\")"
   ]
  },
  {
   "cell_type": "code",
   "execution_count": 58,
   "metadata": {},
   "outputs": [
    {
     "data": {
      "text/html": [
       "<table class=\"dataframe\">\n",
       "<caption>A matrix: 10 × 19 of type dbl</caption>\n",
       "<thead>\n",
       "\t<tr><th></th><th scope=col>TRB</th><th scope=col>Reads</th><th scope=col>CPKR</th><th scope=col>Average_reads</th><th scope=col>VMR</th><th scope=col>Max_reads</th><th scope=col>Singletons</th><th scope=col>Doubletons</th><th scope=col>qD</th><th scope=col>Sample_Coverage</th><th scope=col>observed_Richness</th><th scope=col>estimated_Richness</th><th scope=col>SE_Richeness</th><th scope=col>observed_Shannon</th><th scope=col>estimated_Shannon</th><th scope=col>SE_Shannon</th><th scope=col>observed_Simpson</th><th scope=col>estimated_Simpson</th><th scope=col>SE_Simpson</th></tr>\n",
       "</thead>\n",
       "<tbody>\n",
       "\t<tr><th scope=row>batch1/mixcr/clones/CLONES_TRBICGC_GBM1.txt</th><td> 30</td><td> 649</td><td> 46.224961</td><td> 21.63333</td><td>2.7320230</td><td> 313</td><td> 5</td><td> 7</td><td> 31.674</td><td>1.000</td><td> 30</td><td> 31.783</td><td> 2.186</td><td> 6.946</td><td> 7.128</td><td>0.392</td><td> 3.652</td><td> 3.667</td><td>0.210</td></tr>\n",
       "\t<tr><th scope=row>batch1/mixcr/clones/CLONES_TRBICGC_GBM2.txt</th><td> 37</td><td>1434</td><td> 25.801953</td><td> 38.75676</td><td>3.3840113</td><td> 763</td><td> 8</td><td> 5</td><td> 41.564</td><td>0.998</td><td> 37</td><td> 43.396</td><td> 5.918</td><td> 5.526</td><td> 5.617</td><td>0.218</td><td> 3.047</td><td> 3.052</td><td>0.110</td></tr>\n",
       "\t<tr><th scope=row>batch1/mixcr/clones/CLONES_TRBICGC_GBM28.txt</th><td> 19</td><td> 869</td><td> 21.864212</td><td> 45.73684</td><td>2.3790594</td><td> 460</td><td> 5</td><td> 1</td><td> 23.119</td><td>0.996</td><td> 19</td><td> 31.486</td><td>17.120</td><td> 4.721</td><td> 4.802</td><td>0.214</td><td> 2.986</td><td> 2.993</td><td>0.123</td></tr>\n",
       "\t<tr><th scope=row>batch1/mixcr/clones/CLONES_TRBICGC_GBM32.txt</th><td>177</td><td>1938</td><td> 91.331269</td><td> 10.94915</td><td>3.7159476</td><td> 519</td><td>24</td><td>19</td><td>189.040</td><td>0.997</td><td>177</td><td>192.150</td><td> 8.092</td><td>50.295</td><td>53.035</td><td>2.356</td><td>12.016</td><td>12.085</td><td>0.773</td></tr>\n",
       "\t<tr><th scope=row>batch1/mixcr/clones/CLONES_TRBICGC_GBM38.txt</th><td> 11</td><td> 615</td><td> 17.886179</td><td> 55.90909</td><td>2.0584413</td><td> 389</td><td> 2</td><td> 1</td><td> 12.263</td><td>0.999</td><td> 11</td><td> 12.997</td><td> 3.736</td><td> 3.309</td><td> 3.344</td><td>0.148</td><td> 2.267</td><td> 2.272</td><td>0.111</td></tr>\n",
       "\t<tr><th scope=row>batch1/mixcr/clones/CLONES_TRBICGC_GBM53.txt</th><td> 17</td><td>2012</td><td>  8.449304</td><td>118.35294</td><td>2.6796651</td><td>1304</td><td> 3</td><td> 1</td><td> 19.189</td><td>0.999</td><td> 17</td><td> 21.498</td><td> 7.190</td><td> 3.334</td><td> 3.351</td><td>0.092</td><td> 2.191</td><td> 2.193</td><td>0.056</td></tr>\n",
       "\t<tr><th scope=row>batch1/mixcr/clones/CLONES_TRBICGC_GBM58.txt</th><td>134</td><td>2076</td><td> 64.547206</td><td> 15.49254</td><td>3.2178316</td><td> 549</td><td>13</td><td> 5</td><td>143.066</td><td>0.997</td><td>134</td><td>150.892</td><td>12.718</td><td>43.980</td><td>45.666</td><td>1.666</td><td>11.882</td><td>11.945</td><td>0.683</td></tr>\n",
       "\t<tr><th scope=row>batch1/mixcr/clones/CLONES_TRBICGC_GBM6.txt</th><td> 32</td><td>1547</td><td> 20.685197</td><td> 48.34375</td><td>3.0431747</td><td> 790</td><td> 4</td><td> 2</td><td> 34.527</td><td>0.999</td><td> 32</td><td> 35.997</td><td> 5.288</td><td> 6.090</td><td> 6.163</td><td>0.264</td><td> 3.209</td><td> 3.214</td><td>0.115</td></tr>\n",
       "\t<tr><th scope=row>batch2/mixcr/clones/CLONES_TRBICGC_GBM4.txt</th><td>  8</td><td>  80</td><td>100.000000</td><td> 10.00000</td><td>0.6391959</td><td>  18</td><td> 2</td><td> 0</td><td>  8.854</td><td>0.997</td><td>  8</td><td>  8.988</td><td> 2.223</td><td> 6.348</td><td> 6.708</td><td>0.322</td><td> 5.893</td><td> 6.282</td><td>0.433</td></tr>\n",
       "\t<tr><th scope=row>batch2/mixcr/clones/CLONES_TRBICGC_GBM56.txt</th><td>  4</td><td> 112</td><td> 35.714286</td><td> 28.00000</td><td>0.4870779</td><td>  40</td><td> 0</td><td> 0</td><td>  4.000</td><td>1.000</td><td>  4</td><td>  4.000</td><td> 0.007</td><td> 3.611</td><td> 3.660</td><td>0.131</td><td> 3.396</td><td> 3.471</td><td>0.187</td></tr>\n",
       "</tbody>\n",
       "</table>\n"
      ],
      "text/latex": [
       "A matrix: 10 × 19 of type dbl\n",
       "\\begin{tabular}{r|lllllllllllllllllll}\n",
       "  & TRB & Reads & CPKR & Average\\_reads & VMR & Max\\_reads & Singletons & Doubletons & qD & Sample\\_Coverage & observed\\_Richness & estimated\\_Richness & SE\\_Richeness & observed\\_Shannon & estimated\\_Shannon & SE\\_Shannon & observed\\_Simpson & estimated\\_Simpson & SE\\_Simpson\\\\\n",
       "\\hline\n",
       "\tbatch1/mixcr/clones/CLONES\\_TRBICGC\\_GBM1.txt &  30 &  649 &  46.224961 &  21.63333 & 2.7320230 &  313 &  5 &  7 &  31.674 & 1.000 &  30 &  31.783 &  2.186 &  6.946 &  7.128 & 0.392 &  3.652 &  3.667 & 0.210\\\\\n",
       "\tbatch1/mixcr/clones/CLONES\\_TRBICGC\\_GBM2.txt &  37 & 1434 &  25.801953 &  38.75676 & 3.3840113 &  763 &  8 &  5 &  41.564 & 0.998 &  37 &  43.396 &  5.918 &  5.526 &  5.617 & 0.218 &  3.047 &  3.052 & 0.110\\\\\n",
       "\tbatch1/mixcr/clones/CLONES\\_TRBICGC\\_GBM28.txt &  19 &  869 &  21.864212 &  45.73684 & 2.3790594 &  460 &  5 &  1 &  23.119 & 0.996 &  19 &  31.486 & 17.120 &  4.721 &  4.802 & 0.214 &  2.986 &  2.993 & 0.123\\\\\n",
       "\tbatch1/mixcr/clones/CLONES\\_TRBICGC\\_GBM32.txt & 177 & 1938 &  91.331269 &  10.94915 & 3.7159476 &  519 & 24 & 19 & 189.040 & 0.997 & 177 & 192.150 &  8.092 & 50.295 & 53.035 & 2.356 & 12.016 & 12.085 & 0.773\\\\\n",
       "\tbatch1/mixcr/clones/CLONES\\_TRBICGC\\_GBM38.txt &  11 &  615 &  17.886179 &  55.90909 & 2.0584413 &  389 &  2 &  1 &  12.263 & 0.999 &  11 &  12.997 &  3.736 &  3.309 &  3.344 & 0.148 &  2.267 &  2.272 & 0.111\\\\\n",
       "\tbatch1/mixcr/clones/CLONES\\_TRBICGC\\_GBM53.txt &  17 & 2012 &   8.449304 & 118.35294 & 2.6796651 & 1304 &  3 &  1 &  19.189 & 0.999 &  17 &  21.498 &  7.190 &  3.334 &  3.351 & 0.092 &  2.191 &  2.193 & 0.056\\\\\n",
       "\tbatch1/mixcr/clones/CLONES\\_TRBICGC\\_GBM58.txt & 134 & 2076 &  64.547206 &  15.49254 & 3.2178316 &  549 & 13 &  5 & 143.066 & 0.997 & 134 & 150.892 & 12.718 & 43.980 & 45.666 & 1.666 & 11.882 & 11.945 & 0.683\\\\\n",
       "\tbatch1/mixcr/clones/CLONES\\_TRBICGC\\_GBM6.txt &  32 & 1547 &  20.685197 &  48.34375 & 3.0431747 &  790 &  4 &  2 &  34.527 & 0.999 &  32 &  35.997 &  5.288 &  6.090 &  6.163 & 0.264 &  3.209 &  3.214 & 0.115\\\\\n",
       "\tbatch2/mixcr/clones/CLONES\\_TRBICGC\\_GBM4.txt &   8 &   80 & 100.000000 &  10.00000 & 0.6391959 &   18 &  2 &  0 &   8.854 & 0.997 &   8 &   8.988 &  2.223 &  6.348 &  6.708 & 0.322 &  5.893 &  6.282 & 0.433\\\\\n",
       "\tbatch2/mixcr/clones/CLONES\\_TRBICGC\\_GBM56.txt &   4 &  112 &  35.714286 &  28.00000 & 0.4870779 &   40 &  0 &  0 &   4.000 & 1.000 &   4 &   4.000 &  0.007 &  3.611 &  3.660 & 0.131 &  3.396 &  3.471 & 0.187\\\\\n",
       "\\end{tabular}\n"
      ],
      "text/markdown": [
       "\n",
       "A matrix: 10 × 19 of type dbl\n",
       "\n",
       "| <!--/--> | TRB | Reads | CPKR | Average_reads | VMR | Max_reads | Singletons | Doubletons | qD | Sample_Coverage | observed_Richness | estimated_Richness | SE_Richeness | observed_Shannon | estimated_Shannon | SE_Shannon | observed_Simpson | estimated_Simpson | SE_Simpson |\n",
       "|---|---|---|---|---|---|---|---|---|---|---|---|---|---|---|---|---|---|---|---|\n",
       "| batch1/mixcr/clones/CLONES_TRBICGC_GBM1.txt |  30 |  649 |  46.224961 |  21.63333 | 2.7320230 |  313 |  5 |  7 |  31.674 | 1.000 |  30 |  31.783 |  2.186 |  6.946 |  7.128 | 0.392 |  3.652 |  3.667 | 0.210 |\n",
       "| batch1/mixcr/clones/CLONES_TRBICGC_GBM2.txt |  37 | 1434 |  25.801953 |  38.75676 | 3.3840113 |  763 |  8 |  5 |  41.564 | 0.998 |  37 |  43.396 |  5.918 |  5.526 |  5.617 | 0.218 |  3.047 |  3.052 | 0.110 |\n",
       "| batch1/mixcr/clones/CLONES_TRBICGC_GBM28.txt |  19 |  869 |  21.864212 |  45.73684 | 2.3790594 |  460 |  5 |  1 |  23.119 | 0.996 |  19 |  31.486 | 17.120 |  4.721 |  4.802 | 0.214 |  2.986 |  2.993 | 0.123 |\n",
       "| batch1/mixcr/clones/CLONES_TRBICGC_GBM32.txt | 177 | 1938 |  91.331269 |  10.94915 | 3.7159476 |  519 | 24 | 19 | 189.040 | 0.997 | 177 | 192.150 |  8.092 | 50.295 | 53.035 | 2.356 | 12.016 | 12.085 | 0.773 |\n",
       "| batch1/mixcr/clones/CLONES_TRBICGC_GBM38.txt |  11 |  615 |  17.886179 |  55.90909 | 2.0584413 |  389 |  2 |  1 |  12.263 | 0.999 |  11 |  12.997 |  3.736 |  3.309 |  3.344 | 0.148 |  2.267 |  2.272 | 0.111 |\n",
       "| batch1/mixcr/clones/CLONES_TRBICGC_GBM53.txt |  17 | 2012 |   8.449304 | 118.35294 | 2.6796651 | 1304 |  3 |  1 |  19.189 | 0.999 |  17 |  21.498 |  7.190 |  3.334 |  3.351 | 0.092 |  2.191 |  2.193 | 0.056 |\n",
       "| batch1/mixcr/clones/CLONES_TRBICGC_GBM58.txt | 134 | 2076 |  64.547206 |  15.49254 | 3.2178316 |  549 | 13 |  5 | 143.066 | 0.997 | 134 | 150.892 | 12.718 | 43.980 | 45.666 | 1.666 | 11.882 | 11.945 | 0.683 |\n",
       "| batch1/mixcr/clones/CLONES_TRBICGC_GBM6.txt |  32 | 1547 |  20.685197 |  48.34375 | 3.0431747 |  790 |  4 |  2 |  34.527 | 0.999 |  32 |  35.997 |  5.288 |  6.090 |  6.163 | 0.264 |  3.209 |  3.214 | 0.115 |\n",
       "| batch2/mixcr/clones/CLONES_TRBICGC_GBM4.txt |   8 |   80 | 100.000000 |  10.00000 | 0.6391959 |   18 |  2 |  0 |   8.854 | 0.997 |   8 |   8.988 |  2.223 |  6.348 |  6.708 | 0.322 |  5.893 |  6.282 | 0.433 |\n",
       "| batch2/mixcr/clones/CLONES_TRBICGC_GBM56.txt |   4 |  112 |  35.714286 |  28.00000 | 0.4870779 |   40 |  0 |  0 |   4.000 | 1.000 |   4 |   4.000 |  0.007 |  3.611 |  3.660 | 0.131 |  3.396 |  3.471 | 0.187 |\n",
       "\n"
      ],
      "text/plain": [
       "                                             TRB Reads CPKR       Average_reads\n",
       "batch1/mixcr/clones/CLONES_TRBICGC_GBM1.txt   30  649   46.224961  21.63333    \n",
       "batch1/mixcr/clones/CLONES_TRBICGC_GBM2.txt   37 1434   25.801953  38.75676    \n",
       "batch1/mixcr/clones/CLONES_TRBICGC_GBM28.txt  19  869   21.864212  45.73684    \n",
       "batch1/mixcr/clones/CLONES_TRBICGC_GBM32.txt 177 1938   91.331269  10.94915    \n",
       "batch1/mixcr/clones/CLONES_TRBICGC_GBM38.txt  11  615   17.886179  55.90909    \n",
       "batch1/mixcr/clones/CLONES_TRBICGC_GBM53.txt  17 2012    8.449304 118.35294    \n",
       "batch1/mixcr/clones/CLONES_TRBICGC_GBM58.txt 134 2076   64.547206  15.49254    \n",
       "batch1/mixcr/clones/CLONES_TRBICGC_GBM6.txt   32 1547   20.685197  48.34375    \n",
       "batch2/mixcr/clones/CLONES_TRBICGC_GBM4.txt    8   80  100.000000  10.00000    \n",
       "batch2/mixcr/clones/CLONES_TRBICGC_GBM56.txt   4  112   35.714286  28.00000    \n",
       "                                             VMR       Max_reads Singletons\n",
       "batch1/mixcr/clones/CLONES_TRBICGC_GBM1.txt  2.7320230  313       5        \n",
       "batch1/mixcr/clones/CLONES_TRBICGC_GBM2.txt  3.3840113  763       8        \n",
       "batch1/mixcr/clones/CLONES_TRBICGC_GBM28.txt 2.3790594  460       5        \n",
       "batch1/mixcr/clones/CLONES_TRBICGC_GBM32.txt 3.7159476  519      24        \n",
       "batch1/mixcr/clones/CLONES_TRBICGC_GBM38.txt 2.0584413  389       2        \n",
       "batch1/mixcr/clones/CLONES_TRBICGC_GBM53.txt 2.6796651 1304       3        \n",
       "batch1/mixcr/clones/CLONES_TRBICGC_GBM58.txt 3.2178316  549      13        \n",
       "batch1/mixcr/clones/CLONES_TRBICGC_GBM6.txt  3.0431747  790       4        \n",
       "batch2/mixcr/clones/CLONES_TRBICGC_GBM4.txt  0.6391959   18       2        \n",
       "batch2/mixcr/clones/CLONES_TRBICGC_GBM56.txt 0.4870779   40       0        \n",
       "                                             Doubletons qD      Sample_Coverage\n",
       "batch1/mixcr/clones/CLONES_TRBICGC_GBM1.txt   7          31.674 1.000          \n",
       "batch1/mixcr/clones/CLONES_TRBICGC_GBM2.txt   5          41.564 0.998          \n",
       "batch1/mixcr/clones/CLONES_TRBICGC_GBM28.txt  1          23.119 0.996          \n",
       "batch1/mixcr/clones/CLONES_TRBICGC_GBM32.txt 19         189.040 0.997          \n",
       "batch1/mixcr/clones/CLONES_TRBICGC_GBM38.txt  1          12.263 0.999          \n",
       "batch1/mixcr/clones/CLONES_TRBICGC_GBM53.txt  1          19.189 0.999          \n",
       "batch1/mixcr/clones/CLONES_TRBICGC_GBM58.txt  5         143.066 0.997          \n",
       "batch1/mixcr/clones/CLONES_TRBICGC_GBM6.txt   2          34.527 0.999          \n",
       "batch2/mixcr/clones/CLONES_TRBICGC_GBM4.txt   0           8.854 0.997          \n",
       "batch2/mixcr/clones/CLONES_TRBICGC_GBM56.txt  0           4.000 1.000          \n",
       "                                             observed_Richness\n",
       "batch1/mixcr/clones/CLONES_TRBICGC_GBM1.txt   30              \n",
       "batch1/mixcr/clones/CLONES_TRBICGC_GBM2.txt   37              \n",
       "batch1/mixcr/clones/CLONES_TRBICGC_GBM28.txt  19              \n",
       "batch1/mixcr/clones/CLONES_TRBICGC_GBM32.txt 177              \n",
       "batch1/mixcr/clones/CLONES_TRBICGC_GBM38.txt  11              \n",
       "batch1/mixcr/clones/CLONES_TRBICGC_GBM53.txt  17              \n",
       "batch1/mixcr/clones/CLONES_TRBICGC_GBM58.txt 134              \n",
       "batch1/mixcr/clones/CLONES_TRBICGC_GBM6.txt   32              \n",
       "batch2/mixcr/clones/CLONES_TRBICGC_GBM4.txt    8              \n",
       "batch2/mixcr/clones/CLONES_TRBICGC_GBM56.txt   4              \n",
       "                                             estimated_Richness SE_Richeness\n",
       "batch1/mixcr/clones/CLONES_TRBICGC_GBM1.txt   31.783             2.186      \n",
       "batch1/mixcr/clones/CLONES_TRBICGC_GBM2.txt   43.396             5.918      \n",
       "batch1/mixcr/clones/CLONES_TRBICGC_GBM28.txt  31.486            17.120      \n",
       "batch1/mixcr/clones/CLONES_TRBICGC_GBM32.txt 192.150             8.092      \n",
       "batch1/mixcr/clones/CLONES_TRBICGC_GBM38.txt  12.997             3.736      \n",
       "batch1/mixcr/clones/CLONES_TRBICGC_GBM53.txt  21.498             7.190      \n",
       "batch1/mixcr/clones/CLONES_TRBICGC_GBM58.txt 150.892            12.718      \n",
       "batch1/mixcr/clones/CLONES_TRBICGC_GBM6.txt   35.997             5.288      \n",
       "batch2/mixcr/clones/CLONES_TRBICGC_GBM4.txt    8.988             2.223      \n",
       "batch2/mixcr/clones/CLONES_TRBICGC_GBM56.txt   4.000             0.007      \n",
       "                                             observed_Shannon estimated_Shannon\n",
       "batch1/mixcr/clones/CLONES_TRBICGC_GBM1.txt   6.946            7.128           \n",
       "batch1/mixcr/clones/CLONES_TRBICGC_GBM2.txt   5.526            5.617           \n",
       "batch1/mixcr/clones/CLONES_TRBICGC_GBM28.txt  4.721            4.802           \n",
       "batch1/mixcr/clones/CLONES_TRBICGC_GBM32.txt 50.295           53.035           \n",
       "batch1/mixcr/clones/CLONES_TRBICGC_GBM38.txt  3.309            3.344           \n",
       "batch1/mixcr/clones/CLONES_TRBICGC_GBM53.txt  3.334            3.351           \n",
       "batch1/mixcr/clones/CLONES_TRBICGC_GBM58.txt 43.980           45.666           \n",
       "batch1/mixcr/clones/CLONES_TRBICGC_GBM6.txt   6.090            6.163           \n",
       "batch2/mixcr/clones/CLONES_TRBICGC_GBM4.txt   6.348            6.708           \n",
       "batch2/mixcr/clones/CLONES_TRBICGC_GBM56.txt  3.611            3.660           \n",
       "                                             SE_Shannon observed_Simpson\n",
       "batch1/mixcr/clones/CLONES_TRBICGC_GBM1.txt  0.392       3.652          \n",
       "batch1/mixcr/clones/CLONES_TRBICGC_GBM2.txt  0.218       3.047          \n",
       "batch1/mixcr/clones/CLONES_TRBICGC_GBM28.txt 0.214       2.986          \n",
       "batch1/mixcr/clones/CLONES_TRBICGC_GBM32.txt 2.356      12.016          \n",
       "batch1/mixcr/clones/CLONES_TRBICGC_GBM38.txt 0.148       2.267          \n",
       "batch1/mixcr/clones/CLONES_TRBICGC_GBM53.txt 0.092       2.191          \n",
       "batch1/mixcr/clones/CLONES_TRBICGC_GBM58.txt 1.666      11.882          \n",
       "batch1/mixcr/clones/CLONES_TRBICGC_GBM6.txt  0.264       3.209          \n",
       "batch2/mixcr/clones/CLONES_TRBICGC_GBM4.txt  0.322       5.893          \n",
       "batch2/mixcr/clones/CLONES_TRBICGC_GBM56.txt 0.131       3.396          \n",
       "                                             estimated_Simpson SE_Simpson\n",
       "batch1/mixcr/clones/CLONES_TRBICGC_GBM1.txt   3.667            0.210     \n",
       "batch1/mixcr/clones/CLONES_TRBICGC_GBM2.txt   3.052            0.110     \n",
       "batch1/mixcr/clones/CLONES_TRBICGC_GBM28.txt  2.993            0.123     \n",
       "batch1/mixcr/clones/CLONES_TRBICGC_GBM32.txt 12.085            0.773     \n",
       "batch1/mixcr/clones/CLONES_TRBICGC_GBM38.txt  2.272            0.111     \n",
       "batch1/mixcr/clones/CLONES_TRBICGC_GBM53.txt  2.193            0.056     \n",
       "batch1/mixcr/clones/CLONES_TRBICGC_GBM58.txt 11.945            0.683     \n",
       "batch1/mixcr/clones/CLONES_TRBICGC_GBM6.txt   3.214            0.115     \n",
       "batch2/mixcr/clones/CLONES_TRBICGC_GBM4.txt   6.282            0.433     \n",
       "batch2/mixcr/clones/CLONES_TRBICGC_GBM56.txt  3.471            0.187     "
      ]
     },
     "metadata": {},
     "output_type": "display_data"
    }
   ],
   "source": [
    "div_trb_icgc_cap"
   ]
  },
  {
   "cell_type": "code",
   "execution_count": 59,
   "metadata": {},
   "outputs": [],
   "source": [
    "save(div_trb_icgc_cap, file = paste0(datapath, \"diversity/div_trb_icgc_cap.RData\"))"
   ]
  },
  {
   "cell_type": "code",
   "execution_count": 60,
   "metadata": {},
   "outputs": [],
   "source": [
    "div_trb_icgc_cap <- as.data.frame(div_trb_icgc_cap)"
   ]
  },
  {
   "cell_type": "code",
   "execution_count": 61,
   "metadata": {},
   "outputs": [],
   "source": [
    "div_trb_icgc_cap$sample_id <- gsub(\".*TRB\", \"\", rownames(div_trb_icgc_cap))\n",
    "\n",
    "div_trb_icgc_cap$sample_id <- gsub(\".txt\", \"\", div_trb_icgc_cap$sample_id)"
   ]
  },
  {
   "cell_type": "code",
   "execution_count": 62,
   "metadata": {},
   "outputs": [
    {
     "data": {
      "text/html": [
       "<table class=\"dataframe\">\n",
       "<caption>A data.frame: 10 × 20</caption>\n",
       "<thead>\n",
       "\t<tr><th></th><th scope=col>TRB</th><th scope=col>Reads</th><th scope=col>CPKR</th><th scope=col>Average_reads</th><th scope=col>VMR</th><th scope=col>Max_reads</th><th scope=col>Singletons</th><th scope=col>Doubletons</th><th scope=col>qD</th><th scope=col>Sample_Coverage</th><th scope=col>observed_Richness</th><th scope=col>estimated_Richness</th><th scope=col>SE_Richeness</th><th scope=col>observed_Shannon</th><th scope=col>estimated_Shannon</th><th scope=col>SE_Shannon</th><th scope=col>observed_Simpson</th><th scope=col>estimated_Simpson</th><th scope=col>SE_Simpson</th><th scope=col>sample_id</th></tr>\n",
       "\t<tr><th></th><th scope=col>&lt;dbl&gt;</th><th scope=col>&lt;dbl&gt;</th><th scope=col>&lt;dbl&gt;</th><th scope=col>&lt;dbl&gt;</th><th scope=col>&lt;dbl&gt;</th><th scope=col>&lt;dbl&gt;</th><th scope=col>&lt;dbl&gt;</th><th scope=col>&lt;dbl&gt;</th><th scope=col>&lt;dbl&gt;</th><th scope=col>&lt;dbl&gt;</th><th scope=col>&lt;dbl&gt;</th><th scope=col>&lt;dbl&gt;</th><th scope=col>&lt;dbl&gt;</th><th scope=col>&lt;dbl&gt;</th><th scope=col>&lt;dbl&gt;</th><th scope=col>&lt;dbl&gt;</th><th scope=col>&lt;dbl&gt;</th><th scope=col>&lt;dbl&gt;</th><th scope=col>&lt;dbl&gt;</th><th scope=col>&lt;chr&gt;</th></tr>\n",
       "</thead>\n",
       "<tbody>\n",
       "\t<tr><th scope=row>batch1/mixcr/clones/CLONES_TRBICGC_GBM1.txt</th><td> 30</td><td> 649</td><td> 46.224961</td><td> 21.63333</td><td>2.7320230</td><td> 313</td><td> 5</td><td> 7</td><td> 31.674</td><td>1.000</td><td> 30</td><td> 31.783</td><td> 2.186</td><td> 6.946</td><td> 7.128</td><td>0.392</td><td> 3.652</td><td> 3.667</td><td>0.210</td><td>ICGC_GBM1 </td></tr>\n",
       "\t<tr><th scope=row>batch1/mixcr/clones/CLONES_TRBICGC_GBM2.txt</th><td> 37</td><td>1434</td><td> 25.801953</td><td> 38.75676</td><td>3.3840113</td><td> 763</td><td> 8</td><td> 5</td><td> 41.564</td><td>0.998</td><td> 37</td><td> 43.396</td><td> 5.918</td><td> 5.526</td><td> 5.617</td><td>0.218</td><td> 3.047</td><td> 3.052</td><td>0.110</td><td>ICGC_GBM2 </td></tr>\n",
       "\t<tr><th scope=row>batch1/mixcr/clones/CLONES_TRBICGC_GBM28.txt</th><td> 19</td><td> 869</td><td> 21.864212</td><td> 45.73684</td><td>2.3790594</td><td> 460</td><td> 5</td><td> 1</td><td> 23.119</td><td>0.996</td><td> 19</td><td> 31.486</td><td>17.120</td><td> 4.721</td><td> 4.802</td><td>0.214</td><td> 2.986</td><td> 2.993</td><td>0.123</td><td>ICGC_GBM28</td></tr>\n",
       "\t<tr><th scope=row>batch1/mixcr/clones/CLONES_TRBICGC_GBM32.txt</th><td>177</td><td>1938</td><td> 91.331269</td><td> 10.94915</td><td>3.7159476</td><td> 519</td><td>24</td><td>19</td><td>189.040</td><td>0.997</td><td>177</td><td>192.150</td><td> 8.092</td><td>50.295</td><td>53.035</td><td>2.356</td><td>12.016</td><td>12.085</td><td>0.773</td><td>ICGC_GBM32</td></tr>\n",
       "\t<tr><th scope=row>batch1/mixcr/clones/CLONES_TRBICGC_GBM38.txt</th><td> 11</td><td> 615</td><td> 17.886179</td><td> 55.90909</td><td>2.0584413</td><td> 389</td><td> 2</td><td> 1</td><td> 12.263</td><td>0.999</td><td> 11</td><td> 12.997</td><td> 3.736</td><td> 3.309</td><td> 3.344</td><td>0.148</td><td> 2.267</td><td> 2.272</td><td>0.111</td><td>ICGC_GBM38</td></tr>\n",
       "\t<tr><th scope=row>batch1/mixcr/clones/CLONES_TRBICGC_GBM53.txt</th><td> 17</td><td>2012</td><td>  8.449304</td><td>118.35294</td><td>2.6796651</td><td>1304</td><td> 3</td><td> 1</td><td> 19.189</td><td>0.999</td><td> 17</td><td> 21.498</td><td> 7.190</td><td> 3.334</td><td> 3.351</td><td>0.092</td><td> 2.191</td><td> 2.193</td><td>0.056</td><td>ICGC_GBM53</td></tr>\n",
       "\t<tr><th scope=row>batch1/mixcr/clones/CLONES_TRBICGC_GBM58.txt</th><td>134</td><td>2076</td><td> 64.547206</td><td> 15.49254</td><td>3.2178316</td><td> 549</td><td>13</td><td> 5</td><td>143.066</td><td>0.997</td><td>134</td><td>150.892</td><td>12.718</td><td>43.980</td><td>45.666</td><td>1.666</td><td>11.882</td><td>11.945</td><td>0.683</td><td>ICGC_GBM58</td></tr>\n",
       "\t<tr><th scope=row>batch1/mixcr/clones/CLONES_TRBICGC_GBM6.txt</th><td> 32</td><td>1547</td><td> 20.685197</td><td> 48.34375</td><td>3.0431747</td><td> 790</td><td> 4</td><td> 2</td><td> 34.527</td><td>0.999</td><td> 32</td><td> 35.997</td><td> 5.288</td><td> 6.090</td><td> 6.163</td><td>0.264</td><td> 3.209</td><td> 3.214</td><td>0.115</td><td>ICGC_GBM6 </td></tr>\n",
       "\t<tr><th scope=row>batch2/mixcr/clones/CLONES_TRBICGC_GBM4.txt</th><td>  8</td><td>  80</td><td>100.000000</td><td> 10.00000</td><td>0.6391959</td><td>  18</td><td> 2</td><td> 0</td><td>  8.854</td><td>0.997</td><td>  8</td><td>  8.988</td><td> 2.223</td><td> 6.348</td><td> 6.708</td><td>0.322</td><td> 5.893</td><td> 6.282</td><td>0.433</td><td>ICGC_GBM4 </td></tr>\n",
       "\t<tr><th scope=row>batch2/mixcr/clones/CLONES_TRBICGC_GBM56.txt</th><td>  4</td><td> 112</td><td> 35.714286</td><td> 28.00000</td><td>0.4870779</td><td>  40</td><td> 0</td><td> 0</td><td>  4.000</td><td>1.000</td><td>  4</td><td>  4.000</td><td> 0.007</td><td> 3.611</td><td> 3.660</td><td>0.131</td><td> 3.396</td><td> 3.471</td><td>0.187</td><td>ICGC_GBM56</td></tr>\n",
       "</tbody>\n",
       "</table>\n"
      ],
      "text/latex": [
       "A data.frame: 10 × 20\n",
       "\\begin{tabular}{r|llllllllllllllllllll}\n",
       "  & TRB & Reads & CPKR & Average\\_reads & VMR & Max\\_reads & Singletons & Doubletons & qD & Sample\\_Coverage & observed\\_Richness & estimated\\_Richness & SE\\_Richeness & observed\\_Shannon & estimated\\_Shannon & SE\\_Shannon & observed\\_Simpson & estimated\\_Simpson & SE\\_Simpson & sample\\_id\\\\\n",
       "  & <dbl> & <dbl> & <dbl> & <dbl> & <dbl> & <dbl> & <dbl> & <dbl> & <dbl> & <dbl> & <dbl> & <dbl> & <dbl> & <dbl> & <dbl> & <dbl> & <dbl> & <dbl> & <dbl> & <chr>\\\\\n",
       "\\hline\n",
       "\tbatch1/mixcr/clones/CLONES\\_TRBICGC\\_GBM1.txt &  30 &  649 &  46.224961 &  21.63333 & 2.7320230 &  313 &  5 &  7 &  31.674 & 1.000 &  30 &  31.783 &  2.186 &  6.946 &  7.128 & 0.392 &  3.652 &  3.667 & 0.210 & ICGC\\_GBM1 \\\\\n",
       "\tbatch1/mixcr/clones/CLONES\\_TRBICGC\\_GBM2.txt &  37 & 1434 &  25.801953 &  38.75676 & 3.3840113 &  763 &  8 &  5 &  41.564 & 0.998 &  37 &  43.396 &  5.918 &  5.526 &  5.617 & 0.218 &  3.047 &  3.052 & 0.110 & ICGC\\_GBM2 \\\\\n",
       "\tbatch1/mixcr/clones/CLONES\\_TRBICGC\\_GBM28.txt &  19 &  869 &  21.864212 &  45.73684 & 2.3790594 &  460 &  5 &  1 &  23.119 & 0.996 &  19 &  31.486 & 17.120 &  4.721 &  4.802 & 0.214 &  2.986 &  2.993 & 0.123 & ICGC\\_GBM28\\\\\n",
       "\tbatch1/mixcr/clones/CLONES\\_TRBICGC\\_GBM32.txt & 177 & 1938 &  91.331269 &  10.94915 & 3.7159476 &  519 & 24 & 19 & 189.040 & 0.997 & 177 & 192.150 &  8.092 & 50.295 & 53.035 & 2.356 & 12.016 & 12.085 & 0.773 & ICGC\\_GBM32\\\\\n",
       "\tbatch1/mixcr/clones/CLONES\\_TRBICGC\\_GBM38.txt &  11 &  615 &  17.886179 &  55.90909 & 2.0584413 &  389 &  2 &  1 &  12.263 & 0.999 &  11 &  12.997 &  3.736 &  3.309 &  3.344 & 0.148 &  2.267 &  2.272 & 0.111 & ICGC\\_GBM38\\\\\n",
       "\tbatch1/mixcr/clones/CLONES\\_TRBICGC\\_GBM53.txt &  17 & 2012 &   8.449304 & 118.35294 & 2.6796651 & 1304 &  3 &  1 &  19.189 & 0.999 &  17 &  21.498 &  7.190 &  3.334 &  3.351 & 0.092 &  2.191 &  2.193 & 0.056 & ICGC\\_GBM53\\\\\n",
       "\tbatch1/mixcr/clones/CLONES\\_TRBICGC\\_GBM58.txt & 134 & 2076 &  64.547206 &  15.49254 & 3.2178316 &  549 & 13 &  5 & 143.066 & 0.997 & 134 & 150.892 & 12.718 & 43.980 & 45.666 & 1.666 & 11.882 & 11.945 & 0.683 & ICGC\\_GBM58\\\\\n",
       "\tbatch1/mixcr/clones/CLONES\\_TRBICGC\\_GBM6.txt &  32 & 1547 &  20.685197 &  48.34375 & 3.0431747 &  790 &  4 &  2 &  34.527 & 0.999 &  32 &  35.997 &  5.288 &  6.090 &  6.163 & 0.264 &  3.209 &  3.214 & 0.115 & ICGC\\_GBM6 \\\\\n",
       "\tbatch2/mixcr/clones/CLONES\\_TRBICGC\\_GBM4.txt &   8 &   80 & 100.000000 &  10.00000 & 0.6391959 &   18 &  2 &  0 &   8.854 & 0.997 &   8 &   8.988 &  2.223 &  6.348 &  6.708 & 0.322 &  5.893 &  6.282 & 0.433 & ICGC\\_GBM4 \\\\\n",
       "\tbatch2/mixcr/clones/CLONES\\_TRBICGC\\_GBM56.txt &   4 &  112 &  35.714286 &  28.00000 & 0.4870779 &   40 &  0 &  0 &   4.000 & 1.000 &   4 &   4.000 &  0.007 &  3.611 &  3.660 & 0.131 &  3.396 &  3.471 & 0.187 & ICGC\\_GBM56\\\\\n",
       "\\end{tabular}\n"
      ],
      "text/markdown": [
       "\n",
       "A data.frame: 10 × 20\n",
       "\n",
       "| <!--/--> | TRB &lt;dbl&gt; | Reads &lt;dbl&gt; | CPKR &lt;dbl&gt; | Average_reads &lt;dbl&gt; | VMR &lt;dbl&gt; | Max_reads &lt;dbl&gt; | Singletons &lt;dbl&gt; | Doubletons &lt;dbl&gt; | qD &lt;dbl&gt; | Sample_Coverage &lt;dbl&gt; | observed_Richness &lt;dbl&gt; | estimated_Richness &lt;dbl&gt; | SE_Richeness &lt;dbl&gt; | observed_Shannon &lt;dbl&gt; | estimated_Shannon &lt;dbl&gt; | SE_Shannon &lt;dbl&gt; | observed_Simpson &lt;dbl&gt; | estimated_Simpson &lt;dbl&gt; | SE_Simpson &lt;dbl&gt; | sample_id &lt;chr&gt; |\n",
       "|---|---|---|---|---|---|---|---|---|---|---|---|---|---|---|---|---|---|---|---|---|\n",
       "| batch1/mixcr/clones/CLONES_TRBICGC_GBM1.txt |  30 |  649 |  46.224961 |  21.63333 | 2.7320230 |  313 |  5 |  7 |  31.674 | 1.000 |  30 |  31.783 |  2.186 |  6.946 |  7.128 | 0.392 |  3.652 |  3.667 | 0.210 | ICGC_GBM1  |\n",
       "| batch1/mixcr/clones/CLONES_TRBICGC_GBM2.txt |  37 | 1434 |  25.801953 |  38.75676 | 3.3840113 |  763 |  8 |  5 |  41.564 | 0.998 |  37 |  43.396 |  5.918 |  5.526 |  5.617 | 0.218 |  3.047 |  3.052 | 0.110 | ICGC_GBM2  |\n",
       "| batch1/mixcr/clones/CLONES_TRBICGC_GBM28.txt |  19 |  869 |  21.864212 |  45.73684 | 2.3790594 |  460 |  5 |  1 |  23.119 | 0.996 |  19 |  31.486 | 17.120 |  4.721 |  4.802 | 0.214 |  2.986 |  2.993 | 0.123 | ICGC_GBM28 |\n",
       "| batch1/mixcr/clones/CLONES_TRBICGC_GBM32.txt | 177 | 1938 |  91.331269 |  10.94915 | 3.7159476 |  519 | 24 | 19 | 189.040 | 0.997 | 177 | 192.150 |  8.092 | 50.295 | 53.035 | 2.356 | 12.016 | 12.085 | 0.773 | ICGC_GBM32 |\n",
       "| batch1/mixcr/clones/CLONES_TRBICGC_GBM38.txt |  11 |  615 |  17.886179 |  55.90909 | 2.0584413 |  389 |  2 |  1 |  12.263 | 0.999 |  11 |  12.997 |  3.736 |  3.309 |  3.344 | 0.148 |  2.267 |  2.272 | 0.111 | ICGC_GBM38 |\n",
       "| batch1/mixcr/clones/CLONES_TRBICGC_GBM53.txt |  17 | 2012 |   8.449304 | 118.35294 | 2.6796651 | 1304 |  3 |  1 |  19.189 | 0.999 |  17 |  21.498 |  7.190 |  3.334 |  3.351 | 0.092 |  2.191 |  2.193 | 0.056 | ICGC_GBM53 |\n",
       "| batch1/mixcr/clones/CLONES_TRBICGC_GBM58.txt | 134 | 2076 |  64.547206 |  15.49254 | 3.2178316 |  549 | 13 |  5 | 143.066 | 0.997 | 134 | 150.892 | 12.718 | 43.980 | 45.666 | 1.666 | 11.882 | 11.945 | 0.683 | ICGC_GBM58 |\n",
       "| batch1/mixcr/clones/CLONES_TRBICGC_GBM6.txt |  32 | 1547 |  20.685197 |  48.34375 | 3.0431747 |  790 |  4 |  2 |  34.527 | 0.999 |  32 |  35.997 |  5.288 |  6.090 |  6.163 | 0.264 |  3.209 |  3.214 | 0.115 | ICGC_GBM6  |\n",
       "| batch2/mixcr/clones/CLONES_TRBICGC_GBM4.txt |   8 |   80 | 100.000000 |  10.00000 | 0.6391959 |   18 |  2 |  0 |   8.854 | 0.997 |   8 |   8.988 |  2.223 |  6.348 |  6.708 | 0.322 |  5.893 |  6.282 | 0.433 | ICGC_GBM4  |\n",
       "| batch2/mixcr/clones/CLONES_TRBICGC_GBM56.txt |   4 |  112 |  35.714286 |  28.00000 | 0.4870779 |   40 |  0 |  0 |   4.000 | 1.000 |   4 |   4.000 |  0.007 |  3.611 |  3.660 | 0.131 |  3.396 |  3.471 | 0.187 | ICGC_GBM56 |\n",
       "\n"
      ],
      "text/plain": [
       "                                             TRB Reads CPKR       Average_reads\n",
       "batch1/mixcr/clones/CLONES_TRBICGC_GBM1.txt   30  649   46.224961  21.63333    \n",
       "batch1/mixcr/clones/CLONES_TRBICGC_GBM2.txt   37 1434   25.801953  38.75676    \n",
       "batch1/mixcr/clones/CLONES_TRBICGC_GBM28.txt  19  869   21.864212  45.73684    \n",
       "batch1/mixcr/clones/CLONES_TRBICGC_GBM32.txt 177 1938   91.331269  10.94915    \n",
       "batch1/mixcr/clones/CLONES_TRBICGC_GBM38.txt  11  615   17.886179  55.90909    \n",
       "batch1/mixcr/clones/CLONES_TRBICGC_GBM53.txt  17 2012    8.449304 118.35294    \n",
       "batch1/mixcr/clones/CLONES_TRBICGC_GBM58.txt 134 2076   64.547206  15.49254    \n",
       "batch1/mixcr/clones/CLONES_TRBICGC_GBM6.txt   32 1547   20.685197  48.34375    \n",
       "batch2/mixcr/clones/CLONES_TRBICGC_GBM4.txt    8   80  100.000000  10.00000    \n",
       "batch2/mixcr/clones/CLONES_TRBICGC_GBM56.txt   4  112   35.714286  28.00000    \n",
       "                                             VMR       Max_reads Singletons\n",
       "batch1/mixcr/clones/CLONES_TRBICGC_GBM1.txt  2.7320230  313       5        \n",
       "batch1/mixcr/clones/CLONES_TRBICGC_GBM2.txt  3.3840113  763       8        \n",
       "batch1/mixcr/clones/CLONES_TRBICGC_GBM28.txt 2.3790594  460       5        \n",
       "batch1/mixcr/clones/CLONES_TRBICGC_GBM32.txt 3.7159476  519      24        \n",
       "batch1/mixcr/clones/CLONES_TRBICGC_GBM38.txt 2.0584413  389       2        \n",
       "batch1/mixcr/clones/CLONES_TRBICGC_GBM53.txt 2.6796651 1304       3        \n",
       "batch1/mixcr/clones/CLONES_TRBICGC_GBM58.txt 3.2178316  549      13        \n",
       "batch1/mixcr/clones/CLONES_TRBICGC_GBM6.txt  3.0431747  790       4        \n",
       "batch2/mixcr/clones/CLONES_TRBICGC_GBM4.txt  0.6391959   18       2        \n",
       "batch2/mixcr/clones/CLONES_TRBICGC_GBM56.txt 0.4870779   40       0        \n",
       "                                             Doubletons qD      Sample_Coverage\n",
       "batch1/mixcr/clones/CLONES_TRBICGC_GBM1.txt   7          31.674 1.000          \n",
       "batch1/mixcr/clones/CLONES_TRBICGC_GBM2.txt   5          41.564 0.998          \n",
       "batch1/mixcr/clones/CLONES_TRBICGC_GBM28.txt  1          23.119 0.996          \n",
       "batch1/mixcr/clones/CLONES_TRBICGC_GBM32.txt 19         189.040 0.997          \n",
       "batch1/mixcr/clones/CLONES_TRBICGC_GBM38.txt  1          12.263 0.999          \n",
       "batch1/mixcr/clones/CLONES_TRBICGC_GBM53.txt  1          19.189 0.999          \n",
       "batch1/mixcr/clones/CLONES_TRBICGC_GBM58.txt  5         143.066 0.997          \n",
       "batch1/mixcr/clones/CLONES_TRBICGC_GBM6.txt   2          34.527 0.999          \n",
       "batch2/mixcr/clones/CLONES_TRBICGC_GBM4.txt   0           8.854 0.997          \n",
       "batch2/mixcr/clones/CLONES_TRBICGC_GBM56.txt  0           4.000 1.000          \n",
       "                                             observed_Richness\n",
       "batch1/mixcr/clones/CLONES_TRBICGC_GBM1.txt   30              \n",
       "batch1/mixcr/clones/CLONES_TRBICGC_GBM2.txt   37              \n",
       "batch1/mixcr/clones/CLONES_TRBICGC_GBM28.txt  19              \n",
       "batch1/mixcr/clones/CLONES_TRBICGC_GBM32.txt 177              \n",
       "batch1/mixcr/clones/CLONES_TRBICGC_GBM38.txt  11              \n",
       "batch1/mixcr/clones/CLONES_TRBICGC_GBM53.txt  17              \n",
       "batch1/mixcr/clones/CLONES_TRBICGC_GBM58.txt 134              \n",
       "batch1/mixcr/clones/CLONES_TRBICGC_GBM6.txt   32              \n",
       "batch2/mixcr/clones/CLONES_TRBICGC_GBM4.txt    8              \n",
       "batch2/mixcr/clones/CLONES_TRBICGC_GBM56.txt   4              \n",
       "                                             estimated_Richness SE_Richeness\n",
       "batch1/mixcr/clones/CLONES_TRBICGC_GBM1.txt   31.783             2.186      \n",
       "batch1/mixcr/clones/CLONES_TRBICGC_GBM2.txt   43.396             5.918      \n",
       "batch1/mixcr/clones/CLONES_TRBICGC_GBM28.txt  31.486            17.120      \n",
       "batch1/mixcr/clones/CLONES_TRBICGC_GBM32.txt 192.150             8.092      \n",
       "batch1/mixcr/clones/CLONES_TRBICGC_GBM38.txt  12.997             3.736      \n",
       "batch1/mixcr/clones/CLONES_TRBICGC_GBM53.txt  21.498             7.190      \n",
       "batch1/mixcr/clones/CLONES_TRBICGC_GBM58.txt 150.892            12.718      \n",
       "batch1/mixcr/clones/CLONES_TRBICGC_GBM6.txt   35.997             5.288      \n",
       "batch2/mixcr/clones/CLONES_TRBICGC_GBM4.txt    8.988             2.223      \n",
       "batch2/mixcr/clones/CLONES_TRBICGC_GBM56.txt   4.000             0.007      \n",
       "                                             observed_Shannon estimated_Shannon\n",
       "batch1/mixcr/clones/CLONES_TRBICGC_GBM1.txt   6.946            7.128           \n",
       "batch1/mixcr/clones/CLONES_TRBICGC_GBM2.txt   5.526            5.617           \n",
       "batch1/mixcr/clones/CLONES_TRBICGC_GBM28.txt  4.721            4.802           \n",
       "batch1/mixcr/clones/CLONES_TRBICGC_GBM32.txt 50.295           53.035           \n",
       "batch1/mixcr/clones/CLONES_TRBICGC_GBM38.txt  3.309            3.344           \n",
       "batch1/mixcr/clones/CLONES_TRBICGC_GBM53.txt  3.334            3.351           \n",
       "batch1/mixcr/clones/CLONES_TRBICGC_GBM58.txt 43.980           45.666           \n",
       "batch1/mixcr/clones/CLONES_TRBICGC_GBM6.txt   6.090            6.163           \n",
       "batch2/mixcr/clones/CLONES_TRBICGC_GBM4.txt   6.348            6.708           \n",
       "batch2/mixcr/clones/CLONES_TRBICGC_GBM56.txt  3.611            3.660           \n",
       "                                             SE_Shannon observed_Simpson\n",
       "batch1/mixcr/clones/CLONES_TRBICGC_GBM1.txt  0.392       3.652          \n",
       "batch1/mixcr/clones/CLONES_TRBICGC_GBM2.txt  0.218       3.047          \n",
       "batch1/mixcr/clones/CLONES_TRBICGC_GBM28.txt 0.214       2.986          \n",
       "batch1/mixcr/clones/CLONES_TRBICGC_GBM32.txt 2.356      12.016          \n",
       "batch1/mixcr/clones/CLONES_TRBICGC_GBM38.txt 0.148       2.267          \n",
       "batch1/mixcr/clones/CLONES_TRBICGC_GBM53.txt 0.092       2.191          \n",
       "batch1/mixcr/clones/CLONES_TRBICGC_GBM58.txt 1.666      11.882          \n",
       "batch1/mixcr/clones/CLONES_TRBICGC_GBM6.txt  0.264       3.209          \n",
       "batch2/mixcr/clones/CLONES_TRBICGC_GBM4.txt  0.322       5.893          \n",
       "batch2/mixcr/clones/CLONES_TRBICGC_GBM56.txt 0.131       3.396          \n",
       "                                             estimated_Simpson SE_Simpson\n",
       "batch1/mixcr/clones/CLONES_TRBICGC_GBM1.txt   3.667            0.210     \n",
       "batch1/mixcr/clones/CLONES_TRBICGC_GBM2.txt   3.052            0.110     \n",
       "batch1/mixcr/clones/CLONES_TRBICGC_GBM28.txt  2.993            0.123     \n",
       "batch1/mixcr/clones/CLONES_TRBICGC_GBM32.txt 12.085            0.773     \n",
       "batch1/mixcr/clones/CLONES_TRBICGC_GBM38.txt  2.272            0.111     \n",
       "batch1/mixcr/clones/CLONES_TRBICGC_GBM53.txt  2.193            0.056     \n",
       "batch1/mixcr/clones/CLONES_TRBICGC_GBM58.txt 11.945            0.683     \n",
       "batch1/mixcr/clones/CLONES_TRBICGC_GBM6.txt   3.214            0.115     \n",
       "batch2/mixcr/clones/CLONES_TRBICGC_GBM4.txt   6.282            0.433     \n",
       "batch2/mixcr/clones/CLONES_TRBICGC_GBM56.txt  3.471            0.187     \n",
       "                                             sample_id \n",
       "batch1/mixcr/clones/CLONES_TRBICGC_GBM1.txt  ICGC_GBM1 \n",
       "batch1/mixcr/clones/CLONES_TRBICGC_GBM2.txt  ICGC_GBM2 \n",
       "batch1/mixcr/clones/CLONES_TRBICGC_GBM28.txt ICGC_GBM28\n",
       "batch1/mixcr/clones/CLONES_TRBICGC_GBM32.txt ICGC_GBM32\n",
       "batch1/mixcr/clones/CLONES_TRBICGC_GBM38.txt ICGC_GBM38\n",
       "batch1/mixcr/clones/CLONES_TRBICGC_GBM53.txt ICGC_GBM53\n",
       "batch1/mixcr/clones/CLONES_TRBICGC_GBM58.txt ICGC_GBM58\n",
       "batch1/mixcr/clones/CLONES_TRBICGC_GBM6.txt  ICGC_GBM6 \n",
       "batch2/mixcr/clones/CLONES_TRBICGC_GBM4.txt  ICGC_GBM4 \n",
       "batch2/mixcr/clones/CLONES_TRBICGC_GBM56.txt ICGC_GBM56"
      ]
     },
     "metadata": {},
     "output_type": "display_data"
    }
   ],
   "source": [
    "div_trb_icgc_cap"
   ]
  },
  {
   "cell_type": "markdown",
   "metadata": {},
   "source": [
    "## Bind RNA and Cap"
   ]
  },
  {
   "cell_type": "code",
   "execution_count": 63,
   "metadata": {},
   "outputs": [],
   "source": [
    "load(file = paste0(datapath, \"diversity/metadata_IC_TRB.RData\"))"
   ]
  },
  {
   "cell_type": "code",
   "execution_count": 64,
   "metadata": {},
   "outputs": [],
   "source": [
    "colnames(div_trb_icgc_cap)[1:ncol(div_trb_icgc_cap)-1] <-\n",
    "paste0(colnames(div_trb_icgc_cap)[1:ncol(div_trb_icgc_cap)-1], \"_TCRCap\")"
   ]
  },
  {
   "cell_type": "code",
   "execution_count": 65,
   "metadata": {},
   "outputs": [],
   "source": [
    "icgc_trb_rna <- metadata_IC_TRB[ metadata_IC_TRB$group == \"ICGC\",c(25:43,1)]"
   ]
  },
  {
   "cell_type": "code",
   "execution_count": 66,
   "metadata": {},
   "outputs": [],
   "source": [
    "colnames(icgc_trb_rna)[1:ncol(icgc_trb_rna)-1] <-\n",
    "paste0(colnames(icgc_trb_rna)[1:ncol(icgc_trb_rna)-1], \"_RNAseq\")"
   ]
  },
  {
   "cell_type": "code",
   "execution_count": 67,
   "metadata": {},
   "outputs": [],
   "source": [
    "div_trb_icgc_cap_rna <- merge(div_trb_icgc_cap,\n",
    "                                icgc_trb_rna, by = \"sample_id\")"
   ]
  },
  {
   "cell_type": "code",
   "execution_count": 68,
   "metadata": {},
   "outputs": [
    {
     "data": {
      "text/html": [
       "<style>\n",
       ".list-inline {list-style: none; margin:0; padding: 0}\n",
       ".list-inline>li {display: inline-block}\n",
       ".list-inline>li:not(:last-child)::after {content: \"\\00b7\"; padding: 0 .5ex}\n",
       "</style>\n",
       "<ol class=list-inline><li>4</li><li>39</li></ol>\n"
      ],
      "text/latex": [
       "\\begin{enumerate*}\n",
       "\\item 4\n",
       "\\item 39\n",
       "\\end{enumerate*}\n"
      ],
      "text/markdown": [
       "1. 4\n",
       "2. 39\n",
       "\n",
       "\n"
      ],
      "text/plain": [
       "[1]  4 39"
      ]
     },
     "metadata": {},
     "output_type": "display_data"
    }
   ],
   "source": [
    "dim(div_trb_icgc_cap_rna)"
   ]
  },
  {
   "cell_type": "markdown",
   "metadata": {},
   "source": [
    "# NPC"
   ]
  },
  {
   "cell_type": "markdown",
   "metadata": {},
   "source": [
    "## RNA"
   ]
  },
  {
   "cell_type": "code",
   "execution_count": 69,
   "metadata": {},
   "outputs": [],
   "source": [
    "npc_rna <- list.files(paste0(datapath, \"mixcr/NPC/clones/\"), pattern = \"CLONES_TRB\", recursive = T)"
   ]
  },
  {
   "cell_type": "code",
   "execution_count": 70,
   "metadata": {},
   "outputs": [],
   "source": [
    "trb_list_npc_rna <- immunelistfx(npc_rna, paste0(datapath, \"mixcr/NPC/clones/\"), \"TRB\")"
   ]
  },
  {
   "cell_type": "code",
   "execution_count": 71,
   "metadata": {},
   "outputs": [
    {
     "data": {
      "text/html": [
       "39"
      ],
      "text/latex": [
       "39"
      ],
      "text/markdown": [
       "39"
      ],
      "text/plain": [
       "[1] 39"
      ]
     },
     "metadata": {},
     "output_type": "display_data"
    }
   ],
   "source": [
    "trb_list_npc_rna <- trb_list_npc_rna[sapply(trb_list_npc_rna, function(x) length(unlist(x))) > 1] # remove files with one clonotype\n",
    "                            \n",
    "length(trb_list_npc_rna)"
   ]
  },
  {
   "cell_type": "code",
   "execution_count": 72,
   "metadata": {},
   "outputs": [],
   "source": [
    "trb_list_npc_rna <- trb_list_npc_rna[sapply(trb_list_npc_rna, function(x) var(unlist(x))) > 0] # remove files no variance                        "
   ]
  },
  {
   "cell_type": "code",
   "execution_count": 73,
   "metadata": {},
   "outputs": [
    {
     "data": {
      "text/html": [
       "38"
      ],
      "text/latex": [
       "38"
      ],
      "text/markdown": [
       "38"
      ],
      "text/plain": [
       "[1] 38"
      ]
     },
     "metadata": {},
     "output_type": "display_data"
    }
   ],
   "source": [
    "length(trb_list_npc_rna)"
   ]
  },
  {
   "cell_type": "code",
   "execution_count": 74,
   "metadata": {},
   "outputs": [],
   "source": [
    "div_trb_npc_rna <- Divstats.fx(trb_list_npc_rna, \"TRB\")"
   ]
  },
  {
   "cell_type": "code",
   "execution_count": 75,
   "metadata": {},
   "outputs": [
    {
     "data": {
      "text/html": [
       "<table class=\"dataframe\">\n",
       "<caption>A matrix: 6 × 19 of type dbl</caption>\n",
       "<thead>\n",
       "\t<tr><th></th><th scope=col>TRB</th><th scope=col>Reads</th><th scope=col>CPKR</th><th scope=col>Average_reads</th><th scope=col>VMR</th><th scope=col>Max_reads</th><th scope=col>Singletons</th><th scope=col>Doubletons</th><th scope=col>qD</th><th scope=col>Sample_Coverage</th><th scope=col>observed_Richness</th><th scope=col>estimated_Richness</th><th scope=col>SE_Richeness</th><th scope=col>observed_Shannon</th><th scope=col>estimated_Shannon</th><th scope=col>SE_Shannon</th><th scope=col>observed_Simpson</th><th scope=col>estimated_Simpson</th><th scope=col>SE_Simpson</th></tr>\n",
       "</thead>\n",
       "<tbody>\n",
       "\t<tr><th scope=row>CLONES_TRB104FF.txt</th><td> 3</td><td>24</td><td>125.0000</td><td>8.000000</td><td>0.3307189</td><td>11</td><td>0</td><td>0</td><td> 3.000</td><td>1.000</td><td> 3</td><td> 3.000</td><td>0.058</td><td> 2.897</td><td> 3.024</td><td>0.177</td><td> 2.796</td><td> 3.033</td><td>0.316</td></tr>\n",
       "\t<tr><th scope=row>CLONES_TRB107JP.txt</th><td>23</td><td>66</td><td>348.4848</td><td>2.869565</td><td>0.4734587</td><td> 5</td><td>4</td><td>6</td><td>24.246</td><td>0.997</td><td>23</td><td>24.313</td><td>1.823</td><td>20.578</td><td>25.014</td><td>1.881</td><td>18.939</td><td>26.159</td><td>2.443</td></tr>\n",
       "\t<tr><th scope=row>CLONES_TRB108W03.txt</th><td>19</td><td>52</td><td>365.3846</td><td>2.736842</td><td>0.5286810</td><td> 6</td><td>3</td><td>8</td><td>19.549</td><td>1.000</td><td>19</td><td>19.552</td><td>0.998</td><td>16.748</td><td>20.379</td><td>1.958</td><td>15.022</td><td>20.719</td><td>2.429</td></tr>\n",
       "\t<tr><th scope=row>CLONES_TRB10C02.txt</th><td> 7</td><td>17</td><td>411.7647</td><td>2.428571</td><td>0.7075145</td><td> 6</td><td>2</td><td>3</td><td> 7.594</td><td>0.995</td><td> 7</td><td> 7.627</td><td>1.243</td><td> 5.826</td><td> 7.292</td><td>1.657</td><td> 4.898</td><td> 6.476</td><td>1.926</td></tr>\n",
       "\t<tr><th scope=row>CLONES_TRB116JC.txt</th><td>16</td><td>57</td><td>280.7018</td><td>3.562500</td><td>0.5516700</td><td> 7</td><td>3</td><td>2</td><td>17.632</td><td>0.987</td><td>16</td><td>18.211</td><td>3.342</td><td>13.771</td><td>16.264</td><td>1.496</td><td>12.448</td><td>15.647</td><td>1.635</td></tr>\n",
       "\t<tr><th scope=row>CLONES_TRB119AY.txt</th><td>11</td><td>29</td><td>379.3103</td><td>2.636364</td><td>0.8183391</td><td> 8</td><td>4</td><td>3</td><td>13.008</td><td>0.971</td><td>11</td><td>13.575</td><td>3.378</td><td> 8.546</td><td>10.980</td><td>2.103</td><td> 6.837</td><td> 8.638</td><td>2.203</td></tr>\n",
       "</tbody>\n",
       "</table>\n"
      ],
      "text/latex": [
       "A matrix: 6 × 19 of type dbl\n",
       "\\begin{tabular}{r|lllllllllllllllllll}\n",
       "  & TRB & Reads & CPKR & Average\\_reads & VMR & Max\\_reads & Singletons & Doubletons & qD & Sample\\_Coverage & observed\\_Richness & estimated\\_Richness & SE\\_Richeness & observed\\_Shannon & estimated\\_Shannon & SE\\_Shannon & observed\\_Simpson & estimated\\_Simpson & SE\\_Simpson\\\\\n",
       "\\hline\n",
       "\tCLONES\\_TRB104FF.txt &  3 & 24 & 125.0000 & 8.000000 & 0.3307189 & 11 & 0 & 0 &  3.000 & 1.000 &  3 &  3.000 & 0.058 &  2.897 &  3.024 & 0.177 &  2.796 &  3.033 & 0.316\\\\\n",
       "\tCLONES\\_TRB107JP.txt & 23 & 66 & 348.4848 & 2.869565 & 0.4734587 &  5 & 4 & 6 & 24.246 & 0.997 & 23 & 24.313 & 1.823 & 20.578 & 25.014 & 1.881 & 18.939 & 26.159 & 2.443\\\\\n",
       "\tCLONES\\_TRB108W03.txt & 19 & 52 & 365.3846 & 2.736842 & 0.5286810 &  6 & 3 & 8 & 19.549 & 1.000 & 19 & 19.552 & 0.998 & 16.748 & 20.379 & 1.958 & 15.022 & 20.719 & 2.429\\\\\n",
       "\tCLONES\\_TRB10C02.txt &  7 & 17 & 411.7647 & 2.428571 & 0.7075145 &  6 & 2 & 3 &  7.594 & 0.995 &  7 &  7.627 & 1.243 &  5.826 &  7.292 & 1.657 &  4.898 &  6.476 & 1.926\\\\\n",
       "\tCLONES\\_TRB116JC.txt & 16 & 57 & 280.7018 & 3.562500 & 0.5516700 &  7 & 3 & 2 & 17.632 & 0.987 & 16 & 18.211 & 3.342 & 13.771 & 16.264 & 1.496 & 12.448 & 15.647 & 1.635\\\\\n",
       "\tCLONES\\_TRB119AY.txt & 11 & 29 & 379.3103 & 2.636364 & 0.8183391 &  8 & 4 & 3 & 13.008 & 0.971 & 11 & 13.575 & 3.378 &  8.546 & 10.980 & 2.103 &  6.837 &  8.638 & 2.203\\\\\n",
       "\\end{tabular}\n"
      ],
      "text/markdown": [
       "\n",
       "A matrix: 6 × 19 of type dbl\n",
       "\n",
       "| <!--/--> | TRB | Reads | CPKR | Average_reads | VMR | Max_reads | Singletons | Doubletons | qD | Sample_Coverage | observed_Richness | estimated_Richness | SE_Richeness | observed_Shannon | estimated_Shannon | SE_Shannon | observed_Simpson | estimated_Simpson | SE_Simpson |\n",
       "|---|---|---|---|---|---|---|---|---|---|---|---|---|---|---|---|---|---|---|---|\n",
       "| CLONES_TRB104FF.txt |  3 | 24 | 125.0000 | 8.000000 | 0.3307189 | 11 | 0 | 0 |  3.000 | 1.000 |  3 |  3.000 | 0.058 |  2.897 |  3.024 | 0.177 |  2.796 |  3.033 | 0.316 |\n",
       "| CLONES_TRB107JP.txt | 23 | 66 | 348.4848 | 2.869565 | 0.4734587 |  5 | 4 | 6 | 24.246 | 0.997 | 23 | 24.313 | 1.823 | 20.578 | 25.014 | 1.881 | 18.939 | 26.159 | 2.443 |\n",
       "| CLONES_TRB108W03.txt | 19 | 52 | 365.3846 | 2.736842 | 0.5286810 |  6 | 3 | 8 | 19.549 | 1.000 | 19 | 19.552 | 0.998 | 16.748 | 20.379 | 1.958 | 15.022 | 20.719 | 2.429 |\n",
       "| CLONES_TRB10C02.txt |  7 | 17 | 411.7647 | 2.428571 | 0.7075145 |  6 | 2 | 3 |  7.594 | 0.995 |  7 |  7.627 | 1.243 |  5.826 |  7.292 | 1.657 |  4.898 |  6.476 | 1.926 |\n",
       "| CLONES_TRB116JC.txt | 16 | 57 | 280.7018 | 3.562500 | 0.5516700 |  7 | 3 | 2 | 17.632 | 0.987 | 16 | 18.211 | 3.342 | 13.771 | 16.264 | 1.496 | 12.448 | 15.647 | 1.635 |\n",
       "| CLONES_TRB119AY.txt | 11 | 29 | 379.3103 | 2.636364 | 0.8183391 |  8 | 4 | 3 | 13.008 | 0.971 | 11 | 13.575 | 3.378 |  8.546 | 10.980 | 2.103 |  6.837 |  8.638 | 2.203 |\n",
       "\n"
      ],
      "text/plain": [
       "                     TRB Reads CPKR     Average_reads VMR       Max_reads\n",
       "CLONES_TRB104FF.txt   3  24    125.0000 8.000000      0.3307189 11       \n",
       "CLONES_TRB107JP.txt  23  66    348.4848 2.869565      0.4734587  5       \n",
       "CLONES_TRB108W03.txt 19  52    365.3846 2.736842      0.5286810  6       \n",
       "CLONES_TRB10C02.txt   7  17    411.7647 2.428571      0.7075145  6       \n",
       "CLONES_TRB116JC.txt  16  57    280.7018 3.562500      0.5516700  7       \n",
       "CLONES_TRB119AY.txt  11  29    379.3103 2.636364      0.8183391  8       \n",
       "                     Singletons Doubletons qD     Sample_Coverage\n",
       "CLONES_TRB104FF.txt  0          0           3.000 1.000          \n",
       "CLONES_TRB107JP.txt  4          6          24.246 0.997          \n",
       "CLONES_TRB108W03.txt 3          8          19.549 1.000          \n",
       "CLONES_TRB10C02.txt  2          3           7.594 0.995          \n",
       "CLONES_TRB116JC.txt  3          2          17.632 0.987          \n",
       "CLONES_TRB119AY.txt  4          3          13.008 0.971          \n",
       "                     observed_Richness estimated_Richness SE_Richeness\n",
       "CLONES_TRB104FF.txt   3                 3.000             0.058       \n",
       "CLONES_TRB107JP.txt  23                24.313             1.823       \n",
       "CLONES_TRB108W03.txt 19                19.552             0.998       \n",
       "CLONES_TRB10C02.txt   7                 7.627             1.243       \n",
       "CLONES_TRB116JC.txt  16                18.211             3.342       \n",
       "CLONES_TRB119AY.txt  11                13.575             3.378       \n",
       "                     observed_Shannon estimated_Shannon SE_Shannon\n",
       "CLONES_TRB104FF.txt   2.897            3.024            0.177     \n",
       "CLONES_TRB107JP.txt  20.578           25.014            1.881     \n",
       "CLONES_TRB108W03.txt 16.748           20.379            1.958     \n",
       "CLONES_TRB10C02.txt   5.826            7.292            1.657     \n",
       "CLONES_TRB116JC.txt  13.771           16.264            1.496     \n",
       "CLONES_TRB119AY.txt   8.546           10.980            2.103     \n",
       "                     observed_Simpson estimated_Simpson SE_Simpson\n",
       "CLONES_TRB104FF.txt   2.796            3.033            0.316     \n",
       "CLONES_TRB107JP.txt  18.939           26.159            2.443     \n",
       "CLONES_TRB108W03.txt 15.022           20.719            2.429     \n",
       "CLONES_TRB10C02.txt   4.898            6.476            1.926     \n",
       "CLONES_TRB116JC.txt  12.448           15.647            1.635     \n",
       "CLONES_TRB119AY.txt   6.837            8.638            2.203     "
      ]
     },
     "metadata": {},
     "output_type": "display_data"
    }
   ],
   "source": [
    "head(div_trb_npc_rna)"
   ]
  },
  {
   "cell_type": "code",
   "execution_count": 76,
   "metadata": {},
   "outputs": [],
   "source": [
    "save(div_trb_npc_rna, file = paste0(datapath, \"diversity/div_trb_npc_rna.RData\"))"
   ]
  },
  {
   "cell_type": "code",
   "execution_count": 77,
   "metadata": {},
   "outputs": [],
   "source": [
    "div_trb_npc_rna <- as.data.frame(div_trb_npc_rna)"
   ]
  },
  {
   "cell_type": "code",
   "execution_count": 78,
   "metadata": {},
   "outputs": [],
   "source": [
    "div_trb_npc_rna$sample_id <- gsub(\".*TRB\", \"\", rownames(div_trb_npc_rna))\n",
    "\n",
    "div_trb_npc_rna$sample_id <- gsub(\".txt\", \"\", div_trb_npc_rna$sample_id)"
   ]
  },
  {
   "cell_type": "code",
   "execution_count": 79,
   "metadata": {},
   "outputs": [
    {
     "data": {
      "text/html": [
       "<style>\n",
       ".list-inline {list-style: none; margin:0; padding: 0}\n",
       ".list-inline>li {display: inline-block}\n",
       ".list-inline>li:not(:last-child)::after {content: \"\\00b7\"; padding: 0 .5ex}\n",
       "</style>\n",
       "<ol class=list-inline><li>'104FF'</li><li>'107JP'</li><li>'108W03'</li><li>'10C02'</li><li>'116JC'</li><li>'119AY'</li><li>'119S01'</li><li>'12109'</li><li>'124M02'</li><li>'126Q03'</li><li>'130YL'</li><li>'133B01'</li><li>'14Y05'</li><li>'18W06'</li><li>'24VP'</li><li>'32S04'</li><li>'43K03'</li><li>'48S07'</li><li>'51M07'</li><li>'58C06'</li><li>'5Z05'</li><li>'60S03'</li><li>'68W02'</li><li>'70WS'</li><li>'72C06'</li><li>'73M07'</li><li>'79HZ'</li><li>'79L01'</li><li>'83CG'</li><li>'8C07'</li><li>'91MO'</li><li>'98KK'</li><li>'9AW'</li><li>'N1'</li><li>'N4'</li><li>'N5'</li><li>'N6'</li><li>'N7'</li></ol>\n"
      ],
      "text/latex": [
       "\\begin{enumerate*}\n",
       "\\item '104FF'\n",
       "\\item '107JP'\n",
       "\\item '108W03'\n",
       "\\item '10C02'\n",
       "\\item '116JC'\n",
       "\\item '119AY'\n",
       "\\item '119S01'\n",
       "\\item '12109'\n",
       "\\item '124M02'\n",
       "\\item '126Q03'\n",
       "\\item '130YL'\n",
       "\\item '133B01'\n",
       "\\item '14Y05'\n",
       "\\item '18W06'\n",
       "\\item '24VP'\n",
       "\\item '32S04'\n",
       "\\item '43K03'\n",
       "\\item '48S07'\n",
       "\\item '51M07'\n",
       "\\item '58C06'\n",
       "\\item '5Z05'\n",
       "\\item '60S03'\n",
       "\\item '68W02'\n",
       "\\item '70WS'\n",
       "\\item '72C06'\n",
       "\\item '73M07'\n",
       "\\item '79HZ'\n",
       "\\item '79L01'\n",
       "\\item '83CG'\n",
       "\\item '8C07'\n",
       "\\item '91MO'\n",
       "\\item '98KK'\n",
       "\\item '9AW'\n",
       "\\item 'N1'\n",
       "\\item 'N4'\n",
       "\\item 'N5'\n",
       "\\item 'N6'\n",
       "\\item 'N7'\n",
       "\\end{enumerate*}\n"
      ],
      "text/markdown": [
       "1. '104FF'\n",
       "2. '107JP'\n",
       "3. '108W03'\n",
       "4. '10C02'\n",
       "5. '116JC'\n",
       "6. '119AY'\n",
       "7. '119S01'\n",
       "8. '12109'\n",
       "9. '124M02'\n",
       "10. '126Q03'\n",
       "11. '130YL'\n",
       "12. '133B01'\n",
       "13. '14Y05'\n",
       "14. '18W06'\n",
       "15. '24VP'\n",
       "16. '32S04'\n",
       "17. '43K03'\n",
       "18. '48S07'\n",
       "19. '51M07'\n",
       "20. '58C06'\n",
       "21. '5Z05'\n",
       "22. '60S03'\n",
       "23. '68W02'\n",
       "24. '70WS'\n",
       "25. '72C06'\n",
       "26. '73M07'\n",
       "27. '79HZ'\n",
       "28. '79L01'\n",
       "29. '83CG'\n",
       "30. '8C07'\n",
       "31. '91MO'\n",
       "32. '98KK'\n",
       "33. '9AW'\n",
       "34. 'N1'\n",
       "35. 'N4'\n",
       "36. 'N5'\n",
       "37. 'N6'\n",
       "38. 'N7'\n",
       "\n",
       "\n"
      ],
      "text/plain": [
       " [1] \"104FF\"  \"107JP\"  \"108W03\" \"10C02\"  \"116JC\"  \"119AY\"  \"119S01\" \"12109\" \n",
       " [9] \"124M02\" \"126Q03\" \"130YL\"  \"133B01\" \"14Y05\"  \"18W06\"  \"24VP\"   \"32S04\" \n",
       "[17] \"43K03\"  \"48S07\"  \"51M07\"  \"58C06\"  \"5Z05\"   \"60S03\"  \"68W02\"  \"70WS\"  \n",
       "[25] \"72C06\"  \"73M07\"  \"79HZ\"   \"79L01\"  \"83CG\"   \"8C07\"   \"91MO\"   \"98KK\"  \n",
       "[33] \"9AW\"    \"N1\"     \"N4\"     \"N5\"     \"N6\"     \"N7\"    "
      ]
     },
     "metadata": {},
     "output_type": "display_data"
    }
   ],
   "source": [
    "div_trb_npc_rna$sample_id"
   ]
  },
  {
   "cell_type": "markdown",
   "metadata": {},
   "source": [
    "Remove normal tissues"
   ]
  },
  {
   "cell_type": "code",
   "execution_count": 80,
   "metadata": {},
   "outputs": [],
   "source": [
    "div_trb_npc_rna <- div_trb_npc_rna[!div_trb_npc_rna$sample_id %in% c(\"N1\", \"N4\", \"N5\", \"N6\", \"N7\"),]"
   ]
  },
  {
   "cell_type": "code",
   "execution_count": 81,
   "metadata": {},
   "outputs": [
    {
     "data": {
      "text/html": [
       "<style>\n",
       ".list-inline {list-style: none; margin:0; padding: 0}\n",
       ".list-inline>li {display: inline-block}\n",
       ".list-inline>li:not(:last-child)::after {content: \"\\00b7\"; padding: 0 .5ex}\n",
       "</style>\n",
       "<ol class=list-inline><li>33</li><li>20</li></ol>\n"
      ],
      "text/latex": [
       "\\begin{enumerate*}\n",
       "\\item 33\n",
       "\\item 20\n",
       "\\end{enumerate*}\n"
      ],
      "text/markdown": [
       "1. 33\n",
       "2. 20\n",
       "\n",
       "\n"
      ],
      "text/plain": [
       "[1] 33 20"
      ]
     },
     "metadata": {},
     "output_type": "display_data"
    }
   ],
   "source": [
    "dim(div_trb_npc_rna)"
   ]
  },
  {
   "cell_type": "markdown",
   "metadata": {},
   "source": [
    "## CapTCR-Seq"
   ]
  },
  {
   "cell_type": "code",
   "execution_count": 82,
   "metadata": {},
   "outputs": [],
   "source": [
    "npc_cap <- list.files(paste0(datapath, \"mixcr/NPC/TCRcap/\"), pattern = \"CLONES_TRB\", recursive = T)"
   ]
  },
  {
   "cell_type": "code",
   "execution_count": 83,
   "metadata": {},
   "outputs": [],
   "source": [
    "# downsampled to two million\n",
    "\n",
    "npc_cap <- npc_cap[ grepl(\"2000000\", npc_cap)]"
   ]
  },
  {
   "cell_type": "code",
   "execution_count": 84,
   "metadata": {},
   "outputs": [],
   "source": [
    "trb_list_npc_cap <- immunelistfx(npc_cap, paste0(datapath, \"mixcr/NPC/TCRcap/\"), \"TRB\")"
   ]
  },
  {
   "cell_type": "code",
   "execution_count": 85,
   "metadata": {},
   "outputs": [
    {
     "data": {
      "text/html": [
       "28"
      ],
      "text/latex": [
       "28"
      ],
      "text/markdown": [
       "28"
      ],
      "text/plain": [
       "[1] 28"
      ]
     },
     "metadata": {},
     "output_type": "display_data"
    }
   ],
   "source": [
    "length(trb_list_npc_cap)"
   ]
  },
  {
   "cell_type": "code",
   "execution_count": 86,
   "metadata": {},
   "outputs": [
    {
     "data": {
      "text/html": [
       "28"
      ],
      "text/latex": [
       "28"
      ],
      "text/markdown": [
       "28"
      ],
      "text/plain": [
       "[1] 28"
      ]
     },
     "metadata": {},
     "output_type": "display_data"
    }
   ],
   "source": [
    "trb_list_npc_cap <- trb_list_npc_cap[sapply(trb_list_npc_cap, function(x) length(unlist(x))) > 1] # remove files with one clonotype\n",
    "                            \n",
    "length(trb_list_npc_cap)"
   ]
  },
  {
   "cell_type": "code",
   "execution_count": 87,
   "metadata": {},
   "outputs": [],
   "source": [
    "trb_list_npc_cap <- trb_list_npc_cap[sapply(trb_list_npc_cap, function(x) var(unlist(x))) > 0] # remove files no variance                        "
   ]
  },
  {
   "cell_type": "code",
   "execution_count": 88,
   "metadata": {},
   "outputs": [],
   "source": [
    "div_trb_npc_cap <- Divstats.fx(trb_list_npc_cap, \"TRB\")"
   ]
  },
  {
   "cell_type": "code",
   "execution_count": 89,
   "metadata": {},
   "outputs": [],
   "source": [
    "save(div_trb_npc_cap, file = paste0(datapath, \"diversity/div_trb_npc_cap.RData\"))"
   ]
  },
  {
   "cell_type": "code",
   "execution_count": 90,
   "metadata": {},
   "outputs": [],
   "source": [
    "div_trb_npc_cap <- as.data.frame(div_trb_npc_cap)"
   ]
  },
  {
   "cell_type": "code",
   "execution_count": 91,
   "metadata": {},
   "outputs": [],
   "source": [
    "div_trb_npc_cap$sample_id <- gsub(\".*NPC_\", \"\", rownames(div_trb_npc_cap))\n",
    "\n",
    "div_trb_npc_cap$sample_id <- gsub(\"_2000000.txt\", \"\", div_trb_npc_cap$sample_id)"
   ]
  },
  {
   "cell_type": "code",
   "execution_count": 92,
   "metadata": {},
   "outputs": [
    {
     "data": {
      "text/html": [
       "<style>\n",
       ".list-inline {list-style: none; margin:0; padding: 0}\n",
       ".list-inline>li {display: inline-block}\n",
       ".list-inline>li:not(:last-child)::after {content: \"\\00b7\"; padding: 0 .5ex}\n",
       "</style>\n",
       "<ol class=list-inline><li>'107JP'</li><li>'108W03'</li><li>'111S03'</li><li>'116JC'</li><li>'119AY'</li><li>'119S01'</li><li>'12109'</li><li>'14Y05'</li><li>'18W06'</li><li>'29MT'</li><li>'32S04'</li><li>'43K03'</li><li>'47B08'</li><li>'51M07'</li><li>'58C06'</li><li>'59GA'</li><li>'70WS'</li><li>'72C06'</li><li>'79HZ'</li><li>'79L01'</li><li>'83CG'</li><li>'8C07'</li><li>'91MO'</li><li>'9AW'</li><li>'N1'</li><li>'N4'</li><li>'N5'</li><li>'N6'</li></ol>\n"
      ],
      "text/latex": [
       "\\begin{enumerate*}\n",
       "\\item '107JP'\n",
       "\\item '108W03'\n",
       "\\item '111S03'\n",
       "\\item '116JC'\n",
       "\\item '119AY'\n",
       "\\item '119S01'\n",
       "\\item '12109'\n",
       "\\item '14Y05'\n",
       "\\item '18W06'\n",
       "\\item '29MT'\n",
       "\\item '32S04'\n",
       "\\item '43K03'\n",
       "\\item '47B08'\n",
       "\\item '51M07'\n",
       "\\item '58C06'\n",
       "\\item '59GA'\n",
       "\\item '70WS'\n",
       "\\item '72C06'\n",
       "\\item '79HZ'\n",
       "\\item '79L01'\n",
       "\\item '83CG'\n",
       "\\item '8C07'\n",
       "\\item '91MO'\n",
       "\\item '9AW'\n",
       "\\item 'N1'\n",
       "\\item 'N4'\n",
       "\\item 'N5'\n",
       "\\item 'N6'\n",
       "\\end{enumerate*}\n"
      ],
      "text/markdown": [
       "1. '107JP'\n",
       "2. '108W03'\n",
       "3. '111S03'\n",
       "4. '116JC'\n",
       "5. '119AY'\n",
       "6. '119S01'\n",
       "7. '12109'\n",
       "8. '14Y05'\n",
       "9. '18W06'\n",
       "10. '29MT'\n",
       "11. '32S04'\n",
       "12. '43K03'\n",
       "13. '47B08'\n",
       "14. '51M07'\n",
       "15. '58C06'\n",
       "16. '59GA'\n",
       "17. '70WS'\n",
       "18. '72C06'\n",
       "19. '79HZ'\n",
       "20. '79L01'\n",
       "21. '83CG'\n",
       "22. '8C07'\n",
       "23. '91MO'\n",
       "24. '9AW'\n",
       "25. 'N1'\n",
       "26. 'N4'\n",
       "27. 'N5'\n",
       "28. 'N6'\n",
       "\n",
       "\n"
      ],
      "text/plain": [
       " [1] \"107JP\"  \"108W03\" \"111S03\" \"116JC\"  \"119AY\"  \"119S01\" \"12109\"  \"14Y05\" \n",
       " [9] \"18W06\"  \"29MT\"   \"32S04\"  \"43K03\"  \"47B08\"  \"51M07\"  \"58C06\"  \"59GA\"  \n",
       "[17] \"70WS\"   \"72C06\"  \"79HZ\"   \"79L01\"  \"83CG\"   \"8C07\"   \"91MO\"   \"9AW\"   \n",
       "[25] \"N1\"     \"N4\"     \"N5\"     \"N6\"    "
      ]
     },
     "metadata": {},
     "output_type": "display_data"
    }
   ],
   "source": [
    "div_trb_npc_cap$sample_id"
   ]
  },
  {
   "cell_type": "markdown",
   "metadata": {},
   "source": [
    "remove Ns"
   ]
  },
  {
   "cell_type": "code",
   "execution_count": 93,
   "metadata": {},
   "outputs": [],
   "source": [
    "div_trb_npc_cap <- div_trb_npc_cap[ !div_trb_npc_cap$sample_id %in% c(\"N1\", \"N4\", \"N5\", \"N6\"),]"
   ]
  },
  {
   "cell_type": "markdown",
   "metadata": {},
   "source": [
    "## Bind RNA and Cap"
   ]
  },
  {
   "cell_type": "code",
   "execution_count": 94,
   "metadata": {},
   "outputs": [
    {
     "data": {
      "text/html": [
       "<style>\n",
       ".list-inline {list-style: none; margin:0; padding: 0}\n",
       ".list-inline>li {display: inline-block}\n",
       ".list-inline>li:not(:last-child)::after {content: \"\\00b7\"; padding: 0 .5ex}\n",
       "</style>\n",
       "<ol class=list-inline><li>'TRB'</li><li>'Reads'</li><li>'CPKR'</li><li>'Average_reads'</li><li>'VMR'</li><li>'Max_reads'</li><li>'Singletons'</li><li>'Doubletons'</li><li>'qD'</li><li>'Sample_Coverage'</li><li>'observed_Richness'</li><li>'estimated_Richness'</li><li>'SE_Richeness'</li><li>'observed_Shannon'</li><li>'estimated_Shannon'</li><li>'SE_Shannon'</li><li>'observed_Simpson'</li><li>'estimated_Simpson'</li><li>'SE_Simpson'</li><li>'sample_id'</li></ol>\n"
      ],
      "text/latex": [
       "\\begin{enumerate*}\n",
       "\\item 'TRB'\n",
       "\\item 'Reads'\n",
       "\\item 'CPKR'\n",
       "\\item 'Average\\_reads'\n",
       "\\item 'VMR'\n",
       "\\item 'Max\\_reads'\n",
       "\\item 'Singletons'\n",
       "\\item 'Doubletons'\n",
       "\\item 'qD'\n",
       "\\item 'Sample\\_Coverage'\n",
       "\\item 'observed\\_Richness'\n",
       "\\item 'estimated\\_Richness'\n",
       "\\item 'SE\\_Richeness'\n",
       "\\item 'observed\\_Shannon'\n",
       "\\item 'estimated\\_Shannon'\n",
       "\\item 'SE\\_Shannon'\n",
       "\\item 'observed\\_Simpson'\n",
       "\\item 'estimated\\_Simpson'\n",
       "\\item 'SE\\_Simpson'\n",
       "\\item 'sample\\_id'\n",
       "\\end{enumerate*}\n"
      ],
      "text/markdown": [
       "1. 'TRB'\n",
       "2. 'Reads'\n",
       "3. 'CPKR'\n",
       "4. 'Average_reads'\n",
       "5. 'VMR'\n",
       "6. 'Max_reads'\n",
       "7. 'Singletons'\n",
       "8. 'Doubletons'\n",
       "9. 'qD'\n",
       "10. 'Sample_Coverage'\n",
       "11. 'observed_Richness'\n",
       "12. 'estimated_Richness'\n",
       "13. 'SE_Richeness'\n",
       "14. 'observed_Shannon'\n",
       "15. 'estimated_Shannon'\n",
       "16. 'SE_Shannon'\n",
       "17. 'observed_Simpson'\n",
       "18. 'estimated_Simpson'\n",
       "19. 'SE_Simpson'\n",
       "20. 'sample_id'\n",
       "\n",
       "\n"
      ],
      "text/plain": [
       " [1] \"TRB\"                \"Reads\"              \"CPKR\"              \n",
       " [4] \"Average_reads\"      \"VMR\"                \"Max_reads\"         \n",
       " [7] \"Singletons\"         \"Doubletons\"         \"qD\"                \n",
       "[10] \"Sample_Coverage\"    \"observed_Richness\"  \"estimated_Richness\"\n",
       "[13] \"SE_Richeness\"       \"observed_Shannon\"   \"estimated_Shannon\" \n",
       "[16] \"SE_Shannon\"         \"observed_Simpson\"   \"estimated_Simpson\" \n",
       "[19] \"SE_Simpson\"         \"sample_id\"         "
      ]
     },
     "metadata": {},
     "output_type": "display_data"
    }
   ],
   "source": [
    "colnames(div_trb_npc_rna)"
   ]
  },
  {
   "cell_type": "code",
   "execution_count": 95,
   "metadata": {},
   "outputs": [],
   "source": [
    "colnames(div_trb_npc_cap)[1:ncol(div_trb_npc_cap)-1] <-\n",
    "paste0(colnames(div_trb_npc_cap)[1:ncol(div_trb_npc_cap)-1], \"_TCRCap\")"
   ]
  },
  {
   "cell_type": "code",
   "execution_count": 96,
   "metadata": {},
   "outputs": [],
   "source": [
    "colnames(div_trb_npc_rna)[1:ncol(div_trb_npc_rna)-1] <-\n",
    "paste0(colnames(div_trb_npc_rna)[1:ncol(div_trb_npc_rna)-1], \"_RNAseq\")"
   ]
  },
  {
   "cell_type": "code",
   "execution_count": 97,
   "metadata": {},
   "outputs": [],
   "source": [
    "div_trb_npc_cap_rna <- merge(div_trb_npc_cap, div_trb_npc_rna, by = \"sample_id\")"
   ]
  },
  {
   "cell_type": "code",
   "execution_count": 98,
   "metadata": {},
   "outputs": [],
   "source": [
    "cap_rna <- rbind(div_trb_profyle_cap_rna,div_trb_icgc_cap_rna, div_trb_npc_cap_rna)"
   ]
  },
  {
   "cell_type": "code",
   "execution_count": 99,
   "metadata": {},
   "outputs": [],
   "source": [
    "cap_rna$group <- NA\n",
    "\n",
    "cap_rna$group[ grepl(\"PRO\", cap_rna$sample_id)] <- \"Pediatric\"\n",
    "cap_rna$group[ grepl(\"ICGC\", cap_rna$sample_id)] <- \"Pediatric\"\n",
    "cap_rna$group[ is.na(cap_rna$group)] <- \"Adult\""
   ]
  },
  {
   "cell_type": "code",
   "execution_count": 128,
   "metadata": {},
   "outputs": [],
   "source": [
    "cap_rna_plot <- ggplot(data = cap_rna, aes(y = estimated_Shannon_RNAseq, x = observed_Shannon_TCRCap, \n",
    "                                           label = sample_id)) + \n",
    "geom_point(size = 5, aes(color = group)) +\n",
    "geom_smooth(method = \"lm\", se = FALSE) + myplot +\n",
    "scale_y_continuous(trans = \"log10\") + \n",
    "scale_x_continuous(trans = \"log10\") +\n",
    "annotation_logticks(sides = \"bl\") +\n",
    "#geom_text()+\n",
    "theme(legend.position = \"bottom\", legend.title = element_blank()) +\n",
    "theme(axis.title = element_text(size = 35),\n",
    "      axis.line = element_line(color = \"black\"),\n",
    "      axis.text.x = element_text(size = 35, color = \"black\"),\n",
    "      axis.text.y = element_text(size = 35, color = \"black\")) +\n",
    "labs(y = \"Estimated Shannon diversity\\n(RNAseq)\", x = \"Shannon diversity\\n(CapTCR-seq)\")"
   ]
  },
  {
   "cell_type": "code",
   "execution_count": 129,
   "metadata": {},
   "outputs": [
    {
     "name": "stderr",
     "output_type": "stream",
     "text": [
      "`geom_smooth()` using formula 'y ~ x'\n",
      "\n"
     ]
    },
    {
     "data": {
      "image/png": "[encoded data removed]",
      "text/plain": [
       "plot without title"
      ]
     },
     "metadata": {
      "image/png": {
       "height": 420,
       "width": 420
      }
     },
     "output_type": "display_data"
    }
   ],
   "source": [
    "cap_rna_plot + annotate(\"text\", x=40, y=3, label= \"R^2 = 0.66\", size = 10) "
   ]
  },
  {
   "cell_type": "code",
   "execution_count": 130,
   "metadata": {},
   "outputs": [
    {
     "name": "stderr",
     "output_type": "stream",
     "text": [
      "`geom_smooth()` using formula 'y ~ x'\n",
      "\n"
     ]
    },
    {
     "data": {
      "text/html": [
       "<strong>pdf:</strong> 2"
      ],
      "text/latex": [
       "\\textbf{pdf:} 2"
      ],
      "text/markdown": [
       "**pdf:** 2"
      ],
      "text/plain": [
       "pdf \n",
       "  2 "
      ]
     },
     "metadata": {},
     "output_type": "display_data"
    }
   ],
   "source": [
    "pdf(file = paste0(plotpath,\"RNAseq_CapTCR_TRB.pdf\"),\n",
    "        width = 10, height = 10,\n",
    "        useDingbats = FALSE)\n",
    "    print(cap_rna_plot + annotate(\"text\", x=40, y=3, label= \"R^2 = 0.66\", size = 10) )\n",
    "dev.off()\n"
   ]
  },
  {
   "cell_type": "code",
   "execution_count": 131,
   "metadata": {},
   "outputs": [
    {
     "data": {
      "text/plain": [
       "   Min. 1st Qu.  Median    Mean 3rd Qu.    Max. \n",
       "  2.225   4.923  11.253  22.208  26.591  89.916 "
      ]
     },
     "metadata": {},
     "output_type": "display_data"
    }
   ],
   "source": [
    "summary(cap_rna$estimated_Shannon_RNAseq)"
   ]
  },
  {
   "cell_type": "code",
   "execution_count": 132,
   "metadata": {},
   "outputs": [],
   "source": [
    "lmreg_TRB <- lm(log10(estimated_Shannon_RNAseq) ~ log10(observed_Shannon_TCRCap), \n",
    "                data = cap_rna)"
   ]
  },
  {
   "cell_type": "code",
   "execution_count": 133,
   "metadata": {},
   "outputs": [
    {
     "data": {
      "text/html": [
       "<table class=\"dataframe\">\n",
       "<caption>A tibble: 1 × 12</caption>\n",
       "<thead>\n",
       "\t<tr><th scope=col>r.squared</th><th scope=col>adj.r.squared</th><th scope=col>sigma</th><th scope=col>statistic</th><th scope=col>p.value</th><th scope=col>df</th><th scope=col>logLik</th><th scope=col>AIC</th><th scope=col>BIC</th><th scope=col>deviance</th><th scope=col>df.residual</th><th scope=col>nobs</th></tr>\n",
       "\t<tr><th scope=col>&lt;dbl&gt;</th><th scope=col>&lt;dbl&gt;</th><th scope=col>&lt;dbl&gt;</th><th scope=col>&lt;dbl&gt;</th><th scope=col>&lt;dbl&gt;</th><th scope=col>&lt;dbl&gt;</th><th scope=col>&lt;dbl&gt;</th><th scope=col>&lt;dbl&gt;</th><th scope=col>&lt;dbl&gt;</th><th scope=col>&lt;dbl&gt;</th><th scope=col>&lt;int&gt;</th><th scope=col>&lt;int&gt;</th></tr>\n",
       "</thead>\n",
       "<tbody>\n",
       "\t<tr><td>0.6626533</td><td>0.6491595</td><td>0.3031272</td><td>49.10774</td><td>2.404808e-07</td><td>1</td><td>-5.045091</td><td>16.09018</td><td>19.97769</td><td>2.297152</td><td>25</td><td>27</td></tr>\n",
       "</tbody>\n",
       "</table>\n"
      ],
      "text/latex": [
       "A tibble: 1 × 12\n",
       "\\begin{tabular}{llllllllllll}\n",
       " r.squared & adj.r.squared & sigma & statistic & p.value & df & logLik & AIC & BIC & deviance & df.residual & nobs\\\\\n",
       " <dbl> & <dbl> & <dbl> & <dbl> & <dbl> & <dbl> & <dbl> & <dbl> & <dbl> & <dbl> & <int> & <int>\\\\\n",
       "\\hline\n",
       "\t 0.6626533 & 0.6491595 & 0.3031272 & 49.10774 & 2.404808e-07 & 1 & -5.045091 & 16.09018 & 19.97769 & 2.297152 & 25 & 27\\\\\n",
       "\\end{tabular}\n"
      ],
      "text/markdown": [
       "\n",
       "A tibble: 1 × 12\n",
       "\n",
       "| r.squared &lt;dbl&gt; | adj.r.squared &lt;dbl&gt; | sigma &lt;dbl&gt; | statistic &lt;dbl&gt; | p.value &lt;dbl&gt; | df &lt;dbl&gt; | logLik &lt;dbl&gt; | AIC &lt;dbl&gt; | BIC &lt;dbl&gt; | deviance &lt;dbl&gt; | df.residual &lt;int&gt; | nobs &lt;int&gt; |\n",
       "|---|---|---|---|---|---|---|---|---|---|---|---|\n",
       "| 0.6626533 | 0.6491595 | 0.3031272 | 49.10774 | 2.404808e-07 | 1 | -5.045091 | 16.09018 | 19.97769 | 2.297152 | 25 | 27 |\n",
       "\n"
      ],
      "text/plain": [
       "  r.squared adj.r.squared sigma     statistic p.value      df logLik   \n",
       "1 0.6626533 0.6491595     0.3031272 49.10774  2.404808e-07 1  -5.045091\n",
       "  AIC      BIC      deviance df.residual nobs\n",
       "1 16.09018 19.97769 2.297152 25          27  "
      ]
     },
     "metadata": {},
     "output_type": "display_data"
    }
   ],
   "source": [
    "broom::glance(lmreg_TRB)"
   ]
  },
  {
   "cell_type": "code",
   "execution_count": null,
   "metadata": {},
   "outputs": [],
   "source": []
  },
  {
   "cell_type": "code",
   "execution_count": null,
   "metadata": {},
   "outputs": [],
   "source": []
  },
  {
   "cell_type": "code",
   "execution_count": null,
   "metadata": {},
   "outputs": [],
   "source": []
  },
  {
   "cell_type": "code",
   "execution_count": null,
   "metadata": {},
   "outputs": [],
   "source": []
  },
  {
   "cell_type": "code",
   "execution_count": null,
   "metadata": {},
   "outputs": [],
   "source": []
  },
  {
   "cell_type": "code",
   "execution_count": null,
   "metadata": {},
   "outputs": [],
   "source": []
  },
  {
   "cell_type": "code",
   "execution_count": null,
   "metadata": {},
   "outputs": [],
   "source": []
  },
  {
   "cell_type": "code",
   "execution_count": null,
   "metadata": {},
   "outputs": [],
   "source": []
  },
  {
   "cell_type": "code",
   "execution_count": 5,
   "metadata": {},
   "outputs": [],
   "source": [
    "load(file = paste0(datapath,\"PROFYLE_Div_bulk_TRA.RData\"))\n",
    "load(file = paste0(datapath, \"PROFYLE_Div_bulk_TRB.RData\"))"
   ]
  },
  {
   "cell_type": "code",
   "execution_count": 6,
   "metadata": {},
   "outputs": [],
   "source": [
    "load(file = paste0(datapath,\"PROFYLE_Div_cap_TRA.RData\"))\n",
    "load(file = paste0(datapath,\"PROFYLE_Div_cap_TRB.RData\"))"
   ]
  },
  {
   "cell_type": "code",
   "execution_count": 7,
   "metadata": {},
   "outputs": [
    {
     "data": {
      "text/html": [
       "<table>\n",
       "<caption>A data.frame: 4 × 16</caption>\n",
       "<thead>\n",
       "\t<tr><th scope=col>filename</th><th scope=col>TRB</th><th scope=col>Reads</th><th scope=col>Average_reads</th><th scope=col>Max_reads</th><th scope=col>IDis</th><th scope=col>Singletons</th><th scope=col>Doubletons</th><th scope=col>qD</th><th scope=col>estimated_Richness</th><th scope=col>observed_Richness</th><th scope=col>estimated_Shannon</th><th scope=col>observed_Shannon</th><th scope=col>estimated_Simpson</th><th scope=col>observed_Simpson</th><th scope=col>Divscore</th></tr>\n",
       "\t<tr><th scope=col>&lt;fct&gt;</th><th scope=col>&lt;dbl&gt;</th><th scope=col>&lt;dbl&gt;</th><th scope=col>&lt;dbl&gt;</th><th scope=col>&lt;dbl&gt;</th><th scope=col>&lt;dbl&gt;</th><th scope=col>&lt;dbl&gt;</th><th scope=col>&lt;dbl&gt;</th><th scope=col>&lt;dbl&gt;</th><th scope=col>&lt;dbl&gt;</th><th scope=col>&lt;dbl&gt;</th><th scope=col>&lt;dbl&gt;</th><th scope=col>&lt;dbl&gt;</th><th scope=col>&lt;dbl&gt;</th><th scope=col>&lt;dbl&gt;</th><th scope=col>&lt;dbl&gt;</th></tr>\n",
       "</thead>\n",
       "<tbody>\n",
       "\t<tr><td>_PRO-00012N_R_totalRNA_chondrosarcoma_40055</td><td>  47</td><td>  72</td><td>1.531915</td><td>17</td><td>1.5390531</td><td>  39</td><td>  5</td><td>  81.288</td><td> 196.988</td><td>  47</td><td>  89.916</td><td>  30.566</td><td>  17.388</td><td>  14.164</td><td>   5.289176</td></tr>\n",
       "\t<tr><td>_PRO-00013P_R_totalRNA_osteosarcoma_40063  </td><td>   3</td><td>  13</td><td>4.333333</td><td>10</td><td>1.1383576</td><td>   1</td><td>  1</td><td>   3.399</td><td>   3.462</td><td>   3</td><td>   2.225</td><td>   1.988</td><td>   1.696</td><td>   1.610</td><td>   0.222500</td></tr>\n",
       "\t<tr><td>_PRO-00015S_R_totalRNA_sarcoma_40065       </td><td>  15</td><td>  17</td><td>1.133333</td><td> 3</td><td>0.4556451</td><td>  14</td><td>  0</td><td>  27.859</td><td> 100.647</td><td>  15</td><td>  88.167</td><td>  14.004</td><td>  12.565</td><td>  12.565</td><td>  29.389000</td></tr>\n",
       "\t<tr><td>_PRO-00019W_R_totalRNA_Thymus_40073        </td><td>1215</td><td>1421</td><td>1.169547</td><td> 4</td><td>0.3615564</td><td>1030</td><td>166</td><td>2095.307</td><td>4408.233</td><td>1215</td><td>4409.446</td><td>1152.785</td><td>4405.721</td><td>1074.636</td><td>1102.361500</td></tr>\n",
       "</tbody>\n",
       "</table>\n"
      ],
      "text/latex": [
       "A data.frame: 4 × 16\n",
       "\\begin{tabular}{r|llllllllllllllll}\n",
       " filename & TRB & Reads & Average\\_reads & Max\\_reads & IDis & Singletons & Doubletons & qD & estimated\\_Richness & observed\\_Richness & estimated\\_Shannon & observed\\_Shannon & estimated\\_Simpson & observed\\_Simpson & Divscore\\\\\n",
       " <fct> & <dbl> & <dbl> & <dbl> & <dbl> & <dbl> & <dbl> & <dbl> & <dbl> & <dbl> & <dbl> & <dbl> & <dbl> & <dbl> & <dbl> & <dbl>\\\\\n",
       "\\hline\n",
       "\t \\_PRO-00012N\\_R\\_totalRNA\\_chondrosarcoma\\_40055 &   47 &   72 & 1.531915 & 17 & 1.5390531 &   39 &   5 &   81.288 &  196.988 &   47 &   89.916 &   30.566 &   17.388 &   14.164 &    5.289176\\\\\n",
       "\t \\_PRO-00013P\\_R\\_totalRNA\\_osteosarcoma\\_40063   &    3 &   13 & 4.333333 & 10 & 1.1383576 &    1 &   1 &    3.399 &    3.462 &    3 &    2.225 &    1.988 &    1.696 &    1.610 &    0.222500\\\\\n",
       "\t \\_PRO-00015S\\_R\\_totalRNA\\_sarcoma\\_40065        &   15 &   17 & 1.133333 &  3 & 0.4556451 &   14 &   0 &   27.859 &  100.647 &   15 &   88.167 &   14.004 &   12.565 &   12.565 &   29.389000\\\\\n",
       "\t \\_PRO-00019W\\_R\\_totalRNA\\_Thymus\\_40073         & 1215 & 1421 & 1.169547 &  4 & 0.3615564 & 1030 & 166 & 2095.307 & 4408.233 & 1215 & 4409.446 & 1152.785 & 4405.721 & 1074.636 & 1102.361500\\\\\n",
       "\\end{tabular}\n"
      ],
      "text/markdown": [
       "\n",
       "A data.frame: 4 × 16\n",
       "\n",
       "| filename &lt;fct&gt; | TRB &lt;dbl&gt; | Reads &lt;dbl&gt; | Average_reads &lt;dbl&gt; | Max_reads &lt;dbl&gt; | IDis &lt;dbl&gt; | Singletons &lt;dbl&gt; | Doubletons &lt;dbl&gt; | qD &lt;dbl&gt; | estimated_Richness &lt;dbl&gt; | observed_Richness &lt;dbl&gt; | estimated_Shannon &lt;dbl&gt; | observed_Shannon &lt;dbl&gt; | estimated_Simpson &lt;dbl&gt; | observed_Simpson &lt;dbl&gt; | Divscore &lt;dbl&gt; |\n",
       "|---|---|---|---|---|---|---|---|---|---|---|---|---|---|---|---|\n",
       "| _PRO-00012N_R_totalRNA_chondrosarcoma_40055 |   47 |   72 | 1.531915 | 17 | 1.5390531 |   39 |   5 |   81.288 |  196.988 |   47 |   89.916 |   30.566 |   17.388 |   14.164 |    5.289176 |\n",
       "| _PRO-00013P_R_totalRNA_osteosarcoma_40063   |    3 |   13 | 4.333333 | 10 | 1.1383576 |    1 |   1 |    3.399 |    3.462 |    3 |    2.225 |    1.988 |    1.696 |    1.610 |    0.222500 |\n",
       "| _PRO-00015S_R_totalRNA_sarcoma_40065        |   15 |   17 | 1.133333 |  3 | 0.4556451 |   14 |   0 |   27.859 |  100.647 |   15 |   88.167 |   14.004 |   12.565 |   12.565 |   29.389000 |\n",
       "| _PRO-00019W_R_totalRNA_Thymus_40073         | 1215 | 1421 | 1.169547 |  4 | 0.3615564 | 1030 | 166 | 2095.307 | 4408.233 | 1215 | 4409.446 | 1152.785 | 4405.721 | 1074.636 | 1102.361500 |\n",
       "\n"
      ],
      "text/plain": [
       "  filename                                    TRB  Reads Average_reads\n",
       "1 _PRO-00012N_R_totalRNA_chondrosarcoma_40055   47   72  1.531915     \n",
       "2 _PRO-00013P_R_totalRNA_osteosarcoma_40063      3   13  4.333333     \n",
       "3 _PRO-00015S_R_totalRNA_sarcoma_40065          15   17  1.133333     \n",
       "4 _PRO-00019W_R_totalRNA_Thymus_40073         1215 1421  1.169547     \n",
       "  Max_reads IDis      Singletons Doubletons qD       estimated_Richness\n",
       "1 17        1.5390531   39         5          81.288  196.988          \n",
       "2 10        1.1383576    1         1           3.399    3.462          \n",
       "3  3        0.4556451   14         0          27.859  100.647          \n",
       "4  4        0.3615564 1030       166        2095.307 4408.233          \n",
       "  observed_Richness estimated_Shannon observed_Shannon estimated_Simpson\n",
       "1   47                89.916            30.566           17.388         \n",
       "2    3                 2.225             1.988            1.696         \n",
       "3   15                88.167            14.004           12.565         \n",
       "4 1215              4409.446          1152.785         4405.721         \n",
       "  observed_Simpson Divscore   \n",
       "1   14.164            5.289176\n",
       "2    1.610            0.222500\n",
       "3   12.565           29.389000\n",
       "4 1074.636         1102.361500"
      ]
     },
     "metadata": {},
     "output_type": "display_data"
    }
   ],
   "source": [
    "PROFYLE_Div_bulk_TRB"
   ]
  },
  {
   "cell_type": "code",
   "execution_count": 9,
   "metadata": {
    "scrolled": false
   },
   "outputs": [
    {
     "data": {
      "text/html": [
       "<table>\n",
       "<caption>A data.frame: 10 × 16</caption>\n",
       "<thead>\n",
       "\t<tr><th scope=col>filename</th><th scope=col>TRB</th><th scope=col>Reads</th><th scope=col>Average_reads</th><th scope=col>Max_reads</th><th scope=col>IDis</th><th scope=col>Singletons</th><th scope=col>Doubletons</th><th scope=col>qD</th><th scope=col>estimated_Richness</th><th scope=col>observed_Richness</th><th scope=col>estimated_Shannon</th><th scope=col>observed_Shannon</th><th scope=col>estimated_Simpson</th><th scope=col>observed_Simpson</th><th scope=col>Divscore</th></tr>\n",
       "\t<tr><th scope=col>&lt;fct&gt;</th><th scope=col>&lt;dbl&gt;</th><th scope=col>&lt;dbl&gt;</th><th scope=col>&lt;dbl&gt;</th><th scope=col>&lt;dbl&gt;</th><th scope=col>&lt;dbl&gt;</th><th scope=col>&lt;dbl&gt;</th><th scope=col>&lt;dbl&gt;</th><th scope=col>&lt;dbl&gt;</th><th scope=col>&lt;dbl&gt;</th><th scope=col>&lt;dbl&gt;</th><th scope=col>&lt;dbl&gt;</th><th scope=col>&lt;dbl&gt;</th><th scope=col>&lt;dbl&gt;</th><th scope=col>&lt;dbl&gt;</th><th scope=col>&lt;dbl&gt;</th></tr>\n",
       "</thead>\n",
       "<tbody>\n",
       "\t<tr><td>PRO-00012N</td><td>1219</td><td>10222504</td><td> 8385.975</td><td>1885593</td><td>7.824990</td><td>409</td><td>119</td><td>1529.080</td><td>1921.861</td><td>1219</td><td>61.538</td><td>61.532</td><td>19.604</td><td>19.604</td><td>3.263589e-05</td></tr>\n",
       "\t<tr><td>PRO-00013P</td><td>  13</td><td>   57359</td><td> 4412.231</td><td>  35590</td><td>2.486470</td><td>  3</td><td>  1</td><td>  15.190</td><td>  17.500</td><td>  13</td><td> 2.125</td><td> 2.125</td><td> 1.938</td><td> 1.938</td><td>5.970778e-05</td></tr>\n",
       "\t<tr><td>PRO-00015S</td><td> 610</td><td> 2156721</td><td> 3535.608</td><td> 378633</td><td>6.155721</td><td>100</td><td> 20</td><td> 692.420</td><td> 860.000</td><td> 610</td><td>41.507</td><td>41.499</td><td>15.709</td><td>15.709</td><td>1.096233e-04</td></tr>\n",
       "\t<tr><td>PRO-00023A</td><td> 111</td><td>  828065</td><td> 7460.045</td><td> 373985</td><td>4.829176</td><td> 30</td><td>  8</td><td> 134.251</td><td> 167.250</td><td> 111</td><td>13.511</td><td>13.510</td><td> 4.604</td><td> 4.604</td><td>3.612712e-05</td></tr>\n",
       "\t<tr><td>PRO-00027E</td><td>   2</td><td>     242</td><td>  121.000</td><td>    229</td><td>1.262273</td><td>  0</td><td>  0</td><td>   2.000</td><td>   2.000</td><td>   2</td><td> 1.235</td><td> 1.233</td><td> 1.114</td><td> 1.113</td><td>5.393013e-03</td></tr>\n",
       "\t<tr><td>PRO-00033M</td><td>  28</td><td>  118840</td><td> 4244.286</td><td>  31335</td><td>2.114446</td><td>  6</td><td>  5</td><td>  30.920</td><td>  31.600</td><td>  28</td><td> 6.000</td><td> 5.999</td><td> 5.272</td><td> 5.272</td><td>1.914792e-04</td></tr>\n",
       "\t<tr><td>PRO-00035O</td><td>   6</td><td>   66697</td><td>11116.167</td><td>  66608</td><td>2.445569</td><td>  3</td><td>  1</td><td>   8.190</td><td>  10.500</td><td>   6</td><td> 1.011</td><td> 1.011</td><td> 1.003</td><td> 1.003</td><td>1.517836e-05</td></tr>\n",
       "\t<tr><td>PRO-00039T</td><td>  27</td><td>  389371</td><td>14421.148</td><td> 214671</td><td>2.921789</td><td>  3</td><td>  3</td><td>  28.297</td><td>  28.500</td><td>  27</td><td> 4.681</td><td> 4.681</td><td> 2.928</td><td> 2.928</td><td>2.180546e-05</td></tr>\n",
       "\t<tr><td>PRO-00042X</td><td>  25</td><td>  133471</td><td> 5338.840</td><td> 128456</td><td>4.805610</td><td>  3</td><td>  2</td><td>  26.657</td><td>  27.250</td><td>  25</td><td> 1.244</td><td> 1.243</td><td> 1.079</td><td> 1.079</td><td>9.684250e-06</td></tr>\n",
       "\t<tr><td>PRO-00043Z</td><td>  97</td><td>  268613</td><td> 2769.206</td><td> 163281</td><td>6.281666</td><td> 22</td><td>  9</td><td> 112.025</td><td> 123.889</td><td>  97</td><td> 3.349</td><td> 3.348</td><td> 2.422</td><td> 2.422</td><td>2.051065e-05</td></tr>\n",
       "</tbody>\n",
       "</table>\n"
      ],
      "text/latex": [
       "A data.frame: 10 × 16\n",
       "\\begin{tabular}{r|llllllllllllllll}\n",
       " filename & TRB & Reads & Average\\_reads & Max\\_reads & IDis & Singletons & Doubletons & qD & estimated\\_Richness & observed\\_Richness & estimated\\_Shannon & observed\\_Shannon & estimated\\_Simpson & observed\\_Simpson & Divscore\\\\\n",
       " <fct> & <dbl> & <dbl> & <dbl> & <dbl> & <dbl> & <dbl> & <dbl> & <dbl> & <dbl> & <dbl> & <dbl> & <dbl> & <dbl> & <dbl> & <dbl>\\\\\n",
       "\\hline\n",
       "\t PRO-00012N & 1219 & 10222504 &  8385.975 & 1885593 & 7.824990 & 409 & 119 & 1529.080 & 1921.861 & 1219 & 61.538 & 61.532 & 19.604 & 19.604 & 3.263589e-05\\\\\n",
       "\t PRO-00013P &   13 &    57359 &  4412.231 &   35590 & 2.486470 &   3 &   1 &   15.190 &   17.500 &   13 &  2.125 &  2.125 &  1.938 &  1.938 & 5.970778e-05\\\\\n",
       "\t PRO-00015S &  610 &  2156721 &  3535.608 &  378633 & 6.155721 & 100 &  20 &  692.420 &  860.000 &  610 & 41.507 & 41.499 & 15.709 & 15.709 & 1.096233e-04\\\\\n",
       "\t PRO-00023A &  111 &   828065 &  7460.045 &  373985 & 4.829176 &  30 &   8 &  134.251 &  167.250 &  111 & 13.511 & 13.510 &  4.604 &  4.604 & 3.612712e-05\\\\\n",
       "\t PRO-00027E &    2 &      242 &   121.000 &     229 & 1.262273 &   0 &   0 &    2.000 &    2.000 &    2 &  1.235 &  1.233 &  1.114 &  1.113 & 5.393013e-03\\\\\n",
       "\t PRO-00033M &   28 &   118840 &  4244.286 &   31335 & 2.114446 &   6 &   5 &   30.920 &   31.600 &   28 &  6.000 &  5.999 &  5.272 &  5.272 & 1.914792e-04\\\\\n",
       "\t PRO-00035O &    6 &    66697 & 11116.167 &   66608 & 2.445569 &   3 &   1 &    8.190 &   10.500 &    6 &  1.011 &  1.011 &  1.003 &  1.003 & 1.517836e-05\\\\\n",
       "\t PRO-00039T &   27 &   389371 & 14421.148 &  214671 & 2.921789 &   3 &   3 &   28.297 &   28.500 &   27 &  4.681 &  4.681 &  2.928 &  2.928 & 2.180546e-05\\\\\n",
       "\t PRO-00042X &   25 &   133471 &  5338.840 &  128456 & 4.805610 &   3 &   2 &   26.657 &   27.250 &   25 &  1.244 &  1.243 &  1.079 &  1.079 & 9.684250e-06\\\\\n",
       "\t PRO-00043Z &   97 &   268613 &  2769.206 &  163281 & 6.281666 &  22 &   9 &  112.025 &  123.889 &   97 &  3.349 &  3.348 &  2.422 &  2.422 & 2.051065e-05\\\\\n",
       "\\end{tabular}\n"
      ],
      "text/markdown": [
       "\n",
       "A data.frame: 10 × 16\n",
       "\n",
       "| filename &lt;fct&gt; | TRB &lt;dbl&gt; | Reads &lt;dbl&gt; | Average_reads &lt;dbl&gt; | Max_reads &lt;dbl&gt; | IDis &lt;dbl&gt; | Singletons &lt;dbl&gt; | Doubletons &lt;dbl&gt; | qD &lt;dbl&gt; | estimated_Richness &lt;dbl&gt; | observed_Richness &lt;dbl&gt; | estimated_Shannon &lt;dbl&gt; | observed_Shannon &lt;dbl&gt; | estimated_Simpson &lt;dbl&gt; | observed_Simpson &lt;dbl&gt; | Divscore &lt;dbl&gt; |\n",
       "|---|---|---|---|---|---|---|---|---|---|---|---|---|---|---|---|\n",
       "| PRO-00012N | 1219 | 10222504 |  8385.975 | 1885593 | 7.824990 | 409 | 119 | 1529.080 | 1921.861 | 1219 | 61.538 | 61.532 | 19.604 | 19.604 | 3.263589e-05 |\n",
       "| PRO-00013P |   13 |    57359 |  4412.231 |   35590 | 2.486470 |   3 |   1 |   15.190 |   17.500 |   13 |  2.125 |  2.125 |  1.938 |  1.938 | 5.970778e-05 |\n",
       "| PRO-00015S |  610 |  2156721 |  3535.608 |  378633 | 6.155721 | 100 |  20 |  692.420 |  860.000 |  610 | 41.507 | 41.499 | 15.709 | 15.709 | 1.096233e-04 |\n",
       "| PRO-00023A |  111 |   828065 |  7460.045 |  373985 | 4.829176 |  30 |   8 |  134.251 |  167.250 |  111 | 13.511 | 13.510 |  4.604 |  4.604 | 3.612712e-05 |\n",
       "| PRO-00027E |    2 |      242 |   121.000 |     229 | 1.262273 |   0 |   0 |    2.000 |    2.000 |    2 |  1.235 |  1.233 |  1.114 |  1.113 | 5.393013e-03 |\n",
       "| PRO-00033M |   28 |   118840 |  4244.286 |   31335 | 2.114446 |   6 |   5 |   30.920 |   31.600 |   28 |  6.000 |  5.999 |  5.272 |  5.272 | 1.914792e-04 |\n",
       "| PRO-00035O |    6 |    66697 | 11116.167 |   66608 | 2.445569 |   3 |   1 |    8.190 |   10.500 |    6 |  1.011 |  1.011 |  1.003 |  1.003 | 1.517836e-05 |\n",
       "| PRO-00039T |   27 |   389371 | 14421.148 |  214671 | 2.921789 |   3 |   3 |   28.297 |   28.500 |   27 |  4.681 |  4.681 |  2.928 |  2.928 | 2.180546e-05 |\n",
       "| PRO-00042X |   25 |   133471 |  5338.840 |  128456 | 4.805610 |   3 |   2 |   26.657 |   27.250 |   25 |  1.244 |  1.243 |  1.079 |  1.079 | 9.684250e-06 |\n",
       "| PRO-00043Z |   97 |   268613 |  2769.206 |  163281 | 6.281666 |  22 |   9 |  112.025 |  123.889 |   97 |  3.349 |  3.348 |  2.422 |  2.422 | 2.051065e-05 |\n",
       "\n"
      ],
      "text/plain": [
       "   filename   TRB  Reads    Average_reads Max_reads IDis     Singletons\n",
       "1  PRO-00012N 1219 10222504  8385.975     1885593   7.824990 409       \n",
       "2  PRO-00013P   13    57359  4412.231       35590   2.486470   3       \n",
       "3  PRO-00015S  610  2156721  3535.608      378633   6.155721 100       \n",
       "4  PRO-00023A  111   828065  7460.045      373985   4.829176  30       \n",
       "5  PRO-00027E    2      242   121.000         229   1.262273   0       \n",
       "6  PRO-00033M   28   118840  4244.286       31335   2.114446   6       \n",
       "7  PRO-00035O    6    66697 11116.167       66608   2.445569   3       \n",
       "8  PRO-00039T   27   389371 14421.148      214671   2.921789   3       \n",
       "9  PRO-00042X   25   133471  5338.840      128456   4.805610   3       \n",
       "10 PRO-00043Z   97   268613  2769.206      163281   6.281666  22       \n",
       "   Doubletons qD       estimated_Richness observed_Richness estimated_Shannon\n",
       "1  119        1529.080 1921.861           1219              61.538           \n",
       "2    1          15.190   17.500             13               2.125           \n",
       "3   20         692.420  860.000            610              41.507           \n",
       "4    8         134.251  167.250            111              13.511           \n",
       "5    0           2.000    2.000              2               1.235           \n",
       "6    5          30.920   31.600             28               6.000           \n",
       "7    1           8.190   10.500              6               1.011           \n",
       "8    3          28.297   28.500             27               4.681           \n",
       "9    2          26.657   27.250             25               1.244           \n",
       "10   9         112.025  123.889             97               3.349           \n",
       "   observed_Shannon estimated_Simpson observed_Simpson Divscore    \n",
       "1  61.532           19.604            19.604           3.263589e-05\n",
       "2   2.125            1.938             1.938           5.970778e-05\n",
       "3  41.499           15.709            15.709           1.096233e-04\n",
       "4  13.510            4.604             4.604           3.612712e-05\n",
       "5   1.233            1.114             1.113           5.393013e-03\n",
       "6   5.999            5.272             5.272           1.914792e-04\n",
       "7   1.011            1.003             1.003           1.517836e-05\n",
       "8   4.681            2.928             2.928           2.180546e-05\n",
       "9   1.243            1.079             1.079           9.684250e-06\n",
       "10  3.348            2.422             2.422           2.051065e-05"
      ]
     },
     "metadata": {},
     "output_type": "display_data"
    }
   ],
   "source": [
    "PROFYLE_Div_cap_TRB"
   ]
  },
  {
   "cell_type": "code",
   "execution_count": 10,
   "metadata": {},
   "outputs": [],
   "source": [
    "ordershanTRB <- PROFYLE_Div_cap_TRB$filename[order(PROFYLE_Div_cap_TRB$observed_Shannon)]\n",
    "\n",
    "ordershanTRA <- PROFYLE_Div_cap_TRA$filename[order(PROFYLE_Div_cap_TRA$observed_Shannon)]"
   ]
  },
  {
   "cell_type": "code",
   "execution_count": 11,
   "metadata": {},
   "outputs": [
    {
     "data": {
      "text/html": [
       "<ol class=list-inline>\n",
       "\t<li>PRO-00012N</li>\n",
       "\t<li>PRO-00013P</li>\n",
       "\t<li>PRO-00015S</li>\n",
       "\t<li>PRO-00023A</li>\n",
       "\t<li>PRO-00032L</li>\n",
       "\t<li>PRO-00033M</li>\n",
       "\t<li>PRO-00035O</li>\n",
       "\t<li>PRO-00039T</li>\n",
       "\t<li>PRO-00042X</li>\n",
       "\t<li>PRO-00043Z</li>\n",
       "</ol>\n",
       "\n",
       "<details>\n",
       "\t<summary style=display:list-item;cursor:pointer>\n",
       "\t\t<strong>Levels</strong>:\n",
       "\t</summary>\n",
       "\t<ol class=list-inline>\n",
       "\t\t<li>'PRO-00012N'</li>\n",
       "\t\t<li>'PRO-00013P'</li>\n",
       "\t\t<li>'PRO-00015S'</li>\n",
       "\t\t<li>'PRO-00023A'</li>\n",
       "\t\t<li>'PRO-00032L'</li>\n",
       "\t\t<li>'PRO-00033M'</li>\n",
       "\t\t<li>'PRO-00035O'</li>\n",
       "\t\t<li>'PRO-00039T'</li>\n",
       "\t\t<li>'PRO-00042X'</li>\n",
       "\t\t<li>'PRO-00043Z'</li>\n",
       "\t</ol>\n",
       "</details>"
      ],
      "text/latex": [
       "\\begin{enumerate*}\n",
       "\\item PRO-00012N\n",
       "\\item PRO-00013P\n",
       "\\item PRO-00015S\n",
       "\\item PRO-00023A\n",
       "\\item PRO-00032L\n",
       "\\item PRO-00033M\n",
       "\\item PRO-00035O\n",
       "\\item PRO-00039T\n",
       "\\item PRO-00042X\n",
       "\\item PRO-00043Z\n",
       "\\end{enumerate*}\n",
       "\n",
       "\\emph{Levels}: \\begin{enumerate*}\n",
       "\\item 'PRO-00012N'\n",
       "\\item 'PRO-00013P'\n",
       "\\item 'PRO-00015S'\n",
       "\\item 'PRO-00023A'\n",
       "\\item 'PRO-00032L'\n",
       "\\item 'PRO-00033M'\n",
       "\\item 'PRO-00035O'\n",
       "\\item 'PRO-00039T'\n",
       "\\item 'PRO-00042X'\n",
       "\\item 'PRO-00043Z'\n",
       "\\end{enumerate*}\n"
      ],
      "text/markdown": [
       "1. PRO-00012N\n",
       "2. PRO-00013P\n",
       "3. PRO-00015S\n",
       "4. PRO-00023A\n",
       "5. PRO-00032L\n",
       "6. PRO-00033M\n",
       "7. PRO-00035O\n",
       "8. PRO-00039T\n",
       "9. PRO-00042X\n",
       "10. PRO-00043Z\n",
       "\n",
       "\n",
       "\n",
       "**Levels**: 1. 'PRO-00012N'\n",
       "2. 'PRO-00013P'\n",
       "3. 'PRO-00015S'\n",
       "4. 'PRO-00023A'\n",
       "5. 'PRO-00032L'\n",
       "6. 'PRO-00033M'\n",
       "7. 'PRO-00035O'\n",
       "8. 'PRO-00039T'\n",
       "9. 'PRO-00042X'\n",
       "10. 'PRO-00043Z'\n",
       "\n",
       "\n"
      ],
      "text/plain": [
       " [1] PRO-00012N PRO-00013P PRO-00015S PRO-00023A PRO-00032L PRO-00033M\n",
       " [7] PRO-00035O PRO-00039T PRO-00042X PRO-00043Z\n",
       "10 Levels: PRO-00012N PRO-00013P PRO-00015S PRO-00023A ... PRO-00043Z"
      ]
     },
     "metadata": {},
     "output_type": "display_data"
    }
   ],
   "source": [
    "PROFYLE_Div_cap_TRA$filename"
   ]
  },
  {
   "cell_type": "code",
   "execution_count": 12,
   "metadata": {},
   "outputs": [
    {
     "data": {
      "text/html": [
       "<ol class=list-inline>\n",
       "\t<li>103.594</li>\n",
       "\t<li>5.213</li>\n",
       "\t<li>51.676</li>\n",
       "\t<li>45.806</li>\n",
       "\t<li>2.502</li>\n",
       "\t<li>9.029</li>\n",
       "\t<li>4.943</li>\n",
       "\t<li>5.669</li>\n",
       "\t<li>1.561</li>\n",
       "\t<li>8.801</li>\n",
       "</ol>\n"
      ],
      "text/latex": [
       "\\begin{enumerate*}\n",
       "\\item 103.594\n",
       "\\item 5.213\n",
       "\\item 51.676\n",
       "\\item 45.806\n",
       "\\item 2.502\n",
       "\\item 9.029\n",
       "\\item 4.943\n",
       "\\item 5.669\n",
       "\\item 1.561\n",
       "\\item 8.801\n",
       "\\end{enumerate*}\n"
      ],
      "text/markdown": [
       "1. 103.594\n",
       "2. 5.213\n",
       "3. 51.676\n",
       "4. 45.806\n",
       "5. 2.502\n",
       "6. 9.029\n",
       "7. 4.943\n",
       "8. 5.669\n",
       "9. 1.561\n",
       "10. 8.801\n",
       "\n",
       "\n"
      ],
      "text/plain": [
       " [1] 103.594   5.213  51.676  45.806   2.502   9.029   4.943   5.669   1.561\n",
       "[10]   8.801"
      ]
     },
     "metadata": {},
     "output_type": "display_data"
    }
   ],
   "source": [
    "PROFYLE_Div_cap_TRA$observed_Shannon"
   ]
  },
  {
   "cell_type": "code",
   "execution_count": 13,
   "metadata": {},
   "outputs": [
    {
     "data": {
      "text/html": [
       "<ol class=list-inline>\n",
       "\t<li>40.346</li>\n",
       "\t<li>4.437</li>\n",
       "\t<li>18.651</li>\n",
       "\t<li>39.61</li>\n",
       "\t<li>2.135</li>\n",
       "\t<li>8.034</li>\n",
       "\t<li>4.301</li>\n",
       "\t<li>3.99</li>\n",
       "\t<li>1.32</li>\n",
       "\t<li>7.387</li>\n",
       "</ol>\n"
      ],
      "text/latex": [
       "\\begin{enumerate*}\n",
       "\\item 40.346\n",
       "\\item 4.437\n",
       "\\item 18.651\n",
       "\\item 39.61\n",
       "\\item 2.135\n",
       "\\item 8.034\n",
       "\\item 4.301\n",
       "\\item 3.99\n",
       "\\item 1.32\n",
       "\\item 7.387\n",
       "\\end{enumerate*}\n"
      ],
      "text/markdown": [
       "1. 40.346\n",
       "2. 4.437\n",
       "3. 18.651\n",
       "4. 39.61\n",
       "5. 2.135\n",
       "6. 8.034\n",
       "7. 4.301\n",
       "8. 3.99\n",
       "9. 1.32\n",
       "10. 7.387\n",
       "\n",
       "\n"
      ],
      "text/plain": [
       " [1] 40.346  4.437 18.651 39.610  2.135  8.034  4.301  3.990  1.320  7.387"
      ]
     },
     "metadata": {},
     "output_type": "display_data"
    }
   ],
   "source": [
    "PROFYLE_Div_cap_TRA$observed_Simpson"
   ]
  },
  {
   "cell_type": "code",
   "execution_count": 15,
   "metadata": {},
   "outputs": [
    {
     "data": {
      "text/html": [
       "<table>\n",
       "<caption>A data.frame: 10 × 16</caption>\n",
       "<thead>\n",
       "\t<tr><th></th><th scope=col>filename</th><th scope=col>TRA</th><th scope=col>Reads</th><th scope=col>Average_reads</th><th scope=col>Max_reads</th><th scope=col>IDis</th><th scope=col>Singletons</th><th scope=col>Doubletons</th><th scope=col>qD</th><th scope=col>estimated_Richness</th><th scope=col>observed_Richness</th><th scope=col>estimated_Shannon</th><th scope=col>observed_Shannon</th><th scope=col>estimated_Simpson</th><th scope=col>observed_Simpson</th><th scope=col>Divscore</th></tr>\n",
       "\t<tr><th></th><th scope=col>&lt;fct&gt;</th><th scope=col>&lt;dbl&gt;</th><th scope=col>&lt;dbl&gt;</th><th scope=col>&lt;dbl&gt;</th><th scope=col>&lt;dbl&gt;</th><th scope=col>&lt;dbl&gt;</th><th scope=col>&lt;dbl&gt;</th><th scope=col>&lt;dbl&gt;</th><th scope=col>&lt;dbl&gt;</th><th scope=col>&lt;dbl&gt;</th><th scope=col>&lt;dbl&gt;</th><th scope=col>&lt;dbl&gt;</th><th scope=col>&lt;dbl&gt;</th><th scope=col>&lt;dbl&gt;</th><th scope=col>&lt;dbl&gt;</th><th scope=col>&lt;dbl&gt;</th></tr>\n",
       "</thead>\n",
       "<tbody>\n",
       "\t<tr><th scope=row>9</th><td>PRO-00042X</td><td>  30</td><td> 272841</td><td> 9094.700000</td><td>234731</td><td>4.7417903</td><td>  7</td><td> 2</td><td>  35.332</td><td>  42.250</td><td>  30</td><td>  1.561</td><td>  1.561</td><td> 1.320</td><td> 1.320</td><td>6.650166e-06</td></tr>\n",
       "\t<tr><th scope=row>5</th><td>PRO-00032L</td><td>  17</td><td>  17602</td><td> 1035.411765</td><td>  9929</td><td>2.7200754</td><td>  6</td><td> 1</td><td>  22.102</td><td>  34.999</td><td>  17</td><td>  2.504</td><td>  2.502</td><td> 2.135</td><td> 2.135</td><td>2.521906e-04</td></tr>\n",
       "\t<tr><th scope=row>7</th><td>PRO-00035O</td><td>   6</td><td>     23</td><td>    3.833333</td><td>     8</td><td>0.6885507</td><td>  1</td><td> 1</td><td>   6.414</td><td>   6.478</td><td>   6</td><td>  5.642</td><td>  4.943</td><td> 5.060</td><td> 4.301</td><td>7.052500e-01</td></tr>\n",
       "\t<tr><th scope=row>2</th><td>PRO-00013P</td><td>  75</td><td>2057580</td><td>27434.400000</td><td>604080</td><td>4.0147359</td><td> 20</td><td> 7</td><td>  89.383</td><td> 103.571</td><td>  75</td><td>  5.213</td><td>  5.213</td><td> 4.437</td><td> 4.437</td><td>8.629652e-06</td></tr>\n",
       "\t<tr><th scope=row>8</th><td>PRO-00039T</td><td>  80</td><td> 114288</td><td> 1428.600000</td><td> 39911</td><td>4.3923122</td><td> 11</td><td> 5</td><td>  87.225</td><td>  92.100</td><td>  80</td><td>  5.671</td><td>  5.669</td><td> 3.990</td><td> 3.990</td><td>1.420912e-04</td></tr>\n",
       "\t<tr><th scope=row>10</th><td>PRO-00043Z</td><td>  43</td><td> 235159</td><td> 5468.813953</td><td> 51568</td><td>2.2217414</td><td>  5</td><td> 3</td><td>  45.912</td><td>  47.167</td><td>  43</td><td>  8.802</td><td>  8.801</td><td> 7.387</td><td> 7.387</td><td>1.706872e-04</td></tr>\n",
       "\t<tr><th scope=row>6</th><td>PRO-00033M</td><td>  48</td><td> 261524</td><td> 5448.416667</td><td> 52874</td><td>2.2539316</td><td> 12</td><td> 4</td><td>  56.758</td><td>  66.000</td><td>  48</td><td>  9.031</td><td>  9.029</td><td> 8.035</td><td> 8.034</td><td>1.708023e-04</td></tr>\n",
       "\t<tr><th scope=row>4</th><td>PRO-00023A</td><td> 144</td><td> 544578</td><td> 3781.791667</td><td> 25608</td><td>1.6290669</td><td> 36</td><td>10</td><td> 171.621</td><td> 208.800</td><td> 144</td><td> 45.815</td><td> 45.806</td><td>39.613</td><td>39.610</td><td>1.789089e-03</td></tr>\n",
       "\t<tr><th scope=row>3</th><td>PRO-00015S</td><td> 651</td><td>2296620</td><td> 3527.834101</td><td>386112</td><td>5.8272455</td><td>115</td><td>25</td><td> 744.261</td><td> 915.500</td><td> 651</td><td> 51.686</td><td> 51.676</td><td>18.651</td><td>18.651</td><td>1.338627e-04</td></tr>\n",
       "\t<tr><th scope=row>1</th><td>PRO-00012N</td><td>1070</td><td>6116941</td><td> 5716.767290</td><td>681738</td><td>5.0541566</td><td>309</td><td>83</td><td>1309.063</td><td>1645.187</td><td>1070</td><td>103.608</td><td>103.594</td><td>40.346</td><td>40.346</td><td>1.519763e-04</td></tr>\n",
       "</tbody>\n",
       "</table>\n"
      ],
      "text/latex": [
       "A data.frame: 10 × 16\n",
       "\\begin{tabular}{r|llllllllllllllll}\n",
       "  & filename & TRA & Reads & Average\\_reads & Max\\_reads & IDis & Singletons & Doubletons & qD & estimated\\_Richness & observed\\_Richness & estimated\\_Shannon & observed\\_Shannon & estimated\\_Simpson & observed\\_Simpson & Divscore\\\\\n",
       "  & <fct> & <dbl> & <dbl> & <dbl> & <dbl> & <dbl> & <dbl> & <dbl> & <dbl> & <dbl> & <dbl> & <dbl> & <dbl> & <dbl> & <dbl> & <dbl>\\\\\n",
       "\\hline\n",
       "\t9 & PRO-00042X &   30 &  272841 &  9094.700000 & 234731 & 4.7417903 &   7 &  2 &   35.332 &   42.250 &   30 &   1.561 &   1.561 &  1.320 &  1.320 & 6.650166e-06\\\\\n",
       "\t5 & PRO-00032L &   17 &   17602 &  1035.411765 &   9929 & 2.7200754 &   6 &  1 &   22.102 &   34.999 &   17 &   2.504 &   2.502 &  2.135 &  2.135 & 2.521906e-04\\\\\n",
       "\t7 & PRO-00035O &    6 &      23 &     3.833333 &      8 & 0.6885507 &   1 &  1 &    6.414 &    6.478 &    6 &   5.642 &   4.943 &  5.060 &  4.301 & 7.052500e-01\\\\\n",
       "\t2 & PRO-00013P &   75 & 2057580 & 27434.400000 & 604080 & 4.0147359 &  20 &  7 &   89.383 &  103.571 &   75 &   5.213 &   5.213 &  4.437 &  4.437 & 8.629652e-06\\\\\n",
       "\t8 & PRO-00039T &   80 &  114288 &  1428.600000 &  39911 & 4.3923122 &  11 &  5 &   87.225 &   92.100 &   80 &   5.671 &   5.669 &  3.990 &  3.990 & 1.420912e-04\\\\\n",
       "\t10 & PRO-00043Z &   43 &  235159 &  5468.813953 &  51568 & 2.2217414 &   5 &  3 &   45.912 &   47.167 &   43 &   8.802 &   8.801 &  7.387 &  7.387 & 1.706872e-04\\\\\n",
       "\t6 & PRO-00033M &   48 &  261524 &  5448.416667 &  52874 & 2.2539316 &  12 &  4 &   56.758 &   66.000 &   48 &   9.031 &   9.029 &  8.035 &  8.034 & 1.708023e-04\\\\\n",
       "\t4 & PRO-00023A &  144 &  544578 &  3781.791667 &  25608 & 1.6290669 &  36 & 10 &  171.621 &  208.800 &  144 &  45.815 &  45.806 & 39.613 & 39.610 & 1.789089e-03\\\\\n",
       "\t3 & PRO-00015S &  651 & 2296620 &  3527.834101 & 386112 & 5.8272455 & 115 & 25 &  744.261 &  915.500 &  651 &  51.686 &  51.676 & 18.651 & 18.651 & 1.338627e-04\\\\\n",
       "\t1 & PRO-00012N & 1070 & 6116941 &  5716.767290 & 681738 & 5.0541566 & 309 & 83 & 1309.063 & 1645.187 & 1070 & 103.608 & 103.594 & 40.346 & 40.346 & 1.519763e-04\\\\\n",
       "\\end{tabular}\n"
      ],
      "text/markdown": [
       "\n",
       "A data.frame: 10 × 16\n",
       "\n",
       "| <!--/--> | filename &lt;fct&gt; | TRA &lt;dbl&gt; | Reads &lt;dbl&gt; | Average_reads &lt;dbl&gt; | Max_reads &lt;dbl&gt; | IDis &lt;dbl&gt; | Singletons &lt;dbl&gt; | Doubletons &lt;dbl&gt; | qD &lt;dbl&gt; | estimated_Richness &lt;dbl&gt; | observed_Richness &lt;dbl&gt; | estimated_Shannon &lt;dbl&gt; | observed_Shannon &lt;dbl&gt; | estimated_Simpson &lt;dbl&gt; | observed_Simpson &lt;dbl&gt; | Divscore &lt;dbl&gt; |\n",
       "|---|---|---|---|---|---|---|---|---|---|---|---|---|---|---|---|---|\n",
       "| 9 | PRO-00042X |   30 |  272841 |  9094.700000 | 234731 | 4.7417903 |   7 |  2 |   35.332 |   42.250 |   30 |   1.561 |   1.561 |  1.320 |  1.320 | 6.650166e-06 |\n",
       "| 5 | PRO-00032L |   17 |   17602 |  1035.411765 |   9929 | 2.7200754 |   6 |  1 |   22.102 |   34.999 |   17 |   2.504 |   2.502 |  2.135 |  2.135 | 2.521906e-04 |\n",
       "| 7 | PRO-00035O |    6 |      23 |     3.833333 |      8 | 0.6885507 |   1 |  1 |    6.414 |    6.478 |    6 |   5.642 |   4.943 |  5.060 |  4.301 | 7.052500e-01 |\n",
       "| 2 | PRO-00013P |   75 | 2057580 | 27434.400000 | 604080 | 4.0147359 |  20 |  7 |   89.383 |  103.571 |   75 |   5.213 |   5.213 |  4.437 |  4.437 | 8.629652e-06 |\n",
       "| 8 | PRO-00039T |   80 |  114288 |  1428.600000 |  39911 | 4.3923122 |  11 |  5 |   87.225 |   92.100 |   80 |   5.671 |   5.669 |  3.990 |  3.990 | 1.420912e-04 |\n",
       "| 10 | PRO-00043Z |   43 |  235159 |  5468.813953 |  51568 | 2.2217414 |   5 |  3 |   45.912 |   47.167 |   43 |   8.802 |   8.801 |  7.387 |  7.387 | 1.706872e-04 |\n",
       "| 6 | PRO-00033M |   48 |  261524 |  5448.416667 |  52874 | 2.2539316 |  12 |  4 |   56.758 |   66.000 |   48 |   9.031 |   9.029 |  8.035 |  8.034 | 1.708023e-04 |\n",
       "| 4 | PRO-00023A |  144 |  544578 |  3781.791667 |  25608 | 1.6290669 |  36 | 10 |  171.621 |  208.800 |  144 |  45.815 |  45.806 | 39.613 | 39.610 | 1.789089e-03 |\n",
       "| 3 | PRO-00015S |  651 | 2296620 |  3527.834101 | 386112 | 5.8272455 | 115 | 25 |  744.261 |  915.500 |  651 |  51.686 |  51.676 | 18.651 | 18.651 | 1.338627e-04 |\n",
       "| 1 | PRO-00012N | 1070 | 6116941 |  5716.767290 | 681738 | 5.0541566 | 309 | 83 | 1309.063 | 1645.187 | 1070 | 103.608 | 103.594 | 40.346 | 40.346 | 1.519763e-04 |\n",
       "\n"
      ],
      "text/plain": [
       "   filename   TRA  Reads   Average_reads Max_reads IDis      Singletons\n",
       "9  PRO-00042X   30  272841  9094.700000  234731    4.7417903   7       \n",
       "5  PRO-00032L   17   17602  1035.411765    9929    2.7200754   6       \n",
       "7  PRO-00035O    6      23     3.833333       8    0.6885507   1       \n",
       "2  PRO-00013P   75 2057580 27434.400000  604080    4.0147359  20       \n",
       "8  PRO-00039T   80  114288  1428.600000   39911    4.3923122  11       \n",
       "10 PRO-00043Z   43  235159  5468.813953   51568    2.2217414   5       \n",
       "6  PRO-00033M   48  261524  5448.416667   52874    2.2539316  12       \n",
       "4  PRO-00023A  144  544578  3781.791667   25608    1.6290669  36       \n",
       "3  PRO-00015S  651 2296620  3527.834101  386112    5.8272455 115       \n",
       "1  PRO-00012N 1070 6116941  5716.767290  681738    5.0541566 309       \n",
       "   Doubletons qD       estimated_Richness observed_Richness estimated_Shannon\n",
       "9   2           35.332   42.250             30                1.561          \n",
       "5   1           22.102   34.999             17                2.504          \n",
       "7   1            6.414    6.478              6                5.642          \n",
       "2   7           89.383  103.571             75                5.213          \n",
       "8   5           87.225   92.100             80                5.671          \n",
       "10  3           45.912   47.167             43                8.802          \n",
       "6   4           56.758   66.000             48                9.031          \n",
       "4  10          171.621  208.800            144               45.815          \n",
       "3  25          744.261  915.500            651               51.686          \n",
       "1  83         1309.063 1645.187           1070              103.608          \n",
       "   observed_Shannon estimated_Simpson observed_Simpson Divscore    \n",
       "9    1.561           1.320             1.320           6.650166e-06\n",
       "5    2.502           2.135             2.135           2.521906e-04\n",
       "7    4.943           5.060             4.301           7.052500e-01\n",
       "2    5.213           4.437             4.437           8.629652e-06\n",
       "8    5.669           3.990             3.990           1.420912e-04\n",
       "10   8.801           7.387             7.387           1.706872e-04\n",
       "6    9.029           8.035             8.034           1.708023e-04\n",
       "4   45.806          39.613            39.610           1.789089e-03\n",
       "3   51.676          18.651            18.651           1.338627e-04\n",
       "1  103.594          40.346            40.346           1.519763e-04"
      ]
     },
     "metadata": {},
     "output_type": "display_data"
    }
   ],
   "source": [
    "PROFYLE_Div_cap_TRA[order(PROFYLE_Div_cap_TRA$observed_Shannon),]"
   ]
  },
  {
   "cell_type": "code",
   "execution_count": 22,
   "metadata": {},
   "outputs": [],
   "source": [
    "clonesTRB <- clonplotfx(paste0(datapath,\"PROFYLE/TCRcap/\"),\"TRB\", ordershanTRB,\"PROFYLE\")"
   ]
  },
  {
   "cell_type": "code",
   "execution_count": 23,
   "metadata": {},
   "outputs": [],
   "source": [
    "clonesTRA <- clonplotfx(paste0(datapath,\"PROFYLE/TCRcap/\"),\"TRA\", ordershanTRB,\"PROFYLE\")"
   ]
  },
  {
   "cell_type": "code",
   "execution_count": 24,
   "metadata": {},
   "outputs": [
    {
     "name": "stderr",
     "output_type": "stream",
     "text": [
      "Scale for 'x' is already present. Adding another scale for 'x', which will\n",
      "replace the existing scale.\n"
     ]
    },
    {
     "data": {
      "image/png": "[encoded data removed]",
      "text/plain": [
       "plot without title"
      ]
     },
     "metadata": {},
     "output_type": "display_data"
    }
   ],
   "source": [
    "clonesTRA + scale_x_discrete(labels = ordershanTRA) + labs(title = \"clonesTRA\")"
   ]
  },
  {
   "cell_type": "code",
   "execution_count": 25,
   "metadata": {
    "scrolled": false
   },
   "outputs": [
    {
     "name": "stderr",
     "output_type": "stream",
     "text": [
      "Scale for 'x' is already present. Adding another scale for 'x', which will\n",
      "replace the existing scale.\n"
     ]
    },
    {
     "data": {
      "image/png": "[encoded data removed]",
      "text/plain": [
       "plot without title"
      ]
     },
     "metadata": {},
     "output_type": "display_data"
    }
   ],
   "source": [
    "clonesTRB + scale_x_discrete(labels = ordershanTRB) + labs(title = \"clonesTRB\")"
   ]
  },
  {
   "cell_type": "code",
   "execution_count": 26,
   "metadata": {},
   "outputs": [
    {
     "data": {
      "text/html": [
       "<strong>pdf:</strong> 2"
      ],
      "text/latex": [
       "\\textbf{pdf:} 2"
      ],
      "text/markdown": [
       "**pdf:** 2"
      ],
      "text/plain": [
       "pdf \n",
       "  2 "
      ]
     },
     "metadata": {},
     "output_type": "display_data"
    }
   ],
   "source": [
    "if(file.exists(paste(plotpath,\"PROFYLE_clonesTRA.pdf\", sep = \"\"))){\n",
    "    message(\"file exists!\")\n",
    "}else{\n",
    "    pdf(file = paste(plotpath,\"PROFYLE_clonesTRA.pdf\", sep = \"\"),\n",
    "        width = 10, \n",
    "        height = 10,\n",
    "        useDingbats = FALSE)\n",
    "    print(clonesTRA + labs(title = \"clonesTRA\"))\n",
    "    dev.off()\n",
    "    }"
   ]
  },
  {
   "cell_type": "code",
   "execution_count": 27,
   "metadata": {},
   "outputs": [
    {
     "data": {
      "text/html": [
       "<strong>pdf:</strong> 2"
      ],
      "text/latex": [
       "\\textbf{pdf:} 2"
      ],
      "text/markdown": [
       "**pdf:** 2"
      ],
      "text/plain": [
       "pdf \n",
       "  2 "
      ]
     },
     "metadata": {},
     "output_type": "display_data"
    }
   ],
   "source": [
    "if(file.exists(paste(plotpath,\"PROFYLE_clonesTRB.pdf\", sep = \"\"))){\n",
    "    message(\"file exists!\")\n",
    "}else{\n",
    "    pdf(file = paste(plotpath,\"PROFYLE_clonesTRB.pdf\", sep = \"\"),\n",
    "        width = 10, \n",
    "        height = 10,\n",
    "        useDingbats = FALSE)\n",
    "    print(clonesTRB + labs(title = \"clonesTRB\"))\n",
    "    dev.off()\n",
    "    }"
   ]
  },
  {
   "cell_type": "markdown",
   "metadata": {},
   "source": [
    "# Analysis of diversity measures"
   ]
  },
  {
   "cell_type": "code",
   "execution_count": 8,
   "metadata": {},
   "outputs": [
    {
     "name": "stderr",
     "output_type": "stream",
     "text": [
      "Warning message in readChar(con, 5L, useBytes = TRUE):\n",
      "“cannot open compressed file '/Users/anabbi/OneDrive - UHN/Documents/IPD2/Data/NPC_PROFYLE_Div_bulk_cap_TRA.RData', probable reason 'No such file or directory'”\n"
     ]
    },
    {
     "ename": "ERROR",
     "evalue": "Error in readChar(con, 5L, useBytes = TRUE): cannot open the connection\n",
     "output_type": "error",
     "traceback": [
      "Error in readChar(con, 5L, useBytes = TRUE): cannot open the connection\nTraceback:\n",
      "1. load(file = paste0(datapath, \"NPC_PROFYLE_Div_bulk_cap_TRA.RData\"))",
      "2. readChar(con, 5L, useBytes = TRUE)"
     ]
    }
   ],
   "source": [
    "load(file = paste0(datapath,\"NPC_PROFYLE_Div_bulk_cap_TRA.RData\"))\n",
    "\n",
    "load(file = paste0(datapath,\"NPC_PROFYLE_Div_bulk_cap_TRB.RData\"))"
   ]
  },
  {
   "cell_type": "code",
   "execution_count": 31,
   "metadata": {},
   "outputs": [
    {
     "data": {
      "text/html": [
       "<table>\n",
       "<caption>A data.frame: 6 × 32</caption>\n",
       "<thead>\n",
       "\t<tr><th scope=col>filename</th><th scope=col>cap_TRA</th><th scope=col>cap_Reads</th><th scope=col>cap_Average_reads</th><th scope=col>cap_Max_reads</th><th scope=col>cap_IDis</th><th scope=col>cap_Singletons</th><th scope=col>cap_Doubletons</th><th scope=col>cap_qD</th><th scope=col>cap_estimated_Richness</th><th scope=col>⋯</th><th scope=col>bulk_Doubletons</th><th scope=col>bulk_qD</th><th scope=col>bulk_estimated_Richness</th><th scope=col>bulk_observed_Richness</th><th scope=col>bulk_estimated_Shannon</th><th scope=col>bulk_observed_Shannon</th><th scope=col>bulk_estimated_Simpson</th><th scope=col>bulk_observed_Simpson</th><th scope=col>bulk_Divscore</th><th scope=col>group</th></tr>\n",
       "\t<tr><th scope=col>&lt;chr&gt;</th><th scope=col>&lt;dbl&gt;</th><th scope=col>&lt;dbl&gt;</th><th scope=col>&lt;dbl&gt;</th><th scope=col>&lt;dbl&gt;</th><th scope=col>&lt;dbl&gt;</th><th scope=col>&lt;dbl&gt;</th><th scope=col>&lt;dbl&gt;</th><th scope=col>&lt;dbl&gt;</th><th scope=col>&lt;dbl&gt;</th><th scope=col>⋯</th><th scope=col>&lt;dbl&gt;</th><th scope=col>&lt;dbl&gt;</th><th scope=col>&lt;dbl&gt;</th><th scope=col>&lt;dbl&gt;</th><th scope=col>&lt;dbl&gt;</th><th scope=col>&lt;dbl&gt;</th><th scope=col>&lt;dbl&gt;</th><th scope=col>&lt;dbl&gt;</th><th scope=col>&lt;dbl&gt;</th><th scope=col>&lt;chr&gt;</th></tr>\n",
       "</thead>\n",
       "<tbody>\n",
       "\t<tr><td>107JP </td><td> 62</td><td> 99023</td><td>1597.1452</td><td> 42267</td><td>3.776326</td><td> 29</td><td>11</td><td> 82.325</td><td>100.227</td><td>⋯</td><td>6</td><td>24.247</td><td>24.314</td><td>23</td><td>24.102</td><td>20.055</td><td>23.676</td><td>17.883</td><td>3.0127500</td><td>NPC</td></tr>\n",
       "\t<tr><td>108W03</td><td>108</td><td>323717</td><td>2997.3796</td><td> 45448</td><td>2.536044</td><td> 58</td><td>10</td><td>157.057</td><td>276.199</td><td>⋯</td><td>3</td><td>43.243</td><td>76.307</td><td>29</td><td>44.419</td><td>23.948</td><td>31.429</td><td>20.364</td><td>8.8838000</td><td>NPC</td></tr>\n",
       "\t<tr><td>10C02 </td><td>322</td><td> 33596</td><td> 104.3354</td><td> 11517</td><td>7.798831</td><td>146</td><td>61</td><td>420.959</td><td>496.716</td><td>⋯</td><td>1</td><td>12.153</td><td>14.359</td><td>10</td><td>10.227</td><td> 8.169</td><td> 8.857</td><td> 7.111</td><td>1.4610000</td><td>NPC</td></tr>\n",
       "\t<tr><td>111S03</td><td> 71</td><td>150261</td><td>2116.3521</td><td> 25757</td><td>2.706038</td><td> 29</td><td> 7</td><td> 94.003</td><td>131.071</td><td>⋯</td><td>1</td><td> 4.025</td><td> 4.500</td><td> 3</td><td> 4.891</td><td> 2.828</td><td> 2.667</td><td> 2.667</td><td>2.4455000</td><td>NPC</td></tr>\n",
       "\t<tr><td>116JC </td><td> 62</td><td>438883</td><td>7078.7581</td><td> 51037</td><td>2.012853</td><td> 31</td><td> 6</td><td> 87.705</td><td>142.083</td><td>⋯</td><td>3</td><td>22.165</td><td>22.165</td><td>22</td><td>22.191</td><td>19.978</td><td>22.440</td><td>18.664</td><td>2.4656667</td><td>NPC</td></tr>\n",
       "\t<tr><td>119AY </td><td> 34</td><td>332858</td><td>9789.9412</td><td>210780</td><td>3.818541</td><td> 16</td><td> 6</td><td> 45.256</td><td> 55.333</td><td>⋯</td><td>1</td><td>16.121</td><td>20.840</td><td>13</td><td>12.000</td><td> 9.795</td><td> 9.074</td><td> 7.812</td><td>0.9230769</td><td>NPC</td></tr>\n",
       "</tbody>\n",
       "</table>\n"
      ],
      "text/latex": [
       "A data.frame: 6 × 32\n",
       "\\begin{tabular}{r|llllllllllllllllllllllllllllllll}\n",
       " filename & cap\\_TRA & cap\\_Reads & cap\\_Average\\_reads & cap\\_Max\\_reads & cap\\_IDis & cap\\_Singletons & cap\\_Doubletons & cap\\_qD & cap\\_estimated\\_Richness & cap\\_observed\\_Richness & cap\\_estimated\\_Shannon & cap\\_observed\\_Shannon & cap\\_estimated\\_Simpson & cap\\_observed\\_Simpson & cap\\_Divscore & bulk\\_TRA & bulk\\_Reads & bulk\\_Average\\_reads & bulk\\_Max\\_reads & bulk\\_IDis & bulk\\_Singletons & bulk\\_Doubletons & bulk\\_qD & bulk\\_estimated\\_Richness & bulk\\_observed\\_Richness & bulk\\_estimated\\_Shannon & bulk\\_observed\\_Shannon & bulk\\_estimated\\_Simpson & bulk\\_observed\\_Simpson & bulk\\_Divscore & group\\\\\n",
       " <chr> & <dbl> & <dbl> & <dbl> & <dbl> & <dbl> & <dbl> & <dbl> & <dbl> & <dbl> & <dbl> & <dbl> & <dbl> & <dbl> & <dbl> & <dbl> & <dbl> & <dbl> & <dbl> & <dbl> & <dbl> & <dbl> & <dbl> & <dbl> & <dbl> & <dbl> & <dbl> & <dbl> & <dbl> & <dbl> & <dbl> & <chr>\\\\\n",
       "\\hline\n",
       "\t 107JP  &  62 &  99023 & 1597.1452 &  42267 & 3.776326 &  29 & 11 &  82.325 & 100.227 &  62 &  5.965 &  5.962 &  4.125 &  4.125 & 1.411266e-04 & 23 &  70 & 3.043478 &  8 & 0.5469260 &  4 & 6 & 24.247 & 24.314 & 23 & 24.102 & 20.055 & 23.676 & 17.883 & 3.0127500 & NPC\\\\\n",
       "\t 108W03 & 108 & 323717 & 2997.3796 &  45448 & 2.536044 &  58 & 10 & 157.057 & 276.199 & 108 & 17.939 & 17.932 & 14.651 & 14.650 & 3.947148e-04 & 29 &  56 & 1.931034 &  5 & 0.6627623 & 17 & 3 & 43.243 & 76.307 & 29 & 44.419 & 23.948 & 31.429 & 20.364 & 8.8838000 & NPC\\\\\n",
       "\t 10C02  & 322 &  33596 &  104.3354 &  11517 & 7.798831 & 146 & 61 & 420.959 & 496.716 & 322 &  8.513 &  8.443 &  5.225 &  5.224 & 7.391682e-04 & 10 &  32 & 3.200000 &  7 & 0.6718548 &  3 & 1 & 12.153 & 14.359 & 10 & 10.227 &  8.169 &  8.857 &  7.111 & 1.4610000 & NPC\\\\\n",
       "\t 111S03 &  71 & 150261 & 2116.3521 &  25757 & 2.706038 &  29 &  7 &  94.003 & 131.071 &  71 & 10.180 & 10.176 &  8.638 &  8.638 & 3.952324e-04 &  3 &   4 & 1.333333 &  2 & 0.4330127 &  2 & 1 &  4.025 &  4.500 &  3 &  4.891 &  2.828 &  2.667 &  2.667 & 2.4455000 & NPC\\\\\n",
       "\t 116JC  &  62 & 438883 & 7078.7581 &  51037 & 2.012853 &  31 &  6 &  87.705 & 142.083 &  62 & 13.894 & 13.892 & 12.435 & 12.434 & 2.722339e-04 & 22 & 106 & 4.818182 &  9 & 0.4326908 &  1 & 3 & 22.165 & 22.165 & 22 & 22.191 & 19.978 & 22.440 & 18.664 & 2.4656667 & NPC\\\\\n",
       "\t 119AY  &  34 & 332858 & 9789.9412 & 210780 & 3.818541 &  16 &  6 &  45.256 &  55.333 &  34 &  3.081 &  3.081 &  2.244 &  2.244 & 1.461714e-05 & 13 &  50 & 3.846154 & 13 & 0.8481352 &  4 & 1 & 16.121 & 20.840 & 13 & 12.000 &  9.795 &  9.074 &  7.812 & 0.9230769 & NPC\\\\\n",
       "\\end{tabular}\n"
      ],
      "text/markdown": [
       "\n",
       "A data.frame: 6 × 32\n",
       "\n",
       "| filename &lt;chr&gt; | cap_TRA &lt;dbl&gt; | cap_Reads &lt;dbl&gt; | cap_Average_reads &lt;dbl&gt; | cap_Max_reads &lt;dbl&gt; | cap_IDis &lt;dbl&gt; | cap_Singletons &lt;dbl&gt; | cap_Doubletons &lt;dbl&gt; | cap_qD &lt;dbl&gt; | cap_estimated_Richness &lt;dbl&gt; | ⋯ ⋯ | bulk_Doubletons &lt;dbl&gt; | bulk_qD &lt;dbl&gt; | bulk_estimated_Richness &lt;dbl&gt; | bulk_observed_Richness &lt;dbl&gt; | bulk_estimated_Shannon &lt;dbl&gt; | bulk_observed_Shannon &lt;dbl&gt; | bulk_estimated_Simpson &lt;dbl&gt; | bulk_observed_Simpson &lt;dbl&gt; | bulk_Divscore &lt;dbl&gt; | group &lt;chr&gt; |\n",
       "|---|---|---|---|---|---|---|---|---|---|---|---|---|---|---|---|---|---|---|---|---|\n",
       "| 107JP  |  62 |  99023 | 1597.1452 |  42267 | 3.776326 |  29 | 11 |  82.325 | 100.227 | ⋯ | 6 | 24.247 | 24.314 | 23 | 24.102 | 20.055 | 23.676 | 17.883 | 3.0127500 | NPC |\n",
       "| 108W03 | 108 | 323717 | 2997.3796 |  45448 | 2.536044 |  58 | 10 | 157.057 | 276.199 | ⋯ | 3 | 43.243 | 76.307 | 29 | 44.419 | 23.948 | 31.429 | 20.364 | 8.8838000 | NPC |\n",
       "| 10C02  | 322 |  33596 |  104.3354 |  11517 | 7.798831 | 146 | 61 | 420.959 | 496.716 | ⋯ | 1 | 12.153 | 14.359 | 10 | 10.227 |  8.169 |  8.857 |  7.111 | 1.4610000 | NPC |\n",
       "| 111S03 |  71 | 150261 | 2116.3521 |  25757 | 2.706038 |  29 |  7 |  94.003 | 131.071 | ⋯ | 1 |  4.025 |  4.500 |  3 |  4.891 |  2.828 |  2.667 |  2.667 | 2.4455000 | NPC |\n",
       "| 116JC  |  62 | 438883 | 7078.7581 |  51037 | 2.012853 |  31 |  6 |  87.705 | 142.083 | ⋯ | 3 | 22.165 | 22.165 | 22 | 22.191 | 19.978 | 22.440 | 18.664 | 2.4656667 | NPC |\n",
       "| 119AY  |  34 | 332858 | 9789.9412 | 210780 | 3.818541 |  16 |  6 |  45.256 |  55.333 | ⋯ | 1 | 16.121 | 20.840 | 13 | 12.000 |  9.795 |  9.074 |  7.812 | 0.9230769 | NPC |\n",
       "\n"
      ],
      "text/plain": [
       "  filename cap_TRA cap_Reads cap_Average_reads cap_Max_reads cap_IDis\n",
       "1 107JP     62      99023    1597.1452          42267        3.776326\n",
       "2 108W03   108     323717    2997.3796          45448        2.536044\n",
       "3 10C02    322      33596     104.3354          11517        7.798831\n",
       "4 111S03    71     150261    2116.3521          25757        2.706038\n",
       "5 116JC     62     438883    7078.7581          51037        2.012853\n",
       "6 119AY     34     332858    9789.9412         210780        3.818541\n",
       "  cap_Singletons cap_Doubletons cap_qD  cap_estimated_Richness ⋯\n",
       "1  29            11              82.325 100.227                ⋯\n",
       "2  58            10             157.057 276.199                ⋯\n",
       "3 146            61             420.959 496.716                ⋯\n",
       "4  29             7              94.003 131.071                ⋯\n",
       "5  31             6              87.705 142.083                ⋯\n",
       "6  16             6              45.256  55.333                ⋯\n",
       "  bulk_Doubletons bulk_qD bulk_estimated_Richness bulk_observed_Richness\n",
       "1 6               24.247  24.314                  23                    \n",
       "2 3               43.243  76.307                  29                    \n",
       "3 1               12.153  14.359                  10                    \n",
       "4 1                4.025   4.500                   3                    \n",
       "5 3               22.165  22.165                  22                    \n",
       "6 1               16.121  20.840                  13                    \n",
       "  bulk_estimated_Shannon bulk_observed_Shannon bulk_estimated_Simpson\n",
       "1 24.102                 20.055                23.676                \n",
       "2 44.419                 23.948                31.429                \n",
       "3 10.227                  8.169                 8.857                \n",
       "4  4.891                  2.828                 2.667                \n",
       "5 22.191                 19.978                22.440                \n",
       "6 12.000                  9.795                 9.074                \n",
       "  bulk_observed_Simpson bulk_Divscore group\n",
       "1 17.883                3.0127500     NPC  \n",
       "2 20.364                8.8838000     NPC  \n",
       "3  7.111                1.4610000     NPC  \n",
       "4  2.667                2.4455000     NPC  \n",
       "5 18.664                2.4656667     NPC  \n",
       "6  7.812                0.9230769     NPC  "
      ]
     },
     "metadata": {},
     "output_type": "display_data"
    }
   ],
   "source": [
    "head(Div_TRA)"
   ]
  },
  {
   "cell_type": "code",
   "execution_count": 38,
   "metadata": {},
   "outputs": [],
   "source": []
  },
  {
   "cell_type": "code",
   "execution_count": 39,
   "metadata": {},
   "outputs": [],
   "source": [
    "bulkcap_TRAplot_simp <- ggplot(data = Div_TRA,\n",
    "                    aes(x = cap_observed_Simpson, \n",
    "                        y = bulk_estimated_Simpson)) +\n",
    "geom_point(aes(color = group),\n",
    "          size = 5) +\n",
    "#plot format\n",
    "theme(plot.title = element_text(size = 22),\n",
    "      panel.grid.major = element_blank(),\n",
    "      panel.grid.minor = element_blank(),\n",
    "      panel.background = element_rect(fill = \"transparent\", \n",
    "                                      colour = NA),\n",
    "      panel.border=element_blank(),\n",
    "      plot.margin = unit(c(0.5,0,0,0),\"cm\")) +\n",
    "#axis\n",
    "theme(axis.text = element_text(size = 24),\n",
    "      axis.text.x = element_text( hjust = 1),\n",
    "      axis.title = element_text(size = 28,\n",
    "                                 margin = margin(r = 4, unit = \"mm\")),\n",
    "      axis.line = element_line(color = \"black\")) +\n",
    "#legends\n",
    "theme(legend.position = \"none\",\n",
    "      legend.key = element_rect(fill = \"white\", \n",
    "                                colour = \"white\"),\n",
    "      legend.text = element_text(size = 20)) +\n",
    "guides(colour = guide_legend(override.aes = list(alpha = 1, \n",
    "                                                 size = 8))) + \n",
    "scale_x_continuous(trans = \"log10\") +\n",
    "scale_y_continuous(trans = \"log10\") +\n",
    "labs(y = \"Inferred Simpson diversity (RNAseq)\",\n",
    "    x = \"Simpson diversity (TCRcap)\",\n",
    "    title = \"TRA diversity\")"
   ]
  },
  {
   "cell_type": "code",
   "execution_count": 40,
   "metadata": {},
   "outputs": [],
   "source": [
    "bulkcap_TRAplot_rich <- ggplot(data = Div_TRA,\n",
    "                    aes(x = cap_observed_Richness, \n",
    "                        y = bulk_estimated_Richness)) +\n",
    "geom_point(aes(color = group),\n",
    "          size = 5) +\n",
    "#plot format\n",
    "theme(plot.title = element_text(size = 22),\n",
    "      panel.grid.major = element_blank(),\n",
    "      panel.grid.minor = element_blank(),\n",
    "      panel.background = element_rect(fill = \"transparent\", \n",
    "                                      colour = NA),\n",
    "      panel.border=element_blank(),\n",
    "      plot.margin = unit(c(0.5,0,0,0),\"cm\")) +\n",
    "#axis\n",
    "theme(axis.text = element_text(size = 24),\n",
    "      axis.text.x = element_text( hjust = 1),\n",
    "      axis.title = element_text(size = 28,\n",
    "                                 margin = margin(r = 4, unit = \"mm\")),\n",
    "      axis.line = element_line(color = \"black\")) +\n",
    "#legends\n",
    "theme(legend.position = \"none\",\n",
    "      legend.key = element_rect(fill = \"white\", \n",
    "                                colour = \"white\"),\n",
    "      legend.text = element_text(size = 20)) +\n",
    "guides(colour = guide_legend(override.aes = list(alpha = 1, \n",
    "                                                 size = 8))) + \n",
    "scale_x_continuous(trans = \"log10\") +\n",
    "scale_y_continuous(trans = \"log10\") +\n",
    "labs(y = \"Inferred richness (RNAseq)\",\n",
    "    x = \"Richness (TCRcap)\",\n",
    "    title = \"TRA diversity\")"
   ]
  },
  {
   "cell_type": "code",
   "execution_count": 41,
   "metadata": {
    "scrolled": false
   },
   "outputs": [
    {
     "data": {
      "image/png": "[encoded data removed]",
      "text/plain": [
       "plot without title"
      ]
     },
     "metadata": {},
     "output_type": "display_data"
    }
   ],
   "source": [
    "bulkcap_TRAplot_rich"
   ]
  },
  {
   "cell_type": "code",
   "execution_count": 68,
   "metadata": {},
   "outputs": [
    {
     "name": "stderr",
     "output_type": "stream",
     "text": [
      "file exists!\n"
     ]
    }
   ],
   "source": [
    "if(file.exists(paste(plotpath,\"osimp_esimp_NPC_PROFYLE_TRA.pdf\", sep = \"\"))){\n",
    "    message(\"file exists!\")\n",
    "}else{\n",
    "    pdf(file = paste(plotpath,\"osimp_esimp_NPC_PROFYLE_TRA.pdf\", sep = \"\"),\n",
    "        width = 10, \n",
    "        height = 10,\n",
    "        useDingbats = FALSE)\n",
    "    print(bulkcap_TRAplot_simp + annotation_logticks(sides = \"lb\"))\n",
    "    dev.off()\n",
    "    }"
   ]
  },
  {
   "cell_type": "code",
   "execution_count": 69,
   "metadata": {},
   "outputs": [
    {
     "name": "stderr",
     "output_type": "stream",
     "text": [
      "file exists!\n"
     ]
    }
   ],
   "source": [
    "if(file.exists(paste(plotpath,\"oshan_eshan_NPC_PROFYLE_TRA.pdf\", sep = \"\"))){\n",
    "    message(\"file exists!\")\n",
    "}else{\n",
    "    pdf(file = paste(plotpath,\"oshan_eshan_NPC_PROFYLE_TRA.pdf\", sep = \"\"),\n",
    "        width = 10, \n",
    "        height = 10,\n",
    "        useDingbats = FALSE)\n",
    "    print(bulkcap_TRAplot_shan + annotation_logticks(sides = \"lb\"))\n",
    "    dev.off()\n",
    "    }"
   ]
  },
  {
   "cell_type": "code",
   "execution_count": 59,
   "metadata": {},
   "outputs": [
    {
     "data": {
      "text/html": [
       "<strong>pdf:</strong> 2"
      ],
      "text/latex": [
       "\\textbf{pdf:} 2"
      ],
      "text/markdown": [
       "**pdf:** 2"
      ],
      "text/plain": [
       "pdf \n",
       "  2 "
      ]
     },
     "metadata": {},
     "output_type": "display_data"
    }
   ],
   "source": [
    "if(file.exists(paste(plotpath,\"orich_erich_NPC_PROFYLE_TRA.pdf\", sep = \"\"))){\n",
    "    message(\"file exists!\")\n",
    "}else{\n",
    "    pdf(file = paste(plotpath,\"orich_erich_NPC_PROFYLE_TRA.pdf\", sep = \"\"),\n",
    "        width = 10, \n",
    "        height = 10,\n",
    "        useDingbats = FALSE)\n",
    "    print(bulkcap_TRAplot_rich + annotation_logticks(sides = \"lb\"))\n",
    "    dev.off()\n",
    "    }"
   ]
  },
  {
   "cell_type": "code",
   "execution_count": 74,
   "metadata": {},
   "outputs": [],
   "source": [
    "bulkcap_TRBplot_rich <- ggplot(data = Div_TRB,\n",
    "                    aes(x = (cap_observed_Richness), \n",
    "                        y = (bulk_estimated_Richness))) +\n",
    "geom_point(aes(color = group),\n",
    "          size = 5) +\n",
    "#plot format\n",
    "theme(plot.title = element_text(size = 22),\n",
    "      panel.grid.major = element_blank(),\n",
    "      panel.grid.minor = element_blank(),\n",
    "      panel.background = element_rect(fill = \"transparent\", \n",
    "                                      colour = NA),\n",
    "      panel.border=element_blank(),\n",
    "      plot.margin = unit(c(0.5,0,0,0),\"cm\")) +\n",
    "#axis\n",
    "theme(axis.text = element_text(size = 24),\n",
    "      axis.ticks.x = element_blank(),\n",
    "      axis.text.x = element_text( hjust = 1),\n",
    "      axis.title = element_text(size = 28,\n",
    "                                 margin = margin(r = 4, unit = \"mm\")),\n",
    "      axis.line = element_line(color = \"black\")) +\n",
    "#legends\n",
    "theme(legend.position = \"none\",\n",
    "      legend.key = element_rect(fill = \"white\", \n",
    "                                colour = \"white\"), \n",
    "      legend.text = element_text(size = 20)) +\n",
    "guides(colour = guide_legend(override.aes = list(alpha = 1, \n",
    "                                                 size = 8))) + \n",
    "scale_x_continuous(trans = \"log10\") +\n",
    "scale_y_continuous(trans = \"log10\") +\n",
    "labs(y = \"Inferred richness (RNAseq)\",\n",
    "    x = \"Richness (TCRcap)\",\n",
    "    title = \"TRB diversity\")"
   ]
  },
  {
   "cell_type": "code",
   "execution_count": 75,
   "metadata": {},
   "outputs": [],
   "source": [
    "bulkcap_TRBplot_simp <- ggplot(data = Div_TRB,\n",
    "                    aes(x = (cap_observed_Simpson), \n",
    "                        y = (bulk_estimated_Simpson))) +\n",
    "geom_point(aes(color = group),\n",
    "          size = 5) +\n",
    "#plot format\n",
    "theme(plot.title = element_text(size = 22),\n",
    "      panel.grid.major = element_blank(),\n",
    "      panel.grid.minor = element_blank(),\n",
    "      panel.background = element_rect(fill = \"transparent\", \n",
    "                                      colour = NA),\n",
    "      panel.border=element_blank(),\n",
    "      plot.margin = unit(c(0.5,0,0,0),\"cm\")) +\n",
    "#axis\n",
    "theme(axis.text = element_text(size = 24),\n",
    "      axis.text.x = element_text( hjust = 1),\n",
    "      axis.title = element_text(size = 28,\n",
    "                                 margin = margin(r = 4, unit = \"mm\")),\n",
    "      axis.line = element_line(color = \"black\")) +\n",
    "#legends\n",
    "theme(legend.position = \"none\",\n",
    "      legend.key = element_rect(fill = \"white\", \n",
    "                                colour = \"white\"), \n",
    "      legend.text = element_text(size = 20)) +\n",
    "guides(colour = guide_legend(override.aes = list(alpha = 1, \n",
    "                                                 size = 8))) + \n",
    "scale_x_continuous(trans = \"log10\") +\n",
    "scale_y_continuous(trans = \"log10\") +\n",
    "labs(y = \"Inferred Simpson diversity (RNAseq)\",\n",
    "    x = \"Simpson diversity (TCRcap)\",\n",
    "    title = \"TRB diversity\")"
   ]
  },
  {
   "cell_type": "code",
   "execution_count": 90,
   "metadata": {},
   "outputs": [],
   "source": [
    "bulkcap_TRBplot_shan <- ggplot(data = Div_TRB,\n",
    "                    aes(x = (cap_observed_Shannon), \n",
    "                        y = (bulk_estimated_Shannon))) +\n",
    "geom_point(aes(color = group),\n",
    "          size = 5) +\n",
    "#plot format\n",
    "theme(plot.title = element_text(size = 22),\n",
    "      panel.grid.major = element_blank(),\n",
    "      panel.grid.minor = element_blank(),\n",
    "      panel.background = element_rect(fill = \"transparent\", \n",
    "                                      colour = NA),\n",
    "      panel.border=element_blank(),\n",
    "      plot.margin = unit(c(0.5,0,0,0),\"cm\")) +\n",
    "#axis\n",
    "theme(axis.text = element_text(size = 24),\n",
    "      axis.text.x = element_text( hjust = 1),\n",
    "      axis.title = element_text(size = 28,\n",
    "                                 margin = margin(r = 4, unit = \"mm\")),\n",
    "      axis.line = element_line(color = \"black\")) +\n",
    "#legends\n",
    "theme(legend.position = \"none\",\n",
    "      legend.key = element_rect(fill = \"white\", \n",
    "                                colour = \"white\"), \n",
    "      legend.text = element_text(size = 20)) +\n",
    "guides(colour = guide_legend(override.aes = list(alpha = 1, \n",
    "                                                 size = 8))) + \n",
    "scale_x_continuous(trans = \"log10\") +\n",
    "scale_y_continuous(trans = \"log10\") +\n",
    "labs(y = \"Inferred Shannon diversity (RNAseq)\",\n",
    "    x = \"Shannon diversity (TCRcap)\",\n",
    "    title = \"TRB diversity\")"
   ]
  },
  {
   "cell_type": "code",
   "execution_count": 86,
   "metadata": {},
   "outputs": [
    {
     "data": {
      "text/html": [
       "34.999"
      ],
      "text/latex": [
       "34.999"
      ],
      "text/markdown": [
       "34.999"
      ],
      "text/plain": [
       "[1] 34.999"
      ]
     },
     "metadata": {},
     "output_type": "display_data"
    }
   ],
   "source": [
    "max(Div_TRB$cap_estimated_Simpson)"
   ]
  },
  {
   "cell_type": "code",
   "execution_count": 91,
   "metadata": {},
   "outputs": [
    {
     "data": {
      "image/png": "[encoded data removed]",
      "text/plain": [
       "plot without title"
      ]
     },
     "metadata": {},
     "output_type": "display_data"
    }
   ],
   "source": [
    "bulkcap_TRBplot_shan"
   ]
  },
  {
   "cell_type": "code",
   "execution_count": 79,
   "metadata": {},
   "outputs": [
    {
     "data": {
      "text/html": [
       "<strong>pdf:</strong> 2"
      ],
      "text/latex": [
       "\\textbf{pdf:} 2"
      ],
      "text/markdown": [
       "**pdf:** 2"
      ],
      "text/plain": [
       "pdf \n",
       "  2 "
      ]
     },
     "metadata": {},
     "output_type": "display_data"
    }
   ],
   "source": [
    "if(file.exists(paste(plotpath,\"osimp_esimp_NPC_PROFYLE_TRB.pdf\", sep = \"\"))){\n",
    "    message(\"file exists!\")\n",
    "}else{\n",
    "    pdf(file = paste(plotpath,\"osimp_esimp_NPC_PROFYLE_TRB.pdf\", sep = \"\"),\n",
    "        width = 10, \n",
    "        height = 10,\n",
    "        useDingbats = FALSE)\n",
    "    print(bulkcap_TRBplot_simp + annotation_logticks(sides = \"lb\"))\n",
    "    dev.off()\n",
    "    }"
   ]
  },
  {
   "cell_type": "code",
   "execution_count": 80,
   "metadata": {},
   "outputs": [
    {
     "data": {
      "text/html": [
       "<strong>pdf:</strong> 2"
      ],
      "text/latex": [
       "\\textbf{pdf:} 2"
      ],
      "text/markdown": [
       "**pdf:** 2"
      ],
      "text/plain": [
       "pdf \n",
       "  2 "
      ]
     },
     "metadata": {},
     "output_type": "display_data"
    }
   ],
   "source": [
    "if(file.exists(paste(plotpath,\"orich_erich_NPC_PROFYLE_TRB.pdf\", sep = \"\"))){\n",
    "    message(\"file exists!\")\n",
    "}else{\n",
    "    pdf(file = paste(plotpath,\"orich_erich_NPC_PROFYLE_TRB.pdf\", sep = \"\"),\n",
    "        width = 10, \n",
    "        height = 10,\n",
    "        useDingbats = FALSE)\n",
    "    print(bulkcap_TRBplot_rich + annotation_logticks(sides = \"lb\"))\n",
    "    dev.off()\n",
    "    }"
   ]
  },
  {
   "cell_type": "code",
   "execution_count": 81,
   "metadata": {},
   "outputs": [
    {
     "data": {
      "text/html": [
       "<strong>pdf:</strong> 2"
      ],
      "text/latex": [
       "\\textbf{pdf:} 2"
      ],
      "text/markdown": [
       "**pdf:** 2"
      ],
      "text/plain": [
       "pdf \n",
       "  2 "
      ]
     },
     "metadata": {},
     "output_type": "display_data"
    }
   ],
   "source": [
    "if(file.exists(paste(plotpath,\"oshan_eshan_NPC_PROFYLE_TRB.pdf\", sep = \"\"))){\n",
    "    message(\"file exists!\")\n",
    "}else{\n",
    "    pdf(file = paste(plotpath,\"oshan_eshan_NPC_PROFYLE_TRB.pdf\", sep = \"\"),\n",
    "        width = 10, \n",
    "        height = 10,\n",
    "        useDingbats = FALSE)\n",
    "    print(bulkcap_TRBplot_shan + annotation_logticks(sides = \"lb\"))\n",
    "    dev.off()\n",
    "    }"
   ]
  },
  {
   "cell_type": "code",
   "execution_count": 83,
   "metadata": {},
   "outputs": [
    {
     "data": {
      "image/png": "[encoded data removed]",
      "text/plain": [
       "plot without title"
      ]
     },
     "metadata": {},
     "output_type": "display_data"
    }
   ],
   "source": [
    "bulkcap_TRBplot_shan + annotation_logticks(sides = \"lb\")"
   ]
  },
  {
   "cell_type": "code",
   "execution_count": null,
   "metadata": {},
   "outputs": [],
   "source": []
  },
  {
   "cell_type": "code",
   "execution_count": null,
   "metadata": {},
   "outputs": [],
   "source": []
  },
  {
   "cell_type": "markdown",
   "metadata": {},
   "source": [
    "## linear regression"
   ]
  },
  {
   "cell_type": "code",
   "execution_count": 66,
   "metadata": {},
   "outputs": [],
   "source": [
    "lmreg_TRA_rich <- lm(bulk_estimated_Richness ~ cap_observed_Richness, data = Div_TRA)\n",
    "lmreg_TRA_shan <- lm(bulk_estimated_Shannon ~ cap_observed_Shannon, data = Div_TRA)\n",
    "lmreg_TRA_simp <- lm(bulk_estimated_Simpson ~ cap_observed_Simpson, data = Div_TRA)\n",
    "\n",
    "lmreg_TRB_rich <- lm(bulk_estimated_Richness ~ cap_observed_Richness, data = Div_TRB)\n",
    "lmreg_TRB_shan <- lm(bulk_estimated_Shannon ~ cap_observed_Shannon, data = Div_TRB)\n",
    "lmreg_TRB_simp <- lm(bulk_estimated_Simpson ~ cap_observed_Simpson, data = Div_TRB)\n"
   ]
  },
  {
   "cell_type": "code",
   "execution_count": 67,
   "metadata": {},
   "outputs": [
    {
     "data": {
      "text/html": [
       "<table>\n",
       "<caption>A tibble: 1 × 11</caption>\n",
       "<thead>\n",
       "\t<tr><th scope=col>r.squared</th><th scope=col>adj.r.squared</th><th scope=col>sigma</th><th scope=col>statistic</th><th scope=col>p.value</th><th scope=col>df</th><th scope=col>logLik</th><th scope=col>AIC</th><th scope=col>BIC</th><th scope=col>deviance</th><th scope=col>df.residual</th></tr>\n",
       "\t<tr><th scope=col>&lt;dbl&gt;</th><th scope=col>&lt;dbl&gt;</th><th scope=col>&lt;dbl&gt;</th><th scope=col>&lt;dbl&gt;</th><th scope=col>&lt;dbl&gt;</th><th scope=col>&lt;int&gt;</th><th scope=col>&lt;dbl&gt;</th><th scope=col>&lt;dbl&gt;</th><th scope=col>&lt;dbl&gt;</th><th scope=col>&lt;dbl&gt;</th><th scope=col>&lt;int&gt;</th></tr>\n",
       "</thead>\n",
       "<tbody>\n",
       "\t<tr><td>0.2028585</td><td>0.1771443</td><td>25.87559</td><td>7.888955</td><td>0.008532656</td><td>2</td><td>-153.1523</td><td>312.3046</td><td>316.7941</td><td>20755.93</td><td>31</td></tr>\n",
       "</tbody>\n",
       "</table>\n"
      ],
      "text/latex": [
       "A tibble: 1 × 11\n",
       "\\begin{tabular}{r|lllllllllll}\n",
       " r.squared & adj.r.squared & sigma & statistic & p.value & df & logLik & AIC & BIC & deviance & df.residual\\\\\n",
       " <dbl> & <dbl> & <dbl> & <dbl> & <dbl> & <int> & <dbl> & <dbl> & <dbl> & <dbl> & <int>\\\\\n",
       "\\hline\n",
       "\t 0.2028585 & 0.1771443 & 25.87559 & 7.888955 & 0.008532656 & 2 & -153.1523 & 312.3046 & 316.7941 & 20755.93 & 31\\\\\n",
       "\\end{tabular}\n"
      ],
      "text/markdown": [
       "\n",
       "A tibble: 1 × 11\n",
       "\n",
       "| r.squared &lt;dbl&gt; | adj.r.squared &lt;dbl&gt; | sigma &lt;dbl&gt; | statistic &lt;dbl&gt; | p.value &lt;dbl&gt; | df &lt;int&gt; | logLik &lt;dbl&gt; | AIC &lt;dbl&gt; | BIC &lt;dbl&gt; | deviance &lt;dbl&gt; | df.residual &lt;int&gt; |\n",
       "|---|---|---|---|---|---|---|---|---|---|---|\n",
       "| 0.2028585 | 0.1771443 | 25.87559 | 7.888955 | 0.008532656 | 2 | -153.1523 | 312.3046 | 316.7941 | 20755.93 | 31 |\n",
       "\n"
      ],
      "text/plain": [
       "  r.squared adj.r.squared sigma    statistic p.value     df logLik    AIC     \n",
       "1 0.2028585 0.1771443     25.87559 7.888955  0.008532656 2  -153.1523 312.3046\n",
       "  BIC      deviance df.residual\n",
       "1 316.7941 20755.93 31         "
      ]
     },
     "metadata": {},
     "output_type": "display_data"
    },
    {
     "data": {
      "text/html": [
       "<table>\n",
       "<caption>A tibble: 1 × 11</caption>\n",
       "<thead>\n",
       "\t<tr><th scope=col>r.squared</th><th scope=col>adj.r.squared</th><th scope=col>sigma</th><th scope=col>statistic</th><th scope=col>p.value</th><th scope=col>df</th><th scope=col>logLik</th><th scope=col>AIC</th><th scope=col>BIC</th><th scope=col>deviance</th><th scope=col>df.residual</th></tr>\n",
       "\t<tr><th scope=col>&lt;dbl&gt;</th><th scope=col>&lt;dbl&gt;</th><th scope=col>&lt;dbl&gt;</th><th scope=col>&lt;dbl&gt;</th><th scope=col>&lt;dbl&gt;</th><th scope=col>&lt;int&gt;</th><th scope=col>&lt;dbl&gt;</th><th scope=col>&lt;dbl&gt;</th><th scope=col>&lt;dbl&gt;</th><th scope=col>&lt;dbl&gt;</th><th scope=col>&lt;int&gt;</th></tr>\n",
       "</thead>\n",
       "<tbody>\n",
       "\t<tr><td>0.6556894</td><td>0.6445826</td><td>15.86145</td><td>59.03498</td><td>1.149394e-08</td><td>2</td><td>-137.0018</td><td>280.0036</td><td>284.4932</td><td>7799.157</td><td>31</td></tr>\n",
       "</tbody>\n",
       "</table>\n"
      ],
      "text/latex": [
       "A tibble: 1 × 11\n",
       "\\begin{tabular}{r|lllllllllll}\n",
       " r.squared & adj.r.squared & sigma & statistic & p.value & df & logLik & AIC & BIC & deviance & df.residual\\\\\n",
       " <dbl> & <dbl> & <dbl> & <dbl> & <dbl> & <int> & <dbl> & <dbl> & <dbl> & <dbl> & <int>\\\\\n",
       "\\hline\n",
       "\t 0.6556894 & 0.6445826 & 15.86145 & 59.03498 & 1.149394e-08 & 2 & -137.0018 & 280.0036 & 284.4932 & 7799.157 & 31\\\\\n",
       "\\end{tabular}\n"
      ],
      "text/markdown": [
       "\n",
       "A tibble: 1 × 11\n",
       "\n",
       "| r.squared &lt;dbl&gt; | adj.r.squared &lt;dbl&gt; | sigma &lt;dbl&gt; | statistic &lt;dbl&gt; | p.value &lt;dbl&gt; | df &lt;int&gt; | logLik &lt;dbl&gt; | AIC &lt;dbl&gt; | BIC &lt;dbl&gt; | deviance &lt;dbl&gt; | df.residual &lt;int&gt; |\n",
       "|---|---|---|---|---|---|---|---|---|---|---|\n",
       "| 0.6556894 | 0.6445826 | 15.86145 | 59.03498 | 1.149394e-08 | 2 | -137.0018 | 280.0036 | 284.4932 | 7799.157 | 31 |\n",
       "\n"
      ],
      "text/plain": [
       "  r.squared adj.r.squared sigma    statistic p.value      df logLik    AIC     \n",
       "1 0.6556894 0.6445826     15.86145 59.03498  1.149394e-08 2  -137.0018 280.0036\n",
       "  BIC      deviance df.residual\n",
       "1 284.4932 7799.157 31         "
      ]
     },
     "metadata": {},
     "output_type": "display_data"
    },
    {
     "data": {
      "text/html": [
       "<table>\n",
       "<caption>A tibble: 1 × 11</caption>\n",
       "<thead>\n",
       "\t<tr><th scope=col>r.squared</th><th scope=col>adj.r.squared</th><th scope=col>sigma</th><th scope=col>statistic</th><th scope=col>p.value</th><th scope=col>df</th><th scope=col>logLik</th><th scope=col>AIC</th><th scope=col>BIC</th><th scope=col>deviance</th><th scope=col>df.residual</th></tr>\n",
       "\t<tr><th scope=col>&lt;dbl&gt;</th><th scope=col>&lt;dbl&gt;</th><th scope=col>&lt;dbl&gt;</th><th scope=col>&lt;dbl&gt;</th><th scope=col>&lt;dbl&gt;</th><th scope=col>&lt;int&gt;</th><th scope=col>&lt;dbl&gt;</th><th scope=col>&lt;dbl&gt;</th><th scope=col>&lt;dbl&gt;</th><th scope=col>&lt;dbl&gt;</th><th scope=col>&lt;int&gt;</th></tr>\n",
       "</thead>\n",
       "<tbody>\n",
       "\t<tr><td>0.5159319</td><td>0.5003168</td><td>18.92679</td><td>33.04058</td><td>2.517063e-06</td><td>2</td><td>-142.8325</td><td>291.665</td><td>296.1545</td><td>11104.93</td><td>31</td></tr>\n",
       "</tbody>\n",
       "</table>\n"
      ],
      "text/latex": [
       "A tibble: 1 × 11\n",
       "\\begin{tabular}{r|lllllllllll}\n",
       " r.squared & adj.r.squared & sigma & statistic & p.value & df & logLik & AIC & BIC & deviance & df.residual\\\\\n",
       " <dbl> & <dbl> & <dbl> & <dbl> & <dbl> & <int> & <dbl> & <dbl> & <dbl> & <dbl> & <int>\\\\\n",
       "\\hline\n",
       "\t 0.5159319 & 0.5003168 & 18.92679 & 33.04058 & 2.517063e-06 & 2 & -142.8325 & 291.665 & 296.1545 & 11104.93 & 31\\\\\n",
       "\\end{tabular}\n"
      ],
      "text/markdown": [
       "\n",
       "A tibble: 1 × 11\n",
       "\n",
       "| r.squared &lt;dbl&gt; | adj.r.squared &lt;dbl&gt; | sigma &lt;dbl&gt; | statistic &lt;dbl&gt; | p.value &lt;dbl&gt; | df &lt;int&gt; | logLik &lt;dbl&gt; | AIC &lt;dbl&gt; | BIC &lt;dbl&gt; | deviance &lt;dbl&gt; | df.residual &lt;int&gt; |\n",
       "|---|---|---|---|---|---|---|---|---|---|---|\n",
       "| 0.5159319 | 0.5003168 | 18.92679 | 33.04058 | 2.517063e-06 | 2 | -142.8325 | 291.665 | 296.1545 | 11104.93 | 31 |\n",
       "\n"
      ],
      "text/plain": [
       "  r.squared adj.r.squared sigma    statistic p.value      df logLik    AIC    \n",
       "1 0.5159319 0.5003168     18.92679 33.04058  2.517063e-06 2  -142.8325 291.665\n",
       "  BIC      deviance df.residual\n",
       "1 296.1545 11104.93 31         "
      ]
     },
     "metadata": {},
     "output_type": "display_data"
    },
    {
     "data": {
      "text/html": [
       "<table>\n",
       "<caption>A tibble: 1 × 11</caption>\n",
       "<thead>\n",
       "\t<tr><th scope=col>r.squared</th><th scope=col>adj.r.squared</th><th scope=col>sigma</th><th scope=col>statistic</th><th scope=col>p.value</th><th scope=col>df</th><th scope=col>logLik</th><th scope=col>AIC</th><th scope=col>BIC</th><th scope=col>deviance</th><th scope=col>df.residual</th></tr>\n",
       "\t<tr><th scope=col>&lt;dbl&gt;</th><th scope=col>&lt;dbl&gt;</th><th scope=col>&lt;dbl&gt;</th><th scope=col>&lt;dbl&gt;</th><th scope=col>&lt;dbl&gt;</th><th scope=col>&lt;int&gt;</th><th scope=col>&lt;dbl&gt;</th><th scope=col>&lt;dbl&gt;</th><th scope=col>&lt;dbl&gt;</th><th scope=col>&lt;dbl&gt;</th><th scope=col>&lt;int&gt;</th></tr>\n",
       "</thead>\n",
       "<tbody>\n",
       "\t<tr><td>0.8646988</td><td>0.8582559</td><td>16.63847</td><td>134.2093</td><td>1.389909e-10</td><td>2</td><td>-96.25892</td><td>198.5178</td><td>201.9243</td><td>5813.615</td><td>21</td></tr>\n",
       "</tbody>\n",
       "</table>\n"
      ],
      "text/latex": [
       "A tibble: 1 × 11\n",
       "\\begin{tabular}{r|lllllllllll}\n",
       " r.squared & adj.r.squared & sigma & statistic & p.value & df & logLik & AIC & BIC & deviance & df.residual\\\\\n",
       " <dbl> & <dbl> & <dbl> & <dbl> & <dbl> & <int> & <dbl> & <dbl> & <dbl> & <dbl> & <int>\\\\\n",
       "\\hline\n",
       "\t 0.8646988 & 0.8582559 & 16.63847 & 134.2093 & 1.389909e-10 & 2 & -96.25892 & 198.5178 & 201.9243 & 5813.615 & 21\\\\\n",
       "\\end{tabular}\n"
      ],
      "text/markdown": [
       "\n",
       "A tibble: 1 × 11\n",
       "\n",
       "| r.squared &lt;dbl&gt; | adj.r.squared &lt;dbl&gt; | sigma &lt;dbl&gt; | statistic &lt;dbl&gt; | p.value &lt;dbl&gt; | df &lt;int&gt; | logLik &lt;dbl&gt; | AIC &lt;dbl&gt; | BIC &lt;dbl&gt; | deviance &lt;dbl&gt; | df.residual &lt;int&gt; |\n",
       "|---|---|---|---|---|---|---|---|---|---|---|\n",
       "| 0.8646988 | 0.8582559 | 16.63847 | 134.2093 | 1.389909e-10 | 2 | -96.25892 | 198.5178 | 201.9243 | 5813.615 | 21 |\n",
       "\n"
      ],
      "text/plain": [
       "  r.squared adj.r.squared sigma    statistic p.value      df logLik    AIC     \n",
       "1 0.8646988 0.8582559     16.63847 134.2093  1.389909e-10 2  -96.25892 198.5178\n",
       "  BIC      deviance df.residual\n",
       "1 201.9243 5813.615 21         "
      ]
     },
     "metadata": {},
     "output_type": "display_data"
    },
    {
     "data": {
      "text/html": [
       "<table>\n",
       "<caption>A tibble: 1 × 11</caption>\n",
       "<thead>\n",
       "\t<tr><th scope=col>r.squared</th><th scope=col>adj.r.squared</th><th scope=col>sigma</th><th scope=col>statistic</th><th scope=col>p.value</th><th scope=col>df</th><th scope=col>logLik</th><th scope=col>AIC</th><th scope=col>BIC</th><th scope=col>deviance</th><th scope=col>df.residual</th></tr>\n",
       "\t<tr><th scope=col>&lt;dbl&gt;</th><th scope=col>&lt;dbl&gt;</th><th scope=col>&lt;dbl&gt;</th><th scope=col>&lt;dbl&gt;</th><th scope=col>&lt;dbl&gt;</th><th scope=col>&lt;int&gt;</th><th scope=col>&lt;dbl&gt;</th><th scope=col>&lt;dbl&gt;</th><th scope=col>&lt;dbl&gt;</th><th scope=col>&lt;dbl&gt;</th><th scope=col>&lt;int&gt;</th></tr>\n",
       "</thead>\n",
       "<tbody>\n",
       "\t<tr><td>0.7710513</td><td>0.7601489</td><td>13.69583</td><td>70.72359</td><td>3.663709e-08</td><td>2</td><td>-91.78251</td><td>189.565</td><td>192.9715</td><td>3939.09</td><td>21</td></tr>\n",
       "</tbody>\n",
       "</table>\n"
      ],
      "text/latex": [
       "A tibble: 1 × 11\n",
       "\\begin{tabular}{r|lllllllllll}\n",
       " r.squared & adj.r.squared & sigma & statistic & p.value & df & logLik & AIC & BIC & deviance & df.residual\\\\\n",
       " <dbl> & <dbl> & <dbl> & <dbl> & <dbl> & <int> & <dbl> & <dbl> & <dbl> & <dbl> & <int>\\\\\n",
       "\\hline\n",
       "\t 0.7710513 & 0.7601489 & 13.69583 & 70.72359 & 3.663709e-08 & 2 & -91.78251 & 189.565 & 192.9715 & 3939.09 & 21\\\\\n",
       "\\end{tabular}\n"
      ],
      "text/markdown": [
       "\n",
       "A tibble: 1 × 11\n",
       "\n",
       "| r.squared &lt;dbl&gt; | adj.r.squared &lt;dbl&gt; | sigma &lt;dbl&gt; | statistic &lt;dbl&gt; | p.value &lt;dbl&gt; | df &lt;int&gt; | logLik &lt;dbl&gt; | AIC &lt;dbl&gt; | BIC &lt;dbl&gt; | deviance &lt;dbl&gt; | df.residual &lt;int&gt; |\n",
       "|---|---|---|---|---|---|---|---|---|---|---|\n",
       "| 0.7710513 | 0.7601489 | 13.69583 | 70.72359 | 3.663709e-08 | 2 | -91.78251 | 189.565 | 192.9715 | 3939.09 | 21 |\n",
       "\n"
      ],
      "text/plain": [
       "  r.squared adj.r.squared sigma    statistic p.value      df logLik    AIC    \n",
       "1 0.7710513 0.7601489     13.69583 70.72359  3.663709e-08 2  -91.78251 189.565\n",
       "  BIC      deviance df.residual\n",
       "1 192.9715 3939.09  21         "
      ]
     },
     "metadata": {},
     "output_type": "display_data"
    },
    {
     "data": {
      "text/html": [
       "<table>\n",
       "<caption>A tibble: 1 × 11</caption>\n",
       "<thead>\n",
       "\t<tr><th scope=col>r.squared</th><th scope=col>adj.r.squared</th><th scope=col>sigma</th><th scope=col>statistic</th><th scope=col>p.value</th><th scope=col>df</th><th scope=col>logLik</th><th scope=col>AIC</th><th scope=col>BIC</th><th scope=col>deviance</th><th scope=col>df.residual</th></tr>\n",
       "\t<tr><th scope=col>&lt;dbl&gt;</th><th scope=col>&lt;dbl&gt;</th><th scope=col>&lt;dbl&gt;</th><th scope=col>&lt;dbl&gt;</th><th scope=col>&lt;dbl&gt;</th><th scope=col>&lt;int&gt;</th><th scope=col>&lt;dbl&gt;</th><th scope=col>&lt;dbl&gt;</th><th scope=col>&lt;dbl&gt;</th><th scope=col>&lt;dbl&gt;</th><th scope=col>&lt;int&gt;</th></tr>\n",
       "</thead>\n",
       "<tbody>\n",
       "\t<tr><td>0.5107369</td><td>0.4874386</td><td>16.08662</td><td>21.92169</td><td>0.0001273898</td><td>2</td><td>-95.48314</td><td>196.9663</td><td>200.3728</td><td>5434.368</td><td>21</td></tr>\n",
       "</tbody>\n",
       "</table>\n"
      ],
      "text/latex": [
       "A tibble: 1 × 11\n",
       "\\begin{tabular}{r|lllllllllll}\n",
       " r.squared & adj.r.squared & sigma & statistic & p.value & df & logLik & AIC & BIC & deviance & df.residual\\\\\n",
       " <dbl> & <dbl> & <dbl> & <dbl> & <dbl> & <int> & <dbl> & <dbl> & <dbl> & <dbl> & <int>\\\\\n",
       "\\hline\n",
       "\t 0.5107369 & 0.4874386 & 16.08662 & 21.92169 & 0.0001273898 & 2 & -95.48314 & 196.9663 & 200.3728 & 5434.368 & 21\\\\\n",
       "\\end{tabular}\n"
      ],
      "text/markdown": [
       "\n",
       "A tibble: 1 × 11\n",
       "\n",
       "| r.squared &lt;dbl&gt; | adj.r.squared &lt;dbl&gt; | sigma &lt;dbl&gt; | statistic &lt;dbl&gt; | p.value &lt;dbl&gt; | df &lt;int&gt; | logLik &lt;dbl&gt; | AIC &lt;dbl&gt; | BIC &lt;dbl&gt; | deviance &lt;dbl&gt; | df.residual &lt;int&gt; |\n",
       "|---|---|---|---|---|---|---|---|---|---|---|\n",
       "| 0.5107369 | 0.4874386 | 16.08662 | 21.92169 | 0.0001273898 | 2 | -95.48314 | 196.9663 | 200.3728 | 5434.368 | 21 |\n",
       "\n"
      ],
      "text/plain": [
       "  r.squared adj.r.squared sigma    statistic p.value      df logLik    AIC     \n",
       "1 0.5107369 0.4874386     16.08662 21.92169  0.0001273898 2  -95.48314 196.9663\n",
       "  BIC      deviance df.residual\n",
       "1 200.3728 5434.368 21         "
      ]
     },
     "metadata": {},
     "output_type": "display_data"
    }
   ],
   "source": [
    "glance(lmreg_TRA_rich)\n",
    "glance(lmreg_TRA_shan)\n",
    "glance(lmreg_TRA_simp)\n",
    "\n",
    "glance(lmreg_TRB_rich)\n",
    "glance(lmreg_TRB_shan)\n",
    "glance(lmreg_TRB_simp)"
   ]
  },
  {
   "cell_type": "code",
   "execution_count": null,
   "metadata": {},
   "outputs": [],
   "source": []
  },
  {
   "cell_type": "code",
   "execution_count": null,
   "metadata": {},
   "outputs": [],
   "source": []
  },
  {
   "cell_type": "code",
   "execution_count": null,
   "metadata": {},
   "outputs": [],
   "source": []
  },
  {
   "cell_type": "code",
   "execution_count": null,
   "metadata": {},
   "outputs": [],
   "source": []
  }
 ],
 "metadata": {
  "kernelspec": {
   "display_name": "R 4.0",
   "language": "R",
   "name": "ir40"
  },
  "language_info": {
   "codemirror_mode": "r",
   "file_extension": ".r",
   "mimetype": "text/x-r-source",
   "name": "R",
   "pygments_lexer": "r",
   "version": "4.0.3"
  },
  "toc": {
   "base_numbering": 1,
   "nav_menu": {},
   "number_sections": false,
   "sideBar": true,
   "skip_h1_title": false,
   "title_cell": "Table of Contents",
   "title_sidebar": "Contents",
   "toc_cell": true,
   "toc_position": {
    "height": "calc(100% - 180px)",
    "left": "10px",
    "top": "150px",
    "width": "227.969px"
   },
   "toc_section_display": true,
   "toc_window_display": true
  }
 },
 "nbformat": 4,
 "nbformat_minor": 2
}
