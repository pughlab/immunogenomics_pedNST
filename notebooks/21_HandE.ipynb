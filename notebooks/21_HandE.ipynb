{
 "cells": [
  {
   "cell_type": "markdown",
   "metadata": {
    "toc": true
   },
   "source": [
    "<h1>Table of Contents<span class=\"tocSkip\"></span></h1>\n",
    "<div class=\"toc\"><ul class=\"toc-item\"><li><span><a href=\"#Dependencies\" data-toc-modified-id=\"Dependencies-1\">Dependencies</a></span></li><li><span><a href=\"#Functions\" data-toc-modified-id=\"Functions-2\">Functions</a></span></li><li><span><a href=\"#Paths\" data-toc-modified-id=\"Paths-3\">Paths</a></span></li><li><span><a href=\"#Main\" data-toc-modified-id=\"Main-4\">Main</a></span></li></ul></div>"
   ]
  },
  {
   "cell_type": "markdown",
   "metadata": {},
   "source": [
    "# Dependencies"
   ]
  },
  {
   "cell_type": "code",
   "execution_count": 1,
   "metadata": {},
   "outputs": [],
   "source": [
    "options(scipen = 999)"
   ]
  },
  {
   "cell_type": "code",
   "execution_count": 2,
   "metadata": {
    "scrolled": false
   },
   "outputs": [
    {
     "name": "stderr",
     "output_type": "stream",
     "text": [
      "Loading required package: ggplot2\n",
      "\n",
      "Loading required package: ggpubr\n",
      "\n"
     ]
    }
   ],
   "source": [
    "library(survival)\n",
    "library(survminer)\n",
    "library(forestmodel)"
   ]
  },
  {
   "cell_type": "markdown",
   "metadata": {},
   "source": [
    "# Functions"
   ]
  },
  {
   "cell_type": "code",
   "execution_count": 3,
   "metadata": {},
   "outputs": [],
   "source": [
    "source(\"~/OneDrive - UHN/R_src//ggplot2_theme.R\")\n",
    "source(\"~/OneDrive - UHN/R_src//color_schemes.R\")"
   ]
  },
  {
   "cell_type": "markdown",
   "metadata": {},
   "source": [
    "# Paths"
   ]
  },
  {
   "cell_type": "code",
   "execution_count": 4,
   "metadata": {},
   "outputs": [],
   "source": [
    "datapath <- \"/Users/anabbi/OneDrive - UHN/Documents/IPD2/Data/\"\n",
    "plotpath <- \"/Users/anabbi/OneDrive - UHN/Documents/IPD2/Plots/\"\n",
    "manifestpath <- \"/Users/anabbi/OneDrive - UHN/Documents/IPD2/Manifests/\""
   ]
  },
  {
   "cell_type": "markdown",
   "metadata": {},
   "source": [
    "# Main"
   ]
  },
  {
   "cell_type": "code",
   "execution_count": 5,
   "metadata": {
    "scrolled": true
   },
   "outputs": [],
   "source": [
    "load(file = file.path(datapath,\"TME_clusters/IPD_estimate_metadata_IC.RData\"))"
   ]
  },
  {
   "cell_type": "code",
   "execution_count": 6,
   "metadata": {},
   "outputs": [
    {
     "data": {
      "text/plain": [
       "\n",
       "Pediatric inflamed     Myeloid-driven     Pediatric cold    Immune excluded \n",
       "                90                279                393                163 "
      ]
     },
     "metadata": {},
     "output_type": "display_data"
    }
   ],
   "source": [
    "table(metadata_IC$immune_cluster)"
   ]
  },
  {
   "cell_type": "code",
   "execution_count": 7,
   "metadata": {},
   "outputs": [],
   "source": [
    "manifest <- read.csv(file = paste0(datapath, \"HandE/HandE_Manifestfile_4Derek.csv\"),\n",
    "                    header = T, stringsAsFactors = F, row.names = 1)"
   ]
  },
  {
   "cell_type": "code",
   "execution_count": 8,
   "metadata": {},
   "outputs": [],
   "source": [
    "scores <- read.table(file = paste0(datapath, \"HandE/cbtn_til_score_summary.csv\"), se = \"\\t\",\n",
    "                    header = T, stringsAsFactors = F)"
   ]
  },
  {
   "cell_type": "code",
   "execution_count": 9,
   "metadata": {},
   "outputs": [],
   "source": [
    "manifest$Derekssampleid <- gsub(\".svs\", \"\",manifest$File.Name)"
   ]
  },
  {
   "cell_type": "code",
   "execution_count": 10,
   "metadata": {},
   "outputs": [],
   "source": [
    "manifest$Derekssampleid <- gsub(\"[)]\",\"\", manifest$Derekssampleid)\n",
    "manifest$Derekssampleid <- gsub(\"[(]\",\"\", manifest$Derekssampleid)"
   ]
  },
  {
   "cell_type": "code",
   "execution_count": 11,
   "metadata": {},
   "outputs": [],
   "source": [
    "scores$sampleId <- gsub(\"%2528\",\"\", scores$sampleId)\n",
    "scores$sampleId <- gsub(\"%2529\",\"\", scores$sampleId)"
   ]
  },
  {
   "cell_type": "code",
   "execution_count": 12,
   "metadata": {},
   "outputs": [],
   "source": [
    "scores$sample_id <- manifest$Sample.External.ID[match(scores$sampleId, manifest$Derekssampleid)]"
   ]
  },
  {
   "cell_type": "code",
   "execution_count": 13,
   "metadata": {},
   "outputs": [
    {
     "data": {
      "text/html": [
       "<table class=\"dataframe\">\n",
       "<caption>A data.frame: 6 × 7</caption>\n",
       "<thead>\n",
       "\t<tr><th></th><th scope=col>sampleId</th><th scope=col>nPatch</th><th scope=col>nTissuePatch</th><th scope=col>tilScoreMean</th><th scope=col>tilScoreThresh</th><th scope=col>tilEntropyMean</th><th scope=col>sample_id</th></tr>\n",
       "\t<tr><th></th><th scope=col>&lt;chr&gt;</th><th scope=col>&lt;int&gt;</th><th scope=col>&lt;int&gt;</th><th scope=col>&lt;dbl&gt;</th><th scope=col>&lt;dbl&gt;</th><th scope=col>&lt;dbl&gt;</th><th scope=col>&lt;chr&gt;</th></tr>\n",
       "</thead>\n",
       "<tbody>\n",
       "\t<tr><th scope=row>1</th><td>10454_HandE_B</td><td> 58080</td><td>22744</td><td>0.07698901</td><td>0.013761871</td><td>0.3073516</td><td>7316-275 </td></tr>\n",
       "\t<tr><th scope=row>2</th><td>10457_HandE_C</td><td> 67640</td><td>16176</td><td>0.15894334</td><td>0.029611771</td><td>0.5355318</td><td>7316-275 </td></tr>\n",
       "\t<tr><th scope=row>3</th><td>1230_HandE_FS</td><td> 10560</td><td>  793</td><td>0.03900349</td><td>0.001261034</td><td>0.1885922</td><td>7316-1461</td></tr>\n",
       "\t<tr><th scope=row>4</th><td>1233_HandE_B </td><td> 99000</td><td>17260</td><td>0.09525006</td><td>0.024913094</td><td>0.3348498</td><td>7316-1461</td></tr>\n",
       "\t<tr><th scope=row>5</th><td>12849_HandE_A</td><td>105101</td><td>15009</td><td>0.31842333</td><td>0.265440736</td><td>0.6144974</td><td>7316-288 </td></tr>\n",
       "\t<tr><th scope=row>6</th><td>12850_HandE_A</td><td> 63700</td><td>13256</td><td>0.16812727</td><td>0.061330718</td><td>0.5092051</td><td>7316-288 </td></tr>\n",
       "</tbody>\n",
       "</table>\n"
      ],
      "text/latex": [
       "A data.frame: 6 × 7\n",
       "\\begin{tabular}{r|lllllll}\n",
       "  & sampleId & nPatch & nTissuePatch & tilScoreMean & tilScoreThresh & tilEntropyMean & sample\\_id\\\\\n",
       "  & <chr> & <int> & <int> & <dbl> & <dbl> & <dbl> & <chr>\\\\\n",
       "\\hline\n",
       "\t1 & 10454\\_HandE\\_B &  58080 & 22744 & 0.07698901 & 0.013761871 & 0.3073516 & 7316-275 \\\\\n",
       "\t2 & 10457\\_HandE\\_C &  67640 & 16176 & 0.15894334 & 0.029611771 & 0.5355318 & 7316-275 \\\\\n",
       "\t3 & 1230\\_HandE\\_FS &  10560 &   793 & 0.03900349 & 0.001261034 & 0.1885922 & 7316-1461\\\\\n",
       "\t4 & 1233\\_HandE\\_B  &  99000 & 17260 & 0.09525006 & 0.024913094 & 0.3348498 & 7316-1461\\\\\n",
       "\t5 & 12849\\_HandE\\_A & 105101 & 15009 & 0.31842333 & 0.265440736 & 0.6144974 & 7316-288 \\\\\n",
       "\t6 & 12850\\_HandE\\_A &  63700 & 13256 & 0.16812727 & 0.061330718 & 0.5092051 & 7316-288 \\\\\n",
       "\\end{tabular}\n"
      ],
      "text/markdown": [
       "\n",
       "A data.frame: 6 × 7\n",
       "\n",
       "| <!--/--> | sampleId &lt;chr&gt; | nPatch &lt;int&gt; | nTissuePatch &lt;int&gt; | tilScoreMean &lt;dbl&gt; | tilScoreThresh &lt;dbl&gt; | tilEntropyMean &lt;dbl&gt; | sample_id &lt;chr&gt; |\n",
       "|---|---|---|---|---|---|---|---|\n",
       "| 1 | 10454_HandE_B |  58080 | 22744 | 0.07698901 | 0.013761871 | 0.3073516 | 7316-275  |\n",
       "| 2 | 10457_HandE_C |  67640 | 16176 | 0.15894334 | 0.029611771 | 0.5355318 | 7316-275  |\n",
       "| 3 | 1230_HandE_FS |  10560 |   793 | 0.03900349 | 0.001261034 | 0.1885922 | 7316-1461 |\n",
       "| 4 | 1233_HandE_B  |  99000 | 17260 | 0.09525006 | 0.024913094 | 0.3348498 | 7316-1461 |\n",
       "| 5 | 12849_HandE_A | 105101 | 15009 | 0.31842333 | 0.265440736 | 0.6144974 | 7316-288  |\n",
       "| 6 | 12850_HandE_A |  63700 | 13256 | 0.16812727 | 0.061330718 | 0.5092051 | 7316-288  |\n",
       "\n"
      ],
      "text/plain": [
       "  sampleId      nPatch nTissuePatch tilScoreMean tilScoreThresh tilEntropyMean\n",
       "1 10454_HandE_B  58080 22744        0.07698901   0.013761871    0.3073516     \n",
       "2 10457_HandE_C  67640 16176        0.15894334   0.029611771    0.5355318     \n",
       "3 1230_HandE_FS  10560   793        0.03900349   0.001261034    0.1885922     \n",
       "4 1233_HandE_B   99000 17260        0.09525006   0.024913094    0.3348498     \n",
       "5 12849_HandE_A 105101 15009        0.31842333   0.265440736    0.6144974     \n",
       "6 12850_HandE_A  63700 13256        0.16812727   0.061330718    0.5092051     \n",
       "  sample_id\n",
       "1 7316-275 \n",
       "2 7316-275 \n",
       "3 7316-1461\n",
       "4 7316-1461\n",
       "5 7316-288 \n",
       "6 7316-288 "
      ]
     },
     "metadata": {},
     "output_type": "display_data"
    }
   ],
   "source": [
    "head(scores)"
   ]
  },
  {
   "cell_type": "code",
   "execution_count": 14,
   "metadata": {},
   "outputs": [],
   "source": [
    "write.csv(scores, file = paste0(datapath,\"forGangesh/HandE_scores_CBTN.csv\"), row.names = F)"
   ]
  },
  {
   "cell_type": "markdown",
   "metadata": {},
   "source": [
    "avergae scores in duplicate slides"
   ]
  },
  {
   "cell_type": "code",
   "execution_count": 18,
   "metadata": {},
   "outputs": [
    {
     "data": {
      "text/html": [
       "<table class=\"dataframe\">\n",
       "<caption>A data.frame: 0 × 7</caption>\n",
       "<thead>\n",
       "\t<tr><th scope=col>sampleId</th><th scope=col>nPatch</th><th scope=col>nTissuePatch</th><th scope=col>tilScoreMean</th><th scope=col>tilScoreThresh</th><th scope=col>tilEntropyMean</th><th scope=col>sample_id</th></tr>\n",
       "\t<tr><th scope=col>&lt;chr&gt;</th><th scope=col>&lt;int&gt;</th><th scope=col>&lt;int&gt;</th><th scope=col>&lt;dbl&gt;</th><th scope=col>&lt;dbl&gt;</th><th scope=col>&lt;dbl&gt;</th><th scope=col>&lt;chr&gt;</th></tr>\n",
       "</thead>\n",
       "<tbody>\n",
       "</tbody>\n",
       "</table>\n"
      ],
      "text/latex": [
       "A data.frame: 0 × 7\n",
       "\\begin{tabular}{lllllll}\n",
       " sampleId & nPatch & nTissuePatch & tilScoreMean & tilScoreThresh & tilEntropyMean & sample\\_id\\\\\n",
       " <chr> & <int> & <int> & <dbl> & <dbl> & <dbl> & <chr>\\\\\n",
       "\\hline\n",
       "\\end{tabular}\n"
      ],
      "text/markdown": [
       "\n",
       "A data.frame: 0 × 7\n",
       "\n",
       "| sampleId &lt;chr&gt; | nPatch &lt;int&gt; | nTissuePatch &lt;int&gt; | tilScoreMean &lt;dbl&gt; | tilScoreThresh &lt;dbl&gt; | tilEntropyMean &lt;dbl&gt; | sample_id &lt;chr&gt; |\n",
       "|---|---|---|---|---|---|---|\n",
       "\n"
      ],
      "text/plain": [
       "     sampleId nPatch nTissuePatch tilScoreMean tilScoreThresh tilEntropyMean\n",
       "     sample_id"
      ]
     },
     "metadata": {},
     "output_type": "display_data"
    }
   ],
   "source": [
    "scores_average"
   ]
  },
  {
   "cell_type": "code",
   "execution_count": 24,
   "metadata": {},
   "outputs": [],
   "source": [
    "scores$agg_tilScore <- NA\n",
    "scores_average <- scores[0,]"
   ]
  },
  {
   "cell_type": "code",
   "execution_count": 25,
   "metadata": {},
   "outputs": [],
   "source": [
    "for(sample in unique(scores$sample_id)){\n",
    "    tmp <- scores[ scores$sample_id == sample,]\n",
    "    if(nrow(tmp) == 1){\n",
    "        tmp$agg_tilScore <- tmp$tilScoreMean\n",
    "        scores_average <- rbind(scores_average, tmp)\n",
    "    }\n",
    "    if(nrow(tmp) > 1){\n",
    "        tmp$agg_tilScore[1] <- mean(tmp$tilScoreMean)\n",
    "        scores_average <- rbind(scores_average, tmp[1,])        \n",
    "    }\n",
    "    \n",
    "}"
   ]
  },
  {
   "cell_type": "code",
   "execution_count": 30,
   "metadata": {},
   "outputs": [],
   "source": [
    "HE_manifest <- merge(scores_average, metadata_IC, by = \"sample_id\")"
   ]
  },
  {
   "cell_type": "code",
   "execution_count": 31,
   "metadata": {
    "scrolled": true
   },
   "outputs": [
    {
     "data": {
      "text/html": [
       "<table class=\"dataframe\">\n",
       "<caption>A data.frame: 6 × 31</caption>\n",
       "<thead>\n",
       "\t<tr><th></th><th scope=col>sample_id</th><th scope=col>sampleId</th><th scope=col>nPatch</th><th scope=col>nTissuePatch</th><th scope=col>tilScoreMean</th><th scope=col>tilScoreThresh</th><th scope=col>tilEntropyMean</th><th scope=col>agg_tilScore</th><th scope=col>aliquot_id</th><th scope=col>StromalScore</th><th scope=col>⋯</th><th scope=col>recurrence</th><th scope=col>disease_type</th><th scope=col>primary_site</th><th scope=col>group</th><th scope=col>cohort</th><th scope=col>sample_type</th><th scope=col>age_class</th><th scope=col>tumour_subtype</th><th scope=col>CRI_cluster</th><th scope=col>immune_cluster</th></tr>\n",
       "\t<tr><th></th><th scope=col>&lt;chr&gt;</th><th scope=col>&lt;chr&gt;</th><th scope=col>&lt;int&gt;</th><th scope=col>&lt;int&gt;</th><th scope=col>&lt;dbl&gt;</th><th scope=col>&lt;dbl&gt;</th><th scope=col>&lt;dbl&gt;</th><th scope=col>&lt;dbl&gt;</th><th scope=col>&lt;chr&gt;</th><th scope=col>&lt;dbl&gt;</th><th scope=col>⋯</th><th scope=col>&lt;chr&gt;</th><th scope=col>&lt;chr&gt;</th><th scope=col>&lt;chr&gt;</th><th scope=col>&lt;chr&gt;</th><th scope=col>&lt;chr&gt;</th><th scope=col>&lt;chr&gt;</th><th scope=col>&lt;chr&gt;</th><th scope=col>&lt;chr&gt;</th><th scope=col>&lt;chr&gt;</th><th scope=col>&lt;fct&gt;</th></tr>\n",
       "</thead>\n",
       "<tbody>\n",
       "\t<tr><th scope=row>1</th><td>7316-10  </td><td>18845_HandE           </td><td>110520</td><td>60251</td><td>0.10870980</td><td>0.031435163</td><td>0.3776549</td><td>0.10870980</td><td>717108</td><td> 948.222412</td><td>⋯</td><td>1</td><td>Neurofibroma/Plexiform</td><td>Spinal Cord- Lumbar/Thecal Sac    </td><td>CBTN</td><td>NFB   </td><td>Initial CNS Tumor</td><td>Young adults</td><td>NA       </td><td>Inflammatory         </td><td>Myeloid-driven </td></tr>\n",
       "\t<tr><th scope=row>2</th><td>7316-100 </td><td>18605_HandE           </td><td>183600</td><td>58832</td><td>0.06401132</td><td>0.018544330</td><td>0.2395903</td><td>0.06401132</td><td>601598</td><td>   2.772548</td><td>⋯</td><td>0</td><td>Craniopharyngioma     </td><td>Suprasellar/Hypothalamic/Pituitary</td><td>CBTN</td><td>CPH   </td><td>Initial CNS Tumor</td><td>Children    </td><td>NA       </td><td>Inflammatory         </td><td>Myeloid-driven </td></tr>\n",
       "\t<tr><th scope=row>3</th><td>7316-101 </td><td>18609_HandE_-_BLOCK_A1</td><td>134520</td><td>42971</td><td>0.06795075</td><td>0.003607084</td><td>0.2823307</td><td>0.04271312</td><td>588338</td><td>-844.579058</td><td>⋯</td><td>0</td><td>Ganglioglioma         </td><td>Temporal Lobe                     </td><td>CBTN</td><td>pedLGG</td><td>Initial CNS Tumor</td><td>Children    </td><td>BRAF_WT  </td><td>Immunologically quiet</td><td>Immune excluded</td></tr>\n",
       "\t<tr><th scope=row>4</th><td>7316-1075</td><td>29601_HandE           </td><td>183920</td><td>53314</td><td>0.06751425</td><td>0.024702705</td><td>0.2222025</td><td>0.06751425</td><td>588351</td><td>-186.469439</td><td>⋯</td><td>0</td><td>Craniopharyngioma     </td><td>Suprasellar/Hypothalamic/Pituitary</td><td>CBTN</td><td>CPH   </td><td>Initial CNS Tumor</td><td>NA          </td><td>NA       </td><td>Lymphocyte depleted  </td><td>Myeloid-driven </td></tr>\n",
       "\t<tr><th scope=row>5</th><td>7316-1077</td><td>29596_HandE           </td><td>217189</td><td>87812</td><td>0.04858833</td><td>0.011251310</td><td>0.1909576</td><td>0.04858833</td><td>731885</td><td>-680.648423</td><td>⋯</td><td>0</td><td>Ganglioglioma         </td><td>Occipital Lobe                    </td><td>CBTN</td><td>pedLGG</td><td>Initial CNS Tumor</td><td>Children    </td><td>BRAF_WT  </td><td>Inflammatory         </td><td>Pediatric cold </td></tr>\n",
       "\t<tr><th scope=row>6</th><td>7316-1078</td><td>29590_HandE_A1        </td><td> 65247</td><td>12340</td><td>0.03834332</td><td>0.003808752</td><td>0.1732243</td><td>0.03892849</td><td>588352</td><td>-823.480878</td><td>⋯</td><td>0</td><td>Ependymoma            </td><td>Cerebellum/Posterior Fossa        </td><td>CBTN</td><td>EPN   </td><td>Initial CNS Tumor</td><td>Children    </td><td>EPN_Fossa</td><td>Lymphocyte depleted  </td><td>Pediatric cold </td></tr>\n",
       "</tbody>\n",
       "</table>\n"
      ],
      "text/latex": [
       "A data.frame: 6 × 31\n",
       "\\begin{tabular}{r|lllllllllllllllllllll}\n",
       "  & sample\\_id & sampleId & nPatch & nTissuePatch & tilScoreMean & tilScoreThresh & tilEntropyMean & agg\\_tilScore & aliquot\\_id & StromalScore & ⋯ & recurrence & disease\\_type & primary\\_site & group & cohort & sample\\_type & age\\_class & tumour\\_subtype & CRI\\_cluster & immune\\_cluster\\\\\n",
       "  & <chr> & <chr> & <int> & <int> & <dbl> & <dbl> & <dbl> & <dbl> & <chr> & <dbl> & ⋯ & <chr> & <chr> & <chr> & <chr> & <chr> & <chr> & <chr> & <chr> & <chr> & <fct>\\\\\n",
       "\\hline\n",
       "\t1 & 7316-10   & 18845\\_HandE            & 110520 & 60251 & 0.10870980 & 0.031435163 & 0.3776549 & 0.10870980 & 717108 &  948.222412 & ⋯ & 1 & Neurofibroma/Plexiform & Spinal Cord- Lumbar/Thecal Sac     & CBTN & NFB    & Initial CNS Tumor & Young adults & NA        & Inflammatory          & Myeloid-driven \\\\\n",
       "\t2 & 7316-100  & 18605\\_HandE            & 183600 & 58832 & 0.06401132 & 0.018544330 & 0.2395903 & 0.06401132 & 601598 &    2.772548 & ⋯ & 0 & Craniopharyngioma      & Suprasellar/Hypothalamic/Pituitary & CBTN & CPH    & Initial CNS Tumor & Children     & NA        & Inflammatory          & Myeloid-driven \\\\\n",
       "\t3 & 7316-101  & 18609\\_HandE\\_-\\_BLOCK\\_A1 & 134520 & 42971 & 0.06795075 & 0.003607084 & 0.2823307 & 0.04271312 & 588338 & -844.579058 & ⋯ & 0 & Ganglioglioma          & Temporal Lobe                      & CBTN & pedLGG & Initial CNS Tumor & Children     & BRAF\\_WT   & Immunologically quiet & Immune excluded\\\\\n",
       "\t4 & 7316-1075 & 29601\\_HandE            & 183920 & 53314 & 0.06751425 & 0.024702705 & 0.2222025 & 0.06751425 & 588351 & -186.469439 & ⋯ & 0 & Craniopharyngioma      & Suprasellar/Hypothalamic/Pituitary & CBTN & CPH    & Initial CNS Tumor & NA           & NA        & Lymphocyte depleted   & Myeloid-driven \\\\\n",
       "\t5 & 7316-1077 & 29596\\_HandE            & 217189 & 87812 & 0.04858833 & 0.011251310 & 0.1909576 & 0.04858833 & 731885 & -680.648423 & ⋯ & 0 & Ganglioglioma          & Occipital Lobe                     & CBTN & pedLGG & Initial CNS Tumor & Children     & BRAF\\_WT   & Inflammatory          & Pediatric cold \\\\\n",
       "\t6 & 7316-1078 & 29590\\_HandE\\_A1         &  65247 & 12340 & 0.03834332 & 0.003808752 & 0.1732243 & 0.03892849 & 588352 & -823.480878 & ⋯ & 0 & Ependymoma             & Cerebellum/Posterior Fossa         & CBTN & EPN    & Initial CNS Tumor & Children     & EPN\\_Fossa & Lymphocyte depleted   & Pediatric cold \\\\\n",
       "\\end{tabular}\n"
      ],
      "text/markdown": [
       "\n",
       "A data.frame: 6 × 31\n",
       "\n",
       "| <!--/--> | sample_id &lt;chr&gt; | sampleId &lt;chr&gt; | nPatch &lt;int&gt; | nTissuePatch &lt;int&gt; | tilScoreMean &lt;dbl&gt; | tilScoreThresh &lt;dbl&gt; | tilEntropyMean &lt;dbl&gt; | agg_tilScore &lt;dbl&gt; | aliquot_id &lt;chr&gt; | StromalScore &lt;dbl&gt; | ⋯ ⋯ | recurrence &lt;chr&gt; | disease_type &lt;chr&gt; | primary_site &lt;chr&gt; | group &lt;chr&gt; | cohort &lt;chr&gt; | sample_type &lt;chr&gt; | age_class &lt;chr&gt; | tumour_subtype &lt;chr&gt; | CRI_cluster &lt;chr&gt; | immune_cluster &lt;fct&gt; |\n",
       "|---|---|---|---|---|---|---|---|---|---|---|---|---|---|---|---|---|---|---|---|---|---|\n",
       "| 1 | 7316-10   | 18845_HandE            | 110520 | 60251 | 0.10870980 | 0.031435163 | 0.3776549 | 0.10870980 | 717108 |  948.222412 | ⋯ | 1 | Neurofibroma/Plexiform | Spinal Cord- Lumbar/Thecal Sac     | CBTN | NFB    | Initial CNS Tumor | Young adults | NA        | Inflammatory          | Myeloid-driven  |\n",
       "| 2 | 7316-100  | 18605_HandE            | 183600 | 58832 | 0.06401132 | 0.018544330 | 0.2395903 | 0.06401132 | 601598 |    2.772548 | ⋯ | 0 | Craniopharyngioma      | Suprasellar/Hypothalamic/Pituitary | CBTN | CPH    | Initial CNS Tumor | Children     | NA        | Inflammatory          | Myeloid-driven  |\n",
       "| 3 | 7316-101  | 18609_HandE_-_BLOCK_A1 | 134520 | 42971 | 0.06795075 | 0.003607084 | 0.2823307 | 0.04271312 | 588338 | -844.579058 | ⋯ | 0 | Ganglioglioma          | Temporal Lobe                      | CBTN | pedLGG | Initial CNS Tumor | Children     | BRAF_WT   | Immunologically quiet | Immune excluded |\n",
       "| 4 | 7316-1075 | 29601_HandE            | 183920 | 53314 | 0.06751425 | 0.024702705 | 0.2222025 | 0.06751425 | 588351 | -186.469439 | ⋯ | 0 | Craniopharyngioma      | Suprasellar/Hypothalamic/Pituitary | CBTN | CPH    | Initial CNS Tumor | NA           | NA        | Lymphocyte depleted   | Myeloid-driven  |\n",
       "| 5 | 7316-1077 | 29596_HandE            | 217189 | 87812 | 0.04858833 | 0.011251310 | 0.1909576 | 0.04858833 | 731885 | -680.648423 | ⋯ | 0 | Ganglioglioma          | Occipital Lobe                     | CBTN | pedLGG | Initial CNS Tumor | Children     | BRAF_WT   | Inflammatory          | Pediatric cold  |\n",
       "| 6 | 7316-1078 | 29590_HandE_A1         |  65247 | 12340 | 0.03834332 | 0.003808752 | 0.1732243 | 0.03892849 | 588352 | -823.480878 | ⋯ | 0 | Ependymoma             | Cerebellum/Posterior Fossa         | CBTN | EPN    | Initial CNS Tumor | Children     | EPN_Fossa | Lymphocyte depleted   | Pediatric cold  |\n",
       "\n"
      ],
      "text/plain": [
       "  sample_id sampleId               nPatch nTissuePatch tilScoreMean\n",
       "1 7316-10   18845_HandE            110520 60251        0.10870980  \n",
       "2 7316-100  18605_HandE            183600 58832        0.06401132  \n",
       "3 7316-101  18609_HandE_-_BLOCK_A1 134520 42971        0.06795075  \n",
       "4 7316-1075 29601_HandE            183920 53314        0.06751425  \n",
       "5 7316-1077 29596_HandE            217189 87812        0.04858833  \n",
       "6 7316-1078 29590_HandE_A1          65247 12340        0.03834332  \n",
       "  tilScoreThresh tilEntropyMean agg_tilScore aliquot_id StromalScore ⋯\n",
       "1 0.031435163    0.3776549      0.10870980   717108      948.222412  ⋯\n",
       "2 0.018544330    0.2395903      0.06401132   601598        2.772548  ⋯\n",
       "3 0.003607084    0.2823307      0.04271312   588338     -844.579058  ⋯\n",
       "4 0.024702705    0.2222025      0.06751425   588351     -186.469439  ⋯\n",
       "5 0.011251310    0.1909576      0.04858833   731885     -680.648423  ⋯\n",
       "6 0.003808752    0.1732243      0.03892849   588352     -823.480878  ⋯\n",
       "  recurrence disease_type           primary_site                       group\n",
       "1 1          Neurofibroma/Plexiform Spinal Cord- Lumbar/Thecal Sac     CBTN \n",
       "2 0          Craniopharyngioma      Suprasellar/Hypothalamic/Pituitary CBTN \n",
       "3 0          Ganglioglioma          Temporal Lobe                      CBTN \n",
       "4 0          Craniopharyngioma      Suprasellar/Hypothalamic/Pituitary CBTN \n",
       "5 0          Ganglioglioma          Occipital Lobe                     CBTN \n",
       "6 0          Ependymoma             Cerebellum/Posterior Fossa         CBTN \n",
       "  cohort sample_type       age_class    tumour_subtype CRI_cluster          \n",
       "1 NFB    Initial CNS Tumor Young adults NA             Inflammatory         \n",
       "2 CPH    Initial CNS Tumor Children     NA             Inflammatory         \n",
       "3 pedLGG Initial CNS Tumor Children     BRAF_WT        Immunologically quiet\n",
       "4 CPH    Initial CNS Tumor NA           NA             Lymphocyte depleted  \n",
       "5 pedLGG Initial CNS Tumor Children     BRAF_WT        Inflammatory         \n",
       "6 EPN    Initial CNS Tumor Children     EPN_Fossa      Lymphocyte depleted  \n",
       "  immune_cluster \n",
       "1 Myeloid-driven \n",
       "2 Myeloid-driven \n",
       "3 Immune excluded\n",
       "4 Myeloid-driven \n",
       "5 Pediatric cold \n",
       "6 Pediatric cold "
      ]
     },
     "metadata": {},
     "output_type": "display_data"
    }
   ],
   "source": [
    "head(HE_manifest)"
   ]
  },
  {
   "cell_type": "code",
   "execution_count": 32,
   "metadata": {},
   "outputs": [],
   "source": [
    "write.csv(HE_manifest, file = \"~/Downloads/HE_manifest_4Derek.csv\", row.names = F)"
   ]
  },
  {
   "cell_type": "code",
   "execution_count": 33,
   "metadata": {
    "scrolled": true
   },
   "outputs": [
    {
     "data": {
      "text/html": [
       "<style>\n",
       ".list-inline {list-style: none; margin:0; padding: 0}\n",
       ".list-inline>li {display: inline-block}\n",
       ".list-inline>li:not(:last-child)::after {content: \"\\00b7\"; padding: 0 .5ex}\n",
       "</style>\n",
       "<ol class=list-inline><li>434</li><li>31</li></ol>\n"
      ],
      "text/latex": [
       "\\begin{enumerate*}\n",
       "\\item 434\n",
       "\\item 31\n",
       "\\end{enumerate*}\n"
      ],
      "text/markdown": [
       "1. 434\n",
       "2. 31\n",
       "\n",
       "\n"
      ],
      "text/plain": [
       "[1] 434  31"
      ]
     },
     "metadata": {},
     "output_type": "display_data"
    }
   ],
   "source": [
    "dim(HE_manifest)"
   ]
  },
  {
   "cell_type": "code",
   "execution_count": 34,
   "metadata": {},
   "outputs": [
    {
     "data": {
      "text/plain": [
       "\n",
       "Pediatric inflamed     Myeloid-driven     Pediatric cold    Immune excluded \n",
       "                52                139                172                 71 "
      ]
     },
     "metadata": {},
     "output_type": "display_data"
    }
   ],
   "source": [
    "table(HE_manifest$immune_cluster)"
   ]
  },
  {
   "cell_type": "markdown",
   "metadata": {},
   "source": [
    "Exclude MB"
   ]
  },
  {
   "cell_type": "code",
   "execution_count": 37,
   "metadata": {},
   "outputs": [],
   "source": [
    "HE_manifest <- HE_manifest[ HE_manifest$cohort != \"MB\",]"
   ]
  },
  {
   "cell_type": "code",
   "execution_count": 38,
   "metadata": {},
   "outputs": [
    {
     "data": {
      "text/plain": [
       "$`Pediatric inflamed`\n",
       "   Min. 1st Qu.  Median    Mean 3rd Qu.    Max. \n",
       "0.02152 0.06986 0.09364 0.11090 0.14262 0.24185 \n",
       "\n",
       "$`Myeloid-driven`\n",
       "    Min.  1st Qu.   Median     Mean  3rd Qu.     Max. \n",
       "0.007842 0.053043 0.084246 0.091664 0.114905 0.391964 \n",
       "\n",
       "$`Pediatric cold`\n",
       "    Min.  1st Qu.   Median     Mean  3rd Qu.     Max. \n",
       "0.007275 0.054289 0.084521 0.112055 0.150273 0.490622 \n",
       "\n",
       "$`Immune excluded`\n",
       "   Min. 1st Qu.  Median    Mean 3rd Qu.    Max. \n",
       "0.01037 0.04126 0.08598 0.11178 0.13058 0.42272 \n"
      ]
     },
     "metadata": {},
     "output_type": "display_data"
    }
   ],
   "source": [
    "tapply(HE_manifest$tilScoreMean, HE_manifest$immune_cluster, summary)"
   ]
  },
  {
   "cell_type": "code",
   "execution_count": 39,
   "metadata": {},
   "outputs": [
    {
     "data": {
      "text/plain": [
       "$ATRT\n",
       "   Min. 1st Qu.  Median    Mean 3rd Qu.    Max. \n",
       "0.02745 0.08234 0.12455 0.17701 0.26027 0.49062 \n",
       "\n",
       "$CP\n",
       "   Min. 1st Qu.  Median    Mean 3rd Qu.    Max. \n",
       "0.02935 0.06461 0.07715 0.08250 0.10065 0.16648 \n",
       "\n",
       "$CPH\n",
       "   Min. 1st Qu.  Median    Mean 3rd Qu.    Max. \n",
       "0.04833 0.06296 0.09458 0.11106 0.13182 0.24185 \n",
       "\n",
       "$EPN\n",
       "   Min. 1st Qu.  Median    Mean 3rd Qu.    Max. \n",
       "0.01704 0.06146 0.08832 0.11158 0.14903 0.39740 \n",
       "\n",
       "$ETMR\n",
       "   Min. 1st Qu.  Median    Mean 3rd Qu.    Max. \n",
       "0.03884 0.11966 0.20048 0.20048 0.28131 0.36213 \n",
       "\n",
       "$MNG\n",
       "   Min. 1st Qu.  Median    Mean 3rd Qu.    Max. \n",
       " 0.0390  0.1199  0.1533  0.1617  0.1818  0.3920 \n",
       "\n",
       "$NFB\n",
       "   Min. 1st Qu.  Median    Mean 3rd Qu.    Max. \n",
       "0.06542 0.08882 0.11272 0.12342 0.13486 0.21044 \n",
       "\n",
       "$pedHGG\n",
       "   Min. 1st Qu.  Median    Mean 3rd Qu.    Max. \n",
       "0.03214 0.06416 0.10132 0.13080 0.17184 0.42938 \n",
       "\n",
       "$pedLGG\n",
       "    Min.  1st Qu.   Median     Mean  3rd Qu.     Max. \n",
       "0.007275 0.048588 0.076989 0.087989 0.115636 0.458857 \n",
       "\n",
       "$SCHW\n",
       "   Min. 1st Qu.  Median    Mean 3rd Qu.    Max. \n",
       "0.04656 0.07918 0.08863 0.10119 0.10861 0.17774 \n"
      ]
     },
     "metadata": {},
     "output_type": "display_data"
    }
   ],
   "source": [
    "tapply(HE_manifest$tilScoreMean, HE_manifest$cohort, summary)"
   ]
  },
  {
   "cell_type": "code",
   "execution_count": 43,
   "metadata": {},
   "outputs": [
    {
     "data": {
      "text/plain": [
       "\n",
       "\tPairwise comparisons using Wilcoxon rank sum test with continuity correction \n",
       "\n",
       "data:  HE_manifest$agg_tilScore and HE_manifest$immune_cluster \n",
       "\n",
       "                Pediatric inflamed Myeloid-driven Pediatric cold\n",
       "Myeloid-driven  0.0082             -              -             \n",
       "Pediatric cold  0.1183             0.2990         -             \n",
       "Immune excluded 0.1472             0.9028         0.5913        \n",
       "\n",
       "P value adjustment method: none "
      ]
     },
     "metadata": {},
     "output_type": "display_data"
    }
   ],
   "source": [
    "pairwise.wilcox.test(HE_manifest$agg_tilScore, \n",
    "                     HE_manifest$immune_cluster,\n",
    "                     p.adjust = \"none\")"
   ]
  },
  {
   "cell_type": "code",
   "execution_count": 48,
   "metadata": {},
   "outputs": [
    {
     "data": {
      "text/plain": [
       "\n",
       "                     Basal Ganglia        Brain Stem- Midbrain/Tectum \n",
       "                                 2                                  8 \n",
       "                  Brain Stem- Pons                 Brain Stem-Medulla \n",
       "                                 5                                  1 \n",
       "        Cerebellum/Posterior Fossa                 Cranial Nerves NOS \n",
       "                               112                                  2 \n",
       "                      Frontal Lobe                        Hippocampus \n",
       "                                40                                  1 \n",
       "                     Meninges/Dura                     Occipital Lobe \n",
       "                                 2                                 10 \n",
       "                     Optic Pathway                Other locations NOS \n",
       "                                 9                                 10 \n",
       "                     Parietal Lobe                              Skull \n",
       "                                14                                  1 \n",
       "             Spinal Cord- Cervical     Spinal Cord- Lumbar/Thecal Sac \n",
       "                                 6                                 10 \n",
       "             Spinal Cord- Thoracic                          Spine NOS \n",
       "                                 5                                  4 \n",
       "Suprasellar/Hypothalamic/Pituitary                      Temporal Lobe \n",
       "                                32                                 53 \n",
       "                          Thalamus                         Ventricles \n",
       "                                14                                 33 "
      ]
     },
     "metadata": {},
     "output_type": "display_data"
    }
   ],
   "source": [
    "table(HE_manifest$primary_site)"
   ]
  },
  {
   "cell_type": "code",
   "execution_count": 52,
   "metadata": {},
   "outputs": [
    {
     "data": {
      "text/html": [
       "<style>\n",
       ".list-inline {list-style: none; margin:0; padding: 0}\n",
       ".list-inline>li {display: inline-block}\n",
       ".list-inline>li:not(:last-child)::after {content: \"\\00b7\"; padding: 0 .5ex}\n",
       "</style>\n",
       "<ol class=list-inline><li>319</li><li>31</li></ol>\n"
      ],
      "text/latex": [
       "\\begin{enumerate*}\n",
       "\\item 319\n",
       "\\item 31\n",
       "\\end{enumerate*}\n"
      ],
      "text/markdown": [
       "1. 319\n",
       "2. 31\n",
       "\n",
       "\n"
      ],
      "text/plain": [
       "[1] 319  31"
      ]
     },
     "metadata": {},
     "output_type": "display_data"
    }
   ],
   "source": [
    "dim(HE_manifest[!HE_manifest$cohort %in% c(\"pedHGG\", \"ATRT\"),])"
   ]
  },
  {
   "cell_type": "code",
   "execution_count": 64,
   "metadata": {},
   "outputs": [
    {
     "data": {
      "image/png": "[encoded data removed]",
      "text/plain": [
       "plot without title"
      ]
     },
     "metadata": {
      "image/png": {
       "height": 420,
       "width": 420
      }
     },
     "output_type": "display_data"
    }
   ],
   "source": [
    "heplot <- ggplot(data = HE_manifest[!HE_manifest$cohort %in% c(\"pedHGG\", \"ATRT\"),],\n",
    "                 aes(x = immune_cluster, y = agg_tilScore, fill = immune_cluster)) + \n",
    "geom_violin() + geom_boxplot(width = 0.1, outlier.colour = NA) + \n",
    "myaxis + myplot +\n",
    "scale_fill_manual(values = cluster_col) +\n",
    "theme(legend.position = \"none\", \n",
    "      axis.title.x = element_blank(),\n",
    "     plot.title = element_text(size = 25, hjust = 0.5)) +\n",
    "geom_signif(comparisons = list(c(\"Pediatric inflamed\", \"Myeloid-driven\")), y_position = 0.4,\n",
    "                     map_signif_level=TRUE, textsize = 15, test = \"t.test\", vjust = 0.5) +\n",
    "geom_signif(comparisons = list(c(\"Pediatric inflamed\", \"Pediatric cold\")), y_position = 0.42,\n",
    "                     map_signif_level=TRUE, textsize = 15, test = \"wilcox.test\", vjust = 0.5) +\n",
    "geom_signif(comparisons = list(c(\"Pediatric inflamed\", \"Immune excluded\")), y_position = 0.44,\n",
    "                     map_signif_level=TRUE, textsize = 15, test = \"wilcox.test\", vjust = 0.5) +\n",
    "labs(y = \"Average TIL score\") + ggtitle(~underline(\"H&E TIL score\"))\n",
    "\n",
    "heplot"
   ]
  },
  {
   "cell_type": "code",
   "execution_count": 65,
   "metadata": {},
   "outputs": [
    {
     "data": {
      "text/html": [
       "<strong>pdf:</strong> 2"
      ],
      "text/latex": [
       "\\textbf{pdf:} 2"
      ],
      "text/markdown": [
       "**pdf:** 2"
      ],
      "text/plain": [
       "pdf \n",
       "  2 "
      ]
     },
     "metadata": {},
     "output_type": "display_data"
    }
   ],
   "source": [
    "pdf(paste0(plotpath, \"HE_vs_immuneclusters.pdf\"),\n",
    "   width = 10, height = 12)\n",
    "\n",
    "print(heplot)\n",
    "\n",
    "dev.off()"
   ]
  },
  {
   "cell_type": "code",
   "execution_count": null,
   "metadata": {},
   "outputs": [],
   "source": []
  }
 ],
 "metadata": {
  "kernelspec": {
   "display_name": "R 4.0",
   "language": "R",
   "name": "ir40"
  },
  "language_info": {
   "codemirror_mode": "r",
   "file_extension": ".r",
   "mimetype": "text/x-r-source",
   "name": "R",
   "pygments_lexer": "r",
   "version": "4.0.3"
  },
  "toc": {
   "base_numbering": 1,
   "nav_menu": {},
   "number_sections": false,
   "sideBar": true,
   "skip_h1_title": false,
   "title_cell": "Table of Contents",
   "title_sidebar": "Contents",
   "toc_cell": true,
   "toc_position": {
    "height": "calc(100% - 180px)",
    "left": "10px",
    "top": "150px",
    "width": "165px"
   },
   "toc_section_display": true,
   "toc_window_display": true
  }
 },
 "nbformat": 4,
 "nbformat_minor": 2
}
