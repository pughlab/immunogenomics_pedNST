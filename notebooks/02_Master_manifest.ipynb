{
 "cells": [
  {
   "cell_type": "markdown",
   "metadata": {
    "toc": true
   },
   "source": [
    "<h1>Table of Contents<span class=\"tocSkip\"></span></h1>\n",
    "<div class=\"toc\"><ul class=\"toc-item\"><li><span><a href=\"#Dependencies\" data-toc-modified-id=\"Dependencies-1\">Dependencies</a></span></li><li><span><a href=\"#Paths\" data-toc-modified-id=\"Paths-2\">Paths</a></span></li><li><span><a href=\"#Main\" data-toc-modified-id=\"Main-3\">Main</a></span><ul class=\"toc-item\"><li><span><a href=\"#CBTTC\" data-toc-modified-id=\"CBTTC-3.1\">CBTTC</a></span></li><li><span><a href=\"#TARGET\" data-toc-modified-id=\"TARGET-3.2\">TARGET</a></span></li><li><span><a href=\"#TCGA\" data-toc-modified-id=\"TCGA-3.3\">TCGA</a></span></li><li><span><a href=\"#DKFZ\" data-toc-modified-id=\"DKFZ-3.4\">DKFZ</a></span></li><li><span><a href=\"#Bind-all!\" data-toc-modified-id=\"Bind-all!-3.5\">Bind all!</a></span></li><li><span><a href=\"#Clinical-data-cleanup\" data-toc-modified-id=\"Clinical-data-cleanup-3.6\">Clinical data cleanup</a></span></li></ul></li></ul></div>"
   ]
  },
  {
   "cell_type": "markdown",
   "metadata": {},
   "source": [
    "# Dependencies"
   ]
  },
  {
   "cell_type": "code",
   "execution_count": 1,
   "metadata": {
    "scrolled": true
   },
   "outputs": [
    {
     "name": "stderr",
     "output_type": "stream",
     "text": [
      "\n",
      "Attaching package: ‘dplyr’\n",
      "\n",
      "\n",
      "The following objects are masked from ‘package:stats’:\n",
      "\n",
      "    filter, lag\n",
      "\n",
      "\n",
      "The following objects are masked from ‘package:base’:\n",
      "\n",
      "    intersect, setdiff, setequal, union\n",
      "\n",
      "\n"
     ]
    }
   ],
   "source": [
    "library(dplyr)"
   ]
  },
  {
   "cell_type": "markdown",
   "metadata": {},
   "source": [
    "# Paths"
   ]
  },
  {
   "cell_type": "code",
   "execution_count": 2,
   "metadata": {},
   "outputs": [],
   "source": [
    "manifestpath <- \"/Users/anabbi/OneDrive - UHN/Documents/IPD2/Manifests/\"\n",
    "datapath <- \"/Users/anabbi/OneDrive - UHN/Documents/IPD2/Data/\"\n",
    "plotpath <- \"/Users/anabbi/OneDrive - UHN/Documents/IPD2/Plots/\""
   ]
  },
  {
   "cell_type": "markdown",
   "metadata": {},
   "source": [
    "# Main"
   ]
  },
  {
   "cell_type": "markdown",
   "metadata": {},
   "source": [
    "## CBTTC"
   ]
  },
  {
   "cell_type": "markdown",
   "metadata": {},
   "source": [
    "This file is from CBTTC Dataset - Arash Nabbi 12.04.18.xlsx from J.Mason spreadsheet \"Clinical Dataset wout aliquots\""
   ]
  },
  {
   "cell_type": "code",
   "execution_count": 3,
   "metadata": {},
   "outputs": [],
   "source": [
    "CBTTC_clinical <- read.csv(paste0(manifestpath,\"CBTTC_clinical.csv\"),header = TRUE, \n",
    "                           stringsAsFactors = FALSE, na.strings = c(\"\", NA))"
   ]
  },
  {
   "cell_type": "code",
   "execution_count": 4,
   "metadata": {},
   "outputs": [],
   "source": [
    "CBTTC_clinical <- CBTTC_clinical[!is.na(CBTTC_clinical$CBTTC.Subject.ID),]"
   ]
  },
  {
   "cell_type": "code",
   "execution_count": 5,
   "metadata": {},
   "outputs": [],
   "source": [
    "CBTTC_clinical$sample_id <- CBTTC_clinical$CBTTC.Event.ID"
   ]
  },
  {
   "cell_type": "code",
   "execution_count": 6,
   "metadata": {},
   "outputs": [],
   "source": [
    "CBTTC_clinical$Age.at.Collection[CBTTC_clinical$Age.at.Collection == \"Not Reported\"] <- NA\n",
    "CBTTC_clinical$Age.At.Last.Known.Status..if.deceased..this.is.days.to.death.[CBTTC_clinical$Age.At.Last.Known.Status..if.deceased..this.is.days.to.death. == \"Not reported\"] <- NA"
   ]
  },
  {
   "cell_type": "code",
   "execution_count": 7,
   "metadata": {},
   "outputs": [],
   "source": [
    "CBTTC_clinical$Age.at.Collection <- as.numeric(CBTTC_clinical$Age.at.Collection)\n",
    "CBTTC_clinical$Age.At.Last.Known.Status..if.deceased..this.is.days.to.death. <- as.numeric(CBTTC_clinical$Age.At.Last.Known.Status..if.deceased..this.is.days.to.death.)"
   ]
  },
  {
   "cell_type": "markdown",
   "metadata": {},
   "source": [
    "make days to death variable"
   ]
  },
  {
   "cell_type": "code",
   "execution_count": 8,
   "metadata": {},
   "outputs": [],
   "source": [
    "CBTTC_clinical$days_to_death <- NA"
   ]
  },
  {
   "cell_type": "code",
   "execution_count": 9,
   "metadata": {},
   "outputs": [],
   "source": [
    "cbttc_caseids <- unique(CBTTC_clinical$CBTTC.Subject.ID)"
   ]
  },
  {
   "cell_type": "markdown",
   "metadata": {},
   "source": [
    "for each caseid, if only one entry days to death = ageatlastknown - ageatcollection\n",
    "if more than one entry, days to death = maximum age at last known - minimum age at collection\n",
    "\n",
    "\n",
    "this is to capture days to death for progressive samples"
   ]
  },
  {
   "cell_type": "code",
   "execution_count": 10,
   "metadata": {},
   "outputs": [],
   "source": [
    "for(id in cbttc_caseids){\n",
    "    tmp <- CBTTC_clinical[ CBTTC_clinical$CBTTC.Subject.ID == id,]\n",
    "    if(nrow(tmp) == 1){\n",
    "        CBTTC_clinical$days_to_death[CBTTC_clinical$CBTTC.Subject.ID == id] <- tmp$`Age.At.Last.Known.Status..if.deceased..this.is.days.to.death.` - tmp$Age.at.Collection    \n",
    "    }\n",
    "    else{\n",
    "    age.at.firstcollection <- min(tmp$Age.at.Collection)\n",
    "    age.at.last.known <- max(tmp$`Age.At.Last.Known.Status..if.deceased..this.is.days.to.death.`)\n",
    "    CBTTC_clinical$days_to_death[CBTTC_clinical$CBTTC.Subject.ID == id] <-  age.at.last.known - age.at.firstcollection   \n",
    "        \n",
    "    }\n",
    "}"
   ]
  },
  {
   "cell_type": "markdown",
   "metadata": {},
   "source": [
    "make a recurrence variable and days to progress"
   ]
  },
  {
   "cell_type": "code",
   "execution_count": 11,
   "metadata": {},
   "outputs": [],
   "source": [
    "CBTTC_clinical$recurrence <- NA\n",
    "CBTTC_clinical$days_to_progress <- NA"
   ]
  },
  {
   "cell_type": "markdown",
   "metadata": {},
   "source": [
    "for each caseid, if only one entry: recurrence == lastknown status, days to progress is same as days to death\n",
    "    \n",
    "for more than one entry, recurred, order based on age at collection, days to progress (days to first event) is difference between the first entry and the second entry"
   ]
  },
  {
   "cell_type": "code",
   "execution_count": 12,
   "metadata": {},
   "outputs": [],
   "source": [
    "for(id in cbttc_caseids){\n",
    "    tmp <- CBTTC_clinical[ CBTTC_clinical$CBTTC.Subject.ID == id,]\n",
    "    if(nrow(tmp) == 1){\n",
    "        CBTTC_clinical$recurrence[CBTTC_clinical$CBTTC.Subject.ID == id] <- tmp$Last.Known.Status\n",
    "        CBTTC_clinical$days_to_progress[CBTTC_clinical$CBTTC.Subject.ID == id] <- CBTTC_clinical$days_to_death[CBTTC_clinical$CBTTC.Subject.ID == id]\n",
    "    \n",
    "    }\n",
    "    else{\n",
    "        #print(tmp$CBTTC.Subject.ID)\n",
    "        CBTTC_clinical$recurrence[CBTTC_clinical$CBTTC.Subject.ID == id] <- 1 #if more than one entry, recurred\n",
    "        #order based on age at collection\n",
    "        tmp <- tmp[order(tmp$Age.at.Collection),]\n",
    "        progressed_time <- tmp[2,\"Age.at.Collection\"] - tmp[1,\"Age.at.Collection\"]\n",
    "        CBTTC_clinical$days_to_progress[CBTTC_clinical$CBTTC.Subject.ID == id] <- progressed_time\n",
    "        \n",
    "    }\n",
    "}"
   ]
  },
  {
   "cell_type": "code",
   "execution_count": 13,
   "metadata": {},
   "outputs": [
    {
     "data": {
      "text/html": [
       "<table class=\"dataframe\">\n",
       "<caption>A data.frame: 2 × 27</caption>\n",
       "<thead>\n",
       "\t<tr><th></th><th scope=col>CBTTC.Subject.ID</th><th scope=col>CBTTC.Event.ID</th><th scope=col>Kids.Subject.ID</th><th scope=col>Group</th><th scope=col>Cohort</th><th scope=col>Sample.Clinical.Event.Origin</th><th scope=col>Gender</th><th scope=col>Race</th><th scope=col>Ethnicity</th><th scope=col>Diagnosis.a</th><th scope=col>⋯</th><th scope=col>Primary.Site.e</th><th scope=col>Primary.Site.f</th><th scope=col>Primary.Site.g</th><th scope=col>Age.at.Collection</th><th scope=col>Last.Known.Status</th><th scope=col>Age.At.Last.Known.Status..if.deceased..this.is.days.to.death.</th><th scope=col>sample_id</th><th scope=col>days_to_death</th><th scope=col>recurrence</th><th scope=col>days_to_progress</th></tr>\n",
       "\t<tr><th></th><th scope=col>&lt;chr&gt;</th><th scope=col>&lt;chr&gt;</th><th scope=col>&lt;chr&gt;</th><th scope=col>&lt;chr&gt;</th><th scope=col>&lt;chr&gt;</th><th scope=col>&lt;chr&gt;</th><th scope=col>&lt;chr&gt;</th><th scope=col>&lt;chr&gt;</th><th scope=col>&lt;chr&gt;</th><th scope=col>&lt;chr&gt;</th><th scope=col>⋯</th><th scope=col>&lt;chr&gt;</th><th scope=col>&lt;chr&gt;</th><th scope=col>&lt;chr&gt;</th><th scope=col>&lt;dbl&gt;</th><th scope=col>&lt;chr&gt;</th><th scope=col>&lt;dbl&gt;</th><th scope=col>&lt;chr&gt;</th><th scope=col>&lt;dbl&gt;</th><th scope=col>&lt;chr&gt;</th><th scope=col>&lt;dbl&gt;</th></tr>\n",
       "</thead>\n",
       "<tbody>\n",
       "\t<tr><th scope=row>75</th><td>C129273</td><td>7316-839 </td><td>PT_5JA1N2H4</td><td>CBTTC</td><td>MB </td><td>Progressive</td><td>Male</td><td>Other</td><td>Reported Unknown</td><td>Medulloblastoma                                 </td><td>⋯</td><td>Not Applicable</td><td>Not Applicable</td><td>Not Applicable</td><td>  NA</td><td>Deceased-due to disease</td><td>NA</td><td>7316-839 </td><td>NA</td><td>Deceased-due to disease</td><td>NA</td></tr>\n",
       "\t<tr><th scope=row>369</th><td>C372813</td><td>7316-1889</td><td>PT_KBDP8ZCR</td><td>CBTTC</td><td>HGG</td><td>Progressive</td><td>Male</td><td>Other</td><td>Reported Unknown</td><td>High-grade glioma/astrocytoma (WHO grade III/IV)</td><td>⋯</td><td>Not Applicable</td><td>Not Applicable</td><td>Not Applicable</td><td>6692</td><td>Deceased-due to disease</td><td>NA</td><td>7316-1889</td><td>NA</td><td>Deceased-due to disease</td><td>NA</td></tr>\n",
       "</tbody>\n",
       "</table>\n"
      ],
      "text/latex": [
       "A data.frame: 2 × 27\n",
       "\\begin{tabular}{r|lllllllllllllllllllll}\n",
       "  & CBTTC.Subject.ID & CBTTC.Event.ID & Kids.Subject.ID & Group & Cohort & Sample.Clinical.Event.Origin & Gender & Race & Ethnicity & Diagnosis.a & ⋯ & Primary.Site.e & Primary.Site.f & Primary.Site.g & Age.at.Collection & Last.Known.Status & Age.At.Last.Known.Status..if.deceased..this.is.days.to.death. & sample\\_id & days\\_to\\_death & recurrence & days\\_to\\_progress\\\\\n",
       "  & <chr> & <chr> & <chr> & <chr> & <chr> & <chr> & <chr> & <chr> & <chr> & <chr> & ⋯ & <chr> & <chr> & <chr> & <dbl> & <chr> & <dbl> & <chr> & <dbl> & <chr> & <dbl>\\\\\n",
       "\\hline\n",
       "\t75 & C129273 & 7316-839  & PT\\_5JA1N2H4 & CBTTC & MB  & Progressive & Male & Other & Reported Unknown & Medulloblastoma                                  & ⋯ & Not Applicable & Not Applicable & Not Applicable &   NA & Deceased-due to disease & NA & 7316-839  & NA & Deceased-due to disease & NA\\\\\n",
       "\t369 & C372813 & 7316-1889 & PT\\_KBDP8ZCR & CBTTC & HGG & Progressive & Male & Other & Reported Unknown & High-grade glioma/astrocytoma (WHO grade III/IV) & ⋯ & Not Applicable & Not Applicable & Not Applicable & 6692 & Deceased-due to disease & NA & 7316-1889 & NA & Deceased-due to disease & NA\\\\\n",
       "\\end{tabular}\n"
      ],
      "text/markdown": [
       "\n",
       "A data.frame: 2 × 27\n",
       "\n",
       "| <!--/--> | CBTTC.Subject.ID &lt;chr&gt; | CBTTC.Event.ID &lt;chr&gt; | Kids.Subject.ID &lt;chr&gt; | Group &lt;chr&gt; | Cohort &lt;chr&gt; | Sample.Clinical.Event.Origin &lt;chr&gt; | Gender &lt;chr&gt; | Race &lt;chr&gt; | Ethnicity &lt;chr&gt; | Diagnosis.a &lt;chr&gt; | ⋯ ⋯ | Primary.Site.e &lt;chr&gt; | Primary.Site.f &lt;chr&gt; | Primary.Site.g &lt;chr&gt; | Age.at.Collection &lt;dbl&gt; | Last.Known.Status &lt;chr&gt; | Age.At.Last.Known.Status..if.deceased..this.is.days.to.death. &lt;dbl&gt; | sample_id &lt;chr&gt; | days_to_death &lt;dbl&gt; | recurrence &lt;chr&gt; | days_to_progress &lt;dbl&gt; |\n",
       "|---|---|---|---|---|---|---|---|---|---|---|---|---|---|---|---|---|---|---|---|---|---|\n",
       "| 75 | C129273 | 7316-839  | PT_5JA1N2H4 | CBTTC | MB  | Progressive | Male | Other | Reported Unknown | Medulloblastoma                                  | ⋯ | Not Applicable | Not Applicable | Not Applicable |   NA | Deceased-due to disease | NA | 7316-839  | NA | Deceased-due to disease | NA |\n",
       "| 369 | C372813 | 7316-1889 | PT_KBDP8ZCR | CBTTC | HGG | Progressive | Male | Other | Reported Unknown | High-grade glioma/astrocytoma (WHO grade III/IV) | ⋯ | Not Applicable | Not Applicable | Not Applicable | 6692 | Deceased-due to disease | NA | 7316-1889 | NA | Deceased-due to disease | NA |\n",
       "\n"
      ],
      "text/plain": [
       "    CBTTC.Subject.ID CBTTC.Event.ID Kids.Subject.ID Group Cohort\n",
       "75  C129273          7316-839       PT_5JA1N2H4     CBTTC MB    \n",
       "369 C372813          7316-1889      PT_KBDP8ZCR     CBTTC HGG   \n",
       "    Sample.Clinical.Event.Origin Gender Race  Ethnicity       \n",
       "75  Progressive                  Male   Other Reported Unknown\n",
       "369 Progressive                  Male   Other Reported Unknown\n",
       "    Diagnosis.a                                      ⋯ Primary.Site.e\n",
       "75  Medulloblastoma                                  ⋯ Not Applicable\n",
       "369 High-grade glioma/astrocytoma (WHO grade III/IV) ⋯ Not Applicable\n",
       "    Primary.Site.f Primary.Site.g Age.at.Collection Last.Known.Status      \n",
       "75  Not Applicable Not Applicable   NA              Deceased-due to disease\n",
       "369 Not Applicable Not Applicable 6692              Deceased-due to disease\n",
       "    Age.At.Last.Known.Status..if.deceased..this.is.days.to.death. sample_id\n",
       "75  NA                                                            7316-839 \n",
       "369 NA                                                            7316-1889\n",
       "    days_to_death recurrence              days_to_progress\n",
       "75  NA            Deceased-due to disease NA              \n",
       "369 NA            Deceased-due to disease NA              "
      ]
     },
     "metadata": {},
     "output_type": "display_data"
    }
   ],
   "source": [
    "CBTTC_clinical[CBTTC_clinical$Last.Known.Status == \"Deceased-due to disease\" & is.na(CBTTC_clinical$days_to_progress),]"
   ]
  },
  {
   "cell_type": "code",
   "execution_count": 14,
   "metadata": {},
   "outputs": [
    {
     "data": {
      "text/plain": [
       "\n",
       "                         Alive    Deceased-causes unavailable \n",
       "                           826                              2 \n",
       "       Deceased-due to disease   Deceased-due to other causes \n",
       "                           199                              5 \n",
       "Deceased-due to unknown causes               Reported Unknown \n",
       "                             5                             25 "
      ]
     },
     "metadata": {},
     "output_type": "display_data"
    }
   ],
   "source": [
    "table(CBTTC_clinical$Last.Known.Status)"
   ]
  },
  {
   "cell_type": "code",
   "execution_count": 15,
   "metadata": {},
   "outputs": [
    {
     "data": {
      "text/plain": [
       "\n",
       "                             1                          Alive \n",
       "                           197                            704 \n",
       "   Deceased-causes unavailable        Deceased-due to disease \n",
       "                             2                            124 \n",
       "  Deceased-due to other causes Deceased-due to unknown causes \n",
       "                             5                              5 \n",
       "              Reported Unknown \n",
       "                            25 "
      ]
     },
     "metadata": {},
     "output_type": "display_data"
    }
   ],
   "source": [
    "table(CBTTC_clinical$recurrence)"
   ]
  },
  {
   "cell_type": "markdown",
   "metadata": {},
   "source": [
    "If Deceased-due to disease, recurrence = yes. recurrence is disease-specific so censor death due to other causes"
   ]
  },
  {
   "cell_type": "code",
   "execution_count": 16,
   "metadata": {},
   "outputs": [],
   "source": [
    "CBTTC_clinical$recurrence[ CBTTC_clinical$recurrence == \"Deceased-due to disease\"] <- 1\n",
    "\n",
    "CBTTC_clinical$recurrence[ CBTTC_clinical$recurrence == \"Alive\"] <- 0\n",
    "CBTTC_clinical$recurrence[ CBTTC_clinical$recurrence == \"Deceased-due to unknown causes\"] <- 0\n",
    "CBTTC_clinical$recurrence[ CBTTC_clinical$recurrence == \"Deceased-due to other causes\"] <- 0\n",
    "CBTTC_clinical$recurrence[ CBTTC_clinical$recurrence == \"Deceased-causes unavailable\"] <- 0\n",
    "CBTTC_clinical$recurrence[ CBTTC_clinical$recurrence == \"Reported Unknown\"] <- NA"
   ]
  },
  {
   "cell_type": "markdown",
   "metadata": {},
   "source": [
    "This is overall survival so recode death due to other causes to 1"
   ]
  },
  {
   "cell_type": "code",
   "execution_count": 17,
   "metadata": {},
   "outputs": [],
   "source": [
    "CBTTC_clinical$Last.Known.Status[ CBTTC_clinical$Last.Known.Status == \"Deceased-due to disease\"] <- 1\n",
    "\n",
    "CBTTC_clinical$Last.Known.Status[ CBTTC_clinical$Last.Known.Status == \"Alive\"] <- 0\n",
    "CBTTC_clinical$Last.Known.Status[ CBTTC_clinical$Last.Known.Status == \"Deceased-due to unknown causes\"] <- 1\n",
    "CBTTC_clinical$Last.Known.Status[ CBTTC_clinical$Last.Known.Status == \"Deceased-due to other causes\"] <- 1\n",
    "CBTTC_clinical$Last.Known.Status[ CBTTC_clinical$Last.Known.Status == \"Deceased-causes unavailable\"] <- 1\n",
    "\n",
    "#based on osvaldo recommendation, there is no last follow up data so recode to NA\n",
    "CBTTC_clinical$Last.Known.Status[ CBTTC_clinical$Last.Known.Status == \"Reported Unknown\"] <- NA"
   ]
  },
  {
   "cell_type": "markdown",
   "metadata": {},
   "source": [
    "Metadata manifest for CBTTC RSEM files exported from CAVATICA. lines and dups removed"
   ]
  },
  {
   "cell_type": "code",
   "execution_count": 18,
   "metadata": {},
   "outputs": [],
   "source": [
    "CBTTC_RNA_manifest_genes <- read.csv(paste0(manifestpath, \"CBTTC_RSEM-manifest_linerm_dedup.csv\"),\n",
    "                               header = TRUE, stringsAsFactors = FALSE)"
   ]
  },
  {
   "cell_type": "code",
   "execution_count": 19,
   "metadata": {},
   "outputs": [
    {
     "data": {
      "text/html": [
       "<style>\n",
       ".list-inline {list-style: none; margin:0; padding: 0}\n",
       ".list-inline>li {display: inline-block}\n",
       ".list-inline>li:not(:last-child)::after {content: \"\\00b7\"; padding: 0 .5ex}\n",
       "</style>\n",
       "<ol class=list-inline><li>969</li><li>20</li></ol>\n"
      ],
      "text/latex": [
       "\\begin{enumerate*}\n",
       "\\item 969\n",
       "\\item 20\n",
       "\\end{enumerate*}\n"
      ],
      "text/markdown": [
       "1. 969\n",
       "2. 20\n",
       "\n",
       "\n"
      ],
      "text/plain": [
       "[1] 969  20"
      ]
     },
     "metadata": {},
     "output_type": "display_data"
    }
   ],
   "source": [
    "dim(CBTTC_RNA_manifest_genes)"
   ]
  },
  {
   "cell_type": "code",
   "execution_count": 20,
   "metadata": {},
   "outputs": [
    {
     "data": {
      "text/plain": [
       "\n",
       "                  Initial CNS Tumor       Progressive        Recurrence \n",
       "                1               700               147                68 \n",
       "Second Malignancy       Unavailable \n",
       "               16                37 "
      ]
     },
     "metadata": {},
     "output_type": "display_data"
    }
   ],
   "source": [
    "table(CBTTC_RNA_manifest_genes$Tumor.Descriptor)"
   ]
  },
  {
   "cell_type": "code",
   "execution_count": 21,
   "metadata": {},
   "outputs": [
    {
     "data": {
      "text/plain": [
       "\n",
       "Initial CNS Tumor       Progressive        Recurrence Second Malignancy \n",
       "              807               164                73                18 "
      ]
     },
     "metadata": {},
     "output_type": "display_data"
    }
   ],
   "source": [
    "table(CBTTC_clinical$Sample.Clinical.Event.Origin)"
   ]
  },
  {
   "cell_type": "code",
   "execution_count": 22,
   "metadata": {},
   "outputs": [
    {
     "data": {
      "text/html": [
       "<style>\n",
       ".list-inline {list-style: none; margin:0; padding: 0}\n",
       ".list-inline>li {display: inline-block}\n",
       ".list-inline>li:not(:last-child)::after {content: \"\\00b7\"; padding: 0 .5ex}\n",
       "</style>\n",
       "<ol class=list-inline><li>1062</li><li>27</li></ol>\n"
      ],
      "text/latex": [
       "\\begin{enumerate*}\n",
       "\\item 1062\n",
       "\\item 27\n",
       "\\end{enumerate*}\n"
      ],
      "text/markdown": [
       "1. 1062\n",
       "2. 27\n",
       "\n",
       "\n"
      ],
      "text/plain": [
       "[1] 1062   27"
      ]
     },
     "metadata": {},
     "output_type": "display_data"
    }
   ],
   "source": [
    "dim(CBTTC_clinical)"
   ]
  },
  {
   "cell_type": "code",
   "execution_count": 23,
   "metadata": {},
   "outputs": [],
   "source": [
    "CBTTC_metadata <- merge(CBTTC_clinical, CBTTC_RNA_manifest_genes[c(\"sample_id\", \"Kids.First.Biospecimen.ID\",\n",
    "                                                                   \"aliquot_id\",\"name\")],by = \"sample_id\")"
   ]
  },
  {
   "cell_type": "code",
   "execution_count": 24,
   "metadata": {},
   "outputs": [
    {
     "data": {
      "text/html": [
       "<style>\n",
       ".list-inline {list-style: none; margin:0; padding: 0}\n",
       ".list-inline>li {display: inline-block}\n",
       ".list-inline>li:not(:last-child)::after {content: \"\\00b7\"; padding: 0 .5ex}\n",
       "</style>\n",
       "<ol class=list-inline><li>'id'</li><li>'name'</li><li>'project'</li><li>'visible'</li><li>'Kids.First.Participant.ID'</li><li>'ethnicity'</li><li>'gender'</li><li>'race'</li><li>'disease_type'</li><li>'sample_id'</li><li>'Tumor.Descriptor'</li><li>'sample_type'</li><li>'platform'</li><li>'Kids.First.Biospecimen.ID'</li><li>'primary_site'</li><li>'age_at_diagnosis'</li><li>'aliquot_id'</li><li>'reference_genome'</li><li>'case_id'</li><li>'experimental_strategy'</li></ol>\n"
      ],
      "text/latex": [
       "\\begin{enumerate*}\n",
       "\\item 'id'\n",
       "\\item 'name'\n",
       "\\item 'project'\n",
       "\\item 'visible'\n",
       "\\item 'Kids.First.Participant.ID'\n",
       "\\item 'ethnicity'\n",
       "\\item 'gender'\n",
       "\\item 'race'\n",
       "\\item 'disease\\_type'\n",
       "\\item 'sample\\_id'\n",
       "\\item 'Tumor.Descriptor'\n",
       "\\item 'sample\\_type'\n",
       "\\item 'platform'\n",
       "\\item 'Kids.First.Biospecimen.ID'\n",
       "\\item 'primary\\_site'\n",
       "\\item 'age\\_at\\_diagnosis'\n",
       "\\item 'aliquot\\_id'\n",
       "\\item 'reference\\_genome'\n",
       "\\item 'case\\_id'\n",
       "\\item 'experimental\\_strategy'\n",
       "\\end{enumerate*}\n"
      ],
      "text/markdown": [
       "1. 'id'\n",
       "2. 'name'\n",
       "3. 'project'\n",
       "4. 'visible'\n",
       "5. 'Kids.First.Participant.ID'\n",
       "6. 'ethnicity'\n",
       "7. 'gender'\n",
       "8. 'race'\n",
       "9. 'disease_type'\n",
       "10. 'sample_id'\n",
       "11. 'Tumor.Descriptor'\n",
       "12. 'sample_type'\n",
       "13. 'platform'\n",
       "14. 'Kids.First.Biospecimen.ID'\n",
       "15. 'primary_site'\n",
       "16. 'age_at_diagnosis'\n",
       "17. 'aliquot_id'\n",
       "18. 'reference_genome'\n",
       "19. 'case_id'\n",
       "20. 'experimental_strategy'\n",
       "\n",
       "\n"
      ],
      "text/plain": [
       " [1] \"id\"                        \"name\"                     \n",
       " [3] \"project\"                   \"visible\"                  \n",
       " [5] \"Kids.First.Participant.ID\" \"ethnicity\"                \n",
       " [7] \"gender\"                    \"race\"                     \n",
       " [9] \"disease_type\"              \"sample_id\"                \n",
       "[11] \"Tumor.Descriptor\"          \"sample_type\"              \n",
       "[13] \"platform\"                  \"Kids.First.Biospecimen.ID\"\n",
       "[15] \"primary_site\"              \"age_at_diagnosis\"         \n",
       "[17] \"aliquot_id\"                \"reference_genome\"         \n",
       "[19] \"case_id\"                   \"experimental_strategy\"    "
      ]
     },
     "metadata": {},
     "output_type": "display_data"
    }
   ],
   "source": [
    "colnames(CBTTC_RNA_manifest_genes)"
   ]
  },
  {
   "cell_type": "code",
   "execution_count": 25,
   "metadata": {},
   "outputs": [
    {
     "data": {
      "text/plain": [
       "\n",
       "Initial CNS Tumor       Progressive        Recurrence Second Malignancy \n",
       "              730               153                70                16 "
      ]
     },
     "metadata": {},
     "output_type": "display_data"
    }
   ],
   "source": [
    "# This column originates from clinical excel sheet. Appears to be updated more than cavatica manifest file. Use this instead of Tumor.Descriptor\n",
    "table(CBTTC_metadata$Sample.Clinical.Event.Origin)"
   ]
  },
  {
   "cell_type": "markdown",
   "metadata": {},
   "source": [
    "Some minor cleanup for cohorts"
   ]
  },
  {
   "cell_type": "code",
   "execution_count": 26,
   "metadata": {},
   "outputs": [],
   "source": [
    "CBTTC_metadata$Cohort[CBTTC_metadata$Cohort == \"LGG\"] <- \"pedLGG\"\n",
    "CBTTC_metadata$Cohort[CBTTC_metadata$Cohort == \"HGG\"] <- \"pedHGG\"\n",
    "CBTTC_metadata$Cohort[CBTTC_metadata$Cohort == \"SchN\"] <- \"SCHN\""
   ]
  },
  {
   "cell_type": "markdown",
   "metadata": {},
   "source": [
    "Add diagnosis.for.other to diagnosis.a"
   ]
  },
  {
   "cell_type": "code",
   "execution_count": 27,
   "metadata": {},
   "outputs": [],
   "source": [
    "CBTTC_metadata$Diagnosis.for.Other[CBTTC_metadata$Diagnosis.for.Other == \"Not applicable\"] <- NA"
   ]
  },
  {
   "cell_type": "code",
   "execution_count": 28,
   "metadata": {},
   "outputs": [],
   "source": [
    "CBTTC_metadata$Diagnosis.for.Other <- as.character(CBTTC_metadata$Diagnosis.for.Other)\n",
    "CBTTC_metadata$Diagnosis.a <- as.character(CBTTC_metadata$Diagnosis.a)"
   ]
  },
  {
   "cell_type": "code",
   "execution_count": 29,
   "metadata": {},
   "outputs": [],
   "source": [
    "CBTTC_metadata$Diagnosis.a[!is.na(CBTTC_metadata$Diagnosis.for.Other)] <- CBTTC_metadata$Diagnosis.for.Other[!is.na(CBTTC_metadata$Diagnosis.for.Other)]"
   ]
  },
  {
   "cell_type": "code",
   "execution_count": 30,
   "metadata": {},
   "outputs": [],
   "source": [
    "CBTTC_metadata$Diagnosis.for.Other <- NULL"
   ]
  },
  {
   "cell_type": "markdown",
   "metadata": {},
   "source": [
    "Convert age from days to years and round"
   ]
  },
  {
   "cell_type": "code",
   "execution_count": 31,
   "metadata": {},
   "outputs": [],
   "source": [
    "CBTTC_metadata$age_at_diagnosis <- round(CBTTC_metadata$Age.at.Collection / 365)"
   ]
  },
  {
   "cell_type": "markdown",
   "metadata": {},
   "source": [
    "Change colnames to bind with other files"
   ]
  },
  {
   "cell_type": "code",
   "execution_count": 32,
   "metadata": {},
   "outputs": [],
   "source": [
    "colnames(CBTTC_metadata)[colnames(CBTTC_metadata) == \"CBTTC.Subject.ID\"] <- \"case_id\"\n",
    "colnames(CBTTC_metadata)[colnames(CBTTC_metadata) == \"Group\"] <- \"group\"\n",
    "colnames(CBTTC_metadata)[colnames(CBTTC_metadata) == \"Cohort\"] <- \"cohort\" \n",
    "colnames(CBTTC_metadata)[colnames(CBTTC_metadata) == \"Sample.Clinical.Event.Origin\"] <- \"sample_type\"\n",
    "colnames(CBTTC_metadata)[colnames(CBTTC_metadata) == \"Gender\"] <- \"gender\"\n",
    "colnames(CBTTC_metadata)[colnames(CBTTC_metadata) == \"Race\"] <- \"race\"\n",
    "colnames(CBTTC_metadata)[colnames(CBTTC_metadata) == \"Ethnicity\"] <- \"ethnicity\"\n",
    "colnames(CBTTC_metadata)[colnames(CBTTC_metadata) == \"Diagnosis.a\"] <- \"disease_type\"\n",
    "colnames(CBTTC_metadata)[colnames(CBTTC_metadata) == \"Primary.Site.a\"] <- \"primary_site\"\n",
    "colnames(CBTTC_metadata)[colnames(CBTTC_metadata) == \"age_at_diagnosis\"] <- \"age_at_diagnosis\"\n",
    "colnames(CBTTC_metadata)[colnames(CBTTC_metadata) == \"Last.Known.Status\"] <- \"vital_status\"\n",
    "colnames(CBTTC_metadata)[colnames(CBTTC_metadata) == \"days_to_death\"] <- \"days_to_death\"\n",
    "colnames(CBTTC_metadata)[colnames(CBTTC_metadata) == \"CBTTC.Aliquot.ID\"] <- \"aliquot_id\"\n",
    "colnames(CBTTC_metadata)[colnames(CBTTC_metadata) == \"name\"] <- \"name\""
   ]
  },
  {
   "cell_type": "markdown",
   "metadata": {},
   "source": [
    "Further clean up for cohorts and CRC rev in cohort_cleanup nb"
   ]
  },
  {
   "cell_type": "markdown",
   "metadata": {},
   "source": [
    "## TARGET"
   ]
  },
  {
   "cell_type": "markdown",
   "metadata": {},
   "source": [
    "Metadata manifest for TARGET RNAseq bam files exported from CAVATICA"
   ]
  },
  {
   "cell_type": "code",
   "execution_count": 33,
   "metadata": {},
   "outputs": [],
   "source": [
    "TARGET_RNA_manifest <- read.csv(paste0(manifestpath, \"TARGET-manifest.csv\"),header = TRUE, stringsAsFactors = FALSE)"
   ]
  },
  {
   "cell_type": "code",
   "execution_count": 34,
   "metadata": {},
   "outputs": [],
   "source": [
    "TARGET_RNA_manifest$group <- \"TARGET\"\n",
    "TARGET_RNA_manifest$cohort <- NA\n",
    "TARGET_RNA_manifest$Sample <- NA\n",
    "TARGET_RNA_manifest$recurrence <- NA\n",
    "TARGET_RNA_manifest$days_to_progress <- NA"
   ]
  },
  {
   "cell_type": "markdown",
   "metadata": {},
   "source": [
    "Extract sample type from sample_id and rename"
   ]
  },
  {
   "cell_type": "code",
   "execution_count": 35,
   "metadata": {},
   "outputs": [],
   "source": [
    "TARGET_RNA_manifest$Sample <- substr(TARGET_RNA_manifest$sample_id, nchar(TARGET_RNA_manifest$sample_id)-2, nchar(TARGET_RNA_manifest$sample_id)-1)"
   ]
  },
  {
   "cell_type": "code",
   "execution_count": 36,
   "metadata": {},
   "outputs": [],
   "source": [
    "TARGET_RNA_manifest$Sample[TARGET_RNA_manifest$Sample == \"01\"] <- \"Primary Solid Tumor\"\n",
    "TARGET_RNA_manifest$Sample[TARGET_RNA_manifest$Sample == \"02\"] <- \"Recurrent Solid Tumor\"\n",
    "TARGET_RNA_manifest$Sample[TARGET_RNA_manifest$Sample == \"04\"] <- \"Recurrent BM/Blood\"\n",
    "TARGET_RNA_manifest$Sample[TARGET_RNA_manifest$Sample == \"11\"] <- \"Solid Tissue Normal\"\n",
    "TARGET_RNA_manifest$Sample[TARGET_RNA_manifest$Sample == \"06\"] <- \"Metastatic\""
   ]
  },
  {
   "cell_type": "code",
   "execution_count": 37,
   "metadata": {},
   "outputs": [],
   "source": [
    "TARGET_RNA_manifest$cohort[TARGET_RNA_manifest$disease_type == \"Neuroblastoma\"] <- \"NBL\"\n",
    "TARGET_RNA_manifest$cohort[TARGET_RNA_manifest$disease_type == \"Rhabdoid Tumor\"] <- \"RT\"\n",
    "TARGET_RNA_manifest$cohort[TARGET_RNA_manifest$disease_type == \"High-Risk Wilms Tumor\"] <- \"WILMS\""
   ]
  },
  {
   "cell_type": "code",
   "execution_count": 38,
   "metadata": {},
   "outputs": [
    {
     "data": {
      "text/plain": [
       "\n",
       "  NBL    RT WILMS \n",
       "  157     5   132 "
      ]
     },
     "metadata": {},
     "output_type": "display_data"
    }
   ],
   "source": [
    "table(TARGET_RNA_manifest$cohort)"
   ]
  },
  {
   "cell_type": "markdown",
   "metadata": {},
   "source": [
    "Remove RT and WILMS"
   ]
  },
  {
   "cell_type": "code",
   "execution_count": 39,
   "metadata": {},
   "outputs": [],
   "source": [
    "TARGET_RNA_manifest <- TARGET_RNA_manifest[TARGET_RNA_manifest$cohort == \"NBL\",]"
   ]
  },
  {
   "cell_type": "code",
   "execution_count": 40,
   "metadata": {},
   "outputs": [
    {
     "data": {
      "text/html": [
       "<style>\n",
       ".list-inline {list-style: none; margin:0; padding: 0}\n",
       ".list-inline>li {display: inline-block}\n",
       ".list-inline>li:not(:last-child)::after {content: \"\\00b7\"; padding: 0 .5ex}\n",
       "</style>\n",
       "<ol class=list-inline><li>157</li><li>28</li></ol>\n"
      ],
      "text/latex": [
       "\\begin{enumerate*}\n",
       "\\item 157\n",
       "\\item 28\n",
       "\\end{enumerate*}\n"
      ],
      "text/markdown": [
       "1. 157\n",
       "2. 28\n",
       "\n",
       "\n"
      ],
      "text/plain": [
       "[1] 157  28"
      ]
     },
     "metadata": {},
     "output_type": "display_data"
    }
   ],
   "source": [
    "dim(TARGET_RNA_manifest)"
   ]
  },
  {
   "cell_type": "code",
   "execution_count": 41,
   "metadata": {},
   "outputs": [
    {
     "data": {
      "text/plain": [
       "\n",
       "  Primary Solid Tumor    Recurrent BM/Blood Recurrent Solid Tumor \n",
       "                  149                     1                     7 "
      ]
     },
     "metadata": {},
     "output_type": "display_data"
    }
   ],
   "source": [
    "table(TARGET_RNA_manifest$Sample)"
   ]
  },
  {
   "cell_type": "code",
   "execution_count": 42,
   "metadata": {},
   "outputs": [],
   "source": [
    "colnames(TARGET_RNA_manifest)[colnames(TARGET_RNA_manifest) == \"Sample\"] <- \"sample_type\""
   ]
  },
  {
   "cell_type": "markdown",
   "metadata": {},
   "source": [
    "Add OS and PFS from NBL clinical data that I downloaded from TARGET portal"
   ]
  },
  {
   "cell_type": "code",
   "execution_count": 43,
   "metadata": {},
   "outputs": [],
   "source": [
    "NBL_manifest <- read.table(paste0(manifestpath, \"TARGET_NBL_Discovery_ClinicalData_20170525.txt\"),\n",
    "                                 sep = \"\\t\", na.strings = \"\", header = T, stringsAsFactors = F)"
   ]
  },
  {
   "cell_type": "markdown",
   "metadata": {},
   "source": [
    "Subset to only samples in KF dataset"
   ]
  },
  {
   "cell_type": "code",
   "execution_count": 44,
   "metadata": {},
   "outputs": [],
   "source": [
    "NBL_TARGETinKF <- NBL_manifest[NBL_manifest$TARGET.USI %in% TARGET_RNA_manifest$case_id,]"
   ]
  },
  {
   "cell_type": "markdown",
   "metadata": {},
   "source": [
    "Match case ids and fill OS and PFS and disease_type"
   ]
  },
  {
   "cell_type": "code",
   "execution_count": 45,
   "metadata": {},
   "outputs": [],
   "source": [
    "TARGET_RNA_manifest$days_to_death[match(NBL_TARGETinKF$TARGET.USI, TARGET_RNA_manifest$case_id)] <-\n",
    "NBL_TARGETinKF$Overall.Survival.Time.in.Days[match(NBL_TARGETinKF$TARGET.USI, TARGET_RNA_manifest$case_id)]"
   ]
  },
  {
   "cell_type": "code",
   "execution_count": 46,
   "metadata": {},
   "outputs": [],
   "source": [
    "TARGET_RNA_manifest$days_to_progress[match(NBL_TARGETinKF$TARGET.USI, TARGET_RNA_manifest$case_id)] <-\n",
    "NBL_TARGETinKF$Event.Free.Survival.Time.in.Days[match(NBL_TARGETinKF$TARGET.USI, TARGET_RNA_manifest$case_id)]"
   ]
  },
  {
   "cell_type": "code",
   "execution_count": 47,
   "metadata": {},
   "outputs": [],
   "source": [
    "TARGET_RNA_manifest$disease_type[match(NBL_TARGETinKF$TARGET.USI, TARGET_RNA_manifest$case_id)] <-\n",
    "NBL_TARGETinKF$Diagnostic.Category[match(NBL_TARGETinKF$TARGET.USI, TARGET_RNA_manifest$case_id)]"
   ]
  },
  {
   "cell_type": "markdown",
   "metadata": {},
   "source": [
    "if first event is Event or relapsed or progress or death it means it recurred, if censored no recurrence"
   ]
  },
  {
   "cell_type": "code",
   "execution_count": 48,
   "metadata": {},
   "outputs": [],
   "source": [
    "TARGET_RNA_manifest$recurrence[match(NBL_TARGETinKF$TARGET.USI, TARGET_RNA_manifest$case_id)] <-\n",
    "NBL_TARGETinKF$First.Event[match(NBL_TARGETinKF$TARGET.USI, TARGET_RNA_manifest$case_id)]"
   ]
  },
  {
   "cell_type": "code",
   "execution_count": 49,
   "metadata": {},
   "outputs": [
    {
     "data": {
      "text/html": [
       "<table class=\"dataframe\">\n",
       "<caption>A data.frame: 6 × 11</caption>\n",
       "<thead>\n",
       "\t<tr><th></th><th scope=col>Diagnostic.Category</th><th scope=col>ICDO</th><th scope=col>ICDO.Description</th><th scope=col>COG.Risk.Group</th><th scope=col>Percent.Tumor</th><th scope=col>Percent.Necrosis</th><th scope=col>Percent.Tumor.v.s.Stroma</th><th scope=col>Sites.of.Disease.Involvement</th><th scope=col>Site.Relapse</th><th scope=col>Relapse.Percent.Tumor</th><th scope=col>Relapse.Percent.Necrosis</th></tr>\n",
       "\t<tr><th></th><th scope=col>&lt;chr&gt;</th><th scope=col>&lt;chr&gt;</th><th scope=col>&lt;chr&gt;</th><th scope=col>&lt;chr&gt;</th><th scope=col>&lt;chr&gt;</th><th scope=col>&lt;chr&gt;</th><th scope=col>&lt;chr&gt;</th><th scope=col>&lt;chr&gt;</th><th scope=col>&lt;chr&gt;</th><th scope=col>&lt;chr&gt;</th><th scope=col>&lt;int&gt;</th></tr>\n",
       "</thead>\n",
       "<tbody>\n",
       "\t<tr><th scope=row>79</th><td>Unknown                      </td><td>Unknown</td><td>ABDOMEN/PERITONEUM OR RETROPERITONEUM             </td><td>High Risk</td><td>NA   </td><td>NA</td><td>NA   </td><td>NA</td><td>NA</td><td>NA</td><td>NA</td></tr>\n",
       "\t<tr><th scope=row>91</th><td>Unknown                      </td><td>Unknown</td><td>ADRENAL GLAND                                     </td><td>High Risk</td><td>90   </td><td>10</td><td>95/5 </td><td>NA</td><td>NA</td><td>NA</td><td>NA</td></tr>\n",
       "\t<tr><th scope=row>100</th><td>Unknown                      </td><td>Unknown</td><td>ADRENAL GLAND                                     </td><td>High Risk</td><td>80-90</td><td>5 </td><td>NA   </td><td>NA</td><td>NA</td><td>NA</td><td>NA</td></tr>\n",
       "\t<tr><th scope=row>102</th><td>Neuroblastoma                </td><td>Unknown</td><td>ADRENAL GLAND                                     </td><td>High Risk</td><td>90   </td><td>10</td><td>90/10</td><td>NA</td><td>NA</td><td>NA</td><td>NA</td></tr>\n",
       "\t<tr><th scope=row>109</th><td>Neuroblastoma                </td><td>C74.9  </td><td>Adrenal gland, NOS  Suprarenal gland  Adrenal, NOS</td><td>High Risk</td><td>90   </td><td>10</td><td>70/30</td><td>NA</td><td>NA</td><td>NA</td><td>NA</td></tr>\n",
       "\t<tr><th scope=row>120</th><td>Ganglioneuroblastoma, nodular</td><td>Unknown</td><td>ADRENAL GLAND                                     </td><td>High Risk</td><td>NA   </td><td>NA</td><td>NA   </td><td>NA</td><td>NA</td><td>NA</td><td>NA</td></tr>\n",
       "</tbody>\n",
       "</table>\n"
      ],
      "text/latex": [
       "A data.frame: 6 × 11\n",
       "\\begin{tabular}{r|lllllllllll}\n",
       "  & Diagnostic.Category & ICDO & ICDO.Description & COG.Risk.Group & Percent.Tumor & Percent.Necrosis & Percent.Tumor.v.s.Stroma & Sites.of.Disease.Involvement & Site.Relapse & Relapse.Percent.Tumor & Relapse.Percent.Necrosis\\\\\n",
       "  & <chr> & <chr> & <chr> & <chr> & <chr> & <chr> & <chr> & <chr> & <chr> & <chr> & <int>\\\\\n",
       "\\hline\n",
       "\t79 & Unknown                       & Unknown & ABDOMEN/PERITONEUM OR RETROPERITONEUM              & High Risk & NA    & NA & NA    & NA & NA & NA & NA\\\\\n",
       "\t91 & Unknown                       & Unknown & ADRENAL GLAND                                      & High Risk & 90    & 10 & 95/5  & NA & NA & NA & NA\\\\\n",
       "\t100 & Unknown                       & Unknown & ADRENAL GLAND                                      & High Risk & 80-90 & 5  & NA    & NA & NA & NA & NA\\\\\n",
       "\t102 & Neuroblastoma                 & Unknown & ADRENAL GLAND                                      & High Risk & 90    & 10 & 90/10 & NA & NA & NA & NA\\\\\n",
       "\t109 & Neuroblastoma                 & C74.9   & Adrenal gland, NOS  Suprarenal gland  Adrenal, NOS & High Risk & 90    & 10 & 70/30 & NA & NA & NA & NA\\\\\n",
       "\t120 & Ganglioneuroblastoma, nodular & Unknown & ADRENAL GLAND                                      & High Risk & NA    & NA & NA    & NA & NA & NA & NA\\\\\n",
       "\\end{tabular}\n"
      ],
      "text/markdown": [
       "\n",
       "A data.frame: 6 × 11\n",
       "\n",
       "| <!--/--> | Diagnostic.Category &lt;chr&gt; | ICDO &lt;chr&gt; | ICDO.Description &lt;chr&gt; | COG.Risk.Group &lt;chr&gt; | Percent.Tumor &lt;chr&gt; | Percent.Necrosis &lt;chr&gt; | Percent.Tumor.v.s.Stroma &lt;chr&gt; | Sites.of.Disease.Involvement &lt;chr&gt; | Site.Relapse &lt;chr&gt; | Relapse.Percent.Tumor &lt;chr&gt; | Relapse.Percent.Necrosis &lt;int&gt; |\n",
       "|---|---|---|---|---|---|---|---|---|---|---|---|\n",
       "| 79 | Unknown                       | Unknown | ABDOMEN/PERITONEUM OR RETROPERITONEUM              | High Risk | NA    | NA | NA    | NA | NA | NA | NA |\n",
       "| 91 | Unknown                       | Unknown | ADRENAL GLAND                                      | High Risk | 90    | 10 | 95/5  | NA | NA | NA | NA |\n",
       "| 100 | Unknown                       | Unknown | ADRENAL GLAND                                      | High Risk | 80-90 | 5  | NA    | NA | NA | NA | NA |\n",
       "| 102 | Neuroblastoma                 | Unknown | ADRENAL GLAND                                      | High Risk | 90    | 10 | 90/10 | NA | NA | NA | NA |\n",
       "| 109 | Neuroblastoma                 | C74.9   | Adrenal gland, NOS  Suprarenal gland  Adrenal, NOS | High Risk | 90    | 10 | 70/30 | NA | NA | NA | NA |\n",
       "| 120 | Ganglioneuroblastoma, nodular | Unknown | ADRENAL GLAND                                      | High Risk | NA    | NA | NA    | NA | NA | NA | NA |\n",
       "\n"
      ],
      "text/plain": [
       "    Diagnostic.Category           ICDO   \n",
       "79  Unknown                       Unknown\n",
       "91  Unknown                       Unknown\n",
       "100 Unknown                       Unknown\n",
       "102 Neuroblastoma                 Unknown\n",
       "109 Neuroblastoma                 C74.9  \n",
       "120 Ganglioneuroblastoma, nodular Unknown\n",
       "    ICDO.Description                                   COG.Risk.Group\n",
       "79  ABDOMEN/PERITONEUM OR RETROPERITONEUM              High Risk     \n",
       "91  ADRENAL GLAND                                      High Risk     \n",
       "100 ADRENAL GLAND                                      High Risk     \n",
       "102 ADRENAL GLAND                                      High Risk     \n",
       "109 Adrenal gland, NOS  Suprarenal gland  Adrenal, NOS High Risk     \n",
       "120 ADRENAL GLAND                                      High Risk     \n",
       "    Percent.Tumor Percent.Necrosis Percent.Tumor.v.s.Stroma\n",
       "79  NA            NA               NA                      \n",
       "91  90            10               95/5                    \n",
       "100 80-90         5                NA                      \n",
       "102 90            10               90/10                   \n",
       "109 90            10               70/30                   \n",
       "120 NA            NA               NA                      \n",
       "    Sites.of.Disease.Involvement Site.Relapse Relapse.Percent.Tumor\n",
       "79  NA                           NA           NA                   \n",
       "91  NA                           NA           NA                   \n",
       "100 NA                           NA           NA                   \n",
       "102 NA                           NA           NA                   \n",
       "109 NA                           NA           NA                   \n",
       "120 NA                           NA           NA                   \n",
       "    Relapse.Percent.Necrosis\n",
       "79  NA                      \n",
       "91  NA                      \n",
       "100 NA                      \n",
       "102 NA                      \n",
       "109 NA                      \n",
       "120 NA                      "
      ]
     },
     "metadata": {},
     "output_type": "display_data"
    }
   ],
   "source": [
    "head(NBL_TARGETinKF[,20:30])"
   ]
  },
  {
   "cell_type": "code",
   "execution_count": 50,
   "metadata": {},
   "outputs": [
    {
     "data": {
      "text/plain": [
       "\n",
       "                 Censored                     Death                     Event \n",
       "                       54                        14                        15 \n",
       "              Progression                   Relapse Second Malignant Neoplasm \n",
       "                       19                        42                         1 "
      ]
     },
     "metadata": {},
     "output_type": "display_data"
    }
   ],
   "source": [
    "table(TARGET_RNA_manifest$recurrence)"
   ]
  },
  {
   "cell_type": "code",
   "execution_count": 51,
   "metadata": {},
   "outputs": [],
   "source": [
    "TARGET_RNA_manifest$recurrence[TARGET_RNA_manifest$recurrence %in% c(\"Event\", \"Death\", \"Progression\", \"Relapse\")] <- 1\n",
    "TARGET_RNA_manifest$recurrence[TARGET_RNA_manifest$recurrence == \"Censored\"] <- 0\n",
    "TARGET_RNA_manifest$recurrence[TARGET_RNA_manifest$recurrence == \"Second Malignant Neoplasm\"] <- NA"
   ]
  },
  {
   "cell_type": "markdown",
   "metadata": {},
   "source": [
    "some information regarding the tumor site is in ICDO description, add and cleanup"
   ]
  },
  {
   "cell_type": "code",
   "execution_count": 52,
   "metadata": {},
   "outputs": [],
   "source": [
    "TARGET_RNA_manifest$primary_site[match(NBL_TARGETinKF$TARGET.USI, TARGET_RNA_manifest$case_id)] <-\n",
    "NBL_TARGETinKF$ICDO.Description[match(NBL_TARGETinKF$TARGET.USI, TARGET_RNA_manifest$case_id)]"
   ]
  },
  {
   "cell_type": "code",
   "execution_count": 53,
   "metadata": {},
   "outputs": [],
   "source": [
    "TARGET_RNA_manifest$primary_site[grepl(\"Adrenal gland\",TARGET_RNA_manifest$primary_site, ignore.case = T)] <- \"Adrenal gland\"\n",
    "TARGET_RNA_manifest$primary_site[grepl(\"Retroperitoneum\",TARGET_RNA_manifest$primary_site, ignore.case = T)] <- \"Retroperitoneum\"\n",
    "TARGET_RNA_manifest$primary_site[grepl(\"Abdomen\",TARGET_RNA_manifest$primary_site, ignore.case = T)]  <- \"Abdomen\"\n",
    "TARGET_RNA_manifest$primary_site[grepl(\"Abdominal\",TARGET_RNA_manifest$primary_site, ignore.case = T)]  <- \"Abdomen\"\n",
    "TARGET_RNA_manifest$primary_site[grepl(\"Chest\",TARGET_RNA_manifest$primary_site, ignore.case = T)] <- \"Chest\"\n",
    "TARGET_RNA_manifest$primary_site[grepl(\"mediastinum\",TARGET_RNA_manifest$primary_site, ignore.case = T)] <- \"Mediastinum\"\n",
    "TARGET_RNA_manifest$primary_site[grepl(\"Kidney\",TARGET_RNA_manifest$primary_site, ignore.case = T)] <- \"Kidney\"\n",
    "TARGET_RNA_manifest$primary_site[grepl(\"Trunk\",TARGET_RNA_manifest$primary_site, ignore.case = T)] <- \"Trunk\"\n",
    "TARGET_RNA_manifest$primary_site[grepl(\"Pelvis\",TARGET_RNA_manifest$primary_site, ignore.case = T)] <- \"Pelvis\"\n",
    "TARGET_RNA_manifest$primary_site[grepl(\"liver\",TARGET_RNA_manifest$primary_site, ignore.case = T)] <- \"Liver\""
   ]
  },
  {
   "cell_type": "markdown",
   "metadata": {},
   "source": [
    "## TCGA"
   ]
  },
  {
   "cell_type": "markdown",
   "metadata": {},
   "source": [
    "Metadata manifest for TCGA RNAseq bam files exported from CAVATICA"
   ]
  },
  {
   "cell_type": "code",
   "execution_count": 54,
   "metadata": {},
   "outputs": [],
   "source": [
    "TCGA_manifest <- read.csv(paste0(manifestpath,\"TCGA-manifest.csv\"),\n",
    "                             header = TRUE, stringsAsFactors = FALSE)"
   ]
  },
  {
   "cell_type": "markdown",
   "metadata": {},
   "source": [
    "Remove .bai files"
   ]
  },
  {
   "cell_type": "code",
   "execution_count": 55,
   "metadata": {},
   "outputs": [],
   "source": [
    "TCGA_manifest <- TCGA_manifest[grepl(\".bam\",TCGA_manifest$name),]"
   ]
  },
  {
   "cell_type": "code",
   "execution_count": 56,
   "metadata": {},
   "outputs": [
    {
     "data": {
      "text/html": [
       "<style>\n",
       ".list-inline {list-style: none; margin:0; padding: 0}\n",
       ".list-inline>li {display: inline-block}\n",
       ".list-inline>li:not(:last-child)::after {content: \"\\00b7\"; padding: 0 .5ex}\n",
       "</style>\n",
       "<ol class=list-inline><li>3223</li><li>23</li></ol>\n"
      ],
      "text/latex": [
       "\\begin{enumerate*}\n",
       "\\item 3223\n",
       "\\item 23\n",
       "\\end{enumerate*}\n"
      ],
      "text/markdown": [
       "1. 3223\n",
       "2. 23\n",
       "\n",
       "\n"
      ],
      "text/plain": [
       "[1] 3223   23"
      ]
     },
     "metadata": {},
     "output_type": "display_data"
    }
   ],
   "source": [
    "dim(TCGA_manifest)"
   ]
  },
  {
   "cell_type": "code",
   "execution_count": 57,
   "metadata": {},
   "outputs": [],
   "source": [
    "TCGA_manifest$group <- \"TCGA\"\n",
    "TCGA_manifest$cohort <- NA\n",
    "TCGA_manifest$Sample <- NA\n",
    "\n",
    "TCGA_manifest$days_to_progress <- NA\n",
    "TCGA_manifest$recurrence <- NA"
   ]
  },
  {
   "cell_type": "markdown",
   "metadata": {},
   "source": [
    "Extract sample type from sample_id and rename"
   ]
  },
  {
   "cell_type": "code",
   "execution_count": 58,
   "metadata": {},
   "outputs": [],
   "source": [
    "TCGA_manifest$Sample <- substr(TCGA_manifest$sample_id, nchar(TCGA_manifest$sample_id)-2, nchar(TCGA_manifest$sample_id)-1)"
   ]
  },
  {
   "cell_type": "code",
   "execution_count": 59,
   "metadata": {},
   "outputs": [
    {
     "data": {
      "text/plain": [
       "\n",
       "  01   02   06   07   11 \n",
       "2656   39  369    1  158 "
      ]
     },
     "metadata": {},
     "output_type": "display_data"
    }
   ],
   "source": [
    "table(TCGA_manifest$Sample)"
   ]
  },
  {
   "cell_type": "code",
   "execution_count": 60,
   "metadata": {},
   "outputs": [],
   "source": [
    "TCGA_manifest$Sample[TCGA_manifest$Sample == \"01\"] <- \"Primary Solid Tumor\"\n",
    "TCGA_manifest$Sample[TCGA_manifest$Sample == \"02\"] <- \"Recurrent Solid Tumor\"\n",
    "TCGA_manifest$Sample[TCGA_manifest$Sample == \"04\"] <- \"Recurrent BM/Blood\"\n",
    "TCGA_manifest$Sample[TCGA_manifest$Sample == \"11\"] <- \"Solid Tissue Normal\"\n",
    "TCGA_manifest$Sample[TCGA_manifest$Sample == \"06\"] <- \"Metastatic\"\n",
    "TCGA_manifest$Sample[TCGA_manifest$Sample == \"07\"] <- \"Additional Metastatic\""
   ]
  },
  {
   "cell_type": "code",
   "execution_count": 61,
   "metadata": {},
   "outputs": [],
   "source": [
    "TCGA_manifest$cohort[TCGA_manifest$disease_type == \"Brain Lower Grade Glioma\"] <- \"LGG\"\n",
    "TCGA_manifest$cohort[TCGA_manifest$disease_type == \"Colon Adenocarcinoma\"] <- \"COAD\"\n",
    "TCGA_manifest$cohort[TCGA_manifest$disease_type == \"Lung Adenocarcinoma\"] <- \"LUAD\"\n",
    "TCGA_manifest$cohort[TCGA_manifest$disease_type == \"Glioblastoma Multiforme\"] <- \"GBM\"\n",
    "TCGA_manifest$cohort[TCGA_manifest$disease_type == \"Ovarian Serous Cystadenocarcinoma\"] <- \"OV\"\n",
    "TCGA_manifest$cohort[TCGA_manifest$disease_type == \"Skin Cutaneous Melanoma\"] <- \"SKCM\"\n",
    "TCGA_manifest$cohort[TCGA_manifest$disease_type == \"Prostate Adenocarcinoma\"] <- \"PRAD\""
   ]
  },
  {
   "cell_type": "code",
   "execution_count": 62,
   "metadata": {},
   "outputs": [
    {
     "data": {
      "text/html": [
       "<style>\n",
       ".list-inline {list-style: none; margin:0; padding: 0}\n",
       ".list-inline>li {display: inline-block}\n",
       ".list-inline>li:not(:last-child)::after {content: \"\\00b7\"; padding: 0 .5ex}\n",
       "</style>\n",
       "<ol class=list-inline><li>3223</li><li>28</li></ol>\n"
      ],
      "text/latex": [
       "\\begin{enumerate*}\n",
       "\\item 3223\n",
       "\\item 28\n",
       "\\end{enumerate*}\n"
      ],
      "text/markdown": [
       "1. 3223\n",
       "2. 28\n",
       "\n",
       "\n"
      ],
      "text/plain": [
       "[1] 3223   28"
      ]
     },
     "metadata": {},
     "output_type": "display_data"
    }
   ],
   "source": [
    "dim(TCGA_manifest)"
   ]
  },
  {
   "cell_type": "markdown",
   "metadata": {},
   "source": [
    "Remove duplicates"
   ]
  },
  {
   "cell_type": "code",
   "execution_count": 63,
   "metadata": {},
   "outputs": [],
   "source": [
    "TCGA_manifest <- TCGA_manifest[!duplicated(TCGA_manifest$sample_id),]"
   ]
  },
  {
   "cell_type": "code",
   "execution_count": 64,
   "metadata": {},
   "outputs": [],
   "source": [
    "colnames(TCGA_manifest)[colnames(TCGA_manifest) == \"Sample\"] <- \"sample_type\""
   ]
  },
  {
   "cell_type": "markdown",
   "metadata": {},
   "source": [
    "## DKFZ\n",
    "\n",
    "\n",
    "this file is from Natalie"
   ]
  },
  {
   "cell_type": "code",
   "execution_count": 65,
   "metadata": {},
   "outputs": [],
   "source": [
    "DKFZ_manifest <- read.csv(paste0(manifestpath,\"DKFZ_clinical.csv\"), header = T, stringsAsFactors = F)"
   ]
  },
  {
   "cell_type": "code",
   "execution_count": 66,
   "metadata": {},
   "outputs": [
    {
     "data": {
      "text/html": [
       "<style>\n",
       ".list-inline {list-style: none; margin:0; padding: 0}\n",
       ".list-inline>li {display: inline-block}\n",
       ".list-inline>li:not(:last-child)::after {content: \"\\00b7\"; padding: 0 .5ex}\n",
       "</style>\n",
       "<ol class=list-inline><li>200</li><li>7</li></ol>\n"
      ],
      "text/latex": [
       "\\begin{enumerate*}\n",
       "\\item 200\n",
       "\\item 7\n",
       "\\end{enumerate*}\n"
      ],
      "text/markdown": [
       "1. 200\n",
       "2. 7\n",
       "\n",
       "\n"
      ],
      "text/plain": [
       "[1] 200   7"
      ]
     },
     "metadata": {},
     "output_type": "display_data"
    }
   ],
   "source": [
    "dim(DKFZ_manifest)"
   ]
  },
  {
   "cell_type": "markdown",
   "metadata": {},
   "source": [
    "Survival data from Pengbo"
   ]
  },
  {
   "cell_type": "code",
   "execution_count": 67,
   "metadata": {},
   "outputs": [
    {
     "data": {
      "text/html": [
       "<table class=\"dataframe\">\n",
       "<caption>A data.frame: 6 × 7</caption>\n",
       "<thead>\n",
       "\t<tr><th></th><th scope=col>SampleID</th><th scope=col>Cancer.Type</th><th scope=col>Subgroup</th><th scope=col>Type</th><th scope=col>Relapse.of.Other.Sample</th><th scope=col>Age</th><th scope=col>Gender</th></tr>\n",
       "\t<tr><th></th><th scope=col>&lt;chr&gt;</th><th scope=col>&lt;chr&gt;</th><th scope=col>&lt;chr&gt;</th><th scope=col>&lt;chr&gt;</th><th scope=col>&lt;chr&gt;</th><th scope=col>&lt;dbl&gt;</th><th scope=col>&lt;chr&gt;</th></tr>\n",
       "</thead>\n",
       "<tbody>\n",
       "\t<tr><th scope=row>1</th><td>H049-UV6K</td><td>ATRT</td><td>MYC</td><td>Primary</td><td>x</td><td> NA</td><td>Male  </td></tr>\n",
       "\t<tr><th scope=row>2</th><td>H049-0CWK</td><td>ATRT</td><td>MYC</td><td>Primary</td><td>x</td><td>4.0</td><td>Male  </td></tr>\n",
       "\t<tr><th scope=row>3</th><td>H049-FG38</td><td>ATRT</td><td>SHH</td><td>Primary</td><td>x</td><td>1.0</td><td>Female</td></tr>\n",
       "\t<tr><th scope=row>4</th><td>H049-GP41</td><td>ATRT</td><td>SHH</td><td>Primary</td><td>x</td><td>1.0</td><td>Male  </td></tr>\n",
       "\t<tr><th scope=row>5</th><td>H049-GWNW</td><td>ATRT</td><td>SHH</td><td>Primary</td><td>x</td><td>1.7</td><td>Female</td></tr>\n",
       "\t<tr><th scope=row>6</th><td>H049-JVCT</td><td>ATRT</td><td>SHH</td><td>Primary</td><td>x</td><td>3.0</td><td>Female</td></tr>\n",
       "</tbody>\n",
       "</table>\n"
      ],
      "text/latex": [
       "A data.frame: 6 × 7\n",
       "\\begin{tabular}{r|lllllll}\n",
       "  & SampleID & Cancer.Type & Subgroup & Type & Relapse.of.Other.Sample & Age & Gender\\\\\n",
       "  & <chr> & <chr> & <chr> & <chr> & <chr> & <dbl> & <chr>\\\\\n",
       "\\hline\n",
       "\t1 & H049-UV6K & ATRT & MYC & Primary & x &  NA & Male  \\\\\n",
       "\t2 & H049-0CWK & ATRT & MYC & Primary & x & 4.0 & Male  \\\\\n",
       "\t3 & H049-FG38 & ATRT & SHH & Primary & x & 1.0 & Female\\\\\n",
       "\t4 & H049-GP41 & ATRT & SHH & Primary & x & 1.0 & Male  \\\\\n",
       "\t5 & H049-GWNW & ATRT & SHH & Primary & x & 1.7 & Female\\\\\n",
       "\t6 & H049-JVCT & ATRT & SHH & Primary & x & 3.0 & Female\\\\\n",
       "\\end{tabular}\n"
      ],
      "text/markdown": [
       "\n",
       "A data.frame: 6 × 7\n",
       "\n",
       "| <!--/--> | SampleID &lt;chr&gt; | Cancer.Type &lt;chr&gt; | Subgroup &lt;chr&gt; | Type &lt;chr&gt; | Relapse.of.Other.Sample &lt;chr&gt; | Age &lt;dbl&gt; | Gender &lt;chr&gt; |\n",
       "|---|---|---|---|---|---|---|---|\n",
       "| 1 | H049-UV6K | ATRT | MYC | Primary | x |  NA | Male   |\n",
       "| 2 | H049-0CWK | ATRT | MYC | Primary | x | 4.0 | Male   |\n",
       "| 3 | H049-FG38 | ATRT | SHH | Primary | x | 1.0 | Female |\n",
       "| 4 | H049-GP41 | ATRT | SHH | Primary | x | 1.0 | Male   |\n",
       "| 5 | H049-GWNW | ATRT | SHH | Primary | x | 1.7 | Female |\n",
       "| 6 | H049-JVCT | ATRT | SHH | Primary | x | 3.0 | Female |\n",
       "\n"
      ],
      "text/plain": [
       "  SampleID  Cancer.Type Subgroup Type    Relapse.of.Other.Sample Age Gender\n",
       "1 H049-UV6K ATRT        MYC      Primary x                        NA Male  \n",
       "2 H049-0CWK ATRT        MYC      Primary x                       4.0 Male  \n",
       "3 H049-FG38 ATRT        SHH      Primary x                       1.0 Female\n",
       "4 H049-GP41 ATRT        SHH      Primary x                       1.0 Male  \n",
       "5 H049-GWNW ATRT        SHH      Primary x                       1.7 Female\n",
       "6 H049-JVCT ATRT        SHH      Primary x                       3.0 Female"
      ]
     },
     "metadata": {},
     "output_type": "display_data"
    }
   ],
   "source": [
    "head(DKFZ_manifest)"
   ]
  },
  {
   "cell_type": "code",
   "execution_count": 68,
   "metadata": {},
   "outputs": [],
   "source": [
    "DKFZ_survival <- read.csv(paste0(manifestpath,\"DKFZ_OS.csv\"), header = T, stringsAsFactors = F)"
   ]
  },
  {
   "cell_type": "code",
   "execution_count": 69,
   "metadata": {},
   "outputs": [
    {
     "data": {
      "text/plain": [
       "\n",
       "                                                    0 \n",
       "                       280                        167 \n",
       "                         1 R; primary tumor - 4602/10 \n",
       "                        63                          1 \n",
       "R; primary tumor - 6211/10 \n",
       "                         1 "
      ]
     },
     "metadata": {},
     "output_type": "display_data"
    }
   ],
   "source": [
    "table(DKFZ_survival$Recurrence)"
   ]
  },
  {
   "cell_type": "code",
   "execution_count": 70,
   "metadata": {},
   "outputs": [
    {
     "data": {
      "text/html": [
       "<table class=\"dataframe\">\n",
       "<caption>A data.frame: 6 × 6</caption>\n",
       "<thead>\n",
       "\t<tr><th></th><th scope=col>SampleID_ICGC</th><th scope=col>Location</th><th scope=col>Death</th><th scope=col>OS</th><th scope=col>Recurrence</th><th scope=col>PFS</th></tr>\n",
       "\t<tr><th></th><th scope=col>&lt;chr&gt;</th><th scope=col>&lt;chr&gt;</th><th scope=col>&lt;chr&gt;</th><th scope=col>&lt;dbl&gt;</th><th scope=col>&lt;chr&gt;</th><th scope=col>&lt;dbl&gt;</th></tr>\n",
       "</thead>\n",
       "<tbody>\n",
       "\t<tr><th scope=row>1</th><td>ICGC_PA127</td><td>Optic nerve </td><td>0</td><td>240</td><td>0</td><td>240</td></tr>\n",
       "\t<tr><th scope=row>2</th><td>ICGC_PA26 </td><td>Cerebellum  </td><td>0</td><td>206</td><td>1</td><td> 64</td></tr>\n",
       "\t<tr><th scope=row>3</th><td>ICGC_PA27 </td><td>Optic nerve </td><td>0</td><td>219</td><td>0</td><td>219</td></tr>\n",
       "\t<tr><th scope=row>4</th><td>ICGC_PA28 </td><td>Cerebellum  </td><td>0</td><td>  1</td><td>0</td><td>  1</td></tr>\n",
       "\t<tr><th scope=row>5</th><td>ICGC_PA29 </td><td>Hypothalamus</td><td>0</td><td>223</td><td>0</td><td>223</td></tr>\n",
       "\t<tr><th scope=row>6</th><td>ICGC_PA128</td><td>Cerebellum  </td><td>0</td><td>224</td><td>0</td><td>224</td></tr>\n",
       "</tbody>\n",
       "</table>\n"
      ],
      "text/latex": [
       "A data.frame: 6 × 6\n",
       "\\begin{tabular}{r|llllll}\n",
       "  & SampleID\\_ICGC & Location & Death & OS & Recurrence & PFS\\\\\n",
       "  & <chr> & <chr> & <chr> & <dbl> & <chr> & <dbl>\\\\\n",
       "\\hline\n",
       "\t1 & ICGC\\_PA127 & Optic nerve  & 0 & 240 & 0 & 240\\\\\n",
       "\t2 & ICGC\\_PA26  & Cerebellum   & 0 & 206 & 1 &  64\\\\\n",
       "\t3 & ICGC\\_PA27  & Optic nerve  & 0 & 219 & 0 & 219\\\\\n",
       "\t4 & ICGC\\_PA28  & Cerebellum   & 0 &   1 & 0 &   1\\\\\n",
       "\t5 & ICGC\\_PA29  & Hypothalamus & 0 & 223 & 0 & 223\\\\\n",
       "\t6 & ICGC\\_PA128 & Cerebellum   & 0 & 224 & 0 & 224\\\\\n",
       "\\end{tabular}\n"
      ],
      "text/markdown": [
       "\n",
       "A data.frame: 6 × 6\n",
       "\n",
       "| <!--/--> | SampleID_ICGC &lt;chr&gt; | Location &lt;chr&gt; | Death &lt;chr&gt; | OS &lt;dbl&gt; | Recurrence &lt;chr&gt; | PFS &lt;dbl&gt; |\n",
       "|---|---|---|---|---|---|---|\n",
       "| 1 | ICGC_PA127 | Optic nerve  | 0 | 240 | 0 | 240 |\n",
       "| 2 | ICGC_PA26  | Cerebellum   | 0 | 206 | 1 |  64 |\n",
       "| 3 | ICGC_PA27  | Optic nerve  | 0 | 219 | 0 | 219 |\n",
       "| 4 | ICGC_PA28  | Cerebellum   | 0 |   1 | 0 |   1 |\n",
       "| 5 | ICGC_PA29  | Hypothalamus | 0 | 223 | 0 | 223 |\n",
       "| 6 | ICGC_PA128 | Cerebellum   | 0 | 224 | 0 | 224 |\n",
       "\n"
      ],
      "text/plain": [
       "  SampleID_ICGC Location     Death OS  Recurrence PFS\n",
       "1 ICGC_PA127    Optic nerve  0     240 0          240\n",
       "2 ICGC_PA26     Cerebellum   0     206 1           64\n",
       "3 ICGC_PA27     Optic nerve  0     219 0          219\n",
       "4 ICGC_PA28     Cerebellum   0       1 0            1\n",
       "5 ICGC_PA29     Hypothalamus 0     223 0          223\n",
       "6 ICGC_PA128    Cerebellum   0     224 0          224"
      ]
     },
     "metadata": {},
     "output_type": "display_data"
    }
   ],
   "source": [
    "head(DKFZ_survival)"
   ]
  },
  {
   "cell_type": "code",
   "execution_count": 71,
   "metadata": {},
   "outputs": [],
   "source": [
    "colnames(DKFZ_survival)[colnames(DKFZ_survival) == \"SampleID_ICGC\"] <- \"SampleID\""
   ]
  },
  {
   "cell_type": "code",
   "execution_count": 72,
   "metadata": {},
   "outputs": [],
   "source": [
    "DKFZ_manifest <- merge(DKFZ_manifest, DKFZ_survival, by = \"SampleID\", all.x = T)"
   ]
  },
  {
   "cell_type": "code",
   "execution_count": 73,
   "metadata": {},
   "outputs": [
    {
     "data": {
      "text/html": [
       "<style>\n",
       ".list-inline {list-style: none; margin:0; padding: 0}\n",
       ".list-inline>li {display: inline-block}\n",
       ".list-inline>li:not(:last-child)::after {content: \"\\00b7\"; padding: 0 .5ex}\n",
       "</style>\n",
       "<ol class=list-inline><li>200</li><li>12</li></ol>\n"
      ],
      "text/latex": [
       "\\begin{enumerate*}\n",
       "\\item 200\n",
       "\\item 12\n",
       "\\end{enumerate*}\n"
      ],
      "text/markdown": [
       "1. 200\n",
       "2. 12\n",
       "\n",
       "\n"
      ],
      "text/plain": [
       "[1] 200  12"
      ]
     },
     "metadata": {},
     "output_type": "display_data"
    }
   ],
   "source": [
    "dim(DKFZ_manifest)"
   ]
  },
  {
   "cell_type": "code",
   "execution_count": 74,
   "metadata": {},
   "outputs": [],
   "source": [
    "DKFZ_manifest$Death[DKFZ_manifest$Death == \"\"] <- NA"
   ]
  },
  {
   "cell_type": "code",
   "execution_count": 75,
   "metadata": {},
   "outputs": [
    {
     "data": {
      "text/plain": [
       "\n",
       "    0  1 \n",
       "89 58 13 "
      ]
     },
     "metadata": {},
     "output_type": "display_data"
    }
   ],
   "source": [
    "table(DKFZ_manifest$Recurrence)"
   ]
  },
  {
   "cell_type": "markdown",
   "metadata": {},
   "source": [
    "Add columns to be consistent with other datasets"
   ]
  },
  {
   "cell_type": "code",
   "execution_count": 76,
   "metadata": {},
   "outputs": [],
   "source": [
    "DKFZ_manifest$case_id <- DKFZ_manifest$SampleID\n",
    "DKFZ_manifest$aliquot_id <- DKFZ_manifest$SampleID\n",
    "DKFZ_manifest$race <- NA\n",
    "DKFZ_manifest$ethnicity <- NA\n",
    "DKFZ_manifest$group <- \"DKFZ\"\n",
    "DKFZ_manifest$vital_status <- DKFZ_manifest$Death\n",
    "# Survival data is in months\n",
    "DKFZ_manifest$days_to_death <- DKFZ_manifest$OS * 30\n",
    "DKFZ_manifest$days_to_progress <- DKFZ_manifest$PFS * 30\n",
    "\n",
    "DKFZ_manifest$disease_type <- paste(DKFZ_manifest$Cancer.Type, DKFZ_manifest$Subgroup, sep = \"_\")\n",
    "DKFZ_manifest$primary_site <- DKFZ_manifest$Location"
   ]
  },
  {
   "cell_type": "code",
   "execution_count": 77,
   "metadata": {},
   "outputs": [],
   "source": [
    "DKFZ_manifest$recurrence <- DKFZ_manifest$Recurrence"
   ]
  },
  {
   "cell_type": "code",
   "execution_count": 78,
   "metadata": {},
   "outputs": [],
   "source": [
    "DKFZ_manifest$recurrence[DKFZ_manifest$recurrence == \"\"] <- NA"
   ]
  },
  {
   "cell_type": "code",
   "execution_count": 79,
   "metadata": {},
   "outputs": [
    {
     "data": {
      "text/plain": [
       "\n",
       " 0  1 \n",
       "58 13 "
      ]
     },
     "metadata": {},
     "output_type": "display_data"
    }
   ],
   "source": [
    "table(DKFZ_manifest$recurrence)"
   ]
  },
  {
   "cell_type": "code",
   "execution_count": 80,
   "metadata": {},
   "outputs": [],
   "source": [
    "colnames(DKFZ_manifest)[which(names(DKFZ_manifest) == \"SampleID\")] <- \"sample_id\"\n",
    "colnames(DKFZ_manifest)[which(names(DKFZ_manifest) == \"Cancer.Type\")] <- \"cohort\"\n",
    "colnames(DKFZ_manifest)[which(names(DKFZ_manifest) == \"Type\")] <- \"sample_type\"\n",
    "colnames(DKFZ_manifest)[which(names(DKFZ_manifest) == \"Age\")] <- \"age_at_diagnosis\"\n",
    "colnames(DKFZ_manifest)[which(names(DKFZ_manifest) == \"Gender\")] <- \"gender\""
   ]
  },
  {
   "cell_type": "code",
   "execution_count": 81,
   "metadata": {},
   "outputs": [],
   "source": [
    "DKFZ_manifest$Subgroup <- NULL\n",
    "DKFZ_manifest$Relapse.of.Other.Sample <- NULL"
   ]
  },
  {
   "cell_type": "code",
   "execution_count": 82,
   "metadata": {},
   "outputs": [],
   "source": [
    "DKFZ_manifest$cohort[grepl(\"HGG\", DKFZ_manifest$cohort)] <- \"pedHGG\"\n",
    "DKFZ_manifest$cohort[grepl(\"MB\", DKFZ_manifest$cohort)] <- \"MB\"\n",
    "DKFZ_manifest$cohort[grepl(\"ETMR\", DKFZ_manifest$cohort)] <- \"ET\""
   ]
  },
  {
   "cell_type": "code",
   "execution_count": 83,
   "metadata": {},
   "outputs": [
    {
     "data": {
      "text/html": [
       "<style>\n",
       ".list-inline {list-style: none; margin:0; padding: 0}\n",
       ".list-inline>li {display: inline-block}\n",
       ".list-inline>li:not(:last-child)::after {content: \"\\00b7\"; padding: 0 .5ex}\n",
       "</style>\n",
       "<ol class=list-inline><li>'HGGother_WT'</li><li>'HGGother_IDH'</li><li>'HGG_K27M_K27M'</li><li>'HGG_K27M_K27M'</li><li>'HGGother_IDH'</li><li>'HGG_K27M_K27M'</li><li>'HGG_K27M_K27M'</li><li>'HGGother_WT'</li><li>'HGGother_WT'</li><li>'HGGother_WT'</li><li>'HGGother_WT'</li><li>'HGGother_WT'</li><li>'HGGother_G34R'</li><li>'HGGother_WT'</li><li>'HGGother_WT'</li><li>'HGG_K27M_K27M'</li><li>'HGGother_WT'</li><li>'HGGother_WT'</li><li>'HGGother_WT'</li><li>'HGGother_WT'</li><li>'HGGother_IDH'</li><li>'HGGother_G34R'</li><li>'HGG_K27M_K27M'</li><li>'HGG_K27M_K27M'</li><li>'HGGother_IDH'</li></ol>\n"
      ],
      "text/latex": [
       "\\begin{enumerate*}\n",
       "\\item 'HGGother\\_WT'\n",
       "\\item 'HGGother\\_IDH'\n",
       "\\item 'HGG\\_K27M\\_K27M'\n",
       "\\item 'HGG\\_K27M\\_K27M'\n",
       "\\item 'HGGother\\_IDH'\n",
       "\\item 'HGG\\_K27M\\_K27M'\n",
       "\\item 'HGG\\_K27M\\_K27M'\n",
       "\\item 'HGGother\\_WT'\n",
       "\\item 'HGGother\\_WT'\n",
       "\\item 'HGGother\\_WT'\n",
       "\\item 'HGGother\\_WT'\n",
       "\\item 'HGGother\\_WT'\n",
       "\\item 'HGGother\\_G34R'\n",
       "\\item 'HGGother\\_WT'\n",
       "\\item 'HGGother\\_WT'\n",
       "\\item 'HGG\\_K27M\\_K27M'\n",
       "\\item 'HGGother\\_WT'\n",
       "\\item 'HGGother\\_WT'\n",
       "\\item 'HGGother\\_WT'\n",
       "\\item 'HGGother\\_WT'\n",
       "\\item 'HGGother\\_IDH'\n",
       "\\item 'HGGother\\_G34R'\n",
       "\\item 'HGG\\_K27M\\_K27M'\n",
       "\\item 'HGG\\_K27M\\_K27M'\n",
       "\\item 'HGGother\\_IDH'\n",
       "\\end{enumerate*}\n"
      ],
      "text/markdown": [
       "1. 'HGGother_WT'\n",
       "2. 'HGGother_IDH'\n",
       "3. 'HGG_K27M_K27M'\n",
       "4. 'HGG_K27M_K27M'\n",
       "5. 'HGGother_IDH'\n",
       "6. 'HGG_K27M_K27M'\n",
       "7. 'HGG_K27M_K27M'\n",
       "8. 'HGGother_WT'\n",
       "9. 'HGGother_WT'\n",
       "10. 'HGGother_WT'\n",
       "11. 'HGGother_WT'\n",
       "12. 'HGGother_WT'\n",
       "13. 'HGGother_G34R'\n",
       "14. 'HGGother_WT'\n",
       "15. 'HGGother_WT'\n",
       "16. 'HGG_K27M_K27M'\n",
       "17. 'HGGother_WT'\n",
       "18. 'HGGother_WT'\n",
       "19. 'HGGother_WT'\n",
       "20. 'HGGother_WT'\n",
       "21. 'HGGother_IDH'\n",
       "22. 'HGGother_G34R'\n",
       "23. 'HGG_K27M_K27M'\n",
       "24. 'HGG_K27M_K27M'\n",
       "25. 'HGGother_IDH'\n",
       "\n",
       "\n"
      ],
      "text/plain": [
       " [1] \"HGGother_WT\"   \"HGGother_IDH\"  \"HGG_K27M_K27M\" \"HGG_K27M_K27M\"\n",
       " [5] \"HGGother_IDH\"  \"HGG_K27M_K27M\" \"HGG_K27M_K27M\" \"HGGother_WT\"  \n",
       " [9] \"HGGother_WT\"   \"HGGother_WT\"   \"HGGother_WT\"   \"HGGother_WT\"  \n",
       "[13] \"HGGother_G34R\" \"HGGother_WT\"   \"HGGother_WT\"   \"HGG_K27M_K27M\"\n",
       "[17] \"HGGother_WT\"   \"HGGother_WT\"   \"HGGother_WT\"   \"HGGother_WT\"  \n",
       "[21] \"HGGother_IDH\"  \"HGGother_G34R\" \"HGG_K27M_K27M\" \"HGG_K27M_K27M\"\n",
       "[25] \"HGGother_IDH\" "
      ]
     },
     "metadata": {},
     "output_type": "display_data"
    }
   ],
   "source": [
    "DKFZ_manifest$disease_type[ DKFZ_manifest$cohort == \"pedHGG\"]"
   ]
  },
  {
   "cell_type": "markdown",
   "metadata": {},
   "source": [
    "Function to add group and cohort variables for DKFZ estimate output. Merging with file with the DKFZ_Manifest just ensures only analyzed samples are included in master file"
   ]
  },
  {
   "cell_type": "code",
   "execution_count": 84,
   "metadata": {},
   "outputs": [],
   "source": [
    "groupcohortfx <- function(inpath,estimate_outputname_DKFZ, group, cohort){\n",
    "    estimate_output <- read.table(paste(inpath, estimate_outputname_DKFZ, sep = \"\"), \n",
    "                              sep = \"\\t\", header = TRUE)\n",
    "    estimate_output$SampleID <- as.character(estimate_output$SampleID)\n",
    "    estimate_output$group <- group\n",
    "    estimate_output$cohort <- cohort\n",
    "    return(estimate_output)\n",
    "}"
   ]
  },
  {
   "cell_type": "code",
   "execution_count": 85,
   "metadata": {},
   "outputs": [],
   "source": [
    "ATRT_estimate <- groupcohortfx(\"/Users/anabbi/OneDrive - UHN/Documents/ImmPedCan/Finaldata/ESTIMATE/\",\n",
    "                              \"ICGC_ATRTs.normalizedTPMs_perGencodeV26Gene.sleuth.estimateOutput.txt\",\n",
    "                              \"DKFZ\", \"ATRT\")\n",
    "ET_estimate <- groupcohortfx(\"/Users/anabbi/OneDrive - UHN/Documents/ImmPedCan/Finaldata/ESTIMATE/\",\n",
    "                              \"ICGC_ETs.normalizedTPMs_perGencodeV26Gene.sleuth.estimateOutput.txt\",\n",
    "                              \"DKFZ\", \"ET\")\n",
    "pedGBM_estimate <- groupcohortfx(\"/Users/anabbi/OneDrive - UHN/Documents/ImmPedCan/Finaldata/ESTIMATE/\",\n",
    "                              \"ICGC_GBMs.normalizedTPMs_perGencodeV26Gene.sleuth.estimateOutput.txt\",\n",
    "                              \"DKFZ\", \"pedGBM\")\n",
    "PA_estimate <- groupcohortfx(\"/Users/anabbi/OneDrive - UHN/Documents/ImmPedCan/Finaldata/ESTIMATE/\",\n",
    "                              \"ICGC_PAs.normalizedTPMs_perGencodeV26Gene.sleuth.estimateOutput.txt\",\n",
    "                              \"DKFZ\", \"PA\")\n",
    "MB_estimate <- groupcohortfx(\"/Users/anabbi/OneDrive - UHN/Documents/ImmPedCan/Finaldata/ESTIMATE/\",\n",
    "                              \"ICGC_MBs.normalizedTPMs_perGencodeV26Gene.sleuth.estimateOutput.txt\",\n",
    "                              \"DKFZ\", \"MB\")"
   ]
  },
  {
   "cell_type": "code",
   "execution_count": 86,
   "metadata": {},
   "outputs": [],
   "source": [
    "DKFZ_estimate <- rbind(PA_estimate,ET_estimate,\n",
    "                      pedGBM_estimate,ATRT_estimate,\n",
    "                      MB_estimate)"
   ]
  },
  {
   "cell_type": "code",
   "execution_count": 87,
   "metadata": {},
   "outputs": [],
   "source": [
    "colnames(DKFZ_estimate)[colnames(DKFZ_estimate) == \"SampleID\"] <- \"name\""
   ]
  },
  {
   "cell_type": "code",
   "execution_count": 88,
   "metadata": {},
   "outputs": [],
   "source": [
    "DKFZ_estimate$name <- gsub(\"[.]\", \"-\", DKFZ_estimate$name)"
   ]
  },
  {
   "cell_type": "code",
   "execution_count": 89,
   "metadata": {},
   "outputs": [],
   "source": [
    "DKFZ_estimate$sample_id <- DKFZ_estimate$name"
   ]
  },
  {
   "cell_type": "code",
   "execution_count": 90,
   "metadata": {},
   "outputs": [],
   "source": [
    "DKFZ_manifest_files <- merge(DKFZ_manifest,DKFZ_estimate[,c(\"name\",\"sample_id\")], by = \"sample_id\")"
   ]
  },
  {
   "cell_type": "code",
   "execution_count": 91,
   "metadata": {
    "scrolled": true
   },
   "outputs": [
    {
     "data": {
      "text/html": [
       "'ICGC_MB168'"
      ],
      "text/latex": [
       "'ICGC\\_MB168'"
      ],
      "text/markdown": [
       "'ICGC_MB168'"
      ],
      "text/plain": [
       "[1] \"ICGC_MB168\""
      ]
     },
     "metadata": {},
     "output_type": "display_data"
    }
   ],
   "source": [
    "DKFZ_manifest$sample_id[!DKFZ_manifest$sample_id %in% DKFZ_manifest_files$sample_id]"
   ]
  },
  {
   "cell_type": "markdown",
   "metadata": {},
   "source": [
    "The case above was not included in estimate analysis"
   ]
  },
  {
   "cell_type": "markdown",
   "metadata": {},
   "source": [
    "## Bind all!"
   ]
  },
  {
   "cell_type": "code",
   "execution_count": 92,
   "metadata": {},
   "outputs": [],
   "source": [
    "mycolumns <- \n",
    "c(\"name\", \"case_id\", \"sample_id\", \"aliquot_id\", \"gender\",\n",
    "  \"ethnicity\", \"race\",\"age_at_diagnosis\", \"vital_status\",\n",
    "  \"days_to_death\",\"days_to_progress\", \"recurrence\",\n",
    "  \"disease_type\", \"primary_site\", \"group\",\n",
    "  \"cohort\", \"sample_type\")"
   ]
  },
  {
   "cell_type": "code",
   "execution_count": 93,
   "metadata": {},
   "outputs": [],
   "source": [
    "IPD_metadata <- rbind(TARGET_RNA_manifest[,mycolumns],\n",
    "                      TCGA_manifest[,mycolumns],\n",
    "                      CBTTC_metadata[,mycolumns],\n",
    "                      DKFZ_manifest_files[,mycolumns])"
   ]
  },
  {
   "cell_type": "code",
   "execution_count": 94,
   "metadata": {},
   "outputs": [
    {
     "data": {
      "text/html": [
       "<table class=\"dataframe\">\n",
       "<caption>A data.frame: 166 × 17</caption>\n",
       "<thead>\n",
       "\t<tr><th></th><th scope=col>name</th><th scope=col>case_id</th><th scope=col>sample_id</th><th scope=col>aliquot_id</th><th scope=col>gender</th><th scope=col>ethnicity</th><th scope=col>race</th><th scope=col>age_at_diagnosis</th><th scope=col>vital_status</th><th scope=col>days_to_death</th><th scope=col>days_to_progress</th><th scope=col>recurrence</th><th scope=col>disease_type</th><th scope=col>primary_site</th><th scope=col>group</th><th scope=col>cohort</th><th scope=col>sample_type</th></tr>\n",
       "\t<tr><th></th><th scope=col>&lt;chr&gt;</th><th scope=col>&lt;chr&gt;</th><th scope=col>&lt;chr&gt;</th><th scope=col>&lt;chr&gt;</th><th scope=col>&lt;chr&gt;</th><th scope=col>&lt;chr&gt;</th><th scope=col>&lt;chr&gt;</th><th scope=col>&lt;dbl&gt;</th><th scope=col>&lt;chr&gt;</th><th scope=col>&lt;dbl&gt;</th><th scope=col>&lt;dbl&gt;</th><th scope=col>&lt;chr&gt;</th><th scope=col>&lt;chr&gt;</th><th scope=col>&lt;chr&gt;</th><th scope=col>&lt;chr&gt;</th><th scope=col>&lt;chr&gt;</th><th scope=col>&lt;chr&gt;</th></tr>\n",
       "</thead>\n",
       "<tbody>\n",
       "\t<tr><th scope=row>79</th><td>4638324b-b8e5-4545-8b7b-e8d7d7fdd138.bam               </td><td>TARGET-30-PATYIL</td><td>TARGET-30-PATYIL-01A</td><td>TARGET-30-PATYIL-01A-01R</td><td>female</td><td>not hispanic or latino</td><td>white                    </td><td> 0</td><td>dead </td><td>  NA</td><td> NA</td><td>NA</td><td>Neuroblastoma                                   </td><td>Nervous System                    </td><td>TARGET</td><td>NBL   </td><td>Primary Tumor    </td></tr>\n",
       "\t<tr><th scope=row>115</th><td>692a3229-af33-4136-bc6e-a4b22f016cde.bam               </td><td>TARGET-30-PALBFW</td><td>TARGET-30-PALBFW-01A</td><td>TARGET-30-PALBFW-01A-01R</td><td>male  </td><td>not hispanic or latino</td><td>white                    </td><td> 2</td><td>dead </td><td>3264</td><td>193</td><td>NA</td><td>Neuroblastoma                                   </td><td>Adrenal gland                     </td><td>TARGET</td><td>NBL   </td><td>Primary Tumor    </td></tr>\n",
       "\t<tr><th scope=row>136</th><td>7cccad17-8596-4032-9433-e293f2044d79.bam               </td><td>TARGET-30-PARBAJ</td><td>TARGET-30-PARBAJ-01A</td><td>TARGET-30-PARBAJ-01A-01R</td><td>male  </td><td>not hispanic or latino</td><td>white                    </td><td> 0</td><td>alive</td><td>  NA</td><td> NA</td><td>NA</td><td>Neuroblastoma                                   </td><td>Nervous System                    </td><td>TARGET</td><td>NBL   </td><td>Primary Tumor    </td></tr>\n",
       "\t<tr><th scope=row>142</th><td>81988869-de07-4b87-ba00-247b93f58732.bam               </td><td>TARGET-30-PASNPG</td><td>TARGET-30-PASNPG-02A</td><td>TARGET-30-PASNPG-02A-01R</td><td>female</td><td>not hispanic or latino</td><td>black or african american</td><td> 0</td><td>alive</td><td>  NA</td><td> NA</td><td>NA</td><td>Neuroblastoma                                   </td><td>Nervous System                    </td><td>TARGET</td><td>NBL   </td><td>Recurrent Tumor  </td></tr>\n",
       "\t<tr><th scope=row>232</th><td>c7ac5a3e-b090-4882-9dca-94f55e3f7fa4.bam               </td><td>TARGET-30-PASGAP</td><td>TARGET-30-PASGAP-02A</td><td>TARGET-30-PASGAP-02A-01R</td><td>male  </td><td>not hispanic or latino</td><td>black or african american</td><td> 3</td><td>dead </td><td>  NA</td><td> NA</td><td>NA</td><td>Neuroblastoma                                   </td><td>Nervous System                    </td><td>TARGET</td><td>NBL   </td><td>Recurrent Tumor  </td></tr>\n",
       "\t<tr><th scope=row>255</th><td>df7a35a0-dc6a-4801-a962-be2e171eb773.bam               </td><td>TARGET-30-PAUDDK</td><td>TARGET-30-PAUDDK-01A</td><td>TARGET-30-PAUDDK-01A-01R</td><td>male  </td><td>not hispanic or latino</td><td>black or african american</td><td> 0</td><td>alive</td><td>  NA</td><td> NA</td><td>NA</td><td>Neuroblastoma                                   </td><td>Nervous System                    </td><td>TARGET</td><td>NBL   </td><td>Primary Tumor    </td></tr>\n",
       "\t<tr><th scope=row>266</th><td>e99cf13e-9bdf-402d-9ec4-a8bf771543a5.bam               </td><td>TARGET-30-PARHAM</td><td>TARGET-30-PARHAM-01A</td><td>TARGET-30-PARHAM-01A-01R</td><td>female</td><td>not hispanic or latino</td><td>white                    </td><td> 0</td><td>dead </td><td>  NA</td><td> NA</td><td>NA</td><td>Neuroblastoma                                   </td><td>Nervous System                    </td><td>TARGET</td><td>NBL   </td><td>Primary Tumor    </td></tr>\n",
       "\t<tr><th scope=row>283</th><td>f7541bf7-73bc-4163-af01-3fea29027a16.bam               </td><td>TARGET-30-PAPHPE</td><td>TARGET-30-PAPHPE-01A</td><td>TARGET-30-PAPHPE-01A-01R</td><td>male  </td><td>not hispanic or latino</td><td>black or african american</td><td> 2</td><td>dead </td><td>  NA</td><td> NA</td><td>NA</td><td>NA                                              </td><td>NA                                </td><td>TARGET</td><td>NBL   </td><td>Primary Tumor    </td></tr>\n",
       "\t<tr><th scope=row>285</th><td>f99e2b20-96d7-49f3-bdd2-7a1cf2fa6208.bam               </td><td>TARGET-30-PASNZU</td><td>TARGET-30-PASNZU-01A</td><td>TARGET-30-PASNZU-01A-01R</td><td>male  </td><td>not hispanic or latino</td><td>black or african american</td><td> 3</td><td>dead </td><td>  NA</td><td> NA</td><td>NA</td><td>NA                                              </td><td>NA                                </td><td>TARGET</td><td>NBL   </td><td>Primary Tumor    </td></tr>\n",
       "\t<tr><th scope=row>286</th><td>f9c9806d-716e-405d-babf-1f2142b449df.bam               </td><td>TARGET-30-PANUIF</td><td>TARGET-30-PANUIF-01A</td><td>TARGET-30-PANUIF-01A-01R</td><td>female</td><td>not hispanic or latino</td><td>white                    </td><td> 6</td><td>alive</td><td>  NA</td><td> NA</td><td>NA</td><td>NA                                              </td><td>NA                                </td><td>TARGET</td><td>NBL   </td><td>Primary Tumor    </td></tr>\n",
       "\t<tr><th scope=row>287</th><td>f9ea6862-a705-4bd5-af11-16a683364b25.bam               </td><td>TARGET-30-PAPICY</td><td>TARGET-30-PAPICY-01A</td><td>TARGET-30-PAPICY-01A-01R</td><td>female</td><td>not hispanic or latino</td><td>white                    </td><td> 0</td><td>alive</td><td>  NA</td><td> NA</td><td>NA</td><td>NA                                              </td><td>NA                                </td><td>TARGET</td><td>NBL   </td><td>Primary Tumor    </td></tr>\n",
       "\t<tr><th scope=row>288</th><td>fa2e0b15-1ed1-462c-991f-2e279493dba1.bam               </td><td>TARGET-30-PANJLH</td><td>TARGET-30-PANJLH-01A</td><td>TARGET-30-PANJLH-01A-01R</td><td>male  </td><td>not hispanic or latino</td><td>white                    </td><td> 2</td><td>dead </td><td>  NA</td><td> NA</td><td>NA</td><td>NA                                              </td><td>NA                                </td><td>TARGET</td><td>NBL   </td><td>Primary Tumor    </td></tr>\n",
       "\t<tr><th scope=row>289</th><td>fab58ae3-1afd-40eb-a7e3-fd6236840671.bam               </td><td>TARGET-30-PANKFE</td><td>TARGET-30-PANKFE-01A</td><td>TARGET-30-PANKFE-01A-01R</td><td>female</td><td>not hispanic or latino</td><td>white                    </td><td> 3</td><td>alive</td><td>  NA</td><td> NA</td><td>NA</td><td>NA                                              </td><td>NA                                </td><td>TARGET</td><td>NBL   </td><td>Primary Tumor    </td></tr>\n",
       "\t<tr><th scope=row>2112</th><td>ab09b600-1ac8-499d-b438-57f70c1a0271.rsem.genes.results</td><td>C410451         </td><td>7316-1079           </td><td>731888                  </td><td>Male  </td><td>Reported Unknown      </td><td>Other                    </td><td>13</td><td>NA   </td><td>   0</td><td>  0</td><td>NA</td><td>Ewings Sarcoma                                  </td><td>Spine NOS                         </td><td>CBTTC </td><td>Other </td><td>Initial CNS Tumor</td></tr>\n",
       "\t<tr><th scope=row>22</th><td>6256cd22-6a3e-4866-92c8-c0bcafa5103b.rsem.genes.results</td><td>C410820         </td><td>7316-1080           </td><td>731870                  </td><td>Female</td><td>Reported Unknown      </td><td>Other                    </td><td>19</td><td>NA   </td><td>   0</td><td>  0</td><td>NA</td><td>Adenoma                                         </td><td>Suprasellar/Hypothalamic/Pituitary</td><td>CBTTC </td><td>Other </td><td>Initial CNS Tumor</td></tr>\n",
       "\t<tr><th scope=row>2311</th><td>1da1eb0c-f54d-4bce-8f02-55899fc8761f.rsem.genes.results</td><td>C410697         </td><td>7316-1081           </td><td>731897                  </td><td>Male  </td><td>Reported Unknown      </td><td>Other                    </td><td> 5</td><td>NA   </td><td>   0</td><td>  0</td><td>NA</td><td>Low-grade glioma/astrocytoma (WHO grade I/II)   </td><td>Other locations NOS               </td><td>CBTTC </td><td>pedLGG</td><td>Initial CNS Tumor</td></tr>\n",
       "\t<tr><th scope=row>2462</th><td>f22d1fdf-64c6-456c-89e4-95a741ae455e.rsem.genes.results</td><td>C409467         </td><td>7316-1082           </td><td>728285                  </td><td>Female</td><td>Reported Unknown      </td><td>Other                    </td><td>13</td><td>NA   </td><td>   0</td><td>  0</td><td>NA</td><td>Craniopharyngioma                               </td><td>Suprasellar/Hypothalamic/Pituitary</td><td>CBTTC </td><td>CPH   </td><td>Initial CNS Tumor</td></tr>\n",
       "\t<tr><th scope=row>25101</th><td>2f9ae1ba-fa5d-43f0-8ffb-4dc01fd80ec6.rsem.genes.results</td><td>C409836         </td><td>7316-1083           </td><td>588302                  </td><td>Male  </td><td>Reported Unknown      </td><td>Other                    </td><td> 5</td><td>NA   </td><td>   0</td><td>  0</td><td>NA</td><td>Medulloblastoma                                 </td><td>Cerebellum/Posterior Fossa        </td><td>CBTTC </td><td>MB    </td><td>Initial CNS Tumor</td></tr>\n",
       "\t<tr><th scope=row>26100</th><td>c8554fc6-c569-4056-a92c-358a9a6ec4a0.rsem.genes.results</td><td>C409959         </td><td>7316-1084           </td><td>731871                  </td><td>Female</td><td>Reported Unknown      </td><td>Other                    </td><td>21</td><td>NA   </td><td>   0</td><td>  0</td><td>NA</td><td>Low-grade glioma/astrocytoma (WHO grade I/II)   </td><td>Other locations NOS               </td><td>CBTTC </td><td>pedLGG</td><td>Initial CNS Tumor</td></tr>\n",
       "\t<tr><th scope=row>3510</th><td>4be60a66-9a75-4821-bffe-55ed7abbe693.rsem.genes.results</td><td>C408975         </td><td>7316-1094           </td><td>731855                  </td><td>Male  </td><td>Reported Unknown      </td><td>Other                    </td><td>19</td><td>NA   </td><td>   0</td><td>  0</td><td>NA</td><td>Schwannoma                                      </td><td>Cranial Nerves NOS                </td><td>CBTTC </td><td>SCHN  </td><td>Initial CNS Tumor</td></tr>\n",
       "\t<tr><th scope=row>36100</th><td>24574fa8-71db-45a9-b364-095caa1689f7.rsem.genes.results</td><td>C409098         </td><td>7316-1095           </td><td>588303                  </td><td>Male  </td><td>Reported Unknown      </td><td>Other                    </td><td> 1</td><td>NA   </td><td>   0</td><td>  0</td><td>NA</td><td>Low-grade glioma/astrocytoma (WHO grade I/II)   </td><td>Cerebellum/Posterior Fossa        </td><td>CBTTC </td><td>pedLGG</td><td>Initial CNS Tumor</td></tr>\n",
       "\t<tr><th scope=row>37100</th><td>3433f6b8-55f8-44e4-8b19-5320d4db7d46.rsem.genes.results</td><td>C410205         </td><td>7316-1096           </td><td>731908                  </td><td>Female</td><td>Reported Unknown      </td><td>Other                    </td><td>16</td><td>NA   </td><td>   0</td><td>  0</td><td>NA</td><td>Adenoma                                         </td><td>Suprasellar/Hypothalamic/Pituitary</td><td>CBTTC </td><td>Other </td><td>Initial CNS Tumor</td></tr>\n",
       "\t<tr><th scope=row>1193</th><td>8884f51d-bb09-4e34-a0c6-da7ad9a2b6fd.rsem.genes.results</td><td>C409590         </td><td>7316-1654           </td><td>573145                  </td><td>Male  </td><td>Reported Unknown      </td><td>Other                    </td><td> 2</td><td>NA   </td><td>   0</td><td>  0</td><td>NA</td><td>Choroid plexus papilloma                        </td><td>Ventricles                        </td><td>CBTTC </td><td>Other </td><td>Initial CNS Tumor</td></tr>\n",
       "\t<tr><th scope=row>1202</th><td>0235d2e9-4cb3-490c-a395-8149378ba52c.rsem.genes.results</td><td>C411066         </td><td>7316-1655           </td><td>588454                  </td><td>Female</td><td>Reported Unknown      </td><td>Other                    </td><td> 9</td><td>NA   </td><td>   0</td><td>  0</td><td>NA</td><td>Medulloblastoma                                 </td><td>Cerebellum/Posterior Fossa        </td><td>CBTTC </td><td>MB    </td><td>Initial CNS Tumor</td></tr>\n",
       "\t<tr><th scope=row>1218</th><td>9b33bded-0e99-4cc0-be28-3891f64d4ea1.rsem.genes.results</td><td>C410082         </td><td>7316-1656           </td><td>711676                  </td><td>Male  </td><td>Reported Unknown      </td><td>Other                    </td><td> 9</td><td>NA   </td><td>   0</td><td>  0</td><td>NA</td><td>High-grade glioma/astrocytoma (WHO grade III/IV)</td><td>Temporal Lobe                     </td><td>CBTTC </td><td>pedHGG</td><td>Recurrence       </td></tr>\n",
       "\t<tr><th scope=row>1223</th><td>1571bc2c-ddfd-496e-a80b-0b93d280e4d1.rsem.genes.results</td><td>C409344         </td><td>7316-1658           </td><td>601589                  </td><td>Female</td><td>Reported Unknown      </td><td>Other                    </td><td> 1</td><td>NA   </td><td>   0</td><td>  0</td><td>NA</td><td>Low-grade glioma/astrocytoma (WHO grade I/II)   </td><td>Basal Ganglia                     </td><td>CBTTC </td><td>pedLGG</td><td>Initial CNS Tumor</td></tr>\n",
       "\t<tr><th scope=row>14011</th><td>c77f1487-8ad1-494b-848e-683bb6f29d65.rsem.genes.results</td><td>C409221         </td><td>7316-1680           </td><td>588455                  </td><td>Female</td><td>Reported Unknown      </td><td>Other                    </td><td> 2</td><td>NA   </td><td>   0</td><td>  0</td><td>NA</td><td>Medulloblastoma                                 </td><td>Cerebellum/Posterior Fossa        </td><td>CBTTC </td><td>MB    </td><td>Initial CNS Tumor</td></tr>\n",
       "\t<tr><th scope=row>14211</th><td>e299730f-c844-4e9d-9f16-0fd2dc7f5967.rsem.genes.results</td><td>C410943         </td><td>7316-1683           </td><td>588456                  </td><td>Female</td><td>Reported Unknown      </td><td>Other                    </td><td> 7</td><td>NA   </td><td>   0</td><td>  0</td><td>NA</td><td>Low-grade glioma/astrocytoma (WHO grade I/II)   </td><td>Cerebellum/Posterior Fossa        </td><td>CBTTC </td><td>pedLGG</td><td>Initial CNS Tumor</td></tr>\n",
       "\t<tr><th scope=row>2342</th><td>d9b2ad35-b03f-46a6-95e0-f8e7308b235d.rsem.genes.results</td><td>C458298         </td><td>7316-1940           </td><td>588346                  </td><td>Male  </td><td>Reported Unknown      </td><td>Other                    </td><td> 3</td><td>NA   </td><td>   0</td><td>  0</td><td>NA</td><td>Ganglioglioma                                   </td><td>Cerebellum/Posterior Fossa        </td><td>CBTTC </td><td>GGM   </td><td>Initial CNS Tumor</td></tr>\n",
       "\t<tr><th scope=row>2351</th><td>3c8aed9a-a16b-47fa-a47a-4947551df984.rsem.genes.results</td><td>C458052         </td><td>7316-1941           </td><td>588347                  </td><td>Female</td><td>Reported Unknown      </td><td>Other                    </td><td>11</td><td>NA   </td><td>   0</td><td>  0</td><td>NA</td><td>Dysembryoplastic neuroepithelial tumor (DNET)   </td><td>Temporal Lobe                     </td><td>CBTTC </td><td>DNET  </td><td>Progressive      </td></tr>\n",
       "\t<tr><th scope=row>⋮</th><td>⋮</td><td>⋮</td><td>⋮</td><td>⋮</td><td>⋮</td><td>⋮</td><td>⋮</td><td>⋮</td><td>⋮</td><td>⋮</td><td>⋮</td><td>⋮</td><td>⋮</td><td>⋮</td><td>⋮</td><td>⋮</td><td>⋮</td></tr>\n",
       "\t<tr><th scope=row>1246</th><td>ICGC_MB299</td><td>ICGC_MB299</td><td>ICGC_MB299</td><td>ICGC_MB299</td><td>Male  </td><td>NA</td><td>NA</td><td> 8.0</td><td>NA</td><td>  NA</td><td>  NA</td><td>NA</td><td>MB_Group4_Group4</td><td>NA</td><td>DKFZ</td><td>MB</td><td>Primary</td></tr>\n",
       "\t<tr><th scope=row>1255</th><td>ICGC_MB302</td><td>ICGC_MB302</td><td>ICGC_MB302</td><td>ICGC_MB302</td><td>Female</td><td>NA</td><td>NA</td><td>16.0</td><td>NA</td><td>  NA</td><td>  NA</td><td>NA</td><td>MB_SHH_SHH      </td><td>NA</td><td>DKFZ</td><td>MB</td><td>Primary</td></tr>\n",
       "\t<tr><th scope=row>1265</th><td>ICGC_MB303</td><td>ICGC_MB303</td><td>ICGC_MB303</td><td>ICGC_MB303</td><td>Male  </td><td>NA</td><td>NA</td><td> 9.0</td><td>NA</td><td>  NA</td><td>  NA</td><td>NA</td><td>MB_Group4_Group4</td><td>NA</td><td>DKFZ</td><td>MB</td><td>Primary</td></tr>\n",
       "\t<tr><th scope=row>1273</th><td>ICGC_MB304</td><td>ICGC_MB304</td><td>ICGC_MB304</td><td>ICGC_MB304</td><td>Male  </td><td>NA</td><td>NA</td><td> 8.0</td><td>NA</td><td>  NA</td><td>  NA</td><td>NA</td><td>MB_Group4_Group4</td><td>NA</td><td>DKFZ</td><td>MB</td><td>Primary</td></tr>\n",
       "\t<tr><th scope=row>1287</th><td>ICGC_MB31 </td><td>ICGC_MB31 </td><td>ICGC_MB31 </td><td>ICGC_MB31 </td><td>Female</td><td>NA</td><td>NA</td><td>14.0</td><td>0 </td><td>1890</td><td>1890</td><td>NA</td><td>MB_WNT_WNT      </td><td>  </td><td>DKFZ</td><td>MB</td><td>Primary</td></tr>\n",
       "\t<tr><th scope=row>12911</th><td>ICGC_MB34 </td><td>ICGC_MB34 </td><td>ICGC_MB34 </td><td>ICGC_MB34 </td><td>Female</td><td>NA</td><td>NA</td><td>13.0</td><td>0 </td><td>1080</td><td> 750</td><td>NA</td><td>MB_SHH_SHH      </td><td>  </td><td>DKFZ</td><td>MB</td><td>Primary</td></tr>\n",
       "\t<tr><th scope=row>13011</th><td>ICGC_MB39 </td><td>ICGC_MB39 </td><td>ICGC_MB39 </td><td>ICGC_MB39 </td><td>Male  </td><td>NA</td><td>NA</td><td> 4.0</td><td>0 </td><td> 840</td><td> 840</td><td>NA</td><td>MB_Group3_Group3</td><td>  </td><td>DKFZ</td><td>MB</td><td>Primary</td></tr>\n",
       "\t<tr><th scope=row>13112</th><td>ICGC_MB40 </td><td>ICGC_MB40 </td><td>ICGC_MB40 </td><td>ICGC_MB40 </td><td>Male  </td><td>NA</td><td>NA</td><td> 3.0</td><td>0 </td><td> 990</td><td> 990</td><td>NA</td><td>MB_Group4_Group4</td><td>  </td><td>DKFZ</td><td>MB</td><td>Primary</td></tr>\n",
       "\t<tr><th scope=row>13212</th><td>ICGC_MB53 </td><td>ICGC_MB53 </td><td>ICGC_MB53 </td><td>ICGC_MB53 </td><td>Male  </td><td>NA</td><td>NA</td><td>20.0</td><td>0 </td><td>1350</td><td>1350</td><td>NA</td><td>MB_SHH_SHH      </td><td>  </td><td>DKFZ</td><td>MB</td><td>Primary</td></tr>\n",
       "\t<tr><th scope=row>13312</th><td>ICGC_MB57 </td><td>ICGC_MB57 </td><td>ICGC_MB57 </td><td>ICGC_MB57 </td><td>Female</td><td>NA</td><td>NA</td><td>23.0</td><td>0 </td><td> 720</td><td> 720</td><td>NA</td><td>MB_Group4_Group4</td><td>  </td><td>DKFZ</td><td>MB</td><td>Primary</td></tr>\n",
       "\t<tr><th scope=row>13412</th><td>ICGC_MB58 </td><td>ICGC_MB58 </td><td>ICGC_MB58 </td><td>ICGC_MB58 </td><td>Male  </td><td>NA</td><td>NA</td><td>19.0</td><td>0 </td><td>1380</td><td>1020</td><td>NA</td><td>MB_Group4_Group4</td><td>  </td><td>DKFZ</td><td>MB</td><td>Primary</td></tr>\n",
       "\t<tr><th scope=row>13511</th><td>ICGC_MB60 </td><td>ICGC_MB60 </td><td>ICGC_MB60 </td><td>ICGC_MB60 </td><td>Male  </td><td>NA</td><td>NA</td><td>23.0</td><td>0 </td><td> 540</td><td> 540</td><td>NA</td><td>MB_SHH_SHH      </td><td>  </td><td>DKFZ</td><td>MB</td><td>Primary</td></tr>\n",
       "\t<tr><th scope=row>13612</th><td>ICGC_MB64 </td><td>ICGC_MB64 </td><td>ICGC_MB64 </td><td>ICGC_MB64 </td><td>Male  </td><td>NA</td><td>NA</td><td>18.0</td><td>0 </td><td> 420</td><td> 420</td><td>NA</td><td>MB_Group4_Group4</td><td>  </td><td>DKFZ</td><td>MB</td><td>Primary</td></tr>\n",
       "\t<tr><th scope=row>13712</th><td>ICGC_MB65 </td><td>ICGC_MB65 </td><td>ICGC_MB65 </td><td>ICGC_MB65 </td><td>Male  </td><td>NA</td><td>NA</td><td>18.0</td><td>0 </td><td> 420</td><td> 420</td><td>NA</td><td>MB_Group4_Group4</td><td>  </td><td>DKFZ</td><td>MB</td><td>Primary</td></tr>\n",
       "\t<tr><th scope=row>13811</th><td>ICGC_MB68 </td><td>ICGC_MB68 </td><td>ICGC_MB68 </td><td>ICGC_MB68 </td><td>Female</td><td>NA</td><td>NA</td><td>22.0</td><td>0 </td><td> 720</td><td> 720</td><td>NA</td><td>MB_SHH_SHH      </td><td>  </td><td>DKFZ</td><td>MB</td><td>Primary</td></tr>\n",
       "\t<tr><th scope=row>13911</th><td>ICGC_MB71 </td><td>ICGC_MB71 </td><td>ICGC_MB71 </td><td>ICGC_MB71 </td><td>Male  </td><td>NA</td><td>NA</td><td>20.0</td><td>0 </td><td>1320</td><td> 900</td><td>NA</td><td>MB_Group4_Group4</td><td>  </td><td>DKFZ</td><td>MB</td><td>Primary</td></tr>\n",
       "\t<tr><th scope=row>14012</th><td>ICGC_MB83 </td><td>ICGC_MB83 </td><td>ICGC_MB83 </td><td>ICGC_MB83 </td><td>Female</td><td>NA</td><td>NA</td><td>14.0</td><td>0 </td><td> 720</td><td> 720</td><td>NA</td><td>MB_Group4_Group4</td><td>  </td><td>DKFZ</td><td>MB</td><td>Primary</td></tr>\n",
       "\t<tr><th scope=row>14111</th><td>ICGC_MB84 </td><td>ICGC_MB84 </td><td>ICGC_MB84 </td><td>ICGC_MB84 </td><td>Male  </td><td>NA</td><td>NA</td><td>12.0</td><td>0 </td><td> 810</td><td> 810</td><td>NA</td><td>MB_Group4_Group4</td><td>  </td><td>DKFZ</td><td>MB</td><td>Primary</td></tr>\n",
       "\t<tr><th scope=row>14212</th><td>ICGC_MB85 </td><td>ICGC_MB85 </td><td>ICGC_MB85 </td><td>ICGC_MB85 </td><td>Female</td><td>NA</td><td>NA</td><td> 5.0</td><td>0 </td><td>3420</td><td>3420</td><td>NA</td><td>MB_Group4_Group4</td><td>  </td><td>DKFZ</td><td>MB</td><td>Primary</td></tr>\n",
       "\t<tr><th scope=row>14311</th><td>ICGC_MB86 </td><td>ICGC_MB86 </td><td>ICGC_MB86 </td><td>ICGC_MB86 </td><td>Male  </td><td>NA</td><td>NA</td><td> 4.0</td><td>0 </td><td>2190</td><td>2190</td><td>NA</td><td>MB_Group4_Group4</td><td>  </td><td>DKFZ</td><td>MB</td><td>Primary</td></tr>\n",
       "\t<tr><th scope=row>14411</th><td>ICGC_MB88 </td><td>ICGC_MB88 </td><td>ICGC_MB88 </td><td>ICGC_MB88 </td><td>Male  </td><td>NA</td><td>NA</td><td> 2.0</td><td>0 </td><td> 810</td><td> 240</td><td>NA</td><td>MB_SHH_SHH      </td><td>  </td><td>DKFZ</td><td>MB</td><td>Primary</td></tr>\n",
       "\t<tr><th scope=row>14512</th><td>ICGC_MB89 </td><td>ICGC_MB89 </td><td>ICGC_MB89 </td><td>ICGC_MB89 </td><td>Female</td><td>NA</td><td>NA</td><td> 4.0</td><td>1 </td><td> 180</td><td> 120</td><td>NA</td><td>MB_Group3_Group3</td><td>  </td><td>DKFZ</td><td>MB</td><td>Primary</td></tr>\n",
       "\t<tr><th scope=row>14612</th><td>ICGC_MB90 </td><td>ICGC_MB90 </td><td>ICGC_MB90 </td><td>ICGC_MB90 </td><td>Male  </td><td>NA</td><td>NA</td><td> 1.6</td><td>0 </td><td> 660</td><td> 660</td><td>NA</td><td>MB_Group3_Group3</td><td>  </td><td>DKFZ</td><td>MB</td><td>Primary</td></tr>\n",
       "\t<tr><th scope=row>14711</th><td>ICGC_MB91 </td><td>ICGC_MB91 </td><td>ICGC_MB91 </td><td>ICGC_MB91 </td><td>Male  </td><td>NA</td><td>NA</td><td>15.0</td><td>0 </td><td> 780</td><td> 780</td><td>NA</td><td>MB_Group4_Group4</td><td>  </td><td>DKFZ</td><td>MB</td><td>Primary</td></tr>\n",
       "\t<tr><th scope=row>14812</th><td>ICGC_MB92 </td><td>ICGC_MB92 </td><td>ICGC_MB92 </td><td>ICGC_MB92 </td><td>Male  </td><td>NA</td><td>NA</td><td>10.0</td><td>0 </td><td> 720</td><td> 720</td><td>NA</td><td>MB_Group4_Group4</td><td>  </td><td>DKFZ</td><td>MB</td><td>Primary</td></tr>\n",
       "\t<tr><th scope=row>14912</th><td>ICGC_MB94 </td><td>ICGC_MB94 </td><td>ICGC_MB94 </td><td>ICGC_MB94 </td><td>Female</td><td>NA</td><td>NA</td><td>15.0</td><td>1 </td><td> 540</td><td> 300</td><td>NA</td><td>MB_Group4_Group4</td><td>  </td><td>DKFZ</td><td>MB</td><td>Primary</td></tr>\n",
       "\t<tr><th scope=row>15012</th><td>ICGC_MB95 </td><td>ICGC_MB95 </td><td>ICGC_MB95 </td><td>ICGC_MB95 </td><td>Male  </td><td>NA</td><td>NA</td><td> 3.0</td><td>0 </td><td> 660</td><td> 660</td><td>NA</td><td>MB_Group3_Group3</td><td>  </td><td>DKFZ</td><td>MB</td><td>Primary</td></tr>\n",
       "\t<tr><th scope=row>15111</th><td>ICGC_MB96 </td><td>ICGC_MB96 </td><td>ICGC_MB96 </td><td>ICGC_MB96 </td><td>Male  </td><td>NA</td><td>NA</td><td> 3.0</td><td>0 </td><td> 720</td><td> 720</td><td>NA</td><td>MB_Group3_Group3</td><td>  </td><td>DKFZ</td><td>MB</td><td>Primary</td></tr>\n",
       "\t<tr><th scope=row>15211</th><td>ICGC_MB98 </td><td>ICGC_MB98 </td><td>ICGC_MB98 </td><td>ICGC_MB98 </td><td>Male  </td><td>NA</td><td>NA</td><td> 8.0</td><td>0 </td><td> 660</td><td> 660</td><td>NA</td><td>MB_Group3_Group3</td><td>  </td><td>DKFZ</td><td>MB</td><td>Primary</td></tr>\n",
       "\t<tr><th scope=row>15311</th><td>ICGC_MB99 </td><td>ICGC_MB99 </td><td>ICGC_MB99 </td><td>ICGC_MB99 </td><td>Male  </td><td>NA</td><td>NA</td><td> 8.0</td><td>0 </td><td> 540</td><td> 150</td><td>NA</td><td>MB_Group4_Group4</td><td>  </td><td>DKFZ</td><td>MB</td><td>Primary</td></tr>\n",
       "</tbody>\n",
       "</table>\n"
      ],
      "text/latex": [
       "A data.frame: 166 × 17\n",
       "\\begin{tabular}{r|lllllllllllllllll}\n",
       "  & name & case\\_id & sample\\_id & aliquot\\_id & gender & ethnicity & race & age\\_at\\_diagnosis & vital\\_status & days\\_to\\_death & days\\_to\\_progress & recurrence & disease\\_type & primary\\_site & group & cohort & sample\\_type\\\\\n",
       "  & <chr> & <chr> & <chr> & <chr> & <chr> & <chr> & <chr> & <dbl> & <chr> & <dbl> & <dbl> & <chr> & <chr> & <chr> & <chr> & <chr> & <chr>\\\\\n",
       "\\hline\n",
       "\t79 & 4638324b-b8e5-4545-8b7b-e8d7d7fdd138.bam                & TARGET-30-PATYIL & TARGET-30-PATYIL-01A & TARGET-30-PATYIL-01A-01R & female & not hispanic or latino & white                     &  0 & dead  &   NA &  NA & NA & Neuroblastoma                                    & Nervous System                     & TARGET & NBL    & Primary Tumor    \\\\\n",
       "\t115 & 692a3229-af33-4136-bc6e-a4b22f016cde.bam                & TARGET-30-PALBFW & TARGET-30-PALBFW-01A & TARGET-30-PALBFW-01A-01R & male   & not hispanic or latino & white                     &  2 & dead  & 3264 & 193 & NA & Neuroblastoma                                    & Adrenal gland                      & TARGET & NBL    & Primary Tumor    \\\\\n",
       "\t136 & 7cccad17-8596-4032-9433-e293f2044d79.bam                & TARGET-30-PARBAJ & TARGET-30-PARBAJ-01A & TARGET-30-PARBAJ-01A-01R & male   & not hispanic or latino & white                     &  0 & alive &   NA &  NA & NA & Neuroblastoma                                    & Nervous System                     & TARGET & NBL    & Primary Tumor    \\\\\n",
       "\t142 & 81988869-de07-4b87-ba00-247b93f58732.bam                & TARGET-30-PASNPG & TARGET-30-PASNPG-02A & TARGET-30-PASNPG-02A-01R & female & not hispanic or latino & black or african american &  0 & alive &   NA &  NA & NA & Neuroblastoma                                    & Nervous System                     & TARGET & NBL    & Recurrent Tumor  \\\\\n",
       "\t232 & c7ac5a3e-b090-4882-9dca-94f55e3f7fa4.bam                & TARGET-30-PASGAP & TARGET-30-PASGAP-02A & TARGET-30-PASGAP-02A-01R & male   & not hispanic or latino & black or african american &  3 & dead  &   NA &  NA & NA & Neuroblastoma                                    & Nervous System                     & TARGET & NBL    & Recurrent Tumor  \\\\\n",
       "\t255 & df7a35a0-dc6a-4801-a962-be2e171eb773.bam                & TARGET-30-PAUDDK & TARGET-30-PAUDDK-01A & TARGET-30-PAUDDK-01A-01R & male   & not hispanic or latino & black or african american &  0 & alive &   NA &  NA & NA & Neuroblastoma                                    & Nervous System                     & TARGET & NBL    & Primary Tumor    \\\\\n",
       "\t266 & e99cf13e-9bdf-402d-9ec4-a8bf771543a5.bam                & TARGET-30-PARHAM & TARGET-30-PARHAM-01A & TARGET-30-PARHAM-01A-01R & female & not hispanic or latino & white                     &  0 & dead  &   NA &  NA & NA & Neuroblastoma                                    & Nervous System                     & TARGET & NBL    & Primary Tumor    \\\\\n",
       "\t283 & f7541bf7-73bc-4163-af01-3fea29027a16.bam                & TARGET-30-PAPHPE & TARGET-30-PAPHPE-01A & TARGET-30-PAPHPE-01A-01R & male   & not hispanic or latino & black or african american &  2 & dead  &   NA &  NA & NA & NA                                               & NA                                 & TARGET & NBL    & Primary Tumor    \\\\\n",
       "\t285 & f99e2b20-96d7-49f3-bdd2-7a1cf2fa6208.bam                & TARGET-30-PASNZU & TARGET-30-PASNZU-01A & TARGET-30-PASNZU-01A-01R & male   & not hispanic or latino & black or african american &  3 & dead  &   NA &  NA & NA & NA                                               & NA                                 & TARGET & NBL    & Primary Tumor    \\\\\n",
       "\t286 & f9c9806d-716e-405d-babf-1f2142b449df.bam                & TARGET-30-PANUIF & TARGET-30-PANUIF-01A & TARGET-30-PANUIF-01A-01R & female & not hispanic or latino & white                     &  6 & alive &   NA &  NA & NA & NA                                               & NA                                 & TARGET & NBL    & Primary Tumor    \\\\\n",
       "\t287 & f9ea6862-a705-4bd5-af11-16a683364b25.bam                & TARGET-30-PAPICY & TARGET-30-PAPICY-01A & TARGET-30-PAPICY-01A-01R & female & not hispanic or latino & white                     &  0 & alive &   NA &  NA & NA & NA                                               & NA                                 & TARGET & NBL    & Primary Tumor    \\\\\n",
       "\t288 & fa2e0b15-1ed1-462c-991f-2e279493dba1.bam                & TARGET-30-PANJLH & TARGET-30-PANJLH-01A & TARGET-30-PANJLH-01A-01R & male   & not hispanic or latino & white                     &  2 & dead  &   NA &  NA & NA & NA                                               & NA                                 & TARGET & NBL    & Primary Tumor    \\\\\n",
       "\t289 & fab58ae3-1afd-40eb-a7e3-fd6236840671.bam                & TARGET-30-PANKFE & TARGET-30-PANKFE-01A & TARGET-30-PANKFE-01A-01R & female & not hispanic or latino & white                     &  3 & alive &   NA &  NA & NA & NA                                               & NA                                 & TARGET & NBL    & Primary Tumor    \\\\\n",
       "\t2112 & ab09b600-1ac8-499d-b438-57f70c1a0271.rsem.genes.results & C410451          & 7316-1079            & 731888                   & Male   & Reported Unknown       & Other                     & 13 & NA    &    0 &   0 & NA & Ewings Sarcoma                                   & Spine NOS                          & CBTTC  & Other  & Initial CNS Tumor\\\\\n",
       "\t22 & 6256cd22-6a3e-4866-92c8-c0bcafa5103b.rsem.genes.results & C410820          & 7316-1080            & 731870                   & Female & Reported Unknown       & Other                     & 19 & NA    &    0 &   0 & NA & Adenoma                                          & Suprasellar/Hypothalamic/Pituitary & CBTTC  & Other  & Initial CNS Tumor\\\\\n",
       "\t2311 & 1da1eb0c-f54d-4bce-8f02-55899fc8761f.rsem.genes.results & C410697          & 7316-1081            & 731897                   & Male   & Reported Unknown       & Other                     &  5 & NA    &    0 &   0 & NA & Low-grade glioma/astrocytoma (WHO grade I/II)    & Other locations NOS                & CBTTC  & pedLGG & Initial CNS Tumor\\\\\n",
       "\t2462 & f22d1fdf-64c6-456c-89e4-95a741ae455e.rsem.genes.results & C409467          & 7316-1082            & 728285                   & Female & Reported Unknown       & Other                     & 13 & NA    &    0 &   0 & NA & Craniopharyngioma                                & Suprasellar/Hypothalamic/Pituitary & CBTTC  & CPH    & Initial CNS Tumor\\\\\n",
       "\t25101 & 2f9ae1ba-fa5d-43f0-8ffb-4dc01fd80ec6.rsem.genes.results & C409836          & 7316-1083            & 588302                   & Male   & Reported Unknown       & Other                     &  5 & NA    &    0 &   0 & NA & Medulloblastoma                                  & Cerebellum/Posterior Fossa         & CBTTC  & MB     & Initial CNS Tumor\\\\\n",
       "\t26100 & c8554fc6-c569-4056-a92c-358a9a6ec4a0.rsem.genes.results & C409959          & 7316-1084            & 731871                   & Female & Reported Unknown       & Other                     & 21 & NA    &    0 &   0 & NA & Low-grade glioma/astrocytoma (WHO grade I/II)    & Other locations NOS                & CBTTC  & pedLGG & Initial CNS Tumor\\\\\n",
       "\t3510 & 4be60a66-9a75-4821-bffe-55ed7abbe693.rsem.genes.results & C408975          & 7316-1094            & 731855                   & Male   & Reported Unknown       & Other                     & 19 & NA    &    0 &   0 & NA & Schwannoma                                       & Cranial Nerves NOS                 & CBTTC  & SCHN   & Initial CNS Tumor\\\\\n",
       "\t36100 & 24574fa8-71db-45a9-b364-095caa1689f7.rsem.genes.results & C409098          & 7316-1095            & 588303                   & Male   & Reported Unknown       & Other                     &  1 & NA    &    0 &   0 & NA & Low-grade glioma/astrocytoma (WHO grade I/II)    & Cerebellum/Posterior Fossa         & CBTTC  & pedLGG & Initial CNS Tumor\\\\\n",
       "\t37100 & 3433f6b8-55f8-44e4-8b19-5320d4db7d46.rsem.genes.results & C410205          & 7316-1096            & 731908                   & Female & Reported Unknown       & Other                     & 16 & NA    &    0 &   0 & NA & Adenoma                                          & Suprasellar/Hypothalamic/Pituitary & CBTTC  & Other  & Initial CNS Tumor\\\\\n",
       "\t1193 & 8884f51d-bb09-4e34-a0c6-da7ad9a2b6fd.rsem.genes.results & C409590          & 7316-1654            & 573145                   & Male   & Reported Unknown       & Other                     &  2 & NA    &    0 &   0 & NA & Choroid plexus papilloma                         & Ventricles                         & CBTTC  & Other  & Initial CNS Tumor\\\\\n",
       "\t1202 & 0235d2e9-4cb3-490c-a395-8149378ba52c.rsem.genes.results & C411066          & 7316-1655            & 588454                   & Female & Reported Unknown       & Other                     &  9 & NA    &    0 &   0 & NA & Medulloblastoma                                  & Cerebellum/Posterior Fossa         & CBTTC  & MB     & Initial CNS Tumor\\\\\n",
       "\t1218 & 9b33bded-0e99-4cc0-be28-3891f64d4ea1.rsem.genes.results & C410082          & 7316-1656            & 711676                   & Male   & Reported Unknown       & Other                     &  9 & NA    &    0 &   0 & NA & High-grade glioma/astrocytoma (WHO grade III/IV) & Temporal Lobe                      & CBTTC  & pedHGG & Recurrence       \\\\\n",
       "\t1223 & 1571bc2c-ddfd-496e-a80b-0b93d280e4d1.rsem.genes.results & C409344          & 7316-1658            & 601589                   & Female & Reported Unknown       & Other                     &  1 & NA    &    0 &   0 & NA & Low-grade glioma/astrocytoma (WHO grade I/II)    & Basal Ganglia                      & CBTTC  & pedLGG & Initial CNS Tumor\\\\\n",
       "\t14011 & c77f1487-8ad1-494b-848e-683bb6f29d65.rsem.genes.results & C409221          & 7316-1680            & 588455                   & Female & Reported Unknown       & Other                     &  2 & NA    &    0 &   0 & NA & Medulloblastoma                                  & Cerebellum/Posterior Fossa         & CBTTC  & MB     & Initial CNS Tumor\\\\\n",
       "\t14211 & e299730f-c844-4e9d-9f16-0fd2dc7f5967.rsem.genes.results & C410943          & 7316-1683            & 588456                   & Female & Reported Unknown       & Other                     &  7 & NA    &    0 &   0 & NA & Low-grade glioma/astrocytoma (WHO grade I/II)    & Cerebellum/Posterior Fossa         & CBTTC  & pedLGG & Initial CNS Tumor\\\\\n",
       "\t2342 & d9b2ad35-b03f-46a6-95e0-f8e7308b235d.rsem.genes.results & C458298          & 7316-1940            & 588346                   & Male   & Reported Unknown       & Other                     &  3 & NA    &    0 &   0 & NA & Ganglioglioma                                    & Cerebellum/Posterior Fossa         & CBTTC  & GGM    & Initial CNS Tumor\\\\\n",
       "\t2351 & 3c8aed9a-a16b-47fa-a47a-4947551df984.rsem.genes.results & C458052          & 7316-1941            & 588347                   & Female & Reported Unknown       & Other                     & 11 & NA    &    0 &   0 & NA & Dysembryoplastic neuroepithelial tumor (DNET)    & Temporal Lobe                      & CBTTC  & DNET   & Progressive      \\\\\n",
       "\t⋮ & ⋮ & ⋮ & ⋮ & ⋮ & ⋮ & ⋮ & ⋮ & ⋮ & ⋮ & ⋮ & ⋮ & ⋮ & ⋮ & ⋮ & ⋮ & ⋮ & ⋮\\\\\n",
       "\t1246 & ICGC\\_MB299 & ICGC\\_MB299 & ICGC\\_MB299 & ICGC\\_MB299 & Male   & NA & NA &  8.0 & NA &   NA &   NA & NA & MB\\_Group4\\_Group4 & NA & DKFZ & MB & Primary\\\\\n",
       "\t1255 & ICGC\\_MB302 & ICGC\\_MB302 & ICGC\\_MB302 & ICGC\\_MB302 & Female & NA & NA & 16.0 & NA &   NA &   NA & NA & MB\\_SHH\\_SHH       & NA & DKFZ & MB & Primary\\\\\n",
       "\t1265 & ICGC\\_MB303 & ICGC\\_MB303 & ICGC\\_MB303 & ICGC\\_MB303 & Male   & NA & NA &  9.0 & NA &   NA &   NA & NA & MB\\_Group4\\_Group4 & NA & DKFZ & MB & Primary\\\\\n",
       "\t1273 & ICGC\\_MB304 & ICGC\\_MB304 & ICGC\\_MB304 & ICGC\\_MB304 & Male   & NA & NA &  8.0 & NA &   NA &   NA & NA & MB\\_Group4\\_Group4 & NA & DKFZ & MB & Primary\\\\\n",
       "\t1287 & ICGC\\_MB31  & ICGC\\_MB31  & ICGC\\_MB31  & ICGC\\_MB31  & Female & NA & NA & 14.0 & 0  & 1890 & 1890 & NA & MB\\_WNT\\_WNT       &    & DKFZ & MB & Primary\\\\\n",
       "\t12911 & ICGC\\_MB34  & ICGC\\_MB34  & ICGC\\_MB34  & ICGC\\_MB34  & Female & NA & NA & 13.0 & 0  & 1080 &  750 & NA & MB\\_SHH\\_SHH       &    & DKFZ & MB & Primary\\\\\n",
       "\t13011 & ICGC\\_MB39  & ICGC\\_MB39  & ICGC\\_MB39  & ICGC\\_MB39  & Male   & NA & NA &  4.0 & 0  &  840 &  840 & NA & MB\\_Group3\\_Group3 &    & DKFZ & MB & Primary\\\\\n",
       "\t13112 & ICGC\\_MB40  & ICGC\\_MB40  & ICGC\\_MB40  & ICGC\\_MB40  & Male   & NA & NA &  3.0 & 0  &  990 &  990 & NA & MB\\_Group4\\_Group4 &    & DKFZ & MB & Primary\\\\\n",
       "\t13212 & ICGC\\_MB53  & ICGC\\_MB53  & ICGC\\_MB53  & ICGC\\_MB53  & Male   & NA & NA & 20.0 & 0  & 1350 & 1350 & NA & MB\\_SHH\\_SHH       &    & DKFZ & MB & Primary\\\\\n",
       "\t13312 & ICGC\\_MB57  & ICGC\\_MB57  & ICGC\\_MB57  & ICGC\\_MB57  & Female & NA & NA & 23.0 & 0  &  720 &  720 & NA & MB\\_Group4\\_Group4 &    & DKFZ & MB & Primary\\\\\n",
       "\t13412 & ICGC\\_MB58  & ICGC\\_MB58  & ICGC\\_MB58  & ICGC\\_MB58  & Male   & NA & NA & 19.0 & 0  & 1380 & 1020 & NA & MB\\_Group4\\_Group4 &    & DKFZ & MB & Primary\\\\\n",
       "\t13511 & ICGC\\_MB60  & ICGC\\_MB60  & ICGC\\_MB60  & ICGC\\_MB60  & Male   & NA & NA & 23.0 & 0  &  540 &  540 & NA & MB\\_SHH\\_SHH       &    & DKFZ & MB & Primary\\\\\n",
       "\t13612 & ICGC\\_MB64  & ICGC\\_MB64  & ICGC\\_MB64  & ICGC\\_MB64  & Male   & NA & NA & 18.0 & 0  &  420 &  420 & NA & MB\\_Group4\\_Group4 &    & DKFZ & MB & Primary\\\\\n",
       "\t13712 & ICGC\\_MB65  & ICGC\\_MB65  & ICGC\\_MB65  & ICGC\\_MB65  & Male   & NA & NA & 18.0 & 0  &  420 &  420 & NA & MB\\_Group4\\_Group4 &    & DKFZ & MB & Primary\\\\\n",
       "\t13811 & ICGC\\_MB68  & ICGC\\_MB68  & ICGC\\_MB68  & ICGC\\_MB68  & Female & NA & NA & 22.0 & 0  &  720 &  720 & NA & MB\\_SHH\\_SHH       &    & DKFZ & MB & Primary\\\\\n",
       "\t13911 & ICGC\\_MB71  & ICGC\\_MB71  & ICGC\\_MB71  & ICGC\\_MB71  & Male   & NA & NA & 20.0 & 0  & 1320 &  900 & NA & MB\\_Group4\\_Group4 &    & DKFZ & MB & Primary\\\\\n",
       "\t14012 & ICGC\\_MB83  & ICGC\\_MB83  & ICGC\\_MB83  & ICGC\\_MB83  & Female & NA & NA & 14.0 & 0  &  720 &  720 & NA & MB\\_Group4\\_Group4 &    & DKFZ & MB & Primary\\\\\n",
       "\t14111 & ICGC\\_MB84  & ICGC\\_MB84  & ICGC\\_MB84  & ICGC\\_MB84  & Male   & NA & NA & 12.0 & 0  &  810 &  810 & NA & MB\\_Group4\\_Group4 &    & DKFZ & MB & Primary\\\\\n",
       "\t14212 & ICGC\\_MB85  & ICGC\\_MB85  & ICGC\\_MB85  & ICGC\\_MB85  & Female & NA & NA &  5.0 & 0  & 3420 & 3420 & NA & MB\\_Group4\\_Group4 &    & DKFZ & MB & Primary\\\\\n",
       "\t14311 & ICGC\\_MB86  & ICGC\\_MB86  & ICGC\\_MB86  & ICGC\\_MB86  & Male   & NA & NA &  4.0 & 0  & 2190 & 2190 & NA & MB\\_Group4\\_Group4 &    & DKFZ & MB & Primary\\\\\n",
       "\t14411 & ICGC\\_MB88  & ICGC\\_MB88  & ICGC\\_MB88  & ICGC\\_MB88  & Male   & NA & NA &  2.0 & 0  &  810 &  240 & NA & MB\\_SHH\\_SHH       &    & DKFZ & MB & Primary\\\\\n",
       "\t14512 & ICGC\\_MB89  & ICGC\\_MB89  & ICGC\\_MB89  & ICGC\\_MB89  & Female & NA & NA &  4.0 & 1  &  180 &  120 & NA & MB\\_Group3\\_Group3 &    & DKFZ & MB & Primary\\\\\n",
       "\t14612 & ICGC\\_MB90  & ICGC\\_MB90  & ICGC\\_MB90  & ICGC\\_MB90  & Male   & NA & NA &  1.6 & 0  &  660 &  660 & NA & MB\\_Group3\\_Group3 &    & DKFZ & MB & Primary\\\\\n",
       "\t14711 & ICGC\\_MB91  & ICGC\\_MB91  & ICGC\\_MB91  & ICGC\\_MB91  & Male   & NA & NA & 15.0 & 0  &  780 &  780 & NA & MB\\_Group4\\_Group4 &    & DKFZ & MB & Primary\\\\\n",
       "\t14812 & ICGC\\_MB92  & ICGC\\_MB92  & ICGC\\_MB92  & ICGC\\_MB92  & Male   & NA & NA & 10.0 & 0  &  720 &  720 & NA & MB\\_Group4\\_Group4 &    & DKFZ & MB & Primary\\\\\n",
       "\t14912 & ICGC\\_MB94  & ICGC\\_MB94  & ICGC\\_MB94  & ICGC\\_MB94  & Female & NA & NA & 15.0 & 1  &  540 &  300 & NA & MB\\_Group4\\_Group4 &    & DKFZ & MB & Primary\\\\\n",
       "\t15012 & ICGC\\_MB95  & ICGC\\_MB95  & ICGC\\_MB95  & ICGC\\_MB95  & Male   & NA & NA &  3.0 & 0  &  660 &  660 & NA & MB\\_Group3\\_Group3 &    & DKFZ & MB & Primary\\\\\n",
       "\t15111 & ICGC\\_MB96  & ICGC\\_MB96  & ICGC\\_MB96  & ICGC\\_MB96  & Male   & NA & NA &  3.0 & 0  &  720 &  720 & NA & MB\\_Group3\\_Group3 &    & DKFZ & MB & Primary\\\\\n",
       "\t15211 & ICGC\\_MB98  & ICGC\\_MB98  & ICGC\\_MB98  & ICGC\\_MB98  & Male   & NA & NA &  8.0 & 0  &  660 &  660 & NA & MB\\_Group3\\_Group3 &    & DKFZ & MB & Primary\\\\\n",
       "\t15311 & ICGC\\_MB99  & ICGC\\_MB99  & ICGC\\_MB99  & ICGC\\_MB99  & Male   & NA & NA &  8.0 & 0  &  540 &  150 & NA & MB\\_Group4\\_Group4 &    & DKFZ & MB & Primary\\\\\n",
       "\\end{tabular}\n"
      ],
      "text/markdown": [
       "\n",
       "A data.frame: 166 × 17\n",
       "\n",
       "| <!--/--> | name &lt;chr&gt; | case_id &lt;chr&gt; | sample_id &lt;chr&gt; | aliquot_id &lt;chr&gt; | gender &lt;chr&gt; | ethnicity &lt;chr&gt; | race &lt;chr&gt; | age_at_diagnosis &lt;dbl&gt; | vital_status &lt;chr&gt; | days_to_death &lt;dbl&gt; | days_to_progress &lt;dbl&gt; | recurrence &lt;chr&gt; | disease_type &lt;chr&gt; | primary_site &lt;chr&gt; | group &lt;chr&gt; | cohort &lt;chr&gt; | sample_type &lt;chr&gt; |\n",
       "|---|---|---|---|---|---|---|---|---|---|---|---|---|---|---|---|---|---|\n",
       "| 79 | 4638324b-b8e5-4545-8b7b-e8d7d7fdd138.bam                | TARGET-30-PATYIL | TARGET-30-PATYIL-01A | TARGET-30-PATYIL-01A-01R | female | not hispanic or latino | white                     |  0 | dead  |   NA |  NA | NA | Neuroblastoma                                    | Nervous System                     | TARGET | NBL    | Primary Tumor     |\n",
       "| 115 | 692a3229-af33-4136-bc6e-a4b22f016cde.bam                | TARGET-30-PALBFW | TARGET-30-PALBFW-01A | TARGET-30-PALBFW-01A-01R | male   | not hispanic or latino | white                     |  2 | dead  | 3264 | 193 | NA | Neuroblastoma                                    | Adrenal gland                      | TARGET | NBL    | Primary Tumor     |\n",
       "| 136 | 7cccad17-8596-4032-9433-e293f2044d79.bam                | TARGET-30-PARBAJ | TARGET-30-PARBAJ-01A | TARGET-30-PARBAJ-01A-01R | male   | not hispanic or latino | white                     |  0 | alive |   NA |  NA | NA | Neuroblastoma                                    | Nervous System                     | TARGET | NBL    | Primary Tumor     |\n",
       "| 142 | 81988869-de07-4b87-ba00-247b93f58732.bam                | TARGET-30-PASNPG | TARGET-30-PASNPG-02A | TARGET-30-PASNPG-02A-01R | female | not hispanic or latino | black or african american |  0 | alive |   NA |  NA | NA | Neuroblastoma                                    | Nervous System                     | TARGET | NBL    | Recurrent Tumor   |\n",
       "| 232 | c7ac5a3e-b090-4882-9dca-94f55e3f7fa4.bam                | TARGET-30-PASGAP | TARGET-30-PASGAP-02A | TARGET-30-PASGAP-02A-01R | male   | not hispanic or latino | black or african american |  3 | dead  |   NA |  NA | NA | Neuroblastoma                                    | Nervous System                     | TARGET | NBL    | Recurrent Tumor   |\n",
       "| 255 | df7a35a0-dc6a-4801-a962-be2e171eb773.bam                | TARGET-30-PAUDDK | TARGET-30-PAUDDK-01A | TARGET-30-PAUDDK-01A-01R | male   | not hispanic or latino | black or african american |  0 | alive |   NA |  NA | NA | Neuroblastoma                                    | Nervous System                     | TARGET | NBL    | Primary Tumor     |\n",
       "| 266 | e99cf13e-9bdf-402d-9ec4-a8bf771543a5.bam                | TARGET-30-PARHAM | TARGET-30-PARHAM-01A | TARGET-30-PARHAM-01A-01R | female | not hispanic or latino | white                     |  0 | dead  |   NA |  NA | NA | Neuroblastoma                                    | Nervous System                     | TARGET | NBL    | Primary Tumor     |\n",
       "| 283 | f7541bf7-73bc-4163-af01-3fea29027a16.bam                | TARGET-30-PAPHPE | TARGET-30-PAPHPE-01A | TARGET-30-PAPHPE-01A-01R | male   | not hispanic or latino | black or african american |  2 | dead  |   NA |  NA | NA | NA                                               | NA                                 | TARGET | NBL    | Primary Tumor     |\n",
       "| 285 | f99e2b20-96d7-49f3-bdd2-7a1cf2fa6208.bam                | TARGET-30-PASNZU | TARGET-30-PASNZU-01A | TARGET-30-PASNZU-01A-01R | male   | not hispanic or latino | black or african american |  3 | dead  |   NA |  NA | NA | NA                                               | NA                                 | TARGET | NBL    | Primary Tumor     |\n",
       "| 286 | f9c9806d-716e-405d-babf-1f2142b449df.bam                | TARGET-30-PANUIF | TARGET-30-PANUIF-01A | TARGET-30-PANUIF-01A-01R | female | not hispanic or latino | white                     |  6 | alive |   NA |  NA | NA | NA                                               | NA                                 | TARGET | NBL    | Primary Tumor     |\n",
       "| 287 | f9ea6862-a705-4bd5-af11-16a683364b25.bam                | TARGET-30-PAPICY | TARGET-30-PAPICY-01A | TARGET-30-PAPICY-01A-01R | female | not hispanic or latino | white                     |  0 | alive |   NA |  NA | NA | NA                                               | NA                                 | TARGET | NBL    | Primary Tumor     |\n",
       "| 288 | fa2e0b15-1ed1-462c-991f-2e279493dba1.bam                | TARGET-30-PANJLH | TARGET-30-PANJLH-01A | TARGET-30-PANJLH-01A-01R | male   | not hispanic or latino | white                     |  2 | dead  |   NA |  NA | NA | NA                                               | NA                                 | TARGET | NBL    | Primary Tumor     |\n",
       "| 289 | fab58ae3-1afd-40eb-a7e3-fd6236840671.bam                | TARGET-30-PANKFE | TARGET-30-PANKFE-01A | TARGET-30-PANKFE-01A-01R | female | not hispanic or latino | white                     |  3 | alive |   NA |  NA | NA | NA                                               | NA                                 | TARGET | NBL    | Primary Tumor     |\n",
       "| 2112 | ab09b600-1ac8-499d-b438-57f70c1a0271.rsem.genes.results | C410451          | 7316-1079            | 731888                   | Male   | Reported Unknown       | Other                     | 13 | NA    |    0 |   0 | NA | Ewings Sarcoma                                   | Spine NOS                          | CBTTC  | Other  | Initial CNS Tumor |\n",
       "| 22 | 6256cd22-6a3e-4866-92c8-c0bcafa5103b.rsem.genes.results | C410820          | 7316-1080            | 731870                   | Female | Reported Unknown       | Other                     | 19 | NA    |    0 |   0 | NA | Adenoma                                          | Suprasellar/Hypothalamic/Pituitary | CBTTC  | Other  | Initial CNS Tumor |\n",
       "| 2311 | 1da1eb0c-f54d-4bce-8f02-55899fc8761f.rsem.genes.results | C410697          | 7316-1081            | 731897                   | Male   | Reported Unknown       | Other                     |  5 | NA    |    0 |   0 | NA | Low-grade glioma/astrocytoma (WHO grade I/II)    | Other locations NOS                | CBTTC  | pedLGG | Initial CNS Tumor |\n",
       "| 2462 | f22d1fdf-64c6-456c-89e4-95a741ae455e.rsem.genes.results | C409467          | 7316-1082            | 728285                   | Female | Reported Unknown       | Other                     | 13 | NA    |    0 |   0 | NA | Craniopharyngioma                                | Suprasellar/Hypothalamic/Pituitary | CBTTC  | CPH    | Initial CNS Tumor |\n",
       "| 25101 | 2f9ae1ba-fa5d-43f0-8ffb-4dc01fd80ec6.rsem.genes.results | C409836          | 7316-1083            | 588302                   | Male   | Reported Unknown       | Other                     |  5 | NA    |    0 |   0 | NA | Medulloblastoma                                  | Cerebellum/Posterior Fossa         | CBTTC  | MB     | Initial CNS Tumor |\n",
       "| 26100 | c8554fc6-c569-4056-a92c-358a9a6ec4a0.rsem.genes.results | C409959          | 7316-1084            | 731871                   | Female | Reported Unknown       | Other                     | 21 | NA    |    0 |   0 | NA | Low-grade glioma/astrocytoma (WHO grade I/II)    | Other locations NOS                | CBTTC  | pedLGG | Initial CNS Tumor |\n",
       "| 3510 | 4be60a66-9a75-4821-bffe-55ed7abbe693.rsem.genes.results | C408975          | 7316-1094            | 731855                   | Male   | Reported Unknown       | Other                     | 19 | NA    |    0 |   0 | NA | Schwannoma                                       | Cranial Nerves NOS                 | CBTTC  | SCHN   | Initial CNS Tumor |\n",
       "| 36100 | 24574fa8-71db-45a9-b364-095caa1689f7.rsem.genes.results | C409098          | 7316-1095            | 588303                   | Male   | Reported Unknown       | Other                     |  1 | NA    |    0 |   0 | NA | Low-grade glioma/astrocytoma (WHO grade I/II)    | Cerebellum/Posterior Fossa         | CBTTC  | pedLGG | Initial CNS Tumor |\n",
       "| 37100 | 3433f6b8-55f8-44e4-8b19-5320d4db7d46.rsem.genes.results | C410205          | 7316-1096            | 731908                   | Female | Reported Unknown       | Other                     | 16 | NA    |    0 |   0 | NA | Adenoma                                          | Suprasellar/Hypothalamic/Pituitary | CBTTC  | Other  | Initial CNS Tumor |\n",
       "| 1193 | 8884f51d-bb09-4e34-a0c6-da7ad9a2b6fd.rsem.genes.results | C409590          | 7316-1654            | 573145                   | Male   | Reported Unknown       | Other                     |  2 | NA    |    0 |   0 | NA | Choroid plexus papilloma                         | Ventricles                         | CBTTC  | Other  | Initial CNS Tumor |\n",
       "| 1202 | 0235d2e9-4cb3-490c-a395-8149378ba52c.rsem.genes.results | C411066          | 7316-1655            | 588454                   | Female | Reported Unknown       | Other                     |  9 | NA    |    0 |   0 | NA | Medulloblastoma                                  | Cerebellum/Posterior Fossa         | CBTTC  | MB     | Initial CNS Tumor |\n",
       "| 1218 | 9b33bded-0e99-4cc0-be28-3891f64d4ea1.rsem.genes.results | C410082          | 7316-1656            | 711676                   | Male   | Reported Unknown       | Other                     |  9 | NA    |    0 |   0 | NA | High-grade glioma/astrocytoma (WHO grade III/IV) | Temporal Lobe                      | CBTTC  | pedHGG | Recurrence        |\n",
       "| 1223 | 1571bc2c-ddfd-496e-a80b-0b93d280e4d1.rsem.genes.results | C409344          | 7316-1658            | 601589                   | Female | Reported Unknown       | Other                     |  1 | NA    |    0 |   0 | NA | Low-grade glioma/astrocytoma (WHO grade I/II)    | Basal Ganglia                      | CBTTC  | pedLGG | Initial CNS Tumor |\n",
       "| 14011 | c77f1487-8ad1-494b-848e-683bb6f29d65.rsem.genes.results | C409221          | 7316-1680            | 588455                   | Female | Reported Unknown       | Other                     |  2 | NA    |    0 |   0 | NA | Medulloblastoma                                  | Cerebellum/Posterior Fossa         | CBTTC  | MB     | Initial CNS Tumor |\n",
       "| 14211 | e299730f-c844-4e9d-9f16-0fd2dc7f5967.rsem.genes.results | C410943          | 7316-1683            | 588456                   | Female | Reported Unknown       | Other                     |  7 | NA    |    0 |   0 | NA | Low-grade glioma/astrocytoma (WHO grade I/II)    | Cerebellum/Posterior Fossa         | CBTTC  | pedLGG | Initial CNS Tumor |\n",
       "| 2342 | d9b2ad35-b03f-46a6-95e0-f8e7308b235d.rsem.genes.results | C458298          | 7316-1940            | 588346                   | Male   | Reported Unknown       | Other                     |  3 | NA    |    0 |   0 | NA | Ganglioglioma                                    | Cerebellum/Posterior Fossa         | CBTTC  | GGM    | Initial CNS Tumor |\n",
       "| 2351 | 3c8aed9a-a16b-47fa-a47a-4947551df984.rsem.genes.results | C458052          | 7316-1941            | 588347                   | Female | Reported Unknown       | Other                     | 11 | NA    |    0 |   0 | NA | Dysembryoplastic neuroepithelial tumor (DNET)    | Temporal Lobe                      | CBTTC  | DNET   | Progressive       |\n",
       "| ⋮ | ⋮ | ⋮ | ⋮ | ⋮ | ⋮ | ⋮ | ⋮ | ⋮ | ⋮ | ⋮ | ⋮ | ⋮ | ⋮ | ⋮ | ⋮ | ⋮ | ⋮ |\n",
       "| 1246 | ICGC_MB299 | ICGC_MB299 | ICGC_MB299 | ICGC_MB299 | Male   | NA | NA |  8.0 | NA |   NA |   NA | NA | MB_Group4_Group4 | NA | DKFZ | MB | Primary |\n",
       "| 1255 | ICGC_MB302 | ICGC_MB302 | ICGC_MB302 | ICGC_MB302 | Female | NA | NA | 16.0 | NA |   NA |   NA | NA | MB_SHH_SHH       | NA | DKFZ | MB | Primary |\n",
       "| 1265 | ICGC_MB303 | ICGC_MB303 | ICGC_MB303 | ICGC_MB303 | Male   | NA | NA |  9.0 | NA |   NA |   NA | NA | MB_Group4_Group4 | NA | DKFZ | MB | Primary |\n",
       "| 1273 | ICGC_MB304 | ICGC_MB304 | ICGC_MB304 | ICGC_MB304 | Male   | NA | NA |  8.0 | NA |   NA |   NA | NA | MB_Group4_Group4 | NA | DKFZ | MB | Primary |\n",
       "| 1287 | ICGC_MB31  | ICGC_MB31  | ICGC_MB31  | ICGC_MB31  | Female | NA | NA | 14.0 | 0  | 1890 | 1890 | NA | MB_WNT_WNT       | <!----> | DKFZ | MB | Primary |\n",
       "| 12911 | ICGC_MB34  | ICGC_MB34  | ICGC_MB34  | ICGC_MB34  | Female | NA | NA | 13.0 | 0  | 1080 |  750 | NA | MB_SHH_SHH       | <!----> | DKFZ | MB | Primary |\n",
       "| 13011 | ICGC_MB39  | ICGC_MB39  | ICGC_MB39  | ICGC_MB39  | Male   | NA | NA |  4.0 | 0  |  840 |  840 | NA | MB_Group3_Group3 | <!----> | DKFZ | MB | Primary |\n",
       "| 13112 | ICGC_MB40  | ICGC_MB40  | ICGC_MB40  | ICGC_MB40  | Male   | NA | NA |  3.0 | 0  |  990 |  990 | NA | MB_Group4_Group4 | <!----> | DKFZ | MB | Primary |\n",
       "| 13212 | ICGC_MB53  | ICGC_MB53  | ICGC_MB53  | ICGC_MB53  | Male   | NA | NA | 20.0 | 0  | 1350 | 1350 | NA | MB_SHH_SHH       | <!----> | DKFZ | MB | Primary |\n",
       "| 13312 | ICGC_MB57  | ICGC_MB57  | ICGC_MB57  | ICGC_MB57  | Female | NA | NA | 23.0 | 0  |  720 |  720 | NA | MB_Group4_Group4 | <!----> | DKFZ | MB | Primary |\n",
       "| 13412 | ICGC_MB58  | ICGC_MB58  | ICGC_MB58  | ICGC_MB58  | Male   | NA | NA | 19.0 | 0  | 1380 | 1020 | NA | MB_Group4_Group4 | <!----> | DKFZ | MB | Primary |\n",
       "| 13511 | ICGC_MB60  | ICGC_MB60  | ICGC_MB60  | ICGC_MB60  | Male   | NA | NA | 23.0 | 0  |  540 |  540 | NA | MB_SHH_SHH       | <!----> | DKFZ | MB | Primary |\n",
       "| 13612 | ICGC_MB64  | ICGC_MB64  | ICGC_MB64  | ICGC_MB64  | Male   | NA | NA | 18.0 | 0  |  420 |  420 | NA | MB_Group4_Group4 | <!----> | DKFZ | MB | Primary |\n",
       "| 13712 | ICGC_MB65  | ICGC_MB65  | ICGC_MB65  | ICGC_MB65  | Male   | NA | NA | 18.0 | 0  |  420 |  420 | NA | MB_Group4_Group4 | <!----> | DKFZ | MB | Primary |\n",
       "| 13811 | ICGC_MB68  | ICGC_MB68  | ICGC_MB68  | ICGC_MB68  | Female | NA | NA | 22.0 | 0  |  720 |  720 | NA | MB_SHH_SHH       | <!----> | DKFZ | MB | Primary |\n",
       "| 13911 | ICGC_MB71  | ICGC_MB71  | ICGC_MB71  | ICGC_MB71  | Male   | NA | NA | 20.0 | 0  | 1320 |  900 | NA | MB_Group4_Group4 | <!----> | DKFZ | MB | Primary |\n",
       "| 14012 | ICGC_MB83  | ICGC_MB83  | ICGC_MB83  | ICGC_MB83  | Female | NA | NA | 14.0 | 0  |  720 |  720 | NA | MB_Group4_Group4 | <!----> | DKFZ | MB | Primary |\n",
       "| 14111 | ICGC_MB84  | ICGC_MB84  | ICGC_MB84  | ICGC_MB84  | Male   | NA | NA | 12.0 | 0  |  810 |  810 | NA | MB_Group4_Group4 | <!----> | DKFZ | MB | Primary |\n",
       "| 14212 | ICGC_MB85  | ICGC_MB85  | ICGC_MB85  | ICGC_MB85  | Female | NA | NA |  5.0 | 0  | 3420 | 3420 | NA | MB_Group4_Group4 | <!----> | DKFZ | MB | Primary |\n",
       "| 14311 | ICGC_MB86  | ICGC_MB86  | ICGC_MB86  | ICGC_MB86  | Male   | NA | NA |  4.0 | 0  | 2190 | 2190 | NA | MB_Group4_Group4 | <!----> | DKFZ | MB | Primary |\n",
       "| 14411 | ICGC_MB88  | ICGC_MB88  | ICGC_MB88  | ICGC_MB88  | Male   | NA | NA |  2.0 | 0  |  810 |  240 | NA | MB_SHH_SHH       | <!----> | DKFZ | MB | Primary |\n",
       "| 14512 | ICGC_MB89  | ICGC_MB89  | ICGC_MB89  | ICGC_MB89  | Female | NA | NA |  4.0 | 1  |  180 |  120 | NA | MB_Group3_Group3 | <!----> | DKFZ | MB | Primary |\n",
       "| 14612 | ICGC_MB90  | ICGC_MB90  | ICGC_MB90  | ICGC_MB90  | Male   | NA | NA |  1.6 | 0  |  660 |  660 | NA | MB_Group3_Group3 | <!----> | DKFZ | MB | Primary |\n",
       "| 14711 | ICGC_MB91  | ICGC_MB91  | ICGC_MB91  | ICGC_MB91  | Male   | NA | NA | 15.0 | 0  |  780 |  780 | NA | MB_Group4_Group4 | <!----> | DKFZ | MB | Primary |\n",
       "| 14812 | ICGC_MB92  | ICGC_MB92  | ICGC_MB92  | ICGC_MB92  | Male   | NA | NA | 10.0 | 0  |  720 |  720 | NA | MB_Group4_Group4 | <!----> | DKFZ | MB | Primary |\n",
       "| 14912 | ICGC_MB94  | ICGC_MB94  | ICGC_MB94  | ICGC_MB94  | Female | NA | NA | 15.0 | 1  |  540 |  300 | NA | MB_Group4_Group4 | <!----> | DKFZ | MB | Primary |\n",
       "| 15012 | ICGC_MB95  | ICGC_MB95  | ICGC_MB95  | ICGC_MB95  | Male   | NA | NA |  3.0 | 0  |  660 |  660 | NA | MB_Group3_Group3 | <!----> | DKFZ | MB | Primary |\n",
       "| 15111 | ICGC_MB96  | ICGC_MB96  | ICGC_MB96  | ICGC_MB96  | Male   | NA | NA |  3.0 | 0  |  720 |  720 | NA | MB_Group3_Group3 | <!----> | DKFZ | MB | Primary |\n",
       "| 15211 | ICGC_MB98  | ICGC_MB98  | ICGC_MB98  | ICGC_MB98  | Male   | NA | NA |  8.0 | 0  |  660 |  660 | NA | MB_Group3_Group3 | <!----> | DKFZ | MB | Primary |\n",
       "| 15311 | ICGC_MB99  | ICGC_MB99  | ICGC_MB99  | ICGC_MB99  | Male   | NA | NA |  8.0 | 0  |  540 |  150 | NA | MB_Group4_Group4 | <!----> | DKFZ | MB | Primary |\n",
       "\n"
      ],
      "text/plain": [
       "      name                                                    case_id         \n",
       "79    4638324b-b8e5-4545-8b7b-e8d7d7fdd138.bam                TARGET-30-PATYIL\n",
       "115   692a3229-af33-4136-bc6e-a4b22f016cde.bam                TARGET-30-PALBFW\n",
       "136   7cccad17-8596-4032-9433-e293f2044d79.bam                TARGET-30-PARBAJ\n",
       "142   81988869-de07-4b87-ba00-247b93f58732.bam                TARGET-30-PASNPG\n",
       "232   c7ac5a3e-b090-4882-9dca-94f55e3f7fa4.bam                TARGET-30-PASGAP\n",
       "255   df7a35a0-dc6a-4801-a962-be2e171eb773.bam                TARGET-30-PAUDDK\n",
       "266   e99cf13e-9bdf-402d-9ec4-a8bf771543a5.bam                TARGET-30-PARHAM\n",
       "283   f7541bf7-73bc-4163-af01-3fea29027a16.bam                TARGET-30-PAPHPE\n",
       "285   f99e2b20-96d7-49f3-bdd2-7a1cf2fa6208.bam                TARGET-30-PASNZU\n",
       "286   f9c9806d-716e-405d-babf-1f2142b449df.bam                TARGET-30-PANUIF\n",
       "287   f9ea6862-a705-4bd5-af11-16a683364b25.bam                TARGET-30-PAPICY\n",
       "288   fa2e0b15-1ed1-462c-991f-2e279493dba1.bam                TARGET-30-PANJLH\n",
       "289   fab58ae3-1afd-40eb-a7e3-fd6236840671.bam                TARGET-30-PANKFE\n",
       "2112  ab09b600-1ac8-499d-b438-57f70c1a0271.rsem.genes.results C410451         \n",
       "22    6256cd22-6a3e-4866-92c8-c0bcafa5103b.rsem.genes.results C410820         \n",
       "2311  1da1eb0c-f54d-4bce-8f02-55899fc8761f.rsem.genes.results C410697         \n",
       "2462  f22d1fdf-64c6-456c-89e4-95a741ae455e.rsem.genes.results C409467         \n",
       "25101 2f9ae1ba-fa5d-43f0-8ffb-4dc01fd80ec6.rsem.genes.results C409836         \n",
       "26100 c8554fc6-c569-4056-a92c-358a9a6ec4a0.rsem.genes.results C409959         \n",
       "3510  4be60a66-9a75-4821-bffe-55ed7abbe693.rsem.genes.results C408975         \n",
       "36100 24574fa8-71db-45a9-b364-095caa1689f7.rsem.genes.results C409098         \n",
       "37100 3433f6b8-55f8-44e4-8b19-5320d4db7d46.rsem.genes.results C410205         \n",
       "1193  8884f51d-bb09-4e34-a0c6-da7ad9a2b6fd.rsem.genes.results C409590         \n",
       "1202  0235d2e9-4cb3-490c-a395-8149378ba52c.rsem.genes.results C411066         \n",
       "1218  9b33bded-0e99-4cc0-be28-3891f64d4ea1.rsem.genes.results C410082         \n",
       "1223  1571bc2c-ddfd-496e-a80b-0b93d280e4d1.rsem.genes.results C409344         \n",
       "14011 c77f1487-8ad1-494b-848e-683bb6f29d65.rsem.genes.results C409221         \n",
       "14211 e299730f-c844-4e9d-9f16-0fd2dc7f5967.rsem.genes.results C410943         \n",
       "2342  d9b2ad35-b03f-46a6-95e0-f8e7308b235d.rsem.genes.results C458298         \n",
       "2351  3c8aed9a-a16b-47fa-a47a-4947551df984.rsem.genes.results C458052         \n",
       "⋮     ⋮                                                       ⋮               \n",
       "1246  ICGC_MB299                                              ICGC_MB299      \n",
       "1255  ICGC_MB302                                              ICGC_MB302      \n",
       "1265  ICGC_MB303                                              ICGC_MB303      \n",
       "1273  ICGC_MB304                                              ICGC_MB304      \n",
       "1287  ICGC_MB31                                               ICGC_MB31       \n",
       "12911 ICGC_MB34                                               ICGC_MB34       \n",
       "13011 ICGC_MB39                                               ICGC_MB39       \n",
       "13112 ICGC_MB40                                               ICGC_MB40       \n",
       "13212 ICGC_MB53                                               ICGC_MB53       \n",
       "13312 ICGC_MB57                                               ICGC_MB57       \n",
       "13412 ICGC_MB58                                               ICGC_MB58       \n",
       "13511 ICGC_MB60                                               ICGC_MB60       \n",
       "13612 ICGC_MB64                                               ICGC_MB64       \n",
       "13712 ICGC_MB65                                               ICGC_MB65       \n",
       "13811 ICGC_MB68                                               ICGC_MB68       \n",
       "13911 ICGC_MB71                                               ICGC_MB71       \n",
       "14012 ICGC_MB83                                               ICGC_MB83       \n",
       "14111 ICGC_MB84                                               ICGC_MB84       \n",
       "14212 ICGC_MB85                                               ICGC_MB85       \n",
       "14311 ICGC_MB86                                               ICGC_MB86       \n",
       "14411 ICGC_MB88                                               ICGC_MB88       \n",
       "14512 ICGC_MB89                                               ICGC_MB89       \n",
       "14612 ICGC_MB90                                               ICGC_MB90       \n",
       "14711 ICGC_MB91                                               ICGC_MB91       \n",
       "14812 ICGC_MB92                                               ICGC_MB92       \n",
       "14912 ICGC_MB94                                               ICGC_MB94       \n",
       "15012 ICGC_MB95                                               ICGC_MB95       \n",
       "15111 ICGC_MB96                                               ICGC_MB96       \n",
       "15211 ICGC_MB98                                               ICGC_MB98       \n",
       "15311 ICGC_MB99                                               ICGC_MB99       \n",
       "      sample_id            aliquot_id               gender\n",
       "79    TARGET-30-PATYIL-01A TARGET-30-PATYIL-01A-01R female\n",
       "115   TARGET-30-PALBFW-01A TARGET-30-PALBFW-01A-01R male  \n",
       "136   TARGET-30-PARBAJ-01A TARGET-30-PARBAJ-01A-01R male  \n",
       "142   TARGET-30-PASNPG-02A TARGET-30-PASNPG-02A-01R female\n",
       "232   TARGET-30-PASGAP-02A TARGET-30-PASGAP-02A-01R male  \n",
       "255   TARGET-30-PAUDDK-01A TARGET-30-PAUDDK-01A-01R male  \n",
       "266   TARGET-30-PARHAM-01A TARGET-30-PARHAM-01A-01R female\n",
       "283   TARGET-30-PAPHPE-01A TARGET-30-PAPHPE-01A-01R male  \n",
       "285   TARGET-30-PASNZU-01A TARGET-30-PASNZU-01A-01R male  \n",
       "286   TARGET-30-PANUIF-01A TARGET-30-PANUIF-01A-01R female\n",
       "287   TARGET-30-PAPICY-01A TARGET-30-PAPICY-01A-01R female\n",
       "288   TARGET-30-PANJLH-01A TARGET-30-PANJLH-01A-01R male  \n",
       "289   TARGET-30-PANKFE-01A TARGET-30-PANKFE-01A-01R female\n",
       "2112  7316-1079            731888                   Male  \n",
       "22    7316-1080            731870                   Female\n",
       "2311  7316-1081            731897                   Male  \n",
       "2462  7316-1082            728285                   Female\n",
       "25101 7316-1083            588302                   Male  \n",
       "26100 7316-1084            731871                   Female\n",
       "3510  7316-1094            731855                   Male  \n",
       "36100 7316-1095            588303                   Male  \n",
       "37100 7316-1096            731908                   Female\n",
       "1193  7316-1654            573145                   Male  \n",
       "1202  7316-1655            588454                   Female\n",
       "1218  7316-1656            711676                   Male  \n",
       "1223  7316-1658            601589                   Female\n",
       "14011 7316-1680            588455                   Female\n",
       "14211 7316-1683            588456                   Female\n",
       "2342  7316-1940            588346                   Male  \n",
       "2351  7316-1941            588347                   Female\n",
       "⋮     ⋮                    ⋮                        ⋮     \n",
       "1246  ICGC_MB299           ICGC_MB299               Male  \n",
       "1255  ICGC_MB302           ICGC_MB302               Female\n",
       "1265  ICGC_MB303           ICGC_MB303               Male  \n",
       "1273  ICGC_MB304           ICGC_MB304               Male  \n",
       "1287  ICGC_MB31            ICGC_MB31                Female\n",
       "12911 ICGC_MB34            ICGC_MB34                Female\n",
       "13011 ICGC_MB39            ICGC_MB39                Male  \n",
       "13112 ICGC_MB40            ICGC_MB40                Male  \n",
       "13212 ICGC_MB53            ICGC_MB53                Male  \n",
       "13312 ICGC_MB57            ICGC_MB57                Female\n",
       "13412 ICGC_MB58            ICGC_MB58                Male  \n",
       "13511 ICGC_MB60            ICGC_MB60                Male  \n",
       "13612 ICGC_MB64            ICGC_MB64                Male  \n",
       "13712 ICGC_MB65            ICGC_MB65                Male  \n",
       "13811 ICGC_MB68            ICGC_MB68                Female\n",
       "13911 ICGC_MB71            ICGC_MB71                Male  \n",
       "14012 ICGC_MB83            ICGC_MB83                Female\n",
       "14111 ICGC_MB84            ICGC_MB84                Male  \n",
       "14212 ICGC_MB85            ICGC_MB85                Female\n",
       "14311 ICGC_MB86            ICGC_MB86                Male  \n",
       "14411 ICGC_MB88            ICGC_MB88                Male  \n",
       "14512 ICGC_MB89            ICGC_MB89                Female\n",
       "14612 ICGC_MB90            ICGC_MB90                Male  \n",
       "14711 ICGC_MB91            ICGC_MB91                Male  \n",
       "14812 ICGC_MB92            ICGC_MB92                Male  \n",
       "14912 ICGC_MB94            ICGC_MB94                Female\n",
       "15012 ICGC_MB95            ICGC_MB95                Male  \n",
       "15111 ICGC_MB96            ICGC_MB96                Male  \n",
       "15211 ICGC_MB98            ICGC_MB98                Male  \n",
       "15311 ICGC_MB99            ICGC_MB99                Male  \n",
       "      ethnicity              race                      age_at_diagnosis\n",
       "79    not hispanic or latino white                      0              \n",
       "115   not hispanic or latino white                      2              \n",
       "136   not hispanic or latino white                      0              \n",
       "142   not hispanic or latino black or african american  0              \n",
       "232   not hispanic or latino black or african american  3              \n",
       "255   not hispanic or latino black or african american  0              \n",
       "266   not hispanic or latino white                      0              \n",
       "283   not hispanic or latino black or african american  2              \n",
       "285   not hispanic or latino black or african american  3              \n",
       "286   not hispanic or latino white                      6              \n",
       "287   not hispanic or latino white                      0              \n",
       "288   not hispanic or latino white                      2              \n",
       "289   not hispanic or latino white                      3              \n",
       "2112  Reported Unknown       Other                     13              \n",
       "22    Reported Unknown       Other                     19              \n",
       "2311  Reported Unknown       Other                      5              \n",
       "2462  Reported Unknown       Other                     13              \n",
       "25101 Reported Unknown       Other                      5              \n",
       "26100 Reported Unknown       Other                     21              \n",
       "3510  Reported Unknown       Other                     19              \n",
       "36100 Reported Unknown       Other                      1              \n",
       "37100 Reported Unknown       Other                     16              \n",
       "1193  Reported Unknown       Other                      2              \n",
       "1202  Reported Unknown       Other                      9              \n",
       "1218  Reported Unknown       Other                      9              \n",
       "1223  Reported Unknown       Other                      1              \n",
       "14011 Reported Unknown       Other                      2              \n",
       "14211 Reported Unknown       Other                      7              \n",
       "2342  Reported Unknown       Other                      3              \n",
       "2351  Reported Unknown       Other                     11              \n",
       "⋮     ⋮                      ⋮                         ⋮               \n",
       "1246  NA                     NA                         8.0            \n",
       "1255  NA                     NA                        16.0            \n",
       "1265  NA                     NA                         9.0            \n",
       "1273  NA                     NA                         8.0            \n",
       "1287  NA                     NA                        14.0            \n",
       "12911 NA                     NA                        13.0            \n",
       "13011 NA                     NA                         4.0            \n",
       "13112 NA                     NA                         3.0            \n",
       "13212 NA                     NA                        20.0            \n",
       "13312 NA                     NA                        23.0            \n",
       "13412 NA                     NA                        19.0            \n",
       "13511 NA                     NA                        23.0            \n",
       "13612 NA                     NA                        18.0            \n",
       "13712 NA                     NA                        18.0            \n",
       "13811 NA                     NA                        22.0            \n",
       "13911 NA                     NA                        20.0            \n",
       "14012 NA                     NA                        14.0            \n",
       "14111 NA                     NA                        12.0            \n",
       "14212 NA                     NA                         5.0            \n",
       "14311 NA                     NA                         4.0            \n",
       "14411 NA                     NA                         2.0            \n",
       "14512 NA                     NA                         4.0            \n",
       "14612 NA                     NA                         1.6            \n",
       "14711 NA                     NA                        15.0            \n",
       "14812 NA                     NA                        10.0            \n",
       "14912 NA                     NA                        15.0            \n",
       "15012 NA                     NA                         3.0            \n",
       "15111 NA                     NA                         3.0            \n",
       "15211 NA                     NA                         8.0            \n",
       "15311 NA                     NA                         8.0            \n",
       "      vital_status days_to_death days_to_progress recurrence\n",
       "79    dead           NA           NA              NA        \n",
       "115   dead         3264          193              NA        \n",
       "136   alive          NA           NA              NA        \n",
       "142   alive          NA           NA              NA        \n",
       "232   dead           NA           NA              NA        \n",
       "255   alive          NA           NA              NA        \n",
       "266   dead           NA           NA              NA        \n",
       "283   dead           NA           NA              NA        \n",
       "285   dead           NA           NA              NA        \n",
       "286   alive          NA           NA              NA        \n",
       "287   alive          NA           NA              NA        \n",
       "288   dead           NA           NA              NA        \n",
       "289   alive          NA           NA              NA        \n",
       "2112  NA              0            0              NA        \n",
       "22    NA              0            0              NA        \n",
       "2311  NA              0            0              NA        \n",
       "2462  NA              0            0              NA        \n",
       "25101 NA              0            0              NA        \n",
       "26100 NA              0            0              NA        \n",
       "3510  NA              0            0              NA        \n",
       "36100 NA              0            0              NA        \n",
       "37100 NA              0            0              NA        \n",
       "1193  NA              0            0              NA        \n",
       "1202  NA              0            0              NA        \n",
       "1218  NA              0            0              NA        \n",
       "1223  NA              0            0              NA        \n",
       "14011 NA              0            0              NA        \n",
       "14211 NA              0            0              NA        \n",
       "2342  NA              0            0              NA        \n",
       "2351  NA              0            0              NA        \n",
       "⋮     ⋮            ⋮             ⋮                ⋮         \n",
       "1246  NA             NA            NA             NA        \n",
       "1255  NA             NA            NA             NA        \n",
       "1265  NA             NA            NA             NA        \n",
       "1273  NA             NA            NA             NA        \n",
       "1287  0            1890          1890             NA        \n",
       "12911 0            1080           750             NA        \n",
       "13011 0             840           840             NA        \n",
       "13112 0             990           990             NA        \n",
       "13212 0            1350          1350             NA        \n",
       "13312 0             720           720             NA        \n",
       "13412 0            1380          1020             NA        \n",
       "13511 0             540           540             NA        \n",
       "13612 0             420           420             NA        \n",
       "13712 0             420           420             NA        \n",
       "13811 0             720           720             NA        \n",
       "13911 0            1320           900             NA        \n",
       "14012 0             720           720             NA        \n",
       "14111 0             810           810             NA        \n",
       "14212 0            3420          3420             NA        \n",
       "14311 0            2190          2190             NA        \n",
       "14411 0             810           240             NA        \n",
       "14512 1             180           120             NA        \n",
       "14612 0             660           660             NA        \n",
       "14711 0             780           780             NA        \n",
       "14812 0             720           720             NA        \n",
       "14912 1             540           300             NA        \n",
       "15012 0             660           660             NA        \n",
       "15111 0             720           720             NA        \n",
       "15211 0             660           660             NA        \n",
       "15311 0             540           150             NA        \n",
       "      disease_type                                    \n",
       "79    Neuroblastoma                                   \n",
       "115   Neuroblastoma                                   \n",
       "136   Neuroblastoma                                   \n",
       "142   Neuroblastoma                                   \n",
       "232   Neuroblastoma                                   \n",
       "255   Neuroblastoma                                   \n",
       "266   Neuroblastoma                                   \n",
       "283   NA                                              \n",
       "285   NA                                              \n",
       "286   NA                                              \n",
       "287   NA                                              \n",
       "288   NA                                              \n",
       "289   NA                                              \n",
       "2112  Ewings Sarcoma                                  \n",
       "22    Adenoma                                         \n",
       "2311  Low-grade glioma/astrocytoma (WHO grade I/II)   \n",
       "2462  Craniopharyngioma                               \n",
       "25101 Medulloblastoma                                 \n",
       "26100 Low-grade glioma/astrocytoma (WHO grade I/II)   \n",
       "3510  Schwannoma                                      \n",
       "36100 Low-grade glioma/astrocytoma (WHO grade I/II)   \n",
       "37100 Adenoma                                         \n",
       "1193  Choroid plexus papilloma                        \n",
       "1202  Medulloblastoma                                 \n",
       "1218  High-grade glioma/astrocytoma (WHO grade III/IV)\n",
       "1223  Low-grade glioma/astrocytoma (WHO grade I/II)   \n",
       "14011 Medulloblastoma                                 \n",
       "14211 Low-grade glioma/astrocytoma (WHO grade I/II)   \n",
       "2342  Ganglioglioma                                   \n",
       "2351  Dysembryoplastic neuroepithelial tumor (DNET)   \n",
       "⋮     ⋮                                               \n",
       "1246  MB_Group4_Group4                                \n",
       "1255  MB_SHH_SHH                                      \n",
       "1265  MB_Group4_Group4                                \n",
       "1273  MB_Group4_Group4                                \n",
       "1287  MB_WNT_WNT                                      \n",
       "12911 MB_SHH_SHH                                      \n",
       "13011 MB_Group3_Group3                                \n",
       "13112 MB_Group4_Group4                                \n",
       "13212 MB_SHH_SHH                                      \n",
       "13312 MB_Group4_Group4                                \n",
       "13412 MB_Group4_Group4                                \n",
       "13511 MB_SHH_SHH                                      \n",
       "13612 MB_Group4_Group4                                \n",
       "13712 MB_Group4_Group4                                \n",
       "13811 MB_SHH_SHH                                      \n",
       "13911 MB_Group4_Group4                                \n",
       "14012 MB_Group4_Group4                                \n",
       "14111 MB_Group4_Group4                                \n",
       "14212 MB_Group4_Group4                                \n",
       "14311 MB_Group4_Group4                                \n",
       "14411 MB_SHH_SHH                                      \n",
       "14512 MB_Group3_Group3                                \n",
       "14612 MB_Group3_Group3                                \n",
       "14711 MB_Group4_Group4                                \n",
       "14812 MB_Group4_Group4                                \n",
       "14912 MB_Group4_Group4                                \n",
       "15012 MB_Group3_Group3                                \n",
       "15111 MB_Group3_Group3                                \n",
       "15211 MB_Group3_Group3                                \n",
       "15311 MB_Group4_Group4                                \n",
       "      primary_site                       group  cohort sample_type      \n",
       "79    Nervous System                     TARGET NBL    Primary Tumor    \n",
       "115   Adrenal gland                      TARGET NBL    Primary Tumor    \n",
       "136   Nervous System                     TARGET NBL    Primary Tumor    \n",
       "142   Nervous System                     TARGET NBL    Recurrent Tumor  \n",
       "232   Nervous System                     TARGET NBL    Recurrent Tumor  \n",
       "255   Nervous System                     TARGET NBL    Primary Tumor    \n",
       "266   Nervous System                     TARGET NBL    Primary Tumor    \n",
       "283   NA                                 TARGET NBL    Primary Tumor    \n",
       "285   NA                                 TARGET NBL    Primary Tumor    \n",
       "286   NA                                 TARGET NBL    Primary Tumor    \n",
       "287   NA                                 TARGET NBL    Primary Tumor    \n",
       "288   NA                                 TARGET NBL    Primary Tumor    \n",
       "289   NA                                 TARGET NBL    Primary Tumor    \n",
       "2112  Spine NOS                          CBTTC  Other  Initial CNS Tumor\n",
       "22    Suprasellar/Hypothalamic/Pituitary CBTTC  Other  Initial CNS Tumor\n",
       "2311  Other locations NOS                CBTTC  pedLGG Initial CNS Tumor\n",
       "2462  Suprasellar/Hypothalamic/Pituitary CBTTC  CPH    Initial CNS Tumor\n",
       "25101 Cerebellum/Posterior Fossa         CBTTC  MB     Initial CNS Tumor\n",
       "26100 Other locations NOS                CBTTC  pedLGG Initial CNS Tumor\n",
       "3510  Cranial Nerves NOS                 CBTTC  SCHN   Initial CNS Tumor\n",
       "36100 Cerebellum/Posterior Fossa         CBTTC  pedLGG Initial CNS Tumor\n",
       "37100 Suprasellar/Hypothalamic/Pituitary CBTTC  Other  Initial CNS Tumor\n",
       "1193  Ventricles                         CBTTC  Other  Initial CNS Tumor\n",
       "1202  Cerebellum/Posterior Fossa         CBTTC  MB     Initial CNS Tumor\n",
       "1218  Temporal Lobe                      CBTTC  pedHGG Recurrence       \n",
       "1223  Basal Ganglia                      CBTTC  pedLGG Initial CNS Tumor\n",
       "14011 Cerebellum/Posterior Fossa         CBTTC  MB     Initial CNS Tumor\n",
       "14211 Cerebellum/Posterior Fossa         CBTTC  pedLGG Initial CNS Tumor\n",
       "2342  Cerebellum/Posterior Fossa         CBTTC  GGM    Initial CNS Tumor\n",
       "2351  Temporal Lobe                      CBTTC  DNET   Progressive      \n",
       "⋮     ⋮                                  ⋮      ⋮      ⋮                \n",
       "1246  NA                                 DKFZ   MB     Primary          \n",
       "1255  NA                                 DKFZ   MB     Primary          \n",
       "1265  NA                                 DKFZ   MB     Primary          \n",
       "1273  NA                                 DKFZ   MB     Primary          \n",
       "1287                                     DKFZ   MB     Primary          \n",
       "12911                                    DKFZ   MB     Primary          \n",
       "13011                                    DKFZ   MB     Primary          \n",
       "13112                                    DKFZ   MB     Primary          \n",
       "13212                                    DKFZ   MB     Primary          \n",
       "13312                                    DKFZ   MB     Primary          \n",
       "13412                                    DKFZ   MB     Primary          \n",
       "13511                                    DKFZ   MB     Primary          \n",
       "13612                                    DKFZ   MB     Primary          \n",
       "13712                                    DKFZ   MB     Primary          \n",
       "13811                                    DKFZ   MB     Primary          \n",
       "13911                                    DKFZ   MB     Primary          \n",
       "14012                                    DKFZ   MB     Primary          \n",
       "14111                                    DKFZ   MB     Primary          \n",
       "14212                                    DKFZ   MB     Primary          \n",
       "14311                                    DKFZ   MB     Primary          \n",
       "14411                                    DKFZ   MB     Primary          \n",
       "14512                                    DKFZ   MB     Primary          \n",
       "14612                                    DKFZ   MB     Primary          \n",
       "14711                                    DKFZ   MB     Primary          \n",
       "14812                                    DKFZ   MB     Primary          \n",
       "14912                                    DKFZ   MB     Primary          \n",
       "15012                                    DKFZ   MB     Primary          \n",
       "15111                                    DKFZ   MB     Primary          \n",
       "15211                                    DKFZ   MB     Primary          \n",
       "15311                                    DKFZ   MB     Primary          "
      ]
     },
     "metadata": {},
     "output_type": "display_data"
    }
   ],
   "source": [
    "IPD_metadata[is.na(IPD_metadata$recurrence) &IPD_metadata$group != \"TCGA\",]"
   ]
  },
  {
   "cell_type": "code",
   "execution_count": 95,
   "metadata": {},
   "outputs": [
    {
     "data": {
      "text/plain": [
       "\n",
       " CBTTC   DKFZ TARGET   TCGA \n",
       "   969    199    157   3204 "
      ]
     },
     "metadata": {},
     "output_type": "display_data"
    }
   ],
   "source": [
    "table(IPD_metadata$group)"
   ]
  },
  {
   "cell_type": "markdown",
   "metadata": {},
   "source": [
    "## Clinical data cleanup"
   ]
  },
  {
   "cell_type": "code",
   "execution_count": 96,
   "metadata": {},
   "outputs": [],
   "source": [
    "IPD_metadata$gender[grepl(\"Reported\", IPD_metadata$gender, ignore.case = T)] <- \"Unknown\"\n",
    "\n",
    "IPD_metadata$gender[IPD_metadata$gender == \"male\"] <- \"Male\"\n",
    "IPD_metadata$gender[IPD_metadata$gender == \"female\"] <- \"Female\"\n",
    "\n",
    "IPD_metadata$gender[IPD_metadata$gender == \"F\"] <- \"Female\"\n",
    "IPD_metadata$gender[IPD_metadata$gender == \"M\"] <- \"Male\"\n",
    "IPD_metadata$gender[IPD_metadata$gender == \"Y\"] <- \"Reported Unknown\""
   ]
  },
  {
   "cell_type": "code",
   "execution_count": 97,
   "metadata": {},
   "outputs": [],
   "source": [
    "IPD_metadata$race[IPD_metadata$race == \"\"] <- NA\n",
    "IPD_metadata$race[grepl(\"African\",IPD_metadata$race, ignore.case = T)] <- \"African\"\n",
    "IPD_metadata$race[grepl(\"Asian\",IPD_metadata$race, ignore.case = T)] <- \"Asian\"\n",
    "IPD_metadata$race[grepl(\"reported\",IPD_metadata$race, ignore.case = T)] <- \"Unknown\"\n",
    "IPD_metadata$race[grepl(\"Alaska\",IPD_metadata$race, ignore.case = T)] <- \"Other\"\n",
    "IPD_metadata$race[grepl(\"Other\",IPD_metadata$race, ignore.case = T)] <- \"Other\"\n",
    "IPD_metadata$race[grepl(\"Pacific\",IPD_metadata$race, ignore.case = T)] <- \"Other\"\n",
    "IPD_metadata$race[grepl(\"white\",IPD_metadata$race)] <- \"White\""
   ]
  },
  {
   "cell_type": "code",
   "execution_count": 98,
   "metadata": {},
   "outputs": [
    {
     "data": {
      "text/plain": [
       "\n",
       "African   Asian   Other Unknown   White \n",
       "    301      82     305     655    2978 "
      ]
     },
     "metadata": {},
     "output_type": "display_data"
    }
   ],
   "source": [
    "table(IPD_metadata$race)"
   ]
  },
  {
   "cell_type": "markdown",
   "metadata": {},
   "source": [
    "clean up vital_status"
   ]
  },
  {
   "cell_type": "code",
   "execution_count": 99,
   "metadata": {},
   "outputs": [
    {
     "data": {
      "text/plain": [
       "\n",
       "                        0            1        alive         dead not reported \n",
       "           9          884          201         2206         1145            1 "
      ]
     },
     "metadata": {},
     "output_type": "display_data"
    }
   ],
   "source": [
    "table(IPD_metadata$vital_status)"
   ]
  },
  {
   "cell_type": "code",
   "execution_count": 100,
   "metadata": {},
   "outputs": [],
   "source": [
    "#from target and tcga data\n",
    "IPD_metadata$vital_status[IPD_metadata$vital_status == \"\"] <- NA\n",
    "IPD_metadata$vital_status[IPD_metadata$vital_status == \"alive\"] <- 1\n",
    "IPD_metadata$vital_status[IPD_metadata$vital_status == \"dead\"] <- 0\n",
    "IPD_metadata$vital_status[IPD_metadata$vital_status == \"not reported\"] <- NA"
   ]
  },
  {
   "cell_type": "markdown",
   "metadata": {},
   "source": [
    "define age classes"
   ]
  },
  {
   "cell_type": "code",
   "execution_count": 101,
   "metadata": {},
   "outputs": [],
   "source": [
    "IPD_metadata$age_class[is.na(IPD_metadata$age_at_diagnosis)] <- \"Unknown\"\n",
    "IPD_metadata$age_class[which(IPD_metadata$age_at_diagnosis < 2)] <- \"Infants\"\n",
    "IPD_metadata$age_class[which(IPD_metadata$age_at_diagnosis > 2 & IPD_metadata$age_at_diagnosis < 12)] <- \"Children\"\n",
    "IPD_metadata$age_class[which(IPD_metadata$age_at_diagnosis > 12 & IPD_metadata$age_at_diagnosis < 16)] <- \"Adolescents\"\n",
    "IPD_metadata$age_class[which(IPD_metadata$age_at_diagnosis > 16 & IPD_metadata$age_at_diagnosis < 25)] <- \"Young adults\"\n",
    "IPD_metadata$age_class[which(IPD_metadata$age_at_diagnosis > 25)] <- \"Adults\""
   ]
  },
  {
   "cell_type": "markdown",
   "metadata": {},
   "source": [
    "Clean up some minor typos"
   ]
  },
  {
   "cell_type": "code",
   "execution_count": 102,
   "metadata": {},
   "outputs": [],
   "source": [
    "IPD_metadata$disease_type[IPD_metadata$disease_type == \"ETMR_\"] <- \"ETMR\"\n",
    "IPD_metadata$disease_type[IPD_metadata$disease_type == \"PA_\"] <- \"PA\"\n",
    "IPD_metadata$disease_type[IPD_metadata$disease_type == \"HGG_K27M_K27M\"] <- \"HGG_K27M\"\n",
    "IPD_metadata$disease_type[IPD_metadata$disease_type == \"MB_WNT_WNT\"] <- \"MB_WNT\"\n",
    "IPD_metadata$disease_type[IPD_metadata$disease_type == \"MB_SHH_SHH\"] <- \"MB_SHH\"\n",
    "IPD_metadata$disease_type[IPD_metadata$disease_type == \"MB_Group3_Group3\"] <- \"MB_Group3\"\n",
    "IPD_metadata$disease_type[IPD_metadata$disease_type == \"MB_Group4_Group4\"] <- \"MB_Group4\""
   ]
  },
  {
   "cell_type": "code",
   "execution_count": 103,
   "metadata": {
    "scrolled": true
   },
   "outputs": [
    {
     "data": {
      "text/plain": [
       "\n",
       " CBTTC   DKFZ TARGET   TCGA \n",
       "   969    199    157   3204 "
      ]
     },
     "metadata": {},
     "output_type": "display_data"
    }
   ],
   "source": [
    "table(IPD_metadata$group)"
   ]
  },
  {
   "cell_type": "code",
   "execution_count": 104,
   "metadata": {},
   "outputs": [
    {
     "data": {
      "text/plain": [
       "\n",
       "  0   1 \n",
       "758 401 "
      ]
     },
     "metadata": {},
     "output_type": "display_data"
    }
   ],
   "source": [
    "table(IPD_metadata$recurrence)"
   ]
  },
  {
   "cell_type": "code",
   "execution_count": 105,
   "metadata": {},
   "outputs": [
    {
     "data": {
      "text/plain": [
       "\n",
       " CBTTC   DKFZ TARGET   TCGA \n",
       "   969    199    157   3204 "
      ]
     },
     "metadata": {},
     "output_type": "display_data"
    }
   ],
   "source": [
    "table(IPD_metadata$group)"
   ]
  },
  {
   "cell_type": "code",
   "execution_count": 106,
   "metadata": {},
   "outputs": [
    {
     "data": {
      "text/plain": [
       "\n",
       "                       Additional Metastatic \n",
       "                                           1 \n",
       "                           Initial CNS Tumor \n",
       "                                         730 \n",
       "                                  Metastatic \n",
       "                                         369 \n",
       "                                     Primary \n",
       "                                         196 \n",
       "                               Primary Tumor \n",
       "                                        2786 \n",
       "                                 Progressive \n",
       "                                         153 \n",
       "                                  Recurrence \n",
       "                                          70 \n",
       "Recurrent Blood Derived Cancer - Bone Marrow \n",
       "                                           1 \n",
       "                             Recurrent Tumor \n",
       "                                          46 \n",
       "                                     Relapse \n",
       "                                           3 \n",
       "                           Second Malignancy \n",
       "                                          16 \n",
       "                         Solid Tissue Normal \n",
       "                                         158 "
      ]
     },
     "metadata": {},
     "output_type": "display_data"
    }
   ],
   "source": [
    "table(IPD_metadata$sample_type)"
   ]
  },
  {
   "cell_type": "code",
   "execution_count": 107,
   "metadata": {},
   "outputs": [],
   "source": [
    "save(IPD_metadata, file = paste0(manifestpath,\"Master_manifest.RData\"))"
   ]
  },
  {
   "cell_type": "code",
   "execution_count": null,
   "metadata": {},
   "outputs": [],
   "source": []
  }
 ],
 "metadata": {
  "kernelspec": {
   "display_name": "R 4.0",
   "language": "R",
   "name": "ir40"
  },
  "language_info": {
   "codemirror_mode": "r",
   "file_extension": ".r",
   "mimetype": "text/x-r-source",
   "name": "R",
   "pygments_lexer": "r",
   "version": "4.0.3"
  },
  "toc": {
   "base_numbering": 1,
   "nav_menu": {},
   "number_sections": false,
   "sideBar": true,
   "skip_h1_title": false,
   "title_cell": "Table of Contents",
   "title_sidebar": "Contents",
   "toc_cell": true,
   "toc_position": {
    "height": "calc(100% - 180px)",
    "left": "10px",
    "top": "150px",
    "width": "248.991px"
   },
   "toc_section_display": true,
   "toc_window_display": true
  }
 },
 "nbformat": 4,
 "nbformat_minor": 2
}
