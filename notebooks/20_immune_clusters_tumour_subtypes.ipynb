{
 "cells": [
  {
   "cell_type": "markdown",
   "metadata": {
    "toc": true
   },
   "source": [
    "<h1>Table of Contents<span class=\"tocSkip\"></span></h1>\n",
    "<div class=\"toc\"><ul class=\"toc-item\"><li><span><a href=\"#Dependencies\" data-toc-modified-id=\"Dependencies-1\">Dependencies</a></span></li><li><span><a href=\"#Functions\" data-toc-modified-id=\"Functions-2\">Functions</a></span></li><li><span><a href=\"#Paths\" data-toc-modified-id=\"Paths-3\">Paths</a></span></li><li><span><a href=\"#Main\" data-toc-modified-id=\"Main-4\">Main</a></span></li></ul></div>"
   ]
  },
  {
   "cell_type": "markdown",
   "metadata": {},
   "source": [
    "# Dependencies"
   ]
  },
  {
   "cell_type": "code",
   "execution_count": 66,
   "metadata": {},
   "outputs": [],
   "source": [
    "options(scipen = 999)"
   ]
  },
  {
   "cell_type": "code",
   "execution_count": 67,
   "metadata": {
    "scrolled": true
   },
   "outputs": [],
   "source": [
    "library(gridExtra)\n",
    "library(grid)\n",
    "library(cowplot)"
   ]
  },
  {
   "cell_type": "markdown",
   "metadata": {},
   "source": [
    "# Functions"
   ]
  },
  {
   "cell_type": "code",
   "execution_count": 68,
   "metadata": {},
   "outputs": [],
   "source": [
    "source(\"~/OneDrive - UHN/R_src/ggplot2_theme.R\")\n",
    "source(\"~/OneDrive - UHN/R_src/Heatmap_functions.R\")\n",
    "source(\"~/OneDrive - UHN/R_src/plotting_functions.R\")\n",
    "source(\"~/OneDrive - UHN/R_src/color_schemes.R\")"
   ]
  },
  {
   "cell_type": "markdown",
   "metadata": {},
   "source": [
    "# Paths"
   ]
  },
  {
   "cell_type": "code",
   "execution_count": 69,
   "metadata": {},
   "outputs": [],
   "source": [
    "datapath <- \"/Users/anabbi/OneDrive - UHN/Documents/IPD2/Data/\"\n",
    "plotpath <- \"/Users/anabbi/OneDrive - UHN/Documents/IPD2/Plots/\""
   ]
  },
  {
   "cell_type": "markdown",
   "metadata": {},
   "source": [
    "# Main"
   ]
  },
  {
   "cell_type": "code",
   "execution_count": 70,
   "metadata": {},
   "outputs": [],
   "source": [
    "load(file = file.path(datapath,\"TME_clusters/IPD_estimate_metadata_IC.RData\"))"
   ]
  },
  {
   "cell_type": "code",
   "execution_count": 71,
   "metadata": {},
   "outputs": [
    {
     "data": {
      "text/plain": [
       "\n",
       "Pediatric inflamed     Myeloid-driven     Pediatric cold    Immune excluded \n",
       "                90                279                393                163 "
      ]
     },
     "metadata": {},
     "output_type": "display_data"
    }
   ],
   "source": [
    "table(metadata_IC$immune_cluster)"
   ]
  },
  {
   "cell_type": "code",
   "execution_count": 72,
   "metadata": {},
   "outputs": [
    {
     "data": {
      "text/plain": [
       "\n",
       "  ATRT     CP    CPH    EPN   ETMR     MB    MNG    NBL    NFB pedHGG pedLGG \n",
       "    30     16     27     65      9    208     13    151     11     83    298 \n",
       "  SCHW \n",
       "    14 "
      ]
     },
     "metadata": {},
     "output_type": "display_data"
    }
   ],
   "source": [
    "table(metadata_IC$cohort)"
   ]
  },
  {
   "cell_type": "code",
   "execution_count": 73,
   "metadata": {
    "scrolled": true
   },
   "outputs": [
    {
     "name": "stderr",
     "output_type": "stream",
     "text": [
      "pedLGG\n",
      "\n",
      "`summarise()` has grouped output by 'tumour_subtype'. You can override using the `.groups` argument.\n",
      "\n"
     ]
    },
    {
     "name": "stdout",
     "output_type": "stream",
     "text": [
      "\u001b[90m# A tibble: 11 x 4\u001b[39m\n",
      "\u001b[90m# Groups:   tumour_subtype [3]\u001b[39m\n",
      "   tumour_subtype immune_cluster         n   freq\n",
      "   \u001b[3m\u001b[90m<chr>\u001b[39m\u001b[23m          \u001b[3m\u001b[90m<fct>\u001b[39m\u001b[23m              \u001b[3m\u001b[90m<int>\u001b[39m\u001b[23m  \u001b[3m\u001b[90m<dbl>\u001b[39m\u001b[23m\n",
      "\u001b[90m 1\u001b[39m BRAF_KIAA1549  Pediatric inflamed     4 0.031\u001b[4m5\u001b[24m\n",
      "\u001b[90m 2\u001b[39m BRAF_KIAA1549  Myeloid-driven        82 0.646 \n",
      "\u001b[90m 3\u001b[39m BRAF_KIAA1549  Pediatric cold        41 0.323 \n",
      "\u001b[90m 4\u001b[39m BRAF_p.V600E   Pediatric inflamed     7 0.219 \n",
      "\u001b[90m 5\u001b[39m BRAF_p.V600E   Myeloid-driven        14 0.438 \n",
      "\u001b[90m 6\u001b[39m BRAF_p.V600E   Pediatric cold         9 0.281 \n",
      "\u001b[90m 7\u001b[39m BRAF_p.V600E   Immune excluded        2 0.062\u001b[4m5\u001b[24m\n",
      "\u001b[90m 8\u001b[39m BRAF_WT        Pediatric inflamed    12 0.086\u001b[4m3\u001b[24m\n",
      "\u001b[90m 9\u001b[39m BRAF_WT        Myeloid-driven        62 0.446 \n",
      "\u001b[90m10\u001b[39m BRAF_WT        Pediatric cold        41 0.295 \n",
      "\u001b[90m11\u001b[39m BRAF_WT        Immune excluded       24 0.173 \n"
     ]
    }
   ],
   "source": [
    "lggp <- subgroup_IC.fx(metadata_IC, \"pedLGG\", \"Purples\")"
   ]
  },
  {
   "cell_type": "code",
   "execution_count": 74,
   "metadata": {},
   "outputs": [
    {
     "name": "stderr",
     "output_type": "stream",
     "text": [
      "pedHGG\n",
      "\n",
      "`summarise()` has grouped output by 'tumour_subtype'. You can override using the `.groups` argument.\n",
      "\n"
     ]
    },
    {
     "name": "stdout",
     "output_type": "stream",
     "text": [
      "\u001b[90m# A tibble: 11 x 4\u001b[39m\n",
      "\u001b[90m# Groups:   tumour_subtype [4]\u001b[39m\n",
      "   tumour_subtype immune_cluster         n   freq\n",
      "   \u001b[3m\u001b[90m<chr>\u001b[39m\u001b[23m          \u001b[3m\u001b[90m<fct>\u001b[39m\u001b[23m              \u001b[3m\u001b[90m<int>\u001b[39m\u001b[23m  \u001b[3m\u001b[90m<dbl>\u001b[39m\u001b[23m\n",
      "\u001b[90m 1\u001b[39m HGG_G34        Pediatric cold         3 1     \n",
      "\u001b[90m 2\u001b[39m HGG_IDH1       Myeloid-driven         2 0.5   \n",
      "\u001b[90m 3\u001b[39m HGG_IDH1       Pediatric cold         2 0.5   \n",
      "\u001b[90m 4\u001b[39m HGG_K27M       Pediatric inflamed     1 0.041\u001b[4m7\u001b[24m\n",
      "\u001b[90m 5\u001b[39m HGG_K27M       Myeloid-driven         5 0.208 \n",
      "\u001b[90m 6\u001b[39m HGG_K27M       Pediatric cold        17 0.708 \n",
      "\u001b[90m 7\u001b[39m HGG_K27M       Immune excluded        1 0.041\u001b[4m7\u001b[24m\n",
      "\u001b[90m 8\u001b[39m HGG_WT         Pediatric inflamed     4 0.076\u001b[4m9\u001b[24m\n",
      "\u001b[90m 9\u001b[39m HGG_WT         Myeloid-driven        12 0.231 \n",
      "\u001b[90m10\u001b[39m HGG_WT         Pediatric cold        28 0.538 \n",
      "\u001b[90m11\u001b[39m HGG_WT         Immune excluded        8 0.154 \n"
     ]
    }
   ],
   "source": [
    "hggp <- subgroup_IC.fx(metadata_IC, \"pedHGG\", \"Oranges\")"
   ]
  },
  {
   "cell_type": "code",
   "execution_count": 75,
   "metadata": {},
   "outputs": [
    {
     "name": "stderr",
     "output_type": "stream",
     "text": [
      "ATRT\n",
      "\n",
      "`summarise()` has grouped output by 'tumour_subtype'. You can override using the `.groups` argument.\n",
      "\n"
     ]
    },
    {
     "name": "stdout",
     "output_type": "stream",
     "text": [
      "\u001b[90m# A tibble: 10 x 4\u001b[39m\n",
      "\u001b[90m# Groups:   tumour_subtype [3]\u001b[39m\n",
      "   tumour_subtype immune_cluster         n   freq\n",
      "   \u001b[3m\u001b[90m<chr>\u001b[39m\u001b[23m          \u001b[3m\u001b[90m<fct>\u001b[39m\u001b[23m              \u001b[3m\u001b[90m<int>\u001b[39m\u001b[23m  \u001b[3m\u001b[90m<dbl>\u001b[39m\u001b[23m\n",
      "\u001b[90m 1\u001b[39m ATRT_MYC       Pediatric inflamed     5 0.455 \n",
      "\u001b[90m 2\u001b[39m ATRT_MYC       Myeloid-driven         4 0.364 \n",
      "\u001b[90m 3\u001b[39m ATRT_MYC       Pediatric cold         2 0.182 \n",
      "\u001b[90m 4\u001b[39m ATRT_SHH       Pediatric inflamed     1 0.083\u001b[4m3\u001b[24m\n",
      "\u001b[90m 5\u001b[39m ATRT_SHH       Pediatric cold         8 0.667 \n",
      "\u001b[90m 6\u001b[39m ATRT_SHH       Immune excluded        3 0.25  \n",
      "\u001b[90m 7\u001b[39m ATRT_TYR       Pediatric inflamed     1 0.143 \n",
      "\u001b[90m 8\u001b[39m ATRT_TYR       Myeloid-driven         1 0.143 \n",
      "\u001b[90m 9\u001b[39m ATRT_TYR       Pediatric cold         3 0.429 \n",
      "\u001b[90m10\u001b[39m ATRT_TYR       Immune excluded        2 0.286 \n"
     ]
    }
   ],
   "source": [
    "atrtp <- subgroup_IC.fx(metadata_IC, \"ATRT\", \"Greens\")"
   ]
  },
  {
   "cell_type": "code",
   "execution_count": 76,
   "metadata": {},
   "outputs": [
    {
     "name": "stderr",
     "output_type": "stream",
     "text": [
      "EPN\n",
      "\n",
      "`summarise()` has grouped output by 'tumour_subtype'. You can override using the `.groups` argument.\n",
      "\n"
     ]
    },
    {
     "name": "stdout",
     "output_type": "stream",
     "text": [
      "\u001b[90m# A tibble: 14 x 4\u001b[39m\n",
      "\u001b[90m# Groups:   tumour_subtype [4]\u001b[39m\n",
      "   tumour_subtype immune_cluster         n   freq\n",
      "   \u001b[3m\u001b[90m<chr>\u001b[39m\u001b[23m          \u001b[3m\u001b[90m<fct>\u001b[39m\u001b[23m              \u001b[3m\u001b[90m<int>\u001b[39m\u001b[23m  \u001b[3m\u001b[90m<dbl>\u001b[39m\u001b[23m\n",
      "\u001b[90m 1\u001b[39m EPN_Fossa      Pediatric inflamed     1 0.05  \n",
      "\u001b[90m 2\u001b[39m EPN_Fossa      Myeloid-driven         2 0.1   \n",
      "\u001b[90m 3\u001b[39m EPN_Fossa      Pediatric cold        16 0.8   \n",
      "\u001b[90m 4\u001b[39m EPN_Fossa      Immune excluded        1 0.05  \n",
      "\u001b[90m 5\u001b[39m EPN_ND         Pediatric cold         1 0.5   \n",
      "\u001b[90m 6\u001b[39m EPN_ND         Immune excluded        1 0.5   \n",
      "\u001b[90m 7\u001b[39m EPN_Spine      Pediatric inflamed     1 0.111 \n",
      "\u001b[90m 8\u001b[39m EPN_Spine      Myeloid-driven         2 0.222 \n",
      "\u001b[90m 9\u001b[39m EPN_Spine      Pediatric cold         5 0.556 \n",
      "\u001b[90m10\u001b[39m EPN_Spine      Immune excluded        1 0.111 \n",
      "\u001b[90m11\u001b[39m EPN_Supra      Pediatric inflamed     2 0.058\u001b[4m8\u001b[24m\n",
      "\u001b[90m12\u001b[39m EPN_Supra      Myeloid-driven         4 0.118 \n",
      "\u001b[90m13\u001b[39m EPN_Supra      Pediatric cold        25 0.735 \n",
      "\u001b[90m14\u001b[39m EPN_Supra      Immune excluded        3 0.088\u001b[4m2\u001b[24m\n"
     ]
    }
   ],
   "source": [
    "epnp <- subgroup_IC.fx(metadata_IC, \"EPN\", \"Reds\")"
   ]
  },
  {
   "cell_type": "code",
   "execution_count": 77,
   "metadata": {},
   "outputs": [
    {
     "name": "stderr",
     "output_type": "stream",
     "text": [
      "MB\n",
      "\n",
      "`summarise()` has grouped output by 'tumour_subtype'. You can override using the `.groups` argument.\n",
      "\n"
     ]
    },
    {
     "name": "stdout",
     "output_type": "stream",
     "text": [
      "\u001b[90m# A tibble: 10 x 4\u001b[39m\n",
      "\u001b[90m# Groups:   tumour_subtype [3]\u001b[39m\n",
      "   tumour_subtype immune_cluster         n    freq\n",
      "   \u001b[3m\u001b[90m<chr>\u001b[39m\u001b[23m          \u001b[3m\u001b[90m<fct>\u001b[39m\u001b[23m              \u001b[3m\u001b[90m<int>\u001b[39m\u001b[23m   \u001b[3m\u001b[90m<dbl>\u001b[39m\u001b[23m\n",
      "\u001b[90m 1\u001b[39m MB_GR34        Pediatric inflamed     1 0.006\u001b[4m5\u001b[24m\u001b[4m8\u001b[24m\n",
      "\u001b[90m 2\u001b[39m MB_GR34        Myeloid-driven         4 0.026\u001b[4m3\u001b[24m \n",
      "\u001b[90m 3\u001b[39m MB_GR34        Pediatric cold        97 0.638  \n",
      "\u001b[90m 4\u001b[39m MB_GR34        Immune excluded       50 0.329  \n",
      "\u001b[90m 5\u001b[39m MB_SHH         Myeloid-driven         4 0.111  \n",
      "\u001b[90m 6\u001b[39m MB_SHH         Pediatric cold        28 0.778  \n",
      "\u001b[90m 7\u001b[39m MB_SHH         Immune excluded        4 0.111  \n",
      "\u001b[90m 8\u001b[39m MB_WNT         Myeloid-driven         1 0.05   \n",
      "\u001b[90m 9\u001b[39m MB_WNT         Pediatric cold        11 0.55   \n",
      "\u001b[90m10\u001b[39m MB_WNT         Immune excluded        8 0.4    \n"
     ]
    }
   ],
   "source": [
    "mbp <- subgroup_IC.fx(metadata_IC, \"MB\", \"Blues\")"
   ]
  },
  {
   "cell_type": "code",
   "execution_count": 78,
   "metadata": {},
   "outputs": [
    {
     "name": "stderr",
     "output_type": "stream",
     "text": [
      "NBL\n",
      "\n",
      "`summarise()` has grouped output by 'tumour_subtype'. You can override using the `.groups` argument.\n",
      "\n"
     ]
    },
    {
     "name": "stdout",
     "output_type": "stream",
     "text": [
      "\u001b[90m# A tibble: 10 x 4\u001b[39m\n",
      "\u001b[90m# Groups:   tumour_subtype [3]\u001b[39m\n",
      "   tumour_subtype immune_cluster         n   freq\n",
      "   \u001b[3m\u001b[90m<chr>\u001b[39m\u001b[23m          \u001b[3m\u001b[90m<fct>\u001b[39m\u001b[23m              \u001b[3m\u001b[90m<int>\u001b[39m\u001b[23m  \u001b[3m\u001b[90m<dbl>\u001b[39m\u001b[23m\n",
      "\u001b[90m 1\u001b[39m NBL_MYCA       Pediatric inflamed     3 0.096\u001b[4m8\u001b[24m\n",
      "\u001b[90m 2\u001b[39m NBL_MYCA       Myeloid-driven         2 0.064\u001b[4m5\u001b[24m\n",
      "\u001b[90m 3\u001b[39m NBL_MYCA       Pediatric cold        10 0.323 \n",
      "\u001b[90m 4\u001b[39m NBL_MYCA       Immune excluded       16 0.516 \n",
      "\u001b[90m 5\u001b[39m NBL_MYCNA      Pediatric inflamed    17 0.145 \n",
      "\u001b[90m 6\u001b[39m NBL_MYCNA      Myeloid-driven        41 0.350 \n",
      "\u001b[90m 7\u001b[39m NBL_MYCNA      Pediatric cold        26 0.222 \n",
      "\u001b[90m 8\u001b[39m NBL_MYCNA      Immune excluded       33 0.282 \n",
      "\u001b[90m 9\u001b[39m NBL_ND         Pediatric inflamed     1 0.333 \n",
      "\u001b[90m10\u001b[39m NBL_ND         Myeloid-driven         2 0.667 \n"
     ]
    }
   ],
   "source": [
    "nblp <- subgroup_IC.fx(metadata_IC, \"NBL\", \"GnBu\")"
   ]
  },
  {
   "cell_type": "code",
   "execution_count": 79,
   "metadata": {},
   "outputs": [],
   "source": [
    "p1 <- plot_grid(atrtp+ ggtitle(expression(~underline(\"ATRT\"))),\n",
    "                epnp + ggtitle(expression(~underline(\"EPN\"))),\n",
    "                hggp+ ggtitle(expression(~underline(\"pedHGG\"))),\n",
    "                nblp + ggtitle(expression(~underline(\"NBL\"))), \n",
    "                mbp+ ggtitle(expression(~underline(\"MB\"))), \n",
    "                lggp+ ggtitle(expression(~underline(\"pedLGG\"))),\n",
    "                nrow=1 ,\n",
    "                align=\"h\")"
   ]
  },
  {
   "cell_type": "code",
   "execution_count": 80,
   "metadata": {},
   "outputs": [
    {
     "data": {
      "text/html": [
       "<strong>pdf:</strong> 2"
      ],
      "text/latex": [
       "\\textbf{pdf:} 2"
      ],
      "text/markdown": [
       "**pdf:** 2"
      ],
      "text/plain": [
       "pdf \n",
       "  2 "
      ]
     },
     "metadata": {},
     "output_type": "display_data"
    }
   ],
   "source": [
    "pdf(paste0(plotpath, \"IPD_clusters_tumour_subgroups.pdf\"),\n",
    "      width = 50, height = 15, useDingbats = FALSE)\n",
    "\n",
    "p1\n",
    "\n",
    "dev.off()"
   ]
  },
  {
   "cell_type": "code",
   "execution_count": null,
   "metadata": {},
   "outputs": [],
   "source": []
  }
 ],
 "metadata": {
  "kernelspec": {
   "display_name": "R 4.0",
   "language": "R",
   "name": "ir40"
  },
  "language_info": {
   "codemirror_mode": "r",
   "file_extension": ".r",
   "mimetype": "text/x-r-source",
   "name": "R",
   "pygments_lexer": "r",
   "version": "4.0.3"
  },
  "toc": {
   "base_numbering": 1,
   "nav_menu": {},
   "number_sections": false,
   "sideBar": true,
   "skip_h1_title": false,
   "title_cell": "Table of Contents",
   "title_sidebar": "Contents",
   "toc_cell": true,
   "toc_position": {
    "height": "calc(100% - 180px)",
    "left": "10px",
    "top": "150px",
    "width": "280px"
   },
   "toc_section_display": true,
   "toc_window_display": true
  }
 },
 "nbformat": 4,
 "nbformat_minor": 2
}
