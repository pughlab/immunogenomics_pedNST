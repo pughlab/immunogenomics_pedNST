{
 "cells": [
  {
   "cell_type": "markdown",
   "metadata": {
    "toc": true
   },
   "source": [
    "<h1>Table of Contents<span class=\"tocSkip\"></span></h1>\n",
    "<div class=\"toc\"><ul class=\"toc-item\"><li><span><a href=\"#Dependencies\" data-toc-modified-id=\"Dependencies-1\">Dependencies</a></span></li><li><span><a href=\"#Functions\" data-toc-modified-id=\"Functions-2\">Functions</a></span></li><li><span><a href=\"#Paths\" data-toc-modified-id=\"Paths-3\">Paths</a></span></li><li><span><a href=\"#Main\" data-toc-modified-id=\"Main-4\">Main</a></span></li></ul></div>"
   ]
  },
  {
   "cell_type": "markdown",
   "metadata": {},
   "source": [
    "# Dependencies"
   ]
  },
  {
   "cell_type": "code",
   "execution_count": 1,
   "metadata": {},
   "outputs": [],
   "source": [
    "options(scipen = 999)"
   ]
  },
  {
   "cell_type": "code",
   "execution_count": 2,
   "metadata": {
    "scrolled": true
   },
   "outputs": [],
   "source": [
    "library(gridExtra)\n",
    "library(grid)\n",
    "library(cowplot)"
   ]
  },
  {
   "cell_type": "markdown",
   "metadata": {},
   "source": [
    "# Functions"
   ]
  },
  {
   "cell_type": "code",
   "execution_count": 3,
   "metadata": {},
   "outputs": [
    {
     "name": "stderr",
     "output_type": "stream",
     "text": [
      "========================================\n",
      "ComplexHeatmap version 2.6.2\n",
      "Bioconductor page: http://bioconductor.org/packages/ComplexHeatmap/\n",
      "Github page: https://github.com/jokergoo/ComplexHeatmap\n",
      "Documentation: http://jokergoo.github.io/ComplexHeatmap-reference\n",
      "\n",
      "If you use it in published research, please cite:\n",
      "Gu, Z. Complex heatmaps reveal patterns and correlations in multidimensional \n",
      "  genomic data. Bioinformatics 2016.\n",
      "\n",
      "This message can be suppressed by:\n",
      "  suppressPackageStartupMessages(library(ComplexHeatmap))\n",
      "========================================\n",
      "\n",
      "\n",
      "========================================\n",
      "circlize version 0.4.12\n",
      "CRAN page: https://cran.r-project.org/package=circlize\n",
      "Github page: https://github.com/jokergoo/circlize\n",
      "Documentation: https://jokergoo.github.io/circlize_book/book/\n",
      "\n",
      "If you use it in published research, please cite:\n",
      "Gu, Z. circlize implements and enhances circular visualization\n",
      "  in R. Bioinformatics 2014.\n",
      "\n",
      "This message can be suppressed by:\n",
      "  suppressPackageStartupMessages(library(circlize))\n",
      "========================================\n",
      "\n",
      "\n",
      "\n",
      "Attaching package: ‘dplyr’\n",
      "\n",
      "\n",
      "The following object is masked from ‘package:gridExtra’:\n",
      "\n",
      "    combine\n",
      "\n",
      "\n",
      "The following objects are masked from ‘package:stats’:\n",
      "\n",
      "    filter, lag\n",
      "\n",
      "\n",
      "The following objects are masked from ‘package:base’:\n",
      "\n",
      "    intersect, setdiff, setequal, union\n",
      "\n",
      "\n"
     ]
    }
   ],
   "source": [
    "source(\"~/OneDrive - UHN/R_src/ggplot2_theme.R\")\n",
    "source(\"~/OneDrive - UHN/R_src/Heatmap_functions.R\")\n",
    "source(\"~/OneDrive - UHN/R_src/plotting_functions.R\")\n",
    "source(\"~/OneDrive - UHN/R_src/color_schemes.R\")"
   ]
  },
  {
   "cell_type": "markdown",
   "metadata": {},
   "source": [
    "# Paths"
   ]
  },
  {
   "cell_type": "code",
   "execution_count": 4,
   "metadata": {},
   "outputs": [],
   "source": [
    "datapath <- \"/Users/anabbi/OneDrive - UHN/Documents/IPD2/Data/\"\n",
    "plotpath <- \"/Users/anabbi/OneDrive - UHN/Documents/IPD2/Plots/\""
   ]
  },
  {
   "cell_type": "markdown",
   "metadata": {},
   "source": [
    "# Main"
   ]
  },
  {
   "cell_type": "code",
   "execution_count": 5,
   "metadata": {},
   "outputs": [],
   "source": [
    "load(file = file.path(datapath,\"TME_clusters/IPD_estimate_metadata_IC.RData\"))"
   ]
  },
  {
   "cell_type": "code",
   "execution_count": 6,
   "metadata": {},
   "outputs": [
    {
     "data": {
      "text/plain": [
       "\n",
       "     ATRT_MYC      ATRT_SHH      ATRT_TYR BRAF_KIAA1549  BRAF_p.V600E \n",
       "           11            12             7           127            32 \n",
       "      BRAF_WT     EPN_Fossa        EPN_ND     EPN_Spine     EPN_Supra \n",
       "          139            20             2             9            34 \n",
       "      HGG_G34      HGG_IDH1      HGG_K27M        HGG_WT       MB_GR34 \n",
       "            3             4            24            52           152 \n",
       "       MB_SHH        MB_WNT      NBL_MYCA     NBL_MYCNA        NBL_ND \n",
       "           36            20            31           117             3 "
      ]
     },
     "metadata": {},
     "output_type": "display_data"
    }
   ],
   "source": [
    "table(metadata_IC$tumour_subtype)"
   ]
  },
  {
   "cell_type": "code",
   "execution_count": 7,
   "metadata": {},
   "outputs": [
    {
     "data": {
      "text/plain": [
       "\n",
       "  ATRT     CP    CPH    EPN   ETMR     MB    MNG    NBL    NFB pedHGG pedLGG \n",
       "    30     16     27     65      9    208     13    151     11     83    298 \n",
       "  SCHW \n",
       "    14 "
      ]
     },
     "metadata": {},
     "output_type": "display_data"
    }
   ],
   "source": [
    "table(metadata_IC$cohort)"
   ]
  },
  {
   "cell_type": "code",
   "execution_count": 8,
   "metadata": {},
   "outputs": [
    {
     "name": "stderr",
     "output_type": "stream",
     "text": [
      "pedLGG\n",
      "\n",
      "`summarise()` has grouped output by 'tumour_subtype'. You can override using the `.groups` argument.\n",
      "\n"
     ]
    },
    {
     "name": "stdout",
     "output_type": "stream",
     "text": [
      "\u001b[90m# A tibble: 11 x 4\u001b[39m\n",
      "\u001b[90m# Groups:   tumour_subtype [3]\u001b[39m\n",
      "   tumour_subtype immune_cluster     n   freq\n",
      "   \u001b[3m\u001b[90m<chr>\u001b[39m\u001b[23m          \u001b[3m\u001b[90m<chr>\u001b[39m\u001b[23m          \u001b[3m\u001b[90m<int>\u001b[39m\u001b[23m  \u001b[3m\u001b[90m<dbl>\u001b[39m\u001b[23m\n",
      "\u001b[90m 1\u001b[39m BRAF_KIAA1549  C1                 4 0.031\u001b[4m5\u001b[24m\n",
      "\u001b[90m 2\u001b[39m BRAF_KIAA1549  C2                82 0.646 \n",
      "\u001b[90m 3\u001b[39m BRAF_KIAA1549  C3                41 0.323 \n",
      "\u001b[90m 4\u001b[39m BRAF_p.V600E   C1                 7 0.219 \n",
      "\u001b[90m 5\u001b[39m BRAF_p.V600E   C2                14 0.438 \n",
      "\u001b[90m 6\u001b[39m BRAF_p.V600E   C3                 9 0.281 \n",
      "\u001b[90m 7\u001b[39m BRAF_p.V600E   C4                 2 0.062\u001b[4m5\u001b[24m\n",
      "\u001b[90m 8\u001b[39m BRAF_WT        C1                12 0.086\u001b[4m3\u001b[24m\n",
      "\u001b[90m 9\u001b[39m BRAF_WT        C2                62 0.446 \n",
      "\u001b[90m10\u001b[39m BRAF_WT        C3                41 0.295 \n",
      "\u001b[90m11\u001b[39m BRAF_WT        C4                24 0.173 \n"
     ]
    }
   ],
   "source": [
    "lggp <- subgroup_IC.fx(metadata_IC, \"pedLGG\", \"Purples\")"
   ]
  },
  {
   "cell_type": "code",
   "execution_count": 9,
   "metadata": {},
   "outputs": [
    {
     "name": "stderr",
     "output_type": "stream",
     "text": [
      "pedHGG\n",
      "\n",
      "`summarise()` has grouped output by 'tumour_subtype'. You can override using the `.groups` argument.\n",
      "\n"
     ]
    },
    {
     "name": "stdout",
     "output_type": "stream",
     "text": [
      "\u001b[90m# A tibble: 11 x 4\u001b[39m\n",
      "\u001b[90m# Groups:   tumour_subtype [4]\u001b[39m\n",
      "   tumour_subtype immune_cluster     n   freq\n",
      "   \u001b[3m\u001b[90m<chr>\u001b[39m\u001b[23m          \u001b[3m\u001b[90m<chr>\u001b[39m\u001b[23m          \u001b[3m\u001b[90m<int>\u001b[39m\u001b[23m  \u001b[3m\u001b[90m<dbl>\u001b[39m\u001b[23m\n",
      "\u001b[90m 1\u001b[39m HGG_G34        C3                 3 1     \n",
      "\u001b[90m 2\u001b[39m HGG_IDH1       C2                 2 0.5   \n",
      "\u001b[90m 3\u001b[39m HGG_IDH1       C3                 2 0.5   \n",
      "\u001b[90m 4\u001b[39m HGG_K27M       C1                 1 0.041\u001b[4m7\u001b[24m\n",
      "\u001b[90m 5\u001b[39m HGG_K27M       C2                 5 0.208 \n",
      "\u001b[90m 6\u001b[39m HGG_K27M       C3                17 0.708 \n",
      "\u001b[90m 7\u001b[39m HGG_K27M       C4                 1 0.041\u001b[4m7\u001b[24m\n",
      "\u001b[90m 8\u001b[39m HGG_WT         C1                 4 0.076\u001b[4m9\u001b[24m\n",
      "\u001b[90m 9\u001b[39m HGG_WT         C2                12 0.231 \n",
      "\u001b[90m10\u001b[39m HGG_WT         C3                28 0.538 \n",
      "\u001b[90m11\u001b[39m HGG_WT         C4                 8 0.154 \n"
     ]
    }
   ],
   "source": [
    "hggp <- subgroup_IC.fx(metadata_IC, \"pedHGG\", \"Oranges\")"
   ]
  },
  {
   "cell_type": "code",
   "execution_count": 10,
   "metadata": {},
   "outputs": [
    {
     "name": "stderr",
     "output_type": "stream",
     "text": [
      "ATRT\n",
      "\n",
      "`summarise()` has grouped output by 'tumour_subtype'. You can override using the `.groups` argument.\n",
      "\n"
     ]
    },
    {
     "name": "stdout",
     "output_type": "stream",
     "text": [
      "\u001b[90m# A tibble: 10 x 4\u001b[39m\n",
      "\u001b[90m# Groups:   tumour_subtype [3]\u001b[39m\n",
      "   tumour_subtype immune_cluster     n   freq\n",
      "   \u001b[3m\u001b[90m<chr>\u001b[39m\u001b[23m          \u001b[3m\u001b[90m<chr>\u001b[39m\u001b[23m          \u001b[3m\u001b[90m<int>\u001b[39m\u001b[23m  \u001b[3m\u001b[90m<dbl>\u001b[39m\u001b[23m\n",
      "\u001b[90m 1\u001b[39m ATRT_MYC       C1                 5 0.455 \n",
      "\u001b[90m 2\u001b[39m ATRT_MYC       C2                 4 0.364 \n",
      "\u001b[90m 3\u001b[39m ATRT_MYC       C3                 2 0.182 \n",
      "\u001b[90m 4\u001b[39m ATRT_SHH       C1                 1 0.083\u001b[4m3\u001b[24m\n",
      "\u001b[90m 5\u001b[39m ATRT_SHH       C3                 8 0.667 \n",
      "\u001b[90m 6\u001b[39m ATRT_SHH       C4                 3 0.25  \n",
      "\u001b[90m 7\u001b[39m ATRT_TYR       C1                 1 0.143 \n",
      "\u001b[90m 8\u001b[39m ATRT_TYR       C2                 1 0.143 \n",
      "\u001b[90m 9\u001b[39m ATRT_TYR       C3                 3 0.429 \n",
      "\u001b[90m10\u001b[39m ATRT_TYR       C4                 2 0.286 \n"
     ]
    }
   ],
   "source": [
    "atrtp <- subgroup_IC.fx(metadata_IC, \"ATRT\", \"Greens\")"
   ]
  },
  {
   "cell_type": "code",
   "execution_count": 11,
   "metadata": {},
   "outputs": [
    {
     "name": "stderr",
     "output_type": "stream",
     "text": [
      "EPN\n",
      "\n",
      "`summarise()` has grouped output by 'tumour_subtype'. You can override using the `.groups` argument.\n",
      "\n"
     ]
    },
    {
     "name": "stdout",
     "output_type": "stream",
     "text": [
      "\u001b[90m# A tibble: 14 x 4\u001b[39m\n",
      "\u001b[90m# Groups:   tumour_subtype [4]\u001b[39m\n",
      "   tumour_subtype immune_cluster     n   freq\n",
      "   \u001b[3m\u001b[90m<chr>\u001b[39m\u001b[23m          \u001b[3m\u001b[90m<chr>\u001b[39m\u001b[23m          \u001b[3m\u001b[90m<int>\u001b[39m\u001b[23m  \u001b[3m\u001b[90m<dbl>\u001b[39m\u001b[23m\n",
      "\u001b[90m 1\u001b[39m EPN_Fossa      C1                 1 0.05  \n",
      "\u001b[90m 2\u001b[39m EPN_Fossa      C2                 2 0.1   \n",
      "\u001b[90m 3\u001b[39m EPN_Fossa      C3                16 0.8   \n",
      "\u001b[90m 4\u001b[39m EPN_Fossa      C4                 1 0.05  \n",
      "\u001b[90m 5\u001b[39m EPN_ND         C3                 1 0.5   \n",
      "\u001b[90m 6\u001b[39m EPN_ND         C4                 1 0.5   \n",
      "\u001b[90m 7\u001b[39m EPN_Spine      C1                 1 0.111 \n",
      "\u001b[90m 8\u001b[39m EPN_Spine      C2                 2 0.222 \n",
      "\u001b[90m 9\u001b[39m EPN_Spine      C3                 5 0.556 \n",
      "\u001b[90m10\u001b[39m EPN_Spine      C4                 1 0.111 \n",
      "\u001b[90m11\u001b[39m EPN_Supra      C1                 2 0.058\u001b[4m8\u001b[24m\n",
      "\u001b[90m12\u001b[39m EPN_Supra      C2                 4 0.118 \n",
      "\u001b[90m13\u001b[39m EPN_Supra      C3                25 0.735 \n",
      "\u001b[90m14\u001b[39m EPN_Supra      C4                 3 0.088\u001b[4m2\u001b[24m\n"
     ]
    }
   ],
   "source": [
    "epnp <- subgroup_IC.fx(metadata_IC, \"EPN\", \"Reds\")"
   ]
  },
  {
   "cell_type": "code",
   "execution_count": 12,
   "metadata": {},
   "outputs": [
    {
     "name": "stderr",
     "output_type": "stream",
     "text": [
      "MB\n",
      "\n",
      "`summarise()` has grouped output by 'tumour_subtype'. You can override using the `.groups` argument.\n",
      "\n"
     ]
    },
    {
     "name": "stdout",
     "output_type": "stream",
     "text": [
      "\u001b[90m# A tibble: 10 x 4\u001b[39m\n",
      "\u001b[90m# Groups:   tumour_subtype [3]\u001b[39m\n",
      "   tumour_subtype immune_cluster     n    freq\n",
      "   \u001b[3m\u001b[90m<chr>\u001b[39m\u001b[23m          \u001b[3m\u001b[90m<chr>\u001b[39m\u001b[23m          \u001b[3m\u001b[90m<int>\u001b[39m\u001b[23m   \u001b[3m\u001b[90m<dbl>\u001b[39m\u001b[23m\n",
      "\u001b[90m 1\u001b[39m MB_GR34        C1                 1 0.006\u001b[4m5\u001b[24m\u001b[4m8\u001b[24m\n",
      "\u001b[90m 2\u001b[39m MB_GR34        C2                 4 0.026\u001b[4m3\u001b[24m \n",
      "\u001b[90m 3\u001b[39m MB_GR34        C3                97 0.638  \n",
      "\u001b[90m 4\u001b[39m MB_GR34        C4                50 0.329  \n",
      "\u001b[90m 5\u001b[39m MB_SHH         C2                 4 0.111  \n",
      "\u001b[90m 6\u001b[39m MB_SHH         C3                28 0.778  \n",
      "\u001b[90m 7\u001b[39m MB_SHH         C4                 4 0.111  \n",
      "\u001b[90m 8\u001b[39m MB_WNT         C2                 1 0.05   \n",
      "\u001b[90m 9\u001b[39m MB_WNT         C3                11 0.55   \n",
      "\u001b[90m10\u001b[39m MB_WNT         C4                 8 0.4    \n"
     ]
    }
   ],
   "source": [
    "mbp <- subgroup_IC.fx(metadata_IC, \"MB\", \"Blues\")"
   ]
  },
  {
   "cell_type": "code",
   "execution_count": 13,
   "metadata": {},
   "outputs": [
    {
     "name": "stderr",
     "output_type": "stream",
     "text": [
      "NBL\n",
      "\n",
      "`summarise()` has grouped output by 'tumour_subtype'. You can override using the `.groups` argument.\n",
      "\n"
     ]
    },
    {
     "name": "stdout",
     "output_type": "stream",
     "text": [
      "\u001b[90m# A tibble: 10 x 4\u001b[39m\n",
      "\u001b[90m# Groups:   tumour_subtype [3]\u001b[39m\n",
      "   tumour_subtype immune_cluster     n   freq\n",
      "   \u001b[3m\u001b[90m<chr>\u001b[39m\u001b[23m          \u001b[3m\u001b[90m<chr>\u001b[39m\u001b[23m          \u001b[3m\u001b[90m<int>\u001b[39m\u001b[23m  \u001b[3m\u001b[90m<dbl>\u001b[39m\u001b[23m\n",
      "\u001b[90m 1\u001b[39m NBL_MYCA       C1                 3 0.096\u001b[4m8\u001b[24m\n",
      "\u001b[90m 2\u001b[39m NBL_MYCA       C2                 2 0.064\u001b[4m5\u001b[24m\n",
      "\u001b[90m 3\u001b[39m NBL_MYCA       C3                10 0.323 \n",
      "\u001b[90m 4\u001b[39m NBL_MYCA       C4                16 0.516 \n",
      "\u001b[90m 5\u001b[39m NBL_MYCNA      C1                17 0.145 \n",
      "\u001b[90m 6\u001b[39m NBL_MYCNA      C2                41 0.350 \n",
      "\u001b[90m 7\u001b[39m NBL_MYCNA      C3                26 0.222 \n",
      "\u001b[90m 8\u001b[39m NBL_MYCNA      C4                33 0.282 \n",
      "\u001b[90m 9\u001b[39m NBL_ND         C1                 1 0.333 \n",
      "\u001b[90m10\u001b[39m NBL_ND         C2                 2 0.667 \n"
     ]
    }
   ],
   "source": [
    "nblp <- subgroup_IC.fx(metadata_IC, \"NBL\", \"GnBu\")"
   ]
  },
  {
   "cell_type": "code",
   "execution_count": 14,
   "metadata": {},
   "outputs": [],
   "source": [
    "p1 <- plot_grid(atrtp+ labs(y = \"counts\", title = \"ATRT\"),\n",
    "                epnp+ labs(y = \"counts\", title = \"EPN\"),\n",
    "                hggp+ labs(y = \"counts\", title = \"pedHGG\"),\n",
    "                nblp + labs(y = \"counts\", title = \"NBL\"), \n",
    "                mbp+ labs(y = \"counts\", title = \"MB\"), \n",
    "                lggp+ labs(y = \"counts\", title = \"pedLGG\"),\n",
    "                nrow=1 ,\n",
    "                align=\"h\")"
   ]
  },
  {
   "cell_type": "code",
   "execution_count": 15,
   "metadata": {},
   "outputs": [
    {
     "data": {
      "text/html": [
       "<strong>pdf:</strong> 2"
      ],
      "text/latex": [
       "\\textbf{pdf:} 2"
      ],
      "text/markdown": [
       "**pdf:** 2"
      ],
      "text/plain": [
       "pdf \n",
       "  2 "
      ]
     },
     "metadata": {},
     "output_type": "display_data"
    }
   ],
   "source": [
    "pdf(paste0(plotpath, \"IPD_clusters_tumour_subgroups.pdf\"),\n",
    "      width = 50, height = 15, useDingbats = FALSE)\n",
    "\n",
    "p1\n",
    "\n",
    "dev.off()"
   ]
  },
  {
   "cell_type": "code",
   "execution_count": null,
   "metadata": {},
   "outputs": [],
   "source": []
  }
 ],
 "metadata": {
  "kernelspec": {
   "display_name": "R 4.0",
   "language": "R",
   "name": "ir40"
  },
  "language_info": {
   "codemirror_mode": "r",
   "file_extension": ".r",
   "mimetype": "text/x-r-source",
   "name": "R",
   "pygments_lexer": "r",
   "version": "4.0.3"
  },
  "toc": {
   "base_numbering": 1,
   "nav_menu": {},
   "number_sections": false,
   "sideBar": true,
   "skip_h1_title": false,
   "title_cell": "Table of Contents",
   "title_sidebar": "Contents",
   "toc_cell": true,
   "toc_position": {
    "height": "calc(100% - 180px)",
    "left": "10px",
    "top": "150px",
    "width": "280px"
   },
   "toc_section_display": true,
   "toc_window_display": true
  }
 },
 "nbformat": 4,
 "nbformat_minor": 2
}
