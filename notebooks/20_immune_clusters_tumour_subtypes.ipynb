{
 "cells": [
  {
   "cell_type": "markdown",
   "metadata": {
    "toc": true
   },
   "source": [
    "<h1>Table of Contents<span class=\"tocSkip\"></span></h1>\n",
    "<div class=\"toc\"><ul class=\"toc-item\"><li><span><a href=\"#Dependencies\" data-toc-modified-id=\"Dependencies-1\">Dependencies</a></span></li><li><span><a href=\"#Functions\" data-toc-modified-id=\"Functions-2\">Functions</a></span></li><li><span><a href=\"#Paths\" data-toc-modified-id=\"Paths-3\">Paths</a></span></li><li><span><a href=\"#Main\" data-toc-modified-id=\"Main-4\">Main</a></span></li></ul></div>"
   ]
  },
  {
   "cell_type": "markdown",
   "metadata": {},
   "source": [
    "# Dependencies"
   ]
  },
  {
   "cell_type": "code",
   "execution_count": 1,
   "metadata": {},
   "outputs": [],
   "source": [
    "options(scipen = 999)"
   ]
  },
  {
   "cell_type": "code",
   "execution_count": 2,
   "metadata": {
    "scrolled": true
   },
   "outputs": [],
   "source": [
    "library(gridExtra)\n",
    "library(grid)"
   ]
  },
  {
   "cell_type": "markdown",
   "metadata": {},
   "source": [
    "# Functions"
   ]
  },
  {
   "cell_type": "code",
   "execution_count": 3,
   "metadata": {},
   "outputs": [
    {
     "name": "stderr",
     "output_type": "stream",
     "text": [
      "========================================\n",
      "ComplexHeatmap version 2.6.2\n",
      "Bioconductor page: http://bioconductor.org/packages/ComplexHeatmap/\n",
      "Github page: https://github.com/jokergoo/ComplexHeatmap\n",
      "Documentation: http://jokergoo.github.io/ComplexHeatmap-reference\n",
      "\n",
      "If you use it in published research, please cite:\n",
      "Gu, Z. Complex heatmaps reveal patterns and correlations in multidimensional \n",
      "  genomic data. Bioinformatics 2016.\n",
      "\n",
      "This message can be suppressed by:\n",
      "  suppressPackageStartupMessages(library(ComplexHeatmap))\n",
      "========================================\n",
      "\n",
      "\n",
      "========================================\n",
      "circlize version 0.4.12\n",
      "CRAN page: https://cran.r-project.org/package=circlize\n",
      "Github page: https://github.com/jokergoo/circlize\n",
      "Documentation: https://jokergoo.github.io/circlize_book/book/\n",
      "\n",
      "If you use it in published research, please cite:\n",
      "Gu, Z. circlize implements and enhances circular visualization\n",
      "  in R. Bioinformatics 2014.\n",
      "\n",
      "This message can be suppressed by:\n",
      "  suppressPackageStartupMessages(library(circlize))\n",
      "========================================\n",
      "\n",
      "\n"
     ]
    }
   ],
   "source": [
    "source(\"~/OneDrive - UHN/R_src/ggplot2_theme.R\")\n",
    "source(\"~/OneDrive - UHN/R_src/Heatmap_functions.R\")\n",
    "source(\"~/OneDrive - UHN/R_src/plotting_functions.R\")\n",
    "source(\"~/OneDrive - UHN/R_src/color_schemes.R\")"
   ]
  },
  {
   "cell_type": "markdown",
   "metadata": {},
   "source": [
    "# Paths"
   ]
  },
  {
   "cell_type": "code",
   "execution_count": 4,
   "metadata": {},
   "outputs": [],
   "source": [
    "datapath <- \"/Users/anabbi/OneDrive - UHN/Documents/IPD2/Data/\"\n",
    "plotpath <- \"/Users/anabbi/OneDrive - UHN/Documents/IPD2/Plots/\""
   ]
  },
  {
   "cell_type": "markdown",
   "metadata": {},
   "source": [
    "# Main"
   ]
  },
  {
   "cell_type": "code",
   "execution_count": 5,
   "metadata": {},
   "outputs": [],
   "source": [
    "load(file = file.path(datapath,\"TME_clusters/IPD_estimate_metadata_IC.RData\"))"
   ]
  },
  {
   "cell_type": "code",
   "execution_count": 6,
   "metadata": {},
   "outputs": [],
   "source": [
    "  mytumour <- metadata_IC[metadata_IC$cohort == \"pedHGG\",]\n",
    "  tumour_tab <- as.data.frame(table(mytumour$tumour_subtype, mytumour$immune_cluster),\n",
    "                              stringsAsFactors = F)"
   ]
  },
  {
   "cell_type": "code",
   "execution_count": 7,
   "metadata": {},
   "outputs": [
    {
     "name": "stderr",
     "output_type": "stream",
     "text": [
      "pedLGG\n",
      "\n"
     ]
    },
    {
     "name": "stdout",
     "output_type": "stream",
     "text": [
      "            Var1 Var2 Freq\n",
      "1  BRAF_KIAA1549   C1    3\n",
      "2   BRAF_p.V600E   C1    5\n",
      "3        BRAF_WT   C1   11\n",
      "4  BRAF_KIAA1549   C2   84\n",
      "5   BRAF_p.V600E   C2   16\n",
      "6        BRAF_WT   C2   62\n",
      "7  BRAF_KIAA1549   C3   40\n",
      "8   BRAF_p.V600E   C3    8\n",
      "9        BRAF_WT   C3   40\n",
      "10 BRAF_KIAA1549   C4    0\n",
      "11  BRAF_p.V600E   C4    3\n",
      "12       BRAF_WT   C4   26\n"
     ]
    },
    {
     "data": {
      "text/html": [
       "<strong>pdf:</strong> 2"
      ],
      "text/latex": [
       "\\textbf{pdf:} 2"
      ],
      "text/markdown": [
       "**pdf:** 2"
      ],
      "text/plain": [
       "pdf \n",
       "  2 "
      ]
     },
     "metadata": {},
     "output_type": "display_data"
    }
   ],
   "source": [
    "subgroup_IC.fx(metadata_IC, \"pedLGG\", \"Purples\")"
   ]
  },
  {
   "cell_type": "code",
   "execution_count": 8,
   "metadata": {},
   "outputs": [
    {
     "name": "stderr",
     "output_type": "stream",
     "text": [
      "pedHGG\n",
      "\n"
     ]
    },
    {
     "name": "stdout",
     "output_type": "stream",
     "text": [
      "       Var1 Var2 Freq\n",
      "1   HGG_G34   C1    0\n",
      "2  HGG_IDH1   C1    0\n",
      "3  HGG_K27M   C1    1\n",
      "4    HGG_WT   C1    4\n",
      "5   HGG_G34   C2    0\n",
      "6  HGG_IDH1   C2    2\n",
      "7  HGG_K27M   C2    4\n",
      "8    HGG_WT   C2   11\n",
      "9   HGG_G34   C3    2\n",
      "10 HGG_IDH1   C3    2\n",
      "11 HGG_K27M   C3   17\n",
      "12   HGG_WT   C3   28\n",
      "13  HGG_G34   C4    1\n",
      "14 HGG_IDH1   C4    0\n",
      "15 HGG_K27M   C4    2\n",
      "16   HGG_WT   C4    9\n"
     ]
    },
    {
     "data": {
      "text/html": [
       "<strong>pdf:</strong> 2"
      ],
      "text/latex": [
       "\\textbf{pdf:} 2"
      ],
      "text/markdown": [
       "**pdf:** 2"
      ],
      "text/plain": [
       "pdf \n",
       "  2 "
      ]
     },
     "metadata": {},
     "output_type": "display_data"
    }
   ],
   "source": [
    "subgroup_IC.fx(metadata_IC, \"pedHGG\", \"Oranges\")"
   ]
  },
  {
   "cell_type": "code",
   "execution_count": 9,
   "metadata": {},
   "outputs": [
    {
     "name": "stderr",
     "output_type": "stream",
     "text": [
      "ATRT\n",
      "\n"
     ]
    },
    {
     "name": "stdout",
     "output_type": "stream",
     "text": [
      "       Var1 Var2 Freq\n",
      "1  ATRT_MYC   C1    5\n",
      "2  ATRT_SHH   C1    1\n",
      "3  ATRT_TYR   C1    1\n",
      "4  ATRT_MYC   C2    4\n",
      "5  ATRT_SHH   C2    0\n",
      "6  ATRT_TYR   C2    1\n",
      "7  ATRT_MYC   C3    2\n",
      "8  ATRT_SHH   C3    7\n",
      "9  ATRT_TYR   C3    3\n",
      "10 ATRT_MYC   C4    0\n",
      "11 ATRT_SHH   C4    4\n",
      "12 ATRT_TYR   C4    2\n"
     ]
    },
    {
     "data": {
      "text/html": [
       "<strong>pdf:</strong> 2"
      ],
      "text/latex": [
       "\\textbf{pdf:} 2"
      ],
      "text/markdown": [
       "**pdf:** 2"
      ],
      "text/plain": [
       "pdf \n",
       "  2 "
      ]
     },
     "metadata": {},
     "output_type": "display_data"
    }
   ],
   "source": [
    "subgroup_IC.fx(metadata_IC, \"ATRT\", \"Greens\")"
   ]
  },
  {
   "cell_type": "code",
   "execution_count": 10,
   "metadata": {},
   "outputs": [
    {
     "name": "stderr",
     "output_type": "stream",
     "text": [
      "EPN\n",
      "\n"
     ]
    },
    {
     "name": "stdout",
     "output_type": "stream",
     "text": [
      "        Var1 Var2 Freq\n",
      "1  EPN_Fossa   C1    1\n",
      "2     EPN_ND   C1    0\n",
      "3  EPN_Spine   C1    1\n",
      "4  EPN_Supra   C1    2\n",
      "5  EPN_Fossa   C2    3\n",
      "6     EPN_ND   C2    0\n",
      "7  EPN_Spine   C2    2\n",
      "8  EPN_Supra   C2    4\n",
      "9  EPN_Fossa   C3   14\n",
      "10    EPN_ND   C3    1\n",
      "11 EPN_Spine   C3    5\n",
      "12 EPN_Supra   C3   21\n",
      "13 EPN_Fossa   C4    2\n",
      "14    EPN_ND   C4    1\n",
      "15 EPN_Spine   C4    1\n",
      "16 EPN_Supra   C4    7\n"
     ]
    },
    {
     "data": {
      "text/html": [
       "<strong>pdf:</strong> 2"
      ],
      "text/latex": [
       "\\textbf{pdf:} 2"
      ],
      "text/markdown": [
       "**pdf:** 2"
      ],
      "text/plain": [
       "pdf \n",
       "  2 "
      ]
     },
     "metadata": {},
     "output_type": "display_data"
    }
   ],
   "source": [
    "subgroup_IC.fx(metadata_IC, \"EPN\", \"Reds\")"
   ]
  },
  {
   "cell_type": "code",
   "execution_count": 11,
   "metadata": {},
   "outputs": [
    {
     "name": "stderr",
     "output_type": "stream",
     "text": [
      "MB\n",
      "\n"
     ]
    },
    {
     "name": "stdout",
     "output_type": "stream",
     "text": [
      "      Var1 Var2 Freq\n",
      "1  MB_GR34   C1    1\n",
      "2   MB_SHH   C1    0\n",
      "3   MB_WNT   C1    0\n",
      "4  MB_GR34   C2    1\n",
      "5   MB_SHH   C2    1\n",
      "6   MB_WNT   C2    1\n",
      "7  MB_GR34   C3   88\n",
      "8   MB_SHH   C3   26\n",
      "9   MB_WNT   C3   10\n",
      "10 MB_GR34   C4   62\n",
      "11  MB_SHH   C4    9\n",
      "12  MB_WNT   C4    9\n"
     ]
    },
    {
     "data": {
      "text/html": [
       "<strong>pdf:</strong> 2"
      ],
      "text/latex": [
       "\\textbf{pdf:} 2"
      ],
      "text/markdown": [
       "**pdf:** 2"
      ],
      "text/plain": [
       "pdf \n",
       "  2 "
      ]
     },
     "metadata": {},
     "output_type": "display_data"
    }
   ],
   "source": [
    "subgroup_IC.fx(metadata_IC, \"MB\", \"Blues\")"
   ]
  },
  {
   "cell_type": "code",
   "execution_count": 12,
   "metadata": {},
   "outputs": [
    {
     "name": "stderr",
     "output_type": "stream",
     "text": [
      "NBL\n",
      "\n"
     ]
    },
    {
     "name": "stdout",
     "output_type": "stream",
     "text": [
      "        Var1 Var2 Freq\n",
      "1   NBL_MYCA   C1    2\n",
      "2  NBL_MYCNA   C1   10\n",
      "3     NBL_ND   C1    1\n",
      "4   NBL_MYCA   C2    3\n",
      "5  NBL_MYCNA   C2   46\n",
      "6     NBL_ND   C2    2\n",
      "7   NBL_MYCA   C3   10\n",
      "8  NBL_MYCNA   C3   28\n",
      "9     NBL_ND   C3    0\n",
      "10  NBL_MYCA   C4   16\n",
      "11 NBL_MYCNA   C4   33\n",
      "12    NBL_ND   C4    0\n"
     ]
    },
    {
     "data": {
      "text/html": [
       "<strong>pdf:</strong> 2"
      ],
      "text/latex": [
       "\\textbf{pdf:} 2"
      ],
      "text/markdown": [
       "**pdf:** 2"
      ],
      "text/plain": [
       "pdf \n",
       "  2 "
      ]
     },
     "metadata": {},
     "output_type": "display_data"
    }
   ],
   "source": [
    "subgroup_IC.fx(metadata_IC, \"NBL\", \"Greens\")"
   ]
  },
  {
   "cell_type": "code",
   "execution_count": null,
   "metadata": {},
   "outputs": [],
   "source": []
  },
  {
   "cell_type": "code",
   "execution_count": null,
   "metadata": {},
   "outputs": [],
   "source": []
  }
 ],
 "metadata": {
  "kernelspec": {
   "display_name": "R 4.0",
   "language": "R",
   "name": "ir40"
  },
  "language_info": {
   "codemirror_mode": "r",
   "file_extension": ".r",
   "mimetype": "text/x-r-source",
   "name": "R",
   "pygments_lexer": "r",
   "version": "4.0.3"
  },
  "toc": {
   "base_numbering": 1,
   "nav_menu": {},
   "number_sections": false,
   "sideBar": true,
   "skip_h1_title": false,
   "title_cell": "Table of Contents",
   "title_sidebar": "Contents",
   "toc_cell": true,
   "toc_position": {
    "height": "calc(100% - 180px)",
    "left": "10px",
    "top": "150px",
    "width": "280px"
   },
   "toc_section_display": true,
   "toc_window_display": true
  }
 },
 "nbformat": 4,
 "nbformat_minor": 2
}
