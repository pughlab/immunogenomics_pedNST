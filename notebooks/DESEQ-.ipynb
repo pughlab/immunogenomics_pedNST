{
 "cells": [
  {
   "cell_type": "markdown",
   "metadata": {
    "toc": true
   },
   "source": [
    "<h1>Table of Contents<span class=\"tocSkip\"></span></h1>\n",
    "<div class=\"toc\"><ul class=\"toc-item\"><li><span><a href=\"#Dependenices\" data-toc-modified-id=\"Dependenices-1\">Dependenices</a></span></li><li><span><a href=\"#Functions\" data-toc-modified-id=\"Functions-2\">Functions</a></span></li><li><span><a href=\"#Paths\" data-toc-modified-id=\"Paths-3\">Paths</a></span></li><li><span><a href=\"#Main\" data-toc-modified-id=\"Main-4\">Main</a></span></li><li><span><a href=\"#GO-pathways\" data-toc-modified-id=\"GO-pathways-5\">GO pathways</a></span></li><li><span><a href=\"#Load-GO-table\" data-toc-modified-id=\"Load-GO-table-6\">Load GO table</a></span><ul class=\"toc-item\"><li><span><a href=\"#Heatmap\" data-toc-modified-id=\"Heatmap-6.1\">Heatmap</a></span></li></ul></li><li><span><a href=\"#Top-Genes\" data-toc-modified-id=\"Top-Genes-7\">Top Genes</a></span></li><li><span><a href=\"#Create-a-gene-table\" data-toc-modified-id=\"Create-a-gene-table-8\">Create a gene table</a></span></li><li><span><a href=\"#Load-gene-table\" data-toc-modified-id=\"Load-gene-table-9\">Load gene table</a></span></li><li><span><a href=\"#Volcano-plots\" data-toc-modified-id=\"Volcano-plots-10\">Volcano plots</a></span></li><li><span><a href=\"#Deprecated\" data-toc-modified-id=\"Deprecated-11\">Deprecated</a></span></li><li><span><a href=\"#Enrichment-analysis-with-MSigDB\" data-toc-modified-id=\"Enrichment-analysis-with-MSigDB-12\">Enrichment analysis with MSigDB</a></span></li><li><span><a href=\"#Using-ReactomePA\" data-toc-modified-id=\"Using-ReactomePA-13\">Using ReactomePA</a></span></li></ul></div>"
   ]
  },
  {
   "cell_type": "markdown",
   "metadata": {},
   "source": [
    "# Dependenices"
   ]
  },
  {
   "cell_type": "code",
   "execution_count": 10,
   "metadata": {
    "scrolled": true
   },
   "outputs": [
    {
     "name": "stderr",
     "output_type": "stream",
     "text": [
      "\n",
      "\n",
      "clusterProfiler v3.18.1  For help: https://guangchuangyu.github.io/software/clusterProfiler\n",
      "\n",
      "If you use clusterProfiler in published research, please cite:\n",
      "Guangchuang Yu, Li-Gen Wang, Yanyan Han, Qing-Yu He. clusterProfiler: an R package for comparing biological themes among gene clusters. OMICS: A Journal of Integrative Biology. 2012, 16(5):284-287.\n",
      "\n",
      "\n",
      "Attaching package: ‘clusterProfiler’\n",
      "\n",
      "\n",
      "The following object is masked from ‘package:AnnotationDbi’:\n",
      "\n",
      "    select\n",
      "\n",
      "\n",
      "The following object is masked from ‘package:IRanges’:\n",
      "\n",
      "    slice\n",
      "\n",
      "\n",
      "The following object is masked from ‘package:S4Vectors’:\n",
      "\n",
      "    rename\n",
      "\n",
      "\n",
      "The following object is masked from ‘package:stats’:\n",
      "\n",
      "    filter\n",
      "\n",
      "\n"
     ]
    }
   ],
   "source": [
    "library(ggrepel)\n",
    "library(DESeq2)\n",
    "\n",
    "library(clusterProfiler)\n",
    "library(org.Hs.eg.db)"
   ]
  },
  {
   "cell_type": "markdown",
   "metadata": {},
   "source": [
    "# Functions"
   ]
  },
  {
   "cell_type": "code",
   "execution_count": 11,
   "metadata": {},
   "outputs": [],
   "source": [
    "source(\"~/OneDrive - UHN/R_src/ggplot2_theme.R\")\n",
    "source(\"~/OneDrive - UHN/R_src/color_schemes.R\")\n",
    "source(\"~/OneDrive - UHN/R_src/plotting_functions.R\")\n",
    "source(\"~/OneDrive - UHN/R_src/Heatmap_functions.R\")"
   ]
  },
  {
   "cell_type": "code",
   "execution_count": 12,
   "metadata": {},
   "outputs": [],
   "source": [
    "gene_hm.fx <- function(genes_mat){\n",
    "\n",
    "    col_fun= colorRamp2(c(-1, 0, 1), c(\"blue\", \"white\", \"red\"))\n",
    "    \n",
    "    gene_hm = Heatmap(genes_mat,\n",
    "                       #titles and names   \n",
    "                       name = \"Gene expression z score\",   \n",
    "                       show_row_names = TRUE,\n",
    "                       show_column_names = FALSE,     \n",
    "                       #clusters and orders  \n",
    "                       cluster_columns = TRUE,\n",
    "                       cluster_rows = FALSE,\n",
    "                       show_column_dend = TRUE,\n",
    "                       #row_dend_width = unit(8, \"cm\"),\n",
    "                       #aesthestics\n",
    "                       col = col_fun,\n",
    "                       column_names_gp = gpar(fontsize = 20),\n",
    "                       row_names_gp = gpar(fontsize = 20),\n",
    "                       height = unit(nrow(genes_mat), \"cm\"),\n",
    "                       column_title_gp = gpar(fontsize = 20),\n",
    "                       column_title = NULL,\n",
    "                       row_title = NULL)\n",
    "    return(gene_hm)   \n",
    "}"
   ]
  },
  {
   "cell_type": "markdown",
   "metadata": {},
   "source": [
    "# Paths"
   ]
  },
  {
   "cell_type": "code",
   "execution_count": 13,
   "metadata": {},
   "outputs": [],
   "source": [
    "datapath <- \"/Users/anabbi/OneDrive - UHN/Documents/IPD2/Data/\"\n",
    "plotpath <- \"/Users/anabbi/OneDrive - UHN/Documents/IPD2/Plots/\""
   ]
  },
  {
   "cell_type": "markdown",
   "metadata": {},
   "source": [
    "# Main"
   ]
  },
  {
   "cell_type": "code",
   "execution_count": 14,
   "metadata": {},
   "outputs": [],
   "source": [
    "load(file.path(datapath,\"TME_clusters/IPD_estimate_metadata_IC.RData\"))"
   ]
  },
  {
   "cell_type": "markdown",
   "metadata": {},
   "source": [
    "Run deseq2 on h4h\n",
    "\n",
    "with only protein coding genes"
   ]
  },
  {
   "cell_type": "markdown",
   "metadata": {},
   "source": [
    "# GO pathways"
   ]
  },
  {
   "cell_type": "code",
   "execution_count": 15,
   "metadata": {},
   "outputs": [],
   "source": [
    "pathwaytable <- data.frame(matrix(ncol = 12, nrow = 0))"
   ]
  },
  {
   "cell_type": "code",
   "execution_count": 16,
   "metadata": {},
   "outputs": [],
   "source": [
    "colnames(pathwaytable) <- c(\"ID\",\"Description\",\"setSize\",\"enrichmentScore\",\"NES\",\"pvalue\",\"p.adjust\",\n",
    "                            \"qvalues\",\"rank\",\"leading_edge\",\"core_enrichment\", \"contrast\")"
   ]
  },
  {
   "cell_type": "code",
   "execution_count": 17,
   "metadata": {
    "scrolled": true
   },
   "outputs": [
    {
     "data": {
      "text/html": [
       "<table class=\"dataframe\">\n",
       "<caption>A data.frame: 0 × 12</caption>\n",
       "<thead>\n",
       "\t<tr><th scope=col>ID</th><th scope=col>Description</th><th scope=col>setSize</th><th scope=col>enrichmentScore</th><th scope=col>NES</th><th scope=col>pvalue</th><th scope=col>p.adjust</th><th scope=col>qvalues</th><th scope=col>rank</th><th scope=col>leading_edge</th><th scope=col>core_enrichment</th><th scope=col>contrast</th></tr>\n",
       "\t<tr><th scope=col>&lt;lgl&gt;</th><th scope=col>&lt;lgl&gt;</th><th scope=col>&lt;lgl&gt;</th><th scope=col>&lt;lgl&gt;</th><th scope=col>&lt;lgl&gt;</th><th scope=col>&lt;lgl&gt;</th><th scope=col>&lt;lgl&gt;</th><th scope=col>&lt;lgl&gt;</th><th scope=col>&lt;lgl&gt;</th><th scope=col>&lt;lgl&gt;</th><th scope=col>&lt;lgl&gt;</th><th scope=col>&lt;lgl&gt;</th></tr>\n",
       "</thead>\n",
       "<tbody>\n",
       "</tbody>\n",
       "</table>\n"
      ],
      "text/latex": [
       "A data.frame: 0 × 12\n",
       "\\begin{tabular}{llllllllllll}\n",
       " ID & Description & setSize & enrichmentScore & NES & pvalue & p.adjust & qvalues & rank & leading\\_edge & core\\_enrichment & contrast\\\\\n",
       " <lgl> & <lgl> & <lgl> & <lgl> & <lgl> & <lgl> & <lgl> & <lgl> & <lgl> & <lgl> & <lgl> & <lgl>\\\\\n",
       "\\hline\n",
       "\\end{tabular}\n"
      ],
      "text/markdown": [
       "\n",
       "A data.frame: 0 × 12\n",
       "\n",
       "| ID &lt;lgl&gt; | Description &lt;lgl&gt; | setSize &lt;lgl&gt; | enrichmentScore &lt;lgl&gt; | NES &lt;lgl&gt; | pvalue &lt;lgl&gt; | p.adjust &lt;lgl&gt; | qvalues &lt;lgl&gt; | rank &lt;lgl&gt; | leading_edge &lt;lgl&gt; | core_enrichment &lt;lgl&gt; | contrast &lt;lgl&gt; |\n",
       "|---|---|---|---|---|---|---|---|---|---|---|---|\n",
       "\n"
      ],
      "text/plain": [
       "     ID Description setSize enrichmentScore NES pvalue p.adjust qvalues rank\n",
       "     leading_edge core_enrichment contrast"
      ]
     },
     "metadata": {},
     "output_type": "display_data"
    }
   ],
   "source": [
    "pathwaytable"
   ]
  },
  {
   "cell_type": "code",
   "execution_count": 18,
   "metadata": {},
   "outputs": [
    {
     "name": "stderr",
     "output_type": "stream",
     "text": [
      "C2\n",
      "\n",
      "Warning message in preparePathwaysAndStats(pathways, stats, minSize, maxSize, gseaParam, :\n",
      "“There are ties in the preranked stats (0.03% of the list).\n",
      "The order of those tied genes will be arbitrary, which may produce unexpected results.”\n",
      "Warning message in fgseaMultilevel(...):\n",
      "“There were 61 pathways for which P-values were not calculated properly due to unbalanced (positive and negative) gene-level statistic values. For such pathways pval, padj, NES, log2err are set to NA. You can try to increase the value of the argument nPermSimple (for example set it nPermSimple = 10000)”\n",
      "Warning message in fgseaMultilevel(...):\n",
      "“For some of the pathways the P-values were likely overestimated. For such pathways log2err is set to NA.”\n",
      "C1\n",
      "\n",
      "Warning message in preparePathwaysAndStats(pathways, stats, minSize, maxSize, gseaParam, :\n",
      "“There are ties in the preranked stats (0.03% of the list).\n",
      "The order of those tied genes will be arbitrary, which may produce unexpected results.”\n",
      "Warning message in fgseaMultilevel(...):\n",
      "“There were 16 pathways for which P-values were not calculated properly due to unbalanced (positive and negative) gene-level statistic values. For such pathways pval, padj, NES, log2err are set to NA. You can try to increase the value of the argument nPermSimple (for example set it nPermSimple = 10000)”\n",
      "Warning message in fgseaMultilevel(...):\n",
      "“For some of the pathways the P-values were likely overestimated. For such pathways log2err is set to NA.”\n",
      "C3\n",
      "\n",
      "Warning message in preparePathwaysAndStats(pathways, stats, minSize, maxSize, gseaParam, :\n",
      "“There are ties in the preranked stats (0.03% of the list).\n",
      "The order of those tied genes will be arbitrary, which may produce unexpected results.”\n",
      "C4\n",
      "\n",
      "Warning message in preparePathwaysAndStats(pathways, stats, minSize, maxSize, gseaParam, :\n",
      "“There are ties in the preranked stats (0.03% of the list).\n",
      "The order of those tied genes will be arbitrary, which may produce unexpected results.”\n",
      "Warning message in fgseaMultilevel(...):\n",
      "“There were 2 pathways for which P-values were not calculated properly due to unbalanced (positive and negative) gene-level statistic values. For such pathways pval, padj, NES, log2err are set to NA. You can try to increase the value of the argument nPermSimple (for example set it nPermSimple = 10000)”\n",
      "Warning message in fgseaMultilevel(...):\n",
      "“For some of the pathways the P-values were likely overestimated. For such pathways log2err is set to NA.”\n"
     ]
    }
   ],
   "source": [
    "for(c in unique(metadata_IC$immune_cluster)){\n",
    "    \n",
    "    message(c)\n",
    "    flush.console()\n",
    "    \n",
    "    load(file = paste0(datapath, \"DEG/shrunken_results_\",c,\".RData\"))\n",
    "    \n",
    "    mycontrast <- paste0(c, \"-Others\")\n",
    "    \n",
    "    mygenelist <- shrunken_res$log2FoldChange\n",
    "    names(mygenelist) <- rownames(shrunken_res)\n",
    "    #order genelist\n",
    "    mygenelist <- mygenelist[order(mygenelist, decreasing = T)]\n",
    "\n",
    "    go <- gseGO(geneList     = mygenelist,\n",
    "              OrgDb        = org.Hs.eg.db,\n",
    "              ont          = \"BP\",\n",
    "              keyType = \"SYMBOL\",\n",
    "              minGSSize    = 100,\n",
    "              maxGSSize    = 500,\n",
    "              pvalueCutoff = 0.05,\n",
    "              eps = 0,\n",
    "              verbose = FALSE)\n",
    "    \n",
    "    godf <- as.data.frame(go)\n",
    "    godf$contrast <- mycontrast\n",
    "    \n",
    "    pathwaytable <- rbind(pathwaytable, godf)\n",
    "    \n",
    "}"
   ]
  },
  {
   "cell_type": "code",
   "execution_count": 19,
   "metadata": {},
   "outputs": [],
   "source": [
    "GOpathwaytable <- pathwaytable"
   ]
  },
  {
   "cell_type": "code",
   "execution_count": 20,
   "metadata": {},
   "outputs": [],
   "source": [
    "save(GOpathwaytable, file = paste0(datapath, \"DEG/DESeq2_GOpathwaytable_shrunken.RData\"))"
   ]
  },
  {
   "cell_type": "markdown",
   "metadata": {},
   "source": [
    "# Load GO table"
   ]
  },
  {
   "cell_type": "code",
   "execution_count": 21,
   "metadata": {},
   "outputs": [],
   "source": [
    "load(file = paste0(datapath, \"DEG/DESeq2_GOpathwaytable_shrunken.RData\"))"
   ]
  },
  {
   "cell_type": "code",
   "execution_count": 22,
   "metadata": {
    "scrolled": true
   },
   "outputs": [
    {
     "data": {
      "text/plain": [
       "   Min. 1st Qu.  Median    Mean 3rd Qu.    Max. \n",
       " -2.664  -1.751  -1.385  -0.144   1.670   2.746 "
      ]
     },
     "metadata": {},
     "output_type": "display_data"
    }
   ],
   "source": [
    "summary(GOpathwaytable$NES)"
   ]
  },
  {
   "cell_type": "code",
   "execution_count": null,
   "metadata": {},
   "outputs": [],
   "source": []
  },
  {
   "cell_type": "code",
   "execution_count": 23,
   "metadata": {},
   "outputs": [],
   "source": [
    "sigpathways <- GOpathwaytable[abs(GOpathwaytable$NES) >= 2 &\n",
    "                              GOpathwaytable$p.adjust < 0.1,]"
   ]
  },
  {
   "cell_type": "code",
   "execution_count": 24,
   "metadata": {},
   "outputs": [],
   "source": [
    "exclusive_pathways <- sigpathways[0,]"
   ]
  },
  {
   "cell_type": "code",
   "execution_count": 25,
   "metadata": {},
   "outputs": [
    {
     "data": {
      "text/html": [
       "<table class=\"dataframe\">\n",
       "<caption>A data.frame: 0 × 12</caption>\n",
       "<thead>\n",
       "\t<tr><th scope=col>ID</th><th scope=col>Description</th><th scope=col>setSize</th><th scope=col>enrichmentScore</th><th scope=col>NES</th><th scope=col>pvalue</th><th scope=col>p.adjust</th><th scope=col>qvalues</th><th scope=col>rank</th><th scope=col>leading_edge</th><th scope=col>core_enrichment</th><th scope=col>contrast</th></tr>\n",
       "\t<tr><th scope=col>&lt;chr&gt;</th><th scope=col>&lt;chr&gt;</th><th scope=col>&lt;int&gt;</th><th scope=col>&lt;dbl&gt;</th><th scope=col>&lt;dbl&gt;</th><th scope=col>&lt;dbl&gt;</th><th scope=col>&lt;dbl&gt;</th><th scope=col>&lt;dbl&gt;</th><th scope=col>&lt;dbl&gt;</th><th scope=col>&lt;chr&gt;</th><th scope=col>&lt;chr&gt;</th><th scope=col>&lt;chr&gt;</th></tr>\n",
       "</thead>\n",
       "<tbody>\n",
       "</tbody>\n",
       "</table>\n"
      ],
      "text/latex": [
       "A data.frame: 0 × 12\n",
       "\\begin{tabular}{llllllllllll}\n",
       " ID & Description & setSize & enrichmentScore & NES & pvalue & p.adjust & qvalues & rank & leading\\_edge & core\\_enrichment & contrast\\\\\n",
       " <chr> & <chr> & <int> & <dbl> & <dbl> & <dbl> & <dbl> & <dbl> & <dbl> & <chr> & <chr> & <chr>\\\\\n",
       "\\hline\n",
       "\\end{tabular}\n"
      ],
      "text/markdown": [
       "\n",
       "A data.frame: 0 × 12\n",
       "\n",
       "| ID &lt;chr&gt; | Description &lt;chr&gt; | setSize &lt;int&gt; | enrichmentScore &lt;dbl&gt; | NES &lt;dbl&gt; | pvalue &lt;dbl&gt; | p.adjust &lt;dbl&gt; | qvalues &lt;dbl&gt; | rank &lt;dbl&gt; | leading_edge &lt;chr&gt; | core_enrichment &lt;chr&gt; | contrast &lt;chr&gt; |\n",
       "|---|---|---|---|---|---|---|---|---|---|---|---|\n",
       "\n"
      ],
      "text/plain": [
       "     ID Description setSize enrichmentScore NES pvalue p.adjust qvalues rank\n",
       "     leading_edge core_enrichment contrast"
      ]
     },
     "metadata": {},
     "output_type": "display_data"
    }
   ],
   "source": [
    "exclusive_pathways"
   ]
  },
  {
   "cell_type": "code",
   "execution_count": 26,
   "metadata": {},
   "outputs": [
    {
     "data": {
      "text/html": [
       "<style>\n",
       ".list-inline {list-style: none; margin:0; padding: 0}\n",
       ".list-inline>li {display: inline-block}\n",
       ".list-inline>li:not(:last-child)::after {content: \"\\00b7\"; padding: 0 .5ex}\n",
       "</style>\n",
       "<ol class=list-inline><li>2162</li><li>12</li></ol>\n"
      ],
      "text/latex": [
       "\\begin{enumerate*}\n",
       "\\item 2162\n",
       "\\item 12\n",
       "\\end{enumerate*}\n"
      ],
      "text/markdown": [
       "1. 2162\n",
       "2. 12\n",
       "\n",
       "\n"
      ],
      "text/plain": [
       "[1] 2162   12"
      ]
     },
     "metadata": {},
     "output_type": "display_data"
    },
    {
     "data": {
      "text/html": [
       "<style>\n",
       ".list-inline {list-style: none; margin:0; padding: 0}\n",
       ".list-inline>li {display: inline-block}\n",
       ".list-inline>li:not(:last-child)::after {content: \"\\00b7\"; padding: 0 .5ex}\n",
       "</style>\n",
       "<ol class=list-inline><li>669</li><li>12</li></ol>\n"
      ],
      "text/latex": [
       "\\begin{enumerate*}\n",
       "\\item 669\n",
       "\\item 12\n",
       "\\end{enumerate*}\n"
      ],
      "text/markdown": [
       "1. 669\n",
       "2. 12\n",
       "\n",
       "\n"
      ],
      "text/plain": [
       "[1] 669  12"
      ]
     },
     "metadata": {},
     "output_type": "display_data"
    }
   ],
   "source": [
    "dim(GOpathwaytable)\n",
    "dim(sigpathways)"
   ]
  },
  {
   "cell_type": "code",
   "execution_count": 27,
   "metadata": {},
   "outputs": [],
   "source": [
    "pathwayfreq <- as.data.frame(table(sigpathways$Description))"
   ]
  },
  {
   "cell_type": "code",
   "execution_count": 28,
   "metadata": {},
   "outputs": [],
   "source": [
    "for(p in pathwayfreq$Var1){\n",
    "    tmp <- sigpathways[ sigpathways$Description == p,]\n",
    "    if( nrow(tmp) == 1){\n",
    "        exclusive_pathways <- rbind(exclusive_pathways, tmp)\n",
    "        \n",
    "    } else{\n",
    "        if( sum(tmp$NES > 0) == 1){\n",
    "           exclusive_pathways <- rbind(exclusive_pathways, tmp) \n",
    "        }\n",
    "        \n",
    "    }\n",
    "    \n",
    "    \n",
    "}"
   ]
  },
  {
   "cell_type": "code",
   "execution_count": 30,
   "metadata": {
    "scrolled": true
   },
   "outputs": [
    {
     "data": {
      "text/html": [
       "<table class=\"dataframe\">\n",
       "<caption>A data.frame: 48 × 12</caption>\n",
       "<thead>\n",
       "\t<tr><th></th><th scope=col>ID</th><th scope=col>Description</th><th scope=col>setSize</th><th scope=col>enrichmentScore</th><th scope=col>NES</th><th scope=col>pvalue</th><th scope=col>p.adjust</th><th scope=col>qvalues</th><th scope=col>rank</th><th scope=col>leading_edge</th><th scope=col>core_enrichment</th><th scope=col>contrast</th></tr>\n",
       "\t<tr><th></th><th scope=col>&lt;chr&gt;</th><th scope=col>&lt;chr&gt;</th><th scope=col>&lt;int&gt;</th><th scope=col>&lt;dbl&gt;</th><th scope=col>&lt;dbl&gt;</th><th scope=col>&lt;dbl&gt;</th><th scope=col>&lt;dbl&gt;</th><th scope=col>&lt;dbl&gt;</th><th scope=col>&lt;dbl&gt;</th><th scope=col>&lt;chr&gt;</th><th scope=col>&lt;chr&gt;</th><th scope=col>&lt;chr&gt;</th></tr>\n",
       "</thead>\n",
       "<tbody>\n",
       "\t<tr><th scope=row>GO:0002253</th><td>GO:0002253</td><td>activation of immune response                                     </td><td>439</td><td>0.7211257</td><td>2.407223</td><td>1.237711e-50</td><td>9.000911e-49</td><td>5.095607e-49</td><td>2520</td><td>tags=42%, list=13%, signal=37%</td><td>IGLL5/MS4A1/FCRL3/FPR2/CD79A/BLK/CD209/FCN1/CR1/FFAR2/CD3D/CCR7/BTNL3/TRAT1/CD3E/CLEC4C/FCGR2B/CD22/CD3G/UBASH3A/LCK/PVRIG/STAP1/CLEC10A/CR2/SH2D1A/PYHIN1/CD19/CTLA4/GPR33/GRAP2/HLA-DQA2/HLA-DQB2/LAX1/CD28/ITK/ZBP1/CD79B/GCSAM/FGR/CLEC4D/CD247/THEMIS/FCN3/SKAP1/MYO1G/SLA2/MNDA/ICAM3/ZAP70/FPR1/PAX5/PTPN22/FPR3/LCP2/C5AR1/BTNL8/NCR3/PTPRC/HCK/THEMIS2/C1QA/CR1L/C5AR2/WAS/CLEC4E/FCER1G/CLEC6A/HLA-DRA/VAV1/NFAM1/CD300A/C1QC/C1QB/C2/PTPN6/CFD/TXK/HLA-DQA1/BTK/VSIG4/HLA-DPB1/CD4/KLHL6/GATA3/FCGR2A/LILRB4/LILRA2/TESPA1/NCKAP1L/HLA-DPA1/FCGR3A/CFP/CD5L/HLA-DQB1/C3AR1/CEACAM1/CLEC4A/FCGR1A/IL1B/KCNN4/NLRC4/AIM2/CFB/HLA-DRB1/KLRK1/SYK/C6/CARD11/CD160/KRT1/PYCARD/LAT/C7/CMKLR1/LAT2/PSMB9/BMX/LYN/FOXP3/MUC12/BLNK/ARPC1B/PLCG2/MICB/CD226/TEC/C1S/RELB/PRAM1/MUC3A/LPXN/GBP1/INPP5D/NFKBIZ/C3/PSMB8/TLR4/PIK3CD/CARD9/C4BPB/ADA/HLA-A/PSMB10/CFH/PRKCD/NFKBID/A2M/C1R/ZC3H12A/PLSCR1/HLA-DRB5/WIPF1/IFI16/CFI/PRKCH/ICAM2/LGALS3/KLRC4-KLRK1/SERPING1/ICOSLG/RUNX1/BTN3A2/NR4A3/BTN2A2/VAV3/PSME2/C1RL/BTN3A3/CD38/ELF1/GCSAML/VTN/BAX/NFATC2/ARPC3/CSK/PSME1/ARPC5/RAB29/CD276/NFKB1/CD55/PRKCQ                                                                                                                                                                                                                                                                                                                                                                           </td><td>C1-Others</td></tr>\n",
       "\t<tr><th scope=row>GO:00022181</th><td>GO:0002218</td><td>activation of innate immune response                              </td><td>140</td><td>0.6490351</td><td>2.029326</td><td>1.950551e-10</td><td>1.309370e-09</td><td>7.412619e-10</td><td>1825</td><td>tags=26%, list=9%, signal=23% </td><td>CD209/FCN1/FFAR2/CLEC4C/CLEC10A/PYHIN1/ZBP1/CLEC4D/MNDA/ICAM3/HCK/CLEC4E/FCER1G/CLEC6A/LILRA2/CLEC4A/NLRC4/AIM2/KLRK1/SYK/CARD11/PYCARD/PSMB9/LYN/MUC12/PLCG2/RELB/MUC3A/PSMB8/TLR4/CARD9/PSMB10/PRKCD/IFI16/ICAM2/KLRC4-KLRK1                                                                                                                                                                                                                                                                                                                                                                                                                                                                                                                                                                                                                                                                                                                                                                                                                                                                                                                                                                                                                                                                                                                                                                                                                                                                  </td><td>C1-Others</td></tr>\n",
       "\t<tr><th scope=row>GO:0002250</th><td>GO:0002250</td><td>adaptive immune response                                          </td><td>407</td><td>0.8178651</td><td>2.728633</td><td>5.022614e-90</td><td>6.574601e-87</td><td>3.722021e-87</td><td>2005</td><td>tags=59%, list=10%, signal=54%</td><td>JCHAIN/IGLL5/TNFRSF13B/CD79A/TNFRSF17/IL18RAP/CD209/CR1/CLEC4G/LILRB3/CD27/CXCL13/CD3D/SLAMF7/TRAT1/SLAMF6/CD3E/SIT1/LILRA6/CLEC4C/CCL19/FCGR2B/CCR6/CD3G/SLAMF1/LY9/LILRB5/IFNG/CLEC10A/CR2/PRF1/LILRB2/SH2D1A/IL7R/CD48/BATF/CD19/CTLA4/FCAMR/ARG1/CD8B/PDCD1/HLA-DQA2/CLC/HLA-DQB2/FCER2/LAX1/CCR2/IRF4/BTLA/HLA-DOB/CD28/ITK/CD6/CD79B/CLEC4D/CD247/THEMIS/CD1C/FCRL4/CD40LG/SKAP1/TLR8/CD7/IL10/GZMM/MYO1G/FUT7/SLA2/CD1A/ZAP70/GAPT/CD1B/EOMES/CD8A/BTNL8/CD1E/SLC11A1/CTSS/PTPRC/JAK3/C1QA/ZNF683/IL27/SASH3/CD244/SAMSN1/ADGRE1/TNFSF18/WAS/LILRB1/FCER1G/CLEC6A/HLA-DRA/AICDA/C1QC/C1QB/C2/PTPN6/LAMP3/TBX21/LAIR1/TXK/HLA-DQA1/TNFRSF14/BTK/CD74/HLA-DMB/GPR183/IL12RB1/CD80/HLA-DMA/MCOLN2/HLA-DPB1/CD4/LTA/KLHL6/CLEC4M/RIPK3/GATA3/CTSH/CD1D/LILRB4/PDCD1LG2/HLA-DOA/IL6/HLA-G/NLRP3/HLA-DPA1/LILRA1/TNFRSF1B/IL12B/HLA-DQB1/CEACAM1/CLEC4A/IL1B/ALOX15/HLA-F/CD84/FCGR1B/SIGLEC10/HLA-DRB1/ICAM1/KLRK1/SYK/C6/IL18R1/CD86/CD70/SPN/CD160/PYCARD/LAT/EBI3/TNFAIP3/C7/CD274/TNFSF13B/PIK3CG/BCL3/LAT2/HAVCR2/TNFRSF11A/BMX/IL2/LYN/TCIRG1/TNFSF13/FOXP3/IL4R/CTSC/IL23A/MICB/UNC93B1/SH2D1B/CD226/HLA-B/FGL2/PRDM1/IL18/TEC/C1S/LAG3/XCL1/RELB/B2M/UNC13D/INPP5D/POU2F2/NFKBIZ/HLA-E/IRF1/C3/IL1R1/TLR4/PIK3CD/IL1RL1/CLCF1/STAT6/C4BPB/ADA/IL31RA/CD40/IL4/NFKB2/NLRP10/HLA-A/RAB27A/HLX/PRKCD/CRACR2A/TGFB1/TNF/NFKBID/C1R/HLA-C/ZC3H12A/ANXA1/IL23R/TAP1/RSAD2/HLA-DRB5/IRF7/MR1/CFI/ERAP2/RNF125/CTSL/ORAI1/KLRC4-KLRK1/SERPING1/MICA/IL27RA/PTK2B/HFE/ICOSLG/IL33/MCOLN1/BTN3A2</td><td>C1-Others</td></tr>\n",
       "\t<tr><th scope=row>GO:00197301</th><td>GO:0019730</td><td>antimicrobial humoral response                                    </td><td>122</td><td>0.7499893</td><td>2.319230</td><td>6.549832e-18</td><td>6.750969e-17</td><td>3.821866e-17</td><td>2322</td><td>tags=42%, list=12%, signal=37%</td><td>JCHAIN/BPIFA2/CCL13/BPIFB1/CTSG/CXCL9/CXCL10/CXCL13/S100A9/S100A8/PLA2G2A/S100A12/PPBP/LYZ/CXCL11/PGLYRP1/DEFA4/DEFA1/PF4/CAMP/SLC11A1/ELANE/DEFA3/PGLYRP4/GNLY/PF4V1/ITLN1/RNASE6/PI3/CXCL5/WFDC11/BCL3/LCN2/SPON2/RNASE3/LTF/CXCL8/CXCL1/HLA-E/SLPI/HLA-A/GALP/IL36RN/CXCL3/CXCL2/CXCL6/RARRES2/AZU1/CXCL14/PRTN3/BPI                                                                                                                                                                                                                                                                                                                                                                                                                                                                                                                                                                                                                                                                                                                                                                                                                                                                                                                                                                                                                                                                                                                                                                         </td><td>C1-Others</td></tr>\n",
       "\t<tr><th scope=row>GO:00301831</th><td>GO:0030183</td><td>B cell differentiation                                            </td><td>135</td><td>0.7069255</td><td>2.201404</td><td>4.217107e-15</td><td>3.807030e-14</td><td>2.155240e-14</td><td>2283</td><td>tags=39%, list=12%, signal=34%</td><td>MS4A1/FCRL3/ADGRG3/CD79A/CD27/POU2AF1/FCGR2B/IKZF3/CR2/CD19/CD79B/CD40LG/SLAMF8/IL10/PTPRC/JAK3/AICDA/NFAM1/PTPN6/BTK/GPR183/IL11/IL6/NCKAP1L/VCAM1/SYK/CARD11/BCL3/TCIRG1/BLNK/FLT3/PLCG2/ITGA4/LYL1/MFNG/CMTM7/INPP5D/POU2F2/NKX2-3/CLCF1/HHEX/ADA/IL4/MMP14/IL21/PTK2B/LGALS1/CDH17/KLF6/NTRK1/BAX/DOCK11                                                                                                                                                                                                                                                                                                                                                                                                                                                                                                                                                                                                                                                                                                                                                                                                                                                                                                                                                                                                                                                                                                                                                                                    </td><td>C1-Others</td></tr>\n",
       "\t<tr><th scope=row>GO:00329631</th><td>GO:0032963</td><td>collagen metabolic process                                        </td><td>101</td><td>0.6653145</td><td>2.019185</td><td>7.256895e-09</td><td>4.397813e-08</td><td>2.489695e-08</td><td>3664</td><td>tags=54%, list=19%, signal=44%</td><td>MMP27/MMP7/SERPINB7/ARG1/MMP25/MMP9/MMP13/CTSS/ADAMTS14/CIITA/IL6/MMP19/COL15A1/COL1A1/COL13A1/COL1A2/CTSB/CTSD/ENG/MMP8/FAP/MMP10/MMP12/TGFB1/RCN3/MMP11/MMP1/ARRB2/MMP14/PPARG/CTSL/MMP2/VIM/SERPINH1/EMILIN1/WNT4/MYB/PRTN3/P3H1/P3H3/FURIN/MRC2/KLK6/COL5A1/PLOD3/MFAP4/CTSK/ITGB1/MMP28/ADAMTS2/PDGFRB/TRAM2/RAP1A/ADAM15/F2R                                                                                                                                                                                                                                                                                                                                                                                                                                                                                                                                                                                                                                                                                                                                                                                                                                                                                                                                                                                                                                                                                                                                                              </td><td>C1-Others</td></tr>\n",
       "\t<tr><th scope=row>GO:00444091</th><td>GO:0044409</td><td>entry into host                                                   </td><td>143</td><td>0.6669631</td><td>2.085294</td><td>8.934957e-12</td><td>6.533999e-11</td><td>3.699035e-11</td><td>3040</td><td>tags=41%, list=16%, signal=35%</td><td>CD209/FCN1/CR1/CLEC4G/SLAMF1/CR2/SIGLEC1/FCN3/MRC1/CCR5/ANPEP/TNFRSF14/CD74/CD80/CD4/CLEC4M/ITGB7/LGALS9/VAMP8/HLA-DRB1/ICAM1/PTX3/CD86/SELPLG/GPR15/IFITM2/CXCR4/CXCL8/DPP4/SLC52A1/TRIM38/IFITM1/TRIM22/CTSB/TNFRSF4/CLEC5A/IFITM3/TRIM10/ITGA5/TRIM34/CTSL/HAVCR1/LGALS1/ITGB3/TRIM21/F11R/GSN/TRIM14/SLC1A5/FUCA2/CD55/GYPA/AXL/EPHA2/HYAL2/TMPRSS2/ITGB1/GAS6/TRIML2                                                                                                                                                                                                                                                                                                                                                                                                                                                                                                                                                                                                                                                                                                                                                                                                                                                                                                                                                                                                                                                                                                                       </td><td>C1-Others</td></tr>\n",
       "\t<tr><th scope=row>GO:0036230</th><td>GO:0036230</td><td>granulocyte activation                                            </td><td>498</td><td>0.7366253</td><td>2.469606</td><td>6.546874e-66</td><td>1.841243e-63</td><td>1.042367e-63</td><td>2558</td><td>tags=47%, list=13%, signal=42%</td><td>MCEMP1/PRG3/ADGRG3/FPR2/CXCR1/CEACAM3/IL18RAP/FCN1/CTSG/CR1/CXCR2/LILRB3/CD177/ORM1/CCL5/FCAR/S100P/ADGRE3/CLEC4C/FCGR3B/FCGR2B/S100A9/S100A8/PLA2G2A/HK3/S100A12/LRG1/PPBP/LILRB2/LYZ/TBC1D10C/CLEC12A/TCN1/CHI3L1/ARG1/SELL/P2RX1/PGLYRP1/CCR2/CD36/MMP25/DEFA4/DEFA1/FGR/CLEC4D/CAMP/ITGAX/MNDA/ADAM8/RETN/MMP9/FPR1/ARHGAP9/TTR/C5AR1/SLC11A1/SIGLEC5/ITGAL/CTSS/ORM2/PTPRC/CD14/ALOX5/EPX/CEACAM8/CCL3/DOK3/MGAM/CD53/ELANE/HBB/BIN2/VNN1/OSCAR/SERPINA1/ITGB2/GMFG/TYROBP/SIGLEC14/FCER1G/FOLR3/NFAM1/CD300A/PTPN6/CD68/ANPEP/LAIR1/CFD/CRISP3/TLR2/ABCA13/PLAUR/ITGAM/PLAC8/RAB44/CTSH/FCGR2A/SIRPB1/CYBB/DNASE1L3/RNASE2/STXBP2/LILRA2/DOCK2/VAMP8/SIGLEC9/NCKAP1L/TNFRSF1B/PTAFR/CFP/GPR84/C3AR1/CEACAM1/SYK/PTX3/CD33/TRPM2/CYBA/PRG2/KRT1/PYCARD/GLIPR1/HPSE/IL15/LCN2/TCIRG1/PLAU/BST2/CTSZ/CTSC/MME/RNASE3/CDA/SLC2A5/FTL/HLA-B/LTF/NPC2/CXCL8/ALDH3B1/FGL2/GRN/S100A11/CXCL1/CTSB/IL18/B2M/UNC13D/PRAM1/PIGR/ADGRE5/CTSD/CD93/C3/MMP8/PECAM1/SERPINB1/STK10/RNASET2/FUCA1/ATP8B4/GSDMD/OLR1/RHOG/SLPI/MAN2B1/CLEC5A/CNN2/SLCO4C1/RAB27A/PRKCD/CRACR2A/NBEAL2/HLA-C/MS4A3/OSTF1/B4GALT1/TNFAIP6/CTSA/CD58/PLEKHO2/ANXA3/CREG1/SERPINA3/BST1/LGALS3/AGPAT2/KCNAB2/AOC1/HEXB/GCA/MVP/TMC6/SLC2A3/BRI3/PYGL/COTL1/CHIT1/AMPD3/HSPA6/CD63/FTH1/HVCN1/PSAP/CHRNB4/ASAH1/CSTB/CXCL6/SNAP23/DNASE1L1/GSN/GAA/AZU1/RAB37/PRTN3/HP/SDCBP/GUSB/BPI/STOM/ARPC5/TICAM2/GLA/IQGAP2/ANXA2/NEU1/FUCA2/GM2A/NFKB1/CD55/PLD1/ARSA/RHOF/GNS/IQGAP1/IMPDH1                                            </td><td>C1-Others</td></tr>\n",
       "\t<tr><th scope=row>GO:0002768</th><td>GO:0002768</td><td>immune response-regulating cell surface receptor signaling pathway</td><td>388</td><td>0.7259741</td><td>2.419790</td><td>1.431875e-46</td><td>7.208938e-45</td><td>4.081133e-45</td><td>2520</td><td>tags=43%, list=13%, signal=38%</td><td>IGLL5/MS4A1/FCRL3/FPR2/CD79A/BLK/CD209/FCN1/CR1/FFAR2/CD3D/CCR7/BTNL3/TRAT1/CD3E/CLEC4C/FCGR2B/CD22/CD3G/UBASH3A/LCK/PVRIG/STAP1/CLEC10A/CR2/LILRB2/SH2D1A/CD19/CTLA4/GPR33/MS4A2/GRAP2/HLA-DQA2/HLA-DQB2/LAX1/BTLA/CD28/ITK/CD79B/GCSAM/FGR/CLEC4D/CD247/THEMIS/FCER1A/SKAP1/MYO1G/SLA2/MNDA/ICAM3/ZAP70/FPR1/PAX5/PTPN22/FPR3/LCP2/C5AR1/BTNL8/CD200R1/NCR3/PTPRC/HCK/THEMIS2/C5AR2/WAS/CLEC4E/LILRB1/FCER1G/CLEC6A/HLA-DRA/VAV1/NFAM1/CD300A/PTPN6/TXK/HLA-DQA1/BTK/HLA-DPB1/CD4/KLHL6/GATA3/FCGR2A/LILRB4/LILRA2/HLA-G/TESPA1/NCKAP1L/HLA-DPA1/FCGR3A/HLA-DQB1/C3AR1/CEACAM1/CLEC4A/FCGR1A/KCNN4/FCGR1B/HLA-DRB1/KLRK1/SYK/CARD11/CD160/LILRA4/LAT/CMKLR1/LAT2/CLEC12B/PSMB9/BMX/LYN/FOXP3/MUC12/BLNK/ARPC1B/PLCG2/MICB/CD226/TEC/RELB/PRAM1/MUC3A/LPXN/PIGR/GBP1/INPP5D/NFKBIZ/PSMB8/PIK3CD/CARD9/FOS/ADA/CD40/HLA-A/PSMB10/PRKCD/NFKBID/ZC3H12A/PLSCR1/HLA-DRB5/WIPF1/CD24/PRKCH/ICAM2/LGALS3/KLRC4-KLRK1/ICOSLG/RUNX1/BTN3A2/NR4A3/BTN2A2/KIR2DL1/VAV3/PSME2/SHC1/BTN3A3/CD38/ELF1/GCSAML/BAX/NFATC2/ARPC3/CSK/PSME1/ARPC5/RAB29/CD276/NFKB1/PRKCQ                                                                                                                                                                                                                                                                                                                                                                                                                                       </td><td>C1-Others</td></tr>\n",
       "\t<tr><th scope=row>GO:0002764</th><td>GO:0002764</td><td>immune response-regulating signaling pathway                      </td><td>391</td><td>0.7269053</td><td>2.422028</td><td>8.368025e-47</td><td>4.564060e-45</td><td>2.583811e-45</td><td>2520</td><td>tags=43%, list=13%, signal=38%</td><td>IGLL5/MS4A1/FCRL3/FPR2/CD79A/BLK/CD209/FCN1/CR1/FFAR2/CD3D/CCR7/BTNL3/TRAT1/CD3E/CLEC4C/FCGR2B/CD22/CD3G/UBASH3A/LCK/PVRIG/STAP1/CLEC10A/CR2/LILRB2/SH2D1A/CD19/CTLA4/GPR33/MS4A2/GRAP2/HLA-DQA2/HLA-DQB2/LAX1/BTLA/CD28/ITK/CD79B/GCSAM/FGR/CLEC4D/CD247/THEMIS/FCER1A/SKAP1/MYO1G/SLA2/MNDA/ICAM3/ZAP70/FPR1/PAX5/PTPN22/FPR3/LCP2/C5AR1/BTNL8/CD200R1/NCR3/PTPRC/HCK/THEMIS2/C5AR2/WAS/CLEC4E/LILRB1/FCER1G/CLEC6A/HLA-DRA/VAV1/NFAM1/CD300A/PTPN6/TXK/HLA-DQA1/BTK/HLA-DPB1/CD4/KLHL6/GATA3/CTSH/FCGR2A/LILRB4/LILRA2/HLA-G/TESPA1/NCKAP1L/HLA-DPA1/FCGR3A/HLA-DQB1/C3AR1/CEACAM1/CLEC4A/FCGR1A/KCNN4/FCGR1B/HLA-DRB1/KLRK1/SYK/CARD11/CD33/CD160/LILRA4/LAT/CMKLR1/LAT2/CLEC12B/PSMB9/BMX/LYN/FOXP3/MUC12/BLNK/ARPC1B/PLCG2/MICB/CD226/TEC/RELB/PRAM1/MUC3A/LPXN/PIGR/GBP1/INPP5D/NFKBIZ/PSMB8/PIK3CD/CARD9/FOS/ADA/CD40/HLA-A/PSMB10/PRKCD/NFKBID/ZC3H12A/PLSCR1/HLA-DRB5/WIPF1/CD24/PRKCH/ICAM2/LGALS3/KLRC4-KLRK1/ICOSLG/RUNX1/BTN3A2/NR4A3/BTN2A2/KIR2DL1/VAV3/PSME2/SHC1/BTN3A3/CD38/ELF1/GCSAML/BAX/NFATC2/ARPC3/CSK/PSME1/ARPC5/RAB29/CD276/NFKB1/PRKCQ                                                                                                                                                                                                                                                                                                                                                                                                                             </td><td>C1-Others</td></tr>\n",
       "\t<tr><th scope=row>GO:0050900</th><td>GO:0050900</td><td>leukocyte migration                                               </td><td>441</td><td>0.7605584</td><td>2.539228</td><td>4.859083e-67</td><td>2.120180e-64</td><td>1.200279e-64</td><td>2281</td><td>tags=51%, list=12%, signal=46%</td><td>CCL7/JCHAIN/CCL24/CCL13/FPR2/CXCR1/CEACAM3/CNR2/CXCR2/CXCL9/FFAR2/CXCL10/CD177/CXCL13/CCL5/CCR7/CCL19/CCR6/SIRPG/CXCR3/S100A9/S100A8/LCK/STAP1/CCL11/GPR18/S100A12/CD2/DOK2/PPBP/CD48/CXCL11/FCAMR/SELP/CSF3R/SELL/LBP/CCL17/NLRP12/CCL22/CCR2/RAC2/CCL23/TNFSF11/DEFA1/GCSAM/SELE/PF4/TREM1/CCL21/SLAMF8/CCL4/CCL8/IL10/ITGAX/MYO1G/FUT7/CCL18/CCR5/ADAM8/ZAP70/RHOH/LEP/VPREB3/XCL2/C5AR1/CD200R1/ITGAL/ALOX5/EPX/HCK/CEACAM8/TNFSF14/CCL3/CCL3L3/CCR1/ELANE/C5AR2/CD244/ADGRE2/TNFSF18/CH25H/ITGB2/FCER1G/GPSM3/VAV1/CD300A/PTPN6/TBX21/CCL14/TNFRSF14/CD74/GPR183/ITGAM/MCOLN2/HMOX1/ITGB7/RIPK3/GATA3/LGALS9/IL6/AIF1/PF4V1/NCKAP1L/VCAM1/PTAFR/CCL20/CXCL12/C3AR1/CEACAM1/SLC7A7/CORO1A/IL1B/THBD/CD84/ICAM1/KLRK1/SYK/PTGER4/TRPM2/SPN/MSMP/CXCL5/PYCARD/CCL26/SERPINE1/DYSF/SELPLG/CMKLR1/PIK3CG/CYP19A1/TNFRSF11A/CSF1R/GPR15/LYN/CXCR5/IL23A/TREM2/GYPB/TNFRSF18/ITGA4/DOCK8/COL1A1/CXCR4/SLC16A3/CXCL8/DPP4/CRTAM/COL1A2/CXCL1/CXCL16/IL16/IL6R/PLA2G7/DUSP1/XCL1/GCNT1/ITGA2B/INPP5D/LGMN/SDC1/IL1R1/PLVAP/MDK/CCL2/TNFRSF10A/PIK3CD/SAA1/NKX2-3/PECAM1/STK10/OLR1/RHOG/ADA/ADTRP/IL4/GYPC/TGFB1/TNF/TNFRSF10D/THBS1/ITGA5/MMP1/ANXA1/MMP14/B4GALT1/CD58/CSF1/CCL1/VEGFC/CXCL3/CX3CR1/BST1/LGALS3/BDKRB1/MPP1/KLRC4-KLRK1/FN1/IL27RA/SLC7A8/TMEM102/IL17RA/CXCL2/PTK2B/IL33/MERTK/ITGB3/EMILIN1/PDGFB/MYH9/SLC8B1/APOD/VAV3/CCL28/CCL16/CXCL6/SHC1/RARRES2/F11R/ECM1/GCSAML/AZU1/CXCL14/SCG2/PRTN3                                                                                  </td><td>C1-Others</td></tr>\n",
       "\t<tr><th scope=row>GO:00521261</th><td>GO:0052126</td><td>movement in host environment                                      </td><td>165</td><td>0.6417577</td><td>2.037329</td><td>1.602655e-11</td><td>1.152679e-10</td><td>6.525559e-11</td><td>3040</td><td>tags=36%, list=16%, signal=31%</td><td>CD209/FCN1/CR1/CLEC4G/SLAMF1/CR2/SIGLEC1/FCN3/MRC1/CCR5/ANPEP/TNFRSF14/CD74/CD80/CD4/CLEC4M/ITGB7/LGALS9/VAMP8/HLA-DRB1/ICAM1/PTX3/CD86/SELPLG/GPR15/IFITM2/CXCR4/CXCL8/DPP4/SLC52A1/TRIM38/IFITM1/TRIM22/CTSB/TNFRSF4/CLEC5A/IFITM3/TRIM10/ITGA5/TRIM34/CTSL/HAVCR1/LGALS1/ITGB3/TRIM21/F11R/GSN/TRIM14/PML/SLC1A5/FUCA2/CD55/GYPA/AXL/EPHA2/HYAL2/TMPRSS2/ITGB1/GAS6/TRIML2                                                                                                                                                                                                                                                                                                                                                                                                                                                                                                                                                                                                                                                                                                                                                                                                                                                                                                                                                                                                                                                                                                                   </td><td>C1-Others</td></tr>\n",
       "\t<tr><th scope=row>GO:0030099</th><td>GO:0030099</td><td>myeloid cell differentiation                                      </td><td>390</td><td>0.6134179</td><td>2.043338</td><td>5.998401e-21</td><td>7.338231e-20</td><td>4.154328e-20</td><td>3092</td><td>tags=38%, list=16%, signal=32%</td><td>UBD/LILRB3/CCR7/CCL19/IFNG/BATF/GP1BA/CSF3R/IRF4/GPR171/TNFSF11/PF4/NFE2/SIGLEC15/MMP9/JAK3/RASGRP4/SPI1/CCL3/CCR1/CLEC1B/OSCAR/EVI2B/LILRB1/TYROBP/FCER1G/C1QC/PTPN6/CSF3/CD74/TLR2/GATA1/GPR183/HCLS1/CD4/GATA3/IKZF1/LILRB4/IL11/NCKAP1L/IL12B/SLC4A1/CEBPE/CEACAM1/ALAS2/IRF8/HLA-DRB1/MAFB/POU4F2/GPR55/TNFRSF11A/IL15/CSF1R/LYN/TCIRG1/NRROS/IL23A/TREM2/CEBPB/MYL9/LTF/FES/FLI1/ZFP36/AHSP/RELB/B2M/ITGA2B/CASP8/INPP5D/CEBPA/CSF2/TLR4/PIK3CD/NKX2-3/KLF2/SCIN/EPB42/DCSTAMP/TGFBR2/FOS/IL31RA/CLEC5A/IL4/GAB3/JUNB/TRIM10/TGFB1/TNF/THBS1/NBEAL2/BATF3/SH2B3/LIF/BATF2/IL23R/PPARG/IRF7/IFI16/CSF1/LGALS3/LRRK1/LTBR/ISG15/TRIM58/HOXB7/CDKN2B/PTK2B/ADIPOQ/CARTPT/RUNX1/SBNO2/MYH9/CIB1/NR4A3/NFKBIA/TLR3/LEF1/ACTN1/RAB7B/ETS1/TRIB1/PRTN3/DNASE2/FSTL3/PML/ANXA2/MITF/PRKCQ/ZNF385A/OSTM1/STAT1/FAM20C/PTPN2/G6PD/EPHA2/FBN1/SNX10/TESC/DYRK3/LOX/IL34/ZFP36L1/PDE1B/ESRRA/MEF2C/CA2                                                                                                                                                                                                                                                                                                                                                                                                                                                                                                                                                                                                </td><td>C1-Others</td></tr>\n",
       "\t<tr><th scope=row>GO:00071621</th><td>GO:0007162</td><td>negative regulation of cell adhesion                              </td><td>270</td><td>0.6341202</td><td>2.078263</td><td>1.932201e-17</td><td>1.960659e-16</td><td>1.109971e-16</td><td>2428</td><td>tags=37%, list=12%, signal=33%</td><td>PLA2G2D/CLEC4G/IL2RA/FCGR2B/LILRB2/CTLA4/ARG1/GPNMB/ADAMDEC1/LAX1/CCL21/TIGIT/IL10/IL1RN/IDO1/PTPN22/PTPRC/MYOC/JAK3/LILRB1/CD300A/PTPN6/TBX21/TNFRSF14/CD74/VSIG4/CD80/RUNX3/TNFAIP8L2/PDCD1LG2/LGALS9/HLA-G/IFNL1/ARHGDIB/CXCL12/CEACAM1/LGALS9C/ALOX12/HLA-DRB1/CD86/SPN/TGFBI/SERPINE1/CD274/HAVCR2/IL2/FXYD5/FOXP3/IL4R/SOCS1/CEBPB/CYP1B1/POSTN/COL1A1/CDKN2A/FGL2/CRTAM/DUSP1/LAG3/XCL1/TACSTD2/LPXN/GBP1/IRF1/MDK/MMP12/ADTRP/CLDN7/SIPA1/IL4/HLX/PRKCD/TGFB1/NFKBID/THBS1/AKNA/ZC3H12A/PLXND1/SH2B3/ANXA1/MMP14/C1QTNF1/LRRC32/LGALS3/LGALS9B/HFE/ADIPOQ/LGALS1/RUNX1/BTN2A2/APOD/CCL28/SHH/TNC/ASS1/SNAI2/ZBTB7B/TNFSF4/ACVRL1/TRPV4/KLF4                                                                                                                                                                                                                                                                                                                                                                                                                                                                                                                                                                                                                                                                                                                                                                                                                                             </td><td>C1-Others</td></tr>\n",
       "\t<tr><th scope=row>GO:00224081</th><td>GO:0022408</td><td>negative regulation of cell-cell adhesion                         </td><td>174</td><td>0.7074021</td><td>2.252566</td><td>5.435344e-19</td><td>5.880054e-18</td><td>3.328823e-18</td><td>2491</td><td>tags=44%, list=13%, signal=39%</td><td>PLA2G2D/CLEC4G/IL2RA/FCGR2B/LILRB2/CTLA4/ARG1/GPNMB/LAX1/CCL21/TIGIT/IL10/IL1RN/IDO1/PTPN22/JAK3/LILRB1/CD300A/PTPN6/TBX21/TNFRSF14/CD74/VSIG4/CD80/RUNX3/TNFAIP8L2/PDCD1LG2/LGALS9/HLA-G/IFNL1/CXCL12/CEACAM1/LGALS9C/ALOX12/HLA-DRB1/CD86/SPN/CD274/HAVCR2/IL2/FXYD5/FOXP3/IL4R/SOCS1/CEBPB/FGL2/CRTAM/LAG3/XCL1/IRF1/MDK/ADTRP/IL4/HLX/PRKCD/TGFB1/NFKBID/AKNA/ZC3H12A/SH2B3/ANXA1/C1QTNF1/LRRC32/LGALS3/LGALS9B/HFE/ADIPOQ/RUNX1/BTN2A2/CCL28/SHH/ASS1/ZBTB7B/TNFSF4/TRPV4/KLF4/PLA2G2F                                                                                                                                                                                                                                                                                                                                                                                                                                                                                                                                                                                                                                                                                                                                                                                                                                                                                                                                                                                                     </td><td>C1-Others</td></tr>\n",
       "\t<tr><th scope=row>GO:19037071</th><td>GO:1903707</td><td>negative regulation of hemopoiesis                                </td><td>137</td><td>0.6661614</td><td>2.075494</td><td>1.163356e-11</td><td>8.413440e-11</td><td>4.763027e-11</td><td>2372</td><td>tags=37%, list=12%, signal=33%</td><td>LILRB3/FCGR2B/CTLA4/PGLYRP1/GPR171/PF4/JAK3/CCL3/LILRB1/C1QC/TBX21/CD74/RUNX3/LILRB4/HLA-G/IFNL1/CEACAM1/MAFB/GPR55/IL2/LYN/FOXP3/IL4R/SOCS1/LTF/FGL2/ZFP36/LAG3/INPP5D/IRF1/MDK/TLR4/IL4/HLX/NFKBID/ZC3H12A/ANXA1/TMEM176B/PTK2B/ADIPOQ/CARTPT/RUNX1/CIB1/NFKBIA/TLR3/SHH/TMEM176A/TRIB1/ZBTB7B/TNFSF4/FSTL3                                                                                                                                                                                                                                                                                                                                                                                                                                                                                                                                                                                                                                                                                                                                                                                                                                                                                                                                                                                                                                                                                                                                                                                   </td><td>C1-Others</td></tr>\n",
       "\t<tr><th scope=row>GO:0002683</th><td>GO:0002683</td><td>negative regulation of immune system process                      </td><td>417</td><td>0.7338233</td><td>2.450640</td><td>1.219643e-53</td><td>1.140367e-51</td><td>6.455857e-52</td><td>2322</td><td>tags=45%, list=12%, signal=41%</td><td>TNFRSF13B/FCRL3/BLK/CNR2/PLA2G2D/CR1/CLEC4G/CXCR2/LILRB3/CST7/NLRP6/IL2RA/FCGR2B/CD22/UBASH3A/PVRIG/STAP1/GPR18/LILRB2/SH2D1A/IL7R/TBC1D10C/CTLA4/ARG1/PDCD1/GPNMB/PGLYRP1/LAX1/CCR2/HLA-DOB/GPR171/GCSAM/FGR/CD96/PF4/CCL21/TIGIT/SLAMF8/IL10/SLA2/MNDA/IDO1/PTPN22/CD200R1/CD300LF/PTPRC/CLNK/JAK3/BANK1/CCL3/C5AR2/SAMSN1/LILRB1/TYROBP/FCER1G/CD300A/C1QC/KIR2DL4/PTPN6/TBX21/CD68/TNFRSF14/BTK/CD74/VSIG4/CD80/RUNX3/HMOX1/TSPAN32/TNFAIP8L2/LILRB4/PDCD1LG2/LGALS9/HLA-DOA/HLA-G/IFNL1/LST1/IL12B/CXCL12/CEACAM1/NLRC3/LGALS9C/ALOX15/HLA-F/CD84/HLA-DRB1/KLRK1/MAFB/PTGER4/CD86/SPN/CD160/MILR1/GPR55/TNFAIP3/CD274/CYP19A1/HAVCR2/CLEC12B/IL2/LYN/FOXP3/IL4R/BST2/SOCS1/CEBPB/MICB/HLA-B/LTF/FGL2/GRN/DPP4/CRTAM/TRIM38/ZFP36/DUSP1/LAG3/XCL1/NLRC5/IRAK3/LPXN/GBP1/INPP5D/HLA-E/IRF1/MDK/TLR4/CCL2/IL1RL1/MMP12/STAT6/C4BPB/COL3A1/ADA/ADTRP/IL31RA/IL4/HLA-A/NR1H3/HLX/GPX1/TGFB1/GAL/NMI/TNF/NFKBID/THBS1/A2M/ZC3H12A/ARRB2/ANXA1/PPARG/SERPINB9/IFI16/TMEM176B/LRRC32/RNF125/TAPBPL/LGALS3/KLRC4-KLRK1/SERPING1/LGALS9B/MICA/IL27RA/PTK2B/HFE/ADIPOQ/CARTPT/IL33/MERTK/RUNX1/EMILIN1/PARP14/CIB1/BTN2A2/NFKBIA/TLR3/APOD/CCL28/SHH/DHX58/TMEM176A/ELF1/TRIB1/ZBTB7B/TNFSF4/TSC22D3/BPI                                                                                                                                                                                                                                                                                              </td><td>C1-Others</td></tr>\n",
       "\t<tr><th scope=row>GO:00507281</th><td>GO:0050728</td><td>negative regulation of inflammatory response                      </td><td>137</td><td>0.6687641</td><td>2.083603</td><td>6.317397e-12</td><td>4.752570e-11</td><td>2.690531e-11</td><td>2943</td><td>tags=51%, list=15%, signal=44%</td><td>FPR2/CNR2/IL1R2/CST7/NLRP6/IL2RA/FCGR2B/MEFV/NLRP12/PGLYRP1/SLAMF8/IL10/NLRP7/CD200R1/PTPRC/ALOX5/GPR31/ELANE/ACP5/AOAH/GATA3/TNFAIP8L2/NLRP3/TNFRSF1B/IL12B/NLRC3/SIGLEC10/HLA-DRB1/PTGER4/KRT1/PYCARD/TNFAIP3/CYP19A1/IL2/FOXP3/HGF/GRN/FFAR4/SERPINF1/GHRL/MDK/SOCS3/SAA1/ADA/IL22RA2/IL4/NR1H3/PRKCD/GPX1/IGF1/ZC3H12A/APOE/TNFAIP6/PPARG/METRNL/ADIPOQ/TNFRSF1A/APOD/ADCY7/ETS1/CDH5/GBA/KLF4/NFKB1/PTPN2/ABCD1/ADORA2A/PTGIS/FOXF1/NT5E                                                                                                                                                                                                                                                                                                                                                                                                                                                                                                                                                                                                                                                                                                                                                                                                                                                                                                                                                                                                                                                   </td><td>C1-Others</td></tr>\n",
       "\t<tr><th scope=row>GO:19030381</th><td>GO:1903038</td><td>negative regulation of leukocyte cell-cell adhesion               </td><td>121</td><td>0.7794667</td><td>2.408863</td><td>8.836607e-22</td><td>1.112223e-20</td><td>6.296529e-21</td><td>2261</td><td>tags=54%, list=12%, signal=48%</td><td>PLA2G2D/CLEC4G/IL2RA/FCGR2B/LILRB2/CTLA4/ARG1/GPNMB/LAX1/CCL21/TIGIT/IL10/IDO1/PTPN22/JAK3/LILRB1/CD300A/PTPN6/TBX21/TNFRSF14/CD74/VSIG4/CD80/RUNX3/TNFAIP8L2/PDCD1LG2/LGALS9/HLA-G/IFNL1/CXCL12/CEACAM1/LGALS9C/HLA-DRB1/CD86/SPN/CD274/HAVCR2/IL2/FOXP3/IL4R/SOCS1/CEBPB/FGL2/CRTAM/LAG3/XCL1/IRF1/MDK/ADTRP/IL4/HLX/NFKBID/ZC3H12A/ANXA1/LRRC32/LGALS3/LGALS9B/HFE/RUNX1/BTN2A2/CCL28/SHH/ASS1/ZBTB7B/TNFSF4                                                                                                                                                                                                                                                                                                                                                                                                                                                                                                                                                                                                                                                                                                                                                                                                                                                                                                                                                                                                                                                                                 </td><td>C1-Others</td></tr>\n",
       "\t<tr><th scope=row>GO:19021061</th><td>GO:1902106</td><td>negative regulation of leukocyte differentiation                  </td><td>100</td><td>0.7137981</td><td>2.163354</td><td>7.460684e-12</td><td>5.548884e-11</td><td>3.141341e-11</td><td>2372</td><td>tags=45%, list=12%, signal=40%</td><td>LILRB3/FCGR2B/CTLA4/PGLYRP1/JAK3/CCL3/LILRB1/C1QC/TBX21/CD74/RUNX3/LILRB4/HLA-G/IFNL1/CEACAM1/MAFB/GPR55/IL2/LYN/FOXP3/IL4R/SOCS1/LTF/FGL2/LAG3/INPP5D/IRF1/MDK/TLR4/IL4/HLX/NFKBID/ZC3H12A/ANXA1/TMEM176B/ADIPOQ/CARTPT/RUNX1/TLR3/SHH/TMEM176A/TRIB1/ZBTB7B/TNFSF4/FSTL3                                                                                                                                                                                                                                                                                                                                                                                                                                                                                                                                                                                                                                                                                                                                                                                                                                                                                                                                                                                                                                                                                                                                                                                                                      </td><td>C1-Others</td></tr>\n",
       "\t<tr><th scope=row>GO:0042119</th><td>GO:0042119</td><td>neutrophil activation                                             </td><td>492</td><td>0.7382936</td><td>2.473990</td><td>1.443631e-64</td><td>3.149523e-62</td><td>1.783012e-62</td><td>2558</td><td>tags=48%, list=13%, signal=42%</td><td>MCEMP1/PRG3/ADGRG3/FPR2/CXCR1/CEACAM3/IL18RAP/FCN1/CTSG/CR1/CXCR2/LILRB3/CD177/ORM1/CCL5/FCAR/S100P/ADGRE3/CLEC4C/FCGR3B/FCGR2B/S100A9/S100A8/PLA2G2A/HK3/S100A12/LRG1/PPBP/LILRB2/LYZ/TBC1D10C/CLEC12A/TCN1/CHI3L1/ARG1/SELL/P2RX1/PGLYRP1/CD36/MMP25/DEFA4/DEFA1/FGR/CLEC4D/CAMP/ITGAX/MNDA/ADAM8/RETN/MMP9/FPR1/ARHGAP9/TTR/C5AR1/SLC11A1/SIGLEC5/ITGAL/CTSS/ORM2/PTPRC/CD14/ALOX5/EPX/CEACAM8/DOK3/MGAM/CD53/ELANE/HBB/BIN2/VNN1/OSCAR/SERPINA1/ITGB2/GMFG/TYROBP/SIGLEC14/FCER1G/FOLR3/NFAM1/CD300A/PTPN6/CD68/ANPEP/LAIR1/CFD/CRISP3/TLR2/ABCA13/PLAUR/ITGAM/PLAC8/RAB44/CTSH/FCGR2A/SIRPB1/CYBB/DNASE1L3/RNASE2/STXBP2/LILRA2/DOCK2/VAMP8/SIGLEC9/NCKAP1L/TNFRSF1B/PTAFR/CFP/GPR84/C3AR1/CEACAM1/SYK/PTX3/CD33/TRPM2/CYBA/PRG2/KRT1/PYCARD/GLIPR1/HPSE/IL15/LCN2/TCIRG1/PLAU/BST2/CTSZ/CTSC/MME/RNASE3/CDA/SLC2A5/FTL/HLA-B/LTF/NPC2/CXCL8/ALDH3B1/FGL2/GRN/S100A11/CXCL1/CTSB/IL18/B2M/UNC13D/PRAM1/PIGR/ADGRE5/CTSD/CD93/C3/MMP8/PECAM1/SERPINB1/STK10/RNASET2/FUCA1/ATP8B4/GSDMD/OLR1/RHOG/SLPI/MAN2B1/CLEC5A/CNN2/SLCO4C1/RAB27A/PRKCD/CRACR2A/NBEAL2/HLA-C/MS4A3/OSTF1/B4GALT1/TNFAIP6/CTSA/CD58/PLEKHO2/ANXA3/CREG1/SERPINA3/BST1/LGALS3/AGPAT2/KCNAB2/AOC1/HEXB/GCA/MVP/TMC6/SLC2A3/BRI3/PYGL/COTL1/CHIT1/AMPD3/HSPA6/CD63/FTH1/HVCN1/PSAP/CHRNB4/ASAH1/CSTB/CXCL6/SNAP23/DNASE1L1/GSN/GAA/AZU1/RAB37/PRTN3/HP/SDCBP/GUSB/BPI/STOM/ARPC5/TICAM2/GLA/IQGAP2/ANXA2/NEU1/FUCA2/GM2A/NFKB1/CD55/PLD1/ARSA/RHOF/GNS/IQGAP1/IMPDH1                                                      </td><td>C1-Others</td></tr>\n",
       "\t<tr><th scope=row>GO:0002283</th><td>GO:0002283</td><td>neutrophil activation involved in immune response                 </td><td>481</td><td>0.7346068</td><td>2.458720</td><td>2.015063e-61</td><td>3.297146e-59</td><td>1.866584e-59</td><td>2558</td><td>tags=47%, list=13%, signal=42%</td><td>MCEMP1/PRG3/ADGRG3/FPR2/CXCR1/CEACAM3/FCN1/CTSG/CR1/CXCR2/LILRB3/CD177/ORM1/FCAR/S100P/ADGRE3/CLEC4C/FCGR3B/S100A9/S100A8/HK3/S100A12/LRG1/PPBP/LILRB2/LYZ/TBC1D10C/CLEC12A/TCN1/CHI3L1/ARG1/SELL/P2RX1/PGLYRP1/CD36/MMP25/DEFA4/DEFA1/FGR/CLEC4D/CAMP/ITGAX/MNDA/ADAM8/RETN/MMP9/FPR1/ARHGAP9/TTR/C5AR1/SLC11A1/SIGLEC5/ITGAL/CTSS/ORM2/PTPRC/CD14/ALOX5/EPX/CEACAM8/DOK3/MGAM/CD53/ELANE/HBB/BIN2/VNN1/OSCAR/SERPINA1/ITGB2/GMFG/TYROBP/SIGLEC14/FCER1G/FOLR3/NFAM1/CD300A/PTPN6/CD68/ANPEP/LAIR1/CFD/CRISP3/TLR2/ABCA13/PLAUR/ITGAM/PLAC8/RAB44/CTSH/FCGR2A/SIRPB1/CYBB/DNASE1L3/RNASE2/STXBP2/LILRA2/DOCK2/VAMP8/SIGLEC9/NCKAP1L/TNFRSF1B/PTAFR/CFP/GPR84/C3AR1/CEACAM1/SYK/PTX3/CD33/TRPM2/CYBA/PRG2/KRT1/PYCARD/GLIPR1/HPSE/LCN2/TCIRG1/PLAU/BST2/CTSZ/CTSC/MME/RNASE3/CDA/SLC2A5/FTL/HLA-B/LTF/NPC2/ALDH3B1/FGL2/GRN/S100A11/CXCL1/CTSB/B2M/UNC13D/PRAM1/PIGR/ADGRE5/CTSD/CD93/C3/MMP8/PECAM1/SERPINB1/STK10/RNASET2/FUCA1/ATP8B4/GSDMD/OLR1/RHOG/SLPI/MAN2B1/CLEC5A/CNN2/SLCO4C1/RAB27A/PRKCD/CRACR2A/NBEAL2/HLA-C/MS4A3/OSTF1/B4GALT1/TNFAIP6/CTSA/CD58/PLEKHO2/ANXA3/CREG1/SERPINA3/BST1/LGALS3/AGPAT2/KCNAB2/AOC1/HEXB/GCA/MVP/TMC6/SLC2A3/BRI3/PYGL/COTL1/CHIT1/AMPD3/HSPA6/CD63/FTH1/HVCN1/PSAP/CHRNB4/ASAH1/CSTB/SNAP23/DNASE1L1/GSN/GAA/AZU1/RAB37/PRTN3/HP/SDCBP/GUSB/BPI/STOM/ARPC5/TICAM2/GLA/IQGAP2/ANXA2/NEU1/FUCA2/GM2A/NFKB1/CD55/PLD1/ARSA/RHOF/GNS/IQGAP1/IMPDH1                                                                                                        </td><td>C1-Others</td></tr>\n",
       "\t<tr><th scope=row>GO:0043312</th><td>GO:0043312</td><td>neutrophil degranulation                                          </td><td>478</td><td>0.7343398</td><td>2.459058</td><td>2.473838e-61</td><td>3.598060e-59</td><td>2.036938e-59</td><td>2558</td><td>tags=47%, list=13%, signal=42%</td><td>MCEMP1/PRG3/ADGRG3/FPR2/CXCR1/CEACAM3/FCN1/CTSG/CR1/CXCR2/LILRB3/CD177/ORM1/FCAR/S100P/ADGRE3/CLEC4C/FCGR3B/S100A9/S100A8/HK3/S100A12/LRG1/PPBP/LILRB2/LYZ/TBC1D10C/CLEC12A/TCN1/CHI3L1/ARG1/SELL/P2RX1/PGLYRP1/CD36/MMP25/DEFA4/DEFA1/FGR/CLEC4D/CAMP/ITGAX/MNDA/ADAM8/RETN/MMP9/FPR1/ARHGAP9/TTR/C5AR1/SLC11A1/SIGLEC5/ITGAL/CTSS/ORM2/PTPRC/CD14/ALOX5/EPX/CEACAM8/DOK3/MGAM/CD53/ELANE/HBB/BIN2/VNN1/OSCAR/SERPINA1/ITGB2/GMFG/TYROBP/SIGLEC14/FCER1G/FOLR3/NFAM1/CD300A/PTPN6/CD68/ANPEP/LAIR1/CFD/CRISP3/TLR2/ABCA13/PLAUR/ITGAM/PLAC8/RAB44/CTSH/FCGR2A/SIRPB1/CYBB/RNASE2/STXBP2/DOCK2/VAMP8/SIGLEC9/NCKAP1L/TNFRSF1B/PTAFR/CFP/GPR84/C3AR1/CEACAM1/SYK/PTX3/CD33/TRPM2/CYBA/PRG2/KRT1/PYCARD/GLIPR1/HPSE/LCN2/TCIRG1/PLAU/BST2/CTSZ/CTSC/MME/RNASE3/CDA/SLC2A5/FTL/HLA-B/LTF/NPC2/ALDH3B1/FGL2/GRN/S100A11/CXCL1/CTSB/B2M/UNC13D/PRAM1/PIGR/ADGRE5/CTSD/CD93/C3/MMP8/PECAM1/SERPINB1/STK10/RNASET2/FUCA1/ATP8B4/GSDMD/OLR1/RHOG/SLPI/MAN2B1/CLEC5A/CNN2/SLCO4C1/RAB27A/PRKCD/CRACR2A/NBEAL2/HLA-C/MS4A3/OSTF1/B4GALT1/TNFAIP6/CTSA/CD58/PLEKHO2/ANXA3/CREG1/SERPINA3/BST1/LGALS3/AGPAT2/KCNAB2/AOC1/HEXB/GCA/MVP/TMC6/SLC2A3/BRI3/PYGL/COTL1/CHIT1/AMPD3/HSPA6/CD63/FTH1/HVCN1/PSAP/CHRNB4/ASAH1/CSTB/SNAP23/DNASE1L1/GSN/GAA/AZU1/RAB37/PRTN3/HP/SDCBP/GUSB/BPI/STOM/ARPC5/TICAM2/GLA/IQGAP2/ANXA2/NEU1/FUCA2/GM2A/NFKB1/CD55/PLD1/ARSA/RHOF/GNS/IQGAP1/IMPDH1                                                                                                                        </td><td>C1-Others</td></tr>\n",
       "\t<tr><th scope=row>GO:0002446</th><td>GO:0002446</td><td>neutrophil mediated immunity                                      </td><td>492</td><td>0.7285731</td><td>2.441417</td><td>2.834453e-60</td><td>3.710299e-58</td><td>2.100479e-58</td><td>2558</td><td>tags=46%, list=13%, signal=41%</td><td>MCEMP1/PRG3/ADGRG3/FPR2/CXCR1/CEACAM3/FCN1/CTSG/CR1/CXCR2/LILRB3/CD177/ORM1/FCAR/S100P/ADGRE3/CLEC4C/FCGR3B/S100A9/S100A8/HK3/S100A12/LRG1/PPBP/LILRB2/LYZ/TBC1D10C/CLEC12A/TCN1/CHI3L1/ARG1/SELL/P2RX1/PGLYRP1/CD36/MMP25/DEFA4/DEFA1/FGR/CLEC4D/CAMP/ITGAX/MNDA/ADAM8/RETN/MMP9/FPR1/ARHGAP9/TTR/C5AR1/SLC11A1/SIGLEC5/ITGAL/CTSS/ORM2/PTPRC/CD14/ALOX5/EPX/CEACAM8/DOK3/MGAM/CD53/ELANE/HBB/BIN2/VNN1/OSCAR/SERPINA1/ITGB2/GMFG/TYROBP/SIGLEC14/FCER1G/FOLR3/NFAM1/CD300A/PTPN6/CD68/ANPEP/LAIR1/CFD/CRISP3/TLR2/ABCA13/PLAUR/ITGAM/PLAC8/RAB44/CTSH/FCGR2A/SIRPB1/CYBB/DNASE1L3/RNASE2/IL6/STXBP2/DOCK2/VAMP8/SIGLEC9/NCKAP1L/TNFRSF1B/PTAFR/CFP/GPR84/C3AR1/CEACAM1/SYK/PTX3/CD33/TRPM2/CYBA/PRG2/KRT1/PYCARD/GLIPR1/HPSE/LCN2/TCIRG1/PLAU/BST2/CTSZ/CTSC/MME/RNASE3/CDA/SLC2A5/FTL/HLA-B/LTF/NPC2/ALDH3B1/FGL2/GRN/S100A11/CXCL1/CTSB/B2M/UNC13D/PRAM1/PIGR/ADGRE5/CTSD/CD93/C3/MMP8/PECAM1/SERPINB1/STK10/RNASET2/FUCA1/ATP8B4/GSDMD/OLR1/RHOG/SLPI/MAN2B1/CLEC5A/CNN2/SLCO4C1/RAB27A/PRKCD/CRACR2A/NBEAL2/HLA-C/MS4A3/OSTF1/B4GALT1/TNFAIP6/CTSA/CD58/PLEKHO2/ANXA3/CREG1/SERPINA3/BST1/LGALS3/AGPAT2/KCNAB2/AOC1/HEXB/GCA/MVP/TMC6/SLC2A3/BRI3/PYGL/COTL1/CHIT1/AMPD3/HSPA6/CD63/FTH1/HVCN1/PSAP/CHRNB4/ASAH1/CSTB/CXCL6/SNAP23/DNASE1L1/GSN/GAA/AZU1/RAB37/PRTN3/HP/SDCBP/GUSB/BPI/STOM/ARPC5/TICAM2/GLA/IQGAP2/ANXA2/NEU1/FUCA2/GM2A/NFKB1/CD55/PLD1/ARSA/RHOF/GNS/IQGAP1/IMPDH1                                                                                                     </td><td>C1-Others</td></tr>\n",
       "\t<tr><th scope=row>GO:00301681</th><td>GO:0030168</td><td>platelet activation                                               </td><td>157</td><td>0.6404396</td><td>2.023161</td><td>4.076733e-11</td><td>2.823515e-10</td><td>1.598452e-10</td><td>3242</td><td>tags=51%, list=17%, signal=43%</td><td>BLK/LCK/GP1BA/SELP/P2RX1/COMP/PF4/CD40LG/PLEK/GP9/LCP2/HBB/FERMT3/CLEC1B/FCER1G/PIK3R5/VAV1/PTPN6/TXK/GATA1/TSPAN32/TREML1/IL6/PF4V1/CEACAM1/THBD/GNA15/ALOX12/SYK/PIK3CG/LYN/PLCG2/COL1A1/MYL9/COL1A2/PIK3R6/TEC/ITGA2B/TLR4/SAA1/COL3A1/CD40/PRKCD/ARRB2/SH2B3/APOE/GNA14/C1QTNF1/PLSCR1/CLIC1/PRKCH/MYL12A/FN1/NOS3/MERTK/ITGB3/PDGFB/MYH9/VAV3/DGKA/VWF/F11R/ITPR3/ADRA2A/P2RY12/F2RL3/PRKCQ/ACTB/RAP2B/FLNA/AXL/HSPB1/PDPN/PLA2G4A/F2RL2/TLN1/VCL/TRPC6/F8/UBASH3B                                                                                                                                                                                                                                                                                                                                                                                                                                                                                                                                                                                                                                                                                                                                                                                                                                                                                                                                                                                                                         </td><td>C1-Others</td></tr>\n",
       "\t<tr><th scope=row>GO:00457661</th><td>GO:0045766</td><td>positive regulation of angiogenesis                               </td><td>164</td><td>0.6555636</td><td>2.076995</td><td>1.113472e-12</td><td>8.780328e-12</td><td>4.970730e-12</td><td>3504</td><td>tags=51%, list=18%, signal=42%</td><td>CCL24/CXCR2/CMA1/CCL11/LRG1/CHI3L1/IL10/ITGAX/C5AR1/CCR3/ITGB2/HMOX1/CTSH/CYBB/C3AR1/IL1B/EPHA1/C6/SERPINE1/CYP1B1/CELA1/TMIGD2/HGF/CXCR4/CXCL8/GRN/GHRL/PIK3R6/ADM2/C3/ENG/MDK/ADAM12/TGFBR2/SRPX2/CD40/RRAS/THBS1/ITGA5/ZC3H12A/PTGS2/ANXA1/IL1A/SFRP2/ANXA3/VEGFC/CX3CR1/FOXC2/NRP1/SPHK1/PTK2B/NOS3/ADM/RUNX1/TNFSF12/TBXA2R/CIB1/TLR3/ECM1/ETS1/CDH5/BTG1/ACVRL1/TWIST1/KLF4/SMOC2/CD34/RHOJ/HSPB6/HSPB1/MYDGF/PTGIS/APLNR/XBP1/ITGB1/ANGPTL4/RAMP2/GATA6/HDAC7/PRKD2/PLK2/RLN2/MAP3K3                                                                                                                                                                                                                                                                                                                                                                                                                                                                                                                                                                                                                                                                                                                                                                                                                                                                                                                                                                                                     </td><td>C1-Others</td></tr>\n",
       "\t<tr><th scope=row>GO:0050867</th><td>GO:0050867</td><td>positive regulation of cell activation                            </td><td>328</td><td>0.7692629</td><td>2.547824</td><td>1.435918e-54</td><td>1.445859e-52</td><td>8.185315e-53</td><td>2277</td><td>tags=54%, list=12%, signal=49%</td><td>IGLL5/FCRL3/CD209/LILRA5/CD27/CD177/CCL5/CCR7/ICOS/CD3E/IL2RA/CCL19/SIRPG/LCK/STAP1/CD2/IFNG/LILRB2/IL7R/CTLA4/SELP/CD5/PDCD1/LBP/GRAP2/CCR2/BTLA/CD28/TNFSF11/CD6/FGR/CLEC4D/CCL21/CD40LG/PLEK/IL10/ADAM8/ZAP70/RHOH/LEP/PTPN22/PTPRC/TNFSF14/JAK3/CCL3/SASH3/VNN1/ITGB2/LILRB1/TYROBP/FCER1G/VAV1/CLECL1/PTPN6/TBX21/TNFRSF14/BTK/CD74/HLA-DMB/GPR183/CLEC7A/IL12RB1/ITGAM/CD80/RUNX3/HLA-DPB1/CD4/NOD2/CRLF2/GATA3/CD1D/SIRPB1/LILRB4/PDCD1LG2/LGALS9/RASAL3/IL6/LILRA2/VAMP8/AIF1/HLA-G/TESPA1/NLRP3/NCKAP1L/HLA-DPA1/VCAM1/PTAFR/IL12B/CORO1A/IL1B/HLA-F/KLRK1/SYK/CARD11/CD86/CD70/CD160/PYCARD/EBI3/CD274/TNFSF13B/HAVCR2/MAP3K8/IL15/IL2/LYN/TNFSF13/FOXP3/IL4R/CCDC88B/CTSC/IL23A/SOCS1/TREM2/DOCK8/TMIGD2/CD226/TLR6/DPP4/IL18/PIK3R6/XCL1/TNFRSF4/SPTA1/INPP5D/NFKBIZ/CEBPA/CAPN3/HLA-E/MDK/TLR4/CCL2/MMP8/IL1RL1/CLCF1/TGFBR2/STAT6/ADA/CD40/IL4/HLA-A/EGR3/HLX/RPS6KA1/TGFB1/TSLP/IGF1/NFKBID/THBS1/ANXA1/MMP14/IL23R/IL1A/IL21/CD24/CD83/BST1/CDKN1A/FLT3LG/KLRC4-KLRK1/IL27RA/ICOSLG/HAVCR1/IL33/LGALS1/RUNX1/NR4A3/BTN2A2/VAV3/LEF1/SHH/MYB/RASGRP1/CD38/F11R/ZBTB7B/TNFSF4/NFATC2                                                                                                                                                                                                                                                                                                                                                                                              </td><td>C1-Others</td></tr>\n",
       "\t<tr><th scope=row>GO:0045785</th><td>GO:0045785</td><td>positive regulation of cell adhesion                              </td><td>415</td><td>0.6994801</td><td>2.336217</td><td>7.891431e-42</td><td>2.791860e-40</td><td>1.580531e-40</td><td>2547</td><td>tags=46%, list=13%, signal=41%</td><td>CD209/CD27/CXCL13/CCL5/CCR7/ICOS/CD3E/IL2RA/CCL19/AGR2/SIRPG/LCK/IFNG/LILRB2/IL7R/CTLA4/SELP/CD5/PDCD1/GRAP2/CCR2/CD36/BTLA/CD28/TNFSF11/CD6/SELE/CCL21/CD40LG/SKAP1/IL10/FUT7/ADAM8/ZAP70/RHOH/EGFL6/LEP/PTPN22/PTPRC/ALOX5/MYOC/TNFSF14/JAK3/ELANE/SASH3/VNN1/TNFSF18/ITGB2/LILRB1/VAV1/CLECL1/PTPN6/TNFRSF14/CD74/HLA-DMB/IL12RB1/PLAUR/CD80/RUNX3/HLA-DPB1/CD4/NOD2/GATA3/CD1D/SIRPB1/LILRB4/PDCD1LG2/LGALS9/RASAL3/IL6/AIF1/HLA-G/APBB1IP/TESPA1/NLRP3/CASS4/NCKAP1L/HLA-DPA1/VCAM1/PTAFR/IL12B/CXCL12/CORO1A/IL1B/ALOX15/EPHA1/ICAM1/KLRK1/SYK/CARD11/CD86/CD70/CD160/PYCARD/DYSF/EBI3/CD274/TNFSF13B/HAVCR2/MAP3K8/IL15/IL2/LYN/FOXP3/IL4R/CCDC88B/IL23A/SOCS1/TNFRSF18/ITGA4/DOCK8/TMIGD2/DPP4/IL18/PIK3R6/XCL1/UNC13D/SPTA1/NFKBIZ/HLA-E/MDK/TGM2/CCL2/SAA1/IBSP/TGFBR2/ADA/IL4/HLA-A/RRAS/EGR3/HLX/IGF1/RHOD/TNF/NFKBID/ITGA5/ANXA1/LIF/IL23R/IL1A/IL21/SFRP2/CSF1/CD24/CD83/FOXC2/KLRC4-KLRK1/NRP1/FN1/IL27RA/TMEM102/PTK2B/ICOSLG/NINJ1/STX3/LGALS1/RUNX1/EMILIN1/CIB1/NR4A3/BTN2A2/WNT4/VAV3/CCL28/LEF1/SHH/MYB/RASGRP1/F11R/EGFLAM/ADAM19/VTN/ETS1/DOCK5/VIT/RREB1/AZU1/ZBTB7B/TNFSF4/S100A10/FMN1/CSK/P2RY12/FSTL3/PLEKHA2/SMOC2/CD276/CD55/PRKCQ/IQGAP1/IL1RL2                                                                                                                                                                                                                                                                                                                  </td><td>C1-Others</td></tr>\n",
       "\t<tr><th scope=row>GO:00509211</th><td>GO:0050921</td><td>positive regulation of chemotaxis                                 </td><td>141</td><td>0.7017277</td><td>2.194087</td><td>1.370113e-15</td><td>1.281055e-14</td><td>7.252325e-15</td><td>3023</td><td>tags=50%, list=16%, signal=43%</td><td>CCL7/FPR2/CXCR2/CXCL10/CXCL13/CCL5/CCR7/CCL19/CCR4/CCR6/LBP/CCR2/RAC2/CCL21/CCL4/XCL2/C5AR1/TNFSF14/CCL3/CCR1/GPSM3/CD74/LGALS9/IL6/AIF1/NCKAP1L/CXCL12/C3AR1/CCL26/SERPINE1/DYSF/CMKLR1/CSF1R/IL23A/TREM2/CXCR4/CXCL8/IL16/IL6R/PLA2G7/XCL1/LGMN/MDK/SUCNR1/IL4/TGFB1/THBS1/TMSB4X/CSF1/CCL1/VEGFC/NRP1/TMEM102/PTK2B/STX3/PDGFB/RARRES2/AZU1/CXCL14/SCG2/P2RY12/TRPV4/SMOC2/P2RX4/IL12A/HSPB1/STX4/FGF16/IL34/S100A14/GAS6                                                                                                                                                                                                                                                                                                                                                                                                                                                                                                                                                                                                                                                                                                                                                                                                                                                                                                                                                                                                                                                                    </td><td>C1-Others</td></tr>\n",
       "\t<tr><th scope=row>GO:0001819</th><td>GO:0001819</td><td>positive regulation of cytokine production                        </td><td>425</td><td>0.7391173</td><td>2.466626</td><td>1.964987e-57</td><td>2.338335e-55</td><td>1.323781e-55</td><td>2568</td><td>tags=49%, list=13%, signal=44%</td><td>PRG3/FCN1/LILRA5/SERPINB7/FFAR2/ORM1/POU2AF1/CCR7/SLAMF6/CD3E/CCL19/LTB/LY9/CD2/IFNG/LILRB2/PYHIN1/OSM/LBP/NLRP12/CCR2/IRF4/CD36/CD28/ZBP1/CD6/FGR/GBP5/PF4/TIGIT/CD40LG/TLR8/IL10/MNDA/ADAM8/IDO1/LEP/PTPN22/C5AR1/SLC11A1/LUM/ORM2/PTPRC/CD14/EPX/CLNK/EREG/LY96/CCL3/FFAR3/ELANE/IL27/SASH3/CD244/CLEC4E/LILRB1/TYROBP/FCER1G/GPSM3/CLEC6A/NFAM1/KIR2DL4/TXK/TNFRSF14/CD74/TLR2/CLEC7A/IL12RB1/SCIMP/CD80/MCOLN2/HLA-DPB1/CD4/NOD2/LTA/CRLF2/GATA3/LGALS9/IL6/LILRA2/AIF1/HLA-G/NLRP3/HLA-DPA1/PTAFR/IFNL1/IL12B/C3AR1/BIRC3/CASP1/IL1B/HLA-F/IRF8/NLRC4/AIM2/KLRK1/SYK/IL18R1/CARD11/PTGER4/CD86/CYBA/CD160/TLR7/HTR2B/PYCARD/SERPINE1/EBI3/CD274/BCL3/HAVCR2/HPSE/IL15/IL2/FOXP3/SPON2/CCDC88B/IL23A/TREM2/PLCG2/CEBPB/CYP1B1/TMIGD2/IRF5/CD226/HGF/TLR6/TLR1/CRTAM/IL16/IL6R/TLR5/IL18/XCL1/B2M/CLEC9A/CASP8/POU2F2/HLA-E/IRF1/C3/IL1R1/CSF2/MDK/TLR4/MMP8/IL1RL1/SAA1/GSDMD/CARD9/STAT6/CD40/CLEC5A/IL4/NFKB2/NLRP10/HLA-A/MAPK13/TGFB1/TSLP/TNF/THBS1/PTGS2/ANXA1/IL23R/IL1A/IL21/IL12RB2/MYD88/RSAD2/CD58/NOX1/IRF7/IFI16/CCL1/RNF135/CD83/RNF125/AGPAT2/EGR1/KLRC4-KLRK1/SPHK1/IL27RA/IL17RA/ADIPOQ/IFIH1/IL33/RUNX1/NR4A3/TLR3/DDX60/DHX58/MYB/RASGRP1/RAB7B/RAET1G/AZU1/TNFSF4/NOD1/ADRA2A/TRPV4/TWIST1/CD276/IRF3/NFKB1/CD34/PRKCQ/IL1RL2/STAT1                                                                                                                                                                                                                                    </td><td>C1-Others</td></tr>\n",
       "\t<tr><th scope=row>GO:00703741</th><td>GO:0070374</td><td>positive regulation of ERK1 and ERK2 cascade                      </td><td>194</td><td>0.6604664</td><td>2.120796</td><td>1.895890e-15</td><td>1.760085e-14</td><td>9.964214e-15</td><td>2146</td><td>tags=37%, list=11%, signal=33%</td><td>CCL7/FGF4/CCL24/MARCO/CCL13/FPR2/CCL5/CCR7/CCL19/SLAMF1/PLA2G2A/CCL11/CHI3L1/GPNMB/CCL17/CCL22/CD36/CCL23/TNFSF11/CCL21/CCL4/CCL8/CCL18/PTPN22/XCL2/C5AR1/PTPRC/CCL3/CCL3L3/CCR1/C5AR2/CCL14/CD74/GPR183/SCIMP/CD4/NOD2/LGALS9/CCL20/ALOX15/HLA-DRB1/ICAM1/HTR2B/PYCARD/GPR55/CCL26/HAVCR2/TNFRSF11A/CSF1R/TREM2/GPBAR1/FFAR4/XCL1/P2RY6/TLR4/CCL2/ABCA7/TNFAIP8L3/TGFB1/TNF/ARRB2/APOE/CCL1/PLA2G5/NRP1/PTK2B/PDGFB/CIB1/NTRK1/CCL16/RASGRP1/SHC1                                                                                                                                                                                                                                                                                                                                                                                                                                                                                                                                                                                                                                                                                                                                                                                                                                                                                                                                                                                                                                              </td><td>C1-Others</td></tr>\n",
       "\t<tr><th scope=row>GO:00507311</th><td>GO:0050731</td><td>positive regulation of peptidyl-tyrosine phosphorylation          </td><td>189</td><td>0.6286838</td><td>2.009875</td><td>1.025238e-11</td><td>7.455758e-11</td><td>4.220862e-11</td><td>2206</td><td>tags=41%, list=11%, signal=36%</td><td>LILRA5/CCL5/CD3E/STAP1/IL24/IFNG/OSM/CD36/NCF1/LEP/AREG/PTPRC/EREG/BANK1/TNFSF18/CSF3/TNFRSF14/CD74/GATA1/CD80/HCLS1/CD4/IL11/IL6/CASS4/IFNL1/IL12B/FCGR1A/ICAM1/SYK/IL15/IL2/CSF1R/LYN/FLT3/IL23A/TREM2/TNFRSF18/HGF/IL6R/GHRL/IL18/TEC/CSF2/TDGF1/SOCS3/PECAM1/CLCF1/IL31RA/CD40/IL4/TGFB1/TSLP/IGF1/TNF/ITGA5/ARRB2/LIF/IL23R/IL21/HBEGF/CD24/GH1/BTC/LRRK1/NRP1/PTK2B/ADIPOQ/TNFRSF1A/ITGB3/EHD4/PARP9/PDGFB/PARP14/CSH2/FGF7/VTN                                                                                                                                                                                                                                                                                                                                                                                                                                                                                                                                                                                                                                                                                                                                                                                                                                                                                                                                                                                                                                                           </td><td>C1-Others</td></tr>\n",
       "\t<tr><th scope=row>GO:00028331</th><td>GO:0002833</td><td>positive regulation of response to biotic stimulus                </td><td>242</td><td>0.6915535</td><td>2.255941</td><td>1.845350e-23</td><td>2.597379e-22</td><td>1.470431e-22</td><td>2497</td><td>tags=37%, list=13%, signal=33%</td><td>FPR2/IL18RAP/CD209/FCN1/FFAR2/CCL5/SLAMF6/CLEC4C/CLEC10A/SH2D1A/PYHIN1/ARG1/LBP/ZBP1/CLEC4D/GBP5/TLR8/MNDA/ADAM8/ICAM3/NCR3/CLNK/HCK/EREG/LY96/CLEC4E/FCER1G/CLEC6A/VAV1/CD180/KIR2DL4/TXK/SCIMP/CD1D/LILRA2/HLA-G/IL12B/LY86/CLEC4A/HLA-F/NLRC4/AIM2/KLRK1/SYK/CARD11/CYBA/CD160/PYCARD/CD274/HAVCR2/PSMB9/LYN/MUC12/PLCG2/IKBKE/SH2D1B/CD226/GRN/CRTAM/LAG3/RELB/NLRC5/MUC3A/HLA-E/PSMB8/TLR4/MMP12/CARD9/NLRP10/PSMB10/PRKCD/IL21/PLSCR1/IRF7/IFI16/MR1/PLA2G5/ICAM2/KLRC4-KLRK1/PARP9/PSME2/DDX60/DHX58/RASGRP1/RAET1G/NOD1/PSME1/IRF3/RAET1E/NFKB1                                                                                                                                                                                                                                                                                                                                                                                                                                                                                                                                                                                                                                                                                                                                                                                                                                                                                                                                         </td><td>C1-Others</td></tr>\n",
       "\t<tr><th scope=row>GO:0032103</th><td>GO:0032103</td><td>positive regulation of response to external stimulus              </td><td>498</td><td>0.6934299</td><td>2.324790</td><td>3.841677e-48</td><td>2.186415e-46</td><td>1.237776e-46</td><td>2498</td><td>tags=42%, list=13%, signal=38%</td><td>CCL7/CCL24/FPR2/IL18RAP/CD209/FCN1/LILRA5/CXCR2/FFAR2/CXCL10/CXCL13/CCL5/CCR7/SLAMF6/CLEC4C/CCL19/CCR4/CCR6/S100A9/S100A8/PLA2G2A/STAP1/S100A12/IFNG/CLEC10A/SH2D1A/PYHIN1/OSM/ARG1/LBP/NLRP12/CCR2/RAC2/CD28/ZBP1/TNFSF11/CD6/CLEC4D/GBP5/CCL21/CCL4/TLR8/MNDA/ADAM8/ICAM3/IDO1/XCL2/C5AR1/NCR3/CLNK/HCK/FABP4/TNFSF14/EREG/LY96/CCL3/FFAR3/CCR1/CLEC4E/TLR10/FCER1G/GPSM3/CLEC6A/VAV1/CD180/KIR2DL4/TXK/BTK/CD74/TLR2/CLEC7A/SCIMP/NOD2/LTA/CD1D/LGALS9/IL6/LILRA2/VAMP8/AIF1/HLA-G/NCKAP1L/IL12B/CXCL12/C3AR1/LY86/CLEC4A/IL1B/HLA-F/THBD/NLRC4/AIM2/KLRK1/SYK/CARD11/PTGER4/CYBA/CD160/TLR7/PYCARD/CCL26/SERPINE1/DYSF/CMKLR1/PIK3CG/HAVCR2/TNFRSF11A/PSMB9/IL15/IL2/CSF1R/LYN/MUC12/CTSC/IL23A/TREM2/PLCG2/IKBKE/CEBPB/SH2D1B/CD226/CXCR4/TLR6/CXCL8/GRN/CRTAM/IL16/IL6R/PLA2G7/GHRL/IL18/LAG3/XCL1/RELB/NLRC5/MUC3A/NFKBIZ/CEBPA/LGMN/HLA-E/C3/PSMB8/MDK/TGM2/TLR4/MMP8/IL1RL1/MMP12/CARD9/SUCNR1/IL4/NLRP10/PSMB10/MAPK13/NUPR1/PRKCD/TGFB1/TSLP/TNF/THBS1/PTGS2/TRADD/IL21/MYD88/PLSCR1/TMSB4X/IRF7/IFI16/CSF1/CCL1/VEGFC/PLA2G5/SCARF1/ICAM2/KLRC4-KLRK1/NRP1/TMEM102/IL17RA/PTK2B/MGST2/TNFRSF1A/IL33/STX3/PARP9/PDGFB/NFKBIA/TLR3/PSME2/DDX60/DHX58/RASGRP1/RARRES2/ETS1/RAET1G/AZU1/CXCL14/TNFSF4/NOD1/SCG2/P2RY12/C2CD4B/GPR4/PSME1/TRPV4/SMOC2/LRRK2/IRF3/RAET1E/NFKB1/OSMR                                                                                                                                                                                                       </td><td>C1-Others</td></tr>\n",
       "\t<tr><th scope=row>GO:19040181</th><td>GO:1904018</td><td>positive regulation of vasculature development                    </td><td>184</td><td>0.6398667</td><td>2.047312</td><td>9.400373e-13</td><td>7.503102e-12</td><td>4.247665e-12</td><td>3310</td><td>tags=47%, list=17%, signal=40%</td><td>CCL24/SERPINB7/CXCR2/CMA1/CCL11/LRG1/CHI3L1/IL10/ITGAX/C5AR1/CCR3/ITGB2/HMOX1/CTSH/CYBB/C3AR1/CEACAM1/IL1B/EPHA1/C6/SERPINE1/CYP1B1/CELA1/TMIGD2/HGF/CXCR4/CXCL8/GRN/IL6R/GHRL/PIK3R6/ADM2/C3/ENG/MDK/SOD2/ADAM12/TGFBR2/SRPX2/CD40/RRAS/THBS1/ITGA5/ZC3H12A/PTGS2/ANXA1/IL1A/SFRP2/ANXA3/VEGFC/CX3CR1/EGR1/FOXC2/NRP1/SPHK1/PTK2B/NOS3/ADM/RUNX1/TNFSF12/TBXA2R/PDGFB/CIB1/TLR3/ECM1/ETS1/CDH5/BTG1/ACVRL1/TWIST1/KLF4/SMOC2/CD34/RHOJ/HSPB6/HSPB1/MYDGF/CFLAR/PTGIS/APLNR/XBP1/ITGB1/ANGPTL4/RAMP2/GATA6/HDAC7/PRKD2                                                                                                                                                                                                                                                                                                                                                                                                                                                                                                                                                                                                                                                                                                                                                                                                                                                                                                                                                                          </td><td>C1-Others</td></tr>\n",
       "\t<tr><th scope=row>GO:0022407</th><td>GO:0022407</td><td>regulation of cell-cell adhesion                                  </td><td>416</td><td>0.7124653</td><td>2.378890</td><td>6.759977e-46</td><td>3.160289e-44</td><td>1.789107e-44</td><td>2261</td><td>tags=44%, list=12%, signal=40%</td><td>BLK/CD209/PLA2G2D/CLEC4G/CD27/CXCL13/CCL5/CCR7/ICOS/CD3E/IL2RA/CCL19/FCGR2B/SIRPG/LCK/IFNG/LILRB2/IL7R/CTLA4/ARG1/SELP/CD5/PDCD1/GRAP2/GPNMB/LAX1/CCR2/BTLA/CD28/TNFSF11/CD6/SELE/CCL21/TIGIT/CD40LG/SKAP1/IL10/FUT7/IL1RN/ADAM8/IDO1/ZAP70/RHOH/LEP/PTPN22/PTPRC/ALOX5/TNFSF14/JAK3/ELANE/SASH3/FERMT3/VNN1/ITGB2/LILRB1/VAV1/CD300A/CLECL1/PTPN6/TBX21/TNFRSF14/CD74/HLA-DMB/IL12RB1/PLAUR/VSIG4/CD80/RUNX3/HLA-DPB1/CD4/NOD2/GATA3/CD1D/SIRPB1/TNFAIP8L2/LILRB4/PDCD1LG2/LGALS9/RASAL3/IL6/AIF1/HLA-G/TESPA1/NLRP3/NCKAP1L/HLA-DPA1/VCAM1/PTAFR/IFNL1/IL12B/CXCL12/CEACAM1/LGALS9C/CORO1A/IL1B/ALOX15/ALOX12/HLA-DRB1/ICAM1/KLRK1/SYK/CARD11/CD86/CD70/SPN/CD160/PYCARD/EBI3/CD274/TNFSF13B/HAVCR2/MAP3K8/IL15/IL2/FXYD5/LYN/FOXP3/IL4R/CCDC88B/IL23A/SOCS1/CEBPB/ITGA4/DOCK8/TMIGD2/FGL2/DPP4/CRTAM/IL18/PIK3R6/LAG3/XCL1/SPTA1/NFKBIZ/HLA-E/IRF1/MDK/CCL2/TGFBR2/ADA/ADTRP/IL4/HLA-A/EGR3/HLX/PRKCD/TGFB1/IGF1/TNF/NFKBID/AKNA/ZC3H12A/SH2B3/ANXA1/IL23R/IL1A/IL21/C1QTNF1/CD24/LRRC32/CD83/LGALS3/KLRC4-KLRK1/LGALS9B/IL27RA/HFE/ICOSLG/ADIPOQ/LGALS1/RUNX1/NR4A3/BTN2A2/WNT4/CCL28/LEF1/SHH/MYB/RASGRP1/F11R/ADAM19/ETS1/ASS1/ZBTB7B/TNFSF4                                                                                                                                                                                                                                                                                                                                              </td><td>C1-Others</td></tr>\n",
       "\t<tr><th scope=row>GO:00509201</th><td>GO:0050920</td><td>regulation of chemotaxis                                          </td><td>216</td><td>0.6585673</td><td>2.126167</td><td>4.838783e-16</td><td>4.589831e-15</td><td>2.598400e-15</td><td>3023</td><td>tags=44%, list=16%, signal=38%</td><td>CCL7/FGF4/FPR2/CXCR2/CXCL10/CXCL13/CCL5/CCR7/CCL19/CCR4/CCR6/STAP1/GPR18/LBP/CCR2/RAC2/CCL21/SLAMF8/CCL4/XCL2/C5AR1/TNFSF14/CCL3/CCR1/ELANE/C5AR2/GPSM3/CD74/GPR183/LGALS9/IL6/AIF1/NCKAP1L/CXCL12/C3AR1/KLRK1/POU4F2/CCL26/SERPINE1/DYSF/CMKLR1/CYP19A1/CSF1R/LYN/IL23A/TREM2/CXCR4/CXCL8/DPP4/IL16/IL6R/PLA2G7/DUSP1/XCL1/LGMN/MDK/CCL2/SUCNR1/IL4/TGFB1/THBS1/TMSB4X/CSF1/CCL1/VEGFC/BST1/MPP1/KLRC4-KLRK1/NRP1/TMEM102/PTK2B/STX3/PDGFB/SLC8B1/RARRES2/AZU1/CXCL14/SCG2/P2RY12/TRPV4/SMOC2/NBL1/P2RX4/PTPN2/SEMA4A/SEMA3F/ADGRA2/IL12A/HSPB1/STX4/CORO1B/SEMA3C/FGF16/IL34/S100A14/GAS6                                                                                                                                                                                                                                                                                                                                                                                                                                                                                                                                                                                                                                                                                                                                                                                                                                                                                                     </td><td>C1-Others</td></tr>\n",
       "\t<tr><th scope=row>GO:00703721</th><td>GO:0070372</td><td>regulation of ERK1 and ERK2 cascade                               </td><td>276</td><td>0.6164682</td><td>2.024384</td><td>5.077264e-15</td><td>4.552150e-14</td><td>2.577069e-14</td><td>2146</td><td>tags=33%, list=11%, signal=30%</td><td>CCL7/FGF4/CCL24/MARCO/CCL13/FPR2/NLRP6/CCL5/CCR7/CCL19/SLAMF1/PLA2G2A/CCL11/TBC1D10C/CHI3L1/GPNMB/CCL17/NLRP12/CCL22/CD36/CCL23/CRYBA1/TNFSF11/CCL21/CCL4/CCL8/CCL18/PTPN22/XCL2/C5AR1/PTPRC/CCL3/CCL3L3/CCR1/C5AR2/PTPN6/CCL14/CD74/GPR183/SCIMP/CD4/NOD2/LGALS9/CCL20/CEACAM1/IL1B/ALOX15/HLA-DRB1/ICAM1/SYK/HTR2B/PYCARD/GPR55/CCL26/HAVCR2/TNFRSF11A/CSF1R/LYN/TREM2/GPBAR1/FFAR4/DUSP1/XCL1/GBP1/P2RY6/TLR4/CCL2/ABCA7/TNFAIP8L3/RRAS/TGFB1/TNF/ARRB2/APOE/LIF/CCL1/PLA2G5/RGS14/NRP1/FN1/PTK2B/ADIPOQ/ATF3/EMILIN1/PDGFB/CIB1/BTN2A2/NTRK1/CCL16/RASGRP1/SHC1                                                                                                                                                                                                                                                                                                                                                                                                                                                                                                                                                                                                                                                                                                                                                                                                                                                                                                                             </td><td>C1-Others</td></tr>\n",
       "\t<tr><th scope=row>GO:1903706</th><td>GO:1903706</td><td>regulation of hemopoiesis                                         </td><td>455</td><td>0.6483507</td><td>2.168406</td><td>2.601219e-31</td><td>5.007347e-30</td><td>2.834765e-30</td><td>3152</td><td>tags=41%, list=16%, signal=35%</td><td>FCRL3/CR1/LILRB3/CD27/IL2RA/CCL19/FCGR2B/IKZF3/CD2/IFNG/LILRB2/IL7R/CTLA4/OSM/GP1BA/CSF3R/PGLYRP1/CCR2/IRF4/CD28/GPR171/TNFSF11/PF4/SLAMF8/NFE2/ADAM8/SIGLEC15/ZAP70/RHOH/PTPRC/JAK3/SPI1/CCL3/CCR1/ZNF683/IL27/SASH3/VNN1/EVI2B/LILRB1/TYROBP/NFAM1/C1QC/PTPN6/TBX21/CSF3/BTK/CD74/GATA1/IL12RB1/CD80/RUNX3/HCLS1/CD4/GATA3/LILRB4/LGALS9/HLA-DOA/HLA-G/TESPA1/NLRP3/NCKAP1L/IFNL1/IL12B/CEACAM1/IL1B/HLA-DRB1/MAFB/SYK/CARD11/CD86/POU4F2/GFI1B/GPR55/PSMB9/IL15/IL2/LYN/FOXP3/IL4R/IL23A/SOCS1/TREM2/CEBPB/TNFRSF18/MYL9/HLA-B/LTF/FGL2/FES/PRDM1/CRTAM/SLC46A2/ZFP36/IL18/PIK3R6/LAG3/B2M/ITGA2B/CASP8/INPP5D/NFKBIZ/IRF1/PSMB8/CSF2/MDK/TLR4/SCIN/DCSTAMP/TGFBR2/FOS/ADA/IL4/PSMB10/EGR3/HLX/TGFB1/TNF/NFKBID/THBS1/ZC3H12A/ANXA1/LIF/MMP14/IL23R/IL1A/IRF7/CSF1/TMEM176B/CD83/LGALS3/ISG15/FLT3LG/TRIM58/PTK2B/ADIPOQ/CARTPT/RUNX1/TCF7/CIB1/NR4A3/BTN2A2/NFKBIA/TLR3/PSME2/LEF1/SHH/MYB/TMEM176A/RASGRP1/LMO2/RAB7B/ETS1/TRIB1/ZBTB7B/TNFSF4/NFATC2/FSTL3/PSME1/ZFP36L2/MITF/PIM1/PRKCQ/IL1RL2/STAT1/PTPN2/IL12A/AXL/FOXC1/PGLYRP2/FBN1/PSMA8/IL7/TESC/LOX/XBP1/IL34/GAS6/ZFP36L1/ESRRA/MEF2C/CA2/TNFSF9/TLR9/PSMA3                                                                                                                                                                                                                                                                                                                                                                      </td><td>C1-Others</td></tr>\n",
       "\t<tr><th scope=row>GO:00431221</th><td>GO:0043122</td><td>regulation of I-kappaB kinase/NF-kappaB signaling                 </td><td>241</td><td>0.6217762</td><td>2.026843</td><td>1.508347e-13</td><td>1.273823e-12</td><td>7.211383e-13</td><td>3513</td><td>tags=40%, list=18%, signal=33%</td><td>UBD/NLRP6/CCR7/CCL19/S100A12/FASLG/NLRP12/CD36/TNFSF11/CCL21/RHOH/S100A4/CLEC6A/SECTM1/CD74/HMOX1/CD4/NOD2/LGALS9/TNIP3/NLRC3/BIRC3/CASP1/IL1B/HLA-DRB1/CARD11/HTR2B/PYCARD/TNFAIP3/TNFSF10/BST2/IKBKE/APOL3/LTF/TLR6/TRIM38/TRIM22/CASP10/TMEM106A/CASP8/ALPK1/CAPN3/TGM2/TLR4/PPM1N/CARD9/CD40/TNF/NFKBID/SLC20A1/ZC3H12A/TRIM34/PIM2/TRADD/MYD88/CX3CR1/LTBR/S100A13/LITAF/ADIPOQ/TNFRSF1A/TIFA/ESR1/LGALS1/SQSTM1/TRIM21/TRAF1/TLR3/ECM1/REL/NOD1/TRIM14/TICAM2/IRF3/FKBP1A/STAT1/IRAK4/SHISA5/FLNA/HSPB1/CFLAR/MAP3K14/TRIML2/TLR9/TRIM5/TNIP2/SIRPA/TICAM1/PLK2/CARD8/IRAK1/PIDD1/TNFRSF10B/MAP3K3/NEK6/TNIP1                                                                                                                                                                                                                                                                                                                                                                                                                                                                                                                                                                                                                                                                                                                                                                                                                                                                             </td><td>C1-Others</td></tr>\n",
       "\t<tr><th scope=row>GO:0002697</th><td>GO:0002697</td><td>regulation of immune effector process                             </td><td>389</td><td>0.7708184</td><td>2.568520</td><td>2.440943e-64</td><td>4.564564e-62</td><td>2.584097e-62</td><td>2261</td><td>tags=51%, list=12%, signal=46%</td><td>MZB1/FCRL3/BLK/IL18RAP/CR1/CLEC4G/FFAR2/CD177/SLAMF6/IL2RA/CCL19/FCGR2B/CD22/STAP1/IFNG/CR2/SH2D1A/IL7R/CD19/ARG1/LBP/PGLYRP1/CLC/FCER2/CCR2/IRF4/CD36/RAC2/CD28/FGR/CD96/CD1C/CD40LG/SLAMF8/IL10/NCR1/FUT7/CD1A/LEP/CD1B/PTPN22/C5AR1/CD1E/NCR3/PTPRC/CLNK/JAK3/C1QA/FFAR3/CR1L/ZNF683/IL27/C5AR2/SASH3/CD244/ADGRE2/WAS/ITGB2/LILRB1/TYROBP/FCER1G/VAV1/CD300A/C1QC/C1QB/KIR2DL4/C2/PTPN6/TBX21/TNFRSF14/BTK/CD74/HLA-DMB/IL12RB1/ITGAM/VSIG4/SCIMP/CD80/HMOX1/NOD2/LTA/TSPAN32/RIPK3/GATA3/CD1D/LGALS9/DNASE1L3/IL6/STXBP2/VAMP8/HLA-G/NLRP3/TNFRSF1B/PTAFR/IFNL1/CFP/IL12B/CD5L/C3AR1/CEACAM1/BIRC3/IL1B/HLA-F/CD84/AIM2/CFB/ICAM1/KLRK1/SYK/C6/IL18R1/CD86/CD160/PYCARD/TNFAIP3/C7/HAVCR2/CLEC12B/IL15/IL2/LYN/TNFSF13/FOXP3/IL4R/SPON2/BST2/IL23A/MICB/APOBEC3G/SH2D1B/CD226/HLA-B/FGL2/FES/GRN/CRTAM/TRIM38/IL18/PIK3R6/C1S/LAG3/XCL1/B2M/UNC13D/IRAK3/PRAM1/TNFRSF4/NFKBIZ/HLA-E/C3/IL1R1/TLR4/CLCF1/MMP12/STAT6/C4BPB/CD40/IL4/HLA-A/NOS2/CFH/HLX/TGFB1/TNF/NFKBID/A2M/C1R/ZC3H12A/ARRB2/ANXA1/IL23R/IL21/RSAD2/SERPINB9/MR1/CFI/PLA2G5/RNF125/LGALS3/KLRC4-KLRK1/SERPING1/APOBEC3F/MICA/IL27RA/HFE/IL33/PARP9/NR4A3/TLR3/DDX60/DHX58/MYB/CXCL6/RASGRP1/DTX3L/VTN/RAET1G/ZBTB7B/TNFSF4                                                                                                                                                                                                                                                                                                 </td><td>C1-Others</td></tr>\n",
       "\t<tr><th scope=row>GO:00026881</th><td>GO:0002688</td><td>regulation of leukocyte chemotaxis                                </td><td>118</td><td>0.7675810</td><td>2.363882</td><td>8.412288e-20</td><td>9.575378e-19</td><td>5.420824e-19</td><td>1906</td><td>tags=49%, list=10%, signal=45%</td><td>CCL7/FPR2/CXCR2/CXCL10/CXCL13/CCL5/CCR7/CCL19/CCR6/STAP1/GPR18/LBP/CCR2/RAC2/CCL21/SLAMF8/CCL4/XCL2/C5AR1/TNFSF14/CCL3/CCR1/C5AR2/GPSM3/CD74/LGALS9/IL6/AIF1/NCKAP1L/CXCL12/C3AR1/KLRK1/SERPINE1/DYSF/CMKLR1/CYP19A1/CSF1R/LYN/IL23A/CXCL8/DPP4/IL6R/PLA2G7/DUSP1/XCL1/LGMN/MDK/CCL2/IL4/THBS1/CSF1/CCL1/VEGFC/BST1/MPP1/KLRC4-KLRK1/TMEM102/PTK2B                                                                                                                                                                                                                                                                                                                                                                                                                                                                                                                                                                                                                                                                                                                                                                                                                                                                                                                                                                                                                                                                                                                                              </td><td>C1-Others</td></tr>\n",
       "\t<tr><th scope=row>GO:0051249</th><td>GO:0051249</td><td>regulation of lymphocyte activation                               </td><td>425</td><td>0.7601234</td><td>2.536729</td><td>7.033014e-66</td><td>1.841243e-63</td><td>1.042367e-63</td><td>2277</td><td>tags=50%, list=12%, signal=45%</td><td>IGLL5/TNFRSF13B/MZB1/FCRL3/BLK/CD209/PLA2G2D/CR1/CLEC4G/CD27/CCL5/CCR7/ICOS/CD3E/SIT1/IL2RA/CCL19/FCGR2B/CD22/SIRPG/IKZF3/LCK/CD2/IFNG/LILRB2/IL7R/TBC1D10C/CD19/CTLA4/ARG1/CD5/PDCD1/GRAP2/GPNMB/PGLYRP1/CLC/LAX1/CCR2/IRF4/RAC2/BTLA/CD28/TNFSF11/CD6/FGR/CCL21/TIGIT/CD40LG/SLAMF8/IL10/MNDA/ADAM8/IDO1/ZAP70/RHOH/LEP/PTPN22/PTPRC/CLNK/TNFSF14/JAK3/BANK1/ZNF683/IL27/SASH3/SAMSN1/VNN1/TNFSF18/LILRB1/TYROBP/VAV1/NFAM1/CD300A/CLECL1/PTPN6/TBX21/TNFRSF14/BTK/CD74/HLA-DMB/GPR183/CLEC7A/IL12RB1/VSIG4/CD80/RUNX3/HLA-DPB1/CD4/NOD2/RIPK3/GATA3/CD1D/SIRPB1/TNFSF8/TNFAIP8L2/LILRB4/PDCD1LG2/LGALS9/RASAL3/HLA-DOA/IL6/AIF1/HLA-G/TESPA1/NLRP3/NCKAP1L/HLA-DPA1/VCAM1/TNFRSF1B/IFNL1/LST1/IL12B/CEACAM1/LGALS9C/CORO1A/IL1B/HLA-F/HLA-DRB1/KLRK1/SYK/CARD11/CD86/CD70/SPN/CD160/PYCARD/LAT/EBI3/TNFAIP3/CD274/TNFSF13B/HAVCR2/MAP3K8/IL15/IL2/LYN/TNFSF13/FOXP3/IL4R/CCDC88B/IL23A/SOCS1/CEBPB/TNFRSF18/DOCK8/TMIGD2/FGL2/PRDM1/DPP4/CRTAM/SLC46A2/IL18/PIK3R6/LAG3/XCL1/TNFRSF4/SPTA1/INPP5D/NFKBIZ/HLA-E/IRF1/MDK/TLR4/CCL2/CLCF1/TGFBR2/STAT6/ADA/CD40/IL4/HLA-A/EGR3/HLX/TGFB1/GAL/IGF1/NFKBID/ZC3H12A/ANXA1/MMP14/IL23R/IL1A/IL21/CD24/LRRC32/CD83/BST1/LGALS3/CDKN1A/FLT3LG/KLRC4-KLRK1/AHR/LGALS9B/MICA/IL27RA/HFE/ICOSLG/LGALS1/MERTK/RUNX1/TCF7/BTN2A2/VAV3/LEF1/SHH/MYB/RASGRP1/CD38/GSN/ZBTB7B/TNFSF4/NFATC2                                                                                                                                                                  </td><td>C1-Others</td></tr>\n",
       "\t<tr><th scope=row>GO:00027611</th><td>GO:0002761</td><td>regulation of myeloid leukocyte differentiation                   </td><td>118</td><td>0.6525767</td><td>2.009709</td><td>2.499331e-09</td><td>1.550533e-08</td><td>8.777894e-09</td><td>3092</td><td>tags=46%, list=16%, signal=39%</td><td>LILRB3/IFNG/TNFSF11/PF4/SIGLEC15/CCL3/CCR1/EVI2B/LILRB1/TYROBP/C1QC/CD74/HCLS1/CD4/LILRB4/IL12B/CEACAM1/HLA-DRB1/MAFB/POU4F2/GPR55/LYN/IL23A/TREM2/CEBPB/LTF/FES/CASP8/INPP5D/TLR4/DCSTAMP/FOS/IL4/TGFB1/TNF/LIF/IL23R/IRF7/CSF1/ADIPOQ/CARTPT/RUNX1/TLR3/LEF1/TRIB1/FSTL3/MITF/PTPN2/FBN1/TESC/IL34/ZFP36L1/ESRRA/CA2                                                                                                                                                                                                                                                                                                                                                                                                                                                                                                                                                                                                                                                                                                                                                                                                                                                                                                                                                                                                                                                                                                                                                                          </td><td>C1-Others</td></tr>\n",
       "\t<tr><th scope=row>GO:0002831</th><td>GO:0002831</td><td>regulation of response to biotic stimulus                         </td><td>391</td><td>0.7031883</td><td>2.343004</td><td>2.018145e-39</td><td>6.143609e-38</td><td>3.478027e-38</td><td>2614</td><td>tags=41%, list=13%, signal=36%</td><td>FPR2/TREML2/IL18RAP/CD209/FCN1/CR1/FFAR2/CCL5/SLAMF6/IL2RA/CLEC4C/FCGR2B/IFNG/CLEC10A/SH2D1A/PYHIN1/ARG1/LBP/CD36/ZBP1/FGR/CD96/CLEC4D/GBP5/SLAMF8/TLR8/NCR1/MNDA/ADAM8/ICAM3/LEP/PTPN22/NCR3/CLNK/HCK/EREG/LY96/IL27/CLEC4E/LILRB1/FCER1G/CLEC6A/VAV1/CD180/KIR2DL4/PTPN6/TXK/IL12RB1/VSIG4/SCIMP/TREML4/TSPAN32/CD1D/LGALS9/LILRA2/HLA-G/IL12B/CEACAM1/NLRC3/LY86/BIRC3/CLEC4A/IL1B/HLA-F/NLRC4/AIM2/KLRK1/SYK/CARD11/CYBA/CD160/PYCARD/TNFAIP3/CD274/HAVCR2/CLEC12B/PSMB9/IL15/LYN/MUC12/IL23A/SOCS1/TREM2/PLCG2/IKBKE/MICB/APOBEC3G/SH2D1B/CD226/HLA-B/LTF/FGL2/GRN/CRTAM/TRIM38/PIK3R6/LAG3/RELB/NLRC5/IRAK3/MUC3A/HLA-E/IRF1/PSMB8/TLR4/SOCS3/MMP12/CARD9/IL4/NLRP10/HLA-A/PSMB10/NR1H3/PRKCD/NMI/A2M/ZC3H12A/ARRB2/APOE/IL23R/IL21/PPARG/PLSCR1/SERPINB9/IRF7/IFI16/MR1/PLA2G5/RNF135/RNF125/ICAM2/KLRC4-KLRK1/SERPING1/APOBEC3F/MICA/PARP9/PARP14/PSME2/DDX60/DHX58/CXCL6/RASGRP1/SIGIRR/IFNGR1/DTX3L/TRIB1/RAET1G/NOD1/USP18/PSME1/IRF3/RAET1E/NFKB1/CD55/SAMHD1/STAT1/IFNGR2/HERC5/PTPN2                                                                                                                                                                                                                                                                                                                                                                                                                                                                                              </td><td>C1-Others</td></tr>\n",
       "\t<tr><th scope=row>GO:19013421</th><td>GO:1901342</td><td>regulation of vasculature development                             </td><td>322</td><td>0.6055475</td><td>2.004949</td><td>2.908579e-16</td><td>2.799508e-15</td><td>1.584861e-15</td><td>3016</td><td>tags=41%, list=16%, signal=35%</td><td>CCL24/SERPINB7/CXCR2/CXCL10/CMA1/CXCL13/CCL11/LRG1/FASLG/CHI3L1/GPNMB/PROK2/CCR2/PF4/IL10/ITGAX/LEP/C5AR1/CCR3/ALOX5/PROK1/ITGB2/HMOX1/CTSH/CYBB/IL6/HLA-G/STAB1/IL12B/C3AR1/CEACAM1/IL1B/EPHA1/C6/CD160/KRT1/SERPINE1/TNFAIP3/CYP1B1/CELA1/TMIGD2/HGF/CXCR4/CXCL8/GRN/IL6R/SERPINF1/GHRL/PIK3R6/ADM2/C3/ENG/MDK/SOD2/ADAM12/KLF2/ANGPTL7/HHEX/TGFBR2/DCN/SRPX2/CD40/SP100/RRAS/TNF/THBS1/ITGA5/ZC3H12A/PTGS2/PLXND1/ANXA1/IL1A/PPARG/SFRP2/TNFRSF12A/ANXA3/VEGFC/HTATIP2/CX3CR1/THBS2/EGR1/FOXC2/NRP1/SPHK1/PTK2B/NOS3/ADM/RUNX1/TNFSF12/TBXA2R/EMILIN1/PDGFB/CIB1/TLR3/WNT4/ADAMTS1/CARD10/ECSCR/ECM1/ETS1/CDH5/NFATC2/BTG1/GPR4/PML/ACVRL1/TWIST1/KLF4/SMOC2/HSPG2/MMRN2/CD34/NGFR/STAT1/SEMA4A/ADGRA2/RHOJ/IL12A/HSPB6/HSPB1/MYDGF/CFLAR/FOXC1/EPHA2/NPR1/PTGIS/COL4A2/APLNR/XBP1/MEOX2/ITGB1                                                                                                                                                                                                                                                                                                                                                                                                                                                                                                                                                                                                                                                                                               </td><td>C1-Others</td></tr>\n",
       "\t<tr><th scope=row>GO:0042110</th><td>GO:0042110</td><td>T cell activation                                                 </td><td>471</td><td>0.7566756</td><td>2.533012</td><td>4.437997e-70</td><td>2.904669e-67</td><td>1.644395e-67</td><td>2277</td><td>tags=49%, list=12%, signal=44%</td><td>TREML2/HSH2D/CD209/PLA2G2D/CR1/CLEC4G/CD27/CD3D/CCL5/CCR7/ICOS/SLAMF6/CD3E/SIT1/IL2RA/CCL19/FCGR2B/CCR6/SIRPG/CD3G/LCK/LY9/GPR18/CD2/IFNG/LILRB2/IL7R/BATF/CTLA4/ARG1/CD8B/CD5/PDCD1/GRAP2/GPNMB/CLC/LAX1/CCR2/IRF4/RAC2/BTLA/CD28/ITK/TNFSF11/CD6/CLEC4D/THEMIS/CD1C/CCL21/TIGIT/CD40LG/CD7/IL10/FUT7/SLA2/ADAM8/IDO1/ZAP70/RHOH/LEP/PTPN22/EOMES/CD8A/LCP1/SLC11A1/ITGAL/PTPRC/TNFSF14/JAK3/ZNF683/IL27/SASH3/VNN1/TNFSF18/WAS/CLEC4E/LILRB1/FCER1G/VAV1/CD300A/CLECL1/PTPN6/TBX21/TNFRSF14/CD74/HLA-DMB/GPR183/CLEC7A/IL12RB1/VSIG4/CD80/RUNX3/HLA-DPB1/CD4/NOD2/RIPK3/GATA3/CD1D/SIRPB1/TNFSF8/TNFAIP8L2/LILRB4/PDCD1LG2/LGALS9/RASAL3/HLA-DOA/IL6/DOCK2/AIF1/HLA-G/APBB1IP/TESPA1/NLRP3/NCKAP1L/HLA-DPA1/VCAM1/TNFRSF1B/IFNL1/IL12B/CEACAM1/NLRC3/LGALS9C/CORO1A/CCR9/CLEC4A/IL1B/HLA-DRB1/ICAM1/KLRK1/MAFB/SYK/IL18R1/CARD11/PTGER4/CD86/CD70/SPN/CD160/PYCARD/LAT/EBI3/CD274/TNFSF13B/PIK3CG/BCL3/HAVCR2/MAP3K8/IL15/IL2/LYN/TCIRG1/FOXP3/IL4R/CCDC88B/IL23A/SOCS1/CEBPB/MICB/TNFRSF18/DOCK8/TMIGD2/FGL2/PRDM1/DPP4/CRTAM/SLC46A2/IL18/PIK3R6/LAG3/XCL1/RELB/B2M/TNFRSF4/SPTA1/CASP8/NFKBIZ/HLA-E/IRF1/MDK/CCL2/PIK3CD/NKX2-3/RUNX2/TGFBR2/STAT6/ADA/ELF4/IL4/HLA-A/PSMB10/RAB27A/EGR3/HLX/IGF1/NFKBID/ZC3H12A/ANXA1/IL23R/IL1A/IL21/RSAD2/MR1/CD24/LRRC32/CD83/CTSL/LGALS3/EGR1/KLRC4-KLRK1/LGALS9B/MICA/IL27RA/HFE/ICOSLG/LGALS1/RUNX1/TCF7/MYH9/BTN2A2/PSAP/WNT4/LEF1/SHH/MYB/RASGRP1/GSN/BAX/ZBTB7B/TNFSF4/NFATC2                                                                    </td><td>C1-Others</td></tr>\n",
       "\t<tr><th scope=row>GO:00467181</th><td>GO:0046718</td><td>viral entry into host cell                                        </td><td>130</td><td>0.6770782</td><td>2.105072</td><td>8.442680e-12</td><td>6.243768e-11</td><td>3.534729e-11</td><td>3040</td><td>tags=44%, list=16%, signal=37%</td><td>CD209/FCN1/CR1/CLEC4G/SLAMF1/CR2/SIGLEC1/FCN3/MRC1/CCR5/ANPEP/TNFRSF14/CD74/CD80/CD4/CLEC4M/ITGB7/LGALS9/VAMP8/HLA-DRB1/ICAM1/PTX3/CD86/SELPLG/GPR15/IFITM2/CXCR4/DPP4/SLC52A1/TRIM38/IFITM1/TRIM22/CTSB/TNFRSF4/CLEC5A/IFITM3/TRIM10/ITGA5/TRIM34/CTSL/HAVCR1/LGALS1/ITGB3/TRIM21/F11R/GSN/TRIM14/SLC1A5/CD55/GYPA/AXL/EPHA2/HYAL2/TMPRSS2/ITGB1/GAS6/TRIML2                                                                                                                                                                                                                                                                                                                                                                                                                                                                                                                                                                                                                                                                                                                                                                                                                                                                                                                                                                                                                                                                                                                                   </td><td>C1-Others</td></tr>\n",
       "</tbody>\n",
       "</table>\n"
      ],
      "text/latex": [
       "A data.frame: 48 × 12\n",
       "\\begin{tabular}{r|llllllllllll}\n",
       "  & ID & Description & setSize & enrichmentScore & NES & pvalue & p.adjust & qvalues & rank & leading\\_edge & core\\_enrichment & contrast\\\\\n",
       "  & <chr> & <chr> & <int> & <dbl> & <dbl> & <dbl> & <dbl> & <dbl> & <dbl> & <chr> & <chr> & <chr>\\\\\n",
       "\\hline\n",
       "\tGO:0002253 & GO:0002253 & activation of immune response                                      & 439 & 0.7211257 & 2.407223 & 1.237711e-50 & 9.000911e-49 & 5.095607e-49 & 2520 & tags=42\\%, list=13\\%, signal=37\\% & IGLL5/MS4A1/FCRL3/FPR2/CD79A/BLK/CD209/FCN1/CR1/FFAR2/CD3D/CCR7/BTNL3/TRAT1/CD3E/CLEC4C/FCGR2B/CD22/CD3G/UBASH3A/LCK/PVRIG/STAP1/CLEC10A/CR2/SH2D1A/PYHIN1/CD19/CTLA4/GPR33/GRAP2/HLA-DQA2/HLA-DQB2/LAX1/CD28/ITK/ZBP1/CD79B/GCSAM/FGR/CLEC4D/CD247/THEMIS/FCN3/SKAP1/MYO1G/SLA2/MNDA/ICAM3/ZAP70/FPR1/PAX5/PTPN22/FPR3/LCP2/C5AR1/BTNL8/NCR3/PTPRC/HCK/THEMIS2/C1QA/CR1L/C5AR2/WAS/CLEC4E/FCER1G/CLEC6A/HLA-DRA/VAV1/NFAM1/CD300A/C1QC/C1QB/C2/PTPN6/CFD/TXK/HLA-DQA1/BTK/VSIG4/HLA-DPB1/CD4/KLHL6/GATA3/FCGR2A/LILRB4/LILRA2/TESPA1/NCKAP1L/HLA-DPA1/FCGR3A/CFP/CD5L/HLA-DQB1/C3AR1/CEACAM1/CLEC4A/FCGR1A/IL1B/KCNN4/NLRC4/AIM2/CFB/HLA-DRB1/KLRK1/SYK/C6/CARD11/CD160/KRT1/PYCARD/LAT/C7/CMKLR1/LAT2/PSMB9/BMX/LYN/FOXP3/MUC12/BLNK/ARPC1B/PLCG2/MICB/CD226/TEC/C1S/RELB/PRAM1/MUC3A/LPXN/GBP1/INPP5D/NFKBIZ/C3/PSMB8/TLR4/PIK3CD/CARD9/C4BPB/ADA/HLA-A/PSMB10/CFH/PRKCD/NFKBID/A2M/C1R/ZC3H12A/PLSCR1/HLA-DRB5/WIPF1/IFI16/CFI/PRKCH/ICAM2/LGALS3/KLRC4-KLRK1/SERPING1/ICOSLG/RUNX1/BTN3A2/NR4A3/BTN2A2/VAV3/PSME2/C1RL/BTN3A3/CD38/ELF1/GCSAML/VTN/BAX/NFATC2/ARPC3/CSK/PSME1/ARPC5/RAB29/CD276/NFKB1/CD55/PRKCQ                                                                                                                                                                                                                                                                                                                                                                            & C1-Others\\\\\n",
       "\tGO:00022181 & GO:0002218 & activation of innate immune response                               & 140 & 0.6490351 & 2.029326 & 1.950551e-10 & 1.309370e-09 & 7.412619e-10 & 1825 & tags=26\\%, list=9\\%, signal=23\\%  & CD209/FCN1/FFAR2/CLEC4C/CLEC10A/PYHIN1/ZBP1/CLEC4D/MNDA/ICAM3/HCK/CLEC4E/FCER1G/CLEC6A/LILRA2/CLEC4A/NLRC4/AIM2/KLRK1/SYK/CARD11/PYCARD/PSMB9/LYN/MUC12/PLCG2/RELB/MUC3A/PSMB8/TLR4/CARD9/PSMB10/PRKCD/IFI16/ICAM2/KLRC4-KLRK1                                                                                                                                                                                                                                                                                                                                                                                                                                                                                                                                                                                                                                                                                                                                                                                                                                                                                                                                                                                                                                                                                                                                                                                                                                                                   & C1-Others\\\\\n",
       "\tGO:0002250 & GO:0002250 & adaptive immune response                                           & 407 & 0.8178651 & 2.728633 & 5.022614e-90 & 6.574601e-87 & 3.722021e-87 & 2005 & tags=59\\%, list=10\\%, signal=54\\% & JCHAIN/IGLL5/TNFRSF13B/CD79A/TNFRSF17/IL18RAP/CD209/CR1/CLEC4G/LILRB3/CD27/CXCL13/CD3D/SLAMF7/TRAT1/SLAMF6/CD3E/SIT1/LILRA6/CLEC4C/CCL19/FCGR2B/CCR6/CD3G/SLAMF1/LY9/LILRB5/IFNG/CLEC10A/CR2/PRF1/LILRB2/SH2D1A/IL7R/CD48/BATF/CD19/CTLA4/FCAMR/ARG1/CD8B/PDCD1/HLA-DQA2/CLC/HLA-DQB2/FCER2/LAX1/CCR2/IRF4/BTLA/HLA-DOB/CD28/ITK/CD6/CD79B/CLEC4D/CD247/THEMIS/CD1C/FCRL4/CD40LG/SKAP1/TLR8/CD7/IL10/GZMM/MYO1G/FUT7/SLA2/CD1A/ZAP70/GAPT/CD1B/EOMES/CD8A/BTNL8/CD1E/SLC11A1/CTSS/PTPRC/JAK3/C1QA/ZNF683/IL27/SASH3/CD244/SAMSN1/ADGRE1/TNFSF18/WAS/LILRB1/FCER1G/CLEC6A/HLA-DRA/AICDA/C1QC/C1QB/C2/PTPN6/LAMP3/TBX21/LAIR1/TXK/HLA-DQA1/TNFRSF14/BTK/CD74/HLA-DMB/GPR183/IL12RB1/CD80/HLA-DMA/MCOLN2/HLA-DPB1/CD4/LTA/KLHL6/CLEC4M/RIPK3/GATA3/CTSH/CD1D/LILRB4/PDCD1LG2/HLA-DOA/IL6/HLA-G/NLRP3/HLA-DPA1/LILRA1/TNFRSF1B/IL12B/HLA-DQB1/CEACAM1/CLEC4A/IL1B/ALOX15/HLA-F/CD84/FCGR1B/SIGLEC10/HLA-DRB1/ICAM1/KLRK1/SYK/C6/IL18R1/CD86/CD70/SPN/CD160/PYCARD/LAT/EBI3/TNFAIP3/C7/CD274/TNFSF13B/PIK3CG/BCL3/LAT2/HAVCR2/TNFRSF11A/BMX/IL2/LYN/TCIRG1/TNFSF13/FOXP3/IL4R/CTSC/IL23A/MICB/UNC93B1/SH2D1B/CD226/HLA-B/FGL2/PRDM1/IL18/TEC/C1S/LAG3/XCL1/RELB/B2M/UNC13D/INPP5D/POU2F2/NFKBIZ/HLA-E/IRF1/C3/IL1R1/TLR4/PIK3CD/IL1RL1/CLCF1/STAT6/C4BPB/ADA/IL31RA/CD40/IL4/NFKB2/NLRP10/HLA-A/RAB27A/HLX/PRKCD/CRACR2A/TGFB1/TNF/NFKBID/C1R/HLA-C/ZC3H12A/ANXA1/IL23R/TAP1/RSAD2/HLA-DRB5/IRF7/MR1/CFI/ERAP2/RNF125/CTSL/ORAI1/KLRC4-KLRK1/SERPING1/MICA/IL27RA/PTK2B/HFE/ICOSLG/IL33/MCOLN1/BTN3A2 & C1-Others\\\\\n",
       "\tGO:00197301 & GO:0019730 & antimicrobial humoral response                                     & 122 & 0.7499893 & 2.319230 & 6.549832e-18 & 6.750969e-17 & 3.821866e-17 & 2322 & tags=42\\%, list=12\\%, signal=37\\% & JCHAIN/BPIFA2/CCL13/BPIFB1/CTSG/CXCL9/CXCL10/CXCL13/S100A9/S100A8/PLA2G2A/S100A12/PPBP/LYZ/CXCL11/PGLYRP1/DEFA4/DEFA1/PF4/CAMP/SLC11A1/ELANE/DEFA3/PGLYRP4/GNLY/PF4V1/ITLN1/RNASE6/PI3/CXCL5/WFDC11/BCL3/LCN2/SPON2/RNASE3/LTF/CXCL8/CXCL1/HLA-E/SLPI/HLA-A/GALP/IL36RN/CXCL3/CXCL2/CXCL6/RARRES2/AZU1/CXCL14/PRTN3/BPI                                                                                                                                                                                                                                                                                                                                                                                                                                                                                                                                                                                                                                                                                                                                                                                                                                                                                                                                                                                                                                                                                                                                                                          & C1-Others\\\\\n",
       "\tGO:00301831 & GO:0030183 & B cell differentiation                                             & 135 & 0.7069255 & 2.201404 & 4.217107e-15 & 3.807030e-14 & 2.155240e-14 & 2283 & tags=39\\%, list=12\\%, signal=34\\% & MS4A1/FCRL3/ADGRG3/CD79A/CD27/POU2AF1/FCGR2B/IKZF3/CR2/CD19/CD79B/CD40LG/SLAMF8/IL10/PTPRC/JAK3/AICDA/NFAM1/PTPN6/BTK/GPR183/IL11/IL6/NCKAP1L/VCAM1/SYK/CARD11/BCL3/TCIRG1/BLNK/FLT3/PLCG2/ITGA4/LYL1/MFNG/CMTM7/INPP5D/POU2F2/NKX2-3/CLCF1/HHEX/ADA/IL4/MMP14/IL21/PTK2B/LGALS1/CDH17/KLF6/NTRK1/BAX/DOCK11                                                                                                                                                                                                                                                                                                                                                                                                                                                                                                                                                                                                                                                                                                                                                                                                                                                                                                                                                                                                                                                                                                                                                                                     & C1-Others\\\\\n",
       "\tGO:00329631 & GO:0032963 & collagen metabolic process                                         & 101 & 0.6653145 & 2.019185 & 7.256895e-09 & 4.397813e-08 & 2.489695e-08 & 3664 & tags=54\\%, list=19\\%, signal=44\\% & MMP27/MMP7/SERPINB7/ARG1/MMP25/MMP9/MMP13/CTSS/ADAMTS14/CIITA/IL6/MMP19/COL15A1/COL1A1/COL13A1/COL1A2/CTSB/CTSD/ENG/MMP8/FAP/MMP10/MMP12/TGFB1/RCN3/MMP11/MMP1/ARRB2/MMP14/PPARG/CTSL/MMP2/VIM/SERPINH1/EMILIN1/WNT4/MYB/PRTN3/P3H1/P3H3/FURIN/MRC2/KLK6/COL5A1/PLOD3/MFAP4/CTSK/ITGB1/MMP28/ADAMTS2/PDGFRB/TRAM2/RAP1A/ADAM15/F2R                                                                                                                                                                                                                                                                                                                                                                                                                                                                                                                                                                                                                                                                                                                                                                                                                                                                                                                                                                                                                                                                                                                                                               & C1-Others\\\\\n",
       "\tGO:00444091 & GO:0044409 & entry into host                                                    & 143 & 0.6669631 & 2.085294 & 8.934957e-12 & 6.533999e-11 & 3.699035e-11 & 3040 & tags=41\\%, list=16\\%, signal=35\\% & CD209/FCN1/CR1/CLEC4G/SLAMF1/CR2/SIGLEC1/FCN3/MRC1/CCR5/ANPEP/TNFRSF14/CD74/CD80/CD4/CLEC4M/ITGB7/LGALS9/VAMP8/HLA-DRB1/ICAM1/PTX3/CD86/SELPLG/GPR15/IFITM2/CXCR4/CXCL8/DPP4/SLC52A1/TRIM38/IFITM1/TRIM22/CTSB/TNFRSF4/CLEC5A/IFITM3/TRIM10/ITGA5/TRIM34/CTSL/HAVCR1/LGALS1/ITGB3/TRIM21/F11R/GSN/TRIM14/SLC1A5/FUCA2/CD55/GYPA/AXL/EPHA2/HYAL2/TMPRSS2/ITGB1/GAS6/TRIML2                                                                                                                                                                                                                                                                                                                                                                                                                                                                                                                                                                                                                                                                                                                                                                                                                                                                                                                                                                                                                                                                                                                        & C1-Others\\\\\n",
       "\tGO:0036230 & GO:0036230 & granulocyte activation                                             & 498 & 0.7366253 & 2.469606 & 6.546874e-66 & 1.841243e-63 & 1.042367e-63 & 2558 & tags=47\\%, list=13\\%, signal=42\\% & MCEMP1/PRG3/ADGRG3/FPR2/CXCR1/CEACAM3/IL18RAP/FCN1/CTSG/CR1/CXCR2/LILRB3/CD177/ORM1/CCL5/FCAR/S100P/ADGRE3/CLEC4C/FCGR3B/FCGR2B/S100A9/S100A8/PLA2G2A/HK3/S100A12/LRG1/PPBP/LILRB2/LYZ/TBC1D10C/CLEC12A/TCN1/CHI3L1/ARG1/SELL/P2RX1/PGLYRP1/CCR2/CD36/MMP25/DEFA4/DEFA1/FGR/CLEC4D/CAMP/ITGAX/MNDA/ADAM8/RETN/MMP9/FPR1/ARHGAP9/TTR/C5AR1/SLC11A1/SIGLEC5/ITGAL/CTSS/ORM2/PTPRC/CD14/ALOX5/EPX/CEACAM8/CCL3/DOK3/MGAM/CD53/ELANE/HBB/BIN2/VNN1/OSCAR/SERPINA1/ITGB2/GMFG/TYROBP/SIGLEC14/FCER1G/FOLR3/NFAM1/CD300A/PTPN6/CD68/ANPEP/LAIR1/CFD/CRISP3/TLR2/ABCA13/PLAUR/ITGAM/PLAC8/RAB44/CTSH/FCGR2A/SIRPB1/CYBB/DNASE1L3/RNASE2/STXBP2/LILRA2/DOCK2/VAMP8/SIGLEC9/NCKAP1L/TNFRSF1B/PTAFR/CFP/GPR84/C3AR1/CEACAM1/SYK/PTX3/CD33/TRPM2/CYBA/PRG2/KRT1/PYCARD/GLIPR1/HPSE/IL15/LCN2/TCIRG1/PLAU/BST2/CTSZ/CTSC/MME/RNASE3/CDA/SLC2A5/FTL/HLA-B/LTF/NPC2/CXCL8/ALDH3B1/FGL2/GRN/S100A11/CXCL1/CTSB/IL18/B2M/UNC13D/PRAM1/PIGR/ADGRE5/CTSD/CD93/C3/MMP8/PECAM1/SERPINB1/STK10/RNASET2/FUCA1/ATP8B4/GSDMD/OLR1/RHOG/SLPI/MAN2B1/CLEC5A/CNN2/SLCO4C1/RAB27A/PRKCD/CRACR2A/NBEAL2/HLA-C/MS4A3/OSTF1/B4GALT1/TNFAIP6/CTSA/CD58/PLEKHO2/ANXA3/CREG1/SERPINA3/BST1/LGALS3/AGPAT2/KCNAB2/AOC1/HEXB/GCA/MVP/TMC6/SLC2A3/BRI3/PYGL/COTL1/CHIT1/AMPD3/HSPA6/CD63/FTH1/HVCN1/PSAP/CHRNB4/ASAH1/CSTB/CXCL6/SNAP23/DNASE1L1/GSN/GAA/AZU1/RAB37/PRTN3/HP/SDCBP/GUSB/BPI/STOM/ARPC5/TICAM2/GLA/IQGAP2/ANXA2/NEU1/FUCA2/GM2A/NFKB1/CD55/PLD1/ARSA/RHOF/GNS/IQGAP1/IMPDH1                                             & C1-Others\\\\\n",
       "\tGO:0002768 & GO:0002768 & immune response-regulating cell surface receptor signaling pathway & 388 & 0.7259741 & 2.419790 & 1.431875e-46 & 7.208938e-45 & 4.081133e-45 & 2520 & tags=43\\%, list=13\\%, signal=38\\% & IGLL5/MS4A1/FCRL3/FPR2/CD79A/BLK/CD209/FCN1/CR1/FFAR2/CD3D/CCR7/BTNL3/TRAT1/CD3E/CLEC4C/FCGR2B/CD22/CD3G/UBASH3A/LCK/PVRIG/STAP1/CLEC10A/CR2/LILRB2/SH2D1A/CD19/CTLA4/GPR33/MS4A2/GRAP2/HLA-DQA2/HLA-DQB2/LAX1/BTLA/CD28/ITK/CD79B/GCSAM/FGR/CLEC4D/CD247/THEMIS/FCER1A/SKAP1/MYO1G/SLA2/MNDA/ICAM3/ZAP70/FPR1/PAX5/PTPN22/FPR3/LCP2/C5AR1/BTNL8/CD200R1/NCR3/PTPRC/HCK/THEMIS2/C5AR2/WAS/CLEC4E/LILRB1/FCER1G/CLEC6A/HLA-DRA/VAV1/NFAM1/CD300A/PTPN6/TXK/HLA-DQA1/BTK/HLA-DPB1/CD4/KLHL6/GATA3/FCGR2A/LILRB4/LILRA2/HLA-G/TESPA1/NCKAP1L/HLA-DPA1/FCGR3A/HLA-DQB1/C3AR1/CEACAM1/CLEC4A/FCGR1A/KCNN4/FCGR1B/HLA-DRB1/KLRK1/SYK/CARD11/CD160/LILRA4/LAT/CMKLR1/LAT2/CLEC12B/PSMB9/BMX/LYN/FOXP3/MUC12/BLNK/ARPC1B/PLCG2/MICB/CD226/TEC/RELB/PRAM1/MUC3A/LPXN/PIGR/GBP1/INPP5D/NFKBIZ/PSMB8/PIK3CD/CARD9/FOS/ADA/CD40/HLA-A/PSMB10/PRKCD/NFKBID/ZC3H12A/PLSCR1/HLA-DRB5/WIPF1/CD24/PRKCH/ICAM2/LGALS3/KLRC4-KLRK1/ICOSLG/RUNX1/BTN3A2/NR4A3/BTN2A2/KIR2DL1/VAV3/PSME2/SHC1/BTN3A3/CD38/ELF1/GCSAML/BAX/NFATC2/ARPC3/CSK/PSME1/ARPC5/RAB29/CD276/NFKB1/PRKCQ                                                                                                                                                                                                                                                                                                                                                                                                                                        & C1-Others\\\\\n",
       "\tGO:0002764 & GO:0002764 & immune response-regulating signaling pathway                       & 391 & 0.7269053 & 2.422028 & 8.368025e-47 & 4.564060e-45 & 2.583811e-45 & 2520 & tags=43\\%, list=13\\%, signal=38\\% & IGLL5/MS4A1/FCRL3/FPR2/CD79A/BLK/CD209/FCN1/CR1/FFAR2/CD3D/CCR7/BTNL3/TRAT1/CD3E/CLEC4C/FCGR2B/CD22/CD3G/UBASH3A/LCK/PVRIG/STAP1/CLEC10A/CR2/LILRB2/SH2D1A/CD19/CTLA4/GPR33/MS4A2/GRAP2/HLA-DQA2/HLA-DQB2/LAX1/BTLA/CD28/ITK/CD79B/GCSAM/FGR/CLEC4D/CD247/THEMIS/FCER1A/SKAP1/MYO1G/SLA2/MNDA/ICAM3/ZAP70/FPR1/PAX5/PTPN22/FPR3/LCP2/C5AR1/BTNL8/CD200R1/NCR3/PTPRC/HCK/THEMIS2/C5AR2/WAS/CLEC4E/LILRB1/FCER1G/CLEC6A/HLA-DRA/VAV1/NFAM1/CD300A/PTPN6/TXK/HLA-DQA1/BTK/HLA-DPB1/CD4/KLHL6/GATA3/CTSH/FCGR2A/LILRB4/LILRA2/HLA-G/TESPA1/NCKAP1L/HLA-DPA1/FCGR3A/HLA-DQB1/C3AR1/CEACAM1/CLEC4A/FCGR1A/KCNN4/FCGR1B/HLA-DRB1/KLRK1/SYK/CARD11/CD33/CD160/LILRA4/LAT/CMKLR1/LAT2/CLEC12B/PSMB9/BMX/LYN/FOXP3/MUC12/BLNK/ARPC1B/PLCG2/MICB/CD226/TEC/RELB/PRAM1/MUC3A/LPXN/PIGR/GBP1/INPP5D/NFKBIZ/PSMB8/PIK3CD/CARD9/FOS/ADA/CD40/HLA-A/PSMB10/PRKCD/NFKBID/ZC3H12A/PLSCR1/HLA-DRB5/WIPF1/CD24/PRKCH/ICAM2/LGALS3/KLRC4-KLRK1/ICOSLG/RUNX1/BTN3A2/NR4A3/BTN2A2/KIR2DL1/VAV3/PSME2/SHC1/BTN3A3/CD38/ELF1/GCSAML/BAX/NFATC2/ARPC3/CSK/PSME1/ARPC5/RAB29/CD276/NFKB1/PRKCQ                                                                                                                                                                                                                                                                                                                                                                                                                              & C1-Others\\\\\n",
       "\tGO:0050900 & GO:0050900 & leukocyte migration                                                & 441 & 0.7605584 & 2.539228 & 4.859083e-67 & 2.120180e-64 & 1.200279e-64 & 2281 & tags=51\\%, list=12\\%, signal=46\\% & CCL7/JCHAIN/CCL24/CCL13/FPR2/CXCR1/CEACAM3/CNR2/CXCR2/CXCL9/FFAR2/CXCL10/CD177/CXCL13/CCL5/CCR7/CCL19/CCR6/SIRPG/CXCR3/S100A9/S100A8/LCK/STAP1/CCL11/GPR18/S100A12/CD2/DOK2/PPBP/CD48/CXCL11/FCAMR/SELP/CSF3R/SELL/LBP/CCL17/NLRP12/CCL22/CCR2/RAC2/CCL23/TNFSF11/DEFA1/GCSAM/SELE/PF4/TREM1/CCL21/SLAMF8/CCL4/CCL8/IL10/ITGAX/MYO1G/FUT7/CCL18/CCR5/ADAM8/ZAP70/RHOH/LEP/VPREB3/XCL2/C5AR1/CD200R1/ITGAL/ALOX5/EPX/HCK/CEACAM8/TNFSF14/CCL3/CCL3L3/CCR1/ELANE/C5AR2/CD244/ADGRE2/TNFSF18/CH25H/ITGB2/FCER1G/GPSM3/VAV1/CD300A/PTPN6/TBX21/CCL14/TNFRSF14/CD74/GPR183/ITGAM/MCOLN2/HMOX1/ITGB7/RIPK3/GATA3/LGALS9/IL6/AIF1/PF4V1/NCKAP1L/VCAM1/PTAFR/CCL20/CXCL12/C3AR1/CEACAM1/SLC7A7/CORO1A/IL1B/THBD/CD84/ICAM1/KLRK1/SYK/PTGER4/TRPM2/SPN/MSMP/CXCL5/PYCARD/CCL26/SERPINE1/DYSF/SELPLG/CMKLR1/PIK3CG/CYP19A1/TNFRSF11A/CSF1R/GPR15/LYN/CXCR5/IL23A/TREM2/GYPB/TNFRSF18/ITGA4/DOCK8/COL1A1/CXCR4/SLC16A3/CXCL8/DPP4/CRTAM/COL1A2/CXCL1/CXCL16/IL16/IL6R/PLA2G7/DUSP1/XCL1/GCNT1/ITGA2B/INPP5D/LGMN/SDC1/IL1R1/PLVAP/MDK/CCL2/TNFRSF10A/PIK3CD/SAA1/NKX2-3/PECAM1/STK10/OLR1/RHOG/ADA/ADTRP/IL4/GYPC/TGFB1/TNF/TNFRSF10D/THBS1/ITGA5/MMP1/ANXA1/MMP14/B4GALT1/CD58/CSF1/CCL1/VEGFC/CXCL3/CX3CR1/BST1/LGALS3/BDKRB1/MPP1/KLRC4-KLRK1/FN1/IL27RA/SLC7A8/TMEM102/IL17RA/CXCL2/PTK2B/IL33/MERTK/ITGB3/EMILIN1/PDGFB/MYH9/SLC8B1/APOD/VAV3/CCL28/CCL16/CXCL6/SHC1/RARRES2/F11R/ECM1/GCSAML/AZU1/CXCL14/SCG2/PRTN3                                                                                   & C1-Others\\\\\n",
       "\tGO:00521261 & GO:0052126 & movement in host environment                                       & 165 & 0.6417577 & 2.037329 & 1.602655e-11 & 1.152679e-10 & 6.525559e-11 & 3040 & tags=36\\%, list=16\\%, signal=31\\% & CD209/FCN1/CR1/CLEC4G/SLAMF1/CR2/SIGLEC1/FCN3/MRC1/CCR5/ANPEP/TNFRSF14/CD74/CD80/CD4/CLEC4M/ITGB7/LGALS9/VAMP8/HLA-DRB1/ICAM1/PTX3/CD86/SELPLG/GPR15/IFITM2/CXCR4/CXCL8/DPP4/SLC52A1/TRIM38/IFITM1/TRIM22/CTSB/TNFRSF4/CLEC5A/IFITM3/TRIM10/ITGA5/TRIM34/CTSL/HAVCR1/LGALS1/ITGB3/TRIM21/F11R/GSN/TRIM14/PML/SLC1A5/FUCA2/CD55/GYPA/AXL/EPHA2/HYAL2/TMPRSS2/ITGB1/GAS6/TRIML2                                                                                                                                                                                                                                                                                                                                                                                                                                                                                                                                                                                                                                                                                                                                                                                                                                                                                                                                                                                                                                                                                                                    & C1-Others\\\\\n",
       "\tGO:0030099 & GO:0030099 & myeloid cell differentiation                                       & 390 & 0.6134179 & 2.043338 & 5.998401e-21 & 7.338231e-20 & 4.154328e-20 & 3092 & tags=38\\%, list=16\\%, signal=32\\% & UBD/LILRB3/CCR7/CCL19/IFNG/BATF/GP1BA/CSF3R/IRF4/GPR171/TNFSF11/PF4/NFE2/SIGLEC15/MMP9/JAK3/RASGRP4/SPI1/CCL3/CCR1/CLEC1B/OSCAR/EVI2B/LILRB1/TYROBP/FCER1G/C1QC/PTPN6/CSF3/CD74/TLR2/GATA1/GPR183/HCLS1/CD4/GATA3/IKZF1/LILRB4/IL11/NCKAP1L/IL12B/SLC4A1/CEBPE/CEACAM1/ALAS2/IRF8/HLA-DRB1/MAFB/POU4F2/GPR55/TNFRSF11A/IL15/CSF1R/LYN/TCIRG1/NRROS/IL23A/TREM2/CEBPB/MYL9/LTF/FES/FLI1/ZFP36/AHSP/RELB/B2M/ITGA2B/CASP8/INPP5D/CEBPA/CSF2/TLR4/PIK3CD/NKX2-3/KLF2/SCIN/EPB42/DCSTAMP/TGFBR2/FOS/IL31RA/CLEC5A/IL4/GAB3/JUNB/TRIM10/TGFB1/TNF/THBS1/NBEAL2/BATF3/SH2B3/LIF/BATF2/IL23R/PPARG/IRF7/IFI16/CSF1/LGALS3/LRRK1/LTBR/ISG15/TRIM58/HOXB7/CDKN2B/PTK2B/ADIPOQ/CARTPT/RUNX1/SBNO2/MYH9/CIB1/NR4A3/NFKBIA/TLR3/LEF1/ACTN1/RAB7B/ETS1/TRIB1/PRTN3/DNASE2/FSTL3/PML/ANXA2/MITF/PRKCQ/ZNF385A/OSTM1/STAT1/FAM20C/PTPN2/G6PD/EPHA2/FBN1/SNX10/TESC/DYRK3/LOX/IL34/ZFP36L1/PDE1B/ESRRA/MEF2C/CA2                                                                                                                                                                                                                                                                                                                                                                                                                                                                                                                                                                                                 & C1-Others\\\\\n",
       "\tGO:00071621 & GO:0007162 & negative regulation of cell adhesion                               & 270 & 0.6341202 & 2.078263 & 1.932201e-17 & 1.960659e-16 & 1.109971e-16 & 2428 & tags=37\\%, list=12\\%, signal=33\\% & PLA2G2D/CLEC4G/IL2RA/FCGR2B/LILRB2/CTLA4/ARG1/GPNMB/ADAMDEC1/LAX1/CCL21/TIGIT/IL10/IL1RN/IDO1/PTPN22/PTPRC/MYOC/JAK3/LILRB1/CD300A/PTPN6/TBX21/TNFRSF14/CD74/VSIG4/CD80/RUNX3/TNFAIP8L2/PDCD1LG2/LGALS9/HLA-G/IFNL1/ARHGDIB/CXCL12/CEACAM1/LGALS9C/ALOX12/HLA-DRB1/CD86/SPN/TGFBI/SERPINE1/CD274/HAVCR2/IL2/FXYD5/FOXP3/IL4R/SOCS1/CEBPB/CYP1B1/POSTN/COL1A1/CDKN2A/FGL2/CRTAM/DUSP1/LAG3/XCL1/TACSTD2/LPXN/GBP1/IRF1/MDK/MMP12/ADTRP/CLDN7/SIPA1/IL4/HLX/PRKCD/TGFB1/NFKBID/THBS1/AKNA/ZC3H12A/PLXND1/SH2B3/ANXA1/MMP14/C1QTNF1/LRRC32/LGALS3/LGALS9B/HFE/ADIPOQ/LGALS1/RUNX1/BTN2A2/APOD/CCL28/SHH/TNC/ASS1/SNAI2/ZBTB7B/TNFSF4/ACVRL1/TRPV4/KLF4                                                                                                                                                                                                                                                                                                                                                                                                                                                                                                                                                                                                                                                                                                                                                                                                                                              & C1-Others\\\\\n",
       "\tGO:00224081 & GO:0022408 & negative regulation of cell-cell adhesion                          & 174 & 0.7074021 & 2.252566 & 5.435344e-19 & 5.880054e-18 & 3.328823e-18 & 2491 & tags=44\\%, list=13\\%, signal=39\\% & PLA2G2D/CLEC4G/IL2RA/FCGR2B/LILRB2/CTLA4/ARG1/GPNMB/LAX1/CCL21/TIGIT/IL10/IL1RN/IDO1/PTPN22/JAK3/LILRB1/CD300A/PTPN6/TBX21/TNFRSF14/CD74/VSIG4/CD80/RUNX3/TNFAIP8L2/PDCD1LG2/LGALS9/HLA-G/IFNL1/CXCL12/CEACAM1/LGALS9C/ALOX12/HLA-DRB1/CD86/SPN/CD274/HAVCR2/IL2/FXYD5/FOXP3/IL4R/SOCS1/CEBPB/FGL2/CRTAM/LAG3/XCL1/IRF1/MDK/ADTRP/IL4/HLX/PRKCD/TGFB1/NFKBID/AKNA/ZC3H12A/SH2B3/ANXA1/C1QTNF1/LRRC32/LGALS3/LGALS9B/HFE/ADIPOQ/RUNX1/BTN2A2/CCL28/SHH/ASS1/ZBTB7B/TNFSF4/TRPV4/KLF4/PLA2G2F                                                                                                                                                                                                                                                                                                                                                                                                                                                                                                                                                                                                                                                                                                                                                                                                                                                                                                                                                                                                      & C1-Others\\\\\n",
       "\tGO:19037071 & GO:1903707 & negative regulation of hemopoiesis                                 & 137 & 0.6661614 & 2.075494 & 1.163356e-11 & 8.413440e-11 & 4.763027e-11 & 2372 & tags=37\\%, list=12\\%, signal=33\\% & LILRB3/FCGR2B/CTLA4/PGLYRP1/GPR171/PF4/JAK3/CCL3/LILRB1/C1QC/TBX21/CD74/RUNX3/LILRB4/HLA-G/IFNL1/CEACAM1/MAFB/GPR55/IL2/LYN/FOXP3/IL4R/SOCS1/LTF/FGL2/ZFP36/LAG3/INPP5D/IRF1/MDK/TLR4/IL4/HLX/NFKBID/ZC3H12A/ANXA1/TMEM176B/PTK2B/ADIPOQ/CARTPT/RUNX1/CIB1/NFKBIA/TLR3/SHH/TMEM176A/TRIB1/ZBTB7B/TNFSF4/FSTL3                                                                                                                                                                                                                                                                                                                                                                                                                                                                                                                                                                                                                                                                                                                                                                                                                                                                                                                                                                                                                                                                                                                                                                                    & C1-Others\\\\\n",
       "\tGO:0002683 & GO:0002683 & negative regulation of immune system process                       & 417 & 0.7338233 & 2.450640 & 1.219643e-53 & 1.140367e-51 & 6.455857e-52 & 2322 & tags=45\\%, list=12\\%, signal=41\\% & TNFRSF13B/FCRL3/BLK/CNR2/PLA2G2D/CR1/CLEC4G/CXCR2/LILRB3/CST7/NLRP6/IL2RA/FCGR2B/CD22/UBASH3A/PVRIG/STAP1/GPR18/LILRB2/SH2D1A/IL7R/TBC1D10C/CTLA4/ARG1/PDCD1/GPNMB/PGLYRP1/LAX1/CCR2/HLA-DOB/GPR171/GCSAM/FGR/CD96/PF4/CCL21/TIGIT/SLAMF8/IL10/SLA2/MNDA/IDO1/PTPN22/CD200R1/CD300LF/PTPRC/CLNK/JAK3/BANK1/CCL3/C5AR2/SAMSN1/LILRB1/TYROBP/FCER1G/CD300A/C1QC/KIR2DL4/PTPN6/TBX21/CD68/TNFRSF14/BTK/CD74/VSIG4/CD80/RUNX3/HMOX1/TSPAN32/TNFAIP8L2/LILRB4/PDCD1LG2/LGALS9/HLA-DOA/HLA-G/IFNL1/LST1/IL12B/CXCL12/CEACAM1/NLRC3/LGALS9C/ALOX15/HLA-F/CD84/HLA-DRB1/KLRK1/MAFB/PTGER4/CD86/SPN/CD160/MILR1/GPR55/TNFAIP3/CD274/CYP19A1/HAVCR2/CLEC12B/IL2/LYN/FOXP3/IL4R/BST2/SOCS1/CEBPB/MICB/HLA-B/LTF/FGL2/GRN/DPP4/CRTAM/TRIM38/ZFP36/DUSP1/LAG3/XCL1/NLRC5/IRAK3/LPXN/GBP1/INPP5D/HLA-E/IRF1/MDK/TLR4/CCL2/IL1RL1/MMP12/STAT6/C4BPB/COL3A1/ADA/ADTRP/IL31RA/IL4/HLA-A/NR1H3/HLX/GPX1/TGFB1/GAL/NMI/TNF/NFKBID/THBS1/A2M/ZC3H12A/ARRB2/ANXA1/PPARG/SERPINB9/IFI16/TMEM176B/LRRC32/RNF125/TAPBPL/LGALS3/KLRC4-KLRK1/SERPING1/LGALS9B/MICA/IL27RA/PTK2B/HFE/ADIPOQ/CARTPT/IL33/MERTK/RUNX1/EMILIN1/PARP14/CIB1/BTN2A2/NFKBIA/TLR3/APOD/CCL28/SHH/DHX58/TMEM176A/ELF1/TRIB1/ZBTB7B/TNFSF4/TSC22D3/BPI                                                                                                                                                                                                                                                                                               & C1-Others\\\\\n",
       "\tGO:00507281 & GO:0050728 & negative regulation of inflammatory response                       & 137 & 0.6687641 & 2.083603 & 6.317397e-12 & 4.752570e-11 & 2.690531e-11 & 2943 & tags=51\\%, list=15\\%, signal=44\\% & FPR2/CNR2/IL1R2/CST7/NLRP6/IL2RA/FCGR2B/MEFV/NLRP12/PGLYRP1/SLAMF8/IL10/NLRP7/CD200R1/PTPRC/ALOX5/GPR31/ELANE/ACP5/AOAH/GATA3/TNFAIP8L2/NLRP3/TNFRSF1B/IL12B/NLRC3/SIGLEC10/HLA-DRB1/PTGER4/KRT1/PYCARD/TNFAIP3/CYP19A1/IL2/FOXP3/HGF/GRN/FFAR4/SERPINF1/GHRL/MDK/SOCS3/SAA1/ADA/IL22RA2/IL4/NR1H3/PRKCD/GPX1/IGF1/ZC3H12A/APOE/TNFAIP6/PPARG/METRNL/ADIPOQ/TNFRSF1A/APOD/ADCY7/ETS1/CDH5/GBA/KLF4/NFKB1/PTPN2/ABCD1/ADORA2A/PTGIS/FOXF1/NT5E                                                                                                                                                                                                                                                                                                                                                                                                                                                                                                                                                                                                                                                                                                                                                                                                                                                                                                                                                                                                                                                    & C1-Others\\\\\n",
       "\tGO:19030381 & GO:1903038 & negative regulation of leukocyte cell-cell adhesion                & 121 & 0.7794667 & 2.408863 & 8.836607e-22 & 1.112223e-20 & 6.296529e-21 & 2261 & tags=54\\%, list=12\\%, signal=48\\% & PLA2G2D/CLEC4G/IL2RA/FCGR2B/LILRB2/CTLA4/ARG1/GPNMB/LAX1/CCL21/TIGIT/IL10/IDO1/PTPN22/JAK3/LILRB1/CD300A/PTPN6/TBX21/TNFRSF14/CD74/VSIG4/CD80/RUNX3/TNFAIP8L2/PDCD1LG2/LGALS9/HLA-G/IFNL1/CXCL12/CEACAM1/LGALS9C/HLA-DRB1/CD86/SPN/CD274/HAVCR2/IL2/FOXP3/IL4R/SOCS1/CEBPB/FGL2/CRTAM/LAG3/XCL1/IRF1/MDK/ADTRP/IL4/HLX/NFKBID/ZC3H12A/ANXA1/LRRC32/LGALS3/LGALS9B/HFE/RUNX1/BTN2A2/CCL28/SHH/ASS1/ZBTB7B/TNFSF4                                                                                                                                                                                                                                                                                                                                                                                                                                                                                                                                                                                                                                                                                                                                                                                                                                                                                                                                                                                                                                                                                  & C1-Others\\\\\n",
       "\tGO:19021061 & GO:1902106 & negative regulation of leukocyte differentiation                   & 100 & 0.7137981 & 2.163354 & 7.460684e-12 & 5.548884e-11 & 3.141341e-11 & 2372 & tags=45\\%, list=12\\%, signal=40\\% & LILRB3/FCGR2B/CTLA4/PGLYRP1/JAK3/CCL3/LILRB1/C1QC/TBX21/CD74/RUNX3/LILRB4/HLA-G/IFNL1/CEACAM1/MAFB/GPR55/IL2/LYN/FOXP3/IL4R/SOCS1/LTF/FGL2/LAG3/INPP5D/IRF1/MDK/TLR4/IL4/HLX/NFKBID/ZC3H12A/ANXA1/TMEM176B/ADIPOQ/CARTPT/RUNX1/TLR3/SHH/TMEM176A/TRIB1/ZBTB7B/TNFSF4/FSTL3                                                                                                                                                                                                                                                                                                                                                                                                                                                                                                                                                                                                                                                                                                                                                                                                                                                                                                                                                                                                                                                                                                                                                                                                                       & C1-Others\\\\\n",
       "\tGO:0042119 & GO:0042119 & neutrophil activation                                              & 492 & 0.7382936 & 2.473990 & 1.443631e-64 & 3.149523e-62 & 1.783012e-62 & 2558 & tags=48\\%, list=13\\%, signal=42\\% & MCEMP1/PRG3/ADGRG3/FPR2/CXCR1/CEACAM3/IL18RAP/FCN1/CTSG/CR1/CXCR2/LILRB3/CD177/ORM1/CCL5/FCAR/S100P/ADGRE3/CLEC4C/FCGR3B/FCGR2B/S100A9/S100A8/PLA2G2A/HK3/S100A12/LRG1/PPBP/LILRB2/LYZ/TBC1D10C/CLEC12A/TCN1/CHI3L1/ARG1/SELL/P2RX1/PGLYRP1/CD36/MMP25/DEFA4/DEFA1/FGR/CLEC4D/CAMP/ITGAX/MNDA/ADAM8/RETN/MMP9/FPR1/ARHGAP9/TTR/C5AR1/SLC11A1/SIGLEC5/ITGAL/CTSS/ORM2/PTPRC/CD14/ALOX5/EPX/CEACAM8/DOK3/MGAM/CD53/ELANE/HBB/BIN2/VNN1/OSCAR/SERPINA1/ITGB2/GMFG/TYROBP/SIGLEC14/FCER1G/FOLR3/NFAM1/CD300A/PTPN6/CD68/ANPEP/LAIR1/CFD/CRISP3/TLR2/ABCA13/PLAUR/ITGAM/PLAC8/RAB44/CTSH/FCGR2A/SIRPB1/CYBB/DNASE1L3/RNASE2/STXBP2/LILRA2/DOCK2/VAMP8/SIGLEC9/NCKAP1L/TNFRSF1B/PTAFR/CFP/GPR84/C3AR1/CEACAM1/SYK/PTX3/CD33/TRPM2/CYBA/PRG2/KRT1/PYCARD/GLIPR1/HPSE/IL15/LCN2/TCIRG1/PLAU/BST2/CTSZ/CTSC/MME/RNASE3/CDA/SLC2A5/FTL/HLA-B/LTF/NPC2/CXCL8/ALDH3B1/FGL2/GRN/S100A11/CXCL1/CTSB/IL18/B2M/UNC13D/PRAM1/PIGR/ADGRE5/CTSD/CD93/C3/MMP8/PECAM1/SERPINB1/STK10/RNASET2/FUCA1/ATP8B4/GSDMD/OLR1/RHOG/SLPI/MAN2B1/CLEC5A/CNN2/SLCO4C1/RAB27A/PRKCD/CRACR2A/NBEAL2/HLA-C/MS4A3/OSTF1/B4GALT1/TNFAIP6/CTSA/CD58/PLEKHO2/ANXA3/CREG1/SERPINA3/BST1/LGALS3/AGPAT2/KCNAB2/AOC1/HEXB/GCA/MVP/TMC6/SLC2A3/BRI3/PYGL/COTL1/CHIT1/AMPD3/HSPA6/CD63/FTH1/HVCN1/PSAP/CHRNB4/ASAH1/CSTB/CXCL6/SNAP23/DNASE1L1/GSN/GAA/AZU1/RAB37/PRTN3/HP/SDCBP/GUSB/BPI/STOM/ARPC5/TICAM2/GLA/IQGAP2/ANXA2/NEU1/FUCA2/GM2A/NFKB1/CD55/PLD1/ARSA/RHOF/GNS/IQGAP1/IMPDH1                                                       & C1-Others\\\\\n",
       "\tGO:0002283 & GO:0002283 & neutrophil activation involved in immune response                  & 481 & 0.7346068 & 2.458720 & 2.015063e-61 & 3.297146e-59 & 1.866584e-59 & 2558 & tags=47\\%, list=13\\%, signal=42\\% & MCEMP1/PRG3/ADGRG3/FPR2/CXCR1/CEACAM3/FCN1/CTSG/CR1/CXCR2/LILRB3/CD177/ORM1/FCAR/S100P/ADGRE3/CLEC4C/FCGR3B/S100A9/S100A8/HK3/S100A12/LRG1/PPBP/LILRB2/LYZ/TBC1D10C/CLEC12A/TCN1/CHI3L1/ARG1/SELL/P2RX1/PGLYRP1/CD36/MMP25/DEFA4/DEFA1/FGR/CLEC4D/CAMP/ITGAX/MNDA/ADAM8/RETN/MMP9/FPR1/ARHGAP9/TTR/C5AR1/SLC11A1/SIGLEC5/ITGAL/CTSS/ORM2/PTPRC/CD14/ALOX5/EPX/CEACAM8/DOK3/MGAM/CD53/ELANE/HBB/BIN2/VNN1/OSCAR/SERPINA1/ITGB2/GMFG/TYROBP/SIGLEC14/FCER1G/FOLR3/NFAM1/CD300A/PTPN6/CD68/ANPEP/LAIR1/CFD/CRISP3/TLR2/ABCA13/PLAUR/ITGAM/PLAC8/RAB44/CTSH/FCGR2A/SIRPB1/CYBB/DNASE1L3/RNASE2/STXBP2/LILRA2/DOCK2/VAMP8/SIGLEC9/NCKAP1L/TNFRSF1B/PTAFR/CFP/GPR84/C3AR1/CEACAM1/SYK/PTX3/CD33/TRPM2/CYBA/PRG2/KRT1/PYCARD/GLIPR1/HPSE/LCN2/TCIRG1/PLAU/BST2/CTSZ/CTSC/MME/RNASE3/CDA/SLC2A5/FTL/HLA-B/LTF/NPC2/ALDH3B1/FGL2/GRN/S100A11/CXCL1/CTSB/B2M/UNC13D/PRAM1/PIGR/ADGRE5/CTSD/CD93/C3/MMP8/PECAM1/SERPINB1/STK10/RNASET2/FUCA1/ATP8B4/GSDMD/OLR1/RHOG/SLPI/MAN2B1/CLEC5A/CNN2/SLCO4C1/RAB27A/PRKCD/CRACR2A/NBEAL2/HLA-C/MS4A3/OSTF1/B4GALT1/TNFAIP6/CTSA/CD58/PLEKHO2/ANXA3/CREG1/SERPINA3/BST1/LGALS3/AGPAT2/KCNAB2/AOC1/HEXB/GCA/MVP/TMC6/SLC2A3/BRI3/PYGL/COTL1/CHIT1/AMPD3/HSPA6/CD63/FTH1/HVCN1/PSAP/CHRNB4/ASAH1/CSTB/SNAP23/DNASE1L1/GSN/GAA/AZU1/RAB37/PRTN3/HP/SDCBP/GUSB/BPI/STOM/ARPC5/TICAM2/GLA/IQGAP2/ANXA2/NEU1/FUCA2/GM2A/NFKB1/CD55/PLD1/ARSA/RHOF/GNS/IQGAP1/IMPDH1                                                                                                         & C1-Others\\\\\n",
       "\tGO:0043312 & GO:0043312 & neutrophil degranulation                                           & 478 & 0.7343398 & 2.459058 & 2.473838e-61 & 3.598060e-59 & 2.036938e-59 & 2558 & tags=47\\%, list=13\\%, signal=42\\% & MCEMP1/PRG3/ADGRG3/FPR2/CXCR1/CEACAM3/FCN1/CTSG/CR1/CXCR2/LILRB3/CD177/ORM1/FCAR/S100P/ADGRE3/CLEC4C/FCGR3B/S100A9/S100A8/HK3/S100A12/LRG1/PPBP/LILRB2/LYZ/TBC1D10C/CLEC12A/TCN1/CHI3L1/ARG1/SELL/P2RX1/PGLYRP1/CD36/MMP25/DEFA4/DEFA1/FGR/CLEC4D/CAMP/ITGAX/MNDA/ADAM8/RETN/MMP9/FPR1/ARHGAP9/TTR/C5AR1/SLC11A1/SIGLEC5/ITGAL/CTSS/ORM2/PTPRC/CD14/ALOX5/EPX/CEACAM8/DOK3/MGAM/CD53/ELANE/HBB/BIN2/VNN1/OSCAR/SERPINA1/ITGB2/GMFG/TYROBP/SIGLEC14/FCER1G/FOLR3/NFAM1/CD300A/PTPN6/CD68/ANPEP/LAIR1/CFD/CRISP3/TLR2/ABCA13/PLAUR/ITGAM/PLAC8/RAB44/CTSH/FCGR2A/SIRPB1/CYBB/RNASE2/STXBP2/DOCK2/VAMP8/SIGLEC9/NCKAP1L/TNFRSF1B/PTAFR/CFP/GPR84/C3AR1/CEACAM1/SYK/PTX3/CD33/TRPM2/CYBA/PRG2/KRT1/PYCARD/GLIPR1/HPSE/LCN2/TCIRG1/PLAU/BST2/CTSZ/CTSC/MME/RNASE3/CDA/SLC2A5/FTL/HLA-B/LTF/NPC2/ALDH3B1/FGL2/GRN/S100A11/CXCL1/CTSB/B2M/UNC13D/PRAM1/PIGR/ADGRE5/CTSD/CD93/C3/MMP8/PECAM1/SERPINB1/STK10/RNASET2/FUCA1/ATP8B4/GSDMD/OLR1/RHOG/SLPI/MAN2B1/CLEC5A/CNN2/SLCO4C1/RAB27A/PRKCD/CRACR2A/NBEAL2/HLA-C/MS4A3/OSTF1/B4GALT1/TNFAIP6/CTSA/CD58/PLEKHO2/ANXA3/CREG1/SERPINA3/BST1/LGALS3/AGPAT2/KCNAB2/AOC1/HEXB/GCA/MVP/TMC6/SLC2A3/BRI3/PYGL/COTL1/CHIT1/AMPD3/HSPA6/CD63/FTH1/HVCN1/PSAP/CHRNB4/ASAH1/CSTB/SNAP23/DNASE1L1/GSN/GAA/AZU1/RAB37/PRTN3/HP/SDCBP/GUSB/BPI/STOM/ARPC5/TICAM2/GLA/IQGAP2/ANXA2/NEU1/FUCA2/GM2A/NFKB1/CD55/PLD1/ARSA/RHOF/GNS/IQGAP1/IMPDH1                                                                                                                         & C1-Others\\\\\n",
       "\tGO:0002446 & GO:0002446 & neutrophil mediated immunity                                       & 492 & 0.7285731 & 2.441417 & 2.834453e-60 & 3.710299e-58 & 2.100479e-58 & 2558 & tags=46\\%, list=13\\%, signal=41\\% & MCEMP1/PRG3/ADGRG3/FPR2/CXCR1/CEACAM3/FCN1/CTSG/CR1/CXCR2/LILRB3/CD177/ORM1/FCAR/S100P/ADGRE3/CLEC4C/FCGR3B/S100A9/S100A8/HK3/S100A12/LRG1/PPBP/LILRB2/LYZ/TBC1D10C/CLEC12A/TCN1/CHI3L1/ARG1/SELL/P2RX1/PGLYRP1/CD36/MMP25/DEFA4/DEFA1/FGR/CLEC4D/CAMP/ITGAX/MNDA/ADAM8/RETN/MMP9/FPR1/ARHGAP9/TTR/C5AR1/SLC11A1/SIGLEC5/ITGAL/CTSS/ORM2/PTPRC/CD14/ALOX5/EPX/CEACAM8/DOK3/MGAM/CD53/ELANE/HBB/BIN2/VNN1/OSCAR/SERPINA1/ITGB2/GMFG/TYROBP/SIGLEC14/FCER1G/FOLR3/NFAM1/CD300A/PTPN6/CD68/ANPEP/LAIR1/CFD/CRISP3/TLR2/ABCA13/PLAUR/ITGAM/PLAC8/RAB44/CTSH/FCGR2A/SIRPB1/CYBB/DNASE1L3/RNASE2/IL6/STXBP2/DOCK2/VAMP8/SIGLEC9/NCKAP1L/TNFRSF1B/PTAFR/CFP/GPR84/C3AR1/CEACAM1/SYK/PTX3/CD33/TRPM2/CYBA/PRG2/KRT1/PYCARD/GLIPR1/HPSE/LCN2/TCIRG1/PLAU/BST2/CTSZ/CTSC/MME/RNASE3/CDA/SLC2A5/FTL/HLA-B/LTF/NPC2/ALDH3B1/FGL2/GRN/S100A11/CXCL1/CTSB/B2M/UNC13D/PRAM1/PIGR/ADGRE5/CTSD/CD93/C3/MMP8/PECAM1/SERPINB1/STK10/RNASET2/FUCA1/ATP8B4/GSDMD/OLR1/RHOG/SLPI/MAN2B1/CLEC5A/CNN2/SLCO4C1/RAB27A/PRKCD/CRACR2A/NBEAL2/HLA-C/MS4A3/OSTF1/B4GALT1/TNFAIP6/CTSA/CD58/PLEKHO2/ANXA3/CREG1/SERPINA3/BST1/LGALS3/AGPAT2/KCNAB2/AOC1/HEXB/GCA/MVP/TMC6/SLC2A3/BRI3/PYGL/COTL1/CHIT1/AMPD3/HSPA6/CD63/FTH1/HVCN1/PSAP/CHRNB4/ASAH1/CSTB/CXCL6/SNAP23/DNASE1L1/GSN/GAA/AZU1/RAB37/PRTN3/HP/SDCBP/GUSB/BPI/STOM/ARPC5/TICAM2/GLA/IQGAP2/ANXA2/NEU1/FUCA2/GM2A/NFKB1/CD55/PLD1/ARSA/RHOF/GNS/IQGAP1/IMPDH1                                                                                                      & C1-Others\\\\\n",
       "\tGO:00301681 & GO:0030168 & platelet activation                                                & 157 & 0.6404396 & 2.023161 & 4.076733e-11 & 2.823515e-10 & 1.598452e-10 & 3242 & tags=51\\%, list=17\\%, signal=43\\% & BLK/LCK/GP1BA/SELP/P2RX1/COMP/PF4/CD40LG/PLEK/GP9/LCP2/HBB/FERMT3/CLEC1B/FCER1G/PIK3R5/VAV1/PTPN6/TXK/GATA1/TSPAN32/TREML1/IL6/PF4V1/CEACAM1/THBD/GNA15/ALOX12/SYK/PIK3CG/LYN/PLCG2/COL1A1/MYL9/COL1A2/PIK3R6/TEC/ITGA2B/TLR4/SAA1/COL3A1/CD40/PRKCD/ARRB2/SH2B3/APOE/GNA14/C1QTNF1/PLSCR1/CLIC1/PRKCH/MYL12A/FN1/NOS3/MERTK/ITGB3/PDGFB/MYH9/VAV3/DGKA/VWF/F11R/ITPR3/ADRA2A/P2RY12/F2RL3/PRKCQ/ACTB/RAP2B/FLNA/AXL/HSPB1/PDPN/PLA2G4A/F2RL2/TLN1/VCL/TRPC6/F8/UBASH3B                                                                                                                                                                                                                                                                                                                                                                                                                                                                                                                                                                                                                                                                                                                                                                                                                                                                                                                                                                                                                          & C1-Others\\\\\n",
       "\tGO:00457661 & GO:0045766 & positive regulation of angiogenesis                                & 164 & 0.6555636 & 2.076995 & 1.113472e-12 & 8.780328e-12 & 4.970730e-12 & 3504 & tags=51\\%, list=18\\%, signal=42\\% & CCL24/CXCR2/CMA1/CCL11/LRG1/CHI3L1/IL10/ITGAX/C5AR1/CCR3/ITGB2/HMOX1/CTSH/CYBB/C3AR1/IL1B/EPHA1/C6/SERPINE1/CYP1B1/CELA1/TMIGD2/HGF/CXCR4/CXCL8/GRN/GHRL/PIK3R6/ADM2/C3/ENG/MDK/ADAM12/TGFBR2/SRPX2/CD40/RRAS/THBS1/ITGA5/ZC3H12A/PTGS2/ANXA1/IL1A/SFRP2/ANXA3/VEGFC/CX3CR1/FOXC2/NRP1/SPHK1/PTK2B/NOS3/ADM/RUNX1/TNFSF12/TBXA2R/CIB1/TLR3/ECM1/ETS1/CDH5/BTG1/ACVRL1/TWIST1/KLF4/SMOC2/CD34/RHOJ/HSPB6/HSPB1/MYDGF/PTGIS/APLNR/XBP1/ITGB1/ANGPTL4/RAMP2/GATA6/HDAC7/PRKD2/PLK2/RLN2/MAP3K3                                                                                                                                                                                                                                                                                                                                                                                                                                                                                                                                                                                                                                                                                                                                                                                                                                                                                                                                                                                                      & C1-Others\\\\\n",
       "\tGO:0050867 & GO:0050867 & positive regulation of cell activation                             & 328 & 0.7692629 & 2.547824 & 1.435918e-54 & 1.445859e-52 & 8.185315e-53 & 2277 & tags=54\\%, list=12\\%, signal=49\\% & IGLL5/FCRL3/CD209/LILRA5/CD27/CD177/CCL5/CCR7/ICOS/CD3E/IL2RA/CCL19/SIRPG/LCK/STAP1/CD2/IFNG/LILRB2/IL7R/CTLA4/SELP/CD5/PDCD1/LBP/GRAP2/CCR2/BTLA/CD28/TNFSF11/CD6/FGR/CLEC4D/CCL21/CD40LG/PLEK/IL10/ADAM8/ZAP70/RHOH/LEP/PTPN22/PTPRC/TNFSF14/JAK3/CCL3/SASH3/VNN1/ITGB2/LILRB1/TYROBP/FCER1G/VAV1/CLECL1/PTPN6/TBX21/TNFRSF14/BTK/CD74/HLA-DMB/GPR183/CLEC7A/IL12RB1/ITGAM/CD80/RUNX3/HLA-DPB1/CD4/NOD2/CRLF2/GATA3/CD1D/SIRPB1/LILRB4/PDCD1LG2/LGALS9/RASAL3/IL6/LILRA2/VAMP8/AIF1/HLA-G/TESPA1/NLRP3/NCKAP1L/HLA-DPA1/VCAM1/PTAFR/IL12B/CORO1A/IL1B/HLA-F/KLRK1/SYK/CARD11/CD86/CD70/CD160/PYCARD/EBI3/CD274/TNFSF13B/HAVCR2/MAP3K8/IL15/IL2/LYN/TNFSF13/FOXP3/IL4R/CCDC88B/CTSC/IL23A/SOCS1/TREM2/DOCK8/TMIGD2/CD226/TLR6/DPP4/IL18/PIK3R6/XCL1/TNFRSF4/SPTA1/INPP5D/NFKBIZ/CEBPA/CAPN3/HLA-E/MDK/TLR4/CCL2/MMP8/IL1RL1/CLCF1/TGFBR2/STAT6/ADA/CD40/IL4/HLA-A/EGR3/HLX/RPS6KA1/TGFB1/TSLP/IGF1/NFKBID/THBS1/ANXA1/MMP14/IL23R/IL1A/IL21/CD24/CD83/BST1/CDKN1A/FLT3LG/KLRC4-KLRK1/IL27RA/ICOSLG/HAVCR1/IL33/LGALS1/RUNX1/NR4A3/BTN2A2/VAV3/LEF1/SHH/MYB/RASGRP1/CD38/F11R/ZBTB7B/TNFSF4/NFATC2                                                                                                                                                                                                                                                                                                                                                                                               & C1-Others\\\\\n",
       "\tGO:0045785 & GO:0045785 & positive regulation of cell adhesion                               & 415 & 0.6994801 & 2.336217 & 7.891431e-42 & 2.791860e-40 & 1.580531e-40 & 2547 & tags=46\\%, list=13\\%, signal=41\\% & CD209/CD27/CXCL13/CCL5/CCR7/ICOS/CD3E/IL2RA/CCL19/AGR2/SIRPG/LCK/IFNG/LILRB2/IL7R/CTLA4/SELP/CD5/PDCD1/GRAP2/CCR2/CD36/BTLA/CD28/TNFSF11/CD6/SELE/CCL21/CD40LG/SKAP1/IL10/FUT7/ADAM8/ZAP70/RHOH/EGFL6/LEP/PTPN22/PTPRC/ALOX5/MYOC/TNFSF14/JAK3/ELANE/SASH3/VNN1/TNFSF18/ITGB2/LILRB1/VAV1/CLECL1/PTPN6/TNFRSF14/CD74/HLA-DMB/IL12RB1/PLAUR/CD80/RUNX3/HLA-DPB1/CD4/NOD2/GATA3/CD1D/SIRPB1/LILRB4/PDCD1LG2/LGALS9/RASAL3/IL6/AIF1/HLA-G/APBB1IP/TESPA1/NLRP3/CASS4/NCKAP1L/HLA-DPA1/VCAM1/PTAFR/IL12B/CXCL12/CORO1A/IL1B/ALOX15/EPHA1/ICAM1/KLRK1/SYK/CARD11/CD86/CD70/CD160/PYCARD/DYSF/EBI3/CD274/TNFSF13B/HAVCR2/MAP3K8/IL15/IL2/LYN/FOXP3/IL4R/CCDC88B/IL23A/SOCS1/TNFRSF18/ITGA4/DOCK8/TMIGD2/DPP4/IL18/PIK3R6/XCL1/UNC13D/SPTA1/NFKBIZ/HLA-E/MDK/TGM2/CCL2/SAA1/IBSP/TGFBR2/ADA/IL4/HLA-A/RRAS/EGR3/HLX/IGF1/RHOD/TNF/NFKBID/ITGA5/ANXA1/LIF/IL23R/IL1A/IL21/SFRP2/CSF1/CD24/CD83/FOXC2/KLRC4-KLRK1/NRP1/FN1/IL27RA/TMEM102/PTK2B/ICOSLG/NINJ1/STX3/LGALS1/RUNX1/EMILIN1/CIB1/NR4A3/BTN2A2/WNT4/VAV3/CCL28/LEF1/SHH/MYB/RASGRP1/F11R/EGFLAM/ADAM19/VTN/ETS1/DOCK5/VIT/RREB1/AZU1/ZBTB7B/TNFSF4/S100A10/FMN1/CSK/P2RY12/FSTL3/PLEKHA2/SMOC2/CD276/CD55/PRKCQ/IQGAP1/IL1RL2                                                                                                                                                                                                                                                                                                                   & C1-Others\\\\\n",
       "\tGO:00509211 & GO:0050921 & positive regulation of chemotaxis                                  & 141 & 0.7017277 & 2.194087 & 1.370113e-15 & 1.281055e-14 & 7.252325e-15 & 3023 & tags=50\\%, list=16\\%, signal=43\\% & CCL7/FPR2/CXCR2/CXCL10/CXCL13/CCL5/CCR7/CCL19/CCR4/CCR6/LBP/CCR2/RAC2/CCL21/CCL4/XCL2/C5AR1/TNFSF14/CCL3/CCR1/GPSM3/CD74/LGALS9/IL6/AIF1/NCKAP1L/CXCL12/C3AR1/CCL26/SERPINE1/DYSF/CMKLR1/CSF1R/IL23A/TREM2/CXCR4/CXCL8/IL16/IL6R/PLA2G7/XCL1/LGMN/MDK/SUCNR1/IL4/TGFB1/THBS1/TMSB4X/CSF1/CCL1/VEGFC/NRP1/TMEM102/PTK2B/STX3/PDGFB/RARRES2/AZU1/CXCL14/SCG2/P2RY12/TRPV4/SMOC2/P2RX4/IL12A/HSPB1/STX4/FGF16/IL34/S100A14/GAS6                                                                                                                                                                                                                                                                                                                                                                                                                                                                                                                                                                                                                                                                                                                                                                                                                                                                                                                                                                                                                                                                     & C1-Others\\\\\n",
       "\tGO:0001819 & GO:0001819 & positive regulation of cytokine production                         & 425 & 0.7391173 & 2.466626 & 1.964987e-57 & 2.338335e-55 & 1.323781e-55 & 2568 & tags=49\\%, list=13\\%, signal=44\\% & PRG3/FCN1/LILRA5/SERPINB7/FFAR2/ORM1/POU2AF1/CCR7/SLAMF6/CD3E/CCL19/LTB/LY9/CD2/IFNG/LILRB2/PYHIN1/OSM/LBP/NLRP12/CCR2/IRF4/CD36/CD28/ZBP1/CD6/FGR/GBP5/PF4/TIGIT/CD40LG/TLR8/IL10/MNDA/ADAM8/IDO1/LEP/PTPN22/C5AR1/SLC11A1/LUM/ORM2/PTPRC/CD14/EPX/CLNK/EREG/LY96/CCL3/FFAR3/ELANE/IL27/SASH3/CD244/CLEC4E/LILRB1/TYROBP/FCER1G/GPSM3/CLEC6A/NFAM1/KIR2DL4/TXK/TNFRSF14/CD74/TLR2/CLEC7A/IL12RB1/SCIMP/CD80/MCOLN2/HLA-DPB1/CD4/NOD2/LTA/CRLF2/GATA3/LGALS9/IL6/LILRA2/AIF1/HLA-G/NLRP3/HLA-DPA1/PTAFR/IFNL1/IL12B/C3AR1/BIRC3/CASP1/IL1B/HLA-F/IRF8/NLRC4/AIM2/KLRK1/SYK/IL18R1/CARD11/PTGER4/CD86/CYBA/CD160/TLR7/HTR2B/PYCARD/SERPINE1/EBI3/CD274/BCL3/HAVCR2/HPSE/IL15/IL2/FOXP3/SPON2/CCDC88B/IL23A/TREM2/PLCG2/CEBPB/CYP1B1/TMIGD2/IRF5/CD226/HGF/TLR6/TLR1/CRTAM/IL16/IL6R/TLR5/IL18/XCL1/B2M/CLEC9A/CASP8/POU2F2/HLA-E/IRF1/C3/IL1R1/CSF2/MDK/TLR4/MMP8/IL1RL1/SAA1/GSDMD/CARD9/STAT6/CD40/CLEC5A/IL4/NFKB2/NLRP10/HLA-A/MAPK13/TGFB1/TSLP/TNF/THBS1/PTGS2/ANXA1/IL23R/IL1A/IL21/IL12RB2/MYD88/RSAD2/CD58/NOX1/IRF7/IFI16/CCL1/RNF135/CD83/RNF125/AGPAT2/EGR1/KLRC4-KLRK1/SPHK1/IL27RA/IL17RA/ADIPOQ/IFIH1/IL33/RUNX1/NR4A3/TLR3/DDX60/DHX58/MYB/RASGRP1/RAB7B/RAET1G/AZU1/TNFSF4/NOD1/ADRA2A/TRPV4/TWIST1/CD276/IRF3/NFKB1/CD34/PRKCQ/IL1RL2/STAT1                                                                                                                                                                                                                                     & C1-Others\\\\\n",
       "\tGO:00703741 & GO:0070374 & positive regulation of ERK1 and ERK2 cascade                       & 194 & 0.6604664 & 2.120796 & 1.895890e-15 & 1.760085e-14 & 9.964214e-15 & 2146 & tags=37\\%, list=11\\%, signal=33\\% & CCL7/FGF4/CCL24/MARCO/CCL13/FPR2/CCL5/CCR7/CCL19/SLAMF1/PLA2G2A/CCL11/CHI3L1/GPNMB/CCL17/CCL22/CD36/CCL23/TNFSF11/CCL21/CCL4/CCL8/CCL18/PTPN22/XCL2/C5AR1/PTPRC/CCL3/CCL3L3/CCR1/C5AR2/CCL14/CD74/GPR183/SCIMP/CD4/NOD2/LGALS9/CCL20/ALOX15/HLA-DRB1/ICAM1/HTR2B/PYCARD/GPR55/CCL26/HAVCR2/TNFRSF11A/CSF1R/TREM2/GPBAR1/FFAR4/XCL1/P2RY6/TLR4/CCL2/ABCA7/TNFAIP8L3/TGFB1/TNF/ARRB2/APOE/CCL1/PLA2G5/NRP1/PTK2B/PDGFB/CIB1/NTRK1/CCL16/RASGRP1/SHC1                                                                                                                                                                                                                                                                                                                                                                                                                                                                                                                                                                                                                                                                                                                                                                                                                                                                                                                                                                                                                                               & C1-Others\\\\\n",
       "\tGO:00507311 & GO:0050731 & positive regulation of peptidyl-tyrosine phosphorylation           & 189 & 0.6286838 & 2.009875 & 1.025238e-11 & 7.455758e-11 & 4.220862e-11 & 2206 & tags=41\\%, list=11\\%, signal=36\\% & LILRA5/CCL5/CD3E/STAP1/IL24/IFNG/OSM/CD36/NCF1/LEP/AREG/PTPRC/EREG/BANK1/TNFSF18/CSF3/TNFRSF14/CD74/GATA1/CD80/HCLS1/CD4/IL11/IL6/CASS4/IFNL1/IL12B/FCGR1A/ICAM1/SYK/IL15/IL2/CSF1R/LYN/FLT3/IL23A/TREM2/TNFRSF18/HGF/IL6R/GHRL/IL18/TEC/CSF2/TDGF1/SOCS3/PECAM1/CLCF1/IL31RA/CD40/IL4/TGFB1/TSLP/IGF1/TNF/ITGA5/ARRB2/LIF/IL23R/IL21/HBEGF/CD24/GH1/BTC/LRRK1/NRP1/PTK2B/ADIPOQ/TNFRSF1A/ITGB3/EHD4/PARP9/PDGFB/PARP14/CSH2/FGF7/VTN                                                                                                                                                                                                                                                                                                                                                                                                                                                                                                                                                                                                                                                                                                                                                                                                                                                                                                                                                                                                                                                            & C1-Others\\\\\n",
       "\tGO:00028331 & GO:0002833 & positive regulation of response to biotic stimulus                 & 242 & 0.6915535 & 2.255941 & 1.845350e-23 & 2.597379e-22 & 1.470431e-22 & 2497 & tags=37\\%, list=13\\%, signal=33\\% & FPR2/IL18RAP/CD209/FCN1/FFAR2/CCL5/SLAMF6/CLEC4C/CLEC10A/SH2D1A/PYHIN1/ARG1/LBP/ZBP1/CLEC4D/GBP5/TLR8/MNDA/ADAM8/ICAM3/NCR3/CLNK/HCK/EREG/LY96/CLEC4E/FCER1G/CLEC6A/VAV1/CD180/KIR2DL4/TXK/SCIMP/CD1D/LILRA2/HLA-G/IL12B/LY86/CLEC4A/HLA-F/NLRC4/AIM2/KLRK1/SYK/CARD11/CYBA/CD160/PYCARD/CD274/HAVCR2/PSMB9/LYN/MUC12/PLCG2/IKBKE/SH2D1B/CD226/GRN/CRTAM/LAG3/RELB/NLRC5/MUC3A/HLA-E/PSMB8/TLR4/MMP12/CARD9/NLRP10/PSMB10/PRKCD/IL21/PLSCR1/IRF7/IFI16/MR1/PLA2G5/ICAM2/KLRC4-KLRK1/PARP9/PSME2/DDX60/DHX58/RASGRP1/RAET1G/NOD1/PSME1/IRF3/RAET1E/NFKB1                                                                                                                                                                                                                                                                                                                                                                                                                                                                                                                                                                                                                                                                                                                                                                                                                                                                                                                                          & C1-Others\\\\\n",
       "\tGO:0032103 & GO:0032103 & positive regulation of response to external stimulus               & 498 & 0.6934299 & 2.324790 & 3.841677e-48 & 2.186415e-46 & 1.237776e-46 & 2498 & tags=42\\%, list=13\\%, signal=38\\% & CCL7/CCL24/FPR2/IL18RAP/CD209/FCN1/LILRA5/CXCR2/FFAR2/CXCL10/CXCL13/CCL5/CCR7/SLAMF6/CLEC4C/CCL19/CCR4/CCR6/S100A9/S100A8/PLA2G2A/STAP1/S100A12/IFNG/CLEC10A/SH2D1A/PYHIN1/OSM/ARG1/LBP/NLRP12/CCR2/RAC2/CD28/ZBP1/TNFSF11/CD6/CLEC4D/GBP5/CCL21/CCL4/TLR8/MNDA/ADAM8/ICAM3/IDO1/XCL2/C5AR1/NCR3/CLNK/HCK/FABP4/TNFSF14/EREG/LY96/CCL3/FFAR3/CCR1/CLEC4E/TLR10/FCER1G/GPSM3/CLEC6A/VAV1/CD180/KIR2DL4/TXK/BTK/CD74/TLR2/CLEC7A/SCIMP/NOD2/LTA/CD1D/LGALS9/IL6/LILRA2/VAMP8/AIF1/HLA-G/NCKAP1L/IL12B/CXCL12/C3AR1/LY86/CLEC4A/IL1B/HLA-F/THBD/NLRC4/AIM2/KLRK1/SYK/CARD11/PTGER4/CYBA/CD160/TLR7/PYCARD/CCL26/SERPINE1/DYSF/CMKLR1/PIK3CG/HAVCR2/TNFRSF11A/PSMB9/IL15/IL2/CSF1R/LYN/MUC12/CTSC/IL23A/TREM2/PLCG2/IKBKE/CEBPB/SH2D1B/CD226/CXCR4/TLR6/CXCL8/GRN/CRTAM/IL16/IL6R/PLA2G7/GHRL/IL18/LAG3/XCL1/RELB/NLRC5/MUC3A/NFKBIZ/CEBPA/LGMN/HLA-E/C3/PSMB8/MDK/TGM2/TLR4/MMP8/IL1RL1/MMP12/CARD9/SUCNR1/IL4/NLRP10/PSMB10/MAPK13/NUPR1/PRKCD/TGFB1/TSLP/TNF/THBS1/PTGS2/TRADD/IL21/MYD88/PLSCR1/TMSB4X/IRF7/IFI16/CSF1/CCL1/VEGFC/PLA2G5/SCARF1/ICAM2/KLRC4-KLRK1/NRP1/TMEM102/IL17RA/PTK2B/MGST2/TNFRSF1A/IL33/STX3/PARP9/PDGFB/NFKBIA/TLR3/PSME2/DDX60/DHX58/RASGRP1/RARRES2/ETS1/RAET1G/AZU1/CXCL14/TNFSF4/NOD1/SCG2/P2RY12/C2CD4B/GPR4/PSME1/TRPV4/SMOC2/LRRK2/IRF3/RAET1E/NFKB1/OSMR                                                                                                                                                                                                        & C1-Others\\\\\n",
       "\tGO:19040181 & GO:1904018 & positive regulation of vasculature development                     & 184 & 0.6398667 & 2.047312 & 9.400373e-13 & 7.503102e-12 & 4.247665e-12 & 3310 & tags=47\\%, list=17\\%, signal=40\\% & CCL24/SERPINB7/CXCR2/CMA1/CCL11/LRG1/CHI3L1/IL10/ITGAX/C5AR1/CCR3/ITGB2/HMOX1/CTSH/CYBB/C3AR1/CEACAM1/IL1B/EPHA1/C6/SERPINE1/CYP1B1/CELA1/TMIGD2/HGF/CXCR4/CXCL8/GRN/IL6R/GHRL/PIK3R6/ADM2/C3/ENG/MDK/SOD2/ADAM12/TGFBR2/SRPX2/CD40/RRAS/THBS1/ITGA5/ZC3H12A/PTGS2/ANXA1/IL1A/SFRP2/ANXA3/VEGFC/CX3CR1/EGR1/FOXC2/NRP1/SPHK1/PTK2B/NOS3/ADM/RUNX1/TNFSF12/TBXA2R/PDGFB/CIB1/TLR3/ECM1/ETS1/CDH5/BTG1/ACVRL1/TWIST1/KLF4/SMOC2/CD34/RHOJ/HSPB6/HSPB1/MYDGF/CFLAR/PTGIS/APLNR/XBP1/ITGB1/ANGPTL4/RAMP2/GATA6/HDAC7/PRKD2                                                                                                                                                                                                                                                                                                                                                                                                                                                                                                                                                                                                                                                                                                                                                                                                                                                                                                                                                                           & C1-Others\\\\\n",
       "\tGO:0022407 & GO:0022407 & regulation of cell-cell adhesion                                   & 416 & 0.7124653 & 2.378890 & 6.759977e-46 & 3.160289e-44 & 1.789107e-44 & 2261 & tags=44\\%, list=12\\%, signal=40\\% & BLK/CD209/PLA2G2D/CLEC4G/CD27/CXCL13/CCL5/CCR7/ICOS/CD3E/IL2RA/CCL19/FCGR2B/SIRPG/LCK/IFNG/LILRB2/IL7R/CTLA4/ARG1/SELP/CD5/PDCD1/GRAP2/GPNMB/LAX1/CCR2/BTLA/CD28/TNFSF11/CD6/SELE/CCL21/TIGIT/CD40LG/SKAP1/IL10/FUT7/IL1RN/ADAM8/IDO1/ZAP70/RHOH/LEP/PTPN22/PTPRC/ALOX5/TNFSF14/JAK3/ELANE/SASH3/FERMT3/VNN1/ITGB2/LILRB1/VAV1/CD300A/CLECL1/PTPN6/TBX21/TNFRSF14/CD74/HLA-DMB/IL12RB1/PLAUR/VSIG4/CD80/RUNX3/HLA-DPB1/CD4/NOD2/GATA3/CD1D/SIRPB1/TNFAIP8L2/LILRB4/PDCD1LG2/LGALS9/RASAL3/IL6/AIF1/HLA-G/TESPA1/NLRP3/NCKAP1L/HLA-DPA1/VCAM1/PTAFR/IFNL1/IL12B/CXCL12/CEACAM1/LGALS9C/CORO1A/IL1B/ALOX15/ALOX12/HLA-DRB1/ICAM1/KLRK1/SYK/CARD11/CD86/CD70/SPN/CD160/PYCARD/EBI3/CD274/TNFSF13B/HAVCR2/MAP3K8/IL15/IL2/FXYD5/LYN/FOXP3/IL4R/CCDC88B/IL23A/SOCS1/CEBPB/ITGA4/DOCK8/TMIGD2/FGL2/DPP4/CRTAM/IL18/PIK3R6/LAG3/XCL1/SPTA1/NFKBIZ/HLA-E/IRF1/MDK/CCL2/TGFBR2/ADA/ADTRP/IL4/HLA-A/EGR3/HLX/PRKCD/TGFB1/IGF1/TNF/NFKBID/AKNA/ZC3H12A/SH2B3/ANXA1/IL23R/IL1A/IL21/C1QTNF1/CD24/LRRC32/CD83/LGALS3/KLRC4-KLRK1/LGALS9B/IL27RA/HFE/ICOSLG/ADIPOQ/LGALS1/RUNX1/NR4A3/BTN2A2/WNT4/CCL28/LEF1/SHH/MYB/RASGRP1/F11R/ADAM19/ETS1/ASS1/ZBTB7B/TNFSF4                                                                                                                                                                                                                                                                                                                                               & C1-Others\\\\\n",
       "\tGO:00509201 & GO:0050920 & regulation of chemotaxis                                           & 216 & 0.6585673 & 2.126167 & 4.838783e-16 & 4.589831e-15 & 2.598400e-15 & 3023 & tags=44\\%, list=16\\%, signal=38\\% & CCL7/FGF4/FPR2/CXCR2/CXCL10/CXCL13/CCL5/CCR7/CCL19/CCR4/CCR6/STAP1/GPR18/LBP/CCR2/RAC2/CCL21/SLAMF8/CCL4/XCL2/C5AR1/TNFSF14/CCL3/CCR1/ELANE/C5AR2/GPSM3/CD74/GPR183/LGALS9/IL6/AIF1/NCKAP1L/CXCL12/C3AR1/KLRK1/POU4F2/CCL26/SERPINE1/DYSF/CMKLR1/CYP19A1/CSF1R/LYN/IL23A/TREM2/CXCR4/CXCL8/DPP4/IL16/IL6R/PLA2G7/DUSP1/XCL1/LGMN/MDK/CCL2/SUCNR1/IL4/TGFB1/THBS1/TMSB4X/CSF1/CCL1/VEGFC/BST1/MPP1/KLRC4-KLRK1/NRP1/TMEM102/PTK2B/STX3/PDGFB/SLC8B1/RARRES2/AZU1/CXCL14/SCG2/P2RY12/TRPV4/SMOC2/NBL1/P2RX4/PTPN2/SEMA4A/SEMA3F/ADGRA2/IL12A/HSPB1/STX4/CORO1B/SEMA3C/FGF16/IL34/S100A14/GAS6                                                                                                                                                                                                                                                                                                                                                                                                                                                                                                                                                                                                                                                                                                                                                                                                                                                                                                      & C1-Others\\\\\n",
       "\tGO:00703721 & GO:0070372 & regulation of ERK1 and ERK2 cascade                                & 276 & 0.6164682 & 2.024384 & 5.077264e-15 & 4.552150e-14 & 2.577069e-14 & 2146 & tags=33\\%, list=11\\%, signal=30\\% & CCL7/FGF4/CCL24/MARCO/CCL13/FPR2/NLRP6/CCL5/CCR7/CCL19/SLAMF1/PLA2G2A/CCL11/TBC1D10C/CHI3L1/GPNMB/CCL17/NLRP12/CCL22/CD36/CCL23/CRYBA1/TNFSF11/CCL21/CCL4/CCL8/CCL18/PTPN22/XCL2/C5AR1/PTPRC/CCL3/CCL3L3/CCR1/C5AR2/PTPN6/CCL14/CD74/GPR183/SCIMP/CD4/NOD2/LGALS9/CCL20/CEACAM1/IL1B/ALOX15/HLA-DRB1/ICAM1/SYK/HTR2B/PYCARD/GPR55/CCL26/HAVCR2/TNFRSF11A/CSF1R/LYN/TREM2/GPBAR1/FFAR4/DUSP1/XCL1/GBP1/P2RY6/TLR4/CCL2/ABCA7/TNFAIP8L3/RRAS/TGFB1/TNF/ARRB2/APOE/LIF/CCL1/PLA2G5/RGS14/NRP1/FN1/PTK2B/ADIPOQ/ATF3/EMILIN1/PDGFB/CIB1/BTN2A2/NTRK1/CCL16/RASGRP1/SHC1                                                                                                                                                                                                                                                                                                                                                                                                                                                                                                                                                                                                                                                                                                                                                                                                                                                                                                                              & C1-Others\\\\\n",
       "\tGO:1903706 & GO:1903706 & regulation of hemopoiesis                                          & 455 & 0.6483507 & 2.168406 & 2.601219e-31 & 5.007347e-30 & 2.834765e-30 & 3152 & tags=41\\%, list=16\\%, signal=35\\% & FCRL3/CR1/LILRB3/CD27/IL2RA/CCL19/FCGR2B/IKZF3/CD2/IFNG/LILRB2/IL7R/CTLA4/OSM/GP1BA/CSF3R/PGLYRP1/CCR2/IRF4/CD28/GPR171/TNFSF11/PF4/SLAMF8/NFE2/ADAM8/SIGLEC15/ZAP70/RHOH/PTPRC/JAK3/SPI1/CCL3/CCR1/ZNF683/IL27/SASH3/VNN1/EVI2B/LILRB1/TYROBP/NFAM1/C1QC/PTPN6/TBX21/CSF3/BTK/CD74/GATA1/IL12RB1/CD80/RUNX3/HCLS1/CD4/GATA3/LILRB4/LGALS9/HLA-DOA/HLA-G/TESPA1/NLRP3/NCKAP1L/IFNL1/IL12B/CEACAM1/IL1B/HLA-DRB1/MAFB/SYK/CARD11/CD86/POU4F2/GFI1B/GPR55/PSMB9/IL15/IL2/LYN/FOXP3/IL4R/IL23A/SOCS1/TREM2/CEBPB/TNFRSF18/MYL9/HLA-B/LTF/FGL2/FES/PRDM1/CRTAM/SLC46A2/ZFP36/IL18/PIK3R6/LAG3/B2M/ITGA2B/CASP8/INPP5D/NFKBIZ/IRF1/PSMB8/CSF2/MDK/TLR4/SCIN/DCSTAMP/TGFBR2/FOS/ADA/IL4/PSMB10/EGR3/HLX/TGFB1/TNF/NFKBID/THBS1/ZC3H12A/ANXA1/LIF/MMP14/IL23R/IL1A/IRF7/CSF1/TMEM176B/CD83/LGALS3/ISG15/FLT3LG/TRIM58/PTK2B/ADIPOQ/CARTPT/RUNX1/TCF7/CIB1/NR4A3/BTN2A2/NFKBIA/TLR3/PSME2/LEF1/SHH/MYB/TMEM176A/RASGRP1/LMO2/RAB7B/ETS1/TRIB1/ZBTB7B/TNFSF4/NFATC2/FSTL3/PSME1/ZFP36L2/MITF/PIM1/PRKCQ/IL1RL2/STAT1/PTPN2/IL12A/AXL/FOXC1/PGLYRP2/FBN1/PSMA8/IL7/TESC/LOX/XBP1/IL34/GAS6/ZFP36L1/ESRRA/MEF2C/CA2/TNFSF9/TLR9/PSMA3                                                                                                                                                                                                                                                                                                                                                                       & C1-Others\\\\\n",
       "\tGO:00431221 & GO:0043122 & regulation of I-kappaB kinase/NF-kappaB signaling                  & 241 & 0.6217762 & 2.026843 & 1.508347e-13 & 1.273823e-12 & 7.211383e-13 & 3513 & tags=40\\%, list=18\\%, signal=33\\% & UBD/NLRP6/CCR7/CCL19/S100A12/FASLG/NLRP12/CD36/TNFSF11/CCL21/RHOH/S100A4/CLEC6A/SECTM1/CD74/HMOX1/CD4/NOD2/LGALS9/TNIP3/NLRC3/BIRC3/CASP1/IL1B/HLA-DRB1/CARD11/HTR2B/PYCARD/TNFAIP3/TNFSF10/BST2/IKBKE/APOL3/LTF/TLR6/TRIM38/TRIM22/CASP10/TMEM106A/CASP8/ALPK1/CAPN3/TGM2/TLR4/PPM1N/CARD9/CD40/TNF/NFKBID/SLC20A1/ZC3H12A/TRIM34/PIM2/TRADD/MYD88/CX3CR1/LTBR/S100A13/LITAF/ADIPOQ/TNFRSF1A/TIFA/ESR1/LGALS1/SQSTM1/TRIM21/TRAF1/TLR3/ECM1/REL/NOD1/TRIM14/TICAM2/IRF3/FKBP1A/STAT1/IRAK4/SHISA5/FLNA/HSPB1/CFLAR/MAP3K14/TRIML2/TLR9/TRIM5/TNIP2/SIRPA/TICAM1/PLK2/CARD8/IRAK1/PIDD1/TNFRSF10B/MAP3K3/NEK6/TNIP1                                                                                                                                                                                                                                                                                                                                                                                                                                                                                                                                                                                                                                                                                                                                                                                                                                                                              & C1-Others\\\\\n",
       "\tGO:0002697 & GO:0002697 & regulation of immune effector process                              & 389 & 0.7708184 & 2.568520 & 2.440943e-64 & 4.564564e-62 & 2.584097e-62 & 2261 & tags=51\\%, list=12\\%, signal=46\\% & MZB1/FCRL3/BLK/IL18RAP/CR1/CLEC4G/FFAR2/CD177/SLAMF6/IL2RA/CCL19/FCGR2B/CD22/STAP1/IFNG/CR2/SH2D1A/IL7R/CD19/ARG1/LBP/PGLYRP1/CLC/FCER2/CCR2/IRF4/CD36/RAC2/CD28/FGR/CD96/CD1C/CD40LG/SLAMF8/IL10/NCR1/FUT7/CD1A/LEP/CD1B/PTPN22/C5AR1/CD1E/NCR3/PTPRC/CLNK/JAK3/C1QA/FFAR3/CR1L/ZNF683/IL27/C5AR2/SASH3/CD244/ADGRE2/WAS/ITGB2/LILRB1/TYROBP/FCER1G/VAV1/CD300A/C1QC/C1QB/KIR2DL4/C2/PTPN6/TBX21/TNFRSF14/BTK/CD74/HLA-DMB/IL12RB1/ITGAM/VSIG4/SCIMP/CD80/HMOX1/NOD2/LTA/TSPAN32/RIPK3/GATA3/CD1D/LGALS9/DNASE1L3/IL6/STXBP2/VAMP8/HLA-G/NLRP3/TNFRSF1B/PTAFR/IFNL1/CFP/IL12B/CD5L/C3AR1/CEACAM1/BIRC3/IL1B/HLA-F/CD84/AIM2/CFB/ICAM1/KLRK1/SYK/C6/IL18R1/CD86/CD160/PYCARD/TNFAIP3/C7/HAVCR2/CLEC12B/IL15/IL2/LYN/TNFSF13/FOXP3/IL4R/SPON2/BST2/IL23A/MICB/APOBEC3G/SH2D1B/CD226/HLA-B/FGL2/FES/GRN/CRTAM/TRIM38/IL18/PIK3R6/C1S/LAG3/XCL1/B2M/UNC13D/IRAK3/PRAM1/TNFRSF4/NFKBIZ/HLA-E/C3/IL1R1/TLR4/CLCF1/MMP12/STAT6/C4BPB/CD40/IL4/HLA-A/NOS2/CFH/HLX/TGFB1/TNF/NFKBID/A2M/C1R/ZC3H12A/ARRB2/ANXA1/IL23R/IL21/RSAD2/SERPINB9/MR1/CFI/PLA2G5/RNF125/LGALS3/KLRC4-KLRK1/SERPING1/APOBEC3F/MICA/IL27RA/HFE/IL33/PARP9/NR4A3/TLR3/DDX60/DHX58/MYB/CXCL6/RASGRP1/DTX3L/VTN/RAET1G/ZBTB7B/TNFSF4                                                                                                                                                                                                                                                                                                  & C1-Others\\\\\n",
       "\tGO:00026881 & GO:0002688 & regulation of leukocyte chemotaxis                                 & 118 & 0.7675810 & 2.363882 & 8.412288e-20 & 9.575378e-19 & 5.420824e-19 & 1906 & tags=49\\%, list=10\\%, signal=45\\% & CCL7/FPR2/CXCR2/CXCL10/CXCL13/CCL5/CCR7/CCL19/CCR6/STAP1/GPR18/LBP/CCR2/RAC2/CCL21/SLAMF8/CCL4/XCL2/C5AR1/TNFSF14/CCL3/CCR1/C5AR2/GPSM3/CD74/LGALS9/IL6/AIF1/NCKAP1L/CXCL12/C3AR1/KLRK1/SERPINE1/DYSF/CMKLR1/CYP19A1/CSF1R/LYN/IL23A/CXCL8/DPP4/IL6R/PLA2G7/DUSP1/XCL1/LGMN/MDK/CCL2/IL4/THBS1/CSF1/CCL1/VEGFC/BST1/MPP1/KLRC4-KLRK1/TMEM102/PTK2B                                                                                                                                                                                                                                                                                                                                                                                                                                                                                                                                                                                                                                                                                                                                                                                                                                                                                                                                                                                                                                                                                                                                               & C1-Others\\\\\n",
       "\tGO:0051249 & GO:0051249 & regulation of lymphocyte activation                                & 425 & 0.7601234 & 2.536729 & 7.033014e-66 & 1.841243e-63 & 1.042367e-63 & 2277 & tags=50\\%, list=12\\%, signal=45\\% & IGLL5/TNFRSF13B/MZB1/FCRL3/BLK/CD209/PLA2G2D/CR1/CLEC4G/CD27/CCL5/CCR7/ICOS/CD3E/SIT1/IL2RA/CCL19/FCGR2B/CD22/SIRPG/IKZF3/LCK/CD2/IFNG/LILRB2/IL7R/TBC1D10C/CD19/CTLA4/ARG1/CD5/PDCD1/GRAP2/GPNMB/PGLYRP1/CLC/LAX1/CCR2/IRF4/RAC2/BTLA/CD28/TNFSF11/CD6/FGR/CCL21/TIGIT/CD40LG/SLAMF8/IL10/MNDA/ADAM8/IDO1/ZAP70/RHOH/LEP/PTPN22/PTPRC/CLNK/TNFSF14/JAK3/BANK1/ZNF683/IL27/SASH3/SAMSN1/VNN1/TNFSF18/LILRB1/TYROBP/VAV1/NFAM1/CD300A/CLECL1/PTPN6/TBX21/TNFRSF14/BTK/CD74/HLA-DMB/GPR183/CLEC7A/IL12RB1/VSIG4/CD80/RUNX3/HLA-DPB1/CD4/NOD2/RIPK3/GATA3/CD1D/SIRPB1/TNFSF8/TNFAIP8L2/LILRB4/PDCD1LG2/LGALS9/RASAL3/HLA-DOA/IL6/AIF1/HLA-G/TESPA1/NLRP3/NCKAP1L/HLA-DPA1/VCAM1/TNFRSF1B/IFNL1/LST1/IL12B/CEACAM1/LGALS9C/CORO1A/IL1B/HLA-F/HLA-DRB1/KLRK1/SYK/CARD11/CD86/CD70/SPN/CD160/PYCARD/LAT/EBI3/TNFAIP3/CD274/TNFSF13B/HAVCR2/MAP3K8/IL15/IL2/LYN/TNFSF13/FOXP3/IL4R/CCDC88B/IL23A/SOCS1/CEBPB/TNFRSF18/DOCK8/TMIGD2/FGL2/PRDM1/DPP4/CRTAM/SLC46A2/IL18/PIK3R6/LAG3/XCL1/TNFRSF4/SPTA1/INPP5D/NFKBIZ/HLA-E/IRF1/MDK/TLR4/CCL2/CLCF1/TGFBR2/STAT6/ADA/CD40/IL4/HLA-A/EGR3/HLX/TGFB1/GAL/IGF1/NFKBID/ZC3H12A/ANXA1/MMP14/IL23R/IL1A/IL21/CD24/LRRC32/CD83/BST1/LGALS3/CDKN1A/FLT3LG/KLRC4-KLRK1/AHR/LGALS9B/MICA/IL27RA/HFE/ICOSLG/LGALS1/MERTK/RUNX1/TCF7/BTN2A2/VAV3/LEF1/SHH/MYB/RASGRP1/CD38/GSN/ZBTB7B/TNFSF4/NFATC2                                                                                                                                                                   & C1-Others\\\\\n",
       "\tGO:00027611 & GO:0002761 & regulation of myeloid leukocyte differentiation                    & 118 & 0.6525767 & 2.009709 & 2.499331e-09 & 1.550533e-08 & 8.777894e-09 & 3092 & tags=46\\%, list=16\\%, signal=39\\% & LILRB3/IFNG/TNFSF11/PF4/SIGLEC15/CCL3/CCR1/EVI2B/LILRB1/TYROBP/C1QC/CD74/HCLS1/CD4/LILRB4/IL12B/CEACAM1/HLA-DRB1/MAFB/POU4F2/GPR55/LYN/IL23A/TREM2/CEBPB/LTF/FES/CASP8/INPP5D/TLR4/DCSTAMP/FOS/IL4/TGFB1/TNF/LIF/IL23R/IRF7/CSF1/ADIPOQ/CARTPT/RUNX1/TLR3/LEF1/TRIB1/FSTL3/MITF/PTPN2/FBN1/TESC/IL34/ZFP36L1/ESRRA/CA2                                                                                                                                                                                                                                                                                                                                                                                                                                                                                                                                                                                                                                                                                                                                                                                                                                                                                                                                                                                                                                                                                                                                                                           & C1-Others\\\\\n",
       "\tGO:0002831 & GO:0002831 & regulation of response to biotic stimulus                          & 391 & 0.7031883 & 2.343004 & 2.018145e-39 & 6.143609e-38 & 3.478027e-38 & 2614 & tags=41\\%, list=13\\%, signal=36\\% & FPR2/TREML2/IL18RAP/CD209/FCN1/CR1/FFAR2/CCL5/SLAMF6/IL2RA/CLEC4C/FCGR2B/IFNG/CLEC10A/SH2D1A/PYHIN1/ARG1/LBP/CD36/ZBP1/FGR/CD96/CLEC4D/GBP5/SLAMF8/TLR8/NCR1/MNDA/ADAM8/ICAM3/LEP/PTPN22/NCR3/CLNK/HCK/EREG/LY96/IL27/CLEC4E/LILRB1/FCER1G/CLEC6A/VAV1/CD180/KIR2DL4/PTPN6/TXK/IL12RB1/VSIG4/SCIMP/TREML4/TSPAN32/CD1D/LGALS9/LILRA2/HLA-G/IL12B/CEACAM1/NLRC3/LY86/BIRC3/CLEC4A/IL1B/HLA-F/NLRC4/AIM2/KLRK1/SYK/CARD11/CYBA/CD160/PYCARD/TNFAIP3/CD274/HAVCR2/CLEC12B/PSMB9/IL15/LYN/MUC12/IL23A/SOCS1/TREM2/PLCG2/IKBKE/MICB/APOBEC3G/SH2D1B/CD226/HLA-B/LTF/FGL2/GRN/CRTAM/TRIM38/PIK3R6/LAG3/RELB/NLRC5/IRAK3/MUC3A/HLA-E/IRF1/PSMB8/TLR4/SOCS3/MMP12/CARD9/IL4/NLRP10/HLA-A/PSMB10/NR1H3/PRKCD/NMI/A2M/ZC3H12A/ARRB2/APOE/IL23R/IL21/PPARG/PLSCR1/SERPINB9/IRF7/IFI16/MR1/PLA2G5/RNF135/RNF125/ICAM2/KLRC4-KLRK1/SERPING1/APOBEC3F/MICA/PARP9/PARP14/PSME2/DDX60/DHX58/CXCL6/RASGRP1/SIGIRR/IFNGR1/DTX3L/TRIB1/RAET1G/NOD1/USP18/PSME1/IRF3/RAET1E/NFKB1/CD55/SAMHD1/STAT1/IFNGR2/HERC5/PTPN2                                                                                                                                                                                                                                                                                                                                                                                                                                                                                               & C1-Others\\\\\n",
       "\tGO:19013421 & GO:1901342 & regulation of vasculature development                              & 322 & 0.6055475 & 2.004949 & 2.908579e-16 & 2.799508e-15 & 1.584861e-15 & 3016 & tags=41\\%, list=16\\%, signal=35\\% & CCL24/SERPINB7/CXCR2/CXCL10/CMA1/CXCL13/CCL11/LRG1/FASLG/CHI3L1/GPNMB/PROK2/CCR2/PF4/IL10/ITGAX/LEP/C5AR1/CCR3/ALOX5/PROK1/ITGB2/HMOX1/CTSH/CYBB/IL6/HLA-G/STAB1/IL12B/C3AR1/CEACAM1/IL1B/EPHA1/C6/CD160/KRT1/SERPINE1/TNFAIP3/CYP1B1/CELA1/TMIGD2/HGF/CXCR4/CXCL8/GRN/IL6R/SERPINF1/GHRL/PIK3R6/ADM2/C3/ENG/MDK/SOD2/ADAM12/KLF2/ANGPTL7/HHEX/TGFBR2/DCN/SRPX2/CD40/SP100/RRAS/TNF/THBS1/ITGA5/ZC3H12A/PTGS2/PLXND1/ANXA1/IL1A/PPARG/SFRP2/TNFRSF12A/ANXA3/VEGFC/HTATIP2/CX3CR1/THBS2/EGR1/FOXC2/NRP1/SPHK1/PTK2B/NOS3/ADM/RUNX1/TNFSF12/TBXA2R/EMILIN1/PDGFB/CIB1/TLR3/WNT4/ADAMTS1/CARD10/ECSCR/ECM1/ETS1/CDH5/NFATC2/BTG1/GPR4/PML/ACVRL1/TWIST1/KLF4/SMOC2/HSPG2/MMRN2/CD34/NGFR/STAT1/SEMA4A/ADGRA2/RHOJ/IL12A/HSPB6/HSPB1/MYDGF/CFLAR/FOXC1/EPHA2/NPR1/PTGIS/COL4A2/APLNR/XBP1/MEOX2/ITGB1                                                                                                                                                                                                                                                                                                                                                                                                                                                                                                                                                                                                                                                                                                & C1-Others\\\\\n",
       "\tGO:0042110 & GO:0042110 & T cell activation                                                  & 471 & 0.7566756 & 2.533012 & 4.437997e-70 & 2.904669e-67 & 1.644395e-67 & 2277 & tags=49\\%, list=12\\%, signal=44\\% & TREML2/HSH2D/CD209/PLA2G2D/CR1/CLEC4G/CD27/CD3D/CCL5/CCR7/ICOS/SLAMF6/CD3E/SIT1/IL2RA/CCL19/FCGR2B/CCR6/SIRPG/CD3G/LCK/LY9/GPR18/CD2/IFNG/LILRB2/IL7R/BATF/CTLA4/ARG1/CD8B/CD5/PDCD1/GRAP2/GPNMB/CLC/LAX1/CCR2/IRF4/RAC2/BTLA/CD28/ITK/TNFSF11/CD6/CLEC4D/THEMIS/CD1C/CCL21/TIGIT/CD40LG/CD7/IL10/FUT7/SLA2/ADAM8/IDO1/ZAP70/RHOH/LEP/PTPN22/EOMES/CD8A/LCP1/SLC11A1/ITGAL/PTPRC/TNFSF14/JAK3/ZNF683/IL27/SASH3/VNN1/TNFSF18/WAS/CLEC4E/LILRB1/FCER1G/VAV1/CD300A/CLECL1/PTPN6/TBX21/TNFRSF14/CD74/HLA-DMB/GPR183/CLEC7A/IL12RB1/VSIG4/CD80/RUNX3/HLA-DPB1/CD4/NOD2/RIPK3/GATA3/CD1D/SIRPB1/TNFSF8/TNFAIP8L2/LILRB4/PDCD1LG2/LGALS9/RASAL3/HLA-DOA/IL6/DOCK2/AIF1/HLA-G/APBB1IP/TESPA1/NLRP3/NCKAP1L/HLA-DPA1/VCAM1/TNFRSF1B/IFNL1/IL12B/CEACAM1/NLRC3/LGALS9C/CORO1A/CCR9/CLEC4A/IL1B/HLA-DRB1/ICAM1/KLRK1/MAFB/SYK/IL18R1/CARD11/PTGER4/CD86/CD70/SPN/CD160/PYCARD/LAT/EBI3/CD274/TNFSF13B/PIK3CG/BCL3/HAVCR2/MAP3K8/IL15/IL2/LYN/TCIRG1/FOXP3/IL4R/CCDC88B/IL23A/SOCS1/CEBPB/MICB/TNFRSF18/DOCK8/TMIGD2/FGL2/PRDM1/DPP4/CRTAM/SLC46A2/IL18/PIK3R6/LAG3/XCL1/RELB/B2M/TNFRSF4/SPTA1/CASP8/NFKBIZ/HLA-E/IRF1/MDK/CCL2/PIK3CD/NKX2-3/RUNX2/TGFBR2/STAT6/ADA/ELF4/IL4/HLA-A/PSMB10/RAB27A/EGR3/HLX/IGF1/NFKBID/ZC3H12A/ANXA1/IL23R/IL1A/IL21/RSAD2/MR1/CD24/LRRC32/CD83/CTSL/LGALS3/EGR1/KLRC4-KLRK1/LGALS9B/MICA/IL27RA/HFE/ICOSLG/LGALS1/RUNX1/TCF7/MYH9/BTN2A2/PSAP/WNT4/LEF1/SHH/MYB/RASGRP1/GSN/BAX/ZBTB7B/TNFSF4/NFATC2                                                                     & C1-Others\\\\\n",
       "\tGO:00467181 & GO:0046718 & viral entry into host cell                                         & 130 & 0.6770782 & 2.105072 & 8.442680e-12 & 6.243768e-11 & 3.534729e-11 & 3040 & tags=44\\%, list=16\\%, signal=37\\% & CD209/FCN1/CR1/CLEC4G/SLAMF1/CR2/SIGLEC1/FCN3/MRC1/CCR5/ANPEP/TNFRSF14/CD74/CD80/CD4/CLEC4M/ITGB7/LGALS9/VAMP8/HLA-DRB1/ICAM1/PTX3/CD86/SELPLG/GPR15/IFITM2/CXCR4/DPP4/SLC52A1/TRIM38/IFITM1/TRIM22/CTSB/TNFRSF4/CLEC5A/IFITM3/TRIM10/ITGA5/TRIM34/CTSL/HAVCR1/LGALS1/ITGB3/TRIM21/F11R/GSN/TRIM14/SLC1A5/CD55/GYPA/AXL/EPHA2/HYAL2/TMPRSS2/ITGB1/GAS6/TRIML2                                                                                                                                                                                                                                                                                                                                                                                                                                                                                                                                                                                                                                                                                                                                                                                                                                                                                                                                                                                                                                                                                                                                    & C1-Others\\\\\n",
       "\\end{tabular}\n"
      ],
      "text/markdown": [
       "\n",
       "A data.frame: 48 × 12\n",
       "\n",
       "| <!--/--> | ID &lt;chr&gt; | Description &lt;chr&gt; | setSize &lt;int&gt; | enrichmentScore &lt;dbl&gt; | NES &lt;dbl&gt; | pvalue &lt;dbl&gt; | p.adjust &lt;dbl&gt; | qvalues &lt;dbl&gt; | rank &lt;dbl&gt; | leading_edge &lt;chr&gt; | core_enrichment &lt;chr&gt; | contrast &lt;chr&gt; |\n",
       "|---|---|---|---|---|---|---|---|---|---|---|---|---|\n",
       "| GO:0002253 | GO:0002253 | activation of immune response                                      | 439 | 0.7211257 | 2.407223 | 1.237711e-50 | 9.000911e-49 | 5.095607e-49 | 2520 | tags=42%, list=13%, signal=37% | IGLL5/MS4A1/FCRL3/FPR2/CD79A/BLK/CD209/FCN1/CR1/FFAR2/CD3D/CCR7/BTNL3/TRAT1/CD3E/CLEC4C/FCGR2B/CD22/CD3G/UBASH3A/LCK/PVRIG/STAP1/CLEC10A/CR2/SH2D1A/PYHIN1/CD19/CTLA4/GPR33/GRAP2/HLA-DQA2/HLA-DQB2/LAX1/CD28/ITK/ZBP1/CD79B/GCSAM/FGR/CLEC4D/CD247/THEMIS/FCN3/SKAP1/MYO1G/SLA2/MNDA/ICAM3/ZAP70/FPR1/PAX5/PTPN22/FPR3/LCP2/C5AR1/BTNL8/NCR3/PTPRC/HCK/THEMIS2/C1QA/CR1L/C5AR2/WAS/CLEC4E/FCER1G/CLEC6A/HLA-DRA/VAV1/NFAM1/CD300A/C1QC/C1QB/C2/PTPN6/CFD/TXK/HLA-DQA1/BTK/VSIG4/HLA-DPB1/CD4/KLHL6/GATA3/FCGR2A/LILRB4/LILRA2/TESPA1/NCKAP1L/HLA-DPA1/FCGR3A/CFP/CD5L/HLA-DQB1/C3AR1/CEACAM1/CLEC4A/FCGR1A/IL1B/KCNN4/NLRC4/AIM2/CFB/HLA-DRB1/KLRK1/SYK/C6/CARD11/CD160/KRT1/PYCARD/LAT/C7/CMKLR1/LAT2/PSMB9/BMX/LYN/FOXP3/MUC12/BLNK/ARPC1B/PLCG2/MICB/CD226/TEC/C1S/RELB/PRAM1/MUC3A/LPXN/GBP1/INPP5D/NFKBIZ/C3/PSMB8/TLR4/PIK3CD/CARD9/C4BPB/ADA/HLA-A/PSMB10/CFH/PRKCD/NFKBID/A2M/C1R/ZC3H12A/PLSCR1/HLA-DRB5/WIPF1/IFI16/CFI/PRKCH/ICAM2/LGALS3/KLRC4-KLRK1/SERPING1/ICOSLG/RUNX1/BTN3A2/NR4A3/BTN2A2/VAV3/PSME2/C1RL/BTN3A3/CD38/ELF1/GCSAML/VTN/BAX/NFATC2/ARPC3/CSK/PSME1/ARPC5/RAB29/CD276/NFKB1/CD55/PRKCQ                                                                                                                                                                                                                                                                                                                                                                            | C1-Others |\n",
       "| GO:00022181 | GO:0002218 | activation of innate immune response                               | 140 | 0.6490351 | 2.029326 | 1.950551e-10 | 1.309370e-09 | 7.412619e-10 | 1825 | tags=26%, list=9%, signal=23%  | CD209/FCN1/FFAR2/CLEC4C/CLEC10A/PYHIN1/ZBP1/CLEC4D/MNDA/ICAM3/HCK/CLEC4E/FCER1G/CLEC6A/LILRA2/CLEC4A/NLRC4/AIM2/KLRK1/SYK/CARD11/PYCARD/PSMB9/LYN/MUC12/PLCG2/RELB/MUC3A/PSMB8/TLR4/CARD9/PSMB10/PRKCD/IFI16/ICAM2/KLRC4-KLRK1                                                                                                                                                                                                                                                                                                                                                                                                                                                                                                                                                                                                                                                                                                                                                                                                                                                                                                                                                                                                                                                                                                                                                                                                                                                                   | C1-Others |\n",
       "| GO:0002250 | GO:0002250 | adaptive immune response                                           | 407 | 0.8178651 | 2.728633 | 5.022614e-90 | 6.574601e-87 | 3.722021e-87 | 2005 | tags=59%, list=10%, signal=54% | JCHAIN/IGLL5/TNFRSF13B/CD79A/TNFRSF17/IL18RAP/CD209/CR1/CLEC4G/LILRB3/CD27/CXCL13/CD3D/SLAMF7/TRAT1/SLAMF6/CD3E/SIT1/LILRA6/CLEC4C/CCL19/FCGR2B/CCR6/CD3G/SLAMF1/LY9/LILRB5/IFNG/CLEC10A/CR2/PRF1/LILRB2/SH2D1A/IL7R/CD48/BATF/CD19/CTLA4/FCAMR/ARG1/CD8B/PDCD1/HLA-DQA2/CLC/HLA-DQB2/FCER2/LAX1/CCR2/IRF4/BTLA/HLA-DOB/CD28/ITK/CD6/CD79B/CLEC4D/CD247/THEMIS/CD1C/FCRL4/CD40LG/SKAP1/TLR8/CD7/IL10/GZMM/MYO1G/FUT7/SLA2/CD1A/ZAP70/GAPT/CD1B/EOMES/CD8A/BTNL8/CD1E/SLC11A1/CTSS/PTPRC/JAK3/C1QA/ZNF683/IL27/SASH3/CD244/SAMSN1/ADGRE1/TNFSF18/WAS/LILRB1/FCER1G/CLEC6A/HLA-DRA/AICDA/C1QC/C1QB/C2/PTPN6/LAMP3/TBX21/LAIR1/TXK/HLA-DQA1/TNFRSF14/BTK/CD74/HLA-DMB/GPR183/IL12RB1/CD80/HLA-DMA/MCOLN2/HLA-DPB1/CD4/LTA/KLHL6/CLEC4M/RIPK3/GATA3/CTSH/CD1D/LILRB4/PDCD1LG2/HLA-DOA/IL6/HLA-G/NLRP3/HLA-DPA1/LILRA1/TNFRSF1B/IL12B/HLA-DQB1/CEACAM1/CLEC4A/IL1B/ALOX15/HLA-F/CD84/FCGR1B/SIGLEC10/HLA-DRB1/ICAM1/KLRK1/SYK/C6/IL18R1/CD86/CD70/SPN/CD160/PYCARD/LAT/EBI3/TNFAIP3/C7/CD274/TNFSF13B/PIK3CG/BCL3/LAT2/HAVCR2/TNFRSF11A/BMX/IL2/LYN/TCIRG1/TNFSF13/FOXP3/IL4R/CTSC/IL23A/MICB/UNC93B1/SH2D1B/CD226/HLA-B/FGL2/PRDM1/IL18/TEC/C1S/LAG3/XCL1/RELB/B2M/UNC13D/INPP5D/POU2F2/NFKBIZ/HLA-E/IRF1/C3/IL1R1/TLR4/PIK3CD/IL1RL1/CLCF1/STAT6/C4BPB/ADA/IL31RA/CD40/IL4/NFKB2/NLRP10/HLA-A/RAB27A/HLX/PRKCD/CRACR2A/TGFB1/TNF/NFKBID/C1R/HLA-C/ZC3H12A/ANXA1/IL23R/TAP1/RSAD2/HLA-DRB5/IRF7/MR1/CFI/ERAP2/RNF125/CTSL/ORAI1/KLRC4-KLRK1/SERPING1/MICA/IL27RA/PTK2B/HFE/ICOSLG/IL33/MCOLN1/BTN3A2 | C1-Others |\n",
       "| GO:00197301 | GO:0019730 | antimicrobial humoral response                                     | 122 | 0.7499893 | 2.319230 | 6.549832e-18 | 6.750969e-17 | 3.821866e-17 | 2322 | tags=42%, list=12%, signal=37% | JCHAIN/BPIFA2/CCL13/BPIFB1/CTSG/CXCL9/CXCL10/CXCL13/S100A9/S100A8/PLA2G2A/S100A12/PPBP/LYZ/CXCL11/PGLYRP1/DEFA4/DEFA1/PF4/CAMP/SLC11A1/ELANE/DEFA3/PGLYRP4/GNLY/PF4V1/ITLN1/RNASE6/PI3/CXCL5/WFDC11/BCL3/LCN2/SPON2/RNASE3/LTF/CXCL8/CXCL1/HLA-E/SLPI/HLA-A/GALP/IL36RN/CXCL3/CXCL2/CXCL6/RARRES2/AZU1/CXCL14/PRTN3/BPI                                                                                                                                                                                                                                                                                                                                                                                                                                                                                                                                                                                                                                                                                                                                                                                                                                                                                                                                                                                                                                                                                                                                                                          | C1-Others |\n",
       "| GO:00301831 | GO:0030183 | B cell differentiation                                             | 135 | 0.7069255 | 2.201404 | 4.217107e-15 | 3.807030e-14 | 2.155240e-14 | 2283 | tags=39%, list=12%, signal=34% | MS4A1/FCRL3/ADGRG3/CD79A/CD27/POU2AF1/FCGR2B/IKZF3/CR2/CD19/CD79B/CD40LG/SLAMF8/IL10/PTPRC/JAK3/AICDA/NFAM1/PTPN6/BTK/GPR183/IL11/IL6/NCKAP1L/VCAM1/SYK/CARD11/BCL3/TCIRG1/BLNK/FLT3/PLCG2/ITGA4/LYL1/MFNG/CMTM7/INPP5D/POU2F2/NKX2-3/CLCF1/HHEX/ADA/IL4/MMP14/IL21/PTK2B/LGALS1/CDH17/KLF6/NTRK1/BAX/DOCK11                                                                                                                                                                                                                                                                                                                                                                                                                                                                                                                                                                                                                                                                                                                                                                                                                                                                                                                                                                                                                                                                                                                                                                                     | C1-Others |\n",
       "| GO:00329631 | GO:0032963 | collagen metabolic process                                         | 101 | 0.6653145 | 2.019185 | 7.256895e-09 | 4.397813e-08 | 2.489695e-08 | 3664 | tags=54%, list=19%, signal=44% | MMP27/MMP7/SERPINB7/ARG1/MMP25/MMP9/MMP13/CTSS/ADAMTS14/CIITA/IL6/MMP19/COL15A1/COL1A1/COL13A1/COL1A2/CTSB/CTSD/ENG/MMP8/FAP/MMP10/MMP12/TGFB1/RCN3/MMP11/MMP1/ARRB2/MMP14/PPARG/CTSL/MMP2/VIM/SERPINH1/EMILIN1/WNT4/MYB/PRTN3/P3H1/P3H3/FURIN/MRC2/KLK6/COL5A1/PLOD3/MFAP4/CTSK/ITGB1/MMP28/ADAMTS2/PDGFRB/TRAM2/RAP1A/ADAM15/F2R                                                                                                                                                                                                                                                                                                                                                                                                                                                                                                                                                                                                                                                                                                                                                                                                                                                                                                                                                                                                                                                                                                                                                               | C1-Others |\n",
       "| GO:00444091 | GO:0044409 | entry into host                                                    | 143 | 0.6669631 | 2.085294 | 8.934957e-12 | 6.533999e-11 | 3.699035e-11 | 3040 | tags=41%, list=16%, signal=35% | CD209/FCN1/CR1/CLEC4G/SLAMF1/CR2/SIGLEC1/FCN3/MRC1/CCR5/ANPEP/TNFRSF14/CD74/CD80/CD4/CLEC4M/ITGB7/LGALS9/VAMP8/HLA-DRB1/ICAM1/PTX3/CD86/SELPLG/GPR15/IFITM2/CXCR4/CXCL8/DPP4/SLC52A1/TRIM38/IFITM1/TRIM22/CTSB/TNFRSF4/CLEC5A/IFITM3/TRIM10/ITGA5/TRIM34/CTSL/HAVCR1/LGALS1/ITGB3/TRIM21/F11R/GSN/TRIM14/SLC1A5/FUCA2/CD55/GYPA/AXL/EPHA2/HYAL2/TMPRSS2/ITGB1/GAS6/TRIML2                                                                                                                                                                                                                                                                                                                                                                                                                                                                                                                                                                                                                                                                                                                                                                                                                                                                                                                                                                                                                                                                                                                        | C1-Others |\n",
       "| GO:0036230 | GO:0036230 | granulocyte activation                                             | 498 | 0.7366253 | 2.469606 | 6.546874e-66 | 1.841243e-63 | 1.042367e-63 | 2558 | tags=47%, list=13%, signal=42% | MCEMP1/PRG3/ADGRG3/FPR2/CXCR1/CEACAM3/IL18RAP/FCN1/CTSG/CR1/CXCR2/LILRB3/CD177/ORM1/CCL5/FCAR/S100P/ADGRE3/CLEC4C/FCGR3B/FCGR2B/S100A9/S100A8/PLA2G2A/HK3/S100A12/LRG1/PPBP/LILRB2/LYZ/TBC1D10C/CLEC12A/TCN1/CHI3L1/ARG1/SELL/P2RX1/PGLYRP1/CCR2/CD36/MMP25/DEFA4/DEFA1/FGR/CLEC4D/CAMP/ITGAX/MNDA/ADAM8/RETN/MMP9/FPR1/ARHGAP9/TTR/C5AR1/SLC11A1/SIGLEC5/ITGAL/CTSS/ORM2/PTPRC/CD14/ALOX5/EPX/CEACAM8/CCL3/DOK3/MGAM/CD53/ELANE/HBB/BIN2/VNN1/OSCAR/SERPINA1/ITGB2/GMFG/TYROBP/SIGLEC14/FCER1G/FOLR3/NFAM1/CD300A/PTPN6/CD68/ANPEP/LAIR1/CFD/CRISP3/TLR2/ABCA13/PLAUR/ITGAM/PLAC8/RAB44/CTSH/FCGR2A/SIRPB1/CYBB/DNASE1L3/RNASE2/STXBP2/LILRA2/DOCK2/VAMP8/SIGLEC9/NCKAP1L/TNFRSF1B/PTAFR/CFP/GPR84/C3AR1/CEACAM1/SYK/PTX3/CD33/TRPM2/CYBA/PRG2/KRT1/PYCARD/GLIPR1/HPSE/IL15/LCN2/TCIRG1/PLAU/BST2/CTSZ/CTSC/MME/RNASE3/CDA/SLC2A5/FTL/HLA-B/LTF/NPC2/CXCL8/ALDH3B1/FGL2/GRN/S100A11/CXCL1/CTSB/IL18/B2M/UNC13D/PRAM1/PIGR/ADGRE5/CTSD/CD93/C3/MMP8/PECAM1/SERPINB1/STK10/RNASET2/FUCA1/ATP8B4/GSDMD/OLR1/RHOG/SLPI/MAN2B1/CLEC5A/CNN2/SLCO4C1/RAB27A/PRKCD/CRACR2A/NBEAL2/HLA-C/MS4A3/OSTF1/B4GALT1/TNFAIP6/CTSA/CD58/PLEKHO2/ANXA3/CREG1/SERPINA3/BST1/LGALS3/AGPAT2/KCNAB2/AOC1/HEXB/GCA/MVP/TMC6/SLC2A3/BRI3/PYGL/COTL1/CHIT1/AMPD3/HSPA6/CD63/FTH1/HVCN1/PSAP/CHRNB4/ASAH1/CSTB/CXCL6/SNAP23/DNASE1L1/GSN/GAA/AZU1/RAB37/PRTN3/HP/SDCBP/GUSB/BPI/STOM/ARPC5/TICAM2/GLA/IQGAP2/ANXA2/NEU1/FUCA2/GM2A/NFKB1/CD55/PLD1/ARSA/RHOF/GNS/IQGAP1/IMPDH1                                             | C1-Others |\n",
       "| GO:0002768 | GO:0002768 | immune response-regulating cell surface receptor signaling pathway | 388 | 0.7259741 | 2.419790 | 1.431875e-46 | 7.208938e-45 | 4.081133e-45 | 2520 | tags=43%, list=13%, signal=38% | IGLL5/MS4A1/FCRL3/FPR2/CD79A/BLK/CD209/FCN1/CR1/FFAR2/CD3D/CCR7/BTNL3/TRAT1/CD3E/CLEC4C/FCGR2B/CD22/CD3G/UBASH3A/LCK/PVRIG/STAP1/CLEC10A/CR2/LILRB2/SH2D1A/CD19/CTLA4/GPR33/MS4A2/GRAP2/HLA-DQA2/HLA-DQB2/LAX1/BTLA/CD28/ITK/CD79B/GCSAM/FGR/CLEC4D/CD247/THEMIS/FCER1A/SKAP1/MYO1G/SLA2/MNDA/ICAM3/ZAP70/FPR1/PAX5/PTPN22/FPR3/LCP2/C5AR1/BTNL8/CD200R1/NCR3/PTPRC/HCK/THEMIS2/C5AR2/WAS/CLEC4E/LILRB1/FCER1G/CLEC6A/HLA-DRA/VAV1/NFAM1/CD300A/PTPN6/TXK/HLA-DQA1/BTK/HLA-DPB1/CD4/KLHL6/GATA3/FCGR2A/LILRB4/LILRA2/HLA-G/TESPA1/NCKAP1L/HLA-DPA1/FCGR3A/HLA-DQB1/C3AR1/CEACAM1/CLEC4A/FCGR1A/KCNN4/FCGR1B/HLA-DRB1/KLRK1/SYK/CARD11/CD160/LILRA4/LAT/CMKLR1/LAT2/CLEC12B/PSMB9/BMX/LYN/FOXP3/MUC12/BLNK/ARPC1B/PLCG2/MICB/CD226/TEC/RELB/PRAM1/MUC3A/LPXN/PIGR/GBP1/INPP5D/NFKBIZ/PSMB8/PIK3CD/CARD9/FOS/ADA/CD40/HLA-A/PSMB10/PRKCD/NFKBID/ZC3H12A/PLSCR1/HLA-DRB5/WIPF1/CD24/PRKCH/ICAM2/LGALS3/KLRC4-KLRK1/ICOSLG/RUNX1/BTN3A2/NR4A3/BTN2A2/KIR2DL1/VAV3/PSME2/SHC1/BTN3A3/CD38/ELF1/GCSAML/BAX/NFATC2/ARPC3/CSK/PSME1/ARPC5/RAB29/CD276/NFKB1/PRKCQ                                                                                                                                                                                                                                                                                                                                                                                                                                        | C1-Others |\n",
       "| GO:0002764 | GO:0002764 | immune response-regulating signaling pathway                       | 391 | 0.7269053 | 2.422028 | 8.368025e-47 | 4.564060e-45 | 2.583811e-45 | 2520 | tags=43%, list=13%, signal=38% | IGLL5/MS4A1/FCRL3/FPR2/CD79A/BLK/CD209/FCN1/CR1/FFAR2/CD3D/CCR7/BTNL3/TRAT1/CD3E/CLEC4C/FCGR2B/CD22/CD3G/UBASH3A/LCK/PVRIG/STAP1/CLEC10A/CR2/LILRB2/SH2D1A/CD19/CTLA4/GPR33/MS4A2/GRAP2/HLA-DQA2/HLA-DQB2/LAX1/BTLA/CD28/ITK/CD79B/GCSAM/FGR/CLEC4D/CD247/THEMIS/FCER1A/SKAP1/MYO1G/SLA2/MNDA/ICAM3/ZAP70/FPR1/PAX5/PTPN22/FPR3/LCP2/C5AR1/BTNL8/CD200R1/NCR3/PTPRC/HCK/THEMIS2/C5AR2/WAS/CLEC4E/LILRB1/FCER1G/CLEC6A/HLA-DRA/VAV1/NFAM1/CD300A/PTPN6/TXK/HLA-DQA1/BTK/HLA-DPB1/CD4/KLHL6/GATA3/CTSH/FCGR2A/LILRB4/LILRA2/HLA-G/TESPA1/NCKAP1L/HLA-DPA1/FCGR3A/HLA-DQB1/C3AR1/CEACAM1/CLEC4A/FCGR1A/KCNN4/FCGR1B/HLA-DRB1/KLRK1/SYK/CARD11/CD33/CD160/LILRA4/LAT/CMKLR1/LAT2/CLEC12B/PSMB9/BMX/LYN/FOXP3/MUC12/BLNK/ARPC1B/PLCG2/MICB/CD226/TEC/RELB/PRAM1/MUC3A/LPXN/PIGR/GBP1/INPP5D/NFKBIZ/PSMB8/PIK3CD/CARD9/FOS/ADA/CD40/HLA-A/PSMB10/PRKCD/NFKBID/ZC3H12A/PLSCR1/HLA-DRB5/WIPF1/CD24/PRKCH/ICAM2/LGALS3/KLRC4-KLRK1/ICOSLG/RUNX1/BTN3A2/NR4A3/BTN2A2/KIR2DL1/VAV3/PSME2/SHC1/BTN3A3/CD38/ELF1/GCSAML/BAX/NFATC2/ARPC3/CSK/PSME1/ARPC5/RAB29/CD276/NFKB1/PRKCQ                                                                                                                                                                                                                                                                                                                                                                                                                              | C1-Others |\n",
       "| GO:0050900 | GO:0050900 | leukocyte migration                                                | 441 | 0.7605584 | 2.539228 | 4.859083e-67 | 2.120180e-64 | 1.200279e-64 | 2281 | tags=51%, list=12%, signal=46% | CCL7/JCHAIN/CCL24/CCL13/FPR2/CXCR1/CEACAM3/CNR2/CXCR2/CXCL9/FFAR2/CXCL10/CD177/CXCL13/CCL5/CCR7/CCL19/CCR6/SIRPG/CXCR3/S100A9/S100A8/LCK/STAP1/CCL11/GPR18/S100A12/CD2/DOK2/PPBP/CD48/CXCL11/FCAMR/SELP/CSF3R/SELL/LBP/CCL17/NLRP12/CCL22/CCR2/RAC2/CCL23/TNFSF11/DEFA1/GCSAM/SELE/PF4/TREM1/CCL21/SLAMF8/CCL4/CCL8/IL10/ITGAX/MYO1G/FUT7/CCL18/CCR5/ADAM8/ZAP70/RHOH/LEP/VPREB3/XCL2/C5AR1/CD200R1/ITGAL/ALOX5/EPX/HCK/CEACAM8/TNFSF14/CCL3/CCL3L3/CCR1/ELANE/C5AR2/CD244/ADGRE2/TNFSF18/CH25H/ITGB2/FCER1G/GPSM3/VAV1/CD300A/PTPN6/TBX21/CCL14/TNFRSF14/CD74/GPR183/ITGAM/MCOLN2/HMOX1/ITGB7/RIPK3/GATA3/LGALS9/IL6/AIF1/PF4V1/NCKAP1L/VCAM1/PTAFR/CCL20/CXCL12/C3AR1/CEACAM1/SLC7A7/CORO1A/IL1B/THBD/CD84/ICAM1/KLRK1/SYK/PTGER4/TRPM2/SPN/MSMP/CXCL5/PYCARD/CCL26/SERPINE1/DYSF/SELPLG/CMKLR1/PIK3CG/CYP19A1/TNFRSF11A/CSF1R/GPR15/LYN/CXCR5/IL23A/TREM2/GYPB/TNFRSF18/ITGA4/DOCK8/COL1A1/CXCR4/SLC16A3/CXCL8/DPP4/CRTAM/COL1A2/CXCL1/CXCL16/IL16/IL6R/PLA2G7/DUSP1/XCL1/GCNT1/ITGA2B/INPP5D/LGMN/SDC1/IL1R1/PLVAP/MDK/CCL2/TNFRSF10A/PIK3CD/SAA1/NKX2-3/PECAM1/STK10/OLR1/RHOG/ADA/ADTRP/IL4/GYPC/TGFB1/TNF/TNFRSF10D/THBS1/ITGA5/MMP1/ANXA1/MMP14/B4GALT1/CD58/CSF1/CCL1/VEGFC/CXCL3/CX3CR1/BST1/LGALS3/BDKRB1/MPP1/KLRC4-KLRK1/FN1/IL27RA/SLC7A8/TMEM102/IL17RA/CXCL2/PTK2B/IL33/MERTK/ITGB3/EMILIN1/PDGFB/MYH9/SLC8B1/APOD/VAV3/CCL28/CCL16/CXCL6/SHC1/RARRES2/F11R/ECM1/GCSAML/AZU1/CXCL14/SCG2/PRTN3                                                                                   | C1-Others |\n",
       "| GO:00521261 | GO:0052126 | movement in host environment                                       | 165 | 0.6417577 | 2.037329 | 1.602655e-11 | 1.152679e-10 | 6.525559e-11 | 3040 | tags=36%, list=16%, signal=31% | CD209/FCN1/CR1/CLEC4G/SLAMF1/CR2/SIGLEC1/FCN3/MRC1/CCR5/ANPEP/TNFRSF14/CD74/CD80/CD4/CLEC4M/ITGB7/LGALS9/VAMP8/HLA-DRB1/ICAM1/PTX3/CD86/SELPLG/GPR15/IFITM2/CXCR4/CXCL8/DPP4/SLC52A1/TRIM38/IFITM1/TRIM22/CTSB/TNFRSF4/CLEC5A/IFITM3/TRIM10/ITGA5/TRIM34/CTSL/HAVCR1/LGALS1/ITGB3/TRIM21/F11R/GSN/TRIM14/PML/SLC1A5/FUCA2/CD55/GYPA/AXL/EPHA2/HYAL2/TMPRSS2/ITGB1/GAS6/TRIML2                                                                                                                                                                                                                                                                                                                                                                                                                                                                                                                                                                                                                                                                                                                                                                                                                                                                                                                                                                                                                                                                                                                    | C1-Others |\n",
       "| GO:0030099 | GO:0030099 | myeloid cell differentiation                                       | 390 | 0.6134179 | 2.043338 | 5.998401e-21 | 7.338231e-20 | 4.154328e-20 | 3092 | tags=38%, list=16%, signal=32% | UBD/LILRB3/CCR7/CCL19/IFNG/BATF/GP1BA/CSF3R/IRF4/GPR171/TNFSF11/PF4/NFE2/SIGLEC15/MMP9/JAK3/RASGRP4/SPI1/CCL3/CCR1/CLEC1B/OSCAR/EVI2B/LILRB1/TYROBP/FCER1G/C1QC/PTPN6/CSF3/CD74/TLR2/GATA1/GPR183/HCLS1/CD4/GATA3/IKZF1/LILRB4/IL11/NCKAP1L/IL12B/SLC4A1/CEBPE/CEACAM1/ALAS2/IRF8/HLA-DRB1/MAFB/POU4F2/GPR55/TNFRSF11A/IL15/CSF1R/LYN/TCIRG1/NRROS/IL23A/TREM2/CEBPB/MYL9/LTF/FES/FLI1/ZFP36/AHSP/RELB/B2M/ITGA2B/CASP8/INPP5D/CEBPA/CSF2/TLR4/PIK3CD/NKX2-3/KLF2/SCIN/EPB42/DCSTAMP/TGFBR2/FOS/IL31RA/CLEC5A/IL4/GAB3/JUNB/TRIM10/TGFB1/TNF/THBS1/NBEAL2/BATF3/SH2B3/LIF/BATF2/IL23R/PPARG/IRF7/IFI16/CSF1/LGALS3/LRRK1/LTBR/ISG15/TRIM58/HOXB7/CDKN2B/PTK2B/ADIPOQ/CARTPT/RUNX1/SBNO2/MYH9/CIB1/NR4A3/NFKBIA/TLR3/LEF1/ACTN1/RAB7B/ETS1/TRIB1/PRTN3/DNASE2/FSTL3/PML/ANXA2/MITF/PRKCQ/ZNF385A/OSTM1/STAT1/FAM20C/PTPN2/G6PD/EPHA2/FBN1/SNX10/TESC/DYRK3/LOX/IL34/ZFP36L1/PDE1B/ESRRA/MEF2C/CA2                                                                                                                                                                                                                                                                                                                                                                                                                                                                                                                                                                                                 | C1-Others |\n",
       "| GO:00071621 | GO:0007162 | negative regulation of cell adhesion                               | 270 | 0.6341202 | 2.078263 | 1.932201e-17 | 1.960659e-16 | 1.109971e-16 | 2428 | tags=37%, list=12%, signal=33% | PLA2G2D/CLEC4G/IL2RA/FCGR2B/LILRB2/CTLA4/ARG1/GPNMB/ADAMDEC1/LAX1/CCL21/TIGIT/IL10/IL1RN/IDO1/PTPN22/PTPRC/MYOC/JAK3/LILRB1/CD300A/PTPN6/TBX21/TNFRSF14/CD74/VSIG4/CD80/RUNX3/TNFAIP8L2/PDCD1LG2/LGALS9/HLA-G/IFNL1/ARHGDIB/CXCL12/CEACAM1/LGALS9C/ALOX12/HLA-DRB1/CD86/SPN/TGFBI/SERPINE1/CD274/HAVCR2/IL2/FXYD5/FOXP3/IL4R/SOCS1/CEBPB/CYP1B1/POSTN/COL1A1/CDKN2A/FGL2/CRTAM/DUSP1/LAG3/XCL1/TACSTD2/LPXN/GBP1/IRF1/MDK/MMP12/ADTRP/CLDN7/SIPA1/IL4/HLX/PRKCD/TGFB1/NFKBID/THBS1/AKNA/ZC3H12A/PLXND1/SH2B3/ANXA1/MMP14/C1QTNF1/LRRC32/LGALS3/LGALS9B/HFE/ADIPOQ/LGALS1/RUNX1/BTN2A2/APOD/CCL28/SHH/TNC/ASS1/SNAI2/ZBTB7B/TNFSF4/ACVRL1/TRPV4/KLF4                                                                                                                                                                                                                                                                                                                                                                                                                                                                                                                                                                                                                                                                                                                                                                                                                                              | C1-Others |\n",
       "| GO:00224081 | GO:0022408 | negative regulation of cell-cell adhesion                          | 174 | 0.7074021 | 2.252566 | 5.435344e-19 | 5.880054e-18 | 3.328823e-18 | 2491 | tags=44%, list=13%, signal=39% | PLA2G2D/CLEC4G/IL2RA/FCGR2B/LILRB2/CTLA4/ARG1/GPNMB/LAX1/CCL21/TIGIT/IL10/IL1RN/IDO1/PTPN22/JAK3/LILRB1/CD300A/PTPN6/TBX21/TNFRSF14/CD74/VSIG4/CD80/RUNX3/TNFAIP8L2/PDCD1LG2/LGALS9/HLA-G/IFNL1/CXCL12/CEACAM1/LGALS9C/ALOX12/HLA-DRB1/CD86/SPN/CD274/HAVCR2/IL2/FXYD5/FOXP3/IL4R/SOCS1/CEBPB/FGL2/CRTAM/LAG3/XCL1/IRF1/MDK/ADTRP/IL4/HLX/PRKCD/TGFB1/NFKBID/AKNA/ZC3H12A/SH2B3/ANXA1/C1QTNF1/LRRC32/LGALS3/LGALS9B/HFE/ADIPOQ/RUNX1/BTN2A2/CCL28/SHH/ASS1/ZBTB7B/TNFSF4/TRPV4/KLF4/PLA2G2F                                                                                                                                                                                                                                                                                                                                                                                                                                                                                                                                                                                                                                                                                                                                                                                                                                                                                                                                                                                                      | C1-Others |\n",
       "| GO:19037071 | GO:1903707 | negative regulation of hemopoiesis                                 | 137 | 0.6661614 | 2.075494 | 1.163356e-11 | 8.413440e-11 | 4.763027e-11 | 2372 | tags=37%, list=12%, signal=33% | LILRB3/FCGR2B/CTLA4/PGLYRP1/GPR171/PF4/JAK3/CCL3/LILRB1/C1QC/TBX21/CD74/RUNX3/LILRB4/HLA-G/IFNL1/CEACAM1/MAFB/GPR55/IL2/LYN/FOXP3/IL4R/SOCS1/LTF/FGL2/ZFP36/LAG3/INPP5D/IRF1/MDK/TLR4/IL4/HLX/NFKBID/ZC3H12A/ANXA1/TMEM176B/PTK2B/ADIPOQ/CARTPT/RUNX1/CIB1/NFKBIA/TLR3/SHH/TMEM176A/TRIB1/ZBTB7B/TNFSF4/FSTL3                                                                                                                                                                                                                                                                                                                                                                                                                                                                                                                                                                                                                                                                                                                                                                                                                                                                                                                                                                                                                                                                                                                                                                                    | C1-Others |\n",
       "| GO:0002683 | GO:0002683 | negative regulation of immune system process                       | 417 | 0.7338233 | 2.450640 | 1.219643e-53 | 1.140367e-51 | 6.455857e-52 | 2322 | tags=45%, list=12%, signal=41% | TNFRSF13B/FCRL3/BLK/CNR2/PLA2G2D/CR1/CLEC4G/CXCR2/LILRB3/CST7/NLRP6/IL2RA/FCGR2B/CD22/UBASH3A/PVRIG/STAP1/GPR18/LILRB2/SH2D1A/IL7R/TBC1D10C/CTLA4/ARG1/PDCD1/GPNMB/PGLYRP1/LAX1/CCR2/HLA-DOB/GPR171/GCSAM/FGR/CD96/PF4/CCL21/TIGIT/SLAMF8/IL10/SLA2/MNDA/IDO1/PTPN22/CD200R1/CD300LF/PTPRC/CLNK/JAK3/BANK1/CCL3/C5AR2/SAMSN1/LILRB1/TYROBP/FCER1G/CD300A/C1QC/KIR2DL4/PTPN6/TBX21/CD68/TNFRSF14/BTK/CD74/VSIG4/CD80/RUNX3/HMOX1/TSPAN32/TNFAIP8L2/LILRB4/PDCD1LG2/LGALS9/HLA-DOA/HLA-G/IFNL1/LST1/IL12B/CXCL12/CEACAM1/NLRC3/LGALS9C/ALOX15/HLA-F/CD84/HLA-DRB1/KLRK1/MAFB/PTGER4/CD86/SPN/CD160/MILR1/GPR55/TNFAIP3/CD274/CYP19A1/HAVCR2/CLEC12B/IL2/LYN/FOXP3/IL4R/BST2/SOCS1/CEBPB/MICB/HLA-B/LTF/FGL2/GRN/DPP4/CRTAM/TRIM38/ZFP36/DUSP1/LAG3/XCL1/NLRC5/IRAK3/LPXN/GBP1/INPP5D/HLA-E/IRF1/MDK/TLR4/CCL2/IL1RL1/MMP12/STAT6/C4BPB/COL3A1/ADA/ADTRP/IL31RA/IL4/HLA-A/NR1H3/HLX/GPX1/TGFB1/GAL/NMI/TNF/NFKBID/THBS1/A2M/ZC3H12A/ARRB2/ANXA1/PPARG/SERPINB9/IFI16/TMEM176B/LRRC32/RNF125/TAPBPL/LGALS3/KLRC4-KLRK1/SERPING1/LGALS9B/MICA/IL27RA/PTK2B/HFE/ADIPOQ/CARTPT/IL33/MERTK/RUNX1/EMILIN1/PARP14/CIB1/BTN2A2/NFKBIA/TLR3/APOD/CCL28/SHH/DHX58/TMEM176A/ELF1/TRIB1/ZBTB7B/TNFSF4/TSC22D3/BPI                                                                                                                                                                                                                                                                                               | C1-Others |\n",
       "| GO:00507281 | GO:0050728 | negative regulation of inflammatory response                       | 137 | 0.6687641 | 2.083603 | 6.317397e-12 | 4.752570e-11 | 2.690531e-11 | 2943 | tags=51%, list=15%, signal=44% | FPR2/CNR2/IL1R2/CST7/NLRP6/IL2RA/FCGR2B/MEFV/NLRP12/PGLYRP1/SLAMF8/IL10/NLRP7/CD200R1/PTPRC/ALOX5/GPR31/ELANE/ACP5/AOAH/GATA3/TNFAIP8L2/NLRP3/TNFRSF1B/IL12B/NLRC3/SIGLEC10/HLA-DRB1/PTGER4/KRT1/PYCARD/TNFAIP3/CYP19A1/IL2/FOXP3/HGF/GRN/FFAR4/SERPINF1/GHRL/MDK/SOCS3/SAA1/ADA/IL22RA2/IL4/NR1H3/PRKCD/GPX1/IGF1/ZC3H12A/APOE/TNFAIP6/PPARG/METRNL/ADIPOQ/TNFRSF1A/APOD/ADCY7/ETS1/CDH5/GBA/KLF4/NFKB1/PTPN2/ABCD1/ADORA2A/PTGIS/FOXF1/NT5E                                                                                                                                                                                                                                                                                                                                                                                                                                                                                                                                                                                                                                                                                                                                                                                                                                                                                                                                                                                                                                                    | C1-Others |\n",
       "| GO:19030381 | GO:1903038 | negative regulation of leukocyte cell-cell adhesion                | 121 | 0.7794667 | 2.408863 | 8.836607e-22 | 1.112223e-20 | 6.296529e-21 | 2261 | tags=54%, list=12%, signal=48% | PLA2G2D/CLEC4G/IL2RA/FCGR2B/LILRB2/CTLA4/ARG1/GPNMB/LAX1/CCL21/TIGIT/IL10/IDO1/PTPN22/JAK3/LILRB1/CD300A/PTPN6/TBX21/TNFRSF14/CD74/VSIG4/CD80/RUNX3/TNFAIP8L2/PDCD1LG2/LGALS9/HLA-G/IFNL1/CXCL12/CEACAM1/LGALS9C/HLA-DRB1/CD86/SPN/CD274/HAVCR2/IL2/FOXP3/IL4R/SOCS1/CEBPB/FGL2/CRTAM/LAG3/XCL1/IRF1/MDK/ADTRP/IL4/HLX/NFKBID/ZC3H12A/ANXA1/LRRC32/LGALS3/LGALS9B/HFE/RUNX1/BTN2A2/CCL28/SHH/ASS1/ZBTB7B/TNFSF4                                                                                                                                                                                                                                                                                                                                                                                                                                                                                                                                                                                                                                                                                                                                                                                                                                                                                                                                                                                                                                                                                  | C1-Others |\n",
       "| GO:19021061 | GO:1902106 | negative regulation of leukocyte differentiation                   | 100 | 0.7137981 | 2.163354 | 7.460684e-12 | 5.548884e-11 | 3.141341e-11 | 2372 | tags=45%, list=12%, signal=40% | LILRB3/FCGR2B/CTLA4/PGLYRP1/JAK3/CCL3/LILRB1/C1QC/TBX21/CD74/RUNX3/LILRB4/HLA-G/IFNL1/CEACAM1/MAFB/GPR55/IL2/LYN/FOXP3/IL4R/SOCS1/LTF/FGL2/LAG3/INPP5D/IRF1/MDK/TLR4/IL4/HLX/NFKBID/ZC3H12A/ANXA1/TMEM176B/ADIPOQ/CARTPT/RUNX1/TLR3/SHH/TMEM176A/TRIB1/ZBTB7B/TNFSF4/FSTL3                                                                                                                                                                                                                                                                                                                                                                                                                                                                                                                                                                                                                                                                                                                                                                                                                                                                                                                                                                                                                                                                                                                                                                                                                       | C1-Others |\n",
       "| GO:0042119 | GO:0042119 | neutrophil activation                                              | 492 | 0.7382936 | 2.473990 | 1.443631e-64 | 3.149523e-62 | 1.783012e-62 | 2558 | tags=48%, list=13%, signal=42% | MCEMP1/PRG3/ADGRG3/FPR2/CXCR1/CEACAM3/IL18RAP/FCN1/CTSG/CR1/CXCR2/LILRB3/CD177/ORM1/CCL5/FCAR/S100P/ADGRE3/CLEC4C/FCGR3B/FCGR2B/S100A9/S100A8/PLA2G2A/HK3/S100A12/LRG1/PPBP/LILRB2/LYZ/TBC1D10C/CLEC12A/TCN1/CHI3L1/ARG1/SELL/P2RX1/PGLYRP1/CD36/MMP25/DEFA4/DEFA1/FGR/CLEC4D/CAMP/ITGAX/MNDA/ADAM8/RETN/MMP9/FPR1/ARHGAP9/TTR/C5AR1/SLC11A1/SIGLEC5/ITGAL/CTSS/ORM2/PTPRC/CD14/ALOX5/EPX/CEACAM8/DOK3/MGAM/CD53/ELANE/HBB/BIN2/VNN1/OSCAR/SERPINA1/ITGB2/GMFG/TYROBP/SIGLEC14/FCER1G/FOLR3/NFAM1/CD300A/PTPN6/CD68/ANPEP/LAIR1/CFD/CRISP3/TLR2/ABCA13/PLAUR/ITGAM/PLAC8/RAB44/CTSH/FCGR2A/SIRPB1/CYBB/DNASE1L3/RNASE2/STXBP2/LILRA2/DOCK2/VAMP8/SIGLEC9/NCKAP1L/TNFRSF1B/PTAFR/CFP/GPR84/C3AR1/CEACAM1/SYK/PTX3/CD33/TRPM2/CYBA/PRG2/KRT1/PYCARD/GLIPR1/HPSE/IL15/LCN2/TCIRG1/PLAU/BST2/CTSZ/CTSC/MME/RNASE3/CDA/SLC2A5/FTL/HLA-B/LTF/NPC2/CXCL8/ALDH3B1/FGL2/GRN/S100A11/CXCL1/CTSB/IL18/B2M/UNC13D/PRAM1/PIGR/ADGRE5/CTSD/CD93/C3/MMP8/PECAM1/SERPINB1/STK10/RNASET2/FUCA1/ATP8B4/GSDMD/OLR1/RHOG/SLPI/MAN2B1/CLEC5A/CNN2/SLCO4C1/RAB27A/PRKCD/CRACR2A/NBEAL2/HLA-C/MS4A3/OSTF1/B4GALT1/TNFAIP6/CTSA/CD58/PLEKHO2/ANXA3/CREG1/SERPINA3/BST1/LGALS3/AGPAT2/KCNAB2/AOC1/HEXB/GCA/MVP/TMC6/SLC2A3/BRI3/PYGL/COTL1/CHIT1/AMPD3/HSPA6/CD63/FTH1/HVCN1/PSAP/CHRNB4/ASAH1/CSTB/CXCL6/SNAP23/DNASE1L1/GSN/GAA/AZU1/RAB37/PRTN3/HP/SDCBP/GUSB/BPI/STOM/ARPC5/TICAM2/GLA/IQGAP2/ANXA2/NEU1/FUCA2/GM2A/NFKB1/CD55/PLD1/ARSA/RHOF/GNS/IQGAP1/IMPDH1                                                       | C1-Others |\n",
       "| GO:0002283 | GO:0002283 | neutrophil activation involved in immune response                  | 481 | 0.7346068 | 2.458720 | 2.015063e-61 | 3.297146e-59 | 1.866584e-59 | 2558 | tags=47%, list=13%, signal=42% | MCEMP1/PRG3/ADGRG3/FPR2/CXCR1/CEACAM3/FCN1/CTSG/CR1/CXCR2/LILRB3/CD177/ORM1/FCAR/S100P/ADGRE3/CLEC4C/FCGR3B/S100A9/S100A8/HK3/S100A12/LRG1/PPBP/LILRB2/LYZ/TBC1D10C/CLEC12A/TCN1/CHI3L1/ARG1/SELL/P2RX1/PGLYRP1/CD36/MMP25/DEFA4/DEFA1/FGR/CLEC4D/CAMP/ITGAX/MNDA/ADAM8/RETN/MMP9/FPR1/ARHGAP9/TTR/C5AR1/SLC11A1/SIGLEC5/ITGAL/CTSS/ORM2/PTPRC/CD14/ALOX5/EPX/CEACAM8/DOK3/MGAM/CD53/ELANE/HBB/BIN2/VNN1/OSCAR/SERPINA1/ITGB2/GMFG/TYROBP/SIGLEC14/FCER1G/FOLR3/NFAM1/CD300A/PTPN6/CD68/ANPEP/LAIR1/CFD/CRISP3/TLR2/ABCA13/PLAUR/ITGAM/PLAC8/RAB44/CTSH/FCGR2A/SIRPB1/CYBB/DNASE1L3/RNASE2/STXBP2/LILRA2/DOCK2/VAMP8/SIGLEC9/NCKAP1L/TNFRSF1B/PTAFR/CFP/GPR84/C3AR1/CEACAM1/SYK/PTX3/CD33/TRPM2/CYBA/PRG2/KRT1/PYCARD/GLIPR1/HPSE/LCN2/TCIRG1/PLAU/BST2/CTSZ/CTSC/MME/RNASE3/CDA/SLC2A5/FTL/HLA-B/LTF/NPC2/ALDH3B1/FGL2/GRN/S100A11/CXCL1/CTSB/B2M/UNC13D/PRAM1/PIGR/ADGRE5/CTSD/CD93/C3/MMP8/PECAM1/SERPINB1/STK10/RNASET2/FUCA1/ATP8B4/GSDMD/OLR1/RHOG/SLPI/MAN2B1/CLEC5A/CNN2/SLCO4C1/RAB27A/PRKCD/CRACR2A/NBEAL2/HLA-C/MS4A3/OSTF1/B4GALT1/TNFAIP6/CTSA/CD58/PLEKHO2/ANXA3/CREG1/SERPINA3/BST1/LGALS3/AGPAT2/KCNAB2/AOC1/HEXB/GCA/MVP/TMC6/SLC2A3/BRI3/PYGL/COTL1/CHIT1/AMPD3/HSPA6/CD63/FTH1/HVCN1/PSAP/CHRNB4/ASAH1/CSTB/SNAP23/DNASE1L1/GSN/GAA/AZU1/RAB37/PRTN3/HP/SDCBP/GUSB/BPI/STOM/ARPC5/TICAM2/GLA/IQGAP2/ANXA2/NEU1/FUCA2/GM2A/NFKB1/CD55/PLD1/ARSA/RHOF/GNS/IQGAP1/IMPDH1                                                                                                         | C1-Others |\n",
       "| GO:0043312 | GO:0043312 | neutrophil degranulation                                           | 478 | 0.7343398 | 2.459058 | 2.473838e-61 | 3.598060e-59 | 2.036938e-59 | 2558 | tags=47%, list=13%, signal=42% | MCEMP1/PRG3/ADGRG3/FPR2/CXCR1/CEACAM3/FCN1/CTSG/CR1/CXCR2/LILRB3/CD177/ORM1/FCAR/S100P/ADGRE3/CLEC4C/FCGR3B/S100A9/S100A8/HK3/S100A12/LRG1/PPBP/LILRB2/LYZ/TBC1D10C/CLEC12A/TCN1/CHI3L1/ARG1/SELL/P2RX1/PGLYRP1/CD36/MMP25/DEFA4/DEFA1/FGR/CLEC4D/CAMP/ITGAX/MNDA/ADAM8/RETN/MMP9/FPR1/ARHGAP9/TTR/C5AR1/SLC11A1/SIGLEC5/ITGAL/CTSS/ORM2/PTPRC/CD14/ALOX5/EPX/CEACAM8/DOK3/MGAM/CD53/ELANE/HBB/BIN2/VNN1/OSCAR/SERPINA1/ITGB2/GMFG/TYROBP/SIGLEC14/FCER1G/FOLR3/NFAM1/CD300A/PTPN6/CD68/ANPEP/LAIR1/CFD/CRISP3/TLR2/ABCA13/PLAUR/ITGAM/PLAC8/RAB44/CTSH/FCGR2A/SIRPB1/CYBB/RNASE2/STXBP2/DOCK2/VAMP8/SIGLEC9/NCKAP1L/TNFRSF1B/PTAFR/CFP/GPR84/C3AR1/CEACAM1/SYK/PTX3/CD33/TRPM2/CYBA/PRG2/KRT1/PYCARD/GLIPR1/HPSE/LCN2/TCIRG1/PLAU/BST2/CTSZ/CTSC/MME/RNASE3/CDA/SLC2A5/FTL/HLA-B/LTF/NPC2/ALDH3B1/FGL2/GRN/S100A11/CXCL1/CTSB/B2M/UNC13D/PRAM1/PIGR/ADGRE5/CTSD/CD93/C3/MMP8/PECAM1/SERPINB1/STK10/RNASET2/FUCA1/ATP8B4/GSDMD/OLR1/RHOG/SLPI/MAN2B1/CLEC5A/CNN2/SLCO4C1/RAB27A/PRKCD/CRACR2A/NBEAL2/HLA-C/MS4A3/OSTF1/B4GALT1/TNFAIP6/CTSA/CD58/PLEKHO2/ANXA3/CREG1/SERPINA3/BST1/LGALS3/AGPAT2/KCNAB2/AOC1/HEXB/GCA/MVP/TMC6/SLC2A3/BRI3/PYGL/COTL1/CHIT1/AMPD3/HSPA6/CD63/FTH1/HVCN1/PSAP/CHRNB4/ASAH1/CSTB/SNAP23/DNASE1L1/GSN/GAA/AZU1/RAB37/PRTN3/HP/SDCBP/GUSB/BPI/STOM/ARPC5/TICAM2/GLA/IQGAP2/ANXA2/NEU1/FUCA2/GM2A/NFKB1/CD55/PLD1/ARSA/RHOF/GNS/IQGAP1/IMPDH1                                                                                                                         | C1-Others |\n",
       "| GO:0002446 | GO:0002446 | neutrophil mediated immunity                                       | 492 | 0.7285731 | 2.441417 | 2.834453e-60 | 3.710299e-58 | 2.100479e-58 | 2558 | tags=46%, list=13%, signal=41% | MCEMP1/PRG3/ADGRG3/FPR2/CXCR1/CEACAM3/FCN1/CTSG/CR1/CXCR2/LILRB3/CD177/ORM1/FCAR/S100P/ADGRE3/CLEC4C/FCGR3B/S100A9/S100A8/HK3/S100A12/LRG1/PPBP/LILRB2/LYZ/TBC1D10C/CLEC12A/TCN1/CHI3L1/ARG1/SELL/P2RX1/PGLYRP1/CD36/MMP25/DEFA4/DEFA1/FGR/CLEC4D/CAMP/ITGAX/MNDA/ADAM8/RETN/MMP9/FPR1/ARHGAP9/TTR/C5AR1/SLC11A1/SIGLEC5/ITGAL/CTSS/ORM2/PTPRC/CD14/ALOX5/EPX/CEACAM8/DOK3/MGAM/CD53/ELANE/HBB/BIN2/VNN1/OSCAR/SERPINA1/ITGB2/GMFG/TYROBP/SIGLEC14/FCER1G/FOLR3/NFAM1/CD300A/PTPN6/CD68/ANPEP/LAIR1/CFD/CRISP3/TLR2/ABCA13/PLAUR/ITGAM/PLAC8/RAB44/CTSH/FCGR2A/SIRPB1/CYBB/DNASE1L3/RNASE2/IL6/STXBP2/DOCK2/VAMP8/SIGLEC9/NCKAP1L/TNFRSF1B/PTAFR/CFP/GPR84/C3AR1/CEACAM1/SYK/PTX3/CD33/TRPM2/CYBA/PRG2/KRT1/PYCARD/GLIPR1/HPSE/LCN2/TCIRG1/PLAU/BST2/CTSZ/CTSC/MME/RNASE3/CDA/SLC2A5/FTL/HLA-B/LTF/NPC2/ALDH3B1/FGL2/GRN/S100A11/CXCL1/CTSB/B2M/UNC13D/PRAM1/PIGR/ADGRE5/CTSD/CD93/C3/MMP8/PECAM1/SERPINB1/STK10/RNASET2/FUCA1/ATP8B4/GSDMD/OLR1/RHOG/SLPI/MAN2B1/CLEC5A/CNN2/SLCO4C1/RAB27A/PRKCD/CRACR2A/NBEAL2/HLA-C/MS4A3/OSTF1/B4GALT1/TNFAIP6/CTSA/CD58/PLEKHO2/ANXA3/CREG1/SERPINA3/BST1/LGALS3/AGPAT2/KCNAB2/AOC1/HEXB/GCA/MVP/TMC6/SLC2A3/BRI3/PYGL/COTL1/CHIT1/AMPD3/HSPA6/CD63/FTH1/HVCN1/PSAP/CHRNB4/ASAH1/CSTB/CXCL6/SNAP23/DNASE1L1/GSN/GAA/AZU1/RAB37/PRTN3/HP/SDCBP/GUSB/BPI/STOM/ARPC5/TICAM2/GLA/IQGAP2/ANXA2/NEU1/FUCA2/GM2A/NFKB1/CD55/PLD1/ARSA/RHOF/GNS/IQGAP1/IMPDH1                                                                                                      | C1-Others |\n",
       "| GO:00301681 | GO:0030168 | platelet activation                                                | 157 | 0.6404396 | 2.023161 | 4.076733e-11 | 2.823515e-10 | 1.598452e-10 | 3242 | tags=51%, list=17%, signal=43% | BLK/LCK/GP1BA/SELP/P2RX1/COMP/PF4/CD40LG/PLEK/GP9/LCP2/HBB/FERMT3/CLEC1B/FCER1G/PIK3R5/VAV1/PTPN6/TXK/GATA1/TSPAN32/TREML1/IL6/PF4V1/CEACAM1/THBD/GNA15/ALOX12/SYK/PIK3CG/LYN/PLCG2/COL1A1/MYL9/COL1A2/PIK3R6/TEC/ITGA2B/TLR4/SAA1/COL3A1/CD40/PRKCD/ARRB2/SH2B3/APOE/GNA14/C1QTNF1/PLSCR1/CLIC1/PRKCH/MYL12A/FN1/NOS3/MERTK/ITGB3/PDGFB/MYH9/VAV3/DGKA/VWF/F11R/ITPR3/ADRA2A/P2RY12/F2RL3/PRKCQ/ACTB/RAP2B/FLNA/AXL/HSPB1/PDPN/PLA2G4A/F2RL2/TLN1/VCL/TRPC6/F8/UBASH3B                                                                                                                                                                                                                                                                                                                                                                                                                                                                                                                                                                                                                                                                                                                                                                                                                                                                                                                                                                                                                          | C1-Others |\n",
       "| GO:00457661 | GO:0045766 | positive regulation of angiogenesis                                | 164 | 0.6555636 | 2.076995 | 1.113472e-12 | 8.780328e-12 | 4.970730e-12 | 3504 | tags=51%, list=18%, signal=42% | CCL24/CXCR2/CMA1/CCL11/LRG1/CHI3L1/IL10/ITGAX/C5AR1/CCR3/ITGB2/HMOX1/CTSH/CYBB/C3AR1/IL1B/EPHA1/C6/SERPINE1/CYP1B1/CELA1/TMIGD2/HGF/CXCR4/CXCL8/GRN/GHRL/PIK3R6/ADM2/C3/ENG/MDK/ADAM12/TGFBR2/SRPX2/CD40/RRAS/THBS1/ITGA5/ZC3H12A/PTGS2/ANXA1/IL1A/SFRP2/ANXA3/VEGFC/CX3CR1/FOXC2/NRP1/SPHK1/PTK2B/NOS3/ADM/RUNX1/TNFSF12/TBXA2R/CIB1/TLR3/ECM1/ETS1/CDH5/BTG1/ACVRL1/TWIST1/KLF4/SMOC2/CD34/RHOJ/HSPB6/HSPB1/MYDGF/PTGIS/APLNR/XBP1/ITGB1/ANGPTL4/RAMP2/GATA6/HDAC7/PRKD2/PLK2/RLN2/MAP3K3                                                                                                                                                                                                                                                                                                                                                                                                                                                                                                                                                                                                                                                                                                                                                                                                                                                                                                                                                                                                      | C1-Others |\n",
       "| GO:0050867 | GO:0050867 | positive regulation of cell activation                             | 328 | 0.7692629 | 2.547824 | 1.435918e-54 | 1.445859e-52 | 8.185315e-53 | 2277 | tags=54%, list=12%, signal=49% | IGLL5/FCRL3/CD209/LILRA5/CD27/CD177/CCL5/CCR7/ICOS/CD3E/IL2RA/CCL19/SIRPG/LCK/STAP1/CD2/IFNG/LILRB2/IL7R/CTLA4/SELP/CD5/PDCD1/LBP/GRAP2/CCR2/BTLA/CD28/TNFSF11/CD6/FGR/CLEC4D/CCL21/CD40LG/PLEK/IL10/ADAM8/ZAP70/RHOH/LEP/PTPN22/PTPRC/TNFSF14/JAK3/CCL3/SASH3/VNN1/ITGB2/LILRB1/TYROBP/FCER1G/VAV1/CLECL1/PTPN6/TBX21/TNFRSF14/BTK/CD74/HLA-DMB/GPR183/CLEC7A/IL12RB1/ITGAM/CD80/RUNX3/HLA-DPB1/CD4/NOD2/CRLF2/GATA3/CD1D/SIRPB1/LILRB4/PDCD1LG2/LGALS9/RASAL3/IL6/LILRA2/VAMP8/AIF1/HLA-G/TESPA1/NLRP3/NCKAP1L/HLA-DPA1/VCAM1/PTAFR/IL12B/CORO1A/IL1B/HLA-F/KLRK1/SYK/CARD11/CD86/CD70/CD160/PYCARD/EBI3/CD274/TNFSF13B/HAVCR2/MAP3K8/IL15/IL2/LYN/TNFSF13/FOXP3/IL4R/CCDC88B/CTSC/IL23A/SOCS1/TREM2/DOCK8/TMIGD2/CD226/TLR6/DPP4/IL18/PIK3R6/XCL1/TNFRSF4/SPTA1/INPP5D/NFKBIZ/CEBPA/CAPN3/HLA-E/MDK/TLR4/CCL2/MMP8/IL1RL1/CLCF1/TGFBR2/STAT6/ADA/CD40/IL4/HLA-A/EGR3/HLX/RPS6KA1/TGFB1/TSLP/IGF1/NFKBID/THBS1/ANXA1/MMP14/IL23R/IL1A/IL21/CD24/CD83/BST1/CDKN1A/FLT3LG/KLRC4-KLRK1/IL27RA/ICOSLG/HAVCR1/IL33/LGALS1/RUNX1/NR4A3/BTN2A2/VAV3/LEF1/SHH/MYB/RASGRP1/CD38/F11R/ZBTB7B/TNFSF4/NFATC2                                                                                                                                                                                                                                                                                                                                                                                               | C1-Others |\n",
       "| GO:0045785 | GO:0045785 | positive regulation of cell adhesion                               | 415 | 0.6994801 | 2.336217 | 7.891431e-42 | 2.791860e-40 | 1.580531e-40 | 2547 | tags=46%, list=13%, signal=41% | CD209/CD27/CXCL13/CCL5/CCR7/ICOS/CD3E/IL2RA/CCL19/AGR2/SIRPG/LCK/IFNG/LILRB2/IL7R/CTLA4/SELP/CD5/PDCD1/GRAP2/CCR2/CD36/BTLA/CD28/TNFSF11/CD6/SELE/CCL21/CD40LG/SKAP1/IL10/FUT7/ADAM8/ZAP70/RHOH/EGFL6/LEP/PTPN22/PTPRC/ALOX5/MYOC/TNFSF14/JAK3/ELANE/SASH3/VNN1/TNFSF18/ITGB2/LILRB1/VAV1/CLECL1/PTPN6/TNFRSF14/CD74/HLA-DMB/IL12RB1/PLAUR/CD80/RUNX3/HLA-DPB1/CD4/NOD2/GATA3/CD1D/SIRPB1/LILRB4/PDCD1LG2/LGALS9/RASAL3/IL6/AIF1/HLA-G/APBB1IP/TESPA1/NLRP3/CASS4/NCKAP1L/HLA-DPA1/VCAM1/PTAFR/IL12B/CXCL12/CORO1A/IL1B/ALOX15/EPHA1/ICAM1/KLRK1/SYK/CARD11/CD86/CD70/CD160/PYCARD/DYSF/EBI3/CD274/TNFSF13B/HAVCR2/MAP3K8/IL15/IL2/LYN/FOXP3/IL4R/CCDC88B/IL23A/SOCS1/TNFRSF18/ITGA4/DOCK8/TMIGD2/DPP4/IL18/PIK3R6/XCL1/UNC13D/SPTA1/NFKBIZ/HLA-E/MDK/TGM2/CCL2/SAA1/IBSP/TGFBR2/ADA/IL4/HLA-A/RRAS/EGR3/HLX/IGF1/RHOD/TNF/NFKBID/ITGA5/ANXA1/LIF/IL23R/IL1A/IL21/SFRP2/CSF1/CD24/CD83/FOXC2/KLRC4-KLRK1/NRP1/FN1/IL27RA/TMEM102/PTK2B/ICOSLG/NINJ1/STX3/LGALS1/RUNX1/EMILIN1/CIB1/NR4A3/BTN2A2/WNT4/VAV3/CCL28/LEF1/SHH/MYB/RASGRP1/F11R/EGFLAM/ADAM19/VTN/ETS1/DOCK5/VIT/RREB1/AZU1/ZBTB7B/TNFSF4/S100A10/FMN1/CSK/P2RY12/FSTL3/PLEKHA2/SMOC2/CD276/CD55/PRKCQ/IQGAP1/IL1RL2                                                                                                                                                                                                                                                                                                                   | C1-Others |\n",
       "| GO:00509211 | GO:0050921 | positive regulation of chemotaxis                                  | 141 | 0.7017277 | 2.194087 | 1.370113e-15 | 1.281055e-14 | 7.252325e-15 | 3023 | tags=50%, list=16%, signal=43% | CCL7/FPR2/CXCR2/CXCL10/CXCL13/CCL5/CCR7/CCL19/CCR4/CCR6/LBP/CCR2/RAC2/CCL21/CCL4/XCL2/C5AR1/TNFSF14/CCL3/CCR1/GPSM3/CD74/LGALS9/IL6/AIF1/NCKAP1L/CXCL12/C3AR1/CCL26/SERPINE1/DYSF/CMKLR1/CSF1R/IL23A/TREM2/CXCR4/CXCL8/IL16/IL6R/PLA2G7/XCL1/LGMN/MDK/SUCNR1/IL4/TGFB1/THBS1/TMSB4X/CSF1/CCL1/VEGFC/NRP1/TMEM102/PTK2B/STX3/PDGFB/RARRES2/AZU1/CXCL14/SCG2/P2RY12/TRPV4/SMOC2/P2RX4/IL12A/HSPB1/STX4/FGF16/IL34/S100A14/GAS6                                                                                                                                                                                                                                                                                                                                                                                                                                                                                                                                                                                                                                                                                                                                                                                                                                                                                                                                                                                                                                                                     | C1-Others |\n",
       "| GO:0001819 | GO:0001819 | positive regulation of cytokine production                         | 425 | 0.7391173 | 2.466626 | 1.964987e-57 | 2.338335e-55 | 1.323781e-55 | 2568 | tags=49%, list=13%, signal=44% | PRG3/FCN1/LILRA5/SERPINB7/FFAR2/ORM1/POU2AF1/CCR7/SLAMF6/CD3E/CCL19/LTB/LY9/CD2/IFNG/LILRB2/PYHIN1/OSM/LBP/NLRP12/CCR2/IRF4/CD36/CD28/ZBP1/CD6/FGR/GBP5/PF4/TIGIT/CD40LG/TLR8/IL10/MNDA/ADAM8/IDO1/LEP/PTPN22/C5AR1/SLC11A1/LUM/ORM2/PTPRC/CD14/EPX/CLNK/EREG/LY96/CCL3/FFAR3/ELANE/IL27/SASH3/CD244/CLEC4E/LILRB1/TYROBP/FCER1G/GPSM3/CLEC6A/NFAM1/KIR2DL4/TXK/TNFRSF14/CD74/TLR2/CLEC7A/IL12RB1/SCIMP/CD80/MCOLN2/HLA-DPB1/CD4/NOD2/LTA/CRLF2/GATA3/LGALS9/IL6/LILRA2/AIF1/HLA-G/NLRP3/HLA-DPA1/PTAFR/IFNL1/IL12B/C3AR1/BIRC3/CASP1/IL1B/HLA-F/IRF8/NLRC4/AIM2/KLRK1/SYK/IL18R1/CARD11/PTGER4/CD86/CYBA/CD160/TLR7/HTR2B/PYCARD/SERPINE1/EBI3/CD274/BCL3/HAVCR2/HPSE/IL15/IL2/FOXP3/SPON2/CCDC88B/IL23A/TREM2/PLCG2/CEBPB/CYP1B1/TMIGD2/IRF5/CD226/HGF/TLR6/TLR1/CRTAM/IL16/IL6R/TLR5/IL18/XCL1/B2M/CLEC9A/CASP8/POU2F2/HLA-E/IRF1/C3/IL1R1/CSF2/MDK/TLR4/MMP8/IL1RL1/SAA1/GSDMD/CARD9/STAT6/CD40/CLEC5A/IL4/NFKB2/NLRP10/HLA-A/MAPK13/TGFB1/TSLP/TNF/THBS1/PTGS2/ANXA1/IL23R/IL1A/IL21/IL12RB2/MYD88/RSAD2/CD58/NOX1/IRF7/IFI16/CCL1/RNF135/CD83/RNF125/AGPAT2/EGR1/KLRC4-KLRK1/SPHK1/IL27RA/IL17RA/ADIPOQ/IFIH1/IL33/RUNX1/NR4A3/TLR3/DDX60/DHX58/MYB/RASGRP1/RAB7B/RAET1G/AZU1/TNFSF4/NOD1/ADRA2A/TRPV4/TWIST1/CD276/IRF3/NFKB1/CD34/PRKCQ/IL1RL2/STAT1                                                                                                                                                                                                                                     | C1-Others |\n",
       "| GO:00703741 | GO:0070374 | positive regulation of ERK1 and ERK2 cascade                       | 194 | 0.6604664 | 2.120796 | 1.895890e-15 | 1.760085e-14 | 9.964214e-15 | 2146 | tags=37%, list=11%, signal=33% | CCL7/FGF4/CCL24/MARCO/CCL13/FPR2/CCL5/CCR7/CCL19/SLAMF1/PLA2G2A/CCL11/CHI3L1/GPNMB/CCL17/CCL22/CD36/CCL23/TNFSF11/CCL21/CCL4/CCL8/CCL18/PTPN22/XCL2/C5AR1/PTPRC/CCL3/CCL3L3/CCR1/C5AR2/CCL14/CD74/GPR183/SCIMP/CD4/NOD2/LGALS9/CCL20/ALOX15/HLA-DRB1/ICAM1/HTR2B/PYCARD/GPR55/CCL26/HAVCR2/TNFRSF11A/CSF1R/TREM2/GPBAR1/FFAR4/XCL1/P2RY6/TLR4/CCL2/ABCA7/TNFAIP8L3/TGFB1/TNF/ARRB2/APOE/CCL1/PLA2G5/NRP1/PTK2B/PDGFB/CIB1/NTRK1/CCL16/RASGRP1/SHC1                                                                                                                                                                                                                                                                                                                                                                                                                                                                                                                                                                                                                                                                                                                                                                                                                                                                                                                                                                                                                                               | C1-Others |\n",
       "| GO:00507311 | GO:0050731 | positive regulation of peptidyl-tyrosine phosphorylation           | 189 | 0.6286838 | 2.009875 | 1.025238e-11 | 7.455758e-11 | 4.220862e-11 | 2206 | tags=41%, list=11%, signal=36% | LILRA5/CCL5/CD3E/STAP1/IL24/IFNG/OSM/CD36/NCF1/LEP/AREG/PTPRC/EREG/BANK1/TNFSF18/CSF3/TNFRSF14/CD74/GATA1/CD80/HCLS1/CD4/IL11/IL6/CASS4/IFNL1/IL12B/FCGR1A/ICAM1/SYK/IL15/IL2/CSF1R/LYN/FLT3/IL23A/TREM2/TNFRSF18/HGF/IL6R/GHRL/IL18/TEC/CSF2/TDGF1/SOCS3/PECAM1/CLCF1/IL31RA/CD40/IL4/TGFB1/TSLP/IGF1/TNF/ITGA5/ARRB2/LIF/IL23R/IL21/HBEGF/CD24/GH1/BTC/LRRK1/NRP1/PTK2B/ADIPOQ/TNFRSF1A/ITGB3/EHD4/PARP9/PDGFB/PARP14/CSH2/FGF7/VTN                                                                                                                                                                                                                                                                                                                                                                                                                                                                                                                                                                                                                                                                                                                                                                                                                                                                                                                                                                                                                                                            | C1-Others |\n",
       "| GO:00028331 | GO:0002833 | positive regulation of response to biotic stimulus                 | 242 | 0.6915535 | 2.255941 | 1.845350e-23 | 2.597379e-22 | 1.470431e-22 | 2497 | tags=37%, list=13%, signal=33% | FPR2/IL18RAP/CD209/FCN1/FFAR2/CCL5/SLAMF6/CLEC4C/CLEC10A/SH2D1A/PYHIN1/ARG1/LBP/ZBP1/CLEC4D/GBP5/TLR8/MNDA/ADAM8/ICAM3/NCR3/CLNK/HCK/EREG/LY96/CLEC4E/FCER1G/CLEC6A/VAV1/CD180/KIR2DL4/TXK/SCIMP/CD1D/LILRA2/HLA-G/IL12B/LY86/CLEC4A/HLA-F/NLRC4/AIM2/KLRK1/SYK/CARD11/CYBA/CD160/PYCARD/CD274/HAVCR2/PSMB9/LYN/MUC12/PLCG2/IKBKE/SH2D1B/CD226/GRN/CRTAM/LAG3/RELB/NLRC5/MUC3A/HLA-E/PSMB8/TLR4/MMP12/CARD9/NLRP10/PSMB10/PRKCD/IL21/PLSCR1/IRF7/IFI16/MR1/PLA2G5/ICAM2/KLRC4-KLRK1/PARP9/PSME2/DDX60/DHX58/RASGRP1/RAET1G/NOD1/PSME1/IRF3/RAET1E/NFKB1                                                                                                                                                                                                                                                                                                                                                                                                                                                                                                                                                                                                                                                                                                                                                                                                                                                                                                                                          | C1-Others |\n",
       "| GO:0032103 | GO:0032103 | positive regulation of response to external stimulus               | 498 | 0.6934299 | 2.324790 | 3.841677e-48 | 2.186415e-46 | 1.237776e-46 | 2498 | tags=42%, list=13%, signal=38% | CCL7/CCL24/FPR2/IL18RAP/CD209/FCN1/LILRA5/CXCR2/FFAR2/CXCL10/CXCL13/CCL5/CCR7/SLAMF6/CLEC4C/CCL19/CCR4/CCR6/S100A9/S100A8/PLA2G2A/STAP1/S100A12/IFNG/CLEC10A/SH2D1A/PYHIN1/OSM/ARG1/LBP/NLRP12/CCR2/RAC2/CD28/ZBP1/TNFSF11/CD6/CLEC4D/GBP5/CCL21/CCL4/TLR8/MNDA/ADAM8/ICAM3/IDO1/XCL2/C5AR1/NCR3/CLNK/HCK/FABP4/TNFSF14/EREG/LY96/CCL3/FFAR3/CCR1/CLEC4E/TLR10/FCER1G/GPSM3/CLEC6A/VAV1/CD180/KIR2DL4/TXK/BTK/CD74/TLR2/CLEC7A/SCIMP/NOD2/LTA/CD1D/LGALS9/IL6/LILRA2/VAMP8/AIF1/HLA-G/NCKAP1L/IL12B/CXCL12/C3AR1/LY86/CLEC4A/IL1B/HLA-F/THBD/NLRC4/AIM2/KLRK1/SYK/CARD11/PTGER4/CYBA/CD160/TLR7/PYCARD/CCL26/SERPINE1/DYSF/CMKLR1/PIK3CG/HAVCR2/TNFRSF11A/PSMB9/IL15/IL2/CSF1R/LYN/MUC12/CTSC/IL23A/TREM2/PLCG2/IKBKE/CEBPB/SH2D1B/CD226/CXCR4/TLR6/CXCL8/GRN/CRTAM/IL16/IL6R/PLA2G7/GHRL/IL18/LAG3/XCL1/RELB/NLRC5/MUC3A/NFKBIZ/CEBPA/LGMN/HLA-E/C3/PSMB8/MDK/TGM2/TLR4/MMP8/IL1RL1/MMP12/CARD9/SUCNR1/IL4/NLRP10/PSMB10/MAPK13/NUPR1/PRKCD/TGFB1/TSLP/TNF/THBS1/PTGS2/TRADD/IL21/MYD88/PLSCR1/TMSB4X/IRF7/IFI16/CSF1/CCL1/VEGFC/PLA2G5/SCARF1/ICAM2/KLRC4-KLRK1/NRP1/TMEM102/IL17RA/PTK2B/MGST2/TNFRSF1A/IL33/STX3/PARP9/PDGFB/NFKBIA/TLR3/PSME2/DDX60/DHX58/RASGRP1/RARRES2/ETS1/RAET1G/AZU1/CXCL14/TNFSF4/NOD1/SCG2/P2RY12/C2CD4B/GPR4/PSME1/TRPV4/SMOC2/LRRK2/IRF3/RAET1E/NFKB1/OSMR                                                                                                                                                                                                        | C1-Others |\n",
       "| GO:19040181 | GO:1904018 | positive regulation of vasculature development                     | 184 | 0.6398667 | 2.047312 | 9.400373e-13 | 7.503102e-12 | 4.247665e-12 | 3310 | tags=47%, list=17%, signal=40% | CCL24/SERPINB7/CXCR2/CMA1/CCL11/LRG1/CHI3L1/IL10/ITGAX/C5AR1/CCR3/ITGB2/HMOX1/CTSH/CYBB/C3AR1/CEACAM1/IL1B/EPHA1/C6/SERPINE1/CYP1B1/CELA1/TMIGD2/HGF/CXCR4/CXCL8/GRN/IL6R/GHRL/PIK3R6/ADM2/C3/ENG/MDK/SOD2/ADAM12/TGFBR2/SRPX2/CD40/RRAS/THBS1/ITGA5/ZC3H12A/PTGS2/ANXA1/IL1A/SFRP2/ANXA3/VEGFC/CX3CR1/EGR1/FOXC2/NRP1/SPHK1/PTK2B/NOS3/ADM/RUNX1/TNFSF12/TBXA2R/PDGFB/CIB1/TLR3/ECM1/ETS1/CDH5/BTG1/ACVRL1/TWIST1/KLF4/SMOC2/CD34/RHOJ/HSPB6/HSPB1/MYDGF/CFLAR/PTGIS/APLNR/XBP1/ITGB1/ANGPTL4/RAMP2/GATA6/HDAC7/PRKD2                                                                                                                                                                                                                                                                                                                                                                                                                                                                                                                                                                                                                                                                                                                                                                                                                                                                                                                                                                           | C1-Others |\n",
       "| GO:0022407 | GO:0022407 | regulation of cell-cell adhesion                                   | 416 | 0.7124653 | 2.378890 | 6.759977e-46 | 3.160289e-44 | 1.789107e-44 | 2261 | tags=44%, list=12%, signal=40% | BLK/CD209/PLA2G2D/CLEC4G/CD27/CXCL13/CCL5/CCR7/ICOS/CD3E/IL2RA/CCL19/FCGR2B/SIRPG/LCK/IFNG/LILRB2/IL7R/CTLA4/ARG1/SELP/CD5/PDCD1/GRAP2/GPNMB/LAX1/CCR2/BTLA/CD28/TNFSF11/CD6/SELE/CCL21/TIGIT/CD40LG/SKAP1/IL10/FUT7/IL1RN/ADAM8/IDO1/ZAP70/RHOH/LEP/PTPN22/PTPRC/ALOX5/TNFSF14/JAK3/ELANE/SASH3/FERMT3/VNN1/ITGB2/LILRB1/VAV1/CD300A/CLECL1/PTPN6/TBX21/TNFRSF14/CD74/HLA-DMB/IL12RB1/PLAUR/VSIG4/CD80/RUNX3/HLA-DPB1/CD4/NOD2/GATA3/CD1D/SIRPB1/TNFAIP8L2/LILRB4/PDCD1LG2/LGALS9/RASAL3/IL6/AIF1/HLA-G/TESPA1/NLRP3/NCKAP1L/HLA-DPA1/VCAM1/PTAFR/IFNL1/IL12B/CXCL12/CEACAM1/LGALS9C/CORO1A/IL1B/ALOX15/ALOX12/HLA-DRB1/ICAM1/KLRK1/SYK/CARD11/CD86/CD70/SPN/CD160/PYCARD/EBI3/CD274/TNFSF13B/HAVCR2/MAP3K8/IL15/IL2/FXYD5/LYN/FOXP3/IL4R/CCDC88B/IL23A/SOCS1/CEBPB/ITGA4/DOCK8/TMIGD2/FGL2/DPP4/CRTAM/IL18/PIK3R6/LAG3/XCL1/SPTA1/NFKBIZ/HLA-E/IRF1/MDK/CCL2/TGFBR2/ADA/ADTRP/IL4/HLA-A/EGR3/HLX/PRKCD/TGFB1/IGF1/TNF/NFKBID/AKNA/ZC3H12A/SH2B3/ANXA1/IL23R/IL1A/IL21/C1QTNF1/CD24/LRRC32/CD83/LGALS3/KLRC4-KLRK1/LGALS9B/IL27RA/HFE/ICOSLG/ADIPOQ/LGALS1/RUNX1/NR4A3/BTN2A2/WNT4/CCL28/LEF1/SHH/MYB/RASGRP1/F11R/ADAM19/ETS1/ASS1/ZBTB7B/TNFSF4                                                                                                                                                                                                                                                                                                                                               | C1-Others |\n",
       "| GO:00509201 | GO:0050920 | regulation of chemotaxis                                           | 216 | 0.6585673 | 2.126167 | 4.838783e-16 | 4.589831e-15 | 2.598400e-15 | 3023 | tags=44%, list=16%, signal=38% | CCL7/FGF4/FPR2/CXCR2/CXCL10/CXCL13/CCL5/CCR7/CCL19/CCR4/CCR6/STAP1/GPR18/LBP/CCR2/RAC2/CCL21/SLAMF8/CCL4/XCL2/C5AR1/TNFSF14/CCL3/CCR1/ELANE/C5AR2/GPSM3/CD74/GPR183/LGALS9/IL6/AIF1/NCKAP1L/CXCL12/C3AR1/KLRK1/POU4F2/CCL26/SERPINE1/DYSF/CMKLR1/CYP19A1/CSF1R/LYN/IL23A/TREM2/CXCR4/CXCL8/DPP4/IL16/IL6R/PLA2G7/DUSP1/XCL1/LGMN/MDK/CCL2/SUCNR1/IL4/TGFB1/THBS1/TMSB4X/CSF1/CCL1/VEGFC/BST1/MPP1/KLRC4-KLRK1/NRP1/TMEM102/PTK2B/STX3/PDGFB/SLC8B1/RARRES2/AZU1/CXCL14/SCG2/P2RY12/TRPV4/SMOC2/NBL1/P2RX4/PTPN2/SEMA4A/SEMA3F/ADGRA2/IL12A/HSPB1/STX4/CORO1B/SEMA3C/FGF16/IL34/S100A14/GAS6                                                                                                                                                                                                                                                                                                                                                                                                                                                                                                                                                                                                                                                                                                                                                                                                                                                                                                      | C1-Others |\n",
       "| GO:00703721 | GO:0070372 | regulation of ERK1 and ERK2 cascade                                | 276 | 0.6164682 | 2.024384 | 5.077264e-15 | 4.552150e-14 | 2.577069e-14 | 2146 | tags=33%, list=11%, signal=30% | CCL7/FGF4/CCL24/MARCO/CCL13/FPR2/NLRP6/CCL5/CCR7/CCL19/SLAMF1/PLA2G2A/CCL11/TBC1D10C/CHI3L1/GPNMB/CCL17/NLRP12/CCL22/CD36/CCL23/CRYBA1/TNFSF11/CCL21/CCL4/CCL8/CCL18/PTPN22/XCL2/C5AR1/PTPRC/CCL3/CCL3L3/CCR1/C5AR2/PTPN6/CCL14/CD74/GPR183/SCIMP/CD4/NOD2/LGALS9/CCL20/CEACAM1/IL1B/ALOX15/HLA-DRB1/ICAM1/SYK/HTR2B/PYCARD/GPR55/CCL26/HAVCR2/TNFRSF11A/CSF1R/LYN/TREM2/GPBAR1/FFAR4/DUSP1/XCL1/GBP1/P2RY6/TLR4/CCL2/ABCA7/TNFAIP8L3/RRAS/TGFB1/TNF/ARRB2/APOE/LIF/CCL1/PLA2G5/RGS14/NRP1/FN1/PTK2B/ADIPOQ/ATF3/EMILIN1/PDGFB/CIB1/BTN2A2/NTRK1/CCL16/RASGRP1/SHC1                                                                                                                                                                                                                                                                                                                                                                                                                                                                                                                                                                                                                                                                                                                                                                                                                                                                                                                              | C1-Others |\n",
       "| GO:1903706 | GO:1903706 | regulation of hemopoiesis                                          | 455 | 0.6483507 | 2.168406 | 2.601219e-31 | 5.007347e-30 | 2.834765e-30 | 3152 | tags=41%, list=16%, signal=35% | FCRL3/CR1/LILRB3/CD27/IL2RA/CCL19/FCGR2B/IKZF3/CD2/IFNG/LILRB2/IL7R/CTLA4/OSM/GP1BA/CSF3R/PGLYRP1/CCR2/IRF4/CD28/GPR171/TNFSF11/PF4/SLAMF8/NFE2/ADAM8/SIGLEC15/ZAP70/RHOH/PTPRC/JAK3/SPI1/CCL3/CCR1/ZNF683/IL27/SASH3/VNN1/EVI2B/LILRB1/TYROBP/NFAM1/C1QC/PTPN6/TBX21/CSF3/BTK/CD74/GATA1/IL12RB1/CD80/RUNX3/HCLS1/CD4/GATA3/LILRB4/LGALS9/HLA-DOA/HLA-G/TESPA1/NLRP3/NCKAP1L/IFNL1/IL12B/CEACAM1/IL1B/HLA-DRB1/MAFB/SYK/CARD11/CD86/POU4F2/GFI1B/GPR55/PSMB9/IL15/IL2/LYN/FOXP3/IL4R/IL23A/SOCS1/TREM2/CEBPB/TNFRSF18/MYL9/HLA-B/LTF/FGL2/FES/PRDM1/CRTAM/SLC46A2/ZFP36/IL18/PIK3R6/LAG3/B2M/ITGA2B/CASP8/INPP5D/NFKBIZ/IRF1/PSMB8/CSF2/MDK/TLR4/SCIN/DCSTAMP/TGFBR2/FOS/ADA/IL4/PSMB10/EGR3/HLX/TGFB1/TNF/NFKBID/THBS1/ZC3H12A/ANXA1/LIF/MMP14/IL23R/IL1A/IRF7/CSF1/TMEM176B/CD83/LGALS3/ISG15/FLT3LG/TRIM58/PTK2B/ADIPOQ/CARTPT/RUNX1/TCF7/CIB1/NR4A3/BTN2A2/NFKBIA/TLR3/PSME2/LEF1/SHH/MYB/TMEM176A/RASGRP1/LMO2/RAB7B/ETS1/TRIB1/ZBTB7B/TNFSF4/NFATC2/FSTL3/PSME1/ZFP36L2/MITF/PIM1/PRKCQ/IL1RL2/STAT1/PTPN2/IL12A/AXL/FOXC1/PGLYRP2/FBN1/PSMA8/IL7/TESC/LOX/XBP1/IL34/GAS6/ZFP36L1/ESRRA/MEF2C/CA2/TNFSF9/TLR9/PSMA3                                                                                                                                                                                                                                                                                                                                                                       | C1-Others |\n",
       "| GO:00431221 | GO:0043122 | regulation of I-kappaB kinase/NF-kappaB signaling                  | 241 | 0.6217762 | 2.026843 | 1.508347e-13 | 1.273823e-12 | 7.211383e-13 | 3513 | tags=40%, list=18%, signal=33% | UBD/NLRP6/CCR7/CCL19/S100A12/FASLG/NLRP12/CD36/TNFSF11/CCL21/RHOH/S100A4/CLEC6A/SECTM1/CD74/HMOX1/CD4/NOD2/LGALS9/TNIP3/NLRC3/BIRC3/CASP1/IL1B/HLA-DRB1/CARD11/HTR2B/PYCARD/TNFAIP3/TNFSF10/BST2/IKBKE/APOL3/LTF/TLR6/TRIM38/TRIM22/CASP10/TMEM106A/CASP8/ALPK1/CAPN3/TGM2/TLR4/PPM1N/CARD9/CD40/TNF/NFKBID/SLC20A1/ZC3H12A/TRIM34/PIM2/TRADD/MYD88/CX3CR1/LTBR/S100A13/LITAF/ADIPOQ/TNFRSF1A/TIFA/ESR1/LGALS1/SQSTM1/TRIM21/TRAF1/TLR3/ECM1/REL/NOD1/TRIM14/TICAM2/IRF3/FKBP1A/STAT1/IRAK4/SHISA5/FLNA/HSPB1/CFLAR/MAP3K14/TRIML2/TLR9/TRIM5/TNIP2/SIRPA/TICAM1/PLK2/CARD8/IRAK1/PIDD1/TNFRSF10B/MAP3K3/NEK6/TNIP1                                                                                                                                                                                                                                                                                                                                                                                                                                                                                                                                                                                                                                                                                                                                                                                                                                                                              | C1-Others |\n",
       "| GO:0002697 | GO:0002697 | regulation of immune effector process                              | 389 | 0.7708184 | 2.568520 | 2.440943e-64 | 4.564564e-62 | 2.584097e-62 | 2261 | tags=51%, list=12%, signal=46% | MZB1/FCRL3/BLK/IL18RAP/CR1/CLEC4G/FFAR2/CD177/SLAMF6/IL2RA/CCL19/FCGR2B/CD22/STAP1/IFNG/CR2/SH2D1A/IL7R/CD19/ARG1/LBP/PGLYRP1/CLC/FCER2/CCR2/IRF4/CD36/RAC2/CD28/FGR/CD96/CD1C/CD40LG/SLAMF8/IL10/NCR1/FUT7/CD1A/LEP/CD1B/PTPN22/C5AR1/CD1E/NCR3/PTPRC/CLNK/JAK3/C1QA/FFAR3/CR1L/ZNF683/IL27/C5AR2/SASH3/CD244/ADGRE2/WAS/ITGB2/LILRB1/TYROBP/FCER1G/VAV1/CD300A/C1QC/C1QB/KIR2DL4/C2/PTPN6/TBX21/TNFRSF14/BTK/CD74/HLA-DMB/IL12RB1/ITGAM/VSIG4/SCIMP/CD80/HMOX1/NOD2/LTA/TSPAN32/RIPK3/GATA3/CD1D/LGALS9/DNASE1L3/IL6/STXBP2/VAMP8/HLA-G/NLRP3/TNFRSF1B/PTAFR/IFNL1/CFP/IL12B/CD5L/C3AR1/CEACAM1/BIRC3/IL1B/HLA-F/CD84/AIM2/CFB/ICAM1/KLRK1/SYK/C6/IL18R1/CD86/CD160/PYCARD/TNFAIP3/C7/HAVCR2/CLEC12B/IL15/IL2/LYN/TNFSF13/FOXP3/IL4R/SPON2/BST2/IL23A/MICB/APOBEC3G/SH2D1B/CD226/HLA-B/FGL2/FES/GRN/CRTAM/TRIM38/IL18/PIK3R6/C1S/LAG3/XCL1/B2M/UNC13D/IRAK3/PRAM1/TNFRSF4/NFKBIZ/HLA-E/C3/IL1R1/TLR4/CLCF1/MMP12/STAT6/C4BPB/CD40/IL4/HLA-A/NOS2/CFH/HLX/TGFB1/TNF/NFKBID/A2M/C1R/ZC3H12A/ARRB2/ANXA1/IL23R/IL21/RSAD2/SERPINB9/MR1/CFI/PLA2G5/RNF125/LGALS3/KLRC4-KLRK1/SERPING1/APOBEC3F/MICA/IL27RA/HFE/IL33/PARP9/NR4A3/TLR3/DDX60/DHX58/MYB/CXCL6/RASGRP1/DTX3L/VTN/RAET1G/ZBTB7B/TNFSF4                                                                                                                                                                                                                                                                                                  | C1-Others |\n",
       "| GO:00026881 | GO:0002688 | regulation of leukocyte chemotaxis                                 | 118 | 0.7675810 | 2.363882 | 8.412288e-20 | 9.575378e-19 | 5.420824e-19 | 1906 | tags=49%, list=10%, signal=45% | CCL7/FPR2/CXCR2/CXCL10/CXCL13/CCL5/CCR7/CCL19/CCR6/STAP1/GPR18/LBP/CCR2/RAC2/CCL21/SLAMF8/CCL4/XCL2/C5AR1/TNFSF14/CCL3/CCR1/C5AR2/GPSM3/CD74/LGALS9/IL6/AIF1/NCKAP1L/CXCL12/C3AR1/KLRK1/SERPINE1/DYSF/CMKLR1/CYP19A1/CSF1R/LYN/IL23A/CXCL8/DPP4/IL6R/PLA2G7/DUSP1/XCL1/LGMN/MDK/CCL2/IL4/THBS1/CSF1/CCL1/VEGFC/BST1/MPP1/KLRC4-KLRK1/TMEM102/PTK2B                                                                                                                                                                                                                                                                                                                                                                                                                                                                                                                                                                                                                                                                                                                                                                                                                                                                                                                                                                                                                                                                                                                                               | C1-Others |\n",
       "| GO:0051249 | GO:0051249 | regulation of lymphocyte activation                                | 425 | 0.7601234 | 2.536729 | 7.033014e-66 | 1.841243e-63 | 1.042367e-63 | 2277 | tags=50%, list=12%, signal=45% | IGLL5/TNFRSF13B/MZB1/FCRL3/BLK/CD209/PLA2G2D/CR1/CLEC4G/CD27/CCL5/CCR7/ICOS/CD3E/SIT1/IL2RA/CCL19/FCGR2B/CD22/SIRPG/IKZF3/LCK/CD2/IFNG/LILRB2/IL7R/TBC1D10C/CD19/CTLA4/ARG1/CD5/PDCD1/GRAP2/GPNMB/PGLYRP1/CLC/LAX1/CCR2/IRF4/RAC2/BTLA/CD28/TNFSF11/CD6/FGR/CCL21/TIGIT/CD40LG/SLAMF8/IL10/MNDA/ADAM8/IDO1/ZAP70/RHOH/LEP/PTPN22/PTPRC/CLNK/TNFSF14/JAK3/BANK1/ZNF683/IL27/SASH3/SAMSN1/VNN1/TNFSF18/LILRB1/TYROBP/VAV1/NFAM1/CD300A/CLECL1/PTPN6/TBX21/TNFRSF14/BTK/CD74/HLA-DMB/GPR183/CLEC7A/IL12RB1/VSIG4/CD80/RUNX3/HLA-DPB1/CD4/NOD2/RIPK3/GATA3/CD1D/SIRPB1/TNFSF8/TNFAIP8L2/LILRB4/PDCD1LG2/LGALS9/RASAL3/HLA-DOA/IL6/AIF1/HLA-G/TESPA1/NLRP3/NCKAP1L/HLA-DPA1/VCAM1/TNFRSF1B/IFNL1/LST1/IL12B/CEACAM1/LGALS9C/CORO1A/IL1B/HLA-F/HLA-DRB1/KLRK1/SYK/CARD11/CD86/CD70/SPN/CD160/PYCARD/LAT/EBI3/TNFAIP3/CD274/TNFSF13B/HAVCR2/MAP3K8/IL15/IL2/LYN/TNFSF13/FOXP3/IL4R/CCDC88B/IL23A/SOCS1/CEBPB/TNFRSF18/DOCK8/TMIGD2/FGL2/PRDM1/DPP4/CRTAM/SLC46A2/IL18/PIK3R6/LAG3/XCL1/TNFRSF4/SPTA1/INPP5D/NFKBIZ/HLA-E/IRF1/MDK/TLR4/CCL2/CLCF1/TGFBR2/STAT6/ADA/CD40/IL4/HLA-A/EGR3/HLX/TGFB1/GAL/IGF1/NFKBID/ZC3H12A/ANXA1/MMP14/IL23R/IL1A/IL21/CD24/LRRC32/CD83/BST1/LGALS3/CDKN1A/FLT3LG/KLRC4-KLRK1/AHR/LGALS9B/MICA/IL27RA/HFE/ICOSLG/LGALS1/MERTK/RUNX1/TCF7/BTN2A2/VAV3/LEF1/SHH/MYB/RASGRP1/CD38/GSN/ZBTB7B/TNFSF4/NFATC2                                                                                                                                                                   | C1-Others |\n",
       "| GO:00027611 | GO:0002761 | regulation of myeloid leukocyte differentiation                    | 118 | 0.6525767 | 2.009709 | 2.499331e-09 | 1.550533e-08 | 8.777894e-09 | 3092 | tags=46%, list=16%, signal=39% | LILRB3/IFNG/TNFSF11/PF4/SIGLEC15/CCL3/CCR1/EVI2B/LILRB1/TYROBP/C1QC/CD74/HCLS1/CD4/LILRB4/IL12B/CEACAM1/HLA-DRB1/MAFB/POU4F2/GPR55/LYN/IL23A/TREM2/CEBPB/LTF/FES/CASP8/INPP5D/TLR4/DCSTAMP/FOS/IL4/TGFB1/TNF/LIF/IL23R/IRF7/CSF1/ADIPOQ/CARTPT/RUNX1/TLR3/LEF1/TRIB1/FSTL3/MITF/PTPN2/FBN1/TESC/IL34/ZFP36L1/ESRRA/CA2                                                                                                                                                                                                                                                                                                                                                                                                                                                                                                                                                                                                                                                                                                                                                                                                                                                                                                                                                                                                                                                                                                                                                                           | C1-Others |\n",
       "| GO:0002831 | GO:0002831 | regulation of response to biotic stimulus                          | 391 | 0.7031883 | 2.343004 | 2.018145e-39 | 6.143609e-38 | 3.478027e-38 | 2614 | tags=41%, list=13%, signal=36% | FPR2/TREML2/IL18RAP/CD209/FCN1/CR1/FFAR2/CCL5/SLAMF6/IL2RA/CLEC4C/FCGR2B/IFNG/CLEC10A/SH2D1A/PYHIN1/ARG1/LBP/CD36/ZBP1/FGR/CD96/CLEC4D/GBP5/SLAMF8/TLR8/NCR1/MNDA/ADAM8/ICAM3/LEP/PTPN22/NCR3/CLNK/HCK/EREG/LY96/IL27/CLEC4E/LILRB1/FCER1G/CLEC6A/VAV1/CD180/KIR2DL4/PTPN6/TXK/IL12RB1/VSIG4/SCIMP/TREML4/TSPAN32/CD1D/LGALS9/LILRA2/HLA-G/IL12B/CEACAM1/NLRC3/LY86/BIRC3/CLEC4A/IL1B/HLA-F/NLRC4/AIM2/KLRK1/SYK/CARD11/CYBA/CD160/PYCARD/TNFAIP3/CD274/HAVCR2/CLEC12B/PSMB9/IL15/LYN/MUC12/IL23A/SOCS1/TREM2/PLCG2/IKBKE/MICB/APOBEC3G/SH2D1B/CD226/HLA-B/LTF/FGL2/GRN/CRTAM/TRIM38/PIK3R6/LAG3/RELB/NLRC5/IRAK3/MUC3A/HLA-E/IRF1/PSMB8/TLR4/SOCS3/MMP12/CARD9/IL4/NLRP10/HLA-A/PSMB10/NR1H3/PRKCD/NMI/A2M/ZC3H12A/ARRB2/APOE/IL23R/IL21/PPARG/PLSCR1/SERPINB9/IRF7/IFI16/MR1/PLA2G5/RNF135/RNF125/ICAM2/KLRC4-KLRK1/SERPING1/APOBEC3F/MICA/PARP9/PARP14/PSME2/DDX60/DHX58/CXCL6/RASGRP1/SIGIRR/IFNGR1/DTX3L/TRIB1/RAET1G/NOD1/USP18/PSME1/IRF3/RAET1E/NFKB1/CD55/SAMHD1/STAT1/IFNGR2/HERC5/PTPN2                                                                                                                                                                                                                                                                                                                                                                                                                                                                                               | C1-Others |\n",
       "| GO:19013421 | GO:1901342 | regulation of vasculature development                              | 322 | 0.6055475 | 2.004949 | 2.908579e-16 | 2.799508e-15 | 1.584861e-15 | 3016 | tags=41%, list=16%, signal=35% | CCL24/SERPINB7/CXCR2/CXCL10/CMA1/CXCL13/CCL11/LRG1/FASLG/CHI3L1/GPNMB/PROK2/CCR2/PF4/IL10/ITGAX/LEP/C5AR1/CCR3/ALOX5/PROK1/ITGB2/HMOX1/CTSH/CYBB/IL6/HLA-G/STAB1/IL12B/C3AR1/CEACAM1/IL1B/EPHA1/C6/CD160/KRT1/SERPINE1/TNFAIP3/CYP1B1/CELA1/TMIGD2/HGF/CXCR4/CXCL8/GRN/IL6R/SERPINF1/GHRL/PIK3R6/ADM2/C3/ENG/MDK/SOD2/ADAM12/KLF2/ANGPTL7/HHEX/TGFBR2/DCN/SRPX2/CD40/SP100/RRAS/TNF/THBS1/ITGA5/ZC3H12A/PTGS2/PLXND1/ANXA1/IL1A/PPARG/SFRP2/TNFRSF12A/ANXA3/VEGFC/HTATIP2/CX3CR1/THBS2/EGR1/FOXC2/NRP1/SPHK1/PTK2B/NOS3/ADM/RUNX1/TNFSF12/TBXA2R/EMILIN1/PDGFB/CIB1/TLR3/WNT4/ADAMTS1/CARD10/ECSCR/ECM1/ETS1/CDH5/NFATC2/BTG1/GPR4/PML/ACVRL1/TWIST1/KLF4/SMOC2/HSPG2/MMRN2/CD34/NGFR/STAT1/SEMA4A/ADGRA2/RHOJ/IL12A/HSPB6/HSPB1/MYDGF/CFLAR/FOXC1/EPHA2/NPR1/PTGIS/COL4A2/APLNR/XBP1/MEOX2/ITGB1                                                                                                                                                                                                                                                                                                                                                                                                                                                                                                                                                                                                                                                                                                | C1-Others |\n",
       "| GO:0042110 | GO:0042110 | T cell activation                                                  | 471 | 0.7566756 | 2.533012 | 4.437997e-70 | 2.904669e-67 | 1.644395e-67 | 2277 | tags=49%, list=12%, signal=44% | TREML2/HSH2D/CD209/PLA2G2D/CR1/CLEC4G/CD27/CD3D/CCL5/CCR7/ICOS/SLAMF6/CD3E/SIT1/IL2RA/CCL19/FCGR2B/CCR6/SIRPG/CD3G/LCK/LY9/GPR18/CD2/IFNG/LILRB2/IL7R/BATF/CTLA4/ARG1/CD8B/CD5/PDCD1/GRAP2/GPNMB/CLC/LAX1/CCR2/IRF4/RAC2/BTLA/CD28/ITK/TNFSF11/CD6/CLEC4D/THEMIS/CD1C/CCL21/TIGIT/CD40LG/CD7/IL10/FUT7/SLA2/ADAM8/IDO1/ZAP70/RHOH/LEP/PTPN22/EOMES/CD8A/LCP1/SLC11A1/ITGAL/PTPRC/TNFSF14/JAK3/ZNF683/IL27/SASH3/VNN1/TNFSF18/WAS/CLEC4E/LILRB1/FCER1G/VAV1/CD300A/CLECL1/PTPN6/TBX21/TNFRSF14/CD74/HLA-DMB/GPR183/CLEC7A/IL12RB1/VSIG4/CD80/RUNX3/HLA-DPB1/CD4/NOD2/RIPK3/GATA3/CD1D/SIRPB1/TNFSF8/TNFAIP8L2/LILRB4/PDCD1LG2/LGALS9/RASAL3/HLA-DOA/IL6/DOCK2/AIF1/HLA-G/APBB1IP/TESPA1/NLRP3/NCKAP1L/HLA-DPA1/VCAM1/TNFRSF1B/IFNL1/IL12B/CEACAM1/NLRC3/LGALS9C/CORO1A/CCR9/CLEC4A/IL1B/HLA-DRB1/ICAM1/KLRK1/MAFB/SYK/IL18R1/CARD11/PTGER4/CD86/CD70/SPN/CD160/PYCARD/LAT/EBI3/CD274/TNFSF13B/PIK3CG/BCL3/HAVCR2/MAP3K8/IL15/IL2/LYN/TCIRG1/FOXP3/IL4R/CCDC88B/IL23A/SOCS1/CEBPB/MICB/TNFRSF18/DOCK8/TMIGD2/FGL2/PRDM1/DPP4/CRTAM/SLC46A2/IL18/PIK3R6/LAG3/XCL1/RELB/B2M/TNFRSF4/SPTA1/CASP8/NFKBIZ/HLA-E/IRF1/MDK/CCL2/PIK3CD/NKX2-3/RUNX2/TGFBR2/STAT6/ADA/ELF4/IL4/HLA-A/PSMB10/RAB27A/EGR3/HLX/IGF1/NFKBID/ZC3H12A/ANXA1/IL23R/IL1A/IL21/RSAD2/MR1/CD24/LRRC32/CD83/CTSL/LGALS3/EGR1/KLRC4-KLRK1/LGALS9B/MICA/IL27RA/HFE/ICOSLG/LGALS1/RUNX1/TCF7/MYH9/BTN2A2/PSAP/WNT4/LEF1/SHH/MYB/RASGRP1/GSN/BAX/ZBTB7B/TNFSF4/NFATC2                                                                     | C1-Others |\n",
       "| GO:00467181 | GO:0046718 | viral entry into host cell                                         | 130 | 0.6770782 | 2.105072 | 8.442680e-12 | 6.243768e-11 | 3.534729e-11 | 3040 | tags=44%, list=16%, signal=37% | CD209/FCN1/CR1/CLEC4G/SLAMF1/CR2/SIGLEC1/FCN3/MRC1/CCR5/ANPEP/TNFRSF14/CD74/CD80/CD4/CLEC4M/ITGB7/LGALS9/VAMP8/HLA-DRB1/ICAM1/PTX3/CD86/SELPLG/GPR15/IFITM2/CXCR4/DPP4/SLC52A1/TRIM38/IFITM1/TRIM22/CTSB/TNFRSF4/CLEC5A/IFITM3/TRIM10/ITGA5/TRIM34/CTSL/HAVCR1/LGALS1/ITGB3/TRIM21/F11R/GSN/TRIM14/SLC1A5/CD55/GYPA/AXL/EPHA2/HYAL2/TMPRSS2/ITGB1/GAS6/TRIML2                                                                                                                                                                                                                                                                                                                                                                                                                                                                                                                                                                                                                                                                                                                                                                                                                                                                                                                                                                                                                                                                                                                                    | C1-Others |\n",
       "\n"
      ],
      "text/plain": [
       "            ID        \n",
       "GO:0002253  GO:0002253\n",
       "GO:00022181 GO:0002218\n",
       "GO:0002250  GO:0002250\n",
       "GO:00197301 GO:0019730\n",
       "GO:00301831 GO:0030183\n",
       "GO:00329631 GO:0032963\n",
       "GO:00444091 GO:0044409\n",
       "GO:0036230  GO:0036230\n",
       "GO:0002768  GO:0002768\n",
       "GO:0002764  GO:0002764\n",
       "GO:0050900  GO:0050900\n",
       "GO:00521261 GO:0052126\n",
       "GO:0030099  GO:0030099\n",
       "GO:00071621 GO:0007162\n",
       "GO:00224081 GO:0022408\n",
       "GO:19037071 GO:1903707\n",
       "GO:0002683  GO:0002683\n",
       "GO:00507281 GO:0050728\n",
       "GO:19030381 GO:1903038\n",
       "GO:19021061 GO:1902106\n",
       "GO:0042119  GO:0042119\n",
       "GO:0002283  GO:0002283\n",
       "GO:0043312  GO:0043312\n",
       "GO:0002446  GO:0002446\n",
       "GO:00301681 GO:0030168\n",
       "GO:00457661 GO:0045766\n",
       "GO:0050867  GO:0050867\n",
       "GO:0045785  GO:0045785\n",
       "GO:00509211 GO:0050921\n",
       "GO:0001819  GO:0001819\n",
       "GO:00703741 GO:0070374\n",
       "GO:00507311 GO:0050731\n",
       "GO:00028331 GO:0002833\n",
       "GO:0032103  GO:0032103\n",
       "GO:19040181 GO:1904018\n",
       "GO:0022407  GO:0022407\n",
       "GO:00509201 GO:0050920\n",
       "GO:00703721 GO:0070372\n",
       "GO:1903706  GO:1903706\n",
       "GO:00431221 GO:0043122\n",
       "GO:0002697  GO:0002697\n",
       "GO:00026881 GO:0002688\n",
       "GO:0051249  GO:0051249\n",
       "GO:00027611 GO:0002761\n",
       "GO:0002831  GO:0002831\n",
       "GO:19013421 GO:1901342\n",
       "GO:0042110  GO:0042110\n",
       "GO:00467181 GO:0046718\n",
       "            Description                                                       \n",
       "GO:0002253  activation of immune response                                     \n",
       "GO:00022181 activation of innate immune response                              \n",
       "GO:0002250  adaptive immune response                                          \n",
       "GO:00197301 antimicrobial humoral response                                    \n",
       "GO:00301831 B cell differentiation                                            \n",
       "GO:00329631 collagen metabolic process                                        \n",
       "GO:00444091 entry into host                                                   \n",
       "GO:0036230  granulocyte activation                                            \n",
       "GO:0002768  immune response-regulating cell surface receptor signaling pathway\n",
       "GO:0002764  immune response-regulating signaling pathway                      \n",
       "GO:0050900  leukocyte migration                                               \n",
       "GO:00521261 movement in host environment                                      \n",
       "GO:0030099  myeloid cell differentiation                                      \n",
       "GO:00071621 negative regulation of cell adhesion                              \n",
       "GO:00224081 negative regulation of cell-cell adhesion                         \n",
       "GO:19037071 negative regulation of hemopoiesis                                \n",
       "GO:0002683  negative regulation of immune system process                      \n",
       "GO:00507281 negative regulation of inflammatory response                      \n",
       "GO:19030381 negative regulation of leukocyte cell-cell adhesion               \n",
       "GO:19021061 negative regulation of leukocyte differentiation                  \n",
       "GO:0042119  neutrophil activation                                             \n",
       "GO:0002283  neutrophil activation involved in immune response                 \n",
       "GO:0043312  neutrophil degranulation                                          \n",
       "GO:0002446  neutrophil mediated immunity                                      \n",
       "GO:00301681 platelet activation                                               \n",
       "GO:00457661 positive regulation of angiogenesis                               \n",
       "GO:0050867  positive regulation of cell activation                            \n",
       "GO:0045785  positive regulation of cell adhesion                              \n",
       "GO:00509211 positive regulation of chemotaxis                                 \n",
       "GO:0001819  positive regulation of cytokine production                        \n",
       "GO:00703741 positive regulation of ERK1 and ERK2 cascade                      \n",
       "GO:00507311 positive regulation of peptidyl-tyrosine phosphorylation          \n",
       "GO:00028331 positive regulation of response to biotic stimulus                \n",
       "GO:0032103  positive regulation of response to external stimulus              \n",
       "GO:19040181 positive regulation of vasculature development                    \n",
       "GO:0022407  regulation of cell-cell adhesion                                  \n",
       "GO:00509201 regulation of chemotaxis                                          \n",
       "GO:00703721 regulation of ERK1 and ERK2 cascade                               \n",
       "GO:1903706  regulation of hemopoiesis                                         \n",
       "GO:00431221 regulation of I-kappaB kinase/NF-kappaB signaling                 \n",
       "GO:0002697  regulation of immune effector process                             \n",
       "GO:00026881 regulation of leukocyte chemotaxis                                \n",
       "GO:0051249  regulation of lymphocyte activation                               \n",
       "GO:00027611 regulation of myeloid leukocyte differentiation                   \n",
       "GO:0002831  regulation of response to biotic stimulus                         \n",
       "GO:19013421 regulation of vasculature development                             \n",
       "GO:0042110  T cell activation                                                 \n",
       "GO:00467181 viral entry into host cell                                        \n",
       "            setSize enrichmentScore NES      pvalue       p.adjust    \n",
       "GO:0002253  439     0.7211257       2.407223 1.237711e-50 9.000911e-49\n",
       "GO:00022181 140     0.6490351       2.029326 1.950551e-10 1.309370e-09\n",
       "GO:0002250  407     0.8178651       2.728633 5.022614e-90 6.574601e-87\n",
       "GO:00197301 122     0.7499893       2.319230 6.549832e-18 6.750969e-17\n",
       "GO:00301831 135     0.7069255       2.201404 4.217107e-15 3.807030e-14\n",
       "GO:00329631 101     0.6653145       2.019185 7.256895e-09 4.397813e-08\n",
       "GO:00444091 143     0.6669631       2.085294 8.934957e-12 6.533999e-11\n",
       "GO:0036230  498     0.7366253       2.469606 6.546874e-66 1.841243e-63\n",
       "GO:0002768  388     0.7259741       2.419790 1.431875e-46 7.208938e-45\n",
       "GO:0002764  391     0.7269053       2.422028 8.368025e-47 4.564060e-45\n",
       "GO:0050900  441     0.7605584       2.539228 4.859083e-67 2.120180e-64\n",
       "GO:00521261 165     0.6417577       2.037329 1.602655e-11 1.152679e-10\n",
       "GO:0030099  390     0.6134179       2.043338 5.998401e-21 7.338231e-20\n",
       "GO:00071621 270     0.6341202       2.078263 1.932201e-17 1.960659e-16\n",
       "GO:00224081 174     0.7074021       2.252566 5.435344e-19 5.880054e-18\n",
       "GO:19037071 137     0.6661614       2.075494 1.163356e-11 8.413440e-11\n",
       "GO:0002683  417     0.7338233       2.450640 1.219643e-53 1.140367e-51\n",
       "GO:00507281 137     0.6687641       2.083603 6.317397e-12 4.752570e-11\n",
       "GO:19030381 121     0.7794667       2.408863 8.836607e-22 1.112223e-20\n",
       "GO:19021061 100     0.7137981       2.163354 7.460684e-12 5.548884e-11\n",
       "GO:0042119  492     0.7382936       2.473990 1.443631e-64 3.149523e-62\n",
       "GO:0002283  481     0.7346068       2.458720 2.015063e-61 3.297146e-59\n",
       "GO:0043312  478     0.7343398       2.459058 2.473838e-61 3.598060e-59\n",
       "GO:0002446  492     0.7285731       2.441417 2.834453e-60 3.710299e-58\n",
       "GO:00301681 157     0.6404396       2.023161 4.076733e-11 2.823515e-10\n",
       "GO:00457661 164     0.6555636       2.076995 1.113472e-12 8.780328e-12\n",
       "GO:0050867  328     0.7692629       2.547824 1.435918e-54 1.445859e-52\n",
       "GO:0045785  415     0.6994801       2.336217 7.891431e-42 2.791860e-40\n",
       "GO:00509211 141     0.7017277       2.194087 1.370113e-15 1.281055e-14\n",
       "GO:0001819  425     0.7391173       2.466626 1.964987e-57 2.338335e-55\n",
       "GO:00703741 194     0.6604664       2.120796 1.895890e-15 1.760085e-14\n",
       "GO:00507311 189     0.6286838       2.009875 1.025238e-11 7.455758e-11\n",
       "GO:00028331 242     0.6915535       2.255941 1.845350e-23 2.597379e-22\n",
       "GO:0032103  498     0.6934299       2.324790 3.841677e-48 2.186415e-46\n",
       "GO:19040181 184     0.6398667       2.047312 9.400373e-13 7.503102e-12\n",
       "GO:0022407  416     0.7124653       2.378890 6.759977e-46 3.160289e-44\n",
       "GO:00509201 216     0.6585673       2.126167 4.838783e-16 4.589831e-15\n",
       "GO:00703721 276     0.6164682       2.024384 5.077264e-15 4.552150e-14\n",
       "GO:1903706  455     0.6483507       2.168406 2.601219e-31 5.007347e-30\n",
       "GO:00431221 241     0.6217762       2.026843 1.508347e-13 1.273823e-12\n",
       "GO:0002697  389     0.7708184       2.568520 2.440943e-64 4.564564e-62\n",
       "GO:00026881 118     0.7675810       2.363882 8.412288e-20 9.575378e-19\n",
       "GO:0051249  425     0.7601234       2.536729 7.033014e-66 1.841243e-63\n",
       "GO:00027611 118     0.6525767       2.009709 2.499331e-09 1.550533e-08\n",
       "GO:0002831  391     0.7031883       2.343004 2.018145e-39 6.143609e-38\n",
       "GO:19013421 322     0.6055475       2.004949 2.908579e-16 2.799508e-15\n",
       "GO:0042110  471     0.7566756       2.533012 4.437997e-70 2.904669e-67\n",
       "GO:00467181 130     0.6770782       2.105072 8.442680e-12 6.243768e-11\n",
       "            qvalues      rank leading_edge                  \n",
       "GO:0002253  5.095607e-49 2520 tags=42%, list=13%, signal=37%\n",
       "GO:00022181 7.412619e-10 1825 tags=26%, list=9%, signal=23% \n",
       "GO:0002250  3.722021e-87 2005 tags=59%, list=10%, signal=54%\n",
       "GO:00197301 3.821866e-17 2322 tags=42%, list=12%, signal=37%\n",
       "GO:00301831 2.155240e-14 2283 tags=39%, list=12%, signal=34%\n",
       "GO:00329631 2.489695e-08 3664 tags=54%, list=19%, signal=44%\n",
       "GO:00444091 3.699035e-11 3040 tags=41%, list=16%, signal=35%\n",
       "GO:0036230  1.042367e-63 2558 tags=47%, list=13%, signal=42%\n",
       "GO:0002768  4.081133e-45 2520 tags=43%, list=13%, signal=38%\n",
       "GO:0002764  2.583811e-45 2520 tags=43%, list=13%, signal=38%\n",
       "GO:0050900  1.200279e-64 2281 tags=51%, list=12%, signal=46%\n",
       "GO:00521261 6.525559e-11 3040 tags=36%, list=16%, signal=31%\n",
       "GO:0030099  4.154328e-20 3092 tags=38%, list=16%, signal=32%\n",
       "GO:00071621 1.109971e-16 2428 tags=37%, list=12%, signal=33%\n",
       "GO:00224081 3.328823e-18 2491 tags=44%, list=13%, signal=39%\n",
       "GO:19037071 4.763027e-11 2372 tags=37%, list=12%, signal=33%\n",
       "GO:0002683  6.455857e-52 2322 tags=45%, list=12%, signal=41%\n",
       "GO:00507281 2.690531e-11 2943 tags=51%, list=15%, signal=44%\n",
       "GO:19030381 6.296529e-21 2261 tags=54%, list=12%, signal=48%\n",
       "GO:19021061 3.141341e-11 2372 tags=45%, list=12%, signal=40%\n",
       "GO:0042119  1.783012e-62 2558 tags=48%, list=13%, signal=42%\n",
       "GO:0002283  1.866584e-59 2558 tags=47%, list=13%, signal=42%\n",
       "GO:0043312  2.036938e-59 2558 tags=47%, list=13%, signal=42%\n",
       "GO:0002446  2.100479e-58 2558 tags=46%, list=13%, signal=41%\n",
       "GO:00301681 1.598452e-10 3242 tags=51%, list=17%, signal=43%\n",
       "GO:00457661 4.970730e-12 3504 tags=51%, list=18%, signal=42%\n",
       "GO:0050867  8.185315e-53 2277 tags=54%, list=12%, signal=49%\n",
       "GO:0045785  1.580531e-40 2547 tags=46%, list=13%, signal=41%\n",
       "GO:00509211 7.252325e-15 3023 tags=50%, list=16%, signal=43%\n",
       "GO:0001819  1.323781e-55 2568 tags=49%, list=13%, signal=44%\n",
       "GO:00703741 9.964214e-15 2146 tags=37%, list=11%, signal=33%\n",
       "GO:00507311 4.220862e-11 2206 tags=41%, list=11%, signal=36%\n",
       "GO:00028331 1.470431e-22 2497 tags=37%, list=13%, signal=33%\n",
       "GO:0032103  1.237776e-46 2498 tags=42%, list=13%, signal=38%\n",
       "GO:19040181 4.247665e-12 3310 tags=47%, list=17%, signal=40%\n",
       "GO:0022407  1.789107e-44 2261 tags=44%, list=12%, signal=40%\n",
       "GO:00509201 2.598400e-15 3023 tags=44%, list=16%, signal=38%\n",
       "GO:00703721 2.577069e-14 2146 tags=33%, list=11%, signal=30%\n",
       "GO:1903706  2.834765e-30 3152 tags=41%, list=16%, signal=35%\n",
       "GO:00431221 7.211383e-13 3513 tags=40%, list=18%, signal=33%\n",
       "GO:0002697  2.584097e-62 2261 tags=51%, list=12%, signal=46%\n",
       "GO:00026881 5.420824e-19 1906 tags=49%, list=10%, signal=45%\n",
       "GO:0051249  1.042367e-63 2277 tags=50%, list=12%, signal=45%\n",
       "GO:00027611 8.777894e-09 3092 tags=46%, list=16%, signal=39%\n",
       "GO:0002831  3.478027e-38 2614 tags=41%, list=13%, signal=36%\n",
       "GO:19013421 1.584861e-15 3016 tags=41%, list=16%, signal=35%\n",
       "GO:0042110  1.644395e-67 2277 tags=49%, list=12%, signal=44%\n",
       "GO:00467181 3.534729e-11 3040 tags=44%, list=16%, signal=37%\n",
       "            core_enrichment                                                                                                                                                                                                                                                                                                                                                                                                                                                                                                                                                                                                                                                                                                                                                                                                                                                                                                                                                                                                                                                                                                                                                                                                                                                                                                                                                                                                                                                                                 \n",
       "GO:0002253  IGLL5/MS4A1/FCRL3/FPR2/CD79A/BLK/CD209/FCN1/CR1/FFAR2/CD3D/CCR7/BTNL3/TRAT1/CD3E/CLEC4C/FCGR2B/CD22/CD3G/UBASH3A/LCK/PVRIG/STAP1/CLEC10A/CR2/SH2D1A/PYHIN1/CD19/CTLA4/GPR33/GRAP2/HLA-DQA2/HLA-DQB2/LAX1/CD28/ITK/ZBP1/CD79B/GCSAM/FGR/CLEC4D/CD247/THEMIS/FCN3/SKAP1/MYO1G/SLA2/MNDA/ICAM3/ZAP70/FPR1/PAX5/PTPN22/FPR3/LCP2/C5AR1/BTNL8/NCR3/PTPRC/HCK/THEMIS2/C1QA/CR1L/C5AR2/WAS/CLEC4E/FCER1G/CLEC6A/HLA-DRA/VAV1/NFAM1/CD300A/C1QC/C1QB/C2/PTPN6/CFD/TXK/HLA-DQA1/BTK/VSIG4/HLA-DPB1/CD4/KLHL6/GATA3/FCGR2A/LILRB4/LILRA2/TESPA1/NCKAP1L/HLA-DPA1/FCGR3A/CFP/CD5L/HLA-DQB1/C3AR1/CEACAM1/CLEC4A/FCGR1A/IL1B/KCNN4/NLRC4/AIM2/CFB/HLA-DRB1/KLRK1/SYK/C6/CARD11/CD160/KRT1/PYCARD/LAT/C7/CMKLR1/LAT2/PSMB9/BMX/LYN/FOXP3/MUC12/BLNK/ARPC1B/PLCG2/MICB/CD226/TEC/C1S/RELB/PRAM1/MUC3A/LPXN/GBP1/INPP5D/NFKBIZ/C3/PSMB8/TLR4/PIK3CD/CARD9/C4BPB/ADA/HLA-A/PSMB10/CFH/PRKCD/NFKBID/A2M/C1R/ZC3H12A/PLSCR1/HLA-DRB5/WIPF1/IFI16/CFI/PRKCH/ICAM2/LGALS3/KLRC4-KLRK1/SERPING1/ICOSLG/RUNX1/BTN3A2/NR4A3/BTN2A2/VAV3/PSME2/C1RL/BTN3A3/CD38/ELF1/GCSAML/VTN/BAX/NFATC2/ARPC3/CSK/PSME1/ARPC5/RAB29/CD276/NFKB1/CD55/PRKCQ                                                                                                                                                                                                                                                                                                                                                                           \n",
       "GO:00022181 CD209/FCN1/FFAR2/CLEC4C/CLEC10A/PYHIN1/ZBP1/CLEC4D/MNDA/ICAM3/HCK/CLEC4E/FCER1G/CLEC6A/LILRA2/CLEC4A/NLRC4/AIM2/KLRK1/SYK/CARD11/PYCARD/PSMB9/LYN/MUC12/PLCG2/RELB/MUC3A/PSMB8/TLR4/CARD9/PSMB10/PRKCD/IFI16/ICAM2/KLRC4-KLRK1                                                                                                                                                                                                                                                                                                                                                                                                                                                                                                                                                                                                                                                                                                                                                                                                                                                                                                                                                                                                                                                                                                                                                                                                                                                                  \n",
       "GO:0002250  JCHAIN/IGLL5/TNFRSF13B/CD79A/TNFRSF17/IL18RAP/CD209/CR1/CLEC4G/LILRB3/CD27/CXCL13/CD3D/SLAMF7/TRAT1/SLAMF6/CD3E/SIT1/LILRA6/CLEC4C/CCL19/FCGR2B/CCR6/CD3G/SLAMF1/LY9/LILRB5/IFNG/CLEC10A/CR2/PRF1/LILRB2/SH2D1A/IL7R/CD48/BATF/CD19/CTLA4/FCAMR/ARG1/CD8B/PDCD1/HLA-DQA2/CLC/HLA-DQB2/FCER2/LAX1/CCR2/IRF4/BTLA/HLA-DOB/CD28/ITK/CD6/CD79B/CLEC4D/CD247/THEMIS/CD1C/FCRL4/CD40LG/SKAP1/TLR8/CD7/IL10/GZMM/MYO1G/FUT7/SLA2/CD1A/ZAP70/GAPT/CD1B/EOMES/CD8A/BTNL8/CD1E/SLC11A1/CTSS/PTPRC/JAK3/C1QA/ZNF683/IL27/SASH3/CD244/SAMSN1/ADGRE1/TNFSF18/WAS/LILRB1/FCER1G/CLEC6A/HLA-DRA/AICDA/C1QC/C1QB/C2/PTPN6/LAMP3/TBX21/LAIR1/TXK/HLA-DQA1/TNFRSF14/BTK/CD74/HLA-DMB/GPR183/IL12RB1/CD80/HLA-DMA/MCOLN2/HLA-DPB1/CD4/LTA/KLHL6/CLEC4M/RIPK3/GATA3/CTSH/CD1D/LILRB4/PDCD1LG2/HLA-DOA/IL6/HLA-G/NLRP3/HLA-DPA1/LILRA1/TNFRSF1B/IL12B/HLA-DQB1/CEACAM1/CLEC4A/IL1B/ALOX15/HLA-F/CD84/FCGR1B/SIGLEC10/HLA-DRB1/ICAM1/KLRK1/SYK/C6/IL18R1/CD86/CD70/SPN/CD160/PYCARD/LAT/EBI3/TNFAIP3/C7/CD274/TNFSF13B/PIK3CG/BCL3/LAT2/HAVCR2/TNFRSF11A/BMX/IL2/LYN/TCIRG1/TNFSF13/FOXP3/IL4R/CTSC/IL23A/MICB/UNC93B1/SH2D1B/CD226/HLA-B/FGL2/PRDM1/IL18/TEC/C1S/LAG3/XCL1/RELB/B2M/UNC13D/INPP5D/POU2F2/NFKBIZ/HLA-E/IRF1/C3/IL1R1/TLR4/PIK3CD/IL1RL1/CLCF1/STAT6/C4BPB/ADA/IL31RA/CD40/IL4/NFKB2/NLRP10/HLA-A/RAB27A/HLX/PRKCD/CRACR2A/TGFB1/TNF/NFKBID/C1R/HLA-C/ZC3H12A/ANXA1/IL23R/TAP1/RSAD2/HLA-DRB5/IRF7/MR1/CFI/ERAP2/RNF125/CTSL/ORAI1/KLRC4-KLRK1/SERPING1/MICA/IL27RA/PTK2B/HFE/ICOSLG/IL33/MCOLN1/BTN3A2\n",
       "GO:00197301 JCHAIN/BPIFA2/CCL13/BPIFB1/CTSG/CXCL9/CXCL10/CXCL13/S100A9/S100A8/PLA2G2A/S100A12/PPBP/LYZ/CXCL11/PGLYRP1/DEFA4/DEFA1/PF4/CAMP/SLC11A1/ELANE/DEFA3/PGLYRP4/GNLY/PF4V1/ITLN1/RNASE6/PI3/CXCL5/WFDC11/BCL3/LCN2/SPON2/RNASE3/LTF/CXCL8/CXCL1/HLA-E/SLPI/HLA-A/GALP/IL36RN/CXCL3/CXCL2/CXCL6/RARRES2/AZU1/CXCL14/PRTN3/BPI                                                                                                                                                                                                                                                                                                                                                                                                                                                                                                                                                                                                                                                                                                                                                                                                                                                                                                                                                                                                                                                                                                                                                                         \n",
       "GO:00301831 MS4A1/FCRL3/ADGRG3/CD79A/CD27/POU2AF1/FCGR2B/IKZF3/CR2/CD19/CD79B/CD40LG/SLAMF8/IL10/PTPRC/JAK3/AICDA/NFAM1/PTPN6/BTK/GPR183/IL11/IL6/NCKAP1L/VCAM1/SYK/CARD11/BCL3/TCIRG1/BLNK/FLT3/PLCG2/ITGA4/LYL1/MFNG/CMTM7/INPP5D/POU2F2/NKX2-3/CLCF1/HHEX/ADA/IL4/MMP14/IL21/PTK2B/LGALS1/CDH17/KLF6/NTRK1/BAX/DOCK11                                                                                                                                                                                                                                                                                                                                                                                                                                                                                                                                                                                                                                                                                                                                                                                                                                                                                                                                                                                                                                                                                                                                                                                    \n",
       "GO:00329631 MMP27/MMP7/SERPINB7/ARG1/MMP25/MMP9/MMP13/CTSS/ADAMTS14/CIITA/IL6/MMP19/COL15A1/COL1A1/COL13A1/COL1A2/CTSB/CTSD/ENG/MMP8/FAP/MMP10/MMP12/TGFB1/RCN3/MMP11/MMP1/ARRB2/MMP14/PPARG/CTSL/MMP2/VIM/SERPINH1/EMILIN1/WNT4/MYB/PRTN3/P3H1/P3H3/FURIN/MRC2/KLK6/COL5A1/PLOD3/MFAP4/CTSK/ITGB1/MMP28/ADAMTS2/PDGFRB/TRAM2/RAP1A/ADAM15/F2R                                                                                                                                                                                                                                                                                                                                                                                                                                                                                                                                                                                                                                                                                                                                                                                                                                                                                                                                                                                                                                                                                                                                                              \n",
       "GO:00444091 CD209/FCN1/CR1/CLEC4G/SLAMF1/CR2/SIGLEC1/FCN3/MRC1/CCR5/ANPEP/TNFRSF14/CD74/CD80/CD4/CLEC4M/ITGB7/LGALS9/VAMP8/HLA-DRB1/ICAM1/PTX3/CD86/SELPLG/GPR15/IFITM2/CXCR4/CXCL8/DPP4/SLC52A1/TRIM38/IFITM1/TRIM22/CTSB/TNFRSF4/CLEC5A/IFITM3/TRIM10/ITGA5/TRIM34/CTSL/HAVCR1/LGALS1/ITGB3/TRIM21/F11R/GSN/TRIM14/SLC1A5/FUCA2/CD55/GYPA/AXL/EPHA2/HYAL2/TMPRSS2/ITGB1/GAS6/TRIML2                                                                                                                                                                                                                                                                                                                                                                                                                                                                                                                                                                                                                                                                                                                                                                                                                                                                                                                                                                                                                                                                                                                       \n",
       "GO:0036230  MCEMP1/PRG3/ADGRG3/FPR2/CXCR1/CEACAM3/IL18RAP/FCN1/CTSG/CR1/CXCR2/LILRB3/CD177/ORM1/CCL5/FCAR/S100P/ADGRE3/CLEC4C/FCGR3B/FCGR2B/S100A9/S100A8/PLA2G2A/HK3/S100A12/LRG1/PPBP/LILRB2/LYZ/TBC1D10C/CLEC12A/TCN1/CHI3L1/ARG1/SELL/P2RX1/PGLYRP1/CCR2/CD36/MMP25/DEFA4/DEFA1/FGR/CLEC4D/CAMP/ITGAX/MNDA/ADAM8/RETN/MMP9/FPR1/ARHGAP9/TTR/C5AR1/SLC11A1/SIGLEC5/ITGAL/CTSS/ORM2/PTPRC/CD14/ALOX5/EPX/CEACAM8/CCL3/DOK3/MGAM/CD53/ELANE/HBB/BIN2/VNN1/OSCAR/SERPINA1/ITGB2/GMFG/TYROBP/SIGLEC14/FCER1G/FOLR3/NFAM1/CD300A/PTPN6/CD68/ANPEP/LAIR1/CFD/CRISP3/TLR2/ABCA13/PLAUR/ITGAM/PLAC8/RAB44/CTSH/FCGR2A/SIRPB1/CYBB/DNASE1L3/RNASE2/STXBP2/LILRA2/DOCK2/VAMP8/SIGLEC9/NCKAP1L/TNFRSF1B/PTAFR/CFP/GPR84/C3AR1/CEACAM1/SYK/PTX3/CD33/TRPM2/CYBA/PRG2/KRT1/PYCARD/GLIPR1/HPSE/IL15/LCN2/TCIRG1/PLAU/BST2/CTSZ/CTSC/MME/RNASE3/CDA/SLC2A5/FTL/HLA-B/LTF/NPC2/CXCL8/ALDH3B1/FGL2/GRN/S100A11/CXCL1/CTSB/IL18/B2M/UNC13D/PRAM1/PIGR/ADGRE5/CTSD/CD93/C3/MMP8/PECAM1/SERPINB1/STK10/RNASET2/FUCA1/ATP8B4/GSDMD/OLR1/RHOG/SLPI/MAN2B1/CLEC5A/CNN2/SLCO4C1/RAB27A/PRKCD/CRACR2A/NBEAL2/HLA-C/MS4A3/OSTF1/B4GALT1/TNFAIP6/CTSA/CD58/PLEKHO2/ANXA3/CREG1/SERPINA3/BST1/LGALS3/AGPAT2/KCNAB2/AOC1/HEXB/GCA/MVP/TMC6/SLC2A3/BRI3/PYGL/COTL1/CHIT1/AMPD3/HSPA6/CD63/FTH1/HVCN1/PSAP/CHRNB4/ASAH1/CSTB/CXCL6/SNAP23/DNASE1L1/GSN/GAA/AZU1/RAB37/PRTN3/HP/SDCBP/GUSB/BPI/STOM/ARPC5/TICAM2/GLA/IQGAP2/ANXA2/NEU1/FUCA2/GM2A/NFKB1/CD55/PLD1/ARSA/RHOF/GNS/IQGAP1/IMPDH1                                            \n",
       "GO:0002768  IGLL5/MS4A1/FCRL3/FPR2/CD79A/BLK/CD209/FCN1/CR1/FFAR2/CD3D/CCR7/BTNL3/TRAT1/CD3E/CLEC4C/FCGR2B/CD22/CD3G/UBASH3A/LCK/PVRIG/STAP1/CLEC10A/CR2/LILRB2/SH2D1A/CD19/CTLA4/GPR33/MS4A2/GRAP2/HLA-DQA2/HLA-DQB2/LAX1/BTLA/CD28/ITK/CD79B/GCSAM/FGR/CLEC4D/CD247/THEMIS/FCER1A/SKAP1/MYO1G/SLA2/MNDA/ICAM3/ZAP70/FPR1/PAX5/PTPN22/FPR3/LCP2/C5AR1/BTNL8/CD200R1/NCR3/PTPRC/HCK/THEMIS2/C5AR2/WAS/CLEC4E/LILRB1/FCER1G/CLEC6A/HLA-DRA/VAV1/NFAM1/CD300A/PTPN6/TXK/HLA-DQA1/BTK/HLA-DPB1/CD4/KLHL6/GATA3/FCGR2A/LILRB4/LILRA2/HLA-G/TESPA1/NCKAP1L/HLA-DPA1/FCGR3A/HLA-DQB1/C3AR1/CEACAM1/CLEC4A/FCGR1A/KCNN4/FCGR1B/HLA-DRB1/KLRK1/SYK/CARD11/CD160/LILRA4/LAT/CMKLR1/LAT2/CLEC12B/PSMB9/BMX/LYN/FOXP3/MUC12/BLNK/ARPC1B/PLCG2/MICB/CD226/TEC/RELB/PRAM1/MUC3A/LPXN/PIGR/GBP1/INPP5D/NFKBIZ/PSMB8/PIK3CD/CARD9/FOS/ADA/CD40/HLA-A/PSMB10/PRKCD/NFKBID/ZC3H12A/PLSCR1/HLA-DRB5/WIPF1/CD24/PRKCH/ICAM2/LGALS3/KLRC4-KLRK1/ICOSLG/RUNX1/BTN3A2/NR4A3/BTN2A2/KIR2DL1/VAV3/PSME2/SHC1/BTN3A3/CD38/ELF1/GCSAML/BAX/NFATC2/ARPC3/CSK/PSME1/ARPC5/RAB29/CD276/NFKB1/PRKCQ                                                                                                                                                                                                                                                                                                                                                                                                                                       \n",
       "GO:0002764  IGLL5/MS4A1/FCRL3/FPR2/CD79A/BLK/CD209/FCN1/CR1/FFAR2/CD3D/CCR7/BTNL3/TRAT1/CD3E/CLEC4C/FCGR2B/CD22/CD3G/UBASH3A/LCK/PVRIG/STAP1/CLEC10A/CR2/LILRB2/SH2D1A/CD19/CTLA4/GPR33/MS4A2/GRAP2/HLA-DQA2/HLA-DQB2/LAX1/BTLA/CD28/ITK/CD79B/GCSAM/FGR/CLEC4D/CD247/THEMIS/FCER1A/SKAP1/MYO1G/SLA2/MNDA/ICAM3/ZAP70/FPR1/PAX5/PTPN22/FPR3/LCP2/C5AR1/BTNL8/CD200R1/NCR3/PTPRC/HCK/THEMIS2/C5AR2/WAS/CLEC4E/LILRB1/FCER1G/CLEC6A/HLA-DRA/VAV1/NFAM1/CD300A/PTPN6/TXK/HLA-DQA1/BTK/HLA-DPB1/CD4/KLHL6/GATA3/CTSH/FCGR2A/LILRB4/LILRA2/HLA-G/TESPA1/NCKAP1L/HLA-DPA1/FCGR3A/HLA-DQB1/C3AR1/CEACAM1/CLEC4A/FCGR1A/KCNN4/FCGR1B/HLA-DRB1/KLRK1/SYK/CARD11/CD33/CD160/LILRA4/LAT/CMKLR1/LAT2/CLEC12B/PSMB9/BMX/LYN/FOXP3/MUC12/BLNK/ARPC1B/PLCG2/MICB/CD226/TEC/RELB/PRAM1/MUC3A/LPXN/PIGR/GBP1/INPP5D/NFKBIZ/PSMB8/PIK3CD/CARD9/FOS/ADA/CD40/HLA-A/PSMB10/PRKCD/NFKBID/ZC3H12A/PLSCR1/HLA-DRB5/WIPF1/CD24/PRKCH/ICAM2/LGALS3/KLRC4-KLRK1/ICOSLG/RUNX1/BTN3A2/NR4A3/BTN2A2/KIR2DL1/VAV3/PSME2/SHC1/BTN3A3/CD38/ELF1/GCSAML/BAX/NFATC2/ARPC3/CSK/PSME1/ARPC5/RAB29/CD276/NFKB1/PRKCQ                                                                                                                                                                                                                                                                                                                                                                                                                             \n",
       "GO:0050900  CCL7/JCHAIN/CCL24/CCL13/FPR2/CXCR1/CEACAM3/CNR2/CXCR2/CXCL9/FFAR2/CXCL10/CD177/CXCL13/CCL5/CCR7/CCL19/CCR6/SIRPG/CXCR3/S100A9/S100A8/LCK/STAP1/CCL11/GPR18/S100A12/CD2/DOK2/PPBP/CD48/CXCL11/FCAMR/SELP/CSF3R/SELL/LBP/CCL17/NLRP12/CCL22/CCR2/RAC2/CCL23/TNFSF11/DEFA1/GCSAM/SELE/PF4/TREM1/CCL21/SLAMF8/CCL4/CCL8/IL10/ITGAX/MYO1G/FUT7/CCL18/CCR5/ADAM8/ZAP70/RHOH/LEP/VPREB3/XCL2/C5AR1/CD200R1/ITGAL/ALOX5/EPX/HCK/CEACAM8/TNFSF14/CCL3/CCL3L3/CCR1/ELANE/C5AR2/CD244/ADGRE2/TNFSF18/CH25H/ITGB2/FCER1G/GPSM3/VAV1/CD300A/PTPN6/TBX21/CCL14/TNFRSF14/CD74/GPR183/ITGAM/MCOLN2/HMOX1/ITGB7/RIPK3/GATA3/LGALS9/IL6/AIF1/PF4V1/NCKAP1L/VCAM1/PTAFR/CCL20/CXCL12/C3AR1/CEACAM1/SLC7A7/CORO1A/IL1B/THBD/CD84/ICAM1/KLRK1/SYK/PTGER4/TRPM2/SPN/MSMP/CXCL5/PYCARD/CCL26/SERPINE1/DYSF/SELPLG/CMKLR1/PIK3CG/CYP19A1/TNFRSF11A/CSF1R/GPR15/LYN/CXCR5/IL23A/TREM2/GYPB/TNFRSF18/ITGA4/DOCK8/COL1A1/CXCR4/SLC16A3/CXCL8/DPP4/CRTAM/COL1A2/CXCL1/CXCL16/IL16/IL6R/PLA2G7/DUSP1/XCL1/GCNT1/ITGA2B/INPP5D/LGMN/SDC1/IL1R1/PLVAP/MDK/CCL2/TNFRSF10A/PIK3CD/SAA1/NKX2-3/PECAM1/STK10/OLR1/RHOG/ADA/ADTRP/IL4/GYPC/TGFB1/TNF/TNFRSF10D/THBS1/ITGA5/MMP1/ANXA1/MMP14/B4GALT1/CD58/CSF1/CCL1/VEGFC/CXCL3/CX3CR1/BST1/LGALS3/BDKRB1/MPP1/KLRC4-KLRK1/FN1/IL27RA/SLC7A8/TMEM102/IL17RA/CXCL2/PTK2B/IL33/MERTK/ITGB3/EMILIN1/PDGFB/MYH9/SLC8B1/APOD/VAV3/CCL28/CCL16/CXCL6/SHC1/RARRES2/F11R/ECM1/GCSAML/AZU1/CXCL14/SCG2/PRTN3                                                                                  \n",
       "GO:00521261 CD209/FCN1/CR1/CLEC4G/SLAMF1/CR2/SIGLEC1/FCN3/MRC1/CCR5/ANPEP/TNFRSF14/CD74/CD80/CD4/CLEC4M/ITGB7/LGALS9/VAMP8/HLA-DRB1/ICAM1/PTX3/CD86/SELPLG/GPR15/IFITM2/CXCR4/CXCL8/DPP4/SLC52A1/TRIM38/IFITM1/TRIM22/CTSB/TNFRSF4/CLEC5A/IFITM3/TRIM10/ITGA5/TRIM34/CTSL/HAVCR1/LGALS1/ITGB3/TRIM21/F11R/GSN/TRIM14/PML/SLC1A5/FUCA2/CD55/GYPA/AXL/EPHA2/HYAL2/TMPRSS2/ITGB1/GAS6/TRIML2                                                                                                                                                                                                                                                                                                                                                                                                                                                                                                                                                                                                                                                                                                                                                                                                                                                                                                                                                                                                                                                                                                                   \n",
       "GO:0030099  UBD/LILRB3/CCR7/CCL19/IFNG/BATF/GP1BA/CSF3R/IRF4/GPR171/TNFSF11/PF4/NFE2/SIGLEC15/MMP9/JAK3/RASGRP4/SPI1/CCL3/CCR1/CLEC1B/OSCAR/EVI2B/LILRB1/TYROBP/FCER1G/C1QC/PTPN6/CSF3/CD74/TLR2/GATA1/GPR183/HCLS1/CD4/GATA3/IKZF1/LILRB4/IL11/NCKAP1L/IL12B/SLC4A1/CEBPE/CEACAM1/ALAS2/IRF8/HLA-DRB1/MAFB/POU4F2/GPR55/TNFRSF11A/IL15/CSF1R/LYN/TCIRG1/NRROS/IL23A/TREM2/CEBPB/MYL9/LTF/FES/FLI1/ZFP36/AHSP/RELB/B2M/ITGA2B/CASP8/INPP5D/CEBPA/CSF2/TLR4/PIK3CD/NKX2-3/KLF2/SCIN/EPB42/DCSTAMP/TGFBR2/FOS/IL31RA/CLEC5A/IL4/GAB3/JUNB/TRIM10/TGFB1/TNF/THBS1/NBEAL2/BATF3/SH2B3/LIF/BATF2/IL23R/PPARG/IRF7/IFI16/CSF1/LGALS3/LRRK1/LTBR/ISG15/TRIM58/HOXB7/CDKN2B/PTK2B/ADIPOQ/CARTPT/RUNX1/SBNO2/MYH9/CIB1/NR4A3/NFKBIA/TLR3/LEF1/ACTN1/RAB7B/ETS1/TRIB1/PRTN3/DNASE2/FSTL3/PML/ANXA2/MITF/PRKCQ/ZNF385A/OSTM1/STAT1/FAM20C/PTPN2/G6PD/EPHA2/FBN1/SNX10/TESC/DYRK3/LOX/IL34/ZFP36L1/PDE1B/ESRRA/MEF2C/CA2                                                                                                                                                                                                                                                                                                                                                                                                                                                                                                                                                                                                \n",
       "GO:00071621 PLA2G2D/CLEC4G/IL2RA/FCGR2B/LILRB2/CTLA4/ARG1/GPNMB/ADAMDEC1/LAX1/CCL21/TIGIT/IL10/IL1RN/IDO1/PTPN22/PTPRC/MYOC/JAK3/LILRB1/CD300A/PTPN6/TBX21/TNFRSF14/CD74/VSIG4/CD80/RUNX3/TNFAIP8L2/PDCD1LG2/LGALS9/HLA-G/IFNL1/ARHGDIB/CXCL12/CEACAM1/LGALS9C/ALOX12/HLA-DRB1/CD86/SPN/TGFBI/SERPINE1/CD274/HAVCR2/IL2/FXYD5/FOXP3/IL4R/SOCS1/CEBPB/CYP1B1/POSTN/COL1A1/CDKN2A/FGL2/CRTAM/DUSP1/LAG3/XCL1/TACSTD2/LPXN/GBP1/IRF1/MDK/MMP12/ADTRP/CLDN7/SIPA1/IL4/HLX/PRKCD/TGFB1/NFKBID/THBS1/AKNA/ZC3H12A/PLXND1/SH2B3/ANXA1/MMP14/C1QTNF1/LRRC32/LGALS3/LGALS9B/HFE/ADIPOQ/LGALS1/RUNX1/BTN2A2/APOD/CCL28/SHH/TNC/ASS1/SNAI2/ZBTB7B/TNFSF4/ACVRL1/TRPV4/KLF4                                                                                                                                                                                                                                                                                                                                                                                                                                                                                                                                                                                                                                                                                                                                                                                                                                             \n",
       "GO:00224081 PLA2G2D/CLEC4G/IL2RA/FCGR2B/LILRB2/CTLA4/ARG1/GPNMB/LAX1/CCL21/TIGIT/IL10/IL1RN/IDO1/PTPN22/JAK3/LILRB1/CD300A/PTPN6/TBX21/TNFRSF14/CD74/VSIG4/CD80/RUNX3/TNFAIP8L2/PDCD1LG2/LGALS9/HLA-G/IFNL1/CXCL12/CEACAM1/LGALS9C/ALOX12/HLA-DRB1/CD86/SPN/CD274/HAVCR2/IL2/FXYD5/FOXP3/IL4R/SOCS1/CEBPB/FGL2/CRTAM/LAG3/XCL1/IRF1/MDK/ADTRP/IL4/HLX/PRKCD/TGFB1/NFKBID/AKNA/ZC3H12A/SH2B3/ANXA1/C1QTNF1/LRRC32/LGALS3/LGALS9B/HFE/ADIPOQ/RUNX1/BTN2A2/CCL28/SHH/ASS1/ZBTB7B/TNFSF4/TRPV4/KLF4/PLA2G2F                                                                                                                                                                                                                                                                                                                                                                                                                                                                                                                                                                                                                                                                                                                                                                                                                                                                                                                                                                                                     \n",
       "GO:19037071 LILRB3/FCGR2B/CTLA4/PGLYRP1/GPR171/PF4/JAK3/CCL3/LILRB1/C1QC/TBX21/CD74/RUNX3/LILRB4/HLA-G/IFNL1/CEACAM1/MAFB/GPR55/IL2/LYN/FOXP3/IL4R/SOCS1/LTF/FGL2/ZFP36/LAG3/INPP5D/IRF1/MDK/TLR4/IL4/HLX/NFKBID/ZC3H12A/ANXA1/TMEM176B/PTK2B/ADIPOQ/CARTPT/RUNX1/CIB1/NFKBIA/TLR3/SHH/TMEM176A/TRIB1/ZBTB7B/TNFSF4/FSTL3                                                                                                                                                                                                                                                                                                                                                                                                                                                                                                                                                                                                                                                                                                                                                                                                                                                                                                                                                                                                                                                                                                                                                                                   \n",
       "GO:0002683  TNFRSF13B/FCRL3/BLK/CNR2/PLA2G2D/CR1/CLEC4G/CXCR2/LILRB3/CST7/NLRP6/IL2RA/FCGR2B/CD22/UBASH3A/PVRIG/STAP1/GPR18/LILRB2/SH2D1A/IL7R/TBC1D10C/CTLA4/ARG1/PDCD1/GPNMB/PGLYRP1/LAX1/CCR2/HLA-DOB/GPR171/GCSAM/FGR/CD96/PF4/CCL21/TIGIT/SLAMF8/IL10/SLA2/MNDA/IDO1/PTPN22/CD200R1/CD300LF/PTPRC/CLNK/JAK3/BANK1/CCL3/C5AR2/SAMSN1/LILRB1/TYROBP/FCER1G/CD300A/C1QC/KIR2DL4/PTPN6/TBX21/CD68/TNFRSF14/BTK/CD74/VSIG4/CD80/RUNX3/HMOX1/TSPAN32/TNFAIP8L2/LILRB4/PDCD1LG2/LGALS9/HLA-DOA/HLA-G/IFNL1/LST1/IL12B/CXCL12/CEACAM1/NLRC3/LGALS9C/ALOX15/HLA-F/CD84/HLA-DRB1/KLRK1/MAFB/PTGER4/CD86/SPN/CD160/MILR1/GPR55/TNFAIP3/CD274/CYP19A1/HAVCR2/CLEC12B/IL2/LYN/FOXP3/IL4R/BST2/SOCS1/CEBPB/MICB/HLA-B/LTF/FGL2/GRN/DPP4/CRTAM/TRIM38/ZFP36/DUSP1/LAG3/XCL1/NLRC5/IRAK3/LPXN/GBP1/INPP5D/HLA-E/IRF1/MDK/TLR4/CCL2/IL1RL1/MMP12/STAT6/C4BPB/COL3A1/ADA/ADTRP/IL31RA/IL4/HLA-A/NR1H3/HLX/GPX1/TGFB1/GAL/NMI/TNF/NFKBID/THBS1/A2M/ZC3H12A/ARRB2/ANXA1/PPARG/SERPINB9/IFI16/TMEM176B/LRRC32/RNF125/TAPBPL/LGALS3/KLRC4-KLRK1/SERPING1/LGALS9B/MICA/IL27RA/PTK2B/HFE/ADIPOQ/CARTPT/IL33/MERTK/RUNX1/EMILIN1/PARP14/CIB1/BTN2A2/NFKBIA/TLR3/APOD/CCL28/SHH/DHX58/TMEM176A/ELF1/TRIB1/ZBTB7B/TNFSF4/TSC22D3/BPI                                                                                                                                                                                                                                                                                              \n",
       "GO:00507281 FPR2/CNR2/IL1R2/CST7/NLRP6/IL2RA/FCGR2B/MEFV/NLRP12/PGLYRP1/SLAMF8/IL10/NLRP7/CD200R1/PTPRC/ALOX5/GPR31/ELANE/ACP5/AOAH/GATA3/TNFAIP8L2/NLRP3/TNFRSF1B/IL12B/NLRC3/SIGLEC10/HLA-DRB1/PTGER4/KRT1/PYCARD/TNFAIP3/CYP19A1/IL2/FOXP3/HGF/GRN/FFAR4/SERPINF1/GHRL/MDK/SOCS3/SAA1/ADA/IL22RA2/IL4/NR1H3/PRKCD/GPX1/IGF1/ZC3H12A/APOE/TNFAIP6/PPARG/METRNL/ADIPOQ/TNFRSF1A/APOD/ADCY7/ETS1/CDH5/GBA/KLF4/NFKB1/PTPN2/ABCD1/ADORA2A/PTGIS/FOXF1/NT5E                                                                                                                                                                                                                                                                                                                                                                                                                                                                                                                                                                                                                                                                                                                                                                                                                                                                                                                                                                                                                                                   \n",
       "GO:19030381 PLA2G2D/CLEC4G/IL2RA/FCGR2B/LILRB2/CTLA4/ARG1/GPNMB/LAX1/CCL21/TIGIT/IL10/IDO1/PTPN22/JAK3/LILRB1/CD300A/PTPN6/TBX21/TNFRSF14/CD74/VSIG4/CD80/RUNX3/TNFAIP8L2/PDCD1LG2/LGALS9/HLA-G/IFNL1/CXCL12/CEACAM1/LGALS9C/HLA-DRB1/CD86/SPN/CD274/HAVCR2/IL2/FOXP3/IL4R/SOCS1/CEBPB/FGL2/CRTAM/LAG3/XCL1/IRF1/MDK/ADTRP/IL4/HLX/NFKBID/ZC3H12A/ANXA1/LRRC32/LGALS3/LGALS9B/HFE/RUNX1/BTN2A2/CCL28/SHH/ASS1/ZBTB7B/TNFSF4                                                                                                                                                                                                                                                                                                                                                                                                                                                                                                                                                                                                                                                                                                                                                                                                                                                                                                                                                                                                                                                                                 \n",
       "GO:19021061 LILRB3/FCGR2B/CTLA4/PGLYRP1/JAK3/CCL3/LILRB1/C1QC/TBX21/CD74/RUNX3/LILRB4/HLA-G/IFNL1/CEACAM1/MAFB/GPR55/IL2/LYN/FOXP3/IL4R/SOCS1/LTF/FGL2/LAG3/INPP5D/IRF1/MDK/TLR4/IL4/HLX/NFKBID/ZC3H12A/ANXA1/TMEM176B/ADIPOQ/CARTPT/RUNX1/TLR3/SHH/TMEM176A/TRIB1/ZBTB7B/TNFSF4/FSTL3                                                                                                                                                                                                                                                                                                                                                                                                                                                                                                                                                                                                                                                                                                                                                                                                                                                                                                                                                                                                                                                                                                                                                                                                                      \n",
       "GO:0042119  MCEMP1/PRG3/ADGRG3/FPR2/CXCR1/CEACAM3/IL18RAP/FCN1/CTSG/CR1/CXCR2/LILRB3/CD177/ORM1/CCL5/FCAR/S100P/ADGRE3/CLEC4C/FCGR3B/FCGR2B/S100A9/S100A8/PLA2G2A/HK3/S100A12/LRG1/PPBP/LILRB2/LYZ/TBC1D10C/CLEC12A/TCN1/CHI3L1/ARG1/SELL/P2RX1/PGLYRP1/CD36/MMP25/DEFA4/DEFA1/FGR/CLEC4D/CAMP/ITGAX/MNDA/ADAM8/RETN/MMP9/FPR1/ARHGAP9/TTR/C5AR1/SLC11A1/SIGLEC5/ITGAL/CTSS/ORM2/PTPRC/CD14/ALOX5/EPX/CEACAM8/DOK3/MGAM/CD53/ELANE/HBB/BIN2/VNN1/OSCAR/SERPINA1/ITGB2/GMFG/TYROBP/SIGLEC14/FCER1G/FOLR3/NFAM1/CD300A/PTPN6/CD68/ANPEP/LAIR1/CFD/CRISP3/TLR2/ABCA13/PLAUR/ITGAM/PLAC8/RAB44/CTSH/FCGR2A/SIRPB1/CYBB/DNASE1L3/RNASE2/STXBP2/LILRA2/DOCK2/VAMP8/SIGLEC9/NCKAP1L/TNFRSF1B/PTAFR/CFP/GPR84/C3AR1/CEACAM1/SYK/PTX3/CD33/TRPM2/CYBA/PRG2/KRT1/PYCARD/GLIPR1/HPSE/IL15/LCN2/TCIRG1/PLAU/BST2/CTSZ/CTSC/MME/RNASE3/CDA/SLC2A5/FTL/HLA-B/LTF/NPC2/CXCL8/ALDH3B1/FGL2/GRN/S100A11/CXCL1/CTSB/IL18/B2M/UNC13D/PRAM1/PIGR/ADGRE5/CTSD/CD93/C3/MMP8/PECAM1/SERPINB1/STK10/RNASET2/FUCA1/ATP8B4/GSDMD/OLR1/RHOG/SLPI/MAN2B1/CLEC5A/CNN2/SLCO4C1/RAB27A/PRKCD/CRACR2A/NBEAL2/HLA-C/MS4A3/OSTF1/B4GALT1/TNFAIP6/CTSA/CD58/PLEKHO2/ANXA3/CREG1/SERPINA3/BST1/LGALS3/AGPAT2/KCNAB2/AOC1/HEXB/GCA/MVP/TMC6/SLC2A3/BRI3/PYGL/COTL1/CHIT1/AMPD3/HSPA6/CD63/FTH1/HVCN1/PSAP/CHRNB4/ASAH1/CSTB/CXCL6/SNAP23/DNASE1L1/GSN/GAA/AZU1/RAB37/PRTN3/HP/SDCBP/GUSB/BPI/STOM/ARPC5/TICAM2/GLA/IQGAP2/ANXA2/NEU1/FUCA2/GM2A/NFKB1/CD55/PLD1/ARSA/RHOF/GNS/IQGAP1/IMPDH1                                                      \n",
       "GO:0002283  MCEMP1/PRG3/ADGRG3/FPR2/CXCR1/CEACAM3/FCN1/CTSG/CR1/CXCR2/LILRB3/CD177/ORM1/FCAR/S100P/ADGRE3/CLEC4C/FCGR3B/S100A9/S100A8/HK3/S100A12/LRG1/PPBP/LILRB2/LYZ/TBC1D10C/CLEC12A/TCN1/CHI3L1/ARG1/SELL/P2RX1/PGLYRP1/CD36/MMP25/DEFA4/DEFA1/FGR/CLEC4D/CAMP/ITGAX/MNDA/ADAM8/RETN/MMP9/FPR1/ARHGAP9/TTR/C5AR1/SLC11A1/SIGLEC5/ITGAL/CTSS/ORM2/PTPRC/CD14/ALOX5/EPX/CEACAM8/DOK3/MGAM/CD53/ELANE/HBB/BIN2/VNN1/OSCAR/SERPINA1/ITGB2/GMFG/TYROBP/SIGLEC14/FCER1G/FOLR3/NFAM1/CD300A/PTPN6/CD68/ANPEP/LAIR1/CFD/CRISP3/TLR2/ABCA13/PLAUR/ITGAM/PLAC8/RAB44/CTSH/FCGR2A/SIRPB1/CYBB/DNASE1L3/RNASE2/STXBP2/LILRA2/DOCK2/VAMP8/SIGLEC9/NCKAP1L/TNFRSF1B/PTAFR/CFP/GPR84/C3AR1/CEACAM1/SYK/PTX3/CD33/TRPM2/CYBA/PRG2/KRT1/PYCARD/GLIPR1/HPSE/LCN2/TCIRG1/PLAU/BST2/CTSZ/CTSC/MME/RNASE3/CDA/SLC2A5/FTL/HLA-B/LTF/NPC2/ALDH3B1/FGL2/GRN/S100A11/CXCL1/CTSB/B2M/UNC13D/PRAM1/PIGR/ADGRE5/CTSD/CD93/C3/MMP8/PECAM1/SERPINB1/STK10/RNASET2/FUCA1/ATP8B4/GSDMD/OLR1/RHOG/SLPI/MAN2B1/CLEC5A/CNN2/SLCO4C1/RAB27A/PRKCD/CRACR2A/NBEAL2/HLA-C/MS4A3/OSTF1/B4GALT1/TNFAIP6/CTSA/CD58/PLEKHO2/ANXA3/CREG1/SERPINA3/BST1/LGALS3/AGPAT2/KCNAB2/AOC1/HEXB/GCA/MVP/TMC6/SLC2A3/BRI3/PYGL/COTL1/CHIT1/AMPD3/HSPA6/CD63/FTH1/HVCN1/PSAP/CHRNB4/ASAH1/CSTB/SNAP23/DNASE1L1/GSN/GAA/AZU1/RAB37/PRTN3/HP/SDCBP/GUSB/BPI/STOM/ARPC5/TICAM2/GLA/IQGAP2/ANXA2/NEU1/FUCA2/GM2A/NFKB1/CD55/PLD1/ARSA/RHOF/GNS/IQGAP1/IMPDH1                                                                                                        \n",
       "GO:0043312  MCEMP1/PRG3/ADGRG3/FPR2/CXCR1/CEACAM3/FCN1/CTSG/CR1/CXCR2/LILRB3/CD177/ORM1/FCAR/S100P/ADGRE3/CLEC4C/FCGR3B/S100A9/S100A8/HK3/S100A12/LRG1/PPBP/LILRB2/LYZ/TBC1D10C/CLEC12A/TCN1/CHI3L1/ARG1/SELL/P2RX1/PGLYRP1/CD36/MMP25/DEFA4/DEFA1/FGR/CLEC4D/CAMP/ITGAX/MNDA/ADAM8/RETN/MMP9/FPR1/ARHGAP9/TTR/C5AR1/SLC11A1/SIGLEC5/ITGAL/CTSS/ORM2/PTPRC/CD14/ALOX5/EPX/CEACAM8/DOK3/MGAM/CD53/ELANE/HBB/BIN2/VNN1/OSCAR/SERPINA1/ITGB2/GMFG/TYROBP/SIGLEC14/FCER1G/FOLR3/NFAM1/CD300A/PTPN6/CD68/ANPEP/LAIR1/CFD/CRISP3/TLR2/ABCA13/PLAUR/ITGAM/PLAC8/RAB44/CTSH/FCGR2A/SIRPB1/CYBB/RNASE2/STXBP2/DOCK2/VAMP8/SIGLEC9/NCKAP1L/TNFRSF1B/PTAFR/CFP/GPR84/C3AR1/CEACAM1/SYK/PTX3/CD33/TRPM2/CYBA/PRG2/KRT1/PYCARD/GLIPR1/HPSE/LCN2/TCIRG1/PLAU/BST2/CTSZ/CTSC/MME/RNASE3/CDA/SLC2A5/FTL/HLA-B/LTF/NPC2/ALDH3B1/FGL2/GRN/S100A11/CXCL1/CTSB/B2M/UNC13D/PRAM1/PIGR/ADGRE5/CTSD/CD93/C3/MMP8/PECAM1/SERPINB1/STK10/RNASET2/FUCA1/ATP8B4/GSDMD/OLR1/RHOG/SLPI/MAN2B1/CLEC5A/CNN2/SLCO4C1/RAB27A/PRKCD/CRACR2A/NBEAL2/HLA-C/MS4A3/OSTF1/B4GALT1/TNFAIP6/CTSA/CD58/PLEKHO2/ANXA3/CREG1/SERPINA3/BST1/LGALS3/AGPAT2/KCNAB2/AOC1/HEXB/GCA/MVP/TMC6/SLC2A3/BRI3/PYGL/COTL1/CHIT1/AMPD3/HSPA6/CD63/FTH1/HVCN1/PSAP/CHRNB4/ASAH1/CSTB/SNAP23/DNASE1L1/GSN/GAA/AZU1/RAB37/PRTN3/HP/SDCBP/GUSB/BPI/STOM/ARPC5/TICAM2/GLA/IQGAP2/ANXA2/NEU1/FUCA2/GM2A/NFKB1/CD55/PLD1/ARSA/RHOF/GNS/IQGAP1/IMPDH1                                                                                                                        \n",
       "GO:0002446  MCEMP1/PRG3/ADGRG3/FPR2/CXCR1/CEACAM3/FCN1/CTSG/CR1/CXCR2/LILRB3/CD177/ORM1/FCAR/S100P/ADGRE3/CLEC4C/FCGR3B/S100A9/S100A8/HK3/S100A12/LRG1/PPBP/LILRB2/LYZ/TBC1D10C/CLEC12A/TCN1/CHI3L1/ARG1/SELL/P2RX1/PGLYRP1/CD36/MMP25/DEFA4/DEFA1/FGR/CLEC4D/CAMP/ITGAX/MNDA/ADAM8/RETN/MMP9/FPR1/ARHGAP9/TTR/C5AR1/SLC11A1/SIGLEC5/ITGAL/CTSS/ORM2/PTPRC/CD14/ALOX5/EPX/CEACAM8/DOK3/MGAM/CD53/ELANE/HBB/BIN2/VNN1/OSCAR/SERPINA1/ITGB2/GMFG/TYROBP/SIGLEC14/FCER1G/FOLR3/NFAM1/CD300A/PTPN6/CD68/ANPEP/LAIR1/CFD/CRISP3/TLR2/ABCA13/PLAUR/ITGAM/PLAC8/RAB44/CTSH/FCGR2A/SIRPB1/CYBB/DNASE1L3/RNASE2/IL6/STXBP2/DOCK2/VAMP8/SIGLEC9/NCKAP1L/TNFRSF1B/PTAFR/CFP/GPR84/C3AR1/CEACAM1/SYK/PTX3/CD33/TRPM2/CYBA/PRG2/KRT1/PYCARD/GLIPR1/HPSE/LCN2/TCIRG1/PLAU/BST2/CTSZ/CTSC/MME/RNASE3/CDA/SLC2A5/FTL/HLA-B/LTF/NPC2/ALDH3B1/FGL2/GRN/S100A11/CXCL1/CTSB/B2M/UNC13D/PRAM1/PIGR/ADGRE5/CTSD/CD93/C3/MMP8/PECAM1/SERPINB1/STK10/RNASET2/FUCA1/ATP8B4/GSDMD/OLR1/RHOG/SLPI/MAN2B1/CLEC5A/CNN2/SLCO4C1/RAB27A/PRKCD/CRACR2A/NBEAL2/HLA-C/MS4A3/OSTF1/B4GALT1/TNFAIP6/CTSA/CD58/PLEKHO2/ANXA3/CREG1/SERPINA3/BST1/LGALS3/AGPAT2/KCNAB2/AOC1/HEXB/GCA/MVP/TMC6/SLC2A3/BRI3/PYGL/COTL1/CHIT1/AMPD3/HSPA6/CD63/FTH1/HVCN1/PSAP/CHRNB4/ASAH1/CSTB/CXCL6/SNAP23/DNASE1L1/GSN/GAA/AZU1/RAB37/PRTN3/HP/SDCBP/GUSB/BPI/STOM/ARPC5/TICAM2/GLA/IQGAP2/ANXA2/NEU1/FUCA2/GM2A/NFKB1/CD55/PLD1/ARSA/RHOF/GNS/IQGAP1/IMPDH1                                                                                                     \n",
       "GO:00301681 BLK/LCK/GP1BA/SELP/P2RX1/COMP/PF4/CD40LG/PLEK/GP9/LCP2/HBB/FERMT3/CLEC1B/FCER1G/PIK3R5/VAV1/PTPN6/TXK/GATA1/TSPAN32/TREML1/IL6/PF4V1/CEACAM1/THBD/GNA15/ALOX12/SYK/PIK3CG/LYN/PLCG2/COL1A1/MYL9/COL1A2/PIK3R6/TEC/ITGA2B/TLR4/SAA1/COL3A1/CD40/PRKCD/ARRB2/SH2B3/APOE/GNA14/C1QTNF1/PLSCR1/CLIC1/PRKCH/MYL12A/FN1/NOS3/MERTK/ITGB3/PDGFB/MYH9/VAV3/DGKA/VWF/F11R/ITPR3/ADRA2A/P2RY12/F2RL3/PRKCQ/ACTB/RAP2B/FLNA/AXL/HSPB1/PDPN/PLA2G4A/F2RL2/TLN1/VCL/TRPC6/F8/UBASH3B                                                                                                                                                                                                                                                                                                                                                                                                                                                                                                                                                                                                                                                                                                                                                                                                                                                                                                                                                                                                                         \n",
       "GO:00457661 CCL24/CXCR2/CMA1/CCL11/LRG1/CHI3L1/IL10/ITGAX/C5AR1/CCR3/ITGB2/HMOX1/CTSH/CYBB/C3AR1/IL1B/EPHA1/C6/SERPINE1/CYP1B1/CELA1/TMIGD2/HGF/CXCR4/CXCL8/GRN/GHRL/PIK3R6/ADM2/C3/ENG/MDK/ADAM12/TGFBR2/SRPX2/CD40/RRAS/THBS1/ITGA5/ZC3H12A/PTGS2/ANXA1/IL1A/SFRP2/ANXA3/VEGFC/CX3CR1/FOXC2/NRP1/SPHK1/PTK2B/NOS3/ADM/RUNX1/TNFSF12/TBXA2R/CIB1/TLR3/ECM1/ETS1/CDH5/BTG1/ACVRL1/TWIST1/KLF4/SMOC2/CD34/RHOJ/HSPB6/HSPB1/MYDGF/PTGIS/APLNR/XBP1/ITGB1/ANGPTL4/RAMP2/GATA6/HDAC7/PRKD2/PLK2/RLN2/MAP3K3                                                                                                                                                                                                                                                                                                                                                                                                                                                                                                                                                                                                                                                                                                                                                                                                                                                                                                                                                                                                     \n",
       "GO:0050867  IGLL5/FCRL3/CD209/LILRA5/CD27/CD177/CCL5/CCR7/ICOS/CD3E/IL2RA/CCL19/SIRPG/LCK/STAP1/CD2/IFNG/LILRB2/IL7R/CTLA4/SELP/CD5/PDCD1/LBP/GRAP2/CCR2/BTLA/CD28/TNFSF11/CD6/FGR/CLEC4D/CCL21/CD40LG/PLEK/IL10/ADAM8/ZAP70/RHOH/LEP/PTPN22/PTPRC/TNFSF14/JAK3/CCL3/SASH3/VNN1/ITGB2/LILRB1/TYROBP/FCER1G/VAV1/CLECL1/PTPN6/TBX21/TNFRSF14/BTK/CD74/HLA-DMB/GPR183/CLEC7A/IL12RB1/ITGAM/CD80/RUNX3/HLA-DPB1/CD4/NOD2/CRLF2/GATA3/CD1D/SIRPB1/LILRB4/PDCD1LG2/LGALS9/RASAL3/IL6/LILRA2/VAMP8/AIF1/HLA-G/TESPA1/NLRP3/NCKAP1L/HLA-DPA1/VCAM1/PTAFR/IL12B/CORO1A/IL1B/HLA-F/KLRK1/SYK/CARD11/CD86/CD70/CD160/PYCARD/EBI3/CD274/TNFSF13B/HAVCR2/MAP3K8/IL15/IL2/LYN/TNFSF13/FOXP3/IL4R/CCDC88B/CTSC/IL23A/SOCS1/TREM2/DOCK8/TMIGD2/CD226/TLR6/DPP4/IL18/PIK3R6/XCL1/TNFRSF4/SPTA1/INPP5D/NFKBIZ/CEBPA/CAPN3/HLA-E/MDK/TLR4/CCL2/MMP8/IL1RL1/CLCF1/TGFBR2/STAT6/ADA/CD40/IL4/HLA-A/EGR3/HLX/RPS6KA1/TGFB1/TSLP/IGF1/NFKBID/THBS1/ANXA1/MMP14/IL23R/IL1A/IL21/CD24/CD83/BST1/CDKN1A/FLT3LG/KLRC4-KLRK1/IL27RA/ICOSLG/HAVCR1/IL33/LGALS1/RUNX1/NR4A3/BTN2A2/VAV3/LEF1/SHH/MYB/RASGRP1/CD38/F11R/ZBTB7B/TNFSF4/NFATC2                                                                                                                                                                                                                                                                                                                                                                                              \n",
       "GO:0045785  CD209/CD27/CXCL13/CCL5/CCR7/ICOS/CD3E/IL2RA/CCL19/AGR2/SIRPG/LCK/IFNG/LILRB2/IL7R/CTLA4/SELP/CD5/PDCD1/GRAP2/CCR2/CD36/BTLA/CD28/TNFSF11/CD6/SELE/CCL21/CD40LG/SKAP1/IL10/FUT7/ADAM8/ZAP70/RHOH/EGFL6/LEP/PTPN22/PTPRC/ALOX5/MYOC/TNFSF14/JAK3/ELANE/SASH3/VNN1/TNFSF18/ITGB2/LILRB1/VAV1/CLECL1/PTPN6/TNFRSF14/CD74/HLA-DMB/IL12RB1/PLAUR/CD80/RUNX3/HLA-DPB1/CD4/NOD2/GATA3/CD1D/SIRPB1/LILRB4/PDCD1LG2/LGALS9/RASAL3/IL6/AIF1/HLA-G/APBB1IP/TESPA1/NLRP3/CASS4/NCKAP1L/HLA-DPA1/VCAM1/PTAFR/IL12B/CXCL12/CORO1A/IL1B/ALOX15/EPHA1/ICAM1/KLRK1/SYK/CARD11/CD86/CD70/CD160/PYCARD/DYSF/EBI3/CD274/TNFSF13B/HAVCR2/MAP3K8/IL15/IL2/LYN/FOXP3/IL4R/CCDC88B/IL23A/SOCS1/TNFRSF18/ITGA4/DOCK8/TMIGD2/DPP4/IL18/PIK3R6/XCL1/UNC13D/SPTA1/NFKBIZ/HLA-E/MDK/TGM2/CCL2/SAA1/IBSP/TGFBR2/ADA/IL4/HLA-A/RRAS/EGR3/HLX/IGF1/RHOD/TNF/NFKBID/ITGA5/ANXA1/LIF/IL23R/IL1A/IL21/SFRP2/CSF1/CD24/CD83/FOXC2/KLRC4-KLRK1/NRP1/FN1/IL27RA/TMEM102/PTK2B/ICOSLG/NINJ1/STX3/LGALS1/RUNX1/EMILIN1/CIB1/NR4A3/BTN2A2/WNT4/VAV3/CCL28/LEF1/SHH/MYB/RASGRP1/F11R/EGFLAM/ADAM19/VTN/ETS1/DOCK5/VIT/RREB1/AZU1/ZBTB7B/TNFSF4/S100A10/FMN1/CSK/P2RY12/FSTL3/PLEKHA2/SMOC2/CD276/CD55/PRKCQ/IQGAP1/IL1RL2                                                                                                                                                                                                                                                                                                                  \n",
       "GO:00509211 CCL7/FPR2/CXCR2/CXCL10/CXCL13/CCL5/CCR7/CCL19/CCR4/CCR6/LBP/CCR2/RAC2/CCL21/CCL4/XCL2/C5AR1/TNFSF14/CCL3/CCR1/GPSM3/CD74/LGALS9/IL6/AIF1/NCKAP1L/CXCL12/C3AR1/CCL26/SERPINE1/DYSF/CMKLR1/CSF1R/IL23A/TREM2/CXCR4/CXCL8/IL16/IL6R/PLA2G7/XCL1/LGMN/MDK/SUCNR1/IL4/TGFB1/THBS1/TMSB4X/CSF1/CCL1/VEGFC/NRP1/TMEM102/PTK2B/STX3/PDGFB/RARRES2/AZU1/CXCL14/SCG2/P2RY12/TRPV4/SMOC2/P2RX4/IL12A/HSPB1/STX4/FGF16/IL34/S100A14/GAS6                                                                                                                                                                                                                                                                                                                                                                                                                                                                                                                                                                                                                                                                                                                                                                                                                                                                                                                                                                                                                                                                    \n",
       "GO:0001819  PRG3/FCN1/LILRA5/SERPINB7/FFAR2/ORM1/POU2AF1/CCR7/SLAMF6/CD3E/CCL19/LTB/LY9/CD2/IFNG/LILRB2/PYHIN1/OSM/LBP/NLRP12/CCR2/IRF4/CD36/CD28/ZBP1/CD6/FGR/GBP5/PF4/TIGIT/CD40LG/TLR8/IL10/MNDA/ADAM8/IDO1/LEP/PTPN22/C5AR1/SLC11A1/LUM/ORM2/PTPRC/CD14/EPX/CLNK/EREG/LY96/CCL3/FFAR3/ELANE/IL27/SASH3/CD244/CLEC4E/LILRB1/TYROBP/FCER1G/GPSM3/CLEC6A/NFAM1/KIR2DL4/TXK/TNFRSF14/CD74/TLR2/CLEC7A/IL12RB1/SCIMP/CD80/MCOLN2/HLA-DPB1/CD4/NOD2/LTA/CRLF2/GATA3/LGALS9/IL6/LILRA2/AIF1/HLA-G/NLRP3/HLA-DPA1/PTAFR/IFNL1/IL12B/C3AR1/BIRC3/CASP1/IL1B/HLA-F/IRF8/NLRC4/AIM2/KLRK1/SYK/IL18R1/CARD11/PTGER4/CD86/CYBA/CD160/TLR7/HTR2B/PYCARD/SERPINE1/EBI3/CD274/BCL3/HAVCR2/HPSE/IL15/IL2/FOXP3/SPON2/CCDC88B/IL23A/TREM2/PLCG2/CEBPB/CYP1B1/TMIGD2/IRF5/CD226/HGF/TLR6/TLR1/CRTAM/IL16/IL6R/TLR5/IL18/XCL1/B2M/CLEC9A/CASP8/POU2F2/HLA-E/IRF1/C3/IL1R1/CSF2/MDK/TLR4/MMP8/IL1RL1/SAA1/GSDMD/CARD9/STAT6/CD40/CLEC5A/IL4/NFKB2/NLRP10/HLA-A/MAPK13/TGFB1/TSLP/TNF/THBS1/PTGS2/ANXA1/IL23R/IL1A/IL21/IL12RB2/MYD88/RSAD2/CD58/NOX1/IRF7/IFI16/CCL1/RNF135/CD83/RNF125/AGPAT2/EGR1/KLRC4-KLRK1/SPHK1/IL27RA/IL17RA/ADIPOQ/IFIH1/IL33/RUNX1/NR4A3/TLR3/DDX60/DHX58/MYB/RASGRP1/RAB7B/RAET1G/AZU1/TNFSF4/NOD1/ADRA2A/TRPV4/TWIST1/CD276/IRF3/NFKB1/CD34/PRKCQ/IL1RL2/STAT1                                                                                                                                                                                                                                    \n",
       "GO:00703741 CCL7/FGF4/CCL24/MARCO/CCL13/FPR2/CCL5/CCR7/CCL19/SLAMF1/PLA2G2A/CCL11/CHI3L1/GPNMB/CCL17/CCL22/CD36/CCL23/TNFSF11/CCL21/CCL4/CCL8/CCL18/PTPN22/XCL2/C5AR1/PTPRC/CCL3/CCL3L3/CCR1/C5AR2/CCL14/CD74/GPR183/SCIMP/CD4/NOD2/LGALS9/CCL20/ALOX15/HLA-DRB1/ICAM1/HTR2B/PYCARD/GPR55/CCL26/HAVCR2/TNFRSF11A/CSF1R/TREM2/GPBAR1/FFAR4/XCL1/P2RY6/TLR4/CCL2/ABCA7/TNFAIP8L3/TGFB1/TNF/ARRB2/APOE/CCL1/PLA2G5/NRP1/PTK2B/PDGFB/CIB1/NTRK1/CCL16/RASGRP1/SHC1                                                                                                                                                                                                                                                                                                                                                                                                                                                                                                                                                                                                                                                                                                                                                                                                                                                                                                                                                                                                                                              \n",
       "GO:00507311 LILRA5/CCL5/CD3E/STAP1/IL24/IFNG/OSM/CD36/NCF1/LEP/AREG/PTPRC/EREG/BANK1/TNFSF18/CSF3/TNFRSF14/CD74/GATA1/CD80/HCLS1/CD4/IL11/IL6/CASS4/IFNL1/IL12B/FCGR1A/ICAM1/SYK/IL15/IL2/CSF1R/LYN/FLT3/IL23A/TREM2/TNFRSF18/HGF/IL6R/GHRL/IL18/TEC/CSF2/TDGF1/SOCS3/PECAM1/CLCF1/IL31RA/CD40/IL4/TGFB1/TSLP/IGF1/TNF/ITGA5/ARRB2/LIF/IL23R/IL21/HBEGF/CD24/GH1/BTC/LRRK1/NRP1/PTK2B/ADIPOQ/TNFRSF1A/ITGB3/EHD4/PARP9/PDGFB/PARP14/CSH2/FGF7/VTN                                                                                                                                                                                                                                                                                                                                                                                                                                                                                                                                                                                                                                                                                                                                                                                                                                                                                                                                                                                                                                                           \n",
       "GO:00028331 FPR2/IL18RAP/CD209/FCN1/FFAR2/CCL5/SLAMF6/CLEC4C/CLEC10A/SH2D1A/PYHIN1/ARG1/LBP/ZBP1/CLEC4D/GBP5/TLR8/MNDA/ADAM8/ICAM3/NCR3/CLNK/HCK/EREG/LY96/CLEC4E/FCER1G/CLEC6A/VAV1/CD180/KIR2DL4/TXK/SCIMP/CD1D/LILRA2/HLA-G/IL12B/LY86/CLEC4A/HLA-F/NLRC4/AIM2/KLRK1/SYK/CARD11/CYBA/CD160/PYCARD/CD274/HAVCR2/PSMB9/LYN/MUC12/PLCG2/IKBKE/SH2D1B/CD226/GRN/CRTAM/LAG3/RELB/NLRC5/MUC3A/HLA-E/PSMB8/TLR4/MMP12/CARD9/NLRP10/PSMB10/PRKCD/IL21/PLSCR1/IRF7/IFI16/MR1/PLA2G5/ICAM2/KLRC4-KLRK1/PARP9/PSME2/DDX60/DHX58/RASGRP1/RAET1G/NOD1/PSME1/IRF3/RAET1E/NFKB1                                                                                                                                                                                                                                                                                                                                                                                                                                                                                                                                                                                                                                                                                                                                                                                                                                                                                                                                         \n",
       "GO:0032103  CCL7/CCL24/FPR2/IL18RAP/CD209/FCN1/LILRA5/CXCR2/FFAR2/CXCL10/CXCL13/CCL5/CCR7/SLAMF6/CLEC4C/CCL19/CCR4/CCR6/S100A9/S100A8/PLA2G2A/STAP1/S100A12/IFNG/CLEC10A/SH2D1A/PYHIN1/OSM/ARG1/LBP/NLRP12/CCR2/RAC2/CD28/ZBP1/TNFSF11/CD6/CLEC4D/GBP5/CCL21/CCL4/TLR8/MNDA/ADAM8/ICAM3/IDO1/XCL2/C5AR1/NCR3/CLNK/HCK/FABP4/TNFSF14/EREG/LY96/CCL3/FFAR3/CCR1/CLEC4E/TLR10/FCER1G/GPSM3/CLEC6A/VAV1/CD180/KIR2DL4/TXK/BTK/CD74/TLR2/CLEC7A/SCIMP/NOD2/LTA/CD1D/LGALS9/IL6/LILRA2/VAMP8/AIF1/HLA-G/NCKAP1L/IL12B/CXCL12/C3AR1/LY86/CLEC4A/IL1B/HLA-F/THBD/NLRC4/AIM2/KLRK1/SYK/CARD11/PTGER4/CYBA/CD160/TLR7/PYCARD/CCL26/SERPINE1/DYSF/CMKLR1/PIK3CG/HAVCR2/TNFRSF11A/PSMB9/IL15/IL2/CSF1R/LYN/MUC12/CTSC/IL23A/TREM2/PLCG2/IKBKE/CEBPB/SH2D1B/CD226/CXCR4/TLR6/CXCL8/GRN/CRTAM/IL16/IL6R/PLA2G7/GHRL/IL18/LAG3/XCL1/RELB/NLRC5/MUC3A/NFKBIZ/CEBPA/LGMN/HLA-E/C3/PSMB8/MDK/TGM2/TLR4/MMP8/IL1RL1/MMP12/CARD9/SUCNR1/IL4/NLRP10/PSMB10/MAPK13/NUPR1/PRKCD/TGFB1/TSLP/TNF/THBS1/PTGS2/TRADD/IL21/MYD88/PLSCR1/TMSB4X/IRF7/IFI16/CSF1/CCL1/VEGFC/PLA2G5/SCARF1/ICAM2/KLRC4-KLRK1/NRP1/TMEM102/IL17RA/PTK2B/MGST2/TNFRSF1A/IL33/STX3/PARP9/PDGFB/NFKBIA/TLR3/PSME2/DDX60/DHX58/RASGRP1/RARRES2/ETS1/RAET1G/AZU1/CXCL14/TNFSF4/NOD1/SCG2/P2RY12/C2CD4B/GPR4/PSME1/TRPV4/SMOC2/LRRK2/IRF3/RAET1E/NFKB1/OSMR                                                                                                                                                                                                       \n",
       "GO:19040181 CCL24/SERPINB7/CXCR2/CMA1/CCL11/LRG1/CHI3L1/IL10/ITGAX/C5AR1/CCR3/ITGB2/HMOX1/CTSH/CYBB/C3AR1/CEACAM1/IL1B/EPHA1/C6/SERPINE1/CYP1B1/CELA1/TMIGD2/HGF/CXCR4/CXCL8/GRN/IL6R/GHRL/PIK3R6/ADM2/C3/ENG/MDK/SOD2/ADAM12/TGFBR2/SRPX2/CD40/RRAS/THBS1/ITGA5/ZC3H12A/PTGS2/ANXA1/IL1A/SFRP2/ANXA3/VEGFC/CX3CR1/EGR1/FOXC2/NRP1/SPHK1/PTK2B/NOS3/ADM/RUNX1/TNFSF12/TBXA2R/PDGFB/CIB1/TLR3/ECM1/ETS1/CDH5/BTG1/ACVRL1/TWIST1/KLF4/SMOC2/CD34/RHOJ/HSPB6/HSPB1/MYDGF/CFLAR/PTGIS/APLNR/XBP1/ITGB1/ANGPTL4/RAMP2/GATA6/HDAC7/PRKD2                                                                                                                                                                                                                                                                                                                                                                                                                                                                                                                                                                                                                                                                                                                                                                                                                                                                                                                                                                          \n",
       "GO:0022407  BLK/CD209/PLA2G2D/CLEC4G/CD27/CXCL13/CCL5/CCR7/ICOS/CD3E/IL2RA/CCL19/FCGR2B/SIRPG/LCK/IFNG/LILRB2/IL7R/CTLA4/ARG1/SELP/CD5/PDCD1/GRAP2/GPNMB/LAX1/CCR2/BTLA/CD28/TNFSF11/CD6/SELE/CCL21/TIGIT/CD40LG/SKAP1/IL10/FUT7/IL1RN/ADAM8/IDO1/ZAP70/RHOH/LEP/PTPN22/PTPRC/ALOX5/TNFSF14/JAK3/ELANE/SASH3/FERMT3/VNN1/ITGB2/LILRB1/VAV1/CD300A/CLECL1/PTPN6/TBX21/TNFRSF14/CD74/HLA-DMB/IL12RB1/PLAUR/VSIG4/CD80/RUNX3/HLA-DPB1/CD4/NOD2/GATA3/CD1D/SIRPB1/TNFAIP8L2/LILRB4/PDCD1LG2/LGALS9/RASAL3/IL6/AIF1/HLA-G/TESPA1/NLRP3/NCKAP1L/HLA-DPA1/VCAM1/PTAFR/IFNL1/IL12B/CXCL12/CEACAM1/LGALS9C/CORO1A/IL1B/ALOX15/ALOX12/HLA-DRB1/ICAM1/KLRK1/SYK/CARD11/CD86/CD70/SPN/CD160/PYCARD/EBI3/CD274/TNFSF13B/HAVCR2/MAP3K8/IL15/IL2/FXYD5/LYN/FOXP3/IL4R/CCDC88B/IL23A/SOCS1/CEBPB/ITGA4/DOCK8/TMIGD2/FGL2/DPP4/CRTAM/IL18/PIK3R6/LAG3/XCL1/SPTA1/NFKBIZ/HLA-E/IRF1/MDK/CCL2/TGFBR2/ADA/ADTRP/IL4/HLA-A/EGR3/HLX/PRKCD/TGFB1/IGF1/TNF/NFKBID/AKNA/ZC3H12A/SH2B3/ANXA1/IL23R/IL1A/IL21/C1QTNF1/CD24/LRRC32/CD83/LGALS3/KLRC4-KLRK1/LGALS9B/IL27RA/HFE/ICOSLG/ADIPOQ/LGALS1/RUNX1/NR4A3/BTN2A2/WNT4/CCL28/LEF1/SHH/MYB/RASGRP1/F11R/ADAM19/ETS1/ASS1/ZBTB7B/TNFSF4                                                                                                                                                                                                                                                                                                                                              \n",
       "GO:00509201 CCL7/FGF4/FPR2/CXCR2/CXCL10/CXCL13/CCL5/CCR7/CCL19/CCR4/CCR6/STAP1/GPR18/LBP/CCR2/RAC2/CCL21/SLAMF8/CCL4/XCL2/C5AR1/TNFSF14/CCL3/CCR1/ELANE/C5AR2/GPSM3/CD74/GPR183/LGALS9/IL6/AIF1/NCKAP1L/CXCL12/C3AR1/KLRK1/POU4F2/CCL26/SERPINE1/DYSF/CMKLR1/CYP19A1/CSF1R/LYN/IL23A/TREM2/CXCR4/CXCL8/DPP4/IL16/IL6R/PLA2G7/DUSP1/XCL1/LGMN/MDK/CCL2/SUCNR1/IL4/TGFB1/THBS1/TMSB4X/CSF1/CCL1/VEGFC/BST1/MPP1/KLRC4-KLRK1/NRP1/TMEM102/PTK2B/STX3/PDGFB/SLC8B1/RARRES2/AZU1/CXCL14/SCG2/P2RY12/TRPV4/SMOC2/NBL1/P2RX4/PTPN2/SEMA4A/SEMA3F/ADGRA2/IL12A/HSPB1/STX4/CORO1B/SEMA3C/FGF16/IL34/S100A14/GAS6                                                                                                                                                                                                                                                                                                                                                                                                                                                                                                                                                                                                                                                                                                                                                                                                                                                                                                     \n",
       "GO:00703721 CCL7/FGF4/CCL24/MARCO/CCL13/FPR2/NLRP6/CCL5/CCR7/CCL19/SLAMF1/PLA2G2A/CCL11/TBC1D10C/CHI3L1/GPNMB/CCL17/NLRP12/CCL22/CD36/CCL23/CRYBA1/TNFSF11/CCL21/CCL4/CCL8/CCL18/PTPN22/XCL2/C5AR1/PTPRC/CCL3/CCL3L3/CCR1/C5AR2/PTPN6/CCL14/CD74/GPR183/SCIMP/CD4/NOD2/LGALS9/CCL20/CEACAM1/IL1B/ALOX15/HLA-DRB1/ICAM1/SYK/HTR2B/PYCARD/GPR55/CCL26/HAVCR2/TNFRSF11A/CSF1R/LYN/TREM2/GPBAR1/FFAR4/DUSP1/XCL1/GBP1/P2RY6/TLR4/CCL2/ABCA7/TNFAIP8L3/RRAS/TGFB1/TNF/ARRB2/APOE/LIF/CCL1/PLA2G5/RGS14/NRP1/FN1/PTK2B/ADIPOQ/ATF3/EMILIN1/PDGFB/CIB1/BTN2A2/NTRK1/CCL16/RASGRP1/SHC1                                                                                                                                                                                                                                                                                                                                                                                                                                                                                                                                                                                                                                                                                                                                                                                                                                                                                                                             \n",
       "GO:1903706  FCRL3/CR1/LILRB3/CD27/IL2RA/CCL19/FCGR2B/IKZF3/CD2/IFNG/LILRB2/IL7R/CTLA4/OSM/GP1BA/CSF3R/PGLYRP1/CCR2/IRF4/CD28/GPR171/TNFSF11/PF4/SLAMF8/NFE2/ADAM8/SIGLEC15/ZAP70/RHOH/PTPRC/JAK3/SPI1/CCL3/CCR1/ZNF683/IL27/SASH3/VNN1/EVI2B/LILRB1/TYROBP/NFAM1/C1QC/PTPN6/TBX21/CSF3/BTK/CD74/GATA1/IL12RB1/CD80/RUNX3/HCLS1/CD4/GATA3/LILRB4/LGALS9/HLA-DOA/HLA-G/TESPA1/NLRP3/NCKAP1L/IFNL1/IL12B/CEACAM1/IL1B/HLA-DRB1/MAFB/SYK/CARD11/CD86/POU4F2/GFI1B/GPR55/PSMB9/IL15/IL2/LYN/FOXP3/IL4R/IL23A/SOCS1/TREM2/CEBPB/TNFRSF18/MYL9/HLA-B/LTF/FGL2/FES/PRDM1/CRTAM/SLC46A2/ZFP36/IL18/PIK3R6/LAG3/B2M/ITGA2B/CASP8/INPP5D/NFKBIZ/IRF1/PSMB8/CSF2/MDK/TLR4/SCIN/DCSTAMP/TGFBR2/FOS/ADA/IL4/PSMB10/EGR3/HLX/TGFB1/TNF/NFKBID/THBS1/ZC3H12A/ANXA1/LIF/MMP14/IL23R/IL1A/IRF7/CSF1/TMEM176B/CD83/LGALS3/ISG15/FLT3LG/TRIM58/PTK2B/ADIPOQ/CARTPT/RUNX1/TCF7/CIB1/NR4A3/BTN2A2/NFKBIA/TLR3/PSME2/LEF1/SHH/MYB/TMEM176A/RASGRP1/LMO2/RAB7B/ETS1/TRIB1/ZBTB7B/TNFSF4/NFATC2/FSTL3/PSME1/ZFP36L2/MITF/PIM1/PRKCQ/IL1RL2/STAT1/PTPN2/IL12A/AXL/FOXC1/PGLYRP2/FBN1/PSMA8/IL7/TESC/LOX/XBP1/IL34/GAS6/ZFP36L1/ESRRA/MEF2C/CA2/TNFSF9/TLR9/PSMA3                                                                                                                                                                                                                                                                                                                                                                      \n",
       "GO:00431221 UBD/NLRP6/CCR7/CCL19/S100A12/FASLG/NLRP12/CD36/TNFSF11/CCL21/RHOH/S100A4/CLEC6A/SECTM1/CD74/HMOX1/CD4/NOD2/LGALS9/TNIP3/NLRC3/BIRC3/CASP1/IL1B/HLA-DRB1/CARD11/HTR2B/PYCARD/TNFAIP3/TNFSF10/BST2/IKBKE/APOL3/LTF/TLR6/TRIM38/TRIM22/CASP10/TMEM106A/CASP8/ALPK1/CAPN3/TGM2/TLR4/PPM1N/CARD9/CD40/TNF/NFKBID/SLC20A1/ZC3H12A/TRIM34/PIM2/TRADD/MYD88/CX3CR1/LTBR/S100A13/LITAF/ADIPOQ/TNFRSF1A/TIFA/ESR1/LGALS1/SQSTM1/TRIM21/TRAF1/TLR3/ECM1/REL/NOD1/TRIM14/TICAM2/IRF3/FKBP1A/STAT1/IRAK4/SHISA5/FLNA/HSPB1/CFLAR/MAP3K14/TRIML2/TLR9/TRIM5/TNIP2/SIRPA/TICAM1/PLK2/CARD8/IRAK1/PIDD1/TNFRSF10B/MAP3K3/NEK6/TNIP1                                                                                                                                                                                                                                                                                                                                                                                                                                                                                                                                                                                                                                                                                                                                                                                                                                                                             \n",
       "GO:0002697  MZB1/FCRL3/BLK/IL18RAP/CR1/CLEC4G/FFAR2/CD177/SLAMF6/IL2RA/CCL19/FCGR2B/CD22/STAP1/IFNG/CR2/SH2D1A/IL7R/CD19/ARG1/LBP/PGLYRP1/CLC/FCER2/CCR2/IRF4/CD36/RAC2/CD28/FGR/CD96/CD1C/CD40LG/SLAMF8/IL10/NCR1/FUT7/CD1A/LEP/CD1B/PTPN22/C5AR1/CD1E/NCR3/PTPRC/CLNK/JAK3/C1QA/FFAR3/CR1L/ZNF683/IL27/C5AR2/SASH3/CD244/ADGRE2/WAS/ITGB2/LILRB1/TYROBP/FCER1G/VAV1/CD300A/C1QC/C1QB/KIR2DL4/C2/PTPN6/TBX21/TNFRSF14/BTK/CD74/HLA-DMB/IL12RB1/ITGAM/VSIG4/SCIMP/CD80/HMOX1/NOD2/LTA/TSPAN32/RIPK3/GATA3/CD1D/LGALS9/DNASE1L3/IL6/STXBP2/VAMP8/HLA-G/NLRP3/TNFRSF1B/PTAFR/IFNL1/CFP/IL12B/CD5L/C3AR1/CEACAM1/BIRC3/IL1B/HLA-F/CD84/AIM2/CFB/ICAM1/KLRK1/SYK/C6/IL18R1/CD86/CD160/PYCARD/TNFAIP3/C7/HAVCR2/CLEC12B/IL15/IL2/LYN/TNFSF13/FOXP3/IL4R/SPON2/BST2/IL23A/MICB/APOBEC3G/SH2D1B/CD226/HLA-B/FGL2/FES/GRN/CRTAM/TRIM38/IL18/PIK3R6/C1S/LAG3/XCL1/B2M/UNC13D/IRAK3/PRAM1/TNFRSF4/NFKBIZ/HLA-E/C3/IL1R1/TLR4/CLCF1/MMP12/STAT6/C4BPB/CD40/IL4/HLA-A/NOS2/CFH/HLX/TGFB1/TNF/NFKBID/A2M/C1R/ZC3H12A/ARRB2/ANXA1/IL23R/IL21/RSAD2/SERPINB9/MR1/CFI/PLA2G5/RNF125/LGALS3/KLRC4-KLRK1/SERPING1/APOBEC3F/MICA/IL27RA/HFE/IL33/PARP9/NR4A3/TLR3/DDX60/DHX58/MYB/CXCL6/RASGRP1/DTX3L/VTN/RAET1G/ZBTB7B/TNFSF4                                                                                                                                                                                                                                                                                                 \n",
       "GO:00026881 CCL7/FPR2/CXCR2/CXCL10/CXCL13/CCL5/CCR7/CCL19/CCR6/STAP1/GPR18/LBP/CCR2/RAC2/CCL21/SLAMF8/CCL4/XCL2/C5AR1/TNFSF14/CCL3/CCR1/C5AR2/GPSM3/CD74/LGALS9/IL6/AIF1/NCKAP1L/CXCL12/C3AR1/KLRK1/SERPINE1/DYSF/CMKLR1/CYP19A1/CSF1R/LYN/IL23A/CXCL8/DPP4/IL6R/PLA2G7/DUSP1/XCL1/LGMN/MDK/CCL2/IL4/THBS1/CSF1/CCL1/VEGFC/BST1/MPP1/KLRC4-KLRK1/TMEM102/PTK2B                                                                                                                                                                                                                                                                                                                                                                                                                                                                                                                                                                                                                                                                                                                                                                                                                                                                                                                                                                                                                                                                                                                                              \n",
       "GO:0051249  IGLL5/TNFRSF13B/MZB1/FCRL3/BLK/CD209/PLA2G2D/CR1/CLEC4G/CD27/CCL5/CCR7/ICOS/CD3E/SIT1/IL2RA/CCL19/FCGR2B/CD22/SIRPG/IKZF3/LCK/CD2/IFNG/LILRB2/IL7R/TBC1D10C/CD19/CTLA4/ARG1/CD5/PDCD1/GRAP2/GPNMB/PGLYRP1/CLC/LAX1/CCR2/IRF4/RAC2/BTLA/CD28/TNFSF11/CD6/FGR/CCL21/TIGIT/CD40LG/SLAMF8/IL10/MNDA/ADAM8/IDO1/ZAP70/RHOH/LEP/PTPN22/PTPRC/CLNK/TNFSF14/JAK3/BANK1/ZNF683/IL27/SASH3/SAMSN1/VNN1/TNFSF18/LILRB1/TYROBP/VAV1/NFAM1/CD300A/CLECL1/PTPN6/TBX21/TNFRSF14/BTK/CD74/HLA-DMB/GPR183/CLEC7A/IL12RB1/VSIG4/CD80/RUNX3/HLA-DPB1/CD4/NOD2/RIPK3/GATA3/CD1D/SIRPB1/TNFSF8/TNFAIP8L2/LILRB4/PDCD1LG2/LGALS9/RASAL3/HLA-DOA/IL6/AIF1/HLA-G/TESPA1/NLRP3/NCKAP1L/HLA-DPA1/VCAM1/TNFRSF1B/IFNL1/LST1/IL12B/CEACAM1/LGALS9C/CORO1A/IL1B/HLA-F/HLA-DRB1/KLRK1/SYK/CARD11/CD86/CD70/SPN/CD160/PYCARD/LAT/EBI3/TNFAIP3/CD274/TNFSF13B/HAVCR2/MAP3K8/IL15/IL2/LYN/TNFSF13/FOXP3/IL4R/CCDC88B/IL23A/SOCS1/CEBPB/TNFRSF18/DOCK8/TMIGD2/FGL2/PRDM1/DPP4/CRTAM/SLC46A2/IL18/PIK3R6/LAG3/XCL1/TNFRSF4/SPTA1/INPP5D/NFKBIZ/HLA-E/IRF1/MDK/TLR4/CCL2/CLCF1/TGFBR2/STAT6/ADA/CD40/IL4/HLA-A/EGR3/HLX/TGFB1/GAL/IGF1/NFKBID/ZC3H12A/ANXA1/MMP14/IL23R/IL1A/IL21/CD24/LRRC32/CD83/BST1/LGALS3/CDKN1A/FLT3LG/KLRC4-KLRK1/AHR/LGALS9B/MICA/IL27RA/HFE/ICOSLG/LGALS1/MERTK/RUNX1/TCF7/BTN2A2/VAV3/LEF1/SHH/MYB/RASGRP1/CD38/GSN/ZBTB7B/TNFSF4/NFATC2                                                                                                                                                                  \n",
       "GO:00027611 LILRB3/IFNG/TNFSF11/PF4/SIGLEC15/CCL3/CCR1/EVI2B/LILRB1/TYROBP/C1QC/CD74/HCLS1/CD4/LILRB4/IL12B/CEACAM1/HLA-DRB1/MAFB/POU4F2/GPR55/LYN/IL23A/TREM2/CEBPB/LTF/FES/CASP8/INPP5D/TLR4/DCSTAMP/FOS/IL4/TGFB1/TNF/LIF/IL23R/IRF7/CSF1/ADIPOQ/CARTPT/RUNX1/TLR3/LEF1/TRIB1/FSTL3/MITF/PTPN2/FBN1/TESC/IL34/ZFP36L1/ESRRA/CA2                                                                                                                                                                                                                                                                                                                                                                                                                                                                                                                                                                                                                                                                                                                                                                                                                                                                                                                                                                                                                                                                                                                                                                          \n",
       "GO:0002831  FPR2/TREML2/IL18RAP/CD209/FCN1/CR1/FFAR2/CCL5/SLAMF6/IL2RA/CLEC4C/FCGR2B/IFNG/CLEC10A/SH2D1A/PYHIN1/ARG1/LBP/CD36/ZBP1/FGR/CD96/CLEC4D/GBP5/SLAMF8/TLR8/NCR1/MNDA/ADAM8/ICAM3/LEP/PTPN22/NCR3/CLNK/HCK/EREG/LY96/IL27/CLEC4E/LILRB1/FCER1G/CLEC6A/VAV1/CD180/KIR2DL4/PTPN6/TXK/IL12RB1/VSIG4/SCIMP/TREML4/TSPAN32/CD1D/LGALS9/LILRA2/HLA-G/IL12B/CEACAM1/NLRC3/LY86/BIRC3/CLEC4A/IL1B/HLA-F/NLRC4/AIM2/KLRK1/SYK/CARD11/CYBA/CD160/PYCARD/TNFAIP3/CD274/HAVCR2/CLEC12B/PSMB9/IL15/LYN/MUC12/IL23A/SOCS1/TREM2/PLCG2/IKBKE/MICB/APOBEC3G/SH2D1B/CD226/HLA-B/LTF/FGL2/GRN/CRTAM/TRIM38/PIK3R6/LAG3/RELB/NLRC5/IRAK3/MUC3A/HLA-E/IRF1/PSMB8/TLR4/SOCS3/MMP12/CARD9/IL4/NLRP10/HLA-A/PSMB10/NR1H3/PRKCD/NMI/A2M/ZC3H12A/ARRB2/APOE/IL23R/IL21/PPARG/PLSCR1/SERPINB9/IRF7/IFI16/MR1/PLA2G5/RNF135/RNF125/ICAM2/KLRC4-KLRK1/SERPING1/APOBEC3F/MICA/PARP9/PARP14/PSME2/DDX60/DHX58/CXCL6/RASGRP1/SIGIRR/IFNGR1/DTX3L/TRIB1/RAET1G/NOD1/USP18/PSME1/IRF3/RAET1E/NFKB1/CD55/SAMHD1/STAT1/IFNGR2/HERC5/PTPN2                                                                                                                                                                                                                                                                                                                                                                                                                                                                                              \n",
       "GO:19013421 CCL24/SERPINB7/CXCR2/CXCL10/CMA1/CXCL13/CCL11/LRG1/FASLG/CHI3L1/GPNMB/PROK2/CCR2/PF4/IL10/ITGAX/LEP/C5AR1/CCR3/ALOX5/PROK1/ITGB2/HMOX1/CTSH/CYBB/IL6/HLA-G/STAB1/IL12B/C3AR1/CEACAM1/IL1B/EPHA1/C6/CD160/KRT1/SERPINE1/TNFAIP3/CYP1B1/CELA1/TMIGD2/HGF/CXCR4/CXCL8/GRN/IL6R/SERPINF1/GHRL/PIK3R6/ADM2/C3/ENG/MDK/SOD2/ADAM12/KLF2/ANGPTL7/HHEX/TGFBR2/DCN/SRPX2/CD40/SP100/RRAS/TNF/THBS1/ITGA5/ZC3H12A/PTGS2/PLXND1/ANXA1/IL1A/PPARG/SFRP2/TNFRSF12A/ANXA3/VEGFC/HTATIP2/CX3CR1/THBS2/EGR1/FOXC2/NRP1/SPHK1/PTK2B/NOS3/ADM/RUNX1/TNFSF12/TBXA2R/EMILIN1/PDGFB/CIB1/TLR3/WNT4/ADAMTS1/CARD10/ECSCR/ECM1/ETS1/CDH5/NFATC2/BTG1/GPR4/PML/ACVRL1/TWIST1/KLF4/SMOC2/HSPG2/MMRN2/CD34/NGFR/STAT1/SEMA4A/ADGRA2/RHOJ/IL12A/HSPB6/HSPB1/MYDGF/CFLAR/FOXC1/EPHA2/NPR1/PTGIS/COL4A2/APLNR/XBP1/MEOX2/ITGB1                                                                                                                                                                                                                                                                                                                                                                                                                                                                                                                                                                                                                                                                                               \n",
       "GO:0042110  TREML2/HSH2D/CD209/PLA2G2D/CR1/CLEC4G/CD27/CD3D/CCL5/CCR7/ICOS/SLAMF6/CD3E/SIT1/IL2RA/CCL19/FCGR2B/CCR6/SIRPG/CD3G/LCK/LY9/GPR18/CD2/IFNG/LILRB2/IL7R/BATF/CTLA4/ARG1/CD8B/CD5/PDCD1/GRAP2/GPNMB/CLC/LAX1/CCR2/IRF4/RAC2/BTLA/CD28/ITK/TNFSF11/CD6/CLEC4D/THEMIS/CD1C/CCL21/TIGIT/CD40LG/CD7/IL10/FUT7/SLA2/ADAM8/IDO1/ZAP70/RHOH/LEP/PTPN22/EOMES/CD8A/LCP1/SLC11A1/ITGAL/PTPRC/TNFSF14/JAK3/ZNF683/IL27/SASH3/VNN1/TNFSF18/WAS/CLEC4E/LILRB1/FCER1G/VAV1/CD300A/CLECL1/PTPN6/TBX21/TNFRSF14/CD74/HLA-DMB/GPR183/CLEC7A/IL12RB1/VSIG4/CD80/RUNX3/HLA-DPB1/CD4/NOD2/RIPK3/GATA3/CD1D/SIRPB1/TNFSF8/TNFAIP8L2/LILRB4/PDCD1LG2/LGALS9/RASAL3/HLA-DOA/IL6/DOCK2/AIF1/HLA-G/APBB1IP/TESPA1/NLRP3/NCKAP1L/HLA-DPA1/VCAM1/TNFRSF1B/IFNL1/IL12B/CEACAM1/NLRC3/LGALS9C/CORO1A/CCR9/CLEC4A/IL1B/HLA-DRB1/ICAM1/KLRK1/MAFB/SYK/IL18R1/CARD11/PTGER4/CD86/CD70/SPN/CD160/PYCARD/LAT/EBI3/CD274/TNFSF13B/PIK3CG/BCL3/HAVCR2/MAP3K8/IL15/IL2/LYN/TCIRG1/FOXP3/IL4R/CCDC88B/IL23A/SOCS1/CEBPB/MICB/TNFRSF18/DOCK8/TMIGD2/FGL2/PRDM1/DPP4/CRTAM/SLC46A2/IL18/PIK3R6/LAG3/XCL1/RELB/B2M/TNFRSF4/SPTA1/CASP8/NFKBIZ/HLA-E/IRF1/MDK/CCL2/PIK3CD/NKX2-3/RUNX2/TGFBR2/STAT6/ADA/ELF4/IL4/HLA-A/PSMB10/RAB27A/EGR3/HLX/IGF1/NFKBID/ZC3H12A/ANXA1/IL23R/IL1A/IL21/RSAD2/MR1/CD24/LRRC32/CD83/CTSL/LGALS3/EGR1/KLRC4-KLRK1/LGALS9B/MICA/IL27RA/HFE/ICOSLG/LGALS1/RUNX1/TCF7/MYH9/BTN2A2/PSAP/WNT4/LEF1/SHH/MYB/RASGRP1/GSN/BAX/ZBTB7B/TNFSF4/NFATC2                                                                    \n",
       "GO:00467181 CD209/FCN1/CR1/CLEC4G/SLAMF1/CR2/SIGLEC1/FCN3/MRC1/CCR5/ANPEP/TNFRSF14/CD74/CD80/CD4/CLEC4M/ITGB7/LGALS9/VAMP8/HLA-DRB1/ICAM1/PTX3/CD86/SELPLG/GPR15/IFITM2/CXCR4/DPP4/SLC52A1/TRIM38/IFITM1/TRIM22/CTSB/TNFRSF4/CLEC5A/IFITM3/TRIM10/ITGA5/TRIM34/CTSL/HAVCR1/LGALS1/ITGB3/TRIM21/F11R/GSN/TRIM14/SLC1A5/CD55/GYPA/AXL/EPHA2/HYAL2/TMPRSS2/ITGB1/GAS6/TRIML2                                                                                                                                                                                                                                                                                                                                                                                                                                                                                                                                                                                                                                                                                                                                                                                                                                                                                                                                                                                                                                                                                                                                   \n",
       "            contrast \n",
       "GO:0002253  C1-Others\n",
       "GO:00022181 C1-Others\n",
       "GO:0002250  C1-Others\n",
       "GO:00197301 C1-Others\n",
       "GO:00301831 C1-Others\n",
       "GO:00329631 C1-Others\n",
       "GO:00444091 C1-Others\n",
       "GO:0036230  C1-Others\n",
       "GO:0002768  C1-Others\n",
       "GO:0002764  C1-Others\n",
       "GO:0050900  C1-Others\n",
       "GO:00521261 C1-Others\n",
       "GO:0030099  C1-Others\n",
       "GO:00071621 C1-Others\n",
       "GO:00224081 C1-Others\n",
       "GO:19037071 C1-Others\n",
       "GO:0002683  C1-Others\n",
       "GO:00507281 C1-Others\n",
       "GO:19030381 C1-Others\n",
       "GO:19021061 C1-Others\n",
       "GO:0042119  C1-Others\n",
       "GO:0002283  C1-Others\n",
       "GO:0043312  C1-Others\n",
       "GO:0002446  C1-Others\n",
       "GO:00301681 C1-Others\n",
       "GO:00457661 C1-Others\n",
       "GO:0050867  C1-Others\n",
       "GO:0045785  C1-Others\n",
       "GO:00509211 C1-Others\n",
       "GO:0001819  C1-Others\n",
       "GO:00703741 C1-Others\n",
       "GO:00507311 C1-Others\n",
       "GO:00028331 C1-Others\n",
       "GO:0032103  C1-Others\n",
       "GO:19040181 C1-Others\n",
       "GO:0022407  C1-Others\n",
       "GO:00509201 C1-Others\n",
       "GO:00703721 C1-Others\n",
       "GO:1903706  C1-Others\n",
       "GO:00431221 C1-Others\n",
       "GO:0002697  C1-Others\n",
       "GO:00026881 C1-Others\n",
       "GO:0051249  C1-Others\n",
       "GO:00027611 C1-Others\n",
       "GO:0002831  C1-Others\n",
       "GO:19013421 C1-Others\n",
       "GO:0042110  C1-Others\n",
       "GO:00467181 C1-Others"
      ]
     },
     "metadata": {},
     "output_type": "display_data"
    }
   ],
   "source": [
    "exclusive_pathways[ exclusive_pathways$contrast == \"C1-Others\" &\n",
    "                   exclusive_pathways$NES > 1,]"
   ]
  },
  {
   "cell_type": "code",
   "execution_count": null,
   "metadata": {},
   "outputs": [],
   "source": []
  },
  {
   "cell_type": "markdown",
   "metadata": {},
   "source": [
    "## Heatmap"
   ]
  },
  {
   "cell_type": "code",
   "execution_count": 31,
   "metadata": {},
   "outputs": [],
   "source": [
    "fc_tab <- exclusive_pathways[,c(\"Description\", \"contrast\",\"NES\")]"
   ]
  },
  {
   "cell_type": "code",
   "execution_count": 32,
   "metadata": {},
   "outputs": [],
   "source": [
    "fc_mat <- tidyr::spread(fc_tab, key = contrast, value = NES)"
   ]
  },
  {
   "cell_type": "code",
   "execution_count": 33,
   "metadata": {},
   "outputs": [],
   "source": [
    "rownames(fc_mat) <- substring(fc_mat$Description, 1, 80)\n",
    "fc_mat$Description <- NULL\n",
    "fc_mat <- as.matrix(fc_mat)"
   ]
  },
  {
   "cell_type": "code",
   "execution_count": 34,
   "metadata": {},
   "outputs": [
    {
     "data": {
      "text/html": [
       "<table class=\"dataframe\">\n",
       "<caption>A matrix: 6 × 4 of type dbl</caption>\n",
       "<thead>\n",
       "\t<tr><th></th><th scope=col>C1-Others</th><th scope=col>C2-Others</th><th scope=col>C3-Others</th><th scope=col>C4-Others</th></tr>\n",
       "</thead>\n",
       "<tbody>\n",
       "\t<tr><th scope=row>activation of immune response</th><td>2.407223</td><td>      NA</td><td>-2.298270</td><td>-2.383687</td></tr>\n",
       "\t<tr><th scope=row>activation of innate immune response</th><td>2.029326</td><td>      NA</td><td>       NA</td><td>       NA</td></tr>\n",
       "\t<tr><th scope=row>adaptive immune response</th><td>2.728633</td><td>      NA</td><td>-2.478622</td><td>-2.664119</td></tr>\n",
       "\t<tr><th scope=row>angiogenesis</th><td>      NA</td><td>      NA</td><td>       NA</td><td>-2.065291</td></tr>\n",
       "\t<tr><th scope=row>antigen processing and presentation of exogenous peptide antigen</th><td>      NA</td><td>2.108924</td><td>       NA</td><td>       NA</td></tr>\n",
       "\t<tr><th scope=row>antimicrobial humoral response</th><td>2.319230</td><td>      NA</td><td>-2.146507</td><td>-2.132154</td></tr>\n",
       "</tbody>\n",
       "</table>\n"
      ],
      "text/latex": [
       "A matrix: 6 × 4 of type dbl\n",
       "\\begin{tabular}{r|llll}\n",
       "  & C1-Others & C2-Others & C3-Others & C4-Others\\\\\n",
       "\\hline\n",
       "\tactivation of immune response & 2.407223 &       NA & -2.298270 & -2.383687\\\\\n",
       "\tactivation of innate immune response & 2.029326 &       NA &        NA &        NA\\\\\n",
       "\tadaptive immune response & 2.728633 &       NA & -2.478622 & -2.664119\\\\\n",
       "\tangiogenesis &       NA &       NA &        NA & -2.065291\\\\\n",
       "\tantigen processing and presentation of exogenous peptide antigen &       NA & 2.108924 &        NA &        NA\\\\\n",
       "\tantimicrobial humoral response & 2.319230 &       NA & -2.146507 & -2.132154\\\\\n",
       "\\end{tabular}\n"
      ],
      "text/markdown": [
       "\n",
       "A matrix: 6 × 4 of type dbl\n",
       "\n",
       "| <!--/--> | C1-Others | C2-Others | C3-Others | C4-Others |\n",
       "|---|---|---|---|---|\n",
       "| activation of immune response | 2.407223 |       NA | -2.298270 | -2.383687 |\n",
       "| activation of innate immune response | 2.029326 |       NA |        NA |        NA |\n",
       "| adaptive immune response | 2.728633 |       NA | -2.478622 | -2.664119 |\n",
       "| angiogenesis |       NA |       NA |        NA | -2.065291 |\n",
       "| antigen processing and presentation of exogenous peptide antigen |       NA | 2.108924 |        NA |        NA |\n",
       "| antimicrobial humoral response | 2.319230 |       NA | -2.146507 | -2.132154 |\n",
       "\n"
      ],
      "text/plain": [
       "                                                                 C1-Others\n",
       "activation of immune response                                    2.407223 \n",
       "activation of innate immune response                             2.029326 \n",
       "adaptive immune response                                         2.728633 \n",
       "angiogenesis                                                           NA \n",
       "antigen processing and presentation of exogenous peptide antigen       NA \n",
       "antimicrobial humoral response                                   2.319230 \n",
       "                                                                 C2-Others\n",
       "activation of immune response                                          NA \n",
       "activation of innate immune response                                   NA \n",
       "adaptive immune response                                               NA \n",
       "angiogenesis                                                           NA \n",
       "antigen processing and presentation of exogenous peptide antigen 2.108924 \n",
       "antimicrobial humoral response                                         NA \n",
       "                                                                 C3-Others\n",
       "activation of immune response                                    -2.298270\n",
       "activation of innate immune response                                    NA\n",
       "adaptive immune response                                         -2.478622\n",
       "angiogenesis                                                            NA\n",
       "antigen processing and presentation of exogenous peptide antigen        NA\n",
       "antimicrobial humoral response                                   -2.146507\n",
       "                                                                 C4-Others\n",
       "activation of immune response                                    -2.383687\n",
       "activation of innate immune response                                    NA\n",
       "adaptive immune response                                         -2.664119\n",
       "angiogenesis                                                     -2.065291\n",
       "antigen processing and presentation of exogenous peptide antigen        NA\n",
       "antimicrobial humoral response                                   -2.132154"
      ]
     },
     "metadata": {},
     "output_type": "display_data"
    }
   ],
   "source": [
    "head(fc_mat)"
   ]
  },
  {
   "cell_type": "code",
   "execution_count": 35,
   "metadata": {},
   "outputs": [],
   "source": [
    "fc_mat[is.na(fc_mat)] <- 0"
   ]
  },
  {
   "cell_type": "code",
   "execution_count": 31,
   "metadata": {},
   "outputs": [
    {
     "data": {
      "text/html": [
       "<table class=\"dataframe\">\n",
       "<caption>A matrix: 6 × 4 of type dbl</caption>\n",
       "<thead>\n",
       "\t<tr><th></th><th scope=col>C1-Others</th><th scope=col>C2-Others</th><th scope=col>C3-Others</th><th scope=col>C4-Others</th></tr>\n",
       "</thead>\n",
       "<tbody>\n",
       "\t<tr><th scope=row>angiogenesis</th><td> 0.000000</td><td> 0.000000</td><td>0</td><td>-2.022139</td></tr>\n",
       "\t<tr><th scope=row>antigen processing and presentation of exogenous peptide antigen</th><td> 0.000000</td><td> 2.104021</td><td>0</td><td> 0.000000</td></tr>\n",
       "\t<tr><th scope=row>antigen processing and presentation of peptide antigen</th><td> 0.000000</td><td> 2.162810</td><td>0</td><td>-2.030692</td></tr>\n",
       "\t<tr><th scope=row>antimicrobial humoral response</th><td> 2.361443</td><td> 0.000000</td><td>0</td><td>-2.448588</td></tr>\n",
       "\t<tr><th scope=row>blood coagulation</th><td> 0.000000</td><td> 0.000000</td><td>0</td><td>-2.034347</td></tr>\n",
       "\t<tr><th scope=row>chemical synaptic transmission, postsynaptic</th><td>-2.020690</td><td>-2.044515</td><td>0</td><td> 2.470123</td></tr>\n",
       "</tbody>\n",
       "</table>\n"
      ],
      "text/latex": [
       "A matrix: 6 × 4 of type dbl\n",
       "\\begin{tabular}{r|llll}\n",
       "  & C1-Others & C2-Others & C3-Others & C4-Others\\\\\n",
       "\\hline\n",
       "\tangiogenesis &  0.000000 &  0.000000 & 0 & -2.022139\\\\\n",
       "\tantigen processing and presentation of exogenous peptide antigen &  0.000000 &  2.104021 & 0 &  0.000000\\\\\n",
       "\tantigen processing and presentation of peptide antigen &  0.000000 &  2.162810 & 0 & -2.030692\\\\\n",
       "\tantimicrobial humoral response &  2.361443 &  0.000000 & 0 & -2.448588\\\\\n",
       "\tblood coagulation &  0.000000 &  0.000000 & 0 & -2.034347\\\\\n",
       "\tchemical synaptic transmission, postsynaptic & -2.020690 & -2.044515 & 0 &  2.470123\\\\\n",
       "\\end{tabular}\n"
      ],
      "text/markdown": [
       "\n",
       "A matrix: 6 × 4 of type dbl\n",
       "\n",
       "| <!--/--> | C1-Others | C2-Others | C3-Others | C4-Others |\n",
       "|---|---|---|---|---|\n",
       "| angiogenesis |  0.000000 |  0.000000 | 0 | -2.022139 |\n",
       "| antigen processing and presentation of exogenous peptide antigen |  0.000000 |  2.104021 | 0 |  0.000000 |\n",
       "| antigen processing and presentation of peptide antigen |  0.000000 |  2.162810 | 0 | -2.030692 |\n",
       "| antimicrobial humoral response |  2.361443 |  0.000000 | 0 | -2.448588 |\n",
       "| blood coagulation |  0.000000 |  0.000000 | 0 | -2.034347 |\n",
       "| chemical synaptic transmission, postsynaptic | -2.020690 | -2.044515 | 0 |  2.470123 |\n",
       "\n"
      ],
      "text/plain": [
       "                                                                 C1-Others\n",
       "angiogenesis                                                      0.000000\n",
       "antigen processing and presentation of exogenous peptide antigen  0.000000\n",
       "antigen processing and presentation of peptide antigen            0.000000\n",
       "antimicrobial humoral response                                    2.361443\n",
       "blood coagulation                                                 0.000000\n",
       "chemical synaptic transmission, postsynaptic                     -2.020690\n",
       "                                                                 C2-Others\n",
       "angiogenesis                                                      0.000000\n",
       "antigen processing and presentation of exogenous peptide antigen  2.104021\n",
       "antigen processing and presentation of peptide antigen            2.162810\n",
       "antimicrobial humoral response                                    0.000000\n",
       "blood coagulation                                                 0.000000\n",
       "chemical synaptic transmission, postsynaptic                     -2.044515\n",
       "                                                                 C3-Others\n",
       "angiogenesis                                                     0        \n",
       "antigen processing and presentation of exogenous peptide antigen 0        \n",
       "antigen processing and presentation of peptide antigen           0        \n",
       "antimicrobial humoral response                                   0        \n",
       "blood coagulation                                                0        \n",
       "chemical synaptic transmission, postsynaptic                     0        \n",
       "                                                                 C4-Others\n",
       "angiogenesis                                                     -2.022139\n",
       "antigen processing and presentation of exogenous peptide antigen  0.000000\n",
       "antigen processing and presentation of peptide antigen           -2.030692\n",
       "antimicrobial humoral response                                   -2.448588\n",
       "blood coagulation                                                -2.034347\n",
       "chemical synaptic transmission, postsynaptic                      2.470123"
      ]
     },
     "metadata": {},
     "output_type": "display_data"
    }
   ],
   "source": [
    "head(fc_mat)"
   ]
  },
  {
   "cell_type": "code",
   "execution_count": 32,
   "metadata": {},
   "outputs": [],
   "source": [
    "library(ComplexHeatmap)\n",
    "library(circlize)"
   ]
  },
  {
   "cell_type": "code",
   "execution_count": 33,
   "metadata": {},
   "outputs": [],
   "source": [
    "col_fun= colorRamp2(c(-1, 0, 1), c(\"blue\", \"white\", \"red\"))\n",
    "    \n",
    "pathways_hm = Heatmap(fc_mat,\n",
    "                       #titles and names   \n",
    "                       name = \"Log2 FC\",   \n",
    "                       show_row_names = TRUE,\n",
    "                       show_column_names = TRUE,     \n",
    "                       #clusters and orders  \n",
    "                       cluster_columns = FALSE,\n",
    "                       cluster_rows = TRUE,\n",
    "                       show_column_dend = FALSE,\n",
    "                       #aesthestics\n",
    "                       col = col_fun,\n",
    "                       column_names_gp = gpar(fontsize = 3),\n",
    "                       row_names_gp = gpar(fontsize = 3),\n",
    "                       height = unit(120, \"cm\"), width = unit(10, \"cm\"),\n",
    "                       column_title_gp = gpar(fontsize = 10),\n",
    "                       column_title = NULL,\n",
    "                       row_title = NULL)"
   ]
  },
  {
   "cell_type": "code",
   "execution_count": 34,
   "metadata": {},
   "outputs": [
    {
     "data": {
      "image/png": "[encoded data removed]",
      "text/plain": [
       "plot without title"
      ]
     },
     "metadata": {
      "image/png": {
       "height": 420,
       "width": 420
      }
     },
     "output_type": "display_data"
    }
   ],
   "source": [
    "pathways_hm"
   ]
  },
  {
   "cell_type": "code",
   "execution_count": 35,
   "metadata": {},
   "outputs": [
    {
     "data": {
      "text/html": [
       "<strong>pdf:</strong> 2"
      ],
      "text/latex": [
       "\\textbf{pdf:} 2"
      ],
      "text/markdown": [
       "**pdf:** 2"
      ],
      "text/plain": [
       "pdf \n",
       "  2 "
      ]
     },
     "metadata": {},
     "output_type": "display_data"
    }
   ],
   "source": [
    "pdf(paste0(plotpath, \"GO_heatmap.pdf\"),\n",
    "   width = 20, height = 50)\n",
    "\n",
    "draw(pathways_hm)\n",
    "\n",
    "dev.off()"
   ]
  },
  {
   "cell_type": "markdown",
   "metadata": {},
   "source": [
    "# Top Genes"
   ]
  },
  {
   "cell_type": "markdown",
   "metadata": {},
   "source": [
    "# Create a gene table"
   ]
  },
  {
   "cell_type": "code",
   "execution_count": 225,
   "metadata": {},
   "outputs": [],
   "source": [
    "genetable <- data.frame(matrix(ncol = 7, nrow = 0))\n",
    "colnames(genetable) <- c('baseMean','log2FoldChange','lfcSE','pvalue','padj','Gene','contrast')"
   ]
  },
  {
   "cell_type": "code",
   "execution_count": 226,
   "metadata": {},
   "outputs": [
    {
     "data": {
      "text/html": [
       "<style>\n",
       ".list-inline {list-style: none; margin:0; padding: 0}\n",
       ".list-inline>li {display: inline-block}\n",
       ".list-inline>li:not(:last-child)::after {content: \"\\00b7\"; padding: 0 .5ex}\n",
       "</style>\n",
       "<ol class=list-inline><li>'C2'</li><li>'C3'</li><li>'C4'</li><li>'C1'</li></ol>\n"
      ],
      "text/latex": [
       "\\begin{enumerate*}\n",
       "\\item 'C2'\n",
       "\\item 'C3'\n",
       "\\item 'C4'\n",
       "\\item 'C1'\n",
       "\\end{enumerate*}\n"
      ],
      "text/markdown": [
       "1. 'C2'\n",
       "2. 'C3'\n",
       "3. 'C4'\n",
       "4. 'C1'\n",
       "\n",
       "\n"
      ],
      "text/plain": [
       "[1] \"C2\" \"C3\" \"C4\" \"C1\""
      ]
     },
     "metadata": {},
     "output_type": "display_data"
    }
   ],
   "source": [
    "unique(metadata_IC$immune_cluster)"
   ]
  },
  {
   "cell_type": "code",
   "execution_count": 227,
   "metadata": {},
   "outputs": [
    {
     "name": "stdout",
     "output_type": "stream",
     "text": [
      "[1] \"C2\"\n",
      "[1] \"C3\"\n",
      "[1] \"C4\"\n",
      "[1] \"C1\"\n"
     ]
    }
   ],
   "source": [
    "for(c in unique(metadata_IC$immune_cluster)){\n",
    "    \n",
    "    print(c)\n",
    "    flush.console()\n",
    "    \n",
    "    load(file = paste0(datapath,\"DEG/results_\", c,\"_withfilter.RData\"))\n",
    "    \n",
    "    mycontrast <- paste0(c, \"-Others\")\n",
    "    \n",
    "    res <- as.data.frame(res)\n",
    "    res$Gene <- rownames(res)\n",
    "    rownames(res) <- NULL\n",
    "    res$contrast <- mycontrast\n",
    "    \n",
    "    genetable <- rbind(genetable, res)\n",
    "    \n",
    "}"
   ]
  },
  {
   "cell_type": "code",
   "execution_count": 228,
   "metadata": {},
   "outputs": [
    {
     "data": {
      "text/html": [
       "<table class=\"dataframe\">\n",
       "<caption>A data.frame: 6 × 8</caption>\n",
       "<thead>\n",
       "\t<tr><th></th><th scope=col>baseMean</th><th scope=col>log2FoldChange</th><th scope=col>lfcSE</th><th scope=col>stat</th><th scope=col>pvalue</th><th scope=col>padj</th><th scope=col>Gene</th><th scope=col>contrast</th></tr>\n",
       "\t<tr><th></th><th scope=col>&lt;dbl&gt;</th><th scope=col>&lt;dbl&gt;</th><th scope=col>&lt;dbl&gt;</th><th scope=col>&lt;dbl&gt;</th><th scope=col>&lt;dbl&gt;</th><th scope=col>&lt;dbl&gt;</th><th scope=col>&lt;chr&gt;</th><th scope=col>&lt;chr&gt;</th></tr>\n",
       "</thead>\n",
       "<tbody>\n",
       "\t<tr><th scope=row>1</th><td>2058.61386</td><td> 0.10757325</td><td>0.06220277</td><td>0</td><td>1</td><td>1</td><td>TSPAN6  </td><td>C2-Others</td></tr>\n",
       "\t<tr><th scope=row>2</th><td>  20.32287</td><td> 0.08314263</td><td>0.17875340</td><td>0</td><td>1</td><td>1</td><td>TNMD    </td><td>C2-Others</td></tr>\n",
       "\t<tr><th scope=row>3</th><td> 837.69251</td><td>-0.02607829</td><td>0.03556666</td><td>0</td><td>1</td><td>1</td><td>DPM1    </td><td>C2-Others</td></tr>\n",
       "\t<tr><th scope=row>4</th><td> 906.15295</td><td>-0.04433848</td><td>0.03041631</td><td>0</td><td>1</td><td>1</td><td>SCYL3   </td><td>C2-Others</td></tr>\n",
       "\t<tr><th scope=row>5</th><td> 488.73588</td><td> 0.01109061</td><td>0.04626931</td><td>0</td><td>1</td><td>1</td><td>C1orf112</td><td>C2-Others</td></tr>\n",
       "\t<tr><th scope=row>6</th><td> 420.17873</td><td> 0.33902878</td><td>0.09730920</td><td>0</td><td>1</td><td>1</td><td>FGR     </td><td>C2-Others</td></tr>\n",
       "</tbody>\n",
       "</table>\n"
      ],
      "text/latex": [
       "A data.frame: 6 × 8\n",
       "\\begin{tabular}{r|llllllll}\n",
       "  & baseMean & log2FoldChange & lfcSE & stat & pvalue & padj & Gene & contrast\\\\\n",
       "  & <dbl> & <dbl> & <dbl> & <dbl> & <dbl> & <dbl> & <chr> & <chr>\\\\\n",
       "\\hline\n",
       "\t1 & 2058.61386 &  0.10757325 & 0.06220277 & 0 & 1 & 1 & TSPAN6   & C2-Others\\\\\n",
       "\t2 &   20.32287 &  0.08314263 & 0.17875340 & 0 & 1 & 1 & TNMD     & C2-Others\\\\\n",
       "\t3 &  837.69251 & -0.02607829 & 0.03556666 & 0 & 1 & 1 & DPM1     & C2-Others\\\\\n",
       "\t4 &  906.15295 & -0.04433848 & 0.03041631 & 0 & 1 & 1 & SCYL3    & C2-Others\\\\\n",
       "\t5 &  488.73588 &  0.01109061 & 0.04626931 & 0 & 1 & 1 & C1orf112 & C2-Others\\\\\n",
       "\t6 &  420.17873 &  0.33902878 & 0.09730920 & 0 & 1 & 1 & FGR      & C2-Others\\\\\n",
       "\\end{tabular}\n"
      ],
      "text/markdown": [
       "\n",
       "A data.frame: 6 × 8\n",
       "\n",
       "| <!--/--> | baseMean &lt;dbl&gt; | log2FoldChange &lt;dbl&gt; | lfcSE &lt;dbl&gt; | stat &lt;dbl&gt; | pvalue &lt;dbl&gt; | padj &lt;dbl&gt; | Gene &lt;chr&gt; | contrast &lt;chr&gt; |\n",
       "|---|---|---|---|---|---|---|---|---|\n",
       "| 1 | 2058.61386 |  0.10757325 | 0.06220277 | 0 | 1 | 1 | TSPAN6   | C2-Others |\n",
       "| 2 |   20.32287 |  0.08314263 | 0.17875340 | 0 | 1 | 1 | TNMD     | C2-Others |\n",
       "| 3 |  837.69251 | -0.02607829 | 0.03556666 | 0 | 1 | 1 | DPM1     | C2-Others |\n",
       "| 4 |  906.15295 | -0.04433848 | 0.03041631 | 0 | 1 | 1 | SCYL3    | C2-Others |\n",
       "| 5 |  488.73588 |  0.01109061 | 0.04626931 | 0 | 1 | 1 | C1orf112 | C2-Others |\n",
       "| 6 |  420.17873 |  0.33902878 | 0.09730920 | 0 | 1 | 1 | FGR      | C2-Others |\n",
       "\n"
      ],
      "text/plain": [
       "  baseMean   log2FoldChange lfcSE      stat pvalue padj Gene     contrast \n",
       "1 2058.61386  0.10757325    0.06220277 0    1      1    TSPAN6   C2-Others\n",
       "2   20.32287  0.08314263    0.17875340 0    1      1    TNMD     C2-Others\n",
       "3  837.69251 -0.02607829    0.03556666 0    1      1    DPM1     C2-Others\n",
       "4  906.15295 -0.04433848    0.03041631 0    1      1    SCYL3    C2-Others\n",
       "5  488.73588  0.01109061    0.04626931 0    1      1    C1orf112 C2-Others\n",
       "6  420.17873  0.33902878    0.09730920 0    1      1    FGR      C2-Others"
      ]
     },
     "metadata": {},
     "output_type": "display_data"
    }
   ],
   "source": [
    "head(genetable)"
   ]
  },
  {
   "cell_type": "code",
   "execution_count": 229,
   "metadata": {},
   "outputs": [],
   "source": [
    "genetable <- genetable[, c(\"Gene\", \"contrast\", 'baseMean','log2FoldChange','lfcSE','pvalue','padj')]"
   ]
  },
  {
   "cell_type": "code",
   "execution_count": 230,
   "metadata": {},
   "outputs": [],
   "source": [
    "save(genetable, file = paste0(datapath, \"DEG/genetable_DESeq2.RData\"))"
   ]
  },
  {
   "cell_type": "markdown",
   "metadata": {},
   "source": [
    "# Load gene table"
   ]
  },
  {
   "cell_type": "code",
   "execution_count": 231,
   "metadata": {},
   "outputs": [],
   "source": [
    "load(file = paste0(datapath, \"DEG/genetable_DESeq2.RData\"))"
   ]
  },
  {
   "cell_type": "code",
   "execution_count": 232,
   "metadata": {},
   "outputs": [
    {
     "data": {
      "text/html": [
       "<table class=\"dataframe\">\n",
       "<caption>A data.frame: 6 × 7</caption>\n",
       "<thead>\n",
       "\t<tr><th></th><th scope=col>Gene</th><th scope=col>contrast</th><th scope=col>baseMean</th><th scope=col>log2FoldChange</th><th scope=col>lfcSE</th><th scope=col>pvalue</th><th scope=col>padj</th></tr>\n",
       "\t<tr><th></th><th scope=col>&lt;chr&gt;</th><th scope=col>&lt;chr&gt;</th><th scope=col>&lt;dbl&gt;</th><th scope=col>&lt;dbl&gt;</th><th scope=col>&lt;dbl&gt;</th><th scope=col>&lt;dbl&gt;</th><th scope=col>&lt;dbl&gt;</th></tr>\n",
       "</thead>\n",
       "<tbody>\n",
       "\t<tr><th scope=row>1</th><td>TSPAN6  </td><td>C2-Others</td><td>2058.61386</td><td> 0.10757325</td><td>0.06220277</td><td>1</td><td>1</td></tr>\n",
       "\t<tr><th scope=row>2</th><td>TNMD    </td><td>C2-Others</td><td>  20.32287</td><td> 0.08314263</td><td>0.17875340</td><td>1</td><td>1</td></tr>\n",
       "\t<tr><th scope=row>3</th><td>DPM1    </td><td>C2-Others</td><td> 837.69251</td><td>-0.02607829</td><td>0.03556666</td><td>1</td><td>1</td></tr>\n",
       "\t<tr><th scope=row>4</th><td>SCYL3   </td><td>C2-Others</td><td> 906.15295</td><td>-0.04433848</td><td>0.03041631</td><td>1</td><td>1</td></tr>\n",
       "\t<tr><th scope=row>5</th><td>C1orf112</td><td>C2-Others</td><td> 488.73588</td><td> 0.01109061</td><td>0.04626931</td><td>1</td><td>1</td></tr>\n",
       "\t<tr><th scope=row>6</th><td>FGR     </td><td>C2-Others</td><td> 420.17873</td><td> 0.33902878</td><td>0.09730920</td><td>1</td><td>1</td></tr>\n",
       "</tbody>\n",
       "</table>\n"
      ],
      "text/latex": [
       "A data.frame: 6 × 7\n",
       "\\begin{tabular}{r|lllllll}\n",
       "  & Gene & contrast & baseMean & log2FoldChange & lfcSE & pvalue & padj\\\\\n",
       "  & <chr> & <chr> & <dbl> & <dbl> & <dbl> & <dbl> & <dbl>\\\\\n",
       "\\hline\n",
       "\t1 & TSPAN6   & C2-Others & 2058.61386 &  0.10757325 & 0.06220277 & 1 & 1\\\\\n",
       "\t2 & TNMD     & C2-Others &   20.32287 &  0.08314263 & 0.17875340 & 1 & 1\\\\\n",
       "\t3 & DPM1     & C2-Others &  837.69251 & -0.02607829 & 0.03556666 & 1 & 1\\\\\n",
       "\t4 & SCYL3    & C2-Others &  906.15295 & -0.04433848 & 0.03041631 & 1 & 1\\\\\n",
       "\t5 & C1orf112 & C2-Others &  488.73588 &  0.01109061 & 0.04626931 & 1 & 1\\\\\n",
       "\t6 & FGR      & C2-Others &  420.17873 &  0.33902878 & 0.09730920 & 1 & 1\\\\\n",
       "\\end{tabular}\n"
      ],
      "text/markdown": [
       "\n",
       "A data.frame: 6 × 7\n",
       "\n",
       "| <!--/--> | Gene &lt;chr&gt; | contrast &lt;chr&gt; | baseMean &lt;dbl&gt; | log2FoldChange &lt;dbl&gt; | lfcSE &lt;dbl&gt; | pvalue &lt;dbl&gt; | padj &lt;dbl&gt; |\n",
       "|---|---|---|---|---|---|---|---|\n",
       "| 1 | TSPAN6   | C2-Others | 2058.61386 |  0.10757325 | 0.06220277 | 1 | 1 |\n",
       "| 2 | TNMD     | C2-Others |   20.32287 |  0.08314263 | 0.17875340 | 1 | 1 |\n",
       "| 3 | DPM1     | C2-Others |  837.69251 | -0.02607829 | 0.03556666 | 1 | 1 |\n",
       "| 4 | SCYL3    | C2-Others |  906.15295 | -0.04433848 | 0.03041631 | 1 | 1 |\n",
       "| 5 | C1orf112 | C2-Others |  488.73588 |  0.01109061 | 0.04626931 | 1 | 1 |\n",
       "| 6 | FGR      | C2-Others |  420.17873 |  0.33902878 | 0.09730920 | 1 | 1 |\n",
       "\n"
      ],
      "text/plain": [
       "  Gene     contrast  baseMean   log2FoldChange lfcSE      pvalue padj\n",
       "1 TSPAN6   C2-Others 2058.61386  0.10757325    0.06220277 1      1   \n",
       "2 TNMD     C2-Others   20.32287  0.08314263    0.17875340 1      1   \n",
       "3 DPM1     C2-Others  837.69251 -0.02607829    0.03556666 1      1   \n",
       "4 SCYL3    C2-Others  906.15295 -0.04433848    0.03041631 1      1   \n",
       "5 C1orf112 C2-Others  488.73588  0.01109061    0.04626931 1      1   \n",
       "6 FGR      C2-Others  420.17873  0.33902878    0.09730920 1      1   "
      ]
     },
     "metadata": {},
     "output_type": "display_data"
    }
   ],
   "source": [
    "head(genetable)"
   ]
  },
  {
   "cell_type": "code",
   "execution_count": 233,
   "metadata": {},
   "outputs": [],
   "source": [
    "dysreg_sig_genes <- genetable[ genetable$padj < 0.1 &\n",
    "                            abs(genetable$log2FoldChange) >= 2,]"
   ]
  },
  {
   "cell_type": "code",
   "execution_count": 234,
   "metadata": {},
   "outputs": [
    {
     "data": {
      "text/html": [
       "<style>\n",
       ".list-inline {list-style: none; margin:0; padding: 0}\n",
       ".list-inline>li {display: inline-block}\n",
       ".list-inline>li:not(:last-child)::after {content: \"\\00b7\"; padding: 0 .5ex}\n",
       "</style>\n",
       "<ol class=list-inline><li>453</li><li>7</li></ol>\n"
      ],
      "text/latex": [
       "\\begin{enumerate*}\n",
       "\\item 453\n",
       "\\item 7\n",
       "\\end{enumerate*}\n"
      ],
      "text/markdown": [
       "1. 453\n",
       "2. 7\n",
       "\n",
       "\n"
      ],
      "text/plain": [
       "[1] 453   7"
      ]
     },
     "metadata": {},
     "output_type": "display_data"
    }
   ],
   "source": [
    "dim(dysreg_sig_genes)"
   ]
  },
  {
   "cell_type": "code",
   "execution_count": 235,
   "metadata": {},
   "outputs": [
    {
     "data": {
      "text/plain": [
       "\n",
       "C1-Others C2-Others C4-Others \n",
       "      267        22       155 "
      ]
     },
     "metadata": {},
     "output_type": "display_data"
    }
   ],
   "source": [
    "table(dysreg_sig_genes$contrast)"
   ]
  },
  {
   "cell_type": "code",
   "execution_count": 236,
   "metadata": {
    "scrolled": true
   },
   "outputs": [
    {
     "data": {
      "text/html": [
       "<table class=\"dataframe\">\n",
       "<caption>A data.frame: 267 × 7</caption>\n",
       "<thead>\n",
       "\t<tr><th></th><th scope=col>Gene</th><th scope=col>contrast</th><th scope=col>baseMean</th><th scope=col>log2FoldChange</th><th scope=col>lfcSE</th><th scope=col>pvalue</th><th scope=col>padj</th></tr>\n",
       "\t<tr><th></th><th scope=col>&lt;chr&gt;</th><th scope=col>&lt;chr&gt;</th><th scope=col>&lt;dbl&gt;</th><th scope=col>&lt;dbl&gt;</th><th scope=col>&lt;dbl&gt;</th><th scope=col>&lt;dbl&gt;</th><th scope=col>&lt;dbl&gt;</th></tr>\n",
       "</thead>\n",
       "<tbody>\n",
       "\t<tr><th scope=row>58368</th><td>FGR      </td><td>C1-Others</td><td> 420.178734</td><td> 2.057692</td><td>0.1266150</td><td>6.620910e-17</td><td>5.144977e-14</td></tr>\n",
       "\t<tr><th scope=row>58425</th><td>ABCB5    </td><td>C1-Others</td><td>  24.739528</td><td> 5.702053</td><td>0.4129470</td><td>4.877729e-30</td><td>3.158655e-26</td></tr>\n",
       "\t<tr><th scope=row>58442</th><td>MEOX1    </td><td>C1-Others</td><td> 115.875604</td><td> 2.202919</td><td>0.2541805</td><td>2.217288e-06</td><td>1.255838e-04</td></tr>\n",
       "\t<tr><th scope=row>58553</th><td>SELE     </td><td>C1-Others</td><td> 182.930944</td><td> 2.125420</td><td>0.2894084</td><td>1.007859e-04</td><td>4.037048e-03</td></tr>\n",
       "\t<tr><th scope=row>58673</th><td>CD22     </td><td>C1-Others</td><td> 222.687802</td><td> 2.208963</td><td>0.2145546</td><td>1.753048e-08</td><td>1.661291e-06</td></tr>\n",
       "\t<tr><th scope=row>58740</th><td>SLC11A1  </td><td>C1-Others</td><td>1839.257191</td><td> 2.053223</td><td>0.1597879</td><td>4.357491e-11</td><td>7.558301e-09</td></tr>\n",
       "\t<tr><th scope=row>58749</th><td>MARCO    </td><td>C1-Others</td><td> 251.746889</td><td> 3.256844</td><td>0.2588860</td><td>2.843660e-18</td><td>3.452737e-15</td></tr>\n",
       "\t<tr><th scope=row>58750</th><td>CYP24A1  </td><td>C1-Others</td><td>  55.975576</td><td> 2.462899</td><td>0.2855340</td><td>3.001052e-07</td><td>2.074784e-05</td></tr>\n",
       "\t<tr><th scope=row>58776</th><td>GABRA1   </td><td>C1-Others</td><td> 710.184018</td><td>-2.350874</td><td>0.3434544</td><td>8.382293e-05</td><td>3.435502e-03</td></tr>\n",
       "\t<tr><th scope=row>58819</th><td>SLAMF7   </td><td>C1-Others</td><td> 137.443388</td><td> 2.307504</td><td>0.1782576</td><td>2.218681e-13</td><td>7.696842e-11</td></tr>\n",
       "\t<tr><th scope=row>58883</th><td>STAP1    </td><td>C1-Others</td><td>  13.987506</td><td> 2.285907</td><td>0.2227284</td><td>7.767266e-09</td><td>8.074147e-07</td></tr>\n",
       "\t<tr><th scope=row>59000</th><td>TNFRSF17 </td><td>C1-Others</td><td>   6.289892</td><td> 2.726164</td><td>0.2083899</td><td>1.197709e-16</td><td>8.309962e-14</td></tr>\n",
       "\t<tr><th scope=row>59259</th><td>CHI3L2   </td><td>C1-Others</td><td>3644.506436</td><td> 2.031140</td><td>0.2271147</td><td>5.620862e-06</td><td>2.919692e-04</td></tr>\n",
       "\t<tr><th scope=row>59556</th><td>FCGR2B   </td><td>C1-Others</td><td> 390.170017</td><td> 2.498627</td><td>0.1844242</td><td>4.437758e-16</td><td>2.781042e-13</td></tr>\n",
       "\t<tr><th scope=row>59658</th><td>FGF4     </td><td>C1-Others</td><td>  42.545025</td><td> 4.254400</td><td>0.6306065</td><td>2.459686e-07</td><td>1.774460e-05</td></tr>\n",
       "\t<tr><th scope=row>59683</th><td>PAX2     </td><td>C1-Others</td><td> 141.951139</td><td> 3.642530</td><td>0.3751320</td><td>1.864406e-12</td><td>5.123014e-10</td></tr>\n",
       "\t<tr><th scope=row>59718</th><td>NMRK2    </td><td>C1-Others</td><td>   9.637724</td><td> 2.953381</td><td>0.3997014</td><td>1.023316e-06</td><td>6.212487e-05</td></tr>\n",
       "\t<tr><th scope=row>59733</th><td>CAPN6    </td><td>C1-Others</td><td> 219.791504</td><td> 2.387931</td><td>0.3433559</td><td>5.294015e-05</td><td>2.245564e-03</td></tr>\n",
       "\t<tr><th scope=row>59743</th><td>TYR      </td><td>C1-Others</td><td> 105.437096</td><td> 4.137696</td><td>0.4668654</td><td>1.807642e-11</td><td>3.511706e-09</td></tr>\n",
       "\t<tr><th scope=row>59757</th><td>CST7     </td><td>C1-Others</td><td> 102.415548</td><td> 3.639320</td><td>0.1787137</td><td>2.341171e-49</td><td>2.274097e-45</td></tr>\n",
       "\t<tr><th scope=row>59783</th><td>P2RY10   </td><td>C1-Others</td><td>  21.620408</td><td> 2.310124</td><td>0.1927336</td><td>1.063810e-11</td><td>2.271058e-09</td></tr>\n",
       "\t<tr><th scope=row>59927</th><td>OPRK1    </td><td>C1-Others</td><td>  86.614995</td><td>-2.194583</td><td>0.3621391</td><td>9.713828e-04</td><td>3.231345e-02</td></tr>\n",
       "\t<tr><th scope=row>60000</th><td>FCN1     </td><td>C1-Others</td><td> 143.844394</td><td> 2.510708</td><td>0.1986675</td><td>2.866655e-14</td><td>1.136541e-11</td></tr>\n",
       "\t<tr><th scope=row>60076</th><td>TMPRSS11E</td><td>C1-Others</td><td>  15.992479</td><td> 6.621583</td><td>0.5237878</td><td>7.158672e-27</td><td>2.781431e-23</td></tr>\n",
       "\t<tr><th scope=row>60124</th><td>SLC15A1  </td><td>C1-Others</td><td>  12.951943</td><td> 2.225661</td><td>0.3678206</td><td>8.615465e-04</td><td>2.910828e-02</td></tr>\n",
       "\t<tr><th scope=row>60139</th><td>SIGLEC1  </td><td>C1-Others</td><td> 872.881000</td><td> 2.188271</td><td>0.1780273</td><td>2.478153e-11</td><td>4.674086e-09</td></tr>\n",
       "\t<tr><th scope=row>60156</th><td>SIRPG    </td><td>C1-Others</td><td>  28.745386</td><td> 2.103172</td><td>0.1851364</td><td>2.542537e-09</td><td>2.975535e-07</td></tr>\n",
       "\t<tr><th scope=row>60225</th><td>LYZ      </td><td>C1-Others</td><td>1979.429442</td><td> 2.132764</td><td>0.1658509</td><td>8.490367e-12</td><td>1.895889e-09</td></tr>\n",
       "\t<tr><th scope=row>60242</th><td>CD209    </td><td>C1-Others</td><td> 173.425830</td><td> 2.712416</td><td>0.1977330</td><td>4.707434e-18</td><td>4.956943e-15</td></tr>\n",
       "\t<tr><th scope=row>60299</th><td>CMA1     </td><td>C1-Others</td><td>   4.790187</td><td> 3.273066</td><td>0.4428159</td><td>2.848469e-07</td><td>1.990547e-05</td></tr>\n",
       "\t<tr><th scope=row>⋮</th><td>⋮</td><td>⋮</td><td>⋮</td><td>⋮</td><td>⋮</td><td>⋮</td><td>⋮</td></tr>\n",
       "\t<tr><th scope=row>75774</th><td>SERPINB4         </td><td>C1-Others</td><td>   5.5821567</td><td> 3.390681</td><td>0.5819161</td><td>3.985959e-05</td><td>1.740118e-03</td></tr>\n",
       "\t<tr><th scope=row>75861</th><td>CRYGS            </td><td>C1-Others</td><td> 201.5380201</td><td> 2.043134</td><td>0.1774042</td><td>4.103015e-09</td><td>4.554815e-07</td></tr>\n",
       "\t<tr><th scope=row>75892</th><td>PTPRCAP          </td><td>C1-Others</td><td> 179.2743070</td><td> 2.138650</td><td>0.1817586</td><td>3.737100e-10</td><td>5.323731e-08</td></tr>\n",
       "\t<tr><th scope=row>75893</th><td>PVRIG            </td><td>C1-Others</td><td>  47.8112470</td><td> 2.117584</td><td>0.1636717</td><td>8.598243e-12</td><td>1.898160e-09</td></tr>\n",
       "\t<tr><th scope=row>75942</th><td>UBD              </td><td>C1-Others</td><td> 199.4833644</td><td> 3.072392</td><td>0.2973245</td><td>3.166384e-12</td><td>7.786499e-10</td></tr>\n",
       "\t<tr><th scope=row>76011</th><td>GNAT3            </td><td>C1-Others</td><td>   1.7667667</td><td> 5.348229</td><td>0.9098092</td><td>1.759280e-06</td><td>1.029444e-04</td></tr>\n",
       "\t<tr><th scope=row>76054</th><td>GPR33            </td><td>C1-Others</td><td>   0.9636189</td><td> 2.035085</td><td>0.3143815</td><td>9.931933e-04</td><td>3.281423e-02</td></tr>\n",
       "\t<tr><th scope=row>76305</th><td>LTB              </td><td>C1-Others</td><td> 189.0164338</td><td> 2.099160</td><td>0.1554436</td><td>1.536874e-12</td><td>4.456246e-10</td></tr>\n",
       "\t<tr><th scope=row>76405</th><td>HLA-DQB2         </td><td>C1-Others</td><td> 158.5747765</td><td> 2.043486</td><td>0.2101353</td><td>6.842532e-07</td><td>4.344114e-05</td></tr>\n",
       "\t<tr><th scope=row>76478</th><td>MFRP             </td><td>C1-Others</td><td> 247.5572017</td><td> 2.163911</td><td>0.3818532</td><td>2.303254e-03</td><td>6.949046e-02</td></tr>\n",
       "\t<tr><th scope=row>76526</th><td>HLA-DQA2         </td><td>C1-Others</td><td> 359.3901472</td><td> 2.093103</td><td>0.2553253</td><td>1.858738e-05</td><td>8.638686e-04</td></tr>\n",
       "\t<tr><th scope=row>76533</th><td>OR2I1P           </td><td>C1-Others</td><td>  20.3685725</td><td> 2.717006</td><td>0.2931774</td><td>4.725982e-09</td><td>5.157958e-07</td></tr>\n",
       "\t<tr><th scope=row>76585</th><td>TNFRSF13B        </td><td>C1-Others</td><td>   4.9862064</td><td> 2.904760</td><td>0.3347738</td><td>1.272690e-08</td><td>1.242440e-06</td></tr>\n",
       "\t<tr><th scope=row>76733</th><td>XXbac-BPG116M5.17</td><td>C1-Others</td><td>  47.6396479</td><td> 2.210194</td><td>0.3814433</td><td>1.510439e-03</td><td>4.763522e-02</td></tr>\n",
       "\t<tr><th scope=row>76744</th><td>LILRA6           </td><td>C1-Others</td><td>  86.3189660</td><td> 2.390657</td><td>0.1790235</td><td>7.972581e-15</td><td>3.687698e-12</td></tr>\n",
       "\t<tr><th scope=row>76945</th><td>RTL1             </td><td>C1-Others</td><td> 171.2202923</td><td> 2.574758</td><td>0.2756071</td><td>1.104944e-08</td><td>1.106482e-06</td></tr>\n",
       "\t<tr><th scope=row>76950</th><td>IGLL5            </td><td>C1-Others</td><td> 150.3369584</td><td> 3.532773</td><td>0.3204649</td><td>2.713272e-15</td><td>1.464187e-12</td></tr>\n",
       "\t<tr><th scope=row>76995</th><td>HCAR3            </td><td>C1-Others</td><td>  46.3075105</td><td> 2.471112</td><td>0.2609598</td><td>1.727237e-08</td><td>1.644854e-06</td></tr>\n",
       "\t<tr><th scope=row>77023</th><td>CYP2A6           </td><td>C1-Others</td><td>  20.9131174</td><td>-2.015091</td><td>0.2861600</td><td>3.892230e-04</td><td>1.397678e-02</td></tr>\n",
       "\t<tr><th scope=row>77032</th><td>SMLR1            </td><td>C1-Others</td><td>   9.0948911</td><td> 2.257963</td><td>0.3783949</td><td>8.858655e-04</td><td>2.967191e-02</td></tr>\n",
       "\t<tr><th scope=row>77087</th><td>MGAM             </td><td>C1-Others</td><td> 435.0673319</td><td> 2.092810</td><td>0.2228753</td><td>9.427019e-07</td><td>5.795528e-05</td></tr>\n",
       "\t<tr><th scope=row>77271</th><td>RP3-422G23.4     </td><td>C1-Others</td><td>  10.8547611</td><td>-2.450982</td><td>0.4873257</td><td>2.906694e-03</td><td>8.607979e-02</td></tr>\n",
       "\t<tr><th scope=row>77301</th><td>C1orf186         </td><td>C1-Others</td><td>  19.5178553</td><td> 2.004286</td><td>0.2385973</td><td>2.563599e-05</td><td>1.155523e-03</td></tr>\n",
       "\t<tr><th scope=row>77420</th><td>AC018755.18      </td><td>C1-Others</td><td>  20.9158235</td><td> 2.434000</td><td>0.4074405</td><td>4.323097e-04</td><td>1.538183e-02</td></tr>\n",
       "\t<tr><th scope=row>77436</th><td>CSAG3            </td><td>C1-Others</td><td>  34.0716084</td><td> 3.749961</td><td>0.5780594</td><td>1.962679e-06</td><td>1.128076e-04</td></tr>\n",
       "\t<tr><th scope=row>77438</th><td>ERVV-2           </td><td>C1-Others</td><td>   4.5096973</td><td> 4.439425</td><td>0.5547382</td><td>5.643225e-10</td><td>7.457887e-08</td></tr>\n",
       "\t<tr><th scope=row>77523</th><td>CCL5             </td><td>C1-Others</td><td> 310.1019524</td><td> 2.330701</td><td>0.1700026</td><td>4.975354e-15</td><td>2.478364e-12</td></tr>\n",
       "\t<tr><th scope=row>77593</th><td>LHX1             </td><td>C1-Others</td><td>1389.8586789</td><td>-2.089638</td><td>0.3349514</td><td>1.141445e-03</td><td>3.692026e-02</td></tr>\n",
       "\t<tr><th scope=row>77629</th><td>CCL23            </td><td>C1-Others</td><td>   3.1397778</td><td> 2.157576</td><td>0.2285893</td><td>4.105510e-07</td><td>2.779016e-05</td></tr>\n",
       "\t<tr><th scope=row>77654</th><td>CCL18            </td><td>C1-Others</td><td> 168.6231782</td><td> 2.325107</td><td>0.3751870</td><td>4.126492e-04</td><td>1.470924e-02</td></tr>\n",
       "</tbody>\n",
       "</table>\n"
      ],
      "text/latex": [
       "A data.frame: 267 × 7\n",
       "\\begin{tabular}{r|lllllll}\n",
       "  & Gene & contrast & baseMean & log2FoldChange & lfcSE & pvalue & padj\\\\\n",
       "  & <chr> & <chr> & <dbl> & <dbl> & <dbl> & <dbl> & <dbl>\\\\\n",
       "\\hline\n",
       "\t58368 & FGR       & C1-Others &  420.178734 &  2.057692 & 0.1266150 & 6.620910e-17 & 5.144977e-14\\\\\n",
       "\t58425 & ABCB5     & C1-Others &   24.739528 &  5.702053 & 0.4129470 & 4.877729e-30 & 3.158655e-26\\\\\n",
       "\t58442 & MEOX1     & C1-Others &  115.875604 &  2.202919 & 0.2541805 & 2.217288e-06 & 1.255838e-04\\\\\n",
       "\t58553 & SELE      & C1-Others &  182.930944 &  2.125420 & 0.2894084 & 1.007859e-04 & 4.037048e-03\\\\\n",
       "\t58673 & CD22      & C1-Others &  222.687802 &  2.208963 & 0.2145546 & 1.753048e-08 & 1.661291e-06\\\\\n",
       "\t58740 & SLC11A1   & C1-Others & 1839.257191 &  2.053223 & 0.1597879 & 4.357491e-11 & 7.558301e-09\\\\\n",
       "\t58749 & MARCO     & C1-Others &  251.746889 &  3.256844 & 0.2588860 & 2.843660e-18 & 3.452737e-15\\\\\n",
       "\t58750 & CYP24A1   & C1-Others &   55.975576 &  2.462899 & 0.2855340 & 3.001052e-07 & 2.074784e-05\\\\\n",
       "\t58776 & GABRA1    & C1-Others &  710.184018 & -2.350874 & 0.3434544 & 8.382293e-05 & 3.435502e-03\\\\\n",
       "\t58819 & SLAMF7    & C1-Others &  137.443388 &  2.307504 & 0.1782576 & 2.218681e-13 & 7.696842e-11\\\\\n",
       "\t58883 & STAP1     & C1-Others &   13.987506 &  2.285907 & 0.2227284 & 7.767266e-09 & 8.074147e-07\\\\\n",
       "\t59000 & TNFRSF17  & C1-Others &    6.289892 &  2.726164 & 0.2083899 & 1.197709e-16 & 8.309962e-14\\\\\n",
       "\t59259 & CHI3L2    & C1-Others & 3644.506436 &  2.031140 & 0.2271147 & 5.620862e-06 & 2.919692e-04\\\\\n",
       "\t59556 & FCGR2B    & C1-Others &  390.170017 &  2.498627 & 0.1844242 & 4.437758e-16 & 2.781042e-13\\\\\n",
       "\t59658 & FGF4      & C1-Others &   42.545025 &  4.254400 & 0.6306065 & 2.459686e-07 & 1.774460e-05\\\\\n",
       "\t59683 & PAX2      & C1-Others &  141.951139 &  3.642530 & 0.3751320 & 1.864406e-12 & 5.123014e-10\\\\\n",
       "\t59718 & NMRK2     & C1-Others &    9.637724 &  2.953381 & 0.3997014 & 1.023316e-06 & 6.212487e-05\\\\\n",
       "\t59733 & CAPN6     & C1-Others &  219.791504 &  2.387931 & 0.3433559 & 5.294015e-05 & 2.245564e-03\\\\\n",
       "\t59743 & TYR       & C1-Others &  105.437096 &  4.137696 & 0.4668654 & 1.807642e-11 & 3.511706e-09\\\\\n",
       "\t59757 & CST7      & C1-Others &  102.415548 &  3.639320 & 0.1787137 & 2.341171e-49 & 2.274097e-45\\\\\n",
       "\t59783 & P2RY10    & C1-Others &   21.620408 &  2.310124 & 0.1927336 & 1.063810e-11 & 2.271058e-09\\\\\n",
       "\t59927 & OPRK1     & C1-Others &   86.614995 & -2.194583 & 0.3621391 & 9.713828e-04 & 3.231345e-02\\\\\n",
       "\t60000 & FCN1      & C1-Others &  143.844394 &  2.510708 & 0.1986675 & 2.866655e-14 & 1.136541e-11\\\\\n",
       "\t60076 & TMPRSS11E & C1-Others &   15.992479 &  6.621583 & 0.5237878 & 7.158672e-27 & 2.781431e-23\\\\\n",
       "\t60124 & SLC15A1   & C1-Others &   12.951943 &  2.225661 & 0.3678206 & 8.615465e-04 & 2.910828e-02\\\\\n",
       "\t60139 & SIGLEC1   & C1-Others &  872.881000 &  2.188271 & 0.1780273 & 2.478153e-11 & 4.674086e-09\\\\\n",
       "\t60156 & SIRPG     & C1-Others &   28.745386 &  2.103172 & 0.1851364 & 2.542537e-09 & 2.975535e-07\\\\\n",
       "\t60225 & LYZ       & C1-Others & 1979.429442 &  2.132764 & 0.1658509 & 8.490367e-12 & 1.895889e-09\\\\\n",
       "\t60242 & CD209     & C1-Others &  173.425830 &  2.712416 & 0.1977330 & 4.707434e-18 & 4.956943e-15\\\\\n",
       "\t60299 & CMA1      & C1-Others &    4.790187 &  3.273066 & 0.4428159 & 2.848469e-07 & 1.990547e-05\\\\\n",
       "\t⋮ & ⋮ & ⋮ & ⋮ & ⋮ & ⋮ & ⋮ & ⋮\\\\\n",
       "\t75774 & SERPINB4          & C1-Others &    5.5821567 &  3.390681 & 0.5819161 & 3.985959e-05 & 1.740118e-03\\\\\n",
       "\t75861 & CRYGS             & C1-Others &  201.5380201 &  2.043134 & 0.1774042 & 4.103015e-09 & 4.554815e-07\\\\\n",
       "\t75892 & PTPRCAP           & C1-Others &  179.2743070 &  2.138650 & 0.1817586 & 3.737100e-10 & 5.323731e-08\\\\\n",
       "\t75893 & PVRIG             & C1-Others &   47.8112470 &  2.117584 & 0.1636717 & 8.598243e-12 & 1.898160e-09\\\\\n",
       "\t75942 & UBD               & C1-Others &  199.4833644 &  3.072392 & 0.2973245 & 3.166384e-12 & 7.786499e-10\\\\\n",
       "\t76011 & GNAT3             & C1-Others &    1.7667667 &  5.348229 & 0.9098092 & 1.759280e-06 & 1.029444e-04\\\\\n",
       "\t76054 & GPR33             & C1-Others &    0.9636189 &  2.035085 & 0.3143815 & 9.931933e-04 & 3.281423e-02\\\\\n",
       "\t76305 & LTB               & C1-Others &  189.0164338 &  2.099160 & 0.1554436 & 1.536874e-12 & 4.456246e-10\\\\\n",
       "\t76405 & HLA-DQB2          & C1-Others &  158.5747765 &  2.043486 & 0.2101353 & 6.842532e-07 & 4.344114e-05\\\\\n",
       "\t76478 & MFRP              & C1-Others &  247.5572017 &  2.163911 & 0.3818532 & 2.303254e-03 & 6.949046e-02\\\\\n",
       "\t76526 & HLA-DQA2          & C1-Others &  359.3901472 &  2.093103 & 0.2553253 & 1.858738e-05 & 8.638686e-04\\\\\n",
       "\t76533 & OR2I1P            & C1-Others &   20.3685725 &  2.717006 & 0.2931774 & 4.725982e-09 & 5.157958e-07\\\\\n",
       "\t76585 & TNFRSF13B         & C1-Others &    4.9862064 &  2.904760 & 0.3347738 & 1.272690e-08 & 1.242440e-06\\\\\n",
       "\t76733 & XXbac-BPG116M5.17 & C1-Others &   47.6396479 &  2.210194 & 0.3814433 & 1.510439e-03 & 4.763522e-02\\\\\n",
       "\t76744 & LILRA6            & C1-Others &   86.3189660 &  2.390657 & 0.1790235 & 7.972581e-15 & 3.687698e-12\\\\\n",
       "\t76945 & RTL1              & C1-Others &  171.2202923 &  2.574758 & 0.2756071 & 1.104944e-08 & 1.106482e-06\\\\\n",
       "\t76950 & IGLL5             & C1-Others &  150.3369584 &  3.532773 & 0.3204649 & 2.713272e-15 & 1.464187e-12\\\\\n",
       "\t76995 & HCAR3             & C1-Others &   46.3075105 &  2.471112 & 0.2609598 & 1.727237e-08 & 1.644854e-06\\\\\n",
       "\t77023 & CYP2A6            & C1-Others &   20.9131174 & -2.015091 & 0.2861600 & 3.892230e-04 & 1.397678e-02\\\\\n",
       "\t77032 & SMLR1             & C1-Others &    9.0948911 &  2.257963 & 0.3783949 & 8.858655e-04 & 2.967191e-02\\\\\n",
       "\t77087 & MGAM              & C1-Others &  435.0673319 &  2.092810 & 0.2228753 & 9.427019e-07 & 5.795528e-05\\\\\n",
       "\t77271 & RP3-422G23.4      & C1-Others &   10.8547611 & -2.450982 & 0.4873257 & 2.906694e-03 & 8.607979e-02\\\\\n",
       "\t77301 & C1orf186          & C1-Others &   19.5178553 &  2.004286 & 0.2385973 & 2.563599e-05 & 1.155523e-03\\\\\n",
       "\t77420 & AC018755.18       & C1-Others &   20.9158235 &  2.434000 & 0.4074405 & 4.323097e-04 & 1.538183e-02\\\\\n",
       "\t77436 & CSAG3             & C1-Others &   34.0716084 &  3.749961 & 0.5780594 & 1.962679e-06 & 1.128076e-04\\\\\n",
       "\t77438 & ERVV-2            & C1-Others &    4.5096973 &  4.439425 & 0.5547382 & 5.643225e-10 & 7.457887e-08\\\\\n",
       "\t77523 & CCL5              & C1-Others &  310.1019524 &  2.330701 & 0.1700026 & 4.975354e-15 & 2.478364e-12\\\\\n",
       "\t77593 & LHX1              & C1-Others & 1389.8586789 & -2.089638 & 0.3349514 & 1.141445e-03 & 3.692026e-02\\\\\n",
       "\t77629 & CCL23             & C1-Others &    3.1397778 &  2.157576 & 0.2285893 & 4.105510e-07 & 2.779016e-05\\\\\n",
       "\t77654 & CCL18             & C1-Others &  168.6231782 &  2.325107 & 0.3751870 & 4.126492e-04 & 1.470924e-02\\\\\n",
       "\\end{tabular}\n"
      ],
      "text/markdown": [
       "\n",
       "A data.frame: 267 × 7\n",
       "\n",
       "| <!--/--> | Gene &lt;chr&gt; | contrast &lt;chr&gt; | baseMean &lt;dbl&gt; | log2FoldChange &lt;dbl&gt; | lfcSE &lt;dbl&gt; | pvalue &lt;dbl&gt; | padj &lt;dbl&gt; |\n",
       "|---|---|---|---|---|---|---|---|\n",
       "| 58368 | FGR       | C1-Others |  420.178734 |  2.057692 | 0.1266150 | 6.620910e-17 | 5.144977e-14 |\n",
       "| 58425 | ABCB5     | C1-Others |   24.739528 |  5.702053 | 0.4129470 | 4.877729e-30 | 3.158655e-26 |\n",
       "| 58442 | MEOX1     | C1-Others |  115.875604 |  2.202919 | 0.2541805 | 2.217288e-06 | 1.255838e-04 |\n",
       "| 58553 | SELE      | C1-Others |  182.930944 |  2.125420 | 0.2894084 | 1.007859e-04 | 4.037048e-03 |\n",
       "| 58673 | CD22      | C1-Others |  222.687802 |  2.208963 | 0.2145546 | 1.753048e-08 | 1.661291e-06 |\n",
       "| 58740 | SLC11A1   | C1-Others | 1839.257191 |  2.053223 | 0.1597879 | 4.357491e-11 | 7.558301e-09 |\n",
       "| 58749 | MARCO     | C1-Others |  251.746889 |  3.256844 | 0.2588860 | 2.843660e-18 | 3.452737e-15 |\n",
       "| 58750 | CYP24A1   | C1-Others |   55.975576 |  2.462899 | 0.2855340 | 3.001052e-07 | 2.074784e-05 |\n",
       "| 58776 | GABRA1    | C1-Others |  710.184018 | -2.350874 | 0.3434544 | 8.382293e-05 | 3.435502e-03 |\n",
       "| 58819 | SLAMF7    | C1-Others |  137.443388 |  2.307504 | 0.1782576 | 2.218681e-13 | 7.696842e-11 |\n",
       "| 58883 | STAP1     | C1-Others |   13.987506 |  2.285907 | 0.2227284 | 7.767266e-09 | 8.074147e-07 |\n",
       "| 59000 | TNFRSF17  | C1-Others |    6.289892 |  2.726164 | 0.2083899 | 1.197709e-16 | 8.309962e-14 |\n",
       "| 59259 | CHI3L2    | C1-Others | 3644.506436 |  2.031140 | 0.2271147 | 5.620862e-06 | 2.919692e-04 |\n",
       "| 59556 | FCGR2B    | C1-Others |  390.170017 |  2.498627 | 0.1844242 | 4.437758e-16 | 2.781042e-13 |\n",
       "| 59658 | FGF4      | C1-Others |   42.545025 |  4.254400 | 0.6306065 | 2.459686e-07 | 1.774460e-05 |\n",
       "| 59683 | PAX2      | C1-Others |  141.951139 |  3.642530 | 0.3751320 | 1.864406e-12 | 5.123014e-10 |\n",
       "| 59718 | NMRK2     | C1-Others |    9.637724 |  2.953381 | 0.3997014 | 1.023316e-06 | 6.212487e-05 |\n",
       "| 59733 | CAPN6     | C1-Others |  219.791504 |  2.387931 | 0.3433559 | 5.294015e-05 | 2.245564e-03 |\n",
       "| 59743 | TYR       | C1-Others |  105.437096 |  4.137696 | 0.4668654 | 1.807642e-11 | 3.511706e-09 |\n",
       "| 59757 | CST7      | C1-Others |  102.415548 |  3.639320 | 0.1787137 | 2.341171e-49 | 2.274097e-45 |\n",
       "| 59783 | P2RY10    | C1-Others |   21.620408 |  2.310124 | 0.1927336 | 1.063810e-11 | 2.271058e-09 |\n",
       "| 59927 | OPRK1     | C1-Others |   86.614995 | -2.194583 | 0.3621391 | 9.713828e-04 | 3.231345e-02 |\n",
       "| 60000 | FCN1      | C1-Others |  143.844394 |  2.510708 | 0.1986675 | 2.866655e-14 | 1.136541e-11 |\n",
       "| 60076 | TMPRSS11E | C1-Others |   15.992479 |  6.621583 | 0.5237878 | 7.158672e-27 | 2.781431e-23 |\n",
       "| 60124 | SLC15A1   | C1-Others |   12.951943 |  2.225661 | 0.3678206 | 8.615465e-04 | 2.910828e-02 |\n",
       "| 60139 | SIGLEC1   | C1-Others |  872.881000 |  2.188271 | 0.1780273 | 2.478153e-11 | 4.674086e-09 |\n",
       "| 60156 | SIRPG     | C1-Others |   28.745386 |  2.103172 | 0.1851364 | 2.542537e-09 | 2.975535e-07 |\n",
       "| 60225 | LYZ       | C1-Others | 1979.429442 |  2.132764 | 0.1658509 | 8.490367e-12 | 1.895889e-09 |\n",
       "| 60242 | CD209     | C1-Others |  173.425830 |  2.712416 | 0.1977330 | 4.707434e-18 | 4.956943e-15 |\n",
       "| 60299 | CMA1      | C1-Others |    4.790187 |  3.273066 | 0.4428159 | 2.848469e-07 | 1.990547e-05 |\n",
       "| ⋮ | ⋮ | ⋮ | ⋮ | ⋮ | ⋮ | ⋮ | ⋮ |\n",
       "| 75774 | SERPINB4          | C1-Others |    5.5821567 |  3.390681 | 0.5819161 | 3.985959e-05 | 1.740118e-03 |\n",
       "| 75861 | CRYGS             | C1-Others |  201.5380201 |  2.043134 | 0.1774042 | 4.103015e-09 | 4.554815e-07 |\n",
       "| 75892 | PTPRCAP           | C1-Others |  179.2743070 |  2.138650 | 0.1817586 | 3.737100e-10 | 5.323731e-08 |\n",
       "| 75893 | PVRIG             | C1-Others |   47.8112470 |  2.117584 | 0.1636717 | 8.598243e-12 | 1.898160e-09 |\n",
       "| 75942 | UBD               | C1-Others |  199.4833644 |  3.072392 | 0.2973245 | 3.166384e-12 | 7.786499e-10 |\n",
       "| 76011 | GNAT3             | C1-Others |    1.7667667 |  5.348229 | 0.9098092 | 1.759280e-06 | 1.029444e-04 |\n",
       "| 76054 | GPR33             | C1-Others |    0.9636189 |  2.035085 | 0.3143815 | 9.931933e-04 | 3.281423e-02 |\n",
       "| 76305 | LTB               | C1-Others |  189.0164338 |  2.099160 | 0.1554436 | 1.536874e-12 | 4.456246e-10 |\n",
       "| 76405 | HLA-DQB2          | C1-Others |  158.5747765 |  2.043486 | 0.2101353 | 6.842532e-07 | 4.344114e-05 |\n",
       "| 76478 | MFRP              | C1-Others |  247.5572017 |  2.163911 | 0.3818532 | 2.303254e-03 | 6.949046e-02 |\n",
       "| 76526 | HLA-DQA2          | C1-Others |  359.3901472 |  2.093103 | 0.2553253 | 1.858738e-05 | 8.638686e-04 |\n",
       "| 76533 | OR2I1P            | C1-Others |   20.3685725 |  2.717006 | 0.2931774 | 4.725982e-09 | 5.157958e-07 |\n",
       "| 76585 | TNFRSF13B         | C1-Others |    4.9862064 |  2.904760 | 0.3347738 | 1.272690e-08 | 1.242440e-06 |\n",
       "| 76733 | XXbac-BPG116M5.17 | C1-Others |   47.6396479 |  2.210194 | 0.3814433 | 1.510439e-03 | 4.763522e-02 |\n",
       "| 76744 | LILRA6            | C1-Others |   86.3189660 |  2.390657 | 0.1790235 | 7.972581e-15 | 3.687698e-12 |\n",
       "| 76945 | RTL1              | C1-Others |  171.2202923 |  2.574758 | 0.2756071 | 1.104944e-08 | 1.106482e-06 |\n",
       "| 76950 | IGLL5             | C1-Others |  150.3369584 |  3.532773 | 0.3204649 | 2.713272e-15 | 1.464187e-12 |\n",
       "| 76995 | HCAR3             | C1-Others |   46.3075105 |  2.471112 | 0.2609598 | 1.727237e-08 | 1.644854e-06 |\n",
       "| 77023 | CYP2A6            | C1-Others |   20.9131174 | -2.015091 | 0.2861600 | 3.892230e-04 | 1.397678e-02 |\n",
       "| 77032 | SMLR1             | C1-Others |    9.0948911 |  2.257963 | 0.3783949 | 8.858655e-04 | 2.967191e-02 |\n",
       "| 77087 | MGAM              | C1-Others |  435.0673319 |  2.092810 | 0.2228753 | 9.427019e-07 | 5.795528e-05 |\n",
       "| 77271 | RP3-422G23.4      | C1-Others |   10.8547611 | -2.450982 | 0.4873257 | 2.906694e-03 | 8.607979e-02 |\n",
       "| 77301 | C1orf186          | C1-Others |   19.5178553 |  2.004286 | 0.2385973 | 2.563599e-05 | 1.155523e-03 |\n",
       "| 77420 | AC018755.18       | C1-Others |   20.9158235 |  2.434000 | 0.4074405 | 4.323097e-04 | 1.538183e-02 |\n",
       "| 77436 | CSAG3             | C1-Others |   34.0716084 |  3.749961 | 0.5780594 | 1.962679e-06 | 1.128076e-04 |\n",
       "| 77438 | ERVV-2            | C1-Others |    4.5096973 |  4.439425 | 0.5547382 | 5.643225e-10 | 7.457887e-08 |\n",
       "| 77523 | CCL5              | C1-Others |  310.1019524 |  2.330701 | 0.1700026 | 4.975354e-15 | 2.478364e-12 |\n",
       "| 77593 | LHX1              | C1-Others | 1389.8586789 | -2.089638 | 0.3349514 | 1.141445e-03 | 3.692026e-02 |\n",
       "| 77629 | CCL23             | C1-Others |    3.1397778 |  2.157576 | 0.2285893 | 4.105510e-07 | 2.779016e-05 |\n",
       "| 77654 | CCL18             | C1-Others |  168.6231782 |  2.325107 | 0.3751870 | 4.126492e-04 | 1.470924e-02 |\n",
       "\n"
      ],
      "text/plain": [
       "      Gene              contrast  baseMean     log2FoldChange lfcSE    \n",
       "58368 FGR               C1-Others  420.178734   2.057692      0.1266150\n",
       "58425 ABCB5             C1-Others   24.739528   5.702053      0.4129470\n",
       "58442 MEOX1             C1-Others  115.875604   2.202919      0.2541805\n",
       "58553 SELE              C1-Others  182.930944   2.125420      0.2894084\n",
       "58673 CD22              C1-Others  222.687802   2.208963      0.2145546\n",
       "58740 SLC11A1           C1-Others 1839.257191   2.053223      0.1597879\n",
       "58749 MARCO             C1-Others  251.746889   3.256844      0.2588860\n",
       "58750 CYP24A1           C1-Others   55.975576   2.462899      0.2855340\n",
       "58776 GABRA1            C1-Others  710.184018  -2.350874      0.3434544\n",
       "58819 SLAMF7            C1-Others  137.443388   2.307504      0.1782576\n",
       "58883 STAP1             C1-Others   13.987506   2.285907      0.2227284\n",
       "59000 TNFRSF17          C1-Others    6.289892   2.726164      0.2083899\n",
       "59259 CHI3L2            C1-Others 3644.506436   2.031140      0.2271147\n",
       "59556 FCGR2B            C1-Others  390.170017   2.498627      0.1844242\n",
       "59658 FGF4              C1-Others   42.545025   4.254400      0.6306065\n",
       "59683 PAX2              C1-Others  141.951139   3.642530      0.3751320\n",
       "59718 NMRK2             C1-Others    9.637724   2.953381      0.3997014\n",
       "59733 CAPN6             C1-Others  219.791504   2.387931      0.3433559\n",
       "59743 TYR               C1-Others  105.437096   4.137696      0.4668654\n",
       "59757 CST7              C1-Others  102.415548   3.639320      0.1787137\n",
       "59783 P2RY10            C1-Others   21.620408   2.310124      0.1927336\n",
       "59927 OPRK1             C1-Others   86.614995  -2.194583      0.3621391\n",
       "60000 FCN1              C1-Others  143.844394   2.510708      0.1986675\n",
       "60076 TMPRSS11E         C1-Others   15.992479   6.621583      0.5237878\n",
       "60124 SLC15A1           C1-Others   12.951943   2.225661      0.3678206\n",
       "60139 SIGLEC1           C1-Others  872.881000   2.188271      0.1780273\n",
       "60156 SIRPG             C1-Others   28.745386   2.103172      0.1851364\n",
       "60225 LYZ               C1-Others 1979.429442   2.132764      0.1658509\n",
       "60242 CD209             C1-Others  173.425830   2.712416      0.1977330\n",
       "60299 CMA1              C1-Others    4.790187   3.273066      0.4428159\n",
       "⋮     ⋮                 ⋮         ⋮            ⋮              ⋮        \n",
       "75774 SERPINB4          C1-Others    5.5821567  3.390681      0.5819161\n",
       "75861 CRYGS             C1-Others  201.5380201  2.043134      0.1774042\n",
       "75892 PTPRCAP           C1-Others  179.2743070  2.138650      0.1817586\n",
       "75893 PVRIG             C1-Others   47.8112470  2.117584      0.1636717\n",
       "75942 UBD               C1-Others  199.4833644  3.072392      0.2973245\n",
       "76011 GNAT3             C1-Others    1.7667667  5.348229      0.9098092\n",
       "76054 GPR33             C1-Others    0.9636189  2.035085      0.3143815\n",
       "76305 LTB               C1-Others  189.0164338  2.099160      0.1554436\n",
       "76405 HLA-DQB2          C1-Others  158.5747765  2.043486      0.2101353\n",
       "76478 MFRP              C1-Others  247.5572017  2.163911      0.3818532\n",
       "76526 HLA-DQA2          C1-Others  359.3901472  2.093103      0.2553253\n",
       "76533 OR2I1P            C1-Others   20.3685725  2.717006      0.2931774\n",
       "76585 TNFRSF13B         C1-Others    4.9862064  2.904760      0.3347738\n",
       "76733 XXbac-BPG116M5.17 C1-Others   47.6396479  2.210194      0.3814433\n",
       "76744 LILRA6            C1-Others   86.3189660  2.390657      0.1790235\n",
       "76945 RTL1              C1-Others  171.2202923  2.574758      0.2756071\n",
       "76950 IGLL5             C1-Others  150.3369584  3.532773      0.3204649\n",
       "76995 HCAR3             C1-Others   46.3075105  2.471112      0.2609598\n",
       "77023 CYP2A6            C1-Others   20.9131174 -2.015091      0.2861600\n",
       "77032 SMLR1             C1-Others    9.0948911  2.257963      0.3783949\n",
       "77087 MGAM              C1-Others  435.0673319  2.092810      0.2228753\n",
       "77271 RP3-422G23.4      C1-Others   10.8547611 -2.450982      0.4873257\n",
       "77301 C1orf186          C1-Others   19.5178553  2.004286      0.2385973\n",
       "77420 AC018755.18       C1-Others   20.9158235  2.434000      0.4074405\n",
       "77436 CSAG3             C1-Others   34.0716084  3.749961      0.5780594\n",
       "77438 ERVV-2            C1-Others    4.5096973  4.439425      0.5547382\n",
       "77523 CCL5              C1-Others  310.1019524  2.330701      0.1700026\n",
       "77593 LHX1              C1-Others 1389.8586789 -2.089638      0.3349514\n",
       "77629 CCL23             C1-Others    3.1397778  2.157576      0.2285893\n",
       "77654 CCL18             C1-Others  168.6231782  2.325107      0.3751870\n",
       "      pvalue       padj        \n",
       "58368 6.620910e-17 5.144977e-14\n",
       "58425 4.877729e-30 3.158655e-26\n",
       "58442 2.217288e-06 1.255838e-04\n",
       "58553 1.007859e-04 4.037048e-03\n",
       "58673 1.753048e-08 1.661291e-06\n",
       "58740 4.357491e-11 7.558301e-09\n",
       "58749 2.843660e-18 3.452737e-15\n",
       "58750 3.001052e-07 2.074784e-05\n",
       "58776 8.382293e-05 3.435502e-03\n",
       "58819 2.218681e-13 7.696842e-11\n",
       "58883 7.767266e-09 8.074147e-07\n",
       "59000 1.197709e-16 8.309962e-14\n",
       "59259 5.620862e-06 2.919692e-04\n",
       "59556 4.437758e-16 2.781042e-13\n",
       "59658 2.459686e-07 1.774460e-05\n",
       "59683 1.864406e-12 5.123014e-10\n",
       "59718 1.023316e-06 6.212487e-05\n",
       "59733 5.294015e-05 2.245564e-03\n",
       "59743 1.807642e-11 3.511706e-09\n",
       "59757 2.341171e-49 2.274097e-45\n",
       "59783 1.063810e-11 2.271058e-09\n",
       "59927 9.713828e-04 3.231345e-02\n",
       "60000 2.866655e-14 1.136541e-11\n",
       "60076 7.158672e-27 2.781431e-23\n",
       "60124 8.615465e-04 2.910828e-02\n",
       "60139 2.478153e-11 4.674086e-09\n",
       "60156 2.542537e-09 2.975535e-07\n",
       "60225 8.490367e-12 1.895889e-09\n",
       "60242 4.707434e-18 4.956943e-15\n",
       "60299 2.848469e-07 1.990547e-05\n",
       "⋮     ⋮            ⋮           \n",
       "75774 3.985959e-05 1.740118e-03\n",
       "75861 4.103015e-09 4.554815e-07\n",
       "75892 3.737100e-10 5.323731e-08\n",
       "75893 8.598243e-12 1.898160e-09\n",
       "75942 3.166384e-12 7.786499e-10\n",
       "76011 1.759280e-06 1.029444e-04\n",
       "76054 9.931933e-04 3.281423e-02\n",
       "76305 1.536874e-12 4.456246e-10\n",
       "76405 6.842532e-07 4.344114e-05\n",
       "76478 2.303254e-03 6.949046e-02\n",
       "76526 1.858738e-05 8.638686e-04\n",
       "76533 4.725982e-09 5.157958e-07\n",
       "76585 1.272690e-08 1.242440e-06\n",
       "76733 1.510439e-03 4.763522e-02\n",
       "76744 7.972581e-15 3.687698e-12\n",
       "76945 1.104944e-08 1.106482e-06\n",
       "76950 2.713272e-15 1.464187e-12\n",
       "76995 1.727237e-08 1.644854e-06\n",
       "77023 3.892230e-04 1.397678e-02\n",
       "77032 8.858655e-04 2.967191e-02\n",
       "77087 9.427019e-07 5.795528e-05\n",
       "77271 2.906694e-03 8.607979e-02\n",
       "77301 2.563599e-05 1.155523e-03\n",
       "77420 4.323097e-04 1.538183e-02\n",
       "77436 1.962679e-06 1.128076e-04\n",
       "77438 5.643225e-10 7.457887e-08\n",
       "77523 4.975354e-15 2.478364e-12\n",
       "77593 1.141445e-03 3.692026e-02\n",
       "77629 4.105510e-07 2.779016e-05\n",
       "77654 4.126492e-04 1.470924e-02"
      ]
     },
     "metadata": {},
     "output_type": "display_data"
    }
   ],
   "source": [
    "dysreg_sig_genes[ which(dysreg_sig_genes$contrast == \"C1-Others\"),]"
   ]
  },
  {
   "cell_type": "markdown",
   "metadata": {},
   "source": [
    "# Volcano plots"
   ]
  },
  {
   "cell_type": "code",
   "execution_count": 237,
   "metadata": {},
   "outputs": [],
   "source": [
    "volcano_plot <- function(genetable, contrast, foldchange, padj){\n",
    "res <- genetable[ genetable$contrast == contrast,]    \n",
    "    \n",
    "res$threshold <- NA\n",
    "res$threshold[res$log2FoldChange > foldchange & res$padj < padj] <- \"Up-regulated\"\n",
    "res$threshold[res$log2FoldChange < -(foldchange) & res$padj < padj] <- \"Down-regulated\"\n",
    "res$threshold[is.na(res$threshold)] <- \"not significant\"    \n",
    "\n",
    "res$genelabels <- ifelse(res$padj < padj & abs(res$log2FoldChange) > foldchange, TRUE, FALSE)    \n",
    "\n",
    "myplot <- ggplot(res, aes(x=log2FoldChange, y=-log10(pvalue))) +\n",
    "geom_point(aes(color = threshold), size=2.5) +\n",
    "scale_colour_manual(values = c(\"Down-regulated\"= \"blue\", \"Up-regulated\"=\"red\",  \"not significant\"= \"black\")) +\n",
    "xlab(\"log2 fold change\") + ylab(\"-log10 p-value\") + \n",
    "geom_text_repel(label = ifelse(res$genelabels == TRUE, as.character(res$Gene),\"\"), \n",
    "                box.padding = unit(.7, \"lines\"),hjust= 0.30) + myplot + myaxis + \n",
    "theme(legend.position = \"none\", axis.text.x = element_text(angle = 0)) +\n",
    "    labs(title = contrast)\n",
    "    \n",
    "return(myplot)    \n",
    "}"
   ]
  },
  {
   "cell_type": "code",
   "execution_count": 238,
   "metadata": {},
   "outputs": [],
   "source": [
    "C1_volcano <- volcano_plot(genetable, \"C1-Others\", 2, 0.1)"
   ]
  },
  {
   "cell_type": "code",
   "execution_count": 239,
   "metadata": {},
   "outputs": [],
   "source": [
    "C2_volcano <- volcano_plot(genetable, \"C2-Others\", 2, 0.1)"
   ]
  },
  {
   "cell_type": "code",
   "execution_count": 240,
   "metadata": {},
   "outputs": [],
   "source": [
    "C3_volcano <- volcano_plot(genetable, \"C3-Others\", 2, 0.1)"
   ]
  },
  {
   "cell_type": "code",
   "execution_count": 241,
   "metadata": {},
   "outputs": [
    {
     "name": "stderr",
     "output_type": "stream",
     "text": [
      "Warning message:\n",
      "“Removed 16 rows containing missing values (geom_point).”\n",
      "Warning message:\n",
      "“Removed 16 rows containing missing values (geom_text_repel).”\n"
     ]
    },
    {
     "data": {
      "image/png": "[encoded data removed]",
      "text/plain": [
       "plot without title"
      ]
     },
     "metadata": {
      "image/png": {
       "height": 420,
       "width": 420
      }
     },
     "output_type": "display_data"
    }
   ],
   "source": [
    "C3_volcano"
   ]
  },
  {
   "cell_type": "code",
   "execution_count": 242,
   "metadata": {},
   "outputs": [],
   "source": [
    "C4_volcano <- volcano_plot(genetable, \"C4-Others\", 2, 0.1)"
   ]
  },
  {
   "cell_type": "code",
   "execution_count": 243,
   "metadata": {},
   "outputs": [
    {
     "name": "stderr",
     "output_type": "stream",
     "text": [
      "Warning message:\n",
      "“Removed 27 rows containing missing values (geom_point).”\n",
      "Warning message:\n",
      "“Removed 27 rows containing missing values (geom_text_repel).”\n",
      "Warning message:\n",
      "“ggrepel: 253 unlabeled data points (too many overlaps). Consider increasing max.overlaps”\n"
     ]
    },
    {
     "data": {
      "text/html": [
       "<strong>pdf:</strong> 2"
      ],
      "text/latex": [
       "\\textbf{pdf:} 2"
      ],
      "text/markdown": [
       "**pdf:** 2"
      ],
      "text/plain": [
       "pdf \n",
       "  2 "
      ]
     },
     "metadata": {},
     "output_type": "display_data"
    }
   ],
   "source": [
    "pdf(paste0(plotpath, \"DESeq2_C1_volcano.pdf\"),\n",
    "   width = 10, height = 10)\n",
    "\n",
    "C1_volcano\n",
    "\n",
    "dev.off()"
   ]
  },
  {
   "cell_type": "code",
   "execution_count": 244,
   "metadata": {},
   "outputs": [
    {
     "name": "stderr",
     "output_type": "stream",
     "text": [
      "Warning message:\n",
      "“Removed 40 rows containing missing values (geom_point).”\n",
      "Warning message:\n",
      "“Removed 44 rows containing missing values (geom_text_repel).”\n",
      "Warning message:\n",
      "“ggrepel: 3 unlabeled data points (too many overlaps). Consider increasing max.overlaps”\n"
     ]
    },
    {
     "data": {
      "text/html": [
       "<strong>pdf:</strong> 2"
      ],
      "text/latex": [
       "\\textbf{pdf:} 2"
      ],
      "text/markdown": [
       "**pdf:** 2"
      ],
      "text/plain": [
       "pdf \n",
       "  2 "
      ]
     },
     "metadata": {},
     "output_type": "display_data"
    }
   ],
   "source": [
    "pdf(paste0(plotpath, \"DESeq2_C2_volcano.pdf\"),\n",
    "   width = 10, height = 10)\n",
    "\n",
    "C2_volcano\n",
    "\n",
    "dev.off()"
   ]
  },
  {
   "cell_type": "code",
   "execution_count": 245,
   "metadata": {},
   "outputs": [
    {
     "name": "stderr",
     "output_type": "stream",
     "text": [
      "Warning message:\n",
      "“Removed 16 rows containing missing values (geom_point).”\n",
      "Warning message:\n",
      "“Removed 16 rows containing missing values (geom_text_repel).”\n"
     ]
    },
    {
     "data": {
      "text/html": [
       "<strong>pdf:</strong> 2"
      ],
      "text/latex": [
       "\\textbf{pdf:} 2"
      ],
      "text/markdown": [
       "**pdf:** 2"
      ],
      "text/plain": [
       "pdf \n",
       "  2 "
      ]
     },
     "metadata": {},
     "output_type": "display_data"
    }
   ],
   "source": [
    "pdf(paste0(plotpath, \"DESeq2_C3_volcano.pdf\"),\n",
    "   width = 10, height = 10)\n",
    "\n",
    "C3_volcano\n",
    "\n",
    "dev.off()"
   ]
  },
  {
   "cell_type": "code",
   "execution_count": 246,
   "metadata": {},
   "outputs": [
    {
     "name": "stderr",
     "output_type": "stream",
     "text": [
      "Warning message:\n",
      "“Removed 5 rows containing missing values (geom_point).”\n",
      "Warning message:\n",
      "“Removed 5 rows containing missing values (geom_text_repel).”\n",
      "Warning message:\n",
      "“ggrepel: 123 unlabeled data points (too many overlaps). Consider increasing max.overlaps”\n"
     ]
    },
    {
     "data": {
      "text/html": [
       "<strong>pdf:</strong> 2"
      ],
      "text/latex": [
       "\\textbf{pdf:} 2"
      ],
      "text/markdown": [
       "**pdf:** 2"
      ],
      "text/plain": [
       "pdf \n",
       "  2 "
      ]
     },
     "metadata": {},
     "output_type": "display_data"
    }
   ],
   "source": [
    "pdf(paste0(plotpath, \"DESeq2_C4_volcano.pdf\"),\n",
    "   width = 10, height = 10)\n",
    "\n",
    "C4_volcano\n",
    "\n",
    "dev.off()"
   ]
  },
  {
   "cell_type": "markdown",
   "metadata": {},
   "source": [
    "# Deprecated"
   ]
  },
  {
   "cell_type": "code",
   "execution_count": null,
   "metadata": {},
   "outputs": [],
   "source": []
  },
  {
   "cell_type": "markdown",
   "metadata": {},
   "source": [
    "# Enrichment analysis with MSigDB"
   ]
  },
  {
   "cell_type": "code",
   "execution_count": null,
   "metadata": {},
   "outputs": [],
   "source": [
    "library(fgsea)"
   ]
  },
  {
   "cell_type": "code",
   "execution_count": null,
   "metadata": {},
   "outputs": [],
   "source": [
    "Hs.H <- read.table(paste0(datapath, \"DEG/h.all.v7.1.symbols.gmt\"), \n",
    "                   header = F, check.names = F, sep = \"\\t\", fill = T, stringsAsFactors = F)"
   ]
  },
  {
   "cell_type": "code",
   "execution_count": null,
   "metadata": {},
   "outputs": [],
   "source": []
  },
  {
   "cell_type": "code",
   "execution_count": null,
   "metadata": {},
   "outputs": [],
   "source": [
    "rownames(Hs.H) <- Hs.H$V1\n",
    "Hs.H$V1 <- NULL\n",
    "Hs.H$V2 <- NULL"
   ]
  },
  {
   "cell_type": "code",
   "execution_count": null,
   "metadata": {},
   "outputs": [],
   "source": [
    "Hs.H.list <- as.list(as.data.frame(t(Hs.H)))"
   ]
  },
  {
   "cell_type": "code",
   "execution_count": null,
   "metadata": {},
   "outputs": [],
   "source": [
    "head(Hs.H.list)"
   ]
  },
  {
   "cell_type": "code",
   "execution_count": null,
   "metadata": {},
   "outputs": [],
   "source": [
    "#shrunken_res_C4 <- shrunken_res_C4[order(shrunken_res_C4$log2FoldChange),]"
   ]
  },
  {
   "cell_type": "code",
   "execution_count": null,
   "metadata": {},
   "outputs": [],
   "source": [
    "ranks <- shrunken_res_C1$log2FoldChange\n",
    "names(ranks) <- rownames(shrunken_res_C1)\n",
    "ranks <- ranks[!is.na(ranks)]\n",
    "head(ranks)"
   ]
  },
  {
   "cell_type": "code",
   "execution_count": null,
   "metadata": {},
   "outputs": [],
   "source": [
    "ranks <- sort(ranks, decreasing = T)"
   ]
  },
  {
   "cell_type": "code",
   "execution_count": null,
   "metadata": {},
   "outputs": [],
   "source": [
    "barplot(ranks, decreasing = T)"
   ]
  },
  {
   "cell_type": "code",
   "execution_count": null,
   "metadata": {},
   "outputs": [],
   "source": [
    "fgseaRes <- fgseaMultilevel(Hs.H.list, ranks, minSize=15, maxSize = 500, eps = 0)"
   ]
  },
  {
   "cell_type": "code",
   "execution_count": null,
   "metadata": {},
   "outputs": [],
   "source": [
    "head(fgseaRes)"
   ]
  },
  {
   "cell_type": "code",
   "execution_count": null,
   "metadata": {},
   "outputs": [],
   "source": [
    "ggplot(fgseaRes, aes(reorder(pathway, NES), NES)) +\n",
    "  geom_col(aes(fill=padj<0.2)) +\n",
    "  coord_flip() +\n",
    "  labs(x=\"Pathway\", y=\"Normalized Enrichment Score\",\n",
    "       title=\"Hallmark pathways NES from GSEA\") + myplot"
   ]
  },
  {
   "cell_type": "markdown",
   "metadata": {},
   "source": [
    "# Using ReactomePA"
   ]
  },
  {
   "cell_type": "code",
   "execution_count": null,
   "metadata": {
    "scrolled": true
   },
   "outputs": [],
   "source": [
    "library(clusterProfiler)"
   ]
  },
  {
   "cell_type": "code",
   "execution_count": null,
   "metadata": {},
   "outputs": [],
   "source": [
    "options(scipen = 999)"
   ]
  },
  {
   "cell_type": "code",
   "execution_count": null,
   "metadata": {},
   "outputs": [],
   "source": []
  },
  {
   "cell_type": "code",
   "execution_count": null,
   "metadata": {},
   "outputs": [],
   "source": [
    "myentrez <-  clusterProfiler::bitr(rownames(shrunken_res_C1), \n",
    "                                   fromType=\"SYMBOL\", toType=\"ENTREZID\", OrgDb= \"org.Hs.eg.db\")"
   ]
  },
  {
   "cell_type": "code",
   "execution_count": null,
   "metadata": {},
   "outputs": [],
   "source": [
    "shrunken_res_C1$Entrez <- myentrez$ENTREZID[match(rownames(shrunken_res_C1), myentrez$SYMBOL)]"
   ]
  },
  {
   "cell_type": "code",
   "execution_count": null,
   "metadata": {},
   "outputs": [],
   "source": []
  },
  {
   "cell_type": "code",
   "execution_count": null,
   "metadata": {},
   "outputs": [],
   "source": [
    "library(ReactomePA)"
   ]
  },
  {
   "cell_type": "code",
   "execution_count": null,
   "metadata": {},
   "outputs": [],
   "source": [
    "myentrez <-  clusterProfiler::bitr(rownames(shrunken_res_C1), \n",
    "                                   fromType=\"SYMBOL\", toType=\"ENTREZID\", OrgDb= \"org.Hs.eg.db\")"
   ]
  },
  {
   "cell_type": "code",
   "execution_count": null,
   "metadata": {},
   "outputs": [],
   "source": [
    "shrunken_res_C1$Entrez <- myentrez$ENTREZID[match(rownames(shrunken_res_C1), myentrez$SYMBOL)]"
   ]
  },
  {
   "cell_type": "code",
   "execution_count": null,
   "metadata": {},
   "outputs": [],
   "source": [
    "mygenelist <- shrunken_res_C1$log2FoldChange\n",
    "names(mygenelist) <- shrunken_res_C1$Entrez"
   ]
  },
  {
   "cell_type": "code",
   "execution_count": null,
   "metadata": {},
   "outputs": [],
   "source": [
    "summary(mygenelist)"
   ]
  },
  {
   "cell_type": "code",
   "execution_count": null,
   "metadata": {},
   "outputs": [],
   "source": [
    "de <- names(mygenelist)[abs(mygenelist) > 1.5]\n",
    "head(de)"
   ]
  },
  {
   "cell_type": "code",
   "execution_count": null,
   "metadata": {},
   "outputs": [],
   "source": [
    "x <- enrichPathway(gene=de, pvalueCutoff = 0.05, readable=TRUE)\n",
    "head(x)"
   ]
  },
  {
   "cell_type": "code",
   "execution_count": null,
   "metadata": {},
   "outputs": [],
   "source": [
    "library(enrichplot)\n",
    "barplot(x, showCategory=20)"
   ]
  },
  {
   "cell_type": "code",
   "execution_count": null,
   "metadata": {},
   "outputs": [],
   "source": [
    "pdf(paste0(plotpath, \"Reactome_C1_barplot.pdf\"),\n",
    "   width = 20, height = 20)\n",
    "\n",
    "barplot(x, showCategory=20)\n",
    "\n",
    "dev.off()"
   ]
  },
  {
   "cell_type": "code",
   "execution_count": null,
   "metadata": {},
   "outputs": [],
   "source": [
    "mygenelist <- mygenelist[order(mygenelist, decreasing = T)]"
   ]
  },
  {
   "cell_type": "code",
   "execution_count": null,
   "metadata": {},
   "outputs": [],
   "source": [
    "y <- gsePathway(mygenelist, \n",
    "                pvalueCutoff = 0.05,\n",
    "                pAdjustMethod = \"BH\", \n",
    "                verbose = FALSE)\n",
    "head(y)"
   ]
  },
  {
   "cell_type": "code",
   "execution_count": null,
   "metadata": {},
   "outputs": [],
   "source": [
    "y <- as.data.frame(y)"
   ]
  },
  {
   "cell_type": "code",
   "execution_count": null,
   "metadata": {},
   "outputs": [],
   "source": [
    "myenrichplot <- ggplot(y, aes(reorder(Description, NES), NES)) +\n",
    "  geom_col(aes(fill=p.adjust<0.01)) +\n",
    "  coord_flip() +\n",
    "  labs(x=\"Pathway\", y=\"Normalized Enrichment Score\",\n",
    "       title=\"Hallmark pathways NES from GSEA\") + myplot"
   ]
  },
  {
   "cell_type": "code",
   "execution_count": null,
   "metadata": {},
   "outputs": [],
   "source": [
    "pdf(paste0(plotpath, \"Reactome_C1_enrichplot.pdf\"),\n",
    "   width = 20, height = 40)\n",
    "\n",
    "myenrichplot\n",
    "\n",
    "dev.off()"
   ]
  },
  {
   "cell_type": "code",
   "execution_count": null,
   "metadata": {},
   "outputs": [],
   "source": []
  },
  {
   "cell_type": "code",
   "execution_count": null,
   "metadata": {},
   "outputs": [],
   "source": []
  },
  {
   "cell_type": "code",
   "execution_count": null,
   "metadata": {},
   "outputs": [],
   "source": []
  },
  {
   "cell_type": "code",
   "execution_count": null,
   "metadata": {},
   "outputs": [],
   "source": [
    "pdf(paste0(plotpath, \"Reactome_C1_dotplot.pdf\"),\n",
    "   width = 20, height = 20)\n",
    "\n",
    "dotplot(y, showCategory=20)\n",
    "dotplot(x, showCategory=20)\n",
    "\n",
    "dev.off()"
   ]
  },
  {
   "cell_type": "code",
   "execution_count": null,
   "metadata": {},
   "outputs": [],
   "source": [
    "edox <- setReadable(x, 'org.Hs.eg.db', 'ENTREZID')\n",
    "p1 <- cnetplot(edox, foldChange= mygenelist)\n",
    "## categorySize can be scaled by 'pvalue' or 'geneNum'\n",
    "p2 <- cnetplot(edox, categorySize=\"pvalue\", foldChange=mygenelist)\n"
   ]
  },
  {
   "cell_type": "code",
   "execution_count": null,
   "metadata": {},
   "outputs": [],
   "source": [
    "pdf(paste0(plotpath, \"Reactome_C1_cnet.pdf\"),\n",
    "   width = 20, height = 20)\n",
    "\n",
    "p2\n",
    "\n",
    "dev.off()"
   ]
  },
  {
   "cell_type": "code",
   "execution_count": null,
   "metadata": {},
   "outputs": [],
   "source": []
  },
  {
   "cell_type": "code",
   "execution_count": null,
   "metadata": {},
   "outputs": [],
   "source": [
    "edo <- pairwise_termsim(x)"
   ]
  },
  {
   "cell_type": "code",
   "execution_count": null,
   "metadata": {},
   "outputs": [],
   "source": [
    "\n",
    "p1 <- emapplot(edo)\n",
    "p2 <- emapplot(edo, cex_category=1.5)\n",
    "p3 <- emapplot(edo, layout=\"kk\")\n",
    "p4 <- emapplot(edo, cex_category=1.5,layout=\"kk\") "
   ]
  },
  {
   "cell_type": "code",
   "execution_count": null,
   "metadata": {},
   "outputs": [],
   "source": [
    "pdf(paste0(plotpath, \"Reactome_C1_emap.pdf\"),\n",
    "   width = 20, height = 20)\n",
    "p1\n",
    "p2\n",
    "p3\n",
    "p4\n",
    "dev.off()"
   ]
  },
  {
   "cell_type": "code",
   "execution_count": null,
   "metadata": {},
   "outputs": [],
   "source": []
  },
  {
   "cell_type": "code",
   "execution_count": null,
   "metadata": {},
   "outputs": [],
   "source": []
  },
  {
   "cell_type": "code",
   "execution_count": null,
   "metadata": {},
   "outputs": [],
   "source": []
  },
  {
   "cell_type": "code",
   "execution_count": null,
   "metadata": {},
   "outputs": [],
   "source": []
  }
 ],
 "metadata": {
  "kernelspec": {
   "display_name": "R 4.0",
   "language": "R",
   "name": "ir40"
  },
  "language_info": {
   "codemirror_mode": "r",
   "file_extension": ".r",
   "mimetype": "text/x-r-source",
   "name": "R",
   "pygments_lexer": "r",
   "version": "4.0.3"
  },
  "toc": {
   "base_numbering": 1,
   "nav_menu": {},
   "number_sections": false,
   "sideBar": true,
   "skip_h1_title": false,
   "title_cell": "Table of Contents",
   "title_sidebar": "Contents",
   "toc_cell": true,
   "toc_position": {
    "height": "calc(100% - 180px)",
    "left": "10px",
    "top": "150px",
    "width": "165px"
   },
   "toc_section_display": true,
   "toc_window_display": true
  }
 },
 "nbformat": 4,
 "nbformat_minor": 2
}
