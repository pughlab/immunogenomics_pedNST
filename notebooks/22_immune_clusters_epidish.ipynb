{
 "cells": [
  {
   "cell_type": "markdown",
   "metadata": {
    "toc": true
   },
   "source": [
    "<h1>Table of Contents<span class=\"tocSkip\"></span></h1>\n",
    "<div class=\"toc\"><ul class=\"toc-item\"><li><span><a href=\"#Dependencies\" data-toc-modified-id=\"Dependencies-1\">Dependencies</a></span></li><li><span><a href=\"#Functions\" data-toc-modified-id=\"Functions-2\">Functions</a></span></li><li><span><a href=\"#Paths\" data-toc-modified-id=\"Paths-3\">Paths</a></span></li><li><span><a href=\"#Main\" data-toc-modified-id=\"Main-4\">Main</a></span></li><li><span><a href=\"#Validate-with-Epidish\" data-toc-modified-id=\"Validate-with-Epidish-5\">Validate with Epidish</a></span><ul class=\"toc-item\"><li><span><a href=\"#Ridge-plots\" data-toc-modified-id=\"Ridge-plots-5.1\">Ridge plots</a></span></li></ul></li></ul></div>"
   ]
  },
  {
   "cell_type": "markdown",
   "metadata": {},
   "source": [
    "# Dependencies"
   ]
  },
  {
   "cell_type": "code",
   "execution_count": 1,
   "metadata": {},
   "outputs": [],
   "source": [
    "options(scipen = 999)"
   ]
  },
  {
   "cell_type": "code",
   "execution_count": 2,
   "metadata": {
    "scrolled": true
   },
   "outputs": [],
   "source": [
    "library(gridExtra)\n",
    "library(grid)"
   ]
  },
  {
   "cell_type": "markdown",
   "metadata": {},
   "source": [
    "# Functions"
   ]
  },
  {
   "cell_type": "code",
   "execution_count": 3,
   "metadata": {},
   "outputs": [],
   "source": [
    "source(\"~/OneDrive - UHN/R_src/ggplot2_theme.R\")\n",
    "source(\"~/OneDrive - UHN/R_src/color_schemes.R\")\n",
    "source(\"~/OneDrive - UHN/R_src/plotting_functions.R\")"
   ]
  },
  {
   "cell_type": "code",
   "execution_count": 4,
   "metadata": {},
   "outputs": [],
   "source": [
    "plot_ridge.fx <- function(mydf, var){  \n",
    "    \n",
    "    colors = structure(c(\"#d7191c\", \"#fdae61\", \"#abd9e9\", \"#2c7bb6\"),\n",
    "                       names = c(\"C1\", \"C2\", \"C3\", \"C4\"))\n",
    "    \n",
    "    \n",
    "   ridgeline.plot <- ggplot(mydf, aes(x = eval(parse(text = var)), y = immune_cluster, fill = immune_cluster)) +\n",
    "  geom_density_ridges() +\n",
    "theme(axis.line = element_line(color = \"black\"),\n",
    "      axis.text = element_text(size = 22),\n",
    "      axis.title = element_text(size = 22), \n",
    "      legend.position = \"bottom\",\n",
    "      legend.key = element_rect(fill = \"white\", colour = \"white\")) +\n",
    "theme(panel.grid.major = element_blank(),\n",
    "      panel.grid.minor = element_blank(),\n",
    "      panel.background = element_rect(fill = \"transparent\",\n",
    "                                      colour = NA),\n",
    "      panel.border=element_blank(),\n",
    "      plot.margin = unit(c(1.2,1,0,1),\"cm\"))  +\n",
    "scale_fill_manual(values = colors) +\n",
    "    labs(title = var, x = \"z score immune cell type\")\n",
    " \n",
    "    return(ridgeline.plot)\n",
    "    \n",
    "}"
   ]
  },
  {
   "cell_type": "markdown",
   "metadata": {},
   "source": [
    "# Paths"
   ]
  },
  {
   "cell_type": "code",
   "execution_count": 5,
   "metadata": {},
   "outputs": [],
   "source": [
    "datapath <- \"/Users/anabbi/OneDrive - UHN/Documents/IPD2/Data/\"\n",
    "plotpath <- \"/Users/anabbi/OneDrive - UHN/Documents/IPD2/Plots/\""
   ]
  },
  {
   "cell_type": "markdown",
   "metadata": {},
   "source": [
    "# Main"
   ]
  },
  {
   "cell_type": "code",
   "execution_count": 6,
   "metadata": {},
   "outputs": [],
   "source": [
    "load(file = file.path(datapath,\"TME_clusters/IPD_estimate_metadata_IC.RData\"))"
   ]
  },
  {
   "cell_type": "code",
   "execution_count": 7,
   "metadata": {},
   "outputs": [
    {
     "data": {
      "text/plain": [
       "\n",
       " C1  C2  C3  C4 \n",
       " 90 279 393 163 "
      ]
     },
     "metadata": {},
     "output_type": "display_data"
    }
   ],
   "source": [
    "table(metadata_IC$immune_cluster)"
   ]
  },
  {
   "cell_type": "code",
   "execution_count": 8,
   "metadata": {},
   "outputs": [],
   "source": [
    "load( file = paste0(datapath, \"TME_clusters/geneset_cc_norm.RData\"))"
   ]
  },
  {
   "cell_type": "markdown",
   "metadata": {},
   "source": [
    "# Validate with Epidish"
   ]
  },
  {
   "cell_type": "code",
   "execution_count": 9,
   "metadata": {},
   "outputs": [],
   "source": [
    "icgc <- metadata_IC[metadata_IC$group == \"ICGC\",]"
   ]
  },
  {
   "cell_type": "code",
   "execution_count": 10,
   "metadata": {},
   "outputs": [],
   "source": [
    "newcastle <- read.csv(paste0(datapath, \"methyl_epidish/ICGC_epidish_Newcastle_signatures.csv\"),\n",
    "                             header = TRUE, check.names = F,\n",
    "                             stringsAsFactors = FALSE)"
   ]
  },
  {
   "cell_type": "code",
   "execution_count": 11,
   "metadata": {},
   "outputs": [],
   "source": [
    "colnames(newcastle)[1] <- \"sample_id\""
   ]
  },
  {
   "cell_type": "code",
   "execution_count": 12,
   "metadata": {},
   "outputs": [],
   "source": [
    "icgc_IC_methyl <- merge(icgc, newcastle, by = \"sample_id\")"
   ]
  },
  {
   "cell_type": "code",
   "execution_count": 13,
   "metadata": {},
   "outputs": [
    {
     "data": {
      "text/html": [
       "<style>\n",
       ".list-inline {list-style: none; margin:0; padding: 0}\n",
       ".list-inline>li {display: inline-block}\n",
       ".list-inline>li:not(:last-child)::after {content: \"\\00b7\"; padding: 0 .5ex}\n",
       "</style>\n",
       "<ol class=list-inline><li>195</li><li>37</li></ol>\n"
      ],
      "text/latex": [
       "\\begin{enumerate*}\n",
       "\\item 195\n",
       "\\item 37\n",
       "\\end{enumerate*}\n"
      ],
      "text/markdown": [
       "1. 195\n",
       "2. 37\n",
       "\n",
       "\n"
      ],
      "text/plain": [
       "[1] 195  37"
      ]
     },
     "metadata": {},
     "output_type": "display_data"
    }
   ],
   "source": [
    "dim(icgc_IC_methyl)"
   ]
  },
  {
   "cell_type": "code",
   "execution_count": 14,
   "metadata": {},
   "outputs": [
    {
     "data": {
      "text/html": [
       "<style>\n",
       ".list-inline {list-style: none; margin:0; padding: 0}\n",
       ".list-inline>li {display: inline-block}\n",
       ".list-inline>li:not(:last-child)::after {content: \"\\00b7\"; padding: 0 .5ex}\n",
       "</style>\n",
       "<ol class=list-inline><li>'sample_id'</li><li>'aliquot_id'</li><li>'StromalScore'</li><li>'ImmuneScore'</li><li>'ESTIMATEScore'</li><li>'name'</li><li>'case_id'</li><li>'gender'</li><li>'ethnicity'</li><li>'race'</li><li>'age_at_diagnosis'</li><li>'vital_status'</li><li>'days_to_death'</li><li>'days_to_progress'</li><li>'recurrence'</li><li>'disease_type'</li><li>'primary_site'</li><li>'group'</li><li>'cohort'</li><li>'sample_type'</li><li>'age_class'</li><li>'tumour_subtype'</li><li>'CRI_cluster'</li><li>'immune_cluster'</li><li>'idat'</li><li>'Bcell'</li><li>'Cancer'</li><li>'CD4_Eff'</li><li>'CD8T'</li><li>'Endothelial'</li><li>'Eos'</li><li>'Glia'</li><li>'Mono'</li><li>'Neu'</li><li>'Neuron'</li><li>'NK'</li><li>'Treg'</li></ol>\n"
      ],
      "text/latex": [
       "\\begin{enumerate*}\n",
       "\\item 'sample\\_id'\n",
       "\\item 'aliquot\\_id'\n",
       "\\item 'StromalScore'\n",
       "\\item 'ImmuneScore'\n",
       "\\item 'ESTIMATEScore'\n",
       "\\item 'name'\n",
       "\\item 'case\\_id'\n",
       "\\item 'gender'\n",
       "\\item 'ethnicity'\n",
       "\\item 'race'\n",
       "\\item 'age\\_at\\_diagnosis'\n",
       "\\item 'vital\\_status'\n",
       "\\item 'days\\_to\\_death'\n",
       "\\item 'days\\_to\\_progress'\n",
       "\\item 'recurrence'\n",
       "\\item 'disease\\_type'\n",
       "\\item 'primary\\_site'\n",
       "\\item 'group'\n",
       "\\item 'cohort'\n",
       "\\item 'sample\\_type'\n",
       "\\item 'age\\_class'\n",
       "\\item 'tumour\\_subtype'\n",
       "\\item 'CRI\\_cluster'\n",
       "\\item 'immune\\_cluster'\n",
       "\\item 'idat'\n",
       "\\item 'Bcell'\n",
       "\\item 'Cancer'\n",
       "\\item 'CD4\\_Eff'\n",
       "\\item 'CD8T'\n",
       "\\item 'Endothelial'\n",
       "\\item 'Eos'\n",
       "\\item 'Glia'\n",
       "\\item 'Mono'\n",
       "\\item 'Neu'\n",
       "\\item 'Neuron'\n",
       "\\item 'NK'\n",
       "\\item 'Treg'\n",
       "\\end{enumerate*}\n"
      ],
      "text/markdown": [
       "1. 'sample_id'\n",
       "2. 'aliquot_id'\n",
       "3. 'StromalScore'\n",
       "4. 'ImmuneScore'\n",
       "5. 'ESTIMATEScore'\n",
       "6. 'name'\n",
       "7. 'case_id'\n",
       "8. 'gender'\n",
       "9. 'ethnicity'\n",
       "10. 'race'\n",
       "11. 'age_at_diagnosis'\n",
       "12. 'vital_status'\n",
       "13. 'days_to_death'\n",
       "14. 'days_to_progress'\n",
       "15. 'recurrence'\n",
       "16. 'disease_type'\n",
       "17. 'primary_site'\n",
       "18. 'group'\n",
       "19. 'cohort'\n",
       "20. 'sample_type'\n",
       "21. 'age_class'\n",
       "22. 'tumour_subtype'\n",
       "23. 'CRI_cluster'\n",
       "24. 'immune_cluster'\n",
       "25. 'idat'\n",
       "26. 'Bcell'\n",
       "27. 'Cancer'\n",
       "28. 'CD4_Eff'\n",
       "29. 'CD8T'\n",
       "30. 'Endothelial'\n",
       "31. 'Eos'\n",
       "32. 'Glia'\n",
       "33. 'Mono'\n",
       "34. 'Neu'\n",
       "35. 'Neuron'\n",
       "36. 'NK'\n",
       "37. 'Treg'\n",
       "\n",
       "\n"
      ],
      "text/plain": [
       " [1] \"sample_id\"        \"aliquot_id\"       \"StromalScore\"     \"ImmuneScore\"     \n",
       " [5] \"ESTIMATEScore\"    \"name\"             \"case_id\"          \"gender\"          \n",
       " [9] \"ethnicity\"        \"race\"             \"age_at_diagnosis\" \"vital_status\"    \n",
       "[13] \"days_to_death\"    \"days_to_progress\" \"recurrence\"       \"disease_type\"    \n",
       "[17] \"primary_site\"     \"group\"            \"cohort\"           \"sample_type\"     \n",
       "[21] \"age_class\"        \"tumour_subtype\"   \"CRI_cluster\"      \"immune_cluster\"  \n",
       "[25] \"idat\"             \"Bcell\"            \"Cancer\"           \"CD4_Eff\"         \n",
       "[29] \"CD8T\"             \"Endothelial\"      \"Eos\"              \"Glia\"            \n",
       "[33] \"Mono\"             \"Neu\"              \"Neuron\"           \"NK\"              \n",
       "[37] \"Treg\"            "
      ]
     },
     "metadata": {},
     "output_type": "display_data"
    }
   ],
   "source": [
    "colnames(icgc_IC_methyl)"
   ]
  },
  {
   "cell_type": "code",
   "execution_count": 15,
   "metadata": {},
   "outputs": [],
   "source": [
    "icgc_IC_methyl$T_cells <- icgc_IC_methyl$CD4_Eff + icgc_IC_methyl$CD8T + icgc_IC_methyl$Treg\n",
    "\n",
    "icgc_IC_methyl$Granulocytes <- icgc_IC_methyl$Neu + icgc_IC_methyl$Eos"
   ]
  },
  {
   "cell_type": "code",
   "execution_count": 16,
   "metadata": {},
   "outputs": [
    {
     "data": {
      "text/plain": [
       "\n",
       "\tPairwise comparisons using t tests with pooled SD \n",
       "\n",
       "data:  icgc_IC_methyl$T_cells and icgc_IC_methyl$immune_cluster \n",
       "\n",
       "   C1               C2                   C3     \n",
       "C2 0.00012          -                    -      \n",
       "C3 0.00000000000027 < 0.0000000000000002 -      \n",
       "C4 0.00000000007031 0.00000046963596     1.00000\n",
       "\n",
       "P value adjustment method: bonferroni "
      ]
     },
     "metadata": {},
     "output_type": "display_data"
    }
   ],
   "source": [
    "pairwise.t.test(icgc_IC_methyl$T_cells, icgc_IC_methyl$immune_cluster, \n",
    "                p.adjust.method = \"bonf\")"
   ]
  },
  {
   "cell_type": "code",
   "execution_count": 17,
   "metadata": {},
   "outputs": [
    {
     "data": {
      "text/plain": [
       "\n",
       "\tPairwise comparisons using t tests with pooled SD \n",
       "\n",
       "data:  icgc_IC_methyl$Bcell and icgc_IC_methyl$immune_cluster \n",
       "\n",
       "   C1    C2                   C3   \n",
       "C2 0.092 -                    -    \n",
       "C3 1.000 < 0.0000000000000002 -    \n",
       "C4 0.495 0.000000032          1.000\n",
       "\n",
       "P value adjustment method: bonferroni "
      ]
     },
     "metadata": {},
     "output_type": "display_data"
    }
   ],
   "source": [
    "pairwise.t.test(icgc_IC_methyl$Bcell, icgc_IC_methyl$immune_cluster, \n",
    "                p.adjust.method = \"bonf\")"
   ]
  },
  {
   "cell_type": "code",
   "execution_count": 18,
   "metadata": {},
   "outputs": [
    {
     "data": {
      "text/plain": [
       "\n",
       "\tPairwise comparisons using t tests with pooled SD \n",
       "\n",
       "data:  icgc_IC_methyl$NK and icgc_IC_methyl$immune_cluster \n",
       "\n",
       "   C1      C2                   C3     \n",
       "C2 1.00000 -                    -      \n",
       "C3 0.00038 < 0.0000000000000002 -      \n",
       "C4 0.00086 0.00000033           1.00000\n",
       "\n",
       "P value adjustment method: bonferroni "
      ]
     },
     "metadata": {},
     "output_type": "display_data"
    }
   ],
   "source": [
    "pairwise.t.test(icgc_IC_methyl$NK, icgc_IC_methyl$immune_cluster, \n",
    "                p.adjust.method = \"bonf\")"
   ]
  },
  {
   "cell_type": "code",
   "execution_count": 19,
   "metadata": {},
   "outputs": [
    {
     "data": {
      "text/plain": [
       "\n",
       "\tPairwise comparisons using t tests with pooled SD \n",
       "\n",
       "data:  icgc_IC_methyl$Mono and icgc_IC_methyl$immune_cluster \n",
       "\n",
       "   C1                  C2                   C3\n",
       "C2 1                   -                    - \n",
       "C3 0.00000017541147145 < 0.0000000000000002 - \n",
       "C4 0.00000406923358355 0.00000000000000039  1 \n",
       "\n",
       "P value adjustment method: bonferroni "
      ]
     },
     "metadata": {},
     "output_type": "display_data"
    }
   ],
   "source": [
    "pairwise.t.test(icgc_IC_methyl$Mono, icgc_IC_methyl$immune_cluster, \n",
    "                p.adjust.method = \"bonf\")"
   ]
  },
  {
   "cell_type": "code",
   "execution_count": 20,
   "metadata": {},
   "outputs": [
    {
     "data": {
      "text/plain": [
       "\n",
       "\tPairwise comparisons using t tests with pooled SD \n",
       "\n",
       "data:  icgc_IC_methyl$Granulocytes and icgc_IC_methyl$immune_cluster \n",
       "\n",
       "   C1      C2                   C3     \n",
       "C2 1.00000 -                    -      \n",
       "C3 0.04983 < 0.0000000000000002 -      \n",
       "C4 0.39142 0.00057              1.00000\n",
       "\n",
       "P value adjustment method: bonferroni "
      ]
     },
     "metadata": {},
     "output_type": "display_data"
    }
   ],
   "source": [
    "pairwise.t.test(icgc_IC_methyl$Granulocytes, icgc_IC_methyl$immune_cluster, \n",
    "                p.adjust.method = \"bonf\")"
   ]
  },
  {
   "cell_type": "markdown",
   "metadata": {},
   "source": [
    "## Ridge plots"
   ]
  },
  {
   "cell_type": "code",
   "execution_count": 21,
   "metadata": {},
   "outputs": [],
   "source": [
    "#scale for visualization\n",
    "icgc_IC_methyl$T_cells_z <- scale(icgc_IC_methyl$T_cells)\n",
    "icgc_IC_methyl$NK_z <- scale(icgc_IC_methyl$NK)\n",
    "icgc_IC_methyl$B_cell_z <- scale(icgc_IC_methyl$Bcell)\n",
    "icgc_IC_methyl$Granulocytes_z <- scale(icgc_IC_methyl$Granulocytes)\n",
    "icgc_IC_methyl$Mono_z <- scale(icgc_IC_methyl$Mono)"
   ]
  },
  {
   "cell_type": "code",
   "execution_count": 22,
   "metadata": {},
   "outputs": [],
   "source": [
    "ridgeplot_tcells <- plot_ridge.fx(icgc_IC_methyl, \"T_cells_z\")  \n",
    "\n",
    "ridgeplot_NKcells <- plot_ridge.fx(icgc_IC_methyl, \"NK_z\")  \n",
    "\n",
    "ridgeplot_bcells <- plot_ridge.fx(icgc_IC_methyl, \"B_cell_z\")  \n",
    "\n",
    "ridgeplot_granulocytes <- plot_ridge.fx(icgc_IC_methyl, \"Granulocytes_z\")\n",
    "\n",
    "ridgeplot_mono <- plot_ridge.fx(icgc_IC_methyl, \"Mono_z\")"
   ]
  },
  {
   "cell_type": "code",
   "execution_count": 26,
   "metadata": {
    "scrolled": false
   },
   "outputs": [
    {
     "name": "stderr",
     "output_type": "stream",
     "text": [
      "Picking joint bandwidth of 0.283\n",
      "\n"
     ]
    },
    {
     "data": {
      "image/png": "[encoded data removed]",
      "text/plain": [
       "plot without title"
      ]
     },
     "metadata": {
      "image/png": {
       "height": 420,
       "width": 420
      }
     },
     "output_type": "display_data"
    }
   ],
   "source": [
    "ridgeplot_tcells"
   ]
  },
  {
   "cell_type": "code",
   "execution_count": 24,
   "metadata": {},
   "outputs": [
    {
     "name": "stderr",
     "output_type": "stream",
     "text": [
      "Picking joint bandwidth of 0.283\n",
      "\n",
      "Picking joint bandwidth of 0.211\n",
      "\n",
      "Picking joint bandwidth of 0.298\n",
      "\n",
      "Warning message:\n",
      "“Removed 2 rows containing non-finite values (stat_density_ridges).”\n",
      "Picking joint bandwidth of 0.207\n",
      "\n",
      "Warning message:\n",
      "“Removed 2 rows containing non-finite values (stat_density_ridges).”\n",
      "Picking joint bandwidth of 0.136\n",
      "\n",
      "Warning message:\n",
      "“Removed 2 rows containing non-finite values (stat_density_ridges).”\n"
     ]
    },
    {
     "data": {
      "text/html": [
       "<strong>pdf:</strong> 2"
      ],
      "text/latex": [
       "\\textbf{pdf:} 2"
      ],
      "text/markdown": [
       "**pdf:** 2"
      ],
      "text/plain": [
       "pdf \n",
       "  2 "
      ]
     },
     "metadata": {},
     "output_type": "display_data"
    }
   ],
   "source": [
    "pdf(paste0(plotpath, \"IPD_clusters_epidish_ridgeplot.pdf\"),\n",
    "   width = 20, height = 10,\n",
    "   useDingbats = FALSE)\n",
    "\n",
    "grid.arrange(ridgeplot_tcells + xlim(c(-2,3)),\n",
    "             ridgeplot_bcells + xlim(c(-2,3)), \n",
    "             ridgeplot_NKcells + xlim(c(-2,3)),\n",
    "             ridgeplot_granulocytes + xlim(c(-2,3)),\n",
    "             ridgeplot_mono + xlim(c(-2,3)),\n",
    "             nrow=1)\n",
    "\n",
    "dev.off()"
   ]
  },
  {
   "cell_type": "code",
   "execution_count": null,
   "metadata": {},
   "outputs": [],
   "source": []
  }
 ],
 "metadata": {
  "kernelspec": {
   "display_name": "R 4.0",
   "language": "R",
   "name": "ir40"
  },
  "language_info": {
   "codemirror_mode": "r",
   "file_extension": ".r",
   "mimetype": "text/x-r-source",
   "name": "R",
   "pygments_lexer": "r",
   "version": "4.0.3"
  },
  "toc": {
   "base_numbering": 1,
   "nav_menu": {},
   "number_sections": false,
   "sideBar": true,
   "skip_h1_title": false,
   "title_cell": "Table of Contents",
   "title_sidebar": "Contents",
   "toc_cell": true,
   "toc_position": {
    "height": "calc(100% - 180px)",
    "left": "10px",
    "top": "150px",
    "width": "280px"
   },
   "toc_section_display": true,
   "toc_window_display": true
  }
 },
 "nbformat": 4,
 "nbformat_minor": 2
}
