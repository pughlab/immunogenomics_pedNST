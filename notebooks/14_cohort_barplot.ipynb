{
 "cells": [
  {
   "cell_type": "markdown",
   "metadata": {
    "toc": true
   },
   "source": [
    "<h1>Table of Contents<span class=\"tocSkip\"></span></h1>\n",
    "<div class=\"toc\"><ul class=\"toc-item\"><li><span><a href=\"#Dependencies\" data-toc-modified-id=\"Dependencies-1\">Dependencies</a></span></li><li><span><a href=\"#Functions\" data-toc-modified-id=\"Functions-2\">Functions</a></span></li><li><span><a href=\"#Paths\" data-toc-modified-id=\"Paths-3\">Paths</a></span></li><li><span><a href=\"#Main\" data-toc-modified-id=\"Main-4\">Main</a></span></li></ul></div>"
   ]
  },
  {
   "cell_type": "markdown",
   "metadata": {},
   "source": [
    "# Dependencies"
   ]
  },
  {
   "cell_type": "code",
   "execution_count": 1,
   "metadata": {
    "scrolled": false
   },
   "outputs": [
    {
     "name": "stderr",
     "output_type": "stream",
     "text": [
      "\n",
      "Attaching package: ‘dplyr’\n",
      "\n",
      "\n",
      "The following objects are masked from ‘package:stats’:\n",
      "\n",
      "    filter, lag\n",
      "\n",
      "\n",
      "The following objects are masked from ‘package:base’:\n",
      "\n",
      "    intersect, setdiff, setequal, union\n",
      "\n",
      "\n",
      "Loading required package: ggplot2\n",
      "\n",
      "\n",
      "Attaching package: ‘gridExtra’\n",
      "\n",
      "\n",
      "The following object is masked from ‘package:dplyr’:\n",
      "\n",
      "    combine\n",
      "\n",
      "\n"
     ]
    }
   ],
   "source": [
    "library(dplyr)\n",
    "library(reshape2)\n",
    "library(ggbeeswarm)\n",
    "library(gridExtra)\n",
    "library(gtable)\n",
    "library(grid)"
   ]
  },
  {
   "cell_type": "markdown",
   "metadata": {},
   "source": [
    "# Functions"
   ]
  },
  {
   "cell_type": "code",
   "execution_count": 31,
   "metadata": {},
   "outputs": [],
   "source": [
    "source(\"~/OneDrive - UHN/R_src/ggplot2_theme.R\")\n",
    "source(\"~/OneDrive - UHN/R_src/color_schemes.R\")"
   ]
  },
  {
   "cell_type": "markdown",
   "metadata": {},
   "source": [
    "# Paths"
   ]
  },
  {
   "cell_type": "code",
   "execution_count": 3,
   "metadata": {},
   "outputs": [],
   "source": [
    "manifestpath <- \"/Users/anabbi/OneDrive - UHN/Documents/IPD2/Manifests/\"\n",
    "datapath <- \"/Users/anabbi/OneDrive - UHN/Documents/IPD2/Data/\"\n",
    "plotpath <- \"/Users/anabbi/OneDrive - UHN/Documents/IPD2/Plots/\""
   ]
  },
  {
   "cell_type": "markdown",
   "metadata": {},
   "source": [
    "# Main"
   ]
  },
  {
   "cell_type": "code",
   "execution_count": 4,
   "metadata": {},
   "outputs": [],
   "source": [
    "load(paste0(datapath,\"ESTIMATE/estimate_manifest_primary_clean_final.RData\"))"
   ]
  },
  {
   "cell_type": "code",
   "execution_count": 5,
   "metadata": {},
   "outputs": [],
   "source": [
    "load(paste0(datapath,\"ESTIMATE/PDX_estimate.RData\"))"
   ]
  },
  {
   "cell_type": "code",
   "execution_count": 6,
   "metadata": {},
   "outputs": [],
   "source": [
    "PDX_estimate_itcc <- read.table(paste0(datapath, \"ESTIMATE/ESTIMATE_output/RNAseq_itcc-P4_TPM_values_210726_estimateOutput.txt\"),\n",
    "                               sep = \"\\t\", stringsAsFactors = F, header = T)"
   ]
  },
  {
   "cell_type": "code",
   "execution_count": 7,
   "metadata": {},
   "outputs": [],
   "source": [
    "PDX_estimate_itcc <- PDX_estimate_itcc[grep(paste(c(\"EP\", \"MB\", \"HG\", \"NB\", \"RT\"),collapse=\"|\"),PDX_estimate_itcc$NAME),]"
   ]
  },
  {
   "cell_type": "code",
   "execution_count": 8,
   "metadata": {},
   "outputs": [],
   "source": [
    "PDX_estimate_itcc <- PDX_estimate_itcc[grep(paste(c(\"PP\", \"PT\", \"PR\", \"PM\"),collapse=\"|\"),PDX_estimate_itcc$NAME),]"
   ]
  },
  {
   "cell_type": "code",
   "execution_count": 9,
   "metadata": {},
   "outputs": [
    {
     "data": {
      "text/html": [
       "<style>\n",
       ".list-inline {list-style: none; margin:0; padding: 0}\n",
       ".list-inline>li {display: inline-block}\n",
       ".list-inline>li:not(:last-child)::after {content: \"\\00b7\"; padding: 0 .5ex}\n",
       "</style>\n",
       "<ol class=list-inline><li>61</li><li>4</li></ol>\n"
      ],
      "text/latex": [
       "\\begin{enumerate*}\n",
       "\\item 61\n",
       "\\item 4\n",
       "\\end{enumerate*}\n"
      ],
      "text/markdown": [
       "1. 61\n",
       "2. 4\n",
       "\n",
       "\n"
      ],
      "text/plain": [
       "[1] 61  4"
      ]
     },
     "metadata": {},
     "output_type": "display_data"
    }
   ],
   "source": [
    "dim(PDX_estimate_itcc)"
   ]
  },
  {
   "cell_type": "code",
   "execution_count": 10,
   "metadata": {},
   "outputs": [],
   "source": [
    "#remove\n",
    "PDX_estimate_itcc <- PDX_estimate_itcc[!PDX_estimate_itcc$NAME %in% c(\"ITCC.P4_s07_HG0068_PT01_F01_R01_A03\", \"ITCC.P4_s15_NB0537_PT03_F01_R01_03\"), ]"
   ]
  },
  {
   "cell_type": "code",
   "execution_count": 11,
   "metadata": {},
   "outputs": [],
   "source": [
    "colnames(PDX_estimate_itcc)[1] <- \"SampleID\""
   ]
  },
  {
   "cell_type": "code",
   "execution_count": 12,
   "metadata": {},
   "outputs": [],
   "source": [
    "PDX_estimate <- rbind(PDX_estimate, PDX_estimate_itcc)"
   ]
  },
  {
   "cell_type": "code",
   "execution_count": 13,
   "metadata": {},
   "outputs": [
    {
     "data": {
      "text/html": [
       "<style>\n",
       ".list-inline {list-style: none; margin:0; padding: 0}\n",
       ".list-inline>li {display: inline-block}\n",
       ".list-inline>li:not(:last-child)::after {content: \"\\00b7\"; padding: 0 .5ex}\n",
       "</style>\n",
       "<ol class=list-inline><li>79</li><li>4</li></ol>\n"
      ],
      "text/latex": [
       "\\begin{enumerate*}\n",
       "\\item 79\n",
       "\\item 4\n",
       "\\end{enumerate*}\n"
      ],
      "text/markdown": [
       "1. 79\n",
       "2. 4\n",
       "\n",
       "\n"
      ],
      "text/plain": [
       "[1] 79  4"
      ]
     },
     "metadata": {},
     "output_type": "display_data"
    }
   ],
   "source": [
    "dim(PDX_estimate)"
   ]
  },
  {
   "cell_type": "markdown",
   "metadata": {},
   "source": [
    "Subset for ImmuneScore and rbind pdx"
   ]
  },
  {
   "cell_type": "code",
   "execution_count": 16,
   "metadata": {},
   "outputs": [],
   "source": [
    "mycol <- c(\"aliquot_id\", \"StromalScore\", \"ImmuneScore\",\"ESTIMATEScore\", \"sample_id\", \"group\", \"cohort\")"
   ]
  },
  {
   "cell_type": "code",
   "execution_count": 17,
   "metadata": {},
   "outputs": [],
   "source": [
    "estimate_df <- estimate_manifest_primary_clean[,mycol]"
   ]
  },
  {
   "cell_type": "markdown",
   "metadata": {},
   "source": [
    "add in PDX"
   ]
  },
  {
   "cell_type": "code",
   "execution_count": 18,
   "metadata": {},
   "outputs": [
    {
     "data": {
      "text/plain": [
       "   Min. 1st Qu.  Median    Mean 3rd Qu.    Max. \n",
       "  -2948   -2749   -2614   -2536   -2397   -1133 "
      ]
     },
     "metadata": {},
     "output_type": "display_data"
    }
   ],
   "source": [
    "summary(PDX_estimate$ImmuneScore)"
   ]
  },
  {
   "cell_type": "code",
   "execution_count": 19,
   "metadata": {},
   "outputs": [],
   "source": [
    "PDX_estimate$group <- \"PDX (ITCC)\"\n",
    "colnames(PDX_estimate)[1] <- \"aliquot_id\"\n",
    "PDX_estimate$sample_id <- PDX_estimate$aliquot_id"
   ]
  },
  {
   "cell_type": "code",
   "execution_count": 21,
   "metadata": {},
   "outputs": [],
   "source": [
    "PDX_estimate$cohort[ grepl(\"EP\", PDX_estimate$sample_id)] <- \"EPN\"\n",
    "PDX_estimate$cohort[ grepl(\"NB\", PDX_estimate$sample_id)] <- \"NBL\"\n",
    "PDX_estimate$cohort[ grepl(\"RT\", PDX_estimate$sample_id)] <- \"ATRT\"\n",
    "PDX_estimate$cohort[ grepl(\"HG\", PDX_estimate$sample_id)] <- \"pedHGG\"\n",
    "PDX_estimate$cohort[ grepl(\"MB\", PDX_estimate$sample_id)] <- \"MB\"\n",
    "\n",
    "PDX_estimate$cohort[ grepl(\"Med\", PDX_estimate$sample_id)] <- \"MB\"\n",
    "PDX_estimate$cohort[ grepl(\"Neo\", PDX_estimate$sample_id)] <- \"MB\"\n",
    "PDX_estimate$cohort[ grepl(\"XP\",  PDX_estimate$sample_id)] <- \"MB\""
   ]
  },
  {
   "cell_type": "code",
   "execution_count": 22,
   "metadata": {},
   "outputs": [
    {
     "data": {
      "text/plain": [
       "\n",
       "  ATRT    EPN     MB    NBL pedHGG \n",
       "     2     10     43     14     10 "
      ]
     },
     "metadata": {},
     "output_type": "display_data"
    }
   ],
   "source": [
    "table(PDX_estimate$cohort)"
   ]
  },
  {
   "cell_type": "code",
   "execution_count": 26,
   "metadata": {},
   "outputs": [
    {
     "data": {
      "text/html": [
       "<table class=\"dataframe\">\n",
       "<caption>A data.frame: 6 × 7</caption>\n",
       "<thead>\n",
       "\t<tr><th></th><th scope=col>aliquot_id</th><th scope=col>StromalScore</th><th scope=col>ImmuneScore</th><th scope=col>ESTIMATEScore</th><th scope=col>sample_id</th><th scope=col>group</th><th scope=col>cohort</th></tr>\n",
       "\t<tr><th></th><th scope=col>&lt;chr&gt;</th><th scope=col>&lt;dbl&gt;</th><th scope=col>&lt;dbl&gt;</th><th scope=col>&lt;dbl&gt;</th><th scope=col>&lt;chr&gt;</th><th scope=col>&lt;chr&gt;</th><th scope=col>&lt;chr&gt;</th></tr>\n",
       "</thead>\n",
       "<tbody>\n",
       "\t<tr><th scope=row>1</th><td>TARGET-30-PAIFXV-01A-01R</td><td>-537.97880</td><td> 483.8556</td><td>  -54.1232</td><td>TARGET-30-PAIFXV-01A</td><td>TARGET</td><td>NBL</td></tr>\n",
       "\t<tr><th scope=row>2</th><td>TARGET-30-PAIPGU-01A-01R</td><td>-319.22630</td><td>1240.6492</td><td>  921.4229</td><td>TARGET-30-PAIPGU-01A</td><td>TARGET</td><td>NBL</td></tr>\n",
       "\t<tr><th scope=row>3</th><td>TARGET-30-PAISNS-01A-01R</td><td>-899.30090</td><td>-128.2337</td><td>-1027.5347</td><td>TARGET-30-PAISNS-01A</td><td>TARGET</td><td>NBL</td></tr>\n",
       "\t<tr><th scope=row>4</th><td>TARGET-30-PAITCI-01A-01R</td><td>-327.26820</td><td> 200.6735</td><td> -126.5947</td><td>TARGET-30-PAITCI-01A</td><td>TARGET</td><td>NBL</td></tr>\n",
       "\t<tr><th scope=row>5</th><td>TARGET-30-PAIVHE-01A-01R</td><td> -15.87499</td><td>1033.6469</td><td> 1017.7719</td><td>TARGET-30-PAIVHE-01A</td><td>TARGET</td><td>NBL</td></tr>\n",
       "\t<tr><th scope=row>6</th><td>TARGET-30-PAIXIF-01A-01R</td><td> 460.15050</td><td> 978.1672</td><td> 1438.3177</td><td>TARGET-30-PAIXIF-01A</td><td>TARGET</td><td>NBL</td></tr>\n",
       "</tbody>\n",
       "</table>\n"
      ],
      "text/latex": [
       "A data.frame: 6 × 7\n",
       "\\begin{tabular}{r|lllllll}\n",
       "  & aliquot\\_id & StromalScore & ImmuneScore & ESTIMATEScore & sample\\_id & group & cohort\\\\\n",
       "  & <chr> & <dbl> & <dbl> & <dbl> & <chr> & <chr> & <chr>\\\\\n",
       "\\hline\n",
       "\t1 & TARGET-30-PAIFXV-01A-01R & -537.97880 &  483.8556 &   -54.1232 & TARGET-30-PAIFXV-01A & TARGET & NBL\\\\\n",
       "\t2 & TARGET-30-PAIPGU-01A-01R & -319.22630 & 1240.6492 &   921.4229 & TARGET-30-PAIPGU-01A & TARGET & NBL\\\\\n",
       "\t3 & TARGET-30-PAISNS-01A-01R & -899.30090 & -128.2337 & -1027.5347 & TARGET-30-PAISNS-01A & TARGET & NBL\\\\\n",
       "\t4 & TARGET-30-PAITCI-01A-01R & -327.26820 &  200.6735 &  -126.5947 & TARGET-30-PAITCI-01A & TARGET & NBL\\\\\n",
       "\t5 & TARGET-30-PAIVHE-01A-01R &  -15.87499 & 1033.6469 &  1017.7719 & TARGET-30-PAIVHE-01A & TARGET & NBL\\\\\n",
       "\t6 & TARGET-30-PAIXIF-01A-01R &  460.15050 &  978.1672 &  1438.3177 & TARGET-30-PAIXIF-01A & TARGET & NBL\\\\\n",
       "\\end{tabular}\n"
      ],
      "text/markdown": [
       "\n",
       "A data.frame: 6 × 7\n",
       "\n",
       "| <!--/--> | aliquot_id &lt;chr&gt; | StromalScore &lt;dbl&gt; | ImmuneScore &lt;dbl&gt; | ESTIMATEScore &lt;dbl&gt; | sample_id &lt;chr&gt; | group &lt;chr&gt; | cohort &lt;chr&gt; |\n",
       "|---|---|---|---|---|---|---|---|\n",
       "| 1 | TARGET-30-PAIFXV-01A-01R | -537.97880 |  483.8556 |   -54.1232 | TARGET-30-PAIFXV-01A | TARGET | NBL |\n",
       "| 2 | TARGET-30-PAIPGU-01A-01R | -319.22630 | 1240.6492 |   921.4229 | TARGET-30-PAIPGU-01A | TARGET | NBL |\n",
       "| 3 | TARGET-30-PAISNS-01A-01R | -899.30090 | -128.2337 | -1027.5347 | TARGET-30-PAISNS-01A | TARGET | NBL |\n",
       "| 4 | TARGET-30-PAITCI-01A-01R | -327.26820 |  200.6735 |  -126.5947 | TARGET-30-PAITCI-01A | TARGET | NBL |\n",
       "| 5 | TARGET-30-PAIVHE-01A-01R |  -15.87499 | 1033.6469 |  1017.7719 | TARGET-30-PAIVHE-01A | TARGET | NBL |\n",
       "| 6 | TARGET-30-PAIXIF-01A-01R |  460.15050 |  978.1672 |  1438.3177 | TARGET-30-PAIXIF-01A | TARGET | NBL |\n",
       "\n"
      ],
      "text/plain": [
       "  aliquot_id               StromalScore ImmuneScore ESTIMATEScore\n",
       "1 TARGET-30-PAIFXV-01A-01R -537.97880    483.8556     -54.1232   \n",
       "2 TARGET-30-PAIPGU-01A-01R -319.22630   1240.6492     921.4229   \n",
       "3 TARGET-30-PAISNS-01A-01R -899.30090   -128.2337   -1027.5347   \n",
       "4 TARGET-30-PAITCI-01A-01R -327.26820    200.6735    -126.5947   \n",
       "5 TARGET-30-PAIVHE-01A-01R  -15.87499   1033.6469    1017.7719   \n",
       "6 TARGET-30-PAIXIF-01A-01R  460.15050    978.1672    1438.3177   \n",
       "  sample_id            group  cohort\n",
       "1 TARGET-30-PAIFXV-01A TARGET NBL   \n",
       "2 TARGET-30-PAIPGU-01A TARGET NBL   \n",
       "3 TARGET-30-PAISNS-01A TARGET NBL   \n",
       "4 TARGET-30-PAITCI-01A TARGET NBL   \n",
       "5 TARGET-30-PAIVHE-01A TARGET NBL   \n",
       "6 TARGET-30-PAIXIF-01A TARGET NBL   "
      ]
     },
     "metadata": {},
     "output_type": "display_data"
    }
   ],
   "source": [
    "head(estimate_df)"
   ]
  },
  {
   "cell_type": "code",
   "execution_count": 23,
   "metadata": {},
   "outputs": [],
   "source": [
    "estimate_ped_pdx <- rbind(estimate_df,PDX_estimate)"
   ]
  },
  {
   "cell_type": "code",
   "execution_count": 28,
   "metadata": {},
   "outputs": [
    {
     "data": {
      "text/plain": [
       "\n",
       "      CBTN       ICGC PDX (ITCC)     TARGET       TCGA \n",
       "       581        196         79        149       2452 "
      ]
     },
     "metadata": {},
     "output_type": "display_data"
    }
   ],
   "source": [
    "table(estimate_ped_pdx$group)"
   ]
  },
  {
   "cell_type": "code",
   "execution_count": 43,
   "metadata": {},
   "outputs": [],
   "source": [
    "ped <- estimate_ped_pdx[ estimate_ped_pdx$group != \"TCGA\",]"
   ]
  },
  {
   "cell_type": "code",
   "execution_count": 44,
   "metadata": {},
   "outputs": [],
   "source": [
    "tab <- as.data.frame(table(ped$cohort), stringsAsFactors = F)\n",
    "tab <- tab[order(tab$Freq, decreasing = T),]"
   ]
  },
  {
   "cell_type": "code",
   "execution_count": 45,
   "metadata": {},
   "outputs": [],
   "source": [
    "ped$cohort <- factor(ped$cohort, levels = tab$Var1)"
   ]
  },
  {
   "cell_type": "code",
   "execution_count": 46,
   "metadata": {},
   "outputs": [],
   "source": [
    "ped$group <- factor(ped$group, levels = c(\"CBTN\", \"ICGC\", \"TARGET\",\n",
    "                                          \"PDX (ITCC)\"))"
   ]
  },
  {
   "cell_type": "code",
   "execution_count": 53,
   "metadata": {},
   "outputs": [],
   "source": [
    "cancersplot <- ggplot(data = ped) + geom_bar(aes(y = cohort, fill = group)) + myaxis + myplot +\n",
    "theme(axis.title = element_blank(), axis.text.x = element_text(size = 25, angle = 0, hjust = 0.5), \n",
    "      legend.position = c(0.8,0.9), legend.title = element_blank()) + scale_fill_manual(values = group_col)"
   ]
  },
  {
   "cell_type": "code",
   "execution_count": 54,
   "metadata": {},
   "outputs": [
    {
     "data": {
      "image/png": "[encoded data removed]",
      "text/plain": [
       "plot without title"
      ]
     },
     "metadata": {
      "image/png": {
       "height": 420,
       "width": 420
      }
     },
     "output_type": "display_data"
    }
   ],
   "source": [
    "cancersplot"
   ]
  },
  {
   "cell_type": "code",
   "execution_count": 55,
   "metadata": {},
   "outputs": [
    {
     "data": {
      "text/html": [
       "<strong>pdf:</strong> 2"
      ],
      "text/latex": [
       "\\textbf{pdf:} 2"
      ],
      "text/markdown": [
       "**pdf:** 2"
      ],
      "text/plain": [
       "pdf \n",
       "  2 "
      ]
     },
     "metadata": {},
     "output_type": "display_data"
    }
   ],
   "source": [
    "pdf(file = paste0(plotpath,\"pedcancer_plot.pdf\"),\n",
    "    width = 10, height = 10, useDingbats = FALSE)\n",
    "cancersplot\n",
    "dev.off()"
   ]
  },
  {
   "cell_type": "code",
   "execution_count": null,
   "metadata": {},
   "outputs": [],
   "source": []
  }
 ],
 "metadata": {
  "kernelspec": {
   "display_name": "R 4.0",
   "language": "R",
   "name": "ir40"
  },
  "language_info": {
   "codemirror_mode": "r",
   "file_extension": ".r",
   "mimetype": "text/x-r-source",
   "name": "R",
   "pygments_lexer": "r",
   "version": "4.0.3"
  },
  "toc": {
   "base_numbering": 1,
   "nav_menu": {},
   "number_sections": false,
   "sideBar": true,
   "skip_h1_title": false,
   "title_cell": "Table of Contents",
   "title_sidebar": "Contents",
   "toc_cell": true,
   "toc_position": {
    "height": "calc(100% - 180px)",
    "left": "10px",
    "top": "150px",
    "width": "218.6px"
   },
   "toc_section_display": true,
   "toc_window_display": true
  }
 },
 "nbformat": 4,
 "nbformat_minor": 2
}
