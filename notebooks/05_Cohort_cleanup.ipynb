{
 "cells": [
  {
   "cell_type": "markdown",
   "metadata": {
    "toc": true
   },
   "source": [
    "<h1>Table of Contents<span class=\"tocSkip\"></span></h1>\n",
    "<div class=\"toc\"><ul class=\"toc-item\"><li><span><a href=\"#Dependencies\" data-toc-modified-id=\"Dependencies-1\">Dependencies</a></span></li><li><span><a href=\"#Paths\" data-toc-modified-id=\"Paths-2\">Paths</a></span></li><li><span><a href=\"#Main\" data-toc-modified-id=\"Main-3\">Main</a></span><ul class=\"toc-item\"><li><span><a href=\"#Cleanup-according-to-CRC-review\" data-toc-modified-id=\"Cleanup-according-to-CRC-review-3.1\">Cleanup according to CRC review</a></span></li><li><span><a href=\"#Modify-disease-types-based-on-my-path-reviews\" data-toc-modified-id=\"Modify-disease-types-based-on-my-path-reviews-3.2\">Modify disease types based on my path reviews</a></span></li><li><span><a href=\"#Group-Ganglioglioma-with-pedLGG\" data-toc-modified-id=\"Group-Ganglioglioma-with-pedLGG-3.3\">Group Ganglioglioma with pedLGG</a></span></li><li><span><a href=\"#Group-DNET-with-pedLGG\" data-toc-modified-id=\"Group-DNET-with-pedLGG-3.4\">Group DNET with pedLGG</a></span></li><li><span><a href=\"#Group-SEGA-(from-Others-group)-with-pedLGG\" data-toc-modified-id=\"Group-SEGA-(from-Others-group)-with-pedLGG-3.5\">Group SEGA (from Others group) with pedLGG</a></span></li><li><span><a href=\"#Group-PA-(ICGC-data)-with-pedLGG\" data-toc-modified-id=\"Group-PA-(ICGC-data)-with-pedLGG-3.6\">Group PA (ICGC data) with pedLGG</a></span></li><li><span><a href=\"#Remove-met-NBL-cases-from-CBTTC-dataset:-7316-224-and-7316-3311\" data-toc-modified-id=\"Remove-met-NBL-cases-from-CBTTC-dataset:-7316-224-and-7316-3311-3.7\">Remove met NBL cases from CBTTC dataset: 7316-224 and 7316-3311</a></span></li><li><span><a href=\"#Bucket-DIPGs-into-pedHGG\" data-toc-modified-id=\"Bucket-DIPGs-into-pedHGG-3.8\">Bucket DIPGs into pedHGG</a></span></li><li><span><a href=\"#Reannotate-Choroid-plexus-as-CP\" data-toc-modified-id=\"Reannotate-Choroid-plexus-as-CP-3.9\">Reannotate Choroid plexus as CP</a></span></li><li><span><a href=\"#Reannotate-Ewings-as-ES\" data-toc-modified-id=\"Reannotate-Ewings-as-ES-3.10\">Reannotate Ewings as ES</a></span></li><li><span><a href=\"#Reannotate-two-embryonal-tumours-as-ETMR\" data-toc-modified-id=\"Reannotate-two-embryonal-tumours-as-ETMR-3.11\">Reannotate two embryonal tumours as ETMR</a></span></li><li><span><a href=\"#Cleanup-Others-group-by-path-reports-and-remove-remaining-samples\" data-toc-modified-id=\"Cleanup-Others-group-by-path-reports-and-remove-remaining-samples-3.12\">Cleanup Others group by path reports and remove remaining samples</a></span></li><li><span><a href=\"#Remove-PNET-group\" data-toc-modified-id=\"Remove-PNET-group-3.13\">Remove PNET group</a></span></li><li><span><a href=\"#Check-if-all-ATRT-cases-have-SMARCB1-mutation\" data-toc-modified-id=\"Check-if-all-ATRT-cases-have-SMARCB1-mutation-3.14\">Check if all ATRT cases have SMARCB1 mutation</a></span></li><li><span><a href=\"#Modify-cohort-abbreviations\" data-toc-modified-id=\"Modify-cohort-abbreviations-3.15\">Modify cohort abbreviations</a></span></li></ul></li></ul></div>"
   ]
  },
  {
   "cell_type": "markdown",
   "metadata": {},
   "source": [
    "# Dependencies"
   ]
  },
  {
   "cell_type": "markdown",
   "metadata": {},
   "source": [
    "# Paths"
   ]
  },
  {
   "cell_type": "code",
   "execution_count": 1,
   "metadata": {},
   "outputs": [],
   "source": [
    "manifestpath <- \"/Users/anabbi/OneDrive - UHN/Documents/IPD2/Manifests/\"\n",
    "datapath <- \"/Users/anabbi/OneDrive - UHN/Documents/IPD2/Data/\"\n",
    "plotpath <- \"/Users/anabbi/OneDrive - UHN/Documents/IPD2/Plots/\""
   ]
  },
  {
   "cell_type": "markdown",
   "metadata": {},
   "source": [
    "# Main"
   ]
  },
  {
   "cell_type": "code",
   "execution_count": 2,
   "metadata": {},
   "outputs": [],
   "source": [
    "load(file = paste0(datapath,\"ESTIMATE/estimate_manifest_primary.RData\"))"
   ]
  },
  {
   "cell_type": "code",
   "execution_count": 3,
   "metadata": {},
   "outputs": [],
   "source": [
    "estimate_manifest_primary_clean <- estimate_manifest_primary"
   ]
  },
  {
   "cell_type": "markdown",
   "metadata": {},
   "source": [
    "## Cleanup according to CRC review"
   ]
  },
  {
   "cell_type": "markdown",
   "metadata": {},
   "source": [
    "Checked with CRC, see excel file CBTTC Dataset_pathrepchecked_CRCreviewed in Manifests"
   ]
  },
  {
   "cell_type": "code",
   "execution_count": 4,
   "metadata": {},
   "outputs": [],
   "source": [
    "estimate_manifest_primary_clean$disease_type[estimate_manifest_primary_clean$sample_id == \"7316-740\"] <- \"EP WHO Grade III\"\n",
    "estimate_manifest_primary_clean$cohort[estimate_manifest_primary_clean$sample_id == \"7316-740\"] <- \"EP\""
   ]
  },
  {
   "cell_type": "code",
   "execution_count": 5,
   "metadata": {},
   "outputs": [],
   "source": [
    "estimate_manifest_primary_clean$disease_type[estimate_manifest_primary_clean$sample_id == \"7316-952\"] <- \"Composite DNET and GGM\""
   ]
  },
  {
   "cell_type": "code",
   "execution_count": 6,
   "metadata": {},
   "outputs": [],
   "source": [
    "estimate_manifest_primary_clean$disease_type[estimate_manifest_primary_clean$sample_id == \"7316-715\"] <- \"GBM\"\n",
    "estimate_manifest_primary_clean$cohort[estimate_manifest_primary_clean$sample_id == \"7316-715\"] <- \"pedHGG\""
   ]
  },
  {
   "cell_type": "code",
   "execution_count": 7,
   "metadata": {},
   "outputs": [],
   "source": [
    "estimate_manifest_primary_clean$disease_type[estimate_manifest_primary_clean$sample_id == \"7316-1855\"] <- \"Burkitts Lymphoma\""
   ]
  },
  {
   "cell_type": "code",
   "execution_count": 8,
   "metadata": {},
   "outputs": [],
   "source": [
    "estimate_manifest_primary_clean$disease_type[estimate_manifest_primary_clean$sample_id == \"7316-2153\"] <- \"Hemangiopericytoma\""
   ]
  },
  {
   "cell_type": "code",
   "execution_count": 9,
   "metadata": {},
   "outputs": [],
   "source": [
    "estimate_manifest_primary_clean$disease_type[estimate_manifest_primary_clean$sample_id == \"7316-3817\"] <- \"GBM\"\n",
    "estimate_manifest_primary_clean$cohort[estimate_manifest_primary_clean$sample_id == \"7316-3817\"] <- \"pedHGG\""
   ]
  },
  {
   "cell_type": "markdown",
   "metadata": {},
   "source": [
    "## Modify disease types based on my path reviews\n",
    "\n",
    "Bucket DNET, GG, PA, PXA and otherLGG into pedLGG"
   ]
  },
  {
   "cell_type": "markdown",
   "metadata": {},
   "source": [
    "See excel sheet CBTTC Dataset_pathrepchecked_primary"
   ]
  },
  {
   "cell_type": "code",
   "execution_count": 10,
   "metadata": {},
   "outputs": [],
   "source": [
    "pathchecked <- read.csv(file = paste0(manifestpath, \"CBTTC Dataset_pathrepchecked_primary.csv\"),\n",
    "                        header = T, na.strings = \"\", stringsAsFactors = F)\n",
    "\n",
    "pathchecked$Cohort[pathchecked$CBTTC.Event.ID == \"7316-740\"] <- \"EP\""
   ]
  },
  {
   "cell_type": "code",
   "execution_count": 11,
   "metadata": {},
   "outputs": [],
   "source": [
    "estimate_manifest_primary_clean$disease_type[estimate_manifest_primary_clean$sample_id == \"7316-373\"] <- \"Ganglioglioma Grade III\"\n",
    "estimate_manifest_primary_clean$disease_type[estimate_manifest_primary_clean$sample_id == \"7316-2980\"] <- \"Malignant glioma with features of PXA\"\n",
    "estimate_manifest_primary_clean$disease_type[estimate_manifest_primary_clean$sample_id == \"7316-3922\"] <- \"Anaplastic PA\""
   ]
  },
  {
   "cell_type": "code",
   "execution_count": 12,
   "metadata": {},
   "outputs": [],
   "source": [
    "estimate_manifest_primary_clean$cohort[estimate_manifest_primary_clean$sample_id == \"7316-373\" |\n",
    "                                       estimate_manifest_primary_clean$sample_id == \"7316-2980\" |\n",
    "                                       estimate_manifest_primary_clean$sample_id == \"7316-3922\"] <- \"pedHGG\""
   ]
  },
  {
   "cell_type": "code",
   "execution_count": 13,
   "metadata": {},
   "outputs": [],
   "source": [
    "pxas <- pathchecked$CBTTC.Event.ID[grepl(\"PXA\",pathchecked$Final.Dx.on.path.report)]\n",
    "pxas <- pxas[pxas != \"7316-2980\"]\n",
    "\n",
    "pas <- pathchecked$CBTTC.Event.ID[grepl(\"PA\",pathchecked$Final.Dx.on.path.report)|\n",
    "                                 grepl(\"ilomyxoid\",pathchecked$Final.Dx.on.path.report)]\n",
    "pas <- pas[pas != \"7316-3922\"]\n",
    "\n",
    "otherlggs <- pathchecked$CBTTC.Event.ID[pathchecked$Cohort == \"LGG\" &\n",
    "                                       !pathchecked$CBTTC.Event.ID %in% pxas &\n",
    "                                       !pathchecked$CBTTC.Event.ID %in% pas]\n",
    "otherlggs <- otherlggs[otherlggs != \"7316-3922\"]"
   ]
  },
  {
   "cell_type": "code",
   "execution_count": 14,
   "metadata": {},
   "outputs": [],
   "source": [
    "estimate_manifest_primary_clean$disease_type[estimate_manifest_primary_clean$sample_id %in% pxas] <- \"PXA\"\n",
    "estimate_manifest_primary_clean$disease_type[estimate_manifest_primary_clean$sample_id %in% pas] <- \"PA\""
   ]
  },
  {
   "cell_type": "markdown",
   "metadata": {},
   "source": [
    "If path report was available for otherlggs, add disease type, if not, keep as is: Low grade glioma/astrocytoma WHO grade I/II"
   ]
  },
  {
   "cell_type": "code",
   "execution_count": 15,
   "metadata": {},
   "outputs": [],
   "source": [
    "myotherlggdx <- pathchecked[pathchecked$CBTTC.Event.ID %in% otherlggs,]\n",
    "myotherlggdx <- myotherlggdx[myotherlggdx$Final.Dx.on.path.report != \"na\",]"
   ]
  },
  {
   "cell_type": "code",
   "execution_count": 17,
   "metadata": {},
   "outputs": [],
   "source": [
    "for(i in 1:nrow(myotherlggdx)){\n",
    "estimate_manifest_primary_clean$disease_type[match(myotherlggdx$CBTTC.Event.ID[i], \n",
    "                                                   estimate_manifest_primary_clean$sample_id)] <-  myotherlggdx$Final.Dx.on.path.report[i]    \n",
    "}"
   ]
  },
  {
   "cell_type": "markdown",
   "metadata": {},
   "source": [
    "## Group Ganglioglioma with pedLGG"
   ]
  },
  {
   "cell_type": "code",
   "execution_count": 18,
   "metadata": {},
   "outputs": [],
   "source": [
    "estimate_manifest_primary_clean$cohort[estimate_manifest_primary_clean$disease_type == \"Ganglioglioma\"] <- \"pedLGG\""
   ]
  },
  {
   "cell_type": "markdown",
   "metadata": {},
   "source": [
    "## Group DNET with pedLGG"
   ]
  },
  {
   "cell_type": "code",
   "execution_count": 19,
   "metadata": {},
   "outputs": [],
   "source": [
    "estimate_manifest_primary_clean$cohort[grepl(\"DNET\",estimate_manifest_primary_clean$disease_type)] <- \"pedLGG\""
   ]
  },
  {
   "cell_type": "markdown",
   "metadata": {},
   "source": [
    "## Group SEGA (from Others group) with pedLGG "
   ]
  },
  {
   "cell_type": "code",
   "execution_count": 20,
   "metadata": {},
   "outputs": [],
   "source": [
    "estimate_manifest_primary_clean$cohort[estimate_manifest_primary_clean$disease_type == \"Glial-neuronal tumor NOS\"] <- \"pedLGG\"\n",
    "estimate_manifest_primary_clean$cohort[estimate_manifest_primary_clean$disease_type == \"Subependymal Giant Cell Astrocytoma (SEGA)\"] <- \"pedLGG\"\n",
    "estimate_manifest_primary_clean$cohort[estimate_manifest_primary_clean$disease_type == \"Papillary Glioneuronal\"] <- \"pedLGG\""
   ]
  },
  {
   "cell_type": "markdown",
   "metadata": {},
   "source": [
    "## Group PA (ICGC data) with pedLGG "
   ]
  },
  {
   "cell_type": "code",
   "execution_count": 21,
   "metadata": {},
   "outputs": [],
   "source": [
    "estimate_manifest_primary_clean$cohort[estimate_manifest_primary_clean$cohort == \"PA\"] <- \"pedLGG\""
   ]
  },
  {
   "cell_type": "markdown",
   "metadata": {},
   "source": [
    "## Remove met NBL cases from CBTTC dataset: 7316-224 and 7316-3311"
   ]
  },
  {
   "cell_type": "code",
   "execution_count": 22,
   "metadata": {},
   "outputs": [],
   "source": [
    "estimate_manifest_primary_clean <- estimate_manifest_primary_clean[estimate_manifest_primary_clean$sample_id != \"7316-3311\" &\n",
    "                                                                   estimate_manifest_primary_clean$sample_id != \"7316-224\",]"
   ]
  },
  {
   "cell_type": "markdown",
   "metadata": {},
   "source": [
    "## Bucket DIPGs into pedHGG "
   ]
  },
  {
   "cell_type": "code",
   "execution_count": 23,
   "metadata": {},
   "outputs": [],
   "source": [
    "estimate_manifest_primary_clean$cohort[estimate_manifest_primary_clean$disease_type == \"Brainstem glioma- Diffuse intrinsic pontine glioma\"] <- \"pedHGG\""
   ]
  },
  {
   "cell_type": "markdown",
   "metadata": {},
   "source": [
    "## Reannotate Choroid plexus as CP "
   ]
  },
  {
   "cell_type": "code",
   "execution_count": 24,
   "metadata": {},
   "outputs": [],
   "source": [
    "estimate_manifest_primary_clean$cohort[estimate_manifest_primary_clean$disease_type == \"Choroid plexus carcinoma\"] <- \"CP\"\n",
    "estimate_manifest_primary_clean$cohort[estimate_manifest_primary_clean$disease_type == \"Choroid plexus papilloma\"] <- \"CP\""
   ]
  },
  {
   "cell_type": "markdown",
   "metadata": {},
   "source": [
    "## Reannotate Ewings as ES "
   ]
  },
  {
   "cell_type": "code",
   "execution_count": 25,
   "metadata": {},
   "outputs": [],
   "source": [
    "estimate_manifest_primary_clean$cohort[estimate_manifest_primary_clean$disease_type == \"Ewings Sarcoma\"] <- \"ES\""
   ]
  },
  {
   "cell_type": "markdown",
   "metadata": {},
   "source": [
    "## Reannotate two embryonal tumours as ETMR"
   ]
  },
  {
   "cell_type": "code",
   "execution_count": 26,
   "metadata": {},
   "outputs": [],
   "source": [
    "estimate_manifest_primary_clean$cohort[estimate_manifest_primary_clean$cohort == \"ET\"] <- \"ETMR\""
   ]
  },
  {
   "cell_type": "code",
   "execution_count": 27,
   "metadata": {},
   "outputs": [],
   "source": [
    "estimate_manifest_primary_clean$cohort[estimate_manifest_primary_clean$disease_type == \"Medulloepithelioma\"] <- \"ETMR\"\n",
    "estimate_manifest_primary_clean$cohort[estimate_manifest_primary_clean$disease_type == \"Embryonal Tumor with Multilayer Rosettes, ROS (WHO Grade IV)\"] <- \"ETMR\""
   ]
  },
  {
   "cell_type": "markdown",
   "metadata": {},
   "source": [
    "## Cleanup Others group by path reports and remove remaining samples"
   ]
  },
  {
   "cell_type": "code",
   "execution_count": 28,
   "metadata": {},
   "outputs": [],
   "source": [
    "estimate_manifest_primary_clean$disease_type[estimate_manifest_primary_clean$sample_id == \"7316-1845\"] <- \"astrocytoma fibrillary type with intrinsic vascular malformation with necrosis\"\n",
    "estimate_manifest_primary_clean$cohort[estimate_manifest_primary_clean$sample_id == \"7316-1845\"] <- \"pedLGG\"\n",
    "\n",
    "estimate_manifest_primary_clean$cohort[estimate_manifest_primary_clean$sample_id == \"7316-133\"] <- \"pedLGG\"\n",
    "\n",
    "estimate_manifest_primary_clean$disease_type[estimate_manifest_primary_clean$sample_id == \"7316-157\"] <- \"Atypical DNET/GG/Cortical dysplasia\"\n",
    "estimate_manifest_primary_clean$cohort[estimate_manifest_primary_clean$sample_id == \"7316-157\"] <- \"pedLGG\"\n",
    "\n",
    "estimate_manifest_primary_clean$cohort[estimate_manifest_primary_clean$sample_id == \"7316-2495\"] <- \"pedLGG\"\n",
    "\n",
    "estimate_manifest_primary_clean$cohort[estimate_manifest_primary_clean$sample_id == \"7316-2513\"] <- \"pedLGG\"\n",
    "\n",
    "estimate_manifest_primary_clean$disease_type[estimate_manifest_primary_clean$sample_id == \"7316-71\"] <- \"Gliomatosis cerebri with extensive anaplasia\"\n",
    "estimate_manifest_primary_clean$cohort[estimate_manifest_primary_clean$sample_id == \"7316-71\"] <- \"pedHGG\""
   ]
  },
  {
   "cell_type": "code",
   "execution_count": 29,
   "metadata": {},
   "outputs": [],
   "source": [
    "estimate_manifest_primary_clean <- estimate_manifest_primary_clean[estimate_manifest_primary_clean$cohort != \"Other\",]"
   ]
  },
  {
   "cell_type": "markdown",
   "metadata": {},
   "source": [
    "## Remove PNET group"
   ]
  },
  {
   "cell_type": "code",
   "execution_count": 30,
   "metadata": {},
   "outputs": [],
   "source": [
    "estimate_manifest_primary_clean <- estimate_manifest_primary_clean[estimate_manifest_primary_clean$cohort != \"PNET\",]"
   ]
  },
  {
   "cell_type": "markdown",
   "metadata": {},
   "source": [
    "## Check if all ATRT cases have SMARCB1 mutation"
   ]
  },
  {
   "cell_type": "code",
   "execution_count": 31,
   "metadata": {},
   "outputs": [],
   "source": [
    "ATRTsample_ids <- estimate_manifest_primary_clean$sample_id[estimate_manifest_primary_clean$cohort == \"ATRT\" &\n",
    "                                                           estimate_manifest_primary_clean$group == \"CBTTC\"]"
   ]
  },
  {
   "cell_type": "markdown",
   "metadata": {},
   "source": [
    "I checked all path reports, see excel sheet CBTTC Dataset_Arash Nabbi 12.04.18_pathrepchecked. The majority of ATRT samples either had loss of INI1 expression assessed by IHC or had genetic test (eg SNParray) confirming the deletion of SMARCB1 locus. Exceptions are the following:\n",
    "\n",
    "\n",
    "7316-479\n",
    "\n",
    "7316-1073: No path report\n",
    "\n",
    "7316-2090\n",
    "\n",
    "7316-3937\n",
    "\n",
    "I will remove them..."
   ]
  },
  {
   "cell_type": "code",
   "execution_count": 32,
   "metadata": {},
   "outputs": [],
   "source": [
    "estimate_manifest_primary_clean <- estimate_manifest_primary_clean[estimate_manifest_primary_clean$sample_id != \"7316-479\" &\n",
    "                                                                   estimate_manifest_primary_clean$sample_id != \"7316-1073\" &\n",
    "                                                                   estimate_manifest_primary_clean$sample_id != \"7316-2090\" &\n",
    "                                                                   estimate_manifest_primary_clean$sample_id != \"7316-3937\",]"
   ]
  },
  {
   "cell_type": "markdown",
   "metadata": {},
   "source": [
    "## Modify cohort abbreviations"
   ]
  },
  {
   "cell_type": "code",
   "execution_count": 33,
   "metadata": {},
   "outputs": [
    {
     "data": {
      "text/plain": [
       "\n",
       "  ATRT   COAD     CP    CPH     EP     ES   ETMR    GBM    LGG   LUAD     MB \n",
       "    31    298     18     30     72      7      9    153    507    522    216 \n",
       "    MN    NBL    NFB     OV pedHGG pedLGG   PRAD   SCHN   SKCM  TT/GN \n",
       "    15    151     13    373     95    313    497     14    102      8 "
      ]
     },
     "metadata": {},
     "output_type": "display_data"
    }
   ],
   "source": [
    "table(estimate_manifest_primary_clean$cohort)"
   ]
  },
  {
   "cell_type": "code",
   "execution_count": 34,
   "metadata": {},
   "outputs": [],
   "source": [
    "estimate_manifest_primary_clean$cohort[estimate_manifest_primary_clean$cohort == \"MN\"] <- \"MNG\"\n",
    "estimate_manifest_primary_clean$cohort[estimate_manifest_primary_clean$cohort == \"SCHN\"] <- \"SCHW\"\n",
    "estimate_manifest_primary_clean$cohort[estimate_manifest_primary_clean$cohort == \"EP\"] <- \"EPN\"\n",
    "estimate_manifest_primary_clean$cohort[estimate_manifest_primary_clean$cohort == \"ES\"] <- \"EWS\""
   ]
  },
  {
   "cell_type": "code",
   "execution_count": 35,
   "metadata": {},
   "outputs": [
    {
     "data": {
      "text/plain": [
       "\n",
       "  ATRT   COAD     CP    CPH    EPN   ETMR    EWS    GBM    LGG   LUAD     MB \n",
       "    31    298     18     30     72      9      7    153    507    522    216 \n",
       "   MNG    NBL    NFB     OV pedHGG pedLGG   PRAD   SCHW   SKCM  TT/GN \n",
       "    15    151     13    373     95    313    497     14    102      8 "
      ]
     },
     "metadata": {},
     "output_type": "display_data"
    }
   ],
   "source": [
    "table(estimate_manifest_primary_clean$cohort)"
   ]
  },
  {
   "cell_type": "markdown",
   "metadata": {},
   "source": [
    "Remove EWS and TT/GN. They are less than 10% of the entire cohort."
   ]
  },
  {
   "cell_type": "code",
   "execution_count": 36,
   "metadata": {},
   "outputs": [],
   "source": [
    "estimate_manifest_primary_clean <- \n",
    "estimate_manifest_primary_clean[!estimate_manifest_primary_clean$cohort %in% c(\"EWS\", \"TT/GN\"),]"
   ]
  },
  {
   "cell_type": "code",
   "execution_count": 37,
   "metadata": {},
   "outputs": [
    {
     "data": {
      "text/plain": [
       "\n",
       " CBTTC   DKFZ TARGET   TCGA \n",
       "   632    196    149   2452 "
      ]
     },
     "metadata": {},
     "output_type": "display_data"
    }
   ],
   "source": [
    "table(estimate_manifest_primary_clean$group)"
   ]
  },
  {
   "cell_type": "code",
   "execution_count": 38,
   "metadata": {},
   "outputs": [
    {
     "data": {
      "text/html": [
       "<style>\n",
       ".list-inline {list-style: none; margin:0; padding: 0}\n",
       ".list-inline>li {display: inline-block}\n",
       ".list-inline>li:not(:last-child)::after {content: \"\\00b7\"; padding: 0 .5ex}\n",
       "</style>\n",
       "<ol class=list-inline><li>3429</li><li>21</li></ol>\n"
      ],
      "text/latex": [
       "\\begin{enumerate*}\n",
       "\\item 3429\n",
       "\\item 21\n",
       "\\end{enumerate*}\n"
      ],
      "text/markdown": [
       "1. 3429\n",
       "2. 21\n",
       "\n",
       "\n"
      ],
      "text/plain": [
       "[1] 3429   21"
      ]
     },
     "metadata": {},
     "output_type": "display_data"
    }
   ],
   "source": [
    "dim(estimate_manifest_primary_clean)"
   ]
  },
  {
   "cell_type": "code",
   "execution_count": 39,
   "metadata": {},
   "outputs": [
    {
     "data": {
      "text/plain": [
       "\n",
       " CBTTC   DKFZ TARGET   TCGA \n",
       "   632    196    149   2452 "
      ]
     },
     "metadata": {},
     "output_type": "display_data"
    }
   ],
   "source": [
    "table(estimate_manifest_primary_clean$group)"
   ]
  },
  {
   "cell_type": "code",
   "execution_count": 41,
   "metadata": {},
   "outputs": [],
   "source": [
    "save(estimate_manifest_primary_clean, \n",
    "    file = paste0(datapath,\"ESTIMATE/estimate_manifest_primary_clean.RData\"))"
   ]
  },
  {
   "cell_type": "code",
   "execution_count": null,
   "metadata": {},
   "outputs": [],
   "source": []
  }
 ],
 "metadata": {
  "kernelspec": {
   "display_name": "R 4.0",
   "language": "R",
   "name": "ir40"
  },
  "language_info": {
   "codemirror_mode": "r",
   "file_extension": ".r",
   "mimetype": "text/x-r-source",
   "name": "R",
   "pygments_lexer": "r",
   "version": "4.0.3"
  },
  "toc": {
   "base_numbering": 1,
   "nav_menu": {},
   "number_sections": false,
   "sideBar": true,
   "skip_h1_title": false,
   "title_cell": "Table of Contents",
   "title_sidebar": "Contents",
   "toc_cell": true,
   "toc_position": {},
   "toc_section_display": true,
   "toc_window_display": true
  }
 },
 "nbformat": 4,
 "nbformat_minor": 2
}
