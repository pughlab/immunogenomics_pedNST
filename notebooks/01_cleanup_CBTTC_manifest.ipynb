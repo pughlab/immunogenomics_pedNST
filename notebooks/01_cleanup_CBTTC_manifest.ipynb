{
 "cells": [
  {
   "cell_type": "markdown",
   "metadata": {
    "toc": true
   },
   "source": [
    "<h1>Table of Contents<span class=\"tocSkip\"></span></h1>\n",
    "<div class=\"toc\"><ul class=\"toc-item\"></ul></div>"
   ]
  },
  {
   "cell_type": "code",
   "execution_count": 1,
   "metadata": {},
   "outputs": [],
   "source": [
    "manifestpath <- \"/Users/anabbi/OneDrive - UHN/Documents/IPD2/Manifests/\"\n",
    "datapath <- \"/Users/anabbi/OneDrive - UHN/Documents/IPD2/Data/\"\n",
    "plotpath <- \"/Users/anabbi/OneDrive - UHN/Documents/IPD2/Plots/\""
   ]
  },
  {
   "cell_type": "markdown",
   "metadata": {},
   "source": [
    "Cleanup rsem manifest"
   ]
  },
  {
   "cell_type": "code",
   "execution_count": 2,
   "metadata": {},
   "outputs": [],
   "source": [
    "CBTTC_RNA_manifest_genes <- read.csv(paste0(manifestpath, \"CBTTC_RSEM-manifest.csv\"),\n",
    "                               header = TRUE, stringsAsFactors = FALSE)"
   ]
  },
  {
   "cell_type": "code",
   "execution_count": 5,
   "metadata": {},
   "outputs": [],
   "source": [
    "CBTTC_celllines <- read.csv(paste0(manifestpath,\"cell_line_RNAalqids_CBTTC.csv\"), \n",
    "                             header = TRUE, stringsAsFactors = F)"
   ]
  },
  {
   "cell_type": "code",
   "execution_count": 6,
   "metadata": {},
   "outputs": [],
   "source": [
    "CBTTC_celllines$X <- NULL"
   ]
  },
  {
   "cell_type": "code",
   "execution_count": 7,
   "metadata": {},
   "outputs": [
    {
     "data": {
      "text/html": [
       "<table class=\"dataframe\">\n",
       "<caption>A data.frame: 33 × 4</caption>\n",
       "<thead>\n",
       "\t<tr><th scope=col>case_id</th><th scope=col>patient_id</th><th scope=col>clinical_event</th><th scope=col>cell_lines_rnaalq_id</th></tr>\n",
       "\t<tr><th scope=col>&lt;chr&gt;</th><th scope=col>&lt;chr&gt;</th><th scope=col>&lt;chr&gt;</th><th scope=col>&lt;chr&gt;</th></tr>\n",
       "</thead>\n",
       "<tbody>\n",
       "\t<tr><td>C216603</td><td>PT_4347ZBEX</td><td>7316-913 </td><td>739931              </td></tr>\n",
       "\t<tr><td>C22878 </td><td>PT_TGQY3X3W</td><td>7316-24  </td><td>739935              </td></tr>\n",
       "\t<tr><td>C28290 </td><td>PT_3AWKWXEV</td><td>7316-85  </td><td>740005              </td></tr>\n",
       "\t<tr><td>C337143</td><td>PT_C2D4JXS1</td><td>7316-1746</td><td>739942              </td></tr>\n",
       "\t<tr><td>C377856</td><td>PT_Z4PJA6KT</td><td>7316-1763</td><td>739939              </td></tr>\n",
       "\t<tr><td>C56826 </td><td>PT_Y5KY6KN9</td><td>7316-195 </td><td>739937              </td></tr>\n",
       "\t<tr><td>C624225</td><td>PT_VAJN5QP8</td><td>7316-2176</td><td>739936              </td></tr>\n",
       "\t<tr><td>C641691</td><td>PT_VTM2STE3</td><td>7316-2189</td><td>740008              </td></tr>\n",
       "\t<tr><td>C714384</td><td>PT_JNEV57VK</td><td>7316-3058</td><td>739934              </td></tr>\n",
       "\t<tr><td>C801468</td><td>PT_HNZNZ635</td><td>7316-2151</td><td>740006              </td></tr>\n",
       "\t<tr><td>C88806 </td><td>PT_JSFBMK5V</td><td>7316-1769</td><td>740009              </td></tr>\n",
       "\t<tr><td>C216603</td><td>PT_4347ZBEX</td><td>7316-913 </td><td>739932              </td></tr>\n",
       "\t<tr><td>C28290 </td><td>PT_3AWKWXEV</td><td>7316-85  </td><td>740010              </td></tr>\n",
       "\t<tr><td>C337143</td><td>PT_C2D4JXS1</td><td>7316-1746</td><td>739941              </td></tr>\n",
       "\t<tr><td>C377856</td><td>PT_Z4PJA6KT</td><td>7316-1763</td><td>739940              </td></tr>\n",
       "\t<tr><td>C56826 </td><td>PT_Y5KY6KN9</td><td>7316-195 </td><td>739938              </td></tr>\n",
       "\t<tr><td>C714384</td><td>PT_JNEV57VK</td><td>7316-3058</td><td>739933              </td></tr>\n",
       "\t<tr><td>C28290 </td><td>PT_3AWKWXEV</td><td>7316-85  </td><td>740007              </td></tr>\n",
       "\t<tr><td>C132594</td><td>PT_80NVYCBS</td><td>7316-765 </td><td>470731              </td></tr>\n",
       "\t<tr><td>C146247</td><td>PT_CXT81GRM</td><td>7316-883 </td><td>363813              </td></tr>\n",
       "\t<tr><td>C15498 </td><td>PT_CSZ9QA1N</td><td>7316-1464</td><td>470021              </td></tr>\n",
       "\t<tr><td>C17958 </td><td>PT_6TZR2DH1</td><td>7316-100 </td><td>67852               </td></tr>\n",
       "\t<tr><td>C25830 </td><td>PT_9S6WMQ92</td><td>7316-278 </td><td>257637              </td></tr>\n",
       "\t<tr><td>C270723</td><td>PT_XA98HG1C</td><td>7316-931 </td><td>404828              </td></tr>\n",
       "\t<tr><td>C312912</td><td>PT_6PP78VNE</td><td>7316-1893</td><td>470029              </td></tr>\n",
       "\t<tr><td>C39729 </td><td>PT_GR8P8NY5</td><td>7316-178 </td><td>169902.251874.169909</td></tr>\n",
       "\t<tr><td>C43296 </td><td>PT_NH8CJ84W</td><td>7316-164 </td><td>164391              </td></tr>\n",
       "\t<tr><td>C58548 </td><td>PT_RFGZ2JGP</td><td>7316-135 </td><td>116304.116311.116318</td></tr>\n",
       "\t<tr><td>C65559 </td><td>PT_6MB6RED3</td><td>7316-226 </td><td>269642.2696         </td></tr>\n",
       "\t<tr><td>C70971 </td><td>PT_CEWNZVKF</td><td>7316-124 </td><td>111642              </td></tr>\n",
       "\t<tr><td>C71094 </td><td>PT_8GBF5MTD</td><td>7316-166 </td><td>164815              </td></tr>\n",
       "\t<tr><td>C81918 </td><td>PT_ZGWYMRV8</td><td>7316-378 </td><td>355944              </td></tr>\n",
       "\t<tr><td>C99630 </td><td>PT_SZJ7WZZW</td><td>7316-467 </td><td>356003              </td></tr>\n",
       "</tbody>\n",
       "</table>\n"
      ],
      "text/latex": [
       "A data.frame: 33 × 4\n",
       "\\begin{tabular}{llll}\n",
       " case\\_id & patient\\_id & clinical\\_event & cell\\_lines\\_rnaalq\\_id\\\\\n",
       " <chr> & <chr> & <chr> & <chr>\\\\\n",
       "\\hline\n",
       "\t C216603 & PT\\_4347ZBEX & 7316-913  & 739931              \\\\\n",
       "\t C22878  & PT\\_TGQY3X3W & 7316-24   & 739935              \\\\\n",
       "\t C28290  & PT\\_3AWKWXEV & 7316-85   & 740005              \\\\\n",
       "\t C337143 & PT\\_C2D4JXS1 & 7316-1746 & 739942              \\\\\n",
       "\t C377856 & PT\\_Z4PJA6KT & 7316-1763 & 739939              \\\\\n",
       "\t C56826  & PT\\_Y5KY6KN9 & 7316-195  & 739937              \\\\\n",
       "\t C624225 & PT\\_VAJN5QP8 & 7316-2176 & 739936              \\\\\n",
       "\t C641691 & PT\\_VTM2STE3 & 7316-2189 & 740008              \\\\\n",
       "\t C714384 & PT\\_JNEV57VK & 7316-3058 & 739934              \\\\\n",
       "\t C801468 & PT\\_HNZNZ635 & 7316-2151 & 740006              \\\\\n",
       "\t C88806  & PT\\_JSFBMK5V & 7316-1769 & 740009              \\\\\n",
       "\t C216603 & PT\\_4347ZBEX & 7316-913  & 739932              \\\\\n",
       "\t C28290  & PT\\_3AWKWXEV & 7316-85   & 740010              \\\\\n",
       "\t C337143 & PT\\_C2D4JXS1 & 7316-1746 & 739941              \\\\\n",
       "\t C377856 & PT\\_Z4PJA6KT & 7316-1763 & 739940              \\\\\n",
       "\t C56826  & PT\\_Y5KY6KN9 & 7316-195  & 739938              \\\\\n",
       "\t C714384 & PT\\_JNEV57VK & 7316-3058 & 739933              \\\\\n",
       "\t C28290  & PT\\_3AWKWXEV & 7316-85   & 740007              \\\\\n",
       "\t C132594 & PT\\_80NVYCBS & 7316-765  & 470731              \\\\\n",
       "\t C146247 & PT\\_CXT81GRM & 7316-883  & 363813              \\\\\n",
       "\t C15498  & PT\\_CSZ9QA1N & 7316-1464 & 470021              \\\\\n",
       "\t C17958  & PT\\_6TZR2DH1 & 7316-100  & 67852               \\\\\n",
       "\t C25830  & PT\\_9S6WMQ92 & 7316-278  & 257637              \\\\\n",
       "\t C270723 & PT\\_XA98HG1C & 7316-931  & 404828              \\\\\n",
       "\t C312912 & PT\\_6PP78VNE & 7316-1893 & 470029              \\\\\n",
       "\t C39729  & PT\\_GR8P8NY5 & 7316-178  & 169902.251874.169909\\\\\n",
       "\t C43296  & PT\\_NH8CJ84W & 7316-164  & 164391              \\\\\n",
       "\t C58548  & PT\\_RFGZ2JGP & 7316-135  & 116304.116311.116318\\\\\n",
       "\t C65559  & PT\\_6MB6RED3 & 7316-226  & 269642.2696         \\\\\n",
       "\t C70971  & PT\\_CEWNZVKF & 7316-124  & 111642              \\\\\n",
       "\t C71094  & PT\\_8GBF5MTD & 7316-166  & 164815              \\\\\n",
       "\t C81918  & PT\\_ZGWYMRV8 & 7316-378  & 355944              \\\\\n",
       "\t C99630  & PT\\_SZJ7WZZW & 7316-467  & 356003              \\\\\n",
       "\\end{tabular}\n"
      ],
      "text/markdown": [
       "\n",
       "A data.frame: 33 × 4\n",
       "\n",
       "| case_id &lt;chr&gt; | patient_id &lt;chr&gt; | clinical_event &lt;chr&gt; | cell_lines_rnaalq_id &lt;chr&gt; |\n",
       "|---|---|---|---|\n",
       "| C216603 | PT_4347ZBEX | 7316-913  | 739931               |\n",
       "| C22878  | PT_TGQY3X3W | 7316-24   | 739935               |\n",
       "| C28290  | PT_3AWKWXEV | 7316-85   | 740005               |\n",
       "| C337143 | PT_C2D4JXS1 | 7316-1746 | 739942               |\n",
       "| C377856 | PT_Z4PJA6KT | 7316-1763 | 739939               |\n",
       "| C56826  | PT_Y5KY6KN9 | 7316-195  | 739937               |\n",
       "| C624225 | PT_VAJN5QP8 | 7316-2176 | 739936               |\n",
       "| C641691 | PT_VTM2STE3 | 7316-2189 | 740008               |\n",
       "| C714384 | PT_JNEV57VK | 7316-3058 | 739934               |\n",
       "| C801468 | PT_HNZNZ635 | 7316-2151 | 740006               |\n",
       "| C88806  | PT_JSFBMK5V | 7316-1769 | 740009               |\n",
       "| C216603 | PT_4347ZBEX | 7316-913  | 739932               |\n",
       "| C28290  | PT_3AWKWXEV | 7316-85   | 740010               |\n",
       "| C337143 | PT_C2D4JXS1 | 7316-1746 | 739941               |\n",
       "| C377856 | PT_Z4PJA6KT | 7316-1763 | 739940               |\n",
       "| C56826  | PT_Y5KY6KN9 | 7316-195  | 739938               |\n",
       "| C714384 | PT_JNEV57VK | 7316-3058 | 739933               |\n",
       "| C28290  | PT_3AWKWXEV | 7316-85   | 740007               |\n",
       "| C132594 | PT_80NVYCBS | 7316-765  | 470731               |\n",
       "| C146247 | PT_CXT81GRM | 7316-883  | 363813               |\n",
       "| C15498  | PT_CSZ9QA1N | 7316-1464 | 470021               |\n",
       "| C17958  | PT_6TZR2DH1 | 7316-100  | 67852                |\n",
       "| C25830  | PT_9S6WMQ92 | 7316-278  | 257637               |\n",
       "| C270723 | PT_XA98HG1C | 7316-931  | 404828               |\n",
       "| C312912 | PT_6PP78VNE | 7316-1893 | 470029               |\n",
       "| C39729  | PT_GR8P8NY5 | 7316-178  | 169902.251874.169909 |\n",
       "| C43296  | PT_NH8CJ84W | 7316-164  | 164391               |\n",
       "| C58548  | PT_RFGZ2JGP | 7316-135  | 116304.116311.116318 |\n",
       "| C65559  | PT_6MB6RED3 | 7316-226  | 269642.2696          |\n",
       "| C70971  | PT_CEWNZVKF | 7316-124  | 111642               |\n",
       "| C71094  | PT_8GBF5MTD | 7316-166  | 164815               |\n",
       "| C81918  | PT_ZGWYMRV8 | 7316-378  | 355944               |\n",
       "| C99630  | PT_SZJ7WZZW | 7316-467  | 356003               |\n",
       "\n"
      ],
      "text/plain": [
       "   case_id patient_id  clinical_event cell_lines_rnaalq_id\n",
       "1  C216603 PT_4347ZBEX 7316-913       739931              \n",
       "2  C22878  PT_TGQY3X3W 7316-24        739935              \n",
       "3  C28290  PT_3AWKWXEV 7316-85        740005              \n",
       "4  C337143 PT_C2D4JXS1 7316-1746      739942              \n",
       "5  C377856 PT_Z4PJA6KT 7316-1763      739939              \n",
       "6  C56826  PT_Y5KY6KN9 7316-195       739937              \n",
       "7  C624225 PT_VAJN5QP8 7316-2176      739936              \n",
       "8  C641691 PT_VTM2STE3 7316-2189      740008              \n",
       "9  C714384 PT_JNEV57VK 7316-3058      739934              \n",
       "10 C801468 PT_HNZNZ635 7316-2151      740006              \n",
       "11 C88806  PT_JSFBMK5V 7316-1769      740009              \n",
       "12 C216603 PT_4347ZBEX 7316-913       739932              \n",
       "13 C28290  PT_3AWKWXEV 7316-85        740010              \n",
       "14 C337143 PT_C2D4JXS1 7316-1746      739941              \n",
       "15 C377856 PT_Z4PJA6KT 7316-1763      739940              \n",
       "16 C56826  PT_Y5KY6KN9 7316-195       739938              \n",
       "17 C714384 PT_JNEV57VK 7316-3058      739933              \n",
       "18 C28290  PT_3AWKWXEV 7316-85        740007              \n",
       "19 C132594 PT_80NVYCBS 7316-765       470731              \n",
       "20 C146247 PT_CXT81GRM 7316-883       363813              \n",
       "21 C15498  PT_CSZ9QA1N 7316-1464      470021              \n",
       "22 C17958  PT_6TZR2DH1 7316-100       67852               \n",
       "23 C25830  PT_9S6WMQ92 7316-278       257637              \n",
       "24 C270723 PT_XA98HG1C 7316-931       404828              \n",
       "25 C312912 PT_6PP78VNE 7316-1893      470029              \n",
       "26 C39729  PT_GR8P8NY5 7316-178       169902.251874.169909\n",
       "27 C43296  PT_NH8CJ84W 7316-164       164391              \n",
       "28 C58548  PT_RFGZ2JGP 7316-135       116304.116311.116318\n",
       "29 C65559  PT_6MB6RED3 7316-226       269642.2696         \n",
       "30 C70971  PT_CEWNZVKF 7316-124       111642              \n",
       "31 C71094  PT_8GBF5MTD 7316-166       164815              \n",
       "32 C81918  PT_ZGWYMRV8 7316-378       355944              \n",
       "33 C99630  PT_SZJ7WZZW 7316-467       356003              "
      ]
     },
     "metadata": {},
     "output_type": "display_data"
    }
   ],
   "source": [
    "CBTTC_celllines"
   ]
  },
  {
   "cell_type": "code",
   "execution_count": 8,
   "metadata": {},
   "outputs": [],
   "source": [
    "CBTTC_RNA_manifest_genes_linerm <- CBTTC_RNA_manifest_genes[!CBTTC_RNA_manifest_genes$aliquot_id %in% \n",
    "                                                            CBTTC_celllines$cell_lines_rnaalq_id,]"
   ]
  },
  {
   "cell_type": "code",
   "execution_count": 10,
   "metadata": {},
   "outputs": [
    {
     "data": {
      "text/html": [
       "<style>\n",
       ".list-inline {list-style: none; margin:0; padding: 0}\n",
       ".list-inline>li {display: inline-block}\n",
       ".list-inline>li:not(:last-child)::after {content: \"\\00b7\"; padding: 0 .5ex}\n",
       "</style>\n",
       "<ol class=list-inline><li>996</li><li>20</li></ol>\n"
      ],
      "text/latex": [
       "\\begin{enumerate*}\n",
       "\\item 996\n",
       "\\item 20\n",
       "\\end{enumerate*}\n"
      ],
      "text/markdown": [
       "1. 996\n",
       "2. 20\n",
       "\n",
       "\n"
      ],
      "text/plain": [
       "[1] 996  20"
      ]
     },
     "metadata": {},
     "output_type": "display_data"
    },
    {
     "data": {
      "text/html": [
       "<style>\n",
       ".list-inline {list-style: none; margin:0; padding: 0}\n",
       ".list-inline>li {display: inline-block}\n",
       ".list-inline>li:not(:last-child)::after {content: \"\\00b7\"; padding: 0 .5ex}\n",
       "</style>\n",
       "<ol class=list-inline><li>974</li><li>20</li></ol>\n"
      ],
      "text/latex": [
       "\\begin{enumerate*}\n",
       "\\item 974\n",
       "\\item 20\n",
       "\\end{enumerate*}\n"
      ],
      "text/markdown": [
       "1. 974\n",
       "2. 20\n",
       "\n",
       "\n"
      ],
      "text/plain": [
       "[1] 974  20"
      ]
     },
     "metadata": {},
     "output_type": "display_data"
    }
   ],
   "source": [
    "dim(CBTTC_RNA_manifest_genes)\n",
    "dim(CBTTC_RNA_manifest_genes_linerm)"
   ]
  },
  {
   "cell_type": "code",
   "execution_count": 11,
   "metadata": {},
   "outputs": [],
   "source": [
    "CBTTC_RNA_manifest_genes_linerm_dedup <- CBTTC_RNA_manifest_genes_linerm[!duplicated(CBTTC_RNA_manifest_genes_linerm$sample_id),]"
   ]
  },
  {
   "cell_type": "code",
   "execution_count": 12,
   "metadata": {},
   "outputs": [
    {
     "data": {
      "text/html": [
       "<style>\n",
       ".list-inline {list-style: none; margin:0; padding: 0}\n",
       ".list-inline>li {display: inline-block}\n",
       ".list-inline>li:not(:last-child)::after {content: \"\\00b7\"; padding: 0 .5ex}\n",
       "</style>\n",
       "<ol class=list-inline><li>974</li><li>20</li></ol>\n"
      ],
      "text/latex": [
       "\\begin{enumerate*}\n",
       "\\item 974\n",
       "\\item 20\n",
       "\\end{enumerate*}\n"
      ],
      "text/markdown": [
       "1. 974\n",
       "2. 20\n",
       "\n",
       "\n"
      ],
      "text/plain": [
       "[1] 974  20"
      ]
     },
     "metadata": {},
     "output_type": "display_data"
    },
    {
     "data": {
      "text/html": [
       "<style>\n",
       ".list-inline {list-style: none; margin:0; padding: 0}\n",
       ".list-inline>li {display: inline-block}\n",
       ".list-inline>li:not(:last-child)::after {content: \"\\00b7\"; padding: 0 .5ex}\n",
       "</style>\n",
       "<ol class=list-inline><li>969</li><li>20</li></ol>\n"
      ],
      "text/latex": [
       "\\begin{enumerate*}\n",
       "\\item 969\n",
       "\\item 20\n",
       "\\end{enumerate*}\n"
      ],
      "text/markdown": [
       "1. 969\n",
       "2. 20\n",
       "\n",
       "\n"
      ],
      "text/plain": [
       "[1] 969  20"
      ]
     },
     "metadata": {},
     "output_type": "display_data"
    }
   ],
   "source": [
    "dim(CBTTC_RNA_manifest_genes_linerm)\n",
    "dim(CBTTC_RNA_manifest_genes_linerm_dedup)"
   ]
  },
  {
   "cell_type": "code",
   "execution_count": 14,
   "metadata": {},
   "outputs": [
    {
     "data": {
      "text/plain": [
       "\n",
       "                  Initial CNS Tumor       Progressive        Recurrence \n",
       "                1               700               147                68 \n",
       "Second Malignancy       Unavailable \n",
       "               16                37 "
      ]
     },
     "metadata": {},
     "output_type": "display_data"
    }
   ],
   "source": [
    "table(CBTTC_RNA_manifest_genes_linerm_dedup$Tumor.Descriptor)"
   ]
  },
  {
   "cell_type": "markdown",
   "metadata": {},
   "source": [
    "Manually checked all aliquot ids of duplicated samples. they are all tumor rna aliquots"
   ]
  },
  {
   "cell_type": "code",
   "execution_count": 15,
   "metadata": {},
   "outputs": [],
   "source": [
    "write.csv(CBTTC_RNA_manifest_genes_linerm_dedup,\n",
    "         file = paste0(manifestpath, \"CBTTC_RSEM-manifest_linerm_dedup.csv\"), row.names = F)"
   ]
  },
  {
   "cell_type": "markdown",
   "metadata": {},
   "source": [
    "clean up mixcr manifest"
   ]
  },
  {
   "cell_type": "code",
   "execution_count": 11,
   "metadata": {},
   "outputs": [],
   "source": [
    "mixcr_manifest <- read.csv(paste0(manifestpath, \"mixcr_manifest.csv\"),\n",
    "                               header = TRUE, stringsAsFactors = FALSE)"
   ]
  },
  {
   "cell_type": "markdown",
   "metadata": {},
   "source": [
    "separate cbttc from the rest"
   ]
  },
  {
   "cell_type": "code",
   "execution_count": 12,
   "metadata": {},
   "outputs": [],
   "source": [
    "cbttc_mixcr_manifest <- mixcr_manifest[ grepl(\"CLONES_TRB_7316\",mixcr_manifest$name),]\n",
    "other_mixcr_manifest <- mixcr_manifest[!grepl(\"CLONES_TRB_7316\",mixcr_manifest$name),]"
   ]
  },
  {
   "cell_type": "code",
   "execution_count": 13,
   "metadata": {},
   "outputs": [],
   "source": [
    "cbttc_mixcr_manifest_linerm <- cbttc_mixcr_manifest[!cbttc_mixcr_manifest$aliquot_id %in% \n",
    "                                       CBTTC_celllines$cell_lines_rnaalq_id,]"
   ]
  },
  {
   "cell_type": "code",
   "execution_count": 14,
   "metadata": {},
   "outputs": [
    {
     "data": {
      "text/html": [
       "<style>\n",
       ".list-inline {list-style: none; margin:0; padding: 0}\n",
       ".list-inline>li {display: inline-block}\n",
       ".list-inline>li:not(:last-child)::after {content: \"\\00b7\"; padding: 0 .5ex}\n",
       "</style>\n",
       "<ol class=list-inline><li>1092</li><li>25</li></ol>\n"
      ],
      "text/latex": [
       "\\begin{enumerate*}\n",
       "\\item 1092\n",
       "\\item 25\n",
       "\\end{enumerate*}\n"
      ],
      "text/markdown": [
       "1. 1092\n",
       "2. 25\n",
       "\n",
       "\n"
      ],
      "text/plain": [
       "[1] 1092   25"
      ]
     },
     "metadata": {},
     "output_type": "display_data"
    },
    {
     "data": {
      "text/html": [
       "<style>\n",
       ".list-inline {list-style: none; margin:0; padding: 0}\n",
       ".list-inline>li {display: inline-block}\n",
       ".list-inline>li:not(:last-child)::after {content: \"\\00b7\"; padding: 0 .5ex}\n",
       "</style>\n",
       "<ol class=list-inline><li>1068</li><li>25</li></ol>\n"
      ],
      "text/latex": [
       "\\begin{enumerate*}\n",
       "\\item 1068\n",
       "\\item 25\n",
       "\\end{enumerate*}\n"
      ],
      "text/markdown": [
       "1. 1068\n",
       "2. 25\n",
       "\n",
       "\n"
      ],
      "text/plain": [
       "[1] 1068   25"
      ]
     },
     "metadata": {},
     "output_type": "display_data"
    }
   ],
   "source": [
    "dim(cbttc_mixcr_manifest)\n",
    "dim(cbttc_mixcr_manifest_linerm)"
   ]
  },
  {
   "cell_type": "code",
   "execution_count": 15,
   "metadata": {},
   "outputs": [],
   "source": [
    "cbttc_mixcr_manifest_linerm_dedup <- cbttc_mixcr_manifest_linerm[!duplicated(cbttc_mixcr_manifest_linerm$sample_id),]"
   ]
  },
  {
   "cell_type": "code",
   "execution_count": 16,
   "metadata": {},
   "outputs": [
    {
     "data": {
      "text/html": [
       "<style>\n",
       ".list-inline {list-style: none; margin:0; padding: 0}\n",
       ".list-inline>li {display: inline-block}\n",
       ".list-inline>li:not(:last-child)::after {content: \"\\00b7\"; padding: 0 .5ex}\n",
       "</style>\n",
       "<ol class=list-inline><li>1058</li><li>25</li></ol>\n"
      ],
      "text/latex": [
       "\\begin{enumerate*}\n",
       "\\item 1058\n",
       "\\item 25\n",
       "\\end{enumerate*}\n"
      ],
      "text/markdown": [
       "1. 1058\n",
       "2. 25\n",
       "\n",
       "\n"
      ],
      "text/plain": [
       "[1] 1058   25"
      ]
     },
     "metadata": {},
     "output_type": "display_data"
    }
   ],
   "source": [
    "dim(cbttc_mixcr_manifest_linerm_dedup)"
   ]
  },
  {
   "cell_type": "markdown",
   "metadata": {},
   "source": [
    "bind all back together and save"
   ]
  },
  {
   "cell_type": "code",
   "execution_count": 17,
   "metadata": {},
   "outputs": [],
   "source": [
    "mixcr_manifest_cleaned <- rbind(cbttc_mixcr_manifest_linerm_dedup,\n",
    "                               other_mixcr_manifest)"
   ]
  },
  {
   "cell_type": "code",
   "execution_count": 18,
   "metadata": {},
   "outputs": [],
   "source": [
    "write.csv(mixcr_manifest_cleaned,\n",
    "         file = paste0(manifestpath, \"mixcr_manifest_cleaned.csv\"), row.names = F)"
   ]
  },
  {
   "cell_type": "code",
   "execution_count": null,
   "metadata": {},
   "outputs": [],
   "source": []
  }
 ],
 "metadata": {
  "kernelspec": {
   "display_name": "R 4.0",
   "language": "R",
   "name": "ir40"
  },
  "language_info": {
   "codemirror_mode": "r",
   "file_extension": ".r",
   "mimetype": "text/x-r-source",
   "name": "R",
   "pygments_lexer": "r",
   "version": "4.0.3"
  },
  "toc": {
   "base_numbering": 1,
   "nav_menu": {},
   "number_sections": true,
   "sideBar": true,
   "skip_h1_title": false,
   "title_cell": "Table of Contents",
   "title_sidebar": "Contents",
   "toc_cell": true,
   "toc_position": {
    "height": "calc(100% - 180px)",
    "left": "10px",
    "top": "150px",
    "width": "274.95px"
   },
   "toc_section_display": true,
   "toc_window_display": false
  }
 },
 "nbformat": 4,
 "nbformat_minor": 2
}
