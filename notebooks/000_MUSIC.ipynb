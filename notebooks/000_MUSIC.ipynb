{
 "cells": [
  {
   "cell_type": "markdown",
   "metadata": {
    "toc": true
   },
   "source": [
    "<h1>Table of Contents<span class=\"tocSkip\"></span></h1>\n",
    "<div class=\"toc\"><ul class=\"toc-item\"><li><span><a href=\"#Dependencies\" data-toc-modified-id=\"Dependencies-1\">Dependencies</a></span></li><li><span><a href=\"#Functions\" data-toc-modified-id=\"Functions-2\">Functions</a></span></li><li><span><a href=\"#Paths\" data-toc-modified-id=\"Paths-3\">Paths</a></span></li><li><span><a href=\"#Main\" data-toc-modified-id=\"Main-4\">Main</a></span></li></ul></div>"
   ]
  },
  {
   "cell_type": "markdown",
   "metadata": {},
   "source": [
    "# Dependencies"
   ]
  },
  {
   "cell_type": "code",
   "execution_count": 1,
   "metadata": {},
   "outputs": [],
   "source": [
    "options(scipen = 999)"
   ]
  },
  {
   "cell_type": "code",
   "execution_count": 2,
   "metadata": {
    "scrolled": true
   },
   "outputs": [
    {
     "name": "stderr",
     "output_type": "stream",
     "text": [
      "Loading required package: grid\n",
      "\n",
      "========================================\n",
      "ComplexHeatmap version 2.6.2\n",
      "Bioconductor page: http://bioconductor.org/packages/ComplexHeatmap/\n",
      "Github page: https://github.com/jokergoo/ComplexHeatmap\n",
      "Documentation: http://jokergoo.github.io/ComplexHeatmap-reference\n",
      "\n",
      "If you use it in published research, please cite:\n",
      "Gu, Z. Complex heatmaps reveal patterns and correlations in multidimensional \n",
      "  genomic data. Bioinformatics 2016.\n",
      "\n",
      "This message can be suppressed by:\n",
      "  suppressPackageStartupMessages(library(ComplexHeatmap))\n",
      "========================================\n",
      "\n",
      "\n",
      "========================================\n",
      "circlize version 0.4.12\n",
      "CRAN page: https://cran.r-project.org/package=circlize\n",
      "Github page: https://github.com/jokergoo/circlize\n",
      "Documentation: https://jokergoo.github.io/circlize_book/book/\n",
      "\n",
      "If you use it in published research, please cite:\n",
      "Gu, Z. circlize implements and enhances circular visualization\n",
      "  in R. Bioinformatics 2014.\n",
      "\n",
      "This message can be suppressed by:\n",
      "  suppressPackageStartupMessages(library(circlize))\n",
      "========================================\n",
      "\n",
      "\n"
     ]
    }
   ],
   "source": [
    "library(ComplexHeatmap)\n",
    "library(circlize)"
   ]
  },
  {
   "cell_type": "markdown",
   "metadata": {},
   "source": [
    "# Functions"
   ]
  },
  {
   "cell_type": "code",
   "execution_count": 3,
   "metadata": {},
   "outputs": [],
   "source": [
    "source(\"~/OneDrive - UHN/R_src/ggplot2_theme.R\")\n",
    "source(\"~/OneDrive - UHN/R_src/color_schemes.R\")\n",
    "source(\"~/OneDrive - UHN/R_src/Heatmap_functions.R\")"
   ]
  },
  {
   "cell_type": "code",
   "execution_count": 31,
   "metadata": {},
   "outputs": [],
   "source": [
    "heatmap_music_fx <- function(ipd_df, pdx_df, cancer, col_fun){\n",
    "  \n",
    "  ipd_mat <- as.matrix(t(ipd_df))    \n",
    "    \n",
    "  cells_hm = Heatmap(ipd_mat,\n",
    "                     #titles and names   \n",
    "                     name = cancer,   \n",
    "                     show_row_names = TRUE,\n",
    "                     show_column_names = FALSE,     \n",
    "                     #clusters and orders  \n",
    "                     cluster_columns = TRUE,\n",
    "                     cluster_rows = TRUE,\n",
    "                     show_column_dend = TRUE,\n",
    "                     #aesthestics\n",
    "                     col = col_fun,\n",
    "                     column_names_gp = gpar(fontsize = 10),\n",
    "                     row_names_gp = gpar(fontsize = 10),\n",
    "                     height = unit(nrow(ipd_mat), \"cm\"),\n",
    "                     column_title_gp = gpar(fontsize = 20),\n",
    "                     column_title = \"TARGET NBL\",\n",
    "                     row_title = NULL)  \n",
    "  \n",
    "  \n",
    "  pdx_mat <- as.matrix(t(pdx_df))   \n",
    "  \n",
    "  pdx_cells_hm = Heatmap(pdx_mat,\n",
    "                         #titles and names   \n",
    "                         name = cancer,   \n",
    "                         show_row_names = TRUE,\n",
    "                         show_column_names = FALSE,     \n",
    "                         #clusters and orders  \n",
    "                         cluster_columns = TRUE,\n",
    "                         cluster_rows = TRUE,\n",
    "                         show_column_dend = TRUE,\n",
    "                         #aesthestics\n",
    "                         col = col_fun,\n",
    "                         column_names_gp = gpar(fontsize = 10),\n",
    "                         row_names_gp = gpar(fontsize = 10),\n",
    "                         height = unit(nrow(pdx_mat), \"cm\"),\n",
    "                         column_title_gp = gpar(fontsize = 20),\n",
    "                         column_title = \"PDX NBL\",\n",
    "                         row_title = NULL)    \n",
    "  \n",
    "  \n",
    "  return(draw(pdx_cells_hm + cells_hm))    \n",
    "}"
   ]
  },
  {
   "cell_type": "markdown",
   "metadata": {},
   "source": [
    "# Paths"
   ]
  },
  {
   "cell_type": "code",
   "execution_count": 18,
   "metadata": {},
   "outputs": [],
   "source": [
    "manifestpath <- \"/Users/anabbi/OneDrive - UHN/Documents/IPD2/Manifests/\"\n",
    "datapath <- \"/Users/anabbi/OneDrive - UHN/Documents/IPD2/Data/\"\n",
    "plotpath <- \"/Users/anabbi/OneDrive - UHN/Documents/IPD2/Plots/\""
   ]
  },
  {
   "cell_type": "markdown",
   "metadata": {},
   "source": [
    "# Main"
   ]
  },
  {
   "cell_type": "code",
   "execution_count": 19,
   "metadata": {},
   "outputs": [],
   "source": [
    "load(paste0(datapath,\"ESTIMATE/estimate_manifest_primary_clean_final.RData\"))"
   ]
  },
  {
   "cell_type": "code",
   "execution_count": 20,
   "metadata": {},
   "outputs": [],
   "source": [
    "ped <- estimate_manifest_primary_clean[ estimate_manifest_primary_clean$group != \"TCGA\",]"
   ]
  },
  {
   "cell_type": "code",
   "execution_count": 21,
   "metadata": {},
   "outputs": [
    {
     "data": {
      "text/plain": [
       "\n",
       "  CBTN   ICGC TARGET \n",
       "   581    196    149 "
      ]
     },
     "metadata": {},
     "output_type": "display_data"
    }
   ],
   "source": [
    "table(ped$group)"
   ]
  },
  {
   "cell_type": "code",
   "execution_count": 22,
   "metadata": {},
   "outputs": [],
   "source": [
    "filelist <- list.files(paste0(datapath, \"MUSIC/\"), full.names = T, pattern = \"MuSiC\")"
   ]
  },
  {
   "cell_type": "code",
   "execution_count": 23,
   "metadata": {},
   "outputs": [],
   "source": [
    "nblfiles <- lapply(filelist[grepl(\"NB\", filelist)], \n",
    "                   function(f){read.table(f, sep = \"\\t\",header = TRUE, stringsAsFactors = F, check.names = F, row.names = 1)})"
   ]
  },
  {
   "cell_type": "code",
   "execution_count": 24,
   "metadata": {},
   "outputs": [],
   "source": [
    "pdx_nbl <- nblfiles[[1]]\n",
    "pdx_nbl <- pdx_nbl[,2:5]\n",
    "\n",
    "target_nbl <- nblfiles[[2]]\n",
    "target_nbl <- target_nbl[,2:5]"
   ]
  },
  {
   "cell_type": "code",
   "execution_count": 32,
   "metadata": {},
   "outputs": [
    {
     "name": "stderr",
     "output_type": "stream",
     "text": [
      "Warning message:\n",
      "“Heatmap/annotation names are duplicated: NBL”\n"
     ]
    },
    {
     "data": {
      "image/png": "[encoded data removed]",
      "text/plain": [
       "plot without title"
      ]
     },
     "metadata": {
      "image/png": {
       "height": 420,
       "width": 420
      }
     },
     "output_type": "display_data"
    }
   ],
   "source": [
    "col_fun = colorRamp2(c(0, 0.8), c(\"#fef0d9\", \"#d7301f\"))\n",
    "\n",
    "heatmap_music_fx(target_nbl, pdx_nbl, \"NBL\", col_fun)"
   ]
  },
  {
   "cell_type": "code",
   "execution_count": 33,
   "metadata": {},
   "outputs": [
    {
     "name": "stderr",
     "output_type": "stream",
     "text": [
      "Warning message:\n",
      "“Heatmap/annotation names are duplicated: NBL”\n"
     ]
    },
    {
     "data": {
      "text/html": [
       "<strong>pdf:</strong> 2"
      ],
      "text/latex": [
       "\\textbf{pdf:} 2"
      ],
      "text/markdown": [
       "**pdf:** 2"
      ],
      "text/plain": [
       "pdf \n",
       "  2 "
      ]
     },
     "metadata": {},
     "output_type": "display_data"
    }
   ],
   "source": [
    "col_fun = colorRamp2(c(0, 0.8), c(\"#fef0d9\", \"#d7301f\"))\n",
    "\n",
    "pdf(paste0(plotpath, \"TARGET_PDX_NBL_MuSiC.pdf\"),\n",
    "   width = 16, height = 10)\n",
    "\n",
    "heatmap_music_fx(target_nbl, pdx_nbl, \"NBL\", col_fun)\n",
    "\n",
    "dev.off()"
   ]
  },
  {
   "cell_type": "code",
   "execution_count": null,
   "metadata": {},
   "outputs": [],
   "source": []
  },
  {
   "cell_type": "code",
   "execution_count": null,
   "metadata": {},
   "outputs": [],
   "source": []
  }
 ],
 "metadata": {
  "kernelspec": {
   "display_name": "R 4.0",
   "language": "R",
   "name": "ir40"
  },
  "language_info": {
   "codemirror_mode": "r",
   "file_extension": ".r",
   "mimetype": "text/x-r-source",
   "name": "R",
   "pygments_lexer": "r",
   "version": "4.0.3"
  },
  "toc": {
   "base_numbering": 1,
   "nav_menu": {},
   "number_sections": false,
   "sideBar": true,
   "skip_h1_title": false,
   "title_cell": "Table of Contents",
   "title_sidebar": "Contents",
   "toc_cell": true,
   "toc_position": {
    "height": "calc(100% - 180px)",
    "left": "10px",
    "top": "150px",
    "width": "203.663px"
   },
   "toc_section_display": true,
   "toc_window_display": true
  }
 },
 "nbformat": 4,
 "nbformat_minor": 2
}
