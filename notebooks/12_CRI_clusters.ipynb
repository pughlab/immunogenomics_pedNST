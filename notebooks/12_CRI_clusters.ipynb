{
 "cells": [
  {
   "cell_type": "markdown",
   "metadata": {
    "toc": true
   },
   "source": [
    "<h1>Table of Contents<span class=\"tocSkip\"></span></h1>\n",
    "<div class=\"toc\"><ul class=\"toc-item\"><li><span><a href=\"#Dependencies\" data-toc-modified-id=\"Dependencies-1\">Dependencies</a></span></li><li><span><a href=\"#Paths\" data-toc-modified-id=\"Paths-2\">Paths</a></span></li><li><span><a href=\"#Main\" data-toc-modified-id=\"Main-3\">Main</a></span></li><li><span><a href=\"#Add-CRI-clusters\" data-toc-modified-id=\"Add-CRI-clusters-4\">Add CRI clusters</a></span></li></ul></div>"
   ]
  },
  {
   "cell_type": "markdown",
   "metadata": {},
   "source": [
    "# Dependencies"
   ]
  },
  {
   "cell_type": "markdown",
   "metadata": {},
   "source": [
    "# Paths"
   ]
  },
  {
   "cell_type": "code",
   "execution_count": 1,
   "metadata": {},
   "outputs": [],
   "source": [
    "manifestpath <- \"/Users/anabbi/OneDrive - UHN/Documents/IPD2/Manifests/\"\n",
    "datapath <- \"/Users/anabbi/OneDrive - UHN/Documents/IPD2/Data/\"\n",
    "plotpath <- \"/Users/anabbi/OneDrive - UHN/Documents/IPD2/Plots/\""
   ]
  },
  {
   "cell_type": "markdown",
   "metadata": {},
   "source": [
    "# Main"
   ]
  },
  {
   "cell_type": "code",
   "execution_count": 2,
   "metadata": {},
   "outputs": [],
   "source": [
    "load(paste0(datapath,\"ESTIMATE/estimate_manifest_primary_clean_final.RData\"))"
   ]
  },
  {
   "cell_type": "code",
   "execution_count": 3,
   "metadata": {},
   "outputs": [],
   "source": [
    "load(paste0(datapath,\"ESTIMATE/PDX_estimate.RData\"))"
   ]
  },
  {
   "cell_type": "code",
   "execution_count": 4,
   "metadata": {},
   "outputs": [
    {
     "data": {
      "text/plain": [
       "\n",
       "  ATRT   COAD     CP    CPH    EPN   ETMR    GBM    LGG   LUAD     MB    MNG \n",
       "    31    298     16     27     65      9    153    507    522    208     13 \n",
       "   NBL    NFB     OV pedHGG pedLGG   PRAD   SCHW   SKCM \n",
       "   151     11    373     83    298    497     14    102 "
      ]
     },
     "metadata": {},
     "output_type": "display_data"
    }
   ],
   "source": [
    "table(estimate_manifest_primary_clean$cohort)"
   ]
  },
  {
   "cell_type": "code",
   "execution_count": 5,
   "metadata": {},
   "outputs": [
    {
     "data": {
      "text/plain": [
       "\n",
       "  CBTN   ICGC TARGET   TCGA \n",
       "   581    196    149   2452 "
      ]
     },
     "metadata": {},
     "output_type": "display_data"
    }
   ],
   "source": [
    "table(estimate_manifest_primary_clean$group)"
   ]
  },
  {
   "cell_type": "markdown",
   "metadata": {},
   "source": [
    "# Add CRI clusters"
   ]
  },
  {
   "cell_type": "code",
   "execution_count": 6,
   "metadata": {},
   "outputs": [],
   "source": [
    "cri <- read.csv(paste0(datapath, \"TME_clusters/immune-calls_CRItool_IPD2.csv\"),\n",
    "               header = T , stringsAsFactors = F, check.names = F)"
   ]
  },
  {
   "cell_type": "code",
   "execution_count": 7,
   "metadata": {},
   "outputs": [],
   "source": [
    "cri$SampleIDs <- gsub(\"X\", \"\", cri$SampleIDs)\n",
    "cri$SampleIDs <- gsub(\"[.]\", \"-\", cri$SampleIDs)"
   ]
  },
  {
   "cell_type": "code",
   "execution_count": 8,
   "metadata": {},
   "outputs": [
    {
     "data": {
      "text/html": [
       "<style>\n",
       ".list-inline {list-style: none; margin:0; padding: 0}\n",
       ".list-inline>li {display: inline-block}\n",
       ".list-inline>li:not(:last-child)::after {content: \"\\00b7\"; padding: 0 .5ex}\n",
       "</style>\n",
       "<ol class=list-inline><li>1233</li><li>8</li></ol>\n"
      ],
      "text/latex": [
       "\\begin{enumerate*}\n",
       "\\item 1233\n",
       "\\item 8\n",
       "\\end{enumerate*}\n"
      ],
      "text/markdown": [
       "1. 1233\n",
       "2. 8\n",
       "\n",
       "\n"
      ],
      "text/plain": [
       "[1] 1233    8"
      ]
     },
     "metadata": {},
     "output_type": "display_data"
    }
   ],
   "source": [
    "dim(cri)"
   ]
  },
  {
   "cell_type": "code",
   "execution_count": 9,
   "metadata": {},
   "outputs": [],
   "source": [
    "colnames(cri)[1] <- \"sample_id\"\n",
    "colnames(cri)[2] <- \"CRI_cluster\""
   ]
  },
  {
   "cell_type": "code",
   "execution_count": 10,
   "metadata": {},
   "outputs": [
    {
     "data": {
      "text/html": [
       "<table class=\"dataframe\">\n",
       "<caption>A data.frame: 6 × 8</caption>\n",
       "<thead>\n",
       "\t<tr><th></th><th scope=col>sample_id</th><th scope=col>CRI_cluster</th><th scope=col>1</th><th scope=col>2</th><th scope=col>3</th><th scope=col>4</th><th scope=col>5</th><th scope=col>6</th></tr>\n",
       "\t<tr><th></th><th scope=col>&lt;chr&gt;</th><th scope=col>&lt;int&gt;</th><th scope=col>&lt;dbl&gt;</th><th scope=col>&lt;dbl&gt;</th><th scope=col>&lt;dbl&gt;</th><th scope=col>&lt;dbl&gt;</th><th scope=col>&lt;dbl&gt;</th><th scope=col>&lt;dbl&gt;</th></tr>\n",
       "</thead>\n",
       "<tbody>\n",
       "\t<tr><th scope=row>1228</th><td>ICGC_PA93</td><td>4</td><td>0</td><td>0</td><td>0.022</td><td>0.331</td><td>0.073</td><td>0.000</td></tr>\n",
       "\t<tr><th scope=row>1229</th><td>ICGC_PA94</td><td>5</td><td>0</td><td>0</td><td>0.013</td><td>0.032</td><td>0.763</td><td>0.000</td></tr>\n",
       "\t<tr><th scope=row>1230</th><td>ICGC_PA95</td><td>4</td><td>0</td><td>0</td><td>0.001</td><td>0.160</td><td>0.044</td><td>0.001</td></tr>\n",
       "\t<tr><th scope=row>1231</th><td>ICGC_PA96</td><td>5</td><td>0</td><td>0</td><td>0.003</td><td>0.046</td><td>0.568</td><td>0.000</td></tr>\n",
       "\t<tr><th scope=row>1232</th><td>ICGC_PA97</td><td>5</td><td>0</td><td>0</td><td>0.023</td><td>0.003</td><td>0.225</td><td>0.000</td></tr>\n",
       "\t<tr><th scope=row>1233</th><td>ICGC_PA99</td><td>3</td><td>0</td><td>0</td><td>0.206</td><td>0.146</td><td>0.031</td><td>0.000</td></tr>\n",
       "</tbody>\n",
       "</table>\n"
      ],
      "text/latex": [
       "A data.frame: 6 × 8\n",
       "\\begin{tabular}{r|llllllll}\n",
       "  & sample\\_id & CRI\\_cluster & 1 & 2 & 3 & 4 & 5 & 6\\\\\n",
       "  & <chr> & <int> & <dbl> & <dbl> & <dbl> & <dbl> & <dbl> & <dbl>\\\\\n",
       "\\hline\n",
       "\t1228 & ICGC\\_PA93 & 4 & 0 & 0 & 0.022 & 0.331 & 0.073 & 0.000\\\\\n",
       "\t1229 & ICGC\\_PA94 & 5 & 0 & 0 & 0.013 & 0.032 & 0.763 & 0.000\\\\\n",
       "\t1230 & ICGC\\_PA95 & 4 & 0 & 0 & 0.001 & 0.160 & 0.044 & 0.001\\\\\n",
       "\t1231 & ICGC\\_PA96 & 5 & 0 & 0 & 0.003 & 0.046 & 0.568 & 0.000\\\\\n",
       "\t1232 & ICGC\\_PA97 & 5 & 0 & 0 & 0.023 & 0.003 & 0.225 & 0.000\\\\\n",
       "\t1233 & ICGC\\_PA99 & 3 & 0 & 0 & 0.206 & 0.146 & 0.031 & 0.000\\\\\n",
       "\\end{tabular}\n"
      ],
      "text/markdown": [
       "\n",
       "A data.frame: 6 × 8\n",
       "\n",
       "| <!--/--> | sample_id &lt;chr&gt; | CRI_cluster &lt;int&gt; | 1 &lt;dbl&gt; | 2 &lt;dbl&gt; | 3 &lt;dbl&gt; | 4 &lt;dbl&gt; | 5 &lt;dbl&gt; | 6 &lt;dbl&gt; |\n",
       "|---|---|---|---|---|---|---|---|---|\n",
       "| 1228 | ICGC_PA93 | 4 | 0 | 0 | 0.022 | 0.331 | 0.073 | 0.000 |\n",
       "| 1229 | ICGC_PA94 | 5 | 0 | 0 | 0.013 | 0.032 | 0.763 | 0.000 |\n",
       "| 1230 | ICGC_PA95 | 4 | 0 | 0 | 0.001 | 0.160 | 0.044 | 0.001 |\n",
       "| 1231 | ICGC_PA96 | 5 | 0 | 0 | 0.003 | 0.046 | 0.568 | 0.000 |\n",
       "| 1232 | ICGC_PA97 | 5 | 0 | 0 | 0.023 | 0.003 | 0.225 | 0.000 |\n",
       "| 1233 | ICGC_PA99 | 3 | 0 | 0 | 0.206 | 0.146 | 0.031 | 0.000 |\n",
       "\n"
      ],
      "text/plain": [
       "     sample_id CRI_cluster 1 2 3     4     5     6    \n",
       "1228 ICGC_PA93 4           0 0 0.022 0.331 0.073 0.000\n",
       "1229 ICGC_PA94 5           0 0 0.013 0.032 0.763 0.000\n",
       "1230 ICGC_PA95 4           0 0 0.001 0.160 0.044 0.001\n",
       "1231 ICGC_PA96 5           0 0 0.003 0.046 0.568 0.000\n",
       "1232 ICGC_PA97 5           0 0 0.023 0.003 0.225 0.000\n",
       "1233 ICGC_PA99 3           0 0 0.206 0.146 0.031 0.000"
      ]
     },
     "metadata": {},
     "output_type": "display_data"
    }
   ],
   "source": [
    "tail(cri)"
   ]
  },
  {
   "cell_type": "code",
   "execution_count": 11,
   "metadata": {},
   "outputs": [],
   "source": [
    "estimate_manifest_primary_clean$CRI_cluster <- NA\n",
    "\n",
    "estimate_manifest_primary_clean$CRI_cluster <- cri$CRI_cluster[ match(estimate_manifest_primary_clean$sample_id,cri$sample_id )]"
   ]
  },
  {
   "cell_type": "code",
   "execution_count": 12,
   "metadata": {},
   "outputs": [
    {
     "data": {
      "text/plain": [
       "\n",
       "  CBTN   ICGC TARGET   TCGA \n",
       "   581    196    149   2452 "
      ]
     },
     "metadata": {},
     "output_type": "display_data"
    }
   ],
   "source": [
    "table(estimate_manifest_primary_clean$group)"
   ]
  },
  {
   "cell_type": "code",
   "execution_count": 13,
   "metadata": {},
   "outputs": [],
   "source": [
    "save(estimate_manifest_primary_clean, file = paste0(datapath,\"ESTIMATE/estimate_manifest_primary_clean_final.RData\"))"
   ]
  },
  {
   "cell_type": "code",
   "execution_count": null,
   "metadata": {},
   "outputs": [],
   "source": []
  }
 ],
 "metadata": {
  "kernelspec": {
   "display_name": "R 4.0",
   "language": "R",
   "name": "ir40"
  },
  "language_info": {
   "codemirror_mode": "r",
   "file_extension": ".r",
   "mimetype": "text/x-r-source",
   "name": "R",
   "pygments_lexer": "r",
   "version": "4.0.3"
  },
  "toc": {
   "base_numbering": 1,
   "nav_menu": {},
   "number_sections": false,
   "sideBar": true,
   "skip_h1_title": false,
   "title_cell": "Table of Contents",
   "title_sidebar": "Contents",
   "toc_cell": true,
   "toc_position": {
    "height": "calc(100% - 180px)",
    "left": "10px",
    "top": "150px",
    "width": "218.625px"
   },
   "toc_section_display": true,
   "toc_window_display": true
  }
 },
 "nbformat": 4,
 "nbformat_minor": 2
}
