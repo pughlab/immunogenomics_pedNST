{
 "cells": [
  {
   "cell_type": "markdown",
   "metadata": {
    "toc": true
   },
   "source": [
    "<h1>Table of Contents<span class=\"tocSkip\"></span></h1>\n",
    "<div class=\"toc\"><ul class=\"toc-item\"><li><span><a href=\"#Dependencies\" data-toc-modified-id=\"Dependencies-1\">Dependencies</a></span></li><li><span><a href=\"#Functions\" data-toc-modified-id=\"Functions-2\">Functions</a></span></li><li><span><a href=\"#Paths\" data-toc-modified-id=\"Paths-3\">Paths</a></span></li><li><span><a href=\"#Main\" data-toc-modified-id=\"Main-4\">Main</a></span></li><li><span><a href=\"#Load-all-HLA\" data-toc-modified-id=\"Load-all-HLA-5\">Load all HLA</a></span></li><li><span><a href=\"#Merge-with-metadata\" data-toc-modified-id=\"Merge-with-metadata-6\">Merge with metadata</a></span></li><li><span><a href=\"#Allele-frequencies-for-HLA-types\" data-toc-modified-id=\"Allele-frequencies-for-HLA-types-7\">Allele frequencies for HLA types</a></span></li><li><span><a href=\"#Most-common-HLAs-across-immune-clusters\" data-toc-modified-id=\"Most-common-HLAs-across-immune-clusters-8\">Most common HLAs across immune clusters</a></span></li><li><span><a href=\"#Stats\" data-toc-modified-id=\"Stats-9\">Stats</a></span></li><li><span><a href=\"#Stats-HLAs-across-cohorts\" data-toc-modified-id=\"Stats-HLAs-across-cohorts-10\">Stats HLAs across cohorts</a></span></li><li><span><a href=\"#HLA-vs-mutations\" data-toc-modified-id=\"HLA-vs-mutations-11\">HLA vs mutations</a></span><ul class=\"toc-item\"><li><span><a href=\"#Get-nonsyn-variants\" data-toc-modified-id=\"Get-nonsyn-variants-11.1\">Get nonsyn variants</a></span><ul class=\"toc-item\"><li><span><a href=\"#CBTTC\" data-toc-modified-id=\"CBTTC-11.1.1\">CBTTC</a></span></li><li><span><a href=\"#DKFZ\" data-toc-modified-id=\"DKFZ-11.1.2\">DKFZ</a></span></li><li><span><a href=\"#TARGET\" data-toc-modified-id=\"TARGET-11.1.3\">TARGET</a></span></li></ul></li><li><span><a href=\"#All-nonsyn-mutated-genes\" data-toc-modified-id=\"All-nonsyn-mutated-genes-11.2\">All nonsyn mutated genes</a></span></li></ul></li></ul></div>"
   ]
  },
  {
   "cell_type": "markdown",
   "metadata": {},
   "source": [
    "# Dependencies"
   ]
  },
  {
   "cell_type": "code",
   "execution_count": 1,
   "metadata": {},
   "outputs": [],
   "source": [
    "options(scipen = 999)"
   ]
  },
  {
   "cell_type": "code",
   "execution_count": 2,
   "metadata": {
    "scrolled": true
   },
   "outputs": [
    {
     "name": "stderr",
     "output_type": "stream",
     "text": [
      "\n",
      "Attaching package: ‘dplyr’\n",
      "\n",
      "\n",
      "The following objects are masked from ‘package:stats’:\n",
      "\n",
      "    filter, lag\n",
      "\n",
      "\n",
      "The following objects are masked from ‘package:base’:\n",
      "\n",
      "    intersect, setdiff, setequal, union\n",
      "\n",
      "\n",
      "Loading required package: carData\n",
      "\n",
      "\n",
      "Attaching package: ‘car’\n",
      "\n",
      "\n",
      "The following object is masked from ‘package:dplyr’:\n",
      "\n",
      "    recode\n",
      "\n",
      "\n"
     ]
    }
   ],
   "source": [
    "library(dplyr)\n",
    "library(car)"
   ]
  },
  {
   "cell_type": "markdown",
   "metadata": {},
   "source": [
    "# Functions\n"
   ]
  },
  {
   "cell_type": "code",
   "execution_count": 3,
   "metadata": {},
   "outputs": [
    {
     "name": "stderr",
     "output_type": "stream",
     "text": [
      "Loading required package: grid\n",
      "\n",
      "========================================\n",
      "ComplexHeatmap version 2.6.2\n",
      "Bioconductor page: http://bioconductor.org/packages/ComplexHeatmap/\n",
      "Github page: https://github.com/jokergoo/ComplexHeatmap\n",
      "Documentation: http://jokergoo.github.io/ComplexHeatmap-reference\n",
      "\n",
      "If you use it in published research, please cite:\n",
      "Gu, Z. Complex heatmaps reveal patterns and correlations in multidimensional \n",
      "  genomic data. Bioinformatics 2016.\n",
      "\n",
      "This message can be suppressed by:\n",
      "  suppressPackageStartupMessages(library(ComplexHeatmap))\n",
      "========================================\n",
      "\n",
      "\n",
      "========================================\n",
      "circlize version 0.4.12\n",
      "CRAN page: https://cran.r-project.org/package=circlize\n",
      "Github page: https://github.com/jokergoo/circlize\n",
      "Documentation: https://jokergoo.github.io/circlize_book/book/\n",
      "\n",
      "If you use it in published research, please cite:\n",
      "Gu, Z. circlize implements and enhances circular visualization\n",
      "  in R. Bioinformatics 2014.\n",
      "\n",
      "This message can be suppressed by:\n",
      "  suppressPackageStartupMessages(library(circlize))\n",
      "========================================\n",
      "\n",
      "\n"
     ]
    }
   ],
   "source": [
    "source(\"~/OneDrive - UHN/R_src/ggplot2_theme.R\")\n",
    "source(\"~/OneDrive - UHN/R_src/color_schemes.R\")\n",
    "source(\"~/OneDrive - UHN/R_src/Heatmap_functions.R\")\n",
    "source(\"~/OneDrive - UHN/R_src/Oncoprint_functions.R\")"
   ]
  },
  {
   "cell_type": "code",
   "execution_count": 4,
   "metadata": {},
   "outputs": [],
   "source": [
    "HLA_freq_plot <- function(metadata, hlatype1, hlatype2, title){\n",
    "    \n",
    "    myalleles <- c(metadata[[hlatype1]],metadata[[hlatype2]])\n",
    "    Tab_Freq <- as.data.frame(table(myalleles), stringsAsFactors = F)\n",
    "    Tab_Freq$AF <- Tab_Freq$Freq/(2*904)\n",
    "    Tab_Freq <- Tab_Freq[order(Tab_Freq$AF, decreasing = T),]\n",
    "    Tab_Freq$myalleles <- gsub(\".*[*]\", \"\", Tab_Freq$myalleles)\n",
    "    Tab_Freq$myalleles <- factor(Tab_Freq$myalleles,levels = Tab_Freq$myalleles)\n",
    "\n",
    "    AF_plot <- ggplot(Tab_Freq, aes(x = myalleles, y = AF)) +  \n",
    "    geom_bar(stat = \"identity\") + myplot + \n",
    "    theme(axis.title.y = element_text(size = 45),\n",
    "          axis.title.x = element_blank(),\n",
    "          axis.line = element_line(color = \"black\"),\n",
    "          axis.text.x = element_text(size = 30, angle = 45, hjust = 1, color = \"black\"),\n",
    "          axis.text.y = element_text(size = 30, color = \"black\")) +\n",
    "    labs(y = paste0(\"Allele frequency\", title))\n",
    "    \n",
    "    return(AF_plot)\n",
    "    }"
   ]
  },
  {
   "cell_type": "markdown",
   "metadata": {},
   "source": [
    "# Paths"
   ]
  },
  {
   "cell_type": "code",
   "execution_count": 5,
   "metadata": {},
   "outputs": [],
   "source": [
    "datapath <- \"/Users/anabbi/OneDrive - UHN/Documents/IPD2/Data/\"\n",
    "plotpath <- \"/Users/anabbi/OneDrive - UHN/Documents/IPD2/Plots/\""
   ]
  },
  {
   "cell_type": "code",
   "execution_count": 6,
   "metadata": {},
   "outputs": [],
   "source": [
    "mountpath <- \"/Users/anabbi/Desktop/H4H/immpedcan/antigen_prediction/HLAtyping/\""
   ]
  },
  {
   "cell_type": "markdown",
   "metadata": {},
   "source": [
    "# Main"
   ]
  },
  {
   "cell_type": "code",
   "execution_count": 7,
   "metadata": {},
   "outputs": [],
   "source": [
    "load(file = file.path(datapath,\"TME_clusters/IPD_estimate_metadata_IC.RData\"))"
   ]
  },
  {
   "cell_type": "code",
   "execution_count": 8,
   "metadata": {},
   "outputs": [
    {
     "data": {
      "text/plain": [
       "\n",
       "Pediatric inflamed     Myeloid-driven     Pediatric cold    Immune excluded \n",
       "                90                279                393                163 "
      ]
     },
     "metadata": {},
     "output_type": "display_data"
    }
   ],
   "source": [
    "table(metadata_IC$immune_cluster)"
   ]
  },
  {
   "cell_type": "code",
   "execution_count": 9,
   "metadata": {},
   "outputs": [],
   "source": [
    "allfiles <- list.files(mountpath, pattern = \".tsv\", full.names = T, recursive = T)"
   ]
  },
  {
   "cell_type": "code",
   "execution_count": 10,
   "metadata": {},
   "outputs": [],
   "source": [
    "# remove abundance files\n",
    "allfiles <- allfiles[!grepl(\"abundance\", allfiles)]"
   ]
  },
  {
   "cell_type": "code",
   "execution_count": 11,
   "metadata": {},
   "outputs": [],
   "source": [
    "all.files <- lapply(allfiles, \n",
    "                    function(f){read.table(f, header = TRUE, sep = \"\\t\", \n",
    "                                           stringsAsFactors = F, nrows = 1, row.names = 1)})"
   ]
  },
  {
   "cell_type": "code",
   "execution_count": 12,
   "metadata": {},
   "outputs": [],
   "source": [
    "myfilesnames <- allfiles"
   ]
  },
  {
   "cell_type": "code",
   "execution_count": 13,
   "metadata": {},
   "outputs": [],
   "source": [
    "names(all.files) <- gsub(\".*HLAtyping//\", \"\", myfilesnames)\n",
    "names(all.files) <- gsub(\".result.tsv\", \"\", names(all.files))"
   ]
  },
  {
   "cell_type": "code",
   "execution_count": 14,
   "metadata": {},
   "outputs": [],
   "source": [
    "# cleanup filenames from ICGC\n",
    "names(all.files) <- gsub(\".*view-by-pid/\", \"\", names(all.files))\n",
    "\n",
    "names(all.files) <- gsub(\"/2020_0.*\", \"\", names(all.files))\n",
    "\n",
    "names(all.files) <- gsub(\"Optitype_ICGC/\", \"\", names(all.files))\n",
    "\n",
    "names(all.files) <- gsub(\"/\", \"\", names(all.files))"
   ]
  },
  {
   "cell_type": "code",
   "execution_count": 15,
   "metadata": {},
   "outputs": [
    {
     "data": {
      "text/html": [
       "<dl>\n",
       "</dl>\n"
      ],
      "text/latex": [
       "\\begin{description}\n",
       "\\end{description}\n"
      ],
      "text/markdown": [
       "\n",
       "\n"
      ],
      "text/plain": [
       "named list()"
      ]
     },
     "metadata": {},
     "output_type": "display_data"
    }
   ],
   "source": [
    "head(all.files)"
   ]
  },
  {
   "cell_type": "markdown",
   "metadata": {},
   "source": [
    "replace PIDs to ICGC sample_ids"
   ]
  },
  {
   "cell_type": "code",
   "execution_count": 39,
   "metadata": {},
   "outputs": [],
   "source": [
    "ICGC_map <- read.csv(file = paste0(datapath, \"HLA/MB_ICGCid_pid_Map4HLAtype_ICGC.csv\"),\n",
    "                        check.names = F, header = TRUE, stringsAsFactors = FALSE)"
   ]
  },
  {
   "cell_type": "code",
   "execution_count": 40,
   "metadata": {},
   "outputs": [
    {
     "data": {
      "text/html": [
       "<table class=\"dataframe\">\n",
       "<caption>A data.frame: 6 × 2</caption>\n",
       "<thead>\n",
       "\t<tr><th></th><th scope=col>SampleID_ICGC</th><th scope=col>PID</th></tr>\n",
       "\t<tr><th></th><th scope=col>&lt;chr&gt;</th><th scope=col>&lt;chr&gt;</th></tr>\n",
       "</thead>\n",
       "<tbody>\n",
       "\t<tr><th scope=row>1</th><td>ICGC_MB1</td><td>179743</td></tr>\n",
       "\t<tr><th scope=row>2</th><td>ICGC_MB2</td><td>198274</td></tr>\n",
       "\t<tr><th scope=row>3</th><td>ICGC_MB3</td><td>MBBL3 </td></tr>\n",
       "\t<tr><th scope=row>4</th><td>ICGC_MB4</td><td>NA    </td></tr>\n",
       "\t<tr><th scope=row>5</th><td>ICGC_MB5</td><td>122372</td></tr>\n",
       "\t<tr><th scope=row>6</th><td>ICGC_MB6</td><td>163298</td></tr>\n",
       "</tbody>\n",
       "</table>\n"
      ],
      "text/latex": [
       "A data.frame: 6 × 2\n",
       "\\begin{tabular}{r|ll}\n",
       "  & SampleID\\_ICGC & PID\\\\\n",
       "  & <chr> & <chr>\\\\\n",
       "\\hline\n",
       "\t1 & ICGC\\_MB1 & 179743\\\\\n",
       "\t2 & ICGC\\_MB2 & 198274\\\\\n",
       "\t3 & ICGC\\_MB3 & MBBL3 \\\\\n",
       "\t4 & ICGC\\_MB4 & NA    \\\\\n",
       "\t5 & ICGC\\_MB5 & 122372\\\\\n",
       "\t6 & ICGC\\_MB6 & 163298\\\\\n",
       "\\end{tabular}\n"
      ],
      "text/markdown": [
       "\n",
       "A data.frame: 6 × 2\n",
       "\n",
       "| <!--/--> | SampleID_ICGC &lt;chr&gt; | PID &lt;chr&gt; |\n",
       "|---|---|---|\n",
       "| 1 | ICGC_MB1 | 179743 |\n",
       "| 2 | ICGC_MB2 | 198274 |\n",
       "| 3 | ICGC_MB3 | MBBL3  |\n",
       "| 4 | ICGC_MB4 | NA     |\n",
       "| 5 | ICGC_MB5 | 122372 |\n",
       "| 6 | ICGC_MB6 | 163298 |\n",
       "\n"
      ],
      "text/plain": [
       "  SampleID_ICGC PID   \n",
       "1 ICGC_MB1      179743\n",
       "2 ICGC_MB2      198274\n",
       "3 ICGC_MB3      MBBL3 \n",
       "4 ICGC_MB4      NA    \n",
       "5 ICGC_MB5      122372\n",
       "6 ICGC_MB6      163298"
      ]
     },
     "metadata": {},
     "output_type": "display_data"
    }
   ],
   "source": [
    "head(ICGC_map)"
   ]
  },
  {
   "cell_type": "code",
   "execution_count": 41,
   "metadata": {},
   "outputs": [],
   "source": [
    "pids <- c('104328','107430','108031','119591','127581',\n",
    "          '128398','138689','165133','167702','177904',\n",
    "          '181633','185985','186723','196865')"
   ]
  },
  {
   "cell_type": "code",
   "execution_count": 42,
   "metadata": {},
   "outputs": [],
   "source": [
    "ICGC_map <- ICGC_map[ ICGC_map$PID %in% pids,]"
   ]
  },
  {
   "cell_type": "code",
   "execution_count": 43,
   "metadata": {},
   "outputs": [
    {
     "data": {
      "text/html": [
       "<table class=\"dataframe\">\n",
       "<caption>A data.frame: 14 × 2</caption>\n",
       "<thead>\n",
       "\t<tr><th></th><th scope=col>SampleID_ICGC</th><th scope=col>PID</th></tr>\n",
       "\t<tr><th></th><th scope=col>&lt;chr&gt;</th><th scope=col>&lt;chr&gt;</th></tr>\n",
       "</thead>\n",
       "<tbody>\n",
       "\t<tr><th scope=row>19</th><td>ICGC_MB19</td><td>138689</td></tr>\n",
       "\t<tr><th scope=row>28</th><td>ICGC_MB28</td><td>186723</td></tr>\n",
       "\t<tr><th scope=row>31</th><td>ICGC_MB31</td><td>128398</td></tr>\n",
       "\t<tr><th scope=row>34</th><td>ICGC_MB34</td><td>185985</td></tr>\n",
       "\t<tr><th scope=row>39</th><td>ICGC_MB39</td><td>107430</td></tr>\n",
       "\t<tr><th scope=row>40</th><td>ICGC_MB40</td><td>127581</td></tr>\n",
       "\t<tr><th scope=row>53</th><td>ICGC_MB53</td><td>108031</td></tr>\n",
       "\t<tr><th scope=row>57</th><td>ICGC_MB57</td><td>165133</td></tr>\n",
       "\t<tr><th scope=row>58</th><td>ICGC_MB58</td><td>167702</td></tr>\n",
       "\t<tr><th scope=row>60</th><td>ICGC_MB60</td><td>181633</td></tr>\n",
       "\t<tr><th scope=row>64</th><td>ICGC_MB64</td><td>177904</td></tr>\n",
       "\t<tr><th scope=row>65</th><td>ICGC_MB65</td><td>104328</td></tr>\n",
       "\t<tr><th scope=row>68</th><td>ICGC_MB68</td><td>119591</td></tr>\n",
       "\t<tr><th scope=row>71</th><td>ICGC_MB71</td><td>196865</td></tr>\n",
       "</tbody>\n",
       "</table>\n"
      ],
      "text/latex": [
       "A data.frame: 14 × 2\n",
       "\\begin{tabular}{r|ll}\n",
       "  & SampleID\\_ICGC & PID\\\\\n",
       "  & <chr> & <chr>\\\\\n",
       "\\hline\n",
       "\t19 & ICGC\\_MB19 & 138689\\\\\n",
       "\t28 & ICGC\\_MB28 & 186723\\\\\n",
       "\t31 & ICGC\\_MB31 & 128398\\\\\n",
       "\t34 & ICGC\\_MB34 & 185985\\\\\n",
       "\t39 & ICGC\\_MB39 & 107430\\\\\n",
       "\t40 & ICGC\\_MB40 & 127581\\\\\n",
       "\t53 & ICGC\\_MB53 & 108031\\\\\n",
       "\t57 & ICGC\\_MB57 & 165133\\\\\n",
       "\t58 & ICGC\\_MB58 & 167702\\\\\n",
       "\t60 & ICGC\\_MB60 & 181633\\\\\n",
       "\t64 & ICGC\\_MB64 & 177904\\\\\n",
       "\t65 & ICGC\\_MB65 & 104328\\\\\n",
       "\t68 & ICGC\\_MB68 & 119591\\\\\n",
       "\t71 & ICGC\\_MB71 & 196865\\\\\n",
       "\\end{tabular}\n"
      ],
      "text/markdown": [
       "\n",
       "A data.frame: 14 × 2\n",
       "\n",
       "| <!--/--> | SampleID_ICGC &lt;chr&gt; | PID &lt;chr&gt; |\n",
       "|---|---|---|\n",
       "| 19 | ICGC_MB19 | 138689 |\n",
       "| 28 | ICGC_MB28 | 186723 |\n",
       "| 31 | ICGC_MB31 | 128398 |\n",
       "| 34 | ICGC_MB34 | 185985 |\n",
       "| 39 | ICGC_MB39 | 107430 |\n",
       "| 40 | ICGC_MB40 | 127581 |\n",
       "| 53 | ICGC_MB53 | 108031 |\n",
       "| 57 | ICGC_MB57 | 165133 |\n",
       "| 58 | ICGC_MB58 | 167702 |\n",
       "| 60 | ICGC_MB60 | 181633 |\n",
       "| 64 | ICGC_MB64 | 177904 |\n",
       "| 65 | ICGC_MB65 | 104328 |\n",
       "| 68 | ICGC_MB68 | 119591 |\n",
       "| 71 | ICGC_MB71 | 196865 |\n",
       "\n"
      ],
      "text/plain": [
       "   SampleID_ICGC PID   \n",
       "19 ICGC_MB19     138689\n",
       "28 ICGC_MB28     186723\n",
       "31 ICGC_MB31     128398\n",
       "34 ICGC_MB34     185985\n",
       "39 ICGC_MB39     107430\n",
       "40 ICGC_MB40     127581\n",
       "53 ICGC_MB53     108031\n",
       "57 ICGC_MB57     165133\n",
       "58 ICGC_MB58     167702\n",
       "60 ICGC_MB60     181633\n",
       "64 ICGC_MB64     177904\n",
       "65 ICGC_MB65     104328\n",
       "68 ICGC_MB68     119591\n",
       "71 ICGC_MB71     196865"
      ]
     },
     "metadata": {},
     "output_type": "display_data"
    }
   ],
   "source": [
    "ICGC_map"
   ]
  },
  {
   "cell_type": "code",
   "execution_count": 44,
   "metadata": {},
   "outputs": [],
   "source": [
    "names(all.files)[match(ICGC_map$PID,names(all.files))] <- ICGC_map$SampleID_ICGC"
   ]
  },
  {
   "cell_type": "markdown",
   "metadata": {},
   "source": [
    "bind all together"
   ]
  },
  {
   "cell_type": "code",
   "execution_count": 45,
   "metadata": {},
   "outputs": [],
   "source": [
    "all.hla <- do.call(\"rbind\", all.files)"
   ]
  },
  {
   "cell_type": "code",
   "execution_count": 46,
   "metadata": {},
   "outputs": [],
   "source": [
    "all.hla$sample_id <- rep(names(all.files), sapply(all.files, nrow))"
   ]
  },
  {
   "cell_type": "code",
   "execution_count": 47,
   "metadata": {},
   "outputs": [
    {
     "data": {
      "text/html": [
       "<table class=\"dataframe\">\n",
       "<caption>A data.frame: 6 × 9</caption>\n",
       "<thead>\n",
       "\t<tr><th></th><th scope=col>A1</th><th scope=col>A2</th><th scope=col>B1</th><th scope=col>B2</th><th scope=col>C1</th><th scope=col>C2</th><th scope=col>Reads</th><th scope=col>Objective</th><th scope=col>sample_id</th></tr>\n",
       "\t<tr><th></th><th scope=col>&lt;chr&gt;</th><th scope=col>&lt;chr&gt;</th><th scope=col>&lt;chr&gt;</th><th scope=col>&lt;chr&gt;</th><th scope=col>&lt;chr&gt;</th><th scope=col>&lt;chr&gt;</th><th scope=col>&lt;dbl&gt;</th><th scope=col>&lt;dbl&gt;</th><th scope=col>&lt;chr&gt;</th></tr>\n",
       "</thead>\n",
       "<tbody>\n",
       "\t<tr><th scope=row>7316-10</th><td>A*03:01</td><td>A*23:01</td><td>B*44:03</td><td>B*58:02</td><td>C*06:02</td><td>C*14:03</td><td>24704</td><td>24036.992</td><td>7316-10  </td></tr>\n",
       "\t<tr><th scope=row>7316-100</th><td>A*33:03</td><td>A*03:01</td><td>B*56:01</td><td>B*18:01</td><td>C*02:02</td><td>C*01:02</td><td>16524</td><td>16077.852</td><td>7316-100 </td></tr>\n",
       "\t<tr><th scope=row>7316-101</th><td>A*29:02</td><td>A*33:03</td><td>B*35:01</td><td>B*15:03</td><td>C*02:10</td><td>C*07:01</td><td>11633</td><td>11318.909</td><td>7316-101 </td></tr>\n",
       "\t<tr><th scope=row>7316-1038</th><td>A*03:01</td><td>A*68:02</td><td>B*14:02</td><td>B*52:01</td><td>C*03:03</td><td>C*08:02</td><td> 9172</td><td> 8924.356</td><td>7316-1038</td></tr>\n",
       "\t<tr><th scope=row>7316-104</th><td>A*34:01</td><td>A*24:02</td><td>B*51:01</td><td>B*40:01</td><td>C*04:01</td><td>C*04:01</td><td>10682</td><td>10489.724</td><td>7316-104 </td></tr>\n",
       "\t<tr><th scope=row>7316-1052</th><td>A*11:01</td><td>A*02:02</td><td>B*15:01</td><td>B*41:01</td><td>C*17:01</td><td>C*03:03</td><td>21807</td><td>21218.211</td><td>7316-1052</td></tr>\n",
       "</tbody>\n",
       "</table>\n"
      ],
      "text/latex": [
       "A data.frame: 6 × 9\n",
       "\\begin{tabular}{r|lllllllll}\n",
       "  & A1 & A2 & B1 & B2 & C1 & C2 & Reads & Objective & sample\\_id\\\\\n",
       "  & <chr> & <chr> & <chr> & <chr> & <chr> & <chr> & <dbl> & <dbl> & <chr>\\\\\n",
       "\\hline\n",
       "\t7316-10 & A*03:01 & A*23:01 & B*44:03 & B*58:02 & C*06:02 & C*14:03 & 24704 & 24036.992 & 7316-10  \\\\\n",
       "\t7316-100 & A*33:03 & A*03:01 & B*56:01 & B*18:01 & C*02:02 & C*01:02 & 16524 & 16077.852 & 7316-100 \\\\\n",
       "\t7316-101 & A*29:02 & A*33:03 & B*35:01 & B*15:03 & C*02:10 & C*07:01 & 11633 & 11318.909 & 7316-101 \\\\\n",
       "\t7316-1038 & A*03:01 & A*68:02 & B*14:02 & B*52:01 & C*03:03 & C*08:02 &  9172 &  8924.356 & 7316-1038\\\\\n",
       "\t7316-104 & A*34:01 & A*24:02 & B*51:01 & B*40:01 & C*04:01 & C*04:01 & 10682 & 10489.724 & 7316-104 \\\\\n",
       "\t7316-1052 & A*11:01 & A*02:02 & B*15:01 & B*41:01 & C*17:01 & C*03:03 & 21807 & 21218.211 & 7316-1052\\\\\n",
       "\\end{tabular}\n"
      ],
      "text/markdown": [
       "\n",
       "A data.frame: 6 × 9\n",
       "\n",
       "| <!--/--> | A1 &lt;chr&gt; | A2 &lt;chr&gt; | B1 &lt;chr&gt; | B2 &lt;chr&gt; | C1 &lt;chr&gt; | C2 &lt;chr&gt; | Reads &lt;dbl&gt; | Objective &lt;dbl&gt; | sample_id &lt;chr&gt; |\n",
       "|---|---|---|---|---|---|---|---|---|---|\n",
       "| 7316-10 | A*03:01 | A*23:01 | B*44:03 | B*58:02 | C*06:02 | C*14:03 | 24704 | 24036.992 | 7316-10   |\n",
       "| 7316-100 | A*33:03 | A*03:01 | B*56:01 | B*18:01 | C*02:02 | C*01:02 | 16524 | 16077.852 | 7316-100  |\n",
       "| 7316-101 | A*29:02 | A*33:03 | B*35:01 | B*15:03 | C*02:10 | C*07:01 | 11633 | 11318.909 | 7316-101  |\n",
       "| 7316-1038 | A*03:01 | A*68:02 | B*14:02 | B*52:01 | C*03:03 | C*08:02 |  9172 |  8924.356 | 7316-1038 |\n",
       "| 7316-104 | A*34:01 | A*24:02 | B*51:01 | B*40:01 | C*04:01 | C*04:01 | 10682 | 10489.724 | 7316-104  |\n",
       "| 7316-1052 | A*11:01 | A*02:02 | B*15:01 | B*41:01 | C*17:01 | C*03:03 | 21807 | 21218.211 | 7316-1052 |\n",
       "\n"
      ],
      "text/plain": [
       "          A1      A2      B1      B2      C1      C2      Reads Objective\n",
       "7316-10   A*03:01 A*23:01 B*44:03 B*58:02 C*06:02 C*14:03 24704 24036.992\n",
       "7316-100  A*33:03 A*03:01 B*56:01 B*18:01 C*02:02 C*01:02 16524 16077.852\n",
       "7316-101  A*29:02 A*33:03 B*35:01 B*15:03 C*02:10 C*07:01 11633 11318.909\n",
       "7316-1038 A*03:01 A*68:02 B*14:02 B*52:01 C*03:03 C*08:02  9172  8924.356\n",
       "7316-104  A*34:01 A*24:02 B*51:01 B*40:01 C*04:01 C*04:01 10682 10489.724\n",
       "7316-1052 A*11:01 A*02:02 B*15:01 B*41:01 C*17:01 C*03:03 21807 21218.211\n",
       "          sample_id\n",
       "7316-10   7316-10  \n",
       "7316-100  7316-100 \n",
       "7316-101  7316-101 \n",
       "7316-1038 7316-1038\n",
       "7316-104  7316-104 \n",
       "7316-1052 7316-1052"
      ]
     },
     "metadata": {},
     "output_type": "display_data"
    }
   ],
   "source": [
    "head(all.hla)"
   ]
  },
  {
   "cell_type": "code",
   "execution_count": 48,
   "metadata": {},
   "outputs": [],
   "source": [
    "save(all.hla, file = paste0(datapath, \"HLA/all.hla.RData\"))"
   ]
  },
  {
   "cell_type": "markdown",
   "metadata": {},
   "source": [
    "# Load all HLA"
   ]
  },
  {
   "cell_type": "markdown",
   "metadata": {},
   "source": [
    "# Merge with metadata"
   ]
  },
  {
   "cell_type": "code",
   "execution_count": 16,
   "metadata": {},
   "outputs": [],
   "source": [
    "load(file = file.path(datapath,\"TME_clusters/IPD_estimate_metadata_IC.RData\"))"
   ]
  },
  {
   "cell_type": "code",
   "execution_count": 17,
   "metadata": {},
   "outputs": [],
   "source": [
    "load(file = paste0(datapath, \"HLA/all.hla.RData\"))"
   ]
  },
  {
   "cell_type": "code",
   "execution_count": 18,
   "metadata": {},
   "outputs": [
    {
     "data": {
      "text/html": [
       "<style>\n",
       ".list-inline {list-style: none; margin:0; padding: 0}\n",
       ".list-inline>li {display: inline-block}\n",
       ".list-inline>li:not(:last-child)::after {content: \"\\00b7\"; padding: 0 .5ex}\n",
       "</style>\n",
       "<ol class=list-inline><li>1405</li><li>9</li></ol>\n"
      ],
      "text/latex": [
       "\\begin{enumerate*}\n",
       "\\item 1405\n",
       "\\item 9\n",
       "\\end{enumerate*}\n"
      ],
      "text/markdown": [
       "1. 1405\n",
       "2. 9\n",
       "\n",
       "\n"
      ],
      "text/plain": [
       "[1] 1405    9"
      ]
     },
     "metadata": {},
     "output_type": "display_data"
    }
   ],
   "source": [
    "dim(all.hla)"
   ]
  },
  {
   "cell_type": "code",
   "execution_count": 19,
   "metadata": {},
   "outputs": [],
   "source": [
    "metadata_IC_HLA <- merge(metadata_IC, all.hla, by = \"sample_id\")"
   ]
  },
  {
   "cell_type": "code",
   "execution_count": 20,
   "metadata": {
    "scrolled": true
   },
   "outputs": [
    {
     "data": {
      "text/html": [
       "<style>\n",
       ".list-inline {list-style: none; margin:0; padding: 0}\n",
       ".list-inline>li {display: inline-block}\n",
       ".list-inline>li:not(:last-child)::after {content: \"\\00b7\"; padding: 0 .5ex}\n",
       "</style>\n",
       "<ol class=list-inline><li>904</li><li>32</li></ol>\n"
      ],
      "text/latex": [
       "\\begin{enumerate*}\n",
       "\\item 904\n",
       "\\item 32\n",
       "\\end{enumerate*}\n"
      ],
      "text/markdown": [
       "1. 904\n",
       "2. 32\n",
       "\n",
       "\n"
      ],
      "text/plain": [
       "[1] 904  32"
      ]
     },
     "metadata": {},
     "output_type": "display_data"
    }
   ],
   "source": [
    "dim(metadata_IC_HLA)"
   ]
  },
  {
   "cell_type": "code",
   "execution_count": 21,
   "metadata": {},
   "outputs": [],
   "source": [
    "write.csv(metadata_IC_HLA[,c(\"sample_id\", 'A1','A2','B1','B2','C1','C2')],\n",
    "         file = paste0(datapath, \"forGangesh/hla.csv\"), row.names = F)"
   ]
  },
  {
   "cell_type": "markdown",
   "metadata": {},
   "source": [
    "# Allele frequencies for HLA types"
   ]
  },
  {
   "cell_type": "code",
   "execution_count": 22,
   "metadata": {},
   "outputs": [],
   "source": [
    "HLA_A_plot <- HLA_freq_plot(metadata_IC_HLA, \"A1\", \"A2\", \" (HLA-A)\")"
   ]
  },
  {
   "cell_type": "code",
   "execution_count": 23,
   "metadata": {},
   "outputs": [],
   "source": [
    "HLA_B_plot <- HLA_freq_plot(metadata_IC_HLA, \"B1\", \"B2\", \" (HLA-B)\")"
   ]
  },
  {
   "cell_type": "code",
   "execution_count": 24,
   "metadata": {},
   "outputs": [],
   "source": [
    "HLA_C_plot <- HLA_freq_plot(metadata_IC_HLA, \"C1\", \"C2\", \" (HLA-C)\")"
   ]
  },
  {
   "cell_type": "code",
   "execution_count": 25,
   "metadata": {},
   "outputs": [
    {
     "data": {
      "text/html": [
       "<strong>pdf:</strong> 2"
      ],
      "text/latex": [
       "\\textbf{pdf:} 2"
      ],
      "text/markdown": [
       "**pdf:** 2"
      ],
      "text/plain": [
       "pdf \n",
       "  2 "
      ]
     },
     "metadata": {},
     "output_type": "display_data"
    }
   ],
   "source": [
    "pdf(paste0(plotpath, \"HLA_A_plot.pdf\"),\n",
    "   width = 45, height = 15)\n",
    "HLA_A_plot\n",
    "dev.off()"
   ]
  },
  {
   "cell_type": "code",
   "execution_count": 26,
   "metadata": {},
   "outputs": [
    {
     "data": {
      "text/html": [
       "<strong>pdf:</strong> 2"
      ],
      "text/latex": [
       "\\textbf{pdf:} 2"
      ],
      "text/markdown": [
       "**pdf:** 2"
      ],
      "text/plain": [
       "pdf \n",
       "  2 "
      ]
     },
     "metadata": {},
     "output_type": "display_data"
    }
   ],
   "source": [
    "pdf(paste0(plotpath, \"HLA_B_plot.pdf\"),\n",
    "   width = 45, height = 15)\n",
    "HLA_B_plot\n",
    "dev.off()"
   ]
  },
  {
   "cell_type": "code",
   "execution_count": 27,
   "metadata": {},
   "outputs": [
    {
     "data": {
      "text/html": [
       "<strong>pdf:</strong> 2"
      ],
      "text/latex": [
       "\\textbf{pdf:} 2"
      ],
      "text/markdown": [
       "**pdf:** 2"
      ],
      "text/plain": [
       "pdf \n",
       "  2 "
      ]
     },
     "metadata": {},
     "output_type": "display_data"
    }
   ],
   "source": [
    "pdf(paste0(plotpath, \"HLA_C_plot.pdf\"),\n",
    "   width = 45, height = 15)\n",
    "HLA_C_plot\n",
    "dev.off()"
   ]
  },
  {
   "cell_type": "markdown",
   "metadata": {},
   "source": [
    "# Most common HLAs across immune clusters"
   ]
  },
  {
   "cell_type": "code",
   "execution_count": 100,
   "metadata": {},
   "outputs": [],
   "source": [
    "HLA_tab.fx <- function(metadata, HLA1, HLA2, HLA){\n",
    "\n",
    "myalleles <- c(metadata[[HLA1]], metadata[[HLA2]])\n",
    "Tab_Freq <- as.data.frame(table(myalleles), stringsAsFactors = F)\n",
    "Tab_Freq$AF <- Tab_Freq$Freq/(2*904)\n",
    "Tab_Freq <- Tab_Freq[order(Tab_Freq$AF, decreasing = T),]\n",
    "\n",
    "common_hlas <- Tab_Freq$myalleles[ Tab_Freq$AF > 0.02]\n",
    "    \n",
    " \n",
    "tmp1 <- metadata[,c(\"immune_cluster\", HLA1)]\n",
    "tmp2 <- metadata[,c(\"immune_cluster\", HLA2)]\n",
    "colnames(tmp1)[2] <- HLA  \n",
    "colnames(tmp2)[2] <- HLA     \n",
    "    \n",
    "tmp <- rbind(tmp1, tmp2)    \n",
    "    \n",
    "tmp <- tmp[ tmp[[HLA]] %in% common_hlas,]\n",
    "    \n",
    "myhla_tab <- as.data.frame(prop.table(table(tmp[[\"immune_cluster\"]], tmp[[HLA]]), margin = 2),\n",
    "                       stringsAsFactors = F)\n",
    "  \n",
    "    \n",
    " return(myhla_tab)   \n",
    "    \n",
    "    }"
   ]
  },
  {
   "cell_type": "code",
   "execution_count": 101,
   "metadata": {
    "scrolled": true
   },
   "outputs": [],
   "source": [
    "HLA_A_tab <- HLA_tab.fx(metadata_IC_HLA, \"A1\", \"A2\", \"A\")\n",
    "\n",
    "HLA_B_tab <- HLA_tab.fx(metadata_IC_HLA, \"B1\", \"B2\", \"B\")\n",
    "\n",
    "HLA_C_tab <- HLA_tab.fx(metadata_IC_HLA, \"C1\", \"C2\", \"C\")"
   ]
  },
  {
   "cell_type": "code",
   "execution_count": 102,
   "metadata": {
    "scrolled": true
   },
   "outputs": [],
   "source": [
    "HLA_B_tab <- rbind(c(\"EMPTY\",\"EMPTY\", 0.00), HLA_B_tab)\n",
    "\n",
    "HLA_C_tab <- rbind(c(\"EMPTY\",\"EMPTY1\", 0.00), HLA_C_tab)"
   ]
  },
  {
   "cell_type": "code",
   "execution_count": 103,
   "metadata": {},
   "outputs": [],
   "source": [
    "HLA_tab <- rbind(HLA_A_tab, HLA_B_tab, HLA_C_tab)"
   ]
  },
  {
   "cell_type": "code",
   "execution_count": 104,
   "metadata": {},
   "outputs": [],
   "source": [
    "HLA_tab$Var1 <- factor(HLA_tab$Var1, levels = c(\"EMPTY\",\"Pediatric inflamed\", \"Myeloid-driven\",\n",
    "                                                \"Pediatric cold\", \"Immune excluded\"))"
   ]
  },
  {
   "cell_type": "code",
   "execution_count": 105,
   "metadata": {},
   "outputs": [],
   "source": [
    "HLA_tab$Freq <- as.numeric(HLA_tab$Freq)"
   ]
  },
  {
   "cell_type": "code",
   "execution_count": 106,
   "metadata": {},
   "outputs": [],
   "source": [
    "HLA_tab$Var2 <- factor(HLA_tab$Var2, levels = unique(HLA_tab$Var2))"
   ]
  },
  {
   "cell_type": "code",
   "execution_count": 108,
   "metadata": {},
   "outputs": [],
   "source": [
    "rmEMPTY <- rep(\"black\",length(levels(HLA_tab$Var2)))\n",
    "rmEMPTY[c(which(levels(HLA_tab$Var2) == \"EMPTY\"), \n",
    "          which(levels(HLA_tab$Var2) == \"EMPTY1\"))] <- \"white\""
   ]
  },
  {
   "cell_type": "code",
   "execution_count": 153,
   "metadata": {},
   "outputs": [
    {
     "name": "stderr",
     "output_type": "stream",
     "text": [
      "Warning message:\n",
      "“Vectorized input to `element_text()` is not officially supported.\n",
      "Results may be unexpected or may change in future versions of ggplot2.”\n"
     ]
    }
   ],
   "source": [
    "HLA_plot_IC <- ggplot() +  \n",
    "    geom_bar(data = HLA_tab, aes(x = Var2, y = Freq, fill = Var1), stat = \"identity\") + \n",
    "    scale_fill_manual(values = c(\"EMPTY\" = \"white\", cluster_col)) + \n",
    "    myplot + myaxis +\n",
    "    theme(axis.title.x = element_blank(), \n",
    "          axis.text.x = element_text(size = 35, color = rmEMPTY),\n",
    "          axis.text.y = element_text(size = 35),\n",
    "          axis.title.y = element_blank(),\n",
    "          legend.position = \"none\",\n",
    "          plot.title = element_text(hjust = 0.5, size = 35)) "
   ]
  },
  {
   "cell_type": "markdown",
   "metadata": {},
   "source": [
    "Add significance asterisks"
   ]
  },
  {
   "cell_type": "code",
   "execution_count": 155,
   "metadata": {},
   "outputs": [],
   "source": [
    "label.df <- data.frame(x = c(\"A*02:01\", \"C*03:04\"), y = c(1,1))\n",
    "HLA_plot_IC <- HLA_plot_IC + \n",
    "geom_text(data = label.df, aes(x = x, y = y), label = \"*\", size = 20)"
   ]
  },
  {
   "cell_type": "code",
   "execution_count": 156,
   "metadata": {},
   "outputs": [
    {
     "data": {
      "image/png": "[encoded data removed]",
      "text/plain": [
       "plot without title"
      ]
     },
     "metadata": {
      "image/png": {
       "height": 420,
       "width": 420
      }
     },
     "output_type": "display_data"
    }
   ],
   "source": [
    "HLA_plot_IC"
   ]
  },
  {
   "cell_type": "code",
   "execution_count": 157,
   "metadata": {},
   "outputs": [
    {
     "data": {
      "text/html": [
       "<strong>pdf:</strong> 2"
      ],
      "text/latex": [
       "\\textbf{pdf:} 2"
      ],
      "text/markdown": [
       "**pdf:** 2"
      ],
      "text/plain": [
       "pdf \n",
       "  2 "
      ]
     },
     "metadata": {},
     "output_type": "display_data"
    }
   ],
   "source": [
    "pdf(paste0(plotpath, \"HLA_plot_IC.pdf\"),\n",
    "   width = 20, height = 10)\n",
    "HLA_plot_IC  + ggtitle(~underline(\"HLAs > 2%\"))\n",
    "dev.off()"
   ]
  },
  {
   "cell_type": "markdown",
   "metadata": {},
   "source": [
    "Legends"
   ]
  },
  {
   "cell_type": "code",
   "execution_count": 133,
   "metadata": {},
   "outputs": [],
   "source": [
    "tmp <- HLA_tab[1:4,]"
   ]
  },
  {
   "cell_type": "code",
   "execution_count": 134,
   "metadata": {},
   "outputs": [],
   "source": [
    "tmp$Var1 <- factor(tmp$Var1, levels = c(\"Pediatric inflamed\", \"Myeloid-driven\",\n",
    "                                        \"Pediatric cold\", \"Immune excluded\"))"
   ]
  },
  {
   "cell_type": "code",
   "execution_count": 135,
   "metadata": {},
   "outputs": [],
   "source": [
    "IC_legend_plot <- ggplot(data = tmp) + \n",
    "    geom_bar(aes(x = Var2, y = Freq, fill = Var1), stat = \"identity\") +\n",
    "    scale_fill_manual(values =  cluster_col) + theme(legend.title = element_blank())"
   ]
  },
  {
   "cell_type": "code",
   "execution_count": 136,
   "metadata": {},
   "outputs": [],
   "source": [
    "legend <- cowplot::get_legend(IC_legend_plot)\n",
    "\n",
    "grid.newpage()\n",
    "grid.draw(legend)"
   ]
  },
  {
   "cell_type": "code",
   "execution_count": 140,
   "metadata": {},
   "outputs": [
    {
     "data": {
      "text/html": [
       "<strong>pdf:</strong> 2"
      ],
      "text/latex": [
       "\\textbf{pdf:} 2"
      ],
      "text/markdown": [
       "**pdf:** 2"
      ],
      "text/plain": [
       "pdf \n",
       "  2 "
      ]
     },
     "metadata": {},
     "output_type": "display_data"
    }
   ],
   "source": [
    "pdf(paste0(plotpath, \"IC_legend.pdf\"),\n",
    "   width = 5, height = 5)\n",
    "#grid.newpage()\n",
    "grid.draw(legend)\n",
    "dev.off()"
   ]
  },
  {
   "cell_type": "markdown",
   "metadata": {},
   "source": [
    "# Stats"
   ]
  },
  {
   "cell_type": "code",
   "execution_count": 144,
   "metadata": {},
   "outputs": [],
   "source": [
    "stats.fx <- function(metadata, HLA1, HLA2){\n",
    "\n",
    "myalleles <- c(metadata[[HLA1]], metadata[[HLA2]])\n",
    "Tab_Freq <- as.data.frame(table(myalleles), stringsAsFactors = F)\n",
    "Tab_Freq$AF <- Tab_Freq$Freq/(2*904)\n",
    "Tab_Freq <- Tab_Freq[order(Tab_Freq$AF, decreasing = T),]\n",
    "\n",
    "common_hlas <- Tab_Freq$myalleles[ Tab_Freq$AF > 0.02]\n",
    "    \n",
    "for(hla in common_hlas){\n",
    " \n",
    "    tmp <- metadata\n",
    "    tmp$myHLA <- NA\n",
    "tmp$myHLA[ tmp[[HLA1]] == hla] <- 1\n",
    "tmp$myHLA[ tmp[[HLA2]] == hla] <- 1\n",
    "tmp$myHLA[ is.na(tmp$myHLA)] <- 0\n",
    "    \n",
    "#   print(table(tmp$myHLA)) \n",
    "#    message(\"lrm\")\n",
    "#    print(rms::lrm(myHLA ~ immune_cluster + cohort, data = tmp))\n",
    "    \n",
    "if(chisq.test(table(tmp$immune_cluster, tmp$myHLA))$p.value < 0.05){\n",
    "    message(paste0(hla))  }  \n",
    "}\n",
    "    } \n",
    "    "
   ]
  },
  {
   "cell_type": "code",
   "execution_count": 145,
   "metadata": {
    "scrolled": false
   },
   "outputs": [
    {
     "name": "stderr",
     "output_type": "stream",
     "text": [
      "C*03:04\n",
      "\n",
      "Warning message in chisq.test(table(tmp$immune_cluster, tmp$myHLA)):\n",
      "“Chi-squared approximation may be incorrect”\n"
     ]
    }
   ],
   "source": [
    "stats.fx(metadata_IC_HLA, \"C1\", \"C2\")"
   ]
  },
  {
   "cell_type": "code",
   "execution_count": 146,
   "metadata": {
    "scrolled": false
   },
   "outputs": [
    {
     "name": "stderr",
     "output_type": "stream",
     "text": [
      "Warning message in chisq.test(table(tmp$immune_cluster, tmp$myHLA)):\n",
      "“Chi-squared approximation may be incorrect”\n",
      "Warning message in chisq.test(table(tmp$immune_cluster, tmp$myHLA)):\n",
      "“Chi-squared approximation may be incorrect”\n",
      "Warning message in chisq.test(table(tmp$immune_cluster, tmp$myHLA)):\n",
      "“Chi-squared approximation may be incorrect”\n",
      "Warning message in chisq.test(table(tmp$immune_cluster, tmp$myHLA)):\n",
      "“Chi-squared approximation may be incorrect”\n",
      "Warning message in chisq.test(table(tmp$immune_cluster, tmp$myHLA)):\n",
      "“Chi-squared approximation may be incorrect”\n"
     ]
    }
   ],
   "source": [
    "stats.fx(metadata_IC_HLA, \"B1\", \"B2\")"
   ]
  },
  {
   "cell_type": "code",
   "execution_count": 147,
   "metadata": {
    "scrolled": false
   },
   "outputs": [
    {
     "name": "stderr",
     "output_type": "stream",
     "text": [
      "A*02:01\n",
      "\n",
      "Warning message in chisq.test(table(tmp$immune_cluster, tmp$myHLA)):\n",
      "“Chi-squared approximation may be incorrect”\n",
      "Warning message in chisq.test(table(tmp$immune_cluster, tmp$myHLA)):\n",
      "“Chi-squared approximation may be incorrect”\n"
     ]
    }
   ],
   "source": [
    "stats.fx(metadata_IC_HLA, \"A1\", \"A2\")"
   ]
  },
  {
   "cell_type": "markdown",
   "metadata": {},
   "source": [
    "# "
   ]
  },
  {
   "cell_type": "markdown",
   "metadata": {},
   "source": [
    "# Stats HLAs across cohorts"
   ]
  },
  {
   "cell_type": "code",
   "execution_count": 261,
   "metadata": {},
   "outputs": [],
   "source": [
    "myalleles <- c(metadata_IC_HLA[[\"B1\"]], metadata_IC_HLA[[\"B2\"]])\n",
    "Tab_Freq <- as.data.frame(table(myalleles), stringsAsFactors = F)\n",
    "Tab_Freq$AF <- Tab_Freq$Freq/(2*904)\n",
    "Tab_Freq <- Tab_Freq[order(Tab_Freq$AF, decreasing = T),]\n",
    "\n",
    "common_hlas <- Tab_Freq$myalleles[ Tab_Freq$AF > 0.02]\n"
   ]
  },
  {
   "cell_type": "code",
   "execution_count": 262,
   "metadata": {},
   "outputs": [
    {
     "name": "stderr",
     "output_type": "stream",
     "text": [
      "Warning message in chisq.test(table(tmp$mycancer, tmp$myHLA)):\n",
      "“Chi-squared approximation may be incorrect”\n",
      "Warning message in chisq.test(table(tmp$mycancer, tmp$myHLA)):\n",
      "“Chi-squared approximation may be incorrect”\n",
      "Warning message in chisq.test(table(tmp$mycancer, tmp$myHLA)):\n",
      "“Chi-squared approximation may be incorrect”\n",
      "Warning message in chisq.test(table(tmp$mycancer, tmp$myHLA)):\n",
      "“Chi-squared approximation may be incorrect”\n",
      "Warning message in chisq.test(table(tmp$mycancer, tmp$myHLA)):\n",
      "“Chi-squared approximation may be incorrect”\n",
      "Warning message in chisq.test(table(tmp$mycancer, tmp$myHLA)):\n",
      "“Chi-squared approximation may be incorrect”\n",
      "Warning message in chisq.test(table(tmp$mycancer, tmp$myHLA)):\n",
      "“Chi-squared approximation may be incorrect”\n",
      "Warning message in chisq.test(table(tmp$mycancer, tmp$myHLA)):\n",
      "“Chi-squared approximation may be incorrect”\n",
      "Warning message in chisq.test(table(tmp$mycancer, tmp$myHLA)):\n",
      "“Chi-squared approximation may be incorrect”\n",
      "Warning message in chisq.test(table(tmp$mycancer, tmp$myHLA)):\n",
      "“Chi-squared approximation may be incorrect”\n",
      "Warning message in chisq.test(table(tmp$mycancer, tmp$myHLA)):\n",
      "“Chi-squared approximation may be incorrect”\n",
      "Warning message in chisq.test(table(tmp$mycancer, tmp$myHLA)):\n",
      "“Chi-squared approximation may be incorrect”\n",
      "ETMRB*08:01\n",
      "\n",
      "Warning message in chisq.test(table(tmp$mycancer, tmp$myHLA)):\n",
      "“Chi-squared approximation may be incorrect”\n",
      "Warning message in chisq.test(table(tmp$mycancer, tmp$myHLA)):\n",
      "“Chi-squared approximation may be incorrect”\n",
      "Warning message in chisq.test(table(tmp$mycancer, tmp$myHLA)):\n",
      "“Chi-squared approximation may be incorrect”\n",
      "Warning message in chisq.test(table(tmp$mycancer, tmp$myHLA)):\n",
      "“Chi-squared approximation may be incorrect”\n",
      "Warning message in chisq.test(table(tmp$mycancer, tmp$myHLA)):\n",
      "“Chi-squared approximation may be incorrect”\n",
      "Warning message in chisq.test(table(tmp$mycancer, tmp$myHLA)):\n",
      "“Chi-squared approximation may be incorrect”\n",
      "Warning message in chisq.test(table(tmp$mycancer, tmp$myHLA)):\n",
      "“Chi-squared approximation may be incorrect”\n",
      "Warning message in chisq.test(table(tmp$mycancer, tmp$myHLA)):\n",
      "“Chi-squared approximation may be incorrect”\n",
      "Warning message in chisq.test(table(tmp$mycancer, tmp$myHLA)):\n",
      "“Chi-squared approximation may be incorrect”\n",
      "Warning message in chisq.test(table(tmp$mycancer, tmp$myHLA)):\n",
      "“Chi-squared approximation may be incorrect”\n",
      "Warning message in chisq.test(table(tmp$mycancer, tmp$myHLA)):\n",
      "“Chi-squared approximation may be incorrect”\n",
      "Warning message in chisq.test(table(tmp$mycancer, tmp$myHLA)):\n",
      "“Chi-squared approximation may be incorrect”\n",
      "Warning message in chisq.test(table(tmp$mycancer, tmp$myHLA)):\n",
      "“Chi-squared approximation may be incorrect”\n",
      "Warning message in chisq.test(table(tmp$mycancer, tmp$myHLA)):\n",
      "“Chi-squared approximation may be incorrect”\n",
      "Warning message in chisq.test(table(tmp$mycancer, tmp$myHLA)):\n",
      "“Chi-squared approximation may be incorrect”\n",
      "Warning message in chisq.test(table(tmp$mycancer, tmp$myHLA)):\n",
      "“Chi-squared approximation may be incorrect”\n",
      "Warning message in chisq.test(table(tmp$mycancer, tmp$myHLA)):\n",
      "“Chi-squared approximation may be incorrect”\n",
      "Warning message in chisq.test(table(tmp$mycancer, tmp$myHLA)):\n",
      "“Chi-squared approximation may be incorrect”\n",
      "Warning message in chisq.test(table(tmp$mycancer, tmp$myHLA)):\n",
      "“Chi-squared approximation may be incorrect”\n",
      "Warning message in chisq.test(table(tmp$mycancer, tmp$myHLA)):\n",
      "“Chi-squared approximation may be incorrect”\n",
      "Warning message in chisq.test(table(tmp$mycancer, tmp$myHLA)):\n",
      "“Chi-squared approximation may be incorrect”\n",
      "NBLB*35:01\n",
      "\n",
      "Warning message in chisq.test(table(tmp$mycancer, tmp$myHLA)):\n",
      "“Chi-squared approximation may be incorrect”\n",
      "Warning message in chisq.test(table(tmp$mycancer, tmp$myHLA)):\n",
      "“Chi-squared approximation may be incorrect”\n",
      "Warning message in chisq.test(table(tmp$mycancer, tmp$myHLA)):\n",
      "“Chi-squared approximation may be incorrect”\n",
      "Warning message in chisq.test(table(tmp$mycancer, tmp$myHLA)):\n",
      "“Chi-squared approximation may be incorrect”\n",
      "Warning message in chisq.test(table(tmp$mycancer, tmp$myHLA)):\n",
      "“Chi-squared approximation may be incorrect”\n",
      "Warning message in chisq.test(table(tmp$mycancer, tmp$myHLA)):\n",
      "“Chi-squared approximation may be incorrect”\n",
      "Warning message in chisq.test(table(tmp$mycancer, tmp$myHLA)):\n",
      "“Chi-squared approximation may be incorrect”\n",
      "Warning message in chisq.test(table(tmp$mycancer, tmp$myHLA)):\n",
      "“Chi-squared approximation may be incorrect”\n",
      "Warning message in chisq.test(table(tmp$mycancer, tmp$myHLA)):\n",
      "“Chi-squared approximation may be incorrect”\n",
      "pedLGGB*15:01\n",
      "\n",
      "MBB*15:01\n",
      "\n",
      "Warning message in chisq.test(table(tmp$mycancer, tmp$myHLA)):\n",
      "“Chi-squared approximation may be incorrect”\n",
      "Warning message in chisq.test(table(tmp$mycancer, tmp$myHLA)):\n",
      "“Chi-squared approximation may be incorrect”\n",
      "Warning message in chisq.test(table(tmp$mycancer, tmp$myHLA)):\n",
      "“Chi-squared approximation may be incorrect”\n",
      "Warning message in chisq.test(table(tmp$mycancer, tmp$myHLA)):\n",
      "“Chi-squared approximation may be incorrect”\n",
      "Warning message in chisq.test(table(tmp$mycancer, tmp$myHLA)):\n",
      "“Chi-squared approximation may be incorrect”\n",
      "Warning message in chisq.test(table(tmp$mycancer, tmp$myHLA)):\n",
      "“Chi-squared approximation may be incorrect”\n",
      "NFBB*44:03\n",
      "\n",
      "Warning message in chisq.test(table(tmp$mycancer, tmp$myHLA)):\n",
      "“Chi-squared approximation may be incorrect”\n",
      "Warning message in chisq.test(table(tmp$mycancer, tmp$myHLA)):\n",
      "“Chi-squared approximation may be incorrect”\n",
      "Warning message in chisq.test(table(tmp$mycancer, tmp$myHLA)):\n",
      "“Chi-squared approximation may be incorrect”\n",
      "Warning message in chisq.test(table(tmp$mycancer, tmp$myHLA)):\n",
      "“Chi-squared approximation may be incorrect”\n",
      "Warning message in chisq.test(table(tmp$mycancer, tmp$myHLA)):\n",
      "“Chi-squared approximation may be incorrect”\n",
      "Warning message in chisq.test(table(tmp$mycancer, tmp$myHLA)):\n",
      "“Chi-squared approximation may be incorrect”\n",
      "Warning message in chisq.test(table(tmp$mycancer, tmp$myHLA)):\n",
      "“Chi-squared approximation may be incorrect”\n",
      "Warning message in chisq.test(table(tmp$mycancer, tmp$myHLA)):\n",
      "“Chi-squared approximation may be incorrect”\n",
      "EPNB*13:02\n",
      "\n",
      "Warning message in chisq.test(table(tmp$mycancer, tmp$myHLA)):\n",
      "“Chi-squared approximation may be incorrect”\n",
      "Warning message in chisq.test(table(tmp$mycancer, tmp$myHLA)):\n",
      "“Chi-squared approximation may be incorrect”\n",
      "Warning message in chisq.test(table(tmp$mycancer, tmp$myHLA)):\n",
      "“Chi-squared approximation may be incorrect”\n",
      "Warning message in chisq.test(table(tmp$mycancer, tmp$myHLA)):\n",
      "“Chi-squared approximation may be incorrect”\n",
      "Warning message in chisq.test(table(tmp$mycancer, tmp$myHLA)):\n",
      "“Chi-squared approximation may be incorrect”\n",
      "Warning message in chisq.test(table(tmp$mycancer, tmp$myHLA)):\n",
      "“Chi-squared approximation may be incorrect”\n",
      "Warning message in chisq.test(table(tmp$mycancer, tmp$myHLA)):\n",
      "“Chi-squared approximation may be incorrect”\n",
      "Warning message in chisq.test(table(tmp$mycancer, tmp$myHLA)):\n",
      "“Chi-squared approximation may be incorrect”\n",
      "Warning message in chisq.test(table(tmp$mycancer, tmp$myHLA)):\n",
      "“Chi-squared approximation may be incorrect”\n",
      "Warning message in chisq.test(table(tmp$mycancer, tmp$myHLA)):\n",
      "“Chi-squared approximation may be incorrect”\n",
      "Warning message in chisq.test(table(tmp$mycancer, tmp$myHLA)):\n",
      "“Chi-squared approximation may be incorrect”\n",
      "Warning message in chisq.test(table(tmp$mycancer, tmp$myHLA)):\n",
      "“Chi-squared approximation may be incorrect”\n",
      "Warning message in chisq.test(table(tmp$mycancer, tmp$myHLA)):\n",
      "“Chi-squared approximation may be incorrect”\n",
      "Warning message in chisq.test(table(tmp$mycancer, tmp$myHLA)):\n",
      "“Chi-squared approximation may be incorrect”\n",
      "Warning message in chisq.test(table(tmp$mycancer, tmp$myHLA)):\n",
      "“Chi-squared approximation may be incorrect”\n",
      "Warning message in chisq.test(table(tmp$mycancer, tmp$myHLA)):\n",
      "“Chi-squared approximation may be incorrect”\n",
      "Warning message in chisq.test(table(tmp$mycancer, tmp$myHLA)):\n",
      "“Chi-squared approximation may be incorrect”\n",
      "Warning message in chisq.test(table(tmp$mycancer, tmp$myHLA)):\n",
      "“Chi-squared approximation may be incorrect”\n",
      "Warning message in chisq.test(table(tmp$mycancer, tmp$myHLA)):\n",
      "“Chi-squared approximation may be incorrect”\n",
      "Warning message in chisq.test(table(tmp$mycancer, tmp$myHLA)):\n",
      "“Chi-squared approximation may be incorrect”\n"
     ]
    },
    {
     "name": "stderr",
     "output_type": "stream",
     "text": [
      "Warning message in chisq.test(table(tmp$mycancer, tmp$myHLA)):\n",
      "“Chi-squared approximation may be incorrect”\n",
      "Warning message in chisq.test(table(tmp$mycancer, tmp$myHLA)):\n",
      "“Chi-squared approximation may be incorrect”\n",
      "Warning message in chisq.test(table(tmp$mycancer, tmp$myHLA)):\n",
      "“Chi-squared approximation may be incorrect”\n",
      "Warning message in chisq.test(table(tmp$mycancer, tmp$myHLA)):\n",
      "“Chi-squared approximation may be incorrect”\n",
      "Warning message in chisq.test(table(tmp$mycancer, tmp$myHLA)):\n",
      "“Chi-squared approximation may be incorrect”\n",
      "Warning message in chisq.test(table(tmp$mycancer, tmp$myHLA)):\n",
      "“Chi-squared approximation may be incorrect”\n",
      "Warning message in chisq.test(table(tmp$mycancer, tmp$myHLA)):\n",
      "“Chi-squared approximation may be incorrect”\n",
      "Warning message in chisq.test(table(tmp$mycancer, tmp$myHLA)):\n",
      "“Chi-squared approximation may be incorrect”\n",
      "Warning message in chisq.test(table(tmp$mycancer, tmp$myHLA)):\n",
      "“Chi-squared approximation may be incorrect”\n",
      "Warning message in chisq.test(table(tmp$mycancer, tmp$myHLA)):\n",
      "“Chi-squared approximation may be incorrect”\n",
      "ATRTB*57:01\n",
      "\n",
      "Warning message in chisq.test(table(tmp$mycancer, tmp$myHLA)):\n",
      "“Chi-squared approximation may be incorrect”\n",
      "Warning message in chisq.test(table(tmp$mycancer, tmp$myHLA)):\n",
      "“Chi-squared approximation may be incorrect”\n",
      "Warning message in chisq.test(table(tmp$mycancer, tmp$myHLA)):\n",
      "“Chi-squared approximation may be incorrect”\n",
      "Warning message in chisq.test(table(tmp$mycancer, tmp$myHLA)):\n",
      "“Chi-squared approximation may be incorrect”\n",
      "Warning message in chisq.test(table(tmp$mycancer, tmp$myHLA)):\n",
      "“Chi-squared approximation may be incorrect”\n",
      "Warning message in chisq.test(table(tmp$mycancer, tmp$myHLA)):\n",
      "“Chi-squared approximation may be incorrect”\n",
      "Warning message in chisq.test(table(tmp$mycancer, tmp$myHLA)):\n",
      "“Chi-squared approximation may be incorrect”\n",
      "Warning message in chisq.test(table(tmp$mycancer, tmp$myHLA)):\n",
      "“Chi-squared approximation may be incorrect”\n",
      "Warning message in chisq.test(table(tmp$mycancer, tmp$myHLA)):\n",
      "“Chi-squared approximation may be incorrect”\n",
      "Warning message in chisq.test(table(tmp$mycancer, tmp$myHLA)):\n",
      "“Chi-squared approximation may be incorrect”\n",
      "Warning message in chisq.test(table(tmp$mycancer, tmp$myHLA)):\n",
      "“Chi-squared approximation may be incorrect”\n",
      "Warning message in chisq.test(table(tmp$mycancer, tmp$myHLA)):\n",
      "“Chi-squared approximation may be incorrect”\n",
      "Warning message in chisq.test(table(tmp$mycancer, tmp$myHLA)):\n",
      "“Chi-squared approximation may be incorrect”\n",
      "MBB*52:01\n",
      "\n",
      "Warning message in chisq.test(table(tmp$mycancer, tmp$myHLA)):\n",
      "“Chi-squared approximation may be incorrect”\n",
      "Warning message in chisq.test(table(tmp$mycancer, tmp$myHLA)):\n",
      "“Chi-squared approximation may be incorrect”\n",
      "Warning message in chisq.test(table(tmp$mycancer, tmp$myHLA)):\n",
      "“Chi-squared approximation may be incorrect”\n",
      "Warning message in chisq.test(table(tmp$mycancer, tmp$myHLA)):\n",
      "“Chi-squared approximation may be incorrect”\n",
      "Warning message in chisq.test(table(tmp$mycancer, tmp$myHLA)):\n",
      "“Chi-squared approximation may be incorrect”\n",
      "Warning message in chisq.test(table(tmp$mycancer, tmp$myHLA)):\n",
      "“Chi-squared approximation may be incorrect”\n",
      "Warning message in chisq.test(table(tmp$mycancer, tmp$myHLA)):\n",
      "“Chi-squared approximation may be incorrect”\n",
      "Warning message in chisq.test(table(tmp$mycancer, tmp$myHLA)):\n",
      "“Chi-squared approximation may be incorrect”\n",
      "Warning message in chisq.test(table(tmp$mycancer, tmp$myHLA)):\n",
      "“Chi-squared approximation may be incorrect”\n",
      "Warning message in chisq.test(table(tmp$mycancer, tmp$myHLA)):\n",
      "“Chi-squared approximation may be incorrect”\n",
      "Warning message in chisq.test(table(tmp$mycancer, tmp$myHLA)):\n",
      "“Chi-squared approximation may be incorrect”\n",
      "Warning message in chisq.test(table(tmp$mycancer, tmp$myHLA)):\n",
      "“Chi-squared approximation may be incorrect”\n",
      "Warning message in chisq.test(table(tmp$mycancer, tmp$myHLA)):\n",
      "“Chi-squared approximation may be incorrect”\n",
      "Warning message in chisq.test(table(tmp$mycancer, tmp$myHLA)):\n",
      "“Chi-squared approximation may be incorrect”\n",
      "Warning message in chisq.test(table(tmp$mycancer, tmp$myHLA)):\n",
      "“Chi-squared approximation may be incorrect”\n",
      "Warning message in chisq.test(table(tmp$mycancer, tmp$myHLA)):\n",
      "“Chi-squared approximation may be incorrect”\n",
      "Warning message in chisq.test(table(tmp$mycancer, tmp$myHLA)):\n",
      "“Chi-squared approximation may be incorrect”\n",
      "Warning message in chisq.test(table(tmp$mycancer, tmp$myHLA)):\n",
      "“Chi-squared approximation may be incorrect”\n",
      "Warning message in chisq.test(table(tmp$mycancer, tmp$myHLA)):\n",
      "“Chi-squared approximation may be incorrect”\n",
      "Warning message in chisq.test(table(tmp$mycancer, tmp$myHLA)):\n",
      "“Chi-squared approximation may be incorrect”\n",
      "Warning message in chisq.test(table(tmp$mycancer, tmp$myHLA)):\n",
      "“Chi-squared approximation may be incorrect”\n",
      "Warning message in chisq.test(table(tmp$mycancer, tmp$myHLA)):\n",
      "“Chi-squared approximation may be incorrect”\n",
      "Warning message in chisq.test(table(tmp$mycancer, tmp$myHLA)):\n",
      "“Chi-squared approximation may be incorrect”\n",
      "Warning message in chisq.test(table(tmp$mycancer, tmp$myHLA)):\n",
      "“Chi-squared approximation may be incorrect”\n",
      "Warning message in chisq.test(table(tmp$mycancer, tmp$myHLA)):\n",
      "“Chi-squared approximation may be incorrect”\n"
     ]
    }
   ],
   "source": [
    "for(hla in common_hlas){\n",
    "\n",
    "    tmp <- metadata_IC_HLA\n",
    "    tmp$myHLA <- NA\n",
    "    tmp$myHLA[ tmp[[\"B1\"]] == hla] <- 1\n",
    "    tmp$myHLA[ tmp[[\"B2\"]] == hla] <- 1\n",
    "    tmp$myHLA[ is.na(tmp$myHLA)] <- 0\n",
    "     \n",
    "    for(c in unique(tmp$cohort)){\n",
    "\n",
    "        tmp$mycancer <- NA\n",
    "        tmp$mycancer[ tmp$cohort == c] <- 1\n",
    "        tmp$mycancer[ is.na(tmp$mycancer)] <- 0      \n",
    "        if(chisq.test(table(tmp$mycancer, tmp$myHLA))$p.value < 0.05)\n",
    "            message(c(c,hla))\n",
    "    }\n",
    "    }"
   ]
  },
  {
   "cell_type": "markdown",
   "metadata": {},
   "source": [
    "# HLA vs mutations"
   ]
  },
  {
   "cell_type": "code",
   "execution_count": 8,
   "metadata": {},
   "outputs": [],
   "source": [
    "load(file = file.path(datapath,\"TME_clusters/IPD_estimate_metadata_IC.RData\"))"
   ]
  },
  {
   "cell_type": "code",
   "execution_count": 9,
   "metadata": {},
   "outputs": [],
   "source": [
    "load(file = paste0(datapath, \"HLA/all.hla.RData\"))"
   ]
  },
  {
   "cell_type": "code",
   "execution_count": 10,
   "metadata": {},
   "outputs": [
    {
     "data": {
      "text/html": [
       "<style>\n",
       ".list-inline {list-style: none; margin:0; padding: 0}\n",
       ".list-inline>li {display: inline-block}\n",
       ".list-inline>li:not(:last-child)::after {content: \"\\00b7\"; padding: 0 .5ex}\n",
       "</style>\n",
       "<ol class=list-inline><li>1405</li><li>9</li></ol>\n"
      ],
      "text/latex": [
       "\\begin{enumerate*}\n",
       "\\item 1405\n",
       "\\item 9\n",
       "\\end{enumerate*}\n"
      ],
      "text/markdown": [
       "1. 1405\n",
       "2. 9\n",
       "\n",
       "\n"
      ],
      "text/plain": [
       "[1] 1405    9"
      ]
     },
     "metadata": {},
     "output_type": "display_data"
    }
   ],
   "source": [
    "dim(all.hla)"
   ]
  },
  {
   "cell_type": "code",
   "execution_count": 11,
   "metadata": {},
   "outputs": [],
   "source": [
    "metadata_IC_HLA <- merge(metadata_IC, all.hla, by = \"sample_id\")"
   ]
  },
  {
   "cell_type": "code",
   "execution_count": 29,
   "metadata": {},
   "outputs": [],
   "source": [
    "load(file = paste0(datapath,\"snv/total_mut_manifest_estimate.RData\"))"
   ]
  },
  {
   "cell_type": "code",
   "execution_count": 30,
   "metadata": {},
   "outputs": [],
   "source": [
    "ped_tmb <- total_mut_manifest_estimate[ total_mut_manifest_estimate$group != \"TCGA\",]"
   ]
  },
  {
   "cell_type": "code",
   "execution_count": 31,
   "metadata": {},
   "outputs": [],
   "source": [
    "ped_tmb_IC <- merge(ped_tmb, metadata_IC[,c(\"sample_id\", \"immune_cluster\")], by = \"sample_id\")"
   ]
  },
  {
   "cell_type": "markdown",
   "metadata": {},
   "source": [
    "## Get nonsyn variants"
   ]
  },
  {
   "cell_type": "markdown",
   "metadata": {},
   "source": [
    "### CBTTC"
   ]
  },
  {
   "cell_type": "code",
   "execution_count": 32,
   "metadata": {},
   "outputs": [],
   "source": [
    "CBTTC_mafsummary <- read.table(file = paste0(datapath, \"snv/CBTTC_mafsummary_overlapped_3VAF.txt\"),\n",
    "                        sep = \"\\t\", check.names = F,\n",
    "                        header = TRUE, stringsAsFactors = FALSE)"
   ]
  },
  {
   "cell_type": "code",
   "execution_count": 33,
   "metadata": {},
   "outputs": [
    {
     "data": {
      "text/html": [
       "<style>\n",
       ".list-inline {list-style: none; margin:0; padding: 0}\n",
       ".list-inline>li {display: inline-block}\n",
       ".list-inline>li:not(:last-child)::after {content: \"\\00b7\"; padding: 0 .5ex}\n",
       "</style>\n",
       "<ol class=list-inline><li>796</li><li>10</li></ol>\n"
      ],
      "text/latex": [
       "\\begin{enumerate*}\n",
       "\\item 796\n",
       "\\item 10\n",
       "\\end{enumerate*}\n"
      ],
      "text/markdown": [
       "1. 796\n",
       "2. 10\n",
       "\n",
       "\n"
      ],
      "text/plain": [
       "[1] 796  10"
      ]
     },
     "metadata": {},
     "output_type": "display_data"
    }
   ],
   "source": [
    "dim(CBTTC_mafsummary)"
   ]
  },
  {
   "cell_type": "code",
   "execution_count": 34,
   "metadata": {},
   "outputs": [],
   "source": [
    "library(maftools)"
   ]
  },
  {
   "cell_type": "code",
   "execution_count": 35,
   "metadata": {},
   "outputs": [],
   "source": [
    "mymaf_CBTTC <- read.maf(maf =  paste0(datapath, \"snv/CBTTC_maf_overlapped_3VAF.maf\"),\n",
    "                      useAll = TRUE, verbose = FALSE,\n",
    "                      vc_nonSyn = c(\"Frame_Shift_Del\", \"Frame_Shift_Ins\", \n",
    "                                    \"Nonsense_Mutation\",\"Nonstop_Mutation\", \n",
    "                                    \"In_Frame_Del\",\"In_Frame_Ins\", \n",
    "                                    \"Missense_Mutation\"))"
   ]
  },
  {
   "cell_type": "code",
   "execution_count": 36,
   "metadata": {},
   "outputs": [
    {
     "data": {
      "text/html": [
       "<table class=\"dataframe\">\n",
       "<caption>A data.table: 12 × 4</caption>\n",
       "<thead>\n",
       "\t<tr><th scope=col>ID</th><th scope=col>summary</th><th scope=col>Mean</th><th scope=col>Median</th></tr>\n",
       "\t<tr><th scope=col>&lt;chr&gt;</th><th scope=col>&lt;chr&gt;</th><th scope=col>&lt;dbl&gt;</th><th scope=col>&lt;dbl&gt;</th></tr>\n",
       "</thead>\n",
       "<tbody>\n",
       "\t<tr><td>NCBI_Build       </td><td>GRCh38 </td><td>    NA</td><td>NA</td></tr>\n",
       "\t<tr><td>Center           </td><td>Mutect2</td><td>    NA</td><td>NA</td></tr>\n",
       "\t<tr><td>Samples          </td><td>842    </td><td>    NA</td><td>NA</td></tr>\n",
       "\t<tr><td>nGenes           </td><td>13511  </td><td>    NA</td><td>NA</td></tr>\n",
       "\t<tr><td>Frame_Shift_Del  </td><td>845    </td><td> 1.004</td><td> 0</td></tr>\n",
       "\t<tr><td>Frame_Shift_Ins  </td><td>769    </td><td> 0.913</td><td> 0</td></tr>\n",
       "\t<tr><td>In_Frame_Del     </td><td>160    </td><td> 0.190</td><td> 0</td></tr>\n",
       "\t<tr><td>In_Frame_Ins     </td><td>30     </td><td> 0.036</td><td> 0</td></tr>\n",
       "\t<tr><td>Missense_Mutation</td><td>50771  </td><td>60.298</td><td> 4</td></tr>\n",
       "\t<tr><td>Nonsense_Mutation</td><td>2840   </td><td> 3.373</td><td> 0</td></tr>\n",
       "\t<tr><td>Nonstop_Mutation </td><td>25     </td><td> 0.030</td><td> 0</td></tr>\n",
       "\t<tr><td>total            </td><td>55440  </td><td>65.843</td><td> 5</td></tr>\n",
       "</tbody>\n",
       "</table>\n"
      ],
      "text/latex": [
       "A data.table: 12 × 4\n",
       "\\begin{tabular}{llll}\n",
       " ID & summary & Mean & Median\\\\\n",
       " <chr> & <chr> & <dbl> & <dbl>\\\\\n",
       "\\hline\n",
       "\t NCBI\\_Build        & GRCh38  &     NA & NA\\\\\n",
       "\t Center            & Mutect2 &     NA & NA\\\\\n",
       "\t Samples           & 842     &     NA & NA\\\\\n",
       "\t nGenes            & 13511   &     NA & NA\\\\\n",
       "\t Frame\\_Shift\\_Del   & 845     &  1.004 &  0\\\\\n",
       "\t Frame\\_Shift\\_Ins   & 769     &  0.913 &  0\\\\\n",
       "\t In\\_Frame\\_Del      & 160     &  0.190 &  0\\\\\n",
       "\t In\\_Frame\\_Ins      & 30      &  0.036 &  0\\\\\n",
       "\t Missense\\_Mutation & 50771   & 60.298 &  4\\\\\n",
       "\t Nonsense\\_Mutation & 2840    &  3.373 &  0\\\\\n",
       "\t Nonstop\\_Mutation  & 25      &  0.030 &  0\\\\\n",
       "\t total             & 55440   & 65.843 &  5\\\\\n",
       "\\end{tabular}\n"
      ],
      "text/markdown": [
       "\n",
       "A data.table: 12 × 4\n",
       "\n",
       "| ID &lt;chr&gt; | summary &lt;chr&gt; | Mean &lt;dbl&gt; | Median &lt;dbl&gt; |\n",
       "|---|---|---|---|\n",
       "| NCBI_Build        | GRCh38  |     NA | NA |\n",
       "| Center            | Mutect2 |     NA | NA |\n",
       "| Samples           | 842     |     NA | NA |\n",
       "| nGenes            | 13511   |     NA | NA |\n",
       "| Frame_Shift_Del   | 845     |  1.004 |  0 |\n",
       "| Frame_Shift_Ins   | 769     |  0.913 |  0 |\n",
       "| In_Frame_Del      | 160     |  0.190 |  0 |\n",
       "| In_Frame_Ins      | 30      |  0.036 |  0 |\n",
       "| Missense_Mutation | 50771   | 60.298 |  4 |\n",
       "| Nonsense_Mutation | 2840    |  3.373 |  0 |\n",
       "| Nonstop_Mutation  | 25      |  0.030 |  0 |\n",
       "| total             | 55440   | 65.843 |  5 |\n",
       "\n"
      ],
      "text/plain": [
       "   ID                summary Mean   Median\n",
       "1  NCBI_Build        GRCh38      NA NA    \n",
       "2  Center            Mutect2     NA NA    \n",
       "3  Samples           842         NA NA    \n",
       "4  nGenes            13511       NA NA    \n",
       "5  Frame_Shift_Del   845      1.004  0    \n",
       "6  Frame_Shift_Ins   769      0.913  0    \n",
       "7  In_Frame_Del      160      0.190  0    \n",
       "8  In_Frame_Ins      30       0.036  0    \n",
       "9  Missense_Mutation 50771   60.298  4    \n",
       "10 Nonsense_Mutation 2840     3.373  0    \n",
       "11 Nonstop_Mutation  25       0.030  0    \n",
       "12 total             55440   65.843  5    "
      ]
     },
     "metadata": {},
     "output_type": "display_data"
    }
   ],
   "source": [
    "mymaf_CBTTC@summary"
   ]
  },
  {
   "cell_type": "code",
   "execution_count": 37,
   "metadata": {},
   "outputs": [],
   "source": [
    "CBTTC_data_maf <- mymaf_CBTTC@data"
   ]
  },
  {
   "cell_type": "markdown",
   "metadata": {},
   "source": [
    "calculate tumour VAF"
   ]
  },
  {
   "cell_type": "code",
   "execution_count": 38,
   "metadata": {},
   "outputs": [],
   "source": [
    "CBTTC_data_maf$t_VAF <- CBTTC_data_maf$t_alt_count / CBTTC_data_maf$t_depth"
   ]
  },
  {
   "cell_type": "code",
   "execution_count": 39,
   "metadata": {},
   "outputs": [
    {
     "data": {
      "text/plain": [
       "   Min. 1st Qu.  Median    Mean 3rd Qu.    Max. \n",
       "0.03125 0.23913 0.32468 0.31363 0.39216 1.00000 "
      ]
     },
     "metadata": {},
     "output_type": "display_data"
    }
   ],
   "source": [
    "summary(CBTTC_data_maf$t_VAF)"
   ]
  },
  {
   "cell_type": "code",
   "execution_count": 40,
   "metadata": {},
   "outputs": [],
   "source": [
    "CBTTC_data_maf$Tumor_Sample_Barcode <- as.character(CBTTC_data_maf$Tumor_Sample_Barcode)"
   ]
  },
  {
   "cell_type": "code",
   "execution_count": 41,
   "metadata": {},
   "outputs": [
    {
     "data": {
      "text/plain": [
       "\n",
       "  Frame_Shift_Del   Frame_Shift_Ins      In_Frame_Del      In_Frame_Ins \n",
       "              845               769               160                30 \n",
       "Missense_Mutation Nonsense_Mutation  Nonstop_Mutation \n",
       "            50771              2840                25 "
      ]
     },
     "metadata": {},
     "output_type": "display_data"
    }
   ],
   "source": [
    "table(CBTTC_data_maf$Variant_Classification)"
   ]
  },
  {
   "cell_type": "code",
   "execution_count": 42,
   "metadata": {},
   "outputs": [],
   "source": [
    "CBTTC_data_maf_sampleid <- merge(CBTTC_mafsummary[,c(\"sample_id\", \"Tumor_Sample_Barcode\")], \n",
    "                                 CBTTC_data_maf, by = \"Tumor_Sample_Barcode\")"
   ]
  },
  {
   "cell_type": "code",
   "execution_count": 43,
   "metadata": {},
   "outputs": [
    {
     "data": {
      "text/html": [
       "796"
      ],
      "text/latex": [
       "796"
      ],
      "text/markdown": [
       "796"
      ],
      "text/plain": [
       "[1] 796"
      ]
     },
     "metadata": {},
     "output_type": "display_data"
    }
   ],
   "source": [
    "length(unique(CBTTC_data_maf_sampleid$Tumor_Sample_Barcode))"
   ]
  },
  {
   "cell_type": "markdown",
   "metadata": {},
   "source": [
    "Subset  snv dfs to include only samples in estimate df"
   ]
  },
  {
   "cell_type": "code",
   "execution_count": 44,
   "metadata": {},
   "outputs": [],
   "source": [
    "CBTTC_data_maf <- CBTTC_data_maf_sampleid[CBTTC_data_maf_sampleid$sample_id %in% ped_tmb_IC$sample_id,]"
   ]
  },
  {
   "cell_type": "code",
   "execution_count": 45,
   "metadata": {},
   "outputs": [
    {
     "data": {
      "text/html": [
       "470"
      ],
      "text/latex": [
       "470"
      ],
      "text/markdown": [
       "470"
      ],
      "text/plain": [
       "[1] 470"
      ]
     },
     "metadata": {},
     "output_type": "display_data"
    }
   ],
   "source": [
    "length(unique(CBTTC_data_maf$Tumor_Sample_Barcode))"
   ]
  },
  {
   "cell_type": "code",
   "execution_count": 46,
   "metadata": {},
   "outputs": [],
   "source": [
    "CBTTC_data_maf_kb <- CBTTC_data_maf[grepl(\"oncogenic\", CBTTC_data_maf$oncogenic,ignore.case = T),]"
   ]
  },
  {
   "cell_type": "markdown",
   "metadata": {},
   "source": [
    "### DKFZ"
   ]
  },
  {
   "cell_type": "code",
   "execution_count": 47,
   "metadata": {},
   "outputs": [],
   "source": [
    "DKFZ_maf <- read.table(file = paste0(datapath, \"snv/dkfz_mafKB.maf\"),\n",
    "                        sep = \"\\t\", check.names = F,\n",
    "                        header = TRUE, comment.char = \"\",stringsAsFactors = FALSE)"
   ]
  },
  {
   "cell_type": "code",
   "execution_count": 48,
   "metadata": {},
   "outputs": [
    {
     "data": {
      "text/plain": [
       "\n",
       "    frameshift deletion    frameshift insertion  nonframeshift deletion \n",
       "                    600                     330                     150 \n",
       "nonframeshift insertion       nonsynonymous SNV                splicing \n",
       "                     42                   18871                      59 \n",
       "               stopgain            stopgain SNV            stoploss SNV \n",
       "                     16                    1222                       4 \n",
       "         synonymous SNV \n",
       "                    424 "
      ]
     },
     "metadata": {},
     "output_type": "display_data"
    }
   ],
   "source": [
    "table(DKFZ_maf$variant_classification)"
   ]
  },
  {
   "cell_type": "code",
   "execution_count": 49,
   "metadata": {},
   "outputs": [],
   "source": [
    "DKFZ_maf_nsyn <- DKFZ_maf[!DKFZ_maf$variant_classification %in% c(\"splicing\", \"unknown\", \"synonymous SNV\"),]"
   ]
  },
  {
   "cell_type": "code",
   "execution_count": 50,
   "metadata": {},
   "outputs": [],
   "source": [
    "colnames(DKFZ_maf_nsyn)[colnames(DKFZ_maf_nsyn) == \"Tumor_Sample_Barcode\"] <- \"sample_id\""
   ]
  },
  {
   "cell_type": "code",
   "execution_count": 51,
   "metadata": {},
   "outputs": [
    {
     "data": {
      "text/html": [
       "<style>\n",
       ".list-inline {list-style: none; margin:0; padding: 0}\n",
       ".list-inline>li {display: inline-block}\n",
       ".list-inline>li:not(:last-child)::after {content: \"\\00b7\"; padding: 0 .5ex}\n",
       "</style>\n",
       "<ol class=list-inline><li>21718</li><li>17</li></ol>\n"
      ],
      "text/latex": [
       "\\begin{enumerate*}\n",
       "\\item 21718\n",
       "\\item 17\n",
       "\\end{enumerate*}\n"
      ],
      "text/markdown": [
       "1. 21718\n",
       "2. 17\n",
       "\n",
       "\n"
      ],
      "text/plain": [
       "[1] 21718    17"
      ]
     },
     "metadata": {},
     "output_type": "display_data"
    },
    {
     "data": {
      "text/html": [
       "<style>\n",
       ".list-inline {list-style: none; margin:0; padding: 0}\n",
       ".list-inline>li {display: inline-block}\n",
       ".list-inline>li:not(:last-child)::after {content: \"\\00b7\"; padding: 0 .5ex}\n",
       "</style>\n",
       "<ol class=list-inline><li>21235</li><li>17</li></ol>\n"
      ],
      "text/latex": [
       "\\begin{enumerate*}\n",
       "\\item 21235\n",
       "\\item 17\n",
       "\\end{enumerate*}\n"
      ],
      "text/markdown": [
       "1. 21235\n",
       "2. 17\n",
       "\n",
       "\n"
      ],
      "text/plain": [
       "[1] 21235    17"
      ]
     },
     "metadata": {},
     "output_type": "display_data"
    }
   ],
   "source": [
    "dim(DKFZ_maf)\n",
    "dim(DKFZ_maf_nsyn)"
   ]
  },
  {
   "cell_type": "code",
   "execution_count": 52,
   "metadata": {},
   "outputs": [],
   "source": [
    "colnames(DKFZ_maf)[colnames(DKFZ_maf) == \"Tumor_Sample_Barcode\"] <- \"sample_id\""
   ]
  },
  {
   "cell_type": "code",
   "execution_count": 53,
   "metadata": {},
   "outputs": [],
   "source": [
    "DKFZ_maf_kb <- DKFZ_maf[grepl(\"oncogenic\", DKFZ_maf$oncogenic, ignore.case = T),]"
   ]
  },
  {
   "cell_type": "code",
   "execution_count": 54,
   "metadata": {},
   "outputs": [
    {
     "data": {
      "text/html": [
       "<style>\n",
       ".list-inline {list-style: none; margin:0; padding: 0}\n",
       ".list-inline>li {display: inline-block}\n",
       ".list-inline>li:not(:last-child)::after {content: \"\\00b7\"; padding: 0 .5ex}\n",
       "</style>\n",
       "<ol class=list-inline><li>21718</li><li>17</li></ol>\n"
      ],
      "text/latex": [
       "\\begin{enumerate*}\n",
       "\\item 21718\n",
       "\\item 17\n",
       "\\end{enumerate*}\n"
      ],
      "text/markdown": [
       "1. 21718\n",
       "2. 17\n",
       "\n",
       "\n"
      ],
      "text/plain": [
       "[1] 21718    17"
      ]
     },
     "metadata": {},
     "output_type": "display_data"
    },
    {
     "data": {
      "text/html": [
       "<style>\n",
       ".list-inline {list-style: none; margin:0; padding: 0}\n",
       ".list-inline>li {display: inline-block}\n",
       ".list-inline>li:not(:last-child)::after {content: \"\\00b7\"; padding: 0 .5ex}\n",
       "</style>\n",
       "<ol class=list-inline><li>481</li><li>17</li></ol>\n"
      ],
      "text/latex": [
       "\\begin{enumerate*}\n",
       "\\item 481\n",
       "\\item 17\n",
       "\\end{enumerate*}\n"
      ],
      "text/markdown": [
       "1. 481\n",
       "2. 17\n",
       "\n",
       "\n"
      ],
      "text/plain": [
       "[1] 481  17"
      ]
     },
     "metadata": {},
     "output_type": "display_data"
    }
   ],
   "source": [
    "dim(DKFZ_maf)\n",
    "dim(DKFZ_maf_kb)"
   ]
  },
  {
   "cell_type": "markdown",
   "metadata": {},
   "source": [
    "### TARGET"
   ]
  },
  {
   "cell_type": "code",
   "execution_count": 55,
   "metadata": {},
   "outputs": [],
   "source": [
    "mymaf_gdc <- read.maf(maf =  paste0(datapath, \"snv/GDC_allmaf_3VAF_fl_dedup_sampleid_KB.maf\"),\n",
    "                      useAll = TRUE, verbose = FALSE,\n",
    "                      vc_nonSyn = c(\"Frame_Shift_Del\", \"Frame_Shift_Ins\", \n",
    "                                    \"Nonsense_Mutation\",\"Nonstop_Mutation\", \n",
    "                                    \"In_Frame_Del\",\"In_Frame_Ins\", \n",
    "                                    \"Missense_Mutation\"))"
   ]
  },
  {
   "cell_type": "code",
   "execution_count": 56,
   "metadata": {},
   "outputs": [],
   "source": [
    "mymaf_gdc_data<- mymaf_gdc@data"
   ]
  },
  {
   "cell_type": "code",
   "execution_count": 57,
   "metadata": {},
   "outputs": [
    {
     "data": {
      "text/html": [
       "2749"
      ],
      "text/latex": [
       "2749"
      ],
      "text/markdown": [
       "2749"
      ],
      "text/plain": [
       "[1] 2749"
      ]
     },
     "metadata": {},
     "output_type": "display_data"
    }
   ],
   "source": [
    "length(unique(mymaf_gdc_data$Tumor_Sample_Barcode))"
   ]
  },
  {
   "cell_type": "code",
   "execution_count": 58,
   "metadata": {},
   "outputs": [],
   "source": [
    "mymaf_gdc_data$Tumor_Sample_Barcode <- as.character(mymaf_gdc_data$Tumor_Sample_Barcode)"
   ]
  },
  {
   "cell_type": "code",
   "execution_count": 59,
   "metadata": {},
   "outputs": [
    {
     "data": {
      "text/plain": [
       "\n",
       "  Frame_Shift_Del   Frame_Shift_Ins      In_Frame_Del      In_Frame_Ins \n",
       "            17243             10161              1306              1752 \n",
       "Missense_Mutation Nonsense_Mutation  Nonstop_Mutation \n",
       "           288342             21973               264 "
      ]
     },
     "metadata": {},
     "output_type": "display_data"
    }
   ],
   "source": [
    "table(mymaf_gdc_data$Variant_Classification)"
   ]
  },
  {
   "cell_type": "markdown",
   "metadata": {},
   "source": [
    "subset to TARGET data and match with total_mut_manifest_estimate_quanti"
   ]
  },
  {
   "cell_type": "code",
   "execution_count": 60,
   "metadata": {},
   "outputs": [],
   "source": [
    "mymaf_target_data <- mymaf_gdc_data[grepl(\"TARGET\", mymaf_gdc_data$Tumor_Sample_Barcode),]"
   ]
  },
  {
   "cell_type": "code",
   "execution_count": 61,
   "metadata": {},
   "outputs": [
    {
     "data": {
      "text/html": [
       "131"
      ],
      "text/latex": [
       "131"
      ],
      "text/markdown": [
       "131"
      ],
      "text/plain": [
       "[1] 131"
      ]
     },
     "metadata": {},
     "output_type": "display_data"
    }
   ],
   "source": [
    "length(unique(mymaf_target_data$Tumor_Sample_Barcode))"
   ]
  },
  {
   "cell_type": "code",
   "execution_count": 62,
   "metadata": {},
   "outputs": [],
   "source": [
    "mymaf_target_data <- mymaf_target_data[mymaf_target_data$Tumor_Sample_Barcode %in% \n",
    "                                       ped_tmb_IC$sample_id,]"
   ]
  },
  {
   "cell_type": "code",
   "execution_count": 63,
   "metadata": {},
   "outputs": [],
   "source": [
    "colnames(mymaf_target_data)[colnames(mymaf_target_data) == \"Tumor_Sample_Barcode\"] <- \"sample_id\""
   ]
  },
  {
   "cell_type": "code",
   "execution_count": 64,
   "metadata": {},
   "outputs": [],
   "source": [
    "mymaf_target_data_kb <- mymaf_target_data[ grepl(\"oncogenic\", mymaf_target_data$oncogenic, ignore.case = T),]"
   ]
  },
  {
   "cell_type": "code",
   "execution_count": 65,
   "metadata": {},
   "outputs": [],
   "source": [
    "colnames(mymaf_target_data_kb)[colnames(mymaf_target_data_kb) == \"Tumor_Sample_Barcode\"] <- \"sample_id\""
   ]
  },
  {
   "cell_type": "code",
   "execution_count": 66,
   "metadata": {},
   "outputs": [
    {
     "data": {
      "text/html": [
       "<style>\n",
       ".list-inline {list-style: none; margin:0; padding: 0}\n",
       ".list-inline>li {display: inline-block}\n",
       ".list-inline>li:not(:last-child)::after {content: \"\\00b7\"; padding: 0 .5ex}\n",
       "</style>\n",
       "<ol class=list-inline><li>1888</li><li>156</li></ol>\n"
      ],
      "text/latex": [
       "\\begin{enumerate*}\n",
       "\\item 1888\n",
       "\\item 156\n",
       "\\end{enumerate*}\n"
      ],
      "text/markdown": [
       "1. 1888\n",
       "2. 156\n",
       "\n",
       "\n"
      ],
      "text/plain": [
       "[1] 1888  156"
      ]
     },
     "metadata": {},
     "output_type": "display_data"
    },
    {
     "data": {
      "text/html": [
       "<style>\n",
       ".list-inline {list-style: none; margin:0; padding: 0}\n",
       ".list-inline>li {display: inline-block}\n",
       ".list-inline>li:not(:last-child)::after {content: \"\\00b7\"; padding: 0 .5ex}\n",
       "</style>\n",
       "<ol class=list-inline><li>19</li><li>156</li></ol>\n"
      ],
      "text/latex": [
       "\\begin{enumerate*}\n",
       "\\item 19\n",
       "\\item 156\n",
       "\\end{enumerate*}\n"
      ],
      "text/markdown": [
       "1. 19\n",
       "2. 156\n",
       "\n",
       "\n"
      ],
      "text/plain": [
       "[1]  19 156"
      ]
     },
     "metadata": {},
     "output_type": "display_data"
    }
   ],
   "source": [
    "dim(mymaf_target_data)\n",
    "dim(mymaf_target_data_kb)"
   ]
  },
  {
   "cell_type": "code",
   "execution_count": 67,
   "metadata": {},
   "outputs": [
    {
     "data": {
      "text/html": [
       "<style>\n",
       ".list-inline {list-style: none; margin:0; padding: 0}\n",
       ".list-inline>li {display: inline-block}\n",
       ".list-inline>li:not(:last-child)::after {content: \"\\00b7\"; padding: 0 .5ex}\n",
       "</style>\n",
       "<ol class=list-inline><li>20087</li><li>163</li></ol>\n"
      ],
      "text/latex": [
       "\\begin{enumerate*}\n",
       "\\item 20087\n",
       "\\item 163\n",
       "\\end{enumerate*}\n"
      ],
      "text/markdown": [
       "1. 20087\n",
       "2. 163\n",
       "\n",
       "\n"
      ],
      "text/plain": [
       "[1] 20087   163"
      ]
     },
     "metadata": {},
     "output_type": "display_data"
    },
    {
     "data": {
      "text/html": [
       "<style>\n",
       ".list-inline {list-style: none; margin:0; padding: 0}\n",
       ".list-inline>li {display: inline-block}\n",
       ".list-inline>li:not(:last-child)::after {content: \"\\00b7\"; padding: 0 .5ex}\n",
       "</style>\n",
       "<ol class=list-inline><li>324</li><li>163</li></ol>\n"
      ],
      "text/latex": [
       "\\begin{enumerate*}\n",
       "\\item 324\n",
       "\\item 163\n",
       "\\end{enumerate*}\n"
      ],
      "text/markdown": [
       "1. 324\n",
       "2. 163\n",
       "\n",
       "\n"
      ],
      "text/plain": [
       "[1] 324 163"
      ]
     },
     "metadata": {},
     "output_type": "display_data"
    }
   ],
   "source": [
    "dim(CBTTC_data_maf)\n",
    "dim(CBTTC_data_maf_kb)"
   ]
  },
  {
   "cell_type": "markdown",
   "metadata": {},
   "source": [
    "## All nonsyn mutated genes"
   ]
  },
  {
   "cell_type": "code",
   "execution_count": 68,
   "metadata": {},
   "outputs": [],
   "source": [
    "dkfz_allmut <- as.data.frame(table(DKFZ_maf$Hugo_Symbol), stringsAsFactors = F)\n",
    "cbttc_allmut <- as.data.frame(table(CBTTC_data_maf$Hugo_Symbol), stringsAsFactors = F)\n",
    "target_allmut <- as.data.frame(table(mymaf_target_data$Hugo_Symbol), stringsAsFactors = F)"
   ]
  },
  {
   "cell_type": "code",
   "execution_count": 129,
   "metadata": {},
   "outputs": [],
   "source": [
    "mutated_genes_all <- c(dkfz_allmut$Var1,cbttc_allmut$Var1,target_allmut$Var1)"
   ]
  },
  {
   "cell_type": "code",
   "execution_count": 130,
   "metadata": {},
   "outputs": [],
   "source": [
    "allmutated_genes <- mutated_genes_all[!duplicated(mutated_genes_all)]"
   ]
  },
  {
   "cell_type": "code",
   "execution_count": 131,
   "metadata": {
    "scrolled": true
   },
   "outputs": [
    {
     "data": {
      "text/html": [
       "10540"
      ],
      "text/latex": [
       "10540"
      ],
      "text/markdown": [
       "10540"
      ],
      "text/plain": [
       "[1] 10540"
      ]
     },
     "metadata": {},
     "output_type": "display_data"
    }
   ],
   "source": [
    "length(allmutated_genes)"
   ]
  },
  {
   "cell_type": "markdown",
   "metadata": {},
   "source": [
    "create a hla x mutation matrix"
   ]
  },
  {
   "cell_type": "code",
   "execution_count": 132,
   "metadata": {},
   "outputs": [],
   "source": [
    "allHLAs <- c(metadata_IC_HLA$A1, metadata_IC_HLA$A2, metadata_IC_HLA$B1, \n",
    "             metadata_IC_HLA$B2, metadata_IC_HLA$C1, metadata_IC_HLA$C2)\n",
    "\n",
    "uniqueHLAs <- unique(allHLAs)"
   ]
  },
  {
   "cell_type": "code",
   "execution_count": 133,
   "metadata": {},
   "outputs": [
    {
     "data": {
      "text/html": [
       "<style>\n",
       ".list-inline {list-style: none; margin:0; padding: 0}\n",
       ".list-inline>li {display: inline-block}\n",
       ".list-inline>li:not(:last-child)::after {content: \"\\00b7\"; padding: 0 .5ex}\n",
       "</style>\n",
       "<ol class=list-inline><li>'A*03:01'</li><li>'A*33:03'</li><li>'A*29:02'</li><li>'A*11:01'</li><li>'A*02:01'</li><li>'A*68:01'</li></ol>\n"
      ],
      "text/latex": [
       "\\begin{enumerate*}\n",
       "\\item 'A*03:01'\n",
       "\\item 'A*33:03'\n",
       "\\item 'A*29:02'\n",
       "\\item 'A*11:01'\n",
       "\\item 'A*02:01'\n",
       "\\item 'A*68:01'\n",
       "\\end{enumerate*}\n"
      ],
      "text/markdown": [
       "1. 'A*03:01'\n",
       "2. 'A*33:03'\n",
       "3. 'A*29:02'\n",
       "4. 'A*11:01'\n",
       "5. 'A*02:01'\n",
       "6. 'A*68:01'\n",
       "\n",
       "\n"
      ],
      "text/plain": [
       "[1] \"A*03:01\" \"A*33:03\" \"A*29:02\" \"A*11:01\" \"A*02:01\" \"A*68:01\""
      ]
     },
     "metadata": {},
     "output_type": "display_data"
    }
   ],
   "source": [
    "head(uniqueHLAs)"
   ]
  },
  {
   "cell_type": "code",
   "execution_count": 203,
   "metadata": {},
   "outputs": [],
   "source": [
    "hla_mut_mat <- matrix(nrow = length(uniqueHLAs), ncol = length(allmutated_genes),\n",
    "                     dimnames = list(uniqueHLAs, allmutated_genes))"
   ]
  },
  {
   "cell_type": "markdown",
   "metadata": {},
   "source": [
    "clean rownames to match mupexi files"
   ]
  },
  {
   "cell_type": "code",
   "execution_count": 204,
   "metadata": {},
   "outputs": [],
   "source": [
    "rownames(hla_mut_mat) <- paste0(\"HLA-\", rownames(hla_mut_mat))"
   ]
  },
  {
   "cell_type": "code",
   "execution_count": 205,
   "metadata": {},
   "outputs": [],
   "source": [
    "rownames(hla_mut_mat) <- gsub(\"[*]\", \"\", rownames(hla_mut_mat))"
   ]
  },
  {
   "cell_type": "markdown",
   "metadata": {},
   "source": [
    "Load mupexi files"
   ]
  },
  {
   "cell_type": "code",
   "execution_count": 161,
   "metadata": {},
   "outputs": [],
   "source": [
    "mupexifiles <- list.files(paste0(datapath, \"Mupexi/\"), pattern = \"overlappedvar_all.mupexi\", recursive = T)"
   ]
  },
  {
   "cell_type": "code",
   "execution_count": 162,
   "metadata": {},
   "outputs": [],
   "source": [
    "all.mupexifiles <- lapply(mupexifiles, function(f){read.table(paste0(datapath,\"Mupexi/\",f), header = TRUE, sep = \"\\t\", stringsAsFactors = F)})"
   ]
  },
  {
   "cell_type": "code",
   "execution_count": 163,
   "metadata": {},
   "outputs": [],
   "source": [
    "all.mupexi <- do.call(\"rbind\", all.mupexifiles)"
   ]
  },
  {
   "cell_type": "code",
   "execution_count": 164,
   "metadata": {},
   "outputs": [],
   "source": [
    "all.mupexi <- all.mupexi[all.mupexi$Gene_Symbol %in% allmutated_genes,]"
   ]
  },
  {
   "cell_type": "code",
   "execution_count": 206,
   "metadata": {
    "scrolled": true
   },
   "outputs": [
    {
     "name": "stderr",
     "output_type": "stream",
     "text": [
      "HLA-A03:01\n",
      "\n",
      "HLA-A33:03\n",
      "\n",
      "HLA-A29:02\n",
      "\n",
      "HLA-A11:01\n",
      "\n",
      "HLA-A02:01\n",
      "\n",
      "HLA-A68:01\n",
      "\n",
      "HLA-A02:05\n",
      "\n",
      "HLA-A74:03\n",
      "\n",
      "HLA-A30:01\n",
      "\n",
      "HLA-A23:01\n",
      "\n",
      "HLA-A31:01\n",
      "\n",
      "HLA-A24:02\n",
      "\n",
      "HLA-A24:03\n",
      "\n",
      "HLA-A01:01\n",
      "\n",
      "HLA-A66:01\n",
      "\n",
      "HLA-A02:06\n",
      "\n",
      "HLA-A68:05\n",
      "\n",
      "HLA-A34:02\n",
      "\n",
      "HLA-A32:01\n",
      "\n",
      "HLA-A36:01\n",
      "\n",
      "HLA-A30:02\n",
      "\n",
      "HLA-A02:07\n",
      "\n",
      "HLA-A29:01\n",
      "\n",
      "HLA-A80:01\n",
      "\n",
      "HLA-A68:02\n",
      "\n",
      "HLA-A24:07\n",
      "\n",
      "HLA-A26:01\n",
      "\n",
      "HLA-A30:04\n",
      "\n",
      "HLA-A03:02\n",
      "\n",
      "HLA-A33:01\n",
      "\n",
      "HLA-A74:01\n",
      "\n",
      "HLA-A02:11\n",
      "\n",
      "HLA-A02:02\n",
      "\n",
      "HLA-A25:01\n",
      "\n",
      "HLA-A68:03\n",
      "\n",
      "HLA-A34:01\n",
      "\n",
      "HLA-A02:03\n",
      "\n",
      "HLA-A66:02\n",
      "\n",
      "HLA-A24:23\n",
      "\n",
      "HLA-A69:01\n",
      "\n",
      "HLA-A26:16\n",
      "\n",
      "HLA-A11:02\n",
      "\n",
      "HLA-A02:85\n",
      "\n",
      "HLA-A30:03\n",
      "\n",
      "HLA-A02:08\n",
      "\n",
      "HLA-A29:10\n",
      "\n",
      "HLA-A01:02\n",
      "\n",
      "HLA-A30:10\n",
      "\n",
      "HLA-A01:03\n",
      "\n",
      "HLA-A24:25\n",
      "\n",
      "HLA-A02:20\n",
      "\n",
      "HLA-A02:22\n",
      "\n",
      "HLA-A23:04\n",
      "\n",
      "HLA-A66:03\n",
      "\n",
      "HLA-A24:05\n",
      "\n",
      "HLA-A68:24\n",
      "\n",
      "HLA-A03:22\n",
      "\n",
      "HLA-A24:35\n",
      "\n",
      "HLA-A11:03\n",
      "\n",
      "HLA-B44:03\n",
      "\n",
      "HLA-B56:01\n",
      "\n",
      "HLA-B35:01\n",
      "\n",
      "HLA-B14:02\n",
      "\n",
      "HLA-B15:01\n",
      "\n",
      "HLA-B08:01\n",
      "\n",
      "HLA-B37:01\n",
      "\n",
      "HLA-B51:01\n",
      "\n",
      "HLA-B55:01\n",
      "\n",
      "HLA-B15:02\n",
      "\n",
      "HLA-B50:01\n",
      "\n",
      "HLA-B27:02\n",
      "\n",
      "HLA-B35:03\n",
      "\n",
      "HLA-B13:02\n",
      "\n",
      "HLA-B35:08\n",
      "\n",
      "HLA-B44:02\n",
      "\n",
      "HLA-B49:01\n",
      "\n",
      "HLA-B52:01\n",
      "\n",
      "HLA-B07:02\n",
      "\n",
      "HLA-B57:01\n",
      "\n",
      "HLA-B48:01\n",
      "\n",
      "HLA-B27:05\n",
      "\n",
      "HLA-B42:01\n",
      "\n",
      "HLA-B40:01\n",
      "\n",
      "HLA-B40:02\n",
      "\n",
      "HLA-B39:01\n",
      "\n",
      "HLA-B57:03\n",
      "\n",
      "HLA-B07:10\n",
      "\n",
      "HLA-B14:03\n",
      "\n",
      "HLA-B54:01\n",
      "\n",
      "HLA-B44:06\n",
      "\n",
      "HLA-B41:01\n",
      "\n",
      "HLA-B18:03\n",
      "\n",
      "HLA-B39:34\n",
      "\n",
      "HLA-B07:05\n",
      "\n",
      "HLA-B14:01\n",
      "\n",
      "HLA-B18:01\n",
      "\n",
      "HLA-B47:01\n",
      "\n",
      "HLA-B58:01\n",
      "\n",
      "HLA-B39:06\n",
      "\n",
      "HLA-B38:01\n",
      "\n",
      "HLA-B53:01\n",
      "\n",
      "HLA-B15:10\n",
      "\n",
      "HLA-B35:02\n",
      "\n",
      "HLA-B44:05\n",
      "\n",
      "HLA-B15:18\n",
      "\n",
      "HLA-B45:01\n",
      "\n",
      "HLA-B39:10\n",
      "\n",
      "HLA-B40:06\n",
      "\n",
      "HLA-B15:03\n",
      "\n",
      "HLA-B35:05\n",
      "\n",
      "HLA-B81:01\n",
      "\n",
      "HLA-B35:12\n",
      "\n",
      "HLA-B15:35\n",
      "\n",
      "HLA-B46:01\n",
      "\n",
      "HLA-B51:08\n",
      "\n",
      "HLA-B41:02\n",
      "\n",
      "HLA-B27:12\n",
      "\n",
      "HLA-B58:02\n",
      "\n",
      "HLA-B51:21\n",
      "\n",
      "HLA-B78:01\n",
      "\n",
      "HLA-B18:05\n",
      "\n",
      "HLA-B35:10\n",
      "\n",
      "HLA-B51:09\n",
      "\n",
      "HLA-B15:27\n",
      "\n",
      "HLA-B13:01\n",
      "\n",
      "HLA-B39:05\n",
      "\n",
      "HLA-B15:21\n",
      "\n",
      "HLA-B15:31\n",
      "\n",
      "HLA-B15:16\n",
      "\n",
      "HLA-B35:04\n",
      "\n",
      "HLA-B35:43\n",
      "\n",
      "HLA-B15:09\n",
      "\n",
      "HLA-B50:02\n",
      "\n",
      "HLA-B15:17\n",
      "\n",
      "HLA-B27:03\n",
      "\n",
      "HLA-B27:06\n",
      "\n",
      "HLA-B57:02\n",
      "\n",
      "HLA-B73:01\n",
      "\n",
      "HLA-B35:17\n",
      "\n",
      "HLA-B15:47\n",
      "\n",
      "HLA-B51:14\n",
      "\n",
      "HLA-B39:02\n",
      "\n",
      "HLA-B51:22\n",
      "\n",
      "HLA-B15:15\n",
      "\n",
      "HLA-B51:06\n",
      "\n",
      "HLA-B15:11\n",
      "\n",
      "HLA-B15:08\n",
      "\n",
      "HLA-B47:03\n",
      "\n",
      "HLA-B15:13\n",
      "\n",
      "HLA-B55:02\n",
      "\n",
      "HLA-C06:02\n",
      "\n",
      "HLA-C02:02\n",
      "\n",
      "HLA-C02:10\n",
      "\n",
      "HLA-C03:03\n",
      "\n",
      "HLA-C17:01\n",
      "\n",
      "HLA-C07:01\n",
      "\n",
      "HLA-C07:02\n",
      "\n",
      "HLA-C04:01\n",
      "\n",
      "HLA-C12:03\n",
      "\n",
      "HLA-C01:02\n",
      "\n",
      "HLA-C16:01\n",
      "\n",
      "HLA-C03:04\n",
      "\n",
      "HLA-C05:01\n",
      "\n",
      "HLA-C08:03\n",
      "\n",
      "HLA-C07:04\n",
      "\n",
      "HLA-C08:02\n",
      "\n",
      "HLA-C16:02\n",
      "\n",
      "HLA-C15:05\n",
      "\n",
      "HLA-C12:02\n",
      "\n",
      "HLA-C16:04\n",
      "\n",
      "HLA-C14:02\n",
      "\n",
      "HLA-C15:02\n",
      "\n",
      "HLA-C03:02\n",
      "\n",
      "HLA-C18:01\n",
      "\n",
      "HLA-C08:15\n",
      "\n",
      "HLA-C14:03\n",
      "\n",
      "HLA-C15:09\n",
      "\n",
      "HLA-C08:01\n",
      "\n",
      "HLA-C15:06\n",
      "\n",
      "HLA-C08:04\n",
      "\n",
      "HLA-C04:04\n",
      "\n",
      "HLA-C05:09\n",
      "\n",
      "HLA-C15:04\n",
      "\n",
      "HLA-C04:10\n",
      "\n",
      "HLA-C03:06\n",
      "\n",
      "HLA-C04:07\n",
      "\n",
      "HLA-C03:67\n",
      "\n",
      "HLA-C02:06\n",
      "\n",
      "HLA-C04:03\n",
      "\n",
      "HLA-C04:06\n",
      "\n"
     ]
    }
   ],
   "source": [
    "for(h in 1:nrow(hla_mut_mat)){\n",
    "    myhla <- rownames(hla_mut_mat)[h]\n",
    "    message(myhla)\n",
    "    mymupexi <- all.mupexi[ all.mupexi$HLA_allele == myhla,]\n",
    "   if(nrow(mymupexi)>0){ \n",
    "       for(g in unique(mymupexi$Gene_Symbol)){\n",
    "           hla_mut_mat[myhla, g] <- min(mymupexi$Mut_MHCrank_BA[ mymupexi$Gene_Symbol == g])\n",
    "       }\n",
    "   }\n",
    "}"
   ]
  },
  {
   "cell_type": "code",
   "execution_count": 215,
   "metadata": {},
   "outputs": [
    {
     "data": {
      "text/html": [
       "<style>\n",
       ".dl-inline {width: auto; margin:0; padding: 0}\n",
       ".dl-inline>dt, .dl-inline>dd {float: none; width: auto; display: inline-block}\n",
       ".dl-inline>dt::after {content: \":\\0020\"; padding-right: .5ex}\n",
       ".dl-inline>dt:not(:first-of-type) {padding-left: .5ex}\n",
       "</style><dl class=dl-inline><dt>HLA-B13:02</dt><dd>0.041</dd><dt>HLA-A03:01</dt><dd>0.2851</dd><dt>HLA-B58:01</dt><dd>0.3706</dd><dt>HLA-B57:01</dt><dd>0.4398</dd><dt>HLA-B58:02</dt><dd>0.5674</dd><dt>HLA-A11:01</dt><dd>0.6595</dd><dt>HLA-A29:02</dt><dd>0.768</dd><dt>HLA-C16:01</dt><dd>0.7775</dd><dt>HLA-C05:01</dt><dd>0.9473</dd><dt>HLA-B07:02</dt><dd>0.9728</dd><dt>HLA-B27:12</dt><dd>1.0098</dd><dt>HLA-B27:05</dt><dd>1.0327</dd><dt>HLA-A02:05</dt><dd>1.1447</dd><dt>HLA-B40:01</dt><dd>1.1637</dd><dt>HLA-A33:03</dt><dd>1.1876</dd><dt>HLA-A74:01</dt><dd>1.2684</dd><dt>HLA-B50:01</dt><dd>1.5264</dd><dt>HLA-C06:02</dt><dd>2.211</dd><dt>HLA-A02:01</dt><dd>2.2193</dd><dt>HLA-B45:01</dt><dd>2.48</dd><dt>HLA-A31:01</dt><dd>2.5699</dd><dt>HLA-A30:01</dt><dd>2.9787</dd><dt>HLA-A66:01</dt><dd>3.0129</dd><dt>HLA-B44:03</dt><dd>4.1825</dd><dt>HLA-A68:01</dt><dd>4.2325</dd><dt>HLA-B44:02</dt><dd>4.7088</dd><dt>HLA-A32:01</dt><dd>4.9329</dd><dt>HLA-C07:01</dt><dd>5.8338</dd><dt>HLA-C03:04</dt><dd>6.0788</dd><dt>HLA-C07:02</dt><dd>6.1335</dd><dt>HLA-B39:01</dt><dd>6.5845</dd><dt>HLA-B14:02</dt><dd>6.69</dd><dt>HLA-A01:01</dt><dd>7.0888</dd><dt>HLA-A30:02</dt><dd>7.8713</dd><dt>HLA-B18:01</dt><dd>7.9391</dd><dt>HLA-B40:06</dt><dd>8.0204</dd><dt>HLA-A23:01</dt><dd>8.6577</dd><dt>HLA-A80:01</dt><dd>8.8069</dd><dt>HLA-B41:02</dt><dd>8.8073</dd><dt>HLA-B46:01</dt><dd>8.9496</dd><dt>HLA-C08:02</dt><dd>9.1435</dd><dt>HLA-B51:01</dt><dd>9.3142</dd><dt>HLA-A24:07</dt><dd>9.4074</dd><dt>HLA-A24:02</dt><dd>9.5366</dd><dt>HLA-C03:02</dt><dd>9.8001</dd><dt>HLA-B52:01</dt><dd>9.9084</dd><dt>HLA-C14:02</dt><dd>11.0083</dd><dt>HLA-C02:02</dt><dd>11.4616</dd><dt>HLA-B35:01</dt><dd>12.4842</dd><dt>HLA-B40:02</dt><dd>13.9009</dd><dt>HLA-C16:02</dt><dd>14.0219</dd><dt>HLA-C12:02</dt><dd>15.0647</dd><dt>HLA-B08:01</dt><dd>15.1122</dd><dt>HLA-A26:01</dt><dd>15.7462</dd><dt>HLA-C04:01</dt><dd>17.2873</dd><dt>HLA-C01:02</dt><dd>17.8662</dd><dt>HLA-C12:03</dt><dd>19.7214</dd><dt>HLA-C07:04</dt><dd>20.9814</dd><dt>HLA-C17:01</dt><dd>22.6899</dd><dt>HLA-C15:02</dt><dd>23.1787</dd><dt>HLA-B35:03</dt><dd>23.5018</dd><dt>HLA-A02:11</dt><dd>25.1339</dd><dt>HLA-B35:02</dt><dd>27.022</dd></dl>\n"
      ],
      "text/latex": [
       "\\begin{description*}\n",
       "\\item[HLA-B13:02] 0.041\n",
       "\\item[HLA-A03:01] 0.2851\n",
       "\\item[HLA-B58:01] 0.3706\n",
       "\\item[HLA-B57:01] 0.4398\n",
       "\\item[HLA-B58:02] 0.5674\n",
       "\\item[HLA-A11:01] 0.6595\n",
       "\\item[HLA-A29:02] 0.768\n",
       "\\item[HLA-C16:01] 0.7775\n",
       "\\item[HLA-C05:01] 0.9473\n",
       "\\item[HLA-B07:02] 0.9728\n",
       "\\item[HLA-B27:12] 1.0098\n",
       "\\item[HLA-B27:05] 1.0327\n",
       "\\item[HLA-A02:05] 1.1447\n",
       "\\item[HLA-B40:01] 1.1637\n",
       "\\item[HLA-A33:03] 1.1876\n",
       "\\item[HLA-A74:01] 1.2684\n",
       "\\item[HLA-B50:01] 1.5264\n",
       "\\item[HLA-C06:02] 2.211\n",
       "\\item[HLA-A02:01] 2.2193\n",
       "\\item[HLA-B45:01] 2.48\n",
       "\\item[HLA-A31:01] 2.5699\n",
       "\\item[HLA-A30:01] 2.9787\n",
       "\\item[HLA-A66:01] 3.0129\n",
       "\\item[HLA-B44:03] 4.1825\n",
       "\\item[HLA-A68:01] 4.2325\n",
       "\\item[HLA-B44:02] 4.7088\n",
       "\\item[HLA-A32:01] 4.9329\n",
       "\\item[HLA-C07:01] 5.8338\n",
       "\\item[HLA-C03:04] 6.0788\n",
       "\\item[HLA-C07:02] 6.1335\n",
       "\\item[HLA-B39:01] 6.5845\n",
       "\\item[HLA-B14:02] 6.69\n",
       "\\item[HLA-A01:01] 7.0888\n",
       "\\item[HLA-A30:02] 7.8713\n",
       "\\item[HLA-B18:01] 7.9391\n",
       "\\item[HLA-B40:06] 8.0204\n",
       "\\item[HLA-A23:01] 8.6577\n",
       "\\item[HLA-A80:01] 8.8069\n",
       "\\item[HLA-B41:02] 8.8073\n",
       "\\item[HLA-B46:01] 8.9496\n",
       "\\item[HLA-C08:02] 9.1435\n",
       "\\item[HLA-B51:01] 9.3142\n",
       "\\item[HLA-A24:07] 9.4074\n",
       "\\item[HLA-A24:02] 9.5366\n",
       "\\item[HLA-C03:02] 9.8001\n",
       "\\item[HLA-B52:01] 9.9084\n",
       "\\item[HLA-C14:02] 11.0083\n",
       "\\item[HLA-C02:02] 11.4616\n",
       "\\item[HLA-B35:01] 12.4842\n",
       "\\item[HLA-B40:02] 13.9009\n",
       "\\item[HLA-C16:02] 14.0219\n",
       "\\item[HLA-C12:02] 15.0647\n",
       "\\item[HLA-B08:01] 15.1122\n",
       "\\item[HLA-A26:01] 15.7462\n",
       "\\item[HLA-C04:01] 17.2873\n",
       "\\item[HLA-C01:02] 17.8662\n",
       "\\item[HLA-C12:03] 19.7214\n",
       "\\item[HLA-C07:04] 20.9814\n",
       "\\item[HLA-C17:01] 22.6899\n",
       "\\item[HLA-C15:02] 23.1787\n",
       "\\item[HLA-B35:03] 23.5018\n",
       "\\item[HLA-A02:11] 25.1339\n",
       "\\item[HLA-B35:02] 27.022\n",
       "\\end{description*}\n"
      ],
      "text/markdown": [
       "HLA-B13:02\n",
       ":   0.041HLA-A03:01\n",
       ":   0.2851HLA-B58:01\n",
       ":   0.3706HLA-B57:01\n",
       ":   0.4398HLA-B58:02\n",
       ":   0.5674HLA-A11:01\n",
       ":   0.6595HLA-A29:02\n",
       ":   0.768HLA-C16:01\n",
       ":   0.7775HLA-C05:01\n",
       ":   0.9473HLA-B07:02\n",
       ":   0.9728HLA-B27:12\n",
       ":   1.0098HLA-B27:05\n",
       ":   1.0327HLA-A02:05\n",
       ":   1.1447HLA-B40:01\n",
       ":   1.1637HLA-A33:03\n",
       ":   1.1876HLA-A74:01\n",
       ":   1.2684HLA-B50:01\n",
       ":   1.5264HLA-C06:02\n",
       ":   2.211HLA-A02:01\n",
       ":   2.2193HLA-B45:01\n",
       ":   2.48HLA-A31:01\n",
       ":   2.5699HLA-A30:01\n",
       ":   2.9787HLA-A66:01\n",
       ":   3.0129HLA-B44:03\n",
       ":   4.1825HLA-A68:01\n",
       ":   4.2325HLA-B44:02\n",
       ":   4.7088HLA-A32:01\n",
       ":   4.9329HLA-C07:01\n",
       ":   5.8338HLA-C03:04\n",
       ":   6.0788HLA-C07:02\n",
       ":   6.1335HLA-B39:01\n",
       ":   6.5845HLA-B14:02\n",
       ":   6.69HLA-A01:01\n",
       ":   7.0888HLA-A30:02\n",
       ":   7.8713HLA-B18:01\n",
       ":   7.9391HLA-B40:06\n",
       ":   8.0204HLA-A23:01\n",
       ":   8.6577HLA-A80:01\n",
       ":   8.8069HLA-B41:02\n",
       ":   8.8073HLA-B46:01\n",
       ":   8.9496HLA-C08:02\n",
       ":   9.1435HLA-B51:01\n",
       ":   9.3142HLA-A24:07\n",
       ":   9.4074HLA-A24:02\n",
       ":   9.5366HLA-C03:02\n",
       ":   9.8001HLA-B52:01\n",
       ":   9.9084HLA-C14:02\n",
       ":   11.0083HLA-C02:02\n",
       ":   11.4616HLA-B35:01\n",
       ":   12.4842HLA-B40:02\n",
       ":   13.9009HLA-C16:02\n",
       ":   14.0219HLA-C12:02\n",
       ":   15.0647HLA-B08:01\n",
       ":   15.1122HLA-A26:01\n",
       ":   15.7462HLA-C04:01\n",
       ":   17.2873HLA-C01:02\n",
       ":   17.8662HLA-C12:03\n",
       ":   19.7214HLA-C07:04\n",
       ":   20.9814HLA-C17:01\n",
       ":   22.6899HLA-C15:02\n",
       ":   23.1787HLA-B35:03\n",
       ":   23.5018HLA-A02:11\n",
       ":   25.1339HLA-B35:02\n",
       ":   27.022\n",
       "\n"
      ],
      "text/plain": [
       "HLA-B13:02 HLA-A03:01 HLA-B58:01 HLA-B57:01 HLA-B58:02 HLA-A11:01 HLA-A29:02 \n",
       "    0.0410     0.2851     0.3706     0.4398     0.5674     0.6595     0.7680 \n",
       "HLA-C16:01 HLA-C05:01 HLA-B07:02 HLA-B27:12 HLA-B27:05 HLA-A02:05 HLA-B40:01 \n",
       "    0.7775     0.9473     0.9728     1.0098     1.0327     1.1447     1.1637 \n",
       "HLA-A33:03 HLA-A74:01 HLA-B50:01 HLA-C06:02 HLA-A02:01 HLA-B45:01 HLA-A31:01 \n",
       "    1.1876     1.2684     1.5264     2.2110     2.2193     2.4800     2.5699 \n",
       "HLA-A30:01 HLA-A66:01 HLA-B44:03 HLA-A68:01 HLA-B44:02 HLA-A32:01 HLA-C07:01 \n",
       "    2.9787     3.0129     4.1825     4.2325     4.7088     4.9329     5.8338 \n",
       "HLA-C03:04 HLA-C07:02 HLA-B39:01 HLA-B14:02 HLA-A01:01 HLA-A30:02 HLA-B18:01 \n",
       "    6.0788     6.1335     6.5845     6.6900     7.0888     7.8713     7.9391 \n",
       "HLA-B40:06 HLA-A23:01 HLA-A80:01 HLA-B41:02 HLA-B46:01 HLA-C08:02 HLA-B51:01 \n",
       "    8.0204     8.6577     8.8069     8.8073     8.9496     9.1435     9.3142 \n",
       "HLA-A24:07 HLA-A24:02 HLA-C03:02 HLA-B52:01 HLA-C14:02 HLA-C02:02 HLA-B35:01 \n",
       "    9.4074     9.5366     9.8001     9.9084    11.0083    11.4616    12.4842 \n",
       "HLA-B40:02 HLA-C16:02 HLA-C12:02 HLA-B08:01 HLA-A26:01 HLA-C04:01 HLA-C01:02 \n",
       "   13.9009    14.0219    15.0647    15.1122    15.7462    17.2873    17.8662 \n",
       "HLA-C12:03 HLA-C07:04 HLA-C17:01 HLA-C15:02 HLA-B35:03 HLA-A02:11 HLA-B35:02 \n",
       "   19.7214    20.9814    22.6899    23.1787    23.5018    25.1339    27.0220 "
      ]
     },
     "metadata": {},
     "output_type": "display_data"
    }
   ],
   "source": [
    "sort(hla_mut_mat[,\"BRAF\"])"
   ]
  },
  {
   "cell_type": "code",
   "execution_count": 211,
   "metadata": {},
   "outputs": [
    {
     "data": {
      "text/html": [
       "<table class=\"dataframe\">\n",
       "<caption>A matrix: 15 × 10540 of type dbl</caption>\n",
       "<thead>\n",
       "\t<tr><th></th><th scope=col>A1BG</th><th scope=col>A1CF</th><th scope=col>A2M</th><th scope=col>A2ML1</th><th scope=col>A4GNT</th><th scope=col>AACS</th><th scope=col>AADAC</th><th scope=col>AADACL3</th><th scope=col>AADACL4</th><th scope=col>AADAT</th><th scope=col>⋯</th><th scope=col>ZNF283</th><th scope=col>ZNF479</th><th scope=col>ZNF529</th><th scope=col>ZNF543</th><th scope=col>ZNF575</th><th scope=col>ZNF595</th><th scope=col>ZNF613</th><th scope=col>ZNF652</th><th scope=col>ZNF682</th><th scope=col>ZRANB1</th></tr>\n",
       "</thead>\n",
       "<tbody>\n",
       "\t<tr><th scope=row>HLA-A03:01</th><td>NA</td><td>     NA</td><td>10.5800</td><td>     NA</td><td>    NA</td><td>NA</td><td>NA</td><td>     NA</td><td>    NA</td><td>NA</td><td>⋯</td><td>NA</td><td>     NA</td><td>    NA</td><td>    NA</td><td>18.2336</td><td> 2.8489</td><td>    NA</td><td>    NA</td><td>NA</td><td>13.4889</td></tr>\n",
       "\t<tr><th scope=row>HLA-A33:03</th><td>NA</td><td>     NA</td><td>     NA</td><td>     NA</td><td>    NA</td><td>NA</td><td>NA</td><td>     NA</td><td>    NA</td><td>NA</td><td>⋯</td><td>NA</td><td>     NA</td><td>    NA</td><td>    NA</td><td>     NA</td><td>     NA</td><td>    NA</td><td>    NA</td><td>NA</td><td>     NA</td></tr>\n",
       "\t<tr><th scope=row>HLA-A29:02</th><td>NA</td><td>     NA</td><td>     NA</td><td>13.1534</td><td>    NA</td><td>NA</td><td>NA</td><td>     NA</td><td>    NA</td><td>NA</td><td>⋯</td><td>NA</td><td>     NA</td><td>    NA</td><td>    NA</td><td>     NA</td><td>     NA</td><td>    NA</td><td>    NA</td><td>NA</td><td>     NA</td></tr>\n",
       "\t<tr><th scope=row>HLA-A11:01</th><td>NA</td><td>     NA</td><td>     NA</td><td>     NA</td><td>    NA</td><td>NA</td><td>NA</td><td>     NA</td><td>    NA</td><td>NA</td><td>⋯</td><td>NA</td><td>     NA</td><td>    NA</td><td>    NA</td><td>     NA</td><td> 3.1732</td><td>    NA</td><td>    NA</td><td>NA</td><td>     NA</td></tr>\n",
       "\t<tr><th scope=row>HLA-A02:01</th><td>NA</td><td>     NA</td><td> 0.1228</td><td> 0.3138</td><td>1.2569</td><td>NA</td><td>NA</td><td> 7.4787</td><td>    NA</td><td>NA</td><td>⋯</td><td>NA</td><td>     NA</td><td>    NA</td><td>4.3014</td><td>     NA</td><td>     NA</td><td>    NA</td><td>17.202</td><td>NA</td><td> 2.1849</td></tr>\n",
       "\t<tr><th scope=row>HLA-A68:01</th><td>NA</td><td>     NA</td><td>     NA</td><td>     NA</td><td>6.1595</td><td>NA</td><td>NA</td><td>     NA</td><td>    NA</td><td>NA</td><td>⋯</td><td>NA</td><td>     NA</td><td>    NA</td><td>    NA</td><td>     NA</td><td>     NA</td><td>    NA</td><td>    NA</td><td>NA</td><td>     NA</td></tr>\n",
       "\t<tr><th scope=row>HLA-A02:05</th><td>NA</td><td>     NA</td><td>     NA</td><td>     NA</td><td>    NA</td><td>NA</td><td>NA</td><td>     NA</td><td>    NA</td><td>NA</td><td>⋯</td><td>NA</td><td>     NA</td><td>    NA</td><td>    NA</td><td>     NA</td><td>     NA</td><td>    NA</td><td>    NA</td><td>NA</td><td>     NA</td></tr>\n",
       "\t<tr><th scope=row>HLA-A74:03</th><td>NA</td><td>     NA</td><td>     NA</td><td>     NA</td><td>    NA</td><td>NA</td><td>NA</td><td>     NA</td><td>    NA</td><td>NA</td><td>⋯</td><td>NA</td><td>     NA</td><td>    NA</td><td>    NA</td><td>     NA</td><td>     NA</td><td>    NA</td><td>    NA</td><td>NA</td><td>     NA</td></tr>\n",
       "\t<tr><th scope=row>HLA-A30:01</th><td>NA</td><td>     NA</td><td>     NA</td><td>     NA</td><td>    NA</td><td>NA</td><td>NA</td><td>     NA</td><td>    NA</td><td>NA</td><td>⋯</td><td>NA</td><td>     NA</td><td>    NA</td><td>    NA</td><td>     NA</td><td>14.7619</td><td>    NA</td><td>    NA</td><td>NA</td><td>     NA</td></tr>\n",
       "\t<tr><th scope=row>HLA-A23:01</th><td>NA</td><td>     NA</td><td>     NA</td><td>     NA</td><td>    NA</td><td>NA</td><td>NA</td><td>     NA</td><td>    NA</td><td>NA</td><td>⋯</td><td>NA</td><td>     NA</td><td>    NA</td><td>    NA</td><td>     NA</td><td>     NA</td><td>    NA</td><td>    NA</td><td>NA</td><td>     NA</td></tr>\n",
       "\t<tr><th scope=row>HLA-A31:01</th><td>NA</td><td>24.0729</td><td>     NA</td><td>     NA</td><td>    NA</td><td>NA</td><td>NA</td><td>     NA</td><td>    NA</td><td>NA</td><td>⋯</td><td>NA</td><td>     NA</td><td>0.8689</td><td>    NA</td><td>     NA</td><td>     NA</td><td>    NA</td><td>    NA</td><td>NA</td><td>     NA</td></tr>\n",
       "\t<tr><th scope=row>HLA-A24:02</th><td>NA</td><td>     NA</td><td>     NA</td><td>     NA</td><td>    NA</td><td>NA</td><td>NA</td><td>     NA</td><td>    NA</td><td>NA</td><td>⋯</td><td>NA</td><td>     NA</td><td>    NA</td><td>    NA</td><td>     NA</td><td>     NA</td><td>    NA</td><td>    NA</td><td>NA</td><td>     NA</td></tr>\n",
       "\t<tr><th scope=row>HLA-A24:03</th><td>NA</td><td>     NA</td><td>     NA</td><td>     NA</td><td>    NA</td><td>NA</td><td>NA</td><td>     NA</td><td>    NA</td><td>NA</td><td>⋯</td><td>NA</td><td>     NA</td><td>    NA</td><td>    NA</td><td>     NA</td><td>     NA</td><td>    NA</td><td>    NA</td><td>NA</td><td>     NA</td></tr>\n",
       "\t<tr><th scope=row>HLA-A01:01</th><td>NA</td><td> 0.1558</td><td>     NA</td><td>     NA</td><td>    NA</td><td>NA</td><td>NA</td><td>12.1352</td><td>0.8019</td><td>NA</td><td>⋯</td><td>NA</td><td>11.2051</td><td>1.7053</td><td>    NA</td><td>     NA</td><td>     NA</td><td>12.473</td><td>    NA</td><td>NA</td><td>     NA</td></tr>\n",
       "\t<tr><th scope=row>HLA-A66:01</th><td>NA</td><td>     NA</td><td>     NA</td><td>     NA</td><td>    NA</td><td>NA</td><td>NA</td><td>     NA</td><td>    NA</td><td>NA</td><td>⋯</td><td>NA</td><td>     NA</td><td>    NA</td><td>    NA</td><td>42.3998</td><td>     NA</td><td>    NA</td><td>    NA</td><td>NA</td><td>     NA</td></tr>\n",
       "</tbody>\n",
       "</table>\n"
      ],
      "text/latex": [
       "A matrix: 15 × 10540 of type dbl\n",
       "\\begin{tabular}{r|lllllllllllllllllllll}\n",
       "  & A1BG & A1CF & A2M & A2ML1 & A4GNT & AACS & AADAC & AADACL3 & AADACL4 & AADAT & ⋯ & ZNF283 & ZNF479 & ZNF529 & ZNF543 & ZNF575 & ZNF595 & ZNF613 & ZNF652 & ZNF682 & ZRANB1\\\\\n",
       "\\hline\n",
       "\tHLA-A03:01 & NA &      NA & 10.5800 &      NA &     NA & NA & NA &      NA &     NA & NA & ⋯ & NA &      NA &     NA &     NA & 18.2336 &  2.8489 &     NA &     NA & NA & 13.4889\\\\\n",
       "\tHLA-A33:03 & NA &      NA &      NA &      NA &     NA & NA & NA &      NA &     NA & NA & ⋯ & NA &      NA &     NA &     NA &      NA &      NA &     NA &     NA & NA &      NA\\\\\n",
       "\tHLA-A29:02 & NA &      NA &      NA & 13.1534 &     NA & NA & NA &      NA &     NA & NA & ⋯ & NA &      NA &     NA &     NA &      NA &      NA &     NA &     NA & NA &      NA\\\\\n",
       "\tHLA-A11:01 & NA &      NA &      NA &      NA &     NA & NA & NA &      NA &     NA & NA & ⋯ & NA &      NA &     NA &     NA &      NA &  3.1732 &     NA &     NA & NA &      NA\\\\\n",
       "\tHLA-A02:01 & NA &      NA &  0.1228 &  0.3138 & 1.2569 & NA & NA &  7.4787 &     NA & NA & ⋯ & NA &      NA &     NA & 4.3014 &      NA &      NA &     NA & 17.202 & NA &  2.1849\\\\\n",
       "\tHLA-A68:01 & NA &      NA &      NA &      NA & 6.1595 & NA & NA &      NA &     NA & NA & ⋯ & NA &      NA &     NA &     NA &      NA &      NA &     NA &     NA & NA &      NA\\\\\n",
       "\tHLA-A02:05 & NA &      NA &      NA &      NA &     NA & NA & NA &      NA &     NA & NA & ⋯ & NA &      NA &     NA &     NA &      NA &      NA &     NA &     NA & NA &      NA\\\\\n",
       "\tHLA-A74:03 & NA &      NA &      NA &      NA &     NA & NA & NA &      NA &     NA & NA & ⋯ & NA &      NA &     NA &     NA &      NA &      NA &     NA &     NA & NA &      NA\\\\\n",
       "\tHLA-A30:01 & NA &      NA &      NA &      NA &     NA & NA & NA &      NA &     NA & NA & ⋯ & NA &      NA &     NA &     NA &      NA & 14.7619 &     NA &     NA & NA &      NA\\\\\n",
       "\tHLA-A23:01 & NA &      NA &      NA &      NA &     NA & NA & NA &      NA &     NA & NA & ⋯ & NA &      NA &     NA &     NA &      NA &      NA &     NA &     NA & NA &      NA\\\\\n",
       "\tHLA-A31:01 & NA & 24.0729 &      NA &      NA &     NA & NA & NA &      NA &     NA & NA & ⋯ & NA &      NA & 0.8689 &     NA &      NA &      NA &     NA &     NA & NA &      NA\\\\\n",
       "\tHLA-A24:02 & NA &      NA &      NA &      NA &     NA & NA & NA &      NA &     NA & NA & ⋯ & NA &      NA &     NA &     NA &      NA &      NA &     NA &     NA & NA &      NA\\\\\n",
       "\tHLA-A24:03 & NA &      NA &      NA &      NA &     NA & NA & NA &      NA &     NA & NA & ⋯ & NA &      NA &     NA &     NA &      NA &      NA &     NA &     NA & NA &      NA\\\\\n",
       "\tHLA-A01:01 & NA &  0.1558 &      NA &      NA &     NA & NA & NA & 12.1352 & 0.8019 & NA & ⋯ & NA & 11.2051 & 1.7053 &     NA &      NA &      NA & 12.473 &     NA & NA &      NA\\\\\n",
       "\tHLA-A66:01 & NA &      NA &      NA &      NA &     NA & NA & NA &      NA &     NA & NA & ⋯ & NA &      NA &     NA &     NA & 42.3998 &      NA &     NA &     NA & NA &      NA\\\\\n",
       "\\end{tabular}\n"
      ],
      "text/markdown": [
       "\n",
       "A matrix: 15 × 10540 of type dbl\n",
       "\n",
       "| <!--/--> | A1BG | A1CF | A2M | A2ML1 | A4GNT | AACS | AADAC | AADACL3 | AADACL4 | AADAT | ⋯ | ZNF283 | ZNF479 | ZNF529 | ZNF543 | ZNF575 | ZNF595 | ZNF613 | ZNF652 | ZNF682 | ZRANB1 |\n",
       "|---|---|---|---|---|---|---|---|---|---|---|---|---|---|---|---|---|---|---|---|---|---|\n",
       "| HLA-A03:01 | NA |      NA | 10.5800 |      NA |     NA | NA | NA |      NA |     NA | NA | ⋯ | NA |      NA |     NA |     NA | 18.2336 |  2.8489 |     NA |     NA | NA | 13.4889 |\n",
       "| HLA-A33:03 | NA |      NA |      NA |      NA |     NA | NA | NA |      NA |     NA | NA | ⋯ | NA |      NA |     NA |     NA |      NA |      NA |     NA |     NA | NA |      NA |\n",
       "| HLA-A29:02 | NA |      NA |      NA | 13.1534 |     NA | NA | NA |      NA |     NA | NA | ⋯ | NA |      NA |     NA |     NA |      NA |      NA |     NA |     NA | NA |      NA |\n",
       "| HLA-A11:01 | NA |      NA |      NA |      NA |     NA | NA | NA |      NA |     NA | NA | ⋯ | NA |      NA |     NA |     NA |      NA |  3.1732 |     NA |     NA | NA |      NA |\n",
       "| HLA-A02:01 | NA |      NA |  0.1228 |  0.3138 | 1.2569 | NA | NA |  7.4787 |     NA | NA | ⋯ | NA |      NA |     NA | 4.3014 |      NA |      NA |     NA | 17.202 | NA |  2.1849 |\n",
       "| HLA-A68:01 | NA |      NA |      NA |      NA | 6.1595 | NA | NA |      NA |     NA | NA | ⋯ | NA |      NA |     NA |     NA |      NA |      NA |     NA |     NA | NA |      NA |\n",
       "| HLA-A02:05 | NA |      NA |      NA |      NA |     NA | NA | NA |      NA |     NA | NA | ⋯ | NA |      NA |     NA |     NA |      NA |      NA |     NA |     NA | NA |      NA |\n",
       "| HLA-A74:03 | NA |      NA |      NA |      NA |     NA | NA | NA |      NA |     NA | NA | ⋯ | NA |      NA |     NA |     NA |      NA |      NA |     NA |     NA | NA |      NA |\n",
       "| HLA-A30:01 | NA |      NA |      NA |      NA |     NA | NA | NA |      NA |     NA | NA | ⋯ | NA |      NA |     NA |     NA |      NA | 14.7619 |     NA |     NA | NA |      NA |\n",
       "| HLA-A23:01 | NA |      NA |      NA |      NA |     NA | NA | NA |      NA |     NA | NA | ⋯ | NA |      NA |     NA |     NA |      NA |      NA |     NA |     NA | NA |      NA |\n",
       "| HLA-A31:01 | NA | 24.0729 |      NA |      NA |     NA | NA | NA |      NA |     NA | NA | ⋯ | NA |      NA | 0.8689 |     NA |      NA |      NA |     NA |     NA | NA |      NA |\n",
       "| HLA-A24:02 | NA |      NA |      NA |      NA |     NA | NA | NA |      NA |     NA | NA | ⋯ | NA |      NA |     NA |     NA |      NA |      NA |     NA |     NA | NA |      NA |\n",
       "| HLA-A24:03 | NA |      NA |      NA |      NA |     NA | NA | NA |      NA |     NA | NA | ⋯ | NA |      NA |     NA |     NA |      NA |      NA |     NA |     NA | NA |      NA |\n",
       "| HLA-A01:01 | NA |  0.1558 |      NA |      NA |     NA | NA | NA | 12.1352 | 0.8019 | NA | ⋯ | NA | 11.2051 | 1.7053 |     NA |      NA |      NA | 12.473 |     NA | NA |      NA |\n",
       "| HLA-A66:01 | NA |      NA |      NA |      NA |     NA | NA | NA |      NA |     NA | NA | ⋯ | NA |      NA |     NA |     NA | 42.3998 |      NA |     NA |     NA | NA |      NA |\n",
       "\n"
      ],
      "text/plain": [
       "           A1BG A1CF    A2M     A2ML1   A4GNT  AACS AADAC AADACL3 AADACL4 AADAT\n",
       "HLA-A03:01 NA        NA 10.5800      NA     NA NA   NA         NA     NA  NA   \n",
       "HLA-A33:03 NA        NA      NA      NA     NA NA   NA         NA     NA  NA   \n",
       "HLA-A29:02 NA        NA      NA 13.1534     NA NA   NA         NA     NA  NA   \n",
       "HLA-A11:01 NA        NA      NA      NA     NA NA   NA         NA     NA  NA   \n",
       "HLA-A02:01 NA        NA  0.1228  0.3138 1.2569 NA   NA     7.4787     NA  NA   \n",
       "HLA-A68:01 NA        NA      NA      NA 6.1595 NA   NA         NA     NA  NA   \n",
       "HLA-A02:05 NA        NA      NA      NA     NA NA   NA         NA     NA  NA   \n",
       "HLA-A74:03 NA        NA      NA      NA     NA NA   NA         NA     NA  NA   \n",
       "HLA-A30:01 NA        NA      NA      NA     NA NA   NA         NA     NA  NA   \n",
       "HLA-A23:01 NA        NA      NA      NA     NA NA   NA         NA     NA  NA   \n",
       "HLA-A31:01 NA   24.0729      NA      NA     NA NA   NA         NA     NA  NA   \n",
       "HLA-A24:02 NA        NA      NA      NA     NA NA   NA         NA     NA  NA   \n",
       "HLA-A24:03 NA        NA      NA      NA     NA NA   NA         NA     NA  NA   \n",
       "HLA-A01:01 NA    0.1558      NA      NA     NA NA   NA    12.1352 0.8019  NA   \n",
       "HLA-A66:01 NA        NA      NA      NA     NA NA   NA         NA     NA  NA   \n",
       "           ⋯ ZNF283 ZNF479  ZNF529 ZNF543 ZNF575  ZNF595  ZNF613 ZNF652 ZNF682\n",
       "HLA-A03:01 ⋯ NA          NA     NA     NA 18.2336  2.8489     NA     NA NA    \n",
       "HLA-A33:03 ⋯ NA          NA     NA     NA      NA      NA     NA     NA NA    \n",
       "HLA-A29:02 ⋯ NA          NA     NA     NA      NA      NA     NA     NA NA    \n",
       "HLA-A11:01 ⋯ NA          NA     NA     NA      NA  3.1732     NA     NA NA    \n",
       "HLA-A02:01 ⋯ NA          NA     NA 4.3014      NA      NA     NA 17.202 NA    \n",
       "HLA-A68:01 ⋯ NA          NA     NA     NA      NA      NA     NA     NA NA    \n",
       "HLA-A02:05 ⋯ NA          NA     NA     NA      NA      NA     NA     NA NA    \n",
       "HLA-A74:03 ⋯ NA          NA     NA     NA      NA      NA     NA     NA NA    \n",
       "HLA-A30:01 ⋯ NA          NA     NA     NA      NA 14.7619     NA     NA NA    \n",
       "HLA-A23:01 ⋯ NA          NA     NA     NA      NA      NA     NA     NA NA    \n",
       "HLA-A31:01 ⋯ NA          NA 0.8689     NA      NA      NA     NA     NA NA    \n",
       "HLA-A24:02 ⋯ NA          NA     NA     NA      NA      NA     NA     NA NA    \n",
       "HLA-A24:03 ⋯ NA          NA     NA     NA      NA      NA     NA     NA NA    \n",
       "HLA-A01:01 ⋯ NA     11.2051 1.7053     NA      NA      NA 12.473     NA NA    \n",
       "HLA-A66:01 ⋯ NA          NA     NA     NA 42.3998      NA     NA     NA NA    \n",
       "           ZRANB1 \n",
       "HLA-A03:01 13.4889\n",
       "HLA-A33:03      NA\n",
       "HLA-A29:02      NA\n",
       "HLA-A11:01      NA\n",
       "HLA-A02:01  2.1849\n",
       "HLA-A68:01      NA\n",
       "HLA-A02:05      NA\n",
       "HLA-A74:03      NA\n",
       "HLA-A30:01      NA\n",
       "HLA-A23:01      NA\n",
       "HLA-A31:01      NA\n",
       "HLA-A24:02      NA\n",
       "HLA-A24:03      NA\n",
       "HLA-A01:01      NA\n",
       "HLA-A66:01      NA"
      ]
     },
     "metadata": {},
     "output_type": "display_data"
    }
   ],
   "source": [
    "head(hla_mut_mat,15)"
   ]
  },
  {
   "cell_type": "code",
   "execution_count": null,
   "metadata": {},
   "outputs": [],
   "source": []
  },
  {
   "cell_type": "code",
   "execution_count": null,
   "metadata": {},
   "outputs": [],
   "source": []
  },
  {
   "cell_type": "code",
   "execution_count": null,
   "metadata": {},
   "outputs": [],
   "source": []
  }
 ],
 "metadata": {
  "kernelspec": {
   "display_name": "R 4.0",
   "language": "R",
   "name": "ir40"
  },
  "language_info": {
   "codemirror_mode": "r",
   "file_extension": ".r",
   "mimetype": "text/x-r-source",
   "name": "R",
   "pygments_lexer": "r",
   "version": "4.0.3"
  },
  "toc": {
   "base_numbering": 1,
   "nav_menu": {},
   "number_sections": false,
   "sideBar": true,
   "skip_h1_title": false,
   "title_cell": "Table of Contents",
   "title_sidebar": "Contents",
   "toc_cell": true,
   "toc_position": {
    "height": "calc(100% - 180px)",
    "left": "10px",
    "top": "150px",
    "width": "215.739px"
   },
   "toc_section_display": true,
   "toc_window_display": true
  }
 },
 "nbformat": 4,
 "nbformat_minor": 2
}
